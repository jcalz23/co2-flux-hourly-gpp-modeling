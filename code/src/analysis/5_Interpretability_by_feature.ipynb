{
 "cells": [
  {
   "cell_type": "markdown",
   "metadata": {
    "id": "XaXGMTqJr71d"
   },
   "source": [
    "# Notebook Setup"
   ]
  },
  {
   "cell_type": "code",
   "execution_count": 1,
   "metadata": {
    "colab": {
     "base_uri": "https://localhost:8080/"
    },
    "id": "CDKm-L00cbfQ",
    "outputId": "4242dc06-867f-45c9-ed2c-8317b451f74f",
    "tags": []
   },
   "outputs": [],
   "source": [
    "if 'google.colab' in str(get_ipython()):\n",
    "    IN_COLLAB = True\n",
    "else:\n",
    "    IN_COLLAB = False\n",
    "\n",
    "if IN_COLLAB:\n",
    "    #TODO: CHANGE THIS BASED ON YOUR OWN LOCAL SETTINGS\n",
    "    # MY_HOME_ABS_PATH = \"/content/drive/MyDrive/W210/co2-flux-hourly-gpp-modeling\"\n",
    "    MY_HOME_ABS_PATH = \"/content/drive/MyDrive/TFT_baseline\"\n",
    "    from google.colab import drive\n",
    "    drive.mount('/content/drive/')\n",
    "else:\n",
    "    # MY_HOME_ABS_PATH = \"/root/co2-flux-hourly-gpp-modeling/\"\n",
    "    MY_HOME_ABS_PATH = \"/home/ec2-user/SageMaker/co2-flux-hourly-gpp-modeling\""
   ]
  },
  {
   "cell_type": "markdown",
   "metadata": {
    "id": "y2bHb6TEy3_D"
   },
   "source": [
    "## Import Modules"
   ]
  },
  {
   "cell_type": "code",
   "execution_count": 2,
   "metadata": {
    "id": "eKthP2bscHFb",
    "tags": []
   },
   "outputs": [
    {
     "name": "stderr",
     "output_type": "stream",
     "text": [
      "2023-04-15 04:16:40.944676: I tensorflow/core/util/port.cc:110] oneDNN custom operations are on. You may see slightly different numerical results due to floating-point round-off errors from different computation orders. To turn them off, set the environment variable `TF_ENABLE_ONEDNN_OPTS=0`.\n",
      "2023-04-15 04:16:40.996203: I tensorflow/core/platform/cpu_feature_guard.cc:182] This TensorFlow binary is optimized to use available CPU instructions in performance-critical operations.\n",
      "To enable the following instructions: AVX2 AVX512F AVX512_VNNI FMA, in other operations, rebuild TensorFlow with the appropriate compiler flags.\n",
      "2023-04-15 04:16:41.674588: W tensorflow/compiler/tf2tensorrt/utils/py_utils.cc:38] TF-TRT Warning: Could not find TensorRT\n",
      "Global seed set to 42\n",
      "Global seed set to 42\n"
     ]
    },
    {
     "data": {
      "text/plain": [
       "42"
      ]
     },
     "execution_count": 2,
     "metadata": {},
     "output_type": "execute_result"
    }
   ],
   "source": [
    "import os\n",
    "os.chdir(MY_HOME_ABS_PATH)\n",
    "\n",
    "import sys\n",
    "import warnings\n",
    "warnings.filterwarnings(\"ignore\")\n",
    "import copy\n",
    "import json\n",
    "from pathlib import Path\n",
    "import numpy as np\n",
    "import pandas as pd\n",
    "import matplotlib.pyplot as plt\n",
    "import tensorflow as tf\n",
    "import pytorch_lightning as pl\n",
    "from pytorch_lightning.callbacks import Callback, EarlyStopping, LearningRateMonitor\n",
    "from pytorch_lightning.loggers import TensorBoardLogger\n",
    "import torch\n",
    "import torch.nn as nn\n",
    "\n",
    "from pytorch_forecasting import Baseline, TemporalFusionTransformer, TimeSeriesDataSet\n",
    "from pytorch_forecasting.data import GroupNormalizer\n",
    "from pytorch_forecasting.metrics import SMAPE, PoissonLoss, QuantileLoss\n",
    "from pytorch_forecasting.models.temporal_fusion_transformer.tuning import optimize_hyperparameters, MetricsCallback\n",
    "from pytorch_forecasting import BaseModel, MAE\n",
    "from pytorch_forecasting.metrics.point import RMSE\n",
    "from pytorch_forecasting.data.encoders import NaNLabelEncoder\n",
    "\n",
    "import optuna\n",
    "from optuna.integration import PyTorchLightningPruningCallback, TensorBoardCallback\n",
    "\n",
    "# from sklearn.metrics import r2_score\n",
    "from timeit import default_timer\n",
    "from datetime import datetime\n",
    "import gc\n",
    "import pickle\n",
    "\n",
    "\n",
    "# Load locale custome modules\n",
    "os.chdir(MY_HOME_ABS_PATH)\n",
    "if IN_COLLAB:\n",
    "     sys.path.insert(0,os.path.abspath(\"./code/src/tools\"))\n",
    "else:\n",
    "    sys.path.append('./.cred')\n",
    "    sys.path.append('./code/src/tools')\n",
    "    sys.path.append(os.path.abspath(\"./code/src/tools\"))\n",
    "\n",
    "from CloudIO.AzStorageClient import AzStorageClient\n",
    "from data_pipeline_lib import *\n",
    "from model_pipeline_lib_for_nbinstance import *\n",
    "\n",
    "pd.set_option('display.max_columns', None)\n",
    "pd.set_option('display.float_format', lambda x: '%.5f' % x)\n",
    "pl.seed_everything(42)"
   ]
  },
  {
   "cell_type": "code",
   "execution_count": 3,
   "metadata": {
    "id": "po3oZCf0YHTS",
    "tags": []
   },
   "outputs": [],
   "source": [
    "# data/models/tft_model_1yrtrain_tuning_230318_1906/trial_0/epoch=12.ckpt"
   ]
  },
  {
   "cell_type": "markdown",
   "metadata": {
    "id": "QEOCHI64ysC2"
   },
   "source": [
    "## Define Local File System Constants"
   ]
  },
  {
   "cell_type": "code",
   "execution_count": 4,
   "metadata": {
    "id": "H-AwqUa5sHYq",
    "tags": []
   },
   "outputs": [],
   "source": [
    "root_dir =  MY_HOME_ABS_PATH\n",
    "tmp_dir =  root_dir + os.sep + '.tmp'\n",
    "raw_data_dir = tmp_dir\n",
    "data_dir = root_dir + os.sep + 'data'\n",
    "cred_dir = root_dir + os.sep + '.cred'\n",
    "az_cred_file = cred_dir + os.sep + 'azblobcred.json'\n",
    "model_objects_dir = root_dir + os.sep + 'code/src/modeling/model_objects'"
   ]
  },
  {
   "cell_type": "markdown",
   "metadata": {
    "id": "ES9TafVQyVG7"
   },
   "source": [
    "# Load Train and Test dataset from Azure Storage Blob"
   ]
  },
  {
   "cell_type": "code",
   "execution_count": 5,
   "metadata": {
    "id": "Ndvl36VUIDjf",
    "tags": []
   },
   "outputs": [],
   "source": [
    "container = \"all-sites-data\"\n",
    "blob_name = \"full_2010_2015_v_mvp_raw.parquet\"\n",
    "\n",
    "local_file = tmp_dir + os.sep + blob_name"
   ]
  },
  {
   "cell_type": "code",
   "execution_count": 6,
   "metadata": {
    "colab": {
     "base_uri": "https://localhost:8080/"
    },
    "id": "4NbaewQW5FmP",
    "outputId": "88849a1b-b309-4610-eb6a-37dddd89d7b0",
    "tags": []
   },
   "outputs": [
    {
     "name": "stdout",
     "output_type": "stream",
     "text": [
      "Data size: (4862712, 51)\n",
      "Data Columns: Index(['GPP_NT_VUT_REF', 'site_id', 'timestep_idx_local',\n",
      "       'timestep_idx_global', 'datetime', 'date', 'year', 'month', 'day',\n",
      "       'hour', 'TA_ERA', 'SW_IN_ERA', 'LW_IN_ERA', 'VPD_ERA', 'P_ERA',\n",
      "       'PA_ERA', 'EVI', 'NDVI', 'NIRv', 'b1', 'b2', 'b3', 'b4', 'b5', 'b6',\n",
      "       'b7', 'IGBP', 'lat', 'long', 'koppen_sub', 'koppen_main', 'c3c4',\n",
      "       'c4_percent', 'BESS-PAR', 'BESS-PARdiff', 'BESS-RSDN', 'CSIF-SIFdaily',\n",
      "       'PET', 'Ts', 'ESACCI-sm', 'MODIS_LC', 'NDWI', 'Percent_Snow', 'Fpar',\n",
      "       'Lai', 'LST_Day', 'LST_Night', 'MODIS_IGBP', 'MODIS_PFT',\n",
      "       'gap_flag_hour', 'gap_flag_month'],\n",
      "      dtype='object')\n",
      "NA count: 0\n"
     ]
    }
   ],
   "source": [
    "# def get_raw_datasets(container, blob_name):\n",
    "local_file = tmp_dir + os.sep + blob_name\n",
    "data_df = None\n",
    "if not (os.path.exists(local_file)):\n",
    "    azStorageClient = AzStorageClient(az_cred_file)\n",
    "    file_stream = azStorageClient.downloadBlob2Stream(container, blob_name)\n",
    "    data_df = pd.read_parquet(file_stream, engine='pyarrow')\n",
    "    data_df.to_parquet(local_file)\n",
    "else:\n",
    "    data_df = pd.read_parquet(local_file)\n",
    "\n",
    "print(f\"Data size: {data_df.shape}\")\n",
    "\n",
    "# Convert Dtypes\n",
    "cat_cols = [\"year\", \"month\", \"day\", \"hour\", \"MODIS_IGBP\", \"koppen_main\", \"koppen_sub\", \n",
    "            \"gap_flag_month\", \"gap_flag_hour\"]\n",
    "for col in cat_cols:\n",
    "    data_df[col] = data_df[col].astype(str).astype(\"category\")\n",
    "\n",
    "print(f\"Data Columns: {data_df.columns}\")\n",
    "print(f\"NA count: {data_df.isna().sum().sum()}\")\n",
    "# return data_df"
   ]
  },
  {
   "cell_type": "markdown",
   "metadata": {
    "id": "wykVH3bQ5q5c"
   },
   "source": [
    "# Load Three Best Models As of April 8"
   ]
  },
  {
   "cell_type": "code",
   "execution_count": 7,
   "metadata": {
    "id": "0lv2uWyK65Fe",
    "tags": []
   },
   "outputs": [],
   "source": [
    "best_model_path_GPP = f\"{MY_HOME_ABS_PATH}/data/models/GPPTFT_5yrTrain_2WkEncode_230410_2310/lightning_logs/version_1/checkpoints/epoch=9-step=74795.ckpt\""
   ]
  },
  {
   "cell_type": "code",
   "execution_count": 8,
   "metadata": {
    "colab": {
     "base_uri": "https://localhost:8080/"
    },
    "id": "9pNc2uCc8LM_",
    "outputId": "956bddcd-3ac7-4ef8-9cfa-41232990af89",
    "tags": []
   },
   "outputs": [
    {
     "name": "stdout",
     "output_type": "stream",
     "text": [
      "Quantiles: [0.02, 0.1, 0.25, 0.5, 0.75, 0.9, 0.98]\n"
     ]
    }
   ],
   "source": [
    "best_GPP = TemporalFusionTransformer.load_from_checkpoint(best_model_path_GPP)\n",
    "print(f\"Quantiles: {best_GPP.loss.quantiles}\") # [0.02, 0.1, 0.25, 0.5, 0.75, 0.9, 0.98]"
   ]
  },
  {
   "cell_type": "markdown",
   "metadata": {
    "id": "5XgaS3fbhbtw"
   },
   "source": [
    "# Make prediction for three best models"
   ]
  },
  {
   "cell_type": "code",
   "execution_count": 10,
   "metadata": {
    "tags": []
   },
   "outputs": [
    {
     "name": "stdout",
     "output_type": "stream",
     "text": [
      "Quantiles: [0.02, 0.1, 0.25, 0.5, 0.75, 0.9, 0.98]\n",
      "Training timestemp length = 43800.\n"
     ]
    }
   ],
   "source": [
    "exp_model_dir = \"{MY_HOME_ABS_PATH}/data/models/GPPTFT_5yrTrain_2WkEncode_230410_2310\" # TODO: Replace to your model dir\n",
    "best_model_path = \"./data/models/GPPTFT_5yrTrain_2WkEncode_230410_2310/lightning_logs/version_1/checkpoints/epoch=9-step=74795.ckpt\"\n",
    "best_tft = TemporalFusionTransformer.load_from_checkpoint(best_model_path)\n",
    "print(f\"Quantiles: {best_tft.loss.quantiles}\") # [0.02, 0.1, 0.25, 0.5, 0.75, 0.9, 0.98]\n",
    "\n",
    "# Experiment constants\n",
    "VAL_INDEX  = 3\n",
    "TEST_INDEX = 4\n",
    "SUBSET_LEN = 24*365*5 # 5 year\n",
    "ENCODER_LEN = 24*14\n",
    "print(f\"Training timestemp length = {SUBSET_LEN}.\")\n",
    "\n",
    "# Create dataloaders for model\n",
    "batch_size = 128\n",
    "cpu_count = os.cpu_count()"
   ]
  },
  {
   "cell_type": "markdown",
   "metadata": {
    "id": "QHo9qK7QVjji"
   },
   "source": [
    "## Create TS Dataset"
   ]
  },
  {
   "cell_type": "code",
   "execution_count": null,
   "metadata": {
    "colab": {
     "base_uri": "https://localhost:8080/"
    },
    "id": "JOb1ai2OUeZ1",
    "outputId": "af267527-240a-4afd-abb3-ee95ee5dba61",
    "tags": []
   },
   "outputs": [],
   "source": [
    "# Setup dataset\n",
    "train_df, val_df, test_df = get_splited_datasets(data_df, VAL_INDEX, TEST_INDEX)\n",
    "train_df, val_df, test_df = subset_data(train_df, val_df, test_df, SUBSET_LEN)"
   ]
  },
  {
   "cell_type": "markdown",
   "metadata": {},
   "source": [
    "# Decide sites in use"
   ]
  },
  {
   "cell_type": "code",
   "execution_count": 16,
   "metadata": {
    "tags": []
   },
   "outputs": [
    {
     "data": {
      "text/html": [
       "<div>\n",
       "<style scoped>\n",
       "    .dataframe tbody tr th:only-of-type {\n",
       "        vertical-align: middle;\n",
       "    }\n",
       "\n",
       "    .dataframe tbody tr th {\n",
       "        vertical-align: top;\n",
       "    }\n",
       "\n",
       "    .dataframe thead th {\n",
       "        text-align: right;\n",
       "    }\n",
       "</style>\n",
       "<table border=\"1\" class=\"dataframe\">\n",
       "  <thead>\n",
       "    <tr style=\"text-align: right;\">\n",
       "      <th></th>\n",
       "      <th>GPP_NT_VUT_REF</th>\n",
       "      <th>site_id</th>\n",
       "      <th>timestep_idx_local</th>\n",
       "      <th>timestep_idx_global</th>\n",
       "      <th>datetime</th>\n",
       "      <th>date</th>\n",
       "      <th>year</th>\n",
       "      <th>month</th>\n",
       "      <th>day</th>\n",
       "      <th>hour</th>\n",
       "      <th>TA_ERA</th>\n",
       "      <th>SW_IN_ERA</th>\n",
       "      <th>LW_IN_ERA</th>\n",
       "      <th>VPD_ERA</th>\n",
       "      <th>P_ERA</th>\n",
       "      <th>PA_ERA</th>\n",
       "      <th>EVI</th>\n",
       "      <th>NDVI</th>\n",
       "      <th>NIRv</th>\n",
       "      <th>b1</th>\n",
       "      <th>b2</th>\n",
       "      <th>b3</th>\n",
       "      <th>b4</th>\n",
       "      <th>b5</th>\n",
       "      <th>b6</th>\n",
       "      <th>b7</th>\n",
       "      <th>IGBP</th>\n",
       "      <th>lat</th>\n",
       "      <th>long</th>\n",
       "      <th>koppen_sub</th>\n",
       "      <th>koppen_main</th>\n",
       "      <th>c3c4</th>\n",
       "      <th>c4_percent</th>\n",
       "      <th>BESS-PAR</th>\n",
       "      <th>BESS-PARdiff</th>\n",
       "      <th>BESS-RSDN</th>\n",
       "      <th>CSIF-SIFdaily</th>\n",
       "      <th>PET</th>\n",
       "      <th>Ts</th>\n",
       "      <th>ESACCI-sm</th>\n",
       "      <th>MODIS_LC</th>\n",
       "      <th>NDWI</th>\n",
       "      <th>Percent_Snow</th>\n",
       "      <th>Fpar</th>\n",
       "      <th>Lai</th>\n",
       "      <th>LST_Day</th>\n",
       "      <th>LST_Night</th>\n",
       "      <th>MODIS_IGBP</th>\n",
       "      <th>MODIS_PFT</th>\n",
       "      <th>gap_flag_hour</th>\n",
       "      <th>gap_flag_month</th>\n",
       "    </tr>\n",
       "  </thead>\n",
       "  <tbody>\n",
       "    <tr>\n",
       "      <th>153528</th>\n",
       "      <td>-0.46940</td>\n",
       "      <td>AU-DaP</td>\n",
       "      <td>0</td>\n",
       "      <td>350640</td>\n",
       "      <td>2010-01-01 00:00:00</td>\n",
       "      <td>2010-01-01</td>\n",
       "      <td>2010</td>\n",
       "      <td>1</td>\n",
       "      <td>1</td>\n",
       "      <td>0</td>\n",
       "      <td>24.47000</td>\n",
       "      <td>0.00000</td>\n",
       "      <td>416.09000</td>\n",
       "      <td>2.21000</td>\n",
       "      <td>0.00000</td>\n",
       "      <td>99.83900</td>\n",
       "      <td>0.56131</td>\n",
       "      <td>0.74435</td>\n",
       "      <td>0.31742</td>\n",
       "      <td>0.05892</td>\n",
       "      <td>0.41990</td>\n",
       "      <td>0.02462</td>\n",
       "      <td>0.09036</td>\n",
       "      <td>0.41006</td>\n",
       "      <td>0.28214</td>\n",
       "      <td>0.12812</td>\n",
       "      <td>GRA</td>\n",
       "      <td>-14.06330</td>\n",
       "      <td>131.31810</td>\n",
       "      <td>3</td>\n",
       "      <td>1</td>\n",
       "      <td>C3</td>\n",
       "      <td>97.83000</td>\n",
       "      <td>116.00000</td>\n",
       "      <td>63.00000</td>\n",
       "      <td>231.00000</td>\n",
       "      <td>0.46453</td>\n",
       "      <td>-0.00719</td>\n",
       "      <td>301.48530</td>\n",
       "      <td>0.29788</td>\n",
       "      <td>10</td>\n",
       "      <td>0.08345</td>\n",
       "      <td>0.00000</td>\n",
       "      <td>0.59000</td>\n",
       "      <td>2.00000</td>\n",
       "      <td>309.50000</td>\n",
       "      <td>297.52000</td>\n",
       "      <td>GRA</td>\n",
       "      <td>GRA</td>\n",
       "      <td>0.0</td>\n",
       "      <td>0.0</td>\n",
       "    </tr>\n",
       "    <tr>\n",
       "      <th>153529</th>\n",
       "      <td>-0.44756</td>\n",
       "      <td>AU-DaP</td>\n",
       "      <td>1</td>\n",
       "      <td>350641</td>\n",
       "      <td>2010-01-01 01:00:00</td>\n",
       "      <td>2010-01-01</td>\n",
       "      <td>2010</td>\n",
       "      <td>1</td>\n",
       "      <td>1</td>\n",
       "      <td>1</td>\n",
       "      <td>23.79100</td>\n",
       "      <td>0.00000</td>\n",
       "      <td>409.45000</td>\n",
       "      <td>1.01800</td>\n",
       "      <td>0.00000</td>\n",
       "      <td>99.81200</td>\n",
       "      <td>0.51946</td>\n",
       "      <td>0.71901</td>\n",
       "      <td>0.28217</td>\n",
       "      <td>0.06444</td>\n",
       "      <td>0.39286</td>\n",
       "      <td>0.02698</td>\n",
       "      <td>0.08792</td>\n",
       "      <td>0.41804</td>\n",
       "      <td>0.30312</td>\n",
       "      <td>0.13154</td>\n",
       "      <td>GRA</td>\n",
       "      <td>-14.06330</td>\n",
       "      <td>131.31810</td>\n",
       "      <td>3</td>\n",
       "      <td>1</td>\n",
       "      <td>C3</td>\n",
       "      <td>97.83000</td>\n",
       "      <td>116.00000</td>\n",
       "      <td>63.00000</td>\n",
       "      <td>231.00000</td>\n",
       "      <td>0.46453</td>\n",
       "      <td>-0.00719</td>\n",
       "      <td>301.48530</td>\n",
       "      <td>0.29788</td>\n",
       "      <td>10</td>\n",
       "      <td>0.08345</td>\n",
       "      <td>0.00000</td>\n",
       "      <td>0.59000</td>\n",
       "      <td>2.00000</td>\n",
       "      <td>309.50000</td>\n",
       "      <td>297.52000</td>\n",
       "      <td>GRA</td>\n",
       "      <td>GRA</td>\n",
       "      <td>0.0</td>\n",
       "      <td>0.0</td>\n",
       "    </tr>\n",
       "    <tr>\n",
       "      <th>153530</th>\n",
       "      <td>-0.43325</td>\n",
       "      <td>AU-DaP</td>\n",
       "      <td>2</td>\n",
       "      <td>350642</td>\n",
       "      <td>2010-01-01 02:00:00</td>\n",
       "      <td>2010-01-01</td>\n",
       "      <td>2010</td>\n",
       "      <td>1</td>\n",
       "      <td>1</td>\n",
       "      <td>2</td>\n",
       "      <td>23.45600</td>\n",
       "      <td>0.00000</td>\n",
       "      <td>409.45000</td>\n",
       "      <td>0.80100</td>\n",
       "      <td>0.00000</td>\n",
       "      <td>99.76000</td>\n",
       "      <td>0.58092</td>\n",
       "      <td>0.74910</td>\n",
       "      <td>0.33465</td>\n",
       "      <td>0.06188</td>\n",
       "      <td>0.44276</td>\n",
       "      <td>0.02548</td>\n",
       "      <td>0.09302</td>\n",
       "      <td>0.41848</td>\n",
       "      <td>0.29022</td>\n",
       "      <td>0.12242</td>\n",
       "      <td>GRA</td>\n",
       "      <td>-14.06330</td>\n",
       "      <td>131.31810</td>\n",
       "      <td>3</td>\n",
       "      <td>1</td>\n",
       "      <td>C3</td>\n",
       "      <td>97.83000</td>\n",
       "      <td>116.00000</td>\n",
       "      <td>63.00000</td>\n",
       "      <td>231.00000</td>\n",
       "      <td>0.46453</td>\n",
       "      <td>-0.00719</td>\n",
       "      <td>301.48530</td>\n",
       "      <td>0.29788</td>\n",
       "      <td>10</td>\n",
       "      <td>0.08345</td>\n",
       "      <td>0.00000</td>\n",
       "      <td>0.59000</td>\n",
       "      <td>2.00000</td>\n",
       "      <td>309.50000</td>\n",
       "      <td>297.52000</td>\n",
       "      <td>GRA</td>\n",
       "      <td>GRA</td>\n",
       "      <td>0.0</td>\n",
       "      <td>0.0</td>\n",
       "    </tr>\n",
       "    <tr>\n",
       "      <th>153531</th>\n",
       "      <td>-0.40639</td>\n",
       "      <td>AU-DaP</td>\n",
       "      <td>3</td>\n",
       "      <td>350643</td>\n",
       "      <td>2010-01-01 03:00:00</td>\n",
       "      <td>2010-01-01</td>\n",
       "      <td>2010</td>\n",
       "      <td>1</td>\n",
       "      <td>1</td>\n",
       "      <td>3</td>\n",
       "      <td>23.12200</td>\n",
       "      <td>0.00000</td>\n",
       "      <td>409.45000</td>\n",
       "      <td>0.58400</td>\n",
       "      <td>0.00000</td>\n",
       "      <td>99.70800</td>\n",
       "      <td>0.64758</td>\n",
       "      <td>0.77458</td>\n",
       "      <td>0.38791</td>\n",
       "      <td>0.06068</td>\n",
       "      <td>0.49500</td>\n",
       "      <td>0.02542</td>\n",
       "      <td>0.09588</td>\n",
       "      <td>0.43856</td>\n",
       "      <td>0.29074</td>\n",
       "      <td>0.11474</td>\n",
       "      <td>GRA</td>\n",
       "      <td>-14.06330</td>\n",
       "      <td>131.31810</td>\n",
       "      <td>3</td>\n",
       "      <td>1</td>\n",
       "      <td>C3</td>\n",
       "      <td>97.83000</td>\n",
       "      <td>116.00000</td>\n",
       "      <td>63.00000</td>\n",
       "      <td>231.00000</td>\n",
       "      <td>0.46453</td>\n",
       "      <td>-0.00719</td>\n",
       "      <td>301.48530</td>\n",
       "      <td>0.29788</td>\n",
       "      <td>10</td>\n",
       "      <td>0.08345</td>\n",
       "      <td>0.00000</td>\n",
       "      <td>0.59000</td>\n",
       "      <td>2.00000</td>\n",
       "      <td>309.50000</td>\n",
       "      <td>297.52000</td>\n",
       "      <td>GRA</td>\n",
       "      <td>GRA</td>\n",
       "      <td>0.0</td>\n",
       "      <td>0.0</td>\n",
       "    </tr>\n",
       "    <tr>\n",
       "      <th>153532</th>\n",
       "      <td>-0.39665</td>\n",
       "      <td>AU-DaP</td>\n",
       "      <td>4</td>\n",
       "      <td>350644</td>\n",
       "      <td>2010-01-01 04:00:00</td>\n",
       "      <td>2010-01-01</td>\n",
       "      <td>2010</td>\n",
       "      <td>1</td>\n",
       "      <td>1</td>\n",
       "      <td>4</td>\n",
       "      <td>22.79400</td>\n",
       "      <td>0.00000</td>\n",
       "      <td>400.83300</td>\n",
       "      <td>0.40800</td>\n",
       "      <td>0.00000</td>\n",
       "      <td>99.69300</td>\n",
       "      <td>0.67512</td>\n",
       "      <td>0.79451</td>\n",
       "      <td>0.40270</td>\n",
       "      <td>0.05670</td>\n",
       "      <td>0.50416</td>\n",
       "      <td>0.02536</td>\n",
       "      <td>0.09438</td>\n",
       "      <td>0.45466</td>\n",
       "      <td>0.27622</td>\n",
       "      <td>0.10274</td>\n",
       "      <td>GRA</td>\n",
       "      <td>-14.06330</td>\n",
       "      <td>131.31810</td>\n",
       "      <td>3</td>\n",
       "      <td>1</td>\n",
       "      <td>C3</td>\n",
       "      <td>97.83000</td>\n",
       "      <td>116.00000</td>\n",
       "      <td>63.00000</td>\n",
       "      <td>231.00000</td>\n",
       "      <td>0.46453</td>\n",
       "      <td>-0.00719</td>\n",
       "      <td>301.48530</td>\n",
       "      <td>0.29788</td>\n",
       "      <td>10</td>\n",
       "      <td>0.08345</td>\n",
       "      <td>0.00000</td>\n",
       "      <td>0.59000</td>\n",
       "      <td>2.00000</td>\n",
       "      <td>309.50000</td>\n",
       "      <td>297.52000</td>\n",
       "      <td>GRA</td>\n",
       "      <td>GRA</td>\n",
       "      <td>0.0</td>\n",
       "      <td>0.0</td>\n",
       "    </tr>\n",
       "  </tbody>\n",
       "</table>\n",
       "</div>"
      ],
      "text/plain": [
       "        GPP_NT_VUT_REF site_id  timestep_idx_local  timestep_idx_global  \\\n",
       "153528        -0.46940  AU-DaP                   0               350640   \n",
       "153529        -0.44756  AU-DaP                   1               350641   \n",
       "153530        -0.43325  AU-DaP                   2               350642   \n",
       "153531        -0.40639  AU-DaP                   3               350643   \n",
       "153532        -0.39665  AU-DaP                   4               350644   \n",
       "\n",
       "                  datetime        date  year month day hour   TA_ERA  \\\n",
       "153528 2010-01-01 00:00:00  2010-01-01  2010     1   1    0 24.47000   \n",
       "153529 2010-01-01 01:00:00  2010-01-01  2010     1   1    1 23.79100   \n",
       "153530 2010-01-01 02:00:00  2010-01-01  2010     1   1    2 23.45600   \n",
       "153531 2010-01-01 03:00:00  2010-01-01  2010     1   1    3 23.12200   \n",
       "153532 2010-01-01 04:00:00  2010-01-01  2010     1   1    4 22.79400   \n",
       "\n",
       "        SW_IN_ERA  LW_IN_ERA  VPD_ERA   P_ERA   PA_ERA     EVI    NDVI  \\\n",
       "153528    0.00000  416.09000  2.21000 0.00000 99.83900 0.56131 0.74435   \n",
       "153529    0.00000  409.45000  1.01800 0.00000 99.81200 0.51946 0.71901   \n",
       "153530    0.00000  409.45000  0.80100 0.00000 99.76000 0.58092 0.74910   \n",
       "153531    0.00000  409.45000  0.58400 0.00000 99.70800 0.64758 0.77458   \n",
       "153532    0.00000  400.83300  0.40800 0.00000 99.69300 0.67512 0.79451   \n",
       "\n",
       "          NIRv      b1      b2      b3      b4      b5      b6      b7 IGBP  \\\n",
       "153528 0.31742 0.05892 0.41990 0.02462 0.09036 0.41006 0.28214 0.12812  GRA   \n",
       "153529 0.28217 0.06444 0.39286 0.02698 0.08792 0.41804 0.30312 0.13154  GRA   \n",
       "153530 0.33465 0.06188 0.44276 0.02548 0.09302 0.41848 0.29022 0.12242  GRA   \n",
       "153531 0.38791 0.06068 0.49500 0.02542 0.09588 0.43856 0.29074 0.11474  GRA   \n",
       "153532 0.40270 0.05670 0.50416 0.02536 0.09438 0.45466 0.27622 0.10274  GRA   \n",
       "\n",
       "             lat      long koppen_sub koppen_main c3c4  c4_percent  BESS-PAR  \\\n",
       "153528 -14.06330 131.31810          3           1   C3    97.83000 116.00000   \n",
       "153529 -14.06330 131.31810          3           1   C3    97.83000 116.00000   \n",
       "153530 -14.06330 131.31810          3           1   C3    97.83000 116.00000   \n",
       "153531 -14.06330 131.31810          3           1   C3    97.83000 116.00000   \n",
       "153532 -14.06330 131.31810          3           1   C3    97.83000 116.00000   \n",
       "\n",
       "        BESS-PARdiff  BESS-RSDN  CSIF-SIFdaily      PET        Ts  ESACCI-sm  \\\n",
       "153528      63.00000  231.00000        0.46453 -0.00719 301.48530    0.29788   \n",
       "153529      63.00000  231.00000        0.46453 -0.00719 301.48530    0.29788   \n",
       "153530      63.00000  231.00000        0.46453 -0.00719 301.48530    0.29788   \n",
       "153531      63.00000  231.00000        0.46453 -0.00719 301.48530    0.29788   \n",
       "153532      63.00000  231.00000        0.46453 -0.00719 301.48530    0.29788   \n",
       "\n",
       "        MODIS_LC    NDWI  Percent_Snow    Fpar     Lai   LST_Day  LST_Night  \\\n",
       "153528        10 0.08345       0.00000 0.59000 2.00000 309.50000  297.52000   \n",
       "153529        10 0.08345       0.00000 0.59000 2.00000 309.50000  297.52000   \n",
       "153530        10 0.08345       0.00000 0.59000 2.00000 309.50000  297.52000   \n",
       "153531        10 0.08345       0.00000 0.59000 2.00000 309.50000  297.52000   \n",
       "153532        10 0.08345       0.00000 0.59000 2.00000 309.50000  297.52000   \n",
       "\n",
       "       MODIS_IGBP MODIS_PFT gap_flag_hour gap_flag_month  \n",
       "153528        GRA       GRA           0.0            0.0  \n",
       "153529        GRA       GRA           0.0            0.0  \n",
       "153530        GRA       GRA           0.0            0.0  \n",
       "153531        GRA       GRA           0.0            0.0  \n",
       "153532        GRA       GRA           0.0            0.0  "
      ]
     },
     "execution_count": 16,
     "metadata": {},
     "output_type": "execute_result"
    }
   ],
   "source": [
    "val_df.head()"
   ]
  },
  {
   "cell_type": "code",
   "execution_count": 17,
   "metadata": {
    "tags": []
   },
   "outputs": [],
   "source": [
    "site_list = val_df[\"site_id\"].unique()"
   ]
  },
  {
   "cell_type": "code",
   "execution_count": 18,
   "metadata": {
    "tags": []
   },
   "outputs": [
    {
     "data": {
      "text/html": [
       "<div>\n",
       "<style scoped>\n",
       "    .dataframe tbody tr th:only-of-type {\n",
       "        vertical-align: middle;\n",
       "    }\n",
       "\n",
       "    .dataframe tbody tr th {\n",
       "        vertical-align: top;\n",
       "    }\n",
       "\n",
       "    .dataframe thead th {\n",
       "        text-align: right;\n",
       "    }\n",
       "</style>\n",
       "<table border=\"1\" class=\"dataframe\">\n",
       "  <thead>\n",
       "    <tr style=\"text-align: right;\">\n",
       "      <th></th>\n",
       "      <th>site_id</th>\n",
       "      <th>MODIS_IGBP</th>\n",
       "    </tr>\n",
       "  </thead>\n",
       "  <tbody>\n",
       "    <tr>\n",
       "      <th>0</th>\n",
       "      <td>AU-DaP</td>\n",
       "      <td>GRA</td>\n",
       "    </tr>\n",
       "    <tr>\n",
       "      <th>1</th>\n",
       "      <td>AU-Emr</td>\n",
       "      <td>GRA</td>\n",
       "    </tr>\n",
       "    <tr>\n",
       "      <th>2</th>\n",
       "      <td>AU-Gin</td>\n",
       "      <td>SAV</td>\n",
       "    </tr>\n",
       "    <tr>\n",
       "      <th>3</th>\n",
       "      <td>AU-How</td>\n",
       "      <td>SAV</td>\n",
       "    </tr>\n",
       "    <tr>\n",
       "      <th>4</th>\n",
       "      <td>AU-Rig</td>\n",
       "      <td>GRA</td>\n",
       "    </tr>\n",
       "    <tr>\n",
       "      <th>5</th>\n",
       "      <td>CA-Ca1</td>\n",
       "      <td>ENF</td>\n",
       "    </tr>\n",
       "    <tr>\n",
       "      <th>6</th>\n",
       "      <td>CA-Gro</td>\n",
       "      <td>MF</td>\n",
       "    </tr>\n",
       "    <tr>\n",
       "      <th>7</th>\n",
       "      <td>CH-Fru</td>\n",
       "      <td>MF</td>\n",
       "    </tr>\n",
       "    <tr>\n",
       "      <th>8</th>\n",
       "      <td>CH-Oe2</td>\n",
       "      <td>CRO</td>\n",
       "    </tr>\n",
       "    <tr>\n",
       "      <th>9</th>\n",
       "      <td>DE-Hai</td>\n",
       "      <td>DBF</td>\n",
       "    </tr>\n",
       "    <tr>\n",
       "      <th>10</th>\n",
       "      <td>DK-Sor</td>\n",
       "      <td>CRO</td>\n",
       "    </tr>\n",
       "    <tr>\n",
       "      <th>11</th>\n",
       "      <td>FI-Hyy</td>\n",
       "      <td>ENF</td>\n",
       "    </tr>\n",
       "    <tr>\n",
       "      <th>12</th>\n",
       "      <td>FR-Aur</td>\n",
       "      <td>CRO</td>\n",
       "    </tr>\n",
       "    <tr>\n",
       "      <th>13</th>\n",
       "      <td>FR-Hes</td>\n",
       "      <td>SAV</td>\n",
       "    </tr>\n",
       "    <tr>\n",
       "      <th>14</th>\n",
       "      <td>GF-Guy</td>\n",
       "      <td>EBF</td>\n",
       "    </tr>\n",
       "    <tr>\n",
       "      <th>15</th>\n",
       "      <td>IT-SR2</td>\n",
       "      <td>WAT</td>\n",
       "    </tr>\n",
       "    <tr>\n",
       "      <th>16</th>\n",
       "      <td>NL-Loo</td>\n",
       "      <td>SAV</td>\n",
       "    </tr>\n",
       "    <tr>\n",
       "      <th>17</th>\n",
       "      <td>SE-Deg</td>\n",
       "      <td>WSA</td>\n",
       "    </tr>\n",
       "    <tr>\n",
       "      <th>18</th>\n",
       "      <td>SE-Nor</td>\n",
       "      <td>ENF</td>\n",
       "    </tr>\n",
       "    <tr>\n",
       "      <th>19</th>\n",
       "      <td>US-AR1</td>\n",
       "      <td>GRA</td>\n",
       "    </tr>\n",
       "    <tr>\n",
       "      <th>20</th>\n",
       "      <td>US-Bar</td>\n",
       "      <td>DBF</td>\n",
       "    </tr>\n",
       "    <tr>\n",
       "      <th>21</th>\n",
       "      <td>US-GLE</td>\n",
       "      <td>GRA</td>\n",
       "    </tr>\n",
       "    <tr>\n",
       "      <th>22</th>\n",
       "      <td>US-Mpj</td>\n",
       "      <td>GRA</td>\n",
       "    </tr>\n",
       "    <tr>\n",
       "      <th>23</th>\n",
       "      <td>US-NR1</td>\n",
       "      <td>WSA</td>\n",
       "    </tr>\n",
       "    <tr>\n",
       "      <th>24</th>\n",
       "      <td>US-Ses</td>\n",
       "      <td>OSH</td>\n",
       "    </tr>\n",
       "    <tr>\n",
       "      <th>25</th>\n",
       "      <td>US-Twt</td>\n",
       "      <td>CRO</td>\n",
       "    </tr>\n",
       "  </tbody>\n",
       "</table>\n",
       "</div>"
      ],
      "text/plain": [
       "   site_id MODIS_IGBP\n",
       "0   AU-DaP        GRA\n",
       "1   AU-Emr        GRA\n",
       "2   AU-Gin        SAV\n",
       "3   AU-How        SAV\n",
       "4   AU-Rig        GRA\n",
       "5   CA-Ca1        ENF\n",
       "6   CA-Gro         MF\n",
       "7   CH-Fru         MF\n",
       "8   CH-Oe2        CRO\n",
       "9   DE-Hai        DBF\n",
       "10  DK-Sor        CRO\n",
       "11  FI-Hyy        ENF\n",
       "12  FR-Aur        CRO\n",
       "13  FR-Hes        SAV\n",
       "14  GF-Guy        EBF\n",
       "15  IT-SR2        WAT\n",
       "16  NL-Loo        SAV\n",
       "17  SE-Deg        WSA\n",
       "18  SE-Nor        ENF\n",
       "19  US-AR1        GRA\n",
       "20  US-Bar        DBF\n",
       "21  US-GLE        GRA\n",
       "22  US-Mpj        GRA\n",
       "23  US-NR1        WSA\n",
       "24  US-Ses        OSH\n",
       "25  US-Twt        CRO"
      ]
     },
     "execution_count": 18,
     "metadata": {},
     "output_type": "execute_result"
    }
   ],
   "source": [
    "val_df[['site_id','MODIS_IGBP']].drop_duplicates().reset_index(drop=True)"
   ]
  },
  {
   "cell_type": "code",
   "execution_count": 19,
   "metadata": {
    "tags": []
   },
   "outputs": [],
   "source": [
    "# AU-DaP\tGrassLand GRA\n",
    "\n",
    "# NL-Loo\tSAV\tSAV Savanna\n",
    "# US-Ses\tOSH Open Shrublands\n",
    "# CA-Gro\tMF Mixed Forest\n",
    "# US-Bar\tDBF \n",
    "# FI-Hyy\tENF Evergreen Needleleaf Forest\n",
    "# FR_Aur\tCRO Cropland"
   ]
  },
  {
   "cell_type": "code",
   "execution_count": 20,
   "metadata": {
    "tags": []
   },
   "outputs": [
    {
     "name": "stdout",
     "output_type": "stream",
     "text": [
      "(32304, 51)\n"
     ]
    }
   ],
   "source": [
    "val_AU_DaP_df = val_df[val_df[\"site_id\"] == \"AU-DaP\"]\n",
    "# val_NL_Loo_df = val_df[val_df[\"site_id\"] == \"NL-Loo\"]\n",
    "# val_US_Ses_df = val_df[val_df[\"site_id\"] == \"US-Ses\"]\n",
    "# val_CA_Gro_df = val_df[val_df[\"site_id\"] == \"CA-Gro\"]\n",
    "# val_US_Bar_df = val_df[val_df[\"site_id\"] == \"US-Bar\"]\n",
    "# val_FI_Hyy_df = val_df[val_df[\"site_id\"] == \"FI-Hyy\"]\n",
    "# val_FR_Aur_df = val_df[val_df[\"site_id\"] == \"FR-Aur\"]\n",
    "\n",
    "\n",
    "print(val_AU_DaP_df.shape)\n",
    "# print(val_NL_Loo_df.shape)\n",
    "# print(val_US_Ses_df.shape)\n",
    "# print(val_CA_Gro_df.shape)\n",
    "# print(val_US_Bar_df.shape)\n",
    "# print(val_FI_Hyy_df.shape)\n",
    "# print(val_FR_Aur_df.shape)\n"
   ]
  },
  {
   "cell_type": "markdown",
   "metadata": {},
   "source": [
    "# Convert to TS dataset"
   ]
  },
  {
   "cell_type": "code",
   "execution_count": 21,
   "metadata": {
    "tags": []
   },
   "outputs": [],
   "source": [
    "min_encoder_len = ENCODER_LEN\n",
    "\n",
    "training = TimeSeriesDataSet(\n",
    "      train_df,\n",
    "      time_idx=\"timestep_idx_global\",\n",
    "      target=\"GPP_NT_VUT_REF\",\n",
    "      group_ids=[\"site_id\"],\n",
    "      allow_missing_timesteps=False, # <---- turned on bc some rows are removed.\n",
    "      min_encoder_length=min_encoder_len,\n",
    "      max_encoder_length=min_encoder_len,\n",
    "      min_prediction_length=1,\n",
    "      max_prediction_length=1,\n",
    "      static_categoricals=[\"MODIS_IGBP\",\"koppen_main\",\"koppen_sub\"],\n",
    "      static_reals=[],\n",
    "      time_varying_known_categoricals=[\"month\", \"day\", \"hour\"],\n",
    "      time_varying_known_reals=[\"timestep_idx_global\", \n",
    "                                'TA_ERA', 'SW_IN_ERA', 'LW_IN_ERA', 'VPD_ERA', 'P_ERA', 'PA_ERA',\n",
    "                                'EVI', 'NDVI', 'NIRv', 'b1', 'b2', 'b3', 'b4', 'b5', 'b6', 'b7', \n",
    "                                'BESS-PAR', 'BESS-PARdiff', 'BESS-RSDN', 'CSIF-SIFdaily', 'PET', 'Ts', \n",
    "                                'ESACCI-sm', 'NDWI', 'Percent_Snow', 'Fpar', 'Lai', 'LST_Day','LST_Night'],\n",
    "      time_varying_unknown_categoricals=[\"gap_flag_month\", \"gap_flag_hour\"], \n",
    "      time_varying_unknown_reals=[\"GPP_NT_VUT_REF\"],\n",
    "      target_normalizer=None,\n",
    "      categorical_encoders={'MODIS_IGBP': NaNLabelEncoder(add_nan=True),\n",
    "                            'koppen_main': NaNLabelEncoder(add_nan=True),\n",
    "                            'koppen_sub': NaNLabelEncoder(add_nan=True),\n",
    "                            'year': NaNLabelEncoder(add_nan=True),\n",
    "                            },\n",
    "      add_relative_time_idx=True,\n",
    "      add_target_scales=False, # <------- turned off\n",
    "      add_encoder_length=False, # <------- turned off\n",
    "    )"
   ]
  },
  {
   "cell_type": "code",
   "execution_count": 22,
   "metadata": {
    "tags": []
   },
   "outputs": [],
   "source": [
    "# validation = TimeSeriesDataSet.from_dataset(training, val_df, predict=False, stop_randomization=True)\n",
    "\n",
    "val_AU_DaP = TimeSeriesDataSet.from_dataset(training, val_AU_DaP_df, predict=False, stop_randomization=True)\n",
    "# val_NL_Loo = TimeSeriesDataSet.from_dataset(training, val_NL_Loo_df, predict=False, stop_randomization=True)\n",
    "# val_US_Ses = TimeSeriesDataSet.from_dataset(training, val_US_Ses_df, predict=False, stop_randomization=True)\n",
    "# val_CA_Gro = TimeSeriesDataSet.from_dataset(training, val_CA_Gro_df, predict=False, stop_randomization=True)\n",
    "# val_US_Bar = TimeSeriesDataSet.from_dataset(training, val_US_Bar_df, predict=False, stop_randomization=True)\n",
    "# val_FI_Hyy = TimeSeriesDataSet.from_dataset(training, val_FI_Hyy_df, predict=False, stop_randomization=True)\n",
    "# val_FR_Aur = TimeSeriesDataSet.from_dataset(training, val_FR_Aur_df, predict=False, stop_randomization=True)\n"
   ]
  },
  {
   "cell_type": "markdown",
   "metadata": {
    "tags": []
   },
   "source": [
    "# Create Data Loader"
   ]
  },
  {
   "cell_type": "code",
   "execution_count": null,
   "metadata": {
    "tags": []
   },
   "outputs": [],
   "source": [
    "del train_df"
   ]
  },
  {
   "cell_type": "code",
   "execution_count": 23,
   "metadata": {
    "tags": []
   },
   "outputs": [],
   "source": [
    "train_dataloader = training.to_dataloader(train=True, batch_size=batch_size, num_workers=cpu_count)#, pin_memory=True)\n",
    "# val_dataloader = validation.to_dataloader(train=False, batch_size=batch_size, num_workers=cpu_count)#, pin_memory=False)\n"
   ]
  },
  {
   "cell_type": "markdown",
   "metadata": {
    "id": "hBjqI7eTU_Lv"
   },
   "source": [
    "### Define TS Dataset for NO-PAST-GPP models"
   ]
  },
  {
   "cell_type": "code",
   "execution_count": 148,
   "metadata": {
    "id": "V6zNYoHsU73n",
    "tags": []
   },
   "outputs": [],
   "source": [
    "# (training_NO_PAST_GPP, validation_NO_PAST_GPP, testing_NO_PAST_GPP) = setup_tsdataset_no_past_GPP(train_df, val_df, test_df, ENCODER_LEN)\n"
   ]
  },
  {
   "cell_type": "code",
   "execution_count": 149,
   "metadata": {
    "id": "Qi49dKnYUeK9",
    "tags": []
   },
   "outputs": [],
   "source": [
    "# # Get small test data\n",
    "# subtest_df = test_df.loc[test_df['timestep_idx_local'] < ENCODER_LEN+5, ].copy()\n",
    "# _, _, subtesting = setup_tsdataset(train_df, val_df, subtest_df, ENCODER_LEN)\n",
    "# print(f\"Subset num subtest timesteps: {len(subtest_df)}\")\n",
    "\n",
    "# # create dataloaders for model\n",
    "# # ref: https://pytorch-lightning.readthedocs.io/en/stable/guides/speed.html#dataloaders\n",
    "# batch_size = 64  # set this between 32 to 128\n",
    "# cpu_count = os.cpu_count()"
   ]
  },
  {
   "cell_type": "code",
   "execution_count": 156,
   "metadata": {
    "tags": []
   },
   "outputs": [],
   "source": [
    "\n",
    "# # Create TFT model from dataset\n",
    "# tft = TemporalFusionTransformer.from_dataset(\n",
    "#     training,\n",
    "#     learning_rate=0.00001,\n",
    "#     hidden_size=16,  # most important hyperparameter apart from learning rate\n",
    "#     attention_head_size=1, # Set to up to 4 for large datasets\n",
    "#     dropout=0.3, # Between 0.1 and 0.3 are good values\n",
    "#     hidden_continuous_size=16,  # set to <= hidden_size\n",
    "#     output_size=7,  # 7 quantiles by default\n",
    "#     loss=QuantileLoss(),\n",
    "#     logging_metrics=nn.ModuleList([MAE(), RMSE()]),\n",
    "#     reduce_on_plateau_patience=2, # reduce learning rate if no improvement in validation loss after x epochs\n",
    "#     optimizer=\"adam\"\n",
    "# )\n",
    "# print(f\"Number of parameters in network: {tft.size()/1e3:.1f}k\")\n",
    "\n",
    "# # configure network and trainer\n",
    "# early_stop_callback = EarlyStopping(monitor=\"val_loss\", min_delta=1e-4, patience=6, mode=\"min\", check_finite=True, verbose=False,)\n",
    "# lr_logger = LearningRateMonitor()  # log the learning rate\n",
    "# checkpoint_callback = ModelCheckpoint(dirpath=exp_model_dir, save_top_k=3, monitor=\"val_loss\") # save model objects for top k epoch val loss\n",
    "# logger = TensorBoardLogger(exp_model_dir)  # logging results to a tensorboard\n",
    "\n",
    "# trainer = pl.Trainer(\n",
    "#     max_epochs=25,\n",
    "#     enable_model_summary=True,\n",
    "#     #gradient_clip_val=2,\n",
    "#     fast_dev_run=False, \n",
    "#     accelerator='gpu',\n",
    "#     devices=\"auto\", \n",
    "#     callbacks=[lr_logger, early_stop_callback],\n",
    "#     logger=logger,\n",
    "#     strategy=\"ddp\",\n",
    "# )"
   ]
  },
  {
   "cell_type": "markdown",
   "metadata": {
    "id": "cK7sS1OyCVA7"
   },
   "source": [
    "## Prepare Two Validation Data Loaders"
   ]
  },
  {
   "cell_type": "code",
   "execution_count": 24,
   "metadata": {
    "id": "vL6rzfOegiE4",
    "tags": []
   },
   "outputs": [],
   "source": [
    "import torch.multiprocessing\n",
    "torch.multiprocessing.set_sharing_strategy('file_system')"
   ]
  },
  {
   "cell_type": "code",
   "execution_count": 41,
   "metadata": {
    "tags": []
   },
   "outputs": [],
   "source": [
    "# Eval on Validation set\n",
    "def val_actuals(validation_ts):\n",
    "    val_dataloader = validation_ts.to_dataloader(train=False, batch_size=batch_size, num_workers=cpu_count)\n",
    "    # Comment out to save memorys\n",
    "    # val_actuals = torch.cat([y[0] for x, y in iter(val_dataloader)])\n",
    "    return val_dataloader#, val_actuals\n",
    "\n",
    "def val_actuals(validation_ts):\n",
    "    val_dataloader = validation_ts.to_dataloader(train=False, batch_size=batch_size, num_workers=cpu_count)\n",
    "    # Comment out to save memorys\n",
    "    # val_actuals = torch.cat([y[0] for x, y in iter(val_dataloader)])\n",
    "    return val_dataloader#, val_actuals"
   ]
  },
  {
   "cell_type": "code",
   "execution_count": 28,
   "metadata": {
    "id": "o0mpEaSFFc-g",
    "tags": []
   },
   "outputs": [],
   "source": [
    "val_loader_AU_DaP = val_actuals(val_AU_DaP) #, val_AU_DaP_actuals"
   ]
  },
  {
   "cell_type": "markdown",
   "metadata": {
    "id": "hrCTBKOfCbaF"
   },
   "source": [
    "# Obtain Val Prediction"
   ]
  },
  {
   "cell_type": "code",
   "execution_count": 30,
   "metadata": {
    "tags": []
   },
   "outputs": [],
   "source": [
    "def pred_raw(val_dataloader):\n",
    "    print(f\"Start eval on validation.\")\n",
    "    start = default_timer()\n",
    "    val_raw_pred, val_x = best_GPP.predict(val_dataloader, show_progress_bar=True,\n",
    "                                                   mode=\"raw\", return_x=True)\n",
    "    eval_time = default_timer() - start\n",
    "    print(f\"Val eval time: {eval_time}\")\n",
    "    return  val_raw_pred, val_x"
   ]
  },
  {
   "cell_type": "code",
   "execution_count": 55,
   "metadata": {
    "tags": []
   },
   "outputs": [],
   "source": [
    "def raw_pred_x_to_dict(model_name, val_or_test, site_name, val_raw_pred, val_x):\n",
    "    \n",
    "    \n",
    "    # Store raw_predictions\n",
    "    # Create dictionary\n",
    "    val_raw_pred_dict = {}\n",
    "    for i in val_raw_pred.keys():\n",
    "        val_raw_pred_dict[i] = val_raw_pred[i]\n",
    "    val_raw_pred_dict.keys()\n",
    "    \n",
    "    with open(f'{val_or_test}_raw_pred_{site_name}_{model_name}.pkl', 'wb') as handle:\n",
    "        pickle.dump(val_raw_pred_dict, handle, protocol=pickle.HIGHEST_PROTOCOL)\n",
    "    # open pickle from storage\n",
    "    with open(f'{val_or_test}_raw_pred_{site_name}_{model_name}.pkl', 'rb') as handle:\n",
    "        val_raw_pred_site = pickle.load(handle)\n",
    " \n",
    "    # Store x\n",
    "    val_x_dict = {}\n",
    "    for i in val_x.keys():\n",
    "        val_x_dict[i] = val_x[i]\n",
    "    val_x_dict.keys()\n",
    "    \n",
    "    with open(f'{val_or_test}_x_pred_{site_name}_{model_name}.pkl', 'wb') as handle:\n",
    "        pickle.dump(val_x_dict, handle, protocol=pickle.HIGHEST_PROTOCOL)\n",
    "    # open pickle from storage\n",
    "    with open(f'{val_or_test}_x_pred_{site_name}_{model_name}.pkl', 'rb') as handle:\n",
    "        val_x_site = pickle.load(handle)\n",
    "                                                       \n",
    "    return val_raw_pred_site, val_x_site\n"
   ]
  },
  {
   "cell_type": "code",
   "execution_count": 37,
   "metadata": {
    "colab": {
     "base_uri": "https://localhost:8080/",
     "height": 84,
     "referenced_widgets": [
      "db9bbafd7c0c46a0ac0fe9fa5157a72b",
      "06e5280d483f461ba68f426f754a3bbd",
      "9080aec8a7da4515bb7576d6c96fe4a0",
      "ec95db39a11a4005aa0d4ae21ca0a18b",
      "8289319c246542a68c4c4b6d695f45f6",
      "6adcdef3815f4c318d79f363d72fb59e",
      "b167ae1cf47840c19cb462eba8d809e2",
      "21d7fe2c084c4bc1bc0881050a18d26f",
      "af6224c0bedd432095e6faf7b663b3cb",
      "7f0f3beb108e44b68256027fcd5b6c2b",
      "f3b124bdcd314a8eb96fedd8ff70d291"
     ]
    },
    "id": "fT070_JdCa6C",
    "outputId": "b958948c-6c8b-4574-f09d-773725a6bdee",
    "tags": []
   },
   "outputs": [
    {
     "name": "stdout",
     "output_type": "stream",
     "text": [
      "Start eval on validation.\n"
     ]
    },
    {
     "name": "stderr",
     "output_type": "stream",
     "text": [
      "Predict: 100%|██████████| 250/250 [04:43<00:00,  1.14s/ batches]"
     ]
    },
    {
     "name": "stdout",
     "output_type": "stream",
     "text": [
      "Val eval time: 283.82525439100027\n"
     ]
    },
    {
     "name": "stderr",
     "output_type": "stream",
     "text": [
      "\n"
     ]
    }
   ],
   "source": [
    "val_raw_AU_DaP, val_x_AU_DaP = pred_raw(val_loader_AU_DaP)"
   ]
  },
  {
   "cell_type": "code",
   "execution_count": 38,
   "metadata": {
    "tags": []
   },
   "outputs": [],
   "source": [
    "model_name = \"GPPTFT_5yrTrain_2WkEncode_230410_2310\"\n",
    "site_name = \"AU_DaP\"\n",
    "\n",
    "raw_AU_DaP, x_AU_DaP = raw_pred_x_to_dict(model_name, site_name, val_raw_AU_DaP, val_x_AU_DaP)"
   ]
  },
  {
   "cell_type": "code",
   "execution_count": 46,
   "metadata": {
    "tags": []
   },
   "outputs": [
    {
     "data": {
      "text/plain": [
       "('prediction',\n",
       " 'encoder_attention',\n",
       " 'decoder_attention',\n",
       " 'static_variables',\n",
       " 'encoder_variables',\n",
       " 'decoder_variables',\n",
       " 'decoder_lengths',\n",
       " 'encoder_lengths')"
      ]
     },
     "execution_count": 46,
     "metadata": {},
     "output_type": "execute_result"
    }
   ],
   "source": [
    "val_raw_AU_DaP.keys()"
   ]
  },
  {
   "cell_type": "code",
   "execution_count": 47,
   "metadata": {
    "tags": []
   },
   "outputs": [
    {
     "data": {
      "text/plain": [
       "torch.Size([31968, 336, 1, 37])"
      ]
     },
     "execution_count": 47,
     "metadata": {},
     "output_type": "execute_result"
    }
   ],
   "source": [
    "val_raw_AU_DaP['encoder_variables'].shape"
   ]
  },
  {
   "cell_type": "code",
   "execution_count": 43,
   "metadata": {
    "tags": []
   },
   "outputs": [
    {
     "data": {
      "text/plain": [
       "dict_keys(['prediction', 'encoder_attention', 'decoder_attention', 'static_variables', 'encoder_variables', 'decoder_variables', 'decoder_lengths', 'encoder_lengths'])"
      ]
     },
     "execution_count": 43,
     "metadata": {},
     "output_type": "execute_result"
    }
   ],
   "source": [
    "# val_loader_AU_DaP = val_actuals(val_AU_DaP)\n",
    "raw_AU_DaP.keys()"
   ]
  },
  {
   "cell_type": "code",
   "execution_count": 53,
   "metadata": {
    "tags": []
   },
   "outputs": [
    {
     "data": {
      "text/plain": [
       "dict_keys(['encoder_cat', 'encoder_cont', 'encoder_target', 'encoder_lengths', 'decoder_cat', 'decoder_cont', 'decoder_target', 'decoder_lengths', 'decoder_time_idx', 'groups', 'target_scale'])"
      ]
     },
     "execution_count": 53,
     "metadata": {},
     "output_type": "execute_result"
    }
   ],
   "source": [
    "x_AU_DaP.keys()"
   ]
  },
  {
   "cell_type": "code",
   "execution_count": 49,
   "metadata": {
    "tags": []
   },
   "outputs": [],
   "source": [
    "del val_AU_DaP_df"
   ]
  },
  {
   "cell_type": "code",
   "execution_count": 52,
   "metadata": {
    "tags": []
   },
   "outputs": [],
   "source": [
    "del val_loader_AU_DaP"
   ]
  },
  {
   "cell_type": "code",
   "execution_count": 50,
   "metadata": {
    "tags": []
   },
   "outputs": [],
   "source": [
    "del val_raw_AU_DaP, val_x_AU_DaP "
   ]
  },
  {
   "cell_type": "markdown",
   "metadata": {},
   "source": [
    "# Predict on different val sites"
   ]
  },
  {
   "cell_type": "markdown",
   "metadata": {},
   "source": [
    "Define the functions that do prediction end-to-end"
   ]
  },
  {
   "cell_type": "code",
   "execution_count": null,
   "metadata": {
    "tags": []
   },
   "outputs": [],
   "source": [
    "def site_raw_pred(model_name, site_name, val_or_test, df, training):\n",
    "    # filter with site id\n",
    "    df_site = df[df[\"site_id\"] == site_name]\n",
    "    print(f'filtered with {site_name}')\n",
    "    \n",
    "    # create TS dataset\n",
    "    df_site_ts = TimeSeriesDataSet.from_dataset(training,\n",
    "                                                df_site,\n",
    "                                                predict=False, stop_randomization=True)\n",
    "    print(f'TS dataset created')\n",
    "    # create dataloader\n",
    "    site_dataloader = df_site_ts.to_dataloader(train=False, batch_size=batch_size, num_workers=cpu_count)\n",
    "    print(f'dataloader created')\n",
    "    \n",
    "    # obtain raw prediction and x\n",
    "    raw_pred, x = pred_raw(site_dataloader)\n",
    "    print(f'prediction completed')\n",
    "    \n",
    "    # convert to dict and save to pkl\n",
    "    print(f'saving to pickle')\n",
    "    raw_pred_dict, x_dict = raw_pred_x_to_dict(model_name, val_or_test, site_name, raw_pred, x)\n",
    "    \n",
    "    print(f'deleting used files')\n",
    "    del df_site, df_site_ts, site_dataloader, raw_pred, x\n",
    "\n",
    "    return raw_pred_dict, x_dict\n",
    "    "
   ]
  },
  {
   "cell_type": "code",
   "execution_count": 60,
   "metadata": {
    "tags": []
   },
   "outputs": [
    {
     "name": "stdout",
     "output_type": "stream",
     "text": [
      "filtered with US-AR1\n",
      "TS dataset created\n",
      "dataloader created\n",
      "Start eval on validation.\n"
     ]
    },
    {
     "name": "stderr",
     "output_type": "stream",
     "text": [
      "Predict: 100%|██████████| 203/203 [03:50<00:00,  1.13s/ batches]\n"
     ]
    },
    {
     "name": "stdout",
     "output_type": "stream",
     "text": [
      "Val eval time: 230.0536716810002\n",
      "prediction completed\n",
      "saving to pickle\n"
     ]
    }
   ],
   "source": [
    "model_name = \"GPPTFT_5yrTrain_2WkEncode_230410_2310\"\n",
    "site_name = \"US-AR1\"\n",
    "\n",
    "raw_US_AR1, x_US_AR1 = site_raw_pred(model_name, site_name, \"val\", val_df, training)"
   ]
  },
  {
   "cell_type": "code",
   "execution_count": null,
   "metadata": {},
   "outputs": [],
   "source": [
    "# AU-DaP\tGrassLand GRA\n",
    "# US-AR1\tGrassLand GRA\n",
    "# US-Bar\tDBF \n",
    "# FI-Hyy\tENF Evergreen Needleleaf Forest\n",
    "# FR_Aur\tCRO Cropland"
   ]
  },
  {
   "cell_type": "code",
   "execution_count": null,
   "metadata": {
    "tags": []
   },
   "outputs": [],
   "source": [
    "model_name = \"GPPTFT_5yrTrain_2WkEncode_230410_2310\"\n",
    "site_name = \"FI_Hyy\"\n",
    "\n",
    "raw_FI_Hyy, x_FI_Hyy = site_raw_pred(model_name, site_name, \"val\", val_df, training)"
   ]
  },
  {
   "cell_type": "code",
   "execution_count": 61,
   "metadata": {},
   "outputs": [
    {
     "name": "stdout",
     "output_type": "stream",
     "text": [
      "filtered with US-Bar\n",
      "TS dataset created\n",
      "dataloader created\n",
      "Start eval on validation.\n"
     ]
    },
    {
     "name": "stderr",
     "output_type": "stream",
     "text": [
      "Predict: 100%|██████████| 340/340 [06:25<00:00,  1.13s/ batches]\n"
     ]
    },
    {
     "name": "stdout",
     "output_type": "stream",
     "text": [
      "Val eval time: 385.0881070250016\n",
      "prediction completed\n",
      "saving to pickle\n"
     ]
    },
    {
     "ename": "OSError",
     "evalue": "[Errno 28] No space left on device",
     "output_type": "error",
     "traceback": [
      "\u001b[0;31m---------------------------------------------------------------------------\u001b[0m",
      "\u001b[0;31mOSError\u001b[0m                                   Traceback (most recent call last)",
      "Cell \u001b[0;32mIn[61], line 4\u001b[0m\n\u001b[1;32m      1\u001b[0m model_name \u001b[38;5;241m=\u001b[39m \u001b[38;5;124m\"\u001b[39m\u001b[38;5;124mGPPTFT_5yrTrain_2WkEncode_230410_2310\u001b[39m\u001b[38;5;124m\"\u001b[39m\n\u001b[1;32m      2\u001b[0m site_name \u001b[38;5;241m=\u001b[39m \u001b[38;5;124m\"\u001b[39m\u001b[38;5;124mUS-Bar\u001b[39m\u001b[38;5;124m\"\u001b[39m\n\u001b[0;32m----> 4\u001b[0m raw_US_Bar, x_US_Bar \u001b[38;5;241m=\u001b[39m \u001b[43msite_raw_pred\u001b[49m\u001b[43m(\u001b[49m\u001b[43mmodel_name\u001b[49m\u001b[43m,\u001b[49m\u001b[43m \u001b[49m\u001b[43msite_name\u001b[49m\u001b[43m,\u001b[49m\u001b[43m \u001b[49m\u001b[38;5;124;43m\"\u001b[39;49m\u001b[38;5;124;43mval\u001b[39;49m\u001b[38;5;124;43m\"\u001b[39;49m\u001b[43m,\u001b[49m\u001b[43m \u001b[49m\u001b[43mval_df\u001b[49m\u001b[43m,\u001b[49m\u001b[43m \u001b[49m\u001b[43mtraining\u001b[49m\u001b[43m)\u001b[49m\n",
      "Cell \u001b[0;32mIn[59], line 21\u001b[0m, in \u001b[0;36msite_raw_pred\u001b[0;34m(model_name, site_name, val_or_test, df, training)\u001b[0m\n\u001b[1;32m     19\u001b[0m \u001b[38;5;66;03m# convert to dict and save to pkl\u001b[39;00m\n\u001b[1;32m     20\u001b[0m \u001b[38;5;28mprint\u001b[39m(\u001b[38;5;124mf\u001b[39m\u001b[38;5;124m'\u001b[39m\u001b[38;5;124msaving to pickle\u001b[39m\u001b[38;5;124m'\u001b[39m)\n\u001b[0;32m---> 21\u001b[0m raw_pred_dict, x_dict \u001b[38;5;241m=\u001b[39m \u001b[43mraw_pred_x_to_dict\u001b[49m\u001b[43m(\u001b[49m\u001b[43mmodel_name\u001b[49m\u001b[43m,\u001b[49m\u001b[43m \u001b[49m\u001b[43mval_or_test\u001b[49m\u001b[43m,\u001b[49m\u001b[43m \u001b[49m\u001b[43msite_name\u001b[49m\u001b[43m,\u001b[49m\u001b[43m \u001b[49m\u001b[43mraw_pred\u001b[49m\u001b[43m,\u001b[49m\u001b[43m \u001b[49m\u001b[43mx\u001b[49m\u001b[43m)\u001b[49m\n\u001b[1;32m     23\u001b[0m \u001b[38;5;28;01mdel\u001b[39;00m df_site, df_site_ts, site_dataloader, raw_pred, x\n\u001b[1;32m     25\u001b[0m \u001b[38;5;28;01mreturn\u001b[39;00m raw_pred_dict, x_dict\n",
      "Cell \u001b[0;32mIn[55], line 12\u001b[0m, in \u001b[0;36mraw_pred_x_to_dict\u001b[0;34m(model_name, val_or_test, site_name, val_raw_pred, val_x)\u001b[0m\n\u001b[1;32m      9\u001b[0m val_raw_pred_dict\u001b[38;5;241m.\u001b[39mkeys()\n\u001b[1;32m     11\u001b[0m \u001b[38;5;28;01mwith\u001b[39;00m \u001b[38;5;28mopen\u001b[39m(\u001b[38;5;124mf\u001b[39m\u001b[38;5;124m'\u001b[39m\u001b[38;5;132;01m{\u001b[39;00mval_or_test\u001b[38;5;132;01m}\u001b[39;00m\u001b[38;5;124m_raw_pred_\u001b[39m\u001b[38;5;132;01m{\u001b[39;00msite_name\u001b[38;5;132;01m}\u001b[39;00m\u001b[38;5;124m_\u001b[39m\u001b[38;5;132;01m{\u001b[39;00mmodel_name\u001b[38;5;132;01m}\u001b[39;00m\u001b[38;5;124m.pkl\u001b[39m\u001b[38;5;124m'\u001b[39m, \u001b[38;5;124m'\u001b[39m\u001b[38;5;124mwb\u001b[39m\u001b[38;5;124m'\u001b[39m) \u001b[38;5;28;01mas\u001b[39;00m handle:\n\u001b[0;32m---> 12\u001b[0m     \u001b[43mpickle\u001b[49m\u001b[38;5;241;43m.\u001b[39;49m\u001b[43mdump\u001b[49m\u001b[43m(\u001b[49m\u001b[43mval_raw_pred_dict\u001b[49m\u001b[43m,\u001b[49m\u001b[43m \u001b[49m\u001b[43mhandle\u001b[49m\u001b[43m,\u001b[49m\u001b[43m \u001b[49m\u001b[43mprotocol\u001b[49m\u001b[38;5;241;43m=\u001b[39;49m\u001b[43mpickle\u001b[49m\u001b[38;5;241;43m.\u001b[39;49m\u001b[43mHIGHEST_PROTOCOL\u001b[49m\u001b[43m)\u001b[49m\n\u001b[1;32m     13\u001b[0m \u001b[38;5;66;03m# open pickle from storage\u001b[39;00m\n\u001b[1;32m     14\u001b[0m \u001b[38;5;28;01mwith\u001b[39;00m \u001b[38;5;28mopen\u001b[39m(\u001b[38;5;124mf\u001b[39m\u001b[38;5;124m'\u001b[39m\u001b[38;5;132;01m{\u001b[39;00mval_or_test\u001b[38;5;132;01m}\u001b[39;00m\u001b[38;5;124m_raw_pred_\u001b[39m\u001b[38;5;132;01m{\u001b[39;00msite_name\u001b[38;5;132;01m}\u001b[39;00m\u001b[38;5;124m_\u001b[39m\u001b[38;5;132;01m{\u001b[39;00mmodel_name\u001b[38;5;132;01m}\u001b[39;00m\u001b[38;5;124m.pkl\u001b[39m\u001b[38;5;124m'\u001b[39m, \u001b[38;5;124m'\u001b[39m\u001b[38;5;124mrb\u001b[39m\u001b[38;5;124m'\u001b[39m) \u001b[38;5;28;01mas\u001b[39;00m handle:\n",
      "\u001b[0;31mOSError\u001b[0m: [Errno 28] No space left on device"
     ]
    }
   ],
   "source": [
    "model_name = \"GPPTFT_5yrTrain_2WkEncode_230410_2310\"\n",
    "site_name = \"US-Bar\"\n",
    "\n",
    "raw_US_Bar, x_US_Bar = site_raw_pred(model_name, site_name, \"val\", val_df, training)"
   ]
  },
  {
   "cell_type": "code",
   "execution_count": null,
   "metadata": {
    "tags": []
   },
   "outputs": [],
   "source": [
    "model_name = \"GPPTFT_5yrTrain_2WkEncode_230410_2310\"\n",
    "site_name = \"FR_Aur\"\n",
    "\n",
    "raw_FR_Aur, x_FR_Aur = site_raw_pred(model_name, site_name, \"val\", val_df, training)"
   ]
  },
  {
   "cell_type": "markdown",
   "metadata": {},
   "source": [
    "## Try predction with data"
   ]
  },
  {
   "cell_type": "code",
   "execution_count": null,
   "metadata": {
    "tags": []
   },
   "outputs": [],
   "source": [
    "test_df[['site_id','MODIS_IGBP']].drop_duplicates().reset_index(drop=True)"
   ]
  },
  {
   "cell_type": "code",
   "execution_count": null,
   "metadata": {},
   "outputs": [],
   "source": []
  },
  {
   "cell_type": "code",
   "execution_count": null,
   "metadata": {},
   "outputs": [],
   "source": []
  },
  {
   "cell_type": "code",
   "execution_count": null,
   "metadata": {},
   "outputs": [],
   "source": []
  },
  {
   "cell_type": "code",
   "execution_count": null,
   "metadata": {},
   "outputs": [],
   "source": []
  },
  {
   "cell_type": "code",
   "execution_count": null,
   "metadata": {},
   "outputs": [],
   "source": []
  },
  {
   "cell_type": "markdown",
   "metadata": {
    "id": "s3JqMqGqXPcD",
    "jp-MarkdownHeadingCollapsed": true,
    "tags": []
   },
   "source": [
    "# (Reference)Model Interpretation"
   ]
  },
  {
   "cell_type": "code",
   "execution_count": null,
   "metadata": {
    "tags": []
   },
   "outputs": [],
   "source": [
    "print(f'encoder variables: {best_GPP.encoder_variables}')\n",
    "encoder_var = best_GPP.encoder_variables\n",
    "len(best_GPP.encoder_variables)"
   ]
  },
  {
   "cell_type": "markdown",
   "metadata": {},
   "source": [
    "### Interpret_output\n",
    "- reduction: \"none\" for no averaging over batches, \n",
    "- \"sum\" for summing attentions, \n",
    "- \"mean\" for normalizing by encode lengths\n",
    "- attention_prediction_horizon: which prediction horizon to use for attention"
   ]
  },
  {
   "cell_type": "code",
   "execution_count": null,
   "metadata": {
    "tags": []
   },
   "outputs": [],
   "source": [
    "interpretation_none = best_tft.interpret_output(val_raw_predictions, reduction=\"none\")\n",
    "interpretation_sum = best_tft.interpret_output(val_raw_predictions, reduction=\"sum\")\n",
    "interpretation_mean = best_tft.interpret_output(val_raw_predictions, reduction=\"mean\")"
   ]
  },
  {
   "cell_type": "code",
   "execution_count": null,
   "metadata": {
    "tags": []
   },
   "outputs": [],
   "source": [
    "# size of val_raw_predictions['encoder_variables']\n",
    "print(val_raw_predictions['encoder_variables'].shape)"
   ]
  },
  {
   "cell_type": "markdown",
   "metadata": {},
   "source": [
    "When encoder length is 24 times 7, Each feature has 168 feature importance in each prediction time point"
   ]
  },
  {
   "cell_type": "code",
   "execution_count": null,
   "metadata": {},
   "outputs": [],
   "source": [
    "print(val_raw_predictions['encoder_variables'][0].shape)\n",
    "val_raw_predictions['encoder_variables'][0]\n"
   ]
  },
  {
   "cell_type": "code",
   "execution_count": null,
   "metadata": {
    "tags": []
   },
   "outputs": [],
   "source": [
    "print(val_raw_predictions['encoder_variables'][0][0].shape)\n",
    "val_raw_predictions['encoder_variables'][0][0]"
   ]
  },
  {
   "cell_type": "code",
   "execution_count": null,
   "metadata": {
    "tags": []
   },
   "outputs": [],
   "source": [
    "print(len(val_raw_predictions['encoder_variables'][0][0][0]))\n",
    "print(val_raw_predictions['encoder_variables'][0][0].sum())\n",
    "val_raw_predictions['encoder_variables'][0][0]"
   ]
  },
  {
   "cell_type": "markdown",
   "metadata": {},
   "source": [
    "### Interpretation reduction=\"none\""
   ]
  },
  {
   "cell_type": "code",
   "execution_count": null,
   "metadata": {
    "tags": []
   },
   "outputs": [],
   "source": [
    "print(interpretation_none['encoder_variables'].shape)\n",
    "interpretation_none['encoder_variables']"
   ]
  },
  {
   "cell_type": "code",
   "execution_count": null,
   "metadata": {
    "tags": []
   },
   "outputs": [],
   "source": [
    "print(interpretation_none['encoder_variables'][0].sum())\n",
    "interpretation_none['encoder_variables'][0]"
   ]
  },
  {
   "cell_type": "markdown",
   "metadata": {},
   "source": [
    "### Interpretation reduction=\"sum\""
   ]
  },
  {
   "cell_type": "code",
   "execution_count": null,
   "metadata": {
    "tags": []
   },
   "outputs": [],
   "source": [
    "print(interpretation_sum['encoder_variables'].sum())\n",
    "print(len(interpretation_sum['encoder_variables']))\n",
    "interpretation_sum['encoder_variables']"
   ]
  },
  {
   "cell_type": "markdown",
   "metadata": {},
   "source": [
    "### Interpretation reduction=\"mean\""
   ]
  },
  {
   "cell_type": "code",
   "execution_count": null,
   "metadata": {
    "tags": []
   },
   "outputs": [],
   "source": [
    "print(interpretation_mean['encoder_variables'].sum())\n",
    "print(len(interpretation_mean['encoder_variables']))\n",
    "interpretation_mean['encoder_variables']"
   ]
  },
  {
   "cell_type": "markdown",
   "metadata": {},
   "source": [
    "### Compare with manual normalization"
   ]
  },
  {
   "cell_type": "code",
   "execution_count": null,
   "metadata": {
    "tags": []
   },
   "outputs": [],
   "source": [
    "# Sum manually \n",
    "interpret_none_df = pd.DataFrame(interpretation_none['encoder_variables'], columns=encoder_var)\n",
    "interpret_none_df.sum()"
   ]
  },
  {
   "cell_type": "markdown",
   "metadata": {},
   "source": [
    "### Normalize sum of importance"
   ]
  },
  {
   "cell_type": "code",
   "execution_count": null,
   "metadata": {
    "tags": []
   },
   "outputs": [],
   "source": [
    "interpret_none_df.mean()"
   ]
  },
  {
   "cell_type": "code",
   "execution_count": null,
   "metadata": {
    "tags": []
   },
   "outputs": [],
   "source": [
    "importance_rank = pd.DataFrame(interpret_none_df.mean(),columns=[\"importance\"]).sort_values(by=\"importance\", ascending=False)\n",
    "importance_rank"
   ]
  },
  {
   "cell_type": "code",
   "execution_count": null,
   "metadata": {
    "tags": []
   },
   "outputs": [],
   "source": [
    "# 19 features cover 80% of total importance\n",
    "importance_rank[:19].sum()"
   ]
  },
  {
   "cell_type": "markdown",
   "metadata": {},
   "source": [
    "## Create df importance of the snapshot of one prediction time point"
   ]
  },
  {
   "cell_type": "code",
   "execution_count": null,
   "metadata": {
    "tags": []
   },
   "outputs": [],
   "source": [
    "# tensor to list\n",
    "encoder_size_importance = []\n",
    "for i in val_raw_predictions['encoder_variables'][0]:\n",
    "    encoder_size_importance += [list(i.numpy()[0])]\n",
    "\n",
    "# define encoder index -1 to -168\n",
    "encoder_size_importance_df = pd.DataFrame(encoder_size_importance,columns=encoder_var)\n",
    "encoder_index = [-(168-i) for i in range(168)]\n",
    "encoder_index#.reverse()\n",
    "\n",
    "encoder_size_importance_df[\"encoder_index\"] = encoder_index\n",
    "\n",
    "columns_order = list(encoder_size_importance_df.columns[-1:]) + list(encoder_size_importance_df.columns[:-1])\n",
    "encoder_size_imp_df  = encoder_size_importance_df[columns_order]\n",
    "encoder_size_imp_df.head()\n"
   ]
  },
  {
   "cell_type": "code",
   "execution_count": null,
   "metadata": {
    "tags": []
   },
   "outputs": [],
   "source": [
    "encoder_size_imp_df.columns"
   ]
  },
  {
   "cell_type": "markdown",
   "metadata": {},
   "source": [
    "### Choose average top 20 features to plot"
   ]
  },
  {
   "cell_type": "code",
   "execution_count": null,
   "metadata": {
    "tags": []
   },
   "outputs": [],
   "source": [
    "encoder_size_imp_rank_df = pd.DataFrame(encoder_size_imp_df.sum()/168, columns=['avg_encoder_imp'])\n",
    "encoder_size_imp_rank_df = encoder_size_imp_rank_df.sort_values(by=['avg_encoder_imp'], ascending=False)\n",
    "encoder_size_imp_rank_df[:15]"
   ]
  },
  {
   "cell_type": "markdown",
   "metadata": {},
   "source": [
    "# Create stack area plot"
   ]
  },
  {
   "cell_type": "code",
   "execution_count": null,
   "metadata": {
    "tags": []
   },
   "outputs": [],
   "source": [
    "encoder_size_imp_rank_df[:15].index"
   ]
  },
  {
   "cell_type": "code",
   "execution_count": null,
   "metadata": {
    "tags": []
   },
   "outputs": [],
   "source": [
    "importance_rank[:7].sum()"
   ]
  },
  {
   "cell_type": "markdown",
   "metadata": {},
   "source": [
    "color palette in seaborn https://seaborn.pydata.org/generated/seaborn.color_palette.html\n",
    "\n",
    "Examples\n",
    "- `pal = sns.light_palette(\"seagreen\")`\n",
    "- `pal = sns.color_palette(\"mako\")`\n",
    "- `pal = sns.cubehelix_palette(start=.5, rot=-.75)#, as_cmap=True)`\n",
    "- `pal = sns.cubehelix_palette(start=.5, rot=-.5)#, as_cmap=True)`\n"
   ]
  },
  {
   "cell_type": "code",
   "execution_count": null,
   "metadata": {
    "tags": []
   },
   "outputs": [],
   "source": [
    "import pandas as pd\n",
    "import matplotlib.pyplot as plt\n",
    "import seaborn as sns\n",
    "\n",
    "#set seaborn style\n",
    "sns.set_theme()\n",
    "pal = sns.color_palette(\"crest\")\n",
    "sns.set(rc={'figure.figsize':(30,7), })\n",
    "\n",
    "#['GPP_NT_VUT_REF', 'SW_IN_ERA', 'gap_flag_hour', 'b4', 'ESACCI-sm',\n",
    "       # 'year', 'BESS-RSDN', 'relative_time_idx', 'timestep_idx_global',\n",
    "       # 'LW_IN_ERA', 'PA_ERA', 'b2', 'VPD_ERA', 'b6', 'TA_ERA']\n",
    "\n",
    "#create area chart\n",
    "plt.stackplot(encoder_size_imp_df['encoder_index'], # x axis\n",
    "              encoder_size_imp_df['year'],\n",
    "              encoder_size_imp_df['ESACCI-sm'],\n",
    "              encoder_size_imp_df['SW_IN_ERA'],\n",
    "              encoder_size_imp_df['BESS-RSDN'],\n",
    "              encoder_size_imp_df['gap_flag_hour'],\n",
    "              encoder_size_imp_df['GPP_NT_VUT_REF'],\n",
    "              encoder_size_imp_df['b4'],\n",
    "              labels=['year','ESACCI-sm','SW_IN_ERA','BESS-RSDN','gap_flag_hour','GPP_NT_VUT_REF','b4'],\n",
    "              colors=pal)\n",
    "\n",
    "labels=['year','ESACCI-sm','SW_IN_ERA','BESS-RSDN','gap_flag_hour','GPP_NT_VUT_REF','b4']\n",
    "# Reverse the order of labels in legend\n",
    "plt.legend(reversed(plt.legend().legendHandles), reversed(labels), loc='upper left', fontsize=14)\n",
    "\n",
    "#add axis labels\n",
    "plt.title('Feature Importance by Encoder Relative Time Point', fontsize=20)\n",
    "plt.ylabel('Importance', fontsize=18)\n",
    "plt.xlabel('Encoder Relative Index (1hour before pred ~ 168(24*7) hours before pred)', fontsize=18)\n",
    "plt.tick_params(axis='both', which='major', labelsize=14) # fontsize of both axes\n"
   ]
  },
  {
   "cell_type": "markdown",
   "metadata": {},
   "source": [
    "## Add attention to the plot "
   ]
  },
  {
   "cell_type": "code",
   "execution_count": null,
   "metadata": {
    "tags": []
   },
   "outputs": [],
   "source": [
    "val_raw_predictions[\"encoder_attention\"].shape"
   ]
  },
  {
   "cell_type": "code",
   "execution_count": null,
   "metadata": {
    "tags": []
   },
   "outputs": [],
   "source": [
    "val_raw_predictions[\"encoder_attention\"][0].shape"
   ]
  },
  {
   "cell_type": "code",
   "execution_count": null,
   "metadata": {
    "tags": []
   },
   "outputs": [],
   "source": [
    "val_raw_predictions[\"encoder_attention\"][0][0][0].shape"
   ]
  },
  {
   "cell_type": "code",
   "execution_count": null,
   "metadata": {
    "tags": []
   },
   "outputs": [],
   "source": [
    "val_raw_predictions[\"encoder_attention\"][0][0][0].numpy()"
   ]
  },
  {
   "cell_type": "code",
   "execution_count": null,
   "metadata": {
    "tags": []
   },
   "outputs": [],
   "source": [
    "# Add attention to feature importance df\n",
    "encoder_size_imp_df[\"encoder_attention\"] = list(val_raw_predictions[\"encoder_attention\"][0][0][0].numpy())\n",
    "encoder_size_imp_df.head()"
   ]
  },
  {
   "cell_type": "code",
   "execution_count": null,
   "metadata": {
    "tags": []
   },
   "outputs": [],
   "source": [
    "import pandas as pd\n",
    "import matplotlib.pyplot as plt\n",
    "import seaborn as sns\n",
    "\n",
    "#set seaborn style\n",
    "sns.set_theme()\n",
    "pal = sns.color_palette(\"crest\")\n",
    "sns.set(rc={'figure.figsize':(30,7)})\n",
    "\n",
    "#['GPP_NT_VUT_REF', 'SW_IN_ERA', 'gap_flag_hour', 'b4', 'ESACCI-sm',\n",
    "       # 'year', 'BESS-RSDN', 'relative_time_idx', 'timestep_idx_global',\n",
    "       # 'LW_IN_ERA', 'PA_ERA', 'b2', 'VPD_ERA', 'b6', 'TA_ERA']\n",
    "\n",
    "#create area chart\n",
    "plt.stackplot(encoder_size_imp_df['encoder_index'], # x axis\n",
    "              encoder_size_imp_df['year'],\n",
    "              encoder_size_imp_df['ESACCI-sm'],\n",
    "              encoder_size_imp_df['SW_IN_ERA'],\n",
    "              encoder_size_imp_df['BESS-RSDN'],\n",
    "              encoder_size_imp_df['gap_flag_hour'],\n",
    "              encoder_size_imp_df['GPP_NT_VUT_REF'],\n",
    "              encoder_size_imp_df['b4'],\n",
    "              labels=['year','ESACCI-sm','SW_IN_ERA','BESS-RSDN','gap_flag_hour','GPP_NT_VUT_REF','b4'],\n",
    "              colors=pal)\n",
    "\n",
    "labels=['year','ESACCI-sm','SW_IN_ERA','BESS-RSDN','gap_flag_hour','GPP_NT_VUT_REF','b4']\n",
    "# Reverse the order of labels in legend\n",
    "plt.legend(reversed(plt.legend().legendHandles), reversed(labels), loc='upper left', fontsize=14)\n",
    "\n",
    "#add axis labels\n",
    "plt.title('Feature Importance by Encoder Relative Time Point / Average Attention', fontsize=20)\n",
    "plt.ylabel('Importance', fontsize=18)\n",
    "plt.xlabel('Encoder Relative Index (1hour before pred ~ 168(24*7) hours before pred)', fontsize=18)\n",
    "plt.tick_params(axis='both', which='major', labelsize=14) # fontsize of both axes\n",
    "\n",
    "plt2 = plt.twinx()\n",
    "\n",
    "plt2.plot(encoder_size_imp_df[\"encoder_index\"], encoder_size_imp_df[\"encoder_attention\"], color='w', linewidth=5)\n",
    "plt2.set_ylabel('Average Attention', fontsize=18)\n",
    "plt2.tick_params('y', colors='k')\n",
    "plt.show()\n",
    "plt.savefig('fi_avg_attention_GPP_TFT_AU-DaP_78_20100108_0AM_0.png')"
   ]
  },
  {
   "cell_type": "markdown",
   "metadata": {},
   "source": [
    "### (with different palette)"
   ]
  },
  {
   "cell_type": "code",
   "execution_count": null,
   "metadata": {
    "tags": []
   },
   "outputs": [],
   "source": [
    "import pandas as pd\n",
    "import matplotlib.pyplot as plt\n",
    "import seaborn as sns\n",
    "\n",
    "#set seaborn style\n",
    "sns.set_theme()\n",
    "# pal = sns.light_palette(\"seagreen\")\n",
    "pal = sns.color_palette(\"mako\")\n",
    "# pal = sns.cubehelix_palette(start=.5, rot=-.75)#, as_cmap=True)`\n",
    "# pal = sns.cubehelix_palette(start=.5, rot=-.5)#, as_cmap=True)`\n",
    "# pal = sns.color_palette(\"crest\")\n",
    "sns.set(rc={'figure.figsize':(30,7)})\n",
    "\n",
    "#['GPP_NT_VUT_REF', 'SW_IN_ERA', 'gap_flag_hour', 'b4', 'ESACCI-sm',\n",
    "       # 'year', 'BESS-RSDN', 'relative_time_idx', 'timestep_idx_global',\n",
    "       # 'LW_IN_ERA', 'PA_ERA', 'b2', 'VPD_ERA', 'b6', 'TA_ERA']\n",
    "\n",
    "#create area chart\n",
    "plt.stackplot(encoder_size_imp_df['encoder_index'], # x axis\n",
    "              encoder_size_imp_df['year'],\n",
    "              encoder_size_imp_df['ESACCI-sm'],\n",
    "              encoder_size_imp_df['SW_IN_ERA'],\n",
    "              encoder_size_imp_df['BESS-RSDN'],\n",
    "              encoder_size_imp_df['gap_flag_hour'],\n",
    "              encoder_size_imp_df['GPP_NT_VUT_REF'],\n",
    "              encoder_size_imp_df['b4'],\n",
    "              labels=['year','ESACCI-sm','SW_IN_ERA','BESS-RSDN','gap_flag_hour','GPP_NT_VUT_REF','b4'],\n",
    "              colors=pal)\n",
    "\n",
    "labels=['year','ESACCI-sm','SW_IN_ERA','BESS-RSDN','gap_flag_hour','GPP_NT_VUT_REF','b4']\n",
    "# Reverse the order of labels in legend\n",
    "plt.legend(reversed(plt.legend().legendHandles), reversed(labels), loc='upper left', fontsize=14)\n",
    "\n",
    "#add axis labels\n",
    "plt.title('Feature Importance by Encoder Relative Time Point / Average Attention', fontsize=20)\n",
    "plt.ylabel('Importance', fontsize=18)\n",
    "plt.xlabel('Encoder Relative Index (1hour before pred ~ 168(24*7) hours before pred)', fontsize=18)\n",
    "plt.tick_params(axis='both', which='major', labelsize=14) # fontsize of both axes\n",
    "\n",
    "plt2 = plt.twinx()\n",
    "\n",
    "plt2.plot(encoder_size_imp_df[\"encoder_index\"], encoder_size_imp_df[\"encoder_attention\"], color='w', linewidth=5)\n",
    "plt2.set_ylabel('Average Attention')\n",
    "plt2.tick_params('y', colors='k')# black is k\n",
    "plt.show()\n",
    "\n",
    "plt.savefig('fi_avg_attention_GPP_TFT_AU-DaP_78_20100108_0AM.png')"
   ]
  },
  {
   "cell_type": "markdown",
   "metadata": {},
   "source": [
    "## Plot without GPP"
   ]
  },
  {
   "cell_type": "code",
   "execution_count": null,
   "metadata": {
    "tags": []
   },
   "outputs": [],
   "source": [
    "encoder_size_imp_rank_df[:15].index"
   ]
  },
  {
   "cell_type": "code",
   "execution_count": null,
   "metadata": {
    "tags": []
   },
   "outputs": [],
   "source": [
    "import pandas as pd\n",
    "import matplotlib.pyplot as plt\n",
    "import seaborn as sns\n",
    "\n",
    "#set seaborn style\n",
    "sns.set_theme()\n",
    "# pal = sns.light_palette(\"seagreen\")\n",
    "# pal = sns.color_palette(\"mako\")\n",
    "# pal = sns.cubehelix_palette(start=.5, rot=-.75)#, as_cmap=True)`\n",
    "# pal = sns.cubehelix_palette(start=.5, rot=-.5)#, as_cmap=True)`\n",
    "pal = sns.color_palette(\"crest\")\n",
    "sns.set(rc={'figure.figsize':(30,7)})\n",
    "\n",
    "#['GPP_NT_VUT_REF', 'SW_IN_ERA', 'gap_flag_hour', 'b4', 'ESACCI-sm',\n",
    "       # 'year', 'BESS-RSDN', 'relative_time_idx', 'timestep_idx_global',\n",
    "       # 'LW_IN_ERA', 'PA_ERA', 'b2', 'VPD_ERA', 'b6', 'TA_ERA']\n",
    "\n",
    "#create area chart\n",
    "plt.stackplot(encoder_size_imp_df['encoder_index'], # x axis\n",
    "              encoder_size_imp_df['timestep_idx_global'],\n",
    "              encoder_size_imp_df['LW_IN_ERA'],\n",
    "              encoder_size_imp_df['PA_ERA'],\n",
    "              encoder_size_imp_df['b2'],\n",
    "              encoder_size_imp_df['VPD_ERA'],\n",
    "              encoder_size_imp_df['b6'],\n",
    "              encoder_size_imp_df['TA_ERA'],\n",
    "              encoder_size_imp_df['year'],\n",
    "              encoder_size_imp_df['ESACCI-sm'],\n",
    "              encoder_size_imp_df['relative_time_idx'],\n",
    "              encoder_size_imp_df['SW_IN_ERA'],\n",
    "              encoder_size_imp_df['BESS-RSDN'],\n",
    "              encoder_size_imp_df['gap_flag_hour'],\n",
    "              encoder_size_imp_df['b4'], \n",
    "              labels=['timestep_idx_global', 'LW_IN_ERA', 'PA_ERA', 'b2', 'VPD_ERA', 'b6', 'TA_ERA',\n",
    "                      'year','ESACCI-sm','relative_time_idx', 'SW_IN_ERA','BESS-RSDN','gap_flag_hour','b4'],\n",
    "              colors=pal)\n",
    "\n",
    "labels=['timestep_idx_global', 'LW_IN_ERA', 'PA_ERA', 'b2', 'VPD_ERA', 'b6', 'TA_ERA',\n",
    "        'year','ESACCI-sm','relative_time_idx', 'SW_IN_ERA','BESS-RSDN','gap_flag_hour','b4']\n",
    "# Reverse the order of labels in legend\n",
    "plt.legend(reversed(plt.legend().legendHandles), reversed(labels), loc='upper left', fontsize=14)\n",
    "\n",
    "#add axis labels\n",
    "plt.title('Feature Importance by Encoder Relative Time Point / Average Attention', fontsize=20)\n",
    "plt.ylabel('Importance', fontsize=18)\n",
    "plt.xlabel('Encoder Relative Index (1hour before pred ~ 168(24*7) hours before pred)', fontsize=18)\n",
    "plt.tick_params(axis='both', which='major', labelsize=14) # fontsize of both axes\n",
    "\n",
    "plt2 = plt.twinx()\n",
    "\n",
    "plt2.plot(encoder_size_imp_df[\"encoder_index\"], encoder_size_imp_df[\"encoder_attention\"], color='r', linewidth=5)\n",
    "plt2.set_ylabel('Average Attention')\n",
    "plt2.tick_params('y', colors='k')# black is k\n",
    "plt.show()\n",
    "\n",
    "plt.savefig('fi_avg_attention_GPP_TFT_AU-DaP_78_20100108_0AM_2.png')"
   ]
  },
  {
   "cell_type": "markdown",
   "metadata": {},
   "source": [
    "### Prediction time point of the plot"
   ]
  },
  {
   "cell_type": "code",
   "execution_count": null,
   "metadata": {
    "tags": []
   },
   "outputs": [],
   "source": [
    "# val_raw_predictions\n",
    "print(val_x.keys())\n",
    "val_x[\"decoder_time_idx\"][0].numpy()[0]"
   ]
  },
  {
   "cell_type": "code",
   "execution_count": null,
   "metadata": {
    "tags": []
   },
   "outputs": [],
   "source": [
    "val_x[\"groups\"][0].numpy()[0]"
   ]
  },
  {
   "cell_type": "code",
   "execution_count": null,
   "metadata": {
    "tags": []
   },
   "outputs": [],
   "source": [
    "val_df[val_df[\"timestep_idx_global\"] == val_x[\"decoder_time_idx\"][0].numpy()[0]].head()\n"
   ]
  },
  {
   "cell_type": "code",
   "execution_count": null,
   "metadata": {
    "tags": []
   },
   "outputs": [],
   "source": [
    "# val_x[\"decoder_time_idx\"]\n",
    "val_df[val_df[\"site_id\"] == \"AU-DaP\"][val_df[\"timestep_idx_global\"] >= 350808]\n"
   ]
  },
  {
   "cell_type": "code",
   "execution_count": null,
   "metadata": {
    "tags": []
   },
   "outputs": [],
   "source": [
    "# match AU-DaP = 78\n",
    "print(val_x['groups'][:10])\n",
    "val_x['decoder_target'][0].numpy()[0]\n",
    "val_x['decoder_target'][:10]"
   ]
  },
  {
   "cell_type": "code",
   "execution_count": null,
   "metadata": {
    "tags": []
   },
   "outputs": [],
   "source": [
    "val_df[val_df[\"timestep_idx_global\"] == val_x[\"decoder_time_idx\"][0].numpy()[0]][val_df[\"site_id\"] == \"AU-DaP\"]"
   ]
  },
  {
   "cell_type": "markdown",
   "metadata": {},
   "source": [
    "### Profile of the plot\n",
    "\n",
    "- Site: AU-DaP\n",
    "- group index: 78\n",
    "\n",
    "- YEAR 2010\n",
    "- Month 1\n",
    "- Day 8\n",
    "- hour 0AM"
   ]
  },
  {
   "cell_type": "code",
   "execution_count": null,
   "metadata": {
    "id": "18dSEAVQXPcg",
    "outputId": "06404eac-205a-40b7-a978-cddc693810bb",
    "tags": []
   },
   "outputs": [],
   "source": [
    "# # attention\n",
    "# fig, ax = plt.subplots()\n",
    "# attention = interpretation_none[\"attention\"][pred_ind].detach().cpu()\n",
    "# attention = attention / attention.sum(-1).unsqueeze(-1)\n",
    "# ax.plot(attention)\n",
    "# ax.set_xlabel(\"Time index\")\n",
    "# ax.set_ylabel(\"Attention\")\n",
    "# ax.set_title(f\"Attention for Pred Step {i}\")\n",
    "# xticks_locations = range(0, len(attention), 10)\n",
    "# xticks_labels = range(-len(attention), 0, 10)\n",
    "# plt.xticks(xticks_locations, xticks_labels)\n",
    "# plt.show()"
   ]
  },
  {
   "cell_type": "code",
   "execution_count": null,
   "metadata": {
    "id": "5gclhUDkXPch",
    "outputId": "6ab26c88-bfe7-474d-866b-5f221da5160b",
    "tags": []
   },
   "outputs": [],
   "source": [
    "\n",
    "# # Interpret Outputs\n",
    "# interpretation_sum = best_tft.interpret_output(raw_prediction_igbp, reduction=\"sum\")\n",
    "# best_tft.plot_interpretation(interpretation_sum)"
   ]
  },
  {
   "cell_type": "code",
   "execution_count": null,
   "metadata": {
    "id": "RXNTSm6EXPch",
    "tags": []
   },
   "outputs": [],
   "source": [
    "# # Init df\n",
    "# example_fi_df = pd.DataFrame(columns= ['encoder_timestep'] + known_cat + unknown_cat + known_real + ['relative_time_idx'])\n",
    "\n",
    "# # Add avg importances to df\n",
    "# avg_fi_vals = torch.mean(torch.mean(raw_predictions[\"encoder_variables\"].squeeze(), dim=0), dim=0).numpy()\n",
    "# example_fi_df.loc[len(example_fi_df)] = ['Average'] + list(avg_fi_vals)\n",
    "\n",
    "# # Get FIs at each step\n",
    "# for time in range(ENCODER_LEN):\n",
    "#     feature_means_time = torch.mean(raw_predictions[\"encoder_variables\"].squeeze(), dim=0)[time].numpy()\n",
    "#     neg_time = time-ENCODER_LEN\n",
    "#     example_fi_df.loc[len(example_fi_df)] = [neg_time] + list(feature_means_time)\n",
    "\n",
    "# # Merge in attn vales\n",
    "# attn_time = torch.mean(raw_predictions[\"encoder_attention\"].squeeze().squeeze(), dim=0)\n",
    "# example_fi_df['attn_time'] = [np.nan] + list(attn_time.numpy())"
   ]
  },
  {
   "cell_type": "code",
   "execution_count": null,
   "metadata": {
    "id": "L7dnaqAvXPci"
   },
   "outputs": [],
   "source": [
    "#!conda install jinja2 -y"
   ]
  },
  {
   "cell_type": "code",
   "execution_count": null,
   "metadata": {
    "id": "JM4PyEQzXPci",
    "outputId": "57df2147-8408-4d02-fa0a-ff354eaec67e",
    "tags": []
   },
   "outputs": [],
   "source": [
    "# # Save out\n",
    "# example_fi_df.to_csv(root_dir + os.sep + 'data/feature_imp_by_time_igbp_dbp.csv', index=False)\n",
    "\n",
    "# # Display\n",
    "# example_fi_df.sort_values('attn_time', ascending=False, inplace=True)\n",
    "# styled_df = example_fi_df.style.background_gradient(cmap='Greens')\n",
    "# styled_df"
   ]
  },
  {
   "cell_type": "code",
   "execution_count": null,
   "metadata": {
    "id": "KeRvUTz2XPcj"
   },
   "outputs": [],
   "source": []
  }
 ],
 "metadata": {
  "accelerator": "GPU",
  "availableInstances": [
   {
    "_defaultOrder": 0,
    "_isFastLaunch": true,
    "category": "General purpose",
    "gpuNum": 0,
    "memoryGiB": 4,
    "name": "ml.t3.medium",
    "vcpuNum": 2
   },
   {
    "_defaultOrder": 1,
    "_isFastLaunch": false,
    "category": "General purpose",
    "gpuNum": 0,
    "memoryGiB": 8,
    "name": "ml.t3.large",
    "vcpuNum": 2
   },
   {
    "_defaultOrder": 2,
    "_isFastLaunch": false,
    "category": "General purpose",
    "gpuNum": 0,
    "memoryGiB": 16,
    "name": "ml.t3.xlarge",
    "vcpuNum": 4
   },
   {
    "_defaultOrder": 3,
    "_isFastLaunch": false,
    "category": "General purpose",
    "gpuNum": 0,
    "memoryGiB": 32,
    "name": "ml.t3.2xlarge",
    "vcpuNum": 8
   },
   {
    "_defaultOrder": 4,
    "_isFastLaunch": true,
    "category": "General purpose",
    "gpuNum": 0,
    "memoryGiB": 8,
    "name": "ml.m5.large",
    "vcpuNum": 2
   },
   {
    "_defaultOrder": 5,
    "_isFastLaunch": false,
    "category": "General purpose",
    "gpuNum": 0,
    "memoryGiB": 16,
    "name": "ml.m5.xlarge",
    "vcpuNum": 4
   },
   {
    "_defaultOrder": 6,
    "_isFastLaunch": false,
    "category": "General purpose",
    "gpuNum": 0,
    "memoryGiB": 32,
    "name": "ml.m5.2xlarge",
    "vcpuNum": 8
   },
   {
    "_defaultOrder": 7,
    "_isFastLaunch": false,
    "category": "General purpose",
    "gpuNum": 0,
    "memoryGiB": 64,
    "name": "ml.m5.4xlarge",
    "vcpuNum": 16
   },
   {
    "_defaultOrder": 8,
    "_isFastLaunch": false,
    "category": "General purpose",
    "gpuNum": 0,
    "memoryGiB": 128,
    "name": "ml.m5.8xlarge",
    "vcpuNum": 32
   },
   {
    "_defaultOrder": 9,
    "_isFastLaunch": false,
    "category": "General purpose",
    "gpuNum": 0,
    "memoryGiB": 192,
    "name": "ml.m5.12xlarge",
    "vcpuNum": 48
   },
   {
    "_defaultOrder": 10,
    "_isFastLaunch": false,
    "category": "General purpose",
    "gpuNum": 0,
    "memoryGiB": 256,
    "name": "ml.m5.16xlarge",
    "vcpuNum": 64
   },
   {
    "_defaultOrder": 11,
    "_isFastLaunch": false,
    "category": "General purpose",
    "gpuNum": 0,
    "memoryGiB": 384,
    "name": "ml.m5.24xlarge",
    "vcpuNum": 96
   },
   {
    "_defaultOrder": 12,
    "_isFastLaunch": false,
    "category": "General purpose",
    "gpuNum": 0,
    "memoryGiB": 8,
    "name": "ml.m5d.large",
    "vcpuNum": 2
   },
   {
    "_defaultOrder": 13,
    "_isFastLaunch": false,
    "category": "General purpose",
    "gpuNum": 0,
    "memoryGiB": 16,
    "name": "ml.m5d.xlarge",
    "vcpuNum": 4
   },
   {
    "_defaultOrder": 14,
    "_isFastLaunch": false,
    "category": "General purpose",
    "gpuNum": 0,
    "memoryGiB": 32,
    "name": "ml.m5d.2xlarge",
    "vcpuNum": 8
   },
   {
    "_defaultOrder": 15,
    "_isFastLaunch": false,
    "category": "General purpose",
    "gpuNum": 0,
    "memoryGiB": 64,
    "name": "ml.m5d.4xlarge",
    "vcpuNum": 16
   },
   {
    "_defaultOrder": 16,
    "_isFastLaunch": false,
    "category": "General purpose",
    "gpuNum": 0,
    "memoryGiB": 128,
    "name": "ml.m5d.8xlarge",
    "vcpuNum": 32
   },
   {
    "_defaultOrder": 17,
    "_isFastLaunch": false,
    "category": "General purpose",
    "gpuNum": 0,
    "memoryGiB": 192,
    "name": "ml.m5d.12xlarge",
    "vcpuNum": 48
   },
   {
    "_defaultOrder": 18,
    "_isFastLaunch": false,
    "category": "General purpose",
    "gpuNum": 0,
    "memoryGiB": 256,
    "name": "ml.m5d.16xlarge",
    "vcpuNum": 64
   },
   {
    "_defaultOrder": 19,
    "_isFastLaunch": false,
    "category": "General purpose",
    "gpuNum": 0,
    "memoryGiB": 384,
    "name": "ml.m5d.24xlarge",
    "vcpuNum": 96
   },
   {
    "_defaultOrder": 20,
    "_isFastLaunch": true,
    "category": "Compute optimized",
    "gpuNum": 0,
    "memoryGiB": 4,
    "name": "ml.c5.large",
    "vcpuNum": 2
   },
   {
    "_defaultOrder": 21,
    "_isFastLaunch": false,
    "category": "Compute optimized",
    "gpuNum": 0,
    "memoryGiB": 8,
    "name": "ml.c5.xlarge",
    "vcpuNum": 4
   },
   {
    "_defaultOrder": 22,
    "_isFastLaunch": false,
    "category": "Compute optimized",
    "gpuNum": 0,
    "memoryGiB": 16,
    "name": "ml.c5.2xlarge",
    "vcpuNum": 8
   },
   {
    "_defaultOrder": 23,
    "_isFastLaunch": false,
    "category": "Compute optimized",
    "gpuNum": 0,
    "memoryGiB": 32,
    "name": "ml.c5.4xlarge",
    "vcpuNum": 16
   },
   {
    "_defaultOrder": 24,
    "_isFastLaunch": false,
    "category": "Compute optimized",
    "gpuNum": 0,
    "memoryGiB": 72,
    "name": "ml.c5.9xlarge",
    "vcpuNum": 36
   },
   {
    "_defaultOrder": 25,
    "_isFastLaunch": false,
    "category": "Compute optimized",
    "gpuNum": 0,
    "memoryGiB": 96,
    "name": "ml.c5.12xlarge",
    "vcpuNum": 48
   },
   {
    "_defaultOrder": 26,
    "_isFastLaunch": false,
    "category": "Compute optimized",
    "gpuNum": 0,
    "memoryGiB": 144,
    "name": "ml.c5.18xlarge",
    "vcpuNum": 72
   },
   {
    "_defaultOrder": 27,
    "_isFastLaunch": false,
    "category": "Compute optimized",
    "gpuNum": 0,
    "memoryGiB": 192,
    "name": "ml.c5.24xlarge",
    "vcpuNum": 96
   },
   {
    "_defaultOrder": 28,
    "_isFastLaunch": true,
    "category": "Accelerated computing",
    "gpuNum": 1,
    "memoryGiB": 16,
    "name": "ml.g4dn.xlarge",
    "vcpuNum": 4
   },
   {
    "_defaultOrder": 29,
    "_isFastLaunch": false,
    "category": "Accelerated computing",
    "gpuNum": 1,
    "memoryGiB": 32,
    "name": "ml.g4dn.2xlarge",
    "vcpuNum": 8
   },
   {
    "_defaultOrder": 30,
    "_isFastLaunch": false,
    "category": "Accelerated computing",
    "gpuNum": 1,
    "memoryGiB": 64,
    "name": "ml.g4dn.4xlarge",
    "vcpuNum": 16
   },
   {
    "_defaultOrder": 31,
    "_isFastLaunch": false,
    "category": "Accelerated computing",
    "gpuNum": 1,
    "memoryGiB": 128,
    "name": "ml.g4dn.8xlarge",
    "vcpuNum": 32
   },
   {
    "_defaultOrder": 32,
    "_isFastLaunch": false,
    "category": "Accelerated computing",
    "gpuNum": 4,
    "memoryGiB": 192,
    "name": "ml.g4dn.12xlarge",
    "vcpuNum": 48
   },
   {
    "_defaultOrder": 33,
    "_isFastLaunch": false,
    "category": "Accelerated computing",
    "gpuNum": 1,
    "memoryGiB": 256,
    "name": "ml.g4dn.16xlarge",
    "vcpuNum": 64
   },
   {
    "_defaultOrder": 34,
    "_isFastLaunch": false,
    "category": "Accelerated computing",
    "gpuNum": 1,
    "memoryGiB": 61,
    "name": "ml.p3.2xlarge",
    "vcpuNum": 8
   },
   {
    "_defaultOrder": 35,
    "_isFastLaunch": false,
    "category": "Accelerated computing",
    "gpuNum": 4,
    "memoryGiB": 244,
    "name": "ml.p3.8xlarge",
    "vcpuNum": 32
   },
   {
    "_defaultOrder": 36,
    "_isFastLaunch": false,
    "category": "Accelerated computing",
    "gpuNum": 8,
    "memoryGiB": 488,
    "name": "ml.p3.16xlarge",
    "vcpuNum": 64
   },
   {
    "_defaultOrder": 37,
    "_isFastLaunch": false,
    "category": "Accelerated computing",
    "gpuNum": 8,
    "memoryGiB": 768,
    "name": "ml.p3dn.24xlarge",
    "vcpuNum": 96
   },
   {
    "_defaultOrder": 38,
    "_isFastLaunch": false,
    "category": "Memory Optimized",
    "gpuNum": 0,
    "memoryGiB": 16,
    "name": "ml.r5.large",
    "vcpuNum": 2
   },
   {
    "_defaultOrder": 39,
    "_isFastLaunch": false,
    "category": "Memory Optimized",
    "gpuNum": 0,
    "memoryGiB": 32,
    "name": "ml.r5.xlarge",
    "vcpuNum": 4
   },
   {
    "_defaultOrder": 40,
    "_isFastLaunch": false,
    "category": "Memory Optimized",
    "gpuNum": 0,
    "memoryGiB": 64,
    "name": "ml.r5.2xlarge",
    "vcpuNum": 8
   },
   {
    "_defaultOrder": 41,
    "_isFastLaunch": false,
    "category": "Memory Optimized",
    "gpuNum": 0,
    "memoryGiB": 128,
    "name": "ml.r5.4xlarge",
    "vcpuNum": 16
   },
   {
    "_defaultOrder": 42,
    "_isFastLaunch": false,
    "category": "Memory Optimized",
    "gpuNum": 0,
    "memoryGiB": 256,
    "name": "ml.r5.8xlarge",
    "vcpuNum": 32
   },
   {
    "_defaultOrder": 43,
    "_isFastLaunch": false,
    "category": "Memory Optimized",
    "gpuNum": 0,
    "memoryGiB": 384,
    "name": "ml.r5.12xlarge",
    "vcpuNum": 48
   },
   {
    "_defaultOrder": 44,
    "_isFastLaunch": false,
    "category": "Memory Optimized",
    "gpuNum": 0,
    "memoryGiB": 512,
    "name": "ml.r5.16xlarge",
    "vcpuNum": 64
   },
   {
    "_defaultOrder": 45,
    "_isFastLaunch": false,
    "category": "Memory Optimized",
    "gpuNum": 0,
    "memoryGiB": 768,
    "name": "ml.r5.24xlarge",
    "vcpuNum": 96
   },
   {
    "_defaultOrder": 46,
    "_isFastLaunch": false,
    "category": "Accelerated computing",
    "gpuNum": 1,
    "memoryGiB": 16,
    "name": "ml.g5.xlarge",
    "vcpuNum": 4
   },
   {
    "_defaultOrder": 47,
    "_isFastLaunch": false,
    "category": "Accelerated computing",
    "gpuNum": 1,
    "memoryGiB": 32,
    "name": "ml.g5.2xlarge",
    "vcpuNum": 8
   },
   {
    "_defaultOrder": 48,
    "_isFastLaunch": false,
    "category": "Accelerated computing",
    "gpuNum": 1,
    "memoryGiB": 64,
    "name": "ml.g5.4xlarge",
    "vcpuNum": 16
   },
   {
    "_defaultOrder": 49,
    "_isFastLaunch": false,
    "category": "Accelerated computing",
    "gpuNum": 1,
    "memoryGiB": 128,
    "name": "ml.g5.8xlarge",
    "vcpuNum": 32
   },
   {
    "_defaultOrder": 50,
    "_isFastLaunch": false,
    "category": "Accelerated computing",
    "gpuNum": 1,
    "memoryGiB": 256,
    "name": "ml.g5.16xlarge",
    "vcpuNum": 64
   },
   {
    "_defaultOrder": 51,
    "_isFastLaunch": false,
    "category": "Accelerated computing",
    "gpuNum": 4,
    "memoryGiB": 192,
    "name": "ml.g5.12xlarge",
    "vcpuNum": 48
   },
   {
    "_defaultOrder": 52,
    "_isFastLaunch": false,
    "category": "Accelerated computing",
    "gpuNum": 4,
    "memoryGiB": 384,
    "name": "ml.g5.24xlarge",
    "vcpuNum": 96
   },
   {
    "_defaultOrder": 53,
    "_isFastLaunch": false,
    "category": "Accelerated computing",
    "gpuNum": 8,
    "memoryGiB": 768,
    "name": "ml.g5.48xlarge",
    "vcpuNum": 192
   }
  ],
  "colab": {
   "collapsed_sections": [
    "CU5xMX4lMdOX",
    "tqqvjx_EMfQR",
    "Hcdd8BpC14Dr",
    "5LRk1xhgDrvZ",
    "p00iSvNlFnl8"
   ],
   "machine_shape": "hm",
   "provenance": [],
   "toc_visible": true
  },
  "gpuClass": "premium",
  "instance_type": "ml.m5.8xlarge",
  "kernelspec": {
   "display_name": "py310",
   "language": "python",
   "name": "py310"
  },
  "language_info": {
   "codemirror_mode": {
    "name": "ipython",
    "version": 3
   },
   "file_extension": ".py",
   "mimetype": "text/x-python",
   "name": "python",
   "nbconvert_exporter": "python",
   "pygments_lexer": "ipython3",
   "version": "3.10.9"
  },
  "widgets": {
   "application/vnd.jupyter.widget-state+json": {
    "06e5280d483f461ba68f426f754a3bbd": {
     "model_module": "@jupyter-widgets/controls",
     "model_module_version": "1.5.0",
     "model_name": "HTMLModel",
     "state": {
      "_dom_classes": [],
      "_model_module": "@jupyter-widgets/controls",
      "_model_module_version": "1.5.0",
      "_model_name": "HTMLModel",
      "_view_count": null,
      "_view_module": "@jupyter-widgets/controls",
      "_view_module_version": "1.5.0",
      "_view_name": "HTMLView",
      "description": "",
      "description_tooltip": null,
      "layout": "IPY_MODEL_6adcdef3815f4c318d79f363d72fb59e",
      "placeholder": "​",
      "style": "IPY_MODEL_b167ae1cf47840c19cb462eba8d809e2",
      "value": "Predict: 100%"
     }
    },
    "074ad7f69a904dd396f41920a83e497f": {
     "model_module": "@jupyter-widgets/controls",
     "model_module_version": "1.5.0",
     "model_name": "DescriptionStyleModel",
     "state": {
      "_model_module": "@jupyter-widgets/controls",
      "_model_module_version": "1.5.0",
      "_model_name": "DescriptionStyleModel",
      "_view_count": null,
      "_view_module": "@jupyter-widgets/base",
      "_view_module_version": "1.2.0",
      "_view_name": "StyleView",
      "description_width": ""
     }
    },
    "0a49eb68da3a4d86baceb1d1a5f1dbc4": {
     "model_module": "@jupyter-widgets/controls",
     "model_module_version": "1.5.0",
     "model_name": "HTMLModel",
     "state": {
      "_dom_classes": [],
      "_model_module": "@jupyter-widgets/controls",
      "_model_module_version": "1.5.0",
      "_model_name": "HTMLModel",
      "_view_count": null,
      "_view_module": "@jupyter-widgets/controls",
      "_view_module_version": "1.5.0",
      "_view_name": "HTMLView",
      "description": "",
      "description_tooltip": null,
      "layout": "IPY_MODEL_8458729b97f045348f5207b4120ef43f",
      "placeholder": "​",
      "style": "IPY_MODEL_aa93ec95d7af45568d7e20dbd42b15d4",
      "value": " 0/3491 [05:08&lt;?, ? batches/s]"
     }
    },
    "0a94a71942f94dbe8ba6857b94d4e3ea": {
     "model_module": "@jupyter-widgets/controls",
     "model_module_version": "1.5.0",
     "model_name": "ProgressStyleModel",
     "state": {
      "_model_module": "@jupyter-widgets/controls",
      "_model_module_version": "1.5.0",
      "_model_name": "ProgressStyleModel",
      "_view_count": null,
      "_view_module": "@jupyter-widgets/base",
      "_view_module_version": "1.2.0",
      "_view_name": "StyleView",
      "bar_color": null,
      "description_width": ""
     }
    },
    "21d7fe2c084c4bc1bc0881050a18d26f": {
     "model_module": "@jupyter-widgets/base",
     "model_module_version": "1.2.0",
     "model_name": "LayoutModel",
     "state": {
      "_model_module": "@jupyter-widgets/base",
      "_model_module_version": "1.2.0",
      "_model_name": "LayoutModel",
      "_view_count": null,
      "_view_module": "@jupyter-widgets/base",
      "_view_module_version": "1.2.0",
      "_view_name": "LayoutView",
      "align_content": null,
      "align_items": null,
      "align_self": null,
      "border": null,
      "bottom": null,
      "display": null,
      "flex": null,
      "flex_flow": null,
      "grid_area": null,
      "grid_auto_columns": null,
      "grid_auto_flow": null,
      "grid_auto_rows": null,
      "grid_column": null,
      "grid_gap": null,
      "grid_row": null,
      "grid_template_areas": null,
      "grid_template_columns": null,
      "grid_template_rows": null,
      "height": null,
      "justify_content": null,
      "justify_items": null,
      "left": null,
      "margin": null,
      "max_height": null,
      "max_width": null,
      "min_height": null,
      "min_width": null,
      "object_fit": null,
      "object_position": null,
      "order": null,
      "overflow": null,
      "overflow_x": null,
      "overflow_y": null,
      "padding": null,
      "right": null,
      "top": null,
      "visibility": null,
      "width": null
     }
    },
    "27b1639a0b31422583cbfe84f203fa2e": {
     "model_module": "@jupyter-widgets/base",
     "model_module_version": "1.2.0",
     "model_name": "LayoutModel",
     "state": {
      "_model_module": "@jupyter-widgets/base",
      "_model_module_version": "1.2.0",
      "_model_name": "LayoutModel",
      "_view_count": null,
      "_view_module": "@jupyter-widgets/base",
      "_view_module_version": "1.2.0",
      "_view_name": "LayoutView",
      "align_content": null,
      "align_items": null,
      "align_self": null,
      "border": null,
      "bottom": null,
      "display": null,
      "flex": null,
      "flex_flow": null,
      "grid_area": null,
      "grid_auto_columns": null,
      "grid_auto_flow": null,
      "grid_auto_rows": null,
      "grid_column": null,
      "grid_gap": null,
      "grid_row": null,
      "grid_template_areas": null,
      "grid_template_columns": null,
      "grid_template_rows": null,
      "height": null,
      "justify_content": null,
      "justify_items": null,
      "left": null,
      "margin": null,
      "max_height": null,
      "max_width": null,
      "min_height": null,
      "min_width": null,
      "object_fit": null,
      "object_position": null,
      "order": null,
      "overflow": null,
      "overflow_x": null,
      "overflow_y": null,
      "padding": null,
      "right": null,
      "top": null,
      "visibility": null,
      "width": null
     }
    },
    "2abe104216b647e882b68ffdf2ad5eac": {
     "model_module": "@jupyter-widgets/controls",
     "model_module_version": "1.5.0",
     "model_name": "HTMLModel",
     "state": {
      "_dom_classes": [],
      "_model_module": "@jupyter-widgets/controls",
      "_model_module_version": "1.5.0",
      "_model_name": "HTMLModel",
      "_view_count": null,
      "_view_module": "@jupyter-widgets/controls",
      "_view_module_version": "1.5.0",
      "_view_name": "HTMLView",
      "description": "",
      "description_tooltip": null,
      "layout": "IPY_MODEL_f9de2f8d02bc4ca3af82ed55d5ab2c72",
      "placeholder": "​",
      "style": "IPY_MODEL_3b102f232492419a9c52796fceeaeecd",
      "value": " 0/3491 [00:00&lt;?, ? batches/s]"
     }
    },
    "372ecb27ac7848ccaddbaf66e5acec7a": {
     "model_module": "@jupyter-widgets/base",
     "model_module_version": "1.2.0",
     "model_name": "LayoutModel",
     "state": {
      "_model_module": "@jupyter-widgets/base",
      "_model_module_version": "1.2.0",
      "_model_name": "LayoutModel",
      "_view_count": null,
      "_view_module": "@jupyter-widgets/base",
      "_view_module_version": "1.2.0",
      "_view_name": "LayoutView",
      "align_content": null,
      "align_items": null,
      "align_self": null,
      "border": null,
      "bottom": null,
      "display": null,
      "flex": null,
      "flex_flow": null,
      "grid_area": null,
      "grid_auto_columns": null,
      "grid_auto_flow": null,
      "grid_auto_rows": null,
      "grid_column": null,
      "grid_gap": null,
      "grid_row": null,
      "grid_template_areas": null,
      "grid_template_columns": null,
      "grid_template_rows": null,
      "height": null,
      "justify_content": null,
      "justify_items": null,
      "left": null,
      "margin": null,
      "max_height": null,
      "max_width": null,
      "min_height": null,
      "min_width": null,
      "object_fit": null,
      "object_position": null,
      "order": null,
      "overflow": null,
      "overflow_x": null,
      "overflow_y": null,
      "padding": null,
      "right": null,
      "top": null,
      "visibility": null,
      "width": null
     }
    },
    "3b102f232492419a9c52796fceeaeecd": {
     "model_module": "@jupyter-widgets/controls",
     "model_module_version": "1.5.0",
     "model_name": "DescriptionStyleModel",
     "state": {
      "_model_module": "@jupyter-widgets/controls",
      "_model_module_version": "1.5.0",
      "_model_name": "DescriptionStyleModel",
      "_view_count": null,
      "_view_module": "@jupyter-widgets/base",
      "_view_module_version": "1.2.0",
      "_view_name": "StyleView",
      "description_width": ""
     }
    },
    "541c9d37eb8e4cb995bac0874eb2eef9": {
     "model_module": "@jupyter-widgets/controls",
     "model_module_version": "1.5.0",
     "model_name": "HTMLModel",
     "state": {
      "_dom_classes": [],
      "_model_module": "@jupyter-widgets/controls",
      "_model_module_version": "1.5.0",
      "_model_name": "HTMLModel",
      "_view_count": null,
      "_view_module": "@jupyter-widgets/controls",
      "_view_module_version": "1.5.0",
      "_view_name": "HTMLView",
      "description": "",
      "description_tooltip": null,
      "layout": "IPY_MODEL_d6fe6c3cf43c487fa486b5e392f11d05",
      "placeholder": "​",
      "style": "IPY_MODEL_074ad7f69a904dd396f41920a83e497f",
      "value": "Predict:   0%"
     }
    },
    "6adcdef3815f4c318d79f363d72fb59e": {
     "model_module": "@jupyter-widgets/base",
     "model_module_version": "1.2.0",
     "model_name": "LayoutModel",
     "state": {
      "_model_module": "@jupyter-widgets/base",
      "_model_module_version": "1.2.0",
      "_model_name": "LayoutModel",
      "_view_count": null,
      "_view_module": "@jupyter-widgets/base",
      "_view_module_version": "1.2.0",
      "_view_name": "LayoutView",
      "align_content": null,
      "align_items": null,
      "align_self": null,
      "border": null,
      "bottom": null,
      "display": null,
      "flex": null,
      "flex_flow": null,
      "grid_area": null,
      "grid_auto_columns": null,
      "grid_auto_flow": null,
      "grid_auto_rows": null,
      "grid_column": null,
      "grid_gap": null,
      "grid_row": null,
      "grid_template_areas": null,
      "grid_template_columns": null,
      "grid_template_rows": null,
      "height": null,
      "justify_content": null,
      "justify_items": null,
      "left": null,
      "margin": null,
      "max_height": null,
      "max_width": null,
      "min_height": null,
      "min_width": null,
      "object_fit": null,
      "object_position": null,
      "order": null,
      "overflow": null,
      "overflow_x": null,
      "overflow_y": null,
      "padding": null,
      "right": null,
      "top": null,
      "visibility": null,
      "width": null
     }
    },
    "6d8773c05d28486296b905034f79d5e9": {
     "model_module": "@jupyter-widgets/base",
     "model_module_version": "1.2.0",
     "model_name": "LayoutModel",
     "state": {
      "_model_module": "@jupyter-widgets/base",
      "_model_module_version": "1.2.0",
      "_model_name": "LayoutModel",
      "_view_count": null,
      "_view_module": "@jupyter-widgets/base",
      "_view_module_version": "1.2.0",
      "_view_name": "LayoutView",
      "align_content": null,
      "align_items": null,
      "align_self": null,
      "border": null,
      "bottom": null,
      "display": null,
      "flex": null,
      "flex_flow": null,
      "grid_area": null,
      "grid_auto_columns": null,
      "grid_auto_flow": null,
      "grid_auto_rows": null,
      "grid_column": null,
      "grid_gap": null,
      "grid_row": null,
      "grid_template_areas": null,
      "grid_template_columns": null,
      "grid_template_rows": null,
      "height": null,
      "justify_content": null,
      "justify_items": null,
      "left": null,
      "margin": null,
      "max_height": null,
      "max_width": null,
      "min_height": null,
      "min_width": null,
      "object_fit": null,
      "object_position": null,
      "order": null,
      "overflow": null,
      "overflow_x": null,
      "overflow_y": null,
      "padding": null,
      "right": null,
      "top": null,
      "visibility": null,
      "width": null
     }
    },
    "7f0f3beb108e44b68256027fcd5b6c2b": {
     "model_module": "@jupyter-widgets/base",
     "model_module_version": "1.2.0",
     "model_name": "LayoutModel",
     "state": {
      "_model_module": "@jupyter-widgets/base",
      "_model_module_version": "1.2.0",
      "_model_name": "LayoutModel",
      "_view_count": null,
      "_view_module": "@jupyter-widgets/base",
      "_view_module_version": "1.2.0",
      "_view_name": "LayoutView",
      "align_content": null,
      "align_items": null,
      "align_self": null,
      "border": null,
      "bottom": null,
      "display": null,
      "flex": null,
      "flex_flow": null,
      "grid_area": null,
      "grid_auto_columns": null,
      "grid_auto_flow": null,
      "grid_auto_rows": null,
      "grid_column": null,
      "grid_gap": null,
      "grid_row": null,
      "grid_template_areas": null,
      "grid_template_columns": null,
      "grid_template_rows": null,
      "height": null,
      "justify_content": null,
      "justify_items": null,
      "left": null,
      "margin": null,
      "max_height": null,
      "max_width": null,
      "min_height": null,
      "min_width": null,
      "object_fit": null,
      "object_position": null,
      "order": null,
      "overflow": null,
      "overflow_x": null,
      "overflow_y": null,
      "padding": null,
      "right": null,
      "top": null,
      "visibility": null,
      "width": null
     }
    },
    "8289319c246542a68c4c4b6d695f45f6": {
     "model_module": "@jupyter-widgets/base",
     "model_module_version": "1.2.0",
     "model_name": "LayoutModel",
     "state": {
      "_model_module": "@jupyter-widgets/base",
      "_model_module_version": "1.2.0",
      "_model_name": "LayoutModel",
      "_view_count": null,
      "_view_module": "@jupyter-widgets/base",
      "_view_module_version": "1.2.0",
      "_view_name": "LayoutView",
      "align_content": null,
      "align_items": null,
      "align_self": null,
      "border": null,
      "bottom": null,
      "display": null,
      "flex": null,
      "flex_flow": null,
      "grid_area": null,
      "grid_auto_columns": null,
      "grid_auto_flow": null,
      "grid_auto_rows": null,
      "grid_column": null,
      "grid_gap": null,
      "grid_row": null,
      "grid_template_areas": null,
      "grid_template_columns": null,
      "grid_template_rows": null,
      "height": null,
      "justify_content": null,
      "justify_items": null,
      "left": null,
      "margin": null,
      "max_height": null,
      "max_width": null,
      "min_height": null,
      "min_width": null,
      "object_fit": null,
      "object_position": null,
      "order": null,
      "overflow": null,
      "overflow_x": null,
      "overflow_y": null,
      "padding": null,
      "right": null,
      "top": null,
      "visibility": null,
      "width": null
     }
    },
    "8458729b97f045348f5207b4120ef43f": {
     "model_module": "@jupyter-widgets/base",
     "model_module_version": "1.2.0",
     "model_name": "LayoutModel",
     "state": {
      "_model_module": "@jupyter-widgets/base",
      "_model_module_version": "1.2.0",
      "_model_name": "LayoutModel",
      "_view_count": null,
      "_view_module": "@jupyter-widgets/base",
      "_view_module_version": "1.2.0",
      "_view_name": "LayoutView",
      "align_content": null,
      "align_items": null,
      "align_self": null,
      "border": null,
      "bottom": null,
      "display": null,
      "flex": null,
      "flex_flow": null,
      "grid_area": null,
      "grid_auto_columns": null,
      "grid_auto_flow": null,
      "grid_auto_rows": null,
      "grid_column": null,
      "grid_gap": null,
      "grid_row": null,
      "grid_template_areas": null,
      "grid_template_columns": null,
      "grid_template_rows": null,
      "height": null,
      "justify_content": null,
      "justify_items": null,
      "left": null,
      "margin": null,
      "max_height": null,
      "max_width": null,
      "min_height": null,
      "min_width": null,
      "object_fit": null,
      "object_position": null,
      "order": null,
      "overflow": null,
      "overflow_x": null,
      "overflow_y": null,
      "padding": null,
      "right": null,
      "top": null,
      "visibility": null,
      "width": null
     }
    },
    "9080aec8a7da4515bb7576d6c96fe4a0": {
     "model_module": "@jupyter-widgets/controls",
     "model_module_version": "1.5.0",
     "model_name": "FloatProgressModel",
     "state": {
      "_dom_classes": [],
      "_model_module": "@jupyter-widgets/controls",
      "_model_module_version": "1.5.0",
      "_model_name": "FloatProgressModel",
      "_view_count": null,
      "_view_module": "@jupyter-widgets/controls",
      "_view_module_version": "1.5.0",
      "_view_name": "ProgressView",
      "bar_style": "success",
      "description": "",
      "description_tooltip": null,
      "layout": "IPY_MODEL_21d7fe2c084c4bc1bc0881050a18d26f",
      "max": 3491,
      "min": 0,
      "orientation": "horizontal",
      "style": "IPY_MODEL_af6224c0bedd432095e6faf7b663b3cb",
      "value": 3491
     }
    },
    "92e6132823b04201ab4e98d02f246a3f": {
     "model_module": "@jupyter-widgets/base",
     "model_module_version": "1.2.0",
     "model_name": "LayoutModel",
     "state": {
      "_model_module": "@jupyter-widgets/base",
      "_model_module_version": "1.2.0",
      "_model_name": "LayoutModel",
      "_view_count": null,
      "_view_module": "@jupyter-widgets/base",
      "_view_module_version": "1.2.0",
      "_view_name": "LayoutView",
      "align_content": null,
      "align_items": null,
      "align_self": null,
      "border": null,
      "bottom": null,
      "display": null,
      "flex": null,
      "flex_flow": null,
      "grid_area": null,
      "grid_auto_columns": null,
      "grid_auto_flow": null,
      "grid_auto_rows": null,
      "grid_column": null,
      "grid_gap": null,
      "grid_row": null,
      "grid_template_areas": null,
      "grid_template_columns": null,
      "grid_template_rows": null,
      "height": null,
      "justify_content": null,
      "justify_items": null,
      "left": null,
      "margin": null,
      "max_height": null,
      "max_width": null,
      "min_height": null,
      "min_width": null,
      "object_fit": null,
      "object_position": null,
      "order": null,
      "overflow": null,
      "overflow_x": null,
      "overflow_y": null,
      "padding": null,
      "right": null,
      "top": null,
      "visibility": null,
      "width": null
     }
    },
    "9c66e9ec2c8545979b634f84b55b5239": {
     "model_module": "@jupyter-widgets/controls",
     "model_module_version": "1.5.0",
     "model_name": "HBoxModel",
     "state": {
      "_dom_classes": [],
      "_model_module": "@jupyter-widgets/controls",
      "_model_module_version": "1.5.0",
      "_model_name": "HBoxModel",
      "_view_count": null,
      "_view_module": "@jupyter-widgets/controls",
      "_view_module_version": "1.5.0",
      "_view_name": "HBoxView",
      "box_style": "",
      "children": [
       "IPY_MODEL_541c9d37eb8e4cb995bac0874eb2eef9",
       "IPY_MODEL_f4feaa0c1fb54fb6be4444b284268f48",
       "IPY_MODEL_0a49eb68da3a4d86baceb1d1a5f1dbc4"
      ],
      "layout": "IPY_MODEL_f172c1769558496f8bf800c0e7634b8f"
     }
    },
    "aa93ec95d7af45568d7e20dbd42b15d4": {
     "model_module": "@jupyter-widgets/controls",
     "model_module_version": "1.5.0",
     "model_name": "DescriptionStyleModel",
     "state": {
      "_model_module": "@jupyter-widgets/controls",
      "_model_module_version": "1.5.0",
      "_model_name": "DescriptionStyleModel",
      "_view_count": null,
      "_view_module": "@jupyter-widgets/base",
      "_view_module_version": "1.2.0",
      "_view_name": "StyleView",
      "description_width": ""
     }
    },
    "ac3ff4f2cd494e4e9b46a2962cc36039": {
     "model_module": "@jupyter-widgets/controls",
     "model_module_version": "1.5.0",
     "model_name": "HBoxModel",
     "state": {
      "_dom_classes": [],
      "_model_module": "@jupyter-widgets/controls",
      "_model_module_version": "1.5.0",
      "_model_name": "HBoxModel",
      "_view_count": null,
      "_view_module": "@jupyter-widgets/controls",
      "_view_module_version": "1.5.0",
      "_view_name": "HBoxView",
      "box_style": "",
      "children": [
       "IPY_MODEL_d316f943eb6d446e8ad373e8ac2ca5ec",
       "IPY_MODEL_cc9bfcad34d5473ab1c03de900ff166e",
       "IPY_MODEL_2abe104216b647e882b68ffdf2ad5eac"
      ],
      "layout": "IPY_MODEL_6d8773c05d28486296b905034f79d5e9"
     }
    },
    "af6224c0bedd432095e6faf7b663b3cb": {
     "model_module": "@jupyter-widgets/controls",
     "model_module_version": "1.5.0",
     "model_name": "ProgressStyleModel",
     "state": {
      "_model_module": "@jupyter-widgets/controls",
      "_model_module_version": "1.5.0",
      "_model_name": "ProgressStyleModel",
      "_view_count": null,
      "_view_module": "@jupyter-widgets/base",
      "_view_module_version": "1.2.0",
      "_view_name": "StyleView",
      "bar_color": null,
      "description_width": ""
     }
    },
    "b167ae1cf47840c19cb462eba8d809e2": {
     "model_module": "@jupyter-widgets/controls",
     "model_module_version": "1.5.0",
     "model_name": "DescriptionStyleModel",
     "state": {
      "_model_module": "@jupyter-widgets/controls",
      "_model_module_version": "1.5.0",
      "_model_name": "DescriptionStyleModel",
      "_view_count": null,
      "_view_module": "@jupyter-widgets/base",
      "_view_module_version": "1.2.0",
      "_view_name": "StyleView",
      "description_width": ""
     }
    },
    "cc9bfcad34d5473ab1c03de900ff166e": {
     "model_module": "@jupyter-widgets/controls",
     "model_module_version": "1.5.0",
     "model_name": "FloatProgressModel",
     "state": {
      "_dom_classes": [],
      "_model_module": "@jupyter-widgets/controls",
      "_model_module_version": "1.5.0",
      "_model_name": "FloatProgressModel",
      "_view_count": null,
      "_view_module": "@jupyter-widgets/controls",
      "_view_module_version": "1.5.0",
      "_view_name": "ProgressView",
      "bar_style": "",
      "description": "",
      "description_tooltip": null,
      "layout": "IPY_MODEL_372ecb27ac7848ccaddbaf66e5acec7a",
      "max": 3491,
      "min": 0,
      "orientation": "horizontal",
      "style": "IPY_MODEL_f926612bf28545b0b32aed3507ae1436",
      "value": 0
     }
    },
    "d316f943eb6d446e8ad373e8ac2ca5ec": {
     "model_module": "@jupyter-widgets/controls",
     "model_module_version": "1.5.0",
     "model_name": "HTMLModel",
     "state": {
      "_dom_classes": [],
      "_model_module": "@jupyter-widgets/controls",
      "_model_module_version": "1.5.0",
      "_model_name": "HTMLModel",
      "_view_count": null,
      "_view_module": "@jupyter-widgets/controls",
      "_view_module_version": "1.5.0",
      "_view_name": "HTMLView",
      "description": "",
      "description_tooltip": null,
      "layout": "IPY_MODEL_92e6132823b04201ab4e98d02f246a3f",
      "placeholder": "​",
      "style": "IPY_MODEL_d728508c90c84dd990a1226a3b2def6a",
      "value": "Predict:   0%"
     }
    },
    "d6fe6c3cf43c487fa486b5e392f11d05": {
     "model_module": "@jupyter-widgets/base",
     "model_module_version": "1.2.0",
     "model_name": "LayoutModel",
     "state": {
      "_model_module": "@jupyter-widgets/base",
      "_model_module_version": "1.2.0",
      "_model_name": "LayoutModel",
      "_view_count": null,
      "_view_module": "@jupyter-widgets/base",
      "_view_module_version": "1.2.0",
      "_view_name": "LayoutView",
      "align_content": null,
      "align_items": null,
      "align_self": null,
      "border": null,
      "bottom": null,
      "display": null,
      "flex": null,
      "flex_flow": null,
      "grid_area": null,
      "grid_auto_columns": null,
      "grid_auto_flow": null,
      "grid_auto_rows": null,
      "grid_column": null,
      "grid_gap": null,
      "grid_row": null,
      "grid_template_areas": null,
      "grid_template_columns": null,
      "grid_template_rows": null,
      "height": null,
      "justify_content": null,
      "justify_items": null,
      "left": null,
      "margin": null,
      "max_height": null,
      "max_width": null,
      "min_height": null,
      "min_width": null,
      "object_fit": null,
      "object_position": null,
      "order": null,
      "overflow": null,
      "overflow_x": null,
      "overflow_y": null,
      "padding": null,
      "right": null,
      "top": null,
      "visibility": null,
      "width": null
     }
    },
    "d728508c90c84dd990a1226a3b2def6a": {
     "model_module": "@jupyter-widgets/controls",
     "model_module_version": "1.5.0",
     "model_name": "DescriptionStyleModel",
     "state": {
      "_model_module": "@jupyter-widgets/controls",
      "_model_module_version": "1.5.0",
      "_model_name": "DescriptionStyleModel",
      "_view_count": null,
      "_view_module": "@jupyter-widgets/base",
      "_view_module_version": "1.2.0",
      "_view_name": "StyleView",
      "description_width": ""
     }
    },
    "db9bbafd7c0c46a0ac0fe9fa5157a72b": {
     "model_module": "@jupyter-widgets/controls",
     "model_module_version": "1.5.0",
     "model_name": "HBoxModel",
     "state": {
      "_dom_classes": [],
      "_model_module": "@jupyter-widgets/controls",
      "_model_module_version": "1.5.0",
      "_model_name": "HBoxModel",
      "_view_count": null,
      "_view_module": "@jupyter-widgets/controls",
      "_view_module_version": "1.5.0",
      "_view_name": "HBoxView",
      "box_style": "",
      "children": [
       "IPY_MODEL_06e5280d483f461ba68f426f754a3bbd",
       "IPY_MODEL_9080aec8a7da4515bb7576d6c96fe4a0",
       "IPY_MODEL_ec95db39a11a4005aa0d4ae21ca0a18b"
      ],
      "layout": "IPY_MODEL_8289319c246542a68c4c4b6d695f45f6"
     }
    },
    "ec95db39a11a4005aa0d4ae21ca0a18b": {
     "model_module": "@jupyter-widgets/controls",
     "model_module_version": "1.5.0",
     "model_name": "HTMLModel",
     "state": {
      "_dom_classes": [],
      "_model_module": "@jupyter-widgets/controls",
      "_model_module_version": "1.5.0",
      "_model_name": "HTMLModel",
      "_view_count": null,
      "_view_module": "@jupyter-widgets/controls",
      "_view_module_version": "1.5.0",
      "_view_name": "HTMLView",
      "description": "",
      "description_tooltip": null,
      "layout": "IPY_MODEL_7f0f3beb108e44b68256027fcd5b6c2b",
      "placeholder": "​",
      "style": "IPY_MODEL_f3b124bdcd314a8eb96fedd8ff70d291",
      "value": " 3491/3491 [1:17:21&lt;00:00,  2.36 batches/s]"
     }
    },
    "f172c1769558496f8bf800c0e7634b8f": {
     "model_module": "@jupyter-widgets/base",
     "model_module_version": "1.2.0",
     "model_name": "LayoutModel",
     "state": {
      "_model_module": "@jupyter-widgets/base",
      "_model_module_version": "1.2.0",
      "_model_name": "LayoutModel",
      "_view_count": null,
      "_view_module": "@jupyter-widgets/base",
      "_view_module_version": "1.2.0",
      "_view_name": "LayoutView",
      "align_content": null,
      "align_items": null,
      "align_self": null,
      "border": null,
      "bottom": null,
      "display": null,
      "flex": null,
      "flex_flow": null,
      "grid_area": null,
      "grid_auto_columns": null,
      "grid_auto_flow": null,
      "grid_auto_rows": null,
      "grid_column": null,
      "grid_gap": null,
      "grid_row": null,
      "grid_template_areas": null,
      "grid_template_columns": null,
      "grid_template_rows": null,
      "height": null,
      "justify_content": null,
      "justify_items": null,
      "left": null,
      "margin": null,
      "max_height": null,
      "max_width": null,
      "min_height": null,
      "min_width": null,
      "object_fit": null,
      "object_position": null,
      "order": null,
      "overflow": null,
      "overflow_x": null,
      "overflow_y": null,
      "padding": null,
      "right": null,
      "top": null,
      "visibility": null,
      "width": null
     }
    },
    "f3b124bdcd314a8eb96fedd8ff70d291": {
     "model_module": "@jupyter-widgets/controls",
     "model_module_version": "1.5.0",
     "model_name": "DescriptionStyleModel",
     "state": {
      "_model_module": "@jupyter-widgets/controls",
      "_model_module_version": "1.5.0",
      "_model_name": "DescriptionStyleModel",
      "_view_count": null,
      "_view_module": "@jupyter-widgets/base",
      "_view_module_version": "1.2.0",
      "_view_name": "StyleView",
      "description_width": ""
     }
    },
    "f4feaa0c1fb54fb6be4444b284268f48": {
     "model_module": "@jupyter-widgets/controls",
     "model_module_version": "1.5.0",
     "model_name": "FloatProgressModel",
     "state": {
      "_dom_classes": [],
      "_model_module": "@jupyter-widgets/controls",
      "_model_module_version": "1.5.0",
      "_model_name": "FloatProgressModel",
      "_view_count": null,
      "_view_module": "@jupyter-widgets/controls",
      "_view_module_version": "1.5.0",
      "_view_name": "ProgressView",
      "bar_style": "danger",
      "description": "",
      "description_tooltip": null,
      "layout": "IPY_MODEL_27b1639a0b31422583cbfe84f203fa2e",
      "max": 3491,
      "min": 0,
      "orientation": "horizontal",
      "style": "IPY_MODEL_0a94a71942f94dbe8ba6857b94d4e3ea",
      "value": 0
     }
    },
    "f926612bf28545b0b32aed3507ae1436": {
     "model_module": "@jupyter-widgets/controls",
     "model_module_version": "1.5.0",
     "model_name": "ProgressStyleModel",
     "state": {
      "_model_module": "@jupyter-widgets/controls",
      "_model_module_version": "1.5.0",
      "_model_name": "ProgressStyleModel",
      "_view_count": null,
      "_view_module": "@jupyter-widgets/base",
      "_view_module_version": "1.2.0",
      "_view_name": "StyleView",
      "bar_color": null,
      "description_width": ""
     }
    },
    "f9de2f8d02bc4ca3af82ed55d5ab2c72": {
     "model_module": "@jupyter-widgets/base",
     "model_module_version": "1.2.0",
     "model_name": "LayoutModel",
     "state": {
      "_model_module": "@jupyter-widgets/base",
      "_model_module_version": "1.2.0",
      "_model_name": "LayoutModel",
      "_view_count": null,
      "_view_module": "@jupyter-widgets/base",
      "_view_module_version": "1.2.0",
      "_view_name": "LayoutView",
      "align_content": null,
      "align_items": null,
      "align_self": null,
      "border": null,
      "bottom": null,
      "display": null,
      "flex": null,
      "flex_flow": null,
      "grid_area": null,
      "grid_auto_columns": null,
      "grid_auto_flow": null,
      "grid_auto_rows": null,
      "grid_column": null,
      "grid_gap": null,
      "grid_row": null,
      "grid_template_areas": null,
      "grid_template_columns": null,
      "grid_template_rows": null,
      "height": null,
      "justify_content": null,
      "justify_items": null,
      "left": null,
      "margin": null,
      "max_height": null,
      "max_width": null,
      "min_height": null,
      "min_width": null,
      "object_fit": null,
      "object_position": null,
      "order": null,
      "overflow": null,
      "overflow_x": null,
      "overflow_y": null,
      "padding": null,
      "right": null,
      "top": null,
      "visibility": null,
      "width": null
     }
    }
   }
  }
 },
 "nbformat": 4,
 "nbformat_minor": 4
}
