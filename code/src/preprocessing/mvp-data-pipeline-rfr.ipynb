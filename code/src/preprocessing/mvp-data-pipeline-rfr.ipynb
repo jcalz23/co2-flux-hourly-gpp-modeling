{
 "cells": [
  {
   "cell_type": "markdown",
   "id": "OA1ZkEPP3zLz",
   "metadata": {
    "id": "OA1ZkEPP3zLz"
   },
   "source": [
    "# Notebook Setup"
   ]
  },
  {
   "cell_type": "code",
   "execution_count": 6,
   "id": "f6c9a282",
   "metadata": {
    "tags": []
   },
   "outputs": [],
   "source": [
    "#TODO: CHANGE THIS BASED ON YOUR OWN LOCAL SETTINGS\n",
    "MY_HOME_ABS_PATH = \"/Users/jetcalz07/Desktop/MIDS/W210_Capstone/co2-flux-hourly-gpp-modeling\"\n",
    "#MY_HOME_ABS_PATH = \"/root/co2-flux-hourly-gpp-modeling\""
   ]
  },
  {
   "cell_type": "code",
   "execution_count": 7,
   "id": "ko8n8_z9pkBE",
   "metadata": {
    "colab": {
     "base_uri": "https://localhost:8080/"
    },
    "executionInfo": {
     "elapsed": 20193,
     "status": "ok",
     "timestamp": 1678533146889,
     "user": {
      "displayName": "Mary Chau",
      "userId": "14027067063095206122"
     },
     "user_tz": 480
    },
    "id": "ko8n8_z9pkBE",
    "outputId": "3283f521-a15c-4178-a58f-b88c96cf9ee9",
    "tags": []
   },
   "outputs": [],
   "source": [
    "if 'google.colab' in str(get_ipython()):\n",
    "  IN_COLLAB = True\n",
    "  from google.colab import drive\n",
    "  drive.mount('/content/drive/')\n",
    "else:\n",
    "  IN_COLLAB = False"
   ]
  },
  {
   "cell_type": "markdown",
   "id": "WQOpIAzZ32Ek",
   "metadata": {
    "id": "WQOpIAzZ32Ek"
   },
   "source": [
    "## Import Modules"
   ]
  },
  {
   "cell_type": "code",
   "execution_count": 8,
   "id": "be2d4d6a",
   "metadata": {
    "colab": {
     "base_uri": "https://localhost:8080/"
    },
    "executionInfo": {
     "elapsed": 10058,
     "status": "ok",
     "timestamp": 1678533156939,
     "user": {
      "displayName": "Mary Chau",
      "userId": "14027067063095206122"
     },
     "user_tz": 480
    },
    "id": "be2d4d6a",
    "outputId": "ead312f6-6d4d-4499-9777-700dcaa9b38c",
    "tags": []
   },
   "outputs": [],
   "source": [
    "# install required modules quietly\n",
    "# required_packages = ['azure-storage-blob']\n",
    "\n",
    "# for p in required_packages: \n",
    "#   try:\n",
    "#       __import__(p)\n",
    "#   except ImportError:\n",
    "#       %pip install {p} --quiet\n",
    "\n",
    "import os\n",
    "os.environ[\"PYARROW_IGNORE_TIMEZONE\"] = \"1\"\n",
    "import pandas as pd\n",
    "import numpy as np\n",
    "import sys\n",
    "import joblib\n",
    "from io import BytesIO\n",
    "from sklearn.model_selection import StratifiedKFold\n",
    "\n",
    "# Load locale custome modules\n",
    "os.chdir(MY_HOME_ABS_PATH)\n",
    "if IN_COLLAB:\n",
    "    sys.path.insert(0,os.path.abspath(\"./code/src/tools\"))\n",
    "else:\n",
    "    sys.path.append(os.path.abspath(\"./code/src/tools\"))\n",
    "\n",
    "from CloudIO.AzStorageClient import AzStorageClient\n",
    "from data_pipeline_lib import *\n",
    "\n",
    "pd.set_option('display.max_columns', None)\n",
    "pd.set_option('display.float_format', lambda x: '%.5f' % x)"
   ]
  },
  {
   "cell_type": "markdown",
   "id": "O4RveeAZ3qm8",
   "metadata": {
    "id": "O4RveeAZ3qm8"
   },
   "source": [
    "# Define Constants"
   ]
  },
  {
   "cell_type": "code",
   "execution_count": 9,
   "id": "8652c8af",
   "metadata": {
    "executionInfo": {
     "elapsed": 10,
     "status": "ok",
     "timestamp": 1678533156940,
     "user": {
      "displayName": "Mary Chau",
      "userId": "14027067063095206122"
     },
     "user_tz": 480
    },
    "id": "8652c8af",
    "tags": []
   },
   "outputs": [],
   "source": [
    "root_dir =  MY_HOME_ABS_PATH\n",
    "tmp_dir =  root_dir + os.sep + '.tmp'\n",
    "raw_data_dir = tmp_dir\n",
    "data_dir = root_dir + os.sep + 'data'\n",
    "cred_dir = root_dir + os.sep + '.cred'\n",
    "az_cred_file = cred_dir + os.sep + 'azblobcred.json'\n",
    "preproc_objects_dir = root_dir + os.sep + 'code' + os.sep + 'src' + os.sep + 'preprocessing' + os.sep + 'preproc_objects'\n",
    "\n",
    "if IN_COLLAB:\n",
    "    raw_data_dir = \"/content/drive/MyDrive/W210/Data/half_hourly_data\"\n",
    "\n",
    "# input files\n",
    "site_metadata_filename = data_dir + os.sep + 'site-metadata.csv'\n",
    "monthly_data_filename = data_dir + os.sep + \"monthly-mvp.csv\"\n",
    "\n",
    "# File\n",
    "container = \"all-sites-data\"\n",
    "ext = \"parquet\"\n",
    "ver = \"mvp\"\n",
    "model = \"rfr\"\n",
    "blob_name_base = f\"{model}-full_2010_2015_v_{ver}\"\n",
    "train_blob_name = f\"{model}-full_2010_2015-train-v-{ver}.{ext}\"\n",
    "val_blob_name = f\"{model}-full_2010_2015-val-v-{ver}.{ext}\"\n",
    "test_blob_name = f\"{model}-full_2010_2015-test-v-{ver}.{ext}\""
   ]
  },
  {
   "cell_type": "code",
   "execution_count": 10,
   "id": "VEPrPTsIP-6v",
   "metadata": {
    "executionInfo": {
     "elapsed": 9,
     "status": "ok",
     "timestamp": 1678533156940,
     "user": {
      "displayName": "Mary Chau",
      "userId": "14027067063095206122"
     },
     "user_tz": 480
    },
    "id": "VEPrPTsIP-6v",
    "tags": []
   },
   "outputs": [],
   "source": [
    "# Define features and target variables of the data pipelines\n",
    "target_variable = 'GPP_NT_VUT_REF'\n",
    "#target_variable_qc = 'NEE_VUT_REF_QC'\n",
    "hourly_features = ['TA_ERA', 'SW_IN_ERA', 'LW_IN_ERA', 'VPD_ERA', 'P_ERA', 'PA_ERA',\n",
    "                     'datetime', 'year', 'month', 'day', 'hour', 'date',\n",
    "                     'EVI', 'NDVI', 'NIRv', 'b1', 'b2', 'b3', 'b4', 'b5', 'b6', 'b7']\n",
    "metadata_features = ['site_id', 'filename', 'lat', 'long', 'koppen_sub', 'koppen_main', 'IGBP',\n",
    "                     'c3c4', 'c4_percent', 'monthly_data_available']\n",
    "\n",
    "# Define the features to use in KNN imputer, only using real values as cat are same per site\n",
    "imp_exclude_cols = ['date', 'datetime', 'year', 'month', 'hour', 'day', 'minute', 'site_id', 'IGBP']\n",
    "imp_cols = [x for x in hourly_features + ['GPP_NT_VUT_REF'] if x not in imp_exclude_cols]"
   ]
  },
  {
   "cell_type": "markdown",
   "id": "bIoy86rH4hRH",
   "metadata": {
    "id": "bIoy86rH4hRH"
   },
   "source": [
    "# Stage 1: Trim and Merge Site Metadata"
   ]
  },
  {
   "cell_type": "code",
   "execution_count": 11,
   "id": "fab0c08a",
   "metadata": {
    "colab": {
     "base_uri": "https://localhost:8080/"
    },
    "executionInfo": {
     "elapsed": 27,
     "status": "ok",
     "timestamp": 1678518922905,
     "user": {
      "displayName": "M C",
      "userId": "04433644267338205634"
     },
     "user_tz": 480
    },
    "id": "fab0c08a",
    "outputId": "23634180-e15f-4cfc-a4a8-e12783f7eb80",
    "tags": []
   },
   "outputs": [],
   "source": [
    "# Define imput params\n",
    "impute = True\n",
    "impute_method = 'knn'\n",
    "impute_global = True\n",
    "resample = False # <----------- set to false for RF run\n",
    "time_col = 'datetime'\n",
    "duration = 'H'\n",
    "\n",
    "# Filter sequence to date range\n",
    "missing_thresh = 0.2\n",
    "start_date = '2010-01-01'\n",
    "end_date ='2015-12-31'\n",
    "\n",
    "# Impute params (if used)\n",
    "k=5\n",
    "weights='uniform'\n",
    "n_fit=20000\n",
    "c=-1"
   ]
  },
  {
   "cell_type": "code",
   "execution_count": 12,
   "id": "5fb2d575",
   "metadata": {
    "colab": {
     "base_uri": "https://localhost:8080/"
    },
    "executionInfo": {
     "elapsed": 3456202,
     "status": "ok",
     "timestamp": 1678522379084,
     "user": {
      "displayName": "M C",
      "userId": "04433644267338205634"
     },
     "user_tz": 480
    },
    "id": "5fb2d575",
    "outputId": "ae040623-0f4d-4035-cb9a-14a4797428f8",
    "tags": []
   },
   "outputs": [
    {
     "name": "stdout",
     "output_type": "stream",
     "text": [
      "Sites with missing monthly data: 43\n",
      "1. AR-SLu: (10800, 28)\n",
      "2. AR-Vir: (16992, 28)\n",
      "3. AT-Neu: (26304, 28)\n",
      "4. AU-ASM: (37248, 28)\n",
      "SKIP: AU-Ade does not have sufficient data in desired time period\n",
      "6. AU-Cpr: (36192, 28)\n",
      "7. AU-Cum: (18864, 28)\n",
      "8. AU-DaP: (28200, 28)\n",
      "9. AU-DaS: (40392, 28)\n",
      "SKIP: AU-Dry does not have sufficient data in desired time period\n",
      "11. AU-Emr: (20448, 28)\n",
      "SKIP: AU-Fog does not have sufficient data in desired time period\n",
      "13. AU-Gin: (24336, 28)\n",
      "14. AU-How: (43824, 28)\n",
      "15. AU-RDF: (14904, 28)\n",
      "16. AU-Rig: (31824, 28)\n",
      "17. AU-Stp: (40632, 28)\n",
      "18. AU-TTE: (21288, 28)\n",
      "SKIP: AU-Tum is missing hourly data.\n",
      "SKIP: AU-Wac does not have sufficient data in desired time period\n",
      "21. AU-Whr: (27024, 28)\n",
      "22. AU-Wom: (41928, 28)\n",
      "SKIP: AU-Ync does not have sufficient data in desired time period\n",
      "SKIP: BR-Sa1 is missing hourly data.\n",
      "SKIP: BR-Sa3 does not have sufficient data in desired time period\n",
      "SKIP: CA-Man does not have sufficient data in desired time period\n",
      "SKIP: CA-NS4 does not have sufficient data in desired time period\n",
      "SKIP: CA-NS7 does not have sufficient data in desired time period\n",
      "29. CA-Oas: (8760, 28)\n",
      "SKIP: CA-Obs does not have sufficient data in desired time period\n",
      "SKIP: CA-SF1 does not have sufficient data in desired time period\n",
      "SKIP: CA-SF3 does not have sufficient data in desired time period\n",
      "33. CA-TP1: (38856, 28)\n",
      "SKIP: CA-TP2 does not have sufficient data in desired time period\n",
      "35. CA-TP3: (42792, 28)\n",
      "36. CA-TPD: (25296, 28)\n",
      "SKIP: CG-Tch does not have sufficient data in desired time period\n",
      "SKIP: CH-Oe1 does not have sufficient data in desired time period\n",
      "SKIP: CN-Cha does not have sufficient data in desired time period\n",
      "SKIP: CN-Cng does not have sufficient data in desired time period\n",
      "SKIP: CN-Din does not have sufficient data in desired time period\n",
      "SKIP: CN-Du2 does not have sufficient data in desired time period\n",
      "SKIP: CN-Ha2 does not have sufficient data in desired time period\n",
      "SKIP: CN-HaM does not have sufficient data in desired time period\n",
      "SKIP: CN-Qia does not have sufficient data in desired time period\n",
      "  Column(s) with only NAN: ['b6']\n",
      "46. CN-Sw2: (9600, 28)\n",
      "47. CZ-BK2: (25128, 28)\n",
      "SKIP: DE-Lkb does not have sufficient data in desired time period\n",
      "49. DE-Lnf: (24984, 28)\n",
      "SKIP: DE-Seh does not have sufficient data in desired time period\n",
      "51. DE-SfN: (19680, 28)\n",
      "52. DE-Spw: (35304, 28)\n",
      "SKIP: DK-Eng does not have sufficient data in desired time period\n",
      "54. ES-Amo: (24816, 28)\n",
      "SKIP: ES-LgS does not have sufficient data in desired time period\n",
      "SKIP: FI-Jok does not have sufficient data in desired time period\n",
      "SKIP: FI-Lom does not have sufficient data in desired time period\n",
      "58. FI-Sod: (41424, 28)\n",
      "SKIP: FR-LBr does not have sufficient data in desired time period\n",
      "60. FR-Pue: (41136, 28)\n",
      "SKIP: GH-Ank does not have sufficient data in desired time period\n",
      "SKIP: GL-NuF does not have sufficient data in desired time period\n",
      "SKIP: GL-ZaF does not have sufficient data in desired time period\n",
      "SKIP: GL-ZaH does not have sufficient data in desired time period\n",
      "65. IT-CA1: (28008, 28)\n",
      "66. IT-CA2: (27768, 28)\n",
      "67. IT-CA3: (23256, 28)\n",
      "SKIP: IT-Col does not have sufficient data in desired time period\n",
      "SKIP: IT-Cpz does not have sufficient data in desired time period\n",
      "SKIP: IT-La2 does not have sufficient data in desired time period\n",
      "71. IT-Noe: (35064, 28)\n",
      "SKIP: IT-PT1 does not have sufficient data in desired time period\n",
      "SKIP: IT-Ro1 does not have sufficient data in desired time period\n",
      "74. IT-Ro2: (23064, 28)\n",
      "75. IT-SRo: (23832, 28)\n",
      "SKIP: JP-MBF does not have sufficient data in desired time period\n",
      "SKIP: JP-SMF does not have sufficient data in desired time period\n",
      "SKIP: MY-PSO does not have sufficient data in desired time period\n",
      "79. NL-Hor: (14496, 28)\n",
      "SKIP: PA-SPn does not have sufficient data in desired time period\n",
      "SKIP: PA-SPs does not have sufficient data in desired time period\n",
      "SKIP: RU-Che does not have sufficient data in desired time period\n",
      "SKIP: RU-Cok does not have sufficient data in desired time period\n",
      "SKIP: RU-Ha1 does not have sufficient data in desired time period\n",
      "SKIP: SD-Dem does not have sufficient data in desired time period\n",
      "SKIP: SJ-Adv does not have sufficient data in desired time period\n",
      "SKIP: SN-Dhr does not have sufficient data in desired time period\n",
      "SKIP: US-Atq does not have sufficient data in desired time period\n",
      "SKIP: US-Blo does not have sufficient data in desired time period\n",
      "SKIP: US-Cop is missing hourly data.\n",
      "SKIP: US-GBT does not have sufficient data in desired time period\n",
      "92. US-GLE: (41736, 28)\n",
      "SKIP: US-Goo does not have sufficient data in desired time period\n",
      "SKIP: US-Ha1 is missing hourly data.\n",
      "95. US-IB2: (17184, 28)\n",
      "SKIP: US-Ivo does not have sufficient data in desired time period\n",
      "SKIP: US-KS2 does not have sufficient data in desired time period\n",
      "SKIP: US-Los does not have sufficient data in desired time period\n",
      "SKIP: US-Me3 does not have sufficient data in desired time period\n",
      "SKIP: US-Me5 does not have sufficient data in desired time period\n",
      "101. US-Me6: (33336, 28)\n",
      "102. US-Myb: (32160, 28)\n",
      "103. US-NR1: (43512, 28)\n",
      "SKIP: US-Ne1 is missing hourly data.\n",
      "SKIP: US-Ne2 is missing hourly data.\n",
      "SKIP: US-Ne3 is missing hourly data.\n",
      "SKIP: US-PFa is missing hourly data.\n",
      "SKIP: US-SRC does not have sufficient data in desired time period\n",
      "109. US-SRM: (43296, 28)\n",
      "SKIP: US-Sta does not have sufficient data in desired time period\n",
      "111. US-Syv: (19824, 28)\n",
      "112. US-Ton: (42264, 28)\n",
      "113. US-Twt: (39048, 28)\n",
      "114. US-Var: (43440, 28)\n"
     ]
    },
    {
     "ename": "KeyboardInterrupt",
     "evalue": "",
     "output_type": "error",
     "traceback": [
      "\u001b[0;31m---------------------------------------------------------------------------\u001b[0m",
      "\u001b[0;31mKeyboardInterrupt\u001b[0m                         Traceback (most recent call last)",
      "Cell \u001b[0;32mIn[12], line 4\u001b[0m\n\u001b[1;32m      1\u001b[0m prep_hourly \u001b[39m=\u001b[39m PrepareAllSitesHourly(site_metadata_filename, monthly_data_filename, \n\u001b[1;32m      2\u001b[0m                                     hourly_features, metadata_features, target_variable, raw_data_dir)\n\u001b[0;32m----> 4\u001b[0m data_df \u001b[39m=\u001b[39m prep_hourly\u001b[39m.\u001b[39;49mall_sites_all_sources(imp_cols, resample, impute, impute_method, impute_global,\n\u001b[1;32m      5\u001b[0m                                             k, weights, n_fit, time_col, duration, start_date, end_date, missing_thresh, c)\n",
      "File \u001b[0;32m~/Desktop/MIDS/W210_Capstone/co2-flux-hourly-gpp-modeling/code/src/tools/data_pipeline_lib.py:528\u001b[0m, in \u001b[0;36mPrepareAllSitesHourly.all_sites_all_sources\u001b[0;34m(self, imp_cols, resample, impute, impute_method, impute_global, k, weights, n_fit, time_col, duration, start_date, end_date, missing_thresh, c)\u001b[0m\n\u001b[1;32m    523\u001b[0m \u001b[39mdef\u001b[39;00m \u001b[39mall_sites_all_sources\u001b[39m(\u001b[39mself\u001b[39m, imp_cols, resample, impute, impute_method, impute_global, k,\n\u001b[1;32m    524\u001b[0m                         weights, n_fit, time_col, duration, start_date, end_date, missing_thresh, c):\n\u001b[1;32m    526\u001b[0m     site_metadata_df \u001b[39m=\u001b[39m \u001b[39mself\u001b[39m\u001b[39m.\u001b[39mprep_metadata()\n\u001b[0;32m--> 528\u001b[0m     data_df \u001b[39m=\u001b[39m \u001b[39mself\u001b[39;49m\u001b[39m.\u001b[39;49msite_data_cleanup(site_metadata_df, imp_cols, resample, impute, impute_method, \n\u001b[1;32m    529\u001b[0m                                     impute_global, k, weights, n_fit, time_col, duration, start_date, end_date, missing_thresh, c)\n\u001b[1;32m    531\u001b[0m     \u001b[39m# Merge with site metadata and monthly data\u001b[39;00m\n\u001b[1;32m    532\u001b[0m     data_df \u001b[39m=\u001b[39m \u001b[39mself\u001b[39m\u001b[39m.\u001b[39mmerge_site_metadata(data_df, site_metadata_df)\n",
      "File \u001b[0;32m~/Desktop/MIDS/W210_Capstone/co2-flux-hourly-gpp-modeling/code/src/tools/data_pipeline_lib.py:468\u001b[0m, in \u001b[0;36mPrepareAllSitesHourly.site_data_cleanup\u001b[0;34m(self, site_metadata_df, imp_cols, resample, impute, impute_method, impute_global, k, weights, n_fit, time_col, duration, start_date, end_date, missing_thresh, c)\u001b[0m\n\u001b[1;32m    466\u001b[0m \u001b[39melif\u001b[39;00m impute_method\u001b[39m==\u001b[39m\u001b[39m'\u001b[39m\u001b[39mknn\u001b[39m\u001b[39m'\u001b[39m: \u001b[39m# use KNNImputer\u001b[39;00m\n\u001b[1;32m    467\u001b[0m     nan_cols \u001b[39m=\u001b[39m site_df\u001b[39m.\u001b[39mcolumns[site_df\u001b[39m.\u001b[39misna()\u001b[39m.\u001b[39mall()]\u001b[39m.\u001b[39mtolist()\n\u001b[0;32m--> 468\u001b[0m     site_df \u001b[39m=\u001b[39m \u001b[39mself\u001b[39;49m\u001b[39m.\u001b[39;49mknn_impute(site_df, imp_cols, k, weights, n_fit)\n\u001b[1;32m    469\u001b[0m     \u001b[39mif\u001b[39;00m \u001b[39mlen\u001b[39m(nan_cols) \u001b[39m>\u001b[39m \u001b[39m0\u001b[39m:\n\u001b[1;32m    470\u001b[0m         \u001b[39mprint\u001b[39m(\u001b[39mf\u001b[39m\u001b[39m'\u001b[39m\u001b[39m{\u001b[39;00mr\u001b[39m.\u001b[39msite_id\u001b[39m}\u001b[39;00m\u001b[39m has column(s) with only NAN: \u001b[39m\u001b[39m{\u001b[39;00mnan_cols\u001b[39m}\u001b[39;00m\u001b[39m'\u001b[39m)\n",
      "File \u001b[0;32m~/Desktop/MIDS/W210_Capstone/co2-flux-hourly-gpp-modeling/code/src/tools/data_pipeline_lib.py:285\u001b[0m, in \u001b[0;36mPrepareAllSitesHourly.knn_impute\u001b[0;34m(self, df, imp_cols, k, weights, n_fit)\u001b[0m\n\u001b[1;32m    283\u001b[0m     not_na_rows \u001b[39m=\u001b[39m not_na_rows\u001b[39m.\u001b[39msample(n\u001b[39m=\u001b[39mnp\u001b[39m.\u001b[39mmin([n_fit, \u001b[39mlen\u001b[39m(not_na_rows)]))\n\u001b[1;32m    284\u001b[0m     imputer\u001b[39m.\u001b[39mfit(not_na_rows)\n\u001b[0;32m--> 285\u001b[0m     imputed_group \u001b[39m=\u001b[39m imputer\u001b[39m.\u001b[39;49mtransform(na_rows)\n\u001b[1;32m    286\u001b[0m \u001b[39melse\u001b[39;00m:\n\u001b[1;32m    287\u001b[0m     nan_cols \u001b[39m=\u001b[39m na_rows\u001b[39m.\u001b[39mcolumns[na_rows\u001b[39m.\u001b[39misna()\u001b[39m.\u001b[39mall()]\u001b[39m.\u001b[39mtolist()\n",
      "File \u001b[0;32m~/Library/Caches/pypoetry/virtualenvs/src-rYFmMrY7-py3.10/lib/python3.10/site-packages/sklearn/impute/_knn.py:338\u001b[0m, in \u001b[0;36mKNNImputer.transform\u001b[0;34m(self, X)\u001b[0m\n\u001b[1;32m    329\u001b[0m \u001b[39m# process in fixed-memory chunks\u001b[39;00m\n\u001b[1;32m    330\u001b[0m gen \u001b[39m=\u001b[39m pairwise_distances_chunked(\n\u001b[1;32m    331\u001b[0m     X[row_missing_idx, :],\n\u001b[1;32m    332\u001b[0m     \u001b[39mself\u001b[39m\u001b[39m.\u001b[39m_fit_X,\n\u001b[0;32m   (...)\u001b[0m\n\u001b[1;32m    336\u001b[0m     reduce_func\u001b[39m=\u001b[39mprocess_chunk,\n\u001b[1;32m    337\u001b[0m )\n\u001b[0;32m--> 338\u001b[0m \u001b[39mfor\u001b[39;00m chunk \u001b[39min\u001b[39;00m gen:\n\u001b[1;32m    339\u001b[0m     \u001b[39m# process_chunk modifies X in place. No return value.\u001b[39;00m\n\u001b[1;32m    340\u001b[0m     \u001b[39mpass\u001b[39;00m\n\u001b[1;32m    342\u001b[0m \u001b[39mreturn\u001b[39;00m \u001b[39msuper\u001b[39m()\u001b[39m.\u001b[39m_concatenate_indicator(X[:, valid_mask], X_indicator)\n",
      "File \u001b[0;32m~/Library/Caches/pypoetry/virtualenvs/src-rYFmMrY7-py3.10/lib/python3.10/site-packages/sklearn/metrics/pairwise.py:1859\u001b[0m, in \u001b[0;36mpairwise_distances_chunked\u001b[0;34m(X, Y, reduce_func, metric, n_jobs, working_memory, **kwds)\u001b[0m\n\u001b[1;32m   1857\u001b[0m \u001b[39mif\u001b[39;00m reduce_func \u001b[39mis\u001b[39;00m \u001b[39mnot\u001b[39;00m \u001b[39mNone\u001b[39;00m:\n\u001b[1;32m   1858\u001b[0m     chunk_size \u001b[39m=\u001b[39m D_chunk\u001b[39m.\u001b[39mshape[\u001b[39m0\u001b[39m]\n\u001b[0;32m-> 1859\u001b[0m     D_chunk \u001b[39m=\u001b[39m reduce_func(D_chunk, sl\u001b[39m.\u001b[39;49mstart)\n\u001b[1;32m   1860\u001b[0m     _check_chunk_size(D_chunk, chunk_size)\n\u001b[1;32m   1861\u001b[0m \u001b[39myield\u001b[39;00m D_chunk\n",
      "File \u001b[0;32m~/Library/Caches/pypoetry/virtualenvs/src-rYFmMrY7-py3.10/lib/python3.10/site-packages/sklearn/impute/_knn.py:301\u001b[0m, in \u001b[0;36mKNNImputer.transform.<locals>.process_chunk\u001b[0;34m(dist_chunk, start)\u001b[0m\n\u001b[1;32m    296\u001b[0m dist_subset \u001b[39m=\u001b[39m dist_chunk[dist_idx_map[receivers_idx] \u001b[39m-\u001b[39m start][\n\u001b[1;32m    297\u001b[0m     :, potential_donors_idx\n\u001b[1;32m    298\u001b[0m ]\n\u001b[1;32m    300\u001b[0m \u001b[39m# receivers with all nan distances impute with mean\u001b[39;00m\n\u001b[0;32m--> 301\u001b[0m all_nan_dist_mask \u001b[39m=\u001b[39m np\u001b[39m.\u001b[39;49misnan(dist_subset)\u001b[39m.\u001b[39mall(axis\u001b[39m=\u001b[39m\u001b[39m1\u001b[39m)\n\u001b[1;32m    302\u001b[0m all_nan_receivers_idx \u001b[39m=\u001b[39m receivers_idx[all_nan_dist_mask]\n\u001b[1;32m    304\u001b[0m \u001b[39mif\u001b[39;00m all_nan_receivers_idx\u001b[39m.\u001b[39msize:\n",
      "\u001b[0;31mKeyboardInterrupt\u001b[0m: "
     ]
    }
   ],
   "source": [
    "prep_hourly = PrepareAllSitesHourly(site_metadata_filename, monthly_data_filename, \n",
    "                                    hourly_features, metadata_features, target_variable, raw_data_dir)\n",
    "\n",
    "data_df = prep_hourly.all_sites_all_sources(imp_cols, resample, impute, impute_method, impute_global,\n",
    "                                            k, weights, n_fit, time_col, duration, start_date, end_date, missing_thresh, c)"
   ]
  },
  {
   "cell_type": "code",
   "execution_count": null,
   "id": "h6UwtFm1gCwJ",
   "metadata": {
    "id": "h6UwtFm1gCwJ"
   },
   "outputs": [],
   "source": [
    "if data_df.isna().sum().sum() != 0:\n",
    "  display(data_df[data_df.isna().any(axis=1)].groupby(['site_id', 'year', 'month']).count())\n",
    "  display(pd.DataFrame(data_df.isna().sum()).T)"
   ]
  },
  {
   "cell_type": "code",
   "execution_count": null,
   "id": "6ced7ba7",
   "metadata": {
    "colab": {
     "base_uri": "https://localhost:8080/"
    },
    "executionInfo": {
     "elapsed": 16,
     "status": "ok",
     "timestamp": 1678522380446,
     "user": {
      "displayName": "M C",
      "userId": "04433644267338205634"
     },
     "user_tz": 480
    },
    "id": "6ced7ba7",
    "outputId": "318b4257-2bf1-4667-b244-509b19206a02"
   },
   "outputs": [],
   "source": [
    "# Get the memory usage of the dataframe in bytes\n",
    "memory_usage = data_df.memory_usage().sum()\n",
    "memory_usage_gb = memory_usage / 1_000_000_000\n",
    "print(f\"The dataframe uses {memory_usage_gb:.2f} GB of memory.\")"
   ]
  },
  {
   "cell_type": "markdown",
   "id": "qIgEoFtJeRUC",
   "metadata": {
    "id": "qIgEoFtJeRUC"
   },
   "source": [
    "# CHECKPOINT: Save full raw data"
   ]
  },
  {
   "cell_type": "code",
   "execution_count": null,
   "id": "BS5VAxTAd_O1",
   "metadata": {
    "executionInfo": {
     "elapsed": 9,
     "status": "ok",
     "timestamp": 1678533156941,
     "user": {
      "displayName": "Mary Chau",
      "userId": "14027067063095206122"
     },
     "user_tz": 480
    },
    "id": "BS5VAxTAd_O1"
   },
   "outputs": [],
   "source": [
    "# Upload data_df checkpoint to Azure Storage Blob\n",
    "# ref: https://stackoverflow.com/a/54666079\n",
    "data_cleanup_checkpoint = True\n",
    "tag = \"raw\"\n",
    "blob_name = f\"{blob_name_base}_{tag}.{ext}\"\n",
    "\n",
    "if data_cleanup_checkpoint:\n",
    "  parquet_file = BytesIO()\n",
    "  data_df.to_parquet(parquet_file, engine='pyarrow')\n",
    "  parquet_file.seek(0)\n",
    "\n",
    "  azStorageClient = AzStorageClient(az_cred_file)\n",
    "  azStorageClient.uploadBlob(container, blob_name, parquet_file, overwrite=True)"
   ]
  },
  {
   "cell_type": "code",
   "execution_count": null,
   "id": "r-33pSJElODS",
   "metadata": {
    "colab": {
     "base_uri": "https://localhost:8080/"
    },
    "executionInfo": {
     "elapsed": 2361,
     "status": "ok",
     "timestamp": 1678533338302,
     "user": {
      "displayName": "Mary Chau",
      "userId": "14027067063095206122"
     },
     "user_tz": 480
    },
    "id": "r-33pSJElODS",
    "outputId": "f5e1de70-8b92-4eae-f196-600d5ca38cb2"
   },
   "outputs": [],
   "source": [
    "# (Optional) Load data_df from Azure checkpoint\n",
    "load_data_checkpoint = False\n",
    "\n",
    "if load_data_checkpoint:\n",
    "    data_df = None\n",
    "    local_file = tmp_dir + os.sep + blob_name \n",
    "    if not (os.path.exists(local_file)): # <--- when would this ever be true?\n",
    "        azStorageClient = AzStorageClient(az_cred_file)\n",
    "        file_stream = azStorageClient.downloadBlob2Stream(container, blob_name)\n",
    "        data_df = pd.read_parquet(file_stream, engine='pyarrow')\n",
    "        data_df.to_parquet(local_file)\n",
    "    else:\n",
    "        data_df = pd.read_parquet(local_file)\n",
    "\n",
    "    print(f\"Data size: {data_df.shape}\")"
   ]
  },
  {
   "cell_type": "markdown",
   "id": "sye3PgjxW5t6",
   "metadata": {
    "id": "sye3PgjxW5t6"
   },
   "source": [
    "## Load Train/Val/Test Split"
   ]
  },
  {
   "cell_type": "code",
   "execution_count": null,
   "id": "ae44c369",
   "metadata": {},
   "outputs": [],
   "source": [
    "# Define folds dict name, path\n",
    "folds_dict_fname = 'folds_dict_k5.joblib'\n",
    "folds_dict_path = os.path.join(preproc_objects_dir, folds_dict_fname)\n",
    "\n",
    "# Check if folds dict exists, if not then create new split\n",
    "if os.path.exists(folds_dict_path):\n",
    "    # Load existing folds dictionary\n",
    "    folds_dict = joblib.load(folds_dict_path)\n",
    "    folds = folds_dict['folds']"
   ]
  },
  {
   "cell_type": "code",
   "execution_count": null,
   "id": "137ea851",
   "metadata": {},
   "outputs": [],
   "source": [
    "# Assign folds to train-val-test splits (for MVP)\n",
    "VAL_INDEX = 3\n",
    "TEST_INDEX = 4\n",
    "train_sites = [x for x in range(k) if (x != VAL_INDEX) & (x != TEST_INDEX)]\n",
    "val_sites = site_splits[VAL_INDEX]\n",
    "test_sites = site_splits[TEST_INDEX]"
   ]
  },
  {
   "cell_type": "markdown",
   "id": "4c6b7616",
   "metadata": {},
   "source": [
    "## Data Transformation"
   ]
  },
  {
   "cell_type": "code",
   "execution_count": null,
   "id": "e06ee39d",
   "metadata": {},
   "outputs": [],
   "source": [
    "raw_data_file_path = None\n",
    "data_transformer = TFTDataTransformer(train_sites, val_sites, test_sites, raw_data_file_path, data_df)"
   ]
  },
  {
   "cell_type": "code",
   "execution_count": null,
   "id": "f250a597",
   "metadata": {},
   "outputs": [],
   "source": [
    "categorical_cols = ['IGBP', 'c3c4', 'koppen_sub', 'koppen_main',\n",
    "                    'year', 'month', 'day', 'hour', 'MODIS_PFT', 'MODIS_LC']\n",
    "realNum_cols = ['TA_ERA', 'SW_IN_ERA', 'LW_IN_ERA', 'VPD_ERA', 'P_ERA', 'PA_ERA', \n",
    "                'EVI', 'NDVI', 'NIRv', 'b1', 'b2', 'b3', 'b4', 'b5', 'b6', 'b7',\n",
    "                'c4_percent', 'BESS-PAR', 'BESS-PARdiff', 'BESS-RSDN', 'CSIF-SIFdaily',\n",
    "                'PET', 'Ts', 'ESACCI-sm', 'NDWI', 'Percent_Snow', 'Fpar', 'Lai',\n",
    "                'LST_Day', 'LST_Night']\n",
    "data_transformer.data_transform(categorical_cols, realNum_cols, cat_encode_type='dummy')\n",
    "\n",
    "print(\"\\nTrain data peak:\")\n",
    "display(data_transformer.train_df.head(2))"
   ]
  },
  {
   "cell_type": "markdown",
   "id": "0468f5cb",
   "metadata": {},
   "source": [
    "## FINISH: Upload train and test to Azure Blob Storage"
   ]
  },
  {
   "cell_type": "code",
   "execution_count": null,
   "id": "74a3d356",
   "metadata": {},
   "outputs": [],
   "source": [
    "final_checkpoint = True\n",
    "\n",
    "if final_checkpoint:\n",
    "  data_transformer.upload_train_test_to_azure(az_cred_file, container, train_blob_name, val_blob_name, test_blob_name)"
   ]
  },
  {
   "cell_type": "code",
   "execution_count": null,
   "id": "c6c2fabd",
   "metadata": {},
   "outputs": [],
   "source": []
  },
  {
   "cell_type": "markdown",
   "id": "haQOfkucX3gI",
   "metadata": {
    "id": "haQOfkucX3gI"
   },
   "source": [
    "# Terminate Runtime"
   ]
  },
  {
   "cell_type": "code",
   "execution_count": null,
   "id": "QBLgIAgW7EIB",
   "metadata": {
    "id": "QBLgIAgW7EIB"
   },
   "outputs": [],
   "source": [
    "from google.colab import runtime\n",
    "runtime.unassign()"
   ]
  }
 ],
 "metadata": {
  "availableInstances": [
   {
    "_defaultOrder": 0,
    "_isFastLaunch": true,
    "category": "General purpose",
    "gpuNum": 0,
    "memoryGiB": 4,
    "name": "ml.t3.medium",
    "vcpuNum": 2
   },
   {
    "_defaultOrder": 1,
    "_isFastLaunch": false,
    "category": "General purpose",
    "gpuNum": 0,
    "memoryGiB": 8,
    "name": "ml.t3.large",
    "vcpuNum": 2
   },
   {
    "_defaultOrder": 2,
    "_isFastLaunch": false,
    "category": "General purpose",
    "gpuNum": 0,
    "memoryGiB": 16,
    "name": "ml.t3.xlarge",
    "vcpuNum": 4
   },
   {
    "_defaultOrder": 3,
    "_isFastLaunch": false,
    "category": "General purpose",
    "gpuNum": 0,
    "memoryGiB": 32,
    "name": "ml.t3.2xlarge",
    "vcpuNum": 8
   },
   {
    "_defaultOrder": 4,
    "_isFastLaunch": true,
    "category": "General purpose",
    "gpuNum": 0,
    "memoryGiB": 8,
    "name": "ml.m5.large",
    "vcpuNum": 2
   },
   {
    "_defaultOrder": 5,
    "_isFastLaunch": false,
    "category": "General purpose",
    "gpuNum": 0,
    "memoryGiB": 16,
    "name": "ml.m5.xlarge",
    "vcpuNum": 4
   },
   {
    "_defaultOrder": 6,
    "_isFastLaunch": false,
    "category": "General purpose",
    "gpuNum": 0,
    "memoryGiB": 32,
    "name": "ml.m5.2xlarge",
    "vcpuNum": 8
   },
   {
    "_defaultOrder": 7,
    "_isFastLaunch": false,
    "category": "General purpose",
    "gpuNum": 0,
    "memoryGiB": 64,
    "name": "ml.m5.4xlarge",
    "vcpuNum": 16
   },
   {
    "_defaultOrder": 8,
    "_isFastLaunch": false,
    "category": "General purpose",
    "gpuNum": 0,
    "memoryGiB": 128,
    "name": "ml.m5.8xlarge",
    "vcpuNum": 32
   },
   {
    "_defaultOrder": 9,
    "_isFastLaunch": false,
    "category": "General purpose",
    "gpuNum": 0,
    "memoryGiB": 192,
    "name": "ml.m5.12xlarge",
    "vcpuNum": 48
   },
   {
    "_defaultOrder": 10,
    "_isFastLaunch": false,
    "category": "General purpose",
    "gpuNum": 0,
    "memoryGiB": 256,
    "name": "ml.m5.16xlarge",
    "vcpuNum": 64
   },
   {
    "_defaultOrder": 11,
    "_isFastLaunch": false,
    "category": "General purpose",
    "gpuNum": 0,
    "memoryGiB": 384,
    "name": "ml.m5.24xlarge",
    "vcpuNum": 96
   },
   {
    "_defaultOrder": 12,
    "_isFastLaunch": false,
    "category": "General purpose",
    "gpuNum": 0,
    "memoryGiB": 8,
    "name": "ml.m5d.large",
    "vcpuNum": 2
   },
   {
    "_defaultOrder": 13,
    "_isFastLaunch": false,
    "category": "General purpose",
    "gpuNum": 0,
    "memoryGiB": 16,
    "name": "ml.m5d.xlarge",
    "vcpuNum": 4
   },
   {
    "_defaultOrder": 14,
    "_isFastLaunch": false,
    "category": "General purpose",
    "gpuNum": 0,
    "memoryGiB": 32,
    "name": "ml.m5d.2xlarge",
    "vcpuNum": 8
   },
   {
    "_defaultOrder": 15,
    "_isFastLaunch": false,
    "category": "General purpose",
    "gpuNum": 0,
    "memoryGiB": 64,
    "name": "ml.m5d.4xlarge",
    "vcpuNum": 16
   },
   {
    "_defaultOrder": 16,
    "_isFastLaunch": false,
    "category": "General purpose",
    "gpuNum": 0,
    "memoryGiB": 128,
    "name": "ml.m5d.8xlarge",
    "vcpuNum": 32
   },
   {
    "_defaultOrder": 17,
    "_isFastLaunch": false,
    "category": "General purpose",
    "gpuNum": 0,
    "memoryGiB": 192,
    "name": "ml.m5d.12xlarge",
    "vcpuNum": 48
   },
   {
    "_defaultOrder": 18,
    "_isFastLaunch": false,
    "category": "General purpose",
    "gpuNum": 0,
    "memoryGiB": 256,
    "name": "ml.m5d.16xlarge",
    "vcpuNum": 64
   },
   {
    "_defaultOrder": 19,
    "_isFastLaunch": false,
    "category": "General purpose",
    "gpuNum": 0,
    "memoryGiB": 384,
    "name": "ml.m5d.24xlarge",
    "vcpuNum": 96
   },
   {
    "_defaultOrder": 20,
    "_isFastLaunch": true,
    "category": "Compute optimized",
    "gpuNum": 0,
    "memoryGiB": 4,
    "name": "ml.c5.large",
    "vcpuNum": 2
   },
   {
    "_defaultOrder": 21,
    "_isFastLaunch": false,
    "category": "Compute optimized",
    "gpuNum": 0,
    "memoryGiB": 8,
    "name": "ml.c5.xlarge",
    "vcpuNum": 4
   },
   {
    "_defaultOrder": 22,
    "_isFastLaunch": false,
    "category": "Compute optimized",
    "gpuNum": 0,
    "memoryGiB": 16,
    "name": "ml.c5.2xlarge",
    "vcpuNum": 8
   },
   {
    "_defaultOrder": 23,
    "_isFastLaunch": false,
    "category": "Compute optimized",
    "gpuNum": 0,
    "memoryGiB": 32,
    "name": "ml.c5.4xlarge",
    "vcpuNum": 16
   },
   {
    "_defaultOrder": 24,
    "_isFastLaunch": false,
    "category": "Compute optimized",
    "gpuNum": 0,
    "memoryGiB": 72,
    "name": "ml.c5.9xlarge",
    "vcpuNum": 36
   },
   {
    "_defaultOrder": 25,
    "_isFastLaunch": false,
    "category": "Compute optimized",
    "gpuNum": 0,
    "memoryGiB": 96,
    "name": "ml.c5.12xlarge",
    "vcpuNum": 48
   },
   {
    "_defaultOrder": 26,
    "_isFastLaunch": false,
    "category": "Compute optimized",
    "gpuNum": 0,
    "memoryGiB": 144,
    "name": "ml.c5.18xlarge",
    "vcpuNum": 72
   },
   {
    "_defaultOrder": 27,
    "_isFastLaunch": false,
    "category": "Compute optimized",
    "gpuNum": 0,
    "memoryGiB": 192,
    "name": "ml.c5.24xlarge",
    "vcpuNum": 96
   },
   {
    "_defaultOrder": 28,
    "_isFastLaunch": true,
    "category": "Accelerated computing",
    "gpuNum": 1,
    "memoryGiB": 16,
    "name": "ml.g4dn.xlarge",
    "vcpuNum": 4
   },
   {
    "_defaultOrder": 29,
    "_isFastLaunch": false,
    "category": "Accelerated computing",
    "gpuNum": 1,
    "memoryGiB": 32,
    "name": "ml.g4dn.2xlarge",
    "vcpuNum": 8
   },
   {
    "_defaultOrder": 30,
    "_isFastLaunch": false,
    "category": "Accelerated computing",
    "gpuNum": 1,
    "memoryGiB": 64,
    "name": "ml.g4dn.4xlarge",
    "vcpuNum": 16
   },
   {
    "_defaultOrder": 31,
    "_isFastLaunch": false,
    "category": "Accelerated computing",
    "gpuNum": 1,
    "memoryGiB": 128,
    "name": "ml.g4dn.8xlarge",
    "vcpuNum": 32
   },
   {
    "_defaultOrder": 32,
    "_isFastLaunch": false,
    "category": "Accelerated computing",
    "gpuNum": 4,
    "memoryGiB": 192,
    "name": "ml.g4dn.12xlarge",
    "vcpuNum": 48
   },
   {
    "_defaultOrder": 33,
    "_isFastLaunch": false,
    "category": "Accelerated computing",
    "gpuNum": 1,
    "memoryGiB": 256,
    "name": "ml.g4dn.16xlarge",
    "vcpuNum": 64
   },
   {
    "_defaultOrder": 34,
    "_isFastLaunch": false,
    "category": "Accelerated computing",
    "gpuNum": 1,
    "memoryGiB": 61,
    "name": "ml.p3.2xlarge",
    "vcpuNum": 8
   },
   {
    "_defaultOrder": 35,
    "_isFastLaunch": false,
    "category": "Accelerated computing",
    "gpuNum": 4,
    "memoryGiB": 244,
    "name": "ml.p3.8xlarge",
    "vcpuNum": 32
   },
   {
    "_defaultOrder": 36,
    "_isFastLaunch": false,
    "category": "Accelerated computing",
    "gpuNum": 8,
    "memoryGiB": 488,
    "name": "ml.p3.16xlarge",
    "vcpuNum": 64
   },
   {
    "_defaultOrder": 37,
    "_isFastLaunch": false,
    "category": "Accelerated computing",
    "gpuNum": 8,
    "memoryGiB": 768,
    "name": "ml.p3dn.24xlarge",
    "vcpuNum": 96
   },
   {
    "_defaultOrder": 38,
    "_isFastLaunch": false,
    "category": "Memory Optimized",
    "gpuNum": 0,
    "memoryGiB": 16,
    "name": "ml.r5.large",
    "vcpuNum": 2
   },
   {
    "_defaultOrder": 39,
    "_isFastLaunch": false,
    "category": "Memory Optimized",
    "gpuNum": 0,
    "memoryGiB": 32,
    "name": "ml.r5.xlarge",
    "vcpuNum": 4
   },
   {
    "_defaultOrder": 40,
    "_isFastLaunch": false,
    "category": "Memory Optimized",
    "gpuNum": 0,
    "memoryGiB": 64,
    "name": "ml.r5.2xlarge",
    "vcpuNum": 8
   },
   {
    "_defaultOrder": 41,
    "_isFastLaunch": false,
    "category": "Memory Optimized",
    "gpuNum": 0,
    "memoryGiB": 128,
    "name": "ml.r5.4xlarge",
    "vcpuNum": 16
   },
   {
    "_defaultOrder": 42,
    "_isFastLaunch": false,
    "category": "Memory Optimized",
    "gpuNum": 0,
    "memoryGiB": 256,
    "name": "ml.r5.8xlarge",
    "vcpuNum": 32
   },
   {
    "_defaultOrder": 43,
    "_isFastLaunch": false,
    "category": "Memory Optimized",
    "gpuNum": 0,
    "memoryGiB": 384,
    "name": "ml.r5.12xlarge",
    "vcpuNum": 48
   },
   {
    "_defaultOrder": 44,
    "_isFastLaunch": false,
    "category": "Memory Optimized",
    "gpuNum": 0,
    "memoryGiB": 512,
    "name": "ml.r5.16xlarge",
    "vcpuNum": 64
   },
   {
    "_defaultOrder": 45,
    "_isFastLaunch": false,
    "category": "Memory Optimized",
    "gpuNum": 0,
    "memoryGiB": 768,
    "name": "ml.r5.24xlarge",
    "vcpuNum": 96
   },
   {
    "_defaultOrder": 46,
    "_isFastLaunch": false,
    "category": "Accelerated computing",
    "gpuNum": 1,
    "memoryGiB": 16,
    "name": "ml.g5.xlarge",
    "vcpuNum": 4
   },
   {
    "_defaultOrder": 47,
    "_isFastLaunch": false,
    "category": "Accelerated computing",
    "gpuNum": 1,
    "memoryGiB": 32,
    "name": "ml.g5.2xlarge",
    "vcpuNum": 8
   },
   {
    "_defaultOrder": 48,
    "_isFastLaunch": false,
    "category": "Accelerated computing",
    "gpuNum": 1,
    "memoryGiB": 64,
    "name": "ml.g5.4xlarge",
    "vcpuNum": 16
   },
   {
    "_defaultOrder": 49,
    "_isFastLaunch": false,
    "category": "Accelerated computing",
    "gpuNum": 1,
    "memoryGiB": 128,
    "name": "ml.g5.8xlarge",
    "vcpuNum": 32
   },
   {
    "_defaultOrder": 50,
    "_isFastLaunch": false,
    "category": "Accelerated computing",
    "gpuNum": 1,
    "memoryGiB": 256,
    "name": "ml.g5.16xlarge",
    "vcpuNum": 64
   },
   {
    "_defaultOrder": 51,
    "_isFastLaunch": false,
    "category": "Accelerated computing",
    "gpuNum": 4,
    "memoryGiB": 192,
    "name": "ml.g5.12xlarge",
    "vcpuNum": 48
   },
   {
    "_defaultOrder": 52,
    "_isFastLaunch": false,
    "category": "Accelerated computing",
    "gpuNum": 4,
    "memoryGiB": 384,
    "name": "ml.g5.24xlarge",
    "vcpuNum": 96
   },
   {
    "_defaultOrder": 53,
    "_isFastLaunch": false,
    "category": "Accelerated computing",
    "gpuNum": 8,
    "memoryGiB": 768,
    "name": "ml.g5.48xlarge",
    "vcpuNum": 192
   }
  ],
  "colab": {
   "collapsed_sections": [
    "OA1ZkEPP3zLz",
    "O4RveeAZ3qm8",
    "bIoy86rH4hRH"
   ],
   "machine_shape": "hm",
   "provenance": []
  },
  "gpuClass": "standard",
  "instance_type": "ml.t3.medium",
  "kernelspec": {
   "display_name": "src-rYFmMrY7-py3.10",
   "language": "python",
   "name": "python3"
  },
  "language_info": {
   "codemirror_mode": {
    "name": "ipython",
    "version": 3
   },
   "file_extension": ".py",
   "mimetype": "text/x-python",
   "name": "python",
   "nbconvert_exporter": "python",
   "pygments_lexer": "ipython3",
   "version": "3.10.9"
  }
 },
 "nbformat": 4,
 "nbformat_minor": 5
}
