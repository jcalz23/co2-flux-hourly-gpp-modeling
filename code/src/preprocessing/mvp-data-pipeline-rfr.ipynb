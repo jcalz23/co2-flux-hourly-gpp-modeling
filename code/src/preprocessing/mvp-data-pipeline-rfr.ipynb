{
 "cells": [
  {
   "cell_type": "markdown",
   "id": "OA1ZkEPP3zLz",
   "metadata": {
    "id": "OA1ZkEPP3zLz"
   },
   "source": [
    "# Notebook Setup"
   ]
  },
  {
   "cell_type": "code",
   "execution_count": 1,
   "id": "f6c9a282",
   "metadata": {
    "tags": []
   },
   "outputs": [],
   "source": [
    "#TODO: CHANGE THIS BASED ON YOUR OWN LOCAL SETTINGS\n",
    "#MY_HOME_ABS_PATH = \"/Users/jetcalz07/Desktop/MIDS/W210_Capstone/co2-flux-hourly-gpp-modeling\"\n",
    "MY_HOME_ABS_PATH = \"/root/co2-flux-hourly-gpp-modeling\""
   ]
  },
  {
   "cell_type": "code",
   "execution_count": 3,
   "id": "ko8n8_z9pkBE",
   "metadata": {
    "colab": {
     "base_uri": "https://localhost:8080/"
    },
    "executionInfo": {
     "elapsed": 20193,
     "status": "ok",
     "timestamp": 1678533146889,
     "user": {
      "displayName": "Mary Chau",
      "userId": "14027067063095206122"
     },
     "user_tz": 480
    },
    "id": "ko8n8_z9pkBE",
    "outputId": "3283f521-a15c-4178-a58f-b88c96cf9ee9",
    "tags": []
   },
   "outputs": [],
   "source": [
    "if 'google.colab' in str(get_ipython()):\n",
    "  IN_COLLAB = True\n",
    "  from google.colab import drive\n",
    "  drive.mount('/content/drive/')\n",
    "else:\n",
    "  IN_COLLAB = False"
   ]
  },
  {
   "cell_type": "markdown",
   "id": "WQOpIAzZ32Ek",
   "metadata": {
    "id": "WQOpIAzZ32Ek"
   },
   "source": [
    "## Import Modules"
   ]
  },
  {
   "cell_type": "code",
   "execution_count": 4,
   "id": "be2d4d6a",
   "metadata": {
    "colab": {
     "base_uri": "https://localhost:8080/"
    },
    "executionInfo": {
     "elapsed": 10058,
     "status": "ok",
     "timestamp": 1678533156939,
     "user": {
      "displayName": "Mary Chau",
      "userId": "14027067063095206122"
     },
     "user_tz": 480
    },
    "id": "be2d4d6a",
    "outputId": "ead312f6-6d4d-4499-9777-700dcaa9b38c",
    "tags": []
   },
   "outputs": [],
   "source": [
    "import os\n",
    "os.environ[\"PYARROW_IGNORE_TIMEZONE\"] = \"1\"\n",
    "import pandas as pd\n",
    "import numpy as np\n",
    "import sys\n",
    "import joblib\n",
    "from io import BytesIO\n",
    "from sklearn.model_selection import StratifiedKFold\n",
    "\n",
    "# Load locale custome modules\n",
    "os.chdir(MY_HOME_ABS_PATH)\n",
    "if IN_COLLAB:\n",
    "    sys.path.insert(0,os.path.abspath(\"./code/src/tools\"))\n",
    "else:\n",
    "    sys.path.append(os.path.abspath(\"./code/src/tools\"))\n",
    "\n",
    "from CloudIO.AzStorageClient import AzStorageClient\n",
    "from data_pipeline_lib import *\n",
    "\n",
    "pd.set_option('display.max_columns', None)\n",
    "pd.set_option('display.float_format', lambda x: '%.5f' % x)"
   ]
  },
  {
   "cell_type": "markdown",
   "id": "O4RveeAZ3qm8",
   "metadata": {
    "id": "O4RveeAZ3qm8"
   },
   "source": [
    "# Define Constants"
   ]
  },
  {
   "cell_type": "code",
   "execution_count": 5,
   "id": "8652c8af",
   "metadata": {
    "executionInfo": {
     "elapsed": 10,
     "status": "ok",
     "timestamp": 1678533156940,
     "user": {
      "displayName": "Mary Chau",
      "userId": "14027067063095206122"
     },
     "user_tz": 480
    },
    "id": "8652c8af",
    "tags": []
   },
   "outputs": [],
   "source": [
    "root_dir =  MY_HOME_ABS_PATH\n",
    "tmp_dir =  root_dir + os.sep + '.tmp'\n",
    "raw_data_dir = tmp_dir\n",
    "data_dir = root_dir + os.sep + 'data'\n",
    "cred_dir = root_dir + os.sep + '.cred'\n",
    "az_cred_file = cred_dir + os.sep + 'azblobcred.json'\n",
    "preproc_objects_dir = root_dir + os.sep + 'code' + os.sep + 'src' + os.sep + 'preprocessing' + os.sep + 'preproc_objects'\n",
    "\n",
    "if IN_COLLAB:\n",
    "    raw_data_dir = \"/content/drive/MyDrive/W210/Data/half_hourly_data\"\n",
    "\n",
    "# input files\n",
    "site_metadata_filename = data_dir + os.sep + 'site-metadata.csv'\n",
    "monthly_data_filename = data_dir + os.sep + \"monthly-mvp.csv\"\n",
    "split_dict_filename = preproc_objects_dir + os.sep + \"stratified_splits_k5.joblib\"\n",
    "\n",
    "# File\n",
    "container = \"all-sites-data\"\n",
    "ext = \"parquet\"\n",
    "ver = \"mvp\"\n",
    "model = \"rfr\"\n",
    "tag = \"raw\"\n",
    "blob_name_base = f\"{model}-full_2010_2015_v_{ver}\"\n",
    "blob_name = f\"{blob_name_base}_{tag}.{ext}\"\n",
    "train_blob_name = f\"{model}-full_2010_2015-train-v-{ver}.{ext}\"\n",
    "val_blob_name = f\"{model}-full_2010_2015-val-v-{ver}.{ext}\"\n",
    "test_blob_name = f\"{model}-full_2010_2015-test-v-{ver}.{ext}\""
   ]
  },
  {
   "cell_type": "code",
   "execution_count": 6,
   "id": "VEPrPTsIP-6v",
   "metadata": {
    "executionInfo": {
     "elapsed": 9,
     "status": "ok",
     "timestamp": 1678533156940,
     "user": {
      "displayName": "Mary Chau",
      "userId": "14027067063095206122"
     },
     "user_tz": 480
    },
    "id": "VEPrPTsIP-6v",
    "tags": []
   },
   "outputs": [],
   "source": [
    "# Define features and target variables of the data pipelines\n",
    "target_variable = 'GPP_NT_VUT_REF'\n",
    "hourly_features = ['TA_ERA', 'SW_IN_ERA', 'LW_IN_ERA', 'VPD_ERA', 'P_ERA', 'PA_ERA',\n",
    "                     'datetime', 'year', 'month', 'day', 'hour', 'date',\n",
    "                     'EVI', 'NDVI', 'NIRv', 'b1', 'b2', 'b3', 'b4', 'b5', 'b6', 'b7']\n",
    "metadata_features = ['site_id', 'filename', 'koppen_sub', 'koppen_main', 'IGBP',\n",
    "                     'c3c4', 'c4_percent', 'monthly_data_available']\n",
    "\n",
    "# Define the features to use in KNN imputer, only using real values as cat are same per site\n",
    "imp_exclude_cols = ['date', 'datetime', 'year', 'month', 'hour', 'day', 'minute', 'site_id', 'IGBP']\n",
    "imp_cols = [x for x in hourly_features + ['GPP_NT_VUT_REF'] if x not in imp_exclude_cols]"
   ]
  },
  {
   "cell_type": "markdown",
   "id": "bIoy86rH4hRH",
   "metadata": {
    "id": "bIoy86rH4hRH"
   },
   "source": [
    "# Stage 1: Trim and Merge Site Metadata"
   ]
  },
  {
   "cell_type": "code",
   "execution_count": 7,
   "id": "fab0c08a",
   "metadata": {
    "colab": {
     "base_uri": "https://localhost:8080/"
    },
    "executionInfo": {
     "elapsed": 27,
     "status": "ok",
     "timestamp": 1678518922905,
     "user": {
      "displayName": "M C",
      "userId": "04433644267338205634"
     },
     "user_tz": 480
    },
    "id": "fab0c08a",
    "outputId": "23634180-e15f-4cfc-a4a8-e12783f7eb80",
    "tags": []
   },
   "outputs": [],
   "source": [
    "# Define imput params\n",
    "impute = True\n",
    "impute_method = 'knn'\n",
    "impute_global = True\n",
    "resample = False\n",
    "time_col = 'datetime'\n",
    "duration = 'H'\n",
    "\n",
    "# Filter sequence to date range\n",
    "missing_thresh = 0.2\n",
    "start_date = '2010-01-01'\n",
    "end_date ='2015-12-31'\n",
    "\n",
    "# Impute params (if used)\n",
    "k=5\n",
    "weights='uniform'\n",
    "n_fit=20000\n",
    "c=-1"
   ]
  },
  {
   "cell_type": "code",
   "execution_count": 8,
   "id": "5fb2d575",
   "metadata": {
    "colab": {
     "base_uri": "https://localhost:8080/"
    },
    "executionInfo": {
     "elapsed": 3456202,
     "status": "ok",
     "timestamp": 1678522379084,
     "user": {
      "displayName": "M C",
      "userId": "04433644267338205634"
     },
     "user_tz": 480
    },
    "id": "5fb2d575",
    "outputId": "ae040623-0f4d-4035-cb9a-14a4797428f8",
    "tags": []
   },
   "outputs": [
    {
     "name": "stdout",
     "output_type": "stream",
     "text": [
      "Sites with missing monthly data: 43\n"
     ]
    },
    {
     "name": "stderr",
     "output_type": "stream",
     "text": [
      "/root/co2-flux-hourly-gpp-modeling/code/src/tools/data_pipeline_lib.py:425: DtypeWarning: Columns (4,8,11,14,17,20,35,44,45,46,47,52,53,54,55,56,57,58,59,60,61) have mixed types. Specify dtype option on import or set low_memory=False.\n",
      "  site_df = pd.read_csv(local_filename, usecols = [self.target_variable] + self.hourly_features)\n"
     ]
    },
    {
     "ename": "ParserError",
     "evalue": "Unknown string format: datetime present at position 0",
     "output_type": "error",
     "traceback": [
      "\u001b[0;31m---------------------------------------------------------------------------\u001b[0m",
      "\u001b[0;31mParserError\u001b[0m                               Traceback (most recent call last)",
      "File \u001b[0;32m/opt/conda/envs/py310/lib/python3.10/site-packages/pandas/_libs/tslib.pyx:605\u001b[0m, in \u001b[0;36mpandas._libs.tslib.array_to_datetime\u001b[0;34m()\u001b[0m\n",
      "File \u001b[0;32m/opt/conda/envs/py310/lib/python3.10/site-packages/pandas/_libs/tslibs/parsing.pyx:318\u001b[0m, in \u001b[0;36mpandas._libs.tslibs.parsing.parse_datetime_string\u001b[0;34m()\u001b[0m\n",
      "File \u001b[0;32m/opt/conda/envs/py310/lib/python3.10/site-packages/dateutil/parser/_parser.py:1368\u001b[0m, in \u001b[0;36mparse\u001b[0;34m(timestr, parserinfo, **kwargs)\u001b[0m\n\u001b[1;32m   1367\u001b[0m \u001b[38;5;28;01melse\u001b[39;00m:\n\u001b[0;32m-> 1368\u001b[0m     \u001b[38;5;28;01mreturn\u001b[39;00m \u001b[43mDEFAULTPARSER\u001b[49m\u001b[38;5;241;43m.\u001b[39;49m\u001b[43mparse\u001b[49m\u001b[43m(\u001b[49m\u001b[43mtimestr\u001b[49m\u001b[43m,\u001b[49m\u001b[43m \u001b[49m\u001b[38;5;241;43m*\u001b[39;49m\u001b[38;5;241;43m*\u001b[39;49m\u001b[43mkwargs\u001b[49m\u001b[43m)\u001b[49m\n",
      "File \u001b[0;32m/opt/conda/envs/py310/lib/python3.10/site-packages/dateutil/parser/_parser.py:643\u001b[0m, in \u001b[0;36mparser.parse\u001b[0;34m(self, timestr, default, ignoretz, tzinfos, **kwargs)\u001b[0m\n\u001b[1;32m    642\u001b[0m \u001b[38;5;28;01mif\u001b[39;00m res \u001b[38;5;129;01mis\u001b[39;00m \u001b[38;5;28;01mNone\u001b[39;00m:\n\u001b[0;32m--> 643\u001b[0m     \u001b[38;5;28;01mraise\u001b[39;00m ParserError(\u001b[38;5;124m\"\u001b[39m\u001b[38;5;124mUnknown string format: \u001b[39m\u001b[38;5;132;01m%s\u001b[39;00m\u001b[38;5;124m\"\u001b[39m, timestr)\n\u001b[1;32m    645\u001b[0m \u001b[38;5;28;01mif\u001b[39;00m \u001b[38;5;28mlen\u001b[39m(res) \u001b[38;5;241m==\u001b[39m \u001b[38;5;241m0\u001b[39m:\n",
      "\u001b[0;31mParserError\u001b[0m: Unknown string format: datetime",
      "\nDuring handling of the above exception, another exception occurred:\n",
      "\u001b[0;31mTypeError\u001b[0m                                 Traceback (most recent call last)",
      "File \u001b[0;32m/opt/conda/envs/py310/lib/python3.10/site-packages/pandas/_libs/tslib.pyx:616\u001b[0m, in \u001b[0;36mpandas._libs.tslib.array_to_datetime\u001b[0;34m()\u001b[0m\n",
      "\u001b[0;31mTypeError\u001b[0m: invalid string coercion to datetime for \"datetime\" at position 0",
      "\nDuring handling of the above exception, another exception occurred:\n",
      "\u001b[0;31mParserError\u001b[0m                               Traceback (most recent call last)",
      "Cell \u001b[0;32mIn[8], line 4\u001b[0m\n\u001b[1;32m      1\u001b[0m prep_hourly \u001b[38;5;241m=\u001b[39m PrepareAllSitesHourly(site_metadata_filename, monthly_data_filename, \n\u001b[1;32m      2\u001b[0m                                     hourly_features, metadata_features, target_variable, raw_data_dir)\n\u001b[0;32m----> 4\u001b[0m data_df \u001b[38;5;241m=\u001b[39m \u001b[43mprep_hourly\u001b[49m\u001b[38;5;241;43m.\u001b[39;49m\u001b[43mall_sites_all_sources\u001b[49m\u001b[43m(\u001b[49m\u001b[43mimp_cols\u001b[49m\u001b[43m,\u001b[49m\u001b[43m \u001b[49m\u001b[43mresample\u001b[49m\u001b[43m,\u001b[49m\u001b[43m \u001b[49m\u001b[43mimpute\u001b[49m\u001b[43m,\u001b[49m\u001b[43m \u001b[49m\u001b[43mimpute_method\u001b[49m\u001b[43m,\u001b[49m\u001b[43m \u001b[49m\u001b[43mimpute_global\u001b[49m\u001b[43m,\u001b[49m\n\u001b[1;32m      5\u001b[0m \u001b[43m                                            \u001b[49m\u001b[43mk\u001b[49m\u001b[43m,\u001b[49m\u001b[43m \u001b[49m\u001b[43mweights\u001b[49m\u001b[43m,\u001b[49m\u001b[43m \u001b[49m\u001b[43mn_fit\u001b[49m\u001b[43m,\u001b[49m\u001b[43m \u001b[49m\u001b[43mtime_col\u001b[49m\u001b[43m,\u001b[49m\u001b[43m \u001b[49m\u001b[43mduration\u001b[49m\u001b[43m,\u001b[49m\u001b[43m \u001b[49m\u001b[43mstart_date\u001b[49m\u001b[43m,\u001b[49m\u001b[43m \u001b[49m\u001b[43mend_date\u001b[49m\u001b[43m,\u001b[49m\u001b[43m \u001b[49m\u001b[43mmissing_thresh\u001b[49m\u001b[43m,\u001b[49m\u001b[43m \u001b[49m\u001b[43mc\u001b[49m\u001b[43m)\u001b[49m\n",
      "File \u001b[0;32m~/co2-flux-hourly-gpp-modeling/code/src/tools/data_pipeline_lib.py:531\u001b[0m, in \u001b[0;36mPrepareAllSitesHourly.all_sites_all_sources\u001b[0;34m(self, imp_cols, resample, impute, impute_method, impute_global, k, weights, n_fit, time_col, duration, start_date, end_date, missing_thresh, c)\u001b[0m\n\u001b[1;32m    526\u001b[0m \u001b[38;5;28;01mdef\u001b[39;00m \u001b[38;5;21mall_sites_all_sources\u001b[39m(\u001b[38;5;28mself\u001b[39m, imp_cols, resample, impute, impute_method, impute_global, k,\n\u001b[1;32m    527\u001b[0m                         weights, n_fit, time_col, duration, start_date, end_date, missing_thresh, c):\n\u001b[1;32m    529\u001b[0m     site_metadata_df \u001b[38;5;241m=\u001b[39m \u001b[38;5;28mself\u001b[39m\u001b[38;5;241m.\u001b[39mprep_metadata()\n\u001b[0;32m--> 531\u001b[0m     data_df \u001b[38;5;241m=\u001b[39m \u001b[38;5;28;43mself\u001b[39;49m\u001b[38;5;241;43m.\u001b[39;49m\u001b[43msite_data_cleanup\u001b[49m\u001b[43m(\u001b[49m\u001b[43msite_metadata_df\u001b[49m\u001b[43m,\u001b[49m\u001b[43m \u001b[49m\u001b[43mimp_cols\u001b[49m\u001b[43m,\u001b[49m\u001b[43m \u001b[49m\u001b[43mresample\u001b[49m\u001b[43m,\u001b[49m\u001b[43m \u001b[49m\u001b[43mimpute\u001b[49m\u001b[43m,\u001b[49m\u001b[43m \u001b[49m\u001b[43mimpute_method\u001b[49m\u001b[43m,\u001b[49m\u001b[43m \u001b[49m\n\u001b[1;32m    532\u001b[0m \u001b[43m                                    \u001b[49m\u001b[43mimpute_global\u001b[49m\u001b[43m,\u001b[49m\u001b[43m \u001b[49m\u001b[43mk\u001b[49m\u001b[43m,\u001b[49m\u001b[43m \u001b[49m\u001b[43mweights\u001b[49m\u001b[43m,\u001b[49m\u001b[43m \u001b[49m\u001b[43mn_fit\u001b[49m\u001b[43m,\u001b[49m\u001b[43m \u001b[49m\u001b[43mtime_col\u001b[49m\u001b[43m,\u001b[49m\u001b[43m \u001b[49m\u001b[43mduration\u001b[49m\u001b[43m,\u001b[49m\u001b[43m \u001b[49m\u001b[43mstart_date\u001b[49m\u001b[43m,\u001b[49m\u001b[43m \u001b[49m\u001b[43mend_date\u001b[49m\u001b[43m,\u001b[49m\u001b[43m \u001b[49m\u001b[43mmissing_thresh\u001b[49m\u001b[43m,\u001b[49m\u001b[43m \u001b[49m\u001b[43mc\u001b[49m\u001b[43m)\u001b[49m\n\u001b[1;32m    534\u001b[0m     \u001b[38;5;66;03m# Merge with site metadata and monthly data\u001b[39;00m\n\u001b[1;32m    535\u001b[0m     data_df \u001b[38;5;241m=\u001b[39m \u001b[38;5;28mself\u001b[39m\u001b[38;5;241m.\u001b[39mmerge_site_metadata(data_df, site_metadata_df)\n",
      "File \u001b[0;32m~/co2-flux-hourly-gpp-modeling/code/src/tools/data_pipeline_lib.py:428\u001b[0m, in \u001b[0;36mPrepareAllSitesHourly.site_data_cleanup\u001b[0;34m(self, site_metadata_df, imp_cols, resample, impute, impute_method, impute_global, k, weights, n_fit, time_col, duration, start_date, end_date, missing_thresh, c)\u001b[0m\n\u001b[1;32m    425\u001b[0m site_df \u001b[38;5;241m=\u001b[39m pd\u001b[38;5;241m.\u001b[39mread_csv(local_filename, usecols \u001b[38;5;241m=\u001b[39m [\u001b[38;5;28mself\u001b[39m\u001b[38;5;241m.\u001b[39mtarget_variable] \u001b[38;5;241m+\u001b[39m \u001b[38;5;28mself\u001b[39m\u001b[38;5;241m.\u001b[39mhourly_features)\n\u001b[1;32m    427\u001b[0m \u001b[38;5;66;03m# Format columns\u001b[39;00m\n\u001b[0;32m--> 428\u001b[0m site_df[\u001b[38;5;124m'\u001b[39m\u001b[38;5;124mdatetime\u001b[39m\u001b[38;5;124m'\u001b[39m] \u001b[38;5;241m=\u001b[39m \u001b[43mpd\u001b[49m\u001b[38;5;241;43m.\u001b[39;49m\u001b[43mto_datetime\u001b[49m\u001b[43m(\u001b[49m\u001b[43msite_df\u001b[49m\u001b[43m[\u001b[49m\u001b[38;5;124;43m'\u001b[39;49m\u001b[38;5;124;43mdatetime\u001b[39;49m\u001b[38;5;124;43m'\u001b[39;49m\u001b[43m]\u001b[49m\u001b[43m)\u001b[49m\n\u001b[1;32m    429\u001b[0m site_df[\u001b[38;5;124m'\u001b[39m\u001b[38;5;124mdate\u001b[39m\u001b[38;5;124m'\u001b[39m] \u001b[38;5;241m=\u001b[39m pd\u001b[38;5;241m.\u001b[39mto_datetime(site_df[\u001b[38;5;124m'\u001b[39m\u001b[38;5;124mdate\u001b[39m\u001b[38;5;124m'\u001b[39m])\n\u001b[1;32m    430\u001b[0m site_df[\u001b[38;5;124m'\u001b[39m\u001b[38;5;124mminute\u001b[39m\u001b[38;5;124m'\u001b[39m] \u001b[38;5;241m=\u001b[39m site_df[\u001b[38;5;124m'\u001b[39m\u001b[38;5;124mdatetime\u001b[39m\u001b[38;5;124m'\u001b[39m]\u001b[38;5;241m.\u001b[39mdt\u001b[38;5;241m.\u001b[39mminute\n",
      "File \u001b[0;32m/opt/conda/envs/py310/lib/python3.10/site-packages/pandas/core/tools/datetimes.py:1068\u001b[0m, in \u001b[0;36mto_datetime\u001b[0;34m(arg, errors, dayfirst, yearfirst, utc, format, exact, unit, infer_datetime_format, origin, cache)\u001b[0m\n\u001b[1;32m   1066\u001b[0m         result \u001b[38;5;241m=\u001b[39m arg\u001b[38;5;241m.\u001b[39mmap(cache_array)\n\u001b[1;32m   1067\u001b[0m     \u001b[38;5;28;01melse\u001b[39;00m:\n\u001b[0;32m-> 1068\u001b[0m         values \u001b[38;5;241m=\u001b[39m \u001b[43mconvert_listlike\u001b[49m\u001b[43m(\u001b[49m\u001b[43marg\u001b[49m\u001b[38;5;241;43m.\u001b[39;49m\u001b[43m_values\u001b[49m\u001b[43m,\u001b[49m\u001b[43m \u001b[49m\u001b[38;5;28;43mformat\u001b[39;49m\u001b[43m)\u001b[49m\n\u001b[1;32m   1069\u001b[0m         result \u001b[38;5;241m=\u001b[39m arg\u001b[38;5;241m.\u001b[39m_constructor(values, index\u001b[38;5;241m=\u001b[39marg\u001b[38;5;241m.\u001b[39mindex, name\u001b[38;5;241m=\u001b[39marg\u001b[38;5;241m.\u001b[39mname)\n\u001b[1;32m   1070\u001b[0m \u001b[38;5;28;01melif\u001b[39;00m \u001b[38;5;28misinstance\u001b[39m(arg, (ABCDataFrame, abc\u001b[38;5;241m.\u001b[39mMutableMapping)):\n",
      "File \u001b[0;32m/opt/conda/envs/py310/lib/python3.10/site-packages/pandas/core/tools/datetimes.py:438\u001b[0m, in \u001b[0;36m_convert_listlike_datetimes\u001b[0;34m(arg, format, name, tz, unit, errors, infer_datetime_format, dayfirst, yearfirst, exact)\u001b[0m\n\u001b[1;32m    436\u001b[0m \u001b[38;5;28;01massert\u001b[39;00m \u001b[38;5;28mformat\u001b[39m \u001b[38;5;129;01mis\u001b[39;00m \u001b[38;5;28;01mNone\u001b[39;00m \u001b[38;5;129;01mor\u001b[39;00m infer_datetime_format\n\u001b[1;32m    437\u001b[0m utc \u001b[38;5;241m=\u001b[39m tz \u001b[38;5;241m==\u001b[39m \u001b[38;5;124m\"\u001b[39m\u001b[38;5;124mutc\u001b[39m\u001b[38;5;124m\"\u001b[39m\n\u001b[0;32m--> 438\u001b[0m result, tz_parsed \u001b[38;5;241m=\u001b[39m \u001b[43mobjects_to_datetime64ns\u001b[49m\u001b[43m(\u001b[49m\n\u001b[1;32m    439\u001b[0m \u001b[43m    \u001b[49m\u001b[43marg\u001b[49m\u001b[43m,\u001b[49m\n\u001b[1;32m    440\u001b[0m \u001b[43m    \u001b[49m\u001b[43mdayfirst\u001b[49m\u001b[38;5;241;43m=\u001b[39;49m\u001b[43mdayfirst\u001b[49m\u001b[43m,\u001b[49m\n\u001b[1;32m    441\u001b[0m \u001b[43m    \u001b[49m\u001b[43myearfirst\u001b[49m\u001b[38;5;241;43m=\u001b[39;49m\u001b[43myearfirst\u001b[49m\u001b[43m,\u001b[49m\n\u001b[1;32m    442\u001b[0m \u001b[43m    \u001b[49m\u001b[43mutc\u001b[49m\u001b[38;5;241;43m=\u001b[39;49m\u001b[43mutc\u001b[49m\u001b[43m,\u001b[49m\n\u001b[1;32m    443\u001b[0m \u001b[43m    \u001b[49m\u001b[43merrors\u001b[49m\u001b[38;5;241;43m=\u001b[39;49m\u001b[43merrors\u001b[49m\u001b[43m,\u001b[49m\n\u001b[1;32m    444\u001b[0m \u001b[43m    \u001b[49m\u001b[43mrequire_iso8601\u001b[49m\u001b[38;5;241;43m=\u001b[39;49m\u001b[43mrequire_iso8601\u001b[49m\u001b[43m,\u001b[49m\n\u001b[1;32m    445\u001b[0m \u001b[43m    \u001b[49m\u001b[43mallow_object\u001b[49m\u001b[38;5;241;43m=\u001b[39;49m\u001b[38;5;28;43;01mTrue\u001b[39;49;00m\u001b[43m,\u001b[49m\n\u001b[1;32m    446\u001b[0m \u001b[43m\u001b[49m\u001b[43m)\u001b[49m\n\u001b[1;32m    448\u001b[0m \u001b[38;5;28;01mif\u001b[39;00m tz_parsed \u001b[38;5;129;01mis\u001b[39;00m \u001b[38;5;129;01mnot\u001b[39;00m \u001b[38;5;28;01mNone\u001b[39;00m:\n\u001b[1;32m    449\u001b[0m     \u001b[38;5;66;03m# We can take a shortcut since the datetime64 numpy array\u001b[39;00m\n\u001b[1;32m    450\u001b[0m     \u001b[38;5;66;03m# is in UTC\u001b[39;00m\n\u001b[1;32m    451\u001b[0m     dta \u001b[38;5;241m=\u001b[39m DatetimeArray(result, dtype\u001b[38;5;241m=\u001b[39mtz_to_dtype(tz_parsed))\n",
      "File \u001b[0;32m/opt/conda/envs/py310/lib/python3.10/site-packages/pandas/core/arrays/datetimes.py:2177\u001b[0m, in \u001b[0;36mobjects_to_datetime64ns\u001b[0;34m(data, dayfirst, yearfirst, utc, errors, require_iso8601, allow_object, allow_mixed)\u001b[0m\n\u001b[1;32m   2175\u001b[0m order: Literal[\u001b[38;5;124m\"\u001b[39m\u001b[38;5;124mF\u001b[39m\u001b[38;5;124m\"\u001b[39m, \u001b[38;5;124m\"\u001b[39m\u001b[38;5;124mC\u001b[39m\u001b[38;5;124m\"\u001b[39m] \u001b[38;5;241m=\u001b[39m \u001b[38;5;124m\"\u001b[39m\u001b[38;5;124mF\u001b[39m\u001b[38;5;124m\"\u001b[39m \u001b[38;5;28;01mif\u001b[39;00m flags\u001b[38;5;241m.\u001b[39mf_contiguous \u001b[38;5;28;01melse\u001b[39;00m \u001b[38;5;124m\"\u001b[39m\u001b[38;5;124mC\u001b[39m\u001b[38;5;124m\"\u001b[39m\n\u001b[1;32m   2176\u001b[0m \u001b[38;5;28;01mtry\u001b[39;00m:\n\u001b[0;32m-> 2177\u001b[0m     result, tz_parsed \u001b[38;5;241m=\u001b[39m \u001b[43mtslib\u001b[49m\u001b[38;5;241;43m.\u001b[39;49m\u001b[43marray_to_datetime\u001b[49m\u001b[43m(\u001b[49m\n\u001b[1;32m   2178\u001b[0m \u001b[43m        \u001b[49m\u001b[43mdata\u001b[49m\u001b[38;5;241;43m.\u001b[39;49m\u001b[43mravel\u001b[49m\u001b[43m(\u001b[49m\u001b[38;5;124;43m\"\u001b[39;49m\u001b[38;5;124;43mK\u001b[39;49m\u001b[38;5;124;43m\"\u001b[39;49m\u001b[43m)\u001b[49m\u001b[43m,\u001b[49m\n\u001b[1;32m   2179\u001b[0m \u001b[43m        \u001b[49m\u001b[43merrors\u001b[49m\u001b[38;5;241;43m=\u001b[39;49m\u001b[43merrors\u001b[49m\u001b[43m,\u001b[49m\n\u001b[1;32m   2180\u001b[0m \u001b[43m        \u001b[49m\u001b[43mutc\u001b[49m\u001b[38;5;241;43m=\u001b[39;49m\u001b[43mutc\u001b[49m\u001b[43m,\u001b[49m\n\u001b[1;32m   2181\u001b[0m \u001b[43m        \u001b[49m\u001b[43mdayfirst\u001b[49m\u001b[38;5;241;43m=\u001b[39;49m\u001b[43mdayfirst\u001b[49m\u001b[43m,\u001b[49m\n\u001b[1;32m   2182\u001b[0m \u001b[43m        \u001b[49m\u001b[43myearfirst\u001b[49m\u001b[38;5;241;43m=\u001b[39;49m\u001b[43myearfirst\u001b[49m\u001b[43m,\u001b[49m\n\u001b[1;32m   2183\u001b[0m \u001b[43m        \u001b[49m\u001b[43mrequire_iso8601\u001b[49m\u001b[38;5;241;43m=\u001b[39;49m\u001b[43mrequire_iso8601\u001b[49m\u001b[43m,\u001b[49m\n\u001b[1;32m   2184\u001b[0m \u001b[43m        \u001b[49m\u001b[43mallow_mixed\u001b[49m\u001b[38;5;241;43m=\u001b[39;49m\u001b[43mallow_mixed\u001b[49m\u001b[43m,\u001b[49m\n\u001b[1;32m   2185\u001b[0m \u001b[43m    \u001b[49m\u001b[43m)\u001b[49m\n\u001b[1;32m   2186\u001b[0m     result \u001b[38;5;241m=\u001b[39m result\u001b[38;5;241m.\u001b[39mreshape(data\u001b[38;5;241m.\u001b[39mshape, order\u001b[38;5;241m=\u001b[39morder)\n\u001b[1;32m   2187\u001b[0m \u001b[38;5;28;01mexcept\u001b[39;00m \u001b[38;5;167;01mOverflowError\u001b[39;00m \u001b[38;5;28;01mas\u001b[39;00m err:\n\u001b[1;32m   2188\u001b[0m     \u001b[38;5;66;03m# Exception is raised when a part of date is greater than 32 bit signed int\u001b[39;00m\n",
      "File \u001b[0;32m/opt/conda/envs/py310/lib/python3.10/site-packages/pandas/_libs/tslib.pyx:427\u001b[0m, in \u001b[0;36mpandas._libs.tslib.array_to_datetime\u001b[0;34m()\u001b[0m\n",
      "File \u001b[0;32m/opt/conda/envs/py310/lib/python3.10/site-packages/pandas/_libs/tslib.pyx:683\u001b[0m, in \u001b[0;36mpandas._libs.tslib.array_to_datetime\u001b[0;34m()\u001b[0m\n",
      "File \u001b[0;32m/opt/conda/envs/py310/lib/python3.10/site-packages/pandas/_libs/tslib.pyx:829\u001b[0m, in \u001b[0;36mpandas._libs.tslib._array_to_datetime_object\u001b[0;34m()\u001b[0m\n",
      "File \u001b[0;32m/opt/conda/envs/py310/lib/python3.10/site-packages/pandas/_libs/tslib.pyx:819\u001b[0m, in \u001b[0;36mpandas._libs.tslib._array_to_datetime_object\u001b[0;34m()\u001b[0m\n",
      "File \u001b[0;32m/opt/conda/envs/py310/lib/python3.10/site-packages/pandas/_libs/tslibs/parsing.pyx:318\u001b[0m, in \u001b[0;36mpandas._libs.tslibs.parsing.parse_datetime_string\u001b[0;34m()\u001b[0m\n",
      "File \u001b[0;32m/opt/conda/envs/py310/lib/python3.10/site-packages/dateutil/parser/_parser.py:1368\u001b[0m, in \u001b[0;36mparse\u001b[0;34m(timestr, parserinfo, **kwargs)\u001b[0m\n\u001b[1;32m   1366\u001b[0m     \u001b[38;5;28;01mreturn\u001b[39;00m parser(parserinfo)\u001b[38;5;241m.\u001b[39mparse(timestr, \u001b[38;5;241m*\u001b[39m\u001b[38;5;241m*\u001b[39mkwargs)\n\u001b[1;32m   1367\u001b[0m \u001b[38;5;28;01melse\u001b[39;00m:\n\u001b[0;32m-> 1368\u001b[0m     \u001b[38;5;28;01mreturn\u001b[39;00m \u001b[43mDEFAULTPARSER\u001b[49m\u001b[38;5;241;43m.\u001b[39;49m\u001b[43mparse\u001b[49m\u001b[43m(\u001b[49m\u001b[43mtimestr\u001b[49m\u001b[43m,\u001b[49m\u001b[43m \u001b[49m\u001b[38;5;241;43m*\u001b[39;49m\u001b[38;5;241;43m*\u001b[39;49m\u001b[43mkwargs\u001b[49m\u001b[43m)\u001b[49m\n",
      "File \u001b[0;32m/opt/conda/envs/py310/lib/python3.10/site-packages/dateutil/parser/_parser.py:643\u001b[0m, in \u001b[0;36mparser.parse\u001b[0;34m(self, timestr, default, ignoretz, tzinfos, **kwargs)\u001b[0m\n\u001b[1;32m    640\u001b[0m res, skipped_tokens \u001b[38;5;241m=\u001b[39m \u001b[38;5;28mself\u001b[39m\u001b[38;5;241m.\u001b[39m_parse(timestr, \u001b[38;5;241m*\u001b[39m\u001b[38;5;241m*\u001b[39mkwargs)\n\u001b[1;32m    642\u001b[0m \u001b[38;5;28;01mif\u001b[39;00m res \u001b[38;5;129;01mis\u001b[39;00m \u001b[38;5;28;01mNone\u001b[39;00m:\n\u001b[0;32m--> 643\u001b[0m     \u001b[38;5;28;01mraise\u001b[39;00m ParserError(\u001b[38;5;124m\"\u001b[39m\u001b[38;5;124mUnknown string format: \u001b[39m\u001b[38;5;132;01m%s\u001b[39;00m\u001b[38;5;124m\"\u001b[39m, timestr)\n\u001b[1;32m    645\u001b[0m \u001b[38;5;28;01mif\u001b[39;00m \u001b[38;5;28mlen\u001b[39m(res) \u001b[38;5;241m==\u001b[39m \u001b[38;5;241m0\u001b[39m:\n\u001b[1;32m    646\u001b[0m     \u001b[38;5;28;01mraise\u001b[39;00m ParserError(\u001b[38;5;124m\"\u001b[39m\u001b[38;5;124mString does not contain a date: \u001b[39m\u001b[38;5;132;01m%s\u001b[39;00m\u001b[38;5;124m\"\u001b[39m, timestr)\n",
      "\u001b[0;31mParserError\u001b[0m: Unknown string format: datetime present at position 0"
     ]
    }
   ],
   "source": [
    "prep_hourly = PrepareAllSitesHourly(site_metadata_filename, monthly_data_filename, \n",
    "                                    hourly_features, metadata_features, target_variable, raw_data_dir)\n",
    "\n",
    "data_df = prep_hourly.all_sites_all_sources(imp_cols, resample, impute, impute_method, impute_global,\n",
    "                                            k, weights, n_fit, time_col, duration, start_date, end_date, missing_thresh, c)"
   ]
  },
  {
   "cell_type": "code",
   "execution_count": 12,
   "id": "h6UwtFm1gCwJ",
   "metadata": {
    "id": "h6UwtFm1gCwJ",
    "tags": []
   },
   "outputs": [],
   "source": [
    "if data_df.isna().sum().sum() != 0:\n",
    "  display(data_df[data_df.isna().any(axis=1)].groupby(['site_id', 'year', 'month']).count())\n",
    "  display(pd.DataFrame(data_df.isna().sum()).T)"
   ]
  },
  {
   "cell_type": "code",
   "execution_count": 11,
   "id": "6ced7ba7",
   "metadata": {
    "colab": {
     "base_uri": "https://localhost:8080/"
    },
    "executionInfo": {
     "elapsed": 16,
     "status": "ok",
     "timestamp": 1678522380446,
     "user": {
      "displayName": "M C",
      "userId": "04433644267338205634"
     },
     "user_tz": 480
    },
    "id": "6ced7ba7",
    "outputId": "318b4257-2bf1-4667-b244-509b19206a02"
   },
   "outputs": [
    {
     "name": "stdout",
     "output_type": "stream",
     "text": [
      "The dataframe uses 1.96 GB of memory.\n"
     ]
    }
   ],
   "source": [
    "# Get the memory usage of the dataframe in bytes\n",
    "memory_usage = data_df.memory_usage().sum()\n",
    "memory_usage_gb = memory_usage / 1_000_000_000\n",
    "print(f\"The dataframe uses {memory_usage_gb:.2f} GB of memory.\")"
   ]
  },
  {
   "cell_type": "markdown",
   "id": "qIgEoFtJeRUC",
   "metadata": {
    "id": "qIgEoFtJeRUC"
   },
   "source": [
    "### Checkpoint: Save full raw data"
   ]
  },
  {
   "cell_type": "code",
   "execution_count": 9,
   "id": "BS5VAxTAd_O1",
   "metadata": {
    "executionInfo": {
     "elapsed": 9,
     "status": "ok",
     "timestamp": 1678533156941,
     "user": {
      "displayName": "Mary Chau",
      "userId": "14027067063095206122"
     },
     "user_tz": 480
    },
    "id": "BS5VAxTAd_O1",
    "tags": []
   },
   "outputs": [],
   "source": [
    "# Upload data_df checkpoint to Azure Storage Blob\n",
    "# ref: https://stackoverflow.com/a/54666079\n",
    "data_cleanup_checkpoint = False\n",
    "\n",
    "if data_cleanup_checkpoint:\n",
    "    parquet_file = BytesIO()\n",
    "    data_df.to_parquet(parquet_file, engine='pyarrow')\n",
    "    parquet_file.seek(0)\n",
    "\n",
    "    azStorageClient = AzStorageClient(az_cred_file)\n",
    "    azStorageClient.uploadBlob(container, blob_name, parquet_file, overwrite=True)"
   ]
  },
  {
   "cell_type": "markdown",
   "id": "d9218bfb-d6f9-4c1f-9c71-fc039502264d",
   "metadata": {},
   "source": [
    "## Load from Checkpoint"
   ]
  },
  {
   "cell_type": "code",
   "execution_count": 8,
   "id": "r-33pSJElODS",
   "metadata": {
    "colab": {
     "base_uri": "https://localhost:8080/"
    },
    "executionInfo": {
     "elapsed": 2361,
     "status": "ok",
     "timestamp": 1678533338302,
     "user": {
      "displayName": "Mary Chau",
      "userId": "14027067063095206122"
     },
     "user_tz": 480
    },
    "id": "r-33pSJElODS",
    "outputId": "f5e1de70-8b92-4eae-f196-600d5ca38cb2",
    "tags": []
   },
   "outputs": [
    {
     "name": "stdout",
     "output_type": "stream",
     "text": [
      "Data size: (4613880, 52)\n"
     ]
    }
   ],
   "source": [
    "# (Optional) Load data_df from Azure checkpoint\n",
    "load_data_checkpoint = True\n",
    "\n",
    "if load_data_checkpoint:\n",
    "    data_df = None\n",
    "    local_file = tmp_dir + os.sep + blob_name \n",
    "    if not (os.path.exists(local_file)): # <--- when would this ever be true?\n",
    "        azStorageClient = AzStorageClient(az_cred_file)\n",
    "        file_stream = azStorageClient.downloadBlob2Stream(container, blob_name)\n",
    "        data_df = pd.read_parquet(file_stream, engine='pyarrow')\n",
    "        data_df.to_parquet(local_file)\n",
    "    else:\n",
    "        data_df = pd.read_parquet(local_file)\n",
    "\n",
    "    print(f\"Data size: {data_df.shape}\")"
   ]
  },
  {
   "cell_type": "markdown",
   "id": "sye3PgjxW5t6",
   "metadata": {
    "id": "sye3PgjxW5t6"
   },
   "source": [
    "## Load Train/Val/Test Split"
   ]
  },
  {
   "cell_type": "code",
   "execution_count": 9,
   "id": "137ea851",
   "metadata": {
    "tags": []
   },
   "outputs": [
    {
     "name": "stdout",
     "output_type": "stream",
     "text": [
      "# train/val/test sites: 78/26/25\n",
      "% train/val/test sites: 0.605/0.202/0.194\n"
     ]
    }
   ],
   "source": [
    "# Load split dict from preprocessing/stratified-splits.ipynb\n",
    "split_dict = joblib.load(split_dict_filename)\n",
    "\n",
    "# Assign folds to train-val-test splits (for MVP)\n",
    "train_folds = [x for x in range(1, split_dict['NUM_FOLDS']+1) if (x != split_dict['VAL_INDEX']) & (x != split_dict['TEST_INDEX'])]\n",
    "train_sites = [z for x in train_folds for z in split_dict[f\"fold_{x}\"] ]\n",
    "val_sites = split_dict[f\"fold_{split_dict['VAL_INDEX']}\"]\n",
    "test_sites = split_dict[f\"fold_{split_dict['TEST_INDEX']}\"]\n",
    "\n",
    "total_sites = len(train_sites) + len(val_sites) + len(test_sites)\n",
    "print(f\"# train/val/test sites: {len(train_sites)}/{len(val_sites)}/{len(test_sites)}\")\n",
    "print(f\"% train/val/test sites: {len(train_sites)/total_sites:.3f}/{len(val_sites)/total_sites:.3f}/{len(test_sites)/total_sites:.3f}\")"
   ]
  },
  {
   "cell_type": "markdown",
   "id": "4c6b7616",
   "metadata": {},
   "source": [
    "## Data Transformation"
   ]
  },
  {
   "cell_type": "code",
   "execution_count": 10,
   "id": "e06ee39d",
   "metadata": {
    "tags": []
   },
   "outputs": [
    {
     "name": "stdout",
     "output_type": "stream",
     "text": [
      "Data size: (4613880, 51).\n"
     ]
    }
   ],
   "source": [
    "raw_data_file_path = None\n",
    "model_name = 'rfr-mvp'\n",
    "data_transformer = TFTDataTransformer(train_sites, val_sites, test_sites, model_name, raw_data_file_path, data_df, preproc_objects_dir)"
   ]
  },
  {
   "cell_type": "code",
   "execution_count": 11,
   "id": "f250a597",
   "metadata": {
    "tags": []
   },
   "outputs": [
    {
     "name": "stdout",
     "output_type": "stream",
     "text": [
      "Data size: (4613880, 51).\n",
      "Data size after encoding: (4613880, 85)\n",
      "Number of sites in df: 129\n",
      "Train Sites: ['AR-SLu' 'AR-Vir' 'AT-Neu' 'AU-ASM' 'AU-Cpr' 'AU-Cum' 'AU-DaS' 'AU-RDF'\n",
      " 'AU-TTE' 'AU-Wom' 'BE-Bra' 'BE-Dor' 'BE-Lon' 'BE-Vie' 'CA-Ca2' 'CA-Ca3'\n",
      " 'CA-Cbo' 'CA-TP1' 'CA-TP3' 'CA-TP4' 'CA-TPD' 'CH-Cha' 'CH-Lae' 'CN-Sw2'\n",
      " 'CZ-BK1' 'CZ-BK2' 'CZ-KrP' 'CZ-RAJ' 'CZ-Stn' 'DE-Geb' 'DE-HoH' 'DE-Hte'\n",
      " 'DE-Kli' 'DE-Obe' 'DE-RuR' 'DE-SfN' 'DE-Spw' 'ES-LJu' 'ES-LM2' 'FI-Let'\n",
      " 'FR-Fon' 'FR-Lam' 'FR-Pue' 'IL-Yat' 'IT-CA1' 'IT-CA3' 'IT-Lav' 'IT-Noe'\n",
      " 'IT-Ro2' 'IT-SRo' 'IT-Tor' 'NL-Hor' 'SE-Htm' 'SE-Lnn' 'SE-Ros' 'US-AR2'\n",
      " 'US-ARM' 'US-CRT' 'US-Fmf' 'US-IB2' 'US-KFS' 'US-Me6' 'US-Myb' 'US-Prr'\n",
      " 'US-Ro1' 'US-Rws' 'US-SRG' 'US-SRM' 'US-Syv' 'US-Tw4' 'US-UMB' 'US-UMd'\n",
      " 'US-Vcm' 'US-Vcp' 'US-WCr' 'US-WPT' 'US-Wjs' 'US-Wkg']\n",
      "Val Sites: ['AU-DaP' 'AU-Emr' 'AU-Gin' 'AU-How' 'AU-Rig' 'CA-Ca1' 'CA-Gro' 'CH-Fru'\n",
      " 'CH-Oe2' 'DE-Hai' 'DK-Sor' 'FI-Hyy' 'FR-Aur' 'FR-Hes' 'GF-Guy' 'IT-SR2'\n",
      " 'NL-Loo' 'SE-Deg' 'SE-Nor' 'US-AR1' 'US-Bar' 'US-GLE' 'US-Mpj' 'US-NR1'\n",
      " 'US-Ses' 'US-Twt']\n",
      "Test Sites: ['AU-Stp' 'AU-Whr' 'CA-Oas' 'CH-Dav' 'CZ-Lnz' 'CZ-wet' 'DE-Gri' 'DE-Lnf'\n",
      " 'DE-Tha' 'ES-Amo' 'ES-LM1' 'FI-Sod' 'FR-Bil' 'FR-FBn' 'IT-BCi' 'IT-CA2'\n",
      " 'IT-MBo' 'IT-Ren' 'RU-Fyo' 'US-Ho1' 'US-Oho' 'US-Seg' 'US-Ton' 'US-Var'\n",
      " 'US-Whs']\n",
      "Normalizing real features (30)\n",
      "Train data size: (2672640, 85).\n",
      "Val data size: (1001184, 85).\n",
      "Test data size: (940056, 85).\n",
      "\n",
      "Train data peak:\n"
     ]
    },
    {
     "data": {
      "text/html": [
       "<div>\n",
       "<style scoped>\n",
       "    .dataframe tbody tr th:only-of-type {\n",
       "        vertical-align: middle;\n",
       "    }\n",
       "\n",
       "    .dataframe tbody tr th {\n",
       "        vertical-align: top;\n",
       "    }\n",
       "\n",
       "    .dataframe thead th {\n",
       "        text-align: right;\n",
       "    }\n",
       "</style>\n",
       "<table border=\"1\" class=\"dataframe\">\n",
       "  <thead>\n",
       "    <tr style=\"text-align: right;\">\n",
       "      <th></th>\n",
       "      <th>GPP_NT_VUT_REF</th>\n",
       "      <th>site_id</th>\n",
       "      <th>timestep_idx_local</th>\n",
       "      <th>timestep_idx_global</th>\n",
       "      <th>datetime</th>\n",
       "      <th>index</th>\n",
       "      <th>TA_ERA</th>\n",
       "      <th>SW_IN_ERA</th>\n",
       "      <th>LW_IN_ERA</th>\n",
       "      <th>VPD_ERA</th>\n",
       "      <th>P_ERA</th>\n",
       "      <th>PA_ERA</th>\n",
       "      <th>EVI</th>\n",
       "      <th>NDVI</th>\n",
       "      <th>NIRv</th>\n",
       "      <th>b1</th>\n",
       "      <th>b2</th>\n",
       "      <th>b3</th>\n",
       "      <th>b4</th>\n",
       "      <th>b5</th>\n",
       "      <th>b6</th>\n",
       "      <th>b7</th>\n",
       "      <th>lat</th>\n",
       "      <th>long</th>\n",
       "      <th>c4_percent</th>\n",
       "      <th>BESS-PAR</th>\n",
       "      <th>BESS-PARdiff</th>\n",
       "      <th>BESS-RSDN</th>\n",
       "      <th>CSIF-SIFdaily</th>\n",
       "      <th>PET</th>\n",
       "      <th>Ts</th>\n",
       "      <th>ESACCI-sm</th>\n",
       "      <th>NDWI</th>\n",
       "      <th>Percent_Snow</th>\n",
       "      <th>Fpar</th>\n",
       "      <th>Lai</th>\n",
       "      <th>LST_Day</th>\n",
       "      <th>LST_Night</th>\n",
       "      <th>gap_flag_hour</th>\n",
       "      <th>gap_flag_month</th>\n",
       "      <th>koppen_sub</th>\n",
       "      <th>koppen_main</th>\n",
       "      <th>year</th>\n",
       "      <th>month</th>\n",
       "      <th>day</th>\n",
       "      <th>hour</th>\n",
       "      <th>MODIS_LC</th>\n",
       "      <th>IGBP_CRO</th>\n",
       "      <th>IGBP_CSH</th>\n",
       "      <th>IGBP_DBF</th>\n",
       "      <th>IGBP_EBF</th>\n",
       "      <th>IGBP_ENF</th>\n",
       "      <th>IGBP_GRA</th>\n",
       "      <th>IGBP_MF</th>\n",
       "      <th>IGBP_OSH</th>\n",
       "      <th>IGBP_SAV</th>\n",
       "      <th>IGBP_WET</th>\n",
       "      <th>IGBP_WSA</th>\n",
       "      <th>c3c4_C3</th>\n",
       "      <th>c3c4_C4</th>\n",
       "      <th>c3c4_mix</th>\n",
       "      <th>c3c4_rotation</th>\n",
       "      <th>c3c4_unknown</th>\n",
       "      <th>MODIS_PFT_CRO</th>\n",
       "      <th>MODIS_PFT_DBF</th>\n",
       "      <th>MODIS_PFT_EBF</th>\n",
       "      <th>MODIS_PFT_ENF</th>\n",
       "      <th>MODIS_PFT_GRA</th>\n",
       "      <th>MODIS_PFT_MF</th>\n",
       "      <th>MODIS_PFT_Other</th>\n",
       "      <th>MODIS_PFT_SA</th>\n",
       "      <th>MODIS_PFT_SH</th>\n",
       "      <th>MODIS_IGBP_CRO</th>\n",
       "      <th>MODIS_IGBP_CSH</th>\n",
       "      <th>MODIS_IGBP_DBF</th>\n",
       "      <th>MODIS_IGBP_EBF</th>\n",
       "      <th>MODIS_IGBP_ENF</th>\n",
       "      <th>MODIS_IGBP_GRA</th>\n",
       "      <th>MODIS_IGBP_MF</th>\n",
       "      <th>MODIS_IGBP_OSH</th>\n",
       "      <th>MODIS_IGBP_SAV</th>\n",
       "      <th>MODIS_IGBP_URB</th>\n",
       "      <th>MODIS_IGBP_WAT</th>\n",
       "      <th>MODIS_IGBP_WET</th>\n",
       "      <th>MODIS_IGBP_WSA</th>\n",
       "    </tr>\n",
       "  </thead>\n",
       "  <tbody>\n",
       "    <tr>\n",
       "      <th>0</th>\n",
       "      <td>-0.13057</td>\n",
       "      <td>AR-SLu</td>\n",
       "      <td>0</td>\n",
       "      <td>350640</td>\n",
       "      <td>2010-01-01 00:00:00</td>\n",
       "      <td>0</td>\n",
       "      <td>1.28805</td>\n",
       "      <td>-0.67269</td>\n",
       "      <td>0.81307</td>\n",
       "      <td>0.30784</td>\n",
       "      <td>1.19877</td>\n",
       "      <td>-0.00158</td>\n",
       "      <td>-0.08901</td>\n",
       "      <td>-0.01291</td>\n",
       "      <td>-0.24070</td>\n",
       "      <td>-0.25051</td>\n",
       "      <td>-0.43256</td>\n",
       "      <td>-0.24660</td>\n",
       "      <td>-0.21986</td>\n",
       "      <td>0.36311</td>\n",
       "      <td>0.70867</td>\n",
       "      <td>0.22515</td>\n",
       "      <td>-33.46480</td>\n",
       "      <td>-66.45980</td>\n",
       "      <td>2.38652</td>\n",
       "      <td>1.99116</td>\n",
       "      <td>0.64702</td>\n",
       "      <td>1.95498</td>\n",
       "      <td>0.42135</td>\n",
       "      <td>-1.08008</td>\n",
       "      <td>1.75732</td>\n",
       "      <td>-1.53398</td>\n",
       "      <td>-0.54290</td>\n",
       "      <td>-0.44022</td>\n",
       "      <td>0.14014</td>\n",
       "      <td>-0.10470</td>\n",
       "      <td>1.67076</td>\n",
       "      <td>1.73034</td>\n",
       "      <td>0</td>\n",
       "      <td>0.00000</td>\n",
       "      <td>7</td>\n",
       "      <td>2</td>\n",
       "      <td>2010</td>\n",
       "      <td>1</td>\n",
       "      <td>1</td>\n",
       "      <td>0</td>\n",
       "      <td>7</td>\n",
       "      <td>0</td>\n",
       "      <td>0</td>\n",
       "      <td>0</td>\n",
       "      <td>0</td>\n",
       "      <td>0</td>\n",
       "      <td>0</td>\n",
       "      <td>1</td>\n",
       "      <td>0</td>\n",
       "      <td>0</td>\n",
       "      <td>0</td>\n",
       "      <td>0</td>\n",
       "      <td>1</td>\n",
       "      <td>0</td>\n",
       "      <td>0</td>\n",
       "      <td>0</td>\n",
       "      <td>0</td>\n",
       "      <td>0</td>\n",
       "      <td>0</td>\n",
       "      <td>0</td>\n",
       "      <td>0</td>\n",
       "      <td>0</td>\n",
       "      <td>0</td>\n",
       "      <td>0</td>\n",
       "      <td>0</td>\n",
       "      <td>1</td>\n",
       "      <td>0</td>\n",
       "      <td>0</td>\n",
       "      <td>0</td>\n",
       "      <td>0</td>\n",
       "      <td>0</td>\n",
       "      <td>0</td>\n",
       "      <td>0</td>\n",
       "      <td>1</td>\n",
       "      <td>0</td>\n",
       "      <td>0</td>\n",
       "      <td>0</td>\n",
       "      <td>0</td>\n",
       "      <td>0</td>\n",
       "    </tr>\n",
       "    <tr>\n",
       "      <th>1</th>\n",
       "      <td>-0.66336</td>\n",
       "      <td>AR-SLu</td>\n",
       "      <td>1</td>\n",
       "      <td>350641</td>\n",
       "      <td>2010-01-01 01:00:00</td>\n",
       "      <td>1</td>\n",
       "      <td>1.24158</td>\n",
       "      <td>-0.67269</td>\n",
       "      <td>0.81307</td>\n",
       "      <td>0.21495</td>\n",
       "      <td>-0.22793</td>\n",
       "      <td>-0.00058</td>\n",
       "      <td>-0.08901</td>\n",
       "      <td>-0.01291</td>\n",
       "      <td>-0.24070</td>\n",
       "      <td>-0.25051</td>\n",
       "      <td>-0.43256</td>\n",
       "      <td>-0.24660</td>\n",
       "      <td>-0.21986</td>\n",
       "      <td>0.36311</td>\n",
       "      <td>0.70867</td>\n",
       "      <td>0.22515</td>\n",
       "      <td>-33.46480</td>\n",
       "      <td>-66.45980</td>\n",
       "      <td>2.38652</td>\n",
       "      <td>1.99116</td>\n",
       "      <td>0.64702</td>\n",
       "      <td>1.95498</td>\n",
       "      <td>0.42135</td>\n",
       "      <td>-1.08008</td>\n",
       "      <td>1.75732</td>\n",
       "      <td>-1.53398</td>\n",
       "      <td>-0.54290</td>\n",
       "      <td>-0.44022</td>\n",
       "      <td>0.14014</td>\n",
       "      <td>-0.10470</td>\n",
       "      <td>1.67076</td>\n",
       "      <td>1.73034</td>\n",
       "      <td>0</td>\n",
       "      <td>0.00000</td>\n",
       "      <td>7</td>\n",
       "      <td>2</td>\n",
       "      <td>2010</td>\n",
       "      <td>1</td>\n",
       "      <td>1</td>\n",
       "      <td>1</td>\n",
       "      <td>7</td>\n",
       "      <td>0</td>\n",
       "      <td>0</td>\n",
       "      <td>0</td>\n",
       "      <td>0</td>\n",
       "      <td>0</td>\n",
       "      <td>0</td>\n",
       "      <td>1</td>\n",
       "      <td>0</td>\n",
       "      <td>0</td>\n",
       "      <td>0</td>\n",
       "      <td>0</td>\n",
       "      <td>1</td>\n",
       "      <td>0</td>\n",
       "      <td>0</td>\n",
       "      <td>0</td>\n",
       "      <td>0</td>\n",
       "      <td>0</td>\n",
       "      <td>0</td>\n",
       "      <td>0</td>\n",
       "      <td>0</td>\n",
       "      <td>0</td>\n",
       "      <td>0</td>\n",
       "      <td>0</td>\n",
       "      <td>0</td>\n",
       "      <td>1</td>\n",
       "      <td>0</td>\n",
       "      <td>0</td>\n",
       "      <td>0</td>\n",
       "      <td>0</td>\n",
       "      <td>0</td>\n",
       "      <td>0</td>\n",
       "      <td>0</td>\n",
       "      <td>1</td>\n",
       "      <td>0</td>\n",
       "      <td>0</td>\n",
       "      <td>0</td>\n",
       "      <td>0</td>\n",
       "      <td>0</td>\n",
       "    </tr>\n",
       "  </tbody>\n",
       "</table>\n",
       "</div>"
      ],
      "text/plain": [
       "   GPP_NT_VUT_REF site_id  timestep_idx_local  timestep_idx_global  \\\n",
       "0        -0.13057  AR-SLu                   0               350640   \n",
       "1        -0.66336  AR-SLu                   1               350641   \n",
       "\n",
       "             datetime  index  TA_ERA  SW_IN_ERA  LW_IN_ERA  VPD_ERA    P_ERA  \\\n",
       "0 2010-01-01 00:00:00      0 1.28805   -0.67269    0.81307  0.30784  1.19877   \n",
       "1 2010-01-01 01:00:00      1 1.24158   -0.67269    0.81307  0.21495 -0.22793   \n",
       "\n",
       "    PA_ERA      EVI     NDVI     NIRv       b1       b2       b3       b4  \\\n",
       "0 -0.00158 -0.08901 -0.01291 -0.24070 -0.25051 -0.43256 -0.24660 -0.21986   \n",
       "1 -0.00058 -0.08901 -0.01291 -0.24070 -0.25051 -0.43256 -0.24660 -0.21986   \n",
       "\n",
       "       b5      b6      b7       lat      long  c4_percent  BESS-PAR  \\\n",
       "0 0.36311 0.70867 0.22515 -33.46480 -66.45980     2.38652   1.99116   \n",
       "1 0.36311 0.70867 0.22515 -33.46480 -66.45980     2.38652   1.99116   \n",
       "\n",
       "   BESS-PARdiff  BESS-RSDN  CSIF-SIFdaily      PET      Ts  ESACCI-sm  \\\n",
       "0       0.64702    1.95498        0.42135 -1.08008 1.75732   -1.53398   \n",
       "1       0.64702    1.95498        0.42135 -1.08008 1.75732   -1.53398   \n",
       "\n",
       "      NDWI  Percent_Snow    Fpar      Lai  LST_Day  LST_Night  gap_flag_hour  \\\n",
       "0 -0.54290      -0.44022 0.14014 -0.10470  1.67076    1.73034              0   \n",
       "1 -0.54290      -0.44022 0.14014 -0.10470  1.67076    1.73034              0   \n",
       "\n",
       "   gap_flag_month  koppen_sub  koppen_main  year  month  day  hour  MODIS_LC  \\\n",
       "0         0.00000           7            2  2010      1    1     0         7   \n",
       "1         0.00000           7            2  2010      1    1     1         7   \n",
       "\n",
       "   IGBP_CRO  IGBP_CSH  IGBP_DBF  IGBP_EBF  IGBP_ENF  IGBP_GRA  IGBP_MF  \\\n",
       "0         0         0         0         0         0         0        1   \n",
       "1         0         0         0         0         0         0        1   \n",
       "\n",
       "   IGBP_OSH  IGBP_SAV  IGBP_WET  IGBP_WSA  c3c4_C3  c3c4_C4  c3c4_mix  \\\n",
       "0         0         0         0         0        1        0         0   \n",
       "1         0         0         0         0        1        0         0   \n",
       "\n",
       "   c3c4_rotation  c3c4_unknown  MODIS_PFT_CRO  MODIS_PFT_DBF  MODIS_PFT_EBF  \\\n",
       "0              0             0              0              0              0   \n",
       "1              0             0              0              0              0   \n",
       "\n",
       "   MODIS_PFT_ENF  MODIS_PFT_GRA  MODIS_PFT_MF  MODIS_PFT_Other  MODIS_PFT_SA  \\\n",
       "0              0              0             0                0             0   \n",
       "1              0              0             0                0             0   \n",
       "\n",
       "   MODIS_PFT_SH  MODIS_IGBP_CRO  MODIS_IGBP_CSH  MODIS_IGBP_DBF  \\\n",
       "0             1               0               0               0   \n",
       "1             1               0               0               0   \n",
       "\n",
       "   MODIS_IGBP_EBF  MODIS_IGBP_ENF  MODIS_IGBP_GRA  MODIS_IGBP_MF  \\\n",
       "0               0               0               0              0   \n",
       "1               0               0               0              0   \n",
       "\n",
       "   MODIS_IGBP_OSH  MODIS_IGBP_SAV  MODIS_IGBP_URB  MODIS_IGBP_WAT  \\\n",
       "0               1               0               0               0   \n",
       "1               1               0               0               0   \n",
       "\n",
       "   MODIS_IGBP_WET  MODIS_IGBP_WSA  \n",
       "0               0               0  \n",
       "1               0               0  "
      ]
     },
     "metadata": {},
     "output_type": "display_data"
    }
   ],
   "source": [
    "categorical_cols = ['IGBP', 'c3c4', 'koppen_sub', 'koppen_main',\n",
    "                    'year', 'month', 'day', 'hour', 'MODIS_PFT', 'MODIS_LC', 'MODIS_IGBP']\n",
    "realNum_cols = ['TA_ERA', 'SW_IN_ERA', 'LW_IN_ERA', 'VPD_ERA', 'P_ERA', 'PA_ERA', \n",
    "                'EVI', 'NDVI', 'NIRv', 'b1', 'b2', 'b3', 'b4', 'b5', 'b6', 'b7',\n",
    "                'c4_percent', 'BESS-PAR', 'BESS-PARdiff', 'BESS-RSDN', 'CSIF-SIFdaily',\n",
    "                'PET', 'Ts', 'ESACCI-sm', 'NDWI', 'Percent_Snow', 'Fpar', 'Lai',\n",
    "                'LST_Day', 'LST_Night']\n",
    "data_transformer.data_transform(categorical_cols, realNum_cols, cat_encode_type='dummy')\n",
    "\n",
    "print(\"\\nTrain data peak:\")\n",
    "display(data_transformer.train_df.head(2))"
   ]
  },
  {
   "cell_type": "code",
   "execution_count": 12,
   "id": "74a3d356",
   "metadata": {
    "tags": []
   },
   "outputs": [
    {
     "name": "stdout",
     "output_type": "stream",
     "text": [
      "Uploading train dataset to rfr-full_2010_2015-train-v-mvp.parquet...\n",
      "File uploaded to all-sites-data/rfr-full_2010_2015-train-v-mvp.parquet\n",
      "Uploading val dataset to rfr-full_2010_2015-val-v-mvp.parquet...\n",
      "File uploaded to all-sites-data/rfr-full_2010_2015-val-v-mvp.parquet\n",
      "Uploading test dataset to rfr-full_2010_2015-test-v-mvp.parquet...\n",
      "File uploaded to all-sites-data/rfr-full_2010_2015-test-v-mvp.parquet\n"
     ]
    }
   ],
   "source": [
    "final_checkpoint = True\n",
    "\n",
    "if final_checkpoint:\n",
    "    data_transformer.upload_train_test_to_azure(az_cred_file, container, train_blob_name, val_blob_name, test_blob_name)"
   ]
  },
  {
   "cell_type": "code",
   "execution_count": null,
   "id": "c6c2fabd",
   "metadata": {},
   "outputs": [],
   "source": []
  }
 ],
 "metadata": {
  "availableInstances": [
   {
    "_defaultOrder": 0,
    "_isFastLaunch": true,
    "category": "General purpose",
    "gpuNum": 0,
    "memoryGiB": 4,
    "name": "ml.t3.medium",
    "vcpuNum": 2
   },
   {
    "_defaultOrder": 1,
    "_isFastLaunch": false,
    "category": "General purpose",
    "gpuNum": 0,
    "memoryGiB": 8,
    "name": "ml.t3.large",
    "vcpuNum": 2
   },
   {
    "_defaultOrder": 2,
    "_isFastLaunch": false,
    "category": "General purpose",
    "gpuNum": 0,
    "memoryGiB": 16,
    "name": "ml.t3.xlarge",
    "vcpuNum": 4
   },
   {
    "_defaultOrder": 3,
    "_isFastLaunch": false,
    "category": "General purpose",
    "gpuNum": 0,
    "memoryGiB": 32,
    "name": "ml.t3.2xlarge",
    "vcpuNum": 8
   },
   {
    "_defaultOrder": 4,
    "_isFastLaunch": true,
    "category": "General purpose",
    "gpuNum": 0,
    "memoryGiB": 8,
    "name": "ml.m5.large",
    "vcpuNum": 2
   },
   {
    "_defaultOrder": 5,
    "_isFastLaunch": false,
    "category": "General purpose",
    "gpuNum": 0,
    "memoryGiB": 16,
    "name": "ml.m5.xlarge",
    "vcpuNum": 4
   },
   {
    "_defaultOrder": 6,
    "_isFastLaunch": false,
    "category": "General purpose",
    "gpuNum": 0,
    "memoryGiB": 32,
    "name": "ml.m5.2xlarge",
    "vcpuNum": 8
   },
   {
    "_defaultOrder": 7,
    "_isFastLaunch": false,
    "category": "General purpose",
    "gpuNum": 0,
    "memoryGiB": 64,
    "name": "ml.m5.4xlarge",
    "vcpuNum": 16
   },
   {
    "_defaultOrder": 8,
    "_isFastLaunch": false,
    "category": "General purpose",
    "gpuNum": 0,
    "memoryGiB": 128,
    "name": "ml.m5.8xlarge",
    "vcpuNum": 32
   },
   {
    "_defaultOrder": 9,
    "_isFastLaunch": false,
    "category": "General purpose",
    "gpuNum": 0,
    "memoryGiB": 192,
    "name": "ml.m5.12xlarge",
    "vcpuNum": 48
   },
   {
    "_defaultOrder": 10,
    "_isFastLaunch": false,
    "category": "General purpose",
    "gpuNum": 0,
    "memoryGiB": 256,
    "name": "ml.m5.16xlarge",
    "vcpuNum": 64
   },
   {
    "_defaultOrder": 11,
    "_isFastLaunch": false,
    "category": "General purpose",
    "gpuNum": 0,
    "memoryGiB": 384,
    "name": "ml.m5.24xlarge",
    "vcpuNum": 96
   },
   {
    "_defaultOrder": 12,
    "_isFastLaunch": false,
    "category": "General purpose",
    "gpuNum": 0,
    "memoryGiB": 8,
    "name": "ml.m5d.large",
    "vcpuNum": 2
   },
   {
    "_defaultOrder": 13,
    "_isFastLaunch": false,
    "category": "General purpose",
    "gpuNum": 0,
    "memoryGiB": 16,
    "name": "ml.m5d.xlarge",
    "vcpuNum": 4
   },
   {
    "_defaultOrder": 14,
    "_isFastLaunch": false,
    "category": "General purpose",
    "gpuNum": 0,
    "memoryGiB": 32,
    "name": "ml.m5d.2xlarge",
    "vcpuNum": 8
   },
   {
    "_defaultOrder": 15,
    "_isFastLaunch": false,
    "category": "General purpose",
    "gpuNum": 0,
    "memoryGiB": 64,
    "name": "ml.m5d.4xlarge",
    "vcpuNum": 16
   },
   {
    "_defaultOrder": 16,
    "_isFastLaunch": false,
    "category": "General purpose",
    "gpuNum": 0,
    "memoryGiB": 128,
    "name": "ml.m5d.8xlarge",
    "vcpuNum": 32
   },
   {
    "_defaultOrder": 17,
    "_isFastLaunch": false,
    "category": "General purpose",
    "gpuNum": 0,
    "memoryGiB": 192,
    "name": "ml.m5d.12xlarge",
    "vcpuNum": 48
   },
   {
    "_defaultOrder": 18,
    "_isFastLaunch": false,
    "category": "General purpose",
    "gpuNum": 0,
    "memoryGiB": 256,
    "name": "ml.m5d.16xlarge",
    "vcpuNum": 64
   },
   {
    "_defaultOrder": 19,
    "_isFastLaunch": false,
    "category": "General purpose",
    "gpuNum": 0,
    "memoryGiB": 384,
    "name": "ml.m5d.24xlarge",
    "vcpuNum": 96
   },
   {
    "_defaultOrder": 20,
    "_isFastLaunch": true,
    "category": "Compute optimized",
    "gpuNum": 0,
    "memoryGiB": 4,
    "name": "ml.c5.large",
    "vcpuNum": 2
   },
   {
    "_defaultOrder": 21,
    "_isFastLaunch": false,
    "category": "Compute optimized",
    "gpuNum": 0,
    "memoryGiB": 8,
    "name": "ml.c5.xlarge",
    "vcpuNum": 4
   },
   {
    "_defaultOrder": 22,
    "_isFastLaunch": false,
    "category": "Compute optimized",
    "gpuNum": 0,
    "memoryGiB": 16,
    "name": "ml.c5.2xlarge",
    "vcpuNum": 8
   },
   {
    "_defaultOrder": 23,
    "_isFastLaunch": false,
    "category": "Compute optimized",
    "gpuNum": 0,
    "memoryGiB": 32,
    "name": "ml.c5.4xlarge",
    "vcpuNum": 16
   },
   {
    "_defaultOrder": 24,
    "_isFastLaunch": false,
    "category": "Compute optimized",
    "gpuNum": 0,
    "memoryGiB": 72,
    "name": "ml.c5.9xlarge",
    "vcpuNum": 36
   },
   {
    "_defaultOrder": 25,
    "_isFastLaunch": false,
    "category": "Compute optimized",
    "gpuNum": 0,
    "memoryGiB": 96,
    "name": "ml.c5.12xlarge",
    "vcpuNum": 48
   },
   {
    "_defaultOrder": 26,
    "_isFastLaunch": false,
    "category": "Compute optimized",
    "gpuNum": 0,
    "memoryGiB": 144,
    "name": "ml.c5.18xlarge",
    "vcpuNum": 72
   },
   {
    "_defaultOrder": 27,
    "_isFastLaunch": false,
    "category": "Compute optimized",
    "gpuNum": 0,
    "memoryGiB": 192,
    "name": "ml.c5.24xlarge",
    "vcpuNum": 96
   },
   {
    "_defaultOrder": 28,
    "_isFastLaunch": true,
    "category": "Accelerated computing",
    "gpuNum": 1,
    "memoryGiB": 16,
    "name": "ml.g4dn.xlarge",
    "vcpuNum": 4
   },
   {
    "_defaultOrder": 29,
    "_isFastLaunch": false,
    "category": "Accelerated computing",
    "gpuNum": 1,
    "memoryGiB": 32,
    "name": "ml.g4dn.2xlarge",
    "vcpuNum": 8
   },
   {
    "_defaultOrder": 30,
    "_isFastLaunch": false,
    "category": "Accelerated computing",
    "gpuNum": 1,
    "memoryGiB": 64,
    "name": "ml.g4dn.4xlarge",
    "vcpuNum": 16
   },
   {
    "_defaultOrder": 31,
    "_isFastLaunch": false,
    "category": "Accelerated computing",
    "gpuNum": 1,
    "memoryGiB": 128,
    "name": "ml.g4dn.8xlarge",
    "vcpuNum": 32
   },
   {
    "_defaultOrder": 32,
    "_isFastLaunch": false,
    "category": "Accelerated computing",
    "gpuNum": 4,
    "memoryGiB": 192,
    "name": "ml.g4dn.12xlarge",
    "vcpuNum": 48
   },
   {
    "_defaultOrder": 33,
    "_isFastLaunch": false,
    "category": "Accelerated computing",
    "gpuNum": 1,
    "memoryGiB": 256,
    "name": "ml.g4dn.16xlarge",
    "vcpuNum": 64
   },
   {
    "_defaultOrder": 34,
    "_isFastLaunch": false,
    "category": "Accelerated computing",
    "gpuNum": 1,
    "memoryGiB": 61,
    "name": "ml.p3.2xlarge",
    "vcpuNum": 8
   },
   {
    "_defaultOrder": 35,
    "_isFastLaunch": false,
    "category": "Accelerated computing",
    "gpuNum": 4,
    "memoryGiB": 244,
    "name": "ml.p3.8xlarge",
    "vcpuNum": 32
   },
   {
    "_defaultOrder": 36,
    "_isFastLaunch": false,
    "category": "Accelerated computing",
    "gpuNum": 8,
    "memoryGiB": 488,
    "name": "ml.p3.16xlarge",
    "vcpuNum": 64
   },
   {
    "_defaultOrder": 37,
    "_isFastLaunch": false,
    "category": "Accelerated computing",
    "gpuNum": 8,
    "memoryGiB": 768,
    "name": "ml.p3dn.24xlarge",
    "vcpuNum": 96
   },
   {
    "_defaultOrder": 38,
    "_isFastLaunch": false,
    "category": "Memory Optimized",
    "gpuNum": 0,
    "memoryGiB": 16,
    "name": "ml.r5.large",
    "vcpuNum": 2
   },
   {
    "_defaultOrder": 39,
    "_isFastLaunch": false,
    "category": "Memory Optimized",
    "gpuNum": 0,
    "memoryGiB": 32,
    "name": "ml.r5.xlarge",
    "vcpuNum": 4
   },
   {
    "_defaultOrder": 40,
    "_isFastLaunch": false,
    "category": "Memory Optimized",
    "gpuNum": 0,
    "memoryGiB": 64,
    "name": "ml.r5.2xlarge",
    "vcpuNum": 8
   },
   {
    "_defaultOrder": 41,
    "_isFastLaunch": false,
    "category": "Memory Optimized",
    "gpuNum": 0,
    "memoryGiB": 128,
    "name": "ml.r5.4xlarge",
    "vcpuNum": 16
   },
   {
    "_defaultOrder": 42,
    "_isFastLaunch": false,
    "category": "Memory Optimized",
    "gpuNum": 0,
    "memoryGiB": 256,
    "name": "ml.r5.8xlarge",
    "vcpuNum": 32
   },
   {
    "_defaultOrder": 43,
    "_isFastLaunch": false,
    "category": "Memory Optimized",
    "gpuNum": 0,
    "memoryGiB": 384,
    "name": "ml.r5.12xlarge",
    "vcpuNum": 48
   },
   {
    "_defaultOrder": 44,
    "_isFastLaunch": false,
    "category": "Memory Optimized",
    "gpuNum": 0,
    "memoryGiB": 512,
    "name": "ml.r5.16xlarge",
    "vcpuNum": 64
   },
   {
    "_defaultOrder": 45,
    "_isFastLaunch": false,
    "category": "Memory Optimized",
    "gpuNum": 0,
    "memoryGiB": 768,
    "name": "ml.r5.24xlarge",
    "vcpuNum": 96
   },
   {
    "_defaultOrder": 46,
    "_isFastLaunch": false,
    "category": "Accelerated computing",
    "gpuNum": 1,
    "memoryGiB": 16,
    "name": "ml.g5.xlarge",
    "vcpuNum": 4
   },
   {
    "_defaultOrder": 47,
    "_isFastLaunch": false,
    "category": "Accelerated computing",
    "gpuNum": 1,
    "memoryGiB": 32,
    "name": "ml.g5.2xlarge",
    "vcpuNum": 8
   },
   {
    "_defaultOrder": 48,
    "_isFastLaunch": false,
    "category": "Accelerated computing",
    "gpuNum": 1,
    "memoryGiB": 64,
    "name": "ml.g5.4xlarge",
    "vcpuNum": 16
   },
   {
    "_defaultOrder": 49,
    "_isFastLaunch": false,
    "category": "Accelerated computing",
    "gpuNum": 1,
    "memoryGiB": 128,
    "name": "ml.g5.8xlarge",
    "vcpuNum": 32
   },
   {
    "_defaultOrder": 50,
    "_isFastLaunch": false,
    "category": "Accelerated computing",
    "gpuNum": 1,
    "memoryGiB": 256,
    "name": "ml.g5.16xlarge",
    "vcpuNum": 64
   },
   {
    "_defaultOrder": 51,
    "_isFastLaunch": false,
    "category": "Accelerated computing",
    "gpuNum": 4,
    "memoryGiB": 192,
    "name": "ml.g5.12xlarge",
    "vcpuNum": 48
   },
   {
    "_defaultOrder": 52,
    "_isFastLaunch": false,
    "category": "Accelerated computing",
    "gpuNum": 4,
    "memoryGiB": 384,
    "name": "ml.g5.24xlarge",
    "vcpuNum": 96
   },
   {
    "_defaultOrder": 53,
    "_isFastLaunch": false,
    "category": "Accelerated computing",
    "gpuNum": 8,
    "memoryGiB": 768,
    "name": "ml.g5.48xlarge",
    "vcpuNum": 192
   }
  ],
  "colab": {
   "collapsed_sections": [
    "OA1ZkEPP3zLz",
    "O4RveeAZ3qm8",
    "bIoy86rH4hRH"
   ],
   "machine_shape": "hm",
   "provenance": []
  },
  "gpuClass": "standard",
  "instance_type": "ml.m5d.2xlarge",
  "kernelspec": {
   "display_name": "Python [conda env:py310] (arn:aws:sagemaker:us-east-1:081325390199:image/datascience-1.0)",
   "language": "python",
   "name": "conda-env-py310-py__SAGEMAKER_INTERNAL__arn:aws:sagemaker:us-east-1:081325390199:image/datascience-1.0"
  },
  "language_info": {
   "codemirror_mode": {
    "name": "ipython",
    "version": 3
   },
   "file_extension": ".py",
   "mimetype": "text/x-python",
   "name": "python",
   "nbconvert_exporter": "python",
   "pygments_lexer": "ipython3",
   "version": "3.10.9"
  }
 },
 "nbformat": 4,
 "nbformat_minor": 5
}
