{
 "cells": [
  {
   "cell_type": "markdown",
   "id": "OA1ZkEPP3zLz",
   "metadata": {
    "id": "OA1ZkEPP3zLz"
   },
   "source": [
    "# Notebook Setup"
   ]
  },
  {
   "cell_type": "code",
   "execution_count": 2,
   "id": "f6c9a282",
   "metadata": {
    "tags": []
   },
   "outputs": [],
   "source": [
    "#TODO: CHANGE THIS BASED ON YOUR OWN LOCAL SETTINGS\n",
    "#MY_HOME_ABS_PATH = \"/Users/jetcalz07/Desktop/MIDS/W210_Capstone/co2-flux-hourly-gpp-modeling\"\n",
    "MY_HOME_ABS_PATH = \"/root/co2-flux-hourly-gpp-modeling\""
   ]
  },
  {
   "cell_type": "code",
   "execution_count": 3,
   "id": "ko8n8_z9pkBE",
   "metadata": {
    "colab": {
     "base_uri": "https://localhost:8080/"
    },
    "executionInfo": {
     "elapsed": 20193,
     "status": "ok",
     "timestamp": 1678533146889,
     "user": {
      "displayName": "Mary Chau",
      "userId": "14027067063095206122"
     },
     "user_tz": 480
    },
    "id": "ko8n8_z9pkBE",
    "outputId": "3283f521-a15c-4178-a58f-b88c96cf9ee9",
    "tags": []
   },
   "outputs": [],
   "source": [
    "if 'google.colab' in str(get_ipython()):\n",
    "  IN_COLLAB = True\n",
    "  from google.colab import drive\n",
    "  drive.mount('/content/drive/')\n",
    "else:\n",
    "  IN_COLLAB = False"
   ]
  },
  {
   "cell_type": "markdown",
   "id": "WQOpIAzZ32Ek",
   "metadata": {
    "id": "WQOpIAzZ32Ek"
   },
   "source": [
    "## Import Modules"
   ]
  },
  {
   "cell_type": "code",
   "execution_count": 4,
   "id": "be2d4d6a",
   "metadata": {
    "colab": {
     "base_uri": "https://localhost:8080/"
    },
    "executionInfo": {
     "elapsed": 10058,
     "status": "ok",
     "timestamp": 1678533156939,
     "user": {
      "displayName": "Mary Chau",
      "userId": "14027067063095206122"
     },
     "user_tz": 480
    },
    "id": "be2d4d6a",
    "outputId": "ead312f6-6d4d-4499-9777-700dcaa9b38c",
    "tags": []
   },
   "outputs": [],
   "source": [
    "import os\n",
    "os.environ[\"PYARROW_IGNORE_TIMEZONE\"] = \"1\"\n",
    "import pandas as pd\n",
    "import numpy as np\n",
    "import sys\n",
    "import joblib\n",
    "from io import BytesIO\n",
    "from sklearn.model_selection import StratifiedKFold\n",
    "\n",
    "# Load locale custome modules\n",
    "os.chdir(MY_HOME_ABS_PATH)\n",
    "if IN_COLLAB:\n",
    "    sys.path.insert(0,os.path.abspath(\"./code/src/tools\"))\n",
    "else:\n",
    "    sys.path.append(os.path.abspath(\"./code/src/tools\"))\n",
    "\n",
    "from CloudIO.AzStorageClient import AzStorageClient\n",
    "from data_pipeline_lib import *\n",
    "\n",
    "pd.set_option('display.max_columns', None)\n",
    "pd.set_option('display.float_format', lambda x: '%.5f' % x)"
   ]
  },
  {
   "cell_type": "markdown",
   "id": "O4RveeAZ3qm8",
   "metadata": {
    "id": "O4RveeAZ3qm8"
   },
   "source": [
    "# Define Constants"
   ]
  },
  {
   "cell_type": "code",
   "execution_count": 5,
   "id": "8652c8af",
   "metadata": {
    "executionInfo": {
     "elapsed": 10,
     "status": "ok",
     "timestamp": 1678533156940,
     "user": {
      "displayName": "Mary Chau",
      "userId": "14027067063095206122"
     },
     "user_tz": 480
    },
    "id": "8652c8af",
    "tags": []
   },
   "outputs": [],
   "source": [
    "root_dir =  MY_HOME_ABS_PATH\n",
    "tmp_dir =  root_dir + os.sep + '.tmp'\n",
    "raw_data_dir = tmp_dir\n",
    "data_dir = root_dir + os.sep + 'data'\n",
    "cred_dir = root_dir + os.sep + '.cred'\n",
    "az_cred_file = cred_dir + os.sep + 'azblobcred.json'\n",
    "preproc_objects_dir = root_dir + os.sep + 'code' + os.sep + 'src' + os.sep + 'preprocessing' + os.sep + 'preproc_objects'\n",
    "\n",
    "if IN_COLLAB:\n",
    "    raw_data_dir = \"/content/drive/MyDrive/W210/Data/half_hourly_data\"\n",
    "\n",
    "# Input files\n",
    "site_metadata_filename = data_dir + os.sep + 'site-metadata.csv'\n",
    "monthly_data_filename = data_dir + os.sep + \"monthly-mvp-v2.csv\"\n",
    "split_dict_filename = preproc_objects_dir + os.sep + \"stratified_splits_k5.joblib\"\n",
    "\n",
    "# Output file naming\n",
    "container = \"all-sites-data\"\n",
    "ext = \"parquet\"\n",
    "ver = \"mvp-v2-knn\"\n",
    "model = \"rfr\"\n",
    "tag = \"raw\"\n",
    "blob_name_base = f\"{model}-full_2010_2015_v_{ver}\"\n",
    "blob_name = f\"{blob_name_base}_{tag}.{ext}\"\n",
    "train_blob_name = f\"{model}-full_2010_2015-train-v-{ver}.{ext}\"\n",
    "val_blob_name = f\"{model}-full_2010_2015-val-v-{ver}.{ext}\"\n",
    "test_blob_name = f\"{model}-full_2010_2015-test-v-{ver}.{ext}\""
   ]
  },
  {
   "cell_type": "code",
   "execution_count": 6,
   "id": "VEPrPTsIP-6v",
   "metadata": {
    "executionInfo": {
     "elapsed": 9,
     "status": "ok",
     "timestamp": 1678533156940,
     "user": {
      "displayName": "Mary Chau",
      "userId": "14027067063095206122"
     },
     "user_tz": 480
    },
    "id": "VEPrPTsIP-6v",
    "tags": []
   },
   "outputs": [],
   "source": [
    "# Define features and target variables of the data pipelines\n",
    "target_variable = 'GPP_NT_VUT_REF'\n",
    "hourly_features = ['TA_ERA', 'SW_IN_ERA', 'LW_IN_ERA', 'VPD_ERA', 'P_ERA', 'PA_ERA',\n",
    "                     'datetime', 'year', 'month', 'day', 'hour', 'date',\n",
    "                     'EVI', 'NDVI', 'NIRv', 'b1', 'b2', 'b3', 'b4', 'b5', 'b6', 'b7']\n",
    "msc_features = ['TA_ERA', 'SW_IN_ERA', 'P_ERA', 'EVI', 'NDVI', 'NIRv', 'b4']\n",
    "metadata_features = ['site_id', 'filename', 'koppen_sub', 'koppen_main',\n",
    "                     'c3c4', 'c4_percent', 'monthly_data_available', 'hemisphere_NS', 'lat_band']\n",
    "precip_sum_features = True\n",
    "\n",
    "# Define the features to use in KNN imputer, only using real values as cat are same per site\n",
    "imp_exclude_cols = ['date', 'datetime', 'year', 'month', 'hour', 'day', 'minute', 'site_id', 'IGBP']\n",
    "imp_cols = [x for x in hourly_features + ['GPP_NT_VUT_REF'] if x not in imp_exclude_cols]"
   ]
  },
  {
   "cell_type": "markdown",
   "id": "bIoy86rH4hRH",
   "metadata": {
    "id": "bIoy86rH4hRH"
   },
   "source": [
    "# Stage 1: Trim and Merge Site Metadata"
   ]
  },
  {
   "cell_type": "code",
   "execution_count": 7,
   "id": "fab0c08a",
   "metadata": {
    "colab": {
     "base_uri": "https://localhost:8080/"
    },
    "executionInfo": {
     "elapsed": 27,
     "status": "ok",
     "timestamp": 1678518922905,
     "user": {
      "displayName": "M C",
      "userId": "04433644267338205634"
     },
     "user_tz": 480
    },
    "id": "fab0c08a",
    "outputId": "23634180-e15f-4cfc-a4a8-e12783f7eb80",
    "tags": []
   },
   "outputs": [],
   "source": [
    "# Define imput params\n",
    "impute = True\n",
    "impute_method = 'knn'\n",
    "impute_global = True\n",
    "resample = False\n",
    "time_col = 'datetime'\n",
    "duration = 'H'\n",
    "\n",
    "# Filter sequence to date range\n",
    "missing_thresh = 0.2\n",
    "start_date = '2010-01-01'\n",
    "end_date ='2015-12-31'\n",
    "\n",
    "# Impute params (if used)\n",
    "k=5\n",
    "weights='uniform'\n",
    "n_fit=20000\n",
    "c=-1"
   ]
  },
  {
   "cell_type": "code",
   "execution_count": 8,
   "id": "5fb2d575",
   "metadata": {
    "colab": {
     "base_uri": "https://localhost:8080/"
    },
    "executionInfo": {
     "elapsed": 3456202,
     "status": "ok",
     "timestamp": 1678522379084,
     "user": {
      "displayName": "M C",
      "userId": "04433644267338205634"
     },
     "user_tz": 480
    },
    "id": "5fb2d575",
    "outputId": "ae040623-0f4d-4035-cb9a-14a4797428f8",
    "tags": []
   },
   "outputs": [
    {
     "name": "stdout",
     "output_type": "stream",
     "text": [
      "Sites with missing monthly data: 43\n",
      "1. AR-SLu: (10800, 51)\n",
      "2. AR-Vir: (16992, 51)\n",
      "3. AT-Neu: (26304, 51)\n",
      "4. AU-ASM: (37248, 51)\n",
      "AU-Ade has less than 1 year of remaining sequences\n",
      "AU-Cpr has too many gaps, missing % = 0.20757180156657964\n",
      "7. AU-Cum: (18864, 51)\n",
      "8. AU-DaP: (28200, 51)\n",
      "9. AU-DaS: (40392, 51)\n",
      "AU-Dry has too many gaps, missing % = 0.2732749178532311\n",
      "11. AU-Emr: (20448, 51)\n",
      "AU-Fog has less than 1 year of remaining sequences\n",
      "13. AU-Gin: (24336, 51)\n",
      "14. AU-How: (43824, 51)\n",
      "15. AU-RDF: (14904, 51)\n",
      "16. AU-Rig: (31824, 51)\n",
      "17. AU-Stp: (40632, 51)\n",
      "18. AU-TTE: (21288, 51)\n",
      "SKIP: AU-Tum is missing hourly data.\n",
      "AU-Wac has less than 1 year of remaining sequences\n",
      "21. AU-Whr: (27024, 51)\n",
      "22. AU-Wom: (41928, 51)\n",
      "AU-Ync has too many gaps, missing % = 0.3057644110275689\n",
      "SKIP: BR-Sa1 is missing hourly data.\n",
      "BR-Sa3 has less than 1 year of remaining sequences\n",
      "CA-Man has less than 1 year of remaining sequences\n",
      "CA-NS4 has less than 1 year of remaining sequences\n",
      "CA-NS7 has less than 1 year of remaining sequences\n",
      "29. CA-Oas: (8760, 51)\n",
      "CA-Obs has less than 1 year of remaining sequences\n",
      "CA-SF1 has less than 1 year of remaining sequences\n",
      "CA-SF3 has less than 1 year of remaining sequences\n",
      "33. CA-TP1: (38856, 51)\n",
      "CA-TP2 has less than 1 year of remaining sequences\n",
      "35. CA-TP3: (42792, 51)\n",
      "36. CA-TPD: (25296, 51)\n",
      "CG-Tch has less than 1 year of remaining sequences\n",
      "CH-Oe1 has less than 1 year of remaining sequences\n",
      "CN-Cha has less than 1 year of remaining sequences\n",
      "CN-Cng has less than 1 year of remaining sequences\n",
      "CN-Din has less than 1 year of remaining sequences\n",
      "CN-Du2 has less than 1 year of remaining sequences\n",
      "CN-Ha2 has less than 1 year of remaining sequences\n",
      "CN-HaM has less than 1 year of remaining sequences\n",
      "CN-Qia has less than 1 year of remaining sequences\n",
      "  Column(s) with only NAN: ['b6']\n",
      "46. CN-Sw2: (9600, 51)\n",
      "47. CZ-BK2: (25128, 51)\n",
      "DE-Lkb has too many gaps, missing % = 0.25090645395213923\n",
      "49. DE-Lnf: (24984, 51)\n",
      "DE-Seh has less than 1 year of remaining sequences\n",
      "51. DE-SfN: (19680, 51)\n",
      "52. DE-Spw: (35304, 51)\n",
      "DK-Eng has less than 1 year of remaining sequences\n",
      "54. ES-Amo: (24816, 51)\n",
      "ES-LgS has less than 1 year of remaining sequences\n",
      "FI-Jok has less than 1 year of remaining sequences\n",
      "FI-Lom has less than 1 year of remaining sequences\n",
      "58. FI-Sod: (41424, 51)\n",
      "FR-LBr has less than 1 year of remaining sequences\n",
      "60. FR-Pue: (41136, 51)\n",
      "GH-Ank has too many gaps, missing % = 0.4784791965566714\n",
      "GL-NuF has too many gaps, missing % = 0.5693196405648266\n",
      "GL-ZaF has less than 1 year of remaining sequences\n",
      "GL-ZaH has too many gaps, missing % = 0.5104039167686658\n",
      "65. IT-CA1: (28008, 51)\n",
      "66. IT-CA2: (27768, 51)\n",
      "67. IT-CA3: (23256, 51)\n",
      "IT-Col has too many gaps, missing % = 0.23822562979189485\n",
      "IT-Cpz has less than 1 year of remaining sequences\n",
      "IT-La2 has less than 1 year of remaining sequences\n",
      "71. IT-Noe: (35064, 51)\n",
      "IT-PT1 has less than 1 year of remaining sequences\n",
      "IT-Ro1 has less than 1 year of remaining sequences\n",
      "74. IT-Ro2: (23064, 51)\n",
      "75. IT-SRo: (23832, 51)\n",
      "JP-MBF has less than 1 year of remaining sequences\n",
      "JP-SMF has less than 1 year of remaining sequences\n",
      "MY-PSO has less than 1 year of remaining sequences\n",
      "79. NL-Hor: (14496, 51)\n",
      "PA-SPn has less than 1 year of remaining sequences\n",
      "PA-SPs has less than 1 year of remaining sequences\n",
      "RU-Che has less than 1 year of remaining sequences\n",
      "RU-Cok has too many gaps, missing % = 0.6715927750410509\n",
      "RU-Ha1 has less than 1 year of remaining sequences\n",
      "SD-Dem has less than 1 year of remaining sequences\n",
      "SJ-Adv has too many gaps, missing % = 0.5657015590200446\n",
      "SN-Dhr has too many gaps, missing % = 0.4466720128307939\n",
      "US-Atq has less than 1 year of remaining sequences\n",
      "US-Blo has less than 1 year of remaining sequences\n",
      "SKIP: US-Cop is missing hourly data.\n",
      "US-GBT has less than 1 year of remaining sequences\n",
      "92. US-GLE: (41736, 51)\n",
      "US-Goo has less than 1 year of remaining sequences\n",
      "SKIP: US-Ha1 is missing hourly data.\n",
      "95. US-IB2: (17184, 51)\n",
      "US-Ivo has less than 1 year of remaining sequences\n",
      "US-KS2 has less than 1 year of remaining sequences\n",
      "US-Los has too many gaps, missing % = 0.7159023228111971\n",
      "US-Me3 has less than 1 year of remaining sequences\n",
      "US-Me5 has less than 1 year of remaining sequences\n",
      "101. US-Me6: (33336, 51)\n",
      "102. US-Myb: (32160, 51)\n",
      "103. US-NR1: (43512, 51)\n",
      "SKIP: US-Ne1 is missing hourly data.\n",
      "SKIP: US-Ne2 is missing hourly data.\n",
      "SKIP: US-Ne3 is missing hourly data.\n",
      "SKIP: US-PFa is missing hourly data.\n",
      "US-SRC has too many gaps, missing % = 0.2062423500611995\n",
      "109. US-SRM: (43296, 51)\n",
      "US-Sta has less than 1 year of remaining sequences\n",
      "111. US-Syv: (19824, 51)\n",
      "112. US-Ton: (42264, 51)\n",
      "113. US-Twt: (39048, 51)\n",
      "114. US-Var: (43440, 51)\n",
      "115. US-WCr: (32544, 51)\n",
      "116. US-WPT: (26304, 51)\n",
      "117. US-Whs: (43824, 51)\n",
      "US-Wi3 has less than 1 year of remaining sequences\n",
      "US-Wi4 has less than 1 year of remaining sequences\n",
      "120. US-Wkg: (43824, 51)\n",
      "ZM-Mon has less than 1 year of remaining sequences\n",
      "  Column(s) with only NAN: ['b6']\n",
      "122. CA-Ca1: (8760, 51)\n",
      "  Column(s) with only NAN: ['b6']\n",
      "123. CA-Ca2: (8760, 51)\n",
      "  Column(s) with only NAN: ['b6']\n",
      "124. CA-Ca3: (8760, 51)\n",
      "125. CA-Cbo: (43224, 51)\n",
      "126. CA-Gro: (36672, 51)\n",
      "CA-NS1 has less than 1 year of remaining sequences\n",
      "CA-NS2 has less than 1 year of remaining sequences\n",
      "CA-NS3 has less than 1 year of remaining sequences\n",
      "CA-NS5 has less than 1 year of remaining sequences\n",
      "CA-NS6 has less than 1 year of remaining sequences\n",
      "CA-Qc2 has less than 1 year of remaining sequences\n",
      "CA-Qfo has less than 1 year of remaining sequences\n",
      "CA-SF2 has less than 1 year of remaining sequences\n",
      "CA-SJ2 has less than 1 year of remaining sequences\n",
      "136. CA-TP4: (51888, 51)\n",
      "CA-WP1 has less than 1 year of remaining sequences\n",
      "CA-WP2 has less than 1 year of remaining sequences\n",
      "CA-WP3 has less than 1 year of remaining sequences\n",
      "140. US-AR1: (23520, 51)\n",
      "141. US-AR2: (21264, 51)\n",
      "142. US-ARM: (48600, 51)\n",
      "143. US-Bar: (47712, 51)\n",
      "144. US-CRT: (25968, 51)\n",
      "US-Dk1 has less than 1 year of remaining sequences\n",
      "US-Dk2 has less than 1 year of remaining sequences\n",
      "US-Dk3 has less than 1 year of remaining sequences\n",
      "US-FR2 has less than 1 year of remaining sequences\n",
      "  Column(s) with only NAN: ['b6']\n",
      "149. US-Fmf: (8760, 51)\n",
      "US-Fuf has less than 1 year of remaining sequences\n",
      "151. US-Ho1: (46008, 51)\n",
      "152. US-KFS: (48984, 51)\n",
      "SKIP: US-MMS is missing hourly data.\n",
      "US-Me2 has too many gaps, missing % = 0.20219078046554084\n",
      "155. US-Mpj: (49224, 51)\n",
      "156. US-Oho: (35064, 51)\n",
      "157. US-Prr: (41736, 51)\n",
      "US-Rls has too many gaps, missing % = 0.20964360587002095\n",
      "US-Rms has too many gaps, missing % = 0.211864406779661\n",
      "160. US-Ro1: (50208, 51)\n",
      "US-Ro4 has too many gaps, missing % = 0.21506849315068494\n",
      "  Column(s) with only NAN: ['b6']\n",
      "162. US-Rws: (10056, 51)\n",
      "163. US-SRG: (52584, 51)\n",
      "164. US-Seg: (49656, 51)\n",
      "165. US-Ses: (51696, 51)\n",
      "US-Tw1 has too many gaps, missing % = 0.34769947582993593\n",
      "167. US-Tw4: (13992, 51)\n",
      "168. US-UMB: (52584, 51)\n",
      "169. US-UMd: (50544, 51)\n",
      "US-Uaf has too many gaps, missing % = 0.32047619047619047\n",
      "171. US-Vcm: (43200, 51)\n",
      "172. US-Vcp: (47832, 51)\n",
      "173. US-Wjs: (51456, 51)\n",
      "174. BE-Bra: (51648, 51)\n",
      "175. BE-Dor: (43272, 51)\n",
      "176. BE-Lon: (51984, 51)\n",
      "BE-Maa has less than 1 year of remaining sequences\n",
      "178. BE-Vie: (50616, 51)\n",
      "CH-Aws has too many gaps, missing % = 0.4662487945998071\n",
      "180. CH-Cha: (52584, 51)\n",
      "181. CH-Dav: (52584, 51)\n",
      "182. CH-Fru: (50592, 51)\n",
      "183. CH-Lae: (52344, 51)\n",
      "184. CH-Oe2: (50928, 51)\n",
      "185. CZ-BK1: (50616, 51)\n",
      "186. CZ-KrP: (17520, 51)\n",
      "  Column(s) with only NAN: ['b6']\n",
      "187. CZ-Lnz: (8760, 51)\n",
      "188. CZ-RAJ: (33552, 51)\n",
      "189. CZ-Stn: (51336, 51)\n",
      "190. CZ-wet: (52296, 51)\n",
      "DE-Akm has too many gaps, missing % = 0.2390267175572519\n",
      "192. DE-Geb: (52584, 51)\n",
      "193. DE-Gri: (51624, 51)\n",
      "194. DE-Hai: (48864, 51)\n",
      "  Column(s) with only NAN: ['b6']\n",
      "195. DE-HoH: (8760, 51)\n",
      "DE-Hzd has too many gaps, missing % = 0.2173228346456693\n",
      "197. DE-Kli: (50112, 51)\n",
      "198. DE-Obe: (51456, 51)\n",
      "199. DE-RuR: (39816, 51)\n",
      "DE-RuS has too many gaps, missing % = 0.20433255269320844\n",
      "DE-RuW has too many gaps, missing % = 0.32643202208419597\n",
      "202. DE-Tha: (52584, 51)\n",
      "203. DK-Sor: (48072, 51)\n",
      "ES-Abr has less than 1 year of remaining sequences\n",
      "ES-Agu has too many gaps, missing % = 0.26072124756335285\n",
      "206. ES-LJu: (49968, 51)\n",
      "207. ES-LM1: (15768, 51)\n",
      "208. ES-LM2: (15192, 51)\n",
      "209. FI-Hyy: (51360, 51)\n",
      "FI-Ken has less than 1 year of remaining sequences\n",
      "211. FI-Let: (48840, 51)\n",
      "FI-Qvd has less than 1 year of remaining sequences\n",
      "FI-Sii has less than 1 year of remaining sequences\n",
      "FI-Var has less than 1 year of remaining sequences\n",
      "215. FR-Aur: (52344, 51)\n",
      "216. FR-Bil: (12552, 51)\n",
      "217. FR-FBn: (51696, 51)\n",
      "218. FR-Fon: (49056, 51)\n",
      "FR-Gri has too many gaps, missing % = 0.20356001825650388\n",
      "220. FR-Hes: (17520, 51)\n",
      "FR-LGt has less than 1 year of remaining sequences\n",
      "222. FR-Lam: (50352, 51)\n",
      "FR-Tou has less than 1 year of remaining sequences\n",
      "224. GF-Guy: (50616, 51)\n",
      "225. IL-Yat: (45816, 51)\n",
      "226. IT-BCi: (46416, 51)\n",
      "IT-Cp2 has too many gaps, missing % = 0.2446351931330472\n",
      "228. IT-Lav: (45960, 51)\n",
      "IT-Lsn has less than 1 year of remaining sequences\n",
      "230. IT-MBo: (47064, 51)\n",
      "231. IT-Ren: (45840, 51)\n",
      "232. IT-SR2: (26280, 51)\n",
      "233. IT-Tor: (51048, 51)\n",
      "RU-Fy2 has less than 1 year of remaining sequences\n",
      "235. RU-Fyo: (47208, 51)\n",
      "236. SE-Deg: (49608, 51)\n",
      "237. SE-Htm: (8760, 51)\n",
      "238. SE-Nor: (16992, 51)\n",
      "  Column(s) with only NAN: ['b6']\n",
      "239. SE-Ros: (12648, 51)\n",
      "SE-Svb has too many gaps, missing % = 0.22762951334379905\n",
      "241. DE-Hte: (41664, 51)\n",
      "242. NL-Loo: (47496, 51)\n",
      "243. SE-Lnn: (15840, 51)\n",
      "Initial records: 4577688, Final records after resampling + gap-filling: 4577688\n",
      "Total retained sites: 128/234 = 0.55\n",
      "Missing values after site-level imputation: 0\n",
      "Not imputing missing values at global level\n",
      "Missing values after global-level imputation: 0\n",
      "Data size after after merged with site metadata: (4577688, 57)\n",
      "Data size after after merged with monthly data: (4577688, 76)\n"
     ]
    }
   ],
   "source": [
    "prep_hourly = PrepareAllSitesHourly(site_metadata_filename, monthly_data_filename, \n",
    "                                    hourly_features, metadata_features, target_variable, raw_data_dir,\n",
    "                                    msc_features=msc_features, precip_sum_features=precip_sum_features)\n",
    "\n",
    "data_df = prep_hourly.all_sites_all_sources(imp_cols, resample, impute, impute_method, impute_global,\n",
    "                                            k, weights, n_fit, time_col, duration, start_date, end_date, missing_thresh, c)"
   ]
  },
  {
   "cell_type": "code",
   "execution_count": 9,
   "id": "f7e3140a-9132-4e8f-8239-b4703cbb7a27",
   "metadata": {
    "tags": []
   },
   "outputs": [],
   "source": [
    "# Drop year column\n",
    "data_df.drop('year', axis=1, inplace=True)"
   ]
  },
  {
   "cell_type": "code",
   "execution_count": 10,
   "id": "h6UwtFm1gCwJ",
   "metadata": {
    "id": "h6UwtFm1gCwJ",
    "tags": []
   },
   "outputs": [],
   "source": [
    "if data_df.isna().sum().sum() != 0:\n",
    "  display(data_df[data_df.isna().any(axis=1)].groupby(['site_id', 'year', 'month']).count())\n",
    "  display(pd.DataFrame(data_df.isna().sum()).T)"
   ]
  },
  {
   "cell_type": "code",
   "execution_count": 11,
   "id": "6ced7ba7",
   "metadata": {
    "colab": {
     "base_uri": "https://localhost:8080/"
    },
    "executionInfo": {
     "elapsed": 16,
     "status": "ok",
     "timestamp": 1678522380446,
     "user": {
      "displayName": "M C",
      "userId": "04433644267338205634"
     },
     "user_tz": 480
    },
    "id": "6ced7ba7",
    "outputId": "318b4257-2bf1-4667-b244-509b19206a02",
    "tags": []
   },
   "outputs": [
    {
     "name": "stdout",
     "output_type": "stream",
     "text": [
      "The dataframe uses 2.78 GB of memory.\n"
     ]
    }
   ],
   "source": [
    "# Get the memory usage of the dataframe in bytes\n",
    "memory_usage = data_df.memory_usage().sum()\n",
    "memory_usage_gb = memory_usage / 1_000_000_000\n",
    "print(f\"The dataframe uses {memory_usage_gb:.2f} GB of memory.\")"
   ]
  },
  {
   "cell_type": "markdown",
   "id": "qIgEoFtJeRUC",
   "metadata": {
    "id": "qIgEoFtJeRUC"
   },
   "source": [
    "### Checkpoint: Save full raw data"
   ]
  },
  {
   "cell_type": "code",
   "execution_count": 12,
   "id": "BS5VAxTAd_O1",
   "metadata": {
    "executionInfo": {
     "elapsed": 9,
     "status": "ok",
     "timestamp": 1678533156941,
     "user": {
      "displayName": "Mary Chau",
      "userId": "14027067063095206122"
     },
     "user_tz": 480
    },
    "id": "BS5VAxTAd_O1",
    "tags": []
   },
   "outputs": [
    {
     "name": "stdout",
     "output_type": "stream",
     "text": [
      "File uploaded to all-sites-data/rfr-full_2010_2015_v_mvp-v2-knn_raw.parquet\n"
     ]
    }
   ],
   "source": [
    "# Upload data_df checkpoint to Azure Storage Blob\n",
    "# ref: https://stackoverflow.com/a/54666079\n",
    "data_cleanup_checkpoint = True\n",
    "\n",
    "if data_cleanup_checkpoint:\n",
    "    parquet_file = BytesIO()\n",
    "    data_df.to_parquet(parquet_file, engine='pyarrow')\n",
    "    parquet_file.seek(0)\n",
    "\n",
    "    azStorageClient = AzStorageClient(az_cred_file)\n",
    "    azStorageClient.uploadBlob(container, blob_name, parquet_file, overwrite=True)"
   ]
  },
  {
   "cell_type": "markdown",
   "id": "d9218bfb-d6f9-4c1f-9c71-fc039502264d",
   "metadata": {},
   "source": [
    "## Load from Checkpoint"
   ]
  },
  {
   "cell_type": "code",
   "execution_count": 13,
   "id": "r-33pSJElODS",
   "metadata": {
    "colab": {
     "base_uri": "https://localhost:8080/"
    },
    "executionInfo": {
     "elapsed": 2361,
     "status": "ok",
     "timestamp": 1678533338302,
     "user": {
      "displayName": "Mary Chau",
      "userId": "14027067063095206122"
     },
     "user_tz": 480
    },
    "id": "r-33pSJElODS",
    "outputId": "f5e1de70-8b92-4eae-f196-600d5ca38cb2",
    "tags": []
   },
   "outputs": [],
   "source": [
    "# (Optional) Load data_df from Azure checkpoint\n",
    "load_data_checkpoint = False\n",
    "\n",
    "if load_data_checkpoint:\n",
    "    data_df = None\n",
    "    local_file = tmp_dir + os.sep + blob_name \n",
    "    if not (os.path.exists(local_file)): # <--- when would this ever be true?\n",
    "        azStorageClient = AzStorageClient(az_cred_file)\n",
    "        file_stream = azStorageClient.downloadBlob2Stream(container, blob_name)\n",
    "        data_df = pd.read_parquet(file_stream, engine='pyarrow')\n",
    "        data_df.to_parquet(local_file)\n",
    "    else:\n",
    "        data_df = pd.read_parquet(local_file)\n",
    "\n",
    "    print(f\"Data size: {data_df.shape}\")"
   ]
  },
  {
   "cell_type": "markdown",
   "id": "sye3PgjxW5t6",
   "metadata": {
    "id": "sye3PgjxW5t6"
   },
   "source": [
    "## Load Train/Val/Test Split"
   ]
  },
  {
   "cell_type": "code",
   "execution_count": 14,
   "id": "137ea851",
   "metadata": {
    "tags": []
   },
   "outputs": [
    {
     "name": "stdout",
     "output_type": "stream",
     "text": [
      "# train/val/test sites: 78/26/25\n",
      "% train/val/test sites: 0.605/0.202/0.194\n"
     ]
    }
   ],
   "source": [
    "# Load split dict from preprocessing/stratified-splits.ipynb\n",
    "split_dict = joblib.load(split_dict_filename)\n",
    "\n",
    "# Assign folds to train-val-test splits (for MVP)\n",
    "train_folds = [x for x in range(1, split_dict['NUM_FOLDS']+1) if (x != split_dict['VAL_INDEX']) & (x != split_dict['TEST_INDEX'])]\n",
    "train_sites = [z for x in train_folds for z in split_dict[f\"fold_{x}\"] ]\n",
    "val_sites = split_dict[f\"fold_{split_dict['VAL_INDEX']}\"]\n",
    "test_sites = split_dict[f\"fold_{split_dict['TEST_INDEX']}\"]\n",
    "\n",
    "total_sites = len(train_sites) + len(val_sites) + len(test_sites)\n",
    "print(f\"# train/val/test sites: {len(train_sites)}/{len(val_sites)}/{len(test_sites)}\")\n",
    "print(f\"% train/val/test sites: {len(train_sites)/total_sites:.3f}/{len(val_sites)/total_sites:.3f}/{len(test_sites)/total_sites:.3f}\")"
   ]
  },
  {
   "cell_type": "markdown",
   "id": "4c6b7616",
   "metadata": {},
   "source": [
    "## Data Transformation"
   ]
  },
  {
   "cell_type": "code",
   "execution_count": 15,
   "id": "e06ee39d",
   "metadata": {
    "tags": []
   },
   "outputs": [
    {
     "name": "stdout",
     "output_type": "stream",
     "text": [
      "Data size: (4577688, 74).\n"
     ]
    }
   ],
   "source": [
    "raw_data_file_path = None\n",
    "model_name = 'rfr-mvp-v2'\n",
    "data_transformer = TFTDataTransformer(train_sites, val_sites, test_sites, model_name, raw_data_file_path, data_df, preproc_objects_dir)"
   ]
  },
  {
   "cell_type": "code",
   "execution_count": 16,
   "id": "f250a597",
   "metadata": {
    "tags": []
   },
   "outputs": [
    {
     "name": "stdout",
     "output_type": "stream",
     "text": [
      "Data size: (4577688, 74).\n",
      "Data size after encoding: (4577688, 102)\n",
      "Number of sites in df: 128\n",
      "Train Sites: ['AR-SLu' 'AR-Vir' 'AT-Neu' 'AU-ASM' 'AU-Cum' 'AU-DaS' 'AU-RDF' 'AU-TTE'\n",
      " 'AU-Wom' 'BE-Bra' 'BE-Dor' 'BE-Lon' 'BE-Vie' 'CA-Ca2' 'CA-Ca3' 'CA-Cbo'\n",
      " 'CA-TP1' 'CA-TP3' 'CA-TP4' 'CA-TPD' 'CH-Cha' 'CH-Lae' 'CN-Sw2' 'CZ-BK1'\n",
      " 'CZ-BK2' 'CZ-KrP' 'CZ-RAJ' 'CZ-Stn' 'DE-Geb' 'DE-HoH' 'DE-Hte' 'DE-Kli'\n",
      " 'DE-Obe' 'DE-RuR' 'DE-SfN' 'DE-Spw' 'ES-LJu' 'ES-LM2' 'FI-Let' 'FR-Fon'\n",
      " 'FR-Lam' 'FR-Pue' 'IL-Yat' 'IT-CA1' 'IT-CA3' 'IT-Lav' 'IT-Noe' 'IT-Ro2'\n",
      " 'IT-SRo' 'IT-Tor' 'NL-Hor' 'SE-Htm' 'SE-Lnn' 'SE-Ros' 'US-AR2' 'US-ARM'\n",
      " 'US-CRT' 'US-Fmf' 'US-IB2' 'US-KFS' 'US-Me6' 'US-Myb' 'US-Prr' 'US-Ro1'\n",
      " 'US-Rws' 'US-SRG' 'US-SRM' 'US-Syv' 'US-Tw4' 'US-UMB' 'US-UMd' 'US-Vcm'\n",
      " 'US-Vcp' 'US-WCr' 'US-WPT' 'US-Wjs' 'US-Wkg']\n",
      "Val Sites: ['AU-DaP' 'AU-Emr' 'AU-Gin' 'AU-How' 'AU-Rig' 'CA-Ca1' 'CA-Gro' 'CH-Fru'\n",
      " 'CH-Oe2' 'DE-Hai' 'DK-Sor' 'FI-Hyy' 'FR-Aur' 'FR-Hes' 'GF-Guy' 'IT-SR2'\n",
      " 'NL-Loo' 'SE-Deg' 'SE-Nor' 'US-AR1' 'US-Bar' 'US-GLE' 'US-Mpj' 'US-NR1'\n",
      " 'US-Ses' 'US-Twt']\n",
      "Test Sites: ['AU-Stp' 'AU-Whr' 'CA-Oas' 'CH-Dav' 'CZ-Lnz' 'CZ-wet' 'DE-Gri' 'DE-Lnf'\n",
      " 'DE-Tha' 'ES-Amo' 'ES-LM1' 'FI-Sod' 'FR-Bil' 'FR-FBn' 'IT-BCi' 'IT-CA2'\n",
      " 'IT-MBo' 'IT-Ren' 'RU-Fyo' 'US-Ho1' 'US-Oho' 'US-Seg' 'US-Ton' 'US-Var'\n",
      " 'US-Whs']\n",
      "Normalizing real features (53)\n",
      "Train data size: (2636448, 102).\n",
      "Val data size: (1001184, 102).\n",
      "Test data size: (940056, 102).\n",
      "\n",
      "Train data peak:\n"
     ]
    },
    {
     "data": {
      "text/html": [
       "<div>\n",
       "<style scoped>\n",
       "    .dataframe tbody tr th:only-of-type {\n",
       "        vertical-align: middle;\n",
       "    }\n",
       "\n",
       "    .dataframe tbody tr th {\n",
       "        vertical-align: top;\n",
       "    }\n",
       "\n",
       "    .dataframe thead th {\n",
       "        text-align: right;\n",
       "    }\n",
       "</style>\n",
       "<table border=\"1\" class=\"dataframe\">\n",
       "  <thead>\n",
       "    <tr style=\"text-align: right;\">\n",
       "      <th></th>\n",
       "      <th>GPP_NT_VUT_REF</th>\n",
       "      <th>site_id</th>\n",
       "      <th>timestep_idx_local</th>\n",
       "      <th>timestep_idx_global</th>\n",
       "      <th>datetime</th>\n",
       "      <th>index</th>\n",
       "      <th>TA_ERA</th>\n",
       "      <th>SW_IN_ERA</th>\n",
       "      <th>LW_IN_ERA</th>\n",
       "      <th>VPD_ERA</th>\n",
       "      <th>P_ERA</th>\n",
       "      <th>PA_ERA</th>\n",
       "      <th>EVI</th>\n",
       "      <th>NDVI</th>\n",
       "      <th>NIRv</th>\n",
       "      <th>b1</th>\n",
       "      <th>b2</th>\n",
       "      <th>b3</th>\n",
       "      <th>b4</th>\n",
       "      <th>b5</th>\n",
       "      <th>b6</th>\n",
       "      <th>b7</th>\n",
       "      <th>TA_ERA_szn_mean</th>\n",
       "      <th>TA_ERA_amp_msc</th>\n",
       "      <th>TA_ERA_min_msc</th>\n",
       "      <th>SW_IN_ERA_szn_mean</th>\n",
       "      <th>SW_IN_ERA_amp_msc</th>\n",
       "      <th>SW_IN_ERA_min_msc</th>\n",
       "      <th>P_ERA_szn_mean</th>\n",
       "      <th>P_ERA_amp_msc</th>\n",
       "      <th>P_ERA_min_msc</th>\n",
       "      <th>EVI_szn_mean</th>\n",
       "      <th>EVI_amp_msc</th>\n",
       "      <th>EVI_min_msc</th>\n",
       "      <th>NDVI_szn_mean</th>\n",
       "      <th>NDVI_amp_msc</th>\n",
       "      <th>NDVI_min_msc</th>\n",
       "      <th>NIRv_szn_mean</th>\n",
       "      <th>NIRv_amp_msc</th>\n",
       "      <th>NIRv_min_msc</th>\n",
       "      <th>b4_szn_mean</th>\n",
       "      <th>b4_amp_msc</th>\n",
       "      <th>b4_min_msc</th>\n",
       "      <th>prcp_week_sum</th>\n",
       "      <th>prcp_month_sum</th>\n",
       "      <th>c4_percent</th>\n",
       "      <th>BESS-PAR</th>\n",
       "      <th>BESS-PARdiff</th>\n",
       "      <th>BESS-RSDN</th>\n",
       "      <th>CSIF-SIFdaily</th>\n",
       "      <th>PET</th>\n",
       "      <th>Ts</th>\n",
       "      <th>prcp</th>\n",
       "      <th>prcp-lag3</th>\n",
       "      <th>ESACCI-sm</th>\n",
       "      <th>NDWI</th>\n",
       "      <th>Percent_Snow</th>\n",
       "      <th>Fpar</th>\n",
       "      <th>Lai</th>\n",
       "      <th>LST_Day</th>\n",
       "      <th>LST_Night</th>\n",
       "      <th>gap_flag_hour</th>\n",
       "      <th>gap_flag_month</th>\n",
       "      <th>koppen_sub</th>\n",
       "      <th>koppen_main</th>\n",
       "      <th>month</th>\n",
       "      <th>day</th>\n",
       "      <th>hour</th>\n",
       "      <th>MODIS_LC</th>\n",
       "      <th>c3c4_C3</th>\n",
       "      <th>c3c4_C4</th>\n",
       "      <th>c3c4_mix</th>\n",
       "      <th>c3c4_rotation</th>\n",
       "      <th>c3c4_unknown</th>\n",
       "      <th>MODIS_PFT_CRO</th>\n",
       "      <th>MODIS_PFT_DBF</th>\n",
       "      <th>MODIS_PFT_EBF</th>\n",
       "      <th>MODIS_PFT_ENF</th>\n",
       "      <th>MODIS_PFT_GRA</th>\n",
       "      <th>MODIS_PFT_MF</th>\n",
       "      <th>MODIS_PFT_Other</th>\n",
       "      <th>MODIS_PFT_SA</th>\n",
       "      <th>MODIS_PFT_SH</th>\n",
       "      <th>MODIS_IGBP_CRO</th>\n",
       "      <th>MODIS_IGBP_CSH</th>\n",
       "      <th>MODIS_IGBP_DBF</th>\n",
       "      <th>MODIS_IGBP_EBF</th>\n",
       "      <th>MODIS_IGBP_ENF</th>\n",
       "      <th>MODIS_IGBP_GRA</th>\n",
       "      <th>MODIS_IGBP_MF</th>\n",
       "      <th>MODIS_IGBP_OSH</th>\n",
       "      <th>MODIS_IGBP_SAV</th>\n",
       "      <th>MODIS_IGBP_URB</th>\n",
       "      <th>MODIS_IGBP_WAT</th>\n",
       "      <th>MODIS_IGBP_WET</th>\n",
       "      <th>MODIS_IGBP_WSA</th>\n",
       "      <th>hemisphere_NS_North</th>\n",
       "      <th>hemisphere_NS_South</th>\n",
       "      <th>lat_band_lat_band_2</th>\n",
       "      <th>lat_band_lat_band_3</th>\n",
       "      <th>lat_band_lat_band_4</th>\n",
       "      <th>lat_band_lat_band_5</th>\n",
       "    </tr>\n",
       "  </thead>\n",
       "  <tbody>\n",
       "    <tr>\n",
       "      <th>0</th>\n",
       "      <td>-0.13057</td>\n",
       "      <td>AR-SLu</td>\n",
       "      <td>0</td>\n",
       "      <td>350640</td>\n",
       "      <td>2010-01-01 00:00:00</td>\n",
       "      <td>0</td>\n",
       "      <td>1.29671</td>\n",
       "      <td>-0.67229</td>\n",
       "      <td>0.81718</td>\n",
       "      <td>0.32487</td>\n",
       "      <td>1.19668</td>\n",
       "      <td>0.00966</td>\n",
       "      <td>-0.09524</td>\n",
       "      <td>-0.02366</td>\n",
       "      <td>-0.24887</td>\n",
       "      <td>-0.24622</td>\n",
       "      <td>-0.43414</td>\n",
       "      <td>-0.24800</td>\n",
       "      <td>-0.22049</td>\n",
       "      <td>0.36961</td>\n",
       "      <td>0.73076</td>\n",
       "      <td>0.23363</td>\n",
       "      <td>1.85332</td>\n",
       "      <td>-0.38903</td>\n",
       "      <td>1.28096</td>\n",
       "      <td>1.67357</td>\n",
       "      <td>-1.03735</td>\n",
       "      <td>1.68537</td>\n",
       "      <td>-0.38324</td>\n",
       "      <td>0.20090</td>\n",
       "      <td>-1.57409</td>\n",
       "      <td>-0.44657</td>\n",
       "      <td>-1.03190</td>\n",
       "      <td>-0.25913</td>\n",
       "      <td>-0.39280</td>\n",
       "      <td>-1.16402</td>\n",
       "      <td>0.11314</td>\n",
       "      <td>-0.51490</td>\n",
       "      <td>-1.20482</td>\n",
       "      <td>-0.31786</td>\n",
       "      <td>-0.19059</td>\n",
       "      <td>-0.67987</td>\n",
       "      <td>0.05636</td>\n",
       "      <td>0.32100</td>\n",
       "      <td>0.32100</td>\n",
       "      <td>2.36922</td>\n",
       "      <td>2.00473</td>\n",
       "      <td>0.64667</td>\n",
       "      <td>1.96634</td>\n",
       "      <td>0.40973</td>\n",
       "      <td>-1.07532</td>\n",
       "      <td>1.76888</td>\n",
       "      <td>-0.11856</td>\n",
       "      <td>0.41520</td>\n",
       "      <td>-1.54625</td>\n",
       "      <td>-0.56224</td>\n",
       "      <td>-0.44318</td>\n",
       "      <td>0.13015</td>\n",
       "      <td>-0.11490</td>\n",
       "      <td>1.69276</td>\n",
       "      <td>1.73080</td>\n",
       "      <td>0</td>\n",
       "      <td>0.00000</td>\n",
       "      <td>7</td>\n",
       "      <td>2</td>\n",
       "      <td>1.00000</td>\n",
       "      <td>1.00000</td>\n",
       "      <td>0.00000</td>\n",
       "      <td>7</td>\n",
       "      <td>1</td>\n",
       "      <td>0</td>\n",
       "      <td>0</td>\n",
       "      <td>0</td>\n",
       "      <td>0</td>\n",
       "      <td>0</td>\n",
       "      <td>0</td>\n",
       "      <td>0</td>\n",
       "      <td>0</td>\n",
       "      <td>0</td>\n",
       "      <td>0</td>\n",
       "      <td>0</td>\n",
       "      <td>0</td>\n",
       "      <td>1</td>\n",
       "      <td>0</td>\n",
       "      <td>0</td>\n",
       "      <td>0</td>\n",
       "      <td>0</td>\n",
       "      <td>0</td>\n",
       "      <td>0</td>\n",
       "      <td>0</td>\n",
       "      <td>1</td>\n",
       "      <td>0</td>\n",
       "      <td>0</td>\n",
       "      <td>0</td>\n",
       "      <td>0</td>\n",
       "      <td>0</td>\n",
       "      <td>0</td>\n",
       "      <td>1</td>\n",
       "      <td>1</td>\n",
       "      <td>0</td>\n",
       "      <td>0</td>\n",
       "      <td>0</td>\n",
       "    </tr>\n",
       "    <tr>\n",
       "      <th>1</th>\n",
       "      <td>-0.66336</td>\n",
       "      <td>AR-SLu</td>\n",
       "      <td>1</td>\n",
       "      <td>350641</td>\n",
       "      <td>2010-01-01 01:00:00</td>\n",
       "      <td>1</td>\n",
       "      <td>1.25024</td>\n",
       "      <td>-0.67229</td>\n",
       "      <td>0.81718</td>\n",
       "      <td>0.23047</td>\n",
       "      <td>-0.22990</td>\n",
       "      <td>0.01066</td>\n",
       "      <td>-0.09524</td>\n",
       "      <td>-0.02366</td>\n",
       "      <td>-0.24887</td>\n",
       "      <td>-0.24622</td>\n",
       "      <td>-0.43414</td>\n",
       "      <td>-0.24800</td>\n",
       "      <td>-0.22049</td>\n",
       "      <td>0.36961</td>\n",
       "      <td>0.73076</td>\n",
       "      <td>0.23363</td>\n",
       "      <td>1.85332</td>\n",
       "      <td>-0.38903</td>\n",
       "      <td>1.28096</td>\n",
       "      <td>1.67357</td>\n",
       "      <td>-1.03735</td>\n",
       "      <td>1.68537</td>\n",
       "      <td>-0.38324</td>\n",
       "      <td>0.20090</td>\n",
       "      <td>-1.57409</td>\n",
       "      <td>-0.44657</td>\n",
       "      <td>-1.03190</td>\n",
       "      <td>-0.25913</td>\n",
       "      <td>-0.39280</td>\n",
       "      <td>-1.16402</td>\n",
       "      <td>0.11314</td>\n",
       "      <td>-0.51490</td>\n",
       "      <td>-1.20482</td>\n",
       "      <td>-0.31786</td>\n",
       "      <td>-0.19059</td>\n",
       "      <td>-0.67987</td>\n",
       "      <td>0.05636</td>\n",
       "      <td>0.32100</td>\n",
       "      <td>0.32100</td>\n",
       "      <td>2.36922</td>\n",
       "      <td>2.00473</td>\n",
       "      <td>0.64667</td>\n",
       "      <td>1.96634</td>\n",
       "      <td>0.40973</td>\n",
       "      <td>-1.07532</td>\n",
       "      <td>1.76888</td>\n",
       "      <td>-0.11856</td>\n",
       "      <td>0.41520</td>\n",
       "      <td>-1.54625</td>\n",
       "      <td>-0.56224</td>\n",
       "      <td>-0.44318</td>\n",
       "      <td>0.13015</td>\n",
       "      <td>-0.11490</td>\n",
       "      <td>1.69276</td>\n",
       "      <td>1.73080</td>\n",
       "      <td>0</td>\n",
       "      <td>0.00000</td>\n",
       "      <td>7</td>\n",
       "      <td>2</td>\n",
       "      <td>1.00000</td>\n",
       "      <td>1.00000</td>\n",
       "      <td>1.00000</td>\n",
       "      <td>7</td>\n",
       "      <td>1</td>\n",
       "      <td>0</td>\n",
       "      <td>0</td>\n",
       "      <td>0</td>\n",
       "      <td>0</td>\n",
       "      <td>0</td>\n",
       "      <td>0</td>\n",
       "      <td>0</td>\n",
       "      <td>0</td>\n",
       "      <td>0</td>\n",
       "      <td>0</td>\n",
       "      <td>0</td>\n",
       "      <td>0</td>\n",
       "      <td>1</td>\n",
       "      <td>0</td>\n",
       "      <td>0</td>\n",
       "      <td>0</td>\n",
       "      <td>0</td>\n",
       "      <td>0</td>\n",
       "      <td>0</td>\n",
       "      <td>0</td>\n",
       "      <td>1</td>\n",
       "      <td>0</td>\n",
       "      <td>0</td>\n",
       "      <td>0</td>\n",
       "      <td>0</td>\n",
       "      <td>0</td>\n",
       "      <td>0</td>\n",
       "      <td>1</td>\n",
       "      <td>1</td>\n",
       "      <td>0</td>\n",
       "      <td>0</td>\n",
       "      <td>0</td>\n",
       "    </tr>\n",
       "  </tbody>\n",
       "</table>\n",
       "</div>"
      ],
      "text/plain": [
       "   GPP_NT_VUT_REF site_id  timestep_idx_local  timestep_idx_global  \\\n",
       "0        -0.13057  AR-SLu                   0               350640   \n",
       "1        -0.66336  AR-SLu                   1               350641   \n",
       "\n",
       "             datetime  index  TA_ERA  SW_IN_ERA  LW_IN_ERA  VPD_ERA    P_ERA  \\\n",
       "0 2010-01-01 00:00:00      0 1.29671   -0.67229    0.81718  0.32487  1.19668   \n",
       "1 2010-01-01 01:00:00      1 1.25024   -0.67229    0.81718  0.23047 -0.22990   \n",
       "\n",
       "   PA_ERA      EVI     NDVI     NIRv       b1       b2       b3       b4  \\\n",
       "0 0.00966 -0.09524 -0.02366 -0.24887 -0.24622 -0.43414 -0.24800 -0.22049   \n",
       "1 0.01066 -0.09524 -0.02366 -0.24887 -0.24622 -0.43414 -0.24800 -0.22049   \n",
       "\n",
       "       b5      b6      b7  TA_ERA_szn_mean  TA_ERA_amp_msc  TA_ERA_min_msc  \\\n",
       "0 0.36961 0.73076 0.23363          1.85332        -0.38903         1.28096   \n",
       "1 0.36961 0.73076 0.23363          1.85332        -0.38903         1.28096   \n",
       "\n",
       "   SW_IN_ERA_szn_mean  SW_IN_ERA_amp_msc  SW_IN_ERA_min_msc  P_ERA_szn_mean  \\\n",
       "0             1.67357           -1.03735            1.68537        -0.38324   \n",
       "1             1.67357           -1.03735            1.68537        -0.38324   \n",
       "\n",
       "   P_ERA_amp_msc  P_ERA_min_msc  EVI_szn_mean  EVI_amp_msc  EVI_min_msc  \\\n",
       "0        0.20090       -1.57409      -0.44657     -1.03190     -0.25913   \n",
       "1        0.20090       -1.57409      -0.44657     -1.03190     -0.25913   \n",
       "\n",
       "   NDVI_szn_mean  NDVI_amp_msc  NDVI_min_msc  NIRv_szn_mean  NIRv_amp_msc  \\\n",
       "0       -0.39280      -1.16402       0.11314       -0.51490      -1.20482   \n",
       "1       -0.39280      -1.16402       0.11314       -0.51490      -1.20482   \n",
       "\n",
       "   NIRv_min_msc  b4_szn_mean  b4_amp_msc  b4_min_msc  prcp_week_sum  \\\n",
       "0      -0.31786     -0.19059    -0.67987     0.05636        0.32100   \n",
       "1      -0.31786     -0.19059    -0.67987     0.05636        0.32100   \n",
       "\n",
       "   prcp_month_sum  c4_percent  BESS-PAR  BESS-PARdiff  BESS-RSDN  \\\n",
       "0         0.32100     2.36922   2.00473       0.64667    1.96634   \n",
       "1         0.32100     2.36922   2.00473       0.64667    1.96634   \n",
       "\n",
       "   CSIF-SIFdaily      PET      Ts     prcp  prcp-lag3  ESACCI-sm     NDWI  \\\n",
       "0        0.40973 -1.07532 1.76888 -0.11856    0.41520   -1.54625 -0.56224   \n",
       "1        0.40973 -1.07532 1.76888 -0.11856    0.41520   -1.54625 -0.56224   \n",
       "\n",
       "   Percent_Snow    Fpar      Lai  LST_Day  LST_Night  gap_flag_hour  \\\n",
       "0      -0.44318 0.13015 -0.11490  1.69276    1.73080              0   \n",
       "1      -0.44318 0.13015 -0.11490  1.69276    1.73080              0   \n",
       "\n",
       "   gap_flag_month  koppen_sub  koppen_main   month     day    hour  MODIS_LC  \\\n",
       "0         0.00000           7            2 1.00000 1.00000 0.00000         7   \n",
       "1         0.00000           7            2 1.00000 1.00000 1.00000         7   \n",
       "\n",
       "   c3c4_C3  c3c4_C4  c3c4_mix  c3c4_rotation  c3c4_unknown  MODIS_PFT_CRO  \\\n",
       "0        1        0         0              0             0              0   \n",
       "1        1        0         0              0             0              0   \n",
       "\n",
       "   MODIS_PFT_DBF  MODIS_PFT_EBF  MODIS_PFT_ENF  MODIS_PFT_GRA  MODIS_PFT_MF  \\\n",
       "0              0              0              0              0             0   \n",
       "1              0              0              0              0             0   \n",
       "\n",
       "   MODIS_PFT_Other  MODIS_PFT_SA  MODIS_PFT_SH  MODIS_IGBP_CRO  \\\n",
       "0                0             0             1               0   \n",
       "1                0             0             1               0   \n",
       "\n",
       "   MODIS_IGBP_CSH  MODIS_IGBP_DBF  MODIS_IGBP_EBF  MODIS_IGBP_ENF  \\\n",
       "0               0               0               0               0   \n",
       "1               0               0               0               0   \n",
       "\n",
       "   MODIS_IGBP_GRA  MODIS_IGBP_MF  MODIS_IGBP_OSH  MODIS_IGBP_SAV  \\\n",
       "0               0              0               1               0   \n",
       "1               0              0               1               0   \n",
       "\n",
       "   MODIS_IGBP_URB  MODIS_IGBP_WAT  MODIS_IGBP_WET  MODIS_IGBP_WSA  \\\n",
       "0               0               0               0               0   \n",
       "1               0               0               0               0   \n",
       "\n",
       "   hemisphere_NS_North  hemisphere_NS_South  lat_band_lat_band_2  \\\n",
       "0                    0                    1                    1   \n",
       "1                    0                    1                    1   \n",
       "\n",
       "   lat_band_lat_band_3  lat_band_lat_band_4  lat_band_lat_band_5  \n",
       "0                    0                    0                    0  \n",
       "1                    0                    0                    0  "
      ]
     },
     "metadata": {},
     "output_type": "display_data"
    }
   ],
   "source": [
    "categorical_cols = ['c3c4', 'koppen_sub', 'koppen_main', 'month', 'day', 'hour', \n",
    "                    'MODIS_PFT', 'MODIS_LC', 'MODIS_IGBP', 'hemisphere_NS', 'lat_band']\n",
    "realNum_cols = ['TA_ERA', 'SW_IN_ERA', 'LW_IN_ERA', 'VPD_ERA', 'P_ERA', 'PA_ERA', \n",
    "                'EVI', 'NDVI', 'NIRv', 'b1', 'b2', 'b3', 'b4', 'b5', 'b6', 'b7',\n",
    "                'c4_percent', 'BESS-PAR', 'BESS-PARdiff', 'BESS-RSDN', 'CSIF-SIFdaily',\n",
    "                'PET', 'Ts', 'ESACCI-sm', 'NDWI', 'Percent_Snow', 'Fpar', 'Lai',\n",
    "                'LST_Day', 'LST_Night', 'prcp', 'prcp-lag3'] + \\\n",
    "                [f\"{feat}{ext}\" for feat in msc_features for ext in [\"_szn_mean\", \"_amp_msc\", \"_min_msc\"]]\n",
    "data_transformer.data_transform(categorical_cols, realNum_cols, cat_encode_type='dummy')\n",
    "\n",
    "print(\"\\nTrain data peak:\")\n",
    "display(data_transformer.train_df.head(2))"
   ]
  },
  {
   "cell_type": "code",
   "execution_count": 17,
   "id": "74a3d356",
   "metadata": {
    "tags": []
   },
   "outputs": [
    {
     "name": "stdout",
     "output_type": "stream",
     "text": [
      "Uploading train dataset to rfr-full_2010_2015-train-v-mvp-v2-knn.parquet...\n",
      "File uploaded to all-sites-data/rfr-full_2010_2015-train-v-mvp-v2-knn.parquet\n",
      "Uploading val dataset to rfr-full_2010_2015-val-v-mvp-v2-knn.parquet...\n",
      "File uploaded to all-sites-data/rfr-full_2010_2015-val-v-mvp-v2-knn.parquet\n",
      "Uploading test dataset to rfr-full_2010_2015-test-v-mvp-v2-knn.parquet...\n",
      "File uploaded to all-sites-data/rfr-full_2010_2015-test-v-mvp-v2-knn.parquet\n"
     ]
    }
   ],
   "source": [
    "final_checkpoint = True\n",
    "\n",
    "if final_checkpoint:\n",
    "    data_transformer.upload_train_test_to_azure(az_cred_file, container, train_blob_name, val_blob_name, test_blob_name)"
   ]
  },
  {
   "cell_type": "code",
   "execution_count": null,
   "id": "c6c2fabd",
   "metadata": {},
   "outputs": [],
   "source": []
  }
 ],
 "metadata": {
  "availableInstances": [
   {
    "_defaultOrder": 0,
    "_isFastLaunch": true,
    "category": "General purpose",
    "gpuNum": 0,
    "memoryGiB": 4,
    "name": "ml.t3.medium",
    "vcpuNum": 2
   },
   {
    "_defaultOrder": 1,
    "_isFastLaunch": false,
    "category": "General purpose",
    "gpuNum": 0,
    "memoryGiB": 8,
    "name": "ml.t3.large",
    "vcpuNum": 2
   },
   {
    "_defaultOrder": 2,
    "_isFastLaunch": false,
    "category": "General purpose",
    "gpuNum": 0,
    "memoryGiB": 16,
    "name": "ml.t3.xlarge",
    "vcpuNum": 4
   },
   {
    "_defaultOrder": 3,
    "_isFastLaunch": false,
    "category": "General purpose",
    "gpuNum": 0,
    "memoryGiB": 32,
    "name": "ml.t3.2xlarge",
    "vcpuNum": 8
   },
   {
    "_defaultOrder": 4,
    "_isFastLaunch": true,
    "category": "General purpose",
    "gpuNum": 0,
    "memoryGiB": 8,
    "name": "ml.m5.large",
    "vcpuNum": 2
   },
   {
    "_defaultOrder": 5,
    "_isFastLaunch": false,
    "category": "General purpose",
    "gpuNum": 0,
    "memoryGiB": 16,
    "name": "ml.m5.xlarge",
    "vcpuNum": 4
   },
   {
    "_defaultOrder": 6,
    "_isFastLaunch": false,
    "category": "General purpose",
    "gpuNum": 0,
    "memoryGiB": 32,
    "name": "ml.m5.2xlarge",
    "vcpuNum": 8
   },
   {
    "_defaultOrder": 7,
    "_isFastLaunch": false,
    "category": "General purpose",
    "gpuNum": 0,
    "memoryGiB": 64,
    "name": "ml.m5.4xlarge",
    "vcpuNum": 16
   },
   {
    "_defaultOrder": 8,
    "_isFastLaunch": false,
    "category": "General purpose",
    "gpuNum": 0,
    "memoryGiB": 128,
    "name": "ml.m5.8xlarge",
    "vcpuNum": 32
   },
   {
    "_defaultOrder": 9,
    "_isFastLaunch": false,
    "category": "General purpose",
    "gpuNum": 0,
    "memoryGiB": 192,
    "name": "ml.m5.12xlarge",
    "vcpuNum": 48
   },
   {
    "_defaultOrder": 10,
    "_isFastLaunch": false,
    "category": "General purpose",
    "gpuNum": 0,
    "memoryGiB": 256,
    "name": "ml.m5.16xlarge",
    "vcpuNum": 64
   },
   {
    "_defaultOrder": 11,
    "_isFastLaunch": false,
    "category": "General purpose",
    "gpuNum": 0,
    "memoryGiB": 384,
    "name": "ml.m5.24xlarge",
    "vcpuNum": 96
   },
   {
    "_defaultOrder": 12,
    "_isFastLaunch": false,
    "category": "General purpose",
    "gpuNum": 0,
    "memoryGiB": 8,
    "name": "ml.m5d.large",
    "vcpuNum": 2
   },
   {
    "_defaultOrder": 13,
    "_isFastLaunch": false,
    "category": "General purpose",
    "gpuNum": 0,
    "memoryGiB": 16,
    "name": "ml.m5d.xlarge",
    "vcpuNum": 4
   },
   {
    "_defaultOrder": 14,
    "_isFastLaunch": false,
    "category": "General purpose",
    "gpuNum": 0,
    "memoryGiB": 32,
    "name": "ml.m5d.2xlarge",
    "vcpuNum": 8
   },
   {
    "_defaultOrder": 15,
    "_isFastLaunch": false,
    "category": "General purpose",
    "gpuNum": 0,
    "memoryGiB": 64,
    "name": "ml.m5d.4xlarge",
    "vcpuNum": 16
   },
   {
    "_defaultOrder": 16,
    "_isFastLaunch": false,
    "category": "General purpose",
    "gpuNum": 0,
    "memoryGiB": 128,
    "name": "ml.m5d.8xlarge",
    "vcpuNum": 32
   },
   {
    "_defaultOrder": 17,
    "_isFastLaunch": false,
    "category": "General purpose",
    "gpuNum": 0,
    "memoryGiB": 192,
    "name": "ml.m5d.12xlarge",
    "vcpuNum": 48
   },
   {
    "_defaultOrder": 18,
    "_isFastLaunch": false,
    "category": "General purpose",
    "gpuNum": 0,
    "memoryGiB": 256,
    "name": "ml.m5d.16xlarge",
    "vcpuNum": 64
   },
   {
    "_defaultOrder": 19,
    "_isFastLaunch": false,
    "category": "General purpose",
    "gpuNum": 0,
    "memoryGiB": 384,
    "name": "ml.m5d.24xlarge",
    "vcpuNum": 96
   },
   {
    "_defaultOrder": 20,
    "_isFastLaunch": true,
    "category": "Compute optimized",
    "gpuNum": 0,
    "memoryGiB": 4,
    "name": "ml.c5.large",
    "vcpuNum": 2
   },
   {
    "_defaultOrder": 21,
    "_isFastLaunch": false,
    "category": "Compute optimized",
    "gpuNum": 0,
    "memoryGiB": 8,
    "name": "ml.c5.xlarge",
    "vcpuNum": 4
   },
   {
    "_defaultOrder": 22,
    "_isFastLaunch": false,
    "category": "Compute optimized",
    "gpuNum": 0,
    "memoryGiB": 16,
    "name": "ml.c5.2xlarge",
    "vcpuNum": 8
   },
   {
    "_defaultOrder": 23,
    "_isFastLaunch": false,
    "category": "Compute optimized",
    "gpuNum": 0,
    "memoryGiB": 32,
    "name": "ml.c5.4xlarge",
    "vcpuNum": 16
   },
   {
    "_defaultOrder": 24,
    "_isFastLaunch": false,
    "category": "Compute optimized",
    "gpuNum": 0,
    "memoryGiB": 72,
    "name": "ml.c5.9xlarge",
    "vcpuNum": 36
   },
   {
    "_defaultOrder": 25,
    "_isFastLaunch": false,
    "category": "Compute optimized",
    "gpuNum": 0,
    "memoryGiB": 96,
    "name": "ml.c5.12xlarge",
    "vcpuNum": 48
   },
   {
    "_defaultOrder": 26,
    "_isFastLaunch": false,
    "category": "Compute optimized",
    "gpuNum": 0,
    "memoryGiB": 144,
    "name": "ml.c5.18xlarge",
    "vcpuNum": 72
   },
   {
    "_defaultOrder": 27,
    "_isFastLaunch": false,
    "category": "Compute optimized",
    "gpuNum": 0,
    "memoryGiB": 192,
    "name": "ml.c5.24xlarge",
    "vcpuNum": 96
   },
   {
    "_defaultOrder": 28,
    "_isFastLaunch": true,
    "category": "Accelerated computing",
    "gpuNum": 1,
    "memoryGiB": 16,
    "name": "ml.g4dn.xlarge",
    "vcpuNum": 4
   },
   {
    "_defaultOrder": 29,
    "_isFastLaunch": false,
    "category": "Accelerated computing",
    "gpuNum": 1,
    "memoryGiB": 32,
    "name": "ml.g4dn.2xlarge",
    "vcpuNum": 8
   },
   {
    "_defaultOrder": 30,
    "_isFastLaunch": false,
    "category": "Accelerated computing",
    "gpuNum": 1,
    "memoryGiB": 64,
    "name": "ml.g4dn.4xlarge",
    "vcpuNum": 16
   },
   {
    "_defaultOrder": 31,
    "_isFastLaunch": false,
    "category": "Accelerated computing",
    "gpuNum": 1,
    "memoryGiB": 128,
    "name": "ml.g4dn.8xlarge",
    "vcpuNum": 32
   },
   {
    "_defaultOrder": 32,
    "_isFastLaunch": false,
    "category": "Accelerated computing",
    "gpuNum": 4,
    "memoryGiB": 192,
    "name": "ml.g4dn.12xlarge",
    "vcpuNum": 48
   },
   {
    "_defaultOrder": 33,
    "_isFastLaunch": false,
    "category": "Accelerated computing",
    "gpuNum": 1,
    "memoryGiB": 256,
    "name": "ml.g4dn.16xlarge",
    "vcpuNum": 64
   },
   {
    "_defaultOrder": 34,
    "_isFastLaunch": false,
    "category": "Accelerated computing",
    "gpuNum": 1,
    "memoryGiB": 61,
    "name": "ml.p3.2xlarge",
    "vcpuNum": 8
   },
   {
    "_defaultOrder": 35,
    "_isFastLaunch": false,
    "category": "Accelerated computing",
    "gpuNum": 4,
    "memoryGiB": 244,
    "name": "ml.p3.8xlarge",
    "vcpuNum": 32
   },
   {
    "_defaultOrder": 36,
    "_isFastLaunch": false,
    "category": "Accelerated computing",
    "gpuNum": 8,
    "memoryGiB": 488,
    "name": "ml.p3.16xlarge",
    "vcpuNum": 64
   },
   {
    "_defaultOrder": 37,
    "_isFastLaunch": false,
    "category": "Accelerated computing",
    "gpuNum": 8,
    "memoryGiB": 768,
    "name": "ml.p3dn.24xlarge",
    "vcpuNum": 96
   },
   {
    "_defaultOrder": 38,
    "_isFastLaunch": false,
    "category": "Memory Optimized",
    "gpuNum": 0,
    "memoryGiB": 16,
    "name": "ml.r5.large",
    "vcpuNum": 2
   },
   {
    "_defaultOrder": 39,
    "_isFastLaunch": false,
    "category": "Memory Optimized",
    "gpuNum": 0,
    "memoryGiB": 32,
    "name": "ml.r5.xlarge",
    "vcpuNum": 4
   },
   {
    "_defaultOrder": 40,
    "_isFastLaunch": false,
    "category": "Memory Optimized",
    "gpuNum": 0,
    "memoryGiB": 64,
    "name": "ml.r5.2xlarge",
    "vcpuNum": 8
   },
   {
    "_defaultOrder": 41,
    "_isFastLaunch": false,
    "category": "Memory Optimized",
    "gpuNum": 0,
    "memoryGiB": 128,
    "name": "ml.r5.4xlarge",
    "vcpuNum": 16
   },
   {
    "_defaultOrder": 42,
    "_isFastLaunch": false,
    "category": "Memory Optimized",
    "gpuNum": 0,
    "memoryGiB": 256,
    "name": "ml.r5.8xlarge",
    "vcpuNum": 32
   },
   {
    "_defaultOrder": 43,
    "_isFastLaunch": false,
    "category": "Memory Optimized",
    "gpuNum": 0,
    "memoryGiB": 384,
    "name": "ml.r5.12xlarge",
    "vcpuNum": 48
   },
   {
    "_defaultOrder": 44,
    "_isFastLaunch": false,
    "category": "Memory Optimized",
    "gpuNum": 0,
    "memoryGiB": 512,
    "name": "ml.r5.16xlarge",
    "vcpuNum": 64
   },
   {
    "_defaultOrder": 45,
    "_isFastLaunch": false,
    "category": "Memory Optimized",
    "gpuNum": 0,
    "memoryGiB": 768,
    "name": "ml.r5.24xlarge",
    "vcpuNum": 96
   },
   {
    "_defaultOrder": 46,
    "_isFastLaunch": false,
    "category": "Accelerated computing",
    "gpuNum": 1,
    "memoryGiB": 16,
    "name": "ml.g5.xlarge",
    "vcpuNum": 4
   },
   {
    "_defaultOrder": 47,
    "_isFastLaunch": false,
    "category": "Accelerated computing",
    "gpuNum": 1,
    "memoryGiB": 32,
    "name": "ml.g5.2xlarge",
    "vcpuNum": 8
   },
   {
    "_defaultOrder": 48,
    "_isFastLaunch": false,
    "category": "Accelerated computing",
    "gpuNum": 1,
    "memoryGiB": 64,
    "name": "ml.g5.4xlarge",
    "vcpuNum": 16
   },
   {
    "_defaultOrder": 49,
    "_isFastLaunch": false,
    "category": "Accelerated computing",
    "gpuNum": 1,
    "memoryGiB": 128,
    "name": "ml.g5.8xlarge",
    "vcpuNum": 32
   },
   {
    "_defaultOrder": 50,
    "_isFastLaunch": false,
    "category": "Accelerated computing",
    "gpuNum": 1,
    "memoryGiB": 256,
    "name": "ml.g5.16xlarge",
    "vcpuNum": 64
   },
   {
    "_defaultOrder": 51,
    "_isFastLaunch": false,
    "category": "Accelerated computing",
    "gpuNum": 4,
    "memoryGiB": 192,
    "name": "ml.g5.12xlarge",
    "vcpuNum": 48
   },
   {
    "_defaultOrder": 52,
    "_isFastLaunch": false,
    "category": "Accelerated computing",
    "gpuNum": 4,
    "memoryGiB": 384,
    "name": "ml.g5.24xlarge",
    "vcpuNum": 96
   },
   {
    "_defaultOrder": 53,
    "_isFastLaunch": false,
    "category": "Accelerated computing",
    "gpuNum": 8,
    "memoryGiB": 768,
    "name": "ml.g5.48xlarge",
    "vcpuNum": 192
   }
  ],
  "colab": {
   "collapsed_sections": [
    "OA1ZkEPP3zLz",
    "O4RveeAZ3qm8",
    "bIoy86rH4hRH"
   ],
   "machine_shape": "hm",
   "provenance": []
  },
  "gpuClass": "standard",
  "kernelspec": {
   "display_name": "Python [conda env:py310] (arn:aws:sagemaker:us-east-1:081325390199:image/datascience-1.0)",
   "language": "python",
   "name": "conda-env-py310-py__SAGEMAKER_INTERNAL__arn:aws:sagemaker:us-east-1:081325390199:image/datascience-1.0"
  },
  "language_info": {
   "codemirror_mode": {
    "name": "ipython",
    "version": 3
   },
   "file_extension": ".py",
   "mimetype": "text/x-python",
   "name": "python",
   "nbconvert_exporter": "python",
   "pygments_lexer": "ipython3",
   "version": "3.10.9"
  }
 },
 "nbformat": 4,
 "nbformat_minor": 5
}
