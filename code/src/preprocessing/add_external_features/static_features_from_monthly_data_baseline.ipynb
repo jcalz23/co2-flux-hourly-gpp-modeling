{
  "nbformat": 4,
  "nbformat_minor": 0,
  "metadata": {
    "colab": {
      "provenance": [],
      "collapsed_sections": [
        "RWvUT7uNnc23",
        "iGSjp7aQnovo",
        "_zX5Br5foU2X"
      ],
      "toc_visible": true
    },
    "kernelspec": {
      "name": "python3",
      "display_name": "Python 3"
    },
    "language_info": {
      "name": "python"
    },
    "gpuClass": "standard"
  },
  "cells": [
    {
      "cell_type": "markdown",
      "source": [
        "# Create static features from monthly data\n",
        "- Goal of the notebook\n",
        "  - Create df that contains static features in monthly data. This is used for baseline \n",
        "- Edited by Rumi Nakagawa\n",
        "- Spring 2023 Capstone\n"
      ],
      "metadata": {
        "id": "q5vxBYSHMC7q"
      }
    },
    {
      "cell_type": "markdown",
      "source": [
        "# 0. Preparation"
      ],
      "metadata": {
        "id": "CU5xMX4lMdOX"
      }
    },
    {
      "cell_type": "markdown",
      "source": [
        "## Mount google drive\n",
        "- Make sure that available access is the user's own drive(no access across files in shared folder)"
      ],
      "metadata": {
        "id": "tqqvjx_EMfQR"
      }
    },
    {
      "cell_type": "code",
      "source": [
        "from google.colab import drive\n",
        "drive.mount('/content/drive')"
      ],
      "metadata": {
        "colab": {
          "base_uri": "https://localhost:8080/"
        },
        "id": "2VY5heBv1X2o",
        "outputId": "fedb5f76-58d2-4812-f89d-a2b84eb168b2"
      },
      "execution_count": 320,
      "outputs": [
        {
          "output_type": "stream",
          "name": "stdout",
          "text": [
            "Drive already mounted at /content/drive; to attempt to forcibly remount, call drive.mount(\"/content/drive\", force_remount=True).\n"
          ]
        }
      ]
    },
    {
      "cell_type": "code",
      "source": [
        "%cd drive/MyDrive/"
      ],
      "metadata": {
        "colab": {
          "base_uri": "https://localhost:8080/"
        },
        "id": "qR1caCRf1Xq-",
        "outputId": "8d96eb88-4123-4077-da18-05869c29cf52"
      },
      "execution_count": 321,
      "outputs": [
        {
          "output_type": "stream",
          "name": "stdout",
          "text": [
            "[Errno 2] No such file or directory: 'drive/MyDrive/'\n",
            "/content/drive/MyDrive\n"
          ]
        }
      ]
    },
    {
      "cell_type": "markdown",
      "source": [],
      "metadata": {
        "id": "FDFum0oX1zwr"
      }
    },
    {
      "cell_type": "markdown",
      "source": [
        "## Import libraries"
      ],
      "metadata": {
        "id": "Hcdd8BpC14Dr"
      }
    },
    {
      "cell_type": "code",
      "execution_count": 322,
      "metadata": {
        "colab": {
          "base_uri": "https://localhost:8080/"
        },
        "id": "5JOXkGWDgdmH",
        "outputId": "b29e0688-0c6a-4da9-94f0-5fe51b15535a"
      },
      "outputs": [
        {
          "output_type": "stream",
          "name": "stdout",
          "text": [
            "Looking in indexes: https://pypi.org/simple, https://us-python.pkg.dev/colab-wheels/public/simple/\n",
            "Requirement already satisfied: pyspark in /usr/local/lib/python3.8/dist-packages (3.3.1)\n",
            "Requirement already satisfied: py4j==0.10.9.5 in /usr/local/lib/python3.8/dist-packages (from pyspark) (0.10.9.5)\n"
          ]
        }
      ],
      "source": [
        "!pip install pyspark"
      ]
    },
    {
      "cell_type": "code",
      "source": [
        "# !pip install dython"
      ],
      "metadata": {
        "id": "W3KqtSBwOPKl"
      },
      "execution_count": 323,
      "outputs": []
    },
    {
      "cell_type": "code",
      "source": [
        "!pip install geopandas"
      ],
      "metadata": {
        "colab": {
          "base_uri": "https://localhost:8080/"
        },
        "id": "q4dJSIvnOU0L",
        "outputId": "8884b015-1ff0-4524-820e-98011d4c7dbc"
      },
      "execution_count": 324,
      "outputs": [
        {
          "output_type": "stream",
          "name": "stdout",
          "text": [
            "Looking in indexes: https://pypi.org/simple, https://us-python.pkg.dev/colab-wheels/public/simple/\n",
            "Requirement already satisfied: geopandas in /usr/local/lib/python3.8/dist-packages (0.12.2)\n",
            "Requirement already satisfied: pandas>=1.0.0 in /usr/local/lib/python3.8/dist-packages (from geopandas) (1.5.3)\n",
            "Requirement already satisfied: shapely>=1.7 in /usr/local/lib/python3.8/dist-packages (from geopandas) (2.0.1)\n",
            "Requirement already satisfied: pyproj>=2.6.1.post1 in /usr/local/lib/python3.8/dist-packages (from geopandas) (3.4.1)\n",
            "Requirement already satisfied: fiona>=1.8 in /usr/local/lib/python3.8/dist-packages (from geopandas) (1.9.1)\n",
            "Requirement already satisfied: packaging in /usr/local/lib/python3.8/dist-packages (from geopandas) (23.0)\n",
            "Requirement already satisfied: munch>=2.3.2 in /usr/local/lib/python3.8/dist-packages (from fiona>=1.8->geopandas) (2.5.0)\n",
            "Requirement already satisfied: certifi in /usr/local/lib/python3.8/dist-packages (from fiona>=1.8->geopandas) (2022.12.7)\n",
            "Requirement already satisfied: attrs>=19.2.0 in /usr/local/lib/python3.8/dist-packages (from fiona>=1.8->geopandas) (22.2.0)\n",
            "Requirement already satisfied: click-plugins>=1.0 in /usr/local/lib/python3.8/dist-packages (from fiona>=1.8->geopandas) (1.1.1)\n",
            "Requirement already satisfied: click~=8.0 in /usr/local/lib/python3.8/dist-packages (from fiona>=1.8->geopandas) (8.1.3)\n",
            "Requirement already satisfied: setuptools in /usr/local/lib/python3.8/dist-packages (from fiona>=1.8->geopandas) (57.4.0)\n",
            "Requirement already satisfied: cligj>=0.5 in /usr/local/lib/python3.8/dist-packages (from fiona>=1.8->geopandas) (0.7.2)\n",
            "Requirement already satisfied: pytz>=2020.1 in /usr/local/lib/python3.8/dist-packages (from pandas>=1.0.0->geopandas) (2022.7.1)\n",
            "Requirement already satisfied: numpy>=1.20.3 in /usr/local/lib/python3.8/dist-packages (from pandas>=1.0.0->geopandas) (1.21.6)\n",
            "Requirement already satisfied: python-dateutil>=2.8.1 in /usr/local/lib/python3.8/dist-packages (from pandas>=1.0.0->geopandas) (2.8.2)\n",
            "Requirement already satisfied: six in /usr/local/lib/python3.8/dist-packages (from munch>=2.3.2->fiona>=1.8->geopandas) (1.15.0)\n"
          ]
        }
      ]
    },
    {
      "cell_type": "code",
      "source": [
        "# Import SparkSession\n",
        "from pyspark.sql import SparkSession\n",
        "# Create a Spark Session\n",
        "spark = SparkSession.builder.master(\"local[*]\").getOrCreate()\n",
        "# Check Spark Session Information\n",
        "spark"
      ],
      "metadata": {
        "colab": {
          "base_uri": "https://localhost:8080/",
          "height": 222
        },
        "id": "9EdU074Lg_kz",
        "outputId": "720a9a05-7afa-49f1-9c08-734c9a3d0a2b"
      },
      "execution_count": 325,
      "outputs": [
        {
          "output_type": "execute_result",
          "data": {
            "text/plain": [
              "<pyspark.sql.session.SparkSession at 0x7f489ceb75e0>"
            ],
            "text/html": [
              "\n",
              "            <div>\n",
              "                <p><b>SparkSession - in-memory</b></p>\n",
              "                \n",
              "        <div>\n",
              "            <p><b>SparkContext</b></p>\n",
              "\n",
              "            <p><a href=\"http://9fb8218a036f:4040\">Spark UI</a></p>\n",
              "\n",
              "            <dl>\n",
              "              <dt>Version</dt>\n",
              "                <dd><code>v3.3.1</code></dd>\n",
              "              <dt>Master</dt>\n",
              "                <dd><code>local[*]</code></dd>\n",
              "              <dt>AppName</dt>\n",
              "                <dd><code>pyspark-shell</code></dd>\n",
              "            </dl>\n",
              "        </div>\n",
              "        \n",
              "            </div>\n",
              "        "
            ]
          },
          "metadata": {},
          "execution_count": 325
        }
      ]
    },
    {
      "cell_type": "code",
      "source": [
        "# Import a Spark function from library\n",
        "from pyspark.sql.functions import col"
      ],
      "metadata": {
        "id": "Fnbo8enthEIj"
      },
      "execution_count": 326,
      "outputs": []
    },
    {
      "cell_type": "code",
      "source": [
        "from pyspark.sql.functions import col\n",
        "from pyspark.ml.classification import LogisticRegression\n",
        "from pyspark.sql.functions import col\n",
        "import pandas as pd\n",
        "import numpy as np\n",
        "import os\n",
        "\n",
        "import matplotlib\n",
        "import matplotlib.pyplot as plt\n",
        "import seaborn as sns\n",
        "import ast\n",
        "from pyspark.sql.functions import desc\n",
        "\n",
        "import geopandas as gpd\n",
        "import folium\n",
        "\n",
        "from pyspark.ml.feature import VectorAssembler\n",
        "from pyspark.ml.feature import StandardScaler\n",
        "from pyspark.ml.feature import MinMaxScaler\n",
        "from pyspark.mllib.evaluation import MulticlassMetrics, BinaryClassificationMetrics\n",
        "from pyspark.ml.evaluation import BinaryClassificationEvaluator\n",
        "from datetime import datetime, timedelta\n",
        "from dateutil.relativedelta import relativedelta\n",
        "from pyspark.ml.classification import RandomForestClassifier\n",
        "import time\n",
        "# from dython import nominal\n",
        "\n",
        "# Apply the default theme\n",
        "sns.set_theme()\n"
      ],
      "metadata": {
        "id": "OzS71LcVhKDa"
      },
      "execution_count": 327,
      "outputs": []
    },
    {
      "cell_type": "markdown",
      "source": [
        "## (to be updated) Get access to blob storage\n",
        "- Reference from 261"
      ],
      "metadata": {
        "id": "g_W_ixoi2J-Z"
      }
    },
    {
      "cell_type": "code",
      "source": [
        "# Put at the top of any notebooks for storing in blob\n",
        "\n",
        "# from pyspark.sql.functions import col, max\n",
        "\n",
        "# blob_container = \"team06\" # The name of your container created in https://portal.azure.com\n",
        "# storage_account = \"apatel\" # The name of your Storage account created in https://portal.azure.com\n",
        "# secret_scope = \"team06\" # The name of the scope created in your local computer using the Databricks CLI\n",
        "# secret_key = \"team06\" # The name of the secret key created in your local computer using the Databricks CLI \n",
        "# blob_url = f\"wasbs://{blob_container}@{storage_account}.blob.core.windows.net\"\n",
        "# mount_path = \"/mnt/mids-w261\""
      ],
      "metadata": {
        "id": "XIXl0hNi2JMX"
      },
      "execution_count": 328,
      "outputs": []
    },
    {
      "cell_type": "code",
      "source": [],
      "metadata": {
        "id": "6q6ftU0wbMUz"
      },
      "execution_count": 328,
      "outputs": []
    },
    {
      "cell_type": "markdown",
      "source": [
        "## Import csv\n",
        "sample csv"
      ],
      "metadata": {
        "id": "kn_eS60H20Va"
      }
    },
    {
      "cell_type": "code",
      "source": [
        "static_raw_df = pd.read_csv(\"static_features_month_df_raw.csv\")\n",
        "# Copied original file. It is needed to store in each user's mydrive"
      ],
      "metadata": {
        "id": "b-xYFWLbOwcv"
      },
      "execution_count": 329,
      "outputs": []
    },
    {
      "cell_type": "code",
      "source": [
        "static_raw_df"
      ],
      "metadata": {
        "colab": {
          "base_uri": "https://localhost:8080/",
          "height": 487
        },
        "id": "kr0QM9Dk3_q_",
        "outputId": "e1802e41-939c-4bd3-fa13-d5ad498e9398"
      },
      "execution_count": 330,
      "outputs": [
        {
          "output_type": "execute_result",
          "data": {
            "text/plain": [
              "     SITE_ID SITE_IGBP  month  TA_F_avg  VPD_F_avg  P_F_avg  NETRAD_avg  \\\n",
              "0     AR-SLu        MF      1   27.8660    22.5575   1.3420  189.434640   \n",
              "1     AR-SLu        MF      2   25.6745    13.8210   3.1785  144.707204   \n",
              "2     AR-SLu        MF      3   24.2735    14.1460   0.6440  128.891734   \n",
              "3     AR-SLu        MF      4   18.4500     9.1850   0.1000   71.500693   \n",
              "4     AR-SLu        MF      5   13.4930     5.8230   1.8520   41.249149   \n",
              "...      ...       ...    ...       ...        ...      ...         ...   \n",
              "2776  ZM-Mon       DBF      8   21.9250    19.9020   0.0060  100.482875   \n",
              "2777  ZM-Mon       DBF      9   26.4800    29.9270   0.0000  101.451880   \n",
              "2778  ZM-Mon       DBF     10   26.6045    23.7095   1.0920  129.757934   \n",
              "2779  ZM-Mon       DBF     11   23.4820    10.6405   1.7335  139.433737   \n",
              "2780  ZM-Mon       DBF     12   22.0275     5.6440   4.3615  140.007119   \n",
              "\n",
              "      NEE_VUT_REF_avg  NEE_VUT_REF_QC_avg  NEE_CUT_REF_avg  ...  \\\n",
              "0           -5.630970            0.957661        -5.609750  ...   \n",
              "1           -4.059005            0.970610        -4.047950  ...   \n",
              "2           -4.032335            0.908938        -4.034525  ...   \n",
              "3           -3.111590            0.962500        -3.107050  ...   \n",
              "4           -1.716330            0.895833        -1.559850  ...   \n",
              "...               ...                 ...              ...  ...   \n",
              "2776         0.904340            0.916667         0.898666  ...   \n",
              "2777         1.812900            0.927778         1.822220  ...   \n",
              "2778         2.010180            0.910618         2.002460  ...   \n",
              "2779         0.466745            0.953472         0.496900  ...   \n",
              "2780        -0.920876            0.906250        -0.916659  ...   \n",
              "\n",
              "      CO2_concentration_avg  dataset  MODIS_LC  MODIS_IGBP  MODIS_PFT  \\\n",
              "0                  388.2825  FLUXNET         7         OSH         SH   \n",
              "1                  388.6475  FLUXNET         7         OSH         SH   \n",
              "2                  389.0650  FLUXNET         7         OSH         SH   \n",
              "3                  388.9050  FLUXNET         7         OSH         SH   \n",
              "4                  389.3200  FLUXNET         7         OSH         SH   \n",
              "...                     ...      ...       ...         ...        ...   \n",
              "2776               383.9350  FLUXNET        10         GRA        GRA   \n",
              "2777               383.5950  FLUXNET        10         GRA        GRA   \n",
              "2778               382.6150  FLUXNET        10         GRA        GRA   \n",
              "2779               383.2475  FLUXNET        10         GRA        GRA   \n",
              "2780               383.9325  FLUXNET        10         GRA        GRA   \n",
              "\n",
              "      koppen_sub     koppen  hemisphere  LOCATION_LAT  LOCATION_LONG  \n",
              "0            BSk       Arid           S      -33.4648       -66.4598  \n",
              "1            BSk       Arid           S      -33.4648       -66.4598  \n",
              "2            BSk       Arid           S      -33.4648       -66.4598  \n",
              "3            BSk       Arid           S      -33.4648       -66.4598  \n",
              "4            BSk       Arid           S      -33.4648       -66.4598  \n",
              "...          ...        ...         ...           ...            ...  \n",
              "2776         Cwa  Temperate           S      -15.4391        23.2525  \n",
              "2777         Cwa  Temperate           S      -15.4391        23.2525  \n",
              "2778         Cwa  Temperate           S      -15.4391        23.2525  \n",
              "2779         Cwa  Temperate           S      -15.4391        23.2525  \n",
              "2780         Cwa  Temperate           S      -15.4391        23.2525  \n",
              "\n",
              "[2781 rows x 60 columns]"
            ],
            "text/html": [
              "\n",
              "  <div id=\"df-ad2c0d36-e308-4eec-8be9-e60a3646cc19\">\n",
              "    <div class=\"colab-df-container\">\n",
              "      <div>\n",
              "<style scoped>\n",
              "    .dataframe tbody tr th:only-of-type {\n",
              "        vertical-align: middle;\n",
              "    }\n",
              "\n",
              "    .dataframe tbody tr th {\n",
              "        vertical-align: top;\n",
              "    }\n",
              "\n",
              "    .dataframe thead th {\n",
              "        text-align: right;\n",
              "    }\n",
              "</style>\n",
              "<table border=\"1\" class=\"dataframe\">\n",
              "  <thead>\n",
              "    <tr style=\"text-align: right;\">\n",
              "      <th></th>\n",
              "      <th>SITE_ID</th>\n",
              "      <th>SITE_IGBP</th>\n",
              "      <th>month</th>\n",
              "      <th>TA_F_avg</th>\n",
              "      <th>VPD_F_avg</th>\n",
              "      <th>P_F_avg</th>\n",
              "      <th>NETRAD_avg</th>\n",
              "      <th>NEE_VUT_REF_avg</th>\n",
              "      <th>NEE_VUT_REF_QC_avg</th>\n",
              "      <th>NEE_CUT_REF_avg</th>\n",
              "      <th>...</th>\n",
              "      <th>CO2_concentration_avg</th>\n",
              "      <th>dataset</th>\n",
              "      <th>MODIS_LC</th>\n",
              "      <th>MODIS_IGBP</th>\n",
              "      <th>MODIS_PFT</th>\n",
              "      <th>koppen_sub</th>\n",
              "      <th>koppen</th>\n",
              "      <th>hemisphere</th>\n",
              "      <th>LOCATION_LAT</th>\n",
              "      <th>LOCATION_LONG</th>\n",
              "    </tr>\n",
              "  </thead>\n",
              "  <tbody>\n",
              "    <tr>\n",
              "      <th>0</th>\n",
              "      <td>AR-SLu</td>\n",
              "      <td>MF</td>\n",
              "      <td>1</td>\n",
              "      <td>27.8660</td>\n",
              "      <td>22.5575</td>\n",
              "      <td>1.3420</td>\n",
              "      <td>189.434640</td>\n",
              "      <td>-5.630970</td>\n",
              "      <td>0.957661</td>\n",
              "      <td>-5.609750</td>\n",
              "      <td>...</td>\n",
              "      <td>388.2825</td>\n",
              "      <td>FLUXNET</td>\n",
              "      <td>7</td>\n",
              "      <td>OSH</td>\n",
              "      <td>SH</td>\n",
              "      <td>BSk</td>\n",
              "      <td>Arid</td>\n",
              "      <td>S</td>\n",
              "      <td>-33.4648</td>\n",
              "      <td>-66.4598</td>\n",
              "    </tr>\n",
              "    <tr>\n",
              "      <th>1</th>\n",
              "      <td>AR-SLu</td>\n",
              "      <td>MF</td>\n",
              "      <td>2</td>\n",
              "      <td>25.6745</td>\n",
              "      <td>13.8210</td>\n",
              "      <td>3.1785</td>\n",
              "      <td>144.707204</td>\n",
              "      <td>-4.059005</td>\n",
              "      <td>0.970610</td>\n",
              "      <td>-4.047950</td>\n",
              "      <td>...</td>\n",
              "      <td>388.6475</td>\n",
              "      <td>FLUXNET</td>\n",
              "      <td>7</td>\n",
              "      <td>OSH</td>\n",
              "      <td>SH</td>\n",
              "      <td>BSk</td>\n",
              "      <td>Arid</td>\n",
              "      <td>S</td>\n",
              "      <td>-33.4648</td>\n",
              "      <td>-66.4598</td>\n",
              "    </tr>\n",
              "    <tr>\n",
              "      <th>2</th>\n",
              "      <td>AR-SLu</td>\n",
              "      <td>MF</td>\n",
              "      <td>3</td>\n",
              "      <td>24.2735</td>\n",
              "      <td>14.1460</td>\n",
              "      <td>0.6440</td>\n",
              "      <td>128.891734</td>\n",
              "      <td>-4.032335</td>\n",
              "      <td>0.908938</td>\n",
              "      <td>-4.034525</td>\n",
              "      <td>...</td>\n",
              "      <td>389.0650</td>\n",
              "      <td>FLUXNET</td>\n",
              "      <td>7</td>\n",
              "      <td>OSH</td>\n",
              "      <td>SH</td>\n",
              "      <td>BSk</td>\n",
              "      <td>Arid</td>\n",
              "      <td>S</td>\n",
              "      <td>-33.4648</td>\n",
              "      <td>-66.4598</td>\n",
              "    </tr>\n",
              "    <tr>\n",
              "      <th>3</th>\n",
              "      <td>AR-SLu</td>\n",
              "      <td>MF</td>\n",
              "      <td>4</td>\n",
              "      <td>18.4500</td>\n",
              "      <td>9.1850</td>\n",
              "      <td>0.1000</td>\n",
              "      <td>71.500693</td>\n",
              "      <td>-3.111590</td>\n",
              "      <td>0.962500</td>\n",
              "      <td>-3.107050</td>\n",
              "      <td>...</td>\n",
              "      <td>388.9050</td>\n",
              "      <td>FLUXNET</td>\n",
              "      <td>7</td>\n",
              "      <td>OSH</td>\n",
              "      <td>SH</td>\n",
              "      <td>BSk</td>\n",
              "      <td>Arid</td>\n",
              "      <td>S</td>\n",
              "      <td>-33.4648</td>\n",
              "      <td>-66.4598</td>\n",
              "    </tr>\n",
              "    <tr>\n",
              "      <th>4</th>\n",
              "      <td>AR-SLu</td>\n",
              "      <td>MF</td>\n",
              "      <td>5</td>\n",
              "      <td>13.4930</td>\n",
              "      <td>5.8230</td>\n",
              "      <td>1.8520</td>\n",
              "      <td>41.249149</td>\n",
              "      <td>-1.716330</td>\n",
              "      <td>0.895833</td>\n",
              "      <td>-1.559850</td>\n",
              "      <td>...</td>\n",
              "      <td>389.3200</td>\n",
              "      <td>FLUXNET</td>\n",
              "      <td>7</td>\n",
              "      <td>OSH</td>\n",
              "      <td>SH</td>\n",
              "      <td>BSk</td>\n",
              "      <td>Arid</td>\n",
              "      <td>S</td>\n",
              "      <td>-33.4648</td>\n",
              "      <td>-66.4598</td>\n",
              "    </tr>\n",
              "    <tr>\n",
              "      <th>...</th>\n",
              "      <td>...</td>\n",
              "      <td>...</td>\n",
              "      <td>...</td>\n",
              "      <td>...</td>\n",
              "      <td>...</td>\n",
              "      <td>...</td>\n",
              "      <td>...</td>\n",
              "      <td>...</td>\n",
              "      <td>...</td>\n",
              "      <td>...</td>\n",
              "      <td>...</td>\n",
              "      <td>...</td>\n",
              "      <td>...</td>\n",
              "      <td>...</td>\n",
              "      <td>...</td>\n",
              "      <td>...</td>\n",
              "      <td>...</td>\n",
              "      <td>...</td>\n",
              "      <td>...</td>\n",
              "      <td>...</td>\n",
              "      <td>...</td>\n",
              "    </tr>\n",
              "    <tr>\n",
              "      <th>2776</th>\n",
              "      <td>ZM-Mon</td>\n",
              "      <td>DBF</td>\n",
              "      <td>8</td>\n",
              "      <td>21.9250</td>\n",
              "      <td>19.9020</td>\n",
              "      <td>0.0060</td>\n",
              "      <td>100.482875</td>\n",
              "      <td>0.904340</td>\n",
              "      <td>0.916667</td>\n",
              "      <td>0.898666</td>\n",
              "      <td>...</td>\n",
              "      <td>383.9350</td>\n",
              "      <td>FLUXNET</td>\n",
              "      <td>10</td>\n",
              "      <td>GRA</td>\n",
              "      <td>GRA</td>\n",
              "      <td>Cwa</td>\n",
              "      <td>Temperate</td>\n",
              "      <td>S</td>\n",
              "      <td>-15.4391</td>\n",
              "      <td>23.2525</td>\n",
              "    </tr>\n",
              "    <tr>\n",
              "      <th>2777</th>\n",
              "      <td>ZM-Mon</td>\n",
              "      <td>DBF</td>\n",
              "      <td>9</td>\n",
              "      <td>26.4800</td>\n",
              "      <td>29.9270</td>\n",
              "      <td>0.0000</td>\n",
              "      <td>101.451880</td>\n",
              "      <td>1.812900</td>\n",
              "      <td>0.927778</td>\n",
              "      <td>1.822220</td>\n",
              "      <td>...</td>\n",
              "      <td>383.5950</td>\n",
              "      <td>FLUXNET</td>\n",
              "      <td>10</td>\n",
              "      <td>GRA</td>\n",
              "      <td>GRA</td>\n",
              "      <td>Cwa</td>\n",
              "      <td>Temperate</td>\n",
              "      <td>S</td>\n",
              "      <td>-15.4391</td>\n",
              "      <td>23.2525</td>\n",
              "    </tr>\n",
              "    <tr>\n",
              "      <th>2778</th>\n",
              "      <td>ZM-Mon</td>\n",
              "      <td>DBF</td>\n",
              "      <td>10</td>\n",
              "      <td>26.6045</td>\n",
              "      <td>23.7095</td>\n",
              "      <td>1.0920</td>\n",
              "      <td>129.757934</td>\n",
              "      <td>2.010180</td>\n",
              "      <td>0.910618</td>\n",
              "      <td>2.002460</td>\n",
              "      <td>...</td>\n",
              "      <td>382.6150</td>\n",
              "      <td>FLUXNET</td>\n",
              "      <td>10</td>\n",
              "      <td>GRA</td>\n",
              "      <td>GRA</td>\n",
              "      <td>Cwa</td>\n",
              "      <td>Temperate</td>\n",
              "      <td>S</td>\n",
              "      <td>-15.4391</td>\n",
              "      <td>23.2525</td>\n",
              "    </tr>\n",
              "    <tr>\n",
              "      <th>2779</th>\n",
              "      <td>ZM-Mon</td>\n",
              "      <td>DBF</td>\n",
              "      <td>11</td>\n",
              "      <td>23.4820</td>\n",
              "      <td>10.6405</td>\n",
              "      <td>1.7335</td>\n",
              "      <td>139.433737</td>\n",
              "      <td>0.466745</td>\n",
              "      <td>0.953472</td>\n",
              "      <td>0.496900</td>\n",
              "      <td>...</td>\n",
              "      <td>383.2475</td>\n",
              "      <td>FLUXNET</td>\n",
              "      <td>10</td>\n",
              "      <td>GRA</td>\n",
              "      <td>GRA</td>\n",
              "      <td>Cwa</td>\n",
              "      <td>Temperate</td>\n",
              "      <td>S</td>\n",
              "      <td>-15.4391</td>\n",
              "      <td>23.2525</td>\n",
              "    </tr>\n",
              "    <tr>\n",
              "      <th>2780</th>\n",
              "      <td>ZM-Mon</td>\n",
              "      <td>DBF</td>\n",
              "      <td>12</td>\n",
              "      <td>22.0275</td>\n",
              "      <td>5.6440</td>\n",
              "      <td>4.3615</td>\n",
              "      <td>140.007119</td>\n",
              "      <td>-0.920876</td>\n",
              "      <td>0.906250</td>\n",
              "      <td>-0.916659</td>\n",
              "      <td>...</td>\n",
              "      <td>383.9325</td>\n",
              "      <td>FLUXNET</td>\n",
              "      <td>10</td>\n",
              "      <td>GRA</td>\n",
              "      <td>GRA</td>\n",
              "      <td>Cwa</td>\n",
              "      <td>Temperate</td>\n",
              "      <td>S</td>\n",
              "      <td>-15.4391</td>\n",
              "      <td>23.2525</td>\n",
              "    </tr>\n",
              "  </tbody>\n",
              "</table>\n",
              "<p>2781 rows × 60 columns</p>\n",
              "</div>\n",
              "      <button class=\"colab-df-convert\" onclick=\"convertToInteractive('df-ad2c0d36-e308-4eec-8be9-e60a3646cc19')\"\n",
              "              title=\"Convert this dataframe to an interactive table.\"\n",
              "              style=\"display:none;\">\n",
              "        \n",
              "  <svg xmlns=\"http://www.w3.org/2000/svg\" height=\"24px\"viewBox=\"0 0 24 24\"\n",
              "       width=\"24px\">\n",
              "    <path d=\"M0 0h24v24H0V0z\" fill=\"none\"/>\n",
              "    <path d=\"M18.56 5.44l.94 2.06.94-2.06 2.06-.94-2.06-.94-.94-2.06-.94 2.06-2.06.94zm-11 1L8.5 8.5l.94-2.06 2.06-.94-2.06-.94L8.5 2.5l-.94 2.06-2.06.94zm10 10l.94 2.06.94-2.06 2.06-.94-2.06-.94-.94-2.06-.94 2.06-2.06.94z\"/><path d=\"M17.41 7.96l-1.37-1.37c-.4-.4-.92-.59-1.43-.59-.52 0-1.04.2-1.43.59L10.3 9.45l-7.72 7.72c-.78.78-.78 2.05 0 2.83L4 21.41c.39.39.9.59 1.41.59.51 0 1.02-.2 1.41-.59l7.78-7.78 2.81-2.81c.8-.78.8-2.07 0-2.86zM5.41 20L4 18.59l7.72-7.72 1.47 1.35L5.41 20z\"/>\n",
              "  </svg>\n",
              "      </button>\n",
              "      \n",
              "  <style>\n",
              "    .colab-df-container {\n",
              "      display:flex;\n",
              "      flex-wrap:wrap;\n",
              "      gap: 12px;\n",
              "    }\n",
              "\n",
              "    .colab-df-convert {\n",
              "      background-color: #E8F0FE;\n",
              "      border: none;\n",
              "      border-radius: 50%;\n",
              "      cursor: pointer;\n",
              "      display: none;\n",
              "      fill: #1967D2;\n",
              "      height: 32px;\n",
              "      padding: 0 0 0 0;\n",
              "      width: 32px;\n",
              "    }\n",
              "\n",
              "    .colab-df-convert:hover {\n",
              "      background-color: #E2EBFA;\n",
              "      box-shadow: 0px 1px 2px rgba(60, 64, 67, 0.3), 0px 1px 3px 1px rgba(60, 64, 67, 0.15);\n",
              "      fill: #174EA6;\n",
              "    }\n",
              "\n",
              "    [theme=dark] .colab-df-convert {\n",
              "      background-color: #3B4455;\n",
              "      fill: #D2E3FC;\n",
              "    }\n",
              "\n",
              "    [theme=dark] .colab-df-convert:hover {\n",
              "      background-color: #434B5C;\n",
              "      box-shadow: 0px 1px 3px 1px rgba(0, 0, 0, 0.15);\n",
              "      filter: drop-shadow(0px 1px 2px rgba(0, 0, 0, 0.3));\n",
              "      fill: #FFFFFF;\n",
              "    }\n",
              "  </style>\n",
              "\n",
              "      <script>\n",
              "        const buttonEl =\n",
              "          document.querySelector('#df-ad2c0d36-e308-4eec-8be9-e60a3646cc19 button.colab-df-convert');\n",
              "        buttonEl.style.display =\n",
              "          google.colab.kernel.accessAllowed ? 'block' : 'none';\n",
              "\n",
              "        async function convertToInteractive(key) {\n",
              "          const element = document.querySelector('#df-ad2c0d36-e308-4eec-8be9-e60a3646cc19');\n",
              "          const dataTable =\n",
              "            await google.colab.kernel.invokeFunction('convertToInteractive',\n",
              "                                                     [key], {});\n",
              "          if (!dataTable) return;\n",
              "\n",
              "          const docLinkHtml = 'Like what you see? Visit the ' +\n",
              "            '<a target=\"_blank\" href=https://colab.research.google.com/notebooks/data_table.ipynb>data table notebook</a>'\n",
              "            + ' to learn more about interactive tables.';\n",
              "          element.innerHTML = '';\n",
              "          dataTable['output_type'] = 'display_data';\n",
              "          await google.colab.output.renderOutput(dataTable, element);\n",
              "          const docLink = document.createElement('div');\n",
              "          docLink.innerHTML = docLinkHtml;\n",
              "          element.appendChild(docLink);\n",
              "        }\n",
              "      </script>\n",
              "    </div>\n",
              "  </div>\n",
              "  "
            ]
          },
          "metadata": {},
          "execution_count": 330
        }
      ]
    },
    {
      "cell_type": "markdown",
      "source": [
        "# 1. Impute missing values"
      ],
      "metadata": {
        "id": "VPeMLrPgcQrB"
      }
    },
    {
      "cell_type": "markdown",
      "source": [
        "## Table of missing features"
      ],
      "metadata": {
        "id": "fyo8ASYqev6D"
      }
    },
    {
      "cell_type": "markdown",
      "source": [
        "Missing values\n",
        "\n",
        "| feature           | number_of NaN | feature          | number_of NaN |\n",
        "|-------------------|---------------|------------------|---------------|\n",
        "| P_F_avg           | 2             | b3_avg           | 91            |\n",
        "| NETRAD_avg        | 178           | b4_avg           | 91            |\n",
        "| ET_avg            | 6             | b5_avg           | 91            |\n",
        "| CSIF-SIFdaily_avg | 24            | b6_avg           | 91            |\n",
        "| CSIF-SIFinst_avg  | 24            | b7_avg           | 91            |\n",
        "| PET_avg           | 12            | EVI_avg          | 118           |\n",
        "| Ts_avg            | 12            | GCI_avg          | 101           |\n",
        "| Tmean_avg         | 12            | NDVI_avg         | 102           |\n",
        "| prcp_avg          | 12            | NDWI_avg         | 91            |\n",
        "| vpd_avg           | 12            | NIRv_avg         | 102           |\n",
        "| prcp-lag3_avg     | 12            | kNDVI_avg        | 91            |\n",
        "| ESACCI-sm_avg     | 236           | Percent_Snow_avg | 28            |\n",
        "| b1_avg            | 91            | Fpar_avg         | 136           |\n",
        "| b2_avg            | 86            | Lai_avg          | 136           |"
      ],
      "metadata": {
        "id": "VtT8nntKcMtn"
      }
    },
    {
      "cell_type": "code",
      "source": [
        "print(len(static_raw_df.columns))\n",
        "static_raw_df.columns"
      ],
      "metadata": {
        "colab": {
          "base_uri": "https://localhost:8080/"
        },
        "id": "GqcyKDBC3C4o",
        "outputId": "d3ada432-47ee-4d15-fb2e-fa61d75b320c"
      },
      "execution_count": 331,
      "outputs": [
        {
          "output_type": "stream",
          "name": "stdout",
          "text": [
            "60\n"
          ]
        },
        {
          "output_type": "execute_result",
          "data": {
            "text/plain": [
              "Index(['SITE_ID', 'SITE_IGBP', 'month', 'TA_F_avg', 'VPD_F_avg', 'P_F_avg',\n",
              "       'NETRAD_avg', 'NEE_VUT_REF_avg', 'NEE_VUT_REF_QC_avg',\n",
              "       'NEE_CUT_REF_avg', 'NEE_CUT_REF_QC_avg', 'GPP_NT_VUT_REF_avg',\n",
              "       'GPP_DT_VUT_REF_avg', 'GPP_NT_CUT_REF_avg', 'GPP_DT_CUT_REF_avg',\n",
              "       'RECO_NT_VUT_REF_avg', 'RECO_DT_VUT_REF_avg', 'RECO_NT_CUT_REF_avg',\n",
              "       'RECO_DT_CUT_REF_avg', 'ET_avg', 'BESS-PAR_avg', 'BESS-PARdiff_avg',\n",
              "       'BESS-RSDN_avg', 'CSIF-SIFdaily_avg', 'CSIF-SIFinst_avg', 'PET_avg',\n",
              "       'Ts_avg', 'Tmean_avg', 'prcp_avg', 'vpd_avg', 'prcp-lag3_avg',\n",
              "       'ESACCI-sm_avg', 'b1_avg', 'b2_avg', 'b3_avg', 'b4_avg', 'b5_avg',\n",
              "       'b6_avg', 'b7_avg', 'EVI_avg', 'GCI_avg', 'NDVI_avg', 'NDWI_avg',\n",
              "       'NIRv_avg', 'kNDVI_avg', 'Percent_Snow_avg', 'Fpar_avg', 'Lai_avg',\n",
              "       'LST_Day_avg', 'LST_Night_avg', 'CO2_concentration_avg', 'dataset',\n",
              "       'MODIS_LC', 'MODIS_IGBP', 'MODIS_PFT', 'koppen_sub', 'koppen',\n",
              "       'hemisphere', 'LOCATION_LAT', 'LOCATION_LONG'],\n",
              "      dtype='object')"
            ]
          },
          "metadata": {},
          "execution_count": 331
        }
      ]
    },
    {
      "cell_type": "code",
      "source": [
        "# Features used for this analysis\n",
        "\n",
        "key = ['SITE_ID']\n",
        "\n",
        "# other options\n",
        "output_related_var = ['NEE_VUT_REF_avg', 'NEE_CUT_REF_avg', 'GPP_NT_VUT_REF_avg',\n",
        "                      'GPP_DT_VUT_REF_avg', 'GPP_NT_CUT_REF_avg','GPP_DT_CUT_REF_avg',\n",
        "                      'RECO_NT_VUT_REF_avg', 'RECO_DT_VUT_REF_avg', \n",
        "                      'RECO_NT_CUT_REF_avg', 'RECO_DT_CUT_REF_avg']\n",
        "\n",
        "# predictor variables\n",
        "pred_var_numeric = ['TA_F_avg', 'VPD_F_avg', 'P_F_avg', 'NETRAD_avg','ET_avg',\n",
        "                    'BESS-PAR_avg', 'BESS-PARdiff_avg','BESS-RSDN_avg', \n",
        "                    'CSIF-SIFdaily_avg', 'CSIF-SIFinst_avg','PET_avg', 'Ts_avg', 'Tmean_avg',\n",
        "                    'prcp_avg', 'vpd_avg', 'prcp-lag3_avg', 'ESACCI-sm_avg',\n",
        "                    'b1_avg', 'b2_avg', 'b3_avg','b4_avg', 'b5_avg', 'b6_avg', 'b7_avg', \n",
        "                    'EVI_avg', 'GCI_avg', 'NDVI_avg', 'NDWI_avg', 'NIRv_avg', 'kNDVI_avg',\n",
        "                    'Percent_Snow_avg', 'Fpar_avg', 'Lai_avg', 'LST_Day_avg', 'LST_Night_avg', \n",
        "                    'CO2_concentration_avg']\n",
        "\n",
        "pred_var_categorical = ['SITE_IGBP', 'MODIS_LC', 'MODIS_IGBP','MODIS_PFT', \n",
        "                        'koppen_sub', 'koppen', 'hemisphere']\n",
        "\n",
        "ordinal_var =  ['month', 'LOCATION_LAT', 'LOCATION_LONG']\n",
        "\n",
        "qc_flags = ['NEE_VUT_REF_QC_avg', 'NEE_CUT_REF_QC_avg'] \n",
        "\n",
        "others = ['dataset']\n",
        "\n",
        "NA_list = []\n",
        "\n",
        "len(key + output_related_var + pred_var_numeric + pred_var_categorical \n",
        "    + ordinal_var + qc_flags + NA_list + others)\n",
        "\n",
        "# No TIMESTAMP, year and time. hemisphere is added"
      ],
      "metadata": {
        "colab": {
          "base_uri": "https://localhost:8080/"
        },
        "id": "ZZEqUCvD4SjW",
        "outputId": "d78357de-5d4b-4d25-abb4-ba93de3aeb81"
      },
      "execution_count": 332,
      "outputs": [
        {
          "output_type": "execute_result",
          "data": {
            "text/plain": [
              "60"
            ]
          },
          "metadata": {},
          "execution_count": 332
        }
      ]
    },
    {
      "cell_type": "code",
      "source": [
        "\n",
        "# Check if all the features are included in one of the four\n",
        "total = key + output_related_var + pred_var_numeric + pred_var_categorical + ordinal_var + qc_flags + NA_list + others\n",
        "for i in static_raw_df.columns:\n",
        "  if i not in total:\n",
        "    print(i)\n",
        "\n",
        "total = key + output_related_var + pred_var_numeric + pred_var_categorical + ordinal_var + qc_flags + NA_list + others\n",
        "for i in total:\n",
        "  if i not in static_raw_df.columns:\n",
        "    print(i)\n"
      ],
      "metadata": {
        "id": "IeYdhvLR4Sfa"
      },
      "execution_count": 333,
      "outputs": []
    },
    {
      "cell_type": "markdown",
      "source": [
        "# Preprocess features"
      ],
      "metadata": {
        "id": "usJBIbtR3tJg"
      }
    },
    {
      "cell_type": "code",
      "source": [
        "# Original columns\n",
        "print(len(static_raw_df.columns))\n",
        "static_raw_df.columns"
      ],
      "metadata": {
        "colab": {
          "base_uri": "https://localhost:8080/"
        },
        "id": "X8eMlfJN30Dd",
        "outputId": "9784ab89-9728-429d-aa8e-24319bd4e274"
      },
      "execution_count": 334,
      "outputs": [
        {
          "output_type": "stream",
          "name": "stdout",
          "text": [
            "60\n"
          ]
        },
        {
          "output_type": "execute_result",
          "data": {
            "text/plain": [
              "Index(['SITE_ID', 'SITE_IGBP', 'month', 'TA_F_avg', 'VPD_F_avg', 'P_F_avg',\n",
              "       'NETRAD_avg', 'NEE_VUT_REF_avg', 'NEE_VUT_REF_QC_avg',\n",
              "       'NEE_CUT_REF_avg', 'NEE_CUT_REF_QC_avg', 'GPP_NT_VUT_REF_avg',\n",
              "       'GPP_DT_VUT_REF_avg', 'GPP_NT_CUT_REF_avg', 'GPP_DT_CUT_REF_avg',\n",
              "       'RECO_NT_VUT_REF_avg', 'RECO_DT_VUT_REF_avg', 'RECO_NT_CUT_REF_avg',\n",
              "       'RECO_DT_CUT_REF_avg', 'ET_avg', 'BESS-PAR_avg', 'BESS-PARdiff_avg',\n",
              "       'BESS-RSDN_avg', 'CSIF-SIFdaily_avg', 'CSIF-SIFinst_avg', 'PET_avg',\n",
              "       'Ts_avg', 'Tmean_avg', 'prcp_avg', 'vpd_avg', 'prcp-lag3_avg',\n",
              "       'ESACCI-sm_avg', 'b1_avg', 'b2_avg', 'b3_avg', 'b4_avg', 'b5_avg',\n",
              "       'b6_avg', 'b7_avg', 'EVI_avg', 'GCI_avg', 'NDVI_avg', 'NDWI_avg',\n",
              "       'NIRv_avg', 'kNDVI_avg', 'Percent_Snow_avg', 'Fpar_avg', 'Lai_avg',\n",
              "       'LST_Day_avg', 'LST_Night_avg', 'CO2_concentration_avg', 'dataset',\n",
              "       'MODIS_LC', 'MODIS_IGBP', 'MODIS_PFT', 'koppen_sub', 'koppen',\n",
              "       'hemisphere', 'LOCATION_LAT', 'LOCATION_LONG'],\n",
              "      dtype='object')"
            ]
          },
          "metadata": {},
          "execution_count": 334
        }
      ]
    },
    {
      "cell_type": "markdown",
      "source": [
        "## Check how much NA/None exists in each column"
      ],
      "metadata": {
        "id": "Vfcz6dpopslF"
      }
    },
    {
      "cell_type": "code",
      "source": [
        "static_raw_df.isna().sum()"
      ],
      "metadata": {
        "id": "eOdvjkmHpfl5",
        "outputId": "68c6f8b7-86f3-4e17-fc02-52776bb55fa7",
        "colab": {
          "base_uri": "https://localhost:8080/"
        }
      },
      "execution_count": 335,
      "outputs": [
        {
          "output_type": "execute_result",
          "data": {
            "text/plain": [
              "SITE_ID                    0\n",
              "SITE_IGBP                  0\n",
              "month                      0\n",
              "TA_F_avg                   0\n",
              "VPD_F_avg                  0\n",
              "P_F_avg                    2\n",
              "NETRAD_avg               178\n",
              "NEE_VUT_REF_avg            0\n",
              "NEE_VUT_REF_QC_avg         0\n",
              "NEE_CUT_REF_avg            0\n",
              "NEE_CUT_REF_QC_avg         0\n",
              "GPP_NT_VUT_REF_avg         0\n",
              "GPP_DT_VUT_REF_avg         0\n",
              "GPP_NT_CUT_REF_avg         0\n",
              "GPP_DT_CUT_REF_avg         0\n",
              "RECO_NT_VUT_REF_avg        0\n",
              "RECO_DT_VUT_REF_avg        0\n",
              "RECO_NT_CUT_REF_avg        0\n",
              "RECO_DT_CUT_REF_avg        0\n",
              "ET_avg                     6\n",
              "BESS-PAR_avg               0\n",
              "BESS-PARdiff_avg           0\n",
              "BESS-RSDN_avg              0\n",
              "CSIF-SIFdaily_avg         24\n",
              "CSIF-SIFinst_avg          24\n",
              "PET_avg                   12\n",
              "Ts_avg                    12\n",
              "Tmean_avg                 12\n",
              "prcp_avg                  12\n",
              "vpd_avg                   12\n",
              "prcp-lag3_avg             12\n",
              "ESACCI-sm_avg            236\n",
              "b1_avg                    91\n",
              "b2_avg                    86\n",
              "b3_avg                    91\n",
              "b4_avg                    91\n",
              "b5_avg                    91\n",
              "b6_avg                    91\n",
              "b7_avg                    91\n",
              "EVI_avg                  118\n",
              "GCI_avg                  101\n",
              "NDVI_avg                 102\n",
              "NDWI_avg                  91\n",
              "NIRv_avg                 102\n",
              "kNDVI_avg                 91\n",
              "Percent_Snow_avg          28\n",
              "Fpar_avg                 136\n",
              "Lai_avg                  136\n",
              "LST_Day_avg                0\n",
              "LST_Night_avg              0\n",
              "CO2_concentration_avg      0\n",
              "dataset                    0\n",
              "MODIS_LC                   0\n",
              "MODIS_IGBP                 0\n",
              "MODIS_PFT                  0\n",
              "koppen_sub                 0\n",
              "koppen                     0\n",
              "hemisphere                 0\n",
              "LOCATION_LAT               0\n",
              "LOCATION_LONG              0\n",
              "dtype: int64"
            ]
          },
          "metadata": {},
          "execution_count": 335
        }
      ]
    },
    {
      "cell_type": "code",
      "source": [
        "static_raw_df_countNA = pd.DataFrame(static_raw_df.isna().sum())\n",
        "\n",
        "NA0_list = list(static_raw_df_countNA[static_raw_df_countNA[0] == 0].index)\n",
        "NA_list = list(static_raw_df_countNA[static_raw_df_countNA[0] != 0].index)"
      ],
      "metadata": {
        "id": "rtxRInDHphKo"
      },
      "execution_count": 336,
      "outputs": []
    },
    {
      "cell_type": "code",
      "source": [
        "len(static_raw_df)"
      ],
      "metadata": {
        "colab": {
          "base_uri": "https://localhost:8080/"
        },
        "id": "5rlcgfBm9JAY",
        "outputId": "253a5ea5-4e24-4e0c-e0c2-e99e5b11660b"
      },
      "execution_count": 337,
      "outputs": [
        {
          "output_type": "execute_result",
          "data": {
            "text/plain": [
              "2781"
            ]
          },
          "metadata": {},
          "execution_count": 337
        }
      ]
    },
    {
      "cell_type": "code",
      "source": [
        "static_raw_df_countNA[static_raw_df_countNA[0] != 0]"
      ],
      "metadata": {
        "colab": {
          "base_uri": "https://localhost:8080/",
          "height": 927
        },
        "id": "W4Stu5owqyTm",
        "outputId": "54f1852e-b7e9-476b-8711-b8fd92d1eada"
      },
      "execution_count": 338,
      "outputs": [
        {
          "output_type": "execute_result",
          "data": {
            "text/plain": [
              "                     0\n",
              "P_F_avg              2\n",
              "NETRAD_avg         178\n",
              "ET_avg               6\n",
              "CSIF-SIFdaily_avg   24\n",
              "CSIF-SIFinst_avg    24\n",
              "PET_avg             12\n",
              "Ts_avg              12\n",
              "Tmean_avg           12\n",
              "prcp_avg            12\n",
              "vpd_avg             12\n",
              "prcp-lag3_avg       12\n",
              "ESACCI-sm_avg      236\n",
              "b1_avg              91\n",
              "b2_avg              86\n",
              "b3_avg              91\n",
              "b4_avg              91\n",
              "b5_avg              91\n",
              "b6_avg              91\n",
              "b7_avg              91\n",
              "EVI_avg            118\n",
              "GCI_avg            101\n",
              "NDVI_avg           102\n",
              "NDWI_avg            91\n",
              "NIRv_avg           102\n",
              "kNDVI_avg           91\n",
              "Percent_Snow_avg    28\n",
              "Fpar_avg           136\n",
              "Lai_avg            136"
            ],
            "text/html": [
              "\n",
              "  <div id=\"df-8c782442-1505-4cee-b12a-3f0affbcf1e8\">\n",
              "    <div class=\"colab-df-container\">\n",
              "      <div>\n",
              "<style scoped>\n",
              "    .dataframe tbody tr th:only-of-type {\n",
              "        vertical-align: middle;\n",
              "    }\n",
              "\n",
              "    .dataframe tbody tr th {\n",
              "        vertical-align: top;\n",
              "    }\n",
              "\n",
              "    .dataframe thead th {\n",
              "        text-align: right;\n",
              "    }\n",
              "</style>\n",
              "<table border=\"1\" class=\"dataframe\">\n",
              "  <thead>\n",
              "    <tr style=\"text-align: right;\">\n",
              "      <th></th>\n",
              "      <th>0</th>\n",
              "    </tr>\n",
              "  </thead>\n",
              "  <tbody>\n",
              "    <tr>\n",
              "      <th>P_F_avg</th>\n",
              "      <td>2</td>\n",
              "    </tr>\n",
              "    <tr>\n",
              "      <th>NETRAD_avg</th>\n",
              "      <td>178</td>\n",
              "    </tr>\n",
              "    <tr>\n",
              "      <th>ET_avg</th>\n",
              "      <td>6</td>\n",
              "    </tr>\n",
              "    <tr>\n",
              "      <th>CSIF-SIFdaily_avg</th>\n",
              "      <td>24</td>\n",
              "    </tr>\n",
              "    <tr>\n",
              "      <th>CSIF-SIFinst_avg</th>\n",
              "      <td>24</td>\n",
              "    </tr>\n",
              "    <tr>\n",
              "      <th>PET_avg</th>\n",
              "      <td>12</td>\n",
              "    </tr>\n",
              "    <tr>\n",
              "      <th>Ts_avg</th>\n",
              "      <td>12</td>\n",
              "    </tr>\n",
              "    <tr>\n",
              "      <th>Tmean_avg</th>\n",
              "      <td>12</td>\n",
              "    </tr>\n",
              "    <tr>\n",
              "      <th>prcp_avg</th>\n",
              "      <td>12</td>\n",
              "    </tr>\n",
              "    <tr>\n",
              "      <th>vpd_avg</th>\n",
              "      <td>12</td>\n",
              "    </tr>\n",
              "    <tr>\n",
              "      <th>prcp-lag3_avg</th>\n",
              "      <td>12</td>\n",
              "    </tr>\n",
              "    <tr>\n",
              "      <th>ESACCI-sm_avg</th>\n",
              "      <td>236</td>\n",
              "    </tr>\n",
              "    <tr>\n",
              "      <th>b1_avg</th>\n",
              "      <td>91</td>\n",
              "    </tr>\n",
              "    <tr>\n",
              "      <th>b2_avg</th>\n",
              "      <td>86</td>\n",
              "    </tr>\n",
              "    <tr>\n",
              "      <th>b3_avg</th>\n",
              "      <td>91</td>\n",
              "    </tr>\n",
              "    <tr>\n",
              "      <th>b4_avg</th>\n",
              "      <td>91</td>\n",
              "    </tr>\n",
              "    <tr>\n",
              "      <th>b5_avg</th>\n",
              "      <td>91</td>\n",
              "    </tr>\n",
              "    <tr>\n",
              "      <th>b6_avg</th>\n",
              "      <td>91</td>\n",
              "    </tr>\n",
              "    <tr>\n",
              "      <th>b7_avg</th>\n",
              "      <td>91</td>\n",
              "    </tr>\n",
              "    <tr>\n",
              "      <th>EVI_avg</th>\n",
              "      <td>118</td>\n",
              "    </tr>\n",
              "    <tr>\n",
              "      <th>GCI_avg</th>\n",
              "      <td>101</td>\n",
              "    </tr>\n",
              "    <tr>\n",
              "      <th>NDVI_avg</th>\n",
              "      <td>102</td>\n",
              "    </tr>\n",
              "    <tr>\n",
              "      <th>NDWI_avg</th>\n",
              "      <td>91</td>\n",
              "    </tr>\n",
              "    <tr>\n",
              "      <th>NIRv_avg</th>\n",
              "      <td>102</td>\n",
              "    </tr>\n",
              "    <tr>\n",
              "      <th>kNDVI_avg</th>\n",
              "      <td>91</td>\n",
              "    </tr>\n",
              "    <tr>\n",
              "      <th>Percent_Snow_avg</th>\n",
              "      <td>28</td>\n",
              "    </tr>\n",
              "    <tr>\n",
              "      <th>Fpar_avg</th>\n",
              "      <td>136</td>\n",
              "    </tr>\n",
              "    <tr>\n",
              "      <th>Lai_avg</th>\n",
              "      <td>136</td>\n",
              "    </tr>\n",
              "  </tbody>\n",
              "</table>\n",
              "</div>\n",
              "      <button class=\"colab-df-convert\" onclick=\"convertToInteractive('df-8c782442-1505-4cee-b12a-3f0affbcf1e8')\"\n",
              "              title=\"Convert this dataframe to an interactive table.\"\n",
              "              style=\"display:none;\">\n",
              "        \n",
              "  <svg xmlns=\"http://www.w3.org/2000/svg\" height=\"24px\"viewBox=\"0 0 24 24\"\n",
              "       width=\"24px\">\n",
              "    <path d=\"M0 0h24v24H0V0z\" fill=\"none\"/>\n",
              "    <path d=\"M18.56 5.44l.94 2.06.94-2.06 2.06-.94-2.06-.94-.94-2.06-.94 2.06-2.06.94zm-11 1L8.5 8.5l.94-2.06 2.06-.94-2.06-.94L8.5 2.5l-.94 2.06-2.06.94zm10 10l.94 2.06.94-2.06 2.06-.94-2.06-.94-.94-2.06-.94 2.06-2.06.94z\"/><path d=\"M17.41 7.96l-1.37-1.37c-.4-.4-.92-.59-1.43-.59-.52 0-1.04.2-1.43.59L10.3 9.45l-7.72 7.72c-.78.78-.78 2.05 0 2.83L4 21.41c.39.39.9.59 1.41.59.51 0 1.02-.2 1.41-.59l7.78-7.78 2.81-2.81c.8-.78.8-2.07 0-2.86zM5.41 20L4 18.59l7.72-7.72 1.47 1.35L5.41 20z\"/>\n",
              "  </svg>\n",
              "      </button>\n",
              "      \n",
              "  <style>\n",
              "    .colab-df-container {\n",
              "      display:flex;\n",
              "      flex-wrap:wrap;\n",
              "      gap: 12px;\n",
              "    }\n",
              "\n",
              "    .colab-df-convert {\n",
              "      background-color: #E8F0FE;\n",
              "      border: none;\n",
              "      border-radius: 50%;\n",
              "      cursor: pointer;\n",
              "      display: none;\n",
              "      fill: #1967D2;\n",
              "      height: 32px;\n",
              "      padding: 0 0 0 0;\n",
              "      width: 32px;\n",
              "    }\n",
              "\n",
              "    .colab-df-convert:hover {\n",
              "      background-color: #E2EBFA;\n",
              "      box-shadow: 0px 1px 2px rgba(60, 64, 67, 0.3), 0px 1px 3px 1px rgba(60, 64, 67, 0.15);\n",
              "      fill: #174EA6;\n",
              "    }\n",
              "\n",
              "    [theme=dark] .colab-df-convert {\n",
              "      background-color: #3B4455;\n",
              "      fill: #D2E3FC;\n",
              "    }\n",
              "\n",
              "    [theme=dark] .colab-df-convert:hover {\n",
              "      background-color: #434B5C;\n",
              "      box-shadow: 0px 1px 3px 1px rgba(0, 0, 0, 0.15);\n",
              "      filter: drop-shadow(0px 1px 2px rgba(0, 0, 0, 0.3));\n",
              "      fill: #FFFFFF;\n",
              "    }\n",
              "  </style>\n",
              "\n",
              "      <script>\n",
              "        const buttonEl =\n",
              "          document.querySelector('#df-8c782442-1505-4cee-b12a-3f0affbcf1e8 button.colab-df-convert');\n",
              "        buttonEl.style.display =\n",
              "          google.colab.kernel.accessAllowed ? 'block' : 'none';\n",
              "\n",
              "        async function convertToInteractive(key) {\n",
              "          const element = document.querySelector('#df-8c782442-1505-4cee-b12a-3f0affbcf1e8');\n",
              "          const dataTable =\n",
              "            await google.colab.kernel.invokeFunction('convertToInteractive',\n",
              "                                                     [key], {});\n",
              "          if (!dataTable) return;\n",
              "\n",
              "          const docLinkHtml = 'Like what you see? Visit the ' +\n",
              "            '<a target=\"_blank\" href=https://colab.research.google.com/notebooks/data_table.ipynb>data table notebook</a>'\n",
              "            + ' to learn more about interactive tables.';\n",
              "          element.innerHTML = '';\n",
              "          dataTable['output_type'] = 'display_data';\n",
              "          await google.colab.output.renderOutput(dataTable, element);\n",
              "          const docLink = document.createElement('div');\n",
              "          docLink.innerHTML = docLinkHtml;\n",
              "          element.appendChild(docLink);\n",
              "        }\n",
              "      </script>\n",
              "    </div>\n",
              "  </div>\n",
              "  "
            ]
          },
          "metadata": {},
          "execution_count": 338
        }
      ]
    },
    {
      "cell_type": "code",
      "source": [
        "static_raw_df_countNA[static_raw_df_countNA[0] != 0].index"
      ],
      "metadata": {
        "colab": {
          "base_uri": "https://localhost:8080/"
        },
        "id": "f4EBZeX5ji2h",
        "outputId": "67eb0219-1817-4094-8eda-b9157862ebcd"
      },
      "execution_count": 339,
      "outputs": [
        {
          "output_type": "execute_result",
          "data": {
            "text/plain": [
              "Index(['P_F_avg', 'NETRAD_avg', 'ET_avg', 'CSIF-SIFdaily_avg',\n",
              "       'CSIF-SIFinst_avg', 'PET_avg', 'Ts_avg', 'Tmean_avg', 'prcp_avg',\n",
              "       'vpd_avg', 'prcp-lag3_avg', 'ESACCI-sm_avg', 'b1_avg', 'b2_avg',\n",
              "       'b3_avg', 'b4_avg', 'b5_avg', 'b6_avg', 'b7_avg', 'EVI_avg', 'GCI_avg',\n",
              "       'NDVI_avg', 'NDWI_avg', 'NIRv_avg', 'kNDVI_avg', 'Percent_Snow_avg',\n",
              "       'Fpar_avg', 'Lai_avg'],\n",
              "      dtype='object')"
            ]
          },
          "metadata": {},
          "execution_count": 339
        }
      ]
    },
    {
      "cell_type": "markdown",
      "source": [
        "# Use parquet -> Spark df as preparation for global data"
      ],
      "metadata": {
        "id": "q4kQt1rwd9aB"
      }
    },
    {
      "cell_type": "markdown",
      "source": [
        "## DF to Parquet format\n",
        "- Pandas is converted to parquet in order to make the following code usable with global data in AWS"
      ],
      "metadata": {
        "id": "d8rrnNxPXdko"
      }
    },
    {
      "cell_type": "code",
      "source": [
        "type(static_raw_df)"
      ],
      "metadata": {
        "colab": {
          "base_uri": "https://localhost:8080/"
        },
        "id": "Xd0tP_T6bNsg",
        "outputId": "1602e90c-d88b-47df-a697-65a5306351be"
      },
      "execution_count": 340,
      "outputs": [
        {
          "output_type": "execute_result",
          "data": {
            "text/plain": [
              "pandas.core.frame.DataFrame"
            ]
          },
          "metadata": {},
          "execution_count": 340
        }
      ]
    },
    {
      "cell_type": "markdown",
      "source": [
        "### Method 1"
      ],
      "metadata": {
        "id": "Qb9AtztzeKd9"
      }
    },
    {
      "cell_type": "code",
      "source": [
        "!pip install fastparquet"
      ],
      "metadata": {
        "colab": {
          "base_uri": "https://localhost:8080/"
        },
        "id": "2AYJCcKCbcsD",
        "outputId": "12bae713-2bf1-4317-8acd-285ee69b613e"
      },
      "execution_count": 341,
      "outputs": [
        {
          "output_type": "stream",
          "name": "stdout",
          "text": [
            "Looking in indexes: https://pypi.org/simple, https://us-python.pkg.dev/colab-wheels/public/simple/\n",
            "Requirement already satisfied: fastparquet in /usr/local/lib/python3.8/dist-packages (2023.2.0)\n",
            "Requirement already satisfied: packaging in /usr/local/lib/python3.8/dist-packages (from fastparquet) (23.0)\n",
            "Requirement already satisfied: cramjam>=2.3 in /usr/local/lib/python3.8/dist-packages (from fastparquet) (2.6.2)\n",
            "Requirement already satisfied: numpy>=1.20.3 in /usr/local/lib/python3.8/dist-packages (from fastparquet) (1.21.6)\n",
            "Requirement already satisfied: pandas>=1.5.0 in /usr/local/lib/python3.8/dist-packages (from fastparquet) (1.5.3)\n",
            "Requirement already satisfied: fsspec in /usr/local/lib/python3.8/dist-packages (from fastparquet) (2023.1.0)\n",
            "Requirement already satisfied: pytz>=2020.1 in /usr/local/lib/python3.8/dist-packages (from pandas>=1.5.0->fastparquet) (2022.7.1)\n",
            "Requirement already satisfied: python-dateutil>=2.8.1 in /usr/local/lib/python3.8/dist-packages (from pandas>=1.5.0->fastparquet) (2.8.2)\n",
            "Requirement already satisfied: six>=1.5 in /usr/local/lib/python3.8/dist-packages (from python-dateutil>=2.8.1->pandas>=1.5.0->fastparquet) (1.15.0)\n"
          ]
        }
      ]
    },
    {
      "cell_type": "code",
      "source": [
        "static_raw_df.to_parquet('static_raw_df_pq', engine='fastparquet')"
      ],
      "metadata": {
        "id": "Oa8fI0_xdN1a"
      },
      "execution_count": 342,
      "outputs": []
    },
    {
      "cell_type": "markdown",
      "source": [
        "### Method 2"
      ],
      "metadata": {
        "id": "kFelfgXQeNpG"
      }
    },
    {
      "cell_type": "code",
      "source": [
        "# Convert df to parquet\n",
        "import pyarrow as pa\n",
        "import pyarrow.parquet as pq\n",
        "\n",
        "# Convert DataFrame to Apache Arrow Table\n",
        "table = pa.Table.from_pandas(static_raw_df)\n",
        "# Second, write the table into parquet file say file_name.parquet\n",
        "# Parquet with Brotli compression\n",
        "pq.write_table(table, 'static_raw_df_pq.parquet')"
      ],
      "metadata": {
        "id": "3Ted6TVhXi4h"
      },
      "execution_count": 343,
      "outputs": []
    },
    {
      "cell_type": "markdown",
      "source": [
        "## parquet to Spark df "
      ],
      "metadata": {
        "id": "p2salxn1eiE1"
      }
    },
    {
      "cell_type": "code",
      "source": [
        "# Parquet is read from \n",
        "# When running Spark in AWS through the access to Azure, update the location and file name \n",
        "static_monthly_sdf = spark.read.parquet('static_raw_df_pq')"
      ],
      "metadata": {
        "id": "3rJHcmg0YoBq"
      },
      "execution_count": 344,
      "outputs": []
    },
    {
      "cell_type": "code",
      "source": [
        "static_monthly_sdf.printSchema()"
      ],
      "metadata": {
        "colab": {
          "base_uri": "https://localhost:8080/"
        },
        "id": "HJW15CSPwSA4",
        "outputId": "c0df31ca-9e1f-4200-d28c-418e74d8e327"
      },
      "execution_count": 345,
      "outputs": [
        {
          "output_type": "stream",
          "name": "stdout",
          "text": [
            "root\n",
            " |-- SITE_ID: string (nullable = true)\n",
            " |-- SITE_IGBP: string (nullable = true)\n",
            " |-- month: long (nullable = true)\n",
            " |-- TA_F_avg: double (nullable = true)\n",
            " |-- VPD_F_avg: double (nullable = true)\n",
            " |-- P_F_avg: double (nullable = true)\n",
            " |-- NETRAD_avg: double (nullable = true)\n",
            " |-- NEE_VUT_REF_avg: double (nullable = true)\n",
            " |-- NEE_VUT_REF_QC_avg: double (nullable = true)\n",
            " |-- NEE_CUT_REF_avg: double (nullable = true)\n",
            " |-- NEE_CUT_REF_QC_avg: double (nullable = true)\n",
            " |-- GPP_NT_VUT_REF_avg: double (nullable = true)\n",
            " |-- GPP_DT_VUT_REF_avg: double (nullable = true)\n",
            " |-- GPP_NT_CUT_REF_avg: double (nullable = true)\n",
            " |-- GPP_DT_CUT_REF_avg: double (nullable = true)\n",
            " |-- RECO_NT_VUT_REF_avg: double (nullable = true)\n",
            " |-- RECO_DT_VUT_REF_avg: double (nullable = true)\n",
            " |-- RECO_NT_CUT_REF_avg: double (nullable = true)\n",
            " |-- RECO_DT_CUT_REF_avg: double (nullable = true)\n",
            " |-- ET_avg: double (nullable = true)\n",
            " |-- BESS-PAR_avg: double (nullable = true)\n",
            " |-- BESS-PARdiff_avg: double (nullable = true)\n",
            " |-- BESS-RSDN_avg: double (nullable = true)\n",
            " |-- CSIF-SIFdaily_avg: double (nullable = true)\n",
            " |-- CSIF-SIFinst_avg: double (nullable = true)\n",
            " |-- PET_avg: double (nullable = true)\n",
            " |-- Ts_avg: double (nullable = true)\n",
            " |-- Tmean_avg: double (nullable = true)\n",
            " |-- prcp_avg: double (nullable = true)\n",
            " |-- vpd_avg: double (nullable = true)\n",
            " |-- prcp-lag3_avg: double (nullable = true)\n",
            " |-- ESACCI-sm_avg: double (nullable = true)\n",
            " |-- b1_avg: double (nullable = true)\n",
            " |-- b2_avg: double (nullable = true)\n",
            " |-- b3_avg: double (nullable = true)\n",
            " |-- b4_avg: double (nullable = true)\n",
            " |-- b5_avg: double (nullable = true)\n",
            " |-- b6_avg: double (nullable = true)\n",
            " |-- b7_avg: double (nullable = true)\n",
            " |-- EVI_avg: double (nullable = true)\n",
            " |-- GCI_avg: double (nullable = true)\n",
            " |-- NDVI_avg: double (nullable = true)\n",
            " |-- NDWI_avg: double (nullable = true)\n",
            " |-- NIRv_avg: double (nullable = true)\n",
            " |-- kNDVI_avg: double (nullable = true)\n",
            " |-- Percent_Snow_avg: double (nullable = true)\n",
            " |-- Fpar_avg: double (nullable = true)\n",
            " |-- Lai_avg: double (nullable = true)\n",
            " |-- LST_Day_avg: double (nullable = true)\n",
            " |-- LST_Night_avg: double (nullable = true)\n",
            " |-- CO2_concentration_avg: double (nullable = true)\n",
            " |-- dataset: string (nullable = true)\n",
            " |-- MODIS_LC: long (nullable = true)\n",
            " |-- MODIS_IGBP: string (nullable = true)\n",
            " |-- MODIS_PFT: string (nullable = true)\n",
            " |-- koppen_sub: string (nullable = true)\n",
            " |-- koppen: string (nullable = true)\n",
            " |-- hemisphere: string (nullable = true)\n",
            " |-- LOCATION_LAT: double (nullable = true)\n",
            " |-- LOCATION_LONG: double (nullable = true)\n",
            "\n"
          ]
        }
      ]
    },
    {
      "cell_type": "code",
      "source": [
        "static_monthly_sdf.show(truncate=False)"
      ],
      "metadata": {
        "colab": {
          "base_uri": "https://localhost:8080/"
        },
        "id": "Bp0VRw4iwVCJ",
        "outputId": "03bf245c-b72b-413f-8274-3e2ed7ec1093"
      },
      "execution_count": 346,
      "outputs": [
        {
          "output_type": "stream",
          "name": "stdout",
          "text": [
            "+-------+---------+-----+--------+---------+-------+------------+---------------+------------------+---------------+------------------+------------------+------------------+------------------+------------------+-------------------+-------------------+-------------------+-------------------+---------+------------+----------------+-------------+-----------------+----------------+-------------+----------+----------+------------+----------+-------------+-------------+------------+-----------+------------+-----------+-----------+-----------+-----------+----------+----------+-----------+------------+-----------+-----------+----------------+--------+-------+-----------+-------------+---------------------+-------+--------+----------+---------+----------+---------+----------+------------+-------------+\n",
            "|SITE_ID|SITE_IGBP|month|TA_F_avg|VPD_F_avg|P_F_avg|NETRAD_avg  |NEE_VUT_REF_avg|NEE_VUT_REF_QC_avg|NEE_CUT_REF_avg|NEE_CUT_REF_QC_avg|GPP_NT_VUT_REF_avg|GPP_DT_VUT_REF_avg|GPP_NT_CUT_REF_avg|GPP_DT_CUT_REF_avg|RECO_NT_VUT_REF_avg|RECO_DT_VUT_REF_avg|RECO_NT_CUT_REF_avg|RECO_DT_CUT_REF_avg|ET_avg   |BESS-PAR_avg|BESS-PARdiff_avg|BESS-RSDN_avg|CSIF-SIFdaily_avg|CSIF-SIFinst_avg|PET_avg      |Ts_avg    |Tmean_avg |prcp_avg    |vpd_avg   |prcp-lag3_avg|ESACCI-sm_avg|b1_avg      |b2_avg     |b3_avg      |b4_avg     |b5_avg     |b6_avg     |b7_avg     |EVI_avg   |GCI_avg   |NDVI_avg   |NDWI_avg    |NIRv_avg   |kNDVI_avg  |Percent_Snow_avg|Fpar_avg|Lai_avg|LST_Day_avg|LST_Night_avg|CO2_concentration_avg|dataset|MODIS_LC|MODIS_IGBP|MODIS_PFT|koppen_sub|koppen   |hemisphere|LOCATION_LAT|LOCATION_LONG|\n",
            "+-------+---------+-----+--------+---------+-------+------------+---------------+------------------+---------------+------------------+------------------+------------------+------------------+------------------+-------------------+-------------------+-------------------+-------------------+---------+------------+----------------+-------------+-----------------+----------------+-------------+----------+----------+------------+----------+-------------+-------------+------------+-----------+------------+-----------+-----------+-----------+-----------+----------+----------+-----------+------------+-----------+-----------+----------------+--------+-------+-----------+-------------+---------------------+-------+--------+----------+---------+----------+---------+----------+------------+-------------+\n",
            "|AR-SLu |MF       |1    |27.866  |22.5575  |1.342  |189.43463965|-5.63097       |0.957661          |-5.60975       |0.9596775         |10.079865         |10.95108          |9.997845          |10.94816          |4.32928            |5.65853            |4.366645           |5.765395           |7.6038803|153.5       |41.0            |334.5        |0.16403178       |0.414979635     |-0.013073508 |302.574405|299.828585|0.001772498 |2.03664685|0.006010333  |0.153384385  |0.09253548  |0.256977425|0.0494725795|0.08471935 |0.295833885|0.26280321 |0.173582255|0.32125923|2.05372285|0.470343115|-0.011007202|0.121492897|0.22022151 |0.0             |0.44    |1.0    |314.2      |292.94       |388.2825             |FLUXNET|7       |OSH       |SH       |BSk       |Arid     |S         |-33.4648    |-66.4598     |\n",
            "|AR-SLu |MF       |2    |25.6745 |13.821   |3.1785 |144.7072039 |-4.059005      |0.97061           |-4.04795       |0.971354          |8.41383           |9.4218            |8.306475          |9.545365          |4.23054            |5.52517            |4.243325           |5.75019            |7.7764213|121.5       |43.0            |262.0        |0.15997129       |0.42636281      |-0.0092950615|298.639895|296.936525|0.002944978 |1.1516008 |0.0073267615 |0.175047605  |0.0867714225|0.2524607  |0.045864285 |0.07913214 |0.28822319 |0.24849107 |0.15951427 |0.27830008|2.19926095|0.488729185|0.007994725 |0.12356264 |0.235471735|0.0             |0.445   |0.95   |309.2      |291.96       |388.6475             |FLUXNET|7       |OSH       |SH       |BSk       |Arid     |S         |-33.4648    |-66.4598     |\n",
            "|AR-SLu |MF       |3    |24.2735 |14.146   |0.644  |128.89173435|-4.032335      |0.908938          |-4.034525      |0.908938          |7.418585          |8.867375          |7.399075          |8.893495          |3.38424            |5.64335            |3.36857            |5.80582            |5.717461 |110.5       |32.5            |239.0        |0.146427695      |0.40985045      |-0.0086858455|297.30115 |295.82452 |0.001617301 |1.25924785|0.006334777  |0.164725275  |0.07812742  |0.24211126 |0.041369356 |0.07207096 |0.273061275|0.233709645|0.14571612 |0.25689518|2.3697313 |0.511243235|0.0172287225|0.124453005|0.2576048  |0.0             |0.465   |0.95   |308.53     |290.36       |389.065              |FLUXNET|7       |OSH       |SH       |BSk       |Arid     |S         |-33.4648    |-66.4598     |\n",
            "|AR-SLu |MF       |4    |18.45   |9.185    |0.1    |71.50069342 |-3.11159       |0.9625            |-3.10705       |0.9625            |5.72781           |6.54333           |5.6526            |6.6073            |2.55268            |4.14082            |2.54582            |4.04346            |2.3456645|81.0        |27.0            |175.0        |0.076728895      |0.22387202      |-0.00675834  |291.69604 |290.61377 |2.09161E-4  |0.9461956 |0.005547076  |0.12401654   |0.08740333  |0.21581332 |0.0453      |0.074543335|0.26009    |0.23482999 |0.14688666 |0.22921446|1.8959624 |0.42358848 |-0.042024087|0.09139932 |0.17754844 |0.0             |0.36    |0.5    |303.24     |286.34       |388.905              |FLUXNET|7       |OSH       |SH       |BSk       |Arid     |S         |-33.4648    |-66.4598     |\n",
            "|AR-SLu |MF       |5    |13.493  |5.823    |1.852  |41.24914909 |-1.71633       |0.895833          |-1.55985       |0.913978          |3.47763           |4.15484           |3.56473           |4.16886           |1.78421            |3.35165            |1.84822            |3.54627            |2.2079997|56.0        |19.0            |122.0        |0.066020064      |0.20063505      |-0.004725121 |287.05652 |286.8832  |8.41617E-4  |0.7162909 |0.003256932  |0.14272605   |0.076190315 |0.19819355 |0.03887419  |0.06480969 |0.23148388 |0.20281611 |0.124199994|0.22352917|2.0611055 |0.4453674  |-0.010640754|0.08814689 |0.19591969 |0.0             |0.37    |0.5    |296.2      |277.82       |389.32               |FLUXNET|7       |OSH       |SH       |BSk       |Arid     |S         |-33.4648    |-66.4598     |\n",
            "|AR-SLu |MF       |6    |11.273  |5.219    |0.03   |30.2579338  |-0.156183      |0.94375           |-0.105029      |0.926389          |2.77385           |3.77937           |2.97199           |3.69195           |2.86141            |3.07628            |2.83905            |3.19315            |1.7267979|48.0        |15.0            |105.0        |0.055993885      |0.17740785      |-0.003966339 |284.32104 |284.76154 |2.66855E-4  |0.57913876|0.001317633  |0.15315518   |0.071046665 |0.17955999 |0.038123343 |0.06306333 |0.21496001 |0.19131334 |0.12397998 |0.20550561|1.8486056 |0.4330553  |-0.0314929  |0.07776146 |0.1854466  |0.0             |0.33    |0.4    |293.18     |276.8        |389.16               |FLUXNET|7       |OSH       |SH       |BSk       |Arid     |S         |-33.4648    |-66.4598     |\n",
            "|AR-SLu |MF       |7    |8.131   |4.949    |0.003  |46.75980628 |-1.64934       |0.964382          |-1.6375        |0.966398          |3.74133           |4.96256           |3.88709           |4.70483           |2.16416            |3.1695             |2.23946            |2.74352            |1.7385347|58.0        |15.0            |129.0        |0.044577617      |0.14184037      |-0.004890211 |282.39343 |282.44458 |6.62E-5     |0.6524327 |0.00117464   |0.11506776   |0.07951935  |0.17683226 |0.042067744 |0.06696773 |0.21454516 |0.2047129  |0.13839355 |0.18182558|1.6429125 |0.3800115  |-0.07298639 |0.067186974|0.14383936 |0.0             |0.32    |0.4    |292.12     |271.64       |388.495              |FLUXNET|7       |OSH       |SH       |BSk       |Arid     |S         |-33.4648    |-66.4598     |\n",
            "|AR-SLu |MF       |8    |12.124  |7.232    |0.148  |55.41014468 |-2.23663       |0.978495          |-2.22838       |0.978495          |4.9923            |4.62644           |4.95418           |4.64296           |2.7185             |2.09411            |2.71076            |2.00605            |1.7703171|72.0        |23.0            |158.0        |0.03940548       |0.118864134     |-0.006607018 |285.98975 |285.50317 |3.56059E-4  |0.8266134 |6.89082E-4   |0.12942678   |0.09146129  |0.18079355 |0.048974194 |0.075180635|0.22952907 |0.23047417 |0.1616032  |0.16395012|1.4065467 |0.3283708  |-0.12023627 |0.05933451 |0.10749994 |0.0             |0.26    |0.3    |298.98     |276.72       |387.915              |FLUXNET|7       |OSH       |SH       |BSk       |Arid     |S         |-33.4648    |-66.4598     |\n",
            "|AR-SLu |MF       |9    |16.113  |9.808    |1.283  |86.53253167 |-2.95153       |0.963889          |-2.95475       |0.964583          |6.2686            |6.19395           |6.08643           |6.33314           |3.13943            |2.84475            |3.13342            |3.08513            |2.7933466|92.0        |30.0            |202.0        |0.043048184      |0.118709184     |-0.007369228 |289.56998 |288.48505 |0.002409217 |0.89762795|0.002831445  |0.14007734   |0.101566665 |0.1950833  |0.05354333  |0.08152667 |0.25225836 |0.2574     |0.18707831 |0.16664456|1.3936689 |0.3154251  |-0.13769455 |0.061513435|0.09918764 |0.0             |0.25    |0.4    |303.02     |281.76       |387.31               |FLUXNET|7       |OSH       |SH       |BSk       |Arid     |S         |-33.4648    |-66.4598     |\n",
            "|AR-SLu |MF       |10   |19.115  |12.24    |2.671  |139.2401875 |-3.73166       |0.953629          |-3.73326       |0.959677          |7.98788           |8.25182           |7.96167           |8.14738           |4.20854            |4.47926            |4.21798            |4.50649            |4.8010826|124.0       |35.0            |271.0        |0.076557115      |0.19472006      |-0.009151526 |292.5633  |291.09125 |0.002530932 |1.0285672 |0.005296208  |0.16722338   |0.10122257  |0.21530966 |0.05306129  |0.0860129  |0.26885805 |0.26544514 |0.18909998 |0.19995353|1.5004112 |0.3590074  |-0.10536736 |0.077747405|0.1290034  |0.0             |0.32    |0.6    |305.08     |283.92       |387.55               |FLUXNET|7       |OSH       |SH       |BSk       |Arid     |S         |-33.4648    |-66.4598     |\n",
            "|AR-SLu |MF       |11   |22.858  |16.296   |0.81   |173.9497797 |-6.00411       |0.968056          |-5.96293       |0.970139          |10.4461           |10.7219           |10.2667           |10.7466           |4.35485            |4.69055            |4.26435            |4.7534             |5.8108234|147.0       |39.0            |322.0        |0.10822074       |0.26523668      |-0.01190903  |298.02554 |295.46375 |0.001110932 |1.6364233 |0.006051082  |0.14072989   |0.10894999  |0.24585332 |0.05752999  |0.094583325|0.29778334 |0.2814067  |0.19225997 |0.2331288 |1.5993953 |0.38592288 |-0.06737776 |0.09486858 |0.14786734 |0.0             |0.38    |0.8    |311.82     |288.0        |388.235              |FLUXNET|7       |OSH       |SH       |BSk       |Arid     |S         |-33.4648    |-66.4598     |\n",
            "|AR-SLu |MF       |12   |26.557  |23.211   |1.452  |189.600544  |-6.22158       |0.956989          |-6.21564       |0.956989          |10.0834           |10.7608           |9.96545           |10.8208           |3.69831            |4.30853            |3.74785            |4.52984            |5.165505 |157.0       |38.0            |344.0        |0.09730604       |0.23855111      |-0.014495663 |303.0575  |299.54413 |7.41054E-4  |2.4140742 |0.004382919  |0.14455558   |0.11138387  |0.24245161 |0.05899677  |0.09506773 |0.29779354 |0.2889032  |0.20476452 |0.22321212|1.5519823 |0.3706127  |-0.08736732 |0.08984783 |0.1366967  |0.0             |0.35    |0.7    |316.2      |291.4        |388.75               |FLUXNET|7       |OSH       |SH       |BSk       |Arid     |S         |-33.4648    |-66.4598     |\n",
            "|AR-Vir |ENF      |1    |25.919  |14.784   |1.452  |189.1051942 |2.4987         |0.877016          |2.553          |0.891129          |9.53072           |6.34549           |9.30065           |6.34549           |12.2756            |6.78025            |12.6908            |7.10146            |9.281486 |150.0       |47.0            |324.0        |0.3494609        |0.9085131       |-0.01105988  |301.64825 |300.6665  |0.001870857 |1.7350304 |0.009305812  |0.26168758   |0.06387419  |0.3275161  |0.031280644 |0.070906445|0.3460742  |0.2344516  |0.11076774 |0.44647938|3.620046  |0.67362356 |0.16564138  |0.22062938 |0.42500442 |0.0             |0.69    |3.1    |309.94     |292.14       |391.225              |FLUXNET|9       |SAV       |SA       |Cfa       |Temperate|S         |-28.2395    |-56.1886     |\n",
            "|AR-Vir |ENF      |2    |27.029  |13.938   |2.527  |150.5470389 |7.44355        |0.947557          |7.41292        |0.954023          |9.59927           |8.24366           |9.19908           |8.24366           |16.9636            |14.1833            |15.72              |15.1568            |6.7530193|121.0       |52.0            |255.0        |0.26720712       |0.72544396      |-0.00967826  |302.7314  |301.5807  |0.002279734 |1.6173695 |0.006079263  |0.2692186    |0.06477931  |0.2922965  |0.031231033 |0.06542069 |0.32060343 |0.23018274 |0.11693103 |0.39317164|3.470528  |0.6372466  |0.1188409   |0.18631247 |0.38526174 |0.0             |0.61    |2.5    |311.02     |292.78       |391.4                |FLUXNET|9       |SAV       |SA       |Cfa       |Temperate|S         |-28.2395    |-56.1886     |\n",
            "|AR-Vir |ENF      |3    |24.9195 |12.4605  |3.9145 |142.08231355|1.60475        |0.858535          |1.5817025      |0.8817205         |13.8881           |7.806275          |13.31903          |7.7112            |15.7005            |8.65984            |14.3857            |7.63387            |7.2362366|118.0       |36.0            |254.5        |0.313996195      |0.88879205      |-0.007453259 |298.5054  |297.933225|0.0027833935|1.10024945|0.010990424  |0.29710038   |0.0450354815|0.30415484 |0.0219370935|0.054498387|0.309704825|0.190743535|0.082679023|0.45933421|4.60410225|0.7404052  |0.22903804  |0.226034135|0.499046595|0.0             |0.745   |3.15   |305.17     |291.36       |389.9825             |FLUXNET|9       |SAV       |SA       |Cfa       |Temperate|S         |-28.2395    |-56.1886     |\n",
            "|AR-Vir |ENF      |4    |20.4675 |8.387    |4.631  |85.57819323 |1.635354       |0.819444          |1.5061405      |0.838889          |10.13185          |6.515125          |9.814505          |6.570175          |11.44755           |7.297995           |11.40915           |6.432765           |4.9795215|81.0        |29.5            |173.5        |0.26116757       |0.76350602      |-0.0051999335|293.69821 |293.63446 |0.004823732 |0.68947115|0.011155757  |0.320321715  |0.0435541665|0.279762505|0.0217666665|0.050094995|0.28902751 |0.18101833 |0.076498332|0.42847745|4.6103293 |0.730016295|0.21436794  |0.204560685|0.48761016 |0.0             |0.715   |2.65   |299.35     |287.34       |390.8475             |FLUXNET|9       |SAV       |SA       |Cfa       |Temperate|S         |-28.2395    |-56.1886     |\n",
            "|AR-Vir |ENF      |5    |20.006  |7.626    |1.224  |null        |4.8528         |0.891801          |5.02183        |0.90121           |5.89162           |6.42116           |5.75568           |7.07354           |11.0221            |10.2619            |11.2361            |11.3157            |4.509406 |72.0        |22.0            |155.0        |0.21216469       |0.6418207       |-0.004194588 |291.5248  |291.99167 |0.001743921 |0.5905777 |0.010005684  |0.29509848   |0.042503223 |0.25533545 |0.021574194 |0.047890324|0.27579996 |0.18327098 |0.08056129 |0.39448062|4.3321667 |0.7143966  |0.16418244  |0.18246947 |0.47022924 |0.0             |0.73    |2.3    |298.18     |285.38       |393.19               |FLUXNET|9       |SAV       |SA       |Cfa       |Temperate|S         |-28.2395    |-56.1886     |\n",
            "|AR-Vir |ENF      |6    |15.16   |4.068    |4.856  |37.76854272 |5.26425        |0.834028          |5.36241        |0.846528          |6.64917           |6.29664           |6.99431           |6.44581           |11.8187            |7.09799            |11.6898            |7.98667            |2.1825423|49.0        |21.0            |106.0        |0.21136451       |0.66069496      |-0.002709828 |287.3152  |287.61026 |0.004878097 |0.308961  |0.010896325  |0.37292463   |0.04551     |0.265645   |0.02331833  |0.047519993|0.2756     |0.17112999 |0.071069986|null      |4.5897164 |0.7073928  |0.21640767  |0.18787028 |0.46244016 |0.0             |0.7     |2.1    |292.0      |281.88       |390.84               |FLUXNET|9       |SAV       |SA       |Cfa       |Temperate|S         |-28.2395    |-56.1886     |\n",
            "|AR-Vir |ENF      |7    |15.362  |4.55     |6.061  |46.5743705  |3.50276        |0.80914           |3.42835        |0.819892          |7.68518           |6.28015           |8.12367           |6.42871           |11.2728            |7.11283            |11.0458            |8.00337            |2.934696 |55.0        |24.0            |119.0        |0.18242584       |0.5726544       |-0.003015079 |286.8988  |287.3287  |0.005048112 |0.34641075|0.011951554  |0.386298     |0.049298387 |0.25191775 |0.024267739 |0.047822576|0.27553546 |0.17595968 |0.08001129 |null      |4.26773   |0.6725123  |0.17755991  |0.16946024 |0.42379475 |0.0             |0.67    |2.0    |291.5      |280.04       |390.465              |FLUXNET|9       |SAV       |SA       |Cfa       |Temperate|S         |-28.2395    |-56.1886     |\n",
            "|AR-Vir |ENF      |8    |17.22   |6.829    |3.84   |72.39104898 |2.17606        |0.886425          |2.13632        |0.891801          |8.49029           |7.15995           |8.5811            |7.31832           |10.6443            |7.27947            |10.6756            |8.19088            |4.944075 |72.0        |28.0            |158.0        |0.18276119       |0.54865426      |-0.004576981 |288.80756 |288.95483 |0.002513979 |0.44519192|0.012440188  |0.38348413   |0.051193543 |0.24463867 |0.02522258  |0.0491613  |0.2748258  |0.19289358 |0.09262904 |null      |3.977813  |0.6539308  |0.11838274  |0.15997273 |0.4033405  |0.0             |0.66    |2.2    |294.08     |282.52       |389.56               |FLUXNET|9       |SAV       |SA       |Cfa       |Temperate|S         |-28.2395    |-56.1886     |\n",
            "+-------+---------+-----+--------+---------+-------+------------+---------------+------------------+---------------+------------------+------------------+------------------+------------------+------------------+-------------------+-------------------+-------------------+-------------------+---------+------------+----------------+-------------+-----------------+----------------+-------------+----------+----------+------------+----------+-------------+-------------+------------+-----------+------------+-----------+-----------+-----------+-----------+----------+----------+-----------+------------+-----------+-----------+----------------+--------+-------+-----------+-------------+---------------------+-------+--------+----------+---------+----------+---------+----------+------------+-------------+\n",
            "only showing top 20 rows\n",
            "\n"
          ]
        }
      ]
    },
    {
      "cell_type": "markdown",
      "source": [],
      "metadata": {
        "id": "vRgmbZ-6wUuD"
      }
    },
    {
      "cell_type": "code",
      "source": [
        "display(static_monthly_sdf)"
      ],
      "metadata": {
        "colab": {
          "base_uri": "https://localhost:8080/",
          "height": 202
        },
        "id": "xd7yYPgGZLqB",
        "outputId": "08830780-26c4-4c23-a81f-11384d543ed5"
      },
      "execution_count": 347,
      "outputs": [
        {
          "output_type": "display_data",
          "data": {
            "text/plain": [
              "DataFrame[SITE_ID: string, SITE_IGBP: string, month: bigint, TA_F_avg: double, VPD_F_avg: double, P_F_avg: double, NETRAD_avg: double, NEE_VUT_REF_avg: double, NEE_VUT_REF_QC_avg: double, NEE_CUT_REF_avg: double, NEE_CUT_REF_QC_avg: double, GPP_NT_VUT_REF_avg: double, GPP_DT_VUT_REF_avg: double, GPP_NT_CUT_REF_avg: double, GPP_DT_CUT_REF_avg: double, RECO_NT_VUT_REF_avg: double, RECO_DT_VUT_REF_avg: double, RECO_NT_CUT_REF_avg: double, RECO_DT_CUT_REF_avg: double, ET_avg: double, BESS-PAR_avg: double, BESS-PARdiff_avg: double, BESS-RSDN_avg: double, CSIF-SIFdaily_avg: double, CSIF-SIFinst_avg: double, PET_avg: double, Ts_avg: double, Tmean_avg: double, prcp_avg: double, vpd_avg: double, prcp-lag3_avg: double, ESACCI-sm_avg: double, b1_avg: double, b2_avg: double, b3_avg: double, b4_avg: double, b5_avg: double, b6_avg: double, b7_avg: double, EVI_avg: double, GCI_avg: double, NDVI_avg: double, NDWI_avg: double, NIRv_avg: double, kNDVI_avg: double, Percent_Snow_avg: double, Fpar_avg: double, Lai_avg: double, LST_Day_avg: double, LST_Night_avg: double, CO2_concentration_avg: double, dataset: string, MODIS_LC: bigint, MODIS_IGBP: string, MODIS_PFT: string, koppen_sub: string, koppen: string, hemisphere: string, LOCATION_LAT: double, LOCATION_LONG: double]"
            ]
          },
          "metadata": {}
        }
      ]
    },
    {
      "cell_type": "code",
      "source": [
        "print(type(static_monthly_sdf))"
      ],
      "metadata": {
        "colab": {
          "base_uri": "https://localhost:8080/"
        },
        "id": "ClKIUI0Ddum-",
        "outputId": "1faba449-2c3b-44e7-e00f-025f0d504107"
      },
      "execution_count": 348,
      "outputs": [
        {
          "output_type": "stream",
          "name": "stdout",
          "text": [
            "<class 'pyspark.sql.dataframe.DataFrame'>\n"
          ]
        }
      ]
    },
    {
      "cell_type": "markdown",
      "source": [
        "## Rename column name to avoid hyphen"
      ],
      "metadata": {
        "id": "EqN96933s5V5"
      }
    },
    {
      "cell_type": "code",
      "source": [
        "static_monthly_sdf = static_monthly_sdf.withColumnRenamed('BESS-PAR_avg','BESS_PAR_avg')\\\n",
        "              .withColumnRenamed('BESS-RSDN_avg','BESS_RSDN_avg')\\\n",
        "              .withColumnRenamed('BESS-PARdiff_avg','BESS_PARdiff_avg')\\\n",
        "              .withColumnRenamed('CSIF-SIFdaily_avg','CSIF_SIFdaily_avg')\\\n",
        "              .withColumnRenamed('CSIF-SIFinst_avg','CSIF_SIFinst_avg')\\\n",
        "              .withColumnRenamed('prcp-lag3_avg','prcp_lag3_avg')\\\n",
        "              .withColumnRenamed('ESACCI-sm_avg','ESACCI_sm_avg')"
      ],
      "metadata": {
        "id": "0d7zjMFvs5BM"
      },
      "execution_count": 349,
      "outputs": []
    },
    {
      "cell_type": "markdown",
      "source": [
        "# Imputation with pyspark"
      ],
      "metadata": {
        "id": "68QPJ2XDewY3"
      }
    },
    {
      "cell_type": "code",
      "source": [
        "from pyspark.sql.functions import col"
      ],
      "metadata": {
        "id": "dfIqnxRvZW_0"
      },
      "execution_count": 350,
      "outputs": []
    },
    {
      "cell_type": "code",
      "source": [
        "# code that counts the number of None in each feature\n",
        "from pyspark.sql.functions import isnull, when, count, col\n",
        "\n",
        "static_monthly_sdf.select([count(when(isnull(c), c)).alias(c) for c in static_monthly_sdf.columns]).show()"
      ],
      "metadata": {
        "outputId": "b5b35f60-d7e2-467c-89ba-54015f2edfa5",
        "colab": {
          "base_uri": "https://localhost:8080/"
        },
        "id": "U5zvGt88o2yP"
      },
      "execution_count": 351,
      "outputs": [
        {
          "output_type": "stream",
          "name": "stdout",
          "text": [
            "+-------+---------+-----+--------+---------+-------+----------+---------------+------------------+---------------+------------------+------------------+------------------+------------------+------------------+-------------------+-------------------+-------------------+-------------------+------+------------+----------------+-------------+-----------------+----------------+-------+------+---------+--------+-------+-------------+-------------+------+------+------+------+------+------+------+-------+-------+--------+--------+--------+---------+----------------+--------+-------+-----------+-------------+---------------------+-------+--------+----------+---------+----------+------+----------+------------+-------------+\n",
            "|SITE_ID|SITE_IGBP|month|TA_F_avg|VPD_F_avg|P_F_avg|NETRAD_avg|NEE_VUT_REF_avg|NEE_VUT_REF_QC_avg|NEE_CUT_REF_avg|NEE_CUT_REF_QC_avg|GPP_NT_VUT_REF_avg|GPP_DT_VUT_REF_avg|GPP_NT_CUT_REF_avg|GPP_DT_CUT_REF_avg|RECO_NT_VUT_REF_avg|RECO_DT_VUT_REF_avg|RECO_NT_CUT_REF_avg|RECO_DT_CUT_REF_avg|ET_avg|BESS_PAR_avg|BESS_PARdiff_avg|BESS_RSDN_avg|CSIF_SIFdaily_avg|CSIF_SIFinst_avg|PET_avg|Ts_avg|Tmean_avg|prcp_avg|vpd_avg|prcp_lag3_avg|ESACCI_sm_avg|b1_avg|b2_avg|b3_avg|b4_avg|b5_avg|b6_avg|b7_avg|EVI_avg|GCI_avg|NDVI_avg|NDWI_avg|NIRv_avg|kNDVI_avg|Percent_Snow_avg|Fpar_avg|Lai_avg|LST_Day_avg|LST_Night_avg|CO2_concentration_avg|dataset|MODIS_LC|MODIS_IGBP|MODIS_PFT|koppen_sub|koppen|hemisphere|LOCATION_LAT|LOCATION_LONG|\n",
            "+-------+---------+-----+--------+---------+-------+----------+---------------+------------------+---------------+------------------+------------------+------------------+------------------+------------------+-------------------+-------------------+-------------------+-------------------+------+------------+----------------+-------------+-----------------+----------------+-------+------+---------+--------+-------+-------------+-------------+------+------+------+------+------+------+------+-------+-------+--------+--------+--------+---------+----------------+--------+-------+-----------+-------------+---------------------+-------+--------+----------+---------+----------+------+----------+------------+-------------+\n",
            "|      0|        0|    0|       0|        0|      2|       178|              0|                 0|              0|                 0|                 0|                 0|                 0|                 0|                  0|                  0|                  0|                  0|     6|           0|               0|            0|               24|              24|     12|    12|       12|      12|     12|           12|          236|    91|    86|    91|    91|    91|    91|    91|    118|    101|     102|      91|     102|       91|              28|     136|    136|          0|            0|                    0|      0|       0|         0|        0|         0|     0|         0|           0|            0|\n",
            "+-------+---------+-----+--------+---------+-------+----------+---------------+------------------+---------------+------------------+------------------+------------------+------------------+------------------+-------------------+-------------------+-------------------+-------------------+------+------------+----------------+-------------+-----------------+----------------+-------+------+---------+--------+-------+-------------+-------------+------+------+------+------+------+------+------+-------+-------+--------+--------+--------+---------+----------------+--------+-------+-----------+-------------+---------------------+-------+--------+----------+---------+----------+------+----------+------------+-------------+\n",
            "\n"
          ]
        }
      ]
    },
    {
      "cell_type": "code",
      "source": [
        "\n",
        "impute_features = ['P_F_avg', 'NETRAD_avg', 'ET_avg', 'CSIF_SIFdaily_avg', 'CSIF_SIFinst_avg',\n",
        "       'PET_avg', 'Ts_avg', 'Tmean_avg', 'prcp_avg',\n",
        "       'vpd_avg', 'prcp_lag3_avg', 'ESACCI_sm_avg', 'b1_avg', 'b2_avg',\n",
        "       'b3_avg', 'b4_avg', 'b5_avg', 'b6_avg', 'b7_avg', 'EVI_avg', 'GCI_avg',\n",
        "       'NDVI_avg', 'NDWI_avg', 'NIRv_avg', 'kNDVI_avg', 'Percent_Snow_avg',\n",
        "       'Fpar_avg', 'Lai_avg']\n",
        "\n",
        "\n",
        "# impute_features = ['P_F_avg', 'NETRAD_avg', 'ET_avg', 'CSIF_SIFdaily_avg', 'CSIF_SIFinst_avg',\n",
        "#        'PET_avg', 'Ts_avg', 'Tmean_avg', 'prcp_avg',\n",
        "#        'vpd_avg', 'prcp-lag3_avg', 'ESACCI-sm_avg', 'b1_avg', 'b2_avg',\n",
        "#        'b3_avg', 'b4_avg', 'b5_avg', 'b6_avg', 'b7_avg', 'EVI_avg', 'GCI_avg',\n",
        "#        'NDVI_avg', 'NDWI_avg', 'NIRv_avg', 'kNDVI_avg', 'Percent_Snow_avg',\n",
        "#        'Fpar_avg', 'Lai_avg']"
      ],
      "metadata": {
        "id": "oKOz3SRdj7xT"
      },
      "execution_count": 352,
      "outputs": []
    },
    {
      "cell_type": "markdown",
      "source": [
        "## `P_F_avg`"
      ],
      "metadata": {
        "id": "RWvUT7uNnc23"
      }
    },
    {
      "cell_type": "code",
      "source": [
        "static_monthly_sdf.filter(static_monthly_sdf.P_F_avg.isNull()).show()"
      ],
      "metadata": {
        "colab": {
          "base_uri": "https://localhost:8080/"
        },
        "id": "4r0NGYp6nXAX",
        "outputId": "6660f464-28b5-458d-9604-ea623a6e9e80"
      },
      "execution_count": 353,
      "outputs": [
        {
          "output_type": "stream",
          "name": "stdout",
          "text": [
            "+-------+---------+-----+--------+---------+-------+----------+---------------+------------------+---------------+------------------+------------------+------------------+------------------+------------------+-------------------+-------------------+-------------------+-------------------+-----------+------------+----------------+-------------+-----------------+----------------+-----------+---------+---------+-----------+-----------+-------------+-------------+---------+---------+---------+----------+----------+----------+-----------+---------+----------+----------+---------+-----------+-----------+----------------+--------+-------+-----------+-------------+---------------------+--------+--------+----------+---------+----------+------+----------+------------+-------------+\n",
            "|SITE_ID|SITE_IGBP|month|TA_F_avg|VPD_F_avg|P_F_avg|NETRAD_avg|NEE_VUT_REF_avg|NEE_VUT_REF_QC_avg|NEE_CUT_REF_avg|NEE_CUT_REF_QC_avg|GPP_NT_VUT_REF_avg|GPP_DT_VUT_REF_avg|GPP_NT_CUT_REF_avg|GPP_DT_CUT_REF_avg|RECO_NT_VUT_REF_avg|RECO_DT_VUT_REF_avg|RECO_NT_CUT_REF_avg|RECO_DT_CUT_REF_avg|     ET_avg|BESS_PAR_avg|BESS_PARdiff_avg|BESS_RSDN_avg|CSIF_SIFdaily_avg|CSIF_SIFinst_avg|    PET_avg|   Ts_avg|Tmean_avg|   prcp_avg|    vpd_avg|prcp_lag3_avg|ESACCI_sm_avg|   b1_avg|   b2_avg|   b3_avg|    b4_avg|    b5_avg|    b6_avg|     b7_avg|  EVI_avg|   GCI_avg|  NDVI_avg| NDWI_avg|   NIRv_avg|  kNDVI_avg|Percent_Snow_avg|Fpar_avg|Lai_avg|LST_Day_avg|LST_Night_avg|CO2_concentration_avg| dataset|MODIS_LC|MODIS_IGBP|MODIS_PFT|koppen_sub|koppen|hemisphere|LOCATION_LAT|LOCATION_LONG|\n",
            "+-------+---------+-----+--------+---------+-------+----------+---------------+------------------+---------------+------------------+------------------+------------------+------------------+------------------+-------------------+-------------------+-------------------+-------------------+-----------+------------+----------------+-------------+-----------------+----------------+-----------+---------+---------+-----------+-----------+-------------+-------------+---------+---------+---------+----------+----------+----------+-----------+---------+----------+----------+---------+-----------+-----------+----------------+--------+-------+-----------+-------------+---------------------+--------+--------+----------+---------+----------+------+----------+------------+-------------+\n",
            "| FI-Ken|      ENF|    1|  -8.098|    0.324|   null|      null|       0.547567|          0.978495|       0.544447|          0.978495|        -0.0956793|        2.65861E-4|         -0.102308|        2.66524E-4|           0.446868|           0.270257|           0.446868|           0.240902|0.007593992|         3.0|             2.0|          1.0|      -4.80027E-4|    -0.005784949| -6.4718E-4|263.74496|264.44626|0.001747349|0.044339098|   0.00549283|         null|     null|     null|     null|      null|      null|      null|       null|     null|      null|      null|     null|       null|       null|            null|    null|   null|      261.2|       260.38|              411.225|ICOS2020|       8|       WSA|       SA|       Dfc|  Cold|         N|    67.98721|     24.24301|\n",
            "| FI-Ken|      ENF|    2|  -8.211|    0.316|   null|      null|       0.776336|          0.992098|       0.773862|          0.992098|        -0.0962187|         0.0202116|        -0.0962187|         0.0204085|           0.668904|           0.543605|           0.668904|           0.520794| 0.16026917|        26.0|            16.0|         13.0|     -0.001893983|    -0.010316826|-5.83664E-4|  263.703| 264.1902|0.001715399| 0.04403585|  0.005825157|         null|0.2366923|0.3184346|0.2917077|0.26916155|0.20286538|0.07397307|0.030996155|0.3732564|0.18400565|0.14786285|0.6234217|0.047125485|0.022058656|           100.0|    null|   null|     259.42|        257.1|              411.455|ICOS2020|       8|       WSA|       SA|       Dfc|  Cold|         N|    67.98721|     24.24301|\n",
            "+-------+---------+-----+--------+---------+-------+----------+---------------+------------------+---------------+------------------+------------------+------------------+------------------+------------------+-------------------+-------------------+-------------------+-------------------+-----------+------------+----------------+-------------+-----------------+----------------+-----------+---------+---------+-----------+-----------+-------------+-------------+---------+---------+---------+----------+----------+----------+-----------+---------+----------+----------+---------+-----------+-----------+----------------+--------+-------+-----------+-------------+---------------------+--------+--------+----------+---------+----------+------+----------+------------+-------------+\n",
            "\n"
          ]
        }
      ]
    },
    {
      "cell_type": "markdown",
      "source": [
        "### Impute with average in `FI-Ken`"
      ],
      "metadata": {
        "id": "iGSjp7aQnovo"
      }
    },
    {
      "cell_type": "code",
      "source": [
        "static_monthly_sdf = static_monthly_sdf.fillna(\n",
        "    value = static_monthly_sdf\n",
        "    .filter(static_monthly_sdf.SITE_ID == 'FI-Ken')\n",
        "    .select(mean('P_F_avg')).head()[0],\n",
        "    subset = ['P_F_avg'])"
      ],
      "metadata": {
        "id": "xvPMy50onogK"
      },
      "execution_count": 354,
      "outputs": []
    },
    {
      "cell_type": "code",
      "source": [
        "static_monthly_sdf.filter(static_monthly_sdf.SITE_ID == 'FI-Ken').show()"
      ],
      "metadata": {
        "colab": {
          "base_uri": "https://localhost:8080/"
        },
        "id": "VBqZUrQXoI2q",
        "outputId": "15399ca1-a5bc-4708-95a2-24fb63400ef0"
      },
      "execution_count": 355,
      "outputs": [
        {
          "output_type": "stream",
          "name": "stdout",
          "text": [
            "+-------+---------+-----+------------------+-----------------+-------+----------+------------------+------------------+------------------+------------------+------------------+------------------+------------------+------------------+-------------------+-------------------+-------------------+-------------------+------------------+----------------+----------------+----------------+------------------+-----------------+-------------------+----------------+----------------+------------------+------------------+------------------+-----------------+------------------+-----------------+------------------+------------------+-----------------+------------------+------------------+-----------------+----------------+-----------------+-----------------+-----------------+-----------------+----------------+-----------------+----------------+----------------+----------------+---------------------+--------+--------+----------+---------+----------+------+----------+------------+-------------+\n",
            "|SITE_ID|SITE_IGBP|month|          TA_F_avg|        VPD_F_avg|P_F_avg|NETRAD_avg|   NEE_VUT_REF_avg|NEE_VUT_REF_QC_avg|   NEE_CUT_REF_avg|NEE_CUT_REF_QC_avg|GPP_NT_VUT_REF_avg|GPP_DT_VUT_REF_avg|GPP_NT_CUT_REF_avg|GPP_DT_CUT_REF_avg|RECO_NT_VUT_REF_avg|RECO_DT_VUT_REF_avg|RECO_NT_CUT_REF_avg|RECO_DT_CUT_REF_avg|            ET_avg|    BESS_PAR_avg|BESS_PARdiff_avg|   BESS_RSDN_avg| CSIF_SIFdaily_avg| CSIF_SIFinst_avg|            PET_avg|          Ts_avg|       Tmean_avg|          prcp_avg|           vpd_avg|     prcp_lag3_avg|    ESACCI_sm_avg|            b1_avg|           b2_avg|            b3_avg|            b4_avg|           b5_avg|            b6_avg|            b7_avg|          EVI_avg|         GCI_avg|         NDVI_avg|         NDWI_avg|         NIRv_avg|        kNDVI_avg|Percent_Snow_avg|         Fpar_avg|         Lai_avg|     LST_Day_avg|   LST_Night_avg|CO2_concentration_avg| dataset|MODIS_LC|MODIS_IGBP|MODIS_PFT|koppen_sub|koppen|hemisphere|LOCATION_LAT|LOCATION_LONG|\n",
            "+-------+---------+-----+------------------+-----------------+-------+----------+------------------+------------------+------------------+------------------+------------------+------------------+------------------+------------------+-------------------+-------------------+-------------------+-------------------+------------------+----------------+----------------+----------------+------------------+-----------------+-------------------+----------------+----------------+------------------+------------------+------------------+-----------------+------------------+-----------------+------------------+------------------+-----------------+------------------+------------------+-----------------+----------------+-----------------+-----------------+-----------------+-----------------+----------------+-----------------+----------------+----------------+----------------+---------------------+--------+--------+----------+---------+----------+------+----------+------------+-------------+\n",
            "| FI-Ken|      ENF|    1|            -8.098|            0.324|1.92055|      null|          0.547567|          0.978495|          0.544447|          0.978495|        -0.0956793|        2.65861E-4|         -0.102308|        2.66524E-4|           0.446868|           0.270257|           0.446868|           0.240902|       0.007593992|             3.0|             2.0|             1.0|       -4.80027E-4|     -0.005784949|         -6.4718E-4|       263.74496|       264.44626|       0.001747349|       0.044339098|        0.00549283|             null|              null|             null|              null|              null|             null|              null|              null|             null|            null|             null|             null|             null|             null|            null|             null|            null|           261.2|          260.38|              411.225|ICOS2020|       8|       WSA|       SA|       Dfc|  Cold|         N|    67.98721|     24.24301|\n",
            "| FI-Ken|      ENF|    2|            -8.211|            0.316|1.92055|      null|          0.776336|          0.992098|          0.773862|          0.992098|        -0.0962187|         0.0202116|        -0.0962187|         0.0204085|           0.668904|           0.543605|           0.668904|           0.520794|        0.16026917|            26.0|            16.0|            13.0|      -0.001893983|     -0.010316826|        -5.83664E-4|         263.703|        264.1902|       0.001715399|        0.04403585|       0.005825157|             null|         0.2366923|        0.3184346|         0.2917077|        0.26916155|       0.20286538|        0.07397307|       0.030996155|        0.3732564|      0.18400565|       0.14786285|        0.6234217|      0.047125485|      0.022058656|           100.0|             null|            null|          259.42|           257.1|              411.455|ICOS2020|       8|       WSA|       SA|       Dfc|  Cold|         N|    67.98721|     24.24301|\n",
            "| FI-Ken|      ENF|    3|            -6.105|            0.971|   1.57|      null|          0.485916|           0.96875|          0.485733|           0.96875|       0.011520825|        0.05346445|       0.011876735|         0.0555262|          0.4966505|          0.4817925|          0.4966505|          0.4840395|        0.83050665|            65.5|            34.5|            53.5|        -0.0032724|     -0.010667664|       -0.003115602|       265.97783|       266.44112|       0.001472373|         0.0786608|      0.0045078215|             null|        0.26563227|       0.33705242|        0.30306451|        0.28272337|      0.215345145|       0.075471773|       0.032663713|      0.272593005|     0.193140995|     0.1194401905|      0.632886425|     0.0399228575|      0.014532655|       96.080645|            0.135|             0.2|          265.16|          259.23|             410.3725|ICOS2020|       8|       WSA|       SA|       Dfc|  Cold|         N|    67.98721|     24.24301|\n",
            "| FI-Ken|      ENF|    4|            -0.327|            2.183|  0.323|      null|        0.23613766|         0.9402775|        0.23727166|         0.9402775|           0.63294|          0.527016|          0.631849|         0.5299425|          0.8725485|           0.731751|          0.8725485|           0.740511|         1.9833842|           131.0|            74.0|           118.5|     -0.0030575315|      -0.00807076|       -0.007089946|       271.68592|       272.04457|       7.899365E-4|        0.13733645|       0.003902888|             null|       0.309067525|       0.36440602|       0.322988555|        0.32258972|       0.18666655|       0.071915945|      0.0325012645|      0.178245725|     0.131697575|      0.082474133|      0.670972985|     0.0300377765|      0.007004239|           100.0|            0.115|            0.15|          270.17|          263.37|               411.33|ICOS2020|       8|       WSA|       SA|       Dfc|  Cold|         N|    67.98721|     24.24301|\n",
            "| FI-Ken|      ENF|    5|            6.1105|           3.7675| 2.7775|      null|         -1.078043|         0.9482525|         -1.081403|          0.955645|          2.884935|           2.95063|          2.872605|           2.92616|            1.80952|           1.945585|           1.801965|           1.946155|         2.4287744|            77.5|            43.0|           169.0|       0.075574902|      0.157568685|       -0.011874862|      277.824085|      278.443985|       0.002139901|       0.282670875|      0.0040571045|      0.296634955|         0.1436613|      0.234643555|       0.129316125|        0.14517579|       0.17522338|        0.10812822|       0.053425806|       0.19255369|       1.7222496|        0.3552416|       0.34293659|      0.066076455|      0.178831085|       40.532259|             0.21|            0.45|          281.45|          271.67|               409.45|ICOS2020|       8|       WSA|       SA|       Dfc|  Cold|         N|    67.98721|     24.24301|\n",
            "| FI-Ken|      ENF|    6|  10.9836666666667|            5.668|  2.186|      null|          -1.68279| 0.935648333333333|          -1.68255| 0.939351666666667|           4.76945|  5.29104666666667|            4.7416|  5.27713333333333|            3.07672|            3.42231|            3.08094|   3.55632666666667|  2.93504003333333|           205.0|            94.0|193.666666666667| 0.221751893333333|       0.43157219|       -0.015934783|       283.65651|284.004376666667|0.0025921776666666| 0.483034123333333|        0.00537735|       0.28341635|0.0379516693333333|0.195010556666667|0.0198349993333333|       0.042421662|0.223387233333333| 0.144880006666667|0.0659933343333333|0.307868283333333|3.78918393333333|0.678562423333333|       0.14751302|0.132502626666667|       0.43274194|1.14444446666667|             0.47|1.26666666666667|          288.72|          277.74|               410.62|ICOS2020|       8|       WSA|       SA|       Dfc|  Cold|         N|    67.98721|     24.24301|\n",
            "| FI-Ken|      ENF|    7|            14.731| 6.26433333333333|   0.99|      null|-0.786735333333333| 0.859990666666667|-0.792535333333333| 0.872087666666667|           6.10611|  6.26521333333333|  6.06002666666667|  6.21284666666667|   5.30853666666667|   5.67626666666667|   5.31844666666667|   5.48848333333333|  2.59799603333333|169.333333333333|84.6666666666667|192.666666666667|        0.27934115|0.571478166666667|-0.0144039516666667|287.874133333333|288.070676666667|0.0025359446666666| 0.564174793333333|0.0069773043333333|0.272132543333333|0.0291462343333333|       0.21816344|0.0150333336666667|0.0386322576666667|       0.23280107| 0.136839786666667|0.0556505396666667|0.368994133333333|4.67871196666667|0.764171993333333|       0.22971753|       0.16677891|0.525480216666667|             0.0|0.593333333333333|1.76666666666667|292.006666666667|280.433333333333|     409.863333333333|ICOS2020|       8|       WSA|       SA|       Dfc|  Cold|         N|    67.98721|     24.24301|\n",
            "| FI-Ken|      ENF|    8|            11.973|            3.439|  4.045|      null|         0.0539092|         0.9442205|       0.052266095|         0.9499325|          5.769375|          5.612465|           5.68836|          5.511805|            5.81458|            5.33719|           5.797935|            5.31789|        0.28822638|           143.5|            79.5|           119.0|        0.21249656|       0.50268183|       -0.009686869|      285.514175|       285.46408|      0.0033222635|        0.34354617|       0.008773473|       0.25754152|      0.0284822565|      0.208628215|       0.013525805|       0.035592744|      0.221179025|       0.126174975|       0.050548384|       0.35211025|      4.85304615|      0.758828585|       0.24732255|       0.15854297|       0.51958953|             0.0|            0.555|             1.3|          287.98|          277.74|             409.1075|ICOS2020|       8|       WSA|       SA|       Dfc|  Cold|         N|    67.98721|     24.24301|\n",
            "| FI-Ken|      ENF|    9|  6.62633333333333|            1.585|  2.453|      null| 0.805749666666667| 0.965046333333333| 0.797891666666667|          0.968287|  2.61917333333333|           2.77215|  2.63613666666667|  2.82088666666667|            3.42666|   3.41043333333333|   3.42371666666667|   3.36205666666667| 0.113748986666667|            68.0|33.6666666666667|68.6666666666667|       0.093138207|0.275696363333333|-0.0053209116666666|       280.03014|280.013526666667|       0.002550133| 0.167122116666667|0.0080973606666666|0.263948573333333|       0.032962378|0.171304583333333|0.0153408783333333|0.0340733596666667|0.184351763333333| 0.104631916666667|0.0441502183333333|       0.27549356|4.04844613333333|0.675947466666667|0.240283203333333|      0.116084318|       0.42767334|             0.0|0.436666666666667|             0.8|281.086666666667|          273.46|     408.701666666667|ICOS2020|       8|       WSA|       SA|       Dfc|  Cold|         N|    67.98721|     24.24301|\n",
            "| FI-Ken|      ENF|   10|-0.780333333333333|0.350666666666667| 1.3175|      null|          0.939121| 0.957885333333333| 0.938806333333333| 0.958109333333333| 0.444461333333333| 0.576811333333333| 0.429592666666667| 0.568093666666667|   1.38010333333333|           1.287131|            1.37556|   1.37777666666667|       0.038786279|            15.0|10.3333333333333|            18.0|0.0157418826666667|       0.06359762|-0.0012558303333333|272.207436666667|272.341056666667|       0.002075761|0.0509803886666667|0.0076371773333333|0.292396316666667|0.0363592503333333|0.143035806666667|       0.023167998|0.0377941033333333|0.153285303333333|0.0880738806666667|0.0411549023333333|       0.22444337|       3.0595003|0.600683806666667|0.237033836666667|       0.08555578|       0.34803205|47.3545126666667|             0.44|             0.8|269.386666666667|266.493333333333|     408.838333333333|ICOS2020|       8|       WSA|       SA|       Dfc|  Cold|         N|    67.98721|     24.24301|\n",
            "| FI-Ken|      ENF|   11| -3.78333333333333|0.331666666666667| 1.0885|      null| 0.673094333333333|          0.915509| 0.680792666666667|          0.915046|         0.0578414|0.0958506666666667|0.0603487066666667|0.0498982666666667|  0.724247333333333|  0.689854333333333|           0.734015|            0.83779|0.0092671283333333|3.33333333333333|2.33333333333333|3.33333333333333|        0.00180776|      0.012932388|        -9.69134E-4|268.642213333333|269.019773333333|0.0015080476666666|0.0454265753333333|       0.006133942|0.285541196666667|       0.041099995|       0.14532499|           0.02395|       0.046799995|       0.15547499|       0.078774996|       0.043899998|       0.21493211|       2.1087658|        0.5590646|       0.29712343|      0.081247255|        0.3027588|       16.666666|             null|            null|          265.22|           264.2|              409.785|ICOS2020|       8|       WSA|       SA|       Dfc|  Cold|         N|    67.98721|     24.24301|\n",
            "| FI-Ken|      ENF|   12|           -7.1195|           0.1905|  2.455|      null|         0.4227185|         0.9583335|           0.42725|         0.9593415|        -0.0011237|      0.0155465705|         0.0090086|      0.0037511545|          0.4224335|          0.6059735|          0.4404525|          0.8520845|           1.13E-5|             0.0|             0.0|             0.0|               0.0|      0.006985491|       -4.693865E-4|       265.33914|      265.675735|       0.001826714|       0.034782935|       0.005427474|             null|              null|             null|              null|              null|             null|              null|              null|             null|            null|             null|             null|             null|             null|            null|             null|            null|          261.19|          260.32|                410.3|ICOS2020|       8|       WSA|       SA|       Dfc|  Cold|         N|    67.98721|     24.24301|\n",
            "+-------+---------+-----+------------------+-----------------+-------+----------+------------------+------------------+------------------+------------------+------------------+------------------+------------------+------------------+-------------------+-------------------+-------------------+-------------------+------------------+----------------+----------------+----------------+------------------+-----------------+-------------------+----------------+----------------+------------------+------------------+------------------+-----------------+------------------+-----------------+------------------+------------------+-----------------+------------------+------------------+-----------------+----------------+-----------------+-----------------+-----------------+-----------------+----------------+-----------------+----------------+----------------+----------------+---------------------+--------+--------+----------+---------+----------+------+----------+------------+-------------+\n",
            "\n"
          ]
        }
      ]
    },
    {
      "cell_type": "markdown",
      "source": [
        "## `NETRAD_avg`"
      ],
      "metadata": {
        "id": "_zX5Br5foU2X"
      }
    },
    {
      "cell_type": "code",
      "source": [
        "static_monthly_sdf.filter(static_monthly_sdf.NETRAD_avg.isNull()).show()"
      ],
      "metadata": {
        "colab": {
          "base_uri": "https://localhost:8080/"
        },
        "id": "5FTGJR79oSoI",
        "outputId": "04ab8144-38d9-4c4e-9abe-ac3000489648"
      },
      "execution_count": 356,
      "outputs": [
        {
          "output_type": "stream",
          "name": "stdout",
          "text": [
            "+-------+---------+-----+--------+---------+----------------+----------+---------------+------------------+---------------+------------------+------------------+------------------+------------------+------------------+-------------------+-------------------+-------------------+-------------------+------------+------------+----------------+-------------+-----------------+----------------+--------------+-----------+-----------+-------------+------------+-------------+-------------+-------------+------------+-------------+-------------+------------+-------------+-------------+------------+-----------+------------+-------------+-------------+------------+----------------+--------+-------+-----------+-------------+---------------------+---------+--------+----------+---------+----------+---------+----------+------------+-------------+\n",
            "|SITE_ID|SITE_IGBP|month|TA_F_avg|VPD_F_avg|         P_F_avg|NETRAD_avg|NEE_VUT_REF_avg|NEE_VUT_REF_QC_avg|NEE_CUT_REF_avg|NEE_CUT_REF_QC_avg|GPP_NT_VUT_REF_avg|GPP_DT_VUT_REF_avg|GPP_NT_CUT_REF_avg|GPP_DT_CUT_REF_avg|RECO_NT_VUT_REF_avg|RECO_DT_VUT_REF_avg|RECO_NT_CUT_REF_avg|RECO_DT_CUT_REF_avg|      ET_avg|BESS_PAR_avg|BESS_PARdiff_avg|BESS_RSDN_avg|CSIF_SIFdaily_avg|CSIF_SIFinst_avg|       PET_avg|     Ts_avg|  Tmean_avg|     prcp_avg|     vpd_avg|prcp_lag3_avg|ESACCI_sm_avg|       b1_avg|      b2_avg|       b3_avg|       b4_avg|      b5_avg|       b6_avg|       b7_avg|     EVI_avg|    GCI_avg|    NDVI_avg|     NDWI_avg|     NIRv_avg|   kNDVI_avg|Percent_Snow_avg|Fpar_avg|Lai_avg|LST_Day_avg|LST_Night_avg|CO2_concentration_avg|  dataset|MODIS_LC|MODIS_IGBP|MODIS_PFT|koppen_sub|   koppen|hemisphere|LOCATION_LAT|LOCATION_LONG|\n",
            "+-------+---------+-----+--------+---------+----------------+----------+---------------+------------------+---------------+------------------+------------------+------------------+------------------+------------------+-------------------+-------------------+-------------------+-------------------+------------+------------+----------------+-------------+-----------------+----------------+--------------+-----------+-----------+-------------+------------+-------------+-------------+-------------+------------+-------------+-------------+------------+-------------+-------------+------------+-----------+------------+-------------+-------------+------------+----------------+--------+-------+-----------+-------------+---------------------+---------+--------+----------+---------+----------+---------+----------+------------+-------------+\n",
            "| AR-Vir|      ENF|    5|  20.006|    7.626|           1.224|      null|         4.8528|          0.891801|        5.02183|           0.90121|           5.89162|           6.42116|           5.75568|           7.07354|            11.0221|            10.2619|            11.2361|            11.3157|    4.509406|        72.0|            22.0|        155.0|       0.21216469|       0.6418207|  -0.004194588|   291.5248|  291.99167|  0.001743921|   0.5905777|  0.010005684|   0.29509848|  0.042503223|  0.25533545|  0.021574194|  0.047890324|  0.27579996|   0.18327098|   0.08056129|  0.39448062|  4.3321667|   0.7143966|   0.16418244|   0.18246947|  0.47022924|             0.0|    0.73|    2.3|     298.18|       285.38|               393.19|  FLUXNET|       9|       SAV|       SA|       Cfa|Temperate|         S|    -28.2395|     -56.1886|\n",
            "| BE-Maa|      CSH|    1| 3.66225|  1.12875|           2.833|      null|       0.304147|        0.96152575|       0.304028|        0.96152575|          0.464334|         0.5174775|        0.46435825|        0.51341575|           0.769372|         0.87837975|           0.766292|          0.8628985|0.2149366125|       22.25|           12.75|        27.75|     0.0396302125|      0.17138174| -0.0014064965|276.5362425|277.3064425|0.00247381025|0.1223605975|  0.007397868| 0.3108623975|0.06474997025|0.1726067225|0.04336361925|0.05992341375|0.1830609675|0.12555985875| 0.0674875425|0.2185371975|2.491221725|0.4971276425| 0.1426074375|   0.08112625|0.2512217425|      1.73790325|  0.3875|   0.55|    276.625|      272.515|            405.51125| ICOS2020|       9|       SAV|       SA|       Cfb|Temperate|         N|    50.97987|     5.631851|\n",
            "| BE-Maa|      CSH|    2|  4.2996|   1.9104|           2.234|      null|     0.20551714|         0.9771964|     0.20353258|         0.9783818|         0.4816496|         0.5318378|         0.4856078|         0.5362514|          0.6849712|          0.7355396|          0.6871714|          0.7452074|  0.74627713|        42.4|            23.0|         59.8|      0.038126278|     0.143820654| -0.0025856884| 277.271238|  277.80453| 0.0026008702| 0.184299602| 0.0074485006|   0.30874792| 0.0622065208| 0.166442044| 0.0360794612| 0.0548639116|  0.19352753|  0.152455398| 0.0872392168| 0.205104484|  2.2334574| 0.470681108| 0.0413541076| 0.0768069132|  0.22117785|    0.2035923192|   0.438|    0.7|    279.216|      272.164|              406.443| ICOS2020|       9|       SAV|       SA|       Cfb|Temperate|         N|    50.97987|     5.631851|\n",
            "| BE-Maa|      CSH|    3|  6.5378|   2.8038|         2.61425|      null|      0.2340052|         0.9715054|      0.2336926|         0.9724464|         0.6233236|          0.632293|         0.6221112|         0.6429456|          0.8568438|          0.8425868|           0.856554|          0.8727718|  2.01541768|        80.8|            40.2|        103.0|      0.055409913|     0.175160924| -0.0038091782| 279.729636|  279.87808| 0.0025001274| 0.250296822|  0.007519722|   0.30414688| 0.0642197998|  0.17523115| 0.0348958264| 0.0552897206| 0.213745814|  0.179864016|  0.108153631| 0.213625948|  2.1731125| 0.463719508|-0.0121915242|   0.08128646| 0.211968116|    0.0083757788|   0.438|   0.76|    284.172|      272.576|              406.819| ICOS2020|       9|       SAV|       SA|       Cfb|Temperate|         N|    50.97987|     5.631851|\n",
            "| BE-Maa|      CSH|    4| 10.2152|    5.196|         1.55975|      null|     0.14199084|         0.9495834|       0.145646|         0.9497222|          1.153516|         1.0866392|         1.1535622|         1.0896374|          1.2990666|          1.1499494|          1.2990742|          1.1530744|  4.07488282|       136.2|            59.6|        169.0|      0.111895338|     0.305912726| -0.0059371562| 284.021736| 283.742744| 0.0014347112|  0.42745627| 0.0065357086|   0.27523938| 0.0672867128| 0.202204112|   0.03706842| 0.0613471676| 0.238571914|  0.197923944| 0.1166288188| 0.253835008| 2.29588364|  0.49924751| 0.0100612046| 0.1013546952| 0.245012958|     0.073333334|   0.504|   1.16|    291.876|      276.524|              407.788| ICOS2020|       9|       SAV|       SA|       Cfb|Temperate|         N|    50.97987|     5.631851|\n",
            "| BE-Maa|      CSH|    5|  13.971|   6.3432|           2.012|      null|    -0.25504504|          0.937903|    -0.25877906|          0.940188|          2.035656|          2.042896|          2.033834|          2.053192|           1.784592|           1.800902|          1.7762178|          1.8127328|  5.55633726|       166.4|            74.6|        209.6|      0.209579524|     0.523266822| -0.0071900054|  288.24553| 287.661828| 0.0016599632|  0.57924052| 0.0055948016|  0.258271136| 0.0614056752| 0.245212916| 0.0338589002|  0.061851628| 0.263432008|  0.194818056|    0.1071899| 0.337837658| 2.98054142| 0.598727754| 0.1142752898|  0.147187408| 0.344471718|      0.14193548|   0.566|   1.76|    295.632|      279.624|              408.425| ICOS2020|       9|       SAV|       SA|       Cfb|Temperate|         N|    50.97987|     5.631851|\n",
            "| BE-Maa|      CSH|    6|  17.763|   6.9076|         3.18875|      null|     -0.8199396|          0.983611|      -0.817345|         0.9838888|          3.455786|           3.44363|          3.496062|          3.438918|          2.6395128|           2.631004|          2.6789578|          2.6227646|  5.72509608|       166.8|            82.2|        212.2|      0.281542896|     0.675786508|  -0.007930196| 292.221006| 291.621544| 0.0027142582| 0.700014822| 0.0058089324|  0.255118176| 0.0549205266|  0.26612905| 0.0308849514| 0.0580621952| 0.274408734|  0.188187608|  0.096766919|  0.38716447| 3.59213356| 0.657821208|  0.172022776|  0.175174236|  0.40776471|             0.0|   0.602|   2.12|     299.16|       284.46|              408.277| ICOS2020|       9|       SAV|       SA|       Cfb|Temperate|         N|    50.97987|     5.631851|\n",
            "| BE-Maa|      CSH|    7|  18.999|  8.31575|1.34133333333333|      null|    -0.85245525|        0.96320575|    -0.86347425|        0.96387775|         3.0215125|           3.10806|          3.022345|          3.062955|          2.1643875|           2.266605|           2.158895|          2.1989725| 4.297078575|      170.75|           90.75|        208.0|     0.2743533425|      0.67570065|-0.00813934775|293.4123525|   292.7501|  0.001831183|0.8271625875|0.00620793775|  0.243021185|0.05404513525|  0.26825556|  0.029784072|   0.05629892| 0.274223305|   0.18640727|0.09277464625|0.3911953075|3.776689875| 0.664355975| 0.1799630075| 0.1784444325|0.4150392075|             0.0|  0.5775|  1.875|    298.625|      285.575|            406.87875| ICOS2020|       9|       SAV|       SA|       Cfb|Temperate|         N|    50.97987|     5.631851|\n",
            "| BE-Maa|      CSH|    8|18.44575|  6.93025|2.11533333333333|      null|    -0.07309175|         0.9317875|    -0.08351325|        0.94287625|         2.6199925|          2.655405|           2.62066|           2.64015|           2.544335|            2.64088|          2.5334725|          2.5493525| 2.493241725|      152.25|           74.25|       177.75|     0.2206124175|    0.5876260875|-0.00709671325|  293.34182|  292.92819| 0.0020789995| 0.773134325|0.00668990025| 0.2507989475| 0.0535262845|0.2498052475|   0.02937001| 0.0536483185|0.2575845975|  0.175841655| 0.0884964575|0.3632468425|3.686286175|0.6473791725| 0.1741736025|  0.161866865|  0.39675898|             0.0|   0.615|   1.95|    298.565|      285.895|              406.155| ICOS2020|       9|       SAV|       SA|       Cfb|Temperate|         N|    50.97987|     5.631851|\n",
            "| BE-Maa|      CSH|    9| 14.8755|  4.79625|           1.843|      null|     -0.2287396|        0.90972225|   -0.225395675|          0.910243|           2.12701|         2.2710225|           2.12544|         2.2721025|          1.9014975|            2.08669|         1.88918475|           2.084315| 1.502365725|       113.5|            54.0|        137.0|     0.1709542375|    0.5112564225|-0.00530848275|289.2652575| 289.272465| 0.0020283365|0.5369037325|  0.006412699|  0.257373665|0.04800799875|0.2335326425|  0.025990272| 0.0484996625|0.2413638675|   0.16232882|0.07905878225|  0.34952343|3.817289175|  0.65882234| 0.1800542325|  0.153929735|0.4087497525|             0.0|   0.635|  1.925|      293.9|      282.405|            406.32875| ICOS2020|       9|       SAV|       SA|       Cfb|Temperate|         N|    50.97987|     5.631851|\n",
            "| BE-Maa|      CSH|   10|  11.142|   2.2475|2.44033333333333|      null|     0.47683975|        0.99563175|     0.47632275|        0.99563175|        1.03648425|        1.04462825|          1.035845|          1.067981|           1.513711|         1.51430475|         1.51394725|         1.54172125| 0.497823355|       52.75|           31.75|        64.75|    0.09978179275|      0.34254772| -0.0032614135| 284.821345|  285.14858|  0.002412126|0.2780390175|0.00663540625| 0.2870797625|  0.046957127|0.1999584125|0.02493585875|0.04598252825|  0.21390177|  0.142646445| 0.0690661575|0.2950344525|3.357766425| 0.618779525|   0.16702448| 0.1239420075|0.3654596625|             0.0|  0.5675|    1.2|     287.18|      278.515|            406.47875| ICOS2020|       9|       SAV|       SA|       Cfb|Temperate|         N|    50.97987|     5.631851|\n",
            "| BE-Maa|      CSH|   11|  6.3795|     1.32|           2.816|      null|      0.4186965|          0.990625|      0.4167995|        0.99114575|        0.57277525|        0.61061875|        0.57720875|         0.6227075|         0.99111675|          0.9135105|           0.996081|          0.9561345|0.0333252185|        32.5|            17.0|         37.0|      0.050082287|        0.199027|  -0.001687756|279.6639125| 280.224485|  0.002194805|  0.15336536|0.00663526725|  0.297781095|0.04522528625|   0.1717848|  0.023328796|  0.041668641| 0.191739155| 0.1252893275|0.06216719425|0.2493117025| 3.13205625| 0.582752615| 0.1572255425|0.10023689675|0.3274282225|             0.0|   0.455|   0.85|      280.9|      273.415|            407.32375| ICOS2020|       9|       SAV|       SA|       Cfb|Temperate|         N|    50.97987|     5.631851|\n",
            "| BE-Maa|      CSH|   12| 4.57125|    1.004|2.51566666666667|      null|      0.4046915|        0.98219075|      0.4009965|        0.98622325|          0.301871|          0.355239|        0.30214375|        0.35836425|         0.70494525|           0.706216|         0.70523025|         0.72725675|  0.23114419|       18.75|            11.0|         23.0|    0.02938687675|   0.13101863325|-0.00120366925|277.5222075|278.1758525| 0.0025622765|0.1101171625|0.00716920725| 0.3092685075|0.04810577725|0.1547755325|  0.028026895|0.04424366725|0.1737295275|0.11478690775| 0.0609296485|0.2158652625|  2.5269175|0.5253727375| 0.1490251275|   0.08134974|0.2697885975|       1.1721845|    null|   null|    277.605|       271.73|             407.9725| ICOS2020|       9|       SAV|       SA|       Cfb|Temperate|         N|    50.97987|     5.631851|\n",
            "| CA-Cbo|      DBF|    1| -5.5405|    0.916|           1.361|      null|       1.078595|         0.9768145|       1.070465|         0.9788305|        -0.1608544|        0.02483995|       -0.12954305|         0.0239552|          0.9158045|            1.07782|          0.9033295|            1.08133|  0.60696533|        21.0|            14.0|         44.0|    -0.0012744125|     -0.00510275| -0.0014103425| 266.857545| 267.118475|  0.001467598|0.0959744975|  0.005331225|  0.174163875|      0.04002| 0.096939996|  0.021499999|  0.035240002| 0.106639996|      0.07074|      0.04522|   0.1209983|  1.7502015|   0.4153544|   0.15592456|  0.040293604|  0.17089808|        94.46774|   0.305|    0.5|      262.8|       260.61|             372.4075|AmeriFlux|       9|       SAV|       SA|       Dfb|     Cold|         N|     44.3167|     -79.9333|\n",
            "| CA-Cbo|      DBF|    2|  -6.145|   1.0845|           2.157|      null|      1.0398505|          0.973586|      1.0205675|          0.975446|         -0.056437|        0.01115357|       -0.06774065|        0.03091545|          0.9708035|          1.0023035|          0.9294195|           1.029696|    1.376017|        36.5|            22.5|         79.5|     -5.046695E-4|   -0.0020134505| -0.0018889455|  266.15253| 266.278775| 0.0017739245| 0.110565435| 0.0048258635|  0.187427005|      0.14326|     0.24064|   0.11279999|       0.1345|  0.20390001|   0.14333999|   0.08593999|  0.19437139|  1.3781297|  0.32752725|   0.20574903|   0.06558918|   0.1217521|       94.421993|    0.36|    0.6|     265.38|       259.18|             372.7225|AmeriFlux|       9|       SAV|       SA|       Dfb|     Cold|         N|     44.3167|     -79.9333|\n",
            "| CA-Cbo|      DBF|    3|  -1.625|   1.6695|          2.2125|      null|      1.1011755|         0.9267475|       1.074247|         0.9290995|        -0.0383054|        0.11732825|       -0.02416875|         0.1196514|            1.06924|          0.9516525|           1.019855|          0.9497335|    2.861027|        61.0|            32.5|        135.0|     0.0389694675|     0.120456045| -0.0034194925| 271.894975| 271.413145|  0.001923774|  0.17706439|  0.005165296|  0.197689425|  0.156647705|  0.24859986|  0.126000168|  0.148665375| 0.205985675|  0.149326985|  0.094123502| 0.178634235| 1.31690895| 0.314463085|  0.206241675| 0.0626650135| 0.119836803|      44.2682515|    0.31|   0.65|     273.71|       265.58|              373.185|AmeriFlux|       9|       SAV|       SA|       Dfb|     Cold|         N|     44.3167|     -79.9333|\n",
            "| CA-Cbo|      DBF|    4|   6.182|    3.523|           3.046|      null|        1.30331|          0.944444|        1.33978|          0.947917|           1.22791|          0.902201|           1.18646|          0.820286|            2.52686|            1.71678|               2.56|            1.62773|   4.0346894|        79.0|            41.0|        173.0|      0.087524936|      0.24383256|  -0.005327135|  279.27048|  278.96313|  0.003107335|  0.30175993|  0.007218722|    0.2317325|   0.08083666|   0.2058333|  0.043106664|       0.0711|     0.24993|   0.21843168|   0.14050333|     0.22827|  1.8935049|  0.43522027|  -0.02964874|   0.08978699|  0.18748146|             0.0|    0.37|    0.8|     289.84|       274.62|              372.575|AmeriFlux|       9|       SAV|       SA|       Dfb|     Cold|         N|     44.3167|     -79.9333|\n",
            "| CA-Cbo|      DBF|    5|  10.156|    4.979|           2.708|      null|       0.953924|          0.938844|       0.875827|          0.940188|           2.29813|           2.00962|           2.31862|            2.0564|            3.23123|             2.3788|            3.13794|            2.32081|    5.508308|       101.0|            46.0|        220.0|       0.17582378|      0.45266104|  -0.007236116|  283.75226|  283.17087|  0.003058804|  0.43243852|   0.00836046|   0.22742917|   0.07571395|  0.24355628|  0.040618688|   0.07347021|  0.27628925|   0.21900435|   0.13343473|  0.30092677|  2.3172967|   0.5241409|  0.052811187|   0.12830207|  0.26927543|             0.0|    0.49|    1.4|     290.96|       277.58|              373.075|AmeriFlux|       9|       SAV|       SA|       Dfb|     Cold|         N|     44.3167|     -79.9333|\n",
            "| CA-Cbo|      DBF|    6|  18.098|    6.973|           2.582|      null|      -0.161731|          0.813889|      -0.293675|          0.826389|            10.647|           8.17865|           9.12325|           7.87434|            10.4085|            6.48819|            8.97988|            7.42817|   6.4468718|       106.0|            53.0|        230.0|       0.37612072|       0.9396018|  -0.007586852|   291.9323|  291.40015|   0.00290138|  0.59476584|  0.009067519|   0.19203585|   0.06264217|  0.32046586|   0.03377263|   0.07266684|  0.31191793|   0.21353461|   0.11467001|   0.4458236|  3.4145231|  0.67064774|   0.19914714|     0.216019|  0.42205274|             0.0|    0.68|    2.8|     299.52|        285.7|              373.165|AmeriFlux|       9|       SAV|       SA|       Dfb|     Cold|         N|     44.3167|     -79.9333|\n",
            "| CA-Cbo|      DBF|    8| 20.8715|    8.195|          2.7395|      null|        2.27865|         0.7745295|         1.7873|         0.8346775|          4.619485|           7.12604|          6.202265|          6.645875|           6.962085|            8.09809|           7.137745|           7.984355|   3.8162955|       110.0|            36.5|        239.0|       0.36118801|      0.97994085|  -0.008213632|  295.08073|  294.54853| 0.0017738695|   0.8419128| 0.0061037065|   0.19484874|   0.04685323| 0.324388655| 0.0252370945|  0.058708062|  0.31159839|  0.198908065|  0.093909685|  0.48964666|  4.5349357|  0.74681835|   0.23915211|  0.242605175| 0.506252165|             0.0|    0.75|    3.1|     298.82|       288.19|             370.6975|AmeriFlux|       9|       SAV|       SA|       Dfb|     Cold|         N|     44.3167|     -79.9333|\n",
            "+-------+---------+-----+--------+---------+----------------+----------+---------------+------------------+---------------+------------------+------------------+------------------+------------------+------------------+-------------------+-------------------+-------------------+-------------------+------------+------------+----------------+-------------+-----------------+----------------+--------------+-----------+-----------+-------------+------------+-------------+-------------+-------------+------------+-------------+-------------+------------+-------------+-------------+------------+-----------+------------+-------------+-------------+------------+----------------+--------+-------+-----------+-------------+---------------------+---------+--------+----------+---------+----------+---------+----------+------------+-------------+\n",
            "only showing top 20 rows\n",
            "\n"
          ]
        }
      ]
    },
    {
      "cell_type": "markdown",
      "source": [
        "### Impute with average across sites"
      ],
      "metadata": {
        "id": "L7zS8m3fpXAS"
      }
    },
    {
      "cell_type": "code",
      "source": [
        "static_monthly_sdf.select(mean('NETRAD_avg')).head()[0]"
      ],
      "metadata": {
        "colab": {
          "base_uri": "https://localhost:8080/"
        },
        "id": "Kz3xx5bDpucC",
        "outputId": "5bde5b58-680e-481e-93fb-199c3535b701"
      },
      "execution_count": 357,
      "outputs": [
        {
          "output_type": "execute_result",
          "data": {
            "text/plain": [
              "83.82560482347512"
            ]
          },
          "metadata": {},
          "execution_count": 357
        }
      ]
    },
    {
      "cell_type": "code",
      "source": [
        "static_monthly_sdf = static_monthly_sdf.fillna(\n",
        "    value = static_monthly_sdf\n",
        "    # .filter(static_monthly_sdf.SITE_ID == 'FI-Ken')\n",
        "    .select(mean('NETRAD_avg')).head()[0],\n",
        "    subset = ['NETRAD_avg'])"
      ],
      "metadata": {
        "id": "DIsf1YcJpW1k"
      },
      "execution_count": 358,
      "outputs": []
    },
    {
      "cell_type": "code",
      "source": [
        "static_monthly_sdf.filter(static_monthly_sdf.SITE_ID == 'BE-Maa').show() "
      ],
      "metadata": {
        "colab": {
          "base_uri": "https://localhost:8080/"
        },
        "id": "7S2Zwz0uoSkV",
        "outputId": "f11c9aad-68cf-4319-ef2a-e6dc477d55e7"
      },
      "execution_count": 359,
      "outputs": [
        {
          "output_type": "stream",
          "name": "stdout",
          "text": [
            "+-------+---------+-----+--------+---------+----------------+-----------------+---------------+------------------+---------------+------------------+------------------+------------------+------------------+------------------+-------------------+-------------------+-------------------+-------------------+------------+------------+----------------+-------------+-----------------+----------------+--------------+-----------+-----------+-------------+------------+-------------+-------------+-------------+------------+-------------+-------------+------------+-------------+-------------+------------+-----------+------------+-------------+-------------+------------+----------------+--------+-------+-----------+-------------+---------------------+--------+--------+----------+---------+----------+---------+----------+------------+-------------+\n",
            "|SITE_ID|SITE_IGBP|month|TA_F_avg|VPD_F_avg|         P_F_avg|       NETRAD_avg|NEE_VUT_REF_avg|NEE_VUT_REF_QC_avg|NEE_CUT_REF_avg|NEE_CUT_REF_QC_avg|GPP_NT_VUT_REF_avg|GPP_DT_VUT_REF_avg|GPP_NT_CUT_REF_avg|GPP_DT_CUT_REF_avg|RECO_NT_VUT_REF_avg|RECO_DT_VUT_REF_avg|RECO_NT_CUT_REF_avg|RECO_DT_CUT_REF_avg|      ET_avg|BESS_PAR_avg|BESS_PARdiff_avg|BESS_RSDN_avg|CSIF_SIFdaily_avg|CSIF_SIFinst_avg|       PET_avg|     Ts_avg|  Tmean_avg|     prcp_avg|     vpd_avg|prcp_lag3_avg|ESACCI_sm_avg|       b1_avg|      b2_avg|       b3_avg|       b4_avg|      b5_avg|       b6_avg|       b7_avg|     EVI_avg|    GCI_avg|    NDVI_avg|     NDWI_avg|     NIRv_avg|   kNDVI_avg|Percent_Snow_avg|Fpar_avg|Lai_avg|LST_Day_avg|LST_Night_avg|CO2_concentration_avg| dataset|MODIS_LC|MODIS_IGBP|MODIS_PFT|koppen_sub|   koppen|hemisphere|LOCATION_LAT|LOCATION_LONG|\n",
            "+-------+---------+-----+--------+---------+----------------+-----------------+---------------+------------------+---------------+------------------+------------------+------------------+------------------+------------------+-------------------+-------------------+-------------------+-------------------+------------+------------+----------------+-------------+-----------------+----------------+--------------+-----------+-----------+-------------+------------+-------------+-------------+-------------+------------+-------------+-------------+------------+-------------+-------------+------------+-----------+------------+-------------+-------------+------------+----------------+--------+-------+-----------+-------------+---------------------+--------+--------+----------+---------+----------+---------+----------+------------+-------------+\n",
            "| BE-Maa|      CSH|    1| 3.66225|  1.12875|           2.833|83.82560482347512|       0.304147|        0.96152575|       0.304028|        0.96152575|          0.464334|         0.5174775|        0.46435825|        0.51341575|           0.769372|         0.87837975|           0.766292|          0.8628985|0.2149366125|       22.25|           12.75|        27.75|     0.0396302125|      0.17138174| -0.0014064965|276.5362425|277.3064425|0.00247381025|0.1223605975|  0.007397868| 0.3108623975|0.06474997025|0.1726067225|0.04336361925|0.05992341375|0.1830609675|0.12555985875| 0.0674875425|0.2185371975|2.491221725|0.4971276425| 0.1426074375|   0.08112625|0.2512217425|      1.73790325|  0.3875|   0.55|    276.625|      272.515|            405.51125|ICOS2020|       9|       SAV|       SA|       Cfb|Temperate|         N|    50.97987|     5.631851|\n",
            "| BE-Maa|      CSH|    2|  4.2996|   1.9104|           2.234|83.82560482347512|     0.20551714|         0.9771964|     0.20353258|         0.9783818|         0.4816496|         0.5318378|         0.4856078|         0.5362514|          0.6849712|          0.7355396|          0.6871714|          0.7452074|  0.74627713|        42.4|            23.0|         59.8|      0.038126278|     0.143820654| -0.0025856884| 277.271238|  277.80453| 0.0026008702| 0.184299602| 0.0074485006|   0.30874792| 0.0622065208| 0.166442044| 0.0360794612| 0.0548639116|  0.19352753|  0.152455398| 0.0872392168| 0.205104484|  2.2334574| 0.470681108| 0.0413541076| 0.0768069132|  0.22117785|    0.2035923192|   0.438|    0.7|    279.216|      272.164|              406.443|ICOS2020|       9|       SAV|       SA|       Cfb|Temperate|         N|    50.97987|     5.631851|\n",
            "| BE-Maa|      CSH|    3|  6.5378|   2.8038|         2.61425|83.82560482347512|      0.2340052|         0.9715054|      0.2336926|         0.9724464|         0.6233236|          0.632293|         0.6221112|         0.6429456|          0.8568438|          0.8425868|           0.856554|          0.8727718|  2.01541768|        80.8|            40.2|        103.0|      0.055409913|     0.175160924| -0.0038091782| 279.729636|  279.87808| 0.0025001274| 0.250296822|  0.007519722|   0.30414688| 0.0642197998|  0.17523115| 0.0348958264| 0.0552897206| 0.213745814|  0.179864016|  0.108153631| 0.213625948|  2.1731125| 0.463719508|-0.0121915242|   0.08128646| 0.211968116|    0.0083757788|   0.438|   0.76|    284.172|      272.576|              406.819|ICOS2020|       9|       SAV|       SA|       Cfb|Temperate|         N|    50.97987|     5.631851|\n",
            "| BE-Maa|      CSH|    4| 10.2152|    5.196|         1.55975|83.82560482347512|     0.14199084|         0.9495834|       0.145646|         0.9497222|          1.153516|         1.0866392|         1.1535622|         1.0896374|          1.2990666|          1.1499494|          1.2990742|          1.1530744|  4.07488282|       136.2|            59.6|        169.0|      0.111895338|     0.305912726| -0.0059371562| 284.021736| 283.742744| 0.0014347112|  0.42745627| 0.0065357086|   0.27523938| 0.0672867128| 0.202204112|   0.03706842| 0.0613471676| 0.238571914|  0.197923944| 0.1166288188| 0.253835008| 2.29588364|  0.49924751| 0.0100612046| 0.1013546952| 0.245012958|     0.073333334|   0.504|   1.16|    291.876|      276.524|              407.788|ICOS2020|       9|       SAV|       SA|       Cfb|Temperate|         N|    50.97987|     5.631851|\n",
            "| BE-Maa|      CSH|    5|  13.971|   6.3432|           2.012|83.82560482347512|    -0.25504504|          0.937903|    -0.25877906|          0.940188|          2.035656|          2.042896|          2.033834|          2.053192|           1.784592|           1.800902|          1.7762178|          1.8127328|  5.55633726|       166.4|            74.6|        209.6|      0.209579524|     0.523266822| -0.0071900054|  288.24553| 287.661828| 0.0016599632|  0.57924052| 0.0055948016|  0.258271136| 0.0614056752| 0.245212916| 0.0338589002|  0.061851628| 0.263432008|  0.194818056|    0.1071899| 0.337837658| 2.98054142| 0.598727754| 0.1142752898|  0.147187408| 0.344471718|      0.14193548|   0.566|   1.76|    295.632|      279.624|              408.425|ICOS2020|       9|       SAV|       SA|       Cfb|Temperate|         N|    50.97987|     5.631851|\n",
            "| BE-Maa|      CSH|    6|  17.763|   6.9076|         3.18875|83.82560482347512|     -0.8199396|          0.983611|      -0.817345|         0.9838888|          3.455786|           3.44363|          3.496062|          3.438918|          2.6395128|           2.631004|          2.6789578|          2.6227646|  5.72509608|       166.8|            82.2|        212.2|      0.281542896|     0.675786508|  -0.007930196| 292.221006| 291.621544| 0.0027142582| 0.700014822| 0.0058089324|  0.255118176| 0.0549205266|  0.26612905| 0.0308849514| 0.0580621952| 0.274408734|  0.188187608|  0.096766919|  0.38716447| 3.59213356| 0.657821208|  0.172022776|  0.175174236|  0.40776471|             0.0|   0.602|   2.12|     299.16|       284.46|              408.277|ICOS2020|       9|       SAV|       SA|       Cfb|Temperate|         N|    50.97987|     5.631851|\n",
            "| BE-Maa|      CSH|    7|  18.999|  8.31575|1.34133333333333|83.82560482347512|    -0.85245525|        0.96320575|    -0.86347425|        0.96387775|         3.0215125|           3.10806|          3.022345|          3.062955|          2.1643875|           2.266605|           2.158895|          2.1989725| 4.297078575|      170.75|           90.75|        208.0|     0.2743533425|      0.67570065|-0.00813934775|293.4123525|   292.7501|  0.001831183|0.8271625875|0.00620793775|  0.243021185|0.05404513525|  0.26825556|  0.029784072|   0.05629892| 0.274223305|   0.18640727|0.09277464625|0.3911953075|3.776689875| 0.664355975| 0.1799630075| 0.1784444325|0.4150392075|             0.0|  0.5775|  1.875|    298.625|      285.575|            406.87875|ICOS2020|       9|       SAV|       SA|       Cfb|Temperate|         N|    50.97987|     5.631851|\n",
            "| BE-Maa|      CSH|    8|18.44575|  6.93025|2.11533333333333|83.82560482347512|    -0.07309175|         0.9317875|    -0.08351325|        0.94287625|         2.6199925|          2.655405|           2.62066|           2.64015|           2.544335|            2.64088|          2.5334725|          2.5493525| 2.493241725|      152.25|           74.25|       177.75|     0.2206124175|    0.5876260875|-0.00709671325|  293.34182|  292.92819| 0.0020789995| 0.773134325|0.00668990025| 0.2507989475| 0.0535262845|0.2498052475|   0.02937001| 0.0536483185|0.2575845975|  0.175841655| 0.0884964575|0.3632468425|3.686286175|0.6473791725| 0.1741736025|  0.161866865|  0.39675898|             0.0|   0.615|   1.95|    298.565|      285.895|              406.155|ICOS2020|       9|       SAV|       SA|       Cfb|Temperate|         N|    50.97987|     5.631851|\n",
            "| BE-Maa|      CSH|    9| 14.8755|  4.79625|           1.843|83.82560482347512|     -0.2287396|        0.90972225|   -0.225395675|          0.910243|           2.12701|         2.2710225|           2.12544|         2.2721025|          1.9014975|            2.08669|         1.88918475|           2.084315| 1.502365725|       113.5|            54.0|        137.0|     0.1709542375|    0.5112564225|-0.00530848275|289.2652575| 289.272465| 0.0020283365|0.5369037325|  0.006412699|  0.257373665|0.04800799875|0.2335326425|  0.025990272| 0.0484996625|0.2413638675|   0.16232882|0.07905878225|  0.34952343|3.817289175|  0.65882234| 0.1800542325|  0.153929735|0.4087497525|             0.0|   0.635|  1.925|      293.9|      282.405|            406.32875|ICOS2020|       9|       SAV|       SA|       Cfb|Temperate|         N|    50.97987|     5.631851|\n",
            "| BE-Maa|      CSH|   10|  11.142|   2.2475|2.44033333333333|83.82560482347512|     0.47683975|        0.99563175|     0.47632275|        0.99563175|        1.03648425|        1.04462825|          1.035845|          1.067981|           1.513711|         1.51430475|         1.51394725|         1.54172125| 0.497823355|       52.75|           31.75|        64.75|    0.09978179275|      0.34254772| -0.0032614135| 284.821345|  285.14858|  0.002412126|0.2780390175|0.00663540625| 0.2870797625|  0.046957127|0.1999584125|0.02493585875|0.04598252825|  0.21390177|  0.142646445| 0.0690661575|0.2950344525|3.357766425| 0.618779525|   0.16702448| 0.1239420075|0.3654596625|             0.0|  0.5675|    1.2|     287.18|      278.515|            406.47875|ICOS2020|       9|       SAV|       SA|       Cfb|Temperate|         N|    50.97987|     5.631851|\n",
            "| BE-Maa|      CSH|   11|  6.3795|     1.32|           2.816|83.82560482347512|      0.4186965|          0.990625|      0.4167995|        0.99114575|        0.57277525|        0.61061875|        0.57720875|         0.6227075|         0.99111675|          0.9135105|           0.996081|          0.9561345|0.0333252185|        32.5|            17.0|         37.0|      0.050082287|        0.199027|  -0.001687756|279.6639125| 280.224485|  0.002194805|  0.15336536|0.00663526725|  0.297781095|0.04522528625|   0.1717848|  0.023328796|  0.041668641| 0.191739155| 0.1252893275|0.06216719425|0.2493117025| 3.13205625| 0.582752615| 0.1572255425|0.10023689675|0.3274282225|             0.0|   0.455|   0.85|      280.9|      273.415|            407.32375|ICOS2020|       9|       SAV|       SA|       Cfb|Temperate|         N|    50.97987|     5.631851|\n",
            "| BE-Maa|      CSH|   12| 4.57125|    1.004|2.51566666666667|83.82560482347512|      0.4046915|        0.98219075|      0.4009965|        0.98622325|          0.301871|          0.355239|        0.30214375|        0.35836425|         0.70494525|           0.706216|         0.70523025|         0.72725675|  0.23114419|       18.75|            11.0|         23.0|    0.02938687675|   0.13101863325|-0.00120366925|277.5222075|278.1758525| 0.0025622765|0.1101171625|0.00716920725| 0.3092685075|0.04810577725|0.1547755325|  0.028026895|0.04424366725|0.1737295275|0.11478690775| 0.0609296485|0.2158652625|  2.5269175|0.5253727375| 0.1490251275|   0.08134974|0.2697885975|       1.1721845|    null|   null|    277.605|       271.73|             407.9725|ICOS2020|       9|       SAV|       SA|       Cfb|Temperate|         N|    50.97987|     5.631851|\n",
            "+-------+---------+-----+--------+---------+----------------+-----------------+---------------+------------------+---------------+------------------+------------------+------------------+------------------+------------------+-------------------+-------------------+-------------------+-------------------+------------+------------+----------------+-------------+-----------------+----------------+--------------+-----------+-----------+-------------+------------+-------------+-------------+-------------+------------+-------------+-------------+------------+-------------+-------------+------------+-----------+------------+-------------+-------------+------------+----------------+--------+-------+-----------+-------------+---------------------+--------+--------+----------+---------+----------+---------+----------+------------+-------------+\n",
            "\n"
          ]
        }
      ]
    },
    {
      "cell_type": "code",
      "source": [
        "static_monthly_sdf.filter(static_monthly_sdf.NETRAD_avg.isNull()).show()"
      ],
      "metadata": {
        "colab": {
          "base_uri": "https://localhost:8080/"
        },
        "id": "npLd8L_VoSgX",
        "outputId": "2c629b4e-77d0-4a3d-92ab-4943a79fbfcc"
      },
      "execution_count": 360,
      "outputs": [
        {
          "output_type": "stream",
          "name": "stdout",
          "text": [
            "+-------+---------+-----+--------+---------+-------+----------+---------------+------------------+---------------+------------------+------------------+------------------+------------------+------------------+-------------------+-------------------+-------------------+-------------------+------+------------+----------------+-------------+-----------------+----------------+-------+------+---------+--------+-------+-------------+-------------+------+------+------+------+------+------+------+-------+-------+--------+--------+--------+---------+----------------+--------+-------+-----------+-------------+---------------------+-------+--------+----------+---------+----------+------+----------+------------+-------------+\n",
            "|SITE_ID|SITE_IGBP|month|TA_F_avg|VPD_F_avg|P_F_avg|NETRAD_avg|NEE_VUT_REF_avg|NEE_VUT_REF_QC_avg|NEE_CUT_REF_avg|NEE_CUT_REF_QC_avg|GPP_NT_VUT_REF_avg|GPP_DT_VUT_REF_avg|GPP_NT_CUT_REF_avg|GPP_DT_CUT_REF_avg|RECO_NT_VUT_REF_avg|RECO_DT_VUT_REF_avg|RECO_NT_CUT_REF_avg|RECO_DT_CUT_REF_avg|ET_avg|BESS_PAR_avg|BESS_PARdiff_avg|BESS_RSDN_avg|CSIF_SIFdaily_avg|CSIF_SIFinst_avg|PET_avg|Ts_avg|Tmean_avg|prcp_avg|vpd_avg|prcp_lag3_avg|ESACCI_sm_avg|b1_avg|b2_avg|b3_avg|b4_avg|b5_avg|b6_avg|b7_avg|EVI_avg|GCI_avg|NDVI_avg|NDWI_avg|NIRv_avg|kNDVI_avg|Percent_Snow_avg|Fpar_avg|Lai_avg|LST_Day_avg|LST_Night_avg|CO2_concentration_avg|dataset|MODIS_LC|MODIS_IGBP|MODIS_PFT|koppen_sub|koppen|hemisphere|LOCATION_LAT|LOCATION_LONG|\n",
            "+-------+---------+-----+--------+---------+-------+----------+---------------+------------------+---------------+------------------+------------------+------------------+------------------+------------------+-------------------+-------------------+-------------------+-------------------+------+------------+----------------+-------------+-----------------+----------------+-------+------+---------+--------+-------+-------------+-------------+------+------+------+------+------+------+------+-------+-------+--------+--------+--------+---------+----------------+--------+-------+-----------+-------------+---------------------+-------+--------+----------+---------+----------+------+----------+------------+-------------+\n",
            "+-------+---------+-----+--------+---------+-------+----------+---------------+------------------+---------------+------------------+------------------+------------------+------------------+------------------+-------------------+-------------------+-------------------+-------------------+------+------------+----------------+-------------+-----------------+----------------+-------+------+---------+--------+-------+-------------+-------------+------+------+------+------+------+------+------+-------+-------+--------+--------+--------+---------+----------------+--------+-------+-----------+-------------+---------------------+-------+--------+----------+---------+----------+------+----------+------------+-------------+\n",
            "\n"
          ]
        }
      ]
    },
    {
      "cell_type": "markdown",
      "source": [
        "## `ET_avg`"
      ],
      "metadata": {
        "id": "qlmKZ-EmqZwG"
      }
    },
    {
      "cell_type": "code",
      "source": [
        "static_monthly_sdf.filter(static_monthly_sdf.ET_avg.isNull()).show()"
      ],
      "metadata": {
        "colab": {
          "base_uri": "https://localhost:8080/"
        },
        "id": "BsOY67FOoSbk",
        "outputId": "8bc9ad19-c2de-4b68-cc51-b0b114ab82d2"
      },
      "execution_count": 361,
      "outputs": [
        {
          "output_type": "stream",
          "name": "stdout",
          "text": [
            "+-------+---------+-----+-----------------+----------------+----------------+-----------------+-----------------+------------------+-----------------+------------------+------------------+------------------+------------------+------------------+-------------------+-------------------+-------------------+-------------------+------+----------------+----------------+----------------+------------------+------------------+-------------------+----------------+----------------+------------------+------------------+------------------+-------------+-----------------+-----------------+-----------------+-----------------+-----------------+------------------+------------------+----------+--------+----------+-----------------+----------+------------------+----------------+-----------------+-----------------+----------------+----------------+---------------------+--------+--------+----------+---------+----------+------+----------+------------+-------------+\n",
            "|SITE_ID|SITE_IGBP|month|         TA_F_avg|       VPD_F_avg|         P_F_avg|       NETRAD_avg|  NEE_VUT_REF_avg|NEE_VUT_REF_QC_avg|  NEE_CUT_REF_avg|NEE_CUT_REF_QC_avg|GPP_NT_VUT_REF_avg|GPP_DT_VUT_REF_avg|GPP_NT_CUT_REF_avg|GPP_DT_CUT_REF_avg|RECO_NT_VUT_REF_avg|RECO_DT_VUT_REF_avg|RECO_NT_CUT_REF_avg|RECO_DT_CUT_REF_avg|ET_avg|    BESS_PAR_avg|BESS_PARdiff_avg|   BESS_RSDN_avg| CSIF_SIFdaily_avg|  CSIF_SIFinst_avg|            PET_avg|          Ts_avg|       Tmean_avg|          prcp_avg|           vpd_avg|     prcp_lag3_avg|ESACCI_sm_avg|           b1_avg|           b2_avg|           b3_avg|           b4_avg|           b5_avg|            b6_avg|            b7_avg|   EVI_avg| GCI_avg|  NDVI_avg|         NDWI_avg|  NIRv_avg|         kNDVI_avg|Percent_Snow_avg|         Fpar_avg|          Lai_avg|     LST_Day_avg|   LST_Night_avg|CO2_concentration_avg| dataset|MODIS_LC|MODIS_IGBP|MODIS_PFT|koppen_sub|koppen|hemisphere|LOCATION_LAT|LOCATION_LONG|\n",
            "+-------+---------+-----+-----------------+----------------+----------------+-----------------+-----------------+------------------+-----------------+------------------+------------------+------------------+------------------+------------------+-------------------+-------------------+-------------------+-------------------+------+----------------+----------------+----------------+------------------+------------------+-------------------+----------------+----------------+------------------+------------------+------------------+-------------+-----------------+-----------------+-----------------+-----------------+-----------------+------------------+------------------+----------+--------+----------+-----------------+----------+------------------+----------------+-----------------+-----------------+----------------+----------------+---------------------+--------+--------+----------+---------+----------+------+----------+------------+-------------+\n",
            "| CH-Aws|      GRA|    1|           -4.332|1.84466666666667|          3.4752|83.82560482347512|0.530605666666667| 0.987231166666667|0.539235666666667| 0.990031166666667|0.0364473166666667| 0.112656583333333|0.0158406666666667|         0.1108572|  0.565718166666667|  0.738546166666667|          0.5550765|  0.702369333333333|  null|            37.5|            17.5|            51.0|      -0.003506507|      -0.014140987| -6.051496666666E-4|258.556481666667|262.800371666667|0.0029289888333333|0.0698198293333333|0.0100875453333333|         null|             null|             null|             null|             null|             null|              null|              null|      null|    null|      null|             null|      null|              null|        99.72043|0.131666666666667|             0.15|          263.93|          258.09|               404.78|ICOS2020|      10|       GRA|      GRA|        ET| Polar|         N|   46.583306|     9.790417|\n",
            "| CH-Aws|      GRA|    2|          -3.2475|2.11133333333333|            2.26|83.82560482347512|        0.5039305| 0.981355833333333|         0.516598| 0.985426833333333| 0.168159843166667|        0.13270405|       0.177165595| 0.123431716666667|          0.6708925|  0.673008666666667|          0.6937635|  0.609454666666667|  null|            64.0|31.3333333333333|95.8333333333333|      -0.003913662|      -0.014140987|-0.0015825878333333|       261.99478|       265.14661|0.0026187298333333|      0.0858848815|0.0080037348333333|         null|             null|             null|             null|             null|             null|              null|              null|      null|    null|      null|             null|      null|              null|           100.0|0.123333333333333|0.133333333333333|265.566666666667|           258.2|     405.083333333333|ICOS2020|      10|       GRA|      GRA|        ET| Polar|         N|   46.583306|     9.790417|\n",
            "| CH-Aws|      GRA|    3|-1.23116666666667|           2.296|          2.5446|83.82560482347512|         0.433069| 0.962029333333333|0.449445666666667| 0.965949833333333|         0.2816638|        0.11364155| 0.277069653333333| 0.101155783333333|  0.711302666666667|  0.550188833333333|  0.726514333333333|           0.556094|  null|110.166666666667|            54.0|159.666666666667|      -0.004485022|      -0.014140987|       -0.003120497|266.101953333333|268.364771666667|      0.0029203505|      0.1029281505|0.0084680688333333|         null|0.543070793333333|0.503041663333333|       0.56479995|0.556804133333333|0.205833321666667|0.0646791666666667|0.0344833308333333|      null|    null|      null|0.772155233333333|      null|       0.001479496|       99.919355|             0.12|0.183333333333333|          269.82|259.673333333333|             405.5025|ICOS2020|      10|       GRA|      GRA|        ET| Polar|         N|   46.583306|     9.790417|\n",
            "| CH-Aws|      GRA|    4|          3.41625|          3.5815|3.13233333333333|83.82560482347512|        0.4392119|         0.9930555|      0.462086725|          0.993403|          1.296497|          1.303365|         1.2870805|        1.32283475|          1.7242305|           1.712615|         1.74916375|          1.7708925|  null|           166.5|           90.25|          196.25|     -0.0050871745|      -0.014140987|     -0.00514942575|     271.4566575|      273.258595|     0.00327821225|       0.154529235|      0.0092312205|         null|     0.5120883125|       0.48070199|     0.5145708475|      0.521641765|      0.215198355|      0.0858618325|     0.04813706525|      null|    null|      null|      0.696462075|      null|       0.001039804|      91.3583335|            0.195|              0.4|          276.64|         264.205|            407.24875|ICOS2020|      10|       GRA|      GRA|        ET| Polar|         N|   46.583306|     9.790417|\n",
            "| CH-Aws|      GRA|    5| 5.85877777777778|3.45666666666667|        5.191375|      125.9363557|-4.08466222222222| 0.977225222222222|-4.08072333333333| 0.977971777777778|  7.40774555555556|  7.15285777777778|  7.45908444444444|  7.15143444444444|   3.31245155555556|   3.07435333333333|   3.37836211111111|   3.10524222222222|  null|125.111111111111|83.4444444444444|196.777777777778|0.0326621535555556|0.0829033982222222|-0.0048287977777777|274.289604444444|276.163151111111|0.0051013933333333|       0.142117306|       0.011093747|  0.301239412|0.453494791111111|0.450389236666667|0.429467033333333|0.453774433333333|0.247044436666667| 0.126386296666667|0.0771525922222222|0.20058866|0.527027|0.20385167|       0.55676932|0.05989162|0.0040606393333333|48.7455193333333|0.342222222222222|0.911111111111111|284.031111111111|267.331111111111|     401.487777777778|ICOS2020|      10|       GRA|      GRA|        ET| Polar|         N|   46.583306|     9.790417|\n",
            "| SJ-Adv|      WET|   11|           -8.105|           0.599|            0.57|83.82560482347512|         0.141932|          0.923611|          0.14136|          0.923611|        -0.0180994|               0.0|        -0.0180994|               0.0|           0.123833|           0.108419|           0.126988|           0.108419|  null|             0.0|             0.0|             0.0|               0.0|               0.0|            3.72E-5|       257.02063|       261.52917|       0.002185895|       0.042773116|       0.006248172|    0.3183017|             null|             null|             null|             null|             null|              null|              null|      null|    null|      null|             null|      null|              null|            null|             null|             null|          259.96|          257.72|              396.825| FLUXNET|      16|       BSV|    Other|        ET| Polar|         N|      78.186|       15.923|\n",
            "+-------+---------+-----+-----------------+----------------+----------------+-----------------+-----------------+------------------+-----------------+------------------+------------------+------------------+------------------+------------------+-------------------+-------------------+-------------------+-------------------+------+----------------+----------------+----------------+------------------+------------------+-------------------+----------------+----------------+------------------+------------------+------------------+-------------+-----------------+-----------------+-----------------+-----------------+-----------------+------------------+------------------+----------+--------+----------+-----------------+----------+------------------+----------------+-----------------+-----------------+----------------+----------------+---------------------+--------+--------+----------+---------+----------+------+----------+------------+-------------+\n",
            "\n"
          ]
        }
      ]
    },
    {
      "cell_type": "markdown",
      "source": [
        "### Impute with average in CH-Aws"
      ],
      "metadata": {
        "id": "Z5vlh4rrqm_-"
      }
    },
    {
      "cell_type": "code",
      "source": [
        "static_monthly_sdf = static_monthly_sdf.fillna(\n",
        "    value = static_monthly_sdf\n",
        "    .filter(static_monthly_sdf.SITE_ID == 'CH-Aws')\n",
        "    .select(mean('ET_avg')).head()[0],\n",
        "    subset = ['ET_avg'])"
      ],
      "metadata": {
        "id": "lw_jWqsMoSXh"
      },
      "execution_count": 362,
      "outputs": []
    },
    {
      "cell_type": "code",
      "source": [
        "static_monthly_sdf.filter(static_monthly_sdf.SITE_ID == 'CH-Aws').show()"
      ],
      "metadata": {
        "colab": {
          "base_uri": "https://localhost:8080/"
        },
        "id": "6vos6A7ErC3V",
        "outputId": "37bd17bd-3b83-4c01-9bc6-618df9f0c2d8"
      },
      "execution_count": 363,
      "outputs": [
        {
          "output_type": "stream",
          "name": "stdout",
          "text": [
            "+-------+---------+-----+-----------------+----------------+----------------+-----------------+------------------+------------------+-----------------+------------------+------------------+------------------+------------------+------------------+-------------------+-------------------+-------------------+-------------------+-----------------+----------------+----------------+----------------+-------------------+-------------------+-------------------+----------------+----------------+------------------+------------------+------------------+-----------------+------------------+-----------------+------------------+------------------+-----------------+------------------+------------------+-----------------+----------------+-----------------+------------------+------------------+------------------+-----------------+-----------------+-----------------+----------------+----------------+---------------------+--------+--------+----------+---------+----------+------+----------+------------+-------------+\n",
            "|SITE_ID|SITE_IGBP|month|         TA_F_avg|       VPD_F_avg|         P_F_avg|       NETRAD_avg|   NEE_VUT_REF_avg|NEE_VUT_REF_QC_avg|  NEE_CUT_REF_avg|NEE_CUT_REF_QC_avg|GPP_NT_VUT_REF_avg|GPP_DT_VUT_REF_avg|GPP_NT_CUT_REF_avg|GPP_DT_CUT_REF_avg|RECO_NT_VUT_REF_avg|RECO_DT_VUT_REF_avg|RECO_NT_CUT_REF_avg|RECO_DT_CUT_REF_avg|           ET_avg|    BESS_PAR_avg|BESS_PARdiff_avg|   BESS_RSDN_avg|  CSIF_SIFdaily_avg|   CSIF_SIFinst_avg|            PET_avg|          Ts_avg|       Tmean_avg|          prcp_avg|           vpd_avg|     prcp_lag3_avg|    ESACCI_sm_avg|            b1_avg|           b2_avg|            b3_avg|            b4_avg|           b5_avg|            b6_avg|            b7_avg|          EVI_avg|         GCI_avg|         NDVI_avg|          NDWI_avg|          NIRv_avg|         kNDVI_avg| Percent_Snow_avg|         Fpar_avg|          Lai_avg|     LST_Day_avg|   LST_Night_avg|CO2_concentration_avg| dataset|MODIS_LC|MODIS_IGBP|MODIS_PFT|koppen_sub|koppen|hemisphere|LOCATION_LAT|LOCATION_LONG|\n",
            "+-------+---------+-----+-----------------+----------------+----------------+-----------------+------------------+------------------+-----------------+------------------+------------------+------------------+------------------+------------------+-------------------+-------------------+-------------------+-------------------+-----------------+----------------+----------------+----------------+-------------------+-------------------+-------------------+----------------+----------------+------------------+------------------+------------------+-----------------+------------------+-----------------+------------------+------------------+-----------------+------------------+------------------+-----------------+----------------+-----------------+------------------+------------------+------------------+-----------------+-----------------+-----------------+----------------+----------------+---------------------+--------+--------+----------+---------+----------+------+----------+------------+-------------+\n",
            "| CH-Aws|      GRA|    1|           -4.332|1.84466666666667|          3.4752|83.82560482347512| 0.530605666666667| 0.987231166666667|0.539235666666667| 0.990031166666667|0.0364473166666667| 0.112656583333333|0.0158406666666667|         0.1108572|  0.565718166666667|  0.738546166666667|          0.5550765|  0.702369333333333|4.435693471274916|            37.5|            17.5|            51.0|       -0.003506507|       -0.014140987| -6.051496666666E-4|258.556481666667|262.800371666667|0.0029289888333333|0.0698198293333333|0.0100875453333333|             null|              null|             null|              null|              null|             null|              null|              null|             null|            null|             null|              null|              null|              null|         99.72043|0.131666666666667|             0.15|          263.93|          258.09|               404.78|ICOS2020|      10|       GRA|      GRA|        ET| Polar|         N|   46.583306|     9.790417|\n",
            "| CH-Aws|      GRA|    2|          -3.2475|2.11133333333333|            2.26|83.82560482347512|         0.5039305| 0.981355833333333|         0.516598| 0.985426833333333| 0.168159843166667|        0.13270405|       0.177165595| 0.123431716666667|          0.6708925|  0.673008666666667|          0.6937635|  0.609454666666667|4.435693471274916|            64.0|31.3333333333333|95.8333333333333|       -0.003913662|       -0.014140987|-0.0015825878333333|       261.99478|       265.14661|0.0026187298333333|      0.0858848815|0.0080037348333333|             null|              null|             null|              null|              null|             null|              null|              null|             null|            null|             null|              null|              null|              null|            100.0|0.123333333333333|0.133333333333333|265.566666666667|           258.2|     405.083333333333|ICOS2020|      10|       GRA|      GRA|        ET| Polar|         N|   46.583306|     9.790417|\n",
            "| CH-Aws|      GRA|    3|-1.23116666666667|           2.296|          2.5446|83.82560482347512|          0.433069| 0.962029333333333|0.449445666666667| 0.965949833333333|         0.2816638|        0.11364155| 0.277069653333333| 0.101155783333333|  0.711302666666667|  0.550188833333333|  0.726514333333333|           0.556094|4.435693471274916|110.166666666667|            54.0|159.666666666667|       -0.004485022|       -0.014140987|       -0.003120497|266.101953333333|268.364771666667|      0.0029203505|      0.1029281505|0.0084680688333333|             null| 0.543070793333333|0.503041663333333|        0.56479995| 0.556804133333333|0.205833321666667|0.0646791666666667|0.0344833308333333|             null|            null|             null| 0.772155233333333|              null|       0.001479496|        99.919355|             0.12|0.183333333333333|          269.82|259.673333333333|             405.5025|ICOS2020|      10|       GRA|      GRA|        ET| Polar|         N|   46.583306|     9.790417|\n",
            "| CH-Aws|      GRA|    4|          3.41625|          3.5815|3.13233333333333|83.82560482347512|         0.4392119|         0.9930555|      0.462086725|          0.993403|          1.296497|          1.303365|         1.2870805|        1.32283475|          1.7242305|           1.712615|         1.74916375|          1.7708925|4.435693471274916|           166.5|           90.25|          196.25|      -0.0050871745|       -0.014140987|     -0.00514942575|     271.4566575|      273.258595|     0.00327821225|       0.154529235|      0.0092312205|             null|      0.5120883125|       0.48070199|      0.5145708475|       0.521641765|      0.215198355|      0.0858618325|     0.04813706525|             null|            null|             null|       0.696462075|              null|       0.001039804|       91.3583335|            0.195|              0.4|          276.64|         264.205|            407.24875|ICOS2020|      10|       GRA|      GRA|        ET| Polar|         N|   46.583306|     9.790417|\n",
            "| CH-Aws|      GRA|    5| 5.85877777777778|3.45666666666667|        5.191375|      125.9363557| -4.08466222222222| 0.977225222222222|-4.08072333333333| 0.977971777777778|  7.40774555555556|  7.15285777777778|  7.45908444444444|  7.15143444444444|   3.31245155555556|   3.07435333333333|   3.37836211111111|   3.10524222222222|4.435693471274916|125.111111111111|83.4444444444444|196.777777777778| 0.0326621535555556| 0.0829033982222222|-0.0048287977777777|274.289604444444|276.163151111111|0.0051013933333333|       0.142117306|       0.011093747|      0.301239412| 0.453494791111111|0.450389236666667| 0.429467033333333| 0.453774433333333|0.247044436666667| 0.126386296666667|0.0771525922222222|       0.20058866|        0.527027|       0.20385167|        0.55676932|        0.05989162|0.0040606393333333| 48.7455193333333|0.342222222222222|0.911111111111111|284.031111111111|267.331111111111|     401.487777777778|ICOS2020|      10|       GRA|      GRA|        ET| Polar|         N|   46.583306|     9.790417|\n",
            "| CH-Aws|      GRA|    6|            9.862|          4.5108|5.48133333333333|     119.34399325|         -3.777353|         0.9730557|        -3.738311|         0.9729862|         10.439226|           9.55238|         10.582676|          9.639777|           6.639841|           5.956233|           6.844373|            6.03256|       7.93795891|           130.0|            80.4|           225.2|       0.1491383776|        0.367875137|       -0.006733187|      279.537091|      281.097019|      0.0052966623|       0.228882808|      0.0135548532|      0.299997718|      0.1516996386|      0.300810315|      0.1157572874|       0.151340115|      0.270729824|          0.199927|      0.1207811536|0.271496962222222|     1.206647421|      0.349285663|       0.200609182|      0.1030453264|      0.1380467275|       5.59999993|            0.441|             1.33|          289.78|         272.632|              401.544|ICOS2020|      10|       GRA|      GRA|        ET| Polar|         N|   46.583306|     9.790417|\n",
            "| CH-Aws|      GRA|    7|           12.366|5.38746153846154|          5.1675|      124.7318088| -1.04098915384615| 0.976271692307692|-1.08978753846154| 0.973635230769231|  8.35723615384615|  7.65915153846154|  8.54795153846154|           7.65925|            7.30106|   6.20819538461538|   7.45816615384615|   6.22125076923077|        7.6159522|135.923076923077|65.2307692307692|239.461538461538|  0.229443061538462|         0.57961361|-0.0090102719230769|283.926049230769|283.770033846154|0.0047532909230769| 0.318641973076923|0.0147725393846154|0.273400973076923|0.0824382096923077|0.276988823846154|0.0486296491538462|0.0868370204615385|0.287598951538462| 0.211292630769231| 0.122288328846154|0.344971329166667|2.27361787692308|        0.5459172| 0.134094289692308| 0.150617226923077|        0.29187032| 1.47642685153846|0.482307692307692| 1.52307692307692|          293.04|          275.98|     396.967307692308|ICOS2020|      10|       GRA|      GRA|        ET| Polar|         N|   46.583306|     9.790417|\n",
            "| CH-Aws|      GRA|    8| 11.5059230769231|4.76861538461538|           5.639|     105.54314156| -1.11444030769231| 0.992659230769231|-1.11001510769231| 0.988885461538461|  7.93517307692308|  7.04129692307692|  8.02203307692308|  7.07559923076923|   6.78871692307692|   5.78427846153846|   6.91202230769231|             5.6759| 6.39667144615385|112.538461538462|52.9230769230769|203.846153846154|         0.19191713|         0.51755772|-0.0073783381538461|283.148271538462|282.918077692308| 0.005612923076923| 0.249885533846154|0.0156217436153846|0.275489110769231|0.0673271177692308|0.246244966153846|0.0357310970769231|0.0706666926153846|0.266615860769231| 0.196893680769231| 0.113122368384615|0.324392331666667|2.51775566923077|0.571841008461539| 0.110969902692308|        0.14080477| 0.316630799230769|0.334987587692308|0.496923076923077| 1.46153846153846|290.906153846154|          275.38|               395.94|ICOS2020|      10|       GRA|      GRA|        ET| Polar|         N|   46.583306|     9.790417|\n",
            "| CH-Aws|      GRA|    9| 8.29281818181818|3.57709090909091|           3.882|     63.501954275| -1.03109259545455| 0.990846181818182|-1.00419614545455| 0.991540636363636|  6.00997272727273|  5.77693272727273|  6.09156363636364|  5.84880272727273|   4.94498818181818|   4.58014454545455|   5.08737090909091|   4.65882454545455| 4.33053898181818|92.1818181818182|42.7272727272727|161.181818181818|        0.110019515|  0.326344634545455|-0.0055892933636363|279.356251818182|279.487583636364|0.0037978927272727| 0.181737540909091|0.0139012530909091|0.278463758181818|       0.066746178|0.214442551818182|0.0350581670909091|0.0653071698181818|0.243529226363636| 0.184277469090909| 0.109366187727273|      0.273420668|2.31960017272727|0.526174805454545|0.0747994916363636|        0.11283948| 0.271145638181818| 6.60606032727273|0.433636363636364| 1.05454545454545|286.347272727273|272.296363636364|     398.264090909091|ICOS2020|      10|       GRA|      GRA|        ET| Polar|         N|   46.583306|     9.790417|\n",
            "| CH-Aws|      GRA|   10| 4.62322222222222|           3.363|           3.549|     14.606952395|-0.271535144444444| 0.973939777777778|       -0.2687735| 0.972520888888889|  2.90607555555556|  2.60339111111111|  2.88793333333333|  2.61456777777778|   2.63420777777778|   2.32623333333333|   2.61915888888889|   2.21888444444444| 2.48804126666667|            60.0|31.6666666666667|103.333333333333| 0.0362479997777778|  0.119595866888889|-0.0031092532222222|272.844386666667|274.556537777778|0.0043327485555555| 0.119991377777778|       0.013825711|       0.29037587|0.0659366111111111|0.176752838888889|0.0345947762222222|0.0585642867777778|0.210517271111111| 0.168995918888889| 0.101271935555556|    0.21011956375|2.03216704444444|0.455869834444444|0.0217503833333333|0.0807562188888889| 0.205925243333333| 35.6559135111111|0.306666666666667|              0.5|278.548888888889|267.948888888889|               398.31|ICOS2020|      10|       GRA|      GRA|        ET| Polar|         N|   46.583306|     9.790417|\n",
            "| CH-Aws|      GRA|   11|           0.9434|          2.7726|           3.836|83.82560482347512|         0.5980578|         0.9881944|        0.6125298|         0.9893056|         0.4539606|         0.7358048|         0.4540438|         0.7228752|          1.0410268|           1.273964|          1.0665724|          1.2336032|       1.35655538|            42.8|            21.8|            54.2|        0.011649698|       0.0424361014|      -0.0013517432|       266.00339|      269.710848|      0.0033695608|      0.0908095922|      0.0125331626|             null|      0.0634712972|       0.15902889|       0.032881349|      0.0539638388|        0.1925102|       0.163478016|       0.098557206|      0.184839586|       1.9634329|       0.42963327|     -0.0138240548|      0.0684667286|       0.183533414|       67.5466666|             0.21|              0.3|          270.82|         263.572|               406.69|ICOS2020|      10|       GRA|      GRA|        ET| Polar|         N|   46.583306|     9.790417|\n",
            "| CH-Aws|      GRA|   12|           -1.992|2.32571428571429|2.45966666666667|83.82560482347512| 0.696075142857143| 0.990783571428571|0.706517714285714| 0.990879714285714|0.0022188828571428|0.0987949142857143|0.0119939142857143|         0.0876062|  0.698439285714286|  0.848271285714286|  0.718511285714286|  0.807656714285714|0.924136114285714|25.4285714285714|14.1428571428571|39.4285714285714|-0.0032448654285714|-0.0133112844285714|        -5.53046E-4|260.696328571429|265.864384285714|0.0029185398571428|0.0967581064285714|0.0112475571428571|             null|              null|             null|              null|              null|             null|              null|              null|             null|            null|             null|              null|              null|              null| 92.9611914285714|0.151428571428571|0.185714285714286|265.671428571429|260.422857142857|     405.391428571429|ICOS2020|      10|       GRA|      GRA|        ET| Polar|         N|   46.583306|     9.790417|\n",
            "+-------+---------+-----+-----------------+----------------+----------------+-----------------+------------------+------------------+-----------------+------------------+------------------+------------------+------------------+------------------+-------------------+-------------------+-------------------+-------------------+-----------------+----------------+----------------+----------------+-------------------+-------------------+-------------------+----------------+----------------+------------------+------------------+------------------+-----------------+------------------+-----------------+------------------+------------------+-----------------+------------------+------------------+-----------------+----------------+-----------------+------------------+------------------+------------------+-----------------+-----------------+-----------------+----------------+----------------+---------------------+--------+--------+----------+---------+----------+------+----------+------------+-------------+\n",
            "\n"
          ]
        }
      ]
    },
    {
      "cell_type": "markdown",
      "source": [
        "## `CSIF_SIFdaily_avg`"
      ],
      "metadata": {
        "id": "4o5524X3rU15"
      }
    },
    {
      "cell_type": "code",
      "source": [
        "static_monthly_sdf.filter(static_monthly_sdf.CSIF_SIFdaily_avg.isNull()).show()"
      ],
      "metadata": {
        "colab": {
          "base_uri": "https://localhost:8080/"
        },
        "id": "kTAjZgrtrIrR",
        "outputId": "ba97a095-8cb5-40f1-ba36-4c4e3fb516cb"
      },
      "execution_count": 364,
      "outputs": [
        {
          "output_type": "stream",
          "name": "stdout",
          "text": [
            "+-------+---------+-----+----------------+----------------+----------------+-----------------+-------------------+------------------+-------------------+------------------+------------------+------------------+------------------+------------------+-------------------+-------------------+-------------------+-------------------+------------------+----------------+----------------+----------------+-----------------+----------------+-------------------+----------------+----------------+------------------+-----------------+------------------+-----------------+------------------+------------------+------------------+------------------+-----------------+------------------+------------------+-----------------+-----------------+-----------------+------------------+------------------+-----------------+------------------+-----------------+-----------------+----------------+----------------+---------------------+--------+--------+----------+---------+----------+---------+----------+------------+-------------+\n",
            "|SITE_ID|SITE_IGBP|month|        TA_F_avg|       VPD_F_avg|         P_F_avg|       NETRAD_avg|    NEE_VUT_REF_avg|NEE_VUT_REF_QC_avg|    NEE_CUT_REF_avg|NEE_CUT_REF_QC_avg|GPP_NT_VUT_REF_avg|GPP_DT_VUT_REF_avg|GPP_NT_CUT_REF_avg|GPP_DT_CUT_REF_avg|RECO_NT_VUT_REF_avg|RECO_DT_VUT_REF_avg|RECO_NT_CUT_REF_avg|RECO_DT_CUT_REF_avg|            ET_avg|    BESS_PAR_avg|BESS_PARdiff_avg|   BESS_RSDN_avg|CSIF_SIFdaily_avg|CSIF_SIFinst_avg|            PET_avg|          Ts_avg|       Tmean_avg|          prcp_avg|          vpd_avg|     prcp_lag3_avg|    ESACCI_sm_avg|            b1_avg|            b2_avg|            b3_avg|            b4_avg|           b5_avg|            b6_avg|            b7_avg|          EVI_avg|          GCI_avg|         NDVI_avg|          NDWI_avg|          NIRv_avg|        kNDVI_avg|  Percent_Snow_avg|         Fpar_avg|          Lai_avg|     LST_Day_avg|   LST_Night_avg|CO2_concentration_avg| dataset|MODIS_LC|MODIS_IGBP|MODIS_PFT|koppen_sub|   koppen|hemisphere|LOCATION_LAT|LOCATION_LONG|\n",
            "+-------+---------+-----+----------------+----------------+----------------+-----------------+-------------------+------------------+-------------------+------------------+------------------+------------------+------------------+------------------+-------------------+-------------------+-------------------+-------------------+------------------+----------------+----------------+----------------+-----------------+----------------+-------------------+----------------+----------------+------------------+-----------------+------------------+-----------------+------------------+------------------+------------------+------------------+-----------------+------------------+------------------+-----------------+-----------------+-----------------+------------------+------------------+-----------------+------------------+-----------------+-----------------+----------------+----------------+---------------------+--------+--------+----------+---------+----------+---------+----------+------------+-------------+\n",
            "| DE-Hte|      WET|    1|          1.7358|          1.0216|          1.6616|   -11.4751699648|          0.3835659|         0.9969086|         0.40397998|         0.9965054|        0.14720578|         0.1545212|         0.1478573|        0.15347766|           0.549194|          0.6696844|          0.5158076|          0.7090298|       0.096994441|             8.8|             5.4|            19.2|             null|            null|      -0.0011539816|      273.856146|      274.435346|      0.0019975366|      0.094917338|       0.006391954|      0.309491122|       0.029850589|       0.087722468|      0.0255950522|      0.0360016088|     0.1006782172|        0.06084285|      0.0308156408|      0.134500822|       1.44861138|      0.492599564|        0.18368315|      0.0431961518|      0.238663594|        6.85627236|0.406666666666667|0.666666666666667|         273.996|         268.808|              398.869|ICOS2018|      17|       WAT|    Other|       Cfb|Temperate|         N|   54.210278|    12.176111|\n",
            "| DE-Hte|      WET|    2|          1.8132|           1.257|          1.0666|     1.7389293782|         0.26922966|         0.9822044|          0.2828576|         0.9823532|         0.1521867|         0.2730616|         0.1854654|         0.2662614|          0.4367854|          0.6629248|          0.4097388|          0.6241044|        1.09740666|            20.4|            11.6|            44.6|             null|            null|      -0.0016054918|      274.160688|      274.586334|      0.0014166852|      0.117459326|      0.0055169236|      0.299298402|      0.0300158268|      0.0879512994|       0.021729468|      0.0343587514|     0.1065093782|       0.070213817|       0.039129849|      0.131069146|       1.60291074|       0.49475542|       0.112837994|       0.043305411|      0.241389734|       1.785714286|              0.4|             0.66|         274.928|         270.316|              399.131|ICOS2018|      17|       WAT|    Other|       Cfb|Temperate|         N|   54.210278|    12.176111|\n",
            "| DE-Hte|      WET|    3|            3.95|1.69071428571429|1.28157142857143| 34.9185956128571|           0.083771| 0.991455428571429| 0.0721053428571429| 0.991647428571429| 0.288177428571429| 0.434243285714286| 0.303307857142857| 0.403702857142857|  0.382569857142857|  0.676304285714286|  0.352288285714286|  0.595252857142857|  3.31837332857143|42.4285714285714|22.7142857142857|93.4285714285714|             null|            null|-0.0025917545714285|276.591801428571|276.697582857143|       0.001594547|0.159124965714286|0.0052107877142857|0.296175701428571|0.0336314784285714|0.0901140457142857|0.0226961732857143|0.0363133467142857|0.113908874571429|0.0791330968571429|0.0464905604285714|0.125931039285714| 1.55565494285714|0.460980811428571|0.0654941302857143|0.0413476442857143|0.211855057142857|  3.75139468571429|0.407142857142857|0.685714285714286|278.551428571429|272.094285714286|     397.847857142857|ICOS2018|      17|       WAT|    Other|       Cfb|Temperate|         N|   54.210278|    12.176111|\n",
            "| DE-Hte|      WET|    4|           8.637|          3.2195|          1.1385|      86.27488481|       0.0300426375|        0.99592025|          0.0134526|        0.99522575|       0.837399625|       0.699647625|       0.814643125|        0.69701175|        0.879768625|        0.783529125|        0.828308875|        0.709586125|      7.2376790875|           79.25|          34.125|         174.875|             null|            null|    -0.004761925875|     281.7594525|    281.54589625|    0.001443788375|    0.28539807375|    0.004377072875|      0.271693185|    0.032981455375|     0.10049187175|      0.0216922905|    0.037011457375|   0.126726665625|    0.089258954625|     0.05209208125|0.148376397142857|      1.742406475|    0.50599771875|     0.05883513325|    0.051097243625|    0.25316038875|            0.4875|          0.49375|           1.1875|        285.8775|        277.1025|           397.666875|ICOS2018|      17|       WAT|    Other|       Cfb|Temperate|         N|   54.210278|    12.176111|\n",
            "| DE-Hte|      WET|    5|         12.6986|          4.2627|          1.4427| 116.852009903333|        -1.09393643|         0.9877016|         -1.1204752|         0.9875673|          3.310508|          2.969005|          3.266182|          2.952393|          2.1862915|          2.0555723|           2.197534|           2.069753|       10.84269502|            99.3|            43.9|           216.3|             null|            null|      -0.0062440434|      286.367716|      285.978873|      0.0018820539|      0.416011486|      0.0047493418|      0.242430036|      0.0265717733|        0.13993709|      0.0187943543|      0.0385091944|      0.150544024|      0.0885130635|      0.0437224192|0.243511038888889|       2.65030582|      0.674855652|       0.220687889|        0.09560665|      0.427252471|               0.0|            0.649|             2.47|         289.442|         280.734|             397.3465|ICOS2018|      17|       WAT|    Other|       Cfb|Temperate|         N|   54.210278|    12.176111|\n",
            "| DE-Hte|      WET|    6|         15.8848|          4.8434|          2.2498| 130.334297611111|          -3.208526|         0.9961111|          -3.258951|         0.9959029|          6.791337|          6.284797|          6.713142|          6.372533|           3.569907|          3.4109603|           3.543685|           3.381522|       12.94594345|           111.0|            48.9|           240.7|             null|            null|      -0.0070347258|      289.655343|      289.111882|      0.0023724144|      0.506635924|      0.0056521038|      0.246577936|       0.021438833|       0.173430494|      0.0172564158|      0.0367911947|       0.16738322|      0.0871881384|      0.0380696115|       0.32419022|       3.74829261|      0.779473539|       0.330071556|      0.1353249215|      0.542265593|               0.0|            0.747|             3.55|         291.504|          283.89|             397.1345|ICOS2018|      17|       WAT|    Other|       Cfb|Temperate|         N|   54.210278|    12.176111|\n",
            "| DE-Hte|      WET|    7|18.7038888888889|5.89788888888889|2.74222222222222|    121.273661475|           -2.30384| 0.994773111111111|  -2.33824666666667| 0.993279666666667|  6.37900444444444|  5.48591444444444|  6.28690666666667|  5.51503777777778|   4.07464444444444|   3.43511555555556|            4.05273|   3.51458111111111|  11.6760298888889|104.555555555556|47.2222222222222|226.222222222222|             null|            null|        -0.00717413|292.447832222222|291.910913333333|0.0028435237777777|       0.61519928|0.0070060386666666|0.252073668888889|0.0198097563333333| 0.181293463333333|0.0165097566666667|0.0351871566666667|0.174624604444444|0.0888264438888889|0.0371774394444444|    0.34485138125| 4.17416962222222|0.803303037777778| 0.342364527777778| 0.145609246666667|0.568415834444444|               0.0|0.778888888888889| 3.78888888888889|294.195555555556|287.093333333333|     397.654444444444|ICOS2018|      17|       WAT|    Other|       Cfb|Temperate|         N|   54.210278|    12.176111|\n",
            "| DE-Hte|      WET|    8|18.3131111111111|5.91422222222222|2.05788888888889|   91.45163270125|  -1.18339211111111| 0.996266555555556|  -1.20460755555556| 0.995519777777778|  4.89553444444444|  4.58707444444444|  4.82374777777778|  4.67128444444444|   3.70898555555556|   3.63058888888889|   3.66500222222222|   3.66941666666667|  8.66338377777778|85.4444444444444|39.4444444444444|184.444444444444|             null|            null|-0.0061964674444444|291.535248888889|       291.33841|0.0029168892222222|0.550334076666667|       0.008070566|0.249775505555556|0.0198773608888889|        0.16525622|0.0158982721111111|0.0326433368888889|0.165823037777778|0.0861031015555556|0.0361703838888889|     0.3145907925| 4.07919891111111|0.784820941111111| 0.314918448888889| 0.129769401777778|0.548231538888889|               0.0|0.764444444444444| 3.28888888888889|292.797777777778|286.668888888889|                396.9|ICOS2018|      17|       WAT|    Other|       Cfb|Temperate|         N|   54.210278|    12.176111|\n",
            "| DE-Hte|      WET|    9|15.2603333333333|4.35677777777778|1.45311111111111|    52.6847257175|-0.0254121444444444| 0.996064888888889|-0.0152858555555556| 0.994830222222222|  3.39474333333333|  2.90214222222222|  3.26924222222222|  2.84670222222222|            3.41291|            3.01252|   3.25570777777778|            3.03042|  5.50643576666667|60.2222222222222|28.2222222222222|129.888888888889|             null|            null|-0.0045507867777777|287.894806666667|288.057414444444|       0.002214502|0.387527008888889|0.0079749146666666|0.259769023333333|0.0208286744444444| 0.145110271111111|0.0158592598888889|0.0308593037777778|0.153032084444444|0.0821483711111111|0.0362562965555556|       0.27214634| 3.71921523333333|0.748250511111111| 0.277134547777778| 0.108739609111111|0.507836738888889|               0.0|0.727777777777778| 2.48888888888889|289.773333333333|283.937777777778|     396.348333333333|ICOS2018|      17|       WAT|    Other|       Cfb|Temperate|         N|   54.210278|    12.176111|\n",
            "| DE-Hte|      WET|   10|11.0053333333333|2.62177777777778|1.69577777777778|   12.99079292475|  0.597439111111111|           0.97842|  0.591644555555556| 0.978270666666667|  1.39220366666667|          1.209663|  1.35357655555556|           1.20377|   2.00549822222222|   1.77702611111111|   1.95191677777778|   1.73313322222222|  2.08922146666667|31.2222222222222|15.4444444444444|            68.0|             null|            null|-0.0028457581111111|       283.40726|283.822002222222|0.0021303602222222|0.236680414444444|0.0072617511111111|0.282022118888889|0.0235969941111111| 0.126018970444444|0.0165145927777778|0.0313462492222222|0.137566943333333|0.0786225516666667|0.0356403867777778|    0.22545109625|         3.054085|0.683518913333333| 0.230516558888889|0.0863815755555555|0.436216572222222|0.0752688177777778|0.645555555555556| 1.62222222222222|285.195555555556|279.333333333333|     396.559444444444|ICOS2018|      17|       WAT|    Other|       Cfb|Temperate|         N|   54.210278|    12.176111|\n",
            "| DE-Hte|      WET|   11|           6.819|1.45642857142857|1.20257142857143|-7.93198004216667|  0.677618285714286|          0.995734|  0.681241857142857| 0.995138857142857| 0.416007571428571| 0.349539285714286| 0.426348714285714|          0.362543|   1.10254157142857|  0.986519285714286|   1.08281357142857|   1.01339042857143| 0.325201974285714|12.5714285714286|7.14285714285714|27.2857142857143|             null|            null|-0.0015300102857142|279.246337142857|279.698861428571|0.0017416168571428|       0.12865691|0.0061016175714285|0.298696531428571|0.0262092084285714|0.0960724914285714|0.0201801127142857|0.0305233822857143|0.110637201428571|       0.069871066|0.0342129017142857|0.159129548333333| 2.22183832857143|0.569331287142857| 0.158160034285714|0.0551282161428571|0.315591987142857| 0.457142857142857|0.501428571428571|              1.0|           279.6|275.711428571429|     397.906428571429|ICOS2018|      17|       WAT|    Other|       Cfb|Temperate|         N|   54.210278|    12.176111|\n",
            "| DE-Hte|      WET|   12|4.39016666666667|1.28816666666667|1.94533333333333|-15.5109788033333|  0.558346333333333| 0.963709666666667|          0.5649275| 0.963709666666667|        0.08659875| 0.109151016666667|         0.0889797|          0.124922|  0.674896166666667|  0.833379333333333|  0.662121666666667|          0.9938805|0.0542399276666667|             6.5|             4.0|            14.0|             null|            null|-0.0015256728333333|276.447658333333|277.072388333333|0.0024280806666666|0.114671051666667|0.0066776481666666|      0.305615365|       0.041611159| 0.100005614333333|0.0370857116666667|0.0553020363333333|0.115387383333333|0.0731025983333333|      0.0434318885|      0.136228646|0.830825483333333|      0.413886305| 0.156055273333333|      0.0412982525|0.170302633333333|  3.00686983333333|             null|             null|274.736666666667|270.936666666667|     397.144166666667|ICOS2018|      17|       WAT|    Other|       Cfb|Temperate|         N|   54.210278|    12.176111|\n",
            "| FI-Qvd|      CRO|    1|           2.847|           1.897|           1.884|     -25.29224834|           0.947193|          0.959005|           0.946839|          0.959005|          0.102508|          0.223305|          0.113006|          0.229035|            1.06243|            1.07332|            1.05988|            1.13607|        0.14995207|            15.0|             9.0|             8.0|             null|            null|       -0.005342983|       275.37582|        275.8408|       0.001965227|      0.106794514|       0.007979744|       0.32435262|        0.20576666|        0.27395275|        0.21489722|        0.22030835|       0.18335277|        0.07506111|       0.035544444|       0.19035973|       0.63886374|       0.21481042|         0.5256945|       0.042885944|        0.0757404|          57.77256|             null|             null|          271.44|          271.32|              411.225|ICOS2020|       8|       WSA|       SA|       Dfb|     Cold|         N|   60.295242|    22.391607|\n",
            "| FI-Qvd|      CRO|    2|           1.156|           1.999|           3.431|     -8.219985632|           0.619668|          0.962644|           0.624015|          0.962644|          0.327085|          0.463366|          0.285993|          0.462206|            0.95153|           0.849528|           0.949466|           0.867817|        0.81908554|            57.0|            29.0|            28.0|             null|            null|       -0.006370969|        273.9901|       274.36597|       0.002540551|       0.13498113|       0.007562111|        0.3150668|            0.0515|        0.14103793|       0.031201724|       0.050182756|       0.14868276|        0.09503103|       0.053731035|        0.1842814|        1.8245709|        0.4661092|        0.20466259|       0.065793425|       0.21391296|               0.0|             0.37|              0.6|          272.08|          268.62|              411.455|ICOS2020|       8|       WSA|       SA|       Dfb|     Cold|         N|   60.295242|    22.391607|\n",
            "| FI-Qvd|      CRO|    3|           1.698|           2.233|           1.975|      14.17450198|           0.512632|          0.983871|           0.511448|          0.983871|          0.503479|          0.639278|          0.490533|           0.65012|            1.00175|           0.961923|            1.00195|            1.02746|          2.669604|           149.0|            73.0|            73.0|             null|            null|       -0.008427925|       274.73386|        275.0709|       0.002152563|       0.16618632|        0.00665834|       0.34142414|       0.050056454|        0.14421612|       0.028677417|       0.046133876|       0.16138385|        0.11646291|        0.06390484|       0.19130139|        2.1284406|       0.48528704|       0.110022895|         0.0698743|       0.23143958|        0.67741936|             0.37|              0.6|          274.62|          269.68|               411.63|ICOS2020|       8|       WSA|       SA|       Dfb|     Cold|         N|   60.295242|    22.391607|\n",
            "| FI-Qvd|      CRO|    4|           5.221|           4.259|          0.6265|      58.65742299|         -0.2052135|          0.948264|          -0.210092|         0.9472225|           2.33462|          2.924535|          2.320505|           2.83259|           2.098705|          1.3863755|           2.104135|            1.55065|        5.48039915|           173.5|            76.0|           147.5|             null|            null|       -0.013080273|       278.64882|      278.476215|       7.575675E-4|      0.286618815|       0.005225735|       0.32012346|      0.0588733335|       0.165311665|      0.0329683315|       0.054194994|       0.19360665|       0.154676665|       0.091443333|       0.20910965|        2.0483365|       0.47434981|      0.0335182265|       0.078525665|       0.22156421|               0.4|             0.45|              0.9|          284.26|          271.57|               411.33|ICOS2020|       8|       WSA|       SA|       Dfb|     Cold|         N|   60.295242|    22.391607|\n",
            "| FI-Qvd|      CRO|    5|          9.2145|          4.8225|          1.4515|      95.19549109|           -2.06449|          0.956653|           -2.05917|          0.955309|           7.49887|          6.411095|          7.457685|          6.380705|           5.403225|           4.193155|            5.40625|           4.116175|        7.83048935|           260.5|           100.0|           208.5|             null|            null|      -0.0163969285|       282.85134|       282.49314|      0.0016133095|       0.37816448|      0.0044941255|       0.28458868|      0.0518306465|        0.20141452|      0.0288032255|       0.054767741|      0.217743545|       0.155979045|        0.08496774|       0.28831805|       2.68675635|      0.588247805|        0.12557055|        0.11936332|      0.334109885|               0.0|            0.565|              1.5|          289.97|          276.25|               412.09|ICOS2020|       8|       WSA|       SA|       Dfb|     Cold|         N|   60.295242|    22.391607|\n",
            "| FI-Qvd|      CRO|    6|         15.8245|           7.077|           0.639|      116.3843715|             -2.074|         0.9774305|           -2.07599|         0.9774305|          7.163845|          7.033435|          7.049095|          7.041375|            4.98209|           5.153605|           4.958175|           5.035125|        10.6112745|           119.0|            46.5|           258.0|             null|            null|      -0.0235749075|      289.806505|      289.151135|      0.0011002295|      0.671310315|       0.002953682|       0.30283922|       0.042203337|         0.2585683|      0.0247533325|      0.0529700025|      0.246029995|        0.14925167|       0.068350002|       0.40796476|         3.913317|       0.71955529|        0.26806626|       0.186259625|      0.475997425|               0.0|            0.725|              2.7|          295.37|          282.16|             409.3625|ICOS2020|       8|       WSA|       SA|       Dfb|     Cold|         N|   60.295242|    22.391607|\n",
            "| FI-Qvd|      CRO|    7|17.7723333333333|7.20533333333333|2.36566666666667|     108.32090951|          -1.664779| 0.929435333333333|  -1.71126833333333|          0.919803|  8.70387333333333|  9.00226666666667|           8.59575|  9.06626666666667|   6.88169333333333|   7.08191333333333|   6.88682666666667|   6.97236666666667|         9.5642865|           204.0|            94.0|           214.0|             null|            null|       -0.019594848|291.676216666667|291.417033333333|0.0025564483333333|0.689088466666667|0.0050816113333333|0.304460776666667|0.0321978473333333| 0.255716126666667|0.0194505386666667|0.0440172026666667|       0.23484194|        0.13740644|0.0591774196666667|0.428920793333333| 4.82963013333333|       0.77623215| 0.300728033333333|        0.19859028|0.538759033333333|               0.0|             0.75|              2.9|295.893333333333|285.286666666667|     409.863333333333|ICOS2020|       8|       WSA|       SA|       Dfb|     Cold|         N|   60.295242|    22.391607|\n",
            "| FI-Qvd|      CRO|    8|          16.866|           5.495|1.95933333333333| 80.3642744833333| -0.881158333333333| 0.928987666666667|         -0.8893386| 0.927643333333333|           7.10662|           7.29292|           7.07397|           7.32076|   6.14796666666667|   6.13792333333333|   6.19841333333333|   6.13827666666667|  7.41909506666667|170.666666666667|71.3333333333333|171.666666666667|             null|            null|       -0.016711275|291.061736666667|       290.88433|0.0017734883333333|       0.57032733|0.0055587323333333|0.308560216666667|0.0334354806666667| 0.231893536666667|0.0218236563333333|       0.042589245|       0.22183116|        0.13396668|0.0580892443333333|0.391001473333333| 4.52299756666667|0.745925366666667| 0.265864673333333|        0.17376411|0.505051633333333|               0.0|             0.69| 2.33333333333333|          293.06|284.986666666667|     409.208333333333|ICOS2020|       8|       WSA|       SA|       Dfb|     Cold|         N|   60.295242|    22.391607|\n",
            "+-------+---------+-----+----------------+----------------+----------------+-----------------+-------------------+------------------+-------------------+------------------+------------------+------------------+------------------+------------------+-------------------+-------------------+-------------------+-------------------+------------------+----------------+----------------+----------------+-----------------+----------------+-------------------+----------------+----------------+------------------+-----------------+------------------+-----------------+------------------+------------------+------------------+------------------+-----------------+------------------+------------------+-----------------+-----------------+-----------------+------------------+------------------+-----------------+------------------+-----------------+-----------------+----------------+----------------+---------------------+--------+--------+----------+---------+----------+---------+----------+------------+-------------+\n",
            "only showing top 20 rows\n",
            "\n"
          ]
        }
      ]
    },
    {
      "cell_type": "markdown",
      "source": [
        "### Impute with average across sites"
      ],
      "metadata": {
        "id": "YbHMhWKmvzwP"
      }
    },
    {
      "cell_type": "code",
      "source": [
        "static_monthly_sdf.select(mean('CSIF_SIFdaily_avg')).head()[0]"
      ],
      "metadata": {
        "colab": {
          "base_uri": "https://localhost:8080/"
        },
        "outputId": "93481650-39ea-45d8-dd38-05c6f65c865c",
        "id": "wDkcpUFZvzwQ"
      },
      "execution_count": 365,
      "outputs": [
        {
          "output_type": "execute_result",
          "data": {
            "text/plain": [
              "0.14615525132880283"
            ]
          },
          "metadata": {},
          "execution_count": 365
        }
      ]
    },
    {
      "cell_type": "code",
      "source": [
        "static_monthly_sdf = static_monthly_sdf.fillna(\n",
        "    value = static_monthly_sdf\n",
        "    # .filter(static_monthly_sdf.SITE_ID == 'FI-Ken')\n",
        "    .select(mean('CSIF_SIFdaily_avg')).head()[0],\n",
        "    subset = ['CSIF_SIFdaily_avg'])"
      ],
      "metadata": {
        "id": "gsZCy74RvzwQ"
      },
      "execution_count": 366,
      "outputs": []
    },
    {
      "cell_type": "code",
      "source": [
        "static_monthly_sdf.filter(static_monthly_sdf.SITE_ID == 'DE-Hte').show() "
      ],
      "metadata": {
        "colab": {
          "base_uri": "https://localhost:8080/"
        },
        "outputId": "330b83c6-a07f-4b5c-adab-5f69b9870c3b",
        "id": "m10_YUoTvzwR"
      },
      "execution_count": 367,
      "outputs": [
        {
          "output_type": "stream",
          "name": "stdout",
          "text": [
            "+-------+---------+-----+----------------+----------------+----------------+-----------------+-------------------+------------------+-------------------+------------------+------------------+------------------+------------------+------------------+-------------------+-------------------+-------------------+-------------------+------------------+----------------+----------------+----------------+-------------------+----------------+-------------------+----------------+----------------+------------------+-----------------+------------------+-----------------+------------------+------------------+------------------+------------------+-----------------+------------------+------------------+-----------------+-----------------+-----------------+------------------+------------------+-----------------+------------------+-----------------+-----------------+----------------+----------------+---------------------+--------+--------+----------+---------+----------+---------+----------+------------+-------------+\n",
            "|SITE_ID|SITE_IGBP|month|        TA_F_avg|       VPD_F_avg|         P_F_avg|       NETRAD_avg|    NEE_VUT_REF_avg|NEE_VUT_REF_QC_avg|    NEE_CUT_REF_avg|NEE_CUT_REF_QC_avg|GPP_NT_VUT_REF_avg|GPP_DT_VUT_REF_avg|GPP_NT_CUT_REF_avg|GPP_DT_CUT_REF_avg|RECO_NT_VUT_REF_avg|RECO_DT_VUT_REF_avg|RECO_NT_CUT_REF_avg|RECO_DT_CUT_REF_avg|            ET_avg|    BESS_PAR_avg|BESS_PARdiff_avg|   BESS_RSDN_avg|  CSIF_SIFdaily_avg|CSIF_SIFinst_avg|            PET_avg|          Ts_avg|       Tmean_avg|          prcp_avg|          vpd_avg|     prcp_lag3_avg|    ESACCI_sm_avg|            b1_avg|            b2_avg|            b3_avg|            b4_avg|           b5_avg|            b6_avg|            b7_avg|          EVI_avg|          GCI_avg|         NDVI_avg|          NDWI_avg|          NIRv_avg|        kNDVI_avg|  Percent_Snow_avg|         Fpar_avg|          Lai_avg|     LST_Day_avg|   LST_Night_avg|CO2_concentration_avg| dataset|MODIS_LC|MODIS_IGBP|MODIS_PFT|koppen_sub|   koppen|hemisphere|LOCATION_LAT|LOCATION_LONG|\n",
            "+-------+---------+-----+----------------+----------------+----------------+-----------------+-------------------+------------------+-------------------+------------------+------------------+------------------+------------------+------------------+-------------------+-------------------+-------------------+-------------------+------------------+----------------+----------------+----------------+-------------------+----------------+-------------------+----------------+----------------+------------------+-----------------+------------------+-----------------+------------------+------------------+------------------+------------------+-----------------+------------------+------------------+-----------------+-----------------+-----------------+------------------+------------------+-----------------+------------------+-----------------+-----------------+----------------+----------------+---------------------+--------+--------+----------+---------+----------+---------+----------+------------+-------------+\n",
            "| DE-Hte|      WET|    1|          1.7358|          1.0216|          1.6616|   -11.4751699648|          0.3835659|         0.9969086|         0.40397998|         0.9965054|        0.14720578|         0.1545212|         0.1478573|        0.15347766|           0.549194|          0.6696844|          0.5158076|          0.7090298|       0.096994441|             8.8|             5.4|            19.2|0.14615525132880283|            null|      -0.0011539816|      273.856146|      274.435346|      0.0019975366|      0.094917338|       0.006391954|      0.309491122|       0.029850589|       0.087722468|      0.0255950522|      0.0360016088|     0.1006782172|        0.06084285|      0.0308156408|      0.134500822|       1.44861138|      0.492599564|        0.18368315|      0.0431961518|      0.238663594|        6.85627236|0.406666666666667|0.666666666666667|         273.996|         268.808|              398.869|ICOS2018|      17|       WAT|    Other|       Cfb|Temperate|         N|   54.210278|    12.176111|\n",
            "| DE-Hte|      WET|    2|          1.8132|           1.257|          1.0666|     1.7389293782|         0.26922966|         0.9822044|          0.2828576|         0.9823532|         0.1521867|         0.2730616|         0.1854654|         0.2662614|          0.4367854|          0.6629248|          0.4097388|          0.6241044|        1.09740666|            20.4|            11.6|            44.6|0.14615525132880283|            null|      -0.0016054918|      274.160688|      274.586334|      0.0014166852|      0.117459326|      0.0055169236|      0.299298402|      0.0300158268|      0.0879512994|       0.021729468|      0.0343587514|     0.1065093782|       0.070213817|       0.039129849|      0.131069146|       1.60291074|       0.49475542|       0.112837994|       0.043305411|      0.241389734|       1.785714286|              0.4|             0.66|         274.928|         270.316|              399.131|ICOS2018|      17|       WAT|    Other|       Cfb|Temperate|         N|   54.210278|    12.176111|\n",
            "| DE-Hte|      WET|    3|            3.95|1.69071428571429|1.28157142857143| 34.9185956128571|           0.083771| 0.991455428571429| 0.0721053428571429| 0.991647428571429| 0.288177428571429| 0.434243285714286| 0.303307857142857| 0.403702857142857|  0.382569857142857|  0.676304285714286|  0.352288285714286|  0.595252857142857|  3.31837332857143|42.4285714285714|22.7142857142857|93.4285714285714|0.14615525132880283|            null|-0.0025917545714285|276.591801428571|276.697582857143|       0.001594547|0.159124965714286|0.0052107877142857|0.296175701428571|0.0336314784285714|0.0901140457142857|0.0226961732857143|0.0363133467142857|0.113908874571429|0.0791330968571429|0.0464905604285714|0.125931039285714| 1.55565494285714|0.460980811428571|0.0654941302857143|0.0413476442857143|0.211855057142857|  3.75139468571429|0.407142857142857|0.685714285714286|278.551428571429|272.094285714286|     397.847857142857|ICOS2018|      17|       WAT|    Other|       Cfb|Temperate|         N|   54.210278|    12.176111|\n",
            "| DE-Hte|      WET|    4|           8.637|          3.2195|          1.1385|      86.27488481|       0.0300426375|        0.99592025|          0.0134526|        0.99522575|       0.837399625|       0.699647625|       0.814643125|        0.69701175|        0.879768625|        0.783529125|        0.828308875|        0.709586125|      7.2376790875|           79.25|          34.125|         174.875|0.14615525132880283|            null|    -0.004761925875|     281.7594525|    281.54589625|    0.001443788375|    0.28539807375|    0.004377072875|      0.271693185|    0.032981455375|     0.10049187175|      0.0216922905|    0.037011457375|   0.126726665625|    0.089258954625|     0.05209208125|0.148376397142857|      1.742406475|    0.50599771875|     0.05883513325|    0.051097243625|    0.25316038875|            0.4875|          0.49375|           1.1875|        285.8775|        277.1025|           397.666875|ICOS2018|      17|       WAT|    Other|       Cfb|Temperate|         N|   54.210278|    12.176111|\n",
            "| DE-Hte|      WET|    5|         12.6986|          4.2627|          1.4427| 116.852009903333|        -1.09393643|         0.9877016|         -1.1204752|         0.9875673|          3.310508|          2.969005|          3.266182|          2.952393|          2.1862915|          2.0555723|           2.197534|           2.069753|       10.84269502|            99.3|            43.9|           216.3|0.14615525132880283|            null|      -0.0062440434|      286.367716|      285.978873|      0.0018820539|      0.416011486|      0.0047493418|      0.242430036|      0.0265717733|        0.13993709|      0.0187943543|      0.0385091944|      0.150544024|      0.0885130635|      0.0437224192|0.243511038888889|       2.65030582|      0.674855652|       0.220687889|        0.09560665|      0.427252471|               0.0|            0.649|             2.47|         289.442|         280.734|             397.3465|ICOS2018|      17|       WAT|    Other|       Cfb|Temperate|         N|   54.210278|    12.176111|\n",
            "| DE-Hte|      WET|    6|         15.8848|          4.8434|          2.2498| 130.334297611111|          -3.208526|         0.9961111|          -3.258951|         0.9959029|          6.791337|          6.284797|          6.713142|          6.372533|           3.569907|          3.4109603|           3.543685|           3.381522|       12.94594345|           111.0|            48.9|           240.7|0.14615525132880283|            null|      -0.0070347258|      289.655343|      289.111882|      0.0023724144|      0.506635924|      0.0056521038|      0.246577936|       0.021438833|       0.173430494|      0.0172564158|      0.0367911947|       0.16738322|      0.0871881384|      0.0380696115|       0.32419022|       3.74829261|      0.779473539|       0.330071556|      0.1353249215|      0.542265593|               0.0|            0.747|             3.55|         291.504|          283.89|             397.1345|ICOS2018|      17|       WAT|    Other|       Cfb|Temperate|         N|   54.210278|    12.176111|\n",
            "| DE-Hte|      WET|    7|18.7038888888889|5.89788888888889|2.74222222222222|    121.273661475|           -2.30384| 0.994773111111111|  -2.33824666666667| 0.993279666666667|  6.37900444444444|  5.48591444444444|  6.28690666666667|  5.51503777777778|   4.07464444444444|   3.43511555555556|            4.05273|   3.51458111111111|  11.6760298888889|104.555555555556|47.2222222222222|226.222222222222|0.14615525132880283|            null|        -0.00717413|292.447832222222|291.910913333333|0.0028435237777777|       0.61519928|0.0070060386666666|0.252073668888889|0.0198097563333333| 0.181293463333333|0.0165097566666667|0.0351871566666667|0.174624604444444|0.0888264438888889|0.0371774394444444|    0.34485138125| 4.17416962222222|0.803303037777778| 0.342364527777778| 0.145609246666667|0.568415834444444|               0.0|0.778888888888889| 3.78888888888889|294.195555555556|287.093333333333|     397.654444444444|ICOS2018|      17|       WAT|    Other|       Cfb|Temperate|         N|   54.210278|    12.176111|\n",
            "| DE-Hte|      WET|    8|18.3131111111111|5.91422222222222|2.05788888888889|   91.45163270125|  -1.18339211111111| 0.996266555555556|  -1.20460755555556| 0.995519777777778|  4.89553444444444|  4.58707444444444|  4.82374777777778|  4.67128444444444|   3.70898555555556|   3.63058888888889|   3.66500222222222|   3.66941666666667|  8.66338377777778|85.4444444444444|39.4444444444444|184.444444444444|0.14615525132880283|            null|-0.0061964674444444|291.535248888889|       291.33841|0.0029168892222222|0.550334076666667|       0.008070566|0.249775505555556|0.0198773608888889|        0.16525622|0.0158982721111111|0.0326433368888889|0.165823037777778|0.0861031015555556|0.0361703838888889|     0.3145907925| 4.07919891111111|0.784820941111111| 0.314918448888889| 0.129769401777778|0.548231538888889|               0.0|0.764444444444444| 3.28888888888889|292.797777777778|286.668888888889|                396.9|ICOS2018|      17|       WAT|    Other|       Cfb|Temperate|         N|   54.210278|    12.176111|\n",
            "| DE-Hte|      WET|    9|15.2603333333333|4.35677777777778|1.45311111111111|    52.6847257175|-0.0254121444444444| 0.996064888888889|-0.0152858555555556| 0.994830222222222|  3.39474333333333|  2.90214222222222|  3.26924222222222|  2.84670222222222|            3.41291|            3.01252|   3.25570777777778|            3.03042|  5.50643576666667|60.2222222222222|28.2222222222222|129.888888888889|0.14615525132880283|            null|-0.0045507867777777|287.894806666667|288.057414444444|       0.002214502|0.387527008888889|0.0079749146666666|0.259769023333333|0.0208286744444444| 0.145110271111111|0.0158592598888889|0.0308593037777778|0.153032084444444|0.0821483711111111|0.0362562965555556|       0.27214634| 3.71921523333333|0.748250511111111| 0.277134547777778| 0.108739609111111|0.507836738888889|               0.0|0.727777777777778| 2.48888888888889|289.773333333333|283.937777777778|     396.348333333333|ICOS2018|      17|       WAT|    Other|       Cfb|Temperate|         N|   54.210278|    12.176111|\n",
            "| DE-Hte|      WET|   10|11.0053333333333|2.62177777777778|1.69577777777778|   12.99079292475|  0.597439111111111|           0.97842|  0.591644555555556| 0.978270666666667|  1.39220366666667|          1.209663|  1.35357655555556|           1.20377|   2.00549822222222|   1.77702611111111|   1.95191677777778|   1.73313322222222|  2.08922146666667|31.2222222222222|15.4444444444444|            68.0|0.14615525132880283|            null|-0.0028457581111111|       283.40726|283.822002222222|0.0021303602222222|0.236680414444444|0.0072617511111111|0.282022118888889|0.0235969941111111| 0.126018970444444|0.0165145927777778|0.0313462492222222|0.137566943333333|0.0786225516666667|0.0356403867777778|    0.22545109625|         3.054085|0.683518913333333| 0.230516558888889|0.0863815755555555|0.436216572222222|0.0752688177777778|0.645555555555556| 1.62222222222222|285.195555555556|279.333333333333|     396.559444444444|ICOS2018|      17|       WAT|    Other|       Cfb|Temperate|         N|   54.210278|    12.176111|\n",
            "| DE-Hte|      WET|   11|           6.819|1.45642857142857|1.20257142857143|-7.93198004216667|  0.677618285714286|          0.995734|  0.681241857142857| 0.995138857142857| 0.416007571428571| 0.349539285714286| 0.426348714285714|          0.362543|   1.10254157142857|  0.986519285714286|   1.08281357142857|   1.01339042857143| 0.325201974285714|12.5714285714286|7.14285714285714|27.2857142857143|0.14615525132880283|            null|-0.0015300102857142|279.246337142857|279.698861428571|0.0017416168571428|       0.12865691|0.0061016175714285|0.298696531428571|0.0262092084285714|0.0960724914285714|0.0201801127142857|0.0305233822857143|0.110637201428571|       0.069871066|0.0342129017142857|0.159129548333333| 2.22183832857143|0.569331287142857| 0.158160034285714|0.0551282161428571|0.315591987142857| 0.457142857142857|0.501428571428571|              1.0|           279.6|275.711428571429|     397.906428571429|ICOS2018|      17|       WAT|    Other|       Cfb|Temperate|         N|   54.210278|    12.176111|\n",
            "| DE-Hte|      WET|   12|4.39016666666667|1.28816666666667|1.94533333333333|-15.5109788033333|  0.558346333333333| 0.963709666666667|          0.5649275| 0.963709666666667|        0.08659875| 0.109151016666667|         0.0889797|          0.124922|  0.674896166666667|  0.833379333333333|  0.662121666666667|          0.9938805|0.0542399276666667|             6.5|             4.0|            14.0|0.14615525132880283|            null|-0.0015256728333333|276.447658333333|277.072388333333|0.0024280806666666|0.114671051666667|0.0066776481666666|      0.305615365|       0.041611159| 0.100005614333333|0.0370857116666667|0.0553020363333333|0.115387383333333|0.0731025983333333|      0.0434318885|      0.136228646|0.830825483333333|      0.413886305| 0.156055273333333|      0.0412982525|0.170302633333333|  3.00686983333333|             null|             null|274.736666666667|270.936666666667|     397.144166666667|ICOS2018|      17|       WAT|    Other|       Cfb|Temperate|         N|   54.210278|    12.176111|\n",
            "+-------+---------+-----+----------------+----------------+----------------+-----------------+-------------------+------------------+-------------------+------------------+------------------+------------------+------------------+------------------+-------------------+-------------------+-------------------+-------------------+------------------+----------------+----------------+----------------+-------------------+----------------+-------------------+----------------+----------------+------------------+-----------------+------------------+-----------------+------------------+------------------+------------------+------------------+-----------------+------------------+------------------+-----------------+-----------------+-----------------+------------------+------------------+-----------------+------------------+-----------------+-----------------+----------------+----------------+---------------------+--------+--------+----------+---------+----------+---------+----------+------------+-------------+\n",
            "\n"
          ]
        }
      ]
    },
    {
      "cell_type": "code",
      "source": [
        "static_monthly_sdf.filter(static_monthly_sdf.CSIF_SIFdaily_avg.isNull()).show()"
      ],
      "metadata": {
        "colab": {
          "base_uri": "https://localhost:8080/"
        },
        "outputId": "06846c98-d2eb-45c4-8dac-bb6c5f880f1c",
        "id": "7Whj1FAovzwR"
      },
      "execution_count": 368,
      "outputs": [
        {
          "output_type": "stream",
          "name": "stdout",
          "text": [
            "+-------+---------+-----+--------+---------+-------+----------+---------------+------------------+---------------+------------------+------------------+------------------+------------------+------------------+-------------------+-------------------+-------------------+-------------------+------+------------+----------------+-------------+-----------------+----------------+-------+------+---------+--------+-------+-------------+-------------+------+------+------+------+------+------+------+-------+-------+--------+--------+--------+---------+----------------+--------+-------+-----------+-------------+---------------------+-------+--------+----------+---------+----------+------+----------+------------+-------------+\n",
            "|SITE_ID|SITE_IGBP|month|TA_F_avg|VPD_F_avg|P_F_avg|NETRAD_avg|NEE_VUT_REF_avg|NEE_VUT_REF_QC_avg|NEE_CUT_REF_avg|NEE_CUT_REF_QC_avg|GPP_NT_VUT_REF_avg|GPP_DT_VUT_REF_avg|GPP_NT_CUT_REF_avg|GPP_DT_CUT_REF_avg|RECO_NT_VUT_REF_avg|RECO_DT_VUT_REF_avg|RECO_NT_CUT_REF_avg|RECO_DT_CUT_REF_avg|ET_avg|BESS_PAR_avg|BESS_PARdiff_avg|BESS_RSDN_avg|CSIF_SIFdaily_avg|CSIF_SIFinst_avg|PET_avg|Ts_avg|Tmean_avg|prcp_avg|vpd_avg|prcp_lag3_avg|ESACCI_sm_avg|b1_avg|b2_avg|b3_avg|b4_avg|b5_avg|b6_avg|b7_avg|EVI_avg|GCI_avg|NDVI_avg|NDWI_avg|NIRv_avg|kNDVI_avg|Percent_Snow_avg|Fpar_avg|Lai_avg|LST_Day_avg|LST_Night_avg|CO2_concentration_avg|dataset|MODIS_LC|MODIS_IGBP|MODIS_PFT|koppen_sub|koppen|hemisphere|LOCATION_LAT|LOCATION_LONG|\n",
            "+-------+---------+-----+--------+---------+-------+----------+---------------+------------------+---------------+------------------+------------------+------------------+------------------+------------------+-------------------+-------------------+-------------------+-------------------+------+------------+----------------+-------------+-----------------+----------------+-------+------+---------+--------+-------+-------------+-------------+------+------+------+------+------+------+------+-------+-------+--------+--------+--------+---------+----------------+--------+-------+-----------+-------------+---------------------+-------+--------+----------+---------+----------+------+----------+------------+-------------+\n",
            "+-------+---------+-----+--------+---------+-------+----------+---------------+------------------+---------------+------------------+------------------+------------------+------------------+------------------+-------------------+-------------------+-------------------+-------------------+------+------------+----------------+-------------+-----------------+----------------+-------+------+---------+--------+-------+-------------+-------------+------+------+------+------+------+------+------+-------+-------+--------+--------+--------+---------+----------------+--------+-------+-----------+-------------+---------------------+-------+--------+----------+---------+----------+------+----------+------------+-------------+\n",
            "\n"
          ]
        }
      ]
    },
    {
      "cell_type": "markdown",
      "source": [
        "## `CSIF_SIFinst_avg`"
      ],
      "metadata": {
        "id": "zGSaBBj9rdm5"
      }
    },
    {
      "cell_type": "code",
      "source": [
        "static_monthly_sdf.filter(static_monthly_sdf.CSIF_SIFinst_avg.isNull()).show()"
      ],
      "metadata": {
        "colab": {
          "base_uri": "https://localhost:8080/"
        },
        "id": "vg98qcUDrdm5",
        "outputId": "6de8a9c4-a894-454f-a501-bb2906257081"
      },
      "execution_count": 369,
      "outputs": [
        {
          "output_type": "stream",
          "name": "stdout",
          "text": [
            "+-------+---------+-----+----------------+----------------+----------------+-----------------+-------------------+------------------+-------------------+------------------+------------------+------------------+------------------+------------------+-------------------+-------------------+-------------------+-------------------+------------------+----------------+----------------+----------------+-------------------+----------------+-------------------+----------------+----------------+------------------+-----------------+------------------+-----------------+------------------+------------------+------------------+------------------+-----------------+------------------+------------------+-----------------+-----------------+-----------------+------------------+------------------+-----------------+------------------+-----------------+-----------------+----------------+----------------+---------------------+--------+--------+----------+---------+----------+---------+----------+------------+-------------+\n",
            "|SITE_ID|SITE_IGBP|month|        TA_F_avg|       VPD_F_avg|         P_F_avg|       NETRAD_avg|    NEE_VUT_REF_avg|NEE_VUT_REF_QC_avg|    NEE_CUT_REF_avg|NEE_CUT_REF_QC_avg|GPP_NT_VUT_REF_avg|GPP_DT_VUT_REF_avg|GPP_NT_CUT_REF_avg|GPP_DT_CUT_REF_avg|RECO_NT_VUT_REF_avg|RECO_DT_VUT_REF_avg|RECO_NT_CUT_REF_avg|RECO_DT_CUT_REF_avg|            ET_avg|    BESS_PAR_avg|BESS_PARdiff_avg|   BESS_RSDN_avg|  CSIF_SIFdaily_avg|CSIF_SIFinst_avg|            PET_avg|          Ts_avg|       Tmean_avg|          prcp_avg|          vpd_avg|     prcp_lag3_avg|    ESACCI_sm_avg|            b1_avg|            b2_avg|            b3_avg|            b4_avg|           b5_avg|            b6_avg|            b7_avg|          EVI_avg|          GCI_avg|         NDVI_avg|          NDWI_avg|          NIRv_avg|        kNDVI_avg|  Percent_Snow_avg|         Fpar_avg|          Lai_avg|     LST_Day_avg|   LST_Night_avg|CO2_concentration_avg| dataset|MODIS_LC|MODIS_IGBP|MODIS_PFT|koppen_sub|   koppen|hemisphere|LOCATION_LAT|LOCATION_LONG|\n",
            "+-------+---------+-----+----------------+----------------+----------------+-----------------+-------------------+------------------+-------------------+------------------+------------------+------------------+------------------+------------------+-------------------+-------------------+-------------------+-------------------+------------------+----------------+----------------+----------------+-------------------+----------------+-------------------+----------------+----------------+------------------+-----------------+------------------+-----------------+------------------+------------------+------------------+------------------+-----------------+------------------+------------------+-----------------+-----------------+-----------------+------------------+------------------+-----------------+------------------+-----------------+-----------------+----------------+----------------+---------------------+--------+--------+----------+---------+----------+---------+----------+------------+-------------+\n",
            "| DE-Hte|      WET|    1|          1.7358|          1.0216|          1.6616|   -11.4751699648|          0.3835659|         0.9969086|         0.40397998|         0.9965054|        0.14720578|         0.1545212|         0.1478573|        0.15347766|           0.549194|          0.6696844|          0.5158076|          0.7090298|       0.096994441|             8.8|             5.4|            19.2|0.14615525132880283|            null|      -0.0011539816|      273.856146|      274.435346|      0.0019975366|      0.094917338|       0.006391954|      0.309491122|       0.029850589|       0.087722468|      0.0255950522|      0.0360016088|     0.1006782172|        0.06084285|      0.0308156408|      0.134500822|       1.44861138|      0.492599564|        0.18368315|      0.0431961518|      0.238663594|        6.85627236|0.406666666666667|0.666666666666667|         273.996|         268.808|              398.869|ICOS2018|      17|       WAT|    Other|       Cfb|Temperate|         N|   54.210278|    12.176111|\n",
            "| DE-Hte|      WET|    2|          1.8132|           1.257|          1.0666|     1.7389293782|         0.26922966|         0.9822044|          0.2828576|         0.9823532|         0.1521867|         0.2730616|         0.1854654|         0.2662614|          0.4367854|          0.6629248|          0.4097388|          0.6241044|        1.09740666|            20.4|            11.6|            44.6|0.14615525132880283|            null|      -0.0016054918|      274.160688|      274.586334|      0.0014166852|      0.117459326|      0.0055169236|      0.299298402|      0.0300158268|      0.0879512994|       0.021729468|      0.0343587514|     0.1065093782|       0.070213817|       0.039129849|      0.131069146|       1.60291074|       0.49475542|       0.112837994|       0.043305411|      0.241389734|       1.785714286|              0.4|             0.66|         274.928|         270.316|              399.131|ICOS2018|      17|       WAT|    Other|       Cfb|Temperate|         N|   54.210278|    12.176111|\n",
            "| DE-Hte|      WET|    3|            3.95|1.69071428571429|1.28157142857143| 34.9185956128571|           0.083771| 0.991455428571429| 0.0721053428571429| 0.991647428571429| 0.288177428571429| 0.434243285714286| 0.303307857142857| 0.403702857142857|  0.382569857142857|  0.676304285714286|  0.352288285714286|  0.595252857142857|  3.31837332857143|42.4285714285714|22.7142857142857|93.4285714285714|0.14615525132880283|            null|-0.0025917545714285|276.591801428571|276.697582857143|       0.001594547|0.159124965714286|0.0052107877142857|0.296175701428571|0.0336314784285714|0.0901140457142857|0.0226961732857143|0.0363133467142857|0.113908874571429|0.0791330968571429|0.0464905604285714|0.125931039285714| 1.55565494285714|0.460980811428571|0.0654941302857143|0.0413476442857143|0.211855057142857|  3.75139468571429|0.407142857142857|0.685714285714286|278.551428571429|272.094285714286|     397.847857142857|ICOS2018|      17|       WAT|    Other|       Cfb|Temperate|         N|   54.210278|    12.176111|\n",
            "| DE-Hte|      WET|    4|           8.637|          3.2195|          1.1385|      86.27488481|       0.0300426375|        0.99592025|          0.0134526|        0.99522575|       0.837399625|       0.699647625|       0.814643125|        0.69701175|        0.879768625|        0.783529125|        0.828308875|        0.709586125|      7.2376790875|           79.25|          34.125|         174.875|0.14615525132880283|            null|    -0.004761925875|     281.7594525|    281.54589625|    0.001443788375|    0.28539807375|    0.004377072875|      0.271693185|    0.032981455375|     0.10049187175|      0.0216922905|    0.037011457375|   0.126726665625|    0.089258954625|     0.05209208125|0.148376397142857|      1.742406475|    0.50599771875|     0.05883513325|    0.051097243625|    0.25316038875|            0.4875|          0.49375|           1.1875|        285.8775|        277.1025|           397.666875|ICOS2018|      17|       WAT|    Other|       Cfb|Temperate|         N|   54.210278|    12.176111|\n",
            "| DE-Hte|      WET|    5|         12.6986|          4.2627|          1.4427| 116.852009903333|        -1.09393643|         0.9877016|         -1.1204752|         0.9875673|          3.310508|          2.969005|          3.266182|          2.952393|          2.1862915|          2.0555723|           2.197534|           2.069753|       10.84269502|            99.3|            43.9|           216.3|0.14615525132880283|            null|      -0.0062440434|      286.367716|      285.978873|      0.0018820539|      0.416011486|      0.0047493418|      0.242430036|      0.0265717733|        0.13993709|      0.0187943543|      0.0385091944|      0.150544024|      0.0885130635|      0.0437224192|0.243511038888889|       2.65030582|      0.674855652|       0.220687889|        0.09560665|      0.427252471|               0.0|            0.649|             2.47|         289.442|         280.734|             397.3465|ICOS2018|      17|       WAT|    Other|       Cfb|Temperate|         N|   54.210278|    12.176111|\n",
            "| DE-Hte|      WET|    6|         15.8848|          4.8434|          2.2498| 130.334297611111|          -3.208526|         0.9961111|          -3.258951|         0.9959029|          6.791337|          6.284797|          6.713142|          6.372533|           3.569907|          3.4109603|           3.543685|           3.381522|       12.94594345|           111.0|            48.9|           240.7|0.14615525132880283|            null|      -0.0070347258|      289.655343|      289.111882|      0.0023724144|      0.506635924|      0.0056521038|      0.246577936|       0.021438833|       0.173430494|      0.0172564158|      0.0367911947|       0.16738322|      0.0871881384|      0.0380696115|       0.32419022|       3.74829261|      0.779473539|       0.330071556|      0.1353249215|      0.542265593|               0.0|            0.747|             3.55|         291.504|          283.89|             397.1345|ICOS2018|      17|       WAT|    Other|       Cfb|Temperate|         N|   54.210278|    12.176111|\n",
            "| DE-Hte|      WET|    7|18.7038888888889|5.89788888888889|2.74222222222222|    121.273661475|           -2.30384| 0.994773111111111|  -2.33824666666667| 0.993279666666667|  6.37900444444444|  5.48591444444444|  6.28690666666667|  5.51503777777778|   4.07464444444444|   3.43511555555556|            4.05273|   3.51458111111111|  11.6760298888889|104.555555555556|47.2222222222222|226.222222222222|0.14615525132880283|            null|        -0.00717413|292.447832222222|291.910913333333|0.0028435237777777|       0.61519928|0.0070060386666666|0.252073668888889|0.0198097563333333| 0.181293463333333|0.0165097566666667|0.0351871566666667|0.174624604444444|0.0888264438888889|0.0371774394444444|    0.34485138125| 4.17416962222222|0.803303037777778| 0.342364527777778| 0.145609246666667|0.568415834444444|               0.0|0.778888888888889| 3.78888888888889|294.195555555556|287.093333333333|     397.654444444444|ICOS2018|      17|       WAT|    Other|       Cfb|Temperate|         N|   54.210278|    12.176111|\n",
            "| DE-Hte|      WET|    8|18.3131111111111|5.91422222222222|2.05788888888889|   91.45163270125|  -1.18339211111111| 0.996266555555556|  -1.20460755555556| 0.995519777777778|  4.89553444444444|  4.58707444444444|  4.82374777777778|  4.67128444444444|   3.70898555555556|   3.63058888888889|   3.66500222222222|   3.66941666666667|  8.66338377777778|85.4444444444444|39.4444444444444|184.444444444444|0.14615525132880283|            null|-0.0061964674444444|291.535248888889|       291.33841|0.0029168892222222|0.550334076666667|       0.008070566|0.249775505555556|0.0198773608888889|        0.16525622|0.0158982721111111|0.0326433368888889|0.165823037777778|0.0861031015555556|0.0361703838888889|     0.3145907925| 4.07919891111111|0.784820941111111| 0.314918448888889| 0.129769401777778|0.548231538888889|               0.0|0.764444444444444| 3.28888888888889|292.797777777778|286.668888888889|                396.9|ICOS2018|      17|       WAT|    Other|       Cfb|Temperate|         N|   54.210278|    12.176111|\n",
            "| DE-Hte|      WET|    9|15.2603333333333|4.35677777777778|1.45311111111111|    52.6847257175|-0.0254121444444444| 0.996064888888889|-0.0152858555555556| 0.994830222222222|  3.39474333333333|  2.90214222222222|  3.26924222222222|  2.84670222222222|            3.41291|            3.01252|   3.25570777777778|            3.03042|  5.50643576666667|60.2222222222222|28.2222222222222|129.888888888889|0.14615525132880283|            null|-0.0045507867777777|287.894806666667|288.057414444444|       0.002214502|0.387527008888889|0.0079749146666666|0.259769023333333|0.0208286744444444| 0.145110271111111|0.0158592598888889|0.0308593037777778|0.153032084444444|0.0821483711111111|0.0362562965555556|       0.27214634| 3.71921523333333|0.748250511111111| 0.277134547777778| 0.108739609111111|0.507836738888889|               0.0|0.727777777777778| 2.48888888888889|289.773333333333|283.937777777778|     396.348333333333|ICOS2018|      17|       WAT|    Other|       Cfb|Temperate|         N|   54.210278|    12.176111|\n",
            "| DE-Hte|      WET|   10|11.0053333333333|2.62177777777778|1.69577777777778|   12.99079292475|  0.597439111111111|           0.97842|  0.591644555555556| 0.978270666666667|  1.39220366666667|          1.209663|  1.35357655555556|           1.20377|   2.00549822222222|   1.77702611111111|   1.95191677777778|   1.73313322222222|  2.08922146666667|31.2222222222222|15.4444444444444|            68.0|0.14615525132880283|            null|-0.0028457581111111|       283.40726|283.822002222222|0.0021303602222222|0.236680414444444|0.0072617511111111|0.282022118888889|0.0235969941111111| 0.126018970444444|0.0165145927777778|0.0313462492222222|0.137566943333333|0.0786225516666667|0.0356403867777778|    0.22545109625|         3.054085|0.683518913333333| 0.230516558888889|0.0863815755555555|0.436216572222222|0.0752688177777778|0.645555555555556| 1.62222222222222|285.195555555556|279.333333333333|     396.559444444444|ICOS2018|      17|       WAT|    Other|       Cfb|Temperate|         N|   54.210278|    12.176111|\n",
            "| DE-Hte|      WET|   11|           6.819|1.45642857142857|1.20257142857143|-7.93198004216667|  0.677618285714286|          0.995734|  0.681241857142857| 0.995138857142857| 0.416007571428571| 0.349539285714286| 0.426348714285714|          0.362543|   1.10254157142857|  0.986519285714286|   1.08281357142857|   1.01339042857143| 0.325201974285714|12.5714285714286|7.14285714285714|27.2857142857143|0.14615525132880283|            null|-0.0015300102857142|279.246337142857|279.698861428571|0.0017416168571428|       0.12865691|0.0061016175714285|0.298696531428571|0.0262092084285714|0.0960724914285714|0.0201801127142857|0.0305233822857143|0.110637201428571|       0.069871066|0.0342129017142857|0.159129548333333| 2.22183832857143|0.569331287142857| 0.158160034285714|0.0551282161428571|0.315591987142857| 0.457142857142857|0.501428571428571|              1.0|           279.6|275.711428571429|     397.906428571429|ICOS2018|      17|       WAT|    Other|       Cfb|Temperate|         N|   54.210278|    12.176111|\n",
            "| DE-Hte|      WET|   12|4.39016666666667|1.28816666666667|1.94533333333333|-15.5109788033333|  0.558346333333333| 0.963709666666667|          0.5649275| 0.963709666666667|        0.08659875| 0.109151016666667|         0.0889797|          0.124922|  0.674896166666667|  0.833379333333333|  0.662121666666667|          0.9938805|0.0542399276666667|             6.5|             4.0|            14.0|0.14615525132880283|            null|-0.0015256728333333|276.447658333333|277.072388333333|0.0024280806666666|0.114671051666667|0.0066776481666666|      0.305615365|       0.041611159| 0.100005614333333|0.0370857116666667|0.0553020363333333|0.115387383333333|0.0731025983333333|      0.0434318885|      0.136228646|0.830825483333333|      0.413886305| 0.156055273333333|      0.0412982525|0.170302633333333|  3.00686983333333|             null|             null|274.736666666667|270.936666666667|     397.144166666667|ICOS2018|      17|       WAT|    Other|       Cfb|Temperate|         N|   54.210278|    12.176111|\n",
            "| FI-Qvd|      CRO|    1|           2.847|           1.897|           1.884|     -25.29224834|           0.947193|          0.959005|           0.946839|          0.959005|          0.102508|          0.223305|          0.113006|          0.229035|            1.06243|            1.07332|            1.05988|            1.13607|        0.14995207|            15.0|             9.0|             8.0|0.14615525132880283|            null|       -0.005342983|       275.37582|        275.8408|       0.001965227|      0.106794514|       0.007979744|       0.32435262|        0.20576666|        0.27395275|        0.21489722|        0.22030835|       0.18335277|        0.07506111|       0.035544444|       0.19035973|       0.63886374|       0.21481042|         0.5256945|       0.042885944|        0.0757404|          57.77256|             null|             null|          271.44|          271.32|              411.225|ICOS2020|       8|       WSA|       SA|       Dfb|     Cold|         N|   60.295242|    22.391607|\n",
            "| FI-Qvd|      CRO|    2|           1.156|           1.999|           3.431|     -8.219985632|           0.619668|          0.962644|           0.624015|          0.962644|          0.327085|          0.463366|          0.285993|          0.462206|            0.95153|           0.849528|           0.949466|           0.867817|        0.81908554|            57.0|            29.0|            28.0|0.14615525132880283|            null|       -0.006370969|        273.9901|       274.36597|       0.002540551|       0.13498113|       0.007562111|        0.3150668|            0.0515|        0.14103793|       0.031201724|       0.050182756|       0.14868276|        0.09503103|       0.053731035|        0.1842814|        1.8245709|        0.4661092|        0.20466259|       0.065793425|       0.21391296|               0.0|             0.37|              0.6|          272.08|          268.62|              411.455|ICOS2020|       8|       WSA|       SA|       Dfb|     Cold|         N|   60.295242|    22.391607|\n",
            "| FI-Qvd|      CRO|    3|           1.698|           2.233|           1.975|      14.17450198|           0.512632|          0.983871|           0.511448|          0.983871|          0.503479|          0.639278|          0.490533|           0.65012|            1.00175|           0.961923|            1.00195|            1.02746|          2.669604|           149.0|            73.0|            73.0|0.14615525132880283|            null|       -0.008427925|       274.73386|        275.0709|       0.002152563|       0.16618632|        0.00665834|       0.34142414|       0.050056454|        0.14421612|       0.028677417|       0.046133876|       0.16138385|        0.11646291|        0.06390484|       0.19130139|        2.1284406|       0.48528704|       0.110022895|         0.0698743|       0.23143958|        0.67741936|             0.37|              0.6|          274.62|          269.68|               411.63|ICOS2020|       8|       WSA|       SA|       Dfb|     Cold|         N|   60.295242|    22.391607|\n",
            "| FI-Qvd|      CRO|    4|           5.221|           4.259|          0.6265|      58.65742299|         -0.2052135|          0.948264|          -0.210092|         0.9472225|           2.33462|          2.924535|          2.320505|           2.83259|           2.098705|          1.3863755|           2.104135|            1.55065|        5.48039915|           173.5|            76.0|           147.5|0.14615525132880283|            null|       -0.013080273|       278.64882|      278.476215|       7.575675E-4|      0.286618815|       0.005225735|       0.32012346|      0.0588733335|       0.165311665|      0.0329683315|       0.054194994|       0.19360665|       0.154676665|       0.091443333|       0.20910965|        2.0483365|       0.47434981|      0.0335182265|       0.078525665|       0.22156421|               0.4|             0.45|              0.9|          284.26|          271.57|               411.33|ICOS2020|       8|       WSA|       SA|       Dfb|     Cold|         N|   60.295242|    22.391607|\n",
            "| FI-Qvd|      CRO|    5|          9.2145|          4.8225|          1.4515|      95.19549109|           -2.06449|          0.956653|           -2.05917|          0.955309|           7.49887|          6.411095|          7.457685|          6.380705|           5.403225|           4.193155|            5.40625|           4.116175|        7.83048935|           260.5|           100.0|           208.5|0.14615525132880283|            null|      -0.0163969285|       282.85134|       282.49314|      0.0016133095|       0.37816448|      0.0044941255|       0.28458868|      0.0518306465|        0.20141452|      0.0288032255|       0.054767741|      0.217743545|       0.155979045|        0.08496774|       0.28831805|       2.68675635|      0.588247805|        0.12557055|        0.11936332|      0.334109885|               0.0|            0.565|              1.5|          289.97|          276.25|               412.09|ICOS2020|       8|       WSA|       SA|       Dfb|     Cold|         N|   60.295242|    22.391607|\n",
            "| FI-Qvd|      CRO|    6|         15.8245|           7.077|           0.639|      116.3843715|             -2.074|         0.9774305|           -2.07599|         0.9774305|          7.163845|          7.033435|          7.049095|          7.041375|            4.98209|           5.153605|           4.958175|           5.035125|        10.6112745|           119.0|            46.5|           258.0|0.14615525132880283|            null|      -0.0235749075|      289.806505|      289.151135|      0.0011002295|      0.671310315|       0.002953682|       0.30283922|       0.042203337|         0.2585683|      0.0247533325|      0.0529700025|      0.246029995|        0.14925167|       0.068350002|       0.40796476|         3.913317|       0.71955529|        0.26806626|       0.186259625|      0.475997425|               0.0|            0.725|              2.7|          295.37|          282.16|             409.3625|ICOS2020|       8|       WSA|       SA|       Dfb|     Cold|         N|   60.295242|    22.391607|\n",
            "| FI-Qvd|      CRO|    7|17.7723333333333|7.20533333333333|2.36566666666667|     108.32090951|          -1.664779| 0.929435333333333|  -1.71126833333333|          0.919803|  8.70387333333333|  9.00226666666667|           8.59575|  9.06626666666667|   6.88169333333333|   7.08191333333333|   6.88682666666667|   6.97236666666667|         9.5642865|           204.0|            94.0|           214.0|0.14615525132880283|            null|       -0.019594848|291.676216666667|291.417033333333|0.0025564483333333|0.689088466666667|0.0050816113333333|0.304460776666667|0.0321978473333333| 0.255716126666667|0.0194505386666667|0.0440172026666667|       0.23484194|        0.13740644|0.0591774196666667|0.428920793333333| 4.82963013333333|       0.77623215| 0.300728033333333|        0.19859028|0.538759033333333|               0.0|             0.75|              2.9|295.893333333333|285.286666666667|     409.863333333333|ICOS2020|       8|       WSA|       SA|       Dfb|     Cold|         N|   60.295242|    22.391607|\n",
            "| FI-Qvd|      CRO|    8|          16.866|           5.495|1.95933333333333| 80.3642744833333| -0.881158333333333| 0.928987666666667|         -0.8893386| 0.927643333333333|           7.10662|           7.29292|           7.07397|           7.32076|   6.14796666666667|   6.13792333333333|   6.19841333333333|   6.13827666666667|  7.41909506666667|170.666666666667|71.3333333333333|171.666666666667|0.14615525132880283|            null|       -0.016711275|291.061736666667|       290.88433|0.0017734883333333|       0.57032733|0.0055587323333333|0.308560216666667|0.0334354806666667| 0.231893536666667|0.0218236563333333|       0.042589245|       0.22183116|        0.13396668|0.0580892443333333|0.391001473333333| 4.52299756666667|0.745925366666667| 0.265864673333333|        0.17376411|0.505051633333333|               0.0|             0.69| 2.33333333333333|          293.06|284.986666666667|     409.208333333333|ICOS2020|       8|       WSA|       SA|       Dfb|     Cold|         N|   60.295242|    22.391607|\n",
            "+-------+---------+-----+----------------+----------------+----------------+-----------------+-------------------+------------------+-------------------+------------------+------------------+------------------+------------------+------------------+-------------------+-------------------+-------------------+-------------------+------------------+----------------+----------------+----------------+-------------------+----------------+-------------------+----------------+----------------+------------------+-----------------+------------------+-----------------+------------------+------------------+------------------+------------------+-----------------+------------------+------------------+-----------------+-----------------+-----------------+------------------+------------------+-----------------+------------------+-----------------+-----------------+----------------+----------------+---------------------+--------+--------+----------+---------+----------+---------+----------+------------+-------------+\n",
            "only showing top 20 rows\n",
            "\n"
          ]
        }
      ]
    },
    {
      "cell_type": "markdown",
      "source": [
        "### Impute with average across sites"
      ],
      "metadata": {
        "id": "pS8z5BzPwj3U"
      }
    },
    {
      "cell_type": "code",
      "source": [
        "static_monthly_sdf.select(mean('CSIF_SIFinst_avg')).head()[0]"
      ],
      "metadata": {
        "colab": {
          "base_uri": "https://localhost:8080/"
        },
        "outputId": "97717656-a3fa-4df9-b645-92058cf10258",
        "id": "5t45bhb5wj3U"
      },
      "execution_count": 370,
      "outputs": [
        {
          "output_type": "execute_result",
          "data": {
            "text/plain": [
              "0.4089560298315824"
            ]
          },
          "metadata": {},
          "execution_count": 370
        }
      ]
    },
    {
      "cell_type": "code",
      "source": [
        "static_monthly_sdf = static_monthly_sdf.fillna(\n",
        "    value = static_monthly_sdf\n",
        "    # .filter(static_monthly_sdf.SITE_ID == 'FI-Ken')\n",
        "    .select(mean('CSIF_SIFinst_avg')).head()[0],\n",
        "    subset = ['CSIF_SIFinst_avg'])"
      ],
      "metadata": {
        "id": "BlFVXKkjwj3U"
      },
      "execution_count": 371,
      "outputs": []
    },
    {
      "cell_type": "code",
      "source": [
        "static_monthly_sdf.filter(static_monthly_sdf.SITE_ID == 'FI-Qvd').show() "
      ],
      "metadata": {
        "colab": {
          "base_uri": "https://localhost:8080/"
        },
        "outputId": "14c505a2-d783-40e4-aac9-1ba37beee8b6",
        "id": "K267ZAt0wj3U"
      },
      "execution_count": 372,
      "outputs": [
        {
          "output_type": "stream",
          "name": "stdout",
          "text": [
            "+-------+---------+-----+----------------+----------------+----------------+-----------------+------------------+------------------+------------------+------------------+-------------------+------------------+-------------------+------------------+-------------------+-------------------+-------------------+-------------------+------------------+----------------+----------------+----------------+-------------------+------------------+-------------------+----------------+----------------+------------------+------------------+------------------+-----------------+------------------+-----------------+------------------+------------------+-----------------+------------------+------------------+-----------------+----------------+-----------------+-----------------+------------------+-----------------+----------------+-----------------+----------------+----------------+----------------+---------------------+--------+--------+----------+---------+----------+------+----------+------------+-------------+\n",
            "|SITE_ID|SITE_IGBP|month|        TA_F_avg|       VPD_F_avg|         P_F_avg|       NETRAD_avg|   NEE_VUT_REF_avg|NEE_VUT_REF_QC_avg|   NEE_CUT_REF_avg|NEE_CUT_REF_QC_avg| GPP_NT_VUT_REF_avg|GPP_DT_VUT_REF_avg| GPP_NT_CUT_REF_avg|GPP_DT_CUT_REF_avg|RECO_NT_VUT_REF_avg|RECO_DT_VUT_REF_avg|RECO_NT_CUT_REF_avg|RECO_DT_CUT_REF_avg|            ET_avg|    BESS_PAR_avg|BESS_PARdiff_avg|   BESS_RSDN_avg|  CSIF_SIFdaily_avg|  CSIF_SIFinst_avg|            PET_avg|          Ts_avg|       Tmean_avg|          prcp_avg|           vpd_avg|     prcp_lag3_avg|    ESACCI_sm_avg|            b1_avg|           b2_avg|            b3_avg|            b4_avg|           b5_avg|            b6_avg|            b7_avg|          EVI_avg|         GCI_avg|         NDVI_avg|         NDWI_avg|          NIRv_avg|        kNDVI_avg|Percent_Snow_avg|         Fpar_avg|         Lai_avg|     LST_Day_avg|   LST_Night_avg|CO2_concentration_avg| dataset|MODIS_LC|MODIS_IGBP|MODIS_PFT|koppen_sub|koppen|hemisphere|LOCATION_LAT|LOCATION_LONG|\n",
            "+-------+---------+-----+----------------+----------------+----------------+-----------------+------------------+------------------+------------------+------------------+-------------------+------------------+-------------------+------------------+-------------------+-------------------+-------------------+-------------------+------------------+----------------+----------------+----------------+-------------------+------------------+-------------------+----------------+----------------+------------------+------------------+------------------+-----------------+------------------+-----------------+------------------+------------------+-----------------+------------------+------------------+-----------------+----------------+-----------------+-----------------+------------------+-----------------+----------------+-----------------+----------------+----------------+----------------+---------------------+--------+--------+----------+---------+----------+------+----------+------------+-------------+\n",
            "| FI-Qvd|      CRO|    1|           2.847|           1.897|           1.884|     -25.29224834|          0.947193|          0.959005|          0.946839|          0.959005|           0.102508|          0.223305|           0.113006|          0.229035|            1.06243|            1.07332|            1.05988|            1.13607|        0.14995207|            15.0|             9.0|             8.0|0.14615525132880283|0.4089560298315824|       -0.005342983|       275.37582|        275.8408|       0.001965227|       0.106794514|       0.007979744|       0.32435262|        0.20576666|       0.27395275|        0.21489722|        0.22030835|       0.18335277|        0.07506111|       0.035544444|       0.19035973|      0.63886374|       0.21481042|        0.5256945|       0.042885944|        0.0757404|        57.77256|             null|            null|          271.44|          271.32|              411.225|ICOS2020|       8|       WSA|       SA|       Dfb|  Cold|         N|   60.295242|    22.391607|\n",
            "| FI-Qvd|      CRO|    2|           1.156|           1.999|           3.431|     -8.219985632|          0.619668|          0.962644|          0.624015|          0.962644|           0.327085|          0.463366|           0.285993|          0.462206|            0.95153|           0.849528|           0.949466|           0.867817|        0.81908554|            57.0|            29.0|            28.0|0.14615525132880283|0.4089560298315824|       -0.006370969|        273.9901|       274.36597|       0.002540551|        0.13498113|       0.007562111|        0.3150668|            0.0515|       0.14103793|       0.031201724|       0.050182756|       0.14868276|        0.09503103|       0.053731035|        0.1842814|       1.8245709|        0.4661092|       0.20466259|       0.065793425|       0.21391296|             0.0|             0.37|             0.6|          272.08|          268.62|              411.455|ICOS2020|       8|       WSA|       SA|       Dfb|  Cold|         N|   60.295242|    22.391607|\n",
            "| FI-Qvd|      CRO|    3|           1.698|           2.233|           1.975|      14.17450198|          0.512632|          0.983871|          0.511448|          0.983871|           0.503479|          0.639278|           0.490533|           0.65012|            1.00175|           0.961923|            1.00195|            1.02746|          2.669604|           149.0|            73.0|            73.0|0.14615525132880283|0.4089560298315824|       -0.008427925|       274.73386|        275.0709|       0.002152563|        0.16618632|        0.00665834|       0.34142414|       0.050056454|       0.14421612|       0.028677417|       0.046133876|       0.16138385|        0.11646291|        0.06390484|       0.19130139|       2.1284406|       0.48528704|      0.110022895|         0.0698743|       0.23143958|      0.67741936|             0.37|             0.6|          274.62|          269.68|               411.63|ICOS2020|       8|       WSA|       SA|       Dfb|  Cold|         N|   60.295242|    22.391607|\n",
            "| FI-Qvd|      CRO|    4|           5.221|           4.259|          0.6265|      58.65742299|        -0.2052135|          0.948264|         -0.210092|         0.9472225|            2.33462|          2.924535|           2.320505|           2.83259|           2.098705|          1.3863755|           2.104135|            1.55065|        5.48039915|           173.5|            76.0|           147.5|0.14615525132880283|0.4089560298315824|       -0.013080273|       278.64882|      278.476215|       7.575675E-4|       0.286618815|       0.005225735|       0.32012346|      0.0588733335|      0.165311665|      0.0329683315|       0.054194994|       0.19360665|       0.154676665|       0.091443333|       0.20910965|       2.0483365|       0.47434981|     0.0335182265|       0.078525665|       0.22156421|             0.4|             0.45|             0.9|          284.26|          271.57|               411.33|ICOS2020|       8|       WSA|       SA|       Dfb|  Cold|         N|   60.295242|    22.391607|\n",
            "| FI-Qvd|      CRO|    5|          9.2145|          4.8225|          1.4515|      95.19549109|          -2.06449|          0.956653|          -2.05917|          0.955309|            7.49887|          6.411095|           7.457685|          6.380705|           5.403225|           4.193155|            5.40625|           4.116175|        7.83048935|           260.5|           100.0|           208.5|0.14615525132880283|0.4089560298315824|      -0.0163969285|       282.85134|       282.49314|      0.0016133095|        0.37816448|      0.0044941255|       0.28458868|      0.0518306465|       0.20141452|      0.0288032255|       0.054767741|      0.217743545|       0.155979045|        0.08496774|       0.28831805|      2.68675635|      0.588247805|       0.12557055|        0.11936332|      0.334109885|             0.0|            0.565|             1.5|          289.97|          276.25|               412.09|ICOS2020|       8|       WSA|       SA|       Dfb|  Cold|         N|   60.295242|    22.391607|\n",
            "| FI-Qvd|      CRO|    6|         15.8245|           7.077|           0.639|      116.3843715|            -2.074|         0.9774305|          -2.07599|         0.9774305|           7.163845|          7.033435|           7.049095|          7.041375|            4.98209|           5.153605|           4.958175|           5.035125|        10.6112745|           119.0|            46.5|           258.0|0.14615525132880283|0.4089560298315824|      -0.0235749075|      289.806505|      289.151135|      0.0011002295|       0.671310315|       0.002953682|       0.30283922|       0.042203337|        0.2585683|      0.0247533325|      0.0529700025|      0.246029995|        0.14925167|       0.068350002|       0.40796476|        3.913317|       0.71955529|       0.26806626|       0.186259625|      0.475997425|             0.0|            0.725|             2.7|          295.37|          282.16|             409.3625|ICOS2020|       8|       WSA|       SA|       Dfb|  Cold|         N|   60.295242|    22.391607|\n",
            "| FI-Qvd|      CRO|    7|17.7723333333333|7.20533333333333|2.36566666666667|     108.32090951|         -1.664779| 0.929435333333333| -1.71126833333333|          0.919803|   8.70387333333333|  9.00226666666667|            8.59575|  9.06626666666667|   6.88169333333333|   7.08191333333333|   6.88682666666667|   6.97236666666667|         9.5642865|           204.0|            94.0|           214.0|0.14615525132880283|0.4089560298315824|       -0.019594848|291.676216666667|291.417033333333|0.0025564483333333| 0.689088466666667|0.0050816113333333|0.304460776666667|0.0321978473333333|0.255716126666667|0.0194505386666667|0.0440172026666667|       0.23484194|        0.13740644|0.0591774196666667|0.428920793333333|4.82963013333333|       0.77623215|0.300728033333333|        0.19859028|0.538759033333333|             0.0|             0.75|             2.9|295.893333333333|285.286666666667|     409.863333333333|ICOS2020|       8|       WSA|       SA|       Dfb|  Cold|         N|   60.295242|    22.391607|\n",
            "| FI-Qvd|      CRO|    8|          16.866|           5.495|1.95933333333333| 80.3642744833333|-0.881158333333333| 0.928987666666667|        -0.8893386| 0.927643333333333|            7.10662|           7.29292|            7.07397|           7.32076|   6.14796666666667|   6.13792333333333|   6.19841333333333|   6.13827666666667|  7.41909506666667|170.666666666667|71.3333333333333|171.666666666667|0.14615525132880283|0.4089560298315824|       -0.016711275|291.061736666667|       290.88433|0.0017734883333333|        0.57032733|0.0055587323333333|0.308560216666667|0.0334354806666667|0.231893536666667|0.0218236563333333|       0.042589245|       0.22183116|        0.13396668|0.0580892443333333|0.391001473333333|4.52299756666667|0.745925366666667|0.265864673333333|        0.17376411|0.505051633333333|             0.0|             0.69|2.33333333333333|          293.06|284.986666666667|     409.208333333333|ICOS2020|       8|       WSA|       SA|       Dfb|  Cold|         N|   60.295242|    22.391607|\n",
            "| FI-Qvd|      CRO|    9|           12.47|3.06666666666667|2.65833333333333| 27.6732845633333|-0.115146133333333| 0.901620333333333|-0.116520766666667| 0.901157333333333|   5.21392333333333|  5.22989666666667|   5.19792666666667|  5.17630666666667|   5.08810666666667|   5.11220666666667|   5.08418666666667|            4.93852|  3.19881923333333|            91.0|45.6666666666667|90.6666666666667|0.14615525132880283|0.4089560298315824|       -0.011709879|286.263213333333|286.452983333333|0.0023976246666666|        0.32947516|       0.006727561|0.301473746666667|       0.030564443|0.202539443333333|0.0161683323333333|0.0379161086666667|0.200529456666667| 0.125128893333333|0.0556599966666667|0.339986376666667|       4.3843166|0.738333563333333|0.236753436666667| 0.149546096666667|0.496847703333333|             0.0|0.646666666666667|1.56666666666667|          287.44|280.946666666667|     408.701666666667|ICOS2020|       8|       WSA|       SA|       Dfb|  Cold|         N|   60.295242|    22.391607|\n",
            "| FI-Qvd|      CRO|   10|           7.083|           1.713|2.34766666666667|     -3.081749276| 0.540683466666667| 0.957885333333333|         0.5422018| 0.957661333333333|            2.22148|  2.56320666666667|   2.21212666666667|  2.55639666666667|            2.75715|            2.90808|   2.75254666666667|            2.90985| 0.846752133333333|            35.0|19.6666666666667|            39.0|0.14615525132880283|0.4089560298315824|-0.0055692073333333|280.426836666667|       280.74406|0.0021621353333333| 0.153304546666667|0.0063332486666666|0.320892303333333|0.0341190343333333|       0.16993046|       0.019124796|0.0396609493333333|0.171307713333333| 0.106122886666667|0.0490545133333333|0.274894456666667|       3.3263592|0.663007146666667|       0.22993104|        0.11331048|0.413876263333333|             0.0|             0.52|             1.0|          279.24|275.613333333333|     408.838333333333|ICOS2020|       8|       WSA|       SA|       Dfb|  Cold|         N|   60.295242|    22.391607|\n",
            "| FI-Qvd|      CRO|   11|3.97266666666667|1.54033333333333|2.52133333333333|    -13.734965457| 0.988613333333333| 0.975000333333333| 0.984524666666667| 0.975000333333333|  0.466087333333333|           0.71438|  0.485005666666667|          0.702603|            1.47733|   1.46443666666667|   1.46852666666667|            1.44663|0.0239158093333333|10.6666666666667|6.33333333333333|            11.0|0.14615525132880283|0.4089560298315824|-0.0043281293333333|       277.15263|277.465083333333|0.0020779103333333|       0.111995285|0.0066376703333333|0.322968866666667|0.0398845346666667|0.145754836666667|0.0291212953333333|       0.046014561|       0.14602503|0.0868164466666667|0.0427590483333333|       0.22654138|2.23325223333333|0.570752046666667|       0.25449838|0.0834350486666667|0.316548853333333|       3.1715556|             null|            null|274.786666666667|271.566666666667|              409.785|ICOS2020|       8|       WSA|       SA|       Dfb|  Cold|         N|   60.295242|    22.391607|\n",
            "| FI-Qvd|      CRO|   12|1.07966666666667|1.66433333333333|            2.66|-14.8380726733333| 0.885894666666667| 0.976702333333333|          0.884329| 0.977822333333333|-0.0238507333333333| 0.177026333333333|-0.0274555666666667| 0.176772333333333|  0.857348333333333|  0.929872333333333|  0.856743666666667|  0.961453333333333|0.0432191453333333|4.33333333333333|2.66666666666667|4.66666666666667|0.14615525132880283|0.4089560298315824|       -0.003297853|274.088576666667|       274.40905|0.0026171656666666|0.0769702033333333|0.0068572113333333|             null|              null|             null|              null|              null|             null|              null|              null|             null|            null|             null|             null|              null|             null|            null|             null|            null|267.933333333333|           267.9|     410.371666666667|ICOS2020|       8|       WSA|       SA|       Dfb|  Cold|         N|   60.295242|    22.391607|\n",
            "+-------+---------+-----+----------------+----------------+----------------+-----------------+------------------+------------------+------------------+------------------+-------------------+------------------+-------------------+------------------+-------------------+-------------------+-------------------+-------------------+------------------+----------------+----------------+----------------+-------------------+------------------+-------------------+----------------+----------------+------------------+------------------+------------------+-----------------+------------------+-----------------+------------------+------------------+-----------------+------------------+------------------+-----------------+----------------+-----------------+-----------------+------------------+-----------------+----------------+-----------------+----------------+----------------+----------------+---------------------+--------+--------+----------+---------+----------+------+----------+------------+-------------+\n",
            "\n"
          ]
        }
      ]
    },
    {
      "cell_type": "code",
      "source": [
        "static_monthly_sdf.filter(static_monthly_sdf.CSIF_SIFinst_avg.isNull()).show()"
      ],
      "metadata": {
        "colab": {
          "base_uri": "https://localhost:8080/"
        },
        "outputId": "14248457-f14b-4710-f2be-954ec24d7d5c",
        "id": "rlb_FAvGwj3W"
      },
      "execution_count": 373,
      "outputs": [
        {
          "output_type": "stream",
          "name": "stdout",
          "text": [
            "+-------+---------+-----+--------+---------+-------+----------+---------------+------------------+---------------+------------------+------------------+------------------+------------------+------------------+-------------------+-------------------+-------------------+-------------------+------+------------+----------------+-------------+-----------------+----------------+-------+------+---------+--------+-------+-------------+-------------+------+------+------+------+------+------+------+-------+-------+--------+--------+--------+---------+----------------+--------+-------+-----------+-------------+---------------------+-------+--------+----------+---------+----------+------+----------+------------+-------------+\n",
            "|SITE_ID|SITE_IGBP|month|TA_F_avg|VPD_F_avg|P_F_avg|NETRAD_avg|NEE_VUT_REF_avg|NEE_VUT_REF_QC_avg|NEE_CUT_REF_avg|NEE_CUT_REF_QC_avg|GPP_NT_VUT_REF_avg|GPP_DT_VUT_REF_avg|GPP_NT_CUT_REF_avg|GPP_DT_CUT_REF_avg|RECO_NT_VUT_REF_avg|RECO_DT_VUT_REF_avg|RECO_NT_CUT_REF_avg|RECO_DT_CUT_REF_avg|ET_avg|BESS_PAR_avg|BESS_PARdiff_avg|BESS_RSDN_avg|CSIF_SIFdaily_avg|CSIF_SIFinst_avg|PET_avg|Ts_avg|Tmean_avg|prcp_avg|vpd_avg|prcp_lag3_avg|ESACCI_sm_avg|b1_avg|b2_avg|b3_avg|b4_avg|b5_avg|b6_avg|b7_avg|EVI_avg|GCI_avg|NDVI_avg|NDWI_avg|NIRv_avg|kNDVI_avg|Percent_Snow_avg|Fpar_avg|Lai_avg|LST_Day_avg|LST_Night_avg|CO2_concentration_avg|dataset|MODIS_LC|MODIS_IGBP|MODIS_PFT|koppen_sub|koppen|hemisphere|LOCATION_LAT|LOCATION_LONG|\n",
            "+-------+---------+-----+--------+---------+-------+----------+---------------+------------------+---------------+------------------+------------------+------------------+------------------+------------------+-------------------+-------------------+-------------------+-------------------+------+------------+----------------+-------------+-----------------+----------------+-------+------+---------+--------+-------+-------------+-------------+------+------+------+------+------+------+------+-------+-------+--------+--------+--------+---------+----------------+--------+-------+-----------+-------------+---------------------+-------+--------+----------+---------+----------+------+----------+------------+-------------+\n",
            "+-------+---------+-----+--------+---------+-------+----------+---------------+------------------+---------------+------------------+------------------+------------------+------------------+------------------+-------------------+-------------------+-------------------+-------------------+------+------------+----------------+-------------+-----------------+----------------+-------+------+---------+--------+-------+-------------+-------------+------+------+------+------+------+------+------+-------+-------+--------+--------+--------+---------+----------------+--------+-------+-----------+-------------+---------------------+-------+--------+----------+---------+----------+------+----------+------------+-------------+\n",
            "\n"
          ]
        }
      ]
    },
    {
      "cell_type": "markdown",
      "source": [
        "## `PET_avg`,`Ts_avg`,`Tmean_avg`,`prcp_avg`,`vpd_avg`,`prcp_lag3_avg`\n"
      ],
      "metadata": {
        "id": "47PmME0mreIX"
      }
    },
    {
      "cell_type": "code",
      "source": [
        "static_monthly_sdf.filter(static_monthly_sdf.PET_avg.isNull()).show()"
      ],
      "metadata": {
        "colab": {
          "base_uri": "https://localhost:8080/"
        },
        "id": "fHgzTfAWreIX",
        "outputId": "edea3beb-5e6f-4b87-c046-421e3ca62ea6"
      },
      "execution_count": 374,
      "outputs": [
        {
          "output_type": "stream",
          "name": "stdout",
          "text": [
            "+-------+---------+-----+----------------+----------------+------------------+----------------+-----------------+------------------+-------------------+------------------+------------------+------------------+------------------+------------------+-------------------+-------------------+-------------------+-------------------+----------------+----------------+----------------+----------------+------------------+-----------------+-------+------+---------+--------+-------+-------------+-------------+------------------+-----------------+------------------+------------------+-----------------+------------------+------------------+-----------------+----------------+-----------------+------------------+------------------+-----------------+----------------+-----------------+----------------+----------------+----------------+---------------------+-------+--------+----------+---------+----------+---------+----------+------------+-------------+\n",
            "|SITE_ID|SITE_IGBP|month|        TA_F_avg|       VPD_F_avg|           P_F_avg|      NETRAD_avg|  NEE_VUT_REF_avg|NEE_VUT_REF_QC_avg|    NEE_CUT_REF_avg|NEE_CUT_REF_QC_avg|GPP_NT_VUT_REF_avg|GPP_DT_VUT_REF_avg|GPP_NT_CUT_REF_avg|GPP_DT_CUT_REF_avg|RECO_NT_VUT_REF_avg|RECO_DT_VUT_REF_avg|RECO_NT_CUT_REF_avg|RECO_DT_CUT_REF_avg|          ET_avg|    BESS_PAR_avg|BESS_PARdiff_avg|   BESS_RSDN_avg| CSIF_SIFdaily_avg| CSIF_SIFinst_avg|PET_avg|Ts_avg|Tmean_avg|prcp_avg|vpd_avg|prcp_lag3_avg|ESACCI_sm_avg|            b1_avg|           b2_avg|            b3_avg|            b4_avg|           b5_avg|            b6_avg|            b7_avg|          EVI_avg|         GCI_avg|         NDVI_avg|          NDWI_avg|          NIRv_avg|        kNDVI_avg|Percent_Snow_avg|         Fpar_avg|         Lai_avg|     LST_Day_avg|   LST_Night_avg|CO2_concentration_avg|dataset|MODIS_LC|MODIS_IGBP|MODIS_PFT|koppen_sub|   koppen|hemisphere|LOCATION_LAT|LOCATION_LONG|\n",
            "+-------+---------+-----+----------------+----------------+------------------+----------------+-----------------+------------------+-------------------+------------------+------------------+------------------+------------------+------------------+-------------------+-------------------+-------------------+-------------------+----------------+----------------+----------------+----------------+------------------+-----------------+-------+------+---------+--------+-------+-------------+-------------+------------------+-----------------+------------------+------------------+-----------------+------------------+------------------+-----------------+----------------+-----------------+------------------+------------------+-----------------+----------------+-----------------+----------------+----------------+----------------+---------------------+-------+--------+----------+---------+----------+---------+----------+------------+-------------+\n",
            "| IT-Noe|      CSH|    1|          9.5828|          2.6578|            2.2446|    21.674183718|        -0.767292|         0.9110214|         -0.7667846|          0.911828|          1.983762|          2.247362|          1.986024|          2.267006|          1.2119092|          1.3185382|          1.2193146|          1.3851564|       2.4409017|            31.6|            14.8|            69.0|       0.061337134|       0.23053671|   null|  null|     null|    null|   null|         null|         null|      0.0276824602|       0.14478514|      0.0225746832|      0.0345873112|      0.142648746|      0.0859426784|      0.0461191772|      0.255990405|      3.19497862|        0.6791497|       0.254786346|       0.098333633|      0.431167502|             0.0|            0.604|            1.38|         284.976|         280.084|              386.295|FLUXNET|      17|       WAT|    Other|       Csa|Temperate|         N|    40.60618|      8.15169|\n",
            "| IT-Noe|      CSH|    2|9.63633333333333|2.79955555555556|  2.07688888888889|46.2995745185714|-1.33427733333333| 0.903267888888889|          -1.330936| 0.911301555555556|  2.68120888888889|  2.91811888888889|  2.69834444444444|  2.90936333333333|   1.37949744444444|   1.44411288888889|   1.37146188888889|   1.40592922222222|4.15040908888889|48.5555555555556|22.4444444444444|106.333333333333|0.0666998078888889|       0.23157034|   null|  null|     null|    null|   null|         null|         null|0.0280195614444444|0.146076285555556|       0.021097287|0.0336092371111111|       0.14674324|0.0898822508888889|0.0489917458888889|      0.254871045|3.36760897777778|0.678466795555556| 0.238854471111111|0.0991187427777778|       0.43042899|             0.0|0.575555555555556|1.38888888888889|285.053333333333|279.895555555556|     385.808888888889|FLUXNET|      17|       WAT|    Other|       Csa|Temperate|         N|    40.60618|      8.15169|\n",
            "| IT-Noe|      CSH|    3|        11.58775|        3.253375|          1.479375|    90.386225415|         -1.88374|        0.98084675|        -1.89056125|        0.98025875|           3.82992|         3.9280075|        3.84823875|        3.89372625|          1.9522175|            1.95635|          1.9498075|          1.9553425|     7.081742325|           76.75|           31.75|          169.75|     0.09242534875|    0.28761444125|   null|  null|     null|    null|   null|         null|         null|     0.03220056725|    0.16021237125|    0.021134043125|      0.0367924985|        0.1627583|     0.10399822625|      0.0582486505|    0.26767819125|     3.375587525|    0.66556075125|     0.21325384875|      0.1066014605|     0.4162103475|             0.0|          0.58375|          1.7125|         288.515|         281.825|            386.03875|FLUXNET|      17|       WAT|    Other|       Csa|Temperate|         N|    40.60618|      8.15169|\n",
            "| IT-Noe|      CSH|    4|        14.27975|        3.712125|            1.1825|     133.1159758|      -2.03391875|        0.97352425|         -2.0400175|       0.971788375|         4.7533075|          4.804895|         4.7575275|         4.8067625|         2.70008375|           2.591615|         2.71227875|         2.58182875|    9.6524561875|         101.625|           42.25|         223.875|    0.119998711875|    0.33728364125|   null|  null|     null|    null|   null|         null|         null|     0.03578333225|     0.1712331175|    0.023248957875|    0.040803539375|    0.17410041625|    0.113336453875|    0.064203541625|       0.27952398|    3.2101302375|      0.654710965|     0.20392307125|        0.11210496|       0.40435566|             0.0|             0.57|            1.85|        292.4325|        283.9875|           388.369375|FLUXNET|      17|       WAT|    Other|       Csa|Temperate|         N|    40.60618|      8.15169|\n",
            "| IT-Noe|      CSH|    5|         17.2602|          5.0991|            1.4626|    173.86440585|       -1.9278749|         0.9571909|         -1.9511595|         0.9549731|          5.445118|          5.492179|          5.401488|          5.256367|           3.408906|           3.515185|           3.408962|           3.502916|      11.8327062|           123.0|            46.3|           271.4|       0.132484952|      0.346991698|   null|  null|     null|    null|   null|         null|         null|       0.044977419|      0.182401116|      0.0281279026|      0.0483916105|      0.189367578|      0.1299228996|      0.0771645141|      0.276866464|      2.80273939|      0.604966051|       0.168469218|      0.1104400781|      0.351529103|             0.0|            0.548|            1.83|         296.648|         286.544|             387.2095|FLUXNET|      17|       WAT|    Other|       Csa|Temperate|         N|    40.60618|      8.15169|\n",
            "| IT-Noe|      CSH|    6|20.9237777777778|7.54644444444444| 0.695666666666667|202.994614655556|-1.49934355555556|          0.930247|  -1.55259622222222| 0.937808666666667|  4.93796333333333|  4.90986111111111|  4.99280222222222|  4.88167555555555|            3.24224|   3.39163777777778|   3.31247333333333|   3.45610222222222|12.8563516666667|143.111111111111|43.4444444444444|315.888888888889| 0.126522484555556|0.322061001111111|   null|  null|     null|    null|   null|         null|         null|0.0505610903333333|0.184015432222222|0.0306264171111111|0.0516671181111111|       0.19729891| 0.142183623333333|0.0871504915555556|0.265388296666667|2.57131982222222|0.569106731111111|       0.128438185| 0.104813844444444|0.313585998888889|             0.0|0.554444444444444|1.91111111111111|302.135555555556|290.257777777778|     387.414444444444|FLUXNET|      17|       WAT|    Other|       Csa|Temperate|         N|    40.60618|      8.15169|\n",
            "| IT-Noe|      CSH|    7|23.4187777777778|9.14011111111111|0.0498888888888889|201.071540277778|       -0.1374726| 0.953778444444444| -0.146350133333333| 0.954002333333333|  3.08906777777778|  3.32807666666667|            3.0624|  3.26310111111111|   2.83818111111111|   3.17115666666667|   2.85364888888889|   2.99219777777778|12.4437366666667|145.444444444444|            40.0|320.222222222222| 0.104973743333333|0.272637304444444|   null|  null|     null|    null|   null|         null|         null|0.0535063507777778|0.177644537777778|0.0304755265555556|0.0520304463333333|0.198628105555556| 0.149017561111111|0.0927956361111111|0.244430395555556|2.42054618888889|0.537301896666667|0.0878815648888889|0.0954970515555556|0.281418526666667|             0.0|0.541111111111111|1.75555555555556|305.608888888889|292.853333333333|              385.395|FLUXNET|      17|       WAT|    Other|       Csa|Temperate|         N|    40.60618|      8.15169|\n",
            "| IT-Noe|      CSH|    8|         23.4084|          8.5376|            0.2465|    167.20112481|        0.7594659|         0.9563173|         0.71081887|         0.9660618|         1.8645505|          2.296059|         1.8275737|         2.1225376|            2.41936|           3.100136|           2.523211|           2.945711|      10.5408642|           126.7|            37.5|           276.4|      0.0845215016|      0.231979043|   null|  null|     null|    null|   null|         null|         null|      0.0484399984|      0.163916615|      0.0266804838|      0.0470967745|      0.185504181|       0.139653063|      0.0861109609|      0.230123145|      2.49278594|      0.544152835|      0.0801850246|      0.0892295284|      0.288261803|             0.0|            0.538|            1.72|         304.852|           293.1|             385.6895|FLUXNET|      17|       WAT|    Other|       Csa|Temperate|         N|    40.60618|      8.15169|\n",
            "| IT-Noe|      CSH|    9|         21.0532|          6.3058|            1.4907|    117.04936405|        1.2935918|          0.956389|         1.19948018|         0.9541667|         1.7641866|         2.0719221|         1.7851311|         2.0882032|            3.01645|           3.076919|           3.010659|           3.110388|      7.48763321|            95.0|            34.3|           206.9|      0.0690724662|      0.205104725|   null|  null|     null|    null|   null|         null|         null|      0.0422731648|      0.151143165|      0.0243575002|      0.0427084986|      0.167719161|        0.12247716|      0.0746044959|      0.222759933|       2.5504522|      0.563500284|      0.1055335241|       0.085203135|      0.307938848|             0.0|             0.54|            1.49|         300.282|         290.984|             385.0805|FLUXNET|      17|       WAT|    Other|       Csa|Temperate|         N|    40.60618|      8.15169|\n",
            "| IT-Noe|      CSH|   10|18.3793333333333|4.91322222222222|             2.199|70.7818895928571|0.772966222222222| 0.929062111111111|  0.756572302222222| 0.935857222222222|  2.01931277777778|  2.42373444444444|  1.97100666666667|  2.25566888888889|   2.74695777777778|   3.03256444444444|   2.70455888888889|   3.00354633333333|5.28617528888889|66.5555555555556|            25.0|144.333333333333|0.0604758107777778|0.195397887777778|   null|  null|     null|    null|   null|         null|         null|0.0340551976666667|0.139905733333333|0.0223086022222222|0.0370268818888889|       0.14834892| 0.102237096666667|0.0595607516666667|     0.2254657825|2.79848318888889|0.609346731111111| 0.156719098888889|0.0852373472222222|       0.35567327|             0.0|0.562222222222222|1.36666666666667|295.666666666667|289.044444444444|               384.44|FLUXNET|      17|       WAT|    Other|       Csa|Temperate|         N|    40.60618|      8.15169|\n",
            "| IT-Noe|      CSH|   11|13.7826666666667|3.69033333333333|  3.67616666666667|28.4641980783333|       0.00541585| 0.985532333333333|-0.0314012166666667| 0.989004666666667|            2.2534|  2.57371833333333|           2.26112|           2.54287|             2.2564|   2.42859833333333|   2.19209333333333|            2.37499|       3.0209407|            38.5|17.1666666666667|83.6666666666667|0.0574568383333333|0.202711761666667|   null|  null|     null|    null|   null|         null|         null|0.0278310581666667|      0.138697515|      0.0213543395|0.0336220406666667|      0.139007705|0.0873429683333333|       0.047861993|      0.241916175|       3.1392231|      0.665438045|        0.22837198|      0.0924198575|0.416201431666667|             0.0|0.568333333333333|            1.25|288.296666666667|          284.82|             384.6475|FLUXNET|      17|       WAT|    Other|       Csa|Temperate|         N|    40.60618|      8.15169|\n",
            "| IT-Noe|      CSH|   12|       11.177125|          3.0135|           2.41325|   8.78795683575|   -0.28502612075|       0.975134375|      -0.3048685125|         0.9761425|         1.8116425|           2.22768|        1.81728625|        2.18643625|          1.5295125|           1.891065|             1.5257|         1.79200125|     1.947938575|           27.75|          13.125|          60.375|      0.0574645305|    0.21753291875|   null|  null|     null|    null|   null|         null|         null|    0.026607086125|    0.14153310875|    0.021802105125|    0.033811602125|       0.13795272|       0.084154668|      0.0438507855|0.252937262857143|    3.2062377375|    0.68375004625|       0.254954035|    0.096768016875|    0.43625424125|             0.0|          0.56875|           1.325|        284.9075|        281.3825|            387.00875|FLUXNET|      17|       WAT|    Other|       Csa|Temperate|         N|    40.60618|      8.15169|\n",
            "+-------+---------+-----+----------------+----------------+------------------+----------------+-----------------+------------------+-------------------+------------------+------------------+------------------+------------------+------------------+-------------------+-------------------+-------------------+-------------------+----------------+----------------+----------------+----------------+------------------+-----------------+-------+------+---------+--------+-------+-------------+-------------+------------------+-----------------+------------------+------------------+-----------------+------------------+------------------+-----------------+----------------+-----------------+------------------+------------------+-----------------+----------------+-----------------+----------------+----------------+----------------+---------------------+-------+--------+----------+---------+----------+---------+----------+------------+-------------+\n",
            "\n"
          ]
        }
      ]
    },
    {
      "cell_type": "markdown",
      "source": [
        "### Insights for IT-Noe\n",
        "`IT-Noe` might not be appropriate site to use for training since `PET_avg`,`Ts_avg`,`Tmean_avg`,`prcp_avg`,`vpd_avg`,`prcp_lag3_avg`are all missing"
      ],
      "metadata": {
        "id": "OTxsNBeWxX18"
      }
    },
    {
      "cell_type": "markdown",
      "source": [
        "### Impute each feature with average across sites"
      ],
      "metadata": {
        "id": "ukdjZPY8yMdd"
      }
    },
    {
      "cell_type": "code",
      "source": [
        "print(\"average PET_avg\")\n",
        "print(static_monthly_sdf.select(mean('PET_avg')).head()[0])\n",
        "\n",
        "print(\"average Ts_avg\")\n",
        "print(static_monthly_sdf.select(mean('Ts_avg')).head()[0])\n",
        "\n",
        "print(\"average Tmean_avg\")\n",
        "print(static_monthly_sdf.select(mean('Tmean_avg')).head()[0])\n",
        "\n",
        "print(\"average prcp_avg\")\n",
        "print(static_monthly_sdf.select(mean('prcp_avg')).head()[0])\n",
        "\n",
        "print(\"average vpd_avg\")\n",
        "print(static_monthly_sdf.select(mean('vpd_avg')).head()[0])\n",
        "\n",
        "print(\"average prcp_lag3_avg\")\n",
        "print(static_monthly_sdf.select(mean('prcp_lag3_avg')).head()[0])\n",
        "\n",
        "# ,Ts_avg,Tmean_avg,prcp_avg,vpd_avg,prcp_lag3_avg"
      ],
      "metadata": {
        "colab": {
          "base_uri": "https://localhost:8080/"
        },
        "outputId": "2c03c3d6-8a03-4360-bdd0-2b06645a1be2",
        "id": "RXghpO3WyMdd"
      },
      "execution_count": 375,
      "outputs": [
        {
          "output_type": "stream",
          "name": "stdout",
          "text": [
            "average PET_avg\n",
            "-0.008036543982703521\n",
            "average Ts_avg\n",
            "284.1564649144834\n",
            "average Tmean_avg\n",
            "284.0645280718195\n",
            "average prcp_avg\n",
            "0.0024562933771170438\n",
            "average vpd_avg\n",
            "0.5754164067491089\n",
            "average prcp_lag3_avg\n",
            "0.007351570059445253\n"
          ]
        }
      ]
    },
    {
      "cell_type": "code",
      "source": [
        "static_monthly_sdf = static_monthly_sdf.fillna(\n",
        "    value = static_monthly_sdf\n",
        "    .select(mean('PET_avg')).head()[0],\n",
        "    subset = ['PET_avg'])\n",
        "\n",
        "static_monthly_sdf = static_monthly_sdf.fillna(\n",
        "    value = static_monthly_sdf\n",
        "    .select(mean('Ts_avg')).head()[0],\n",
        "    subset = ['Ts_avg'])\n",
        "\n",
        "static_monthly_sdf = static_monthly_sdf.fillna(\n",
        "    value = static_monthly_sdf\n",
        "    .select(mean('Tmean_avg')).head()[0],\n",
        "    subset = ['Tmean_avg'])\n",
        "\n",
        "static_monthly_sdf = static_monthly_sdf.fillna(\n",
        "    value = static_monthly_sdf\n",
        "    .select(mean('prcp_avg')).head()[0],\n",
        "    subset = ['prcp_avg'])\n",
        "\n",
        "static_monthly_sdf = static_monthly_sdf.fillna(\n",
        "    value = static_monthly_sdf\n",
        "    .select(mean('vpd_avg')).head()[0],\n",
        "    subset = ['vpd_avg'])\n",
        "\n",
        "static_monthly_sdf = static_monthly_sdf.fillna(\n",
        "    value = static_monthly_sdf\n",
        "    .select(mean('prcp_lag3_avg')).head()[0],\n",
        "    subset = ['prcp_lag3_avg'])"
      ],
      "metadata": {
        "id": "c2DJde1EyMde"
      },
      "execution_count": 376,
      "outputs": []
    },
    {
      "cell_type": "code",
      "source": [
        "static_monthly_sdf.filter(static_monthly_sdf.SITE_ID == 'IT-Noe').show() "
      ],
      "metadata": {
        "colab": {
          "base_uri": "https://localhost:8080/"
        },
        "outputId": "ab371d3f-5f7f-47ed-8358-27fbb17457a2",
        "id": "CRisStt9yMde"
      },
      "execution_count": 377,
      "outputs": [
        {
          "output_type": "stream",
          "name": "stdout",
          "text": [
            "+-------+---------+-----+----------------+----------------+------------------+----------------+-----------------+------------------+-------------------+------------------+------------------+------------------+------------------+------------------+-------------------+-------------------+-------------------+-------------------+----------------+----------------+----------------+----------------+------------------+-----------------+--------------------+-----------------+-----------------+--------------------+------------------+--------------------+-------------+------------------+-----------------+------------------+------------------+-----------------+------------------+------------------+-----------------+----------------+-----------------+------------------+------------------+-----------------+----------------+-----------------+----------------+----------------+----------------+---------------------+-------+--------+----------+---------+----------+---------+----------+------------+-------------+\n",
            "|SITE_ID|SITE_IGBP|month|        TA_F_avg|       VPD_F_avg|           P_F_avg|      NETRAD_avg|  NEE_VUT_REF_avg|NEE_VUT_REF_QC_avg|    NEE_CUT_REF_avg|NEE_CUT_REF_QC_avg|GPP_NT_VUT_REF_avg|GPP_DT_VUT_REF_avg|GPP_NT_CUT_REF_avg|GPP_DT_CUT_REF_avg|RECO_NT_VUT_REF_avg|RECO_DT_VUT_REF_avg|RECO_NT_CUT_REF_avg|RECO_DT_CUT_REF_avg|          ET_avg|    BESS_PAR_avg|BESS_PARdiff_avg|   BESS_RSDN_avg| CSIF_SIFdaily_avg| CSIF_SIFinst_avg|             PET_avg|           Ts_avg|        Tmean_avg|            prcp_avg|           vpd_avg|       prcp_lag3_avg|ESACCI_sm_avg|            b1_avg|           b2_avg|            b3_avg|            b4_avg|           b5_avg|            b6_avg|            b7_avg|          EVI_avg|         GCI_avg|         NDVI_avg|          NDWI_avg|          NIRv_avg|        kNDVI_avg|Percent_Snow_avg|         Fpar_avg|         Lai_avg|     LST_Day_avg|   LST_Night_avg|CO2_concentration_avg|dataset|MODIS_LC|MODIS_IGBP|MODIS_PFT|koppen_sub|   koppen|hemisphere|LOCATION_LAT|LOCATION_LONG|\n",
            "+-------+---------+-----+----------------+----------------+------------------+----------------+-----------------+------------------+-------------------+------------------+------------------+------------------+------------------+------------------+-------------------+-------------------+-------------------+-------------------+----------------+----------------+----------------+----------------+------------------+-----------------+--------------------+-----------------+-----------------+--------------------+------------------+--------------------+-------------+------------------+-----------------+------------------+------------------+-----------------+------------------+------------------+-----------------+----------------+-----------------+------------------+------------------+-----------------+----------------+-----------------+----------------+----------------+----------------+---------------------+-------+--------+----------+---------+----------+---------+----------+------------+-------------+\n",
            "| IT-Noe|      CSH|    1|          9.5828|          2.6578|            2.2446|    21.674183718|        -0.767292|         0.9110214|         -0.7667846|          0.911828|          1.983762|          2.247362|          1.986024|          2.267006|          1.2119092|          1.3185382|          1.2193146|          1.3851564|       2.4409017|            31.6|            14.8|            69.0|       0.061337134|       0.23053671|-0.00803654398270...|284.1564649144834|284.0645280718195|0.002456293377117...|0.5754164067491089|0.007351570059445253|         null|      0.0276824602|       0.14478514|      0.0225746832|      0.0345873112|      0.142648746|      0.0859426784|      0.0461191772|      0.255990405|      3.19497862|        0.6791497|       0.254786346|       0.098333633|      0.431167502|             0.0|            0.604|            1.38|         284.976|         280.084|              386.295|FLUXNET|      17|       WAT|    Other|       Csa|Temperate|         N|    40.60618|      8.15169|\n",
            "| IT-Noe|      CSH|    2|9.63633333333333|2.79955555555556|  2.07688888888889|46.2995745185714|-1.33427733333333| 0.903267888888889|          -1.330936| 0.911301555555556|  2.68120888888889|  2.91811888888889|  2.69834444444444|  2.90936333333333|   1.37949744444444|   1.44411288888889|   1.37146188888889|   1.40592922222222|4.15040908888889|48.5555555555556|22.4444444444444|106.333333333333|0.0666998078888889|       0.23157034|-0.00803654398270...|284.1564649144834|284.0645280718195|0.002456293377117...|0.5754164067491089|0.007351570059445253|         null|0.0280195614444444|0.146076285555556|       0.021097287|0.0336092371111111|       0.14674324|0.0898822508888889|0.0489917458888889|      0.254871045|3.36760897777778|0.678466795555556| 0.238854471111111|0.0991187427777778|       0.43042899|             0.0|0.575555555555556|1.38888888888889|285.053333333333|279.895555555556|     385.808888888889|FLUXNET|      17|       WAT|    Other|       Csa|Temperate|         N|    40.60618|      8.15169|\n",
            "| IT-Noe|      CSH|    3|        11.58775|        3.253375|          1.479375|    90.386225415|         -1.88374|        0.98084675|        -1.89056125|        0.98025875|           3.82992|         3.9280075|        3.84823875|        3.89372625|          1.9522175|            1.95635|          1.9498075|          1.9553425|     7.081742325|           76.75|           31.75|          169.75|     0.09242534875|    0.28761444125|-0.00803654398270...|284.1564649144834|284.0645280718195|0.002456293377117...|0.5754164067491089|0.007351570059445253|         null|     0.03220056725|    0.16021237125|    0.021134043125|      0.0367924985|        0.1627583|     0.10399822625|      0.0582486505|    0.26767819125|     3.375587525|    0.66556075125|     0.21325384875|      0.1066014605|     0.4162103475|             0.0|          0.58375|          1.7125|         288.515|         281.825|            386.03875|FLUXNET|      17|       WAT|    Other|       Csa|Temperate|         N|    40.60618|      8.15169|\n",
            "| IT-Noe|      CSH|    4|        14.27975|        3.712125|            1.1825|     133.1159758|      -2.03391875|        0.97352425|         -2.0400175|       0.971788375|         4.7533075|          4.804895|         4.7575275|         4.8067625|         2.70008375|           2.591615|         2.71227875|         2.58182875|    9.6524561875|         101.625|           42.25|         223.875|    0.119998711875|    0.33728364125|-0.00803654398270...|284.1564649144834|284.0645280718195|0.002456293377117...|0.5754164067491089|0.007351570059445253|         null|     0.03578333225|     0.1712331175|    0.023248957875|    0.040803539375|    0.17410041625|    0.113336453875|    0.064203541625|       0.27952398|    3.2101302375|      0.654710965|     0.20392307125|        0.11210496|       0.40435566|             0.0|             0.57|            1.85|        292.4325|        283.9875|           388.369375|FLUXNET|      17|       WAT|    Other|       Csa|Temperate|         N|    40.60618|      8.15169|\n",
            "| IT-Noe|      CSH|    5|         17.2602|          5.0991|            1.4626|    173.86440585|       -1.9278749|         0.9571909|         -1.9511595|         0.9549731|          5.445118|          5.492179|          5.401488|          5.256367|           3.408906|           3.515185|           3.408962|           3.502916|      11.8327062|           123.0|            46.3|           271.4|       0.132484952|      0.346991698|-0.00803654398270...|284.1564649144834|284.0645280718195|0.002456293377117...|0.5754164067491089|0.007351570059445253|         null|       0.044977419|      0.182401116|      0.0281279026|      0.0483916105|      0.189367578|      0.1299228996|      0.0771645141|      0.276866464|      2.80273939|      0.604966051|       0.168469218|      0.1104400781|      0.351529103|             0.0|            0.548|            1.83|         296.648|         286.544|             387.2095|FLUXNET|      17|       WAT|    Other|       Csa|Temperate|         N|    40.60618|      8.15169|\n",
            "| IT-Noe|      CSH|    6|20.9237777777778|7.54644444444444| 0.695666666666667|202.994614655556|-1.49934355555556|          0.930247|  -1.55259622222222| 0.937808666666667|  4.93796333333333|  4.90986111111111|  4.99280222222222|  4.88167555555555|            3.24224|   3.39163777777778|   3.31247333333333|   3.45610222222222|12.8563516666667|143.111111111111|43.4444444444444|315.888888888889| 0.126522484555556|0.322061001111111|-0.00803654398270...|284.1564649144834|284.0645280718195|0.002456293377117...|0.5754164067491089|0.007351570059445253|         null|0.0505610903333333|0.184015432222222|0.0306264171111111|0.0516671181111111|       0.19729891| 0.142183623333333|0.0871504915555556|0.265388296666667|2.57131982222222|0.569106731111111|       0.128438185| 0.104813844444444|0.313585998888889|             0.0|0.554444444444444|1.91111111111111|302.135555555556|290.257777777778|     387.414444444444|FLUXNET|      17|       WAT|    Other|       Csa|Temperate|         N|    40.60618|      8.15169|\n",
            "| IT-Noe|      CSH|    7|23.4187777777778|9.14011111111111|0.0498888888888889|201.071540277778|       -0.1374726| 0.953778444444444| -0.146350133333333| 0.954002333333333|  3.08906777777778|  3.32807666666667|            3.0624|  3.26310111111111|   2.83818111111111|   3.17115666666667|   2.85364888888889|   2.99219777777778|12.4437366666667|145.444444444444|            40.0|320.222222222222| 0.104973743333333|0.272637304444444|-0.00803654398270...|284.1564649144834|284.0645280718195|0.002456293377117...|0.5754164067491089|0.007351570059445253|         null|0.0535063507777778|0.177644537777778|0.0304755265555556|0.0520304463333333|0.198628105555556| 0.149017561111111|0.0927956361111111|0.244430395555556|2.42054618888889|0.537301896666667|0.0878815648888889|0.0954970515555556|0.281418526666667|             0.0|0.541111111111111|1.75555555555556|305.608888888889|292.853333333333|              385.395|FLUXNET|      17|       WAT|    Other|       Csa|Temperate|         N|    40.60618|      8.15169|\n",
            "| IT-Noe|      CSH|    8|         23.4084|          8.5376|            0.2465|    167.20112481|        0.7594659|         0.9563173|         0.71081887|         0.9660618|         1.8645505|          2.296059|         1.8275737|         2.1225376|            2.41936|           3.100136|           2.523211|           2.945711|      10.5408642|           126.7|            37.5|           276.4|      0.0845215016|      0.231979043|-0.00803654398270...|284.1564649144834|284.0645280718195|0.002456293377117...|0.5754164067491089|0.007351570059445253|         null|      0.0484399984|      0.163916615|      0.0266804838|      0.0470967745|      0.185504181|       0.139653063|      0.0861109609|      0.230123145|      2.49278594|      0.544152835|      0.0801850246|      0.0892295284|      0.288261803|             0.0|            0.538|            1.72|         304.852|           293.1|             385.6895|FLUXNET|      17|       WAT|    Other|       Csa|Temperate|         N|    40.60618|      8.15169|\n",
            "| IT-Noe|      CSH|    9|         21.0532|          6.3058|            1.4907|    117.04936405|        1.2935918|          0.956389|         1.19948018|         0.9541667|         1.7641866|         2.0719221|         1.7851311|         2.0882032|            3.01645|           3.076919|           3.010659|           3.110388|      7.48763321|            95.0|            34.3|           206.9|      0.0690724662|      0.205104725|-0.00803654398270...|284.1564649144834|284.0645280718195|0.002456293377117...|0.5754164067491089|0.007351570059445253|         null|      0.0422731648|      0.151143165|      0.0243575002|      0.0427084986|      0.167719161|        0.12247716|      0.0746044959|      0.222759933|       2.5504522|      0.563500284|      0.1055335241|       0.085203135|      0.307938848|             0.0|             0.54|            1.49|         300.282|         290.984|             385.0805|FLUXNET|      17|       WAT|    Other|       Csa|Temperate|         N|    40.60618|      8.15169|\n",
            "| IT-Noe|      CSH|   10|18.3793333333333|4.91322222222222|             2.199|70.7818895928571|0.772966222222222| 0.929062111111111|  0.756572302222222| 0.935857222222222|  2.01931277777778|  2.42373444444444|  1.97100666666667|  2.25566888888889|   2.74695777777778|   3.03256444444444|   2.70455888888889|   3.00354633333333|5.28617528888889|66.5555555555556|            25.0|144.333333333333|0.0604758107777778|0.195397887777778|-0.00803654398270...|284.1564649144834|284.0645280718195|0.002456293377117...|0.5754164067491089|0.007351570059445253|         null|0.0340551976666667|0.139905733333333|0.0223086022222222|0.0370268818888889|       0.14834892| 0.102237096666667|0.0595607516666667|     0.2254657825|2.79848318888889|0.609346731111111| 0.156719098888889|0.0852373472222222|       0.35567327|             0.0|0.562222222222222|1.36666666666667|295.666666666667|289.044444444444|               384.44|FLUXNET|      17|       WAT|    Other|       Csa|Temperate|         N|    40.60618|      8.15169|\n",
            "| IT-Noe|      CSH|   11|13.7826666666667|3.69033333333333|  3.67616666666667|28.4641980783333|       0.00541585| 0.985532333333333|-0.0314012166666667| 0.989004666666667|            2.2534|  2.57371833333333|           2.26112|           2.54287|             2.2564|   2.42859833333333|   2.19209333333333|            2.37499|       3.0209407|            38.5|17.1666666666667|83.6666666666667|0.0574568383333333|0.202711761666667|-0.00803654398270...|284.1564649144834|284.0645280718195|0.002456293377117...|0.5754164067491089|0.007351570059445253|         null|0.0278310581666667|      0.138697515|      0.0213543395|0.0336220406666667|      0.139007705|0.0873429683333333|       0.047861993|      0.241916175|       3.1392231|      0.665438045|        0.22837198|      0.0924198575|0.416201431666667|             0.0|0.568333333333333|            1.25|288.296666666667|          284.82|             384.6475|FLUXNET|      17|       WAT|    Other|       Csa|Temperate|         N|    40.60618|      8.15169|\n",
            "| IT-Noe|      CSH|   12|       11.177125|          3.0135|           2.41325|   8.78795683575|   -0.28502612075|       0.975134375|      -0.3048685125|         0.9761425|         1.8116425|           2.22768|        1.81728625|        2.18643625|          1.5295125|           1.891065|             1.5257|         1.79200125|     1.947938575|           27.75|          13.125|          60.375|      0.0574645305|    0.21753291875|-0.00803654398270...|284.1564649144834|284.0645280718195|0.002456293377117...|0.5754164067491089|0.007351570059445253|         null|    0.026607086125|    0.14153310875|    0.021802105125|    0.033811602125|       0.13795272|       0.084154668|      0.0438507855|0.252937262857143|    3.2062377375|    0.68375004625|       0.254954035|    0.096768016875|    0.43625424125|             0.0|          0.56875|           1.325|        284.9075|        281.3825|            387.00875|FLUXNET|      17|       WAT|    Other|       Csa|Temperate|         N|    40.60618|      8.15169|\n",
            "+-------+---------+-----+----------------+----------------+------------------+----------------+-----------------+------------------+-------------------+------------------+------------------+------------------+------------------+------------------+-------------------+-------------------+-------------------+-------------------+----------------+----------------+----------------+----------------+------------------+-----------------+--------------------+-----------------+-----------------+--------------------+------------------+--------------------+-------------+------------------+-----------------+------------------+------------------+-----------------+------------------+------------------+-----------------+----------------+-----------------+------------------+------------------+-----------------+----------------+-----------------+----------------+----------------+----------------+---------------------+-------+--------+----------+---------+----------+---------+----------+------------+-------------+\n",
            "\n"
          ]
        }
      ]
    },
    {
      "cell_type": "markdown",
      "source": [
        "## `ESACCI_sm_avg`\n",
        "- 236 missing values"
      ],
      "metadata": {
        "id": "F62fmscmrefo"
      }
    },
    {
      "cell_type": "code",
      "source": [
        "static_monthly_sdf.filter(static_monthly_sdf.ESACCI_sm_avg.isNull()).show()"
      ],
      "metadata": {
        "colab": {
          "base_uri": "https://localhost:8080/"
        },
        "id": "kyirdPO-refp",
        "outputId": "9a5fb2f2-1950-4a21-bfba-1aa54bad0b57"
      },
      "execution_count": 378,
      "outputs": [
        {
          "output_type": "stream",
          "name": "stdout",
          "text": [
            "+-------+---------+-----+-----------------+-----------------+-----------------+-----------------+-------------------+------------------+------------------+------------------+------------------+------------------+------------------+------------------+-------------------+-------------------+-------------------+-------------------+-----------------+----------------+----------------+----------------+------------------+------------------+-------------------+----------------+----------------+------------------+------------------+------------------+-------------+------------------+-----------------+------------------+------------------+-----------------+------------------+------------------+-----------------+------------------+------------------+-----------------+------------------+------------------+----------------+-----------------+-----------------+----------------+----------------+---------------------+---------+--------+----------+---------+----------+---------+----------+------------+-------------+\n",
            "|SITE_ID|SITE_IGBP|month|         TA_F_avg|        VPD_F_avg|          P_F_avg|       NETRAD_avg|    NEE_VUT_REF_avg|NEE_VUT_REF_QC_avg|   NEE_CUT_REF_avg|NEE_CUT_REF_QC_avg|GPP_NT_VUT_REF_avg|GPP_DT_VUT_REF_avg|GPP_NT_CUT_REF_avg|GPP_DT_CUT_REF_avg|RECO_NT_VUT_REF_avg|RECO_DT_VUT_REF_avg|RECO_NT_CUT_REF_avg|RECO_DT_CUT_REF_avg|           ET_avg|    BESS_PAR_avg|BESS_PARdiff_avg|   BESS_RSDN_avg| CSIF_SIFdaily_avg|  CSIF_SIFinst_avg|            PET_avg|          Ts_avg|       Tmean_avg|          prcp_avg|           vpd_avg|     prcp_lag3_avg|ESACCI_sm_avg|            b1_avg|           b2_avg|            b3_avg|            b4_avg|           b5_avg|            b6_avg|            b7_avg|          EVI_avg|           GCI_avg|          NDVI_avg|         NDWI_avg|          NIRv_avg|         kNDVI_avg|Percent_Snow_avg|         Fpar_avg|          Lai_avg|     LST_Day_avg|   LST_Night_avg|CO2_concentration_avg|  dataset|MODIS_LC|MODIS_IGBP|MODIS_PFT|koppen_sub|   koppen|hemisphere|LOCATION_LAT|LOCATION_LONG|\n",
            "+-------+---------+-----+-----------------+-----------------+-----------------+-----------------+-------------------+------------------+------------------+------------------+------------------+------------------+------------------+------------------+-------------------+-------------------+-------------------+-------------------+-----------------+----------------+----------------+----------------+------------------+------------------+-------------------+----------------+----------------+------------------+------------------+------------------+-------------+------------------+-----------------+------------------+------------------+-----------------+------------------+------------------+-----------------+------------------+------------------+-----------------+------------------+------------------+----------------+-----------------+-----------------+----------------+----------------+---------------------+---------+--------+----------+---------+----------+---------+----------+------------+-------------+\n",
            "| AT-Neu|      GRA|    1|          -3.5995|         0.874625|         0.727375|     -21.13987512|        1.718167875|        0.90255375|        1.75475525|       0.889868875|      0.1831132125|       0.236282745|        0.12010025|         0.2608751|         1.94176425|        1.250332125|           1.889749|          1.2354075|       0.96223317|          21.375|           10.75|          47.875|       0.008329939|      0.0340344565|     -0.00114415775|    262.15453125|       263.91003|     0.00209782225|     0.07378193475|       0.009525269|         null|       0.105134375|    0.18462374125|     0.10460541375|     0.10600478525|       0.13522499|      0.0717408315|     0.03864062325|0.189269265714286|      2.0921599625|      0.4088731825|     0.3885574375|      0.0584237605|      0.2132119605|     83.55645275|             0.19|           0.2375|        268.3125|         263.045|            381.16625|  FLUXNET|       5|        MF|       MF|       Dfb|     Cold|         N|    47.11667|      11.3175|\n",
            "| AT-Neu|      GRA|    2|-2.72655555555556| 1.36355555555556|0.725888888888889|-5.00999065833333|   1.26062844444444| 0.933945222222222|  1.22827566666667| 0.931171444444444| 0.416537588888889| 0.248871733333333| 0.475708022222222| 0.285627911111111|   1.69318933333333|  0.942971222222222|   1.67912133333333|   1.09520677777778| 2.11744817777778|38.3333333333333|18.8888888888889|86.7777777777778|0.0094515677777777|0.0340155634444444|-0.0029453951111111|263.444064444444|264.455575555556|0.0025243296666666|0.0810003301111111|0.0085607014444444|         null| 0.310360664444444|0.348009757777778| 0.317551891111111| 0.317644221111111|0.176135366666667|0.0614915962222222|0.0300917348888889|     0.1137696925|0.0983715316666667|0.0582668734444445|0.698486328888889|0.0199754035555556|0.0037040125555555|83.0400923333333|0.228888888888889|0.288888888888889|269.208888888889|261.026666666667|     383.547777777778|  FLUXNET|       5|        MF|       MF|       Dfb|     Cold|         N|    47.11667|      11.3175|\n",
            "| AT-Neu|      GRA|    3| 2.57033333333333| 2.67544444444444| 1.09344444444444| 31.8569304233333|   1.51200366666667| 0.935633222222222|  1.53457666666667| 0.936230555555556|  1.28771322222222| 0.931542777777778|  1.33456277777778| 0.898368888888889|   2.80816666666667|   1.63403255555556|   2.86573444444444|           1.603024| 3.20130743333333|61.1111111111111|31.8888888888889|           137.0|0.0261602057777778|0.0813919742222222|-0.0060576665555555|268.614736666667|269.150431111111|0.0034348436666666| 0.108726457555556|       0.008881249|         null| 0.155772620666667|0.235849883333333| 0.146820243555556| 0.157162142777778|0.174219531111111| 0.110096504777778|0.0622354618888889|      0.174153565| 0.917085316666667| 0.270876473333333|0.343287802222222|0.0540030465555556| 0.100468928444444|70.8530458888889|0.318888888888889|0.577777777777778|277.153333333333|265.726666666667|     383.282222222222|  FLUXNET|       5|        MF|       MF|       Dfb|     Cold|         N|    47.11667|      11.3175|\n",
            "| AT-Neu|      GRA|    4| 7.29163636363636| 4.20845454545455| 1.22554545454545|      81.88762581| -0.694612345454545| 0.973611181818182|-0.689574227272727| 0.974873818181818|  8.16891545454545|  6.60782363636364|           8.27074|  6.61389363636364|   7.56763727272727|   4.65969181818182|   7.60958818181818|   4.62792181818182| 4.50963669090909|80.7272727272727|45.3636363636364|179.909090909091|0.0901970658181818|        0.24827445|-0.0085263521818181|272.842442727273|273.260158181818|0.0036327274545454| 0.136588745818182|0.0095590482727272|         null|0.0662590835454545|0.216493534545455|0.0483678029090909|0.0683823729090909|0.209804578181818| 0.143829799090909|0.0762281272727273|      0.298779831|  2.30015707272727|        0.53364351|0.200383859090909| 0.116164250363636| 0.282628922727273|33.3393941181818|0.499090909090909| 1.31818181818182|286.123636363636|          269.16|     382.975909090909|  FLUXNET|       5|        MF|       MF|       Dfb|     Cold|         N|    47.11667|      11.3175|\n",
            "| AT-Neu|      GRA|   12|-2.45244444444444|0.659333333333333|            1.142|-19.2257485743333|   2.36746444444444|          0.952957|           2.32219| 0.953405111111111| 0.118657277777778| 0.366250222222222|0.0714020111111111| 0.401223111111111|   2.51455888888889|   1.96693622222222|            2.37313|   1.98319544444444|0.546986195555556|15.5555555555556|8.88888888888889|34.2222222222222|0.0061117994444444|0.0250416473333333| -7.184685555555E-4|262.678167777778|264.001408888889|0.0033953444444444|0.0575731431111111|0.0113516096666667|         null|0.0351934906666667|0.129741361111111|0.0227510966666667|0.0332118531111111|0.130090383333333|0.0823578433333333|0.0441481306666667|    0.20246853625|  3.02102343333333|         0.5772094|0.223077164444444|0.0745877648888889| 0.322584218888889|76.0107528888889|0.238888888888889|0.333333333333333|268.364444444444|262.155555555556|     383.537777777778|  FLUXNET|       5|        MF|       MF|       Dfb|     Cold|         N|    47.11667|      11.3175|\n",
            "| CA-Ca3|      ENF|    1| 3.10888888888889|0.863222222222222| 8.57055555555556|  -1.140160533375|  0.825509555555556| 0.969384666666667| 0.825426444444444| 0.970131222222222| 0.854271222222222|          1.174337| 0.843156444444444|  1.18075444444444|   1.69286222222222|   1.89839777777778|   1.67936444444444|   1.87224777777778|0.183481859333333|14.6666666666667|8.55555555555556|31.5555555555556|0.0821870321111111| 0.346197634444444|-0.0018309868888888|       273.88492|275.094433333333|0.0104333544444444|0.0738875788888889|0.0309640584444444|         null|0.0763674811111111|0.233259805555556|0.0728421647777778|0.0864876054444444|       0.16491761|0.0691503924444444|0.0260595671111111|       0.34376413|  4.10057217777778| 0.612465477777778|0.519836424444444| 0.127707218333333| 0.385799124444444|33.0089921111111|0.533333333333333| 1.08888888888889|273.024444444444|270.024444444444|     379.491666666667|AmeriFlux|       1|       ENF|      ENF|       Csb|Temperate|         N|     49.5346|    -124.9004|\n",
            "| CA-Ca3|      ENF|    2|         3.339625|         1.344625|         4.074125| 19.4214645957143|          0.0694621|       0.980532875|      0.0458332625|       0.978833125|        1.74812375|        1.88044875|        1.71058625|        1.86397625|           1.816165|         1.67745875|          1.7556725|         1.70541875|     1.1280284225|           29.25|           15.75|            63.5|     0.10664020575|     0.39399794875|      -0.0037939615|      274.092755|      275.384565|      0.0051985965|    0.108440673625|    0.025254266625|         null|    0.055643315625|     0.2173151325|      0.0437410395|    0.061288127125|     0.1803507175|    0.088259174875|     0.03707963875|    0.33016512125|     4.42728348125|      0.6633914725|    0.40871375625|    0.135352523125|     0.42946863375|   18.5983846875|          0.68875|           1.7875|          276.44|        271.2075|             380.0975|AmeriFlux|       1|       ENF|      ENF|       Csb|Temperate|         N|     49.5346|    -124.9004|\n",
            "| CA-Ca3|      ENF|    3| 4.64177777777778| 1.82488888888889| 4.75388888888889|    49.4046835975|         -0.6410115| 0.991188888888889|-0.659642588888889| 0.989396777777778|  3.19788555555556|  3.28790222222222|  3.19313777777778|  3.26461222222222|            2.55239|   2.72108222222222|   2.53812444444444|   2.60241111111111| 2.77699056666667|46.4444444444444|27.5555555555556|100.888888888889| 0.136595505555556| 0.432467201111111|-0.0063689774444444|275.328583333333|       276.01614|0.0071544087777777|       0.133784065|0.0224159417777778|         null|0.0381098925555556|0.206494712222222|0.0228261104444444|0.0412333514444444|0.201577586666667| 0.113223337333333|0.0496173317777778|0.332866104444444|  4.60756944444444| 0.703042115555556|0.289594872222222| 0.143782403333333| 0.460690367777778|4.65232975111111|0.635555555555556| 1.77777777777778|277.528888888889|           271.3|     380.296666666667|AmeriFlux|       1|       ENF|      ENF|       Csb|Temperate|         N|     49.5346|    -124.9004|\n",
            "| CA-Ca3|      ENF|    4| 7.67144444444444| 3.41033333333333| 2.91911111111111|   92.02825189625|  -1.35859388888889| 0.970987666666667| -1.36162477777778|          0.968287|  4.86071444444444|  5.16751888888889|  4.81932333333333|  5.12386666666667|   3.52211222222222|            3.96448|             3.4556|   3.94105555555556| 5.42452741111111|            77.0|39.4444444444444|168.888888888889| 0.179222838888889| 0.494802167777778|-0.0117275107777778|       278.22364|278.769334444444|0.0045806255555555| 0.224083432222222|0.0165632125555556|         null|0.0378282667777778|       0.21862088|0.0190425938888889|0.0408097868888889|       0.23150953| 0.141160975555556|0.0662313638888889|0.346868084444444|  4.39454895555556| 0.705564148888889|0.215966538888889| 0.154232275555556| 0.460445817777778|             0.0|0.665555555555556| 2.17777777777778|282.442222222222|273.802222222222|     381.067777777778|AmeriFlux|       1|       ENF|      ENF|       Csb|Temperate|         N|     49.5346|    -124.9004|\n",
            "| CA-Ca3|      ENF|    5| 11.4406666666667| 4.66533333333333| 1.92066666666667|   127.6578895625|  -1.43929033333333| 0.971400888888889| -1.42249577777778| 0.969982111111111|  6.74029777777778|  7.15406888888889|  6.77329666666667|  7.08779444444444|   5.31147222222222|   6.55550666666667|   5.34053444444444|   6.36451777777778| 6.62184072222222|96.5555555555556|48.2222222222222|210.888888888889| 0.284682208888889| 0.716261335555556|-0.0154264935555556|282.475526666667|282.769921111111|0.0029927516666666| 0.330884781111111|0.0147277856666667|         null|0.0376783141111111|0.255905553333333|       0.018645698|0.0464521477777778|0.261454996666667| 0.157435485555556|0.0697146964444444|0.406211656666667|  4.51689413333333| 0.742307784444444|0.237226686666667| 0.190337892222222| 0.501228361111111|             0.0|0.694444444444444|              2.7|289.302222222222|277.544444444444|     381.474444444444|AmeriFlux|       1|       ENF|      ENF|       Csb|Temperate|         N|     49.5346|    -124.9004|\n",
            "| CA-Ca3|      ENF|    6|         14.96525|         6.229375|          1.48225| 149.192215514286|         -2.0579445|        0.97022575|        -2.0637865|       0.962933875|        9.34946875|          8.909755|        9.35667875|          9.050705|          7.3149925|         8.11944875|          7.2995825|           8.344075|     7.9352387125|           110.5|          52.875|         240.125|      0.4295529275|       1.041056705|     -0.01924005525|      286.599135|        286.7568|    0.002078155375|     0.47769053375|    0.010114816875|         null|      0.0334620155|    0.31392474375|      0.0175096015|    0.052011125625|     0.2877952475|     0.15376069125|    0.060491951625|    0.50670619125|      5.0537003625|     0.80678032375|     0.3416727175|        0.25355824|     0.57208472875|           0.025|           0.7525|              3.3|        292.2575|          281.29|             380.8725|AmeriFlux|       1|       ENF|      ENF|       Csb|Temperate|         N|     49.5346|    -124.9004|\n",
            "| CA-Ca3|      ENF|    7|           17.364| 7.83911111111111|0.759777777777778| 154.571591966667|  -1.20044111111111| 0.919205444444444| -1.17852022222222| 0.912933111111111|  8.55653666666667|  9.29114777777778|  8.63966666666667|  9.37156444444445|   7.46069222222222|   8.98735555555556|   7.47584777777778|   9.10392222222222| 7.93905276666667|119.111111111111|45.2222222222222|258.555555555556| 0.427095015555556|  1.06025008222222|       -0.021972186|        289.9288|290.067938888889|0.0014004146666666| 0.625583135555556|0.0064464251111111|         null|0.0305003575555556|0.322558947777778|0.0154580644444444|0.0476442643333333|0.288275981111111| 0.150858595555556|       0.057734946|       0.52534113|  5.78984988888889|        0.82722146|0.362609975555556| 0.266847986666667| 0.594245768888889|             0.0|0.788888888888889| 3.56666666666667|296.304444444444|284.495555555556|              380.725|AmeriFlux|       1|       ENF|      ENF|       Csb|Temperate|         N|     49.5346|    -124.9004|\n",
            "| CA-Ca3|      ENF|    8|           16.912| 6.69355555555556|0.985888888888889| 123.113820955556|-0.0166413333333333| 0.955122333333333|0.0382502888888889| 0.944817888888889|  6.40919666666667|  6.35581666666667|  6.43241111111111|  6.58383222222222|   6.40334444444444|            6.88556|   6.46581111111111|   6.89918333333333| 6.72595076666667|103.222222222222|37.8888888888889|           225.0| 0.347123371111111| 0.927701252222222|       -0.019102023|289.648866666667|290.003668888889|0.0016732076666666| 0.564829207777778|0.0051268813333333|         null|0.0297770591111111|       0.29677024|0.0149709673333333|0.0425655878888889|0.269400885555556| 0.139964337777778|0.0536397845555556|0.489498216666667|  5.98179844444444|        0.81751407|0.358879334444444| 0.242635848888889| 0.583830366666667|             0.0|             0.76| 3.16666666666667|          295.62|284.557777777778|     380.006666666667|AmeriFlux|       1|       ENF|      ENF|       Csb|Temperate|         N|     49.5346|    -124.9004|\n",
            "| CA-Ca3|      ENF|    9| 13.3965555555556|            4.008| 2.52566666666667| 72.7609984211111|  0.226807222222222| 0.960802555555555| 0.197223777777778| 0.960185111111111|  5.51310444444444|           5.79946|  5.43493111111111|  5.75375888888889|   5.65973222222222|            6.53438|   5.63392111111111|   6.70995666666667| 4.26059958888889|72.3333333333333|29.6666666666667|           157.0| 0.248542616666667| 0.741674886666667|-0.0118445106666667|285.790773333333|286.497842222222|0.0030985044444444| 0.341409391111111|0.0061721264444444|         null|       0.027994074|0.261041474444444|0.0140903696666667|0.0378781476666667|0.240258875555556| 0.123872777333333|0.0476457398888889|0.439890753333333|         5.9039446| 0.806252578888889|0.355955513333333| 0.210478015555556| 0.571669304444444|             0.0|0.772222222222222| 2.95555555555556|290.273333333333|281.262222222222|     379.426666666667|AmeriFlux|       1|       ENF|      ENF|       Csb|Temperate|         N|     49.5346|    -124.9004|\n",
            "| CA-Ca3|      ENF|   10|           8.7573|            1.841|           6.5318|      25.59724759|          1.3479282|          0.970027|          1.331836|         0.9624327|           3.33692|           3.73633|          3.344254|          3.755339|           4.690025|           4.678974|           4.682532|           4.642384|      1.520251784|            37.2|            18.3|            80.3|       0.157578293|       0.533429152|      -0.0058549542|      281.001332|      281.729548|      0.0070937769|      0.1659010286|       0.012085955|         null|      0.0261604244|       0.22269959|      0.0128250718|      0.0329603903|      0.210345439|       0.107085225|         0.0418466|      0.382424051|        5.78661632|       0.789395307|      0.349913767|        0.17595585|        0.55318791|             0.0|            0.732|             2.21|         283.284|         277.012|             378.4855|AmeriFlux|       1|       ENF|      ENF|       Csb|Temperate|         N|     49.5346|    -124.9004|\n",
            "| CA-Ca3|      ENF|   11| 4.55322222222222| 1.07711111111111| 9.30588888888889|    1.40250130725|   1.33475244444444| 0.983410555555556|  1.35029277777778| 0.981404333333333|  1.59221988888889|  1.98880222222222|  1.57957666666667|  1.95252555555556|   2.96316888888889|   3.14602777777778|            2.93764|            2.96751|0.476123258888889|18.3333333333333|10.2222222222222|40.3333333333333|       0.093724474| 0.365210454444444|-0.0027357862222222|276.301591111111|277.077904444444|0.0110182458888889|0.0845506966666667|0.0220164924444444|         null|0.0246131613333333|0.187735112222222|0.0137968077777778|0.0299391937777778|0.173284246666667|0.0838472427777778|0.0330059847777778|0.330741675555556|  5.92606737777778|         0.7810715|0.379772295555556| 0.145264596222222| 0.545293454444444|9.41111111111111|0.608888888888889| 1.55555555555556|276.557777777778|272.164444444444|     379.959444444444|AmeriFlux|       1|       ENF|      ENF|       Csb|Temperate|         N|     49.5346|    -124.9004|\n",
            "| CA-Ca3|      ENF|   12|           2.5519|           0.8646|           8.5501|-4.77927998044444|          1.0051078|          0.980242|          1.032697|         0.9491936|         0.8059389|         1.1431518|            0.8229|         1.1719608|           1.849917|           2.125457|           1.860422|           2.157411|      0.287520733|            11.5|             7.0|            24.8|      0.0700181493|       0.302777906|      -0.0018025235|      273.701799|      274.894403|      0.0098094579|      0.0740884568|      0.0278926337|         null|      0.0789696455|      0.233407006|       0.077639414|      0.0889412083|      0.172260683|      0.0708636608|      0.0274064443|      0.343307947|        4.10820039|       0.596879252|      0.515697707|      0.1255973109|       0.372224931|    27.933786407|             null|             null|         272.354|          270.06|             379.8755|AmeriFlux|       1|       ENF|      ENF|       Csb|Temperate|         N|     49.5346|    -124.9004|\n",
            "| CA-Man|      ENF|    3|-12.9533333333333|            0.674|0.367333333333333| 74.6575145666667|           0.213277| 0.976030333333333| 0.203108966666667| 0.976030333333333|           0.33213|0.0698442333333333| 0.203713166666667|         0.0439441|  0.528514333333333|  0.196875333333333|  0.560234666666667|  0.203227333333333| 3.51823823333333|51.6666666666667|23.6666666666667|           116.0|0.0289149223333333|0.0941030383333333|-0.0040742976666666|       259.72122|       259.54688|       0.001154473|0.0617836543333333|0.0024926296666666|         null| 0.265578676666667|0.226839313333333|         0.2623449|        0.27401187|       0.22601216|0.0795518186666667|0.0388664336666667|        0.2168723| 0.283070493333333| 0.139062196666667|       0.62938182|       0.048201183|0.0196877673333333|       98.797962|0.203333333333333|0.266666666666667|259.453333333333|          249.08|     375.441666666667|  FLUXNET|       8|       WSA|       SA|       Dfc|     Cold|         N|    55.87962|    -98.48081|\n",
            "| CA-NS1|      ENF|    3|-10.1733333333333|            1.321|0.391666666666667|     68.076015455|           0.675107|          0.994624| 0.659880666666667| 0.993279666666667|        -0.0892362|0.0358121333333333|-0.108736566666667|0.0205790333333333|            0.54534|  0.646381666666667|           0.570245|  0.523166333333333| 3.41199773333333|48.3333333333333|23.3333333333333|108.666666666667|0.0410841133333333| 0.132854511333333|       -0.004700246|260.276966666667|260.094653333333| 8.332963333333E-4|0.0648537333333333|       0.002169775|         null| 0.245409343333333|       0.33309178| 0.241103253333333| 0.253504576666667|       0.20775045|0.0767900683333333|0.0365960286666667|       0.22009595|        0.31589565| 0.152284593333333|0.625092646666667|       0.050568291|0.0233914426666667|        94.83871|0.253333333333333|0.333333333333333|          262.72|251.253333333333|     376.456666666667|AmeriFlux|       8|       WSA|       SA|       Dfc|     Cold|         N|     55.8792|     -98.4839|\n",
            "| CA-NS1|      ENF|   12|          -18.639|           0.2775|            0.019|      5.964847446|           0.539134|          0.966062|          0.536086|           0.96707|        -0.1512225|        0.02312915|        -0.1826645|       0.009095335|          0.3546575|          0.4663755|          0.3657215|          0.4576515|      0.154925345|             8.5|             4.5|            19.0|      0.0203811635|       0.104013993|        -5.66855E-4|      253.049855|       253.24257|        5.38613E-4|      0.0280159265|       0.002937868|         null|        0.17848907|       0.24234065|       0.218606325|       0.202098365|       0.14629972|      0.0573982485|      0.0306713585|       0.23843512|       0.207216345|        0.15396983|       0.61713713|       0.037008766|      0.0249202745|       74.306453|             null|             null|          252.13|          246.67|              375.955|AmeriFlux|       8|       WSA|       SA|       Dfc|     Cold|         N|     55.8792|     -98.4839|\n",
            "+-------+---------+-----+-----------------+-----------------+-----------------+-----------------+-------------------+------------------+------------------+------------------+------------------+------------------+------------------+------------------+-------------------+-------------------+-------------------+-------------------+-----------------+----------------+----------------+----------------+------------------+------------------+-------------------+----------------+----------------+------------------+------------------+------------------+-------------+------------------+-----------------+------------------+------------------+-----------------+------------------+------------------+-----------------+------------------+------------------+-----------------+------------------+------------------+----------------+-----------------+-----------------+----------------+----------------+---------------------+---------+--------+----------+---------+----------+---------+----------+------------+-------------+\n",
            "only showing top 20 rows\n",
            "\n"
          ]
        }
      ]
    },
    {
      "cell_type": "code",
      "source": [
        "static_monthly_sdf.filter(static_monthly_sdf.ESACCI_sm_avg.isNull()).groupBy(\"SITE_ID\").count().show()"
      ],
      "metadata": {
        "colab": {
          "base_uri": "https://localhost:8080/"
        },
        "id": "gS-K4_earefp",
        "outputId": "213c8e68-5682-441a-e75b-8b4d2256e743"
      },
      "execution_count": 379,
      "outputs": [
        {
          "output_type": "stream",
          "name": "stdout",
          "text": [
            "+-------+-----+\n",
            "|SITE_ID|count|\n",
            "+-------+-----+\n",
            "| CN-Cha|    1|\n",
            "| SE-Svb|    4|\n",
            "| CA-TPD|    1|\n",
            "| US-GLE|    2|\n",
            "| SE-Ros|    2|\n",
            "| IT-Tor|    1|\n",
            "| US-Ivo|    6|\n",
            "| SE-Deg|    2|\n",
            "| CA-Oas|    2|\n",
            "| FI-Var|    2|\n",
            "| CN-HaM|    4|\n",
            "| SJ-Adv|    1|\n",
            "| CA-Qc2|    1|\n",
            "| US-UMB|    4|\n",
            "| FI-Qvd|    1|\n",
            "| US-UMd|    4|\n",
            "| CH-Aws|    6|\n",
            "| CA-TP3|   12|\n",
            "| FI-Lom|    5|\n",
            "| IT-Noe|   12|\n",
            "+-------+-----+\n",
            "only showing top 20 rows\n",
            "\n"
          ]
        }
      ]
    },
    {
      "cell_type": "markdown",
      "source": [
        "### Impute with average across sites"
      ],
      "metadata": {
        "id": "fI0CGRGP8StR"
      }
    },
    {
      "cell_type": "code",
      "source": [
        "static_monthly_sdf.select(mean('ESACCI_sm_avg')).head()[0]"
      ],
      "metadata": {
        "colab": {
          "base_uri": "https://localhost:8080/"
        },
        "outputId": "bd264bad-2bc1-48b9-b9e9-06997e54277a",
        "id": "lcJbDU7_8StR"
      },
      "execution_count": 380,
      "outputs": [
        {
          "output_type": "execute_result",
          "data": {
            "text/plain": [
              "0.24943720478288073"
            ]
          },
          "metadata": {},
          "execution_count": 380
        }
      ]
    },
    {
      "cell_type": "code",
      "source": [
        "static_monthly_sdf = static_monthly_sdf.fillna(\n",
        "    value = static_monthly_sdf\n",
        "    .select(mean('ESACCI_sm_avg')).head()[0],\n",
        "    subset = ['ESACCI_sm_avg'])"
      ],
      "metadata": {
        "id": "sZN1qRGh8StS"
      },
      "execution_count": 381,
      "outputs": []
    },
    {
      "cell_type": "code",
      "source": [
        "static_monthly_sdf.filter(static_monthly_sdf.SITE_ID == 'CA-TP3').show() "
      ],
      "metadata": {
        "colab": {
          "base_uri": "https://localhost:8080/"
        },
        "outputId": "d1f2b443-3a33-4a96-8ab1-817913288286",
        "id": "vsLvBjg-8StS"
      },
      "execution_count": 382,
      "outputs": [
        {
          "output_type": "stream",
          "name": "stdout",
          "text": [
            "+-------+---------+-----+------------------+-----------------+----------------+----------------+------------------+------------------+------------------+------------------+------------------+------------------+------------------+------------------+-------------------+-------------------+-------------------+-------------------+-----------------+----------------+----------------+----------------+------------------+------------------+-------------------+----------------+----------------+------------------+------------------+------------------+-------------------+------------------+-----------------+------------------+------------------+-----------------+-----------------+------------------+-----------------+----------------+-----------------+-------------------+------------------+-----------------+-----------------+-----------------+-----------------+----------------+----------------+---------------------+-------+--------+----------+---------+----------+------+----------+------------+-------------+\n",
            "|SITE_ID|SITE_IGBP|month|          TA_F_avg|        VPD_F_avg|         P_F_avg|      NETRAD_avg|   NEE_VUT_REF_avg|NEE_VUT_REF_QC_avg|   NEE_CUT_REF_avg|NEE_CUT_REF_QC_avg|GPP_NT_VUT_REF_avg|GPP_DT_VUT_REF_avg|GPP_NT_CUT_REF_avg|GPP_DT_CUT_REF_avg|RECO_NT_VUT_REF_avg|RECO_DT_VUT_REF_avg|RECO_NT_CUT_REF_avg|RECO_DT_CUT_REF_avg|           ET_avg|    BESS_PAR_avg|BESS_PARdiff_avg|   BESS_RSDN_avg| CSIF_SIFdaily_avg|  CSIF_SIFinst_avg|            PET_avg|          Ts_avg|       Tmean_avg|          prcp_avg|           vpd_avg|     prcp_lag3_avg|      ESACCI_sm_avg|            b1_avg|           b2_avg|            b3_avg|            b4_avg|           b5_avg|           b6_avg|            b7_avg|          EVI_avg|         GCI_avg|         NDVI_avg|           NDWI_avg|          NIRv_avg|        kNDVI_avg| Percent_Snow_avg|         Fpar_avg|          Lai_avg|     LST_Day_avg|   LST_Night_avg|CO2_concentration_avg|dataset|MODIS_LC|MODIS_IGBP|MODIS_PFT|koppen_sub|koppen|hemisphere|LOCATION_LAT|LOCATION_LONG|\n",
            "+-------+---------+-----+------------------+-----------------+----------------+----------------+------------------+------------------+------------------+------------------+------------------+------------------+------------------+------------------+-------------------+-------------------+-------------------+-------------------+-----------------+----------------+----------------+----------------+------------------+------------------+-------------------+----------------+----------------+------------------+------------------+------------------+-------------------+------------------+-----------------+------------------+------------------+-----------------+-----------------+------------------+-----------------+----------------+-----------------+-------------------+------------------+-----------------+-----------------+-----------------+-----------------+----------------+----------------+---------------------+-------+--------+----------+---------+----------+------+----------+------------+-------------+\n",
            "| CA-TP3|      ENF|    1|          -4.71725|          0.79575|         3.48075|  9.658889046125|        0.32996675|         0.9933635|           0.29802|         0.9938675|       0.107038355|     0.04122357125|       0.124037885|     0.04403559375|       0.4340533125|           0.436655|         0.42445035|        0.449114875|    0.43706354375|           22.75|          14.375|          48.875|    0.007809730375|    0.030196359625|      -7.7255075E-4|    269.00375125|    268.67174375|     0.00269077525|      0.1017016025|     0.00913145275|0.24943720478288073|     0.06224238275|    0.16997545375|      0.0366744295|    0.060629204125|       0.19484841|      0.167982595|     0.09509386325|       0.21192739|       1.8048915|    0.46371860625|       0.0057054725|     0.07889300125|     0.2120430625|      71.70161325|          0.23875|           0.3375|         268.055|        261.0675|            388.01125|FLUXNET|      12|       CRO|      CRO|       Dfb|  Cold|         N| 42.70681111| -80.34831389|\n",
            "| CA-TP3|      ENF|    2| -3.82557142857143|0.918142857142857|3.33585714285714|33.8994944828571| 0.472221285714286|          0.983488| 0.465324857142857| 0.984473857142857|0.0519466857142857|0.0377856114285714|0.0508931142857143|0.0304063462857143|  0.524092428571429|  0.472015285714286|  0.514614285714286|  0.449913714285714| 1.26187528571429|37.7142857142857|23.2857142857143|            82.0|0.0037961177142857|0.0132060018571429| -5.503541428571E-4|268.309184285714|268.583341428571|0.0026587287142857|0.0932190614285714|0.0089875625714285|0.24943720478288073|0.0762333774285714|0.169651941428571|0.0487755445714286|0.0702704962857143|0.197523158571429|0.176324607142857| 0.109669149857143|0.184175503333333|       1.5467912|0.395213651428571|-0.0242335221428571|0.0654666338571429|0.158250982857143| 80.9437002142857|0.201428571428571|0.257142857142857|270.397142857143|261.105714285714|     389.803571428571|FLUXNET|      12|       CRO|      CRO|       Dfb|  Cold|         N| 42.70681111| -80.34831389|\n",
            "| CA-TP3|      ENF|    3|          1.270375|         1.922875|        2.931125|  70.35303892125|       0.050491875|       0.987819375|       0.033455625|         0.9888275|        0.75449824|      0.6136616875|     0.74114250625|         0.5935754|           0.804339|         0.66308175|         0.77600175|         0.64408225|      2.886444975|           62.25|            33.5|         136.125|    0.035459914125|    0.109556035625|        -5.23773E-4|     271.4219925|    272.51948375|     0.00290056575|        0.13165717|    0.007959456125|0.24943720478288073|    0.094521107625|       0.19345349|    0.061104886625|    0.086261066875|    0.21184870375|      0.192465485|       0.121198368|0.188105974285714|     1.465168725|     0.3679264025|     0.001696899375|    0.068383565125|    0.14124643125|      42.25403225|          0.24875|           0.4875|        277.9325|        266.7275|           388.565625|FLUXNET|      12|       CRO|      CRO|       Dfb|  Cold|         N| 42.70681111| -80.34831389|\n",
            "| CA-TP3|      ENF|    4|  7.42711111111111| 3.98122222222222|3.48355555555556|104.215078092222| -1.72681111111111| 0.992284111111111| -1.77345666666667| 0.987191444444444|           3.34244|  3.31448777777778|  3.35778222222222|            3.3009|   1.60439055555556|   1.56301444444444|   1.58452611111111|   1.52959211111111| 4.26080572222222|85.6666666666667|38.3333333333333|187.666666666667|       0.078912822| 0.220342765555556|-0.0014829182222222|279.409157777778|279.195428888889|       0.003501245| 0.254966258888889|       0.008674338|0.24943720478288073|0.0815633107777778|0.199567506666667|0.0433769706666667|0.0726860711111111|       0.23824937|0.222527314444444| 0.145317378888889|     0.2159728125|1.74986748888889|0.419431653333333|-0.0544736033333333|0.0839129502222222|0.175054578888889|0.992592555555555|0.371111111111111|0.833333333333333|289.331111111111|272.931111111111|     388.796111111111|FLUXNET|      12|       CRO|      CRO|       Dfb|  Cold|         N| 42.70681111| -80.34831389|\n",
            "| CA-TP3|      ENF|    5|          14.04325|         5.620875|        2.914125|  152.2309090125|           -3.3785|         0.9466565|         -3.464805|        0.94758075|         6.9384875|          6.817085|         6.8905625|        6.75426125|         3.56585625|           3.741485|        3.433671375|          3.5525925|     6.8602995625|          108.75|          45.875|         238.125|     0.19626753375|     0.50770933375|    -0.003794013625|      290.596565|      287.486675|    0.003294441875|      0.4686953025|      0.0087527325|0.24943720478288073|      0.0759741965|    0.24984535625|    0.041555442875|     0.07846330475|    0.25948728625|      0.210445365|       0.133312495|    0.31126603625|    2.1802614625|     0.5298523575|     0.082749771125|       0.133831975|    0.27562268375|              0.0|           0.5125|            1.575|          295.58|          279.51|             388.3875|FLUXNET|      12|       CRO|      CRO|       Dfb|  Cold|         N| 42.70681111| -80.34831389|\n",
            "| CA-TP3|      ENF|    6|  18.8717142857143| 5.80685714285714|3.42414285714286|160.838712085714| -3.14454571428571| 0.971428428571429| -3.14197571428571| 0.977480285714286|  9.75671714285714|  9.90701428571429|  9.67373285714286|  9.84659428571429|   6.59795714285714|   7.02584428571429|   6.52596857142857|   6.82725714285714| 7.61538924285714|           116.0|50.7142857142857|251.142857142857| 0.343955002857143| 0.866587081428571|-0.0050500674285714|296.425294285714|293.312984285714|       0.004704543| 0.646077684285714|0.0113563975714286|0.24943720478288073|       0.063118091|0.311843815714286|0.0361845207142857|       0.073132139|0.289967851428571|0.202974761428571| 0.114634278714286|0.438067811666667|3.29319457142857|0.663238035714286|         0.21145379| 0.207065271428571|0.413839541428571|              0.0|0.631428571428571| 2.55714285714286|          298.58|284.877142857143|     391.298571428571|FLUXNET|      12|       CRO|      CRO|       Dfb|  Cold|         N| 42.70681111| -80.34831389|\n",
            "| CA-TP3|      ENF|    7|          21.41475|          6.54525|         3.02575|  159.7551028875|      -1.940772375|         0.9725305|    -1.93502487625|        0.97841075|         8.8578775|          9.353795|        8.79161375|        9.31719625|          6.9047725|         7.87881625|           6.878725|          7.5226975|     7.0883659375|          111.75|          50.125|           242.0|     0.40252463125|       1.036820525|    -0.005337739375|    298.69951875|     295.9699025|    0.003973450125|     0.81372142875|    0.011869123875|0.24943720478288073|    0.044377217875|     0.3285560425|    0.026140926875|     0.05846713575|      0.293609075|      0.185583265|     0.08599031875|0.508939994285714|    4.6736073375|      0.761974325|       0.2780348025|     0.25057550375|    0.52290430875|              0.0|          0.70125|            3.025|          299.37|          288.13|              388.945|FLUXNET|      12|       CRO|      CRO|       Dfb|  Cold|         N| 42.70681111| -80.34831389|\n",
            "| CA-TP3|      ENF|    8|           20.6949|           5.9475|          2.5055|    135.28205574|        -2.0147258|         0.9481183|       -2.00115942|         0.9538307|          8.477407|          8.573634|          8.732884|          8.321992|           6.470605|           6.744288|           6.737542|           6.287401|       5.45950242|           102.3|            44.7|           221.9|        0.36892682|       1.006966056|      -0.0047651857|      297.925886|      295.459117|      0.0037039398|       0.774153469|      0.0115723511|0.24943720478288073|      0.0370514212|      0.320168977|       0.021371966|      0.0518071302|      0.284205051|      0.172575769|      0.0745703721|0.509664056666667|      5.21400545|      0.792020605|        0.299321928|       0.253881238|      0.556008586|              0.0|            0.727|             3.23|         298.324|         287.546|             387.0375|FLUXNET|      12|       CRO|      CRO|       Dfb|  Cold|         N| 42.70681111| -80.34831389|\n",
            "| CA-TP3|      ENF|    9|            16.567| 3.83328571428571|3.20485714285714|85.6289763042857| -2.13089114285714| 0.976190571428571|         -2.081403|          0.987996|           7.39411|  7.59825142857143|  7.39705428571429|  7.59568571428571|            5.25564|   5.70842857142857|   5.31174285714286|   5.52128428571429|         3.866457|76.5714285714286|            35.0|165.571428571429|        0.25444003| 0.754033475714286|-0.0033939928571428|       293.29555|291.372252857143|0.0031657162857142| 0.547316304285714|0.0105991781428571|0.24943720478288073|0.0399003151428571|       0.27611024|0.0223612437142857|       0.052112484|       0.25371629|0.157243757142857|       0.069904048|       0.43490434|4.33007678571429|0.745324542857143|  0.272671727142857|        0.20663063|0.504511187142857|              0.0|0.667142857142857| 2.41428571428571|294.468571428571|283.691428571429|     389.487857142857|FLUXNET|      12|       CRO|      CRO|       Dfb|  Cold|         N| 42.70681111| -80.34831389|\n",
            "| CA-TP3|      ENF|   10|  10.3917142857143| 2.69728571428571|3.82142857142857|38.5568134814286|-0.872997714285714| 0.992319714285714|         -0.902171| 0.993951857142857|  4.58002714285714|            4.5645|  4.52112857142857|  4.51787428571429|   3.71983142857143|   3.74904714285714|            3.61027|   3.61688714285714| 2.55331424285714|47.5714285714286|            24.0|           103.0| 0.111895233714286| 0.362718894285714|       -0.002279664|       285.83409|284.624984285714|0.0035010804285714| 0.339605722857143|       0.010406501|0.24943720478288073|       0.051161509|0.207233328571429|0.0285299564285714|0.0532015147142857|0.218187368571429|0.156411207142857|0.0802023785714286|0.299203561666667|2.90764741428571|0.600102585714286|  0.136641685714286| 0.125674161428571|0.347330892857143|        0.4562212|0.541428571428571| 1.22857142857143|286.702857142857|          277.22|     389.583571428571|FLUXNET|      12|       CRO|      CRO|       Dfb|  Cold|         N| 42.70681111| -80.34831389|\n",
            "| CA-TP3|      ENF|   11|  4.41822222222222| 1.98377777777778|2.92255555555556|8.87624070177778|-0.484009988888889| 0.992438222222222|-0.501443777777778| 0.992129666666667|           2.01121|  2.03711666666667|           1.98974|  2.04875666666667|   1.52068433333333|   1.60013633333333|            1.48332|   1.60325577777778|0.956008391111111|28.7777777777778|14.8888888888889|62.6666666666667|0.0513431552222222|        0.18387603|-0.0016897126666666|279.586128888889|278.430593333333|        0.00289651| 0.224380453333333|0.0090234494444444|0.24943720478288073|0.0575868365555556|0.171348651111111|0.0330400093333333|0.0547140506666667|0.197168892222222|0.163024853333333|0.0924937694444444|       0.22570948|2.13906971111111|0.495036031111111| 0.0239583648888889|0.0853610602222222|0.241806103333333| 9.41111096333333|              0.4|0.644444444444444|279.555555555556|271.186666666667|     388.092222222222|FLUXNET|      12|       CRO|      CRO|       Dfb|  Cold|         N| 42.70681111| -80.34831389|\n",
            "| CA-TP3|      ENF|   12|-0.799833333333333|           0.9915|           4.299|2.66067562966667| 0.240478666666667|         0.9915995| 0.220024333333333| 0.993055666666667| 0.488425166666667|         0.4499922|         0.4731035|         0.4294054|  0.725082366666667|          0.6237255|       0.6899736827|  0.699520666666667|      0.337104755|            18.0|11.3333333333333|38.8333333333333|0.0251451126666667|0.0972685233333333|       -0.001263102|274.275486666667|       273.21281|0.0040123268333333| 0.142297802666667|0.0099394206666666|0.24943720478288073|0.0507544401666667|0.138702236666667|       0.031869395|0.0471258831666667|0.168576403333333|0.146373846666667|0.0869431383333333|       0.18253393|1.94385281666667|0.464251063333333|       -0.027244796|       0.064403614|0.212345681666667| 34.2688168333333|0.286666666666667|0.433333333333333|271.873333333333|          264.37|     388.954166666667|FLUXNET|      12|       CRO|      CRO|       Dfb|  Cold|         N| 42.70681111| -80.34831389|\n",
            "+-------+---------+-----+------------------+-----------------+----------------+----------------+------------------+------------------+------------------+------------------+------------------+------------------+------------------+------------------+-------------------+-------------------+-------------------+-------------------+-----------------+----------------+----------------+----------------+------------------+------------------+-------------------+----------------+----------------+------------------+------------------+------------------+-------------------+------------------+-----------------+------------------+------------------+-----------------+-----------------+------------------+-----------------+----------------+-----------------+-------------------+------------------+-----------------+-----------------+-----------------+-----------------+----------------+----------------+---------------------+-------+--------+----------+---------+----------+------+----------+------------+-------------+\n",
            "\n"
          ]
        }
      ]
    },
    {
      "cell_type": "markdown",
      "source": [
        "### WIP - `CA-TP3` `IT-Noe` fill global average"
      ],
      "metadata": {
        "id": "p2aC0bT2z8BY"
      }
    },
    {
      "cell_type": "code",
      "source": [
        "print(\"average ESACCI_sm_avg\")\n",
        "print(static_monthly_sdf.select(mean('ESACCI_sm_avg')).head()[0])\n",
        "\n",
        "global_avg_ESACCI_sm_avg =  static_monthly_sdf.select(mean('ESACCI_sm_avg')).head()[0]"
      ],
      "metadata": {
        "colab": {
          "base_uri": "https://localhost:8080/"
        },
        "id": "IoytyZPp0MfR",
        "outputId": "29b1bc10-69f6-42cc-a088-8605cbb86743"
      },
      "execution_count": 383,
      "outputs": [
        {
          "output_type": "stream",
          "name": "stdout",
          "text": [
            "average ESACCI_sm_avg\n",
            "0.24943720478288203\n"
          ]
        }
      ]
    },
    {
      "cell_type": "code",
      "source": [
        "# static_monthly_sdf = static_monthly_sdf.fillna(\n",
        "#     value = static_monthly_sdf\n",
        "#     .select(mean('ESACCI_sm_avg.')).head()[0],\n",
        "#     subset = ['ESACCI_sm_avg'])_\n",
        "\n",
        "\n",
        "# `CA-TP3` `IT-Noe`\n",
        "\n",
        "# Replace null in CA-TP3 with global average\n",
        "# from pyspark.sql.functions import coalesce, col, lit, when\n",
        "\n",
        "# static_monthly_sdf_2 = static_monthly_sdf.select('SITE_ID',*[\n",
        "#     when(col('SITE_ID')== 'CA-TP3', when(col('ESACCI_sm_avg') == 'null',\n",
        "#          coalesce(col(c), lit(global_avg_ESACCI_sm_avg)))).otherwise(col(c)).alias(c) for c in static_monthly_sdf.columns[1:]])"
      ],
      "metadata": {
        "id": "7aJath-W0MWt"
      },
      "execution_count": 384,
      "outputs": []
    },
    {
      "cell_type": "code",
      "source": [
        "# from pyspark.sql.functions import *\n",
        "\n",
        "# static_monthly_sdf.withColumn('ESACCI_sm_avg',coalesce(col('ESACCI_sm_avg'),lit(global_avg_ESACCI_sm_avg))).show()"
      ],
      "metadata": {
        "id": "lfjdVfoN7KGe"
      },
      "execution_count": 385,
      "outputs": []
    },
    {
      "cell_type": "code",
      "source": [
        "# static_monthly_sdf.withColumn(\n",
        "#     'ESACCI_sm_avg',\n",
        "#     F.coalesce(\n",
        "#         F.col('ESACCI_sm_avg'),\n",
        "#         F.first('ESACCI_sm_avg').over(Window.partitionBy(\"city\").orderBy(\"city\")),\n",
        "#     ),\n",
        "# ).show()"
      ],
      "metadata": {
        "id": "jIwDQeqt69tM"
      },
      "execution_count": 386,
      "outputs": []
    },
    {
      "cell_type": "markdown",
      "source": [
        "### WIP - Rest of the sites fill site average"
      ],
      "metadata": {
        "id": "bOWhVDOv0E01"
      }
    },
    {
      "cell_type": "markdown",
      "source": [
        "## `b1_avg` - `b7_avg`"
      ],
      "metadata": {
        "id": "4U9wFHYZrenx"
      }
    },
    {
      "cell_type": "code",
      "source": [
        "static_monthly_sdf.filter(static_monthly_sdf.b1_avg.isNull()).show()"
      ],
      "metadata": {
        "colab": {
          "base_uri": "https://localhost:8080/"
        },
        "id": "iilo7GWMreny",
        "outputId": "d70bebef-1ea0-40fc-99d6-7802b805e5fd"
      },
      "execution_count": 387,
      "outputs": [
        {
          "output_type": "stream",
          "name": "stdout",
          "text": [
            "+-------+---------+-----+----------------+----------------+----------------+----------------+------------------+------------------+------------------+------------------+------------------+------------------+------------------+------------------+-------------------+-------------------+-------------------+-------------------+----------------+----------------+----------------+----------------+-----------------+----------------+-------------------+----------------+----------------+------------------+-----------------+------------------+-----------------+------+------+------+------+------+------+------+-------+-------+--------+--------+--------+---------+----------------+-----------------+----------------+----------------+----------------+---------------------+-------+--------+----------+---------+----------+--------+----------+------------+-------------+\n",
            "|SITE_ID|SITE_IGBP|month|        TA_F_avg|       VPD_F_avg|         P_F_avg|      NETRAD_avg|   NEE_VUT_REF_avg|NEE_VUT_REF_QC_avg|   NEE_CUT_REF_avg|NEE_CUT_REF_QC_avg|GPP_NT_VUT_REF_avg|GPP_DT_VUT_REF_avg|GPP_NT_CUT_REF_avg|GPP_DT_CUT_REF_avg|RECO_NT_VUT_REF_avg|RECO_DT_VUT_REF_avg|RECO_NT_CUT_REF_avg|RECO_DT_CUT_REF_avg|          ET_avg|    BESS_PAR_avg|BESS_PARdiff_avg|   BESS_RSDN_avg|CSIF_SIFdaily_avg|CSIF_SIFinst_avg|            PET_avg|          Ts_avg|       Tmean_avg|          prcp_avg|          vpd_avg|     prcp_lag3_avg|    ESACCI_sm_avg|b1_avg|b2_avg|b3_avg|b4_avg|b5_avg|b6_avg|b7_avg|EVI_avg|GCI_avg|NDVI_avg|NDWI_avg|NIRv_avg|kNDVI_avg|Percent_Snow_avg|         Fpar_avg|         Lai_avg|     LST_Day_avg|   LST_Night_avg|CO2_concentration_avg|dataset|MODIS_LC|MODIS_IGBP|MODIS_PFT|koppen_sub|  koppen|hemisphere|LOCATION_LAT|LOCATION_LONG|\n",
            "+-------+---------+-----+----------------+----------------+----------------+----------------+------------------+------------------+------------------+------------------+------------------+------------------+------------------+------------------+-------------------+-------------------+-------------------+-------------------+----------------+----------------+----------------+----------------+-----------------+----------------+-------------------+----------------+----------------+------------------+-----------------+------------------+-----------------+------+------+------+------+------+------+------+-------+-------+--------+--------+--------+---------+----------------+-----------------+----------------+----------------+----------------+---------------------+-------+--------+----------+---------+----------+--------+----------+------------+-------------+\n",
            "| BR-Sa1|      EBF|    2|         24.5932|          3.2596|         11.6638|   103.916001935|          0.752247|         0.9046388|          0.665946|         0.9064244|          9.152898|          9.985802|          9.121394|          9.503096|           9.918792|           11.67512|           9.812914|           10.79084|       9.1968518|            97.2|            66.0|           185.2|      0.436322878|     1.284513312|      -0.0079961852|      298.333916|       298.36571|      0.0159094596|      0.476067162|      0.0364197696|      0.357065588|  null|  null|  null|  null|  null|  null|  null|   null|   null|    null|    null|    null|     null|             0.0|            0.722|            3.98|          299.02|         294.752|              379.342|FLUXNET|       2|       EBF|      EBF|        Am|Tropical|         S|    -2.85667|    -54.95889|\n",
            "| BR-Sa1|      EBF|    3|          24.663|          3.4598|           9.847|   112.197708785|         0.7480388|         0.8862902|        0.65718296|         0.8844088|          9.219016|         10.418144|          9.020962|           9.74782|            9.94018|          12.226194|            9.61147|          11.224752|        9.291345|            99.0|            63.8|           190.6|      0.464558814|      1.36629682|       -0.007662013|      298.400694|      298.449634|      0.0167185276|       0.47860039|      0.0447365062|       0.36418543|  null|  null|  null|  null|  null|  null|  null|   null|   null|    null|    null|    null|     null|             0.0|            0.748|            4.38|         299.528|         294.912|              379.848|FLUXNET|       2|       EBF|      EBF|        Am|Tropical|         S|    -2.85667|    -54.95889|\n",
            "| BR-Sa1|      EBF|    4|        24.91125|           3.371|        10.52575|     116.1915743|        0.66139175|        0.93298625|        0.60177625|        0.93090275|         8.6765175|         9.7988725|         8.6270375|          9.575445|          9.3192325|         11.0331325|            9.25605|           10.78305|        8.915563|            98.0|           59.25|          188.75|     0.4144168875|     1.204944425|     -0.00649889825|     298.3763025|     298.4726825|     0.01875316925|     0.4250128725|       0.047241778|     0.3721353625|  null|  null|  null|  null|  null|  null|  null|   null|   null|    null|    null|    null|     null|             0.0|           0.7475|            4.35|          298.24|          294.77|             381.7325|FLUXNET|       2|       EBF|      EBF|        Am|Tropical|         S|    -2.85667|    -54.95889|\n",
            "| BR-Sa1|      EBF|   11|         26.8992|          7.6816|           5.052|137.051523366667|        -1.3091478|         0.8869444|        -1.2806046|          0.878611|          9.841522|          10.21034|          9.394126|         10.582654|            8.69175|          10.312484|            8.05509|          10.413654|      11.3477482|            96.0|            50.8|           198.6|      0.463914644|      1.29419548|      -0.0121751948|      300.822084|      300.636158|      0.0050468194|      0.903766922|      0.0126276786|      0.258217536|  null|  null|  null|  null|  null|  null|  null|   null|   null|    null|    null|    null|     null|             0.0|            0.788|             5.0|         301.524|         295.484|              377.088|FLUXNET|       2|       EBF|      EBF|        Am|Tropical|         S|    -2.85667|    -54.95889|\n",
            "| BR-Sa1|      EBF|   12|26.0522857142857|6.17171428571429|7.34928571428571|112.872759405714|-0.393712428571429| 0.920506857142857|         -0.320412| 0.915514714285714|  9.64429142857143|  10.0376671428571|  9.59727428571429|  9.64926285714286|   9.34510714285714|   10.2804628571429|   9.10579428571429|   10.0704314285714|10.5380442142857|94.5714285714286|55.5714285714286|187.428571428571|0.438690488571429|1.24734255714286|-0.0101647228571429|299.734795714286|299.651765714286|0.0092598214285714|0.711870374285714|0.0183790024285714|0.285550201428571|  null|  null|  null|  null|  null|  null|  null|   null|   null|    null|    null|    null|     null|             0.0|0.792857142857143|4.94285714285714|300.765714285714|295.497142857143|              380.585|FLUXNET|       2|       EBF|      EBF|        Am|Tropical|         S|    -2.85667|    -54.95889|\n",
            "| BR-Sa3|      EBF|    1|25.0426666666667|           8.106|5.74533333333333|109.134329853333|-0.398124333333333| 0.934587666666667|-0.435013666666667| 0.935931666666667|  8.48076333333333|  10.0659466666667|           8.44135|  10.2428766666667|   8.04271666666667|            11.3558|   8.09660666666667|            11.4665|        8.556116|96.6666666666667|            61.0|           187.0|0.383164126666667|      1.11340111|-0.0063834043333333|298.760286666667|       298.66215|0.0109330623333333|0.581504056666667|       0.020362048|0.327775556666667|  null|   0.0|  null|  null|  null|  null|  null|   null|   null|    null|    null|    null|     null|             0.0|0.736666666666667|             4.2|298.313333333333|295.206666666667|               371.41|FLUXNET|       2|       EBF|      EBF|        Am|Tropical|         S|    -3.01803|    -54.97144|\n",
            "| BR-Sa3|      EBF|    2|        24.65125|         7.48475|          7.5375|106.950809466667|           0.20834|        0.94233625|          0.169485|         0.9432535|         9.2071425|          10.32765|         9.2874725|        10.2942625|          9.4159425|          11.838325|          9.5240775|            11.8167|        8.274622|           101.0|           66.25|          193.25|     0.4229104975|     1.244580015|     -0.00567118825|      298.332155|      298.215265|      0.0131925825|      0.472393435|     0.03018732275|     0.3403658775|  null|   0.0|  null|  null|  null|  null|  null|   null|   null|    null|    null|    null|     null|             0.0|            0.745|           4.525|         298.685|         294.865|            372.80875|FLUXNET|       2|       EBF|      EBF|        Am|Tropical|         S|    -3.01803|    -54.97144|\n",
            "| BR-Sa3|      EBF|    3|          24.728|6.69366666666667|5.91066666666667|      111.814632|          0.472336| 0.988575333333333| 0.337930066666667| 0.988575333333333|  9.41352333333333|           10.7614|  9.42615666666667|  10.5019666666667|   9.94390333333333|   12.0358666666667|   9.93540333333333|   12.4301333333333|8.51926766666667|           101.0|64.6666666666667|193.666666666667|0.424061546666667|      1.24682568|-0.0056861663333333|298.414683333333|298.309043333333|0.0122179656666667|0.491019646666667|0.0363624646666667|0.345974316666667|  null|   0.0|  null|  null|  null|  null|  null|   null|   null|    null|    null|    null|     null|             0.0|0.763333333333333|4.66666666666667|299.046666666667|          294.86|               372.18|FLUXNET|       2|       EBF|      EBF|        Am|Tropical|         S|    -3.01803|    -54.97144|\n",
            "| BR-Sa3|      EBF|    4|         24.6335|          5.6485|           7.952|     120.3635711|         0.4114185|         0.9725695|         0.5914874|          0.973264|          9.330805|          9.178355|           9.26708|          8.861205|            9.71764|           9.216645|            9.76509|           9.457295|       8.6502985|            97.5|            58.0|           189.0|       0.42986619|      1.24997345|      -0.0050853675|      298.505635|      298.438615|       0.013383899|       0.44126245|      0.0388952085|        0.3575286|  null|  null|  null|  null|  null|  null|  null|   null|   null|    null|    null|    null|     null|             0.0|             0.79|            5.25|          297.75|          294.02|              373.845|FLUXNET|       2|       EBF|      EBF|        Am|Tropical|         S|    -3.01803|    -54.97144|\n",
            "| BR-Sa3|      EBF|   11|           26.02|           8.127|           3.234|     119.0993865|         -0.905984|           0.99375|          -1.00822|          0.994444|           8.44961|           10.5931|           8.44073|           10.5627|            7.55947|            11.2076|            7.55947|            10.2874|        11.36252|            96.0|            52.0|           195.0|       0.45063403|       1.2562166|       -0.006906278|       299.91623|       299.77252|       0.004799206|        0.6671918|       0.014753038|       0.32659754|  null|  null|  null|  null|  null|  null|  null|   null|   null|    null|    null|    null|     null|             0.0|             0.77|             4.6|          301.42|          294.62|              374.555|FLUXNET|       2|       EBF|      EBF|        Am|Tropical|         S|    -3.01803|    -54.97144|\n",
            "| BR-Sa3|      EBF|   12|          26.953|          11.786|           1.814|     124.2206446|        -0.4648364|          0.935484|        -0.4830845|          0.935484|           7.55138|          9.940925|          7.552585|          10.15451|            7.09759|            11.3655|           7.022155|           11.00485|       11.371528|            90.5|            56.5|           178.5|       0.42505756|       1.2077952|      -0.0077537595|      300.347335|       299.97152|      0.0058658995|       0.77426143|       0.011982961|      0.286874325|  null|  null|  null|  null|  null|  null|  null|   null|   null|    null|    null|    null|     null|             0.0|            0.795|             4.6|          300.51|          295.54|             371.8375|FLUXNET|       2|       EBF|      EBF|        Am|Tropical|         S|    -3.01803|    -54.97144|\n",
            "| CG-Tch|      SAV|    1|          25.077|           3.692|           4.165|     78.78630262|         -0.963938|          0.998656|         -0.975739|          0.999328|           5.06675|           5.96233|            5.0592|           5.92682|             4.1019|            5.40483|            4.08881|            5.36315|        7.604372|            87.0|            56.0|           171.0|       0.19039673|       0.5502555|       -0.004625119|       299.09644|       298.51752|        0.00619193|       0.41994953|       0.023520436|       0.26890516|  null|  null|  null|  null|  null|  null|  null|   null|   null|    null|    null|    null|     null|             0.0|             0.48|             1.4|          306.06|          293.96|              383.875|FLUXNET|       9|       SAV|       SA|        Aw|Tropical|         S|    -4.28917|     11.65642|\n",
            "| CG-Tch|      SAV|    3|           26.28|            6.01|           3.621|     109.3945466|        -0.0436207|          0.981855|        -0.0801859|          0.984543|           3.78114|           4.57745|           3.77755|           4.56805|            3.73638|            4.64678|            3.72375|            4.61246|         8.24458|           103.0|            58.0|           205.0|       0.14162406|       0.4155562|       -0.005217791|       299.92426|       299.34476|       0.004573783|        0.4780943|       0.015857635|       0.27549294|  null|  null|  null|  null|  null|  null|  null|   null|   null|    null|    null|    null|     null|             0.0|             0.42|             1.4|          313.86|           295.7|               384.18|FLUXNET|       9|       SAV|       SA|        Aw|Tropical|         S|    -4.28917|     11.65642|\n",
            "| CG-Tch|      SAV|    4|          26.005|            4.86|          6.5105|    102.04518632|        -1.0754925|          0.979167|         -1.125561|         0.9847225|          6.802165|          7.330865|            6.7953|          7.414985|            5.68705|           6.261805|            5.67086|            6.31742|      7.47345735|            99.5|            54.5|           197.0|      0.199507955|      0.58027448|      -0.0046831745|      299.812565|       299.21895|       0.007024879|       0.42578727|       0.019179416|      0.268158255|  null|  null|  null|  null|  null|  null|  null|   null|   null|    null|    null|    null|     null|             0.0|            0.465|             1.4|          308.58|           295.1|              385.765|FLUXNET|       9|       SAV|       SA|        Aw|Tropical|         S|    -4.28917|     11.65642|\n",
            "| CG-Tch|      SAV|    5|         25.5655|          4.2385|          2.9815|     86.02576361|        -1.3328545|          0.997984|        -1.3341645|          0.997984|           6.39821|           6.83499|           6.40157|           6.83654|            5.05893|           5.533085|            5.04062|           5.484145|       6.5868522|            81.5|            46.0|           165.0|      0.209910165|      0.60990241|       -0.004423976|       299.39235|       298.79334|      0.0037210465|       0.40517684|      0.0161392565|       0.25663471|  null|  null|  null|  null|  null|  null|  null|   null|   null|    null|    null|    null|     null|             0.0|             0.47|             1.4|          305.59|          291.51|             386.3275|FLUXNET|       9|       SAV|       SA|        Aw|Tropical|         S|    -4.28917|     11.65642|\n",
            "| CG-Tch|      SAV|    6|         22.6295|          3.4925|          0.1385|     58.27694692|          -0.60437|          0.999653|        -0.6014295|          0.999653|           3.06881|           3.40794|            3.0739|           3.37129|           2.468855|            2.85687|           2.475915|            2.87977|       4.7603765|            58.0|            38.0|           121.5|      0.165442535|     0.485369425|       -0.003636863|      296.534455|      295.976135|       4.381175E-4|      0.354927435|       0.011184042|      0.162718075|  null|  null|  null|  null|  null|  null|  null|   null|   null|    null|    null|    null|     null|             0.0|            0.395|             0.9|          303.61|          291.33|             386.1425|FLUXNET|       9|       SAV|       SA|        Aw|Tropical|         S|    -4.28917|     11.65642|\n",
            "| CG-Tch|      SAV|    7|         21.7145|          3.8575|          0.0655|    48.054493155|          0.513693|          0.972446|        0.50825325|        0.97379025|        0.67838425|          0.986819|        0.66525925|          1.083918|         1.18767325|           1.433455|         1.17500375|          1.4828725|       4.8133691|           60.75|           38.75|           131.0|       0.04896109|   0.14500660125|       -0.003897473|       296.06148|      295.158005|      4.0413775E-4|      0.394222655|     0.00419324425|     0.1609908525|  null|  null|  null|  null|  null|  null|  null|   null|   null|    null|    null|    null|     null|             0.0|            0.225|           0.525|         307.305|          290.12|               383.67|FLUXNET|       9|       SAV|       SA|        Aw|Tropical|         S|    -4.28917|     11.65642|\n",
            "| CG-Tch|      SAV|    8|         21.9225|         3.62775|          0.1555|    44.857874095|         0.3781545|          0.997816|         0.3772525|          0.997816|        0.62707825|        0.83106625|        0.62225275|         0.8530855|           1.003344|          1.1753515|           0.996611|           1.260776|     4.272573825|           56.25|            39.5|          119.75|    0.01555125125|      0.04566756|     -0.00397380425|     296.6664825|       295.47047|      4.9462525E-4|     0.3937289475|      0.0014240775|     0.1737774275|  null|  null|  null|  null|  null|  null|  null|   null|   null|    null|    null|    null|     null|             0.0|           0.1975|            0.45|         311.345|         290.145|               382.87|FLUXNET|       9|       SAV|       SA|        Aw|Tropical|         S|    -4.28917|     11.65642|\n",
            "| CG-Tch|      SAV|    9|        22.91025|         3.50825|          0.4975|     48.48534288|         0.4071315|        0.98246525|          0.406676|        0.98385425|         0.5465985|        0.97330425|        0.54189675|        1.01369825|          0.9468435|         1.61204025|         0.94477025|           1.653265|     3.899200375|           59.75|            46.0|          120.75|     0.0098225195|   0.02812026625|     -0.00449258275|     298.0047025|     296.8279225|      8.1112075E-4|      0.465119995|     0.00170988375|     0.2349155925|  null|  null|  null|  null|  null|  null|  null|   null|   null|    null|    null|    null|     null|             0.0|            0.185|             0.4|          315.61|          290.58|              382.395|FLUXNET|       9|       SAV|       SA|        Aw|Tropical|         S|    -4.28917|     11.65642|\n",
            "| CG-Tch|      SAV|   10|         24.2965|         3.42375|         7.23125|   63.0653951625|         0.2887092|           0.96707|      0.2852325575|           0.96707|          1.849448|          2.248791|          1.860231|         2.2396885|           2.141815|          2.7671975|          2.1432625|           2.761705|       4.6409494|            66.5|           50.25|           127.5|      0.030229167|    0.0840448425|     -0.00518613475|       299.02821|      298.227245|     0.00332506575|      0.532291735|      0.0046308115|     0.2830667575|  null|  null|  null|  null|  null|  null|  null|   null|   null|    null|    null|    null|     null|             0.0|           0.2175|           0.525|         302.305|         293.045|            382.45875|FLUXNET|       9|       SAV|       SA|        Aw|Tropical|         S|    -4.28917|     11.65642|\n",
            "+-------+---------+-----+----------------+----------------+----------------+----------------+------------------+------------------+------------------+------------------+------------------+------------------+------------------+------------------+-------------------+-------------------+-------------------+-------------------+----------------+----------------+----------------+----------------+-----------------+----------------+-------------------+----------------+----------------+------------------+-----------------+------------------+-----------------+------+------+------+------+------+------+------+-------+-------+--------+--------+--------+---------+----------------+-----------------+----------------+----------------+----------------+---------------------+-------+--------+----------+---------+----------+--------+----------+------------+-------------+\n",
            "only showing top 20 rows\n",
            "\n"
          ]
        }
      ]
    },
    {
      "cell_type": "code",
      "source": [
        "static_monthly_sdf.filter(static_monthly_sdf.b1_avg.isNull()).groupBy(\"SITE_ID\").count().show()"
      ],
      "metadata": {
        "colab": {
          "base_uri": "https://localhost:8080/"
        },
        "id": "ne6UqfvKreny",
        "outputId": "0bdaf4f0-e1c1-4aa2-8bcf-09f2cbd227c9"
      },
      "execution_count": 388,
      "outputs": [
        {
          "output_type": "stream",
          "name": "stdout",
          "text": [
            "+-------+-----+\n",
            "|SITE_ID|count|\n",
            "+-------+-----+\n",
            "| CN-Cha|    1|\n",
            "| SE-Svb|    1|\n",
            "| BR-Sa3|    6|\n",
            "| SE-Ros|    2|\n",
            "| PA-SPn|    5|\n",
            "| US-Ivo|    3|\n",
            "| CG-Tch|   11|\n",
            "| SE-Deg|    1|\n",
            "| SE-Lnn|    1|\n",
            "| FI-Var|    3|\n",
            "| GH-Ank|    8|\n",
            "| SJ-Adv|    2|\n",
            "| US-UMB|    1|\n",
            "| FI-Qvd|    1|\n",
            "| US-UMd|    1|\n",
            "| CH-Aws|    3|\n",
            "| CN-Din|    1|\n",
            "| US-Syv|    2|\n",
            "| FI-Lom|    3|\n",
            "| US-Atq|    3|\n",
            "+-------+-----+\n",
            "only showing top 20 rows\n",
            "\n"
          ]
        }
      ]
    },
    {
      "cell_type": "code",
      "source": [
        "static_monthly_sdf.filter(static_monthly_sdf.b2_avg.isNull()).groupBy(\"SITE_ID\").count().show()"
      ],
      "metadata": {
        "colab": {
          "base_uri": "https://localhost:8080/"
        },
        "id": "8WVo2RUk9J0k",
        "outputId": "033b0cb0-fbc8-4448-fc6e-2b94e864412b"
      },
      "execution_count": 389,
      "outputs": [
        {
          "output_type": "stream",
          "name": "stdout",
          "text": [
            "+-------+-----+\n",
            "|SITE_ID|count|\n",
            "+-------+-----+\n",
            "| CN-Cha|    1|\n",
            "| SE-Svb|    1|\n",
            "| BR-Sa3|    3|\n",
            "| SE-Ros|    2|\n",
            "| PA-SPn|    5|\n",
            "| US-Ivo|    3|\n",
            "| CG-Tch|   11|\n",
            "| SE-Deg|    1|\n",
            "| SE-Lnn|    1|\n",
            "| FI-Var|    3|\n",
            "| GH-Ank|    8|\n",
            "| SJ-Adv|    2|\n",
            "| US-UMB|    1|\n",
            "| FI-Qvd|    1|\n",
            "| US-UMd|    1|\n",
            "| CH-Aws|    3|\n",
            "| CN-Din|    1|\n",
            "| US-Syv|    2|\n",
            "| FI-Lom|    3|\n",
            "| US-Atq|    3|\n",
            "+-------+-----+\n",
            "only showing top 20 rows\n",
            "\n"
          ]
        }
      ]
    },
    {
      "cell_type": "markdown",
      "source": [
        "### Impute with average across sites"
      ],
      "metadata": {
        "id": "TTr_MA2y-lwN"
      }
    },
    {
      "cell_type": "code",
      "source": [
        "static_monthly_sdf = static_monthly_sdf.fillna(value = static_monthly_sdf\n",
        "    .select(mean('b1_avg')).head()[0],subset = ['b1_avg'])\n",
        "\n",
        "static_monthly_sdf = static_monthly_sdf.fillna(value = static_monthly_sdf\n",
        "    .select(mean('b2_avg')).head()[0],subset = ['b2_avg'])\n",
        "\n",
        "static_monthly_sdf = static_monthly_sdf.fillna(value = static_monthly_sdf\n",
        "    .select(mean('b3_avg')).head()[0],subset = ['b3_avg'])\n",
        "\n",
        "static_monthly_sdf = static_monthly_sdf.fillna(value = static_monthly_sdf\n",
        "    .select(mean('b4_avg')).head()[0],subset = ['b4_avg'])\n",
        "\n",
        "static_monthly_sdf = static_monthly_sdf.fillna(value = static_monthly_sdf\n",
        "    .select(mean('b5_avg')).head()[0],subset = ['b5_avg'])\n",
        "\n",
        "static_monthly_sdf = static_monthly_sdf.fillna(value = static_monthly_sdf\n",
        "    .select(mean('b6_avg')).head()[0],subset = ['b6_avg'])\n",
        "\n",
        "static_monthly_sdf = static_monthly_sdf.fillna(value = static_monthly_sdf\n",
        "    .select(mean('b7_avg')).head()[0],subset = ['b7_avg'])"
      ],
      "metadata": {
        "id": "do8wKO3M-ktb"
      },
      "execution_count": 390,
      "outputs": []
    },
    {
      "cell_type": "code",
      "source": [
        "static_monthly_sdf.filter(static_monthly_sdf.SITE_ID == 'CG-Tch').show()"
      ],
      "metadata": {
        "colab": {
          "base_uri": "https://localhost:8080/"
        },
        "id": "BWtbLJMs-kpf",
        "outputId": "e51f9a23-6e1b-4f85-88b6-621383ca64f2"
      },
      "execution_count": 391,
      "outputs": [
        {
          "output_type": "stream",
          "name": "stdout",
          "text": [
            "+-------+---------+-----+----------------+----------------+----------------+----------------+-----------------+------------------+-----------------+------------------+------------------+------------------+------------------+------------------+-------------------+-------------------+-------------------+-------------------+----------------+----------------+----------------+----------------+-----------------+-----------------+-------------------+----------------+----------------+-------------+-----------------+-------------+-------------+-------------------+------------------+-------------------+-------------------+------------------+-------------------+-------------------+-------+-------+--------+--------+--------+---------+----------------+-----------------+----------------+-----------+----------------+---------------------+-------+--------+----------+---------+----------+--------+----------+------------+-------------+\n",
            "|SITE_ID|SITE_IGBP|month|        TA_F_avg|       VPD_F_avg|         P_F_avg|      NETRAD_avg|  NEE_VUT_REF_avg|NEE_VUT_REF_QC_avg|  NEE_CUT_REF_avg|NEE_CUT_REF_QC_avg|GPP_NT_VUT_REF_avg|GPP_DT_VUT_REF_avg|GPP_NT_CUT_REF_avg|GPP_DT_CUT_REF_avg|RECO_NT_VUT_REF_avg|RECO_DT_VUT_REF_avg|RECO_NT_CUT_REF_avg|RECO_DT_CUT_REF_avg|          ET_avg|    BESS_PAR_avg|BESS_PARdiff_avg|   BESS_RSDN_avg|CSIF_SIFdaily_avg| CSIF_SIFinst_avg|            PET_avg|          Ts_avg|       Tmean_avg|     prcp_avg|          vpd_avg|prcp_lag3_avg|ESACCI_sm_avg|             b1_avg|            b2_avg|             b3_avg|             b4_avg|            b5_avg|             b6_avg|             b7_avg|EVI_avg|GCI_avg|NDVI_avg|NDWI_avg|NIRv_avg|kNDVI_avg|Percent_Snow_avg|         Fpar_avg|         Lai_avg|LST_Day_avg|   LST_Night_avg|CO2_concentration_avg|dataset|MODIS_LC|MODIS_IGBP|MODIS_PFT|koppen_sub|  koppen|hemisphere|LOCATION_LAT|LOCATION_LONG|\n",
            "+-------+---------+-----+----------------+----------------+----------------+----------------+-----------------+------------------+-----------------+------------------+------------------+------------------+------------------+------------------+-------------------+-------------------+-------------------+-------------------+----------------+----------------+----------------+----------------+-----------------+-----------------+-------------------+----------------+----------------+-------------+-----------------+-------------+-------------+-------------------+------------------+-------------------+-------------------+------------------+-------------------+-------------------+-------+-------+--------+--------+--------+---------+----------------+-----------------+----------------+-----------+----------------+---------------------+-------+--------+----------+---------+----------+--------+----------+------------+-------------+\n",
            "| CG-Tch|      SAV|    1|          25.077|           3.692|           4.165|     78.78630262|        -0.963938|          0.998656|        -0.975739|          0.999328|           5.06675|           5.96233|            5.0592|           5.92682|             4.1019|            5.40483|            4.08881|            5.36315|        7.604372|            87.0|            56.0|           171.0|       0.19039673|        0.5502555|       -0.004625119|       299.09644|       298.51752|   0.00619193|       0.41994953|  0.023520436|   0.26890516|0.09415284708073625|0.2481577327087127|0.06318375328940291|0.09032578663909083|0.2549171339270624|0.18840978986846046|0.11144319859565201|   null|   null|    null|    null|    null|     null|             0.0|             0.48|             1.4|     306.06|          293.96|              383.875|FLUXNET|       9|       SAV|       SA|        Aw|Tropical|         S|    -4.28917|     11.65642|\n",
            "| CG-Tch|      SAV|    3|           26.28|            6.01|           3.621|     109.3945466|       -0.0436207|          0.981855|       -0.0801859|          0.984543|           3.78114|           4.57745|           3.77755|           4.56805|            3.73638|            4.64678|            3.72375|            4.61246|         8.24458|           103.0|            58.0|           205.0|       0.14162406|        0.4155562|       -0.005217791|       299.92426|       299.34476|  0.004573783|        0.4780943|  0.015857635|   0.27549294|0.09415284708073625|0.2481577327087127|0.06318375328940291|0.09032578663909083|0.2549171339270624|0.18840978986846046|0.11144319859565201|   null|   null|    null|    null|    null|     null|             0.0|             0.42|             1.4|     313.86|           295.7|               384.18|FLUXNET|       9|       SAV|       SA|        Aw|Tropical|         S|    -4.28917|     11.65642|\n",
            "| CG-Tch|      SAV|    4|          26.005|            4.86|          6.5105|    102.04518632|       -1.0754925|          0.979167|        -1.125561|         0.9847225|          6.802165|          7.330865|            6.7953|          7.414985|            5.68705|           6.261805|            5.67086|            6.31742|      7.47345735|            99.5|            54.5|           197.0|      0.199507955|       0.58027448|      -0.0046831745|      299.812565|       299.21895|  0.007024879|       0.42578727|  0.019179416|  0.268158255|0.09415284708073625|0.2481577327087127|0.06318375328940291|0.09032578663909083|0.2549171339270624|0.18840978986846046|0.11144319859565201|   null|   null|    null|    null|    null|     null|             0.0|            0.465|             1.4|     308.58|           295.1|              385.765|FLUXNET|       9|       SAV|       SA|        Aw|Tropical|         S|    -4.28917|     11.65642|\n",
            "| CG-Tch|      SAV|    5|         25.5655|          4.2385|          2.9815|     86.02576361|       -1.3328545|          0.997984|       -1.3341645|          0.997984|           6.39821|           6.83499|           6.40157|           6.83654|            5.05893|           5.533085|            5.04062|           5.484145|       6.5868522|            81.5|            46.0|           165.0|      0.209910165|       0.60990241|       -0.004423976|       299.39235|       298.79334| 0.0037210465|       0.40517684| 0.0161392565|   0.25663471|0.09415284708073625|0.2481577327087127|0.06318375328940291|0.09032578663909083|0.2549171339270624|0.18840978986846046|0.11144319859565201|   null|   null|    null|    null|    null|     null|             0.0|             0.47|             1.4|     305.59|          291.51|             386.3275|FLUXNET|       9|       SAV|       SA|        Aw|Tropical|         S|    -4.28917|     11.65642|\n",
            "| CG-Tch|      SAV|    6|         22.6295|          3.4925|          0.1385|     58.27694692|         -0.60437|          0.999653|       -0.6014295|          0.999653|           3.06881|           3.40794|            3.0739|           3.37129|           2.468855|            2.85687|           2.475915|            2.87977|       4.7603765|            58.0|            38.0|           121.5|      0.165442535|      0.485369425|       -0.003636863|      296.534455|      295.976135|  4.381175E-4|      0.354927435|  0.011184042|  0.162718075|0.09415284708073625|0.2481577327087127|0.06318375328940291|0.09032578663909083|0.2549171339270624|0.18840978986846046|0.11144319859565201|   null|   null|    null|    null|    null|     null|             0.0|            0.395|             0.9|     303.61|          291.33|             386.1425|FLUXNET|       9|       SAV|       SA|        Aw|Tropical|         S|    -4.28917|     11.65642|\n",
            "| CG-Tch|      SAV|    7|         21.7145|          3.8575|          0.0655|    48.054493155|         0.513693|          0.972446|       0.50825325|        0.97379025|        0.67838425|          0.986819|        0.66525925|          1.083918|         1.18767325|           1.433455|         1.17500375|          1.4828725|       4.8133691|           60.75|           38.75|           131.0|       0.04896109|    0.14500660125|       -0.003897473|       296.06148|      295.158005| 4.0413775E-4|      0.394222655|0.00419324425| 0.1609908525|0.09415284708073625|0.2481577327087127|0.06318375328940291|0.09032578663909083|0.2549171339270624|0.18840978986846046|0.11144319859565201|   null|   null|    null|    null|    null|     null|             0.0|            0.225|           0.525|    307.305|          290.12|               383.67|FLUXNET|       9|       SAV|       SA|        Aw|Tropical|         S|    -4.28917|     11.65642|\n",
            "| CG-Tch|      SAV|    8|         21.9225|         3.62775|          0.1555|    44.857874095|        0.3781545|          0.997816|        0.3772525|          0.997816|        0.62707825|        0.83106625|        0.62225275|         0.8530855|           1.003344|          1.1753515|           0.996611|           1.260776|     4.272573825|           56.25|            39.5|          119.75|    0.01555125125|       0.04566756|     -0.00397380425|     296.6664825|       295.47047| 4.9462525E-4|     0.3937289475| 0.0014240775| 0.1737774275|0.09415284708073625|0.2481577327087127|0.06318375328940291|0.09032578663909083|0.2549171339270624|0.18840978986846046|0.11144319859565201|   null|   null|    null|    null|    null|     null|             0.0|           0.1975|            0.45|    311.345|         290.145|               382.87|FLUXNET|       9|       SAV|       SA|        Aw|Tropical|         S|    -4.28917|     11.65642|\n",
            "| CG-Tch|      SAV|    9|        22.91025|         3.50825|          0.4975|     48.48534288|        0.4071315|        0.98246525|         0.406676|        0.98385425|         0.5465985|        0.97330425|        0.54189675|        1.01369825|          0.9468435|         1.61204025|         0.94477025|           1.653265|     3.899200375|           59.75|            46.0|          120.75|     0.0098225195|    0.02812026625|     -0.00449258275|     298.0047025|     296.8279225| 8.1112075E-4|      0.465119995|0.00170988375| 0.2349155925|0.09415284708073625|0.2481577327087127|0.06318375328940291|0.09032578663909083|0.2549171339270624|0.18840978986846046|0.11144319859565201|   null|   null|    null|    null|    null|     null|             0.0|            0.185|             0.4|     315.61|          290.58|              382.395|FLUXNET|       9|       SAV|       SA|        Aw|Tropical|         S|    -4.28917|     11.65642|\n",
            "| CG-Tch|      SAV|   10|         24.2965|         3.42375|         7.23125|   63.0653951625|        0.2887092|           0.96707|     0.2852325575|           0.96707|          1.849448|          2.248791|          1.860231|         2.2396885|           2.141815|          2.7671975|          2.1432625|           2.761705|       4.6409494|            66.5|           50.25|           127.5|      0.030229167|     0.0840448425|     -0.00518613475|       299.02821|      298.227245|0.00332506575|      0.532291735| 0.0046308115| 0.2830667575|0.09415284708073625|0.2481577327087127|0.06318375328940291|0.09032578663909083|0.2549171339270624|0.18840978986846046|0.11144319859565201|   null|   null|    null|    null|    null|     null|             0.0|           0.2175|           0.525|    302.305|         293.045|            382.45875|FLUXNET|       9|       SAV|       SA|        Aw|Tropical|         S|    -4.28917|     11.65642|\n",
            "| CG-Tch|      SAV|   11|          24.773|3.44966666666667|          12.598|84.4698082766667|        -1.144035| 0.932407333333333|        -1.149898| 0.935185333333333|  5.11813333333333|           5.77444|  5.13784333333333|  5.78285333333333|   3.96842666666667|            4.83468|   3.97716333333333|   4.89800666666667|6.29312376666667|89.3333333333333|56.3333333333333|173.333333333333|0.134091233333333|       0.37218675|       -0.004504795|298.843713333333|298.318486666667|  0.011564004|0.410595386666667|  0.016069377|   0.25752813|0.09415284708073625|0.2481577327087127|0.06318375328940291|0.09032578663909083|0.2549171339270624|0.18840978986846046|0.11144319859565201|   null|   null|    null|    null|    null|     null|             0.0|0.426666666666667|1.36666666666667|      304.0|292.993333333333|     382.748333333333|FLUXNET|       9|       SAV|       SA|        Aw|Tropical|         S|    -4.28917|     11.65642|\n",
            "| CG-Tch|      SAV|   12|24.9516666666667|3.45466666666667|8.32766666666667|     77.83825157|-1.75918333333333| 0.977822666666667|-1.75823333333333| 0.978046666666667|  6.49100333333333|  7.23713666666667|  6.57951666666667|           7.23996|   4.75229333333333|   5.82915666666667|            4.80951|   5.85355333333333|7.24527806666667|82.6666666666667|54.3333333333333|162.333333333333|       0.21790926|0.615803313333333|-0.0042544256666666|298.847623333333|       298.32732|  0.008036378|0.377198766666667|  0.023245562|   0.27133414|0.09415284708073625|0.2481577327087127|0.06318375328940291|0.09032578663909083|0.2549171339270624|0.18840978986846046|0.11144319859565201|   null|   null|    null|    null|    null|     null|             0.0|             0.53|             1.9|     301.06|294.033333333333|     383.498333333333|FLUXNET|       9|       SAV|       SA|        Aw|Tropical|         S|    -4.28917|     11.65642|\n",
            "+-------+---------+-----+----------------+----------------+----------------+----------------+-----------------+------------------+-----------------+------------------+------------------+------------------+------------------+------------------+-------------------+-------------------+-------------------+-------------------+----------------+----------------+----------------+----------------+-----------------+-----------------+-------------------+----------------+----------------+-------------+-----------------+-------------+-------------+-------------------+------------------+-------------------+-------------------+------------------+-------------------+-------------------+-------+-------+--------+--------+--------+---------+----------------+-----------------+----------------+-----------+----------------+---------------------+-------+--------+----------+---------+----------+--------+----------+------------+-------------+\n",
            "\n"
          ]
        }
      ]
    },
    {
      "cell_type": "markdown",
      "source": [
        "## `EVI_avg`\n"
      ],
      "metadata": {
        "id": "bIQrpvQJresu"
      }
    },
    {
      "cell_type": "code",
      "source": [
        "static_monthly_sdf.filter(static_monthly_sdf.EVI_avg.isNull()).show()"
      ],
      "metadata": {
        "colab": {
          "base_uri": "https://localhost:8080/"
        },
        "id": "Fmolv2v4resv",
        "outputId": "f2154d74-d18b-4d37-a42d-3c4b573caec1"
      },
      "execution_count": 392,
      "outputs": [
        {
          "output_type": "stream",
          "name": "stdout",
          "text": [
            "+-------+---------+-----+----------------+----------------+----------------+----------------+------------------+------------------+------------------+------------------+------------------+------------------+------------------+------------------+-------------------+-------------------+-------------------+-------------------+----------------+----------------+----------------+----------------+-----------------+----------------+-------------------+----------------+----------------+------------------+-----------------+------------------+-----------------+-------------------+------------------+-------------------+-------------------+------------------+-------------------+-------------------+-------+---------+---------+----------+----------+----------+----------------+-----------------+----------------+----------------+----------------+---------------------+-------+--------+----------+---------+----------+---------+----------+------------+-------------+\n",
            "|SITE_ID|SITE_IGBP|month|        TA_F_avg|       VPD_F_avg|         P_F_avg|      NETRAD_avg|   NEE_VUT_REF_avg|NEE_VUT_REF_QC_avg|   NEE_CUT_REF_avg|NEE_CUT_REF_QC_avg|GPP_NT_VUT_REF_avg|GPP_DT_VUT_REF_avg|GPP_NT_CUT_REF_avg|GPP_DT_CUT_REF_avg|RECO_NT_VUT_REF_avg|RECO_DT_VUT_REF_avg|RECO_NT_CUT_REF_avg|RECO_DT_CUT_REF_avg|          ET_avg|    BESS_PAR_avg|BESS_PARdiff_avg|   BESS_RSDN_avg|CSIF_SIFdaily_avg|CSIF_SIFinst_avg|            PET_avg|          Ts_avg|       Tmean_avg|          prcp_avg|          vpd_avg|     prcp_lag3_avg|    ESACCI_sm_avg|             b1_avg|            b2_avg|             b3_avg|             b4_avg|            b5_avg|             b6_avg|             b7_avg|EVI_avg|  GCI_avg| NDVI_avg|  NDWI_avg|  NIRv_avg| kNDVI_avg|Percent_Snow_avg|         Fpar_avg|         Lai_avg|     LST_Day_avg|   LST_Night_avg|CO2_concentration_avg|dataset|MODIS_LC|MODIS_IGBP|MODIS_PFT|koppen_sub|   koppen|hemisphere|LOCATION_LAT|LOCATION_LONG|\n",
            "+-------+---------+-----+----------------+----------------+----------------+----------------+------------------+------------------+------------------+------------------+------------------+------------------+------------------+------------------+-------------------+-------------------+-------------------+-------------------+----------------+----------------+----------------+----------------+-----------------+----------------+-------------------+----------------+----------------+------------------+-----------------+------------------+-----------------+-------------------+------------------+-------------------+-------------------+------------------+-------------------+-------------------+-------+---------+---------+----------+----------+----------+----------------+-----------------+----------------+----------------+----------------+---------------------+-------+--------+----------+---------+----------+---------+----------+------------+-------------+\n",
            "| AR-Vir|      ENF|    6|           15.16|           4.068|           4.856|     37.76854272|           5.26425|          0.834028|           5.36241|          0.846528|           6.64917|           6.29664|           6.99431|           6.44581|            11.8187|            7.09799|            11.6898|            7.98667|       2.1825423|            49.0|            21.0|           106.0|       0.21136451|      0.66069496|       -0.002709828|        287.3152|       287.61026|       0.004878097|         0.308961|       0.010896325|       0.37292463|            0.04551|          0.265645|         0.02331833|        0.047519993|            0.2756|         0.17112999|        0.071069986|   null|4.5897164|0.7073928|0.21640767|0.18787028|0.46244016|             0.0|              0.7|             2.1|           292.0|          281.88|               390.84|FLUXNET|       9|       SAV|       SA|       Cfa|Temperate|         S|    -28.2395|     -56.1886|\n",
            "| AR-Vir|      ENF|    7|          15.362|            4.55|           6.061|      46.5743705|           3.50276|           0.80914|           3.42835|          0.819892|           7.68518|           6.28015|           8.12367|           6.42871|            11.2728|            7.11283|            11.0458|            8.00337|        2.934696|            55.0|            24.0|           119.0|       0.18242584|       0.5726544|       -0.003015079|        286.8988|        287.3287|       0.005048112|       0.34641075|       0.011951554|         0.386298|        0.049298387|        0.25191775|        0.024267739|        0.047822576|        0.27553546|         0.17595968|         0.08001129|   null|  4.26773|0.6725123|0.17755991|0.16946024|0.42379475|             0.0|             0.67|             2.0|           291.5|          280.04|              390.465|FLUXNET|       9|       SAV|       SA|       Cfa|Temperate|         S|    -28.2395|     -56.1886|\n",
            "| AR-Vir|      ENF|    8|           17.22|           6.829|            3.84|     72.39104898|           2.17606|          0.886425|           2.13632|          0.891801|           8.49029|           7.15995|            8.5811|           7.31832|            10.6443|            7.27947|            10.6756|            8.19088|        4.944075|            72.0|            28.0|           158.0|       0.18276119|      0.54865426|       -0.004576981|       288.80756|       288.95483|       0.002513979|       0.44519192|       0.012440188|       0.38348413|        0.051193543|        0.24463867|         0.02522258|          0.0491613|         0.2748258|         0.19289358|         0.09262904|   null| 3.977813|0.6539308|0.11838274|0.15997273| 0.4033405|             0.0|             0.66|             2.2|          294.08|          282.52|               389.56|FLUXNET|       9|       SAV|       SA|       Cfa|Temperate|         S|    -28.2395|     -56.1886|\n",
            "| AR-Vir|      ENF|    9|          19.792|           9.419|           1.894|     104.2254345|           1.29383|          0.959028|           1.36179|          0.958333|           8.53476|           7.54931|            8.8033|           7.53963|            10.1613|            7.95282|            9.90033|            7.14784|       7.4415073|           101.0|            32.0|           222.0|       0.21006429|       0.5844266|       -0.006154791|        291.2943|        291.5006|       0.001658583|         0.642826|       0.009220674|        0.3647775|         0.05622333|        0.25344667|        0.027496668|        0.055760004|           0.28789|         0.20511667|         0.10423333|   null|3.5520737|0.6369007|0.10540362|0.16142727| 0.3847905|             0.0|             0.61|             2.1|          300.92|          284.12|               389.17|FLUXNET|       9|       SAV|       SA|       Cfa|Temperate|         S|    -28.2395|     -56.1886|\n",
            "| BR-Sa1|      EBF|    2|         24.5932|          3.2596|         11.6638|   103.916001935|          0.752247|         0.9046388|          0.665946|         0.9064244|          9.152898|          9.985802|          9.121394|          9.503096|           9.918792|           11.67512|           9.812914|           10.79084|       9.1968518|            97.2|            66.0|           185.2|      0.436322878|     1.284513312|      -0.0079961852|      298.333916|       298.36571|      0.0159094596|      0.476067162|      0.0364197696|      0.357065588|0.09415284708073625|0.2481577327087127|0.06318375328940291|0.09032578663909083|0.2549171339270624|0.18840978986846046|0.11144319859565201|   null|     null|     null|      null|      null|      null|             0.0|            0.722|            3.98|          299.02|         294.752|              379.342|FLUXNET|       2|       EBF|      EBF|        Am| Tropical|         S|    -2.85667|    -54.95889|\n",
            "| BR-Sa1|      EBF|    3|          24.663|          3.4598|           9.847|   112.197708785|         0.7480388|         0.8862902|        0.65718296|         0.8844088|          9.219016|         10.418144|          9.020962|           9.74782|            9.94018|          12.226194|            9.61147|          11.224752|        9.291345|            99.0|            63.8|           190.6|      0.464558814|      1.36629682|       -0.007662013|      298.400694|      298.449634|      0.0167185276|       0.47860039|      0.0447365062|       0.36418543|0.09415284708073625|0.2481577327087127|0.06318375328940291|0.09032578663909083|0.2549171339270624|0.18840978986846046|0.11144319859565201|   null|     null|     null|      null|      null|      null|             0.0|            0.748|            4.38|         299.528|         294.912|              379.848|FLUXNET|       2|       EBF|      EBF|        Am| Tropical|         S|    -2.85667|    -54.95889|\n",
            "| BR-Sa1|      EBF|    4|        24.91125|           3.371|        10.52575|     116.1915743|        0.66139175|        0.93298625|        0.60177625|        0.93090275|         8.6765175|         9.7988725|         8.6270375|          9.575445|          9.3192325|         11.0331325|            9.25605|           10.78305|        8.915563|            98.0|           59.25|          188.75|     0.4144168875|     1.204944425|     -0.00649889825|     298.3763025|     298.4726825|     0.01875316925|     0.4250128725|       0.047241778|     0.3721353625|0.09415284708073625|0.2481577327087127|0.06318375328940291|0.09032578663909083|0.2549171339270624|0.18840978986846046|0.11144319859565201|   null|     null|     null|      null|      null|      null|             0.0|           0.7475|            4.35|          298.24|          294.77|             381.7325|FLUXNET|       2|       EBF|      EBF|        Am| Tropical|         S|    -2.85667|    -54.95889|\n",
            "| BR-Sa1|      EBF|   11|         26.8992|          7.6816|           5.052|137.051523366667|        -1.3091478|         0.8869444|        -1.2806046|          0.878611|          9.841522|          10.21034|          9.394126|         10.582654|            8.69175|          10.312484|            8.05509|          10.413654|      11.3477482|            96.0|            50.8|           198.6|      0.463914644|      1.29419548|      -0.0121751948|      300.822084|      300.636158|      0.0050468194|      0.903766922|      0.0126276786|      0.258217536|0.09415284708073625|0.2481577327087127|0.06318375328940291|0.09032578663909083|0.2549171339270624|0.18840978986846046|0.11144319859565201|   null|     null|     null|      null|      null|      null|             0.0|            0.788|             5.0|         301.524|         295.484|              377.088|FLUXNET|       2|       EBF|      EBF|        Am| Tropical|         S|    -2.85667|    -54.95889|\n",
            "| BR-Sa1|      EBF|   12|26.0522857142857|6.17171428571429|7.34928571428571|112.872759405714|-0.393712428571429| 0.920506857142857|         -0.320412| 0.915514714285714|  9.64429142857143|  10.0376671428571|  9.59727428571429|  9.64926285714286|   9.34510714285714|   10.2804628571429|   9.10579428571429|   10.0704314285714|10.5380442142857|94.5714285714286|55.5714285714286|187.428571428571|0.438690488571429|1.24734255714286|-0.0101647228571429|299.734795714286|299.651765714286|0.0092598214285714|0.711870374285714|0.0183790024285714|0.285550201428571|0.09415284708073625|0.2481577327087127|0.06318375328940291|0.09032578663909083|0.2549171339270624|0.18840978986846046|0.11144319859565201|   null|     null|     null|      null|      null|      null|             0.0|0.792857142857143|4.94285714285714|300.765714285714|295.497142857143|              380.585|FLUXNET|       2|       EBF|      EBF|        Am| Tropical|         S|    -2.85667|    -54.95889|\n",
            "| BR-Sa3|      EBF|    1|25.0426666666667|           8.106|5.74533333333333|109.134329853333|-0.398124333333333| 0.934587666666667|-0.435013666666667| 0.935931666666667|  8.48076333333333|  10.0659466666667|           8.44135|  10.2428766666667|   8.04271666666667|            11.3558|   8.09660666666667|            11.4665|        8.556116|96.6666666666667|            61.0|           187.0|0.383164126666667|      1.11340111|-0.0063834043333333|298.760286666667|       298.66215|0.0109330623333333|0.581504056666667|       0.020362048|0.327775556666667|0.09415284708073625|               0.0|0.06318375328940291|0.09032578663909083|0.2549171339270624|0.18840978986846046|0.11144319859565201|   null|     null|     null|      null|      null|      null|             0.0|0.736666666666667|             4.2|298.313333333333|295.206666666667|               371.41|FLUXNET|       2|       EBF|      EBF|        Am| Tropical|         S|    -3.01803|    -54.97144|\n",
            "| BR-Sa3|      EBF|    2|        24.65125|         7.48475|          7.5375|106.950809466667|           0.20834|        0.94233625|          0.169485|         0.9432535|         9.2071425|          10.32765|         9.2874725|        10.2942625|          9.4159425|          11.838325|          9.5240775|            11.8167|        8.274622|           101.0|           66.25|          193.25|     0.4229104975|     1.244580015|     -0.00567118825|      298.332155|      298.215265|      0.0131925825|      0.472393435|     0.03018732275|     0.3403658775|0.09415284708073625|               0.0|0.06318375328940291|0.09032578663909083|0.2549171339270624|0.18840978986846046|0.11144319859565201|   null|     null|     null|      null|      null|      null|             0.0|            0.745|           4.525|         298.685|         294.865|            372.80875|FLUXNET|       2|       EBF|      EBF|        Am| Tropical|         S|    -3.01803|    -54.97144|\n",
            "| BR-Sa3|      EBF|    3|          24.728|6.69366666666667|5.91066666666667|      111.814632|          0.472336| 0.988575333333333| 0.337930066666667| 0.988575333333333|  9.41352333333333|           10.7614|  9.42615666666667|  10.5019666666667|   9.94390333333333|   12.0358666666667|   9.93540333333333|   12.4301333333333|8.51926766666667|           101.0|64.6666666666667|193.666666666667|0.424061546666667|      1.24682568|-0.0056861663333333|298.414683333333|298.309043333333|0.0122179656666667|0.491019646666667|0.0363624646666667|0.345974316666667|0.09415284708073625|               0.0|0.06318375328940291|0.09032578663909083|0.2549171339270624|0.18840978986846046|0.11144319859565201|   null|     null|     null|      null|      null|      null|             0.0|0.763333333333333|4.66666666666667|299.046666666667|          294.86|               372.18|FLUXNET|       2|       EBF|      EBF|        Am| Tropical|         S|    -3.01803|    -54.97144|\n",
            "| BR-Sa3|      EBF|    4|         24.6335|          5.6485|           7.952|     120.3635711|         0.4114185|         0.9725695|         0.5914874|          0.973264|          9.330805|          9.178355|           9.26708|          8.861205|            9.71764|           9.216645|            9.76509|           9.457295|       8.6502985|            97.5|            58.0|           189.0|       0.42986619|      1.24997345|      -0.0050853675|      298.505635|      298.438615|       0.013383899|       0.44126245|      0.0388952085|        0.3575286|0.09415284708073625|0.2481577327087127|0.06318375328940291|0.09032578663909083|0.2549171339270624|0.18840978986846046|0.11144319859565201|   null|     null|     null|      null|      null|      null|             0.0|             0.79|            5.25|          297.75|          294.02|              373.845|FLUXNET|       2|       EBF|      EBF|        Am| Tropical|         S|    -3.01803|    -54.97144|\n",
            "| BR-Sa3|      EBF|   11|           26.02|           8.127|           3.234|     119.0993865|         -0.905984|           0.99375|          -1.00822|          0.994444|           8.44961|           10.5931|           8.44073|           10.5627|            7.55947|            11.2076|            7.55947|            10.2874|        11.36252|            96.0|            52.0|           195.0|       0.45063403|       1.2562166|       -0.006906278|       299.91623|       299.77252|       0.004799206|        0.6671918|       0.014753038|       0.32659754|0.09415284708073625|0.2481577327087127|0.06318375328940291|0.09032578663909083|0.2549171339270624|0.18840978986846046|0.11144319859565201|   null|     null|     null|      null|      null|      null|             0.0|             0.77|             4.6|          301.42|          294.62|              374.555|FLUXNET|       2|       EBF|      EBF|        Am| Tropical|         S|    -3.01803|    -54.97144|\n",
            "| BR-Sa3|      EBF|   12|          26.953|          11.786|           1.814|     124.2206446|        -0.4648364|          0.935484|        -0.4830845|          0.935484|           7.55138|          9.940925|          7.552585|          10.15451|            7.09759|            11.3655|           7.022155|           11.00485|       11.371528|            90.5|            56.5|           178.5|       0.42505756|       1.2077952|      -0.0077537595|      300.347335|       299.97152|      0.0058658995|       0.77426143|       0.011982961|      0.286874325|0.09415284708073625|0.2481577327087127|0.06318375328940291|0.09032578663909083|0.2549171339270624|0.18840978986846046|0.11144319859565201|   null|     null|     null|      null|      null|      null|             0.0|            0.795|             4.6|          300.51|          295.54|             371.8375|FLUXNET|       2|       EBF|      EBF|        Am| Tropical|         S|    -3.01803|    -54.97144|\n",
            "| CG-Tch|      SAV|    1|          25.077|           3.692|           4.165|     78.78630262|         -0.963938|          0.998656|         -0.975739|          0.999328|           5.06675|           5.96233|            5.0592|           5.92682|             4.1019|            5.40483|            4.08881|            5.36315|        7.604372|            87.0|            56.0|           171.0|       0.19039673|       0.5502555|       -0.004625119|       299.09644|       298.51752|        0.00619193|       0.41994953|       0.023520436|       0.26890516|0.09415284708073625|0.2481577327087127|0.06318375328940291|0.09032578663909083|0.2549171339270624|0.18840978986846046|0.11144319859565201|   null|     null|     null|      null|      null|      null|             0.0|             0.48|             1.4|          306.06|          293.96|              383.875|FLUXNET|       9|       SAV|       SA|        Aw| Tropical|         S|    -4.28917|     11.65642|\n",
            "| CG-Tch|      SAV|    3|           26.28|            6.01|           3.621|     109.3945466|        -0.0436207|          0.981855|        -0.0801859|          0.984543|           3.78114|           4.57745|           3.77755|           4.56805|            3.73638|            4.64678|            3.72375|            4.61246|         8.24458|           103.0|            58.0|           205.0|       0.14162406|       0.4155562|       -0.005217791|       299.92426|       299.34476|       0.004573783|        0.4780943|       0.015857635|       0.27549294|0.09415284708073625|0.2481577327087127|0.06318375328940291|0.09032578663909083|0.2549171339270624|0.18840978986846046|0.11144319859565201|   null|     null|     null|      null|      null|      null|             0.0|             0.42|             1.4|          313.86|           295.7|               384.18|FLUXNET|       9|       SAV|       SA|        Aw| Tropical|         S|    -4.28917|     11.65642|\n",
            "| CG-Tch|      SAV|    4|          26.005|            4.86|          6.5105|    102.04518632|        -1.0754925|          0.979167|         -1.125561|         0.9847225|          6.802165|          7.330865|            6.7953|          7.414985|            5.68705|           6.261805|            5.67086|            6.31742|      7.47345735|            99.5|            54.5|           197.0|      0.199507955|      0.58027448|      -0.0046831745|      299.812565|       299.21895|       0.007024879|       0.42578727|       0.019179416|      0.268158255|0.09415284708073625|0.2481577327087127|0.06318375328940291|0.09032578663909083|0.2549171339270624|0.18840978986846046|0.11144319859565201|   null|     null|     null|      null|      null|      null|             0.0|            0.465|             1.4|          308.58|           295.1|              385.765|FLUXNET|       9|       SAV|       SA|        Aw| Tropical|         S|    -4.28917|     11.65642|\n",
            "| CG-Tch|      SAV|    5|         25.5655|          4.2385|          2.9815|     86.02576361|        -1.3328545|          0.997984|        -1.3341645|          0.997984|           6.39821|           6.83499|           6.40157|           6.83654|            5.05893|           5.533085|            5.04062|           5.484145|       6.5868522|            81.5|            46.0|           165.0|      0.209910165|      0.60990241|       -0.004423976|       299.39235|       298.79334|      0.0037210465|       0.40517684|      0.0161392565|       0.25663471|0.09415284708073625|0.2481577327087127|0.06318375328940291|0.09032578663909083|0.2549171339270624|0.18840978986846046|0.11144319859565201|   null|     null|     null|      null|      null|      null|             0.0|             0.47|             1.4|          305.59|          291.51|             386.3275|FLUXNET|       9|       SAV|       SA|        Aw| Tropical|         S|    -4.28917|     11.65642|\n",
            "| CG-Tch|      SAV|    6|         22.6295|          3.4925|          0.1385|     58.27694692|          -0.60437|          0.999653|        -0.6014295|          0.999653|           3.06881|           3.40794|            3.0739|           3.37129|           2.468855|            2.85687|           2.475915|            2.87977|       4.7603765|            58.0|            38.0|           121.5|      0.165442535|     0.485369425|       -0.003636863|      296.534455|      295.976135|       4.381175E-4|      0.354927435|       0.011184042|      0.162718075|0.09415284708073625|0.2481577327087127|0.06318375328940291|0.09032578663909083|0.2549171339270624|0.18840978986846046|0.11144319859565201|   null|     null|     null|      null|      null|      null|             0.0|            0.395|             0.9|          303.61|          291.33|             386.1425|FLUXNET|       9|       SAV|       SA|        Aw| Tropical|         S|    -4.28917|     11.65642|\n",
            "+-------+---------+-----+----------------+----------------+----------------+----------------+------------------+------------------+------------------+------------------+------------------+------------------+------------------+------------------+-------------------+-------------------+-------------------+-------------------+----------------+----------------+----------------+----------------+-----------------+----------------+-------------------+----------------+----------------+------------------+-----------------+------------------+-----------------+-------------------+------------------+-------------------+-------------------+------------------+-------------------+-------------------+-------+---------+---------+----------+----------+----------+----------------+-----------------+----------------+----------------+----------------+---------------------+-------+--------+----------+---------+----------+---------+----------+------------+-------------+\n",
            "only showing top 20 rows\n",
            "\n"
          ]
        }
      ]
    },
    {
      "cell_type": "code",
      "source": [
        "static_monthly_sdf.filter(static_monthly_sdf.EVI_avg.isNull()).groupBy(\"SITE_ID\").count().show()"
      ],
      "metadata": {
        "colab": {
          "base_uri": "https://localhost:8080/"
        },
        "id": "J5KqJPKwresx",
        "outputId": "c614c17b-0a42-4b01-f061-1a08d8c2330a"
      },
      "execution_count": 393,
      "outputs": [
        {
          "output_type": "stream",
          "name": "stdout",
          "text": [
            "+-------+-----+\n",
            "|SITE_ID|count|\n",
            "+-------+-----+\n",
            "| CN-Cha|    1|\n",
            "| SE-Svb|    1|\n",
            "| BR-Sa3|    6|\n",
            "| SE-Ros|    2|\n",
            "| PA-SPn|    5|\n",
            "| IT-Tor|    1|\n",
            "| US-Ivo|    6|\n",
            "| CG-Tch|   11|\n",
            "| SE-Deg|    1|\n",
            "| SE-Lnn|    1|\n",
            "| FI-Var|    3|\n",
            "| GH-Ank|    8|\n",
            "| SJ-Adv|    4|\n",
            "| US-UMB|    1|\n",
            "| FI-Qvd|    1|\n",
            "| US-UMd|    1|\n",
            "| CH-Aws|    5|\n",
            "| CN-Din|    1|\n",
            "| US-Syv|    2|\n",
            "| FI-Lom|    3|\n",
            "+-------+-----+\n",
            "only showing top 20 rows\n",
            "\n"
          ]
        }
      ]
    },
    {
      "cell_type": "markdown",
      "source": [
        "### Impute with average across sites"
      ],
      "metadata": {
        "id": "05siAD6d_4At"
      }
    },
    {
      "cell_type": "code",
      "source": [
        "static_monthly_sdf = static_monthly_sdf.fillna(value = static_monthly_sdf\n",
        "    .select(mean('EVI_avg')).head()[0],subset = ['EVI_avg'])"
      ],
      "metadata": {
        "id": "qMtkZITB_4At"
      },
      "execution_count": 394,
      "outputs": []
    },
    {
      "cell_type": "code",
      "source": [
        "static_monthly_sdf.filter(static_monthly_sdf.SITE_ID == 'CG-Tch').show()"
      ],
      "metadata": {
        "colab": {
          "base_uri": "https://localhost:8080/"
        },
        "outputId": "0ba35a43-1d05-44da-f7a4-559535546075",
        "id": "PSdh_Jk-_4Au"
      },
      "execution_count": 395,
      "outputs": [
        {
          "output_type": "stream",
          "name": "stdout",
          "text": [
            "+-------+---------+-----+----------------+----------------+----------------+----------------+-----------------+------------------+-----------------+------------------+------------------+------------------+------------------+------------------+-------------------+-------------------+-------------------+-------------------+----------------+----------------+----------------+----------------+-----------------+-----------------+-------------------+----------------+----------------+-------------+-----------------+-------------+-------------+-------------------+------------------+-------------------+-------------------+------------------+-------------------+-------------------+-------------------+-------+--------+--------+--------+---------+----------------+-----------------+----------------+-----------+----------------+---------------------+-------+--------+----------+---------+----------+--------+----------+------------+-------------+\n",
            "|SITE_ID|SITE_IGBP|month|        TA_F_avg|       VPD_F_avg|         P_F_avg|      NETRAD_avg|  NEE_VUT_REF_avg|NEE_VUT_REF_QC_avg|  NEE_CUT_REF_avg|NEE_CUT_REF_QC_avg|GPP_NT_VUT_REF_avg|GPP_DT_VUT_REF_avg|GPP_NT_CUT_REF_avg|GPP_DT_CUT_REF_avg|RECO_NT_VUT_REF_avg|RECO_DT_VUT_REF_avg|RECO_NT_CUT_REF_avg|RECO_DT_CUT_REF_avg|          ET_avg|    BESS_PAR_avg|BESS_PARdiff_avg|   BESS_RSDN_avg|CSIF_SIFdaily_avg| CSIF_SIFinst_avg|            PET_avg|          Ts_avg|       Tmean_avg|     prcp_avg|          vpd_avg|prcp_lag3_avg|ESACCI_sm_avg|             b1_avg|            b2_avg|             b3_avg|             b4_avg|            b5_avg|             b6_avg|             b7_avg|            EVI_avg|GCI_avg|NDVI_avg|NDWI_avg|NIRv_avg|kNDVI_avg|Percent_Snow_avg|         Fpar_avg|         Lai_avg|LST_Day_avg|   LST_Night_avg|CO2_concentration_avg|dataset|MODIS_LC|MODIS_IGBP|MODIS_PFT|koppen_sub|  koppen|hemisphere|LOCATION_LAT|LOCATION_LONG|\n",
            "+-------+---------+-----+----------------+----------------+----------------+----------------+-----------------+------------------+-----------------+------------------+------------------+------------------+------------------+------------------+-------------------+-------------------+-------------------+-------------------+----------------+----------------+----------------+----------------+-----------------+-----------------+-------------------+----------------+----------------+-------------+-----------------+-------------+-------------+-------------------+------------------+-------------------+-------------------+------------------+-------------------+-------------------+-------------------+-------+--------+--------+--------+---------+----------------+-----------------+----------------+-----------+----------------+---------------------+-------+--------+----------+---------+----------+--------+----------+------------+-------------+\n",
            "| CG-Tch|      SAV|    1|          25.077|           3.692|           4.165|     78.78630262|        -0.963938|          0.998656|        -0.975739|          0.999328|           5.06675|           5.96233|            5.0592|           5.92682|             4.1019|            5.40483|            4.08881|            5.36315|        7.604372|            87.0|            56.0|           171.0|       0.19039673|        0.5502555|       -0.004625119|       299.09644|       298.51752|   0.00619193|       0.41994953|  0.023520436|   0.26890516|0.09415284708073625|0.2481577327087127|0.06318375328940291|0.09032578663909083|0.2549171339270624|0.18840978986846046|0.11144319859565201|0.29324402477658323|   null|    null|    null|    null|     null|             0.0|             0.48|             1.4|     306.06|          293.96|              383.875|FLUXNET|       9|       SAV|       SA|        Aw|Tropical|         S|    -4.28917|     11.65642|\n",
            "| CG-Tch|      SAV|    3|           26.28|            6.01|           3.621|     109.3945466|       -0.0436207|          0.981855|       -0.0801859|          0.984543|           3.78114|           4.57745|           3.77755|           4.56805|            3.73638|            4.64678|            3.72375|            4.61246|         8.24458|           103.0|            58.0|           205.0|       0.14162406|        0.4155562|       -0.005217791|       299.92426|       299.34476|  0.004573783|        0.4780943|  0.015857635|   0.27549294|0.09415284708073625|0.2481577327087127|0.06318375328940291|0.09032578663909083|0.2549171339270624|0.18840978986846046|0.11144319859565201|0.29324402477658323|   null|    null|    null|    null|     null|             0.0|             0.42|             1.4|     313.86|           295.7|               384.18|FLUXNET|       9|       SAV|       SA|        Aw|Tropical|         S|    -4.28917|     11.65642|\n",
            "| CG-Tch|      SAV|    4|          26.005|            4.86|          6.5105|    102.04518632|       -1.0754925|          0.979167|        -1.125561|         0.9847225|          6.802165|          7.330865|            6.7953|          7.414985|            5.68705|           6.261805|            5.67086|            6.31742|      7.47345735|            99.5|            54.5|           197.0|      0.199507955|       0.58027448|      -0.0046831745|      299.812565|       299.21895|  0.007024879|       0.42578727|  0.019179416|  0.268158255|0.09415284708073625|0.2481577327087127|0.06318375328940291|0.09032578663909083|0.2549171339270624|0.18840978986846046|0.11144319859565201|0.29324402477658323|   null|    null|    null|    null|     null|             0.0|            0.465|             1.4|     308.58|           295.1|              385.765|FLUXNET|       9|       SAV|       SA|        Aw|Tropical|         S|    -4.28917|     11.65642|\n",
            "| CG-Tch|      SAV|    5|         25.5655|          4.2385|          2.9815|     86.02576361|       -1.3328545|          0.997984|       -1.3341645|          0.997984|           6.39821|           6.83499|           6.40157|           6.83654|            5.05893|           5.533085|            5.04062|           5.484145|       6.5868522|            81.5|            46.0|           165.0|      0.209910165|       0.60990241|       -0.004423976|       299.39235|       298.79334| 0.0037210465|       0.40517684| 0.0161392565|   0.25663471|0.09415284708073625|0.2481577327087127|0.06318375328940291|0.09032578663909083|0.2549171339270624|0.18840978986846046|0.11144319859565201|0.29324402477658323|   null|    null|    null|    null|     null|             0.0|             0.47|             1.4|     305.59|          291.51|             386.3275|FLUXNET|       9|       SAV|       SA|        Aw|Tropical|         S|    -4.28917|     11.65642|\n",
            "| CG-Tch|      SAV|    6|         22.6295|          3.4925|          0.1385|     58.27694692|         -0.60437|          0.999653|       -0.6014295|          0.999653|           3.06881|           3.40794|            3.0739|           3.37129|           2.468855|            2.85687|           2.475915|            2.87977|       4.7603765|            58.0|            38.0|           121.5|      0.165442535|      0.485369425|       -0.003636863|      296.534455|      295.976135|  4.381175E-4|      0.354927435|  0.011184042|  0.162718075|0.09415284708073625|0.2481577327087127|0.06318375328940291|0.09032578663909083|0.2549171339270624|0.18840978986846046|0.11144319859565201|0.29324402477658323|   null|    null|    null|    null|     null|             0.0|            0.395|             0.9|     303.61|          291.33|             386.1425|FLUXNET|       9|       SAV|       SA|        Aw|Tropical|         S|    -4.28917|     11.65642|\n",
            "| CG-Tch|      SAV|    7|         21.7145|          3.8575|          0.0655|    48.054493155|         0.513693|          0.972446|       0.50825325|        0.97379025|        0.67838425|          0.986819|        0.66525925|          1.083918|         1.18767325|           1.433455|         1.17500375|          1.4828725|       4.8133691|           60.75|           38.75|           131.0|       0.04896109|    0.14500660125|       -0.003897473|       296.06148|      295.158005| 4.0413775E-4|      0.394222655|0.00419324425| 0.1609908525|0.09415284708073625|0.2481577327087127|0.06318375328940291|0.09032578663909083|0.2549171339270624|0.18840978986846046|0.11144319859565201|0.29324402477658323|   null|    null|    null|    null|     null|             0.0|            0.225|           0.525|    307.305|          290.12|               383.67|FLUXNET|       9|       SAV|       SA|        Aw|Tropical|         S|    -4.28917|     11.65642|\n",
            "| CG-Tch|      SAV|    8|         21.9225|         3.62775|          0.1555|    44.857874095|        0.3781545|          0.997816|        0.3772525|          0.997816|        0.62707825|        0.83106625|        0.62225275|         0.8530855|           1.003344|          1.1753515|           0.996611|           1.260776|     4.272573825|           56.25|            39.5|          119.75|    0.01555125125|       0.04566756|     -0.00397380425|     296.6664825|       295.47047| 4.9462525E-4|     0.3937289475| 0.0014240775| 0.1737774275|0.09415284708073625|0.2481577327087127|0.06318375328940291|0.09032578663909083|0.2549171339270624|0.18840978986846046|0.11144319859565201|0.29324402477658323|   null|    null|    null|    null|     null|             0.0|           0.1975|            0.45|    311.345|         290.145|               382.87|FLUXNET|       9|       SAV|       SA|        Aw|Tropical|         S|    -4.28917|     11.65642|\n",
            "| CG-Tch|      SAV|    9|        22.91025|         3.50825|          0.4975|     48.48534288|        0.4071315|        0.98246525|         0.406676|        0.98385425|         0.5465985|        0.97330425|        0.54189675|        1.01369825|          0.9468435|         1.61204025|         0.94477025|           1.653265|     3.899200375|           59.75|            46.0|          120.75|     0.0098225195|    0.02812026625|     -0.00449258275|     298.0047025|     296.8279225| 8.1112075E-4|      0.465119995|0.00170988375| 0.2349155925|0.09415284708073625|0.2481577327087127|0.06318375328940291|0.09032578663909083|0.2549171339270624|0.18840978986846046|0.11144319859565201|0.29324402477658323|   null|    null|    null|    null|     null|             0.0|            0.185|             0.4|     315.61|          290.58|              382.395|FLUXNET|       9|       SAV|       SA|        Aw|Tropical|         S|    -4.28917|     11.65642|\n",
            "| CG-Tch|      SAV|   10|         24.2965|         3.42375|         7.23125|   63.0653951625|        0.2887092|           0.96707|     0.2852325575|           0.96707|          1.849448|          2.248791|          1.860231|         2.2396885|           2.141815|          2.7671975|          2.1432625|           2.761705|       4.6409494|            66.5|           50.25|           127.5|      0.030229167|     0.0840448425|     -0.00518613475|       299.02821|      298.227245|0.00332506575|      0.532291735| 0.0046308115| 0.2830667575|0.09415284708073625|0.2481577327087127|0.06318375328940291|0.09032578663909083|0.2549171339270624|0.18840978986846046|0.11144319859565201|0.29324402477658323|   null|    null|    null|    null|     null|             0.0|           0.2175|           0.525|    302.305|         293.045|            382.45875|FLUXNET|       9|       SAV|       SA|        Aw|Tropical|         S|    -4.28917|     11.65642|\n",
            "| CG-Tch|      SAV|   11|          24.773|3.44966666666667|          12.598|84.4698082766667|        -1.144035| 0.932407333333333|        -1.149898| 0.935185333333333|  5.11813333333333|           5.77444|  5.13784333333333|  5.78285333333333|   3.96842666666667|            4.83468|   3.97716333333333|   4.89800666666667|6.29312376666667|89.3333333333333|56.3333333333333|173.333333333333|0.134091233333333|       0.37218675|       -0.004504795|298.843713333333|298.318486666667|  0.011564004|0.410595386666667|  0.016069377|   0.25752813|0.09415284708073625|0.2481577327087127|0.06318375328940291|0.09032578663909083|0.2549171339270624|0.18840978986846046|0.11144319859565201|0.29324402477658323|   null|    null|    null|    null|     null|             0.0|0.426666666666667|1.36666666666667|      304.0|292.993333333333|     382.748333333333|FLUXNET|       9|       SAV|       SA|        Aw|Tropical|         S|    -4.28917|     11.65642|\n",
            "| CG-Tch|      SAV|   12|24.9516666666667|3.45466666666667|8.32766666666667|     77.83825157|-1.75918333333333| 0.977822666666667|-1.75823333333333| 0.978046666666667|  6.49100333333333|  7.23713666666667|  6.57951666666667|           7.23996|   4.75229333333333|   5.82915666666667|            4.80951|   5.85355333333333|7.24527806666667|82.6666666666667|54.3333333333333|162.333333333333|       0.21790926|0.615803313333333|-0.0042544256666666|298.847623333333|       298.32732|  0.008036378|0.377198766666667|  0.023245562|   0.27133414|0.09415284708073625|0.2481577327087127|0.06318375328940291|0.09032578663909083|0.2549171339270624|0.18840978986846046|0.11144319859565201|0.29324402477658323|   null|    null|    null|    null|     null|             0.0|             0.53|             1.9|     301.06|294.033333333333|     383.498333333333|FLUXNET|       9|       SAV|       SA|        Aw|Tropical|         S|    -4.28917|     11.65642|\n",
            "+-------+---------+-----+----------------+----------------+----------------+----------------+-----------------+------------------+-----------------+------------------+------------------+------------------+------------------+------------------+-------------------+-------------------+-------------------+-------------------+----------------+----------------+----------------+----------------+-----------------+-----------------+-------------------+----------------+----------------+-------------+-----------------+-------------+-------------+-------------------+------------------+-------------------+-------------------+------------------+-------------------+-------------------+-------------------+-------+--------+--------+--------+---------+----------------+-----------------+----------------+-----------+----------------+---------------------+-------+--------+----------+---------+----------+--------+----------+------------+-------------+\n",
            "\n"
          ]
        }
      ]
    },
    {
      "cell_type": "markdown",
      "source": [
        "## `GCI_avg`"
      ],
      "metadata": {
        "id": "eoy86jCOrewf"
      }
    },
    {
      "cell_type": "code",
      "source": [
        "static_monthly_sdf.filter(static_monthly_sdf.GCI_avg.isNull()).show()"
      ],
      "metadata": {
        "colab": {
          "base_uri": "https://localhost:8080/"
        },
        "id": "X1zB77ojrewg",
        "outputId": "0da1a8aa-4016-41c2-a3d4-4920a4cc637b"
      },
      "execution_count": 396,
      "outputs": [
        {
          "output_type": "stream",
          "name": "stdout",
          "text": [
            "+-------+---------+-----+----------------+----------------+----------------+----------------+------------------+------------------+------------------+------------------+------------------+------------------+------------------+------------------+-------------------+-------------------+-------------------+-------------------+----------------+----------------+----------------+----------------+-----------------+----------------+-------------------+----------------+----------------+------------------+-----------------+------------------+-----------------+-------------------+------------------+-------------------+-------------------+------------------+-------------------+-------------------+-------------------+-------+--------+--------+--------+---------+----------------+-----------------+----------------+----------------+----------------+---------------------+-------+--------+----------+---------+----------+--------+----------+------------+-------------+\n",
            "|SITE_ID|SITE_IGBP|month|        TA_F_avg|       VPD_F_avg|         P_F_avg|      NETRAD_avg|   NEE_VUT_REF_avg|NEE_VUT_REF_QC_avg|   NEE_CUT_REF_avg|NEE_CUT_REF_QC_avg|GPP_NT_VUT_REF_avg|GPP_DT_VUT_REF_avg|GPP_NT_CUT_REF_avg|GPP_DT_CUT_REF_avg|RECO_NT_VUT_REF_avg|RECO_DT_VUT_REF_avg|RECO_NT_CUT_REF_avg|RECO_DT_CUT_REF_avg|          ET_avg|    BESS_PAR_avg|BESS_PARdiff_avg|   BESS_RSDN_avg|CSIF_SIFdaily_avg|CSIF_SIFinst_avg|            PET_avg|          Ts_avg|       Tmean_avg|          prcp_avg|          vpd_avg|     prcp_lag3_avg|    ESACCI_sm_avg|             b1_avg|            b2_avg|             b3_avg|             b4_avg|            b5_avg|             b6_avg|             b7_avg|            EVI_avg|GCI_avg|NDVI_avg|NDWI_avg|NIRv_avg|kNDVI_avg|Percent_Snow_avg|         Fpar_avg|         Lai_avg|     LST_Day_avg|   LST_Night_avg|CO2_concentration_avg|dataset|MODIS_LC|MODIS_IGBP|MODIS_PFT|koppen_sub|  koppen|hemisphere|LOCATION_LAT|LOCATION_LONG|\n",
            "+-------+---------+-----+----------------+----------------+----------------+----------------+------------------+------------------+------------------+------------------+------------------+------------------+------------------+------------------+-------------------+-------------------+-------------------+-------------------+----------------+----------------+----------------+----------------+-----------------+----------------+-------------------+----------------+----------------+------------------+-----------------+------------------+-----------------+-------------------+------------------+-------------------+-------------------+------------------+-------------------+-------------------+-------------------+-------+--------+--------+--------+---------+----------------+-----------------+----------------+----------------+----------------+---------------------+-------+--------+----------+---------+----------+--------+----------+------------+-------------+\n",
            "| BR-Sa1|      EBF|    2|         24.5932|          3.2596|         11.6638|   103.916001935|          0.752247|         0.9046388|          0.665946|         0.9064244|          9.152898|          9.985802|          9.121394|          9.503096|           9.918792|           11.67512|           9.812914|           10.79084|       9.1968518|            97.2|            66.0|           185.2|      0.436322878|     1.284513312|      -0.0079961852|      298.333916|       298.36571|      0.0159094596|      0.476067162|      0.0364197696|      0.357065588|0.09415284708073625|0.2481577327087127|0.06318375328940291|0.09032578663909083|0.2549171339270624|0.18840978986846046|0.11144319859565201|0.29324402477658323|   null|    null|    null|    null|     null|             0.0|            0.722|            3.98|          299.02|         294.752|              379.342|FLUXNET|       2|       EBF|      EBF|        Am|Tropical|         S|    -2.85667|    -54.95889|\n",
            "| BR-Sa1|      EBF|    3|          24.663|          3.4598|           9.847|   112.197708785|         0.7480388|         0.8862902|        0.65718296|         0.8844088|          9.219016|         10.418144|          9.020962|           9.74782|            9.94018|          12.226194|            9.61147|          11.224752|        9.291345|            99.0|            63.8|           190.6|      0.464558814|      1.36629682|       -0.007662013|      298.400694|      298.449634|      0.0167185276|       0.47860039|      0.0447365062|       0.36418543|0.09415284708073625|0.2481577327087127|0.06318375328940291|0.09032578663909083|0.2549171339270624|0.18840978986846046|0.11144319859565201|0.29324402477658323|   null|    null|    null|    null|     null|             0.0|            0.748|            4.38|         299.528|         294.912|              379.848|FLUXNET|       2|       EBF|      EBF|        Am|Tropical|         S|    -2.85667|    -54.95889|\n",
            "| BR-Sa1|      EBF|    4|        24.91125|           3.371|        10.52575|     116.1915743|        0.66139175|        0.93298625|        0.60177625|        0.93090275|         8.6765175|         9.7988725|         8.6270375|          9.575445|          9.3192325|         11.0331325|            9.25605|           10.78305|        8.915563|            98.0|           59.25|          188.75|     0.4144168875|     1.204944425|     -0.00649889825|     298.3763025|     298.4726825|     0.01875316925|     0.4250128725|       0.047241778|     0.3721353625|0.09415284708073625|0.2481577327087127|0.06318375328940291|0.09032578663909083|0.2549171339270624|0.18840978986846046|0.11144319859565201|0.29324402477658323|   null|    null|    null|    null|     null|             0.0|           0.7475|            4.35|          298.24|          294.77|             381.7325|FLUXNET|       2|       EBF|      EBF|        Am|Tropical|         S|    -2.85667|    -54.95889|\n",
            "| BR-Sa1|      EBF|   11|         26.8992|          7.6816|           5.052|137.051523366667|        -1.3091478|         0.8869444|        -1.2806046|          0.878611|          9.841522|          10.21034|          9.394126|         10.582654|            8.69175|          10.312484|            8.05509|          10.413654|      11.3477482|            96.0|            50.8|           198.6|      0.463914644|      1.29419548|      -0.0121751948|      300.822084|      300.636158|      0.0050468194|      0.903766922|      0.0126276786|      0.258217536|0.09415284708073625|0.2481577327087127|0.06318375328940291|0.09032578663909083|0.2549171339270624|0.18840978986846046|0.11144319859565201|0.29324402477658323|   null|    null|    null|    null|     null|             0.0|            0.788|             5.0|         301.524|         295.484|              377.088|FLUXNET|       2|       EBF|      EBF|        Am|Tropical|         S|    -2.85667|    -54.95889|\n",
            "| BR-Sa1|      EBF|   12|26.0522857142857|6.17171428571429|7.34928571428571|112.872759405714|-0.393712428571429| 0.920506857142857|         -0.320412| 0.915514714285714|  9.64429142857143|  10.0376671428571|  9.59727428571429|  9.64926285714286|   9.34510714285714|   10.2804628571429|   9.10579428571429|   10.0704314285714|10.5380442142857|94.5714285714286|55.5714285714286|187.428571428571|0.438690488571429|1.24734255714286|-0.0101647228571429|299.734795714286|299.651765714286|0.0092598214285714|0.711870374285714|0.0183790024285714|0.285550201428571|0.09415284708073625|0.2481577327087127|0.06318375328940291|0.09032578663909083|0.2549171339270624|0.18840978986846046|0.11144319859565201|0.29324402477658323|   null|    null|    null|    null|     null|             0.0|0.792857142857143|4.94285714285714|300.765714285714|295.497142857143|              380.585|FLUXNET|       2|       EBF|      EBF|        Am|Tropical|         S|    -2.85667|    -54.95889|\n",
            "| BR-Sa3|      EBF|    1|25.0426666666667|           8.106|5.74533333333333|109.134329853333|-0.398124333333333| 0.934587666666667|-0.435013666666667| 0.935931666666667|  8.48076333333333|  10.0659466666667|           8.44135|  10.2428766666667|   8.04271666666667|            11.3558|   8.09660666666667|            11.4665|        8.556116|96.6666666666667|            61.0|           187.0|0.383164126666667|      1.11340111|-0.0063834043333333|298.760286666667|       298.66215|0.0109330623333333|0.581504056666667|       0.020362048|0.327775556666667|0.09415284708073625|               0.0|0.06318375328940291|0.09032578663909083|0.2549171339270624|0.18840978986846046|0.11144319859565201|0.29324402477658323|   null|    null|    null|    null|     null|             0.0|0.736666666666667|             4.2|298.313333333333|295.206666666667|               371.41|FLUXNET|       2|       EBF|      EBF|        Am|Tropical|         S|    -3.01803|    -54.97144|\n",
            "| BR-Sa3|      EBF|    2|        24.65125|         7.48475|          7.5375|106.950809466667|           0.20834|        0.94233625|          0.169485|         0.9432535|         9.2071425|          10.32765|         9.2874725|        10.2942625|          9.4159425|          11.838325|          9.5240775|            11.8167|        8.274622|           101.0|           66.25|          193.25|     0.4229104975|     1.244580015|     -0.00567118825|      298.332155|      298.215265|      0.0131925825|      0.472393435|     0.03018732275|     0.3403658775|0.09415284708073625|               0.0|0.06318375328940291|0.09032578663909083|0.2549171339270624|0.18840978986846046|0.11144319859565201|0.29324402477658323|   null|    null|    null|    null|     null|             0.0|            0.745|           4.525|         298.685|         294.865|            372.80875|FLUXNET|       2|       EBF|      EBF|        Am|Tropical|         S|    -3.01803|    -54.97144|\n",
            "| BR-Sa3|      EBF|    3|          24.728|6.69366666666667|5.91066666666667|      111.814632|          0.472336| 0.988575333333333| 0.337930066666667| 0.988575333333333|  9.41352333333333|           10.7614|  9.42615666666667|  10.5019666666667|   9.94390333333333|   12.0358666666667|   9.93540333333333|   12.4301333333333|8.51926766666667|           101.0|64.6666666666667|193.666666666667|0.424061546666667|      1.24682568|-0.0056861663333333|298.414683333333|298.309043333333|0.0122179656666667|0.491019646666667|0.0363624646666667|0.345974316666667|0.09415284708073625|               0.0|0.06318375328940291|0.09032578663909083|0.2549171339270624|0.18840978986846046|0.11144319859565201|0.29324402477658323|   null|    null|    null|    null|     null|             0.0|0.763333333333333|4.66666666666667|299.046666666667|          294.86|               372.18|FLUXNET|       2|       EBF|      EBF|        Am|Tropical|         S|    -3.01803|    -54.97144|\n",
            "| BR-Sa3|      EBF|    4|         24.6335|          5.6485|           7.952|     120.3635711|         0.4114185|         0.9725695|         0.5914874|          0.973264|          9.330805|          9.178355|           9.26708|          8.861205|            9.71764|           9.216645|            9.76509|           9.457295|       8.6502985|            97.5|            58.0|           189.0|       0.42986619|      1.24997345|      -0.0050853675|      298.505635|      298.438615|       0.013383899|       0.44126245|      0.0388952085|        0.3575286|0.09415284708073625|0.2481577327087127|0.06318375328940291|0.09032578663909083|0.2549171339270624|0.18840978986846046|0.11144319859565201|0.29324402477658323|   null|    null|    null|    null|     null|             0.0|             0.79|            5.25|          297.75|          294.02|              373.845|FLUXNET|       2|       EBF|      EBF|        Am|Tropical|         S|    -3.01803|    -54.97144|\n",
            "| BR-Sa3|      EBF|   11|           26.02|           8.127|           3.234|     119.0993865|         -0.905984|           0.99375|          -1.00822|          0.994444|           8.44961|           10.5931|           8.44073|           10.5627|            7.55947|            11.2076|            7.55947|            10.2874|        11.36252|            96.0|            52.0|           195.0|       0.45063403|       1.2562166|       -0.006906278|       299.91623|       299.77252|       0.004799206|        0.6671918|       0.014753038|       0.32659754|0.09415284708073625|0.2481577327087127|0.06318375328940291|0.09032578663909083|0.2549171339270624|0.18840978986846046|0.11144319859565201|0.29324402477658323|   null|    null|    null|    null|     null|             0.0|             0.77|             4.6|          301.42|          294.62|              374.555|FLUXNET|       2|       EBF|      EBF|        Am|Tropical|         S|    -3.01803|    -54.97144|\n",
            "| BR-Sa3|      EBF|   12|          26.953|          11.786|           1.814|     124.2206446|        -0.4648364|          0.935484|        -0.4830845|          0.935484|           7.55138|          9.940925|          7.552585|          10.15451|            7.09759|            11.3655|           7.022155|           11.00485|       11.371528|            90.5|            56.5|           178.5|       0.42505756|       1.2077952|      -0.0077537595|      300.347335|       299.97152|      0.0058658995|       0.77426143|       0.011982961|      0.286874325|0.09415284708073625|0.2481577327087127|0.06318375328940291|0.09032578663909083|0.2549171339270624|0.18840978986846046|0.11144319859565201|0.29324402477658323|   null|    null|    null|    null|     null|             0.0|            0.795|             4.6|          300.51|          295.54|             371.8375|FLUXNET|       2|       EBF|      EBF|        Am|Tropical|         S|    -3.01803|    -54.97144|\n",
            "| CG-Tch|      SAV|    1|          25.077|           3.692|           4.165|     78.78630262|         -0.963938|          0.998656|         -0.975739|          0.999328|           5.06675|           5.96233|            5.0592|           5.92682|             4.1019|            5.40483|            4.08881|            5.36315|        7.604372|            87.0|            56.0|           171.0|       0.19039673|       0.5502555|       -0.004625119|       299.09644|       298.51752|        0.00619193|       0.41994953|       0.023520436|       0.26890516|0.09415284708073625|0.2481577327087127|0.06318375328940291|0.09032578663909083|0.2549171339270624|0.18840978986846046|0.11144319859565201|0.29324402477658323|   null|    null|    null|    null|     null|             0.0|             0.48|             1.4|          306.06|          293.96|              383.875|FLUXNET|       9|       SAV|       SA|        Aw|Tropical|         S|    -4.28917|     11.65642|\n",
            "| CG-Tch|      SAV|    3|           26.28|            6.01|           3.621|     109.3945466|        -0.0436207|          0.981855|        -0.0801859|          0.984543|           3.78114|           4.57745|           3.77755|           4.56805|            3.73638|            4.64678|            3.72375|            4.61246|         8.24458|           103.0|            58.0|           205.0|       0.14162406|       0.4155562|       -0.005217791|       299.92426|       299.34476|       0.004573783|        0.4780943|       0.015857635|       0.27549294|0.09415284708073625|0.2481577327087127|0.06318375328940291|0.09032578663909083|0.2549171339270624|0.18840978986846046|0.11144319859565201|0.29324402477658323|   null|    null|    null|    null|     null|             0.0|             0.42|             1.4|          313.86|           295.7|               384.18|FLUXNET|       9|       SAV|       SA|        Aw|Tropical|         S|    -4.28917|     11.65642|\n",
            "| CG-Tch|      SAV|    4|          26.005|            4.86|          6.5105|    102.04518632|        -1.0754925|          0.979167|         -1.125561|         0.9847225|          6.802165|          7.330865|            6.7953|          7.414985|            5.68705|           6.261805|            5.67086|            6.31742|      7.47345735|            99.5|            54.5|           197.0|      0.199507955|      0.58027448|      -0.0046831745|      299.812565|       299.21895|       0.007024879|       0.42578727|       0.019179416|      0.268158255|0.09415284708073625|0.2481577327087127|0.06318375328940291|0.09032578663909083|0.2549171339270624|0.18840978986846046|0.11144319859565201|0.29324402477658323|   null|    null|    null|    null|     null|             0.0|            0.465|             1.4|          308.58|           295.1|              385.765|FLUXNET|       9|       SAV|       SA|        Aw|Tropical|         S|    -4.28917|     11.65642|\n",
            "| CG-Tch|      SAV|    5|         25.5655|          4.2385|          2.9815|     86.02576361|        -1.3328545|          0.997984|        -1.3341645|          0.997984|           6.39821|           6.83499|           6.40157|           6.83654|            5.05893|           5.533085|            5.04062|           5.484145|       6.5868522|            81.5|            46.0|           165.0|      0.209910165|      0.60990241|       -0.004423976|       299.39235|       298.79334|      0.0037210465|       0.40517684|      0.0161392565|       0.25663471|0.09415284708073625|0.2481577327087127|0.06318375328940291|0.09032578663909083|0.2549171339270624|0.18840978986846046|0.11144319859565201|0.29324402477658323|   null|    null|    null|    null|     null|             0.0|             0.47|             1.4|          305.59|          291.51|             386.3275|FLUXNET|       9|       SAV|       SA|        Aw|Tropical|         S|    -4.28917|     11.65642|\n",
            "| CG-Tch|      SAV|    6|         22.6295|          3.4925|          0.1385|     58.27694692|          -0.60437|          0.999653|        -0.6014295|          0.999653|           3.06881|           3.40794|            3.0739|           3.37129|           2.468855|            2.85687|           2.475915|            2.87977|       4.7603765|            58.0|            38.0|           121.5|      0.165442535|     0.485369425|       -0.003636863|      296.534455|      295.976135|       4.381175E-4|      0.354927435|       0.011184042|      0.162718075|0.09415284708073625|0.2481577327087127|0.06318375328940291|0.09032578663909083|0.2549171339270624|0.18840978986846046|0.11144319859565201|0.29324402477658323|   null|    null|    null|    null|     null|             0.0|            0.395|             0.9|          303.61|          291.33|             386.1425|FLUXNET|       9|       SAV|       SA|        Aw|Tropical|         S|    -4.28917|     11.65642|\n",
            "| CG-Tch|      SAV|    7|         21.7145|          3.8575|          0.0655|    48.054493155|          0.513693|          0.972446|        0.50825325|        0.97379025|        0.67838425|          0.986819|        0.66525925|          1.083918|         1.18767325|           1.433455|         1.17500375|          1.4828725|       4.8133691|           60.75|           38.75|           131.0|       0.04896109|   0.14500660125|       -0.003897473|       296.06148|      295.158005|      4.0413775E-4|      0.394222655|     0.00419324425|     0.1609908525|0.09415284708073625|0.2481577327087127|0.06318375328940291|0.09032578663909083|0.2549171339270624|0.18840978986846046|0.11144319859565201|0.29324402477658323|   null|    null|    null|    null|     null|             0.0|            0.225|           0.525|         307.305|          290.12|               383.67|FLUXNET|       9|       SAV|       SA|        Aw|Tropical|         S|    -4.28917|     11.65642|\n",
            "| CG-Tch|      SAV|    8|         21.9225|         3.62775|          0.1555|    44.857874095|         0.3781545|          0.997816|         0.3772525|          0.997816|        0.62707825|        0.83106625|        0.62225275|         0.8530855|           1.003344|          1.1753515|           0.996611|           1.260776|     4.272573825|           56.25|            39.5|          119.75|    0.01555125125|      0.04566756|     -0.00397380425|     296.6664825|       295.47047|      4.9462525E-4|     0.3937289475|      0.0014240775|     0.1737774275|0.09415284708073625|0.2481577327087127|0.06318375328940291|0.09032578663909083|0.2549171339270624|0.18840978986846046|0.11144319859565201|0.29324402477658323|   null|    null|    null|    null|     null|             0.0|           0.1975|            0.45|         311.345|         290.145|               382.87|FLUXNET|       9|       SAV|       SA|        Aw|Tropical|         S|    -4.28917|     11.65642|\n",
            "| CG-Tch|      SAV|    9|        22.91025|         3.50825|          0.4975|     48.48534288|         0.4071315|        0.98246525|          0.406676|        0.98385425|         0.5465985|        0.97330425|        0.54189675|        1.01369825|          0.9468435|         1.61204025|         0.94477025|           1.653265|     3.899200375|           59.75|            46.0|          120.75|     0.0098225195|   0.02812026625|     -0.00449258275|     298.0047025|     296.8279225|      8.1112075E-4|      0.465119995|     0.00170988375|     0.2349155925|0.09415284708073625|0.2481577327087127|0.06318375328940291|0.09032578663909083|0.2549171339270624|0.18840978986846046|0.11144319859565201|0.29324402477658323|   null|    null|    null|    null|     null|             0.0|            0.185|             0.4|          315.61|          290.58|              382.395|FLUXNET|       9|       SAV|       SA|        Aw|Tropical|         S|    -4.28917|     11.65642|\n",
            "| CG-Tch|      SAV|   10|         24.2965|         3.42375|         7.23125|   63.0653951625|         0.2887092|           0.96707|      0.2852325575|           0.96707|          1.849448|          2.248791|          1.860231|         2.2396885|           2.141815|          2.7671975|          2.1432625|           2.761705|       4.6409494|            66.5|           50.25|           127.5|      0.030229167|    0.0840448425|     -0.00518613475|       299.02821|      298.227245|     0.00332506575|      0.532291735|      0.0046308115|     0.2830667575|0.09415284708073625|0.2481577327087127|0.06318375328940291|0.09032578663909083|0.2549171339270624|0.18840978986846046|0.11144319859565201|0.29324402477658323|   null|    null|    null|    null|     null|             0.0|           0.2175|           0.525|         302.305|         293.045|            382.45875|FLUXNET|       9|       SAV|       SA|        Aw|Tropical|         S|    -4.28917|     11.65642|\n",
            "+-------+---------+-----+----------------+----------------+----------------+----------------+------------------+------------------+------------------+------------------+------------------+------------------+------------------+------------------+-------------------+-------------------+-------------------+-------------------+----------------+----------------+----------------+----------------+-----------------+----------------+-------------------+----------------+----------------+------------------+-----------------+------------------+-----------------+-------------------+------------------+-------------------+-------------------+------------------+-------------------+-------------------+-------------------+-------+--------+--------+--------+---------+----------------+-----------------+----------------+----------------+----------------+---------------------+-------+--------+----------+---------+----------+--------+----------+------------+-------------+\n",
            "only showing top 20 rows\n",
            "\n"
          ]
        }
      ]
    },
    {
      "cell_type": "code",
      "source": [
        "static_monthly_sdf.filter(static_monthly_sdf.GCI_avg.isNull()).groupBy(\"SITE_ID\").count().show()"
      ],
      "metadata": {
        "colab": {
          "base_uri": "https://localhost:8080/"
        },
        "id": "2YfCA15Drewg",
        "outputId": "f35efa35-c3c0-45df-bf6b-1b5131debb2d"
      },
      "execution_count": 397,
      "outputs": [
        {
          "output_type": "stream",
          "name": "stdout",
          "text": [
            "+-------+-----+\n",
            "|SITE_ID|count|\n",
            "+-------+-----+\n",
            "| CN-Cha|    1|\n",
            "| SE-Svb|    1|\n",
            "| BR-Sa3|    6|\n",
            "| SE-Ros|    2|\n",
            "| PA-SPn|    5|\n",
            "| IT-Tor|    1|\n",
            "| US-Ivo|    6|\n",
            "| CG-Tch|   11|\n",
            "| SE-Deg|    1|\n",
            "| SE-Lnn|    1|\n",
            "| FI-Var|    3|\n",
            "| GH-Ank|    8|\n",
            "| SJ-Adv|    4|\n",
            "| US-UMB|    1|\n",
            "| FI-Qvd|    1|\n",
            "| US-UMd|    1|\n",
            "| CH-Aws|    5|\n",
            "| CN-Din|    1|\n",
            "| US-Syv|    2|\n",
            "| FI-Lom|    3|\n",
            "+-------+-----+\n",
            "only showing top 20 rows\n",
            "\n"
          ]
        }
      ]
    },
    {
      "cell_type": "markdown",
      "source": [
        "### Impute with average across sites"
      ],
      "metadata": {
        "id": "ky35hwhqACCR"
      }
    },
    {
      "cell_type": "code",
      "source": [
        "static_monthly_sdf = static_monthly_sdf.fillna(value = static_monthly_sdf\n",
        "    .select(mean('GCI_avg')).head()[0],subset = ['GCI_avg'])"
      ],
      "metadata": {
        "id": "Jl-YwfkdACCS"
      },
      "execution_count": 398,
      "outputs": []
    },
    {
      "cell_type": "code",
      "source": [
        "static_monthly_sdf.filter(static_monthly_sdf.SITE_ID == 'CG-Tch').show()"
      ],
      "metadata": {
        "colab": {
          "base_uri": "https://localhost:8080/"
        },
        "outputId": "60e3cac7-396c-4739-f004-741a4a7c480d",
        "id": "TCtEDA6TACCS"
      },
      "execution_count": 399,
      "outputs": [
        {
          "output_type": "stream",
          "name": "stdout",
          "text": [
            "+-------+---------+-----+----------------+----------------+----------------+----------------+-----------------+------------------+-----------------+------------------+------------------+------------------+------------------+------------------+-------------------+-------------------+-------------------+-------------------+----------------+----------------+----------------+----------------+-----------------+-----------------+-------------------+----------------+----------------+-------------+-----------------+-------------+-------------+-------------------+------------------+-------------------+-------------------+------------------+-------------------+-------------------+-------------------+-----------------+--------+--------+--------+---------+----------------+-----------------+----------------+-----------+----------------+---------------------+-------+--------+----------+---------+----------+--------+----------+------------+-------------+\n",
            "|SITE_ID|SITE_IGBP|month|        TA_F_avg|       VPD_F_avg|         P_F_avg|      NETRAD_avg|  NEE_VUT_REF_avg|NEE_VUT_REF_QC_avg|  NEE_CUT_REF_avg|NEE_CUT_REF_QC_avg|GPP_NT_VUT_REF_avg|GPP_DT_VUT_REF_avg|GPP_NT_CUT_REF_avg|GPP_DT_CUT_REF_avg|RECO_NT_VUT_REF_avg|RECO_DT_VUT_REF_avg|RECO_NT_CUT_REF_avg|RECO_DT_CUT_REF_avg|          ET_avg|    BESS_PAR_avg|BESS_PARdiff_avg|   BESS_RSDN_avg|CSIF_SIFdaily_avg| CSIF_SIFinst_avg|            PET_avg|          Ts_avg|       Tmean_avg|     prcp_avg|          vpd_avg|prcp_lag3_avg|ESACCI_sm_avg|             b1_avg|            b2_avg|             b3_avg|             b4_avg|            b5_avg|             b6_avg|             b7_avg|            EVI_avg|          GCI_avg|NDVI_avg|NDWI_avg|NIRv_avg|kNDVI_avg|Percent_Snow_avg|         Fpar_avg|         Lai_avg|LST_Day_avg|   LST_Night_avg|CO2_concentration_avg|dataset|MODIS_LC|MODIS_IGBP|MODIS_PFT|koppen_sub|  koppen|hemisphere|LOCATION_LAT|LOCATION_LONG|\n",
            "+-------+---------+-----+----------------+----------------+----------------+----------------+-----------------+------------------+-----------------+------------------+------------------+------------------+------------------+------------------+-------------------+-------------------+-------------------+-------------------+----------------+----------------+----------------+----------------+-----------------+-----------------+-------------------+----------------+----------------+-------------+-----------------+-------------+-------------+-------------------+------------------+-------------------+-------------------+------------------+-------------------+-------------------+-------------------+-----------------+--------+--------+--------+---------+----------------+-----------------+----------------+-----------+----------------+---------------------+-------+--------+----------+---------+----------+--------+----------+------------+-------------+\n",
            "| CG-Tch|      SAV|    1|          25.077|           3.692|           4.165|     78.78630262|        -0.963938|          0.998656|        -0.975739|          0.999328|           5.06675|           5.96233|            5.0592|           5.92682|             4.1019|            5.40483|            4.08881|            5.36315|        7.604372|            87.0|            56.0|           171.0|       0.19039673|        0.5502555|       -0.004625119|       299.09644|       298.51752|   0.00619193|       0.41994953|  0.023520436|   0.26890516|0.09415284708073625|0.2481577327087127|0.06318375328940291|0.09032578663909083|0.2549171339270624|0.18840978986846046|0.11144319859565201|0.29324402477658323|2.780138120753199|    null|    null|    null|     null|             0.0|             0.48|             1.4|     306.06|          293.96|              383.875|FLUXNET|       9|       SAV|       SA|        Aw|Tropical|         S|    -4.28917|     11.65642|\n",
            "| CG-Tch|      SAV|    3|           26.28|            6.01|           3.621|     109.3945466|       -0.0436207|          0.981855|       -0.0801859|          0.984543|           3.78114|           4.57745|           3.77755|           4.56805|            3.73638|            4.64678|            3.72375|            4.61246|         8.24458|           103.0|            58.0|           205.0|       0.14162406|        0.4155562|       -0.005217791|       299.92426|       299.34476|  0.004573783|        0.4780943|  0.015857635|   0.27549294|0.09415284708073625|0.2481577327087127|0.06318375328940291|0.09032578663909083|0.2549171339270624|0.18840978986846046|0.11144319859565201|0.29324402477658323|2.780138120753199|    null|    null|    null|     null|             0.0|             0.42|             1.4|     313.86|           295.7|               384.18|FLUXNET|       9|       SAV|       SA|        Aw|Tropical|         S|    -4.28917|     11.65642|\n",
            "| CG-Tch|      SAV|    4|          26.005|            4.86|          6.5105|    102.04518632|       -1.0754925|          0.979167|        -1.125561|         0.9847225|          6.802165|          7.330865|            6.7953|          7.414985|            5.68705|           6.261805|            5.67086|            6.31742|      7.47345735|            99.5|            54.5|           197.0|      0.199507955|       0.58027448|      -0.0046831745|      299.812565|       299.21895|  0.007024879|       0.42578727|  0.019179416|  0.268158255|0.09415284708073625|0.2481577327087127|0.06318375328940291|0.09032578663909083|0.2549171339270624|0.18840978986846046|0.11144319859565201|0.29324402477658323|2.780138120753199|    null|    null|    null|     null|             0.0|            0.465|             1.4|     308.58|           295.1|              385.765|FLUXNET|       9|       SAV|       SA|        Aw|Tropical|         S|    -4.28917|     11.65642|\n",
            "| CG-Tch|      SAV|    5|         25.5655|          4.2385|          2.9815|     86.02576361|       -1.3328545|          0.997984|       -1.3341645|          0.997984|           6.39821|           6.83499|           6.40157|           6.83654|            5.05893|           5.533085|            5.04062|           5.484145|       6.5868522|            81.5|            46.0|           165.0|      0.209910165|       0.60990241|       -0.004423976|       299.39235|       298.79334| 0.0037210465|       0.40517684| 0.0161392565|   0.25663471|0.09415284708073625|0.2481577327087127|0.06318375328940291|0.09032578663909083|0.2549171339270624|0.18840978986846046|0.11144319859565201|0.29324402477658323|2.780138120753199|    null|    null|    null|     null|             0.0|             0.47|             1.4|     305.59|          291.51|             386.3275|FLUXNET|       9|       SAV|       SA|        Aw|Tropical|         S|    -4.28917|     11.65642|\n",
            "| CG-Tch|      SAV|    6|         22.6295|          3.4925|          0.1385|     58.27694692|         -0.60437|          0.999653|       -0.6014295|          0.999653|           3.06881|           3.40794|            3.0739|           3.37129|           2.468855|            2.85687|           2.475915|            2.87977|       4.7603765|            58.0|            38.0|           121.5|      0.165442535|      0.485369425|       -0.003636863|      296.534455|      295.976135|  4.381175E-4|      0.354927435|  0.011184042|  0.162718075|0.09415284708073625|0.2481577327087127|0.06318375328940291|0.09032578663909083|0.2549171339270624|0.18840978986846046|0.11144319859565201|0.29324402477658323|2.780138120753199|    null|    null|    null|     null|             0.0|            0.395|             0.9|     303.61|          291.33|             386.1425|FLUXNET|       9|       SAV|       SA|        Aw|Tropical|         S|    -4.28917|     11.65642|\n",
            "| CG-Tch|      SAV|    7|         21.7145|          3.8575|          0.0655|    48.054493155|         0.513693|          0.972446|       0.50825325|        0.97379025|        0.67838425|          0.986819|        0.66525925|          1.083918|         1.18767325|           1.433455|         1.17500375|          1.4828725|       4.8133691|           60.75|           38.75|           131.0|       0.04896109|    0.14500660125|       -0.003897473|       296.06148|      295.158005| 4.0413775E-4|      0.394222655|0.00419324425| 0.1609908525|0.09415284708073625|0.2481577327087127|0.06318375328940291|0.09032578663909083|0.2549171339270624|0.18840978986846046|0.11144319859565201|0.29324402477658323|2.780138120753199|    null|    null|    null|     null|             0.0|            0.225|           0.525|    307.305|          290.12|               383.67|FLUXNET|       9|       SAV|       SA|        Aw|Tropical|         S|    -4.28917|     11.65642|\n",
            "| CG-Tch|      SAV|    8|         21.9225|         3.62775|          0.1555|    44.857874095|        0.3781545|          0.997816|        0.3772525|          0.997816|        0.62707825|        0.83106625|        0.62225275|         0.8530855|           1.003344|          1.1753515|           0.996611|           1.260776|     4.272573825|           56.25|            39.5|          119.75|    0.01555125125|       0.04566756|     -0.00397380425|     296.6664825|       295.47047| 4.9462525E-4|     0.3937289475| 0.0014240775| 0.1737774275|0.09415284708073625|0.2481577327087127|0.06318375328940291|0.09032578663909083|0.2549171339270624|0.18840978986846046|0.11144319859565201|0.29324402477658323|2.780138120753199|    null|    null|    null|     null|             0.0|           0.1975|            0.45|    311.345|         290.145|               382.87|FLUXNET|       9|       SAV|       SA|        Aw|Tropical|         S|    -4.28917|     11.65642|\n",
            "| CG-Tch|      SAV|    9|        22.91025|         3.50825|          0.4975|     48.48534288|        0.4071315|        0.98246525|         0.406676|        0.98385425|         0.5465985|        0.97330425|        0.54189675|        1.01369825|          0.9468435|         1.61204025|         0.94477025|           1.653265|     3.899200375|           59.75|            46.0|          120.75|     0.0098225195|    0.02812026625|     -0.00449258275|     298.0047025|     296.8279225| 8.1112075E-4|      0.465119995|0.00170988375| 0.2349155925|0.09415284708073625|0.2481577327087127|0.06318375328940291|0.09032578663909083|0.2549171339270624|0.18840978986846046|0.11144319859565201|0.29324402477658323|2.780138120753199|    null|    null|    null|     null|             0.0|            0.185|             0.4|     315.61|          290.58|              382.395|FLUXNET|       9|       SAV|       SA|        Aw|Tropical|         S|    -4.28917|     11.65642|\n",
            "| CG-Tch|      SAV|   10|         24.2965|         3.42375|         7.23125|   63.0653951625|        0.2887092|           0.96707|     0.2852325575|           0.96707|          1.849448|          2.248791|          1.860231|         2.2396885|           2.141815|          2.7671975|          2.1432625|           2.761705|       4.6409494|            66.5|           50.25|           127.5|      0.030229167|     0.0840448425|     -0.00518613475|       299.02821|      298.227245|0.00332506575|      0.532291735| 0.0046308115| 0.2830667575|0.09415284708073625|0.2481577327087127|0.06318375328940291|0.09032578663909083|0.2549171339270624|0.18840978986846046|0.11144319859565201|0.29324402477658323|2.780138120753199|    null|    null|    null|     null|             0.0|           0.2175|           0.525|    302.305|         293.045|            382.45875|FLUXNET|       9|       SAV|       SA|        Aw|Tropical|         S|    -4.28917|     11.65642|\n",
            "| CG-Tch|      SAV|   11|          24.773|3.44966666666667|          12.598|84.4698082766667|        -1.144035| 0.932407333333333|        -1.149898| 0.935185333333333|  5.11813333333333|           5.77444|  5.13784333333333|  5.78285333333333|   3.96842666666667|            4.83468|   3.97716333333333|   4.89800666666667|6.29312376666667|89.3333333333333|56.3333333333333|173.333333333333|0.134091233333333|       0.37218675|       -0.004504795|298.843713333333|298.318486666667|  0.011564004|0.410595386666667|  0.016069377|   0.25752813|0.09415284708073625|0.2481577327087127|0.06318375328940291|0.09032578663909083|0.2549171339270624|0.18840978986846046|0.11144319859565201|0.29324402477658323|2.780138120753199|    null|    null|    null|     null|             0.0|0.426666666666667|1.36666666666667|      304.0|292.993333333333|     382.748333333333|FLUXNET|       9|       SAV|       SA|        Aw|Tropical|         S|    -4.28917|     11.65642|\n",
            "| CG-Tch|      SAV|   12|24.9516666666667|3.45466666666667|8.32766666666667|     77.83825157|-1.75918333333333| 0.977822666666667|-1.75823333333333| 0.978046666666667|  6.49100333333333|  7.23713666666667|  6.57951666666667|           7.23996|   4.75229333333333|   5.82915666666667|            4.80951|   5.85355333333333|7.24527806666667|82.6666666666667|54.3333333333333|162.333333333333|       0.21790926|0.615803313333333|-0.0042544256666666|298.847623333333|       298.32732|  0.008036378|0.377198766666667|  0.023245562|   0.27133414|0.09415284708073625|0.2481577327087127|0.06318375328940291|0.09032578663909083|0.2549171339270624|0.18840978986846046|0.11144319859565201|0.29324402477658323|2.780138120753199|    null|    null|    null|     null|             0.0|             0.53|             1.9|     301.06|294.033333333333|     383.498333333333|FLUXNET|       9|       SAV|       SA|        Aw|Tropical|         S|    -4.28917|     11.65642|\n",
            "+-------+---------+-----+----------------+----------------+----------------+----------------+-----------------+------------------+-----------------+------------------+------------------+------------------+------------------+------------------+-------------------+-------------------+-------------------+-------------------+----------------+----------------+----------------+----------------+-----------------+-----------------+-------------------+----------------+----------------+-------------+-----------------+-------------+-------------+-------------------+------------------+-------------------+-------------------+------------------+-------------------+-------------------+-------------------+-----------------+--------+--------+--------+---------+----------------+-----------------+----------------+-----------+----------------+---------------------+-------+--------+----------+---------+----------+--------+----------+------------+-------------+\n",
            "\n"
          ]
        }
      ]
    },
    {
      "cell_type": "markdown",
      "source": [
        "## `NDVI_avg`"
      ],
      "metadata": {
        "id": "rffcAKZ4re2N"
      }
    },
    {
      "cell_type": "code",
      "source": [
        "static_monthly_sdf.filter(static_monthly_sdf.NDVI_avg.isNull()).show()"
      ],
      "metadata": {
        "colab": {
          "base_uri": "https://localhost:8080/"
        },
        "outputId": "3695e9db-5b9f-4825-bd44-41b66988b4ad",
        "id": "H87z3nscAYR5"
      },
      "execution_count": 400,
      "outputs": [
        {
          "output_type": "stream",
          "name": "stdout",
          "text": [
            "+-------+---------+-----+----------------+----------------+----------------+----------------+------------------+------------------+------------------+------------------+------------------+------------------+------------------+------------------+-------------------+-------------------+-------------------+-------------------+----------------+----------------+----------------+----------------+-----------------+----------------+-------------------+----------------+----------------+------------------+-----------------+------------------+-----------------+-------------------+------------------+-------------------+-------------------+------------------+-------------------+-------------------+-------------------+-----------------+--------+--------+--------+---------+----------------+-----------------+----------------+----------------+----------------+---------------------+-------+--------+----------+---------+----------+--------+----------+------------+-------------+\n",
            "|SITE_ID|SITE_IGBP|month|        TA_F_avg|       VPD_F_avg|         P_F_avg|      NETRAD_avg|   NEE_VUT_REF_avg|NEE_VUT_REF_QC_avg|   NEE_CUT_REF_avg|NEE_CUT_REF_QC_avg|GPP_NT_VUT_REF_avg|GPP_DT_VUT_REF_avg|GPP_NT_CUT_REF_avg|GPP_DT_CUT_REF_avg|RECO_NT_VUT_REF_avg|RECO_DT_VUT_REF_avg|RECO_NT_CUT_REF_avg|RECO_DT_CUT_REF_avg|          ET_avg|    BESS_PAR_avg|BESS_PARdiff_avg|   BESS_RSDN_avg|CSIF_SIFdaily_avg|CSIF_SIFinst_avg|            PET_avg|          Ts_avg|       Tmean_avg|          prcp_avg|          vpd_avg|     prcp_lag3_avg|    ESACCI_sm_avg|             b1_avg|            b2_avg|             b3_avg|             b4_avg|            b5_avg|             b6_avg|             b7_avg|            EVI_avg|          GCI_avg|NDVI_avg|NDWI_avg|NIRv_avg|kNDVI_avg|Percent_Snow_avg|         Fpar_avg|         Lai_avg|     LST_Day_avg|   LST_Night_avg|CO2_concentration_avg|dataset|MODIS_LC|MODIS_IGBP|MODIS_PFT|koppen_sub|  koppen|hemisphere|LOCATION_LAT|LOCATION_LONG|\n",
            "+-------+---------+-----+----------------+----------------+----------------+----------------+------------------+------------------+------------------+------------------+------------------+------------------+------------------+------------------+-------------------+-------------------+-------------------+-------------------+----------------+----------------+----------------+----------------+-----------------+----------------+-------------------+----------------+----------------+------------------+-----------------+------------------+-----------------+-------------------+------------------+-------------------+-------------------+------------------+-------------------+-------------------+-------------------+-----------------+--------+--------+--------+---------+----------------+-----------------+----------------+----------------+----------------+---------------------+-------+--------+----------+---------+----------+--------+----------+------------+-------------+\n",
            "| BR-Sa1|      EBF|    2|         24.5932|          3.2596|         11.6638|   103.916001935|          0.752247|         0.9046388|          0.665946|         0.9064244|          9.152898|          9.985802|          9.121394|          9.503096|           9.918792|           11.67512|           9.812914|           10.79084|       9.1968518|            97.2|            66.0|           185.2|      0.436322878|     1.284513312|      -0.0079961852|      298.333916|       298.36571|      0.0159094596|      0.476067162|      0.0364197696|      0.357065588|0.09415284708073625|0.2481577327087127|0.06318375328940291|0.09032578663909083|0.2549171339270624|0.18840978986846046|0.11144319859565201|0.29324402477658323|2.780138120753199|    null|    null|    null|     null|             0.0|            0.722|            3.98|          299.02|         294.752|              379.342|FLUXNET|       2|       EBF|      EBF|        Am|Tropical|         S|    -2.85667|    -54.95889|\n",
            "| BR-Sa1|      EBF|    3|          24.663|          3.4598|           9.847|   112.197708785|         0.7480388|         0.8862902|        0.65718296|         0.8844088|          9.219016|         10.418144|          9.020962|           9.74782|            9.94018|          12.226194|            9.61147|          11.224752|        9.291345|            99.0|            63.8|           190.6|      0.464558814|      1.36629682|       -0.007662013|      298.400694|      298.449634|      0.0167185276|       0.47860039|      0.0447365062|       0.36418543|0.09415284708073625|0.2481577327087127|0.06318375328940291|0.09032578663909083|0.2549171339270624|0.18840978986846046|0.11144319859565201|0.29324402477658323|2.780138120753199|    null|    null|    null|     null|             0.0|            0.748|            4.38|         299.528|         294.912|              379.848|FLUXNET|       2|       EBF|      EBF|        Am|Tropical|         S|    -2.85667|    -54.95889|\n",
            "| BR-Sa1|      EBF|    4|        24.91125|           3.371|        10.52575|     116.1915743|        0.66139175|        0.93298625|        0.60177625|        0.93090275|         8.6765175|         9.7988725|         8.6270375|          9.575445|          9.3192325|         11.0331325|            9.25605|           10.78305|        8.915563|            98.0|           59.25|          188.75|     0.4144168875|     1.204944425|     -0.00649889825|     298.3763025|     298.4726825|     0.01875316925|     0.4250128725|       0.047241778|     0.3721353625|0.09415284708073625|0.2481577327087127|0.06318375328940291|0.09032578663909083|0.2549171339270624|0.18840978986846046|0.11144319859565201|0.29324402477658323|2.780138120753199|    null|    null|    null|     null|             0.0|           0.7475|            4.35|          298.24|          294.77|             381.7325|FLUXNET|       2|       EBF|      EBF|        Am|Tropical|         S|    -2.85667|    -54.95889|\n",
            "| BR-Sa1|      EBF|   11|         26.8992|          7.6816|           5.052|137.051523366667|        -1.3091478|         0.8869444|        -1.2806046|          0.878611|          9.841522|          10.21034|          9.394126|         10.582654|            8.69175|          10.312484|            8.05509|          10.413654|      11.3477482|            96.0|            50.8|           198.6|      0.463914644|      1.29419548|      -0.0121751948|      300.822084|      300.636158|      0.0050468194|      0.903766922|      0.0126276786|      0.258217536|0.09415284708073625|0.2481577327087127|0.06318375328940291|0.09032578663909083|0.2549171339270624|0.18840978986846046|0.11144319859565201|0.29324402477658323|2.780138120753199|    null|    null|    null|     null|             0.0|            0.788|             5.0|         301.524|         295.484|              377.088|FLUXNET|       2|       EBF|      EBF|        Am|Tropical|         S|    -2.85667|    -54.95889|\n",
            "| BR-Sa1|      EBF|   12|26.0522857142857|6.17171428571429|7.34928571428571|112.872759405714|-0.393712428571429| 0.920506857142857|         -0.320412| 0.915514714285714|  9.64429142857143|  10.0376671428571|  9.59727428571429|  9.64926285714286|   9.34510714285714|   10.2804628571429|   9.10579428571429|   10.0704314285714|10.5380442142857|94.5714285714286|55.5714285714286|187.428571428571|0.438690488571429|1.24734255714286|-0.0101647228571429|299.734795714286|299.651765714286|0.0092598214285714|0.711870374285714|0.0183790024285714|0.285550201428571|0.09415284708073625|0.2481577327087127|0.06318375328940291|0.09032578663909083|0.2549171339270624|0.18840978986846046|0.11144319859565201|0.29324402477658323|2.780138120753199|    null|    null|    null|     null|             0.0|0.792857142857143|4.94285714285714|300.765714285714|295.497142857143|              380.585|FLUXNET|       2|       EBF|      EBF|        Am|Tropical|         S|    -2.85667|    -54.95889|\n",
            "| BR-Sa3|      EBF|    1|25.0426666666667|           8.106|5.74533333333333|109.134329853333|-0.398124333333333| 0.934587666666667|-0.435013666666667| 0.935931666666667|  8.48076333333333|  10.0659466666667|           8.44135|  10.2428766666667|   8.04271666666667|            11.3558|   8.09660666666667|            11.4665|        8.556116|96.6666666666667|            61.0|           187.0|0.383164126666667|      1.11340111|-0.0063834043333333|298.760286666667|       298.66215|0.0109330623333333|0.581504056666667|       0.020362048|0.327775556666667|0.09415284708073625|               0.0|0.06318375328940291|0.09032578663909083|0.2549171339270624|0.18840978986846046|0.11144319859565201|0.29324402477658323|2.780138120753199|    null|    null|    null|     null|             0.0|0.736666666666667|             4.2|298.313333333333|295.206666666667|               371.41|FLUXNET|       2|       EBF|      EBF|        Am|Tropical|         S|    -3.01803|    -54.97144|\n",
            "| BR-Sa3|      EBF|    2|        24.65125|         7.48475|          7.5375|106.950809466667|           0.20834|        0.94233625|          0.169485|         0.9432535|         9.2071425|          10.32765|         9.2874725|        10.2942625|          9.4159425|          11.838325|          9.5240775|            11.8167|        8.274622|           101.0|           66.25|          193.25|     0.4229104975|     1.244580015|     -0.00567118825|      298.332155|      298.215265|      0.0131925825|      0.472393435|     0.03018732275|     0.3403658775|0.09415284708073625|               0.0|0.06318375328940291|0.09032578663909083|0.2549171339270624|0.18840978986846046|0.11144319859565201|0.29324402477658323|2.780138120753199|    null|    null|    null|     null|             0.0|            0.745|           4.525|         298.685|         294.865|            372.80875|FLUXNET|       2|       EBF|      EBF|        Am|Tropical|         S|    -3.01803|    -54.97144|\n",
            "| BR-Sa3|      EBF|    3|          24.728|6.69366666666667|5.91066666666667|      111.814632|          0.472336| 0.988575333333333| 0.337930066666667| 0.988575333333333|  9.41352333333333|           10.7614|  9.42615666666667|  10.5019666666667|   9.94390333333333|   12.0358666666667|   9.93540333333333|   12.4301333333333|8.51926766666667|           101.0|64.6666666666667|193.666666666667|0.424061546666667|      1.24682568|-0.0056861663333333|298.414683333333|298.309043333333|0.0122179656666667|0.491019646666667|0.0363624646666667|0.345974316666667|0.09415284708073625|               0.0|0.06318375328940291|0.09032578663909083|0.2549171339270624|0.18840978986846046|0.11144319859565201|0.29324402477658323|2.780138120753199|    null|    null|    null|     null|             0.0|0.763333333333333|4.66666666666667|299.046666666667|          294.86|               372.18|FLUXNET|       2|       EBF|      EBF|        Am|Tropical|         S|    -3.01803|    -54.97144|\n",
            "| BR-Sa3|      EBF|    4|         24.6335|          5.6485|           7.952|     120.3635711|         0.4114185|         0.9725695|         0.5914874|          0.973264|          9.330805|          9.178355|           9.26708|          8.861205|            9.71764|           9.216645|            9.76509|           9.457295|       8.6502985|            97.5|            58.0|           189.0|       0.42986619|      1.24997345|      -0.0050853675|      298.505635|      298.438615|       0.013383899|       0.44126245|      0.0388952085|        0.3575286|0.09415284708073625|0.2481577327087127|0.06318375328940291|0.09032578663909083|0.2549171339270624|0.18840978986846046|0.11144319859565201|0.29324402477658323|2.780138120753199|    null|    null|    null|     null|             0.0|             0.79|            5.25|          297.75|          294.02|              373.845|FLUXNET|       2|       EBF|      EBF|        Am|Tropical|         S|    -3.01803|    -54.97144|\n",
            "| BR-Sa3|      EBF|   11|           26.02|           8.127|           3.234|     119.0993865|         -0.905984|           0.99375|          -1.00822|          0.994444|           8.44961|           10.5931|           8.44073|           10.5627|            7.55947|            11.2076|            7.55947|            10.2874|        11.36252|            96.0|            52.0|           195.0|       0.45063403|       1.2562166|       -0.006906278|       299.91623|       299.77252|       0.004799206|        0.6671918|       0.014753038|       0.32659754|0.09415284708073625|0.2481577327087127|0.06318375328940291|0.09032578663909083|0.2549171339270624|0.18840978986846046|0.11144319859565201|0.29324402477658323|2.780138120753199|    null|    null|    null|     null|             0.0|             0.77|             4.6|          301.42|          294.62|              374.555|FLUXNET|       2|       EBF|      EBF|        Am|Tropical|         S|    -3.01803|    -54.97144|\n",
            "| BR-Sa3|      EBF|   12|          26.953|          11.786|           1.814|     124.2206446|        -0.4648364|          0.935484|        -0.4830845|          0.935484|           7.55138|          9.940925|          7.552585|          10.15451|            7.09759|            11.3655|           7.022155|           11.00485|       11.371528|            90.5|            56.5|           178.5|       0.42505756|       1.2077952|      -0.0077537595|      300.347335|       299.97152|      0.0058658995|       0.77426143|       0.011982961|      0.286874325|0.09415284708073625|0.2481577327087127|0.06318375328940291|0.09032578663909083|0.2549171339270624|0.18840978986846046|0.11144319859565201|0.29324402477658323|2.780138120753199|    null|    null|    null|     null|             0.0|            0.795|             4.6|          300.51|          295.54|             371.8375|FLUXNET|       2|       EBF|      EBF|        Am|Tropical|         S|    -3.01803|    -54.97144|\n",
            "| CG-Tch|      SAV|    1|          25.077|           3.692|           4.165|     78.78630262|         -0.963938|          0.998656|         -0.975739|          0.999328|           5.06675|           5.96233|            5.0592|           5.92682|             4.1019|            5.40483|            4.08881|            5.36315|        7.604372|            87.0|            56.0|           171.0|       0.19039673|       0.5502555|       -0.004625119|       299.09644|       298.51752|        0.00619193|       0.41994953|       0.023520436|       0.26890516|0.09415284708073625|0.2481577327087127|0.06318375328940291|0.09032578663909083|0.2549171339270624|0.18840978986846046|0.11144319859565201|0.29324402477658323|2.780138120753199|    null|    null|    null|     null|             0.0|             0.48|             1.4|          306.06|          293.96|              383.875|FLUXNET|       9|       SAV|       SA|        Aw|Tropical|         S|    -4.28917|     11.65642|\n",
            "| CG-Tch|      SAV|    3|           26.28|            6.01|           3.621|     109.3945466|        -0.0436207|          0.981855|        -0.0801859|          0.984543|           3.78114|           4.57745|           3.77755|           4.56805|            3.73638|            4.64678|            3.72375|            4.61246|         8.24458|           103.0|            58.0|           205.0|       0.14162406|       0.4155562|       -0.005217791|       299.92426|       299.34476|       0.004573783|        0.4780943|       0.015857635|       0.27549294|0.09415284708073625|0.2481577327087127|0.06318375328940291|0.09032578663909083|0.2549171339270624|0.18840978986846046|0.11144319859565201|0.29324402477658323|2.780138120753199|    null|    null|    null|     null|             0.0|             0.42|             1.4|          313.86|           295.7|               384.18|FLUXNET|       9|       SAV|       SA|        Aw|Tropical|         S|    -4.28917|     11.65642|\n",
            "| CG-Tch|      SAV|    4|          26.005|            4.86|          6.5105|    102.04518632|        -1.0754925|          0.979167|         -1.125561|         0.9847225|          6.802165|          7.330865|            6.7953|          7.414985|            5.68705|           6.261805|            5.67086|            6.31742|      7.47345735|            99.5|            54.5|           197.0|      0.199507955|      0.58027448|      -0.0046831745|      299.812565|       299.21895|       0.007024879|       0.42578727|       0.019179416|      0.268158255|0.09415284708073625|0.2481577327087127|0.06318375328940291|0.09032578663909083|0.2549171339270624|0.18840978986846046|0.11144319859565201|0.29324402477658323|2.780138120753199|    null|    null|    null|     null|             0.0|            0.465|             1.4|          308.58|           295.1|              385.765|FLUXNET|       9|       SAV|       SA|        Aw|Tropical|         S|    -4.28917|     11.65642|\n",
            "| CG-Tch|      SAV|    5|         25.5655|          4.2385|          2.9815|     86.02576361|        -1.3328545|          0.997984|        -1.3341645|          0.997984|           6.39821|           6.83499|           6.40157|           6.83654|            5.05893|           5.533085|            5.04062|           5.484145|       6.5868522|            81.5|            46.0|           165.0|      0.209910165|      0.60990241|       -0.004423976|       299.39235|       298.79334|      0.0037210465|       0.40517684|      0.0161392565|       0.25663471|0.09415284708073625|0.2481577327087127|0.06318375328940291|0.09032578663909083|0.2549171339270624|0.18840978986846046|0.11144319859565201|0.29324402477658323|2.780138120753199|    null|    null|    null|     null|             0.0|             0.47|             1.4|          305.59|          291.51|             386.3275|FLUXNET|       9|       SAV|       SA|        Aw|Tropical|         S|    -4.28917|     11.65642|\n",
            "| CG-Tch|      SAV|    6|         22.6295|          3.4925|          0.1385|     58.27694692|          -0.60437|          0.999653|        -0.6014295|          0.999653|           3.06881|           3.40794|            3.0739|           3.37129|           2.468855|            2.85687|           2.475915|            2.87977|       4.7603765|            58.0|            38.0|           121.5|      0.165442535|     0.485369425|       -0.003636863|      296.534455|      295.976135|       4.381175E-4|      0.354927435|       0.011184042|      0.162718075|0.09415284708073625|0.2481577327087127|0.06318375328940291|0.09032578663909083|0.2549171339270624|0.18840978986846046|0.11144319859565201|0.29324402477658323|2.780138120753199|    null|    null|    null|     null|             0.0|            0.395|             0.9|          303.61|          291.33|             386.1425|FLUXNET|       9|       SAV|       SA|        Aw|Tropical|         S|    -4.28917|     11.65642|\n",
            "| CG-Tch|      SAV|    7|         21.7145|          3.8575|          0.0655|    48.054493155|          0.513693|          0.972446|        0.50825325|        0.97379025|        0.67838425|          0.986819|        0.66525925|          1.083918|         1.18767325|           1.433455|         1.17500375|          1.4828725|       4.8133691|           60.75|           38.75|           131.0|       0.04896109|   0.14500660125|       -0.003897473|       296.06148|      295.158005|      4.0413775E-4|      0.394222655|     0.00419324425|     0.1609908525|0.09415284708073625|0.2481577327087127|0.06318375328940291|0.09032578663909083|0.2549171339270624|0.18840978986846046|0.11144319859565201|0.29324402477658323|2.780138120753199|    null|    null|    null|     null|             0.0|            0.225|           0.525|         307.305|          290.12|               383.67|FLUXNET|       9|       SAV|       SA|        Aw|Tropical|         S|    -4.28917|     11.65642|\n",
            "| CG-Tch|      SAV|    8|         21.9225|         3.62775|          0.1555|    44.857874095|         0.3781545|          0.997816|         0.3772525|          0.997816|        0.62707825|        0.83106625|        0.62225275|         0.8530855|           1.003344|          1.1753515|           0.996611|           1.260776|     4.272573825|           56.25|            39.5|          119.75|    0.01555125125|      0.04566756|     -0.00397380425|     296.6664825|       295.47047|      4.9462525E-4|     0.3937289475|      0.0014240775|     0.1737774275|0.09415284708073625|0.2481577327087127|0.06318375328940291|0.09032578663909083|0.2549171339270624|0.18840978986846046|0.11144319859565201|0.29324402477658323|2.780138120753199|    null|    null|    null|     null|             0.0|           0.1975|            0.45|         311.345|         290.145|               382.87|FLUXNET|       9|       SAV|       SA|        Aw|Tropical|         S|    -4.28917|     11.65642|\n",
            "| CG-Tch|      SAV|    9|        22.91025|         3.50825|          0.4975|     48.48534288|         0.4071315|        0.98246525|          0.406676|        0.98385425|         0.5465985|        0.97330425|        0.54189675|        1.01369825|          0.9468435|         1.61204025|         0.94477025|           1.653265|     3.899200375|           59.75|            46.0|          120.75|     0.0098225195|   0.02812026625|     -0.00449258275|     298.0047025|     296.8279225|      8.1112075E-4|      0.465119995|     0.00170988375|     0.2349155925|0.09415284708073625|0.2481577327087127|0.06318375328940291|0.09032578663909083|0.2549171339270624|0.18840978986846046|0.11144319859565201|0.29324402477658323|2.780138120753199|    null|    null|    null|     null|             0.0|            0.185|             0.4|          315.61|          290.58|              382.395|FLUXNET|       9|       SAV|       SA|        Aw|Tropical|         S|    -4.28917|     11.65642|\n",
            "| CG-Tch|      SAV|   10|         24.2965|         3.42375|         7.23125|   63.0653951625|         0.2887092|           0.96707|      0.2852325575|           0.96707|          1.849448|          2.248791|          1.860231|         2.2396885|           2.141815|          2.7671975|          2.1432625|           2.761705|       4.6409494|            66.5|           50.25|           127.5|      0.030229167|    0.0840448425|     -0.00518613475|       299.02821|      298.227245|     0.00332506575|      0.532291735|      0.0046308115|     0.2830667575|0.09415284708073625|0.2481577327087127|0.06318375328940291|0.09032578663909083|0.2549171339270624|0.18840978986846046|0.11144319859565201|0.29324402477658323|2.780138120753199|    null|    null|    null|     null|             0.0|           0.2175|           0.525|         302.305|         293.045|            382.45875|FLUXNET|       9|       SAV|       SA|        Aw|Tropical|         S|    -4.28917|     11.65642|\n",
            "+-------+---------+-----+----------------+----------------+----------------+----------------+------------------+------------------+------------------+------------------+------------------+------------------+------------------+------------------+-------------------+-------------------+-------------------+-------------------+----------------+----------------+----------------+----------------+-----------------+----------------+-------------------+----------------+----------------+------------------+-----------------+------------------+-----------------+-------------------+------------------+-------------------+-------------------+------------------+-------------------+-------------------+-------------------+-----------------+--------+--------+--------+---------+----------------+-----------------+----------------+----------------+----------------+---------------------+-------+--------+----------+---------+----------+--------+----------+------------+-------------+\n",
            "only showing top 20 rows\n",
            "\n"
          ]
        }
      ]
    },
    {
      "cell_type": "code",
      "source": [
        "static_monthly_sdf.filter(static_monthly_sdf.NDVI_avg.isNull()).groupBy(\"SITE_ID\").count().show()"
      ],
      "metadata": {
        "colab": {
          "base_uri": "https://localhost:8080/"
        },
        "outputId": "3857d63e-c748-44b8-e424-541f4f881fd4",
        "id": "s4KSCKouAYR6"
      },
      "execution_count": 401,
      "outputs": [
        {
          "output_type": "stream",
          "name": "stdout",
          "text": [
            "+-------+-----+\n",
            "|SITE_ID|count|\n",
            "+-------+-----+\n",
            "| CN-Cha|    1|\n",
            "| SE-Svb|    1|\n",
            "| BR-Sa3|    6|\n",
            "| SE-Ros|    2|\n",
            "| PA-SPn|    5|\n",
            "| IT-Tor|    1|\n",
            "| US-Ivo|    6|\n",
            "| CG-Tch|   11|\n",
            "| SE-Deg|    1|\n",
            "| SE-Lnn|    1|\n",
            "| FI-Var|    3|\n",
            "| GH-Ank|    8|\n",
            "| SJ-Adv|    4|\n",
            "| US-UMB|    1|\n",
            "| FI-Qvd|    1|\n",
            "| US-UMd|    1|\n",
            "| CH-Aws|    5|\n",
            "| CN-Din|    1|\n",
            "| US-Syv|    2|\n",
            "| FI-Lom|    3|\n",
            "+-------+-----+\n",
            "only showing top 20 rows\n",
            "\n"
          ]
        }
      ]
    },
    {
      "cell_type": "markdown",
      "source": [
        "### Impute with average across sites"
      ],
      "metadata": {
        "id": "kuardUNXAYR6"
      }
    },
    {
      "cell_type": "code",
      "source": [
        "static_monthly_sdf = static_monthly_sdf.fillna(value = static_monthly_sdf\n",
        "    .select(mean('NDVI_avg')).head()[0],subset = ['NDVI_avg'])"
      ],
      "metadata": {
        "id": "L3FRDoTZAYR6"
      },
      "execution_count": 402,
      "outputs": []
    },
    {
      "cell_type": "code",
      "source": [
        "static_monthly_sdf.filter(static_monthly_sdf.SITE_ID == 'CG-Tch').show()"
      ],
      "metadata": {
        "colab": {
          "base_uri": "https://localhost:8080/"
        },
        "outputId": "54c1cd98-99a2-45c6-942d-07cdeb79f792",
        "id": "J16FHStPAYR7"
      },
      "execution_count": 403,
      "outputs": [
        {
          "output_type": "stream",
          "name": "stdout",
          "text": [
            "+-------+---------+-----+----------------+----------------+----------------+----------------+-----------------+------------------+-----------------+------------------+------------------+------------------+------------------+------------------+-------------------+-------------------+-------------------+-------------------+----------------+----------------+----------------+----------------+-----------------+-----------------+-------------------+----------------+----------------+-------------+-----------------+-------------+-------------+-------------------+------------------+-------------------+-------------------+------------------+-------------------+-------------------+-------------------+-----------------+------------------+--------+--------+---------+----------------+-----------------+----------------+-----------+----------------+---------------------+-------+--------+----------+---------+----------+--------+----------+------------+-------------+\n",
            "|SITE_ID|SITE_IGBP|month|        TA_F_avg|       VPD_F_avg|         P_F_avg|      NETRAD_avg|  NEE_VUT_REF_avg|NEE_VUT_REF_QC_avg|  NEE_CUT_REF_avg|NEE_CUT_REF_QC_avg|GPP_NT_VUT_REF_avg|GPP_DT_VUT_REF_avg|GPP_NT_CUT_REF_avg|GPP_DT_CUT_REF_avg|RECO_NT_VUT_REF_avg|RECO_DT_VUT_REF_avg|RECO_NT_CUT_REF_avg|RECO_DT_CUT_REF_avg|          ET_avg|    BESS_PAR_avg|BESS_PARdiff_avg|   BESS_RSDN_avg|CSIF_SIFdaily_avg| CSIF_SIFinst_avg|            PET_avg|          Ts_avg|       Tmean_avg|     prcp_avg|          vpd_avg|prcp_lag3_avg|ESACCI_sm_avg|             b1_avg|            b2_avg|             b3_avg|             b4_avg|            b5_avg|             b6_avg|             b7_avg|            EVI_avg|          GCI_avg|          NDVI_avg|NDWI_avg|NIRv_avg|kNDVI_avg|Percent_Snow_avg|         Fpar_avg|         Lai_avg|LST_Day_avg|   LST_Night_avg|CO2_concentration_avg|dataset|MODIS_LC|MODIS_IGBP|MODIS_PFT|koppen_sub|  koppen|hemisphere|LOCATION_LAT|LOCATION_LONG|\n",
            "+-------+---------+-----+----------------+----------------+----------------+----------------+-----------------+------------------+-----------------+------------------+------------------+------------------+------------------+------------------+-------------------+-------------------+-------------------+-------------------+----------------+----------------+----------------+----------------+-----------------+-----------------+-------------------+----------------+----------------+-------------+-----------------+-------------+-------------+-------------------+------------------+-------------------+-------------------+------------------+-------------------+-------------------+-------------------+-----------------+------------------+--------+--------+---------+----------------+-----------------+----------------+-----------+----------------+---------------------+-------+--------+----------+---------+----------+--------+----------+------------+-------------+\n",
            "| CG-Tch|      SAV|    1|          25.077|           3.692|           4.165|     78.78630262|        -0.963938|          0.998656|        -0.975739|          0.999328|           5.06675|           5.96233|            5.0592|           5.92682|             4.1019|            5.40483|            4.08881|            5.36315|        7.604372|            87.0|            56.0|           171.0|       0.19039673|        0.5502555|       -0.004625119|       299.09644|       298.51752|   0.00619193|       0.41994953|  0.023520436|   0.26890516|0.09415284708073625|0.2481577327087127|0.06318375328940291|0.09032578663909083|0.2549171339270624|0.18840978986846046|0.11144319859565201|0.29324402477658323|2.780138120753199|0.5156758621963391|    null|    null|     null|             0.0|             0.48|             1.4|     306.06|          293.96|              383.875|FLUXNET|       9|       SAV|       SA|        Aw|Tropical|         S|    -4.28917|     11.65642|\n",
            "| CG-Tch|      SAV|    3|           26.28|            6.01|           3.621|     109.3945466|       -0.0436207|          0.981855|       -0.0801859|          0.984543|           3.78114|           4.57745|           3.77755|           4.56805|            3.73638|            4.64678|            3.72375|            4.61246|         8.24458|           103.0|            58.0|           205.0|       0.14162406|        0.4155562|       -0.005217791|       299.92426|       299.34476|  0.004573783|        0.4780943|  0.015857635|   0.27549294|0.09415284708073625|0.2481577327087127|0.06318375328940291|0.09032578663909083|0.2549171339270624|0.18840978986846046|0.11144319859565201|0.29324402477658323|2.780138120753199|0.5156758621963391|    null|    null|     null|             0.0|             0.42|             1.4|     313.86|           295.7|               384.18|FLUXNET|       9|       SAV|       SA|        Aw|Tropical|         S|    -4.28917|     11.65642|\n",
            "| CG-Tch|      SAV|    4|          26.005|            4.86|          6.5105|    102.04518632|       -1.0754925|          0.979167|        -1.125561|         0.9847225|          6.802165|          7.330865|            6.7953|          7.414985|            5.68705|           6.261805|            5.67086|            6.31742|      7.47345735|            99.5|            54.5|           197.0|      0.199507955|       0.58027448|      -0.0046831745|      299.812565|       299.21895|  0.007024879|       0.42578727|  0.019179416|  0.268158255|0.09415284708073625|0.2481577327087127|0.06318375328940291|0.09032578663909083|0.2549171339270624|0.18840978986846046|0.11144319859565201|0.29324402477658323|2.780138120753199|0.5156758621963391|    null|    null|     null|             0.0|            0.465|             1.4|     308.58|           295.1|              385.765|FLUXNET|       9|       SAV|       SA|        Aw|Tropical|         S|    -4.28917|     11.65642|\n",
            "| CG-Tch|      SAV|    5|         25.5655|          4.2385|          2.9815|     86.02576361|       -1.3328545|          0.997984|       -1.3341645|          0.997984|           6.39821|           6.83499|           6.40157|           6.83654|            5.05893|           5.533085|            5.04062|           5.484145|       6.5868522|            81.5|            46.0|           165.0|      0.209910165|       0.60990241|       -0.004423976|       299.39235|       298.79334| 0.0037210465|       0.40517684| 0.0161392565|   0.25663471|0.09415284708073625|0.2481577327087127|0.06318375328940291|0.09032578663909083|0.2549171339270624|0.18840978986846046|0.11144319859565201|0.29324402477658323|2.780138120753199|0.5156758621963391|    null|    null|     null|             0.0|             0.47|             1.4|     305.59|          291.51|             386.3275|FLUXNET|       9|       SAV|       SA|        Aw|Tropical|         S|    -4.28917|     11.65642|\n",
            "| CG-Tch|      SAV|    6|         22.6295|          3.4925|          0.1385|     58.27694692|         -0.60437|          0.999653|       -0.6014295|          0.999653|           3.06881|           3.40794|            3.0739|           3.37129|           2.468855|            2.85687|           2.475915|            2.87977|       4.7603765|            58.0|            38.0|           121.5|      0.165442535|      0.485369425|       -0.003636863|      296.534455|      295.976135|  4.381175E-4|      0.354927435|  0.011184042|  0.162718075|0.09415284708073625|0.2481577327087127|0.06318375328940291|0.09032578663909083|0.2549171339270624|0.18840978986846046|0.11144319859565201|0.29324402477658323|2.780138120753199|0.5156758621963391|    null|    null|     null|             0.0|            0.395|             0.9|     303.61|          291.33|             386.1425|FLUXNET|       9|       SAV|       SA|        Aw|Tropical|         S|    -4.28917|     11.65642|\n",
            "| CG-Tch|      SAV|    7|         21.7145|          3.8575|          0.0655|    48.054493155|         0.513693|          0.972446|       0.50825325|        0.97379025|        0.67838425|          0.986819|        0.66525925|          1.083918|         1.18767325|           1.433455|         1.17500375|          1.4828725|       4.8133691|           60.75|           38.75|           131.0|       0.04896109|    0.14500660125|       -0.003897473|       296.06148|      295.158005| 4.0413775E-4|      0.394222655|0.00419324425| 0.1609908525|0.09415284708073625|0.2481577327087127|0.06318375328940291|0.09032578663909083|0.2549171339270624|0.18840978986846046|0.11144319859565201|0.29324402477658323|2.780138120753199|0.5156758621963391|    null|    null|     null|             0.0|            0.225|           0.525|    307.305|          290.12|               383.67|FLUXNET|       9|       SAV|       SA|        Aw|Tropical|         S|    -4.28917|     11.65642|\n",
            "| CG-Tch|      SAV|    8|         21.9225|         3.62775|          0.1555|    44.857874095|        0.3781545|          0.997816|        0.3772525|          0.997816|        0.62707825|        0.83106625|        0.62225275|         0.8530855|           1.003344|          1.1753515|           0.996611|           1.260776|     4.272573825|           56.25|            39.5|          119.75|    0.01555125125|       0.04566756|     -0.00397380425|     296.6664825|       295.47047| 4.9462525E-4|     0.3937289475| 0.0014240775| 0.1737774275|0.09415284708073625|0.2481577327087127|0.06318375328940291|0.09032578663909083|0.2549171339270624|0.18840978986846046|0.11144319859565201|0.29324402477658323|2.780138120753199|0.5156758621963391|    null|    null|     null|             0.0|           0.1975|            0.45|    311.345|         290.145|               382.87|FLUXNET|       9|       SAV|       SA|        Aw|Tropical|         S|    -4.28917|     11.65642|\n",
            "| CG-Tch|      SAV|    9|        22.91025|         3.50825|          0.4975|     48.48534288|        0.4071315|        0.98246525|         0.406676|        0.98385425|         0.5465985|        0.97330425|        0.54189675|        1.01369825|          0.9468435|         1.61204025|         0.94477025|           1.653265|     3.899200375|           59.75|            46.0|          120.75|     0.0098225195|    0.02812026625|     -0.00449258275|     298.0047025|     296.8279225| 8.1112075E-4|      0.465119995|0.00170988375| 0.2349155925|0.09415284708073625|0.2481577327087127|0.06318375328940291|0.09032578663909083|0.2549171339270624|0.18840978986846046|0.11144319859565201|0.29324402477658323|2.780138120753199|0.5156758621963391|    null|    null|     null|             0.0|            0.185|             0.4|     315.61|          290.58|              382.395|FLUXNET|       9|       SAV|       SA|        Aw|Tropical|         S|    -4.28917|     11.65642|\n",
            "| CG-Tch|      SAV|   10|         24.2965|         3.42375|         7.23125|   63.0653951625|        0.2887092|           0.96707|     0.2852325575|           0.96707|          1.849448|          2.248791|          1.860231|         2.2396885|           2.141815|          2.7671975|          2.1432625|           2.761705|       4.6409494|            66.5|           50.25|           127.5|      0.030229167|     0.0840448425|     -0.00518613475|       299.02821|      298.227245|0.00332506575|      0.532291735| 0.0046308115| 0.2830667575|0.09415284708073625|0.2481577327087127|0.06318375328940291|0.09032578663909083|0.2549171339270624|0.18840978986846046|0.11144319859565201|0.29324402477658323|2.780138120753199|0.5156758621963391|    null|    null|     null|             0.0|           0.2175|           0.525|    302.305|         293.045|            382.45875|FLUXNET|       9|       SAV|       SA|        Aw|Tropical|         S|    -4.28917|     11.65642|\n",
            "| CG-Tch|      SAV|   11|          24.773|3.44966666666667|          12.598|84.4698082766667|        -1.144035| 0.932407333333333|        -1.149898| 0.935185333333333|  5.11813333333333|           5.77444|  5.13784333333333|  5.78285333333333|   3.96842666666667|            4.83468|   3.97716333333333|   4.89800666666667|6.29312376666667|89.3333333333333|56.3333333333333|173.333333333333|0.134091233333333|       0.37218675|       -0.004504795|298.843713333333|298.318486666667|  0.011564004|0.410595386666667|  0.016069377|   0.25752813|0.09415284708073625|0.2481577327087127|0.06318375328940291|0.09032578663909083|0.2549171339270624|0.18840978986846046|0.11144319859565201|0.29324402477658323|2.780138120753199|0.5156758621963391|    null|    null|     null|             0.0|0.426666666666667|1.36666666666667|      304.0|292.993333333333|     382.748333333333|FLUXNET|       9|       SAV|       SA|        Aw|Tropical|         S|    -4.28917|     11.65642|\n",
            "| CG-Tch|      SAV|   12|24.9516666666667|3.45466666666667|8.32766666666667|     77.83825157|-1.75918333333333| 0.977822666666667|-1.75823333333333| 0.978046666666667|  6.49100333333333|  7.23713666666667|  6.57951666666667|           7.23996|   4.75229333333333|   5.82915666666667|            4.80951|   5.85355333333333|7.24527806666667|82.6666666666667|54.3333333333333|162.333333333333|       0.21790926|0.615803313333333|-0.0042544256666666|298.847623333333|       298.32732|  0.008036378|0.377198766666667|  0.023245562|   0.27133414|0.09415284708073625|0.2481577327087127|0.06318375328940291|0.09032578663909083|0.2549171339270624|0.18840978986846046|0.11144319859565201|0.29324402477658323|2.780138120753199|0.5156758621963391|    null|    null|     null|             0.0|             0.53|             1.9|     301.06|294.033333333333|     383.498333333333|FLUXNET|       9|       SAV|       SA|        Aw|Tropical|         S|    -4.28917|     11.65642|\n",
            "+-------+---------+-----+----------------+----------------+----------------+----------------+-----------------+------------------+-----------------+------------------+------------------+------------------+------------------+------------------+-------------------+-------------------+-------------------+-------------------+----------------+----------------+----------------+----------------+-----------------+-----------------+-------------------+----------------+----------------+-------------+-----------------+-------------+-------------+-------------------+------------------+-------------------+-------------------+------------------+-------------------+-------------------+-------------------+-----------------+------------------+--------+--------+---------+----------------+-----------------+----------------+-----------+----------------+---------------------+-------+--------+----------+---------+----------+--------+----------+------------+-------------+\n",
            "\n"
          ]
        }
      ]
    },
    {
      "cell_type": "markdown",
      "source": [
        "## `NDWI_avg`"
      ],
      "metadata": {
        "id": "T_tAOmDgre5k"
      }
    },
    {
      "cell_type": "code",
      "source": [
        "static_monthly_sdf.filter(static_monthly_sdf.NDWI_avg.isNull()).show()"
      ],
      "metadata": {
        "colab": {
          "base_uri": "https://localhost:8080/"
        },
        "id": "EpDlujwkre5l",
        "outputId": "c9ae373a-dc84-49bf-d011-dd7fe6eb5233"
      },
      "execution_count": 404,
      "outputs": [
        {
          "output_type": "stream",
          "name": "stdout",
          "text": [
            "+-------+---------+-----+----------------+----------------+----------------+----------------+------------------+------------------+------------------+------------------+------------------+------------------+------------------+------------------+-------------------+-------------------+-------------------+-------------------+----------------+----------------+----------------+----------------+-----------------+----------------+-------------------+----------------+----------------+------------------+-----------------+------------------+-----------------+-------------------+------------------+-------------------+-------------------+------------------+-------------------+-------------------+-------------------+-----------------+------------------+--------+--------+---------+----------------+-----------------+----------------+----------------+----------------+---------------------+-------+--------+----------+---------+----------+--------+----------+------------+-------------+\n",
            "|SITE_ID|SITE_IGBP|month|        TA_F_avg|       VPD_F_avg|         P_F_avg|      NETRAD_avg|   NEE_VUT_REF_avg|NEE_VUT_REF_QC_avg|   NEE_CUT_REF_avg|NEE_CUT_REF_QC_avg|GPP_NT_VUT_REF_avg|GPP_DT_VUT_REF_avg|GPP_NT_CUT_REF_avg|GPP_DT_CUT_REF_avg|RECO_NT_VUT_REF_avg|RECO_DT_VUT_REF_avg|RECO_NT_CUT_REF_avg|RECO_DT_CUT_REF_avg|          ET_avg|    BESS_PAR_avg|BESS_PARdiff_avg|   BESS_RSDN_avg|CSIF_SIFdaily_avg|CSIF_SIFinst_avg|            PET_avg|          Ts_avg|       Tmean_avg|          prcp_avg|          vpd_avg|     prcp_lag3_avg|    ESACCI_sm_avg|             b1_avg|            b2_avg|             b3_avg|             b4_avg|            b5_avg|             b6_avg|             b7_avg|            EVI_avg|          GCI_avg|          NDVI_avg|NDWI_avg|NIRv_avg|kNDVI_avg|Percent_Snow_avg|         Fpar_avg|         Lai_avg|     LST_Day_avg|   LST_Night_avg|CO2_concentration_avg|dataset|MODIS_LC|MODIS_IGBP|MODIS_PFT|koppen_sub|  koppen|hemisphere|LOCATION_LAT|LOCATION_LONG|\n",
            "+-------+---------+-----+----------------+----------------+----------------+----------------+------------------+------------------+------------------+------------------+------------------+------------------+------------------+------------------+-------------------+-------------------+-------------------+-------------------+----------------+----------------+----------------+----------------+-----------------+----------------+-------------------+----------------+----------------+------------------+-----------------+------------------+-----------------+-------------------+------------------+-------------------+-------------------+------------------+-------------------+-------------------+-------------------+-----------------+------------------+--------+--------+---------+----------------+-----------------+----------------+----------------+----------------+---------------------+-------+--------+----------+---------+----------+--------+----------+------------+-------------+\n",
            "| BR-Sa1|      EBF|    2|         24.5932|          3.2596|         11.6638|   103.916001935|          0.752247|         0.9046388|          0.665946|         0.9064244|          9.152898|          9.985802|          9.121394|          9.503096|           9.918792|           11.67512|           9.812914|           10.79084|       9.1968518|            97.2|            66.0|           185.2|      0.436322878|     1.284513312|      -0.0079961852|      298.333916|       298.36571|      0.0159094596|      0.476067162|      0.0364197696|      0.357065588|0.09415284708073625|0.2481577327087127|0.06318375328940291|0.09032578663909083|0.2549171339270624|0.18840978986846046|0.11144319859565201|0.29324402477658323|2.780138120753199|0.5156758621963391|    null|    null|     null|             0.0|            0.722|            3.98|          299.02|         294.752|              379.342|FLUXNET|       2|       EBF|      EBF|        Am|Tropical|         S|    -2.85667|    -54.95889|\n",
            "| BR-Sa1|      EBF|    3|          24.663|          3.4598|           9.847|   112.197708785|         0.7480388|         0.8862902|        0.65718296|         0.8844088|          9.219016|         10.418144|          9.020962|           9.74782|            9.94018|          12.226194|            9.61147|          11.224752|        9.291345|            99.0|            63.8|           190.6|      0.464558814|      1.36629682|       -0.007662013|      298.400694|      298.449634|      0.0167185276|       0.47860039|      0.0447365062|       0.36418543|0.09415284708073625|0.2481577327087127|0.06318375328940291|0.09032578663909083|0.2549171339270624|0.18840978986846046|0.11144319859565201|0.29324402477658323|2.780138120753199|0.5156758621963391|    null|    null|     null|             0.0|            0.748|            4.38|         299.528|         294.912|              379.848|FLUXNET|       2|       EBF|      EBF|        Am|Tropical|         S|    -2.85667|    -54.95889|\n",
            "| BR-Sa1|      EBF|    4|        24.91125|           3.371|        10.52575|     116.1915743|        0.66139175|        0.93298625|        0.60177625|        0.93090275|         8.6765175|         9.7988725|         8.6270375|          9.575445|          9.3192325|         11.0331325|            9.25605|           10.78305|        8.915563|            98.0|           59.25|          188.75|     0.4144168875|     1.204944425|     -0.00649889825|     298.3763025|     298.4726825|     0.01875316925|     0.4250128725|       0.047241778|     0.3721353625|0.09415284708073625|0.2481577327087127|0.06318375328940291|0.09032578663909083|0.2549171339270624|0.18840978986846046|0.11144319859565201|0.29324402477658323|2.780138120753199|0.5156758621963391|    null|    null|     null|             0.0|           0.7475|            4.35|          298.24|          294.77|             381.7325|FLUXNET|       2|       EBF|      EBF|        Am|Tropical|         S|    -2.85667|    -54.95889|\n",
            "| BR-Sa1|      EBF|   11|         26.8992|          7.6816|           5.052|137.051523366667|        -1.3091478|         0.8869444|        -1.2806046|          0.878611|          9.841522|          10.21034|          9.394126|         10.582654|            8.69175|          10.312484|            8.05509|          10.413654|      11.3477482|            96.0|            50.8|           198.6|      0.463914644|      1.29419548|      -0.0121751948|      300.822084|      300.636158|      0.0050468194|      0.903766922|      0.0126276786|      0.258217536|0.09415284708073625|0.2481577327087127|0.06318375328940291|0.09032578663909083|0.2549171339270624|0.18840978986846046|0.11144319859565201|0.29324402477658323|2.780138120753199|0.5156758621963391|    null|    null|     null|             0.0|            0.788|             5.0|         301.524|         295.484|              377.088|FLUXNET|       2|       EBF|      EBF|        Am|Tropical|         S|    -2.85667|    -54.95889|\n",
            "| BR-Sa1|      EBF|   12|26.0522857142857|6.17171428571429|7.34928571428571|112.872759405714|-0.393712428571429| 0.920506857142857|         -0.320412| 0.915514714285714|  9.64429142857143|  10.0376671428571|  9.59727428571429|  9.64926285714286|   9.34510714285714|   10.2804628571429|   9.10579428571429|   10.0704314285714|10.5380442142857|94.5714285714286|55.5714285714286|187.428571428571|0.438690488571429|1.24734255714286|-0.0101647228571429|299.734795714286|299.651765714286|0.0092598214285714|0.711870374285714|0.0183790024285714|0.285550201428571|0.09415284708073625|0.2481577327087127|0.06318375328940291|0.09032578663909083|0.2549171339270624|0.18840978986846046|0.11144319859565201|0.29324402477658323|2.780138120753199|0.5156758621963391|    null|    null|     null|             0.0|0.792857142857143|4.94285714285714|300.765714285714|295.497142857143|              380.585|FLUXNET|       2|       EBF|      EBF|        Am|Tropical|         S|    -2.85667|    -54.95889|\n",
            "| BR-Sa3|      EBF|    1|25.0426666666667|           8.106|5.74533333333333|109.134329853333|-0.398124333333333| 0.934587666666667|-0.435013666666667| 0.935931666666667|  8.48076333333333|  10.0659466666667|           8.44135|  10.2428766666667|   8.04271666666667|            11.3558|   8.09660666666667|            11.4665|        8.556116|96.6666666666667|            61.0|           187.0|0.383164126666667|      1.11340111|-0.0063834043333333|298.760286666667|       298.66215|0.0109330623333333|0.581504056666667|       0.020362048|0.327775556666667|0.09415284708073625|               0.0|0.06318375328940291|0.09032578663909083|0.2549171339270624|0.18840978986846046|0.11144319859565201|0.29324402477658323|2.780138120753199|0.5156758621963391|    null|    null|     null|             0.0|0.736666666666667|             4.2|298.313333333333|295.206666666667|               371.41|FLUXNET|       2|       EBF|      EBF|        Am|Tropical|         S|    -3.01803|    -54.97144|\n",
            "| BR-Sa3|      EBF|    2|        24.65125|         7.48475|          7.5375|106.950809466667|           0.20834|        0.94233625|          0.169485|         0.9432535|         9.2071425|          10.32765|         9.2874725|        10.2942625|          9.4159425|          11.838325|          9.5240775|            11.8167|        8.274622|           101.0|           66.25|          193.25|     0.4229104975|     1.244580015|     -0.00567118825|      298.332155|      298.215265|      0.0131925825|      0.472393435|     0.03018732275|     0.3403658775|0.09415284708073625|               0.0|0.06318375328940291|0.09032578663909083|0.2549171339270624|0.18840978986846046|0.11144319859565201|0.29324402477658323|2.780138120753199|0.5156758621963391|    null|    null|     null|             0.0|            0.745|           4.525|         298.685|         294.865|            372.80875|FLUXNET|       2|       EBF|      EBF|        Am|Tropical|         S|    -3.01803|    -54.97144|\n",
            "| BR-Sa3|      EBF|    3|          24.728|6.69366666666667|5.91066666666667|      111.814632|          0.472336| 0.988575333333333| 0.337930066666667| 0.988575333333333|  9.41352333333333|           10.7614|  9.42615666666667|  10.5019666666667|   9.94390333333333|   12.0358666666667|   9.93540333333333|   12.4301333333333|8.51926766666667|           101.0|64.6666666666667|193.666666666667|0.424061546666667|      1.24682568|-0.0056861663333333|298.414683333333|298.309043333333|0.0122179656666667|0.491019646666667|0.0363624646666667|0.345974316666667|0.09415284708073625|               0.0|0.06318375328940291|0.09032578663909083|0.2549171339270624|0.18840978986846046|0.11144319859565201|0.29324402477658323|2.780138120753199|0.5156758621963391|    null|    null|     null|             0.0|0.763333333333333|4.66666666666667|299.046666666667|          294.86|               372.18|FLUXNET|       2|       EBF|      EBF|        Am|Tropical|         S|    -3.01803|    -54.97144|\n",
            "| BR-Sa3|      EBF|    4|         24.6335|          5.6485|           7.952|     120.3635711|         0.4114185|         0.9725695|         0.5914874|          0.973264|          9.330805|          9.178355|           9.26708|          8.861205|            9.71764|           9.216645|            9.76509|           9.457295|       8.6502985|            97.5|            58.0|           189.0|       0.42986619|      1.24997345|      -0.0050853675|      298.505635|      298.438615|       0.013383899|       0.44126245|      0.0388952085|        0.3575286|0.09415284708073625|0.2481577327087127|0.06318375328940291|0.09032578663909083|0.2549171339270624|0.18840978986846046|0.11144319859565201|0.29324402477658323|2.780138120753199|0.5156758621963391|    null|    null|     null|             0.0|             0.79|            5.25|          297.75|          294.02|              373.845|FLUXNET|       2|       EBF|      EBF|        Am|Tropical|         S|    -3.01803|    -54.97144|\n",
            "| BR-Sa3|      EBF|   11|           26.02|           8.127|           3.234|     119.0993865|         -0.905984|           0.99375|          -1.00822|          0.994444|           8.44961|           10.5931|           8.44073|           10.5627|            7.55947|            11.2076|            7.55947|            10.2874|        11.36252|            96.0|            52.0|           195.0|       0.45063403|       1.2562166|       -0.006906278|       299.91623|       299.77252|       0.004799206|        0.6671918|       0.014753038|       0.32659754|0.09415284708073625|0.2481577327087127|0.06318375328940291|0.09032578663909083|0.2549171339270624|0.18840978986846046|0.11144319859565201|0.29324402477658323|2.780138120753199|0.5156758621963391|    null|    null|     null|             0.0|             0.77|             4.6|          301.42|          294.62|              374.555|FLUXNET|       2|       EBF|      EBF|        Am|Tropical|         S|    -3.01803|    -54.97144|\n",
            "| BR-Sa3|      EBF|   12|          26.953|          11.786|           1.814|     124.2206446|        -0.4648364|          0.935484|        -0.4830845|          0.935484|           7.55138|          9.940925|          7.552585|          10.15451|            7.09759|            11.3655|           7.022155|           11.00485|       11.371528|            90.5|            56.5|           178.5|       0.42505756|       1.2077952|      -0.0077537595|      300.347335|       299.97152|      0.0058658995|       0.77426143|       0.011982961|      0.286874325|0.09415284708073625|0.2481577327087127|0.06318375328940291|0.09032578663909083|0.2549171339270624|0.18840978986846046|0.11144319859565201|0.29324402477658323|2.780138120753199|0.5156758621963391|    null|    null|     null|             0.0|            0.795|             4.6|          300.51|          295.54|             371.8375|FLUXNET|       2|       EBF|      EBF|        Am|Tropical|         S|    -3.01803|    -54.97144|\n",
            "| CG-Tch|      SAV|    1|          25.077|           3.692|           4.165|     78.78630262|         -0.963938|          0.998656|         -0.975739|          0.999328|           5.06675|           5.96233|            5.0592|           5.92682|             4.1019|            5.40483|            4.08881|            5.36315|        7.604372|            87.0|            56.0|           171.0|       0.19039673|       0.5502555|       -0.004625119|       299.09644|       298.51752|        0.00619193|       0.41994953|       0.023520436|       0.26890516|0.09415284708073625|0.2481577327087127|0.06318375328940291|0.09032578663909083|0.2549171339270624|0.18840978986846046|0.11144319859565201|0.29324402477658323|2.780138120753199|0.5156758621963391|    null|    null|     null|             0.0|             0.48|             1.4|          306.06|          293.96|              383.875|FLUXNET|       9|       SAV|       SA|        Aw|Tropical|         S|    -4.28917|     11.65642|\n",
            "| CG-Tch|      SAV|    3|           26.28|            6.01|           3.621|     109.3945466|        -0.0436207|          0.981855|        -0.0801859|          0.984543|           3.78114|           4.57745|           3.77755|           4.56805|            3.73638|            4.64678|            3.72375|            4.61246|         8.24458|           103.0|            58.0|           205.0|       0.14162406|       0.4155562|       -0.005217791|       299.92426|       299.34476|       0.004573783|        0.4780943|       0.015857635|       0.27549294|0.09415284708073625|0.2481577327087127|0.06318375328940291|0.09032578663909083|0.2549171339270624|0.18840978986846046|0.11144319859565201|0.29324402477658323|2.780138120753199|0.5156758621963391|    null|    null|     null|             0.0|             0.42|             1.4|          313.86|           295.7|               384.18|FLUXNET|       9|       SAV|       SA|        Aw|Tropical|         S|    -4.28917|     11.65642|\n",
            "| CG-Tch|      SAV|    4|          26.005|            4.86|          6.5105|    102.04518632|        -1.0754925|          0.979167|         -1.125561|         0.9847225|          6.802165|          7.330865|            6.7953|          7.414985|            5.68705|           6.261805|            5.67086|            6.31742|      7.47345735|            99.5|            54.5|           197.0|      0.199507955|      0.58027448|      -0.0046831745|      299.812565|       299.21895|       0.007024879|       0.42578727|       0.019179416|      0.268158255|0.09415284708073625|0.2481577327087127|0.06318375328940291|0.09032578663909083|0.2549171339270624|0.18840978986846046|0.11144319859565201|0.29324402477658323|2.780138120753199|0.5156758621963391|    null|    null|     null|             0.0|            0.465|             1.4|          308.58|           295.1|              385.765|FLUXNET|       9|       SAV|       SA|        Aw|Tropical|         S|    -4.28917|     11.65642|\n",
            "| CG-Tch|      SAV|    5|         25.5655|          4.2385|          2.9815|     86.02576361|        -1.3328545|          0.997984|        -1.3341645|          0.997984|           6.39821|           6.83499|           6.40157|           6.83654|            5.05893|           5.533085|            5.04062|           5.484145|       6.5868522|            81.5|            46.0|           165.0|      0.209910165|      0.60990241|       -0.004423976|       299.39235|       298.79334|      0.0037210465|       0.40517684|      0.0161392565|       0.25663471|0.09415284708073625|0.2481577327087127|0.06318375328940291|0.09032578663909083|0.2549171339270624|0.18840978986846046|0.11144319859565201|0.29324402477658323|2.780138120753199|0.5156758621963391|    null|    null|     null|             0.0|             0.47|             1.4|          305.59|          291.51|             386.3275|FLUXNET|       9|       SAV|       SA|        Aw|Tropical|         S|    -4.28917|     11.65642|\n",
            "| CG-Tch|      SAV|    6|         22.6295|          3.4925|          0.1385|     58.27694692|          -0.60437|          0.999653|        -0.6014295|          0.999653|           3.06881|           3.40794|            3.0739|           3.37129|           2.468855|            2.85687|           2.475915|            2.87977|       4.7603765|            58.0|            38.0|           121.5|      0.165442535|     0.485369425|       -0.003636863|      296.534455|      295.976135|       4.381175E-4|      0.354927435|       0.011184042|      0.162718075|0.09415284708073625|0.2481577327087127|0.06318375328940291|0.09032578663909083|0.2549171339270624|0.18840978986846046|0.11144319859565201|0.29324402477658323|2.780138120753199|0.5156758621963391|    null|    null|     null|             0.0|            0.395|             0.9|          303.61|          291.33|             386.1425|FLUXNET|       9|       SAV|       SA|        Aw|Tropical|         S|    -4.28917|     11.65642|\n",
            "| CG-Tch|      SAV|    7|         21.7145|          3.8575|          0.0655|    48.054493155|          0.513693|          0.972446|        0.50825325|        0.97379025|        0.67838425|          0.986819|        0.66525925|          1.083918|         1.18767325|           1.433455|         1.17500375|          1.4828725|       4.8133691|           60.75|           38.75|           131.0|       0.04896109|   0.14500660125|       -0.003897473|       296.06148|      295.158005|      4.0413775E-4|      0.394222655|     0.00419324425|     0.1609908525|0.09415284708073625|0.2481577327087127|0.06318375328940291|0.09032578663909083|0.2549171339270624|0.18840978986846046|0.11144319859565201|0.29324402477658323|2.780138120753199|0.5156758621963391|    null|    null|     null|             0.0|            0.225|           0.525|         307.305|          290.12|               383.67|FLUXNET|       9|       SAV|       SA|        Aw|Tropical|         S|    -4.28917|     11.65642|\n",
            "| CG-Tch|      SAV|    8|         21.9225|         3.62775|          0.1555|    44.857874095|         0.3781545|          0.997816|         0.3772525|          0.997816|        0.62707825|        0.83106625|        0.62225275|         0.8530855|           1.003344|          1.1753515|           0.996611|           1.260776|     4.272573825|           56.25|            39.5|          119.75|    0.01555125125|      0.04566756|     -0.00397380425|     296.6664825|       295.47047|      4.9462525E-4|     0.3937289475|      0.0014240775|     0.1737774275|0.09415284708073625|0.2481577327087127|0.06318375328940291|0.09032578663909083|0.2549171339270624|0.18840978986846046|0.11144319859565201|0.29324402477658323|2.780138120753199|0.5156758621963391|    null|    null|     null|             0.0|           0.1975|            0.45|         311.345|         290.145|               382.87|FLUXNET|       9|       SAV|       SA|        Aw|Tropical|         S|    -4.28917|     11.65642|\n",
            "| CG-Tch|      SAV|    9|        22.91025|         3.50825|          0.4975|     48.48534288|         0.4071315|        0.98246525|          0.406676|        0.98385425|         0.5465985|        0.97330425|        0.54189675|        1.01369825|          0.9468435|         1.61204025|         0.94477025|           1.653265|     3.899200375|           59.75|            46.0|          120.75|     0.0098225195|   0.02812026625|     -0.00449258275|     298.0047025|     296.8279225|      8.1112075E-4|      0.465119995|     0.00170988375|     0.2349155925|0.09415284708073625|0.2481577327087127|0.06318375328940291|0.09032578663909083|0.2549171339270624|0.18840978986846046|0.11144319859565201|0.29324402477658323|2.780138120753199|0.5156758621963391|    null|    null|     null|             0.0|            0.185|             0.4|          315.61|          290.58|              382.395|FLUXNET|       9|       SAV|       SA|        Aw|Tropical|         S|    -4.28917|     11.65642|\n",
            "| CG-Tch|      SAV|   10|         24.2965|         3.42375|         7.23125|   63.0653951625|         0.2887092|           0.96707|      0.2852325575|           0.96707|          1.849448|          2.248791|          1.860231|         2.2396885|           2.141815|          2.7671975|          2.1432625|           2.761705|       4.6409494|            66.5|           50.25|           127.5|      0.030229167|    0.0840448425|     -0.00518613475|       299.02821|      298.227245|     0.00332506575|      0.532291735|      0.0046308115|     0.2830667575|0.09415284708073625|0.2481577327087127|0.06318375328940291|0.09032578663909083|0.2549171339270624|0.18840978986846046|0.11144319859565201|0.29324402477658323|2.780138120753199|0.5156758621963391|    null|    null|     null|             0.0|           0.2175|           0.525|         302.305|         293.045|            382.45875|FLUXNET|       9|       SAV|       SA|        Aw|Tropical|         S|    -4.28917|     11.65642|\n",
            "+-------+---------+-----+----------------+----------------+----------------+----------------+------------------+------------------+------------------+------------------+------------------+------------------+------------------+------------------+-------------------+-------------------+-------------------+-------------------+----------------+----------------+----------------+----------------+-----------------+----------------+-------------------+----------------+----------------+------------------+-----------------+------------------+-----------------+-------------------+------------------+-------------------+-------------------+------------------+-------------------+-------------------+-------------------+-----------------+------------------+--------+--------+---------+----------------+-----------------+----------------+----------------+----------------+---------------------+-------+--------+----------+---------+----------+--------+----------+------------+-------------+\n",
            "only showing top 20 rows\n",
            "\n"
          ]
        }
      ]
    },
    {
      "cell_type": "code",
      "source": [],
      "metadata": {
        "id": "08Vrb4k2AZI5"
      },
      "execution_count": 404,
      "outputs": []
    },
    {
      "cell_type": "markdown",
      "source": [
        "### Impute with average across sites"
      ],
      "metadata": {
        "id": "-mbMTuv5AZI5"
      }
    },
    {
      "cell_type": "code",
      "source": [
        "static_monthly_sdf = static_monthly_sdf.fillna(value = static_monthly_sdf\n",
        "    .select(mean('NDWI_avg')).head()[0],subset = ['NDWI_avg'])"
      ],
      "metadata": {
        "id": "4lJi1O9bAZI6"
      },
      "execution_count": 405,
      "outputs": []
    },
    {
      "cell_type": "code",
      "source": [
        "static_monthly_sdf.filter(static_monthly_sdf.SITE_ID == 'CG-Tch').show()"
      ],
      "metadata": {
        "colab": {
          "base_uri": "https://localhost:8080/"
        },
        "outputId": "3ff70f57-8d68-400f-9142-76abc43164cd",
        "id": "REOVGwf5AZI6"
      },
      "execution_count": 406,
      "outputs": [
        {
          "output_type": "stream",
          "name": "stdout",
          "text": [
            "+-------+---------+-----+----------------+----------------+----------------+----------------+-----------------+------------------+-----------------+------------------+------------------+------------------+------------------+------------------+-------------------+-------------------+-------------------+-------------------+----------------+----------------+----------------+----------------+-----------------+-----------------+-------------------+----------------+----------------+-------------+-----------------+-------------+-------------+-------------------+------------------+-------------------+-------------------+------------------+-------------------+-------------------+-------------------+-----------------+------------------+------------------+--------+---------+----------------+-----------------+----------------+-----------+----------------+---------------------+-------+--------+----------+---------+----------+--------+----------+------------+-------------+\n",
            "|SITE_ID|SITE_IGBP|month|        TA_F_avg|       VPD_F_avg|         P_F_avg|      NETRAD_avg|  NEE_VUT_REF_avg|NEE_VUT_REF_QC_avg|  NEE_CUT_REF_avg|NEE_CUT_REF_QC_avg|GPP_NT_VUT_REF_avg|GPP_DT_VUT_REF_avg|GPP_NT_CUT_REF_avg|GPP_DT_CUT_REF_avg|RECO_NT_VUT_REF_avg|RECO_DT_VUT_REF_avg|RECO_NT_CUT_REF_avg|RECO_DT_CUT_REF_avg|          ET_avg|    BESS_PAR_avg|BESS_PARdiff_avg|   BESS_RSDN_avg|CSIF_SIFdaily_avg| CSIF_SIFinst_avg|            PET_avg|          Ts_avg|       Tmean_avg|     prcp_avg|          vpd_avg|prcp_lag3_avg|ESACCI_sm_avg|             b1_avg|            b2_avg|             b3_avg|             b4_avg|            b5_avg|             b6_avg|             b7_avg|            EVI_avg|          GCI_avg|          NDVI_avg|          NDWI_avg|NIRv_avg|kNDVI_avg|Percent_Snow_avg|         Fpar_avg|         Lai_avg|LST_Day_avg|   LST_Night_avg|CO2_concentration_avg|dataset|MODIS_LC|MODIS_IGBP|MODIS_PFT|koppen_sub|  koppen|hemisphere|LOCATION_LAT|LOCATION_LONG|\n",
            "+-------+---------+-----+----------------+----------------+----------------+----------------+-----------------+------------------+-----------------+------------------+------------------+------------------+------------------+------------------+-------------------+-------------------+-------------------+-------------------+----------------+----------------+----------------+----------------+-----------------+-----------------+-------------------+----------------+----------------+-------------+-----------------+-------------+-------------+-------------------+------------------+-------------------+-------------------+------------------+-------------------+-------------------+-------------------+-----------------+------------------+------------------+--------+---------+----------------+-----------------+----------------+-----------+----------------+---------------------+-------+--------+----------+---------+----------+--------+----------+------------+-------------+\n",
            "| CG-Tch|      SAV|    1|          25.077|           3.692|           4.165|     78.78630262|        -0.963938|          0.998656|        -0.975739|          0.999328|           5.06675|           5.96233|            5.0592|           5.92682|             4.1019|            5.40483|            4.08881|            5.36315|        7.604372|            87.0|            56.0|           171.0|       0.19039673|        0.5502555|       -0.004625119|       299.09644|       298.51752|   0.00619193|       0.41994953|  0.023520436|   0.26890516|0.09415284708073625|0.2481577327087127|0.06318375328940291|0.09032578663909083|0.2549171339270624|0.18840978986846046|0.11144319859565201|0.29324402477658323|2.780138120753199|0.5156758621963391|0.1553927609396808|    null|     null|             0.0|             0.48|             1.4|     306.06|          293.96|              383.875|FLUXNET|       9|       SAV|       SA|        Aw|Tropical|         S|    -4.28917|     11.65642|\n",
            "| CG-Tch|      SAV|    3|           26.28|            6.01|           3.621|     109.3945466|       -0.0436207|          0.981855|       -0.0801859|          0.984543|           3.78114|           4.57745|           3.77755|           4.56805|            3.73638|            4.64678|            3.72375|            4.61246|         8.24458|           103.0|            58.0|           205.0|       0.14162406|        0.4155562|       -0.005217791|       299.92426|       299.34476|  0.004573783|        0.4780943|  0.015857635|   0.27549294|0.09415284708073625|0.2481577327087127|0.06318375328940291|0.09032578663909083|0.2549171339270624|0.18840978986846046|0.11144319859565201|0.29324402477658323|2.780138120753199|0.5156758621963391|0.1553927609396808|    null|     null|             0.0|             0.42|             1.4|     313.86|           295.7|               384.18|FLUXNET|       9|       SAV|       SA|        Aw|Tropical|         S|    -4.28917|     11.65642|\n",
            "| CG-Tch|      SAV|    4|          26.005|            4.86|          6.5105|    102.04518632|       -1.0754925|          0.979167|        -1.125561|         0.9847225|          6.802165|          7.330865|            6.7953|          7.414985|            5.68705|           6.261805|            5.67086|            6.31742|      7.47345735|            99.5|            54.5|           197.0|      0.199507955|       0.58027448|      -0.0046831745|      299.812565|       299.21895|  0.007024879|       0.42578727|  0.019179416|  0.268158255|0.09415284708073625|0.2481577327087127|0.06318375328940291|0.09032578663909083|0.2549171339270624|0.18840978986846046|0.11144319859565201|0.29324402477658323|2.780138120753199|0.5156758621963391|0.1553927609396808|    null|     null|             0.0|            0.465|             1.4|     308.58|           295.1|              385.765|FLUXNET|       9|       SAV|       SA|        Aw|Tropical|         S|    -4.28917|     11.65642|\n",
            "| CG-Tch|      SAV|    5|         25.5655|          4.2385|          2.9815|     86.02576361|       -1.3328545|          0.997984|       -1.3341645|          0.997984|           6.39821|           6.83499|           6.40157|           6.83654|            5.05893|           5.533085|            5.04062|           5.484145|       6.5868522|            81.5|            46.0|           165.0|      0.209910165|       0.60990241|       -0.004423976|       299.39235|       298.79334| 0.0037210465|       0.40517684| 0.0161392565|   0.25663471|0.09415284708073625|0.2481577327087127|0.06318375328940291|0.09032578663909083|0.2549171339270624|0.18840978986846046|0.11144319859565201|0.29324402477658323|2.780138120753199|0.5156758621963391|0.1553927609396808|    null|     null|             0.0|             0.47|             1.4|     305.59|          291.51|             386.3275|FLUXNET|       9|       SAV|       SA|        Aw|Tropical|         S|    -4.28917|     11.65642|\n",
            "| CG-Tch|      SAV|    6|         22.6295|          3.4925|          0.1385|     58.27694692|         -0.60437|          0.999653|       -0.6014295|          0.999653|           3.06881|           3.40794|            3.0739|           3.37129|           2.468855|            2.85687|           2.475915|            2.87977|       4.7603765|            58.0|            38.0|           121.5|      0.165442535|      0.485369425|       -0.003636863|      296.534455|      295.976135|  4.381175E-4|      0.354927435|  0.011184042|  0.162718075|0.09415284708073625|0.2481577327087127|0.06318375328940291|0.09032578663909083|0.2549171339270624|0.18840978986846046|0.11144319859565201|0.29324402477658323|2.780138120753199|0.5156758621963391|0.1553927609396808|    null|     null|             0.0|            0.395|             0.9|     303.61|          291.33|             386.1425|FLUXNET|       9|       SAV|       SA|        Aw|Tropical|         S|    -4.28917|     11.65642|\n",
            "| CG-Tch|      SAV|    7|         21.7145|          3.8575|          0.0655|    48.054493155|         0.513693|          0.972446|       0.50825325|        0.97379025|        0.67838425|          0.986819|        0.66525925|          1.083918|         1.18767325|           1.433455|         1.17500375|          1.4828725|       4.8133691|           60.75|           38.75|           131.0|       0.04896109|    0.14500660125|       -0.003897473|       296.06148|      295.158005| 4.0413775E-4|      0.394222655|0.00419324425| 0.1609908525|0.09415284708073625|0.2481577327087127|0.06318375328940291|0.09032578663909083|0.2549171339270624|0.18840978986846046|0.11144319859565201|0.29324402477658323|2.780138120753199|0.5156758621963391|0.1553927609396808|    null|     null|             0.0|            0.225|           0.525|    307.305|          290.12|               383.67|FLUXNET|       9|       SAV|       SA|        Aw|Tropical|         S|    -4.28917|     11.65642|\n",
            "| CG-Tch|      SAV|    8|         21.9225|         3.62775|          0.1555|    44.857874095|        0.3781545|          0.997816|        0.3772525|          0.997816|        0.62707825|        0.83106625|        0.62225275|         0.8530855|           1.003344|          1.1753515|           0.996611|           1.260776|     4.272573825|           56.25|            39.5|          119.75|    0.01555125125|       0.04566756|     -0.00397380425|     296.6664825|       295.47047| 4.9462525E-4|     0.3937289475| 0.0014240775| 0.1737774275|0.09415284708073625|0.2481577327087127|0.06318375328940291|0.09032578663909083|0.2549171339270624|0.18840978986846046|0.11144319859565201|0.29324402477658323|2.780138120753199|0.5156758621963391|0.1553927609396808|    null|     null|             0.0|           0.1975|            0.45|    311.345|         290.145|               382.87|FLUXNET|       9|       SAV|       SA|        Aw|Tropical|         S|    -4.28917|     11.65642|\n",
            "| CG-Tch|      SAV|    9|        22.91025|         3.50825|          0.4975|     48.48534288|        0.4071315|        0.98246525|         0.406676|        0.98385425|         0.5465985|        0.97330425|        0.54189675|        1.01369825|          0.9468435|         1.61204025|         0.94477025|           1.653265|     3.899200375|           59.75|            46.0|          120.75|     0.0098225195|    0.02812026625|     -0.00449258275|     298.0047025|     296.8279225| 8.1112075E-4|      0.465119995|0.00170988375| 0.2349155925|0.09415284708073625|0.2481577327087127|0.06318375328940291|0.09032578663909083|0.2549171339270624|0.18840978986846046|0.11144319859565201|0.29324402477658323|2.780138120753199|0.5156758621963391|0.1553927609396808|    null|     null|             0.0|            0.185|             0.4|     315.61|          290.58|              382.395|FLUXNET|       9|       SAV|       SA|        Aw|Tropical|         S|    -4.28917|     11.65642|\n",
            "| CG-Tch|      SAV|   10|         24.2965|         3.42375|         7.23125|   63.0653951625|        0.2887092|           0.96707|     0.2852325575|           0.96707|          1.849448|          2.248791|          1.860231|         2.2396885|           2.141815|          2.7671975|          2.1432625|           2.761705|       4.6409494|            66.5|           50.25|           127.5|      0.030229167|     0.0840448425|     -0.00518613475|       299.02821|      298.227245|0.00332506575|      0.532291735| 0.0046308115| 0.2830667575|0.09415284708073625|0.2481577327087127|0.06318375328940291|0.09032578663909083|0.2549171339270624|0.18840978986846046|0.11144319859565201|0.29324402477658323|2.780138120753199|0.5156758621963391|0.1553927609396808|    null|     null|             0.0|           0.2175|           0.525|    302.305|         293.045|            382.45875|FLUXNET|       9|       SAV|       SA|        Aw|Tropical|         S|    -4.28917|     11.65642|\n",
            "| CG-Tch|      SAV|   11|          24.773|3.44966666666667|          12.598|84.4698082766667|        -1.144035| 0.932407333333333|        -1.149898| 0.935185333333333|  5.11813333333333|           5.77444|  5.13784333333333|  5.78285333333333|   3.96842666666667|            4.83468|   3.97716333333333|   4.89800666666667|6.29312376666667|89.3333333333333|56.3333333333333|173.333333333333|0.134091233333333|       0.37218675|       -0.004504795|298.843713333333|298.318486666667|  0.011564004|0.410595386666667|  0.016069377|   0.25752813|0.09415284708073625|0.2481577327087127|0.06318375328940291|0.09032578663909083|0.2549171339270624|0.18840978986846046|0.11144319859565201|0.29324402477658323|2.780138120753199|0.5156758621963391|0.1553927609396808|    null|     null|             0.0|0.426666666666667|1.36666666666667|      304.0|292.993333333333|     382.748333333333|FLUXNET|       9|       SAV|       SA|        Aw|Tropical|         S|    -4.28917|     11.65642|\n",
            "| CG-Tch|      SAV|   12|24.9516666666667|3.45466666666667|8.32766666666667|     77.83825157|-1.75918333333333| 0.977822666666667|-1.75823333333333| 0.978046666666667|  6.49100333333333|  7.23713666666667|  6.57951666666667|           7.23996|   4.75229333333333|   5.82915666666667|            4.80951|   5.85355333333333|7.24527806666667|82.6666666666667|54.3333333333333|162.333333333333|       0.21790926|0.615803313333333|-0.0042544256666666|298.847623333333|       298.32732|  0.008036378|0.377198766666667|  0.023245562|   0.27133414|0.09415284708073625|0.2481577327087127|0.06318375328940291|0.09032578663909083|0.2549171339270624|0.18840978986846046|0.11144319859565201|0.29324402477658323|2.780138120753199|0.5156758621963391|0.1553927609396808|    null|     null|             0.0|             0.53|             1.9|     301.06|294.033333333333|     383.498333333333|FLUXNET|       9|       SAV|       SA|        Aw|Tropical|         S|    -4.28917|     11.65642|\n",
            "+-------+---------+-----+----------------+----------------+----------------+----------------+-----------------+------------------+-----------------+------------------+------------------+------------------+------------------+------------------+-------------------+-------------------+-------------------+-------------------+----------------+----------------+----------------+----------------+-----------------+-----------------+-------------------+----------------+----------------+-------------+-----------------+-------------+-------------+-------------------+------------------+-------------------+-------------------+------------------+-------------------+-------------------+-------------------+-----------------+------------------+------------------+--------+---------+----------------+-----------------+----------------+-----------+----------------+---------------------+-------+--------+----------+---------+----------+--------+----------+------------+-------------+\n",
            "\n"
          ]
        }
      ]
    },
    {
      "cell_type": "markdown",
      "source": [
        "## `NIRv_avg`"
      ],
      "metadata": {
        "id": "JBNBh76Ere-_"
      }
    },
    {
      "cell_type": "code",
      "source": [
        "static_monthly_sdf.filter(static_monthly_sdf.NIRv_avg.isNull()).show()"
      ],
      "metadata": {
        "colab": {
          "base_uri": "https://localhost:8080/"
        },
        "id": "DON7AKP2sYav",
        "outputId": "56ec0962-d790-49f8-9c22-e0082c3874ec"
      },
      "execution_count": 407,
      "outputs": [
        {
          "output_type": "stream",
          "name": "stdout",
          "text": [
            "+-------+---------+-----+----------------+----------------+----------------+----------------+------------------+------------------+------------------+------------------+------------------+------------------+------------------+------------------+-------------------+-------------------+-------------------+-------------------+----------------+----------------+----------------+----------------+-----------------+----------------+-------------------+----------------+----------------+------------------+-----------------+------------------+-----------------+-------------------+------------------+-------------------+-------------------+------------------+-------------------+-------------------+-------------------+-----------------+------------------+------------------+--------+---------+----------------+-----------------+----------------+----------------+----------------+---------------------+-------+--------+----------+---------+----------+--------+----------+------------+-------------+\n",
            "|SITE_ID|SITE_IGBP|month|        TA_F_avg|       VPD_F_avg|         P_F_avg|      NETRAD_avg|   NEE_VUT_REF_avg|NEE_VUT_REF_QC_avg|   NEE_CUT_REF_avg|NEE_CUT_REF_QC_avg|GPP_NT_VUT_REF_avg|GPP_DT_VUT_REF_avg|GPP_NT_CUT_REF_avg|GPP_DT_CUT_REF_avg|RECO_NT_VUT_REF_avg|RECO_DT_VUT_REF_avg|RECO_NT_CUT_REF_avg|RECO_DT_CUT_REF_avg|          ET_avg|    BESS_PAR_avg|BESS_PARdiff_avg|   BESS_RSDN_avg|CSIF_SIFdaily_avg|CSIF_SIFinst_avg|            PET_avg|          Ts_avg|       Tmean_avg|          prcp_avg|          vpd_avg|     prcp_lag3_avg|    ESACCI_sm_avg|             b1_avg|            b2_avg|             b3_avg|             b4_avg|            b5_avg|             b6_avg|             b7_avg|            EVI_avg|          GCI_avg|          NDVI_avg|          NDWI_avg|NIRv_avg|kNDVI_avg|Percent_Snow_avg|         Fpar_avg|         Lai_avg|     LST_Day_avg|   LST_Night_avg|CO2_concentration_avg|dataset|MODIS_LC|MODIS_IGBP|MODIS_PFT|koppen_sub|  koppen|hemisphere|LOCATION_LAT|LOCATION_LONG|\n",
            "+-------+---------+-----+----------------+----------------+----------------+----------------+------------------+------------------+------------------+------------------+------------------+------------------+------------------+------------------+-------------------+-------------------+-------------------+-------------------+----------------+----------------+----------------+----------------+-----------------+----------------+-------------------+----------------+----------------+------------------+-----------------+------------------+-----------------+-------------------+------------------+-------------------+-------------------+------------------+-------------------+-------------------+-------------------+-----------------+------------------+------------------+--------+---------+----------------+-----------------+----------------+----------------+----------------+---------------------+-------+--------+----------+---------+----------+--------+----------+------------+-------------+\n",
            "| BR-Sa1|      EBF|    2|         24.5932|          3.2596|         11.6638|   103.916001935|          0.752247|         0.9046388|          0.665946|         0.9064244|          9.152898|          9.985802|          9.121394|          9.503096|           9.918792|           11.67512|           9.812914|           10.79084|       9.1968518|            97.2|            66.0|           185.2|      0.436322878|     1.284513312|      -0.0079961852|      298.333916|       298.36571|      0.0159094596|      0.476067162|      0.0364197696|      0.357065588|0.09415284708073625|0.2481577327087127|0.06318375328940291|0.09032578663909083|0.2549171339270624|0.18840978986846046|0.11144319859565201|0.29324402477658323|2.780138120753199|0.5156758621963391|0.1553927609396808|    null|     null|             0.0|            0.722|            3.98|          299.02|         294.752|              379.342|FLUXNET|       2|       EBF|      EBF|        Am|Tropical|         S|    -2.85667|    -54.95889|\n",
            "| BR-Sa1|      EBF|    3|          24.663|          3.4598|           9.847|   112.197708785|         0.7480388|         0.8862902|        0.65718296|         0.8844088|          9.219016|         10.418144|          9.020962|           9.74782|            9.94018|          12.226194|            9.61147|          11.224752|        9.291345|            99.0|            63.8|           190.6|      0.464558814|      1.36629682|       -0.007662013|      298.400694|      298.449634|      0.0167185276|       0.47860039|      0.0447365062|       0.36418543|0.09415284708073625|0.2481577327087127|0.06318375328940291|0.09032578663909083|0.2549171339270624|0.18840978986846046|0.11144319859565201|0.29324402477658323|2.780138120753199|0.5156758621963391|0.1553927609396808|    null|     null|             0.0|            0.748|            4.38|         299.528|         294.912|              379.848|FLUXNET|       2|       EBF|      EBF|        Am|Tropical|         S|    -2.85667|    -54.95889|\n",
            "| BR-Sa1|      EBF|    4|        24.91125|           3.371|        10.52575|     116.1915743|        0.66139175|        0.93298625|        0.60177625|        0.93090275|         8.6765175|         9.7988725|         8.6270375|          9.575445|          9.3192325|         11.0331325|            9.25605|           10.78305|        8.915563|            98.0|           59.25|          188.75|     0.4144168875|     1.204944425|     -0.00649889825|     298.3763025|     298.4726825|     0.01875316925|     0.4250128725|       0.047241778|     0.3721353625|0.09415284708073625|0.2481577327087127|0.06318375328940291|0.09032578663909083|0.2549171339270624|0.18840978986846046|0.11144319859565201|0.29324402477658323|2.780138120753199|0.5156758621963391|0.1553927609396808|    null|     null|             0.0|           0.7475|            4.35|          298.24|          294.77|             381.7325|FLUXNET|       2|       EBF|      EBF|        Am|Tropical|         S|    -2.85667|    -54.95889|\n",
            "| BR-Sa1|      EBF|   11|         26.8992|          7.6816|           5.052|137.051523366667|        -1.3091478|         0.8869444|        -1.2806046|          0.878611|          9.841522|          10.21034|          9.394126|         10.582654|            8.69175|          10.312484|            8.05509|          10.413654|      11.3477482|            96.0|            50.8|           198.6|      0.463914644|      1.29419548|      -0.0121751948|      300.822084|      300.636158|      0.0050468194|      0.903766922|      0.0126276786|      0.258217536|0.09415284708073625|0.2481577327087127|0.06318375328940291|0.09032578663909083|0.2549171339270624|0.18840978986846046|0.11144319859565201|0.29324402477658323|2.780138120753199|0.5156758621963391|0.1553927609396808|    null|     null|             0.0|            0.788|             5.0|         301.524|         295.484|              377.088|FLUXNET|       2|       EBF|      EBF|        Am|Tropical|         S|    -2.85667|    -54.95889|\n",
            "| BR-Sa1|      EBF|   12|26.0522857142857|6.17171428571429|7.34928571428571|112.872759405714|-0.393712428571429| 0.920506857142857|         -0.320412| 0.915514714285714|  9.64429142857143|  10.0376671428571|  9.59727428571429|  9.64926285714286|   9.34510714285714|   10.2804628571429|   9.10579428571429|   10.0704314285714|10.5380442142857|94.5714285714286|55.5714285714286|187.428571428571|0.438690488571429|1.24734255714286|-0.0101647228571429|299.734795714286|299.651765714286|0.0092598214285714|0.711870374285714|0.0183790024285714|0.285550201428571|0.09415284708073625|0.2481577327087127|0.06318375328940291|0.09032578663909083|0.2549171339270624|0.18840978986846046|0.11144319859565201|0.29324402477658323|2.780138120753199|0.5156758621963391|0.1553927609396808|    null|     null|             0.0|0.792857142857143|4.94285714285714|300.765714285714|295.497142857143|              380.585|FLUXNET|       2|       EBF|      EBF|        Am|Tropical|         S|    -2.85667|    -54.95889|\n",
            "| BR-Sa3|      EBF|    1|25.0426666666667|           8.106|5.74533333333333|109.134329853333|-0.398124333333333| 0.934587666666667|-0.435013666666667| 0.935931666666667|  8.48076333333333|  10.0659466666667|           8.44135|  10.2428766666667|   8.04271666666667|            11.3558|   8.09660666666667|            11.4665|        8.556116|96.6666666666667|            61.0|           187.0|0.383164126666667|      1.11340111|-0.0063834043333333|298.760286666667|       298.66215|0.0109330623333333|0.581504056666667|       0.020362048|0.327775556666667|0.09415284708073625|               0.0|0.06318375328940291|0.09032578663909083|0.2549171339270624|0.18840978986846046|0.11144319859565201|0.29324402477658323|2.780138120753199|0.5156758621963391|0.1553927609396808|    null|     null|             0.0|0.736666666666667|             4.2|298.313333333333|295.206666666667|               371.41|FLUXNET|       2|       EBF|      EBF|        Am|Tropical|         S|    -3.01803|    -54.97144|\n",
            "| BR-Sa3|      EBF|    2|        24.65125|         7.48475|          7.5375|106.950809466667|           0.20834|        0.94233625|          0.169485|         0.9432535|         9.2071425|          10.32765|         9.2874725|        10.2942625|          9.4159425|          11.838325|          9.5240775|            11.8167|        8.274622|           101.0|           66.25|          193.25|     0.4229104975|     1.244580015|     -0.00567118825|      298.332155|      298.215265|      0.0131925825|      0.472393435|     0.03018732275|     0.3403658775|0.09415284708073625|               0.0|0.06318375328940291|0.09032578663909083|0.2549171339270624|0.18840978986846046|0.11144319859565201|0.29324402477658323|2.780138120753199|0.5156758621963391|0.1553927609396808|    null|     null|             0.0|            0.745|           4.525|         298.685|         294.865|            372.80875|FLUXNET|       2|       EBF|      EBF|        Am|Tropical|         S|    -3.01803|    -54.97144|\n",
            "| BR-Sa3|      EBF|    3|          24.728|6.69366666666667|5.91066666666667|      111.814632|          0.472336| 0.988575333333333| 0.337930066666667| 0.988575333333333|  9.41352333333333|           10.7614|  9.42615666666667|  10.5019666666667|   9.94390333333333|   12.0358666666667|   9.93540333333333|   12.4301333333333|8.51926766666667|           101.0|64.6666666666667|193.666666666667|0.424061546666667|      1.24682568|-0.0056861663333333|298.414683333333|298.309043333333|0.0122179656666667|0.491019646666667|0.0363624646666667|0.345974316666667|0.09415284708073625|               0.0|0.06318375328940291|0.09032578663909083|0.2549171339270624|0.18840978986846046|0.11144319859565201|0.29324402477658323|2.780138120753199|0.5156758621963391|0.1553927609396808|    null|     null|             0.0|0.763333333333333|4.66666666666667|299.046666666667|          294.86|               372.18|FLUXNET|       2|       EBF|      EBF|        Am|Tropical|         S|    -3.01803|    -54.97144|\n",
            "| BR-Sa3|      EBF|    4|         24.6335|          5.6485|           7.952|     120.3635711|         0.4114185|         0.9725695|         0.5914874|          0.973264|          9.330805|          9.178355|           9.26708|          8.861205|            9.71764|           9.216645|            9.76509|           9.457295|       8.6502985|            97.5|            58.0|           189.0|       0.42986619|      1.24997345|      -0.0050853675|      298.505635|      298.438615|       0.013383899|       0.44126245|      0.0388952085|        0.3575286|0.09415284708073625|0.2481577327087127|0.06318375328940291|0.09032578663909083|0.2549171339270624|0.18840978986846046|0.11144319859565201|0.29324402477658323|2.780138120753199|0.5156758621963391|0.1553927609396808|    null|     null|             0.0|             0.79|            5.25|          297.75|          294.02|              373.845|FLUXNET|       2|       EBF|      EBF|        Am|Tropical|         S|    -3.01803|    -54.97144|\n",
            "| BR-Sa3|      EBF|   11|           26.02|           8.127|           3.234|     119.0993865|         -0.905984|           0.99375|          -1.00822|          0.994444|           8.44961|           10.5931|           8.44073|           10.5627|            7.55947|            11.2076|            7.55947|            10.2874|        11.36252|            96.0|            52.0|           195.0|       0.45063403|       1.2562166|       -0.006906278|       299.91623|       299.77252|       0.004799206|        0.6671918|       0.014753038|       0.32659754|0.09415284708073625|0.2481577327087127|0.06318375328940291|0.09032578663909083|0.2549171339270624|0.18840978986846046|0.11144319859565201|0.29324402477658323|2.780138120753199|0.5156758621963391|0.1553927609396808|    null|     null|             0.0|             0.77|             4.6|          301.42|          294.62|              374.555|FLUXNET|       2|       EBF|      EBF|        Am|Tropical|         S|    -3.01803|    -54.97144|\n",
            "| BR-Sa3|      EBF|   12|          26.953|          11.786|           1.814|     124.2206446|        -0.4648364|          0.935484|        -0.4830845|          0.935484|           7.55138|          9.940925|          7.552585|          10.15451|            7.09759|            11.3655|           7.022155|           11.00485|       11.371528|            90.5|            56.5|           178.5|       0.42505756|       1.2077952|      -0.0077537595|      300.347335|       299.97152|      0.0058658995|       0.77426143|       0.011982961|      0.286874325|0.09415284708073625|0.2481577327087127|0.06318375328940291|0.09032578663909083|0.2549171339270624|0.18840978986846046|0.11144319859565201|0.29324402477658323|2.780138120753199|0.5156758621963391|0.1553927609396808|    null|     null|             0.0|            0.795|             4.6|          300.51|          295.54|             371.8375|FLUXNET|       2|       EBF|      EBF|        Am|Tropical|         S|    -3.01803|    -54.97144|\n",
            "| CG-Tch|      SAV|    1|          25.077|           3.692|           4.165|     78.78630262|         -0.963938|          0.998656|         -0.975739|          0.999328|           5.06675|           5.96233|            5.0592|           5.92682|             4.1019|            5.40483|            4.08881|            5.36315|        7.604372|            87.0|            56.0|           171.0|       0.19039673|       0.5502555|       -0.004625119|       299.09644|       298.51752|        0.00619193|       0.41994953|       0.023520436|       0.26890516|0.09415284708073625|0.2481577327087127|0.06318375328940291|0.09032578663909083|0.2549171339270624|0.18840978986846046|0.11144319859565201|0.29324402477658323|2.780138120753199|0.5156758621963391|0.1553927609396808|    null|     null|             0.0|             0.48|             1.4|          306.06|          293.96|              383.875|FLUXNET|       9|       SAV|       SA|        Aw|Tropical|         S|    -4.28917|     11.65642|\n",
            "| CG-Tch|      SAV|    3|           26.28|            6.01|           3.621|     109.3945466|        -0.0436207|          0.981855|        -0.0801859|          0.984543|           3.78114|           4.57745|           3.77755|           4.56805|            3.73638|            4.64678|            3.72375|            4.61246|         8.24458|           103.0|            58.0|           205.0|       0.14162406|       0.4155562|       -0.005217791|       299.92426|       299.34476|       0.004573783|        0.4780943|       0.015857635|       0.27549294|0.09415284708073625|0.2481577327087127|0.06318375328940291|0.09032578663909083|0.2549171339270624|0.18840978986846046|0.11144319859565201|0.29324402477658323|2.780138120753199|0.5156758621963391|0.1553927609396808|    null|     null|             0.0|             0.42|             1.4|          313.86|           295.7|               384.18|FLUXNET|       9|       SAV|       SA|        Aw|Tropical|         S|    -4.28917|     11.65642|\n",
            "| CG-Tch|      SAV|    4|          26.005|            4.86|          6.5105|    102.04518632|        -1.0754925|          0.979167|         -1.125561|         0.9847225|          6.802165|          7.330865|            6.7953|          7.414985|            5.68705|           6.261805|            5.67086|            6.31742|      7.47345735|            99.5|            54.5|           197.0|      0.199507955|      0.58027448|      -0.0046831745|      299.812565|       299.21895|       0.007024879|       0.42578727|       0.019179416|      0.268158255|0.09415284708073625|0.2481577327087127|0.06318375328940291|0.09032578663909083|0.2549171339270624|0.18840978986846046|0.11144319859565201|0.29324402477658323|2.780138120753199|0.5156758621963391|0.1553927609396808|    null|     null|             0.0|            0.465|             1.4|          308.58|           295.1|              385.765|FLUXNET|       9|       SAV|       SA|        Aw|Tropical|         S|    -4.28917|     11.65642|\n",
            "| CG-Tch|      SAV|    5|         25.5655|          4.2385|          2.9815|     86.02576361|        -1.3328545|          0.997984|        -1.3341645|          0.997984|           6.39821|           6.83499|           6.40157|           6.83654|            5.05893|           5.533085|            5.04062|           5.484145|       6.5868522|            81.5|            46.0|           165.0|      0.209910165|      0.60990241|       -0.004423976|       299.39235|       298.79334|      0.0037210465|       0.40517684|      0.0161392565|       0.25663471|0.09415284708073625|0.2481577327087127|0.06318375328940291|0.09032578663909083|0.2549171339270624|0.18840978986846046|0.11144319859565201|0.29324402477658323|2.780138120753199|0.5156758621963391|0.1553927609396808|    null|     null|             0.0|             0.47|             1.4|          305.59|          291.51|             386.3275|FLUXNET|       9|       SAV|       SA|        Aw|Tropical|         S|    -4.28917|     11.65642|\n",
            "| CG-Tch|      SAV|    6|         22.6295|          3.4925|          0.1385|     58.27694692|          -0.60437|          0.999653|        -0.6014295|          0.999653|           3.06881|           3.40794|            3.0739|           3.37129|           2.468855|            2.85687|           2.475915|            2.87977|       4.7603765|            58.0|            38.0|           121.5|      0.165442535|     0.485369425|       -0.003636863|      296.534455|      295.976135|       4.381175E-4|      0.354927435|       0.011184042|      0.162718075|0.09415284708073625|0.2481577327087127|0.06318375328940291|0.09032578663909083|0.2549171339270624|0.18840978986846046|0.11144319859565201|0.29324402477658323|2.780138120753199|0.5156758621963391|0.1553927609396808|    null|     null|             0.0|            0.395|             0.9|          303.61|          291.33|             386.1425|FLUXNET|       9|       SAV|       SA|        Aw|Tropical|         S|    -4.28917|     11.65642|\n",
            "| CG-Tch|      SAV|    7|         21.7145|          3.8575|          0.0655|    48.054493155|          0.513693|          0.972446|        0.50825325|        0.97379025|        0.67838425|          0.986819|        0.66525925|          1.083918|         1.18767325|           1.433455|         1.17500375|          1.4828725|       4.8133691|           60.75|           38.75|           131.0|       0.04896109|   0.14500660125|       -0.003897473|       296.06148|      295.158005|      4.0413775E-4|      0.394222655|     0.00419324425|     0.1609908525|0.09415284708073625|0.2481577327087127|0.06318375328940291|0.09032578663909083|0.2549171339270624|0.18840978986846046|0.11144319859565201|0.29324402477658323|2.780138120753199|0.5156758621963391|0.1553927609396808|    null|     null|             0.0|            0.225|           0.525|         307.305|          290.12|               383.67|FLUXNET|       9|       SAV|       SA|        Aw|Tropical|         S|    -4.28917|     11.65642|\n",
            "| CG-Tch|      SAV|    8|         21.9225|         3.62775|          0.1555|    44.857874095|         0.3781545|          0.997816|         0.3772525|          0.997816|        0.62707825|        0.83106625|        0.62225275|         0.8530855|           1.003344|          1.1753515|           0.996611|           1.260776|     4.272573825|           56.25|            39.5|          119.75|    0.01555125125|      0.04566756|     -0.00397380425|     296.6664825|       295.47047|      4.9462525E-4|     0.3937289475|      0.0014240775|     0.1737774275|0.09415284708073625|0.2481577327087127|0.06318375328940291|0.09032578663909083|0.2549171339270624|0.18840978986846046|0.11144319859565201|0.29324402477658323|2.780138120753199|0.5156758621963391|0.1553927609396808|    null|     null|             0.0|           0.1975|            0.45|         311.345|         290.145|               382.87|FLUXNET|       9|       SAV|       SA|        Aw|Tropical|         S|    -4.28917|     11.65642|\n",
            "| CG-Tch|      SAV|    9|        22.91025|         3.50825|          0.4975|     48.48534288|         0.4071315|        0.98246525|          0.406676|        0.98385425|         0.5465985|        0.97330425|        0.54189675|        1.01369825|          0.9468435|         1.61204025|         0.94477025|           1.653265|     3.899200375|           59.75|            46.0|          120.75|     0.0098225195|   0.02812026625|     -0.00449258275|     298.0047025|     296.8279225|      8.1112075E-4|      0.465119995|     0.00170988375|     0.2349155925|0.09415284708073625|0.2481577327087127|0.06318375328940291|0.09032578663909083|0.2549171339270624|0.18840978986846046|0.11144319859565201|0.29324402477658323|2.780138120753199|0.5156758621963391|0.1553927609396808|    null|     null|             0.0|            0.185|             0.4|          315.61|          290.58|              382.395|FLUXNET|       9|       SAV|       SA|        Aw|Tropical|         S|    -4.28917|     11.65642|\n",
            "| CG-Tch|      SAV|   10|         24.2965|         3.42375|         7.23125|   63.0653951625|         0.2887092|           0.96707|      0.2852325575|           0.96707|          1.849448|          2.248791|          1.860231|         2.2396885|           2.141815|          2.7671975|          2.1432625|           2.761705|       4.6409494|            66.5|           50.25|           127.5|      0.030229167|    0.0840448425|     -0.00518613475|       299.02821|      298.227245|     0.00332506575|      0.532291735|      0.0046308115|     0.2830667575|0.09415284708073625|0.2481577327087127|0.06318375328940291|0.09032578663909083|0.2549171339270624|0.18840978986846046|0.11144319859565201|0.29324402477658323|2.780138120753199|0.5156758621963391|0.1553927609396808|    null|     null|             0.0|           0.2175|           0.525|         302.305|         293.045|            382.45875|FLUXNET|       9|       SAV|       SA|        Aw|Tropical|         S|    -4.28917|     11.65642|\n",
            "+-------+---------+-----+----------------+----------------+----------------+----------------+------------------+------------------+------------------+------------------+------------------+------------------+------------------+------------------+-------------------+-------------------+-------------------+-------------------+----------------+----------------+----------------+----------------+-----------------+----------------+-------------------+----------------+----------------+------------------+-----------------+------------------+-----------------+-------------------+------------------+-------------------+-------------------+------------------+-------------------+-------------------+-------------------+-----------------+------------------+------------------+--------+---------+----------------+-----------------+----------------+----------------+----------------+---------------------+-------+--------+----------+---------+----------+--------+----------+------------+-------------+\n",
            "only showing top 20 rows\n",
            "\n"
          ]
        }
      ]
    },
    {
      "cell_type": "code",
      "source": [
        "static_monthly_sdf.filter(static_monthly_sdf.NIRv_avg.isNull()).groupBy(\"SITE_ID\").count().show()"
      ],
      "metadata": {
        "colab": {
          "base_uri": "https://localhost:8080/"
        },
        "id": "0CKzUBXSre-_",
        "outputId": "aaaa9792-51ce-4cf3-df34-b89d3f7395dd"
      },
      "execution_count": 408,
      "outputs": [
        {
          "output_type": "stream",
          "name": "stdout",
          "text": [
            "+-------+-----+\n",
            "|SITE_ID|count|\n",
            "+-------+-----+\n",
            "| CN-Cha|    1|\n",
            "| SE-Svb|    1|\n",
            "| BR-Sa3|    6|\n",
            "| SE-Ros|    2|\n",
            "| PA-SPn|    5|\n",
            "| IT-Tor|    1|\n",
            "| US-Ivo|    6|\n",
            "| CG-Tch|   11|\n",
            "| SE-Deg|    1|\n",
            "| SE-Lnn|    1|\n",
            "| FI-Var|    3|\n",
            "| GH-Ank|    8|\n",
            "| SJ-Adv|    4|\n",
            "| US-UMB|    1|\n",
            "| FI-Qvd|    1|\n",
            "| US-UMd|    1|\n",
            "| CH-Aws|    5|\n",
            "| CN-Din|    1|\n",
            "| US-Syv|    2|\n",
            "| FI-Lom|    3|\n",
            "+-------+-----+\n",
            "only showing top 20 rows\n",
            "\n"
          ]
        }
      ]
    },
    {
      "cell_type": "markdown",
      "source": [
        "### Impute with average across sites"
      ],
      "metadata": {
        "id": "FS0u9WFOBDIo"
      }
    },
    {
      "cell_type": "code",
      "source": [
        "static_monthly_sdf = static_monthly_sdf.fillna(value = static_monthly_sdf\n",
        "    .select(mean('NIRv_avg')).head()[0],subset = ['NIRv_avg'])"
      ],
      "metadata": {
        "id": "XpYFeo0JBDIo"
      },
      "execution_count": 409,
      "outputs": []
    },
    {
      "cell_type": "code",
      "source": [
        "static_monthly_sdf.filter(static_monthly_sdf.SITE_ID == 'CG-Tch').show()"
      ],
      "metadata": {
        "colab": {
          "base_uri": "https://localhost:8080/"
        },
        "outputId": "fc4e5598-520b-4ee3-aaf6-432c1d514505",
        "id": "_KX-YhVPBDIp"
      },
      "execution_count": 410,
      "outputs": [
        {
          "output_type": "stream",
          "name": "stdout",
          "text": [
            "+-------+---------+-----+----------------+----------------+----------------+----------------+-----------------+------------------+-----------------+------------------+------------------+------------------+------------------+------------------+-------------------+-------------------+-------------------+-------------------+----------------+----------------+----------------+----------------+-----------------+-----------------+-------------------+----------------+----------------+-------------+-----------------+-------------+-------------+-------------------+------------------+-------------------+-------------------+------------------+-------------------+-------------------+-------------------+-----------------+------------------+------------------+-------------------+---------+----------------+-----------------+----------------+-----------+----------------+---------------------+-------+--------+----------+---------+----------+--------+----------+------------+-------------+\n",
            "|SITE_ID|SITE_IGBP|month|        TA_F_avg|       VPD_F_avg|         P_F_avg|      NETRAD_avg|  NEE_VUT_REF_avg|NEE_VUT_REF_QC_avg|  NEE_CUT_REF_avg|NEE_CUT_REF_QC_avg|GPP_NT_VUT_REF_avg|GPP_DT_VUT_REF_avg|GPP_NT_CUT_REF_avg|GPP_DT_CUT_REF_avg|RECO_NT_VUT_REF_avg|RECO_DT_VUT_REF_avg|RECO_NT_CUT_REF_avg|RECO_DT_CUT_REF_avg|          ET_avg|    BESS_PAR_avg|BESS_PARdiff_avg|   BESS_RSDN_avg|CSIF_SIFdaily_avg| CSIF_SIFinst_avg|            PET_avg|          Ts_avg|       Tmean_avg|     prcp_avg|          vpd_avg|prcp_lag3_avg|ESACCI_sm_avg|             b1_avg|            b2_avg|             b3_avg|             b4_avg|            b5_avg|             b6_avg|             b7_avg|            EVI_avg|          GCI_avg|          NDVI_avg|          NDWI_avg|           NIRv_avg|kNDVI_avg|Percent_Snow_avg|         Fpar_avg|         Lai_avg|LST_Day_avg|   LST_Night_avg|CO2_concentration_avg|dataset|MODIS_LC|MODIS_IGBP|MODIS_PFT|koppen_sub|  koppen|hemisphere|LOCATION_LAT|LOCATION_LONG|\n",
            "+-------+---------+-----+----------------+----------------+----------------+----------------+-----------------+------------------+-----------------+------------------+------------------+------------------+------------------+------------------+-------------------+-------------------+-------------------+-------------------+----------------+----------------+----------------+----------------+-----------------+-----------------+-------------------+----------------+----------------+-------------+-----------------+-------------+-------------+-------------------+------------------+-------------------+-------------------+------------------+-------------------+-------------------+-------------------+-----------------+------------------+------------------+-------------------+---------+----------------+-----------------+----------------+-----------+----------------+---------------------+-------+--------+----------+---------+----------+--------+----------+------------+-------------+\n",
            "| CG-Tch|      SAV|    1|          25.077|           3.692|           4.165|     78.78630262|        -0.963938|          0.998656|        -0.975739|          0.999328|           5.06675|           5.96233|            5.0592|           5.92682|             4.1019|            5.40483|            4.08881|            5.36315|        7.604372|            87.0|            56.0|           171.0|       0.19039673|        0.5502555|       -0.004625119|       299.09644|       298.51752|   0.00619193|       0.41994953|  0.023520436|   0.26890516|0.09415284708073625|0.2481577327087127|0.06318375328940291|0.09032578663909083|0.2549171339270624|0.18840978986846046|0.11144319859565201|0.29324402477658323|2.780138120753199|0.5156758621963391|0.1553927609396808|0.12674528734171064|     null|             0.0|             0.48|             1.4|     306.06|          293.96|              383.875|FLUXNET|       9|       SAV|       SA|        Aw|Tropical|         S|    -4.28917|     11.65642|\n",
            "| CG-Tch|      SAV|    3|           26.28|            6.01|           3.621|     109.3945466|       -0.0436207|          0.981855|       -0.0801859|          0.984543|           3.78114|           4.57745|           3.77755|           4.56805|            3.73638|            4.64678|            3.72375|            4.61246|         8.24458|           103.0|            58.0|           205.0|       0.14162406|        0.4155562|       -0.005217791|       299.92426|       299.34476|  0.004573783|        0.4780943|  0.015857635|   0.27549294|0.09415284708073625|0.2481577327087127|0.06318375328940291|0.09032578663909083|0.2549171339270624|0.18840978986846046|0.11144319859565201|0.29324402477658323|2.780138120753199|0.5156758621963391|0.1553927609396808|0.12674528734171064|     null|             0.0|             0.42|             1.4|     313.86|           295.7|               384.18|FLUXNET|       9|       SAV|       SA|        Aw|Tropical|         S|    -4.28917|     11.65642|\n",
            "| CG-Tch|      SAV|    4|          26.005|            4.86|          6.5105|    102.04518632|       -1.0754925|          0.979167|        -1.125561|         0.9847225|          6.802165|          7.330865|            6.7953|          7.414985|            5.68705|           6.261805|            5.67086|            6.31742|      7.47345735|            99.5|            54.5|           197.0|      0.199507955|       0.58027448|      -0.0046831745|      299.812565|       299.21895|  0.007024879|       0.42578727|  0.019179416|  0.268158255|0.09415284708073625|0.2481577327087127|0.06318375328940291|0.09032578663909083|0.2549171339270624|0.18840978986846046|0.11144319859565201|0.29324402477658323|2.780138120753199|0.5156758621963391|0.1553927609396808|0.12674528734171064|     null|             0.0|            0.465|             1.4|     308.58|           295.1|              385.765|FLUXNET|       9|       SAV|       SA|        Aw|Tropical|         S|    -4.28917|     11.65642|\n",
            "| CG-Tch|      SAV|    5|         25.5655|          4.2385|          2.9815|     86.02576361|       -1.3328545|          0.997984|       -1.3341645|          0.997984|           6.39821|           6.83499|           6.40157|           6.83654|            5.05893|           5.533085|            5.04062|           5.484145|       6.5868522|            81.5|            46.0|           165.0|      0.209910165|       0.60990241|       -0.004423976|       299.39235|       298.79334| 0.0037210465|       0.40517684| 0.0161392565|   0.25663471|0.09415284708073625|0.2481577327087127|0.06318375328940291|0.09032578663909083|0.2549171339270624|0.18840978986846046|0.11144319859565201|0.29324402477658323|2.780138120753199|0.5156758621963391|0.1553927609396808|0.12674528734171064|     null|             0.0|             0.47|             1.4|     305.59|          291.51|             386.3275|FLUXNET|       9|       SAV|       SA|        Aw|Tropical|         S|    -4.28917|     11.65642|\n",
            "| CG-Tch|      SAV|    6|         22.6295|          3.4925|          0.1385|     58.27694692|         -0.60437|          0.999653|       -0.6014295|          0.999653|           3.06881|           3.40794|            3.0739|           3.37129|           2.468855|            2.85687|           2.475915|            2.87977|       4.7603765|            58.0|            38.0|           121.5|      0.165442535|      0.485369425|       -0.003636863|      296.534455|      295.976135|  4.381175E-4|      0.354927435|  0.011184042|  0.162718075|0.09415284708073625|0.2481577327087127|0.06318375328940291|0.09032578663909083|0.2549171339270624|0.18840978986846046|0.11144319859565201|0.29324402477658323|2.780138120753199|0.5156758621963391|0.1553927609396808|0.12674528734171064|     null|             0.0|            0.395|             0.9|     303.61|          291.33|             386.1425|FLUXNET|       9|       SAV|       SA|        Aw|Tropical|         S|    -4.28917|     11.65642|\n",
            "| CG-Tch|      SAV|    7|         21.7145|          3.8575|          0.0655|    48.054493155|         0.513693|          0.972446|       0.50825325|        0.97379025|        0.67838425|          0.986819|        0.66525925|          1.083918|         1.18767325|           1.433455|         1.17500375|          1.4828725|       4.8133691|           60.75|           38.75|           131.0|       0.04896109|    0.14500660125|       -0.003897473|       296.06148|      295.158005| 4.0413775E-4|      0.394222655|0.00419324425| 0.1609908525|0.09415284708073625|0.2481577327087127|0.06318375328940291|0.09032578663909083|0.2549171339270624|0.18840978986846046|0.11144319859565201|0.29324402477658323|2.780138120753199|0.5156758621963391|0.1553927609396808|0.12674528734171064|     null|             0.0|            0.225|           0.525|    307.305|          290.12|               383.67|FLUXNET|       9|       SAV|       SA|        Aw|Tropical|         S|    -4.28917|     11.65642|\n",
            "| CG-Tch|      SAV|    8|         21.9225|         3.62775|          0.1555|    44.857874095|        0.3781545|          0.997816|        0.3772525|          0.997816|        0.62707825|        0.83106625|        0.62225275|         0.8530855|           1.003344|          1.1753515|           0.996611|           1.260776|     4.272573825|           56.25|            39.5|          119.75|    0.01555125125|       0.04566756|     -0.00397380425|     296.6664825|       295.47047| 4.9462525E-4|     0.3937289475| 0.0014240775| 0.1737774275|0.09415284708073625|0.2481577327087127|0.06318375328940291|0.09032578663909083|0.2549171339270624|0.18840978986846046|0.11144319859565201|0.29324402477658323|2.780138120753199|0.5156758621963391|0.1553927609396808|0.12674528734171064|     null|             0.0|           0.1975|            0.45|    311.345|         290.145|               382.87|FLUXNET|       9|       SAV|       SA|        Aw|Tropical|         S|    -4.28917|     11.65642|\n",
            "| CG-Tch|      SAV|    9|        22.91025|         3.50825|          0.4975|     48.48534288|        0.4071315|        0.98246525|         0.406676|        0.98385425|         0.5465985|        0.97330425|        0.54189675|        1.01369825|          0.9468435|         1.61204025|         0.94477025|           1.653265|     3.899200375|           59.75|            46.0|          120.75|     0.0098225195|    0.02812026625|     -0.00449258275|     298.0047025|     296.8279225| 8.1112075E-4|      0.465119995|0.00170988375| 0.2349155925|0.09415284708073625|0.2481577327087127|0.06318375328940291|0.09032578663909083|0.2549171339270624|0.18840978986846046|0.11144319859565201|0.29324402477658323|2.780138120753199|0.5156758621963391|0.1553927609396808|0.12674528734171064|     null|             0.0|            0.185|             0.4|     315.61|          290.58|              382.395|FLUXNET|       9|       SAV|       SA|        Aw|Tropical|         S|    -4.28917|     11.65642|\n",
            "| CG-Tch|      SAV|   10|         24.2965|         3.42375|         7.23125|   63.0653951625|        0.2887092|           0.96707|     0.2852325575|           0.96707|          1.849448|          2.248791|          1.860231|         2.2396885|           2.141815|          2.7671975|          2.1432625|           2.761705|       4.6409494|            66.5|           50.25|           127.5|      0.030229167|     0.0840448425|     -0.00518613475|       299.02821|      298.227245|0.00332506575|      0.532291735| 0.0046308115| 0.2830667575|0.09415284708073625|0.2481577327087127|0.06318375328940291|0.09032578663909083|0.2549171339270624|0.18840978986846046|0.11144319859565201|0.29324402477658323|2.780138120753199|0.5156758621963391|0.1553927609396808|0.12674528734171064|     null|             0.0|           0.2175|           0.525|    302.305|         293.045|            382.45875|FLUXNET|       9|       SAV|       SA|        Aw|Tropical|         S|    -4.28917|     11.65642|\n",
            "| CG-Tch|      SAV|   11|          24.773|3.44966666666667|          12.598|84.4698082766667|        -1.144035| 0.932407333333333|        -1.149898| 0.935185333333333|  5.11813333333333|           5.77444|  5.13784333333333|  5.78285333333333|   3.96842666666667|            4.83468|   3.97716333333333|   4.89800666666667|6.29312376666667|89.3333333333333|56.3333333333333|173.333333333333|0.134091233333333|       0.37218675|       -0.004504795|298.843713333333|298.318486666667|  0.011564004|0.410595386666667|  0.016069377|   0.25752813|0.09415284708073625|0.2481577327087127|0.06318375328940291|0.09032578663909083|0.2549171339270624|0.18840978986846046|0.11144319859565201|0.29324402477658323|2.780138120753199|0.5156758621963391|0.1553927609396808|0.12674528734171064|     null|             0.0|0.426666666666667|1.36666666666667|      304.0|292.993333333333|     382.748333333333|FLUXNET|       9|       SAV|       SA|        Aw|Tropical|         S|    -4.28917|     11.65642|\n",
            "| CG-Tch|      SAV|   12|24.9516666666667|3.45466666666667|8.32766666666667|     77.83825157|-1.75918333333333| 0.977822666666667|-1.75823333333333| 0.978046666666667|  6.49100333333333|  7.23713666666667|  6.57951666666667|           7.23996|   4.75229333333333|   5.82915666666667|            4.80951|   5.85355333333333|7.24527806666667|82.6666666666667|54.3333333333333|162.333333333333|       0.21790926|0.615803313333333|-0.0042544256666666|298.847623333333|       298.32732|  0.008036378|0.377198766666667|  0.023245562|   0.27133414|0.09415284708073625|0.2481577327087127|0.06318375328940291|0.09032578663909083|0.2549171339270624|0.18840978986846046|0.11144319859565201|0.29324402477658323|2.780138120753199|0.5156758621963391|0.1553927609396808|0.12674528734171064|     null|             0.0|             0.53|             1.9|     301.06|294.033333333333|     383.498333333333|FLUXNET|       9|       SAV|       SA|        Aw|Tropical|         S|    -4.28917|     11.65642|\n",
            "+-------+---------+-----+----------------+----------------+----------------+----------------+-----------------+------------------+-----------------+------------------+------------------+------------------+------------------+------------------+-------------------+-------------------+-------------------+-------------------+----------------+----------------+----------------+----------------+-----------------+-----------------+-------------------+----------------+----------------+-------------+-----------------+-------------+-------------+-------------------+------------------+-------------------+-------------------+------------------+-------------------+-------------------+-------------------+-----------------+------------------+------------------+-------------------+---------+----------------+-----------------+----------------+-----------+----------------+---------------------+-------+--------+----------+---------+----------+--------+----------+------------+-------------+\n",
            "\n"
          ]
        }
      ]
    },
    {
      "cell_type": "markdown",
      "source": [
        "## `kNDVI_avg`"
      ],
      "metadata": {
        "id": "ptrvGuwYrfDr"
      }
    },
    {
      "cell_type": "code",
      "source": [
        "static_monthly_sdf.filter(static_monthly_sdf.kNDVI_avg.isNull()).show()"
      ],
      "metadata": {
        "colab": {
          "base_uri": "https://localhost:8080/"
        },
        "outputId": "fcffa9c3-5e52-4cfc-ca63-9419b189cd36",
        "id": "-7muLaTtBUbF"
      },
      "execution_count": 411,
      "outputs": [
        {
          "output_type": "stream",
          "name": "stdout",
          "text": [
            "+-------+---------+-----+----------------+----------------+----------------+----------------+------------------+------------------+------------------+------------------+------------------+------------------+------------------+------------------+-------------------+-------------------+-------------------+-------------------+----------------+----------------+----------------+----------------+-----------------+----------------+-------------------+----------------+----------------+------------------+-----------------+------------------+-----------------+-------------------+------------------+-------------------+-------------------+------------------+-------------------+-------------------+-------------------+-----------------+------------------+------------------+-------------------+---------+----------------+-----------------+----------------+----------------+----------------+---------------------+-------+--------+----------+---------+----------+--------+----------+------------+-------------+\n",
            "|SITE_ID|SITE_IGBP|month|        TA_F_avg|       VPD_F_avg|         P_F_avg|      NETRAD_avg|   NEE_VUT_REF_avg|NEE_VUT_REF_QC_avg|   NEE_CUT_REF_avg|NEE_CUT_REF_QC_avg|GPP_NT_VUT_REF_avg|GPP_DT_VUT_REF_avg|GPP_NT_CUT_REF_avg|GPP_DT_CUT_REF_avg|RECO_NT_VUT_REF_avg|RECO_DT_VUT_REF_avg|RECO_NT_CUT_REF_avg|RECO_DT_CUT_REF_avg|          ET_avg|    BESS_PAR_avg|BESS_PARdiff_avg|   BESS_RSDN_avg|CSIF_SIFdaily_avg|CSIF_SIFinst_avg|            PET_avg|          Ts_avg|       Tmean_avg|          prcp_avg|          vpd_avg|     prcp_lag3_avg|    ESACCI_sm_avg|             b1_avg|            b2_avg|             b3_avg|             b4_avg|            b5_avg|             b6_avg|             b7_avg|            EVI_avg|          GCI_avg|          NDVI_avg|          NDWI_avg|           NIRv_avg|kNDVI_avg|Percent_Snow_avg|         Fpar_avg|         Lai_avg|     LST_Day_avg|   LST_Night_avg|CO2_concentration_avg|dataset|MODIS_LC|MODIS_IGBP|MODIS_PFT|koppen_sub|  koppen|hemisphere|LOCATION_LAT|LOCATION_LONG|\n",
            "+-------+---------+-----+----------------+----------------+----------------+----------------+------------------+------------------+------------------+------------------+------------------+------------------+------------------+------------------+-------------------+-------------------+-------------------+-------------------+----------------+----------------+----------------+----------------+-----------------+----------------+-------------------+----------------+----------------+------------------+-----------------+------------------+-----------------+-------------------+------------------+-------------------+-------------------+------------------+-------------------+-------------------+-------------------+-----------------+------------------+------------------+-------------------+---------+----------------+-----------------+----------------+----------------+----------------+---------------------+-------+--------+----------+---------+----------+--------+----------+------------+-------------+\n",
            "| BR-Sa1|      EBF|    2|         24.5932|          3.2596|         11.6638|   103.916001935|          0.752247|         0.9046388|          0.665946|         0.9064244|          9.152898|          9.985802|          9.121394|          9.503096|           9.918792|           11.67512|           9.812914|           10.79084|       9.1968518|            97.2|            66.0|           185.2|      0.436322878|     1.284513312|      -0.0079961852|      298.333916|       298.36571|      0.0159094596|      0.476067162|      0.0364197696|      0.357065588|0.09415284708073625|0.2481577327087127|0.06318375328940291|0.09032578663909083|0.2549171339270624|0.18840978986846046|0.11144319859565201|0.29324402477658323|2.780138120753199|0.5156758621963391|0.1553927609396808|0.12674528734171064|     null|             0.0|            0.722|            3.98|          299.02|         294.752|              379.342|FLUXNET|       2|       EBF|      EBF|        Am|Tropical|         S|    -2.85667|    -54.95889|\n",
            "| BR-Sa1|      EBF|    3|          24.663|          3.4598|           9.847|   112.197708785|         0.7480388|         0.8862902|        0.65718296|         0.8844088|          9.219016|         10.418144|          9.020962|           9.74782|            9.94018|          12.226194|            9.61147|          11.224752|        9.291345|            99.0|            63.8|           190.6|      0.464558814|      1.36629682|       -0.007662013|      298.400694|      298.449634|      0.0167185276|       0.47860039|      0.0447365062|       0.36418543|0.09415284708073625|0.2481577327087127|0.06318375328940291|0.09032578663909083|0.2549171339270624|0.18840978986846046|0.11144319859565201|0.29324402477658323|2.780138120753199|0.5156758621963391|0.1553927609396808|0.12674528734171064|     null|             0.0|            0.748|            4.38|         299.528|         294.912|              379.848|FLUXNET|       2|       EBF|      EBF|        Am|Tropical|         S|    -2.85667|    -54.95889|\n",
            "| BR-Sa1|      EBF|    4|        24.91125|           3.371|        10.52575|     116.1915743|        0.66139175|        0.93298625|        0.60177625|        0.93090275|         8.6765175|         9.7988725|         8.6270375|          9.575445|          9.3192325|         11.0331325|            9.25605|           10.78305|        8.915563|            98.0|           59.25|          188.75|     0.4144168875|     1.204944425|     -0.00649889825|     298.3763025|     298.4726825|     0.01875316925|     0.4250128725|       0.047241778|     0.3721353625|0.09415284708073625|0.2481577327087127|0.06318375328940291|0.09032578663909083|0.2549171339270624|0.18840978986846046|0.11144319859565201|0.29324402477658323|2.780138120753199|0.5156758621963391|0.1553927609396808|0.12674528734171064|     null|             0.0|           0.7475|            4.35|          298.24|          294.77|             381.7325|FLUXNET|       2|       EBF|      EBF|        Am|Tropical|         S|    -2.85667|    -54.95889|\n",
            "| BR-Sa1|      EBF|   11|         26.8992|          7.6816|           5.052|137.051523366667|        -1.3091478|         0.8869444|        -1.2806046|          0.878611|          9.841522|          10.21034|          9.394126|         10.582654|            8.69175|          10.312484|            8.05509|          10.413654|      11.3477482|            96.0|            50.8|           198.6|      0.463914644|      1.29419548|      -0.0121751948|      300.822084|      300.636158|      0.0050468194|      0.903766922|      0.0126276786|      0.258217536|0.09415284708073625|0.2481577327087127|0.06318375328940291|0.09032578663909083|0.2549171339270624|0.18840978986846046|0.11144319859565201|0.29324402477658323|2.780138120753199|0.5156758621963391|0.1553927609396808|0.12674528734171064|     null|             0.0|            0.788|             5.0|         301.524|         295.484|              377.088|FLUXNET|       2|       EBF|      EBF|        Am|Tropical|         S|    -2.85667|    -54.95889|\n",
            "| BR-Sa1|      EBF|   12|26.0522857142857|6.17171428571429|7.34928571428571|112.872759405714|-0.393712428571429| 0.920506857142857|         -0.320412| 0.915514714285714|  9.64429142857143|  10.0376671428571|  9.59727428571429|  9.64926285714286|   9.34510714285714|   10.2804628571429|   9.10579428571429|   10.0704314285714|10.5380442142857|94.5714285714286|55.5714285714286|187.428571428571|0.438690488571429|1.24734255714286|-0.0101647228571429|299.734795714286|299.651765714286|0.0092598214285714|0.711870374285714|0.0183790024285714|0.285550201428571|0.09415284708073625|0.2481577327087127|0.06318375328940291|0.09032578663909083|0.2549171339270624|0.18840978986846046|0.11144319859565201|0.29324402477658323|2.780138120753199|0.5156758621963391|0.1553927609396808|0.12674528734171064|     null|             0.0|0.792857142857143|4.94285714285714|300.765714285714|295.497142857143|              380.585|FLUXNET|       2|       EBF|      EBF|        Am|Tropical|         S|    -2.85667|    -54.95889|\n",
            "| BR-Sa3|      EBF|    1|25.0426666666667|           8.106|5.74533333333333|109.134329853333|-0.398124333333333| 0.934587666666667|-0.435013666666667| 0.935931666666667|  8.48076333333333|  10.0659466666667|           8.44135|  10.2428766666667|   8.04271666666667|            11.3558|   8.09660666666667|            11.4665|        8.556116|96.6666666666667|            61.0|           187.0|0.383164126666667|      1.11340111|-0.0063834043333333|298.760286666667|       298.66215|0.0109330623333333|0.581504056666667|       0.020362048|0.327775556666667|0.09415284708073625|               0.0|0.06318375328940291|0.09032578663909083|0.2549171339270624|0.18840978986846046|0.11144319859565201|0.29324402477658323|2.780138120753199|0.5156758621963391|0.1553927609396808|0.12674528734171064|     null|             0.0|0.736666666666667|             4.2|298.313333333333|295.206666666667|               371.41|FLUXNET|       2|       EBF|      EBF|        Am|Tropical|         S|    -3.01803|    -54.97144|\n",
            "| BR-Sa3|      EBF|    2|        24.65125|         7.48475|          7.5375|106.950809466667|           0.20834|        0.94233625|          0.169485|         0.9432535|         9.2071425|          10.32765|         9.2874725|        10.2942625|          9.4159425|          11.838325|          9.5240775|            11.8167|        8.274622|           101.0|           66.25|          193.25|     0.4229104975|     1.244580015|     -0.00567118825|      298.332155|      298.215265|      0.0131925825|      0.472393435|     0.03018732275|     0.3403658775|0.09415284708073625|               0.0|0.06318375328940291|0.09032578663909083|0.2549171339270624|0.18840978986846046|0.11144319859565201|0.29324402477658323|2.780138120753199|0.5156758621963391|0.1553927609396808|0.12674528734171064|     null|             0.0|            0.745|           4.525|         298.685|         294.865|            372.80875|FLUXNET|       2|       EBF|      EBF|        Am|Tropical|         S|    -3.01803|    -54.97144|\n",
            "| BR-Sa3|      EBF|    3|          24.728|6.69366666666667|5.91066666666667|      111.814632|          0.472336| 0.988575333333333| 0.337930066666667| 0.988575333333333|  9.41352333333333|           10.7614|  9.42615666666667|  10.5019666666667|   9.94390333333333|   12.0358666666667|   9.93540333333333|   12.4301333333333|8.51926766666667|           101.0|64.6666666666667|193.666666666667|0.424061546666667|      1.24682568|-0.0056861663333333|298.414683333333|298.309043333333|0.0122179656666667|0.491019646666667|0.0363624646666667|0.345974316666667|0.09415284708073625|               0.0|0.06318375328940291|0.09032578663909083|0.2549171339270624|0.18840978986846046|0.11144319859565201|0.29324402477658323|2.780138120753199|0.5156758621963391|0.1553927609396808|0.12674528734171064|     null|             0.0|0.763333333333333|4.66666666666667|299.046666666667|          294.86|               372.18|FLUXNET|       2|       EBF|      EBF|        Am|Tropical|         S|    -3.01803|    -54.97144|\n",
            "| BR-Sa3|      EBF|    4|         24.6335|          5.6485|           7.952|     120.3635711|         0.4114185|         0.9725695|         0.5914874|          0.973264|          9.330805|          9.178355|           9.26708|          8.861205|            9.71764|           9.216645|            9.76509|           9.457295|       8.6502985|            97.5|            58.0|           189.0|       0.42986619|      1.24997345|      -0.0050853675|      298.505635|      298.438615|       0.013383899|       0.44126245|      0.0388952085|        0.3575286|0.09415284708073625|0.2481577327087127|0.06318375328940291|0.09032578663909083|0.2549171339270624|0.18840978986846046|0.11144319859565201|0.29324402477658323|2.780138120753199|0.5156758621963391|0.1553927609396808|0.12674528734171064|     null|             0.0|             0.79|            5.25|          297.75|          294.02|              373.845|FLUXNET|       2|       EBF|      EBF|        Am|Tropical|         S|    -3.01803|    -54.97144|\n",
            "| BR-Sa3|      EBF|   11|           26.02|           8.127|           3.234|     119.0993865|         -0.905984|           0.99375|          -1.00822|          0.994444|           8.44961|           10.5931|           8.44073|           10.5627|            7.55947|            11.2076|            7.55947|            10.2874|        11.36252|            96.0|            52.0|           195.0|       0.45063403|       1.2562166|       -0.006906278|       299.91623|       299.77252|       0.004799206|        0.6671918|       0.014753038|       0.32659754|0.09415284708073625|0.2481577327087127|0.06318375328940291|0.09032578663909083|0.2549171339270624|0.18840978986846046|0.11144319859565201|0.29324402477658323|2.780138120753199|0.5156758621963391|0.1553927609396808|0.12674528734171064|     null|             0.0|             0.77|             4.6|          301.42|          294.62|              374.555|FLUXNET|       2|       EBF|      EBF|        Am|Tropical|         S|    -3.01803|    -54.97144|\n",
            "| BR-Sa3|      EBF|   12|          26.953|          11.786|           1.814|     124.2206446|        -0.4648364|          0.935484|        -0.4830845|          0.935484|           7.55138|          9.940925|          7.552585|          10.15451|            7.09759|            11.3655|           7.022155|           11.00485|       11.371528|            90.5|            56.5|           178.5|       0.42505756|       1.2077952|      -0.0077537595|      300.347335|       299.97152|      0.0058658995|       0.77426143|       0.011982961|      0.286874325|0.09415284708073625|0.2481577327087127|0.06318375328940291|0.09032578663909083|0.2549171339270624|0.18840978986846046|0.11144319859565201|0.29324402477658323|2.780138120753199|0.5156758621963391|0.1553927609396808|0.12674528734171064|     null|             0.0|            0.795|             4.6|          300.51|          295.54|             371.8375|FLUXNET|       2|       EBF|      EBF|        Am|Tropical|         S|    -3.01803|    -54.97144|\n",
            "| CG-Tch|      SAV|    1|          25.077|           3.692|           4.165|     78.78630262|         -0.963938|          0.998656|         -0.975739|          0.999328|           5.06675|           5.96233|            5.0592|           5.92682|             4.1019|            5.40483|            4.08881|            5.36315|        7.604372|            87.0|            56.0|           171.0|       0.19039673|       0.5502555|       -0.004625119|       299.09644|       298.51752|        0.00619193|       0.41994953|       0.023520436|       0.26890516|0.09415284708073625|0.2481577327087127|0.06318375328940291|0.09032578663909083|0.2549171339270624|0.18840978986846046|0.11144319859565201|0.29324402477658323|2.780138120753199|0.5156758621963391|0.1553927609396808|0.12674528734171064|     null|             0.0|             0.48|             1.4|          306.06|          293.96|              383.875|FLUXNET|       9|       SAV|       SA|        Aw|Tropical|         S|    -4.28917|     11.65642|\n",
            "| CG-Tch|      SAV|    3|           26.28|            6.01|           3.621|     109.3945466|        -0.0436207|          0.981855|        -0.0801859|          0.984543|           3.78114|           4.57745|           3.77755|           4.56805|            3.73638|            4.64678|            3.72375|            4.61246|         8.24458|           103.0|            58.0|           205.0|       0.14162406|       0.4155562|       -0.005217791|       299.92426|       299.34476|       0.004573783|        0.4780943|       0.015857635|       0.27549294|0.09415284708073625|0.2481577327087127|0.06318375328940291|0.09032578663909083|0.2549171339270624|0.18840978986846046|0.11144319859565201|0.29324402477658323|2.780138120753199|0.5156758621963391|0.1553927609396808|0.12674528734171064|     null|             0.0|             0.42|             1.4|          313.86|           295.7|               384.18|FLUXNET|       9|       SAV|       SA|        Aw|Tropical|         S|    -4.28917|     11.65642|\n",
            "| CG-Tch|      SAV|    4|          26.005|            4.86|          6.5105|    102.04518632|        -1.0754925|          0.979167|         -1.125561|         0.9847225|          6.802165|          7.330865|            6.7953|          7.414985|            5.68705|           6.261805|            5.67086|            6.31742|      7.47345735|            99.5|            54.5|           197.0|      0.199507955|      0.58027448|      -0.0046831745|      299.812565|       299.21895|       0.007024879|       0.42578727|       0.019179416|      0.268158255|0.09415284708073625|0.2481577327087127|0.06318375328940291|0.09032578663909083|0.2549171339270624|0.18840978986846046|0.11144319859565201|0.29324402477658323|2.780138120753199|0.5156758621963391|0.1553927609396808|0.12674528734171064|     null|             0.0|            0.465|             1.4|          308.58|           295.1|              385.765|FLUXNET|       9|       SAV|       SA|        Aw|Tropical|         S|    -4.28917|     11.65642|\n",
            "| CG-Tch|      SAV|    5|         25.5655|          4.2385|          2.9815|     86.02576361|        -1.3328545|          0.997984|        -1.3341645|          0.997984|           6.39821|           6.83499|           6.40157|           6.83654|            5.05893|           5.533085|            5.04062|           5.484145|       6.5868522|            81.5|            46.0|           165.0|      0.209910165|      0.60990241|       -0.004423976|       299.39235|       298.79334|      0.0037210465|       0.40517684|      0.0161392565|       0.25663471|0.09415284708073625|0.2481577327087127|0.06318375328940291|0.09032578663909083|0.2549171339270624|0.18840978986846046|0.11144319859565201|0.29324402477658323|2.780138120753199|0.5156758621963391|0.1553927609396808|0.12674528734171064|     null|             0.0|             0.47|             1.4|          305.59|          291.51|             386.3275|FLUXNET|       9|       SAV|       SA|        Aw|Tropical|         S|    -4.28917|     11.65642|\n",
            "| CG-Tch|      SAV|    6|         22.6295|          3.4925|          0.1385|     58.27694692|          -0.60437|          0.999653|        -0.6014295|          0.999653|           3.06881|           3.40794|            3.0739|           3.37129|           2.468855|            2.85687|           2.475915|            2.87977|       4.7603765|            58.0|            38.0|           121.5|      0.165442535|     0.485369425|       -0.003636863|      296.534455|      295.976135|       4.381175E-4|      0.354927435|       0.011184042|      0.162718075|0.09415284708073625|0.2481577327087127|0.06318375328940291|0.09032578663909083|0.2549171339270624|0.18840978986846046|0.11144319859565201|0.29324402477658323|2.780138120753199|0.5156758621963391|0.1553927609396808|0.12674528734171064|     null|             0.0|            0.395|             0.9|          303.61|          291.33|             386.1425|FLUXNET|       9|       SAV|       SA|        Aw|Tropical|         S|    -4.28917|     11.65642|\n",
            "| CG-Tch|      SAV|    7|         21.7145|          3.8575|          0.0655|    48.054493155|          0.513693|          0.972446|        0.50825325|        0.97379025|        0.67838425|          0.986819|        0.66525925|          1.083918|         1.18767325|           1.433455|         1.17500375|          1.4828725|       4.8133691|           60.75|           38.75|           131.0|       0.04896109|   0.14500660125|       -0.003897473|       296.06148|      295.158005|      4.0413775E-4|      0.394222655|     0.00419324425|     0.1609908525|0.09415284708073625|0.2481577327087127|0.06318375328940291|0.09032578663909083|0.2549171339270624|0.18840978986846046|0.11144319859565201|0.29324402477658323|2.780138120753199|0.5156758621963391|0.1553927609396808|0.12674528734171064|     null|             0.0|            0.225|           0.525|         307.305|          290.12|               383.67|FLUXNET|       9|       SAV|       SA|        Aw|Tropical|         S|    -4.28917|     11.65642|\n",
            "| CG-Tch|      SAV|    8|         21.9225|         3.62775|          0.1555|    44.857874095|         0.3781545|          0.997816|         0.3772525|          0.997816|        0.62707825|        0.83106625|        0.62225275|         0.8530855|           1.003344|          1.1753515|           0.996611|           1.260776|     4.272573825|           56.25|            39.5|          119.75|    0.01555125125|      0.04566756|     -0.00397380425|     296.6664825|       295.47047|      4.9462525E-4|     0.3937289475|      0.0014240775|     0.1737774275|0.09415284708073625|0.2481577327087127|0.06318375328940291|0.09032578663909083|0.2549171339270624|0.18840978986846046|0.11144319859565201|0.29324402477658323|2.780138120753199|0.5156758621963391|0.1553927609396808|0.12674528734171064|     null|             0.0|           0.1975|            0.45|         311.345|         290.145|               382.87|FLUXNET|       9|       SAV|       SA|        Aw|Tropical|         S|    -4.28917|     11.65642|\n",
            "| CG-Tch|      SAV|    9|        22.91025|         3.50825|          0.4975|     48.48534288|         0.4071315|        0.98246525|          0.406676|        0.98385425|         0.5465985|        0.97330425|        0.54189675|        1.01369825|          0.9468435|         1.61204025|         0.94477025|           1.653265|     3.899200375|           59.75|            46.0|          120.75|     0.0098225195|   0.02812026625|     -0.00449258275|     298.0047025|     296.8279225|      8.1112075E-4|      0.465119995|     0.00170988375|     0.2349155925|0.09415284708073625|0.2481577327087127|0.06318375328940291|0.09032578663909083|0.2549171339270624|0.18840978986846046|0.11144319859565201|0.29324402477658323|2.780138120753199|0.5156758621963391|0.1553927609396808|0.12674528734171064|     null|             0.0|            0.185|             0.4|          315.61|          290.58|              382.395|FLUXNET|       9|       SAV|       SA|        Aw|Tropical|         S|    -4.28917|     11.65642|\n",
            "| CG-Tch|      SAV|   10|         24.2965|         3.42375|         7.23125|   63.0653951625|         0.2887092|           0.96707|      0.2852325575|           0.96707|          1.849448|          2.248791|          1.860231|         2.2396885|           2.141815|          2.7671975|          2.1432625|           2.761705|       4.6409494|            66.5|           50.25|           127.5|      0.030229167|    0.0840448425|     -0.00518613475|       299.02821|      298.227245|     0.00332506575|      0.532291735|      0.0046308115|     0.2830667575|0.09415284708073625|0.2481577327087127|0.06318375328940291|0.09032578663909083|0.2549171339270624|0.18840978986846046|0.11144319859565201|0.29324402477658323|2.780138120753199|0.5156758621963391|0.1553927609396808|0.12674528734171064|     null|             0.0|           0.2175|           0.525|         302.305|         293.045|            382.45875|FLUXNET|       9|       SAV|       SA|        Aw|Tropical|         S|    -4.28917|     11.65642|\n",
            "+-------+---------+-----+----------------+----------------+----------------+----------------+------------------+------------------+------------------+------------------+------------------+------------------+------------------+------------------+-------------------+-------------------+-------------------+-------------------+----------------+----------------+----------------+----------------+-----------------+----------------+-------------------+----------------+----------------+------------------+-----------------+------------------+-----------------+-------------------+------------------+-------------------+-------------------+------------------+-------------------+-------------------+-------------------+-----------------+------------------+------------------+-------------------+---------+----------------+-----------------+----------------+----------------+----------------+---------------------+-------+--------+----------+---------+----------+--------+----------+------------+-------------+\n",
            "only showing top 20 rows\n",
            "\n"
          ]
        }
      ]
    },
    {
      "cell_type": "code",
      "source": [
        "static_monthly_sdf.filter(static_monthly_sdf.kNDVI_avg.isNull()).groupBy(\"SITE_ID\").count().show()"
      ],
      "metadata": {
        "colab": {
          "base_uri": "https://localhost:8080/"
        },
        "outputId": "1b9cd62a-fea2-473e-af7f-b1af089227c3",
        "id": "oYv3nOfIBUbF"
      },
      "execution_count": 412,
      "outputs": [
        {
          "output_type": "stream",
          "name": "stdout",
          "text": [
            "+-------+-----+\n",
            "|SITE_ID|count|\n",
            "+-------+-----+\n",
            "| CN-Cha|    1|\n",
            "| SE-Svb|    1|\n",
            "| BR-Sa3|    6|\n",
            "| SE-Ros|    2|\n",
            "| PA-SPn|    5|\n",
            "| US-Ivo|    3|\n",
            "| CG-Tch|   11|\n",
            "| SE-Deg|    1|\n",
            "| SE-Lnn|    1|\n",
            "| FI-Var|    3|\n",
            "| GH-Ank|    8|\n",
            "| SJ-Adv|    2|\n",
            "| US-UMB|    1|\n",
            "| FI-Qvd|    1|\n",
            "| US-UMd|    1|\n",
            "| CH-Aws|    3|\n",
            "| CN-Din|    1|\n",
            "| US-Syv|    2|\n",
            "| FI-Lom|    3|\n",
            "| US-Atq|    3|\n",
            "+-------+-----+\n",
            "only showing top 20 rows\n",
            "\n"
          ]
        }
      ]
    },
    {
      "cell_type": "markdown",
      "source": [
        "### Impute with average across sites"
      ],
      "metadata": {
        "id": "pj53CJwvBUbF"
      }
    },
    {
      "cell_type": "code",
      "source": [
        "static_monthly_sdf = static_monthly_sdf.fillna(value = static_monthly_sdf\n",
        "    .select(mean('kNDVI_avg')).head()[0],subset = ['kNDVI_avg'])"
      ],
      "metadata": {
        "id": "1qIe1gbWBUbF"
      },
      "execution_count": 413,
      "outputs": []
    },
    {
      "cell_type": "code",
      "source": [
        "static_monthly_sdf.filter(static_monthly_sdf.SITE_ID == 'CG-Tch').show()"
      ],
      "metadata": {
        "colab": {
          "base_uri": "https://localhost:8080/"
        },
        "outputId": "96b71320-d754-49e2-d02b-1fa2050bc162",
        "id": "H7lJCR4ZBUbF"
      },
      "execution_count": 414,
      "outputs": [
        {
          "output_type": "stream",
          "name": "stdout",
          "text": [
            "+-------+---------+-----+----------------+----------------+----------------+----------------+-----------------+------------------+-----------------+------------------+------------------+------------------+------------------+------------------+-------------------+-------------------+-------------------+-------------------+----------------+----------------+----------------+----------------+-----------------+-----------------+-------------------+----------------+----------------+-------------+-----------------+-------------+-------------+-------------------+------------------+-------------------+-------------------+------------------+-------------------+-------------------+-------------------+-----------------+------------------+------------------+-------------------+-------------------+----------------+-----------------+----------------+-----------+----------------+---------------------+-------+--------+----------+---------+----------+--------+----------+------------+-------------+\n",
            "|SITE_ID|SITE_IGBP|month|        TA_F_avg|       VPD_F_avg|         P_F_avg|      NETRAD_avg|  NEE_VUT_REF_avg|NEE_VUT_REF_QC_avg|  NEE_CUT_REF_avg|NEE_CUT_REF_QC_avg|GPP_NT_VUT_REF_avg|GPP_DT_VUT_REF_avg|GPP_NT_CUT_REF_avg|GPP_DT_CUT_REF_avg|RECO_NT_VUT_REF_avg|RECO_DT_VUT_REF_avg|RECO_NT_CUT_REF_avg|RECO_DT_CUT_REF_avg|          ET_avg|    BESS_PAR_avg|BESS_PARdiff_avg|   BESS_RSDN_avg|CSIF_SIFdaily_avg| CSIF_SIFinst_avg|            PET_avg|          Ts_avg|       Tmean_avg|     prcp_avg|          vpd_avg|prcp_lag3_avg|ESACCI_sm_avg|             b1_avg|            b2_avg|             b3_avg|             b4_avg|            b5_avg|             b6_avg|             b7_avg|            EVI_avg|          GCI_avg|          NDVI_avg|          NDWI_avg|           NIRv_avg|          kNDVI_avg|Percent_Snow_avg|         Fpar_avg|         Lai_avg|LST_Day_avg|   LST_Night_avg|CO2_concentration_avg|dataset|MODIS_LC|MODIS_IGBP|MODIS_PFT|koppen_sub|  koppen|hemisphere|LOCATION_LAT|LOCATION_LONG|\n",
            "+-------+---------+-----+----------------+----------------+----------------+----------------+-----------------+------------------+-----------------+------------------+------------------+------------------+------------------+------------------+-------------------+-------------------+-------------------+-------------------+----------------+----------------+----------------+----------------+-----------------+-----------------+-------------------+----------------+----------------+-------------+-----------------+-------------+-------------+-------------------+------------------+-------------------+-------------------+------------------+-------------------+-------------------+-------------------+-----------------+------------------+------------------+-------------------+-------------------+----------------+-----------------+----------------+-----------+----------------+---------------------+-------+--------+----------+---------+----------+--------+----------+------------+-------------+\n",
            "| CG-Tch|      SAV|    1|          25.077|           3.692|           4.165|     78.78630262|        -0.963938|          0.998656|        -0.975739|          0.999328|           5.06675|           5.96233|            5.0592|           5.92682|             4.1019|            5.40483|            4.08881|            5.36315|        7.604372|            87.0|            56.0|           171.0|       0.19039673|        0.5502555|       -0.004625119|       299.09644|       298.51752|   0.00619193|       0.41994953|  0.023520436|   0.26890516|0.09415284708073625|0.2481577327087127|0.06318375328940291|0.09032578663909083|0.2549171339270624|0.18840978986846046|0.11144319859565201|0.29324402477658323|2.780138120753199|0.5156758621963391|0.1553927609396808|0.12674528734171064|0.28881649302751955|             0.0|             0.48|             1.4|     306.06|          293.96|              383.875|FLUXNET|       9|       SAV|       SA|        Aw|Tropical|         S|    -4.28917|     11.65642|\n",
            "| CG-Tch|      SAV|    3|           26.28|            6.01|           3.621|     109.3945466|       -0.0436207|          0.981855|       -0.0801859|          0.984543|           3.78114|           4.57745|           3.77755|           4.56805|            3.73638|            4.64678|            3.72375|            4.61246|         8.24458|           103.0|            58.0|           205.0|       0.14162406|        0.4155562|       -0.005217791|       299.92426|       299.34476|  0.004573783|        0.4780943|  0.015857635|   0.27549294|0.09415284708073625|0.2481577327087127|0.06318375328940291|0.09032578663909083|0.2549171339270624|0.18840978986846046|0.11144319859565201|0.29324402477658323|2.780138120753199|0.5156758621963391|0.1553927609396808|0.12674528734171064|0.28881649302751955|             0.0|             0.42|             1.4|     313.86|           295.7|               384.18|FLUXNET|       9|       SAV|       SA|        Aw|Tropical|         S|    -4.28917|     11.65642|\n",
            "| CG-Tch|      SAV|    4|          26.005|            4.86|          6.5105|    102.04518632|       -1.0754925|          0.979167|        -1.125561|         0.9847225|          6.802165|          7.330865|            6.7953|          7.414985|            5.68705|           6.261805|            5.67086|            6.31742|      7.47345735|            99.5|            54.5|           197.0|      0.199507955|       0.58027448|      -0.0046831745|      299.812565|       299.21895|  0.007024879|       0.42578727|  0.019179416|  0.268158255|0.09415284708073625|0.2481577327087127|0.06318375328940291|0.09032578663909083|0.2549171339270624|0.18840978986846046|0.11144319859565201|0.29324402477658323|2.780138120753199|0.5156758621963391|0.1553927609396808|0.12674528734171064|0.28881649302751955|             0.0|            0.465|             1.4|     308.58|           295.1|              385.765|FLUXNET|       9|       SAV|       SA|        Aw|Tropical|         S|    -4.28917|     11.65642|\n",
            "| CG-Tch|      SAV|    5|         25.5655|          4.2385|          2.9815|     86.02576361|       -1.3328545|          0.997984|       -1.3341645|          0.997984|           6.39821|           6.83499|           6.40157|           6.83654|            5.05893|           5.533085|            5.04062|           5.484145|       6.5868522|            81.5|            46.0|           165.0|      0.209910165|       0.60990241|       -0.004423976|       299.39235|       298.79334| 0.0037210465|       0.40517684| 0.0161392565|   0.25663471|0.09415284708073625|0.2481577327087127|0.06318375328940291|0.09032578663909083|0.2549171339270624|0.18840978986846046|0.11144319859565201|0.29324402477658323|2.780138120753199|0.5156758621963391|0.1553927609396808|0.12674528734171064|0.28881649302751955|             0.0|             0.47|             1.4|     305.59|          291.51|             386.3275|FLUXNET|       9|       SAV|       SA|        Aw|Tropical|         S|    -4.28917|     11.65642|\n",
            "| CG-Tch|      SAV|    6|         22.6295|          3.4925|          0.1385|     58.27694692|         -0.60437|          0.999653|       -0.6014295|          0.999653|           3.06881|           3.40794|            3.0739|           3.37129|           2.468855|            2.85687|           2.475915|            2.87977|       4.7603765|            58.0|            38.0|           121.5|      0.165442535|      0.485369425|       -0.003636863|      296.534455|      295.976135|  4.381175E-4|      0.354927435|  0.011184042|  0.162718075|0.09415284708073625|0.2481577327087127|0.06318375328940291|0.09032578663909083|0.2549171339270624|0.18840978986846046|0.11144319859565201|0.29324402477658323|2.780138120753199|0.5156758621963391|0.1553927609396808|0.12674528734171064|0.28881649302751955|             0.0|            0.395|             0.9|     303.61|          291.33|             386.1425|FLUXNET|       9|       SAV|       SA|        Aw|Tropical|         S|    -4.28917|     11.65642|\n",
            "| CG-Tch|      SAV|    7|         21.7145|          3.8575|          0.0655|    48.054493155|         0.513693|          0.972446|       0.50825325|        0.97379025|        0.67838425|          0.986819|        0.66525925|          1.083918|         1.18767325|           1.433455|         1.17500375|          1.4828725|       4.8133691|           60.75|           38.75|           131.0|       0.04896109|    0.14500660125|       -0.003897473|       296.06148|      295.158005| 4.0413775E-4|      0.394222655|0.00419324425| 0.1609908525|0.09415284708073625|0.2481577327087127|0.06318375328940291|0.09032578663909083|0.2549171339270624|0.18840978986846046|0.11144319859565201|0.29324402477658323|2.780138120753199|0.5156758621963391|0.1553927609396808|0.12674528734171064|0.28881649302751955|             0.0|            0.225|           0.525|    307.305|          290.12|               383.67|FLUXNET|       9|       SAV|       SA|        Aw|Tropical|         S|    -4.28917|     11.65642|\n",
            "| CG-Tch|      SAV|    8|         21.9225|         3.62775|          0.1555|    44.857874095|        0.3781545|          0.997816|        0.3772525|          0.997816|        0.62707825|        0.83106625|        0.62225275|         0.8530855|           1.003344|          1.1753515|           0.996611|           1.260776|     4.272573825|           56.25|            39.5|          119.75|    0.01555125125|       0.04566756|     -0.00397380425|     296.6664825|       295.47047| 4.9462525E-4|     0.3937289475| 0.0014240775| 0.1737774275|0.09415284708073625|0.2481577327087127|0.06318375328940291|0.09032578663909083|0.2549171339270624|0.18840978986846046|0.11144319859565201|0.29324402477658323|2.780138120753199|0.5156758621963391|0.1553927609396808|0.12674528734171064|0.28881649302751955|             0.0|           0.1975|            0.45|    311.345|         290.145|               382.87|FLUXNET|       9|       SAV|       SA|        Aw|Tropical|         S|    -4.28917|     11.65642|\n",
            "| CG-Tch|      SAV|    9|        22.91025|         3.50825|          0.4975|     48.48534288|        0.4071315|        0.98246525|         0.406676|        0.98385425|         0.5465985|        0.97330425|        0.54189675|        1.01369825|          0.9468435|         1.61204025|         0.94477025|           1.653265|     3.899200375|           59.75|            46.0|          120.75|     0.0098225195|    0.02812026625|     -0.00449258275|     298.0047025|     296.8279225| 8.1112075E-4|      0.465119995|0.00170988375| 0.2349155925|0.09415284708073625|0.2481577327087127|0.06318375328940291|0.09032578663909083|0.2549171339270624|0.18840978986846046|0.11144319859565201|0.29324402477658323|2.780138120753199|0.5156758621963391|0.1553927609396808|0.12674528734171064|0.28881649302751955|             0.0|            0.185|             0.4|     315.61|          290.58|              382.395|FLUXNET|       9|       SAV|       SA|        Aw|Tropical|         S|    -4.28917|     11.65642|\n",
            "| CG-Tch|      SAV|   10|         24.2965|         3.42375|         7.23125|   63.0653951625|        0.2887092|           0.96707|     0.2852325575|           0.96707|          1.849448|          2.248791|          1.860231|         2.2396885|           2.141815|          2.7671975|          2.1432625|           2.761705|       4.6409494|            66.5|           50.25|           127.5|      0.030229167|     0.0840448425|     -0.00518613475|       299.02821|      298.227245|0.00332506575|      0.532291735| 0.0046308115| 0.2830667575|0.09415284708073625|0.2481577327087127|0.06318375328940291|0.09032578663909083|0.2549171339270624|0.18840978986846046|0.11144319859565201|0.29324402477658323|2.780138120753199|0.5156758621963391|0.1553927609396808|0.12674528734171064|0.28881649302751955|             0.0|           0.2175|           0.525|    302.305|         293.045|            382.45875|FLUXNET|       9|       SAV|       SA|        Aw|Tropical|         S|    -4.28917|     11.65642|\n",
            "| CG-Tch|      SAV|   11|          24.773|3.44966666666667|          12.598|84.4698082766667|        -1.144035| 0.932407333333333|        -1.149898| 0.935185333333333|  5.11813333333333|           5.77444|  5.13784333333333|  5.78285333333333|   3.96842666666667|            4.83468|   3.97716333333333|   4.89800666666667|6.29312376666667|89.3333333333333|56.3333333333333|173.333333333333|0.134091233333333|       0.37218675|       -0.004504795|298.843713333333|298.318486666667|  0.011564004|0.410595386666667|  0.016069377|   0.25752813|0.09415284708073625|0.2481577327087127|0.06318375328940291|0.09032578663909083|0.2549171339270624|0.18840978986846046|0.11144319859565201|0.29324402477658323|2.780138120753199|0.5156758621963391|0.1553927609396808|0.12674528734171064|0.28881649302751955|             0.0|0.426666666666667|1.36666666666667|      304.0|292.993333333333|     382.748333333333|FLUXNET|       9|       SAV|       SA|        Aw|Tropical|         S|    -4.28917|     11.65642|\n",
            "| CG-Tch|      SAV|   12|24.9516666666667|3.45466666666667|8.32766666666667|     77.83825157|-1.75918333333333| 0.977822666666667|-1.75823333333333| 0.978046666666667|  6.49100333333333|  7.23713666666667|  6.57951666666667|           7.23996|   4.75229333333333|   5.82915666666667|            4.80951|   5.85355333333333|7.24527806666667|82.6666666666667|54.3333333333333|162.333333333333|       0.21790926|0.615803313333333|-0.0042544256666666|298.847623333333|       298.32732|  0.008036378|0.377198766666667|  0.023245562|   0.27133414|0.09415284708073625|0.2481577327087127|0.06318375328940291|0.09032578663909083|0.2549171339270624|0.18840978986846046|0.11144319859565201|0.29324402477658323|2.780138120753199|0.5156758621963391|0.1553927609396808|0.12674528734171064|0.28881649302751955|             0.0|             0.53|             1.9|     301.06|294.033333333333|     383.498333333333|FLUXNET|       9|       SAV|       SA|        Aw|Tropical|         S|    -4.28917|     11.65642|\n",
            "+-------+---------+-----+----------------+----------------+----------------+----------------+-----------------+------------------+-----------------+------------------+------------------+------------------+------------------+------------------+-------------------+-------------------+-------------------+-------------------+----------------+----------------+----------------+----------------+-----------------+-----------------+-------------------+----------------+----------------+-------------+-----------------+-------------+-------------+-------------------+------------------+-------------------+-------------------+------------------+-------------------+-------------------+-------------------+-----------------+------------------+------------------+-------------------+-------------------+----------------+-----------------+----------------+-----------+----------------+---------------------+-------+--------+----------+---------+----------+--------+----------+------------+-------------+\n",
            "\n"
          ]
        }
      ]
    },
    {
      "cell_type": "markdown",
      "source": [
        "## `Percent_Snow_avg`"
      ],
      "metadata": {
        "id": "3NvlI0KkrfMp"
      }
    },
    {
      "cell_type": "code",
      "source": [
        "static_monthly_sdf.filter(static_monthly_sdf.Percent_Snow_avg.isNull()).show()"
      ],
      "metadata": {
        "colab": {
          "base_uri": "https://localhost:8080/"
        },
        "outputId": "5c726344-d14e-4fb9-95d3-d39ef3f80d33",
        "id": "96S3f72ZAbco"
      },
      "execution_count": 415,
      "outputs": [
        {
          "output_type": "stream",
          "name": "stdout",
          "text": [
            "+-------+---------+-----+-----------------+-----------------+-----------------+-----------------+-----------------+------------------+-----------------+------------------+-------------------+------------------+-------------------+-------------------+-------------------+-------------------+-------------------+-------------------+-------------------+----------------+-----------------+----------------+--------------------+-------------------+-------------------+----------------+----------------+------------------+------------------+------------------+-------------------+-------------------+------------------+-------------------+-------------------+------------------+-------------------+-------------------+-------------------+-----------------+------------------+------------------+-------------------+-------------------+----------------+--------+-------+----------------+----------------+---------------------+--------+--------+----------+---------+----------+------+----------+------------+-------------+\n",
            "|SITE_ID|SITE_IGBP|month|         TA_F_avg|        VPD_F_avg|          P_F_avg|       NETRAD_avg|  NEE_VUT_REF_avg|NEE_VUT_REF_QC_avg|  NEE_CUT_REF_avg|NEE_CUT_REF_QC_avg| GPP_NT_VUT_REF_avg|GPP_DT_VUT_REF_avg| GPP_NT_CUT_REF_avg| GPP_DT_CUT_REF_avg|RECO_NT_VUT_REF_avg|RECO_DT_VUT_REF_avg|RECO_NT_CUT_REF_avg|RECO_DT_CUT_REF_avg|             ET_avg|    BESS_PAR_avg| BESS_PARdiff_avg|   BESS_RSDN_avg|   CSIF_SIFdaily_avg|   CSIF_SIFinst_avg|            PET_avg|          Ts_avg|       Tmean_avg|          prcp_avg|           vpd_avg|     prcp_lag3_avg|      ESACCI_sm_avg|             b1_avg|            b2_avg|             b3_avg|             b4_avg|            b5_avg|             b6_avg|             b7_avg|            EVI_avg|          GCI_avg|          NDVI_avg|          NDWI_avg|           NIRv_avg|          kNDVI_avg|Percent_Snow_avg|Fpar_avg|Lai_avg|     LST_Day_avg|   LST_Night_avg|CO2_concentration_avg| dataset|MODIS_LC|MODIS_IGBP|MODIS_PFT|koppen_sub|koppen|hemisphere|LOCATION_LAT|LOCATION_LONG|\n",
            "+-------+---------+-----+-----------------+-----------------+-----------------+-----------------+-----------------+------------------+-----------------+------------------+-------------------+------------------+-------------------+-------------------+-------------------+-------------------+-------------------+-------------------+-------------------+----------------+-----------------+----------------+--------------------+-------------------+-------------------+----------------+----------------+------------------+------------------+------------------+-------------------+-------------------+------------------+-------------------+-------------------+------------------+-------------------+-------------------+-------------------+-----------------+------------------+------------------+-------------------+-------------------+----------------+--------+-------+----------------+----------------+---------------------+--------+--------+----------+---------+----------+------+----------+------------+-------------+\n",
            "| FI-Hyy|      ENF|   12|         -2.86575|         0.374875| 1.58653333333333|    -9.1451767098|       0.71611375|       0.982694875|     0.7152265625|      0.9836189375|     0.080928061875|    0.070079915625|      0.07501156875|       0.0711660425|       0.7966153125|       0.7088001875|        0.788381625|       0.7020854375|    0.0157378100625|          2.8125|           2.3125|            5.25|      0.017102369375|     0.119133086125|   -0.0020104353125|      270.456895|    270.66698125|     0.00199426775|   0.0486300820625|    0.005968618625|      0.30602137125|0.09415284708073625|0.2481577327087127|0.06318375328940291|0.09032578663909083|0.2549171339270624|0.18840978986846046|0.11144319859565201|0.29324402477658323|2.780138120753199|0.5156758621963391|0.1553927609396808|0.12674528734171064|0.28881649302751955|            null|    null|   null|        265.1625|         263.425|           392.971875|ICOS2020|       1|       ENF|      ENF|       Dfc|  Cold|         N|    61.84741|     24.29477|\n",
            "| FI-Jok|      CRO|   12|          -8.8525|           0.2645|            0.612|     -9.287030608|        0.3164015|         0.9610215|         0.313659|         0.9623655|        -0.05686915|        0.02211509|         -0.0537174|         0.02184135|          0.2519545|          0.3780155|           0.259942|          0.3170175|        0.036928436|             2.5|              2.0|             5.5|        0.0052060975|        0.033462904|        -3.59226E-4|       263.38835|       264.17368|       5.692705E-4|      0.0407072235|       0.003625693|         0.36654127|0.09415284708073625|0.2481577327087127|0.06318375328940291|0.09032578663909083|0.2549171339270624|0.18840978986846046|0.11144319859565201|0.29324402477658323|2.780138120753199|0.5156758621963391|0.1553927609396808|0.12674528734171064|0.28881649302751955|            null|    null|   null|          259.01|          256.57|             371.8375| FLUXNET|       9|       SAV|       SA|       Dfc|  Cold|         N|     60.8986|     23.51345|\n",
            "| FI-Ken|      ENF|    1|           -8.098|            0.324|          1.92055|83.82560482347512|         0.547567|          0.978495|         0.544447|          0.978495|         -0.0956793|        2.65861E-4|          -0.102308|         2.66524E-4|           0.446868|           0.270257|           0.446868|           0.240902|        0.007593992|             3.0|              2.0|             1.0|         -4.80027E-4|       -0.005784949|         -6.4718E-4|       263.74496|       264.44626|       0.001747349|       0.044339098|        0.00549283|0.24943720478288073|0.09415284708073625|0.2481577327087127|0.06318375328940291|0.09032578663909083|0.2549171339270624|0.18840978986846046|0.11144319859565201|0.29324402477658323|2.780138120753199|0.5156758621963391|0.1553927609396808|0.12674528734171064|0.28881649302751955|            null|    null|   null|           261.2|          260.38|              411.225|ICOS2020|       8|       WSA|       SA|       Dfc|  Cold|         N|    67.98721|     24.24301|\n",
            "| FI-Ken|      ENF|   12|          -7.1195|           0.1905|            2.455|83.82560482347512|        0.4227185|         0.9583335|          0.42725|         0.9593415|         -0.0011237|      0.0155465705|          0.0090086|       0.0037511545|          0.4224335|          0.6059735|          0.4404525|          0.8520845|            1.13E-5|             0.0|              0.0|             0.0|                 0.0|        0.006985491|       -4.693865E-4|       265.33914|      265.675735|       0.001826714|       0.034782935|       0.005427474|0.24943720478288073|0.09415284708073625|0.2481577327087127|0.06318375328940291|0.09032578663909083|0.2549171339270624|0.18840978986846046|0.11144319859565201|0.29324402477658323|2.780138120753199|0.5156758621963391|0.1553927609396808|0.12674528734171064|0.28881649302751955|            null|    null|   null|          261.19|          260.32|                410.3|ICOS2020|       8|       WSA|       SA|       Dfc|  Cold|         N|    67.98721|     24.24301|\n",
            "| FI-Let|      ENF|   12|          -0.9019|           0.2908|           1.6754| -16.260760624375|         1.083633|         0.9426748|        1.0755456|         0.9416667|         0.07216551|        0.15840263|         0.08526065|        0.156266511|          1.1826782|         1.08455749|          1.1764377|         1.09609015|       0.0161236826|             2.8|              1.7|             4.7|        0.0134104807|       0.0851528612|      -0.0010432819|       271.82643|      272.175487|      0.0022511437|      0.0465763916|      0.0058398417|        0.337610492|0.09415284708073625|0.2481577327087127|0.06318375328940291|0.09032578663909083|0.2549171339270624|0.18840978986846046|0.11144319859565201|0.29324402477658323|2.780138120753199|0.5156758621963391|0.1553927609396808|0.12674528734171064|0.28881649302751955|            null|    null|   null|          267.12|         265.946|              401.045|ICOS2020|       1|       ENF|      ENF|       Dfc|  Cold|         N|    60.64183|     23.95952|\n",
            "| FI-Lom|      WET|    1|-11.2253333333333|            0.343|0.763333333333333|-11.1195215176667|0.202190966666667| 0.947804666666667|0.203177333333333| 0.944220333333333|-0.0428839333333333|        0.00379148|-0.0455966666666667|9.14756666666667E-5|  0.163881066666667|           0.129874|  0.154077266666667|          0.1416825|        0.008511807|             1.0|0.666666666666667|1.33333333333333|  -6.548183333333E-4|-0.0100929196666667| -5.461126666666E-4|       261.98638|262.516396666667|0.0012717453333333|0.0387542643333333|       0.004929648|0.24943720478288073|0.09415284708073625|0.2481577327087127|0.06318375328940291|0.09032578663909083|0.2549171339270624|0.18840978986846046|0.11144319859565201|0.29324402477658323|2.780138120753199|0.5156758621963391|0.1553927609396808|0.12674528734171064|0.28881649302751955|            null|    null|   null|256.746666666667|          258.54|     383.576666666667| FLUXNET|       8|       WSA|       SA|       Dfc|  Cold|         N|    67.99724|     24.20918|\n",
            "| FI-Lom|      WET|   12|           -7.685|0.445666666666667| 1.40633333333333|    -11.854147365|0.210583666666667| 0.931899666666667|0.209473666666667| 0.931899666666667| 0.0356306666666667|0.0027192086666666|          0.0418362|  5.142706666666E-4|           0.254829|           0.245848|  0.254891666666667|           0.227077|1.41666666666667E-5|             0.0|              0.0|             0.0|                 0.0|        -8.70012E-4| -8.416846666666E-4|       265.09397|        265.6939|0.0012806043333333|0.0419925006666667|       0.004690006|0.24943720478288073|0.09415284708073625|0.2481577327087127|0.06318375328940291|0.09032578663909083|0.2549171339270624|0.18840978986846046|0.11144319859565201|0.29324402477658323|2.780138120753199|0.5156758621963391|0.1553927609396808|0.12674528734171064|0.28881649302751955|            null|    null|   null|          260.02|260.393333333333|     384.781666666667| FLUXNET|       8|       WSA|       SA|       Dfc|  Cold|         N|    67.99724|     24.20918|\n",
            "| FI-Qvd|      CRO|   12| 1.07966666666667| 1.66433333333333|             2.66|-14.8380726733333|0.885894666666667| 0.976702333333333|         0.884329| 0.977822333333333|-0.0238507333333333| 0.177026333333333|-0.0274555666666667|  0.176772333333333|  0.857348333333333|  0.929872333333333|  0.856743666666667|  0.961453333333333| 0.0432191453333333|4.33333333333333| 2.66666666666667|4.66666666666667| 0.14615525132880283| 0.4089560298315824|       -0.003297853|274.088576666667|       274.40905|0.0026171656666666|0.0769702033333333|0.0068572113333333|0.24943720478288073|0.09415284708073625|0.2481577327087127|0.06318375328940291|0.09032578663909083|0.2549171339270624|0.18840978986846046|0.11144319859565201|0.29324402477658323|2.780138120753199|0.5156758621963391|0.1553927609396808|0.12674528734171064|0.28881649302751955|            null|    null|   null|267.933333333333|           267.9|     410.371666666667|ICOS2020|       8|       WSA|       SA|       Dfb|  Cold|         N|   60.295242|    22.391607|\n",
            "| FI-Sii|      GRA|   12|         -1.29525|          0.24675| 1.61133333333333|83.82560482347512|       0.29587225|        0.99680775|        0.2981995|        0.99546375|      -0.0127455275|         0.0252533|     -0.01041710975|        0.027685575|          0.2857075|         0.33269325|         0.28703725|         0.33507325|      0.02216779625|             4.5|             3.25|            5.25|       0.01890407275|          0.1313323|     -0.00176958025|     271.8259175|       272.00495|     0.00220764575|     0.04249514725|       0.007016949|         0.23286557|0.09415284708073625|0.2481577327087127|0.06318375328940291|0.09032578663909083|0.2549171339270624|0.18840978986846046|0.11144319859565201|0.29324402477658323|2.780138120753199|0.5156758621963391|0.1553927609396808|0.12674528734171064|0.28881649302751955|            null|    null|   null|          265.73|         264.865|             407.9725|ICOS2020|       1|       ENF|      ENF|       Dfc|  Cold|         N|    61.83265|     24.19285|\n",
            "| FI-Sod|      ENF|    1|-11.9459230769231|            0.246|0.941615384615385|-6.62627659742857|0.475532781538462| 0.954869692307692|0.473485446153846|          0.959419|-0.0687508661538462|0.0111756338461538|-0.0864536969230769| 0.0096151869230769|  0.380199546153846|  0.451107769230769|  0.371738430769231|  0.445264323076923| 0.0232336056923077|             1.0|              1.0|             2.0|-6.88586923076923E-5| 0.0031956119230769| -6.817586153846E-4|       261.89471|262.169322307692|0.0012919491538461|0.0359336013846154|0.0043733322307692|0.24943720478288073|0.09415284708073625|               0.0|0.06318375328940291|0.09032578663909083|0.2549171339270624|0.18840978986846046|0.11144319859565201|0.29324402477658323|2.780138120753199|0.5156758621963391|0.1553927609396808|0.12674528734171064|0.28881649302751955|            null|    null|   null|          254.68|254.684615384615|     383.391923076923| FLUXNET|       9|       SAV|       SA|       Dfc|  Cold|         N|    67.36239|     26.63859|\n",
            "| FI-Sod|      ENF|   12|-8.50472727272727|0.276636363636364| 1.26990909090909| -13.067327356625|0.591108818181818| 0.957050363636364|0.590072545454545| 0.962060181818182|-0.0561183872727273|0.0071570883636363|-0.0163864227272727| 0.0080694928181818|  0.541439636363636|  0.552628090909091|            0.56022|  0.544522181818182|  1.186113636363E-4|             0.0|              0.0|             0.0| 5.67444545454545E-5| 0.0066291461818181|-0.0011368102727272|       264.78464|265.178670909091|0.0015090058181818|0.0397436358181818|0.0050243058181818|0.24943720478288073|0.09415284708073625|0.2481577327087127|0.06318375328940291|0.09032578663909083|0.2549171339270624|0.18840978986846046|0.11144319859565201|0.29324402477658323|2.780138120753199|0.5156758621963391|0.1553927609396808|0.12674528734171064|0.28881649302751955|            null|    null|   null|257.614545454545|257.698181818182|              386.845| FLUXNET|       9|       SAV|       SA|       Dfc|  Cold|         N|    67.36239|     26.63859|\n",
            "| FI-Var|      ENF|    1|         -11.4724|           0.1778|           1.0584|    -6.6604711015|         0.372093|         0.9854838|          0.37298|         0.9869624|        -0.03877444|       0.015470642|       -0.070677138|        0.015344106|          0.2992778|           0.310956|          0.3014822|           0.305545|       0.0180317204|             1.4|              1.0|             1.6|         7.825062E-4|       0.0213031584|       -8.802892E-4|      261.428324|      261.672654|      0.0012911902|      0.0367009986|       0.004349019|0.24943720478288073|0.09415284708073625|0.2481577327087127|0.06318375328940291|0.09032578663909083|0.2549171339270624|0.18840978986846046|0.11144319859565201|0.29324402477658323|2.780138120753199|0.5156758621963391|0.1553927609396808|0.12674528734171064|0.28881649302751955|            null|    null|   null|         255.872|          255.16|              406.116|ICOS2020|       9|       SAV|       SA|       Dfc|  Cold|         N|     67.7549|        29.61|\n",
            "| FI-Var|      ENF|   12|          -7.4764|           0.1476|           1.1396|    -4.5613276038|        0.4493394|               1.0|        0.4547782|               1.0|        -0.02613574|        0.01422538|       -0.029899708|        0.013765718|           0.408315|           0.587487|           0.410789|          0.5861432|        1.090948E-4|             0.0|              0.0|             0.0|                 0.0|      -0.0028281974|      -0.0010279136|      265.933974|      266.147048|      0.0015599556|      0.0396063258|       0.004709657|         0.15037037|0.09415284708073625|0.2481577327087127|0.06318375328940291|0.09032578663909083|0.2549171339270624|0.18840978986846046|0.11144319859565201|0.29324402477658323|2.780138120753199|0.5156758621963391|0.1553927609396808|0.12674528734171064|0.28881649302751955|            null|    null|   null|         260.296|         260.164|              407.942|ICOS2020|       9|       SAV|       SA|       Dfc|  Cold|         N|     67.7549|        29.61|\n",
            "| RU-Che|      WET|   11|          -22.911|            0.299|              0.0|83.82560482347512|         0.179453|          0.804167|         0.181943|          0.824306|         -0.0866206|        0.00420883|         -0.0938146|         0.00420883|          0.0917613|           0.137579|          0.0917121|           0.137579|        0.006443123|             2.0|              1.0|             4.0|                 0.0|                0.0|            3.21E-5|        247.7463|       250.49715|        4.34314E-4|        0.01966509|       0.002557272|            8.38E-6|0.09415284708073625|0.2481577327087127|0.06318375328940291|0.09032578663909083|0.2549171339270624|0.18840978986846046|0.11144319859565201|0.29324402477658323|2.780138120753199|0.5156758621963391|0.1553927609396808|0.12674528734171064|0.28881649302751955|            null|    null|   null|           244.6|          243.84|              374.555| FLUXNET|       7|       OSH|       SH|       Dsc|  Cold|         N|    68.61304|    161.34143|\n",
            "| SE-Deg|      WET|   12|       -5.9129375|        0.4170625|          0.89325|   -18.4023899724|     0.1094881525|      0.9599715625|    0.11041726875|        0.95593925|    0.0032911983125|      0.0176778575|    0.0118265208125|      0.01857779725|       0.1135647075|      0.27431025625|         0.12224385|         0.23326745|       0.0089079665|          1.1875|           1.1875|          2.8125|        0.0098992395|     0.090238889875|   -0.0015208431875|   267.188413125|    267.67486625|    0.001906250125|   0.0447099094375|     0.00565906025|      0.25415749875|0.09415284708073625|0.2481577327087127|0.06318375328940291|0.09032578663909083|0.2549171339270624|0.18840978986846046|0.11144319859565201|0.29324402477658323|2.780138120753199|0.5156758621963391|0.1553927609396808|0.12674528734171064|0.28881649302751955|            null|    null|   null|       262.58625|       261.61125|          391.4334375|ICOS2020|       8|       WSA|       SA|       Dfc|  Cold|         N|   64.182029|    19.556539|\n",
            "| SE-Nor|      ENF|   12|0.537857142857143|0.418714285714286| 1.35928571428571|-23.3268266151429| 2.01073857142857| 0.991455285714286| 2.00536714285714| 0.986751142857143|  0.216539257142857| 0.153158471428571|  0.218054085714286|  0.166265485714286|            2.22728|   1.78057571428571|   2.24676142857143|   1.78782571428571| 0.0041281782857142|4.14285714285714| 2.71428571428571|6.28571428571429|         0.021224271|  0.130391710714286|-0.0030530532857142|273.446051428571|273.722641428571|0.0014349012857142|0.0717884312857143|0.0051388984285714|  0.302155852857143|0.09415284708073625|0.2481577327087127|0.06318375328940291|0.09032578663909083|0.2549171339270624|0.18840978986846046|0.11144319859565201|0.29324402477658323|2.780138120753199|0.5156758621963391|0.1553927609396808|0.12674528734171064|0.28881649302751955|            null|    null|   null|269.991428571429|           268.3|     405.391428571429|ICOS2020|       1|       ENF|      ENF|       Dfb|  Cold|         N|     60.0865|    17.479504|\n",
            "| SE-Ros|      ENF|   12|           -3.982|0.196142857142857| 1.91128571428571|     -15.74144137|0.515624428571429| 0.932987571428571|0.523208285714286| 0.932123571428571|-0.0030515628571428|0.0127895897142857|-0.0688703485714286| 0.0142240257142857|  0.496606285714286|  0.393332957142857|  0.516868428571429|  0.395569685714286| 0.0091103957142857|1.42857142857143| 1.42857142857143|2.57142857142857|  0.0140245137142857|        0.128146617|-0.0013633434285714|268.909502857143|       269.34569|0.0022065792857142|0.0434518961428571|0.0062789811428571|  0.253128824285714|0.09415284708073625|0.2481577327087127|0.06318375328940291|0.09032578663909083|0.2549171339270624|0.18840978986846046|0.11144319859565201|0.29324402477658323|2.780138120753199|0.5156758621963391|0.1553927609396808|0.12674528734171064|0.28881649302751955|            null|    null|   null|263.137142857143|262.688571428571|     405.391428571429|ICOS2020|       8|       WSA|       SA|       Dfc|  Cold|         N|     64.1725|       19.738|\n",
            "| SE-Svb|      ENF|   12|          -3.2412|           0.3716|           1.8184|   -30.0996600642|         0.831481|         0.9760752|        0.8369036|         0.9745966|         -4.4258E-4|      0.0185014838|        -0.00404732|       0.0196958498|          0.8297262|          0.5662982|          0.8254106|          0.5857242|       0.0080581052|             1.6|              1.4|             2.4|        0.0130222532|        0.121138557|       -0.001439704|      269.332298|      269.683188|      0.0021220706|      0.0445306514|      0.0057483364|          0.2704941|0.09415284708073625|0.2481577327087127|0.06318375328940291|0.09032578663909083|0.2549171339270624|0.18840978986846046|0.11144319859565201|0.29324402477658323|2.780138120753199|0.5156758621963391|0.1553927609396808|0.12674528734171064|0.28881649302751955|            null|    null|   null|         263.708|         263.484|              406.939|ICOS2020|       8|       WSA|       SA|       Dfc|  Cold|         N|    64.25611|      19.7745|\n",
            "| SJ-Adv|      WET|   11|           -8.105|            0.599|             0.57|83.82560482347512|         0.141932|          0.923611|          0.14136|          0.923611|         -0.0180994|               0.0|         -0.0180994|                0.0|           0.123833|           0.108419|           0.126988|           0.108419|  4.435693471274916|             0.0|              0.0|             0.0|                 0.0|                0.0|            3.72E-5|       257.02063|       261.52917|       0.002185895|       0.042773116|       0.006248172|          0.3183017|0.09415284708073625|0.2481577327087127|0.06318375328940291|0.09032578663909083|0.2549171339270624|0.18840978986846046|0.11144319859565201|0.29324402477658323|2.780138120753199|0.5156758621963391|0.1553927609396808|0.12674528734171064|0.28881649302751955|            null|    null|   null|          259.96|          257.72|              396.825| FLUXNET|      16|       BSV|    Other|        ET| Polar|         N|      78.186|       15.923|\n",
            "| US-Atq|      WET|    1|          -28.628|            0.143|              0.0|     -10.41037298|         0.136465|           0.80914|         0.135187|          0.848118|          -0.113049|               0.0|         -0.0929979|                0.0|           0.023416|          0.0900606|          0.0143217|          0.0906716|        0.001151764|             0.0|              0.0|             0.0|         -2.44181E-4|       -0.014140987|           -6.71E-6|       243.23396|       244.67888|        7.14319E-4|       0.014681464|       0.001899151|0.24943720478288073|0.09415284708073625|0.2481577327087127|0.06318375328940291|0.09032578663909083|0.2549171339270624|0.18840978986846046|0.11144319859565201|0.29324402477658323|2.780138120753199|0.5156758621963391|0.1553927609396808|0.12674528734171064|0.28881649302751955|            null|    null|   null|          241.24|          241.54|               381.43| FLUXNET|      10|       GRA|      GRA|        ET| Polar|         N|     70.4696|    -157.4089|\n",
            "+-------+---------+-----+-----------------+-----------------+-----------------+-----------------+-----------------+------------------+-----------------+------------------+-------------------+------------------+-------------------+-------------------+-------------------+-------------------+-------------------+-------------------+-------------------+----------------+-----------------+----------------+--------------------+-------------------+-------------------+----------------+----------------+------------------+------------------+------------------+-------------------+-------------------+------------------+-------------------+-------------------+------------------+-------------------+-------------------+-------------------+-----------------+------------------+------------------+-------------------+-------------------+----------------+--------+-------+----------------+----------------+---------------------+--------+--------+----------+---------+----------+------+----------+------------+-------------+\n",
            "only showing top 20 rows\n",
            "\n"
          ]
        }
      ]
    },
    {
      "cell_type": "code",
      "source": [
        "static_monthly_sdf.filter(static_monthly_sdf.Percent_Snow_avg.isNull()).groupBy(\"SITE_ID\").count().show()"
      ],
      "metadata": {
        "colab": {
          "base_uri": "https://localhost:8080/"
        },
        "outputId": "cb5f9466-9d7f-4d6f-b515-5894f9464e2e",
        "id": "-cXWqMvhAbcp"
      },
      "execution_count": 416,
      "outputs": [
        {
          "output_type": "stream",
          "name": "stdout",
          "text": [
            "+-------+-----+\n",
            "|SITE_ID|count|\n",
            "+-------+-----+\n",
            "| SE-Svb|    1|\n",
            "| SE-Ros|    1|\n",
            "| US-Ivo|    3|\n",
            "| SE-Deg|    1|\n",
            "| FI-Var|    2|\n",
            "| SJ-Adv|    1|\n",
            "| FI-Qvd|    1|\n",
            "| FI-Lom|    2|\n",
            "| US-Atq|    3|\n",
            "| FI-Sod|    2|\n",
            "| RU-Che|    1|\n",
            "| FI-Ken|    2|\n",
            "| US-Prr|    2|\n",
            "| FI-Hyy|    1|\n",
            "| FI-Let|    1|\n",
            "| US-Uaf|    1|\n",
            "| FI-Sii|    1|\n",
            "| SE-Nor|    1|\n",
            "| FI-Jok|    1|\n",
            "+-------+-----+\n",
            "\n"
          ]
        }
      ]
    },
    {
      "cell_type": "markdown",
      "source": [
        "### Impute with average across sites"
      ],
      "metadata": {
        "id": "9epDeyIbAbcq"
      }
    },
    {
      "cell_type": "code",
      "source": [
        "static_monthly_sdf = static_monthly_sdf.fillna(value = static_monthly_sdf\n",
        "    .select(mean('Percent_Snow_avg')).head()[0],subset = ['Percent_Snow_avg'])"
      ],
      "metadata": {
        "id": "BoEdvks-Abcr"
      },
      "execution_count": 417,
      "outputs": []
    },
    {
      "cell_type": "code",
      "source": [
        "static_monthly_sdf.filter(static_monthly_sdf.SITE_ID == 'SE-Svb').show()"
      ],
      "metadata": {
        "colab": {
          "base_uri": "https://localhost:8080/"
        },
        "outputId": "cb20ff17-603b-478f-d9ce-5e71869cad89",
        "id": "aQwOUeKoAbcr"
      },
      "execution_count": 418,
      "outputs": [
        {
          "output_type": "stream",
          "name": "stdout",
          "text": [
            "+-------+---------+-----+-----------------+-----------------+----------------+-----------------+-----------------+------------------+-----------------+------------------+------------------+------------------+------------------+------------------+-------------------+-------------------+-------------------+-------------------+------------------+----------------+----------------+----------------+------------------+-----------------+-------------------+----------------+----------------+------------------+------------------+------------------+-------------------+-------------------+------------------+-------------------+-------------------+------------------+-------------------+-------------------+-------------------+-----------------+------------------+------------------+-------------------+-------------------+------------------+-----------------+-----------------+----------------+----------------+---------------------+--------+--------+----------+---------+----------+------+----------+------------+-------------+\n",
            "|SITE_ID|SITE_IGBP|month|         TA_F_avg|        VPD_F_avg|         P_F_avg|       NETRAD_avg|  NEE_VUT_REF_avg|NEE_VUT_REF_QC_avg|  NEE_CUT_REF_avg|NEE_CUT_REF_QC_avg|GPP_NT_VUT_REF_avg|GPP_DT_VUT_REF_avg|GPP_NT_CUT_REF_avg|GPP_DT_CUT_REF_avg|RECO_NT_VUT_REF_avg|RECO_DT_VUT_REF_avg|RECO_NT_CUT_REF_avg|RECO_DT_CUT_REF_avg|            ET_avg|    BESS_PAR_avg|BESS_PARdiff_avg|   BESS_RSDN_avg| CSIF_SIFdaily_avg| CSIF_SIFinst_avg|            PET_avg|          Ts_avg|       Tmean_avg|          prcp_avg|           vpd_avg|     prcp_lag3_avg|      ESACCI_sm_avg|             b1_avg|            b2_avg|             b3_avg|             b4_avg|            b5_avg|             b6_avg|             b7_avg|            EVI_avg|          GCI_avg|          NDVI_avg|          NDWI_avg|           NIRv_avg|          kNDVI_avg|  Percent_Snow_avg|         Fpar_avg|          Lai_avg|     LST_Day_avg|   LST_Night_avg|CO2_concentration_avg| dataset|MODIS_LC|MODIS_IGBP|MODIS_PFT|koppen_sub|koppen|hemisphere|LOCATION_LAT|LOCATION_LONG|\n",
            "+-------+---------+-----+-----------------+-----------------+----------------+-----------------+-----------------+------------------+-----------------+------------------+------------------+------------------+------------------+------------------+-------------------+-------------------+-------------------+-------------------+------------------+----------------+----------------+----------------+------------------+-----------------+-------------------+----------------+----------------+------------------+------------------+------------------+-------------------+-------------------+------------------+-------------------+-------------------+------------------+-------------------+-------------------+-------------------+-----------------+------------------+------------------+-------------------+-------------------+------------------+-----------------+-----------------+----------------+----------------+---------------------+--------+--------+----------+---------+----------+------+----------+------------+-------------+\n",
            "| SE-Svb|      ENF|    1|           -8.402|            0.529|1.22133333333333|-32.4852528566667|0.520457666666667|          0.967518|0.523845333333333|           0.96707|0.0166592333333333|0.0382397733333333|0.0026627666666666|0.0399222666666667|  0.538067333333333|  0.493038333333333|           0.525036|  0.464541666666667|       0.039552796|4.33333333333333|3.33333333333333|             5.0|0.0040925116666666|      0.030356697|-0.0020583543333333|263.971486666667|       264.30147|0.0014448046666666|0.0497580526666667|0.0052071116666666|0.24943720478288073|         0.29189998|            0.3454|         0.34019998|             0.3174|            0.1586|             0.0396|        0.016350001|         0.24527794|       0.08936232|       0.083947934|         0.7942858|         0.02899562|        0.007047141|          98.48148|             null|             null|           260.5|259.093333333333|     406.856666666667|ICOS2020|       8|       WSA|       SA|       Dfc|  Cold|         N|    64.25611|      19.7745|\n",
            "| SE-Svb|      ENF|    2|          -4.6025|          0.68425|           1.721|   -16.2888596425|        0.6183385|        0.97459325|       0.61928275|        0.97422775|        0.22916565|       0.109356475|          0.222011|        0.11515185|          0.8473935|         0.55434675|          0.8387885|         0.52237625|      0.2895595375|            18.0|           10.25|            21.5|     0.02246752025|    0.09889740225|      -0.0032571035|      267.764405|       267.96889|     0.00176605125|     0.06308609725|     0.00562528875|0.24943720478288073|         0.22993775|       0.318655545|       0.2567802925|         0.24846087|      0.1631364225|      0.05156122125|        0.022031747|       0.2816459275|     0.3219160875|      0.1725024485|      0.7182546725|      0.05292287375|      0.03488777825|        90.8083675|0.363333333333333|0.633333333333333|           264.9|         261.645|            405.06125|ICOS2020|       8|       WSA|       SA|       Dfc|  Cold|         N|    64.25611|      19.7745|\n",
            "| SE-Svb|      ENF|    3|          -3.3102|           1.3012|          1.2096|      30.13479927|         0.481178|         0.9483872|        0.4909874|         0.9478496|         0.3499354|        0.16584514|        0.34518982|         0.1827344|          0.8346452|           0.488934|          0.8279868|          0.5211958|        1.11851462|            51.4|            26.2|            69.6|      0.0412501284|     0.1356944248|      -0.0057639064|      269.568498|      269.588726|      0.0014172588|      0.0966349164|      0.0047887126|0.24943720478288073|        0.241713018|       0.340077408|         0.24773054|        0.252314148|       0.186246182|       0.0674675458|        0.027527608|          0.2631604|      0.359746958|       0.172094218|       0.668594124|        0.057947574|       0.0309389598|        91.3483864|            0.294|             0.46|          268.96|         261.552|              405.715|ICOS2020|       8|       WSA|       SA|       Dfc|  Cold|         N|    64.25611|      19.7745|\n",
            "| SE-Svb|      ENF|    4|            1.795|           2.6128|          0.9808|      90.60967948|       -0.8862472|         0.9711112|       -0.8823532|         0.9691666|          2.249214|          1.916436|          2.258598|          1.975262|           1.368706|          0.9130618|            1.37332|           0.894624|         2.7158431|            97.4|            50.0|           131.4|      0.0615315054|      0.160239792|      -0.0121321328|      274.554856|      274.485864|       0.001259902|       0.186949974|       0.004205703|0.24943720478288073|        0.206095214|        0.29952115|        0.196870278|        0.211853494|       0.166589202|         0.07405438|       0.0324966542|        0.220317588|      0.630104108|        0.21425524|       0.587567854|       0.0574919566|         0.06091894|        81.5466664|            0.238|              0.4|         274.784|         266.928|              404.266|ICOS2020|       8|       WSA|       SA|       Dfc|  Cold|         N|    64.25611|      19.7745|\n",
            "| SE-Svb|      ENF|    5|             7.28| 4.37516666666667|1.24816666666667| 132.858267816667|-2.54080833333333| 0.943324333333333|-2.54206666666667| 0.942764166666667|          5.164375|  4.54088333333333|           5.12911|  4.57984166666667|   2.61841666666667|            1.93356|            2.60104|   1.97718833333333|         4.8042669|122.833333333333|            62.5|177.166666666667| 0.133700686666667|       0.29888244|-0.0198692616666667|       280.96458|281.064436666667|0.0020160433333333| 0.395345808333333|      0.0045133975|  0.268446903333333|         0.04831377|       0.181255765| 0.0270647503333333| 0.0477147393333333|        0.19628969|  0.128557858333333| 0.0620638963333333|  0.261598698333333| 3.11856711666667|       0.591869365| 0.169495983333333|        0.106399105|  0.342116756666667|  7.22042983333333|0.496666666666667| 1.23333333333333|285.223333333333|273.203333333333|     405.824166666667|ICOS2020|       8|       WSA|       SA|       Dfc|  Cold|         N|    64.25611|      19.7745|\n",
            "| SE-Svb|      ENF|    6|          12.3448|           6.1674|          1.8468|     159.20459262|         -3.23367|         0.9443054|        -3.238984|         0.9384722|          7.935756|          7.118648|          7.792666|           7.05033|           4.711044|           4.285652|           4.566128|           4.275618|        5.08711612|           168.8|            74.8|           205.8|       0.258510646|       0.54206269|      -0.0265161082|       286.63049|      286.566878|      0.0021741742|       0.624283372|       0.005362648|          0.2473795|        0.033033911|       0.216045116|       0.0150258072|       0.0391911998|       0.230814484|        0.141893556|       0.0627120772|        0.351422472|       4.53137604|       0.734002602|       0.206707634|         0.15882839|        0.492045302|        0.47333334|            0.662|             2.06|          290.86|         278.688|              407.165|ICOS2020|       8|       WSA|       SA|       Dfc|  Cold|         N|    64.25611|      19.7745|\n",
            "| SE-Svb|      ENF|    7|           13.543|          4.83075|         2.96275|     143.80309175|       -2.3921125|        0.92405925|       -2.4228875|          0.918347|           8.56514|          7.519405|           8.60198|         7.4631775|           6.166455|           5.122875|          6.1991475|           5.276845|          1.763541|          137.75|            80.0|          180.25|      0.2684492325|      0.585040355|     -0.01817644025|     287.7917825|     287.7430525|     0.00364157775|        0.47822491|     0.00808959675|          0.2435467|       0.0294734985|      0.2227721025|      0.01498991225|        0.038182415|       0.223468625|        0.127848466|      0.05308320825|       0.3753908825|        4.8513152|       0.766544075|       0.270920605|         0.17073151|       0.5281304175|               0.0|           0.6475|              2.2|           291.2|         280.285|            406.23625|ICOS2020|       8|       WSA|       SA|       Dfc|  Cold|         N|    64.25611|      19.7745|\n",
            "| SE-Svb|      ENF|    8|          13.1056|           3.9036|          1.7378|    102.331787338|        -0.973034|         0.9614246|       -0.9736944|         0.9606182|          7.433234|          5.997734|           7.43979|          5.973844|           6.470044|           5.154212|           6.464854|           5.396386|       0.640957276|           118.0|            54.4|           150.6|       0.208452944|      0.513687512|       -0.015798776|      287.391962|      287.369642|       0.002325207|       0.414959118|       0.007830228|        0.235849512|        0.027882905|       0.208410318|       0.0146416118|       0.0351148364|       0.209755492|        0.116180641|       0.0475809626|        0.356294626|       4.95334064|       0.763830578|       0.284552788|        0.159206186|        0.525083084|               0.0|            0.704|             2.16|          289.68|           280.1|               405.67|ICOS2020|       8|       WSA|       SA|       Dfc|  Cold|         N|    64.25611|      19.7745|\n",
            "| SE-Svb|      ENF|    9|           8.6938|            2.233|          1.8656|     42.705050006|        0.6566698|         0.9831944|        0.6474284|         0.9829166|          4.514068|          3.545218|          4.527362|           3.63469|           5.166136|           3.291774|           5.173412|           3.585268|       0.109743195|            65.2|            30.8|            87.8|      0.1167947318|      0.348860126|      -0.0104816394|      282.631562|      282.678712|       0.002043058|       0.237330516|       0.007699112|        0.246395412|       0.0290963328|       0.179769338|       0.0145483318|       0.0327719994|       0.184851322|       0.1039046664|        0.042265996|         0.30221899|        4.5003712|        0.72049437|       0.266432678|        0.129773854|         0.47701773|               0.0|             0.63|              1.4|         283.968|         276.356|              405.174|ICOS2020|       8|       WSA|       SA|       Dfc|  Cold|         N|    64.25611|      19.7745|\n",
            "| SE-Svb|      ENF|   10|           2.3364|           1.0254|           1.487|    -2.8978086946|        0.7038592|         0.9866936|        0.7039584|          0.985484|          1.492954|         1.2947986|          1.502732|          1.295897|           2.201344|           1.665402|           2.199956|            1.56189|      0.0430582158|            22.6|            12.4|            35.2|       0.050931453|      0.200422446|       -0.003647274|      275.495292|      275.614592|       0.001625885|      0.0832359858|        0.00599415|         0.26274119|        0.050141617|       0.175291426|       0.0431041478|        0.054137542|       0.162958926|        0.083915587|       0.0343312494|        0.272981018|        3.9000837|       0.638094266|        0.33312497|       0.1036637012|        0.404659182|        14.6516127|            0.608|             1.22|         275.656|         270.572|              405.381|ICOS2020|       8|       WSA|       SA|       Dfc|  Cold|         N|    64.25611|      19.7745|\n",
            "| SE-Svb|      ENF|   11|-1.70116666666667|0.416166666666667|           1.678|-20.9426761733333| 1.05405983333333| 0.989120333333333| 1.05688766666667|         0.9890045|        0.15901135| 0.113722316666667| 0.157500133333333| 0.113017571666667|          1.2150675|          0.9438805|   1.20220283333333|  0.936982666666667|0.0231766238333333|5.66666666666667|             3.5|8.33333333333333|      0.0280961145|0.167894503333333|-0.0015000856666666|271.411753333333|      271.658295|       0.001913273|0.0453724386666667|0.0055834716666666|  0.275218658333333| 0.0656993696666667| 0.176740846666667|       0.0665553745| 0.0735299276666667| 0.145904963333333| 0.0653241441666667| 0.0282842166666667|        0.262466825|         2.524151|       0.559759375| 0.429637068333333| 0.0877247913333333|  0.329673366666667|  34.3350715666667|             null|             null|268.526666666667|          267.05|             404.7375|ICOS2020|       8|       WSA|       SA|       Dfc|  Cold|         N|    64.25611|      19.7745|\n",
            "| SE-Svb|      ENF|   12|          -3.2412|           0.3716|          1.8184|   -30.0996600642|         0.831481|         0.9760752|        0.8369036|         0.9745966|        -4.4258E-4|      0.0185014838|       -0.00404732|      0.0196958498|          0.8297262|          0.5662982|          0.8254106|          0.5857242|      0.0080581052|             1.6|             1.4|             2.4|      0.0130222532|      0.121138557|       -0.001439704|      269.332298|      269.683188|      0.0021220706|      0.0445306514|      0.0057483364|          0.2704941|0.09415284708073625|0.2481577327087127|0.06318375328940291|0.09032578663909083|0.2549171339270624|0.18840978986846046|0.11144319859565201|0.29324402477658323|2.780138120753199|0.5156758621963391|0.1553927609396808|0.12674528734171064|0.28881649302751955|12.406636111733743|             null|             null|         263.708|         263.484|              406.939|ICOS2020|       8|       WSA|       SA|       Dfc|  Cold|         N|    64.25611|      19.7745|\n",
            "+-------+---------+-----+-----------------+-----------------+----------------+-----------------+-----------------+------------------+-----------------+------------------+------------------+------------------+------------------+------------------+-------------------+-------------------+-------------------+-------------------+------------------+----------------+----------------+----------------+------------------+-----------------+-------------------+----------------+----------------+------------------+------------------+------------------+-------------------+-------------------+------------------+-------------------+-------------------+------------------+-------------------+-------------------+-------------------+-----------------+------------------+------------------+-------------------+-------------------+------------------+-----------------+-----------------+----------------+----------------+---------------------+--------+--------+----------+---------+----------+------+----------+------------+-------------+\n",
            "\n"
          ]
        }
      ]
    },
    {
      "cell_type": "markdown",
      "source": [
        "## `Fpar_avg`"
      ],
      "metadata": {
        "id": "hIm-gmIXrfZO"
      }
    },
    {
      "cell_type": "code",
      "source": [
        "static_monthly_sdf.filter(static_monthly_sdf.Fpar_avg.isNull()).show()"
      ],
      "metadata": {
        "colab": {
          "base_uri": "https://localhost:8080/"
        },
        "outputId": "31a35d40-8e0a-42d1-8b7a-6d816ce8dd8d",
        "id": "cjn0GetwAcN1"
      },
      "execution_count": 419,
      "outputs": [
        {
          "output_type": "stream",
          "name": "stdout",
          "text": [
            "+-------+---------+-----+-----------------+-----------------+------------------+------------------+-----------------+------------------+-----------------+------------------+------------------+------------------+-------------------+------------------+-------------------+-------------------+-------------------+-------------------+-----------------+----------------+----------------+----------------+------------------+------------------+------------------+----------------+----------------+------------------+------------------+------------------+-------------------+------------------+-----------------+------------------+------------------+-----------------+------------------+------------------+-----------------+-----------------+-----------------+-----------------+------------------+------------------+----------------+--------+-------+----------------+----------------+---------------------+---------+--------+----------+---------+----------+---------+----------+------------+-------------+\n",
            "|SITE_ID|SITE_IGBP|month|         TA_F_avg|        VPD_F_avg|           P_F_avg|        NETRAD_avg|  NEE_VUT_REF_avg|NEE_VUT_REF_QC_avg|  NEE_CUT_REF_avg|NEE_CUT_REF_QC_avg|GPP_NT_VUT_REF_avg|GPP_DT_VUT_REF_avg| GPP_NT_CUT_REF_avg|GPP_DT_CUT_REF_avg|RECO_NT_VUT_REF_avg|RECO_DT_VUT_REF_avg|RECO_NT_CUT_REF_avg|RECO_DT_CUT_REF_avg|           ET_avg|    BESS_PAR_avg|BESS_PARdiff_avg|   BESS_RSDN_avg| CSIF_SIFdaily_avg|  CSIF_SIFinst_avg|           PET_avg|          Ts_avg|       Tmean_avg|          prcp_avg|           vpd_avg|     prcp_lag3_avg|      ESACCI_sm_avg|            b1_avg|           b2_avg|            b3_avg|            b4_avg|           b5_avg|            b6_avg|            b7_avg|          EVI_avg|          GCI_avg|         NDVI_avg|         NDWI_avg|          NIRv_avg|         kNDVI_avg|Percent_Snow_avg|Fpar_avg|Lai_avg|     LST_Day_avg|   LST_Night_avg|CO2_concentration_avg|  dataset|MODIS_LC|MODIS_IGBP|MODIS_PFT|koppen_sub|   koppen|hemisphere|LOCATION_LAT|LOCATION_LONG|\n",
            "+-------+---------+-----+-----------------+-----------------+------------------+------------------+-----------------+------------------+-----------------+------------------+------------------+------------------+-------------------+------------------+-------------------+-------------------+-------------------+-------------------+-----------------+----------------+----------------+----------------+------------------+------------------+------------------+----------------+----------------+------------------+------------------+------------------+-------------------+------------------+-----------------+------------------+------------------+-----------------+------------------+------------------+-----------------+-----------------+-----------------+-----------------+------------------+------------------+----------------+--------+-------+----------------+----------------+---------------------+---------+--------+----------+---------+----------+---------+----------+------------+-------------+\n",
            "| BE-Bra|       MF|   12|          4.85875|            1.146|  2.42293333333333|     -7.7074802647|      2.214816875|          0.968036|        2.2091325|       0.969380125|      0.4592818125|       0.646353125|      0.46125461875|        0.63162725|         2.67617125|        3.177530625|        2.685175625|        3.226980625|      0.211961495|          12.125|            7.25|            22.0|   0.0401029243125|     0.18002448225|  -0.0010822323125|   277.065539375|      277.766275|    0.002640533125|    0.114052377125|    0.007271076875|        0.251349685|   0.0586399559375|   0.173349539375|   0.0508294208125|    0.062433160125|      0.169892165|   0.1103912565625|   0.0595116413125|      0.249208488|    2.50608550625|   0.547345434375|     0.2113321925|    0.089924053125|    0.305987794375|   8.86789049375|    null|   null|       276.35125|        272.2325|          391.9634375| ICOS2020|       9|       SAV|       SA|       Cfb|Temperate|         N|    51.30761|      4.51984|\n",
            "| BE-Dor|      GRA|   12|          4.32875|         0.550875|           2.77175|   -5.138692672125|      0.890085625|         0.9905075|      0.889593125|         0.9904235|       1.258845875|        1.44197675|        1.276679375|         1.4281655|          2.1452625|            2.10423|         2.15257875|           2.118205|    0.22470769875|            14.0|           8.875|          20.875|    0.093874566125|     0.41274209375|    -8.85990625E-4|    276.72362625|       277.29058|     0.00380552525|        0.08897768|     0.00844945125|      0.36477958875|    0.054863054875|     0.2176208125|    0.029542869375|     0.05874834475|    0.22364308125|     0.15094697625|      0.0843661585|       0.30761467|      2.751428975|      0.597647795|    0.18134786375|    0.130397761875|     0.34404507125|    5.4492528125|    null|   null|         276.105|        271.0675|             401.6925| ICOS2020|      12|       CRO|      CRO|       Cfb|Temperate|         N|    50.31135|     4.968591|\n",
            "| BE-Lon|      CRO|   12|            4.861|            0.962|            2.5268| -8.95243233836364|       1.07151792| 0.964695333333333| 1.06748338666667| 0.962276066666667| 0.202093653333333| 0.304712513333333|  0.206565375333333| 0.301784366666667|   1.25387973333333|   1.27666186666667|          1.2851988|   1.35064306666667|       0.23985063|13.5333333333333|             8.0|24.4666666666667|      0.0592516014| 0.261358535333333|-8.314376666666E-4|      276.829844|      277.477488|0.0025695808666666| 0.100831016733333|0.0068020463333333|  0.289889305333333|0.0615076751333333|0.198302639333333|0.0326104875333333|0.0625841185333333|      0.197182026| 0.141633745333333|      0.0796959332|0.256903637142857| 2.17154488666667|      0.522505334|      0.165637694| 0.104752390466667| 0.268243941333333|      7.38765958|    null|   null|276.517333333333|272.210666666667|              394.343| ICOS2020|      12|       CRO|      CRO|       Cfb|Temperate|         N|    50.55162|     4.746234|\n",
            "| BE-Maa|      CSH|   12|          4.57125|            1.004|  2.51566666666667| 83.82560482347512|        0.4046915|        0.98219075|        0.4009965|        0.98622325|          0.301871|          0.355239|         0.30214375|        0.35836425|         0.70494525|           0.706216|         0.70523025|         0.72725675|       0.23114419|           18.75|            11.0|            23.0|     0.02938687675|     0.13101863325|    -0.00120366925|     277.5222075|     278.1758525|      0.0025622765|      0.1101171625|     0.00716920725|       0.3092685075|     0.04810577725|     0.1547755325|       0.028026895|     0.04424366725|     0.1737295275|     0.11478690775|      0.0609296485|     0.2158652625|        2.5269175|     0.5253727375|     0.1490251275|        0.08134974|      0.2697885975|       1.1721845|    null|   null|         277.605|          271.73|             407.9725| ICOS2020|       9|       SAV|       SA|       Cfb|Temperate|         N|    50.97987|     5.631851|\n",
            "| BE-Vie|       MF|   12| 2.04426666666667|           0.6406|  2.77246666666667| 0.418743314076923|0.949094266666667| 0.961200733333333|0.934929666666667| 0.961559066666667|         0.8303816|          1.011822|  0.833653733333333|          0.979364|   1.74682486666667|   1.79240886666667|          1.7586582|   1.79286946666667|      0.259178156|            12.2|7.46666666666667|            21.8|0.0548985972666667|      0.2411251928|      -5.292142E-4|274.716846666667|      275.123988|0.0035596860666666|0.0596910268666667|      0.0088056804|        0.324939492|0.0312353680666667|0.180826279333333|0.0186969382666667|0.0355159410666667|      0.173371214|      0.0946706094|0.0428254252666667|0.304399797142857| 4.27974860666667|0.710709278666667|0.311888147333333| 0.128107059666667|       0.467127052|24.8565782933333|    null|   null|273.658666666667|270.114666666667|              390.182| ICOS2020|       5|        MF|       MF|       Dfb|     Cold|         N|    50.30493|      5.99812|\n",
            "| CA-Ca1|      ENF|   12|            2.092|            0.333|            7.0165|     -2.9259531315|        0.7700015|         0.9744625|        0.7705395|         0.9774865|          1.150955|           1.14451|           1.167695|          1.293395|            1.91917|           1.395405|            1.91465|            1.46527|      0.317471325|            11.0|             7.0|            24.5|       0.070880629|       0.308829675|       -0.00196765|        274.0612|      275.250825|       0.010022676|       0.073593415|       0.025706032|         0.27279833|       0.055935491|       0.18957766|      0.0552290065|        0.06385037|       0.15353103|        0.06896203|      0.0272861145|      0.303241805|        4.1273342|      0.642902025|       0.44387463|        0.11042994|       0.412981525|        23.23887|    null|   null|          272.82|          270.93|             371.8375|AmeriFlux|       1|       ENF|      ENF|       Cfb|Temperate|         N|     49.8673|    -125.3336|\n",
            "| CA-Ca2|      ENF|   12| 1.00266666666667|0.655666666666667|            7.3775|  3.64041330433333| 1.14222633333333|         0.9758065|         1.158485| 0.965949833333333| 0.247120216666667| 0.244553666666667|         0.24123775| 0.242911033333333|           1.378675|   1.06661116666667|   1.37068833333333|   1.09350966666667|       0.42958501|            11.5|6.66666666666667|            24.5|       0.046918505| 0.204315263333333|     -0.0022195665|272.941333333333|274.438071666667|0.0092794421666666|       0.091806939|0.0284979851666667|  0.273252108333333|0.0645710931666667|      0.197879055|0.0571834873333333|0.0704225151666667|0.170469913333333|       0.082983605|      0.0364274765|0.288883116666667| 3.60635448333333|       0.60352922|      0.383335155| 0.107348642666667|       0.372142045|     24.28882875|    null|   null|272.736666666667|          269.53|     382.531666666667|AmeriFlux|       1|       ENF|      ENF|       Csb|Temperate|         N|     49.8705|    -125.2909|\n",
            "| CA-Ca3|      ENF|   12|           2.5519|           0.8646|            8.5501| -4.77927998044444|        1.0051078|          0.980242|         1.032697|         0.9491936|         0.8059389|         1.1431518|             0.8229|         1.1719608|           1.849917|           2.125457|           1.860422|           2.157411|      0.287520733|            11.5|             7.0|            24.8|      0.0700181493|       0.302777906|     -0.0018025235|      273.701799|      274.894403|      0.0098094579|      0.0740884568|      0.0278926337|0.24943720478288073|      0.0789696455|      0.233407006|       0.077639414|      0.0889412083|      0.172260683|      0.0708636608|      0.0274064443|      0.343307947|       4.10820039|      0.596879252|      0.515697707|      0.1255973109|       0.372224931|    27.933786407|    null|   null|         272.354|          270.06|             379.8755|AmeriFlux|       1|       ENF|      ENF|       Csb|Temperate|         N|     49.5346|    -124.9004|\n",
            "| CA-Man|      ENF|    1|-20.7063333333333|            0.163| 0.134666666666667|  6.98494719166667|0.299726666666667| 0.983423333333333|         0.298605| 0.983423333333333|0.0800740333333333|0.0193034666666667|-0.0084660333333333|0.0209888333333333|  0.297998666666667|  0.305948333333333|            0.28876|  0.322538666666667|       0.44513886|10.6666666666667|5.66666666666667|23.6666666666667|0.0155056103333333|       0.074141245|-7.306113333333E-4|251.769113333333|251.851873333333| 5.663603333333E-4|0.0286790613333333|0.0020097236666666|         0.25743658| 0.192625896666667|0.168685413333333| 0.225029733333333|        0.21248844|0.159572703333333|       0.060164578|       0.031275787|0.222949226666667|       0.21850086|       0.14632041|0.621112666666667|0.0374140763333333|0.0223637633333333|        91.60215|    null|   null|249.806666666667|           245.5|              372.905|  FLUXNET|       8|       WSA|       SA|       Dfc|     Cold|         N|    55.87962|    -98.48081|\n",
            "| CA-Man|      ENF|   12|-14.7486666666667|0.220333333333333|0.0763333333333333|  3.85263100666667|           0.3489| 0.976702333333333|         0.329236|          0.982751|-7.324533333333E-4|0.0423954233333333|         -0.0243557|        0.04227939|           0.323017|  0.335336666666667|           0.317816|           0.308247|0.133809354666667|7.33333333333333|             4.0|            16.0|       0.024776263|       0.125783249|-9.958546666666E-4|       258.17508|258.303423333333|        7.71286E-4|       0.037072404|       0.002483483|          0.3877685|        0.18528867|       0.24535236|        0.22329687| 0.207494116666667|       0.14825471|0.0583228106666667|0.0303900886666667|       0.22172582|       0.19850469|0.143502436666667|        0.6160671|       0.034644708|0.0227597513333333|        72.85003|    null|   null|          254.08|          251.74|     372.943333333333|  FLUXNET|       8|       WSA|       SA|       Dfc|     Cold|         N|    55.87962|    -98.48081|\n",
            "| CA-NS1|      ENF|    1|         -23.4455|            0.229|            0.0035|       5.072471102|        0.4421915|          0.934812|        0.4033235|           0.93582|       -0.12139655|       0.003159405|       -0.109139075|       0.003363395|           0.285336|           0.361212|          0.3088245|           0.343159|      0.447104275|            11.0|             6.0|            25.0|       0.011545663|       0.055462089|      -4.964135E-4|      247.456415|       247.53514|       9.826865E-4|      0.0212914345|      0.0024919635|         0.26122636|       0.197964335|      0.265098225|        0.23073962|       0.217147915|      0.164170855|        0.06220878|      0.0326691085|        0.2311355|      0.225880425|      0.146869395|       0.62018695|        0.03878171|      0.0226004405|           100.0|    null|   null|          247.57|          241.01|              376.455|AmeriFlux|       8|       WSA|       SA|       Dfc|     Cold|         N|     55.8792|     -98.4839|\n",
            "| CA-NS1|      ENF|   12|          -18.639|           0.2775|             0.019|       5.964847446|         0.539134|          0.966062|         0.536086|           0.96707|        -0.1512225|        0.02312915|         -0.1826645|       0.009095335|          0.3546575|          0.4663755|          0.3657215|          0.4576515|      0.154925345|             8.5|             4.5|            19.0|      0.0203811635|       0.104013993|       -5.66855E-4|      253.049855|       253.24257|        5.38613E-4|      0.0280159265|       0.002937868|0.24943720478288073|        0.17848907|       0.24234065|       0.218606325|       0.202098365|       0.14629972|      0.0573982485|      0.0306713585|       0.23843512|      0.207216345|       0.15396983|       0.61713713|       0.037008766|      0.0249202745|       74.306453|    null|   null|          252.13|          246.67|              375.955|AmeriFlux|       8|       WSA|       SA|       Dfc|     Cold|         N|     55.8792|     -98.4839|\n",
            "| CA-NS2|      ENF|    1|          -27.361|            0.177|               0.0|       12.56797177|         0.276474|          0.917339|         0.341265|          0.926747|         -0.188371|           0.02387|          -0.144895|         0.0177128|           0.152936|           0.313567|           0.134601|           0.187923|       0.44398162|            11.0|             6.0|            25.0|       0.004668586|       0.021665968|       -3.06845E-4|       245.58945|       245.69626|        5.26059E-4|       0.017996512|        0.00158679|          0.2539122|        0.20071638|        0.2633213|        0.22871563|         0.2191982|       0.16141737|        0.05903035|       0.028973741|       0.20824662|       0.21024027|       0.13793904|        0.6329507|        0.03592541|       0.020004151|        99.90323|    null|   null|           245.8|          240.58|               375.69|AmeriFlux|       8|       WSA|       SA|       Dfc|     Cold|         N|     55.9058|     -98.5247|\n",
            "| CA-NS2|      ENF|   12|          -16.102|           0.2835|            0.2605|       2.818354503|       0.15065635|         0.8501345|        0.1531655|         0.8662635|       -0.01542285|        0.10930555|        -0.00559725|      0.0020179855|          0.1507185|          0.2507095|           0.165074|          0.1970935|      0.135637515|             7.5|             4.0|            16.5|      0.0134124115|      0.0677836325|      -8.287245E-4|       257.93652|       258.09271|         7.1735E-4|      0.0356027035|       0.002477279|         0.23782506|       0.156226135|      0.229200975|       0.180562045|       0.177917345|      0.149540145|       0.056653732|       0.029011364|       0.22494574|       0.30570942|      0.194940455|      0.602103365|       0.043835076|       0.040061787|        76.85484|    null|   null|          254.31|          251.41|                372.9|AmeriFlux|       8|       WSA|       SA|       Dfc|     Cold|         N|     55.9058|     -98.5247|\n",
            "| CA-NS3|      ENF|    1|          -23.518|            0.334|             0.072|       2.439020833|       0.23177375|        0.91969075|         0.220516|        0.93531575|       0.052843275|       0.012277475|        0.490116175|     0.00864036075|         0.52402075|          0.2941275|          0.7045405|        0.232385675|     0.5534163825|            11.0|             6.0|           25.75|      0.0135335815|     0.06469927175|     -6.1234475E-4|     249.4504425|      249.489395|       6.265925E-4|     0.02419492125|     0.00222967625|        0.258384035|       0.218443545|      0.289576745|       0.246841955|      0.2390648725|     0.1736629875|       0.062508419|     0.03296289675|      0.236874455|     0.2139385975|     0.1407187825|       0.64405669|     0.04056077475|       0.020391365|       95.064516|    null|   null|          248.22|          242.41|            374.43125|AmeriFlux|       8|       WSA|       SA|       Dfc|     Cold|         N|     55.9117|     -98.3822|\n",
            "| CA-NS3|      ENF|   12|          -18.595|0.411333333333333|             0.052|-0.179949372666667|0.235757666666667| 0.961469666666667|          0.24181|          0.968414|0.0822626666666667|        0.01385658| 0.0797087333333333|0.0228317133333333|  0.309775666666667|  0.235699333333333|  0.337094433333333|  0.321282666666667|0.158051713333333|7.66666666666667|4.33333333333333|17.3333333333333|0.0213748236666667| 0.109161116666667|-8.243523333333E-4|254.881496666667|       255.01596| 6.514923333333E-4|       0.032018108|0.0027831393333333|          0.3877685| 0.201073353333333|       0.26918303| 0.238208993333333| 0.224457956666667|0.162622233333333|       0.060725266|0.0323394223333333|0.246734063333333|0.204719623333333|0.145615243333333|0.631692946666667|0.0392430076666667|0.0225820896666667|77.1720433333333|    null|   null|250.786666666667|247.866666666667|               374.98|AmeriFlux|       8|       WSA|       SA|       Dfc|     Cold|         N|     55.9117|     -98.3822|\n",
            "| CA-NS4|      ENF|    1|          -22.776|            0.832|               0.0|      -5.642530914|         0.123679|           0.99664|         0.120118|           0.99664|         -0.102353|         0.0157275|         -0.0895646|         0.0154881|           0.025542|           0.166009|          0.0264796|           0.163422|       0.52163714|            11.0|             6.0|            25.0|        0.00639738|       0.030430272|       -6.85014E-4|       249.29018|        249.3291|       0.001440223|       0.024554566|       0.003396333|         0.26122636|         0.2198284|       0.29187453|        0.24807653|        0.24173275|       0.17129144|       0.060375515|       0.033436872|       0.23731965|       0.20592918|       0.13950458|        0.6558935|       0.040492453|       0.019908512|           100.0|    null|   null|          249.84|          240.58|               377.22|  FLUXNET|       8|       WSA|       SA|       Dfc|     Cold|         N|    55.91437|   -98.380645|\n",
            "| CA-NS4|      ENF|   11|          -10.839|           0.5095|             0.373|      2.1716649305|         0.247757|         0.9569445|        0.2474635|          0.946875|        0.01199922|         0.0767823|         0.01921735|         0.0637347|           0.263076|           0.219159|          0.2618405|          0.2274405|       0.09510563|            12.0|             6.5|            27.5|        0.04179466|       0.181568325|     -0.0023306645|       263.25265|        263.4628|       0.001079241|       0.057394756|       0.004650193|         0.30397345|          0.151795|       0.23368264|       0.164637575|        0.16378501|       0.15432758|        0.06417751|      0.0336630035|      0.228582495|       1.08567168|       0.28699755|       0.53189073|      0.0535975285|       0.118833765|       52.166668|    null|   null|          261.63|          256.55|             374.2075|  FLUXNET|       8|       WSA|       SA|       Dfc|     Cold|         N|    55.91437|   -98.380645|\n",
            "| CA-NS4|      ENF|   12|         -20.1385|           0.2845|            0.1645|     -5.4792241265|      0.073803255|         0.9579975|     0.0719769995|         0.9576615|       -0.00418095|        0.12100599|          0.0309669|        0.04535254|         0.07266685|         0.12370965|           0.106614|         0.12033365|      0.160511475|             7.5|             4.5|            17.5|       0.014719154|       0.075258275|      -8.115995E-4|      253.010475|        253.0999|        7.53619E-4|       0.029838078|      0.0031208845|          0.3877685|        0.20004668|       0.27077338|       0.237681045|        0.22404069|      0.162993065|       0.060157144|      0.0324392885|       0.25621003|       0.21255988|      0.150659665|      0.636247695|        0.04084678|      0.0238517225|       89.080645|    null|   null|          249.05|          245.76|             374.8925|  FLUXNET|       8|       WSA|       SA|       Dfc|     Cold|         N|    55.91437|   -98.380645|\n",
            "| CA-NS5|      ENF|    1|-24.2956666666667|0.215666666666667|               0.0|  5.59287240266667|0.138870333333333|          0.909722|         0.141025|          0.892025|0.0195387333333333|0.0536483933333333|          0.0093565|        0.03995595|  0.160352333333333|          0.2483527|  0.137254333333333|  0.234218566666667|0.459280263333333|            11.0|             6.0|            25.0|       0.008463055|0.0401997326666667|-5.114873333333E-4|248.561606666667|248.613956666667| 7.204083333333E-4|0.0223231766666667|0.0022851446666666|  0.261226373333333| 0.198110846666667|0.263858226666667|        0.23041888| 0.218180596666667|0.163842396666667|0.0612135956666667|0.0324055356666667|0.225972316666667|0.213444146666667|       0.14380711|0.623519933333333|0.0378113153333333|0.0215081976666667|           100.0|    null|   null|          248.38|           242.7|              374.705|AmeriFlux|       8|       WSA|       SA|       Dfc|     Cold|         N|     55.8631|      -98.485|\n",
            "+-------+---------+-----+-----------------+-----------------+------------------+------------------+-----------------+------------------+-----------------+------------------+------------------+------------------+-------------------+------------------+-------------------+-------------------+-------------------+-------------------+-----------------+----------------+----------------+----------------+------------------+------------------+------------------+----------------+----------------+------------------+------------------+------------------+-------------------+------------------+-----------------+------------------+------------------+-----------------+------------------+------------------+-----------------+-----------------+-----------------+-----------------+------------------+------------------+----------------+--------+-------+----------------+----------------+---------------------+---------+--------+----------+---------+----------+---------+----------+------------+-------------+\n",
            "only showing top 20 rows\n",
            "\n"
          ]
        }
      ]
    },
    {
      "cell_type": "code",
      "source": [
        "static_monthly_sdf.filter(static_monthly_sdf.Fpar_avg.isNull()).groupBy(\"SITE_ID\").count().show()"
      ],
      "metadata": {
        "colab": {
          "base_uri": "https://localhost:8080/"
        },
        "outputId": "e3bb6ed6-0052-46e8-d17a-a807dcda7fa9",
        "id": "pc0GroWHAcN2"
      },
      "execution_count": 420,
      "outputs": [
        {
          "output_type": "stream",
          "name": "stdout",
          "text": [
            "+-------+-----+\n",
            "|SITE_ID|count|\n",
            "+-------+-----+\n",
            "| SE-Svb|    3|\n",
            "| DE-Lnf|    1|\n",
            "| DE-RuW|    1|\n",
            "| CA-Ca2|    1|\n",
            "| SE-Ros|    3|\n",
            "| DE-Tha|    1|\n",
            "| US-Ivo|    7|\n",
            "| CZ-RAJ|    1|\n",
            "| RU-Fy2|    2|\n",
            "| SE-Deg|    3|\n",
            "| CA-Oas|    1|\n",
            "| SE-Lnn|    3|\n",
            "| BE-Maa|    1|\n",
            "| FI-Var|    5|\n",
            "| SJ-Adv|    3|\n",
            "| CA-Qc2|    1|\n",
            "| NL-Hor|    1|\n",
            "| DE-HoH|    1|\n",
            "| FI-Qvd|    3|\n",
            "| BE-Dor|    1|\n",
            "+-------+-----+\n",
            "only showing top 20 rows\n",
            "\n"
          ]
        }
      ]
    },
    {
      "cell_type": "markdown",
      "source": [
        "### Impute with average across sites"
      ],
      "metadata": {
        "id": "S11Q-I1KAcN2"
      }
    },
    {
      "cell_type": "code",
      "source": [
        "static_monthly_sdf = static_monthly_sdf.fillna(value = static_monthly_sdf\n",
        "    .select(mean('Fpar_avg')).head()[0],subset = ['Fpar_avg'])"
      ],
      "metadata": {
        "id": "XN8YNVN2AcN2"
      },
      "execution_count": 421,
      "outputs": []
    },
    {
      "cell_type": "code",
      "source": [
        "static_monthly_sdf.filter(static_monthly_sdf.SITE_ID == 'SE-Svb').show()"
      ],
      "metadata": {
        "colab": {
          "base_uri": "https://localhost:8080/"
        },
        "outputId": "25960dbd-5168-4f05-e42e-c3222ca8de34",
        "id": "J8fvf3m1AcN3"
      },
      "execution_count": 422,
      "outputs": [
        {
          "output_type": "stream",
          "name": "stdout",
          "text": [
            "+-------+---------+-----+-----------------+-----------------+----------------+-----------------+-----------------+------------------+-----------------+------------------+------------------+------------------+------------------+------------------+-------------------+-------------------+-------------------+-------------------+------------------+----------------+----------------+----------------+------------------+-----------------+-------------------+----------------+----------------+------------------+------------------+------------------+-------------------+-------------------+------------------+-------------------+-------------------+------------------+-------------------+-------------------+-------------------+-----------------+------------------+------------------+-------------------+-------------------+------------------+-------------------+-----------------+----------------+----------------+---------------------+--------+--------+----------+---------+----------+------+----------+------------+-------------+\n",
            "|SITE_ID|SITE_IGBP|month|         TA_F_avg|        VPD_F_avg|         P_F_avg|       NETRAD_avg|  NEE_VUT_REF_avg|NEE_VUT_REF_QC_avg|  NEE_CUT_REF_avg|NEE_CUT_REF_QC_avg|GPP_NT_VUT_REF_avg|GPP_DT_VUT_REF_avg|GPP_NT_CUT_REF_avg|GPP_DT_CUT_REF_avg|RECO_NT_VUT_REF_avg|RECO_DT_VUT_REF_avg|RECO_NT_CUT_REF_avg|RECO_DT_CUT_REF_avg|            ET_avg|    BESS_PAR_avg|BESS_PARdiff_avg|   BESS_RSDN_avg| CSIF_SIFdaily_avg| CSIF_SIFinst_avg|            PET_avg|          Ts_avg|       Tmean_avg|          prcp_avg|           vpd_avg|     prcp_lag3_avg|      ESACCI_sm_avg|             b1_avg|            b2_avg|             b3_avg|             b4_avg|            b5_avg|             b6_avg|             b7_avg|            EVI_avg|          GCI_avg|          NDVI_avg|          NDWI_avg|           NIRv_avg|          kNDVI_avg|  Percent_Snow_avg|           Fpar_avg|          Lai_avg|     LST_Day_avg|   LST_Night_avg|CO2_concentration_avg| dataset|MODIS_LC|MODIS_IGBP|MODIS_PFT|koppen_sub|koppen|hemisphere|LOCATION_LAT|LOCATION_LONG|\n",
            "+-------+---------+-----+-----------------+-----------------+----------------+-----------------+-----------------+------------------+-----------------+------------------+------------------+------------------+------------------+------------------+-------------------+-------------------+-------------------+-------------------+------------------+----------------+----------------+----------------+------------------+-----------------+-------------------+----------------+----------------+------------------+------------------+------------------+-------------------+-------------------+------------------+-------------------+-------------------+------------------+-------------------+-------------------+-------------------+-----------------+------------------+------------------+-------------------+-------------------+------------------+-------------------+-----------------+----------------+----------------+---------------------+--------+--------+----------+---------+----------+------+----------+------------+-------------+\n",
            "| SE-Svb|      ENF|    1|           -8.402|            0.529|1.22133333333333|-32.4852528566667|0.520457666666667|          0.967518|0.523845333333333|           0.96707|0.0166592333333333|0.0382397733333333|0.0026627666666666|0.0399222666666667|  0.538067333333333|  0.493038333333333|           0.525036|  0.464541666666667|       0.039552796|4.33333333333333|3.33333333333333|             5.0|0.0040925116666666|      0.030356697|-0.0020583543333333|263.971486666667|       264.30147|0.0014448046666666|0.0497580526666667|0.0052071116666666|0.24943720478288073|         0.29189998|            0.3454|         0.34019998|             0.3174|            0.1586|             0.0396|        0.016350001|         0.24527794|       0.08936232|       0.083947934|         0.7942858|         0.02899562|        0.007047141|          98.48148|0.47139802814291176|             null|           260.5|259.093333333333|     406.856666666667|ICOS2020|       8|       WSA|       SA|       Dfc|  Cold|         N|    64.25611|      19.7745|\n",
            "| SE-Svb|      ENF|    2|          -4.6025|          0.68425|           1.721|   -16.2888596425|        0.6183385|        0.97459325|       0.61928275|        0.97422775|        0.22916565|       0.109356475|          0.222011|        0.11515185|          0.8473935|         0.55434675|          0.8387885|         0.52237625|      0.2895595375|            18.0|           10.25|            21.5|     0.02246752025|    0.09889740225|      -0.0032571035|      267.764405|       267.96889|     0.00176605125|     0.06308609725|     0.00562528875|0.24943720478288073|         0.22993775|       0.318655545|       0.2567802925|         0.24846087|      0.1631364225|      0.05156122125|        0.022031747|       0.2816459275|     0.3219160875|      0.1725024485|      0.7182546725|      0.05292287375|      0.03488777825|        90.8083675|  0.363333333333333|0.633333333333333|           264.9|         261.645|            405.06125|ICOS2020|       8|       WSA|       SA|       Dfc|  Cold|         N|    64.25611|      19.7745|\n",
            "| SE-Svb|      ENF|    3|          -3.3102|           1.3012|          1.2096|      30.13479927|         0.481178|         0.9483872|        0.4909874|         0.9478496|         0.3499354|        0.16584514|        0.34518982|         0.1827344|          0.8346452|           0.488934|          0.8279868|          0.5211958|        1.11851462|            51.4|            26.2|            69.6|      0.0412501284|     0.1356944248|      -0.0057639064|      269.568498|      269.588726|      0.0014172588|      0.0966349164|      0.0047887126|0.24943720478288073|        0.241713018|       0.340077408|         0.24773054|        0.252314148|       0.186246182|       0.0674675458|        0.027527608|          0.2631604|      0.359746958|       0.172094218|       0.668594124|        0.057947574|       0.0309389598|        91.3483864|              0.294|             0.46|          268.96|         261.552|              405.715|ICOS2020|       8|       WSA|       SA|       Dfc|  Cold|         N|    64.25611|      19.7745|\n",
            "| SE-Svb|      ENF|    4|            1.795|           2.6128|          0.9808|      90.60967948|       -0.8862472|         0.9711112|       -0.8823532|         0.9691666|          2.249214|          1.916436|          2.258598|          1.975262|           1.368706|          0.9130618|            1.37332|           0.894624|         2.7158431|            97.4|            50.0|           131.4|      0.0615315054|      0.160239792|      -0.0121321328|      274.554856|      274.485864|       0.001259902|       0.186949974|       0.004205703|0.24943720478288073|        0.206095214|        0.29952115|        0.196870278|        0.211853494|       0.166589202|         0.07405438|       0.0324966542|        0.220317588|      0.630104108|        0.21425524|       0.587567854|       0.0574919566|         0.06091894|        81.5466664|              0.238|              0.4|         274.784|         266.928|              404.266|ICOS2020|       8|       WSA|       SA|       Dfc|  Cold|         N|    64.25611|      19.7745|\n",
            "| SE-Svb|      ENF|    5|             7.28| 4.37516666666667|1.24816666666667| 132.858267816667|-2.54080833333333| 0.943324333333333|-2.54206666666667| 0.942764166666667|          5.164375|  4.54088333333333|           5.12911|  4.57984166666667|   2.61841666666667|            1.93356|            2.60104|   1.97718833333333|         4.8042669|122.833333333333|            62.5|177.166666666667| 0.133700686666667|       0.29888244|-0.0198692616666667|       280.96458|281.064436666667|0.0020160433333333| 0.395345808333333|      0.0045133975|  0.268446903333333|         0.04831377|       0.181255765| 0.0270647503333333| 0.0477147393333333|        0.19628969|  0.128557858333333| 0.0620638963333333|  0.261598698333333| 3.11856711666667|       0.591869365| 0.169495983333333|        0.106399105|  0.342116756666667|  7.22042983333333|  0.496666666666667| 1.23333333333333|285.223333333333|273.203333333333|     405.824166666667|ICOS2020|       8|       WSA|       SA|       Dfc|  Cold|         N|    64.25611|      19.7745|\n",
            "| SE-Svb|      ENF|    6|          12.3448|           6.1674|          1.8468|     159.20459262|         -3.23367|         0.9443054|        -3.238984|         0.9384722|          7.935756|          7.118648|          7.792666|           7.05033|           4.711044|           4.285652|           4.566128|           4.275618|        5.08711612|           168.8|            74.8|           205.8|       0.258510646|       0.54206269|      -0.0265161082|       286.63049|      286.566878|      0.0021741742|       0.624283372|       0.005362648|          0.2473795|        0.033033911|       0.216045116|       0.0150258072|       0.0391911998|       0.230814484|        0.141893556|       0.0627120772|        0.351422472|       4.53137604|       0.734002602|       0.206707634|         0.15882839|        0.492045302|        0.47333334|              0.662|             2.06|          290.86|         278.688|              407.165|ICOS2020|       8|       WSA|       SA|       Dfc|  Cold|         N|    64.25611|      19.7745|\n",
            "| SE-Svb|      ENF|    7|           13.543|          4.83075|         2.96275|     143.80309175|       -2.3921125|        0.92405925|       -2.4228875|          0.918347|           8.56514|          7.519405|           8.60198|         7.4631775|           6.166455|           5.122875|          6.1991475|           5.276845|          1.763541|          137.75|            80.0|          180.25|      0.2684492325|      0.585040355|     -0.01817644025|     287.7917825|     287.7430525|     0.00364157775|        0.47822491|     0.00808959675|          0.2435467|       0.0294734985|      0.2227721025|      0.01498991225|        0.038182415|       0.223468625|        0.127848466|      0.05308320825|       0.3753908825|        4.8513152|       0.766544075|       0.270920605|         0.17073151|       0.5281304175|               0.0|             0.6475|              2.2|           291.2|         280.285|            406.23625|ICOS2020|       8|       WSA|       SA|       Dfc|  Cold|         N|    64.25611|      19.7745|\n",
            "| SE-Svb|      ENF|    8|          13.1056|           3.9036|          1.7378|    102.331787338|        -0.973034|         0.9614246|       -0.9736944|         0.9606182|          7.433234|          5.997734|           7.43979|          5.973844|           6.470044|           5.154212|           6.464854|           5.396386|       0.640957276|           118.0|            54.4|           150.6|       0.208452944|      0.513687512|       -0.015798776|      287.391962|      287.369642|       0.002325207|       0.414959118|       0.007830228|        0.235849512|        0.027882905|       0.208410318|       0.0146416118|       0.0351148364|       0.209755492|        0.116180641|       0.0475809626|        0.356294626|       4.95334064|       0.763830578|       0.284552788|        0.159206186|        0.525083084|               0.0|              0.704|             2.16|          289.68|           280.1|               405.67|ICOS2020|       8|       WSA|       SA|       Dfc|  Cold|         N|    64.25611|      19.7745|\n",
            "| SE-Svb|      ENF|    9|           8.6938|            2.233|          1.8656|     42.705050006|        0.6566698|         0.9831944|        0.6474284|         0.9829166|          4.514068|          3.545218|          4.527362|           3.63469|           5.166136|           3.291774|           5.173412|           3.585268|       0.109743195|            65.2|            30.8|            87.8|      0.1167947318|      0.348860126|      -0.0104816394|      282.631562|      282.678712|       0.002043058|       0.237330516|       0.007699112|        0.246395412|       0.0290963328|       0.179769338|       0.0145483318|       0.0327719994|       0.184851322|       0.1039046664|        0.042265996|         0.30221899|        4.5003712|        0.72049437|       0.266432678|        0.129773854|         0.47701773|               0.0|               0.63|              1.4|         283.968|         276.356|              405.174|ICOS2020|       8|       WSA|       SA|       Dfc|  Cold|         N|    64.25611|      19.7745|\n",
            "| SE-Svb|      ENF|   10|           2.3364|           1.0254|           1.487|    -2.8978086946|        0.7038592|         0.9866936|        0.7039584|          0.985484|          1.492954|         1.2947986|          1.502732|          1.295897|           2.201344|           1.665402|           2.199956|            1.56189|      0.0430582158|            22.6|            12.4|            35.2|       0.050931453|      0.200422446|       -0.003647274|      275.495292|      275.614592|       0.001625885|      0.0832359858|        0.00599415|         0.26274119|        0.050141617|       0.175291426|       0.0431041478|        0.054137542|       0.162958926|        0.083915587|       0.0343312494|        0.272981018|        3.9000837|       0.638094266|        0.33312497|       0.1036637012|        0.404659182|        14.6516127|              0.608|             1.22|         275.656|         270.572|              405.381|ICOS2020|       8|       WSA|       SA|       Dfc|  Cold|         N|    64.25611|      19.7745|\n",
            "| SE-Svb|      ENF|   11|-1.70116666666667|0.416166666666667|           1.678|-20.9426761733333| 1.05405983333333| 0.989120333333333| 1.05688766666667|         0.9890045|        0.15901135| 0.113722316666667| 0.157500133333333| 0.113017571666667|          1.2150675|          0.9438805|   1.20220283333333|  0.936982666666667|0.0231766238333333|5.66666666666667|             3.5|8.33333333333333|      0.0280961145|0.167894503333333|-0.0015000856666666|271.411753333333|      271.658295|       0.001913273|0.0453724386666667|0.0055834716666666|  0.275218658333333| 0.0656993696666667| 0.176740846666667|       0.0665553745| 0.0735299276666667| 0.145904963333333| 0.0653241441666667| 0.0282842166666667|        0.262466825|         2.524151|       0.559759375| 0.429637068333333| 0.0877247913333333|  0.329673366666667|  34.3350715666667|0.47139802814291176|             null|268.526666666667|          267.05|             404.7375|ICOS2020|       8|       WSA|       SA|       Dfc|  Cold|         N|    64.25611|      19.7745|\n",
            "| SE-Svb|      ENF|   12|          -3.2412|           0.3716|          1.8184|   -30.0996600642|         0.831481|         0.9760752|        0.8369036|         0.9745966|        -4.4258E-4|      0.0185014838|       -0.00404732|      0.0196958498|          0.8297262|          0.5662982|          0.8254106|          0.5857242|      0.0080581052|             1.6|             1.4|             2.4|      0.0130222532|      0.121138557|       -0.001439704|      269.332298|      269.683188|      0.0021220706|      0.0445306514|      0.0057483364|          0.2704941|0.09415284708073625|0.2481577327087127|0.06318375328940291|0.09032578663909083|0.2549171339270624|0.18840978986846046|0.11144319859565201|0.29324402477658323|2.780138120753199|0.5156758621963391|0.1553927609396808|0.12674528734171064|0.28881649302751955|12.406636111733743|0.47139802814291176|             null|         263.708|         263.484|              406.939|ICOS2020|       8|       WSA|       SA|       Dfc|  Cold|         N|    64.25611|      19.7745|\n",
            "+-------+---------+-----+-----------------+-----------------+----------------+-----------------+-----------------+------------------+-----------------+------------------+------------------+------------------+------------------+------------------+-------------------+-------------------+-------------------+-------------------+------------------+----------------+----------------+----------------+------------------+-----------------+-------------------+----------------+----------------+------------------+------------------+------------------+-------------------+-------------------+------------------+-------------------+-------------------+------------------+-------------------+-------------------+-------------------+-----------------+------------------+------------------+-------------------+-------------------+------------------+-------------------+-----------------+----------------+----------------+---------------------+--------+--------+----------+---------+----------+------+----------+------------+-------------+\n",
            "\n"
          ]
        }
      ]
    },
    {
      "cell_type": "markdown",
      "source": [
        "## `Lai_avg`"
      ],
      "metadata": {
        "id": "Q5YBMpNzrfeB"
      }
    },
    {
      "cell_type": "code",
      "source": [
        "static_monthly_sdf.filter(static_monthly_sdf.Lai_avg.isNull()).show()"
      ],
      "metadata": {
        "colab": {
          "base_uri": "https://localhost:8080/"
        },
        "outputId": "d7581ffb-16cf-4722-b653-245b56fd09d1",
        "id": "hMjXuWflAc4V"
      },
      "execution_count": 423,
      "outputs": [
        {
          "output_type": "stream",
          "name": "stdout",
          "text": [
            "+-------+---------+-----+-----------------+-----------------+------------------+------------------+-----------------+------------------+-----------------+------------------+------------------+------------------+-------------------+------------------+-------------------+-------------------+-------------------+-------------------+-----------------+----------------+----------------+----------------+------------------+------------------+------------------+----------------+----------------+------------------+------------------+------------------+-------------------+------------------+-----------------+------------------+------------------+-----------------+------------------+------------------+-----------------+-----------------+-----------------+-----------------+------------------+------------------+----------------+-------------------+-------+----------------+----------------+---------------------+---------+--------+----------+---------+----------+---------+----------+------------+-------------+\n",
            "|SITE_ID|SITE_IGBP|month|         TA_F_avg|        VPD_F_avg|           P_F_avg|        NETRAD_avg|  NEE_VUT_REF_avg|NEE_VUT_REF_QC_avg|  NEE_CUT_REF_avg|NEE_CUT_REF_QC_avg|GPP_NT_VUT_REF_avg|GPP_DT_VUT_REF_avg| GPP_NT_CUT_REF_avg|GPP_DT_CUT_REF_avg|RECO_NT_VUT_REF_avg|RECO_DT_VUT_REF_avg|RECO_NT_CUT_REF_avg|RECO_DT_CUT_REF_avg|           ET_avg|    BESS_PAR_avg|BESS_PARdiff_avg|   BESS_RSDN_avg| CSIF_SIFdaily_avg|  CSIF_SIFinst_avg|           PET_avg|          Ts_avg|       Tmean_avg|          prcp_avg|           vpd_avg|     prcp_lag3_avg|      ESACCI_sm_avg|            b1_avg|           b2_avg|            b3_avg|            b4_avg|           b5_avg|            b6_avg|            b7_avg|          EVI_avg|          GCI_avg|         NDVI_avg|         NDWI_avg|          NIRv_avg|         kNDVI_avg|Percent_Snow_avg|           Fpar_avg|Lai_avg|     LST_Day_avg|   LST_Night_avg|CO2_concentration_avg|  dataset|MODIS_LC|MODIS_IGBP|MODIS_PFT|koppen_sub|   koppen|hemisphere|LOCATION_LAT|LOCATION_LONG|\n",
            "+-------+---------+-----+-----------------+-----------------+------------------+------------------+-----------------+------------------+-----------------+------------------+------------------+------------------+-------------------+------------------+-------------------+-------------------+-------------------+-------------------+-----------------+----------------+----------------+----------------+------------------+------------------+------------------+----------------+----------------+------------------+------------------+------------------+-------------------+------------------+-----------------+------------------+------------------+-----------------+------------------+------------------+-----------------+-----------------+-----------------+-----------------+------------------+------------------+----------------+-------------------+-------+----------------+----------------+---------------------+---------+--------+----------+---------+----------+---------+----------+------------+-------------+\n",
            "| BE-Bra|       MF|   12|          4.85875|            1.146|  2.42293333333333|     -7.7074802647|      2.214816875|          0.968036|        2.2091325|       0.969380125|      0.4592818125|       0.646353125|      0.46125461875|        0.63162725|         2.67617125|        3.177530625|        2.685175625|        3.226980625|      0.211961495|          12.125|            7.25|            22.0|   0.0401029243125|     0.18002448225|  -0.0010822323125|   277.065539375|      277.766275|    0.002640533125|    0.114052377125|    0.007271076875|        0.251349685|   0.0586399559375|   0.173349539375|   0.0508294208125|    0.062433160125|      0.169892165|   0.1103912565625|   0.0595116413125|      0.249208488|    2.50608550625|   0.547345434375|     0.2113321925|    0.089924053125|    0.305987794375|   8.86789049375|0.47139802814291176|   null|       276.35125|        272.2325|          391.9634375| ICOS2020|       9|       SAV|       SA|       Cfb|Temperate|         N|    51.30761|      4.51984|\n",
            "| BE-Dor|      GRA|   12|          4.32875|         0.550875|           2.77175|   -5.138692672125|      0.890085625|         0.9905075|      0.889593125|         0.9904235|       1.258845875|        1.44197675|        1.276679375|         1.4281655|          2.1452625|            2.10423|         2.15257875|           2.118205|    0.22470769875|            14.0|           8.875|          20.875|    0.093874566125|     0.41274209375|    -8.85990625E-4|    276.72362625|       277.29058|     0.00380552525|        0.08897768|     0.00844945125|      0.36477958875|    0.054863054875|     0.2176208125|    0.029542869375|     0.05874834475|    0.22364308125|     0.15094697625|      0.0843661585|       0.30761467|      2.751428975|      0.597647795|    0.18134786375|    0.130397761875|     0.34404507125|    5.4492528125|0.47139802814291176|   null|         276.105|        271.0675|             401.6925| ICOS2020|      12|       CRO|      CRO|       Cfb|Temperate|         N|    50.31135|     4.968591|\n",
            "| BE-Lon|      CRO|   12|            4.861|            0.962|            2.5268| -8.95243233836364|       1.07151792| 0.964695333333333| 1.06748338666667| 0.962276066666667| 0.202093653333333| 0.304712513333333|  0.206565375333333| 0.301784366666667|   1.25387973333333|   1.27666186666667|          1.2851988|   1.35064306666667|       0.23985063|13.5333333333333|             8.0|24.4666666666667|      0.0592516014| 0.261358535333333|-8.314376666666E-4|      276.829844|      277.477488|0.0025695808666666| 0.100831016733333|0.0068020463333333|  0.289889305333333|0.0615076751333333|0.198302639333333|0.0326104875333333|0.0625841185333333|      0.197182026| 0.141633745333333|      0.0796959332|0.256903637142857| 2.17154488666667|      0.522505334|      0.165637694| 0.104752390466667| 0.268243941333333|      7.38765958|0.47139802814291176|   null|276.517333333333|272.210666666667|              394.343| ICOS2020|      12|       CRO|      CRO|       Cfb|Temperate|         N|    50.55162|     4.746234|\n",
            "| BE-Maa|      CSH|   12|          4.57125|            1.004|  2.51566666666667| 83.82560482347512|        0.4046915|        0.98219075|        0.4009965|        0.98622325|          0.301871|          0.355239|         0.30214375|        0.35836425|         0.70494525|           0.706216|         0.70523025|         0.72725675|       0.23114419|           18.75|            11.0|            23.0|     0.02938687675|     0.13101863325|    -0.00120366925|     277.5222075|     278.1758525|      0.0025622765|      0.1101171625|     0.00716920725|       0.3092685075|     0.04810577725|     0.1547755325|       0.028026895|     0.04424366725|     0.1737295275|     0.11478690775|      0.0609296485|     0.2158652625|        2.5269175|     0.5253727375|     0.1490251275|        0.08134974|      0.2697885975|       1.1721845|0.47139802814291176|   null|         277.605|          271.73|             407.9725| ICOS2020|       9|       SAV|       SA|       Cfb|Temperate|         N|    50.97987|     5.631851|\n",
            "| BE-Vie|       MF|   12| 2.04426666666667|           0.6406|  2.77246666666667| 0.418743314076923|0.949094266666667| 0.961200733333333|0.934929666666667| 0.961559066666667|         0.8303816|          1.011822|  0.833653733333333|          0.979364|   1.74682486666667|   1.79240886666667|          1.7586582|   1.79286946666667|      0.259178156|            12.2|7.46666666666667|            21.8|0.0548985972666667|      0.2411251928|      -5.292142E-4|274.716846666667|      275.123988|0.0035596860666666|0.0596910268666667|      0.0088056804|        0.324939492|0.0312353680666667|0.180826279333333|0.0186969382666667|0.0355159410666667|      0.173371214|      0.0946706094|0.0428254252666667|0.304399797142857| 4.27974860666667|0.710709278666667|0.311888147333333| 0.128107059666667|       0.467127052|24.8565782933333|0.47139802814291176|   null|273.658666666667|270.114666666667|              390.182| ICOS2020|       5|        MF|       MF|       Dfb|     Cold|         N|    50.30493|      5.99812|\n",
            "| CA-Ca1|      ENF|   12|            2.092|            0.333|            7.0165|     -2.9259531315|        0.7700015|         0.9744625|        0.7705395|         0.9774865|          1.150955|           1.14451|           1.167695|          1.293395|            1.91917|           1.395405|            1.91465|            1.46527|      0.317471325|            11.0|             7.0|            24.5|       0.070880629|       0.308829675|       -0.00196765|        274.0612|      275.250825|       0.010022676|       0.073593415|       0.025706032|         0.27279833|       0.055935491|       0.18957766|      0.0552290065|        0.06385037|       0.15353103|        0.06896203|      0.0272861145|      0.303241805|        4.1273342|      0.642902025|       0.44387463|        0.11042994|       0.412981525|        23.23887|0.47139802814291176|   null|          272.82|          270.93|             371.8375|AmeriFlux|       1|       ENF|      ENF|       Cfb|Temperate|         N|     49.8673|    -125.3336|\n",
            "| CA-Ca2|      ENF|   12| 1.00266666666667|0.655666666666667|            7.3775|  3.64041330433333| 1.14222633333333|         0.9758065|         1.158485| 0.965949833333333| 0.247120216666667| 0.244553666666667|         0.24123775| 0.242911033333333|           1.378675|   1.06661116666667|   1.37068833333333|   1.09350966666667|       0.42958501|            11.5|6.66666666666667|            24.5|       0.046918505| 0.204315263333333|     -0.0022195665|272.941333333333|274.438071666667|0.0092794421666666|       0.091806939|0.0284979851666667|  0.273252108333333|0.0645710931666667|      0.197879055|0.0571834873333333|0.0704225151666667|0.170469913333333|       0.082983605|      0.0364274765|0.288883116666667| 3.60635448333333|       0.60352922|      0.383335155| 0.107348642666667|       0.372142045|     24.28882875|0.47139802814291176|   null|272.736666666667|          269.53|     382.531666666667|AmeriFlux|       1|       ENF|      ENF|       Csb|Temperate|         N|     49.8705|    -125.2909|\n",
            "| CA-Ca3|      ENF|   12|           2.5519|           0.8646|            8.5501| -4.77927998044444|        1.0051078|          0.980242|         1.032697|         0.9491936|         0.8059389|         1.1431518|             0.8229|         1.1719608|           1.849917|           2.125457|           1.860422|           2.157411|      0.287520733|            11.5|             7.0|            24.8|      0.0700181493|       0.302777906|     -0.0018025235|      273.701799|      274.894403|      0.0098094579|      0.0740884568|      0.0278926337|0.24943720478288073|      0.0789696455|      0.233407006|       0.077639414|      0.0889412083|      0.172260683|      0.0708636608|      0.0274064443|      0.343307947|       4.10820039|      0.596879252|      0.515697707|      0.1255973109|       0.372224931|    27.933786407|0.47139802814291176|   null|         272.354|          270.06|             379.8755|AmeriFlux|       1|       ENF|      ENF|       Csb|Temperate|         N|     49.5346|    -124.9004|\n",
            "| CA-Man|      ENF|    1|-20.7063333333333|            0.163| 0.134666666666667|  6.98494719166667|0.299726666666667| 0.983423333333333|         0.298605| 0.983423333333333|0.0800740333333333|0.0193034666666667|-0.0084660333333333|0.0209888333333333|  0.297998666666667|  0.305948333333333|            0.28876|  0.322538666666667|       0.44513886|10.6666666666667|5.66666666666667|23.6666666666667|0.0155056103333333|       0.074141245|-7.306113333333E-4|251.769113333333|251.851873333333| 5.663603333333E-4|0.0286790613333333|0.0020097236666666|         0.25743658| 0.192625896666667|0.168685413333333| 0.225029733333333|        0.21248844|0.159572703333333|       0.060164578|       0.031275787|0.222949226666667|       0.21850086|       0.14632041|0.621112666666667|0.0374140763333333|0.0223637633333333|        91.60215|0.47139802814291176|   null|249.806666666667|           245.5|              372.905|  FLUXNET|       8|       WSA|       SA|       Dfc|     Cold|         N|    55.87962|    -98.48081|\n",
            "| CA-Man|      ENF|   12|-14.7486666666667|0.220333333333333|0.0763333333333333|  3.85263100666667|           0.3489| 0.976702333333333|         0.329236|          0.982751|-7.324533333333E-4|0.0423954233333333|         -0.0243557|        0.04227939|           0.323017|  0.335336666666667|           0.317816|           0.308247|0.133809354666667|7.33333333333333|             4.0|            16.0|       0.024776263|       0.125783249|-9.958546666666E-4|       258.17508|258.303423333333|        7.71286E-4|       0.037072404|       0.002483483|          0.3877685|        0.18528867|       0.24535236|        0.22329687| 0.207494116666667|       0.14825471|0.0583228106666667|0.0303900886666667|       0.22172582|       0.19850469|0.143502436666667|        0.6160671|       0.034644708|0.0227597513333333|        72.85003|0.47139802814291176|   null|          254.08|          251.74|     372.943333333333|  FLUXNET|       8|       WSA|       SA|       Dfc|     Cold|         N|    55.87962|    -98.48081|\n",
            "| CA-NS1|      ENF|    1|         -23.4455|            0.229|            0.0035|       5.072471102|        0.4421915|          0.934812|        0.4033235|           0.93582|       -0.12139655|       0.003159405|       -0.109139075|       0.003363395|           0.285336|           0.361212|          0.3088245|           0.343159|      0.447104275|            11.0|             6.0|            25.0|       0.011545663|       0.055462089|      -4.964135E-4|      247.456415|       247.53514|       9.826865E-4|      0.0212914345|      0.0024919635|         0.26122636|       0.197964335|      0.265098225|        0.23073962|       0.217147915|      0.164170855|        0.06220878|      0.0326691085|        0.2311355|      0.225880425|      0.146869395|       0.62018695|        0.03878171|      0.0226004405|           100.0|0.47139802814291176|   null|          247.57|          241.01|              376.455|AmeriFlux|       8|       WSA|       SA|       Dfc|     Cold|         N|     55.8792|     -98.4839|\n",
            "| CA-NS1|      ENF|   12|          -18.639|           0.2775|             0.019|       5.964847446|         0.539134|          0.966062|         0.536086|           0.96707|        -0.1512225|        0.02312915|         -0.1826645|       0.009095335|          0.3546575|          0.4663755|          0.3657215|          0.4576515|      0.154925345|             8.5|             4.5|            19.0|      0.0203811635|       0.104013993|       -5.66855E-4|      253.049855|       253.24257|        5.38613E-4|      0.0280159265|       0.002937868|0.24943720478288073|        0.17848907|       0.24234065|       0.218606325|       0.202098365|       0.14629972|      0.0573982485|      0.0306713585|       0.23843512|      0.207216345|       0.15396983|       0.61713713|       0.037008766|      0.0249202745|       74.306453|0.47139802814291176|   null|          252.13|          246.67|              375.955|AmeriFlux|       8|       WSA|       SA|       Dfc|     Cold|         N|     55.8792|     -98.4839|\n",
            "| CA-NS2|      ENF|    1|          -27.361|            0.177|               0.0|       12.56797177|         0.276474|          0.917339|         0.341265|          0.926747|         -0.188371|           0.02387|          -0.144895|         0.0177128|           0.152936|           0.313567|           0.134601|           0.187923|       0.44398162|            11.0|             6.0|            25.0|       0.004668586|       0.021665968|       -3.06845E-4|       245.58945|       245.69626|        5.26059E-4|       0.017996512|        0.00158679|          0.2539122|        0.20071638|        0.2633213|        0.22871563|         0.2191982|       0.16141737|        0.05903035|       0.028973741|       0.20824662|       0.21024027|       0.13793904|        0.6329507|        0.03592541|       0.020004151|        99.90323|0.47139802814291176|   null|           245.8|          240.58|               375.69|AmeriFlux|       8|       WSA|       SA|       Dfc|     Cold|         N|     55.9058|     -98.5247|\n",
            "| CA-NS2|      ENF|   12|          -16.102|           0.2835|            0.2605|       2.818354503|       0.15065635|         0.8501345|        0.1531655|         0.8662635|       -0.01542285|        0.10930555|        -0.00559725|      0.0020179855|          0.1507185|          0.2507095|           0.165074|          0.1970935|      0.135637515|             7.5|             4.0|            16.5|      0.0134124115|      0.0677836325|      -8.287245E-4|       257.93652|       258.09271|         7.1735E-4|      0.0356027035|       0.002477279|         0.23782506|       0.156226135|      0.229200975|       0.180562045|       0.177917345|      0.149540145|       0.056653732|       0.029011364|       0.22494574|       0.30570942|      0.194940455|      0.602103365|       0.043835076|       0.040061787|        76.85484|0.47139802814291176|   null|          254.31|          251.41|                372.9|AmeriFlux|       8|       WSA|       SA|       Dfc|     Cold|         N|     55.9058|     -98.5247|\n",
            "| CA-NS3|      ENF|    1|          -23.518|            0.334|             0.072|       2.439020833|       0.23177375|        0.91969075|         0.220516|        0.93531575|       0.052843275|       0.012277475|        0.490116175|     0.00864036075|         0.52402075|          0.2941275|          0.7045405|        0.232385675|     0.5534163825|            11.0|             6.0|           25.75|      0.0135335815|     0.06469927175|     -6.1234475E-4|     249.4504425|      249.489395|       6.265925E-4|     0.02419492125|     0.00222967625|        0.258384035|       0.218443545|      0.289576745|       0.246841955|      0.2390648725|     0.1736629875|       0.062508419|     0.03296289675|      0.236874455|     0.2139385975|     0.1407187825|       0.64405669|     0.04056077475|       0.020391365|       95.064516|0.47139802814291176|   null|          248.22|          242.41|            374.43125|AmeriFlux|       8|       WSA|       SA|       Dfc|     Cold|         N|     55.9117|     -98.3822|\n",
            "| CA-NS3|      ENF|   12|          -18.595|0.411333333333333|             0.052|-0.179949372666667|0.235757666666667| 0.961469666666667|          0.24181|          0.968414|0.0822626666666667|        0.01385658| 0.0797087333333333|0.0228317133333333|  0.309775666666667|  0.235699333333333|  0.337094433333333|  0.321282666666667|0.158051713333333|7.66666666666667|4.33333333333333|17.3333333333333|0.0213748236666667| 0.109161116666667|-8.243523333333E-4|254.881496666667|       255.01596| 6.514923333333E-4|       0.032018108|0.0027831393333333|          0.3877685| 0.201073353333333|       0.26918303| 0.238208993333333| 0.224457956666667|0.162622233333333|       0.060725266|0.0323394223333333|0.246734063333333|0.204719623333333|0.145615243333333|0.631692946666667|0.0392430076666667|0.0225820896666667|77.1720433333333|0.47139802814291176|   null|250.786666666667|247.866666666667|               374.98|AmeriFlux|       8|       WSA|       SA|       Dfc|     Cold|         N|     55.9117|     -98.3822|\n",
            "| CA-NS4|      ENF|    1|          -22.776|            0.832|               0.0|      -5.642530914|         0.123679|           0.99664|         0.120118|           0.99664|         -0.102353|         0.0157275|         -0.0895646|         0.0154881|           0.025542|           0.166009|          0.0264796|           0.163422|       0.52163714|            11.0|             6.0|            25.0|        0.00639738|       0.030430272|       -6.85014E-4|       249.29018|        249.3291|       0.001440223|       0.024554566|       0.003396333|         0.26122636|         0.2198284|       0.29187453|        0.24807653|        0.24173275|       0.17129144|       0.060375515|       0.033436872|       0.23731965|       0.20592918|       0.13950458|        0.6558935|       0.040492453|       0.019908512|           100.0|0.47139802814291176|   null|          249.84|          240.58|               377.22|  FLUXNET|       8|       WSA|       SA|       Dfc|     Cold|         N|    55.91437|   -98.380645|\n",
            "| CA-NS4|      ENF|   11|          -10.839|           0.5095|             0.373|      2.1716649305|         0.247757|         0.9569445|        0.2474635|          0.946875|        0.01199922|         0.0767823|         0.01921735|         0.0637347|           0.263076|           0.219159|          0.2618405|          0.2274405|       0.09510563|            12.0|             6.5|            27.5|        0.04179466|       0.181568325|     -0.0023306645|       263.25265|        263.4628|       0.001079241|       0.057394756|       0.004650193|         0.30397345|          0.151795|       0.23368264|       0.164637575|        0.16378501|       0.15432758|        0.06417751|      0.0336630035|      0.228582495|       1.08567168|       0.28699755|       0.53189073|      0.0535975285|       0.118833765|       52.166668|0.47139802814291176|   null|          261.63|          256.55|             374.2075|  FLUXNET|       8|       WSA|       SA|       Dfc|     Cold|         N|    55.91437|   -98.380645|\n",
            "| CA-NS4|      ENF|   12|         -20.1385|           0.2845|            0.1645|     -5.4792241265|      0.073803255|         0.9579975|     0.0719769995|         0.9576615|       -0.00418095|        0.12100599|          0.0309669|        0.04535254|         0.07266685|         0.12370965|           0.106614|         0.12033365|      0.160511475|             7.5|             4.5|            17.5|       0.014719154|       0.075258275|      -8.115995E-4|      253.010475|        253.0999|        7.53619E-4|       0.029838078|      0.0031208845|          0.3877685|        0.20004668|       0.27077338|       0.237681045|        0.22404069|      0.162993065|       0.060157144|      0.0324392885|       0.25621003|       0.21255988|      0.150659665|      0.636247695|        0.04084678|      0.0238517225|       89.080645|0.47139802814291176|   null|          249.05|          245.76|             374.8925|  FLUXNET|       8|       WSA|       SA|       Dfc|     Cold|         N|    55.91437|   -98.380645|\n",
            "| CA-NS5|      ENF|    1|-24.2956666666667|0.215666666666667|               0.0|  5.59287240266667|0.138870333333333|          0.909722|         0.141025|          0.892025|0.0195387333333333|0.0536483933333333|          0.0093565|        0.03995595|  0.160352333333333|          0.2483527|  0.137254333333333|  0.234218566666667|0.459280263333333|            11.0|             6.0|            25.0|       0.008463055|0.0401997326666667|-5.114873333333E-4|248.561606666667|248.613956666667| 7.204083333333E-4|0.0223231766666667|0.0022851446666666|  0.261226373333333| 0.198110846666667|0.263858226666667|        0.23041888| 0.218180596666667|0.163842396666667|0.0612135956666667|0.0324055356666667|0.225972316666667|0.213444146666667|       0.14380711|0.623519933333333|0.0378113153333333|0.0215081976666667|           100.0|0.47139802814291176|   null|          248.38|           242.7|              374.705|AmeriFlux|       8|       WSA|       SA|       Dfc|     Cold|         N|     55.8631|      -98.485|\n",
            "+-------+---------+-----+-----------------+-----------------+------------------+------------------+-----------------+------------------+-----------------+------------------+------------------+------------------+-------------------+------------------+-------------------+-------------------+-------------------+-------------------+-----------------+----------------+----------------+----------------+------------------+------------------+------------------+----------------+----------------+------------------+------------------+------------------+-------------------+------------------+-----------------+------------------+------------------+-----------------+------------------+------------------+-----------------+-----------------+-----------------+-----------------+------------------+------------------+----------------+-------------------+-------+----------------+----------------+---------------------+---------+--------+----------+---------+----------+---------+----------+------------+-------------+\n",
            "only showing top 20 rows\n",
            "\n"
          ]
        }
      ]
    },
    {
      "cell_type": "code",
      "source": [
        "static_monthly_sdf.filter(static_monthly_sdf.Lai_avg.isNull()).groupBy(\"SITE_ID\").count().show()"
      ],
      "metadata": {
        "colab": {
          "base_uri": "https://localhost:8080/"
        },
        "outputId": "b38c6f5e-9db0-4f48-dbaa-5f2bbd54f5ac",
        "id": "XzYi6dNrAc4W"
      },
      "execution_count": 424,
      "outputs": [
        {
          "output_type": "stream",
          "name": "stdout",
          "text": [
            "+-------+-----+\n",
            "|SITE_ID|count|\n",
            "+-------+-----+\n",
            "| SE-Svb|    3|\n",
            "| DE-Lnf|    1|\n",
            "| DE-RuW|    1|\n",
            "| CA-Ca2|    1|\n",
            "| SE-Ros|    3|\n",
            "| DE-Tha|    1|\n",
            "| US-Ivo|    7|\n",
            "| CZ-RAJ|    1|\n",
            "| RU-Fy2|    2|\n",
            "| SE-Deg|    3|\n",
            "| CA-Oas|    1|\n",
            "| SE-Lnn|    3|\n",
            "| BE-Maa|    1|\n",
            "| FI-Var|    5|\n",
            "| SJ-Adv|    3|\n",
            "| CA-Qc2|    1|\n",
            "| NL-Hor|    1|\n",
            "| DE-HoH|    1|\n",
            "| FI-Qvd|    3|\n",
            "| BE-Dor|    1|\n",
            "+-------+-----+\n",
            "only showing top 20 rows\n",
            "\n"
          ]
        }
      ]
    },
    {
      "cell_type": "markdown",
      "source": [
        "### Impute with average across sites"
      ],
      "metadata": {
        "id": "uKWWYNO-Ac4W"
      }
    },
    {
      "cell_type": "code",
      "source": [
        "static_monthly_sdf = static_monthly_sdf.fillna(value = static_monthly_sdf\n",
        "    .select(mean('Lai_avg')).head()[0],subset = ['Lai_avg'])"
      ],
      "metadata": {
        "id": "3bui2HYtAc4W"
      },
      "execution_count": 425,
      "outputs": []
    },
    {
      "cell_type": "code",
      "source": [
        "static_monthly_sdf.filter(static_monthly_sdf.SITE_ID == 'SE-Svb').show()"
      ],
      "metadata": {
        "colab": {
          "base_uri": "https://localhost:8080/"
        },
        "outputId": "bf33d976-71c6-4b62-d78e-4159ddb8b23d",
        "id": "1n_XtXANAc4X"
      },
      "execution_count": 426,
      "outputs": [
        {
          "output_type": "stream",
          "name": "stdout",
          "text": [
            "+-------+---------+-----+-----------------+-----------------+----------------+-----------------+-----------------+------------------+-----------------+------------------+------------------+------------------+------------------+------------------+-------------------+-------------------+-------------------+-------------------+------------------+----------------+----------------+----------------+------------------+-----------------+-------------------+----------------+----------------+------------------+------------------+------------------+-------------------+-------------------+------------------+-------------------+-------------------+------------------+-------------------+-------------------+-------------------+-----------------+------------------+------------------+-------------------+-------------------+------------------+-------------------+------------------+----------------+----------------+---------------------+--------+--------+----------+---------+----------+------+----------+------------+-------------+\n",
            "|SITE_ID|SITE_IGBP|month|         TA_F_avg|        VPD_F_avg|         P_F_avg|       NETRAD_avg|  NEE_VUT_REF_avg|NEE_VUT_REF_QC_avg|  NEE_CUT_REF_avg|NEE_CUT_REF_QC_avg|GPP_NT_VUT_REF_avg|GPP_DT_VUT_REF_avg|GPP_NT_CUT_REF_avg|GPP_DT_CUT_REF_avg|RECO_NT_VUT_REF_avg|RECO_DT_VUT_REF_avg|RECO_NT_CUT_REF_avg|RECO_DT_CUT_REF_avg|            ET_avg|    BESS_PAR_avg|BESS_PARdiff_avg|   BESS_RSDN_avg| CSIF_SIFdaily_avg| CSIF_SIFinst_avg|            PET_avg|          Ts_avg|       Tmean_avg|          prcp_avg|           vpd_avg|     prcp_lag3_avg|      ESACCI_sm_avg|             b1_avg|            b2_avg|             b3_avg|             b4_avg|            b5_avg|             b6_avg|             b7_avg|            EVI_avg|          GCI_avg|          NDVI_avg|          NDWI_avg|           NIRv_avg|          kNDVI_avg|  Percent_Snow_avg|           Fpar_avg|           Lai_avg|     LST_Day_avg|   LST_Night_avg|CO2_concentration_avg| dataset|MODIS_LC|MODIS_IGBP|MODIS_PFT|koppen_sub|koppen|hemisphere|LOCATION_LAT|LOCATION_LONG|\n",
            "+-------+---------+-----+-----------------+-----------------+----------------+-----------------+-----------------+------------------+-----------------+------------------+------------------+------------------+------------------+------------------+-------------------+-------------------+-------------------+-------------------+------------------+----------------+----------------+----------------+------------------+-----------------+-------------------+----------------+----------------+------------------+------------------+------------------+-------------------+-------------------+------------------+-------------------+-------------------+------------------+-------------------+-------------------+-------------------+-----------------+------------------+------------------+-------------------+-------------------+------------------+-------------------+------------------+----------------+----------------+---------------------+--------+--------+----------+---------+----------+------+----------+------------+-------------+\n",
            "| SE-Svb|      ENF|    1|           -8.402|            0.529|1.22133333333333|-32.4852528566667|0.520457666666667|          0.967518|0.523845333333333|           0.96707|0.0166592333333333|0.0382397733333333|0.0026627666666666|0.0399222666666667|  0.538067333333333|  0.493038333333333|           0.525036|  0.464541666666667|       0.039552796|4.33333333333333|3.33333333333333|             5.0|0.0040925116666666|      0.030356697|-0.0020583543333333|263.971486666667|       264.30147|0.0014448046666666|0.0497580526666667|0.0052071116666666|0.24943720478288073|         0.29189998|            0.3454|         0.34019998|             0.3174|            0.1586|             0.0396|        0.016350001|         0.24527794|       0.08936232|       0.083947934|         0.7942858|         0.02899562|        0.007047141|          98.48148|0.47139802814291176|1.4107357470966033|           260.5|259.093333333333|     406.856666666667|ICOS2020|       8|       WSA|       SA|       Dfc|  Cold|         N|    64.25611|      19.7745|\n",
            "| SE-Svb|      ENF|    2|          -4.6025|          0.68425|           1.721|   -16.2888596425|        0.6183385|        0.97459325|       0.61928275|        0.97422775|        0.22916565|       0.109356475|          0.222011|        0.11515185|          0.8473935|         0.55434675|          0.8387885|         0.52237625|      0.2895595375|            18.0|           10.25|            21.5|     0.02246752025|    0.09889740225|      -0.0032571035|      267.764405|       267.96889|     0.00176605125|     0.06308609725|     0.00562528875|0.24943720478288073|         0.22993775|       0.318655545|       0.2567802925|         0.24846087|      0.1631364225|      0.05156122125|        0.022031747|       0.2816459275|     0.3219160875|      0.1725024485|      0.7182546725|      0.05292287375|      0.03488777825|        90.8083675|  0.363333333333333| 0.633333333333333|           264.9|         261.645|            405.06125|ICOS2020|       8|       WSA|       SA|       Dfc|  Cold|         N|    64.25611|      19.7745|\n",
            "| SE-Svb|      ENF|    3|          -3.3102|           1.3012|          1.2096|      30.13479927|         0.481178|         0.9483872|        0.4909874|         0.9478496|         0.3499354|        0.16584514|        0.34518982|         0.1827344|          0.8346452|           0.488934|          0.8279868|          0.5211958|        1.11851462|            51.4|            26.2|            69.6|      0.0412501284|     0.1356944248|      -0.0057639064|      269.568498|      269.588726|      0.0014172588|      0.0966349164|      0.0047887126|0.24943720478288073|        0.241713018|       0.340077408|         0.24773054|        0.252314148|       0.186246182|       0.0674675458|        0.027527608|          0.2631604|      0.359746958|       0.172094218|       0.668594124|        0.057947574|       0.0309389598|        91.3483864|              0.294|              0.46|          268.96|         261.552|              405.715|ICOS2020|       8|       WSA|       SA|       Dfc|  Cold|         N|    64.25611|      19.7745|\n",
            "| SE-Svb|      ENF|    4|            1.795|           2.6128|          0.9808|      90.60967948|       -0.8862472|         0.9711112|       -0.8823532|         0.9691666|          2.249214|          1.916436|          2.258598|          1.975262|           1.368706|          0.9130618|            1.37332|           0.894624|         2.7158431|            97.4|            50.0|           131.4|      0.0615315054|      0.160239792|      -0.0121321328|      274.554856|      274.485864|       0.001259902|       0.186949974|       0.004205703|0.24943720478288073|        0.206095214|        0.29952115|        0.196870278|        0.211853494|       0.166589202|         0.07405438|       0.0324966542|        0.220317588|      0.630104108|        0.21425524|       0.587567854|       0.0574919566|         0.06091894|        81.5466664|              0.238|               0.4|         274.784|         266.928|              404.266|ICOS2020|       8|       WSA|       SA|       Dfc|  Cold|         N|    64.25611|      19.7745|\n",
            "| SE-Svb|      ENF|    5|             7.28| 4.37516666666667|1.24816666666667| 132.858267816667|-2.54080833333333| 0.943324333333333|-2.54206666666667| 0.942764166666667|          5.164375|  4.54088333333333|           5.12911|  4.57984166666667|   2.61841666666667|            1.93356|            2.60104|   1.97718833333333|         4.8042669|122.833333333333|            62.5|177.166666666667| 0.133700686666667|       0.29888244|-0.0198692616666667|       280.96458|281.064436666667|0.0020160433333333| 0.395345808333333|      0.0045133975|  0.268446903333333|         0.04831377|       0.181255765| 0.0270647503333333| 0.0477147393333333|        0.19628969|  0.128557858333333| 0.0620638963333333|  0.261598698333333| 3.11856711666667|       0.591869365| 0.169495983333333|        0.106399105|  0.342116756666667|  7.22042983333333|  0.496666666666667|  1.23333333333333|285.223333333333|273.203333333333|     405.824166666667|ICOS2020|       8|       WSA|       SA|       Dfc|  Cold|         N|    64.25611|      19.7745|\n",
            "| SE-Svb|      ENF|    6|          12.3448|           6.1674|          1.8468|     159.20459262|         -3.23367|         0.9443054|        -3.238984|         0.9384722|          7.935756|          7.118648|          7.792666|           7.05033|           4.711044|           4.285652|           4.566128|           4.275618|        5.08711612|           168.8|            74.8|           205.8|       0.258510646|       0.54206269|      -0.0265161082|       286.63049|      286.566878|      0.0021741742|       0.624283372|       0.005362648|          0.2473795|        0.033033911|       0.216045116|       0.0150258072|       0.0391911998|       0.230814484|        0.141893556|       0.0627120772|        0.351422472|       4.53137604|       0.734002602|       0.206707634|         0.15882839|        0.492045302|        0.47333334|              0.662|              2.06|          290.86|         278.688|              407.165|ICOS2020|       8|       WSA|       SA|       Dfc|  Cold|         N|    64.25611|      19.7745|\n",
            "| SE-Svb|      ENF|    7|           13.543|          4.83075|         2.96275|     143.80309175|       -2.3921125|        0.92405925|       -2.4228875|          0.918347|           8.56514|          7.519405|           8.60198|         7.4631775|           6.166455|           5.122875|          6.1991475|           5.276845|          1.763541|          137.75|            80.0|          180.25|      0.2684492325|      0.585040355|     -0.01817644025|     287.7917825|     287.7430525|     0.00364157775|        0.47822491|     0.00808959675|          0.2435467|       0.0294734985|      0.2227721025|      0.01498991225|        0.038182415|       0.223468625|        0.127848466|      0.05308320825|       0.3753908825|        4.8513152|       0.766544075|       0.270920605|         0.17073151|       0.5281304175|               0.0|             0.6475|               2.2|           291.2|         280.285|            406.23625|ICOS2020|       8|       WSA|       SA|       Dfc|  Cold|         N|    64.25611|      19.7745|\n",
            "| SE-Svb|      ENF|    8|          13.1056|           3.9036|          1.7378|    102.331787338|        -0.973034|         0.9614246|       -0.9736944|         0.9606182|          7.433234|          5.997734|           7.43979|          5.973844|           6.470044|           5.154212|           6.464854|           5.396386|       0.640957276|           118.0|            54.4|           150.6|       0.208452944|      0.513687512|       -0.015798776|      287.391962|      287.369642|       0.002325207|       0.414959118|       0.007830228|        0.235849512|        0.027882905|       0.208410318|       0.0146416118|       0.0351148364|       0.209755492|        0.116180641|       0.0475809626|        0.356294626|       4.95334064|       0.763830578|       0.284552788|        0.159206186|        0.525083084|               0.0|              0.704|              2.16|          289.68|           280.1|               405.67|ICOS2020|       8|       WSA|       SA|       Dfc|  Cold|         N|    64.25611|      19.7745|\n",
            "| SE-Svb|      ENF|    9|           8.6938|            2.233|          1.8656|     42.705050006|        0.6566698|         0.9831944|        0.6474284|         0.9829166|          4.514068|          3.545218|          4.527362|           3.63469|           5.166136|           3.291774|           5.173412|           3.585268|       0.109743195|            65.2|            30.8|            87.8|      0.1167947318|      0.348860126|      -0.0104816394|      282.631562|      282.678712|       0.002043058|       0.237330516|       0.007699112|        0.246395412|       0.0290963328|       0.179769338|       0.0145483318|       0.0327719994|       0.184851322|       0.1039046664|        0.042265996|         0.30221899|        4.5003712|        0.72049437|       0.266432678|        0.129773854|         0.47701773|               0.0|               0.63|               1.4|         283.968|         276.356|              405.174|ICOS2020|       8|       WSA|       SA|       Dfc|  Cold|         N|    64.25611|      19.7745|\n",
            "| SE-Svb|      ENF|   10|           2.3364|           1.0254|           1.487|    -2.8978086946|        0.7038592|         0.9866936|        0.7039584|          0.985484|          1.492954|         1.2947986|          1.502732|          1.295897|           2.201344|           1.665402|           2.199956|            1.56189|      0.0430582158|            22.6|            12.4|            35.2|       0.050931453|      0.200422446|       -0.003647274|      275.495292|      275.614592|       0.001625885|      0.0832359858|        0.00599415|         0.26274119|        0.050141617|       0.175291426|       0.0431041478|        0.054137542|       0.162958926|        0.083915587|       0.0343312494|        0.272981018|        3.9000837|       0.638094266|        0.33312497|       0.1036637012|        0.404659182|        14.6516127|              0.608|              1.22|         275.656|         270.572|              405.381|ICOS2020|       8|       WSA|       SA|       Dfc|  Cold|         N|    64.25611|      19.7745|\n",
            "| SE-Svb|      ENF|   11|-1.70116666666667|0.416166666666667|           1.678|-20.9426761733333| 1.05405983333333| 0.989120333333333| 1.05688766666667|         0.9890045|        0.15901135| 0.113722316666667| 0.157500133333333| 0.113017571666667|          1.2150675|          0.9438805|   1.20220283333333|  0.936982666666667|0.0231766238333333|5.66666666666667|             3.5|8.33333333333333|      0.0280961145|0.167894503333333|-0.0015000856666666|271.411753333333|      271.658295|       0.001913273|0.0453724386666667|0.0055834716666666|  0.275218658333333| 0.0656993696666667| 0.176740846666667|       0.0665553745| 0.0735299276666667| 0.145904963333333| 0.0653241441666667| 0.0282842166666667|        0.262466825|         2.524151|       0.559759375| 0.429637068333333| 0.0877247913333333|  0.329673366666667|  34.3350715666667|0.47139802814291176|1.4107357470966033|268.526666666667|          267.05|             404.7375|ICOS2020|       8|       WSA|       SA|       Dfc|  Cold|         N|    64.25611|      19.7745|\n",
            "| SE-Svb|      ENF|   12|          -3.2412|           0.3716|          1.8184|   -30.0996600642|         0.831481|         0.9760752|        0.8369036|         0.9745966|        -4.4258E-4|      0.0185014838|       -0.00404732|      0.0196958498|          0.8297262|          0.5662982|          0.8254106|          0.5857242|      0.0080581052|             1.6|             1.4|             2.4|      0.0130222532|      0.121138557|       -0.001439704|      269.332298|      269.683188|      0.0021220706|      0.0445306514|      0.0057483364|          0.2704941|0.09415284708073625|0.2481577327087127|0.06318375328940291|0.09032578663909083|0.2549171339270624|0.18840978986846046|0.11144319859565201|0.29324402477658323|2.780138120753199|0.5156758621963391|0.1553927609396808|0.12674528734171064|0.28881649302751955|12.406636111733743|0.47139802814291176|1.4107357470966033|         263.708|         263.484|              406.939|ICOS2020|       8|       WSA|       SA|       Dfc|  Cold|         N|    64.25611|      19.7745|\n",
            "+-------+---------+-----+-----------------+-----------------+----------------+-----------------+-----------------+------------------+-----------------+------------------+------------------+------------------+------------------+------------------+-------------------+-------------------+-------------------+-------------------+------------------+----------------+----------------+----------------+------------------+-----------------+-------------------+----------------+----------------+------------------+------------------+------------------+-------------------+-------------------+------------------+-------------------+-------------------+------------------+-------------------+-------------------+-------------------+-----------------+------------------+------------------+-------------------+-------------------+------------------+-------------------+------------------+----------------+----------------+---------------------+--------+--------+----------+---------+----------+------+----------+------------+-------------+\n",
            "\n"
          ]
        }
      ]
    },
    {
      "cell_type": "markdown",
      "source": [
        "# Export pyspark df to csv(for baseline)"
      ],
      "metadata": {
        "id": "tnA_JrRgCQIH"
      }
    },
    {
      "cell_type": "markdown",
      "source": [
        "### Check there is no missing value in the pyspark dataframe"
      ],
      "metadata": {
        "id": "zHs5cl4TCj9N"
      }
    },
    {
      "cell_type": "code",
      "source": [
        "# code that counts the number of None in each feature\n",
        "from pyspark.sql.functions import isnull, when, count, col\n",
        "\n",
        "static_monthly_sdf.select([count(when(isnull(c), c)).alias(c) for c in static_monthly_sdf.columns]).show()"
      ],
      "metadata": {
        "colab": {
          "base_uri": "https://localhost:8080/"
        },
        "id": "Nbuzx6JPrfeF",
        "outputId": "8d938508-487b-4c97-f629-0f5e8428931c"
      },
      "execution_count": 427,
      "outputs": [
        {
          "output_type": "stream",
          "name": "stdout",
          "text": [
            "+-------+---------+-----+--------+---------+-------+----------+---------------+------------------+---------------+------------------+------------------+------------------+------------------+------------------+-------------------+-------------------+-------------------+-------------------+------+------------+----------------+-------------+-----------------+----------------+-------+------+---------+--------+-------+-------------+-------------+------+------+------+------+------+------+------+-------+-------+--------+--------+--------+---------+----------------+--------+-------+-----------+-------------+---------------------+-------+--------+----------+---------+----------+------+----------+------------+-------------+\n",
            "|SITE_ID|SITE_IGBP|month|TA_F_avg|VPD_F_avg|P_F_avg|NETRAD_avg|NEE_VUT_REF_avg|NEE_VUT_REF_QC_avg|NEE_CUT_REF_avg|NEE_CUT_REF_QC_avg|GPP_NT_VUT_REF_avg|GPP_DT_VUT_REF_avg|GPP_NT_CUT_REF_avg|GPP_DT_CUT_REF_avg|RECO_NT_VUT_REF_avg|RECO_DT_VUT_REF_avg|RECO_NT_CUT_REF_avg|RECO_DT_CUT_REF_avg|ET_avg|BESS_PAR_avg|BESS_PARdiff_avg|BESS_RSDN_avg|CSIF_SIFdaily_avg|CSIF_SIFinst_avg|PET_avg|Ts_avg|Tmean_avg|prcp_avg|vpd_avg|prcp_lag3_avg|ESACCI_sm_avg|b1_avg|b2_avg|b3_avg|b4_avg|b5_avg|b6_avg|b7_avg|EVI_avg|GCI_avg|NDVI_avg|NDWI_avg|NIRv_avg|kNDVI_avg|Percent_Snow_avg|Fpar_avg|Lai_avg|LST_Day_avg|LST_Night_avg|CO2_concentration_avg|dataset|MODIS_LC|MODIS_IGBP|MODIS_PFT|koppen_sub|koppen|hemisphere|LOCATION_LAT|LOCATION_LONG|\n",
            "+-------+---------+-----+--------+---------+-------+----------+---------------+------------------+---------------+------------------+------------------+------------------+------------------+------------------+-------------------+-------------------+-------------------+-------------------+------+------------+----------------+-------------+-----------------+----------------+-------+------+---------+--------+-------+-------------+-------------+------+------+------+------+------+------+------+-------+-------+--------+--------+--------+---------+----------------+--------+-------+-----------+-------------+---------------------+-------+--------+----------+---------+----------+------+----------+------------+-------------+\n",
            "|      0|        0|    0|       0|        0|      0|         0|              0|                 0|              0|                 0|                 0|                 0|                 0|                 0|                  0|                  0|                  0|                  0|     0|           0|               0|            0|                0|               0|      0|     0|        0|       0|      0|            0|            0|     0|     0|     0|     0|     0|     0|     0|      0|      0|       0|       0|       0|        0|               0|       0|      0|          0|            0|                    0|      0|       0|         0|        0|         0|     0|         0|           0|            0|\n",
            "+-------+---------+-----+--------+---------+-------+----------+---------------+------------------+---------------+------------------+------------------+------------------+------------------+------------------+-------------------+-------------------+-------------------+-------------------+------+------------+----------------+-------------+-----------------+----------------+-------+------+---------+--------+-------+-------------+-------------+------+------+------+------+------+------+------+-------+-------+--------+--------+--------+---------+----------------+--------+-------+-----------+-------------+---------------------+-------+--------+----------+---------+----------+------+----------+------------+-------------+\n",
            "\n"
          ]
        }
      ]
    },
    {
      "cell_type": "code",
      "source": [
        "!pwd"
      ],
      "metadata": {
        "colab": {
          "base_uri": "https://localhost:8080/"
        },
        "id": "jZAFpJKrEEGg",
        "outputId": "5502dc37-9142-4ec4-875f-c44ee34e4382"
      },
      "execution_count": 428,
      "outputs": [
        {
          "output_type": "stream",
          "name": "stdout",
          "text": [
            "/content/drive/MyDrive\n"
          ]
        }
      ]
    },
    {
      "cell_type": "code",
      "source": [
        "# Write DataFrame data to CSV file\n",
        "static_monthly_sdf.write.option(\"header\",True).csv(\"./static_monthly_features_v1\")"
      ],
      "metadata": {
        "id": "yyuN3Sl_rfeG"
      },
      "execution_count": 432,
      "outputs": []
    },
    {
      "cell_type": "markdown",
      "source": [
        "# APPENDIX"
      ],
      "metadata": {
        "id": "cl8YlfijrRTm"
      }
    },
    {
      "cell_type": "markdown",
      "source": [
        "| feature_name      |                       source                       | definition                                                                                                                                                                              | var_type    |   |\n",
        "|-------------------|:--------------------------------------------------:|-----------------------------------------------------------------------------------------------------------------------------------------------------------------------------------------|-------------|---|\n",
        "| TA_F              | FLUXNET                                            | Air temperature, consolidated from TA_F_MDS and TA_ERA                                                                                                                                  | numeric     |   |\n",
        "| VPD_F             | FLUXNET                                            | Vapor Pressure Deficit consolidated from VPD_F_MDS and VPD_ERA                                                                                                                          | numeric     |   |\n",
        "| P_F               | FLUXNET                                            | Precipitation consolidated from P and P_ERA                                                                                                                                             | numeric     |   |\n",
        "| NETRAD            | FLUXNET                                            | Net radiation                                                                                                                                                                           | numeric     |   |\n",
        "| BESS-PAR          | BESS PAR                                           | Photosynthetic Active Radiation (PAR)                                                                                                                                                   | numeric     |   |\n",
        "| BESS-PARdiff      | BESS PAR                                           | Diffuse PAR                                                                                                                                                                             | numeric     |   |\n",
        "| BESS-RSDN         | BESS PAR                                           | Shortwave downwelling radiation                                                                                                                                                         | numeric     |   |\n",
        "| CSIF-SIFdaily     | CSIF                                               | All-sky daily average SIF                                                                                                                                                               | numeric     |   |\n",
        "| CSIF-SIFinst      | NA                                                 | NA                                                                                                                                                                                      | numeric     |   |\n",
        "| PET               | ERA5-Land                                          | Potential ET                                                                                                                                                                            | numeric     |   |\n",
        "| Ts                | ERA5-Land                                          | NA                                                                                                                                                                                      | numeric     |   |\n",
        "| Tmean             | ERA5-Land                                          | Air temperature                                                                                                                                                                         | numeric     |   |\n",
        "| prcp              | ERA5-Land                                          | Precipitation                                                                                                                                                                           | numeric     |   |\n",
        "| vpd               | ERA5-Land                                          | Vapor pressure deficit                                                                                                                                                                  | numeric     |   |\n",
        "| prcp-lag3         | ERA5-Land                                          | Precipitation 3-month lag                                                                                                                                                               | numeric     |   |\n",
        "| ESACCI-sm         | ERA5-Land                                          | Soil moisture                                                                                                                                                                           | numeric     |   |\n",
        "| MODIS_LC          | NA                                                 | MODIS land cover (MODIS LC)                                                                                                                                                             | categorical |   |\n",
        "| b1                | MCD43C4                                            | Surface reflectance Band 1                                                                                                                                                              | numeric     |   |\n",
        "| b2                | MCD43C4                                            | Surface reflectance Band 2 (nir)                                                                                                                                                        | numeric     |   |\n",
        "| b3                | MCD43C4                                            | Surface reflectance Band 3 (blue)                                                                                                                                                       | numeric     |   |\n",
        "| b4                | MCD43C4                                            | Surface reflectance Band 4 (green)                                                                                                                                                      | numeric     |   |\n",
        "| b5                | MCD43C4                                            | Surface reflectance Band 5 (SWIR1)                                                                                                                                                      | numeric     |   |\n",
        "| b6                | MCD43C4                                            | Surface reflectance Band 6 (SWIR2)                                                                                                                                                      | numeric     |   |\n",
        "| b7                | MCD43C4                                            | Surface reflectance Band 7 (SWIR3)                                                                                                                                                      | numeric     |   |\n",
        "| EVI               | MCD43C4                                            | Enhanced Vegetation Index (EVI)                                                                                                                                                         | numeric     |   |\n",
        "| GCI               | MCD43C4                                            | CIGreen c                                                                                                                                                                               | numeric     |   |\n",
        "| NDVI              | MCD43C4                                            | Normalized Difference Vegetation Index (NDVI)                                                                                                                                           | numeric     |   |\n",
        "| NDWI              | MCD43C4                                            | Normalized Different Water Index (NDWI) b                                                                                                                                               | numeric     |   |\n",
        "| NIRv              | MCD43C4                                            | NIRv d                                                                                                                                                                                  | numeric     |   |\n",
        "| kNDVI             | MCD43C4                                            | kNDVI a                                                                                                                                                                                 | numeric     |   |\n",
        "| Percent_Snow      | MCD43C4                                            | Percentage of snow cover                                                                                                                                                                | numeric     |   |\n",
        "| Fpar              | MCD15A3H (after 2002/07) MOD15A2H (before 2002/07) | Fraction of photosynthetically active radiation (fPAR)                                                                                                                                  | numeric     |   |\n",
        "| Lai               | MCD15A3H (after 2002/07) MOD15A2H (before 2002/07) | Surface reflectance Band 7 (SWIR3)                                                                                                                                                      | numeric     |   |\n",
        "| LST_Day           | MYD11A1 (after 2002/07) MOD11A1 (before 2002/07)   | Daytime land surface temperature                                                                                                                                                        | numeric     |   |\n",
        "| LST_Night         | MYD11A1 (after 2002/07) MOD11A1 (before 2002/07)   | Nighttime land surface temperature                                                                                                                                                      | numeric     |   |\n",
        "| MODIS_IGBP        | NA                                                 | NA                                                                                                                                                                                      | categorical |   |\n",
        "| MODIS_PFT         | NA                                                 | NA                                                                                                                                                                                      | categorical |   |\n",
        "| koppen_sub        | NA                                                 | NA                                                                                                                                                                                      | categorical |   |\n",
        "| koppen            | Koppen-Geiger                                      | Climate zone (one-hot encoding)                                                                                                                                                         | categorical |   |\n",
        "| CO2_concentration | ESLR                                               | Atmospheric CO2 concentration                                                                                                                                                           | numeric     |   |"
      ],
      "metadata": {
        "id": "CXSTyTIiiq67"
      }
    },
    {
      "cell_type": "code",
      "source": [],
      "metadata": {
        "id": "Vjc_BtvTrO1B"
      },
      "execution_count": null,
      "outputs": []
    }
  ]
}