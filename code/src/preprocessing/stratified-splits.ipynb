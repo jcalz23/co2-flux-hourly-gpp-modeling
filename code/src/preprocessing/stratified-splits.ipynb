{
 "cells": [
  {
   "cell_type": "markdown",
   "metadata": {},
   "source": [
    "# Notebook Setup"
   ]
  },
  {
   "cell_type": "code",
   "execution_count": 2,
   "metadata": {
    "tags": []
   },
   "outputs": [],
   "source": [
    "#TODO: CHANGE THIS BASED ON YOUR OWN LOCAL SETTINGS\n",
    "#MY_HOME_ABS_PATH = \"/Users/jetcalz07/Desktop/MIDS/W210_Capstone/co2-flux-hourly-gpp-modeling\"\n",
    "MY_HOME_ABS_PATH = \"/root/co2-flux-hourly-gpp-modeling\""
   ]
  },
  {
   "cell_type": "code",
   "execution_count": 3,
   "metadata": {
    "tags": []
   },
   "outputs": [],
   "source": [
    "if 'google.colab' in str(get_ipython()):\n",
    "  IN_COLLAB = True\n",
    "  from google.colab import drive\n",
    "  drive.mount('/content/drive/')\n",
    "else:\n",
    "  IN_COLLAB = False"
   ]
  },
  {
   "cell_type": "markdown",
   "metadata": {},
   "source": [
    "## Import Modules"
   ]
  },
  {
   "cell_type": "code",
   "execution_count": 4,
   "metadata": {
    "tags": []
   },
   "outputs": [],
   "source": [
    "import os\n",
    "os.environ[\"PYARROW_IGNORE_TIMEZONE\"] = \"1\"\n",
    "import pandas as pd\n",
    "import numpy as np\n",
    "import sys\n",
    "import joblib\n",
    "from io import BytesIO\n",
    "from sklearn.model_selection import StratifiedKFold, StratifiedShuffleSplit\n",
    "from sklearn.preprocessing import OneHotEncoder\n",
    "from sklearn.cluster import KMeans\n",
    "\n",
    "# Load locale custome modules\n",
    "os.chdir(MY_HOME_ABS_PATH)\n",
    "if IN_COLLAB:\n",
    "  sys.path.insert(0,os.path.abspath(\"./code/src/tools\"))\n",
    "else:\n",
    "  sys.path.append(os.path.abspath(\"./code/src/tools\"))\n",
    "\n",
    "from CloudIO.AzStorageClient import AzStorageClient\n",
    "from data_pipeline_lib import *\n",
    "\n",
    "pd.set_option('display.max_columns', None)\n",
    "pd.set_option('display.float_format', lambda x: '%.5f' % x)"
   ]
  },
  {
   "cell_type": "markdown",
   "metadata": {},
   "source": [
    "# Define Constants"
   ]
  },
  {
   "cell_type": "code",
   "execution_count": 5,
   "metadata": {
    "tags": []
   },
   "outputs": [],
   "source": [
    "# Paths\n",
    "root_dir =  MY_HOME_ABS_PATH\n",
    "tmp_dir =  root_dir + os.sep + '.tmp'\n",
    "raw_data_dir = tmp_dir\n",
    "data_dir = root_dir + os.sep + 'data'\n",
    "cred_dir = root_dir + os.sep + '.cred'\n",
    "az_cred_file = cred_dir + os.sep + 'azblobcred.json'\n",
    "preproc_objects_dir = root_dir + os.sep + 'code' + os.sep + 'src' + os.sep + 'preprocessing' + os.sep + 'preproc_objects'\n",
    "\n",
    "# input files\n",
    "site_metadata_filename = data_dir + os.sep + 'site-metadata.csv'\n",
    "\n",
    "# Azure container, file names\n",
    "container = \"all-sites-data\"\n",
    "ext = \"parquet\"\n",
    "ver = \"mvp\"\n",
    "tag = \"raw\"\n",
    "blob_name_base = f\"full_2010_2015_v_{ver}\"\n",
    "blob_name = f\"{blob_name_base}_{tag}.{ext}\""
   ]
  },
  {
   "cell_type": "markdown",
   "metadata": {},
   "source": [
    "## Load the Data DF Checkpoint from Pipeline"
   ]
  },
  {
   "cell_type": "code",
   "execution_count": 6,
   "metadata": {
    "tags": []
   },
   "outputs": [
    {
     "name": "stdout",
     "output_type": "stream",
     "text": [
      "Data size: (4862712, 51)\n"
     ]
    }
   ],
   "source": [
    "# (Optional) Load data_df from Azure checkpoint\n",
    "load_data_checkpoint = True\n",
    "\n",
    "if load_data_checkpoint:\n",
    "    data_df = None\n",
    "    local_file = tmp_dir + os.sep + blob_name \n",
    "    if not (os.path.exists(local_file)): \n",
    "        azStorageClient = AzStorageClient(az_cred_file)\n",
    "        file_stream = azStorageClient.downloadBlob2Stream(container, blob_name)\n",
    "        data_df = pd.read_parquet(file_stream, engine='pyarrow')\n",
    "        data_df.to_parquet(local_file)\n",
    "    else:\n",
    "        data_df = pd.read_parquet(local_file)\n",
    "\n",
    "    print(f\"Data size: {data_df.shape}\")"
   ]
  },
  {
   "cell_type": "markdown",
   "metadata": {
    "tags": []
   },
   "source": [
    "# Stratified Split V1 (Stratified on IGBP)"
   ]
  },
  {
   "cell_type": "code",
   "execution_count": 7,
   "metadata": {
    "tags": []
   },
   "outputs": [],
   "source": [
    "SITE_SPLITS =[\n",
    "  ['AR-SLu', 'AU-ASM', 'AU-Cpr', 'AU-Cum', 'AU-RDF', 'CA-TP3', 'CA-TPD', 'CN-Sw2',\n",
    "    'DE-SfN', 'NL-Hor', 'US-Me6', 'US-Syv', 'US-WCr', 'US-AR2', 'US-Tw4', 'US-UMB', \n",
    "    'US-Vcp', 'CH-Cha', 'CZ-BK1', 'CZ-KrP', 'DE-Obe', 'ES-LJu', 'FI-Let', 'FR-Lam', \n",
    "    'IT-Lav', 'SE-Lnn'], \n",
    "  ['CZ-BK2', 'DE-Spw', 'FR-Pue', 'IT-CA3', 'IT-Noe', 'IT-Ro2', 'US-IB2', 'US-Myb',\n",
    "    'US-SRM', 'CA-Ca3', 'US-CRT', 'US-Fmf', 'US-KFS', 'US-Prr', 'US-UMd', 'US-Wjs',\n",
    "    'BE-Bra', 'BE-Lon', 'CH-Lae', 'CZ-RAJ', 'DE-HoH', 'DE-Kli', 'DE-RuR', 'IL-Yat', \n",
    "    'IT-Tor', 'SE-Htm'], \n",
    "  ['AR-Vir', 'AT-Neu', 'AU-DaS', 'AU-TTE', 'AU-Wom', 'CA-TP1', 'IT-CA1', 'IT-SRo',\n",
    "    'US-WPT', 'US-Wkg', 'CA-Ca2', 'CA-Cbo', 'CA-TP4', 'US-ARM', 'US-Ro1', 'US-Rws',\n",
    "    'US-SRG', 'US-Vcm', 'BE-Dor', 'BE-Vie', 'CZ-Stn', 'DE-Geb', 'ES-LM2', 'FR-Fon', \n",
    "    'SE-Ros', 'DE-Hte'],\n",
    "  ['AU-DaP', 'AU-Emr', 'AU-Gin', 'AU-How', 'AU-Rig', 'US-GLE', 'US-NR1', 'US-Twt',\n",
    "    'CA-Ca1', 'CA-Gro', 'US-AR1', 'US-Bar', 'US-Mpj', 'US-Ses', 'CH-Fru', 'CH-Oe2',\n",
    "    'DE-Hai', 'DK-Sor', 'FI-Hyy', 'FR-Aur', 'FR-Hes', 'GF-Guy', 'IT-SR2', 'SE-Deg',\n",
    "    'SE-Nor', 'NL-Loo'],\n",
    "  ['AU-Stp', 'AU-Whr', 'CA-Oas', 'DE-Lnf', 'ES-Amo', 'FI-Sod', 'IT-CA2', 'US-Ton',\n",
    "    'US-Var', 'US-Whs', 'US-Ho1', 'US-Oho', 'US-Seg', 'CH-Dav', 'CZ-Lnz', 'CZ-wet',\n",
    "    'DE-Gri', 'DE-Tha', 'ES-LM1', 'FR-Bil', 'FR-FBn', 'IT-BCi', 'IT-MBo', 'IT-Ren',\n",
    "    'RU-Fyo']\n",
    "]"
   ]
  },
  {
   "cell_type": "code",
   "execution_count": 8,
   "metadata": {
    "tags": []
   },
   "outputs": [
    {
     "name": "stdout",
     "output_type": "stream",
     "text": [
      "\n",
      "Split 0\n",
      "mean    3.46445\n",
      "var    47.18681\n",
      "Name: GPP_NT_VUT_REF, dtype: float64\n",
      "\n",
      "Split 1\n",
      "mean    3.15823\n",
      "var    42.43168\n",
      "Name: GPP_NT_VUT_REF, dtype: float64\n",
      "\n",
      "Split 2\n",
      "mean    3.58570\n",
      "var    51.63695\n",
      "Name: GPP_NT_VUT_REF, dtype: float64\n",
      "\n",
      "Split 3\n",
      "mean    3.64023\n",
      "var    50.66586\n",
      "Name: GPP_NT_VUT_REF, dtype: float64\n",
      "\n",
      "Split 4\n",
      "mean    3.08400\n",
      "var    40.30168\n",
      "Name: GPP_NT_VUT_REF, dtype: float64\n"
     ]
    }
   ],
   "source": [
    "# Check GPP summary by split\n",
    "for i in range(5):\n",
    "    print(f\"\\nSplit {i}\")\n",
    "    print(data_df.loc[data_df['site_id'].isin(SITE_SPLITS[i]), 'GPP_NT_VUT_REF'].agg(['mean', 'var']))"
   ]
  },
  {
   "cell_type": "markdown",
   "metadata": {},
   "source": [
    "^^^It is likely problematic that the different splits have a wide range of GPP variance. The GPP means by split aren't terribly far apart, but could be closer"
   ]
  },
  {
   "cell_type": "markdown",
   "metadata": {},
   "source": [
    "# Stratified Split V2 (Use clustering on IGBP, GPP_Mean, GPP_Var)"
   ]
  },
  {
   "cell_type": "code",
   "execution_count": 9,
   "metadata": {
    "tags": []
   },
   "outputs": [
    {
     "name": "stdout",
     "output_type": "stream",
     "text": [
      "available sites: (128, 6)\n"
     ]
    }
   ],
   "source": [
    "# Load Site data\n",
    "site_metadata_df = pd.read_csv(site_metadata_filename, usecols=['site_id', 'IGBP', 'GPP_var', 'GPP_mean', 'GPP_var_bins', 'GPP_mean_bins'])\n",
    "\n",
    "# only focus on target sites\n",
    "site_metadata_df.dropna(inplace=True)\n",
    "available_sites = data_df['site_id'].unique()\n",
    "site_data_df = site_metadata_df.loc[site_metadata_df['site_id'].isin(available_sites), ].copy()\n",
    "print(f\"available sites: {site_data_df.shape}\")\n",
    "\n",
    "# Group IGBP\n",
    "site_data_df['gen_IGBP'] = site_data_df['IGBP']\n",
    "site_data_df['gen_IGBP'].replace('WSA', 'SAV', inplace=True)\n",
    "site_data_df['gen_IGBP'].replace('CSH', 'SHB', inplace=True)\n",
    "site_data_df['gen_IGBP'].replace('OSH', 'SHB', inplace=True)\n",
    "site_data_df.drop(site_data_df[site_data_df['gen_IGBP'] == 'WAT'].index, inplace = True)\n",
    "\n",
    "# Make site_id the index\n",
    "site_index = site_data_df['site_id'].values\n",
    "site_data_df.set_index(site_index, inplace=True)"
   ]
  },
  {
   "cell_type": "code",
   "execution_count": 13,
   "metadata": {
    "tags": []
   },
   "outputs": [
    {
     "name": "stdout",
     "output_type": "stream",
     "text": [
      "(128, 11)\n"
     ]
    },
    {
     "data": {
      "text/html": [
       "<div>\n",
       "<style scoped>\n",
       "    .dataframe tbody tr th:only-of-type {\n",
       "        vertical-align: middle;\n",
       "    }\n",
       "\n",
       "    .dataframe tbody tr th {\n",
       "        vertical-align: top;\n",
       "    }\n",
       "\n",
       "    .dataframe thead th {\n",
       "        text-align: right;\n",
       "    }\n",
       "</style>\n",
       "<table border=\"1\" class=\"dataframe\">\n",
       "  <thead>\n",
       "    <tr style=\"text-align: right;\">\n",
       "      <th></th>\n",
       "      <th>gen_IGBP_CRO</th>\n",
       "      <th>gen_IGBP_DBF</th>\n",
       "      <th>gen_IGBP_EBF</th>\n",
       "      <th>gen_IGBP_ENF</th>\n",
       "      <th>gen_IGBP_GRA</th>\n",
       "      <th>gen_IGBP_MF</th>\n",
       "      <th>gen_IGBP_SAV</th>\n",
       "      <th>gen_IGBP_SHB</th>\n",
       "      <th>gen_IGBP_WET</th>\n",
       "      <th>GPP_mean</th>\n",
       "      <th>GPP_var</th>\n",
       "    </tr>\n",
       "  </thead>\n",
       "  <tbody>\n",
       "    <tr>\n",
       "      <th>AR-SLu</th>\n",
       "      <td>0.00000</td>\n",
       "      <td>0.00000</td>\n",
       "      <td>0.00000</td>\n",
       "      <td>0.00000</td>\n",
       "      <td>0.00000</td>\n",
       "      <td>1.00000</td>\n",
       "      <td>0.00000</td>\n",
       "      <td>0.00000</td>\n",
       "      <td>0.00000</td>\n",
       "      <td>6.89660</td>\n",
       "      <td>88.14843</td>\n",
       "    </tr>\n",
       "    <tr>\n",
       "      <th>AR-Vir</th>\n",
       "      <td>0.00000</td>\n",
       "      <td>0.00000</td>\n",
       "      <td>0.00000</td>\n",
       "      <td>1.00000</td>\n",
       "      <td>0.00000</td>\n",
       "      <td>0.00000</td>\n",
       "      <td>0.00000</td>\n",
       "      <td>0.00000</td>\n",
       "      <td>0.00000</td>\n",
       "      <td>10.67907</td>\n",
       "      <td>195.83335</td>\n",
       "    </tr>\n",
       "    <tr>\n",
       "      <th>AT-Neu</th>\n",
       "      <td>0.00000</td>\n",
       "      <td>0.00000</td>\n",
       "      <td>0.00000</td>\n",
       "      <td>0.00000</td>\n",
       "      <td>1.00000</td>\n",
       "      <td>0.00000</td>\n",
       "      <td>0.00000</td>\n",
       "      <td>0.00000</td>\n",
       "      <td>0.00000</td>\n",
       "      <td>6.63636</td>\n",
       "      <td>146.69835</td>\n",
       "    </tr>\n",
       "    <tr>\n",
       "      <th>AU-ASM</th>\n",
       "      <td>0.00000</td>\n",
       "      <td>0.00000</td>\n",
       "      <td>0.00000</td>\n",
       "      <td>0.00000</td>\n",
       "      <td>0.00000</td>\n",
       "      <td>0.00000</td>\n",
       "      <td>1.00000</td>\n",
       "      <td>0.00000</td>\n",
       "      <td>0.00000</td>\n",
       "      <td>0.74776</td>\n",
       "      <td>3.32712</td>\n",
       "    </tr>\n",
       "    <tr>\n",
       "      <th>AU-Cum</th>\n",
       "      <td>0.00000</td>\n",
       "      <td>0.00000</td>\n",
       "      <td>1.00000</td>\n",
       "      <td>0.00000</td>\n",
       "      <td>0.00000</td>\n",
       "      <td>0.00000</td>\n",
       "      <td>0.00000</td>\n",
       "      <td>0.00000</td>\n",
       "      <td>0.00000</td>\n",
       "      <td>3.21060</td>\n",
       "      <td>24.54087</td>\n",
       "    </tr>\n",
       "  </tbody>\n",
       "</table>\n",
       "</div>"
      ],
      "text/plain": [
       "        gen_IGBP_CRO  gen_IGBP_DBF  gen_IGBP_EBF  gen_IGBP_ENF  gen_IGBP_GRA  \\\n",
       "AR-SLu       0.00000       0.00000       0.00000       0.00000       0.00000   \n",
       "AR-Vir       0.00000       0.00000       0.00000       1.00000       0.00000   \n",
       "AT-Neu       0.00000       0.00000       0.00000       0.00000       1.00000   \n",
       "AU-ASM       0.00000       0.00000       0.00000       0.00000       0.00000   \n",
       "AU-Cum       0.00000       0.00000       1.00000       0.00000       0.00000   \n",
       "\n",
       "        gen_IGBP_MF  gen_IGBP_SAV  gen_IGBP_SHB  gen_IGBP_WET  GPP_mean  \\\n",
       "AR-SLu      1.00000       0.00000       0.00000       0.00000   6.89660   \n",
       "AR-Vir      0.00000       0.00000       0.00000       0.00000  10.67907   \n",
       "AT-Neu      0.00000       0.00000       0.00000       0.00000   6.63636   \n",
       "AU-ASM      0.00000       1.00000       0.00000       0.00000   0.74776   \n",
       "AU-Cum      0.00000       0.00000       0.00000       0.00000   3.21060   \n",
       "\n",
       "         GPP_var  \n",
       "AR-SLu  88.14843  \n",
       "AR-Vir 195.83335  \n",
       "AT-Neu 146.69835  \n",
       "AU-ASM   3.32712  \n",
       "AU-Cum  24.54087  "
      ]
     },
     "execution_count": 13,
     "metadata": {},
     "output_type": "execute_result"
    }
   ],
   "source": [
    "# Encode categoricals to use in clustering\n",
    "cat_features = ['gen_IGBP']\n",
    "num_features = ['GPP_mean', 'GPP_var']\n",
    "\n",
    "encoder = OneHotEncoder()\n",
    "cat_feature_encoded = encoder.fit_transform(site_data_df[cat_features].values)\n",
    "cat_feature_df = pd.DataFrame(cat_feature_encoded.toarray(), columns=encoder.get_feature_names_out(cat_features), index=site_index)\n",
    "\n",
    "# Recombine all together\n",
    "cluster_df = pd.concat([cat_feature_df, site_data_df[num_features]], axis=1)\n",
    "print(cluster_df.shape)\n",
    "cluster_df.head()"
   ]
  },
  {
   "cell_type": "code",
   "execution_count": 14,
   "metadata": {
    "tags": []
   },
   "outputs": [
    {
     "name": "stdout",
     "output_type": "stream",
     "text": [
      "0: 33\n",
      "1: 4\n",
      "2: 19\n",
      "3: 29\n",
      "4: 43\n"
     ]
    },
    {
     "data": {
      "text/html": [
       "<div>\n",
       "<style scoped>\n",
       "    .dataframe tbody tr th:only-of-type {\n",
       "        vertical-align: middle;\n",
       "    }\n",
       "\n",
       "    .dataframe tbody tr th {\n",
       "        vertical-align: top;\n",
       "    }\n",
       "\n",
       "    .dataframe thead th {\n",
       "        text-align: right;\n",
       "    }\n",
       "</style>\n",
       "<table border=\"1\" class=\"dataframe\">\n",
       "  <thead>\n",
       "    <tr style=\"text-align: right;\">\n",
       "      <th></th>\n",
       "      <th>site_id</th>\n",
       "      <th>gen_IGBP_CRO</th>\n",
       "      <th>gen_IGBP_DBF</th>\n",
       "      <th>gen_IGBP_EBF</th>\n",
       "      <th>gen_IGBP_ENF</th>\n",
       "      <th>gen_IGBP_GRA</th>\n",
       "      <th>gen_IGBP_MF</th>\n",
       "      <th>gen_IGBP_SAV</th>\n",
       "      <th>gen_IGBP_SHB</th>\n",
       "      <th>gen_IGBP_WET</th>\n",
       "      <th>GPP_mean</th>\n",
       "      <th>GPP_var</th>\n",
       "      <th>cluster</th>\n",
       "    </tr>\n",
       "  </thead>\n",
       "  <tbody>\n",
       "    <tr>\n",
       "      <th>0</th>\n",
       "      <td>AR-SLu</td>\n",
       "      <td>0.00000</td>\n",
       "      <td>0.00000</td>\n",
       "      <td>0.00000</td>\n",
       "      <td>0.00000</td>\n",
       "      <td>0.00000</td>\n",
       "      <td>1.00000</td>\n",
       "      <td>0.00000</td>\n",
       "      <td>0.00000</td>\n",
       "      <td>0.00000</td>\n",
       "      <td>6.89660</td>\n",
       "      <td>88.14843</td>\n",
       "      <td>2</td>\n",
       "    </tr>\n",
       "    <tr>\n",
       "      <th>1</th>\n",
       "      <td>AR-Vir</td>\n",
       "      <td>0.00000</td>\n",
       "      <td>0.00000</td>\n",
       "      <td>0.00000</td>\n",
       "      <td>1.00000</td>\n",
       "      <td>0.00000</td>\n",
       "      <td>0.00000</td>\n",
       "      <td>0.00000</td>\n",
       "      <td>0.00000</td>\n",
       "      <td>0.00000</td>\n",
       "      <td>10.67907</td>\n",
       "      <td>195.83335</td>\n",
       "      <td>1</td>\n",
       "    </tr>\n",
       "  </tbody>\n",
       "</table>\n",
       "</div>"
      ],
      "text/plain": [
       "  site_id  gen_IGBP_CRO  gen_IGBP_DBF  gen_IGBP_EBF  gen_IGBP_ENF  \\\n",
       "0  AR-SLu       0.00000       0.00000       0.00000       0.00000   \n",
       "1  AR-Vir       0.00000       0.00000       0.00000       1.00000   \n",
       "\n",
       "   gen_IGBP_GRA  gen_IGBP_MF  gen_IGBP_SAV  gen_IGBP_SHB  gen_IGBP_WET  \\\n",
       "0       0.00000      1.00000       0.00000       0.00000       0.00000   \n",
       "1       0.00000      0.00000       0.00000       0.00000       0.00000   \n",
       "\n",
       "   GPP_mean   GPP_var  cluster  \n",
       "0   6.89660  88.14843        2  \n",
       "1  10.67907 195.83335        1  "
      ]
     },
     "execution_count": 14,
     "metadata": {},
     "output_type": "execute_result"
    }
   ],
   "source": [
    "# Cluster sites on above criteria\n",
    "n=5\n",
    "kmeans = KMeans(n_clusters=n, random_state=42)\n",
    "kmeans.fit(cluster_df)\n",
    "cluster_labels = kmeans.labels_\n",
    "cluster_df['cluster'] = cluster_labels\n",
    "\n",
    "# Get the value counts\n",
    "unique, counts = np.unique(cluster_labels, return_counts=True)\n",
    "for val, count in zip(unique, counts):\n",
    "    print(f'{val}: {count}')\n",
    "    \n",
    "# View df\n",
    "cluster_df.reset_index(inplace=True, names=['site_id'])\n",
    "cluster_df.head(2)"
   ]
  },
  {
   "cell_type": "code",
   "execution_count": 18,
   "metadata": {
    "tags": []
   },
   "outputs": [
    {
     "name": "stdout",
     "output_type": "stream",
     "text": [
      "Fold 1:\n",
      "  Count=(26,)\n",
      "  Cluster =[0 1 2 3 4]\n",
      "  Sites=['AR-SLu', 'AU-Cum', 'AU-DaP', 'AU-Rig', 'CA-TPD', 'CN-Sw2', 'ES-Amo', 'FI-Sod', 'IT-SRo', 'US-GLE', 'US-WPT', 'US-AR1', 'US-AR2', 'US-CRT', 'US-Oho', 'US-UMB', 'US-Vcp', 'BE-Lon', 'CH-Cha', 'CZ-KrP', 'CZ-Lnz', 'DE-Gri', 'DE-Hai', 'DE-Obe', 'ES-LM1', 'SE-Lnn']\n",
      "\n",
      "Cluster 0: 6\n",
      "Cluster 1: 1\n",
      "Cluster 2: 4\n",
      "Cluster 3: 6\n",
      "Cluster 4: 9\n",
      "Fold 2:\n",
      "  Count=(26,)\n",
      "  Cluster =[0 1 2 3 4]\n",
      "  Sites=['AU-Emr', 'AU-Gin', 'AU-How', 'CZ-BK2', 'DE-Lnf', 'DE-Spw', 'FR-Pue', 'US-NR1', 'US-Ton', 'US-Whs', 'US-Bar', 'US-Seg', 'BE-Bra', 'CH-Dav', 'CZ-RAJ', 'DE-RuR', 'FI-Hyy', 'FI-Let', 'FR-FBn', 'FR-Fon', 'GF-Guy', 'IT-BCi', 'IT-Ren', 'RU-Fyo', 'SE-Deg', 'SE-Htm']\n",
      "\n",
      "Cluster 0: 6\n",
      "Cluster 1: 1\n",
      "Cluster 2: 4\n",
      "Cluster 3: 6\n",
      "Cluster 4: 9\n",
      "Fold 3:\n",
      "  Count=(26,)\n",
      "  Cluster =[0 1 2 3 4]\n",
      "  Sites=['AT-Neu', 'AU-RDF', 'AU-Stp', 'IT-CA1', 'IT-Noe', 'IT-Ro2', 'US-IB2', 'US-Me6', 'US-Syv', 'US-Twt', 'US-KFS', 'US-Ro1', 'US-Rws', 'US-SRG', 'US-Ses', 'US-Tw4', 'BE-Vie', 'CZ-wet', 'DE-HoH', 'DE-Tha', 'FR-Bil', 'FR-Lam', 'IT-Lav', 'IT-MBo', 'SE-Nor', 'NL-Loo']\n",
      "\n",
      "Cluster 0: 7\n",
      "Cluster 1: 1\n",
      "Cluster 2: 4\n",
      "Cluster 3: 5\n",
      "Cluster 4: 9\n",
      "Fold 4:\n",
      "  Count=(25,)\n",
      "  Cluster =[0 2 3 4]\n",
      "  Sites=['AU-ASM', 'AU-DaS', 'AU-TTE', 'CA-TP3', 'DE-SfN', 'IT-CA2', 'US-Var', 'CA-Ca1', 'CA-Ca2', 'CA-Gro', 'CA-TP4', 'US-ARM', 'US-Ho1', 'US-Mpj', 'US-Prr', 'US-UMd', 'CH-Fru', 'CH-Lae', 'CH-Oe2', 'CZ-Stn', 'ES-LJu', 'FR-Aur', 'FR-Hes', 'IT-SR2', 'DE-Hte']\n",
      "\n",
      "Cluster 0: 7\n",
      "Cluster 2: 4\n",
      "Cluster 3: 6\n",
      "Cluster 4: 8\n",
      "Fold 5:\n",
      "  Count=(25,)\n",
      "  Cluster =[0 1 2 3 4]\n",
      "  Sites=['AR-Vir', 'AU-Whr', 'AU-Wom', 'CA-Oas', 'CA-TP1', 'IT-CA3', 'NL-Hor', 'US-Myb', 'US-SRM', 'US-WCr', 'US-Wkg', 'CA-Ca3', 'CA-Cbo', 'US-Fmf', 'US-Vcm', 'US-Wjs', 'BE-Dor', 'CZ-BK1', 'DE-Geb', 'DE-Kli', 'DK-Sor', 'ES-LM2', 'IL-Yat', 'IT-Tor', 'SE-Ros']\n",
      "\n",
      "Cluster 0: 7\n",
      "Cluster 1: 1\n",
      "Cluster 2: 3\n",
      "Cluster 3: 6\n",
      "Cluster 4: 8\n",
      "[['AR-SLu', 'AU-Cum', 'AU-DaP', 'AU-Rig', 'CA-TPD', 'CN-Sw2', 'ES-Amo', 'FI-Sod', 'IT-SRo', 'US-GLE', 'US-WPT', 'US-AR1', 'US-AR2', 'US-CRT', 'US-Oho', 'US-UMB', 'US-Vcp', 'BE-Lon', 'CH-Cha', 'CZ-KrP', 'CZ-Lnz', 'DE-Gri', 'DE-Hai', 'DE-Obe', 'ES-LM1', 'SE-Lnn'], ['AU-Emr', 'AU-Gin', 'AU-How', 'CZ-BK2', 'DE-Lnf', 'DE-Spw', 'FR-Pue', 'US-NR1', 'US-Ton', 'US-Whs', 'US-Bar', 'US-Seg', 'BE-Bra', 'CH-Dav', 'CZ-RAJ', 'DE-RuR', 'FI-Hyy', 'FI-Let', 'FR-FBn', 'FR-Fon', 'GF-Guy', 'IT-BCi', 'IT-Ren', 'RU-Fyo', 'SE-Deg', 'SE-Htm'], ['AT-Neu', 'AU-RDF', 'AU-Stp', 'IT-CA1', 'IT-Noe', 'IT-Ro2', 'US-IB2', 'US-Me6', 'US-Syv', 'US-Twt', 'US-KFS', 'US-Ro1', 'US-Rws', 'US-SRG', 'US-Ses', 'US-Tw4', 'BE-Vie', 'CZ-wet', 'DE-HoH', 'DE-Tha', 'FR-Bil', 'FR-Lam', 'IT-Lav', 'IT-MBo', 'SE-Nor', 'NL-Loo'], ['AU-ASM', 'AU-DaS', 'AU-TTE', 'CA-TP3', 'DE-SfN', 'IT-CA2', 'US-Var', 'CA-Ca1', 'CA-Ca2', 'CA-Gro', 'CA-TP4', 'US-ARM', 'US-Ho1', 'US-Mpj', 'US-Prr', 'US-UMd', 'CH-Fru', 'CH-Lae', 'CH-Oe2', 'CZ-Stn', 'ES-LJu', 'FR-Aur', 'FR-Hes', 'IT-SR2', 'DE-Hte'], ['AR-Vir', 'AU-Whr', 'AU-Wom', 'CA-Oas', 'CA-TP1', 'IT-CA3', 'NL-Hor', 'US-Myb', 'US-SRM', 'US-WCr', 'US-Wkg', 'CA-Ca3', 'CA-Cbo', 'US-Fmf', 'US-Vcm', 'US-Wjs', 'BE-Dor', 'CZ-BK1', 'DE-Geb', 'DE-Kli', 'DK-Sor', 'ES-LM2', 'IL-Yat', 'IT-Tor', 'SE-Ros']]\n",
      "\n",
      "\n",
      "{'fold_1': ['AR-SLu', 'AU-Cum', 'AU-DaP', 'AU-Rig', 'CA-TPD', 'CN-Sw2', 'ES-Amo', 'FI-Sod', 'IT-SRo', 'US-GLE', 'US-WPT', 'US-AR1', 'US-AR2', 'US-CRT', 'US-Oho', 'US-UMB', 'US-Vcp', 'BE-Lon', 'CH-Cha', 'CZ-KrP', 'CZ-Lnz', 'DE-Gri', 'DE-Hai', 'DE-Obe', 'ES-LM1', 'SE-Lnn'], 'fold_2': ['AU-Emr', 'AU-Gin', 'AU-How', 'CZ-BK2', 'DE-Lnf', 'DE-Spw', 'FR-Pue', 'US-NR1', 'US-Ton', 'US-Whs', 'US-Bar', 'US-Seg', 'BE-Bra', 'CH-Dav', 'CZ-RAJ', 'DE-RuR', 'FI-Hyy', 'FI-Let', 'FR-FBn', 'FR-Fon', 'GF-Guy', 'IT-BCi', 'IT-Ren', 'RU-Fyo', 'SE-Deg', 'SE-Htm'], 'fold_3': ['AT-Neu', 'AU-RDF', 'AU-Stp', 'IT-CA1', 'IT-Noe', 'IT-Ro2', 'US-IB2', 'US-Me6', 'US-Syv', 'US-Twt', 'US-KFS', 'US-Ro1', 'US-Rws', 'US-SRG', 'US-Ses', 'US-Tw4', 'BE-Vie', 'CZ-wet', 'DE-HoH', 'DE-Tha', 'FR-Bil', 'FR-Lam', 'IT-Lav', 'IT-MBo', 'SE-Nor', 'NL-Loo'], 'fold_4': ['AU-ASM', 'AU-DaS', 'AU-TTE', 'CA-TP3', 'DE-SfN', 'IT-CA2', 'US-Var', 'CA-Ca1', 'CA-Ca2', 'CA-Gro', 'CA-TP4', 'US-ARM', 'US-Ho1', 'US-Mpj', 'US-Prr', 'US-UMd', 'CH-Fru', 'CH-Lae', 'CH-Oe2', 'CZ-Stn', 'ES-LJu', 'FR-Aur', 'FR-Hes', 'IT-SR2', 'DE-Hte'], 'fold_5': ['AR-Vir', 'AU-Whr', 'AU-Wom', 'CA-Oas', 'CA-TP1', 'IT-CA3', 'NL-Hor', 'US-Myb', 'US-SRM', 'US-WCr', 'US-Wkg', 'CA-Ca3', 'CA-Cbo', 'US-Fmf', 'US-Vcm', 'US-Wjs', 'BE-Dor', 'CZ-BK1', 'DE-Geb', 'DE-Kli', 'DK-Sor', 'ES-LM2', 'IL-Yat', 'IT-Tor', 'SE-Ros'], 'VAL_INDEX': 3, 'TEST_INDEX': 4, 'NUM_FOLDS': 5}\n"
     ]
    },
    {
     "name": "stderr",
     "output_type": "stream",
     "text": [
      "/opt/conda/envs/py310/lib/python3.10/site-packages/sklearn/model_selection/_split.py:684: UserWarning: The least populated class in y has only 4 members, which is less than n_splits=5.\n",
      "  warnings.warn(\n"
     ]
    }
   ],
   "source": [
    "# Conduct k-fold splitting\n",
    "n = 5\n",
    "skf = StratifiedKFold(n_splits=n, shuffle=True, random_state=42) # Add random state for reproducibility\n",
    "folds = skf.split(cluster_df['site_id'], cluster_df['cluster'])\n",
    "\n",
    "site_splits = []\n",
    "split_dict = {}\n",
    "for i, (train_index, test_index) in enumerate(folds):\n",
    "    split_df = cluster_df[['site_id', 'cluster']].iloc[test_index]\n",
    "    sites = list(split_df.site_id.unique())\n",
    "    split_dict[f\"fold_{i+1}\"] = sites\n",
    "    site_splits.append(sites)\n",
    "    print(f\"Fold {i+1}:\")\n",
    "    print(f\"  Count={test_index.shape}\")\n",
    "    print(f\"  Cluster ={np.sort(split_df.cluster.unique())}\")\n",
    "    print(f\"  Sites={sites}\\n\")\n",
    "    unique, counts = np.unique(split_df.cluster, return_counts=True)\n",
    "    for val, count in zip(unique, counts):\n",
    "        print(f'Cluster {val}: {count}')\n",
    "\n",
    "\n",
    "# print all sites\n",
    "print(site_splits)\n",
    "\n",
    "# Add val, test indices to split_dict before saving\n",
    "split_dict['VAL_INDEX'] = 3\n",
    "split_dict['TEST_INDEX'] = 4\n",
    "split_dict['NUM_FOLDS'] = n\n",
    "print(\"\\n\")\n",
    "print(split_dict)"
   ]
  },
  {
   "cell_type": "code",
   "execution_count": 16,
   "metadata": {
    "tags": []
   },
   "outputs": [
    {
     "name": "stdout",
     "output_type": "stream",
     "text": [
      "Path exists, rename to avoid overwriting\n"
     ]
    }
   ],
   "source": [
    "# Save out as dict\n",
    "save_split_path = os.path.join(preproc_objects_dir, 'clustered_stratified_splits_k5.joblib')\n",
    "if not os.path.exists(save_split_path):\n",
    "    print(\"Saving split dict\")\n",
    "    joblib.dump(split_dict, save_split_path)\n",
    "else:\n",
    "    print(\"Path exists, rename to avoid overwriting\")"
   ]
  },
  {
   "cell_type": "code",
   "execution_count": 19,
   "metadata": {
    "tags": []
   },
   "outputs": [
    {
     "name": "stdout",
     "output_type": "stream",
     "text": [
      "\n",
      "Split 1\n",
      "mean    3.35864\n",
      "var    49.99133\n",
      "Name: GPP_NT_VUT_REF, dtype: float64\n",
      "\n",
      "Split 2\n",
      "mean    3.63331\n",
      "var    47.49071\n",
      "Name: GPP_NT_VUT_REF, dtype: float64\n",
      "\n",
      "Split 3\n",
      "mean    3.36472\n",
      "var    44.55653\n",
      "Name: GPP_NT_VUT_REF, dtype: float64\n",
      "\n",
      "Split 4\n",
      "mean    3.18848\n",
      "var    45.79553\n",
      "Name: GPP_NT_VUT_REF, dtype: float64\n",
      "\n",
      "Split 5\n",
      "mean    3.45568\n",
      "var    46.72548\n",
      "Name: GPP_NT_VUT_REF, dtype: float64\n"
     ]
    }
   ],
   "source": [
    "split_dict = joblib.load(save_split_path)\n",
    "\n",
    "for i in range(1, n+1):\n",
    "    print(f\"\\nSplit {i}\")\n",
    "    print(data_df.loc[data_df['site_id'].isin(split_dict[f'fold_{i}']), 'GPP_NT_VUT_REF'].agg(['mean', 'var']))"
   ]
  },
  {
   "cell_type": "code",
   "execution_count": null,
   "metadata": {},
   "outputs": [],
   "source": []
  },
  {
   "cell_type": "markdown",
   "metadata": {
    "tags": []
   },
   "source": [
    "## Stratified Splits V3 (Balance GPP Mean by binning)\n",
    "This approach ignores IGBP. I think V2 is better approach"
   ]
  },
  {
   "cell_type": "code",
   "execution_count": 20,
   "metadata": {},
   "outputs": [
    {
     "name": "stdout",
     "output_type": "stream",
     "text": [
      "available sites: (128, 6)\n"
     ]
    }
   ],
   "source": [
    "# Load Site data\n",
    "site_metadata_df = pd.read_csv(site_metadata_filename, usecols=['site_id', 'IGBP', 'GPP_var', 'GPP_mean', 'GPP_var_bins', 'GPP_mean_bins'])\n",
    "\n",
    "# only focus on target sites\n",
    "site_metadata_df.dropna(inplace=True)\n",
    "available_sites = data_df['site_id'].unique()\n",
    "site_data_df = site_metadata_df.loc[site_metadata_df['site_id'].isin(available_sites)]\n",
    "print(f\"available sites: {site_data_df.shape}\")\n",
    "\n",
    "# Group IGBP\n",
    "site_data_df['gen_IGBP'] = site_data_df['IGBP']\n",
    "site_data_df['gen_IGBP'].replace('WSA', 'SAV', inplace=True)\n",
    "site_data_df['gen_IGBP'].replace('CSH', 'SHB', inplace=True)\n",
    "site_data_df['gen_IGBP'].replace('OSH', 'SHB', inplace=True)\n",
    "site_data_df.drop(site_data_df[site_data_df['gen_IGBP'] == 'WAT'].index, inplace = True)\n",
    "\n",
    "# # Make site_id the index\n",
    "# site_index = site_data_df['site_id'].values\n",
    "# site_data_df.set_index(site_index, inplace=True)"
   ]
  },
  {
   "cell_type": "code",
   "execution_count": 21,
   "metadata": {
    "tags": []
   },
   "outputs": [
    {
     "name": "stdout",
     "output_type": "stream",
     "text": [
      "Fold 1:\n",
      "  Count=(26,)\n",
      "  gen_IGBP =['CRO' 'DBF' 'EBF' 'ENF' 'GRA' 'MF' 'SAV' 'SHB' 'WET']\n",
      "  Sites=['AR-SLu', 'AR-Vir', 'AU-DaP', 'AU-DaS', 'AU-RDF', 'AU-Rig', 'AU-Stp', 'CA-Oas', 'CA-TP3', 'DE-SfN', 'FR-Pue', 'US-GLE', 'US-Me6', 'US-WCr', 'CA-Ca1', 'US-ARM', 'US-Ses', 'US-UMB', 'BE-Lon', 'CZ-Stn', 'DE-HoH', 'ES-LJu', 'FR-Fon', 'IT-Lav', 'RU-Fyo', 'NL-Loo']\n",
      "\n",
      "Fold 2:\n",
      "  Count=(26,)\n",
      "  gen_IGBP =['CRO' 'DBF' 'EBF' 'ENF' 'GRA' 'MF' 'SAV' 'WET']\n",
      "  Sites=['AU-Cum', 'AU-How', 'AU-TTE', 'CA-TPD', 'CZ-BK2', 'IT-CA1', 'IT-CA2', 'US-IB2', 'US-SRM', 'US-WPT', 'CA-Ca2', 'US-AR2', 'US-Fmf', 'US-UMd', 'US-Vcm', 'BE-Vie', 'CH-Cha', 'CH-Fru', 'CH-Lae', 'CZ-RAJ', 'CZ-wet', 'DE-Gri', 'FI-Let', 'IT-BCi', 'IT-Ren', 'SE-Lnn']\n",
      "\n",
      "Fold 3:\n",
      "  Count=(26,)\n",
      "  gen_IGBP =['CRO' 'DBF' 'ENF' 'GRA' 'MF' 'SAV' 'WET']\n",
      "  Sites=['AU-Gin', 'CA-TP1', 'CN-Sw2', 'DE-Spw', 'FI-Sod', 'IT-Ro2', 'IT-SRo', 'US-Myb', 'US-NR1', 'US-Syv', 'US-Wkg', 'CA-Ca3', 'US-CRT', 'US-Oho', 'US-Ro1', 'US-SRG', 'US-Seg', 'US-Tw4', 'BE-Bra', 'BE-Dor', 'CZ-Lnz', 'ES-LM1', 'ES-LM2', 'FI-Hyy', 'IL-Yat', 'IT-SR2']\n",
      "\n",
      "Fold 4:\n",
      "  Count=(25,)\n",
      "  gen_IGBP =['CRO' 'DBF' 'EBF' 'ENF' 'GRA' 'MF' 'SAV' 'SHB' 'WET']\n",
      "  Sites=['AU-ASM', 'AU-Whr', 'ES-Amo', 'IT-Noe', 'US-Twt', 'US-Var', 'CA-Cbo', 'CA-TP4', 'US-AR1', 'US-Mpj', 'US-Rws', 'CH-Oe2', 'DE-Geb', 'DE-Obe', 'DK-Sor', 'FR-Aur', 'FR-FBn', 'FR-Hes', 'FR-Lam', 'GF-Guy', 'IT-MBo', 'IT-Tor', 'SE-Htm', 'SE-Nor', 'DE-Hte']\n",
      "\n",
      "Fold 5:\n",
      "  Count=(25,)\n",
      "  gen_IGBP =['CRO' 'DBF' 'EBF' 'ENF' 'GRA' 'MF' 'SAV' 'SHB' 'WET']\n",
      "  Sites=['AT-Neu', 'AU-Emr', 'AU-Wom', 'DE-Lnf', 'IT-CA3', 'NL-Hor', 'US-Ton', 'US-Whs', 'CA-Gro', 'US-Bar', 'US-Ho1', 'US-KFS', 'US-Prr', 'US-Vcp', 'US-Wjs', 'CH-Dav', 'CZ-BK1', 'CZ-KrP', 'DE-Hai', 'DE-Kli', 'DE-RuR', 'DE-Tha', 'FR-Bil', 'SE-Deg', 'SE-Ros']\n",
      "\n",
      "[['AR-SLu', 'AR-Vir', 'AU-DaP', 'AU-DaS', 'AU-RDF', 'AU-Rig', 'AU-Stp', 'CA-Oas', 'CA-TP3', 'DE-SfN', 'FR-Pue', 'US-GLE', 'US-Me6', 'US-WCr', 'CA-Ca1', 'US-ARM', 'US-Ses', 'US-UMB', 'BE-Lon', 'CZ-Stn', 'DE-HoH', 'ES-LJu', 'FR-Fon', 'IT-Lav', 'RU-Fyo', 'NL-Loo'], ['AU-Cum', 'AU-How', 'AU-TTE', 'CA-TPD', 'CZ-BK2', 'IT-CA1', 'IT-CA2', 'US-IB2', 'US-SRM', 'US-WPT', 'CA-Ca2', 'US-AR2', 'US-Fmf', 'US-UMd', 'US-Vcm', 'BE-Vie', 'CH-Cha', 'CH-Fru', 'CH-Lae', 'CZ-RAJ', 'CZ-wet', 'DE-Gri', 'FI-Let', 'IT-BCi', 'IT-Ren', 'SE-Lnn'], ['AU-Gin', 'CA-TP1', 'CN-Sw2', 'DE-Spw', 'FI-Sod', 'IT-Ro2', 'IT-SRo', 'US-Myb', 'US-NR1', 'US-Syv', 'US-Wkg', 'CA-Ca3', 'US-CRT', 'US-Oho', 'US-Ro1', 'US-SRG', 'US-Seg', 'US-Tw4', 'BE-Bra', 'BE-Dor', 'CZ-Lnz', 'ES-LM1', 'ES-LM2', 'FI-Hyy', 'IL-Yat', 'IT-SR2'], ['AU-ASM', 'AU-Whr', 'ES-Amo', 'IT-Noe', 'US-Twt', 'US-Var', 'CA-Cbo', 'CA-TP4', 'US-AR1', 'US-Mpj', 'US-Rws', 'CH-Oe2', 'DE-Geb', 'DE-Obe', 'DK-Sor', 'FR-Aur', 'FR-FBn', 'FR-Hes', 'FR-Lam', 'GF-Guy', 'IT-MBo', 'IT-Tor', 'SE-Htm', 'SE-Nor', 'DE-Hte'], ['AT-Neu', 'AU-Emr', 'AU-Wom', 'DE-Lnf', 'IT-CA3', 'NL-Hor', 'US-Ton', 'US-Whs', 'CA-Gro', 'US-Bar', 'US-Ho1', 'US-KFS', 'US-Prr', 'US-Vcp', 'US-Wjs', 'CH-Dav', 'CZ-BK1', 'CZ-KrP', 'DE-Hai', 'DE-Kli', 'DE-RuR', 'DE-Tha', 'FR-Bil', 'SE-Deg', 'SE-Ros']]\n",
      "\n",
      "\n",
      "{'fold_1': ['AR-SLu', 'AR-Vir', 'AU-DaP', 'AU-DaS', 'AU-RDF', 'AU-Rig', 'AU-Stp', 'CA-Oas', 'CA-TP3', 'DE-SfN', 'FR-Pue', 'US-GLE', 'US-Me6', 'US-WCr', 'CA-Ca1', 'US-ARM', 'US-Ses', 'US-UMB', 'BE-Lon', 'CZ-Stn', 'DE-HoH', 'ES-LJu', 'FR-Fon', 'IT-Lav', 'RU-Fyo', 'NL-Loo'], 'fold_2': ['AU-Cum', 'AU-How', 'AU-TTE', 'CA-TPD', 'CZ-BK2', 'IT-CA1', 'IT-CA2', 'US-IB2', 'US-SRM', 'US-WPT', 'CA-Ca2', 'US-AR2', 'US-Fmf', 'US-UMd', 'US-Vcm', 'BE-Vie', 'CH-Cha', 'CH-Fru', 'CH-Lae', 'CZ-RAJ', 'CZ-wet', 'DE-Gri', 'FI-Let', 'IT-BCi', 'IT-Ren', 'SE-Lnn'], 'fold_3': ['AU-Gin', 'CA-TP1', 'CN-Sw2', 'DE-Spw', 'FI-Sod', 'IT-Ro2', 'IT-SRo', 'US-Myb', 'US-NR1', 'US-Syv', 'US-Wkg', 'CA-Ca3', 'US-CRT', 'US-Oho', 'US-Ro1', 'US-SRG', 'US-Seg', 'US-Tw4', 'BE-Bra', 'BE-Dor', 'CZ-Lnz', 'ES-LM1', 'ES-LM2', 'FI-Hyy', 'IL-Yat', 'IT-SR2'], 'fold_4': ['AU-ASM', 'AU-Whr', 'ES-Amo', 'IT-Noe', 'US-Twt', 'US-Var', 'CA-Cbo', 'CA-TP4', 'US-AR1', 'US-Mpj', 'US-Rws', 'CH-Oe2', 'DE-Geb', 'DE-Obe', 'DK-Sor', 'FR-Aur', 'FR-FBn', 'FR-Hes', 'FR-Lam', 'GF-Guy', 'IT-MBo', 'IT-Tor', 'SE-Htm', 'SE-Nor', 'DE-Hte'], 'fold_5': ['AT-Neu', 'AU-Emr', 'AU-Wom', 'DE-Lnf', 'IT-CA3', 'NL-Hor', 'US-Ton', 'US-Whs', 'CA-Gro', 'US-Bar', 'US-Ho1', 'US-KFS', 'US-Prr', 'US-Vcp', 'US-Wjs', 'CH-Dav', 'CZ-BK1', 'CZ-KrP', 'DE-Hai', 'DE-Kli', 'DE-RuR', 'DE-Tha', 'FR-Bil', 'SE-Deg', 'SE-Ros'], 'VAL_INDEX': 3, 'TEST_INDEX': 4, 'NUM_FOLDS': 5}\n"
     ]
    }
   ],
   "source": [
    "# Conduct k-fold splitting\n",
    "n = 5\n",
    "skf = StratifiedKFold(n_splits=n, shuffle=True, random_state=42) # Add random state for reproducibility\n",
    "folds = skf.split(site_data_df['site_id'], site_data_df['GPP_mean_bins'])\n",
    "\n",
    "site_splits = []\n",
    "split_dict = {}\n",
    "for i, (train_index, test_index) in enumerate(folds):\n",
    "    split_df = site_data_df[['site_id', 'GPP_mean_bins', 'gen_IGBP']].iloc[test_index]\n",
    "    sites = list(split_df.site_id.unique())\n",
    "    split_dict[f\"fold_{i+1}\"] = sites\n",
    "    site_splits.append(sites)\n",
    "    print(f\"Fold {i+1}:\")\n",
    "    print(f\"  Count={test_index.shape}\")\n",
    "    print(f\"  gen_IGBP ={np.sort(split_df.gen_IGBP.unique())}\")\n",
    "    print(f\"  Sites={sites}\\n\")\n",
    "\n",
    "\n",
    "# print all sites\n",
    "print(site_splits)\n",
    "\n",
    "# Add val, test indices to split_dict before saving\n",
    "split_dict['VAL_INDEX'] = 3\n",
    "split_dict['TEST_INDEX'] = 4\n",
    "split_dict['NUM_FOLDS'] = n\n",
    "print(\"\\n\")\n",
    "print(split_dict)"
   ]
  },
  {
   "cell_type": "code",
   "execution_count": 22,
   "metadata": {
    "tags": []
   },
   "outputs": [
    {
     "name": "stdout",
     "output_type": "stream",
     "text": [
      "\n",
      "Split 1\n",
      "mean    3.33880\n",
      "var    45.20372\n",
      "Name: GPP_NT_VUT_REF, dtype: float64\n",
      "\n",
      "Split 2\n",
      "mean    3.81129\n",
      "var    54.71842\n",
      "Name: GPP_NT_VUT_REF, dtype: float64\n",
      "\n",
      "Split 3\n",
      "mean    3.11827\n",
      "var    42.16004\n",
      "Name: GPP_NT_VUT_REF, dtype: float64\n",
      "\n",
      "Split 4\n",
      "mean    3.59823\n",
      "var    51.18516\n",
      "Name: GPP_NT_VUT_REF, dtype: float64\n",
      "\n",
      "Split 5\n",
      "mean    3.13887\n",
      "var    40.28240\n",
      "Name: GPP_NT_VUT_REF, dtype: float64\n"
     ]
    }
   ],
   "source": [
    "for i in range(1, n+1):\n",
    "    print(f\"\\nSplit {i}\")\n",
    "    print(data_df.loc[data_df['site_id'].isin(split_dict[f'fold_{i}']), 'GPP_NT_VUT_REF'].agg(['mean', 'var']))"
   ]
  },
  {
   "cell_type": "code",
   "execution_count": null,
   "metadata": {},
   "outputs": [],
   "source": []
  }
 ],
 "metadata": {
  "availableInstances": [
   {
    "_defaultOrder": 0,
    "_isFastLaunch": true,
    "category": "General purpose",
    "gpuNum": 0,
    "memoryGiB": 4,
    "name": "ml.t3.medium",
    "vcpuNum": 2
   },
   {
    "_defaultOrder": 1,
    "_isFastLaunch": false,
    "category": "General purpose",
    "gpuNum": 0,
    "memoryGiB": 8,
    "name": "ml.t3.large",
    "vcpuNum": 2
   },
   {
    "_defaultOrder": 2,
    "_isFastLaunch": false,
    "category": "General purpose",
    "gpuNum": 0,
    "memoryGiB": 16,
    "name": "ml.t3.xlarge",
    "vcpuNum": 4
   },
   {
    "_defaultOrder": 3,
    "_isFastLaunch": false,
    "category": "General purpose",
    "gpuNum": 0,
    "memoryGiB": 32,
    "name": "ml.t3.2xlarge",
    "vcpuNum": 8
   },
   {
    "_defaultOrder": 4,
    "_isFastLaunch": true,
    "category": "General purpose",
    "gpuNum": 0,
    "memoryGiB": 8,
    "name": "ml.m5.large",
    "vcpuNum": 2
   },
   {
    "_defaultOrder": 5,
    "_isFastLaunch": false,
    "category": "General purpose",
    "gpuNum": 0,
    "memoryGiB": 16,
    "name": "ml.m5.xlarge",
    "vcpuNum": 4
   },
   {
    "_defaultOrder": 6,
    "_isFastLaunch": false,
    "category": "General purpose",
    "gpuNum": 0,
    "memoryGiB": 32,
    "name": "ml.m5.2xlarge",
    "vcpuNum": 8
   },
   {
    "_defaultOrder": 7,
    "_isFastLaunch": false,
    "category": "General purpose",
    "gpuNum": 0,
    "memoryGiB": 64,
    "name": "ml.m5.4xlarge",
    "vcpuNum": 16
   },
   {
    "_defaultOrder": 8,
    "_isFastLaunch": false,
    "category": "General purpose",
    "gpuNum": 0,
    "memoryGiB": 128,
    "name": "ml.m5.8xlarge",
    "vcpuNum": 32
   },
   {
    "_defaultOrder": 9,
    "_isFastLaunch": false,
    "category": "General purpose",
    "gpuNum": 0,
    "memoryGiB": 192,
    "name": "ml.m5.12xlarge",
    "vcpuNum": 48
   },
   {
    "_defaultOrder": 10,
    "_isFastLaunch": false,
    "category": "General purpose",
    "gpuNum": 0,
    "memoryGiB": 256,
    "name": "ml.m5.16xlarge",
    "vcpuNum": 64
   },
   {
    "_defaultOrder": 11,
    "_isFastLaunch": false,
    "category": "General purpose",
    "gpuNum": 0,
    "memoryGiB": 384,
    "name": "ml.m5.24xlarge",
    "vcpuNum": 96
   },
   {
    "_defaultOrder": 12,
    "_isFastLaunch": false,
    "category": "General purpose",
    "gpuNum": 0,
    "memoryGiB": 8,
    "name": "ml.m5d.large",
    "vcpuNum": 2
   },
   {
    "_defaultOrder": 13,
    "_isFastLaunch": false,
    "category": "General purpose",
    "gpuNum": 0,
    "memoryGiB": 16,
    "name": "ml.m5d.xlarge",
    "vcpuNum": 4
   },
   {
    "_defaultOrder": 14,
    "_isFastLaunch": false,
    "category": "General purpose",
    "gpuNum": 0,
    "memoryGiB": 32,
    "name": "ml.m5d.2xlarge",
    "vcpuNum": 8
   },
   {
    "_defaultOrder": 15,
    "_isFastLaunch": false,
    "category": "General purpose",
    "gpuNum": 0,
    "memoryGiB": 64,
    "name": "ml.m5d.4xlarge",
    "vcpuNum": 16
   },
   {
    "_defaultOrder": 16,
    "_isFastLaunch": false,
    "category": "General purpose",
    "gpuNum": 0,
    "memoryGiB": 128,
    "name": "ml.m5d.8xlarge",
    "vcpuNum": 32
   },
   {
    "_defaultOrder": 17,
    "_isFastLaunch": false,
    "category": "General purpose",
    "gpuNum": 0,
    "memoryGiB": 192,
    "name": "ml.m5d.12xlarge",
    "vcpuNum": 48
   },
   {
    "_defaultOrder": 18,
    "_isFastLaunch": false,
    "category": "General purpose",
    "gpuNum": 0,
    "memoryGiB": 256,
    "name": "ml.m5d.16xlarge",
    "vcpuNum": 64
   },
   {
    "_defaultOrder": 19,
    "_isFastLaunch": false,
    "category": "General purpose",
    "gpuNum": 0,
    "memoryGiB": 384,
    "name": "ml.m5d.24xlarge",
    "vcpuNum": 96
   },
   {
    "_defaultOrder": 20,
    "_isFastLaunch": true,
    "category": "Compute optimized",
    "gpuNum": 0,
    "memoryGiB": 4,
    "name": "ml.c5.large",
    "vcpuNum": 2
   },
   {
    "_defaultOrder": 21,
    "_isFastLaunch": false,
    "category": "Compute optimized",
    "gpuNum": 0,
    "memoryGiB": 8,
    "name": "ml.c5.xlarge",
    "vcpuNum": 4
   },
   {
    "_defaultOrder": 22,
    "_isFastLaunch": false,
    "category": "Compute optimized",
    "gpuNum": 0,
    "memoryGiB": 16,
    "name": "ml.c5.2xlarge",
    "vcpuNum": 8
   },
   {
    "_defaultOrder": 23,
    "_isFastLaunch": false,
    "category": "Compute optimized",
    "gpuNum": 0,
    "memoryGiB": 32,
    "name": "ml.c5.4xlarge",
    "vcpuNum": 16
   },
   {
    "_defaultOrder": 24,
    "_isFastLaunch": false,
    "category": "Compute optimized",
    "gpuNum": 0,
    "memoryGiB": 72,
    "name": "ml.c5.9xlarge",
    "vcpuNum": 36
   },
   {
    "_defaultOrder": 25,
    "_isFastLaunch": false,
    "category": "Compute optimized",
    "gpuNum": 0,
    "memoryGiB": 96,
    "name": "ml.c5.12xlarge",
    "vcpuNum": 48
   },
   {
    "_defaultOrder": 26,
    "_isFastLaunch": false,
    "category": "Compute optimized",
    "gpuNum": 0,
    "memoryGiB": 144,
    "name": "ml.c5.18xlarge",
    "vcpuNum": 72
   },
   {
    "_defaultOrder": 27,
    "_isFastLaunch": false,
    "category": "Compute optimized",
    "gpuNum": 0,
    "memoryGiB": 192,
    "name": "ml.c5.24xlarge",
    "vcpuNum": 96
   },
   {
    "_defaultOrder": 28,
    "_isFastLaunch": true,
    "category": "Accelerated computing",
    "gpuNum": 1,
    "memoryGiB": 16,
    "name": "ml.g4dn.xlarge",
    "vcpuNum": 4
   },
   {
    "_defaultOrder": 29,
    "_isFastLaunch": false,
    "category": "Accelerated computing",
    "gpuNum": 1,
    "memoryGiB": 32,
    "name": "ml.g4dn.2xlarge",
    "vcpuNum": 8
   },
   {
    "_defaultOrder": 30,
    "_isFastLaunch": false,
    "category": "Accelerated computing",
    "gpuNum": 1,
    "memoryGiB": 64,
    "name": "ml.g4dn.4xlarge",
    "vcpuNum": 16
   },
   {
    "_defaultOrder": 31,
    "_isFastLaunch": false,
    "category": "Accelerated computing",
    "gpuNum": 1,
    "memoryGiB": 128,
    "name": "ml.g4dn.8xlarge",
    "vcpuNum": 32
   },
   {
    "_defaultOrder": 32,
    "_isFastLaunch": false,
    "category": "Accelerated computing",
    "gpuNum": 4,
    "memoryGiB": 192,
    "name": "ml.g4dn.12xlarge",
    "vcpuNum": 48
   },
   {
    "_defaultOrder": 33,
    "_isFastLaunch": false,
    "category": "Accelerated computing",
    "gpuNum": 1,
    "memoryGiB": 256,
    "name": "ml.g4dn.16xlarge",
    "vcpuNum": 64
   },
   {
    "_defaultOrder": 34,
    "_isFastLaunch": false,
    "category": "Accelerated computing",
    "gpuNum": 1,
    "memoryGiB": 61,
    "name": "ml.p3.2xlarge",
    "vcpuNum": 8
   },
   {
    "_defaultOrder": 35,
    "_isFastLaunch": false,
    "category": "Accelerated computing",
    "gpuNum": 4,
    "memoryGiB": 244,
    "name": "ml.p3.8xlarge",
    "vcpuNum": 32
   },
   {
    "_defaultOrder": 36,
    "_isFastLaunch": false,
    "category": "Accelerated computing",
    "gpuNum": 8,
    "memoryGiB": 488,
    "name": "ml.p3.16xlarge",
    "vcpuNum": 64
   },
   {
    "_defaultOrder": 37,
    "_isFastLaunch": false,
    "category": "Accelerated computing",
    "gpuNum": 8,
    "memoryGiB": 768,
    "name": "ml.p3dn.24xlarge",
    "vcpuNum": 96
   },
   {
    "_defaultOrder": 38,
    "_isFastLaunch": false,
    "category": "Memory Optimized",
    "gpuNum": 0,
    "memoryGiB": 16,
    "name": "ml.r5.large",
    "vcpuNum": 2
   },
   {
    "_defaultOrder": 39,
    "_isFastLaunch": false,
    "category": "Memory Optimized",
    "gpuNum": 0,
    "memoryGiB": 32,
    "name": "ml.r5.xlarge",
    "vcpuNum": 4
   },
   {
    "_defaultOrder": 40,
    "_isFastLaunch": false,
    "category": "Memory Optimized",
    "gpuNum": 0,
    "memoryGiB": 64,
    "name": "ml.r5.2xlarge",
    "vcpuNum": 8
   },
   {
    "_defaultOrder": 41,
    "_isFastLaunch": false,
    "category": "Memory Optimized",
    "gpuNum": 0,
    "memoryGiB": 128,
    "name": "ml.r5.4xlarge",
    "vcpuNum": 16
   },
   {
    "_defaultOrder": 42,
    "_isFastLaunch": false,
    "category": "Memory Optimized",
    "gpuNum": 0,
    "memoryGiB": 256,
    "name": "ml.r5.8xlarge",
    "vcpuNum": 32
   },
   {
    "_defaultOrder": 43,
    "_isFastLaunch": false,
    "category": "Memory Optimized",
    "gpuNum": 0,
    "memoryGiB": 384,
    "name": "ml.r5.12xlarge",
    "vcpuNum": 48
   },
   {
    "_defaultOrder": 44,
    "_isFastLaunch": false,
    "category": "Memory Optimized",
    "gpuNum": 0,
    "memoryGiB": 512,
    "name": "ml.r5.16xlarge",
    "vcpuNum": 64
   },
   {
    "_defaultOrder": 45,
    "_isFastLaunch": false,
    "category": "Memory Optimized",
    "gpuNum": 0,
    "memoryGiB": 768,
    "name": "ml.r5.24xlarge",
    "vcpuNum": 96
   },
   {
    "_defaultOrder": 46,
    "_isFastLaunch": false,
    "category": "Accelerated computing",
    "gpuNum": 1,
    "memoryGiB": 16,
    "name": "ml.g5.xlarge",
    "vcpuNum": 4
   },
   {
    "_defaultOrder": 47,
    "_isFastLaunch": false,
    "category": "Accelerated computing",
    "gpuNum": 1,
    "memoryGiB": 32,
    "name": "ml.g5.2xlarge",
    "vcpuNum": 8
   },
   {
    "_defaultOrder": 48,
    "_isFastLaunch": false,
    "category": "Accelerated computing",
    "gpuNum": 1,
    "memoryGiB": 64,
    "name": "ml.g5.4xlarge",
    "vcpuNum": 16
   },
   {
    "_defaultOrder": 49,
    "_isFastLaunch": false,
    "category": "Accelerated computing",
    "gpuNum": 1,
    "memoryGiB": 128,
    "name": "ml.g5.8xlarge",
    "vcpuNum": 32
   },
   {
    "_defaultOrder": 50,
    "_isFastLaunch": false,
    "category": "Accelerated computing",
    "gpuNum": 1,
    "memoryGiB": 256,
    "name": "ml.g5.16xlarge",
    "vcpuNum": 64
   },
   {
    "_defaultOrder": 51,
    "_isFastLaunch": false,
    "category": "Accelerated computing",
    "gpuNum": 4,
    "memoryGiB": 192,
    "name": "ml.g5.12xlarge",
    "vcpuNum": 48
   },
   {
    "_defaultOrder": 52,
    "_isFastLaunch": false,
    "category": "Accelerated computing",
    "gpuNum": 4,
    "memoryGiB": 384,
    "name": "ml.g5.24xlarge",
    "vcpuNum": 96
   },
   {
    "_defaultOrder": 53,
    "_isFastLaunch": false,
    "category": "Accelerated computing",
    "gpuNum": 8,
    "memoryGiB": 768,
    "name": "ml.g5.48xlarge",
    "vcpuNum": 192
   }
  ],
  "instance_type": "ml.m5.8xlarge",
  "kernelspec": {
   "display_name": "Python [conda env:py310] (arn:aws:sagemaker:us-east-1:081325390199:image/datascience-1.0)",
   "language": "python",
   "name": "conda-env-py310-py__SAGEMAKER_INTERNAL__arn:aws:sagemaker:us-east-1:081325390199:image/datascience-1.0"
  },
  "language_info": {
   "codemirror_mode": {
    "name": "ipython",
    "version": 3
   },
   "file_extension": ".py",
   "mimetype": "text/x-python",
   "name": "python",
   "nbconvert_exporter": "python",
   "pygments_lexer": "ipython3",
   "version": "3.10.9"
  }
 },
 "nbformat": 4,
 "nbformat_minor": 4
}
