{
 "cells": [
  {
   "cell_type": "markdown",
   "id": "OA1ZkEPP3zLz",
   "metadata": {
    "id": "OA1ZkEPP3zLz"
   },
   "source": [
    "# Notebook Setup"
   ]
  },
  {
   "cell_type": "code",
   "execution_count": 1,
   "id": "f6c9a282",
   "metadata": {
    "tags": []
   },
   "outputs": [],
   "source": [
    "#TODO: CHANGE THIS BASED ON YOUR OWN LOCAL SETTINGS\n",
    "#MY_HOME_ABS_PATH = \"/Users/jetcalz07/Desktop/MIDS/W210_Capstone/co2-flux-hourly-gpp-modeling\"\n",
    "MY_HOME_ABS_PATH = \"/root/co2-flux-hourly-gpp-modeling\""
   ]
  },
  {
   "cell_type": "code",
   "execution_count": 3,
   "id": "ko8n8_z9pkBE",
   "metadata": {
    "colab": {
     "base_uri": "https://localhost:8080/"
    },
    "executionInfo": {
     "elapsed": 20193,
     "status": "ok",
     "timestamp": 1678533146889,
     "user": {
      "displayName": "Mary Chau",
      "userId": "14027067063095206122"
     },
     "user_tz": 480
    },
    "id": "ko8n8_z9pkBE",
    "outputId": "3283f521-a15c-4178-a58f-b88c96cf9ee9",
    "tags": []
   },
   "outputs": [],
   "source": [
    "if 'google.colab' in str(get_ipython()):\n",
    "  IN_COLLAB = True\n",
    "  from google.colab import drive\n",
    "  drive.mount('/content/drive/')\n",
    "else:\n",
    "  IN_COLLAB = False"
   ]
  },
  {
   "cell_type": "markdown",
   "id": "WQOpIAzZ32Ek",
   "metadata": {
    "id": "WQOpIAzZ32Ek"
   },
   "source": [
    "## Import Modules"
   ]
  },
  {
   "cell_type": "code",
   "execution_count": 4,
   "id": "be2d4d6a",
   "metadata": {
    "colab": {
     "base_uri": "https://localhost:8080/"
    },
    "executionInfo": {
     "elapsed": 10058,
     "status": "ok",
     "timestamp": 1678533156939,
     "user": {
      "displayName": "Mary Chau",
      "userId": "14027067063095206122"
     },
     "user_tz": 480
    },
    "id": "be2d4d6a",
    "outputId": "ead312f6-6d4d-4499-9777-700dcaa9b38c",
    "tags": []
   },
   "outputs": [
    {
     "name": "stderr",
     "output_type": "stream",
     "text": [
      "2023-04-02 22:58:32.196286: I tensorflow/tsl/cuda/cudart_stub.cc:28] Could not find cuda drivers on your machine, GPU will not be used.\n",
      "2023-04-02 22:58:32.243852: I tensorflow/tsl/cuda/cudart_stub.cc:28] Could not find cuda drivers on your machine, GPU will not be used.\n",
      "2023-04-02 22:58:32.244937: I tensorflow/core/platform/cpu_feature_guard.cc:182] This TensorFlow binary is optimized to use available CPU instructions in performance-critical operations.\n",
      "To enable the following instructions: AVX2 AVX512F FMA, in other operations, rebuild TensorFlow with the appropriate compiler flags.\n",
      "2023-04-02 22:58:33.050372: W tensorflow/compiler/tf2tensorrt/utils/py_utils.cc:38] TF-TRT Warning: Could not find TensorRT\n",
      "Global seed set to 42\n"
     ]
    }
   ],
   "source": [
    "import os\n",
    "os.environ[\"PYARROW_IGNORE_TIMEZONE\"] = \"1\"\n",
    "import pandas as pd\n",
    "import numpy as np\n",
    "import sys\n",
    "import joblib\n",
    "from io import BytesIO\n",
    "from sklearn.model_selection import StratifiedKFold\n",
    "\n",
    "# Load locale custome modules\n",
    "os.chdir(MY_HOME_ABS_PATH)\n",
    "if IN_COLLAB:\n",
    "    sys.path.insert(0,os.path.abspath(\"./code/src/tools\"))\n",
    "else:\n",
    "    sys.path.append(os.path.abspath(\"./code/src/tools\"))\n",
    "\n",
    "from CloudIO.AzStorageClient import AzStorageClient\n",
    "from data_pipeline_lib import *\n",
    "from model_pipeline_lib import *\n",
    "\n",
    "pd.set_option('display.max_columns', None)\n",
    "pd.set_option('display.float_format', lambda x: '%.5f' % x)"
   ]
  },
  {
   "cell_type": "markdown",
   "id": "O4RveeAZ3qm8",
   "metadata": {
    "id": "O4RveeAZ3qm8"
   },
   "source": [
    "# Load Raw TFT Set"
   ]
  },
  {
   "cell_type": "code",
   "execution_count": 6,
   "id": "d131cb8e-917c-475d-bc8e-43775b6fb879",
   "metadata": {
    "tags": []
   },
   "outputs": [
    {
     "name": "stdout",
     "output_type": "stream",
     "text": [
      "Data size: (4862712, 51)\n",
      "Data Columns: Index(['GPP_NT_VUT_REF', 'site_id', 'timestep_idx_local',\n",
      "       'timestep_idx_global', 'datetime', 'date', 'year', 'month', 'day',\n",
      "       'hour', 'TA_ERA', 'SW_IN_ERA', 'LW_IN_ERA', 'VPD_ERA', 'P_ERA',\n",
      "       'PA_ERA', 'EVI', 'NDVI', 'NIRv', 'b1', 'b2', 'b3', 'b4', 'b5', 'b6',\n",
      "       'b7', 'IGBP', 'lat', 'long', 'koppen_sub', 'koppen_main', 'c3c4',\n",
      "       'c4_percent', 'BESS-PAR', 'BESS-PARdiff', 'BESS-RSDN', 'CSIF-SIFdaily',\n",
      "       'PET', 'Ts', 'ESACCI-sm', 'MODIS_LC', 'NDWI', 'Percent_Snow', 'Fpar',\n",
      "       'Lai', 'LST_Day', 'LST_Night', 'MODIS_IGBP', 'MODIS_PFT',\n",
      "       'gap_flag_hour', 'gap_flag_month'],\n",
      "      dtype='object')\n",
      "NA count: 0\n"
     ]
    }
   ],
   "source": [
    "root_dir =  MY_HOME_ABS_PATH\n",
    "tmp_dir =  root_dir + os.sep + '.tmp'\n",
    "model_dir = root_dir + os.sep + 'data' + os.sep + 'models'\n",
    "cred_dir = root_dir + os.sep + '.cred'\n",
    "az_cred_file = cred_dir + os.sep + 'azblobcred.json'\n",
    "preproc_objects_dir = root_dir + os.sep + 'code' + os.sep + 'src' + os.sep + 'preprocessing' + os.sep + 'preproc_objects'\n",
    "\n",
    "# file names\n",
    "split_dict_filename = preproc_objects_dir + os.sep + \"stratified_splits_k5.joblib\"\n",
    "model = \"tft\"\n",
    "ext = 'parquet'\n",
    "ver = 'global-scaler'\n",
    "train_blob_name = f\"{model}-full_2010_2015-train-v-{ver}.{ext}\"\n",
    "val_blob_name = f\"{model}-full_2010_2015-val-v-{ver}.{ext}\"\n",
    "test_blob_name = f\"{model}-full_2010_2015-test-v-{ver}.{ext}\"\n",
    "\n",
    "# Download full data\n",
    "container = \"all-sites-data\"\n",
    "blob_name = \"full_2010_2015_v_mvp_raw.parquet\"\n",
    "local_file = tmp_dir + os.sep + blob_name\n",
    "\n",
    "data_df = get_raw_datasets(container, blob_name)"
   ]
  },
  {
   "cell_type": "markdown",
   "id": "sye3PgjxW5t6",
   "metadata": {
    "id": "sye3PgjxW5t6"
   },
   "source": [
    "## Load Train/Val/Test Split"
   ]
  },
  {
   "cell_type": "code",
   "execution_count": 7,
   "id": "137ea851",
   "metadata": {
    "tags": []
   },
   "outputs": [
    {
     "name": "stdout",
     "output_type": "stream",
     "text": [
      "# train/val/test sites: 78/26/25\n",
      "% train/val/test sites: 0.605/0.202/0.194\n"
     ]
    }
   ],
   "source": [
    "# Load split dict from preprocessing/stratified-splits.ipynb\n",
    "split_dict = joblib.load(split_dict_filename)\n",
    "\n",
    "# Assign folds to train-val-test splits (for MVP)\n",
    "train_folds = [x for x in range(1, split_dict['NUM_FOLDS']+1) if (x != split_dict['VAL_INDEX']) & (x != split_dict['TEST_INDEX'])]\n",
    "train_sites = [z for x in train_folds for z in split_dict[f\"fold_{x}\"] ]\n",
    "val_sites = split_dict[f\"fold_{split_dict['VAL_INDEX']}\"]\n",
    "test_sites = split_dict[f\"fold_{split_dict['TEST_INDEX']}\"]\n",
    "\n",
    "total_sites = len(train_sites) + len(val_sites) + len(test_sites)\n",
    "print(f\"# train/val/test sites: {len(train_sites)}/{len(val_sites)}/{len(test_sites)}\")\n",
    "print(f\"% train/val/test sites: {len(train_sites)/total_sites:.3f}/{len(val_sites)/total_sites:.3f}/{len(test_sites)/total_sites:.3f}\")"
   ]
  },
  {
   "cell_type": "markdown",
   "id": "4c6b7616",
   "metadata": {},
   "source": [
    "## Data Transformation"
   ]
  },
  {
   "cell_type": "code",
   "execution_count": 8,
   "id": "e06ee39d",
   "metadata": {
    "tags": []
   },
   "outputs": [
    {
     "name": "stdout",
     "output_type": "stream",
     "text": [
      "Data size: (4862712, 50).\n"
     ]
    }
   ],
   "source": [
    "raw_data_file_path = None\n",
    "model_name = 'tft-global-scaler'\n",
    "data_transformer = TFTDataTransformer(train_sites, val_sites, test_sites, model_name, raw_data_file_path, data_df, preproc_objects_dir)"
   ]
  },
  {
   "cell_type": "code",
   "execution_count": 9,
   "id": "f250a597",
   "metadata": {
    "tags": []
   },
   "outputs": [
    {
     "name": "stdout",
     "output_type": "stream",
     "text": [
      "Data size: (4862712, 50).\n",
      "Data size after encoding: (4862712, 50)\n",
      "Number of sites in df: 129\n",
      "Train Sites: ['AR-SLu' 'AR-Vir' 'AT-Neu' 'AU-ASM' 'AU-Cpr' 'AU-Cum' 'AU-DaS' 'AU-RDF'\n",
      " 'AU-TTE' 'AU-Wom' 'BE-Bra' 'BE-Dor' 'BE-Lon' 'BE-Vie' 'CA-Ca2' 'CA-Ca3'\n",
      " 'CA-Cbo' 'CA-TP1' 'CA-TP3' 'CA-TP4' 'CA-TPD' 'CH-Cha' 'CH-Lae' 'CN-Sw2'\n",
      " 'CZ-BK1' 'CZ-BK2' 'CZ-KrP' 'CZ-RAJ' 'CZ-Stn' 'DE-Geb' 'DE-HoH' 'DE-Hte'\n",
      " 'DE-Kli' 'DE-Obe' 'DE-RuR' 'DE-SfN' 'DE-Spw' 'ES-LJu' 'ES-LM2' 'FI-Let'\n",
      " 'FR-Fon' 'FR-Lam' 'FR-Pue' 'IL-Yat' 'IT-CA1' 'IT-CA3' 'IT-Lav' 'IT-Noe'\n",
      " 'IT-Ro2' 'IT-SRo' 'IT-Tor' 'NL-Hor' 'SE-Htm' 'SE-Lnn' 'SE-Ros' 'US-AR2'\n",
      " 'US-ARM' 'US-CRT' 'US-Fmf' 'US-IB2' 'US-KFS' 'US-Me6' 'US-Myb' 'US-Prr'\n",
      " 'US-Ro1' 'US-Rws' 'US-SRG' 'US-SRM' 'US-Syv' 'US-Tw4' 'US-UMB' 'US-UMd'\n",
      " 'US-Vcm' 'US-Vcp' 'US-WCr' 'US-WPT' 'US-Wjs' 'US-Wkg']\n",
      "Val Sites: ['AU-DaP' 'AU-Emr' 'AU-Gin' 'AU-How' 'AU-Rig' 'CA-Ca1' 'CA-Gro' 'CH-Fru'\n",
      " 'CH-Oe2' 'DE-Hai' 'DK-Sor' 'FI-Hyy' 'FR-Aur' 'FR-Hes' 'GF-Guy' 'IT-SR2'\n",
      " 'NL-Loo' 'SE-Deg' 'SE-Nor' 'US-AR1' 'US-Bar' 'US-GLE' 'US-Mpj' 'US-NR1'\n",
      " 'US-Ses' 'US-Twt']\n",
      "Test Sites: ['AU-Stp' 'AU-Whr' 'CA-Oas' 'CH-Dav' 'CZ-Lnz' 'CZ-wet' 'DE-Gri' 'DE-Lnf'\n",
      " 'DE-Tha' 'ES-Amo' 'ES-LM1' 'FI-Sod' 'FR-Bil' 'FR-FBn' 'IT-BCi' 'IT-CA2'\n",
      " 'IT-MBo' 'IT-Ren' 'RU-Fyo' 'US-Ho1' 'US-Oho' 'US-Seg' 'US-Ton' 'US-Var'\n",
      " 'US-Whs']\n",
      "Normalizing real features (30)\n",
      "Train data size: (2824272, 50).\n",
      "Val data size: (1056072, 50).\n",
      "Test data size: (982368, 50).\n",
      "\n",
      "Train data peak:\n"
     ]
    },
    {
     "data": {
      "text/html": [
       "<div>\n",
       "<style scoped>\n",
       "    .dataframe tbody tr th:only-of-type {\n",
       "        vertical-align: middle;\n",
       "    }\n",
       "\n",
       "    .dataframe tbody tr th {\n",
       "        vertical-align: top;\n",
       "    }\n",
       "\n",
       "    .dataframe thead th {\n",
       "        text-align: right;\n",
       "    }\n",
       "</style>\n",
       "<table border=\"1\" class=\"dataframe\">\n",
       "  <thead>\n",
       "    <tr style=\"text-align: right;\">\n",
       "      <th></th>\n",
       "      <th>GPP_NT_VUT_REF</th>\n",
       "      <th>site_id</th>\n",
       "      <th>timestep_idx_local</th>\n",
       "      <th>timestep_idx_global</th>\n",
       "      <th>datetime</th>\n",
       "      <th>year</th>\n",
       "      <th>month</th>\n",
       "      <th>day</th>\n",
       "      <th>hour</th>\n",
       "      <th>TA_ERA</th>\n",
       "      <th>SW_IN_ERA</th>\n",
       "      <th>LW_IN_ERA</th>\n",
       "      <th>VPD_ERA</th>\n",
       "      <th>P_ERA</th>\n",
       "      <th>PA_ERA</th>\n",
       "      <th>EVI</th>\n",
       "      <th>NDVI</th>\n",
       "      <th>NIRv</th>\n",
       "      <th>b1</th>\n",
       "      <th>b2</th>\n",
       "      <th>b3</th>\n",
       "      <th>b4</th>\n",
       "      <th>b5</th>\n",
       "      <th>b6</th>\n",
       "      <th>b7</th>\n",
       "      <th>IGBP</th>\n",
       "      <th>lat</th>\n",
       "      <th>long</th>\n",
       "      <th>koppen_sub</th>\n",
       "      <th>koppen_main</th>\n",
       "      <th>c3c4</th>\n",
       "      <th>c4_percent</th>\n",
       "      <th>BESS-PAR</th>\n",
       "      <th>BESS-PARdiff</th>\n",
       "      <th>BESS-RSDN</th>\n",
       "      <th>CSIF-SIFdaily</th>\n",
       "      <th>PET</th>\n",
       "      <th>Ts</th>\n",
       "      <th>ESACCI-sm</th>\n",
       "      <th>MODIS_LC</th>\n",
       "      <th>NDWI</th>\n",
       "      <th>Percent_Snow</th>\n",
       "      <th>Fpar</th>\n",
       "      <th>Lai</th>\n",
       "      <th>LST_Day</th>\n",
       "      <th>LST_Night</th>\n",
       "      <th>MODIS_IGBP</th>\n",
       "      <th>MODIS_PFT</th>\n",
       "      <th>gap_flag_hour</th>\n",
       "      <th>gap_flag_month</th>\n",
       "    </tr>\n",
       "  </thead>\n",
       "  <tbody>\n",
       "    <tr>\n",
       "      <th>0</th>\n",
       "      <td>-0.13057</td>\n",
       "      <td>AR-SLu</td>\n",
       "      <td>0</td>\n",
       "      <td>350640</td>\n",
       "      <td>2010-01-01 00:00:00</td>\n",
       "      <td>0</td>\n",
       "      <td>0</td>\n",
       "      <td>0</td>\n",
       "      <td>0</td>\n",
       "      <td>1.30850</td>\n",
       "      <td>-0.69453</td>\n",
       "      <td>0.82552</td>\n",
       "      <td>0.31320</td>\n",
       "      <td>1.23318</td>\n",
       "      <td>0.00304</td>\n",
       "      <td>-0.09129</td>\n",
       "      <td>-0.01868</td>\n",
       "      <td>-0.24579</td>\n",
       "      <td>-0.24943</td>\n",
       "      <td>-0.43443</td>\n",
       "      <td>-0.24622</td>\n",
       "      <td>-0.21851</td>\n",
       "      <td>0.37241</td>\n",
       "      <td>0.72035</td>\n",
       "      <td>0.23276</td>\n",
       "      <td>6</td>\n",
       "      <td>-33.46480</td>\n",
       "      <td>-66.45980</td>\n",
       "      <td>11</td>\n",
       "      <td>1</td>\n",
       "      <td>0</td>\n",
       "      <td>2.41198</td>\n",
       "      <td>1.99682</td>\n",
       "      <td>0.64589</td>\n",
       "      <td>1.95990</td>\n",
       "      <td>0.42570</td>\n",
       "      <td>-1.04360</td>\n",
       "      <td>1.76195</td>\n",
       "      <td>-1.54503</td>\n",
       "      <td>5</td>\n",
       "      <td>-0.54594</td>\n",
       "      <td>-0.44320</td>\n",
       "      <td>0.13720</td>\n",
       "      <td>-0.10592</td>\n",
       "      <td>1.67861</td>\n",
       "      <td>1.73361</td>\n",
       "      <td>7</td>\n",
       "      <td>8</td>\n",
       "      <td>0.0</td>\n",
       "      <td>0.0</td>\n",
       "    </tr>\n",
       "    <tr>\n",
       "      <th>1</th>\n",
       "      <td>-0.66336</td>\n",
       "      <td>AR-SLu</td>\n",
       "      <td>1</td>\n",
       "      <td>350641</td>\n",
       "      <td>2010-01-01 01:00:00</td>\n",
       "      <td>0</td>\n",
       "      <td>0</td>\n",
       "      <td>0</td>\n",
       "      <td>1</td>\n",
       "      <td>1.26106</td>\n",
       "      <td>-0.69453</td>\n",
       "      <td>0.82552</td>\n",
       "      <td>0.21833</td>\n",
       "      <td>-0.23310</td>\n",
       "      <td>0.00403</td>\n",
       "      <td>-0.09129</td>\n",
       "      <td>-0.01868</td>\n",
       "      <td>-0.24579</td>\n",
       "      <td>-0.24943</td>\n",
       "      <td>-0.43443</td>\n",
       "      <td>-0.24622</td>\n",
       "      <td>-0.21851</td>\n",
       "      <td>0.37241</td>\n",
       "      <td>0.72035</td>\n",
       "      <td>0.23276</td>\n",
       "      <td>6</td>\n",
       "      <td>-33.46480</td>\n",
       "      <td>-66.45980</td>\n",
       "      <td>11</td>\n",
       "      <td>1</td>\n",
       "      <td>0</td>\n",
       "      <td>2.41198</td>\n",
       "      <td>1.99682</td>\n",
       "      <td>0.64589</td>\n",
       "      <td>1.95990</td>\n",
       "      <td>0.42570</td>\n",
       "      <td>-1.04360</td>\n",
       "      <td>1.76195</td>\n",
       "      <td>-1.54503</td>\n",
       "      <td>5</td>\n",
       "      <td>-0.54594</td>\n",
       "      <td>-0.44320</td>\n",
       "      <td>0.13720</td>\n",
       "      <td>-0.10592</td>\n",
       "      <td>1.67861</td>\n",
       "      <td>1.73361</td>\n",
       "      <td>7</td>\n",
       "      <td>8</td>\n",
       "      <td>0.0</td>\n",
       "      <td>0.0</td>\n",
       "    </tr>\n",
       "  </tbody>\n",
       "</table>\n",
       "</div>"
      ],
      "text/plain": [
       "   GPP_NT_VUT_REF site_id  timestep_idx_local  timestep_idx_global  \\\n",
       "0        -0.13057  AR-SLu                   0               350640   \n",
       "1        -0.66336  AR-SLu                   1               350641   \n",
       "\n",
       "             datetime  year  month  day  hour  TA_ERA  SW_IN_ERA  LW_IN_ERA  \\\n",
       "0 2010-01-01 00:00:00     0      0    0     0 1.30850   -0.69453    0.82552   \n",
       "1 2010-01-01 01:00:00     0      0    0     1 1.26106   -0.69453    0.82552   \n",
       "\n",
       "   VPD_ERA    P_ERA  PA_ERA      EVI     NDVI     NIRv       b1       b2  \\\n",
       "0  0.31320  1.23318 0.00304 -0.09129 -0.01868 -0.24579 -0.24943 -0.43443   \n",
       "1  0.21833 -0.23310 0.00403 -0.09129 -0.01868 -0.24579 -0.24943 -0.43443   \n",
       "\n",
       "        b3       b4      b5      b6      b7  IGBP       lat      long  \\\n",
       "0 -0.24622 -0.21851 0.37241 0.72035 0.23276     6 -33.46480 -66.45980   \n",
       "1 -0.24622 -0.21851 0.37241 0.72035 0.23276     6 -33.46480 -66.45980   \n",
       "\n",
       "   koppen_sub  koppen_main  c3c4  c4_percent  BESS-PAR  BESS-PARdiff  \\\n",
       "0          11            1     0     2.41198   1.99682       0.64589   \n",
       "1          11            1     0     2.41198   1.99682       0.64589   \n",
       "\n",
       "   BESS-RSDN  CSIF-SIFdaily      PET      Ts  ESACCI-sm  MODIS_LC     NDWI  \\\n",
       "0    1.95990        0.42570 -1.04360 1.76195   -1.54503         5 -0.54594   \n",
       "1    1.95990        0.42570 -1.04360 1.76195   -1.54503         5 -0.54594   \n",
       "\n",
       "   Percent_Snow    Fpar      Lai  LST_Day  LST_Night  MODIS_IGBP  MODIS_PFT  \\\n",
       "0      -0.44320 0.13720 -0.10592  1.67861    1.73361           7          8   \n",
       "1      -0.44320 0.13720 -0.10592  1.67861    1.73361           7          8   \n",
       "\n",
       "  gap_flag_hour gap_flag_month  \n",
       "0           0.0            0.0  \n",
       "1           0.0            0.0  "
      ]
     },
     "metadata": {},
     "output_type": "display_data"
    }
   ],
   "source": [
    "categorical_cols = ['c3c4', 'koppen_sub', 'koppen_main', 'year', 'month', 'day', 'hour', \n",
    "                    'MODIS_PFT', 'MODIS_LC', 'MODIS_IGBP', 'IGBP']\n",
    "realNum_cols = ['TA_ERA', 'SW_IN_ERA', 'LW_IN_ERA', 'VPD_ERA', 'P_ERA', 'PA_ERA', \n",
    "                'EVI', 'NDVI', 'NIRv', 'b1', 'b2', 'b3', 'b4', 'b5', 'b6', 'b7',\n",
    "                'c4_percent', 'BESS-PAR', 'BESS-PARdiff', 'BESS-RSDN', 'CSIF-SIFdaily',\n",
    "                'PET', 'Ts', 'ESACCI-sm', 'NDWI', 'Percent_Snow', 'Fpar', 'Lai',\n",
    "                'LST_Day', 'LST_Night']\n",
    "data_transformer.data_transform(categorical_cols, realNum_cols, cat_encode_type='label')\n",
    "\n",
    "print(\"\\nTrain data peak:\")\n",
    "display(data_transformer.train_df.head(2))"
   ]
  },
  {
   "cell_type": "markdown",
   "id": "d1b90021-f336-4797-9bc4-82cd5f0e2b24",
   "metadata": {},
   "source": [
    "## Save Out"
   ]
  },
  {
   "cell_type": "code",
   "execution_count": 11,
   "id": "74a3d356",
   "metadata": {
    "tags": []
   },
   "outputs": [
    {
     "name": "stdout",
     "output_type": "stream",
     "text": [
      "Uploading train dataset to tft-full_2010_2015-train-v-global-scaler.parquet...\n",
      "File uploaded to all-sites-data/tft-full_2010_2015-train-v-global-scaler.parquet\n",
      "Uploading val dataset to tft-full_2010_2015-val-v-global-scaler.parquet...\n",
      "File uploaded to all-sites-data/tft-full_2010_2015-val-v-global-scaler.parquet\n",
      "Uploading test dataset to tft-full_2010_2015-test-v-global-scaler.parquet...\n",
      "File uploaded to all-sites-data/tft-full_2010_2015-test-v-global-scaler.parquet\n"
     ]
    }
   ],
   "source": [
    "final_checkpoint = True\n",
    "\n",
    "if final_checkpoint:\n",
    "    data_transformer.upload_train_test_to_azure(az_cred_file, container, train_blob_name, val_blob_name, test_blob_name)"
   ]
  },
  {
   "cell_type": "code",
   "execution_count": null,
   "id": "a671f140-319b-40b1-a4c2-355ff45f09bb",
   "metadata": {},
   "outputs": [],
   "source": []
  }
 ],
 "metadata": {
  "availableInstances": [
   {
    "_defaultOrder": 0,
    "_isFastLaunch": true,
    "category": "General purpose",
    "gpuNum": 0,
    "memoryGiB": 4,
    "name": "ml.t3.medium",
    "vcpuNum": 2
   },
   {
    "_defaultOrder": 1,
    "_isFastLaunch": false,
    "category": "General purpose",
    "gpuNum": 0,
    "memoryGiB": 8,
    "name": "ml.t3.large",
    "vcpuNum": 2
   },
   {
    "_defaultOrder": 2,
    "_isFastLaunch": false,
    "category": "General purpose",
    "gpuNum": 0,
    "memoryGiB": 16,
    "name": "ml.t3.xlarge",
    "vcpuNum": 4
   },
   {
    "_defaultOrder": 3,
    "_isFastLaunch": false,
    "category": "General purpose",
    "gpuNum": 0,
    "memoryGiB": 32,
    "name": "ml.t3.2xlarge",
    "vcpuNum": 8
   },
   {
    "_defaultOrder": 4,
    "_isFastLaunch": true,
    "category": "General purpose",
    "gpuNum": 0,
    "memoryGiB": 8,
    "name": "ml.m5.large",
    "vcpuNum": 2
   },
   {
    "_defaultOrder": 5,
    "_isFastLaunch": false,
    "category": "General purpose",
    "gpuNum": 0,
    "memoryGiB": 16,
    "name": "ml.m5.xlarge",
    "vcpuNum": 4
   },
   {
    "_defaultOrder": 6,
    "_isFastLaunch": false,
    "category": "General purpose",
    "gpuNum": 0,
    "memoryGiB": 32,
    "name": "ml.m5.2xlarge",
    "vcpuNum": 8
   },
   {
    "_defaultOrder": 7,
    "_isFastLaunch": false,
    "category": "General purpose",
    "gpuNum": 0,
    "memoryGiB": 64,
    "name": "ml.m5.4xlarge",
    "vcpuNum": 16
   },
   {
    "_defaultOrder": 8,
    "_isFastLaunch": false,
    "category": "General purpose",
    "gpuNum": 0,
    "memoryGiB": 128,
    "name": "ml.m5.8xlarge",
    "vcpuNum": 32
   },
   {
    "_defaultOrder": 9,
    "_isFastLaunch": false,
    "category": "General purpose",
    "gpuNum": 0,
    "memoryGiB": 192,
    "name": "ml.m5.12xlarge",
    "vcpuNum": 48
   },
   {
    "_defaultOrder": 10,
    "_isFastLaunch": false,
    "category": "General purpose",
    "gpuNum": 0,
    "memoryGiB": 256,
    "name": "ml.m5.16xlarge",
    "vcpuNum": 64
   },
   {
    "_defaultOrder": 11,
    "_isFastLaunch": false,
    "category": "General purpose",
    "gpuNum": 0,
    "memoryGiB": 384,
    "name": "ml.m5.24xlarge",
    "vcpuNum": 96
   },
   {
    "_defaultOrder": 12,
    "_isFastLaunch": false,
    "category": "General purpose",
    "gpuNum": 0,
    "memoryGiB": 8,
    "name": "ml.m5d.large",
    "vcpuNum": 2
   },
   {
    "_defaultOrder": 13,
    "_isFastLaunch": false,
    "category": "General purpose",
    "gpuNum": 0,
    "memoryGiB": 16,
    "name": "ml.m5d.xlarge",
    "vcpuNum": 4
   },
   {
    "_defaultOrder": 14,
    "_isFastLaunch": false,
    "category": "General purpose",
    "gpuNum": 0,
    "memoryGiB": 32,
    "name": "ml.m5d.2xlarge",
    "vcpuNum": 8
   },
   {
    "_defaultOrder": 15,
    "_isFastLaunch": false,
    "category": "General purpose",
    "gpuNum": 0,
    "memoryGiB": 64,
    "name": "ml.m5d.4xlarge",
    "vcpuNum": 16
   },
   {
    "_defaultOrder": 16,
    "_isFastLaunch": false,
    "category": "General purpose",
    "gpuNum": 0,
    "memoryGiB": 128,
    "name": "ml.m5d.8xlarge",
    "vcpuNum": 32
   },
   {
    "_defaultOrder": 17,
    "_isFastLaunch": false,
    "category": "General purpose",
    "gpuNum": 0,
    "memoryGiB": 192,
    "name": "ml.m5d.12xlarge",
    "vcpuNum": 48
   },
   {
    "_defaultOrder": 18,
    "_isFastLaunch": false,
    "category": "General purpose",
    "gpuNum": 0,
    "memoryGiB": 256,
    "name": "ml.m5d.16xlarge",
    "vcpuNum": 64
   },
   {
    "_defaultOrder": 19,
    "_isFastLaunch": false,
    "category": "General purpose",
    "gpuNum": 0,
    "memoryGiB": 384,
    "name": "ml.m5d.24xlarge",
    "vcpuNum": 96
   },
   {
    "_defaultOrder": 20,
    "_isFastLaunch": true,
    "category": "Compute optimized",
    "gpuNum": 0,
    "memoryGiB": 4,
    "name": "ml.c5.large",
    "vcpuNum": 2
   },
   {
    "_defaultOrder": 21,
    "_isFastLaunch": false,
    "category": "Compute optimized",
    "gpuNum": 0,
    "memoryGiB": 8,
    "name": "ml.c5.xlarge",
    "vcpuNum": 4
   },
   {
    "_defaultOrder": 22,
    "_isFastLaunch": false,
    "category": "Compute optimized",
    "gpuNum": 0,
    "memoryGiB": 16,
    "name": "ml.c5.2xlarge",
    "vcpuNum": 8
   },
   {
    "_defaultOrder": 23,
    "_isFastLaunch": false,
    "category": "Compute optimized",
    "gpuNum": 0,
    "memoryGiB": 32,
    "name": "ml.c5.4xlarge",
    "vcpuNum": 16
   },
   {
    "_defaultOrder": 24,
    "_isFastLaunch": false,
    "category": "Compute optimized",
    "gpuNum": 0,
    "memoryGiB": 72,
    "name": "ml.c5.9xlarge",
    "vcpuNum": 36
   },
   {
    "_defaultOrder": 25,
    "_isFastLaunch": false,
    "category": "Compute optimized",
    "gpuNum": 0,
    "memoryGiB": 96,
    "name": "ml.c5.12xlarge",
    "vcpuNum": 48
   },
   {
    "_defaultOrder": 26,
    "_isFastLaunch": false,
    "category": "Compute optimized",
    "gpuNum": 0,
    "memoryGiB": 144,
    "name": "ml.c5.18xlarge",
    "vcpuNum": 72
   },
   {
    "_defaultOrder": 27,
    "_isFastLaunch": false,
    "category": "Compute optimized",
    "gpuNum": 0,
    "memoryGiB": 192,
    "name": "ml.c5.24xlarge",
    "vcpuNum": 96
   },
   {
    "_defaultOrder": 28,
    "_isFastLaunch": true,
    "category": "Accelerated computing",
    "gpuNum": 1,
    "memoryGiB": 16,
    "name": "ml.g4dn.xlarge",
    "vcpuNum": 4
   },
   {
    "_defaultOrder": 29,
    "_isFastLaunch": false,
    "category": "Accelerated computing",
    "gpuNum": 1,
    "memoryGiB": 32,
    "name": "ml.g4dn.2xlarge",
    "vcpuNum": 8
   },
   {
    "_defaultOrder": 30,
    "_isFastLaunch": false,
    "category": "Accelerated computing",
    "gpuNum": 1,
    "memoryGiB": 64,
    "name": "ml.g4dn.4xlarge",
    "vcpuNum": 16
   },
   {
    "_defaultOrder": 31,
    "_isFastLaunch": false,
    "category": "Accelerated computing",
    "gpuNum": 1,
    "memoryGiB": 128,
    "name": "ml.g4dn.8xlarge",
    "vcpuNum": 32
   },
   {
    "_defaultOrder": 32,
    "_isFastLaunch": false,
    "category": "Accelerated computing",
    "gpuNum": 4,
    "memoryGiB": 192,
    "name": "ml.g4dn.12xlarge",
    "vcpuNum": 48
   },
   {
    "_defaultOrder": 33,
    "_isFastLaunch": false,
    "category": "Accelerated computing",
    "gpuNum": 1,
    "memoryGiB": 256,
    "name": "ml.g4dn.16xlarge",
    "vcpuNum": 64
   },
   {
    "_defaultOrder": 34,
    "_isFastLaunch": false,
    "category": "Accelerated computing",
    "gpuNum": 1,
    "memoryGiB": 61,
    "name": "ml.p3.2xlarge",
    "vcpuNum": 8
   },
   {
    "_defaultOrder": 35,
    "_isFastLaunch": false,
    "category": "Accelerated computing",
    "gpuNum": 4,
    "memoryGiB": 244,
    "name": "ml.p3.8xlarge",
    "vcpuNum": 32
   },
   {
    "_defaultOrder": 36,
    "_isFastLaunch": false,
    "category": "Accelerated computing",
    "gpuNum": 8,
    "memoryGiB": 488,
    "name": "ml.p3.16xlarge",
    "vcpuNum": 64
   },
   {
    "_defaultOrder": 37,
    "_isFastLaunch": false,
    "category": "Accelerated computing",
    "gpuNum": 8,
    "memoryGiB": 768,
    "name": "ml.p3dn.24xlarge",
    "vcpuNum": 96
   },
   {
    "_defaultOrder": 38,
    "_isFastLaunch": false,
    "category": "Memory Optimized",
    "gpuNum": 0,
    "memoryGiB": 16,
    "name": "ml.r5.large",
    "vcpuNum": 2
   },
   {
    "_defaultOrder": 39,
    "_isFastLaunch": false,
    "category": "Memory Optimized",
    "gpuNum": 0,
    "memoryGiB": 32,
    "name": "ml.r5.xlarge",
    "vcpuNum": 4
   },
   {
    "_defaultOrder": 40,
    "_isFastLaunch": false,
    "category": "Memory Optimized",
    "gpuNum": 0,
    "memoryGiB": 64,
    "name": "ml.r5.2xlarge",
    "vcpuNum": 8
   },
   {
    "_defaultOrder": 41,
    "_isFastLaunch": false,
    "category": "Memory Optimized",
    "gpuNum": 0,
    "memoryGiB": 128,
    "name": "ml.r5.4xlarge",
    "vcpuNum": 16
   },
   {
    "_defaultOrder": 42,
    "_isFastLaunch": false,
    "category": "Memory Optimized",
    "gpuNum": 0,
    "memoryGiB": 256,
    "name": "ml.r5.8xlarge",
    "vcpuNum": 32
   },
   {
    "_defaultOrder": 43,
    "_isFastLaunch": false,
    "category": "Memory Optimized",
    "gpuNum": 0,
    "memoryGiB": 384,
    "name": "ml.r5.12xlarge",
    "vcpuNum": 48
   },
   {
    "_defaultOrder": 44,
    "_isFastLaunch": false,
    "category": "Memory Optimized",
    "gpuNum": 0,
    "memoryGiB": 512,
    "name": "ml.r5.16xlarge",
    "vcpuNum": 64
   },
   {
    "_defaultOrder": 45,
    "_isFastLaunch": false,
    "category": "Memory Optimized",
    "gpuNum": 0,
    "memoryGiB": 768,
    "name": "ml.r5.24xlarge",
    "vcpuNum": 96
   },
   {
    "_defaultOrder": 46,
    "_isFastLaunch": false,
    "category": "Accelerated computing",
    "gpuNum": 1,
    "memoryGiB": 16,
    "name": "ml.g5.xlarge",
    "vcpuNum": 4
   },
   {
    "_defaultOrder": 47,
    "_isFastLaunch": false,
    "category": "Accelerated computing",
    "gpuNum": 1,
    "memoryGiB": 32,
    "name": "ml.g5.2xlarge",
    "vcpuNum": 8
   },
   {
    "_defaultOrder": 48,
    "_isFastLaunch": false,
    "category": "Accelerated computing",
    "gpuNum": 1,
    "memoryGiB": 64,
    "name": "ml.g5.4xlarge",
    "vcpuNum": 16
   },
   {
    "_defaultOrder": 49,
    "_isFastLaunch": false,
    "category": "Accelerated computing",
    "gpuNum": 1,
    "memoryGiB": 128,
    "name": "ml.g5.8xlarge",
    "vcpuNum": 32
   },
   {
    "_defaultOrder": 50,
    "_isFastLaunch": false,
    "category": "Accelerated computing",
    "gpuNum": 1,
    "memoryGiB": 256,
    "name": "ml.g5.16xlarge",
    "vcpuNum": 64
   },
   {
    "_defaultOrder": 51,
    "_isFastLaunch": false,
    "category": "Accelerated computing",
    "gpuNum": 4,
    "memoryGiB": 192,
    "name": "ml.g5.12xlarge",
    "vcpuNum": 48
   },
   {
    "_defaultOrder": 52,
    "_isFastLaunch": false,
    "category": "Accelerated computing",
    "gpuNum": 4,
    "memoryGiB": 384,
    "name": "ml.g5.24xlarge",
    "vcpuNum": 96
   },
   {
    "_defaultOrder": 53,
    "_isFastLaunch": false,
    "category": "Accelerated computing",
    "gpuNum": 8,
    "memoryGiB": 768,
    "name": "ml.g5.48xlarge",
    "vcpuNum": 192
   }
  ],
  "colab": {
   "collapsed_sections": [
    "OA1ZkEPP3zLz",
    "O4RveeAZ3qm8",
    "bIoy86rH4hRH"
   ],
   "machine_shape": "hm",
   "provenance": []
  },
  "gpuClass": "standard",
  "instance_type": "ml.m5.4xlarge",
  "kernelspec": {
   "display_name": "Python [conda env:py39] (arn:aws:sagemaker:us-east-1:081325390199:image/datascience-1.0)",
   "language": "python",
   "name": "conda-env-py39-py__SAGEMAKER_INTERNAL__arn:aws:sagemaker:us-east-1:081325390199:image/datascience-1.0"
  },
  "language_info": {
   "codemirror_mode": {
    "name": "ipython",
    "version": 3
   },
   "file_extension": ".py",
   "mimetype": "text/x-python",
   "name": "python",
   "nbconvert_exporter": "python",
   "pygments_lexer": "ipython3",
   "version": "3.9.16"
  }
 },
 "nbformat": 4,
 "nbformat_minor": 5
}
