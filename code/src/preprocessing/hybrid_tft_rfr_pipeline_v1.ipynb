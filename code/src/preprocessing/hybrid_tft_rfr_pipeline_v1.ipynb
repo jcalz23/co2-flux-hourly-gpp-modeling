{
 "cells": [
  {
   "cell_type": "markdown",
   "metadata": {},
   "source": [
    "Note: Need 32G of RAM to run 5-year prediction"
   ]
  },
  {
   "cell_type": "markdown",
   "metadata": {
    "id": "CU5xMX4lMdOX",
    "jp-MarkdownHeadingCollapsed": true,
    "tags": []
   },
   "source": [
    "# 0. Preparation"
   ]
  },
  {
   "cell_type": "markdown",
   "metadata": {
    "id": "tqqvjx_EMfQR",
    "tags": []
   },
   "source": [
    "## (Optoinal) mount google drive\n",
    "- Make sure that available access is the user's own drive(no access across files in shared folder)"
   ]
  },
  {
   "cell_type": "code",
   "execution_count": null,
   "metadata": {
    "colab": {
     "base_uri": "https://localhost:8080/"
    },
    "executionInfo": {
     "elapsed": 2035,
     "status": "ok",
     "timestamp": 1679990893894,
     "user": {
      "displayName": "Mary Chau",
      "userId": "14027067063095206122"
     },
     "user_tz": 420
    },
    "id": "2VY5heBv1X2o",
    "outputId": "2313d18e-7205-49da-dffc-58beeccaba6a"
   },
   "outputs": [],
   "source": [
    "if 'google.colab' in str(get_ipython()):\n",
    "    IN_COLLAB = True\n",
    "else:\n",
    "    IN_COLLAB = False\n",
    "\n",
    "if IN_COLLAB:\n",
    "    #TODO: CHANGE THIS BASED ON YOUR OWN LOCAL SETTINGS\n",
    "    MY_HOME_ABS_PATH = \"/content/drive/MyDrive/W210/co2-flux-hourly-gpp-modeling\"\n",
    "    from google.colab import drive\n",
    "    drive.mount('/content/drive/')\n",
    "else:\n",
    "    MY_HOME_ABS_PATH = \"/root/co2-flux-hourly-gpp-modeling/\""
   ]
  },
  {
   "cell_type": "markdown",
   "metadata": {
    "id": "Hcdd8BpC14Dr",
    "tags": []
   },
   "source": [
    "## Import libraries"
   ]
  },
  {
   "cell_type": "code",
   "execution_count": null,
   "metadata": {
    "colab": {
     "base_uri": "https://localhost:8080/"
    },
    "executionInfo": {
     "elapsed": 254,
     "status": "ok",
     "timestamp": 1679991524694,
     "user": {
      "displayName": "Mary Chau",
      "userId": "14027067063095206122"
     },
     "user_tz": 420
    },
    "id": "Rurx0Qa-tUIy",
    "outputId": "cac80cde-3643-4a2a-9c0e-c7146e37a45a"
   },
   "outputs": [
    {
     "name": "stderr",
     "output_type": "stream",
     "text": [
      "2023-04-02 23:21:13.954707: I tensorflow/core/util/port.cc:110] oneDNN custom operations are on. You may see slightly different numerical results due to floating-point round-off errors from different computation orders. To turn them off, set the environment variable `TF_ENABLE_ONEDNN_OPTS=0`.\n",
      "2023-04-02 23:21:13.957010: I tensorflow/tsl/cuda/cudart_stub.cc:28] Could not find cuda drivers on your machine, GPU will not be used.\n",
      "2023-04-02 23:21:14.006146: I tensorflow/tsl/cuda/cudart_stub.cc:28] Could not find cuda drivers on your machine, GPU will not be used.\n",
      "2023-04-02 23:21:14.006944: I tensorflow/core/platform/cpu_feature_guard.cc:182] This TensorFlow binary is optimized to use available CPU instructions in performance-critical operations.\n",
      "To enable the following instructions: AVX2 AVX512F AVX512_VNNI FMA, in other operations, rebuild TensorFlow with the appropriate compiler flags.\n",
      "2023-04-02 23:21:14.987462: W tensorflow/compiler/tf2tensorrt/utils/py_utils.cc:38] TF-TRT Warning: Could not find TensorRT\n",
      "Global seed set to 42\n",
      "Global seed set to 42\n"
     ]
    },
    {
     "data": {
      "text/plain": [
       "42"
      ]
     },
     "execution_count": 3,
     "metadata": {},
     "output_type": "execute_result"
    }
   ],
   "source": [
    "import os\n",
    "import sys\n",
    "import warnings\n",
    "warnings.filterwarnings(\"ignore\")\n",
    "\n",
    "from io import BytesIO\n",
    "import numpy as np\n",
    "import pandas as pd\n",
    "\n",
    "import joblib\n",
    "from sklearn.preprocessing import StandardScaler\n",
    "from sklearn.metrics import mean_squared_error, mean_absolute_error, r2_score\n",
    "from sklearn.ensemble import RandomForestRegressor\n",
    "\n",
    "from timeit import default_timer\n",
    "from datetime import datetime\n",
    "import gc\n",
    "import pickle\n",
    "\n",
    "# Load locale custome modules\n",
    "os.chdir(MY_HOME_ABS_PATH)\n",
    "if IN_COLLAB:\n",
    "     os.environ[\"IN_COLLAB\"] = \"true\"\n",
    "     os.environ[\"MY_HOME_ABS_PATH\"] = MY_HOME_ABS_PATH\n",
    "     sys.path.insert(0,os.path.abspath(\"./code/src/tools\"))\n",
    "else:\n",
    "    sys.path.append(os.path.abspath(\"./code/src/tools\"))\n",
    "\n",
    "from CloudIO.AzStorageClient import AzStorageClient\n",
    "from data_pipeline_lib import *\n",
    "from model_pipeline_lib import *\n",
    "\n",
    "pd.set_option('display.max_rows', None)\n",
    "pd.set_option('display.max_columns', None)\n",
    "pd.set_option('display.width', None)\n",
    "pd.set_option('display.max_colwidth', None)\n",
    "pd.set_option('display.float_format', lambda x: '%.5f' % x)\n",
    "pl.seed_everything(42)"
   ]
  },
  {
   "cell_type": "markdown",
   "metadata": {
    "id": "5LRk1xhgDrvZ",
    "tags": []
   },
   "source": [
    "# File System Definitions"
   ]
  },
  {
   "cell_type": "code",
   "execution_count": 10,
   "metadata": {
    "executionInfo": {
     "elapsed": 26,
     "status": "ok",
     "timestamp": 1679990900531,
     "user": {
      "displayName": "Mary Chau",
      "userId": "14027067063095206122"
     },
     "user_tz": 420
    },
    "id": "z8T-YT1fEXjR"
   },
   "outputs": [],
   "source": [
    "# Download full data\n",
    "root_dir  = MY_HOME_ABS_PATH\n",
    "tmp_dir   = root_dir + os.sep + '.tmp'\n",
    "model_dir = root_dir + os.sep + 'data' + os.sep + 'models'\n",
    "cred_dir = root_dir + os.sep + '.cred'\n",
    "az_cred_file = cred_dir + os.sep + 'azblobcred.json'\n",
    "\n",
    "container = \"all-sites-data\"\n",
    "tft_raw_blob_name = \"full_2010_2015_v_mvp_raw.parquet\"\n",
    "\n",
    "# output\n",
    "ver = \"1\"\n",
    "ext = \"parquet\"\n",
    "\n",
    "rfr_raw_blob_name = f\"hybrid-2010-2015-rfr-transformed-v{ver}.{ext}\" # Transformed TFT data for RFR prediction\n",
    "hybrid_raw_blob_name = f\"hybrid-2010-2015-raw-v{ver}.{ext}\" # TFT + RFR pred"
   ]
  },
  {
   "cell_type": "markdown",
   "metadata": {
    "id": "UsyNyrVzCLKt",
    "tags": []
   },
   "source": [
    "# Data Transform for RFR Predictions\n"
   ]
  },
  {
   "cell_type": "code",
   "execution_count": 7,
   "metadata": {
    "colab": {
     "base_uri": "https://localhost:8080/"
    },
    "executionInfo": {
     "elapsed": 37399,
     "status": "ok",
     "timestamp": 1679991872742,
     "user": {
      "displayName": "Mary Chau",
      "userId": "14027067063095206122"
     },
     "user_tz": 420
    },
    "id": "qkKA-WGX8MgT",
    "outputId": "8e405a6c-96b1-4a03-8ef9-b6c209badc0b"
   },
   "outputs": [],
   "source": [
    "categorical_cols = ['c3c4', 'MODIS_PFT', 'MODIS_IGBP']\n",
    "realNum_cols = ['TA_ERA', 'SW_IN_ERA', 'LW_IN_ERA', 'VPD_ERA', 'P_ERA', 'PA_ERA', \n",
    "                'EVI', 'NDVI', 'NIRv', 'b1', 'b2', 'b3', 'b4', 'b5', 'b6', 'b7',\n",
    "                'c4_percent', 'BESS-PAR', 'BESS-PARdiff', 'BESS-RSDN', 'CSIF-SIFdaily',\n",
    "                'PET', 'Ts', 'ESACCI-sm', 'NDWI', 'Percent_Snow', 'Fpar', 'Lai',\n",
    "                'LST_Day', 'LST_Night']\n",
    "target_variable = 'GPP_NT_VUT_REF'\n",
    "\n",
    "def GetTransformedTftDataforRfrPredict(cat_cols, real_cols):\n",
    "    # Load data from Azure\n",
    "    data_df = get_raw_datasets(container, tft_raw_blob_name)\n",
    "\n",
    "    # Load scalers\n",
    "    preproc_objects_dir = root_dir + os.sep + 'code/src/preprocessing/preproc_objects'\n",
    "    preproc_save_path = preproc_objects_dir + os.sep + 'scaler_rfr-mvp.joblib'\n",
    "    scaler=joblib.load(preproc_save_path)\n",
    "    print(scaler.mean_)\n",
    "\n",
    "    # Transform categorical features\n",
    "    dummy_df = pd.get_dummies(data_df[cat_cols])\n",
    "    data_df = data_df.drop(columns=cat_cols)\n",
    "    data_df = pd.concat([data_df, dummy_df], axis=1)\n",
    "    print(f\"Data size after encoding: {data_df.shape}\")\n",
    "\n",
    "    # Transform numerical features\n",
    "    data_df.loc[:,real_cols] = scaler.transform(data_df[real_cols])\n",
    "    print(f\"Data size: {data_df.shape}\")\n",
    "\n",
    "    data_df.reset_index(inplace=True, drop=True)\n",
    "    print(f\"Data size: {data_df.shape}\")\n",
    "    \n",
    "    return data_df"
   ]
  },
  {
   "cell_type": "code",
   "execution_count": 41,
   "metadata": {
    "id": "JL4Llc-nCuqS"
   },
   "outputs": [
    {
     "name": "stdout",
     "output_type": "stream",
     "text": [
      "Data size: (4862712, 51)\n",
      "Data Columns: Index(['GPP_NT_VUT_REF', 'site_id', 'timestep_idx_local',\n",
      "       'timestep_idx_global', 'datetime', 'date', 'year', 'month', 'day',\n",
      "       'hour', 'TA_ERA', 'SW_IN_ERA', 'LW_IN_ERA', 'VPD_ERA', 'P_ERA',\n",
      "       'PA_ERA', 'EVI', 'NDVI', 'NIRv', 'b1', 'b2', 'b3', 'b4', 'b5', 'b6',\n",
      "       'b7', 'IGBP', 'lat', 'long', 'koppen_sub', 'koppen_main', 'c3c4',\n",
      "       'c4_percent', 'BESS-PAR', 'BESS-PARdiff', 'BESS-RSDN', 'CSIF-SIFdaily',\n",
      "       'PET', 'Ts', 'ESACCI-sm', 'MODIS_LC', 'NDWI', 'Percent_Snow', 'Fpar',\n",
      "       'Lai', 'LST_Day', 'LST_Night', 'MODIS_IGBP', 'MODIS_PFT',\n",
      "       'gap_flag_hour', 'gap_flag_month'],\n",
      "      dtype='object')\n",
      "NA count: 0\n",
      "[ 1.09206415e+01  1.65476230e+02  3.15006423e+02  5.93380537e+00\n",
      "  5.17308451e-02  9.48886824e+01  3.05767371e-01  5.34209899e-01\n",
      "  1.38198560e-01  9.41709227e-02  2.62089304e-01  6.46183239e-02\n",
      "  9.07462739e-02  2.56177452e-01  1.81825343e-01  1.07663278e-01\n",
      "  1.10274090e+01  7.41909515e+01  3.06207843e+01  1.62884264e+02\n",
      "  1.46856972e-01 -6.65875728e-03  2.84331334e+02  2.49586719e-01\n",
      "  1.40295677e-01  1.13582536e+01  4.64011670e-01  1.32157903e+00\n",
      "  2.91026499e+02  2.77806778e+02]\n",
      "Data size after encoding: (4862712, 75)\n",
      "Data size: (4862712, 75)\n",
      "Data size: (4862712, 75)\n",
      "File uploaded to all-sites-data/hybrid-2010-2015-rfr-transformed-v0.parquet\n"
     ]
    }
   ],
   "source": [
    "generate_rfr_dataset = False\n",
    "\n",
    "if generate_rfr_dataset:\n",
    "    \n",
    "    data_df = GetTransformedTftDataforRfrPredict(categorical_cols, realNum_cols)\n",
    "    \n",
    "    parquet_file = BytesIO()\n",
    "    data_df.to_parquet(parquet_file, engine='pyarrow')\n",
    "    parquet_file.seek(0)\n",
    "\n",
    "    azStorageClient = AzStorageClient(az_cred_file)\n",
    "    azStorageClient.uploadBlob(container, rfr_raw_blob_name, parquet_file, overwrite=True)"
   ]
  },
  {
   "cell_type": "markdown",
   "metadata": {
    "id": "ucvp0uejD5Uq"
   },
   "source": [
    "# Get RFR Predictions"
   ]
  },
  {
   "cell_type": "code",
   "execution_count": 8,
   "metadata": {
    "id": "2Mm_loCPJq-H"
   },
   "outputs": [
    {
     "name": "stdout",
     "output_type": "stream",
     "text": [
      "Model Features: ['SW_IN_ERA' 'hour' 'VPD_ERA' 'NIRv' 'NDVI' 'EVI' 'TA_ERA']\n",
      "\n",
      "Data size: (4862712, 75)\n",
      "Data Columns: Index(['GPP_NT_VUT_REF', 'site_id', 'timestep_idx_local',\n",
      "       'timestep_idx_global', 'datetime', 'date', 'year', 'month', 'day',\n",
      "       'hour', 'TA_ERA', 'SW_IN_ERA', 'LW_IN_ERA', 'VPD_ERA', 'P_ERA',\n",
      "       'PA_ERA', 'EVI', 'NDVI', 'NIRv', 'b1', 'b2', 'b3', 'b4', 'b5', 'b6',\n",
      "       'b7', 'IGBP', 'lat', 'long', 'koppen_sub', 'koppen_main', 'c4_percent',\n",
      "       'BESS-PAR', 'BESS-PARdiff', 'BESS-RSDN', 'CSIF-SIFdaily', 'PET', 'Ts',\n",
      "       'ESACCI-sm', 'NDWI', 'Percent_Snow', 'Fpar', 'Lai', 'LST_Day',\n",
      "       'LST_Night', 'gap_flag_hour', 'gap_flag_month', 'MODIS_LC', 'c3c4_C3',\n",
      "       'c3c4_C4', 'c3c4_mix', 'c3c4_rotation', 'c3c4_unknown', 'MODIS_PFT_CRO',\n",
      "       'MODIS_PFT_DBF', 'MODIS_PFT_EBF', 'MODIS_PFT_ENF', 'MODIS_PFT_GRA',\n",
      "       'MODIS_PFT_MF', 'MODIS_PFT_Other', 'MODIS_PFT_SA', 'MODIS_PFT_SH',\n",
      "       'MODIS_IGBP_CRO', 'MODIS_IGBP_CSH', 'MODIS_IGBP_DBF', 'MODIS_IGBP_EBF',\n",
      "       'MODIS_IGBP_ENF', 'MODIS_IGBP_GRA', 'MODIS_IGBP_MF', 'MODIS_IGBP_OSH',\n",
      "       'MODIS_IGBP_SAV', 'MODIS_IGBP_URB', 'MODIS_IGBP_WAT', 'MODIS_IGBP_WET',\n",
      "       'MODIS_IGBP_WSA'],\n",
      "      dtype='object')\n",
      "NA count: 0\n"
     ]
    },
    {
     "name": "stderr",
     "output_type": "stream",
     "text": [
      "[Parallel(n_jobs=48)]: Using backend ThreadingBackend with 48 concurrent workers.\n",
      "[Parallel(n_jobs=48)]: Done   6 out of  50 | elapsed:    0.7s remaining:    5.0s\n",
      "[Parallel(n_jobs=48)]: Done  50 out of  50 | elapsed:    1.1s finished\n"
     ]
    },
    {
     "name": "stdout",
     "output_type": "stream",
     "text": [
      "# of data count: actual[4862712], predicted[4862712]\n",
      "RMSE: 3.5836375355212176, MAE: 1.9214436397874508, R2/NSE: 0.7242334531705916\n",
      "RFR prediction result temporary saved to /root/co2-flux-hourly-gpp-modeling/.tmp/rfr_predict_230402_2323.pkl.\n"
     ]
    }
   ],
   "source": [
    "# Load model\n",
    "model_objects_dir = root_dir + os.sep + 'code/src/modeling/model_objects'\n",
    "model_save_path = os.path.join(model_objects_dir, 'rfr_mvp_v3_top7_features.pkl')\n",
    "model = joblib.load(model_save_path)\n",
    "print(f\"Model Features: {model.feature_names_in_}\\n\")\n",
    "    \n",
    "# Load tranformed TFT data from Blob\n",
    "data_df = get_raw_datasets(container, rfr_raw_blob_name)\n",
    "\n",
    "# Run RFR Predictions\n",
    "X_data = data_df[model.feature_names_in_]\n",
    "y_actual = data_df[target_variable]\n",
    "y_pred = model.predict(X_data)\n",
    "print(f\"# of data count: actual[{len(y_actual)}], predicted[{len(y_pred)}]\")\n",
    "\n",
    "# Evaluate predictions \n",
    "rmse = np.sqrt(mean_squared_error(y_actual, y_pred))\n",
    "mae = mean_absolute_error(y_actual, y_pred)\n",
    "r2 = r2_score(y_actual, y_pred)\n",
    "print(f\"RMSE: {rmse}, MAE: {mae}, R2/NSE: {r2}\")\n",
    "\n",
    "toCache = True\n",
    "if toCache:\n",
    "    ts = datetime.now().strftime(\"%y%m%d_%H%M\")\n",
    "    rfr_pred_file = tmp_dir + os.sep + f\"rfr_predict_{ts}.pkl\"\n",
    "    with open(rfr_pred_file, \"wb\") as fout:\n",
    "        print(f\"RFR prediction result temporary saved to {rfr_pred_file}.\")\n",
    "        pickle.dump(y_pred, fout)"
   ]
  },
  {
   "cell_type": "markdown",
   "metadata": {
    "id": "f0_eszkBKy1H"
   },
   "source": [
    "# Merge RFR prediction result with TFT data"
   ]
  },
  {
   "cell_type": "code",
   "execution_count": 11,
   "metadata": {
    "id": "ZcR1WzciLICj"
   },
   "outputs": [
    {
     "name": "stdout",
     "output_type": "stream",
     "text": [
      "Data size: (4862712, 51)\n",
      "Data Columns: Index(['GPP_NT_VUT_REF', 'site_id', 'timestep_idx_local',\n",
      "       'timestep_idx_global', 'datetime', 'date', 'year', 'month', 'day',\n",
      "       'hour', 'TA_ERA', 'SW_IN_ERA', 'LW_IN_ERA', 'VPD_ERA', 'P_ERA',\n",
      "       'PA_ERA', 'EVI', 'NDVI', 'NIRv', 'b1', 'b2', 'b3', 'b4', 'b5', 'b6',\n",
      "       'b7', 'IGBP', 'lat', 'long', 'koppen_sub', 'koppen_main', 'c3c4',\n",
      "       'c4_percent', 'BESS-PAR', 'BESS-PARdiff', 'BESS-RSDN', 'CSIF-SIFdaily',\n",
      "       'PET', 'Ts', 'ESACCI-sm', 'MODIS_LC', 'NDWI', 'Percent_Snow', 'Fpar',\n",
      "       'Lai', 'LST_Day', 'LST_Night', 'MODIS_IGBP', 'MODIS_PFT',\n",
      "       'gap_flag_hour', 'gap_flag_month'],\n",
      "      dtype='object')\n",
      "NA count: 0\n",
      "Load RFR prediction result from /root/co2-flux-hourly-gpp-modeling/.tmp/rfr_predict_230402_2323.pkl.\n",
      "RMSE: 3.5836375355212176, MAE: 1.9214436397874508, R2/NSE: 0.7242334531705916\n",
      "File uploaded to all-sites-data/hybrid-2010-2015-raw-v1.parquet\n"
     ]
    }
   ],
   "source": [
    "# Load TFT data\n",
    "target_variable = 'GPP_NT_VUT_REF'\n",
    "data_df = get_raw_datasets(container, tft_raw_blob_name)\n",
    "\n",
    "# Load RFR Prediction\n",
    "rfr_pred_file = \"/root/co2-flux-hourly-gpp-modeling/.tmp/rfr_predict_230402_2323.pkl\" # TODO: Update if needed\n",
    "with open(rfr_pred_file, \"rb\") as fin:\n",
    "    print(f\"Load RFR prediction result from {rfr_pred_file}.\")\n",
    "    rfr_pred = pickle.load(fin)\n",
    "\n",
    "# Merge data\n",
    "data_df['rfr_pred_gpp'] = rfr_pred\n",
    "\n",
    "# Sanity Check\n",
    "# RMSE: 3.5836375355212176, MAE: 1.9214436397874508, R2/NSE: 0.7242334531705916\n",
    "rmse = np.sqrt(mean_squared_error(data_df[target_variable], data_df['rfr_pred_gpp']))\n",
    "mae = mean_absolute_error(data_df[target_variable], data_df['rfr_pred_gpp'])\n",
    "r2 = r2_score(data_df[target_variable], data_df['rfr_pred_gpp'])\n",
    "print(f\"RMSE: {rmse}, MAE: {mae}, R2/NSE: {r2}\")\n",
    "\n",
    "# Upload to cloud\n",
    "toUpload = True\n",
    "if toUpload:\n",
    "    parquet_file = BytesIO()\n",
    "    data_df.to_parquet(parquet_file, engine='pyarrow')\n",
    "    parquet_file.seek(0)\n",
    "\n",
    "    azStorageClient = AzStorageClient(az_cred_file)\n",
    "    azStorageClient.uploadBlob(container, hybrid_raw_blob_name, parquet_file, overwrite=True)"
   ]
  }
 ],
 "metadata": {
  "availableInstances": [
   {
    "_defaultOrder": 0,
    "_isFastLaunch": true,
    "category": "General purpose",
    "gpuNum": 0,
    "memoryGiB": 4,
    "name": "ml.t3.medium",
    "vcpuNum": 2
   },
   {
    "_defaultOrder": 1,
    "_isFastLaunch": false,
    "category": "General purpose",
    "gpuNum": 0,
    "memoryGiB": 8,
    "name": "ml.t3.large",
    "vcpuNum": 2
   },
   {
    "_defaultOrder": 2,
    "_isFastLaunch": false,
    "category": "General purpose",
    "gpuNum": 0,
    "memoryGiB": 16,
    "name": "ml.t3.xlarge",
    "vcpuNum": 4
   },
   {
    "_defaultOrder": 3,
    "_isFastLaunch": false,
    "category": "General purpose",
    "gpuNum": 0,
    "memoryGiB": 32,
    "name": "ml.t3.2xlarge",
    "vcpuNum": 8
   },
   {
    "_defaultOrder": 4,
    "_isFastLaunch": true,
    "category": "General purpose",
    "gpuNum": 0,
    "memoryGiB": 8,
    "name": "ml.m5.large",
    "vcpuNum": 2
   },
   {
    "_defaultOrder": 5,
    "_isFastLaunch": false,
    "category": "General purpose",
    "gpuNum": 0,
    "memoryGiB": 16,
    "name": "ml.m5.xlarge",
    "vcpuNum": 4
   },
   {
    "_defaultOrder": 6,
    "_isFastLaunch": false,
    "category": "General purpose",
    "gpuNum": 0,
    "memoryGiB": 32,
    "name": "ml.m5.2xlarge",
    "vcpuNum": 8
   },
   {
    "_defaultOrder": 7,
    "_isFastLaunch": false,
    "category": "General purpose",
    "gpuNum": 0,
    "memoryGiB": 64,
    "name": "ml.m5.4xlarge",
    "vcpuNum": 16
   },
   {
    "_defaultOrder": 8,
    "_isFastLaunch": false,
    "category": "General purpose",
    "gpuNum": 0,
    "memoryGiB": 128,
    "name": "ml.m5.8xlarge",
    "vcpuNum": 32
   },
   {
    "_defaultOrder": 9,
    "_isFastLaunch": false,
    "category": "General purpose",
    "gpuNum": 0,
    "memoryGiB": 192,
    "name": "ml.m5.12xlarge",
    "vcpuNum": 48
   },
   {
    "_defaultOrder": 10,
    "_isFastLaunch": false,
    "category": "General purpose",
    "gpuNum": 0,
    "memoryGiB": 256,
    "name": "ml.m5.16xlarge",
    "vcpuNum": 64
   },
   {
    "_defaultOrder": 11,
    "_isFastLaunch": false,
    "category": "General purpose",
    "gpuNum": 0,
    "memoryGiB": 384,
    "name": "ml.m5.24xlarge",
    "vcpuNum": 96
   },
   {
    "_defaultOrder": 12,
    "_isFastLaunch": false,
    "category": "General purpose",
    "gpuNum": 0,
    "memoryGiB": 8,
    "name": "ml.m5d.large",
    "vcpuNum": 2
   },
   {
    "_defaultOrder": 13,
    "_isFastLaunch": false,
    "category": "General purpose",
    "gpuNum": 0,
    "memoryGiB": 16,
    "name": "ml.m5d.xlarge",
    "vcpuNum": 4
   },
   {
    "_defaultOrder": 14,
    "_isFastLaunch": false,
    "category": "General purpose",
    "gpuNum": 0,
    "memoryGiB": 32,
    "name": "ml.m5d.2xlarge",
    "vcpuNum": 8
   },
   {
    "_defaultOrder": 15,
    "_isFastLaunch": false,
    "category": "General purpose",
    "gpuNum": 0,
    "memoryGiB": 64,
    "name": "ml.m5d.4xlarge",
    "vcpuNum": 16
   },
   {
    "_defaultOrder": 16,
    "_isFastLaunch": false,
    "category": "General purpose",
    "gpuNum": 0,
    "memoryGiB": 128,
    "name": "ml.m5d.8xlarge",
    "vcpuNum": 32
   },
   {
    "_defaultOrder": 17,
    "_isFastLaunch": false,
    "category": "General purpose",
    "gpuNum": 0,
    "memoryGiB": 192,
    "name": "ml.m5d.12xlarge",
    "vcpuNum": 48
   },
   {
    "_defaultOrder": 18,
    "_isFastLaunch": false,
    "category": "General purpose",
    "gpuNum": 0,
    "memoryGiB": 256,
    "name": "ml.m5d.16xlarge",
    "vcpuNum": 64
   },
   {
    "_defaultOrder": 19,
    "_isFastLaunch": false,
    "category": "General purpose",
    "gpuNum": 0,
    "memoryGiB": 384,
    "name": "ml.m5d.24xlarge",
    "vcpuNum": 96
   },
   {
    "_defaultOrder": 20,
    "_isFastLaunch": true,
    "category": "Compute optimized",
    "gpuNum": 0,
    "memoryGiB": 4,
    "name": "ml.c5.large",
    "vcpuNum": 2
   },
   {
    "_defaultOrder": 21,
    "_isFastLaunch": false,
    "category": "Compute optimized",
    "gpuNum": 0,
    "memoryGiB": 8,
    "name": "ml.c5.xlarge",
    "vcpuNum": 4
   },
   {
    "_defaultOrder": 22,
    "_isFastLaunch": false,
    "category": "Compute optimized",
    "gpuNum": 0,
    "memoryGiB": 16,
    "name": "ml.c5.2xlarge",
    "vcpuNum": 8
   },
   {
    "_defaultOrder": 23,
    "_isFastLaunch": false,
    "category": "Compute optimized",
    "gpuNum": 0,
    "memoryGiB": 32,
    "name": "ml.c5.4xlarge",
    "vcpuNum": 16
   },
   {
    "_defaultOrder": 24,
    "_isFastLaunch": false,
    "category": "Compute optimized",
    "gpuNum": 0,
    "memoryGiB": 72,
    "name": "ml.c5.9xlarge",
    "vcpuNum": 36
   },
   {
    "_defaultOrder": 25,
    "_isFastLaunch": false,
    "category": "Compute optimized",
    "gpuNum": 0,
    "memoryGiB": 96,
    "name": "ml.c5.12xlarge",
    "vcpuNum": 48
   },
   {
    "_defaultOrder": 26,
    "_isFastLaunch": false,
    "category": "Compute optimized",
    "gpuNum": 0,
    "memoryGiB": 144,
    "name": "ml.c5.18xlarge",
    "vcpuNum": 72
   },
   {
    "_defaultOrder": 27,
    "_isFastLaunch": false,
    "category": "Compute optimized",
    "gpuNum": 0,
    "memoryGiB": 192,
    "name": "ml.c5.24xlarge",
    "vcpuNum": 96
   },
   {
    "_defaultOrder": 28,
    "_isFastLaunch": true,
    "category": "Accelerated computing",
    "gpuNum": 1,
    "memoryGiB": 16,
    "name": "ml.g4dn.xlarge",
    "vcpuNum": 4
   },
   {
    "_defaultOrder": 29,
    "_isFastLaunch": false,
    "category": "Accelerated computing",
    "gpuNum": 1,
    "memoryGiB": 32,
    "name": "ml.g4dn.2xlarge",
    "vcpuNum": 8
   },
   {
    "_defaultOrder": 30,
    "_isFastLaunch": false,
    "category": "Accelerated computing",
    "gpuNum": 1,
    "memoryGiB": 64,
    "name": "ml.g4dn.4xlarge",
    "vcpuNum": 16
   },
   {
    "_defaultOrder": 31,
    "_isFastLaunch": false,
    "category": "Accelerated computing",
    "gpuNum": 1,
    "memoryGiB": 128,
    "name": "ml.g4dn.8xlarge",
    "vcpuNum": 32
   },
   {
    "_defaultOrder": 32,
    "_isFastLaunch": false,
    "category": "Accelerated computing",
    "gpuNum": 4,
    "memoryGiB": 192,
    "name": "ml.g4dn.12xlarge",
    "vcpuNum": 48
   },
   {
    "_defaultOrder": 33,
    "_isFastLaunch": false,
    "category": "Accelerated computing",
    "gpuNum": 1,
    "memoryGiB": 256,
    "name": "ml.g4dn.16xlarge",
    "vcpuNum": 64
   },
   {
    "_defaultOrder": 34,
    "_isFastLaunch": false,
    "category": "Accelerated computing",
    "gpuNum": 1,
    "memoryGiB": 61,
    "name": "ml.p3.2xlarge",
    "vcpuNum": 8
   },
   {
    "_defaultOrder": 35,
    "_isFastLaunch": false,
    "category": "Accelerated computing",
    "gpuNum": 4,
    "memoryGiB": 244,
    "name": "ml.p3.8xlarge",
    "vcpuNum": 32
   },
   {
    "_defaultOrder": 36,
    "_isFastLaunch": false,
    "category": "Accelerated computing",
    "gpuNum": 8,
    "memoryGiB": 488,
    "name": "ml.p3.16xlarge",
    "vcpuNum": 64
   },
   {
    "_defaultOrder": 37,
    "_isFastLaunch": false,
    "category": "Accelerated computing",
    "gpuNum": 8,
    "memoryGiB": 768,
    "name": "ml.p3dn.24xlarge",
    "vcpuNum": 96
   },
   {
    "_defaultOrder": 38,
    "_isFastLaunch": false,
    "category": "Memory Optimized",
    "gpuNum": 0,
    "memoryGiB": 16,
    "name": "ml.r5.large",
    "vcpuNum": 2
   },
   {
    "_defaultOrder": 39,
    "_isFastLaunch": false,
    "category": "Memory Optimized",
    "gpuNum": 0,
    "memoryGiB": 32,
    "name": "ml.r5.xlarge",
    "vcpuNum": 4
   },
   {
    "_defaultOrder": 40,
    "_isFastLaunch": false,
    "category": "Memory Optimized",
    "gpuNum": 0,
    "memoryGiB": 64,
    "name": "ml.r5.2xlarge",
    "vcpuNum": 8
   },
   {
    "_defaultOrder": 41,
    "_isFastLaunch": false,
    "category": "Memory Optimized",
    "gpuNum": 0,
    "memoryGiB": 128,
    "name": "ml.r5.4xlarge",
    "vcpuNum": 16
   },
   {
    "_defaultOrder": 42,
    "_isFastLaunch": false,
    "category": "Memory Optimized",
    "gpuNum": 0,
    "memoryGiB": 256,
    "name": "ml.r5.8xlarge",
    "vcpuNum": 32
   },
   {
    "_defaultOrder": 43,
    "_isFastLaunch": false,
    "category": "Memory Optimized",
    "gpuNum": 0,
    "memoryGiB": 384,
    "name": "ml.r5.12xlarge",
    "vcpuNum": 48
   },
   {
    "_defaultOrder": 44,
    "_isFastLaunch": false,
    "category": "Memory Optimized",
    "gpuNum": 0,
    "memoryGiB": 512,
    "name": "ml.r5.16xlarge",
    "vcpuNum": 64
   },
   {
    "_defaultOrder": 45,
    "_isFastLaunch": false,
    "category": "Memory Optimized",
    "gpuNum": 0,
    "memoryGiB": 768,
    "name": "ml.r5.24xlarge",
    "vcpuNum": 96
   },
   {
    "_defaultOrder": 46,
    "_isFastLaunch": false,
    "category": "Accelerated computing",
    "gpuNum": 1,
    "memoryGiB": 16,
    "name": "ml.g5.xlarge",
    "vcpuNum": 4
   },
   {
    "_defaultOrder": 47,
    "_isFastLaunch": false,
    "category": "Accelerated computing",
    "gpuNum": 1,
    "memoryGiB": 32,
    "name": "ml.g5.2xlarge",
    "vcpuNum": 8
   },
   {
    "_defaultOrder": 48,
    "_isFastLaunch": false,
    "category": "Accelerated computing",
    "gpuNum": 1,
    "memoryGiB": 64,
    "name": "ml.g5.4xlarge",
    "vcpuNum": 16
   },
   {
    "_defaultOrder": 49,
    "_isFastLaunch": false,
    "category": "Accelerated computing",
    "gpuNum": 1,
    "memoryGiB": 128,
    "name": "ml.g5.8xlarge",
    "vcpuNum": 32
   },
   {
    "_defaultOrder": 50,
    "_isFastLaunch": false,
    "category": "Accelerated computing",
    "gpuNum": 1,
    "memoryGiB": 256,
    "name": "ml.g5.16xlarge",
    "vcpuNum": 64
   },
   {
    "_defaultOrder": 51,
    "_isFastLaunch": false,
    "category": "Accelerated computing",
    "gpuNum": 4,
    "memoryGiB": 192,
    "name": "ml.g5.12xlarge",
    "vcpuNum": 48
   },
   {
    "_defaultOrder": 52,
    "_isFastLaunch": false,
    "category": "Accelerated computing",
    "gpuNum": 4,
    "memoryGiB": 384,
    "name": "ml.g5.24xlarge",
    "vcpuNum": 96
   },
   {
    "_defaultOrder": 53,
    "_isFastLaunch": false,
    "category": "Accelerated computing",
    "gpuNum": 8,
    "memoryGiB": 768,
    "name": "ml.g5.48xlarge",
    "vcpuNum": 192
   }
  ],
  "colab": {
   "collapsed_sections": [
    "9iocxvPI7Ctb"
   ],
   "provenance": []
  },
  "gpuClass": "standard",
  "instance_type": "ml.g4dn.12xlarge",
  "kernelspec": {
   "display_name": "Python [conda env:py310] (arn:aws:sagemaker:us-west-2:236514542706:image/datascience-1.0)",
   "language": "python",
   "name": "conda-env-py310-py__SAGEMAKER_INTERNAL__arn:aws:sagemaker:us-west-2:236514542706:image/datascience-1.0"
  },
  "language_info": {
   "codemirror_mode": {
    "name": "ipython",
    "version": 3
   },
   "file_extension": ".py",
   "mimetype": "text/x-python",
   "name": "python",
   "nbconvert_exporter": "python",
   "pygments_lexer": "ipython3",
   "version": "3.10.9"
  }
 },
 "nbformat": 4,
 "nbformat_minor": 4
}
