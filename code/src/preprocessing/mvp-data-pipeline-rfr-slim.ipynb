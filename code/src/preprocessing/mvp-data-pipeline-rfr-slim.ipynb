{
 "cells": [
  {
   "cell_type": "markdown",
   "id": "OA1ZkEPP3zLz",
   "metadata": {
    "id": "OA1ZkEPP3zLz"
   },
   "source": [
    "# Notebook Setup"
   ]
  },
  {
   "cell_type": "code",
   "execution_count": 2,
   "id": "f6c9a282",
   "metadata": {
    "tags": []
   },
   "outputs": [],
   "source": [
    "#TODO: CHANGE THIS BASED ON YOUR OWN LOCAL SETTINGS\n",
    "#MY_HOME_ABS_PATH = \"/Users/jetcalz07/Desktop/MIDS/W210_Capstone/co2-flux-hourly-gpp-modeling\"\n",
    "MY_HOME_ABS_PATH = \"/root/co2-flux-hourly-gpp-modeling\""
   ]
  },
  {
   "cell_type": "code",
   "execution_count": 3,
   "id": "ko8n8_z9pkBE",
   "metadata": {
    "colab": {
     "base_uri": "https://localhost:8080/"
    },
    "executionInfo": {
     "elapsed": 20193,
     "status": "ok",
     "timestamp": 1678533146889,
     "user": {
      "displayName": "Mary Chau",
      "userId": "14027067063095206122"
     },
     "user_tz": 480
    },
    "id": "ko8n8_z9pkBE",
    "outputId": "3283f521-a15c-4178-a58f-b88c96cf9ee9",
    "tags": []
   },
   "outputs": [],
   "source": [
    "if 'google.colab' in str(get_ipython()):\n",
    "  IN_COLLAB = True\n",
    "  from google.colab import drive\n",
    "  drive.mount('/content/drive/')\n",
    "else:\n",
    "  IN_COLLAB = False"
   ]
  },
  {
   "cell_type": "markdown",
   "id": "WQOpIAzZ32Ek",
   "metadata": {
    "id": "WQOpIAzZ32Ek"
   },
   "source": [
    "## Import Modules"
   ]
  },
  {
   "cell_type": "code",
   "execution_count": 4,
   "id": "be2d4d6a",
   "metadata": {
    "colab": {
     "base_uri": "https://localhost:8080/"
    },
    "executionInfo": {
     "elapsed": 10058,
     "status": "ok",
     "timestamp": 1678533156939,
     "user": {
      "displayName": "Mary Chau",
      "userId": "14027067063095206122"
     },
     "user_tz": 480
    },
    "id": "be2d4d6a",
    "outputId": "ead312f6-6d4d-4499-9777-700dcaa9b38c",
    "tags": []
   },
   "outputs": [],
   "source": [
    "import os\n",
    "os.environ[\"PYARROW_IGNORE_TIMEZONE\"] = \"1\"\n",
    "import pandas as pd\n",
    "import numpy as np\n",
    "import sys\n",
    "import joblib\n",
    "from io import BytesIO\n",
    "from sklearn.model_selection import StratifiedKFold\n",
    "\n",
    "# Load locale custome modules\n",
    "os.chdir(MY_HOME_ABS_PATH)\n",
    "if IN_COLLAB:\n",
    "    sys.path.insert(0,os.path.abspath(\"./code/src/tools\"))\n",
    "else:\n",
    "    sys.path.append(os.path.abspath(\"./code/src/tools\"))\n",
    "\n",
    "from CloudIO.AzStorageClient import AzStorageClient\n",
    "from data_pipeline_lib import *\n",
    "\n",
    "pd.set_option('display.max_columns', None)\n",
    "pd.set_option('display.float_format', lambda x: '%.5f' % x)"
   ]
  },
  {
   "cell_type": "markdown",
   "id": "O4RveeAZ3qm8",
   "metadata": {
    "id": "O4RveeAZ3qm8"
   },
   "source": [
    "# Define Constants"
   ]
  },
  {
   "cell_type": "code",
   "execution_count": 5,
   "id": "8652c8af",
   "metadata": {
    "executionInfo": {
     "elapsed": 10,
     "status": "ok",
     "timestamp": 1678533156940,
     "user": {
      "displayName": "Mary Chau",
      "userId": "14027067063095206122"
     },
     "user_tz": 480
    },
    "id": "8652c8af",
    "tags": []
   },
   "outputs": [],
   "source": [
    "root_dir =  MY_HOME_ABS_PATH\n",
    "tmp_dir =  root_dir + os.sep + '.tmp'\n",
    "raw_data_dir = tmp_dir\n",
    "data_dir = root_dir + os.sep + 'data'\n",
    "cred_dir = root_dir + os.sep + '.cred'\n",
    "az_cred_file = cred_dir + os.sep + 'azblobcred.json'\n",
    "preproc_objects_dir = root_dir + os.sep + 'code' + os.sep + 'src' + os.sep + 'preprocessing' + os.sep + 'preproc_objects'\n",
    "\n",
    "if IN_COLLAB:\n",
    "    raw_data_dir = \"/content/drive/MyDrive/W210/Data/half_hourly_data\"\n",
    "\n",
    "# Input files\n",
    "site_metadata_filename = data_dir + os.sep + 'site-metadata.csv'\n",
    "monthly_data_filename = data_dir + os.sep + \"monthly-mvp-v2.csv\"\n",
    "split_dict_filename = preproc_objects_dir + os.sep + \"stratified_splits_k5.joblib\"\n",
    "\n",
    "# Output file naming\n",
    "container = \"all-sites-data\"\n",
    "ext = \"parquet\"\n",
    "ver = \"slim-features-v1\"\n",
    "model = \"tft\"\n",
    "tag = \"raw\"\n",
    "blob_name_base = f\"{model}-full_2010_2015_v_{ver}\"\n",
    "blob_name = f\"{blob_name_base}_{tag}.{ext}\"\n",
    "train_blob_name = f\"{model}-full_2010_2015-train-v-{ver}.{ext}\"\n",
    "val_blob_name = f\"{model}-full_2010_2015-val-v-{ver}.{ext}\"\n",
    "test_blob_name = f\"{model}-full_2010_2015-test-v-{ver}.{ext}\""
   ]
  },
  {
   "cell_type": "code",
   "execution_count": 6,
   "id": "VEPrPTsIP-6v",
   "metadata": {
    "executionInfo": {
     "elapsed": 9,
     "status": "ok",
     "timestamp": 1678533156940,
     "user": {
      "displayName": "Mary Chau",
      "userId": "14027067063095206122"
     },
     "user_tz": 480
    },
    "id": "VEPrPTsIP-6v",
    "tags": []
   },
   "outputs": [],
   "source": [
    "# Define features and target variables of the data pipelines\n",
    "target_variable = 'GPP_NT_VUT_REF'\n",
    "hourly_features = ['TA_ERA', 'SW_IN_ERA', 'LW_IN_ERA', 'VPD_ERA', 'P_ERA', 'PA_ERA',\n",
    "                     'datetime', 'year', 'month', 'day', 'hour', 'date', # <---- will remove unused date features after preproc\n",
    "                     'EVI', 'NDVI', 'NIRv', 'b1', 'b2', 'b3', 'b4', 'b5', 'b6', 'b7']\n",
    "msc_features = None\n",
    "monthly_features = ['ESACCI-sm', 'BESS-RSDN']\n",
    "metadata_features = ['site_id', 'filename', 'koppen_main', 'monthly_data_available']\n",
    "precip_sum_features = False\n",
    "\n",
    "# Define the features to use in KNN imputer, only using real values as cat are same per site\n",
    "imp_exclude_cols = ['date', 'datetime', 'year', 'month', 'hour', 'day', 'minute', 'site_id', 'IGBP']\n",
    "imp_cols = [x for x in hourly_features + ['GPP_NT_VUT_REF'] if x not in imp_exclude_cols]"
   ]
  },
  {
   "cell_type": "markdown",
   "id": "bIoy86rH4hRH",
   "metadata": {
    "id": "bIoy86rH4hRH"
   },
   "source": [
    "# Stage 1: Trim and Merge Site Metadata"
   ]
  },
  {
   "cell_type": "code",
   "execution_count": 7,
   "id": "fab0c08a",
   "metadata": {
    "colab": {
     "base_uri": "https://localhost:8080/"
    },
    "executionInfo": {
     "elapsed": 27,
     "status": "ok",
     "timestamp": 1678518922905,
     "user": {
      "displayName": "M C",
      "userId": "04433644267338205634"
     },
     "user_tz": 480
    },
    "id": "fab0c08a",
    "outputId": "23634180-e15f-4cfc-a4a8-e12783f7eb80",
    "tags": []
   },
   "outputs": [],
   "source": [
    "# Define imput params\n",
    "impute = True\n",
    "impute_method = 'knn'\n",
    "impute_global = True\n",
    "resample = True\n",
    "time_col = 'datetime'\n",
    "duration = 'H'\n",
    "\n",
    "# Filter sequence to date range\n",
    "missing_thresh = 0.2\n",
    "start_date = '2010-01-01'\n",
    "end_date ='2015-12-31'\n",
    "\n",
    "# Impute params (if used)\n",
    "k=5\n",
    "weights='uniform'\n",
    "n_fit=20000\n",
    "c=-1"
   ]
  },
  {
   "cell_type": "code",
   "execution_count": null,
   "id": "5fb2d575",
   "metadata": {
    "colab": {
     "base_uri": "https://localhost:8080/"
    },
    "executionInfo": {
     "elapsed": 3456202,
     "status": "ok",
     "timestamp": 1678522379084,
     "user": {
      "displayName": "M C",
      "userId": "04433644267338205634"
     },
     "user_tz": 480
    },
    "id": "5fb2d575",
    "outputId": "ae040623-0f4d-4035-cb9a-14a4797428f8",
    "tags": []
   },
   "outputs": [
    {
     "name": "stdout",
     "output_type": "stream",
     "text": [
      "Sites with missing monthly data: 43\n",
      "1. AR-SLu: (10800, 27)\n",
      "2. AR-Vir: (20448, 27)\n",
      "3. AT-Neu: (26304, 27)\n",
      "4. AU-ASM: (37944, 27)\n",
      "AU-Ade has less than 1 year of remaining sequences\n",
      "AU-Cpr has too many gaps, missing % = 0.20757180156657964\n",
      "7. AU-Cum: (19296, 27)\n",
      "8. AU-DaP: (32304, 27)\n",
      "9. AU-DaS: (43824, 27)\n",
      "AU-Dry has too many gaps, missing % = 0.2732749178532311\n",
      "11. AU-Emr: (22464, 27)\n",
      "AU-Fog has less than 1 year of remaining sequences\n",
      "13. AU-Gin: (28200, 27)\n",
      "14. AU-How: (43824, 27)\n",
      "15. AU-RDF: (16008, 27)\n",
      "16. AU-Rig: (35064, 27)\n",
      "17. AU-Stp: (43824, 27)\n",
      "18. AU-TTE: (21528, 27)\n",
      "SKIP: AU-Tum is missing hourly data.\n",
      "AU-Wac has less than 1 year of remaining sequences\n",
      "21. AU-Whr: (27024, 27)\n",
      "22. AU-Wom: (43296, 27)\n",
      "AU-Ync has too many gaps, missing % = 0.3057644110275689\n",
      "SKIP: BR-Sa1 is missing hourly data.\n",
      "BR-Sa3 has less than 1 year of remaining sequences\n",
      "CA-Man has less than 1 year of remaining sequences\n",
      "CA-NS4 has less than 1 year of remaining sequences\n",
      "CA-NS7 has less than 1 year of remaining sequences\n",
      "29. CA-Oas: (8760, 27)\n",
      "CA-Obs has less than 1 year of remaining sequences\n",
      "CA-SF1 has less than 1 year of remaining sequences\n",
      "CA-SF3 has less than 1 year of remaining sequences\n",
      "33. CA-TP1: (43512, 27)\n",
      "CA-TP2 has less than 1 year of remaining sequences\n",
      "35. CA-TP3: (43512, 27)\n",
      "36. CA-TPD: (25992, 27)\n",
      "CG-Tch has less than 1 year of remaining sequences\n",
      "CH-Oe1 has less than 1 year of remaining sequences\n",
      "CN-Cha has less than 1 year of remaining sequences\n",
      "CN-Cng has less than 1 year of remaining sequences\n",
      "CN-Din has less than 1 year of remaining sequences\n",
      "CN-Du2 has less than 1 year of remaining sequences\n",
      "CN-Ha2 has less than 1 year of remaining sequences\n",
      "CN-HaM has less than 1 year of remaining sequences\n",
      "CN-Qia has less than 1 year of remaining sequences\n",
      "  Column(s) with only NAN: ['b6']\n",
      "46. CN-Sw2: (9600, 27)\n",
      "47. CZ-BK2: (26304, 27)\n",
      "DE-Lkb has too many gaps, missing % = 0.25090645395213923\n",
      "49. DE-Lnf: (26304, 27)\n",
      "DE-Seh has less than 1 year of remaining sequences\n",
      "51. DE-SfN: (21840, 27)\n",
      "52. DE-Spw: (40080, 27)\n",
      "DK-Eng has less than 1 year of remaining sequences\n",
      "54. ES-Amo: (26304, 27)\n",
      "ES-LgS has less than 1 year of remaining sequences\n",
      "FI-Jok has less than 1 year of remaining sequences\n",
      "FI-Lom has less than 1 year of remaining sequences\n",
      "58. FI-Sod: (43824, 27)\n",
      "FR-LBr has less than 1 year of remaining sequences\n",
      "60. FR-Pue: (43824, 27)\n",
      "GH-Ank has too many gaps, missing % = 0.4784791965566714\n",
      "GL-NuF has too many gaps, missing % = 0.5693196405648266\n",
      "GL-ZaF has less than 1 year of remaining sequences\n",
      "GL-ZaH has too many gaps, missing % = 0.5104039167686658\n",
      "65. IT-CA1: (30936, 27)\n",
      "66. IT-CA2: (30096, 27)\n",
      "67. IT-CA3: (26712, 27)\n",
      "IT-Col has too many gaps, missing % = 0.23822562979189485\n",
      "IT-Cpz has less than 1 year of remaining sequences\n",
      "IT-La2 has less than 1 year of remaining sequences\n",
      "71. IT-Noe: (41712, 27)\n",
      "IT-PT1 has less than 1 year of remaining sequences\n",
      "IT-Ro1 has less than 1 year of remaining sequences\n",
      "74. IT-Ro2: (26136, 27)\n",
      "75. IT-SRo: (26304, 27)\n",
      "JP-MBF has less than 1 year of remaining sequences\n",
      "JP-SMF has less than 1 year of remaining sequences\n",
      "MY-PSO has less than 1 year of remaining sequences\n",
      "79. NL-Hor: (14736, 27)\n",
      "PA-SPn has less than 1 year of remaining sequences\n",
      "PA-SPs has less than 1 year of remaining sequences\n",
      "RU-Che has less than 1 year of remaining sequences\n",
      "RU-Cok has too many gaps, missing % = 0.6715927750410509\n",
      "RU-Ha1 has less than 1 year of remaining sequences\n",
      "SD-Dem has less than 1 year of remaining sequences\n",
      "SJ-Adv has too many gaps, missing % = 0.5657015590200446\n",
      "SN-Dhr has too many gaps, missing % = 0.4466720128307939\n",
      "US-Atq has less than 1 year of remaining sequences\n",
      "US-Blo has less than 1 year of remaining sequences\n",
      "SKIP: US-Cop is missing hourly data.\n",
      "US-GBT has less than 1 year of remaining sequences\n",
      "92. US-GLE: (43824, 27)\n",
      "US-Goo has less than 1 year of remaining sequences\n",
      "SKIP: US-Ha1 is missing hourly data.\n",
      "95. US-IB2: (17520, 27)\n",
      "US-Ivo has less than 1 year of remaining sequences\n",
      "US-KS2 has less than 1 year of remaining sequences\n",
      "US-Los has too many gaps, missing % = 0.7159023228111971\n",
      "US-Me3 has less than 1 year of remaining sequences\n",
      "US-Me5 has less than 1 year of remaining sequences\n",
      "101. US-Me6: (40104, 27)\n",
      "102. US-Myb: (34152, 27)\n",
      "103. US-NR1: (43824, 27)\n",
      "SKIP: US-Ne1 is missing hourly data.\n",
      "SKIP: US-Ne2 is missing hourly data.\n",
      "SKIP: US-Ne3 is missing hourly data.\n",
      "SKIP: US-PFa is missing hourly data.\n",
      "US-SRC has too many gaps, missing % = 0.2062423500611995\n",
      "109. US-SRM: (43824, 27)\n",
      "US-Sta has less than 1 year of remaining sequences\n",
      "111. US-Syv: (23352, 27)\n",
      "112. US-Ton: (43824, 27)\n",
      "113. US-Twt: (43008, 27)\n",
      "114. US-Var: (43824, 27)\n",
      "115. US-WCr: (35904, 27)\n",
      "116. US-WPT: (26304, 27)\n",
      "117. US-Whs: (43824, 27)\n",
      "US-Wi3 has less than 1 year of remaining sequences\n",
      "US-Wi4 has less than 1 year of remaining sequences\n",
      "120. US-Wkg: (43824, 27)\n",
      "ZM-Mon has less than 1 year of remaining sequences\n",
      "  Column(s) with only NAN: ['b6']\n",
      "122. CA-Ca1: (8760, 27)\n",
      "  Column(s) with only NAN: ['b6']\n",
      "123. CA-Ca2: (8760, 27)\n",
      "  Column(s) with only NAN: ['b6']\n",
      "124. CA-Ca3: (8760, 27)\n",
      "125. CA-Cbo: (43824, 27)\n",
      "126. CA-Gro: (38328, 27)\n",
      "CA-NS1 has less than 1 year of remaining sequences\n",
      "CA-NS2 has less than 1 year of remaining sequences\n",
      "CA-NS3 has less than 1 year of remaining sequences\n",
      "CA-NS5 has less than 1 year of remaining sequences\n",
      "CA-NS6 has less than 1 year of remaining sequences\n",
      "CA-Qc2 has less than 1 year of remaining sequences\n",
      "CA-Qfo has less than 1 year of remaining sequences\n",
      "CA-SF2 has less than 1 year of remaining sequences\n",
      "CA-SJ2 has less than 1 year of remaining sequences\n",
      "136. CA-TP4: (52584, 27)\n",
      "CA-WP1 has less than 1 year of remaining sequences\n",
      "CA-WP2 has less than 1 year of remaining sequences\n",
      "CA-WP3 has less than 1 year of remaining sequences\n",
      "140. US-AR1: (26304, 27)\n",
      "141. US-AR2: (22680, 27)\n",
      "142. US-ARM: (52584, 27)\n",
      "143. US-Bar: (52584, 27)\n",
      "144. US-CRT: (26304, 27)\n",
      "US-Dk1 has less than 1 year of remaining sequences\n",
      "US-Dk2 has less than 1 year of remaining sequences\n",
      "US-Dk3 has less than 1 year of remaining sequences\n",
      "US-FR2 has less than 1 year of remaining sequences\n",
      "  Column(s) with only NAN: ['b6']\n",
      "149. US-Fmf: (8760, 27)\n",
      "US-Fuf has less than 1 year of remaining sequences\n",
      "151. US-Ho1: (46680, 27)\n",
      "152. US-KFS: (52584, 27)\n",
      "SKIP: US-MMS is missing hourly data.\n",
      "US-Me2 has too many gaps, missing % = 0.20219078046554084\n",
      "155. US-Mpj: (52584, 27)\n",
      "156. US-Oho: (35064, 27)\n",
      "157. US-Prr: (45360, 27)\n",
      "US-Rls has too many gaps, missing % = 0.20964360587002095\n",
      "US-Rms has too many gaps, missing % = 0.211864406779661\n",
      "160. US-Ro1: (52584, 27)\n",
      "US-Ro4 has too many gaps, missing % = 0.21506849315068494\n",
      "  Column(s) with only NAN: ['b6']\n",
      "162. US-Rws: (10920, 27)\n",
      "163. US-SRG: (52584, 27)\n",
      "164. US-Seg: (52584, 27)\n",
      "165. US-Ses: (52584, 27)\n",
      "US-Tw1 has too many gaps, missing % = 0.34769947582993593\n",
      "167. US-Tw4: (14496, 27)\n"
     ]
    }
   ],
   "source": [
    "prep_hourly = PrepareAllSitesHourly(site_metadata_filename, monthly_data_filename, \n",
    "                                    hourly_features, metadata_features, target_variable, raw_data_dir,\n",
    "                                    msc_features=msc_features, precip_sum_features=precip_sum_features,\n",
    "                                    monthly_features=monthly_features)\n",
    "\n",
    "data_df = prep_hourly.all_sites_all_sources(imp_cols, resample, impute, impute_method, impute_global,\n",
    "                                            k, weights, n_fit, time_col, duration, start_date, end_date, missing_thresh, c)"
   ]
  },
  {
   "cell_type": "code",
   "execution_count": null,
   "id": "f7e3140a-9132-4e8f-8239-b4703cbb7a27",
   "metadata": {
    "tags": []
   },
   "outputs": [],
   "source": [
    "# Drop year column\n",
    "data_df.drop(['year', 'date', 'day'], axis=1, inplace=True)"
   ]
  },
  {
   "cell_type": "code",
   "execution_count": null,
   "id": "h6UwtFm1gCwJ",
   "metadata": {
    "id": "h6UwtFm1gCwJ",
    "tags": []
   },
   "outputs": [],
   "source": [
    "if data_df.isna().sum().sum() != 0:\n",
    "  display(data_df[data_df.isna().any(axis=1)].groupby(['site_id', 'year', 'month']).count())\n",
    "  display(pd.DataFrame(data_df.isna().sum()).T)"
   ]
  },
  {
   "cell_type": "code",
   "execution_count": null,
   "id": "6ced7ba7",
   "metadata": {
    "colab": {
     "base_uri": "https://localhost:8080/"
    },
    "executionInfo": {
     "elapsed": 16,
     "status": "ok",
     "timestamp": 1678522380446,
     "user": {
      "displayName": "M C",
      "userId": "04433644267338205634"
     },
     "user_tz": 480
    },
    "id": "6ced7ba7",
    "outputId": "318b4257-2bf1-4667-b244-509b19206a02",
    "tags": []
   },
   "outputs": [],
   "source": [
    "# Get the memory usage of the dataframe in bytes\n",
    "memory_usage = data_df.memory_usage().sum()\n",
    "memory_usage_gb = memory_usage / 1_000_000_000\n",
    "print(f\"The dataframe uses {memory_usage_gb:.2f} GB of memory.\")"
   ]
  },
  {
   "cell_type": "markdown",
   "id": "qIgEoFtJeRUC",
   "metadata": {
    "id": "qIgEoFtJeRUC"
   },
   "source": [
    "### Checkpoint: Save full raw data"
   ]
  },
  {
   "cell_type": "code",
   "execution_count": null,
   "id": "BS5VAxTAd_O1",
   "metadata": {
    "executionInfo": {
     "elapsed": 9,
     "status": "ok",
     "timestamp": 1678533156941,
     "user": {
      "displayName": "Mary Chau",
      "userId": "14027067063095206122"
     },
     "user_tz": 480
    },
    "id": "BS5VAxTAd_O1",
    "tags": []
   },
   "outputs": [],
   "source": [
    "# Upload data_df checkpoint to Azure Storage Blob\n",
    "# ref: https://stackoverflow.com/a/54666079\n",
    "data_cleanup_checkpoint = True\n",
    "\n",
    "if data_cleanup_checkpoint:\n",
    "    parquet_file = BytesIO()\n",
    "    data_df.to_parquet(parquet_file, engine='pyarrow')\n",
    "    parquet_file.seek(0)\n",
    "\n",
    "    azStorageClient = AzStorageClient(az_cred_file)\n",
    "    azStorageClient.uploadBlob(container, blob_name, parquet_file, overwrite=True)"
   ]
  },
  {
   "cell_type": "markdown",
   "id": "d9218bfb-d6f9-4c1f-9c71-fc039502264d",
   "metadata": {},
   "source": [
    "## Load from Checkpoint"
   ]
  },
  {
   "cell_type": "code",
   "execution_count": null,
   "id": "r-33pSJElODS",
   "metadata": {
    "colab": {
     "base_uri": "https://localhost:8080/"
    },
    "executionInfo": {
     "elapsed": 2361,
     "status": "ok",
     "timestamp": 1678533338302,
     "user": {
      "displayName": "Mary Chau",
      "userId": "14027067063095206122"
     },
     "user_tz": 480
    },
    "id": "r-33pSJElODS",
    "outputId": "f5e1de70-8b92-4eae-f196-600d5ca38cb2",
    "tags": []
   },
   "outputs": [],
   "source": [
    "# (Optional) Load data_df from Azure checkpoint\n",
    "load_data_checkpoint = False\n",
    "\n",
    "if load_data_checkpoint:\n",
    "    data_df = None\n",
    "    local_file = tmp_dir + os.sep + blob_name \n",
    "    if not (os.path.exists(local_file)): # <--- when would this ever be true?\n",
    "        azStorageClient = AzStorageClient(az_cred_file)\n",
    "        file_stream = azStorageClient.downloadBlob2Stream(container, blob_name)\n",
    "        data_df = pd.read_parquet(file_stream, engine='pyarrow')\n",
    "        data_df.to_parquet(local_file)\n",
    "    else:\n",
    "        data_df = pd.read_parquet(local_file)\n",
    "\n",
    "    print(f\"Data size: {data_df.shape}\")"
   ]
  },
  {
   "cell_type": "markdown",
   "id": "sye3PgjxW5t6",
   "metadata": {
    "id": "sye3PgjxW5t6"
   },
   "source": [
    "## Load Train/Val/Test Split"
   ]
  },
  {
   "cell_type": "code",
   "execution_count": null,
   "id": "137ea851",
   "metadata": {
    "tags": []
   },
   "outputs": [],
   "source": [
    "# Load split dict from preprocessing/stratified-splits.ipynb\n",
    "split_dict = joblib.load(split_dict_filename)\n",
    "\n",
    "# Assign folds to train-val-test splits (for MVP)\n",
    "train_folds = [x for x in range(1, split_dict['NUM_FOLDS']+1) if (x != split_dict['VAL_INDEX']) & (x != split_dict['TEST_INDEX'])]\n",
    "train_sites = [z for x in train_folds for z in split_dict[f\"fold_{x}\"] ]\n",
    "val_sites = split_dict[f\"fold_{split_dict['VAL_INDEX']}\"]\n",
    "test_sites = split_dict[f\"fold_{split_dict['TEST_INDEX']}\"]\n",
    "\n",
    "total_sites = len(train_sites) + len(val_sites) + len(test_sites)\n",
    "print(f\"# train/val/test sites: {len(train_sites)}/{len(val_sites)}/{len(test_sites)}\")\n",
    "print(f\"% train/val/test sites: {len(train_sites)/total_sites:.3f}/{len(val_sites)/total_sites:.3f}/{len(test_sites)/total_sites:.3f}\")"
   ]
  },
  {
   "cell_type": "markdown",
   "id": "4c6b7616",
   "metadata": {},
   "source": [
    "## Data Transformation"
   ]
  },
  {
   "cell_type": "code",
   "execution_count": null,
   "id": "e06ee39d",
   "metadata": {
    "tags": []
   },
   "outputs": [],
   "source": [
    "raw_data_file_path = None\n",
    "model_name = 'rfr-mvp-v2-slim'\n",
    "data_transformer = TFTDataTransformer(train_sites, val_sites, test_sites, model_name, raw_data_file_path, data_df, preproc_objects_dir)"
   ]
  },
  {
   "cell_type": "code",
   "execution_count": null,
   "id": "f250a597",
   "metadata": {
    "tags": []
   },
   "outputs": [],
   "source": [
    "categorical_cols = ['c3c4', 'koppen_sub', 'koppen_main', 'month', 'day', 'hour', \n",
    "                    'MODIS_PFT', 'MODIS_LC', 'MODIS_IGBP', 'hemisphere_NS', 'lat_band']\n",
    "realNum_cols = ['TA_ERA', 'SW_IN_ERA', 'LW_IN_ERA', 'VPD_ERA', 'P_ERA', 'PA_ERA', \n",
    "                'EVI', 'NDVI', 'NIRv', 'b1', 'b2', 'b3', 'b4', 'b5', 'b6', 'b7',\n",
    "                'c4_percent', 'BESS-PAR', 'BESS-PARdiff', 'BESS-RSDN', 'CSIF-SIFdaily',\n",
    "                'PET', 'Ts', 'ESACCI-sm', 'NDWI', 'Percent_Snow', 'Fpar', 'Lai',\n",
    "                'LST_Day', 'LST_Night', 'prcp', 'prcp-lag3'] + \\\n",
    "                [f\"{feat}{ext}\" for feat in msc_features for ext in [\"_szn_mean\", \"_amp_msc\", \"_min_msc\"]]\n",
    "data_transformer.data_transform(categorical_cols, realNum_cols, cat_encode_type='dummy')\n",
    "\n",
    "print(\"\\nTrain data peak:\")\n",
    "display(data_transformer.train_df.head(2))"
   ]
  },
  {
   "cell_type": "code",
   "execution_count": null,
   "id": "74a3d356",
   "metadata": {
    "tags": []
   },
   "outputs": [],
   "source": [
    "final_checkpoint = True\n",
    "\n",
    "if final_checkpoint:\n",
    "    data_transformer.upload_train_test_to_azure(az_cred_file, container, train_blob_name, val_blob_name, test_blob_name)"
   ]
  },
  {
   "cell_type": "code",
   "execution_count": null,
   "id": "c6c2fabd",
   "metadata": {},
   "outputs": [],
   "source": []
  }
 ],
 "metadata": {
  "availableInstances": [
   {
    "_defaultOrder": 0,
    "_isFastLaunch": true,
    "category": "General purpose",
    "gpuNum": 0,
    "memoryGiB": 4,
    "name": "ml.t3.medium",
    "vcpuNum": 2
   },
   {
    "_defaultOrder": 1,
    "_isFastLaunch": false,
    "category": "General purpose",
    "gpuNum": 0,
    "memoryGiB": 8,
    "name": "ml.t3.large",
    "vcpuNum": 2
   },
   {
    "_defaultOrder": 2,
    "_isFastLaunch": false,
    "category": "General purpose",
    "gpuNum": 0,
    "memoryGiB": 16,
    "name": "ml.t3.xlarge",
    "vcpuNum": 4
   },
   {
    "_defaultOrder": 3,
    "_isFastLaunch": false,
    "category": "General purpose",
    "gpuNum": 0,
    "memoryGiB": 32,
    "name": "ml.t3.2xlarge",
    "vcpuNum": 8
   },
   {
    "_defaultOrder": 4,
    "_isFastLaunch": true,
    "category": "General purpose",
    "gpuNum": 0,
    "memoryGiB": 8,
    "name": "ml.m5.large",
    "vcpuNum": 2
   },
   {
    "_defaultOrder": 5,
    "_isFastLaunch": false,
    "category": "General purpose",
    "gpuNum": 0,
    "memoryGiB": 16,
    "name": "ml.m5.xlarge",
    "vcpuNum": 4
   },
   {
    "_defaultOrder": 6,
    "_isFastLaunch": false,
    "category": "General purpose",
    "gpuNum": 0,
    "memoryGiB": 32,
    "name": "ml.m5.2xlarge",
    "vcpuNum": 8
   },
   {
    "_defaultOrder": 7,
    "_isFastLaunch": false,
    "category": "General purpose",
    "gpuNum": 0,
    "memoryGiB": 64,
    "name": "ml.m5.4xlarge",
    "vcpuNum": 16
   },
   {
    "_defaultOrder": 8,
    "_isFastLaunch": false,
    "category": "General purpose",
    "gpuNum": 0,
    "memoryGiB": 128,
    "name": "ml.m5.8xlarge",
    "vcpuNum": 32
   },
   {
    "_defaultOrder": 9,
    "_isFastLaunch": false,
    "category": "General purpose",
    "gpuNum": 0,
    "memoryGiB": 192,
    "name": "ml.m5.12xlarge",
    "vcpuNum": 48
   },
   {
    "_defaultOrder": 10,
    "_isFastLaunch": false,
    "category": "General purpose",
    "gpuNum": 0,
    "memoryGiB": 256,
    "name": "ml.m5.16xlarge",
    "vcpuNum": 64
   },
   {
    "_defaultOrder": 11,
    "_isFastLaunch": false,
    "category": "General purpose",
    "gpuNum": 0,
    "memoryGiB": 384,
    "name": "ml.m5.24xlarge",
    "vcpuNum": 96
   },
   {
    "_defaultOrder": 12,
    "_isFastLaunch": false,
    "category": "General purpose",
    "gpuNum": 0,
    "memoryGiB": 8,
    "name": "ml.m5d.large",
    "vcpuNum": 2
   },
   {
    "_defaultOrder": 13,
    "_isFastLaunch": false,
    "category": "General purpose",
    "gpuNum": 0,
    "memoryGiB": 16,
    "name": "ml.m5d.xlarge",
    "vcpuNum": 4
   },
   {
    "_defaultOrder": 14,
    "_isFastLaunch": false,
    "category": "General purpose",
    "gpuNum": 0,
    "memoryGiB": 32,
    "name": "ml.m5d.2xlarge",
    "vcpuNum": 8
   },
   {
    "_defaultOrder": 15,
    "_isFastLaunch": false,
    "category": "General purpose",
    "gpuNum": 0,
    "memoryGiB": 64,
    "name": "ml.m5d.4xlarge",
    "vcpuNum": 16
   },
   {
    "_defaultOrder": 16,
    "_isFastLaunch": false,
    "category": "General purpose",
    "gpuNum": 0,
    "memoryGiB": 128,
    "name": "ml.m5d.8xlarge",
    "vcpuNum": 32
   },
   {
    "_defaultOrder": 17,
    "_isFastLaunch": false,
    "category": "General purpose",
    "gpuNum": 0,
    "memoryGiB": 192,
    "name": "ml.m5d.12xlarge",
    "vcpuNum": 48
   },
   {
    "_defaultOrder": 18,
    "_isFastLaunch": false,
    "category": "General purpose",
    "gpuNum": 0,
    "memoryGiB": 256,
    "name": "ml.m5d.16xlarge",
    "vcpuNum": 64
   },
   {
    "_defaultOrder": 19,
    "_isFastLaunch": false,
    "category": "General purpose",
    "gpuNum": 0,
    "memoryGiB": 384,
    "name": "ml.m5d.24xlarge",
    "vcpuNum": 96
   },
   {
    "_defaultOrder": 20,
    "_isFastLaunch": true,
    "category": "Compute optimized",
    "gpuNum": 0,
    "memoryGiB": 4,
    "name": "ml.c5.large",
    "vcpuNum": 2
   },
   {
    "_defaultOrder": 21,
    "_isFastLaunch": false,
    "category": "Compute optimized",
    "gpuNum": 0,
    "memoryGiB": 8,
    "name": "ml.c5.xlarge",
    "vcpuNum": 4
   },
   {
    "_defaultOrder": 22,
    "_isFastLaunch": false,
    "category": "Compute optimized",
    "gpuNum": 0,
    "memoryGiB": 16,
    "name": "ml.c5.2xlarge",
    "vcpuNum": 8
   },
   {
    "_defaultOrder": 23,
    "_isFastLaunch": false,
    "category": "Compute optimized",
    "gpuNum": 0,
    "memoryGiB": 32,
    "name": "ml.c5.4xlarge",
    "vcpuNum": 16
   },
   {
    "_defaultOrder": 24,
    "_isFastLaunch": false,
    "category": "Compute optimized",
    "gpuNum": 0,
    "memoryGiB": 72,
    "name": "ml.c5.9xlarge",
    "vcpuNum": 36
   },
   {
    "_defaultOrder": 25,
    "_isFastLaunch": false,
    "category": "Compute optimized",
    "gpuNum": 0,
    "memoryGiB": 96,
    "name": "ml.c5.12xlarge",
    "vcpuNum": 48
   },
   {
    "_defaultOrder": 26,
    "_isFastLaunch": false,
    "category": "Compute optimized",
    "gpuNum": 0,
    "memoryGiB": 144,
    "name": "ml.c5.18xlarge",
    "vcpuNum": 72
   },
   {
    "_defaultOrder": 27,
    "_isFastLaunch": false,
    "category": "Compute optimized",
    "gpuNum": 0,
    "memoryGiB": 192,
    "name": "ml.c5.24xlarge",
    "vcpuNum": 96
   },
   {
    "_defaultOrder": 28,
    "_isFastLaunch": true,
    "category": "Accelerated computing",
    "gpuNum": 1,
    "memoryGiB": 16,
    "name": "ml.g4dn.xlarge",
    "vcpuNum": 4
   },
   {
    "_defaultOrder": 29,
    "_isFastLaunch": false,
    "category": "Accelerated computing",
    "gpuNum": 1,
    "memoryGiB": 32,
    "name": "ml.g4dn.2xlarge",
    "vcpuNum": 8
   },
   {
    "_defaultOrder": 30,
    "_isFastLaunch": false,
    "category": "Accelerated computing",
    "gpuNum": 1,
    "memoryGiB": 64,
    "name": "ml.g4dn.4xlarge",
    "vcpuNum": 16
   },
   {
    "_defaultOrder": 31,
    "_isFastLaunch": false,
    "category": "Accelerated computing",
    "gpuNum": 1,
    "memoryGiB": 128,
    "name": "ml.g4dn.8xlarge",
    "vcpuNum": 32
   },
   {
    "_defaultOrder": 32,
    "_isFastLaunch": false,
    "category": "Accelerated computing",
    "gpuNum": 4,
    "memoryGiB": 192,
    "name": "ml.g4dn.12xlarge",
    "vcpuNum": 48
   },
   {
    "_defaultOrder": 33,
    "_isFastLaunch": false,
    "category": "Accelerated computing",
    "gpuNum": 1,
    "memoryGiB": 256,
    "name": "ml.g4dn.16xlarge",
    "vcpuNum": 64
   },
   {
    "_defaultOrder": 34,
    "_isFastLaunch": false,
    "category": "Accelerated computing",
    "gpuNum": 1,
    "memoryGiB": 61,
    "name": "ml.p3.2xlarge",
    "vcpuNum": 8
   },
   {
    "_defaultOrder": 35,
    "_isFastLaunch": false,
    "category": "Accelerated computing",
    "gpuNum": 4,
    "memoryGiB": 244,
    "name": "ml.p3.8xlarge",
    "vcpuNum": 32
   },
   {
    "_defaultOrder": 36,
    "_isFastLaunch": false,
    "category": "Accelerated computing",
    "gpuNum": 8,
    "memoryGiB": 488,
    "name": "ml.p3.16xlarge",
    "vcpuNum": 64
   },
   {
    "_defaultOrder": 37,
    "_isFastLaunch": false,
    "category": "Accelerated computing",
    "gpuNum": 8,
    "memoryGiB": 768,
    "name": "ml.p3dn.24xlarge",
    "vcpuNum": 96
   },
   {
    "_defaultOrder": 38,
    "_isFastLaunch": false,
    "category": "Memory Optimized",
    "gpuNum": 0,
    "memoryGiB": 16,
    "name": "ml.r5.large",
    "vcpuNum": 2
   },
   {
    "_defaultOrder": 39,
    "_isFastLaunch": false,
    "category": "Memory Optimized",
    "gpuNum": 0,
    "memoryGiB": 32,
    "name": "ml.r5.xlarge",
    "vcpuNum": 4
   },
   {
    "_defaultOrder": 40,
    "_isFastLaunch": false,
    "category": "Memory Optimized",
    "gpuNum": 0,
    "memoryGiB": 64,
    "name": "ml.r5.2xlarge",
    "vcpuNum": 8
   },
   {
    "_defaultOrder": 41,
    "_isFastLaunch": false,
    "category": "Memory Optimized",
    "gpuNum": 0,
    "memoryGiB": 128,
    "name": "ml.r5.4xlarge",
    "vcpuNum": 16
   },
   {
    "_defaultOrder": 42,
    "_isFastLaunch": false,
    "category": "Memory Optimized",
    "gpuNum": 0,
    "memoryGiB": 256,
    "name": "ml.r5.8xlarge",
    "vcpuNum": 32
   },
   {
    "_defaultOrder": 43,
    "_isFastLaunch": false,
    "category": "Memory Optimized",
    "gpuNum": 0,
    "memoryGiB": 384,
    "name": "ml.r5.12xlarge",
    "vcpuNum": 48
   },
   {
    "_defaultOrder": 44,
    "_isFastLaunch": false,
    "category": "Memory Optimized",
    "gpuNum": 0,
    "memoryGiB": 512,
    "name": "ml.r5.16xlarge",
    "vcpuNum": 64
   },
   {
    "_defaultOrder": 45,
    "_isFastLaunch": false,
    "category": "Memory Optimized",
    "gpuNum": 0,
    "memoryGiB": 768,
    "name": "ml.r5.24xlarge",
    "vcpuNum": 96
   },
   {
    "_defaultOrder": 46,
    "_isFastLaunch": false,
    "category": "Accelerated computing",
    "gpuNum": 1,
    "memoryGiB": 16,
    "name": "ml.g5.xlarge",
    "vcpuNum": 4
   },
   {
    "_defaultOrder": 47,
    "_isFastLaunch": false,
    "category": "Accelerated computing",
    "gpuNum": 1,
    "memoryGiB": 32,
    "name": "ml.g5.2xlarge",
    "vcpuNum": 8
   },
   {
    "_defaultOrder": 48,
    "_isFastLaunch": false,
    "category": "Accelerated computing",
    "gpuNum": 1,
    "memoryGiB": 64,
    "name": "ml.g5.4xlarge",
    "vcpuNum": 16
   },
   {
    "_defaultOrder": 49,
    "_isFastLaunch": false,
    "category": "Accelerated computing",
    "gpuNum": 1,
    "memoryGiB": 128,
    "name": "ml.g5.8xlarge",
    "vcpuNum": 32
   },
   {
    "_defaultOrder": 50,
    "_isFastLaunch": false,
    "category": "Accelerated computing",
    "gpuNum": 1,
    "memoryGiB": 256,
    "name": "ml.g5.16xlarge",
    "vcpuNum": 64
   },
   {
    "_defaultOrder": 51,
    "_isFastLaunch": false,
    "category": "Accelerated computing",
    "gpuNum": 4,
    "memoryGiB": 192,
    "name": "ml.g5.12xlarge",
    "vcpuNum": 48
   },
   {
    "_defaultOrder": 52,
    "_isFastLaunch": false,
    "category": "Accelerated computing",
    "gpuNum": 4,
    "memoryGiB": 384,
    "name": "ml.g5.24xlarge",
    "vcpuNum": 96
   },
   {
    "_defaultOrder": 53,
    "_isFastLaunch": false,
    "category": "Accelerated computing",
    "gpuNum": 8,
    "memoryGiB": 768,
    "name": "ml.g5.48xlarge",
    "vcpuNum": 192
   }
  ],
  "colab": {
   "collapsed_sections": [
    "OA1ZkEPP3zLz",
    "O4RveeAZ3qm8",
    "bIoy86rH4hRH"
   ],
   "machine_shape": "hm",
   "provenance": []
  },
  "gpuClass": "standard",
  "instance_type": "ml.m5.4xlarge",
  "kernelspec": {
   "display_name": "Python [conda env:py310] (arn:aws:sagemaker:us-east-1:081325390199:image/datascience-1.0)",
   "language": "python",
   "name": "conda-env-py310-py__SAGEMAKER_INTERNAL__arn:aws:sagemaker:us-east-1:081325390199:image/datascience-1.0"
  },
  "language_info": {
   "codemirror_mode": {
    "name": "ipython",
    "version": 3
   },
   "file_extension": ".py",
   "mimetype": "text/x-python",
   "name": "python",
   "nbconvert_exporter": "python",
   "pygments_lexer": "ipython3",
   "version": "3.10.9"
  }
 },
 "nbformat": 4,
 "nbformat_minor": 5
}
