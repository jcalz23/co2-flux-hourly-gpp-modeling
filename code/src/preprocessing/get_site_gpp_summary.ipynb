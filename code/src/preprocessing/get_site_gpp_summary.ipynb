{
 "cells": [
  {
   "cell_type": "markdown",
   "id": "85732d3e-fcd5-46ef-a29c-1af4cd575bd1",
   "metadata": {
    "tags": []
   },
   "source": [
    "The goal of this script is to create site-level features to improve stratified split balance/reduce bias. The features created are gpp_mean_bins, gpp_var_bins, and hemisphere quadrant. "
   ]
  },
  {
   "cell_type": "markdown",
   "id": "OA1ZkEPP3zLz",
   "metadata": {
    "id": "OA1ZkEPP3zLz"
   },
   "source": [
    "# Notebook Setup"
   ]
  },
  {
   "cell_type": "code",
   "execution_count": 1,
   "id": "f6c9a282",
   "metadata": {
    "tags": []
   },
   "outputs": [],
   "source": [
    "#TODO: CHANGE THIS BASED ON YOUR OWN LOCAL SETTINGS\n",
    "#MY_HOME_ABS_PATH = \"/Users/jetcalz07/Desktop/MIDS/W210_Capstone/co2-flux-hourly-gpp-modeling\"\n",
    "MY_HOME_ABS_PATH = \"/root/co2-flux-hourly-gpp-modeling\""
   ]
  },
  {
   "cell_type": "code",
   "execution_count": 3,
   "id": "ko8n8_z9pkBE",
   "metadata": {
    "colab": {
     "base_uri": "https://localhost:8080/"
    },
    "executionInfo": {
     "elapsed": 20193,
     "status": "ok",
     "timestamp": 1678533146889,
     "user": {
      "displayName": "Mary Chau",
      "userId": "14027067063095206122"
     },
     "user_tz": 480
    },
    "id": "ko8n8_z9pkBE",
    "outputId": "3283f521-a15c-4178-a58f-b88c96cf9ee9",
    "tags": []
   },
   "outputs": [],
   "source": [
    "if 'google.colab' in str(get_ipython()):\n",
    "  IN_COLLAB = True\n",
    "  from google.colab import drive\n",
    "  drive.mount('/content/drive/')\n",
    "else:\n",
    "  IN_COLLAB = False"
   ]
  },
  {
   "cell_type": "markdown",
   "id": "WQOpIAzZ32Ek",
   "metadata": {
    "id": "WQOpIAzZ32Ek"
   },
   "source": [
    "## Import Modules"
   ]
  },
  {
   "cell_type": "code",
   "execution_count": 4,
   "id": "be2d4d6a",
   "metadata": {
    "colab": {
     "base_uri": "https://localhost:8080/"
    },
    "executionInfo": {
     "elapsed": 10058,
     "status": "ok",
     "timestamp": 1678533156939,
     "user": {
      "displayName": "Mary Chau",
      "userId": "14027067063095206122"
     },
     "user_tz": 480
    },
    "id": "be2d4d6a",
    "outputId": "ead312f6-6d4d-4499-9777-700dcaa9b38c",
    "tags": []
   },
   "outputs": [],
   "source": [
    "import os\n",
    "os.environ[\"PYARROW_IGNORE_TIMEZONE\"] = \"1\"\n",
    "import pandas as pd\n",
    "import numpy as np\n",
    "import sys\n",
    "import joblib\n",
    "from io import BytesIO\n",
    "from sklearn.model_selection import StratifiedKFold\n",
    "import matplotlib.pyplot as plt\n",
    "\n",
    "# Load locale custome modules\n",
    "os.chdir(MY_HOME_ABS_PATH)\n",
    "if IN_COLLAB:\n",
    "    sys.path.insert(0,os.path.abspath(\"./code/src/tools\"))\n",
    "else:\n",
    "    sys.path.append(os.path.abspath(\"./code/src/tools\"))\n",
    "\n",
    "from CloudIO.AzStorageClient import AzStorageClient\n",
    "from data_pipeline_lib import *\n",
    "\n",
    "pd.set_option('display.max_columns', None)\n",
    "pd.set_option('display.float_format', lambda x: '%.5f' % x)"
   ]
  },
  {
   "cell_type": "code",
   "execution_count": 5,
   "id": "a1616d4b-1e59-4b3e-b376-7907d59289fe",
   "metadata": {
    "tags": []
   },
   "outputs": [],
   "source": [
    "# Define constants\n",
    "root_dir =  MY_HOME_ABS_PATH\n",
    "tmp_dir =  root_dir + os.sep + '.tmp'\n",
    "raw_data_dir = tmp_dir\n",
    "data_dir = root_dir + os.sep + 'data'\n",
    "cred_dir = root_dir + os.sep + '.cred'\n",
    "az_cred_file = cred_dir + os.sep + 'azblobcred.json'\n",
    "preproc_objects_dir = root_dir + os.sep + 'code' + os.sep + 'src' + os.sep + 'preprocessing' + os.sep + 'preproc_objects'\n",
    "\n",
    "# blob\n",
    "container = \"all-sites-data\"\n",
    "ext = \"parquet\"\n",
    "ver = \"mvp-v2-knn\"\n",
    "model = \"rfr\"\n",
    "tag = \"raw\"\n",
    "blob_name_base = f\"{model}-full_2010_2015_v_{ver}\"\n",
    "blob_name = f\"{blob_name_base}_{tag}.{ext}\""
   ]
  },
  {
   "cell_type": "markdown",
   "id": "9d8dbd06-1bbf-4ce9-8f05-a3e65faa6a22",
   "metadata": {
    "tags": []
   },
   "source": [
    "## Get Site Metadata and GPP Summaries"
   ]
  },
  {
   "cell_type": "code",
   "execution_count": 6,
   "id": "008ff7b6-bff7-405f-8275-9d02b6af546f",
   "metadata": {
    "tags": []
   },
   "outputs": [
    {
     "name": "stdout",
     "output_type": "stream",
     "text": [
      "Data size: (4577688, 75)\n",
      "# of sites: 128\n"
     ]
    }
   ],
   "source": [
    "# Get the full set of sites that meet site criteria (130 sites)\n",
    "load_data_checkpoint = True\n",
    "\n",
    "if load_data_checkpoint:\n",
    "    data_df = None\n",
    "    local_file = tmp_dir + os.sep + blob_name \n",
    "    if not (os.path.exists(local_file)): \n",
    "        azStorageClient = AzStorageClient(az_cred_file)\n",
    "        file_stream = azStorageClient.downloadBlob2Stream(container, blob_name)\n",
    "        data_df = pd.read_parquet(file_stream, engine='pyarrow')\n",
    "        data_df.to_parquet(local_file)\n",
    "    else:\n",
    "        data_df = pd.read_parquet(local_file)\n",
    "\n",
    "    print(f\"Data size: {data_df.shape}\")\n",
    "    good_sites = data_df['site_id'].unique()\n",
    "    print(f\"# of sites: {len(good_sites)}\")"
   ]
  },
  {
   "cell_type": "code",
   "execution_count": 9,
   "id": "ac7d9be6-9253-400c-b151-80dbded2726d",
   "metadata": {
    "tags": []
   },
   "outputs": [
    {
     "data": {
      "text/html": [
       "<div>\n",
       "<style scoped>\n",
       "    .dataframe tbody tr th:only-of-type {\n",
       "        vertical-align: middle;\n",
       "    }\n",
       "\n",
       "    .dataframe tbody tr th {\n",
       "        vertical-align: top;\n",
       "    }\n",
       "\n",
       "    .dataframe thead th {\n",
       "        text-align: right;\n",
       "    }\n",
       "</style>\n",
       "<table border=\"1\" class=\"dataframe\">\n",
       "  <thead>\n",
       "    <tr style=\"text-align: right;\">\n",
       "      <th></th>\n",
       "      <th>site_id</th>\n",
       "      <th>dataset</th>\n",
       "      <th>start_year</th>\n",
       "      <th>end_year</th>\n",
       "      <th>file</th>\n",
       "      <th>is_dup</th>\n",
       "      <th>IGBP</th>\n",
       "      <th>elevation</th>\n",
       "      <th>lat</th>\n",
       "      <th>long</th>\n",
       "      <th>site_name</th>\n",
       "      <th>koppen_sub</th>\n",
       "      <th>koppen_main</th>\n",
       "      <th>koppen_name</th>\n",
       "      <th>koppen_main_name</th>\n",
       "      <th>c3c4</th>\n",
       "      <th>c4_percent</th>\n",
       "      <th>filename</th>\n",
       "      <th>size</th>\n",
       "      <th>country</th>\n",
       "      <th>record_count</th>\n",
       "      <th>site_IGBP</th>\n",
       "      <th>site_koppen</th>\n",
       "      <th>start_time</th>\n",
       "      <th>end_time</th>\n",
       "      <th>recorded_day_count</th>\n",
       "      <th>recorded_day_percentage</th>\n",
       "      <th>monthly_data_available</th>\n",
       "      <th>hemisphere_NS</th>\n",
       "      <th>lat_band</th>\n",
       "    </tr>\n",
       "  </thead>\n",
       "  <tbody>\n",
       "    <tr>\n",
       "      <th>0</th>\n",
       "      <td>AR-SLu</td>\n",
       "      <td>FLUXNET</td>\n",
       "      <td>2009</td>\n",
       "      <td>2011</td>\n",
       "      <td>FLX_AR-SLu_FLUXNET2015_FULLSET_MM_2009-2011_1-...</td>\n",
       "      <td>False</td>\n",
       "      <td>MF</td>\n",
       "      <td>NaN</td>\n",
       "      <td>-33.46480</td>\n",
       "      <td>-66.45980</td>\n",
       "      <td>San Luis</td>\n",
       "      <td>7</td>\n",
       "      <td>2</td>\n",
       "      <td>BSk</td>\n",
       "      <td>Arid</td>\n",
       "      <td>C3</td>\n",
       "      <td>67.08000</td>\n",
       "      <td>data_full_half_hourly_raw_v0_1_AR-SLu.csv</td>\n",
       "      <td>9785735.00000</td>\n",
       "      <td>AR</td>\n",
       "      <td>22128.00000</td>\n",
       "      <td>MF</td>\n",
       "      <td>Arid</td>\n",
       "      <td>2009-12-21 00:00:00</td>\n",
       "      <td>2011-03-26 23:30:00</td>\n",
       "      <td>461.00000</td>\n",
       "      <td>1.00000</td>\n",
       "      <td>Yes</td>\n",
       "      <td>South</td>\n",
       "      <td>lat_band_2</td>\n",
       "    </tr>\n",
       "    <tr>\n",
       "      <th>1</th>\n",
       "      <td>AR-Vir</td>\n",
       "      <td>FLUXNET</td>\n",
       "      <td>2009</td>\n",
       "      <td>2012</td>\n",
       "      <td>FLX_AR-Vir_FLUXNET2015_FULLSET_MM_2009-2012_1-...</td>\n",
       "      <td>False</td>\n",
       "      <td>ENF</td>\n",
       "      <td>NaN</td>\n",
       "      <td>-28.23950</td>\n",
       "      <td>-56.18860</td>\n",
       "      <td>Virasoro</td>\n",
       "      <td>14</td>\n",
       "      <td>3</td>\n",
       "      <td>Cfa</td>\n",
       "      <td>Temperate</td>\n",
       "      <td>C3</td>\n",
       "      <td>8.75000</td>\n",
       "      <td>data_full_half_hourly_raw_v0_1_AR-Vir.csv</td>\n",
       "      <td>14564015.00000</td>\n",
       "      <td>AR</td>\n",
       "      <td>33984.00000</td>\n",
       "      <td>ENF</td>\n",
       "      <td>Temperate</td>\n",
       "      <td>2010-02-13 00:00:00</td>\n",
       "      <td>2012-06-13 23:30:00</td>\n",
       "      <td>708.00000</td>\n",
       "      <td>0.83099</td>\n",
       "      <td>Yes</td>\n",
       "      <td>South</td>\n",
       "      <td>lat_band_2</td>\n",
       "    </tr>\n",
       "  </tbody>\n",
       "</table>\n",
       "</div>"
      ],
      "text/plain": [
       "  site_id  dataset  start_year  end_year  \\\n",
       "0  AR-SLu  FLUXNET        2009      2011   \n",
       "1  AR-Vir  FLUXNET        2009      2012   \n",
       "\n",
       "                                                file  is_dup IGBP  elevation  \\\n",
       "0  FLX_AR-SLu_FLUXNET2015_FULLSET_MM_2009-2011_1-...   False   MF        NaN   \n",
       "1  FLX_AR-Vir_FLUXNET2015_FULLSET_MM_2009-2012_1-...   False  ENF        NaN   \n",
       "\n",
       "        lat      long site_name  koppen_sub  koppen_main koppen_name  \\\n",
       "0 -33.46480 -66.45980  San Luis           7            2         BSk   \n",
       "1 -28.23950 -56.18860  Virasoro          14            3         Cfa   \n",
       "\n",
       "  koppen_main_name c3c4  c4_percent  \\\n",
       "0             Arid   C3    67.08000   \n",
       "1        Temperate   C3     8.75000   \n",
       "\n",
       "                                    filename           size country  \\\n",
       "0  data_full_half_hourly_raw_v0_1_AR-SLu.csv  9785735.00000      AR   \n",
       "1  data_full_half_hourly_raw_v0_1_AR-Vir.csv 14564015.00000      AR   \n",
       "\n",
       "   record_count site_IGBP site_koppen           start_time  \\\n",
       "0   22128.00000        MF        Arid  2009-12-21 00:00:00   \n",
       "1   33984.00000       ENF   Temperate  2010-02-13 00:00:00   \n",
       "\n",
       "              end_time  recorded_day_count  recorded_day_percentage  \\\n",
       "0  2011-03-26 23:30:00           461.00000                  1.00000   \n",
       "1  2012-06-13 23:30:00           708.00000                  0.83099   \n",
       "\n",
       "  monthly_data_available hemisphere_NS    lat_band  \n",
       "0                    Yes         South  lat_band_2  \n",
       "1                    Yes         South  lat_band_2  "
      ]
     },
     "execution_count": 9,
     "metadata": {},
     "output_type": "execute_result"
    }
   ],
   "source": [
    "# Load Site Metadata for good sites\n",
    "site_metadata_filename = data_dir + os.sep + 'site-metadata.csv'\n",
    "site_metadata_df_init = pd.read_csv(site_metadata_filename)\n",
    "try:\n",
    "    site_metadata_df_init.drop(columns=['site_hemisphere_quadrant', 'GPP_var', 'GPP_var_bins', 'GPP_mean', 'GPP_mean_bins'], inplace=True)\n",
    "except:\n",
    "    pass\n",
    "\n",
    "site_metadata_df = site_metadata_df_init.loc[site_metadata_df_init['site_id'].isin(list(good_sites)), ].copy()\n",
    "site_metadata_df.head(2)"
   ]
  },
  {
   "cell_type": "code",
   "execution_count": 10,
   "id": "559c6479-519a-4992-b36b-d5067f9bdbf8",
   "metadata": {
    "tags": []
   },
   "outputs": [],
   "source": [
    "def get_hemisphere_quadrant(lat, long):\n",
    "    if lat >= 0 and long >= 0:\n",
    "        return \"North-East\"\n",
    "    elif lat >= 0 and long < 0:\n",
    "        return \"North-West\"\n",
    "    elif lat < 0 and long >= 0:\n",
    "        return \"South-East\"\n",
    "    elif lat < 0 and long < 0:\n",
    "        return \"South-West\""
   ]
  },
  {
   "cell_type": "code",
   "execution_count": 11,
   "id": "93d6bc09-630f-4a40-aa00-fec138e742d3",
   "metadata": {
    "tags": []
   },
   "outputs": [],
   "source": [
    "# Generate new site-level features\n",
    "for i, r in site_metadata_df.iterrows():\n",
    "    if not r.filename or type(r.filename) != type(\"\"):\n",
    "        print(f'SKIP: {r.site_id} is missing hourly data.')\n",
    "        continue\n",
    "\n",
    "    # Load site hourly data\n",
    "    local_filename = tmp_dir + os.sep + r.filename\n",
    "    site_df = pd.read_csv(local_filename, usecols = ['datetime', 'GPP_NT_VUT_REF'])\n",
    "    \n",
    "    # Get GPP mean and variance, save to meta df\n",
    "    site_metadata_df.loc[i, 'GPP_mean'] = site_df['GPP_NT_VUT_REF'].mean()\n",
    "    site_metadata_df.loc[i, 'GPP_var'] = site_df['GPP_NT_VUT_REF'].var()\n",
    "    \n",
    "    # Get hemisphere quadrant\n",
    "    site_metadata_df.loc[i, 'site_hemisphere_quadrant'] = get_hemisphere_quadrant(r.lat, r.long)"
   ]
  },
  {
   "cell_type": "code",
   "execution_count": 12,
   "id": "53651a1d-540f-4951-8e8c-df7fe0e38fad",
   "metadata": {
    "tags": []
   },
   "outputs": [],
   "source": [
    "# Create bins based on mean, var features to make categorical\n",
    "bins = 128//5\n",
    "site_metadata_df['GPP_mean_bins'] = pd.qcut(site_metadata_df['GPP_mean'], q=bins, labels=[f\"gpp_mean_bin_{i}\" for i in range(1, bins+1)])\n",
    "site_metadata_df['GPP_var_bins'] = pd.qcut(site_metadata_df['GPP_var'], q=bins, labels=[f\"gpp_var_bin_{i}\" for i in range(1, bins+1)])"
   ]
  },
  {
   "cell_type": "code",
   "execution_count": 13,
   "id": "8d3cdf61-a3cd-4406-a094-61c098ad5150",
   "metadata": {
    "tags": []
   },
   "outputs": [
    {
     "data": {
      "text/html": [
       "<div>\n",
       "<style scoped>\n",
       "    .dataframe tbody tr th:only-of-type {\n",
       "        vertical-align: middle;\n",
       "    }\n",
       "\n",
       "    .dataframe tbody tr th {\n",
       "        vertical-align: top;\n",
       "    }\n",
       "\n",
       "    .dataframe thead th {\n",
       "        text-align: right;\n",
       "    }\n",
       "</style>\n",
       "<table border=\"1\" class=\"dataframe\">\n",
       "  <thead>\n",
       "    <tr style=\"text-align: right;\">\n",
       "      <th></th>\n",
       "      <th>site_id</th>\n",
       "      <th>dataset</th>\n",
       "      <th>start_year</th>\n",
       "      <th>end_year</th>\n",
       "      <th>file</th>\n",
       "      <th>is_dup</th>\n",
       "      <th>IGBP</th>\n",
       "      <th>elevation</th>\n",
       "      <th>lat</th>\n",
       "      <th>long</th>\n",
       "      <th>site_name</th>\n",
       "      <th>koppen_sub</th>\n",
       "      <th>koppen_main</th>\n",
       "      <th>koppen_name</th>\n",
       "      <th>koppen_main_name</th>\n",
       "      <th>c3c4</th>\n",
       "      <th>c4_percent</th>\n",
       "      <th>filename</th>\n",
       "      <th>size</th>\n",
       "      <th>country</th>\n",
       "      <th>record_count</th>\n",
       "      <th>site_IGBP</th>\n",
       "      <th>site_koppen</th>\n",
       "      <th>start_time</th>\n",
       "      <th>end_time</th>\n",
       "      <th>recorded_day_count</th>\n",
       "      <th>recorded_day_percentage</th>\n",
       "      <th>monthly_data_available</th>\n",
       "      <th>hemisphere_NS</th>\n",
       "      <th>lat_band</th>\n",
       "      <th>GPP_mean</th>\n",
       "      <th>GPP_var</th>\n",
       "      <th>site_hemisphere_quadrant</th>\n",
       "      <th>GPP_mean_bins</th>\n",
       "      <th>GPP_var_bins</th>\n",
       "    </tr>\n",
       "  </thead>\n",
       "  <tbody>\n",
       "    <tr>\n",
       "      <th>0</th>\n",
       "      <td>AR-SLu</td>\n",
       "      <td>FLUXNET</td>\n",
       "      <td>2009</td>\n",
       "      <td>2011</td>\n",
       "      <td>FLX_AR-SLu_FLUXNET2015_FULLSET_MM_2009-2011_1-...</td>\n",
       "      <td>False</td>\n",
       "      <td>MF</td>\n",
       "      <td>NaN</td>\n",
       "      <td>-33.46480</td>\n",
       "      <td>-66.45980</td>\n",
       "      <td>San Luis</td>\n",
       "      <td>7</td>\n",
       "      <td>2</td>\n",
       "      <td>BSk</td>\n",
       "      <td>Arid</td>\n",
       "      <td>C3</td>\n",
       "      <td>67.08000</td>\n",
       "      <td>data_full_half_hourly_raw_v0_1_AR-SLu.csv</td>\n",
       "      <td>9785735.00000</td>\n",
       "      <td>AR</td>\n",
       "      <td>22128.00000</td>\n",
       "      <td>MF</td>\n",
       "      <td>Arid</td>\n",
       "      <td>2009-12-21 00:00:00</td>\n",
       "      <td>2011-03-26 23:30:00</td>\n",
       "      <td>461.00000</td>\n",
       "      <td>1.00000</td>\n",
       "      <td>Yes</td>\n",
       "      <td>South</td>\n",
       "      <td>lat_band_2</td>\n",
       "      <td>6.89660</td>\n",
       "      <td>88.14843</td>\n",
       "      <td>South-West</td>\n",
       "      <td>gpp_mean_bin_25</td>\n",
       "      <td>gpp_var_bin_23</td>\n",
       "    </tr>\n",
       "    <tr>\n",
       "      <th>1</th>\n",
       "      <td>AR-Vir</td>\n",
       "      <td>FLUXNET</td>\n",
       "      <td>2009</td>\n",
       "      <td>2012</td>\n",
       "      <td>FLX_AR-Vir_FLUXNET2015_FULLSET_MM_2009-2012_1-...</td>\n",
       "      <td>False</td>\n",
       "      <td>ENF</td>\n",
       "      <td>NaN</td>\n",
       "      <td>-28.23950</td>\n",
       "      <td>-56.18860</td>\n",
       "      <td>Virasoro</td>\n",
       "      <td>14</td>\n",
       "      <td>3</td>\n",
       "      <td>Cfa</td>\n",
       "      <td>Temperate</td>\n",
       "      <td>C3</td>\n",
       "      <td>8.75000</td>\n",
       "      <td>data_full_half_hourly_raw_v0_1_AR-Vir.csv</td>\n",
       "      <td>14564015.00000</td>\n",
       "      <td>AR</td>\n",
       "      <td>33984.00000</td>\n",
       "      <td>ENF</td>\n",
       "      <td>Temperate</td>\n",
       "      <td>2010-02-13 00:00:00</td>\n",
       "      <td>2012-06-13 23:30:00</td>\n",
       "      <td>708.00000</td>\n",
       "      <td>0.83099</td>\n",
       "      <td>Yes</td>\n",
       "      <td>South</td>\n",
       "      <td>lat_band_2</td>\n",
       "      <td>10.67907</td>\n",
       "      <td>195.83335</td>\n",
       "      <td>South-West</td>\n",
       "      <td>gpp_mean_bin_25</td>\n",
       "      <td>gpp_var_bin_25</td>\n",
       "    </tr>\n",
       "  </tbody>\n",
       "</table>\n",
       "</div>"
      ],
      "text/plain": [
       "  site_id  dataset  start_year  end_year  \\\n",
       "0  AR-SLu  FLUXNET        2009      2011   \n",
       "1  AR-Vir  FLUXNET        2009      2012   \n",
       "\n",
       "                                                file  is_dup IGBP  elevation  \\\n",
       "0  FLX_AR-SLu_FLUXNET2015_FULLSET_MM_2009-2011_1-...   False   MF        NaN   \n",
       "1  FLX_AR-Vir_FLUXNET2015_FULLSET_MM_2009-2012_1-...   False  ENF        NaN   \n",
       "\n",
       "        lat      long site_name  koppen_sub  koppen_main koppen_name  \\\n",
       "0 -33.46480 -66.45980  San Luis           7            2         BSk   \n",
       "1 -28.23950 -56.18860  Virasoro          14            3         Cfa   \n",
       "\n",
       "  koppen_main_name c3c4  c4_percent  \\\n",
       "0             Arid   C3    67.08000   \n",
       "1        Temperate   C3     8.75000   \n",
       "\n",
       "                                    filename           size country  \\\n",
       "0  data_full_half_hourly_raw_v0_1_AR-SLu.csv  9785735.00000      AR   \n",
       "1  data_full_half_hourly_raw_v0_1_AR-Vir.csv 14564015.00000      AR   \n",
       "\n",
       "   record_count site_IGBP site_koppen           start_time  \\\n",
       "0   22128.00000        MF        Arid  2009-12-21 00:00:00   \n",
       "1   33984.00000       ENF   Temperate  2010-02-13 00:00:00   \n",
       "\n",
       "              end_time  recorded_day_count  recorded_day_percentage  \\\n",
       "0  2011-03-26 23:30:00           461.00000                  1.00000   \n",
       "1  2012-06-13 23:30:00           708.00000                  0.83099   \n",
       "\n",
       "  monthly_data_available hemisphere_NS    lat_band  GPP_mean   GPP_var  \\\n",
       "0                    Yes         South  lat_band_2   6.89660  88.14843   \n",
       "1                    Yes         South  lat_band_2  10.67907 195.83335   \n",
       "\n",
       "  site_hemisphere_quadrant    GPP_mean_bins    GPP_var_bins  \n",
       "0               South-West  gpp_mean_bin_25  gpp_var_bin_23  \n",
       "1               South-West  gpp_mean_bin_25  gpp_var_bin_25  "
      ]
     },
     "execution_count": 13,
     "metadata": {},
     "output_type": "execute_result"
    }
   ],
   "source": [
    "site_metadata_df.head(2)"
   ]
  },
  {
   "cell_type": "markdown",
   "id": "34fc368a-64ff-4913-9463-c24098c4ffd6",
   "metadata": {
    "tags": []
   },
   "source": [
    "### Visualize"
   ]
  },
  {
   "cell_type": "code",
   "execution_count": 14,
   "id": "79dbf037-d589-4430-af32-ab551bcec99f",
   "metadata": {
    "tags": []
   },
   "outputs": [
    {
     "data": {
      "image/png": "[encoded data removed]",
      "text/plain": [
       "<Figure size 1000x500 with 2 Axes>"
      ]
     },
     "metadata": {},
     "output_type": "display_data"
    }
   ],
   "source": [
    "# Visualize GPP Mean, Var distributions\n",
    "fig, ax = plt.subplots(1, 2, figsize=(10, 5))\n",
    "ax[0].hist(site_metadata_df.GPP_mean, bins=30)\n",
    "ax[0].set_title('Distribution of GPP_mean')\n",
    "ax[0].set_xlabel('GPP_mean values')\n",
    "ax[0].set_ylabel('Frequency')\n",
    "\n",
    "ax[1].hist(site_metadata_df.GPP_var, bins=30)\n",
    "ax[1].set_title('Distribution of GPP_var')\n",
    "ax[1].set_xlabel('GPP_var values')\n",
    "ax[1].set_ylabel('Frequency')\n",
    "\n",
    "plt.show()"
   ]
  },
  {
   "cell_type": "code",
   "execution_count": 15,
   "id": "f8da4ce1-8c49-4f44-a6cc-763e2b290b54",
   "metadata": {
    "tags": []
   },
   "outputs": [
    {
     "data": {
      "image/png": "[encoded data removed]",
      "text/plain": [
       "<Figure size 640x480 with 1 Axes>"
      ]
     },
     "metadata": {},
     "output_type": "display_data"
    }
   ],
   "source": [
    "# See count of sites by hemisphere quadrant\n",
    "# Group the DataFrame by hemisphere_quadrant and count the number of sites in each group\n",
    "counts = site_metadata_df.groupby('site_hemisphere_quadrant')['site_id'].count()\n",
    "\n",
    "# Plot the counts using a bar chart\n",
    "counts.plot(kind='bar', legend=None)\n",
    "plt.title('Number of sites in each hemisphere quadrant')\n",
    "plt.xlabel('Hemisphere quadrant')\n",
    "plt.ylabel('Count')\n",
    "plt.show()"
   ]
  },
  {
   "cell_type": "code",
   "execution_count": 16,
   "id": "a90c5e28-eecd-42a3-b364-f8363d0ab778",
   "metadata": {
    "tags": []
   },
   "outputs": [
    {
     "data": {
      "text/plain": [
       "GPP_mean_bins\n",
       "gpp_mean_bin_1     6\n",
       "gpp_mean_bin_2     5\n",
       "gpp_mean_bin_3     5\n",
       "gpp_mean_bin_4     5\n",
       "gpp_mean_bin_5     5\n",
       "gpp_mean_bin_6     5\n",
       "gpp_mean_bin_7     5\n",
       "gpp_mean_bin_8     5\n",
       "gpp_mean_bin_9     5\n",
       "gpp_mean_bin_10    5\n",
       "gpp_mean_bin_11    5\n",
       "gpp_mean_bin_12    5\n",
       "gpp_mean_bin_13    6\n",
       "gpp_mean_bin_14    5\n",
       "gpp_mean_bin_15    5\n",
       "gpp_mean_bin_16    5\n",
       "gpp_mean_bin_17    5\n",
       "gpp_mean_bin_18    5\n",
       "gpp_mean_bin_19    5\n",
       "gpp_mean_bin_20    5\n",
       "gpp_mean_bin_21    5\n",
       "gpp_mean_bin_22    5\n",
       "gpp_mean_bin_23    5\n",
       "gpp_mean_bin_24    5\n",
       "gpp_mean_bin_25    6\n",
       "Name: site_id, dtype: int64"
      ]
     },
     "execution_count": 16,
     "metadata": {},
     "output_type": "execute_result"
    }
   ],
   "source": [
    "# Check distribution of bins\n",
    "site_metadata_df.groupby('GPP_mean_bins')['site_id'].count()"
   ]
  },
  {
   "cell_type": "markdown",
   "id": "476cad55-803b-4c78-8cac-e7dcf162a942",
   "metadata": {
    "tags": []
   },
   "source": [
    "## Save out"
   ]
  },
  {
   "cell_type": "code",
   "execution_count": 17,
   "id": "f02ce490-28c8-47c9-9d3a-03a2a6cd2499",
   "metadata": {
    "tags": []
   },
   "outputs": [
    {
     "data": {
      "text/plain": [
       "Index(['site_id', 'dataset', 'start_year', 'end_year', 'file', 'is_dup',\n",
       "       'IGBP', 'elevation', 'lat', 'long', 'site_name', 'koppen_sub',\n",
       "       'koppen_main', 'koppen_name', 'koppen_main_name', 'c3c4', 'c4_percent',\n",
       "       'filename', 'size', 'country', 'record_count', 'site_IGBP',\n",
       "       'site_koppen', 'start_time', 'end_time', 'recorded_day_count',\n",
       "       'recorded_day_percentage', 'monthly_data_available', 'hemisphere_NS',\n",
       "       'lat_band'],\n",
       "      dtype='object')"
      ]
     },
     "execution_count": 17,
     "metadata": {},
     "output_type": "execute_result"
    }
   ],
   "source": [
    "site_metadata_df_init.columns"
   ]
  },
  {
   "cell_type": "code",
   "execution_count": 18,
   "id": "aebc4c6a-5afa-4395-9f5e-a39eb6a12f62",
   "metadata": {
    "tags": []
   },
   "outputs": [
    {
     "name": "stdout",
     "output_type": "stream",
     "text": [
      "merging new fetures in\n",
      "286\n",
      "286\n"
     ]
    },
    {
     "data": {
      "text/html": [
       "<div>\n",
       "<style scoped>\n",
       "    .dataframe tbody tr th:only-of-type {\n",
       "        vertical-align: middle;\n",
       "    }\n",
       "\n",
       "    .dataframe tbody tr th {\n",
       "        vertical-align: top;\n",
       "    }\n",
       "\n",
       "    .dataframe thead th {\n",
       "        text-align: right;\n",
       "    }\n",
       "</style>\n",
       "<table border=\"1\" class=\"dataframe\">\n",
       "  <thead>\n",
       "    <tr style=\"text-align: right;\">\n",
       "      <th></th>\n",
       "      <th>site_id</th>\n",
       "      <th>dataset</th>\n",
       "      <th>start_year</th>\n",
       "      <th>end_year</th>\n",
       "      <th>file</th>\n",
       "      <th>is_dup</th>\n",
       "      <th>IGBP</th>\n",
       "      <th>elevation</th>\n",
       "      <th>lat</th>\n",
       "      <th>long</th>\n",
       "      <th>site_name</th>\n",
       "      <th>koppen_sub</th>\n",
       "      <th>koppen_main</th>\n",
       "      <th>koppen_name</th>\n",
       "      <th>koppen_main_name</th>\n",
       "      <th>c3c4</th>\n",
       "      <th>c4_percent</th>\n",
       "      <th>filename</th>\n",
       "      <th>size</th>\n",
       "      <th>country</th>\n",
       "      <th>record_count</th>\n",
       "      <th>site_IGBP</th>\n",
       "      <th>site_koppen</th>\n",
       "      <th>start_time</th>\n",
       "      <th>end_time</th>\n",
       "      <th>recorded_day_count</th>\n",
       "      <th>recorded_day_percentage</th>\n",
       "      <th>monthly_data_available</th>\n",
       "      <th>hemisphere_NS</th>\n",
       "      <th>lat_band</th>\n",
       "      <th>site_hemisphere_quadrant</th>\n",
       "      <th>GPP_var</th>\n",
       "      <th>GPP_var_bins</th>\n",
       "      <th>GPP_mean</th>\n",
       "      <th>GPP_mean_bins</th>\n",
       "    </tr>\n",
       "  </thead>\n",
       "  <tbody>\n",
       "    <tr>\n",
       "      <th>0</th>\n",
       "      <td>AR-SLu</td>\n",
       "      <td>FLUXNET</td>\n",
       "      <td>2009</td>\n",
       "      <td>2011</td>\n",
       "      <td>FLX_AR-SLu_FLUXNET2015_FULLSET_MM_2009-2011_1-...</td>\n",
       "      <td>False</td>\n",
       "      <td>MF</td>\n",
       "      <td>NaN</td>\n",
       "      <td>-33.46480</td>\n",
       "      <td>-66.45980</td>\n",
       "      <td>San Luis</td>\n",
       "      <td>7</td>\n",
       "      <td>2</td>\n",
       "      <td>BSk</td>\n",
       "      <td>Arid</td>\n",
       "      <td>C3</td>\n",
       "      <td>67.08000</td>\n",
       "      <td>data_full_half_hourly_raw_v0_1_AR-SLu.csv</td>\n",
       "      <td>9785735.00000</td>\n",
       "      <td>AR</td>\n",
       "      <td>22128.00000</td>\n",
       "      <td>MF</td>\n",
       "      <td>Arid</td>\n",
       "      <td>2009-12-21 00:00:00</td>\n",
       "      <td>2011-03-26 23:30:00</td>\n",
       "      <td>461.00000</td>\n",
       "      <td>1.00000</td>\n",
       "      <td>Yes</td>\n",
       "      <td>South</td>\n",
       "      <td>lat_band_2</td>\n",
       "      <td>South-West</td>\n",
       "      <td>88.14843</td>\n",
       "      <td>gpp_var_bin_23</td>\n",
       "      <td>6.89660</td>\n",
       "      <td>gpp_mean_bin_25</td>\n",
       "    </tr>\n",
       "    <tr>\n",
       "      <th>1</th>\n",
       "      <td>AR-Vir</td>\n",
       "      <td>FLUXNET</td>\n",
       "      <td>2009</td>\n",
       "      <td>2012</td>\n",
       "      <td>FLX_AR-Vir_FLUXNET2015_FULLSET_MM_2009-2012_1-...</td>\n",
       "      <td>False</td>\n",
       "      <td>ENF</td>\n",
       "      <td>NaN</td>\n",
       "      <td>-28.23950</td>\n",
       "      <td>-56.18860</td>\n",
       "      <td>Virasoro</td>\n",
       "      <td>14</td>\n",
       "      <td>3</td>\n",
       "      <td>Cfa</td>\n",
       "      <td>Temperate</td>\n",
       "      <td>C3</td>\n",
       "      <td>8.75000</td>\n",
       "      <td>data_full_half_hourly_raw_v0_1_AR-Vir.csv</td>\n",
       "      <td>14564015.00000</td>\n",
       "      <td>AR</td>\n",
       "      <td>33984.00000</td>\n",
       "      <td>ENF</td>\n",
       "      <td>Temperate</td>\n",
       "      <td>2010-02-13 00:00:00</td>\n",
       "      <td>2012-06-13 23:30:00</td>\n",
       "      <td>708.00000</td>\n",
       "      <td>0.83099</td>\n",
       "      <td>Yes</td>\n",
       "      <td>South</td>\n",
       "      <td>lat_band_2</td>\n",
       "      <td>South-West</td>\n",
       "      <td>195.83335</td>\n",
       "      <td>gpp_var_bin_25</td>\n",
       "      <td>10.67907</td>\n",
       "      <td>gpp_mean_bin_25</td>\n",
       "    </tr>\n",
       "  </tbody>\n",
       "</table>\n",
       "</div>"
      ],
      "text/plain": [
       "  site_id  dataset  start_year  end_year  \\\n",
       "0  AR-SLu  FLUXNET        2009      2011   \n",
       "1  AR-Vir  FLUXNET        2009      2012   \n",
       "\n",
       "                                                file  is_dup IGBP  elevation  \\\n",
       "0  FLX_AR-SLu_FLUXNET2015_FULLSET_MM_2009-2011_1-...   False   MF        NaN   \n",
       "1  FLX_AR-Vir_FLUXNET2015_FULLSET_MM_2009-2012_1-...   False  ENF        NaN   \n",
       "\n",
       "        lat      long site_name  koppen_sub  koppen_main koppen_name  \\\n",
       "0 -33.46480 -66.45980  San Luis           7            2         BSk   \n",
       "1 -28.23950 -56.18860  Virasoro          14            3         Cfa   \n",
       "\n",
       "  koppen_main_name c3c4  c4_percent  \\\n",
       "0             Arid   C3    67.08000   \n",
       "1        Temperate   C3     8.75000   \n",
       "\n",
       "                                    filename           size country  \\\n",
       "0  data_full_half_hourly_raw_v0_1_AR-SLu.csv  9785735.00000      AR   \n",
       "1  data_full_half_hourly_raw_v0_1_AR-Vir.csv 14564015.00000      AR   \n",
       "\n",
       "   record_count site_IGBP site_koppen           start_time  \\\n",
       "0   22128.00000        MF        Arid  2009-12-21 00:00:00   \n",
       "1   33984.00000       ENF   Temperate  2010-02-13 00:00:00   \n",
       "\n",
       "              end_time  recorded_day_count  recorded_day_percentage  \\\n",
       "0  2011-03-26 23:30:00           461.00000                  1.00000   \n",
       "1  2012-06-13 23:30:00           708.00000                  0.83099   \n",
       "\n",
       "  monthly_data_available hemisphere_NS    lat_band site_hemisphere_quadrant  \\\n",
       "0                    Yes         South  lat_band_2               South-West   \n",
       "1                    Yes         South  lat_band_2               South-West   \n",
       "\n",
       "    GPP_var    GPP_var_bins  GPP_mean    GPP_mean_bins  \n",
       "0  88.14843  gpp_var_bin_23   6.89660  gpp_mean_bin_25  \n",
       "1 195.83335  gpp_var_bin_25  10.67907  gpp_mean_bin_25  "
      ]
     },
     "execution_count": 18,
     "metadata": {},
     "output_type": "execute_result"
    }
   ],
   "source": [
    "## Merge back into Site Meta Init, save out\n",
    "print(\"merging new fetures in\")\n",
    "site_metadata_df_final = pd.merge(site_metadata_df_init, \n",
    "                                  site_metadata_df[['site_id', 'site_hemisphere_quadrant', 'GPP_var', 'GPP_var_bins', 'GPP_mean', 'GPP_mean_bins']],\n",
    "                                  how='left', on='site_id')\n",
    "\n",
    "\n",
    "print(len(site_metadata_df_final))\n",
    "print(len(site_metadata_df_init))\n",
    "site_metadata_df_final.head(2)"
   ]
  },
  {
   "cell_type": "code",
   "execution_count": 19,
   "id": "e7bbaf47-dfe2-4c3d-831a-f274fa38e691",
   "metadata": {
    "tags": []
   },
   "outputs": [],
   "source": [
    "site_metadata_df_final.to_csv(site_metadata_filename, index=False)"
   ]
  },
  {
   "cell_type": "code",
   "execution_count": null,
   "id": "c6c2fabd",
   "metadata": {},
   "outputs": [],
   "source": []
  }
 ],
 "metadata": {
  "availableInstances": [
   {
    "_defaultOrder": 0,
    "_isFastLaunch": true,
    "category": "General purpose",
    "gpuNum": 0,
    "memoryGiB": 4,
    "name": "ml.t3.medium",
    "vcpuNum": 2
   },
   {
    "_defaultOrder": 1,
    "_isFastLaunch": false,
    "category": "General purpose",
    "gpuNum": 0,
    "memoryGiB": 8,
    "name": "ml.t3.large",
    "vcpuNum": 2
   },
   {
    "_defaultOrder": 2,
    "_isFastLaunch": false,
    "category": "General purpose",
    "gpuNum": 0,
    "memoryGiB": 16,
    "name": "ml.t3.xlarge",
    "vcpuNum": 4
   },
   {
    "_defaultOrder": 3,
    "_isFastLaunch": false,
    "category": "General purpose",
    "gpuNum": 0,
    "memoryGiB": 32,
    "name": "ml.t3.2xlarge",
    "vcpuNum": 8
   },
   {
    "_defaultOrder": 4,
    "_isFastLaunch": true,
    "category": "General purpose",
    "gpuNum": 0,
    "memoryGiB": 8,
    "name": "ml.m5.large",
    "vcpuNum": 2
   },
   {
    "_defaultOrder": 5,
    "_isFastLaunch": false,
    "category": "General purpose",
    "gpuNum": 0,
    "memoryGiB": 16,
    "name": "ml.m5.xlarge",
    "vcpuNum": 4
   },
   {
    "_defaultOrder": 6,
    "_isFastLaunch": false,
    "category": "General purpose",
    "gpuNum": 0,
    "memoryGiB": 32,
    "name": "ml.m5.2xlarge",
    "vcpuNum": 8
   },
   {
    "_defaultOrder": 7,
    "_isFastLaunch": false,
    "category": "General purpose",
    "gpuNum": 0,
    "memoryGiB": 64,
    "name": "ml.m5.4xlarge",
    "vcpuNum": 16
   },
   {
    "_defaultOrder": 8,
    "_isFastLaunch": false,
    "category": "General purpose",
    "gpuNum": 0,
    "memoryGiB": 128,
    "name": "ml.m5.8xlarge",
    "vcpuNum": 32
   },
   {
    "_defaultOrder": 9,
    "_isFastLaunch": false,
    "category": "General purpose",
    "gpuNum": 0,
    "memoryGiB": 192,
    "name": "ml.m5.12xlarge",
    "vcpuNum": 48
   },
   {
    "_defaultOrder": 10,
    "_isFastLaunch": false,
    "category": "General purpose",
    "gpuNum": 0,
    "memoryGiB": 256,
    "name": "ml.m5.16xlarge",
    "vcpuNum": 64
   },
   {
    "_defaultOrder": 11,
    "_isFastLaunch": false,
    "category": "General purpose",
    "gpuNum": 0,
    "memoryGiB": 384,
    "name": "ml.m5.24xlarge",
    "vcpuNum": 96
   },
   {
    "_defaultOrder": 12,
    "_isFastLaunch": false,
    "category": "General purpose",
    "gpuNum": 0,
    "memoryGiB": 8,
    "name": "ml.m5d.large",
    "vcpuNum": 2
   },
   {
    "_defaultOrder": 13,
    "_isFastLaunch": false,
    "category": "General purpose",
    "gpuNum": 0,
    "memoryGiB": 16,
    "name": "ml.m5d.xlarge",
    "vcpuNum": 4
   },
   {
    "_defaultOrder": 14,
    "_isFastLaunch": false,
    "category": "General purpose",
    "gpuNum": 0,
    "memoryGiB": 32,
    "name": "ml.m5d.2xlarge",
    "vcpuNum": 8
   },
   {
    "_defaultOrder": 15,
    "_isFastLaunch": false,
    "category": "General purpose",
    "gpuNum": 0,
    "memoryGiB": 64,
    "name": "ml.m5d.4xlarge",
    "vcpuNum": 16
   },
   {
    "_defaultOrder": 16,
    "_isFastLaunch": false,
    "category": "General purpose",
    "gpuNum": 0,
    "memoryGiB": 128,
    "name": "ml.m5d.8xlarge",
    "vcpuNum": 32
   },
   {
    "_defaultOrder": 17,
    "_isFastLaunch": false,
    "category": "General purpose",
    "gpuNum": 0,
    "memoryGiB": 192,
    "name": "ml.m5d.12xlarge",
    "vcpuNum": 48
   },
   {
    "_defaultOrder": 18,
    "_isFastLaunch": false,
    "category": "General purpose",
    "gpuNum": 0,
    "memoryGiB": 256,
    "name": "ml.m5d.16xlarge",
    "vcpuNum": 64
   },
   {
    "_defaultOrder": 19,
    "_isFastLaunch": false,
    "category": "General purpose",
    "gpuNum": 0,
    "memoryGiB": 384,
    "name": "ml.m5d.24xlarge",
    "vcpuNum": 96
   },
   {
    "_defaultOrder": 20,
    "_isFastLaunch": true,
    "category": "Compute optimized",
    "gpuNum": 0,
    "memoryGiB": 4,
    "name": "ml.c5.large",
    "vcpuNum": 2
   },
   {
    "_defaultOrder": 21,
    "_isFastLaunch": false,
    "category": "Compute optimized",
    "gpuNum": 0,
    "memoryGiB": 8,
    "name": "ml.c5.xlarge",
    "vcpuNum": 4
   },
   {
    "_defaultOrder": 22,
    "_isFastLaunch": false,
    "category": "Compute optimized",
    "gpuNum": 0,
    "memoryGiB": 16,
    "name": "ml.c5.2xlarge",
    "vcpuNum": 8
   },
   {
    "_defaultOrder": 23,
    "_isFastLaunch": false,
    "category": "Compute optimized",
    "gpuNum": 0,
    "memoryGiB": 32,
    "name": "ml.c5.4xlarge",
    "vcpuNum": 16
   },
   {
    "_defaultOrder": 24,
    "_isFastLaunch": false,
    "category": "Compute optimized",
    "gpuNum": 0,
    "memoryGiB": 72,
    "name": "ml.c5.9xlarge",
    "vcpuNum": 36
   },
   {
    "_defaultOrder": 25,
    "_isFastLaunch": false,
    "category": "Compute optimized",
    "gpuNum": 0,
    "memoryGiB": 96,
    "name": "ml.c5.12xlarge",
    "vcpuNum": 48
   },
   {
    "_defaultOrder": 26,
    "_isFastLaunch": false,
    "category": "Compute optimized",
    "gpuNum": 0,
    "memoryGiB": 144,
    "name": "ml.c5.18xlarge",
    "vcpuNum": 72
   },
   {
    "_defaultOrder": 27,
    "_isFastLaunch": false,
    "category": "Compute optimized",
    "gpuNum": 0,
    "memoryGiB": 192,
    "name": "ml.c5.24xlarge",
    "vcpuNum": 96
   },
   {
    "_defaultOrder": 28,
    "_isFastLaunch": true,
    "category": "Accelerated computing",
    "gpuNum": 1,
    "memoryGiB": 16,
    "name": "ml.g4dn.xlarge",
    "vcpuNum": 4
   },
   {
    "_defaultOrder": 29,
    "_isFastLaunch": false,
    "category": "Accelerated computing",
    "gpuNum": 1,
    "memoryGiB": 32,
    "name": "ml.g4dn.2xlarge",
    "vcpuNum": 8
   },
   {
    "_defaultOrder": 30,
    "_isFastLaunch": false,
    "category": "Accelerated computing",
    "gpuNum": 1,
    "memoryGiB": 64,
    "name": "ml.g4dn.4xlarge",
    "vcpuNum": 16
   },
   {
    "_defaultOrder": 31,
    "_isFastLaunch": false,
    "category": "Accelerated computing",
    "gpuNum": 1,
    "memoryGiB": 128,
    "name": "ml.g4dn.8xlarge",
    "vcpuNum": 32
   },
   {
    "_defaultOrder": 32,
    "_isFastLaunch": false,
    "category": "Accelerated computing",
    "gpuNum": 4,
    "memoryGiB": 192,
    "name": "ml.g4dn.12xlarge",
    "vcpuNum": 48
   },
   {
    "_defaultOrder": 33,
    "_isFastLaunch": false,
    "category": "Accelerated computing",
    "gpuNum": 1,
    "memoryGiB": 256,
    "name": "ml.g4dn.16xlarge",
    "vcpuNum": 64
   },
   {
    "_defaultOrder": 34,
    "_isFastLaunch": false,
    "category": "Accelerated computing",
    "gpuNum": 1,
    "memoryGiB": 61,
    "name": "ml.p3.2xlarge",
    "vcpuNum": 8
   },
   {
    "_defaultOrder": 35,
    "_isFastLaunch": false,
    "category": "Accelerated computing",
    "gpuNum": 4,
    "memoryGiB": 244,
    "name": "ml.p3.8xlarge",
    "vcpuNum": 32
   },
   {
    "_defaultOrder": 36,
    "_isFastLaunch": false,
    "category": "Accelerated computing",
    "gpuNum": 8,
    "memoryGiB": 488,
    "name": "ml.p3.16xlarge",
    "vcpuNum": 64
   },
   {
    "_defaultOrder": 37,
    "_isFastLaunch": false,
    "category": "Accelerated computing",
    "gpuNum": 8,
    "memoryGiB": 768,
    "name": "ml.p3dn.24xlarge",
    "vcpuNum": 96
   },
   {
    "_defaultOrder": 38,
    "_isFastLaunch": false,
    "category": "Memory Optimized",
    "gpuNum": 0,
    "memoryGiB": 16,
    "name": "ml.r5.large",
    "vcpuNum": 2
   },
   {
    "_defaultOrder": 39,
    "_isFastLaunch": false,
    "category": "Memory Optimized",
    "gpuNum": 0,
    "memoryGiB": 32,
    "name": "ml.r5.xlarge",
    "vcpuNum": 4
   },
   {
    "_defaultOrder": 40,
    "_isFastLaunch": false,
    "category": "Memory Optimized",
    "gpuNum": 0,
    "memoryGiB": 64,
    "name": "ml.r5.2xlarge",
    "vcpuNum": 8
   },
   {
    "_defaultOrder": 41,
    "_isFastLaunch": false,
    "category": "Memory Optimized",
    "gpuNum": 0,
    "memoryGiB": 128,
    "name": "ml.r5.4xlarge",
    "vcpuNum": 16
   },
   {
    "_defaultOrder": 42,
    "_isFastLaunch": false,
    "category": "Memory Optimized",
    "gpuNum": 0,
    "memoryGiB": 256,
    "name": "ml.r5.8xlarge",
    "vcpuNum": 32
   },
   {
    "_defaultOrder": 43,
    "_isFastLaunch": false,
    "category": "Memory Optimized",
    "gpuNum": 0,
    "memoryGiB": 384,
    "name": "ml.r5.12xlarge",
    "vcpuNum": 48
   },
   {
    "_defaultOrder": 44,
    "_isFastLaunch": false,
    "category": "Memory Optimized",
    "gpuNum": 0,
    "memoryGiB": 512,
    "name": "ml.r5.16xlarge",
    "vcpuNum": 64
   },
   {
    "_defaultOrder": 45,
    "_isFastLaunch": false,
    "category": "Memory Optimized",
    "gpuNum": 0,
    "memoryGiB": 768,
    "name": "ml.r5.24xlarge",
    "vcpuNum": 96
   },
   {
    "_defaultOrder": 46,
    "_isFastLaunch": false,
    "category": "Accelerated computing",
    "gpuNum": 1,
    "memoryGiB": 16,
    "name": "ml.g5.xlarge",
    "vcpuNum": 4
   },
   {
    "_defaultOrder": 47,
    "_isFastLaunch": false,
    "category": "Accelerated computing",
    "gpuNum": 1,
    "memoryGiB": 32,
    "name": "ml.g5.2xlarge",
    "vcpuNum": 8
   },
   {
    "_defaultOrder": 48,
    "_isFastLaunch": false,
    "category": "Accelerated computing",
    "gpuNum": 1,
    "memoryGiB": 64,
    "name": "ml.g5.4xlarge",
    "vcpuNum": 16
   },
   {
    "_defaultOrder": 49,
    "_isFastLaunch": false,
    "category": "Accelerated computing",
    "gpuNum": 1,
    "memoryGiB": 128,
    "name": "ml.g5.8xlarge",
    "vcpuNum": 32
   },
   {
    "_defaultOrder": 50,
    "_isFastLaunch": false,
    "category": "Accelerated computing",
    "gpuNum": 1,
    "memoryGiB": 256,
    "name": "ml.g5.16xlarge",
    "vcpuNum": 64
   },
   {
    "_defaultOrder": 51,
    "_isFastLaunch": false,
    "category": "Accelerated computing",
    "gpuNum": 4,
    "memoryGiB": 192,
    "name": "ml.g5.12xlarge",
    "vcpuNum": 48
   },
   {
    "_defaultOrder": 52,
    "_isFastLaunch": false,
    "category": "Accelerated computing",
    "gpuNum": 4,
    "memoryGiB": 384,
    "name": "ml.g5.24xlarge",
    "vcpuNum": 96
   },
   {
    "_defaultOrder": 53,
    "_isFastLaunch": false,
    "category": "Accelerated computing",
    "gpuNum": 8,
    "memoryGiB": 768,
    "name": "ml.g5.48xlarge",
    "vcpuNum": 192
   }
  ],
  "colab": {
   "collapsed_sections": [
    "OA1ZkEPP3zLz",
    "O4RveeAZ3qm8",
    "bIoy86rH4hRH"
   ],
   "machine_shape": "hm",
   "provenance": []
  },
  "gpuClass": "standard",
  "instance_type": "ml.m5.8xlarge",
  "kernelspec": {
   "display_name": "Python [conda env:py310] (arn:aws:sagemaker:us-east-1:081325390199:image/datascience-1.0)",
   "language": "python",
   "name": "conda-env-py310-py__SAGEMAKER_INTERNAL__arn:aws:sagemaker:us-east-1:081325390199:image/datascience-1.0"
  },
  "language_info": {
   "codemirror_mode": {
    "name": "ipython",
    "version": 3
   },
   "file_extension": ".py",
   "mimetype": "text/x-python",
   "name": "python",
   "nbconvert_exporter": "python",
   "pygments_lexer": "ipython3",
   "version": "3.10.9"
  }
 },
 "nbformat": 4,
 "nbformat_minor": 5
}
