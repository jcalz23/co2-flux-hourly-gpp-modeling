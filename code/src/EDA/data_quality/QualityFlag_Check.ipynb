{
 "cells": [
  {
   "cell_type": "code",
   "execution_count": 1,
   "id": "adf73dfe",
   "metadata": {
    "scrolled": true
   },
   "outputs": [],
   "source": [
    "from calendar import monthrange\n",
    "from datetime import datetime\n",
    "import pandas as pd\n",
    "from pandas.api.types import CategoricalDtype\n",
    "import os\n",
    "import json\n",
    "\n",
    "import matplotlib.pyplot as plt\n",
    "import plotly.express as px\n",
    "import plotly.graph_objects as go\n",
    "\n",
    "# Load locale custome modules\n",
    "import sys\n",
    "sys.path.append(os.path.abspath(\"../../tools\"))\n",
    "from edahelpers import *\n",
    "\n",
    "pd.set_option('display.max_rows', 500)\n",
    "pd.set_option('display.max_columns', None)"
   ]
  },
  {
   "cell_type": "code",
   "execution_count": 2,
   "id": "230ee15f",
   "metadata": {
    "scrolled": true
   },
   "outputs": [
    {
     "data": {
      "text/plain": [
       "'C:\\\\Users\\\\mchau\\\\Documents\\\\co2-flux-hourly-gpp-modeling\\\\code\\\\src\\\\tools'"
      ]
     },
     "execution_count": 2,
     "metadata": {},
     "output_type": "execute_result"
    }
   ],
   "source": [
    "os.path.abspath(\"../../tools\")"
   ]
  },
  {
   "cell_type": "code",
   "execution_count": 3,
   "id": "adf8cf44",
   "metadata": {
    "scrolled": true
   },
   "outputs": [],
   "source": [
    "root_dir =  os.path.abspath(os.getcwd()+\"..\\\\..\\\\..\\\\..\\\\..\\\\\")\n",
    "tmp_dir = root_dir + \"\\\\.tmp\"\n",
    "data_dir = root_dir + \"\\\\data\\\\\"\n",
    "\n",
    "site_metadata_filename = data_dir + \"site-metadata.csv\""
   ]
  },
  {
   "cell_type": "code",
   "execution_count": 4,
   "id": "50624744",
   "metadata": {
    "scrolled": true
   },
   "outputs": [],
   "source": [
    "# \"Golden\" Sites\n",
    "target_sites = [\"US-MMS\", \"US-Vcp\", \"FR-Pue\", \"CH-Lae\", \"US-Var\", \"US-Ne2\", \"ES-LJu\", \"US-Ton\"]"
   ]
  },
  {
   "cell_type": "code",
   "execution_count": 5,
   "id": "fa231a7e",
   "metadata": {
    "scrolled": true
   },
   "outputs": [
    {
     "name": "stdout",
     "output_type": "stream",
     "text": [
      "size:(8, 26)\n"
     ]
    },
    {
     "data": {
      "text/html": [
       "<div>\n",
       "<style scoped>\n",
       "    .dataframe tbody tr th:only-of-type {\n",
       "        vertical-align: middle;\n",
       "    }\n",
       "\n",
       "    .dataframe tbody tr th {\n",
       "        vertical-align: top;\n",
       "    }\n",
       "\n",
       "    .dataframe thead th {\n",
       "        text-align: right;\n",
       "    }\n",
       "</style>\n",
       "<table border=\"1\" class=\"dataframe\">\n",
       "  <thead>\n",
       "    <tr style=\"text-align: right;\">\n",
       "      <th></th>\n",
       "      <th>site_id</th>\n",
       "      <th>dataset</th>\n",
       "      <th>start_year</th>\n",
       "      <th>end_year</th>\n",
       "      <th>file</th>\n",
       "      <th>is_dup</th>\n",
       "      <th>IGBP</th>\n",
       "      <th>elevation</th>\n",
       "      <th>lat</th>\n",
       "      <th>long</th>\n",
       "      <th>site_name</th>\n",
       "      <th>koppen_sub</th>\n",
       "      <th>koppen_main</th>\n",
       "      <th>koppen_name</th>\n",
       "      <th>koppen_main_name</th>\n",
       "      <th>c3c4</th>\n",
       "      <th>c4_percent</th>\n",
       "      <th>filename</th>\n",
       "      <th>size</th>\n",
       "      <th>country</th>\n",
       "      <th>record_count</th>\n",
       "      <th>site_IGBP</th>\n",
       "      <th>site_koppen</th>\n",
       "      <th>start_time</th>\n",
       "      <th>end_time</th>\n",
       "      <th>recorded_day_count</th>\n",
       "    </tr>\n",
       "  </thead>\n",
       "  <tbody>\n",
       "    <tr>\n",
       "      <th>67</th>\n",
       "      <td>FR-Pue</td>\n",
       "      <td>FLUXNET</td>\n",
       "      <td>2000</td>\n",
       "      <td>2014</td>\n",
       "      <td>FLX_FR-Pue_FLUXNET2015_FULLSET_MM_2000-2014_2-...</td>\n",
       "      <td>False</td>\n",
       "      <td>EBF</td>\n",
       "      <td>270.0</td>\n",
       "      <td>43.74130</td>\n",
       "      <td>3.59570</td>\n",
       "      <td>Puechabon</td>\n",
       "      <td>8</td>\n",
       "      <td>3</td>\n",
       "      <td>Csa</td>\n",
       "      <td>Temperate</td>\n",
       "      <td>C3</td>\n",
       "      <td>6.59</td>\n",
       "      <td>data_full_half_hourly_raw_v0_1_FR-Pue.csv</td>\n",
       "      <td>109116169.0</td>\n",
       "      <td>FR</td>\n",
       "      <td>245760.0</td>\n",
       "      <td>EBF</td>\n",
       "      <td>Temperate</td>\n",
       "      <td>2000-07-26 00:00:00</td>\n",
       "      <td>2014-12-31 23:30:00</td>\n",
       "      <td>5120.0</td>\n",
       "    </tr>\n",
       "    <tr>\n",
       "      <th>119</th>\n",
       "      <td>US-Ne2</td>\n",
       "      <td>FLUXNET</td>\n",
       "      <td>2001</td>\n",
       "      <td>2013</td>\n",
       "      <td>FLX_US-Ne2_FLUXNET2015_FULLSET_MM_2001-2013_1-...</td>\n",
       "      <td>False</td>\n",
       "      <td>CRO</td>\n",
       "      <td>362.0</td>\n",
       "      <td>41.16487</td>\n",
       "      <td>-96.47010</td>\n",
       "      <td>Mead - irrigated maize-soybean rotation site</td>\n",
       "      <td>25</td>\n",
       "      <td>4</td>\n",
       "      <td>Dfa</td>\n",
       "      <td>Cold</td>\n",
       "      <td>rotation</td>\n",
       "      <td>48.91</td>\n",
       "      <td>NaN</td>\n",
       "      <td>NaN</td>\n",
       "      <td>NaN</td>\n",
       "      <td>NaN</td>\n",
       "      <td>NaN</td>\n",
       "      <td>NaN</td>\n",
       "      <td>NaN</td>\n",
       "      <td>NaN</td>\n",
       "      <td>NaN</td>\n",
       "    </tr>\n",
       "    <tr>\n",
       "      <th>127</th>\n",
       "      <td>US-Ton</td>\n",
       "      <td>FLUXNET</td>\n",
       "      <td>2001</td>\n",
       "      <td>2014</td>\n",
       "      <td>FLX_US-Ton_FLUXNET2015_FULLSET_MM_2001-2014_1-...</td>\n",
       "      <td>False</td>\n",
       "      <td>WSA</td>\n",
       "      <td>177.0</td>\n",
       "      <td>38.43160</td>\n",
       "      <td>-120.96598</td>\n",
       "      <td>Tonzi Ranch</td>\n",
       "      <td>8</td>\n",
       "      <td>3</td>\n",
       "      <td>Csa</td>\n",
       "      <td>Temperate</td>\n",
       "      <td>C3</td>\n",
       "      <td>0.00</td>\n",
       "      <td>data_full_half_hourly_raw_v0_1_US-Ton.csv</td>\n",
       "      <td>103999932.0</td>\n",
       "      <td>US</td>\n",
       "      <td>230928.0</td>\n",
       "      <td>WSA</td>\n",
       "      <td>Temperate</td>\n",
       "      <td>2001-05-24 00:00:00</td>\n",
       "      <td>2014-12-31 23:30:00</td>\n",
       "      <td>4811.0</td>\n",
       "    </tr>\n",
       "    <tr>\n",
       "      <th>130</th>\n",
       "      <td>US-Var</td>\n",
       "      <td>FLUXNET</td>\n",
       "      <td>2000</td>\n",
       "      <td>2014</td>\n",
       "      <td>FLX_US-Var_FLUXNET2015_FULLSET_MM_2000-2014_1-...</td>\n",
       "      <td>False</td>\n",
       "      <td>GRA</td>\n",
       "      <td>129.0</td>\n",
       "      <td>38.41330</td>\n",
       "      <td>-120.95070</td>\n",
       "      <td>Vaira Ranch- Ione</td>\n",
       "      <td>8</td>\n",
       "      <td>3</td>\n",
       "      <td>Csa</td>\n",
       "      <td>Temperate</td>\n",
       "      <td>C3</td>\n",
       "      <td>0.00</td>\n",
       "      <td>data_full_half_hourly_raw_v0_1_US-Var.csv</td>\n",
       "      <td>110098318.0</td>\n",
       "      <td>US</td>\n",
       "      <td>245712.0</td>\n",
       "      <td>GRA</td>\n",
       "      <td>Temperate</td>\n",
       "      <td>2000-11-01 00:00:00</td>\n",
       "      <td>2014-12-31 23:30:00</td>\n",
       "      <td>5119.0</td>\n",
       "    </tr>\n",
       "    <tr>\n",
       "      <th>181</th>\n",
       "      <td>US-MMS</td>\n",
       "      <td>AmeriFlux</td>\n",
       "      <td>1999</td>\n",
       "      <td>2017</td>\n",
       "      <td>FLX_US-MMS_FLUXNET2015_FULLSET_MM_1999-2017_be...</td>\n",
       "      <td>True</td>\n",
       "      <td>DBF</td>\n",
       "      <td>275.0</td>\n",
       "      <td>39.32320</td>\n",
       "      <td>-86.41310</td>\n",
       "      <td>Morgan Monroe State Forest</td>\n",
       "      <td>25</td>\n",
       "      <td>4</td>\n",
       "      <td>Dfa</td>\n",
       "      <td>Cold</td>\n",
       "      <td>C3</td>\n",
       "      <td>42.28</td>\n",
       "      <td>NaN</td>\n",
       "      <td>NaN</td>\n",
       "      <td>NaN</td>\n",
       "      <td>NaN</td>\n",
       "      <td>NaN</td>\n",
       "      <td>NaN</td>\n",
       "      <td>NaN</td>\n",
       "      <td>NaN</td>\n",
       "      <td>NaN</td>\n",
       "    </tr>\n",
       "    <tr>\n",
       "      <th>206</th>\n",
       "      <td>US-Vcp</td>\n",
       "      <td>AmeriFlux</td>\n",
       "      <td>2007</td>\n",
       "      <td>2017</td>\n",
       "      <td>FLX_US-Vcp_FLUXNET2015_FULLSET_MM_2007-2017_be...</td>\n",
       "      <td>False</td>\n",
       "      <td>ENF</td>\n",
       "      <td>2542.0</td>\n",
       "      <td>35.86240</td>\n",
       "      <td>-106.59740</td>\n",
       "      <td>Valles Caldera Ponderosa Pine</td>\n",
       "      <td>26</td>\n",
       "      <td>4</td>\n",
       "      <td>Dfb</td>\n",
       "      <td>Cold</td>\n",
       "      <td>C3</td>\n",
       "      <td>0.04</td>\n",
       "      <td>data_full_half_hourly_raw_v0_1_US-Vcp.csv</td>\n",
       "      <td>72934242.0</td>\n",
       "      <td>US</td>\n",
       "      <td>174528.0</td>\n",
       "      <td>ENF</td>\n",
       "      <td>Cold</td>\n",
       "      <td>2007-01-01 00:00:00</td>\n",
       "      <td>2017-12-31 23:30:00</td>\n",
       "      <td>3636.0</td>\n",
       "    </tr>\n",
       "    <tr>\n",
       "      <th>219</th>\n",
       "      <td>CH-Lae</td>\n",
       "      <td>ICOS2020</td>\n",
       "      <td>2004</td>\n",
       "      <td>2020</td>\n",
       "      <td>FLX_CH-Lae_FLUXNET2015_FULLSET_MM_2004-2020_be...</td>\n",
       "      <td>True</td>\n",
       "      <td>MF</td>\n",
       "      <td>689.0</td>\n",
       "      <td>47.47833</td>\n",
       "      <td>8.36439</td>\n",
       "      <td>Laegern</td>\n",
       "      <td>26</td>\n",
       "      <td>4</td>\n",
       "      <td>Dfb</td>\n",
       "      <td>Cold</td>\n",
       "      <td>C3</td>\n",
       "      <td>0.00</td>\n",
       "      <td>data_full_half_hourly_raw_v0_1_CH-Lae.csv</td>\n",
       "      <td>116210397.0</td>\n",
       "      <td>CH</td>\n",
       "      <td>288384.0</td>\n",
       "      <td>MF</td>\n",
       "      <td>Cold</td>\n",
       "      <td>2004-04-09 00:00:00</td>\n",
       "      <td>2020-12-17 23:30:00</td>\n",
       "      <td>6008.0</td>\n",
       "    </tr>\n",
       "    <tr>\n",
       "      <th>244</th>\n",
       "      <td>ES-LJu</td>\n",
       "      <td>ICOS2020</td>\n",
       "      <td>2004</td>\n",
       "      <td>2020</td>\n",
       "      <td>FLX_ES-LJu_FLUXNET2015_FULLSET_MM_2004-2020_be...</td>\n",
       "      <td>True</td>\n",
       "      <td>OSH</td>\n",
       "      <td>1600.0</td>\n",
       "      <td>36.92659</td>\n",
       "      <td>-2.75212</td>\n",
       "      <td>Llano de los Juanes</td>\n",
       "      <td>8</td>\n",
       "      <td>3</td>\n",
       "      <td>Csa</td>\n",
       "      <td>Temperate</td>\n",
       "      <td>C3</td>\n",
       "      <td>0.00</td>\n",
       "      <td>data_full_half_hourly_raw_v0_1_ES-LJu.csv</td>\n",
       "      <td>111661016.0</td>\n",
       "      <td>ES</td>\n",
       "      <td>239616.0</td>\n",
       "      <td>OSH</td>\n",
       "      <td>Temperate</td>\n",
       "      <td>2004-05-26 00:00:00</td>\n",
       "      <td>2020-12-31 23:30:00</td>\n",
       "      <td>4992.0</td>\n",
       "    </tr>\n",
       "  </tbody>\n",
       "</table>\n",
       "</div>"
      ],
      "text/plain": [
       "    site_id    dataset  start_year  end_year  \\\n",
       "67   FR-Pue    FLUXNET        2000      2014   \n",
       "119  US-Ne2    FLUXNET        2001      2013   \n",
       "127  US-Ton    FLUXNET        2001      2014   \n",
       "130  US-Var    FLUXNET        2000      2014   \n",
       "181  US-MMS  AmeriFlux        1999      2017   \n",
       "206  US-Vcp  AmeriFlux        2007      2017   \n",
       "219  CH-Lae   ICOS2020        2004      2020   \n",
       "244  ES-LJu   ICOS2020        2004      2020   \n",
       "\n",
       "                                                  file  is_dup IGBP  \\\n",
       "67   FLX_FR-Pue_FLUXNET2015_FULLSET_MM_2000-2014_2-...   False  EBF   \n",
       "119  FLX_US-Ne2_FLUXNET2015_FULLSET_MM_2001-2013_1-...   False  CRO   \n",
       "127  FLX_US-Ton_FLUXNET2015_FULLSET_MM_2001-2014_1-...   False  WSA   \n",
       "130  FLX_US-Var_FLUXNET2015_FULLSET_MM_2000-2014_1-...   False  GRA   \n",
       "181  FLX_US-MMS_FLUXNET2015_FULLSET_MM_1999-2017_be...    True  DBF   \n",
       "206  FLX_US-Vcp_FLUXNET2015_FULLSET_MM_2007-2017_be...   False  ENF   \n",
       "219  FLX_CH-Lae_FLUXNET2015_FULLSET_MM_2004-2020_be...    True   MF   \n",
       "244  FLX_ES-LJu_FLUXNET2015_FULLSET_MM_2004-2020_be...    True  OSH   \n",
       "\n",
       "     elevation       lat       long  \\\n",
       "67       270.0  43.74130    3.59570   \n",
       "119      362.0  41.16487  -96.47010   \n",
       "127      177.0  38.43160 -120.96598   \n",
       "130      129.0  38.41330 -120.95070   \n",
       "181      275.0  39.32320  -86.41310   \n",
       "206     2542.0  35.86240 -106.59740   \n",
       "219      689.0  47.47833    8.36439   \n",
       "244     1600.0  36.92659   -2.75212   \n",
       "\n",
       "                                        site_name  koppen_sub  koppen_main  \\\n",
       "67                                      Puechabon           8            3   \n",
       "119  Mead - irrigated maize-soybean rotation site          25            4   \n",
       "127                                   Tonzi Ranch           8            3   \n",
       "130                             Vaira Ranch- Ione           8            3   \n",
       "181                    Morgan Monroe State Forest          25            4   \n",
       "206                 Valles Caldera Ponderosa Pine          26            4   \n",
       "219                                       Laegern          26            4   \n",
       "244                           Llano de los Juanes           8            3   \n",
       "\n",
       "    koppen_name koppen_main_name      c3c4  c4_percent  \\\n",
       "67          Csa        Temperate        C3        6.59   \n",
       "119         Dfa             Cold  rotation       48.91   \n",
       "127         Csa        Temperate        C3        0.00   \n",
       "130         Csa        Temperate        C3        0.00   \n",
       "181         Dfa             Cold        C3       42.28   \n",
       "206         Dfb             Cold        C3        0.04   \n",
       "219         Dfb             Cold        C3        0.00   \n",
       "244         Csa        Temperate        C3        0.00   \n",
       "\n",
       "                                      filename         size country  \\\n",
       "67   data_full_half_hourly_raw_v0_1_FR-Pue.csv  109116169.0      FR   \n",
       "119                                        NaN          NaN     NaN   \n",
       "127  data_full_half_hourly_raw_v0_1_US-Ton.csv  103999932.0      US   \n",
       "130  data_full_half_hourly_raw_v0_1_US-Var.csv  110098318.0      US   \n",
       "181                                        NaN          NaN     NaN   \n",
       "206  data_full_half_hourly_raw_v0_1_US-Vcp.csv   72934242.0      US   \n",
       "219  data_full_half_hourly_raw_v0_1_CH-Lae.csv  116210397.0      CH   \n",
       "244  data_full_half_hourly_raw_v0_1_ES-LJu.csv  111661016.0      ES   \n",
       "\n",
       "     record_count site_IGBP site_koppen           start_time  \\\n",
       "67       245760.0       EBF   Temperate  2000-07-26 00:00:00   \n",
       "119           NaN       NaN         NaN                  NaN   \n",
       "127      230928.0       WSA   Temperate  2001-05-24 00:00:00   \n",
       "130      245712.0       GRA   Temperate  2000-11-01 00:00:00   \n",
       "181           NaN       NaN         NaN                  NaN   \n",
       "206      174528.0       ENF        Cold  2007-01-01 00:00:00   \n",
       "219      288384.0        MF        Cold  2004-04-09 00:00:00   \n",
       "244      239616.0       OSH   Temperate  2004-05-26 00:00:00   \n",
       "\n",
       "                end_time  recorded_day_count  \n",
       "67   2014-12-31 23:30:00              5120.0  \n",
       "119                  NaN                 NaN  \n",
       "127  2014-12-31 23:30:00              4811.0  \n",
       "130  2014-12-31 23:30:00              5119.0  \n",
       "181                  NaN                 NaN  \n",
       "206  2017-12-31 23:30:00              3636.0  \n",
       "219  2020-12-17 23:30:00              6008.0  \n",
       "244  2020-12-31 23:30:00              4992.0  "
      ]
     },
     "execution_count": 5,
     "metadata": {},
     "output_type": "execute_result"
    }
   ],
   "source": [
    "# Load Site data\n",
    "site_metadata_df = pd.read_csv(site_metadata_filename)\n",
    "\n",
    "# only focus on target sites\n",
    "site_metadata_df= site_metadata_df.loc[site_metadata_df['site_id'].isin(target_sites)]\n",
    "print(f\"size:{site_metadata_df.shape}\")\n",
    "site_metadata_df"
   ]
  },
  {
   "cell_type": "markdown",
   "id": "e4ff871c",
   "metadata": {},
   "source": [
    "# Define Features"
   ]
  },
  {
   "cell_type": "code",
   "execution_count": 6,
   "id": "ba918981",
   "metadata": {
    "scrolled": true
   },
   "outputs": [
    {
     "data": {
      "text/plain": [
       "['TA_F_QC',\n",
       " 'SW_IN_F_QC',\n",
       " 'LW_IN_F_QC',\n",
       " 'VPD_F_QC',\n",
       " 'P_F_QC',\n",
       " 'PA_F_QC',\n",
       " 'G_F_MDS_QC',\n",
       " 'LE_F_MDS_QC',\n",
       " 'H_F_MDS_QC',\n",
       " 'NEE_VUT_REF_QC',\n",
       " 'NEE_CUT_REF_QC']"
      ]
     },
     "execution_count": 6,
     "metadata": {},
     "output_type": "execute_result"
    }
   ],
   "source": [
    "all_features = ['TIMESTAMP_START', 'TIMESTAMP_END', 'TA_F', 'TA_F_QC', 'TA_ERA',\n",
    "       'SW_IN_POT', 'SW_IN_F', 'SW_IN_F_QC', 'SW_IN_ERA', 'LW_IN_F',\n",
    "       'LW_IN_F_QC', 'LW_IN_ERA', 'VPD_F', 'VPD_F_QC', 'VPD_ERA', 'P_F',\n",
    "       'P_F_QC', 'P_ERA', 'PA_F', 'PA_F_QC', 'PA_ERA', 'NETRAD', 'PPFD_IN',\n",
    "       'G_F_MDS', 'G_F_MDS_QC', 'LE_F_MDS', 'LE_F_MDS_QC', 'LE_CORR',\n",
    "       'H_F_MDS', 'H_F_MDS_QC', 'H_CORR', 'NEE_VUT_REF', 'NEE_VUT_REF_QC',\n",
    "       'NEE_CUT_REF', 'NEE_CUT_REF_QC', 'GPP_NT_VUT_REF', 'GPP_DT_VUT_REF',\n",
    "       'GPP_NT_CUT_REF', 'GPP_DT_CUT_REF', 'RECO_NT_VUT_REF',\n",
    "       'RECO_DT_VUT_REF', 'RECO_NT_CUT_REF', 'RECO_DT_CUT_REF', 'datetime',\n",
    "       'year', 'month', 'day', 'hour', 'SITE_ID', 'date', 'NEE_VUT_REF_qa',\n",
    "       'SW_DIF', 'EVI', 'NDVI', 'NIRv', 'b1', 'b2', 'b3', 'b4', 'b5', 'b6',\n",
    "       'b7', 'IGBP', 'koppen']\n",
    "qc_flag_dtype = CategoricalDtype([0, 1, 2, 3], ordered=True)\n",
    "qc_flags_features = [s for s in all_features if \"_QC\" in s]\n",
    "qc_flags_features"
   ]
  },
  {
   "cell_type": "markdown",
   "id": "0ab415ad",
   "metadata": {},
   "source": [
    "# Process Single File"
   ]
  },
  {
   "cell_type": "code",
   "execution_count": 64,
   "id": "a5441129",
   "metadata": {
    "scrolled": true
   },
   "outputs": [
    {
     "name": "stdout",
     "output_type": "stream",
     "text": [
      "data_full_half_hourly_raw_v0_1_ES-LJu.csv\n"
     ]
    }
   ],
   "source": [
    "r = site_metadata_df[['site_id','filename']].iloc[-1]\n",
    "print(r.filename)\n",
    "local_filename = tmp_dir + \"\\\\\" + r.filename"
   ]
  },
  {
   "cell_type": "code",
   "execution_count": 65,
   "id": "63c7c550",
   "metadata": {
    "scrolled": true
   },
   "outputs": [],
   "source": [
    "site_df = pd.read_csv(local_filename)"
   ]
  },
  {
   "cell_type": "code",
   "execution_count": 66,
   "id": "6bb2ef4f",
   "metadata": {
    "scrolled": true
   },
   "outputs": [
    {
     "name": "stdout",
     "output_type": "stream",
     "text": [
      "size:(239616, 64)\n"
     ]
    },
    {
     "data": {
      "text/html": [
       "<div>\n",
       "<style scoped>\n",
       "    .dataframe tbody tr th:only-of-type {\n",
       "        vertical-align: middle;\n",
       "    }\n",
       "\n",
       "    .dataframe tbody tr th {\n",
       "        vertical-align: top;\n",
       "    }\n",
       "\n",
       "    .dataframe thead th {\n",
       "        text-align: right;\n",
       "    }\n",
       "</style>\n",
       "<table border=\"1\" class=\"dataframe\">\n",
       "  <thead>\n",
       "    <tr style=\"text-align: right;\">\n",
       "      <th></th>\n",
       "      <th>TIMESTAMP_START</th>\n",
       "      <th>TIMESTAMP_END</th>\n",
       "      <th>TA_F</th>\n",
       "      <th>TA_F_QC</th>\n",
       "      <th>TA_ERA</th>\n",
       "      <th>SW_IN_POT</th>\n",
       "      <th>SW_IN_F</th>\n",
       "      <th>SW_IN_F_QC</th>\n",
       "      <th>SW_IN_ERA</th>\n",
       "      <th>LW_IN_F</th>\n",
       "      <th>LW_IN_F_QC</th>\n",
       "      <th>LW_IN_ERA</th>\n",
       "      <th>VPD_F</th>\n",
       "      <th>VPD_F_QC</th>\n",
       "      <th>VPD_ERA</th>\n",
       "      <th>P_F</th>\n",
       "      <th>P_F_QC</th>\n",
       "      <th>P_ERA</th>\n",
       "      <th>PA_F</th>\n",
       "      <th>PA_F_QC</th>\n",
       "      <th>PA_ERA</th>\n",
       "      <th>NETRAD</th>\n",
       "      <th>PPFD_IN</th>\n",
       "      <th>G_F_MDS</th>\n",
       "      <th>G_F_MDS_QC</th>\n",
       "      <th>LE_F_MDS</th>\n",
       "      <th>LE_F_MDS_QC</th>\n",
       "      <th>LE_CORR</th>\n",
       "      <th>H_F_MDS</th>\n",
       "      <th>H_F_MDS_QC</th>\n",
       "      <th>H_CORR</th>\n",
       "      <th>NEE_VUT_REF</th>\n",
       "      <th>NEE_VUT_REF_QC</th>\n",
       "      <th>NEE_CUT_REF</th>\n",
       "      <th>NEE_CUT_REF_QC</th>\n",
       "      <th>GPP_NT_VUT_REF</th>\n",
       "      <th>GPP_DT_VUT_REF</th>\n",
       "      <th>GPP_NT_CUT_REF</th>\n",
       "      <th>GPP_DT_CUT_REF</th>\n",
       "      <th>RECO_NT_VUT_REF</th>\n",
       "      <th>RECO_DT_VUT_REF</th>\n",
       "      <th>RECO_NT_CUT_REF</th>\n",
       "      <th>RECO_DT_CUT_REF</th>\n",
       "      <th>datetime</th>\n",
       "      <th>year</th>\n",
       "      <th>month</th>\n",
       "      <th>day</th>\n",
       "      <th>hour</th>\n",
       "      <th>SITE_ID</th>\n",
       "      <th>date</th>\n",
       "      <th>NEE_VUT_REF_qa</th>\n",
       "      <th>SW_DIF</th>\n",
       "      <th>EVI</th>\n",
       "      <th>NDVI</th>\n",
       "      <th>NIRv</th>\n",
       "      <th>b1</th>\n",
       "      <th>b2</th>\n",
       "      <th>b3</th>\n",
       "      <th>b4</th>\n",
       "      <th>b5</th>\n",
       "      <th>b6</th>\n",
       "      <th>b7</th>\n",
       "      <th>IGBP</th>\n",
       "      <th>koppen</th>\n",
       "    </tr>\n",
       "  </thead>\n",
       "  <tbody>\n",
       "    <tr>\n",
       "      <th>0</th>\n",
       "      <td>200405260000</td>\n",
       "      <td>200405260030</td>\n",
       "      <td>7.856</td>\n",
       "      <td>0</td>\n",
       "      <td>8.325</td>\n",
       "      <td>0.0</td>\n",
       "      <td>0.0</td>\n",
       "      <td>0</td>\n",
       "      <td>0.0</td>\n",
       "      <td>314.215</td>\n",
       "      <td>2</td>\n",
       "      <td>314.215</td>\n",
       "      <td>0.0</td>\n",
       "      <td>0</td>\n",
       "      <td>3.144</td>\n",
       "      <td>0.194</td>\n",
       "      <td>2</td>\n",
       "      <td>0.194</td>\n",
       "      <td>84.186</td>\n",
       "      <td>2</td>\n",
       "      <td>84.186</td>\n",
       "      <td>-32.207</td>\n",
       "      <td>0.0</td>\n",
       "      <td>-17.4639</td>\n",
       "      <td>0</td>\n",
       "      <td>-0.130344</td>\n",
       "      <td>1</td>\n",
       "      <td>-0.181093</td>\n",
       "      <td>-1.57822</td>\n",
       "      <td>1</td>\n",
       "      <td>-2.19269</td>\n",
       "      <td>1.24478</td>\n",
       "      <td>1</td>\n",
       "      <td>0.877808</td>\n",
       "      <td>2</td>\n",
       "      <td>NaN</td>\n",
       "      <td>0.0</td>\n",
       "      <td>-0.224026</td>\n",
       "      <td>0.0</td>\n",
       "      <td>NaN</td>\n",
       "      <td>2.99961</td>\n",
       "      <td>0.670451</td>\n",
       "      <td>1.08157</td>\n",
       "      <td>2004-05-26 00:00:00</td>\n",
       "      <td>2004</td>\n",
       "      <td>5</td>\n",
       "      <td>26</td>\n",
       "      <td>0</td>\n",
       "      <td>ES-LJu</td>\n",
       "      <td>2004-05-26</td>\n",
       "      <td>1.24478</td>\n",
       "      <td>NaN</td>\n",
       "      <td>0.179995</td>\n",
       "      <td>0.326648</td>\n",
       "      <td>0.071307</td>\n",
       "      <td>0.1108</td>\n",
       "      <td>0.2183</td>\n",
       "      <td>0.052</td>\n",
       "      <td>0.0884</td>\n",
       "      <td>0.262</td>\n",
       "      <td>0.2695</td>\n",
       "      <td>0.1945</td>\n",
       "      <td>OSH</td>\n",
       "      <td>Temperate</td>\n",
       "    </tr>\n",
       "    <tr>\n",
       "      <th>1</th>\n",
       "      <td>200405260030</td>\n",
       "      <td>200405260100</td>\n",
       "      <td>7.650</td>\n",
       "      <td>0</td>\n",
       "      <td>8.180</td>\n",
       "      <td>0.0</td>\n",
       "      <td>0.0</td>\n",
       "      <td>0</td>\n",
       "      <td>0.0</td>\n",
       "      <td>314.215</td>\n",
       "      <td>2</td>\n",
       "      <td>314.215</td>\n",
       "      <td>0.0</td>\n",
       "      <td>0</td>\n",
       "      <td>3.043</td>\n",
       "      <td>0.194</td>\n",
       "      <td>2</td>\n",
       "      <td>0.194</td>\n",
       "      <td>84.173</td>\n",
       "      <td>2</td>\n",
       "      <td>84.173</td>\n",
       "      <td>-30.418</td>\n",
       "      <td>0.0</td>\n",
       "      <td>-22.0652</td>\n",
       "      <td>0</td>\n",
       "      <td>-0.130344</td>\n",
       "      <td>1</td>\n",
       "      <td>-0.181093</td>\n",
       "      <td>-1.57822</td>\n",
       "      <td>1</td>\n",
       "      <td>-2.19269</td>\n",
       "      <td>1.24478</td>\n",
       "      <td>1</td>\n",
       "      <td>0.877808</td>\n",
       "      <td>2</td>\n",
       "      <td>NaN</td>\n",
       "      <td>0.0</td>\n",
       "      <td>-0.229381</td>\n",
       "      <td>0.0</td>\n",
       "      <td>NaN</td>\n",
       "      <td>2.98894</td>\n",
       "      <td>0.665096</td>\n",
       "      <td>1.05119</td>\n",
       "      <td>2004-05-26 00:30:00</td>\n",
       "      <td>2004</td>\n",
       "      <td>5</td>\n",
       "      <td>26</td>\n",
       "      <td>0</td>\n",
       "      <td>ES-LJu</td>\n",
       "      <td>2004-05-26</td>\n",
       "      <td>1.24478</td>\n",
       "      <td>NaN</td>\n",
       "      <td>0.179995</td>\n",
       "      <td>0.326648</td>\n",
       "      <td>0.071307</td>\n",
       "      <td>0.1108</td>\n",
       "      <td>0.2183</td>\n",
       "      <td>0.052</td>\n",
       "      <td>0.0884</td>\n",
       "      <td>0.262</td>\n",
       "      <td>0.2695</td>\n",
       "      <td>0.1945</td>\n",
       "      <td>OSH</td>\n",
       "      <td>Temperate</td>\n",
       "    </tr>\n",
       "    <tr>\n",
       "      <th>2</th>\n",
       "      <td>200405260100</td>\n",
       "      <td>200405260130</td>\n",
       "      <td>7.672</td>\n",
       "      <td>0</td>\n",
       "      <td>8.035</td>\n",
       "      <td>0.0</td>\n",
       "      <td>0.0</td>\n",
       "      <td>0</td>\n",
       "      <td>0.0</td>\n",
       "      <td>328.276</td>\n",
       "      <td>2</td>\n",
       "      <td>328.276</td>\n",
       "      <td>0.0</td>\n",
       "      <td>0</td>\n",
       "      <td>2.942</td>\n",
       "      <td>0.090</td>\n",
       "      <td>2</td>\n",
       "      <td>0.090</td>\n",
       "      <td>84.160</td>\n",
       "      <td>2</td>\n",
       "      <td>84.160</td>\n",
       "      <td>-19.960</td>\n",
       "      <td>0.0</td>\n",
       "      <td>-16.2372</td>\n",
       "      <td>0</td>\n",
       "      <td>-0.130344</td>\n",
       "      <td>1</td>\n",
       "      <td>-0.181093</td>\n",
       "      <td>-1.57822</td>\n",
       "      <td>1</td>\n",
       "      <td>-2.19269</td>\n",
       "      <td>1.24478</td>\n",
       "      <td>1</td>\n",
       "      <td>0.877808</td>\n",
       "      <td>2</td>\n",
       "      <td>NaN</td>\n",
       "      <td>0.0</td>\n",
       "      <td>-0.228809</td>\n",
       "      <td>0.0</td>\n",
       "      <td>NaN</td>\n",
       "      <td>2.99008</td>\n",
       "      <td>0.665668</td>\n",
       "      <td>1.05440</td>\n",
       "      <td>2004-05-26 01:00:00</td>\n",
       "      <td>2004</td>\n",
       "      <td>5</td>\n",
       "      <td>26</td>\n",
       "      <td>1</td>\n",
       "      <td>ES-LJu</td>\n",
       "      <td>2004-05-26</td>\n",
       "      <td>1.24478</td>\n",
       "      <td>NaN</td>\n",
       "      <td>0.179995</td>\n",
       "      <td>0.326648</td>\n",
       "      <td>0.071307</td>\n",
       "      <td>0.1108</td>\n",
       "      <td>0.2183</td>\n",
       "      <td>0.052</td>\n",
       "      <td>0.0884</td>\n",
       "      <td>0.262</td>\n",
       "      <td>0.2695</td>\n",
       "      <td>0.1945</td>\n",
       "      <td>OSH</td>\n",
       "      <td>Temperate</td>\n",
       "    </tr>\n",
       "    <tr>\n",
       "      <th>3</th>\n",
       "      <td>200405260130</td>\n",
       "      <td>200405260200</td>\n",
       "      <td>7.793</td>\n",
       "      <td>0</td>\n",
       "      <td>8.300</td>\n",
       "      <td>0.0</td>\n",
       "      <td>0.0</td>\n",
       "      <td>0</td>\n",
       "      <td>0.0</td>\n",
       "      <td>328.276</td>\n",
       "      <td>2</td>\n",
       "      <td>328.276</td>\n",
       "      <td>0.0</td>\n",
       "      <td>0</td>\n",
       "      <td>3.064</td>\n",
       "      <td>0.090</td>\n",
       "      <td>2</td>\n",
       "      <td>0.090</td>\n",
       "      <td>84.137</td>\n",
       "      <td>2</td>\n",
       "      <td>84.137</td>\n",
       "      <td>-25.722</td>\n",
       "      <td>0.0</td>\n",
       "      <td>-14.2753</td>\n",
       "      <td>0</td>\n",
       "      <td>-0.130344</td>\n",
       "      <td>1</td>\n",
       "      <td>-0.181093</td>\n",
       "      <td>-1.57822</td>\n",
       "      <td>1</td>\n",
       "      <td>-2.19269</td>\n",
       "      <td>1.24478</td>\n",
       "      <td>1</td>\n",
       "      <td>0.877808</td>\n",
       "      <td>2</td>\n",
       "      <td>NaN</td>\n",
       "      <td>0.0</td>\n",
       "      <td>-0.225664</td>\n",
       "      <td>0.0</td>\n",
       "      <td>NaN</td>\n",
       "      <td>2.99635</td>\n",
       "      <td>0.668813</td>\n",
       "      <td>1.07221</td>\n",
       "      <td>2004-05-26 01:30:00</td>\n",
       "      <td>2004</td>\n",
       "      <td>5</td>\n",
       "      <td>26</td>\n",
       "      <td>1</td>\n",
       "      <td>ES-LJu</td>\n",
       "      <td>2004-05-26</td>\n",
       "      <td>1.24478</td>\n",
       "      <td>NaN</td>\n",
       "      <td>0.179995</td>\n",
       "      <td>0.326648</td>\n",
       "      <td>0.071307</td>\n",
       "      <td>0.1108</td>\n",
       "      <td>0.2183</td>\n",
       "      <td>0.052</td>\n",
       "      <td>0.0884</td>\n",
       "      <td>0.262</td>\n",
       "      <td>0.2695</td>\n",
       "      <td>0.1945</td>\n",
       "      <td>OSH</td>\n",
       "      <td>Temperate</td>\n",
       "    </tr>\n",
       "    <tr>\n",
       "      <th>4</th>\n",
       "      <td>200405260200</td>\n",
       "      <td>200405260230</td>\n",
       "      <td>7.638</td>\n",
       "      <td>0</td>\n",
       "      <td>8.565</td>\n",
       "      <td>0.0</td>\n",
       "      <td>0.0</td>\n",
       "      <td>0</td>\n",
       "      <td>0.0</td>\n",
       "      <td>339.403</td>\n",
       "      <td>2</td>\n",
       "      <td>339.403</td>\n",
       "      <td>0.0</td>\n",
       "      <td>0</td>\n",
       "      <td>3.185</td>\n",
       "      <td>0.047</td>\n",
       "      <td>2</td>\n",
       "      <td>0.047</td>\n",
       "      <td>84.113</td>\n",
       "      <td>2</td>\n",
       "      <td>84.113</td>\n",
       "      <td>-48.710</td>\n",
       "      <td>0.0</td>\n",
       "      <td>-23.5167</td>\n",
       "      <td>0</td>\n",
       "      <td>-0.130344</td>\n",
       "      <td>1</td>\n",
       "      <td>-0.181093</td>\n",
       "      <td>-1.57822</td>\n",
       "      <td>1</td>\n",
       "      <td>-2.19269</td>\n",
       "      <td>1.24478</td>\n",
       "      <td>1</td>\n",
       "      <td>0.877808</td>\n",
       "      <td>2</td>\n",
       "      <td>NaN</td>\n",
       "      <td>0.0</td>\n",
       "      <td>-0.229693</td>\n",
       "      <td>0.0</td>\n",
       "      <td>NaN</td>\n",
       "      <td>2.98832</td>\n",
       "      <td>0.664785</td>\n",
       "      <td>1.04944</td>\n",
       "      <td>2004-05-26 02:00:00</td>\n",
       "      <td>2004</td>\n",
       "      <td>5</td>\n",
       "      <td>26</td>\n",
       "      <td>2</td>\n",
       "      <td>ES-LJu</td>\n",
       "      <td>2004-05-26</td>\n",
       "      <td>1.24478</td>\n",
       "      <td>NaN</td>\n",
       "      <td>0.179995</td>\n",
       "      <td>0.326648</td>\n",
       "      <td>0.071307</td>\n",
       "      <td>0.1108</td>\n",
       "      <td>0.2183</td>\n",
       "      <td>0.052</td>\n",
       "      <td>0.0884</td>\n",
       "      <td>0.262</td>\n",
       "      <td>0.2695</td>\n",
       "      <td>0.1945</td>\n",
       "      <td>OSH</td>\n",
       "      <td>Temperate</td>\n",
       "    </tr>\n",
       "  </tbody>\n",
       "</table>\n",
       "</div>"
      ],
      "text/plain": [
       "   TIMESTAMP_START  TIMESTAMP_END   TA_F TA_F_QC  TA_ERA  SW_IN_POT  SW_IN_F  \\\n",
       "0     200405260000   200405260030  7.856       0   8.325        0.0      0.0   \n",
       "1     200405260030   200405260100  7.650       0   8.180        0.0      0.0   \n",
       "2     200405260100   200405260130  7.672       0   8.035        0.0      0.0   \n",
       "3     200405260130   200405260200  7.793       0   8.300        0.0      0.0   \n",
       "4     200405260200   200405260230  7.638       0   8.565        0.0      0.0   \n",
       "\n",
       "  SW_IN_F_QC  SW_IN_ERA  LW_IN_F LW_IN_F_QC  LW_IN_ERA  VPD_F VPD_F_QC  \\\n",
       "0          0        0.0  314.215          2    314.215    0.0        0   \n",
       "1          0        0.0  314.215          2    314.215    0.0        0   \n",
       "2          0        0.0  328.276          2    328.276    0.0        0   \n",
       "3          0        0.0  328.276          2    328.276    0.0        0   \n",
       "4          0        0.0  339.403          2    339.403    0.0        0   \n",
       "\n",
       "   VPD_ERA    P_F P_F_QC  P_ERA    PA_F PA_F_QC  PA_ERA  NETRAD  PPFD_IN  \\\n",
       "0    3.144  0.194      2  0.194  84.186       2  84.186 -32.207      0.0   \n",
       "1    3.043  0.194      2  0.194  84.173       2  84.173 -30.418      0.0   \n",
       "2    2.942  0.090      2  0.090  84.160       2  84.160 -19.960      0.0   \n",
       "3    3.064  0.090      2  0.090  84.137       2  84.137 -25.722      0.0   \n",
       "4    3.185  0.047      2  0.047  84.113       2  84.113 -48.710      0.0   \n",
       "\n",
       "   G_F_MDS G_F_MDS_QC  LE_F_MDS LE_F_MDS_QC   LE_CORR  H_F_MDS H_F_MDS_QC  \\\n",
       "0 -17.4639          0 -0.130344           1 -0.181093 -1.57822          1   \n",
       "1 -22.0652          0 -0.130344           1 -0.181093 -1.57822          1   \n",
       "2 -16.2372          0 -0.130344           1 -0.181093 -1.57822          1   \n",
       "3 -14.2753          0 -0.130344           1 -0.181093 -1.57822          1   \n",
       "4 -23.5167          0 -0.130344           1 -0.181093 -1.57822          1   \n",
       "\n",
       "    H_CORR  NEE_VUT_REF NEE_VUT_REF_QC  NEE_CUT_REF NEE_CUT_REF_QC  \\\n",
       "0 -2.19269      1.24478              1     0.877808              2   \n",
       "1 -2.19269      1.24478              1     0.877808              2   \n",
       "2 -2.19269      1.24478              1     0.877808              2   \n",
       "3 -2.19269      1.24478              1     0.877808              2   \n",
       "4 -2.19269      1.24478              1     0.877808              2   \n",
       "\n",
       "   GPP_NT_VUT_REF  GPP_DT_VUT_REF  GPP_NT_CUT_REF  GPP_DT_CUT_REF  \\\n",
       "0             NaN             0.0       -0.224026             0.0   \n",
       "1             NaN             0.0       -0.229381             0.0   \n",
       "2             NaN             0.0       -0.228809             0.0   \n",
       "3             NaN             0.0       -0.225664             0.0   \n",
       "4             NaN             0.0       -0.229693             0.0   \n",
       "\n",
       "   RECO_NT_VUT_REF  RECO_DT_VUT_REF  RECO_NT_CUT_REF  RECO_DT_CUT_REF  \\\n",
       "0              NaN          2.99961         0.670451          1.08157   \n",
       "1              NaN          2.98894         0.665096          1.05119   \n",
       "2              NaN          2.99008         0.665668          1.05440   \n",
       "3              NaN          2.99635         0.668813          1.07221   \n",
       "4              NaN          2.98832         0.664785          1.04944   \n",
       "\n",
       "             datetime  year  month  day  hour SITE_ID       date  \\\n",
       "0 2004-05-26 00:00:00  2004      5   26     0  ES-LJu 2004-05-26   \n",
       "1 2004-05-26 00:30:00  2004      5   26     0  ES-LJu 2004-05-26   \n",
       "2 2004-05-26 01:00:00  2004      5   26     1  ES-LJu 2004-05-26   \n",
       "3 2004-05-26 01:30:00  2004      5   26     1  ES-LJu 2004-05-26   \n",
       "4 2004-05-26 02:00:00  2004      5   26     2  ES-LJu 2004-05-26   \n",
       "\n",
       "   NEE_VUT_REF_qa  SW_DIF       EVI      NDVI      NIRv      b1      b2  \\\n",
       "0         1.24478     NaN  0.179995  0.326648  0.071307  0.1108  0.2183   \n",
       "1         1.24478     NaN  0.179995  0.326648  0.071307  0.1108  0.2183   \n",
       "2         1.24478     NaN  0.179995  0.326648  0.071307  0.1108  0.2183   \n",
       "3         1.24478     NaN  0.179995  0.326648  0.071307  0.1108  0.2183   \n",
       "4         1.24478     NaN  0.179995  0.326648  0.071307  0.1108  0.2183   \n",
       "\n",
       "      b3      b4     b5      b6      b7 IGBP     koppen  \n",
       "0  0.052  0.0884  0.262  0.2695  0.1945  OSH  Temperate  \n",
       "1  0.052  0.0884  0.262  0.2695  0.1945  OSH  Temperate  \n",
       "2  0.052  0.0884  0.262  0.2695  0.1945  OSH  Temperate  \n",
       "3  0.052  0.0884  0.262  0.2695  0.1945  OSH  Temperate  \n",
       "4  0.052  0.0884  0.262  0.2695  0.1945  OSH  Temperate  "
      ]
     },
     "execution_count": 66,
     "metadata": {},
     "output_type": "execute_result"
    }
   ],
   "source": [
    "#features = ['SITE_ID','TIMESTAMP_START', 'TIMESTAMP_END', 'datetime', 'date', 'year', 'month', 'day', 'hour',\"GPP_NT_VUT_REF\"]\n",
    "#site_df = pd.read_csv(local_filename, usecols=features + qc_glags_features)\n",
    "site_df['datetime'] = pd.to_datetime(site_df['datetime'])\n",
    "site_df['date'] = pd.to_datetime(site_df['date'])\n",
    "site_df[qc_flags_features] = site_df[qc_flags_features].astype(qc_flag_dtype)\n",
    "print(f\"size:{site_df.shape}\")\n",
    "site_df.head()"
   ]
  },
  {
   "cell_type": "code",
   "execution_count": 67,
   "id": "2c02399c",
   "metadata": {
    "scrolled": true
   },
   "outputs": [
    {
     "name": "stdout",
     "output_type": "stream",
     "text": [
      "<class 'pandas.core.frame.DataFrame'>\n",
      "RangeIndex: 239616 entries, 0 to 239615\n",
      "Data columns (total 64 columns):\n",
      " #   Column           Non-Null Count   Dtype         \n",
      "---  ------           --------------   -----         \n",
      " 0   TIMESTAMP_START  239616 non-null  int64         \n",
      " 1   TIMESTAMP_END    239616 non-null  int64         \n",
      " 2   TA_F             239616 non-null  float64       \n",
      " 3   TA_F_QC          239616 non-null  category      \n",
      " 4   TA_ERA           239616 non-null  float64       \n",
      " 5   SW_IN_POT        239616 non-null  float64       \n",
      " 6   SW_IN_F          239616 non-null  float64       \n",
      " 7   SW_IN_F_QC       239616 non-null  category      \n",
      " 8   SW_IN_ERA        239616 non-null  float64       \n",
      " 9   LW_IN_F          239616 non-null  float64       \n",
      " 10  LW_IN_F_QC       239616 non-null  category      \n",
      " 11  LW_IN_ERA        239616 non-null  float64       \n",
      " 12  VPD_F            239616 non-null  float64       \n",
      " 13  VPD_F_QC         239616 non-null  category      \n",
      " 14  VPD_ERA          239616 non-null  float64       \n",
      " 15  P_F              239616 non-null  float64       \n",
      " 16  P_F_QC           239616 non-null  category      \n",
      " 17  P_ERA            239616 non-null  float64       \n",
      " 18  PA_F             239616 non-null  float64       \n",
      " 19  PA_F_QC          239616 non-null  category      \n",
      " 20  PA_ERA           239616 non-null  float64       \n",
      " 21  NETRAD           229640 non-null  float64       \n",
      " 22  PPFD_IN          227545 non-null  float64       \n",
      " 23  G_F_MDS          239616 non-null  float64       \n",
      " 24  G_F_MDS_QC       239616 non-null  category      \n",
      " 25  LE_F_MDS         239616 non-null  float64       \n",
      " 26  LE_F_MDS_QC      239616 non-null  category      \n",
      " 27  LE_CORR          239616 non-null  float64       \n",
      " 28  H_F_MDS          239616 non-null  float64       \n",
      " 29  H_F_MDS_QC       239616 non-null  category      \n",
      " 30  H_CORR           239616 non-null  float64       \n",
      " 31  NEE_VUT_REF      239616 non-null  float64       \n",
      " 32  NEE_VUT_REF_QC   239616 non-null  category      \n",
      " 33  NEE_CUT_REF      239616 non-null  float64       \n",
      " 34  NEE_CUT_REF_QC   239616 non-null  category      \n",
      " 35  GPP_NT_VUT_REF   230736 non-null  float64       \n",
      " 36  GPP_DT_VUT_REF   239616 non-null  float64       \n",
      " 37  GPP_NT_CUT_REF   239616 non-null  float64       \n",
      " 38  GPP_DT_CUT_REF   239616 non-null  float64       \n",
      " 39  RECO_NT_VUT_REF  230736 non-null  float64       \n",
      " 40  RECO_DT_VUT_REF  239616 non-null  float64       \n",
      " 41  RECO_NT_CUT_REF  239616 non-null  float64       \n",
      " 42  RECO_DT_CUT_REF  239616 non-null  float64       \n",
      " 43  datetime         239616 non-null  datetime64[ns]\n",
      " 44  year             239616 non-null  int64         \n",
      " 45  month            239616 non-null  int64         \n",
      " 46  day              239616 non-null  int64         \n",
      " 47  hour             239616 non-null  int64         \n",
      " 48  SITE_ID          239616 non-null  object        \n",
      " 49  date             239616 non-null  datetime64[ns]\n",
      " 50  NEE_VUT_REF_qa   230290 non-null  float64       \n",
      " 51  SW_DIF           0 non-null       float64       \n",
      " 52  EVI              234672 non-null  float64       \n",
      " 53  NDVI             234672 non-null  float64       \n",
      " 54  NIRv             234672 non-null  float64       \n",
      " 55  b1               234672 non-null  float64       \n",
      " 56  b2               234672 non-null  float64       \n",
      " 57  b3               234672 non-null  float64       \n",
      " 58  b4               234672 non-null  float64       \n",
      " 59  b5               234672 non-null  float64       \n",
      " 60  b6               232368 non-null  float64       \n",
      " 61  b7               234672 non-null  float64       \n",
      " 62  IGBP             239616 non-null  object        \n",
      " 63  koppen           239616 non-null  object        \n",
      "dtypes: category(11), datetime64[ns](2), float64(42), int64(6), object(3)\n",
      "memory usage: 99.4+ MB\n"
     ]
    }
   ],
   "source": [
    "site_df.info()"
   ]
  },
  {
   "cell_type": "code",
   "execution_count": 68,
   "id": "b14106e8",
   "metadata": {
    "scrolled": true
   },
   "outputs": [
    {
     "data": {
      "text/html": [
       "<div>\n",
       "<style scoped>\n",
       "    .dataframe tbody tr th:only-of-type {\n",
       "        vertical-align: middle;\n",
       "    }\n",
       "\n",
       "    .dataframe tbody tr th {\n",
       "        vertical-align: top;\n",
       "    }\n",
       "\n",
       "    .dataframe thead th {\n",
       "        text-align: right;\n",
       "    }\n",
       "</style>\n",
       "<table border=\"1\" class=\"dataframe\">\n",
       "  <thead>\n",
       "    <tr style=\"text-align: right;\">\n",
       "      <th></th>\n",
       "      <th>TA_F_QC</th>\n",
       "      <th>SW_IN_F_QC</th>\n",
       "      <th>LW_IN_F_QC</th>\n",
       "      <th>VPD_F_QC</th>\n",
       "      <th>P_F_QC</th>\n",
       "      <th>PA_F_QC</th>\n",
       "      <th>G_F_MDS_QC</th>\n",
       "      <th>LE_F_MDS_QC</th>\n",
       "      <th>H_F_MDS_QC</th>\n",
       "      <th>NEE_VUT_REF_QC</th>\n",
       "      <th>NEE_CUT_REF_QC</th>\n",
       "    </tr>\n",
       "  </thead>\n",
       "  <tbody>\n",
       "    <tr>\n",
       "      <th>count</th>\n",
       "      <td>239616</td>\n",
       "      <td>239616</td>\n",
       "      <td>239616</td>\n",
       "      <td>239616</td>\n",
       "      <td>239616</td>\n",
       "      <td>239616</td>\n",
       "      <td>239616</td>\n",
       "      <td>239616</td>\n",
       "      <td>239616</td>\n",
       "      <td>239616</td>\n",
       "      <td>239616</td>\n",
       "    </tr>\n",
       "    <tr>\n",
       "      <th>unique</th>\n",
       "      <td>3</td>\n",
       "      <td>3</td>\n",
       "      <td>1</td>\n",
       "      <td>3</td>\n",
       "      <td>2</td>\n",
       "      <td>2</td>\n",
       "      <td>4</td>\n",
       "      <td>4</td>\n",
       "      <td>4</td>\n",
       "      <td>4</td>\n",
       "      <td>4</td>\n",
       "    </tr>\n",
       "    <tr>\n",
       "      <th>top</th>\n",
       "      <td>0</td>\n",
       "      <td>0</td>\n",
       "      <td>2</td>\n",
       "      <td>0</td>\n",
       "      <td>0</td>\n",
       "      <td>0</td>\n",
       "      <td>0</td>\n",
       "      <td>0</td>\n",
       "      <td>0</td>\n",
       "      <td>1</td>\n",
       "      <td>1</td>\n",
       "    </tr>\n",
       "    <tr>\n",
       "      <th>freq</th>\n",
       "      <td>234618</td>\n",
       "      <td>230126</td>\n",
       "      <td>239616</td>\n",
       "      <td>227728</td>\n",
       "      <td>209448</td>\n",
       "      <td>229143</td>\n",
       "      <td>233686</td>\n",
       "      <td>199073</td>\n",
       "      <td>217577</td>\n",
       "      <td>125237</td>\n",
       "      <td>121605</td>\n",
       "    </tr>\n",
       "  </tbody>\n",
       "</table>\n",
       "</div>"
      ],
      "text/plain": [
       "        TA_F_QC  SW_IN_F_QC  LW_IN_F_QC  VPD_F_QC  P_F_QC  PA_F_QC  \\\n",
       "count    239616      239616      239616    239616  239616   239616   \n",
       "unique        3           3           1         3       2        2   \n",
       "top           0           0           2         0       0        0   \n",
       "freq     234618      230126      239616    227728  209448   229143   \n",
       "\n",
       "        G_F_MDS_QC  LE_F_MDS_QC  H_F_MDS_QC  NEE_VUT_REF_QC  NEE_CUT_REF_QC  \n",
       "count       239616       239616      239616          239616          239616  \n",
       "unique           4            4           4               4               4  \n",
       "top              0            0           0               1               1  \n",
       "freq        233686       199073      217577          125237          121605  "
      ]
     },
     "execution_count": 68,
     "metadata": {},
     "output_type": "execute_result"
    }
   ],
   "source": [
    "site_df[qc_flags_features].describe()"
   ]
  },
  {
   "cell_type": "code",
   "execution_count": 69,
   "id": "91897c74",
   "metadata": {
    "scrolled": true
   },
   "outputs": [
    {
     "data": {
      "text/html": [
       "<div>\n",
       "<style scoped>\n",
       "    .dataframe tbody tr th:only-of-type {\n",
       "        vertical-align: middle;\n",
       "    }\n",
       "\n",
       "    .dataframe tbody tr th {\n",
       "        vertical-align: top;\n",
       "    }\n",
       "\n",
       "    .dataframe thead th {\n",
       "        text-align: right;\n",
       "    }\n",
       "</style>\n",
       "<table border=\"1\" class=\"dataframe\">\n",
       "  <thead>\n",
       "    <tr style=\"text-align: right;\">\n",
       "      <th></th>\n",
       "      <th>TA_F_QC</th>\n",
       "      <th>SW_IN_F_QC</th>\n",
       "      <th>LW_IN_F_QC</th>\n",
       "      <th>VPD_F_QC</th>\n",
       "      <th>P_F_QC</th>\n",
       "      <th>PA_F_QC</th>\n",
       "      <th>G_F_MDS_QC</th>\n",
       "      <th>LE_F_MDS_QC</th>\n",
       "      <th>H_F_MDS_QC</th>\n",
       "      <th>NEE_VUT_REF_QC</th>\n",
       "      <th>NEE_CUT_REF_QC</th>\n",
       "    </tr>\n",
       "  </thead>\n",
       "  <tbody>\n",
       "    <tr>\n",
       "      <th>0</th>\n",
       "      <td>234618</td>\n",
       "      <td>230126</td>\n",
       "      <td>0</td>\n",
       "      <td>227728</td>\n",
       "      <td>209448</td>\n",
       "      <td>229143</td>\n",
       "      <td>233686</td>\n",
       "      <td>199073</td>\n",
       "      <td>217577</td>\n",
       "      <td>105053</td>\n",
       "      <td>108549</td>\n",
       "    </tr>\n",
       "    <tr>\n",
       "      <th>1</th>\n",
       "      <td>3356</td>\n",
       "      <td>1421</td>\n",
       "      <td>0</td>\n",
       "      <td>7392</td>\n",
       "      <td>0</td>\n",
       "      <td>0</td>\n",
       "      <td>3443</td>\n",
       "      <td>37078</td>\n",
       "      <td>18929</td>\n",
       "      <td>125237</td>\n",
       "      <td>121605</td>\n",
       "    </tr>\n",
       "    <tr>\n",
       "      <th>2</th>\n",
       "      <td>1642</td>\n",
       "      <td>8069</td>\n",
       "      <td>239616</td>\n",
       "      <td>4496</td>\n",
       "      <td>30168</td>\n",
       "      <td>10473</td>\n",
       "      <td>1457</td>\n",
       "      <td>2609</td>\n",
       "      <td>2273</td>\n",
       "      <td>7594</td>\n",
       "      <td>7291</td>\n",
       "    </tr>\n",
       "    <tr>\n",
       "      <th>3</th>\n",
       "      <td>0</td>\n",
       "      <td>0</td>\n",
       "      <td>0</td>\n",
       "      <td>0</td>\n",
       "      <td>0</td>\n",
       "      <td>0</td>\n",
       "      <td>1030</td>\n",
       "      <td>856</td>\n",
       "      <td>837</td>\n",
       "      <td>1732</td>\n",
       "      <td>2171</td>\n",
       "    </tr>\n",
       "  </tbody>\n",
       "</table>\n",
       "</div>"
      ],
      "text/plain": [
       "   TA_F_QC  SW_IN_F_QC  LW_IN_F_QC  VPD_F_QC  P_F_QC  PA_F_QC  G_F_MDS_QC  \\\n",
       "0   234618      230126           0    227728  209448   229143      233686   \n",
       "1     3356        1421           0      7392       0        0        3443   \n",
       "2     1642        8069      239616      4496   30168    10473        1457   \n",
       "3        0           0           0         0       0        0        1030   \n",
       "\n",
       "   LE_F_MDS_QC  H_F_MDS_QC  NEE_VUT_REF_QC  NEE_CUT_REF_QC  \n",
       "0       199073      217577          105053          108549  \n",
       "1        37078       18929          125237          121605  \n",
       "2         2609        2273            7594            7291  \n",
       "3          856         837            1732            2171  "
      ]
     },
     "metadata": {},
     "output_type": "display_data"
    }
   ],
   "source": [
    "display(site_df[qc_flags_features].apply(pd.value_counts))"
   ]
  },
  {
   "cell_type": "markdown",
   "id": "8196d82a",
   "metadata": {},
   "source": [
    "# Process All Files"
   ]
  },
  {
   "cell_type": "code",
   "execution_count": 47,
   "id": "200183c3",
   "metadata": {},
   "outputs": [
    {
     "data": {
      "text/html": [
       "<div>\n",
       "<style scoped>\n",
       "    .dataframe tbody tr th:only-of-type {\n",
       "        vertical-align: middle;\n",
       "    }\n",
       "\n",
       "    .dataframe tbody tr th {\n",
       "        vertical-align: top;\n",
       "    }\n",
       "\n",
       "    .dataframe thead th {\n",
       "        text-align: right;\n",
       "    }\n",
       "</style>\n",
       "<table border=\"1\" class=\"dataframe\">\n",
       "  <thead>\n",
       "    <tr style=\"text-align: right;\">\n",
       "      <th></th>\n",
       "      <th>0</th>\n",
       "      <th>1</th>\n",
       "      <th>2</th>\n",
       "      <th>3</th>\n",
       "      <th>site_id</th>\n",
       "    </tr>\n",
       "  </thead>\n",
       "  <tbody>\n",
       "    <tr>\n",
       "      <th>TA_F_QC</th>\n",
       "      <td>244413</td>\n",
       "      <td>656</td>\n",
       "      <td>691</td>\n",
       "      <td>0</td>\n",
       "      <td>FR-Pue</td>\n",
       "    </tr>\n",
       "    <tr>\n",
       "      <th>SW_IN_F_QC</th>\n",
       "      <td>243991</td>\n",
       "      <td>887</td>\n",
       "      <td>882</td>\n",
       "      <td>0</td>\n",
       "      <td>FR-Pue</td>\n",
       "    </tr>\n",
       "    <tr>\n",
       "      <th>LW_IN_F_QC</th>\n",
       "      <td>157188</td>\n",
       "      <td>2650</td>\n",
       "      <td>85922</td>\n",
       "      <td>0</td>\n",
       "      <td>FR-Pue</td>\n",
       "    </tr>\n",
       "    <tr>\n",
       "      <th>VPD_F_QC</th>\n",
       "      <td>244036</td>\n",
       "      <td>1031</td>\n",
       "      <td>693</td>\n",
       "      <td>0</td>\n",
       "      <td>FR-Pue</td>\n",
       "    </tr>\n",
       "    <tr>\n",
       "      <th>P_F_QC</th>\n",
       "      <td>245066</td>\n",
       "      <td>0</td>\n",
       "      <td>694</td>\n",
       "      <td>0</td>\n",
       "      <td>FR-Pue</td>\n",
       "    </tr>\n",
       "    <tr>\n",
       "      <th>PA_F_QC</th>\n",
       "      <td>167305</td>\n",
       "      <td>0</td>\n",
       "      <td>78455</td>\n",
       "      <td>0</td>\n",
       "      <td>FR-Pue</td>\n",
       "    </tr>\n",
       "    <tr>\n",
       "      <th>G_F_MDS_QC</th>\n",
       "      <td>118776</td>\n",
       "      <td>2590</td>\n",
       "      <td>5147</td>\n",
       "      <td>16981</td>\n",
       "      <td>FR-Pue</td>\n",
       "    </tr>\n",
       "    <tr>\n",
       "      <th>LE_F_MDS_QC</th>\n",
       "      <td>200474</td>\n",
       "      <td>42644</td>\n",
       "      <td>2472</td>\n",
       "      <td>170</td>\n",
       "      <td>FR-Pue</td>\n",
       "    </tr>\n",
       "    <tr>\n",
       "      <th>H_F_MDS_QC</th>\n",
       "      <td>174992</td>\n",
       "      <td>68291</td>\n",
       "      <td>2272</td>\n",
       "      <td>205</td>\n",
       "      <td>FR-Pue</td>\n",
       "    </tr>\n",
       "    <tr>\n",
       "      <th>NEE_VUT_REF_QC</th>\n",
       "      <td>104186</td>\n",
       "      <td>129287</td>\n",
       "      <td>11770</td>\n",
       "      <td>517</td>\n",
       "      <td>FR-Pue</td>\n",
       "    </tr>\n",
       "    <tr>\n",
       "      <th>NEE_CUT_REF_QC</th>\n",
       "      <td>102025</td>\n",
       "      <td>131020</td>\n",
       "      <td>12190</td>\n",
       "      <td>525</td>\n",
       "      <td>FR-Pue</td>\n",
       "    </tr>\n",
       "  </tbody>\n",
       "</table>\n",
       "</div>"
      ],
      "text/plain": [
       "                     0       1      2      3 site_id\n",
       "TA_F_QC         244413     656    691      0  FR-Pue\n",
       "SW_IN_F_QC      243991     887    882      0  FR-Pue\n",
       "LW_IN_F_QC      157188    2650  85922      0  FR-Pue\n",
       "VPD_F_QC        244036    1031    693      0  FR-Pue\n",
       "P_F_QC          245066       0    694      0  FR-Pue\n",
       "PA_F_QC         167305       0  78455      0  FR-Pue\n",
       "G_F_MDS_QC      118776    2590   5147  16981  FR-Pue\n",
       "LE_F_MDS_QC     200474   42644   2472    170  FR-Pue\n",
       "H_F_MDS_QC      174992   68291   2272    205  FR-Pue\n",
       "NEE_VUT_REF_QC  104186  129287  11770    517  FR-Pue\n",
       "NEE_CUT_REF_QC  102025  131020  12190    525  FR-Pue"
      ]
     },
     "execution_count": 47,
     "metadata": {},
     "output_type": "execute_result"
    }
   ],
   "source": [
    "tmp_df = qc_flags_count_df\n",
    "tmp_df.columns = tmp_df.columns.astype(str)\n",
    "tmp_df['site_id'] = r.site_id\n",
    "tmp_df"
   ]
  },
  {
   "cell_type": "code",
   "execution_count": 86,
   "id": "fdaeda51",
   "metadata": {
    "scrolled": false
   },
   "outputs": [
    {
     "name": "stdout",
     "output_type": "stream",
     "text": [
      "\n",
      "FR-Pue\n"
     ]
    },
    {
     "data": {
      "text/html": [
       "<div>\n",
       "<style scoped>\n",
       "    .dataframe tbody tr th:only-of-type {\n",
       "        vertical-align: middle;\n",
       "    }\n",
       "\n",
       "    .dataframe tbody tr th {\n",
       "        vertical-align: top;\n",
       "    }\n",
       "\n",
       "    .dataframe thead th {\n",
       "        text-align: right;\n",
       "    }\n",
       "</style>\n",
       "<table border=\"1\" class=\"dataframe\">\n",
       "  <thead>\n",
       "    <tr style=\"text-align: right;\">\n",
       "      <th></th>\n",
       "      <th>data_type</th>\n",
       "      <th>0</th>\n",
       "      <th>1</th>\n",
       "      <th>2</th>\n",
       "      <th>3</th>\n",
       "      <th>site_id</th>\n",
       "    </tr>\n",
       "  </thead>\n",
       "  <tbody>\n",
       "    <tr>\n",
       "      <th>0</th>\n",
       "      <td>TA_F_QC</td>\n",
       "      <td>244413</td>\n",
       "      <td>656</td>\n",
       "      <td>691</td>\n",
       "      <td>0</td>\n",
       "      <td>FR-Pue</td>\n",
       "    </tr>\n",
       "    <tr>\n",
       "      <th>1</th>\n",
       "      <td>SW_IN_F_QC</td>\n",
       "      <td>243991</td>\n",
       "      <td>887</td>\n",
       "      <td>882</td>\n",
       "      <td>0</td>\n",
       "      <td>FR-Pue</td>\n",
       "    </tr>\n",
       "    <tr>\n",
       "      <th>2</th>\n",
       "      <td>LW_IN_F_QC</td>\n",
       "      <td>157188</td>\n",
       "      <td>2650</td>\n",
       "      <td>85922</td>\n",
       "      <td>0</td>\n",
       "      <td>FR-Pue</td>\n",
       "    </tr>\n",
       "    <tr>\n",
       "      <th>3</th>\n",
       "      <td>VPD_F_QC</td>\n",
       "      <td>244036</td>\n",
       "      <td>1031</td>\n",
       "      <td>693</td>\n",
       "      <td>0</td>\n",
       "      <td>FR-Pue</td>\n",
       "    </tr>\n",
       "    <tr>\n",
       "      <th>4</th>\n",
       "      <td>P_F_QC</td>\n",
       "      <td>245066</td>\n",
       "      <td>0</td>\n",
       "      <td>694</td>\n",
       "      <td>0</td>\n",
       "      <td>FR-Pue</td>\n",
       "    </tr>\n",
       "    <tr>\n",
       "      <th>5</th>\n",
       "      <td>PA_F_QC</td>\n",
       "      <td>167305</td>\n",
       "      <td>0</td>\n",
       "      <td>78455</td>\n",
       "      <td>0</td>\n",
       "      <td>FR-Pue</td>\n",
       "    </tr>\n",
       "    <tr>\n",
       "      <th>6</th>\n",
       "      <td>G_F_MDS_QC</td>\n",
       "      <td>118776</td>\n",
       "      <td>2590</td>\n",
       "      <td>5147</td>\n",
       "      <td>16981</td>\n",
       "      <td>FR-Pue</td>\n",
       "    </tr>\n",
       "    <tr>\n",
       "      <th>7</th>\n",
       "      <td>LE_F_MDS_QC</td>\n",
       "      <td>200474</td>\n",
       "      <td>42644</td>\n",
       "      <td>2472</td>\n",
       "      <td>170</td>\n",
       "      <td>FR-Pue</td>\n",
       "    </tr>\n",
       "    <tr>\n",
       "      <th>8</th>\n",
       "      <td>H_F_MDS_QC</td>\n",
       "      <td>174992</td>\n",
       "      <td>68291</td>\n",
       "      <td>2272</td>\n",
       "      <td>205</td>\n",
       "      <td>FR-Pue</td>\n",
       "    </tr>\n",
       "    <tr>\n",
       "      <th>9</th>\n",
       "      <td>NEE_VUT_REF_QC</td>\n",
       "      <td>104186</td>\n",
       "      <td>129287</td>\n",
       "      <td>11770</td>\n",
       "      <td>517</td>\n",
       "      <td>FR-Pue</td>\n",
       "    </tr>\n",
       "    <tr>\n",
       "      <th>10</th>\n",
       "      <td>NEE_CUT_REF_QC</td>\n",
       "      <td>102025</td>\n",
       "      <td>131020</td>\n",
       "      <td>12190</td>\n",
       "      <td>525</td>\n",
       "      <td>FR-Pue</td>\n",
       "    </tr>\n",
       "  </tbody>\n",
       "</table>\n",
       "</div>"
      ],
      "text/plain": [
       "         data_type       0       1      2      3 site_id\n",
       "0          TA_F_QC  244413     656    691      0  FR-Pue\n",
       "1       SW_IN_F_QC  243991     887    882      0  FR-Pue\n",
       "2       LW_IN_F_QC  157188    2650  85922      0  FR-Pue\n",
       "3         VPD_F_QC  244036    1031    693      0  FR-Pue\n",
       "4           P_F_QC  245066       0    694      0  FR-Pue\n",
       "5          PA_F_QC  167305       0  78455      0  FR-Pue\n",
       "6       G_F_MDS_QC  118776    2590   5147  16981  FR-Pue\n",
       "7      LE_F_MDS_QC  200474   42644   2472    170  FR-Pue\n",
       "8       H_F_MDS_QC  174992   68291   2272    205  FR-Pue\n",
       "9   NEE_VUT_REF_QC  104186  129287  11770    517  FR-Pue\n",
       "10  NEE_CUT_REF_QC  102025  131020  12190    525  FR-Pue"
      ]
     },
     "metadata": {},
     "output_type": "display_data"
    },
    {
     "name": "stdout",
     "output_type": "stream",
     "text": [
      "\n",
      "ERROR: US-Ne2 is mssing hourly data.\n",
      "\n",
      "US-Ton\n"
     ]
    },
    {
     "data": {
      "text/html": [
       "<div>\n",
       "<style scoped>\n",
       "    .dataframe tbody tr th:only-of-type {\n",
       "        vertical-align: middle;\n",
       "    }\n",
       "\n",
       "    .dataframe tbody tr th {\n",
       "        vertical-align: top;\n",
       "    }\n",
       "\n",
       "    .dataframe thead th {\n",
       "        text-align: right;\n",
       "    }\n",
       "</style>\n",
       "<table border=\"1\" class=\"dataframe\">\n",
       "  <thead>\n",
       "    <tr style=\"text-align: right;\">\n",
       "      <th></th>\n",
       "      <th>data_type</th>\n",
       "      <th>0</th>\n",
       "      <th>1</th>\n",
       "      <th>2</th>\n",
       "      <th>3</th>\n",
       "      <th>site_id</th>\n",
       "    </tr>\n",
       "  </thead>\n",
       "  <tbody>\n",
       "    <tr>\n",
       "      <th>0</th>\n",
       "      <td>TA_F_QC</td>\n",
       "      <td>228390</td>\n",
       "      <td>2357</td>\n",
       "      <td>181</td>\n",
       "      <td>0</td>\n",
       "      <td>US-Ton</td>\n",
       "    </tr>\n",
       "    <tr>\n",
       "      <th>1</th>\n",
       "      <td>SW_IN_F_QC</td>\n",
       "      <td>230048</td>\n",
       "      <td>695</td>\n",
       "      <td>185</td>\n",
       "      <td>0</td>\n",
       "      <td>US-Ton</td>\n",
       "    </tr>\n",
       "    <tr>\n",
       "      <th>2</th>\n",
       "      <td>LW_IN_F_QC</td>\n",
       "      <td>0</td>\n",
       "      <td>0</td>\n",
       "      <td>230928</td>\n",
       "      <td>0</td>\n",
       "      <td>US-Ton</td>\n",
       "    </tr>\n",
       "    <tr>\n",
       "      <th>3</th>\n",
       "      <td>VPD_F_QC</td>\n",
       "      <td>230264</td>\n",
       "      <td>636</td>\n",
       "      <td>28</td>\n",
       "      <td>0</td>\n",
       "      <td>US-Ton</td>\n",
       "    </tr>\n",
       "    <tr>\n",
       "      <th>4</th>\n",
       "      <td>P_F_QC</td>\n",
       "      <td>230621</td>\n",
       "      <td>0</td>\n",
       "      <td>307</td>\n",
       "      <td>0</td>\n",
       "      <td>US-Ton</td>\n",
       "    </tr>\n",
       "    <tr>\n",
       "      <th>5</th>\n",
       "      <td>PA_F_QC</td>\n",
       "      <td>230211</td>\n",
       "      <td>0</td>\n",
       "      <td>717</td>\n",
       "      <td>0</td>\n",
       "      <td>US-Ton</td>\n",
       "    </tr>\n",
       "    <tr>\n",
       "      <th>6</th>\n",
       "      <td>G_F_MDS_QC</td>\n",
       "      <td>227740</td>\n",
       "      <td>2779</td>\n",
       "      <td>327</td>\n",
       "      <td>82</td>\n",
       "      <td>US-Ton</td>\n",
       "    </tr>\n",
       "    <tr>\n",
       "      <th>7</th>\n",
       "      <td>LE_F_MDS_QC</td>\n",
       "      <td>166059</td>\n",
       "      <td>59897</td>\n",
       "      <td>4944</td>\n",
       "      <td>28</td>\n",
       "      <td>US-Ton</td>\n",
       "    </tr>\n",
       "    <tr>\n",
       "      <th>8</th>\n",
       "      <td>H_F_MDS_QC</td>\n",
       "      <td>177417</td>\n",
       "      <td>49063</td>\n",
       "      <td>4424</td>\n",
       "      <td>24</td>\n",
       "      <td>US-Ton</td>\n",
       "    </tr>\n",
       "    <tr>\n",
       "      <th>9</th>\n",
       "      <td>NEE_VUT_REF_QC</td>\n",
       "      <td>65566</td>\n",
       "      <td>149202</td>\n",
       "      <td>15939</td>\n",
       "      <td>221</td>\n",
       "      <td>US-Ton</td>\n",
       "    </tr>\n",
       "    <tr>\n",
       "      <th>10</th>\n",
       "      <td>NEE_CUT_REF_QC</td>\n",
       "      <td>64659</td>\n",
       "      <td>149698</td>\n",
       "      <td>16308</td>\n",
       "      <td>263</td>\n",
       "      <td>US-Ton</td>\n",
       "    </tr>\n",
       "  </tbody>\n",
       "</table>\n",
       "</div>"
      ],
      "text/plain": [
       "         data_type       0       1       2    3 site_id\n",
       "0          TA_F_QC  228390    2357     181    0  US-Ton\n",
       "1       SW_IN_F_QC  230048     695     185    0  US-Ton\n",
       "2       LW_IN_F_QC       0       0  230928    0  US-Ton\n",
       "3         VPD_F_QC  230264     636      28    0  US-Ton\n",
       "4           P_F_QC  230621       0     307    0  US-Ton\n",
       "5          PA_F_QC  230211       0     717    0  US-Ton\n",
       "6       G_F_MDS_QC  227740    2779     327   82  US-Ton\n",
       "7      LE_F_MDS_QC  166059   59897    4944   28  US-Ton\n",
       "8       H_F_MDS_QC  177417   49063    4424   24  US-Ton\n",
       "9   NEE_VUT_REF_QC   65566  149202   15939  221  US-Ton\n",
       "10  NEE_CUT_REF_QC   64659  149698   16308  263  US-Ton"
      ]
     },
     "metadata": {},
     "output_type": "display_data"
    },
    {
     "name": "stdout",
     "output_type": "stream",
     "text": [
      "\n",
      "US-Var\n"
     ]
    },
    {
     "data": {
      "text/html": [
       "<div>\n",
       "<style scoped>\n",
       "    .dataframe tbody tr th:only-of-type {\n",
       "        vertical-align: middle;\n",
       "    }\n",
       "\n",
       "    .dataframe tbody tr th {\n",
       "        vertical-align: top;\n",
       "    }\n",
       "\n",
       "    .dataframe thead th {\n",
       "        text-align: right;\n",
       "    }\n",
       "</style>\n",
       "<table border=\"1\" class=\"dataframe\">\n",
       "  <thead>\n",
       "    <tr style=\"text-align: right;\">\n",
       "      <th></th>\n",
       "      <th>data_type</th>\n",
       "      <th>0</th>\n",
       "      <th>1</th>\n",
       "      <th>2</th>\n",
       "      <th>3</th>\n",
       "      <th>site_id</th>\n",
       "    </tr>\n",
       "  </thead>\n",
       "  <tbody>\n",
       "    <tr>\n",
       "      <th>0</th>\n",
       "      <td>TA_F_QC</td>\n",
       "      <td>242346</td>\n",
       "      <td>3081</td>\n",
       "      <td>285</td>\n",
       "      <td>0</td>\n",
       "      <td>US-Var</td>\n",
       "    </tr>\n",
       "    <tr>\n",
       "      <th>1</th>\n",
       "      <td>SW_IN_F_QC</td>\n",
       "      <td>244314</td>\n",
       "      <td>750</td>\n",
       "      <td>648</td>\n",
       "      <td>0</td>\n",
       "      <td>US-Var</td>\n",
       "    </tr>\n",
       "    <tr>\n",
       "      <th>2</th>\n",
       "      <td>LW_IN_F_QC</td>\n",
       "      <td>177806</td>\n",
       "      <td>5255</td>\n",
       "      <td>62651</td>\n",
       "      <td>0</td>\n",
       "      <td>US-Var</td>\n",
       "    </tr>\n",
       "    <tr>\n",
       "      <th>3</th>\n",
       "      <td>VPD_F_QC</td>\n",
       "      <td>242784</td>\n",
       "      <td>2667</td>\n",
       "      <td>261</td>\n",
       "      <td>0</td>\n",
       "      <td>US-Var</td>\n",
       "    </tr>\n",
       "    <tr>\n",
       "      <th>4</th>\n",
       "      <td>P_F_QC</td>\n",
       "      <td>244960</td>\n",
       "      <td>0</td>\n",
       "      <td>752</td>\n",
       "      <td>0</td>\n",
       "      <td>US-Var</td>\n",
       "    </tr>\n",
       "    <tr>\n",
       "      <th>5</th>\n",
       "      <td>PA_F_QC</td>\n",
       "      <td>239952</td>\n",
       "      <td>0</td>\n",
       "      <td>5760</td>\n",
       "      <td>0</td>\n",
       "      <td>US-Var</td>\n",
       "    </tr>\n",
       "    <tr>\n",
       "      <th>6</th>\n",
       "      <td>G_F_MDS_QC</td>\n",
       "      <td>236712</td>\n",
       "      <td>6564</td>\n",
       "      <td>2260</td>\n",
       "      <td>176</td>\n",
       "      <td>US-Var</td>\n",
       "    </tr>\n",
       "    <tr>\n",
       "      <th>7</th>\n",
       "      <td>LE_F_MDS_QC</td>\n",
       "      <td>208189</td>\n",
       "      <td>35631</td>\n",
       "      <td>1829</td>\n",
       "      <td>63</td>\n",
       "      <td>US-Var</td>\n",
       "    </tr>\n",
       "    <tr>\n",
       "      <th>8</th>\n",
       "      <td>H_F_MDS_QC</td>\n",
       "      <td>226061</td>\n",
       "      <td>18463</td>\n",
       "      <td>1126</td>\n",
       "      <td>62</td>\n",
       "      <td>US-Var</td>\n",
       "    </tr>\n",
       "    <tr>\n",
       "      <th>9</th>\n",
       "      <td>NEE_VUT_REF_QC</td>\n",
       "      <td>103239</td>\n",
       "      <td>130944</td>\n",
       "      <td>11371</td>\n",
       "      <td>158</td>\n",
       "      <td>US-Var</td>\n",
       "    </tr>\n",
       "    <tr>\n",
       "      <th>10</th>\n",
       "      <td>NEE_CUT_REF_QC</td>\n",
       "      <td>104183</td>\n",
       "      <td>129935</td>\n",
       "      <td>11435</td>\n",
       "      <td>159</td>\n",
       "      <td>US-Var</td>\n",
       "    </tr>\n",
       "  </tbody>\n",
       "</table>\n",
       "</div>"
      ],
      "text/plain": [
       "         data_type       0       1      2    3 site_id\n",
       "0          TA_F_QC  242346    3081    285    0  US-Var\n",
       "1       SW_IN_F_QC  244314     750    648    0  US-Var\n",
       "2       LW_IN_F_QC  177806    5255  62651    0  US-Var\n",
       "3         VPD_F_QC  242784    2667    261    0  US-Var\n",
       "4           P_F_QC  244960       0    752    0  US-Var\n",
       "5          PA_F_QC  239952       0   5760    0  US-Var\n",
       "6       G_F_MDS_QC  236712    6564   2260  176  US-Var\n",
       "7      LE_F_MDS_QC  208189   35631   1829   63  US-Var\n",
       "8       H_F_MDS_QC  226061   18463   1126   62  US-Var\n",
       "9   NEE_VUT_REF_QC  103239  130944  11371  158  US-Var\n",
       "10  NEE_CUT_REF_QC  104183  129935  11435  159  US-Var"
      ]
     },
     "metadata": {},
     "output_type": "display_data"
    },
    {
     "name": "stdout",
     "output_type": "stream",
     "text": [
      "\n",
      "ERROR: US-MMS is mssing hourly data.\n",
      "\n",
      "US-Vcp\n"
     ]
    },
    {
     "data": {
      "text/html": [
       "<div>\n",
       "<style scoped>\n",
       "    .dataframe tbody tr th:only-of-type {\n",
       "        vertical-align: middle;\n",
       "    }\n",
       "\n",
       "    .dataframe tbody tr th {\n",
       "        vertical-align: top;\n",
       "    }\n",
       "\n",
       "    .dataframe thead th {\n",
       "        text-align: right;\n",
       "    }\n",
       "</style>\n",
       "<table border=\"1\" class=\"dataframe\">\n",
       "  <thead>\n",
       "    <tr style=\"text-align: right;\">\n",
       "      <th></th>\n",
       "      <th>data_type</th>\n",
       "      <th>0</th>\n",
       "      <th>1</th>\n",
       "      <th>2</th>\n",
       "      <th>3</th>\n",
       "      <th>site_id</th>\n",
       "    </tr>\n",
       "  </thead>\n",
       "  <tbody>\n",
       "    <tr>\n",
       "      <th>0</th>\n",
       "      <td>TA_F_QC</td>\n",
       "      <td>164905</td>\n",
       "      <td>8610</td>\n",
       "      <td>1013</td>\n",
       "      <td>0</td>\n",
       "      <td>US-Vcp</td>\n",
       "    </tr>\n",
       "    <tr>\n",
       "      <th>1</th>\n",
       "      <td>SW_IN_F_QC</td>\n",
       "      <td>171379</td>\n",
       "      <td>1580</td>\n",
       "      <td>1569</td>\n",
       "      <td>0</td>\n",
       "      <td>US-Vcp</td>\n",
       "    </tr>\n",
       "    <tr>\n",
       "      <th>2</th>\n",
       "      <td>LW_IN_F_QC</td>\n",
       "      <td>0</td>\n",
       "      <td>0</td>\n",
       "      <td>174528</td>\n",
       "      <td>0</td>\n",
       "      <td>US-Vcp</td>\n",
       "    </tr>\n",
       "    <tr>\n",
       "      <th>3</th>\n",
       "      <td>VPD_F_QC</td>\n",
       "      <td>149022</td>\n",
       "      <td>9745</td>\n",
       "      <td>15761</td>\n",
       "      <td>0</td>\n",
       "      <td>US-Vcp</td>\n",
       "    </tr>\n",
       "    <tr>\n",
       "      <th>4</th>\n",
       "      <td>P_F_QC</td>\n",
       "      <td>115066</td>\n",
       "      <td>0</td>\n",
       "      <td>59462</td>\n",
       "      <td>0</td>\n",
       "      <td>US-Vcp</td>\n",
       "    </tr>\n",
       "    <tr>\n",
       "      <th>5</th>\n",
       "      <td>PA_F_QC</td>\n",
       "      <td>169772</td>\n",
       "      <td>0</td>\n",
       "      <td>4756</td>\n",
       "      <td>0</td>\n",
       "      <td>US-Vcp</td>\n",
       "    </tr>\n",
       "    <tr>\n",
       "      <th>6</th>\n",
       "      <td>G_F_MDS_QC</td>\n",
       "      <td>0</td>\n",
       "      <td>0</td>\n",
       "      <td>0</td>\n",
       "      <td>0</td>\n",
       "      <td>US-Vcp</td>\n",
       "    </tr>\n",
       "    <tr>\n",
       "      <th>7</th>\n",
       "      <td>LE_F_MDS_QC</td>\n",
       "      <td>0</td>\n",
       "      <td>0</td>\n",
       "      <td>0</td>\n",
       "      <td>0</td>\n",
       "      <td>US-Vcp</td>\n",
       "    </tr>\n",
       "    <tr>\n",
       "      <th>8</th>\n",
       "      <td>H_F_MDS_QC</td>\n",
       "      <td>0</td>\n",
       "      <td>0</td>\n",
       "      <td>0</td>\n",
       "      <td>0</td>\n",
       "      <td>US-Vcp</td>\n",
       "    </tr>\n",
       "    <tr>\n",
       "      <th>9</th>\n",
       "      <td>NEE_VUT_REF_QC</td>\n",
       "      <td>70948</td>\n",
       "      <td>95952</td>\n",
       "      <td>6987</td>\n",
       "      <td>641</td>\n",
       "      <td>US-Vcp</td>\n",
       "    </tr>\n",
       "    <tr>\n",
       "      <th>10</th>\n",
       "      <td>NEE_CUT_REF_QC</td>\n",
       "      <td>70404</td>\n",
       "      <td>96060</td>\n",
       "      <td>7416</td>\n",
       "      <td>648</td>\n",
       "      <td>US-Vcp</td>\n",
       "    </tr>\n",
       "  </tbody>\n",
       "</table>\n",
       "</div>"
      ],
      "text/plain": [
       "         data_type       0      1       2    3 site_id\n",
       "0          TA_F_QC  164905   8610    1013    0  US-Vcp\n",
       "1       SW_IN_F_QC  171379   1580    1569    0  US-Vcp\n",
       "2       LW_IN_F_QC       0      0  174528    0  US-Vcp\n",
       "3         VPD_F_QC  149022   9745   15761    0  US-Vcp\n",
       "4           P_F_QC  115066      0   59462    0  US-Vcp\n",
       "5          PA_F_QC  169772      0    4756    0  US-Vcp\n",
       "6       G_F_MDS_QC       0      0       0    0  US-Vcp\n",
       "7      LE_F_MDS_QC       0      0       0    0  US-Vcp\n",
       "8       H_F_MDS_QC       0      0       0    0  US-Vcp\n",
       "9   NEE_VUT_REF_QC   70948  95952    6987  641  US-Vcp\n",
       "10  NEE_CUT_REF_QC   70404  96060    7416  648  US-Vcp"
      ]
     },
     "metadata": {},
     "output_type": "display_data"
    },
    {
     "name": "stdout",
     "output_type": "stream",
     "text": [
      "\n",
      "CH-Lae\n"
     ]
    },
    {
     "data": {
      "text/html": [
       "<div>\n",
       "<style scoped>\n",
       "    .dataframe tbody tr th:only-of-type {\n",
       "        vertical-align: middle;\n",
       "    }\n",
       "\n",
       "    .dataframe tbody tr th {\n",
       "        vertical-align: top;\n",
       "    }\n",
       "\n",
       "    .dataframe thead th {\n",
       "        text-align: right;\n",
       "    }\n",
       "</style>\n",
       "<table border=\"1\" class=\"dataframe\">\n",
       "  <thead>\n",
       "    <tr style=\"text-align: right;\">\n",
       "      <th></th>\n",
       "      <th>data_type</th>\n",
       "      <th>0</th>\n",
       "      <th>1</th>\n",
       "      <th>2</th>\n",
       "      <th>3</th>\n",
       "      <th>site_id</th>\n",
       "    </tr>\n",
       "  </thead>\n",
       "  <tbody>\n",
       "    <tr>\n",
       "      <th>0</th>\n",
       "      <td>TA_F_QC</td>\n",
       "      <td>278102</td>\n",
       "      <td>1258</td>\n",
       "      <td>9024</td>\n",
       "      <td>0</td>\n",
       "      <td>CH-Lae</td>\n",
       "    </tr>\n",
       "    <tr>\n",
       "      <th>1</th>\n",
       "      <td>SW_IN_F_QC</td>\n",
       "      <td>277629</td>\n",
       "      <td>1173</td>\n",
       "      <td>9561</td>\n",
       "      <td>21</td>\n",
       "      <td>CH-Lae</td>\n",
       "    </tr>\n",
       "    <tr>\n",
       "      <th>2</th>\n",
       "      <td>LW_IN_F_QC</td>\n",
       "      <td>260919</td>\n",
       "      <td>1497</td>\n",
       "      <td>25968</td>\n",
       "      <td>0</td>\n",
       "      <td>CH-Lae</td>\n",
       "    </tr>\n",
       "    <tr>\n",
       "      <th>3</th>\n",
       "      <td>VPD_F_QC</td>\n",
       "      <td>278014</td>\n",
       "      <td>1346</td>\n",
       "      <td>9024</td>\n",
       "      <td>0</td>\n",
       "      <td>CH-Lae</td>\n",
       "    </tr>\n",
       "    <tr>\n",
       "      <th>4</th>\n",
       "      <td>P_F_QC</td>\n",
       "      <td>272208</td>\n",
       "      <td>0</td>\n",
       "      <td>0</td>\n",
       "      <td>0</td>\n",
       "      <td>CH-Lae</td>\n",
       "    </tr>\n",
       "    <tr>\n",
       "      <th>5</th>\n",
       "      <td>PA_F_QC</td>\n",
       "      <td>245053</td>\n",
       "      <td>0</td>\n",
       "      <td>27155</td>\n",
       "      <td>0</td>\n",
       "      <td>CH-Lae</td>\n",
       "    </tr>\n",
       "    <tr>\n",
       "      <th>6</th>\n",
       "      <td>G_F_MDS_QC</td>\n",
       "      <td>0</td>\n",
       "      <td>0</td>\n",
       "      <td>0</td>\n",
       "      <td>0</td>\n",
       "      <td>CH-Lae</td>\n",
       "    </tr>\n",
       "    <tr>\n",
       "      <th>7</th>\n",
       "      <td>LE_F_MDS_QC</td>\n",
       "      <td>182597</td>\n",
       "      <td>102424</td>\n",
       "      <td>3087</td>\n",
       "      <td>276</td>\n",
       "      <td>CH-Lae</td>\n",
       "    </tr>\n",
       "    <tr>\n",
       "      <th>8</th>\n",
       "      <td>H_F_MDS_QC</td>\n",
       "      <td>226736</td>\n",
       "      <td>60632</td>\n",
       "      <td>994</td>\n",
       "      <td>22</td>\n",
       "      <td>CH-Lae</td>\n",
       "    </tr>\n",
       "    <tr>\n",
       "      <th>9</th>\n",
       "      <td>NEE_VUT_REF_QC</td>\n",
       "      <td>89467</td>\n",
       "      <td>183615</td>\n",
       "      <td>14415</td>\n",
       "      <td>887</td>\n",
       "      <td>CH-Lae</td>\n",
       "    </tr>\n",
       "    <tr>\n",
       "      <th>10</th>\n",
       "      <td>NEE_CUT_REF_QC</td>\n",
       "      <td>94121</td>\n",
       "      <td>180453</td>\n",
       "      <td>12672</td>\n",
       "      <td>1138</td>\n",
       "      <td>CH-Lae</td>\n",
       "    </tr>\n",
       "  </tbody>\n",
       "</table>\n",
       "</div>"
      ],
      "text/plain": [
       "         data_type       0       1      2     3 site_id\n",
       "0          TA_F_QC  278102    1258   9024     0  CH-Lae\n",
       "1       SW_IN_F_QC  277629    1173   9561    21  CH-Lae\n",
       "2       LW_IN_F_QC  260919    1497  25968     0  CH-Lae\n",
       "3         VPD_F_QC  278014    1346   9024     0  CH-Lae\n",
       "4           P_F_QC  272208       0      0     0  CH-Lae\n",
       "5          PA_F_QC  245053       0  27155     0  CH-Lae\n",
       "6       G_F_MDS_QC       0       0      0     0  CH-Lae\n",
       "7      LE_F_MDS_QC  182597  102424   3087   276  CH-Lae\n",
       "8       H_F_MDS_QC  226736   60632    994    22  CH-Lae\n",
       "9   NEE_VUT_REF_QC   89467  183615  14415   887  CH-Lae\n",
       "10  NEE_CUT_REF_QC   94121  180453  12672  1138  CH-Lae"
      ]
     },
     "metadata": {},
     "output_type": "display_data"
    },
    {
     "name": "stdout",
     "output_type": "stream",
     "text": [
      "\n",
      "ES-LJu\n"
     ]
    },
    {
     "data": {
      "text/html": [
       "<div>\n",
       "<style scoped>\n",
       "    .dataframe tbody tr th:only-of-type {\n",
       "        vertical-align: middle;\n",
       "    }\n",
       "\n",
       "    .dataframe tbody tr th {\n",
       "        vertical-align: top;\n",
       "    }\n",
       "\n",
       "    .dataframe thead th {\n",
       "        text-align: right;\n",
       "    }\n",
       "</style>\n",
       "<table border=\"1\" class=\"dataframe\">\n",
       "  <thead>\n",
       "    <tr style=\"text-align: right;\">\n",
       "      <th></th>\n",
       "      <th>data_type</th>\n",
       "      <th>0</th>\n",
       "      <th>1</th>\n",
       "      <th>2</th>\n",
       "      <th>3</th>\n",
       "      <th>site_id</th>\n",
       "    </tr>\n",
       "  </thead>\n",
       "  <tbody>\n",
       "    <tr>\n",
       "      <th>0</th>\n",
       "      <td>TA_F_QC</td>\n",
       "      <td>234618</td>\n",
       "      <td>3356</td>\n",
       "      <td>1642</td>\n",
       "      <td>0</td>\n",
       "      <td>ES-LJu</td>\n",
       "    </tr>\n",
       "    <tr>\n",
       "      <th>1</th>\n",
       "      <td>SW_IN_F_QC</td>\n",
       "      <td>230126</td>\n",
       "      <td>1421</td>\n",
       "      <td>8069</td>\n",
       "      <td>0</td>\n",
       "      <td>ES-LJu</td>\n",
       "    </tr>\n",
       "    <tr>\n",
       "      <th>2</th>\n",
       "      <td>LW_IN_F_QC</td>\n",
       "      <td>0</td>\n",
       "      <td>0</td>\n",
       "      <td>239616</td>\n",
       "      <td>0</td>\n",
       "      <td>ES-LJu</td>\n",
       "    </tr>\n",
       "    <tr>\n",
       "      <th>3</th>\n",
       "      <td>VPD_F_QC</td>\n",
       "      <td>227728</td>\n",
       "      <td>7392</td>\n",
       "      <td>4496</td>\n",
       "      <td>0</td>\n",
       "      <td>ES-LJu</td>\n",
       "    </tr>\n",
       "    <tr>\n",
       "      <th>4</th>\n",
       "      <td>P_F_QC</td>\n",
       "      <td>209448</td>\n",
       "      <td>0</td>\n",
       "      <td>30168</td>\n",
       "      <td>0</td>\n",
       "      <td>ES-LJu</td>\n",
       "    </tr>\n",
       "    <tr>\n",
       "      <th>5</th>\n",
       "      <td>PA_F_QC</td>\n",
       "      <td>229143</td>\n",
       "      <td>0</td>\n",
       "      <td>10473</td>\n",
       "      <td>0</td>\n",
       "      <td>ES-LJu</td>\n",
       "    </tr>\n",
       "    <tr>\n",
       "      <th>6</th>\n",
       "      <td>G_F_MDS_QC</td>\n",
       "      <td>233686</td>\n",
       "      <td>3443</td>\n",
       "      <td>1457</td>\n",
       "      <td>1030</td>\n",
       "      <td>ES-LJu</td>\n",
       "    </tr>\n",
       "    <tr>\n",
       "      <th>7</th>\n",
       "      <td>LE_F_MDS_QC</td>\n",
       "      <td>199073</td>\n",
       "      <td>37078</td>\n",
       "      <td>2609</td>\n",
       "      <td>856</td>\n",
       "      <td>ES-LJu</td>\n",
       "    </tr>\n",
       "    <tr>\n",
       "      <th>8</th>\n",
       "      <td>H_F_MDS_QC</td>\n",
       "      <td>217577</td>\n",
       "      <td>18929</td>\n",
       "      <td>2273</td>\n",
       "      <td>837</td>\n",
       "      <td>ES-LJu</td>\n",
       "    </tr>\n",
       "    <tr>\n",
       "      <th>9</th>\n",
       "      <td>NEE_VUT_REF_QC</td>\n",
       "      <td>105053</td>\n",
       "      <td>125237</td>\n",
       "      <td>7594</td>\n",
       "      <td>1732</td>\n",
       "      <td>ES-LJu</td>\n",
       "    </tr>\n",
       "    <tr>\n",
       "      <th>10</th>\n",
       "      <td>NEE_CUT_REF_QC</td>\n",
       "      <td>108549</td>\n",
       "      <td>121605</td>\n",
       "      <td>7291</td>\n",
       "      <td>2171</td>\n",
       "      <td>ES-LJu</td>\n",
       "    </tr>\n",
       "  </tbody>\n",
       "</table>\n",
       "</div>"
      ],
      "text/plain": [
       "         data_type       0       1       2     3 site_id\n",
       "0          TA_F_QC  234618    3356    1642     0  ES-LJu\n",
       "1       SW_IN_F_QC  230126    1421    8069     0  ES-LJu\n",
       "2       LW_IN_F_QC       0       0  239616     0  ES-LJu\n",
       "3         VPD_F_QC  227728    7392    4496     0  ES-LJu\n",
       "4           P_F_QC  209448       0   30168     0  ES-LJu\n",
       "5          PA_F_QC  229143       0   10473     0  ES-LJu\n",
       "6       G_F_MDS_QC  233686    3443    1457  1030  ES-LJu\n",
       "7      LE_F_MDS_QC  199073   37078    2609   856  ES-LJu\n",
       "8       H_F_MDS_QC  217577   18929    2273   837  ES-LJu\n",
       "9   NEE_VUT_REF_QC  105053  125237    7594  1732  ES-LJu\n",
       "10  NEE_CUT_REF_QC  108549  121605    7291  2171  ES-LJu"
      ]
     },
     "metadata": {},
     "output_type": "display_data"
    }
   ],
   "source": [
    "qc_df = None\n",
    "for i, r in site_metadata_df[['site_id','filename']].iterrows():\n",
    "    if not r.filename or type(r.filename) != type(\"\"):\n",
    "        print(f'\\nERROR: {r.site_id} is mssing hourly data.')\n",
    "        continue\n",
    "\n",
    "    local_filename = tmp_dir + \"\\\\\" + r.filename\n",
    "    site_df = pd.read_csv(local_filename)\n",
    "    site_df['datetime'] = pd.to_datetime(site_df['datetime'])\n",
    "    site_df['date'] = pd.to_datetime(site_df['date'])\n",
    "    site_df[qc_flags_features] = site_df[qc_flags_features].astype(qc_flag_dtype)\n",
    "    \n",
    "    print(f\"\\n{r.site_id}\")\n",
    "#     if site_df.isna().sum().sum() != 0:\n",
    "#         print(f'{site_df.isna().sum()}\\n')\n",
    "    \n",
    "    qc_flags_count_df = site_df[qc_flags_features].apply(pd.value_counts).T\n",
    "    qc_flags_count_df.columns = qc_flags_count_df.columns.astype(str)\n",
    "    qc_flags_count_df['site_id'] = r.site_id\n",
    "    qc_flags_count_df.reset_index(inplace=True)\n",
    "    qc_flags_count_df.rename(columns={\"index\": \"data_type\"}, inplace=True)\n",
    "    display(qc_flags_count_df)\n",
    "    \n",
    "    \n",
    "    if type(qc_df) == type(None):\n",
    "        qc_df = qc_flags_count_df\n",
    "    else:\n",
    "        qc_df = pd.concat([qc_df, qc_flags_count_df])\n",
    "    \n",
    "    #qc_flags_count_df.T.plot.bar(stacked=True, title = f'{r.site_id}: Data QC Distributions')"
   ]
  },
  {
   "cell_type": "code",
   "execution_count": 87,
   "id": "22e8f4dc",
   "metadata": {},
   "outputs": [],
   "source": [
    "qc_df.to_csv(data_dir+\"golden_sites_qc_count.csv\", index=False)"
   ]
  },
  {
   "cell_type": "markdown",
   "id": "5f803b3e",
   "metadata": {},
   "source": [
    "# Plot Data QC Flag Distributions"
   ]
  },
  {
   "cell_type": "code",
   "execution_count": 7,
   "id": "22d6fe2f",
   "metadata": {},
   "outputs": [],
   "source": [
    "qc_df = pd.read_csv(data_dir+\"golden_sites_qc_count.csv\")"
   ]
  },
  {
   "cell_type": "code",
   "execution_count": 60,
   "id": "5ff2059d",
   "metadata": {},
   "outputs": [
    {
     "data": {
      "application/vnd.plotly.v1+json": {
       "config": {
        "plotlyServerURL": "https://plot.ly"
       },
       "data": [
        {
         "hovertemplate": "%{x}<br>\"0\":%{y}",
         "marker": {
          "color": "#3DB14E"
         },
         "name": "0(measured)",
         "offsetgroup": "0",
         "showlegend": false,
         "type": "bar",
         "x": [],
         "y": []
        },
        {
         "base": [],
         "hovertemplate": "%{x}<br>\"1\":%{y}",
         "marker": {
          "color": "#007B93"
         },
         "name": "1",
         "offsetgroup": "0",
         "showlegend": false,
         "type": "bar",
         "x": [],
         "y": []
        },
        {
         "base": [],
         "hovertemplate": "%{x}<br>\"2\":%{y}",
         "marker": {
          "color": "#FFC107"
         },
         "name": "2(medium)",
         "offsetgroup": "0",
         "showlegend": false,
         "type": "bar",
         "x": [],
         "y": []
        },
        {
         "base": [],
         "hovertemplate": "%{x}<br>\"3\":%{y}",
         "marker": {
          "color": "#FF4500"
         },
         "name": "3(bad)",
         "offsetgroup": "0",
         "showlegend": false,
         "text": "US-MMS",
         "textangle": -60,
         "textfont": {
          "size": 100
         },
         "textposition": "outside",
         "type": "bar",
         "x": [],
         "y": []
        },
        {
         "hovertemplate": "%{x}<br>\"0\":%{y}",
         "marker": {
          "color": "#3DB14E"
         },
         "name": "0(measured)",
         "offsetgroup": "1",
         "showlegend": true,
         "type": "bar",
         "x": [
          "TA_F_QC",
          "SW_IN_F_QC",
          "LW_IN_F_QC",
          "VPD_F_QC",
          "P_F_QC",
          "PA_F_QC",
          "G_F_MDS_QC",
          "LE_F_MDS_QC",
          "H_F_MDS_QC",
          "NEE_VUT_REF_QC",
          "NEE_CUT_REF_QC"
         ],
         "y": [
          164905,
          171379,
          0,
          149022,
          115066,
          169772,
          0,
          0,
          0,
          70948,
          70404
         ]
        },
        {
         "base": [
          164905,
          171379,
          0,
          149022,
          115066,
          169772,
          0,
          0,
          0,
          70948,
          70404
         ],
         "hovertemplate": "%{x}<br>\"1\":%{y}",
         "marker": {
          "color": "#007B93"
         },
         "name": "1",
         "offsetgroup": "1",
         "showlegend": true,
         "type": "bar",
         "x": [
          "TA_F_QC",
          "SW_IN_F_QC",
          "LW_IN_F_QC",
          "VPD_F_QC",
          "P_F_QC",
          "PA_F_QC",
          "G_F_MDS_QC",
          "LE_F_MDS_QC",
          "H_F_MDS_QC",
          "NEE_VUT_REF_QC",
          "NEE_CUT_REF_QC"
         ],
         "y": [
          8610,
          1580,
          0,
          9745,
          0,
          0,
          0,
          0,
          0,
          95952,
          96060
         ]
        },
        {
         "base": [
          173515,
          172959,
          0,
          158767,
          115066,
          169772,
          0,
          0,
          0,
          166900,
          166464
         ],
         "hovertemplate": "%{x}<br>\"2\":%{y}",
         "marker": {
          "color": "#FFC107"
         },
         "name": "2(medium)",
         "offsetgroup": "1",
         "showlegend": true,
         "type": "bar",
         "x": [
          "TA_F_QC",
          "SW_IN_F_QC",
          "LW_IN_F_QC",
          "VPD_F_QC",
          "P_F_QC",
          "PA_F_QC",
          "G_F_MDS_QC",
          "LE_F_MDS_QC",
          "H_F_MDS_QC",
          "NEE_VUT_REF_QC",
          "NEE_CUT_REF_QC"
         ],
         "y": [
          1013,
          1569,
          174528,
          15761,
          59462,
          4756,
          0,
          0,
          0,
          6987,
          7416
         ]
        },
        {
         "base": [
          174528,
          174528,
          174528,
          174528,
          174528,
          174528,
          0,
          0,
          0,
          173887,
          173880
         ],
         "hovertemplate": "%{x}<br>\"3\":%{y}",
         "marker": {
          "color": "#FF4500"
         },
         "name": "3(bad)",
         "offsetgroup": "1",
         "showlegend": true,
         "text": "US-Vcp",
         "textangle": -60,
         "textfont": {
          "size": 100
         },
         "textposition": "outside",
         "type": "bar",
         "x": [
          "TA_F_QC",
          "SW_IN_F_QC",
          "LW_IN_F_QC",
          "VPD_F_QC",
          "P_F_QC",
          "PA_F_QC",
          "G_F_MDS_QC",
          "LE_F_MDS_QC",
          "H_F_MDS_QC",
          "NEE_VUT_REF_QC",
          "NEE_CUT_REF_QC"
         ],
         "y": [
          0,
          0,
          0,
          0,
          0,
          0,
          0,
          0,
          0,
          641,
          648
         ]
        },
        {
         "hovertemplate": "%{x}<br>\"0\":%{y}",
         "marker": {
          "color": "#3DB14E"
         },
         "name": "0(measured)",
         "offsetgroup": "2",
         "showlegend": false,
         "type": "bar",
         "x": [
          "TA_F_QC",
          "SW_IN_F_QC",
          "LW_IN_F_QC",
          "VPD_F_QC",
          "P_F_QC",
          "PA_F_QC",
          "G_F_MDS_QC",
          "LE_F_MDS_QC",
          "H_F_MDS_QC",
          "NEE_VUT_REF_QC",
          "NEE_CUT_REF_QC"
         ],
         "y": [
          244413,
          243991,
          157188,
          244036,
          245066,
          167305,
          118776,
          200474,
          174992,
          104186,
          102025
         ]
        },
        {
         "base": [
          244413,
          243991,
          157188,
          244036,
          245066,
          167305,
          118776,
          200474,
          174992,
          104186,
          102025
         ],
         "hovertemplate": "%{x}<br>\"1\":%{y}",
         "marker": {
          "color": "#007B93"
         },
         "name": "1",
         "offsetgroup": "2",
         "showlegend": false,
         "type": "bar",
         "x": [
          "TA_F_QC",
          "SW_IN_F_QC",
          "LW_IN_F_QC",
          "VPD_F_QC",
          "P_F_QC",
          "PA_F_QC",
          "G_F_MDS_QC",
          "LE_F_MDS_QC",
          "H_F_MDS_QC",
          "NEE_VUT_REF_QC",
          "NEE_CUT_REF_QC"
         ],
         "y": [
          656,
          887,
          2650,
          1031,
          0,
          0,
          2590,
          42644,
          68291,
          129287,
          131020
         ]
        },
        {
         "base": [
          245069,
          244878,
          159838,
          245067,
          245066,
          167305,
          121366,
          243118,
          243283,
          233473,
          233045
         ],
         "hovertemplate": "%{x}<br>\"2\":%{y}",
         "marker": {
          "color": "#FFC107"
         },
         "name": "2(medium)",
         "offsetgroup": "2",
         "showlegend": false,
         "type": "bar",
         "x": [
          "TA_F_QC",
          "SW_IN_F_QC",
          "LW_IN_F_QC",
          "VPD_F_QC",
          "P_F_QC",
          "PA_F_QC",
          "G_F_MDS_QC",
          "LE_F_MDS_QC",
          "H_F_MDS_QC",
          "NEE_VUT_REF_QC",
          "NEE_CUT_REF_QC"
         ],
         "y": [
          691,
          882,
          85922,
          693,
          694,
          78455,
          5147,
          2472,
          2272,
          11770,
          12190
         ]
        },
        {
         "base": [
          245760,
          245760,
          245760,
          245760,
          245760,
          245760,
          126513,
          245590,
          245555,
          245243,
          245235
         ],
         "hovertemplate": "%{x}<br>\"3\":%{y}",
         "marker": {
          "color": "#FF4500"
         },
         "name": "3(bad)",
         "offsetgroup": "2",
         "showlegend": false,
         "text": "FR-Pue",
         "textangle": -60,
         "textfont": {
          "size": 100
         },
         "textposition": "outside",
         "type": "bar",
         "x": [
          "TA_F_QC",
          "SW_IN_F_QC",
          "LW_IN_F_QC",
          "VPD_F_QC",
          "P_F_QC",
          "PA_F_QC",
          "G_F_MDS_QC",
          "LE_F_MDS_QC",
          "H_F_MDS_QC",
          "NEE_VUT_REF_QC",
          "NEE_CUT_REF_QC"
         ],
         "y": [
          0,
          0,
          0,
          0,
          0,
          0,
          16981,
          170,
          205,
          517,
          525
         ]
        },
        {
         "hovertemplate": "%{x}<br>\"0\":%{y}",
         "marker": {
          "color": "#3DB14E"
         },
         "name": "0(measured)",
         "offsetgroup": "3",
         "showlegend": false,
         "type": "bar",
         "x": [
          "TA_F_QC",
          "SW_IN_F_QC",
          "LW_IN_F_QC",
          "VPD_F_QC",
          "P_F_QC",
          "PA_F_QC",
          "G_F_MDS_QC",
          "LE_F_MDS_QC",
          "H_F_MDS_QC",
          "NEE_VUT_REF_QC",
          "NEE_CUT_REF_QC"
         ],
         "y": [
          278102,
          277629,
          260919,
          278014,
          272208,
          245053,
          0,
          182597,
          226736,
          89467,
          94121
         ]
        },
        {
         "base": [
          278102,
          277629,
          260919,
          278014,
          272208,
          245053,
          0,
          182597,
          226736,
          89467,
          94121
         ],
         "hovertemplate": "%{x}<br>\"1\":%{y}",
         "marker": {
          "color": "#007B93"
         },
         "name": "1",
         "offsetgroup": "3",
         "showlegend": false,
         "type": "bar",
         "x": [
          "TA_F_QC",
          "SW_IN_F_QC",
          "LW_IN_F_QC",
          "VPD_F_QC",
          "P_F_QC",
          "PA_F_QC",
          "G_F_MDS_QC",
          "LE_F_MDS_QC",
          "H_F_MDS_QC",
          "NEE_VUT_REF_QC",
          "NEE_CUT_REF_QC"
         ],
         "y": [
          1258,
          1173,
          1497,
          1346,
          0,
          0,
          0,
          102424,
          60632,
          183615,
          180453
         ]
        },
        {
         "base": [
          279360,
          278802,
          262416,
          279360,
          272208,
          245053,
          0,
          285021,
          287368,
          273082,
          274574
         ],
         "hovertemplate": "%{x}<br>\"2\":%{y}",
         "marker": {
          "color": "#FFC107"
         },
         "name": "2(medium)",
         "offsetgroup": "3",
         "showlegend": false,
         "type": "bar",
         "x": [
          "TA_F_QC",
          "SW_IN_F_QC",
          "LW_IN_F_QC",
          "VPD_F_QC",
          "P_F_QC",
          "PA_F_QC",
          "G_F_MDS_QC",
          "LE_F_MDS_QC",
          "H_F_MDS_QC",
          "NEE_VUT_REF_QC",
          "NEE_CUT_REF_QC"
         ],
         "y": [
          9024,
          9561,
          25968,
          9024,
          0,
          27155,
          0,
          3087,
          994,
          14415,
          12672
         ]
        },
        {
         "base": [
          288384,
          288363,
          288384,
          288384,
          272208,
          272208,
          0,
          288108,
          288362,
          287497,
          287246
         ],
         "hovertemplate": "%{x}<br>\"3\":%{y}",
         "marker": {
          "color": "#FF4500"
         },
         "name": "3(bad)",
         "offsetgroup": "3",
         "showlegend": false,
         "text": "CH-Lae",
         "textangle": -60,
         "textfont": {
          "size": 100
         },
         "textposition": "outside",
         "type": "bar",
         "x": [
          "TA_F_QC",
          "SW_IN_F_QC",
          "LW_IN_F_QC",
          "VPD_F_QC",
          "P_F_QC",
          "PA_F_QC",
          "G_F_MDS_QC",
          "LE_F_MDS_QC",
          "H_F_MDS_QC",
          "NEE_VUT_REF_QC",
          "NEE_CUT_REF_QC"
         ],
         "y": [
          0,
          21,
          0,
          0,
          0,
          0,
          0,
          276,
          22,
          887,
          1138
         ]
        },
        {
         "hovertemplate": "%{x}<br>\"0\":%{y}",
         "marker": {
          "color": "#3DB14E"
         },
         "name": "0(measured)",
         "offsetgroup": "4",
         "showlegend": false,
         "type": "bar",
         "x": [
          "TA_F_QC",
          "SW_IN_F_QC",
          "LW_IN_F_QC",
          "VPD_F_QC",
          "P_F_QC",
          "PA_F_QC",
          "G_F_MDS_QC",
          "LE_F_MDS_QC",
          "H_F_MDS_QC",
          "NEE_VUT_REF_QC",
          "NEE_CUT_REF_QC"
         ],
         "y": [
          242346,
          244314,
          177806,
          242784,
          244960,
          239952,
          236712,
          208189,
          226061,
          103239,
          104183
         ]
        },
        {
         "base": [
          242346,
          244314,
          177806,
          242784,
          244960,
          239952,
          236712,
          208189,
          226061,
          103239,
          104183
         ],
         "hovertemplate": "%{x}<br>\"1\":%{y}",
         "marker": {
          "color": "#007B93"
         },
         "name": "1",
         "offsetgroup": "4",
         "showlegend": false,
         "type": "bar",
         "x": [
          "TA_F_QC",
          "SW_IN_F_QC",
          "LW_IN_F_QC",
          "VPD_F_QC",
          "P_F_QC",
          "PA_F_QC",
          "G_F_MDS_QC",
          "LE_F_MDS_QC",
          "H_F_MDS_QC",
          "NEE_VUT_REF_QC",
          "NEE_CUT_REF_QC"
         ],
         "y": [
          3081,
          750,
          5255,
          2667,
          0,
          0,
          6564,
          35631,
          18463,
          130944,
          129935
         ]
        },
        {
         "base": [
          245427,
          245064,
          183061,
          245451,
          244960,
          239952,
          243276,
          243820,
          244524,
          234183,
          234118
         ],
         "hovertemplate": "%{x}<br>\"2\":%{y}",
         "marker": {
          "color": "#FFC107"
         },
         "name": "2(medium)",
         "offsetgroup": "4",
         "showlegend": false,
         "type": "bar",
         "x": [
          "TA_F_QC",
          "SW_IN_F_QC",
          "LW_IN_F_QC",
          "VPD_F_QC",
          "P_F_QC",
          "PA_F_QC",
          "G_F_MDS_QC",
          "LE_F_MDS_QC",
          "H_F_MDS_QC",
          "NEE_VUT_REF_QC",
          "NEE_CUT_REF_QC"
         ],
         "y": [
          285,
          648,
          62651,
          261,
          752,
          5760,
          2260,
          1829,
          1126,
          11371,
          11435
         ]
        },
        {
         "base": [
          245712,
          245712,
          245712,
          245712,
          245712,
          245712,
          245536,
          245649,
          245650,
          245554,
          245553
         ],
         "hovertemplate": "%{x}<br>\"3\":%{y}",
         "marker": {
          "color": "#FF4500"
         },
         "name": "3(bad)",
         "offsetgroup": "4",
         "showlegend": false,
         "text": "US-Var",
         "textangle": -60,
         "textfont": {
          "size": 100
         },
         "textposition": "outside",
         "type": "bar",
         "x": [
          "TA_F_QC",
          "SW_IN_F_QC",
          "LW_IN_F_QC",
          "VPD_F_QC",
          "P_F_QC",
          "PA_F_QC",
          "G_F_MDS_QC",
          "LE_F_MDS_QC",
          "H_F_MDS_QC",
          "NEE_VUT_REF_QC",
          "NEE_CUT_REF_QC"
         ],
         "y": [
          0,
          0,
          0,
          0,
          0,
          0,
          176,
          63,
          62,
          158,
          159
         ]
        },
        {
         "hovertemplate": "%{x}<br>\"0\":%{y}",
         "marker": {
          "color": "#3DB14E"
         },
         "name": "0(measured)",
         "offsetgroup": "5",
         "showlegend": false,
         "type": "bar",
         "x": [],
         "y": []
        },
        {
         "base": [],
         "hovertemplate": "%{x}<br>\"1\":%{y}",
         "marker": {
          "color": "#007B93"
         },
         "name": "1",
         "offsetgroup": "5",
         "showlegend": false,
         "type": "bar",
         "x": [],
         "y": []
        },
        {
         "base": [],
         "hovertemplate": "%{x}<br>\"2\":%{y}",
         "marker": {
          "color": "#FFC107"
         },
         "name": "2(medium)",
         "offsetgroup": "5",
         "showlegend": false,
         "type": "bar",
         "x": [],
         "y": []
        },
        {
         "base": [],
         "hovertemplate": "%{x}<br>\"3\":%{y}",
         "marker": {
          "color": "#FF4500"
         },
         "name": "3(bad)",
         "offsetgroup": "5",
         "showlegend": false,
         "text": "US-Ne2",
         "textangle": -60,
         "textfont": {
          "size": 100
         },
         "textposition": "outside",
         "type": "bar",
         "x": [],
         "y": []
        },
        {
         "hovertemplate": "%{x}<br>\"0\":%{y}",
         "marker": {
          "color": "#3DB14E"
         },
         "name": "0(measured)",
         "offsetgroup": "6",
         "showlegend": false,
         "type": "bar",
         "x": [
          "TA_F_QC",
          "SW_IN_F_QC",
          "LW_IN_F_QC",
          "VPD_F_QC",
          "P_F_QC",
          "PA_F_QC",
          "G_F_MDS_QC",
          "LE_F_MDS_QC",
          "H_F_MDS_QC",
          "NEE_VUT_REF_QC",
          "NEE_CUT_REF_QC"
         ],
         "y": [
          234618,
          230126,
          0,
          227728,
          209448,
          229143,
          233686,
          199073,
          217577,
          105053,
          108549
         ]
        },
        {
         "base": [
          234618,
          230126,
          0,
          227728,
          209448,
          229143,
          233686,
          199073,
          217577,
          105053,
          108549
         ],
         "hovertemplate": "%{x}<br>\"1\":%{y}",
         "marker": {
          "color": "#007B93"
         },
         "name": "1",
         "offsetgroup": "6",
         "showlegend": false,
         "type": "bar",
         "x": [
          "TA_F_QC",
          "SW_IN_F_QC",
          "LW_IN_F_QC",
          "VPD_F_QC",
          "P_F_QC",
          "PA_F_QC",
          "G_F_MDS_QC",
          "LE_F_MDS_QC",
          "H_F_MDS_QC",
          "NEE_VUT_REF_QC",
          "NEE_CUT_REF_QC"
         ],
         "y": [
          3356,
          1421,
          0,
          7392,
          0,
          0,
          3443,
          37078,
          18929,
          125237,
          121605
         ]
        },
        {
         "base": [
          237974,
          231547,
          0,
          235120,
          209448,
          229143,
          237129,
          236151,
          236506,
          230290,
          230154
         ],
         "hovertemplate": "%{x}<br>\"2\":%{y}",
         "marker": {
          "color": "#FFC107"
         },
         "name": "2(medium)",
         "offsetgroup": "6",
         "showlegend": false,
         "type": "bar",
         "x": [
          "TA_F_QC",
          "SW_IN_F_QC",
          "LW_IN_F_QC",
          "VPD_F_QC",
          "P_F_QC",
          "PA_F_QC",
          "G_F_MDS_QC",
          "LE_F_MDS_QC",
          "H_F_MDS_QC",
          "NEE_VUT_REF_QC",
          "NEE_CUT_REF_QC"
         ],
         "y": [
          1642,
          8069,
          239616,
          4496,
          30168,
          10473,
          1457,
          2609,
          2273,
          7594,
          7291
         ]
        },
        {
         "base": [
          239616,
          239616,
          239616,
          239616,
          239616,
          239616,
          238586,
          238760,
          238779,
          237884,
          237445
         ],
         "hovertemplate": "%{x}<br>\"3\":%{y}",
         "marker": {
          "color": "#FF4500"
         },
         "name": "3(bad)",
         "offsetgroup": "6",
         "showlegend": false,
         "text": "ES-LJu",
         "textangle": -60,
         "textfont": {
          "size": 100
         },
         "textposition": "outside",
         "type": "bar",
         "x": [
          "TA_F_QC",
          "SW_IN_F_QC",
          "LW_IN_F_QC",
          "VPD_F_QC",
          "P_F_QC",
          "PA_F_QC",
          "G_F_MDS_QC",
          "LE_F_MDS_QC",
          "H_F_MDS_QC",
          "NEE_VUT_REF_QC",
          "NEE_CUT_REF_QC"
         ],
         "y": [
          0,
          0,
          0,
          0,
          0,
          0,
          1030,
          856,
          837,
          1732,
          2171
         ]
        },
        {
         "hovertemplate": "%{x}<br>\"0\":%{y}",
         "marker": {
          "color": "#3DB14E"
         },
         "name": "0(measured)",
         "offsetgroup": "7",
         "showlegend": false,
         "type": "bar",
         "x": [
          "TA_F_QC",
          "SW_IN_F_QC",
          "LW_IN_F_QC",
          "VPD_F_QC",
          "P_F_QC",
          "PA_F_QC",
          "G_F_MDS_QC",
          "LE_F_MDS_QC",
          "H_F_MDS_QC",
          "NEE_VUT_REF_QC",
          "NEE_CUT_REF_QC"
         ],
         "y": [
          228390,
          230048,
          0,
          230264,
          230621,
          230211,
          227740,
          166059,
          177417,
          65566,
          64659
         ]
        },
        {
         "base": [
          228390,
          230048,
          0,
          230264,
          230621,
          230211,
          227740,
          166059,
          177417,
          65566,
          64659
         ],
         "hovertemplate": "%{x}<br>\"1\":%{y}",
         "marker": {
          "color": "#007B93"
         },
         "name": "1",
         "offsetgroup": "7",
         "showlegend": false,
         "type": "bar",
         "x": [
          "TA_F_QC",
          "SW_IN_F_QC",
          "LW_IN_F_QC",
          "VPD_F_QC",
          "P_F_QC",
          "PA_F_QC",
          "G_F_MDS_QC",
          "LE_F_MDS_QC",
          "H_F_MDS_QC",
          "NEE_VUT_REF_QC",
          "NEE_CUT_REF_QC"
         ],
         "y": [
          2357,
          695,
          0,
          636,
          0,
          0,
          2779,
          59897,
          49063,
          149202,
          149698
         ]
        },
        {
         "base": [
          230747,
          230743,
          0,
          230900,
          230621,
          230211,
          230519,
          225956,
          226480,
          214768,
          214357
         ],
         "hovertemplate": "%{x}<br>\"2\":%{y}",
         "marker": {
          "color": "#FFC107"
         },
         "name": "2(medium)",
         "offsetgroup": "7",
         "showlegend": false,
         "type": "bar",
         "x": [
          "TA_F_QC",
          "SW_IN_F_QC",
          "LW_IN_F_QC",
          "VPD_F_QC",
          "P_F_QC",
          "PA_F_QC",
          "G_F_MDS_QC",
          "LE_F_MDS_QC",
          "H_F_MDS_QC",
          "NEE_VUT_REF_QC",
          "NEE_CUT_REF_QC"
         ],
         "y": [
          181,
          185,
          230928,
          28,
          307,
          717,
          327,
          4944,
          4424,
          15939,
          16308
         ]
        },
        {
         "base": [
          230928,
          230928,
          230928,
          230928,
          230928,
          230928,
          230846,
          230900,
          230904,
          230707,
          230665
         ],
         "hovertemplate": "%{x}<br>\"3\":%{y}",
         "marker": {
          "color": "#FF4500"
         },
         "name": "3(bad)",
         "offsetgroup": "7",
         "showlegend": false,
         "text": "US-Ton",
         "textangle": -60,
         "textfont": {
          "size": 100
         },
         "textposition": "outside",
         "type": "bar",
         "x": [
          "TA_F_QC",
          "SW_IN_F_QC",
          "LW_IN_F_QC",
          "VPD_F_QC",
          "P_F_QC",
          "PA_F_QC",
          "G_F_MDS_QC",
          "LE_F_MDS_QC",
          "H_F_MDS_QC",
          "NEE_VUT_REF_QC",
          "NEE_CUT_REF_QC"
         ],
         "y": [
          0,
          0,
          0,
          0,
          0,
          0,
          82,
          28,
          24,
          221,
          263
         ]
        }
       ],
       "layout": {
        "height": 600,
        "legend": {
         "orientation": "h",
         "title": {
          "text": "QC Flag"
         },
         "x": 0,
         "y": 1.1,
         "yanchor": "top"
        },
        "template": {
         "data": {
          "bar": [
           {
            "error_x": {
             "color": "#2a3f5f"
            },
            "error_y": {
             "color": "#2a3f5f"
            },
            "marker": {
             "line": {
              "color": "#E5ECF6",
              "width": 0.5
             },
             "pattern": {
              "fillmode": "overlay",
              "size": 10,
              "solidity": 0.2
             }
            },
            "type": "bar"
           }
          ],
          "barpolar": [
           {
            "marker": {
             "line": {
              "color": "#E5ECF6",
              "width": 0.5
             },
             "pattern": {
              "fillmode": "overlay",
              "size": 10,
              "solidity": 0.2
             }
            },
            "type": "barpolar"
           }
          ],
          "carpet": [
           {
            "aaxis": {
             "endlinecolor": "#2a3f5f",
             "gridcolor": "white",
             "linecolor": "white",
             "minorgridcolor": "white",
             "startlinecolor": "#2a3f5f"
            },
            "baxis": {
             "endlinecolor": "#2a3f5f",
             "gridcolor": "white",
             "linecolor": "white",
             "minorgridcolor": "white",
             "startlinecolor": "#2a3f5f"
            },
            "type": "carpet"
           }
          ],
          "choropleth": [
           {
            "colorbar": {
             "outlinewidth": 0,
             "ticks": ""
            },
            "type": "choropleth"
           }
          ],
          "contour": [
           {
            "colorbar": {
             "outlinewidth": 0,
             "ticks": ""
            },
            "colorscale": [
             [
              0,
              "#0d0887"
             ],
             [
              0.1111111111111111,
              "#46039f"
             ],
             [
              0.2222222222222222,
              "#7201a8"
             ],
             [
              0.3333333333333333,
              "#9c179e"
             ],
             [
              0.4444444444444444,
              "#bd3786"
             ],
             [
              0.5555555555555556,
              "#d8576b"
             ],
             [
              0.6666666666666666,
              "#ed7953"
             ],
             [
              0.7777777777777778,
              "#fb9f3a"
             ],
             [
              0.8888888888888888,
              "#fdca26"
             ],
             [
              1,
              "#f0f921"
             ]
            ],
            "type": "contour"
           }
          ],
          "contourcarpet": [
           {
            "colorbar": {
             "outlinewidth": 0,
             "ticks": ""
            },
            "type": "contourcarpet"
           }
          ],
          "heatmap": [
           {
            "colorbar": {
             "outlinewidth": 0,
             "ticks": ""
            },
            "colorscale": [
             [
              0,
              "#0d0887"
             ],
             [
              0.1111111111111111,
              "#46039f"
             ],
             [
              0.2222222222222222,
              "#7201a8"
             ],
             [
              0.3333333333333333,
              "#9c179e"
             ],
             [
              0.4444444444444444,
              "#bd3786"
             ],
             [
              0.5555555555555556,
              "#d8576b"
             ],
             [
              0.6666666666666666,
              "#ed7953"
             ],
             [
              0.7777777777777778,
              "#fb9f3a"
             ],
             [
              0.8888888888888888,
              "#fdca26"
             ],
             [
              1,
              "#f0f921"
             ]
            ],
            "type": "heatmap"
           }
          ],
          "heatmapgl": [
           {
            "colorbar": {
             "outlinewidth": 0,
             "ticks": ""
            },
            "colorscale": [
             [
              0,
              "#0d0887"
             ],
             [
              0.1111111111111111,
              "#46039f"
             ],
             [
              0.2222222222222222,
              "#7201a8"
             ],
             [
              0.3333333333333333,
              "#9c179e"
             ],
             [
              0.4444444444444444,
              "#bd3786"
             ],
             [
              0.5555555555555556,
              "#d8576b"
             ],
             [
              0.6666666666666666,
              "#ed7953"
             ],
             [
              0.7777777777777778,
              "#fb9f3a"
             ],
             [
              0.8888888888888888,
              "#fdca26"
             ],
             [
              1,
              "#f0f921"
             ]
            ],
            "type": "heatmapgl"
           }
          ],
          "histogram": [
           {
            "marker": {
             "pattern": {
              "fillmode": "overlay",
              "size": 10,
              "solidity": 0.2
             }
            },
            "type": "histogram"
           }
          ],
          "histogram2d": [
           {
            "colorbar": {
             "outlinewidth": 0,
             "ticks": ""
            },
            "colorscale": [
             [
              0,
              "#0d0887"
             ],
             [
              0.1111111111111111,
              "#46039f"
             ],
             [
              0.2222222222222222,
              "#7201a8"
             ],
             [
              0.3333333333333333,
              "#9c179e"
             ],
             [
              0.4444444444444444,
              "#bd3786"
             ],
             [
              0.5555555555555556,
              "#d8576b"
             ],
             [
              0.6666666666666666,
              "#ed7953"
             ],
             [
              0.7777777777777778,
              "#fb9f3a"
             ],
             [
              0.8888888888888888,
              "#fdca26"
             ],
             [
              1,
              "#f0f921"
             ]
            ],
            "type": "histogram2d"
           }
          ],
          "histogram2dcontour": [
           {
            "colorbar": {
             "outlinewidth": 0,
             "ticks": ""
            },
            "colorscale": [
             [
              0,
              "#0d0887"
             ],
             [
              0.1111111111111111,
              "#46039f"
             ],
             [
              0.2222222222222222,
              "#7201a8"
             ],
             [
              0.3333333333333333,
              "#9c179e"
             ],
             [
              0.4444444444444444,
              "#bd3786"
             ],
             [
              0.5555555555555556,
              "#d8576b"
             ],
             [
              0.6666666666666666,
              "#ed7953"
             ],
             [
              0.7777777777777778,
              "#fb9f3a"
             ],
             [
              0.8888888888888888,
              "#fdca26"
             ],
             [
              1,
              "#f0f921"
             ]
            ],
            "type": "histogram2dcontour"
           }
          ],
          "mesh3d": [
           {
            "colorbar": {
             "outlinewidth": 0,
             "ticks": ""
            },
            "type": "mesh3d"
           }
          ],
          "parcoords": [
           {
            "line": {
             "colorbar": {
              "outlinewidth": 0,
              "ticks": ""
             }
            },
            "type": "parcoords"
           }
          ],
          "pie": [
           {
            "automargin": true,
            "type": "pie"
           }
          ],
          "scatter": [
           {
            "fillpattern": {
             "fillmode": "overlay",
             "size": 10,
             "solidity": 0.2
            },
            "type": "scatter"
           }
          ],
          "scatter3d": [
           {
            "line": {
             "colorbar": {
              "outlinewidth": 0,
              "ticks": ""
             }
            },
            "marker": {
             "colorbar": {
              "outlinewidth": 0,
              "ticks": ""
             }
            },
            "type": "scatter3d"
           }
          ],
          "scattercarpet": [
           {
            "marker": {
             "colorbar": {
              "outlinewidth": 0,
              "ticks": ""
             }
            },
            "type": "scattercarpet"
           }
          ],
          "scattergeo": [
           {
            "marker": {
             "colorbar": {
              "outlinewidth": 0,
              "ticks": ""
             }
            },
            "type": "scattergeo"
           }
          ],
          "scattergl": [
           {
            "marker": {
             "colorbar": {
              "outlinewidth": 0,
              "ticks": ""
             }
            },
            "type": "scattergl"
           }
          ],
          "scattermapbox": [
           {
            "marker": {
             "colorbar": {
              "outlinewidth": 0,
              "ticks": ""
             }
            },
            "type": "scattermapbox"
           }
          ],
          "scatterpolar": [
           {
            "marker": {
             "colorbar": {
              "outlinewidth": 0,
              "ticks": ""
             }
            },
            "type": "scatterpolar"
           }
          ],
          "scatterpolargl": [
           {
            "marker": {
             "colorbar": {
              "outlinewidth": 0,
              "ticks": ""
             }
            },
            "type": "scatterpolargl"
           }
          ],
          "scatterternary": [
           {
            "marker": {
             "colorbar": {
              "outlinewidth": 0,
              "ticks": ""
             }
            },
            "type": "scatterternary"
           }
          ],
          "surface": [
           {
            "colorbar": {
             "outlinewidth": 0,
             "ticks": ""
            },
            "colorscale": [
             [
              0,
              "#0d0887"
             ],
             [
              0.1111111111111111,
              "#46039f"
             ],
             [
              0.2222222222222222,
              "#7201a8"
             ],
             [
              0.3333333333333333,
              "#9c179e"
             ],
             [
              0.4444444444444444,
              "#bd3786"
             ],
             [
              0.5555555555555556,
              "#d8576b"
             ],
             [
              0.6666666666666666,
              "#ed7953"
             ],
             [
              0.7777777777777778,
              "#fb9f3a"
             ],
             [
              0.8888888888888888,
              "#fdca26"
             ],
             [
              1,
              "#f0f921"
             ]
            ],
            "type": "surface"
           }
          ],
          "table": [
           {
            "cells": {
             "fill": {
              "color": "#EBF0F8"
             },
             "line": {
              "color": "white"
             }
            },
            "header": {
             "fill": {
              "color": "#C8D4E3"
             },
             "line": {
              "color": "white"
             }
            },
            "type": "table"
           }
          ]
         },
         "layout": {
          "annotationdefaults": {
           "arrowcolor": "#2a3f5f",
           "arrowhead": 0,
           "arrowwidth": 1
          },
          "autotypenumbers": "strict",
          "coloraxis": {
           "colorbar": {
            "outlinewidth": 0,
            "ticks": ""
           }
          },
          "colorscale": {
           "diverging": [
            [
             0,
             "#8e0152"
            ],
            [
             0.1,
             "#c51b7d"
            ],
            [
             0.2,
             "#de77ae"
            ],
            [
             0.3,
             "#f1b6da"
            ],
            [
             0.4,
             "#fde0ef"
            ],
            [
             0.5,
             "#f7f7f7"
            ],
            [
             0.6,
             "#e6f5d0"
            ],
            [
             0.7,
             "#b8e186"
            ],
            [
             0.8,
             "#7fbc41"
            ],
            [
             0.9,
             "#4d9221"
            ],
            [
             1,
             "#276419"
            ]
           ],
           "sequential": [
            [
             0,
             "#0d0887"
            ],
            [
             0.1111111111111111,
             "#46039f"
            ],
            [
             0.2222222222222222,
             "#7201a8"
            ],
            [
             0.3333333333333333,
             "#9c179e"
            ],
            [
             0.4444444444444444,
             "#bd3786"
            ],
            [
             0.5555555555555556,
             "#d8576b"
            ],
            [
             0.6666666666666666,
             "#ed7953"
            ],
            [
             0.7777777777777778,
             "#fb9f3a"
            ],
            [
             0.8888888888888888,
             "#fdca26"
            ],
            [
             1,
             "#f0f921"
            ]
           ],
           "sequentialminus": [
            [
             0,
             "#0d0887"
            ],
            [
             0.1111111111111111,
             "#46039f"
            ],
            [
             0.2222222222222222,
             "#7201a8"
            ],
            [
             0.3333333333333333,
             "#9c179e"
            ],
            [
             0.4444444444444444,
             "#bd3786"
            ],
            [
             0.5555555555555556,
             "#d8576b"
            ],
            [
             0.6666666666666666,
             "#ed7953"
            ],
            [
             0.7777777777777778,
             "#fb9f3a"
            ],
            [
             0.8888888888888888,
             "#fdca26"
            ],
            [
             1,
             "#f0f921"
            ]
           ]
          },
          "colorway": [
           "#636efa",
           "#EF553B",
           "#00cc96",
           "#ab63fa",
           "#FFA15A",
           "#19d3f3",
           "#FF6692",
           "#B6E880",
           "#FF97FF",
           "#FECB52"
          ],
          "font": {
           "color": "#2a3f5f"
          },
          "geo": {
           "bgcolor": "white",
           "lakecolor": "white",
           "landcolor": "#E5ECF6",
           "showlakes": true,
           "showland": true,
           "subunitcolor": "white"
          },
          "hoverlabel": {
           "align": "left"
          },
          "hovermode": "closest",
          "mapbox": {
           "style": "light"
          },
          "paper_bgcolor": "white",
          "plot_bgcolor": "#E5ECF6",
          "polar": {
           "angularaxis": {
            "gridcolor": "white",
            "linecolor": "white",
            "ticks": ""
           },
           "bgcolor": "#E5ECF6",
           "radialaxis": {
            "gridcolor": "white",
            "linecolor": "white",
            "ticks": ""
           }
          },
          "scene": {
           "xaxis": {
            "backgroundcolor": "#E5ECF6",
            "gridcolor": "white",
            "gridwidth": 2,
            "linecolor": "white",
            "showbackground": true,
            "ticks": "",
            "zerolinecolor": "white"
           },
           "yaxis": {
            "backgroundcolor": "#E5ECF6",
            "gridcolor": "white",
            "gridwidth": 2,
            "linecolor": "white",
            "showbackground": true,
            "ticks": "",
            "zerolinecolor": "white"
           },
           "zaxis": {
            "backgroundcolor": "#E5ECF6",
            "gridcolor": "white",
            "gridwidth": 2,
            "linecolor": "white",
            "showbackground": true,
            "ticks": "",
            "zerolinecolor": "white"
           }
          },
          "shapedefaults": {
           "line": {
            "color": "#2a3f5f"
           }
          },
          "ternary": {
           "aaxis": {
            "gridcolor": "white",
            "linecolor": "white",
            "ticks": ""
           },
           "baxis": {
            "gridcolor": "white",
            "linecolor": "white",
            "ticks": ""
           },
           "bgcolor": "#E5ECF6",
           "caxis": {
            "gridcolor": "white",
            "linecolor": "white",
            "ticks": ""
           }
          },
          "title": {
           "x": 0.05
          },
          "xaxis": {
           "automargin": true,
           "gridcolor": "white",
           "linecolor": "white",
           "ticks": "",
           "title": {
            "standoff": 15
           },
           "zerolinecolor": "white",
           "zerolinewidth": 2
          },
          "yaxis": {
           "automargin": true,
           "gridcolor": "white",
           "linecolor": "white",
           "ticks": "",
           "title": {
            "standoff": 15
           },
           "zerolinecolor": "white",
           "zerolinewidth": 2
          }
         }
        },
        "title": {
         "text": "Half Hourly Data QC Distributions"
        },
        "width": 1000,
        "xaxis": {
         "title": {
          "text": "Data Type"
         }
        },
        "yaxis": {
         "title": {
          "text": "Record Count"
         }
        }
       }
      },
      "text/html": [
       "<div>                            <div id=\"c373efbb-b928-483a-8e1a-3d77492753dc\" class=\"plotly-graph-div\" style=\"height:600px; width:1000px;\"></div>            <script type=\"text/javascript\">                require([\"plotly\"], function(Plotly) {                    window.PLOTLYENV=window.PLOTLYENV || {};                                    if (document.getElementById(\"c373efbb-b928-483a-8e1a-3d77492753dc\")) {                    Plotly.newPlot(                        \"c373efbb-b928-483a-8e1a-3d77492753dc\",                        [{\"hovertemplate\":\"%{x}<br>\\\"0\\\":%{y}\",\"marker\":{\"color\":\"#3DB14E\"},\"name\":\"0(measured)\",\"offsetgroup\":\"0\",\"showlegend\":false,\"x\":[],\"y\":[],\"type\":\"bar\"},{\"base\":[],\"hovertemplate\":\"%{x}<br>\\\"1\\\":%{y}\",\"marker\":{\"color\":\"#007B93\"},\"name\":\"1\",\"offsetgroup\":\"0\",\"showlegend\":false,\"x\":[],\"y\":[],\"type\":\"bar\"},{\"base\":[],\"hovertemplate\":\"%{x}<br>\\\"2\\\":%{y}\",\"marker\":{\"color\":\"#FFC107\"},\"name\":\"2(medium)\",\"offsetgroup\":\"0\",\"showlegend\":false,\"x\":[],\"y\":[],\"type\":\"bar\"},{\"base\":[],\"hovertemplate\":\"%{x}<br>\\\"3\\\":%{y}\",\"marker\":{\"color\":\"#FF4500\"},\"name\":\"3(bad)\",\"offsetgroup\":\"0\",\"showlegend\":false,\"text\":\"US-MMS\",\"textangle\":-60,\"textfont\":{\"size\":100},\"textposition\":\"outside\",\"x\":[],\"y\":[],\"type\":\"bar\"},{\"hovertemplate\":\"%{x}<br>\\\"0\\\":%{y}\",\"marker\":{\"color\":\"#3DB14E\"},\"name\":\"0(measured)\",\"offsetgroup\":\"1\",\"showlegend\":true,\"x\":[\"TA_F_QC\",\"SW_IN_F_QC\",\"LW_IN_F_QC\",\"VPD_F_QC\",\"P_F_QC\",\"PA_F_QC\",\"G_F_MDS_QC\",\"LE_F_MDS_QC\",\"H_F_MDS_QC\",\"NEE_VUT_REF_QC\",\"NEE_CUT_REF_QC\"],\"y\":[164905,171379,0,149022,115066,169772,0,0,0,70948,70404],\"type\":\"bar\"},{\"base\":[164905,171379,0,149022,115066,169772,0,0,0,70948,70404],\"hovertemplate\":\"%{x}<br>\\\"1\\\":%{y}\",\"marker\":{\"color\":\"#007B93\"},\"name\":\"1\",\"offsetgroup\":\"1\",\"showlegend\":true,\"x\":[\"TA_F_QC\",\"SW_IN_F_QC\",\"LW_IN_F_QC\",\"VPD_F_QC\",\"P_F_QC\",\"PA_F_QC\",\"G_F_MDS_QC\",\"LE_F_MDS_QC\",\"H_F_MDS_QC\",\"NEE_VUT_REF_QC\",\"NEE_CUT_REF_QC\"],\"y\":[8610,1580,0,9745,0,0,0,0,0,95952,96060],\"type\":\"bar\"},{\"base\":[173515,172959,0,158767,115066,169772,0,0,0,166900,166464],\"hovertemplate\":\"%{x}<br>\\\"2\\\":%{y}\",\"marker\":{\"color\":\"#FFC107\"},\"name\":\"2(medium)\",\"offsetgroup\":\"1\",\"showlegend\":true,\"x\":[\"TA_F_QC\",\"SW_IN_F_QC\",\"LW_IN_F_QC\",\"VPD_F_QC\",\"P_F_QC\",\"PA_F_QC\",\"G_F_MDS_QC\",\"LE_F_MDS_QC\",\"H_F_MDS_QC\",\"NEE_VUT_REF_QC\",\"NEE_CUT_REF_QC\"],\"y\":[1013,1569,174528,15761,59462,4756,0,0,0,6987,7416],\"type\":\"bar\"},{\"base\":[174528,174528,174528,174528,174528,174528,0,0,0,173887,173880],\"hovertemplate\":\"%{x}<br>\\\"3\\\":%{y}\",\"marker\":{\"color\":\"#FF4500\"},\"name\":\"3(bad)\",\"offsetgroup\":\"1\",\"showlegend\":true,\"text\":\"US-Vcp\",\"textangle\":-60,\"textfont\":{\"size\":100},\"textposition\":\"outside\",\"x\":[\"TA_F_QC\",\"SW_IN_F_QC\",\"LW_IN_F_QC\",\"VPD_F_QC\",\"P_F_QC\",\"PA_F_QC\",\"G_F_MDS_QC\",\"LE_F_MDS_QC\",\"H_F_MDS_QC\",\"NEE_VUT_REF_QC\",\"NEE_CUT_REF_QC\"],\"y\":[0,0,0,0,0,0,0,0,0,641,648],\"type\":\"bar\"},{\"hovertemplate\":\"%{x}<br>\\\"0\\\":%{y}\",\"marker\":{\"color\":\"#3DB14E\"},\"name\":\"0(measured)\",\"offsetgroup\":\"2\",\"showlegend\":false,\"x\":[\"TA_F_QC\",\"SW_IN_F_QC\",\"LW_IN_F_QC\",\"VPD_F_QC\",\"P_F_QC\",\"PA_F_QC\",\"G_F_MDS_QC\",\"LE_F_MDS_QC\",\"H_F_MDS_QC\",\"NEE_VUT_REF_QC\",\"NEE_CUT_REF_QC\"],\"y\":[244413,243991,157188,244036,245066,167305,118776,200474,174992,104186,102025],\"type\":\"bar\"},{\"base\":[244413,243991,157188,244036,245066,167305,118776,200474,174992,104186,102025],\"hovertemplate\":\"%{x}<br>\\\"1\\\":%{y}\",\"marker\":{\"color\":\"#007B93\"},\"name\":\"1\",\"offsetgroup\":\"2\",\"showlegend\":false,\"x\":[\"TA_F_QC\",\"SW_IN_F_QC\",\"LW_IN_F_QC\",\"VPD_F_QC\",\"P_F_QC\",\"PA_F_QC\",\"G_F_MDS_QC\",\"LE_F_MDS_QC\",\"H_F_MDS_QC\",\"NEE_VUT_REF_QC\",\"NEE_CUT_REF_QC\"],\"y\":[656,887,2650,1031,0,0,2590,42644,68291,129287,131020],\"type\":\"bar\"},{\"base\":[245069,244878,159838,245067,245066,167305,121366,243118,243283,233473,233045],\"hovertemplate\":\"%{x}<br>\\\"2\\\":%{y}\",\"marker\":{\"color\":\"#FFC107\"},\"name\":\"2(medium)\",\"offsetgroup\":\"2\",\"showlegend\":false,\"x\":[\"TA_F_QC\",\"SW_IN_F_QC\",\"LW_IN_F_QC\",\"VPD_F_QC\",\"P_F_QC\",\"PA_F_QC\",\"G_F_MDS_QC\",\"LE_F_MDS_QC\",\"H_F_MDS_QC\",\"NEE_VUT_REF_QC\",\"NEE_CUT_REF_QC\"],\"y\":[691,882,85922,693,694,78455,5147,2472,2272,11770,12190],\"type\":\"bar\"},{\"base\":[245760,245760,245760,245760,245760,245760,126513,245590,245555,245243,245235],\"hovertemplate\":\"%{x}<br>\\\"3\\\":%{y}\",\"marker\":{\"color\":\"#FF4500\"},\"name\":\"3(bad)\",\"offsetgroup\":\"2\",\"showlegend\":false,\"text\":\"FR-Pue\",\"textangle\":-60,\"textfont\":{\"size\":100},\"textposition\":\"outside\",\"x\":[\"TA_F_QC\",\"SW_IN_F_QC\",\"LW_IN_F_QC\",\"VPD_F_QC\",\"P_F_QC\",\"PA_F_QC\",\"G_F_MDS_QC\",\"LE_F_MDS_QC\",\"H_F_MDS_QC\",\"NEE_VUT_REF_QC\",\"NEE_CUT_REF_QC\"],\"y\":[0,0,0,0,0,0,16981,170,205,517,525],\"type\":\"bar\"},{\"hovertemplate\":\"%{x}<br>\\\"0\\\":%{y}\",\"marker\":{\"color\":\"#3DB14E\"},\"name\":\"0(measured)\",\"offsetgroup\":\"3\",\"showlegend\":false,\"x\":[\"TA_F_QC\",\"SW_IN_F_QC\",\"LW_IN_F_QC\",\"VPD_F_QC\",\"P_F_QC\",\"PA_F_QC\",\"G_F_MDS_QC\",\"LE_F_MDS_QC\",\"H_F_MDS_QC\",\"NEE_VUT_REF_QC\",\"NEE_CUT_REF_QC\"],\"y\":[278102,277629,260919,278014,272208,245053,0,182597,226736,89467,94121],\"type\":\"bar\"},{\"base\":[278102,277629,260919,278014,272208,245053,0,182597,226736,89467,94121],\"hovertemplate\":\"%{x}<br>\\\"1\\\":%{y}\",\"marker\":{\"color\":\"#007B93\"},\"name\":\"1\",\"offsetgroup\":\"3\",\"showlegend\":false,\"x\":[\"TA_F_QC\",\"SW_IN_F_QC\",\"LW_IN_F_QC\",\"VPD_F_QC\",\"P_F_QC\",\"PA_F_QC\",\"G_F_MDS_QC\",\"LE_F_MDS_QC\",\"H_F_MDS_QC\",\"NEE_VUT_REF_QC\",\"NEE_CUT_REF_QC\"],\"y\":[1258,1173,1497,1346,0,0,0,102424,60632,183615,180453],\"type\":\"bar\"},{\"base\":[279360,278802,262416,279360,272208,245053,0,285021,287368,273082,274574],\"hovertemplate\":\"%{x}<br>\\\"2\\\":%{y}\",\"marker\":{\"color\":\"#FFC107\"},\"name\":\"2(medium)\",\"offsetgroup\":\"3\",\"showlegend\":false,\"x\":[\"TA_F_QC\",\"SW_IN_F_QC\",\"LW_IN_F_QC\",\"VPD_F_QC\",\"P_F_QC\",\"PA_F_QC\",\"G_F_MDS_QC\",\"LE_F_MDS_QC\",\"H_F_MDS_QC\",\"NEE_VUT_REF_QC\",\"NEE_CUT_REF_QC\"],\"y\":[9024,9561,25968,9024,0,27155,0,3087,994,14415,12672],\"type\":\"bar\"},{\"base\":[288384,288363,288384,288384,272208,272208,0,288108,288362,287497,287246],\"hovertemplate\":\"%{x}<br>\\\"3\\\":%{y}\",\"marker\":{\"color\":\"#FF4500\"},\"name\":\"3(bad)\",\"offsetgroup\":\"3\",\"showlegend\":false,\"text\":\"CH-Lae\",\"textangle\":-60,\"textfont\":{\"size\":100},\"textposition\":\"outside\",\"x\":[\"TA_F_QC\",\"SW_IN_F_QC\",\"LW_IN_F_QC\",\"VPD_F_QC\",\"P_F_QC\",\"PA_F_QC\",\"G_F_MDS_QC\",\"LE_F_MDS_QC\",\"H_F_MDS_QC\",\"NEE_VUT_REF_QC\",\"NEE_CUT_REF_QC\"],\"y\":[0,21,0,0,0,0,0,276,22,887,1138],\"type\":\"bar\"},{\"hovertemplate\":\"%{x}<br>\\\"0\\\":%{y}\",\"marker\":{\"color\":\"#3DB14E\"},\"name\":\"0(measured)\",\"offsetgroup\":\"4\",\"showlegend\":false,\"x\":[\"TA_F_QC\",\"SW_IN_F_QC\",\"LW_IN_F_QC\",\"VPD_F_QC\",\"P_F_QC\",\"PA_F_QC\",\"G_F_MDS_QC\",\"LE_F_MDS_QC\",\"H_F_MDS_QC\",\"NEE_VUT_REF_QC\",\"NEE_CUT_REF_QC\"],\"y\":[242346,244314,177806,242784,244960,239952,236712,208189,226061,103239,104183],\"type\":\"bar\"},{\"base\":[242346,244314,177806,242784,244960,239952,236712,208189,226061,103239,104183],\"hovertemplate\":\"%{x}<br>\\\"1\\\":%{y}\",\"marker\":{\"color\":\"#007B93\"},\"name\":\"1\",\"offsetgroup\":\"4\",\"showlegend\":false,\"x\":[\"TA_F_QC\",\"SW_IN_F_QC\",\"LW_IN_F_QC\",\"VPD_F_QC\",\"P_F_QC\",\"PA_F_QC\",\"G_F_MDS_QC\",\"LE_F_MDS_QC\",\"H_F_MDS_QC\",\"NEE_VUT_REF_QC\",\"NEE_CUT_REF_QC\"],\"y\":[3081,750,5255,2667,0,0,6564,35631,18463,130944,129935],\"type\":\"bar\"},{\"base\":[245427,245064,183061,245451,244960,239952,243276,243820,244524,234183,234118],\"hovertemplate\":\"%{x}<br>\\\"2\\\":%{y}\",\"marker\":{\"color\":\"#FFC107\"},\"name\":\"2(medium)\",\"offsetgroup\":\"4\",\"showlegend\":false,\"x\":[\"TA_F_QC\",\"SW_IN_F_QC\",\"LW_IN_F_QC\",\"VPD_F_QC\",\"P_F_QC\",\"PA_F_QC\",\"G_F_MDS_QC\",\"LE_F_MDS_QC\",\"H_F_MDS_QC\",\"NEE_VUT_REF_QC\",\"NEE_CUT_REF_QC\"],\"y\":[285,648,62651,261,752,5760,2260,1829,1126,11371,11435],\"type\":\"bar\"},{\"base\":[245712,245712,245712,245712,245712,245712,245536,245649,245650,245554,245553],\"hovertemplate\":\"%{x}<br>\\\"3\\\":%{y}\",\"marker\":{\"color\":\"#FF4500\"},\"name\":\"3(bad)\",\"offsetgroup\":\"4\",\"showlegend\":false,\"text\":\"US-Var\",\"textangle\":-60,\"textfont\":{\"size\":100},\"textposition\":\"outside\",\"x\":[\"TA_F_QC\",\"SW_IN_F_QC\",\"LW_IN_F_QC\",\"VPD_F_QC\",\"P_F_QC\",\"PA_F_QC\",\"G_F_MDS_QC\",\"LE_F_MDS_QC\",\"H_F_MDS_QC\",\"NEE_VUT_REF_QC\",\"NEE_CUT_REF_QC\"],\"y\":[0,0,0,0,0,0,176,63,62,158,159],\"type\":\"bar\"},{\"hovertemplate\":\"%{x}<br>\\\"0\\\":%{y}\",\"marker\":{\"color\":\"#3DB14E\"},\"name\":\"0(measured)\",\"offsetgroup\":\"5\",\"showlegend\":false,\"x\":[],\"y\":[],\"type\":\"bar\"},{\"base\":[],\"hovertemplate\":\"%{x}<br>\\\"1\\\":%{y}\",\"marker\":{\"color\":\"#007B93\"},\"name\":\"1\",\"offsetgroup\":\"5\",\"showlegend\":false,\"x\":[],\"y\":[],\"type\":\"bar\"},{\"base\":[],\"hovertemplate\":\"%{x}<br>\\\"2\\\":%{y}\",\"marker\":{\"color\":\"#FFC107\"},\"name\":\"2(medium)\",\"offsetgroup\":\"5\",\"showlegend\":false,\"x\":[],\"y\":[],\"type\":\"bar\"},{\"base\":[],\"hovertemplate\":\"%{x}<br>\\\"3\\\":%{y}\",\"marker\":{\"color\":\"#FF4500\"},\"name\":\"3(bad)\",\"offsetgroup\":\"5\",\"showlegend\":false,\"text\":\"US-Ne2\",\"textangle\":-60,\"textfont\":{\"size\":100},\"textposition\":\"outside\",\"x\":[],\"y\":[],\"type\":\"bar\"},{\"hovertemplate\":\"%{x}<br>\\\"0\\\":%{y}\",\"marker\":{\"color\":\"#3DB14E\"},\"name\":\"0(measured)\",\"offsetgroup\":\"6\",\"showlegend\":false,\"x\":[\"TA_F_QC\",\"SW_IN_F_QC\",\"LW_IN_F_QC\",\"VPD_F_QC\",\"P_F_QC\",\"PA_F_QC\",\"G_F_MDS_QC\",\"LE_F_MDS_QC\",\"H_F_MDS_QC\",\"NEE_VUT_REF_QC\",\"NEE_CUT_REF_QC\"],\"y\":[234618,230126,0,227728,209448,229143,233686,199073,217577,105053,108549],\"type\":\"bar\"},{\"base\":[234618,230126,0,227728,209448,229143,233686,199073,217577,105053,108549],\"hovertemplate\":\"%{x}<br>\\\"1\\\":%{y}\",\"marker\":{\"color\":\"#007B93\"},\"name\":\"1\",\"offsetgroup\":\"6\",\"showlegend\":false,\"x\":[\"TA_F_QC\",\"SW_IN_F_QC\",\"LW_IN_F_QC\",\"VPD_F_QC\",\"P_F_QC\",\"PA_F_QC\",\"G_F_MDS_QC\",\"LE_F_MDS_QC\",\"H_F_MDS_QC\",\"NEE_VUT_REF_QC\",\"NEE_CUT_REF_QC\"],\"y\":[3356,1421,0,7392,0,0,3443,37078,18929,125237,121605],\"type\":\"bar\"},{\"base\":[237974,231547,0,235120,209448,229143,237129,236151,236506,230290,230154],\"hovertemplate\":\"%{x}<br>\\\"2\\\":%{y}\",\"marker\":{\"color\":\"#FFC107\"},\"name\":\"2(medium)\",\"offsetgroup\":\"6\",\"showlegend\":false,\"x\":[\"TA_F_QC\",\"SW_IN_F_QC\",\"LW_IN_F_QC\",\"VPD_F_QC\",\"P_F_QC\",\"PA_F_QC\",\"G_F_MDS_QC\",\"LE_F_MDS_QC\",\"H_F_MDS_QC\",\"NEE_VUT_REF_QC\",\"NEE_CUT_REF_QC\"],\"y\":[1642,8069,239616,4496,30168,10473,1457,2609,2273,7594,7291],\"type\":\"bar\"},{\"base\":[239616,239616,239616,239616,239616,239616,238586,238760,238779,237884,237445],\"hovertemplate\":\"%{x}<br>\\\"3\\\":%{y}\",\"marker\":{\"color\":\"#FF4500\"},\"name\":\"3(bad)\",\"offsetgroup\":\"6\",\"showlegend\":false,\"text\":\"ES-LJu\",\"textangle\":-60,\"textfont\":{\"size\":100},\"textposition\":\"outside\",\"x\":[\"TA_F_QC\",\"SW_IN_F_QC\",\"LW_IN_F_QC\",\"VPD_F_QC\",\"P_F_QC\",\"PA_F_QC\",\"G_F_MDS_QC\",\"LE_F_MDS_QC\",\"H_F_MDS_QC\",\"NEE_VUT_REF_QC\",\"NEE_CUT_REF_QC\"],\"y\":[0,0,0,0,0,0,1030,856,837,1732,2171],\"type\":\"bar\"},{\"hovertemplate\":\"%{x}<br>\\\"0\\\":%{y}\",\"marker\":{\"color\":\"#3DB14E\"},\"name\":\"0(measured)\",\"offsetgroup\":\"7\",\"showlegend\":false,\"x\":[\"TA_F_QC\",\"SW_IN_F_QC\",\"LW_IN_F_QC\",\"VPD_F_QC\",\"P_F_QC\",\"PA_F_QC\",\"G_F_MDS_QC\",\"LE_F_MDS_QC\",\"H_F_MDS_QC\",\"NEE_VUT_REF_QC\",\"NEE_CUT_REF_QC\"],\"y\":[228390,230048,0,230264,230621,230211,227740,166059,177417,65566,64659],\"type\":\"bar\"},{\"base\":[228390,230048,0,230264,230621,230211,227740,166059,177417,65566,64659],\"hovertemplate\":\"%{x}<br>\\\"1\\\":%{y}\",\"marker\":{\"color\":\"#007B93\"},\"name\":\"1\",\"offsetgroup\":\"7\",\"showlegend\":false,\"x\":[\"TA_F_QC\",\"SW_IN_F_QC\",\"LW_IN_F_QC\",\"VPD_F_QC\",\"P_F_QC\",\"PA_F_QC\",\"G_F_MDS_QC\",\"LE_F_MDS_QC\",\"H_F_MDS_QC\",\"NEE_VUT_REF_QC\",\"NEE_CUT_REF_QC\"],\"y\":[2357,695,0,636,0,0,2779,59897,49063,149202,149698],\"type\":\"bar\"},{\"base\":[230747,230743,0,230900,230621,230211,230519,225956,226480,214768,214357],\"hovertemplate\":\"%{x}<br>\\\"2\\\":%{y}\",\"marker\":{\"color\":\"#FFC107\"},\"name\":\"2(medium)\",\"offsetgroup\":\"7\",\"showlegend\":false,\"x\":[\"TA_F_QC\",\"SW_IN_F_QC\",\"LW_IN_F_QC\",\"VPD_F_QC\",\"P_F_QC\",\"PA_F_QC\",\"G_F_MDS_QC\",\"LE_F_MDS_QC\",\"H_F_MDS_QC\",\"NEE_VUT_REF_QC\",\"NEE_CUT_REF_QC\"],\"y\":[181,185,230928,28,307,717,327,4944,4424,15939,16308],\"type\":\"bar\"},{\"base\":[230928,230928,230928,230928,230928,230928,230846,230900,230904,230707,230665],\"hovertemplate\":\"%{x}<br>\\\"3\\\":%{y}\",\"marker\":{\"color\":\"#FF4500\"},\"name\":\"3(bad)\",\"offsetgroup\":\"7\",\"showlegend\":false,\"text\":\"US-Ton\",\"textangle\":-60,\"textfont\":{\"size\":100},\"textposition\":\"outside\",\"x\":[\"TA_F_QC\",\"SW_IN_F_QC\",\"LW_IN_F_QC\",\"VPD_F_QC\",\"P_F_QC\",\"PA_F_QC\",\"G_F_MDS_QC\",\"LE_F_MDS_QC\",\"H_F_MDS_QC\",\"NEE_VUT_REF_QC\",\"NEE_CUT_REF_QC\"],\"y\":[0,0,0,0,0,0,82,28,24,221,263],\"type\":\"bar\"}],                        {\"height\":600,\"legend\":{\"orientation\":\"h\",\"title\":{\"text\":\"QC Flag\"},\"x\":0,\"y\":1.1,\"yanchor\":\"top\"},\"title\":{\"text\":\"Half Hourly Data QC Distributions\"},\"width\":1000,\"xaxis\":{\"title\":{\"text\":\"Data Type\"}},\"yaxis\":{\"title\":{\"text\":\"Record Count\"}},\"template\":{\"data\":{\"histogram2dcontour\":[{\"type\":\"histogram2dcontour\",\"colorbar\":{\"outlinewidth\":0,\"ticks\":\"\"},\"colorscale\":[[0.0,\"#0d0887\"],[0.1111111111111111,\"#46039f\"],[0.2222222222222222,\"#7201a8\"],[0.3333333333333333,\"#9c179e\"],[0.4444444444444444,\"#bd3786\"],[0.5555555555555556,\"#d8576b\"],[0.6666666666666666,\"#ed7953\"],[0.7777777777777778,\"#fb9f3a\"],[0.8888888888888888,\"#fdca26\"],[1.0,\"#f0f921\"]]}],\"choropleth\":[{\"type\":\"choropleth\",\"colorbar\":{\"outlinewidth\":0,\"ticks\":\"\"}}],\"histogram2d\":[{\"type\":\"histogram2d\",\"colorbar\":{\"outlinewidth\":0,\"ticks\":\"\"},\"colorscale\":[[0.0,\"#0d0887\"],[0.1111111111111111,\"#46039f\"],[0.2222222222222222,\"#7201a8\"],[0.3333333333333333,\"#9c179e\"],[0.4444444444444444,\"#bd3786\"],[0.5555555555555556,\"#d8576b\"],[0.6666666666666666,\"#ed7953\"],[0.7777777777777778,\"#fb9f3a\"],[0.8888888888888888,\"#fdca26\"],[1.0,\"#f0f921\"]]}],\"heatmap\":[{\"type\":\"heatmap\",\"colorbar\":{\"outlinewidth\":0,\"ticks\":\"\"},\"colorscale\":[[0.0,\"#0d0887\"],[0.1111111111111111,\"#46039f\"],[0.2222222222222222,\"#7201a8\"],[0.3333333333333333,\"#9c179e\"],[0.4444444444444444,\"#bd3786\"],[0.5555555555555556,\"#d8576b\"],[0.6666666666666666,\"#ed7953\"],[0.7777777777777778,\"#fb9f3a\"],[0.8888888888888888,\"#fdca26\"],[1.0,\"#f0f921\"]]}],\"heatmapgl\":[{\"type\":\"heatmapgl\",\"colorbar\":{\"outlinewidth\":0,\"ticks\":\"\"},\"colorscale\":[[0.0,\"#0d0887\"],[0.1111111111111111,\"#46039f\"],[0.2222222222222222,\"#7201a8\"],[0.3333333333333333,\"#9c179e\"],[0.4444444444444444,\"#bd3786\"],[0.5555555555555556,\"#d8576b\"],[0.6666666666666666,\"#ed7953\"],[0.7777777777777778,\"#fb9f3a\"],[0.8888888888888888,\"#fdca26\"],[1.0,\"#f0f921\"]]}],\"contourcarpet\":[{\"type\":\"contourcarpet\",\"colorbar\":{\"outlinewidth\":0,\"ticks\":\"\"}}],\"contour\":[{\"type\":\"contour\",\"colorbar\":{\"outlinewidth\":0,\"ticks\":\"\"},\"colorscale\":[[0.0,\"#0d0887\"],[0.1111111111111111,\"#46039f\"],[0.2222222222222222,\"#7201a8\"],[0.3333333333333333,\"#9c179e\"],[0.4444444444444444,\"#bd3786\"],[0.5555555555555556,\"#d8576b\"],[0.6666666666666666,\"#ed7953\"],[0.7777777777777778,\"#fb9f3a\"],[0.8888888888888888,\"#fdca26\"],[1.0,\"#f0f921\"]]}],\"surface\":[{\"type\":\"surface\",\"colorbar\":{\"outlinewidth\":0,\"ticks\":\"\"},\"colorscale\":[[0.0,\"#0d0887\"],[0.1111111111111111,\"#46039f\"],[0.2222222222222222,\"#7201a8\"],[0.3333333333333333,\"#9c179e\"],[0.4444444444444444,\"#bd3786\"],[0.5555555555555556,\"#d8576b\"],[0.6666666666666666,\"#ed7953\"],[0.7777777777777778,\"#fb9f3a\"],[0.8888888888888888,\"#fdca26\"],[1.0,\"#f0f921\"]]}],\"mesh3d\":[{\"type\":\"mesh3d\",\"colorbar\":{\"outlinewidth\":0,\"ticks\":\"\"}}],\"scatter\":[{\"fillpattern\":{\"fillmode\":\"overlay\",\"size\":10,\"solidity\":0.2},\"type\":\"scatter\"}],\"parcoords\":[{\"type\":\"parcoords\",\"line\":{\"colorbar\":{\"outlinewidth\":0,\"ticks\":\"\"}}}],\"scatterpolargl\":[{\"type\":\"scatterpolargl\",\"marker\":{\"colorbar\":{\"outlinewidth\":0,\"ticks\":\"\"}}}],\"bar\":[{\"error_x\":{\"color\":\"#2a3f5f\"},\"error_y\":{\"color\":\"#2a3f5f\"},\"marker\":{\"line\":{\"color\":\"#E5ECF6\",\"width\":0.5},\"pattern\":{\"fillmode\":\"overlay\",\"size\":10,\"solidity\":0.2}},\"type\":\"bar\"}],\"scattergeo\":[{\"type\":\"scattergeo\",\"marker\":{\"colorbar\":{\"outlinewidth\":0,\"ticks\":\"\"}}}],\"scatterpolar\":[{\"type\":\"scatterpolar\",\"marker\":{\"colorbar\":{\"outlinewidth\":0,\"ticks\":\"\"}}}],\"histogram\":[{\"marker\":{\"pattern\":{\"fillmode\":\"overlay\",\"size\":10,\"solidity\":0.2}},\"type\":\"histogram\"}],\"scattergl\":[{\"type\":\"scattergl\",\"marker\":{\"colorbar\":{\"outlinewidth\":0,\"ticks\":\"\"}}}],\"scatter3d\":[{\"type\":\"scatter3d\",\"line\":{\"colorbar\":{\"outlinewidth\":0,\"ticks\":\"\"}},\"marker\":{\"colorbar\":{\"outlinewidth\":0,\"ticks\":\"\"}}}],\"scattermapbox\":[{\"type\":\"scattermapbox\",\"marker\":{\"colorbar\":{\"outlinewidth\":0,\"ticks\":\"\"}}}],\"scatterternary\":[{\"type\":\"scatterternary\",\"marker\":{\"colorbar\":{\"outlinewidth\":0,\"ticks\":\"\"}}}],\"scattercarpet\":[{\"type\":\"scattercarpet\",\"marker\":{\"colorbar\":{\"outlinewidth\":0,\"ticks\":\"\"}}}],\"carpet\":[{\"aaxis\":{\"endlinecolor\":\"#2a3f5f\",\"gridcolor\":\"white\",\"linecolor\":\"white\",\"minorgridcolor\":\"white\",\"startlinecolor\":\"#2a3f5f\"},\"baxis\":{\"endlinecolor\":\"#2a3f5f\",\"gridcolor\":\"white\",\"linecolor\":\"white\",\"minorgridcolor\":\"white\",\"startlinecolor\":\"#2a3f5f\"},\"type\":\"carpet\"}],\"table\":[{\"cells\":{\"fill\":{\"color\":\"#EBF0F8\"},\"line\":{\"color\":\"white\"}},\"header\":{\"fill\":{\"color\":\"#C8D4E3\"},\"line\":{\"color\":\"white\"}},\"type\":\"table\"}],\"barpolar\":[{\"marker\":{\"line\":{\"color\":\"#E5ECF6\",\"width\":0.5},\"pattern\":{\"fillmode\":\"overlay\",\"size\":10,\"solidity\":0.2}},\"type\":\"barpolar\"}],\"pie\":[{\"automargin\":true,\"type\":\"pie\"}]},\"layout\":{\"autotypenumbers\":\"strict\",\"colorway\":[\"#636efa\",\"#EF553B\",\"#00cc96\",\"#ab63fa\",\"#FFA15A\",\"#19d3f3\",\"#FF6692\",\"#B6E880\",\"#FF97FF\",\"#FECB52\"],\"font\":{\"color\":\"#2a3f5f\"},\"hovermode\":\"closest\",\"hoverlabel\":{\"align\":\"left\"},\"paper_bgcolor\":\"white\",\"plot_bgcolor\":\"#E5ECF6\",\"polar\":{\"bgcolor\":\"#E5ECF6\",\"angularaxis\":{\"gridcolor\":\"white\",\"linecolor\":\"white\",\"ticks\":\"\"},\"radialaxis\":{\"gridcolor\":\"white\",\"linecolor\":\"white\",\"ticks\":\"\"}},\"ternary\":{\"bgcolor\":\"#E5ECF6\",\"aaxis\":{\"gridcolor\":\"white\",\"linecolor\":\"white\",\"ticks\":\"\"},\"baxis\":{\"gridcolor\":\"white\",\"linecolor\":\"white\",\"ticks\":\"\"},\"caxis\":{\"gridcolor\":\"white\",\"linecolor\":\"white\",\"ticks\":\"\"}},\"coloraxis\":{\"colorbar\":{\"outlinewidth\":0,\"ticks\":\"\"}},\"colorscale\":{\"sequential\":[[0.0,\"#0d0887\"],[0.1111111111111111,\"#46039f\"],[0.2222222222222222,\"#7201a8\"],[0.3333333333333333,\"#9c179e\"],[0.4444444444444444,\"#bd3786\"],[0.5555555555555556,\"#d8576b\"],[0.6666666666666666,\"#ed7953\"],[0.7777777777777778,\"#fb9f3a\"],[0.8888888888888888,\"#fdca26\"],[1.0,\"#f0f921\"]],\"sequentialminus\":[[0.0,\"#0d0887\"],[0.1111111111111111,\"#46039f\"],[0.2222222222222222,\"#7201a8\"],[0.3333333333333333,\"#9c179e\"],[0.4444444444444444,\"#bd3786\"],[0.5555555555555556,\"#d8576b\"],[0.6666666666666666,\"#ed7953\"],[0.7777777777777778,\"#fb9f3a\"],[0.8888888888888888,\"#fdca26\"],[1.0,\"#f0f921\"]],\"diverging\":[[0,\"#8e0152\"],[0.1,\"#c51b7d\"],[0.2,\"#de77ae\"],[0.3,\"#f1b6da\"],[0.4,\"#fde0ef\"],[0.5,\"#f7f7f7\"],[0.6,\"#e6f5d0\"],[0.7,\"#b8e186\"],[0.8,\"#7fbc41\"],[0.9,\"#4d9221\"],[1,\"#276419\"]]},\"xaxis\":{\"gridcolor\":\"white\",\"linecolor\":\"white\",\"ticks\":\"\",\"title\":{\"standoff\":15},\"zerolinecolor\":\"white\",\"automargin\":true,\"zerolinewidth\":2},\"yaxis\":{\"gridcolor\":\"white\",\"linecolor\":\"white\",\"ticks\":\"\",\"title\":{\"standoff\":15},\"zerolinecolor\":\"white\",\"automargin\":true,\"zerolinewidth\":2},\"scene\":{\"xaxis\":{\"backgroundcolor\":\"#E5ECF6\",\"gridcolor\":\"white\",\"linecolor\":\"white\",\"showbackground\":true,\"ticks\":\"\",\"zerolinecolor\":\"white\",\"gridwidth\":2},\"yaxis\":{\"backgroundcolor\":\"#E5ECF6\",\"gridcolor\":\"white\",\"linecolor\":\"white\",\"showbackground\":true,\"ticks\":\"\",\"zerolinecolor\":\"white\",\"gridwidth\":2},\"zaxis\":{\"backgroundcolor\":\"#E5ECF6\",\"gridcolor\":\"white\",\"linecolor\":\"white\",\"showbackground\":true,\"ticks\":\"\",\"zerolinecolor\":\"white\",\"gridwidth\":2}},\"shapedefaults\":{\"line\":{\"color\":\"#2a3f5f\"}},\"annotationdefaults\":{\"arrowcolor\":\"#2a3f5f\",\"arrowhead\":0,\"arrowwidth\":1},\"geo\":{\"bgcolor\":\"white\",\"landcolor\":\"#E5ECF6\",\"subunitcolor\":\"white\",\"showland\":true,\"showlakes\":true,\"lakecolor\":\"white\"},\"title\":{\"x\":0.05},\"mapbox\":{\"style\":\"light\"}}}},                        {\"responsive\": true}                    ).then(function(){\n",
       "                            \n",
       "var gd = document.getElementById('c373efbb-b928-483a-8e1a-3d77492753dc');\n",
       "var x = new MutationObserver(function (mutations, observer) {{\n",
       "        var display = window.getComputedStyle(gd).display;\n",
       "        if (!display || display === 'none') {{\n",
       "            console.log([gd, 'removed!']);\n",
       "            Plotly.purge(gd);\n",
       "            observer.disconnect();\n",
       "        }}\n",
       "}});\n",
       "\n",
       "// Listen for the removal of the full notebook cells\n",
       "var notebookContainer = gd.closest('#notebook-container');\n",
       "if (notebookContainer) {{\n",
       "    x.observe(notebookContainer, {childList: true});\n",
       "}}\n",
       "\n",
       "// Listen for the clearing of the current output cell\n",
       "var outputEl = gd.closest('.output');\n",
       "if (outputEl) {{\n",
       "    x.observe(outputEl, {childList: true});\n",
       "}}\n",
       "\n",
       "                        })                };                });            </script>        </div>"
      ]
     },
     "metadata": {},
     "output_type": "display_data"
    }
   ],
   "source": [
    "# stacked and grouped barchart\n",
    "# ref: https://dev.to/fronkan/stacked-and-grouped-bar-charts-using-plotly-python-a4p\n",
    "# ref: https://community.plotly.com/t/grouped-stacked-bar-chart/60805/5\n",
    "\n",
    "features = [\"0\",\"1\",\"2\",\"3\"]\n",
    "features_labels = [\"0(measured)\",\"1\",\"2(medium)\",\"3(bad)\"]\n",
    "index = [\"US-MMS\", \"US-Vcp\", \"FR-Pue\", \"CH-Lae\", \"US-Var\", \"US-Ne2\", \"ES-LJu\", \"US-Ton\"]\n",
    "total_offset = len(index) + 1\n",
    "fig_data = []\n",
    "\n",
    "hover_options = {\n",
    "    \"0\": \"%{x}<br>\\\"0\\\":%{y}\",\n",
    "    \"1\": \"%{x}<br>\\\"1\\\":%{y}\",\n",
    "    \"2\": \"%{x}<br>\\\"2\\\":%{y}\",\n",
    "    \"3\": \"%{x}<br>\\\"3\\\":%{y}\"\n",
    "}\n",
    "\n",
    "color_options = {\n",
    "    \"0\": \"#3DB14E\",\n",
    "    \"1\": \"#007B93\",\n",
    "    \"2\": \"#FFC107\",\n",
    "    \"3\": \"#FF4500\"\n",
    "}\n",
    "\n",
    "# Add the traces\n",
    "for i, s in enumerate(index):\n",
    "    site_df = qc_df[qc_df['site_id'] == s]\n",
    "    for j, q in enumerate(features):\n",
    "        bar_plot = go.Bar(\n",
    "            x = site_df[\"data_type\"], y=site_df[q],\n",
    "            name = features_labels[j],\n",
    "            offsetgroup = i,\n",
    "            hovertemplate = hover_options[q],\n",
    "            marker_color = color_options[q],\n",
    "            showlegend = False,\n",
    "        )\n",
    "        \n",
    "        if j > 0: # Move vertically\n",
    "            bar_plot.base = site_df[features[:j]].sum(axis=1)\n",
    "        \n",
    "        if j == len(stacked_features)-1:\n",
    "            bar_plot.text = s\n",
    "            bar_plot.textposition = \"outside\"\n",
    "            bar_plot.textangle = -60\n",
    "            bar_plot.textfont = dict(size = 100)\n",
    "        \n",
    "        if i == 1:\n",
    "            bar_plot.showlegend = True\n",
    "        \n",
    "        fig_data.append(bar_plot)\n",
    "\n",
    "fig = go.Figure(\n",
    "    data=fig_data,\n",
    "    layout=go.Layout(\n",
    "        height = 600,\n",
    "        width = 1000,\n",
    "        legend_title_text= \"QC Flag\",\n",
    "        title=\"Half Hourly Data QC Distributions\",\n",
    "        xaxis_title=\"Data Type\",\n",
    "        yaxis_title=\"Record Count\",\n",
    "        legend_orientation=\"h\",\n",
    "        legend_yanchor=\"top\",\n",
    "        legend_x=0,\n",
    "        legend_y=1.1,\n",
    "    )  \n",
    ")\n",
    "\n",
    "fig.show()\n",
    "\n",
    "# Export Fig\n",
    "#fig.write_html(data_dir + \"\\\\figures\\\\GoldSitesQCDistribution.html\")"
   ]
  },
  {
   "cell_type": "code",
   "execution_count": 9,
   "id": "5fcacfec",
   "metadata": {},
   "outputs": [
    {
     "data": {
      "application/vnd.plotly.v1+json": {
       "config": {
        "plotlyServerURL": "https://plot.ly"
       },
       "data": [
        {
         "alignmentgroup": "True",
         "hovertemplate": "variable=0<br>data_type=%{x}<br>value=%{y}<extra></extra>",
         "legendgroup": "0",
         "marker": {
          "color": "#636efa",
          "pattern": {
           "shape": ""
          }
         },
         "name": "0",
         "offsetgroup": "0",
         "orientation": "v",
         "showlegend": true,
         "textposition": "auto",
         "type": "bar",
         "x": [
          "TA_F_QC",
          "SW_IN_F_QC",
          "LW_IN_F_QC",
          "VPD_F_QC",
          "P_F_QC",
          "PA_F_QC",
          "G_F_MDS_QC",
          "LE_F_MDS_QC",
          "H_F_MDS_QC",
          "NEE_VUT_REF_QC",
          "NEE_CUT_REF_QC",
          "TA_F_QC",
          "SW_IN_F_QC",
          "LW_IN_F_QC",
          "VPD_F_QC",
          "P_F_QC",
          "PA_F_QC",
          "G_F_MDS_QC",
          "LE_F_MDS_QC",
          "H_F_MDS_QC",
          "NEE_VUT_REF_QC",
          "NEE_CUT_REF_QC",
          "TA_F_QC",
          "SW_IN_F_QC",
          "LW_IN_F_QC",
          "VPD_F_QC",
          "P_F_QC",
          "PA_F_QC",
          "G_F_MDS_QC",
          "LE_F_MDS_QC",
          "H_F_MDS_QC",
          "NEE_VUT_REF_QC",
          "NEE_CUT_REF_QC",
          "TA_F_QC",
          "SW_IN_F_QC",
          "LW_IN_F_QC",
          "VPD_F_QC",
          "P_F_QC",
          "PA_F_QC",
          "G_F_MDS_QC",
          "LE_F_MDS_QC",
          "H_F_MDS_QC",
          "NEE_VUT_REF_QC",
          "NEE_CUT_REF_QC",
          "TA_F_QC",
          "SW_IN_F_QC",
          "LW_IN_F_QC",
          "VPD_F_QC",
          "P_F_QC",
          "PA_F_QC",
          "G_F_MDS_QC",
          "LE_F_MDS_QC",
          "H_F_MDS_QC",
          "NEE_VUT_REF_QC",
          "NEE_CUT_REF_QC",
          "TA_F_QC",
          "SW_IN_F_QC",
          "LW_IN_F_QC",
          "VPD_F_QC",
          "P_F_QC",
          "PA_F_QC",
          "G_F_MDS_QC",
          "LE_F_MDS_QC",
          "H_F_MDS_QC",
          "NEE_VUT_REF_QC",
          "NEE_CUT_REF_QC"
         ],
         "xaxis": "x",
         "y": [
          244413,
          243991,
          157188,
          244036,
          245066,
          167305,
          118776,
          200474,
          174992,
          104186,
          102025,
          228390,
          230048,
          0,
          230264,
          230621,
          230211,
          227740,
          166059,
          177417,
          65566,
          64659,
          242346,
          244314,
          177806,
          242784,
          244960,
          239952,
          236712,
          208189,
          226061,
          103239,
          104183,
          164905,
          171379,
          0,
          149022,
          115066,
          169772,
          0,
          0,
          0,
          70948,
          70404,
          278102,
          277629,
          260919,
          278014,
          272208,
          245053,
          0,
          182597,
          226736,
          89467,
          94121,
          234618,
          230126,
          0,
          227728,
          209448,
          229143,
          233686,
          199073,
          217577,
          105053,
          108549
         ],
         "yaxis": "y"
        },
        {
         "alignmentgroup": "True",
         "hovertemplate": "variable=1<br>data_type=%{x}<br>value=%{y}<extra></extra>",
         "legendgroup": "1",
         "marker": {
          "color": "#EF553B",
          "pattern": {
           "shape": ""
          }
         },
         "name": "1",
         "offsetgroup": "1",
         "orientation": "v",
         "showlegend": true,
         "textposition": "auto",
         "type": "bar",
         "x": [
          "TA_F_QC",
          "SW_IN_F_QC",
          "LW_IN_F_QC",
          "VPD_F_QC",
          "P_F_QC",
          "PA_F_QC",
          "G_F_MDS_QC",
          "LE_F_MDS_QC",
          "H_F_MDS_QC",
          "NEE_VUT_REF_QC",
          "NEE_CUT_REF_QC",
          "TA_F_QC",
          "SW_IN_F_QC",
          "LW_IN_F_QC",
          "VPD_F_QC",
          "P_F_QC",
          "PA_F_QC",
          "G_F_MDS_QC",
          "LE_F_MDS_QC",
          "H_F_MDS_QC",
          "NEE_VUT_REF_QC",
          "NEE_CUT_REF_QC",
          "TA_F_QC",
          "SW_IN_F_QC",
          "LW_IN_F_QC",
          "VPD_F_QC",
          "P_F_QC",
          "PA_F_QC",
          "G_F_MDS_QC",
          "LE_F_MDS_QC",
          "H_F_MDS_QC",
          "NEE_VUT_REF_QC",
          "NEE_CUT_REF_QC",
          "TA_F_QC",
          "SW_IN_F_QC",
          "LW_IN_F_QC",
          "VPD_F_QC",
          "P_F_QC",
          "PA_F_QC",
          "G_F_MDS_QC",
          "LE_F_MDS_QC",
          "H_F_MDS_QC",
          "NEE_VUT_REF_QC",
          "NEE_CUT_REF_QC",
          "TA_F_QC",
          "SW_IN_F_QC",
          "LW_IN_F_QC",
          "VPD_F_QC",
          "P_F_QC",
          "PA_F_QC",
          "G_F_MDS_QC",
          "LE_F_MDS_QC",
          "H_F_MDS_QC",
          "NEE_VUT_REF_QC",
          "NEE_CUT_REF_QC",
          "TA_F_QC",
          "SW_IN_F_QC",
          "LW_IN_F_QC",
          "VPD_F_QC",
          "P_F_QC",
          "PA_F_QC",
          "G_F_MDS_QC",
          "LE_F_MDS_QC",
          "H_F_MDS_QC",
          "NEE_VUT_REF_QC",
          "NEE_CUT_REF_QC"
         ],
         "xaxis": "x",
         "y": [
          656,
          887,
          2650,
          1031,
          0,
          0,
          2590,
          42644,
          68291,
          129287,
          131020,
          2357,
          695,
          0,
          636,
          0,
          0,
          2779,
          59897,
          49063,
          149202,
          149698,
          3081,
          750,
          5255,
          2667,
          0,
          0,
          6564,
          35631,
          18463,
          130944,
          129935,
          8610,
          1580,
          0,
          9745,
          0,
          0,
          0,
          0,
          0,
          95952,
          96060,
          1258,
          1173,
          1497,
          1346,
          0,
          0,
          0,
          102424,
          60632,
          183615,
          180453,
          3356,
          1421,
          0,
          7392,
          0,
          0,
          3443,
          37078,
          18929,
          125237,
          121605
         ],
         "yaxis": "y"
        },
        {
         "alignmentgroup": "True",
         "hovertemplate": "variable=2<br>data_type=%{x}<br>value=%{y}<extra></extra>",
         "legendgroup": "2",
         "marker": {
          "color": "#00cc96",
          "pattern": {
           "shape": ""
          }
         },
         "name": "2",
         "offsetgroup": "2",
         "orientation": "v",
         "showlegend": true,
         "textposition": "auto",
         "type": "bar",
         "x": [
          "TA_F_QC",
          "SW_IN_F_QC",
          "LW_IN_F_QC",
          "VPD_F_QC",
          "P_F_QC",
          "PA_F_QC",
          "G_F_MDS_QC",
          "LE_F_MDS_QC",
          "H_F_MDS_QC",
          "NEE_VUT_REF_QC",
          "NEE_CUT_REF_QC",
          "TA_F_QC",
          "SW_IN_F_QC",
          "LW_IN_F_QC",
          "VPD_F_QC",
          "P_F_QC",
          "PA_F_QC",
          "G_F_MDS_QC",
          "LE_F_MDS_QC",
          "H_F_MDS_QC",
          "NEE_VUT_REF_QC",
          "NEE_CUT_REF_QC",
          "TA_F_QC",
          "SW_IN_F_QC",
          "LW_IN_F_QC",
          "VPD_F_QC",
          "P_F_QC",
          "PA_F_QC",
          "G_F_MDS_QC",
          "LE_F_MDS_QC",
          "H_F_MDS_QC",
          "NEE_VUT_REF_QC",
          "NEE_CUT_REF_QC",
          "TA_F_QC",
          "SW_IN_F_QC",
          "LW_IN_F_QC",
          "VPD_F_QC",
          "P_F_QC",
          "PA_F_QC",
          "G_F_MDS_QC",
          "LE_F_MDS_QC",
          "H_F_MDS_QC",
          "NEE_VUT_REF_QC",
          "NEE_CUT_REF_QC",
          "TA_F_QC",
          "SW_IN_F_QC",
          "LW_IN_F_QC",
          "VPD_F_QC",
          "P_F_QC",
          "PA_F_QC",
          "G_F_MDS_QC",
          "LE_F_MDS_QC",
          "H_F_MDS_QC",
          "NEE_VUT_REF_QC",
          "NEE_CUT_REF_QC",
          "TA_F_QC",
          "SW_IN_F_QC",
          "LW_IN_F_QC",
          "VPD_F_QC",
          "P_F_QC",
          "PA_F_QC",
          "G_F_MDS_QC",
          "LE_F_MDS_QC",
          "H_F_MDS_QC",
          "NEE_VUT_REF_QC",
          "NEE_CUT_REF_QC"
         ],
         "xaxis": "x",
         "y": [
          691,
          882,
          85922,
          693,
          694,
          78455,
          5147,
          2472,
          2272,
          11770,
          12190,
          181,
          185,
          230928,
          28,
          307,
          717,
          327,
          4944,
          4424,
          15939,
          16308,
          285,
          648,
          62651,
          261,
          752,
          5760,
          2260,
          1829,
          1126,
          11371,
          11435,
          1013,
          1569,
          174528,
          15761,
          59462,
          4756,
          0,
          0,
          0,
          6987,
          7416,
          9024,
          9561,
          25968,
          9024,
          0,
          27155,
          0,
          3087,
          994,
          14415,
          12672,
          1642,
          8069,
          239616,
          4496,
          30168,
          10473,
          1457,
          2609,
          2273,
          7594,
          7291
         ],
         "yaxis": "y"
        },
        {
         "alignmentgroup": "True",
         "hovertemplate": "variable=3<br>data_type=%{x}<br>value=%{y}<extra></extra>",
         "legendgroup": "3",
         "marker": {
          "color": "#ab63fa",
          "pattern": {
           "shape": ""
          }
         },
         "name": "3",
         "offsetgroup": "3",
         "orientation": "v",
         "showlegend": true,
         "textposition": "auto",
         "type": "bar",
         "x": [
          "TA_F_QC",
          "SW_IN_F_QC",
          "LW_IN_F_QC",
          "VPD_F_QC",
          "P_F_QC",
          "PA_F_QC",
          "G_F_MDS_QC",
          "LE_F_MDS_QC",
          "H_F_MDS_QC",
          "NEE_VUT_REF_QC",
          "NEE_CUT_REF_QC",
          "TA_F_QC",
          "SW_IN_F_QC",
          "LW_IN_F_QC",
          "VPD_F_QC",
          "P_F_QC",
          "PA_F_QC",
          "G_F_MDS_QC",
          "LE_F_MDS_QC",
          "H_F_MDS_QC",
          "NEE_VUT_REF_QC",
          "NEE_CUT_REF_QC",
          "TA_F_QC",
          "SW_IN_F_QC",
          "LW_IN_F_QC",
          "VPD_F_QC",
          "P_F_QC",
          "PA_F_QC",
          "G_F_MDS_QC",
          "LE_F_MDS_QC",
          "H_F_MDS_QC",
          "NEE_VUT_REF_QC",
          "NEE_CUT_REF_QC",
          "TA_F_QC",
          "SW_IN_F_QC",
          "LW_IN_F_QC",
          "VPD_F_QC",
          "P_F_QC",
          "PA_F_QC",
          "G_F_MDS_QC",
          "LE_F_MDS_QC",
          "H_F_MDS_QC",
          "NEE_VUT_REF_QC",
          "NEE_CUT_REF_QC",
          "TA_F_QC",
          "SW_IN_F_QC",
          "LW_IN_F_QC",
          "VPD_F_QC",
          "P_F_QC",
          "PA_F_QC",
          "G_F_MDS_QC",
          "LE_F_MDS_QC",
          "H_F_MDS_QC",
          "NEE_VUT_REF_QC",
          "NEE_CUT_REF_QC",
          "TA_F_QC",
          "SW_IN_F_QC",
          "LW_IN_F_QC",
          "VPD_F_QC",
          "P_F_QC",
          "PA_F_QC",
          "G_F_MDS_QC",
          "LE_F_MDS_QC",
          "H_F_MDS_QC",
          "NEE_VUT_REF_QC",
          "NEE_CUT_REF_QC"
         ],
         "xaxis": "x",
         "y": [
          0,
          0,
          0,
          0,
          0,
          0,
          16981,
          170,
          205,
          517,
          525,
          0,
          0,
          0,
          0,
          0,
          0,
          82,
          28,
          24,
          221,
          263,
          0,
          0,
          0,
          0,
          0,
          0,
          176,
          63,
          62,
          158,
          159,
          0,
          0,
          0,
          0,
          0,
          0,
          0,
          0,
          0,
          641,
          648,
          0,
          21,
          0,
          0,
          0,
          0,
          0,
          276,
          22,
          887,
          1138,
          0,
          0,
          0,
          0,
          0,
          0,
          1030,
          856,
          837,
          1732,
          2171
         ],
         "yaxis": "y"
        }
       ],
       "layout": {
        "barmode": "stack",
        "legend": {
         "title": {
          "text": "variable"
         },
         "tracegroupgap": 0
        },
        "template": {
         "data": {
          "bar": [
           {
            "error_x": {
             "color": "#2a3f5f"
            },
            "error_y": {
             "color": "#2a3f5f"
            },
            "marker": {
             "line": {
              "color": "#E5ECF6",
              "width": 0.5
             },
             "pattern": {
              "fillmode": "overlay",
              "size": 10,
              "solidity": 0.2
             }
            },
            "type": "bar"
           }
          ],
          "barpolar": [
           {
            "marker": {
             "line": {
              "color": "#E5ECF6",
              "width": 0.5
             },
             "pattern": {
              "fillmode": "overlay",
              "size": 10,
              "solidity": 0.2
             }
            },
            "type": "barpolar"
           }
          ],
          "carpet": [
           {
            "aaxis": {
             "endlinecolor": "#2a3f5f",
             "gridcolor": "white",
             "linecolor": "white",
             "minorgridcolor": "white",
             "startlinecolor": "#2a3f5f"
            },
            "baxis": {
             "endlinecolor": "#2a3f5f",
             "gridcolor": "white",
             "linecolor": "white",
             "minorgridcolor": "white",
             "startlinecolor": "#2a3f5f"
            },
            "type": "carpet"
           }
          ],
          "choropleth": [
           {
            "colorbar": {
             "outlinewidth": 0,
             "ticks": ""
            },
            "type": "choropleth"
           }
          ],
          "contour": [
           {
            "colorbar": {
             "outlinewidth": 0,
             "ticks": ""
            },
            "colorscale": [
             [
              0,
              "#0d0887"
             ],
             [
              0.1111111111111111,
              "#46039f"
             ],
             [
              0.2222222222222222,
              "#7201a8"
             ],
             [
              0.3333333333333333,
              "#9c179e"
             ],
             [
              0.4444444444444444,
              "#bd3786"
             ],
             [
              0.5555555555555556,
              "#d8576b"
             ],
             [
              0.6666666666666666,
              "#ed7953"
             ],
             [
              0.7777777777777778,
              "#fb9f3a"
             ],
             [
              0.8888888888888888,
              "#fdca26"
             ],
             [
              1,
              "#f0f921"
             ]
            ],
            "type": "contour"
           }
          ],
          "contourcarpet": [
           {
            "colorbar": {
             "outlinewidth": 0,
             "ticks": ""
            },
            "type": "contourcarpet"
           }
          ],
          "heatmap": [
           {
            "colorbar": {
             "outlinewidth": 0,
             "ticks": ""
            },
            "colorscale": [
             [
              0,
              "#0d0887"
             ],
             [
              0.1111111111111111,
              "#46039f"
             ],
             [
              0.2222222222222222,
              "#7201a8"
             ],
             [
              0.3333333333333333,
              "#9c179e"
             ],
             [
              0.4444444444444444,
              "#bd3786"
             ],
             [
              0.5555555555555556,
              "#d8576b"
             ],
             [
              0.6666666666666666,
              "#ed7953"
             ],
             [
              0.7777777777777778,
              "#fb9f3a"
             ],
             [
              0.8888888888888888,
              "#fdca26"
             ],
             [
              1,
              "#f0f921"
             ]
            ],
            "type": "heatmap"
           }
          ],
          "heatmapgl": [
           {
            "colorbar": {
             "outlinewidth": 0,
             "ticks": ""
            },
            "colorscale": [
             [
              0,
              "#0d0887"
             ],
             [
              0.1111111111111111,
              "#46039f"
             ],
             [
              0.2222222222222222,
              "#7201a8"
             ],
             [
              0.3333333333333333,
              "#9c179e"
             ],
             [
              0.4444444444444444,
              "#bd3786"
             ],
             [
              0.5555555555555556,
              "#d8576b"
             ],
             [
              0.6666666666666666,
              "#ed7953"
             ],
             [
              0.7777777777777778,
              "#fb9f3a"
             ],
             [
              0.8888888888888888,
              "#fdca26"
             ],
             [
              1,
              "#f0f921"
             ]
            ],
            "type": "heatmapgl"
           }
          ],
          "histogram": [
           {
            "marker": {
             "pattern": {
              "fillmode": "overlay",
              "size": 10,
              "solidity": 0.2
             }
            },
            "type": "histogram"
           }
          ],
          "histogram2d": [
           {
            "colorbar": {
             "outlinewidth": 0,
             "ticks": ""
            },
            "colorscale": [
             [
              0,
              "#0d0887"
             ],
             [
              0.1111111111111111,
              "#46039f"
             ],
             [
              0.2222222222222222,
              "#7201a8"
             ],
             [
              0.3333333333333333,
              "#9c179e"
             ],
             [
              0.4444444444444444,
              "#bd3786"
             ],
             [
              0.5555555555555556,
              "#d8576b"
             ],
             [
              0.6666666666666666,
              "#ed7953"
             ],
             [
              0.7777777777777778,
              "#fb9f3a"
             ],
             [
              0.8888888888888888,
              "#fdca26"
             ],
             [
              1,
              "#f0f921"
             ]
            ],
            "type": "histogram2d"
           }
          ],
          "histogram2dcontour": [
           {
            "colorbar": {
             "outlinewidth": 0,
             "ticks": ""
            },
            "colorscale": [
             [
              0,
              "#0d0887"
             ],
             [
              0.1111111111111111,
              "#46039f"
             ],
             [
              0.2222222222222222,
              "#7201a8"
             ],
             [
              0.3333333333333333,
              "#9c179e"
             ],
             [
              0.4444444444444444,
              "#bd3786"
             ],
             [
              0.5555555555555556,
              "#d8576b"
             ],
             [
              0.6666666666666666,
              "#ed7953"
             ],
             [
              0.7777777777777778,
              "#fb9f3a"
             ],
             [
              0.8888888888888888,
              "#fdca26"
             ],
             [
              1,
              "#f0f921"
             ]
            ],
            "type": "histogram2dcontour"
           }
          ],
          "mesh3d": [
           {
            "colorbar": {
             "outlinewidth": 0,
             "ticks": ""
            },
            "type": "mesh3d"
           }
          ],
          "parcoords": [
           {
            "line": {
             "colorbar": {
              "outlinewidth": 0,
              "ticks": ""
             }
            },
            "type": "parcoords"
           }
          ],
          "pie": [
           {
            "automargin": true,
            "type": "pie"
           }
          ],
          "scatter": [
           {
            "fillpattern": {
             "fillmode": "overlay",
             "size": 10,
             "solidity": 0.2
            },
            "type": "scatter"
           }
          ],
          "scatter3d": [
           {
            "line": {
             "colorbar": {
              "outlinewidth": 0,
              "ticks": ""
             }
            },
            "marker": {
             "colorbar": {
              "outlinewidth": 0,
              "ticks": ""
             }
            },
            "type": "scatter3d"
           }
          ],
          "scattercarpet": [
           {
            "marker": {
             "colorbar": {
              "outlinewidth": 0,
              "ticks": ""
             }
            },
            "type": "scattercarpet"
           }
          ],
          "scattergeo": [
           {
            "marker": {
             "colorbar": {
              "outlinewidth": 0,
              "ticks": ""
             }
            },
            "type": "scattergeo"
           }
          ],
          "scattergl": [
           {
            "marker": {
             "colorbar": {
              "outlinewidth": 0,
              "ticks": ""
             }
            },
            "type": "scattergl"
           }
          ],
          "scattermapbox": [
           {
            "marker": {
             "colorbar": {
              "outlinewidth": 0,
              "ticks": ""
             }
            },
            "type": "scattermapbox"
           }
          ],
          "scatterpolar": [
           {
            "marker": {
             "colorbar": {
              "outlinewidth": 0,
              "ticks": ""
             }
            },
            "type": "scatterpolar"
           }
          ],
          "scatterpolargl": [
           {
            "marker": {
             "colorbar": {
              "outlinewidth": 0,
              "ticks": ""
             }
            },
            "type": "scatterpolargl"
           }
          ],
          "scatterternary": [
           {
            "marker": {
             "colorbar": {
              "outlinewidth": 0,
              "ticks": ""
             }
            },
            "type": "scatterternary"
           }
          ],
          "surface": [
           {
            "colorbar": {
             "outlinewidth": 0,
             "ticks": ""
            },
            "colorscale": [
             [
              0,
              "#0d0887"
             ],
             [
              0.1111111111111111,
              "#46039f"
             ],
             [
              0.2222222222222222,
              "#7201a8"
             ],
             [
              0.3333333333333333,
              "#9c179e"
             ],
             [
              0.4444444444444444,
              "#bd3786"
             ],
             [
              0.5555555555555556,
              "#d8576b"
             ],
             [
              0.6666666666666666,
              "#ed7953"
             ],
             [
              0.7777777777777778,
              "#fb9f3a"
             ],
             [
              0.8888888888888888,
              "#fdca26"
             ],
             [
              1,
              "#f0f921"
             ]
            ],
            "type": "surface"
           }
          ],
          "table": [
           {
            "cells": {
             "fill": {
              "color": "#EBF0F8"
             },
             "line": {
              "color": "white"
             }
            },
            "header": {
             "fill": {
              "color": "#C8D4E3"
             },
             "line": {
              "color": "white"
             }
            },
            "type": "table"
           }
          ]
         },
         "layout": {
          "annotationdefaults": {
           "arrowcolor": "#2a3f5f",
           "arrowhead": 0,
           "arrowwidth": 1
          },
          "autotypenumbers": "strict",
          "coloraxis": {
           "colorbar": {
            "outlinewidth": 0,
            "ticks": ""
           }
          },
          "colorscale": {
           "diverging": [
            [
             0,
             "#8e0152"
            ],
            [
             0.1,
             "#c51b7d"
            ],
            [
             0.2,
             "#de77ae"
            ],
            [
             0.3,
             "#f1b6da"
            ],
            [
             0.4,
             "#fde0ef"
            ],
            [
             0.5,
             "#f7f7f7"
            ],
            [
             0.6,
             "#e6f5d0"
            ],
            [
             0.7,
             "#b8e186"
            ],
            [
             0.8,
             "#7fbc41"
            ],
            [
             0.9,
             "#4d9221"
            ],
            [
             1,
             "#276419"
            ]
           ],
           "sequential": [
            [
             0,
             "#0d0887"
            ],
            [
             0.1111111111111111,
             "#46039f"
            ],
            [
             0.2222222222222222,
             "#7201a8"
            ],
            [
             0.3333333333333333,
             "#9c179e"
            ],
            [
             0.4444444444444444,
             "#bd3786"
            ],
            [
             0.5555555555555556,
             "#d8576b"
            ],
            [
             0.6666666666666666,
             "#ed7953"
            ],
            [
             0.7777777777777778,
             "#fb9f3a"
            ],
            [
             0.8888888888888888,
             "#fdca26"
            ],
            [
             1,
             "#f0f921"
            ]
           ],
           "sequentialminus": [
            [
             0,
             "#0d0887"
            ],
            [
             0.1111111111111111,
             "#46039f"
            ],
            [
             0.2222222222222222,
             "#7201a8"
            ],
            [
             0.3333333333333333,
             "#9c179e"
            ],
            [
             0.4444444444444444,
             "#bd3786"
            ],
            [
             0.5555555555555556,
             "#d8576b"
            ],
            [
             0.6666666666666666,
             "#ed7953"
            ],
            [
             0.7777777777777778,
             "#fb9f3a"
            ],
            [
             0.8888888888888888,
             "#fdca26"
            ],
            [
             1,
             "#f0f921"
            ]
           ]
          },
          "colorway": [
           "#636efa",
           "#EF553B",
           "#00cc96",
           "#ab63fa",
           "#FFA15A",
           "#19d3f3",
           "#FF6692",
           "#B6E880",
           "#FF97FF",
           "#FECB52"
          ],
          "font": {
           "color": "#2a3f5f"
          },
          "geo": {
           "bgcolor": "white",
           "lakecolor": "white",
           "landcolor": "#E5ECF6",
           "showlakes": true,
           "showland": true,
           "subunitcolor": "white"
          },
          "hoverlabel": {
           "align": "left"
          },
          "hovermode": "closest",
          "mapbox": {
           "style": "light"
          },
          "paper_bgcolor": "white",
          "plot_bgcolor": "#E5ECF6",
          "polar": {
           "angularaxis": {
            "gridcolor": "white",
            "linecolor": "white",
            "ticks": ""
           },
           "bgcolor": "#E5ECF6",
           "radialaxis": {
            "gridcolor": "white",
            "linecolor": "white",
            "ticks": ""
           }
          },
          "scene": {
           "xaxis": {
            "backgroundcolor": "#E5ECF6",
            "gridcolor": "white",
            "gridwidth": 2,
            "linecolor": "white",
            "showbackground": true,
            "ticks": "",
            "zerolinecolor": "white"
           },
           "yaxis": {
            "backgroundcolor": "#E5ECF6",
            "gridcolor": "white",
            "gridwidth": 2,
            "linecolor": "white",
            "showbackground": true,
            "ticks": "",
            "zerolinecolor": "white"
           },
           "zaxis": {
            "backgroundcolor": "#E5ECF6",
            "gridcolor": "white",
            "gridwidth": 2,
            "linecolor": "white",
            "showbackground": true,
            "ticks": "",
            "zerolinecolor": "white"
           }
          },
          "shapedefaults": {
           "line": {
            "color": "#2a3f5f"
           }
          },
          "ternary": {
           "aaxis": {
            "gridcolor": "white",
            "linecolor": "white",
            "ticks": ""
           },
           "baxis": {
            "gridcolor": "white",
            "linecolor": "white",
            "ticks": ""
           },
           "bgcolor": "#E5ECF6",
           "caxis": {
            "gridcolor": "white",
            "linecolor": "white",
            "ticks": ""
           }
          },
          "title": {
           "x": 0.05
          },
          "xaxis": {
           "automargin": true,
           "gridcolor": "white",
           "linecolor": "white",
           "ticks": "",
           "title": {
            "standoff": 15
           },
           "zerolinecolor": "white",
           "zerolinewidth": 2
          },
          "yaxis": {
           "automargin": true,
           "gridcolor": "white",
           "linecolor": "white",
           "ticks": "",
           "title": {
            "standoff": 15
           },
           "zerolinecolor": "white",
           "zerolinewidth": 2
          }
         }
        },
        "title": {
         "text": "Half Hourly Data QC Distributions"
        },
        "xaxis": {
         "anchor": "y",
         "domain": [
          0,
          1
         ],
         "title": {
          "text": "data_type"
         }
        },
        "yaxis": {
         "anchor": "x",
         "domain": [
          0,
          1
         ],
         "title": {
          "text": "value"
         }
        }
       }
      },
      "text/html": [
       "<div>                            <div id=\"aa79e533-d935-4c09-8299-12037c083385\" class=\"plotly-graph-div\" style=\"height:525px; width:100%;\"></div>            <script type=\"text/javascript\">                require([\"plotly\"], function(Plotly) {                    window.PLOTLYENV=window.PLOTLYENV || {};                                    if (document.getElementById(\"aa79e533-d935-4c09-8299-12037c083385\")) {                    Plotly.newPlot(                        \"aa79e533-d935-4c09-8299-12037c083385\",                        [{\"alignmentgroup\":\"True\",\"hovertemplate\":\"variable=0<br>data_type=%{x}<br>value=%{y}<extra></extra>\",\"legendgroup\":\"0\",\"marker\":{\"color\":\"#636efa\",\"pattern\":{\"shape\":\"\"}},\"name\":\"0\",\"offsetgroup\":\"0\",\"orientation\":\"v\",\"showlegend\":true,\"textposition\":\"auto\",\"x\":[\"TA_F_QC\",\"SW_IN_F_QC\",\"LW_IN_F_QC\",\"VPD_F_QC\",\"P_F_QC\",\"PA_F_QC\",\"G_F_MDS_QC\",\"LE_F_MDS_QC\",\"H_F_MDS_QC\",\"NEE_VUT_REF_QC\",\"NEE_CUT_REF_QC\",\"TA_F_QC\",\"SW_IN_F_QC\",\"LW_IN_F_QC\",\"VPD_F_QC\",\"P_F_QC\",\"PA_F_QC\",\"G_F_MDS_QC\",\"LE_F_MDS_QC\",\"H_F_MDS_QC\",\"NEE_VUT_REF_QC\",\"NEE_CUT_REF_QC\",\"TA_F_QC\",\"SW_IN_F_QC\",\"LW_IN_F_QC\",\"VPD_F_QC\",\"P_F_QC\",\"PA_F_QC\",\"G_F_MDS_QC\",\"LE_F_MDS_QC\",\"H_F_MDS_QC\",\"NEE_VUT_REF_QC\",\"NEE_CUT_REF_QC\",\"TA_F_QC\",\"SW_IN_F_QC\",\"LW_IN_F_QC\",\"VPD_F_QC\",\"P_F_QC\",\"PA_F_QC\",\"G_F_MDS_QC\",\"LE_F_MDS_QC\",\"H_F_MDS_QC\",\"NEE_VUT_REF_QC\",\"NEE_CUT_REF_QC\",\"TA_F_QC\",\"SW_IN_F_QC\",\"LW_IN_F_QC\",\"VPD_F_QC\",\"P_F_QC\",\"PA_F_QC\",\"G_F_MDS_QC\",\"LE_F_MDS_QC\",\"H_F_MDS_QC\",\"NEE_VUT_REF_QC\",\"NEE_CUT_REF_QC\",\"TA_F_QC\",\"SW_IN_F_QC\",\"LW_IN_F_QC\",\"VPD_F_QC\",\"P_F_QC\",\"PA_F_QC\",\"G_F_MDS_QC\",\"LE_F_MDS_QC\",\"H_F_MDS_QC\",\"NEE_VUT_REF_QC\",\"NEE_CUT_REF_QC\"],\"xaxis\":\"x\",\"y\":[244413,243991,157188,244036,245066,167305,118776,200474,174992,104186,102025,228390,230048,0,230264,230621,230211,227740,166059,177417,65566,64659,242346,244314,177806,242784,244960,239952,236712,208189,226061,103239,104183,164905,171379,0,149022,115066,169772,0,0,0,70948,70404,278102,277629,260919,278014,272208,245053,0,182597,226736,89467,94121,234618,230126,0,227728,209448,229143,233686,199073,217577,105053,108549],\"yaxis\":\"y\",\"type\":\"bar\"},{\"alignmentgroup\":\"True\",\"hovertemplate\":\"variable=1<br>data_type=%{x}<br>value=%{y}<extra></extra>\",\"legendgroup\":\"1\",\"marker\":{\"color\":\"#EF553B\",\"pattern\":{\"shape\":\"\"}},\"name\":\"1\",\"offsetgroup\":\"1\",\"orientation\":\"v\",\"showlegend\":true,\"textposition\":\"auto\",\"x\":[\"TA_F_QC\",\"SW_IN_F_QC\",\"LW_IN_F_QC\",\"VPD_F_QC\",\"P_F_QC\",\"PA_F_QC\",\"G_F_MDS_QC\",\"LE_F_MDS_QC\",\"H_F_MDS_QC\",\"NEE_VUT_REF_QC\",\"NEE_CUT_REF_QC\",\"TA_F_QC\",\"SW_IN_F_QC\",\"LW_IN_F_QC\",\"VPD_F_QC\",\"P_F_QC\",\"PA_F_QC\",\"G_F_MDS_QC\",\"LE_F_MDS_QC\",\"H_F_MDS_QC\",\"NEE_VUT_REF_QC\",\"NEE_CUT_REF_QC\",\"TA_F_QC\",\"SW_IN_F_QC\",\"LW_IN_F_QC\",\"VPD_F_QC\",\"P_F_QC\",\"PA_F_QC\",\"G_F_MDS_QC\",\"LE_F_MDS_QC\",\"H_F_MDS_QC\",\"NEE_VUT_REF_QC\",\"NEE_CUT_REF_QC\",\"TA_F_QC\",\"SW_IN_F_QC\",\"LW_IN_F_QC\",\"VPD_F_QC\",\"P_F_QC\",\"PA_F_QC\",\"G_F_MDS_QC\",\"LE_F_MDS_QC\",\"H_F_MDS_QC\",\"NEE_VUT_REF_QC\",\"NEE_CUT_REF_QC\",\"TA_F_QC\",\"SW_IN_F_QC\",\"LW_IN_F_QC\",\"VPD_F_QC\",\"P_F_QC\",\"PA_F_QC\",\"G_F_MDS_QC\",\"LE_F_MDS_QC\",\"H_F_MDS_QC\",\"NEE_VUT_REF_QC\",\"NEE_CUT_REF_QC\",\"TA_F_QC\",\"SW_IN_F_QC\",\"LW_IN_F_QC\",\"VPD_F_QC\",\"P_F_QC\",\"PA_F_QC\",\"G_F_MDS_QC\",\"LE_F_MDS_QC\",\"H_F_MDS_QC\",\"NEE_VUT_REF_QC\",\"NEE_CUT_REF_QC\"],\"xaxis\":\"x\",\"y\":[656,887,2650,1031,0,0,2590,42644,68291,129287,131020,2357,695,0,636,0,0,2779,59897,49063,149202,149698,3081,750,5255,2667,0,0,6564,35631,18463,130944,129935,8610,1580,0,9745,0,0,0,0,0,95952,96060,1258,1173,1497,1346,0,0,0,102424,60632,183615,180453,3356,1421,0,7392,0,0,3443,37078,18929,125237,121605],\"yaxis\":\"y\",\"type\":\"bar\"},{\"alignmentgroup\":\"True\",\"hovertemplate\":\"variable=2<br>data_type=%{x}<br>value=%{y}<extra></extra>\",\"legendgroup\":\"2\",\"marker\":{\"color\":\"#00cc96\",\"pattern\":{\"shape\":\"\"}},\"name\":\"2\",\"offsetgroup\":\"2\",\"orientation\":\"v\",\"showlegend\":true,\"textposition\":\"auto\",\"x\":[\"TA_F_QC\",\"SW_IN_F_QC\",\"LW_IN_F_QC\",\"VPD_F_QC\",\"P_F_QC\",\"PA_F_QC\",\"G_F_MDS_QC\",\"LE_F_MDS_QC\",\"H_F_MDS_QC\",\"NEE_VUT_REF_QC\",\"NEE_CUT_REF_QC\",\"TA_F_QC\",\"SW_IN_F_QC\",\"LW_IN_F_QC\",\"VPD_F_QC\",\"P_F_QC\",\"PA_F_QC\",\"G_F_MDS_QC\",\"LE_F_MDS_QC\",\"H_F_MDS_QC\",\"NEE_VUT_REF_QC\",\"NEE_CUT_REF_QC\",\"TA_F_QC\",\"SW_IN_F_QC\",\"LW_IN_F_QC\",\"VPD_F_QC\",\"P_F_QC\",\"PA_F_QC\",\"G_F_MDS_QC\",\"LE_F_MDS_QC\",\"H_F_MDS_QC\",\"NEE_VUT_REF_QC\",\"NEE_CUT_REF_QC\",\"TA_F_QC\",\"SW_IN_F_QC\",\"LW_IN_F_QC\",\"VPD_F_QC\",\"P_F_QC\",\"PA_F_QC\",\"G_F_MDS_QC\",\"LE_F_MDS_QC\",\"H_F_MDS_QC\",\"NEE_VUT_REF_QC\",\"NEE_CUT_REF_QC\",\"TA_F_QC\",\"SW_IN_F_QC\",\"LW_IN_F_QC\",\"VPD_F_QC\",\"P_F_QC\",\"PA_F_QC\",\"G_F_MDS_QC\",\"LE_F_MDS_QC\",\"H_F_MDS_QC\",\"NEE_VUT_REF_QC\",\"NEE_CUT_REF_QC\",\"TA_F_QC\",\"SW_IN_F_QC\",\"LW_IN_F_QC\",\"VPD_F_QC\",\"P_F_QC\",\"PA_F_QC\",\"G_F_MDS_QC\",\"LE_F_MDS_QC\",\"H_F_MDS_QC\",\"NEE_VUT_REF_QC\",\"NEE_CUT_REF_QC\"],\"xaxis\":\"x\",\"y\":[691,882,85922,693,694,78455,5147,2472,2272,11770,12190,181,185,230928,28,307,717,327,4944,4424,15939,16308,285,648,62651,261,752,5760,2260,1829,1126,11371,11435,1013,1569,174528,15761,59462,4756,0,0,0,6987,7416,9024,9561,25968,9024,0,27155,0,3087,994,14415,12672,1642,8069,239616,4496,30168,10473,1457,2609,2273,7594,7291],\"yaxis\":\"y\",\"type\":\"bar\"},{\"alignmentgroup\":\"True\",\"hovertemplate\":\"variable=3<br>data_type=%{x}<br>value=%{y}<extra></extra>\",\"legendgroup\":\"3\",\"marker\":{\"color\":\"#ab63fa\",\"pattern\":{\"shape\":\"\"}},\"name\":\"3\",\"offsetgroup\":\"3\",\"orientation\":\"v\",\"showlegend\":true,\"textposition\":\"auto\",\"x\":[\"TA_F_QC\",\"SW_IN_F_QC\",\"LW_IN_F_QC\",\"VPD_F_QC\",\"P_F_QC\",\"PA_F_QC\",\"G_F_MDS_QC\",\"LE_F_MDS_QC\",\"H_F_MDS_QC\",\"NEE_VUT_REF_QC\",\"NEE_CUT_REF_QC\",\"TA_F_QC\",\"SW_IN_F_QC\",\"LW_IN_F_QC\",\"VPD_F_QC\",\"P_F_QC\",\"PA_F_QC\",\"G_F_MDS_QC\",\"LE_F_MDS_QC\",\"H_F_MDS_QC\",\"NEE_VUT_REF_QC\",\"NEE_CUT_REF_QC\",\"TA_F_QC\",\"SW_IN_F_QC\",\"LW_IN_F_QC\",\"VPD_F_QC\",\"P_F_QC\",\"PA_F_QC\",\"G_F_MDS_QC\",\"LE_F_MDS_QC\",\"H_F_MDS_QC\",\"NEE_VUT_REF_QC\",\"NEE_CUT_REF_QC\",\"TA_F_QC\",\"SW_IN_F_QC\",\"LW_IN_F_QC\",\"VPD_F_QC\",\"P_F_QC\",\"PA_F_QC\",\"G_F_MDS_QC\",\"LE_F_MDS_QC\",\"H_F_MDS_QC\",\"NEE_VUT_REF_QC\",\"NEE_CUT_REF_QC\",\"TA_F_QC\",\"SW_IN_F_QC\",\"LW_IN_F_QC\",\"VPD_F_QC\",\"P_F_QC\",\"PA_F_QC\",\"G_F_MDS_QC\",\"LE_F_MDS_QC\",\"H_F_MDS_QC\",\"NEE_VUT_REF_QC\",\"NEE_CUT_REF_QC\",\"TA_F_QC\",\"SW_IN_F_QC\",\"LW_IN_F_QC\",\"VPD_F_QC\",\"P_F_QC\",\"PA_F_QC\",\"G_F_MDS_QC\",\"LE_F_MDS_QC\",\"H_F_MDS_QC\",\"NEE_VUT_REF_QC\",\"NEE_CUT_REF_QC\"],\"xaxis\":\"x\",\"y\":[0,0,0,0,0,0,16981,170,205,517,525,0,0,0,0,0,0,82,28,24,221,263,0,0,0,0,0,0,176,63,62,158,159,0,0,0,0,0,0,0,0,0,641,648,0,21,0,0,0,0,0,276,22,887,1138,0,0,0,0,0,0,1030,856,837,1732,2171],\"yaxis\":\"y\",\"type\":\"bar\"}],                        {\"template\":{\"data\":{\"histogram2dcontour\":[{\"type\":\"histogram2dcontour\",\"colorbar\":{\"outlinewidth\":0,\"ticks\":\"\"},\"colorscale\":[[0.0,\"#0d0887\"],[0.1111111111111111,\"#46039f\"],[0.2222222222222222,\"#7201a8\"],[0.3333333333333333,\"#9c179e\"],[0.4444444444444444,\"#bd3786\"],[0.5555555555555556,\"#d8576b\"],[0.6666666666666666,\"#ed7953\"],[0.7777777777777778,\"#fb9f3a\"],[0.8888888888888888,\"#fdca26\"],[1.0,\"#f0f921\"]]}],\"choropleth\":[{\"type\":\"choropleth\",\"colorbar\":{\"outlinewidth\":0,\"ticks\":\"\"}}],\"histogram2d\":[{\"type\":\"histogram2d\",\"colorbar\":{\"outlinewidth\":0,\"ticks\":\"\"},\"colorscale\":[[0.0,\"#0d0887\"],[0.1111111111111111,\"#46039f\"],[0.2222222222222222,\"#7201a8\"],[0.3333333333333333,\"#9c179e\"],[0.4444444444444444,\"#bd3786\"],[0.5555555555555556,\"#d8576b\"],[0.6666666666666666,\"#ed7953\"],[0.7777777777777778,\"#fb9f3a\"],[0.8888888888888888,\"#fdca26\"],[1.0,\"#f0f921\"]]}],\"heatmap\":[{\"type\":\"heatmap\",\"colorbar\":{\"outlinewidth\":0,\"ticks\":\"\"},\"colorscale\":[[0.0,\"#0d0887\"],[0.1111111111111111,\"#46039f\"],[0.2222222222222222,\"#7201a8\"],[0.3333333333333333,\"#9c179e\"],[0.4444444444444444,\"#bd3786\"],[0.5555555555555556,\"#d8576b\"],[0.6666666666666666,\"#ed7953\"],[0.7777777777777778,\"#fb9f3a\"],[0.8888888888888888,\"#fdca26\"],[1.0,\"#f0f921\"]]}],\"heatmapgl\":[{\"type\":\"heatmapgl\",\"colorbar\":{\"outlinewidth\":0,\"ticks\":\"\"},\"colorscale\":[[0.0,\"#0d0887\"],[0.1111111111111111,\"#46039f\"],[0.2222222222222222,\"#7201a8\"],[0.3333333333333333,\"#9c179e\"],[0.4444444444444444,\"#bd3786\"],[0.5555555555555556,\"#d8576b\"],[0.6666666666666666,\"#ed7953\"],[0.7777777777777778,\"#fb9f3a\"],[0.8888888888888888,\"#fdca26\"],[1.0,\"#f0f921\"]]}],\"contourcarpet\":[{\"type\":\"contourcarpet\",\"colorbar\":{\"outlinewidth\":0,\"ticks\":\"\"}}],\"contour\":[{\"type\":\"contour\",\"colorbar\":{\"outlinewidth\":0,\"ticks\":\"\"},\"colorscale\":[[0.0,\"#0d0887\"],[0.1111111111111111,\"#46039f\"],[0.2222222222222222,\"#7201a8\"],[0.3333333333333333,\"#9c179e\"],[0.4444444444444444,\"#bd3786\"],[0.5555555555555556,\"#d8576b\"],[0.6666666666666666,\"#ed7953\"],[0.7777777777777778,\"#fb9f3a\"],[0.8888888888888888,\"#fdca26\"],[1.0,\"#f0f921\"]]}],\"surface\":[{\"type\":\"surface\",\"colorbar\":{\"outlinewidth\":0,\"ticks\":\"\"},\"colorscale\":[[0.0,\"#0d0887\"],[0.1111111111111111,\"#46039f\"],[0.2222222222222222,\"#7201a8\"],[0.3333333333333333,\"#9c179e\"],[0.4444444444444444,\"#bd3786\"],[0.5555555555555556,\"#d8576b\"],[0.6666666666666666,\"#ed7953\"],[0.7777777777777778,\"#fb9f3a\"],[0.8888888888888888,\"#fdca26\"],[1.0,\"#f0f921\"]]}],\"mesh3d\":[{\"type\":\"mesh3d\",\"colorbar\":{\"outlinewidth\":0,\"ticks\":\"\"}}],\"scatter\":[{\"fillpattern\":{\"fillmode\":\"overlay\",\"size\":10,\"solidity\":0.2},\"type\":\"scatter\"}],\"parcoords\":[{\"type\":\"parcoords\",\"line\":{\"colorbar\":{\"outlinewidth\":0,\"ticks\":\"\"}}}],\"scatterpolargl\":[{\"type\":\"scatterpolargl\",\"marker\":{\"colorbar\":{\"outlinewidth\":0,\"ticks\":\"\"}}}],\"bar\":[{\"error_x\":{\"color\":\"#2a3f5f\"},\"error_y\":{\"color\":\"#2a3f5f\"},\"marker\":{\"line\":{\"color\":\"#E5ECF6\",\"width\":0.5},\"pattern\":{\"fillmode\":\"overlay\",\"size\":10,\"solidity\":0.2}},\"type\":\"bar\"}],\"scattergeo\":[{\"type\":\"scattergeo\",\"marker\":{\"colorbar\":{\"outlinewidth\":0,\"ticks\":\"\"}}}],\"scatterpolar\":[{\"type\":\"scatterpolar\",\"marker\":{\"colorbar\":{\"outlinewidth\":0,\"ticks\":\"\"}}}],\"histogram\":[{\"marker\":{\"pattern\":{\"fillmode\":\"overlay\",\"size\":10,\"solidity\":0.2}},\"type\":\"histogram\"}],\"scattergl\":[{\"type\":\"scattergl\",\"marker\":{\"colorbar\":{\"outlinewidth\":0,\"ticks\":\"\"}}}],\"scatter3d\":[{\"type\":\"scatter3d\",\"line\":{\"colorbar\":{\"outlinewidth\":0,\"ticks\":\"\"}},\"marker\":{\"colorbar\":{\"outlinewidth\":0,\"ticks\":\"\"}}}],\"scattermapbox\":[{\"type\":\"scattermapbox\",\"marker\":{\"colorbar\":{\"outlinewidth\":0,\"ticks\":\"\"}}}],\"scatterternary\":[{\"type\":\"scatterternary\",\"marker\":{\"colorbar\":{\"outlinewidth\":0,\"ticks\":\"\"}}}],\"scattercarpet\":[{\"type\":\"scattercarpet\",\"marker\":{\"colorbar\":{\"outlinewidth\":0,\"ticks\":\"\"}}}],\"carpet\":[{\"aaxis\":{\"endlinecolor\":\"#2a3f5f\",\"gridcolor\":\"white\",\"linecolor\":\"white\",\"minorgridcolor\":\"white\",\"startlinecolor\":\"#2a3f5f\"},\"baxis\":{\"endlinecolor\":\"#2a3f5f\",\"gridcolor\":\"white\",\"linecolor\":\"white\",\"minorgridcolor\":\"white\",\"startlinecolor\":\"#2a3f5f\"},\"type\":\"carpet\"}],\"table\":[{\"cells\":{\"fill\":{\"color\":\"#EBF0F8\"},\"line\":{\"color\":\"white\"}},\"header\":{\"fill\":{\"color\":\"#C8D4E3\"},\"line\":{\"color\":\"white\"}},\"type\":\"table\"}],\"barpolar\":[{\"marker\":{\"line\":{\"color\":\"#E5ECF6\",\"width\":0.5},\"pattern\":{\"fillmode\":\"overlay\",\"size\":10,\"solidity\":0.2}},\"type\":\"barpolar\"}],\"pie\":[{\"automargin\":true,\"type\":\"pie\"}]},\"layout\":{\"autotypenumbers\":\"strict\",\"colorway\":[\"#636efa\",\"#EF553B\",\"#00cc96\",\"#ab63fa\",\"#FFA15A\",\"#19d3f3\",\"#FF6692\",\"#B6E880\",\"#FF97FF\",\"#FECB52\"],\"font\":{\"color\":\"#2a3f5f\"},\"hovermode\":\"closest\",\"hoverlabel\":{\"align\":\"left\"},\"paper_bgcolor\":\"white\",\"plot_bgcolor\":\"#E5ECF6\",\"polar\":{\"bgcolor\":\"#E5ECF6\",\"angularaxis\":{\"gridcolor\":\"white\",\"linecolor\":\"white\",\"ticks\":\"\"},\"radialaxis\":{\"gridcolor\":\"white\",\"linecolor\":\"white\",\"ticks\":\"\"}},\"ternary\":{\"bgcolor\":\"#E5ECF6\",\"aaxis\":{\"gridcolor\":\"white\",\"linecolor\":\"white\",\"ticks\":\"\"},\"baxis\":{\"gridcolor\":\"white\",\"linecolor\":\"white\",\"ticks\":\"\"},\"caxis\":{\"gridcolor\":\"white\",\"linecolor\":\"white\",\"ticks\":\"\"}},\"coloraxis\":{\"colorbar\":{\"outlinewidth\":0,\"ticks\":\"\"}},\"colorscale\":{\"sequential\":[[0.0,\"#0d0887\"],[0.1111111111111111,\"#46039f\"],[0.2222222222222222,\"#7201a8\"],[0.3333333333333333,\"#9c179e\"],[0.4444444444444444,\"#bd3786\"],[0.5555555555555556,\"#d8576b\"],[0.6666666666666666,\"#ed7953\"],[0.7777777777777778,\"#fb9f3a\"],[0.8888888888888888,\"#fdca26\"],[1.0,\"#f0f921\"]],\"sequentialminus\":[[0.0,\"#0d0887\"],[0.1111111111111111,\"#46039f\"],[0.2222222222222222,\"#7201a8\"],[0.3333333333333333,\"#9c179e\"],[0.4444444444444444,\"#bd3786\"],[0.5555555555555556,\"#d8576b\"],[0.6666666666666666,\"#ed7953\"],[0.7777777777777778,\"#fb9f3a\"],[0.8888888888888888,\"#fdca26\"],[1.0,\"#f0f921\"]],\"diverging\":[[0,\"#8e0152\"],[0.1,\"#c51b7d\"],[0.2,\"#de77ae\"],[0.3,\"#f1b6da\"],[0.4,\"#fde0ef\"],[0.5,\"#f7f7f7\"],[0.6,\"#e6f5d0\"],[0.7,\"#b8e186\"],[0.8,\"#7fbc41\"],[0.9,\"#4d9221\"],[1,\"#276419\"]]},\"xaxis\":{\"gridcolor\":\"white\",\"linecolor\":\"white\",\"ticks\":\"\",\"title\":{\"standoff\":15},\"zerolinecolor\":\"white\",\"automargin\":true,\"zerolinewidth\":2},\"yaxis\":{\"gridcolor\":\"white\",\"linecolor\":\"white\",\"ticks\":\"\",\"title\":{\"standoff\":15},\"zerolinecolor\":\"white\",\"automargin\":true,\"zerolinewidth\":2},\"scene\":{\"xaxis\":{\"backgroundcolor\":\"#E5ECF6\",\"gridcolor\":\"white\",\"linecolor\":\"white\",\"showbackground\":true,\"ticks\":\"\",\"zerolinecolor\":\"white\",\"gridwidth\":2},\"yaxis\":{\"backgroundcolor\":\"#E5ECF6\",\"gridcolor\":\"white\",\"linecolor\":\"white\",\"showbackground\":true,\"ticks\":\"\",\"zerolinecolor\":\"white\",\"gridwidth\":2},\"zaxis\":{\"backgroundcolor\":\"#E5ECF6\",\"gridcolor\":\"white\",\"linecolor\":\"white\",\"showbackground\":true,\"ticks\":\"\",\"zerolinecolor\":\"white\",\"gridwidth\":2}},\"shapedefaults\":{\"line\":{\"color\":\"#2a3f5f\"}},\"annotationdefaults\":{\"arrowcolor\":\"#2a3f5f\",\"arrowhead\":0,\"arrowwidth\":1},\"geo\":{\"bgcolor\":\"white\",\"landcolor\":\"#E5ECF6\",\"subunitcolor\":\"white\",\"showland\":true,\"showlakes\":true,\"lakecolor\":\"white\"},\"title\":{\"x\":0.05},\"mapbox\":{\"style\":\"light\"}}},\"xaxis\":{\"anchor\":\"y\",\"domain\":[0.0,1.0],\"title\":{\"text\":\"data_type\"}},\"yaxis\":{\"anchor\":\"x\",\"domain\":[0.0,1.0],\"title\":{\"text\":\"value\"}},\"legend\":{\"title\":{\"text\":\"variable\"},\"tracegroupgap\":0},\"title\":{\"text\":\"Half Hourly Data QC Distributions\"},\"barmode\":\"stack\"},                        {\"responsive\": true}                    ).then(function(){\n",
       "                            \n",
       "var gd = document.getElementById('aa79e533-d935-4c09-8299-12037c083385');\n",
       "var x = new MutationObserver(function (mutations, observer) {{\n",
       "        var display = window.getComputedStyle(gd).display;\n",
       "        if (!display || display === 'none') {{\n",
       "            console.log([gd, 'removed!']);\n",
       "            Plotly.purge(gd);\n",
       "            observer.disconnect();\n",
       "        }}\n",
       "}});\n",
       "\n",
       "// Listen for the removal of the full notebook cells\n",
       "var notebookContainer = gd.closest('#notebook-container');\n",
       "if (notebookContainer) {{\n",
       "    x.observe(notebookContainer, {childList: true});\n",
       "}}\n",
       "\n",
       "// Listen for the clearing of the current output cell\n",
       "var outputEl = gd.closest('.output');\n",
       "if (outputEl) {{\n",
       "    x.observe(outputEl, {childList: true});\n",
       "}}\n",
       "\n",
       "                        })                };                });            </script>        </div>"
      ]
     },
     "metadata": {},
     "output_type": "display_data"
    }
   ],
   "source": [
    "fig = px.bar(qc_df, \n",
    "             x=\"data_type\", y=[\"0\",\"1\",\"2\",\"3\"],\n",
    "             barmode=\"stack\",\n",
    "             title=f'Half Hourly Data QC Distributions')\n",
    "fig.show()"
   ]
  }
 ],
 "metadata": {
  "kernelspec": {
   "display_name": "Python 3",
   "language": "python",
   "name": "python3"
  },
  "language_info": {
   "codemirror_mode": {
    "name": "ipython",
    "version": 3
   },
   "file_extension": ".py",
   "mimetype": "text/x-python",
   "name": "python",
   "nbconvert_exporter": "python",
   "pygments_lexer": "ipython3",
   "version": "3.8.8"
  }
 },
 "nbformat": 4,
 "nbformat_minor": 5
}
