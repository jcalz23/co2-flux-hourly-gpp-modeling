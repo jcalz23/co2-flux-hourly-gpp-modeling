{
 "cells": [
  {
   "cell_type": "code",
   "execution_count": 1,
   "id": "6072a929",
   "metadata": {
    "scrolled": true
   },
   "outputs": [],
   "source": [
    "from calendar import monthrange\n",
    "from datetime import datetime\n",
    "from datetime import timedelta\n",
    "import pandas as pd\n",
    "from pandas.api.types import CategoricalDtype\n",
    "import os\n",
    "import json\n",
    "\n",
    "import matplotlib.pyplot as plt\n",
    "import plotly.express as px\n",
    "import plotly.graph_objects as go\n",
    "\n",
    "# Load locale custome modules\n",
    "import sys\n",
    "sys.path.append(os.path.abspath(\"../../tools\"))\n",
    "from edahelpers import *\n",
    "\n",
    "pd.set_option('display.max_rows', 500)\n",
    "pd.set_option('display.max_columns', None)"
   ]
  },
  {
   "cell_type": "code",
   "execution_count": 2,
   "id": "3ab73bca",
   "metadata": {
    "scrolled": true
   },
   "outputs": [],
   "source": [
    "root_dir =  os.path.abspath(os.getcwd()+\"..\\\\..\\\\..\\\\..\\\\..\\\\\")\n",
    "tmp_dir = root_dir + \"\\\\.tmp\"\n",
    "data_dir = root_dir + \"\\\\data\\\\\"\n",
    "\n",
    "site_metadata_filename = data_dir + \"site-metadata.csv\""
   ]
  },
  {
   "cell_type": "code",
   "execution_count": 3,
   "id": "6e5160f8",
   "metadata": {
    "scrolled": true
   },
   "outputs": [
    {
     "data": {
      "text/plain": [
       "['US-MMS',\n",
       " 'US-Vcp',\n",
       " 'FR-Pue',\n",
       " 'CH-Lae',\n",
       " 'US-Var',\n",
       " 'US-Ne2',\n",
       " 'ES-LJu',\n",
       " 'US-Ton',\n",
       " 'US-UMB',\n",
       " 'US-Me2',\n",
       " 'FI-Hyy',\n",
       " 'US-NR1',\n",
       " 'IT-Lav',\n",
       " 'US-Wkg',\n",
       " 'US-ARM',\n",
       " 'US-SRM']"
      ]
     },
     "execution_count": 3,
     "metadata": {},
     "output_type": "execute_result"
    }
   ],
   "source": [
    "# \"Golden\" Sites\n",
    "tier1_sites = [\"US-MMS\", \"US-Vcp\", \"FR-Pue\", \"CH-Lae\", \"US-Var\", \"US-Ne2\", \"ES-LJu\", \"US-Ton\"]\n",
    "tier2_sites = [\"US-UMB\", \"US-Me2\", \"FI-Hyy\", \"US-NR1\", \"IT-Lav\", \"US-Wkg\", \"US-ARM\", \"US-SRM\"]\n",
    "\n",
    "target_sites = tier1_sites + tier2_sites\n",
    "target_sites"
   ]
  },
  {
   "cell_type": "code",
   "execution_count": 4,
   "id": "d9a85c33",
   "metadata": {
    "scrolled": true
   },
   "outputs": [
    {
     "name": "stdout",
     "output_type": "stream",
     "text": [
      "size:(16, 2)\n"
     ]
    },
    {
     "data": {
      "text/html": [
       "<div>\n",
       "<style scoped>\n",
       "    .dataframe tbody tr th:only-of-type {\n",
       "        vertical-align: middle;\n",
       "    }\n",
       "\n",
       "    .dataframe tbody tr th {\n",
       "        vertical-align: top;\n",
       "    }\n",
       "\n",
       "    .dataframe thead th {\n",
       "        text-align: right;\n",
       "    }\n",
       "</style>\n",
       "<table border=\"1\" class=\"dataframe\">\n",
       "  <thead>\n",
       "    <tr style=\"text-align: right;\">\n",
       "      <th></th>\n",
       "      <th>site_id</th>\n",
       "      <th>filename</th>\n",
       "    </tr>\n",
       "  </thead>\n",
       "  <tbody>\n",
       "    <tr>\n",
       "      <th>67</th>\n",
       "      <td>FR-Pue</td>\n",
       "      <td>data_full_half_hourly_raw_v0_1_FR-Pue.csv</td>\n",
       "    </tr>\n",
       "    <tr>\n",
       "      <th>117</th>\n",
       "      <td>US-NR1</td>\n",
       "      <td>data_full_half_hourly_raw_v0_1_US-NR1.csv</td>\n",
       "    </tr>\n",
       "    <tr>\n",
       "      <th>119</th>\n",
       "      <td>US-Ne2</td>\n",
       "      <td>NaN</td>\n",
       "    </tr>\n",
       "    <tr>\n",
       "      <th>124</th>\n",
       "      <td>US-SRM</td>\n",
       "      <td>data_full_half_hourly_raw_v0_1_US-SRM.csv</td>\n",
       "    </tr>\n",
       "    <tr>\n",
       "      <th>127</th>\n",
       "      <td>US-Ton</td>\n",
       "      <td>data_full_half_hourly_raw_v0_1_US-Ton.csv</td>\n",
       "    </tr>\n",
       "    <tr>\n",
       "      <th>130</th>\n",
       "      <td>US-Var</td>\n",
       "      <td>data_full_half_hourly_raw_v0_1_US-Var.csv</td>\n",
       "    </tr>\n",
       "    <tr>\n",
       "      <th>144</th>\n",
       "      <td>US-Wkg</td>\n",
       "      <td>data_full_half_hourly_raw_v0_1_US-Wkg.csv</td>\n",
       "    </tr>\n",
       "    <tr>\n",
       "      <th>166</th>\n",
       "      <td>US-ARM</td>\n",
       "      <td>data_full_half_hourly_raw_v0_1_US-ARM.csv</td>\n",
       "    </tr>\n",
       "    <tr>\n",
       "      <th>181</th>\n",
       "      <td>US-MMS</td>\n",
       "      <td>NaN</td>\n",
       "    </tr>\n",
       "    <tr>\n",
       "      <th>182</th>\n",
       "      <td>US-Me2</td>\n",
       "      <td>data_full_half_hourly_raw_v0_1_US-Me2.csv</td>\n",
       "    </tr>\n",
       "    <tr>\n",
       "      <th>202</th>\n",
       "      <td>US-UMB</td>\n",
       "      <td>data_full_half_hourly_raw_v0_1_US-UMB.csv</td>\n",
       "    </tr>\n",
       "    <tr>\n",
       "      <th>206</th>\n",
       "      <td>US-Vcp</td>\n",
       "      <td>data_full_half_hourly_raw_v0_1_US-Vcp.csv</td>\n",
       "    </tr>\n",
       "    <tr>\n",
       "      <th>219</th>\n",
       "      <td>CH-Lae</td>\n",
       "      <td>data_full_half_hourly_raw_v0_1_CH-Lae.csv</td>\n",
       "    </tr>\n",
       "    <tr>\n",
       "      <th>244</th>\n",
       "      <td>ES-LJu</td>\n",
       "      <td>data_full_half_hourly_raw_v0_1_ES-LJu.csv</td>\n",
       "    </tr>\n",
       "    <tr>\n",
       "      <th>247</th>\n",
       "      <td>FI-Hyy</td>\n",
       "      <td>data_full_half_hourly_raw_v0_1_FI-Hyy.csv</td>\n",
       "    </tr>\n",
       "    <tr>\n",
       "      <th>269</th>\n",
       "      <td>IT-Lav</td>\n",
       "      <td>data_full_half_hourly_raw_v0_1_IT-Lav.csv</td>\n",
       "    </tr>\n",
       "  </tbody>\n",
       "</table>\n",
       "</div>"
      ],
      "text/plain": [
       "    site_id                                   filename\n",
       "67   FR-Pue  data_full_half_hourly_raw_v0_1_FR-Pue.csv\n",
       "117  US-NR1  data_full_half_hourly_raw_v0_1_US-NR1.csv\n",
       "119  US-Ne2                                        NaN\n",
       "124  US-SRM  data_full_half_hourly_raw_v0_1_US-SRM.csv\n",
       "127  US-Ton  data_full_half_hourly_raw_v0_1_US-Ton.csv\n",
       "130  US-Var  data_full_half_hourly_raw_v0_1_US-Var.csv\n",
       "144  US-Wkg  data_full_half_hourly_raw_v0_1_US-Wkg.csv\n",
       "166  US-ARM  data_full_half_hourly_raw_v0_1_US-ARM.csv\n",
       "181  US-MMS                                        NaN\n",
       "182  US-Me2  data_full_half_hourly_raw_v0_1_US-Me2.csv\n",
       "202  US-UMB  data_full_half_hourly_raw_v0_1_US-UMB.csv\n",
       "206  US-Vcp  data_full_half_hourly_raw_v0_1_US-Vcp.csv\n",
       "219  CH-Lae  data_full_half_hourly_raw_v0_1_CH-Lae.csv\n",
       "244  ES-LJu  data_full_half_hourly_raw_v0_1_ES-LJu.csv\n",
       "247  FI-Hyy  data_full_half_hourly_raw_v0_1_FI-Hyy.csv\n",
       "269  IT-Lav  data_full_half_hourly_raw_v0_1_IT-Lav.csv"
      ]
     },
     "execution_count": 4,
     "metadata": {},
     "output_type": "execute_result"
    }
   ],
   "source": [
    "# Load Site data\n",
    "site_metadata_df = pd.read_csv(site_metadata_filename, usecols=['site_id','filename'])\n",
    "\n",
    "# only focus on target sites\n",
    "site_metadata_df= site_metadata_df.loc[site_metadata_df['site_id'].isin(target_sites)]\n",
    "print(f\"size:{site_metadata_df.shape}\")\n",
    "site_metadata_df"
   ]
  },
  {
   "cell_type": "code",
   "execution_count": 5,
   "id": "06f6c0e0",
   "metadata": {
    "scrolled": true
   },
   "outputs": [],
   "source": [
    "def get_min_max(df):\n",
    "    return (df.min(), df.max())\n",
    "\n",
    "def get_min_max_datetime(df):\n",
    "    return (pd.to_datetime(df).min(), pd.to_datetime(df).max())\n",
    "\n",
    "def is_leap_year(year):\n",
    "    return year%4 == 0 ;"
   ]
  },
  {
   "cell_type": "markdown",
   "id": "240ac242",
   "metadata": {},
   "source": [
    "# Process a sample file"
   ]
  },
  {
   "cell_type": "code",
   "execution_count": 6,
   "id": "5cbc9f57",
   "metadata": {
    "scrolled": true
   },
   "outputs": [
    {
     "name": "stdout",
     "output_type": "stream",
     "text": [
      "data_full_half_hourly_raw_v0_1_FR-Pue.csv\n"
     ]
    }
   ],
   "source": [
    "r = site_metadata_df[['site_id','filename']].iloc[0]\n",
    "print(r.filename)\n",
    "local_filename = tmp_dir + \"\\\\\" + r.filename"
   ]
  },
  {
   "cell_type": "code",
   "execution_count": 7,
   "id": "f39f2013",
   "metadata": {
    "scrolled": true
   },
   "outputs": [
    {
     "name": "stdout",
     "output_type": "stream",
     "text": [
      "size:(245760, 10)\n"
     ]
    },
    {
     "data": {
      "text/html": [
       "<div>\n",
       "<style scoped>\n",
       "    .dataframe tbody tr th:only-of-type {\n",
       "        vertical-align: middle;\n",
       "    }\n",
       "\n",
       "    .dataframe tbody tr th {\n",
       "        vertical-align: top;\n",
       "    }\n",
       "\n",
       "    .dataframe thead th {\n",
       "        text-align: right;\n",
       "    }\n",
       "</style>\n",
       "<table border=\"1\" class=\"dataframe\">\n",
       "  <thead>\n",
       "    <tr style=\"text-align: right;\">\n",
       "      <th></th>\n",
       "      <th>TIMESTAMP_START</th>\n",
       "      <th>TIMESTAMP_END</th>\n",
       "      <th>GPP_NT_VUT_REF</th>\n",
       "      <th>datetime</th>\n",
       "      <th>year</th>\n",
       "      <th>month</th>\n",
       "      <th>day</th>\n",
       "      <th>hour</th>\n",
       "      <th>SITE_ID</th>\n",
       "      <th>date</th>\n",
       "    </tr>\n",
       "  </thead>\n",
       "  <tbody>\n",
       "    <tr>\n",
       "      <th>0</th>\n",
       "      <td>200007260000</td>\n",
       "      <td>200007260030</td>\n",
       "      <td>0.260122</td>\n",
       "      <td>2000-07-26 00:00:00</td>\n",
       "      <td>2000</td>\n",
       "      <td>7</td>\n",
       "      <td>26</td>\n",
       "      <td>0</td>\n",
       "      <td>FR-Pue</td>\n",
       "      <td>2000-07-26</td>\n",
       "    </tr>\n",
       "    <tr>\n",
       "      <th>1</th>\n",
       "      <td>200007260030</td>\n",
       "      <td>200007260100</td>\n",
       "      <td>0.221846</td>\n",
       "      <td>2000-07-26 00:30:00</td>\n",
       "      <td>2000</td>\n",
       "      <td>7</td>\n",
       "      <td>26</td>\n",
       "      <td>0</td>\n",
       "      <td>FR-Pue</td>\n",
       "      <td>2000-07-26</td>\n",
       "    </tr>\n",
       "    <tr>\n",
       "      <th>2</th>\n",
       "      <td>200007260100</td>\n",
       "      <td>200007260130</td>\n",
       "      <td>0.315191</td>\n",
       "      <td>2000-07-26 01:00:00</td>\n",
       "      <td>2000</td>\n",
       "      <td>7</td>\n",
       "      <td>26</td>\n",
       "      <td>1</td>\n",
       "      <td>FR-Pue</td>\n",
       "      <td>2000-07-26</td>\n",
       "    </tr>\n",
       "    <tr>\n",
       "      <th>3</th>\n",
       "      <td>200007260130</td>\n",
       "      <td>200007260200</td>\n",
       "      <td>-0.813255</td>\n",
       "      <td>2000-07-26 01:30:00</td>\n",
       "      <td>2000</td>\n",
       "      <td>7</td>\n",
       "      <td>26</td>\n",
       "      <td>1</td>\n",
       "      <td>FR-Pue</td>\n",
       "      <td>2000-07-26</td>\n",
       "    </tr>\n",
       "    <tr>\n",
       "      <th>4</th>\n",
       "      <td>200007260200</td>\n",
       "      <td>200007260230</td>\n",
       "      <td>-0.830025</td>\n",
       "      <td>2000-07-26 02:00:00</td>\n",
       "      <td>2000</td>\n",
       "      <td>7</td>\n",
       "      <td>26</td>\n",
       "      <td>2</td>\n",
       "      <td>FR-Pue</td>\n",
       "      <td>2000-07-26</td>\n",
       "    </tr>\n",
       "  </tbody>\n",
       "</table>\n",
       "</div>"
      ],
      "text/plain": [
       "   TIMESTAMP_START  TIMESTAMP_END  GPP_NT_VUT_REF            datetime  year  \\\n",
       "0     200007260000   200007260030        0.260122 2000-07-26 00:00:00  2000   \n",
       "1     200007260030   200007260100        0.221846 2000-07-26 00:30:00  2000   \n",
       "2     200007260100   200007260130        0.315191 2000-07-26 01:00:00  2000   \n",
       "3     200007260130   200007260200       -0.813255 2000-07-26 01:30:00  2000   \n",
       "4     200007260200   200007260230       -0.830025 2000-07-26 02:00:00  2000   \n",
       "\n",
       "   month  day  hour SITE_ID       date  \n",
       "0      7   26     0  FR-Pue 2000-07-26  \n",
       "1      7   26     0  FR-Pue 2000-07-26  \n",
       "2      7   26     1  FR-Pue 2000-07-26  \n",
       "3      7   26     1  FR-Pue 2000-07-26  \n",
       "4      7   26     2  FR-Pue 2000-07-26  "
      ]
     },
     "execution_count": 7,
     "metadata": {},
     "output_type": "execute_result"
    }
   ],
   "source": [
    "features = ['SITE_ID','TIMESTAMP_START', 'TIMESTAMP_END', 'datetime', 'date', 'year', 'month', 'day', 'hour',\"GPP_NT_VUT_REF\"]\n",
    "site_df = pd.read_csv(local_filename, usecols=features)\n",
    "site_df['datetime'] = pd.to_datetime(site_df['datetime'])\n",
    "site_df['date'] = pd.to_datetime(site_df['date'])\n",
    "print(f\"size:{site_df.shape}\")\n",
    "site_df.head()"
   ]
  },
  {
   "cell_type": "code",
   "execution_count": 8,
   "id": "0efb3924",
   "metadata": {
    "scrolled": true
   },
   "outputs": [],
   "source": [
    "# is there NA\n",
    "if site_df.isna().sum().sum() != 0:\n",
    "    print(f'{site_df.SITE_ID.iloc[0]}\\n{site_df.isna().sum()}\\n')"
   ]
  },
  {
   "cell_type": "code",
   "execution_count": 9,
   "id": "b6edd75f",
   "metadata": {
    "scrolled": true
   },
   "outputs": [],
   "source": [
    "def has_full_month_record(year, month, actual_record_count):\n",
    "    if actual_record_count == 0:\n",
    "#         print(f\"  {month:2}: none\")\n",
    "        return False\n",
    "    \n",
    "    expected_days = monthrange(year, month)\n",
    "    expected_record_count = expected_days[1]*48\n",
    "    if(expected_record_count != actual_record_count):\n",
    "#         print(f\"  {month:2}: expected-[{expected_record_count}], actual-[{actual_record_count}]\")\n",
    "        return False\n",
    "    return True\n",
    "\n",
    "def has_full_day_record(year, month, day, actual_record_count):\n",
    "    if actual_record_count == 0:\n",
    "#         print(f\"    {month}/{day}: none\")\n",
    "        return False\n",
    "    \n",
    "    expected_record_count = 48\n",
    "    if(expected_record_count != actual_record_count):\n",
    "        print(f\"    {month}/{day}: expected-[{expected_record_count}], actual-[{actual_record_count}]\")\n",
    "        return False\n",
    "    return True\n",
    "\n",
    "def plot_month_records(site_id, year, month, df):\n",
    "    df.plot.bar(x='datetime', y='GPP_NT_VUT_REF', \n",
    "                    title=f'{site_id}:{year}.{month}',\n",
    "                    figsize= (16,4))"
   ]
  },
  {
   "cell_type": "code",
   "execution_count": 10,
   "id": "d3e7211c",
   "metadata": {
    "scrolled": true
   },
   "outputs": [
    {
     "data": {
      "text/html": [
       "<div>\n",
       "<style scoped>\n",
       "    .dataframe tbody tr th:only-of-type {\n",
       "        vertical-align: middle;\n",
       "    }\n",
       "\n",
       "    .dataframe tbody tr th {\n",
       "        vertical-align: top;\n",
       "    }\n",
       "\n",
       "    .dataframe thead th {\n",
       "        text-align: right;\n",
       "    }\n",
       "</style>\n",
       "<table border=\"1\" class=\"dataframe\">\n",
       "  <thead>\n",
       "    <tr style=\"text-align: right;\">\n",
       "      <th></th>\n",
       "      <th>start</th>\n",
       "      <th>end</th>\n",
       "      <th>site_id</th>\n",
       "    </tr>\n",
       "  </thead>\n",
       "  <tbody>\n",
       "    <tr>\n",
       "      <th>0</th>\n",
       "      <td>2000-09-12</td>\n",
       "      <td>2000-09-23 23:30:00</td>\n",
       "      <td>ES-LJu</td>\n",
       "    </tr>\n",
       "    <tr>\n",
       "      <th>1</th>\n",
       "      <td>2000-11-16</td>\n",
       "      <td>2000-11-28 23:30:00</td>\n",
       "      <td>ES-LJu</td>\n",
       "    </tr>\n",
       "    <tr>\n",
       "      <th>2</th>\n",
       "      <td>2009-08-18</td>\n",
       "      <td>2009-09-01 23:30:00</td>\n",
       "      <td>ES-LJu</td>\n",
       "    </tr>\n",
       "    <tr>\n",
       "      <th>3</th>\n",
       "      <td>2010-06-29</td>\n",
       "      <td>2010-07-08 23:30:00</td>\n",
       "      <td>ES-LJu</td>\n",
       "    </tr>\n",
       "    <tr>\n",
       "      <th>4</th>\n",
       "      <td>2010-12-06</td>\n",
       "      <td>2010-12-18 23:30:00</td>\n",
       "      <td>ES-LJu</td>\n",
       "    </tr>\n",
       "    <tr>\n",
       "      <th>5</th>\n",
       "      <td>2011-08-05</td>\n",
       "      <td>2011-08-31 23:30:00</td>\n",
       "      <td>ES-LJu</td>\n",
       "    </tr>\n",
       "    <tr>\n",
       "      <th>6</th>\n",
       "      <td>2012-01-09</td>\n",
       "      <td>2012-03-10 23:30:00</td>\n",
       "      <td>ES-LJu</td>\n",
       "    </tr>\n",
       "  </tbody>\n",
       "</table>\n",
       "</div>"
      ],
      "text/plain": [
       "       start                 end site_id\n",
       "0 2000-09-12 2000-09-23 23:30:00  ES-LJu\n",
       "1 2000-11-16 2000-11-28 23:30:00  ES-LJu\n",
       "2 2009-08-18 2009-09-01 23:30:00  ES-LJu\n",
       "3 2010-06-29 2010-07-08 23:30:00  ES-LJu\n",
       "4 2010-12-06 2010-12-18 23:30:00  ES-LJu\n",
       "5 2011-08-05 2011-08-31 23:30:00  ES-LJu\n",
       "6 2012-01-09 2012-03-10 23:30:00  ES-LJu"
      ]
     },
     "execution_count": 10,
     "metadata": {},
     "output_type": "execute_result"
    }
   ],
   "source": [
    "FULL_YEAR_DATA_COUNT = 2*24*365 #17520\n",
    "LEAP_YEAR_DATA_COUNT = 2*24*366 #17568\n",
    "\n",
    "def get_gaps(site_id, site_df):\n",
    "    gaps_intervals_df = pd.DataFrame(columns=['start', 'end', 'site_id'])\n",
    "    start_year, end_year = get_min_max(site_df['year'])\n",
    "    gap_start, gap_end = None, None\n",
    "    for y in range(start_year, end_year+1):\n",
    "        year_df = site_df.loc[site_df['year'] == y]\n",
    "\n",
    "        start_date, end_date = get_min_max_datetime(year_df['datetime'])\n",
    "        date_delta = (end_date - start_date)\n",
    "        \n",
    "        if (not start_date.is_leap_year and year_df.shape[0] != FULL_YEAR_DATA_COUNT) or\\\n",
    "           (start_date.is_leap_year and year_df.shape[0] != LEAP_YEAR_DATA_COUNT):\n",
    "            #print(f\"{y}: {year_df.shape[0]} ({start_date.date()}~{end_date.date()} {date_delta}) {'Leap' if start_date.is_leap_year else ''}\")\n",
    "            for m in range(1,13):\n",
    "                if not (y == start_year and m < start_date.month):\n",
    "                    month_df = year_df.loc[year_df['month'] == m]\n",
    "                    if month_df.shape[0] == 0:\n",
    "                        #print(f\"  {m:2}: none\")\n",
    "                        if gap_start == None:\n",
    "                            gap_start = datetime(y, m, 1)\n",
    "                    elif has_full_month_record(y, m, month_df.shape[0]):\n",
    "                        if gap_start != None:\n",
    "                            gap_end = datetime(y, m, 1, 23, 30) - timedelta(days=1)\n",
    "                            gap_data = {'start':gap_start,'end':gap_end,'site_id':site_id}\n",
    "                            gaps_intervals_df=gaps_intervals_df.append(gap_data, ignore_index=True) \n",
    "                            #print(f\"    gap:{gap_start} - {gap_end}\")\n",
    "                            gap_start = None\n",
    "                    else:\n",
    "                        for d in range(1, monthrange(y, m)[1]+1):\n",
    "                            if not (y == start_year and m <= start_date.month and d < start_date.day):\n",
    "                                day_df = month_df.loc[month_df['day'] == d]\n",
    "                                if has_full_day_record(y, m, d, day_df.shape[0]):\n",
    "                                    if gap_start != None:\n",
    "                                        gap_end = day_df['datetime'].max() - timedelta(days=1)\n",
    "                                        gap_data = {'start':gap_start,'end':gap_end,'site_id':site_id}\n",
    "                                        gaps_intervals_df=gaps_intervals_df.append(gap_data, ignore_index=True) \n",
    "                                        #print(f\"    gap:{gap_start} - {gap_end}\")\n",
    "                                        gap_start = None\n",
    "                                elif gap_start == None:\n",
    "                                    gap_start = datetime(y, m, d)\n",
    "        elif gap_start != None:\n",
    "            gap_end = year_df['datetime'].max() - timedelta(days=1)\n",
    "            gap_data = {'start':gap_start,'end':gap_end,'site_id':site_id}\n",
    "            gaps_intervals_df=gaps_intervals_df.append(gap_data, ignore_index=True)\n",
    "            #print(f\"    gap:{gap_start} - {gap_end}\")\n",
    "            gap_start = None\n",
    "            \n",
    "    if gap_start != None:\n",
    "        gap_end = site_df['date'].max()\n",
    "        gap_data = {'start':gap_start,'end':gap_end,'site_id':site_id}\n",
    "        gaps_intervals_df=gaps_intervals_df.append(gap_data, ignore_index=True)\n",
    "        #print(f\"    gap:{gap_start} - {gap_end}\")\n",
    "        gap_start = None\n",
    "    \n",
    "    return gaps_intervals_df\n",
    "\n",
    "get_gaps(\"ES-LJu\", site_df)"
   ]
  },
  {
   "cell_type": "code",
   "execution_count": 71,
   "id": "3149050a",
   "metadata": {},
   "outputs": [
    {
     "data": {
      "text/html": [
       "<div>\n",
       "<style scoped>\n",
       "    .dataframe tbody tr th:only-of-type {\n",
       "        vertical-align: middle;\n",
       "    }\n",
       "\n",
       "    .dataframe tbody tr th {\n",
       "        vertical-align: top;\n",
       "    }\n",
       "\n",
       "    .dataframe thead th {\n",
       "        text-align: right;\n",
       "    }\n",
       "</style>\n",
       "<table border=\"1\" class=\"dataframe\">\n",
       "  <thead>\n",
       "    <tr style=\"text-align: right;\">\n",
       "      <th></th>\n",
       "      <th>start</th>\n",
       "      <th>end</th>\n",
       "      <th>site_id</th>\n",
       "    </tr>\n",
       "  </thead>\n",
       "  <tbody>\n",
       "    <tr>\n",
       "      <th>0</th>\n",
       "      <td>2003-01-01</td>\n",
       "      <td>2005-01-23 23:30:00</td>\n",
       "      <td>FR-Pue</td>\n",
       "    </tr>\n",
       "    <tr>\n",
       "      <th>1</th>\n",
       "      <td>2005-02-05</td>\n",
       "      <td>2011-09-15 23:30:00</td>\n",
       "      <td>FR-Pue</td>\n",
       "    </tr>\n",
       "    <tr>\n",
       "      <th>2</th>\n",
       "      <td>2011-10-04</td>\n",
       "      <td>2011-10-13 23:30:00</td>\n",
       "      <td>FR-Pue</td>\n",
       "    </tr>\n",
       "    <tr>\n",
       "      <th>3</th>\n",
       "      <td>2011-11-17</td>\n",
       "      <td>2012-03-22 23:30:00</td>\n",
       "      <td>FR-Pue</td>\n",
       "    </tr>\n",
       "    <tr>\n",
       "      <th>4</th>\n",
       "      <td>2012-04-02</td>\n",
       "      <td>2012-05-15 23:30:00</td>\n",
       "      <td>FR-Pue</td>\n",
       "    </tr>\n",
       "    <tr>\n",
       "      <th>5</th>\n",
       "      <td>2012-05-29</td>\n",
       "      <td>2012-07-26 23:30:00</td>\n",
       "      <td>FR-Pue</td>\n",
       "    </tr>\n",
       "    <tr>\n",
       "      <th>6</th>\n",
       "      <td>2012-08-22</td>\n",
       "      <td>2012-09-01 23:30:00</td>\n",
       "      <td>FR-Pue</td>\n",
       "    </tr>\n",
       "    <tr>\n",
       "      <th>7</th>\n",
       "      <td>2012-09-14</td>\n",
       "      <td>2012-09-22 23:30:00</td>\n",
       "      <td>FR-Pue</td>\n",
       "    </tr>\n",
       "    <tr>\n",
       "      <th>8</th>\n",
       "      <td>2012-10-05</td>\n",
       "      <td>2012-10-07 23:30:00</td>\n",
       "      <td>FR-Pue</td>\n",
       "    </tr>\n",
       "    <tr>\n",
       "      <th>9</th>\n",
       "      <td>2012-10-19</td>\n",
       "      <td>2012-12-24 23:30:00</td>\n",
       "      <td>FR-Pue</td>\n",
       "    </tr>\n",
       "    <tr>\n",
       "      <th>10</th>\n",
       "      <td>2013-01-04</td>\n",
       "      <td>2014-01-19 23:30:00</td>\n",
       "      <td>FR-Pue</td>\n",
       "    </tr>\n",
       "    <tr>\n",
       "      <th>11</th>\n",
       "      <td>2014-03-09</td>\n",
       "      <td>2014-04-19 23:30:00</td>\n",
       "      <td>FR-Pue</td>\n",
       "    </tr>\n",
       "    <tr>\n",
       "      <th>12</th>\n",
       "      <td>2014-05-02</td>\n",
       "      <td>2014-11-06 23:30:00</td>\n",
       "      <td>FR-Pue</td>\n",
       "    </tr>\n",
       "    <tr>\n",
       "      <th>13</th>\n",
       "      <td>2014-11-17</td>\n",
       "      <td>2014-12-19 23:30:00</td>\n",
       "      <td>FR-Pue</td>\n",
       "    </tr>\n",
       "    <tr>\n",
       "      <th>14</th>\n",
       "      <td>2015-01-03</td>\n",
       "      <td>2015-03-10 23:30:00</td>\n",
       "      <td>FR-Pue</td>\n",
       "    </tr>\n",
       "    <tr>\n",
       "      <th>15</th>\n",
       "      <td>2015-04-12</td>\n",
       "      <td>2015-08-31 23:30:00</td>\n",
       "      <td>FR-Pue</td>\n",
       "    </tr>\n",
       "    <tr>\n",
       "      <th>16</th>\n",
       "      <td>2015-09-15</td>\n",
       "      <td>2017-04-03 23:30:00</td>\n",
       "      <td>FR-Pue</td>\n",
       "    </tr>\n",
       "    <tr>\n",
       "      <th>17</th>\n",
       "      <td>2017-04-24</td>\n",
       "      <td>2018-01-11 23:30:00</td>\n",
       "      <td>FR-Pue</td>\n",
       "    </tr>\n",
       "    <tr>\n",
       "      <th>18</th>\n",
       "      <td>2018-01-25</td>\n",
       "      <td>2018-11-14 23:30:00</td>\n",
       "      <td>FR-Pue</td>\n",
       "    </tr>\n",
       "    <tr>\n",
       "      <th>19</th>\n",
       "      <td>2018-12-12</td>\n",
       "      <td>2019-06-18 23:30:00</td>\n",
       "      <td>FR-Pue</td>\n",
       "    </tr>\n",
       "    <tr>\n",
       "      <th>20</th>\n",
       "      <td>2019-07-11</td>\n",
       "      <td>2020-12-31 23:30:00</td>\n",
       "      <td>FR-Pue</td>\n",
       "    </tr>\n",
       "  </tbody>\n",
       "</table>\n",
       "</div>"
      ],
      "text/plain": [
       "        start                 end site_id\n",
       "0  2003-01-01 2005-01-23 23:30:00  FR-Pue\n",
       "1  2005-02-05 2011-09-15 23:30:00  FR-Pue\n",
       "2  2011-10-04 2011-10-13 23:30:00  FR-Pue\n",
       "3  2011-11-17 2012-03-22 23:30:00  FR-Pue\n",
       "4  2012-04-02 2012-05-15 23:30:00  FR-Pue\n",
       "5  2012-05-29 2012-07-26 23:30:00  FR-Pue\n",
       "6  2012-08-22 2012-09-01 23:30:00  FR-Pue\n",
       "7  2012-09-14 2012-09-22 23:30:00  FR-Pue\n",
       "8  2012-10-05 2012-10-07 23:30:00  FR-Pue\n",
       "9  2012-10-19 2012-12-24 23:30:00  FR-Pue\n",
       "10 2013-01-04 2014-01-19 23:30:00  FR-Pue\n",
       "11 2014-03-09 2014-04-19 23:30:00  FR-Pue\n",
       "12 2014-05-02 2014-11-06 23:30:00  FR-Pue\n",
       "13 2014-11-17 2014-12-19 23:30:00  FR-Pue\n",
       "14 2015-01-03 2015-03-10 23:30:00  FR-Pue\n",
       "15 2015-04-12 2015-08-31 23:30:00  FR-Pue\n",
       "16 2015-09-15 2017-04-03 23:30:00  FR-Pue\n",
       "17 2017-04-24 2018-01-11 23:30:00  FR-Pue\n",
       "18 2018-01-25 2018-11-14 23:30:00  FR-Pue\n",
       "19 2018-12-12 2019-06-18 23:30:00  FR-Pue\n",
       "20 2019-07-11 2020-12-31 23:30:00  FR-Pue"
      ]
     },
     "execution_count": 71,
     "metadata": {},
     "output_type": "execute_result"
    }
   ],
   "source": [
    "def get_intervals(site_id, site_df):\n",
    "    intervals_df = pd.DataFrame(columns=['start', 'end', 'site_id'])\n",
    "    start_year, end_year = get_min_max(site_df['year'])\n",
    "    interval_start, interval_end = None, None\n",
    "    \n",
    "    for y in range(start_year, end_year+1):\n",
    "        year_df = site_df.loc[site_df['year'] == y]\n",
    "        start_date, end_date = get_min_max_datetime(year_df['datetime'])\n",
    "        date_delta = (end_date - start_date)\n",
    "        \n",
    "        if interval_start == None:\n",
    "            interval_start = year_df['datetime'].min()\n",
    "            interval_end = None\n",
    "        \n",
    "        if (not start_date.is_leap_year and year_df.shape[0] != FULL_YEAR_DATA_COUNT) or\\\n",
    "           (start_date.is_leap_year and year_df.shape[0] != LEAP_YEAR_DATA_COUNT):\n",
    "#             print(f\"{y}: {year_df.shape[0]} ({start_date.date()}~{end_date.date()} {date_delta}) {'Leap' if start_date.is_leap_year else ''}\")\n",
    "            \n",
    "            for m in range(1,13):\n",
    "                if not (y == start_year and m < start_date.month):\n",
    "                    month_df = year_df.loc[year_df['month'] == m]\n",
    "                    if not has_full_month_record(y, m, month_df.shape[0]):                           \n",
    "                        for d in range(1, monthrange(y, m)[1]+1):\n",
    "                            if not (y == start_year and m <= start_date.month and d < start_date.day):\n",
    "                                day_df = month_df.loc[month_df['day'] == d]\n",
    "                                if not has_full_day_record(y, m, d, day_df.shape[0]):\n",
    "                                    if interval_start != None:\n",
    "                                        interval_end = datetime(y, m, d, 23, 30, 0) - timedelta(days=1)\n",
    "                                        if interval_end >=  interval_start:\n",
    "                                            interval_data = {'start':interval_start,'end':interval_end,'site_id':site_id}\n",
    "                                            intervals_df = intervals_df.append(interval_data, ignore_index=True)     \n",
    "                                            #print(f\"    int: {interval_start} - {interval_end}\")\n",
    "                                            interval_start = None\n",
    "                                            interval_end = None\n",
    "                                elif interval_start == None:\n",
    "                                    interval_start = datetime(y, m, d, 0, 0, 0)\n",
    "                                    interval_end = None\n",
    "                    elif interval_start == None:\n",
    "                        interval_start = month_df['datetime'].min()\n",
    "                        interval_end = None\n",
    "                    \n",
    "    if interval_start != None:\n",
    "        interval_end = year_df['datetime'].max()\n",
    "        interval_data = {'start':interval_start,'end':interval_end,'site_id':site_id}\n",
    "        intervals_df = intervals_df.append(interval_data, ignore_index=True) \n",
    "#         print(f\"    int: {interval_start} - {interval_end}\")\n",
    "        interval_start = None\n",
    "    return intervals_df\n",
    "\n",
    "get_intervals(\"FR-Pue\", site_df)"
   ]
  },
  {
   "cell_type": "markdown",
   "id": "1bf67c54",
   "metadata": {},
   "source": [
    "# Process all \"golden files\""
   ]
  },
  {
   "cell_type": "code",
   "execution_count": 12,
   "id": "a7e93079",
   "metadata": {
    "scrolled": false
   },
   "outputs": [
    {
     "name": "stdout",
     "output_type": "stream",
     "text": [
      "\n",
      "ERROR: US-Ne2 is mssing hourly data.\n",
      "\n",
      "ERROR: US-MMS is mssing hourly data.\n",
      "\n",
      "US-Me2\n",
      "TIMESTAMP_START        0\n",
      "TIMESTAMP_END          0\n",
      "GPP_NT_VUT_REF     16896\n",
      "datetime               0\n",
      "year                   0\n",
      "month                  0\n",
      "day                    0\n",
      "hour                   0\n",
      "SITE_ID                0\n",
      "date                   0\n",
      "dtype: int64\n",
      "\n",
      "\n",
      "ES-LJu\n",
      "TIMESTAMP_START       0\n",
      "TIMESTAMP_END         0\n",
      "GPP_NT_VUT_REF     8880\n",
      "datetime              0\n",
      "year                  0\n",
      "month                 0\n",
      "day                   0\n",
      "hour                  0\n",
      "SITE_ID               0\n",
      "date                  0\n",
      "dtype: int64\n",
      "\n"
     ]
    }
   ],
   "source": [
    "# Iterate through sites\n",
    "intervals_df = None\n",
    "features = ['SITE_ID','TIMESTAMP_START', 'TIMESTAMP_END', 'datetime', 'date', 'year', 'month', 'day', 'hour', 'GPP_NT_VUT_REF']\n",
    "for i, r in site_metadata_df[['site_id','filename']].iterrows():\n",
    "    if not r.filename or type(r.filename) != type(\"\"):\n",
    "        print(f'\\nERROR: {r.site_id} is mssing hourly data.')\n",
    "        continue\n",
    "\n",
    "    local_filename = tmp_dir + \"\\\\\" + r.filename\n",
    "    site_df = pd.read_csv(local_filename, usecols=features)\n",
    "    site_df['datetime'] = pd.to_datetime(site_df['datetime'])\n",
    "    \n",
    "    if site_df.isna().sum().sum() != 0:\n",
    "        print(f\"\\n{r.site_id}\")\n",
    "        print(f'{site_df.isna().sum()}\\n')\n",
    "        site_df.dropna(inplace=True)\n",
    "    \n",
    "    site_interval_df = get_intervals(r.site_id, site_df)\n",
    "    if type(intervals_df) == type(None):\n",
    "        intervals_df = site_interval_df\n",
    "    else:\n",
    "        intervals_df = pd.concat([intervals_df, site_interval_df])\n",
    "\n",
    "# Save site_data checkpoint\n",
    "intervals_df.to_csv(data_dir + \"gold-site-intervals.csv\");"
   ]
  },
  {
   "cell_type": "code",
   "execution_count": 13,
   "id": "6367a281",
   "metadata": {},
   "outputs": [
    {
     "name": "stdout",
     "output_type": "stream",
     "text": [
      "\n",
      "ERROR: US-Ne2 is mssing hourly data.\n",
      "\n",
      "ERROR: US-MMS is mssing hourly data.\n",
      "\n",
      "US-Me2\n",
      "TIMESTAMP_START        0\n",
      "TIMESTAMP_END          0\n",
      "GPP_NT_VUT_REF     16896\n",
      "datetime               0\n",
      "year                   0\n",
      "month                  0\n",
      "day                    0\n",
      "hour                   0\n",
      "SITE_ID                0\n",
      "date                   0\n",
      "dtype: int64\n",
      "\n",
      "\n",
      "ES-LJu\n",
      "TIMESTAMP_START       0\n",
      "TIMESTAMP_END         0\n",
      "GPP_NT_VUT_REF     8880\n",
      "datetime              0\n",
      "year                  0\n",
      "month                 0\n",
      "day                   0\n",
      "hour                  0\n",
      "SITE_ID               0\n",
      "date                  0\n",
      "dtype: int64\n",
      "\n"
     ]
    }
   ],
   "source": [
    "# Iterate through sites\n",
    "gap_df = None\n",
    "features = ['SITE_ID','TIMESTAMP_START', 'TIMESTAMP_END', 'datetime', 'date', 'year', 'month', 'day', 'hour', 'GPP_NT_VUT_REF']\n",
    "for i, r in site_metadata_df[['site_id','filename']].iterrows():\n",
    "    if not r.filename or type(r.filename) != type(\"\"):\n",
    "        print(f'\\nERROR: {r.site_id} is mssing hourly data.')\n",
    "        continue\n",
    "\n",
    "    local_filename = tmp_dir + \"\\\\\" + r.filename\n",
    "    site_df = pd.read_csv(local_filename, usecols=features)\n",
    "    site_df['datetime'] = pd.to_datetime(site_df['datetime'])\n",
    "    \n",
    "    if site_df.isna().sum().sum() != 0:\n",
    "        print(f\"\\n{r.site_id}\")\n",
    "        print(f'{site_df.isna().sum()}\\n')\n",
    "        site_df.dropna(inplace=True)\n",
    "    \n",
    "    site_gap_df = get_gaps(r.site_id, site_df)\n",
    "    if type(gap_df) == type(None):\n",
    "        gap_df = site_gap_df\n",
    "    else:\n",
    "        gap_df = pd.concat([gap_df, site_gap_df])\n",
    "\n",
    "# Save site_data checkpoint\n",
    "gap_df.to_csv(data_dir + \"gold-site-gap-intervals.csv\");"
   ]
  },
  {
   "cell_type": "markdown",
   "id": "b6cb4cd6",
   "metadata": {},
   "source": [
    "# Plot Gaps"
   ]
  },
  {
   "cell_type": "code",
   "execution_count": 14,
   "id": "8c6e9236",
   "metadata": {},
   "outputs": [],
   "source": [
    "site_metadata_df = pd.read_csv(site_metadata_filename, usecols = ['start_time', 'end_time', 'site_id', 'IGBP'])\n",
    "site_metadata_df['start_time'] = pd.to_datetime(site_metadata_df['start_time'])\n",
    "site_metadata_df['end_time'] = pd.to_datetime(site_metadata_df['end_time'])\n",
    "site_metadata_df= site_metadata_df.loc[site_metadata_df['site_id'].isin(target_sites)]"
   ]
  },
  {
   "cell_type": "code",
   "execution_count": 67,
   "id": "ee66976e",
   "metadata": {},
   "outputs": [
    {
     "data": {
      "application/vnd.plotly.v1+json": {
       "config": {
        "plotlyServerURL": "https://plot.ly"
       },
       "data": [
        {
         "alignmentgroup": "True",
         "base": [
          "2000-07-26T00:00:00"
         ],
         "hovertemplate": "IGBP=Evergreen Broadleaf Forests<br>start_time=%{base}<br>end_time=%{x}<br>site_id=%{y}<extra></extra>",
         "legendgroup": "Evergreen Broadleaf Forests",
         "marker": {
          "color": "#636efa",
          "pattern": {
           "shape": ""
          }
         },
         "name": "Evergreen Broadleaf Forests",
         "offsetgroup": "EBF",
         "orientation": "h",
         "showlegend": true,
         "textposition": "auto",
         "type": "bar",
         "x": [
          455499000000
         ],
         "xaxis": "x",
         "y": [
          "FR-Pue"
         ],
         "yaxis": "y"
        },
        {
         "alignmentgroup": "True",
         "base": [
          "1999-05-02T00:00:00",
          "2002-01-01T00:00:00",
          "2007-01-01T00:00:00",
          "1996-06-18T00:00:00",
          "2003-01-01T00:00:00"
         ],
         "hovertemplate": "IGBP=Evergreen Needleleaf Forests<br>start_time=%{base}<br>end_time=%{x}<br>site_id=%{y}<extra></extra>",
         "legendgroup": "Evergreen Needleleaf Forests",
         "marker": {
          "color": "#EF553B",
          "pattern": {
           "shape": ""
          }
         },
         "name": "Evergreen Needleleaf Forests",
         "offsetgroup": "ENF",
         "orientation": "h",
         "showlegend": true,
         "textposition": "auto",
         "type": "bar",
         "x": [
          494465400000,
          504919800000,
          347153400000,
          774401400000,
          568078200000
         ],
         "xaxis": "x",
         "y": [
          "US-NR1",
          "US-Me2",
          "US-Vcp",
          "FI-Hyy",
          "IT-Lav"
         ],
         "yaxis": "y"
        },
        {
         "alignmentgroup": "True",
         "base": [
          null,
          "2003-01-01T00:00:00"
         ],
         "hovertemplate": "IGBP=Croplands<br>start_time=%{base}<br>end_time=%{x}<br>site_id=%{y}<extra></extra>",
         "legendgroup": "Croplands",
         "marker": {
          "color": "#00cc96",
          "pattern": {
           "shape": ""
          }
         },
         "name": "Croplands",
         "offsetgroup": "CRO",
         "orientation": "h",
         "showlegend": true,
         "textposition": "auto",
         "type": "bar",
         "x": [
          null,
          504919800000
         ],
         "xaxis": "x",
         "y": [
          "US-Ne2",
          "US-ARM"
         ],
         "yaxis": "y"
        },
        {
         "alignmentgroup": "True",
         "base": [
          "2004-01-01T00:00:00",
          "2001-05-24T00:00:00"
         ],
         "hovertemplate": "IGBP=Woody Savannas<br>start_time=%{base}<br>end_time=%{x}<br>site_id=%{y}<extra></extra>",
         "legendgroup": "Woody Savannas",
         "marker": {
          "color": "#ab63fa",
          "pattern": {
           "shape": ""
          }
         },
         "name": "Woody Savannas",
         "offsetgroup": "WSA",
         "orientation": "h",
         "showlegend": true,
         "textposition": "auto",
         "type": "bar",
         "x": [
          347153400000,
          429406200000
         ],
         "xaxis": "x",
         "y": [
          "US-SRM",
          "US-Ton"
         ],
         "yaxis": "y"
        },
        {
         "alignmentgroup": "True",
         "base": [
          "2000-11-01T00:00:00",
          "2004-05-07T00:00:00"
         ],
         "hovertemplate": "IGBP=Grasslands<br>start_time=%{base}<br>end_time=%{x}<br>site_id=%{y}<extra></extra>",
         "legendgroup": "Grasslands",
         "marker": {
          "color": "#FFA15A",
          "pattern": {
           "shape": ""
          }
         },
         "name": "Grasslands",
         "offsetgroup": "GRA",
         "orientation": "h",
         "showlegend": true,
         "textposition": "auto",
         "type": "bar",
         "x": [
          447031800000,
          336180600000
         ],
         "xaxis": "x",
         "y": [
          "US-Var",
          "US-Wkg"
         ],
         "yaxis": "y"
        },
        {
         "alignmentgroup": "True",
         "base": [
          null,
          "2007-01-01T00:00:00"
         ],
         "hovertemplate": "IGBP=Deciduous Needleleaf Forests<br>start_time=%{base}<br>end_time=%{x}<br>site_id=%{y}<extra></extra>",
         "legendgroup": "Deciduous Needleleaf Forests",
         "marker": {
          "color": "#19d3f3",
          "pattern": {
           "shape": ""
          }
         },
         "name": "Deciduous Needleleaf Forests",
         "offsetgroup": "DBF",
         "orientation": "h",
         "showlegend": true,
         "textposition": "auto",
         "type": "bar",
         "x": [
          null,
          347153400000
         ],
         "xaxis": "x",
         "y": [
          "US-MMS",
          "US-UMB"
         ],
         "yaxis": "y"
        },
        {
         "alignmentgroup": "True",
         "base": [
          "2004-04-09T00:00:00"
         ],
         "hovertemplate": "IGBP=Mixed Forests<br>start_time=%{base}<br>end_time=%{x}<br>site_id=%{y}<extra></extra>",
         "legendgroup": "Mixed Forests",
         "marker": {
          "color": "#FF6692",
          "pattern": {
           "shape": ""
          }
         },
         "name": "Mixed Forests",
         "offsetgroup": "MF",
         "orientation": "h",
         "showlegend": true,
         "textposition": "auto",
         "type": "bar",
         "x": [
          526779000000
         ],
         "xaxis": "x",
         "y": [
          "CH-Lae"
         ],
         "yaxis": "y"
        },
        {
         "alignmentgroup": "True",
         "base": [
          "2004-05-26T00:00:00"
         ],
         "hovertemplate": "IGBP=Open Shrublands<br>start_time=%{base}<br>end_time=%{x}<br>site_id=%{y}<extra></extra>",
         "legendgroup": "Open Shrublands",
         "marker": {
          "color": "#B6E880",
          "pattern": {
           "shape": ""
          }
         },
         "name": "Open Shrublands",
         "offsetgroup": "OSH",
         "orientation": "h",
         "showlegend": true,
         "textposition": "auto",
         "type": "bar",
         "x": [
          523927800000
         ],
         "xaxis": "x",
         "y": [
          "ES-LJu"
         ],
         "yaxis": "y"
        }
       ],
       "layout": {
        "barmode": "overlay",
        "height": 500,
        "legend": {
         "title": {
          "text": "IGBP"
         },
         "tracegroupgap": 0
        },
        "margin": {
         "t": 60
        },
        "template": {
         "data": {
          "bar": [
           {
            "error_x": {
             "color": "#2a3f5f"
            },
            "error_y": {
             "color": "#2a3f5f"
            },
            "marker": {
             "line": {
              "color": "white",
              "width": 0.5
             },
             "pattern": {
              "fillmode": "overlay",
              "size": 10,
              "solidity": 0.2
             }
            },
            "type": "bar"
           }
          ],
          "barpolar": [
           {
            "marker": {
             "line": {
              "color": "white",
              "width": 0.5
             },
             "pattern": {
              "fillmode": "overlay",
              "size": 10,
              "solidity": 0.2
             }
            },
            "type": "barpolar"
           }
          ],
          "carpet": [
           {
            "aaxis": {
             "endlinecolor": "#2a3f5f",
             "gridcolor": "#C8D4E3",
             "linecolor": "#C8D4E3",
             "minorgridcolor": "#C8D4E3",
             "startlinecolor": "#2a3f5f"
            },
            "baxis": {
             "endlinecolor": "#2a3f5f",
             "gridcolor": "#C8D4E3",
             "linecolor": "#C8D4E3",
             "minorgridcolor": "#C8D4E3",
             "startlinecolor": "#2a3f5f"
            },
            "type": "carpet"
           }
          ],
          "choropleth": [
           {
            "colorbar": {
             "outlinewidth": 0,
             "ticks": ""
            },
            "type": "choropleth"
           }
          ],
          "contour": [
           {
            "colorbar": {
             "outlinewidth": 0,
             "ticks": ""
            },
            "colorscale": [
             [
              0,
              "#0d0887"
             ],
             [
              0.1111111111111111,
              "#46039f"
             ],
             [
              0.2222222222222222,
              "#7201a8"
             ],
             [
              0.3333333333333333,
              "#9c179e"
             ],
             [
              0.4444444444444444,
              "#bd3786"
             ],
             [
              0.5555555555555556,
              "#d8576b"
             ],
             [
              0.6666666666666666,
              "#ed7953"
             ],
             [
              0.7777777777777778,
              "#fb9f3a"
             ],
             [
              0.8888888888888888,
              "#fdca26"
             ],
             [
              1,
              "#f0f921"
             ]
            ],
            "type": "contour"
           }
          ],
          "contourcarpet": [
           {
            "colorbar": {
             "outlinewidth": 0,
             "ticks": ""
            },
            "type": "contourcarpet"
           }
          ],
          "heatmap": [
           {
            "colorbar": {
             "outlinewidth": 0,
             "ticks": ""
            },
            "colorscale": [
             [
              0,
              "#0d0887"
             ],
             [
              0.1111111111111111,
              "#46039f"
             ],
             [
              0.2222222222222222,
              "#7201a8"
             ],
             [
              0.3333333333333333,
              "#9c179e"
             ],
             [
              0.4444444444444444,
              "#bd3786"
             ],
             [
              0.5555555555555556,
              "#d8576b"
             ],
             [
              0.6666666666666666,
              "#ed7953"
             ],
             [
              0.7777777777777778,
              "#fb9f3a"
             ],
             [
              0.8888888888888888,
              "#fdca26"
             ],
             [
              1,
              "#f0f921"
             ]
            ],
            "type": "heatmap"
           }
          ],
          "heatmapgl": [
           {
            "colorbar": {
             "outlinewidth": 0,
             "ticks": ""
            },
            "colorscale": [
             [
              0,
              "#0d0887"
             ],
             [
              0.1111111111111111,
              "#46039f"
             ],
             [
              0.2222222222222222,
              "#7201a8"
             ],
             [
              0.3333333333333333,
              "#9c179e"
             ],
             [
              0.4444444444444444,
              "#bd3786"
             ],
             [
              0.5555555555555556,
              "#d8576b"
             ],
             [
              0.6666666666666666,
              "#ed7953"
             ],
             [
              0.7777777777777778,
              "#fb9f3a"
             ],
             [
              0.8888888888888888,
              "#fdca26"
             ],
             [
              1,
              "#f0f921"
             ]
            ],
            "type": "heatmapgl"
           }
          ],
          "histogram": [
           {
            "marker": {
             "pattern": {
              "fillmode": "overlay",
              "size": 10,
              "solidity": 0.2
             }
            },
            "type": "histogram"
           }
          ],
          "histogram2d": [
           {
            "colorbar": {
             "outlinewidth": 0,
             "ticks": ""
            },
            "colorscale": [
             [
              0,
              "#0d0887"
             ],
             [
              0.1111111111111111,
              "#46039f"
             ],
             [
              0.2222222222222222,
              "#7201a8"
             ],
             [
              0.3333333333333333,
              "#9c179e"
             ],
             [
              0.4444444444444444,
              "#bd3786"
             ],
             [
              0.5555555555555556,
              "#d8576b"
             ],
             [
              0.6666666666666666,
              "#ed7953"
             ],
             [
              0.7777777777777778,
              "#fb9f3a"
             ],
             [
              0.8888888888888888,
              "#fdca26"
             ],
             [
              1,
              "#f0f921"
             ]
            ],
            "type": "histogram2d"
           }
          ],
          "histogram2dcontour": [
           {
            "colorbar": {
             "outlinewidth": 0,
             "ticks": ""
            },
            "colorscale": [
             [
              0,
              "#0d0887"
             ],
             [
              0.1111111111111111,
              "#46039f"
             ],
             [
              0.2222222222222222,
              "#7201a8"
             ],
             [
              0.3333333333333333,
              "#9c179e"
             ],
             [
              0.4444444444444444,
              "#bd3786"
             ],
             [
              0.5555555555555556,
              "#d8576b"
             ],
             [
              0.6666666666666666,
              "#ed7953"
             ],
             [
              0.7777777777777778,
              "#fb9f3a"
             ],
             [
              0.8888888888888888,
              "#fdca26"
             ],
             [
              1,
              "#f0f921"
             ]
            ],
            "type": "histogram2dcontour"
           }
          ],
          "mesh3d": [
           {
            "colorbar": {
             "outlinewidth": 0,
             "ticks": ""
            },
            "type": "mesh3d"
           }
          ],
          "parcoords": [
           {
            "line": {
             "colorbar": {
              "outlinewidth": 0,
              "ticks": ""
             }
            },
            "type": "parcoords"
           }
          ],
          "pie": [
           {
            "automargin": true,
            "type": "pie"
           }
          ],
          "scatter": [
           {
            "fillpattern": {
             "fillmode": "overlay",
             "size": 10,
             "solidity": 0.2
            },
            "type": "scatter"
           }
          ],
          "scatter3d": [
           {
            "line": {
             "colorbar": {
              "outlinewidth": 0,
              "ticks": ""
             }
            },
            "marker": {
             "colorbar": {
              "outlinewidth": 0,
              "ticks": ""
             }
            },
            "type": "scatter3d"
           }
          ],
          "scattercarpet": [
           {
            "marker": {
             "colorbar": {
              "outlinewidth": 0,
              "ticks": ""
             }
            },
            "type": "scattercarpet"
           }
          ],
          "scattergeo": [
           {
            "marker": {
             "colorbar": {
              "outlinewidth": 0,
              "ticks": ""
             }
            },
            "type": "scattergeo"
           }
          ],
          "scattergl": [
           {
            "marker": {
             "colorbar": {
              "outlinewidth": 0,
              "ticks": ""
             }
            },
            "type": "scattergl"
           }
          ],
          "scattermapbox": [
           {
            "marker": {
             "colorbar": {
              "outlinewidth": 0,
              "ticks": ""
             }
            },
            "type": "scattermapbox"
           }
          ],
          "scatterpolar": [
           {
            "marker": {
             "colorbar": {
              "outlinewidth": 0,
              "ticks": ""
             }
            },
            "type": "scatterpolar"
           }
          ],
          "scatterpolargl": [
           {
            "marker": {
             "colorbar": {
              "outlinewidth": 0,
              "ticks": ""
             }
            },
            "type": "scatterpolargl"
           }
          ],
          "scatterternary": [
           {
            "marker": {
             "colorbar": {
              "outlinewidth": 0,
              "ticks": ""
             }
            },
            "type": "scatterternary"
           }
          ],
          "surface": [
           {
            "colorbar": {
             "outlinewidth": 0,
             "ticks": ""
            },
            "colorscale": [
             [
              0,
              "#0d0887"
             ],
             [
              0.1111111111111111,
              "#46039f"
             ],
             [
              0.2222222222222222,
              "#7201a8"
             ],
             [
              0.3333333333333333,
              "#9c179e"
             ],
             [
              0.4444444444444444,
              "#bd3786"
             ],
             [
              0.5555555555555556,
              "#d8576b"
             ],
             [
              0.6666666666666666,
              "#ed7953"
             ],
             [
              0.7777777777777778,
              "#fb9f3a"
             ],
             [
              0.8888888888888888,
              "#fdca26"
             ],
             [
              1,
              "#f0f921"
             ]
            ],
            "type": "surface"
           }
          ],
          "table": [
           {
            "cells": {
             "fill": {
              "color": "#EBF0F8"
             },
             "line": {
              "color": "white"
             }
            },
            "header": {
             "fill": {
              "color": "#C8D4E3"
             },
             "line": {
              "color": "white"
             }
            },
            "type": "table"
           }
          ]
         },
         "layout": {
          "annotationdefaults": {
           "arrowcolor": "#2a3f5f",
           "arrowhead": 0,
           "arrowwidth": 1
          },
          "autotypenumbers": "strict",
          "coloraxis": {
           "colorbar": {
            "outlinewidth": 0,
            "ticks": ""
           }
          },
          "colorscale": {
           "diverging": [
            [
             0,
             "#8e0152"
            ],
            [
             0.1,
             "#c51b7d"
            ],
            [
             0.2,
             "#de77ae"
            ],
            [
             0.3,
             "#f1b6da"
            ],
            [
             0.4,
             "#fde0ef"
            ],
            [
             0.5,
             "#f7f7f7"
            ],
            [
             0.6,
             "#e6f5d0"
            ],
            [
             0.7,
             "#b8e186"
            ],
            [
             0.8,
             "#7fbc41"
            ],
            [
             0.9,
             "#4d9221"
            ],
            [
             1,
             "#276419"
            ]
           ],
           "sequential": [
            [
             0,
             "#0d0887"
            ],
            [
             0.1111111111111111,
             "#46039f"
            ],
            [
             0.2222222222222222,
             "#7201a8"
            ],
            [
             0.3333333333333333,
             "#9c179e"
            ],
            [
             0.4444444444444444,
             "#bd3786"
            ],
            [
             0.5555555555555556,
             "#d8576b"
            ],
            [
             0.6666666666666666,
             "#ed7953"
            ],
            [
             0.7777777777777778,
             "#fb9f3a"
            ],
            [
             0.8888888888888888,
             "#fdca26"
            ],
            [
             1,
             "#f0f921"
            ]
           ],
           "sequentialminus": [
            [
             0,
             "#0d0887"
            ],
            [
             0.1111111111111111,
             "#46039f"
            ],
            [
             0.2222222222222222,
             "#7201a8"
            ],
            [
             0.3333333333333333,
             "#9c179e"
            ],
            [
             0.4444444444444444,
             "#bd3786"
            ],
            [
             0.5555555555555556,
             "#d8576b"
            ],
            [
             0.6666666666666666,
             "#ed7953"
            ],
            [
             0.7777777777777778,
             "#fb9f3a"
            ],
            [
             0.8888888888888888,
             "#fdca26"
            ],
            [
             1,
             "#f0f921"
            ]
           ]
          },
          "colorway": [
           "#636efa",
           "#EF553B",
           "#00cc96",
           "#ab63fa",
           "#FFA15A",
           "#19d3f3",
           "#FF6692",
           "#B6E880",
           "#FF97FF",
           "#FECB52"
          ],
          "font": {
           "color": "#2a3f5f"
          },
          "geo": {
           "bgcolor": "white",
           "lakecolor": "white",
           "landcolor": "white",
           "showlakes": true,
           "showland": true,
           "subunitcolor": "#C8D4E3"
          },
          "hoverlabel": {
           "align": "left"
          },
          "hovermode": "closest",
          "mapbox": {
           "style": "light"
          },
          "paper_bgcolor": "white",
          "plot_bgcolor": "white",
          "polar": {
           "angularaxis": {
            "gridcolor": "#EBF0F8",
            "linecolor": "#EBF0F8",
            "ticks": ""
           },
           "bgcolor": "white",
           "radialaxis": {
            "gridcolor": "#EBF0F8",
            "linecolor": "#EBF0F8",
            "ticks": ""
           }
          },
          "scene": {
           "xaxis": {
            "backgroundcolor": "white",
            "gridcolor": "#DFE8F3",
            "gridwidth": 2,
            "linecolor": "#EBF0F8",
            "showbackground": true,
            "ticks": "",
            "zerolinecolor": "#EBF0F8"
           },
           "yaxis": {
            "backgroundcolor": "white",
            "gridcolor": "#DFE8F3",
            "gridwidth": 2,
            "linecolor": "#EBF0F8",
            "showbackground": true,
            "ticks": "",
            "zerolinecolor": "#EBF0F8"
           },
           "zaxis": {
            "backgroundcolor": "white",
            "gridcolor": "#DFE8F3",
            "gridwidth": 2,
            "linecolor": "#EBF0F8",
            "showbackground": true,
            "ticks": "",
            "zerolinecolor": "#EBF0F8"
           }
          },
          "shapedefaults": {
           "line": {
            "color": "#2a3f5f"
           }
          },
          "ternary": {
           "aaxis": {
            "gridcolor": "#DFE8F3",
            "linecolor": "#A2B1C6",
            "ticks": ""
           },
           "baxis": {
            "gridcolor": "#DFE8F3",
            "linecolor": "#A2B1C6",
            "ticks": ""
           },
           "bgcolor": "white",
           "caxis": {
            "gridcolor": "#DFE8F3",
            "linecolor": "#A2B1C6",
            "ticks": ""
           }
          },
          "title": {
           "x": 0.05
          },
          "xaxis": {
           "automargin": true,
           "gridcolor": "#EBF0F8",
           "linecolor": "#EBF0F8",
           "ticks": "",
           "title": {
            "standoff": 15
           },
           "zerolinecolor": "#EBF0F8",
           "zerolinewidth": 2
          },
          "yaxis": {
           "automargin": true,
           "gridcolor": "#EBF0F8",
           "linecolor": "#EBF0F8",
           "ticks": "",
           "title": {
            "standoff": 15
           },
           "zerolinecolor": "#EBF0F8",
           "zerolinewidth": 2
          }
         }
        },
        "title": {
         "text": "Record Timeline per Site",
         "x": 0.5,
         "y": 0.95
        },
        "width": 800,
        "xaxis": {
         "anchor": "y",
         "domain": [
          0,
          1
         ],
         "type": "date"
        },
        "yaxis": {
         "anchor": "x",
         "autorange": "reversed",
         "domain": [
          0,
          1
         ],
         "showticklabels": true,
         "title": {
          "standoff": 0,
          "text": ""
         }
        }
       }
      },
      "text/html": [
       "<div>                            <div id=\"7ce3defb-15ff-499a-af31-0da4cba0620c\" class=\"plotly-graph-div\" style=\"height:500px; width:800px;\"></div>            <script type=\"text/javascript\">                require([\"plotly\"], function(Plotly) {                    window.PLOTLYENV=window.PLOTLYENV || {};                                    if (document.getElementById(\"7ce3defb-15ff-499a-af31-0da4cba0620c\")) {                    Plotly.newPlot(                        \"7ce3defb-15ff-499a-af31-0da4cba0620c\",                        [{\"alignmentgroup\":\"True\",\"base\":[\"2000-07-26T00:00:00\"],\"hovertemplate\":\"IGBP=Evergreen Broadleaf Forests<br>start_time=%{base}<br>end_time=%{x}<br>site_id=%{y}<extra></extra>\",\"legendgroup\":\"Evergreen Broadleaf Forests\",\"marker\":{\"color\":\"#636efa\",\"pattern\":{\"shape\":\"\"}},\"name\":\"Evergreen Broadleaf Forests\",\"offsetgroup\":\"EBF\",\"orientation\":\"h\",\"showlegend\":true,\"textposition\":\"auto\",\"x\":[455499000000.0],\"xaxis\":\"x\",\"y\":[\"FR-Pue\"],\"yaxis\":\"y\",\"type\":\"bar\"},{\"alignmentgroup\":\"True\",\"base\":[\"1999-05-02T00:00:00\",\"2002-01-01T00:00:00\",\"2007-01-01T00:00:00\",\"1996-06-18T00:00:00\",\"2003-01-01T00:00:00\"],\"hovertemplate\":\"IGBP=Evergreen Needleleaf Forests<br>start_time=%{base}<br>end_time=%{x}<br>site_id=%{y}<extra></extra>\",\"legendgroup\":\"Evergreen Needleleaf Forests\",\"marker\":{\"color\":\"#EF553B\",\"pattern\":{\"shape\":\"\"}},\"name\":\"Evergreen Needleleaf Forests\",\"offsetgroup\":\"ENF\",\"orientation\":\"h\",\"showlegend\":true,\"textposition\":\"auto\",\"x\":[494465400000.0,504919800000.0,347153400000.0,774401400000.0,568078200000.0],\"xaxis\":\"x\",\"y\":[\"US-NR1\",\"US-Me2\",\"US-Vcp\",\"FI-Hyy\",\"IT-Lav\"],\"yaxis\":\"y\",\"type\":\"bar\"},{\"alignmentgroup\":\"True\",\"base\":[null,\"2003-01-01T00:00:00\"],\"hovertemplate\":\"IGBP=Croplands<br>start_time=%{base}<br>end_time=%{x}<br>site_id=%{y}<extra></extra>\",\"legendgroup\":\"Croplands\",\"marker\":{\"color\":\"#00cc96\",\"pattern\":{\"shape\":\"\"}},\"name\":\"Croplands\",\"offsetgroup\":\"CRO\",\"orientation\":\"h\",\"showlegend\":true,\"textposition\":\"auto\",\"x\":[null,504919800000.0],\"xaxis\":\"x\",\"y\":[\"US-Ne2\",\"US-ARM\"],\"yaxis\":\"y\",\"type\":\"bar\"},{\"alignmentgroup\":\"True\",\"base\":[\"2004-01-01T00:00:00\",\"2001-05-24T00:00:00\"],\"hovertemplate\":\"IGBP=Woody Savannas<br>start_time=%{base}<br>end_time=%{x}<br>site_id=%{y}<extra></extra>\",\"legendgroup\":\"Woody Savannas\",\"marker\":{\"color\":\"#ab63fa\",\"pattern\":{\"shape\":\"\"}},\"name\":\"Woody Savannas\",\"offsetgroup\":\"WSA\",\"orientation\":\"h\",\"showlegend\":true,\"textposition\":\"auto\",\"x\":[347153400000.0,429406200000.0],\"xaxis\":\"x\",\"y\":[\"US-SRM\",\"US-Ton\"],\"yaxis\":\"y\",\"type\":\"bar\"},{\"alignmentgroup\":\"True\",\"base\":[\"2000-11-01T00:00:00\",\"2004-05-07T00:00:00\"],\"hovertemplate\":\"IGBP=Grasslands<br>start_time=%{base}<br>end_time=%{x}<br>site_id=%{y}<extra></extra>\",\"legendgroup\":\"Grasslands\",\"marker\":{\"color\":\"#FFA15A\",\"pattern\":{\"shape\":\"\"}},\"name\":\"Grasslands\",\"offsetgroup\":\"GRA\",\"orientation\":\"h\",\"showlegend\":true,\"textposition\":\"auto\",\"x\":[447031800000.0,336180600000.0],\"xaxis\":\"x\",\"y\":[\"US-Var\",\"US-Wkg\"],\"yaxis\":\"y\",\"type\":\"bar\"},{\"alignmentgroup\":\"True\",\"base\":[null,\"2007-01-01T00:00:00\"],\"hovertemplate\":\"IGBP=Deciduous Needleleaf Forests<br>start_time=%{base}<br>end_time=%{x}<br>site_id=%{y}<extra></extra>\",\"legendgroup\":\"Deciduous Needleleaf Forests\",\"marker\":{\"color\":\"#19d3f3\",\"pattern\":{\"shape\":\"\"}},\"name\":\"Deciduous Needleleaf Forests\",\"offsetgroup\":\"DBF\",\"orientation\":\"h\",\"showlegend\":true,\"textposition\":\"auto\",\"x\":[null,347153400000.0],\"xaxis\":\"x\",\"y\":[\"US-MMS\",\"US-UMB\"],\"yaxis\":\"y\",\"type\":\"bar\"},{\"alignmentgroup\":\"True\",\"base\":[\"2004-04-09T00:00:00\"],\"hovertemplate\":\"IGBP=Mixed Forests<br>start_time=%{base}<br>end_time=%{x}<br>site_id=%{y}<extra></extra>\",\"legendgroup\":\"Mixed Forests\",\"marker\":{\"color\":\"#FF6692\",\"pattern\":{\"shape\":\"\"}},\"name\":\"Mixed Forests\",\"offsetgroup\":\"MF\",\"orientation\":\"h\",\"showlegend\":true,\"textposition\":\"auto\",\"x\":[526779000000.0],\"xaxis\":\"x\",\"y\":[\"CH-Lae\"],\"yaxis\":\"y\",\"type\":\"bar\"},{\"alignmentgroup\":\"True\",\"base\":[\"2004-05-26T00:00:00\"],\"hovertemplate\":\"IGBP=Open Shrublands<br>start_time=%{base}<br>end_time=%{x}<br>site_id=%{y}<extra></extra>\",\"legendgroup\":\"Open Shrublands\",\"marker\":{\"color\":\"#B6E880\",\"pattern\":{\"shape\":\"\"}},\"name\":\"Open Shrublands\",\"offsetgroup\":\"OSH\",\"orientation\":\"h\",\"showlegend\":true,\"textposition\":\"auto\",\"x\":[523927800000.0],\"xaxis\":\"x\",\"y\":[\"ES-LJu\"],\"yaxis\":\"y\",\"type\":\"bar\"}],                        {\"template\":{\"data\":{\"barpolar\":[{\"marker\":{\"line\":{\"color\":\"white\",\"width\":0.5},\"pattern\":{\"fillmode\":\"overlay\",\"size\":10,\"solidity\":0.2}},\"type\":\"barpolar\"}],\"bar\":[{\"error_x\":{\"color\":\"#2a3f5f\"},\"error_y\":{\"color\":\"#2a3f5f\"},\"marker\":{\"line\":{\"color\":\"white\",\"width\":0.5},\"pattern\":{\"fillmode\":\"overlay\",\"size\":10,\"solidity\":0.2}},\"type\":\"bar\"}],\"carpet\":[{\"aaxis\":{\"endlinecolor\":\"#2a3f5f\",\"gridcolor\":\"#C8D4E3\",\"linecolor\":\"#C8D4E3\",\"minorgridcolor\":\"#C8D4E3\",\"startlinecolor\":\"#2a3f5f\"},\"baxis\":{\"endlinecolor\":\"#2a3f5f\",\"gridcolor\":\"#C8D4E3\",\"linecolor\":\"#C8D4E3\",\"minorgridcolor\":\"#C8D4E3\",\"startlinecolor\":\"#2a3f5f\"},\"type\":\"carpet\"}],\"choropleth\":[{\"colorbar\":{\"outlinewidth\":0,\"ticks\":\"\"},\"type\":\"choropleth\"}],\"contourcarpet\":[{\"colorbar\":{\"outlinewidth\":0,\"ticks\":\"\"},\"type\":\"contourcarpet\"}],\"contour\":[{\"colorbar\":{\"outlinewidth\":0,\"ticks\":\"\"},\"colorscale\":[[0.0,\"#0d0887\"],[0.1111111111111111,\"#46039f\"],[0.2222222222222222,\"#7201a8\"],[0.3333333333333333,\"#9c179e\"],[0.4444444444444444,\"#bd3786\"],[0.5555555555555556,\"#d8576b\"],[0.6666666666666666,\"#ed7953\"],[0.7777777777777778,\"#fb9f3a\"],[0.8888888888888888,\"#fdca26\"],[1.0,\"#f0f921\"]],\"type\":\"contour\"}],\"heatmapgl\":[{\"colorbar\":{\"outlinewidth\":0,\"ticks\":\"\"},\"colorscale\":[[0.0,\"#0d0887\"],[0.1111111111111111,\"#46039f\"],[0.2222222222222222,\"#7201a8\"],[0.3333333333333333,\"#9c179e\"],[0.4444444444444444,\"#bd3786\"],[0.5555555555555556,\"#d8576b\"],[0.6666666666666666,\"#ed7953\"],[0.7777777777777778,\"#fb9f3a\"],[0.8888888888888888,\"#fdca26\"],[1.0,\"#f0f921\"]],\"type\":\"heatmapgl\"}],\"heatmap\":[{\"colorbar\":{\"outlinewidth\":0,\"ticks\":\"\"},\"colorscale\":[[0.0,\"#0d0887\"],[0.1111111111111111,\"#46039f\"],[0.2222222222222222,\"#7201a8\"],[0.3333333333333333,\"#9c179e\"],[0.4444444444444444,\"#bd3786\"],[0.5555555555555556,\"#d8576b\"],[0.6666666666666666,\"#ed7953\"],[0.7777777777777778,\"#fb9f3a\"],[0.8888888888888888,\"#fdca26\"],[1.0,\"#f0f921\"]],\"type\":\"heatmap\"}],\"histogram2dcontour\":[{\"colorbar\":{\"outlinewidth\":0,\"ticks\":\"\"},\"colorscale\":[[0.0,\"#0d0887\"],[0.1111111111111111,\"#46039f\"],[0.2222222222222222,\"#7201a8\"],[0.3333333333333333,\"#9c179e\"],[0.4444444444444444,\"#bd3786\"],[0.5555555555555556,\"#d8576b\"],[0.6666666666666666,\"#ed7953\"],[0.7777777777777778,\"#fb9f3a\"],[0.8888888888888888,\"#fdca26\"],[1.0,\"#f0f921\"]],\"type\":\"histogram2dcontour\"}],\"histogram2d\":[{\"colorbar\":{\"outlinewidth\":0,\"ticks\":\"\"},\"colorscale\":[[0.0,\"#0d0887\"],[0.1111111111111111,\"#46039f\"],[0.2222222222222222,\"#7201a8\"],[0.3333333333333333,\"#9c179e\"],[0.4444444444444444,\"#bd3786\"],[0.5555555555555556,\"#d8576b\"],[0.6666666666666666,\"#ed7953\"],[0.7777777777777778,\"#fb9f3a\"],[0.8888888888888888,\"#fdca26\"],[1.0,\"#f0f921\"]],\"type\":\"histogram2d\"}],\"histogram\":[{\"marker\":{\"pattern\":{\"fillmode\":\"overlay\",\"size\":10,\"solidity\":0.2}},\"type\":\"histogram\"}],\"mesh3d\":[{\"colorbar\":{\"outlinewidth\":0,\"ticks\":\"\"},\"type\":\"mesh3d\"}],\"parcoords\":[{\"line\":{\"colorbar\":{\"outlinewidth\":0,\"ticks\":\"\"}},\"type\":\"parcoords\"}],\"pie\":[{\"automargin\":true,\"type\":\"pie\"}],\"scatter3d\":[{\"line\":{\"colorbar\":{\"outlinewidth\":0,\"ticks\":\"\"}},\"marker\":{\"colorbar\":{\"outlinewidth\":0,\"ticks\":\"\"}},\"type\":\"scatter3d\"}],\"scattercarpet\":[{\"marker\":{\"colorbar\":{\"outlinewidth\":0,\"ticks\":\"\"}},\"type\":\"scattercarpet\"}],\"scattergeo\":[{\"marker\":{\"colorbar\":{\"outlinewidth\":0,\"ticks\":\"\"}},\"type\":\"scattergeo\"}],\"scattergl\":[{\"marker\":{\"colorbar\":{\"outlinewidth\":0,\"ticks\":\"\"}},\"type\":\"scattergl\"}],\"scattermapbox\":[{\"marker\":{\"colorbar\":{\"outlinewidth\":0,\"ticks\":\"\"}},\"type\":\"scattermapbox\"}],\"scatterpolargl\":[{\"marker\":{\"colorbar\":{\"outlinewidth\":0,\"ticks\":\"\"}},\"type\":\"scatterpolargl\"}],\"scatterpolar\":[{\"marker\":{\"colorbar\":{\"outlinewidth\":0,\"ticks\":\"\"}},\"type\":\"scatterpolar\"}],\"scatter\":[{\"fillpattern\":{\"fillmode\":\"overlay\",\"size\":10,\"solidity\":0.2},\"type\":\"scatter\"}],\"scatterternary\":[{\"marker\":{\"colorbar\":{\"outlinewidth\":0,\"ticks\":\"\"}},\"type\":\"scatterternary\"}],\"surface\":[{\"colorbar\":{\"outlinewidth\":0,\"ticks\":\"\"},\"colorscale\":[[0.0,\"#0d0887\"],[0.1111111111111111,\"#46039f\"],[0.2222222222222222,\"#7201a8\"],[0.3333333333333333,\"#9c179e\"],[0.4444444444444444,\"#bd3786\"],[0.5555555555555556,\"#d8576b\"],[0.6666666666666666,\"#ed7953\"],[0.7777777777777778,\"#fb9f3a\"],[0.8888888888888888,\"#fdca26\"],[1.0,\"#f0f921\"]],\"type\":\"surface\"}],\"table\":[{\"cells\":{\"fill\":{\"color\":\"#EBF0F8\"},\"line\":{\"color\":\"white\"}},\"header\":{\"fill\":{\"color\":\"#C8D4E3\"},\"line\":{\"color\":\"white\"}},\"type\":\"table\"}]},\"layout\":{\"annotationdefaults\":{\"arrowcolor\":\"#2a3f5f\",\"arrowhead\":0,\"arrowwidth\":1},\"autotypenumbers\":\"strict\",\"coloraxis\":{\"colorbar\":{\"outlinewidth\":0,\"ticks\":\"\"}},\"colorscale\":{\"diverging\":[[0,\"#8e0152\"],[0.1,\"#c51b7d\"],[0.2,\"#de77ae\"],[0.3,\"#f1b6da\"],[0.4,\"#fde0ef\"],[0.5,\"#f7f7f7\"],[0.6,\"#e6f5d0\"],[0.7,\"#b8e186\"],[0.8,\"#7fbc41\"],[0.9,\"#4d9221\"],[1,\"#276419\"]],\"sequential\":[[0.0,\"#0d0887\"],[0.1111111111111111,\"#46039f\"],[0.2222222222222222,\"#7201a8\"],[0.3333333333333333,\"#9c179e\"],[0.4444444444444444,\"#bd3786\"],[0.5555555555555556,\"#d8576b\"],[0.6666666666666666,\"#ed7953\"],[0.7777777777777778,\"#fb9f3a\"],[0.8888888888888888,\"#fdca26\"],[1.0,\"#f0f921\"]],\"sequentialminus\":[[0.0,\"#0d0887\"],[0.1111111111111111,\"#46039f\"],[0.2222222222222222,\"#7201a8\"],[0.3333333333333333,\"#9c179e\"],[0.4444444444444444,\"#bd3786\"],[0.5555555555555556,\"#d8576b\"],[0.6666666666666666,\"#ed7953\"],[0.7777777777777778,\"#fb9f3a\"],[0.8888888888888888,\"#fdca26\"],[1.0,\"#f0f921\"]]},\"colorway\":[\"#636efa\",\"#EF553B\",\"#00cc96\",\"#ab63fa\",\"#FFA15A\",\"#19d3f3\",\"#FF6692\",\"#B6E880\",\"#FF97FF\",\"#FECB52\"],\"font\":{\"color\":\"#2a3f5f\"},\"geo\":{\"bgcolor\":\"white\",\"lakecolor\":\"white\",\"landcolor\":\"white\",\"showlakes\":true,\"showland\":true,\"subunitcolor\":\"#C8D4E3\"},\"hoverlabel\":{\"align\":\"left\"},\"hovermode\":\"closest\",\"mapbox\":{\"style\":\"light\"},\"paper_bgcolor\":\"white\",\"plot_bgcolor\":\"white\",\"polar\":{\"angularaxis\":{\"gridcolor\":\"#EBF0F8\",\"linecolor\":\"#EBF0F8\",\"ticks\":\"\"},\"bgcolor\":\"white\",\"radialaxis\":{\"gridcolor\":\"#EBF0F8\",\"linecolor\":\"#EBF0F8\",\"ticks\":\"\"}},\"scene\":{\"xaxis\":{\"backgroundcolor\":\"white\",\"gridcolor\":\"#DFE8F3\",\"gridwidth\":2,\"linecolor\":\"#EBF0F8\",\"showbackground\":true,\"ticks\":\"\",\"zerolinecolor\":\"#EBF0F8\"},\"yaxis\":{\"backgroundcolor\":\"white\",\"gridcolor\":\"#DFE8F3\",\"gridwidth\":2,\"linecolor\":\"#EBF0F8\",\"showbackground\":true,\"ticks\":\"\",\"zerolinecolor\":\"#EBF0F8\"},\"zaxis\":{\"backgroundcolor\":\"white\",\"gridcolor\":\"#DFE8F3\",\"gridwidth\":2,\"linecolor\":\"#EBF0F8\",\"showbackground\":true,\"ticks\":\"\",\"zerolinecolor\":\"#EBF0F8\"}},\"shapedefaults\":{\"line\":{\"color\":\"#2a3f5f\"}},\"ternary\":{\"aaxis\":{\"gridcolor\":\"#DFE8F3\",\"linecolor\":\"#A2B1C6\",\"ticks\":\"\"},\"baxis\":{\"gridcolor\":\"#DFE8F3\",\"linecolor\":\"#A2B1C6\",\"ticks\":\"\"},\"bgcolor\":\"white\",\"caxis\":{\"gridcolor\":\"#DFE8F3\",\"linecolor\":\"#A2B1C6\",\"ticks\":\"\"}},\"title\":{\"x\":0.05},\"xaxis\":{\"automargin\":true,\"gridcolor\":\"#EBF0F8\",\"linecolor\":\"#EBF0F8\",\"ticks\":\"\",\"title\":{\"standoff\":15},\"zerolinecolor\":\"#EBF0F8\",\"zerolinewidth\":2},\"yaxis\":{\"automargin\":true,\"gridcolor\":\"#EBF0F8\",\"linecolor\":\"#EBF0F8\",\"ticks\":\"\",\"title\":{\"standoff\":15},\"zerolinecolor\":\"#EBF0F8\",\"zerolinewidth\":2}}},\"xaxis\":{\"anchor\":\"y\",\"domain\":[0.0,1.0],\"type\":\"date\"},\"yaxis\":{\"anchor\":\"x\",\"domain\":[0.0,1.0],\"title\":{\"text\":\"\",\"standoff\":0},\"showticklabels\":true,\"autorange\":\"reversed\"},\"legend\":{\"title\":{\"text\":\"IGBP\"},\"tracegroupgap\":0},\"margin\":{\"t\":60},\"barmode\":\"overlay\",\"title\":{\"text\":\"Record Timeline per Site\",\"y\":0.95,\"x\":0.5},\"height\":500,\"width\":800},                        {\"responsive\": true}                    ).then(function(){\n",
       "                            \n",
       "var gd = document.getElementById('7ce3defb-15ff-499a-af31-0da4cba0620c');\n",
       "var x = new MutationObserver(function (mutations, observer) {{\n",
       "        var display = window.getComputedStyle(gd).display;\n",
       "        if (!display || display === 'none') {{\n",
       "            console.log([gd, 'removed!']);\n",
       "            Plotly.purge(gd);\n",
       "            observer.disconnect();\n",
       "        }}\n",
       "}});\n",
       "\n",
       "// Listen for the removal of the full notebook cells\n",
       "var notebookContainer = gd.closest('#notebook-container');\n",
       "if (notebookContainer) {{\n",
       "    x.observe(notebookContainer, {childList: true});\n",
       "}}\n",
       "\n",
       "// Listen for the clearing of the current output cell\n",
       "var outputEl = gd.closest('.output');\n",
       "if (outputEl) {{\n",
       "    x.observe(outputEl, {childList: true});\n",
       "}}\n",
       "\n",
       "                        })                };                });            </script>        </div>"
      ]
     },
     "metadata": {},
     "output_type": "display_data"
    }
   ],
   "source": [
    "fig = px.timeline(site_metadata_df, x_start=\"start_time\", x_end=\"end_time\", y=\"site_id\", color=\"IGBP\")\n",
    "fig.update_yaxes(title_text = \"\", title_standoff = 0,\n",
    "                 showticklabels=True,\n",
    "                 autorange=\"reversed\") # otherwise tasks are listed from the bottom up\n",
    "fig.update_layout(title={'text': \"Record Timeline per Site\",\n",
    "                         'y':0.95,'x':0.5},\n",
    "                  height = 500, width = 800,\n",
    "                 template='plotly_white')\n",
    "newnames = {\n",
    "    'CRO': 'Croplands',\n",
    "    'DBF': 'Deciduous Needleleaf Forests',\n",
    "    'EBF': 'Evergreen Broadleaf Forests', \n",
    "    'ENF': 'Evergreen Needleleaf Forests',\n",
    "    'GRA': 'Grasslands',\n",
    "    'MF' : 'Mixed Forests',\n",
    "    'OSH': 'Open Shrublands',\n",
    "    'WSA': 'Woody Savannas'}\n",
    "fig.for_each_trace(lambda t: t.update(name = newnames[t.name],\n",
    "                                      legendgroup = newnames[t.name],\n",
    "                                      hovertemplate = t.hovertemplate.replace(t.name, newnames[t.name])\n",
    "                                     )\n",
    "                  )\n",
    "\n",
    "fig.show()"
   ]
  },
  {
   "cell_type": "code",
   "execution_count": 24,
   "id": "8c4b58b9",
   "metadata": {},
   "outputs": [
    {
     "data": {
      "text/plain": [
       "Index(['site_id', 'IGBP'], dtype='object')"
      ]
     },
     "execution_count": 24,
     "metadata": {},
     "output_type": "execute_result"
    }
   ],
   "source": [
    "sub_df = site_metadata_df[['site_id', 'IGBP']]\n",
    "sub_df.columns"
   ]
  },
  {
   "cell_type": "code",
   "execution_count": 20,
   "id": "576e918b",
   "metadata": {},
   "outputs": [
    {
     "data": {
      "text/plain": [
       "Index(['start', 'end', 'site_id'], dtype='object')"
      ]
     },
     "execution_count": 20,
     "metadata": {},
     "output_type": "execute_result"
    }
   ],
   "source": [
    "intervals_df.columns"
   ]
  },
  {
   "cell_type": "code",
   "execution_count": 70,
   "id": "b34343ac",
   "metadata": {},
   "outputs": [
    {
     "data": {
      "text/html": [
       "<div>\n",
       "<style scoped>\n",
       "    .dataframe tbody tr th:only-of-type {\n",
       "        vertical-align: middle;\n",
       "    }\n",
       "\n",
       "    .dataframe tbody tr th {\n",
       "        vertical-align: top;\n",
       "    }\n",
       "\n",
       "    .dataframe thead th {\n",
       "        text-align: right;\n",
       "    }\n",
       "</style>\n",
       "<table border=\"1\" class=\"dataframe\">\n",
       "  <thead>\n",
       "    <tr style=\"text-align: right;\">\n",
       "      <th></th>\n",
       "      <th>start</th>\n",
       "      <th>end</th>\n",
       "      <th>site_id</th>\n",
       "      <th>IGBP</th>\n",
       "    </tr>\n",
       "  </thead>\n",
       "  <tbody>\n",
       "    <tr>\n",
       "      <th>102</th>\n",
       "      <td>2005-01-01</td>\n",
       "      <td>2005-01-06 23:30:00</td>\n",
       "      <td>ES-LJu</td>\n",
       "      <td>OSH</td>\n",
       "    </tr>\n",
       "    <tr>\n",
       "      <th>103</th>\n",
       "      <td>2005-06-18</td>\n",
       "      <td>2005-07-30 23:30:00</td>\n",
       "      <td>ES-LJu</td>\n",
       "      <td>OSH</td>\n",
       "    </tr>\n",
       "    <tr>\n",
       "      <th>104</th>\n",
       "      <td>2005-08-11</td>\n",
       "      <td>2006-03-24 23:30:00</td>\n",
       "      <td>ES-LJu</td>\n",
       "      <td>OSH</td>\n",
       "    </tr>\n",
       "    <tr>\n",
       "      <th>105</th>\n",
       "      <td>2006-04-06</td>\n",
       "      <td>2006-07-15 23:30:00</td>\n",
       "      <td>ES-LJu</td>\n",
       "      <td>OSH</td>\n",
       "    </tr>\n",
       "    <tr>\n",
       "      <th>106</th>\n",
       "      <td>2006-07-28</td>\n",
       "      <td>2006-11-05 23:30:00</td>\n",
       "      <td>ES-LJu</td>\n",
       "      <td>OSH</td>\n",
       "    </tr>\n",
       "    <tr>\n",
       "      <th>107</th>\n",
       "      <td>2006-12-21</td>\n",
       "      <td>2007-01-11 23:30:00</td>\n",
       "      <td>ES-LJu</td>\n",
       "      <td>OSH</td>\n",
       "    </tr>\n",
       "    <tr>\n",
       "      <th>108</th>\n",
       "      <td>2007-02-16</td>\n",
       "      <td>2007-10-30 23:30:00</td>\n",
       "      <td>ES-LJu</td>\n",
       "      <td>OSH</td>\n",
       "    </tr>\n",
       "    <tr>\n",
       "      <th>109</th>\n",
       "      <td>2007-11-22</td>\n",
       "      <td>2007-11-29 23:30:00</td>\n",
       "      <td>ES-LJu</td>\n",
       "      <td>OSH</td>\n",
       "    </tr>\n",
       "    <tr>\n",
       "      <th>110</th>\n",
       "      <td>2007-12-24</td>\n",
       "      <td>2008-01-15 23:30:00</td>\n",
       "      <td>ES-LJu</td>\n",
       "      <td>OSH</td>\n",
       "    </tr>\n",
       "    <tr>\n",
       "      <th>111</th>\n",
       "      <td>2008-02-18</td>\n",
       "      <td>2008-11-20 23:30:00</td>\n",
       "      <td>ES-LJu</td>\n",
       "      <td>OSH</td>\n",
       "    </tr>\n",
       "    <tr>\n",
       "      <th>112</th>\n",
       "      <td>2008-12-12</td>\n",
       "      <td>2009-11-25 23:30:00</td>\n",
       "      <td>ES-LJu</td>\n",
       "      <td>OSH</td>\n",
       "    </tr>\n",
       "    <tr>\n",
       "      <th>113</th>\n",
       "      <td>2009-12-06</td>\n",
       "      <td>2010-01-28 23:30:00</td>\n",
       "      <td>ES-LJu</td>\n",
       "      <td>OSH</td>\n",
       "    </tr>\n",
       "    <tr>\n",
       "      <th>114</th>\n",
       "      <td>2010-03-18</td>\n",
       "      <td>2012-12-30 23:30:00</td>\n",
       "      <td>ES-LJu</td>\n",
       "      <td>OSH</td>\n",
       "    </tr>\n",
       "    <tr>\n",
       "      <th>115</th>\n",
       "      <td>2013-01-10</td>\n",
       "      <td>2015-02-02 23:30:00</td>\n",
       "      <td>ES-LJu</td>\n",
       "      <td>OSH</td>\n",
       "    </tr>\n",
       "    <tr>\n",
       "      <th>116</th>\n",
       "      <td>2015-03-26</td>\n",
       "      <td>2016-12-01 23:30:00</td>\n",
       "      <td>ES-LJu</td>\n",
       "      <td>OSH</td>\n",
       "    </tr>\n",
       "    <tr>\n",
       "      <th>117</th>\n",
       "      <td>2017-03-29</td>\n",
       "      <td>2017-05-08 23:30:00</td>\n",
       "      <td>ES-LJu</td>\n",
       "      <td>OSH</td>\n",
       "    </tr>\n",
       "    <tr>\n",
       "      <th>118</th>\n",
       "      <td>2017-05-24</td>\n",
       "      <td>2017-07-26 23:30:00</td>\n",
       "      <td>ES-LJu</td>\n",
       "      <td>OSH</td>\n",
       "    </tr>\n",
       "    <tr>\n",
       "      <th>119</th>\n",
       "      <td>2017-08-09</td>\n",
       "      <td>2017-10-11 23:30:00</td>\n",
       "      <td>ES-LJu</td>\n",
       "      <td>OSH</td>\n",
       "    </tr>\n",
       "    <tr>\n",
       "      <th>120</th>\n",
       "      <td>2017-12-03</td>\n",
       "      <td>2018-09-25 23:30:00</td>\n",
       "      <td>ES-LJu</td>\n",
       "      <td>OSH</td>\n",
       "    </tr>\n",
       "    <tr>\n",
       "      <th>121</th>\n",
       "      <td>2018-11-25</td>\n",
       "      <td>2019-01-27 23:30:00</td>\n",
       "      <td>ES-LJu</td>\n",
       "      <td>OSH</td>\n",
       "    </tr>\n",
       "    <tr>\n",
       "      <th>122</th>\n",
       "      <td>2019-03-12</td>\n",
       "      <td>2019-05-14 23:30:00</td>\n",
       "      <td>ES-LJu</td>\n",
       "      <td>OSH</td>\n",
       "    </tr>\n",
       "    <tr>\n",
       "      <th>123</th>\n",
       "      <td>2019-06-26</td>\n",
       "      <td>2019-07-05 23:30:00</td>\n",
       "      <td>ES-LJu</td>\n",
       "      <td>OSH</td>\n",
       "    </tr>\n",
       "    <tr>\n",
       "      <th>124</th>\n",
       "      <td>2019-12-13</td>\n",
       "      <td>2020-07-07 23:30:00</td>\n",
       "      <td>ES-LJu</td>\n",
       "      <td>OSH</td>\n",
       "    </tr>\n",
       "    <tr>\n",
       "      <th>125</th>\n",
       "      <td>2020-08-04</td>\n",
       "      <td>2020-09-03 23:30:00</td>\n",
       "      <td>ES-LJu</td>\n",
       "      <td>OSH</td>\n",
       "    </tr>\n",
       "    <tr>\n",
       "      <th>126</th>\n",
       "      <td>2020-09-16</td>\n",
       "      <td>2020-12-31 23:30:00</td>\n",
       "      <td>ES-LJu</td>\n",
       "      <td>OSH</td>\n",
       "    </tr>\n",
       "  </tbody>\n",
       "</table>\n",
       "</div>"
      ],
      "text/plain": [
       "         start                 end site_id IGBP\n",
       "102 2005-01-01 2005-01-06 23:30:00  ES-LJu  OSH\n",
       "103 2005-06-18 2005-07-30 23:30:00  ES-LJu  OSH\n",
       "104 2005-08-11 2006-03-24 23:30:00  ES-LJu  OSH\n",
       "105 2006-04-06 2006-07-15 23:30:00  ES-LJu  OSH\n",
       "106 2006-07-28 2006-11-05 23:30:00  ES-LJu  OSH\n",
       "107 2006-12-21 2007-01-11 23:30:00  ES-LJu  OSH\n",
       "108 2007-02-16 2007-10-30 23:30:00  ES-LJu  OSH\n",
       "109 2007-11-22 2007-11-29 23:30:00  ES-LJu  OSH\n",
       "110 2007-12-24 2008-01-15 23:30:00  ES-LJu  OSH\n",
       "111 2008-02-18 2008-11-20 23:30:00  ES-LJu  OSH\n",
       "112 2008-12-12 2009-11-25 23:30:00  ES-LJu  OSH\n",
       "113 2009-12-06 2010-01-28 23:30:00  ES-LJu  OSH\n",
       "114 2010-03-18 2012-12-30 23:30:00  ES-LJu  OSH\n",
       "115 2013-01-10 2015-02-02 23:30:00  ES-LJu  OSH\n",
       "116 2015-03-26 2016-12-01 23:30:00  ES-LJu  OSH\n",
       "117 2017-03-29 2017-05-08 23:30:00  ES-LJu  OSH\n",
       "118 2017-05-24 2017-07-26 23:30:00  ES-LJu  OSH\n",
       "119 2017-08-09 2017-10-11 23:30:00  ES-LJu  OSH\n",
       "120 2017-12-03 2018-09-25 23:30:00  ES-LJu  OSH\n",
       "121 2018-11-25 2019-01-27 23:30:00  ES-LJu  OSH\n",
       "122 2019-03-12 2019-05-14 23:30:00  ES-LJu  OSH\n",
       "123 2019-06-26 2019-07-05 23:30:00  ES-LJu  OSH\n",
       "124 2019-12-13 2020-07-07 23:30:00  ES-LJu  OSH\n",
       "125 2020-08-04 2020-09-03 23:30:00  ES-LJu  OSH\n",
       "126 2020-09-16 2020-12-31 23:30:00  ES-LJu  OSH"
      ]
     },
     "execution_count": 70,
     "metadata": {},
     "output_type": "execute_result"
    }
   ],
   "source": [
    "plot_df = intervals_df.merge(sub_df, left_on = 'site_id', right_on = 'site_id')\n",
    "plot_df[plot_df['site_id'] == 'ES-LJu']"
   ]
  },
  {
   "cell_type": "code",
   "execution_count": 66,
   "id": "d60e7f2a",
   "metadata": {},
   "outputs": [
    {
     "data": {
      "application/vnd.plotly.v1+json": {
       "config": {
        "plotlyServerURL": "https://plot.ly"
       },
       "data": [
        {
         "alignmentgroup": "True",
         "base": [
          "2000-07-26T00:00:00",
          "2000-09-24T00:00:00",
          "2000-11-29T00:00:00",
          "2009-09-02T00:00:00",
          "2010-07-09T00:00:00",
          "2010-12-19T00:00:00",
          "2011-09-01T00:00:00",
          "2012-03-11T00:00:00"
         ],
         "hovertemplate": "IGBP=Evergreen Broadleaf Forests<br>start=%{base}<br>end=%{x}<br>site_id=%{y}<extra></extra>",
         "legendgroup": "Evergreen Broadleaf Forests",
         "marker": {
          "color": "#636efa",
          "pattern": {
           "shape": ""
          }
         },
         "name": "Evergreen Broadleaf Forests",
         "offsetgroup": "EBF",
         "orientation": "h",
         "showlegend": true,
         "textposition": "auto",
         "type": "bar",
         "x": [
          4145400000,
          4577400000,
          275095800000,
          25918200000,
          12958200000,
          19783800000,
          11230200000,
          88644600000
         ],
         "xaxis": "x",
         "y": [
          "FR-Pue",
          "FR-Pue",
          "FR-Pue",
          "FR-Pue",
          "FR-Pue",
          "FR-Pue",
          "FR-Pue",
          "FR-Pue"
         ],
         "yaxis": "y"
        },
        {
         "alignmentgroup": "True",
         "base": [
          "1999-05-02T00:00:00",
          "1999-08-10T00:00:00",
          "2003-09-13T00:00:00",
          "2004-08-19T00:00:00",
          "2005-05-11T00:00:00",
          "2007-01-03T00:00:00",
          "2010-05-24T00:00:00",
          "2003-01-26T00:00:00",
          "2003-03-19T00:00:00",
          "2003-04-14T00:00:00",
          "2003-05-21T00:00:00",
          "2004-02-12T00:00:00",
          "2006-01-29T00:00:00",
          "2006-04-25T00:00:00",
          "2006-05-31T00:00:00",
          "2006-08-01T00:00:00",
          "2007-07-27T00:00:00",
          "2007-09-17T00:00:00",
          "2007-12-12T00:00:00",
          "2008-03-04T00:00:00",
          "2008-10-10T00:00:00",
          "2009-09-09T00:00:00",
          "2010-03-04T00:00:00",
          "2010-12-31T00:00:00",
          "2011-03-08T00:00:00",
          "2011-04-15T00:00:00",
          "2012-04-09T00:00:00",
          "2012-09-26T00:00:00",
          "2013-01-01T00:00:00",
          "2013-04-13T00:00:00",
          "2013-10-26T00:00:00",
          "2014-03-08T00:00:00",
          "2014-04-22T00:00:00",
          "2014-12-04T00:00:00",
          "2015-05-27T00:00:00",
          "2015-09-19T00:00:00",
          "2017-04-14T00:00:00",
          "2017-06-08T00:00:00",
          "2017-07-13T00:00:00",
          "2007-01-01T00:00:00",
          "2007-06-26T00:00:00",
          "2008-06-07T00:00:00",
          "2008-11-05T00:00:00",
          "2009-06-28T00:00:00",
          "2010-04-07T00:00:00",
          "2011-01-12T00:00:00",
          "2011-07-18T00:00:00",
          "2013-08-07T00:00:00",
          "2013-12-18T00:00:00",
          "2013-12-29T00:00:00",
          "2015-11-03T00:00:00",
          "2016-01-22T00:00:00",
          "2016-11-16T00:00:00",
          "2017-12-03T00:00:00",
          "1996-06-18T00:00:00",
          "1996-08-18T00:00:00",
          "1997-05-20T00:00:00",
          "1999-06-21T00:00:00",
          "2000-03-01T00:00:00",
          "2002-01-04T00:00:00",
          "2002-08-27T00:00:00",
          "2002-12-10T00:00:00",
          "2006-01-08T00:00:00",
          "2006-02-15T00:00:00",
          "2010-01-28T00:00:00",
          "2010-06-20T00:00:00",
          "2012-07-24T00:00:00",
          "2016-11-04T00:00:00",
          "2017-02-15T00:00:00",
          "2018-04-16T00:00:00",
          "2003-01-01T00:00:00",
          "2005-02-05T00:00:00",
          "2011-10-04T00:00:00",
          "2011-11-17T00:00:00",
          "2012-04-02T00:00:00",
          "2012-05-29T00:00:00",
          "2012-08-22T00:00:00",
          "2012-09-14T00:00:00",
          "2012-10-05T00:00:00",
          "2012-10-19T00:00:00",
          "2013-01-04T00:00:00",
          "2014-03-09T00:00:00",
          "2014-05-02T00:00:00",
          "2014-11-17T00:00:00",
          "2015-01-03T00:00:00",
          "2015-04-12T00:00:00",
          "2015-09-15T00:00:00",
          "2017-04-24T00:00:00",
          "2018-01-25T00:00:00",
          "2018-12-12T00:00:00",
          "2019-07-11T00:00:00"
         ],
         "hovertemplate": "IGBP=Evergreen Needleleaf Forests<br>start=%{base}<br>end=%{x}<br>site_id=%{y}<extra></extra>",
         "legendgroup": "Evergreen Needleleaf Forests",
         "marker": {
          "color": "#EF553B",
          "pattern": {
           "shape": ""
          }
         },
         "name": "Evergreen Needleleaf Forests",
         "offsetgroup": "ENF",
         "orientation": "h",
         "showlegend": true,
         "textposition": "auto",
         "type": "bar",
         "x": [
          6823800000,
          128302200000,
          28423800000,
          21771000000,
          50887800000,
          105751800000,
          145409400000,
          3022200000,
          1294200000,
          516600000,
          14427000000,
          59355000000,
          1035000000,
          1035000000,
          3713400000,
          29806200000,
          3022200000,
          5355000000,
          6219000000,
          16241400000,
          27991800000,
          13908600000,
          25054200000,
          1380600000,
          1467000000,
          18055800000,
          13822200000,
          2244600000,
          5614200000,
          15982200000,
          10366200000,
          3022200000,
          17883000000,
          14167800000,
          8897400000,
          41211000000,
          3540600000,
          257400000,
          14859000000,
          12958200000,
          26868600000,
          9329400000,
          17278200000,
          21684600000,
          23326200000,
          15204600000,
          59009400000,
          9847800000,
          84600000,
          54084600000,
          6046200000,
          24622200000,
          31275000000,
          2503800000,
          4318200000,
          22894200000,
          64625400000,
          17019000000,
          57022200000,
          18487800000,
          8033400000,
          89508600000,
          2417400000,
          123291000000,
          10625400000,
          64798200000,
          132708600000,
          5527800000,
          26523000000,
          85620600000,
          65143800000,
          208567800000,
          862200000,
          10971000000,
          3799800000,
          5095800000,
          948600000,
          775800000,
          257400000,
          5787000000,
          32916600000,
          3627000000,
          16327800000,
          2849400000,
          5787000000,
          12267000000,
          48987000000,
          22721400000,
          25399800000,
          16327800000,
          46654200000
         ],
         "xaxis": "x",
         "y": [
          "US-NR1",
          "US-NR1",
          "US-NR1",
          "US-NR1",
          "US-NR1",
          "US-NR1",
          "US-NR1",
          "US-Me2",
          "US-Me2",
          "US-Me2",
          "US-Me2",
          "US-Me2",
          "US-Me2",
          "US-Me2",
          "US-Me2",
          "US-Me2",
          "US-Me2",
          "US-Me2",
          "US-Me2",
          "US-Me2",
          "US-Me2",
          "US-Me2",
          "US-Me2",
          "US-Me2",
          "US-Me2",
          "US-Me2",
          "US-Me2",
          "US-Me2",
          "US-Me2",
          "US-Me2",
          "US-Me2",
          "US-Me2",
          "US-Me2",
          "US-Me2",
          "US-Me2",
          "US-Me2",
          "US-Me2",
          "US-Me2",
          "US-Me2",
          "US-Vcp",
          "US-Vcp",
          "US-Vcp",
          "US-Vcp",
          "US-Vcp",
          "US-Vcp",
          "US-Vcp",
          "US-Vcp",
          "US-Vcp",
          "US-Vcp",
          "US-Vcp",
          "US-Vcp",
          "US-Vcp",
          "US-Vcp",
          "US-Vcp",
          "FI-Hyy",
          "FI-Hyy",
          "FI-Hyy",
          "FI-Hyy",
          "FI-Hyy",
          "FI-Hyy",
          "FI-Hyy",
          "FI-Hyy",
          "FI-Hyy",
          "FI-Hyy",
          "FI-Hyy",
          "FI-Hyy",
          "FI-Hyy",
          "FI-Hyy",
          "FI-Hyy",
          "FI-Hyy",
          "IT-Lav",
          "IT-Lav",
          "IT-Lav",
          "IT-Lav",
          "IT-Lav",
          "IT-Lav",
          "IT-Lav",
          "IT-Lav",
          "IT-Lav",
          "IT-Lav",
          "IT-Lav",
          "IT-Lav",
          "IT-Lav",
          "IT-Lav",
          "IT-Lav",
          "IT-Lav",
          "IT-Lav",
          "IT-Lav",
          "IT-Lav",
          "IT-Lav",
          "IT-Lav"
         ],
         "yaxis": "y"
        },
        {
         "alignmentgroup": "True",
         "base": [
          "2004-01-01T00:00:00",
          "2006-11-29T00:00:00",
          "2008-06-02T00:00:00",
          "2013-03-13T00:00:00",
          "2013-06-23T00:00:00",
          "2001-05-24T00:00:00",
          "2004-07-07T00:00:00",
          "2007-02-23T00:00:00",
          "2007-06-13T00:00:00",
          "2011-01-04T00:00:00",
          "2011-01-22T00:00:00",
          "2011-04-13T00:00:00",
          "2013-05-28T00:00:00"
         ],
         "hovertemplate": "IGBP=Woody Savannas<br>start=%{base}<br>end=%{x}<br>site_id=%{y}<extra></extra>",
         "legendgroup": "Woody Savannas",
         "marker": {
          "color": "#00cc96",
          "pattern": {
           "shape": ""
          }
         },
         "name": "Woody Savannas",
         "offsetgroup": "WSA",
         "orientation": "h",
         "showlegend": true,
         "textposition": "auto",
         "type": "bar",
         "x": [
          90804600000,
          46740600000,
          149729400000,
          7947000000,
          48123000000,
          94606200000,
          79659000000,
          8638200000,
          111454200000,
          603000000,
          6132600000,
          64193400000,
          50369400000
         ],
         "xaxis": "x",
         "y": [
          "US-SRM",
          "US-SRM",
          "US-SRM",
          "US-SRM",
          "US-SRM",
          "US-Ton",
          "US-Ton",
          "US-Ton",
          "US-Ton",
          "US-Ton",
          "US-Ton",
          "US-Ton",
          "US-Ton"
         ],
         "yaxis": "y"
        },
        {
         "alignmentgroup": "True",
         "base": [
          "2000-11-01T00:00:00",
          "2005-02-11T00:00:00",
          "2010-04-10T00:00:00",
          "2004-05-07T00:00:00"
         ],
         "hovertemplate": "IGBP=Grasslands<br>start=%{base}<br>end=%{x}<br>site_id=%{y}<extra></extra>",
         "legendgroup": "Grasslands",
         "marker": {
          "color": "#ab63fa",
          "pattern": {
           "shape": ""
          }
         },
         "name": "Grasslands",
         "offsetgroup": "GRA",
         "orientation": "h",
         "showlegend": true,
         "textposition": "auto",
         "type": "bar",
         "x": [
          131671800000,
          161393400000,
          149211000000,
          336180600000
         ],
         "xaxis": "x",
         "y": [
          "US-Var",
          "US-Var",
          "US-Var",
          "US-Wkg"
         ],
         "yaxis": "y"
        },
        {
         "alignmentgroup": "True",
         "base": [
          "2003-01-01T00:00:00",
          "2003-05-25T00:00:00",
          "2003-06-21T00:00:00",
          "2003-10-11T00:00:00",
          "2006-01-09T00:00:00",
          "2010-04-07T00:00:00",
          "2012-09-18T00:00:00",
          "2014-10-20T00:00:00",
          "2015-03-14T00:00:00",
          "2015-05-02T00:00:00",
          "2015-07-23T00:00:00",
          "2015-11-03T00:00:00",
          "2016-03-18T00:00:00"
         ],
         "hovertemplate": "IGBP=Croplands<br>start=%{base}<br>end=%{x}<br>site_id=%{y}<extra></extra>",
         "legendgroup": "Croplands",
         "marker": {
          "color": "#FFA15A",
          "pattern": {
           "shape": ""
          }
         },
         "name": "Croplands",
         "offsetgroup": "CRO",
         "orientation": "h",
         "showlegend": true,
         "textposition": "auto",
         "type": "bar",
         "x": [
          10971000000,
          1467000000,
          8465400000,
          51147000000,
          131931000000,
          75252600000,
          62206200000,
          11230200000,
          2244600000,
          4577400000,
          7947000000,
          10884600000,
          88039800000
         ],
         "xaxis": "x",
         "y": [
          "US-ARM",
          "US-ARM",
          "US-ARM",
          "US-ARM",
          "US-ARM",
          "US-ARM",
          "US-ARM",
          "US-ARM",
          "US-ARM",
          "US-ARM",
          "US-ARM",
          "US-ARM",
          "US-ARM"
         ],
         "yaxis": "y"
        },
        {
         "alignmentgroup": "True",
         "base": [
          "2007-01-01T00:00:00",
          "2008-07-10T00:00:00",
          "2016-02-01T00:00:00"
         ],
         "hovertemplate": "IGBP=Deciduous Needleleaf Forests<br>start=%{base}<br>end=%{x}<br>site_id=%{y}<extra></extra>",
         "legendgroup": "Deciduous Needleleaf Forests",
         "marker": {
          "color": "#19d3f3",
          "pattern": {
           "shape": ""
          }
         },
         "name": "Deciduous Needleleaf Forests",
         "offsetgroup": "DBF",
         "orientation": "h",
         "showlegend": true,
         "textposition": "auto",
         "type": "bar",
         "x": [
          47172600000,
          237771000000,
          60478200000
         ],
         "xaxis": "x",
         "y": [
          "US-UMB",
          "US-UMB",
          "US-UMB"
         ],
         "yaxis": "y"
        },
        {
         "alignmentgroup": "True",
         "base": [
          "2004-04-09T00:00:00",
          "2012-11-25T00:00:00",
          "2018-01-09T00:00:00",
          "2018-06-08T00:00:00",
          "2019-09-12T00:00:00",
          "2019-11-20T00:00:00",
          "2020-08-17T00:00:00"
         ],
         "hovertemplate": "IGBP=Mixed Forests<br>start=%{base}<br>end=%{x}<br>site_id=%{y}<extra></extra>",
         "legendgroup": "Mixed Forests",
         "marker": {
          "color": "#FF6692",
          "pattern": {
           "shape": ""
          }
         },
         "name": "Mixed Forests",
         "offsetgroup": "MF",
         "orientation": "h",
         "showlegend": true,
         "textposition": "auto",
         "type": "bar",
         "x": [
          271467000000,
          160097400000,
          11316600000,
          38878200000,
          4577400000,
          22116600000,
          10625400000
         ],
         "xaxis": "x",
         "y": [
          "CH-Lae",
          "CH-Lae",
          "CH-Lae",
          "CH-Lae",
          "CH-Lae",
          "CH-Lae",
          "CH-Lae"
         ],
         "yaxis": "y"
        },
        {
         "alignmentgroup": "True",
         "base": [
          "2005-01-01T00:00:00",
          "2005-06-18T00:00:00",
          "2005-08-11T00:00:00",
          "2006-04-06T00:00:00",
          "2006-07-28T00:00:00",
          "2006-12-21T00:00:00",
          "2007-02-16T00:00:00",
          "2007-11-22T00:00:00",
          "2007-12-24T00:00:00",
          "2008-02-18T00:00:00",
          "2008-12-12T00:00:00",
          "2009-12-06T00:00:00",
          "2010-03-18T00:00:00",
          "2013-01-10T00:00:00",
          "2015-03-26T00:00:00",
          "2017-03-29T00:00:00",
          "2017-05-24T00:00:00",
          "2017-08-09T00:00:00",
          "2017-12-03T00:00:00",
          "2018-11-25T00:00:00",
          "2019-03-12T00:00:00",
          "2019-06-26T00:00:00",
          "2019-12-13T00:00:00",
          "2020-08-04T00:00:00",
          "2020-09-16T00:00:00"
         ],
         "hovertemplate": "IGBP=Open Shrublands<br>start=%{base}<br>end=%{x}<br>site_id=%{y}<extra></extra>",
         "legendgroup": "Open Shrublands",
         "marker": {
          "color": "#B6E880",
          "pattern": {
           "shape": ""
          }
         },
         "name": "Open Shrublands",
         "offsetgroup": "OSH",
         "orientation": "h",
         "showlegend": true,
         "textposition": "auto",
         "type": "bar",
         "x": [
          516600000,
          3713400000,
          19524600000,
          8724600000,
          8724600000,
          1899000000,
          22203000000,
          689400000,
          1985400000,
          23931000000,
          30151800000,
          4663800000,
          88039800000,
          65143800000,
          53307000000,
          3540600000,
          5527800000,
          5527800000,
          25659000000,
          5527800000,
          5527800000,
          862200000,
          17969400000,
          2676600000,
          9243000000
         ],
         "xaxis": "x",
         "y": [
          "ES-LJu",
          "ES-LJu",
          "ES-LJu",
          "ES-LJu",
          "ES-LJu",
          "ES-LJu",
          "ES-LJu",
          "ES-LJu",
          "ES-LJu",
          "ES-LJu",
          "ES-LJu",
          "ES-LJu",
          "ES-LJu",
          "ES-LJu",
          "ES-LJu",
          "ES-LJu",
          "ES-LJu",
          "ES-LJu",
          "ES-LJu",
          "ES-LJu",
          "ES-LJu",
          "ES-LJu",
          "ES-LJu",
          "ES-LJu",
          "ES-LJu"
         ],
         "yaxis": "y"
        }
       ],
       "layout": {
        "barmode": "overlay",
        "height": 500,
        "legend": {
         "orientation": "v",
         "title": {
          "text": "IGBP<br>Classification"
         },
         "tracegroupgap": 0
        },
        "margin": {
         "t": 60
        },
        "template": {
         "data": {
          "bar": [
           {
            "error_x": {
             "color": "#2a3f5f"
            },
            "error_y": {
             "color": "#2a3f5f"
            },
            "marker": {
             "line": {
              "color": "white",
              "width": 0.5
             },
             "pattern": {
              "fillmode": "overlay",
              "size": 10,
              "solidity": 0.2
             }
            },
            "type": "bar"
           }
          ],
          "barpolar": [
           {
            "marker": {
             "line": {
              "color": "white",
              "width": 0.5
             },
             "pattern": {
              "fillmode": "overlay",
              "size": 10,
              "solidity": 0.2
             }
            },
            "type": "barpolar"
           }
          ],
          "carpet": [
           {
            "aaxis": {
             "endlinecolor": "#2a3f5f",
             "gridcolor": "#C8D4E3",
             "linecolor": "#C8D4E3",
             "minorgridcolor": "#C8D4E3",
             "startlinecolor": "#2a3f5f"
            },
            "baxis": {
             "endlinecolor": "#2a3f5f",
             "gridcolor": "#C8D4E3",
             "linecolor": "#C8D4E3",
             "minorgridcolor": "#C8D4E3",
             "startlinecolor": "#2a3f5f"
            },
            "type": "carpet"
           }
          ],
          "choropleth": [
           {
            "colorbar": {
             "outlinewidth": 0,
             "ticks": ""
            },
            "type": "choropleth"
           }
          ],
          "contour": [
           {
            "colorbar": {
             "outlinewidth": 0,
             "ticks": ""
            },
            "colorscale": [
             [
              0,
              "#0d0887"
             ],
             [
              0.1111111111111111,
              "#46039f"
             ],
             [
              0.2222222222222222,
              "#7201a8"
             ],
             [
              0.3333333333333333,
              "#9c179e"
             ],
             [
              0.4444444444444444,
              "#bd3786"
             ],
             [
              0.5555555555555556,
              "#d8576b"
             ],
             [
              0.6666666666666666,
              "#ed7953"
             ],
             [
              0.7777777777777778,
              "#fb9f3a"
             ],
             [
              0.8888888888888888,
              "#fdca26"
             ],
             [
              1,
              "#f0f921"
             ]
            ],
            "type": "contour"
           }
          ],
          "contourcarpet": [
           {
            "colorbar": {
             "outlinewidth": 0,
             "ticks": ""
            },
            "type": "contourcarpet"
           }
          ],
          "heatmap": [
           {
            "colorbar": {
             "outlinewidth": 0,
             "ticks": ""
            },
            "colorscale": [
             [
              0,
              "#0d0887"
             ],
             [
              0.1111111111111111,
              "#46039f"
             ],
             [
              0.2222222222222222,
              "#7201a8"
             ],
             [
              0.3333333333333333,
              "#9c179e"
             ],
             [
              0.4444444444444444,
              "#bd3786"
             ],
             [
              0.5555555555555556,
              "#d8576b"
             ],
             [
              0.6666666666666666,
              "#ed7953"
             ],
             [
              0.7777777777777778,
              "#fb9f3a"
             ],
             [
              0.8888888888888888,
              "#fdca26"
             ],
             [
              1,
              "#f0f921"
             ]
            ],
            "type": "heatmap"
           }
          ],
          "heatmapgl": [
           {
            "colorbar": {
             "outlinewidth": 0,
             "ticks": ""
            },
            "colorscale": [
             [
              0,
              "#0d0887"
             ],
             [
              0.1111111111111111,
              "#46039f"
             ],
             [
              0.2222222222222222,
              "#7201a8"
             ],
             [
              0.3333333333333333,
              "#9c179e"
             ],
             [
              0.4444444444444444,
              "#bd3786"
             ],
             [
              0.5555555555555556,
              "#d8576b"
             ],
             [
              0.6666666666666666,
              "#ed7953"
             ],
             [
              0.7777777777777778,
              "#fb9f3a"
             ],
             [
              0.8888888888888888,
              "#fdca26"
             ],
             [
              1,
              "#f0f921"
             ]
            ],
            "type": "heatmapgl"
           }
          ],
          "histogram": [
           {
            "marker": {
             "pattern": {
              "fillmode": "overlay",
              "size": 10,
              "solidity": 0.2
             }
            },
            "type": "histogram"
           }
          ],
          "histogram2d": [
           {
            "colorbar": {
             "outlinewidth": 0,
             "ticks": ""
            },
            "colorscale": [
             [
              0,
              "#0d0887"
             ],
             [
              0.1111111111111111,
              "#46039f"
             ],
             [
              0.2222222222222222,
              "#7201a8"
             ],
             [
              0.3333333333333333,
              "#9c179e"
             ],
             [
              0.4444444444444444,
              "#bd3786"
             ],
             [
              0.5555555555555556,
              "#d8576b"
             ],
             [
              0.6666666666666666,
              "#ed7953"
             ],
             [
              0.7777777777777778,
              "#fb9f3a"
             ],
             [
              0.8888888888888888,
              "#fdca26"
             ],
             [
              1,
              "#f0f921"
             ]
            ],
            "type": "histogram2d"
           }
          ],
          "histogram2dcontour": [
           {
            "colorbar": {
             "outlinewidth": 0,
             "ticks": ""
            },
            "colorscale": [
             [
              0,
              "#0d0887"
             ],
             [
              0.1111111111111111,
              "#46039f"
             ],
             [
              0.2222222222222222,
              "#7201a8"
             ],
             [
              0.3333333333333333,
              "#9c179e"
             ],
             [
              0.4444444444444444,
              "#bd3786"
             ],
             [
              0.5555555555555556,
              "#d8576b"
             ],
             [
              0.6666666666666666,
              "#ed7953"
             ],
             [
              0.7777777777777778,
              "#fb9f3a"
             ],
             [
              0.8888888888888888,
              "#fdca26"
             ],
             [
              1,
              "#f0f921"
             ]
            ],
            "type": "histogram2dcontour"
           }
          ],
          "mesh3d": [
           {
            "colorbar": {
             "outlinewidth": 0,
             "ticks": ""
            },
            "type": "mesh3d"
           }
          ],
          "parcoords": [
           {
            "line": {
             "colorbar": {
              "outlinewidth": 0,
              "ticks": ""
             }
            },
            "type": "parcoords"
           }
          ],
          "pie": [
           {
            "automargin": true,
            "type": "pie"
           }
          ],
          "scatter": [
           {
            "fillpattern": {
             "fillmode": "overlay",
             "size": 10,
             "solidity": 0.2
            },
            "type": "scatter"
           }
          ],
          "scatter3d": [
           {
            "line": {
             "colorbar": {
              "outlinewidth": 0,
              "ticks": ""
             }
            },
            "marker": {
             "colorbar": {
              "outlinewidth": 0,
              "ticks": ""
             }
            },
            "type": "scatter3d"
           }
          ],
          "scattercarpet": [
           {
            "marker": {
             "colorbar": {
              "outlinewidth": 0,
              "ticks": ""
             }
            },
            "type": "scattercarpet"
           }
          ],
          "scattergeo": [
           {
            "marker": {
             "colorbar": {
              "outlinewidth": 0,
              "ticks": ""
             }
            },
            "type": "scattergeo"
           }
          ],
          "scattergl": [
           {
            "marker": {
             "colorbar": {
              "outlinewidth": 0,
              "ticks": ""
             }
            },
            "type": "scattergl"
           }
          ],
          "scattermapbox": [
           {
            "marker": {
             "colorbar": {
              "outlinewidth": 0,
              "ticks": ""
             }
            },
            "type": "scattermapbox"
           }
          ],
          "scatterpolar": [
           {
            "marker": {
             "colorbar": {
              "outlinewidth": 0,
              "ticks": ""
             }
            },
            "type": "scatterpolar"
           }
          ],
          "scatterpolargl": [
           {
            "marker": {
             "colorbar": {
              "outlinewidth": 0,
              "ticks": ""
             }
            },
            "type": "scatterpolargl"
           }
          ],
          "scatterternary": [
           {
            "marker": {
             "colorbar": {
              "outlinewidth": 0,
              "ticks": ""
             }
            },
            "type": "scatterternary"
           }
          ],
          "surface": [
           {
            "colorbar": {
             "outlinewidth": 0,
             "ticks": ""
            },
            "colorscale": [
             [
              0,
              "#0d0887"
             ],
             [
              0.1111111111111111,
              "#46039f"
             ],
             [
              0.2222222222222222,
              "#7201a8"
             ],
             [
              0.3333333333333333,
              "#9c179e"
             ],
             [
              0.4444444444444444,
              "#bd3786"
             ],
             [
              0.5555555555555556,
              "#d8576b"
             ],
             [
              0.6666666666666666,
              "#ed7953"
             ],
             [
              0.7777777777777778,
              "#fb9f3a"
             ],
             [
              0.8888888888888888,
              "#fdca26"
             ],
             [
              1,
              "#f0f921"
             ]
            ],
            "type": "surface"
           }
          ],
          "table": [
           {
            "cells": {
             "fill": {
              "color": "#EBF0F8"
             },
             "line": {
              "color": "white"
             }
            },
            "header": {
             "fill": {
              "color": "#C8D4E3"
             },
             "line": {
              "color": "white"
             }
            },
            "type": "table"
           }
          ]
         },
         "layout": {
          "annotationdefaults": {
           "arrowcolor": "#2a3f5f",
           "arrowhead": 0,
           "arrowwidth": 1
          },
          "autotypenumbers": "strict",
          "coloraxis": {
           "colorbar": {
            "outlinewidth": 0,
            "ticks": ""
           }
          },
          "colorscale": {
           "diverging": [
            [
             0,
             "#8e0152"
            ],
            [
             0.1,
             "#c51b7d"
            ],
            [
             0.2,
             "#de77ae"
            ],
            [
             0.3,
             "#f1b6da"
            ],
            [
             0.4,
             "#fde0ef"
            ],
            [
             0.5,
             "#f7f7f7"
            ],
            [
             0.6,
             "#e6f5d0"
            ],
            [
             0.7,
             "#b8e186"
            ],
            [
             0.8,
             "#7fbc41"
            ],
            [
             0.9,
             "#4d9221"
            ],
            [
             1,
             "#276419"
            ]
           ],
           "sequential": [
            [
             0,
             "#0d0887"
            ],
            [
             0.1111111111111111,
             "#46039f"
            ],
            [
             0.2222222222222222,
             "#7201a8"
            ],
            [
             0.3333333333333333,
             "#9c179e"
            ],
            [
             0.4444444444444444,
             "#bd3786"
            ],
            [
             0.5555555555555556,
             "#d8576b"
            ],
            [
             0.6666666666666666,
             "#ed7953"
            ],
            [
             0.7777777777777778,
             "#fb9f3a"
            ],
            [
             0.8888888888888888,
             "#fdca26"
            ],
            [
             1,
             "#f0f921"
            ]
           ],
           "sequentialminus": [
            [
             0,
             "#0d0887"
            ],
            [
             0.1111111111111111,
             "#46039f"
            ],
            [
             0.2222222222222222,
             "#7201a8"
            ],
            [
             0.3333333333333333,
             "#9c179e"
            ],
            [
             0.4444444444444444,
             "#bd3786"
            ],
            [
             0.5555555555555556,
             "#d8576b"
            ],
            [
             0.6666666666666666,
             "#ed7953"
            ],
            [
             0.7777777777777778,
             "#fb9f3a"
            ],
            [
             0.8888888888888888,
             "#fdca26"
            ],
            [
             1,
             "#f0f921"
            ]
           ]
          },
          "colorway": [
           "#636efa",
           "#EF553B",
           "#00cc96",
           "#ab63fa",
           "#FFA15A",
           "#19d3f3",
           "#FF6692",
           "#B6E880",
           "#FF97FF",
           "#FECB52"
          ],
          "font": {
           "color": "#2a3f5f"
          },
          "geo": {
           "bgcolor": "white",
           "lakecolor": "white",
           "landcolor": "white",
           "showlakes": true,
           "showland": true,
           "subunitcolor": "#C8D4E3"
          },
          "hoverlabel": {
           "align": "left"
          },
          "hovermode": "closest",
          "mapbox": {
           "style": "light"
          },
          "paper_bgcolor": "white",
          "plot_bgcolor": "white",
          "polar": {
           "angularaxis": {
            "gridcolor": "#EBF0F8",
            "linecolor": "#EBF0F8",
            "ticks": ""
           },
           "bgcolor": "white",
           "radialaxis": {
            "gridcolor": "#EBF0F8",
            "linecolor": "#EBF0F8",
            "ticks": ""
           }
          },
          "scene": {
           "xaxis": {
            "backgroundcolor": "white",
            "gridcolor": "#DFE8F3",
            "gridwidth": 2,
            "linecolor": "#EBF0F8",
            "showbackground": true,
            "ticks": "",
            "zerolinecolor": "#EBF0F8"
           },
           "yaxis": {
            "backgroundcolor": "white",
            "gridcolor": "#DFE8F3",
            "gridwidth": 2,
            "linecolor": "#EBF0F8",
            "showbackground": true,
            "ticks": "",
            "zerolinecolor": "#EBF0F8"
           },
           "zaxis": {
            "backgroundcolor": "white",
            "gridcolor": "#DFE8F3",
            "gridwidth": 2,
            "linecolor": "#EBF0F8",
            "showbackground": true,
            "ticks": "",
            "zerolinecolor": "#EBF0F8"
           }
          },
          "shapedefaults": {
           "line": {
            "color": "#2a3f5f"
           }
          },
          "ternary": {
           "aaxis": {
            "gridcolor": "#DFE8F3",
            "linecolor": "#A2B1C6",
            "ticks": ""
           },
           "baxis": {
            "gridcolor": "#DFE8F3",
            "linecolor": "#A2B1C6",
            "ticks": ""
           },
           "bgcolor": "white",
           "caxis": {
            "gridcolor": "#DFE8F3",
            "linecolor": "#A2B1C6",
            "ticks": ""
           }
          },
          "title": {
           "x": 0.05
          },
          "xaxis": {
           "automargin": true,
           "gridcolor": "#EBF0F8",
           "linecolor": "#EBF0F8",
           "ticks": "",
           "title": {
            "standoff": 15
           },
           "zerolinecolor": "#EBF0F8",
           "zerolinewidth": 2
          },
          "yaxis": {
           "automargin": true,
           "gridcolor": "#EBF0F8",
           "linecolor": "#EBF0F8",
           "ticks": "",
           "title": {
            "standoff": 15
           },
           "zerolinecolor": "#EBF0F8",
           "zerolinewidth": 2
          }
         }
        },
        "title": {
         "text": "Recorded Timeline per Site",
         "x": 0.5,
         "y": 0.95
        },
        "width": 800,
        "xaxis": {
         "anchor": "y",
         "domain": [
          0,
          1
         ],
         "type": "date"
        },
        "yaxis": {
         "anchor": "x",
         "autorange": "reversed",
         "domain": [
          0,
          1
         ],
         "showticklabels": true,
         "title": {
          "standoff": 0,
          "text": ""
         }
        }
       }
      },
      "text/html": [
       "<div>                            <div id=\"f0a29c5a-64ec-4596-9a27-7ca7c5d8e742\" class=\"plotly-graph-div\" style=\"height:500px; width:800px;\"></div>            <script type=\"text/javascript\">                require([\"plotly\"], function(Plotly) {                    window.PLOTLYENV=window.PLOTLYENV || {};                                    if (document.getElementById(\"f0a29c5a-64ec-4596-9a27-7ca7c5d8e742\")) {                    Plotly.newPlot(                        \"f0a29c5a-64ec-4596-9a27-7ca7c5d8e742\",                        [{\"alignmentgroup\":\"True\",\"base\":[\"2000-07-26T00:00:00\",\"2000-09-24T00:00:00\",\"2000-11-29T00:00:00\",\"2009-09-02T00:00:00\",\"2010-07-09T00:00:00\",\"2010-12-19T00:00:00\",\"2011-09-01T00:00:00\",\"2012-03-11T00:00:00\"],\"hovertemplate\":\"IGBP=Evergreen Broadleaf Forests<br>start=%{base}<br>end=%{x}<br>site_id=%{y}<extra></extra>\",\"legendgroup\":\"Evergreen Broadleaf Forests\",\"marker\":{\"color\":\"#636efa\",\"pattern\":{\"shape\":\"\"}},\"name\":\"Evergreen Broadleaf Forests\",\"offsetgroup\":\"EBF\",\"orientation\":\"h\",\"showlegend\":true,\"textposition\":\"auto\",\"x\":[4145400000.0,4577400000.0,275095800000.0,25918200000.0,12958200000.0,19783800000.0,11230200000.0,88644600000.0],\"xaxis\":\"x\",\"y\":[\"FR-Pue\",\"FR-Pue\",\"FR-Pue\",\"FR-Pue\",\"FR-Pue\",\"FR-Pue\",\"FR-Pue\",\"FR-Pue\"],\"yaxis\":\"y\",\"type\":\"bar\"},{\"alignmentgroup\":\"True\",\"base\":[\"1999-05-02T00:00:00\",\"1999-08-10T00:00:00\",\"2003-09-13T00:00:00\",\"2004-08-19T00:00:00\",\"2005-05-11T00:00:00\",\"2007-01-03T00:00:00\",\"2010-05-24T00:00:00\",\"2003-01-26T00:00:00\",\"2003-03-19T00:00:00\",\"2003-04-14T00:00:00\",\"2003-05-21T00:00:00\",\"2004-02-12T00:00:00\",\"2006-01-29T00:00:00\",\"2006-04-25T00:00:00\",\"2006-05-31T00:00:00\",\"2006-08-01T00:00:00\",\"2007-07-27T00:00:00\",\"2007-09-17T00:00:00\",\"2007-12-12T00:00:00\",\"2008-03-04T00:00:00\",\"2008-10-10T00:00:00\",\"2009-09-09T00:00:00\",\"2010-03-04T00:00:00\",\"2010-12-31T00:00:00\",\"2011-03-08T00:00:00\",\"2011-04-15T00:00:00\",\"2012-04-09T00:00:00\",\"2012-09-26T00:00:00\",\"2013-01-01T00:00:00\",\"2013-04-13T00:00:00\",\"2013-10-26T00:00:00\",\"2014-03-08T00:00:00\",\"2014-04-22T00:00:00\",\"2014-12-04T00:00:00\",\"2015-05-27T00:00:00\",\"2015-09-19T00:00:00\",\"2017-04-14T00:00:00\",\"2017-06-08T00:00:00\",\"2017-07-13T00:00:00\",\"2007-01-01T00:00:00\",\"2007-06-26T00:00:00\",\"2008-06-07T00:00:00\",\"2008-11-05T00:00:00\",\"2009-06-28T00:00:00\",\"2010-04-07T00:00:00\",\"2011-01-12T00:00:00\",\"2011-07-18T00:00:00\",\"2013-08-07T00:00:00\",\"2013-12-18T00:00:00\",\"2013-12-29T00:00:00\",\"2015-11-03T00:00:00\",\"2016-01-22T00:00:00\",\"2016-11-16T00:00:00\",\"2017-12-03T00:00:00\",\"1996-06-18T00:00:00\",\"1996-08-18T00:00:00\",\"1997-05-20T00:00:00\",\"1999-06-21T00:00:00\",\"2000-03-01T00:00:00\",\"2002-01-04T00:00:00\",\"2002-08-27T00:00:00\",\"2002-12-10T00:00:00\",\"2006-01-08T00:00:00\",\"2006-02-15T00:00:00\",\"2010-01-28T00:00:00\",\"2010-06-20T00:00:00\",\"2012-07-24T00:00:00\",\"2016-11-04T00:00:00\",\"2017-02-15T00:00:00\",\"2018-04-16T00:00:00\",\"2003-01-01T00:00:00\",\"2005-02-05T00:00:00\",\"2011-10-04T00:00:00\",\"2011-11-17T00:00:00\",\"2012-04-02T00:00:00\",\"2012-05-29T00:00:00\",\"2012-08-22T00:00:00\",\"2012-09-14T00:00:00\",\"2012-10-05T00:00:00\",\"2012-10-19T00:00:00\",\"2013-01-04T00:00:00\",\"2014-03-09T00:00:00\",\"2014-05-02T00:00:00\",\"2014-11-17T00:00:00\",\"2015-01-03T00:00:00\",\"2015-04-12T00:00:00\",\"2015-09-15T00:00:00\",\"2017-04-24T00:00:00\",\"2018-01-25T00:00:00\",\"2018-12-12T00:00:00\",\"2019-07-11T00:00:00\"],\"hovertemplate\":\"IGBP=Evergreen Needleleaf Forests<br>start=%{base}<br>end=%{x}<br>site_id=%{y}<extra></extra>\",\"legendgroup\":\"Evergreen Needleleaf Forests\",\"marker\":{\"color\":\"#EF553B\",\"pattern\":{\"shape\":\"\"}},\"name\":\"Evergreen Needleleaf Forests\",\"offsetgroup\":\"ENF\",\"orientation\":\"h\",\"showlegend\":true,\"textposition\":\"auto\",\"x\":[6823800000.0,128302200000.0,28423800000.0,21771000000.0,50887800000.0,105751800000.0,145409400000.0,3022200000.0,1294200000.0,516600000.0,14427000000.0,59355000000.0,1035000000.0,1035000000.0,3713400000.0,29806200000.0,3022200000.0,5355000000.0,6219000000.0,16241400000.0,27991800000.0,13908600000.0,25054200000.0,1380600000.0,1467000000.0,18055800000.0,13822200000.0,2244600000.0,5614200000.0,15982200000.0,10366200000.0,3022200000.0,17883000000.0,14167800000.0,8897400000.0,41211000000.0,3540600000.0,257400000.0,14859000000.0,12958200000.0,26868600000.0,9329400000.0,17278200000.0,21684600000.0,23326200000.0,15204600000.0,59009400000.0,9847800000.0,84600000.0,54084600000.0,6046200000.0,24622200000.0,31275000000.0,2503800000.0,4318200000.0,22894200000.0,64625400000.0,17019000000.0,57022200000.0,18487800000.0,8033400000.0,89508600000.0,2417400000.0,123291000000.0,10625400000.0,64798200000.0,132708600000.0,5527800000.0,26523000000.0,85620600000.0,65143800000.0,208567800000.0,862200000.0,10971000000.0,3799800000.0,5095800000.0,948600000.0,775800000.0,257400000.0,5787000000.0,32916600000.0,3627000000.0,16327800000.0,2849400000.0,5787000000.0,12267000000.0,48987000000.0,22721400000.0,25399800000.0,16327800000.0,46654200000.0],\"xaxis\":\"x\",\"y\":[\"US-NR1\",\"US-NR1\",\"US-NR1\",\"US-NR1\",\"US-NR1\",\"US-NR1\",\"US-NR1\",\"US-Me2\",\"US-Me2\",\"US-Me2\",\"US-Me2\",\"US-Me2\",\"US-Me2\",\"US-Me2\",\"US-Me2\",\"US-Me2\",\"US-Me2\",\"US-Me2\",\"US-Me2\",\"US-Me2\",\"US-Me2\",\"US-Me2\",\"US-Me2\",\"US-Me2\",\"US-Me2\",\"US-Me2\",\"US-Me2\",\"US-Me2\",\"US-Me2\",\"US-Me2\",\"US-Me2\",\"US-Me2\",\"US-Me2\",\"US-Me2\",\"US-Me2\",\"US-Me2\",\"US-Me2\",\"US-Me2\",\"US-Me2\",\"US-Vcp\",\"US-Vcp\",\"US-Vcp\",\"US-Vcp\",\"US-Vcp\",\"US-Vcp\",\"US-Vcp\",\"US-Vcp\",\"US-Vcp\",\"US-Vcp\",\"US-Vcp\",\"US-Vcp\",\"US-Vcp\",\"US-Vcp\",\"US-Vcp\",\"FI-Hyy\",\"FI-Hyy\",\"FI-Hyy\",\"FI-Hyy\",\"FI-Hyy\",\"FI-Hyy\",\"FI-Hyy\",\"FI-Hyy\",\"FI-Hyy\",\"FI-Hyy\",\"FI-Hyy\",\"FI-Hyy\",\"FI-Hyy\",\"FI-Hyy\",\"FI-Hyy\",\"FI-Hyy\",\"IT-Lav\",\"IT-Lav\",\"IT-Lav\",\"IT-Lav\",\"IT-Lav\",\"IT-Lav\",\"IT-Lav\",\"IT-Lav\",\"IT-Lav\",\"IT-Lav\",\"IT-Lav\",\"IT-Lav\",\"IT-Lav\",\"IT-Lav\",\"IT-Lav\",\"IT-Lav\",\"IT-Lav\",\"IT-Lav\",\"IT-Lav\",\"IT-Lav\",\"IT-Lav\"],\"yaxis\":\"y\",\"type\":\"bar\"},{\"alignmentgroup\":\"True\",\"base\":[\"2004-01-01T00:00:00\",\"2006-11-29T00:00:00\",\"2008-06-02T00:00:00\",\"2013-03-13T00:00:00\",\"2013-06-23T00:00:00\",\"2001-05-24T00:00:00\",\"2004-07-07T00:00:00\",\"2007-02-23T00:00:00\",\"2007-06-13T00:00:00\",\"2011-01-04T00:00:00\",\"2011-01-22T00:00:00\",\"2011-04-13T00:00:00\",\"2013-05-28T00:00:00\"],\"hovertemplate\":\"IGBP=Woody Savannas<br>start=%{base}<br>end=%{x}<br>site_id=%{y}<extra></extra>\",\"legendgroup\":\"Woody Savannas\",\"marker\":{\"color\":\"#00cc96\",\"pattern\":{\"shape\":\"\"}},\"name\":\"Woody Savannas\",\"offsetgroup\":\"WSA\",\"orientation\":\"h\",\"showlegend\":true,\"textposition\":\"auto\",\"x\":[90804600000.0,46740600000.0,149729400000.0,7947000000.0,48123000000.0,94606200000.0,79659000000.0,8638200000.0,111454200000.0,603000000.0,6132600000.0,64193400000.0,50369400000.0],\"xaxis\":\"x\",\"y\":[\"US-SRM\",\"US-SRM\",\"US-SRM\",\"US-SRM\",\"US-SRM\",\"US-Ton\",\"US-Ton\",\"US-Ton\",\"US-Ton\",\"US-Ton\",\"US-Ton\",\"US-Ton\",\"US-Ton\"],\"yaxis\":\"y\",\"type\":\"bar\"},{\"alignmentgroup\":\"True\",\"base\":[\"2000-11-01T00:00:00\",\"2005-02-11T00:00:00\",\"2010-04-10T00:00:00\",\"2004-05-07T00:00:00\"],\"hovertemplate\":\"IGBP=Grasslands<br>start=%{base}<br>end=%{x}<br>site_id=%{y}<extra></extra>\",\"legendgroup\":\"Grasslands\",\"marker\":{\"color\":\"#ab63fa\",\"pattern\":{\"shape\":\"\"}},\"name\":\"Grasslands\",\"offsetgroup\":\"GRA\",\"orientation\":\"h\",\"showlegend\":true,\"textposition\":\"auto\",\"x\":[131671800000.0,161393400000.0,149211000000.0,336180600000.0],\"xaxis\":\"x\",\"y\":[\"US-Var\",\"US-Var\",\"US-Var\",\"US-Wkg\"],\"yaxis\":\"y\",\"type\":\"bar\"},{\"alignmentgroup\":\"True\",\"base\":[\"2003-01-01T00:00:00\",\"2003-05-25T00:00:00\",\"2003-06-21T00:00:00\",\"2003-10-11T00:00:00\",\"2006-01-09T00:00:00\",\"2010-04-07T00:00:00\",\"2012-09-18T00:00:00\",\"2014-10-20T00:00:00\",\"2015-03-14T00:00:00\",\"2015-05-02T00:00:00\",\"2015-07-23T00:00:00\",\"2015-11-03T00:00:00\",\"2016-03-18T00:00:00\"],\"hovertemplate\":\"IGBP=Croplands<br>start=%{base}<br>end=%{x}<br>site_id=%{y}<extra></extra>\",\"legendgroup\":\"Croplands\",\"marker\":{\"color\":\"#FFA15A\",\"pattern\":{\"shape\":\"\"}},\"name\":\"Croplands\",\"offsetgroup\":\"CRO\",\"orientation\":\"h\",\"showlegend\":true,\"textposition\":\"auto\",\"x\":[10971000000.0,1467000000.0,8465400000.0,51147000000.0,131931000000.0,75252600000.0,62206200000.0,11230200000.0,2244600000.0,4577400000.0,7947000000.0,10884600000.0,88039800000.0],\"xaxis\":\"x\",\"y\":[\"US-ARM\",\"US-ARM\",\"US-ARM\",\"US-ARM\",\"US-ARM\",\"US-ARM\",\"US-ARM\",\"US-ARM\",\"US-ARM\",\"US-ARM\",\"US-ARM\",\"US-ARM\",\"US-ARM\"],\"yaxis\":\"y\",\"type\":\"bar\"},{\"alignmentgroup\":\"True\",\"base\":[\"2007-01-01T00:00:00\",\"2008-07-10T00:00:00\",\"2016-02-01T00:00:00\"],\"hovertemplate\":\"IGBP=Deciduous Needleleaf Forests<br>start=%{base}<br>end=%{x}<br>site_id=%{y}<extra></extra>\",\"legendgroup\":\"Deciduous Needleleaf Forests\",\"marker\":{\"color\":\"#19d3f3\",\"pattern\":{\"shape\":\"\"}},\"name\":\"Deciduous Needleleaf Forests\",\"offsetgroup\":\"DBF\",\"orientation\":\"h\",\"showlegend\":true,\"textposition\":\"auto\",\"x\":[47172600000.0,237771000000.0,60478200000.0],\"xaxis\":\"x\",\"y\":[\"US-UMB\",\"US-UMB\",\"US-UMB\"],\"yaxis\":\"y\",\"type\":\"bar\"},{\"alignmentgroup\":\"True\",\"base\":[\"2004-04-09T00:00:00\",\"2012-11-25T00:00:00\",\"2018-01-09T00:00:00\",\"2018-06-08T00:00:00\",\"2019-09-12T00:00:00\",\"2019-11-20T00:00:00\",\"2020-08-17T00:00:00\"],\"hovertemplate\":\"IGBP=Mixed Forests<br>start=%{base}<br>end=%{x}<br>site_id=%{y}<extra></extra>\",\"legendgroup\":\"Mixed Forests\",\"marker\":{\"color\":\"#FF6692\",\"pattern\":{\"shape\":\"\"}},\"name\":\"Mixed Forests\",\"offsetgroup\":\"MF\",\"orientation\":\"h\",\"showlegend\":true,\"textposition\":\"auto\",\"x\":[271467000000.0,160097400000.0,11316600000.0,38878200000.0,4577400000.0,22116600000.0,10625400000.0],\"xaxis\":\"x\",\"y\":[\"CH-Lae\",\"CH-Lae\",\"CH-Lae\",\"CH-Lae\",\"CH-Lae\",\"CH-Lae\",\"CH-Lae\"],\"yaxis\":\"y\",\"type\":\"bar\"},{\"alignmentgroup\":\"True\",\"base\":[\"2005-01-01T00:00:00\",\"2005-06-18T00:00:00\",\"2005-08-11T00:00:00\",\"2006-04-06T00:00:00\",\"2006-07-28T00:00:00\",\"2006-12-21T00:00:00\",\"2007-02-16T00:00:00\",\"2007-11-22T00:00:00\",\"2007-12-24T00:00:00\",\"2008-02-18T00:00:00\",\"2008-12-12T00:00:00\",\"2009-12-06T00:00:00\",\"2010-03-18T00:00:00\",\"2013-01-10T00:00:00\",\"2015-03-26T00:00:00\",\"2017-03-29T00:00:00\",\"2017-05-24T00:00:00\",\"2017-08-09T00:00:00\",\"2017-12-03T00:00:00\",\"2018-11-25T00:00:00\",\"2019-03-12T00:00:00\",\"2019-06-26T00:00:00\",\"2019-12-13T00:00:00\",\"2020-08-04T00:00:00\",\"2020-09-16T00:00:00\"],\"hovertemplate\":\"IGBP=Open Shrublands<br>start=%{base}<br>end=%{x}<br>site_id=%{y}<extra></extra>\",\"legendgroup\":\"Open Shrublands\",\"marker\":{\"color\":\"#B6E880\",\"pattern\":{\"shape\":\"\"}},\"name\":\"Open Shrublands\",\"offsetgroup\":\"OSH\",\"orientation\":\"h\",\"showlegend\":true,\"textposition\":\"auto\",\"x\":[516600000.0,3713400000.0,19524600000.0,8724600000.0,8724600000.0,1899000000.0,22203000000.0,689400000.0,1985400000.0,23931000000.0,30151800000.0,4663800000.0,88039800000.0,65143800000.0,53307000000.0,3540600000.0,5527800000.0,5527800000.0,25659000000.0,5527800000.0,5527800000.0,862200000.0,17969400000.0,2676600000.0,9243000000.0],\"xaxis\":\"x\",\"y\":[\"ES-LJu\",\"ES-LJu\",\"ES-LJu\",\"ES-LJu\",\"ES-LJu\",\"ES-LJu\",\"ES-LJu\",\"ES-LJu\",\"ES-LJu\",\"ES-LJu\",\"ES-LJu\",\"ES-LJu\",\"ES-LJu\",\"ES-LJu\",\"ES-LJu\",\"ES-LJu\",\"ES-LJu\",\"ES-LJu\",\"ES-LJu\",\"ES-LJu\",\"ES-LJu\",\"ES-LJu\",\"ES-LJu\",\"ES-LJu\",\"ES-LJu\"],\"yaxis\":\"y\",\"type\":\"bar\"}],                        {\"template\":{\"data\":{\"barpolar\":[{\"marker\":{\"line\":{\"color\":\"white\",\"width\":0.5},\"pattern\":{\"fillmode\":\"overlay\",\"size\":10,\"solidity\":0.2}},\"type\":\"barpolar\"}],\"bar\":[{\"error_x\":{\"color\":\"#2a3f5f\"},\"error_y\":{\"color\":\"#2a3f5f\"},\"marker\":{\"line\":{\"color\":\"white\",\"width\":0.5},\"pattern\":{\"fillmode\":\"overlay\",\"size\":10,\"solidity\":0.2}},\"type\":\"bar\"}],\"carpet\":[{\"aaxis\":{\"endlinecolor\":\"#2a3f5f\",\"gridcolor\":\"#C8D4E3\",\"linecolor\":\"#C8D4E3\",\"minorgridcolor\":\"#C8D4E3\",\"startlinecolor\":\"#2a3f5f\"},\"baxis\":{\"endlinecolor\":\"#2a3f5f\",\"gridcolor\":\"#C8D4E3\",\"linecolor\":\"#C8D4E3\",\"minorgridcolor\":\"#C8D4E3\",\"startlinecolor\":\"#2a3f5f\"},\"type\":\"carpet\"}],\"choropleth\":[{\"colorbar\":{\"outlinewidth\":0,\"ticks\":\"\"},\"type\":\"choropleth\"}],\"contourcarpet\":[{\"colorbar\":{\"outlinewidth\":0,\"ticks\":\"\"},\"type\":\"contourcarpet\"}],\"contour\":[{\"colorbar\":{\"outlinewidth\":0,\"ticks\":\"\"},\"colorscale\":[[0.0,\"#0d0887\"],[0.1111111111111111,\"#46039f\"],[0.2222222222222222,\"#7201a8\"],[0.3333333333333333,\"#9c179e\"],[0.4444444444444444,\"#bd3786\"],[0.5555555555555556,\"#d8576b\"],[0.6666666666666666,\"#ed7953\"],[0.7777777777777778,\"#fb9f3a\"],[0.8888888888888888,\"#fdca26\"],[1.0,\"#f0f921\"]],\"type\":\"contour\"}],\"heatmapgl\":[{\"colorbar\":{\"outlinewidth\":0,\"ticks\":\"\"},\"colorscale\":[[0.0,\"#0d0887\"],[0.1111111111111111,\"#46039f\"],[0.2222222222222222,\"#7201a8\"],[0.3333333333333333,\"#9c179e\"],[0.4444444444444444,\"#bd3786\"],[0.5555555555555556,\"#d8576b\"],[0.6666666666666666,\"#ed7953\"],[0.7777777777777778,\"#fb9f3a\"],[0.8888888888888888,\"#fdca26\"],[1.0,\"#f0f921\"]],\"type\":\"heatmapgl\"}],\"heatmap\":[{\"colorbar\":{\"outlinewidth\":0,\"ticks\":\"\"},\"colorscale\":[[0.0,\"#0d0887\"],[0.1111111111111111,\"#46039f\"],[0.2222222222222222,\"#7201a8\"],[0.3333333333333333,\"#9c179e\"],[0.4444444444444444,\"#bd3786\"],[0.5555555555555556,\"#d8576b\"],[0.6666666666666666,\"#ed7953\"],[0.7777777777777778,\"#fb9f3a\"],[0.8888888888888888,\"#fdca26\"],[1.0,\"#f0f921\"]],\"type\":\"heatmap\"}],\"histogram2dcontour\":[{\"colorbar\":{\"outlinewidth\":0,\"ticks\":\"\"},\"colorscale\":[[0.0,\"#0d0887\"],[0.1111111111111111,\"#46039f\"],[0.2222222222222222,\"#7201a8\"],[0.3333333333333333,\"#9c179e\"],[0.4444444444444444,\"#bd3786\"],[0.5555555555555556,\"#d8576b\"],[0.6666666666666666,\"#ed7953\"],[0.7777777777777778,\"#fb9f3a\"],[0.8888888888888888,\"#fdca26\"],[1.0,\"#f0f921\"]],\"type\":\"histogram2dcontour\"}],\"histogram2d\":[{\"colorbar\":{\"outlinewidth\":0,\"ticks\":\"\"},\"colorscale\":[[0.0,\"#0d0887\"],[0.1111111111111111,\"#46039f\"],[0.2222222222222222,\"#7201a8\"],[0.3333333333333333,\"#9c179e\"],[0.4444444444444444,\"#bd3786\"],[0.5555555555555556,\"#d8576b\"],[0.6666666666666666,\"#ed7953\"],[0.7777777777777778,\"#fb9f3a\"],[0.8888888888888888,\"#fdca26\"],[1.0,\"#f0f921\"]],\"type\":\"histogram2d\"}],\"histogram\":[{\"marker\":{\"pattern\":{\"fillmode\":\"overlay\",\"size\":10,\"solidity\":0.2}},\"type\":\"histogram\"}],\"mesh3d\":[{\"colorbar\":{\"outlinewidth\":0,\"ticks\":\"\"},\"type\":\"mesh3d\"}],\"parcoords\":[{\"line\":{\"colorbar\":{\"outlinewidth\":0,\"ticks\":\"\"}},\"type\":\"parcoords\"}],\"pie\":[{\"automargin\":true,\"type\":\"pie\"}],\"scatter3d\":[{\"line\":{\"colorbar\":{\"outlinewidth\":0,\"ticks\":\"\"}},\"marker\":{\"colorbar\":{\"outlinewidth\":0,\"ticks\":\"\"}},\"type\":\"scatter3d\"}],\"scattercarpet\":[{\"marker\":{\"colorbar\":{\"outlinewidth\":0,\"ticks\":\"\"}},\"type\":\"scattercarpet\"}],\"scattergeo\":[{\"marker\":{\"colorbar\":{\"outlinewidth\":0,\"ticks\":\"\"}},\"type\":\"scattergeo\"}],\"scattergl\":[{\"marker\":{\"colorbar\":{\"outlinewidth\":0,\"ticks\":\"\"}},\"type\":\"scattergl\"}],\"scattermapbox\":[{\"marker\":{\"colorbar\":{\"outlinewidth\":0,\"ticks\":\"\"}},\"type\":\"scattermapbox\"}],\"scatterpolargl\":[{\"marker\":{\"colorbar\":{\"outlinewidth\":0,\"ticks\":\"\"}},\"type\":\"scatterpolargl\"}],\"scatterpolar\":[{\"marker\":{\"colorbar\":{\"outlinewidth\":0,\"ticks\":\"\"}},\"type\":\"scatterpolar\"}],\"scatter\":[{\"fillpattern\":{\"fillmode\":\"overlay\",\"size\":10,\"solidity\":0.2},\"type\":\"scatter\"}],\"scatterternary\":[{\"marker\":{\"colorbar\":{\"outlinewidth\":0,\"ticks\":\"\"}},\"type\":\"scatterternary\"}],\"surface\":[{\"colorbar\":{\"outlinewidth\":0,\"ticks\":\"\"},\"colorscale\":[[0.0,\"#0d0887\"],[0.1111111111111111,\"#46039f\"],[0.2222222222222222,\"#7201a8\"],[0.3333333333333333,\"#9c179e\"],[0.4444444444444444,\"#bd3786\"],[0.5555555555555556,\"#d8576b\"],[0.6666666666666666,\"#ed7953\"],[0.7777777777777778,\"#fb9f3a\"],[0.8888888888888888,\"#fdca26\"],[1.0,\"#f0f921\"]],\"type\":\"surface\"}],\"table\":[{\"cells\":{\"fill\":{\"color\":\"#EBF0F8\"},\"line\":{\"color\":\"white\"}},\"header\":{\"fill\":{\"color\":\"#C8D4E3\"},\"line\":{\"color\":\"white\"}},\"type\":\"table\"}]},\"layout\":{\"annotationdefaults\":{\"arrowcolor\":\"#2a3f5f\",\"arrowhead\":0,\"arrowwidth\":1},\"autotypenumbers\":\"strict\",\"coloraxis\":{\"colorbar\":{\"outlinewidth\":0,\"ticks\":\"\"}},\"colorscale\":{\"diverging\":[[0,\"#8e0152\"],[0.1,\"#c51b7d\"],[0.2,\"#de77ae\"],[0.3,\"#f1b6da\"],[0.4,\"#fde0ef\"],[0.5,\"#f7f7f7\"],[0.6,\"#e6f5d0\"],[0.7,\"#b8e186\"],[0.8,\"#7fbc41\"],[0.9,\"#4d9221\"],[1,\"#276419\"]],\"sequential\":[[0.0,\"#0d0887\"],[0.1111111111111111,\"#46039f\"],[0.2222222222222222,\"#7201a8\"],[0.3333333333333333,\"#9c179e\"],[0.4444444444444444,\"#bd3786\"],[0.5555555555555556,\"#d8576b\"],[0.6666666666666666,\"#ed7953\"],[0.7777777777777778,\"#fb9f3a\"],[0.8888888888888888,\"#fdca26\"],[1.0,\"#f0f921\"]],\"sequentialminus\":[[0.0,\"#0d0887\"],[0.1111111111111111,\"#46039f\"],[0.2222222222222222,\"#7201a8\"],[0.3333333333333333,\"#9c179e\"],[0.4444444444444444,\"#bd3786\"],[0.5555555555555556,\"#d8576b\"],[0.6666666666666666,\"#ed7953\"],[0.7777777777777778,\"#fb9f3a\"],[0.8888888888888888,\"#fdca26\"],[1.0,\"#f0f921\"]]},\"colorway\":[\"#636efa\",\"#EF553B\",\"#00cc96\",\"#ab63fa\",\"#FFA15A\",\"#19d3f3\",\"#FF6692\",\"#B6E880\",\"#FF97FF\",\"#FECB52\"],\"font\":{\"color\":\"#2a3f5f\"},\"geo\":{\"bgcolor\":\"white\",\"lakecolor\":\"white\",\"landcolor\":\"white\",\"showlakes\":true,\"showland\":true,\"subunitcolor\":\"#C8D4E3\"},\"hoverlabel\":{\"align\":\"left\"},\"hovermode\":\"closest\",\"mapbox\":{\"style\":\"light\"},\"paper_bgcolor\":\"white\",\"plot_bgcolor\":\"white\",\"polar\":{\"angularaxis\":{\"gridcolor\":\"#EBF0F8\",\"linecolor\":\"#EBF0F8\",\"ticks\":\"\"},\"bgcolor\":\"white\",\"radialaxis\":{\"gridcolor\":\"#EBF0F8\",\"linecolor\":\"#EBF0F8\",\"ticks\":\"\"}},\"scene\":{\"xaxis\":{\"backgroundcolor\":\"white\",\"gridcolor\":\"#DFE8F3\",\"gridwidth\":2,\"linecolor\":\"#EBF0F8\",\"showbackground\":true,\"ticks\":\"\",\"zerolinecolor\":\"#EBF0F8\"},\"yaxis\":{\"backgroundcolor\":\"white\",\"gridcolor\":\"#DFE8F3\",\"gridwidth\":2,\"linecolor\":\"#EBF0F8\",\"showbackground\":true,\"ticks\":\"\",\"zerolinecolor\":\"#EBF0F8\"},\"zaxis\":{\"backgroundcolor\":\"white\",\"gridcolor\":\"#DFE8F3\",\"gridwidth\":2,\"linecolor\":\"#EBF0F8\",\"showbackground\":true,\"ticks\":\"\",\"zerolinecolor\":\"#EBF0F8\"}},\"shapedefaults\":{\"line\":{\"color\":\"#2a3f5f\"}},\"ternary\":{\"aaxis\":{\"gridcolor\":\"#DFE8F3\",\"linecolor\":\"#A2B1C6\",\"ticks\":\"\"},\"baxis\":{\"gridcolor\":\"#DFE8F3\",\"linecolor\":\"#A2B1C6\",\"ticks\":\"\"},\"bgcolor\":\"white\",\"caxis\":{\"gridcolor\":\"#DFE8F3\",\"linecolor\":\"#A2B1C6\",\"ticks\":\"\"}},\"title\":{\"x\":0.05},\"xaxis\":{\"automargin\":true,\"gridcolor\":\"#EBF0F8\",\"linecolor\":\"#EBF0F8\",\"ticks\":\"\",\"title\":{\"standoff\":15},\"zerolinecolor\":\"#EBF0F8\",\"zerolinewidth\":2},\"yaxis\":{\"automargin\":true,\"gridcolor\":\"#EBF0F8\",\"linecolor\":\"#EBF0F8\",\"ticks\":\"\",\"title\":{\"standoff\":15},\"zerolinecolor\":\"#EBF0F8\",\"zerolinewidth\":2}}},\"xaxis\":{\"anchor\":\"y\",\"domain\":[0.0,1.0],\"type\":\"date\"},\"yaxis\":{\"anchor\":\"x\",\"domain\":[0.0,1.0],\"title\":{\"text\":\"\",\"standoff\":0},\"showticklabels\":true,\"autorange\":\"reversed\"},\"legend\":{\"title\":{\"text\":\"IGBP<br>Classification\"},\"tracegroupgap\":0,\"orientation\":\"v\"},\"margin\":{\"t\":60},\"barmode\":\"overlay\",\"title\":{\"text\":\"Recorded Timeline per Site\",\"y\":0.95,\"x\":0.5},\"height\":500,\"width\":800},                        {\"responsive\": true}                    ).then(function(){\n",
       "                            \n",
       "var gd = document.getElementById('f0a29c5a-64ec-4596-9a27-7ca7c5d8e742');\n",
       "var x = new MutationObserver(function (mutations, observer) {{\n",
       "        var display = window.getComputedStyle(gd).display;\n",
       "        if (!display || display === 'none') {{\n",
       "            console.log([gd, 'removed!']);\n",
       "            Plotly.purge(gd);\n",
       "            observer.disconnect();\n",
       "        }}\n",
       "}});\n",
       "\n",
       "// Listen for the removal of the full notebook cells\n",
       "var notebookContainer = gd.closest('#notebook-container');\n",
       "if (notebookContainer) {{\n",
       "    x.observe(notebookContainer, {childList: true});\n",
       "}}\n",
       "\n",
       "// Listen for the clearing of the current output cell\n",
       "var outputEl = gd.closest('.output');\n",
       "if (outputEl) {{\n",
       "    x.observe(outputEl, {childList: true});\n",
       "}}\n",
       "\n",
       "                        })                };                });            </script>        </div>"
      ]
     },
     "metadata": {},
     "output_type": "display_data"
    }
   ],
   "source": [
    "plot_df = intervals_df.merge(sub_df, left_on = 'site_id', right_on = 'site_id')\n",
    "fig = px.timeline(plot_df, x_start=\"start\", x_end=\"end\", y=\"site_id\", color=\"IGBP\")\n",
    "fig.update_yaxes(title_text = \"\", title_standoff = 0,\n",
    "                 showticklabels=True,\n",
    "                 autorange=\"reversed\") # otherwise tasks are listed from the bottom up\n",
    "fig.update_layout(title={'text': \"Recorded Timeline per Site\",\n",
    "                         'y':0.95,'x':0.5},\n",
    "                  height = 500, width = 800,\n",
    "                  legend_title_text= \"IGBP<br>Classification\",\n",
    "                  legend_orientation=\"v\",\n",
    "                  template='plotly_white')\n",
    "\n",
    "newnames = {\n",
    "    'CRO': 'Croplands',\n",
    "    'DBF': 'Deciduous Needleleaf Forests',\n",
    "    'EBF': 'Evergreen Broadleaf Forests', \n",
    "    'ENF': 'Evergreen Needleleaf Forests',\n",
    "    'GRA': 'Grasslands',\n",
    "    'MF' : 'Mixed Forests',\n",
    "    'OSH': 'Open Shrublands',\n",
    "    'WSA': 'Woody Savannas'}\n",
    "fig.for_each_trace(lambda t: t.update(name = newnames[t.name],\n",
    "                                      legendgroup = newnames[t.name],\n",
    "                                      hovertemplate = t.hovertemplate.replace(t.name, newnames[t.name])\n",
    "                                     )\n",
    "                  )\n",
    "\n",
    "fig.show()"
   ]
  }
 ],
 "metadata": {
  "kernelspec": {
   "display_name": "Python 3",
   "language": "python",
   "name": "python3"
  },
  "language_info": {
   "codemirror_mode": {
    "name": "ipython",
    "version": 3
   },
   "file_extension": ".py",
   "mimetype": "text/x-python",
   "name": "python",
   "nbconvert_exporter": "python",
   "pygments_lexer": "ipython3",
   "version": "3.8.8"
  }
 },
 "nbformat": 4,
 "nbformat_minor": 5
}
