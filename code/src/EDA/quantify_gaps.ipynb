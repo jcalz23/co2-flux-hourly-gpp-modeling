{
 "cells": [
  {
   "attachments": {},
   "cell_type": "markdown",
   "metadata": {},
   "source": [
    "### Imputation and Gap-Filling Logic (Dev)\n",
    "Goal: Quantify gaps for each site to understand extent of the problem"
   ]
  },
  {
   "attachments": {},
   "cell_type": "markdown",
   "metadata": {},
   "source": [
    "## Imports and Paths"
   ]
  },
  {
   "cell_type": "code",
   "execution_count": 1,
   "metadata": {},
   "outputs": [
    {
     "name": "stdout",
     "output_type": "stream",
     "text": [
      "\n",
      "\u001b[1m[\u001b[0m\u001b[34;49mnotice\u001b[0m\u001b[1;39;49m]\u001b[0m\u001b[39;49m A new release of pip available: \u001b[0m\u001b[31;49m22.3.1\u001b[0m\u001b[39;49m -> \u001b[0m\u001b[32;49m23.0\u001b[0m\n",
      "\u001b[1m[\u001b[0m\u001b[34;49mnotice\u001b[0m\u001b[1;39;49m]\u001b[0m\u001b[39;49m To update, run: \u001b[0m\u001b[32;49mpip install --upgrade pip\u001b[0m\n",
      "Note: you may need to restart the kernel to use updated packages.\n"
     ]
    }
   ],
   "source": [
    "# install required modules quietly\n",
    "import os\n",
    "os.environ[\"PYARROW_IGNORE_TIMEZONE\"] = \"1\"\n",
    "import math\n",
    "import json\n",
    "\n",
    "from pyspark.sql.functions import col\n",
    "import pyspark.pandas as pd\n",
    "from calendar import monthrange\n",
    "from datetime import datetime\n",
    "import io\n",
    "from io import BytesIO\n",
    "from tqdm import tqdm\n",
    "\n",
    "import matplotlib.pyplot as plt\n",
    "import plotly.express as px\n",
    "import plotly.graph_objects as go\n",
    "from datetime import date\n",
    "today = str(date.today())\n",
    "\n",
    "# Load locale custome modules\n",
    "import sys\n",
    "sys.path.append(os.path.abspath(\"../tools\"))\n",
    "\n",
    "from CloudIO.AzStorageClient import AzStorageClient\n",
    "from data_pipeline_lib import *\n",
    "\n",
    "pd.set_option('display.max_rows', 500)\n",
    "pd.set_option('display.max_columns', None)\n",
    "pd.set_option('display.float_format', lambda x: '%.5f' % x)\n",
    "\n",
    "required_packages = ['geopandas', 'pyspark', 'azure-storage-blob']\n",
    "\n",
    "for p in required_packages: \n",
    "  try:\n",
    "      __import__(p)\n",
    "  except ImportError:\n",
    "      %pip install {p} --quiet\n",
    "\n",
    "MY_HOME_ABS_PATH = \"/Users/jetcalz07/Desktop/MIDS/W210_Capstone/co2-flux-hourly-gpp-modeling\"\n",
    "root_dir =  MY_HOME_ABS_PATH\n",
    "tmp_dir =  root_dir + os.sep + '.tmp'\n",
    "raw_data_dir = tmp_dir\n",
    "data_dir = root_dir + os.sep + 'data'\n",
    "dataset_dir = root_dir + os.sep + 'data' + os.sep + 'datasets'\n",
    "cred_dir = root_dir + os.sep + '.cred'\n",
    "az_cred_file = cred_dir + os.sep + 'azblobcred.json'"
   ]
  },
  {
   "attachments": {},
   "cell_type": "markdown",
   "metadata": {},
   "source": [
    "### Connect to Azure"
   ]
  },
  {
   "cell_type": "code",
   "execution_count": 2,
   "metadata": {},
   "outputs": [],
   "source": [
    "# Initialize Azure Storage Client\n",
    "azStorageClient = AzStorageClient(az_cred_file)\n",
    "\n",
    "# List blobs names under the container \"data_full_half_hourly\"\n",
    "container_name = 'full-half-hourly-raw'\n",
    "blob_name_list = azStorageClient.listBlobs(container_name)"
   ]
  },
  {
   "attachments": {},
   "cell_type": "markdown",
   "metadata": {},
   "source": [
    "### Define Functions"
   ]
  },
  {
   "cell_type": "code",
   "execution_count": 3,
   "metadata": {},
   "outputs": [],
   "source": [
    "# Define features and target variables of the data pipelines\n",
    "included_features = ['TA_ERA', 'SW_IN_ERA', 'LW_IN_ERA', 'VPD_ERA', 'P_ERA', 'PA_ERA',\n",
    "                     'datetime', 'year', 'month', 'day', 'hour', 'date',\n",
    "                     'EVI', 'NDVI', 'NIRv', 'b1', 'b2', 'b3', 'b4', 'b5', 'b6', 'b7', \n",
    "                     'IGBP', 'koppen']\n",
    "target_variable_qc = 'NEE_VUT_REF_QC'\n",
    "target_variable = 'GPP_NT_VUT_REF'"
   ]
  },
  {
   "cell_type": "code",
   "execution_count": 4,
   "metadata": {},
   "outputs": [],
   "source": [
    "# Load site data\n",
    "def data_cleanup_eda(fname, site_name, site_fname, target, target_qc, features):\n",
    "  # qc_flag_dtype = CategoricalDtype([0, 1, 2, 3], ordered=True)\n",
    "  qc_flags_features = [s for s in features if \"_QC\" in s]\n",
    "\n",
    "  # Iterate through each site:   \n",
    "  # Get only `features` from file\n",
    "  site_df = pd.read_csv(fname, usecols = [target, target_qc] + features)\n",
    "  site_df['datetime'] = pd.to_datetime(site_df['datetime'])\n",
    "  site_df['date'] = pd.to_datetime(site_df['date'])\n",
    "  site_df['minute'] = site_df['datetime'].dt.minute\n",
    "  if len(qc_flags_features) != 0:\n",
    "    site_df[qc_flags_features] = site_df[qc_flags_features].astype('int')\n",
    "  site_df['site_id'] = site_name\n",
    "\n",
    "  # Drop rows with NAs for Target Variable\n",
    "  site_df.dropna(subset=[target], axis=0, inplace=True)\n",
    "\n",
    "  # Drop rows with bad NEE_VUT_REF_QC (aka bad GPP records)\n",
    "  site_df.drop(site_df[site_df[target_qc] == 3].index, inplace = True)\n",
    "  site_df.drop([target_qc], axis=1, inplace=True)\n",
    "\n",
    "  # Move from HH to H level <---------------- ADDED BY JOHN\n",
    "  site_df = site_df.loc[site_df['minute']==0, ].copy()\n",
    "\n",
    "  return site_df"
   ]
  },
  {
   "cell_type": "code",
   "execution_count": 5,
   "metadata": {},
   "outputs": [],
   "source": [
    "def get_hourly_gap_metrics(df):\n",
    "    # Create a new DataFrame with hourly frequency\n",
    "    data_df_hr = df.set_index('datetime').resample('H').asfreq()\n",
    "\n",
    "    # Find missing records\n",
    "    missing_df = data_df_hr[data_df_hr.isnull().all(axis=1)]\n",
    "\n",
    "    # Collect metrics - hourly\n",
    "    total_hrs = len(data_df_hr)\n",
    "    count_hrs = len(missing_df)\n",
    "    pct_hrs = round(count_hrs/len(data_df_hr), 3)\n",
    "\n",
    "    # Determine missing streaks\n",
    "    streaks = {}\n",
    "    current_streak = 0\n",
    "\n",
    "    for i, row in missing_df.iterrows():\n",
    "        current_streak += 1\n",
    "        next_index = i + pd.Timedelta(hours=1)\n",
    "        if next_index not in missing_df.index:\n",
    "            streaks[i] = current_streak\n",
    "            current_streak = 0\n",
    "\n",
    "    return total_hrs, count_hrs, pct_hrs, streaks"
   ]
  },
  {
   "cell_type": "code",
   "execution_count": 10,
   "metadata": {},
   "outputs": [],
   "source": [
    "def get_daily_gap_metrics(df, big_streak = 5):\n",
    "    # Create a new DataFrame with hourly frequency\n",
    "    data_df_hr = df.set_index('datetime').resample('H').asfreq()\n",
    "\n",
    "    daily_df = data_df_hr.resample('D').asfreq()\n",
    "    missing_days = daily_df[daily_df.isnull().all(axis=1)]\n",
    "\n",
    "    # Determine missing day streaks\n",
    "    streaks_day = {}\n",
    "    current_streak = 0\n",
    "\n",
    "    for i, row in missing_days.iterrows():\n",
    "        current_streak += 1\n",
    "        next_index = i + pd.Timedelta(days=1)\n",
    "        if next_index not in missing_days.index:\n",
    "            streaks_day[i] = current_streak\n",
    "            current_streak = 0\n",
    "\n",
    "    # Collect metrics\n",
    "    total_days_missing = len(missing_days)\n",
    "    count_all_missing_streaks = len(streaks_day)\n",
    "    count_big_missing_streaks = len([x for x in list(streaks_day.values()) if x > big_streak])\n",
    "    try:\n",
    "        max_streak_len = max(streaks_day.values())\n",
    "    except:\n",
    "        max_streak_len = 0\n",
    "\n",
    "    return total_days_missing, count_all_missing_streaks, count_big_missing_streaks, streaks_day, max_streak_len"
   ]
  },
  {
   "attachments": {},
   "cell_type": "markdown",
   "metadata": {},
   "source": [
    "### Init Site-Missing DF"
   ]
  },
  {
   "cell_type": "code",
   "execution_count": 14,
   "metadata": {},
   "outputs": [
    {
     "name": "stdout",
     "output_type": "stream",
     "text": [
      "Initializing new df\n"
     ]
    }
   ],
   "source": [
    "# Init df\n",
    "try:\n",
    "    site_missing_df = pd.read_csv(f'{dataset_dir}/site_missing_hours_days_{today}.csv')\n",
    "    print(f\"Length of pre-loaded global sites: {len(site_missing_df)}\")\n",
    "except:\n",
    "    columns = [\"site_id\", \"total_hours\",  \"count_hrs_missing\", \"pct_hrs_missing\", \"total_full_days_missing\", \n",
    "    \"count_all_missing_streaks\", \"count_big_missing_streaks\", \"max_streak_len\", \"streaks_hr_dict\", \"streaks_day_dict\"]\n",
    "    site_missing_df = pd.DataFrame(columns=columns)\n",
    "    print(\"Initializing new df\")"
   ]
  },
  {
   "attachments": {},
   "cell_type": "markdown",
   "metadata": {},
   "source": [
    "### Loop through sites, quantify missing hours/days"
   ]
  },
  {
   "cell_type": "code",
   "execution_count": 15,
   "metadata": {},
   "outputs": [
    {
     "name": "stderr",
     "output_type": "stream",
     "text": [
      "136it [11:01,  4.86s/it]\n"
     ]
    }
   ],
   "source": [
    "# Load site file for new sites\n",
    "for i, blob in tqdm(enumerate(blob_name_list)):\n",
    "    # Download blob from Azure\n",
    "    blob_name = blob.name\n",
    "    site_name = blob_name.split('_')[-1][:-4]\n",
    "    if site_name in site_missing_df['site_id'].values:\n",
    "        continue\n",
    "    else:\n",
    "        fname = azStorageClient.downloadBlob(container_name, blob_name)\n",
    "        fname = io.StringIO(fname.decode('utf-8'))\n",
    "\n",
    "        # Initial data clean and feature selections from raw data\n",
    "        data_df = data_cleanup_eda(fname, site_name, blob_name,\n",
    "                        target_variable, target_variable_qc,\n",
    "                        included_features)\n",
    "\n",
    "        if len(data_df) == 0:\n",
    "            continue\n",
    "\n",
    "        #reorder columns\n",
    "        features = data_df.columns.to_list()\n",
    "        features.remove(target_variable)\n",
    "        data_df = data_df[([target_variable] + features)]\n",
    "        data_df.reset_index(inplace=True, drop=True)  #<---------------- ADDED BY JOHN\n",
    "\n",
    "        # Get gap metrics (hourly, daily)\n",
    "        total_hrs, count_hrs_missing, pct_hrs_missing, streaks_hr = get_hourly_gap_metrics(data_df)\n",
    "        total_days_missing, count_all_missing_streaks, count_big_missing_streaks, streaks_day, max_streak_len = \\\n",
    "            get_daily_gap_metrics(data_df, big_streak = 5)\n",
    "\n",
    "        # Append metrics to df\n",
    "        site_missing_df.loc[len(site_missing_df)] = \\\n",
    "            [site_name, total_hrs, count_hrs_missing, pct_hrs_missing, total_days_missing, count_all_missing_streaks,\n",
    "            count_big_missing_streaks, max_streak_len, streaks_hr, streaks_day]\n",
    "\n",
    "        # Save every record\n",
    "        site_missing_df.to_csv(f'{dataset_dir}/site_missing_hours_days_{today}.csv', index=False)"
   ]
  },
  {
   "attachments": {},
   "cell_type": "markdown",
   "metadata": {},
   "source": [
    "### Investigate Findings"
   ]
  },
  {
   "cell_type": "code",
   "execution_count": 18,
   "metadata": {},
   "outputs": [
    {
     "name": "stdout",
     "output_type": "stream",
     "text": [
      "136\n"
     ]
    },
    {
     "data": {
      "text/html": [
       "<div>\n",
       "<style scoped>\n",
       "    .dataframe tbody tr th:only-of-type {\n",
       "        vertical-align: middle;\n",
       "    }\n",
       "\n",
       "    .dataframe tbody tr th {\n",
       "        vertical-align: top;\n",
       "    }\n",
       "\n",
       "    .dataframe thead th {\n",
       "        text-align: right;\n",
       "    }\n",
       "</style>\n",
       "<table border=\"1\" class=\"dataframe\">\n",
       "  <thead>\n",
       "    <tr style=\"text-align: right;\">\n",
       "      <th></th>\n",
       "      <th>site_id</th>\n",
       "      <th>total_hours</th>\n",
       "      <th>count_hrs_missing</th>\n",
       "      <th>pct_hrs_missing</th>\n",
       "      <th>total_full_days_missing</th>\n",
       "      <th>count_all_missing_streaks</th>\n",
       "      <th>count_big_missing_streaks</th>\n",
       "      <th>max_streak_len</th>\n",
       "      <th>streaks_hr_dict</th>\n",
       "      <th>streaks_day_dict</th>\n",
       "    </tr>\n",
       "  </thead>\n",
       "  <tbody>\n",
       "    <tr>\n",
       "      <th>0</th>\n",
       "      <td>GH-Ank</td>\n",
       "      <td>33456</td>\n",
       "      <td>16684</td>\n",
       "      <td>0.49900</td>\n",
       "      <td>672</td>\n",
       "      <td>12</td>\n",
       "      <td>9</td>\n",
       "      <td>471</td>\n",
       "      <td>{Timestamp('2011-04-25 11:00:00'): 1, Timestam...</td>\n",
       "      <td>{Timestamp('2011-07-11 00:00:00'): 25, Timesta...</td>\n",
       "    </tr>\n",
       "    <tr>\n",
       "      <th>1</th>\n",
       "      <td>GL-Dsk</td>\n",
       "      <td>8784</td>\n",
       "      <td>2</td>\n",
       "      <td>0.00000</td>\n",
       "      <td>0</td>\n",
       "      <td>0</td>\n",
       "      <td>0</td>\n",
       "      <td>0</td>\n",
       "      <td>{Timestamp('2020-04-16 11:00:00', freq='1363H'...</td>\n",
       "      <td>{}</td>\n",
       "    </tr>\n",
       "    <tr>\n",
       "      <th>2</th>\n",
       "      <td>GL-NuF</td>\n",
       "      <td>53685</td>\n",
       "      <td>30302</td>\n",
       "      <td>0.56400</td>\n",
       "      <td>1262</td>\n",
       "      <td>9</td>\n",
       "      <td>8</td>\n",
       "      <td>229</td>\n",
       "      <td>{Timestamp('2008-06-20 02:00:00'): 3, Timestam...</td>\n",
       "      <td>{Timestamp('2008-06-23 00:00:00'): 5, Timestam...</td>\n",
       "    </tr>\n",
       "    <tr>\n",
       "      <th>3</th>\n",
       "      <td>GL-ZaF</td>\n",
       "      <td>31080</td>\n",
       "      <td>21318</td>\n",
       "      <td>0.68600</td>\n",
       "      <td>871</td>\n",
       "      <td>11</td>\n",
       "      <td>10</td>\n",
       "      <td>336</td>\n",
       "      <td>{Timestamp('2008-04-14 16:00:00'): 1, Timestam...</td>\n",
       "      <td>{Timestamp('2008-05-25 00:00:00'): 17, Timesta...</td>\n",
       "    </tr>\n",
       "    <tr>\n",
       "      <th>4</th>\n",
       "      <td>GL-ZaH</td>\n",
       "      <td>126000</td>\n",
       "      <td>79272</td>\n",
       "      <td>0.62900</td>\n",
       "      <td>3298</td>\n",
       "      <td>16</td>\n",
       "      <td>16</td>\n",
       "      <td>286</td>\n",
       "      <td>{Timestamp('2001-06-03 23:00:00'): 6720, Times...</td>\n",
       "      <td>{Timestamp('2001-06-03 00:00:00'): 280, Timest...</td>\n",
       "    </tr>\n",
       "  </tbody>\n",
       "</table>\n",
       "</div>"
      ],
      "text/plain": [
       "  site_id  total_hours  count_hrs_missing  pct_hrs_missing  \\\n",
       "0  GH-Ank        33456              16684          0.49900   \n",
       "1  GL-Dsk         8784                  2          0.00000   \n",
       "2  GL-NuF        53685              30302          0.56400   \n",
       "3  GL-ZaF        31080              21318          0.68600   \n",
       "4  GL-ZaH       126000              79272          0.62900   \n",
       "\n",
       "   total_full_days_missing  count_all_missing_streaks  \\\n",
       "0                      672                         12   \n",
       "1                        0                          0   \n",
       "2                     1262                          9   \n",
       "3                      871                         11   \n",
       "4                     3298                         16   \n",
       "\n",
       "   count_big_missing_streaks  max_streak_len  \\\n",
       "0                          9             471   \n",
       "1                          0               0   \n",
       "2                          8             229   \n",
       "3                         10             336   \n",
       "4                         16             286   \n",
       "\n",
       "                                     streaks_hr_dict  \\\n",
       "0  {Timestamp('2011-04-25 11:00:00'): 1, Timestam...   \n",
       "1  {Timestamp('2020-04-16 11:00:00', freq='1363H'...   \n",
       "2  {Timestamp('2008-06-20 02:00:00'): 3, Timestam...   \n",
       "3  {Timestamp('2008-04-14 16:00:00'): 1, Timestam...   \n",
       "4  {Timestamp('2001-06-03 23:00:00'): 6720, Times...   \n",
       "\n",
       "                                    streaks_day_dict  \n",
       "0  {Timestamp('2011-07-11 00:00:00'): 25, Timesta...  \n",
       "1                                                 {}  \n",
       "2  {Timestamp('2008-06-23 00:00:00'): 5, Timestam...  \n",
       "3  {Timestamp('2008-05-25 00:00:00'): 17, Timesta...  \n",
       "4  {Timestamp('2001-06-03 00:00:00'): 280, Timest...  "
      ]
     },
     "execution_count": 18,
     "metadata": {},
     "output_type": "execute_result"
    }
   ],
   "source": [
    "site_missing_df = pd.read_csv(f'{dataset_dir}/site_missing_hours_days_{today}.csv')\n",
    "print(len(site_missing_df))\n",
    "site_missing_df.head()"
   ]
  },
  {
   "cell_type": "code",
   "execution_count": 19,
   "metadata": {},
   "outputs": [
    {
     "data": {
      "image/png": "[encoded data removed]",
      "text/plain": [
       "<Figure size 640x480 with 1 Axes>"
      ]
     },
     "metadata": {},
     "output_type": "display_data"
    }
   ],
   "source": [
    "# Plot percentage of missing hourly records\n",
    "plt.hist(site_missing_df['pct_hrs_missing'])\n",
    "plt.title('Percentage of Missing Hour Records per Site')\n",
    "plt.show()"
   ]
  },
  {
   "cell_type": "code",
   "execution_count": 22,
   "metadata": {},
   "outputs": [
    {
     "data": {
      "image/png": "[encoded data removed]",
      "text/plain": [
       "<Figure size 640x480 with 1 Axes>"
      ]
     },
     "metadata": {},
     "output_type": "display_data"
    }
   ],
   "source": [
    "# Plot percentage of fully missing days\n",
    "site_missing_df['total_days'] = site_missing_df['total_hours']//24\n",
    "site_missing_df['pct_days_missing'] = site_missing_df['total_full_days_missing']/site_missing_df['total_days']\n",
    "plt.hist(site_missing_df['pct_days_missing'])\n",
    "plt.title('Percentage of Fully Missing Days per Site')\n",
    "plt.show()"
   ]
  },
  {
   "cell_type": "code",
   "execution_count": 23,
   "metadata": {},
   "outputs": [
    {
     "data": {
      "image/png": "[encoded data removed]",
      "text/plain": [
       "<Figure size 640x480 with 1 Axes>"
      ]
     },
     "metadata": {},
     "output_type": "display_data"
    }
   ],
   "source": [
    "# Plot number of big streaks\n",
    "plt.hist(site_missing_df['count_big_missing_streaks'])\n",
    "plt.title('Distribution of Big Streak (> 5 days) Count per Site')\n",
    "plt.show()"
   ]
  },
  {
   "cell_type": "code",
   "execution_count": 24,
   "metadata": {},
   "outputs": [
    {
     "data": {
      "image/png": "[encoded data removed]",
      "text/plain": [
       "<Figure size 640x480 with 1 Axes>"
      ]
     },
     "metadata": {},
     "output_type": "display_data"
    }
   ],
   "source": [
    "# Plot max day steak\n",
    "plt.hist(site_missing_df['max_streak_len'])\n",
    "plt.title('Distribution of Max Streak of Full Missing Days per Site')\n",
    "plt.show()"
   ]
  },
  {
   "cell_type": "code",
   "execution_count": null,
   "metadata": {},
   "outputs": [],
   "source": []
  },
  {
   "cell_type": "code",
   "execution_count": null,
   "metadata": {},
   "outputs": [],
   "source": []
  },
  {
   "cell_type": "code",
   "execution_count": null,
   "metadata": {},
   "outputs": [],
   "source": []
  }
 ],
 "metadata": {
  "kernelspec": {
   "display_name": "src-rYFmMrY7-py3.10",
   "language": "python",
   "name": "python3"
  },
  "language_info": {
   "codemirror_mode": {
    "name": "ipython",
    "version": 3
   },
   "file_extension": ".py",
   "mimetype": "text/x-python",
   "name": "python",
   "nbconvert_exporter": "python",
   "pygments_lexer": "ipython3",
   "version": "3.10.9"
  },
  "orig_nbformat": 4,
  "vscode": {
   "interpreter": {
    "hash": "5cbe69e04c91e7625dfb8f223669796fe243b4d7c88cd4431379e3b6898fe927"
   }
  }
 },
 "nbformat": 4,
 "nbformat_minor": 2
}
