{
  "nbformat": 4,
  "nbformat_minor": 0,
  "metadata": {
    "colab": {
      "provenance": []
    },
    "kernelspec": {
      "name": "python3",
      "display_name": "Python 3"
    },
    "language_info": {
      "name": "python"
    },
    "accelerator": "GPU",
    "gpuClass": "standard"
  },
  "cells": [
    {
      "cell_type": "markdown",
      "source": [
        "# EDA - Identify significant predictors with RF feature selection\n",
        "- Edited by Rumi Nakagawa\n",
        "- Spring 2023 Capstone"
      ],
      "metadata": {
        "id": "q5vxBYSHMC7q"
      }
    },
    {
      "cell_type": "markdown",
      "source": [
        "## SITE US-vcp\n",
        "- ENF  Evergreen Needleleaf Forests\n",
        "- metadata"
      ],
      "metadata": {
        "id": "hd9hPQzlZSj5"
      }
    },
    {
      "cell_type": "markdown",
      "source": [
        "|     | site_id |   dataset | start_year | end_year |                                              file | is_dup | IGBP | elevation |      lat |       long |\n",
        "|----:|--------:|----------:|-----------:|---------:|--------------------------------------------------:|-------:|-----:|----------:|---------:|-----------:|\n",
        "| 206 |  US-Vcp | AmeriFlux |       2007 |     2017 | FLX_US-Vcp_FLUXNET2015_FULLSET_MM_2007-2017_be... |  False |  ENF |    2542.0 | 35.86240 | -106.59740 |"
      ],
      "metadata": {
        "id": "bMv3hOWZZY4y"
      }
    },
    {
      "cell_type": "markdown",
      "source": [
        "# 0. Preparation"
      ],
      "metadata": {
        "id": "CU5xMX4lMdOX"
      }
    },
    {
      "cell_type": "markdown",
      "source": [
        "## Mount google drive\n",
        "- Make sure that available access is the user's own drive(no access across files in shared folder)"
      ],
      "metadata": {
        "id": "tqqvjx_EMfQR"
      }
    },
    {
      "cell_type": "code",
      "source": [
        "from google.colab import drive\n",
        "drive.mount('/content/drive')"
      ],
      "metadata": {
        "colab": {
          "base_uri": "https://localhost:8080/"
        },
        "id": "2VY5heBv1X2o",
        "outputId": "b204263f-7028-434f-cd47-ef4400f4c1e5"
      },
      "execution_count": 1,
      "outputs": [
        {
          "output_type": "stream",
          "name": "stdout",
          "text": [
            "Mounted at /content/drive\n"
          ]
        }
      ]
    },
    {
      "cell_type": "code",
      "source": [
        "%cd drive/MyDrive/"
      ],
      "metadata": {
        "colab": {
          "base_uri": "https://localhost:8080/"
        },
        "id": "qR1caCRf1Xq-",
        "outputId": "b5480616-44e9-481d-b71e-29411b9f40da"
      },
      "execution_count": 2,
      "outputs": [
        {
          "output_type": "stream",
          "name": "stdout",
          "text": [
            "/content/drive/MyDrive\n"
          ]
        }
      ]
    },
    {
      "cell_type": "markdown",
      "source": [],
      "metadata": {
        "id": "FDFum0oX1zwr"
      }
    },
    {
      "cell_type": "markdown",
      "source": [
        "## Import libraries"
      ],
      "metadata": {
        "id": "Hcdd8BpC14Dr"
      }
    },
    {
      "cell_type": "code",
      "execution_count": 3,
      "metadata": {
        "colab": {
          "base_uri": "https://localhost:8080/"
        },
        "id": "5JOXkGWDgdmH",
        "outputId": "77acbcd4-3a37-40aa-8bc7-9d1692ee8486"
      },
      "outputs": [
        {
          "output_type": "stream",
          "name": "stdout",
          "text": [
            "Looking in indexes: https://pypi.org/simple, https://us-python.pkg.dev/colab-wheels/public/simple/\n",
            "Collecting pyspark\n",
            "  Downloading pyspark-3.3.1.tar.gz (281.4 MB)\n",
            "\u001b[2K     \u001b[90m━━━━━━━━━━━━━━━━━━━━━━━━━━━━━━━━━━━━━━━\u001b[0m \u001b[32m281.4/281.4 MB\u001b[0m \u001b[31m4.6 MB/s\u001b[0m eta \u001b[36m0:00:00\u001b[0m\n",
            "\u001b[?25h  Preparing metadata (setup.py) ... \u001b[?25l\u001b[?25hdone\n",
            "Collecting py4j==0.10.9.5\n",
            "  Downloading py4j-0.10.9.5-py2.py3-none-any.whl (199 kB)\n",
            "\u001b[2K     \u001b[90m━━━━━━━━━━━━━━━━━━━━━━━━━━━━━━━━━━━━━━\u001b[0m \u001b[32m199.7/199.7 KB\u001b[0m \u001b[31m19.7 MB/s\u001b[0m eta \u001b[36m0:00:00\u001b[0m\n",
            "\u001b[?25hBuilding wheels for collected packages: pyspark\n",
            "  Building wheel for pyspark (setup.py) ... \u001b[?25l\u001b[?25hdone\n",
            "  Created wheel for pyspark: filename=pyspark-3.3.1-py2.py3-none-any.whl size=281845512 sha256=9201a176e4d2bdde61c2c74f6e915c589bc5f91d9f0e63484b7e037c3a93b43c\n",
            "  Stored in directory: /root/.cache/pip/wheels/43/dc/11/ec201cd671da62fa9c5cc77078235e40722170ceba231d7598\n",
            "Successfully built pyspark\n",
            "Installing collected packages: py4j, pyspark\n",
            "Successfully installed py4j-0.10.9.5 pyspark-3.3.1\n"
          ]
        }
      ],
      "source": [
        "!pip install pyspark"
      ]
    },
    {
      "cell_type": "code",
      "source": [
        "# !pip install dython"
      ],
      "metadata": {
        "id": "W3KqtSBwOPKl"
      },
      "execution_count": 4,
      "outputs": []
    },
    {
      "cell_type": "code",
      "source": [
        "!pip install geopandas"
      ],
      "metadata": {
        "colab": {
          "base_uri": "https://localhost:8080/"
        },
        "id": "q4dJSIvnOU0L",
        "outputId": "b6847a9e-fdb7-431a-bb77-6be58bfbd560"
      },
      "execution_count": 5,
      "outputs": [
        {
          "output_type": "stream",
          "name": "stdout",
          "text": [
            "Looking in indexes: https://pypi.org/simple, https://us-python.pkg.dev/colab-wheels/public/simple/\n",
            "Collecting geopandas\n",
            "  Downloading geopandas-0.12.2-py3-none-any.whl (1.1 MB)\n",
            "\u001b[2K     \u001b[90m━━━━━━━━━━━━━━━━━━━━━━━━━━━━━━━━━━━━━━━━\u001b[0m \u001b[32m1.1/1.1 MB\u001b[0m \u001b[31m17.0 MB/s\u001b[0m eta \u001b[36m0:00:00\u001b[0m\n",
            "\u001b[?25hCollecting fiona>=1.8\n",
            "  Downloading Fiona-1.9.0-cp38-cp38-manylinux_2_17_x86_64.manylinux2014_x86_64.whl (16.9 MB)\n",
            "\u001b[2K     \u001b[90m━━━━━━━━━━━━━━━━━━━━━━━━━━━━━━━━━━━━━━━━\u001b[0m \u001b[32m16.9/16.9 MB\u001b[0m \u001b[31m40.3 MB/s\u001b[0m eta \u001b[36m0:00:00\u001b[0m\n",
            "\u001b[?25hRequirement already satisfied: pandas>=1.0.0 in /usr/local/lib/python3.8/dist-packages (from geopandas) (1.3.5)\n",
            "Requirement already satisfied: shapely>=1.7 in /usr/local/lib/python3.8/dist-packages (from geopandas) (2.0.1)\n",
            "Requirement already satisfied: packaging in /usr/local/lib/python3.8/dist-packages (from geopandas) (23.0)\n",
            "Collecting pyproj>=2.6.1.post1\n",
            "  Downloading pyproj-3.4.1-cp38-cp38-manylinux_2_17_x86_64.manylinux2014_x86_64.whl (7.8 MB)\n",
            "\u001b[2K     \u001b[90m━━━━━━━━━━━━━━━━━━━━━━━━━━━━━━━━━━━━━━━━\u001b[0m \u001b[32m7.8/7.8 MB\u001b[0m \u001b[31m23.2 MB/s\u001b[0m eta \u001b[36m0:00:00\u001b[0m\n",
            "\u001b[?25hCollecting click~=8.0\n",
            "  Downloading click-8.1.3-py3-none-any.whl (96 kB)\n",
            "\u001b[2K     \u001b[90m━━━━━━━━━━━━━━━━━━━━━━━━━━━━━━━━━━━━━━━━\u001b[0m \u001b[32m96.6/96.6 KB\u001b[0m \u001b[31m10.4 MB/s\u001b[0m eta \u001b[36m0:00:00\u001b[0m\n",
            "\u001b[?25hCollecting munch>=2.3.2\n",
            "  Downloading munch-2.5.0-py2.py3-none-any.whl (10 kB)\n",
            "Collecting click-plugins>=1.0\n",
            "  Downloading click_plugins-1.1.1-py2.py3-none-any.whl (7.5 kB)\n",
            "Requirement already satisfied: attrs>=19.2.0 in /usr/local/lib/python3.8/dist-packages (from fiona>=1.8->geopandas) (22.2.0)\n",
            "Requirement already satisfied: certifi in /usr/local/lib/python3.8/dist-packages (from fiona>=1.8->geopandas) (2022.12.7)\n",
            "Collecting cligj>=0.5\n",
            "  Downloading cligj-0.7.2-py3-none-any.whl (7.1 kB)\n",
            "Requirement already satisfied: numpy>=1.17.3 in /usr/local/lib/python3.8/dist-packages (from pandas>=1.0.0->geopandas) (1.21.6)\n",
            "Requirement already satisfied: python-dateutil>=2.7.3 in /usr/local/lib/python3.8/dist-packages (from pandas>=1.0.0->geopandas) (2.8.2)\n",
            "Requirement already satisfied: pytz>=2017.3 in /usr/local/lib/python3.8/dist-packages (from pandas>=1.0.0->geopandas) (2022.7.1)\n",
            "Requirement already satisfied: six in /usr/local/lib/python3.8/dist-packages (from munch>=2.3.2->fiona>=1.8->geopandas) (1.15.0)\n",
            "Installing collected packages: pyproj, munch, click, cligj, click-plugins, fiona, geopandas\n",
            "  Attempting uninstall: click\n",
            "    Found existing installation: click 7.1.2\n",
            "    Uninstalling click-7.1.2:\n",
            "      Successfully uninstalled click-7.1.2\n",
            "\u001b[31mERROR: pip's dependency resolver does not currently take into account all the packages that are installed. This behaviour is the source of the following dependency conflicts.\n",
            "flask 1.1.4 requires click<8.0,>=5.1, but you have click 8.1.3 which is incompatible.\u001b[0m\u001b[31m\n",
            "\u001b[0mSuccessfully installed click-8.1.3 click-plugins-1.1.1 cligj-0.7.2 fiona-1.9.0 geopandas-0.12.2 munch-2.5.0 pyproj-3.4.1\n"
          ]
        }
      ]
    },
    {
      "cell_type": "code",
      "source": [
        "# Import SparkSession\n",
        "from pyspark.sql import SparkSession\n",
        "# Create a Spark Session\n",
        "spark = SparkSession.builder.master(\"local[*]\").getOrCreate()\n",
        "# Check Spark Session Information\n",
        "spark"
      ],
      "metadata": {
        "colab": {
          "base_uri": "https://localhost:8080/",
          "height": 219
        },
        "id": "9EdU074Lg_kz",
        "outputId": "beeb64d8-2912-4a81-c291-756bbbf9e80a"
      },
      "execution_count": 6,
      "outputs": [
        {
          "output_type": "execute_result",
          "data": {
            "text/plain": [
              "<pyspark.sql.session.SparkSession at 0x7f1ac7f95580>"
            ],
            "text/html": [
              "\n",
              "            <div>\n",
              "                <p><b>SparkSession - in-memory</b></p>\n",
              "                \n",
              "        <div>\n",
              "            <p><b>SparkContext</b></p>\n",
              "\n",
              "            <p><a href=\"http://56b958c36a0c:4040\">Spark UI</a></p>\n",
              "\n",
              "            <dl>\n",
              "              <dt>Version</dt>\n",
              "                <dd><code>v3.3.1</code></dd>\n",
              "              <dt>Master</dt>\n",
              "                <dd><code>local[*]</code></dd>\n",
              "              <dt>AppName</dt>\n",
              "                <dd><code>pyspark-shell</code></dd>\n",
              "            </dl>\n",
              "        </div>\n",
              "        \n",
              "            </div>\n",
              "        "
            ]
          },
          "metadata": {},
          "execution_count": 6
        }
      ]
    },
    {
      "cell_type": "code",
      "source": [
        "# Import a Spark function from library\n",
        "from pyspark.sql.functions import col"
      ],
      "metadata": {
        "id": "Fnbo8enthEIj"
      },
      "execution_count": 7,
      "outputs": []
    },
    {
      "cell_type": "code",
      "source": [
        "from pyspark.sql.functions import col\n",
        "from pyspark.ml.classification import LogisticRegression\n",
        "from pyspark.sql.functions import col\n",
        "import pandas as pd\n",
        "import numpy as np\n",
        "import os\n",
        "\n",
        "import matplotlib\n",
        "import matplotlib.pyplot as plt\n",
        "import seaborn as sns\n",
        "import ast\n",
        "from pyspark.sql.functions import desc\n",
        "\n",
        "import geopandas as gpd\n",
        "import folium\n",
        "\n",
        "from pyspark.ml.feature import VectorAssembler\n",
        "from pyspark.ml.feature import StandardScaler\n",
        "from pyspark.ml.feature import MinMaxScaler\n",
        "from pyspark.mllib.evaluation import MulticlassMetrics, BinaryClassificationMetrics\n",
        "from pyspark.ml.evaluation import BinaryClassificationEvaluator\n",
        "from datetime import datetime, timedelta\n",
        "from dateutil.relativedelta import relativedelta\n",
        "from pyspark.ml.classification import RandomForestClassifier\n",
        "import time\n",
        "# from dython import nominal\n",
        "\n",
        "# Apply the default theme\n",
        "sns.set_theme()\n"
      ],
      "metadata": {
        "id": "OzS71LcVhKDa"
      },
      "execution_count": 8,
      "outputs": []
    },
    {
      "cell_type": "markdown",
      "source": [
        "## (to be updated) Get access to blob storage\n",
        "- Reference from 261"
      ],
      "metadata": {
        "id": "g_W_ixoi2J-Z"
      }
    },
    {
      "cell_type": "code",
      "source": [
        "# Put at the top of any notebooks for storing in blob\n",
        "\n",
        "# from pyspark.sql.functions import col, max\n",
        "\n",
        "# blob_container = \"team06\" # The name of your container created in https://portal.azure.com\n",
        "# storage_account = \"apatel\" # The name of your Storage account created in https://portal.azure.com\n",
        "# secret_scope = \"team06\" # The name of the scope created in your local computer using the Databricks CLI\n",
        "# secret_key = \"team06\" # The name of the secret key created in your local computer using the Databricks CLI \n",
        "# blob_url = f\"wasbs://{blob_container}@{storage_account}.blob.core.windows.net\"\n",
        "# mount_path = \"/mnt/mids-w261\""
      ],
      "metadata": {
        "id": "XIXl0hNi2JMX"
      },
      "execution_count": 9,
      "outputs": []
    },
    {
      "cell_type": "markdown",
      "source": [
        "## Import csv\n",
        "sample csv"
      ],
      "metadata": {
        "id": "kn_eS60H20Va"
      }
    },
    {
      "cell_type": "code",
      "source": [
        "us_vcp_hourly_df = pd.read_csv(\"data_full_half_hourly_raw_v0_1_US-Vcp_mydrive.csv\")\n",
        "# Copied original file. It is needed to store in each user's mydrive\n"
      ],
      "metadata": {
        "id": "b-xYFWLbOwcv"
      },
      "execution_count": 10,
      "outputs": []
    },
    {
      "cell_type": "code",
      "source": [
        "us_vcp_hourly_df"
      ],
      "metadata": {
        "colab": {
          "base_uri": "https://localhost:8080/",
          "height": 488
        },
        "id": "kr0QM9Dk3_q_",
        "outputId": "46503a97-32b9-41c9-ebbc-fed2c10eb76f"
      },
      "execution_count": 11,
      "outputs": [
        {
          "output_type": "execute_result",
          "data": {
            "text/plain": [
              "        TIMESTAMP_START  TIMESTAMP_END   TA_F  TA_F_QC  TA_ERA  SW_IN_POT  \\\n",
              "0          200701010000   200701010030 -7.706        0  -9.299        0.0   \n",
              "1          200701010030   200701010100 -8.095        0  -9.672        0.0   \n",
              "2          200701010100   200701010130 -8.582        0 -10.044        0.0   \n",
              "3          200701010130   200701010200 -8.136        0 -10.417        0.0   \n",
              "4          200701010200   200701010230 -8.393        0 -10.789        0.0   \n",
              "...                 ...            ...    ...      ...     ...        ...   \n",
              "174523     201712312130   201712312200 -0.972        0   1.230        0.0   \n",
              "174524     201712312200   201712312230 -1.390        0   1.230        0.0   \n",
              "174525     201712312230   201712312300 -1.961        0   1.230        0.0   \n",
              "174526     201712312300   201712312330 -1.802        0   1.230        0.0   \n",
              "174527     201712312330   201801010000  2.327        1   1.230        0.0   \n",
              "\n",
              "        SW_IN_F  SW_IN_F_QC  SW_IN_ERA  LW_IN_F  ...      NIRv      b1  \\\n",
              "0           0.0           0      0.000  202.327  ...  0.110525  0.1631   \n",
              "1           0.0           0      0.000  202.327  ...  0.110525  0.1631   \n",
              "2           0.0           0      0.000  202.327  ...  0.110525  0.1631   \n",
              "3           0.0           0      0.000  202.327  ...  0.110525  0.1631   \n",
              "4           0.0           0      0.000  208.388  ...  0.110525  0.1631   \n",
              "...         ...         ...        ...      ...  ...       ...     ...   \n",
              "174523      0.0           0    137.007  243.894  ...  0.093599  0.0516   \n",
              "174524      0.0           0    137.007  243.894  ...  0.093599  0.0516   \n",
              "174525      0.0           0    137.007  243.894  ...  0.093599  0.0516   \n",
              "174526      0.0           0    137.007  243.894  ...  0.093599  0.0516   \n",
              "174527      0.0           0    137.007  243.894  ...  0.093599  0.0516   \n",
              "\n",
              "            b2      b3      b4      b5      b6      b7  IGBP  koppen  \n",
              "0       0.3285  0.1270  0.1362  0.1932  0.0567  0.0283   ENF    Cold  \n",
              "1       0.3285  0.1270  0.1362  0.1932  0.0567  0.0283   ENF    Cold  \n",
              "2       0.3285  0.1270  0.1362  0.1932  0.0567  0.0283   ENF    Cold  \n",
              "3       0.3285  0.1270  0.1362  0.1932  0.0567  0.0283   ENF    Cold  \n",
              "4       0.3285  0.1270  0.1362  0.1932  0.0567  0.0283   ENF    Cold  \n",
              "...        ...     ...     ...     ...     ...     ...   ...     ...  \n",
              "174523  0.1731  0.0283  0.0422  0.1897  0.1439  0.0878   ENF    Cold  \n",
              "174524  0.1731  0.0283  0.0422  0.1897  0.1439  0.0878   ENF    Cold  \n",
              "174525  0.1731  0.0283  0.0422  0.1897  0.1439  0.0878   ENF    Cold  \n",
              "174526  0.1731  0.0283  0.0422  0.1897  0.1439  0.0878   ENF    Cold  \n",
              "174527  0.1731  0.0283  0.0422  0.1897  0.1439  0.0878   ENF    Cold  \n",
              "\n",
              "[174528 rows x 64 columns]"
            ],
            "text/html": [
              "\n",
              "  <div id=\"df-d3de59d0-4cf3-462c-807e-003cae371de4\">\n",
              "    <div class=\"colab-df-container\">\n",
              "      <div>\n",
              "<style scoped>\n",
              "    .dataframe tbody tr th:only-of-type {\n",
              "        vertical-align: middle;\n",
              "    }\n",
              "\n",
              "    .dataframe tbody tr th {\n",
              "        vertical-align: top;\n",
              "    }\n",
              "\n",
              "    .dataframe thead th {\n",
              "        text-align: right;\n",
              "    }\n",
              "</style>\n",
              "<table border=\"1\" class=\"dataframe\">\n",
              "  <thead>\n",
              "    <tr style=\"text-align: right;\">\n",
              "      <th></th>\n",
              "      <th>TIMESTAMP_START</th>\n",
              "      <th>TIMESTAMP_END</th>\n",
              "      <th>TA_F</th>\n",
              "      <th>TA_F_QC</th>\n",
              "      <th>TA_ERA</th>\n",
              "      <th>SW_IN_POT</th>\n",
              "      <th>SW_IN_F</th>\n",
              "      <th>SW_IN_F_QC</th>\n",
              "      <th>SW_IN_ERA</th>\n",
              "      <th>LW_IN_F</th>\n",
              "      <th>...</th>\n",
              "      <th>NIRv</th>\n",
              "      <th>b1</th>\n",
              "      <th>b2</th>\n",
              "      <th>b3</th>\n",
              "      <th>b4</th>\n",
              "      <th>b5</th>\n",
              "      <th>b6</th>\n",
              "      <th>b7</th>\n",
              "      <th>IGBP</th>\n",
              "      <th>koppen</th>\n",
              "    </tr>\n",
              "  </thead>\n",
              "  <tbody>\n",
              "    <tr>\n",
              "      <th>0</th>\n",
              "      <td>200701010000</td>\n",
              "      <td>200701010030</td>\n",
              "      <td>-7.706</td>\n",
              "      <td>0</td>\n",
              "      <td>-9.299</td>\n",
              "      <td>0.0</td>\n",
              "      <td>0.0</td>\n",
              "      <td>0</td>\n",
              "      <td>0.000</td>\n",
              "      <td>202.327</td>\n",
              "      <td>...</td>\n",
              "      <td>0.110525</td>\n",
              "      <td>0.1631</td>\n",
              "      <td>0.3285</td>\n",
              "      <td>0.1270</td>\n",
              "      <td>0.1362</td>\n",
              "      <td>0.1932</td>\n",
              "      <td>0.0567</td>\n",
              "      <td>0.0283</td>\n",
              "      <td>ENF</td>\n",
              "      <td>Cold</td>\n",
              "    </tr>\n",
              "    <tr>\n",
              "      <th>1</th>\n",
              "      <td>200701010030</td>\n",
              "      <td>200701010100</td>\n",
              "      <td>-8.095</td>\n",
              "      <td>0</td>\n",
              "      <td>-9.672</td>\n",
              "      <td>0.0</td>\n",
              "      <td>0.0</td>\n",
              "      <td>0</td>\n",
              "      <td>0.000</td>\n",
              "      <td>202.327</td>\n",
              "      <td>...</td>\n",
              "      <td>0.110525</td>\n",
              "      <td>0.1631</td>\n",
              "      <td>0.3285</td>\n",
              "      <td>0.1270</td>\n",
              "      <td>0.1362</td>\n",
              "      <td>0.1932</td>\n",
              "      <td>0.0567</td>\n",
              "      <td>0.0283</td>\n",
              "      <td>ENF</td>\n",
              "      <td>Cold</td>\n",
              "    </tr>\n",
              "    <tr>\n",
              "      <th>2</th>\n",
              "      <td>200701010100</td>\n",
              "      <td>200701010130</td>\n",
              "      <td>-8.582</td>\n",
              "      <td>0</td>\n",
              "      <td>-10.044</td>\n",
              "      <td>0.0</td>\n",
              "      <td>0.0</td>\n",
              "      <td>0</td>\n",
              "      <td>0.000</td>\n",
              "      <td>202.327</td>\n",
              "      <td>...</td>\n",
              "      <td>0.110525</td>\n",
              "      <td>0.1631</td>\n",
              "      <td>0.3285</td>\n",
              "      <td>0.1270</td>\n",
              "      <td>0.1362</td>\n",
              "      <td>0.1932</td>\n",
              "      <td>0.0567</td>\n",
              "      <td>0.0283</td>\n",
              "      <td>ENF</td>\n",
              "      <td>Cold</td>\n",
              "    </tr>\n",
              "    <tr>\n",
              "      <th>3</th>\n",
              "      <td>200701010130</td>\n",
              "      <td>200701010200</td>\n",
              "      <td>-8.136</td>\n",
              "      <td>0</td>\n",
              "      <td>-10.417</td>\n",
              "      <td>0.0</td>\n",
              "      <td>0.0</td>\n",
              "      <td>0</td>\n",
              "      <td>0.000</td>\n",
              "      <td>202.327</td>\n",
              "      <td>...</td>\n",
              "      <td>0.110525</td>\n",
              "      <td>0.1631</td>\n",
              "      <td>0.3285</td>\n",
              "      <td>0.1270</td>\n",
              "      <td>0.1362</td>\n",
              "      <td>0.1932</td>\n",
              "      <td>0.0567</td>\n",
              "      <td>0.0283</td>\n",
              "      <td>ENF</td>\n",
              "      <td>Cold</td>\n",
              "    </tr>\n",
              "    <tr>\n",
              "      <th>4</th>\n",
              "      <td>200701010200</td>\n",
              "      <td>200701010230</td>\n",
              "      <td>-8.393</td>\n",
              "      <td>0</td>\n",
              "      <td>-10.789</td>\n",
              "      <td>0.0</td>\n",
              "      <td>0.0</td>\n",
              "      <td>0</td>\n",
              "      <td>0.000</td>\n",
              "      <td>208.388</td>\n",
              "      <td>...</td>\n",
              "      <td>0.110525</td>\n",
              "      <td>0.1631</td>\n",
              "      <td>0.3285</td>\n",
              "      <td>0.1270</td>\n",
              "      <td>0.1362</td>\n",
              "      <td>0.1932</td>\n",
              "      <td>0.0567</td>\n",
              "      <td>0.0283</td>\n",
              "      <td>ENF</td>\n",
              "      <td>Cold</td>\n",
              "    </tr>\n",
              "    <tr>\n",
              "      <th>...</th>\n",
              "      <td>...</td>\n",
              "      <td>...</td>\n",
              "      <td>...</td>\n",
              "      <td>...</td>\n",
              "      <td>...</td>\n",
              "      <td>...</td>\n",
              "      <td>...</td>\n",
              "      <td>...</td>\n",
              "      <td>...</td>\n",
              "      <td>...</td>\n",
              "      <td>...</td>\n",
              "      <td>...</td>\n",
              "      <td>...</td>\n",
              "      <td>...</td>\n",
              "      <td>...</td>\n",
              "      <td>...</td>\n",
              "      <td>...</td>\n",
              "      <td>...</td>\n",
              "      <td>...</td>\n",
              "      <td>...</td>\n",
              "      <td>...</td>\n",
              "    </tr>\n",
              "    <tr>\n",
              "      <th>174523</th>\n",
              "      <td>201712312130</td>\n",
              "      <td>201712312200</td>\n",
              "      <td>-0.972</td>\n",
              "      <td>0</td>\n",
              "      <td>1.230</td>\n",
              "      <td>0.0</td>\n",
              "      <td>0.0</td>\n",
              "      <td>0</td>\n",
              "      <td>137.007</td>\n",
              "      <td>243.894</td>\n",
              "      <td>...</td>\n",
              "      <td>0.093599</td>\n",
              "      <td>0.0516</td>\n",
              "      <td>0.1731</td>\n",
              "      <td>0.0283</td>\n",
              "      <td>0.0422</td>\n",
              "      <td>0.1897</td>\n",
              "      <td>0.1439</td>\n",
              "      <td>0.0878</td>\n",
              "      <td>ENF</td>\n",
              "      <td>Cold</td>\n",
              "    </tr>\n",
              "    <tr>\n",
              "      <th>174524</th>\n",
              "      <td>201712312200</td>\n",
              "      <td>201712312230</td>\n",
              "      <td>-1.390</td>\n",
              "      <td>0</td>\n",
              "      <td>1.230</td>\n",
              "      <td>0.0</td>\n",
              "      <td>0.0</td>\n",
              "      <td>0</td>\n",
              "      <td>137.007</td>\n",
              "      <td>243.894</td>\n",
              "      <td>...</td>\n",
              "      <td>0.093599</td>\n",
              "      <td>0.0516</td>\n",
              "      <td>0.1731</td>\n",
              "      <td>0.0283</td>\n",
              "      <td>0.0422</td>\n",
              "      <td>0.1897</td>\n",
              "      <td>0.1439</td>\n",
              "      <td>0.0878</td>\n",
              "      <td>ENF</td>\n",
              "      <td>Cold</td>\n",
              "    </tr>\n",
              "    <tr>\n",
              "      <th>174525</th>\n",
              "      <td>201712312230</td>\n",
              "      <td>201712312300</td>\n",
              "      <td>-1.961</td>\n",
              "      <td>0</td>\n",
              "      <td>1.230</td>\n",
              "      <td>0.0</td>\n",
              "      <td>0.0</td>\n",
              "      <td>0</td>\n",
              "      <td>137.007</td>\n",
              "      <td>243.894</td>\n",
              "      <td>...</td>\n",
              "      <td>0.093599</td>\n",
              "      <td>0.0516</td>\n",
              "      <td>0.1731</td>\n",
              "      <td>0.0283</td>\n",
              "      <td>0.0422</td>\n",
              "      <td>0.1897</td>\n",
              "      <td>0.1439</td>\n",
              "      <td>0.0878</td>\n",
              "      <td>ENF</td>\n",
              "      <td>Cold</td>\n",
              "    </tr>\n",
              "    <tr>\n",
              "      <th>174526</th>\n",
              "      <td>201712312300</td>\n",
              "      <td>201712312330</td>\n",
              "      <td>-1.802</td>\n",
              "      <td>0</td>\n",
              "      <td>1.230</td>\n",
              "      <td>0.0</td>\n",
              "      <td>0.0</td>\n",
              "      <td>0</td>\n",
              "      <td>137.007</td>\n",
              "      <td>243.894</td>\n",
              "      <td>...</td>\n",
              "      <td>0.093599</td>\n",
              "      <td>0.0516</td>\n",
              "      <td>0.1731</td>\n",
              "      <td>0.0283</td>\n",
              "      <td>0.0422</td>\n",
              "      <td>0.1897</td>\n",
              "      <td>0.1439</td>\n",
              "      <td>0.0878</td>\n",
              "      <td>ENF</td>\n",
              "      <td>Cold</td>\n",
              "    </tr>\n",
              "    <tr>\n",
              "      <th>174527</th>\n",
              "      <td>201712312330</td>\n",
              "      <td>201801010000</td>\n",
              "      <td>2.327</td>\n",
              "      <td>1</td>\n",
              "      <td>1.230</td>\n",
              "      <td>0.0</td>\n",
              "      <td>0.0</td>\n",
              "      <td>0</td>\n",
              "      <td>137.007</td>\n",
              "      <td>243.894</td>\n",
              "      <td>...</td>\n",
              "      <td>0.093599</td>\n",
              "      <td>0.0516</td>\n",
              "      <td>0.1731</td>\n",
              "      <td>0.0283</td>\n",
              "      <td>0.0422</td>\n",
              "      <td>0.1897</td>\n",
              "      <td>0.1439</td>\n",
              "      <td>0.0878</td>\n",
              "      <td>ENF</td>\n",
              "      <td>Cold</td>\n",
              "    </tr>\n",
              "  </tbody>\n",
              "</table>\n",
              "<p>174528 rows × 64 columns</p>\n",
              "</div>\n",
              "      <button class=\"colab-df-convert\" onclick=\"convertToInteractive('df-d3de59d0-4cf3-462c-807e-003cae371de4')\"\n",
              "              title=\"Convert this dataframe to an interactive table.\"\n",
              "              style=\"display:none;\">\n",
              "        \n",
              "  <svg xmlns=\"http://www.w3.org/2000/svg\" height=\"24px\"viewBox=\"0 0 24 24\"\n",
              "       width=\"24px\">\n",
              "    <path d=\"M0 0h24v24H0V0z\" fill=\"none\"/>\n",
              "    <path d=\"M18.56 5.44l.94 2.06.94-2.06 2.06-.94-2.06-.94-.94-2.06-.94 2.06-2.06.94zm-11 1L8.5 8.5l.94-2.06 2.06-.94-2.06-.94L8.5 2.5l-.94 2.06-2.06.94zm10 10l.94 2.06.94-2.06 2.06-.94-2.06-.94-.94-2.06-.94 2.06-2.06.94z\"/><path d=\"M17.41 7.96l-1.37-1.37c-.4-.4-.92-.59-1.43-.59-.52 0-1.04.2-1.43.59L10.3 9.45l-7.72 7.72c-.78.78-.78 2.05 0 2.83L4 21.41c.39.39.9.59 1.41.59.51 0 1.02-.2 1.41-.59l7.78-7.78 2.81-2.81c.8-.78.8-2.07 0-2.86zM5.41 20L4 18.59l7.72-7.72 1.47 1.35L5.41 20z\"/>\n",
              "  </svg>\n",
              "      </button>\n",
              "      \n",
              "  <style>\n",
              "    .colab-df-container {\n",
              "      display:flex;\n",
              "      flex-wrap:wrap;\n",
              "      gap: 12px;\n",
              "    }\n",
              "\n",
              "    .colab-df-convert {\n",
              "      background-color: #E8F0FE;\n",
              "      border: none;\n",
              "      border-radius: 50%;\n",
              "      cursor: pointer;\n",
              "      display: none;\n",
              "      fill: #1967D2;\n",
              "      height: 32px;\n",
              "      padding: 0 0 0 0;\n",
              "      width: 32px;\n",
              "    }\n",
              "\n",
              "    .colab-df-convert:hover {\n",
              "      background-color: #E2EBFA;\n",
              "      box-shadow: 0px 1px 2px rgba(60, 64, 67, 0.3), 0px 1px 3px 1px rgba(60, 64, 67, 0.15);\n",
              "      fill: #174EA6;\n",
              "    }\n",
              "\n",
              "    [theme=dark] .colab-df-convert {\n",
              "      background-color: #3B4455;\n",
              "      fill: #D2E3FC;\n",
              "    }\n",
              "\n",
              "    [theme=dark] .colab-df-convert:hover {\n",
              "      background-color: #434B5C;\n",
              "      box-shadow: 0px 1px 3px 1px rgba(0, 0, 0, 0.15);\n",
              "      filter: drop-shadow(0px 1px 2px rgba(0, 0, 0, 0.3));\n",
              "      fill: #FFFFFF;\n",
              "    }\n",
              "  </style>\n",
              "\n",
              "      <script>\n",
              "        const buttonEl =\n",
              "          document.querySelector('#df-d3de59d0-4cf3-462c-807e-003cae371de4 button.colab-df-convert');\n",
              "        buttonEl.style.display =\n",
              "          google.colab.kernel.accessAllowed ? 'block' : 'none';\n",
              "\n",
              "        async function convertToInteractive(key) {\n",
              "          const element = document.querySelector('#df-d3de59d0-4cf3-462c-807e-003cae371de4');\n",
              "          const dataTable =\n",
              "            await google.colab.kernel.invokeFunction('convertToInteractive',\n",
              "                                                     [key], {});\n",
              "          if (!dataTable) return;\n",
              "\n",
              "          const docLinkHtml = 'Like what you see? Visit the ' +\n",
              "            '<a target=\"_blank\" href=https://colab.research.google.com/notebooks/data_table.ipynb>data table notebook</a>'\n",
              "            + ' to learn more about interactive tables.';\n",
              "          element.innerHTML = '';\n",
              "          dataTable['output_type'] = 'display_data';\n",
              "          await google.colab.output.renderOutput(dataTable, element);\n",
              "          const docLink = document.createElement('div');\n",
              "          docLink.innerHTML = docLinkHtml;\n",
              "          element.appendChild(docLink);\n",
              "        }\n",
              "      </script>\n",
              "    </div>\n",
              "  </div>\n",
              "  "
            ]
          },
          "metadata": {},
          "execution_count": 11
        }
      ]
    },
    {
      "cell_type": "markdown",
      "source": [
        "### Add column that explains start time\n",
        "- whether its start of TIMESTAMP is \"XX:00\" or \"XX:30\"\n",
        "- XX:00 -> A\n",
        "- XX:30 -> B"
      ],
      "metadata": {
        "id": "54GflFPnPF2O"
      }
    },
    {
      "cell_type": "code",
      "source": [
        "len('200701010000')\n",
        "x = '200701010000'\n",
        "x[10:]"
      ],
      "metadata": {
        "colab": {
          "base_uri": "https://localhost:8080/",
          "height": 36
        },
        "id": "urEZyaATQUUZ",
        "outputId": "e352139d-0997-4909-e120-911b8cf58555"
      },
      "execution_count": 12,
      "outputs": [
        {
          "output_type": "execute_result",
          "data": {
            "text/plain": [
              "'00'"
            ],
            "application/vnd.google.colaboratory.intrinsic+json": {
              "type": "string"
            }
          },
          "metadata": {},
          "execution_count": 12
        }
      ]
    },
    {
      "cell_type": "code",
      "source": [
        "def minute_categorical(x):\n",
        "  if x == '00':\n",
        "    return 'A'\n",
        "  if x == '30':\n",
        "    return 'B'\n",
        "  else: \n",
        "    return 'NA'\n",
        "\n",
        "us_vcp_hourly_df['min_categorical'] = us_vcp_hourly_df['TIMESTAMP_START'].apply(lambda x: minute_categorical(str(x)[10:]))"
      ],
      "metadata": {
        "id": "zRBnnC0lOG_-"
      },
      "execution_count": 13,
      "outputs": []
    },
    {
      "cell_type": "code",
      "source": [
        "us_vcp_hourly_df[['TIMESTAMP_START','min_categorical']]"
      ],
      "metadata": {
        "colab": {
          "base_uri": "https://localhost:8080/",
          "height": 424
        },
        "id": "Af5mDOo5RYbo",
        "outputId": "eecdcf19-5559-4383-e494-6dec0a12283f"
      },
      "execution_count": 14,
      "outputs": [
        {
          "output_type": "execute_result",
          "data": {
            "text/plain": [
              "        TIMESTAMP_START min_categorical\n",
              "0          200701010000               A\n",
              "1          200701010030               B\n",
              "2          200701010100               A\n",
              "3          200701010130               B\n",
              "4          200701010200               A\n",
              "...                 ...             ...\n",
              "174523     201712312130               B\n",
              "174524     201712312200               A\n",
              "174525     201712312230               B\n",
              "174526     201712312300               A\n",
              "174527     201712312330               B\n",
              "\n",
              "[174528 rows x 2 columns]"
            ],
            "text/html": [
              "\n",
              "  <div id=\"df-a7d6db76-6895-4b18-814f-48fe1295874b\">\n",
              "    <div class=\"colab-df-container\">\n",
              "      <div>\n",
              "<style scoped>\n",
              "    .dataframe tbody tr th:only-of-type {\n",
              "        vertical-align: middle;\n",
              "    }\n",
              "\n",
              "    .dataframe tbody tr th {\n",
              "        vertical-align: top;\n",
              "    }\n",
              "\n",
              "    .dataframe thead th {\n",
              "        text-align: right;\n",
              "    }\n",
              "</style>\n",
              "<table border=\"1\" class=\"dataframe\">\n",
              "  <thead>\n",
              "    <tr style=\"text-align: right;\">\n",
              "      <th></th>\n",
              "      <th>TIMESTAMP_START</th>\n",
              "      <th>min_categorical</th>\n",
              "    </tr>\n",
              "  </thead>\n",
              "  <tbody>\n",
              "    <tr>\n",
              "      <th>0</th>\n",
              "      <td>200701010000</td>\n",
              "      <td>A</td>\n",
              "    </tr>\n",
              "    <tr>\n",
              "      <th>1</th>\n",
              "      <td>200701010030</td>\n",
              "      <td>B</td>\n",
              "    </tr>\n",
              "    <tr>\n",
              "      <th>2</th>\n",
              "      <td>200701010100</td>\n",
              "      <td>A</td>\n",
              "    </tr>\n",
              "    <tr>\n",
              "      <th>3</th>\n",
              "      <td>200701010130</td>\n",
              "      <td>B</td>\n",
              "    </tr>\n",
              "    <tr>\n",
              "      <th>4</th>\n",
              "      <td>200701010200</td>\n",
              "      <td>A</td>\n",
              "    </tr>\n",
              "    <tr>\n",
              "      <th>...</th>\n",
              "      <td>...</td>\n",
              "      <td>...</td>\n",
              "    </tr>\n",
              "    <tr>\n",
              "      <th>174523</th>\n",
              "      <td>201712312130</td>\n",
              "      <td>B</td>\n",
              "    </tr>\n",
              "    <tr>\n",
              "      <th>174524</th>\n",
              "      <td>201712312200</td>\n",
              "      <td>A</td>\n",
              "    </tr>\n",
              "    <tr>\n",
              "      <th>174525</th>\n",
              "      <td>201712312230</td>\n",
              "      <td>B</td>\n",
              "    </tr>\n",
              "    <tr>\n",
              "      <th>174526</th>\n",
              "      <td>201712312300</td>\n",
              "      <td>A</td>\n",
              "    </tr>\n",
              "    <tr>\n",
              "      <th>174527</th>\n",
              "      <td>201712312330</td>\n",
              "      <td>B</td>\n",
              "    </tr>\n",
              "  </tbody>\n",
              "</table>\n",
              "<p>174528 rows × 2 columns</p>\n",
              "</div>\n",
              "      <button class=\"colab-df-convert\" onclick=\"convertToInteractive('df-a7d6db76-6895-4b18-814f-48fe1295874b')\"\n",
              "              title=\"Convert this dataframe to an interactive table.\"\n",
              "              style=\"display:none;\">\n",
              "        \n",
              "  <svg xmlns=\"http://www.w3.org/2000/svg\" height=\"24px\"viewBox=\"0 0 24 24\"\n",
              "       width=\"24px\">\n",
              "    <path d=\"M0 0h24v24H0V0z\" fill=\"none\"/>\n",
              "    <path d=\"M18.56 5.44l.94 2.06.94-2.06 2.06-.94-2.06-.94-.94-2.06-.94 2.06-2.06.94zm-11 1L8.5 8.5l.94-2.06 2.06-.94-2.06-.94L8.5 2.5l-.94 2.06-2.06.94zm10 10l.94 2.06.94-2.06 2.06-.94-2.06-.94-.94-2.06-.94 2.06-2.06.94z\"/><path d=\"M17.41 7.96l-1.37-1.37c-.4-.4-.92-.59-1.43-.59-.52 0-1.04.2-1.43.59L10.3 9.45l-7.72 7.72c-.78.78-.78 2.05 0 2.83L4 21.41c.39.39.9.59 1.41.59.51 0 1.02-.2 1.41-.59l7.78-7.78 2.81-2.81c.8-.78.8-2.07 0-2.86zM5.41 20L4 18.59l7.72-7.72 1.47 1.35L5.41 20z\"/>\n",
              "  </svg>\n",
              "      </button>\n",
              "      \n",
              "  <style>\n",
              "    .colab-df-container {\n",
              "      display:flex;\n",
              "      flex-wrap:wrap;\n",
              "      gap: 12px;\n",
              "    }\n",
              "\n",
              "    .colab-df-convert {\n",
              "      background-color: #E8F0FE;\n",
              "      border: none;\n",
              "      border-radius: 50%;\n",
              "      cursor: pointer;\n",
              "      display: none;\n",
              "      fill: #1967D2;\n",
              "      height: 32px;\n",
              "      padding: 0 0 0 0;\n",
              "      width: 32px;\n",
              "    }\n",
              "\n",
              "    .colab-df-convert:hover {\n",
              "      background-color: #E2EBFA;\n",
              "      box-shadow: 0px 1px 2px rgba(60, 64, 67, 0.3), 0px 1px 3px 1px rgba(60, 64, 67, 0.15);\n",
              "      fill: #174EA6;\n",
              "    }\n",
              "\n",
              "    [theme=dark] .colab-df-convert {\n",
              "      background-color: #3B4455;\n",
              "      fill: #D2E3FC;\n",
              "    }\n",
              "\n",
              "    [theme=dark] .colab-df-convert:hover {\n",
              "      background-color: #434B5C;\n",
              "      box-shadow: 0px 1px 3px 1px rgba(0, 0, 0, 0.15);\n",
              "      filter: drop-shadow(0px 1px 2px rgba(0, 0, 0, 0.3));\n",
              "      fill: #FFFFFF;\n",
              "    }\n",
              "  </style>\n",
              "\n",
              "      <script>\n",
              "        const buttonEl =\n",
              "          document.querySelector('#df-a7d6db76-6895-4b18-814f-48fe1295874b button.colab-df-convert');\n",
              "        buttonEl.style.display =\n",
              "          google.colab.kernel.accessAllowed ? 'block' : 'none';\n",
              "\n",
              "        async function convertToInteractive(key) {\n",
              "          const element = document.querySelector('#df-a7d6db76-6895-4b18-814f-48fe1295874b');\n",
              "          const dataTable =\n",
              "            await google.colab.kernel.invokeFunction('convertToInteractive',\n",
              "                                                     [key], {});\n",
              "          if (!dataTable) return;\n",
              "\n",
              "          const docLinkHtml = 'Like what you see? Visit the ' +\n",
              "            '<a target=\"_blank\" href=https://colab.research.google.com/notebooks/data_table.ipynb>data table notebook</a>'\n",
              "            + ' to learn more about interactive tables.';\n",
              "          element.innerHTML = '';\n",
              "          dataTable['output_type'] = 'display_data';\n",
              "          await google.colab.output.renderOutput(dataTable, element);\n",
              "          const docLink = document.createElement('div');\n",
              "          docLink.innerHTML = docLinkHtml;\n",
              "          element.appendChild(docLink);\n",
              "        }\n",
              "      </script>\n",
              "    </div>\n",
              "  </div>\n",
              "  "
            ]
          },
          "metadata": {},
          "execution_count": 14
        }
      ]
    },
    {
      "cell_type": "code",
      "source": [
        "# Reduce the amount of dataset \n",
        "us_vcp_hourly_00_df = us_vcp_hourly_df[us_vcp_hourly_df['min_categorical'] == 'A']\n",
        "us_vcp_hourly_00_df"
      ],
      "metadata": {
        "colab": {
          "base_uri": "https://localhost:8080/",
          "height": 488
        },
        "id": "KckPIzWzSGWF",
        "outputId": "d0df65c8-7fd4-4a64-e30f-1cd5a023f93c"
      },
      "execution_count": 15,
      "outputs": [
        {
          "output_type": "execute_result",
          "data": {
            "text/plain": [
              "        TIMESTAMP_START  TIMESTAMP_END   TA_F  TA_F_QC  TA_ERA  SW_IN_POT  \\\n",
              "0          200701010000   200701010030 -7.706        0  -9.299        0.0   \n",
              "2          200701010100   200701010130 -8.582        0 -10.044        0.0   \n",
              "4          200701010200   200701010230 -8.393        0 -10.789        0.0   \n",
              "6          200701010300   200701010330 -8.417        0 -10.989        0.0   \n",
              "8          200701010400   200701010430 -8.239        0 -11.188        0.0   \n",
              "...                 ...            ...    ...      ...     ...        ...   \n",
              "174518     201712311900   201712311930  1.235        0   1.230        0.0   \n",
              "174520     201712312000   201712312030  0.711        0   1.230        0.0   \n",
              "174522     201712312100   201712312130 -1.199        0   1.230        0.0   \n",
              "174524     201712312200   201712312230 -1.390        0   1.230        0.0   \n",
              "174526     201712312300   201712312330 -1.802        0   1.230        0.0   \n",
              "\n",
              "        SW_IN_F  SW_IN_F_QC  SW_IN_ERA  LW_IN_F  ...      b1      b2      b3  \\\n",
              "0           0.0           0      0.000  202.327  ...  0.1631  0.3285  0.1270   \n",
              "2           0.0           0      0.000  202.327  ...  0.1631  0.3285  0.1270   \n",
              "4           0.0           0      0.000  208.388  ...  0.1631  0.3285  0.1270   \n",
              "6           0.0           0      0.000  208.388  ...  0.1631  0.3285  0.1270   \n",
              "8           0.0           0      0.000  208.388  ...  0.1631  0.3285  0.1270   \n",
              "...         ...         ...        ...      ...  ...     ...     ...     ...   \n",
              "174518      0.0           0    137.007  243.894  ...  0.0516  0.1731  0.0283   \n",
              "174520      0.0           0    137.007  243.894  ...  0.0516  0.1731  0.0283   \n",
              "174522      0.0           0    137.007  243.894  ...  0.0516  0.1731  0.0283   \n",
              "174524      0.0           0    137.007  243.894  ...  0.0516  0.1731  0.0283   \n",
              "174526      0.0           0    137.007  243.894  ...  0.0516  0.1731  0.0283   \n",
              "\n",
              "            b4      b5      b6      b7  IGBP  koppen  min_categorical  \n",
              "0       0.1362  0.1932  0.0567  0.0283   ENF    Cold                A  \n",
              "2       0.1362  0.1932  0.0567  0.0283   ENF    Cold                A  \n",
              "4       0.1362  0.1932  0.0567  0.0283   ENF    Cold                A  \n",
              "6       0.1362  0.1932  0.0567  0.0283   ENF    Cold                A  \n",
              "8       0.1362  0.1932  0.0567  0.0283   ENF    Cold                A  \n",
              "...        ...     ...     ...     ...   ...     ...              ...  \n",
              "174518  0.0422  0.1897  0.1439  0.0878   ENF    Cold                A  \n",
              "174520  0.0422  0.1897  0.1439  0.0878   ENF    Cold                A  \n",
              "174522  0.0422  0.1897  0.1439  0.0878   ENF    Cold                A  \n",
              "174524  0.0422  0.1897  0.1439  0.0878   ENF    Cold                A  \n",
              "174526  0.0422  0.1897  0.1439  0.0878   ENF    Cold                A  \n",
              "\n",
              "[87264 rows x 65 columns]"
            ],
            "text/html": [
              "\n",
              "  <div id=\"df-c56bbad5-bc3d-4cd4-adea-15f4dcdfddc7\">\n",
              "    <div class=\"colab-df-container\">\n",
              "      <div>\n",
              "<style scoped>\n",
              "    .dataframe tbody tr th:only-of-type {\n",
              "        vertical-align: middle;\n",
              "    }\n",
              "\n",
              "    .dataframe tbody tr th {\n",
              "        vertical-align: top;\n",
              "    }\n",
              "\n",
              "    .dataframe thead th {\n",
              "        text-align: right;\n",
              "    }\n",
              "</style>\n",
              "<table border=\"1\" class=\"dataframe\">\n",
              "  <thead>\n",
              "    <tr style=\"text-align: right;\">\n",
              "      <th></th>\n",
              "      <th>TIMESTAMP_START</th>\n",
              "      <th>TIMESTAMP_END</th>\n",
              "      <th>TA_F</th>\n",
              "      <th>TA_F_QC</th>\n",
              "      <th>TA_ERA</th>\n",
              "      <th>SW_IN_POT</th>\n",
              "      <th>SW_IN_F</th>\n",
              "      <th>SW_IN_F_QC</th>\n",
              "      <th>SW_IN_ERA</th>\n",
              "      <th>LW_IN_F</th>\n",
              "      <th>...</th>\n",
              "      <th>b1</th>\n",
              "      <th>b2</th>\n",
              "      <th>b3</th>\n",
              "      <th>b4</th>\n",
              "      <th>b5</th>\n",
              "      <th>b6</th>\n",
              "      <th>b7</th>\n",
              "      <th>IGBP</th>\n",
              "      <th>koppen</th>\n",
              "      <th>min_categorical</th>\n",
              "    </tr>\n",
              "  </thead>\n",
              "  <tbody>\n",
              "    <tr>\n",
              "      <th>0</th>\n",
              "      <td>200701010000</td>\n",
              "      <td>200701010030</td>\n",
              "      <td>-7.706</td>\n",
              "      <td>0</td>\n",
              "      <td>-9.299</td>\n",
              "      <td>0.0</td>\n",
              "      <td>0.0</td>\n",
              "      <td>0</td>\n",
              "      <td>0.000</td>\n",
              "      <td>202.327</td>\n",
              "      <td>...</td>\n",
              "      <td>0.1631</td>\n",
              "      <td>0.3285</td>\n",
              "      <td>0.1270</td>\n",
              "      <td>0.1362</td>\n",
              "      <td>0.1932</td>\n",
              "      <td>0.0567</td>\n",
              "      <td>0.0283</td>\n",
              "      <td>ENF</td>\n",
              "      <td>Cold</td>\n",
              "      <td>A</td>\n",
              "    </tr>\n",
              "    <tr>\n",
              "      <th>2</th>\n",
              "      <td>200701010100</td>\n",
              "      <td>200701010130</td>\n",
              "      <td>-8.582</td>\n",
              "      <td>0</td>\n",
              "      <td>-10.044</td>\n",
              "      <td>0.0</td>\n",
              "      <td>0.0</td>\n",
              "      <td>0</td>\n",
              "      <td>0.000</td>\n",
              "      <td>202.327</td>\n",
              "      <td>...</td>\n",
              "      <td>0.1631</td>\n",
              "      <td>0.3285</td>\n",
              "      <td>0.1270</td>\n",
              "      <td>0.1362</td>\n",
              "      <td>0.1932</td>\n",
              "      <td>0.0567</td>\n",
              "      <td>0.0283</td>\n",
              "      <td>ENF</td>\n",
              "      <td>Cold</td>\n",
              "      <td>A</td>\n",
              "    </tr>\n",
              "    <tr>\n",
              "      <th>4</th>\n",
              "      <td>200701010200</td>\n",
              "      <td>200701010230</td>\n",
              "      <td>-8.393</td>\n",
              "      <td>0</td>\n",
              "      <td>-10.789</td>\n",
              "      <td>0.0</td>\n",
              "      <td>0.0</td>\n",
              "      <td>0</td>\n",
              "      <td>0.000</td>\n",
              "      <td>208.388</td>\n",
              "      <td>...</td>\n",
              "      <td>0.1631</td>\n",
              "      <td>0.3285</td>\n",
              "      <td>0.1270</td>\n",
              "      <td>0.1362</td>\n",
              "      <td>0.1932</td>\n",
              "      <td>0.0567</td>\n",
              "      <td>0.0283</td>\n",
              "      <td>ENF</td>\n",
              "      <td>Cold</td>\n",
              "      <td>A</td>\n",
              "    </tr>\n",
              "    <tr>\n",
              "      <th>6</th>\n",
              "      <td>200701010300</td>\n",
              "      <td>200701010330</td>\n",
              "      <td>-8.417</td>\n",
              "      <td>0</td>\n",
              "      <td>-10.989</td>\n",
              "      <td>0.0</td>\n",
              "      <td>0.0</td>\n",
              "      <td>0</td>\n",
              "      <td>0.000</td>\n",
              "      <td>208.388</td>\n",
              "      <td>...</td>\n",
              "      <td>0.1631</td>\n",
              "      <td>0.3285</td>\n",
              "      <td>0.1270</td>\n",
              "      <td>0.1362</td>\n",
              "      <td>0.1932</td>\n",
              "      <td>0.0567</td>\n",
              "      <td>0.0283</td>\n",
              "      <td>ENF</td>\n",
              "      <td>Cold</td>\n",
              "      <td>A</td>\n",
              "    </tr>\n",
              "    <tr>\n",
              "      <th>8</th>\n",
              "      <td>200701010400</td>\n",
              "      <td>200701010430</td>\n",
              "      <td>-8.239</td>\n",
              "      <td>0</td>\n",
              "      <td>-11.188</td>\n",
              "      <td>0.0</td>\n",
              "      <td>0.0</td>\n",
              "      <td>0</td>\n",
              "      <td>0.000</td>\n",
              "      <td>208.388</td>\n",
              "      <td>...</td>\n",
              "      <td>0.1631</td>\n",
              "      <td>0.3285</td>\n",
              "      <td>0.1270</td>\n",
              "      <td>0.1362</td>\n",
              "      <td>0.1932</td>\n",
              "      <td>0.0567</td>\n",
              "      <td>0.0283</td>\n",
              "      <td>ENF</td>\n",
              "      <td>Cold</td>\n",
              "      <td>A</td>\n",
              "    </tr>\n",
              "    <tr>\n",
              "      <th>...</th>\n",
              "      <td>...</td>\n",
              "      <td>...</td>\n",
              "      <td>...</td>\n",
              "      <td>...</td>\n",
              "      <td>...</td>\n",
              "      <td>...</td>\n",
              "      <td>...</td>\n",
              "      <td>...</td>\n",
              "      <td>...</td>\n",
              "      <td>...</td>\n",
              "      <td>...</td>\n",
              "      <td>...</td>\n",
              "      <td>...</td>\n",
              "      <td>...</td>\n",
              "      <td>...</td>\n",
              "      <td>...</td>\n",
              "      <td>...</td>\n",
              "      <td>...</td>\n",
              "      <td>...</td>\n",
              "      <td>...</td>\n",
              "      <td>...</td>\n",
              "    </tr>\n",
              "    <tr>\n",
              "      <th>174518</th>\n",
              "      <td>201712311900</td>\n",
              "      <td>201712311930</td>\n",
              "      <td>1.235</td>\n",
              "      <td>0</td>\n",
              "      <td>1.230</td>\n",
              "      <td>0.0</td>\n",
              "      <td>0.0</td>\n",
              "      <td>0</td>\n",
              "      <td>137.007</td>\n",
              "      <td>243.894</td>\n",
              "      <td>...</td>\n",
              "      <td>0.0516</td>\n",
              "      <td>0.1731</td>\n",
              "      <td>0.0283</td>\n",
              "      <td>0.0422</td>\n",
              "      <td>0.1897</td>\n",
              "      <td>0.1439</td>\n",
              "      <td>0.0878</td>\n",
              "      <td>ENF</td>\n",
              "      <td>Cold</td>\n",
              "      <td>A</td>\n",
              "    </tr>\n",
              "    <tr>\n",
              "      <th>174520</th>\n",
              "      <td>201712312000</td>\n",
              "      <td>201712312030</td>\n",
              "      <td>0.711</td>\n",
              "      <td>0</td>\n",
              "      <td>1.230</td>\n",
              "      <td>0.0</td>\n",
              "      <td>0.0</td>\n",
              "      <td>0</td>\n",
              "      <td>137.007</td>\n",
              "      <td>243.894</td>\n",
              "      <td>...</td>\n",
              "      <td>0.0516</td>\n",
              "      <td>0.1731</td>\n",
              "      <td>0.0283</td>\n",
              "      <td>0.0422</td>\n",
              "      <td>0.1897</td>\n",
              "      <td>0.1439</td>\n",
              "      <td>0.0878</td>\n",
              "      <td>ENF</td>\n",
              "      <td>Cold</td>\n",
              "      <td>A</td>\n",
              "    </tr>\n",
              "    <tr>\n",
              "      <th>174522</th>\n",
              "      <td>201712312100</td>\n",
              "      <td>201712312130</td>\n",
              "      <td>-1.199</td>\n",
              "      <td>0</td>\n",
              "      <td>1.230</td>\n",
              "      <td>0.0</td>\n",
              "      <td>0.0</td>\n",
              "      <td>0</td>\n",
              "      <td>137.007</td>\n",
              "      <td>243.894</td>\n",
              "      <td>...</td>\n",
              "      <td>0.0516</td>\n",
              "      <td>0.1731</td>\n",
              "      <td>0.0283</td>\n",
              "      <td>0.0422</td>\n",
              "      <td>0.1897</td>\n",
              "      <td>0.1439</td>\n",
              "      <td>0.0878</td>\n",
              "      <td>ENF</td>\n",
              "      <td>Cold</td>\n",
              "      <td>A</td>\n",
              "    </tr>\n",
              "    <tr>\n",
              "      <th>174524</th>\n",
              "      <td>201712312200</td>\n",
              "      <td>201712312230</td>\n",
              "      <td>-1.390</td>\n",
              "      <td>0</td>\n",
              "      <td>1.230</td>\n",
              "      <td>0.0</td>\n",
              "      <td>0.0</td>\n",
              "      <td>0</td>\n",
              "      <td>137.007</td>\n",
              "      <td>243.894</td>\n",
              "      <td>...</td>\n",
              "      <td>0.0516</td>\n",
              "      <td>0.1731</td>\n",
              "      <td>0.0283</td>\n",
              "      <td>0.0422</td>\n",
              "      <td>0.1897</td>\n",
              "      <td>0.1439</td>\n",
              "      <td>0.0878</td>\n",
              "      <td>ENF</td>\n",
              "      <td>Cold</td>\n",
              "      <td>A</td>\n",
              "    </tr>\n",
              "    <tr>\n",
              "      <th>174526</th>\n",
              "      <td>201712312300</td>\n",
              "      <td>201712312330</td>\n",
              "      <td>-1.802</td>\n",
              "      <td>0</td>\n",
              "      <td>1.230</td>\n",
              "      <td>0.0</td>\n",
              "      <td>0.0</td>\n",
              "      <td>0</td>\n",
              "      <td>137.007</td>\n",
              "      <td>243.894</td>\n",
              "      <td>...</td>\n",
              "      <td>0.0516</td>\n",
              "      <td>0.1731</td>\n",
              "      <td>0.0283</td>\n",
              "      <td>0.0422</td>\n",
              "      <td>0.1897</td>\n",
              "      <td>0.1439</td>\n",
              "      <td>0.0878</td>\n",
              "      <td>ENF</td>\n",
              "      <td>Cold</td>\n",
              "      <td>A</td>\n",
              "    </tr>\n",
              "  </tbody>\n",
              "</table>\n",
              "<p>87264 rows × 65 columns</p>\n",
              "</div>\n",
              "      <button class=\"colab-df-convert\" onclick=\"convertToInteractive('df-c56bbad5-bc3d-4cd4-adea-15f4dcdfddc7')\"\n",
              "              title=\"Convert this dataframe to an interactive table.\"\n",
              "              style=\"display:none;\">\n",
              "        \n",
              "  <svg xmlns=\"http://www.w3.org/2000/svg\" height=\"24px\"viewBox=\"0 0 24 24\"\n",
              "       width=\"24px\">\n",
              "    <path d=\"M0 0h24v24H0V0z\" fill=\"none\"/>\n",
              "    <path d=\"M18.56 5.44l.94 2.06.94-2.06 2.06-.94-2.06-.94-.94-2.06-.94 2.06-2.06.94zm-11 1L8.5 8.5l.94-2.06 2.06-.94-2.06-.94L8.5 2.5l-.94 2.06-2.06.94zm10 10l.94 2.06.94-2.06 2.06-.94-2.06-.94-.94-2.06-.94 2.06-2.06.94z\"/><path d=\"M17.41 7.96l-1.37-1.37c-.4-.4-.92-.59-1.43-.59-.52 0-1.04.2-1.43.59L10.3 9.45l-7.72 7.72c-.78.78-.78 2.05 0 2.83L4 21.41c.39.39.9.59 1.41.59.51 0 1.02-.2 1.41-.59l7.78-7.78 2.81-2.81c.8-.78.8-2.07 0-2.86zM5.41 20L4 18.59l7.72-7.72 1.47 1.35L5.41 20z\"/>\n",
              "  </svg>\n",
              "      </button>\n",
              "      \n",
              "  <style>\n",
              "    .colab-df-container {\n",
              "      display:flex;\n",
              "      flex-wrap:wrap;\n",
              "      gap: 12px;\n",
              "    }\n",
              "\n",
              "    .colab-df-convert {\n",
              "      background-color: #E8F0FE;\n",
              "      border: none;\n",
              "      border-radius: 50%;\n",
              "      cursor: pointer;\n",
              "      display: none;\n",
              "      fill: #1967D2;\n",
              "      height: 32px;\n",
              "      padding: 0 0 0 0;\n",
              "      width: 32px;\n",
              "    }\n",
              "\n",
              "    .colab-df-convert:hover {\n",
              "      background-color: #E2EBFA;\n",
              "      box-shadow: 0px 1px 2px rgba(60, 64, 67, 0.3), 0px 1px 3px 1px rgba(60, 64, 67, 0.15);\n",
              "      fill: #174EA6;\n",
              "    }\n",
              "\n",
              "    [theme=dark] .colab-df-convert {\n",
              "      background-color: #3B4455;\n",
              "      fill: #D2E3FC;\n",
              "    }\n",
              "\n",
              "    [theme=dark] .colab-df-convert:hover {\n",
              "      background-color: #434B5C;\n",
              "      box-shadow: 0px 1px 3px 1px rgba(0, 0, 0, 0.15);\n",
              "      filter: drop-shadow(0px 1px 2px rgba(0, 0, 0, 0.3));\n",
              "      fill: #FFFFFF;\n",
              "    }\n",
              "  </style>\n",
              "\n",
              "      <script>\n",
              "        const buttonEl =\n",
              "          document.querySelector('#df-c56bbad5-bc3d-4cd4-adea-15f4dcdfddc7 button.colab-df-convert');\n",
              "        buttonEl.style.display =\n",
              "          google.colab.kernel.accessAllowed ? 'block' : 'none';\n",
              "\n",
              "        async function convertToInteractive(key) {\n",
              "          const element = document.querySelector('#df-c56bbad5-bc3d-4cd4-adea-15f4dcdfddc7');\n",
              "          const dataTable =\n",
              "            await google.colab.kernel.invokeFunction('convertToInteractive',\n",
              "                                                     [key], {});\n",
              "          if (!dataTable) return;\n",
              "\n",
              "          const docLinkHtml = 'Like what you see? Visit the ' +\n",
              "            '<a target=\"_blank\" href=https://colab.research.google.com/notebooks/data_table.ipynb>data table notebook</a>'\n",
              "            + ' to learn more about interactive tables.';\n",
              "          element.innerHTML = '';\n",
              "          dataTable['output_type'] = 'display_data';\n",
              "          await google.colab.output.renderOutput(dataTable, element);\n",
              "          const docLink = document.createElement('div');\n",
              "          docLink.innerHTML = docLinkHtml;\n",
              "          element.appendChild(docLink);\n",
              "        }\n",
              "      </script>\n",
              "    </div>\n",
              "  </div>\n",
              "  "
            ]
          },
          "metadata": {},
          "execution_count": 15
        }
      ]
    },
    {
      "cell_type": "markdown",
      "source": [
        "## Preprocess features"
      ],
      "metadata": {
        "id": "usJBIbtR3tJg"
      }
    },
    {
      "cell_type": "code",
      "source": [
        "# Original columns\n",
        "print(len(us_vcp_hourly_df.columns))\n",
        "us_vcp_hourly_df.columns"
      ],
      "metadata": {
        "colab": {
          "base_uri": "https://localhost:8080/"
        },
        "id": "X8eMlfJN30Dd",
        "outputId": "7ee8e25c-629f-41d3-b0d7-f80e773501a6"
      },
      "execution_count": 16,
      "outputs": [
        {
          "output_type": "stream",
          "name": "stdout",
          "text": [
            "65\n"
          ]
        },
        {
          "output_type": "execute_result",
          "data": {
            "text/plain": [
              "Index(['TIMESTAMP_START', 'TIMESTAMP_END', 'TA_F', 'TA_F_QC', 'TA_ERA',\n",
              "       'SW_IN_POT', 'SW_IN_F', 'SW_IN_F_QC', 'SW_IN_ERA', 'LW_IN_F',\n",
              "       'LW_IN_F_QC', 'LW_IN_ERA', 'VPD_F', 'VPD_F_QC', 'VPD_ERA', 'P_F',\n",
              "       'P_F_QC', 'P_ERA', 'PA_F', 'PA_F_QC', 'PA_ERA', 'NETRAD', 'PPFD_IN',\n",
              "       'G_F_MDS', 'G_F_MDS_QC', 'LE_F_MDS', 'LE_F_MDS_QC', 'LE_CORR',\n",
              "       'H_F_MDS', 'H_F_MDS_QC', 'H_CORR', 'NEE_VUT_REF', 'NEE_VUT_REF_QC',\n",
              "       'NEE_CUT_REF', 'NEE_CUT_REF_QC', 'GPP_NT_VUT_REF', 'GPP_DT_VUT_REF',\n",
              "       'GPP_NT_CUT_REF', 'GPP_DT_CUT_REF', 'RECO_NT_VUT_REF',\n",
              "       'RECO_DT_VUT_REF', 'RECO_NT_CUT_REF', 'RECO_DT_CUT_REF', 'datetime',\n",
              "       'year', 'month', 'day', 'hour', 'SITE_ID', 'date', 'NEE_VUT_REF_qa',\n",
              "       'SW_DIF', 'EVI', 'NDVI', 'NIRv', 'b1', 'b2', 'b3', 'b4', 'b5', 'b6',\n",
              "       'b7', 'IGBP', 'koppen', 'min_categorical'],\n",
              "      dtype='object')"
            ]
          },
          "metadata": {},
          "execution_count": 16
        }
      ]
    },
    {
      "cell_type": "markdown",
      "source": [
        "## Check how much NA/None exists in each column"
      ],
      "metadata": {
        "id": "Vfcz6dpopslF"
      }
    },
    {
      "cell_type": "code",
      "source": [
        "us_vcp_hourly_df.isna().sum()"
      ],
      "metadata": {
        "id": "eOdvjkmHpfl5",
        "outputId": "4dbb8a59-1a51-4462-ec79-5bdc8b77e6e7",
        "colab": {
          "base_uri": "https://localhost:8080/"
        }
      },
      "execution_count": 17,
      "outputs": [
        {
          "output_type": "execute_result",
          "data": {
            "text/plain": [
              "TIMESTAMP_START        0\n",
              "TIMESTAMP_END          0\n",
              "TA_F                   0\n",
              "TA_F_QC                0\n",
              "TA_ERA                 0\n",
              "                   ...  \n",
              "b6                 17664\n",
              "b7                 10896\n",
              "IGBP                   0\n",
              "koppen                 0\n",
              "min_categorical        0\n",
              "Length: 65, dtype: int64"
            ]
          },
          "metadata": {},
          "execution_count": 17
        }
      ]
    },
    {
      "cell_type": "code",
      "source": [
        "us_vcp_hourly_countNA = us_vcp_hourly_df.isna().sum()\n",
        "us_vcp_hourly_countNA"
      ],
      "metadata": {
        "colab": {
          "base_uri": "https://localhost:8080/"
        },
        "id": "8WM_JYQ9qhrq",
        "outputId": "422834c8-c8d7-412f-8cb7-3fdffd1275cf"
      },
      "execution_count": 18,
      "outputs": [
        {
          "output_type": "execute_result",
          "data": {
            "text/plain": [
              "TIMESTAMP_START        0\n",
              "TIMESTAMP_END          0\n",
              "TA_F                   0\n",
              "TA_F_QC                0\n",
              "TA_ERA                 0\n",
              "                   ...  \n",
              "b6                 17664\n",
              "b7                 10896\n",
              "IGBP                   0\n",
              "koppen                 0\n",
              "min_categorical        0\n",
              "Length: 65, dtype: int64"
            ]
          },
          "metadata": {},
          "execution_count": 18
        }
      ]
    },
    {
      "cell_type": "code",
      "source": [
        "us_vcp_hourly_countNA = pd.DataFrame(us_vcp_hourly_df.isna().sum())\n",
        "\n",
        "NA0_list = list(us_vcp_hourly_countNA[us_vcp_hourly_countNA[0] == 0].index)\n",
        "NA_list = list(us_vcp_hourly_countNA[us_vcp_hourly_countNA[0] != 0].index)"
      ],
      "metadata": {
        "id": "rtxRInDHphKo"
      },
      "execution_count": 19,
      "outputs": []
    },
    {
      "cell_type": "code",
      "source": [
        "us_vcp_hourly_countNA[us_vcp_hourly_countNA[0] != 0]"
      ],
      "metadata": {
        "colab": {
          "base_uri": "https://localhost:8080/",
          "height": 677
        },
        "id": "W4Stu5owqyTm",
        "outputId": "3da88bab-d27f-4088-bde1-c78f581aa16a"
      },
      "execution_count": 20,
      "outputs": [
        {
          "output_type": "execute_result",
          "data": {
            "text/plain": [
              "                     0\n",
              "NETRAD           50346\n",
              "PPFD_IN          13861\n",
              "G_F_MDS         174528\n",
              "G_F_MDS_QC      174528\n",
              "LE_F_MDS_QC     174528\n",
              "LE_CORR         174528\n",
              "H_F_MDS_QC      174528\n",
              "H_CORR          174528\n",
              "NEE_VUT_REF_qa    7628\n",
              "SW_DIF          174528\n",
              "EVI              10992\n",
              "NDVI             10944\n",
              "NIRv             10944\n",
              "b1               10944\n",
              "b2               10896\n",
              "b3               10992\n",
              "b4               10944\n",
              "b5               12240\n",
              "b6               17664\n",
              "b7               10896"
            ],
            "text/html": [
              "\n",
              "  <div id=\"df-cad62080-c513-4f9d-97e3-ed2ed64d4ea1\">\n",
              "    <div class=\"colab-df-container\">\n",
              "      <div>\n",
              "<style scoped>\n",
              "    .dataframe tbody tr th:only-of-type {\n",
              "        vertical-align: middle;\n",
              "    }\n",
              "\n",
              "    .dataframe tbody tr th {\n",
              "        vertical-align: top;\n",
              "    }\n",
              "\n",
              "    .dataframe thead th {\n",
              "        text-align: right;\n",
              "    }\n",
              "</style>\n",
              "<table border=\"1\" class=\"dataframe\">\n",
              "  <thead>\n",
              "    <tr style=\"text-align: right;\">\n",
              "      <th></th>\n",
              "      <th>0</th>\n",
              "    </tr>\n",
              "  </thead>\n",
              "  <tbody>\n",
              "    <tr>\n",
              "      <th>NETRAD</th>\n",
              "      <td>50346</td>\n",
              "    </tr>\n",
              "    <tr>\n",
              "      <th>PPFD_IN</th>\n",
              "      <td>13861</td>\n",
              "    </tr>\n",
              "    <tr>\n",
              "      <th>G_F_MDS</th>\n",
              "      <td>174528</td>\n",
              "    </tr>\n",
              "    <tr>\n",
              "      <th>G_F_MDS_QC</th>\n",
              "      <td>174528</td>\n",
              "    </tr>\n",
              "    <tr>\n",
              "      <th>LE_F_MDS_QC</th>\n",
              "      <td>174528</td>\n",
              "    </tr>\n",
              "    <tr>\n",
              "      <th>LE_CORR</th>\n",
              "      <td>174528</td>\n",
              "    </tr>\n",
              "    <tr>\n",
              "      <th>H_F_MDS_QC</th>\n",
              "      <td>174528</td>\n",
              "    </tr>\n",
              "    <tr>\n",
              "      <th>H_CORR</th>\n",
              "      <td>174528</td>\n",
              "    </tr>\n",
              "    <tr>\n",
              "      <th>NEE_VUT_REF_qa</th>\n",
              "      <td>7628</td>\n",
              "    </tr>\n",
              "    <tr>\n",
              "      <th>SW_DIF</th>\n",
              "      <td>174528</td>\n",
              "    </tr>\n",
              "    <tr>\n",
              "      <th>EVI</th>\n",
              "      <td>10992</td>\n",
              "    </tr>\n",
              "    <tr>\n",
              "      <th>NDVI</th>\n",
              "      <td>10944</td>\n",
              "    </tr>\n",
              "    <tr>\n",
              "      <th>NIRv</th>\n",
              "      <td>10944</td>\n",
              "    </tr>\n",
              "    <tr>\n",
              "      <th>b1</th>\n",
              "      <td>10944</td>\n",
              "    </tr>\n",
              "    <tr>\n",
              "      <th>b2</th>\n",
              "      <td>10896</td>\n",
              "    </tr>\n",
              "    <tr>\n",
              "      <th>b3</th>\n",
              "      <td>10992</td>\n",
              "    </tr>\n",
              "    <tr>\n",
              "      <th>b4</th>\n",
              "      <td>10944</td>\n",
              "    </tr>\n",
              "    <tr>\n",
              "      <th>b5</th>\n",
              "      <td>12240</td>\n",
              "    </tr>\n",
              "    <tr>\n",
              "      <th>b6</th>\n",
              "      <td>17664</td>\n",
              "    </tr>\n",
              "    <tr>\n",
              "      <th>b7</th>\n",
              "      <td>10896</td>\n",
              "    </tr>\n",
              "  </tbody>\n",
              "</table>\n",
              "</div>\n",
              "      <button class=\"colab-df-convert\" onclick=\"convertToInteractive('df-cad62080-c513-4f9d-97e3-ed2ed64d4ea1')\"\n",
              "              title=\"Convert this dataframe to an interactive table.\"\n",
              "              style=\"display:none;\">\n",
              "        \n",
              "  <svg xmlns=\"http://www.w3.org/2000/svg\" height=\"24px\"viewBox=\"0 0 24 24\"\n",
              "       width=\"24px\">\n",
              "    <path d=\"M0 0h24v24H0V0z\" fill=\"none\"/>\n",
              "    <path d=\"M18.56 5.44l.94 2.06.94-2.06 2.06-.94-2.06-.94-.94-2.06-.94 2.06-2.06.94zm-11 1L8.5 8.5l.94-2.06 2.06-.94-2.06-.94L8.5 2.5l-.94 2.06-2.06.94zm10 10l.94 2.06.94-2.06 2.06-.94-2.06-.94-.94-2.06-.94 2.06-2.06.94z\"/><path d=\"M17.41 7.96l-1.37-1.37c-.4-.4-.92-.59-1.43-.59-.52 0-1.04.2-1.43.59L10.3 9.45l-7.72 7.72c-.78.78-.78 2.05 0 2.83L4 21.41c.39.39.9.59 1.41.59.51 0 1.02-.2 1.41-.59l7.78-7.78 2.81-2.81c.8-.78.8-2.07 0-2.86zM5.41 20L4 18.59l7.72-7.72 1.47 1.35L5.41 20z\"/>\n",
              "  </svg>\n",
              "      </button>\n",
              "      \n",
              "  <style>\n",
              "    .colab-df-container {\n",
              "      display:flex;\n",
              "      flex-wrap:wrap;\n",
              "      gap: 12px;\n",
              "    }\n",
              "\n",
              "    .colab-df-convert {\n",
              "      background-color: #E8F0FE;\n",
              "      border: none;\n",
              "      border-radius: 50%;\n",
              "      cursor: pointer;\n",
              "      display: none;\n",
              "      fill: #1967D2;\n",
              "      height: 32px;\n",
              "      padding: 0 0 0 0;\n",
              "      width: 32px;\n",
              "    }\n",
              "\n",
              "    .colab-df-convert:hover {\n",
              "      background-color: #E2EBFA;\n",
              "      box-shadow: 0px 1px 2px rgba(60, 64, 67, 0.3), 0px 1px 3px 1px rgba(60, 64, 67, 0.15);\n",
              "      fill: #174EA6;\n",
              "    }\n",
              "\n",
              "    [theme=dark] .colab-df-convert {\n",
              "      background-color: #3B4455;\n",
              "      fill: #D2E3FC;\n",
              "    }\n",
              "\n",
              "    [theme=dark] .colab-df-convert:hover {\n",
              "      background-color: #434B5C;\n",
              "      box-shadow: 0px 1px 3px 1px rgba(0, 0, 0, 0.15);\n",
              "      filter: drop-shadow(0px 1px 2px rgba(0, 0, 0, 0.3));\n",
              "      fill: #FFFFFF;\n",
              "    }\n",
              "  </style>\n",
              "\n",
              "      <script>\n",
              "        const buttonEl =\n",
              "          document.querySelector('#df-cad62080-c513-4f9d-97e3-ed2ed64d4ea1 button.colab-df-convert');\n",
              "        buttonEl.style.display =\n",
              "          google.colab.kernel.accessAllowed ? 'block' : 'none';\n",
              "\n",
              "        async function convertToInteractive(key) {\n",
              "          const element = document.querySelector('#df-cad62080-c513-4f9d-97e3-ed2ed64d4ea1');\n",
              "          const dataTable =\n",
              "            await google.colab.kernel.invokeFunction('convertToInteractive',\n",
              "                                                     [key], {});\n",
              "          if (!dataTable) return;\n",
              "\n",
              "          const docLinkHtml = 'Like what you see? Visit the ' +\n",
              "            '<a target=\"_blank\" href=https://colab.research.google.com/notebooks/data_table.ipynb>data table notebook</a>'\n",
              "            + ' to learn more about interactive tables.';\n",
              "          element.innerHTML = '';\n",
              "          dataTable['output_type'] = 'display_data';\n",
              "          await google.colab.output.renderOutput(dataTable, element);\n",
              "          const docLink = document.createElement('div');\n",
              "          docLink.innerHTML = docLinkHtml;\n",
              "          element.appendChild(docLink);\n",
              "        }\n",
              "      </script>\n",
              "    </div>\n",
              "  </div>\n",
              "  "
            ]
          },
          "metadata": {},
          "execution_count": 20
        }
      ]
    },
    {
      "cell_type": "code",
      "source": [
        "# Features used for this analysis\n",
        "output_var = 'GPP_NT_VUT_REF'\n",
        "# other options\n",
        "output_related_var = ['NEE_VUT_REF', 'NEE_VUT_REF_QC',\n",
        "       'NEE_CUT_REF', 'NEE_CUT_REF_QC', 'GPP_NT_VUT_REF', 'GPP_DT_VUT_REF',\n",
        "       'GPP_NT_CUT_REF', 'GPP_DT_CUT_REF', 'RECO_NT_VUT_REF',\n",
        "       'RECO_DT_VUT_REF', 'RECO_NT_CUT_REF', 'RECO_DT_CUT_REF',\n",
        "       'NEE_VUT_REF_qa']\n",
        "\n",
        "pred_var_numeric = ['TA_F', 'TA_ERA','SW_IN_POT', 'SW_IN_F','SW_IN_ERA',\n",
        "                 'LW_IN_F','LW_IN_ERA', 'VPD_F', 'VPD_ERA',\n",
        "                 'P_F','P_ERA', 'PA_F',  'PA_ERA', 'NETRAD', 'PPFD_IN',\n",
        "                 'LE_F_MDS', 'H_F_MDS', 'EVI', 'NDVI', 'NIRv',\n",
        "                 'b1', 'b2', 'b3', 'b4', 'b5', 'b6','b7',\n",
        "                 'year', 'month', 'day', 'hour' ]\n",
        "\n",
        "pred_var_categorical = ['koppen']\n",
        "\n",
        "other_var =  ['TIMESTAMP_START', 'TIMESTAMP_END', 'datetime',\n",
        "              'SITE_ID', 'date', 'IGBP',\n",
        "              'koppen']\n",
        "\n",
        "qc_flags = ['TA_F_QC','SW_IN_F_QC','LW_IN_F_QC','VPD_F_QC',\n",
        "            'P_F_QC', 'PA_F_QC','G_F_MDS_QC', 'LE_F_MDS_QC',\n",
        "            'H_F_MDS_QC'] \n",
        "\n",
        "NA_list = ['G_F_MDS', 'LE_CORR', 'H_CORR','SW_DIF']\n",
        "           # 'G_F_MDS_QC', 'LE_F_MDS_QC', 'H_F_MDS_QC' is skipped because they are included in qc flags\n",
        "len(output_related_var + pred_var_numeric + pred_var_categorical + other_var + qc_flags + NA_list)\n",
        "# output_var is included in output_related_var"
      ],
      "metadata": {
        "colab": {
          "base_uri": "https://localhost:8080/"
        },
        "id": "etpqWuf7Cs0A",
        "outputId": "ac3acc5f-ef36-40b9-bd7c-5b47a4fa3742"
      },
      "execution_count": 28,
      "outputs": [
        {
          "output_type": "execute_result",
          "data": {
            "text/plain": [
              "65"
            ]
          },
          "metadata": {},
          "execution_count": 28
        }
      ]
    },
    {
      "cell_type": "code",
      "source": [
        "# Check if all the features are included in one of the four\n",
        "total = output_related_var + pred_var_numeric + pred_var_categorical + other_var + qc_flags + NA_list\n",
        "for i in us_vcp_hourly_df.columns:\n",
        "  if i not in total:\n",
        "    print(i)"
      ],
      "metadata": {
        "colab": {
          "base_uri": "https://localhost:8080/"
        },
        "id": "SffVQNUWNdyb",
        "outputId": "1aab2c10-f66d-49cb-f251-826871bb0964"
      },
      "execution_count": 29,
      "outputs": [
        {
          "output_type": "stream",
          "name": "stdout",
          "text": [
            "min_categorical\n"
          ]
        }
      ]
    },
    {
      "cell_type": "markdown",
      "source": [
        "### Predictor variables(candidates)"
      ],
      "metadata": {
        "id": "_XZD1VjVLzqP"
      }
    },
    {
      "cell_type": "markdown",
      "source": [
        "| feature name |     source    |                                                              definition                                                              |\n",
        "|:------------:|:-------------:|:------------------------------------------------------------------------------------------------------------------------------------:|\n",
        "| TA_F         |    FLUXNET    | Air temperature, consolidated from TA_F_MDS and TA_ERA                                                                               |\n",
        "| TA_ERA       |    FLUXNET    | Air temperature, downscaled from ERA, linearly regressed using measured only site data                                               |\n",
        "| SW_IN_POT    |    FLUXNET    | Shortwave radiation, incoming, potential (top of atmosphere)                                                                         |\n",
        "| SW_IN_F      |    FLUXNET    | Shortwave radiation,  incoming consolidated from SW_IN_F_MDS and SW_IN_ERA (negative values set to zero)                             |\n",
        "| SW_IN_ERA    |    FLUXNET    | Shortwave radiation, incoming, downscaled from ERA,  linearly regressed using measured only site data  (negative values set to zero) |\n",
        "| LW_IN_F      |    FLUXNET    | Longwave radiation, incoming, consolidated from LW_IN_F_MDS and LW_IN_ERA                                                            |\n",
        "| LW_IN_ERA    |    FLUXNET    | Longwave radiation, incoming, downscaled from ERA, linearly regressed using measured only site data                                  |\n",
        "| VPD_F        |    FLUXNET    | N/A                                                                                                                                  |\n",
        "| VPD_ERA      |    FLUXNET    | Vapor Pressure Deficit, downscaled from ERA, linearly regressed using measured only site data                                        |\n",
        "| P_F          |    FLUXNET    | Precipitation consolidated from P and P_ERA                                                                                          |\n",
        "| P_ERA        |    FLUXNET    | Precipitation, downscaled from ERA, linearly regressed using measured only site data                                                 |\n",
        "| PA_F         |    FLUXNET    | Atmospheric pressure consolidated from PA and PA_ERA                                                                                 |\n",
        "| PA_ERA       |    FLUXNET    | Atmospheric pressure, downscaled from ERA, linearly regressed using measured only site data                                          |\n",
        "| NETRAD       |    FLUXNET    | Net radiation                                                                                                                        |\n",
        "| PPFD_IN      |    FLUXNET    | Photosynthetic photon flux density, incoming                                                                                         |\n",
        "| G_F_MDS      |    FLUXNET    | Soil heat flux                                                                                                                       |\n",
        "| LE_F_MDS     |    FLUXNET    | Latent heat flux, gapfilled using MDS method                                                                                         |\n",
        "| LE_CORR      |    FLUXNET    | Latent heat flux, corrected LE_F_MDS by energy balance closure correction factor                                                     |\n",
        "| H_F_MDS      |    FLUXNET    | Sensible heat flux, gapfilled using MDS method                                                                                       |\n",
        "| H_CORR       |    FLUXNET    | Sensible heat flux, corrected H_F_MDS by energy balance closure correction factor                                                    |\n",
        "| SW_DIF       |    FLUXNET    | Shortwave radiation, diffuse incoming                                                                                                |\n",
        "| EVI          |    MCD43C4    | Enhanced Vegetation Index (EVI)                                                                                                      |\n",
        "| NDVI         |    MCD43C4    | Normalized Difference Vegetation Index (NDVI)                                                                                        |\n",
        "| NIRv         |    MCD43C4    | NIRv d                                                                                                                               |\n",
        "| b1           |    MCD43C4    | Surface reflectance Band 1                                                                                                           |\n",
        "| b2           |    MCD43C4    | Surface reflectance Band 2 (nir)                                                                                                     |\n",
        "| b3           |    MCD43C4    | Surface reflectance Band 3 (blue)                                                                                                    |\n",
        "| b4           |    MCD43C4    | Surface reflectance Band 4 (green)                                                                                                   |\n",
        "| b5           |    MCD43C4    | Surface reflectance Band 5 (SWIR1)                                                                                                   |\n",
        "| b6           |    MCD43C4    | Surface reflectance Band 6 (SWIR2)                                                                                                   |\n",
        "| b7           |    MCD43C4    | Surface reflectance Band 7 (SWIR3)                                                                                                   |\n",
        "| koppen       | Koppen-Geiger | Climate zone (one-hot encoding)                                                                                                      |"
      ],
      "metadata": {
        "id": "_W6FA2RwKZwk"
      }
    },
    {
      "cell_type": "markdown",
      "source": [
        "---\n",
        "*Following process use only Spark(N0 PANDAS)*"
      ],
      "metadata": {
        "id": "qI0EP8ooYQWb"
      }
    },
    {
      "cell_type": "markdown",
      "source": [
        "# Use parquet -> Spark df as preparation for global data"
      ],
      "metadata": {
        "id": "q4kQt1rwd9aB"
      }
    },
    {
      "cell_type": "markdown",
      "source": [
        "## DF to Parquet format\n",
        "- Pandas is converted to parquet in order to make the following code usable with global data in AWS"
      ],
      "metadata": {
        "id": "d8rrnNxPXdko"
      }
    },
    {
      "cell_type": "code",
      "source": [
        "type(us_vcp_hourly_00_df)"
      ],
      "metadata": {
        "colab": {
          "base_uri": "https://localhost:8080/"
        },
        "id": "Xd0tP_T6bNsg",
        "outputId": "a23c67da-75c3-4ebe-e3dd-3ac7d9ccb3af"
      },
      "execution_count": 30,
      "outputs": [
        {
          "output_type": "execute_result",
          "data": {
            "text/plain": [
              "pandas.core.frame.DataFrame"
            ]
          },
          "metadata": {},
          "execution_count": 30
        }
      ]
    },
    {
      "cell_type": "markdown",
      "source": [
        "### Method 1"
      ],
      "metadata": {
        "id": "Qb9AtztzeKd9"
      }
    },
    {
      "cell_type": "code",
      "source": [
        "!pip install fastparquet"
      ],
      "metadata": {
        "colab": {
          "base_uri": "https://localhost:8080/",
          "height": 506
        },
        "id": "2AYJCcKCbcsD",
        "outputId": "cfcc38b0-ef8d-49c2-8d8d-988a86fd8822"
      },
      "execution_count": 31,
      "outputs": [
        {
          "output_type": "stream",
          "name": "stdout",
          "text": [
            "Looking in indexes: https://pypi.org/simple, https://us-python.pkg.dev/colab-wheels/public/simple/\n",
            "Collecting fastparquet\n",
            "  Downloading fastparquet-2023.1.0-cp38-cp38-manylinux_2_17_x86_64.manylinux2014_x86_64.whl (1.6 MB)\n",
            "\u001b[2K     \u001b[90m━━━━━━━━━━━━━━━━━━━━━━━━━━━━━━━━━━━━━━━━\u001b[0m \u001b[32m1.6/1.6 MB\u001b[0m \u001b[31m22.3 MB/s\u001b[0m eta \u001b[36m0:00:00\u001b[0m\n",
            "\u001b[?25hRequirement already satisfied: fsspec in /usr/local/lib/python3.8/dist-packages (from fastparquet) (2023.1.0)\n",
            "Collecting cramjam>=2.3\n",
            "  Downloading cramjam-2.6.2-cp38-cp38-manylinux_2_17_x86_64.manylinux2014_x86_64.whl (2.0 MB)\n",
            "\u001b[2K     \u001b[90m━━━━━━━━━━━━━━━━━━━━━━━━━━━━━━━━━━━━━━━━\u001b[0m \u001b[32m2.0/2.0 MB\u001b[0m \u001b[31m58.0 MB/s\u001b[0m eta \u001b[36m0:00:00\u001b[0m\n",
            "\u001b[?25hRequirement already satisfied: numpy>=1.20.3 in /usr/local/lib/python3.8/dist-packages (from fastparquet) (1.21.6)\n",
            "Collecting pandas>=1.5.0\n",
            "  Downloading pandas-1.5.3-cp38-cp38-manylinux_2_17_x86_64.manylinux2014_x86_64.whl (12.2 MB)\n",
            "\u001b[2K     \u001b[90m━━━━━━━━━━━━━━━━━━━━━━━━━━━━━━━━━━━━━━━━\u001b[0m \u001b[32m12.2/12.2 MB\u001b[0m \u001b[31m79.5 MB/s\u001b[0m eta \u001b[36m0:00:00\u001b[0m\n",
            "\u001b[?25hRequirement already satisfied: packaging in /usr/local/lib/python3.8/dist-packages (from fastparquet) (23.0)\n",
            "Requirement already satisfied: python-dateutil>=2.8.1 in /usr/local/lib/python3.8/dist-packages (from pandas>=1.5.0->fastparquet) (2.8.2)\n",
            "Requirement already satisfied: pytz>=2020.1 in /usr/local/lib/python3.8/dist-packages (from pandas>=1.5.0->fastparquet) (2022.7.1)\n",
            "Requirement already satisfied: six>=1.5 in /usr/local/lib/python3.8/dist-packages (from python-dateutil>=2.8.1->pandas>=1.5.0->fastparquet) (1.15.0)\n",
            "Installing collected packages: cramjam, pandas, fastparquet\n",
            "  Attempting uninstall: pandas\n",
            "    Found existing installation: pandas 1.3.5\n",
            "    Uninstalling pandas-1.3.5:\n",
            "      Successfully uninstalled pandas-1.3.5\n",
            "Successfully installed cramjam-2.6.2 fastparquet-2023.1.0 pandas-1.5.3\n"
          ]
        },
        {
          "output_type": "display_data",
          "data": {
            "application/vnd.colab-display-data+json": {
              "pip_warning": {
                "packages": [
                  "pandas"
                ]
              }
            }
          },
          "metadata": {}
        }
      ]
    },
    {
      "cell_type": "code",
      "source": [
        "us_vcp_hourly_00_df.to_parquet('us_vcp_hourly_00_pq', engine='fastparquet')\n",
        "us_vcp_hourly_df.to_parquet('us_vcp_hourly_pq', engine='fastparquet')"
      ],
      "metadata": {
        "id": "Oa8fI0_xdN1a"
      },
      "execution_count": 32,
      "outputs": []
    },
    {
      "cell_type": "markdown",
      "source": [
        "### Method 2"
      ],
      "metadata": {
        "id": "kFelfgXQeNpG"
      }
    },
    {
      "cell_type": "code",
      "source": [
        "# Convert df to parquet\n",
        "import pyarrow as pa\n",
        "import pyarrow.parquet as pq\n",
        "\n",
        "# Convert DataFrame to Apache Arrow Table\n",
        "table = pa.Table.from_pandas(us_vcp_hourly_00_df)\n",
        "# Second, write the table into parquet file say file_name.parquet\n",
        "# Parquet with Brotli compression\n",
        "pq.write_table(table, 'us_vcp_hourly_00_pq.parquet')"
      ],
      "metadata": {
        "id": "3Ted6TVhXi4h"
      },
      "execution_count": 33,
      "outputs": []
    },
    {
      "cell_type": "markdown",
      "source": [
        "## parquet to Spark df "
      ],
      "metadata": {
        "id": "p2salxn1eiE1"
      }
    },
    {
      "cell_type": "code",
      "source": [
        "# Parquet is read from \n",
        "# When running Spark in AWS through the access to Azure, update the location and file name \n",
        "us_vcp_hourly_00_sdf = spark.read.parquet('us_vcp_hourly_00_pq')\n",
        "us_vcp_hourly_00_sdf2 = spark.read.parquet('us_vcp_hourly_00_pq.parquet')\n",
        "us_vcp_hourly_sdf = spark.read.parquet('us_vcp_hourly_pq')"
      ],
      "metadata": {
        "id": "3rJHcmg0YoBq"
      },
      "execution_count": 34,
      "outputs": []
    },
    {
      "cell_type": "code",
      "source": [
        "us_vcp_hourly_00_sdf.printSchema()"
      ],
      "metadata": {
        "colab": {
          "base_uri": "https://localhost:8080/"
        },
        "id": "HJW15CSPwSA4",
        "outputId": "44b952d1-4535-4378-83d9-63056afaf5bd"
      },
      "execution_count": 35,
      "outputs": [
        {
          "output_type": "stream",
          "name": "stdout",
          "text": [
            "root\n",
            " |-- index: long (nullable = true)\n",
            " |-- TIMESTAMP_START: long (nullable = true)\n",
            " |-- TIMESTAMP_END: long (nullable = true)\n",
            " |-- TA_F: double (nullable = true)\n",
            " |-- TA_F_QC: long (nullable = true)\n",
            " |-- TA_ERA: double (nullable = true)\n",
            " |-- SW_IN_POT: double (nullable = true)\n",
            " |-- SW_IN_F: double (nullable = true)\n",
            " |-- SW_IN_F_QC: long (nullable = true)\n",
            " |-- SW_IN_ERA: double (nullable = true)\n",
            " |-- LW_IN_F: double (nullable = true)\n",
            " |-- LW_IN_F_QC: double (nullable = true)\n",
            " |-- LW_IN_ERA: double (nullable = true)\n",
            " |-- VPD_F: double (nullable = true)\n",
            " |-- VPD_F_QC: long (nullable = true)\n",
            " |-- VPD_ERA: double (nullable = true)\n",
            " |-- P_F: double (nullable = true)\n",
            " |-- P_F_QC: double (nullable = true)\n",
            " |-- P_ERA: double (nullable = true)\n",
            " |-- PA_F: double (nullable = true)\n",
            " |-- PA_F_QC: double (nullable = true)\n",
            " |-- PA_ERA: double (nullable = true)\n",
            " |-- NETRAD: double (nullable = true)\n",
            " |-- PPFD_IN: double (nullable = true)\n",
            " |-- G_F_MDS: double (nullable = true)\n",
            " |-- G_F_MDS_QC: double (nullable = true)\n",
            " |-- LE_F_MDS: double (nullable = true)\n",
            " |-- LE_F_MDS_QC: double (nullable = true)\n",
            " |-- LE_CORR: double (nullable = true)\n",
            " |-- H_F_MDS: double (nullable = true)\n",
            " |-- H_F_MDS_QC: double (nullable = true)\n",
            " |-- H_CORR: double (nullable = true)\n",
            " |-- NEE_VUT_REF: double (nullable = true)\n",
            " |-- NEE_VUT_REF_QC: double (nullable = true)\n",
            " |-- NEE_CUT_REF: double (nullable = true)\n",
            " |-- NEE_CUT_REF_QC: double (nullable = true)\n",
            " |-- GPP_NT_VUT_REF: double (nullable = true)\n",
            " |-- GPP_DT_VUT_REF: double (nullable = true)\n",
            " |-- GPP_NT_CUT_REF: double (nullable = true)\n",
            " |-- GPP_DT_CUT_REF: double (nullable = true)\n",
            " |-- RECO_NT_VUT_REF: double (nullable = true)\n",
            " |-- RECO_DT_VUT_REF: double (nullable = true)\n",
            " |-- RECO_NT_CUT_REF: double (nullable = true)\n",
            " |-- RECO_DT_CUT_REF: double (nullable = true)\n",
            " |-- datetime: string (nullable = true)\n",
            " |-- year: long (nullable = true)\n",
            " |-- month: long (nullable = true)\n",
            " |-- day: long (nullable = true)\n",
            " |-- hour: long (nullable = true)\n",
            " |-- SITE_ID: string (nullable = true)\n",
            " |-- date: string (nullable = true)\n",
            " |-- NEE_VUT_REF_qa: double (nullable = true)\n",
            " |-- SW_DIF: double (nullable = true)\n",
            " |-- EVI: double (nullable = true)\n",
            " |-- NDVI: double (nullable = true)\n",
            " |-- NIRv: double (nullable = true)\n",
            " |-- b1: double (nullable = true)\n",
            " |-- b2: double (nullable = true)\n",
            " |-- b3: double (nullable = true)\n",
            " |-- b4: double (nullable = true)\n",
            " |-- b5: double (nullable = true)\n",
            " |-- b6: double (nullable = true)\n",
            " |-- b7: double (nullable = true)\n",
            " |-- IGBP: string (nullable = true)\n",
            " |-- koppen: string (nullable = true)\n",
            " |-- min_categorical: string (nullable = true)\n",
            "\n"
          ]
        }
      ]
    },
    {
      "cell_type": "code",
      "source": [
        "us_vcp_hourly_00_sdf.show(truncate=False)"
      ],
      "metadata": {
        "colab": {
          "base_uri": "https://localhost:8080/"
        },
        "id": "Bp0VRw4iwVCJ",
        "outputId": "a1370ed3-b9ae-4a6d-f2c7-176ef4c3dd63"
      },
      "execution_count": 36,
      "outputs": [
        {
          "output_type": "stream",
          "name": "stdout",
          "text": [
            "+-----+---------------+-------------+------+-------+-------+---------+-------+----------+---------+-------+----------+---------+-----+--------+-------+---+------+-----+------+-------+------+----------+-------+-------+----------+---------+-----------+-------+--------+----------+------+-----------+--------------+-----------+--------------+--------------+--------------+--------------+--------------+---------------+---------------+---------------+---------------+-------------------+----+-----+---+----+-------+----------+--------------+------+------------------+------------------+------------------+------+------+-----+------+------+------+------+----+------+---------------+\n",
            "|index|TIMESTAMP_START|TIMESTAMP_END|TA_F  |TA_F_QC|TA_ERA |SW_IN_POT|SW_IN_F|SW_IN_F_QC|SW_IN_ERA|LW_IN_F|LW_IN_F_QC|LW_IN_ERA|VPD_F|VPD_F_QC|VPD_ERA|P_F|P_F_QC|P_ERA|PA_F  |PA_F_QC|PA_ERA|NETRAD    |PPFD_IN|G_F_MDS|G_F_MDS_QC|LE_F_MDS |LE_F_MDS_QC|LE_CORR|H_F_MDS |H_F_MDS_QC|H_CORR|NEE_VUT_REF|NEE_VUT_REF_QC|NEE_CUT_REF|NEE_CUT_REF_QC|GPP_NT_VUT_REF|GPP_DT_VUT_REF|GPP_NT_CUT_REF|GPP_DT_CUT_REF|RECO_NT_VUT_REF|RECO_DT_VUT_REF|RECO_NT_CUT_REF|RECO_DT_CUT_REF|datetime           |year|month|day|hour|SITE_ID|date      |NEE_VUT_REF_qa|SW_DIF|EVI               |NDVI              |NIRv              |b1    |b2    |b3   |b4    |b5    |b6    |b7    |IGBP|koppen|min_categorical|\n",
            "+-----+---------------+-------------+------+-------+-------+---------+-------+----------+---------+-------+----------+---------+-----+--------+-------+---+------+-----+------+-------+------+----------+-------+-------+----------+---------+-----------+-------+--------+----------+------+-----------+--------------+-----------+--------------+--------------+--------------+--------------+--------------+---------------+---------------+---------------+---------------+-------------------+----+-----+---+----+-------+----------+--------------+------+------------------+------------------+------------------+------+------+-----+------+------+------+------+----+------+---------------+\n",
            "|0    |200701010000   |200701010030 |-7.706|0      |-9.299 |0.0      |0.0    |0         |0.0      |202.327|2.0       |202.327  |0.484|0       |1.58   |0.0|2.0   |0.0  |75.633|0.0    |75.452|-84.713875|null   |null   |null      |0.874446 |null       |null   |-29.7952|null      |null  |0.305176   |1.0           |-0.0705557 |1.0           |-0.178472     |0.0           |0.181072      |0.0           |0.126704       |0.125575       |0.110516       |0.167307       |2007-01-01 00:00:00|2007|1    |1  |0   |US-Vcp |2007-01-01|0.305176      |null  |0.3052561641813081|0.3364524003254678|0.1105246135069162|0.1631|0.3285|0.127|0.1362|0.1932|0.0567|0.0283|ENF |Cold  |A              |\n",
            "|2    |200701010100   |200701010130 |-8.582|0      |-10.044|0.0      |0.0    |0         |0.0      |202.327|2.0       |202.327  |0.346|0       |1.525  |0.0|2.0   |0.0  |75.626|0.0    |75.434|-77.276725|null   |null   |null      |-0.013153|null       |null   |-6.03858|null      |null  |0.284191   |1.0           |-0.27392   |1.0           |-0.170178     |0.0           |0.37287       |0.0           |0.114013       |0.113025       |0.0989496      |0.153341       |2007-01-01 01:00:00|2007|1    |1  |1   |US-Vcp |2007-01-01|0.284191      |null  |0.3052561641813081|0.3364524003254678|0.1105246135069162|0.1631|0.3285|0.127|0.1362|0.1932|0.0567|0.0283|ENF |Cold  |A              |\n",
            "|4    |200701010200   |200701010230 |-8.393|0      |-10.789|0.0      |0.0    |0         |0.0      |208.388|2.0       |208.388  |0.433|0       |1.469  |0.0|2.0   |0.0  |75.626|0.0    |75.415|-69.073434|null   |null   |null      |1.07368  |null       |null   |-27.7042|null      |null  |0.284191   |1.0           |-0.27392   |1.0           |-0.167504     |0.0           |0.375302      |0.0           |0.116687       |0.11567        |0.101382       |0.156305       |2007-01-01 02:00:00|2007|1    |1  |2   |US-Vcp |2007-01-01|0.284191      |null  |0.3052561641813081|0.3364524003254678|0.1105246135069162|0.1631|0.3285|0.127|0.1362|0.1932|0.0567|0.0283|ENF |Cold  |A              |\n",
            "|6    |200701010300   |200701010330 |-8.417|0      |-10.989|0.0      |0.0    |0         |0.0      |208.388|2.0       |208.388  |0.406|0       |1.459  |0.0|2.0   |0.0  |75.595|0.0    |75.399|-62.477146|null   |null   |null      |1.0148   |null       |null   |-27.3611|null      |null  |0.284191   |1.0           |-0.27392   |1.0           |-0.167845     |0.0           |0.374991      |0.0           |0.116346       |0.115332       |0.101071       |0.155927       |2007-01-01 03:00:00|2007|1    |1  |3   |US-Vcp |2007-01-01|0.284191      |null  |0.3052561641813081|0.3364524003254678|0.1105246135069162|0.1631|0.3285|0.127|0.1362|0.1932|0.0567|0.0283|ENF |Cold  |A              |\n",
            "|8    |200701010400   |200701010430 |-8.239|0      |-11.188|0.0      |0.0    |0         |0.0      |208.388|2.0       |208.388  |0.335|0       |1.448  |0.0|2.0   |0.0  |75.544|0.0    |75.384|-55.186988|null   |null   |null      |-2.91646 |null       |null   |-52.7771|null      |null  |-0.509936  |0.0           |-0.509936  |0.0           |0.628828      |0.0           |0.613326      |0.0           |0.118892       |0.117851       |0.10339        |0.158741       |2007-01-01 04:00:00|2007|1    |1  |4   |US-Vcp |2007-01-01|-0.509936     |null  |0.3052561641813081|0.3364524003254678|0.1105246135069162|0.1631|0.3285|0.127|0.1362|0.1932|0.0567|0.0283|ENF |Cold  |A              |\n",
            "|10   |200701010500   |200701010530 |-9.615|0      |-11.388|0.0      |0.0    |0         |0.0      |219.984|2.0       |219.984  |0.297|0       |1.437  |0.0|2.0   |0.0  |75.564|0.0    |75.368|-43.901841|null   |null   |null      |-0.377123|null       |null   |-13.8925|null      |null  |0.297758   |1.0           |-0.66385   |1.0           |-0.197742     |0.0           |0.750114      |0.0           |0.100016       |0.0991798      |0.0862641      |0.137618       |2007-01-01 05:00:00|2007|1    |1  |5   |US-Vcp |2007-01-01|0.297758      |null  |0.3052561641813081|0.3364524003254678|0.1105246135069162|0.1631|0.3285|0.127|0.1362|0.1932|0.0567|0.0283|ENF |Cold  |A              |\n",
            "|12   |200701010600   |200701010630 |-9.073|0      |-11.262|0.0      |0.0    |0         |0.0      |219.984|2.0       |219.984  |0.381|0       |1.403  |0.0|2.0   |0.0  |75.527|0.0    |75.356|-24.443352|null   |null   |null      |0.730879 |null       |null   |-24.1841|null      |null  |0.258257   |1.0           |-0.344697  |1.0           |-0.151028     |0.0           |0.437489      |0.0           |0.107229       |0.106315       |0.0927915      |0.145765       |2007-01-01 06:00:00|2007|1    |1  |6   |US-Vcp |2007-01-01|0.258257      |null  |0.3052561641813081|0.3364524003254678|0.1105246135069162|0.1631|0.3285|0.127|0.1362|0.1932|0.0567|0.0283|ENF |Cold  |A              |\n",
            "|14   |200701010700   |200701010730 |-8.197|0      |-11.136|5.67408  |19.617 |1         |0.0      |219.984|2.0       |219.984  |0.34 |0       |1.368  |0.0|2.0   |0.0  |75.538|0.0    |75.344|null      |null   |null   |null      |0.55161  |null       |null   |5.26719 |null      |null  |1.87905    |3.0           |1.87905    |3.0           |-1.75955      |0.088126      |-1.77511      |0.0962345     |0.119498       |0.118449       |0.103941       |0.159408       |2007-01-01 07:00:00|2007|1    |1  |7   |US-Vcp |2007-01-01|null          |null  |0.3052561641813081|0.3364524003254678|0.1105246135069162|0.1631|0.3285|0.127|0.1362|0.1932|0.0567|0.0283|ENF |Cold  |A              |\n",
            "|16   |200701010800   |200701010830 |-8.059|0      |-11.01 |225.703  |55.033 |0         |119.82   |239.555|2.0       |239.555  |0.341|0       |1.334  |0.0|2.0   |0.0  |75.552|0.0    |75.331|32.609144 |null   |null   |null      |1.80258  |null       |null   |6.03893 |null      |null  |0.028504   |1.0           |0.0255598  |1.0           |0.0929952     |0.246586      |0.0802058     |0.268211      |0.121499       |0.120429       |0.105766       |0.16161        |2007-01-01 08:00:00|2007|1    |1  |8   |US-Vcp |2007-01-01|0.028504      |null  |0.3052561641813081|0.3364524003254678|0.1105246135069162|0.1631|0.3285|0.127|0.1362|0.1932|0.0567|0.0283|ENF |Cold  |A              |\n",
            "|18   |200701010900   |200701010930 |-4.464|0      |-8.91  |441.381  |144.801|0         |233.988  |239.555|2.0       |239.555  |0.581|0       |1.564  |0.0|2.0   |0.0  |75.57 |0.0    |75.351|104.46436 |null   |null   |null      |14.7108  |null       |null   |15.9932 |null      |null  |-1.26847   |1.0           |-1.26847   |1.0           |1.44861       |0.644573      |1.42824       |0.694222      |0.18014        |0.178389       |0.159772       |0.223736       |2007-01-01 09:00:00|2007|1    |1  |9   |US-Vcp |2007-01-01|-1.26847      |null  |0.3052561641813081|0.3364524003254678|0.1105246135069162|0.1631|0.3285|0.127|0.1362|0.1932|0.0567|0.0283|ENF |Cold  |A              |\n",
            "|20   |200701011000   |200701011030 |-3.721|0      |-6.81  |604.708  |161.228|0         |320.485  |239.555|2.0       |239.555  |0.765|0       |1.794  |0.0|2.0   |0.0  |75.575|0.0    |75.37 |98.17639  |null   |null   |null      |16.3929  |null       |null   |-12.8474|null      |null  |-0.603024  |1.0           |-0.603024  |1.0           |0.796815      |0.71684       |0.775501      |0.770683      |0.193791       |0.191875       |0.172476       |0.23765        |2007-01-01 10:00:00|2007|1    |1  |10  |US-Vcp |2007-01-01|-0.603024     |null  |0.3052561641813081|0.3364524003254678|0.1105246135069162|0.1631|0.3285|0.127|0.1362|0.1932|0.0567|0.0283|ENF |Cold  |A              |\n",
            "|22   |200701011100   |200701011130 |-0.949|0      |-4.71  |704.554  |661.567|0         |405.076  |248.534|2.0       |248.534  |2.259|0       |2.024  |0.0|2.0   |0.0  |75.496|0.0    |75.389|486.17212 |null   |null   |null      |53.7001  |null       |null   |221.052 |null      |null  |-1.26154   |1.0           |1.05547    |0.0           |1.51069       |2.83828       |-0.831063     |2.90004       |0.249149       |0.246541       |0.224407       |0.292462       |2007-01-01 11:00:00|2007|1    |1  |11  |US-Vcp |2007-01-01|-1.26154      |null  |0.3052561641813081|0.3364524003254678|0.1105246135069162|0.1631|0.3285|0.127|0.1362|0.1932|0.0567|0.0283|ENF |Cold  |A              |\n",
            "|24   |200701011200   |200701011230 |0.578 |0      |-3.99  |734.113  |566.491|0         |422.179  |248.534|2.0       |248.534  |2.993|0       |2.068  |0.0|2.0   |0.0  |75.398|0.0    |75.34 |381.25476 |null   |null   |null      |100.353  |null       |null   |243.161 |null      |null  |-0.491109  |0.0           |-0.491109  |0.0           |0.773615      |2.44668       |0.747082      |2.52303       |0.282506       |0.279466       |0.255973       |0.324443       |2007-01-01 12:00:00|2007|1    |1  |12  |US-Vcp |2007-01-01|-0.491109     |null  |0.3052561641813081|0.3364524003254678|0.1105246135069162|0.1631|0.3285|0.127|0.1362|0.1932|0.0567|0.0283|ENF |Cold  |A              |\n",
            "|26   |200701011300   |200701011330 |-0.22 |0      |-3.27  |691.372  |302.884|0         |397.799  |248.534|2.0       |248.534  |2.874|0       |2.113  |0.0|2.0   |0.0  |75.354|0.0    |75.292|174.29957 |null   |null   |null      |54.675   |null       |null   |129.292 |null      |null  |0.893614   |0.0           |0.893614   |0.0           |-0.628786     |1.33295       |-0.654393     |1.41166       |0.264828       |0.262019       |0.239221       |0.307582       |2007-01-01 13:00:00|2007|1    |1  |13  |US-Vcp |2007-01-01|0.893614      |null  |0.3052561641813081|0.3364524003254678|0.1105246135069162|0.1631|0.3285|0.127|0.1362|0.1932|0.0567|0.0283|ENF |Cold  |A              |\n",
            "|28   |200701011400   |200701011430 |-1.44 |0      |-2.55  |579.243  |206.349|0         |210.812  |252.51 |2.0       |252.51   |1.854|0       |2.158  |0.0|2.0   |0.0  |75.367|0.0    |75.243|110.46265 |null   |null   |null      |25.3221  |null       |null   |80.5645 |null      |null  |-0.98345   |0.0           |-0.98345   |0.0           |1.2223        |0.914457      |1.19815       |0.978385      |0.238847       |0.23637        |0.214697       |0.282437       |2007-01-01 14:00:00|2007|1    |1  |14  |US-Vcp |2007-01-01|-0.98345      |null  |0.3052561641813081|0.3364524003254678|0.1105246135069162|0.1631|0.3285|0.127|0.1362|0.1932|0.0567|0.0283|ENF |Cold  |A              |\n",
            "|30   |200701011500   |200701011530 |-1.399|0      |-3.376 |405.368  |188.825|0         |147.836  |252.51 |2.0       |252.51   |2.008|0       |1.967  |0.0|2.0   |0.0  |75.372|0.0    |75.257|95.529317 |null   |null   |null      |8.89544  |null       |null   |29.8265 |null      |null  |0.516319   |0.0           |0.516319   |0.0           |-0.27662      |0.837861      |-0.30082      |0.898119      |0.239699       |0.237211       |0.215499       |0.283269       |2007-01-01 15:00:00|2007|1    |1  |15  |US-Vcp |2007-01-01|0.516319      |null  |0.3052561641813081|0.3364524003254678|0.1105246135069162|0.1631|0.3285|0.127|0.1362|0.1932|0.0567|0.0283|ENF |Cold  |A              |\n",
            "|32   |200701011600   |200701011630 |-0.69 |0      |-4.202 |181.595  |100.412|0         |66.746   |252.51 |2.0       |252.51   |1.929|0       |1.776  |0.0|2.0   |0.0  |75.369|0.0    |75.27 |7.63664   |null   |null   |null      |5.08842  |null       |null   |19.5472 |null      |null  |-1.50763   |0.0           |-1.50763   |0.0           |1.7623        |0.448425      |1.73725       |0.485313      |0.254668       |0.251989       |0.229616       |0.297802       |2007-01-01 16:00:00|2007|1    |1  |16  |US-Vcp |2007-01-01|-1.50763      |null  |0.3052561641813081|0.3364524003254678|0.1105246135069162|0.1631|0.3285|0.127|0.1362|0.1932|0.0567|0.0283|ENF |Cold  |A              |\n",
            "|34   |200701011700   |200701011730 |-3.004|0      |-5.028 |0.0      |0.0    |0         |0.0      |255.102|2.0       |255.102  |0.884|0       |1.586  |0.0|2.0   |0.0  |75.389|0.0    |75.284|-89.183851|null   |null   |null      |1.71337  |null       |null   |11.1843 |null      |null  |0.0432326  |1.0           |0.323669   |1.0           |0.164215      |0.0           |-0.13844      |0.0           |0.207448       |0.205364       |0.185229       |0.2514         |2007-01-01 17:00:00|2007|1    |1  |17  |US-Vcp |2007-01-01|0.0432326     |null  |0.3052561641813081|0.3364524003254678|0.1105246135069162|0.1631|0.3285|0.127|0.1362|0.1932|0.0567|0.0283|ENF |Cold  |A              |\n",
            "|36   |200701011800   |200701011830 |-3.28 |0      |-5.786 |0.0      |0.0    |0         |0.0      |255.102|2.0       |255.102  |0.751|0       |1.508  |0.0|2.0   |0.0  |75.424|0.0    |75.303|-74.6822  |null   |null   |null      |6.1925   |null       |null   |-48.2419|null      |null  |0.0774658  |1.0           |0.321778   |1.0           |0.124669      |0.0           |-0.141515     |0.0           |0.202135       |0.200116       |0.180263       |0.24607        |2007-01-01 18:00:00|2007|1    |1  |18  |US-Vcp |2007-01-01|0.0774658     |null  |0.3052561641813081|0.3364524003254678|0.1105246135069162|0.1631|0.3285|0.127|0.1362|0.1932|0.0567|0.0283|ENF |Cold  |A              |\n",
            "|38   |200701011900   |200701011930 |-4.101|0      |-6.543 |0.0      |0.0    |0         |0.0      |255.102|2.0       |255.102  |0.72 |0       |1.431  |0.0|2.0   |0.0  |75.465|0.0    |75.322|-86.00409 |null   |null   |null      |2.41757  |null       |null   |-33.4919|null      |null  |-0.00274859|1.0           |0.27933    |1.0           |0.189494      |0.0           |-0.113416     |0.0           |0.186745       |0.184914       |0.165914       |0.23049        |2007-01-01 19:00:00|2007|1    |1  |19  |US-Vcp |2007-01-01|-0.00274859   |null  |0.3052561641813081|0.3364524003254678|0.1105246135069162|0.1631|0.3285|0.127|0.1362|0.1932|0.0567|0.0283|ENF |Cold  |A              |\n",
            "+-----+---------------+-------------+------+-------+-------+---------+-------+----------+---------+-------+----------+---------+-----+--------+-------+---+------+-----+------+-------+------+----------+-------+-------+----------+---------+-----------+-------+--------+----------+------+-----------+--------------+-----------+--------------+--------------+--------------+--------------+--------------+---------------+---------------+---------------+---------------+-------------------+----+-----+---+----+-------+----------+--------------+------+------------------+------------------+------------------+------+------+-----+------+------+------+------+----+------+---------------+\n",
            "only showing top 20 rows\n",
            "\n"
          ]
        }
      ]
    },
    {
      "cell_type": "code",
      "source": [
        "display(us_vcp_hourly_00_sdf)"
      ],
      "metadata": {
        "colab": {
          "base_uri": "https://localhost:8080/",
          "height": 191
        },
        "id": "xd7yYPgGZLqB",
        "outputId": "72d87991-dd93-43ed-c7b5-34818de0f22b"
      },
      "execution_count": 37,
      "outputs": [
        {
          "output_type": "display_data",
          "data": {
            "text/plain": [
              "DataFrame[index: bigint, TIMESTAMP_START: bigint, TIMESTAMP_END: bigint, TA_F: double, TA_F_QC: bigint, TA_ERA: double, SW_IN_POT: double, SW_IN_F: double, SW_IN_F_QC: bigint, SW_IN_ERA: double, LW_IN_F: double, LW_IN_F_QC: double, LW_IN_ERA: double, VPD_F: double, VPD_F_QC: bigint, VPD_ERA: double, P_F: double, P_F_QC: double, P_ERA: double, PA_F: double, PA_F_QC: double, PA_ERA: double, NETRAD: double, PPFD_IN: double, G_F_MDS: double, G_F_MDS_QC: double, LE_F_MDS: double, LE_F_MDS_QC: double, LE_CORR: double, H_F_MDS: double, H_F_MDS_QC: double, H_CORR: double, NEE_VUT_REF: double, NEE_VUT_REF_QC: double, NEE_CUT_REF: double, NEE_CUT_REF_QC: double, GPP_NT_VUT_REF: double, GPP_DT_VUT_REF: double, GPP_NT_CUT_REF: double, GPP_DT_CUT_REF: double, RECO_NT_VUT_REF: double, RECO_DT_VUT_REF: double, RECO_NT_CUT_REF: double, RECO_DT_CUT_REF: double, datetime: string, year: bigint, month: bigint, day: bigint, hour: bigint, SITE_ID: string, date: string, NEE_VUT_REF_qa: double, SW_DIF: double, EVI: double, NDVI: double, NIRv: double, b1: double, b2: double, b3: double, b4: double, b5: double, b6: double, b7: double, IGBP: string, koppen: string, min_categorical: string]"
            ]
          },
          "metadata": {}
        }
      ]
    },
    {
      "cell_type": "code",
      "source": [
        "us_vcp_hourly_sdf.show()"
      ],
      "metadata": {
        "colab": {
          "base_uri": "https://localhost:8080/"
        },
        "id": "_Vn3Vlu6cQ9x",
        "outputId": "81f07c08-861c-44a8-d5d1-e22c106d07de"
      },
      "execution_count": 38,
      "outputs": [
        {
          "output_type": "stream",
          "name": "stdout",
          "text": [
            "+---------------+-------------+------+-------+-------+---------+-------+----------+---------+-------+----------+---------+-----+--------+-------+---+------+-----+------+-------+------+----------+-------+-------+----------+---------+-----------+-------+--------+----------+------+-----------+--------------+-----------+--------------+--------------+--------------+--------------+--------------+---------------+---------------+---------------+---------------+-------------------+----+-----+---+----+-------+----------+--------------+------+------------------+------------------+------------------+------+------+-----+------+------+------+------+----+------+---------------+\n",
            "|TIMESTAMP_START|TIMESTAMP_END|  TA_F|TA_F_QC| TA_ERA|SW_IN_POT|SW_IN_F|SW_IN_F_QC|SW_IN_ERA|LW_IN_F|LW_IN_F_QC|LW_IN_ERA|VPD_F|VPD_F_QC|VPD_ERA|P_F|P_F_QC|P_ERA|  PA_F|PA_F_QC|PA_ERA|    NETRAD|PPFD_IN|G_F_MDS|G_F_MDS_QC| LE_F_MDS|LE_F_MDS_QC|LE_CORR| H_F_MDS|H_F_MDS_QC|H_CORR|NEE_VUT_REF|NEE_VUT_REF_QC|NEE_CUT_REF|NEE_CUT_REF_QC|GPP_NT_VUT_REF|GPP_DT_VUT_REF|GPP_NT_CUT_REF|GPP_DT_CUT_REF|RECO_NT_VUT_REF|RECO_DT_VUT_REF|RECO_NT_CUT_REF|RECO_DT_CUT_REF|           datetime|year|month|day|hour|SITE_ID|      date|NEE_VUT_REF_qa|SW_DIF|               EVI|              NDVI|              NIRv|    b1|    b2|   b3|    b4|    b5|    b6|    b7|IGBP|koppen|min_categorical|\n",
            "+---------------+-------------+------+-------+-------+---------+-------+----------+---------+-------+----------+---------+-----+--------+-------+---+------+-----+------+-------+------+----------+-------+-------+----------+---------+-----------+-------+--------+----------+------+-----------+--------------+-----------+--------------+--------------+--------------+--------------+--------------+---------------+---------------+---------------+---------------+-------------------+----+-----+---+----+-------+----------+--------------+------+------------------+------------------+------------------+------+------+-----+------+------+------+------+----+------+---------------+\n",
            "|   200701010000| 200701010030|-7.706|      0| -9.299|      0.0|    0.0|         0|      0.0|202.327|       2.0|  202.327|0.484|       0|   1.58|0.0|   2.0|  0.0|75.633|    0.0|75.452|-84.713875|   null|   null|      null| 0.874446|       null|   null|-29.7952|      null|  null|   0.305176|           1.0| -0.0705557|           1.0|     -0.178472|           0.0|      0.181072|           0.0|       0.126704|       0.125575|       0.110516|       0.167307|2007-01-01 00:00:00|2007|    1|  1|   0| US-Vcp|2007-01-01|      0.305176|  null|0.3052561641813081|0.3364524003254678|0.1105246135069162|0.1631|0.3285|0.127|0.1362|0.1932|0.0567|0.0283| ENF|  Cold|              A|\n",
            "|   200701010030| 200701010100|-8.095|      0| -9.672|      0.0|    0.0|         0|      0.0|202.327|       2.0|  202.327|0.395|       0|  1.553|0.0|   2.0|  0.0|75.614|    0.0|75.443|-80.137327|   null|   null|      null| 0.757796|       null|   null|-25.9238|      null|  null|    0.31838|           1.0|  -0.102737|           1.0|     -0.197405|           0.0|      0.208025|           0.0|       0.120975|        0.11991|       0.105288|       0.161035|2007-01-01 00:30:00|2007|    1|  1|   0| US-Vcp|2007-01-01|       0.31838|  null|0.3052561641813081|0.3364524003254678|0.1105246135069162|0.1631|0.3285|0.127|0.1362|0.1932|0.0567|0.0283| ENF|  Cold|              B|\n",
            "|   200701010100| 200701010130|-8.582|      0|-10.044|      0.0|    0.0|         0|      0.0|202.327|       2.0|  202.327|0.346|       0|  1.525|0.0|   2.0|  0.0|75.626|    0.0|75.434|-77.276725|   null|   null|      null|-0.013153|       null|   null|-6.03858|      null|  null|   0.284191|           1.0|   -0.27392|           1.0|     -0.170178|           0.0|       0.37287|           0.0|       0.114013|       0.113025|      0.0989496|       0.153341|2007-01-01 01:00:00|2007|    1|  1|   1| US-Vcp|2007-01-01|      0.284191|  null|0.3052561641813081|0.3364524003254678|0.1105246135069162|0.1631|0.3285|0.127|0.1362|0.1932|0.0567|0.0283| ENF|  Cold|              A|\n",
            "|   200701010130| 200701010200|-8.136|      0|-10.417|      0.0|    0.0|         0|      0.0|202.327|       2.0|  202.327|0.479|       0|  1.497|0.0|   2.0|  0.0|75.635|    0.0|75.424|-73.738416|   null|   null|      null| 0.991684|       null|   null|-28.4935|      null|  null|    0.31838|           1.0|   -0.18405|           1.0|        -0.198|           0.0|      0.288796|           0.0|        0.12038|       0.119322|       0.104746|        0.16038|2007-01-01 01:30:00|2007|    1|  1|   1| US-Vcp|2007-01-01|       0.31838|  null|0.3052561641813081|0.3364524003254678|0.1105246135069162|0.1631|0.3285|0.127|0.1362|0.1932|0.0567|0.0283| ENF|  Cold|              B|\n",
            "|   200701010200| 200701010230|-8.393|      0|-10.789|      0.0|    0.0|         0|      0.0|208.388|       2.0|  208.388|0.433|       0|  1.469|0.0|   2.0|  0.0|75.626|    0.0|75.415|-69.073434|   null|   null|      null|  1.07368|       null|   null|-27.7042|      null|  null|   0.284191|           1.0|   -0.27392|           1.0|     -0.167504|           0.0|      0.375302|           0.0|       0.116687|        0.11567|       0.101382|       0.156305|2007-01-01 02:00:00|2007|    1|  1|   2| US-Vcp|2007-01-01|      0.284191|  null|0.3052561641813081|0.3364524003254678|0.1105246135069162|0.1631|0.3285|0.127|0.1362|0.1932|0.0567|0.0283| ENF|  Cold|              A|\n",
            "|   200701010230| 200701010300|-8.467|      0|-10.889|      0.0|    0.0|         0|      0.0|208.388|       2.0|  208.388|0.407|       0|  1.464|0.0|   2.0|  0.0|75.614|    0.0|75.407|-66.002209|   null|   null|      null|  1.49293|       null|   null|-12.6872|      null|  null|   0.284191|           1.0|   -0.27392|           1.0|     -0.168555|           0.0|      0.374346|           0.0|       0.115636|        0.11463|       0.100426|       0.155141|2007-01-01 02:30:00|2007|    1|  1|   2| US-Vcp|2007-01-01|      0.284191|  null|0.3052561641813081|0.3364524003254678|0.1105246135069162|0.1631|0.3285|0.127|0.1362|0.1932|0.0567|0.0283| ENF|  Cold|              B|\n",
            "|   200701010300| 200701010330|-8.417|      0|-10.989|      0.0|    0.0|         0|      0.0|208.388|       2.0|  208.388|0.406|       0|  1.459|0.0|   2.0|  0.0|75.595|    0.0|75.399|-62.477146|   null|   null|      null|   1.0148|       null|   null|-27.3611|      null|  null|   0.284191|           1.0|   -0.27392|           1.0|     -0.167845|           0.0|      0.374991|           0.0|       0.116346|       0.115332|       0.101071|       0.155927|2007-01-01 03:00:00|2007|    1|  1|   3| US-Vcp|2007-01-01|      0.284191|  null|0.3052561641813081|0.3364524003254678|0.1105246135069162|0.1631|0.3285|0.127|0.1362|0.1932|0.0567|0.0283| ENF|  Cold|              A|\n",
            "|   200701010330| 200701010400|-8.377|      0|-11.089|      0.0|    0.0|         0|      0.0|208.388|       2.0|  208.388|0.354|       0|  1.453|0.0|   2.0|  0.0|75.572|    0.0|75.391|-59.371677|   null|   null|      null|-0.654014|       null|   null|-37.3254|      null|  null|   0.284191|           1.0|   -0.27392|           1.0|     -0.167276|           0.0|       0.37551|           0.0|       0.116915|       0.115895|        0.10159|       0.156558|2007-01-01 03:30:00|2007|    1|  1|   3| US-Vcp|2007-01-01|      0.284191|  null|0.3052561641813081|0.3364524003254678|0.1105246135069162|0.1631|0.3285|0.127|0.1362|0.1932|0.0567|0.0283| ENF|  Cold|              B|\n",
            "|   200701010400| 200701010430|-8.239|      0|-11.188|      0.0|    0.0|         0|      0.0|208.388|       2.0|  208.388|0.335|       0|  1.448|0.0|   2.0|  0.0|75.544|    0.0|75.384|-55.186988|   null|   null|      null| -2.91646|       null|   null|-52.7771|      null|  null|  -0.509936|           0.0|  -0.509936|           0.0|      0.628828|           0.0|      0.613326|           0.0|       0.118892|       0.117851|        0.10339|       0.158741|2007-01-01 04:00:00|2007|    1|  1|   4| US-Vcp|2007-01-01|     -0.509936|  null|0.3052561641813081|0.3364524003254678|0.1105246135069162|0.1631|0.3285|0.127|0.1362|0.1932|0.0567|0.0283| ENF|  Cold|              A|\n",
            "|   200701010430| 200701010500|-9.625|      0|-11.288|      0.0|    0.0|         0|      0.0|208.388|       2.0|  208.388|0.221|       0|  1.443|0.0|   2.0|  0.0|75.547|    0.0|75.376|-49.735065|   null|   null|      null|-0.377123|       null|   null|-13.8925|      null|  null|   0.297758|           1.0|   -0.66385|           1.0|     -0.197872|           0.0|      0.749996|           0.0|      0.0998859|      0.0990509|      0.0861463|        0.13747|2007-01-01 04:30:00|2007|    1|  1|   4| US-Vcp|2007-01-01|      0.297758|  null|0.3052561641813081|0.3364524003254678|0.1105246135069162|0.1631|0.3285|0.127|0.1362|0.1932|0.0567|0.0283| ENF|  Cold|              B|\n",
            "|   200701010500| 200701010530|-9.615|      0|-11.388|      0.0|    0.0|         0|      0.0|219.984|       2.0|  219.984|0.297|       0|  1.437|0.0|   2.0|  0.0|75.564|    0.0|75.368|-43.901841|   null|   null|      null|-0.377123|       null|   null|-13.8925|      null|  null|   0.297758|           1.0|   -0.66385|           1.0|     -0.197742|           0.0|      0.750114|           0.0|       0.100016|      0.0991798|      0.0862641|       0.137618|2007-01-01 05:00:00|2007|    1|  1|   5| US-Vcp|2007-01-01|      0.297758|  null|0.3052561641813081|0.3364524003254678|0.1105246135069162|0.1631|0.3285|0.127|0.1362|0.1932|0.0567|0.0283| ENF|  Cold|              A|\n",
            "|   200701010530| 200701010600|-8.954|      0|-11.325|      0.0|    0.0|         0|      0.0|219.984|       2.0|  219.984|0.384|       0|   1.42|0.0|   2.0|  0.0|75.545|    0.0|75.362|-32.038506|   null|   null|      null| 0.730879|       null|   null|-25.4808|      null|  null|   0.269928|           1.0|  -0.309348|           1.0|     -0.161076|           0.0|      0.403611|           0.0|       0.108852|        0.10792|      0.0942627|       0.147584|2007-01-01 05:30:00|2007|    1|  1|   5| US-Vcp|2007-01-01|      0.269928|  null|0.3052561641813081|0.3364524003254678|0.1105246135069162|0.1631|0.3285|0.127|0.1362|0.1932|0.0567|0.0283| ENF|  Cold|              B|\n",
            "|   200701010600| 200701010630|-9.073|      0|-11.262|      0.0|    0.0|         0|      0.0|219.984|       2.0|  219.984|0.381|       0|  1.403|0.0|   2.0|  0.0|75.527|    0.0|75.356|-24.443352|   null|   null|      null| 0.730879|       null|   null|-24.1841|      null|  null|   0.258257|           1.0|  -0.344697|           1.0|     -0.151028|           0.0|      0.437489|           0.0|       0.107229|       0.106315|      0.0927915|       0.145765|2007-01-01 06:00:00|2007|    1|  1|   6| US-Vcp|2007-01-01|      0.258257|  null|0.3052561641813081|0.3364524003254678|0.1105246135069162|0.1631|0.3285|0.127|0.1362|0.1932|0.0567|0.0283| ENF|  Cold|              A|\n",
            "|   200701010630| 200701010700|-9.432|      0|-11.199|      0.0|    0.0|         0|      0.0|219.984|       2.0|  219.984|0.286|       0|  1.386|0.0|   2.0|  0.0| 75.54|    0.0| 75.35|-14.566678|   null|   null|      null|  2.29366|       null|   null| 17.2818|      null|  null|   0.271126|           1.0|  -0.469394|           1.0|     -0.168707|           0.0|       0.55783|           0.0|       0.102419|       0.101557|      0.0884364|       0.140343|2007-01-01 06:30:00|2007|    1|  1|   6| US-Vcp|2007-01-01|      0.271126|  null|0.3052561641813081|0.3364524003254678|0.1105246135069162|0.1631|0.3285|0.127|0.1362|0.1932|0.0567|0.0283| ENF|  Cold|              B|\n",
            "|   200701010700| 200701010730|-8.197|      0|-11.136|  5.67408| 19.617|         1|      0.0|219.984|       2.0|  219.984| 0.34|       0|  1.368|0.0|   2.0|  0.0|75.538|    0.0|75.344|      null|   null|   null|      null|  0.55161|       null|   null| 5.26719|      null|  null|    1.87905|           3.0|    1.87905|           3.0|      -1.75955|      0.088126|      -1.77511|     0.0962345|       0.119498|       0.118449|       0.103941|       0.159408|2007-01-01 07:00:00|2007|    1|  1|   7| US-Vcp|2007-01-01|          null|  null|0.3052561641813081|0.3364524003254678|0.1105246135069162|0.1631|0.3285|0.127|0.1362|0.1932|0.0567|0.0283| ENF|  Cold|              A|\n",
            "|   200701010730| 200701010800|-8.148|      0|-11.073|  102.712| 23.436|         0|   23.574|219.984|       2.0|  219.984|0.313|       0|  1.351|0.0|   2.0|  0.0|75.539|    0.0|75.338| 7.3475469|   null|   null|      null| -2.44141|       null|   null|-7.51916|      null|  null|  -0.346165|           1.0|  -0.328295|           1.0|      0.466371|      0.105253|      0.432882|      0.114888|       0.120206|        0.11915|       0.104587|       0.160189|2007-01-01 07:30:00|2007|    1|  1|   7| US-Vcp|2007-01-01|     -0.346165|  null|0.3052561641813081|0.3364524003254678|0.1105246135069162|0.1631|0.3285|0.127|0.1362|0.1932|0.0567|0.0283| ENF|  Cold|              B|\n",
            "|   200701010800| 200701010830|-8.059|      0| -11.01|  225.703| 55.033|         0|   119.82|239.555|       2.0|  239.555|0.341|       0|  1.334|0.0|   2.0|  0.0|75.552|    0.0|75.331| 32.609144|   null|   null|      null|  1.80258|       null|   null| 6.03893|      null|  null|   0.028504|           1.0|  0.0255598|           1.0|     0.0929952|      0.246586|     0.0802058|      0.268211|       0.121499|       0.120429|       0.105766|        0.16161|2007-01-01 08:00:00|2007|    1|  1|   8| US-Vcp|2007-01-01|      0.028504|  null|0.3052561641813081|0.3364524003254678|0.1105246135069162|0.1631|0.3285|0.127|0.1362|0.1932|0.0567|0.0283| ENF|  Cold|              A|\n",
            "|   200701010830| 200701010900|-6.052|      0|  -9.96|   339.24|  97.04|         0|  179.915|239.555|       2.0|  239.555|0.464|       0|  1.449|0.0|   2.0|  0.0|75.571|    0.0|75.341| 68.246251|   null|   null|      null|  1.91211|       null|   null|-15.9532|      null|  null|  -0.452256|           1.0|  -0.522263|           1.0|      0.604961|      0.433473|      0.656644|      0.469305|       0.152705|       0.151279|       0.134381|       0.195195|2007-01-01 08:30:00|2007|    1|  1|   8| US-Vcp|2007-01-01|     -0.452256|  null|0.3052561641813081|0.3364524003254678|0.1105246135069162|0.1631|0.3285|0.127|0.1362|0.1932|0.0567|0.0283| ENF|  Cold|              B|\n",
            "|   200701010900| 200701010930|-4.464|      0|  -8.91|  441.381|144.801|         0|  233.988|239.555|       2.0|  239.555|0.581|       0|  1.564|0.0|   2.0|  0.0| 75.57|    0.0|75.351| 104.46436|   null|   null|      null|  14.7108|       null|   null| 15.9932|      null|  null|   -1.26847|           1.0|   -1.26847|           1.0|       1.44861|      0.644573|       1.42824|      0.694222|        0.18014|       0.178389|       0.159772|       0.223736|2007-01-01 09:00:00|2007|    1|  1|   9| US-Vcp|2007-01-01|      -1.26847|  null|0.3052561641813081|0.3364524003254678|0.1105246135069162|0.1631|0.3285|0.127|0.1362|0.1932|0.0567|0.0283| ENF|  Cold|              A|\n",
            "|   200701010930| 200701011000|-4.086|      0|  -7.86|  530.378|164.547|         0|  281.113|239.555|       2.0|  239.555|0.617|       0|  1.679|0.0|   2.0|  0.0|75.579|    0.0| 75.36| 108.13861|   null|   null|      null|  19.8427|       null|   null| 10.7155|      null|  null|   -1.02246|           1.0|   -1.02246|           1.0|       1.20948|      0.731421|       1.18863|      0.786077|       0.187021|       0.185187|        0.16617|       0.230771|2007-01-01 09:30:00|2007|    1|  1|   9| US-Vcp|2007-01-01|      -1.02246|  null|0.3052561641813081|0.3364524003254678|0.1105246135069162|0.1631|0.3285|0.127|0.1362|0.1932|0.0567|0.0283| ENF|  Cold|              B|\n",
            "+---------------+-------------+------+-------+-------+---------+-------+----------+---------+-------+----------+---------+-----+--------+-------+---+------+-----+------+-------+------+----------+-------+-------+----------+---------+-----------+-------+--------+----------+------+-----------+--------------+-----------+--------------+--------------+--------------+--------------+--------------+---------------+---------------+---------------+---------------+-------------------+----+-----+---+----+-------+----------+--------------+------+------------------+------------------+------------------+------+------+-----+------+------+------+------+----+------+---------------+\n",
            "only showing top 20 rows\n",
            "\n"
          ]
        }
      ]
    },
    {
      "cell_type": "code",
      "source": [
        "# size of two datasets\n",
        "print(f'us_vcp_hourly_00_sdf: {us_vcp_hourly_00_sdf.count()}')\n",
        "print(f'us_vcp_hourly_sdf: {us_vcp_hourly_sdf.count()}')"
      ],
      "metadata": {
        "colab": {
          "base_uri": "https://localhost:8080/"
        },
        "id": "1QT8U8qYlpbb",
        "outputId": "5fad099b-9f84-4402-a0a2-2d6bf6de4fbc"
      },
      "execution_count": 39,
      "outputs": [
        {
          "output_type": "stream",
          "name": "stdout",
          "text": [
            "us_vcp_hourly_00_sdf: 87264\n",
            "us_vcp_hourly_sdf: 174528\n"
          ]
        }
      ]
    },
    {
      "cell_type": "code",
      "source": [
        "print(type(us_vcp_hourly_00_sdf))\n",
        "print(type(us_vcp_hourly_sdf))"
      ],
      "metadata": {
        "colab": {
          "base_uri": "https://localhost:8080/"
        },
        "id": "ClKIUI0Ddum-",
        "outputId": "8692110a-cb15-44a0-ac6f-461c23ccc9e4"
      },
      "execution_count": 40,
      "outputs": [
        {
          "output_type": "stream",
          "name": "stdout",
          "text": [
            "<class 'pyspark.sql.dataframe.DataFrame'>\n",
            "<class 'pyspark.sql.dataframe.DataFrame'>\n"
          ]
        }
      ]
    },
    {
      "cell_type": "code",
      "source": [
        "us_vcp_hourly_sdf.columns"
      ],
      "metadata": {
        "colab": {
          "base_uri": "https://localhost:8080/"
        },
        "id": "UhVMu73iwcUp",
        "outputId": "f6a8b1c7-de17-4e4c-c06f-7d9ebe3f3d89"
      },
      "execution_count": 41,
      "outputs": [
        {
          "output_type": "execute_result",
          "data": {
            "text/plain": [
              "['TIMESTAMP_START',\n",
              " 'TIMESTAMP_END',\n",
              " 'TA_F',\n",
              " 'TA_F_QC',\n",
              " 'TA_ERA',\n",
              " 'SW_IN_POT',\n",
              " 'SW_IN_F',\n",
              " 'SW_IN_F_QC',\n",
              " 'SW_IN_ERA',\n",
              " 'LW_IN_F',\n",
              " 'LW_IN_F_QC',\n",
              " 'LW_IN_ERA',\n",
              " 'VPD_F',\n",
              " 'VPD_F_QC',\n",
              " 'VPD_ERA',\n",
              " 'P_F',\n",
              " 'P_F_QC',\n",
              " 'P_ERA',\n",
              " 'PA_F',\n",
              " 'PA_F_QC',\n",
              " 'PA_ERA',\n",
              " 'NETRAD',\n",
              " 'PPFD_IN',\n",
              " 'G_F_MDS',\n",
              " 'G_F_MDS_QC',\n",
              " 'LE_F_MDS',\n",
              " 'LE_F_MDS_QC',\n",
              " 'LE_CORR',\n",
              " 'H_F_MDS',\n",
              " 'H_F_MDS_QC',\n",
              " 'H_CORR',\n",
              " 'NEE_VUT_REF',\n",
              " 'NEE_VUT_REF_QC',\n",
              " 'NEE_CUT_REF',\n",
              " 'NEE_CUT_REF_QC',\n",
              " 'GPP_NT_VUT_REF',\n",
              " 'GPP_DT_VUT_REF',\n",
              " 'GPP_NT_CUT_REF',\n",
              " 'GPP_DT_CUT_REF',\n",
              " 'RECO_NT_VUT_REF',\n",
              " 'RECO_DT_VUT_REF',\n",
              " 'RECO_NT_CUT_REF',\n",
              " 'RECO_DT_CUT_REF',\n",
              " 'datetime',\n",
              " 'year',\n",
              " 'month',\n",
              " 'day',\n",
              " 'hour',\n",
              " 'SITE_ID',\n",
              " 'date',\n",
              " 'NEE_VUT_REF_qa',\n",
              " 'SW_DIF',\n",
              " 'EVI',\n",
              " 'NDVI',\n",
              " 'NIRv',\n",
              " 'b1',\n",
              " 'b2',\n",
              " 'b3',\n",
              " 'b4',\n",
              " 'b5',\n",
              " 'b6',\n",
              " 'b7',\n",
              " 'IGBP',\n",
              " 'koppen',\n",
              " 'min_categorical']"
            ]
          },
          "metadata": {},
          "execution_count": 41
        }
      ]
    },
    {
      "cell_type": "code",
      "source": [
        "# Features used for this analysis\n",
        "output_var = 'GPP_NT_VUT_REF'\n",
        "# other options\n",
        "output_related_var = ['NEE_VUT_REF', 'NEE_VUT_REF_QC',\n",
        "       'NEE_CUT_REF', 'NEE_CUT_REF_QC', 'GPP_NT_VUT_REF', 'GPP_DT_VUT_REF',\n",
        "       'GPP_NT_CUT_REF', 'GPP_DT_CUT_REF', 'RECO_NT_VUT_REF',\n",
        "       'RECO_DT_VUT_REF', 'RECO_NT_CUT_REF', 'RECO_DT_CUT_REF',\n",
        "       'NEE_VUT_REF_qa']\n",
        "\n",
        "pred_var_numeric = ['TA_F', 'TA_ERA','SW_IN_POT', 'SW_IN_F','SW_IN_ERA',\n",
        "                 'LW_IN_F','LW_IN_ERA', 'VPD_F', 'VPD_ERA',\n",
        "                 'P_F','P_ERA', 'PA_F',  'PA_ERA', 'NETRAD', 'PPFD_IN',\n",
        "                 'LE_F_MDS', 'H_F_MDS', 'EVI', 'NDVI', 'NIRv',\n",
        "                 'b1', 'b2', 'b3', 'b4', 'b5', 'b6','b7',\n",
        "                 'year', 'month', 'day', 'hour' ]\n",
        "\n",
        "pred_var_categorical = ['koppen']\n",
        "\n",
        "other_var =  ['TIMESTAMP_START', 'TIMESTAMP_END', 'datetime',\n",
        "              'SITE_ID', 'date', 'IGBP',\n",
        "              'koppen']\n",
        "\n",
        "qc_flags = ['TA_F_QC','SW_IN_F_QC','LW_IN_F_QC','VPD_F_QC',\n",
        "            'P_F_QC', 'PA_F_QC','G_F_MDS_QC', 'LE_F_MDS_QC',\n",
        "            'H_F_MDS_QC'] \n",
        "\n",
        "NA_list = ['G_F_MDS', 'LE_CORR', 'H_CORR','SW_DIF']\n",
        "           # 'G_F_MDS_QC', 'LE_F_MDS_QC', 'H_F_MDS_QC' is skipped because they are included in qc flags\n",
        "len(output_related_var + pred_var_numeric + pred_var_categorical + other_var + qc_flags + NA_list)\n",
        "# output_var is included in output_related_var"
      ],
      "metadata": {
        "colab": {
          "base_uri": "https://localhost:8080/"
        },
        "id": "cXuzbyX7wcRH",
        "outputId": "ecd55e74-231a-4138-ca77-98553a673902"
      },
      "execution_count": 42,
      "outputs": [
        {
          "output_type": "execute_result",
          "data": {
            "text/plain": [
              "64"
            ]
          },
          "metadata": {},
          "execution_count": 42
        }
      ]
    },
    {
      "cell_type": "code",
      "source": [
        "# Features for RFRegressor \n",
        "feature_list = pred_var_numeric + pred_var_categorical # [output_var] is not included in the list"
      ],
      "metadata": {
        "id": "K8K0-6Kq0l1A"
      },
      "execution_count": 43,
      "outputs": []
    },
    {
      "cell_type": "code",
      "source": [
        "# Update Spark dataframe\n",
        "us_vcp_hourly_rf = us_vcp_hourly_sdf.select([output_var] + feature_list)\n",
        "us_vcp_hourly_rf.show()"
      ],
      "metadata": {
        "colab": {
          "base_uri": "https://localhost:8080/"
        },
        "id": "KshdQz56wcOI",
        "outputId": "fbaec3f7-6264-42b9-e0ef-591319e7f8ed"
      },
      "execution_count": 44,
      "outputs": [
        {
          "output_type": "stream",
          "name": "stdout",
          "text": [
            "+--------------+------+-------+---------+-------+---------+-------+---------+-----+-------+---+-----+------+------+----------+-------+---------+--------+------------------+------------------+------------------+------+------+-----+------+------+------+------+----+-----+---+----+------+\n",
            "|GPP_NT_VUT_REF|  TA_F| TA_ERA|SW_IN_POT|SW_IN_F|SW_IN_ERA|LW_IN_F|LW_IN_ERA|VPD_F|VPD_ERA|P_F|P_ERA|  PA_F|PA_ERA|    NETRAD|PPFD_IN| LE_F_MDS| H_F_MDS|               EVI|              NDVI|              NIRv|    b1|    b2|   b3|    b4|    b5|    b6|    b7|year|month|day|hour|koppen|\n",
            "+--------------+------+-------+---------+-------+---------+-------+---------+-----+-------+---+-----+------+------+----------+-------+---------+--------+------------------+------------------+------------------+------+------+-----+------+------+------+------+----+-----+---+----+------+\n",
            "|     -0.178472|-7.706| -9.299|      0.0|    0.0|      0.0|202.327|  202.327|0.484|   1.58|0.0|  0.0|75.633|75.452|-84.713875|   null| 0.874446|-29.7952|0.3052561641813081|0.3364524003254678|0.1105246135069162|0.1631|0.3285|0.127|0.1362|0.1932|0.0567|0.0283|2007|    1|  1|   0|  Cold|\n",
            "|     -0.197405|-8.095| -9.672|      0.0|    0.0|      0.0|202.327|  202.327|0.395|  1.553|0.0|  0.0|75.614|75.443|-80.137327|   null| 0.757796|-25.9238|0.3052561641813081|0.3364524003254678|0.1105246135069162|0.1631|0.3285|0.127|0.1362|0.1932|0.0567|0.0283|2007|    1|  1|   0|  Cold|\n",
            "|     -0.170178|-8.582|-10.044|      0.0|    0.0|      0.0|202.327|  202.327|0.346|  1.525|0.0|  0.0|75.626|75.434|-77.276725|   null|-0.013153|-6.03858|0.3052561641813081|0.3364524003254678|0.1105246135069162|0.1631|0.3285|0.127|0.1362|0.1932|0.0567|0.0283|2007|    1|  1|   1|  Cold|\n",
            "|        -0.198|-8.136|-10.417|      0.0|    0.0|      0.0|202.327|  202.327|0.479|  1.497|0.0|  0.0|75.635|75.424|-73.738416|   null| 0.991684|-28.4935|0.3052561641813081|0.3364524003254678|0.1105246135069162|0.1631|0.3285|0.127|0.1362|0.1932|0.0567|0.0283|2007|    1|  1|   1|  Cold|\n",
            "|     -0.167504|-8.393|-10.789|      0.0|    0.0|      0.0|208.388|  208.388|0.433|  1.469|0.0|  0.0|75.626|75.415|-69.073434|   null|  1.07368|-27.7042|0.3052561641813081|0.3364524003254678|0.1105246135069162|0.1631|0.3285|0.127|0.1362|0.1932|0.0567|0.0283|2007|    1|  1|   2|  Cold|\n",
            "|     -0.168555|-8.467|-10.889|      0.0|    0.0|      0.0|208.388|  208.388|0.407|  1.464|0.0|  0.0|75.614|75.407|-66.002209|   null|  1.49293|-12.6872|0.3052561641813081|0.3364524003254678|0.1105246135069162|0.1631|0.3285|0.127|0.1362|0.1932|0.0567|0.0283|2007|    1|  1|   2|  Cold|\n",
            "|     -0.167845|-8.417|-10.989|      0.0|    0.0|      0.0|208.388|  208.388|0.406|  1.459|0.0|  0.0|75.595|75.399|-62.477146|   null|   1.0148|-27.3611|0.3052561641813081|0.3364524003254678|0.1105246135069162|0.1631|0.3285|0.127|0.1362|0.1932|0.0567|0.0283|2007|    1|  1|   3|  Cold|\n",
            "|     -0.167276|-8.377|-11.089|      0.0|    0.0|      0.0|208.388|  208.388|0.354|  1.453|0.0|  0.0|75.572|75.391|-59.371677|   null|-0.654014|-37.3254|0.3052561641813081|0.3364524003254678|0.1105246135069162|0.1631|0.3285|0.127|0.1362|0.1932|0.0567|0.0283|2007|    1|  1|   3|  Cold|\n",
            "|      0.628828|-8.239|-11.188|      0.0|    0.0|      0.0|208.388|  208.388|0.335|  1.448|0.0|  0.0|75.544|75.384|-55.186988|   null| -2.91646|-52.7771|0.3052561641813081|0.3364524003254678|0.1105246135069162|0.1631|0.3285|0.127|0.1362|0.1932|0.0567|0.0283|2007|    1|  1|   4|  Cold|\n",
            "|     -0.197872|-9.625|-11.288|      0.0|    0.0|      0.0|208.388|  208.388|0.221|  1.443|0.0|  0.0|75.547|75.376|-49.735065|   null|-0.377123|-13.8925|0.3052561641813081|0.3364524003254678|0.1105246135069162|0.1631|0.3285|0.127|0.1362|0.1932|0.0567|0.0283|2007|    1|  1|   4|  Cold|\n",
            "|     -0.197742|-9.615|-11.388|      0.0|    0.0|      0.0|219.984|  219.984|0.297|  1.437|0.0|  0.0|75.564|75.368|-43.901841|   null|-0.377123|-13.8925|0.3052561641813081|0.3364524003254678|0.1105246135069162|0.1631|0.3285|0.127|0.1362|0.1932|0.0567|0.0283|2007|    1|  1|   5|  Cold|\n",
            "|     -0.161076|-8.954|-11.325|      0.0|    0.0|      0.0|219.984|  219.984|0.384|   1.42|0.0|  0.0|75.545|75.362|-32.038506|   null| 0.730879|-25.4808|0.3052561641813081|0.3364524003254678|0.1105246135069162|0.1631|0.3285|0.127|0.1362|0.1932|0.0567|0.0283|2007|    1|  1|   5|  Cold|\n",
            "|     -0.151028|-9.073|-11.262|      0.0|    0.0|      0.0|219.984|  219.984|0.381|  1.403|0.0|  0.0|75.527|75.356|-24.443352|   null| 0.730879|-24.1841|0.3052561641813081|0.3364524003254678|0.1105246135069162|0.1631|0.3285|0.127|0.1362|0.1932|0.0567|0.0283|2007|    1|  1|   6|  Cold|\n",
            "|     -0.168707|-9.432|-11.199|      0.0|    0.0|      0.0|219.984|  219.984|0.286|  1.386|0.0|  0.0| 75.54| 75.35|-14.566678|   null|  2.29366| 17.2818|0.3052561641813081|0.3364524003254678|0.1105246135069162|0.1631|0.3285|0.127|0.1362|0.1932|0.0567|0.0283|2007|    1|  1|   6|  Cold|\n",
            "|      -1.75955|-8.197|-11.136|  5.67408| 19.617|      0.0|219.984|  219.984| 0.34|  1.368|0.0|  0.0|75.538|75.344|      null|   null|  0.55161| 5.26719|0.3052561641813081|0.3364524003254678|0.1105246135069162|0.1631|0.3285|0.127|0.1362|0.1932|0.0567|0.0283|2007|    1|  1|   7|  Cold|\n",
            "|      0.466371|-8.148|-11.073|  102.712| 23.436|   23.574|219.984|  219.984|0.313|  1.351|0.0|  0.0|75.539|75.338| 7.3475469|   null| -2.44141|-7.51916|0.3052561641813081|0.3364524003254678|0.1105246135069162|0.1631|0.3285|0.127|0.1362|0.1932|0.0567|0.0283|2007|    1|  1|   7|  Cold|\n",
            "|     0.0929952|-8.059| -11.01|  225.703| 55.033|   119.82|239.555|  239.555|0.341|  1.334|0.0|  0.0|75.552|75.331| 32.609144|   null|  1.80258| 6.03893|0.3052561641813081|0.3364524003254678|0.1105246135069162|0.1631|0.3285|0.127|0.1362|0.1932|0.0567|0.0283|2007|    1|  1|   8|  Cold|\n",
            "|      0.604961|-6.052|  -9.96|   339.24|  97.04|  179.915|239.555|  239.555|0.464|  1.449|0.0|  0.0|75.571|75.341| 68.246251|   null|  1.91211|-15.9532|0.3052561641813081|0.3364524003254678|0.1105246135069162|0.1631|0.3285|0.127|0.1362|0.1932|0.0567|0.0283|2007|    1|  1|   8|  Cold|\n",
            "|       1.44861|-4.464|  -8.91|  441.381|144.801|  233.988|239.555|  239.555|0.581|  1.564|0.0|  0.0| 75.57|75.351| 104.46436|   null|  14.7108| 15.9932|0.3052561641813081|0.3364524003254678|0.1105246135069162|0.1631|0.3285|0.127|0.1362|0.1932|0.0567|0.0283|2007|    1|  1|   9|  Cold|\n",
            "|       1.20948|-4.086|  -7.86|  530.378|164.547|  281.113|239.555|  239.555|0.617|  1.679|0.0|  0.0|75.579| 75.36| 108.13861|   null|  19.8427| 10.7155|0.3052561641813081|0.3364524003254678|0.1105246135069162|0.1631|0.3285|0.127|0.1362|0.1932|0.0567|0.0283|2007|    1|  1|   9|  Cold|\n",
            "+--------------+------+-------+---------+-------+---------+-------+---------+-----+-------+---+-----+------+------+----------+-------+---------+--------+------------------+------------------+------------------+------+------+-----+------+------+------+------+----+-----+---+----+------+\n",
            "only showing top 20 rows\n",
            "\n"
          ]
        }
      ]
    },
    {
      "cell_type": "markdown",
      "source": [
        "NETRAD has large amount of missing values"
      ],
      "metadata": {
        "id": "9eL89TsH1MJf"
      }
    },
    {
      "cell_type": "code",
      "source": [
        "# counts the number of None in each feature\n",
        "from pyspark.sql.functions import isnull, when, count, col\n",
        "us_vcp_hourly_rf.select([count(when(isnull(c), c)).alias(c) for c in us_vcp_hourly_rf.columns]).show()"
      ],
      "metadata": {
        "colab": {
          "base_uri": "https://localhost:8080/"
        },
        "id": "sVbLbTFP1AX_",
        "outputId": "170f064f-a1ad-4821-f768-a2dfb5e49110"
      },
      "execution_count": 45,
      "outputs": [
        {
          "output_type": "stream",
          "name": "stdout",
          "text": [
            "+--------------+----+------+---------+-------+---------+-------+---------+-----+-------+---+-----+----+------+------+-------+--------+-------+-----+-----+-----+-----+-----+-----+-----+-----+-----+-----+----+-----+---+----+------+\n",
            "|GPP_NT_VUT_REF|TA_F|TA_ERA|SW_IN_POT|SW_IN_F|SW_IN_ERA|LW_IN_F|LW_IN_ERA|VPD_F|VPD_ERA|P_F|P_ERA|PA_F|PA_ERA|NETRAD|PPFD_IN|LE_F_MDS|H_F_MDS|  EVI| NDVI| NIRv|   b1|   b2|   b3|   b4|   b5|   b6|   b7|year|month|day|hour|koppen|\n",
            "+--------------+----+------+---------+-------+---------+-------+---------+-----+-------+---+-----+----+------+------+-------+--------+-------+-----+-----+-----+-----+-----+-----+-----+-----+-----+-----+----+-----+---+----+------+\n",
            "|             0|   0|     0|        0|      0|        0|      0|        0|    0|      0|  0|    0|   0|     0| 50346|  13861|       0|      0|10992|10944|10944|10944|10896|10992|10944|12240|17664|10896|   0|    0|  0|   0|     0|\n",
            "+--------------+----+------+---------+-------+---------+-------+---------+-----+-------+---+-----+----+------+------+-------+--------+-------+-----+-----+-----+-----+-----+-----+-----+-----+-----+-----+----+-----+---+----+------+\n",
            "\n"
          ]
        }
      ]
    },
    {
      "cell_type": "code",
      "source": [
        "rf_noNETRAD_list = ['TA_F','TA_ERA', 'SW_IN_POT', 'SW_IN_F',\n",
        "                    'SW_IN_ERA', 'LW_IN_F', 'LW_IN_ERA','VPD_F','VPD_ERA',\n",
        "                    'P_F', 'P_ERA', 'PA_F', 'PA_ERA', 'PPFD_IN',\n",
        "                    'LE_F_MDS', 'H_F_MDS', 'EVI', 'NDVI', 'NIRv',\n",
        "                    'b1', 'b2', 'b3', 'b4', 'b5', 'b6', 'b7',\n",
        "                    'year', 'month', 'day', 'hour'] + pred_var_categorical#'NETRAD',\n",
        "output_var = 'GPP_NT_VUT_REF'"
      ],
      "metadata": {
        "id": "8wVKIf7h2eYl"
      },
      "execution_count": 46,
      "outputs": []
    },
    {
      "cell_type": "code",
      "source": [
        "# Remove NETRAD from column and count the rows\n",
        "us_vcp_hourly_rf_NAdrop_noNETRAD = us_vcp_hourly_rf.select([output_var] + rf_noNETRAD_list)\n",
        "us_vcp_hourly_rf_NAdrop_noNETRAD = us_vcp_hourly_rf_NAdrop_noNETRAD.na.drop(\"any\")\n",
        "us_vcp_hourly_rf_NAdrop_noNETRAD.count()"
      ],
      "metadata": {
        "colab": {
          "base_uri": "https://localhost:8080/"
        },
        "id": "ayLSDlFD2QM2",
        "outputId": "18aae26d-e68a-4d91-8120-1cc5b572a551"
      },
      "execution_count": 47,
      "outputs": [
        {
          "output_type": "execute_result",
          "data": {
            "text/plain": [
              "143255"
            ]
          },
          "metadata": {},
          "execution_count": 47
        }
      ]
    },
    {
      "cell_type": "code",
      "source": [
        "# Keep NETRAD from column and count the rows\n",
        "us_vcp_hourly_rf_NAdrop = us_vcp_hourly_rf.na.drop(\"any\")\n",
        "us_vcp_hourly_rf_NAdrop.count()"
      ],
      "metadata": {
        "colab": {
          "base_uri": "https://localhost:8080/"
        },
        "id": "e6usHm3nwcJe",
        "outputId": "ad2f7180-835f-4143-f253-d1e801a6bb1e"
      },
      "execution_count": 48,
      "outputs": [
        {
          "output_type": "execute_result",
          "data": {
            "text/plain": [
              "104846"
            ]
          },
          "metadata": {},
          "execution_count": 48
        }
      ]
    },
    {
      "cell_type": "markdown",
      "source": [
        "Use `us_vcp_hourly_rf_NAdrop` in the later phase\n",
        "- Assuming NETRAD is also significant feature, use the df with NETRAD first.\n",
        "- Based on the result obtained from smaller df, decide whether to drop NETRAD and use the larger dataset"
      ],
      "metadata": {
        "id": "NGO40PdT3-Vi"
      }
    },
    {
      "cell_type": "code",
      "source": [
        "us_vcp_hourly_rf_NAdrop.show()"
      ],
      "metadata": {
        "colab": {
          "base_uri": "https://localhost:8080/"
        },
        "id": "NsYwb8vY4rpX",
        "outputId": "21405a7a-53e9-46cb-94fc-e1283cd49cc6"
      },
      "execution_count": 49,
      "outputs": [
        {
          "output_type": "stream",
          "name": "stdout",
          "text": [
            "+--------------+------+------+---------+-------+---------+-------+---------+-----+-------+---+-----+------+------+----------+---------+--------+--------+------------------+------------------+------------------+------+------+------+------+------+------+------+----+-----+---+----+------+\n",
            "|GPP_NT_VUT_REF|  TA_F|TA_ERA|SW_IN_POT|SW_IN_F|SW_IN_ERA|LW_IN_F|LW_IN_ERA|VPD_F|VPD_ERA|P_F|P_ERA|  PA_F|PA_ERA|    NETRAD|  PPFD_IN|LE_F_MDS| H_F_MDS|               EVI|              NDVI|              NIRv|    b1|    b2|    b3|    b4|    b5|    b6|    b7|year|month|day|hour|koppen|\n",
            "+--------------+------+------+---------+-------+---------+-------+---------+-----+-------+---+-----+------+------+----------+---------+--------+--------+------------------+------------------+------------------+------+------+------+------+------+------+------+----+-----+---+----+------+\n",
            "|      -3.47747|11.853|19.185|      0.0|    0.0|      0.0|316.061|  316.061|1.913| 14.306|0.0|  0.0|75.885| 75.46|-41.358245|      0.0| 5.21837|-19.2016|0.3635674035543996|0.6142813548977724|0.1624774183704607|0.0632|0.2645|0.0346|0.0656|0.2811|0.1969| 0.112|2007|    7|  7|  20|  Cold|\n",
            "|      -3.93836|12.559|18.564|      0.0|  0.126|      0.0|316.061|  316.061|2.745| 13.581|0.0|  0.0|75.922|75.466|-54.664057|      0.0| 3.75283|-23.6819|0.3635674035543996|0.6142813548977724|0.1624774183704607|0.0632|0.2645|0.0346|0.0656|0.2811|0.1969| 0.112|2007|    7|  7|  20|  Cold|\n",
            "|      -3.92748|12.678|17.943|      0.0|    0.0|      0.0|316.061|  316.061|2.581| 12.855|0.0|  0.0|75.919|75.472|-68.213663|      0.0| 3.52985|-25.1152|0.3635674035543996|0.6142813548977724|0.1624774183704607|0.0632|0.2645|0.0346|0.0656|0.2811|0.1969| 0.112|2007|    7|  7|  21|  Cold|\n",
            "|      -3.94478|12.391|17.322|      0.0|    0.0|      0.0|316.061|  316.061|3.444|  12.13|0.0|  0.0|75.908|75.478| -83.83996|      0.0| 4.07696|-23.6129|0.3635674035543996|0.6142813548977724|0.1624774183704607|0.0632|0.2645|0.0346|0.0656|0.2811|0.1969| 0.112|2007|    7|  7|  21|  Cold|\n",
            "|      -3.47253|11.778|  16.7|      0.0|    0.0|      0.0|316.061|  316.061|2.714| 11.404|0.0|  0.0|75.929|75.484|-85.119171|      0.0| 5.21173|-16.9545|0.3635674035543996|0.6142813548977724|0.1624774183704607|0.0632|0.2645|0.0346|0.0656|0.2811|0.1969| 0.112|2007|    7|  7|  22|  Cold|\n",
            "|     -0.549345|10.658|16.079|      0.0|    0.0|      0.0|316.061|  316.061|1.834| 10.679|0.0|  0.0|75.969| 75.49|-73.000521|      0.0| 5.13772|-20.9012|0.3635674035543996|0.6142813548977724|0.1624774183704607|0.0632|0.2645|0.0346|0.0656|0.2811|0.1969| 0.112|2007|    7|  7|  22|  Cold|\n",
            "|      -3.93107|12.476|15.458|      0.0|  0.103|      0.0|308.436|  308.436|2.985|  9.953|0.0|  0.0|75.961|75.495|-78.545402|      0.0|-11.9109|-30.4426|0.3635674035543996|0.6142813548977724|0.1624774183704607|0.0632|0.2645|0.0346|0.0656|0.2811|0.1969| 0.112|2007|    7|  7|  23|  Cold|\n",
            "|      -1.24989|14.596|14.977|      0.0|  0.598|      0.0|308.436|  308.436|4.359|  9.527|0.0|  0.0|75.913| 75.48|-67.872031|      0.0| 2.92989|-31.2152|0.3635674035543996|0.6142813548977724|0.1624774183704607|0.0632|0.2645|0.0346|0.0656|0.2811|0.1969| 0.112|2007|    7|  7|  23|  Cold|\n",
            "|      -1.77155|13.925|14.496|      0.0|    0.0|      0.0|308.436|  308.436|4.042|  9.101|0.0|  0.0|75.846|75.464|-64.413632|      0.0| 2.48424|-28.7576|0.3616785318212714|0.6028622540250448| 0.162049373881932|0.0666|0.2688|0.0361|0.0674|0.2885|0.1955|0.1093|2007|    7|  8|   0|  Cold|\n",
            "|       -3.9068| 12.71|14.015|      0.0|    0.0|      0.0|308.436|  308.436|3.154|  8.675|0.0|  0.0|75.825|75.449| -61.07649|      0.0| 3.52985|-24.1073|0.3616785318212714|0.6028622540250448| 0.162049373881932|0.0666|0.2688|0.0361|0.0674|0.2885|0.1955|0.1093|2007|    7|  8|   0|  Cold|\n",
            "|      -3.94456|12.135|13.534|      0.0|    0.0|      0.0|308.436|  308.436|3.333|  8.249|0.0|  0.0|75.812|75.433|-69.066779|      0.0| 13.1904| 4.86626|0.3616785318212714|0.6028622540250448| 0.162049373881932|0.0666|0.2688|0.0361|0.0674|0.2885|0.1955|0.1093|2007|    7|  8|   1|  Cold|\n",
            "|      -3.28295|12.795|13.053|      0.0|    0.0|      0.0|308.436|  308.436|4.642|  7.823|0.0|  0.0|75.792|75.418|-70.498328|      0.0| 3.70538|-25.9488|0.3616785318212714|0.6028622540250448| 0.162049373881932|0.0666|0.2688|0.0361|0.0674|0.2885|0.1955|0.1093|2007|    7|  8|   1|  Cold|\n",
            "|     -0.985718|10.089|15.691|      0.0|    0.0|      0.0|352.146|  352.146|0.882|  9.196|0.0|  0.0|76.215|75.881|  -3.58363|11.118114| 5.06805|-28.5616|0.3807558180912391|0.6121281464530892|0.1724977116704805|0.0678|0.2818|0.0378|0.0694|0.3058|0.2043| 0.118|2007|    7| 12|   1|  Cold|\n",
            "|      -1.03321| 9.548|15.436|      0.0|    0.0|      0.0|343.234|  343.234|0.724|   8.75|0.0|  0.0|76.205|75.871|-3.1408153|      0.0| 5.58934|-30.7925|0.3807558180912391|0.6121281464530892|0.1724977116704805|0.0678|0.2818|0.0378|0.0694|0.3058|0.2043| 0.118|2007|    7| 12|   2|  Cold|\n",
            "|     -0.962612|10.373|15.202|      0.0|    0.0|      0.0|343.234|  343.234|0.811|  8.409|0.0|  0.0| 76.19|75.865| -3.309095|      0.0| 4.75825|-29.0381|0.3807558180912391|0.6121281464530892|0.1724977116704805|0.0678|0.2818|0.0378|0.0694|0.3058|0.2043| 0.118|2007|    7| 12|   2|  Cold|\n",
            "|     -0.169853|10.717|14.967|      0.0|    0.0|      0.0|343.234|  343.234|0.788|  8.068|0.0|  0.0| 76.19|75.858|-3.5486747|      0.0| 5.54585|-25.8242|0.3807558180912391|0.6121281464530892|0.1724977116704805|0.0678|0.2818|0.0378|0.0694|0.3058|0.2043| 0.118|2007|    7| 12|   3|  Cold|\n",
            "|     -0.165764|10.773|14.733|      0.0|    0.0|      0.0|343.234|  343.234|0.853|  7.727|0.0|  0.0|76.189|75.851|-3.6307494|      0.0| 5.54585|-25.8242|0.3807558180912391|0.6121281464530892|0.1724977116704805|0.0678|0.2818|0.0378|0.0694|0.3058|0.2043| 0.118|2007|    7| 12|   3|  Cold|\n",
            "|      -3.14012| 11.04|14.499|      0.0|    0.0|      0.0|343.234|  343.234|1.591|  7.386|0.0|  0.0|76.189|75.844| -3.938716|      0.0| 5.54585|-68.5798|0.3807558180912391|0.6121281464530892|0.1724977116704805|0.0678|0.2818|0.0378|0.0694|0.3058|0.2043| 0.118|2007|    7| 12|   4|  Cold|\n",
            "|      -3.06292|11.919|14.264|      0.0|    0.0|      0.0|343.234|  343.234|2.431|  7.045|0.0|  0.0|76.179|75.837| -4.590268|1.0277503|  6.0352|-25.8378|0.3807558180912391|0.6121281464530892|0.1724977116704805|0.0678|0.2818|0.0378|0.0694|0.3058|0.2043| 0.118|2007|    7| 12|   4|  Cold|\n",
            "|       6.16608|11.624|14.439|  178.004| 37.572|   86.241|321.807|  321.807| 2.71|   7.49|0.0|  0.0|76.144|75.847| 30.963825|67.252647| 104.172|-25.2968|0.3807558180912391|0.6121281464530892|0.1724977116704805|0.0678|0.2818|0.0378|0.0694|0.3058|0.2043| 0.118|2007|    7| 12|   5|  Cold|\n",
            "+--------------+------+------+---------+-------+---------+-------+---------+-----+-------+---+-----+------+------+----------+---------+--------+--------+------------------+------------------+------------------+------+------+------+------+------+------+------+----+-----+---+----+------+\n",
            "only showing top 20 rows\n",
            "\n"
          ]
        }
      ]
    },
    {
      "cell_type": "markdown",
      "source": [
        "# RF feature selection with pyspark\n",
        "- In modeling, train-test split(+cross validation) needs to be implemented additionally"
      ],
      "metadata": {
        "id": "68QPJ2XDewY3"
      }
    },
    {
      "cell_type": "code",
      "source": [
        "!pip install pyspark"
      ],
      "metadata": {
        "colab": {
          "base_uri": "https://localhost:8080/"
        },
        "id": "H3Da7yQDsw7N",
        "outputId": "e2fa5d0b-3034-4521-a35b-009597a63a22"
      },
      "execution_count": 50,
      "outputs": [
        {
          "output_type": "stream",
          "name": "stdout",
          "text": [
            "Looking in indexes: https://pypi.org/simple, https://us-python.pkg.dev/colab-wheels/public/simple/\n",
            "Requirement already satisfied: pyspark in /usr/local/lib/python3.8/dist-packages (3.3.1)\n",
            "Requirement already satisfied: py4j==0.10.9.5 in /usr/local/lib/python3.8/dist-packages (from pyspark) (0.10.9.5)\n"
          ]
        }
      ]
    },
    {
      "cell_type": "code",
      "source": [
        "from pyspark.mllib.stat import Statistics\n",
        "from pyspark.ml.stat import Correlation\n",
        "from pyspark.sql.functions import col\n",
        "\n",
        "from pyspark.ml.feature import VectorAssembler\n",
        "from pyspark.ml.feature import StandardScaler\n",
        "from pyspark.ml.feature import MinMaxScaler\n",
        "from pyspark.mllib.evaluation import MulticlassMetrics, BinaryClassificationMetrics\n",
        "from pyspark.ml.feature import StringIndexer, OneHotEncoder\n",
        "\n",
        "# Import fro classifier\n",
        "# from pyspark.ml.evaluation import BinaryClassificationEvaluator\n",
        "# from pyspark.ml.classification import RandomForestClassifier\n",
        "\n",
        "from pyspark.ml import Pipeline\n",
        "from pyspark.ml.regression import RandomForestRegressor\n",
        "from pyspark.ml.feature import VectorIndexer\n",
        "from pyspark.ml.evaluation import RegressionEvaluator\n",
        "\n",
        "# Documentation for RFRegressor in Spark\n",
        "# https://spark.apache.org/docs/latest/api/python/reference/api/pyspark.ml.regression.RandomForestRegressor.html"
      ],
      "metadata": {
        "id": "dfIqnxRvZW_0"
      },
      "execution_count": 51,
      "outputs": []
    },
    {
      "cell_type": "markdown",
      "source": [
        "## Convert categorical variable to numeric\n",
        "- For monthly dataset, we need to go through the steps because of the several categorical variables"
      ],
      "metadata": {
        "id": "cLKsSMfZJd5B"
      }
    },
    {
      "cell_type": "markdown",
      "source": [
        "### StringIndexer\n",
        "\n",
        "- Convert string categorical variables to numeric variables"
      ],
      "metadata": {
        "id": "W33nkx5pJd5C"
      }
    },
    {
      "cell_type": "code",
      "source": [
        "# Categorical features in monthly dataset\n",
        "pred_var_categorical"
      ],
      "metadata": {
        "colab": {
          "base_uri": "https://localhost:8080/"
        },
        "id": "K3iWFbPTWjXF",
        "outputId": "1a072b71-0207-4226-e614-edf884cf5e5d"
      },
      "execution_count": 52,
      "outputs": [
        {
          "output_type": "execute_result",
          "data": {
            "text/plain": [
              "['koppen']"
            ]
          },
          "metadata": {},
          "execution_count": 52
        }
      ]
    },
    {
      "cell_type": "code",
      "source": [
        "from pyspark.ml.feature import StringIndexer, OneHotEncoder\n",
        " \n",
        "categoricalCols = pred_var_categorical\n",
        " \n",
        "# The following two lines are estimators. They return functions that we will later apply to transform the dataset.\n",
        "stringIndexer = StringIndexer(inputCols=categoricalCols, outputCols=[x + \"_Index\" for x in categoricalCols]) \n",
        "encoder = OneHotEncoder(inputCols=stringIndexer.getOutputCols(), outputCols=[x + \"_OHE\" for x in categoricalCols]) \n",
        " \n",
        "# Example\n",
        "# If the label column (\"income\") is also a string value - let's say it has two possible values, \"<=50K\" and \">50K\". \n",
        "# Convert it to a numeric value using StringIndexer.\n",
        "# labelToIndex = StringIndexer(inputCol=\"income\", outputCol=\"label\")"
      ],
      "metadata": {
        "id": "iZnaj_XAJd5C"
      },
      "execution_count": 58,
      "outputs": []
    },
    {
      "cell_type": "markdown",
      "source": [
        "For Categorical variables, new column XXX_Index is added and numerical values are assigned to each category."
      ],
      "metadata": {
        "id": "23bEZGyJJd5C"
      }
    },
    {
      "cell_type": "code",
      "source": [
        "# This case we run code for feature importance, not modeling /prediction \n",
        "# Therefore full dataset is provided as input\n",
        "stringIndexerModel = stringIndexer.fit(us_vcp_hourly_rf_NAdrop)\n",
        "us_vcp_hourly_rf_NAdrop_STI = stringIndexerModel.transform(us_vcp_hourly_rf_NAdrop) # STI = StringIndexer\n",
        "\n",
        "# Typically input data is train set/holdout set\n",
        "    # stringIndexerModel = stringIndexer.fit(train0)\n",
        "    # train0_STI = stringIndexerModel.transform(train0) # STI = StringIndexer\n",
        "    # display(train0_STI)\n",
        "\n",
        "  # same operation for holdout data\n",
        "    # stringIndexerModel = stringIndexer.fit(holdout0)\n",
        "    # holdout0_STI = stringIndexerModel.transform(holdout0) # STI = StringIndexer\n",
        "    # display(holdout0_STI)"
      ],
      "metadata": {
        "id": "wnztHATvJd5C"
      },
      "execution_count": 59,
      "outputs": []
    },
    {
      "cell_type": "code",
      "source": [
        "us_vcp_hourly_rf_NAdrop_STI.show()"
      ],
      "metadata": {
        "colab": {
          "base_uri": "https://localhost:8080/"
        },
        "id": "Ajeqdq-0Xqie",
        "outputId": "081f3d2c-03db-4147-cc44-e3206c562be2"
      },
      "execution_count": 61,
      "outputs": [
        {
          "output_type": "stream",
          "name": "stdout",
          "text": [
            "+--------------+------+------+---------+-------+---------+-------+---------+-----+-------+---+-----+------+------+----------+---------+--------+--------+------------------+------------------+------------------+------+------+------+------+------+------+------+----+-----+---+----+------+------------+\n",
            "|GPP_NT_VUT_REF|  TA_F|TA_ERA|SW_IN_POT|SW_IN_F|SW_IN_ERA|LW_IN_F|LW_IN_ERA|VPD_F|VPD_ERA|P_F|P_ERA|  PA_F|PA_ERA|    NETRAD|  PPFD_IN|LE_F_MDS| H_F_MDS|               EVI|              NDVI|              NIRv|    b1|    b2|    b3|    b4|    b5|    b6|    b7|year|month|day|hour|koppen|koppen_Index|\n",
            "+--------------+------+------+---------+-------+---------+-------+---------+-----+-------+---+-----+------+------+----------+---------+--------+--------+------------------+------------------+------------------+------+------+------+------+------+------+------+----+-----+---+----+------+------------+\n",
            "|      -3.47747|11.853|19.185|      0.0|    0.0|      0.0|316.061|  316.061|1.913| 14.306|0.0|  0.0|75.885| 75.46|-41.358245|      0.0| 5.21837|-19.2016|0.3635674035543996|0.6142813548977724|0.1624774183704607|0.0632|0.2645|0.0346|0.0656|0.2811|0.1969| 0.112|2007|    7|  7|  20|  Cold|         0.0|\n",
            "|      -3.93836|12.559|18.564|      0.0|  0.126|      0.0|316.061|  316.061|2.745| 13.581|0.0|  0.0|75.922|75.466|-54.664057|      0.0| 3.75283|-23.6819|0.3635674035543996|0.6142813548977724|0.1624774183704607|0.0632|0.2645|0.0346|0.0656|0.2811|0.1969| 0.112|2007|    7|  7|  20|  Cold|         0.0|\n",
            "|      -3.92748|12.678|17.943|      0.0|    0.0|      0.0|316.061|  316.061|2.581| 12.855|0.0|  0.0|75.919|75.472|-68.213663|      0.0| 3.52985|-25.1152|0.3635674035543996|0.6142813548977724|0.1624774183704607|0.0632|0.2645|0.0346|0.0656|0.2811|0.1969| 0.112|2007|    7|  7|  21|  Cold|         0.0|\n",
            "|      -3.94478|12.391|17.322|      0.0|    0.0|      0.0|316.061|  316.061|3.444|  12.13|0.0|  0.0|75.908|75.478| -83.83996|      0.0| 4.07696|-23.6129|0.3635674035543996|0.6142813548977724|0.1624774183704607|0.0632|0.2645|0.0346|0.0656|0.2811|0.1969| 0.112|2007|    7|  7|  21|  Cold|         0.0|\n",
            "|      -3.47253|11.778|  16.7|      0.0|    0.0|      0.0|316.061|  316.061|2.714| 11.404|0.0|  0.0|75.929|75.484|-85.119171|      0.0| 5.21173|-16.9545|0.3635674035543996|0.6142813548977724|0.1624774183704607|0.0632|0.2645|0.0346|0.0656|0.2811|0.1969| 0.112|2007|    7|  7|  22|  Cold|         0.0|\n",
            "|     -0.549345|10.658|16.079|      0.0|    0.0|      0.0|316.061|  316.061|1.834| 10.679|0.0|  0.0|75.969| 75.49|-73.000521|      0.0| 5.13772|-20.9012|0.3635674035543996|0.6142813548977724|0.1624774183704607|0.0632|0.2645|0.0346|0.0656|0.2811|0.1969| 0.112|2007|    7|  7|  22|  Cold|         0.0|\n",
            "|      -3.93107|12.476|15.458|      0.0|  0.103|      0.0|308.436|  308.436|2.985|  9.953|0.0|  0.0|75.961|75.495|-78.545402|      0.0|-11.9109|-30.4426|0.3635674035543996|0.6142813548977724|0.1624774183704607|0.0632|0.2645|0.0346|0.0656|0.2811|0.1969| 0.112|2007|    7|  7|  23|  Cold|         0.0|\n",
            "|      -1.24989|14.596|14.977|      0.0|  0.598|      0.0|308.436|  308.436|4.359|  9.527|0.0|  0.0|75.913| 75.48|-67.872031|      0.0| 2.92989|-31.2152|0.3635674035543996|0.6142813548977724|0.1624774183704607|0.0632|0.2645|0.0346|0.0656|0.2811|0.1969| 0.112|2007|    7|  7|  23|  Cold|         0.0|\n",
            "|      -1.77155|13.925|14.496|      0.0|    0.0|      0.0|308.436|  308.436|4.042|  9.101|0.0|  0.0|75.846|75.464|-64.413632|      0.0| 2.48424|-28.7576|0.3616785318212714|0.6028622540250448| 0.162049373881932|0.0666|0.2688|0.0361|0.0674|0.2885|0.1955|0.1093|2007|    7|  8|   0|  Cold|         0.0|\n",
            "|       -3.9068| 12.71|14.015|      0.0|    0.0|      0.0|308.436|  308.436|3.154|  8.675|0.0|  0.0|75.825|75.449| -61.07649|      0.0| 3.52985|-24.1073|0.3616785318212714|0.6028622540250448| 0.162049373881932|0.0666|0.2688|0.0361|0.0674|0.2885|0.1955|0.1093|2007|    7|  8|   0|  Cold|         0.0|\n",
            "|      -3.94456|12.135|13.534|      0.0|    0.0|      0.0|308.436|  308.436|3.333|  8.249|0.0|  0.0|75.812|75.433|-69.066779|      0.0| 13.1904| 4.86626|0.3616785318212714|0.6028622540250448| 0.162049373881932|0.0666|0.2688|0.0361|0.0674|0.2885|0.1955|0.1093|2007|    7|  8|   1|  Cold|         0.0|\n",
            "|      -3.28295|12.795|13.053|      0.0|    0.0|      0.0|308.436|  308.436|4.642|  7.823|0.0|  0.0|75.792|75.418|-70.498328|      0.0| 3.70538|-25.9488|0.3616785318212714|0.6028622540250448| 0.162049373881932|0.0666|0.2688|0.0361|0.0674|0.2885|0.1955|0.1093|2007|    7|  8|   1|  Cold|         0.0|\n",
            "|     -0.985718|10.089|15.691|      0.0|    0.0|      0.0|352.146|  352.146|0.882|  9.196|0.0|  0.0|76.215|75.881|  -3.58363|11.118114| 5.06805|-28.5616|0.3807558180912391|0.6121281464530892|0.1724977116704805|0.0678|0.2818|0.0378|0.0694|0.3058|0.2043| 0.118|2007|    7| 12|   1|  Cold|         0.0|\n",
            "|      -1.03321| 9.548|15.436|      0.0|    0.0|      0.0|343.234|  343.234|0.724|   8.75|0.0|  0.0|76.205|75.871|-3.1408153|      0.0| 5.58934|-30.7925|0.3807558180912391|0.6121281464530892|0.1724977116704805|0.0678|0.2818|0.0378|0.0694|0.3058|0.2043| 0.118|2007|    7| 12|   2|  Cold|         0.0|\n",
            "|     -0.962612|10.373|15.202|      0.0|    0.0|      0.0|343.234|  343.234|0.811|  8.409|0.0|  0.0| 76.19|75.865| -3.309095|      0.0| 4.75825|-29.0381|0.3807558180912391|0.6121281464530892|0.1724977116704805|0.0678|0.2818|0.0378|0.0694|0.3058|0.2043| 0.118|2007|    7| 12|   2|  Cold|         0.0|\n",
            "|     -0.169853|10.717|14.967|      0.0|    0.0|      0.0|343.234|  343.234|0.788|  8.068|0.0|  0.0| 76.19|75.858|-3.5486747|      0.0| 5.54585|-25.8242|0.3807558180912391|0.6121281464530892|0.1724977116704805|0.0678|0.2818|0.0378|0.0694|0.3058|0.2043| 0.118|2007|    7| 12|   3|  Cold|         0.0|\n",
            "|     -0.165764|10.773|14.733|      0.0|    0.0|      0.0|343.234|  343.234|0.853|  7.727|0.0|  0.0|76.189|75.851|-3.6307494|      0.0| 5.54585|-25.8242|0.3807558180912391|0.6121281464530892|0.1724977116704805|0.0678|0.2818|0.0378|0.0694|0.3058|0.2043| 0.118|2007|    7| 12|   3|  Cold|         0.0|\n",
            "|      -3.14012| 11.04|14.499|      0.0|    0.0|      0.0|343.234|  343.234|1.591|  7.386|0.0|  0.0|76.189|75.844| -3.938716|      0.0| 5.54585|-68.5798|0.3807558180912391|0.6121281464530892|0.1724977116704805|0.0678|0.2818|0.0378|0.0694|0.3058|0.2043| 0.118|2007|    7| 12|   4|  Cold|         0.0|\n",
            "|      -3.06292|11.919|14.264|      0.0|    0.0|      0.0|343.234|  343.234|2.431|  7.045|0.0|  0.0|76.179|75.837| -4.590268|1.0277503|  6.0352|-25.8378|0.3807558180912391|0.6121281464530892|0.1724977116704805|0.0678|0.2818|0.0378|0.0694|0.3058|0.2043| 0.118|2007|    7| 12|   4|  Cold|         0.0|\n",
            "|       6.16608|11.624|14.439|  178.004| 37.572|   86.241|321.807|  321.807| 2.71|   7.49|0.0|  0.0|76.144|75.847| 30.963825|67.252647| 104.172|-25.2968|0.3807558180912391|0.6121281464530892|0.1724977116704805|0.0678|0.2818|0.0378|0.0694|0.3058|0.2043| 0.118|2007|    7| 12|   5|  Cold|         0.0|\n",
            "+--------------+------+------+---------+-------+---------+-------+---------+-----+-------+---+-----+------+------+----------+---------+--------+--------+------------------+------------------+------------------+------+------+------+------+------+------+------+----+-----+---+----+------+------------+\n",
            "only showing top 20 rows\n",
            "\n"
          ]
        }
      ]
    },
    {
      "cell_type": "markdown",
      "source": [
        "### OneHotEncoder\n",
        "\n",
        "Transform the string values by `stringIndexer.fit` `stringIndexer.transform` first, and then use OneHotEncoder.\n",
        "\n",
        "This link is helpful to understand the structure of column generated by `OneHotEncoder`\n",
        "https://www.skytowner.com/explore/one_hot_encoding_in_pyspark"
      ],
      "metadata": {
        "id": "JJzxjO88Jd5D"
      }
    },
    {
      "cell_type": "code",
      "source": [
        "\n",
        "# 'MODIS_LC_Index' -> 'MODIS_LC_OHE' \n",
        "# 'MODIS_IGBP_Index' -> 'MODIS_IGBP_OHE' \n",
        "# 'MODIS_PFT_Index' -> 'MODIS_PFT_OHE'\n",
        "# 'koppen_sub_Index' -> 'koppen_sub_OHE'\n",
        "# 'koppen_Index' -> 'koppen_OHE'\n",
        "\n",
        "# OHE = OneHotEncoding\n",
        "encoder = OneHotEncoder(inputCols=['koppen_Index'],\n",
        "                        outputCols=['koppen_OHE'])\n",
        "model = encoder.fit(us_vcp_hourly_rf_NAdrop_STI)\n",
        "monthly_rf_NAdrop_OHE = model.transform(us_vcp_hourly_rf_NAdrop_STI)\n",
        "monthly_rf_NAdrop_OHE.show()\n",
        "\n",
        "# model = encoder.fit(holdout0_STI)\n",
        "# holdout0_OHE = model.transform(holdout0_STI)\n",
        "# display(holdout0_OHE)"
      ],
      "metadata": {
        "colab": {
          "base_uri": "https://localhost:8080/",
          "height": 381
        },
        "outputId": "c65a2af3-65b7-40d3-d2e6-f2b7f2f3b673",
        "id": "b3I5E3skJd5D"
      },
      "execution_count": 63,
      "outputs": [
        {
          "output_type": "error",
          "ename": "IllegalArgumentException",
          "evalue": "ignored",
          "traceback": [
            "\u001b[0;31m---------------------------------------------------------------------------\u001b[0m",
            "\u001b[0;31mIllegalArgumentException\u001b[0m                  Traceback (most recent call last)",
            "\u001b[0;32m<ipython-input-63-07fdf7879a22>\u001b[0m in \u001b[0;36m<module>\u001b[0;34m\u001b[0m\n\u001b[1;32m      8\u001b[0m encoder = OneHotEncoder(inputCols=['koppen_Index'],\n\u001b[1;32m      9\u001b[0m                         outputCols=['koppen_OHE'])\n\u001b[0;32m---> 10\u001b[0;31m \u001b[0mmodel\u001b[0m \u001b[0;34m=\u001b[0m \u001b[0mencoder\u001b[0m\u001b[0;34m.\u001b[0m\u001b[0mfit\u001b[0m\u001b[0;34m(\u001b[0m\u001b[0mus_vcp_hourly_rf_NAdrop_STI\u001b[0m\u001b[0;34m)\u001b[0m\u001b[0;34m\u001b[0m\u001b[0;34m\u001b[0m\u001b[0m\n\u001b[0m\u001b[1;32m     11\u001b[0m \u001b[0mmonthly_rf_NAdrop_OHE\u001b[0m \u001b[0;34m=\u001b[0m \u001b[0mmodel\u001b[0m\u001b[0;34m.\u001b[0m\u001b[0mtransform\u001b[0m\u001b[0;34m(\u001b[0m\u001b[0mus_vcp_hourly_rf_NAdrop_STI\u001b[0m\u001b[0;34m)\u001b[0m\u001b[0;34m\u001b[0m\u001b[0;34m\u001b[0m\u001b[0m\n\u001b[1;32m     12\u001b[0m \u001b[0mmonthly_rf_NAdrop_OHE\u001b[0m\u001b[0;34m.\u001b[0m\u001b[0mshow\u001b[0m\u001b[0;34m(\u001b[0m\u001b[0;34m)\u001b[0m\u001b[0;34m\u001b[0m\u001b[0;34m\u001b[0m\u001b[0m\n",
            "\u001b[0;32m/usr/local/lib/python3.8/dist-packages/pyspark/ml/base.py\u001b[0m in \u001b[0;36mfit\u001b[0;34m(self, dataset, params)\u001b[0m\n\u001b[1;32m    203\u001b[0m                 \u001b[0;32mreturn\u001b[0m \u001b[0mself\u001b[0m\u001b[0;34m.\u001b[0m\u001b[0mcopy\u001b[0m\u001b[0;34m(\u001b[0m\u001b[0mparams\u001b[0m\u001b[0;34m)\u001b[0m\u001b[0;34m.\u001b[0m\u001b[0m_fit\u001b[0m\u001b[0;34m(\u001b[0m\u001b[0mdataset\u001b[0m\u001b[0;34m)\u001b[0m\u001b[0;34m\u001b[0m\u001b[0;34m\u001b[0m\u001b[0m\n\u001b[1;32m    204\u001b[0m             \u001b[0;32melse\u001b[0m\u001b[0;34m:\u001b[0m\u001b[0;34m\u001b[0m\u001b[0;34m\u001b[0m\u001b[0m\n\u001b[0;32m--> 205\u001b[0;31m                 \u001b[0;32mreturn\u001b[0m \u001b[0mself\u001b[0m\u001b[0;34m.\u001b[0m\u001b[0m_fit\u001b[0m\u001b[0;34m(\u001b[0m\u001b[0mdataset\u001b[0m\u001b[0;34m)\u001b[0m\u001b[0;34m\u001b[0m\u001b[0;34m\u001b[0m\u001b[0m\n\u001b[0m\u001b[1;32m    206\u001b[0m         \u001b[0;32melse\u001b[0m\u001b[0;34m:\u001b[0m\u001b[0;34m\u001b[0m\u001b[0;34m\u001b[0m\u001b[0m\n\u001b[1;32m    207\u001b[0m             raise TypeError(\n",
            "\u001b[0;32m/usr/local/lib/python3.8/dist-packages/pyspark/ml/wrapper.py\u001b[0m in \u001b[0;36m_fit\u001b[0;34m(self, dataset)\u001b[0m\n\u001b[1;32m    381\u001b[0m \u001b[0;34m\u001b[0m\u001b[0m\n\u001b[1;32m    382\u001b[0m     \u001b[0;32mdef\u001b[0m \u001b[0m_fit\u001b[0m\u001b[0;34m(\u001b[0m\u001b[0mself\u001b[0m\u001b[0;34m,\u001b[0m \u001b[0mdataset\u001b[0m\u001b[0;34m:\u001b[0m \u001b[0mDataFrame\u001b[0m\u001b[0;34m)\u001b[0m \u001b[0;34m->\u001b[0m \u001b[0mJM\u001b[0m\u001b[0;34m:\u001b[0m\u001b[0;34m\u001b[0m\u001b[0;34m\u001b[0m\u001b[0m\n\u001b[0;32m--> 383\u001b[0;31m         \u001b[0mjava_model\u001b[0m \u001b[0;34m=\u001b[0m \u001b[0mself\u001b[0m\u001b[0;34m.\u001b[0m\u001b[0m_fit_java\u001b[0m\u001b[0;34m(\u001b[0m\u001b[0mdataset\u001b[0m\u001b[0;34m)\u001b[0m\u001b[0;34m\u001b[0m\u001b[0;34m\u001b[0m\u001b[0m\n\u001b[0m\u001b[1;32m    384\u001b[0m         \u001b[0mmodel\u001b[0m \u001b[0;34m=\u001b[0m \u001b[0mself\u001b[0m\u001b[0;34m.\u001b[0m\u001b[0m_create_model\u001b[0m\u001b[0;34m(\u001b[0m\u001b[0mjava_model\u001b[0m\u001b[0;34m)\u001b[0m\u001b[0;34m\u001b[0m\u001b[0;34m\u001b[0m\u001b[0m\n\u001b[1;32m    385\u001b[0m         \u001b[0;32mreturn\u001b[0m \u001b[0mself\u001b[0m\u001b[0;34m.\u001b[0m\u001b[0m_copyValues\u001b[0m\u001b[0;34m(\u001b[0m\u001b[0mmodel\u001b[0m\u001b[0;34m)\u001b[0m\u001b[0;34m\u001b[0m\u001b[0;34m\u001b[0m\u001b[0m\n",
            "\u001b[0;32m/usr/local/lib/python3.8/dist-packages/pyspark/ml/wrapper.py\u001b[0m in \u001b[0;36m_fit_java\u001b[0;34m(self, dataset)\u001b[0m\n\u001b[1;32m    378\u001b[0m \u001b[0;34m\u001b[0m\u001b[0m\n\u001b[1;32m    379\u001b[0m         \u001b[0mself\u001b[0m\u001b[0;34m.\u001b[0m\u001b[0m_transfer_params_to_java\u001b[0m\u001b[0;34m(\u001b[0m\u001b[0;34m)\u001b[0m\u001b[0;34m\u001b[0m\u001b[0;34m\u001b[0m\u001b[0m\n\u001b[0;32m--> 380\u001b[0;31m         \u001b[0;32mreturn\u001b[0m \u001b[0mself\u001b[0m\u001b[0;34m.\u001b[0m\u001b[0m_java_obj\u001b[0m\u001b[0;34m.\u001b[0m\u001b[0mfit\u001b[0m\u001b[0;34m(\u001b[0m\u001b[0mdataset\u001b[0m\u001b[0;34m.\u001b[0m\u001b[0m_jdf\u001b[0m\u001b[0;34m)\u001b[0m\u001b[0;34m\u001b[0m\u001b[0;34m\u001b[0m\u001b[0m\n\u001b[0m\u001b[1;32m    381\u001b[0m \u001b[0;34m\u001b[0m\u001b[0m\n\u001b[1;32m    382\u001b[0m     \u001b[0;32mdef\u001b[0m \u001b[0m_fit\u001b[0m\u001b[0;34m(\u001b[0m\u001b[0mself\u001b[0m\u001b[0;34m,\u001b[0m \u001b[0mdataset\u001b[0m\u001b[0;34m:\u001b[0m \u001b[0mDataFrame\u001b[0m\u001b[0;34m)\u001b[0m \u001b[0;34m->\u001b[0m \u001b[0mJM\u001b[0m\u001b[0;34m:\u001b[0m\u001b[0;34m\u001b[0m\u001b[0;34m\u001b[0m\u001b[0m\n",
            "\u001b[0;32m/usr/local/lib/python3.8/dist-packages/py4j/java_gateway.py\u001b[0m in \u001b[0;36m__call__\u001b[0;34m(self, *args)\u001b[0m\n\u001b[1;32m   1319\u001b[0m \u001b[0;34m\u001b[0m\u001b[0m\n\u001b[1;32m   1320\u001b[0m         \u001b[0manswer\u001b[0m \u001b[0;34m=\u001b[0m \u001b[0mself\u001b[0m\u001b[0;34m.\u001b[0m\u001b[0mgateway_client\u001b[0m\u001b[0;34m.\u001b[0m\u001b[0msend_command\u001b[0m\u001b[0;34m(\u001b[0m\u001b[0mcommand\u001b[0m\u001b[0;34m)\u001b[0m\u001b[0;34m\u001b[0m\u001b[0;34m\u001b[0m\u001b[0m\n\u001b[0;32m-> 1321\u001b[0;31m         return_value = get_return_value(\n\u001b[0m\u001b[1;32m   1322\u001b[0m             answer, self.gateway_client, self.target_id, self.name)\n\u001b[1;32m   1323\u001b[0m \u001b[0;34m\u001b[0m\u001b[0m\n",
            "\u001b[0;32m/usr/local/lib/python3.8/dist-packages/pyspark/sql/utils.py\u001b[0m in \u001b[0;36mdeco\u001b[0;34m(*a, **kw)\u001b[0m\n\u001b[1;32m    194\u001b[0m                 \u001b[0;31m# Hide where the exception came from that shows a non-Pythonic\u001b[0m\u001b[0;34m\u001b[0m\u001b[0;34m\u001b[0m\u001b[0;34m\u001b[0m\u001b[0m\n\u001b[1;32m    195\u001b[0m                 \u001b[0;31m# JVM exception message.\u001b[0m\u001b[0;34m\u001b[0m\u001b[0;34m\u001b[0m\u001b[0;34m\u001b[0m\u001b[0m\n\u001b[0;32m--> 196\u001b[0;31m                 \u001b[0;32mraise\u001b[0m \u001b[0mconverted\u001b[0m \u001b[0;32mfrom\u001b[0m \u001b[0;32mNone\u001b[0m\u001b[0;34m\u001b[0m\u001b[0;34m\u001b[0m\u001b[0m\n\u001b[0m\u001b[1;32m    197\u001b[0m             \u001b[0;32melse\u001b[0m\u001b[0;34m:\u001b[0m\u001b[0;34m\u001b[0m\u001b[0;34m\u001b[0m\u001b[0m\n\u001b[1;32m    198\u001b[0m                 \u001b[0;32mraise\u001b[0m\u001b[0;34m\u001b[0m\u001b[0;34m\u001b[0m\u001b[0m\n",
            "\u001b[0;31mIllegalArgumentException\u001b[0m: requirement failed: The input column koppen_Index should have at least two distinct values."
          ]
        }
      ]
    },
    {
      "cell_type": "markdown",
      "source": [
        " => koppen did not have any distinct value, therefore it is removed from feature candidates"
      ],
      "metadata": {
        "id": "eSaOX_LKLuKz"
      }
    },
    {
      "cell_type": "markdown",
      "source": [
        "## Assemble features"
      ],
      "metadata": {
        "id": "TaN4E-fNJhBm"
      }
    },
    {
      "cell_type": "markdown",
      "source": [
        "### Update feature list(If categorical vairable exists)"
      ],
      "metadata": {
        "id": "F_TSSLabA-Pu"
      }
    },
    {
      "cell_type": "code",
      "source": [
        "# New feature list with OHE variables\n",
        "\n",
        "# Keep original list for numeric features\n",
        "pred_var_numeric = ['TA_F','TA_ERA', 'SW_IN_POT', 'SW_IN_F',\n",
        "                    'SW_IN_ERA', 'LW_IN_F', 'LW_IN_ERA','VPD_F','VPD_ERA',\n",
        "                    'P_F', 'P_ERA', 'PA_F', 'PA_ERA', 'NETRAD', 'PPFD_IN',\n",
        "                    'LE_F_MDS', 'H_F_MDS', 'EVI', 'NDVI', 'NIRv',\n",
        "                    'b1', 'b2', 'b3', 'b4', 'b5', 'b6', 'b7',\n",
        "                    'year', 'month', 'day', 'hour']\n",
        "output_var = 'GPP_NT_VUT_REF'\n",
        "\n",
        "# Update variable names of categorical features\n",
        "# Original: pred_var_categorical = ['SITE_IGBP','MODIS_LC', 'MODIS_IGBP','MODIS_PFT', 'koppen_sub', 'koppen']\n",
        "pred_var_categorical_OHE = []\n",
        "\n",
        "feature_list = pred_var_numeric + pred_var_categorical_OHE\n"
      ],
      "metadata": {
        "id": "vF_ycudxBTEs"
      },
      "execution_count": 64,
      "outputs": []
    },
    {
      "cell_type": "code",
      "source": [
        "# Updated feature list\n",
        "feature_list"
      ],
      "metadata": {
        "colab": {
          "base_uri": "https://localhost:8080/"
        },
        "outputId": "12c68e5d-95e9-4bb9-abfd-af4d6b4f0274",
        "id": "e0e-6Ey_JhBn"
      },
      "execution_count": 65,
      "outputs": [
        {
          "output_type": "execute_result",
          "data": {
            "text/plain": [
              "['TA_F',\n",
              " 'TA_ERA',\n",
              " 'SW_IN_POT',\n",
              " 'SW_IN_F',\n",
              " 'SW_IN_ERA',\n",
              " 'LW_IN_F',\n",
              " 'LW_IN_ERA',\n",
              " 'VPD_F',\n",
              " 'VPD_ERA',\n",
              " 'P_F',\n",
              " 'P_ERA',\n",
              " 'PA_F',\n",
              " 'PA_ERA',\n",
              " 'NETRAD',\n",
              " 'PPFD_IN',\n",
              " 'LE_F_MDS',\n",
              " 'H_F_MDS',\n",
              " 'EVI',\n",
              " 'NDVI',\n",
              " 'NIRv',\n",
              " 'b1',\n",
              " 'b2',\n",
              " 'b3',\n",
              " 'b4',\n",
              " 'b5',\n",
              " 'b6',\n",
              " 'b7',\n",
              " 'year',\n",
              " 'month',\n",
              " 'day',\n",
              " 'hour']"
            ]
          },
          "metadata": {},
          "execution_count": 65
        }
      ]
    },
    {
      "cell_type": "code",
      "source": [
        "# Assemble features\n",
        "assembler = VectorAssembler().setInputCols(feature_list)\\\n",
        "                            .setOutputCol('vectorized_features')"
      ],
      "metadata": {
        "id": "ilIFUT-HJhBn"
      },
      "execution_count": 66,
      "outputs": []
    },
    {
      "cell_type": "code",
      "source": [
        "# Usually the input is train set/ holdout set\n",
        "# Full dataset is used here because the goal of this process is to apply feture importance\n",
        "# Example code\n",
        "  # assmb_train0 = assembler.transform(train0)#train0_OHE)\n",
        "  # assmb_holdout0 = assembler.transform(holdout0)#_OHE)\n",
        "\n",
        "assmb_sdf_NAdrop_OHE = assembler.transform(us_vcp_hourly_rf_NAdrop_STI) \n",
        "# If there exist any categorical variable, us_vcp_hourly_rf_NAdrop_OHE was used instead\n"
      ],
      "metadata": {
        "id": "s2UUtvElJhBn"
      },
      "execution_count": 68,
      "outputs": []
    },
    {
      "cell_type": "code",
      "source": [
        "# vectorized features are added to the lest side of table\n",
        "assmb_sdf_NAdrop_OHE.show()"
      ],
      "metadata": {
        "colab": {
          "base_uri": "https://localhost:8080/"
        },
        "outputId": "b9fd65b0-4247-40c5-be54-76b94d44fa89",
        "id": "ijOqRyeUJhBo"
      },
      "execution_count": 69,
      "outputs": [
        {
          "output_type": "stream",
          "name": "stdout",
          "text": [
            "+--------------+------+------+---------+-------+---------+-------+---------+-----+-------+---+-----+------+------+----------+---------+--------+--------+------------------+------------------+------------------+------+------+------+------+------+------+------+----+-----+---+----+------+------------+--------------------+\n",
            "|GPP_NT_VUT_REF|  TA_F|TA_ERA|SW_IN_POT|SW_IN_F|SW_IN_ERA|LW_IN_F|LW_IN_ERA|VPD_F|VPD_ERA|P_F|P_ERA|  PA_F|PA_ERA|    NETRAD|  PPFD_IN|LE_F_MDS| H_F_MDS|               EVI|              NDVI|              NIRv|    b1|    b2|    b3|    b4|    b5|    b6|    b7|year|month|day|hour|koppen|koppen_Index| vectorized_features|\n",
            "+--------------+------+------+---------+-------+---------+-------+---------+-----+-------+---+-----+------+------+----------+---------+--------+--------+------------------+------------------+------------------+------+------+------+------+------+------+------+----+-----+---+----+------+------------+--------------------+\n",
            "|      -3.47747|11.853|19.185|      0.0|    0.0|      0.0|316.061|  316.061|1.913| 14.306|0.0|  0.0|75.885| 75.46|-41.358245|      0.0| 5.21837|-19.2016|0.3635674035543996|0.6142813548977724|0.1624774183704607|0.0632|0.2645|0.0346|0.0656|0.2811|0.1969| 0.112|2007|    7|  7|  20|  Cold|         0.0|[11.853,19.185,0....|\n",
            "|      -3.93836|12.559|18.564|      0.0|  0.126|      0.0|316.061|  316.061|2.745| 13.581|0.0|  0.0|75.922|75.466|-54.664057|      0.0| 3.75283|-23.6819|0.3635674035543996|0.6142813548977724|0.1624774183704607|0.0632|0.2645|0.0346|0.0656|0.2811|0.1969| 0.112|2007|    7|  7|  20|  Cold|         0.0|[12.559,18.564,0....|\n",
            "|      -3.92748|12.678|17.943|      0.0|    0.0|      0.0|316.061|  316.061|2.581| 12.855|0.0|  0.0|75.919|75.472|-68.213663|      0.0| 3.52985|-25.1152|0.3635674035543996|0.6142813548977724|0.1624774183704607|0.0632|0.2645|0.0346|0.0656|0.2811|0.1969| 0.112|2007|    7|  7|  21|  Cold|         0.0|[12.678,17.943,0....|\n",
            "|      -3.94478|12.391|17.322|      0.0|    0.0|      0.0|316.061|  316.061|3.444|  12.13|0.0|  0.0|75.908|75.478| -83.83996|      0.0| 4.07696|-23.6129|0.3635674035543996|0.6142813548977724|0.1624774183704607|0.0632|0.2645|0.0346|0.0656|0.2811|0.1969| 0.112|2007|    7|  7|  21|  Cold|         0.0|[12.391,17.322,0....|\n",
            "|      -3.47253|11.778|  16.7|      0.0|    0.0|      0.0|316.061|  316.061|2.714| 11.404|0.0|  0.0|75.929|75.484|-85.119171|      0.0| 5.21173|-16.9545|0.3635674035543996|0.6142813548977724|0.1624774183704607|0.0632|0.2645|0.0346|0.0656|0.2811|0.1969| 0.112|2007|    7|  7|  22|  Cold|         0.0|[11.778,16.7,0.0,...|\n",
            "|     -0.549345|10.658|16.079|      0.0|    0.0|      0.0|316.061|  316.061|1.834| 10.679|0.0|  0.0|75.969| 75.49|-73.000521|      0.0| 5.13772|-20.9012|0.3635674035543996|0.6142813548977724|0.1624774183704607|0.0632|0.2645|0.0346|0.0656|0.2811|0.1969| 0.112|2007|    7|  7|  22|  Cold|         0.0|[10.658,16.079,0....|\n",
            "|      -3.93107|12.476|15.458|      0.0|  0.103|      0.0|308.436|  308.436|2.985|  9.953|0.0|  0.0|75.961|75.495|-78.545402|      0.0|-11.9109|-30.4426|0.3635674035543996|0.6142813548977724|0.1624774183704607|0.0632|0.2645|0.0346|0.0656|0.2811|0.1969| 0.112|2007|    7|  7|  23|  Cold|         0.0|[12.476,15.458,0....|\n",
            "|      -1.24989|14.596|14.977|      0.0|  0.598|      0.0|308.436|  308.436|4.359|  9.527|0.0|  0.0|75.913| 75.48|-67.872031|      0.0| 2.92989|-31.2152|0.3635674035543996|0.6142813548977724|0.1624774183704607|0.0632|0.2645|0.0346|0.0656|0.2811|0.1969| 0.112|2007|    7|  7|  23|  Cold|         0.0|[14.596,14.977,0....|\n",
            "|      -1.77155|13.925|14.496|      0.0|    0.0|      0.0|308.436|  308.436|4.042|  9.101|0.0|  0.0|75.846|75.464|-64.413632|      0.0| 2.48424|-28.7576|0.3616785318212714|0.6028622540250448| 0.162049373881932|0.0666|0.2688|0.0361|0.0674|0.2885|0.1955|0.1093|2007|    7|  8|   0|  Cold|         0.0|[13.925,14.496,0....|\n",
            "|       -3.9068| 12.71|14.015|      0.0|    0.0|      0.0|308.436|  308.436|3.154|  8.675|0.0|  0.0|75.825|75.449| -61.07649|      0.0| 3.52985|-24.1073|0.3616785318212714|0.6028622540250448| 0.162049373881932|0.0666|0.2688|0.0361|0.0674|0.2885|0.1955|0.1093|2007|    7|  8|   0|  Cold|         0.0|[12.71,14.015,0.0...|\n",
            "|      -3.94456|12.135|13.534|      0.0|    0.0|      0.0|308.436|  308.436|3.333|  8.249|0.0|  0.0|75.812|75.433|-69.066779|      0.0| 13.1904| 4.86626|0.3616785318212714|0.6028622540250448| 0.162049373881932|0.0666|0.2688|0.0361|0.0674|0.2885|0.1955|0.1093|2007|    7|  8|   1|  Cold|         0.0|[12.135,13.534,0....|\n",
            "|      -3.28295|12.795|13.053|      0.0|    0.0|      0.0|308.436|  308.436|4.642|  7.823|0.0|  0.0|75.792|75.418|-70.498328|      0.0| 3.70538|-25.9488|0.3616785318212714|0.6028622540250448| 0.162049373881932|0.0666|0.2688|0.0361|0.0674|0.2885|0.1955|0.1093|2007|    7|  8|   1|  Cold|         0.0|[12.795,13.053,0....|\n",
            "|     -0.985718|10.089|15.691|      0.0|    0.0|      0.0|352.146|  352.146|0.882|  9.196|0.0|  0.0|76.215|75.881|  -3.58363|11.118114| 5.06805|-28.5616|0.3807558180912391|0.6121281464530892|0.1724977116704805|0.0678|0.2818|0.0378|0.0694|0.3058|0.2043| 0.118|2007|    7| 12|   1|  Cold|         0.0|[10.089,15.691,0....|\n",
            "|      -1.03321| 9.548|15.436|      0.0|    0.0|      0.0|343.234|  343.234|0.724|   8.75|0.0|  0.0|76.205|75.871|-3.1408153|      0.0| 5.58934|-30.7925|0.3807558180912391|0.6121281464530892|0.1724977116704805|0.0678|0.2818|0.0378|0.0694|0.3058|0.2043| 0.118|2007|    7| 12|   2|  Cold|         0.0|[9.548,15.436,0.0...|\n",
            "|     -0.962612|10.373|15.202|      0.0|    0.0|      0.0|343.234|  343.234|0.811|  8.409|0.0|  0.0| 76.19|75.865| -3.309095|      0.0| 4.75825|-29.0381|0.3807558180912391|0.6121281464530892|0.1724977116704805|0.0678|0.2818|0.0378|0.0694|0.3058|0.2043| 0.118|2007|    7| 12|   2|  Cold|         0.0|[10.373,15.202,0....|\n",
            "|     -0.169853|10.717|14.967|      0.0|    0.0|      0.0|343.234|  343.234|0.788|  8.068|0.0|  0.0| 76.19|75.858|-3.5486747|      0.0| 5.54585|-25.8242|0.3807558180912391|0.6121281464530892|0.1724977116704805|0.0678|0.2818|0.0378|0.0694|0.3058|0.2043| 0.118|2007|    7| 12|   3|  Cold|         0.0|[10.717,14.967,0....|\n",
            "|     -0.165764|10.773|14.733|      0.0|    0.0|      0.0|343.234|  343.234|0.853|  7.727|0.0|  0.0|76.189|75.851|-3.6307494|      0.0| 5.54585|-25.8242|0.3807558180912391|0.6121281464530892|0.1724977116704805|0.0678|0.2818|0.0378|0.0694|0.3058|0.2043| 0.118|2007|    7| 12|   3|  Cold|         0.0|[10.773,14.733,0....|\n",
            "|      -3.14012| 11.04|14.499|      0.0|    0.0|      0.0|343.234|  343.234|1.591|  7.386|0.0|  0.0|76.189|75.844| -3.938716|      0.0| 5.54585|-68.5798|0.3807558180912391|0.6121281464530892|0.1724977116704805|0.0678|0.2818|0.0378|0.0694|0.3058|0.2043| 0.118|2007|    7| 12|   4|  Cold|         0.0|[11.04,14.499,0.0...|\n",
            "|      -3.06292|11.919|14.264|      0.0|    0.0|      0.0|343.234|  343.234|2.431|  7.045|0.0|  0.0|76.179|75.837| -4.590268|1.0277503|  6.0352|-25.8378|0.3807558180912391|0.6121281464530892|0.1724977116704805|0.0678|0.2818|0.0378|0.0694|0.3058|0.2043| 0.118|2007|    7| 12|   4|  Cold|         0.0|[11.919,14.264,0....|\n",
            "|       6.16608|11.624|14.439|  178.004| 37.572|   86.241|321.807|  321.807| 2.71|   7.49|0.0|  0.0|76.144|75.847| 30.963825|67.252647| 104.172|-25.2968|0.3807558180912391|0.6121281464530892|0.1724977116704805|0.0678|0.2818|0.0378|0.0694|0.3058|0.2043| 0.118|2007|    7| 12|   5|  Cold|         0.0|[11.624,14.439,17...|\n",
            "+--------------+------+------+---------+-------+---------+-------+---------+-----+-------+---+-----+------+------+----------+---------+--------+--------+------------------+------------------+------------------+------+------+------+------+------+------+------+----+-----+---+----+------+------------+--------------------+\n",
            "only showing top 20 rows\n",
            "\n"
          ]
        }
      ]
    },
    {
      "cell_type": "code",
      "source": [],
      "metadata": {
        "id": "3s6bKBFLJdTn"
      },
      "execution_count": 69,
      "outputs": []
    },
    {
      "cell_type": "markdown",
      "source": [
        "## Normalize features"
      ],
      "metadata": {
        "id": "Pvc7L0VjJjjK"
      }
    },
    {
      "cell_type": "code",
      "source": [
        "# normalize dataset\n",
        "scaler = MinMaxScaler().setInputCol('vectorized_features')\\\n",
        "                            .setOutputCol('normalized_features')\n",
        "\n",
        "scaler_sdf_NAdrop_model = scaler.fit(assmb_sdf_NAdrop_OHE)\n",
        "normed_sdf_NAdrop = scaler_sdf_NAdrop_model.transform(assmb_sdf_NAdrop_OHE)\n",
        "\n",
        "# Same as the last section, usually input is train set/holdout set\n",
        "# Example\n",
        "    # normed_train0 = scaler_model0.transform(assmb_train0)\n",
        "    # normed_holdout0 = scaler_model0.transform(assmb_holdout0)"
      ],
      "metadata": {
        "id": "cQC32NkOJjjK"
      },
      "execution_count": 70,
      "outputs": []
    },
    {
      "cell_type": "code",
      "source": [
        "# Column 'normalized features' is added\n",
        "normed_sdf_NAdrop.show()\n"
      ],
      "metadata": {
        "colab": {
          "base_uri": "https://localhost:8080/"
        },
        "outputId": "d568562f-799c-4a89-9445-8e8c4ef402a4",
        "id": "r2kZDMz3JjjL"
      },
      "execution_count": 71,
      "outputs": [
        {
          "output_type": "stream",
          "name": "stdout",
          "text": [
            "+--------------+------+------+---------+-------+---------+-------+---------+-----+-------+---+-----+------+------+----------+---------+--------+--------+------------------+------------------+------------------+------+------+------+------+------+------+------+----+-----+---+----+------+------------+--------------------+--------------------+\n",
            "|GPP_NT_VUT_REF|  TA_F|TA_ERA|SW_IN_POT|SW_IN_F|SW_IN_ERA|LW_IN_F|LW_IN_ERA|VPD_F|VPD_ERA|P_F|P_ERA|  PA_F|PA_ERA|    NETRAD|  PPFD_IN|LE_F_MDS| H_F_MDS|               EVI|              NDVI|              NIRv|    b1|    b2|    b3|    b4|    b5|    b6|    b7|year|month|day|hour|koppen|koppen_Index| vectorized_features| normalized_features|\n",
            "+--------------+------+------+---------+-------+---------+-------+---------+-----+-------+---+-----+------+------+----------+---------+--------+--------+------------------+------------------+------------------+------+------+------+------+------+------+------+----+-----+---+----+------+------------+--------------------+--------------------+\n",
            "|      -3.47747|11.853|19.185|      0.0|    0.0|      0.0|316.061|  316.061|1.913| 14.306|0.0|  0.0|75.885| 75.46|-41.358245|      0.0| 5.21837|-19.2016|0.3635674035543996|0.6142813548977724|0.1624774183704607|0.0632|0.2645|0.0346|0.0656|0.2811|0.1969| 0.112|2007|    7|  7|  20|  Cold|         0.0|[11.853,19.185,0....|[0.70864262554108...|\n",
            "|      -3.93836|12.559|18.564|      0.0|  0.126|      0.0|316.061|  316.061|2.745| 13.581|0.0|  0.0|75.922|75.466|-54.664057|      0.0| 3.75283|-23.6819|0.3635674035543996|0.6142813548977724|0.1624774183704607|0.0632|0.2645|0.0346|0.0656|0.2811|0.1969| 0.112|2007|    7|  7|  20|  Cold|         0.0|[12.559,18.564,0....|[0.72026268578106...|\n",
            "|      -3.92748|12.678|17.943|      0.0|    0.0|      0.0|316.061|  316.061|2.581| 12.855|0.0|  0.0|75.919|75.472|-68.213663|      0.0| 3.52985|-25.1152|0.3635674035543996|0.6142813548977724|0.1624774183704607|0.0632|0.2645|0.0346|0.0656|0.2811|0.1969| 0.112|2007|    7|  7|  21|  Cold|         0.0|[12.678,17.943,0....|[0.72222130783284...|\n",
            "|      -3.94478|12.391|17.322|      0.0|    0.0|      0.0|316.061|  316.061|3.444|  12.13|0.0|  0.0|75.908|75.478| -83.83996|      0.0| 4.07696|-23.6129|0.3635674035543996|0.6142813548977724|0.1624774183704607|0.0632|0.2645|0.0346|0.0656|0.2811|0.1969| 0.112|2007|    7|  7|  21|  Cold|         0.0|[12.391,17.322,0....|[0.71749757229619...|\n",
            "|      -3.47253|11.778|  16.7|      0.0|    0.0|      0.0|316.061|  316.061|2.714| 11.404|0.0|  0.0|75.929|75.484|-85.119171|      0.0| 5.21173|-16.9545|0.3635674035543996|0.6142813548977724|0.1624774183704607|0.0632|0.2645|0.0346|0.0656|0.2811|0.1969| 0.112|2007|    7|  7|  22|  Cold|         0.0|[11.778,16.7,0.0,...|[0.70740819987820...|\n",
            "|     -0.549345|10.658|16.079|      0.0|    0.0|      0.0|316.061|  316.061|1.834| 10.679|0.0|  0.0|75.969| 75.49|-73.000521|      0.0| 5.13772|-20.9012|0.3635674035543996|0.6142813548977724|0.1624774183704607|0.0632|0.2645|0.0346|0.0656|0.2811|0.1969| 0.112|2007|    7|  7|  22|  Cold|         0.0|[10.658,16.079,0....|[0.68897410997909...|\n",
            "|      -3.93107|12.476|15.458|      0.0|  0.103|      0.0|308.436|  308.436|2.985|  9.953|0.0|  0.0|75.961|75.495|-78.545402|      0.0|-11.9109|-30.4426|0.3635674035543996|0.6142813548977724|0.1624774183704607|0.0632|0.2645|0.0346|0.0656|0.2811|0.1969| 0.112|2007|    7|  7|  23|  Cold|         0.0|[12.476,15.458,0....|[0.71889658804746...|\n",
            "|      -1.24989|14.596|14.977|      0.0|  0.598|      0.0|308.436|  308.436|4.359|  9.527|0.0|  0.0|75.913| 75.48|-67.872031|      0.0| 2.92989|-31.2152|0.3635674035543996|0.6142813548977724|0.1624774183704607|0.0632|0.2645|0.0346|0.0656|0.2811|0.1969| 0.112|2007|    7|  7|  23|  Cold|         0.0|[14.596,14.977,0....|[0.75378968678506...|\n",
            "|      -1.77155|13.925|14.496|      0.0|    0.0|      0.0|308.436|  308.436|4.042|  9.101|0.0|  0.0|75.846|75.464|-64.413632|      0.0| 2.48424|-28.7576|0.3616785318212714|0.6028622540250448| 0.162049373881932|0.0666|0.2688|0.0361|0.0674|0.2885|0.1955|0.1093|2007|    7|  8|   0|  Cold|         0.0|[13.925,14.496,0....|[0.74274569185443...|\n",
            "|       -3.9068| 12.71|14.015|      0.0|    0.0|      0.0|308.436|  308.436|3.154|  8.675|0.0|  0.0|75.825|75.449| -61.07649|      0.0| 3.52985|-24.1073|0.3616785318212714|0.6028622540250448| 0.162049373881932|0.0666|0.2688|0.0361|0.0674|0.2885|0.1955|0.1093|2007|    7|  8|   0|  Cold|         0.0|[12.71,14.015,0.0...|[0.72274799611567...|\n",
            "|      -3.94456|12.135|13.534|      0.0|    0.0|      0.0|308.436|  308.436|3.333|  8.249|0.0|  0.0|75.812|75.433|-69.066779|      0.0| 13.1904| 4.86626|0.3616785318212714|0.6028622540250448| 0.162049373881932|0.0666|0.2688|0.0361|0.0674|0.2885|0.1955|0.1093|2007|    7|  8|   1|  Cold|         0.0|[12.135,13.534,0....|[0.71328406603354...|\n",
            "|      -3.28295|12.795|13.053|      0.0|    0.0|      0.0|308.436|  308.436|4.642|  7.823|0.0|  0.0|75.792|75.418|-70.498328|      0.0| 3.70538|-25.9488|0.3616785318212714|0.6028622540250448| 0.162049373881932|0.0666|0.2688|0.0361|0.0674|0.2885|0.1955|0.1093|2007|    7|  8|   1|  Cold|         0.0|[12.795,13.053,0....|[0.72414701186694...|\n",
            "|     -0.985718|10.089|15.691|      0.0|    0.0|      0.0|352.146|  352.146|0.882|  9.196|0.0|  0.0|76.215|75.881|  -3.58363|11.118114| 5.06805|-28.5616|0.3807558180912391|0.6121281464530892|0.1724977116704805|0.0678|0.2818|0.0378|0.0694|0.3058|0.2043| 0.118|2007|    7| 12|   1|  Cold|         0.0|[10.089,15.691,0....|[0.67960893394999...|\n",
            "|      -1.03321| 9.548|15.436|      0.0|    0.0|      0.0|343.234|  343.234|0.724|   8.75|0.0|  0.0|76.205|75.871|-3.1408153|      0.0| 5.58934|-30.7925|0.3807558180912391|0.6121281464530892|0.1724977116704805|0.0678|0.2818|0.0378|0.0694|0.3058|0.2043| 0.118|2007|    7| 12|   2|  Cold|         0.0|[9.548,15.436,0.0...|[0.67070461016837...|\n",
            "|     -0.962612|10.373|15.202|      0.0|    0.0|      0.0|343.234|  343.234|0.811|  8.409|0.0|  0.0| 76.19|75.865| -3.309095|      0.0| 4.75825|-29.0381|0.3807558180912391|0.6121281464530892|0.1724977116704805|0.0678|0.2818|0.0378|0.0694|0.3058|0.2043| 0.118|2007|    7| 12|   2|  Cold|         0.0|[10.373,15.202,0....|[0.68428329246012...|\n",
            "|     -0.169853|10.717|14.967|      0.0|    0.0|      0.0|343.234|  343.234|0.788|  8.068|0.0|  0.0| 76.19|75.858|-3.5486747|      0.0| 5.54585|-25.8242|0.3807558180912391|0.6121281464530892|0.1724977116704805|0.0678|0.2818|0.0378|0.0694|0.3058|0.2043| 0.118|2007|    7| 12|   3|  Cold|         0.0|[10.717,14.967,0....|[0.68994519150056...|\n",
            "|     -0.165764|10.773|14.733|      0.0|    0.0|      0.0|343.234|  343.234|0.853|  7.727|0.0|  0.0|76.189|75.851|-3.6307494|      0.0| 5.54585|-25.8242|0.3807558180912391|0.6121281464530892|0.1724977116704805|0.0678|0.2818|0.0378|0.0694|0.3058|0.2043| 0.118|2007|    7| 12|   3|  Cold|         0.0|[10.773,14.733,0....|[0.69086689599552...|\n",
            "|      -3.14012| 11.04|14.499|      0.0|    0.0|      0.0|343.234|  343.234|1.591|  7.386|0.0|  0.0|76.189|75.844| -3.938716|      0.0| 5.54585|-68.5798|0.3807558180912391|0.6121281464530892|0.1724977116704805|0.0678|0.2818|0.0378|0.0694|0.3058|0.2043| 0.118|2007|    7| 12|   4|  Cold|         0.0|[11.04,14.499,0.0...|[0.69526145135539...|\n",
            "|      -3.06292|11.919|14.264|      0.0|    0.0|      0.0|343.234|  343.234|2.431|  7.045|0.0|  0.0|76.179|75.837| -4.590268|1.0277503|  6.0352|-25.8378|0.3807558180912391|0.6121281464530892|0.1724977116704805|0.0678|0.2818|0.0378|0.0694|0.3058|0.2043| 0.118|2007|    7| 12|   4|  Cold|         0.0|[11.919,14.264,0....|[0.70972892012443...|\n",
            "|       6.16608|11.624|14.439|  178.004| 37.572|   86.241|321.807|  321.807| 2.71|   7.49|0.0|  0.0|76.144|75.847| 30.963825|67.252647| 104.172|-25.2968|0.3807558180912391|0.6121281464530892|0.1724977116704805|0.0678|0.2818|0.0378|0.0694|0.3058|0.2043| 0.118|2007|    7| 12|   5|  Cold|         0.0|[11.624,14.439,17...|[0.70487351251707...|\n",
            "+--------------+------+------+---------+-------+---------+-------+---------+-----+-------+---+-----+------+------+----------+---------+--------+--------+------------------+------------------+------------------+------+------+------+------+------+------+------+----+-----+---+----+------+------------+--------------------+--------------------+\n",
            "only showing top 20 rows\n",
            "\n"
          ]
        }
      ]
    },
    {
      "cell_type": "markdown",
      "source": [
        "## Fit model"
      ],
      "metadata": {
        "id": "SBaLTdQX550k"
      }
    },
    {
      "cell_type": "markdown",
      "source": [
        "### Random Forest Regressor"
      ],
      "metadata": {
        "id": "HLYMRC1m6ALU"
      }
    },
    {
      "cell_type": "code",
      "source": [
        "from pyspark.ml.regression import RandomForestRegressor\n",
        "\n",
        "rf = RandomForestRegressor(featuresCol = 'normalized_features', labelCol = 'GPP_NT_VUT_REF')\n",
        "rfModel = rf.fit(normed_sdf_NAdrop)\n",
        "# rfModel = rf.fit(normed_train0)\n",
        "# predictions = rfModel.transform(normed_holdout0)"
      ],
      "metadata": {
        "id": "XSuqEkeiujON"
      },
      "execution_count": 75,
      "outputs": []
    },
    {
      "cell_type": "markdown",
      "source": [
        "## Feature Importance"
      ],
      "metadata": {
        "id": "-j6N1LNwAF1R"
      }
    },
    {
      "cell_type": "code",
      "source": [
        "feature_importance = rfModel.featureImportances"
      ],
      "metadata": {
        "id": "W1sR9KnMujLp"
      },
      "execution_count": 76,
      "outputs": []
    },
    {
      "cell_type": "code",
      "source": [
        "feature_importances_list = [feature_list]\n",
        "feature_importances_list += [list(feature_importance)]\n",
        "feature_importances_df = pd.DataFrame(feature_importances_list).T"
      ],
      "metadata": {
        "id": "3iRHWHYyyfJO"
      },
      "execution_count": 77,
      "outputs": []
    },
    {
      "cell_type": "code",
      "source": [
        "feature_importances_df.columns = [\"feature_name\", \"importance\"]\n",
        "feature_importances_df\n"
      ],
      "metadata": {
        "colab": {
          "base_uri": "https://localhost:8080/",
          "height": 1000
        },
        "id": "DZiIByA2_S2c",
        "outputId": "9a452403-d27f-4e5c-f5c1-091845108dde"
      },
      "execution_count": 78,
      "outputs": [
        {
          "output_type": "execute_result",
          "data": {
            "text/plain": [
              "   feature_name importance\n",
              "0          TA_F   0.014083\n",
              "1        TA_ERA   0.016697\n",
              "2     SW_IN_POT   0.042149\n",
              "3       SW_IN_F   0.136793\n",
              "4     SW_IN_ERA   0.012494\n",
              "5       LW_IN_F   0.000063\n",
              "6     LW_IN_ERA   0.000173\n",
              "7         VPD_F   0.012122\n",
              "8       VPD_ERA   0.011401\n",
              "9           P_F        0.0\n",
              "10        P_ERA   0.000006\n",
              "11         PA_F   0.000008\n",
              "12       PA_ERA   0.000043\n",
              "13       NETRAD   0.254202\n",
              "14      PPFD_IN   0.342113\n",
              "15     LE_F_MDS   0.095869\n",
              "16      H_F_MDS   0.004285\n",
              "17          EVI    0.00008\n",
              "18         NDVI   0.015807\n",
              "19         NIRv   0.001641\n",
              "20           b1   0.004367\n",
              "21           b2   0.008915\n",
              "22           b3   0.003316\n",
              "23           b4   0.006627\n",
              "24           b5   0.000896\n",
              "25           b6   0.002893\n",
              "26           b7   0.002387\n",
              "27         year   0.002464\n",
              "28        month   0.007106\n",
              "29          day   0.000056\n",
              "30         hour   0.000944"
            ],
            "text/html": [
              "\n",
              "  <div id=\"df-92bc3e80-8eee-4c74-a031-1ac29909f547\">\n",
              "    <div class=\"colab-df-container\">\n",
              "      <div>\n",
              "<style scoped>\n",
              "    .dataframe tbody tr th:only-of-type {\n",
              "        vertical-align: middle;\n",
              "    }\n",
              "\n",
              "    .dataframe tbody tr th {\n",
              "        vertical-align: top;\n",
              "    }\n",
              "\n",
              "    .dataframe thead th {\n",
              "        text-align: right;\n",
              "    }\n",
              "</style>\n",
              "<table border=\"1\" class=\"dataframe\">\n",
              "  <thead>\n",
              "    <tr style=\"text-align: right;\">\n",
              "      <th></th>\n",
              "      <th>feature_name</th>\n",
              "      <th>importance</th>\n",
              "    </tr>\n",
              "  </thead>\n",
              "  <tbody>\n",
              "    <tr>\n",
              "      <th>0</th>\n",
              "      <td>TA_F</td>\n",
              "      <td>0.014083</td>\n",
              "    </tr>\n",
              "    <tr>\n",
              "      <th>1</th>\n",
              "      <td>TA_ERA</td>\n",
              "      <td>0.016697</td>\n",
              "    </tr>\n",
              "    <tr>\n",
              "      <th>2</th>\n",
              "      <td>SW_IN_POT</td>\n",
              "      <td>0.042149</td>\n",
              "    </tr>\n",
              "    <tr>\n",
              "      <th>3</th>\n",
              "      <td>SW_IN_F</td>\n",
              "      <td>0.136793</td>\n",
              "    </tr>\n",
              "    <tr>\n",
              "      <th>4</th>\n",
              "      <td>SW_IN_ERA</td>\n",
              "      <td>0.012494</td>\n",
              "    </tr>\n",
              "    <tr>\n",
              "      <th>5</th>\n",
              "      <td>LW_IN_F</td>\n",
              "      <td>0.000063</td>\n",
              "    </tr>\n",
              "    <tr>\n",
              "      <th>6</th>\n",
              "      <td>LW_IN_ERA</td>\n",
              "      <td>0.000173</td>\n",
              "    </tr>\n",
              "    <tr>\n",
              "      <th>7</th>\n",
              "      <td>VPD_F</td>\n",
              "      <td>0.012122</td>\n",
              "    </tr>\n",
              "    <tr>\n",
              "      <th>8</th>\n",
              "      <td>VPD_ERA</td>\n",
              "      <td>0.011401</td>\n",
              "    </tr>\n",
              "    <tr>\n",
              "      <th>9</th>\n",
              "      <td>P_F</td>\n",
              "      <td>0.0</td>\n",
              "    </tr>\n",
              "    <tr>\n",
              "      <th>10</th>\n",
              "      <td>P_ERA</td>\n",
              "      <td>0.000006</td>\n",
              "    </tr>\n",
              "    <tr>\n",
              "      <th>11</th>\n",
              "      <td>PA_F</td>\n",
              "      <td>0.000008</td>\n",
              "    </tr>\n",
              "    <tr>\n",
              "      <th>12</th>\n",
              "      <td>PA_ERA</td>\n",
              "      <td>0.000043</td>\n",
              "    </tr>\n",
              "    <tr>\n",
              "      <th>13</th>\n",
              "      <td>NETRAD</td>\n",
              "      <td>0.254202</td>\n",
              "    </tr>\n",
              "    <tr>\n",
              "      <th>14</th>\n",
              "      <td>PPFD_IN</td>\n",
              "      <td>0.342113</td>\n",
              "    </tr>\n",
              "    <tr>\n",
              "      <th>15</th>\n",
              "      <td>LE_F_MDS</td>\n",
              "      <td>0.095869</td>\n",
              "    </tr>\n",
              "    <tr>\n",
              "      <th>16</th>\n",
              "      <td>H_F_MDS</td>\n",
              "      <td>0.004285</td>\n",
              "    </tr>\n",
              "    <tr>\n",
              "      <th>17</th>\n",
              "      <td>EVI</td>\n",
              "      <td>0.00008</td>\n",
              "    </tr>\n",
              "    <tr>\n",
              "      <th>18</th>\n",
              "      <td>NDVI</td>\n",
              "      <td>0.015807</td>\n",
              "    </tr>\n",
              "    <tr>\n",
              "      <th>19</th>\n",
              "      <td>NIRv</td>\n",
              "      <td>0.001641</td>\n",
              "    </tr>\n",
              "    <tr>\n",
              "      <th>20</th>\n",
              "      <td>b1</td>\n",
              "      <td>0.004367</td>\n",
              "    </tr>\n",
              "    <tr>\n",
              "      <th>21</th>\n",
              "      <td>b2</td>\n",
              "      <td>0.008915</td>\n",
              "    </tr>\n",
              "    <tr>\n",
              "      <th>22</th>\n",
              "      <td>b3</td>\n",
              "      <td>0.003316</td>\n",
              "    </tr>\n",
              "    <tr>\n",
              "      <th>23</th>\n",
              "      <td>b4</td>\n",
              "      <td>0.006627</td>\n",
              "    </tr>\n",
              "    <tr>\n",
              "      <th>24</th>\n",
              "      <td>b5</td>\n",
              "      <td>0.000896</td>\n",
              "    </tr>\n",
              "    <tr>\n",
              "      <th>25</th>\n",
              "      <td>b6</td>\n",
              "      <td>0.002893</td>\n",
              "    </tr>\n",
              "    <tr>\n",
              "      <th>26</th>\n",
              "      <td>b7</td>\n",
              "      <td>0.002387</td>\n",
              "    </tr>\n",
              "    <tr>\n",
              "      <th>27</th>\n",
              "      <td>year</td>\n",
              "      <td>0.002464</td>\n",
              "    </tr>\n",
              "    <tr>\n",
              "      <th>28</th>\n",
              "      <td>month</td>\n",
              "      <td>0.007106</td>\n",
              "    </tr>\n",
              "    <tr>\n",
              "      <th>29</th>\n",
              "      <td>day</td>\n",
              "      <td>0.000056</td>\n",
              "    </tr>\n",
              "    <tr>\n",
              "      <th>30</th>\n",
              "      <td>hour</td>\n",
              "      <td>0.000944</td>\n",
              "    </tr>\n",
              "  </tbody>\n",
              "</table>\n",
              "</div>\n",
              "      <button class=\"colab-df-convert\" onclick=\"convertToInteractive('df-92bc3e80-8eee-4c74-a031-1ac29909f547')\"\n",
              "              title=\"Convert this dataframe to an interactive table.\"\n",
              "              style=\"display:none;\">\n",
              "        \n",
              "  <svg xmlns=\"http://www.w3.org/2000/svg\" height=\"24px\"viewBox=\"0 0 24 24\"\n",
              "       width=\"24px\">\n",
              "    <path d=\"M0 0h24v24H0V0z\" fill=\"none\"/>\n",
              "    <path d=\"M18.56 5.44l.94 2.06.94-2.06 2.06-.94-2.06-.94-.94-2.06-.94 2.06-2.06.94zm-11 1L8.5 8.5l.94-2.06 2.06-.94-2.06-.94L8.5 2.5l-.94 2.06-2.06.94zm10 10l.94 2.06.94-2.06 2.06-.94-2.06-.94-.94-2.06-.94 2.06-2.06.94z\"/><path d=\"M17.41 7.96l-1.37-1.37c-.4-.4-.92-.59-1.43-.59-.52 0-1.04.2-1.43.59L10.3 9.45l-7.72 7.72c-.78.78-.78 2.05 0 2.83L4 21.41c.39.39.9.59 1.41.59.51 0 1.02-.2 1.41-.59l7.78-7.78 2.81-2.81c.8-.78.8-2.07 0-2.86zM5.41 20L4 18.59l7.72-7.72 1.47 1.35L5.41 20z\"/>\n",
              "  </svg>\n",
              "      </button>\n",
              "      \n",
              "  <style>\n",
              "    .colab-df-container {\n",
              "      display:flex;\n",
              "      flex-wrap:wrap;\n",
              "      gap: 12px;\n",
              "    }\n",
              "\n",
              "    .colab-df-convert {\n",
              "      background-color: #E8F0FE;\n",
              "      border: none;\n",
              "      border-radius: 50%;\n",
              "      cursor: pointer;\n",
              "      display: none;\n",
              "      fill: #1967D2;\n",
              "      height: 32px;\n",
              "      padding: 0 0 0 0;\n",
              "      width: 32px;\n",
              "    }\n",
              "\n",
              "    .colab-df-convert:hover {\n",
              "      background-color: #E2EBFA;\n",
              "      box-shadow: 0px 1px 2px rgba(60, 64, 67, 0.3), 0px 1px 3px 1px rgba(60, 64, 67, 0.15);\n",
              "      fill: #174EA6;\n",
              "    }\n",
              "\n",
              "    [theme=dark] .colab-df-convert {\n",
              "      background-color: #3B4455;\n",
              "      fill: #D2E3FC;\n",
              "    }\n",
              "\n",
              "    [theme=dark] .colab-df-convert:hover {\n",
              "      background-color: #434B5C;\n",
              "      box-shadow: 0px 1px 3px 1px rgba(0, 0, 0, 0.15);\n",
              "      filter: drop-shadow(0px 1px 2px rgba(0, 0, 0, 0.3));\n",
              "      fill: #FFFFFF;\n",
              "    }\n",
              "  </style>\n",
              "\n",
              "      <script>\n",
              "        const buttonEl =\n",
              "          document.querySelector('#df-92bc3e80-8eee-4c74-a031-1ac29909f547 button.colab-df-convert');\n",
              "        buttonEl.style.display =\n",
              "          google.colab.kernel.accessAllowed ? 'block' : 'none';\n",
              "\n",
              "        async function convertToInteractive(key) {\n",
              "          const element = document.querySelector('#df-92bc3e80-8eee-4c74-a031-1ac29909f547');\n",
              "          const dataTable =\n",
              "            await google.colab.kernel.invokeFunction('convertToInteractive',\n",
              "                                                     [key], {});\n",
              "          if (!dataTable) return;\n",
              "\n",
              "          const docLinkHtml = 'Like what you see? Visit the ' +\n",
              "            '<a target=\"_blank\" href=https://colab.research.google.com/notebooks/data_table.ipynb>data table notebook</a>'\n",
              "            + ' to learn more about interactive tables.';\n",
              "          element.innerHTML = '';\n",
              "          dataTable['output_type'] = 'display_data';\n",
              "          await google.colab.output.renderOutput(dataTable, element);\n",
              "          const docLink = document.createElement('div');\n",
              "          docLink.innerHTML = docLinkHtml;\n",
              "          element.appendChild(docLink);\n",
              "        }\n",
              "      </script>\n",
              "    </div>\n",
              "  </div>\n",
              "  "
            ]
          },
          "metadata": {},
          "execution_count": 78
        }
      ]
    },
    {
      "cell_type": "code",
      "source": [
        "!pip install pandas==1.3.0"
      ],
      "metadata": {
        "colab": {
          "base_uri": "https://localhost:8080/"
        },
        "id": "dhNdzLBAIhNX",
        "outputId": "56eb2391-e6ac-4e48-d078-3df0bc9402b4"
      },
      "execution_count": 79,
      "outputs": [
        {
          "output_type": "stream",
          "name": "stdout",
          "text": [
            "Looking in indexes: https://pypi.org/simple, https://us-python.pkg.dev/colab-wheels/public/simple/\n",
            "Collecting pandas==1.3.0\n",
            "  Downloading pandas-1.3.0-cp38-cp38-manylinux_2_5_x86_64.manylinux1_x86_64.whl (10.6 MB)\n",
            "\u001b[2K     \u001b[90m━━━━━━━━━━━━━━━━━━━━━━━━━━━━━━━━━━━━━━━━\u001b[0m \u001b[32m10.6/10.6 MB\u001b[0m \u001b[31m34.2 MB/s\u001b[0m eta \u001b[36m0:00:00\u001b[0m\n",
            "\u001b[?25hRequirement already satisfied: pytz>=2017.3 in /usr/local/lib/python3.8/dist-packages (from pandas==1.3.0) (2022.7.1)\n",
            "Requirement already satisfied: numpy>=1.17.3 in /usr/local/lib/python3.8/dist-packages (from pandas==1.3.0) (1.21.6)\n",
            "Requirement already satisfied: python-dateutil>=2.7.3 in /usr/local/lib/python3.8/dist-packages (from pandas==1.3.0) (2.8.2)\n",
            "Requirement already satisfied: six>=1.5 in /usr/local/lib/python3.8/dist-packages (from python-dateutil>=2.7.3->pandas==1.3.0) (1.15.0)\n",
            "Installing collected packages: pandas\n",
            "  Attempting uninstall: pandas\n",
            "    Found existing installation: pandas 1.5.3\n",
            "    Uninstalling pandas-1.5.3:\n",
            "      Successfully uninstalled pandas-1.5.3\n",
            "\u001b[31mERROR: pip's dependency resolver does not currently take into account all the packages that are installed. This behaviour is the source of the following dependency conflicts.\n",
            "fastparquet 2023.1.0 requires pandas>=1.5.0, but you have pandas 1.3.0 which is incompatible.\u001b[0m\u001b[31m\n",
            "\u001b[0mSuccessfully installed pandas-1.3.0\n"
          ]
        }
      ]
    },
    {
      "cell_type": "code",
      "source": [
        "feature_importances_df.to_csv(\"feature_importances_df_hourly_US-vcp.csv\")"
      ],
      "metadata": {
        "id": "eHndzeNPIhH4"
      },
      "execution_count": 80,
      "outputs": []
    },
    {
      "cell_type": "code",
      "source": [],
      "metadata": {
        "id": "iFeIa1nCMrnF"
      },
      "execution_count": null,
      "outputs": []
    }
  ]
}