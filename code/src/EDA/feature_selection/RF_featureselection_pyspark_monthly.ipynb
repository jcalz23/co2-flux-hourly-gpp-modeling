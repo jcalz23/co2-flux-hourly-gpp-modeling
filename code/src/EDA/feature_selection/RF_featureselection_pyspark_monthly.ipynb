{
  "nbformat": 4,
  "nbformat_minor": 0,
  "metadata": {
    "colab": {
      "provenance": []
    },
    "kernelspec": {
      "name": "python3",
      "display_name": "Python 3"
    },
    "language_info": {
      "name": "python"
    },
    "accelerator": "GPU",
    "gpuClass": "standard"
  },
  "cells": [
    {
      "cell_type": "markdown",
      "source": [
        "# EDA - Identify significant predictors with RF feature selection\n",
        "- Edited by Rumi Nakagawa\n",
        "- Spring 2023 Capstone"
      ],
      "metadata": {
        "id": "q5vxBYSHMC7q"
      }
    },
    {
      "cell_type": "markdown",
      "source": [
        "## Monthly data\n",
        "- `data_monthly_v1_0_mydrive.csv`"
      ],
      "metadata": {
        "id": "hd9hPQzlZSj5"
      }
    },
    {
      "cell_type": "markdown",
      "source": [
        "# 0. Preparation"
      ],
      "metadata": {
        "id": "CU5xMX4lMdOX"
      }
    },
    {
      "cell_type": "markdown",
      "source": [
        "## Mount google drive\n",
        "- Make sure that available access is the user's own drive(no access across files in shared folder)"
      ],
      "metadata": {
        "id": "tqqvjx_EMfQR"
      }
    },
    {
      "cell_type": "code",
      "source": [
        "from google.colab import drive\n",
        "drive.mount('/content/drive')"
      ],
      "metadata": {
        "colab": {
          "base_uri": "https://localhost:8080/"
        },
        "id": "2VY5heBv1X2o",
        "outputId": "c513b014-9826-48de-a5c2-e30d4ef48664"
      },
      "execution_count": 67,
      "outputs": [
        {
          "output_type": "stream",
          "name": "stdout",
          "text": [
            "Drive already mounted at /content/drive; to attempt to forcibly remount, call drive.mount(\"/content/drive\", force_remount=True).\n"
          ]
        }
      ]
    },
    {
      "cell_type": "code",
      "source": [
        "%cd drive/MyDrive/"
      ],
      "metadata": {
        "colab": {
          "base_uri": "https://localhost:8080/"
        },
        "id": "qR1caCRf1Xq-",
        "outputId": "04ec0cee-1a3a-4513-c485-556378b86f4d"
      },
      "execution_count": 68,
      "outputs": [
        {
          "output_type": "stream",
          "name": "stdout",
          "text": [
            "[Errno 2] No such file or directory: 'drive/MyDrive/'\n",
            "/content/drive/MyDrive\n"
          ]
        }
      ]
    },
    {
      "cell_type": "markdown",
      "source": [],
      "metadata": {
        "id": "FDFum0oX1zwr"
      }
    },
    {
      "cell_type": "markdown",
      "source": [
        "## Import libraries"
      ],
      "metadata": {
        "id": "Hcdd8BpC14Dr"
      }
    },
    {
      "cell_type": "code",
      "execution_count": 69,
      "metadata": {
        "colab": {
          "base_uri": "https://localhost:8080/"
        },
        "id": "5JOXkGWDgdmH",
        "outputId": "cbbf1c4c-904c-41b6-9b52-374e3c63700a"
      },
      "outputs": [
        {
          "output_type": "stream",
          "name": "stdout",
          "text": [
            "Looking in indexes: https://pypi.org/simple, https://us-python.pkg.dev/colab-wheels/public/simple/\n",
            "Requirement already satisfied: pyspark in /usr/local/lib/python3.8/dist-packages (3.3.1)\n",
            "Requirement already satisfied: py4j==0.10.9.5 in /usr/local/lib/python3.8/dist-packages (from pyspark) (0.10.9.5)\n"
          ]
        }
      ],
      "source": [
        "!pip install pyspark"
      ]
    },
    {
      "cell_type": "code",
      "source": [
        "# !pip install dython"
      ],
      "metadata": {
        "id": "W3KqtSBwOPKl"
      },
      "execution_count": 70,
      "outputs": []
    },
    {
      "cell_type": "code",
      "source": [
        "!pip install geopandas"
      ],
      "metadata": {
        "colab": {
          "base_uri": "https://localhost:8080/"
        },
        "id": "q4dJSIvnOU0L",
        "outputId": "956fa0da-fde9-477b-cf75-64fc27406b64"
      },
      "execution_count": 71,
      "outputs": [
        {
          "output_type": "stream",
          "name": "stdout",
          "text": [
            "Looking in indexes: https://pypi.org/simple, https://us-python.pkg.dev/colab-wheels/public/simple/\n",
            "Requirement already satisfied: geopandas in /usr/local/lib/python3.8/dist-packages (0.12.2)\n",
            "Requirement already satisfied: fiona>=1.8 in /usr/local/lib/python3.8/dist-packages (from geopandas) (1.9.0)\n",
            "Requirement already satisfied: shapely>=1.7 in /usr/local/lib/python3.8/dist-packages (from geopandas) (2.0.1)\n",
            "Requirement already satisfied: pyproj>=2.6.1.post1 in /usr/local/lib/python3.8/dist-packages (from geopandas) (3.4.1)\n",
            "Requirement already satisfied: pandas>=1.0.0 in /usr/local/lib/python3.8/dist-packages (from geopandas) (1.3.0)\n",
            "Requirement already satisfied: packaging in /usr/local/lib/python3.8/dist-packages (from geopandas) (23.0)\n",
            "Requirement already satisfied: click~=8.0 in /usr/local/lib/python3.8/dist-packages (from fiona>=1.8->geopandas) (8.1.3)\n",
            "Requirement already satisfied: attrs>=19.2.0 in /usr/local/lib/python3.8/dist-packages (from fiona>=1.8->geopandas) (22.2.0)\n",
            "Requirement already satisfied: certifi in /usr/local/lib/python3.8/dist-packages (from fiona>=1.8->geopandas) (2022.12.7)\n",
            "Requirement already satisfied: munch>=2.3.2 in /usr/local/lib/python3.8/dist-packages (from fiona>=1.8->geopandas) (2.5.0)\n",
            "Requirement already satisfied: click-plugins>=1.0 in /usr/local/lib/python3.8/dist-packages (from fiona>=1.8->geopandas) (1.1.1)\n",
            "Requirement already satisfied: cligj>=0.5 in /usr/local/lib/python3.8/dist-packages (from fiona>=1.8->geopandas) (0.7.2)\n",
            "Requirement already satisfied: python-dateutil>=2.7.3 in /usr/local/lib/python3.8/dist-packages (from pandas>=1.0.0->geopandas) (2.8.2)\n",
            "Requirement already satisfied: numpy>=1.17.3 in /usr/local/lib/python3.8/dist-packages (from pandas>=1.0.0->geopandas) (1.21.6)\n",
            "Requirement already satisfied: pytz>=2017.3 in /usr/local/lib/python3.8/dist-packages (from pandas>=1.0.0->geopandas) (2022.7.1)\n",
            "Requirement already satisfied: six in /usr/local/lib/python3.8/dist-packages (from munch>=2.3.2->fiona>=1.8->geopandas) (1.15.0)\n"
          ]
        }
      ]
    },
    {
      "cell_type": "code",
      "source": [
        "# Import SparkSession\n",
        "from pyspark.sql import SparkSession\n",
        "# Create a Spark Session\n",
        "spark = SparkSession.builder.master(\"local[*]\").getOrCreate()\n",
        "# Check Spark Session Information\n",
        "spark"
      ],
      "metadata": {
        "colab": {
          "base_uri": "https://localhost:8080/",
          "height": 219
        },
        "id": "9EdU074Lg_kz",
        "outputId": "296bfed4-0a13-430b-eac2-99d02cd624ba"
      },
      "execution_count": 72,
      "outputs": [
        {
          "output_type": "execute_result",
          "data": {
            "text/plain": [
              "<pyspark.sql.session.SparkSession at 0x7ff50ae6a610>"
            ],
            "text/html": [
              "\n",
              "            <div>\n",
              "                <p><b>SparkSession - in-memory</b></p>\n",
              "                \n",
              "        <div>\n",
              "            <p><b>SparkContext</b></p>\n",
              "\n",
              "            <p><a href=\"http://b97bf186b248:4040\">Spark UI</a></p>\n",
              "\n",
              "            <dl>\n",
              "              <dt>Version</dt>\n",
              "                <dd><code>v3.3.1</code></dd>\n",
              "              <dt>Master</dt>\n",
              "                <dd><code>local[*]</code></dd>\n",
              "              <dt>AppName</dt>\n",
              "                <dd><code>pyspark-shell</code></dd>\n",
              "            </dl>\n",
              "        </div>\n",
              "        \n",
              "            </div>\n",
              "        "
            ]
          },
          "metadata": {},
          "execution_count": 72
        }
      ]
    },
    {
      "cell_type": "code",
      "source": [
        "# Import a Spark function from library\n",
        "from pyspark.sql.functions import col"
      ],
      "metadata": {
        "id": "Fnbo8enthEIj"
      },
      "execution_count": 73,
      "outputs": []
    },
    {
      "cell_type": "code",
      "source": [
        "from pyspark.sql.functions import col\n",
        "from pyspark.ml.classification import LogisticRegression\n",
        "from pyspark.sql.functions import col\n",
        "import pandas as pd\n",
        "import numpy as np\n",
        "import os\n",
        "\n",
        "import matplotlib\n",
        "import matplotlib.pyplot as plt\n",
        "import seaborn as sns\n",
        "import ast\n",
        "from pyspark.sql.functions import desc\n",
        "\n",
        "import geopandas as gpd\n",
        "import folium\n",
        "\n",
        "from pyspark.ml.feature import VectorAssembler\n",
        "from pyspark.ml.feature import StandardScaler\n",
        "from pyspark.ml.feature import MinMaxScaler\n",
        "from pyspark.mllib.evaluation import MulticlassMetrics, BinaryClassificationMetrics\n",
        "from pyspark.ml.evaluation import BinaryClassificationEvaluator\n",
        "from datetime import datetime, timedelta\n",
        "from dateutil.relativedelta import relativedelta\n",
        "from pyspark.ml.classification import RandomForestClassifier\n",
        "import time\n",
        "# from dython import nominal\n",
        "\n",
        "# Apply the default theme\n",
        "sns.set_theme()\n"
      ],
      "metadata": {
        "id": "OzS71LcVhKDa"
      },
      "execution_count": 74,
      "outputs": []
    },
    {
      "cell_type": "markdown",
      "source": [
        "## (to be updated) Get access to blob storage\n",
        "- Reference from 261"
      ],
      "metadata": {
        "id": "g_W_ixoi2J-Z"
      }
    },
    {
      "cell_type": "code",
      "source": [
        "# Put at the top of any notebooks for storing in blob\n",
        "\n",
        "# from pyspark.sql.functions import col, max\n",
        "\n",
        "# blob_container = \"team06\" # The name of your container created in https://portal.azure.com\n",
        "# storage_account = \"apatel\" # The name of your Storage account created in https://portal.azure.com\n",
        "# secret_scope = \"team06\" # The name of the scope created in your local computer using the Databricks CLI\n",
        "# secret_key = \"team06\" # The name of the secret key created in your local computer using the Databricks CLI \n",
        "# blob_url = f\"wasbs://{blob_container}@{storage_account}.blob.core.windows.net\"\n",
        "# mount_path = \"/mnt/mids-w261\""
      ],
      "metadata": {
        "id": "XIXl0hNi2JMX"
      },
      "execution_count": 75,
      "outputs": []
    },
    {
      "cell_type": "markdown",
      "source": [
        "## Import csv\n",
        "sample csv"
      ],
      "metadata": {
        "id": "kn_eS60H20Va"
      }
    },
    {
      "cell_type": "code",
      "source": [
        "monthly_df = pd.read_csv(\"data_monthly_v1_0_mydrive.csv\")\n",
        "# Copied original file. It is needed to store in each user's mydrive\n"
      ],
      "metadata": {
        "id": "b-xYFWLbOwcv"
      },
      "execution_count": 76,
      "outputs": []
    },
    {
      "cell_type": "code",
      "source": [
        "monthly_df"
      ],
      "metadata": {
        "colab": {
          "base_uri": "https://localhost:8080/",
          "height": 488
        },
        "id": "kr0QM9Dk3_q_",
        "outputId": "0f98838d-6441-4a3b-f786-6f4c60c62c49"
      },
      "execution_count": 77,
      "outputs": [
        {
          "output_type": "execute_result",
          "data": {
            "text/plain": [
              "      SITE_ID  year  month  TIMESTAMP   dataset SITE_IGBP  LOCATION_LAT  \\\n",
              "0      AR-SLu  2010      1     201001   FLUXNET        MF     -33.46480   \n",
              "1      AR-SLu  2010      2     201002   FLUXNET        MF     -33.46480   \n",
              "2      AR-SLu  2010      3     201003   FLUXNET        MF     -33.46480   \n",
              "3      AR-SLu  2010      4     201004   FLUXNET        MF     -33.46480   \n",
              "4      AR-SLu  2010      5     201005   FLUXNET        MF     -33.46480   \n",
              "...       ...   ...    ...        ...       ...       ...           ...   \n",
              "19010  SE-Lnn  2018      8     201808  ICOS2018       CRO      58.34063   \n",
              "19011  SE-Lnn  2018      9     201809  ICOS2018       CRO      58.34063   \n",
              "19012  SE-Lnn  2018     10     201810  ICOS2018       CRO      58.34063   \n",
              "19013  SE-Lnn  2018     11     201811  ICOS2018       CRO      58.34063   \n",
              "19014  SE-Lnn  2018     12     201812  ICOS2018       CRO      58.34063   \n",
              "\n",
              "       LOCATION_LONG    TA_F   VPD_F  ...  Percent_Snow  Fpar  Lai  LST_Day  \\\n",
              "0          -66.45980  28.493  23.378  ...      0.000000  0.49  1.2   313.84   \n",
              "1          -66.45980  26.673  14.369  ...      0.000000  0.43  0.9   309.86   \n",
              "2          -66.45980  25.744  15.167  ...      0.000000  0.41  0.8   309.18   \n",
              "3          -66.45980  18.450   9.185  ...      0.000000  0.36  0.5   303.24   \n",
              "4          -66.45980  13.493   5.823  ...      0.000000  0.37  0.5   296.20   \n",
              "...              ...     ...     ...  ...           ...   ...  ...      ...   \n",
              "19010       13.10177  16.767   5.483  ...      0.000000  0.28  0.5   296.66   \n",
              "19011       13.10177  11.719   2.344  ...      0.000000  0.43  0.7   290.18   \n",
              "19012       13.10177   7.827   1.575  ...      0.000000  0.54  1.0   284.16   \n",
              "19013       13.10177   3.794   0.563  ...      0.800000   NaN  NaN   277.06   \n",
              "19014       13.10177   1.015   0.418  ...     14.666666   NaN  NaN   271.54   \n",
              "\n",
              "       LST_Night  MODIS_IGBP  MODIS_PFT  koppen_sub  koppen  CO2_concentration  \n",
              "0         293.58         OSH         SH         BSk    Arid            387.110  \n",
              "1         292.96         OSH         SH         BSk    Arid            387.675  \n",
              "2         290.52         OSH         SH         BSk    Arid            388.195  \n",
              "3         286.34         OSH         SH         BSk    Arid            388.905  \n",
              "4         277.82         OSH         SH         BSk    Arid            389.320  \n",
              "...          ...         ...        ...         ...     ...                ...  \n",
              "19010     282.84         CRO        CRO         Dfb    Cold            406.525  \n",
              "19011     280.78         CRO        CRO         Dfb    Cold            405.985  \n",
              "19012     276.10         CRO        CRO         Dfb    Cold            406.280  \n",
              "19013     270.88         CRO        CRO         Dfb    Cold            407.320  \n",
              "19014     267.06         CRO        CRO         Dfb    Cold            407.820  \n",
              "\n",
              "[19015 rows x 62 columns]"
            ],
            "text/html": [
              "\n",
              "  <div id=\"df-81213e45-a56a-47c3-b829-b56d19614478\">\n",
              "    <div class=\"colab-df-container\">\n",
              "      <div>\n",
              "<style scoped>\n",
              "    .dataframe tbody tr th:only-of-type {\n",
              "        vertical-align: middle;\n",
              "    }\n",
              "\n",
              "    .dataframe tbody tr th {\n",
              "        vertical-align: top;\n",
              "    }\n",
              "\n",
              "    .dataframe thead th {\n",
              "        text-align: right;\n",
              "    }\n",
              "</style>\n",
              "<table border=\"1\" class=\"dataframe\">\n",
              "  <thead>\n",
              "    <tr style=\"text-align: right;\">\n",
              "      <th></th>\n",
              "      <th>SITE_ID</th>\n",
              "      <th>year</th>\n",
              "      <th>month</th>\n",
              "      <th>TIMESTAMP</th>\n",
              "      <th>dataset</th>\n",
              "      <th>SITE_IGBP</th>\n",
              "      <th>LOCATION_LAT</th>\n",
              "      <th>LOCATION_LONG</th>\n",
              "      <th>TA_F</th>\n",
              "      <th>VPD_F</th>\n",
              "      <th>...</th>\n",
              "      <th>Percent_Snow</th>\n",
              "      <th>Fpar</th>\n",
              "      <th>Lai</th>\n",
              "      <th>LST_Day</th>\n",
              "      <th>LST_Night</th>\n",
              "      <th>MODIS_IGBP</th>\n",
              "      <th>MODIS_PFT</th>\n",
              "      <th>koppen_sub</th>\n",
              "      <th>koppen</th>\n",
              "      <th>CO2_concentration</th>\n",
              "    </tr>\n",
              "  </thead>\n",
              "  <tbody>\n",
              "    <tr>\n",
              "      <th>0</th>\n",
              "      <td>AR-SLu</td>\n",
              "      <td>2010</td>\n",
              "      <td>1</td>\n",
              "      <td>201001</td>\n",
              "      <td>FLUXNET</td>\n",
              "      <td>MF</td>\n",
              "      <td>-33.46480</td>\n",
              "      <td>-66.45980</td>\n",
              "      <td>28.493</td>\n",
              "      <td>23.378</td>\n",
              "      <td>...</td>\n",
              "      <td>0.000000</td>\n",
              "      <td>0.49</td>\n",
              "      <td>1.2</td>\n",
              "      <td>313.84</td>\n",
              "      <td>293.58</td>\n",
              "      <td>OSH</td>\n",
              "      <td>SH</td>\n",
              "      <td>BSk</td>\n",
              "      <td>Arid</td>\n",
              "      <td>387.110</td>\n",
              "    </tr>\n",
              "    <tr>\n",
              "      <th>1</th>\n",
              "      <td>AR-SLu</td>\n",
              "      <td>2010</td>\n",
              "      <td>2</td>\n",
              "      <td>201002</td>\n",
              "      <td>FLUXNET</td>\n",
              "      <td>MF</td>\n",
              "      <td>-33.46480</td>\n",
              "      <td>-66.45980</td>\n",
              "      <td>26.673</td>\n",
              "      <td>14.369</td>\n",
              "      <td>...</td>\n",
              "      <td>0.000000</td>\n",
              "      <td>0.43</td>\n",
              "      <td>0.9</td>\n",
              "      <td>309.86</td>\n",
              "      <td>292.96</td>\n",
              "      <td>OSH</td>\n",
              "      <td>SH</td>\n",
              "      <td>BSk</td>\n",
              "      <td>Arid</td>\n",
              "      <td>387.675</td>\n",
              "    </tr>\n",
              "    <tr>\n",
              "      <th>2</th>\n",
              "      <td>AR-SLu</td>\n",
              "      <td>2010</td>\n",
              "      <td>3</td>\n",
              "      <td>201003</td>\n",
              "      <td>FLUXNET</td>\n",
              "      <td>MF</td>\n",
              "      <td>-33.46480</td>\n",
              "      <td>-66.45980</td>\n",
              "      <td>25.744</td>\n",
              "      <td>15.167</td>\n",
              "      <td>...</td>\n",
              "      <td>0.000000</td>\n",
              "      <td>0.41</td>\n",
              "      <td>0.8</td>\n",
              "      <td>309.18</td>\n",
              "      <td>290.52</td>\n",
              "      <td>OSH</td>\n",
              "      <td>SH</td>\n",
              "      <td>BSk</td>\n",
              "      <td>Arid</td>\n",
              "      <td>388.195</td>\n",
              "    </tr>\n",
              "    <tr>\n",
              "      <th>3</th>\n",
              "      <td>AR-SLu</td>\n",
              "      <td>2010</td>\n",
              "      <td>4</td>\n",
              "      <td>201004</td>\n",
              "      <td>FLUXNET</td>\n",
              "      <td>MF</td>\n",
              "      <td>-33.46480</td>\n",
              "      <td>-66.45980</td>\n",
              "      <td>18.450</td>\n",
              "      <td>9.185</td>\n",
              "      <td>...</td>\n",
              "      <td>0.000000</td>\n",
              "      <td>0.36</td>\n",
              "      <td>0.5</td>\n",
              "      <td>303.24</td>\n",
              "      <td>286.34</td>\n",
              "      <td>OSH</td>\n",
              "      <td>SH</td>\n",
              "      <td>BSk</td>\n",
              "      <td>Arid</td>\n",
              "      <td>388.905</td>\n",
              "    </tr>\n",
              "    <tr>\n",
              "      <th>4</th>\n",
              "      <td>AR-SLu</td>\n",
              "      <td>2010</td>\n",
              "      <td>5</td>\n",
              "      <td>201005</td>\n",
              "      <td>FLUXNET</td>\n",
              "      <td>MF</td>\n",
              "      <td>-33.46480</td>\n",
              "      <td>-66.45980</td>\n",
              "      <td>13.493</td>\n",
              "      <td>5.823</td>\n",
              "      <td>...</td>\n",
              "      <td>0.000000</td>\n",
              "      <td>0.37</td>\n",
              "      <td>0.5</td>\n",
              "      <td>296.20</td>\n",
              "      <td>277.82</td>\n",
              "      <td>OSH</td>\n",
              "      <td>SH</td>\n",
              "      <td>BSk</td>\n",
              "      <td>Arid</td>\n",
              "      <td>389.320</td>\n",
              "    </tr>\n",
              "    <tr>\n",
              "      <th>...</th>\n",
              "      <td>...</td>\n",
              "      <td>...</td>\n",
              "      <td>...</td>\n",
              "      <td>...</td>\n",
              "      <td>...</td>\n",
              "      <td>...</td>\n",
              "      <td>...</td>\n",
              "      <td>...</td>\n",
              "      <td>...</td>\n",
              "      <td>...</td>\n",
              "      <td>...</td>\n",
              "      <td>...</td>\n",
              "      <td>...</td>\n",
              "      <td>...</td>\n",
              "      <td>...</td>\n",
              "      <td>...</td>\n",
              "      <td>...</td>\n",
              "      <td>...</td>\n",
              "      <td>...</td>\n",
              "      <td>...</td>\n",
              "      <td>...</td>\n",
              "    </tr>\n",
              "    <tr>\n",
              "      <th>19010</th>\n",
              "      <td>SE-Lnn</td>\n",
              "      <td>2018</td>\n",
              "      <td>8</td>\n",
              "      <td>201808</td>\n",
              "      <td>ICOS2018</td>\n",
              "      <td>CRO</td>\n",
              "      <td>58.34063</td>\n",
              "      <td>13.10177</td>\n",
              "      <td>16.767</td>\n",
              "      <td>5.483</td>\n",
              "      <td>...</td>\n",
              "      <td>0.000000</td>\n",
              "      <td>0.28</td>\n",
              "      <td>0.5</td>\n",
              "      <td>296.66</td>\n",
              "      <td>282.84</td>\n",
              "      <td>CRO</td>\n",
              "      <td>CRO</td>\n",
              "      <td>Dfb</td>\n",
              "      <td>Cold</td>\n",
              "      <td>406.525</td>\n",
              "    </tr>\n",
              "    <tr>\n",
              "      <th>19011</th>\n",
              "      <td>SE-Lnn</td>\n",
              "      <td>2018</td>\n",
              "      <td>9</td>\n",
              "      <td>201809</td>\n",
              "      <td>ICOS2018</td>\n",
              "      <td>CRO</td>\n",
              "      <td>58.34063</td>\n",
              "      <td>13.10177</td>\n",
              "      <td>11.719</td>\n",
              "      <td>2.344</td>\n",
              "      <td>...</td>\n",
              "      <td>0.000000</td>\n",
              "      <td>0.43</td>\n",
              "      <td>0.7</td>\n",
              "      <td>290.18</td>\n",
              "      <td>280.78</td>\n",
              "      <td>CRO</td>\n",
              "      <td>CRO</td>\n",
              "      <td>Dfb</td>\n",
              "      <td>Cold</td>\n",
              "      <td>405.985</td>\n",
              "    </tr>\n",
              "    <tr>\n",
              "      <th>19012</th>\n",
              "      <td>SE-Lnn</td>\n",
              "      <td>2018</td>\n",
              "      <td>10</td>\n",
              "      <td>201810</td>\n",
              "      <td>ICOS2018</td>\n",
              "      <td>CRO</td>\n",
              "      <td>58.34063</td>\n",
              "      <td>13.10177</td>\n",
              "      <td>7.827</td>\n",
              "      <td>1.575</td>\n",
              "      <td>...</td>\n",
              "      <td>0.000000</td>\n",
              "      <td>0.54</td>\n",
              "      <td>1.0</td>\n",
              "      <td>284.16</td>\n",
              "      <td>276.10</td>\n",
              "      <td>CRO</td>\n",
              "      <td>CRO</td>\n",
              "      <td>Dfb</td>\n",
              "      <td>Cold</td>\n",
              "      <td>406.280</td>\n",
              "    </tr>\n",
              "    <tr>\n",
              "      <th>19013</th>\n",
              "      <td>SE-Lnn</td>\n",
              "      <td>2018</td>\n",
              "      <td>11</td>\n",
              "      <td>201811</td>\n",
              "      <td>ICOS2018</td>\n",
              "      <td>CRO</td>\n",
              "      <td>58.34063</td>\n",
              "      <td>13.10177</td>\n",
              "      <td>3.794</td>\n",
              "      <td>0.563</td>\n",
              "      <td>...</td>\n",
              "      <td>0.800000</td>\n",
              "      <td>NaN</td>\n",
              "      <td>NaN</td>\n",
              "      <td>277.06</td>\n",
              "      <td>270.88</td>\n",
              "      <td>CRO</td>\n",
              "      <td>CRO</td>\n",
              "      <td>Dfb</td>\n",
              "      <td>Cold</td>\n",
              "      <td>407.320</td>\n",
              "    </tr>\n",
              "    <tr>\n",
              "      <th>19014</th>\n",
              "      <td>SE-Lnn</td>\n",
              "      <td>2018</td>\n",
              "      <td>12</td>\n",
              "      <td>201812</td>\n",
              "      <td>ICOS2018</td>\n",
              "      <td>CRO</td>\n",
              "      <td>58.34063</td>\n",
              "      <td>13.10177</td>\n",
              "      <td>1.015</td>\n",
              "      <td>0.418</td>\n",
              "      <td>...</td>\n",
              "      <td>14.666666</td>\n",
              "      <td>NaN</td>\n",
              "      <td>NaN</td>\n",
              "      <td>271.54</td>\n",
              "      <td>267.06</td>\n",
              "      <td>CRO</td>\n",
              "      <td>CRO</td>\n",
              "      <td>Dfb</td>\n",
              "      <td>Cold</td>\n",
              "      <td>407.820</td>\n",
              "    </tr>\n",
              "  </tbody>\n",
              "</table>\n",
              "<p>19015 rows × 62 columns</p>\n",
              "</div>\n",
              "      <button class=\"colab-df-convert\" onclick=\"convertToInteractive('df-81213e45-a56a-47c3-b829-b56d19614478')\"\n",
              "              title=\"Convert this dataframe to an interactive table.\"\n",
              "              style=\"display:none;\">\n",
              "        \n",
              "  <svg xmlns=\"http://www.w3.org/2000/svg\" height=\"24px\"viewBox=\"0 0 24 24\"\n",
              "       width=\"24px\">\n",
              "    <path d=\"M0 0h24v24H0V0z\" fill=\"none\"/>\n",
              "    <path d=\"M18.56 5.44l.94 2.06.94-2.06 2.06-.94-2.06-.94-.94-2.06-.94 2.06-2.06.94zm-11 1L8.5 8.5l.94-2.06 2.06-.94-2.06-.94L8.5 2.5l-.94 2.06-2.06.94zm10 10l.94 2.06.94-2.06 2.06-.94-2.06-.94-.94-2.06-.94 2.06-2.06.94z\"/><path d=\"M17.41 7.96l-1.37-1.37c-.4-.4-.92-.59-1.43-.59-.52 0-1.04.2-1.43.59L10.3 9.45l-7.72 7.72c-.78.78-.78 2.05 0 2.83L4 21.41c.39.39.9.59 1.41.59.51 0 1.02-.2 1.41-.59l7.78-7.78 2.81-2.81c.8-.78.8-2.07 0-2.86zM5.41 20L4 18.59l7.72-7.72 1.47 1.35L5.41 20z\"/>\n",
              "  </svg>\n",
              "      </button>\n",
              "      \n",
              "  <style>\n",
              "    .colab-df-container {\n",
              "      display:flex;\n",
              "      flex-wrap:wrap;\n",
              "      gap: 12px;\n",
              "    }\n",
              "\n",
              "    .colab-df-convert {\n",
              "      background-color: #E8F0FE;\n",
              "      border: none;\n",
              "      border-radius: 50%;\n",
              "      cursor: pointer;\n",
              "      display: none;\n",
              "      fill: #1967D2;\n",
              "      height: 32px;\n",
              "      padding: 0 0 0 0;\n",
              "      width: 32px;\n",
              "    }\n",
              "\n",
              "    .colab-df-convert:hover {\n",
              "      background-color: #E2EBFA;\n",
              "      box-shadow: 0px 1px 2px rgba(60, 64, 67, 0.3), 0px 1px 3px 1px rgba(60, 64, 67, 0.15);\n",
              "      fill: #174EA6;\n",
              "    }\n",
              "\n",
              "    [theme=dark] .colab-df-convert {\n",
              "      background-color: #3B4455;\n",
              "      fill: #D2E3FC;\n",
              "    }\n",
              "\n",
              "    [theme=dark] .colab-df-convert:hover {\n",
              "      background-color: #434B5C;\n",
              "      box-shadow: 0px 1px 3px 1px rgba(0, 0, 0, 0.15);\n",
              "      filter: drop-shadow(0px 1px 2px rgba(0, 0, 0, 0.3));\n",
              "      fill: #FFFFFF;\n",
              "    }\n",
              "  </style>\n",
              "\n",
              "      <script>\n",
              "        const buttonEl =\n",
              "          document.querySelector('#df-81213e45-a56a-47c3-b829-b56d19614478 button.colab-df-convert');\n",
              "        buttonEl.style.display =\n",
              "          google.colab.kernel.accessAllowed ? 'block' : 'none';\n",
              "\n",
              "        async function convertToInteractive(key) {\n",
              "          const element = document.querySelector('#df-81213e45-a56a-47c3-b829-b56d19614478');\n",
              "          const dataTable =\n",
              "            await google.colab.kernel.invokeFunction('convertToInteractive',\n",
              "                                                     [key], {});\n",
              "          if (!dataTable) return;\n",
              "\n",
              "          const docLinkHtml = 'Like what you see? Visit the ' +\n",
              "            '<a target=\"_blank\" href=https://colab.research.google.com/notebooks/data_table.ipynb>data table notebook</a>'\n",
              "            + ' to learn more about interactive tables.';\n",
              "          element.innerHTML = '';\n",
              "          dataTable['output_type'] = 'display_data';\n",
              "          await google.colab.output.renderOutput(dataTable, element);\n",
              "          const docLink = document.createElement('div');\n",
              "          docLink.innerHTML = docLinkHtml;\n",
              "          element.appendChild(docLink);\n",
              "        }\n",
              "      </script>\n",
              "    </div>\n",
              "  </div>\n",
              "  "
            ]
          },
          "metadata": {},
          "execution_count": 77
        }
      ]
    },
    {
      "cell_type": "code",
      "source": [
        "# Original columns\n",
        "print(len(monthly_df.columns))\n",
        "monthly_df.columns"
      ],
      "metadata": {
        "colab": {
          "base_uri": "https://localhost:8080/"
        },
        "outputId": "1d600fd1-5dd9-4195-db17-a765e5a0525d",
        "id": "y3pyhpnxNZ5w"
      },
      "execution_count": 78,
      "outputs": [
        {
          "output_type": "stream",
          "name": "stdout",
          "text": [
            "62\n"
          ]
        },
        {
          "output_type": "execute_result",
          "data": {
            "text/plain": [
              "Index(['SITE_ID', 'year', 'month', 'TIMESTAMP', 'dataset', 'SITE_IGBP',\n",
              "       'LOCATION_LAT', 'LOCATION_LONG', 'TA_F', 'VPD_F', 'P_F', 'NETRAD',\n",
              "       'NEE_VUT_REF', 'NEE_VUT_REF_QC', 'NEE_CUT_REF', 'NEE_CUT_REF_QC',\n",
              "       'GPP_NT_VUT_REF', 'GPP_DT_VUT_REF', 'GPP_NT_CUT_REF', 'GPP_DT_CUT_REF',\n",
              "       'RECO_NT_VUT_REF', 'RECO_DT_VUT_REF', 'RECO_NT_CUT_REF',\n",
              "       'RECO_DT_CUT_REF', 'time', 'ET', 'BESS-PAR', 'BESS-PARdiff',\n",
              "       'BESS-RSDN', 'CSIF-SIFdaily', 'CSIF-SIFinst', 'PET', 'Ts', 'Tmean',\n",
              "       'prcp', 'vpd', 'prcp-lag3', 'ESACCI-sm', 'MODIS_LC', 'b1', 'b2', 'b3',\n",
              "       'b4', 'b5', 'b6', 'b7', 'EVI', 'GCI', 'NDVI', 'NDWI', 'NIRv', 'kNDVI',\n",
              "       'Percent_Snow', 'Fpar', 'Lai', 'LST_Day', 'LST_Night', 'MODIS_IGBP',\n",
              "       'MODIS_PFT', 'koppen_sub', 'koppen', 'CO2_concentration'],\n",
              "      dtype='object')"
            ]
          },
          "metadata": {},
          "execution_count": 78
        }
      ]
    },
    {
      "cell_type": "markdown",
      "source": [
        "## Check how much NA/None exists in each column"
      ],
      "metadata": {
        "id": "efvNV6HVNZ5w"
      }
    },
    {
      "cell_type": "code",
      "source": [
        "monthly_df.isna().sum()"
      ],
      "metadata": {
        "outputId": "4d2588d4-749f-4ff6-816c-92ee7c045c1b",
        "colab": {
          "base_uri": "https://localhost:8080/"
        },
        "id": "-Ubz-M4WNZ5w"
      },
      "execution_count": 79,
      "outputs": [
        {
          "output_type": "execute_result",
          "data": {
            "text/plain": [
              "SITE_ID              0\n",
              "year                 0\n",
              "month                0\n",
              "TIMESTAMP            0\n",
              "dataset              0\n",
              "                    ..\n",
              "MODIS_IGBP           0\n",
              "MODIS_PFT            0\n",
              "koppen_sub           0\n",
              "koppen               0\n",
              "CO2_concentration    0\n",
              "Length: 62, dtype: int64"
            ]
          },
          "metadata": {},
          "execution_count": 79
        }
      ]
    },
    {
      "cell_type": "code",
      "source": [
        "monthly_df_countNA = monthly_df.isna().sum()\n",
        "monthly_df_countNA"
      ],
      "metadata": {
        "colab": {
          "base_uri": "https://localhost:8080/"
        },
        "outputId": "739e2f34-b62b-4373-ef42-a5895e356f03",
        "id": "eql0tt8_NZ5x"
      },
      "execution_count": 80,
      "outputs": [
        {
          "output_type": "execute_result",
          "data": {
            "text/plain": [
              "SITE_ID              0\n",
              "year                 0\n",
              "month                0\n",
              "TIMESTAMP            0\n",
              "dataset              0\n",
              "                    ..\n",
              "MODIS_IGBP           0\n",
              "MODIS_PFT            0\n",
              "koppen_sub           0\n",
              "koppen               0\n",
              "CO2_concentration    0\n",
              "Length: 62, dtype: int64"
            ]
          },
          "metadata": {},
          "execution_count": 80
        }
      ]
    },
    {
      "cell_type": "code",
      "source": [
        "monthly_df_countNA = pd.DataFrame(monthly_df.isna().sum())\n",
        "\n",
        "NA0_list = list(monthly_df_countNA[monthly_df_countNA[0] == 0].index)\n",
        "NA_list = list(monthly_df_countNA[monthly_df_countNA[0] != 0].index)"
      ],
      "metadata": {
        "id": "UW4ufACiNZ5x"
      },
      "execution_count": 81,
      "outputs": []
    },
    {
      "cell_type": "code",
      "source": [
        "NA_list"
      ],
      "metadata": {
        "colab": {
          "base_uri": "https://localhost:8080/"
        },
        "id": "RKDuwR3bTw8r",
        "outputId": "2f7aee16-42f8-4ccf-adc0-83340821cc51"
      },
      "execution_count": 82,
      "outputs": [
        {
          "output_type": "execute_result",
          "data": {
            "text/plain": [
              "['P_F',\n",
              " 'NETRAD',\n",
              " 'RECO_DT_VUT_REF',\n",
              " 'RECO_DT_CUT_REF',\n",
              " 'ET',\n",
              " 'CSIF-SIFdaily',\n",
              " 'CSIF-SIFinst',\n",
              " 'PET',\n",
              " 'Ts',\n",
              " 'Tmean',\n",
              " 'prcp',\n",
              " 'vpd',\n",
              " 'prcp-lag3',\n",
              " 'ESACCI-sm',\n",
              " 'b1',\n",
              " 'b2',\n",
              " 'b3',\n",
              " 'b4',\n",
              " 'b5',\n",
              " 'b6',\n",
              " 'b7',\n",
              " 'EVI',\n",
              " 'GCI',\n",
              " 'NDVI',\n",
              " 'NDWI',\n",
              " 'NIRv',\n",
              " 'kNDVI',\n",
              " 'Percent_Snow',\n",
              " 'Fpar',\n",
              " 'Lai']"
            ]
          },
          "metadata": {},
          "execution_count": 82
        }
      ]
    },
    {
      "cell_type": "code",
      "source": [
        "len(monthly_df)"
      ],
      "metadata": {
        "colab": {
          "base_uri": "https://localhost:8080/"
        },
        "id": "5rlcgfBm9JAY",
        "outputId": "16f4c2fc-528d-4dd5-b7b0-7fb030fab318"
      },
      "execution_count": 83,
      "outputs": [
        {
          "output_type": "execute_result",
          "data": {
            "text/plain": [
              "19015"
            ]
          },
          "metadata": {},
          "execution_count": 83
        }
      ]
    },
    {
      "cell_type": "code",
      "source": [
        "monthly_df_countNA[monthly_df_countNA[0] != 0]"
      ],
      "metadata": {
        "colab": {
          "base_uri": "https://localhost:8080/",
          "height": 990
        },
        "outputId": "88e8563d-2a1b-418a-e599-9969faf4a6ac",
        "id": "8MsXQ3RjNZ5z"
      },
      "execution_count": 84,
      "outputs": [
        {
          "output_type": "execute_result",
          "data": {
            "text/plain": [
              "                    0\n",
              "P_F               353\n",
              "NETRAD           2693\n",
              "RECO_DT_VUT_REF     1\n",
              "RECO_DT_CUT_REF     1\n",
              "ET                 32\n",
              "CSIF-SIFdaily     121\n",
              "CSIF-SIFinst      121\n",
              "PET               101\n",
              "Ts                101\n",
              "Tmean             101\n",
              "prcp              101\n",
              "vpd               101\n",
              "prcp-lag3         101\n",
              "ESACCI-sm        1610\n",
              "b1                406\n",
              "b2                399\n",
              "b3                406\n",
              "b4                406\n",
              "b5                406\n",
              "b6                406\n",
              "b7                406\n",
              "EVI              1620\n",
              "GCI               469\n",
              "NDVI              452\n",
              "NDWI              406\n",
              "NIRv              452\n",
              "kNDVI             406\n",
              "Percent_Snow      143\n",
              "Fpar              935\n",
              "Lai               935"
            ],
            "text/html": [
              "\n",
              "  <div id=\"df-fa5c1026-3428-4c2f-9f9e-784f6c779562\">\n",
              "    <div class=\"colab-df-container\">\n",
              "      <div>\n",
              "<style scoped>\n",
              "    .dataframe tbody tr th:only-of-type {\n",
              "        vertical-align: middle;\n",
              "    }\n",
              "\n",
              "    .dataframe tbody tr th {\n",
              "        vertical-align: top;\n",
              "    }\n",
              "\n",
              "    .dataframe thead th {\n",
              "        text-align: right;\n",
              "    }\n",
              "</style>\n",
              "<table border=\"1\" class=\"dataframe\">\n",
              "  <thead>\n",
              "    <tr style=\"text-align: right;\">\n",
              "      <th></th>\n",
              "      <th>0</th>\n",
              "    </tr>\n",
              "  </thead>\n",
              "  <tbody>\n",
              "    <tr>\n",
              "      <th>P_F</th>\n",
              "      <td>353</td>\n",
              "    </tr>\n",
              "    <tr>\n",
              "      <th>NETRAD</th>\n",
              "      <td>2693</td>\n",
              "    </tr>\n",
              "    <tr>\n",
              "      <th>RECO_DT_VUT_REF</th>\n",
              "      <td>1</td>\n",
              "    </tr>\n",
              "    <tr>\n",
              "      <th>RECO_DT_CUT_REF</th>\n",
              "      <td>1</td>\n",
              "    </tr>\n",
              "    <tr>\n",
              "      <th>ET</th>\n",
              "      <td>32</td>\n",
              "    </tr>\n",
              "    <tr>\n",
              "      <th>CSIF-SIFdaily</th>\n",
              "      <td>121</td>\n",
              "    </tr>\n",
              "    <tr>\n",
              "      <th>CSIF-SIFinst</th>\n",
              "      <td>121</td>\n",
              "    </tr>\n",
              "    <tr>\n",
              "      <th>PET</th>\n",
              "      <td>101</td>\n",
              "    </tr>\n",
              "    <tr>\n",
              "      <th>Ts</th>\n",
              "      <td>101</td>\n",
              "    </tr>\n",
              "    <tr>\n",
              "      <th>Tmean</th>\n",
              "      <td>101</td>\n",
              "    </tr>\n",
              "    <tr>\n",
              "      <th>prcp</th>\n",
              "      <td>101</td>\n",
              "    </tr>\n",
              "    <tr>\n",
              "      <th>vpd</th>\n",
              "      <td>101</td>\n",
              "    </tr>\n",
              "    <tr>\n",
              "      <th>prcp-lag3</th>\n",
              "      <td>101</td>\n",
              "    </tr>\n",
              "    <tr>\n",
              "      <th>ESACCI-sm</th>\n",
              "      <td>1610</td>\n",
              "    </tr>\n",
              "    <tr>\n",
              "      <th>b1</th>\n",
              "      <td>406</td>\n",
              "    </tr>\n",
              "    <tr>\n",
              "      <th>b2</th>\n",
              "      <td>399</td>\n",
              "    </tr>\n",
              "    <tr>\n",
              "      <th>b3</th>\n",
              "      <td>406</td>\n",
              "    </tr>\n",
              "    <tr>\n",
              "      <th>b4</th>\n",
              "      <td>406</td>\n",
              "    </tr>\n",
              "    <tr>\n",
              "      <th>b5</th>\n",
              "      <td>406</td>\n",
              "    </tr>\n",
              "    <tr>\n",
              "      <th>b6</th>\n",
              "      <td>406</td>\n",
              "    </tr>\n",
              "    <tr>\n",
              "      <th>b7</th>\n",
              "      <td>406</td>\n",
              "    </tr>\n",
              "    <tr>\n",
              "      <th>EVI</th>\n",
              "      <td>1620</td>\n",
              "    </tr>\n",
              "    <tr>\n",
              "      <th>GCI</th>\n",
              "      <td>469</td>\n",
              "    </tr>\n",
              "    <tr>\n",
              "      <th>NDVI</th>\n",
              "      <td>452</td>\n",
              "    </tr>\n",
              "    <tr>\n",
              "      <th>NDWI</th>\n",
              "      <td>406</td>\n",
              "    </tr>\n",
              "    <tr>\n",
              "      <th>NIRv</th>\n",
              "      <td>452</td>\n",
              "    </tr>\n",
              "    <tr>\n",
              "      <th>kNDVI</th>\n",
              "      <td>406</td>\n",
              "    </tr>\n",
              "    <tr>\n",
              "      <th>Percent_Snow</th>\n",
              "      <td>143</td>\n",
              "    </tr>\n",
              "    <tr>\n",
              "      <th>Fpar</th>\n",
              "      <td>935</td>\n",
              "    </tr>\n",
              "    <tr>\n",
              "      <th>Lai</th>\n",
              "      <td>935</td>\n",
              "    </tr>\n",
              "  </tbody>\n",
              "</table>\n",
              "</div>\n",
              "      <button class=\"colab-df-convert\" onclick=\"convertToInteractive('df-fa5c1026-3428-4c2f-9f9e-784f6c779562')\"\n",
              "              title=\"Convert this dataframe to an interactive table.\"\n",
              "              style=\"display:none;\">\n",
              "        \n",
              "  <svg xmlns=\"http://www.w3.org/2000/svg\" height=\"24px\"viewBox=\"0 0 24 24\"\n",
              "       width=\"24px\">\n",
              "    <path d=\"M0 0h24v24H0V0z\" fill=\"none\"/>\n",
              "    <path d=\"M18.56 5.44l.94 2.06.94-2.06 2.06-.94-2.06-.94-.94-2.06-.94 2.06-2.06.94zm-11 1L8.5 8.5l.94-2.06 2.06-.94-2.06-.94L8.5 2.5l-.94 2.06-2.06.94zm10 10l.94 2.06.94-2.06 2.06-.94-2.06-.94-.94-2.06-.94 2.06-2.06.94z\"/><path d=\"M17.41 7.96l-1.37-1.37c-.4-.4-.92-.59-1.43-.59-.52 0-1.04.2-1.43.59L10.3 9.45l-7.72 7.72c-.78.78-.78 2.05 0 2.83L4 21.41c.39.39.9.59 1.41.59.51 0 1.02-.2 1.41-.59l7.78-7.78 2.81-2.81c.8-.78.8-2.07 0-2.86zM5.41 20L4 18.59l7.72-7.72 1.47 1.35L5.41 20z\"/>\n",
              "  </svg>\n",
              "      </button>\n",
              "      \n",
              "  <style>\n",
              "    .colab-df-container {\n",
              "      display:flex;\n",
              "      flex-wrap:wrap;\n",
              "      gap: 12px;\n",
              "    }\n",
              "\n",
              "    .colab-df-convert {\n",
              "      background-color: #E8F0FE;\n",
              "      border: none;\n",
              "      border-radius: 50%;\n",
              "      cursor: pointer;\n",
              "      display: none;\n",
              "      fill: #1967D2;\n",
              "      height: 32px;\n",
              "      padding: 0 0 0 0;\n",
              "      width: 32px;\n",
              "    }\n",
              "\n",
              "    .colab-df-convert:hover {\n",
              "      background-color: #E2EBFA;\n",
              "      box-shadow: 0px 1px 2px rgba(60, 64, 67, 0.3), 0px 1px 3px 1px rgba(60, 64, 67, 0.15);\n",
              "      fill: #174EA6;\n",
              "    }\n",
              "\n",
              "    [theme=dark] .colab-df-convert {\n",
              "      background-color: #3B4455;\n",
              "      fill: #D2E3FC;\n",
              "    }\n",
              "\n",
              "    [theme=dark] .colab-df-convert:hover {\n",
              "      background-color: #434B5C;\n",
              "      box-shadow: 0px 1px 3px 1px rgba(0, 0, 0, 0.15);\n",
              "      filter: drop-shadow(0px 1px 2px rgba(0, 0, 0, 0.3));\n",
              "      fill: #FFFFFF;\n",
              "    }\n",
              "  </style>\n",
              "\n",
              "      <script>\n",
              "        const buttonEl =\n",
              "          document.querySelector('#df-fa5c1026-3428-4c2f-9f9e-784f6c779562 button.colab-df-convert');\n",
              "        buttonEl.style.display =\n",
              "          google.colab.kernel.accessAllowed ? 'block' : 'none';\n",
              "\n",
              "        async function convertToInteractive(key) {\n",
              "          const element = document.querySelector('#df-fa5c1026-3428-4c2f-9f9e-784f6c779562');\n",
              "          const dataTable =\n",
              "            await google.colab.kernel.invokeFunction('convertToInteractive',\n",
              "                                                     [key], {});\n",
              "          if (!dataTable) return;\n",
              "\n",
              "          const docLinkHtml = 'Like what you see? Visit the ' +\n",
              "            '<a target=\"_blank\" href=https://colab.research.google.com/notebooks/data_table.ipynb>data table notebook</a>'\n",
              "            + ' to learn more about interactive tables.';\n",
              "          element.innerHTML = '';\n",
              "          dataTable['output_type'] = 'display_data';\n",
              "          await google.colab.output.renderOutput(dataTable, element);\n",
              "          const docLink = document.createElement('div');\n",
              "          docLink.innerHTML = docLinkHtml;\n",
              "          element.appendChild(docLink);\n",
              "        }\n",
              "      </script>\n",
              "    </div>\n",
              "  </div>\n",
              "  "
            ]
          },
          "metadata": {},
          "execution_count": 84
        }
      ]
    },
    {
      "cell_type": "markdown",
      "source": [
        "# Preprocess features"
      ],
      "metadata": {
        "id": "0GhdsrKtTRw0"
      }
    },
    {
      "cell_type": "code",
      "source": [
        "len(monthly_df.columns)"
      ],
      "metadata": {
        "colab": {
          "base_uri": "https://localhost:8080/"
        },
        "id": "Iwivf7nJULIt",
        "outputId": "f86a9d7a-0b60-45b4-af39-6441625d2bc2"
      },
      "execution_count": 85,
      "outputs": [
        {
          "output_type": "execute_result",
          "data": {
            "text/plain": [
              "62"
            ]
          },
          "metadata": {},
          "execution_count": 85
        }
      ]
    },
    {
      "cell_type": "code",
      "source": [
        "# Features used for this analysis\n",
        "\n",
        "output_var = 'GPP_NT_VUT_REF'\n",
        "# other options\n",
        "output_related_var = ['NEE_VUT_REF', 'NEE_CUT_REF', 'GPP_NT_VUT_REF',\n",
        "                      'GPP_DT_VUT_REF', 'GPP_NT_CUT_REF','GPP_DT_CUT_REF',\n",
        "                      'RECO_NT_VUT_REF', 'RECO_DT_VUT_REF', \n",
        "                      'RECO_NT_CUT_REF', 'RECO_DT_CUT_REF']\n",
        "\n",
        "# predictor variables\n",
        "pred_var_numeric = ['TA_F', 'VPD_F', 'P_F', 'NETRAD','ET',\n",
        "                    'BESS-PAR', 'BESS-PARdiff','BESS-RSDN', \n",
        "                    'CSIF-SIFdaily', 'CSIF-SIFinst','PET', 'Ts', 'Tmean',\n",
        "                    'prcp', 'vpd', 'prcp-lag3', 'ESACCI-sm',\n",
        "                    'b1', 'b2', 'b3','b4', 'b5', 'b6', 'b7', \n",
        "                    'EVI', 'GCI', 'NDVI', 'NDWI', 'NIRv', 'kNDVI',\n",
        "                    'Percent_Snow', 'Fpar', 'Lai', 'LST_Day', 'LST_Night', \n",
        "                    'CO2_concentration', 'LOCATION_LAT', 'LOCATION_LONG',\n",
        "                    'year', 'month']\n",
        "\n",
        "pred_var_categorical = ['SITE_IGBP','MODIS_LC', 'MODIS_IGBP','MODIS_PFT', 'koppen_sub', 'koppen']\n",
        "\n",
        "other_var =  ['SITE_ID', 'TIMESTAMP', 'dataset', 'time']\n",
        "\n",
        "qc_flags = ['NEE_VUT_REF_QC', 'NEE_CUT_REF_QC'] \n",
        "\n",
        "NA_list = [] # There is no feature whose values is zero\n",
        "\n",
        "len(output_related_var + pred_var_numeric + pred_var_categorical \n",
        "    + other_var + qc_flags + NA_list)\n",
        "# output_var is included in output_related_var"
      ],
      "metadata": {
        "colab": {
          "base_uri": "https://localhost:8080/"
        },
        "id": "XPp1dA60TTRM",
        "outputId": "319a69db-afd6-4db2-962a-d9050f56e310"
      },
      "execution_count": 86,
      "outputs": [
        {
          "output_type": "execute_result",
          "data": {
            "text/plain": [
              "62"
            ]
          },
          "metadata": {},
          "execution_count": 86
        }
      ]
    },
    {
      "cell_type": "code",
      "source": [
        "feature_list = pred_var_numeric + pred_var_categorical"
      ],
      "metadata": {
        "id": "SOZrqhZKFa28"
      },
      "execution_count": 87,
      "outputs": []
    },
    {
      "cell_type": "markdown",
      "source": [
        "### Predictor variables(candidates)"
      ],
      "metadata": {
        "id": "sZ2IKT6GNZ50"
      }
    },
    {
      "cell_type": "markdown",
      "source": [
        "| feature_name      |                       source                       | definition                                                                                                                                                                              | var_type    |   |\n",
        "|-------------------|:--------------------------------------------------:|-----------------------------------------------------------------------------------------------------------------------------------------------------------------------------------------|-------------|---|\n",
        "| TA_F              | FLUXNET                                            | Air temperature, consolidated from TA_F_MDS and TA_ERA                                                                                                                                  | numeric     |   |\n",
        "| VPD_F             | FLUXNET                                            | Vapor Pressure Deficit consolidated from VPD_F_MDS and VPD_ERA                                                                                                                          | numeric     |   |\n",
        "| P_F               | FLUXNET                                            | Precipitation consolidated from P and P_ERA                                                                                                                                             | numeric     |   |\n",
        "| NETRAD            | FLUXNET                                            | Net radiation                                                                                                                                                                           | numeric     |   |\n",
        "| BESS-PAR          | BESS PAR                                           | Photosynthetic Active Radiation (PAR)                                                                                                                                                   | numeric     |   |\n",
        "| BESS-PARdiff      | BESS PAR                                           | Diffuse PAR                                                                                                                                                                             | numeric     |   |\n",
        "| BESS-RSDN         | BESS PAR                                           | Shortwave downwelling radiation                                                                                                                                                         | numeric     |   |\n",
        "| CSIF-SIFdaily     | CSIF                                               | All-sky daily average SIF                                                                                                                                                               | numeric     |   |\n",
        "| CSIF-SIFinst      | NA                                                 | NA                                                                                                                                                                                      | numeric     |   |\n",
        "| PET               | ERA5-Land                                          | Potential ET                                                                                                                                                                            | numeric     |   |\n",
        "| Ts                | ERA5-Land                                          | NA                                                                                                                                                                                      | numeric     |   |\n",
        "| Tmean             | ERA5-Land                                          | Air temperature                                                                                                                                                                         | numeric     |   |\n",
        "| prcp              | ERA5-Land                                          | Precipitation                                                                                                                                                                           | numeric     |   |\n",
        "| vpd               | ERA5-Land                                          | Vapor pressure deficit                                                                                                                                                                  | numeric     |   |\n",
        "| prcp-lag3         | ERA5-Land                                          | Precipitation 3-month lag                                                                                                                                                               | numeric     |   |\n",
        "| ESACCI-sm         | ERA5-Land                                          | Soil moisture                                                                                                                                                                           | numeric     |   |\n",
        "| MODIS_LC          | NA                                                 | MODIS land cover (MODIS LC)                                                                                                                                                             | categorical |   |\n",
        "| b1                | MCD43C4                                            | Surface reflectance Band 1                                                                                                                                                              | numeric     |   |\n",
        "| b2                | MCD43C4                                            | Surface reflectance Band 2 (nir)                                                                                                                                                        | numeric     |   |\n",
        "| b3                | MCD43C4                                            | Surface reflectance Band 3 (blue)                                                                                                                                                       | numeric     |   |\n",
        "| b4                | MCD43C4                                            | Surface reflectance Band 4 (green)                                                                                                                                                      | numeric     |   |\n",
        "| b5                | MCD43C4                                            | Surface reflectance Band 5 (SWIR1)                                                                                                                                                      | numeric     |   |\n",
        "| b6                | MCD43C4                                            | Surface reflectance Band 6 (SWIR2)                                                                                                                                                      | numeric     |   |\n",
        "| b7                | MCD43C4                                            | Surface reflectance Band 7 (SWIR3)                                                                                                                                                      | numeric     |   |\n",
        "| EVI               | MCD43C4                                            | Enhanced Vegetation Index (EVI)                                                                                                                                                         | numeric     |   |\n",
        "| GCI               | MCD43C4                                            | CIGreen c                                                                                                                                                                               | numeric     |   |\n",
        "| NDVI              | MCD43C4                                            | Normalized Difference Vegetation Index (NDVI)                                                                                                                                           | numeric     |   |\n",
        "| NDWI              | MCD43C4                                            | Normalized Different Water Index (NDWI) b                                                                                                                                               | numeric     |   |\n",
        "| NIRv              | MCD43C4                                            | NIRv d                                                                                                                                                                                  | numeric     |   |\n",
        "| kNDVI             | MCD43C4                                            | kNDVI a                                                                                                                                                                                 | numeric     |   |\n",
        "| Percent_Snow      | MCD43C4                                            | Percentage of snow cover                                                                                                                                                                | numeric     |   |\n",
        "| Fpar              | MCD15A3H (after 2002/07) MOD15A2H (before 2002/07) | Fraction of photosynthetically active radiation (fPAR)                                                                                                                                  | numeric     |   |\n",
        "| Lai               | MCD15A3H (after 2002/07) MOD15A2H (before 2002/07) | Surface reflectance Band 7 (SWIR3)                                                                                                                                                      | numeric     |   |\n",
        "| LST_Day           | MYD11A1 (after 2002/07) MOD11A1 (before 2002/07)   | Daytime land surface temperature                                                                                                                                                        | numeric     |   |\n",
        "| LST_Night         | MYD11A1 (after 2002/07) MOD11A1 (before 2002/07)   | Nighttime land surface temperature                                                                                                                                                      | numeric     |   |\n",
        "| MODIS_IGBP        | NA                                                 | NA                                                                                                                                                                                      | categorical |   |\n",
        "| MODIS_PFT         | NA                                                 | NA                                                                                                                                                                                      | categorical |   |\n",
        "| koppen_sub        | NA                                                 | NA                                                                                                                                                                                      | categorical |   |\n",
        "| koppen            | Koppen-Geiger                                      | Climate zone (one-hot encoding)                                                                                                                                                         | categorical |   |\n",
        "| CO2_concentration | ESLR                                               | Atmospheric CO2 concentration                                                                                                                                                           | numeric     |   |"
      ],
      "metadata": {
        "id": "hXytnvnWNZ50"
      }
    },
    {
      "cell_type": "code",
      "source": [],
      "metadata": {
        "id": "0GVKML5YMANS"
      },
      "execution_count": 87,
      "outputs": []
    },
    {
      "cell_type": "code",
      "source": [
        "# Check if all the features are included in one of the four\n",
        "total = output_related_var + pred_var_numeric + pred_var_categorical + other_var + qc_flags + NA_list\n",
        "for i in monthly_df.columns:\n",
        "  if i not in total:\n",
        "    print(i)"
      ],
      "metadata": {
        "id": "SffVQNUWNdyb"
      },
      "execution_count": 88,
      "outputs": []
    },
    {
      "cell_type": "markdown",
      "source": [
        "## Add hemisphere to the df"
      ],
      "metadata": {
        "id": "BxY-sr5-CNNO"
      }
    },
    {
      "cell_type": "code",
      "source": [
        "def assign_hemisphere(x):\n",
        "  if x >= 0:\n",
        "    return \"N\"\n",
        "  elif x < 0:\n",
        "    return \"S\"\n",
        "\n",
        "monthly_df[\"hemisphere\"] = monthly_df[\"LOCATION_LAT\"].apply(lambda x: assign_hemisphere(x))"
      ],
      "metadata": {
        "id": "ZJz3EP_rBkfr"
      },
      "execution_count": 89,
      "outputs": []
    },
    {
      "cell_type": "markdown",
      "source": [
        "---\n",
        "*Following process use only Spark(N0 PANDAS)*"
      ],
      "metadata": {
        "id": "qI0EP8ooYQWb"
      }
    },
    {
      "cell_type": "markdown",
      "source": [
        "# Use parquet -> Spark df as preparation for global data"
      ],
      "metadata": {
        "id": "q4kQt1rwd9aB"
      }
    },
    {
      "cell_type": "markdown",
      "source": [
        "## DF to Parquet format\n",
        "- Pandas is converted to parquet in order to make the following code usable with global data in AWS"
      ],
      "metadata": {
        "id": "d8rrnNxPXdko"
      }
    },
    {
      "cell_type": "code",
      "source": [
        "type(monthly_df)"
      ],
      "metadata": {
        "colab": {
          "base_uri": "https://localhost:8080/"
        },
        "id": "Xd0tP_T6bNsg",
        "outputId": "8c067189-edc6-4892-ba17-a04f0ab996f4"
      },
      "execution_count": 90,
      "outputs": [
        {
          "output_type": "execute_result",
          "data": {
            "text/plain": [
              "pandas.core.frame.DataFrame"
            ]
          },
          "metadata": {},
          "execution_count": 90
        }
      ]
    },
    {
      "cell_type": "markdown",
      "source": [
        "### Method 1"
      ],
      "metadata": {
        "id": "Qb9AtztzeKd9"
      }
    },
    {
      "cell_type": "code",
      "source": [
        "!pip install fastparquet"
      ],
      "metadata": {
        "colab": {
          "base_uri": "https://localhost:8080/",
          "height": 399
        },
        "id": "2AYJCcKCbcsD",
        "outputId": "48adb36b-f29d-4b43-cfbd-de15c19db42a"
      },
      "execution_count": 91,
      "outputs": [
        {
          "output_type": "stream",
          "name": "stdout",
          "text": [
            "Looking in indexes: https://pypi.org/simple, https://us-python.pkg.dev/colab-wheels/public/simple/\n",
            "Requirement already satisfied: fastparquet in /usr/local/lib/python3.8/dist-packages (2023.1.0)\n",
            "Requirement already satisfied: cramjam>=2.3 in /usr/local/lib/python3.8/dist-packages (from fastparquet) (2.6.2)\n",
            "Requirement already satisfied: fsspec in /usr/local/lib/python3.8/dist-packages (from fastparquet) (2023.1.0)\n",
            "Requirement already satisfied: numpy>=1.20.3 in /usr/local/lib/python3.8/dist-packages (from fastparquet) (1.21.6)\n",
            "Requirement already satisfied: packaging in /usr/local/lib/python3.8/dist-packages (from fastparquet) (23.0)\n",
            "Collecting pandas>=1.5.0\n",
            "  Using cached pandas-1.5.3-cp38-cp38-manylinux_2_17_x86_64.manylinux2014_x86_64.whl (12.2 MB)\n",
            "Requirement already satisfied: pytz>=2020.1 in /usr/local/lib/python3.8/dist-packages (from pandas>=1.5.0->fastparquet) (2022.7.1)\n",
            "Requirement already satisfied: python-dateutil>=2.8.1 in /usr/local/lib/python3.8/dist-packages (from pandas>=1.5.0->fastparquet) (2.8.2)\n",
            "Requirement already satisfied: six>=1.5 in /usr/local/lib/python3.8/dist-packages (from python-dateutil>=2.8.1->pandas>=1.5.0->fastparquet) (1.15.0)\n",
            "Installing collected packages: pandas\n",
            "  Attempting uninstall: pandas\n",
            "    Found existing installation: pandas 1.3.0\n",
            "    Uninstalling pandas-1.3.0:\n",
            "      Successfully uninstalled pandas-1.3.0\n",
            "Successfully installed pandas-1.5.3\n"
          ]
        },
        {
          "output_type": "display_data",
          "data": {
            "application/vnd.colab-display-data+json": {
              "pip_warning": {
                "packages": [
                  "pandas"
                ]
              }
            }
          },
          "metadata": {}
        }
      ]
    },
    {
      "cell_type": "code",
      "source": [
        "monthly_df.to_parquet('monthly_df_pq', engine='fastparquet')"
      ],
      "metadata": {
        "id": "Oa8fI0_xdN1a"
      },
      "execution_count": 92,
      "outputs": []
    },
    {
      "cell_type": "markdown",
      "source": [
        "### Method 2"
      ],
      "metadata": {
        "id": "kFelfgXQeNpG"
      }
    },
    {
      "cell_type": "code",
      "source": [
        "# Convert df to parquet\n",
        "import pyarrow as pa\n",
        "import pyarrow.parquet as pq\n",
        "\n",
        "# Convert DataFrame to Apache Arrow Table\n",
        "table = pa.Table.from_pandas(monthly_df)\n",
        "# Second, write the table into parquet file say file_name.parquet\n",
        "# Parquet with Brotli compression\n",
        "pq.write_table(table, 'monthly_df_pq.parquet')"
      ],
      "metadata": {
        "id": "3Ted6TVhXi4h"
      },
      "execution_count": 93,
      "outputs": []
    },
    {
      "cell_type": "markdown",
      "source": [
        "## parquet to Spark df "
      ],
      "metadata": {
        "id": "p2salxn1eiE1"
      }
    },
    {
      "cell_type": "code",
      "source": [
        "# Parquet is read from \n",
        "# When running Spark in AWS through the access to Azure, update the location and file name \n",
        "monthly_sdf = spark.read.parquet('monthly_df_pq')"
      ],
      "metadata": {
        "id": "3rJHcmg0YoBq"
      },
      "execution_count": 94,
      "outputs": []
    },
    {
      "cell_type": "code",
      "source": [
        "monthly_sdf.printSchema()"
      ],
      "metadata": {
        "colab": {
          "base_uri": "https://localhost:8080/"
        },
        "id": "HJW15CSPwSA4",
        "outputId": "592082c3-b3b3-41e7-fc61-c0b93528e275"
      },
      "execution_count": 95,
      "outputs": [
        {
          "output_type": "stream",
          "name": "stdout",
          "text": [
            "root\n",
            " |-- SITE_ID: string (nullable = true)\n",
            " |-- year: long (nullable = true)\n",
            " |-- month: long (nullable = true)\n",
            " |-- TIMESTAMP: long (nullable = true)\n",
            " |-- dataset: string (nullable = true)\n",
            " |-- SITE_IGBP: string (nullable = true)\n",
            " |-- LOCATION_LAT: double (nullable = true)\n",
            " |-- LOCATION_LONG: double (nullable = true)\n",
            " |-- TA_F: double (nullable = true)\n",
            " |-- VPD_F: double (nullable = true)\n",
            " |-- P_F: double (nullable = true)\n",
            " |-- NETRAD: double (nullable = true)\n",
            " |-- NEE_VUT_REF: double (nullable = true)\n",
            " |-- NEE_VUT_REF_QC: double (nullable = true)\n",
            " |-- NEE_CUT_REF: double (nullable = true)\n",
            " |-- NEE_CUT_REF_QC: double (nullable = true)\n",
            " |-- GPP_NT_VUT_REF: double (nullable = true)\n",
            " |-- GPP_DT_VUT_REF: double (nullable = true)\n",
            " |-- GPP_NT_CUT_REF: double (nullable = true)\n",
            " |-- GPP_DT_CUT_REF: double (nullable = true)\n",
            " |-- RECO_NT_VUT_REF: double (nullable = true)\n",
            " |-- RECO_DT_VUT_REF: double (nullable = true)\n",
            " |-- RECO_NT_CUT_REF: double (nullable = true)\n",
            " |-- RECO_DT_CUT_REF: double (nullable = true)\n",
            " |-- time: string (nullable = true)\n",
            " |-- ET: double (nullable = true)\n",
            " |-- BESS-PAR: long (nullable = true)\n",
            " |-- BESS-PARdiff: long (nullable = true)\n",
            " |-- BESS-RSDN: long (nullable = true)\n",
            " |-- CSIF-SIFdaily: double (nullable = true)\n",
            " |-- CSIF-SIFinst: double (nullable = true)\n",
            " |-- PET: double (nullable = true)\n",
            " |-- Ts: double (nullable = true)\n",
            " |-- Tmean: double (nullable = true)\n",
            " |-- prcp: double (nullable = true)\n",
            " |-- vpd: double (nullable = true)\n",
            " |-- prcp-lag3: double (nullable = true)\n",
            " |-- ESACCI-sm: double (nullable = true)\n",
            " |-- MODIS_LC: long (nullable = true)\n",
            " |-- b1: double (nullable = true)\n",
            " |-- b2: double (nullable = true)\n",
            " |-- b3: double (nullable = true)\n",
            " |-- b4: double (nullable = true)\n",
            " |-- b5: double (nullable = true)\n",
            " |-- b6: double (nullable = true)\n",
            " |-- b7: double (nullable = true)\n",
            " |-- EVI: double (nullable = true)\n",
            " |-- GCI: double (nullable = true)\n",
            " |-- NDVI: double (nullable = true)\n",
            " |-- NDWI: double (nullable = true)\n",
            " |-- NIRv: double (nullable = true)\n",
            " |-- kNDVI: double (nullable = true)\n",
            " |-- Percent_Snow: double (nullable = true)\n",
            " |-- Fpar: double (nullable = true)\n",
            " |-- Lai: double (nullable = true)\n",
            " |-- LST_Day: double (nullable = true)\n",
            " |-- LST_Night: double (nullable = true)\n",
            " |-- MODIS_IGBP: string (nullable = true)\n",
            " |-- MODIS_PFT: string (nullable = true)\n",
            " |-- koppen_sub: string (nullable = true)\n",
            " |-- koppen: string (nullable = true)\n",
            " |-- CO2_concentration: double (nullable = true)\n",
            " |-- hemisphere: string (nullable = true)\n",
            "\n"
          ]
        }
      ]
    },
    {
      "cell_type": "code",
      "source": [
        "monthly_sdf.show(truncate=False)"
      ],
      "metadata": {
        "colab": {
          "base_uri": "https://localhost:8080/"
        },
        "id": "Bp0VRw4iwVCJ",
        "outputId": "7fdf3673-b0b0-4c40-eabd-8d84b5471ec0"
      },
      "execution_count": 96,
      "outputs": [
        {
          "output_type": "stream",
          "name": "stdout",
          "text": [
            "+-------+----+-----+---------+-------+---------+------------+-------------+------+------+-----+-----------+-----------+--------------+-----------+--------------+--------------+--------------+--------------+--------------+---------------+---------------+---------------+---------------+--------+---------+--------+------------+---------+-------------+------------+------------+---------+---------+-----------+----------+-----------+----------+--------+-----------+----------+-----------+-----------+----------+----------+-----------+----------+---------+----------+------------+-----------+----------+------------+----+---+-------+---------+----------+---------+----------+---------+-----------------+----------+\n",
            "|SITE_ID|year|month|TIMESTAMP|dataset|SITE_IGBP|LOCATION_LAT|LOCATION_LONG|TA_F  |VPD_F |P_F  |NETRAD     |NEE_VUT_REF|NEE_VUT_REF_QC|NEE_CUT_REF|NEE_CUT_REF_QC|GPP_NT_VUT_REF|GPP_DT_VUT_REF|GPP_NT_CUT_REF|GPP_DT_CUT_REF|RECO_NT_VUT_REF|RECO_DT_VUT_REF|RECO_NT_CUT_REF|RECO_DT_CUT_REF|time    |ET       |BESS-PAR|BESS-PARdiff|BESS-RSDN|CSIF-SIFdaily|CSIF-SIFinst|PET         |Ts       |Tmean    |prcp       |vpd       |prcp-lag3  |ESACCI-sm |MODIS_LC|b1         |b2        |b3         |b4         |b5        |b6        |b7         |EVI       |GCI      |NDVI      |NDWI        |NIRv       |kNDVI     |Percent_Snow|Fpar|Lai|LST_Day|LST_Night|MODIS_IGBP|MODIS_PFT|koppen_sub|koppen   |CO2_concentration|hemisphere|\n",
            "+-------+----+-----+---------+-------+---------+------------+-------------+------+------+-----+-----------+-----------+--------------+-----------+--------------+--------------+--------------+--------------+--------------+---------------+---------------+---------------+---------------+--------+---------+--------+------------+---------+-------------+------------+------------+---------+---------+-----------+----------+-----------+----------+--------+-----------+----------+-----------+-----------+----------+----------+-----------+----------+---------+----------+------------+-----------+----------+------------+----+---+-------+---------+----------+---------+----------+---------+-----------------+----------+\n",
            "|AR-SLu |2010|1    |201001   |FLUXNET|MF       |-33.4648    |-66.4598     |28.493|23.378|0.903|188.598814 |-5.63278   |0.944892      |-5.6277    |0.948253      |10.2095       |11.9133       |10.089        |11.9232       |4.46072        |7.03163        |4.45634        |7.06081        |1/31/10 |9.01454  |154     |40          |336      |0.20432499   |0.51662683  |-0.013386652|302.46967|300.10977|0.002115019|2.06618   |0.008738702|0.15152083|7       |0.0844258  |0.26877418|0.045316122|0.08052903 |0.30057743|0.2505258 |0.15535806 |0.32125923|2.3492026|0.5227052 |0.035415366 |0.14050612 |0.26745087|0.0         |0.49|1.2|313.84 |293.58   |OSH       |SH       |BSk       |Arid     |387.11           |S         |\n",
            "|AR-SLu |2010|2    |201002   |FLUXNET|MF       |-33.4648    |-66.4598     |26.673|14.369|1.986|144.2162024|-4.47433   |0.969494      |-4.45358   |0.970982      |8.16307       |9.97563       |8.09051       |10.1663       |3.62522        |5.68557        |3.6153         |6.02964        |2/28/10 |7.6779733|120     |46          |258      |0.1455303    |0.38726252  |-0.008937791|298.78864|297.27515|0.003131761|1.0901145 |0.009724296|0.16655783|7       |0.0918     |0.2524464 |0.04803214 |0.08092143 |0.29244998|0.25221428|0.15945713 |0.27830008|2.1216552|0.46684337|4.00779E-4  |0.11781442 |0.21459042|0.0         |0.43|0.9|309.86 |292.96   |OSH       |SH       |BSk       |Arid     |387.675          |S         |\n",
            "|AR-SLu |2010|3    |201003   |FLUXNET|MF       |-33.4648    |-66.4598     |25.744|15.167|0.371|125.6431374|-3.89288   |0.938844      |-3.88405   |0.938844      |7.06222       |9.00824       |7.07681       |9.00492       |3.18909        |6.51721        |3.18613        |6.61985        |3/31/10 |5.890317 |107     |31          |231      |0.10980482   |0.30724174  |-0.008132122|297.54816|296.4367 |0.002206154|1.1686398 |0.007452934|0.16407675|7       |0.08556129 |0.23039998|0.04453871 |0.074638695|0.26943222|0.24116449|0.1536387  |0.25689518|2.0874314|0.45834532|-0.022856813|0.10565167 |0.20721813|0.0         |0.41|0.8|309.18 |290.52   |OSH       |SH       |BSk       |Arid     |388.195          |S         |\n",
            "|AR-SLu |2010|4    |201004   |FLUXNET|MF       |-33.4648    |-66.4598     |18.45 |9.185 |0.1  |71.50069342|-3.11159   |0.9625        |-3.10705   |0.9625        |5.72781       |6.54333       |5.6526        |6.6073        |2.55268        |4.14082        |2.54582        |4.04346        |4/30/10 |2.3456645|81      |27          |175      |0.076728895  |0.22387202  |-0.00675834 |291.69604|290.61377|2.09161E-4 |0.9461956 |0.005547076|0.12401654|7       |0.08740333 |0.21581332|0.0453     |0.074543335|0.26009   |0.23482999|0.14688666 |0.22921446|1.8959624|0.42358848|-0.042024087|0.09139932 |0.17754844|0.0         |0.36|0.5|303.24 |286.34   |OSH       |SH       |BSk       |Arid     |388.905          |S         |\n",
            "|AR-SLu |2010|5    |201005   |FLUXNET|MF       |-33.4648    |-66.4598     |13.493|5.823 |1.852|41.24914909|-1.71633   |0.895833      |-1.55985   |0.913978      |3.47763       |4.15484       |3.56473       |4.16886       |1.78421        |3.35165        |1.84822        |3.54627        |5/31/10 |2.2079997|56      |19          |122      |0.066020064  |0.20063505  |-0.004725121|287.05652|286.8832 |8.41617E-4 |0.7162909 |0.003256932|0.14272605|7       |0.076190315|0.19819355|0.03887419 |0.06480969 |0.23148388|0.20281611|0.124199994|0.22352917|2.0611055|0.4453674 |-0.010640754|0.08814689 |0.19591969|0.0         |0.37|0.5|296.2  |277.82   |OSH       |SH       |BSk       |Arid     |389.32           |S         |\n",
            "|AR-SLu |2010|6    |201006   |FLUXNET|MF       |-33.4648    |-66.4598     |11.273|5.219 |0.03 |30.2579338 |-0.156183  |0.94375       |-0.105029  |0.926389      |2.77385       |3.77937       |2.97199       |3.69195       |2.86141        |3.07628        |2.83905        |3.19315        |6/30/10 |1.7267979|48      |15          |105      |0.055993885  |0.17740785  |-0.003966339|284.32104|284.76154|2.66855E-4 |0.57913876|0.001317633|0.15315518|7       |0.071046665|0.17955999|0.038123343|0.06306333 |0.21496001|0.19131334|0.12397998 |0.20550561|1.8486056|0.4330553 |-0.0314929  |0.07776146 |0.1854466 |0.0         |0.33|0.4|293.18 |276.8    |OSH       |SH       |BSk       |Arid     |389.16           |S         |\n",
            "|AR-SLu |2010|7    |201007   |FLUXNET|MF       |-33.4648    |-66.4598     |8.131 |4.949 |0.003|46.75980628|-1.64934   |0.964382      |-1.6375    |0.966398      |3.74133       |4.96256       |3.88709       |4.70483       |2.16416        |3.1695         |2.23946        |2.74352        |7/31/10 |1.7385347|58      |15          |129      |0.044577617  |0.14184037  |-0.004890211|282.39343|282.44458|6.62E-5    |0.6524327 |0.00117464 |0.11506776|7       |0.07951935 |0.17683226|0.042067744|0.06696773 |0.21454516|0.2047129 |0.13839355 |0.18182558|1.6429125|0.3800115 |-0.07298639 |0.067186974|0.14383936|0.0         |0.32|0.4|292.12 |271.64   |OSH       |SH       |BSk       |Arid     |388.495          |S         |\n",
            "|AR-SLu |2010|8    |201008   |FLUXNET|MF       |-33.4648    |-66.4598     |12.124|7.232 |0.148|55.41014468|-2.23663   |0.978495      |-2.22838   |0.978495      |4.9923        |4.62644       |4.95418       |4.64296       |2.7185         |2.09411        |2.71076        |2.00605        |8/31/10 |1.7703171|72      |23          |158      |0.03940548   |0.118864134 |-0.006607018|285.98975|285.50317|3.56059E-4 |0.8266134 |6.89082E-4 |0.12942678|7       |0.09146129 |0.18079355|0.048974194|0.075180635|0.22952907|0.23047417|0.1616032  |0.16395012|1.4065467|0.3283708 |-0.12023627 |0.05933451 |0.10749994|0.0         |0.26|0.3|298.98 |276.72   |OSH       |SH       |BSk       |Arid     |387.915          |S         |\n",
            "|AR-SLu |2010|9    |201009   |FLUXNET|MF       |-33.4648    |-66.4598     |16.113|9.808 |1.283|86.53253167|-2.95153   |0.963889      |-2.95475   |0.964583      |6.2686        |6.19395       |6.08643       |6.33314       |3.13943        |2.84475        |3.13342        |3.08513        |9/30/10 |2.7933466|92      |30          |202      |0.043048184  |0.118709184 |-0.007369228|289.56998|288.48505|0.002409217|0.89762795|0.002831445|0.14007734|7       |0.101566665|0.1950833 |0.05354333 |0.08152667 |0.25225836|0.2574    |0.18707831 |0.16664456|1.3936689|0.3154251 |-0.13769455 |0.061513435|0.09918764|0.0         |0.25|0.4|303.02 |281.76   |OSH       |SH       |BSk       |Arid     |387.31           |S         |\n",
            "|AR-SLu |2010|10   |201010   |FLUXNET|MF       |-33.4648    |-66.4598     |19.115|12.24 |2.671|139.2401875|-3.73166   |0.953629      |-3.73326   |0.959677      |7.98788       |8.25182       |7.96167       |8.14738       |4.20854        |4.47926        |4.21798        |4.50649        |10/31/10|4.8010826|124     |35          |271      |0.076557115  |0.19472006  |-0.009151526|292.5633 |291.09125|0.002530932|1.0285672 |0.005296208|0.16722338|7       |0.10122257 |0.21530966|0.05306129 |0.0860129  |0.26885805|0.26544514|0.18909998 |0.19995353|1.5004112|0.3590074 |-0.10536736 |0.077747405|0.1290034 |0.0         |0.32|0.6|305.08 |283.92   |OSH       |SH       |BSk       |Arid     |387.55           |S         |\n",
            "|AR-SLu |2010|11   |201011   |FLUXNET|MF       |-33.4648    |-66.4598     |22.858|16.296|0.81 |173.9497797|-6.00411   |0.968056      |-5.96293   |0.970139      |10.4461       |10.7219       |10.2667       |10.7466       |4.35485        |4.69055        |4.26435        |4.7534         |11/30/10|5.8108234|147     |39          |322      |0.10822074   |0.26523668  |-0.01190903 |298.02554|295.46375|0.001110932|1.6364233 |0.006051082|0.14072989|7       |0.10894999 |0.24585332|0.05752999 |0.094583325|0.29778334|0.2814067 |0.19225997 |0.2331288 |1.5993953|0.38592288|-0.06737776 |0.09486858 |0.14786734|0.0         |0.38|0.8|311.82 |288.0    |OSH       |SH       |BSk       |Arid     |388.235          |S         |\n",
            "|AR-SLu |2010|12   |201012   |FLUXNET|MF       |-33.4648    |-66.4598     |26.557|23.211|1.452|189.600544 |-6.22158   |0.956989      |-6.21564   |0.956989      |10.0834       |10.7608       |9.96545       |10.8208       |3.69831        |4.30853        |3.74785        |4.52984        |12/31/10|5.165505 |157     |38          |344      |0.09730604   |0.23855111  |-0.014495663|303.0575 |299.54413|7.41054E-4 |2.4140742 |0.004382919|0.14455558|7       |0.11138387 |0.24245161|0.05899677 |0.09506773 |0.29779354|0.2889032 |0.20476452 |0.22321212|1.5519823|0.3706127 |-0.08736732 |0.08984783 |0.1366967 |0.0         |0.35|0.7|316.2  |291.4    |OSH       |SH       |BSk       |Arid     |388.75           |S         |\n",
            "|AR-SLu |2011|1    |201101   |FLUXNET|MF       |-33.4648    |-66.4598     |27.239|21.737|1.781|190.2704653|-5.62916   |0.97043       |-5.5918    |0.971102      |9.95023       |9.98886       |9.90669       |9.97312       |4.19784        |4.28543        |4.27695        |4.46998        |1/31/11 |6.1932206|153     |42          |333      |0.12373857   |0.31333244  |-0.012760364|302.67914|299.5474 |0.001429977|2.0071137 |0.003281964|0.15524794|7       |0.10064516 |0.24518067|0.053629037|0.08890967 |0.29109034|0.27508062|0.19180645 |null      |1.7582431|0.41798103|-0.05742977 |0.102479674|0.17299215|0.0         |0.39|0.8|314.56 |292.3    |OSH       |SH       |BSk       |Arid     |389.455          |S         |\n",
            "|AR-SLu |2011|2    |201102   |FLUXNET|MF       |-33.4648    |-66.4598     |24.676|13.273|4.371|145.1982054|-3.64368   |0.971726      |-3.64232   |0.971726      |8.66459       |8.86797       |8.52244       |8.92443       |4.83586        |5.36477        |4.87135        |5.47074        |2/28/11 |7.8748693|123     |40          |266      |0.17441228   |0.4654631   |-0.009652332|298.49115|296.5979 |0.002758195|1.2130871 |0.004929227|0.18353738|7       |0.081742845|0.252475  |0.04369643 |0.07734285 |0.2839964 |0.24476786|0.15957141 |null      |2.2768667|0.510615  |0.015588671 |0.12931086 |0.25635305|0.0         |0.46|1.0|308.54 |290.96   |OSH       |SH       |BSk       |Arid     |389.62           |S         |\n",
            "|AR-SLu |2011|3    |201103   |FLUXNET|MF       |-33.4648    |-66.4598     |22.803|13.125|0.917|132.1403313|-4.17179   |0.879032      |-4.185     |0.879032      |7.77495       |8.72651       |7.72134       |8.78207       |3.57939        |4.76949        |3.55101        |4.99179        |3/31/11 |5.544605 |114     |34          |247      |0.18305057   |0.51245916  |-0.009239569|297.05414|295.21234|0.001028448|1.3498559 |0.00521662 |0.1653738 |7       |0.07069355 |0.25382254|0.038200002|0.069503225|0.27669033|0.2262548 |0.13779354 |null      |2.6520312|0.56414115|0.057314258 |0.14325434 |0.30799147|0.0         |0.52|1.1|307.88 |290.2    |OSH       |SH       |BSk       |Arid     |389.935          |S         |\n",
            "|AR-Vir |2010|3    |201003   |FLUXNET|ENF      |-28.2395    |-56.1886     |25.883|11.893|6.909|140.3802855|-0.49812   |0.767473      |-0.665995  |0.801075      |16.6069       |6.6422        |17.036        |6.64483       |16.2328        |3.19388        |15.8946        |3.18194        |3/31/10 |7.0882072|117     |36          |250      |0.35580766   |1.0070577   |-0.00634148 |297.72784|297.6535 |0.003653176|0.7823387 |0.015916646|0.32501653|9       |0.039254833|0.32290646|0.019277416|0.05246451 |0.3135387 |0.17214517|0.067348376|0.50148696|5.1558065|0.7831489 |0.30432472  |0.25290942 |0.54645747|0.0         |0.78|3.5|302.72 |292.26   |SAV       |SA       |Cfa       |Temperate|388.195          |S         |\n",
            "|AR-Vir |2010|4    |201004   |FLUXNET|ENF      |-28.2395    |-56.1886     |21.085|9.315 |4.921|87.98953764|-0.721542  |0.800694      |-0.818759  |0.815972      |11.6896       |5.85185       |11.5751       |5.85471       |10.5381        |2.23559        |10.97          |2.22723        |4/30/10 |4.957915 |80      |29          |172      |0.2839798    |0.829127    |-0.005368337|293.50464|293.65088|0.003299312|0.6776179 |0.011770017|0.32063323|9       |0.040218335|0.29168501|0.020366669|0.04804333 |0.291545  |0.16847333|0.065976664|0.45521393|5.070083 |0.75729454|0.2673957   |0.22097366 |0.51789534|0.0         |0.73|2.8|298.5  |287.4    |SAV       |SA       |Cfa       |Temperate|388.905          |S         |\n",
            "|AR-Vir |2010|10   |201010   |FLUXNET|ENF      |-28.2395    |-56.1886     |20.053|6.849 |3.709|140.7111408|-3.10334   |0.803763      |-3.09976   |0.825941      |12.578        |7.94774       |12.6637       |7.95203       |9.48922        |2.0219         |9.47568        |2.01435        |10/31/10|8.240307 |119     |41          |260      |0.25308308   |0.65763813  |-0.006693386|292.3426 |292.14008|0.00380671 |0.65856665|0.01381997 |0.37036404|9       |0.04885806 |0.25399998|0.023638709|0.054706447|0.27477098|0.19271934|0.0966129  |0.37418348|3.6415005|0.6769556 |0.13657345  |0.17206027 |0.4286881 |0.0         |0.64|2.4|301.3  |285.58   |SAV       |SA       |Cfa       |Temperate|387.55           |S         |\n",
            "|AR-Vir |2010|11   |201011   |FLUXNET|ENF      |-28.2395    |-56.1886     |22.824|11.504|3.075|176.6007384|-0.872656  |0.865972      |-0.830538  |0.879861      |13.011        |8.68659       |13.3672       |8.71749       |12.3491        |3.56659        |12.0029        |4.91722        |11/30/10|9.541467 |143     |40          |313      |0.31803423   |0.7991435   |-0.009438761|296.23062|295.66296|9.31888E-4 |1.2130878 |0.014042678|0.30845198|9       |0.057359993|0.29386336|0.027753327|0.06541999 |0.31567   |0.21955997|0.111049995|0.41336912|3.4938533|0.6734622 |0.14476806  |0.19788575 |0.42482123|0.0         |0.67|2.8|304.5  |287.16   |SAV       |SA       |Cfa       |Temperate|388.235          |S         |\n",
            "|AR-Vir |2010|12   |201012   |FLUXNET|ENF      |-28.2395    |-56.1886     |26.039|13.026|5.026|170.025408 |1.4548     |0.942204      |1.47385    |0.950269      |15.5007       |10.0669       |15.6382       |10.0271       |17.2649        |6.83542        |17.2882        |6.80517        |12/31/10|8.843316 |132     |48          |282      |0.3697338    |0.93288314  |-0.007714525|298.17078|297.97382|0.007306484|0.91176283|0.012045081|0.34871957|9       |0.05444839 |0.31505162|0.026561288|0.06672258 |0.32610002|0.21619034|0.10154516 |0.4514909 |3.720321 |0.70482177|0.18570562  |0.2222497  |0.4595932 |0.0         |0.7 |3.2|306.02 |291.66   |SAV       |SA       |Cfa       |Temperate|388.75           |S         |\n",
            "+-------+----+-----+---------+-------+---------+------------+-------------+------+------+-----+-----------+-----------+--------------+-----------+--------------+--------------+--------------+--------------+--------------+---------------+---------------+---------------+---------------+--------+---------+--------+------------+---------+-------------+------------+------------+---------+---------+-----------+----------+-----------+----------+--------+-----------+----------+-----------+-----------+----------+----------+-----------+----------+---------+----------+------------+-----------+----------+------------+----+---+-------+---------+----------+---------+----------+---------+-----------------+----------+\n",
            "only showing top 20 rows\n",
            "\n"
          ]
        }
      ]
    },
    {
      "cell_type": "code",
      "source": [
        "display(monthly_sdf)"
      ],
      "metadata": {
        "colab": {
          "base_uri": "https://localhost:8080/",
          "height": 121
        },
        "id": "xd7yYPgGZLqB",
        "outputId": "bf763fb5-3bde-4e20-bc52-19fa8bd310e7"
      },
      "execution_count": 97,
      "outputs": [
        {
          "output_type": "display_data",
          "data": {
            "text/plain": [
              "DataFrame[SITE_ID: string, year: bigint, month: bigint, TIMESTAMP: bigint, dataset: string, SITE_IGBP: string, LOCATION_LAT: double, LOCATION_LONG: double, TA_F: double, VPD_F: double, P_F: double, NETRAD: double, NEE_VUT_REF: double, NEE_VUT_REF_QC: double, NEE_CUT_REF: double, NEE_CUT_REF_QC: double, GPP_NT_VUT_REF: double, GPP_DT_VUT_REF: double, GPP_NT_CUT_REF: double, GPP_DT_CUT_REF: double, RECO_NT_VUT_REF: double, RECO_DT_VUT_REF: double, RECO_NT_CUT_REF: double, RECO_DT_CUT_REF: double, time: string, ET: double, BESS-PAR: bigint, BESS-PARdiff: bigint, BESS-RSDN: bigint, CSIF-SIFdaily: double, CSIF-SIFinst: double, PET: double, Ts: double, Tmean: double, prcp: double, vpd: double, prcp-lag3: double, ESACCI-sm: double, MODIS_LC: bigint, b1: double, b2: double, b3: double, b4: double, b5: double, b6: double, b7: double, EVI: double, GCI: double, NDVI: double, NDWI: double, NIRv: double, kNDVI: double, Percent_Snow: double, Fpar: double, Lai: double, LST_Day: double, LST_Night: double, MODIS_IGBP: string, MODIS_PFT: string, koppen_sub: string, koppen: string, CO2_concentration: double, hemisphere: string]"
            ]
          },
          "metadata": {}
        }
      ]
    },
    {
      "cell_type": "code",
      "source": [
        "# size of dataset\n",
        "print(f'monthly_sdf: {monthly_sdf.count()}')"
      ],
      "metadata": {
        "colab": {
          "base_uri": "https://localhost:8080/"
        },
        "id": "1QT8U8qYlpbb",
        "outputId": "65bcc6a1-ca6b-4dc6-a311-46d23b85eef8"
      },
      "execution_count": 98,
      "outputs": [
        {
          "output_type": "stream",
          "name": "stdout",
          "text": [
            "monthly_sdf: 19015\n"
          ]
        }
      ]
    },
    {
      "cell_type": "code",
      "source": [
        "print(type(monthly_sdf))"
      ],
      "metadata": {
        "colab": {
          "base_uri": "https://localhost:8080/"
        },
        "id": "ClKIUI0Ddum-",
        "outputId": "f8944f25-f5f6-4621-8a71-ab064bf964e5"
      },
      "execution_count": 99,
      "outputs": [
        {
          "output_type": "stream",
          "name": "stdout",
          "text": [
            "<class 'pyspark.sql.dataframe.DataFrame'>\n"
          ]
        }
      ]
    },
    {
      "cell_type": "code",
      "source": [
        "# Features used for this analysis\n",
        "\n",
        "output_var = 'GPP_NT_VUT_REF'\n",
        "# other options\n",
        "output_related_var = ['NEE_VUT_REF', 'NEE_CUT_REF', 'GPP_NT_VUT_REF',\n",
        "                      'GPP_DT_VUT_REF', 'GPP_NT_CUT_REF','GPP_DT_CUT_REF',\n",
        "                      'RECO_NT_VUT_REF', 'RECO_DT_VUT_REF', \n",
        "                      'RECO_NT_CUT_REF', 'RECO_DT_CUT_REF']\n",
        "\n",
        "# predictor variables\n",
        "pred_var_numeric = ['TA_F', 'VPD_F', 'P_F', 'NETRAD','ET',\n",
        "                    'BESS-PAR', 'BESS-PARdiff','BESS-RSDN', \n",
        "                    'CSIF-SIFdaily', 'CSIF-SIFinst','PET', 'Ts', 'Tmean',\n",
        "                    'prcp', 'vpd', 'prcp-lag3', 'ESACCI-sm',\n",
        "                    'b1', 'b2', 'b3','b4', 'b5', 'b6', 'b7', \n",
        "                    'EVI', 'GCI', 'NDVI', 'NDWI', 'NIRv', 'kNDVI',\n",
        "                    'Percent_Snow', 'Fpar', 'Lai', 'LST_Day', 'LST_Night', \n",
        "                    'CO2_concentration', 'LOCATION_LAT', 'LOCATION_LONG',\n",
        "                    'year', 'month']\n",
        "\n",
        "pred_var_categorical = ['SITE_IGBP','MODIS_LC', 'MODIS_IGBP','MODIS_PFT', \n",
        "                        'koppen_sub', 'koppen']\n",
        "\n",
        "other_var =  ['SITE_ID', 'year', 'month', 'TIMESTAMP', 'dataset', 'time']\n",
        "\n",
        "qc_flags = ['NEE_VUT_REF_QC', 'NEE_CUT_REF_QC'] \n",
        "\n",
        "NA_list = [] # There is no feature whose values is zero\n",
        "\n",
        "len(output_related_var + pred_var_numeric + pred_var_categorical \n",
        "    + other_var + qc_flags + NA_list)\n",
        "# output_var is included in output_related_var"
      ],
      "metadata": {
        "colab": {
          "base_uri": "https://localhost:8080/"
        },
        "id": "tYcmzaPjU0Sk",
        "outputId": "dbbf09f1-63eb-43fc-9eaa-95777d5eceea"
      },
      "execution_count": 100,
      "outputs": [
        {
          "output_type": "execute_result",
          "data": {
            "text/plain": [
              "64"
            ]
          },
          "metadata": {},
          "execution_count": 100
        }
      ]
    },
    {
      "cell_type": "code",
      "source": [
        "# Features for RFRegressor \n",
        "feature_list = pred_var_numeric + pred_var_categorical # [output_var] is not included in the list"
      ],
      "metadata": {
        "id": "K8K0-6Kq0l1A"
      },
      "execution_count": 101,
      "outputs": []
    },
    {
      "cell_type": "markdown",
      "source": [
        "Make sure to add output variable `GPP_NT_VUT_REF` to the column"
      ],
      "metadata": {
        "id": "2XuEqZcBHcqB"
      }
    },
    {
      "cell_type": "code",
      "source": [
        "# Update Spark dataframe\n",
        "monthly_rf = monthly_sdf.select([output_var] + feature_list)\n",
        "monthly_rf.show()"
      ],
      "metadata": {
        "colab": {
          "base_uri": "https://localhost:8080/"
        },
        "id": "KshdQz56wcOI",
        "outputId": "f2979723-9112-4346-d4e2-d221428250fe"
      },
      "execution_count": 102,
      "outputs": [
        {
          "output_type": "stream",
          "name": "stdout",
          "text": [
            "+--------------+------+------+-----+-----------+---------+--------+------------+---------+-------------+------------+------------+---------+---------+-----------+----------+-----------+----------+-----------+----------+-----------+-----------+----------+----------+-----------+----------+---------+----------+------------+-----------+----------+------------+----+---+-------+---------+-----------------+------------+-------------+----+-----+---------+--------+----------+---------+----------+---------+\n",
            "|GPP_NT_VUT_REF|  TA_F| VPD_F|  P_F|     NETRAD|       ET|BESS-PAR|BESS-PARdiff|BESS-RSDN|CSIF-SIFdaily|CSIF-SIFinst|         PET|       Ts|    Tmean|       prcp|       vpd|  prcp-lag3| ESACCI-sm|         b1|        b2|         b3|         b4|        b5|        b6|         b7|       EVI|      GCI|      NDVI|        NDWI|       NIRv|     kNDVI|Percent_Snow|Fpar|Lai|LST_Day|LST_Night|CO2_concentration|LOCATION_LAT|LOCATION_LONG|year|month|SITE_IGBP|MODIS_LC|MODIS_IGBP|MODIS_PFT|koppen_sub|   koppen|\n",
            "+--------------+------+------+-----+-----------+---------+--------+------------+---------+-------------+------------+------------+---------+---------+-----------+----------+-----------+----------+-----------+----------+-----------+-----------+----------+----------+-----------+----------+---------+----------+------------+-----------+----------+------------+----+---+-------+---------+-----------------+------------+-------------+----+-----+---------+--------+----------+---------+----------+---------+\n",
            "|       10.2095|28.493|23.378|0.903| 188.598814|  9.01454|     154|          40|      336|   0.20432499|  0.51662683|-0.013386652|302.46967|300.10977|0.002115019|   2.06618|0.008738702|0.15152083|  0.0844258|0.26877418|0.045316122| 0.08052903|0.30057743| 0.2505258| 0.15535806|0.32125923|2.3492026| 0.5227052| 0.035415366| 0.14050612|0.26745087|         0.0|0.49|1.2| 313.84|   293.58|           387.11|    -33.4648|     -66.4598|2010|    1|       MF|       7|       OSH|       SH|       BSk|     Arid|\n",
            "|       8.16307|26.673|14.369|1.986|144.2162024|7.6779733|     120|          46|      258|    0.1455303|  0.38726252|-0.008937791|298.78864|297.27515|0.003131761| 1.0901145|0.009724296|0.16655783|     0.0918| 0.2524464| 0.04803214| 0.08092143|0.29244998|0.25221428| 0.15945713|0.27830008|2.1216552|0.46684337|  4.00779E-4| 0.11781442|0.21459042|         0.0|0.43|0.9| 309.86|   292.96|          387.675|    -33.4648|     -66.4598|2010|    2|       MF|       7|       OSH|       SH|       BSk|     Arid|\n",
            "|       7.06222|25.744|15.167|0.371|125.6431374| 5.890317|     107|          31|      231|   0.10980482|  0.30724174|-0.008132122|297.54816| 296.4367|0.002206154| 1.1686398|0.007452934|0.16407675| 0.08556129|0.23039998| 0.04453871|0.074638695|0.26943222|0.24116449|  0.1536387|0.25689518|2.0874314|0.45834532|-0.022856813| 0.10565167|0.20721813|         0.0|0.41|0.8| 309.18|   290.52|          388.195|    -33.4648|     -66.4598|2010|    3|       MF|       7|       OSH|       SH|       BSk|     Arid|\n",
            "|       5.72781| 18.45| 9.185|  0.1|71.50069342|2.3456645|      81|          27|      175|  0.076728895|  0.22387202| -0.00675834|291.69604|290.61377| 2.09161E-4| 0.9461956|0.005547076|0.12401654| 0.08740333|0.21581332|     0.0453|0.074543335|   0.26009|0.23482999| 0.14688666|0.22921446|1.8959624|0.42358848|-0.042024087| 0.09139932|0.17754844|         0.0|0.36|0.5| 303.24|   286.34|          388.905|    -33.4648|     -66.4598|2010|    4|       MF|       7|       OSH|       SH|       BSk|     Arid|\n",
            "|       3.47763|13.493| 5.823|1.852|41.24914909|2.2079997|      56|          19|      122|  0.066020064|  0.20063505|-0.004725121|287.05652| 286.8832| 8.41617E-4| 0.7162909|0.003256932|0.14272605|0.076190315|0.19819355| 0.03887419| 0.06480969|0.23148388|0.20281611|0.124199994|0.22352917|2.0611055| 0.4453674|-0.010640754| 0.08814689|0.19591969|         0.0|0.37|0.5|  296.2|   277.82|           389.32|    -33.4648|     -66.4598|2010|    5|       MF|       7|       OSH|       SH|       BSk|     Arid|\n",
            "|       2.77385|11.273| 5.219| 0.03| 30.2579338|1.7267979|      48|          15|      105|  0.055993885|  0.17740785|-0.003966339|284.32104|284.76154| 2.66855E-4|0.57913876|0.001317633|0.15315518|0.071046665|0.17955999|0.038123343| 0.06306333|0.21496001|0.19131334| 0.12397998|0.20550561|1.8486056| 0.4330553|  -0.0314929| 0.07776146| 0.1854466|         0.0|0.33|0.4| 293.18|    276.8|           389.16|    -33.4648|     -66.4598|2010|    6|       MF|       7|       OSH|       SH|       BSk|     Arid|\n",
            "|       3.74133| 8.131| 4.949|0.003|46.75980628|1.7385347|      58|          15|      129|  0.044577617|  0.14184037|-0.004890211|282.39343|282.44458|    6.62E-5| 0.6524327| 0.00117464|0.11506776| 0.07951935|0.17683226|0.042067744| 0.06696773|0.21454516| 0.2047129| 0.13839355|0.18182558|1.6429125| 0.3800115| -0.07298639|0.067186974|0.14383936|         0.0|0.32|0.4| 292.12|   271.64|          388.495|    -33.4648|     -66.4598|2010|    7|       MF|       7|       OSH|       SH|       BSk|     Arid|\n",
            "|        4.9923|12.124| 7.232|0.148|55.41014468|1.7703171|      72|          23|      158|   0.03940548| 0.118864134|-0.006607018|285.98975|285.50317| 3.56059E-4| 0.8266134| 6.89082E-4|0.12942678| 0.09146129|0.18079355|0.048974194|0.075180635|0.22952907|0.23047417|  0.1616032|0.16395012|1.4065467| 0.3283708| -0.12023627| 0.05933451|0.10749994|         0.0|0.26|0.3| 298.98|   276.72|          387.915|    -33.4648|     -66.4598|2010|    8|       MF|       7|       OSH|       SH|       BSk|     Arid|\n",
            "|        6.2686|16.113| 9.808|1.283|86.53253167|2.7933466|      92|          30|      202|  0.043048184| 0.118709184|-0.007369228|289.56998|288.48505|0.002409217|0.89762795|0.002831445|0.14007734|0.101566665| 0.1950833| 0.05354333| 0.08152667|0.25225836|    0.2574| 0.18707831|0.16664456|1.3936689| 0.3154251| -0.13769455|0.061513435|0.09918764|         0.0|0.25|0.4| 303.02|   281.76|           387.31|    -33.4648|     -66.4598|2010|    9|       MF|       7|       OSH|       SH|       BSk|     Arid|\n",
            "|       7.98788|19.115| 12.24|2.671|139.2401875|4.8010826|     124|          35|      271|  0.076557115|  0.19472006|-0.009151526| 292.5633|291.09125|0.002530932| 1.0285672|0.005296208|0.16722338| 0.10122257|0.21530966| 0.05306129|  0.0860129|0.26885805|0.26544514| 0.18909998|0.19995353|1.5004112| 0.3590074| -0.10536736|0.077747405| 0.1290034|         0.0|0.32|0.6| 305.08|   283.92|           387.55|    -33.4648|     -66.4598|2010|   10|       MF|       7|       OSH|       SH|       BSk|     Arid|\n",
            "|       10.4461|22.858|16.296| 0.81|173.9497797|5.8108234|     147|          39|      322|   0.10822074|  0.26523668| -0.01190903|298.02554|295.46375|0.001110932| 1.6364233|0.006051082|0.14072989| 0.10894999|0.24585332| 0.05752999|0.094583325|0.29778334| 0.2814067| 0.19225997| 0.2331288|1.5993953|0.38592288| -0.06737776| 0.09486858|0.14786734|         0.0|0.38|0.8| 311.82|    288.0|          388.235|    -33.4648|     -66.4598|2010|   11|       MF|       7|       OSH|       SH|       BSk|     Arid|\n",
            "|       10.0834|26.557|23.211|1.452| 189.600544| 5.165505|     157|          38|      344|   0.09730604|  0.23855111|-0.014495663| 303.0575|299.54413| 7.41054E-4| 2.4140742|0.004382919|0.14455558| 0.11138387|0.24245161| 0.05899677| 0.09506773|0.29779354| 0.2889032| 0.20476452|0.22321212|1.5519823| 0.3706127| -0.08736732| 0.08984783| 0.1366967|         0.0|0.35|0.7|  316.2|    291.4|           388.75|    -33.4648|     -66.4598|2010|   12|       MF|       7|       OSH|       SH|       BSk|     Arid|\n",
            "|       9.95023|27.239|21.737|1.781|190.2704653|6.1932206|     153|          42|      333|   0.12373857|  0.31333244|-0.012760364|302.67914| 299.5474|0.001429977| 2.0071137|0.003281964|0.15524794| 0.10064516|0.24518067|0.053629037| 0.08890967|0.29109034|0.27508062| 0.19180645|      null|1.7582431|0.41798103| -0.05742977|0.102479674|0.17299215|         0.0|0.39|0.8| 314.56|    292.3|          389.455|    -33.4648|     -66.4598|2011|    1|       MF|       7|       OSH|       SH|       BSk|     Arid|\n",
            "|       8.66459|24.676|13.273|4.371|145.1982054|7.8748693|     123|          40|      266|   0.17441228|   0.4654631|-0.009652332|298.49115| 296.5979|0.002758195| 1.2130871|0.004929227|0.18353738|0.081742845|  0.252475| 0.04369643| 0.07734285| 0.2839964|0.24476786| 0.15957141|      null|2.2768667|  0.510615| 0.015588671| 0.12931086|0.25635305|         0.0|0.46|1.0| 308.54|   290.96|           389.62|    -33.4648|     -66.4598|2011|    2|       MF|       7|       OSH|       SH|       BSk|     Arid|\n",
            "|       7.77495|22.803|13.125|0.917|132.1403313| 5.544605|     114|          34|      247|   0.18305057|  0.51245916|-0.009239569|297.05414|295.21234|0.001028448| 1.3498559| 0.00521662| 0.1653738| 0.07069355|0.25382254|0.038200002|0.069503225|0.27669033| 0.2262548| 0.13779354|      null|2.6520312|0.56414115| 0.057314258| 0.14325434|0.30799147|         0.0|0.52|1.1| 307.88|    290.2|          389.935|    -33.4648|     -66.4598|2011|    3|       MF|       7|       OSH|       SH|       BSk|     Arid|\n",
            "|       16.6069|25.883|11.893|6.909|140.3802855|7.0882072|     117|          36|      250|   0.35580766|   1.0070577| -0.00634148|297.72784| 297.6535|0.003653176| 0.7823387|0.015916646|0.32501653|0.039254833|0.32290646|0.019277416| 0.05246451| 0.3135387|0.17214517|0.067348376|0.50148696|5.1558065| 0.7831489|  0.30432472| 0.25290942|0.54645747|         0.0|0.78|3.5| 302.72|   292.26|          388.195|    -28.2395|     -56.1886|2010|    3|      ENF|       9|       SAV|       SA|       Cfa|Temperate|\n",
            "|       11.6896|21.085| 9.315|4.921|87.98953764| 4.957915|      80|          29|      172|    0.2839798|    0.829127|-0.005368337|293.50464|293.65088|0.003299312| 0.6776179|0.011770017|0.32063323|0.040218335|0.29168501|0.020366669| 0.04804333|  0.291545|0.16847333|0.065976664|0.45521393| 5.070083|0.75729454|   0.2673957| 0.22097366|0.51789534|         0.0|0.73|2.8|  298.5|    287.4|          388.905|    -28.2395|     -56.1886|2010|    4|      ENF|       9|       SAV|       SA|       Cfa|Temperate|\n",
            "|        12.578|20.053| 6.849|3.709|140.7111408| 8.240307|     119|          41|      260|   0.25308308|  0.65763813|-0.006693386| 292.3426|292.14008| 0.00380671|0.65856665| 0.01381997|0.37036404| 0.04885806|0.25399998|0.023638709|0.054706447|0.27477098|0.19271934|  0.0966129|0.37418348|3.6415005| 0.6769556|  0.13657345| 0.17206027| 0.4286881|         0.0|0.64|2.4|  301.3|   285.58|           387.55|    -28.2395|     -56.1886|2010|   10|      ENF|       9|       SAV|       SA|       Cfa|Temperate|\n",
            "|        13.011|22.824|11.504|3.075|176.6007384| 9.541467|     143|          40|      313|   0.31803423|   0.7991435|-0.009438761|296.23062|295.66296| 9.31888E-4| 1.2130878|0.014042678|0.30845198|0.057359993|0.29386336|0.027753327| 0.06541999|   0.31567|0.21955997|0.111049995|0.41336912|3.4938533| 0.6734622|  0.14476806| 0.19788575|0.42482123|         0.0|0.67|2.8|  304.5|   287.16|          388.235|    -28.2395|     -56.1886|2010|   11|      ENF|       9|       SAV|       SA|       Cfa|Temperate|\n",
            "|       15.5007|26.039|13.026|5.026| 170.025408| 8.843316|     132|          48|      282|    0.3697338|  0.93288314|-0.007714525|298.17078|297.97382|0.007306484|0.91176283|0.012045081|0.34871957| 0.05444839|0.31505162|0.026561288| 0.06672258|0.32610002|0.21619034| 0.10154516| 0.4514909| 3.720321|0.70482177|  0.18570562|  0.2222497| 0.4595932|         0.0| 0.7|3.2| 306.02|   291.66|           388.75|    -28.2395|     -56.1886|2010|   12|      ENF|       9|       SAV|       SA|       Cfa|Temperate|\n",
            "+--------------+------+------+-----+-----------+---------+--------+------------+---------+-------------+------------+------------+---------+---------+-----------+----------+-----------+----------+-----------+----------+-----------+-----------+----------+----------+-----------+----------+---------+----------+------------+-----------+----------+------------+----+---+-------+---------+-----------------+------------+-------------+----+-----+---------+--------+----------+---------+----------+---------+\n",
            "only showing top 20 rows\n",
            "\n"
          ]
        }
      ]
    },
    {
      "cell_type": "markdown",
      "source": [
        "Observe the number of missing values in each feature"
      ],
      "metadata": {
        "id": "9eL89TsH1MJf"
      }
    },
    {
      "cell_type": "code",
      "source": [
        "# counts the number of None in each feature\n",
        "from pyspark.sql.functions import isnull, when, count, col\n",
        "monthly_rf.select([count(when(isnull(c), c)).alias(c) for c in monthly_rf.columns]).show()"
      ],
      "metadata": {
        "colab": {
          "base_uri": "https://localhost:8080/"
        },
        "id": "sVbLbTFP1AX_",
        "outputId": "33f49316-c6e9-4358-d5b7-9e6eaaa5788a"
      },
      "execution_count": 103,
      "outputs": [
        {
          "output_type": "stream",
          "name": "stdout",
          "text": [
            "+--------------+----+-----+---+------+---+--------+------------+---------+-------------+------------+---+---+-----+----+---+---------+---------+---+---+---+---+---+---+---+----+---+----+----+----+-----+------------+----+---+-------+---------+-----------------+------------+-------------+----+-----+---------+--------+----------+---------+----------+------+\n",
            "|GPP_NT_VUT_REF|TA_F|VPD_F|P_F|NETRAD| ET|BESS-PAR|BESS-PARdiff|BESS-RSDN|CSIF-SIFdaily|CSIF-SIFinst|PET| Ts|Tmean|prcp|vpd|prcp-lag3|ESACCI-sm| b1| b2| b3| b4| b5| b6| b7| EVI|GCI|NDVI|NDWI|NIRv|kNDVI|Percent_Snow|Fpar|Lai|LST_Day|LST_Night|CO2_concentration|LOCATION_LAT|LOCATION_LONG|year|month|SITE_IGBP|MODIS_LC|MODIS_IGBP|MODIS_PFT|koppen_sub|koppen|\n",
            "+--------------+----+-----+---+------+---+--------+------------+---------+-------------+------------+---+---+-----+----+---+---------+---------+---+---+---+---+---+---+---+----+---+----+----+----+-----+------------+----+---+-------+---------+-----------------+------------+-------------+----+-----+---------+--------+----------+---------+----------+------+\n",
            "|             0|   0|    0|353|  2693| 32|       0|           0|        0|          121|         121|101|101|  101| 101|101|      101|     1610|406|399|406|406|406|406|406|1620|469| 452| 406| 452|  406|         143| 935|935|      0|        0|                0|           0|            0|   0|    0|        0|       0|         0|        0|         0|     0|\n",
            "+--------------+----+-----+---+------+---+--------+------------+---------+-------------+------------+---+---+-----+----+---+---------+---------+---+---+---+---+---+---+---+----+---+----+----+----+-----+------------+----+---+-------+---------+-----------------+------------+-------------+----+-----+---------+--------+----------+---------+----------+------+\n",
            "\n"
          ]
        }
      ]
    },
    {
      "cell_type": "code",
      "source": [
        "# Original number of observations\n",
        "monthly_rf.count()"
      ],
      "metadata": {
        "colab": {
          "base_uri": "https://localhost:8080/"
        },
        "id": "YQg3TNYeV8xz",
        "outputId": "8595f96c-e2a6-41e3-9ac6-af9d6fdc28df"
      },
      "execution_count": 104,
      "outputs": [
        {
          "output_type": "execute_result",
          "data": {
            "text/plain": [
              "19015"
            ]
          },
          "metadata": {},
          "execution_count": 104
        }
      ]
    },
    {
      "cell_type": "code",
      "source": [
        "# Drop row that contains NA\n",
        "monthly_rf_NAdrop = monthly_rf.na.drop(\"any\")\n",
        "monthly_rf_NAdrop.count()"
      ],
      "metadata": {
        "colab": {
          "base_uri": "https://localhost:8080/"
        },
        "id": "e6usHm3nwcJe",
        "outputId": "66da3399-8dce-44ca-bfac-2c19c29301df"
      },
      "execution_count": 105,
      "outputs": [
        {
          "output_type": "execute_result",
          "data": {
            "text/plain": [
              "12937"
            ]
          },
          "metadata": {},
          "execution_count": 105
        }
      ]
    },
    {
      "cell_type": "markdown",
      "source": [
        "Use `monthly_rf_NAdrop` in the later phase"
      ],
      "metadata": {
        "id": "NGO40PdT3-Vi"
      }
    },
    {
      "cell_type": "code",
      "source": [
        "monthly_rf_NAdrop.show()"
      ],
      "metadata": {
        "colab": {
          "base_uri": "https://localhost:8080/"
        },
        "id": "NsYwb8vY4rpX",
        "outputId": "549d8531-1d55-4702-8dcb-107488c883a8"
      },
      "execution_count": 106,
      "outputs": [
        {
          "output_type": "stream",
          "name": "stdout",
          "text": [
            "+--------------+------+------+-----+-----------+---------+--------+------------+---------+-------------+------------+------------+---------+---------+-----------+----------+-----------+----------+-----------+----------+-----------+-----------+----------+----------+-----------+----------+---------+----------+------------+-----------+----------+------------+----+---+-------+---------+-----------------+------------+-------------+----+-----+---------+--------+----------+---------+----------+---------+\n",
            "|GPP_NT_VUT_REF|  TA_F| VPD_F|  P_F|     NETRAD|       ET|BESS-PAR|BESS-PARdiff|BESS-RSDN|CSIF-SIFdaily|CSIF-SIFinst|         PET|       Ts|    Tmean|       prcp|       vpd|  prcp-lag3| ESACCI-sm|         b1|        b2|         b3|         b4|        b5|        b6|         b7|       EVI|      GCI|      NDVI|        NDWI|       NIRv|     kNDVI|Percent_Snow|Fpar|Lai|LST_Day|LST_Night|CO2_concentration|LOCATION_LAT|LOCATION_LONG|year|month|SITE_IGBP|MODIS_LC|MODIS_IGBP|MODIS_PFT|koppen_sub|   koppen|\n",
            "+--------------+------+------+-----+-----------+---------+--------+------------+---------+-------------+------------+------------+---------+---------+-----------+----------+-----------+----------+-----------+----------+-----------+-----------+----------+----------+-----------+----------+---------+----------+------------+-----------+----------+------------+----+---+-------+---------+-----------------+------------+-------------+----+-----+---------+--------+----------+---------+----------+---------+\n",
            "|       10.2095|28.493|23.378|0.903| 188.598814|  9.01454|     154|          40|      336|   0.20432499|  0.51662683|-0.013386652|302.46967|300.10977|0.002115019|   2.06618|0.008738702|0.15152083|  0.0844258|0.26877418|0.045316122| 0.08052903|0.30057743| 0.2505258| 0.15535806|0.32125923|2.3492026| 0.5227052| 0.035415366| 0.14050612|0.26745087|         0.0|0.49|1.2| 313.84|   293.58|           387.11|    -33.4648|     -66.4598|2010|    1|       MF|       7|       OSH|       SH|       BSk|     Arid|\n",
            "|       8.16307|26.673|14.369|1.986|144.2162024|7.6779733|     120|          46|      258|    0.1455303|  0.38726252|-0.008937791|298.78864|297.27515|0.003131761| 1.0901145|0.009724296|0.16655783|     0.0918| 0.2524464| 0.04803214| 0.08092143|0.29244998|0.25221428| 0.15945713|0.27830008|2.1216552|0.46684337|  4.00779E-4| 0.11781442|0.21459042|         0.0|0.43|0.9| 309.86|   292.96|          387.675|    -33.4648|     -66.4598|2010|    2|       MF|       7|       OSH|       SH|       BSk|     Arid|\n",
            "|       7.06222|25.744|15.167|0.371|125.6431374| 5.890317|     107|          31|      231|   0.10980482|  0.30724174|-0.008132122|297.54816| 296.4367|0.002206154| 1.1686398|0.007452934|0.16407675| 0.08556129|0.23039998| 0.04453871|0.074638695|0.26943222|0.24116449|  0.1536387|0.25689518|2.0874314|0.45834532|-0.022856813| 0.10565167|0.20721813|         0.0|0.41|0.8| 309.18|   290.52|          388.195|    -33.4648|     -66.4598|2010|    3|       MF|       7|       OSH|       SH|       BSk|     Arid|\n",
            "|       5.72781| 18.45| 9.185|  0.1|71.50069342|2.3456645|      81|          27|      175|  0.076728895|  0.22387202| -0.00675834|291.69604|290.61377| 2.09161E-4| 0.9461956|0.005547076|0.12401654| 0.08740333|0.21581332|     0.0453|0.074543335|   0.26009|0.23482999| 0.14688666|0.22921446|1.8959624|0.42358848|-0.042024087| 0.09139932|0.17754844|         0.0|0.36|0.5| 303.24|   286.34|          388.905|    -33.4648|     -66.4598|2010|    4|       MF|       7|       OSH|       SH|       BSk|     Arid|\n",
            "|       3.47763|13.493| 5.823|1.852|41.24914909|2.2079997|      56|          19|      122|  0.066020064|  0.20063505|-0.004725121|287.05652| 286.8832| 8.41617E-4| 0.7162909|0.003256932|0.14272605|0.076190315|0.19819355| 0.03887419| 0.06480969|0.23148388|0.20281611|0.124199994|0.22352917|2.0611055| 0.4453674|-0.010640754| 0.08814689|0.19591969|         0.0|0.37|0.5|  296.2|   277.82|           389.32|    -33.4648|     -66.4598|2010|    5|       MF|       7|       OSH|       SH|       BSk|     Arid|\n",
            "|       2.77385|11.273| 5.219| 0.03| 30.2579338|1.7267979|      48|          15|      105|  0.055993885|  0.17740785|-0.003966339|284.32104|284.76154| 2.66855E-4|0.57913876|0.001317633|0.15315518|0.071046665|0.17955999|0.038123343| 0.06306333|0.21496001|0.19131334| 0.12397998|0.20550561|1.8486056| 0.4330553|  -0.0314929| 0.07776146| 0.1854466|         0.0|0.33|0.4| 293.18|    276.8|           389.16|    -33.4648|     -66.4598|2010|    6|       MF|       7|       OSH|       SH|       BSk|     Arid|\n",
            "|       3.74133| 8.131| 4.949|0.003|46.75980628|1.7385347|      58|          15|      129|  0.044577617|  0.14184037|-0.004890211|282.39343|282.44458|    6.62E-5| 0.6524327| 0.00117464|0.11506776| 0.07951935|0.17683226|0.042067744| 0.06696773|0.21454516| 0.2047129| 0.13839355|0.18182558|1.6429125| 0.3800115| -0.07298639|0.067186974|0.14383936|         0.0|0.32|0.4| 292.12|   271.64|          388.495|    -33.4648|     -66.4598|2010|    7|       MF|       7|       OSH|       SH|       BSk|     Arid|\n",
            "|        4.9923|12.124| 7.232|0.148|55.41014468|1.7703171|      72|          23|      158|   0.03940548| 0.118864134|-0.006607018|285.98975|285.50317| 3.56059E-4| 0.8266134| 6.89082E-4|0.12942678| 0.09146129|0.18079355|0.048974194|0.075180635|0.22952907|0.23047417|  0.1616032|0.16395012|1.4065467| 0.3283708| -0.12023627| 0.05933451|0.10749994|         0.0|0.26|0.3| 298.98|   276.72|          387.915|    -33.4648|     -66.4598|2010|    8|       MF|       7|       OSH|       SH|       BSk|     Arid|\n",
            "|        6.2686|16.113| 9.808|1.283|86.53253167|2.7933466|      92|          30|      202|  0.043048184| 0.118709184|-0.007369228|289.56998|288.48505|0.002409217|0.89762795|0.002831445|0.14007734|0.101566665| 0.1950833| 0.05354333| 0.08152667|0.25225836|    0.2574| 0.18707831|0.16664456|1.3936689| 0.3154251| -0.13769455|0.061513435|0.09918764|         0.0|0.25|0.4| 303.02|   281.76|           387.31|    -33.4648|     -66.4598|2010|    9|       MF|       7|       OSH|       SH|       BSk|     Arid|\n",
            "|       7.98788|19.115| 12.24|2.671|139.2401875|4.8010826|     124|          35|      271|  0.076557115|  0.19472006|-0.009151526| 292.5633|291.09125|0.002530932| 1.0285672|0.005296208|0.16722338| 0.10122257|0.21530966| 0.05306129|  0.0860129|0.26885805|0.26544514| 0.18909998|0.19995353|1.5004112| 0.3590074| -0.10536736|0.077747405| 0.1290034|         0.0|0.32|0.6| 305.08|   283.92|           387.55|    -33.4648|     -66.4598|2010|   10|       MF|       7|       OSH|       SH|       BSk|     Arid|\n",
            "|       10.4461|22.858|16.296| 0.81|173.9497797|5.8108234|     147|          39|      322|   0.10822074|  0.26523668| -0.01190903|298.02554|295.46375|0.001110932| 1.6364233|0.006051082|0.14072989| 0.10894999|0.24585332| 0.05752999|0.094583325|0.29778334| 0.2814067| 0.19225997| 0.2331288|1.5993953|0.38592288| -0.06737776| 0.09486858|0.14786734|         0.0|0.38|0.8| 311.82|    288.0|          388.235|    -33.4648|     -66.4598|2010|   11|       MF|       7|       OSH|       SH|       BSk|     Arid|\n",
            "|       10.0834|26.557|23.211|1.452| 189.600544| 5.165505|     157|          38|      344|   0.09730604|  0.23855111|-0.014495663| 303.0575|299.54413| 7.41054E-4| 2.4140742|0.004382919|0.14455558| 0.11138387|0.24245161| 0.05899677| 0.09506773|0.29779354| 0.2889032| 0.20476452|0.22321212|1.5519823| 0.3706127| -0.08736732| 0.08984783| 0.1366967|         0.0|0.35|0.7|  316.2|    291.4|           388.75|    -33.4648|     -66.4598|2010|   12|       MF|       7|       OSH|       SH|       BSk|     Arid|\n",
            "|       16.6069|25.883|11.893|6.909|140.3802855|7.0882072|     117|          36|      250|   0.35580766|   1.0070577| -0.00634148|297.72784| 297.6535|0.003653176| 0.7823387|0.015916646|0.32501653|0.039254833|0.32290646|0.019277416| 0.05246451| 0.3135387|0.17214517|0.067348376|0.50148696|5.1558065| 0.7831489|  0.30432472| 0.25290942|0.54645747|         0.0|0.78|3.5| 302.72|   292.26|          388.195|    -28.2395|     -56.1886|2010|    3|      ENF|       9|       SAV|       SA|       Cfa|Temperate|\n",
            "|       11.6896|21.085| 9.315|4.921|87.98953764| 4.957915|      80|          29|      172|    0.2839798|    0.829127|-0.005368337|293.50464|293.65088|0.003299312| 0.6776179|0.011770017|0.32063323|0.040218335|0.29168501|0.020366669| 0.04804333|  0.291545|0.16847333|0.065976664|0.45521393| 5.070083|0.75729454|   0.2673957| 0.22097366|0.51789534|         0.0|0.73|2.8|  298.5|    287.4|          388.905|    -28.2395|     -56.1886|2010|    4|      ENF|       9|       SAV|       SA|       Cfa|Temperate|\n",
            "|        12.578|20.053| 6.849|3.709|140.7111408| 8.240307|     119|          41|      260|   0.25308308|  0.65763813|-0.006693386| 292.3426|292.14008| 0.00380671|0.65856665| 0.01381997|0.37036404| 0.04885806|0.25399998|0.023638709|0.054706447|0.27477098|0.19271934|  0.0966129|0.37418348|3.6415005| 0.6769556|  0.13657345| 0.17206027| 0.4286881|         0.0|0.64|2.4|  301.3|   285.58|           387.55|    -28.2395|     -56.1886|2010|   10|      ENF|       9|       SAV|       SA|       Cfa|Temperate|\n",
            "|        13.011|22.824|11.504|3.075|176.6007384| 9.541467|     143|          40|      313|   0.31803423|   0.7991435|-0.009438761|296.23062|295.66296| 9.31888E-4| 1.2130878|0.014042678|0.30845198|0.057359993|0.29386336|0.027753327| 0.06541999|   0.31567|0.21955997|0.111049995|0.41336912|3.4938533| 0.6734622|  0.14476806| 0.19788575|0.42482123|         0.0|0.67|2.8|  304.5|   287.16|          388.235|    -28.2395|     -56.1886|2010|   11|      ENF|       9|       SAV|       SA|       Cfa|Temperate|\n",
            "|       15.5007|26.039|13.026|5.026| 170.025408| 8.843316|     132|          48|      282|    0.3697338|  0.93288314|-0.007714525|298.17078|297.97382|0.007306484|0.91176283|0.012045081|0.34871957| 0.05444839|0.31505162|0.026561288| 0.06672258|0.32610002|0.21619034| 0.10154516| 0.4514909| 3.720321|0.70482177|  0.18570562|  0.2222497| 0.4595932|         0.0| 0.7|3.2| 306.02|   291.66|           388.75|    -28.2395|     -56.1886|2010|   12|      ENF|       9|       SAV|       SA|       Cfa|Temperate|\n",
            "|       9.53072|25.919|14.784|1.452|189.1051942| 9.281486|     150|          47|      324|    0.3494609|   0.9085131| -0.01105988|301.64825| 300.6665|0.001870857| 1.7350304|0.009305812|0.26168758| 0.06387419| 0.3275161|0.031280644|0.070906445| 0.3460742| 0.2344516| 0.11076774|0.44647938| 3.620046|0.67362356|  0.16564138| 0.22062938|0.42500442|         0.0|0.69|3.1| 309.94|   292.14|          391.225|    -28.2395|     -56.1886|2012|    1|      ENF|       9|       SAV|       SA|       Cfa|Temperate|\n",
            "|       9.59927|27.029|13.938|2.527|150.5470389|6.7530193|     121|          52|      255|   0.26720712|  0.72544396| -0.00967826| 302.7314| 301.5807|0.002279734| 1.6173695|0.006079263| 0.2692186| 0.06477931| 0.2922965|0.031231033| 0.06542069|0.32060343|0.23018274| 0.11693103|0.39317164| 3.470528| 0.6372466|   0.1188409| 0.18631247|0.38526174|         0.0|0.61|2.5| 311.02|   292.78|            391.4|    -28.2395|     -56.1886|2012|    2|      ENF|       9|       SAV|       SA|       Cfa|Temperate|\n",
            "|       11.1693|23.956|13.028| 0.92|143.7843416| 7.384266|     119|          36|      259|   0.27218473|   0.7705264|-0.008565038|299.28296|298.21295|0.001913611| 1.4181602|0.006064202|0.26918423| 0.05081613|0.28540322|0.024596771|0.056532264|0.30587095| 0.2093419| 0.09800967|0.41718146| 4.052398| 0.6976615|  0.15375136| 0.19915885|0.45163572|         0.0|0.71|2.8| 307.62|   290.46|           391.77|    -28.2395|     -56.1886|2012|    3|      ENF|       9|       SAV|       SA|       Cfa|Temperate|\n",
            "+--------------+------+------+-----+-----------+---------+--------+------------+---------+-------------+------------+------------+---------+---------+-----------+----------+-----------+----------+-----------+----------+-----------+-----------+----------+----------+-----------+----------+---------+----------+------------+-----------+----------+------------+----+---+-------+---------+-----------------+------------+-------------+----+-----+---------+--------+----------+---------+----------+---------+\n",
            "only showing top 20 rows\n",
            "\n"
          ]
        }
      ]
    },
    {
      "cell_type": "markdown",
      "source": [
        "# RF feature selection with pyspark\n",
        "- In modeling, train-test split(+cross validation) needs to be implemented additionally"
      ],
      "metadata": {
        "id": "68QPJ2XDewY3"
      }
    },
    {
      "cell_type": "code",
      "source": [
        "# !pip install pyspark"
      ],
      "metadata": {
        "id": "H3Da7yQDsw7N"
      },
      "execution_count": 107,
      "outputs": []
    },
    {
      "cell_type": "code",
      "source": [
        "from pyspark.mllib.stat import Statistics\n",
        "from pyspark.ml.stat import Correlation\n",
        "from pyspark.sql.functions import col\n",
        "\n",
        "from pyspark.ml.feature import VectorAssembler\n",
        "from pyspark.ml.feature import StandardScaler\n",
        "from pyspark.ml.feature import MinMaxScaler\n",
        "from pyspark.mllib.evaluation import MulticlassMetrics, BinaryClassificationMetrics\n",
        "from pyspark.ml.feature import StringIndexer, OneHotEncoder\n",
        "\n",
        "# Import fro classifier\n",
        "# from pyspark.ml.evaluation import BinaryClassificationEvaluator\n",
        "# from pyspark.ml.classification import RandomForestClassifier\n",
        "\n",
        "from pyspark.ml import Pipeline\n",
        "from pyspark.ml.regression import RandomForestRegressor\n",
        "from pyspark.ml.feature import VectorIndexer\n",
        "from pyspark.ml.evaluation import RegressionEvaluator\n",
        "\n",
        "# Documentation for RFRegressor in Spark\n",
        "# https://spark.apache.org/docs/latest/api/python/reference/api/pyspark.ml.regression.RandomForestRegressor.html"
      ],
      "metadata": {
        "id": "dfIqnxRvZW_0"
      },
      "execution_count": 108,
      "outputs": []
    },
    {
      "cell_type": "markdown",
      "source": [
        "## Convert categorical variable to numeric\n",
        "- For monthly dataset, we need to go through the steps because of the several categorical variables"
      ],
      "metadata": {
        "id": "qnep69Lx5CDL"
      }
    },
    {
      "cell_type": "markdown",
      "source": [
        "### StringIndexer\n",
        "\n",
        "- Convert string categorical variables to numeric variables"
      ],
      "metadata": {
        "id": "fJaceKAu5Py2"
      }
    },
    {
      "cell_type": "code",
      "source": [
        "# Categorical features in monthly dataset\n",
        "pred_var_categorical"
      ],
      "metadata": {
        "colab": {
          "base_uri": "https://localhost:8080/"
        },
        "id": "K3iWFbPTWjXF",
        "outputId": "d5b8e08a-47b5-4ebe-a099-c4d10f71c64f"
      },
      "execution_count": 118,
      "outputs": [
        {
          "output_type": "execute_result",
          "data": {
            "text/plain": [
              "['SITE_IGBP', 'MODIS_LC', 'MODIS_IGBP', 'MODIS_PFT', 'koppen_sub', 'koppen']"
            ]
          },
          "metadata": {},
          "execution_count": 118
        }
      ]
    },
    {
      "cell_type": "code",
      "source": [
        "from pyspark.ml.feature import StringIndexer, OneHotEncoder\n",
        " \n",
        "categoricalCols = pred_var_categorical\n",
        " \n",
        "# The following two lines are estimators. They return functions that we will later apply to transform the dataset.\n",
        "stringIndexer = StringIndexer(inputCols=categoricalCols, outputCols=[x + \"_Index\" for x in categoricalCols]) \n",
        "encoder = OneHotEncoder(inputCols=stringIndexer.getOutputCols(), outputCols=[x + \"_OHE\" for x in categoricalCols]) \n",
        " \n",
        "# Example\n",
        "# If the label column (\"income\") is also a string value - let's say it has two possible values, \"<=50K\" and \">50K\". \n",
        "# Convert it to a numeric value using StringIndexer.\n",
        "# labelToIndex = StringIndexer(inputCol=\"income\", outputCol=\"label\")"
      ],
      "metadata": {
        "id": "Qg50Ol3vujn5"
      },
      "execution_count": 119,
      "outputs": []
    },
    {
      "cell_type": "markdown",
      "source": [
        "For Categorical variables, new column XXX_Index is added and numerical values are assigned to each category."
      ],
      "metadata": {
        "id": "T_Ku_z_m5TT-"
      }
    },
    {
      "cell_type": "code",
      "source": [
        "# This case we run code for feature importance, not modeling /prediction \n",
        "# Therefore full dataset is provided as input\n",
        "stringIndexerModel = stringIndexer.fit(monthly_rf_NAdrop)\n",
        "monthly_rf_NAdrop_STI = stringIndexerModel.transform(monthly_rf_NAdrop) # STI = StringIndexer\n",
        "\n",
        "# Typically input data is train set/holdout set\n",
        "    # stringIndexerModel = stringIndexer.fit(train0)\n",
        "    # train0_STI = stringIndexerModel.transform(train0) # STI = StringIndexer\n",
        "    # display(train0_STI)\n",
        "\n",
        "  # same operation for holdout data\n",
        "    # stringIndexerModel = stringIndexer.fit(holdout0)\n",
        "    # holdout0_STI = stringIndexerModel.transform(holdout0) # STI = StringIndexer\n",
        "    # display(holdout0_STI)"
      ],
      "metadata": {
        "id": "oAx9rqrD5Ywj"
      },
      "execution_count": 120,
      "outputs": []
    },
    {
      "cell_type": "code",
      "source": [
        "monthly_rf_NAdrop_STI.show()"
      ],
      "metadata": {
        "colab": {
          "base_uri": "https://localhost:8080/"
        },
        "id": "Ajeqdq-0Xqie",
        "outputId": "02b70a85-a19e-440f-f4ba-ed067eb809b2"
      },
      "execution_count": 121,
      "outputs": [
        {
          "output_type": "stream",
          "name": "stdout",
          "text": [
            "+--------------+------+------+-----+-----------+---------+--------+------------+---------+-------------+------------+------------+---------+---------+-----------+----------+-----------+----------+-----------+----------+-----------+-----------+----------+----------+-----------+----------+---------+----------+------------+-----------+----------+------------+----+---+-------+---------+-----------------+------------+-------------+----+-----+---------+--------+----------+---------+----------+---------+---------------+--------------+----------------+---------------+----------------+------------+\n",
            "|GPP_NT_VUT_REF|  TA_F| VPD_F|  P_F|     NETRAD|       ET|BESS-PAR|BESS-PARdiff|BESS-RSDN|CSIF-SIFdaily|CSIF-SIFinst|         PET|       Ts|    Tmean|       prcp|       vpd|  prcp-lag3| ESACCI-sm|         b1|        b2|         b3|         b4|        b5|        b6|         b7|       EVI|      GCI|      NDVI|        NDWI|       NIRv|     kNDVI|Percent_Snow|Fpar|Lai|LST_Day|LST_Night|CO2_concentration|LOCATION_LAT|LOCATION_LONG|year|month|SITE_IGBP|MODIS_LC|MODIS_IGBP|MODIS_PFT|koppen_sub|   koppen|SITE_IGBP_Index|MODIS_LC_Index|MODIS_IGBP_Index|MODIS_PFT_Index|koppen_sub_Index|koppen_Index|\n",
            "+--------------+------+------+-----+-----------+---------+--------+------------+---------+-------------+------------+------------+---------+---------+-----------+----------+-----------+----------+-----------+----------+-----------+-----------+----------+----------+-----------+----------+---------+----------+------------+-----------+----------+------------+----+---+-------+---------+-----------------+------------+-------------+----+-----+---------+--------+----------+---------+----------+---------+---------------+--------------+----------------+---------------+----------------+------------+\n",
            "|       10.2095|28.493|23.378|0.903| 188.598814|  9.01454|     154|          40|      336|   0.20432499|  0.51662683|-0.013386652|302.46967|300.10977|0.002115019|   2.06618|0.008738702|0.15152083|  0.0844258|0.26877418|0.045316122| 0.08052903|0.30057743| 0.2505258| 0.15535806|0.32125923|2.3492026| 0.5227052| 0.035415366| 0.14050612|0.26745087|         0.0|0.49|1.2| 313.84|   293.58|           387.11|    -33.4648|     -66.4598|2010|    1|       MF|       7|       OSH|       SH|       BSk|     Arid|            8.0|           7.0|             7.0|            6.0|             6.0|         2.0|\n",
            "|       8.16307|26.673|14.369|1.986|144.2162024|7.6779733|     120|          46|      258|    0.1455303|  0.38726252|-0.008937791|298.78864|297.27515|0.003131761| 1.0901145|0.009724296|0.16655783|     0.0918| 0.2524464| 0.04803214| 0.08092143|0.29244998|0.25221428| 0.15945713|0.27830008|2.1216552|0.46684337|  4.00779E-4| 0.11781442|0.21459042|         0.0|0.43|0.9| 309.86|   292.96|          387.675|    -33.4648|     -66.4598|2010|    2|       MF|       7|       OSH|       SH|       BSk|     Arid|            8.0|           7.0|             7.0|            6.0|             6.0|         2.0|\n",
            "|       7.06222|25.744|15.167|0.371|125.6431374| 5.890317|     107|          31|      231|   0.10980482|  0.30724174|-0.008132122|297.54816| 296.4367|0.002206154| 1.1686398|0.007452934|0.16407675| 0.08556129|0.23039998| 0.04453871|0.074638695|0.26943222|0.24116449|  0.1536387|0.25689518|2.0874314|0.45834532|-0.022856813| 0.10565167|0.20721813|         0.0|0.41|0.8| 309.18|   290.52|          388.195|    -33.4648|     -66.4598|2010|    3|       MF|       7|       OSH|       SH|       BSk|     Arid|            8.0|           7.0|             7.0|            6.0|             6.0|         2.0|\n",
            "|       5.72781| 18.45| 9.185|  0.1|71.50069342|2.3456645|      81|          27|      175|  0.076728895|  0.22387202| -0.00675834|291.69604|290.61377| 2.09161E-4| 0.9461956|0.005547076|0.12401654| 0.08740333|0.21581332|     0.0453|0.074543335|   0.26009|0.23482999| 0.14688666|0.22921446|1.8959624|0.42358848|-0.042024087| 0.09139932|0.17754844|         0.0|0.36|0.5| 303.24|   286.34|          388.905|    -33.4648|     -66.4598|2010|    4|       MF|       7|       OSH|       SH|       BSk|     Arid|            8.0|           7.0|             7.0|            6.0|             6.0|         2.0|\n",
            "|       3.47763|13.493| 5.823|1.852|41.24914909|2.2079997|      56|          19|      122|  0.066020064|  0.20063505|-0.004725121|287.05652| 286.8832| 8.41617E-4| 0.7162909|0.003256932|0.14272605|0.076190315|0.19819355| 0.03887419| 0.06480969|0.23148388|0.20281611|0.124199994|0.22352917|2.0611055| 0.4453674|-0.010640754| 0.08814689|0.19591969|         0.0|0.37|0.5|  296.2|   277.82|           389.32|    -33.4648|     -66.4598|2010|    5|       MF|       7|       OSH|       SH|       BSk|     Arid|            8.0|           7.0|             7.0|            6.0|             6.0|         2.0|\n",
            "|       2.77385|11.273| 5.219| 0.03| 30.2579338|1.7267979|      48|          15|      105|  0.055993885|  0.17740785|-0.003966339|284.32104|284.76154| 2.66855E-4|0.57913876|0.001317633|0.15315518|0.071046665|0.17955999|0.038123343| 0.06306333|0.21496001|0.19131334| 0.12397998|0.20550561|1.8486056| 0.4330553|  -0.0314929| 0.07776146| 0.1854466|         0.0|0.33|0.4| 293.18|    276.8|           389.16|    -33.4648|     -66.4598|2010|    6|       MF|       7|       OSH|       SH|       BSk|     Arid|            8.0|           7.0|             7.0|            6.0|             6.0|         2.0|\n",
            "|       3.74133| 8.131| 4.949|0.003|46.75980628|1.7385347|      58|          15|      129|  0.044577617|  0.14184037|-0.004890211|282.39343|282.44458|    6.62E-5| 0.6524327| 0.00117464|0.11506776| 0.07951935|0.17683226|0.042067744| 0.06696773|0.21454516| 0.2047129| 0.13839355|0.18182558|1.6429125| 0.3800115| -0.07298639|0.067186974|0.14383936|         0.0|0.32|0.4| 292.12|   271.64|          388.495|    -33.4648|     -66.4598|2010|    7|       MF|       7|       OSH|       SH|       BSk|     Arid|            8.0|           7.0|             7.0|            6.0|             6.0|         2.0|\n",
            "|        4.9923|12.124| 7.232|0.148|55.41014468|1.7703171|      72|          23|      158|   0.03940548| 0.118864134|-0.006607018|285.98975|285.50317| 3.56059E-4| 0.8266134| 6.89082E-4|0.12942678| 0.09146129|0.18079355|0.048974194|0.075180635|0.22952907|0.23047417|  0.1616032|0.16395012|1.4065467| 0.3283708| -0.12023627| 0.05933451|0.10749994|         0.0|0.26|0.3| 298.98|   276.72|          387.915|    -33.4648|     -66.4598|2010|    8|       MF|       7|       OSH|       SH|       BSk|     Arid|            8.0|           7.0|             7.0|            6.0|             6.0|         2.0|\n",
            "|        6.2686|16.113| 9.808|1.283|86.53253167|2.7933466|      92|          30|      202|  0.043048184| 0.118709184|-0.007369228|289.56998|288.48505|0.002409217|0.89762795|0.002831445|0.14007734|0.101566665| 0.1950833| 0.05354333| 0.08152667|0.25225836|    0.2574| 0.18707831|0.16664456|1.3936689| 0.3154251| -0.13769455|0.061513435|0.09918764|         0.0|0.25|0.4| 303.02|   281.76|           387.31|    -33.4648|     -66.4598|2010|    9|       MF|       7|       OSH|       SH|       BSk|     Arid|            8.0|           7.0|             7.0|            6.0|             6.0|         2.0|\n",
            "|       7.98788|19.115| 12.24|2.671|139.2401875|4.8010826|     124|          35|      271|  0.076557115|  0.19472006|-0.009151526| 292.5633|291.09125|0.002530932| 1.0285672|0.005296208|0.16722338| 0.10122257|0.21530966| 0.05306129|  0.0860129|0.26885805|0.26544514| 0.18909998|0.19995353|1.5004112| 0.3590074| -0.10536736|0.077747405| 0.1290034|         0.0|0.32|0.6| 305.08|   283.92|           387.55|    -33.4648|     -66.4598|2010|   10|       MF|       7|       OSH|       SH|       BSk|     Arid|            8.0|           7.0|             7.0|            6.0|             6.0|         2.0|\n",
            "|       10.4461|22.858|16.296| 0.81|173.9497797|5.8108234|     147|          39|      322|   0.10822074|  0.26523668| -0.01190903|298.02554|295.46375|0.001110932| 1.6364233|0.006051082|0.14072989| 0.10894999|0.24585332| 0.05752999|0.094583325|0.29778334| 0.2814067| 0.19225997| 0.2331288|1.5993953|0.38592288| -0.06737776| 0.09486858|0.14786734|         0.0|0.38|0.8| 311.82|    288.0|          388.235|    -33.4648|     -66.4598|2010|   11|       MF|       7|       OSH|       SH|       BSk|     Arid|            8.0|           7.0|             7.0|            6.0|             6.0|         2.0|\n",
            "|       10.0834|26.557|23.211|1.452| 189.600544| 5.165505|     157|          38|      344|   0.09730604|  0.23855111|-0.014495663| 303.0575|299.54413| 7.41054E-4| 2.4140742|0.004382919|0.14455558| 0.11138387|0.24245161| 0.05899677| 0.09506773|0.29779354| 0.2889032| 0.20476452|0.22321212|1.5519823| 0.3706127| -0.08736732| 0.08984783| 0.1366967|         0.0|0.35|0.7|  316.2|    291.4|           388.75|    -33.4648|     -66.4598|2010|   12|       MF|       7|       OSH|       SH|       BSk|     Arid|            8.0|           7.0|             7.0|            6.0|             6.0|         2.0|\n",
            "|       16.6069|25.883|11.893|6.909|140.3802855|7.0882072|     117|          36|      250|   0.35580766|   1.0070577| -0.00634148|297.72784| 297.6535|0.003653176| 0.7823387|0.015916646|0.32501653|0.039254833|0.32290646|0.019277416| 0.05246451| 0.3135387|0.17214517|0.067348376|0.50148696|5.1558065| 0.7831489|  0.30432472| 0.25290942|0.54645747|         0.0|0.78|3.5| 302.72|   292.26|          388.195|    -28.2395|     -56.1886|2010|    3|      ENF|       9|       SAV|       SA|       Cfa|Temperate|            0.0|           3.0|             3.0|            0.0|             5.0|         1.0|\n",
            "|       11.6896|21.085| 9.315|4.921|87.98953764| 4.957915|      80|          29|      172|    0.2839798|    0.829127|-0.005368337|293.50464|293.65088|0.003299312| 0.6776179|0.011770017|0.32063323|0.040218335|0.29168501|0.020366669| 0.04804333|  0.291545|0.16847333|0.065976664|0.45521393| 5.070083|0.75729454|   0.2673957| 0.22097366|0.51789534|         0.0|0.73|2.8|  298.5|    287.4|          388.905|    -28.2395|     -56.1886|2010|    4|      ENF|       9|       SAV|       SA|       Cfa|Temperate|            0.0|           3.0|             3.0|            0.0|             5.0|         1.0|\n",
            "|        12.578|20.053| 6.849|3.709|140.7111408| 8.240307|     119|          41|      260|   0.25308308|  0.65763813|-0.006693386| 292.3426|292.14008| 0.00380671|0.65856665| 0.01381997|0.37036404| 0.04885806|0.25399998|0.023638709|0.054706447|0.27477098|0.19271934|  0.0966129|0.37418348|3.6415005| 0.6769556|  0.13657345| 0.17206027| 0.4286881|         0.0|0.64|2.4|  301.3|   285.58|           387.55|    -28.2395|     -56.1886|2010|   10|      ENF|       9|       SAV|       SA|       Cfa|Temperate|            0.0|           3.0|             3.0|            0.0|             5.0|         1.0|\n",
            "|        13.011|22.824|11.504|3.075|176.6007384| 9.541467|     143|          40|      313|   0.31803423|   0.7991435|-0.009438761|296.23062|295.66296| 9.31888E-4| 1.2130878|0.014042678|0.30845198|0.057359993|0.29386336|0.027753327| 0.06541999|   0.31567|0.21955997|0.111049995|0.41336912|3.4938533| 0.6734622|  0.14476806| 0.19788575|0.42482123|         0.0|0.67|2.8|  304.5|   287.16|          388.235|    -28.2395|     -56.1886|2010|   11|      ENF|       9|       SAV|       SA|       Cfa|Temperate|            0.0|           3.0|             3.0|            0.0|             5.0|         1.0|\n",
            "|       15.5007|26.039|13.026|5.026| 170.025408| 8.843316|     132|          48|      282|    0.3697338|  0.93288314|-0.007714525|298.17078|297.97382|0.007306484|0.91176283|0.012045081|0.34871957| 0.05444839|0.31505162|0.026561288| 0.06672258|0.32610002|0.21619034| 0.10154516| 0.4514909| 3.720321|0.70482177|  0.18570562|  0.2222497| 0.4595932|         0.0| 0.7|3.2| 306.02|   291.66|           388.75|    -28.2395|     -56.1886|2010|   12|      ENF|       9|       SAV|       SA|       Cfa|Temperate|            0.0|           3.0|             3.0|            0.0|             5.0|         1.0|\n",
            "|       9.53072|25.919|14.784|1.452|189.1051942| 9.281486|     150|          47|      324|    0.3494609|   0.9085131| -0.01105988|301.64825| 300.6665|0.001870857| 1.7350304|0.009305812|0.26168758| 0.06387419| 0.3275161|0.031280644|0.070906445| 0.3460742| 0.2344516| 0.11076774|0.44647938| 3.620046|0.67362356|  0.16564138| 0.22062938|0.42500442|         0.0|0.69|3.1| 309.94|   292.14|          391.225|    -28.2395|     -56.1886|2012|    1|      ENF|       9|       SAV|       SA|       Cfa|Temperate|            0.0|           3.0|             3.0|            0.0|             5.0|         1.0|\n",
            "|       9.59927|27.029|13.938|2.527|150.5470389|6.7530193|     121|          52|      255|   0.26720712|  0.72544396| -0.00967826| 302.7314| 301.5807|0.002279734| 1.6173695|0.006079263| 0.2692186| 0.06477931| 0.2922965|0.031231033| 0.06542069|0.32060343|0.23018274| 0.11693103|0.39317164| 3.470528| 0.6372466|   0.1188409| 0.18631247|0.38526174|         0.0|0.61|2.5| 311.02|   292.78|            391.4|    -28.2395|     -56.1886|2012|    2|      ENF|       9|       SAV|       SA|       Cfa|Temperate|            0.0|           3.0|             3.0|            0.0|             5.0|         1.0|\n",
            "|       11.1693|23.956|13.028| 0.92|143.7843416| 7.384266|     119|          36|      259|   0.27218473|   0.7705264|-0.008565038|299.28296|298.21295|0.001913611| 1.4181602|0.006064202|0.26918423| 0.05081613|0.28540322|0.024596771|0.056532264|0.30587095| 0.2093419| 0.09800967|0.41718146| 4.052398| 0.6976615|  0.15375136| 0.19915885|0.45163572|         0.0|0.71|2.8| 307.62|   290.46|           391.77|    -28.2395|     -56.1886|2012|    3|      ENF|       9|       SAV|       SA|       Cfa|Temperate|            0.0|           3.0|             3.0|            0.0|             5.0|         1.0|\n",
            "+--------------+------+------+-----+-----------+---------+--------+------------+---------+-------------+------------+------------+---------+---------+-----------+----------+-----------+----------+-----------+----------+-----------+-----------+----------+----------+-----------+----------+---------+----------+------------+-----------+----------+------------+----+---+-------+---------+-----------------+------------+-------------+----+-----+---------+--------+----------+---------+----------+---------+---------------+--------------+----------------+---------------+----------------+------------+\n",
            "only showing top 20 rows\n",
            "\n"
          ]
        }
      ]
    },
    {
      "cell_type": "markdown",
      "source": [
        "### OneHotEncoder\n",
        "\n",
        "Transform the string values by `stringIndexer.fit` `stringIndexer.transform` first, and then use OneHotEncoder.\n",
        "\n",
        "This link is helpful to understand the structure of column generated by `OneHotEncoder`\n",
        "https://www.skytowner.com/explore/one_hot_encoding_in_pyspark"
      ],
      "metadata": {
        "id": "0C2qcge55TLh"
      }
    },
    {
      "cell_type": "code",
      "source": [
        "\n",
        "# 'MODIS_LC_Index' -> 'MODIS_LC_OHE' \n",
        "# 'MODIS_IGBP_Index' -> 'MODIS_IGBP_OHE' \n",
        "# 'MODIS_PFT_Index' -> 'MODIS_PFT_OHE'\n",
        "# 'koppen_sub_Index' -> 'koppen_sub_OHE'\n",
        "# 'koppen_Index' -> 'koppen_OHE'\n",
        "\n",
        "# OHE = OneHotEncoding\n",
        "encoder = OneHotEncoder(inputCols=['SITE_IGBP_Index', 'MODIS_LC_Index',\n",
        "                                   'MODIS_IGBP_Index', 'MODIS_PFT_Index',\n",
        "                                   'koppen_sub_Index', 'koppen_Index'],\n",
        "                        outputCols=['SITE_IGBP_OHE', 'MODIS_LC_OHE',\n",
        "                                    'MODIS_IGBP_OHE', 'MODIS_PFT_OHE',\n",
        "                                    'koppen_sub_OHE', 'koppen_OHE'])\n",
        "model = encoder.fit(monthly_rf_NAdrop_STI)\n",
        "monthly_rf_NAdrop_OHE = model.transform(monthly_rf_NAdrop_STI)\n",
        "monthly_rf_NAdrop_OHE.show()\n",
        "\n",
        "# model = encoder.fit(holdout0_STI)\n",
        "# holdout0_OHE = model.transform(holdout0_STI)\n",
        "# display(holdout0_OHE)"
      ],
      "metadata": {
        "id": "VN2T1rt4ujl4",
        "colab": {
          "base_uri": "https://localhost:8080/"
        },
        "outputId": "0c1c81a4-3d50-4b17-dbab-329e1681535d"
      },
      "execution_count": 122,
      "outputs": [
        {
          "output_type": "stream",
          "name": "stdout",
          "text": [
            "+--------------+------+------+-----+-----------+---------+--------+------------+---------+-------------+------------+------------+---------+---------+-----------+----------+-----------+----------+-----------+----------+-----------+-----------+----------+----------+-----------+----------+---------+----------+------------+-----------+----------+------------+----+---+-------+---------+-----------------+------------+-------------+----+-----+---------+--------+----------+---------+----------+---------+---------------+--------------+----------------+---------------+----------------+------------+--------------+--------------+--------------+-------------+--------------+-------------+\n",
            "|GPP_NT_VUT_REF|  TA_F| VPD_F|  P_F|     NETRAD|       ET|BESS-PAR|BESS-PARdiff|BESS-RSDN|CSIF-SIFdaily|CSIF-SIFinst|         PET|       Ts|    Tmean|       prcp|       vpd|  prcp-lag3| ESACCI-sm|         b1|        b2|         b3|         b4|        b5|        b6|         b7|       EVI|      GCI|      NDVI|        NDWI|       NIRv|     kNDVI|Percent_Snow|Fpar|Lai|LST_Day|LST_Night|CO2_concentration|LOCATION_LAT|LOCATION_LONG|year|month|SITE_IGBP|MODIS_LC|MODIS_IGBP|MODIS_PFT|koppen_sub|   koppen|SITE_IGBP_Index|MODIS_LC_Index|MODIS_IGBP_Index|MODIS_PFT_Index|koppen_sub_Index|koppen_Index| SITE_IGBP_OHE|  MODIS_LC_OHE|MODIS_IGBP_OHE|MODIS_PFT_OHE|koppen_sub_OHE|   koppen_OHE|\n",
            "+--------------+------+------+-----+-----------+---------+--------+------------+---------+-------------+------------+------------+---------+---------+-----------+----------+-----------+----------+-----------+----------+-----------+-----------+----------+----------+-----------+----------+---------+----------+------------+-----------+----------+------------+----+---+-------+---------+-----------------+------------+-------------+----+-----+---------+--------+----------+---------+----------+---------+---------------+--------------+----------------+---------------+----------------+------------+--------------+--------------+--------------+-------------+--------------+-------------+\n",
            "|       10.2095|28.493|23.378|0.903| 188.598814|  9.01454|     154|          40|      336|   0.20432499|  0.51662683|-0.013386652|302.46967|300.10977|0.002115019|   2.06618|0.008738702|0.15152083|  0.0844258|0.26877418|0.045316122| 0.08052903|0.30057743| 0.2505258| 0.15535806|0.32125923|2.3492026| 0.5227052| 0.035415366| 0.14050612|0.26745087|         0.0|0.49|1.2| 313.84|   293.58|           387.11|    -33.4648|     -66.4598|2010|    1|       MF|       7|       OSH|       SH|       BSk|     Arid|            8.0|           7.0|             7.0|            6.0|             6.0|         2.0|(10,[8],[1.0])|(13,[7],[1.0])|(13,[7],[1.0])|(8,[6],[1.0])|(20,[6],[1.0])|(4,[2],[1.0])|\n",
            "|       8.16307|26.673|14.369|1.986|144.2162024|7.6779733|     120|          46|      258|    0.1455303|  0.38726252|-0.008937791|298.78864|297.27515|0.003131761| 1.0901145|0.009724296|0.16655783|     0.0918| 0.2524464| 0.04803214| 0.08092143|0.29244998|0.25221428| 0.15945713|0.27830008|2.1216552|0.46684337|  4.00779E-4| 0.11781442|0.21459042|         0.0|0.43|0.9| 309.86|   292.96|          387.675|    -33.4648|     -66.4598|2010|    2|       MF|       7|       OSH|       SH|       BSk|     Arid|            8.0|           7.0|             7.0|            6.0|             6.0|         2.0|(10,[8],[1.0])|(13,[7],[1.0])|(13,[7],[1.0])|(8,[6],[1.0])|(20,[6],[1.0])|(4,[2],[1.0])|\n",
            "|       7.06222|25.744|15.167|0.371|125.6431374| 5.890317|     107|          31|      231|   0.10980482|  0.30724174|-0.008132122|297.54816| 296.4367|0.002206154| 1.1686398|0.007452934|0.16407675| 0.08556129|0.23039998| 0.04453871|0.074638695|0.26943222|0.24116449|  0.1536387|0.25689518|2.0874314|0.45834532|-0.022856813| 0.10565167|0.20721813|         0.0|0.41|0.8| 309.18|   290.52|          388.195|    -33.4648|     -66.4598|2010|    3|       MF|       7|       OSH|       SH|       BSk|     Arid|            8.0|           7.0|             7.0|            6.0|             6.0|         2.0|(10,[8],[1.0])|(13,[7],[1.0])|(13,[7],[1.0])|(8,[6],[1.0])|(20,[6],[1.0])|(4,[2],[1.0])|\n",
            "|       5.72781| 18.45| 9.185|  0.1|71.50069342|2.3456645|      81|          27|      175|  0.076728895|  0.22387202| -0.00675834|291.69604|290.61377| 2.09161E-4| 0.9461956|0.005547076|0.12401654| 0.08740333|0.21581332|     0.0453|0.074543335|   0.26009|0.23482999| 0.14688666|0.22921446|1.8959624|0.42358848|-0.042024087| 0.09139932|0.17754844|         0.0|0.36|0.5| 303.24|   286.34|          388.905|    -33.4648|     -66.4598|2010|    4|       MF|       7|       OSH|       SH|       BSk|     Arid|            8.0|           7.0|             7.0|            6.0|             6.0|         2.0|(10,[8],[1.0])|(13,[7],[1.0])|(13,[7],[1.0])|(8,[6],[1.0])|(20,[6],[1.0])|(4,[2],[1.0])|\n",
            "|       3.47763|13.493| 5.823|1.852|41.24914909|2.2079997|      56|          19|      122|  0.066020064|  0.20063505|-0.004725121|287.05652| 286.8832| 8.41617E-4| 0.7162909|0.003256932|0.14272605|0.076190315|0.19819355| 0.03887419| 0.06480969|0.23148388|0.20281611|0.124199994|0.22352917|2.0611055| 0.4453674|-0.010640754| 0.08814689|0.19591969|         0.0|0.37|0.5|  296.2|   277.82|           389.32|    -33.4648|     -66.4598|2010|    5|       MF|       7|       OSH|       SH|       BSk|     Arid|            8.0|           7.0|             7.0|            6.0|             6.0|         2.0|(10,[8],[1.0])|(13,[7],[1.0])|(13,[7],[1.0])|(8,[6],[1.0])|(20,[6],[1.0])|(4,[2],[1.0])|\n",
            "|       2.77385|11.273| 5.219| 0.03| 30.2579338|1.7267979|      48|          15|      105|  0.055993885|  0.17740785|-0.003966339|284.32104|284.76154| 2.66855E-4|0.57913876|0.001317633|0.15315518|0.071046665|0.17955999|0.038123343| 0.06306333|0.21496001|0.19131334| 0.12397998|0.20550561|1.8486056| 0.4330553|  -0.0314929| 0.07776146| 0.1854466|         0.0|0.33|0.4| 293.18|    276.8|           389.16|    -33.4648|     -66.4598|2010|    6|       MF|       7|       OSH|       SH|       BSk|     Arid|            8.0|           7.0|             7.0|            6.0|             6.0|         2.0|(10,[8],[1.0])|(13,[7],[1.0])|(13,[7],[1.0])|(8,[6],[1.0])|(20,[6],[1.0])|(4,[2],[1.0])|\n",
            "|       3.74133| 8.131| 4.949|0.003|46.75980628|1.7385347|      58|          15|      129|  0.044577617|  0.14184037|-0.004890211|282.39343|282.44458|    6.62E-5| 0.6524327| 0.00117464|0.11506776| 0.07951935|0.17683226|0.042067744| 0.06696773|0.21454516| 0.2047129| 0.13839355|0.18182558|1.6429125| 0.3800115| -0.07298639|0.067186974|0.14383936|         0.0|0.32|0.4| 292.12|   271.64|          388.495|    -33.4648|     -66.4598|2010|    7|       MF|       7|       OSH|       SH|       BSk|     Arid|            8.0|           7.0|             7.0|            6.0|             6.0|         2.0|(10,[8],[1.0])|(13,[7],[1.0])|(13,[7],[1.0])|(8,[6],[1.0])|(20,[6],[1.0])|(4,[2],[1.0])|\n",
            "|        4.9923|12.124| 7.232|0.148|55.41014468|1.7703171|      72|          23|      158|   0.03940548| 0.118864134|-0.006607018|285.98975|285.50317| 3.56059E-4| 0.8266134| 6.89082E-4|0.12942678| 0.09146129|0.18079355|0.048974194|0.075180635|0.22952907|0.23047417|  0.1616032|0.16395012|1.4065467| 0.3283708| -0.12023627| 0.05933451|0.10749994|         0.0|0.26|0.3| 298.98|   276.72|          387.915|    -33.4648|     -66.4598|2010|    8|       MF|       7|       OSH|       SH|       BSk|     Arid|            8.0|           7.0|             7.0|            6.0|             6.0|         2.0|(10,[8],[1.0])|(13,[7],[1.0])|(13,[7],[1.0])|(8,[6],[1.0])|(20,[6],[1.0])|(4,[2],[1.0])|\n",
            "|        6.2686|16.113| 9.808|1.283|86.53253167|2.7933466|      92|          30|      202|  0.043048184| 0.118709184|-0.007369228|289.56998|288.48505|0.002409217|0.89762795|0.002831445|0.14007734|0.101566665| 0.1950833| 0.05354333| 0.08152667|0.25225836|    0.2574| 0.18707831|0.16664456|1.3936689| 0.3154251| -0.13769455|0.061513435|0.09918764|         0.0|0.25|0.4| 303.02|   281.76|           387.31|    -33.4648|     -66.4598|2010|    9|       MF|       7|       OSH|       SH|       BSk|     Arid|            8.0|           7.0|             7.0|            6.0|             6.0|         2.0|(10,[8],[1.0])|(13,[7],[1.0])|(13,[7],[1.0])|(8,[6],[1.0])|(20,[6],[1.0])|(4,[2],[1.0])|\n",
            "|       7.98788|19.115| 12.24|2.671|139.2401875|4.8010826|     124|          35|      271|  0.076557115|  0.19472006|-0.009151526| 292.5633|291.09125|0.002530932| 1.0285672|0.005296208|0.16722338| 0.10122257|0.21530966| 0.05306129|  0.0860129|0.26885805|0.26544514| 0.18909998|0.19995353|1.5004112| 0.3590074| -0.10536736|0.077747405| 0.1290034|         0.0|0.32|0.6| 305.08|   283.92|           387.55|    -33.4648|     -66.4598|2010|   10|       MF|       7|       OSH|       SH|       BSk|     Arid|            8.0|           7.0|             7.0|            6.0|             6.0|         2.0|(10,[8],[1.0])|(13,[7],[1.0])|(13,[7],[1.0])|(8,[6],[1.0])|(20,[6],[1.0])|(4,[2],[1.0])|\n",
            "|       10.4461|22.858|16.296| 0.81|173.9497797|5.8108234|     147|          39|      322|   0.10822074|  0.26523668| -0.01190903|298.02554|295.46375|0.001110932| 1.6364233|0.006051082|0.14072989| 0.10894999|0.24585332| 0.05752999|0.094583325|0.29778334| 0.2814067| 0.19225997| 0.2331288|1.5993953|0.38592288| -0.06737776| 0.09486858|0.14786734|         0.0|0.38|0.8| 311.82|    288.0|          388.235|    -33.4648|     -66.4598|2010|   11|       MF|       7|       OSH|       SH|       BSk|     Arid|            8.0|           7.0|             7.0|            6.0|             6.0|         2.0|(10,[8],[1.0])|(13,[7],[1.0])|(13,[7],[1.0])|(8,[6],[1.0])|(20,[6],[1.0])|(4,[2],[1.0])|\n",
            "|       10.0834|26.557|23.211|1.452| 189.600544| 5.165505|     157|          38|      344|   0.09730604|  0.23855111|-0.014495663| 303.0575|299.54413| 7.41054E-4| 2.4140742|0.004382919|0.14455558| 0.11138387|0.24245161| 0.05899677| 0.09506773|0.29779354| 0.2889032| 0.20476452|0.22321212|1.5519823| 0.3706127| -0.08736732| 0.08984783| 0.1366967|         0.0|0.35|0.7|  316.2|    291.4|           388.75|    -33.4648|     -66.4598|2010|   12|       MF|       7|       OSH|       SH|       BSk|     Arid|            8.0|           7.0|             7.0|            6.0|             6.0|         2.0|(10,[8],[1.0])|(13,[7],[1.0])|(13,[7],[1.0])|(8,[6],[1.0])|(20,[6],[1.0])|(4,[2],[1.0])|\n",
            "|       16.6069|25.883|11.893|6.909|140.3802855|7.0882072|     117|          36|      250|   0.35580766|   1.0070577| -0.00634148|297.72784| 297.6535|0.003653176| 0.7823387|0.015916646|0.32501653|0.039254833|0.32290646|0.019277416| 0.05246451| 0.3135387|0.17214517|0.067348376|0.50148696|5.1558065| 0.7831489|  0.30432472| 0.25290942|0.54645747|         0.0|0.78|3.5| 302.72|   292.26|          388.195|    -28.2395|     -56.1886|2010|    3|      ENF|       9|       SAV|       SA|       Cfa|Temperate|            0.0|           3.0|             3.0|            0.0|             5.0|         1.0|(10,[0],[1.0])|(13,[3],[1.0])|(13,[3],[1.0])|(8,[0],[1.0])|(20,[5],[1.0])|(4,[1],[1.0])|\n",
            "|       11.6896|21.085| 9.315|4.921|87.98953764| 4.957915|      80|          29|      172|    0.2839798|    0.829127|-0.005368337|293.50464|293.65088|0.003299312| 0.6776179|0.011770017|0.32063323|0.040218335|0.29168501|0.020366669| 0.04804333|  0.291545|0.16847333|0.065976664|0.45521393| 5.070083|0.75729454|   0.2673957| 0.22097366|0.51789534|         0.0|0.73|2.8|  298.5|    287.4|          388.905|    -28.2395|     -56.1886|2010|    4|      ENF|       9|       SAV|       SA|       Cfa|Temperate|            0.0|           3.0|             3.0|            0.0|             5.0|         1.0|(10,[0],[1.0])|(13,[3],[1.0])|(13,[3],[1.0])|(8,[0],[1.0])|(20,[5],[1.0])|(4,[1],[1.0])|\n",
            "|        12.578|20.053| 6.849|3.709|140.7111408| 8.240307|     119|          41|      260|   0.25308308|  0.65763813|-0.006693386| 292.3426|292.14008| 0.00380671|0.65856665| 0.01381997|0.37036404| 0.04885806|0.25399998|0.023638709|0.054706447|0.27477098|0.19271934|  0.0966129|0.37418348|3.6415005| 0.6769556|  0.13657345| 0.17206027| 0.4286881|         0.0|0.64|2.4|  301.3|   285.58|           387.55|    -28.2395|     -56.1886|2010|   10|      ENF|       9|       SAV|       SA|       Cfa|Temperate|            0.0|           3.0|             3.0|            0.0|             5.0|         1.0|(10,[0],[1.0])|(13,[3],[1.0])|(13,[3],[1.0])|(8,[0],[1.0])|(20,[5],[1.0])|(4,[1],[1.0])|\n",
            "|        13.011|22.824|11.504|3.075|176.6007384| 9.541467|     143|          40|      313|   0.31803423|   0.7991435|-0.009438761|296.23062|295.66296| 9.31888E-4| 1.2130878|0.014042678|0.30845198|0.057359993|0.29386336|0.027753327| 0.06541999|   0.31567|0.21955997|0.111049995|0.41336912|3.4938533| 0.6734622|  0.14476806| 0.19788575|0.42482123|         0.0|0.67|2.8|  304.5|   287.16|          388.235|    -28.2395|     -56.1886|2010|   11|      ENF|       9|       SAV|       SA|       Cfa|Temperate|            0.0|           3.0|             3.0|            0.0|             5.0|         1.0|(10,[0],[1.0])|(13,[3],[1.0])|(13,[3],[1.0])|(8,[0],[1.0])|(20,[5],[1.0])|(4,[1],[1.0])|\n",
            "|       15.5007|26.039|13.026|5.026| 170.025408| 8.843316|     132|          48|      282|    0.3697338|  0.93288314|-0.007714525|298.17078|297.97382|0.007306484|0.91176283|0.012045081|0.34871957| 0.05444839|0.31505162|0.026561288| 0.06672258|0.32610002|0.21619034| 0.10154516| 0.4514909| 3.720321|0.70482177|  0.18570562|  0.2222497| 0.4595932|         0.0| 0.7|3.2| 306.02|   291.66|           388.75|    -28.2395|     -56.1886|2010|   12|      ENF|       9|       SAV|       SA|       Cfa|Temperate|            0.0|           3.0|             3.0|            0.0|             5.0|         1.0|(10,[0],[1.0])|(13,[3],[1.0])|(13,[3],[1.0])|(8,[0],[1.0])|(20,[5],[1.0])|(4,[1],[1.0])|\n",
            "|       9.53072|25.919|14.784|1.452|189.1051942| 9.281486|     150|          47|      324|    0.3494609|   0.9085131| -0.01105988|301.64825| 300.6665|0.001870857| 1.7350304|0.009305812|0.26168758| 0.06387419| 0.3275161|0.031280644|0.070906445| 0.3460742| 0.2344516| 0.11076774|0.44647938| 3.620046|0.67362356|  0.16564138| 0.22062938|0.42500442|         0.0|0.69|3.1| 309.94|   292.14|          391.225|    -28.2395|     -56.1886|2012|    1|      ENF|       9|       SAV|       SA|       Cfa|Temperate|            0.0|           3.0|             3.0|            0.0|             5.0|         1.0|(10,[0],[1.0])|(13,[3],[1.0])|(13,[3],[1.0])|(8,[0],[1.0])|(20,[5],[1.0])|(4,[1],[1.0])|\n",
            "|       9.59927|27.029|13.938|2.527|150.5470389|6.7530193|     121|          52|      255|   0.26720712|  0.72544396| -0.00967826| 302.7314| 301.5807|0.002279734| 1.6173695|0.006079263| 0.2692186| 0.06477931| 0.2922965|0.031231033| 0.06542069|0.32060343|0.23018274| 0.11693103|0.39317164| 3.470528| 0.6372466|   0.1188409| 0.18631247|0.38526174|         0.0|0.61|2.5| 311.02|   292.78|            391.4|    -28.2395|     -56.1886|2012|    2|      ENF|       9|       SAV|       SA|       Cfa|Temperate|            0.0|           3.0|             3.0|            0.0|             5.0|         1.0|(10,[0],[1.0])|(13,[3],[1.0])|(13,[3],[1.0])|(8,[0],[1.0])|(20,[5],[1.0])|(4,[1],[1.0])|\n",
            "|       11.1693|23.956|13.028| 0.92|143.7843416| 7.384266|     119|          36|      259|   0.27218473|   0.7705264|-0.008565038|299.28296|298.21295|0.001913611| 1.4181602|0.006064202|0.26918423| 0.05081613|0.28540322|0.024596771|0.056532264|0.30587095| 0.2093419| 0.09800967|0.41718146| 4.052398| 0.6976615|  0.15375136| 0.19915885|0.45163572|         0.0|0.71|2.8| 307.62|   290.46|           391.77|    -28.2395|     -56.1886|2012|    3|      ENF|       9|       SAV|       SA|       Cfa|Temperate|            0.0|           3.0|             3.0|            0.0|             5.0|         1.0|(10,[0],[1.0])|(13,[3],[1.0])|(13,[3],[1.0])|(8,[0],[1.0])|(20,[5],[1.0])|(4,[1],[1.0])|\n",
            "+--------------+------+------+-----+-----------+---------+--------+------------+---------+-------------+------------+------------+---------+---------+-----------+----------+-----------+----------+-----------+----------+-----------+-----------+----------+----------+-----------+----------+---------+----------+------------+-----------+----------+------------+----+---+-------+---------+-----------------+------------+-------------+----+-----+---------+--------+----------+---------+----------+---------+---------------+--------------+----------------+---------------+----------------+------------+--------------+--------------+--------------+-------------+--------------+-------------+\n",
            "only showing top 20 rows\n",
            "\n"
          ]
        }
      ]
    },
    {
      "cell_type": "markdown",
      "source": [
        "## Assemble features"
      ],
      "metadata": {
        "id": "CKKtnegD5kF_"
      }
    },
    {
      "cell_type": "markdown",
      "source": [
        "### Update feature list(If categorical vairable exists)"
      ],
      "metadata": {
        "id": "F_TSSLabA-Pu"
      }
    },
    {
      "cell_type": "code",
      "source": [
        "# New feature list with OHE variables\n",
        "\n",
        "# Keep original list for numeric features\n",
        "pred_var_numeric = ['TA_F', 'VPD_F', 'P_F', 'NETRAD','ET',\n",
        "                    'BESS-PAR', 'BESS-PARdiff','BESS-RSDN', \n",
        "                    'CSIF-SIFdaily', 'CSIF-SIFinst','PET', 'Ts', 'Tmean',\n",
        "                    'prcp', 'vpd', 'prcp-lag3', 'ESACCI-sm',\n",
        "                    'b1', 'b2', 'b3','b4', 'b5', 'b6', 'b7', \n",
        "                    'EVI', 'GCI', 'NDVI', 'NDWI', 'NIRv', 'kNDVI',\n",
        "                    'Percent_Snow', 'Fpar', 'Lai', 'LST_Day', 'LST_Night', \n",
        "                    'CO2_concentration', 'LOCATION_LAT', 'LOCATION_LONG',\n",
        "                    'year', 'month']\n",
        "\n",
        "# Update variable names of categorical features\n",
        "# Original: pred_var_categorical = ['SITE_IGBP','MODIS_LC', 'MODIS_IGBP','MODIS_PFT', 'koppen_sub', 'koppen']\n",
        "pred_var_categorical_OHE = ['SITE_IGBP_OHE','MODIS_LC_OHE', 'MODIS_IGBP_OHE','MODIS_PFT_OHE',\n",
        "                        'koppen_sub_OHE', 'koppen_OHE']\n",
        "\n",
        "feature_list = pred_var_numeric + pred_var_categorical_OHE\n"
      ],
      "metadata": {
        "id": "vF_ycudxBTEs"
      },
      "execution_count": 127,
      "outputs": []
    },
    {
      "cell_type": "code",
      "source": [
        "# Updated feature list\n",
        "feature_list"
      ],
      "metadata": {
        "colab": {
          "base_uri": "https://localhost:8080/"
        },
        "id": "aksUj0joujfG",
        "outputId": "0291b82e-db98-4706-f959-d6a14849e6e8"
      },
      "execution_count": 128,
      "outputs": [
        {
          "output_type": "execute_result",
          "data": {
            "text/plain": [
              "['TA_F',\n",
              " 'VPD_F',\n",
              " 'P_F',\n",
              " 'NETRAD',\n",
              " 'ET',\n",
              " 'BESS-PAR',\n",
              " 'BESS-PARdiff',\n",
              " 'BESS-RSDN',\n",
              " 'CSIF-SIFdaily',\n",
              " 'CSIF-SIFinst',\n",
              " 'PET',\n",
              " 'Ts',\n",
              " 'Tmean',\n",
              " 'prcp',\n",
              " 'vpd',\n",
              " 'prcp-lag3',\n",
              " 'ESACCI-sm',\n",
              " 'b1',\n",
              " 'b2',\n",
              " 'b3',\n",
              " 'b4',\n",
              " 'b5',\n",
              " 'b6',\n",
              " 'b7',\n",
              " 'EVI',\n",
              " 'GCI',\n",
              " 'NDVI',\n",
              " 'NDWI',\n",
              " 'NIRv',\n",
              " 'kNDVI',\n",
              " 'Percent_Snow',\n",
              " 'Fpar',\n",
              " 'Lai',\n",
              " 'LST_Day',\n",
              " 'LST_Night',\n",
              " 'CO2_concentration',\n",
              " 'LOCATION_LAT',\n",
              " 'LOCATION_LONG',\n",
              " 'year',\n",
              " 'month',\n",
              " 'SITE_IGBP_OHE',\n",
              " 'MODIS_LC_OHE',\n",
              " 'MODIS_IGBP_OHE',\n",
              " 'MODIS_PFT_OHE',\n",
              " 'koppen_sub_OHE',\n",
              " 'koppen_OHE']"
            ]
          },
          "metadata": {},
          "execution_count": 128
        }
      ]
    },
    {
      "cell_type": "code",
      "source": [
        "# Assemble features\n",
        "assembler = VectorAssembler().setInputCols(feature_list)\\\n",
        "                            .setOutputCol('vectorized_features')"
      ],
      "metadata": {
        "id": "S0MDkqzaujcV"
      },
      "execution_count": 129,
      "outputs": []
    },
    {
      "cell_type": "code",
      "source": [
        "# Usually the input is train set/ holdout set\n",
        "# Full dataset is used here because the goal of this process is to apply feture importance\n",
        "# Example code\n",
        "  # assmb_train0 = assembler.transform(train0)#train0_OHE)\n",
        "  # assmb_holdout0 = assembler.transform(holdout0)#_OHE)\n",
        "\n",
        "assmb_sdf_NAdrop_OHE = assembler.transform(monthly_rf_NAdrop_OHE)\n"
      ],
      "metadata": {
        "id": "JW-19IsPujZf"
      },
      "execution_count": 130,
      "outputs": []
    },
    {
      "cell_type": "code",
      "source": [
        "# vectorized features are added to the lest side of table\n",
        "assmb_sdf_NAdrop_OHE.show()"
      ],
      "metadata": {
        "colab": {
          "base_uri": "https://localhost:8080/"
        },
        "id": "KntGoMFWujWz",
        "outputId": "ffe1a1ab-d465-4f86-a4d8-5b0617ac686c"
      },
      "execution_count": 131,
      "outputs": [
        {
          "output_type": "stream",
          "name": "stdout",
          "text": [
            "+--------------+------+------+-----+-----------+---------+--------+------------+---------+-------------+------------+------------+---------+---------+-----------+----------+-----------+----------+-----------+----------+-----------+-----------+----------+----------+-----------+----------+---------+----------+------------+-----------+----------+------------+----+---+-------+---------+-----------------+------------+-------------+----+-----+---------+--------+----------+---------+----------+---------+---------------+--------------+----------------+---------------+----------------+------------+--------------+--------------+--------------+-------------+--------------+-------------+--------------------+\n",
            "|GPP_NT_VUT_REF|  TA_F| VPD_F|  P_F|     NETRAD|       ET|BESS-PAR|BESS-PARdiff|BESS-RSDN|CSIF-SIFdaily|CSIF-SIFinst|         PET|       Ts|    Tmean|       prcp|       vpd|  prcp-lag3| ESACCI-sm|         b1|        b2|         b3|         b4|        b5|        b6|         b7|       EVI|      GCI|      NDVI|        NDWI|       NIRv|     kNDVI|Percent_Snow|Fpar|Lai|LST_Day|LST_Night|CO2_concentration|LOCATION_LAT|LOCATION_LONG|year|month|SITE_IGBP|MODIS_LC|MODIS_IGBP|MODIS_PFT|koppen_sub|   koppen|SITE_IGBP_Index|MODIS_LC_Index|MODIS_IGBP_Index|MODIS_PFT_Index|koppen_sub_Index|koppen_Index| SITE_IGBP_OHE|  MODIS_LC_OHE|MODIS_IGBP_OHE|MODIS_PFT_OHE|koppen_sub_OHE|   koppen_OHE| vectorized_features|\n",
            "+--------------+------+------+-----+-----------+---------+--------+------------+---------+-------------+------------+------------+---------+---------+-----------+----------+-----------+----------+-----------+----------+-----------+-----------+----------+----------+-----------+----------+---------+----------+------------+-----------+----------+------------+----+---+-------+---------+-----------------+------------+-------------+----+-----+---------+--------+----------+---------+----------+---------+---------------+--------------+----------------+---------------+----------------+------------+--------------+--------------+--------------+-------------+--------------+-------------+--------------------+\n",
            "|       10.2095|28.493|23.378|0.903| 188.598814|  9.01454|     154|          40|      336|   0.20432499|  0.51662683|-0.013386652|302.46967|300.10977|0.002115019|   2.06618|0.008738702|0.15152083|  0.0844258|0.26877418|0.045316122| 0.08052903|0.30057743| 0.2505258| 0.15535806|0.32125923|2.3492026| 0.5227052| 0.035415366| 0.14050612|0.26745087|         0.0|0.49|1.2| 313.84|   293.58|           387.11|    -33.4648|     -66.4598|2010|    1|       MF|       7|       OSH|       SH|       BSk|     Arid|            8.0|           7.0|             7.0|            6.0|             6.0|         2.0|(10,[8],[1.0])|(13,[7],[1.0])|(13,[7],[1.0])|(8,[6],[1.0])|(20,[6],[1.0])|(4,[2],[1.0])|(108,[0,1,2,3,4,5...|\n",
            "|       8.16307|26.673|14.369|1.986|144.2162024|7.6779733|     120|          46|      258|    0.1455303|  0.38726252|-0.008937791|298.78864|297.27515|0.003131761| 1.0901145|0.009724296|0.16655783|     0.0918| 0.2524464| 0.04803214| 0.08092143|0.29244998|0.25221428| 0.15945713|0.27830008|2.1216552|0.46684337|  4.00779E-4| 0.11781442|0.21459042|         0.0|0.43|0.9| 309.86|   292.96|          387.675|    -33.4648|     -66.4598|2010|    2|       MF|       7|       OSH|       SH|       BSk|     Arid|            8.0|           7.0|             7.0|            6.0|             6.0|         2.0|(10,[8],[1.0])|(13,[7],[1.0])|(13,[7],[1.0])|(8,[6],[1.0])|(20,[6],[1.0])|(4,[2],[1.0])|(108,[0,1,2,3,4,5...|\n",
            "|       7.06222|25.744|15.167|0.371|125.6431374| 5.890317|     107|          31|      231|   0.10980482|  0.30724174|-0.008132122|297.54816| 296.4367|0.002206154| 1.1686398|0.007452934|0.16407675| 0.08556129|0.23039998| 0.04453871|0.074638695|0.26943222|0.24116449|  0.1536387|0.25689518|2.0874314|0.45834532|-0.022856813| 0.10565167|0.20721813|         0.0|0.41|0.8| 309.18|   290.52|          388.195|    -33.4648|     -66.4598|2010|    3|       MF|       7|       OSH|       SH|       BSk|     Arid|            8.0|           7.0|             7.0|            6.0|             6.0|         2.0|(10,[8],[1.0])|(13,[7],[1.0])|(13,[7],[1.0])|(8,[6],[1.0])|(20,[6],[1.0])|(4,[2],[1.0])|(108,[0,1,2,3,4,5...|\n",
            "|       5.72781| 18.45| 9.185|  0.1|71.50069342|2.3456645|      81|          27|      175|  0.076728895|  0.22387202| -0.00675834|291.69604|290.61377| 2.09161E-4| 0.9461956|0.005547076|0.12401654| 0.08740333|0.21581332|     0.0453|0.074543335|   0.26009|0.23482999| 0.14688666|0.22921446|1.8959624|0.42358848|-0.042024087| 0.09139932|0.17754844|         0.0|0.36|0.5| 303.24|   286.34|          388.905|    -33.4648|     -66.4598|2010|    4|       MF|       7|       OSH|       SH|       BSk|     Arid|            8.0|           7.0|             7.0|            6.0|             6.0|         2.0|(10,[8],[1.0])|(13,[7],[1.0])|(13,[7],[1.0])|(8,[6],[1.0])|(20,[6],[1.0])|(4,[2],[1.0])|(108,[0,1,2,3,4,5...|\n",
            "|       3.47763|13.493| 5.823|1.852|41.24914909|2.2079997|      56|          19|      122|  0.066020064|  0.20063505|-0.004725121|287.05652| 286.8832| 8.41617E-4| 0.7162909|0.003256932|0.14272605|0.076190315|0.19819355| 0.03887419| 0.06480969|0.23148388|0.20281611|0.124199994|0.22352917|2.0611055| 0.4453674|-0.010640754| 0.08814689|0.19591969|         0.0|0.37|0.5|  296.2|   277.82|           389.32|    -33.4648|     -66.4598|2010|    5|       MF|       7|       OSH|       SH|       BSk|     Arid|            8.0|           7.0|             7.0|            6.0|             6.0|         2.0|(10,[8],[1.0])|(13,[7],[1.0])|(13,[7],[1.0])|(8,[6],[1.0])|(20,[6],[1.0])|(4,[2],[1.0])|(108,[0,1,2,3,4,5...|\n",
            "|       2.77385|11.273| 5.219| 0.03| 30.2579338|1.7267979|      48|          15|      105|  0.055993885|  0.17740785|-0.003966339|284.32104|284.76154| 2.66855E-4|0.57913876|0.001317633|0.15315518|0.071046665|0.17955999|0.038123343| 0.06306333|0.21496001|0.19131334| 0.12397998|0.20550561|1.8486056| 0.4330553|  -0.0314929| 0.07776146| 0.1854466|         0.0|0.33|0.4| 293.18|    276.8|           389.16|    -33.4648|     -66.4598|2010|    6|       MF|       7|       OSH|       SH|       BSk|     Arid|            8.0|           7.0|             7.0|            6.0|             6.0|         2.0|(10,[8],[1.0])|(13,[7],[1.0])|(13,[7],[1.0])|(8,[6],[1.0])|(20,[6],[1.0])|(4,[2],[1.0])|(108,[0,1,2,3,4,5...|\n",
            "|       3.74133| 8.131| 4.949|0.003|46.75980628|1.7385347|      58|          15|      129|  0.044577617|  0.14184037|-0.004890211|282.39343|282.44458|    6.62E-5| 0.6524327| 0.00117464|0.11506776| 0.07951935|0.17683226|0.042067744| 0.06696773|0.21454516| 0.2047129| 0.13839355|0.18182558|1.6429125| 0.3800115| -0.07298639|0.067186974|0.14383936|         0.0|0.32|0.4| 292.12|   271.64|          388.495|    -33.4648|     -66.4598|2010|    7|       MF|       7|       OSH|       SH|       BSk|     Arid|            8.0|           7.0|             7.0|            6.0|             6.0|         2.0|(10,[8],[1.0])|(13,[7],[1.0])|(13,[7],[1.0])|(8,[6],[1.0])|(20,[6],[1.0])|(4,[2],[1.0])|(108,[0,1,2,3,4,5...|\n",
            "|        4.9923|12.124| 7.232|0.148|55.41014468|1.7703171|      72|          23|      158|   0.03940548| 0.118864134|-0.006607018|285.98975|285.50317| 3.56059E-4| 0.8266134| 6.89082E-4|0.12942678| 0.09146129|0.18079355|0.048974194|0.075180635|0.22952907|0.23047417|  0.1616032|0.16395012|1.4065467| 0.3283708| -0.12023627| 0.05933451|0.10749994|         0.0|0.26|0.3| 298.98|   276.72|          387.915|    -33.4648|     -66.4598|2010|    8|       MF|       7|       OSH|       SH|       BSk|     Arid|            8.0|           7.0|             7.0|            6.0|             6.0|         2.0|(10,[8],[1.0])|(13,[7],[1.0])|(13,[7],[1.0])|(8,[6],[1.0])|(20,[6],[1.0])|(4,[2],[1.0])|(108,[0,1,2,3,4,5...|\n",
            "|        6.2686|16.113| 9.808|1.283|86.53253167|2.7933466|      92|          30|      202|  0.043048184| 0.118709184|-0.007369228|289.56998|288.48505|0.002409217|0.89762795|0.002831445|0.14007734|0.101566665| 0.1950833| 0.05354333| 0.08152667|0.25225836|    0.2574| 0.18707831|0.16664456|1.3936689| 0.3154251| -0.13769455|0.061513435|0.09918764|         0.0|0.25|0.4| 303.02|   281.76|           387.31|    -33.4648|     -66.4598|2010|    9|       MF|       7|       OSH|       SH|       BSk|     Arid|            8.0|           7.0|             7.0|            6.0|             6.0|         2.0|(10,[8],[1.0])|(13,[7],[1.0])|(13,[7],[1.0])|(8,[6],[1.0])|(20,[6],[1.0])|(4,[2],[1.0])|(108,[0,1,2,3,4,5...|\n",
            "|       7.98788|19.115| 12.24|2.671|139.2401875|4.8010826|     124|          35|      271|  0.076557115|  0.19472006|-0.009151526| 292.5633|291.09125|0.002530932| 1.0285672|0.005296208|0.16722338| 0.10122257|0.21530966| 0.05306129|  0.0860129|0.26885805|0.26544514| 0.18909998|0.19995353|1.5004112| 0.3590074| -0.10536736|0.077747405| 0.1290034|         0.0|0.32|0.6| 305.08|   283.92|           387.55|    -33.4648|     -66.4598|2010|   10|       MF|       7|       OSH|       SH|       BSk|     Arid|            8.0|           7.0|             7.0|            6.0|             6.0|         2.0|(10,[8],[1.0])|(13,[7],[1.0])|(13,[7],[1.0])|(8,[6],[1.0])|(20,[6],[1.0])|(4,[2],[1.0])|(108,[0,1,2,3,4,5...|\n",
            "|       10.4461|22.858|16.296| 0.81|173.9497797|5.8108234|     147|          39|      322|   0.10822074|  0.26523668| -0.01190903|298.02554|295.46375|0.001110932| 1.6364233|0.006051082|0.14072989| 0.10894999|0.24585332| 0.05752999|0.094583325|0.29778334| 0.2814067| 0.19225997| 0.2331288|1.5993953|0.38592288| -0.06737776| 0.09486858|0.14786734|         0.0|0.38|0.8| 311.82|    288.0|          388.235|    -33.4648|     -66.4598|2010|   11|       MF|       7|       OSH|       SH|       BSk|     Arid|            8.0|           7.0|             7.0|            6.0|             6.0|         2.0|(10,[8],[1.0])|(13,[7],[1.0])|(13,[7],[1.0])|(8,[6],[1.0])|(20,[6],[1.0])|(4,[2],[1.0])|(108,[0,1,2,3,4,5...|\n",
            "|       10.0834|26.557|23.211|1.452| 189.600544| 5.165505|     157|          38|      344|   0.09730604|  0.23855111|-0.014495663| 303.0575|299.54413| 7.41054E-4| 2.4140742|0.004382919|0.14455558| 0.11138387|0.24245161| 0.05899677| 0.09506773|0.29779354| 0.2889032| 0.20476452|0.22321212|1.5519823| 0.3706127| -0.08736732| 0.08984783| 0.1366967|         0.0|0.35|0.7|  316.2|    291.4|           388.75|    -33.4648|     -66.4598|2010|   12|       MF|       7|       OSH|       SH|       BSk|     Arid|            8.0|           7.0|             7.0|            6.0|             6.0|         2.0|(10,[8],[1.0])|(13,[7],[1.0])|(13,[7],[1.0])|(8,[6],[1.0])|(20,[6],[1.0])|(4,[2],[1.0])|(108,[0,1,2,3,4,5...|\n",
            "|       16.6069|25.883|11.893|6.909|140.3802855|7.0882072|     117|          36|      250|   0.35580766|   1.0070577| -0.00634148|297.72784| 297.6535|0.003653176| 0.7823387|0.015916646|0.32501653|0.039254833|0.32290646|0.019277416| 0.05246451| 0.3135387|0.17214517|0.067348376|0.50148696|5.1558065| 0.7831489|  0.30432472| 0.25290942|0.54645747|         0.0|0.78|3.5| 302.72|   292.26|          388.195|    -28.2395|     -56.1886|2010|    3|      ENF|       9|       SAV|       SA|       Cfa|Temperate|            0.0|           3.0|             3.0|            0.0|             5.0|         1.0|(10,[0],[1.0])|(13,[3],[1.0])|(13,[3],[1.0])|(8,[0],[1.0])|(20,[5],[1.0])|(4,[1],[1.0])|(108,[0,1,2,3,4,5...|\n",
            "|       11.6896|21.085| 9.315|4.921|87.98953764| 4.957915|      80|          29|      172|    0.2839798|    0.829127|-0.005368337|293.50464|293.65088|0.003299312| 0.6776179|0.011770017|0.32063323|0.040218335|0.29168501|0.020366669| 0.04804333|  0.291545|0.16847333|0.065976664|0.45521393| 5.070083|0.75729454|   0.2673957| 0.22097366|0.51789534|         0.0|0.73|2.8|  298.5|    287.4|          388.905|    -28.2395|     -56.1886|2010|    4|      ENF|       9|       SAV|       SA|       Cfa|Temperate|            0.0|           3.0|             3.0|            0.0|             5.0|         1.0|(10,[0],[1.0])|(13,[3],[1.0])|(13,[3],[1.0])|(8,[0],[1.0])|(20,[5],[1.0])|(4,[1],[1.0])|(108,[0,1,2,3,4,5...|\n",
            "|        12.578|20.053| 6.849|3.709|140.7111408| 8.240307|     119|          41|      260|   0.25308308|  0.65763813|-0.006693386| 292.3426|292.14008| 0.00380671|0.65856665| 0.01381997|0.37036404| 0.04885806|0.25399998|0.023638709|0.054706447|0.27477098|0.19271934|  0.0966129|0.37418348|3.6415005| 0.6769556|  0.13657345| 0.17206027| 0.4286881|         0.0|0.64|2.4|  301.3|   285.58|           387.55|    -28.2395|     -56.1886|2010|   10|      ENF|       9|       SAV|       SA|       Cfa|Temperate|            0.0|           3.0|             3.0|            0.0|             5.0|         1.0|(10,[0],[1.0])|(13,[3],[1.0])|(13,[3],[1.0])|(8,[0],[1.0])|(20,[5],[1.0])|(4,[1],[1.0])|(108,[0,1,2,3,4,5...|\n",
            "|        13.011|22.824|11.504|3.075|176.6007384| 9.541467|     143|          40|      313|   0.31803423|   0.7991435|-0.009438761|296.23062|295.66296| 9.31888E-4| 1.2130878|0.014042678|0.30845198|0.057359993|0.29386336|0.027753327| 0.06541999|   0.31567|0.21955997|0.111049995|0.41336912|3.4938533| 0.6734622|  0.14476806| 0.19788575|0.42482123|         0.0|0.67|2.8|  304.5|   287.16|          388.235|    -28.2395|     -56.1886|2010|   11|      ENF|       9|       SAV|       SA|       Cfa|Temperate|            0.0|           3.0|             3.0|            0.0|             5.0|         1.0|(10,[0],[1.0])|(13,[3],[1.0])|(13,[3],[1.0])|(8,[0],[1.0])|(20,[5],[1.0])|(4,[1],[1.0])|(108,[0,1,2,3,4,5...|\n",
            "|       15.5007|26.039|13.026|5.026| 170.025408| 8.843316|     132|          48|      282|    0.3697338|  0.93288314|-0.007714525|298.17078|297.97382|0.007306484|0.91176283|0.012045081|0.34871957| 0.05444839|0.31505162|0.026561288| 0.06672258|0.32610002|0.21619034| 0.10154516| 0.4514909| 3.720321|0.70482177|  0.18570562|  0.2222497| 0.4595932|         0.0| 0.7|3.2| 306.02|   291.66|           388.75|    -28.2395|     -56.1886|2010|   12|      ENF|       9|       SAV|       SA|       Cfa|Temperate|            0.0|           3.0|             3.0|            0.0|             5.0|         1.0|(10,[0],[1.0])|(13,[3],[1.0])|(13,[3],[1.0])|(8,[0],[1.0])|(20,[5],[1.0])|(4,[1],[1.0])|(108,[0,1,2,3,4,5...|\n",
            "|       9.53072|25.919|14.784|1.452|189.1051942| 9.281486|     150|          47|      324|    0.3494609|   0.9085131| -0.01105988|301.64825| 300.6665|0.001870857| 1.7350304|0.009305812|0.26168758| 0.06387419| 0.3275161|0.031280644|0.070906445| 0.3460742| 0.2344516| 0.11076774|0.44647938| 3.620046|0.67362356|  0.16564138| 0.22062938|0.42500442|         0.0|0.69|3.1| 309.94|   292.14|          391.225|    -28.2395|     -56.1886|2012|    1|      ENF|       9|       SAV|       SA|       Cfa|Temperate|            0.0|           3.0|             3.0|            0.0|             5.0|         1.0|(10,[0],[1.0])|(13,[3],[1.0])|(13,[3],[1.0])|(8,[0],[1.0])|(20,[5],[1.0])|(4,[1],[1.0])|(108,[0,1,2,3,4,5...|\n",
            "|       9.59927|27.029|13.938|2.527|150.5470389|6.7530193|     121|          52|      255|   0.26720712|  0.72544396| -0.00967826| 302.7314| 301.5807|0.002279734| 1.6173695|0.006079263| 0.2692186| 0.06477931| 0.2922965|0.031231033| 0.06542069|0.32060343|0.23018274| 0.11693103|0.39317164| 3.470528| 0.6372466|   0.1188409| 0.18631247|0.38526174|         0.0|0.61|2.5| 311.02|   292.78|            391.4|    -28.2395|     -56.1886|2012|    2|      ENF|       9|       SAV|       SA|       Cfa|Temperate|            0.0|           3.0|             3.0|            0.0|             5.0|         1.0|(10,[0],[1.0])|(13,[3],[1.0])|(13,[3],[1.0])|(8,[0],[1.0])|(20,[5],[1.0])|(4,[1],[1.0])|(108,[0,1,2,3,4,5...|\n",
            "|       11.1693|23.956|13.028| 0.92|143.7843416| 7.384266|     119|          36|      259|   0.27218473|   0.7705264|-0.008565038|299.28296|298.21295|0.001913611| 1.4181602|0.006064202|0.26918423| 0.05081613|0.28540322|0.024596771|0.056532264|0.30587095| 0.2093419| 0.09800967|0.41718146| 4.052398| 0.6976615|  0.15375136| 0.19915885|0.45163572|         0.0|0.71|2.8| 307.62|   290.46|           391.77|    -28.2395|     -56.1886|2012|    3|      ENF|       9|       SAV|       SA|       Cfa|Temperate|            0.0|           3.0|             3.0|            0.0|             5.0|         1.0|(10,[0],[1.0])|(13,[3],[1.0])|(13,[3],[1.0])|(8,[0],[1.0])|(20,[5],[1.0])|(4,[1],[1.0])|(108,[0,1,2,3,4,5...|\n",
            "+--------------+------+------+-----+-----------+---------+--------+------------+---------+-------------+------------+------------+---------+---------+-----------+----------+-----------+----------+-----------+----------+-----------+-----------+----------+----------+-----------+----------+---------+----------+------------+-----------+----------+------------+----+---+-------+---------+-----------------+------------+-------------+----+-----+---------+--------+----------+---------+----------+---------+---------------+--------------+----------------+---------------+----------------+------------+--------------+--------------+--------------+-------------+--------------+-------------+--------------------+\n",
            "only showing top 20 rows\n",
            "\n"
          ]
        }
      ]
    },
    {
      "cell_type": "markdown",
      "source": [
        "## Normalize features"
      ],
      "metadata": {
        "id": "CEddOWhz5y3k"
      }
    },
    {
      "cell_type": "code",
      "source": [
        "# normalize dataset\n",
        "scaler = MinMaxScaler().setInputCol('vectorized_features')\\\n",
        "                            .setOutputCol('normalized_features')\n",
        "\n",
        "scaler_sdf_NAdrop_model = scaler.fit(assmb_sdf_NAdrop_OHE)\n",
        "normed_sdf_NAdrop = scaler_sdf_NAdrop_model.transform(assmb_sdf_NAdrop_OHE)\n",
        "\n",
        "# Same as the last section, usually input is train set/holdout set\n",
        "# Example\n",
        "    # normed_train0 = scaler_model0.transform(assmb_train0)\n",
        "    # normed_holdout0 = scaler_model0.transform(assmb_holdout0)"
      ],
      "metadata": {
        "id": "WiAw_bjuujUG"
      },
      "execution_count": 132,
      "outputs": []
    },
    {
      "cell_type": "code",
      "source": [
        "# Column 'normalized features' is added\n",
        "normed_sdf_NAdrop.show()\n"
      ],
      "metadata": {
        "colab": {
          "base_uri": "https://localhost:8080/"
        },
        "id": "Gp96dUvoujRU",
        "outputId": "2700f500-1c45-4113-c3b8-49e9c14b3aab"
      },
      "execution_count": 133,
      "outputs": [
        {
          "output_type": "stream",
          "name": "stdout",
          "text": [
            "+--------------+------+------+-----+-----------+---------+--------+------------+---------+-------------+------------+------------+---------+---------+-----------+----------+-----------+----------+-----------+----------+-----------+-----------+----------+----------+-----------+----------+---------+----------+------------+-----------+----------+------------+----+---+-------+---------+-----------------+------------+-------------+----+-----+---------+--------+----------+---------+----------+---------+---------------+--------------+----------------+---------------+----------------+------------+--------------+--------------+--------------+-------------+--------------+-------------+--------------------+--------------------+\n",
            "|GPP_NT_VUT_REF|  TA_F| VPD_F|  P_F|     NETRAD|       ET|BESS-PAR|BESS-PARdiff|BESS-RSDN|CSIF-SIFdaily|CSIF-SIFinst|         PET|       Ts|    Tmean|       prcp|       vpd|  prcp-lag3| ESACCI-sm|         b1|        b2|         b3|         b4|        b5|        b6|         b7|       EVI|      GCI|      NDVI|        NDWI|       NIRv|     kNDVI|Percent_Snow|Fpar|Lai|LST_Day|LST_Night|CO2_concentration|LOCATION_LAT|LOCATION_LONG|year|month|SITE_IGBP|MODIS_LC|MODIS_IGBP|MODIS_PFT|koppen_sub|   koppen|SITE_IGBP_Index|MODIS_LC_Index|MODIS_IGBP_Index|MODIS_PFT_Index|koppen_sub_Index|koppen_Index| SITE_IGBP_OHE|  MODIS_LC_OHE|MODIS_IGBP_OHE|MODIS_PFT_OHE|koppen_sub_OHE|   koppen_OHE| vectorized_features| normalized_features|\n",
            "+--------------+------+------+-----+-----------+---------+--------+------------+---------+-------------+------------+------------+---------+---------+-----------+----------+-----------+----------+-----------+----------+-----------+-----------+----------+----------+-----------+----------+---------+----------+------------+-----------+----------+------------+----+---+-------+---------+-----------------+------------+-------------+----+-----+---------+--------+----------+---------+----------+---------+---------------+--------------+----------------+---------------+----------------+------------+--------------+--------------+--------------+-------------+--------------+-------------+--------------------+--------------------+\n",
            "|       10.2095|28.493|23.378|0.903| 188.598814|  9.01454|     154|          40|      336|   0.20432499|  0.51662683|-0.013386652|302.46967|300.10977|0.002115019|   2.06618|0.008738702|0.15152083|  0.0844258|0.26877418|0.045316122| 0.08052903|0.30057743| 0.2505258| 0.15535806|0.32125923|2.3492026| 0.5227052| 0.035415366| 0.14050612|0.26745087|         0.0|0.49|1.2| 313.84|   293.58|           387.11|    -33.4648|     -66.4598|2010|    1|       MF|       7|       OSH|       SH|       BSk|     Arid|            8.0|           7.0|             7.0|            6.0|             6.0|         2.0|(10,[8],[1.0])|(13,[7],[1.0])|(13,[7],[1.0])|(8,[6],[1.0])|(20,[6],[1.0])|(4,[2],[1.0])|(108,[0,1,2,3,4,5...|(108,[0,1,2,3,4,5...|\n",
            "|       8.16307|26.673|14.369|1.986|144.2162024|7.6779733|     120|          46|      258|    0.1455303|  0.38726252|-0.008937791|298.78864|297.27515|0.003131761| 1.0901145|0.009724296|0.16655783|     0.0918| 0.2524464| 0.04803214| 0.08092143|0.29244998|0.25221428| 0.15945713|0.27830008|2.1216552|0.46684337|  4.00779E-4| 0.11781442|0.21459042|         0.0|0.43|0.9| 309.86|   292.96|          387.675|    -33.4648|     -66.4598|2010|    2|       MF|       7|       OSH|       SH|       BSk|     Arid|            8.0|           7.0|             7.0|            6.0|             6.0|         2.0|(10,[8],[1.0])|(13,[7],[1.0])|(13,[7],[1.0])|(8,[6],[1.0])|(20,[6],[1.0])|(4,[2],[1.0])|(108,[0,1,2,3,4,5...|(108,[0,1,2,3,4,5...|\n",
            "|       7.06222|25.744|15.167|0.371|125.6431374| 5.890317|     107|          31|      231|   0.10980482|  0.30724174|-0.008132122|297.54816| 296.4367|0.002206154| 1.1686398|0.007452934|0.16407675| 0.08556129|0.23039998| 0.04453871|0.074638695|0.26943222|0.24116449|  0.1536387|0.25689518|2.0874314|0.45834532|-0.022856813| 0.10565167|0.20721813|         0.0|0.41|0.8| 309.18|   290.52|          388.195|    -33.4648|     -66.4598|2010|    3|       MF|       7|       OSH|       SH|       BSk|     Arid|            8.0|           7.0|             7.0|            6.0|             6.0|         2.0|(10,[8],[1.0])|(13,[7],[1.0])|(13,[7],[1.0])|(8,[6],[1.0])|(20,[6],[1.0])|(4,[2],[1.0])|(108,[0,1,2,3,4,5...|(108,[0,1,2,3,4,5...|\n",
            "|       5.72781| 18.45| 9.185|  0.1|71.50069342|2.3456645|      81|          27|      175|  0.076728895|  0.22387202| -0.00675834|291.69604|290.61377| 2.09161E-4| 0.9461956|0.005547076|0.12401654| 0.08740333|0.21581332|     0.0453|0.074543335|   0.26009|0.23482999| 0.14688666|0.22921446|1.8959624|0.42358848|-0.042024087| 0.09139932|0.17754844|         0.0|0.36|0.5| 303.24|   286.34|          388.905|    -33.4648|     -66.4598|2010|    4|       MF|       7|       OSH|       SH|       BSk|     Arid|            8.0|           7.0|             7.0|            6.0|             6.0|         2.0|(10,[8],[1.0])|(13,[7],[1.0])|(13,[7],[1.0])|(8,[6],[1.0])|(20,[6],[1.0])|(4,[2],[1.0])|(108,[0,1,2,3,4,5...|(108,[0,1,2,3,4,5...|\n",
            "|       3.47763|13.493| 5.823|1.852|41.24914909|2.2079997|      56|          19|      122|  0.066020064|  0.20063505|-0.004725121|287.05652| 286.8832| 8.41617E-4| 0.7162909|0.003256932|0.14272605|0.076190315|0.19819355| 0.03887419| 0.06480969|0.23148388|0.20281611|0.124199994|0.22352917|2.0611055| 0.4453674|-0.010640754| 0.08814689|0.19591969|         0.0|0.37|0.5|  296.2|   277.82|           389.32|    -33.4648|     -66.4598|2010|    5|       MF|       7|       OSH|       SH|       BSk|     Arid|            8.0|           7.0|             7.0|            6.0|             6.0|         2.0|(10,[8],[1.0])|(13,[7],[1.0])|(13,[7],[1.0])|(8,[6],[1.0])|(20,[6],[1.0])|(4,[2],[1.0])|(108,[0,1,2,3,4,5...|(108,[0,1,2,3,4,5...|\n",
            "|       2.77385|11.273| 5.219| 0.03| 30.2579338|1.7267979|      48|          15|      105|  0.055993885|  0.17740785|-0.003966339|284.32104|284.76154| 2.66855E-4|0.57913876|0.001317633|0.15315518|0.071046665|0.17955999|0.038123343| 0.06306333|0.21496001|0.19131334| 0.12397998|0.20550561|1.8486056| 0.4330553|  -0.0314929| 0.07776146| 0.1854466|         0.0|0.33|0.4| 293.18|    276.8|           389.16|    -33.4648|     -66.4598|2010|    6|       MF|       7|       OSH|       SH|       BSk|     Arid|            8.0|           7.0|             7.0|            6.0|             6.0|         2.0|(10,[8],[1.0])|(13,[7],[1.0])|(13,[7],[1.0])|(8,[6],[1.0])|(20,[6],[1.0])|(4,[2],[1.0])|(108,[0,1,2,3,4,5...|(108,[0,1,2,3,4,5...|\n",
            "|       3.74133| 8.131| 4.949|0.003|46.75980628|1.7385347|      58|          15|      129|  0.044577617|  0.14184037|-0.004890211|282.39343|282.44458|    6.62E-5| 0.6524327| 0.00117464|0.11506776| 0.07951935|0.17683226|0.042067744| 0.06696773|0.21454516| 0.2047129| 0.13839355|0.18182558|1.6429125| 0.3800115| -0.07298639|0.067186974|0.14383936|         0.0|0.32|0.4| 292.12|   271.64|          388.495|    -33.4648|     -66.4598|2010|    7|       MF|       7|       OSH|       SH|       BSk|     Arid|            8.0|           7.0|             7.0|            6.0|             6.0|         2.0|(10,[8],[1.0])|(13,[7],[1.0])|(13,[7],[1.0])|(8,[6],[1.0])|(20,[6],[1.0])|(4,[2],[1.0])|(108,[0,1,2,3,4,5...|(108,[0,1,2,3,4,5...|\n",
            "|        4.9923|12.124| 7.232|0.148|55.41014468|1.7703171|      72|          23|      158|   0.03940548| 0.118864134|-0.006607018|285.98975|285.50317| 3.56059E-4| 0.8266134| 6.89082E-4|0.12942678| 0.09146129|0.18079355|0.048974194|0.075180635|0.22952907|0.23047417|  0.1616032|0.16395012|1.4065467| 0.3283708| -0.12023627| 0.05933451|0.10749994|         0.0|0.26|0.3| 298.98|   276.72|          387.915|    -33.4648|     -66.4598|2010|    8|       MF|       7|       OSH|       SH|       BSk|     Arid|            8.0|           7.0|             7.0|            6.0|             6.0|         2.0|(10,[8],[1.0])|(13,[7],[1.0])|(13,[7],[1.0])|(8,[6],[1.0])|(20,[6],[1.0])|(4,[2],[1.0])|(108,[0,1,2,3,4,5...|(108,[0,1,2,3,4,5...|\n",
            "|        6.2686|16.113| 9.808|1.283|86.53253167|2.7933466|      92|          30|      202|  0.043048184| 0.118709184|-0.007369228|289.56998|288.48505|0.002409217|0.89762795|0.002831445|0.14007734|0.101566665| 0.1950833| 0.05354333| 0.08152667|0.25225836|    0.2574| 0.18707831|0.16664456|1.3936689| 0.3154251| -0.13769455|0.061513435|0.09918764|         0.0|0.25|0.4| 303.02|   281.76|           387.31|    -33.4648|     -66.4598|2010|    9|       MF|       7|       OSH|       SH|       BSk|     Arid|            8.0|           7.0|             7.0|            6.0|             6.0|         2.0|(10,[8],[1.0])|(13,[7],[1.0])|(13,[7],[1.0])|(8,[6],[1.0])|(20,[6],[1.0])|(4,[2],[1.0])|(108,[0,1,2,3,4,5...|(108,[0,1,2,3,4,5...|\n",
            "|       7.98788|19.115| 12.24|2.671|139.2401875|4.8010826|     124|          35|      271|  0.076557115|  0.19472006|-0.009151526| 292.5633|291.09125|0.002530932| 1.0285672|0.005296208|0.16722338| 0.10122257|0.21530966| 0.05306129|  0.0860129|0.26885805|0.26544514| 0.18909998|0.19995353|1.5004112| 0.3590074| -0.10536736|0.077747405| 0.1290034|         0.0|0.32|0.6| 305.08|   283.92|           387.55|    -33.4648|     -66.4598|2010|   10|       MF|       7|       OSH|       SH|       BSk|     Arid|            8.0|           7.0|             7.0|            6.0|             6.0|         2.0|(10,[8],[1.0])|(13,[7],[1.0])|(13,[7],[1.0])|(8,[6],[1.0])|(20,[6],[1.0])|(4,[2],[1.0])|(108,[0,1,2,3,4,5...|(108,[0,1,2,3,4,5...|\n",
            "|       10.4461|22.858|16.296| 0.81|173.9497797|5.8108234|     147|          39|      322|   0.10822074|  0.26523668| -0.01190903|298.02554|295.46375|0.001110932| 1.6364233|0.006051082|0.14072989| 0.10894999|0.24585332| 0.05752999|0.094583325|0.29778334| 0.2814067| 0.19225997| 0.2331288|1.5993953|0.38592288| -0.06737776| 0.09486858|0.14786734|         0.0|0.38|0.8| 311.82|    288.0|          388.235|    -33.4648|     -66.4598|2010|   11|       MF|       7|       OSH|       SH|       BSk|     Arid|            8.0|           7.0|             7.0|            6.0|             6.0|         2.0|(10,[8],[1.0])|(13,[7],[1.0])|(13,[7],[1.0])|(8,[6],[1.0])|(20,[6],[1.0])|(4,[2],[1.0])|(108,[0,1,2,3,4,5...|(108,[0,1,2,3,4,5...|\n",
            "|       10.0834|26.557|23.211|1.452| 189.600544| 5.165505|     157|          38|      344|   0.09730604|  0.23855111|-0.014495663| 303.0575|299.54413| 7.41054E-4| 2.4140742|0.004382919|0.14455558| 0.11138387|0.24245161| 0.05899677| 0.09506773|0.29779354| 0.2889032| 0.20476452|0.22321212|1.5519823| 0.3706127| -0.08736732| 0.08984783| 0.1366967|         0.0|0.35|0.7|  316.2|    291.4|           388.75|    -33.4648|     -66.4598|2010|   12|       MF|       7|       OSH|       SH|       BSk|     Arid|            8.0|           7.0|             7.0|            6.0|             6.0|         2.0|(10,[8],[1.0])|(13,[7],[1.0])|(13,[7],[1.0])|(8,[6],[1.0])|(20,[6],[1.0])|(4,[2],[1.0])|(108,[0,1,2,3,4,5...|(108,[0,1,2,3,4,5...|\n",
            "|       16.6069|25.883|11.893|6.909|140.3802855|7.0882072|     117|          36|      250|   0.35580766|   1.0070577| -0.00634148|297.72784| 297.6535|0.003653176| 0.7823387|0.015916646|0.32501653|0.039254833|0.32290646|0.019277416| 0.05246451| 0.3135387|0.17214517|0.067348376|0.50148696|5.1558065| 0.7831489|  0.30432472| 0.25290942|0.54645747|         0.0|0.78|3.5| 302.72|   292.26|          388.195|    -28.2395|     -56.1886|2010|    3|      ENF|       9|       SAV|       SA|       Cfa|Temperate|            0.0|           3.0|             3.0|            0.0|             5.0|         1.0|(10,[0],[1.0])|(13,[3],[1.0])|(13,[3],[1.0])|(8,[0],[1.0])|(20,[5],[1.0])|(4,[1],[1.0])|(108,[0,1,2,3,4,5...|(108,[0,1,2,3,4,5...|\n",
            "|       11.6896|21.085| 9.315|4.921|87.98953764| 4.957915|      80|          29|      172|    0.2839798|    0.829127|-0.005368337|293.50464|293.65088|0.003299312| 0.6776179|0.011770017|0.32063323|0.040218335|0.29168501|0.020366669| 0.04804333|  0.291545|0.16847333|0.065976664|0.45521393| 5.070083|0.75729454|   0.2673957| 0.22097366|0.51789534|         0.0|0.73|2.8|  298.5|    287.4|          388.905|    -28.2395|     -56.1886|2010|    4|      ENF|       9|       SAV|       SA|       Cfa|Temperate|            0.0|           3.0|             3.0|            0.0|             5.0|         1.0|(10,[0],[1.0])|(13,[3],[1.0])|(13,[3],[1.0])|(8,[0],[1.0])|(20,[5],[1.0])|(4,[1],[1.0])|(108,[0,1,2,3,4,5...|(108,[0,1,2,3,4,5...|\n",
            "|        12.578|20.053| 6.849|3.709|140.7111408| 8.240307|     119|          41|      260|   0.25308308|  0.65763813|-0.006693386| 292.3426|292.14008| 0.00380671|0.65856665| 0.01381997|0.37036404| 0.04885806|0.25399998|0.023638709|0.054706447|0.27477098|0.19271934|  0.0966129|0.37418348|3.6415005| 0.6769556|  0.13657345| 0.17206027| 0.4286881|         0.0|0.64|2.4|  301.3|   285.58|           387.55|    -28.2395|     -56.1886|2010|   10|      ENF|       9|       SAV|       SA|       Cfa|Temperate|            0.0|           3.0|             3.0|            0.0|             5.0|         1.0|(10,[0],[1.0])|(13,[3],[1.0])|(13,[3],[1.0])|(8,[0],[1.0])|(20,[5],[1.0])|(4,[1],[1.0])|(108,[0,1,2,3,4,5...|(108,[0,1,2,3,4,5...|\n",
            "|        13.011|22.824|11.504|3.075|176.6007384| 9.541467|     143|          40|      313|   0.31803423|   0.7991435|-0.009438761|296.23062|295.66296| 9.31888E-4| 1.2130878|0.014042678|0.30845198|0.057359993|0.29386336|0.027753327| 0.06541999|   0.31567|0.21955997|0.111049995|0.41336912|3.4938533| 0.6734622|  0.14476806| 0.19788575|0.42482123|         0.0|0.67|2.8|  304.5|   287.16|          388.235|    -28.2395|     -56.1886|2010|   11|      ENF|       9|       SAV|       SA|       Cfa|Temperate|            0.0|           3.0|             3.0|            0.0|             5.0|         1.0|(10,[0],[1.0])|(13,[3],[1.0])|(13,[3],[1.0])|(8,[0],[1.0])|(20,[5],[1.0])|(4,[1],[1.0])|(108,[0,1,2,3,4,5...|(108,[0,1,2,3,4,5...|\n",
            "|       15.5007|26.039|13.026|5.026| 170.025408| 8.843316|     132|          48|      282|    0.3697338|  0.93288314|-0.007714525|298.17078|297.97382|0.007306484|0.91176283|0.012045081|0.34871957| 0.05444839|0.31505162|0.026561288| 0.06672258|0.32610002|0.21619034| 0.10154516| 0.4514909| 3.720321|0.70482177|  0.18570562|  0.2222497| 0.4595932|         0.0| 0.7|3.2| 306.02|   291.66|           388.75|    -28.2395|     -56.1886|2010|   12|      ENF|       9|       SAV|       SA|       Cfa|Temperate|            0.0|           3.0|             3.0|            0.0|             5.0|         1.0|(10,[0],[1.0])|(13,[3],[1.0])|(13,[3],[1.0])|(8,[0],[1.0])|(20,[5],[1.0])|(4,[1],[1.0])|(108,[0,1,2,3,4,5...|(108,[0,1,2,3,4,5...|\n",
            "|       9.53072|25.919|14.784|1.452|189.1051942| 9.281486|     150|          47|      324|    0.3494609|   0.9085131| -0.01105988|301.64825| 300.6665|0.001870857| 1.7350304|0.009305812|0.26168758| 0.06387419| 0.3275161|0.031280644|0.070906445| 0.3460742| 0.2344516| 0.11076774|0.44647938| 3.620046|0.67362356|  0.16564138| 0.22062938|0.42500442|         0.0|0.69|3.1| 309.94|   292.14|          391.225|    -28.2395|     -56.1886|2012|    1|      ENF|       9|       SAV|       SA|       Cfa|Temperate|            0.0|           3.0|             3.0|            0.0|             5.0|         1.0|(10,[0],[1.0])|(13,[3],[1.0])|(13,[3],[1.0])|(8,[0],[1.0])|(20,[5],[1.0])|(4,[1],[1.0])|(108,[0,1,2,3,4,5...|(108,[0,1,2,3,4,5...|\n",
            "|       9.59927|27.029|13.938|2.527|150.5470389|6.7530193|     121|          52|      255|   0.26720712|  0.72544396| -0.00967826| 302.7314| 301.5807|0.002279734| 1.6173695|0.006079263| 0.2692186| 0.06477931| 0.2922965|0.031231033| 0.06542069|0.32060343|0.23018274| 0.11693103|0.39317164| 3.470528| 0.6372466|   0.1188409| 0.18631247|0.38526174|         0.0|0.61|2.5| 311.02|   292.78|            391.4|    -28.2395|     -56.1886|2012|    2|      ENF|       9|       SAV|       SA|       Cfa|Temperate|            0.0|           3.0|             3.0|            0.0|             5.0|         1.0|(10,[0],[1.0])|(13,[3],[1.0])|(13,[3],[1.0])|(8,[0],[1.0])|(20,[5],[1.0])|(4,[1],[1.0])|(108,[0,1,2,3,4,5...|(108,[0,1,2,3,4,5...|\n",
            "|       11.1693|23.956|13.028| 0.92|143.7843416| 7.384266|     119|          36|      259|   0.27218473|   0.7705264|-0.008565038|299.28296|298.21295|0.001913611| 1.4181602|0.006064202|0.26918423| 0.05081613|0.28540322|0.024596771|0.056532264|0.30587095| 0.2093419| 0.09800967|0.41718146| 4.052398| 0.6976615|  0.15375136| 0.19915885|0.45163572|         0.0|0.71|2.8| 307.62|   290.46|           391.77|    -28.2395|     -56.1886|2012|    3|      ENF|       9|       SAV|       SA|       Cfa|Temperate|            0.0|           3.0|             3.0|            0.0|             5.0|         1.0|(10,[0],[1.0])|(13,[3],[1.0])|(13,[3],[1.0])|(8,[0],[1.0])|(20,[5],[1.0])|(4,[1],[1.0])|(108,[0,1,2,3,4,5...|(108,[0,1,2,3,4,5...|\n",
            "+--------------+------+------+-----+-----------+---------+--------+------------+---------+-------------+------------+------------+---------+---------+-----------+----------+-----------+----------+-----------+----------+-----------+-----------+----------+----------+-----------+----------+---------+----------+------------+-----------+----------+------------+----+---+-------+---------+-----------------+------------+-------------+----+-----+---------+--------+----------+---------+----------+---------+---------------+--------------+----------------+---------------+----------------+------------+--------------+--------------+--------------+-------------+--------------+-------------+--------------------+--------------------+\n",
            "only showing top 20 rows\n",
            "\n"
          ]
        }
      ]
    },
    {
      "cell_type": "markdown",
      "source": [
        "## Fit model"
      ],
      "metadata": {
        "id": "SBaLTdQX550k"
      }
    },
    {
      "cell_type": "markdown",
      "source": [
        "### Random Forest Regressor"
      ],
      "metadata": {
        "id": "HLYMRC1m6ALU"
      }
    },
    {
      "cell_type": "code",
      "source": [
        "from pyspark.ml.regression import RandomForestRegressor\n",
        "\n",
        "rf = RandomForestRegressor(featuresCol = 'normalized_features', labelCol = 'GPP_NT_VUT_REF')\n",
        "rfModel = rf.fit(normed_sdf_NAdrop)\n",
        "# rfModel = rf.fit(normed_train0)\n",
        "# predictions = rfModel.transform(normed_holdout0)"
      ],
      "metadata": {
        "id": "XSuqEkeiujON"
      },
      "execution_count": 134,
      "outputs": []
    },
    {
      "cell_type": "markdown",
      "source": [
        "## Feature Importance"
      ],
      "metadata": {
        "id": "-j6N1LNwAF1R"
      }
    },
    {
      "cell_type": "code",
      "source": [
        "feature_importance = rfModel.featureImportances"
      ],
      "metadata": {
        "id": "W1sR9KnMujLp"
      },
      "execution_count": 135,
      "outputs": []
    },
    {
      "cell_type": "markdown",
      "source": [
        "Feature importance is obtained by each one-hot-encoded feature\n",
        "Ex. if feature A has four features, it is counted as four independent features(A-1, A-2, A-3, A-4)"
      ],
      "metadata": {
        "id": "Tz-bdvshJr0t"
      }
    },
    {
      "cell_type": "code",
      "source": [
        "# Result of 108 features are obtained\n",
        "feature_importance"
      ],
      "metadata": {
        "colab": {
          "base_uri": "https://localhost:8080/"
        },
        "id": "C-KniRvTIA0H",
        "outputId": "0b88740c-58e2-4936-9165-f2a4b6aaf02f"
      },
      "execution_count": 136,
      "outputs": [
        {
          "output_type": "execute_result",
          "data": {
            "text/plain": [
              "SparseVector(108, {0: 0.001, 2: 0.0003, 3: 0.0331, 4: 0.0191, 5: 0.0029, 6: 0.0177, 7: 0.005, 8: 0.1802, 9: 0.2188, 10: 0.0019, 11: 0.0029, 12: 0.0016, 13: 0.0003, 14: 0.0018, 15: 0.0002, 17: 0.0002, 18: 0.0074, 19: 0.0005, 20: 0.0005, 21: 0.0013, 22: 0.0013, 23: 0.0007, 24: 0.032, 25: 0.0029, 26: 0.0006, 27: 0.0049, 28: 0.0849, 29: 0.057, 31: 0.1227, 32: 0.1539, 33: 0.0025, 34: 0.0023, 35: 0.0003, 36: 0.0045, 37: 0.007, 38: 0.0001, 39: 0.0005, 40: 0.0013, 42: 0.0023, 43: 0.0001, 44: 0.0021, 50: 0.0005, 51: 0.0023, 55: 0.0008, 59: 0.0005, 62: 0.0003, 63: 0.0005, 64: 0.0008, 67: 0.0005, 68: 0.001, 72: 0.0023, 75: 0.0001, 77: 0.0009, 79: 0.0003, 84: 0.0002, 85: 0.0008, 86: 0.0002, 87: 0.0001, 88: 0.005, 90: 0.0002, 104: 0.0007, 105: 0.0001, 106: 0.0001, 107: 0.0009})"
            ]
          },
          "metadata": {},
          "execution_count": 136
        }
      ]
    },
    {
      "cell_type": "markdown",
      "source": [
        "### Details of features"
      ],
      "metadata": {
        "id": "5LpnQLUKKGWm"
      }
    },
    {
      "cell_type": "code",
      "source": [
        "pred_var_numeric = ['TA_F', 'VPD_F', 'P_F', 'NETRAD','ET',\n",
        "                    'BESS-PAR', 'BESS-PARdiff','BESS-RSDN', \n",
        "                    'CSIF-SIFdaily', 'CSIF-SIFinst','PET', 'Ts', 'Tmean',\n",
        "                    'prcp', 'vpd', 'prcp-lag3', 'ESACCI-sm',\n",
        "                    'b1', 'b2', 'b3','b4', 'b5', 'b6', 'b7', \n",
        "                    'EVI', 'GCI', 'NDVI', 'NDWI', 'NIRv', 'kNDVI',\n",
        "                    'Percent_Snow', 'Fpar', 'Lai', 'LST_Day', 'LST_Night', \n",
        "                    'CO2_concentration', 'LOCATION_LAT', 'LOCATION_LONG',\n",
        "                    'year', 'month']\n",
        "print(f'Numeric features: {len(pred_var_numeric)}')\n",
        "\n",
        "# pred_var_categorical_OHE = [`SITE_IGBP`, 'MODIS_LC_OHE', 'MODIS_IGBP_OHE','MODIS_PFT_OHE',\n",
        "#                         'koppen_sub_OHE', 'koppen_OHE']\n",
        "\n",
        "# Name one-hot-encoded categorical features as follows\n",
        "SITE_IGBP = ['SITE_IGBP_' + str(i+1) for i in range(10)]\n",
        "MODIS_LC = ['MODIS_LC_' + str(i+1) for i in range(13)]\n",
        "MODIS_IGBP = ['MODIS_IGBP_' + str(i+1) for i in range(13)]\n",
        "MODIS_PFT = ['MODIS_PFT_' + str(i+1) for i in range(8)]\n",
        "koppen_sub = ['koppen_sub_' + str(i+1) for i in range(20)]\n",
        "koppen = ['koppen_' + str(i+1) for i in range(4)]\n",
        "\n",
        "feature_list_OHE = pred_var_numeric + SITE_IGBP + MODIS_LC + MODIS_IGBP + MODIS_PFT + koppen_sub + koppen\n",
        "\n",
        "print(f'Numeric + categorical features: {len(feature_list_OHE)}')"
      ],
      "metadata": {
        "colab": {
          "base_uri": "https://localhost:8080/"
        },
        "id": "B7odNyPUIPjS",
        "outputId": "2883e143-2a43-41f2-bcc1-144ef5ba8ddb"
      },
      "execution_count": 146,
      "outputs": [
        {
          "output_type": "stream",
          "name": "stdout",
          "text": [
            "Numeric features: 40\n",
            "Numeric + categorical features: 108\n"
          ]
        }
      ]
    },
    {
      "cell_type": "code",
      "source": [
        "feature_importances_list = [feature_list_OHE]\n",
        "feature_importances_list += [list(feature_importance)]\n",
        "feature_importances_df = pd.DataFrame(feature_importances_list).T"
      ],
      "metadata": {
        "id": "3iRHWHYyyfJO"
      },
      "execution_count": 147,
      "outputs": []
    },
    {
      "cell_type": "code",
      "source": [
        "feature_importances_df.columns = [\"feature_name\", \"importance\"]\n",
        "feature_importances_df"
      ],
      "metadata": {
        "colab": {
          "base_uri": "https://localhost:8080/",
          "height": 424
        },
        "id": "DZiIByA2_S2c",
        "outputId": "8db83cdc-4210-462e-b019-1ee56bf74b7a"
      },
      "execution_count": 148,
      "outputs": [
        {
          "output_type": "execute_result",
          "data": {
            "text/plain": [
              "      feature_name importance\n",
              "0             TA_F   0.001017\n",
              "1            VPD_F        0.0\n",
              "2              P_F    0.00028\n",
              "3           NETRAD    0.03309\n",
              "4               ET   0.019118\n",
              "..             ...        ...\n",
              "103  koppen_sub_20        0.0\n",
              "104       koppen_1   0.000685\n",
              "105       koppen_2   0.000051\n",
              "106       koppen_3   0.000144\n",
              "107       koppen_4    0.00094\n",
              "\n",
              "[108 rows x 2 columns]"
            ],
            "text/html": [
              "\n",
              "  <div id=\"df-e4cfe4ac-26ea-4c63-9439-db74289440c0\">\n",
              "    <div class=\"colab-df-container\">\n",
              "      <div>\n",
              "<style scoped>\n",
              "    .dataframe tbody tr th:only-of-type {\n",
              "        vertical-align: middle;\n",
              "    }\n",
              "\n",
              "    .dataframe tbody tr th {\n",
              "        vertical-align: top;\n",
              "    }\n",
              "\n",
              "    .dataframe thead th {\n",
              "        text-align: right;\n",
              "    }\n",
              "</style>\n",
              "<table border=\"1\" class=\"dataframe\">\n",
              "  <thead>\n",
              "    <tr style=\"text-align: right;\">\n",
              "      <th></th>\n",
              "      <th>feature_name</th>\n",
              "      <th>importance</th>\n",
              "    </tr>\n",
              "  </thead>\n",
              "  <tbody>\n",
              "    <tr>\n",
              "      <th>0</th>\n",
              "      <td>TA_F</td>\n",
              "      <td>0.001017</td>\n",
              "    </tr>\n",
              "    <tr>\n",
              "      <th>1</th>\n",
              "      <td>VPD_F</td>\n",
              "      <td>0.0</td>\n",
              "    </tr>\n",
              "    <tr>\n",
              "      <th>2</th>\n",
              "      <td>P_F</td>\n",
              "      <td>0.00028</td>\n",
              "    </tr>\n",
              "    <tr>\n",
              "      <th>3</th>\n",
              "      <td>NETRAD</td>\n",
              "      <td>0.03309</td>\n",
              "    </tr>\n",
              "    <tr>\n",
              "      <th>4</th>\n",
              "      <td>ET</td>\n",
              "      <td>0.019118</td>\n",
              "    </tr>\n",
              "    <tr>\n",
              "      <th>...</th>\n",
              "      <td>...</td>\n",
              "      <td>...</td>\n",
              "    </tr>\n",
              "    <tr>\n",
              "      <th>103</th>\n",
              "      <td>koppen_sub_20</td>\n",
              "      <td>0.0</td>\n",
              "    </tr>\n",
              "    <tr>\n",
              "      <th>104</th>\n",
              "      <td>koppen_1</td>\n",
              "      <td>0.000685</td>\n",
              "    </tr>\n",
              "    <tr>\n",
              "      <th>105</th>\n",
              "      <td>koppen_2</td>\n",
              "      <td>0.000051</td>\n",
              "    </tr>\n",
              "    <tr>\n",
              "      <th>106</th>\n",
              "      <td>koppen_3</td>\n",
              "      <td>0.000144</td>\n",
              "    </tr>\n",
              "    <tr>\n",
              "      <th>107</th>\n",
              "      <td>koppen_4</td>\n",
              "      <td>0.00094</td>\n",
              "    </tr>\n",
              "  </tbody>\n",
              "</table>\n",
              "<p>108 rows × 2 columns</p>\n",
              "</div>\n",
              "      <button class=\"colab-df-convert\" onclick=\"convertToInteractive('df-e4cfe4ac-26ea-4c63-9439-db74289440c0')\"\n",
              "              title=\"Convert this dataframe to an interactive table.\"\n",
              "              style=\"display:none;\">\n",
              "        \n",
              "  <svg xmlns=\"http://www.w3.org/2000/svg\" height=\"24px\"viewBox=\"0 0 24 24\"\n",
              "       width=\"24px\">\n",
              "    <path d=\"M0 0h24v24H0V0z\" fill=\"none\"/>\n",
              "    <path d=\"M18.56 5.44l.94 2.06.94-2.06 2.06-.94-2.06-.94-.94-2.06-.94 2.06-2.06.94zm-11 1L8.5 8.5l.94-2.06 2.06-.94-2.06-.94L8.5 2.5l-.94 2.06-2.06.94zm10 10l.94 2.06.94-2.06 2.06-.94-2.06-.94-.94-2.06-.94 2.06-2.06.94z\"/><path d=\"M17.41 7.96l-1.37-1.37c-.4-.4-.92-.59-1.43-.59-.52 0-1.04.2-1.43.59L10.3 9.45l-7.72 7.72c-.78.78-.78 2.05 0 2.83L4 21.41c.39.39.9.59 1.41.59.51 0 1.02-.2 1.41-.59l7.78-7.78 2.81-2.81c.8-.78.8-2.07 0-2.86zM5.41 20L4 18.59l7.72-7.72 1.47 1.35L5.41 20z\"/>\n",
              "  </svg>\n",
              "      </button>\n",
              "      \n",
              "  <style>\n",
              "    .colab-df-container {\n",
              "      display:flex;\n",
              "      flex-wrap:wrap;\n",
              "      gap: 12px;\n",
              "    }\n",
              "\n",
              "    .colab-df-convert {\n",
              "      background-color: #E8F0FE;\n",
              "      border: none;\n",
              "      border-radius: 50%;\n",
              "      cursor: pointer;\n",
              "      display: none;\n",
              "      fill: #1967D2;\n",
              "      height: 32px;\n",
              "      padding: 0 0 0 0;\n",
              "      width: 32px;\n",
              "    }\n",
              "\n",
              "    .colab-df-convert:hover {\n",
              "      background-color: #E2EBFA;\n",
              "      box-shadow: 0px 1px 2px rgba(60, 64, 67, 0.3), 0px 1px 3px 1px rgba(60, 64, 67, 0.15);\n",
              "      fill: #174EA6;\n",
              "    }\n",
              "\n",
              "    [theme=dark] .colab-df-convert {\n",
              "      background-color: #3B4455;\n",
              "      fill: #D2E3FC;\n",
              "    }\n",
              "\n",
              "    [theme=dark] .colab-df-convert:hover {\n",
              "      background-color: #434B5C;\n",
              "      box-shadow: 0px 1px 3px 1px rgba(0, 0, 0, 0.15);\n",
              "      filter: drop-shadow(0px 1px 2px rgba(0, 0, 0, 0.3));\n",
              "      fill: #FFFFFF;\n",
              "    }\n",
              "  </style>\n",
              "\n",
              "      <script>\n",
              "        const buttonEl =\n",
              "          document.querySelector('#df-e4cfe4ac-26ea-4c63-9439-db74289440c0 button.colab-df-convert');\n",
              "        buttonEl.style.display =\n",
              "          google.colab.kernel.accessAllowed ? 'block' : 'none';\n",
              "\n",
              "        async function convertToInteractive(key) {\n",
              "          const element = document.querySelector('#df-e4cfe4ac-26ea-4c63-9439-db74289440c0');\n",
              "          const dataTable =\n",
              "            await google.colab.kernel.invokeFunction('convertToInteractive',\n",
              "                                                     [key], {});\n",
              "          if (!dataTable) return;\n",
              "\n",
              "          const docLinkHtml = 'Like what you see? Visit the ' +\n",
              "            '<a target=\"_blank\" href=https://colab.research.google.com/notebooks/data_table.ipynb>data table notebook</a>'\n",
              "            + ' to learn more about interactive tables.';\n",
              "          element.innerHTML = '';\n",
              "          dataTable['output_type'] = 'display_data';\n",
              "          await google.colab.output.renderOutput(dataTable, element);\n",
              "          const docLink = document.createElement('div');\n",
              "          docLink.innerHTML = docLinkHtml;\n",
              "          element.appendChild(docLink);\n",
              "        }\n",
              "      </script>\n",
              "    </div>\n",
              "  </div>\n",
              "  "
            ]
          },
          "metadata": {},
          "execution_count": 148
        }
      ]
    },
    {
      "cell_type": "code",
      "source": [
        "!pwd"
      ],
      "metadata": {
        "colab": {
          "base_uri": "https://localhost:8080/"
        },
        "id": "VPrfQduJLomV",
        "outputId": "104f6cec-7da4-4792-8ece-c1d8da9a04c4"
      },
      "execution_count": 149,
      "outputs": [
        {
          "output_type": "stream",
          "name": "stdout",
          "text": [
            "/content/drive/MyDrive\n"
          ]
        }
      ]
    },
    {
      "cell_type": "code",
      "source": [
        "!pip install pandas==1.3.0"
      ],
      "metadata": {
        "colab": {
          "base_uri": "https://localhost:8080/"
        },
        "id": "IPXu_ESWNENC",
        "outputId": "26faa970-bc48-48f8-9526-d319f6f4fd10"
      },
      "execution_count": 150,
      "outputs": [
        {
          "output_type": "stream",
          "name": "stdout",
          "text": [
            "Looking in indexes: https://pypi.org/simple, https://us-python.pkg.dev/colab-wheels/public/simple/\n",
            "Requirement already satisfied: pandas==1.3.0 in /usr/local/lib/python3.8/dist-packages (1.3.0)\n",
            "Requirement already satisfied: python-dateutil>=2.7.3 in /usr/local/lib/python3.8/dist-packages (from pandas==1.3.0) (2.8.2)\n",
            "Requirement already satisfied: numpy>=1.17.3 in /usr/local/lib/python3.8/dist-packages (from pandas==1.3.0) (1.21.6)\n",
            "Requirement already satisfied: pytz>=2017.3 in /usr/local/lib/python3.8/dist-packages (from pandas==1.3.0) (2022.7.1)\n",
            "Requirement already satisfied: six>=1.5 in /usr/local/lib/python3.8/dist-packages (from python-dateutil>=2.7.3->pandas==1.3.0) (1.15.0)\n"
          ]
        }
      ]
    },
    {
      "cell_type": "code",
      "source": [
        "feature_importances_df.to_csv(\"feature_importances_df_monthly.csv\")"
      ],
      "metadata": {
        "id": "RxRcZ7PaH5-5"
      },
      "execution_count": 151,
      "outputs": []
    },
    {
      "cell_type": "code",
      "source": [],
      "metadata": {
        "id": "GC6hnlTrqr2h"
      },
      "execution_count": null,
      "outputs": []
    }
  ]
}