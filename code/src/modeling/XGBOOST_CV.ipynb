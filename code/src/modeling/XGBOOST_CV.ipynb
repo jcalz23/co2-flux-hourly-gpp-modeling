{
 "cells": [
  {
   "cell_type": "markdown",
   "metadata": {
    "id": "XaXGMTqJr71d",
    "tags": []
   },
   "source": [
    "# Notebook Setup"
   ]
  },
  {
   "cell_type": "code",
   "execution_count": 2,
   "metadata": {
    "colab": {
     "base_uri": "https://localhost:8080/"
    },
    "executionInfo": {
     "elapsed": 1676,
     "status": "ok",
     "timestamp": 1680922437930,
     "user": {
      "displayName": "Mary Chau",
      "userId": "14027067063095206122"
     },
     "user_tz": 420
    },
    "id": "CDKm-L00cbfQ",
    "outputId": "c117a5b2-7f76-49c1-fb8b-ca2740e20488"
   },
   "outputs": [],
   "source": [
    "if 'google.colab' in str(get_ipython()):\n",
    "    IN_COLLAB = True\n",
    "else:\n",
    "    IN_COLLAB = False\n",
    "\n",
    "if IN_COLLAB:\n",
    "    #TODO: CHANGE THIS BASED ON YOUR OWN LOCAL SETTINGS\n",
    "    MY_HOME_ABS_PATH = \"/content/drive/MyDrive/W210/co2-flux-hourly-gpp-modeling\"\n",
    "    # MY_HOME_ABS_PATH = \"/content/drive/MyDrive/TFT_baseline\"\n",
    "    from google.colab import drive\n",
    "    drive.mount('/content/drive/')\n",
    "else:\n",
    "    MY_HOME_ABS_PATH = \"/root/co2-flux-hourly-gpp-modeling/\"\n",
    "    # MY_HOME_ABS_PATH = \"/home/ec2-user/SageMaker/root/co2-flux-hourly-gpp-modeling\""
   ]
  },
  {
   "cell_type": "markdown",
   "metadata": {
    "id": "y2bHb6TEy3_D"
   },
   "source": [
    "## Import Modules"
   ]
  },
  {
   "cell_type": "code",
   "execution_count": 3,
   "metadata": {
    "executionInfo": {
     "elapsed": 6597,
     "status": "ok",
     "timestamp": 1680922444509,
     "user": {
      "displayName": "Mary Chau",
      "userId": "14027067063095206122"
     },
     "user_tz": 420
    },
    "id": "eSrZ4-MmbM6f"
   },
   "outputs": [
    {
     "name": "stdout",
     "output_type": "stream",
     "text": [
      "\u001b[33mWARNING: Running pip as the 'root' user can result in broken permissions and conflicting behaviour with the system package manager. It is recommended to use a virtual environment instead: https://pip.pypa.io/warnings/venv\u001b[0m\u001b[33m\n",
      "\u001b[0m"
     ]
    }
   ],
   "source": [
    "if IN_COLLAB:\n",
    "    !pip install torch pytorch-lightning pytorch_forecasting azure-storage-blob -q\n",
    "else:\n",
    "    !pip install xgboost -q"
   ]
  },
  {
   "cell_type": "code",
   "execution_count": 4,
   "metadata": {
    "colab": {
     "base_uri": "https://localhost:8080/"
    },
    "executionInfo": {
     "elapsed": 24906,
     "status": "ok",
     "timestamp": 1680922469382,
     "user": {
      "displayName": "Mary Chau",
      "userId": "14027067063095206122"
     },
     "user_tz": 420
    },
    "id": "1iRimJGJsAh7",
    "outputId": "d9ad1083-e23f-4c61-94ae-364340ce3c50"
   },
   "outputs": [
    {
     "name": "stdout",
     "output_type": "stream",
     "text": [
      "1.7.5\n"
     ]
    },
    {
     "name": "stderr",
     "output_type": "stream",
     "text": [
      "2023-04-08 06:57:52.539819: I tensorflow/tsl/cuda/cudart_stub.cc:28] Could not find cuda drivers on your machine, GPU will not be used.\n",
      "2023-04-08 06:57:53.067687: I tensorflow/tsl/cuda/cudart_stub.cc:28] Could not find cuda drivers on your machine, GPU will not be used.\n",
      "2023-04-08 06:57:53.070098: I tensorflow/core/platform/cpu_feature_guard.cc:182] This TensorFlow binary is optimized to use available CPU instructions in performance-critical operations.\n",
      "To enable the following instructions: AVX2 AVX512F FMA, in other operations, rebuild TensorFlow with the appropriate compiler flags.\n",
      "2023-04-08 06:57:55.301769: W tensorflow/compiler/tf2tensorrt/utils/py_utils.cc:38] TF-TRT Warning: Could not find TensorRT\n",
      "Global seed set to 42\n",
      "Global seed set to 42\n"
     ]
    },
    {
     "data": {
      "text/plain": [
       "42"
      ]
     },
     "execution_count": 4,
     "metadata": {},
     "output_type": "execute_result"
    }
   ],
   "source": [
    "import os\n",
    "import sys\n",
    "import warnings\n",
    "warnings.filterwarnings(\"ignore\")\n",
    "import copy\n",
    "import json\n",
    "from pathlib import Path\n",
    "import numpy as np\n",
    "import pandas as pd\n",
    "import matplotlib.pyplot as plt\n",
    "\n",
    "import xgboost\n",
    "from xgboost import XGBRegressor, plot_importance\n",
    "from sklearn.metrics import mean_squared_error, mean_absolute_error, r2_score\n",
    "print(xgboost.__version__)\n",
    "\n",
    "from timeit import default_timer\n",
    "from datetime import datetime\n",
    "import gc\n",
    "import pickle\n",
    "import random\n",
    "from pprint import pprint\n",
    "\n",
    "# Load locale custome modules\n",
    "os.chdir(MY_HOME_ABS_PATH)\n",
    "if IN_COLLAB:\n",
    "     os.environ[\"MY_HOME_ABS_PATH\"] = MY_HOME_ABS_PATH\n",
    "     sys.path.insert(0,os.path.abspath(\"./code/src/tools\"))\n",
    "else:\n",
    "    sys.path.append('./cred')\n",
    "    sys.path.append('./code/src/tools')\n",
    "    sys.path.append(os.path.abspath(\"./code/src/tools\"))\n",
    "\n",
    "from CloudIO.AzStorageClient import AzStorageClient\n",
    "from data_pipeline_lib import *\n",
    "from model_pipeline_lib import *\n",
    "\n",
    "pd.set_option('display.max_rows', None)\n",
    "pd.set_option('display.max_columns', None)\n",
    "pd.set_option('display.float_format', lambda x: '%.5f' % x)\n",
    "pl.seed_everything(42)"
   ]
  },
  {
   "cell_type": "markdown",
   "metadata": {
    "id": "5LRk1xhgDrvZ",
    "tags": []
   },
   "source": [
    "# Setup Experiments"
   ]
  },
  {
   "cell_type": "markdown",
   "metadata": {
    "id": "QEOCHI64ysC2",
    "jp-MarkdownHeadingCollapsed": true,
    "tags": []
   },
   "source": [
    "## Define Local File System Constants"
   ]
  },
  {
   "cell_type": "code",
   "execution_count": 5,
   "metadata": {
    "executionInfo": {
     "elapsed": 67,
     "status": "ok",
     "timestamp": 1680922469387,
     "user": {
      "displayName": "Mary Chau",
      "userId": "14027067063095206122"
     },
     "user_tz": 420
    },
    "id": "H-AwqUa5sHYq"
   },
   "outputs": [],
   "source": [
    "root_dir  = MY_HOME_ABS_PATH\n",
    "tmp_dir   = root_dir + os.sep + '.tmp'\n",
    "model_dir = root_dir + os.sep + 'data' + os.sep + 'models'\n",
    "PREPRO_DIR = root_dir + \"/code/src/preprocessing/preproc_objects\"\n",
    "\n",
    "container = \"all-sites-data\"\n",
    "blob_name = \"full_2010_2015_v_mvp_raw.parquet\"\n",
    "local_file = tmp_dir + os.sep + blob_name"
   ]
  },
  {
   "cell_type": "markdown",
   "metadata": {
    "id": "m8-MrPwGcalb"
   },
   "source": [
    "## Define Features and Target"
   ]
  },
  {
   "cell_type": "code",
   "execution_count": 25,
   "metadata": {
    "executionInfo": {
     "elapsed": 190,
     "status": "ok",
     "timestamp": 1680922611944,
     "user": {
      "displayName": "Mary Chau",
      "userId": "14027067063095206122"
     },
     "user_tz": 420
    },
    "id": "VhInEzhonYAI"
   },
   "outputs": [],
   "source": [
    "target_variable = 'GPP_NT_VUT_REF'\n",
    "\n",
    "categorical_cols = ['month', 'day', 'hour', 'koppen_sub', 'koppen_main', 'MODIS_PFT', 'MODIS_IGBP', 'MODIS_LC']\n",
    "realNum_cols = ['TA_ERA', 'SW_IN_ERA', 'LW_IN_ERA', 'VPD_ERA', 'P_ERA', 'PA_ERA', \n",
    "                'EVI', 'NDVI', 'NIRv', 'b1', 'b2', 'b3', 'b4', 'b5', 'b6', 'b7',\n",
    "                'BESS-PAR', 'BESS-PARdiff', 'BESS-RSDN', 'CSIF-SIFdaily',\n",
    "                'PET', 'Ts', 'ESACCI-sm', 'NDWI', 'Percent_Snow', 'Fpar', 'Lai',\n",
    "                'LST_Day', 'LST_Night']\n",
    "features = categorical_cols + realNum_cols\n",
    "\n",
    "supplement_cols= ['site_id', 'timestep_idx_local','gap_flag_hour','gap_flag_month',]"
   ]
  },
  {
   "cell_type": "markdown",
   "metadata": {
    "id": "uKx3JSvBcbZG",
    "jp-MarkdownHeadingCollapsed": true,
    "tags": []
   },
   "source": [
    "## Define Helper Functions\n"
   ]
  },
  {
   "cell_type": "code",
   "execution_count": 7,
   "metadata": {
    "executionInfo": {
     "elapsed": 17,
     "status": "ok",
     "timestamp": 1680923444287,
     "user": {
      "displayName": "Mary Chau",
      "userId": "14027067063095206122"
     },
     "user_tz": 420
    },
    "id": "3aP0WAfhumIZ"
   },
   "outputs": [],
   "source": [
    "class X_y_set:\n",
    "    X = None\n",
    "    y = None\n",
    "\n",
    "def normalize_real_cols(foldNo, realNum_cols, train_X, val_X, test_X = None):\n",
    "\n",
    "    # Normalize data\n",
    "    print(f\"Normalizing real features ({len(realNum_cols)})\")\n",
    "    scaler = StandardScaler().fit(train_X[realNum_cols])\n",
    "    train_X.loc[:,realNum_cols] = scaler.transform(train_X[realNum_cols])\n",
    "    val_X.loc[:,realNum_cols] = scaler.transform(val_df[realNum_cols])\n",
    "\n",
    "    # Save scaler object\n",
    "    scaler_path = os.path.join(PREPRO_DIR, f'scaler_cv{foldNo}.joblib')\n",
    "    joblib.dump(scaler, scaler_path)\n",
    "    print(f\"Saved scaler to {scaler_path}.\")\n",
    "      \n",
    "    train_X.reset_index(inplace=True, drop=True)\n",
    "    val_X.reset_index(inplace=True, drop=True)\n",
    "    print(f\"Train data size: {train_X.shape}.\")\n",
    "    print(f\"Val data size: {val_X.shape}.\")\n",
    "\n",
    "    if test_X is not None:\n",
    "        test_X.loc[:,realNum_cols] = scaler.transform(test_X[realNum_cols]) \n",
    "        test_X.reset_index(inplace=True, drop=True)\n",
    "        print(f\"Test data size: {test_X.shape}.\") \n",
    "  \n",
    "    return train_X, val_X, test_X\n",
    "\n",
    "def split_to_X_y(df):\n",
    "    dataset = X_y_set()\n",
    "    dataset.X = df.drop([target_variable] + supplement_cols, axis=1)\n",
    "    dataset.y = df[target_variable]                \n",
    "    return dataset\n",
    "\n",
    "def RunXGBoostCV(params, fold_data, exp_dir, debug=False, features=None):\n",
    "    cv_results_df = pd.DataFrame(columns=['Fold_No', 'RMSE', 'MAE', 'R2', 'LOSS_SD', 'filename'])\n",
    "    for i, cv in enumerate(fold_data):\n",
    "        verbose = 0\n",
    "        if debug:\n",
    "            print(f\"Fold {i+1}:\")\n",
    "            verbose = 1\n",
    "\n",
    "        train = cv['train']\n",
    "        val = cv['val']\n",
    "        model = XGBRegressor(**best_params, random_state=42,\n",
    "                             tree_method=\"approx\", enable_categorical=True,\n",
    "                             importance_type='gain',\n",
    "                             n_jobs=-1, verbosity=verbose) # <--- Update this model!\n",
    "        \n",
    "        # Trim features is necessary\n",
    "        if features is not None:\n",
    "            train_X = train.X[features] \n",
    "            val_X = val.X[features]\n",
    "        else:\n",
    "            train_X = train.X\n",
    "            val_X = val.X\n",
    "        \n",
    "        model.fit(train_X, train.y)\n",
    "\n",
    "        # Evaluate model\n",
    "        val_actuals = val.y\n",
    "        val_pred = model.predict(val_X)\n",
    "        rmse = np.sqrt(mean_squared_error(val_actuals, val_pred))\n",
    "        mae = mean_absolute_error(val_actuals, val_pred)\n",
    "        r2 = r2_score(val_actuals, val_pred)\n",
    "        loss_std = np.std(val_actuals - val_pred)\n",
    "        if debug:\n",
    "            print(f\"  Val RMSE: {rmse}, Val MAE: {mae}, Val R2/NSE: {r2}, val Loss SD: {loss_std}\")\n",
    "\n",
    "        # # Save models\n",
    "        filesname = f\"model_cv{i+1}.pkl\"\n",
    "        pickle.dump(model, open( exp_dir + os.sep + filesname, 'wb'))\n",
    "        print(f\"  save model to {exp_dir + os.sep + filesname}.\")\n",
    "        result = {'Fold_No': int(i+1), 'RMSE':rmse, 'MAE':mae, 'R2':r2 , 'LOSS_SD':loss_std, 'filename': filesname}\n",
    "        cv_results_df = cv_results_df.append(result, ignore_index=True)\n",
    "\n",
    "    print(f\"Results from params {best_params}:\") \n",
    "    display(cv_results_df)\n",
    "    display(cv_results_df[['RMSE', 'MAE', 'R2']].mean(axis=0))\n",
    "\n",
    "    # Save CV result of CSV\n",
    "    cv_results_df.to_csv(exp_dir + os.sep + \"cv_result.csv\", index=False)\n",
    "    print(f\"CV results saved to {exp_dir + os.sep + 'cv_result.csv'}\")\n",
    "\n",
    "def feature_importance(model, model_name, columns, fig_num, fig, ax):\n",
    "    # get the feature importances\n",
    "    importances = pd.Series(model.feature_importances_, index=columns)#.sort_values(ascending=False)\n",
    "    # Visualize\n",
    "    importances_sorted = importances.sort_values(ascending=True)[-30:]\n",
    "\n",
    "    ax[fig_num].barh(importances_sorted.index, importances_sorted.values)\n",
    "    ax[fig_num].set_title(model_name + '  Feature Importances')\n",
    "    ax[fig_num].set_xlabel('Importance')\n",
    "    ax[fig_num].set_ylabel('Feature')\n",
    "    return importances"
   ]
  },
  {
   "cell_type": "markdown",
   "metadata": {
    "tags": []
   },
   "source": [
    "# Load data from Azure Blob"
   ]
  },
  {
   "cell_type": "code",
   "execution_count": null,
   "metadata": {
    "colab": {
     "base_uri": "https://localhost:8080/"
    },
    "executionInfo": {
     "elapsed": 36038,
     "status": "ok",
     "timestamp": 1680922702468,
     "user": {
      "displayName": "Mary Chau",
      "userId": "14027067063095206122"
     },
     "user_tz": 420
    },
    "id": "Z_arfJmDcaZY",
    "outputId": "87cf1b9a-6c92-4d71-beda-2f908532626b"
   },
   "outputs": [
    {
     "name": "stdout",
     "output_type": "stream",
     "text": [
      "Data size: (4862712, 51)\n",
      "Data Columns: Index(['GPP_NT_VUT_REF', 'site_id', 'timestep_idx_local',\n",
      "       'timestep_idx_global', 'datetime', 'date', 'year', 'month', 'day',\n",
      "       'hour', 'TA_ERA', 'SW_IN_ERA', 'LW_IN_ERA', 'VPD_ERA', 'P_ERA',\n",
      "       'PA_ERA', 'EVI', 'NDVI', 'NIRv', 'b1', 'b2', 'b3', 'b4', 'b5', 'b6',\n",
      "       'b7', 'IGBP', 'lat', 'long', 'koppen_sub', 'koppen_main', 'c3c4',\n",
      "       'c4_percent', 'BESS-PAR', 'BESS-PARdiff', 'BESS-RSDN', 'CSIF-SIFdaily',\n",
      "       'PET', 'Ts', 'ESACCI-sm', 'MODIS_LC', 'NDWI', 'Percent_Snow', 'Fpar',\n",
      "       'Lai', 'LST_Day', 'LST_Night', 'MODIS_IGBP', 'MODIS_PFT',\n",
      "       'gap_flag_hour', 'gap_flag_month'],\n",
      "      dtype='object')\n",
      "NA count: 0\n",
      "\n",
      "Data size: (4862712, 42)\n",
      "\n",
      "Drop gap-filled (hour) - Data size: (4862712, 42)\n",
      "\n",
      "Data size: (4862712, 42)\n",
      "Index(['GPP_NT_VUT_REF', 'month', 'day', 'hour', 'koppen_sub', 'koppen_main',\n",
      "       'MODIS_PFT', 'MODIS_IGBP', 'MODIS_LC', 'TA_ERA', 'SW_IN_ERA',\n",
      "       'LW_IN_ERA', 'VPD_ERA', 'P_ERA', 'PA_ERA', 'EVI', 'NDVI', 'NIRv', 'b1',\n",
      "       'b2', 'b3', 'b4', 'b5', 'b6', 'b7', 'BESS-PAR', 'BESS-PARdiff',\n",
      "       'BESS-RSDN', 'CSIF-SIFdaily', 'PET', 'Ts', 'ESACCI-sm', 'NDWI',\n",
      "       'Percent_Snow', 'Fpar', 'Lai', 'LST_Day', 'LST_Night', 'site_id',\n",
      "       'timestep_idx_local', 'gap_flag_hour', 'gap_flag_month'],\n",
      "      dtype='object')\n"
     ]
    }
   ],
   "source": [
    "data_df = get_raw_datasets(container, blob_name)\n",
    "# data_df = data_df.loc[data_df['timestep_idx_local'] < 24*180, ].copy() # TODO: remove\n",
    "data_df = data_df[[target_variable] + features + supplement_cols]\n",
    "print(f\"\\nData size: {data_df.shape}\")\n",
    "\n",
    "# Drop gap flag hour = 1\n",
    "data_df[data_df[\"gap_flag_hour\"] == float(0)].reset_index(drop=True)\n",
    "print(f\"\\nDrop gap-filled (hour) - Data size: {data_df.shape}\")\n",
    "\n",
    "# Encode categorical variables <-- TODO: Change to Dummy for RFR\n",
    "# ref: https://xgboost.readthedocs.io/en/stable/tutorials/categorical.html\n",
    "for col in categorical_cols:\n",
    "    data_df[col] = data_df[col].astype('category')\n",
    "\n",
    "print(f\"\\nData size: {data_df.shape}\")\n",
    "print(data_df.columns)"
   ]
  },
  {
   "cell_type": "markdown",
   "metadata": {
    "id": "q3DFaT01h6Su",
    "tags": []
   },
   "source": [
    "# Create CV dataset"
   ]
  },
  {
   "cell_type": "code",
   "execution_count": 9,
   "metadata": {
    "colab": {
     "base_uri": "https://localhost:8080/"
    },
    "executionInfo": {
     "elapsed": 16195,
     "status": "ok",
     "timestamp": 1680922734986,
     "user": {
      "displayName": "Mary Chau",
      "userId": "14027067063095206122"
     },
     "user_tz": 420
    },
    "id": "yjSYHtUjh56V",
    "outputId": "00e71311-0fca-4868-e50e-ab22bf775a36"
   },
   "outputs": [
    {
     "name": "stdout",
     "output_type": "stream",
     "text": [
      "\n",
      "Fold 1:\n",
      "Normalizing real features (29)\n",
      "Saved scaler to /root/co2-flux-hourly-gpp-modeling/code/src/preprocessing/preproc_objects/scaler_cv1.joblib.\n",
      "Train data size: (2997048, 37).\n",
      "Val data size: (883296, 37).\n",
      "train_y((2997048,)), train_X((2997048, 37))\n",
      "val_y((883296,)), val_X((883296, 37))\n",
      "\n",
      "Fold 2:\n",
      "Normalizing real features (29)\n",
      "Saved scaler to /root/co2-flux-hourly-gpp-modeling/code/src/preprocessing/preproc_objects/scaler_cv2.joblib.\n",
      "Train data size: (2924472, 37).\n",
      "Val data size: (955872, 37).\n",
      "train_y((2924472,)), train_X((2924472, 37))\n",
      "val_y((955872,)), val_X((955872, 37))\n",
      "\n",
      "Fold 3:\n",
      "Normalizing real features (29)\n",
      "Saved scaler to /root/co2-flux-hourly-gpp-modeling/code/src/preprocessing/preproc_objects/scaler_cv3.joblib.\n",
      "Train data size: (2895240, 37).\n",
      "Val data size: (985104, 37).\n",
      "train_y((2895240,)), train_X((2895240, 37))\n",
      "val_y((985104,)), val_X((985104, 37))\n",
      "\n",
      "Fold 4:\n",
      "Normalizing real features (29)\n",
      "Saved scaler to /root/co2-flux-hourly-gpp-modeling/code/src/preprocessing/preproc_objects/scaler_cv4.joblib.\n",
      "Train data size: (2824272, 37).\n",
      "Val data size: (1056072, 37).\n",
      "train_y((2824272,)), train_X((2824272, 37))\n",
      "val_y((1056072,)), val_X((1056072, 37))\n"
     ]
    }
   ],
   "source": [
    "TEST_INDEX = 4\n",
    "fold_data = []\n",
    "for i in range(4):\n",
    "    print(f\"\\nFold {i+1}:\")\n",
    "    train_df, val_df, _ = get_splited_datasets(data_df, i, TEST_INDEX)\n",
    "\n",
    "    train = split_to_X_y(train_df)\n",
    "    val   = split_to_X_y(val_df)\n",
    "    train.X, val.X, _ = normalize_real_cols(int(i+1), realNum_cols, train.X, val.X, None)\n",
    "\n",
    "    print(f\"train_y({train.y.shape}), train_X({train.X.shape})\")\n",
    "    print(f\"val_y({val.y.shape}), val_X({val.X.shape})\")\n",
    "    fold_data.append({\"train\": train, \"val\": val})"
   ]
  },
  {
   "cell_type": "markdown",
   "metadata": {
    "id": "rZy3cAnwp4pp",
    "tags": []
   },
   "source": [
    "# Cross Validation with Default XGBoost Params"
   ]
  },
  {
   "cell_type": "code",
   "execution_count": 37,
   "metadata": {
    "colab": {
     "base_uri": "https://localhost:8080/",
     "height": 366
    },
    "executionInfo": {
     "elapsed": 40255,
     "status": "ok",
     "timestamp": 1680923528117,
     "user": {
      "displayName": "Mary Chau",
      "userId": "14027067063095206122"
     },
     "user_tz": 420
    },
    "id": "cXn1G_CdqRjP",
    "outputId": "4c96413d-c88a-4c04-84ec-5d9f620774d2",
    "tags": []
   },
   "outputs": [
    {
     "name": "stdout",
     "output_type": "stream",
     "text": [
      "Experiment logs saved to /root/co2-flux-hourly-gpp-modeling/data/models/xgboost_default.\n",
      "  save model to /root/co2-flux-hourly-gpp-modeling/data/models/xgboost_default/model_cv1.pkl.\n",
      "  save model to /root/co2-flux-hourly-gpp-modeling/data/models/xgboost_default/model_cv2.pkl.\n",
      "  save model to /root/co2-flux-hourly-gpp-modeling/data/models/xgboost_default/model_cv3.pkl.\n",
      "  save model to /root/co2-flux-hourly-gpp-modeling/data/models/xgboost_default/model_cv4.pkl.\n",
      "Results from params {}:\n"
     ]
    },
    {
     "data": {
      "text/html": [
       "<div>\n",
       "<style scoped>\n",
       "    .dataframe tbody tr th:only-of-type {\n",
       "        vertical-align: middle;\n",
       "    }\n",
       "\n",
       "    .dataframe tbody tr th {\n",
       "        vertical-align: top;\n",
       "    }\n",
       "\n",
       "    .dataframe thead th {\n",
       "        text-align: right;\n",
       "    }\n",
       "</style>\n",
       "<table border=\"1\" class=\"dataframe\">\n",
       "  <thead>\n",
       "    <tr style=\"text-align: right;\">\n",
       "      <th></th>\n",
       "      <th>Fold_No</th>\n",
       "      <th>RMSE</th>\n",
       "      <th>MAE</th>\n",
       "      <th>R2</th>\n",
       "      <th>LOSS_SD</th>\n",
       "      <th>filename</th>\n",
       "    </tr>\n",
       "  </thead>\n",
       "  <tbody>\n",
       "    <tr>\n",
       "      <th>0</th>\n",
       "      <td>1</td>\n",
       "      <td>3.76068</td>\n",
       "      <td>2.03979</td>\n",
       "      <td>0.70028</td>\n",
       "      <td>3.75155</td>\n",
       "      <td>model_cv1.pkl</td>\n",
       "    </tr>\n",
       "    <tr>\n",
       "      <th>1</th>\n",
       "      <td>2</td>\n",
       "      <td>4.14985</td>\n",
       "      <td>2.21658</td>\n",
       "      <td>0.59414</td>\n",
       "      <td>4.10937</td>\n",
       "      <td>model_cv2.pkl</td>\n",
       "    </tr>\n",
       "    <tr>\n",
       "      <th>2</th>\n",
       "      <td>3</td>\n",
       "      <td>3.89046</td>\n",
       "      <td>2.11998</td>\n",
       "      <td>0.70688</td>\n",
       "      <td>3.88755</td>\n",
       "      <td>model_cv3.pkl</td>\n",
       "    </tr>\n",
       "    <tr>\n",
       "      <th>3</th>\n",
       "      <td>4</td>\n",
       "      <td>3.67020</td>\n",
       "      <td>2.10170</td>\n",
       "      <td>0.73413</td>\n",
       "      <td>3.66826</td>\n",
       "      <td>model_cv4.pkl</td>\n",
       "    </tr>\n",
       "  </tbody>\n",
       "</table>\n",
       "</div>"
      ],
      "text/plain": [
       "  Fold_No    RMSE     MAE      R2  LOSS_SD       filename\n",
       "0       1 3.76068 2.03979 0.70028  3.75155  model_cv1.pkl\n",
       "1       2 4.14985 2.21658 0.59414  4.10937  model_cv2.pkl\n",
       "2       3 3.89046 2.11998 0.70688  3.88755  model_cv3.pkl\n",
       "3       4 3.67020 2.10170 0.73413  3.66826  model_cv4.pkl"
      ]
     },
     "metadata": {},
     "output_type": "display_data"
    },
    {
     "data": {
      "text/plain": [
       "RMSE   3.86780\n",
       "MAE    2.11951\n",
       "R2     0.68386\n",
       "dtype: float64"
      ]
     },
     "metadata": {},
     "output_type": "display_data"
    },
    {
     "name": "stdout",
     "output_type": "stream",
     "text": [
      "CV results saved to /root/co2-flux-hourly-gpp-modeling/data/models/xgboost_default/cv_result.csv\n"
     ]
    }
   ],
   "source": [
    "# Create model result directory\n",
    "#experiment_ts = datetime.now().strftime(\"%y%m%d_%H%M\")\n",
    "experiment_ts = \"default\"\n",
    "exp_dir = model_dir + os.sep + f\"xgboost_{experiment_ts}\" \n",
    "if not (os.path.exists(exp_dir)):\n",
    "    os.makedirs(exp_dir)\n",
    "print(f\"Experiment logs saved to {exp_dir}.\")\n",
    "  \n",
    "best_params = {}\n",
    "cv_results = RunXGBoostCV(best_params, fold_data, exp_dir)"
   ]
  },
  {
   "cell_type": "markdown",
   "metadata": {
    "id": "91YY_BZajnjQ",
    "tags": []
   },
   "source": [
    "## Compare Feature Importances"
   ]
  },
  {
   "cell_type": "code",
   "execution_count": 19,
   "metadata": {
    "colab": {
     "base_uri": "https://localhost:8080/",
     "height": 580
    },
    "executionInfo": {
     "elapsed": 2834,
     "status": "ok",
     "timestamp": 1680923544159,
     "user": {
      "displayName": "Mary Chau",
      "userId": "14027067063095206122"
     },
     "user_tz": 420
    },
    "id": "ciVJCNSqswCn",
    "outputId": "19187086-3386-4916-a0c6-025c43a2c4c1",
    "tags": []
   },
   "outputs": [
    {
     "data": {
      "image/png": "[encoded data removed]",
      "text/plain": [
       "<Figure size 2000x1000 with 4 Axes>"
      ]
     },
     "metadata": {},
     "output_type": "display_data"
    },
    {
     "name": "stdout",
     "output_type": "stream",
     "text": [
      "CV importance saved to /root/co2-flux-hourly-gpp-modeling/data/models/xgboost_default/cv_importance.csv\n"
     ]
    }
   ],
   "source": [
    "import seaborn as sns\n",
    "sns.set_theme(style=\"darkgrid\")\n",
    "sns.set(rc={'figure.figsize':(30,10), })\n",
    "fig, ax = plt.subplots(1, 4, figsize=(20,10))\n",
    "\n",
    "# Get CV result\n",
    "exp_dir = root_dir + \"/data/models/xgboost_default\"\n",
    "cv_results_df = pd.read_csv(exp_dir + os.sep + \"cv_result.csv\")\n",
    "\n",
    "#ref: https://towardsdatascience.com/be-careful-when-interpreting-your-features-importance-in-xgboost-6e16132588e7\n",
    "cv_importances_df = pd.DataFrame()\n",
    "for i, cv in cv_results_df.iterrows():\n",
    "    modelpath = exp_dir + os.sep + cv.filename\n",
    "    model = pickle.load(open(modelpath, 'rb'))\n",
    "    plot_importance(model, ax=ax[i], \n",
    "                    title=f\"CV{cv.Fold_No} Top15 Feature Importance\", xlabel=\"Feature Importance (Gain)\",\n",
    "                    height=0.75, importance_type='gain', max_num_features=15,\n",
    "                    show_values=False)\n",
    "    cv_importances = pd.Series(model.feature_importances_, index=model.feature_names_in_)\n",
    "    cv_importances_df[f\"cv{cv.Fold_No}\"] = cv_importances\n",
    "\n",
    "fig.tight_layout()\n",
    "plt.show()\n",
    "cv_importances_df = cv_importances_df.reset_index()\n",
    "cv_importances_df.columns = ['feature_name','cv1', 'cv2', 'cv3', 'cv4']\n",
    "\n",
    "# Save CV Importance of CSV\n",
    "cv_importances_df.to_csv(exp_dir + os.sep + \"cv_importance.csv\", index=False)\n",
    "print(f\"CV importance saved to {exp_dir + os.sep + 'cv_importance.csv'}\")"
   ]
  },
  {
   "cell_type": "markdown",
   "metadata": {
    "id": "cEyrvc8F3oxa"
   },
   "source": [
    "# Dimensionality Reduction + CV"
   ]
  },
  {
   "cell_type": "code",
   "execution_count": 16,
   "metadata": {
    "tags": []
   },
   "outputs": [
    {
     "name": "stdout",
     "output_type": "stream",
     "text": [
      "Experiment logs saved to /root/co2-flux-hourly-gpp-modeling/data/models/xgboost_trim5.\n",
      "  save model to /root/co2-flux-hourly-gpp-modeling/data/models/xgboost_trim5/model_cv1.pkl.\n",
      "  save model to /root/co2-flux-hourly-gpp-modeling/data/models/xgboost_trim5/model_cv2.pkl.\n",
      "  save model to /root/co2-flux-hourly-gpp-modeling/data/models/xgboost_trim5/model_cv3.pkl.\n",
      "  save model to /root/co2-flux-hourly-gpp-modeling/data/models/xgboost_trim5/model_cv4.pkl.\n",
      "Results from params {}:\n"
     ]
    },
    {
     "data": {
      "text/html": [
       "<div>\n",
       "<style scoped>\n",
       "    .dataframe tbody tr th:only-of-type {\n",
       "        vertical-align: middle;\n",
       "    }\n",
       "\n",
       "    .dataframe tbody tr th {\n",
       "        vertical-align: top;\n",
       "    }\n",
       "\n",
       "    .dataframe thead th {\n",
       "        text-align: right;\n",
       "    }\n",
       "</style>\n",
       "<table border=\"1\" class=\"dataframe\">\n",
       "  <thead>\n",
       "    <tr style=\"text-align: right;\">\n",
       "      <th></th>\n",
       "      <th>Fold_No</th>\n",
       "      <th>RMSE</th>\n",
       "      <th>MAE</th>\n",
       "      <th>R2</th>\n",
       "      <th>LOSS_SD</th>\n",
       "      <th>filename</th>\n",
       "    </tr>\n",
       "  </thead>\n",
       "  <tbody>\n",
       "    <tr>\n",
       "      <th>0</th>\n",
       "      <td>1</td>\n",
       "      <td>3.70144</td>\n",
       "      <td>1.99248</td>\n",
       "      <td>0.70965</td>\n",
       "      <td>3.69583</td>\n",
       "      <td>model_cv1.pkl</td>\n",
       "    </tr>\n",
       "    <tr>\n",
       "      <th>1</th>\n",
       "      <td>2</td>\n",
       "      <td>3.95066</td>\n",
       "      <td>2.04155</td>\n",
       "      <td>0.63217</td>\n",
       "      <td>3.92777</td>\n",
       "      <td>model_cv2.pkl</td>\n",
       "    </tr>\n",
       "    <tr>\n",
       "      <th>2</th>\n",
       "      <td>3</td>\n",
       "      <td>3.97872</td>\n",
       "      <td>2.10709</td>\n",
       "      <td>0.69343</td>\n",
       "      <td>3.96668</td>\n",
       "      <td>model_cv3.pkl</td>\n",
       "    </tr>\n",
       "    <tr>\n",
       "      <th>3</th>\n",
       "      <td>4</td>\n",
       "      <td>3.72166</td>\n",
       "      <td>2.09194</td>\n",
       "      <td>0.72663</td>\n",
       "      <td>3.72137</td>\n",
       "      <td>model_cv4.pkl</td>\n",
       "    </tr>\n",
       "  </tbody>\n",
       "</table>\n",
       "</div>"
      ],
      "text/plain": [
       "  Fold_No    RMSE     MAE      R2  LOSS_SD       filename\n",
       "0       1 3.70144 1.99248 0.70965  3.69583  model_cv1.pkl\n",
       "1       2 3.95066 2.04155 0.63217  3.92777  model_cv2.pkl\n",
       "2       3 3.97872 2.10709 0.69343  3.96668  model_cv3.pkl\n",
       "3       4 3.72166 2.09194 0.72663  3.72137  model_cv4.pkl"
      ]
     },
     "metadata": {},
     "output_type": "display_data"
    },
    {
     "data": {
      "text/plain": [
       "RMSE   3.83812\n",
       "MAE    2.05826\n",
       "R2     0.69047\n",
       "dtype: float64"
      ]
     },
     "metadata": {},
     "output_type": "display_data"
    },
    {
     "name": "stdout",
     "output_type": "stream",
     "text": [
      "CV results saved to /root/co2-flux-hourly-gpp-modeling/data/models/xgboost_trim5/cv_result.csv\n"
     ]
    }
   ],
   "source": [
    "# Create model result directory\n",
    "experiment_ts = \"trim5\"\n",
    "exp_dir = model_dir + os.sep + f\"xgboost_{experiment_ts}\" \n",
    "if not (os.path.exists(exp_dir)):\n",
    "    os.makedirs(exp_dir)\n",
    "print(f\"Experiment logs saved to {exp_dir}.\")\n",
    "  \n",
    "best_params = {}\n",
    "subset_features = ['NDVI', 'NIRv', 'SW_IN_ERA', 'Lai', 'EVI', ]\n",
    "cv_results = RunXGBoostCV(best_params, fold_data, exp_dir, False, subset_features)"
   ]
  },
  {
   "cell_type": "code",
   "execution_count": 13,
   "metadata": {
    "tags": []
   },
   "outputs": [
    {
     "name": "stdout",
     "output_type": "stream",
     "text": [
      "Experiment logs saved to /root/co2-flux-hourly-gpp-modeling/data/models/xgboost_trim4.\n",
      "  save model to /root/co2-flux-hourly-gpp-modeling/data/models/xgboost_trim4/model_cv1.pkl.\n",
      "  save model to /root/co2-flux-hourly-gpp-modeling/data/models/xgboost_trim4/model_cv2.pkl.\n",
      "  save model to /root/co2-flux-hourly-gpp-modeling/data/models/xgboost_trim4/model_cv3.pkl.\n",
      "  save model to /root/co2-flux-hourly-gpp-modeling/data/models/xgboost_trim4/model_cv4.pkl.\n",
      "Results from params {}:\n"
     ]
    },
    {
     "data": {
      "text/html": [
       "<div>\n",
       "<style scoped>\n",
       "    .dataframe tbody tr th:only-of-type {\n",
       "        vertical-align: middle;\n",
       "    }\n",
       "\n",
       "    .dataframe tbody tr th {\n",
       "        vertical-align: top;\n",
       "    }\n",
       "\n",
       "    .dataframe thead th {\n",
       "        text-align: right;\n",
       "    }\n",
       "</style>\n",
       "<table border=\"1\" class=\"dataframe\">\n",
       "  <thead>\n",
       "    <tr style=\"text-align: right;\">\n",
       "      <th></th>\n",
       "      <th>Fold_No</th>\n",
       "      <th>RMSE</th>\n",
       "      <th>MAE</th>\n",
       "      <th>R2</th>\n",
       "      <th>LOSS_SD</th>\n",
       "      <th>filename</th>\n",
       "    </tr>\n",
       "  </thead>\n",
       "  <tbody>\n",
       "    <tr>\n",
       "      <th>0</th>\n",
       "      <td>1</td>\n",
       "      <td>3.73759</td>\n",
       "      <td>2.01071</td>\n",
       "      <td>0.70395</td>\n",
       "      <td>3.73537</td>\n",
       "      <td>model_cv1.pkl</td>\n",
       "    </tr>\n",
       "    <tr>\n",
       "      <th>1</th>\n",
       "      <td>2</td>\n",
       "      <td>3.91869</td>\n",
       "      <td>2.02165</td>\n",
       "      <td>0.63810</td>\n",
       "      <td>3.89695</td>\n",
       "      <td>model_cv2.pkl</td>\n",
       "    </tr>\n",
       "    <tr>\n",
       "      <th>2</th>\n",
       "      <td>3</td>\n",
       "      <td>3.94263</td>\n",
       "      <td>2.09681</td>\n",
       "      <td>0.69897</td>\n",
       "      <td>3.93385</td>\n",
       "      <td>model_cv3.pkl</td>\n",
       "    </tr>\n",
       "    <tr>\n",
       "      <th>3</th>\n",
       "      <td>4</td>\n",
       "      <td>3.63148</td>\n",
       "      <td>2.03381</td>\n",
       "      <td>0.73971</td>\n",
       "      <td>3.63134</td>\n",
       "      <td>model_cv4.pkl</td>\n",
       "    </tr>\n",
       "  </tbody>\n",
       "</table>\n",
       "</div>"
      ],
      "text/plain": [
       "  Fold_No    RMSE     MAE      R2  LOSS_SD       filename\n",
       "0       1 3.73759 2.01071 0.70395  3.73537  model_cv1.pkl\n",
       "1       2 3.91869 2.02165 0.63810  3.89695  model_cv2.pkl\n",
       "2       3 3.94263 2.09681 0.69897  3.93385  model_cv3.pkl\n",
       "3       4 3.63148 2.03381 0.73971  3.63134  model_cv4.pkl"
      ]
     },
     "metadata": {},
     "output_type": "display_data"
    },
    {
     "data": {
      "text/plain": [
       "RMSE   3.80760\n",
       "MAE    2.04075\n",
       "R2     0.69518\n",
       "dtype: float64"
      ]
     },
     "metadata": {},
     "output_type": "display_data"
    },
    {
     "name": "stdout",
     "output_type": "stream",
     "text": [
      "CV results saved to /root/co2-flux-hourly-gpp-modeling/data/models/xgboost_trim4/cv_result.csv\n"
     ]
    }
   ],
   "source": [
    "# Create model result directory\n",
    "experiment_ts = \"trim4\"\n",
    "exp_dir = model_dir + os.sep + f\"xgboost_{experiment_ts}\" \n",
    "if not (os.path.exists(exp_dir)):\n",
    "    os.makedirs(exp_dir)\n",
    "print(f\"Experiment logs saved to {exp_dir}.\")\n",
    "  \n",
    "best_params = {}\n",
    "subset_features = ['NDVI', 'NIRv', 'SW_IN_ERA', 'EVI', ]\n",
    "cv_results = RunXGBoostCV(best_params, fold_data, exp_dir, False, subset_features)"
   ]
  },
  {
   "cell_type": "code",
   "execution_count": 15,
   "metadata": {
    "tags": []
   },
   "outputs": [
    {
     "name": "stdout",
     "output_type": "stream",
     "text": [
      "Experiment logs saved to /root/co2-flux-hourly-gpp-modeling/data/models/xgboost_trim3.\n",
      "  save model to /root/co2-flux-hourly-gpp-modeling/data/models/xgboost_trim3/model_cv1.pkl.\n",
      "  save model to /root/co2-flux-hourly-gpp-modeling/data/models/xgboost_trim3/model_cv2.pkl.\n",
      "  save model to /root/co2-flux-hourly-gpp-modeling/data/models/xgboost_trim3/model_cv3.pkl.\n",
      "  save model to /root/co2-flux-hourly-gpp-modeling/data/models/xgboost_trim3/model_cv4.pkl.\n",
      "Results from params {}:\n"
     ]
    },
    {
     "data": {
      "text/html": [
       "<div>\n",
       "<style scoped>\n",
       "    .dataframe tbody tr th:only-of-type {\n",
       "        vertical-align: middle;\n",
       "    }\n",
       "\n",
       "    .dataframe tbody tr th {\n",
       "        vertical-align: top;\n",
       "    }\n",
       "\n",
       "    .dataframe thead th {\n",
       "        text-align: right;\n",
       "    }\n",
       "</style>\n",
       "<table border=\"1\" class=\"dataframe\">\n",
       "  <thead>\n",
       "    <tr style=\"text-align: right;\">\n",
       "      <th></th>\n",
       "      <th>Fold_No</th>\n",
       "      <th>RMSE</th>\n",
       "      <th>MAE</th>\n",
       "      <th>R2</th>\n",
       "      <th>LOSS_SD</th>\n",
       "      <th>filename</th>\n",
       "    </tr>\n",
       "  </thead>\n",
       "  <tbody>\n",
       "    <tr>\n",
       "      <th>0</th>\n",
       "      <td>1</td>\n",
       "      <td>3.72162</td>\n",
       "      <td>1.99960</td>\n",
       "      <td>0.70648</td>\n",
       "      <td>3.71946</td>\n",
       "      <td>model_cv1.pkl</td>\n",
       "    </tr>\n",
       "    <tr>\n",
       "      <th>1</th>\n",
       "      <td>2</td>\n",
       "      <td>3.91915</td>\n",
       "      <td>2.01007</td>\n",
       "      <td>0.63801</td>\n",
       "      <td>3.90134</td>\n",
       "      <td>model_cv2.pkl</td>\n",
       "    </tr>\n",
       "    <tr>\n",
       "      <th>2</th>\n",
       "      <td>3</td>\n",
       "      <td>3.93831</td>\n",
       "      <td>2.09451</td>\n",
       "      <td>0.69963</td>\n",
       "      <td>3.93069</td>\n",
       "      <td>model_cv3.pkl</td>\n",
       "    </tr>\n",
       "    <tr>\n",
       "      <th>3</th>\n",
       "      <td>4</td>\n",
       "      <td>3.63370</td>\n",
       "      <td>2.03046</td>\n",
       "      <td>0.73939</td>\n",
       "      <td>3.63363</td>\n",
       "      <td>model_cv4.pkl</td>\n",
       "    </tr>\n",
       "  </tbody>\n",
       "</table>\n",
       "</div>"
      ],
      "text/plain": [
       "  Fold_No    RMSE     MAE      R2  LOSS_SD       filename\n",
       "0       1 3.72162 1.99960 0.70648  3.71946  model_cv1.pkl\n",
       "1       2 3.91915 2.01007 0.63801  3.90134  model_cv2.pkl\n",
       "2       3 3.93831 2.09451 0.69963  3.93069  model_cv3.pkl\n",
       "3       4 3.63370 2.03046 0.73939  3.63363  model_cv4.pkl"
      ]
     },
     "metadata": {},
     "output_type": "display_data"
    },
    {
     "data": {
      "text/plain": [
       "RMSE   3.80320\n",
       "MAE    2.03366\n",
       "R2     0.69588\n",
       "dtype: float64"
      ]
     },
     "metadata": {},
     "output_type": "display_data"
    },
    {
     "name": "stdout",
     "output_type": "stream",
     "text": [
      "CV results saved to /root/co2-flux-hourly-gpp-modeling/data/models/xgboost_trim3/cv_result.csv\n"
     ]
    }
   ],
   "source": [
    "#Create model result directory\n",
    "experiment_ts = \"trim3\"\n",
    "exp_dir = model_dir + os.sep + f\"xgboost_{experiment_ts}\" \n",
    "if not (os.path.exists(exp_dir)):\n",
    "    os.makedirs(exp_dir)\n",
    "print(f\"Experiment logs saved to {exp_dir}.\")\n",
    "  \n",
    "best_params = {}\n",
    "subset_features = ['NDVI', 'NIRv', 'SW_IN_ERA',]\n",
    "cv_results = RunXGBoostCV(best_params, fold_data, exp_dir, False, subset_features)"
   ]
  },
  {
   "cell_type": "code",
   "execution_count": null,
   "metadata": {
    "colab": {
     "base_uri": "https://localhost:8080/",
     "height": 513
    },
    "id": "WhZCpG4ae03m",
    "outputId": "3ee4ab2d-c30c-44e8-9346-8652f0c69cdc"
   },
   "outputs": [
    {
     "data": {
      "text/plain": [
       "Text(0.5, 1.0, 'Loss_Group4')"
      ]
     },
     "execution_count": 115,
     "metadata": {},
     "output_type": "execute_result"
    },
    {
     "data": {
      "image/png": "[encoded data removed]",
      "text/plain": [
       "<Figure size 1000x500 with 4 Axes>"
      ]
     },
     "metadata": {},
     "output_type": "display_data"
    }
   ],
   "source": [
    "import seaborn as sns\n",
    "sns.set()\n",
    "# fig, axes = plt.subplots(figsize=(20,10))\n",
    "fig, axes = plt.subplots(2, 2, sharex=True, figsize=(10,5))\n",
    "plt.xlim([-40, 40])\n",
    "\n",
    "\n",
    "# sns.histplot(loss1, binwidth=3, kde=True) #ax=axes(0,0), \n",
    "sns.histplot(ax=axes[0,0], data=loss1, binwidth=2, kde=True)\n",
    "axes[0,0].set_title(\"Loss_Group1\")\n",
    "sns.histplot(ax=axes[0,1], data=loss2, binwidth=2, kde=True)\n",
    "axes[0,1].set_title(\"Loss_Group2\")\n",
    "sns.histplot(ax=axes[1,0], data=loss3, binwidth=2,kde=True)\n",
    "axes[1,0].set_title(\"Loss_Group3\")\n",
    "sns.histplot(ax=axes[1,1], data=loss4, binwidth=2, kde=True)\n",
    "axes[1,1].set_title(\"Loss_Group4\")\n"
   ]
  },
  {
   "cell_type": "code",
   "execution_count": null,
   "metadata": {
    "colab": {
     "base_uri": "https://localhost:8080/",
     "height": 333
    },
    "id": "MNRRzr8iln03",
    "outputId": "2f901d97-e54e-4db1-9a39-8e576ce47cba"
   },
   "outputs": [
    {
     "data": {
      "text/plain": [
       "Text(0.5, 1.0, 'CDF of loss by group')"
      ]
     },
     "execution_count": 112,
     "metadata": {},
     "output_type": "execute_result"
    },
    {
     "data": {
      "image/png": "[encoded data removed]",
      "text/plain": [
       "<Figure size 800x300 with 1 Axes>"
      ]
     },
     "metadata": {},
     "output_type": "display_data"
    }
   ],
   "source": [
    "fig, axes = plt.subplots(figsize=(8,3))\n",
    "\n",
    "\n",
    "\n",
    "count, bins_count = np.histogram(loss1, bins=len(loss1))\n",
    "# finding the PDF of the histogram using count values\n",
    "pdf = count / sum(count)\n",
    "# using numpy np.cumsum to calculate the CDF\n",
    "# We can also find using the PDF values by looping and adding\n",
    "cdf = np.cumsum(pdf)\n",
    "plt.plot(bins_count[1:], cdf, label=\"loss_group1\")\n",
    "\n",
    "count, bins_count = np.histogram(loss2, bins=len(loss2))\n",
    "pdf = count / sum(count)\n",
    "cdf = np.cumsum(pdf)\n",
    "plt.plot(bins_count[1:], cdf, label=\"loss_group2\")\n",
    "\n",
    "count, bins_count = np.histogram(loss3, bins=len(loss3))\n",
    "pdf = count / sum(count)\n",
    "cdf = np.cumsum(pdf)\n",
    "plt.plot(bins_count[1:], cdf, label=\"loss_group3\")\n",
    "\n",
    "count, bins_count = np.histogram(loss4, bins=len(loss4))\n",
    "pdf = count / sum(count)\n",
    "cdf = np.cumsum(pdf)\n",
    "plt.plot(bins_count[1:], cdf, label=\"loss_group4\")\n",
    "\n",
    "plt.legend(fontsize=8)\n",
    "plt.title(\"CDF of loss by group\", fontsize=10)"
   ]
  },
  {
   "cell_type": "code",
   "execution_count": null,
   "metadata": {
    "colab": {
     "base_uri": "https://localhost:8080/"
    },
    "id": "wMzSs5uJ_bC5",
    "outputId": "d01e2af2-14ad-4d13-c33d-3ed661db7a5d"
   },
   "outputs": [
    {
     "data": {
      "text/plain": [
       "57"
      ]
     },
     "execution_count": 40,
     "metadata": {},
     "output_type": "execute_result"
    }
   ],
   "source": [
    "len(cv_importances_df['feature_name'])"
   ]
  },
  {
   "cell_type": "markdown",
   "metadata": {
    "tags": []
   },
   "source": [
    "# Random Search CV"
   ]
  },
  {
   "cell_type": "code",
   "execution_count": 10,
   "metadata": {
    "tags": []
   },
   "outputs": [
    {
     "data": {
      "text/plain": [
       "0"
      ]
     },
     "execution_count": 10,
     "metadata": {},
     "output_type": "execute_result"
    }
   ],
   "source": [
    "del data_df\n",
    "gc.collect()"
   ]
  },
  {
   "cell_type": "code",
   "execution_count": 14,
   "metadata": {
    "id": "eFL_rvRH3oxa",
    "tags": []
   },
   "outputs": [
    {
     "name": "stdout",
     "output_type": "stream",
     "text": [
      "Experiment logs saved to /root/co2-flux-hourly-gpp-modeling/data/models/xgboost_tuned.\n",
      "\n",
      "Experiment 1 saved to /root/co2-flux-hourly-gpp-modeling/data/models/xgboost_tuned/exp_1.\n",
      "{'n_estimators': 40, 'max_depth': 20}\n",
      "  save model to /root/co2-flux-hourly-gpp-modeling/data/models/xgboost_tuned/exp_1/model_cv1.pkl.\n",
      "  save model to /root/co2-flux-hourly-gpp-modeling/data/models/xgboost_tuned/exp_1/model_cv2.pkl.\n",
      "  save model to /root/co2-flux-hourly-gpp-modeling/data/models/xgboost_tuned/exp_1/model_cv3.pkl.\n",
      "  save model to /root/co2-flux-hourly-gpp-modeling/data/models/xgboost_tuned/exp_1/model_cv4.pkl.\n",
      "Results from params {'n_estimators': 40, 'max_depth': 20}:\n"
     ]
    },
    {
     "data": {
      "text/html": [
       "<div>\n",
       "<style scoped>\n",
       "    .dataframe tbody tr th:only-of-type {\n",
       "        vertical-align: middle;\n",
       "    }\n",
       "\n",
       "    .dataframe tbody tr th {\n",
       "        vertical-align: top;\n",
       "    }\n",
       "\n",
       "    .dataframe thead th {\n",
       "        text-align: right;\n",
       "    }\n",
       "</style>\n",
       "<table border=\"1\" class=\"dataframe\">\n",
       "  <thead>\n",
       "    <tr style=\"text-align: right;\">\n",
       "      <th></th>\n",
       "      <th>Fold_No</th>\n",
       "      <th>RMSE</th>\n",
       "      <th>MAE</th>\n",
       "      <th>R2</th>\n",
       "      <th>LOSS_SD</th>\n",
       "      <th>filename</th>\n",
       "    </tr>\n",
       "  </thead>\n",
       "  <tbody>\n",
       "    <tr>\n",
       "      <th>0</th>\n",
       "      <td>1</td>\n",
       "      <td>4.23616</td>\n",
       "      <td>2.31735</td>\n",
       "      <td>0.61970</td>\n",
       "      <td>4.23185</td>\n",
       "      <td>model_cv1.pkl</td>\n",
       "    </tr>\n",
       "    <tr>\n",
       "      <th>1</th>\n",
       "      <td>2</td>\n",
       "      <td>4.41369</td>\n",
       "      <td>2.31520</td>\n",
       "      <td>0.54089</td>\n",
       "      <td>4.40000</td>\n",
       "      <td>model_cv2.pkl</td>\n",
       "    </tr>\n",
       "    <tr>\n",
       "      <th>2</th>\n",
       "      <td>3</td>\n",
       "      <td>4.45328</td>\n",
       "      <td>2.41993</td>\n",
       "      <td>0.61594</td>\n",
       "      <td>4.44737</td>\n",
       "      <td>model_cv3.pkl</td>\n",
       "    </tr>\n",
       "    <tr>\n",
       "      <th>3</th>\n",
       "      <td>4</td>\n",
       "      <td>4.26947</td>\n",
       "      <td>2.38150</td>\n",
       "      <td>0.64022</td>\n",
       "      <td>4.26947</td>\n",
       "      <td>model_cv4.pkl</td>\n",
       "    </tr>\n",
       "  </tbody>\n",
       "</table>\n",
       "</div>"
      ],
      "text/plain": [
       "  Fold_No    RMSE     MAE      R2  LOSS_SD       filename\n",
       "0       1 4.23616 2.31735 0.61970  4.23185  model_cv1.pkl\n",
       "1       2 4.41369 2.31520 0.54089  4.40000  model_cv2.pkl\n",
       "2       3 4.45328 2.41993 0.61594  4.44737  model_cv3.pkl\n",
       "3       4 4.26947 2.38150 0.64022  4.26947  model_cv4.pkl"
      ]
     },
     "metadata": {},
     "output_type": "display_data"
    },
    {
     "data": {
      "text/plain": [
       "RMSE   4.34315\n",
       "MAE    2.35850\n",
       "R2     0.60419\n",
       "dtype: float64"
      ]
     },
     "metadata": {},
     "output_type": "display_data"
    },
    {
     "name": "stdout",
     "output_type": "stream",
     "text": [
      "CV results saved to /root/co2-flux-hourly-gpp-modeling/data/models/xgboost_tuned/exp_1/cv_result.csv\n",
      "\n",
      "Experiment 2 saved to /root/co2-flux-hourly-gpp-modeling/data/models/xgboost_tuned/exp_2.\n",
      "{'n_estimators': 95, 'max_depth': 15}\n",
      "  save model to /root/co2-flux-hourly-gpp-modeling/data/models/xgboost_tuned/exp_2/model_cv1.pkl.\n",
      "  save model to /root/co2-flux-hourly-gpp-modeling/data/models/xgboost_tuned/exp_2/model_cv2.pkl.\n",
      "  save model to /root/co2-flux-hourly-gpp-modeling/data/models/xgboost_tuned/exp_2/model_cv3.pkl.\n",
      "  save model to /root/co2-flux-hourly-gpp-modeling/data/models/xgboost_tuned/exp_2/model_cv4.pkl.\n",
      "Results from params {'n_estimators': 95, 'max_depth': 15}:\n"
     ]
    },
    {
     "data": {
      "text/html": [
       "<div>\n",
       "<style scoped>\n",
       "    .dataframe tbody tr th:only-of-type {\n",
       "        vertical-align: middle;\n",
       "    }\n",
       "\n",
       "    .dataframe tbody tr th {\n",
       "        vertical-align: top;\n",
       "    }\n",
       "\n",
       "    .dataframe thead th {\n",
       "        text-align: right;\n",
       "    }\n",
       "</style>\n",
       "<table border=\"1\" class=\"dataframe\">\n",
       "  <thead>\n",
       "    <tr style=\"text-align: right;\">\n",
       "      <th></th>\n",
       "      <th>Fold_No</th>\n",
       "      <th>RMSE</th>\n",
       "      <th>MAE</th>\n",
       "      <th>R2</th>\n",
       "      <th>LOSS_SD</th>\n",
       "      <th>filename</th>\n",
       "    </tr>\n",
       "  </thead>\n",
       "  <tbody>\n",
       "    <tr>\n",
       "      <th>0</th>\n",
       "      <td>1</td>\n",
       "      <td>4.05190</td>\n",
       "      <td>2.17992</td>\n",
       "      <td>0.65207</td>\n",
       "      <td>4.04832</td>\n",
       "      <td>model_cv1.pkl</td>\n",
       "    </tr>\n",
       "    <tr>\n",
       "      <th>1</th>\n",
       "      <td>2</td>\n",
       "      <td>4.24413</td>\n",
       "      <td>2.19434</td>\n",
       "      <td>0.57549</td>\n",
       "      <td>4.22589</td>\n",
       "      <td>model_cv2.pkl</td>\n",
       "    </tr>\n",
       "    <tr>\n",
       "      <th>2</th>\n",
       "      <td>3</td>\n",
       "      <td>4.25609</td>\n",
       "      <td>2.27501</td>\n",
       "      <td>0.64920</td>\n",
       "      <td>4.24952</td>\n",
       "      <td>model_cv3.pkl</td>\n",
       "    </tr>\n",
       "    <tr>\n",
       "      <th>3</th>\n",
       "      <td>4</td>\n",
       "      <td>4.06928</td>\n",
       "      <td>2.25762</td>\n",
       "      <td>0.67317</td>\n",
       "      <td>4.06909</td>\n",
       "      <td>model_cv4.pkl</td>\n",
       "    </tr>\n",
       "  </tbody>\n",
       "</table>\n",
       "</div>"
      ],
      "text/plain": [
       "  Fold_No    RMSE     MAE      R2  LOSS_SD       filename\n",
       "0       1 4.05190 2.17992 0.65207  4.04832  model_cv1.pkl\n",
       "1       2 4.24413 2.19434 0.57549  4.22589  model_cv2.pkl\n",
       "2       3 4.25609 2.27501 0.64920  4.24952  model_cv3.pkl\n",
       "3       4 4.06928 2.25762 0.67317  4.06909  model_cv4.pkl"
      ]
     },
     "metadata": {},
     "output_type": "display_data"
    },
    {
     "data": {
      "text/plain": [
       "RMSE   4.15535\n",
       "MAE    2.22672\n",
       "R2     0.63748\n",
       "dtype: float64"
      ]
     },
     "metadata": {},
     "output_type": "display_data"
    },
    {
     "name": "stdout",
     "output_type": "stream",
     "text": [
      "CV results saved to /root/co2-flux-hourly-gpp-modeling/data/models/xgboost_tuned/exp_2/cv_result.csv\n",
      "\n",
      "Experiment 3 saved to /root/co2-flux-hourly-gpp-modeling/data/models/xgboost_tuned/exp_3.\n",
      "{'n_estimators': 130, 'max_depth': 5}\n",
      "  save model to /root/co2-flux-hourly-gpp-modeling/data/models/xgboost_tuned/exp_3/model_cv1.pkl.\n",
      "  save model to /root/co2-flux-hourly-gpp-modeling/data/models/xgboost_tuned/exp_3/model_cv2.pkl.\n",
      "  save model to /root/co2-flux-hourly-gpp-modeling/data/models/xgboost_tuned/exp_3/model_cv3.pkl.\n",
      "  save model to /root/co2-flux-hourly-gpp-modeling/data/models/xgboost_tuned/exp_3/model_cv4.pkl.\n",
      "Results from params {'n_estimators': 130, 'max_depth': 5}:\n"
     ]
    },
    {
     "data": {
      "text/html": [
       "<div>\n",
       "<style scoped>\n",
       "    .dataframe tbody tr th:only-of-type {\n",
       "        vertical-align: middle;\n",
       "    }\n",
       "\n",
       "    .dataframe tbody tr th {\n",
       "        vertical-align: top;\n",
       "    }\n",
       "\n",
       "    .dataframe thead th {\n",
       "        text-align: right;\n",
       "    }\n",
       "</style>\n",
       "<table border=\"1\" class=\"dataframe\">\n",
       "  <thead>\n",
       "    <tr style=\"text-align: right;\">\n",
       "      <th></th>\n",
       "      <th>Fold_No</th>\n",
       "      <th>RMSE</th>\n",
       "      <th>MAE</th>\n",
       "      <th>R2</th>\n",
       "      <th>LOSS_SD</th>\n",
       "      <th>filename</th>\n",
       "    </tr>\n",
       "  </thead>\n",
       "  <tbody>\n",
       "    <tr>\n",
       "      <th>0</th>\n",
       "      <td>1</td>\n",
       "      <td>3.71075</td>\n",
       "      <td>1.99751</td>\n",
       "      <td>0.70819</td>\n",
       "      <td>3.70831</td>\n",
       "      <td>model_cv1.pkl</td>\n",
       "    </tr>\n",
       "    <tr>\n",
       "      <th>1</th>\n",
       "      <td>2</td>\n",
       "      <td>3.91150</td>\n",
       "      <td>2.00606</td>\n",
       "      <td>0.63942</td>\n",
       "      <td>3.89329</td>\n",
       "      <td>model_cv2.pkl</td>\n",
       "    </tr>\n",
       "    <tr>\n",
       "      <th>2</th>\n",
       "      <td>3</td>\n",
       "      <td>3.92384</td>\n",
       "      <td>2.08745</td>\n",
       "      <td>0.70183</td>\n",
       "      <td>3.91598</td>\n",
       "      <td>model_cv3.pkl</td>\n",
       "    </tr>\n",
       "    <tr>\n",
       "      <th>3</th>\n",
       "      <td>4</td>\n",
       "      <td>3.61616</td>\n",
       "      <td>2.01827</td>\n",
       "      <td>0.74190</td>\n",
       "      <td>3.61614</td>\n",
       "      <td>model_cv4.pkl</td>\n",
       "    </tr>\n",
       "  </tbody>\n",
       "</table>\n",
       "</div>"
      ],
      "text/plain": [
       "  Fold_No    RMSE     MAE      R2  LOSS_SD       filename\n",
       "0       1 3.71075 1.99751 0.70819  3.70831  model_cv1.pkl\n",
       "1       2 3.91150 2.00606 0.63942  3.89329  model_cv2.pkl\n",
       "2       3 3.92384 2.08745 0.70183  3.91598  model_cv3.pkl\n",
       "3       4 3.61616 2.01827 0.74190  3.61614  model_cv4.pkl"
      ]
     },
     "metadata": {},
     "output_type": "display_data"
    },
    {
     "data": {
      "text/plain": [
       "RMSE   3.79056\n",
       "MAE    2.02732\n",
       "R2     0.69784\n",
       "dtype: float64"
      ]
     },
     "metadata": {},
     "output_type": "display_data"
    },
    {
     "name": "stdout",
     "output_type": "stream",
     "text": [
      "CV results saved to /root/co2-flux-hourly-gpp-modeling/data/models/xgboost_tuned/exp_3/cv_result.csv\n",
      "\n",
      "Experiment 4 saved to /root/co2-flux-hourly-gpp-modeling/data/models/xgboost_tuned/exp_4.\n",
      "{'n_estimators': 125, 'max_depth': 10}\n",
      "  save model to /root/co2-flux-hourly-gpp-modeling/data/models/xgboost_tuned/exp_4/model_cv1.pkl.\n",
      "  save model to /root/co2-flux-hourly-gpp-modeling/data/models/xgboost_tuned/exp_4/model_cv2.pkl.\n",
      "  save model to /root/co2-flux-hourly-gpp-modeling/data/models/xgboost_tuned/exp_4/model_cv3.pkl.\n",
      "  save model to /root/co2-flux-hourly-gpp-modeling/data/models/xgboost_tuned/exp_4/model_cv4.pkl.\n",
      "Results from params {'n_estimators': 125, 'max_depth': 10}:\n"
     ]
    },
    {
     "data": {
      "text/html": [
       "<div>\n",
       "<style scoped>\n",
       "    .dataframe tbody tr th:only-of-type {\n",
       "        vertical-align: middle;\n",
       "    }\n",
       "\n",
       "    .dataframe tbody tr th {\n",
       "        vertical-align: top;\n",
       "    }\n",
       "\n",
       "    .dataframe thead th {\n",
       "        text-align: right;\n",
       "    }\n",
       "</style>\n",
       "<table border=\"1\" class=\"dataframe\">\n",
       "  <thead>\n",
       "    <tr style=\"text-align: right;\">\n",
       "      <th></th>\n",
       "      <th>Fold_No</th>\n",
       "      <th>RMSE</th>\n",
       "      <th>MAE</th>\n",
       "      <th>R2</th>\n",
       "      <th>LOSS_SD</th>\n",
       "      <th>filename</th>\n",
       "    </tr>\n",
       "  </thead>\n",
       "  <tbody>\n",
       "    <tr>\n",
       "      <th>0</th>\n",
       "      <td>1</td>\n",
       "      <td>3.84092</td>\n",
       "      <td>2.06410</td>\n",
       "      <td>0.68736</td>\n",
       "      <td>3.83823</td>\n",
       "      <td>model_cv1.pkl</td>\n",
       "    </tr>\n",
       "    <tr>\n",
       "      <th>1</th>\n",
       "      <td>2</td>\n",
       "      <td>4.04432</td>\n",
       "      <td>2.08137</td>\n",
       "      <td>0.61452</td>\n",
       "      <td>4.02524</td>\n",
       "      <td>model_cv2.pkl</td>\n",
       "    </tr>\n",
       "    <tr>\n",
       "      <th>2</th>\n",
       "      <td>3</td>\n",
       "      <td>4.06136</td>\n",
       "      <td>2.15897</td>\n",
       "      <td>0.68057</td>\n",
       "      <td>4.05401</td>\n",
       "      <td>model_cv3.pkl</td>\n",
       "    </tr>\n",
       "    <tr>\n",
       "      <th>3</th>\n",
       "      <td>4</td>\n",
       "      <td>3.78838</td>\n",
       "      <td>2.11430</td>\n",
       "      <td>0.71674</td>\n",
       "      <td>3.78830</td>\n",
       "      <td>model_cv4.pkl</td>\n",
       "    </tr>\n",
       "  </tbody>\n",
       "</table>\n",
       "</div>"
      ],
      "text/plain": [
       "  Fold_No    RMSE     MAE      R2  LOSS_SD       filename\n",
       "0       1 3.84092 2.06410 0.68736  3.83823  model_cv1.pkl\n",
       "1       2 4.04432 2.08137 0.61452  4.02524  model_cv2.pkl\n",
       "2       3 4.06136 2.15897 0.68057  4.05401  model_cv3.pkl\n",
       "3       4 3.78838 2.11430 0.71674  3.78830  model_cv4.pkl"
      ]
     },
     "metadata": {},
     "output_type": "display_data"
    },
    {
     "data": {
      "text/plain": [
       "RMSE   3.93375\n",
       "MAE    2.10469\n",
       "R2     0.67479\n",
       "dtype: float64"
      ]
     },
     "metadata": {},
     "output_type": "display_data"
    },
    {
     "name": "stdout",
     "output_type": "stream",
     "text": [
      "CV results saved to /root/co2-flux-hourly-gpp-modeling/data/models/xgboost_tuned/exp_4/cv_result.csv\n",
      "\n",
      "Experiment 5 saved to /root/co2-flux-hourly-gpp-modeling/data/models/xgboost_tuned/exp_5.\n",
      "{'n_estimators': 115, 'max_depth': 20}\n",
      "  save model to /root/co2-flux-hourly-gpp-modeling/data/models/xgboost_tuned/exp_5/model_cv1.pkl.\n",
      "  save model to /root/co2-flux-hourly-gpp-modeling/data/models/xgboost_tuned/exp_5/model_cv2.pkl.\n",
      "  save model to /root/co2-flux-hourly-gpp-modeling/data/models/xgboost_tuned/exp_5/model_cv3.pkl.\n",
      "  save model to /root/co2-flux-hourly-gpp-modeling/data/models/xgboost_tuned/exp_5/model_cv4.pkl.\n",
      "Results from params {'n_estimators': 115, 'max_depth': 20}:\n"
     ]
    },
    {
     "data": {
      "text/html": [
       "<div>\n",
       "<style scoped>\n",
       "    .dataframe tbody tr th:only-of-type {\n",
       "        vertical-align: middle;\n",
       "    }\n",
       "\n",
       "    .dataframe tbody tr th {\n",
       "        vertical-align: top;\n",
       "    }\n",
       "\n",
       "    .dataframe thead th {\n",
       "        text-align: right;\n",
       "    }\n",
       "</style>\n",
       "<table border=\"1\" class=\"dataframe\">\n",
       "  <thead>\n",
       "    <tr style=\"text-align: right;\">\n",
       "      <th></th>\n",
       "      <th>Fold_No</th>\n",
       "      <th>RMSE</th>\n",
       "      <th>MAE</th>\n",
       "      <th>R2</th>\n",
       "      <th>LOSS_SD</th>\n",
       "      <th>filename</th>\n",
       "    </tr>\n",
       "  </thead>\n",
       "  <tbody>\n",
       "    <tr>\n",
       "      <th>0</th>\n",
       "      <td>1</td>\n",
       "      <td>4.34875</td>\n",
       "      <td>2.39044</td>\n",
       "      <td>0.59922</td>\n",
       "      <td>4.34464</td>\n",
       "      <td>model_cv1.pkl</td>\n",
       "    </tr>\n",
       "    <tr>\n",
       "      <th>1</th>\n",
       "      <td>2</td>\n",
       "      <td>4.54943</td>\n",
       "      <td>2.39007</td>\n",
       "      <td>0.51222</td>\n",
       "      <td>4.53664</td>\n",
       "      <td>model_cv2.pkl</td>\n",
       "    </tr>\n",
       "    <tr>\n",
       "      <th>2</th>\n",
       "      <td>3</td>\n",
       "      <td>4.56899</td>\n",
       "      <td>2.48752</td>\n",
       "      <td>0.59572</td>\n",
       "      <td>4.56365</td>\n",
       "      <td>model_cv3.pkl</td>\n",
       "    </tr>\n",
       "    <tr>\n",
       "      <th>3</th>\n",
       "      <td>4</td>\n",
       "      <td>4.41342</td>\n",
       "      <td>2.46223</td>\n",
       "      <td>0.61555</td>\n",
       "      <td>4.41341</td>\n",
       "      <td>model_cv4.pkl</td>\n",
       "    </tr>\n",
       "  </tbody>\n",
       "</table>\n",
       "</div>"
      ],
      "text/plain": [
       "  Fold_No    RMSE     MAE      R2  LOSS_SD       filename\n",
       "0       1 4.34875 2.39044 0.59922  4.34464  model_cv1.pkl\n",
       "1       2 4.54943 2.39007 0.51222  4.53664  model_cv2.pkl\n",
       "2       3 4.56899 2.48752 0.59572  4.56365  model_cv3.pkl\n",
       "3       4 4.41342 2.46223 0.61555  4.41341  model_cv4.pkl"
      ]
     },
     "metadata": {},
     "output_type": "display_data"
    },
    {
     "data": {
      "text/plain": [
       "RMSE   4.47015\n",
       "MAE    2.43257\n",
       "R2     0.58068\n",
       "dtype: float64"
      ]
     },
     "metadata": {},
     "output_type": "display_data"
    },
    {
     "name": "stdout",
     "output_type": "stream",
     "text": [
      "CV results saved to /root/co2-flux-hourly-gpp-modeling/data/models/xgboost_tuned/exp_5/cv_result.csv\n",
      "\n",
      "Experiment 6 saved to /root/co2-flux-hourly-gpp-modeling/data/models/xgboost_tuned/exp_6.\n",
      "{'n_estimators': 55, 'max_depth': 15}\n",
      "  save model to /root/co2-flux-hourly-gpp-modeling/data/models/xgboost_tuned/exp_6/model_cv1.pkl.\n",
      "  save model to /root/co2-flux-hourly-gpp-modeling/data/models/xgboost_tuned/exp_6/model_cv2.pkl.\n",
      "  save model to /root/co2-flux-hourly-gpp-modeling/data/models/xgboost_tuned/exp_6/model_cv3.pkl.\n",
      "  save model to /root/co2-flux-hourly-gpp-modeling/data/models/xgboost_tuned/exp_6/model_cv4.pkl.\n",
      "Results from params {'n_estimators': 55, 'max_depth': 15}:\n"
     ]
    },
    {
     "data": {
      "text/html": [
       "<div>\n",
       "<style scoped>\n",
       "    .dataframe tbody tr th:only-of-type {\n",
       "        vertical-align: middle;\n",
       "    }\n",
       "\n",
       "    .dataframe tbody tr th {\n",
       "        vertical-align: top;\n",
       "    }\n",
       "\n",
       "    .dataframe thead th {\n",
       "        text-align: right;\n",
       "    }\n",
       "</style>\n",
       "<table border=\"1\" class=\"dataframe\">\n",
       "  <thead>\n",
       "    <tr style=\"text-align: right;\">\n",
       "      <th></th>\n",
       "      <th>Fold_No</th>\n",
       "      <th>RMSE</th>\n",
       "      <th>MAE</th>\n",
       "      <th>R2</th>\n",
       "      <th>LOSS_SD</th>\n",
       "      <th>filename</th>\n",
       "    </tr>\n",
       "  </thead>\n",
       "  <tbody>\n",
       "    <tr>\n",
       "      <th>0</th>\n",
       "      <td>1</td>\n",
       "      <td>3.99103</td>\n",
       "      <td>2.15303</td>\n",
       "      <td>0.66244</td>\n",
       "      <td>3.98754</td>\n",
       "      <td>model_cv1.pkl</td>\n",
       "    </tr>\n",
       "    <tr>\n",
       "      <th>1</th>\n",
       "      <td>2</td>\n",
       "      <td>4.18375</td>\n",
       "      <td>2.16598</td>\n",
       "      <td>0.58748</td>\n",
       "      <td>4.16483</td>\n",
       "      <td>model_cv2.pkl</td>\n",
       "    </tr>\n",
       "    <tr>\n",
       "      <th>2</th>\n",
       "      <td>3</td>\n",
       "      <td>4.19731</td>\n",
       "      <td>2.23974</td>\n",
       "      <td>0.65882</td>\n",
       "      <td>4.19073</td>\n",
       "      <td>model_cv3.pkl</td>\n",
       "    </tr>\n",
       "    <tr>\n",
       "      <th>3</th>\n",
       "      <td>4</td>\n",
       "      <td>3.99021</td>\n",
       "      <td>2.21646</td>\n",
       "      <td>0.68575</td>\n",
       "      <td>3.99004</td>\n",
       "      <td>model_cv4.pkl</td>\n",
       "    </tr>\n",
       "  </tbody>\n",
       "</table>\n",
       "</div>"
      ],
      "text/plain": [
       "  Fold_No    RMSE     MAE      R2  LOSS_SD       filename\n",
       "0       1 3.99103 2.15303 0.66244  3.98754  model_cv1.pkl\n",
       "1       2 4.18375 2.16598 0.58748  4.16483  model_cv2.pkl\n",
       "2       3 4.19731 2.23974 0.65882  4.19073  model_cv3.pkl\n",
       "3       4 3.99021 2.21646 0.68575  3.99004  model_cv4.pkl"
      ]
     },
     "metadata": {},
     "output_type": "display_data"
    },
    {
     "data": {
      "text/plain": [
       "RMSE   4.09057\n",
       "MAE    2.19380\n",
       "R2     0.64862\n",
       "dtype: float64"
      ]
     },
     "metadata": {},
     "output_type": "display_data"
    },
    {
     "name": "stdout",
     "output_type": "stream",
     "text": [
      "CV results saved to /root/co2-flux-hourly-gpp-modeling/data/models/xgboost_tuned/exp_6/cv_result.csv\n",
      "\n",
      "Experiment 7 saved to /root/co2-flux-hourly-gpp-modeling/data/models/xgboost_tuned/exp_7.\n",
      "{'n_estimators': 25, 'max_depth': 10}\n",
      "  save model to /root/co2-flux-hourly-gpp-modeling/data/models/xgboost_tuned/exp_7/model_cv1.pkl.\n",
      "  save model to /root/co2-flux-hourly-gpp-modeling/data/models/xgboost_tuned/exp_7/model_cv2.pkl.\n",
      "  save model to /root/co2-flux-hourly-gpp-modeling/data/models/xgboost_tuned/exp_7/model_cv3.pkl.\n",
      "  save model to /root/co2-flux-hourly-gpp-modeling/data/models/xgboost_tuned/exp_7/model_cv4.pkl.\n",
      "Results from params {'n_estimators': 25, 'max_depth': 10}:\n"
     ]
    },
    {
     "data": {
      "text/html": [
       "<div>\n",
       "<style scoped>\n",
       "    .dataframe tbody tr th:only-of-type {\n",
       "        vertical-align: middle;\n",
       "    }\n",
       "\n",
       "    .dataframe tbody tr th {\n",
       "        vertical-align: top;\n",
       "    }\n",
       "\n",
       "    .dataframe thead th {\n",
       "        text-align: right;\n",
       "    }\n",
       "</style>\n",
       "<table border=\"1\" class=\"dataframe\">\n",
       "  <thead>\n",
       "    <tr style=\"text-align: right;\">\n",
       "      <th></th>\n",
       "      <th>Fold_No</th>\n",
       "      <th>RMSE</th>\n",
       "      <th>MAE</th>\n",
       "      <th>R2</th>\n",
       "      <th>LOSS_SD</th>\n",
       "      <th>filename</th>\n",
       "    </tr>\n",
       "  </thead>\n",
       "  <tbody>\n",
       "    <tr>\n",
       "      <th>0</th>\n",
       "      <td>1</td>\n",
       "      <td>3.73486</td>\n",
       "      <td>2.01428</td>\n",
       "      <td>0.70438</td>\n",
       "      <td>3.73285</td>\n",
       "      <td>model_cv1.pkl</td>\n",
       "    </tr>\n",
       "    <tr>\n",
       "      <th>1</th>\n",
       "      <td>2</td>\n",
       "      <td>3.94307</td>\n",
       "      <td>2.02867</td>\n",
       "      <td>0.63358</td>\n",
       "      <td>3.92312</td>\n",
       "      <td>model_cv2.pkl</td>\n",
       "    </tr>\n",
       "    <tr>\n",
       "      <th>2</th>\n",
       "      <td>3</td>\n",
       "      <td>3.96442</td>\n",
       "      <td>2.10314</td>\n",
       "      <td>0.69563</td>\n",
       "      <td>3.95727</td>\n",
       "      <td>model_cv3.pkl</td>\n",
       "    </tr>\n",
       "    <tr>\n",
       "      <th>3</th>\n",
       "      <td>4</td>\n",
       "      <td>3.67520</td>\n",
       "      <td>2.05643</td>\n",
       "      <td>0.73341</td>\n",
       "      <td>3.67508</td>\n",
       "      <td>model_cv4.pkl</td>\n",
       "    </tr>\n",
       "  </tbody>\n",
       "</table>\n",
       "</div>"
      ],
      "text/plain": [
       "  Fold_No    RMSE     MAE      R2  LOSS_SD       filename\n",
       "0       1 3.73486 2.01428 0.70438  3.73285  model_cv1.pkl\n",
       "1       2 3.94307 2.02867 0.63358  3.92312  model_cv2.pkl\n",
       "2       3 3.96442 2.10314 0.69563  3.95727  model_cv3.pkl\n",
       "3       4 3.67520 2.05643 0.73341  3.67508  model_cv4.pkl"
      ]
     },
     "metadata": {},
     "output_type": "display_data"
    },
    {
     "data": {
      "text/plain": [
       "RMSE   3.82939\n",
       "MAE    2.05063\n",
       "R2     0.69175\n",
       "dtype: float64"
      ]
     },
     "metadata": {},
     "output_type": "display_data"
    },
    {
     "name": "stdout",
     "output_type": "stream",
     "text": [
      "CV results saved to /root/co2-flux-hourly-gpp-modeling/data/models/xgboost_tuned/exp_7/cv_result.csv\n",
      "\n",
      "Experiment 8 saved to /root/co2-flux-hourly-gpp-modeling/data/models/xgboost_tuned/exp_8.\n",
      "{'n_estimators': 125, 'max_depth': 15}\n",
      "  save model to /root/co2-flux-hourly-gpp-modeling/data/models/xgboost_tuned/exp_8/model_cv1.pkl.\n",
      "  save model to /root/co2-flux-hourly-gpp-modeling/data/models/xgboost_tuned/exp_8/model_cv2.pkl.\n",
      "  save model to /root/co2-flux-hourly-gpp-modeling/data/models/xgboost_tuned/exp_8/model_cv3.pkl.\n",
      "  save model to /root/co2-flux-hourly-gpp-modeling/data/models/xgboost_tuned/exp_8/model_cv4.pkl.\n",
      "Results from params {'n_estimators': 125, 'max_depth': 15}:\n"
     ]
    },
    {
     "data": {
      "text/html": [
       "<div>\n",
       "<style scoped>\n",
       "    .dataframe tbody tr th:only-of-type {\n",
       "        vertical-align: middle;\n",
       "    }\n",
       "\n",
       "    .dataframe tbody tr th {\n",
       "        vertical-align: top;\n",
       "    }\n",
       "\n",
       "    .dataframe thead th {\n",
       "        text-align: right;\n",
       "    }\n",
       "</style>\n",
       "<table border=\"1\" class=\"dataframe\">\n",
       "  <thead>\n",
       "    <tr style=\"text-align: right;\">\n",
       "      <th></th>\n",
       "      <th>Fold_No</th>\n",
       "      <th>RMSE</th>\n",
       "      <th>MAE</th>\n",
       "      <th>R2</th>\n",
       "      <th>LOSS_SD</th>\n",
       "      <th>filename</th>\n",
       "    </tr>\n",
       "  </thead>\n",
       "  <tbody>\n",
       "    <tr>\n",
       "      <th>0</th>\n",
       "      <td>1</td>\n",
       "      <td>4.08922</td>\n",
       "      <td>2.20820</td>\n",
       "      <td>0.64563</td>\n",
       "      <td>4.08527</td>\n",
       "      <td>model_cv1.pkl</td>\n",
       "    </tr>\n",
       "    <tr>\n",
       "      <th>1</th>\n",
       "      <td>2</td>\n",
       "      <td>4.28830</td>\n",
       "      <td>2.22047</td>\n",
       "      <td>0.56661</td>\n",
       "      <td>4.26989</td>\n",
       "      <td>model_cv2.pkl</td>\n",
       "    </tr>\n",
       "    <tr>\n",
       "      <th>2</th>\n",
       "      <td>3</td>\n",
       "      <td>4.29701</td>\n",
       "      <td>2.29656</td>\n",
       "      <td>0.64242</td>\n",
       "      <td>4.29057</td>\n",
       "      <td>model_cv3.pkl</td>\n",
       "    </tr>\n",
       "    <tr>\n",
       "      <th>3</th>\n",
       "      <td>4</td>\n",
       "      <td>4.12772</td>\n",
       "      <td>2.28749</td>\n",
       "      <td>0.66372</td>\n",
       "      <td>4.12745</td>\n",
       "      <td>model_cv4.pkl</td>\n",
       "    </tr>\n",
       "  </tbody>\n",
       "</table>\n",
       "</div>"
      ],
      "text/plain": [
       "  Fold_No    RMSE     MAE      R2  LOSS_SD       filename\n",
       "0       1 4.08922 2.20820 0.64563  4.08527  model_cv1.pkl\n",
       "1       2 4.28830 2.22047 0.56661  4.26989  model_cv2.pkl\n",
       "2       3 4.29701 2.29656 0.64242  4.29057  model_cv3.pkl\n",
       "3       4 4.12772 2.28749 0.66372  4.12745  model_cv4.pkl"
      ]
     },
     "metadata": {},
     "output_type": "display_data"
    },
    {
     "data": {
      "text/plain": [
       "RMSE   4.20057\n",
       "MAE    2.25318\n",
       "R2     0.62959\n",
       "dtype: float64"
      ]
     },
     "metadata": {},
     "output_type": "display_data"
    },
    {
     "name": "stdout",
     "output_type": "stream",
     "text": [
      "CV results saved to /root/co2-flux-hourly-gpp-modeling/data/models/xgboost_tuned/exp_8/cv_result.csv\n",
      "\n",
      "Experiment 9 saved to /root/co2-flux-hourly-gpp-modeling/data/models/xgboost_tuned/exp_9.\n",
      "{'n_estimators': 20, 'max_depth': 5}\n",
      "  save model to /root/co2-flux-hourly-gpp-modeling/data/models/xgboost_tuned/exp_9/model_cv1.pkl.\n",
      "  save model to /root/co2-flux-hourly-gpp-modeling/data/models/xgboost_tuned/exp_9/model_cv2.pkl.\n",
      "  save model to /root/co2-flux-hourly-gpp-modeling/data/models/xgboost_tuned/exp_9/model_cv3.pkl.\n",
      "  save model to /root/co2-flux-hourly-gpp-modeling/data/models/xgboost_tuned/exp_9/model_cv4.pkl.\n",
      "Results from params {'n_estimators': 20, 'max_depth': 5}:\n"
     ]
    },
    {
     "data": {
      "text/html": [
       "<div>\n",
       "<style scoped>\n",
       "    .dataframe tbody tr th:only-of-type {\n",
       "        vertical-align: middle;\n",
       "    }\n",
       "\n",
       "    .dataframe tbody tr th {\n",
       "        vertical-align: top;\n",
       "    }\n",
       "\n",
       "    .dataframe thead th {\n",
       "        text-align: right;\n",
       "    }\n",
       "</style>\n",
       "<table border=\"1\" class=\"dataframe\">\n",
       "  <thead>\n",
       "    <tr style=\"text-align: right;\">\n",
       "      <th></th>\n",
       "      <th>Fold_No</th>\n",
       "      <th>RMSE</th>\n",
       "      <th>MAE</th>\n",
       "      <th>R2</th>\n",
       "      <th>LOSS_SD</th>\n",
       "      <th>filename</th>\n",
       "    </tr>\n",
       "  </thead>\n",
       "  <tbody>\n",
       "    <tr>\n",
       "      <th>0</th>\n",
       "      <td>1</td>\n",
       "      <td>3.68155</td>\n",
       "      <td>1.97857</td>\n",
       "      <td>0.71276</td>\n",
       "      <td>3.67814</td>\n",
       "      <td>model_cv1.pkl</td>\n",
       "    </tr>\n",
       "    <tr>\n",
       "      <th>1</th>\n",
       "      <td>2</td>\n",
       "      <td>3.89074</td>\n",
       "      <td>1.98061</td>\n",
       "      <td>0.64324</td>\n",
       "      <td>3.87355</td>\n",
       "      <td>model_cv2.pkl</td>\n",
       "    </tr>\n",
       "    <tr>\n",
       "      <th>2</th>\n",
       "      <td>3</td>\n",
       "      <td>3.88878</td>\n",
       "      <td>2.07254</td>\n",
       "      <td>0.70713</td>\n",
       "      <td>3.88183</td>\n",
       "      <td>model_cv3.pkl</td>\n",
       "    </tr>\n",
       "    <tr>\n",
       "      <th>3</th>\n",
       "      <td>4</td>\n",
       "      <td>3.56328</td>\n",
       "      <td>1.99268</td>\n",
       "      <td>0.74940</td>\n",
       "      <td>3.56326</td>\n",
       "      <td>model_cv4.pkl</td>\n",
       "    </tr>\n",
       "  </tbody>\n",
       "</table>\n",
       "</div>"
      ],
      "text/plain": [
       "  Fold_No    RMSE     MAE      R2  LOSS_SD       filename\n",
       "0       1 3.68155 1.97857 0.71276  3.67814  model_cv1.pkl\n",
       "1       2 3.89074 1.98061 0.64324  3.87355  model_cv2.pkl\n",
       "2       3 3.88878 2.07254 0.70713  3.88183  model_cv3.pkl\n",
       "3       4 3.56328 1.99268 0.74940  3.56326  model_cv4.pkl"
      ]
     },
     "metadata": {},
     "output_type": "display_data"
    },
    {
     "data": {
      "text/plain": [
       "RMSE   3.75609\n",
       "MAE    2.00610\n",
       "R2     0.70313\n",
       "dtype: float64"
      ]
     },
     "metadata": {},
     "output_type": "display_data"
    },
    {
     "name": "stdout",
     "output_type": "stream",
     "text": [
      "CV results saved to /root/co2-flux-hourly-gpp-modeling/data/models/xgboost_tuned/exp_9/cv_result.csv\n",
      "\n",
      "Experiment 10 saved to /root/co2-flux-hourly-gpp-modeling/data/models/xgboost_tuned/exp_10.\n",
      "{'n_estimators': 65, 'max_depth': 5}\n",
      "  save model to /root/co2-flux-hourly-gpp-modeling/data/models/xgboost_tuned/exp_10/model_cv1.pkl.\n",
      "  save model to /root/co2-flux-hourly-gpp-modeling/data/models/xgboost_tuned/exp_10/model_cv2.pkl.\n",
      "  save model to /root/co2-flux-hourly-gpp-modeling/data/models/xgboost_tuned/exp_10/model_cv3.pkl.\n",
      "  save model to /root/co2-flux-hourly-gpp-modeling/data/models/xgboost_tuned/exp_10/model_cv4.pkl.\n",
      "Results from params {'n_estimators': 65, 'max_depth': 5}:\n"
     ]
    },
    {
     "data": {
      "text/html": [
       "<div>\n",
       "<style scoped>\n",
       "    .dataframe tbody tr th:only-of-type {\n",
       "        vertical-align: middle;\n",
       "    }\n",
       "\n",
       "    .dataframe tbody tr th {\n",
       "        vertical-align: top;\n",
       "    }\n",
       "\n",
       "    .dataframe thead th {\n",
       "        text-align: right;\n",
       "    }\n",
       "</style>\n",
       "<table border=\"1\" class=\"dataframe\">\n",
       "  <thead>\n",
       "    <tr style=\"text-align: right;\">\n",
       "      <th></th>\n",
       "      <th>Fold_No</th>\n",
       "      <th>RMSE</th>\n",
       "      <th>MAE</th>\n",
       "      <th>R2</th>\n",
       "      <th>LOSS_SD</th>\n",
       "      <th>filename</th>\n",
       "    </tr>\n",
       "  </thead>\n",
       "  <tbody>\n",
       "    <tr>\n",
       "      <th>0</th>\n",
       "      <td>1</td>\n",
       "      <td>3.69607</td>\n",
       "      <td>1.98819</td>\n",
       "      <td>0.71049</td>\n",
       "      <td>3.69336</td>\n",
       "      <td>model_cv1.pkl</td>\n",
       "    </tr>\n",
       "    <tr>\n",
       "      <th>1</th>\n",
       "      <td>2</td>\n",
       "      <td>3.90306</td>\n",
       "      <td>1.99590</td>\n",
       "      <td>0.64098</td>\n",
       "      <td>3.88526</td>\n",
       "      <td>model_cv2.pkl</td>\n",
       "    </tr>\n",
       "    <tr>\n",
       "      <th>2</th>\n",
       "      <td>3</td>\n",
       "      <td>3.90809</td>\n",
       "      <td>2.07870</td>\n",
       "      <td>0.70422</td>\n",
       "      <td>3.90026</td>\n",
       "      <td>model_cv3.pkl</td>\n",
       "    </tr>\n",
       "    <tr>\n",
       "      <th>3</th>\n",
       "      <td>4</td>\n",
       "      <td>3.60136</td>\n",
       "      <td>2.00962</td>\n",
       "      <td>0.74401</td>\n",
       "      <td>3.60134</td>\n",
       "      <td>model_cv4.pkl</td>\n",
       "    </tr>\n",
       "  </tbody>\n",
       "</table>\n",
       "</div>"
      ],
      "text/plain": [
       "  Fold_No    RMSE     MAE      R2  LOSS_SD       filename\n",
       "0       1 3.69607 1.98819 0.71049  3.69336  model_cv1.pkl\n",
       "1       2 3.90306 1.99590 0.64098  3.88526  model_cv2.pkl\n",
       "2       3 3.90809 2.07870 0.70422  3.90026  model_cv3.pkl\n",
       "3       4 3.60136 2.00962 0.74401  3.60134  model_cv4.pkl"
      ]
     },
     "metadata": {},
     "output_type": "display_data"
    },
    {
     "data": {
      "text/plain": [
       "RMSE   3.77715\n",
       "MAE    2.01810\n",
       "R2     0.69993\n",
       "dtype: float64"
      ]
     },
     "metadata": {},
     "output_type": "display_data"
    },
    {
     "name": "stdout",
     "output_type": "stream",
     "text": [
      "CV results saved to /root/co2-flux-hourly-gpp-modeling/data/models/xgboost_tuned/exp_10/cv_result.csv\n"
     ]
    }
   ],
   "source": [
    "# Create model result directory\n",
    "exp_root_dir = model_dir + os.sep + \"xgboost_tuned\" \n",
    "print(f\"Experiment logs saved to {exp_root_dir}.\")\n",
    "\n",
    "subset_features = ['NDVI', 'NIRv', 'SW_IN_ERA',]\n",
    "\n",
    "# Run Randome Search\n",
    "n = 10\n",
    "for i in range(n):\n",
    "    # create model dir\n",
    "    exp_dir = exp_root_dir + os.sep + f\"exp_{i+1}\"\n",
    "    if not (os.path.exists(exp_dir)):\n",
    "        os.makedirs(exp_dir)\n",
    "    print(f\"\\nExperiment {i+1} saved to {exp_dir}.\")\n",
    "\n",
    "    best_params = {}\n",
    "    best_params['n_estimators'] = 5*random.randint(1, 26)\n",
    "    best_params['max_depth'] = 5*random.randint(1, 6)\n",
    "    print(best_params)\n",
    "    cv_results = RunXGBoostCV(best_params, fold_data, exp_dir, False, subset_features)"
   ]
  },
  {
   "cell_type": "markdown",
   "metadata": {
    "id": "e1RG9TJLrcRX"
   },
   "source": [
    "# Rerun and store the best model(=group4)\n",
    "Best params {'n_estimators': 20, 'max_depth': 5}"
   ]
  },
  {
   "cell_type": "code",
   "execution_count": 29,
   "metadata": {
    "id": "1ilLiOM6rz-D",
    "tags": []
   },
   "outputs": [
    {
     "name": "stdout",
     "output_type": "stream",
     "text": [
      "Experiment logs saved to /root/co2-flux-hourly-gpp-modeling/data/models/xgboost_best.\n",
      "  save model to /root/co2-flux-hourly-gpp-modeling/data/models/xgboost_best/xgboost_best_model.pkl.\n"
     ]
    }
   ],
   "source": [
    "exp_dir = model_dir + os.sep + f\"xgboost_best\" \n",
    "if not (os.path.exists(exp_dir)):\n",
    "    os.makedirs(exp_dir)\n",
    "print(f\"Experiment logs saved to {exp_dir}.\")\n",
    "\n",
    "subset_features = ['NDVI', 'NIRv', 'SW_IN_ERA',]\n",
    "\n",
    "best_params = {}\n",
    "best_params['n_estimators'] = 20\n",
    "best_params['max_depth'] = 5\n",
    "\n",
    "train = fold_data[3]['train']\n",
    "val = fold_data[3]['val']\n",
    "model = XGBRegressor(**best_params, random_state=42,\n",
    "                     tree_method=\"approx\", enable_categorical=True,\n",
    "                     importance_type='gain',\n",
    "                     n_jobs=-1,)\n",
    "\n",
    "# fit model\n",
    "train_X = train.X[subset_features] \n",
    "\n",
    "model.fit(train_X, train.y)\n",
    "\n",
    "# Save models\n",
    "filesname = f\"xgboost_best_model.pkl\"\n",
    "pickle.dump(model, open( exp_dir + os.sep + filesname, 'wb'))\n",
    "print(f\"  save model to {exp_dir + os.sep + filesname}.\")"
   ]
  },
  {
   "cell_type": "markdown",
   "metadata": {
    "id": "JK_DTLrKamyP"
   },
   "source": [
    "## Evaluate RFR on Val & Test Set"
   ]
  },
  {
   "cell_type": "code",
   "execution_count": 30,
   "metadata": {
    "tags": []
   },
   "outputs": [
    {
     "name": "stdout",
     "output_type": "stream",
     "text": [
      "val_y((1056072,)), val_X((1056072, 3))\n",
      "test_y((982368,)), test_X((982368, 3))\n"
     ]
    }
   ],
   "source": [
    "VAL_INDEX = 3\n",
    "TEST_INDEX = 4\n",
    "\n",
    "# load scaler\n",
    "preproc_save_path = root_dir + os.sep + 'code/src/preprocessing/preproc_objects/scaler_cv4.joblib'\n",
    "scaler=joblib.load(preproc_save_path)\n",
    "\n",
    "_, val_df, test_df = get_splited_datasets(data_df, VAL_INDEX, TEST_INDEX)\n",
    "\n",
    "val   = split_to_X_y(val_df)\n",
    "test  = split_to_X_y(test_df)\n",
    "val.X.loc[:,realNum_cols]  = scaler.transform( val.X[realNum_cols])\n",
    "test.X.loc[:,realNum_cols] = scaler.transform( test.X[realNum_cols])\n",
    "val.X = val.X[subset_features]\n",
    "test.X = test.X[subset_features]\n",
    "\n",
    "print(f\"val_y({val.y.shape}), val_X({val.X.shape})\")\n",
    "print(f\"test_y({test.y.shape}), test_X({test.X.shape})\")"
   ]
  },
  {
   "cell_type": "code",
   "execution_count": 35,
   "metadata": {
    "id": "LDrbwlDlamyP",
    "tags": []
   },
   "outputs": [
    {
     "name": "stdout",
     "output_type": "stream",
     "text": [
      "Validation Set:\n",
      "  RMSE: 3.56328, MAE: 1.99268, R2/NSE: 0.74940, Loss SD: 3.56326\n",
      "Test Set:\n",
      "  RMSE: 3.57416, MAE: 1.85354, R2/NSE: 0.68302, Loss SD: 3.57308\n"
     ]
    }
   ],
   "source": [
    "# Evaluate\n",
    "def model_eval(model, X, y):\n",
    "    y_actuals = y\n",
    "    y_pred = model.predict(X)\n",
    "    rmse = np.sqrt(mean_squared_error(y_actuals, y_pred))\n",
    "    mae = mean_absolute_error(y_actuals, y_pred)\n",
    "    r2 = r2_score(y_actuals, y_pred)\n",
    "    loss_std = np.std(y_actuals - y_pred)\n",
    "    print(f\"  RMSE: {rmse:.5f}, MAE: {mae:.5f}, R2/NSE: {r2:.5f}, Loss SD: {loss_std:.5f}\")\n",
    "\n",
    "print(\"Validation Set:\")\n",
    "model_eval(model, val.X, val.y)\n",
    "print(\"Test Set:\")\n",
    "model_eval(model, test.X, test.y)"
   ]
  }
 ],
 "metadata": {
  "availableInstances": [
   {
    "_defaultOrder": 0,
    "_isFastLaunch": true,
    "category": "General purpose",
    "gpuNum": 0,
    "memoryGiB": 4,
    "name": "ml.t3.medium",
    "vcpuNum": 2
   },
   {
    "_defaultOrder": 1,
    "_isFastLaunch": false,
    "category": "General purpose",
    "gpuNum": 0,
    "memoryGiB": 8,
    "name": "ml.t3.large",
    "vcpuNum": 2
   },
   {
    "_defaultOrder": 2,
    "_isFastLaunch": false,
    "category": "General purpose",
    "gpuNum": 0,
    "memoryGiB": 16,
    "name": "ml.t3.xlarge",
    "vcpuNum": 4
   },
   {
    "_defaultOrder": 3,
    "_isFastLaunch": false,
    "category": "General purpose",
    "gpuNum": 0,
    "memoryGiB": 32,
    "name": "ml.t3.2xlarge",
    "vcpuNum": 8
   },
   {
    "_defaultOrder": 4,
    "_isFastLaunch": true,
    "category": "General purpose",
    "gpuNum": 0,
    "memoryGiB": 8,
    "name": "ml.m5.large",
    "vcpuNum": 2
   },
   {
    "_defaultOrder": 5,
    "_isFastLaunch": false,
    "category": "General purpose",
    "gpuNum": 0,
    "memoryGiB": 16,
    "name": "ml.m5.xlarge",
    "vcpuNum": 4
   },
   {
    "_defaultOrder": 6,
    "_isFastLaunch": false,
    "category": "General purpose",
    "gpuNum": 0,
    "memoryGiB": 32,
    "name": "ml.m5.2xlarge",
    "vcpuNum": 8
   },
   {
    "_defaultOrder": 7,
    "_isFastLaunch": false,
    "category": "General purpose",
    "gpuNum": 0,
    "memoryGiB": 64,
    "name": "ml.m5.4xlarge",
    "vcpuNum": 16
   },
   {
    "_defaultOrder": 8,
    "_isFastLaunch": false,
    "category": "General purpose",
    "gpuNum": 0,
    "memoryGiB": 128,
    "name": "ml.m5.8xlarge",
    "vcpuNum": 32
   },
   {
    "_defaultOrder": 9,
    "_isFastLaunch": false,
    "category": "General purpose",
    "gpuNum": 0,
    "memoryGiB": 192,
    "name": "ml.m5.12xlarge",
    "vcpuNum": 48
   },
   {
    "_defaultOrder": 10,
    "_isFastLaunch": false,
    "category": "General purpose",
    "gpuNum": 0,
    "memoryGiB": 256,
    "name": "ml.m5.16xlarge",
    "vcpuNum": 64
   },
   {
    "_defaultOrder": 11,
    "_isFastLaunch": false,
    "category": "General purpose",
    "gpuNum": 0,
    "memoryGiB": 384,
    "name": "ml.m5.24xlarge",
    "vcpuNum": 96
   },
   {
    "_defaultOrder": 12,
    "_isFastLaunch": false,
    "category": "General purpose",
    "gpuNum": 0,
    "memoryGiB": 8,
    "name": "ml.m5d.large",
    "vcpuNum": 2
   },
   {
    "_defaultOrder": 13,
    "_isFastLaunch": false,
    "category": "General purpose",
    "gpuNum": 0,
    "memoryGiB": 16,
    "name": "ml.m5d.xlarge",
    "vcpuNum": 4
   },
   {
    "_defaultOrder": 14,
    "_isFastLaunch": false,
    "category": "General purpose",
    "gpuNum": 0,
    "memoryGiB": 32,
    "name": "ml.m5d.2xlarge",
    "vcpuNum": 8
   },
   {
    "_defaultOrder": 15,
    "_isFastLaunch": false,
    "category": "General purpose",
    "gpuNum": 0,
    "memoryGiB": 64,
    "name": "ml.m5d.4xlarge",
    "vcpuNum": 16
   },
   {
    "_defaultOrder": 16,
    "_isFastLaunch": false,
    "category": "General purpose",
    "gpuNum": 0,
    "memoryGiB": 128,
    "name": "ml.m5d.8xlarge",
    "vcpuNum": 32
   },
   {
    "_defaultOrder": 17,
    "_isFastLaunch": false,
    "category": "General purpose",
    "gpuNum": 0,
    "memoryGiB": 192,
    "name": "ml.m5d.12xlarge",
    "vcpuNum": 48
   },
   {
    "_defaultOrder": 18,
    "_isFastLaunch": false,
    "category": "General purpose",
    "gpuNum": 0,
    "memoryGiB": 256,
    "name": "ml.m5d.16xlarge",
    "vcpuNum": 64
   },
   {
    "_defaultOrder": 19,
    "_isFastLaunch": false,
    "category": "General purpose",
    "gpuNum": 0,
    "memoryGiB": 384,
    "name": "ml.m5d.24xlarge",
    "vcpuNum": 96
   },
   {
    "_defaultOrder": 20,
    "_isFastLaunch": true,
    "category": "Compute optimized",
    "gpuNum": 0,
    "memoryGiB": 4,
    "name": "ml.c5.large",
    "vcpuNum": 2
   },
   {
    "_defaultOrder": 21,
    "_isFastLaunch": false,
    "category": "Compute optimized",
    "gpuNum": 0,
    "memoryGiB": 8,
    "name": "ml.c5.xlarge",
    "vcpuNum": 4
   },
   {
    "_defaultOrder": 22,
    "_isFastLaunch": false,
    "category": "Compute optimized",
    "gpuNum": 0,
    "memoryGiB": 16,
    "name": "ml.c5.2xlarge",
    "vcpuNum": 8
   },
   {
    "_defaultOrder": 23,
    "_isFastLaunch": false,
    "category": "Compute optimized",
    "gpuNum": 0,
    "memoryGiB": 32,
    "name": "ml.c5.4xlarge",
    "vcpuNum": 16
   },
   {
    "_defaultOrder": 24,
    "_isFastLaunch": false,
    "category": "Compute optimized",
    "gpuNum": 0,
    "memoryGiB": 72,
    "name": "ml.c5.9xlarge",
    "vcpuNum": 36
   },
   {
    "_defaultOrder": 25,
    "_isFastLaunch": false,
    "category": "Compute optimized",
    "gpuNum": 0,
    "memoryGiB": 96,
    "name": "ml.c5.12xlarge",
    "vcpuNum": 48
   },
   {
    "_defaultOrder": 26,
    "_isFastLaunch": false,
    "category": "Compute optimized",
    "gpuNum": 0,
    "memoryGiB": 144,
    "name": "ml.c5.18xlarge",
    "vcpuNum": 72
   },
   {
    "_defaultOrder": 27,
    "_isFastLaunch": false,
    "category": "Compute optimized",
    "gpuNum": 0,
    "memoryGiB": 192,
    "name": "ml.c5.24xlarge",
    "vcpuNum": 96
   },
   {
    "_defaultOrder": 28,
    "_isFastLaunch": true,
    "category": "Accelerated computing",
    "gpuNum": 1,
    "memoryGiB": 16,
    "name": "ml.g4dn.xlarge",
    "vcpuNum": 4
   },
   {
    "_defaultOrder": 29,
    "_isFastLaunch": false,
    "category": "Accelerated computing",
    "gpuNum": 1,
    "memoryGiB": 32,
    "name": "ml.g4dn.2xlarge",
    "vcpuNum": 8
   },
   {
    "_defaultOrder": 30,
    "_isFastLaunch": false,
    "category": "Accelerated computing",
    "gpuNum": 1,
    "memoryGiB": 64,
    "name": "ml.g4dn.4xlarge",
    "vcpuNum": 16
   },
   {
    "_defaultOrder": 31,
    "_isFastLaunch": false,
    "category": "Accelerated computing",
    "gpuNum": 1,
    "memoryGiB": 128,
    "name": "ml.g4dn.8xlarge",
    "vcpuNum": 32
   },
   {
    "_defaultOrder": 32,
    "_isFastLaunch": false,
    "category": "Accelerated computing",
    "gpuNum": 4,
    "memoryGiB": 192,
    "name": "ml.g4dn.12xlarge",
    "vcpuNum": 48
   },
   {
    "_defaultOrder": 33,
    "_isFastLaunch": false,
    "category": "Accelerated computing",
    "gpuNum": 1,
    "memoryGiB": 256,
    "name": "ml.g4dn.16xlarge",
    "vcpuNum": 64
   },
   {
    "_defaultOrder": 34,
    "_isFastLaunch": false,
    "category": "Accelerated computing",
    "gpuNum": 1,
    "memoryGiB": 61,
    "name": "ml.p3.2xlarge",
    "vcpuNum": 8
   },
   {
    "_defaultOrder": 35,
    "_isFastLaunch": false,
    "category": "Accelerated computing",
    "gpuNum": 4,
    "memoryGiB": 244,
    "name": "ml.p3.8xlarge",
    "vcpuNum": 32
   },
   {
    "_defaultOrder": 36,
    "_isFastLaunch": false,
    "category": "Accelerated computing",
    "gpuNum": 8,
    "memoryGiB": 488,
    "name": "ml.p3.16xlarge",
    "vcpuNum": 64
   },
   {
    "_defaultOrder": 37,
    "_isFastLaunch": false,
    "category": "Accelerated computing",
    "gpuNum": 8,
    "memoryGiB": 768,
    "name": "ml.p3dn.24xlarge",
    "vcpuNum": 96
   },
   {
    "_defaultOrder": 38,
    "_isFastLaunch": false,
    "category": "Memory Optimized",
    "gpuNum": 0,
    "memoryGiB": 16,
    "name": "ml.r5.large",
    "vcpuNum": 2
   },
   {
    "_defaultOrder": 39,
    "_isFastLaunch": false,
    "category": "Memory Optimized",
    "gpuNum": 0,
    "memoryGiB": 32,
    "name": "ml.r5.xlarge",
    "vcpuNum": 4
   },
   {
    "_defaultOrder": 40,
    "_isFastLaunch": false,
    "category": "Memory Optimized",
    "gpuNum": 0,
    "memoryGiB": 64,
    "name": "ml.r5.2xlarge",
    "vcpuNum": 8
   },
   {
    "_defaultOrder": 41,
    "_isFastLaunch": false,
    "category": "Memory Optimized",
    "gpuNum": 0,
    "memoryGiB": 128,
    "name": "ml.r5.4xlarge",
    "vcpuNum": 16
   },
   {
    "_defaultOrder": 42,
    "_isFastLaunch": false,
    "category": "Memory Optimized",
    "gpuNum": 0,
    "memoryGiB": 256,
    "name": "ml.r5.8xlarge",
    "vcpuNum": 32
   },
   {
    "_defaultOrder": 43,
    "_isFastLaunch": false,
    "category": "Memory Optimized",
    "gpuNum": 0,
    "memoryGiB": 384,
    "name": "ml.r5.12xlarge",
    "vcpuNum": 48
   },
   {
    "_defaultOrder": 44,
    "_isFastLaunch": false,
    "category": "Memory Optimized",
    "gpuNum": 0,
    "memoryGiB": 512,
    "name": "ml.r5.16xlarge",
    "vcpuNum": 64
   },
   {
    "_defaultOrder": 45,
    "_isFastLaunch": false,
    "category": "Memory Optimized",
    "gpuNum": 0,
    "memoryGiB": 768,
    "name": "ml.r5.24xlarge",
    "vcpuNum": 96
   },
   {
    "_defaultOrder": 46,
    "_isFastLaunch": false,
    "category": "Accelerated computing",
    "gpuNum": 1,
    "memoryGiB": 16,
    "name": "ml.g5.xlarge",
    "vcpuNum": 4
   },
   {
    "_defaultOrder": 47,
    "_isFastLaunch": false,
    "category": "Accelerated computing",
    "gpuNum": 1,
    "memoryGiB": 32,
    "name": "ml.g5.2xlarge",
    "vcpuNum": 8
   },
   {
    "_defaultOrder": 48,
    "_isFastLaunch": false,
    "category": "Accelerated computing",
    "gpuNum": 1,
    "memoryGiB": 64,
    "name": "ml.g5.4xlarge",
    "vcpuNum": 16
   },
   {
    "_defaultOrder": 49,
    "_isFastLaunch": false,
    "category": "Accelerated computing",
    "gpuNum": 1,
    "memoryGiB": 128,
    "name": "ml.g5.8xlarge",
    "vcpuNum": 32
   },
   {
    "_defaultOrder": 50,
    "_isFastLaunch": false,
    "category": "Accelerated computing",
    "gpuNum": 1,
    "memoryGiB": 256,
    "name": "ml.g5.16xlarge",
    "vcpuNum": 64
   },
   {
    "_defaultOrder": 51,
    "_isFastLaunch": false,
    "category": "Accelerated computing",
    "gpuNum": 4,
    "memoryGiB": 192,
    "name": "ml.g5.12xlarge",
    "vcpuNum": 48
   },
   {
    "_defaultOrder": 52,
    "_isFastLaunch": false,
    "category": "Accelerated computing",
    "gpuNum": 4,
    "memoryGiB": 384,
    "name": "ml.g5.24xlarge",
    "vcpuNum": 96
   },
   {
    "_defaultOrder": 53,
    "_isFastLaunch": false,
    "category": "Accelerated computing",
    "gpuNum": 8,
    "memoryGiB": 768,
    "name": "ml.g5.48xlarge",
    "vcpuNum": 192
   }
  ],
  "colab": {
   "collapsed_sections": [
    "bjvtop5QrRFe"
   ],
   "provenance": []
  },
  "gpuClass": "standard",
  "kernelspec": {
   "display_name": "Python [conda env:py310] (arn:aws:sagemaker:us-west-2:236514542706:image/datascience-1.0)",
   "language": "python",
   "name": "conda-env-py310-py__SAGEMAKER_INTERNAL__arn:aws:sagemaker:us-west-2:236514542706:image/datascience-1.0"
  },
  "language_info": {
   "codemirror_mode": {
    "name": "ipython",
    "version": 3
   },
   "file_extension": ".py",
   "mimetype": "text/x-python",
   "name": "python",
   "nbconvert_exporter": "python",
   "pygments_lexer": "ipython3",
   "version": "3.10.9"
  }
 },
 "nbformat": 4,
 "nbformat_minor": 4
}
