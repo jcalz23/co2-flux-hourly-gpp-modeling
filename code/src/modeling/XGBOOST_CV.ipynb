{
 "cells": [
  {
   "cell_type": "markdown",
   "metadata": {
    "id": "XaXGMTqJr71d",
    "tags": []
   },
   "source": [
    "# Notebook Setup"
   ]
  },
  {
   "cell_type": "code",
   "execution_count": 2,
   "metadata": {
    "colab": {
     "base_uri": "https://localhost:8080/"
    },
    "executionInfo": {
     "elapsed": 1676,
     "status": "ok",
     "timestamp": 1680922437930,
     "user": {
      "displayName": "Mary Chau",
      "userId": "14027067063095206122"
     },
     "user_tz": 420
    },
    "id": "CDKm-L00cbfQ",
    "outputId": "c117a5b2-7f76-49c1-fb8b-ca2740e20488"
   },
   "outputs": [],
   "source": [
    "if 'google.colab' in str(get_ipython()):\n",
    "    IN_COLLAB = True\n",
    "else:\n",
    "    IN_COLLAB = False\n",
    "\n",
    "if IN_COLLAB:\n",
    "    #TODO: CHANGE THIS BASED ON YOUR OWN LOCAL SETTINGS\n",
    "    MY_HOME_ABS_PATH = \"/content/drive/MyDrive/W210/co2-flux-hourly-gpp-modeling\"\n",
    "    # MY_HOME_ABS_PATH = \"/content/drive/MyDrive/TFT_baseline\"\n",
    "    from google.colab import drive\n",
    "    drive.mount('/content/drive/')\n",
    "else:\n",
    "    MY_HOME_ABS_PATH = \"/root/co2-flux-hourly-gpp-modeling/\"\n",
    "    # MY_HOME_ABS_PATH = \"/home/ec2-user/SageMaker/root/co2-flux-hourly-gpp-modeling\""
   ]
  },
  {
   "cell_type": "markdown",
   "metadata": {
    "id": "y2bHb6TEy3_D"
   },
   "source": [
    "## Import Modules"
   ]
  },
  {
   "cell_type": "code",
   "execution_count": 3,
   "metadata": {
    "executionInfo": {
     "elapsed": 6597,
     "status": "ok",
     "timestamp": 1680922444509,
     "user": {
      "displayName": "Mary Chau",
      "userId": "14027067063095206122"
     },
     "user_tz": 420
    },
    "id": "eSrZ4-MmbM6f"
   },
   "outputs": [
    {
     "name": "stdout",
     "output_type": "stream",
     "text": [
      "\u001b[33mWARNING: Running pip as the 'root' user can result in broken permissions and conflicting behaviour with the system package manager. It is recommended to use a virtual environment instead: https://pip.pypa.io/warnings/venv\u001b[0m\u001b[33m\n",
      "\u001b[0m"
     ]
    }
   ],
   "source": [
    "if IN_COLLAB:\n",
    "    !pip install torch pytorch-lightning pytorch_forecasting azure-storage-blob -q\n",
    "else:\n",
    "    !pip install xgboost -q"
   ]
  },
  {
   "cell_type": "code",
   "execution_count": 4,
   "metadata": {
    "colab": {
     "base_uri": "https://localhost:8080/"
    },
    "executionInfo": {
     "elapsed": 24906,
     "status": "ok",
     "timestamp": 1680922469382,
     "user": {
      "displayName": "Mary Chau",
      "userId": "14027067063095206122"
     },
     "user_tz": 420
    },
    "id": "1iRimJGJsAh7",
    "outputId": "d9ad1083-e23f-4c61-94ae-364340ce3c50"
   },
   "outputs": [
    {
     "name": "stdout",
     "output_type": "stream",
     "text": [
      "1.7.5\n"
     ]
    },
    {
     "name": "stderr",
     "output_type": "stream",
     "text": [
      "2023-04-08 04:23:42.181194: I tensorflow/tsl/cuda/cudart_stub.cc:28] Could not find cuda drivers on your machine, GPU will not be used.\n",
      "2023-04-08 04:23:42.231563: I tensorflow/tsl/cuda/cudart_stub.cc:28] Could not find cuda drivers on your machine, GPU will not be used.\n",
      "2023-04-08 04:23:42.232451: I tensorflow/core/platform/cpu_feature_guard.cc:182] This TensorFlow binary is optimized to use available CPU instructions in performance-critical operations.\n",
      "To enable the following instructions: AVX2 AVX512F FMA, in other operations, rebuild TensorFlow with the appropriate compiler flags.\n",
      "2023-04-08 04:23:43.210645: W tensorflow/compiler/tf2tensorrt/utils/py_utils.cc:38] TF-TRT Warning: Could not find TensorRT\n",
      "Global seed set to 42\n",
      "Global seed set to 42\n"
     ]
    },
    {
     "data": {
      "text/plain": [
       "42"
      ]
     },
     "execution_count": 4,
     "metadata": {},
     "output_type": "execute_result"
    }
   ],
   "source": [
    "import os\n",
    "import sys\n",
    "import warnings\n",
    "warnings.filterwarnings(\"ignore\")\n",
    "import copy\n",
    "import json\n",
    "from pathlib import Path\n",
    "import numpy as np\n",
    "import pandas as pd\n",
    "import matplotlib.pyplot as plt\n",
    "\n",
    "import xgboost\n",
    "from xgboost import XGBRegressor\n",
    "from sklearn.metrics import mean_squared_error, mean_absolute_error, r2_score\n",
    "print(xgboost.__version__)\n",
    "\n",
    "from timeit import default_timer\n",
    "from datetime import datetime\n",
    "import gc\n",
    "import pickle\n",
    "import random\n",
    "from pprint import pprint\n",
    "\n",
    "# Load locale custome modules\n",
    "os.chdir(MY_HOME_ABS_PATH)\n",
    "if IN_COLLAB:\n",
    "     os.environ[\"MY_HOME_ABS_PATH\"] = MY_HOME_ABS_PATH\n",
    "     sys.path.insert(0,os.path.abspath(\"./code/src/tools\"))\n",
    "else:\n",
    "    sys.path.append('./cred')\n",
    "    sys.path.append('./code/src/tools')\n",
    "    sys.path.append(os.path.abspath(\"./code/src/tools\"))\n",
    "\n",
    "from CloudIO.AzStorageClient import AzStorageClient\n",
    "from data_pipeline_lib import *\n",
    "from model_pipeline_lib import *\n",
    "\n",
    "pd.set_option('display.max_rows', None)\n",
    "pd.set_option('display.max_columns', None)\n",
    "pd.set_option('display.float_format', lambda x: '%.5f' % x)\n",
    "pl.seed_everything(42)"
   ]
  },
  {
   "cell_type": "markdown",
   "metadata": {
    "id": "5LRk1xhgDrvZ",
    "tags": []
   },
   "source": [
    "# Setup Experiments"
   ]
  },
  {
   "cell_type": "markdown",
   "metadata": {
    "id": "QEOCHI64ysC2",
    "tags": []
   },
   "source": [
    "## Define Local File System Constants"
   ]
  },
  {
   "cell_type": "code",
   "execution_count": 5,
   "metadata": {
    "executionInfo": {
     "elapsed": 67,
     "status": "ok",
     "timestamp": 1680922469387,
     "user": {
      "displayName": "Mary Chau",
      "userId": "14027067063095206122"
     },
     "user_tz": 420
    },
    "id": "H-AwqUa5sHYq"
   },
   "outputs": [],
   "source": [
    "root_dir  = MY_HOME_ABS_PATH\n",
    "tmp_dir   = root_dir + os.sep + '.tmp'\n",
    "model_dir = root_dir + os.sep + 'data' + os.sep + 'models'\n",
    "PREPRO_DIR = root_dir + \"/code/src/preprocessing/preproc_objects\"\n",
    "\n",
    "container = \"all-sites-data\"\n",
    "blob_name = \"full_2010_2015_v_mvp_raw.parquet\"\n",
    "local_file = tmp_dir + os.sep + blob_name"
   ]
  },
  {
   "cell_type": "markdown",
   "metadata": {
    "id": "m8-MrPwGcalb"
   },
   "source": [
    "## Define Features and Target"
   ]
  },
  {
   "cell_type": "code",
   "execution_count": 6,
   "metadata": {
    "executionInfo": {
     "elapsed": 190,
     "status": "ok",
     "timestamp": 1680922611944,
     "user": {
      "displayName": "Mary Chau",
      "userId": "14027067063095206122"
     },
     "user_tz": 420
    },
    "id": "VhInEzhonYAI"
   },
   "outputs": [],
   "source": [
    "target_variable = 'GPP_NT_VUT_REF'\n",
    "\n",
    "non_encoded_cat_flag = ['month', 'day', 'hour']\n",
    "categorical_cols = ['koppen_sub', 'koppen_main', 'MODIS_PFT', 'MODIS_IGBP', 'MODIS_LC']\n",
    "realNum_cols = ['TA_ERA', 'SW_IN_ERA', 'LW_IN_ERA', 'VPD_ERA', 'P_ERA', 'PA_ERA', \n",
    "                'EVI', 'NDVI', 'NIRv', 'b1', 'b2', 'b3', 'b4', 'b5', 'b6', 'b7',\n",
    "                'BESS-PAR', 'BESS-PARdiff', 'BESS-RSDN', 'CSIF-SIFdaily',\n",
    "                'PET', 'Ts', 'ESACCI-sm', 'NDWI', 'Percent_Snow', 'Fpar', 'Lai',\n",
    "                'LST_Day', 'LST_Night']\n",
    "\n",
    "features = non_encoded_cat_flag + categorical_cols + realNum_cols\n",
    "supplement_cols= ['site_id', 'timestep_idx_local','gap_flag_hour','gap_flag_month',]"
   ]
  },
  {
   "cell_type": "markdown",
   "metadata": {
    "id": "uKx3JSvBcbZG",
    "tags": []
   },
   "source": [
    "## Define Helper Functions\n"
   ]
  },
  {
   "cell_type": "code",
   "execution_count": 7,
   "metadata": {
    "executionInfo": {
     "elapsed": 17,
     "status": "ok",
     "timestamp": 1680923444287,
     "user": {
      "displayName": "Mary Chau",
      "userId": "14027067063095206122"
     },
     "user_tz": 420
    },
    "id": "3aP0WAfhumIZ"
   },
   "outputs": [],
   "source": [
    "class X_y_set:\n",
    "    X = None\n",
    "    y = None\n",
    "\n",
    "def normalize_real_cols(foldNo, realNum_cols, train_X, val_X, test_X = None):\n",
    "\n",
    "    # Normalize data\n",
    "    print(f\"Normalizing real features ({len(realNum_cols)})\")\n",
    "    scaler = StandardScaler().fit(train_X[realNum_cols])\n",
    "    train_X.loc[:,realNum_cols] = scaler.transform(train_X[realNum_cols])\n",
    "    val_X.loc[:,realNum_cols] = scaler.transform(val_df[realNum_cols])\n",
    "\n",
    "    # Save scaler object\n",
    "    scaler_path = os.path.join(PREPRO_DIR, f'scaler_cv{foldNo}.joblib')\n",
    "    joblib.dump(scaler, scaler_path)\n",
    "    print(f\"Saved scaler to {scaler_path}.\")\n",
    "      \n",
    "    train_X.reset_index(inplace=True, drop=True)\n",
    "    val_X.reset_index(inplace=True, drop=True)\n",
    "    print(f\"Train data size: {train_X.shape}.\")\n",
    "    print(f\"Val data size: {val_X.shape}.\")\n",
    "\n",
    "    if test_X is not None:\n",
    "        test_X.loc[:,realNum_cols] = scaler.transform(test_X[realNum_cols]) \n",
    "        test_X.reset_index(inplace=True, drop=True)\n",
    "        print(f\"Test data size: {test_X.shape}.\") \n",
    "  \n",
    "    return train_X, val_X, test_X\n",
    "\n",
    "def split_to_X_y(df):\n",
    "    dataset = X_y_set()\n",
    "    dataset.X = df.drop([target_variable] + supplement_cols, axis=1)\n",
    "    dataset.y = df[target_variable]                \n",
    "    return dataset\n",
    "\n",
    "def RunXGBoostCV(params, fold_data, exp_dir, debug=False):\n",
    "    cv_results_df = pd.DataFrame(columns=['Fold_No', 'RMSE', 'MAE', 'R2', 'LOSS_SD', 'filename'])\n",
    "    for i, cv in enumerate(fold_data):\n",
    "        verbose = 0\n",
    "        if debug:\n",
    "            print(f\"Fold {i+1}:\")\n",
    "            verbose = 1\n",
    "\n",
    "        train = cv['train']\n",
    "        val = cv['val']\n",
    "        model = XGBRegressor(**best_params, random_state=42, n_jobs=-1, verbosity=verbose) # <--- Update this model!\n",
    "        model.fit(train.X, train.y)\n",
    "\n",
    "        # Evaluate model\n",
    "        val_actuals = val.y\n",
    "        val_pred = model.predict(val.X)\n",
    "        rmse = np.sqrt(mean_squared_error(val_actuals, val_pred))\n",
    "        mae = mean_absolute_error(val_actuals, val_pred)\n",
    "        r2 = r2_score(val_actuals, val_pred)\n",
    "        loss_std = np.std(val_actuals - val_pred)\n",
    "        if debug:\n",
    "            print(f\"  Val RMSE: {rmse}, Val MAE: {mae}, Val R2/NSE: {r2}, val Loss SD: {loss_std}\")\n",
    "\n",
    "        # # Save models\n",
    "        filesname = f\"model_cv{i+1}.pkl\"\n",
    "        pickle.dump(model, open( exp_dir + os.sep + filesname, 'wb'))\n",
    "        print(f\"  save model to {exp_dir + os.sep + filesname}.\")\n",
    "        result = {'Fold_No': int(i+1), 'RMSE':rmse, 'MAE':mae, 'R2':r2 , 'LOSS_SD':loss_std, 'filename': filesname}\n",
    "        cv_results_df = cv_results_df.append(result, ignore_index=True)\n",
    "\n",
    "    print(f\"Results from params {best_params}:\") \n",
    "    display(cv_results_df)\n",
    "    display(cv_results_df[['RMSE', 'MAE', 'R2']].mean(axis=0))\n",
    "\n",
    "    # Save CV result of CSV\n",
    "    cv_results_df.to_csv(exp_dir + os.sep + \"cv_result.csv\", index=False)\n",
    "    print(f\"CV results saved to {exp_dir + os.sep + 'cv_result.csv'}\")\n",
    "\n",
    "def feature_importance(model, model_name, columns, fig_num, fig, ax):\n",
    "    # get the feature importances\n",
    "    importances = pd.Series(model.feature_importances_, index=columns)#.sort_values(ascending=False)\n",
    "    # Visualize\n",
    "    importances_sorted = importances.sort_values(ascending=True)[-30:]\n",
    "\n",
    "    ax[fig_num].barh(importances_sorted.index, importances_sorted.values)\n",
    "    ax[fig_num].set_title(model_name + '  Feature Importances')\n",
    "    ax[fig_num].set_xlabel('Importance')\n",
    "    ax[fig_num].set_ylabel('Feature')\n",
    "    return importances"
   ]
  },
  {
   "cell_type": "markdown",
   "metadata": {
    "tags": []
   },
   "source": [
    "# Load data from Azure Blob"
   ]
  },
  {
   "cell_type": "code",
   "execution_count": 8,
   "metadata": {
    "colab": {
     "base_uri": "https://localhost:8080/"
    },
    "executionInfo": {
     "elapsed": 36038,
     "status": "ok",
     "timestamp": 1680922702468,
     "user": {
      "displayName": "Mary Chau",
      "userId": "14027067063095206122"
     },
     "user_tz": 420
    },
    "id": "Z_arfJmDcaZY",
    "outputId": "87cf1b9a-6c92-4d71-beda-2f908532626b"
   },
   "outputs": [
    {
     "name": "stdout",
     "output_type": "stream",
     "text": [
      "Data size: (4862712, 51)\n",
      "Data Columns: Index(['GPP_NT_VUT_REF', 'site_id', 'timestep_idx_local',\n",
      "       'timestep_idx_global', 'datetime', 'date', 'year', 'month', 'day',\n",
      "       'hour', 'TA_ERA', 'SW_IN_ERA', 'LW_IN_ERA', 'VPD_ERA', 'P_ERA',\n",
      "       'PA_ERA', 'EVI', 'NDVI', 'NIRv', 'b1', 'b2', 'b3', 'b4', 'b5', 'b6',\n",
      "       'b7', 'IGBP', 'lat', 'long', 'koppen_sub', 'koppen_main', 'c3c4',\n",
      "       'c4_percent', 'BESS-PAR', 'BESS-PARdiff', 'BESS-RSDN', 'CSIF-SIFdaily',\n",
      "       'PET', 'Ts', 'ESACCI-sm', 'MODIS_LC', 'NDWI', 'Percent_Snow', 'Fpar',\n",
      "       'Lai', 'LST_Day', 'LST_Night', 'MODIS_IGBP', 'MODIS_PFT',\n",
      "       'gap_flag_hour', 'gap_flag_month'],\n",
      "      dtype='object')\n",
      "NA count: 0\n",
      "\n",
      "Data size: (4862712, 42)\n",
      "\n",
      "Drop gap-filled (hour) - Data size: (4862712, 42)\n",
      "\n",
      "Data size: (4862712, 78)\n",
      "Index(['GPP_NT_VUT_REF', 'month', 'day', 'hour', 'TA_ERA', 'SW_IN_ERA',\n",
      "       'LW_IN_ERA', 'VPD_ERA', 'P_ERA', 'PA_ERA', 'EVI', 'NDVI', 'NIRv', 'b1',\n",
      "       'b2', 'b3', 'b4', 'b5', 'b6', 'b7', 'BESS-PAR', 'BESS-PARdiff',\n",
      "       'BESS-RSDN', 'CSIF-SIFdaily', 'PET', 'Ts', 'ESACCI-sm', 'NDWI',\n",
      "       'Percent_Snow', 'Fpar', 'Lai', 'LST_Day', 'LST_Night', 'site_id',\n",
      "       'timestep_idx_local', 'gap_flag_hour', 'gap_flag_month', 'MODIS_LC',\n",
      "       'koppen_sub_14', 'koppen_sub_15', 'koppen_sub_18', 'koppen_sub_2',\n",
      "       'koppen_sub_25', 'koppen_sub_26', 'koppen_sub_27', 'koppen_sub_3',\n",
      "       'koppen_sub_4', 'koppen_sub_5', 'koppen_sub_6', 'koppen_sub_7',\n",
      "       'koppen_sub_8', 'koppen_sub_9', 'koppen_main_1', 'koppen_main_2',\n",
      "       'koppen_main_3', 'koppen_main_4', 'MODIS_PFT_CRO', 'MODIS_PFT_DBF',\n",
      "       'MODIS_PFT_EBF', 'MODIS_PFT_ENF', 'MODIS_PFT_GRA', 'MODIS_PFT_MF',\n",
      "       'MODIS_PFT_Other', 'MODIS_PFT_SA', 'MODIS_PFT_SH', 'MODIS_IGBP_CRO',\n",
      "       'MODIS_IGBP_CSH', 'MODIS_IGBP_DBF', 'MODIS_IGBP_EBF', 'MODIS_IGBP_ENF',\n",
      "       'MODIS_IGBP_GRA', 'MODIS_IGBP_MF', 'MODIS_IGBP_OSH', 'MODIS_IGBP_SAV',\n",
      "       'MODIS_IGBP_URB', 'MODIS_IGBP_WAT', 'MODIS_IGBP_WET', 'MODIS_IGBP_WSA'],\n",
      "      dtype='object')\n"
     ]
    }
   ],
   "source": [
    "data_df = get_raw_datasets(container, blob_name)\n",
    "# data_df = data_df.loc[data_df['timestep_idx_local'] < 24*180, ].copy() # TODO: remove\n",
    "data_df = data_df[[target_variable] + features + supplement_cols]\n",
    "print(f\"\\nData size: {data_df.shape}\")\n",
    "\n",
    "# Set data type\n",
    "data_df[non_encoded_cat_flag] = data_df[non_encoded_cat_flag].apply(pd.to_numeric)\n",
    "\n",
    "# Drop gap flag hour = 1\n",
    "data_df[data_df[\"gap_flag_hour\"] == float(0)].reset_index(drop=True)\n",
    "print(f\"\\nDrop gap-filled (hour) - Data size: {data_df.shape}\")\n",
    "\n",
    "# Dummy encoder categorical variables\n",
    "dummy_df = pd.get_dummies(data_df[categorical_cols])\n",
    "data_df = data_df.drop(columns=categorical_cols)\n",
    "data_df = pd.concat([data_df, dummy_df], axis=1)\n",
    "print(f\"\\nData size: {data_df.shape}\")\n",
    "print(data_df.columns)"
   ]
  },
  {
   "cell_type": "markdown",
   "metadata": {
    "id": "q3DFaT01h6Su",
    "tags": []
   },
   "source": [
    "# Create CV dataset"
   ]
  },
  {
   "cell_type": "code",
   "execution_count": 9,
   "metadata": {
    "colab": {
     "base_uri": "https://localhost:8080/"
    },
    "executionInfo": {
     "elapsed": 16195,
     "status": "ok",
     "timestamp": 1680922734986,
     "user": {
      "displayName": "Mary Chau",
      "userId": "14027067063095206122"
     },
     "user_tz": 420
    },
    "id": "yjSYHtUjh56V",
    "outputId": "00e71311-0fca-4868-e50e-ab22bf775a36"
   },
   "outputs": [
    {
     "name": "stdout",
     "output_type": "stream",
     "text": [
      "\n",
      "Fold 1:\n",
      "Normalizing real features (29)\n",
      "Saved scaler to /root/co2-flux-hourly-gpp-modeling/code/src/preprocessing/preproc_objects/scaler_cv1.joblib.\n",
      "Train data size: (2997048, 73).\n",
      "Val data size: (883296, 73).\n",
      "train_y((2997048,)), train_X((2997048, 73))\n",
      "val_y((883296,)), val_X((883296, 73))\n",
      "\n",
      "Fold 2:\n",
      "Normalizing real features (29)\n",
      "Saved scaler to /root/co2-flux-hourly-gpp-modeling/code/src/preprocessing/preproc_objects/scaler_cv2.joblib.\n",
      "Train data size: (2924472, 73).\n",
      "Val data size: (955872, 73).\n",
      "train_y((2924472,)), train_X((2924472, 73))\n",
      "val_y((955872,)), val_X((955872, 73))\n",
      "\n",
      "Fold 3:\n",
      "Normalizing real features (29)\n",
      "Saved scaler to /root/co2-flux-hourly-gpp-modeling/code/src/preprocessing/preproc_objects/scaler_cv3.joblib.\n",
      "Train data size: (2895240, 73).\n",
      "Val data size: (985104, 73).\n",
      "train_y((2895240,)), train_X((2895240, 73))\n",
      "val_y((985104,)), val_X((985104, 73))\n",
      "\n",
      "Fold 4:\n",
      "Normalizing real features (29)\n",
      "Saved scaler to /root/co2-flux-hourly-gpp-modeling/code/src/preprocessing/preproc_objects/scaler_cv4.joblib.\n",
      "Train data size: (2824272, 73).\n",
      "Val data size: (1056072, 73).\n",
      "train_y((2824272,)), train_X((2824272, 73))\n",
      "val_y((1056072,)), val_X((1056072, 73))\n"
     ]
    }
   ],
   "source": [
    "TEST_INDEX = 4\n",
    "fold_data = []\n",
    "for i in range(4):\n",
    "    print(f\"\\nFold {i+1}:\")\n",
    "    train_df, val_df, _ = get_splited_datasets(data_df, i, TEST_INDEX)\n",
    "\n",
    "    train = split_to_X_y(train_df)\n",
    "    val   = split_to_X_y(val_df)\n",
    "    train.X, val.X, _ = normalize_real_cols(int(i+1), realNum_cols, train.X, val.X, None)\n",
    "\n",
    "    print(f\"train_y({train.y.shape}), train_X({train.X.shape})\")\n",
    "    print(f\"val_y({val.y.shape}), val_X({val.X.shape})\")\n",
    "    fold_data.append({\"train\": train, \"val\": val})"
   ]
  },
  {
   "cell_type": "markdown",
   "metadata": {
    "id": "rZy3cAnwp4pp"
   },
   "source": [
    "# Cross Validation with Default XGBoost Params"
   ]
  },
  {
   "cell_type": "code",
   "execution_count": 10,
   "metadata": {
    "colab": {
     "base_uri": "https://localhost:8080/",
     "height": 366
    },
    "executionInfo": {
     "elapsed": 40255,
     "status": "ok",
     "timestamp": 1680923528117,
     "user": {
      "displayName": "Mary Chau",
      "userId": "14027067063095206122"
     },
     "user_tz": 420
    },
    "id": "cXn1G_CdqRjP",
    "outputId": "4c96413d-c88a-4c04-84ec-5d9f620774d2",
    "tags": []
   },
   "outputs": [
    {
     "name": "stdout",
     "output_type": "stream",
     "text": [
      "Experiment logs saved to /root/co2-flux-hourly-gpp-modeling/data/models/xgboost_default.\n",
      "  save model to /root/co2-flux-hourly-gpp-modeling/data/models/xgboost_default/model_cv1.pkl.\n",
      "  save model to /root/co2-flux-hourly-gpp-modeling/data/models/xgboost_default/model_cv2.pkl.\n",
      "  save model to /root/co2-flux-hourly-gpp-modeling/data/models/xgboost_default/model_cv3.pkl.\n",
      "  save model to /root/co2-flux-hourly-gpp-modeling/data/models/xgboost_default/model_cv4.pkl.\n",
      "Results from params {}:\n"
     ]
    },
    {
     "data": {
      "text/html": [
       "<div>\n",
       "<style scoped>\n",
       "    .dataframe tbody tr th:only-of-type {\n",
       "        vertical-align: middle;\n",
       "    }\n",
       "\n",
       "    .dataframe tbody tr th {\n",
       "        vertical-align: top;\n",
       "    }\n",
       "\n",
       "    .dataframe thead th {\n",
       "        text-align: right;\n",
       "    }\n",
       "</style>\n",
       "<table border=\"1\" class=\"dataframe\">\n",
       "  <thead>\n",
       "    <tr style=\"text-align: right;\">\n",
       "      <th></th>\n",
       "      <th>Fold_No</th>\n",
       "      <th>RMSE</th>\n",
       "      <th>MAE</th>\n",
       "      <th>R2</th>\n",
       "      <th>LOSS_SD</th>\n",
       "      <th>filename</th>\n",
       "    </tr>\n",
       "  </thead>\n",
       "  <tbody>\n",
       "    <tr>\n",
       "      <th>0</th>\n",
       "      <td>1</td>\n",
       "      <td>3.68680</td>\n",
       "      <td>1.99337</td>\n",
       "      <td>0.71194</td>\n",
       "      <td>3.68255</td>\n",
       "      <td>model_cv1.pkl</td>\n",
       "    </tr>\n",
       "    <tr>\n",
       "      <th>1</th>\n",
       "      <td>2</td>\n",
       "      <td>4.03101</td>\n",
       "      <td>2.15021</td>\n",
       "      <td>0.61705</td>\n",
       "      <td>3.99461</td>\n",
       "      <td>model_cv2.pkl</td>\n",
       "    </tr>\n",
       "    <tr>\n",
       "      <th>2</th>\n",
       "      <td>3</td>\n",
       "      <td>3.95604</td>\n",
       "      <td>2.14557</td>\n",
       "      <td>0.69692</td>\n",
       "      <td>3.95013</td>\n",
       "      <td>model_cv3.pkl</td>\n",
       "    </tr>\n",
       "    <tr>\n",
       "      <th>3</th>\n",
       "      <td>4</td>\n",
       "      <td>3.73675</td>\n",
       "      <td>2.14239</td>\n",
       "      <td>0.72440</td>\n",
       "      <td>3.73203</td>\n",
       "      <td>model_cv4.pkl</td>\n",
       "    </tr>\n",
       "  </tbody>\n",
       "</table>\n",
       "</div>"
      ],
      "text/plain": [
       "  Fold_No    RMSE     MAE      R2  LOSS_SD       filename\n",
       "0       1 3.68680 1.99337 0.71194  3.68255  model_cv1.pkl\n",
       "1       2 4.03101 2.15021 0.61705  3.99461  model_cv2.pkl\n",
       "2       3 3.95604 2.14557 0.69692  3.95013  model_cv3.pkl\n",
       "3       4 3.73675 2.14239 0.72440  3.73203  model_cv4.pkl"
      ]
     },
     "metadata": {},
     "output_type": "display_data"
    },
    {
     "data": {
      "text/plain": [
       "RMSE   3.85265\n",
       "MAE    2.10788\n",
       "R2     0.68758\n",
       "dtype: float64"
      ]
     },
     "metadata": {},
     "output_type": "display_data"
    },
    {
     "name": "stdout",
     "output_type": "stream",
     "text": [
      "CV results saved to /root/co2-flux-hourly-gpp-modeling/data/models/xgboost_default/cv_result.csv\n"
     ]
    }
   ],
   "source": [
    "# Create model result directory\n",
    "#experiment_ts = datetime.now().strftime(\"%y%m%d_%H%M\")\n",
    "experiment_ts = \"default\"\n",
    "exp_dir = model_dir + os.sep + f\"xgboost_{experiment_ts}\" \n",
    "if not (os.path.exists(exp_dir)):\n",
    "    os.makedirs(exp_dir)\n",
    "print(f\"Experiment logs saved to {exp_dir}.\")\n",
    "  \n",
    "best_params = {}\n",
    "cv_results = RunXGBoostCV(best_params, fold_data, exp_dir)"
   ]
  },
  {
   "cell_type": "code",
   "execution_count": null,
   "metadata": {
    "id": "T2vCje_pej5M"
   },
   "outputs": [],
   "source": [
    "# # SAMPLE FOR RANDOME Search\n",
    "# # Create model result directory\n",
    "# experiment_ts = datetime.now().strftime(\"%y%m%d_%H%M\")\n",
    "# exp_root_dir = model_dir + os.sep + f\"xgboost_{experiment_ts}\" \n",
    "# if not (os.path.exists(exp_root_dir)):\n",
    "#     os.makedirs(exp_root_dir)\n",
    "# print(f\"Experiment logs saved to {exp_root_dir}.\")\n",
    "\n",
    "# # Run Randome Search\n",
    "# n = 10\n",
    "# for i in range(n):\n",
    "  \n",
    "#     # create model dir\n",
    "#     exp_dir = exp_root_dir + os.sep + f\"exp_{i+1}\"\n",
    "#     if not (os.path.exists(exp_dir)):\n",
    "#     os.makedirs(exp_dir)\n",
    "#     print(f\"\\nExperiment {i+1} saved to {exp_dir}.\")\n",
    "\n",
    "#     best_params = {}\n",
    "#     best_params['n_estimators'] = 10*random.randint(0, 5)\n",
    "#     best_params['max_depth'] = 5*random.randint(0, 3)\n",
    "#     RunXGBoostCV(best_params, exp_dir)"
   ]
  },
  {
   "cell_type": "markdown",
   "metadata": {
    "id": "91YY_BZajnjQ"
   },
   "source": [
    "# Compare Feature Importances"
   ]
  },
  {
   "cell_type": "code",
   "execution_count": 12,
   "metadata": {
    "colab": {
     "base_uri": "https://localhost:8080/",
     "height": 580
    },
    "executionInfo": {
     "elapsed": 2834,
     "status": "ok",
     "timestamp": 1680923544159,
     "user": {
      "displayName": "Mary Chau",
      "userId": "14027067063095206122"
     },
     "user_tz": 420
    },
    "id": "ciVJCNSqswCn",
    "outputId": "19187086-3386-4916-a0c6-025c43a2c4c1",
    "tags": []
   },
   "outputs": [
    {
     "data": {
      "image/png": "[encoded data removed]",
      "text/plain": [
       "<Figure size 2000x1000 with 4 Axes>"
      ]
     },
     "metadata": {},
     "output_type": "display_data"
    },
    {
     "name": "stdout",
     "output_type": "stream",
     "text": [
      "CV importance saved to /root/co2-flux-hourly-gpp-modeling/data/models/xgboost_default/cv_importance.csv\n"
     ]
    }
   ],
   "source": [
    "import seaborn as sns\n",
    "sns.set_theme(style=\"darkgrid\")\n",
    "sns.set(rc={'figure.figsize':(30,10), })\n",
    "fig, ax = plt.subplots(1, 4, figsize=(20,10))\n",
    "\n",
    "# Get CV result\n",
    "exp_dir = root_dir + \"/data/models/xgboost_default\"\n",
    "cv_results_df = pd.read_csv(exp_dir + os.sep + \"cv_result.csv\")\n",
    "\n",
    "cv_importances_df = pd.DataFrame()\n",
    "for i, cv in cv_results_df.iterrows():\n",
    "    modelpath = exp_dir + os.sep + cv.filename\n",
    "    model = pickle.load(open(modelpath, 'rb'))\n",
    "    cv_importances = feature_importance(model, f\"CV{cv.Fold_No}\", model.feature_names_in_, i, fig, ax)\n",
    "    cv_importances_df[f\"cv{cv.Fold_No}\"] = cv_importances\n",
    "\n",
    "fig.tight_layout()\n",
    "plt.show()\n",
    "cv_importances_df = cv_importances_df.reset_index()\n",
    "cv_importances_df.columns = ['feature_name','cv1', 'cv2', 'cv3', 'cv4']\n",
    "\n",
    "# Save CV Importance of CSV\n",
    "cv_importances_df.to_csv(exp_dir + os.sep + \"cv_importance.csv\", index=False)\n",
    "print(f\"CV importance saved to {exp_dir + os.sep + 'cv_importance.csv'}\")"
   ]
  },
  {
   "cell_type": "code",
   "execution_count": 13,
   "metadata": {
    "colab": {
     "base_uri": "https://localhost:8080/",
     "height": 1000
    },
    "executionInfo": {
     "elapsed": 187,
     "status": "ok",
     "timestamp": 1680921821111,
     "user": {
      "displayName": "Mary Chau",
      "userId": "14027067063095206122"
     },
     "user_tz": 420
    },
    "id": "Iqeo2G4ZiLSI",
    "outputId": "926c044c-f02c-45b5-8ebc-03b0d4deefd6",
    "tags": []
   },
   "outputs": [
    {
     "data": {
      "text/html": [
       "<div>\n",
       "<style scoped>\n",
       "    .dataframe tbody tr th:only-of-type {\n",
       "        vertical-align: middle;\n",
       "    }\n",
       "\n",
       "    .dataframe tbody tr th {\n",
       "        vertical-align: top;\n",
       "    }\n",
       "\n",
       "    .dataframe thead th {\n",
       "        text-align: right;\n",
       "    }\n",
       "</style>\n",
       "<table border=\"1\" class=\"dataframe\">\n",
       "  <thead>\n",
       "    <tr style=\"text-align: right;\">\n",
       "      <th></th>\n",
       "      <th>feature_name</th>\n",
       "      <th>cv1</th>\n",
       "      <th>cv2</th>\n",
       "      <th>cv3</th>\n",
       "      <th>cv4</th>\n",
       "    </tr>\n",
       "  </thead>\n",
       "  <tbody>\n",
       "    <tr>\n",
       "      <th>0</th>\n",
       "      <td>month</td>\n",
       "      <td>0.00291</td>\n",
       "      <td>0.00127</td>\n",
       "      <td>0.00197</td>\n",
       "      <td>0.00204</td>\n",
       "    </tr>\n",
       "    <tr>\n",
       "      <th>1</th>\n",
       "      <td>day</td>\n",
       "      <td>0.00085</td>\n",
       "      <td>0.00078</td>\n",
       "      <td>0.00091</td>\n",
       "      <td>0.00105</td>\n",
       "    </tr>\n",
       "    <tr>\n",
       "      <th>2</th>\n",
       "      <td>hour</td>\n",
       "      <td>0.00284</td>\n",
       "      <td>0.00286</td>\n",
       "      <td>0.00267</td>\n",
       "      <td>0.00364</td>\n",
       "    </tr>\n",
       "    <tr>\n",
       "      <th>3</th>\n",
       "      <td>TA_ERA</td>\n",
       "      <td>0.00446</td>\n",
       "      <td>0.00639</td>\n",
       "      <td>0.00437</td>\n",
       "      <td>0.00423</td>\n",
       "    </tr>\n",
       "    <tr>\n",
       "      <th>4</th>\n",
       "      <td>SW_IN_ERA</td>\n",
       "      <td>0.09362</td>\n",
       "      <td>0.08668</td>\n",
       "      <td>0.07962</td>\n",
       "      <td>0.08585</td>\n",
       "    </tr>\n",
       "    <tr>\n",
       "      <th>5</th>\n",
       "      <td>LW_IN_ERA</td>\n",
       "      <td>0.00318</td>\n",
       "      <td>0.00232</td>\n",
       "      <td>0.00202</td>\n",
       "      <td>0.00345</td>\n",
       "    </tr>\n",
       "    <tr>\n",
       "      <th>6</th>\n",
       "      <td>VPD_ERA</td>\n",
       "      <td>0.00213</td>\n",
       "      <td>0.00184</td>\n",
       "      <td>0.00222</td>\n",
       "      <td>0.00194</td>\n",
       "    </tr>\n",
       "    <tr>\n",
       "      <th>7</th>\n",
       "      <td>P_ERA</td>\n",
       "      <td>0.00083</td>\n",
       "      <td>0.00200</td>\n",
       "      <td>0.00111</td>\n",
       "      <td>0.00141</td>\n",
       "    </tr>\n",
       "    <tr>\n",
       "      <th>8</th>\n",
       "      <td>PA_ERA</td>\n",
       "      <td>0.00384</td>\n",
       "      <td>0.00268</td>\n",
       "      <td>0.00392</td>\n",
       "      <td>0.00292</td>\n",
       "    </tr>\n",
       "    <tr>\n",
       "      <th>9</th>\n",
       "      <td>EVI</td>\n",
       "      <td>0.02758</td>\n",
       "      <td>0.01093</td>\n",
       "      <td>0.02458</td>\n",
       "      <td>0.00622</td>\n",
       "    </tr>\n",
       "    <tr>\n",
       "      <th>10</th>\n",
       "      <td>NDVI</td>\n",
       "      <td>0.22345</td>\n",
       "      <td>0.25952</td>\n",
       "      <td>0.27574</td>\n",
       "      <td>0.25512</td>\n",
       "    </tr>\n",
       "    <tr>\n",
       "      <th>11</th>\n",
       "      <td>NIRv</td>\n",
       "      <td>0.15188</td>\n",
       "      <td>0.03696</td>\n",
       "      <td>0.01764</td>\n",
       "      <td>0.06041</td>\n",
       "    </tr>\n",
       "    <tr>\n",
       "      <th>12</th>\n",
       "      <td>b1</td>\n",
       "      <td>0.00409</td>\n",
       "      <td>0.00305</td>\n",
       "      <td>0.00307</td>\n",
       "      <td>0.00302</td>\n",
       "    </tr>\n",
       "    <tr>\n",
       "      <th>13</th>\n",
       "      <td>b2</td>\n",
       "      <td>0.00728</td>\n",
       "      <td>0.00339</td>\n",
       "      <td>0.00227</td>\n",
       "      <td>0.00803</td>\n",
       "    </tr>\n",
       "    <tr>\n",
       "      <th>14</th>\n",
       "      <td>b3</td>\n",
       "      <td>0.00348</td>\n",
       "      <td>0.00165</td>\n",
       "      <td>0.00221</td>\n",
       "      <td>0.00201</td>\n",
       "    </tr>\n",
       "    <tr>\n",
       "      <th>15</th>\n",
       "      <td>b4</td>\n",
       "      <td>0.00244</td>\n",
       "      <td>0.00232</td>\n",
       "      <td>0.00393</td>\n",
       "      <td>0.00320</td>\n",
       "    </tr>\n",
       "    <tr>\n",
       "      <th>16</th>\n",
       "      <td>b5</td>\n",
       "      <td>0.00290</td>\n",
       "      <td>0.00229</td>\n",
       "      <td>0.00287</td>\n",
       "      <td>0.00286</td>\n",
       "    </tr>\n",
       "    <tr>\n",
       "      <th>17</th>\n",
       "      <td>b6</td>\n",
       "      <td>0.00761</td>\n",
       "      <td>0.00329</td>\n",
       "      <td>0.00369</td>\n",
       "      <td>0.00547</td>\n",
       "    </tr>\n",
       "    <tr>\n",
       "      <th>18</th>\n",
       "      <td>b7</td>\n",
       "      <td>0.00263</td>\n",
       "      <td>0.00148</td>\n",
       "      <td>0.00189</td>\n",
       "      <td>0.00230</td>\n",
       "    </tr>\n",
       "    <tr>\n",
       "      <th>19</th>\n",
       "      <td>BESS-PAR</td>\n",
       "      <td>0.00635</td>\n",
       "      <td>0.00301</td>\n",
       "      <td>0.00282</td>\n",
       "      <td>0.00382</td>\n",
       "    </tr>\n",
       "    <tr>\n",
       "      <th>20</th>\n",
       "      <td>BESS-PARdiff</td>\n",
       "      <td>0.00472</td>\n",
       "      <td>0.00347</td>\n",
       "      <td>0.00951</td>\n",
       "      <td>0.00343</td>\n",
       "    </tr>\n",
       "    <tr>\n",
       "      <th>21</th>\n",
       "      <td>BESS-RSDN</td>\n",
       "      <td>0.00336</td>\n",
       "      <td>0.00301</td>\n",
       "      <td>0.01393</td>\n",
       "      <td>0.00478</td>\n",
       "    </tr>\n",
       "    <tr>\n",
       "      <th>22</th>\n",
       "      <td>CSIF-SIFdaily</td>\n",
       "      <td>0.00634</td>\n",
       "      <td>0.01231</td>\n",
       "      <td>0.00920</td>\n",
       "      <td>0.01491</td>\n",
       "    </tr>\n",
       "    <tr>\n",
       "      <th>23</th>\n",
       "      <td>PET</td>\n",
       "      <td>0.00554</td>\n",
       "      <td>0.00574</td>\n",
       "      <td>0.00451</td>\n",
       "      <td>0.00510</td>\n",
       "    </tr>\n",
       "    <tr>\n",
       "      <th>24</th>\n",
       "      <td>Ts</td>\n",
       "      <td>0.00875</td>\n",
       "      <td>0.00648</td>\n",
       "      <td>0.00712</td>\n",
       "      <td>0.00618</td>\n",
       "    </tr>\n",
       "    <tr>\n",
       "      <th>25</th>\n",
       "      <td>ESACCI-sm</td>\n",
       "      <td>0.00735</td>\n",
       "      <td>0.00632</td>\n",
       "      <td>0.00630</td>\n",
       "      <td>0.00738</td>\n",
       "    </tr>\n",
       "    <tr>\n",
       "      <th>26</th>\n",
       "      <td>NDWI</td>\n",
       "      <td>0.00494</td>\n",
       "      <td>0.00336</td>\n",
       "      <td>0.00450</td>\n",
       "      <td>0.00453</td>\n",
       "    </tr>\n",
       "    <tr>\n",
       "      <th>27</th>\n",
       "      <td>Percent_Snow</td>\n",
       "      <td>0.00231</td>\n",
       "      <td>0.00269</td>\n",
       "      <td>0.00100</td>\n",
       "      <td>0.00272</td>\n",
       "    </tr>\n",
       "    <tr>\n",
       "      <th>28</th>\n",
       "      <td>Fpar</td>\n",
       "      <td>0.00451</td>\n",
       "      <td>0.00520</td>\n",
       "      <td>0.00253</td>\n",
       "      <td>0.00555</td>\n",
       "    </tr>\n",
       "    <tr>\n",
       "      <th>29</th>\n",
       "      <td>Lai</td>\n",
       "      <td>0.02761</td>\n",
       "      <td>0.02134</td>\n",
       "      <td>0.00946</td>\n",
       "      <td>0.02382</td>\n",
       "    </tr>\n",
       "    <tr>\n",
       "      <th>30</th>\n",
       "      <td>LST_Day</td>\n",
       "      <td>0.01047</td>\n",
       "      <td>0.00582</td>\n",
       "      <td>0.00642</td>\n",
       "      <td>0.00399</td>\n",
       "    </tr>\n",
       "    <tr>\n",
       "      <th>31</th>\n",
       "      <td>LST_Night</td>\n",
       "      <td>0.01164</td>\n",
       "      <td>0.01140</td>\n",
       "      <td>0.00910</td>\n",
       "      <td>0.01040</td>\n",
       "    </tr>\n",
       "    <tr>\n",
       "      <th>32</th>\n",
       "      <td>MODIS_LC</td>\n",
       "      <td>0.01197</td>\n",
       "      <td>0.00945</td>\n",
       "      <td>0.01458</td>\n",
       "      <td>0.01311</td>\n",
       "    </tr>\n",
       "    <tr>\n",
       "      <th>33</th>\n",
       "      <td>koppen_sub_14</td>\n",
       "      <td>0.00949</td>\n",
       "      <td>0.01442</td>\n",
       "      <td>0.00476</td>\n",
       "      <td>0.01790</td>\n",
       "    </tr>\n",
       "    <tr>\n",
       "      <th>34</th>\n",
       "      <td>koppen_sub_15</td>\n",
       "      <td>0.01118</td>\n",
       "      <td>0.01282</td>\n",
       "      <td>0.00369</td>\n",
       "      <td>0.00969</td>\n",
       "    </tr>\n",
       "    <tr>\n",
       "      <th>35</th>\n",
       "      <td>koppen_sub_18</td>\n",
       "      <td>0.00780</td>\n",
       "      <td>0.00373</td>\n",
       "      <td>0.00221</td>\n",
       "      <td>0.00414</td>\n",
       "    </tr>\n",
       "    <tr>\n",
       "      <th>36</th>\n",
       "      <td>koppen_sub_2</td>\n",
       "      <td>0.00602</td>\n",
       "      <td>0.00080</td>\n",
       "      <td>0.01182</td>\n",
       "      <td>0.00000</td>\n",
       "    </tr>\n",
       "    <tr>\n",
       "      <th>37</th>\n",
       "      <td>koppen_sub_25</td>\n",
       "      <td>0.01977</td>\n",
       "      <td>0.02085</td>\n",
       "      <td>0.00304</td>\n",
       "      <td>0.02804</td>\n",
       "    </tr>\n",
       "    <tr>\n",
       "      <th>38</th>\n",
       "      <td>koppen_sub_26</td>\n",
       "      <td>0.00813</td>\n",
       "      <td>0.00714</td>\n",
       "      <td>0.00567</td>\n",
       "      <td>0.00631</td>\n",
       "    </tr>\n",
       "    <tr>\n",
       "      <th>39</th>\n",
       "      <td>koppen_sub_27</td>\n",
       "      <td>0.00078</td>\n",
       "      <td>0.00441</td>\n",
       "      <td>0.00991</td>\n",
       "      <td>0.00973</td>\n",
       "    </tr>\n",
       "    <tr>\n",
       "      <th>40</th>\n",
       "      <td>koppen_sub_3</td>\n",
       "      <td>0.00383</td>\n",
       "      <td>0.00211</td>\n",
       "      <td>0.01923</td>\n",
       "      <td>0.00328</td>\n",
       "    </tr>\n",
       "    <tr>\n",
       "      <th>41</th>\n",
       "      <td>koppen_sub_4</td>\n",
       "      <td>0.00081</td>\n",
       "      <td>0.00056</td>\n",
       "      <td>0.00162</td>\n",
       "      <td>0.00105</td>\n",
       "    </tr>\n",
       "    <tr>\n",
       "      <th>42</th>\n",
       "      <td>koppen_sub_5</td>\n",
       "      <td>0.00075</td>\n",
       "      <td>0.00000</td>\n",
       "      <td>0.00000</td>\n",
       "      <td>0.00000</td>\n",
       "    </tr>\n",
       "    <tr>\n",
       "      <th>43</th>\n",
       "      <td>koppen_sub_6</td>\n",
       "      <td>0.00064</td>\n",
       "      <td>0.00104</td>\n",
       "      <td>0.00069</td>\n",
       "      <td>0.00010</td>\n",
       "    </tr>\n",
       "    <tr>\n",
       "      <th>44</th>\n",
       "      <td>koppen_sub_7</td>\n",
       "      <td>0.00645</td>\n",
       "      <td>0.01554</td>\n",
       "      <td>0.00697</td>\n",
       "      <td>0.02638</td>\n",
       "    </tr>\n",
       "    <tr>\n",
       "      <th>45</th>\n",
       "      <td>koppen_sub_8</td>\n",
       "      <td>0.01476</td>\n",
       "      <td>0.01405</td>\n",
       "      <td>0.00553</td>\n",
       "      <td>0.03026</td>\n",
       "    </tr>\n",
       "    <tr>\n",
       "      <th>46</th>\n",
       "      <td>koppen_sub_9</td>\n",
       "      <td>0.00150</td>\n",
       "      <td>0.00000</td>\n",
       "      <td>0.00204</td>\n",
       "      <td>0.00117</td>\n",
       "    </tr>\n",
       "    <tr>\n",
       "      <th>47</th>\n",
       "      <td>koppen_main_1</td>\n",
       "      <td>0.00075</td>\n",
       "      <td>0.00000</td>\n",
       "      <td>0.00000</td>\n",
       "      <td>0.00000</td>\n",
       "    </tr>\n",
       "    <tr>\n",
       "      <th>48</th>\n",
       "      <td>koppen_main_2</td>\n",
       "      <td>0.01705</td>\n",
       "      <td>0.03400</td>\n",
       "      <td>0.04655</td>\n",
       "      <td>0.02099</td>\n",
       "    </tr>\n",
       "    <tr>\n",
       "      <th>49</th>\n",
       "      <td>koppen_main_3</td>\n",
       "      <td>0.01785</td>\n",
       "      <td>0.00306</td>\n",
       "      <td>0.00421</td>\n",
       "      <td>0.00440</td>\n",
       "    </tr>\n",
       "    <tr>\n",
       "      <th>50</th>\n",
       "      <td>koppen_main_4</td>\n",
       "      <td>0.04530</td>\n",
       "      <td>0.06744</td>\n",
       "      <td>0.03731</td>\n",
       "      <td>0.03363</td>\n",
       "    </tr>\n",
       "    <tr>\n",
       "      <th>51</th>\n",
       "      <td>MODIS_PFT_CRO</td>\n",
       "      <td>0.02406</td>\n",
       "      <td>0.00606</td>\n",
       "      <td>0.01501</td>\n",
       "      <td>0.01616</td>\n",
       "    </tr>\n",
       "    <tr>\n",
       "      <th>52</th>\n",
       "      <td>MODIS_PFT_DBF</td>\n",
       "      <td>0.00730</td>\n",
       "      <td>0.02374</td>\n",
       "      <td>0.00777</td>\n",
       "      <td>0.00748</td>\n",
       "    </tr>\n",
       "    <tr>\n",
       "      <th>53</th>\n",
       "      <td>MODIS_PFT_EBF</td>\n",
       "      <td>0.00206</td>\n",
       "      <td>0.00730</td>\n",
       "      <td>0.00000</td>\n",
       "      <td>0.00000</td>\n",
       "    </tr>\n",
       "    <tr>\n",
       "      <th>54</th>\n",
       "      <td>MODIS_PFT_ENF</td>\n",
       "      <td>0.00000</td>\n",
       "      <td>0.00000</td>\n",
       "      <td>0.00000</td>\n",
       "      <td>0.00000</td>\n",
       "    </tr>\n",
       "    <tr>\n",
       "      <th>55</th>\n",
       "      <td>MODIS_PFT_GRA</td>\n",
       "      <td>0.00670</td>\n",
       "      <td>0.02991</td>\n",
       "      <td>0.00528</td>\n",
       "      <td>0.01293</td>\n",
       "    </tr>\n",
       "    <tr>\n",
       "      <th>56</th>\n",
       "      <td>MODIS_PFT_MF</td>\n",
       "      <td>0.01324</td>\n",
       "      <td>0.00411</td>\n",
       "      <td>0.00736</td>\n",
       "      <td>0.01821</td>\n",
       "    </tr>\n",
       "    <tr>\n",
       "      <th>57</th>\n",
       "      <td>MODIS_PFT_Other</td>\n",
       "      <td>0.00000</td>\n",
       "      <td>0.00000</td>\n",
       "      <td>0.00000</td>\n",
       "      <td>0.00000</td>\n",
       "    </tr>\n",
       "    <tr>\n",
       "      <th>58</th>\n",
       "      <td>MODIS_PFT_SA</td>\n",
       "      <td>0.00713</td>\n",
       "      <td>0.00262</td>\n",
       "      <td>0.02166</td>\n",
       "      <td>0.01056</td>\n",
       "    </tr>\n",
       "    <tr>\n",
       "      <th>59</th>\n",
       "      <td>MODIS_PFT_SH</td>\n",
       "      <td>0.03375</td>\n",
       "      <td>0.02507</td>\n",
       "      <td>0.03115</td>\n",
       "      <td>0.05374</td>\n",
       "    </tr>\n",
       "    <tr>\n",
       "      <th>60</th>\n",
       "      <td>MODIS_IGBP_CRO</td>\n",
       "      <td>0.00000</td>\n",
       "      <td>0.00000</td>\n",
       "      <td>0.00000</td>\n",
       "      <td>0.00000</td>\n",
       "    </tr>\n",
       "    <tr>\n",
       "      <th>61</th>\n",
       "      <td>MODIS_IGBP_CSH</td>\n",
       "      <td>0.00000</td>\n",
       "      <td>0.00751</td>\n",
       "      <td>0.01624</td>\n",
       "      <td>0.00318</td>\n",
       "    </tr>\n",
       "    <tr>\n",
       "      <th>62</th>\n",
       "      <td>MODIS_IGBP_DBF</td>\n",
       "      <td>0.00000</td>\n",
       "      <td>0.00000</td>\n",
       "      <td>0.00000</td>\n",
       "      <td>0.00000</td>\n",
       "    </tr>\n",
       "    <tr>\n",
       "      <th>63</th>\n",
       "      <td>MODIS_IGBP_EBF</td>\n",
       "      <td>0.00000</td>\n",
       "      <td>0.00000</td>\n",
       "      <td>0.00000</td>\n",
       "      <td>0.00000</td>\n",
       "    </tr>\n",
       "    <tr>\n",
       "      <th>64</th>\n",
       "      <td>MODIS_IGBP_ENF</td>\n",
       "      <td>0.00000</td>\n",
       "      <td>0.00000</td>\n",
       "      <td>0.00000</td>\n",
       "      <td>0.00000</td>\n",
       "    </tr>\n",
       "    <tr>\n",
       "      <th>65</th>\n",
       "      <td>MODIS_IGBP_GRA</td>\n",
       "      <td>0.00000</td>\n",
       "      <td>0.00000</td>\n",
       "      <td>0.00000</td>\n",
       "      <td>0.00000</td>\n",
       "    </tr>\n",
       "    <tr>\n",
       "      <th>66</th>\n",
       "      <td>MODIS_IGBP_MF</td>\n",
       "      <td>0.00000</td>\n",
       "      <td>0.00000</td>\n",
       "      <td>0.00000</td>\n",
       "      <td>0.00000</td>\n",
       "    </tr>\n",
       "    <tr>\n",
       "      <th>67</th>\n",
       "      <td>MODIS_IGBP_OSH</td>\n",
       "      <td>0.00000</td>\n",
       "      <td>0.09243</td>\n",
       "      <td>0.06580</td>\n",
       "      <td>0.03051</td>\n",
       "    </tr>\n",
       "    <tr>\n",
       "      <th>68</th>\n",
       "      <td>MODIS_IGBP_SAV</td>\n",
       "      <td>0.00271</td>\n",
       "      <td>0.00240</td>\n",
       "      <td>0.00282</td>\n",
       "      <td>0.00385</td>\n",
       "    </tr>\n",
       "    <tr>\n",
       "      <th>69</th>\n",
       "      <td>MODIS_IGBP_URB</td>\n",
       "      <td>0.00334</td>\n",
       "      <td>0.00000</td>\n",
       "      <td>0.00615</td>\n",
       "      <td>0.00181</td>\n",
       "    </tr>\n",
       "    <tr>\n",
       "      <th>70</th>\n",
       "      <td>MODIS_IGBP_WAT</td>\n",
       "      <td>0.00000</td>\n",
       "      <td>0.00000</td>\n",
       "      <td>0.00000</td>\n",
       "      <td>0.00000</td>\n",
       "    </tr>\n",
       "    <tr>\n",
       "      <th>71</th>\n",
       "      <td>MODIS_IGBP_WET</td>\n",
       "      <td>0.00000</td>\n",
       "      <td>0.00000</td>\n",
       "      <td>0.00000</td>\n",
       "      <td>0.00000</td>\n",
       "    </tr>\n",
       "    <tr>\n",
       "      <th>72</th>\n",
       "      <td>MODIS_IGBP_WSA</td>\n",
       "      <td>0.06297</td>\n",
       "      <td>0.06556</td>\n",
       "      <td>0.11783</td>\n",
       "      <td>0.07967</td>\n",
       "    </tr>\n",
       "  </tbody>\n",
       "</table>\n",
       "</div>"
      ],
      "text/plain": [
       "       feature_name     cv1     cv2     cv3     cv4\n",
       "0             month 0.00291 0.00127 0.00197 0.00204\n",
       "1               day 0.00085 0.00078 0.00091 0.00105\n",
       "2              hour 0.00284 0.00286 0.00267 0.00364\n",
       "3            TA_ERA 0.00446 0.00639 0.00437 0.00423\n",
       "4         SW_IN_ERA 0.09362 0.08668 0.07962 0.08585\n",
       "5         LW_IN_ERA 0.00318 0.00232 0.00202 0.00345\n",
       "6           VPD_ERA 0.00213 0.00184 0.00222 0.00194\n",
       "7             P_ERA 0.00083 0.00200 0.00111 0.00141\n",
       "8            PA_ERA 0.00384 0.00268 0.00392 0.00292\n",
       "9               EVI 0.02758 0.01093 0.02458 0.00622\n",
       "10             NDVI 0.22345 0.25952 0.27574 0.25512\n",
       "11             NIRv 0.15188 0.03696 0.01764 0.06041\n",
       "12               b1 0.00409 0.00305 0.00307 0.00302\n",
       "13               b2 0.00728 0.00339 0.00227 0.00803\n",
       "14               b3 0.00348 0.00165 0.00221 0.00201\n",
       "15               b4 0.00244 0.00232 0.00393 0.00320\n",
       "16               b5 0.00290 0.00229 0.00287 0.00286\n",
       "17               b6 0.00761 0.00329 0.00369 0.00547\n",
       "18               b7 0.00263 0.00148 0.00189 0.00230\n",
       "19         BESS-PAR 0.00635 0.00301 0.00282 0.00382\n",
       "20     BESS-PARdiff 0.00472 0.00347 0.00951 0.00343\n",
       "21        BESS-RSDN 0.00336 0.00301 0.01393 0.00478\n",
       "22    CSIF-SIFdaily 0.00634 0.01231 0.00920 0.01491\n",
       "23              PET 0.00554 0.00574 0.00451 0.00510\n",
       "24               Ts 0.00875 0.00648 0.00712 0.00618\n",
       "25        ESACCI-sm 0.00735 0.00632 0.00630 0.00738\n",
       "26             NDWI 0.00494 0.00336 0.00450 0.00453\n",
       "27     Percent_Snow 0.00231 0.00269 0.00100 0.00272\n",
       "28             Fpar 0.00451 0.00520 0.00253 0.00555\n",
       "29              Lai 0.02761 0.02134 0.00946 0.02382\n",
       "30          LST_Day 0.01047 0.00582 0.00642 0.00399\n",
       "31        LST_Night 0.01164 0.01140 0.00910 0.01040\n",
       "32         MODIS_LC 0.01197 0.00945 0.01458 0.01311\n",
       "33    koppen_sub_14 0.00949 0.01442 0.00476 0.01790\n",
       "34    koppen_sub_15 0.01118 0.01282 0.00369 0.00969\n",
       "35    koppen_sub_18 0.00780 0.00373 0.00221 0.00414\n",
       "36     koppen_sub_2 0.00602 0.00080 0.01182 0.00000\n",
       "37    koppen_sub_25 0.01977 0.02085 0.00304 0.02804\n",
       "38    koppen_sub_26 0.00813 0.00714 0.00567 0.00631\n",
       "39    koppen_sub_27 0.00078 0.00441 0.00991 0.00973\n",
       "40     koppen_sub_3 0.00383 0.00211 0.01923 0.00328\n",
       "41     koppen_sub_4 0.00081 0.00056 0.00162 0.00105\n",
       "42     koppen_sub_5 0.00075 0.00000 0.00000 0.00000\n",
       "43     koppen_sub_6 0.00064 0.00104 0.00069 0.00010\n",
       "44     koppen_sub_7 0.00645 0.01554 0.00697 0.02638\n",
       "45     koppen_sub_8 0.01476 0.01405 0.00553 0.03026\n",
       "46     koppen_sub_9 0.00150 0.00000 0.00204 0.00117\n",
       "47    koppen_main_1 0.00075 0.00000 0.00000 0.00000\n",
       "48    koppen_main_2 0.01705 0.03400 0.04655 0.02099\n",
       "49    koppen_main_3 0.01785 0.00306 0.00421 0.00440\n",
       "50    koppen_main_4 0.04530 0.06744 0.03731 0.03363\n",
       "51    MODIS_PFT_CRO 0.02406 0.00606 0.01501 0.01616\n",
       "52    MODIS_PFT_DBF 0.00730 0.02374 0.00777 0.00748\n",
       "53    MODIS_PFT_EBF 0.00206 0.00730 0.00000 0.00000\n",
       "54    MODIS_PFT_ENF 0.00000 0.00000 0.00000 0.00000\n",
       "55    MODIS_PFT_GRA 0.00670 0.02991 0.00528 0.01293\n",
       "56     MODIS_PFT_MF 0.01324 0.00411 0.00736 0.01821\n",
       "57  MODIS_PFT_Other 0.00000 0.00000 0.00000 0.00000\n",
       "58     MODIS_PFT_SA 0.00713 0.00262 0.02166 0.01056\n",
       "59     MODIS_PFT_SH 0.03375 0.02507 0.03115 0.05374\n",
       "60   MODIS_IGBP_CRO 0.00000 0.00000 0.00000 0.00000\n",
       "61   MODIS_IGBP_CSH 0.00000 0.00751 0.01624 0.00318\n",
       "62   MODIS_IGBP_DBF 0.00000 0.00000 0.00000 0.00000\n",
       "63   MODIS_IGBP_EBF 0.00000 0.00000 0.00000 0.00000\n",
       "64   MODIS_IGBP_ENF 0.00000 0.00000 0.00000 0.00000\n",
       "65   MODIS_IGBP_GRA 0.00000 0.00000 0.00000 0.00000\n",
       "66    MODIS_IGBP_MF 0.00000 0.00000 0.00000 0.00000\n",
       "67   MODIS_IGBP_OSH 0.00000 0.09243 0.06580 0.03051\n",
       "68   MODIS_IGBP_SAV 0.00271 0.00240 0.00282 0.00385\n",
       "69   MODIS_IGBP_URB 0.00334 0.00000 0.00615 0.00181\n",
       "70   MODIS_IGBP_WAT 0.00000 0.00000 0.00000 0.00000\n",
       "71   MODIS_IGBP_WET 0.00000 0.00000 0.00000 0.00000\n",
       "72   MODIS_IGBP_WSA 0.06297 0.06556 0.11783 0.07967"
      ]
     },
     "execution_count": 13,
     "metadata": {},
     "output_type": "execute_result"
    }
   ],
   "source": [
    "cv_importances_df"
   ]
  },
  {
   "cell_type": "markdown",
   "metadata": {
    "id": "bjvtop5QrRFe"
   },
   "source": [
    "## Look at the distribution of loss"
   ]
  },
  {
   "cell_type": "code",
   "execution_count": null,
   "metadata": {
    "colab": {
     "base_uri": "https://localhost:8080/",
     "height": 513
    },
    "id": "WhZCpG4ae03m",
    "outputId": "3ee4ab2d-c30c-44e8-9346-8652f0c69cdc"
   },
   "outputs": [
    {
     "data": {
      "text/plain": [
       "Text(0.5, 1.0, 'Loss_Group4')"
      ]
     },
     "execution_count": 115,
     "metadata": {},
     "output_type": "execute_result"
    },
    {
     "data": {
      "image/png": "[encoded data removed]",
      "text/plain": [
       "<Figure size 1000x500 with 4 Axes>"
      ]
     },
     "metadata": {},
     "output_type": "display_data"
    }
   ],
   "source": [
    "import seaborn as sns\n",
    "sns.set()\n",
    "# fig, axes = plt.subplots(figsize=(20,10))\n",
    "fig, axes = plt.subplots(2, 2, sharex=True, figsize=(10,5))\n",
    "plt.xlim([-40, 40])\n",
    "\n",
    "\n",
    "# sns.histplot(loss1, binwidth=3, kde=True) #ax=axes(0,0), \n",
    "sns.histplot(ax=axes[0,0], data=loss1, binwidth=2, kde=True)\n",
    "axes[0,0].set_title(\"Loss_Group1\")\n",
    "sns.histplot(ax=axes[0,1], data=loss2, binwidth=2, kde=True)\n",
    "axes[0,1].set_title(\"Loss_Group2\")\n",
    "sns.histplot(ax=axes[1,0], data=loss3, binwidth=2,kde=True)\n",
    "axes[1,0].set_title(\"Loss_Group3\")\n",
    "sns.histplot(ax=axes[1,1], data=loss4, binwidth=2, kde=True)\n",
    "axes[1,1].set_title(\"Loss_Group4\")\n"
   ]
  },
  {
   "cell_type": "code",
   "execution_count": null,
   "metadata": {
    "colab": {
     "base_uri": "https://localhost:8080/",
     "height": 333
    },
    "id": "MNRRzr8iln03",
    "outputId": "2f901d97-e54e-4db1-9a39-8e576ce47cba"
   },
   "outputs": [
    {
     "data": {
      "text/plain": [
       "Text(0.5, 1.0, 'CDF of loss by group')"
      ]
     },
     "execution_count": 112,
     "metadata": {},
     "output_type": "execute_result"
    },
    {
     "data": {
      "image/png": "[encoded data removed]",
      "text/plain": [
       "<Figure size 800x300 with 1 Axes>"
      ]
     },
     "metadata": {},
     "output_type": "display_data"
    }
   ],
   "source": [
    "fig, axes = plt.subplots(figsize=(8,3))\n",
    "\n",
    "\n",
    "\n",
    "count, bins_count = np.histogram(loss1, bins=len(loss1))\n",
    "# finding the PDF of the histogram using count values\n",
    "pdf = count / sum(count)\n",
    "# using numpy np.cumsum to calculate the CDF\n",
    "# We can also find using the PDF values by looping and adding\n",
    "cdf = np.cumsum(pdf)\n",
    "plt.plot(bins_count[1:], cdf, label=\"loss_group1\")\n",
    "\n",
    "count, bins_count = np.histogram(loss2, bins=len(loss2))\n",
    "pdf = count / sum(count)\n",
    "cdf = np.cumsum(pdf)\n",
    "plt.plot(bins_count[1:], cdf, label=\"loss_group2\")\n",
    "\n",
    "count, bins_count = np.histogram(loss3, bins=len(loss3))\n",
    "pdf = count / sum(count)\n",
    "cdf = np.cumsum(pdf)\n",
    "plt.plot(bins_count[1:], cdf, label=\"loss_group3\")\n",
    "\n",
    "count, bins_count = np.histogram(loss4, bins=len(loss4))\n",
    "pdf = count / sum(count)\n",
    "cdf = np.cumsum(pdf)\n",
    "plt.plot(bins_count[1:], cdf, label=\"loss_group4\")\n",
    "\n",
    "plt.legend(fontsize=8)\n",
    "plt.title(\"CDF of loss by group\", fontsize=10)"
   ]
  },
  {
   "cell_type": "code",
   "execution_count": null,
   "metadata": {
    "colab": {
     "base_uri": "https://localhost:8080/"
    },
    "id": "wMzSs5uJ_bC5",
    "outputId": "d01e2af2-14ad-4d13-c33d-3ed661db7a5d"
   },
   "outputs": [
    {
     "data": {
      "text/plain": [
       "57"
      ]
     },
     "execution_count": 40,
     "metadata": {},
     "output_type": "execute_result"
    }
   ],
   "source": [
    "len(cv_importances_df['feature_name'])"
   ]
  },
  {
   "cell_type": "markdown",
   "metadata": {
    "id": "cEyrvc8F3oxa"
   },
   "source": [
    "# Dimensionality Reduction + CV"
   ]
  },
  {
   "cell_type": "code",
   "execution_count": null,
   "metadata": {
    "id": "eFL_rvRH3oxa"
   },
   "outputs": [],
   "source": [
    "def RFR_fit_show_result(model, X_train, y_train, X_val, y_val, feature_list, model_name, feature_type):\n",
    "  X_train = X_train[feature_list]\n",
    "  y_train = y_train\n",
    "  X_val = X_val[feature_list]\n",
    "  y_val = y_val\n",
    "  \n",
    "  model.fit(X_train, y_train)\n",
    "  # Predict on val/test sets\n",
    "  y_pred_val = model.predict(X_val)\n",
    "  # y_pred_test = model.predict(X_test)\n",
    "\n",
    "  # Evaluate predictions - VAL\n",
    "  rmse = np.sqrt(mean_squared_error(y_val, y_pred_val))\n",
    "  mae = mean_absolute_error(y_val, y_pred_val)\n",
    "  r2 = r2_score(y_val, y_pred_val)\n",
    "  print(f\"   \")\n",
    "  print(f\"{model_name}, Val RMSE: {rmse}, Val MAE: {mae}, Val R2/NSE: {r2}\")\n",
    "  return [model_name, feature_type, feature_list, rmse, mae, r2]"
   ]
  },
  {
   "cell_type": "code",
   "execution_count": null,
   "metadata": {
    "colab": {
     "base_uri": "https://localhost:8080/"
    },
    "id": "QXLpTFof4FWx",
    "outputId": "6245c60b-8a3e-4066-e3e1-3fc14341ce28"
   },
   "outputs": [
    {
     "name": "stdout",
     "output_type": "stream",
     "text": [
      "0.7888743609694847\n",
      "0.8140367485436413\n",
      "0.7918502836441264\n",
      "0.7921367887210976\n"
     ]
    }
   ],
   "source": [
    "\n",
    "# cv_importances_df = cv_importances_df.drop([\"Unnamed: 0\"], axis=1)\n",
    "# how many features when they reach 80% of importance\n",
    "cv1_sort = list(cv_importances_df[\"cv1\"])\n",
    "cv1_sort.sort(reverse=True)\n",
    "cv2_sort = list(cv_importances_df[\"cv2\"])\n",
    "cv2_sort.sort(reverse=True)\n",
    "cv3_sort = list(cv_importances_df[\"cv3\"])\n",
    "cv3_sort.sort(reverse=True)\n",
    "cv4_sort = list(cv_importances_df[\"cv4\"])\n",
    "cv4_sort.sort(reverse=True)\n",
    "\n",
    "print(sum(cv1_sort[:8]))\n",
    "print(sum(cv2_sort[:8]))\n",
    "print(sum(cv3_sort[:8]))\n",
    "print(sum(cv4_sort[:8]))"
   ]
  },
  {
   "cell_type": "code",
   "execution_count": null,
   "metadata": {
    "id": "XTeYGOvP6BR8"
   },
   "outputs": [],
   "source": [
    "# SW, hour, Lai, NIRv, EVI, TA, VPD, NDVI, CSIF-SIF, \n",
    "# Fpar, b1, BESS PAR, \n",
    "\n",
    "tier1 = ['SW_IN_ERA','NDVI','NIRv','hour','Lai']\n",
    "tier2 = ['TA_ERA','VPD_ERA','EVI','CSIF-SIFdaily']\n",
    "tier3 = ['Fpar','b1','BESS-PAR']"
   ]
  },
  {
   "cell_type": "code",
   "execution_count": null,
   "metadata": {
    "colab": {
     "base_uri": "https://localhost:8080/"
    },
    "id": "5ft471GokPky",
    "outputId": "1c12b812-2067-44cb-9094-796e8645917d"
   },
   "outputs": [
    {
     "data": {
      "text/plain": [
       "[['SW_IN_ERA',\n",
       "  'NDVI',\n",
       "  'NIRv',\n",
       "  'hour',\n",
       "  'Lai',\n",
       "  'TA_ERA',\n",
       "  'SW_IN_ERA',\n",
       "  'VPD_ERA',\n",
       "  'EVI',\n",
       "  'NDVI',\n",
       "  'NIRv',\n",
       "  'hour',\n",
       "  'Lai',\n",
       "  'CSIF-SIFdaily',\n",
       "  'Fpar',\n",
       "  'b1',\n",
       "  'BESS-PAR'],\n",
       " ['SW_IN_ERA',\n",
       "  'NDVI',\n",
       "  'NIRv',\n",
       "  'hour',\n",
       "  'Lai',\n",
       "  'TA_ERA',\n",
       "  'SW_IN_ERA',\n",
       "  'VPD_ERA',\n",
       "  'EVI',\n",
       "  'NDVI',\n",
       "  'NIRv',\n",
       "  'hour',\n",
       "  'Lai',\n",
       "  'CSIF-SIFdaily'],\n",
       " ['SW_IN_ERA', 'NDVI', 'NIRv', 'hour', 'Lai']]"
      ]
     },
     "execution_count": 168,
     "metadata": {},
     "output_type": "execute_result"
    }
   ],
   "source": [
    "model_1, model_2, model_3 = [],[],[]\n",
    "\n",
    "feature_list = [tier1 + tier2 + tier3, tier1 + tier2, tier1]\n",
    "feature_list"
   ]
  },
  {
   "cell_type": "code",
   "execution_count": null,
   "metadata": {
    "colab": {
     "base_uri": "https://localhost:8080/"
    },
    "id": "jMeAHVYk3oxc",
    "outputId": "dee78762-c02c-4e8f-f9d6-f2b30a02bd94"
   },
   "outputs": [
    {
     "name": "stderr",
     "output_type": "stream",
     "text": [
      "[Parallel(n_jobs=-1)]: Using backend ThreadingBackend with 12 concurrent workers.\n",
      "[Parallel(n_jobs=-1)]: Done  26 tasks      | elapsed:   28.7s\n",
      "[Parallel(n_jobs=-1)]: Done  50 out of  50 | elapsed:   45.0s finished\n",
      "[Parallel(n_jobs=12)]: Using backend ThreadingBackend with 12 concurrent workers.\n",
      "[Parallel(n_jobs=12)]: Done  26 tasks      | elapsed:    0.2s\n",
      "[Parallel(n_jobs=12)]: Done  50 out of  50 | elapsed:    0.3s finished\n"
     ]
    },
    {
     "name": "stdout",
     "output_type": "stream",
     "text": [
      "   \n",
      "cv_group1, Val RMSE: 3.691976454327135, Val MAE: 1.9853894414491395, Val R2/NSE: 0.7260337606435401\n"
     ]
    },
    {
     "name": "stderr",
     "output_type": "stream",
     "text": [
      "[Parallel(n_jobs=-1)]: Using backend ThreadingBackend with 12 concurrent workers.\n",
      "[Parallel(n_jobs=-1)]: Done  26 tasks      | elapsed:   28.4s\n",
      "[Parallel(n_jobs=-1)]: Done  50 out of  50 | elapsed:   43.6s finished\n",
      "[Parallel(n_jobs=12)]: Using backend ThreadingBackend with 12 concurrent workers.\n",
      "[Parallel(n_jobs=12)]: Done  26 tasks      | elapsed:    0.2s\n",
      "[Parallel(n_jobs=12)]: Done  50 out of  50 | elapsed:    0.3s finished\n"
     ]
    },
    {
     "name": "stdout",
     "output_type": "stream",
     "text": [
      "   \n",
      "cv_group2, Val RMSE: 3.948931201480381, Val MAE: 2.023342683193204, Val R2/NSE: 0.6511000123707802\n"
     ]
    },
    {
     "name": "stderr",
     "output_type": "stream",
     "text": [
      "[Parallel(n_jobs=-1)]: Using backend ThreadingBackend with 12 concurrent workers.\n",
      "[Parallel(n_jobs=-1)]: Done  26 tasks      | elapsed:   27.7s\n",
      "[Parallel(n_jobs=-1)]: Done  50 out of  50 | elapsed:   42.5s finished\n",
      "[Parallel(n_jobs=12)]: Using backend ThreadingBackend with 12 concurrent workers.\n",
      "[Parallel(n_jobs=12)]: Done  26 tasks      | elapsed:    0.2s\n",
      "[Parallel(n_jobs=12)]: Done  50 out of  50 | elapsed:    0.3s finished\n"
     ]
    },
    {
     "name": "stdout",
     "output_type": "stream",
     "text": [
      "   \n",
      "cv_group3, Val RMSE: 3.9088792899138145, Val MAE: 2.085646285945488, Val R2/NSE: 0.7182069433465055\n"
     ]
    },
    {
     "name": "stderr",
     "output_type": "stream",
     "text": [
      "[Parallel(n_jobs=-1)]: Using backend ThreadingBackend with 12 concurrent workers.\n",
      "[Parallel(n_jobs=-1)]: Done  26 tasks      | elapsed:   26.9s\n",
      "[Parallel(n_jobs=-1)]: Done  50 out of  50 | elapsed:   41.6s finished\n",
      "[Parallel(n_jobs=12)]: Using backend ThreadingBackend with 12 concurrent workers.\n",
      "[Parallel(n_jobs=12)]: Done  26 tasks      | elapsed:    0.2s\n",
      "[Parallel(n_jobs=12)]: Done  50 out of  50 | elapsed:    0.3s finished\n"
     ]
    },
    {
     "name": "stdout",
     "output_type": "stream",
     "text": [
      "   \n",
      "cv_group4, Val RMSE: 3.593481307762386, Val MAE: 2.001562948256311, Val R2/NSE: 0.757484885866779\n"
     ]
    },
    {
     "name": "stderr",
     "output_type": "stream",
     "text": [
      "[Parallel(n_jobs=-1)]: Using backend ThreadingBackend with 12 concurrent workers.\n",
      "[Parallel(n_jobs=-1)]: Done  26 tasks      | elapsed:   23.7s\n",
      "[Parallel(n_jobs=-1)]: Done  50 out of  50 | elapsed:   36.6s finished\n",
      "[Parallel(n_jobs=12)]: Using backend ThreadingBackend with 12 concurrent workers.\n",
      "[Parallel(n_jobs=12)]: Done  26 tasks      | elapsed:    0.2s\n",
      "[Parallel(n_jobs=12)]: Done  50 out of  50 | elapsed:    0.2s finished\n"
     ]
    },
    {
     "name": "stdout",
     "output_type": "stream",
     "text": [
      "   \n",
      "cv_group1, Val RMSE: 3.69387373914418, Val MAE: 1.9859456248096448, Val R2/NSE: 0.7257521090394433\n"
     ]
    },
    {
     "name": "stderr",
     "output_type": "stream",
     "text": [
      "[Parallel(n_jobs=-1)]: Using backend ThreadingBackend with 12 concurrent workers.\n",
      "[Parallel(n_jobs=-1)]: Done  26 tasks      | elapsed:   23.2s\n",
      "[Parallel(n_jobs=-1)]: Done  50 out of  50 | elapsed:   35.8s finished\n",
      "[Parallel(n_jobs=12)]: Using backend ThreadingBackend with 12 concurrent workers.\n",
      "[Parallel(n_jobs=12)]: Done  26 tasks      | elapsed:    0.2s\n",
      "[Parallel(n_jobs=12)]: Done  50 out of  50 | elapsed:    0.3s finished\n"
     ]
    },
    {
     "name": "stdout",
     "output_type": "stream",
     "text": [
      "   \n",
      "cv_group2, Val RMSE: 3.954062269611647, Val MAE: 2.028984911521879, Val R2/NSE: 0.6501927326087031\n"
     ]
    },
    {
     "name": "stderr",
     "output_type": "stream",
     "text": [
      "[Parallel(n_jobs=-1)]: Using backend ThreadingBackend with 12 concurrent workers.\n",
      "[Parallel(n_jobs=-1)]: Done  26 tasks      | elapsed:   22.5s\n",
      "[Parallel(n_jobs=-1)]: Done  50 out of  50 | elapsed:   34.8s finished\n",
      "[Parallel(n_jobs=12)]: Using backend ThreadingBackend with 12 concurrent workers.\n",
      "[Parallel(n_jobs=12)]: Done  26 tasks      | elapsed:    0.2s\n",
      "[Parallel(n_jobs=12)]: Done  50 out of  50 | elapsed:    0.3s finished\n"
     ]
    },
    {
     "name": "stdout",
     "output_type": "stream",
     "text": [
      "   \n",
      "cv_group3, Val RMSE: 3.8994384982534296, Val MAE: 2.082501667191697, Val R2/NSE: 0.7195664823250388\n"
     ]
    },
    {
     "name": "stderr",
     "output_type": "stream",
     "text": [
      "[Parallel(n_jobs=-1)]: Using backend ThreadingBackend with 12 concurrent workers.\n",
      "[Parallel(n_jobs=-1)]: Done  26 tasks      | elapsed:   22.4s\n",
      "[Parallel(n_jobs=-1)]: Done  50 out of  50 | elapsed:   34.5s finished\n",
      "[Parallel(n_jobs=12)]: Using backend ThreadingBackend with 12 concurrent workers.\n",
      "[Parallel(n_jobs=12)]: Done  26 tasks      | elapsed:    0.2s\n",
      "[Parallel(n_jobs=12)]: Done  50 out of  50 | elapsed:    0.3s finished\n"
     ]
    },
    {
     "name": "stdout",
     "output_type": "stream",
     "text": [
      "   \n",
      "cv_group4, Val RMSE: 3.587011052127203, Val MAE: 1.9967780673656663, Val R2/NSE: 0.7583574225485891\n"
     ]
    },
    {
     "name": "stderr",
     "output_type": "stream",
     "text": [
      "[Parallel(n_jobs=-1)]: Using backend ThreadingBackend with 12 concurrent workers.\n",
      "[Parallel(n_jobs=-1)]: Done  26 tasks      | elapsed:   15.1s\n",
      "[Parallel(n_jobs=-1)]: Done  50 out of  50 | elapsed:   24.0s finished\n",
      "[Parallel(n_jobs=12)]: Using backend ThreadingBackend with 12 concurrent workers.\n",
      "[Parallel(n_jobs=12)]: Done  26 tasks      | elapsed:    0.1s\n",
      "[Parallel(n_jobs=12)]: Done  50 out of  50 | elapsed:    0.2s finished\n",
      "[Parallel(n_jobs=-1)]: Using backend ThreadingBackend with 12 concurrent workers.\n"
     ]
    },
    {
     "name": "stdout",
     "output_type": "stream",
     "text": [
      "   \n",
      "cv_group1, Val RMSE: 3.7155620048262668, Val MAE: 2.0055873133520676, Val R2/NSE: 0.7225222083892042\n"
     ]
    },
    {
     "name": "stderr",
     "output_type": "stream",
     "text": [
      "[Parallel(n_jobs=-1)]: Done  26 tasks      | elapsed:   15.0s\n",
      "[Parallel(n_jobs=-1)]: Done  50 out of  50 | elapsed:   23.3s finished\n",
      "[Parallel(n_jobs=12)]: Using backend ThreadingBackend with 12 concurrent workers.\n",
      "[Parallel(n_jobs=12)]: Done  26 tasks      | elapsed:    0.2s\n",
      "[Parallel(n_jobs=12)]: Done  50 out of  50 | elapsed:    0.2s finished\n",
      "[Parallel(n_jobs=-1)]: Using backend ThreadingBackend with 12 concurrent workers.\n"
     ]
    },
    {
     "name": "stdout",
     "output_type": "stream",
     "text": [
      "   \n",
      "cv_group2, Val RMSE: 3.9918121428650246, Val MAE: 2.059085831424114, Val R2/NSE: 0.6434815506569835\n"
     ]
    },
    {
     "name": "stderr",
     "output_type": "stream",
     "text": [
      "[Parallel(n_jobs=-1)]: Done  26 tasks      | elapsed:   14.8s\n",
      "[Parallel(n_jobs=-1)]: Done  50 out of  50 | elapsed:   23.1s finished\n",
      "[Parallel(n_jobs=12)]: Using backend ThreadingBackend with 12 concurrent workers.\n",
      "[Parallel(n_jobs=12)]: Done  26 tasks      | elapsed:    0.2s\n",
      "[Parallel(n_jobs=12)]: Done  50 out of  50 | elapsed:    0.3s finished\n",
      "[Parallel(n_jobs=-1)]: Using backend ThreadingBackend with 12 concurrent workers.\n"
     ]
    },
    {
     "name": "stdout",
     "output_type": "stream",
     "text": [
      "   \n",
      "cv_group3, Val RMSE: 3.93434505619453, Val MAE: 2.1129904105418444, Val R2/NSE: 0.7145233035511777\n"
     ]
    },
    {
     "name": "stderr",
     "output_type": "stream",
     "text": [
      "[Parallel(n_jobs=-1)]: Done  26 tasks      | elapsed:   14.5s\n",
      "[Parallel(n_jobs=-1)]: Done  50 out of  50 | elapsed:   22.4s finished\n",
      "[Parallel(n_jobs=12)]: Using backend ThreadingBackend with 12 concurrent workers.\n"
     ]
    },
    {
     "name": "stdout",
     "output_type": "stream",
     "text": [
      "   \n",
      "cv_group4, Val RMSE: 3.6281908730066212, Val MAE: 2.027997757504865, Val R2/NSE: 0.7527773355138901\n"
     ]
    },
    {
     "name": "stderr",
     "output_type": "stream",
     "text": [
      "[Parallel(n_jobs=12)]: Done  26 tasks      | elapsed:    0.2s\n",
      "[Parallel(n_jobs=12)]: Done  50 out of  50 | elapsed:    0.3s finished\n"
     ]
    }
   ],
   "source": [
    "result = [[\"cv_group\",\"feature_list\", \"feature_list\", \"RMSE\", \"MAE\", \"R2\"]]\n",
    "cv_group_list = [\"cv_group1\", \"cv_group2\", \"cv_group3\", \"cv_group4\"]\n",
    "feature_type = [\"tier1-3\", \"tier1-2\", \"tier1\"]\n",
    "\n",
    "dataset = [[X_train_cv1, y_train_cv1, X_val_cv1, y_val_cv1],\n",
    "           [X_train_cv2, y_train_cv2, X_val_cv2, y_val_cv2],\n",
    "           [X_train_cv3, y_train_cv3, X_val_cv3, y_val_cv3],\n",
    "           [X_train_cv4, y_train_cv4, X_val_cv4, y_val_cv4]]#, X_test_cv3, y_test_cv3\n",
    "\n",
    "for idx_f, features in enumerate(feature_list):\n",
    "  for idx_d, data in enumerate(dataset):\n",
    "    model = RandomForestRegressor(**best_params, random_state=42, n_jobs=-1, verbose=1)\n",
    "    result += [RFR_fit_show_result(model, data[0], data[1], data[2], data[3], \n",
    "                                     feature_list[idx_f], cv_group_list[idx_d],\n",
    "                                     feature_type[idx_f])]\n"
   ]
  },
  {
   "cell_type": "code",
   "execution_count": null,
   "metadata": {
    "colab": {
     "base_uri": "https://localhost:8080/",
     "height": 425
    },
    "id": "P9gHKUbZDYLd",
    "outputId": "5184844a-9bcf-4233-f075-586addaa7f93"
   },
   "outputs": [
    {
     "data": {
      "text/html": [
       "\n",
       "  <div id=\"df-4b168967-123c-4eae-b5ba-ad9e6bb46319\">\n",
       "    <div class=\"colab-df-container\">\n",
       "      <div>\n",
       "<style scoped>\n",
       "    .dataframe tbody tr th:only-of-type {\n",
       "        vertical-align: middle;\n",
       "    }\n",
       "\n",
       "    .dataframe tbody tr th {\n",
       "        vertical-align: top;\n",
       "    }\n",
       "\n",
       "    .dataframe thead th {\n",
       "        text-align: right;\n",
       "    }\n",
       "</style>\n",
       "<table border=\"1\" class=\"dataframe\">\n",
       "  <thead>\n",
       "    <tr style=\"text-align: right;\">\n",
       "      <th></th>\n",
       "      <th>cv_group</th>\n",
       "      <th>feature_list</th>\n",
       "      <th>feature_list</th>\n",
       "      <th>RMSE</th>\n",
       "      <th>MAE</th>\n",
       "      <th>R2</th>\n",
       "    </tr>\n",
       "  </thead>\n",
       "  <tbody>\n",
       "    <tr>\n",
       "      <th>0</th>\n",
       "      <td>cv_group1</td>\n",
       "      <td>tier1-3</td>\n",
       "      <td>[SW_IN_ERA, NDVI, NIRv, hour, Lai, TA_ERA, SW_...</td>\n",
       "      <td>3.69198</td>\n",
       "      <td>1.98539</td>\n",
       "      <td>0.72603</td>\n",
       "    </tr>\n",
       "    <tr>\n",
       "      <th>1</th>\n",
       "      <td>cv_group2</td>\n",
       "      <td>tier1-3</td>\n",
       "      <td>[SW_IN_ERA, NDVI, NIRv, hour, Lai, TA_ERA, SW_...</td>\n",
       "      <td>3.94893</td>\n",
       "      <td>2.02334</td>\n",
       "      <td>0.65110</td>\n",
       "    </tr>\n",
       "    <tr>\n",
       "      <th>2</th>\n",
       "      <td>cv_group3</td>\n",
       "      <td>tier1-3</td>\n",
       "      <td>[SW_IN_ERA, NDVI, NIRv, hour, Lai, TA_ERA, SW_...</td>\n",
       "      <td>3.90888</td>\n",
       "      <td>2.08565</td>\n",
       "      <td>0.71821</td>\n",
       "    </tr>\n",
       "    <tr>\n",
       "      <th>3</th>\n",
       "      <td>cv_group4</td>\n",
       "      <td>tier1-3</td>\n",
       "      <td>[SW_IN_ERA, NDVI, NIRv, hour, Lai, TA_ERA, SW_...</td>\n",
       "      <td>3.59348</td>\n",
       "      <td>2.00156</td>\n",
       "      <td>0.75748</td>\n",
       "    </tr>\n",
       "    <tr>\n",
       "      <th>4</th>\n",
       "      <td>cv_group1</td>\n",
       "      <td>tier1-2</td>\n",
       "      <td>[SW_IN_ERA, NDVI, NIRv, hour, Lai, TA_ERA, SW_...</td>\n",
       "      <td>3.69387</td>\n",
       "      <td>1.98595</td>\n",
       "      <td>0.72575</td>\n",
       "    </tr>\n",
       "    <tr>\n",
       "      <th>5</th>\n",
       "      <td>cv_group2</td>\n",
       "      <td>tier1-2</td>\n",
       "      <td>[SW_IN_ERA, NDVI, NIRv, hour, Lai, TA_ERA, SW_...</td>\n",
       "      <td>3.95406</td>\n",
       "      <td>2.02898</td>\n",
       "      <td>0.65019</td>\n",
       "    </tr>\n",
       "    <tr>\n",
       "      <th>6</th>\n",
       "      <td>cv_group3</td>\n",
       "      <td>tier1-2</td>\n",
       "      <td>[SW_IN_ERA, NDVI, NIRv, hour, Lai, TA_ERA, SW_...</td>\n",
       "      <td>3.89944</td>\n",
       "      <td>2.08250</td>\n",
       "      <td>0.71957</td>\n",
       "    </tr>\n",
       "    <tr>\n",
       "      <th>7</th>\n",
       "      <td>cv_group4</td>\n",
       "      <td>tier1-2</td>\n",
       "      <td>[SW_IN_ERA, NDVI, NIRv, hour, Lai, TA_ERA, SW_...</td>\n",
       "      <td>3.58701</td>\n",
       "      <td>1.99678</td>\n",
       "      <td>0.75836</td>\n",
       "    </tr>\n",
       "    <tr>\n",
       "      <th>8</th>\n",
       "      <td>cv_group1</td>\n",
       "      <td>tier1</td>\n",
       "      <td>[SW_IN_ERA, NDVI, NIRv, hour, Lai]</td>\n",
       "      <td>3.71556</td>\n",
       "      <td>2.00559</td>\n",
       "      <td>0.72252</td>\n",
       "    </tr>\n",
       "    <tr>\n",
       "      <th>9</th>\n",
       "      <td>cv_group2</td>\n",
       "      <td>tier1</td>\n",
       "      <td>[SW_IN_ERA, NDVI, NIRv, hour, Lai]</td>\n",
       "      <td>3.99181</td>\n",
       "      <td>2.05909</td>\n",
       "      <td>0.64348</td>\n",
       "    </tr>\n",
       "    <tr>\n",
       "      <th>10</th>\n",
       "      <td>cv_group3</td>\n",
       "      <td>tier1</td>\n",
       "      <td>[SW_IN_ERA, NDVI, NIRv, hour, Lai]</td>\n",
       "      <td>3.93435</td>\n",
       "      <td>2.11299</td>\n",
       "      <td>0.71452</td>\n",
       "    </tr>\n",
       "    <tr>\n",
       "      <th>11</th>\n",
       "      <td>cv_group4</td>\n",
       "      <td>tier1</td>\n",
       "      <td>[SW_IN_ERA, NDVI, NIRv, hour, Lai]</td>\n",
       "      <td>3.62819</td>\n",
       "      <td>2.02800</td>\n",
       "      <td>0.75278</td>\n",
       "    </tr>\n",
       "  </tbody>\n",
       "</table>\n",
       "</div>\n",
       "      <button class=\"colab-df-convert\" onclick=\"convertToInteractive('df-4b168967-123c-4eae-b5ba-ad9e6bb46319')\"\n",
       "              title=\"Convert this dataframe to an interactive table.\"\n",
       "              style=\"display:none;\">\n",
       "        \n",
       "  <svg xmlns=\"http://www.w3.org/2000/svg\" height=\"24px\"viewBox=\"0 0 24 24\"\n",
       "       width=\"24px\">\n",
       "    <path d=\"M0 0h24v24H0V0z\" fill=\"none\"/>\n",
       "    <path d=\"M18.56 5.44l.94 2.06.94-2.06 2.06-.94-2.06-.94-.94-2.06-.94 2.06-2.06.94zm-11 1L8.5 8.5l.94-2.06 2.06-.94-2.06-.94L8.5 2.5l-.94 2.06-2.06.94zm10 10l.94 2.06.94-2.06 2.06-.94-2.06-.94-.94-2.06-.94 2.06-2.06.94z\"/><path d=\"M17.41 7.96l-1.37-1.37c-.4-.4-.92-.59-1.43-.59-.52 0-1.04.2-1.43.59L10.3 9.45l-7.72 7.72c-.78.78-.78 2.05 0 2.83L4 21.41c.39.39.9.59 1.41.59.51 0 1.02-.2 1.41-.59l7.78-7.78 2.81-2.81c.8-.78.8-2.07 0-2.86zM5.41 20L4 18.59l7.72-7.72 1.47 1.35L5.41 20z\"/>\n",
       "  </svg>\n",
       "      </button>\n",
       "      \n",
       "  <style>\n",
       "    .colab-df-container {\n",
       "      display:flex;\n",
       "      flex-wrap:wrap;\n",
       "      gap: 12px;\n",
       "    }\n",
       "\n",
       "    .colab-df-convert {\n",
       "      background-color: #E8F0FE;\n",
       "      border: none;\n",
       "      border-radius: 50%;\n",
       "      cursor: pointer;\n",
       "      display: none;\n",
       "      fill: #1967D2;\n",
       "      height: 32px;\n",
       "      padding: 0 0 0 0;\n",
       "      width: 32px;\n",
       "    }\n",
       "\n",
       "    .colab-df-convert:hover {\n",
       "      background-color: #E2EBFA;\n",
       "      box-shadow: 0px 1px 2px rgba(60, 64, 67, 0.3), 0px 1px 3px 1px rgba(60, 64, 67, 0.15);\n",
       "      fill: #174EA6;\n",
       "    }\n",
       "\n",
       "    [theme=dark] .colab-df-convert {\n",
       "      background-color: #3B4455;\n",
       "      fill: #D2E3FC;\n",
       "    }\n",
       "\n",
       "    [theme=dark] .colab-df-convert:hover {\n",
       "      background-color: #434B5C;\n",
       "      box-shadow: 0px 1px 3px 1px rgba(0, 0, 0, 0.15);\n",
       "      filter: drop-shadow(0px 1px 2px rgba(0, 0, 0, 0.3));\n",
       "      fill: #FFFFFF;\n",
       "    }\n",
       "  </style>\n",
       "\n",
       "      <script>\n",
       "        const buttonEl =\n",
       "          document.querySelector('#df-4b168967-123c-4eae-b5ba-ad9e6bb46319 button.colab-df-convert');\n",
       "        buttonEl.style.display =\n",
       "          google.colab.kernel.accessAllowed ? 'block' : 'none';\n",
       "\n",
       "        async function convertToInteractive(key) {\n",
       "          const element = document.querySelector('#df-4b168967-123c-4eae-b5ba-ad9e6bb46319');\n",
       "          const dataTable =\n",
       "            await google.colab.kernel.invokeFunction('convertToInteractive',\n",
       "                                                     [key], {});\n",
       "          if (!dataTable) return;\n",
       "\n",
       "          const docLinkHtml = 'Like what you see? Visit the ' +\n",
       "            '<a target=\"_blank\" href=https://colab.research.google.com/notebooks/data_table.ipynb>data table notebook</a>'\n",
       "            + ' to learn more about interactive tables.';\n",
       "          element.innerHTML = '';\n",
       "          dataTable['output_type'] = 'display_data';\n",
       "          await google.colab.output.renderOutput(dataTable, element);\n",
       "          const docLink = document.createElement('div');\n",
       "          docLink.innerHTML = docLinkHtml;\n",
       "          element.appendChild(docLink);\n",
       "        }\n",
       "      </script>\n",
       "    </div>\n",
       "  </div>\n",
       "  "
      ],
      "text/plain": [
       "     cv_group feature_list                                       feature_list  \\\n",
       "0   cv_group1      tier1-3  [SW_IN_ERA, NDVI, NIRv, hour, Lai, TA_ERA, SW_...   \n",
       "1   cv_group2      tier1-3  [SW_IN_ERA, NDVI, NIRv, hour, Lai, TA_ERA, SW_...   \n",
       "2   cv_group3      tier1-3  [SW_IN_ERA, NDVI, NIRv, hour, Lai, TA_ERA, SW_...   \n",
       "3   cv_group4      tier1-3  [SW_IN_ERA, NDVI, NIRv, hour, Lai, TA_ERA, SW_...   \n",
       "4   cv_group1      tier1-2  [SW_IN_ERA, NDVI, NIRv, hour, Lai, TA_ERA, SW_...   \n",
       "5   cv_group2      tier1-2  [SW_IN_ERA, NDVI, NIRv, hour, Lai, TA_ERA, SW_...   \n",
       "6   cv_group3      tier1-2  [SW_IN_ERA, NDVI, NIRv, hour, Lai, TA_ERA, SW_...   \n",
       "7   cv_group4      tier1-2  [SW_IN_ERA, NDVI, NIRv, hour, Lai, TA_ERA, SW_...   \n",
       "8   cv_group1        tier1                 [SW_IN_ERA, NDVI, NIRv, hour, Lai]   \n",
       "9   cv_group2        tier1                 [SW_IN_ERA, NDVI, NIRv, hour, Lai]   \n",
       "10  cv_group3        tier1                 [SW_IN_ERA, NDVI, NIRv, hour, Lai]   \n",
       "11  cv_group4        tier1                 [SW_IN_ERA, NDVI, NIRv, hour, Lai]   \n",
       "\n",
       "      RMSE     MAE      R2  \n",
       "0  3.69198 1.98539 0.72603  \n",
       "1  3.94893 2.02334 0.65110  \n",
       "2  3.90888 2.08565 0.71821  \n",
       "3  3.59348 2.00156 0.75748  \n",
       "4  3.69387 1.98595 0.72575  \n",
       "5  3.95406 2.02898 0.65019  \n",
       "6  3.89944 2.08250 0.71957  \n",
       "7  3.58701 1.99678 0.75836  \n",
       "8  3.71556 2.00559 0.72252  \n",
       "9  3.99181 2.05909 0.64348  \n",
       "10 3.93435 2.11299 0.71452  \n",
       "11 3.62819 2.02800 0.75278  "
      ]
     },
     "execution_count": 185,
     "metadata": {},
     "output_type": "execute_result"
    }
   ],
   "source": [
    "dimensionality_reduction_RFR_df_2 = pd.DataFrame(result[1:], columns=result[0])\n",
    "dimensionality_reduction_RFR_df_2"
   ]
  },
  {
   "cell_type": "code",
   "execution_count": null,
   "metadata": {
    "id": "GsYPKO88G9QC"
   },
   "outputs": [],
   "source": [
    "dimensionality_reduction_RFR_df_2.columns = ['cv_group', 'feature_cat', 'feature_list', 'RMSE', 'MAE', 'R2']"
   ]
  },
  {
   "cell_type": "code",
   "execution_count": null,
   "metadata": {
    "colab": {
     "base_uri": "https://localhost:8080/",
     "height": 175
    },
    "id": "ghNH8uEIDnJO",
    "outputId": "d5a152ea-6d0a-4cdd-9a32-ee027c7ba497"
   },
   "outputs": [
    {
     "data": {
      "text/html": [
       "\n",
       "  <div id=\"df-fb6d9409-cfcd-453f-b0ae-dd2a42be3908\">\n",
       "    <div class=\"colab-df-container\">\n",
       "      <div>\n",
       "<style scoped>\n",
       "    .dataframe tbody tr th:only-of-type {\n",
       "        vertical-align: middle;\n",
       "    }\n",
       "\n",
       "    .dataframe tbody tr th {\n",
       "        vertical-align: top;\n",
       "    }\n",
       "\n",
       "    .dataframe thead th {\n",
       "        text-align: right;\n",
       "    }\n",
       "</style>\n",
       "<table border=\"1\" class=\"dataframe\">\n",
       "  <thead>\n",
       "    <tr style=\"text-align: right;\">\n",
       "      <th></th>\n",
       "      <th>RMSE</th>\n",
       "      <th>MAE</th>\n",
       "      <th>R2</th>\n",
       "    </tr>\n",
       "    <tr>\n",
       "      <th>feature_cat</th>\n",
       "      <th></th>\n",
       "      <th></th>\n",
       "      <th></th>\n",
       "    </tr>\n",
       "  </thead>\n",
       "  <tbody>\n",
       "    <tr>\n",
       "      <th>tier1</th>\n",
       "      <td>3.81748</td>\n",
       "      <td>2.05142</td>\n",
       "      <td>0.70833</td>\n",
       "    </tr>\n",
       "    <tr>\n",
       "      <th>tier1-2</th>\n",
       "      <td>3.78360</td>\n",
       "      <td>2.02355</td>\n",
       "      <td>0.71347</td>\n",
       "    </tr>\n",
       "    <tr>\n",
       "      <th>tier1-3</th>\n",
       "      <td>3.78582</td>\n",
       "      <td>2.02399</td>\n",
       "      <td>0.71321</td>\n",
       "    </tr>\n",
       "  </tbody>\n",
       "</table>\n",
       "</div>\n",
       "      <button class=\"colab-df-convert\" onclick=\"convertToInteractive('df-fb6d9409-cfcd-453f-b0ae-dd2a42be3908')\"\n",
       "              title=\"Convert this dataframe to an interactive table.\"\n",
       "              style=\"display:none;\">\n",
       "        \n",
       "  <svg xmlns=\"http://www.w3.org/2000/svg\" height=\"24px\"viewBox=\"0 0 24 24\"\n",
       "       width=\"24px\">\n",
       "    <path d=\"M0 0h24v24H0V0z\" fill=\"none\"/>\n",
       "    <path d=\"M18.56 5.44l.94 2.06.94-2.06 2.06-.94-2.06-.94-.94-2.06-.94 2.06-2.06.94zm-11 1L8.5 8.5l.94-2.06 2.06-.94-2.06-.94L8.5 2.5l-.94 2.06-2.06.94zm10 10l.94 2.06.94-2.06 2.06-.94-2.06-.94-.94-2.06-.94 2.06-2.06.94z\"/><path d=\"M17.41 7.96l-1.37-1.37c-.4-.4-.92-.59-1.43-.59-.52 0-1.04.2-1.43.59L10.3 9.45l-7.72 7.72c-.78.78-.78 2.05 0 2.83L4 21.41c.39.39.9.59 1.41.59.51 0 1.02-.2 1.41-.59l7.78-7.78 2.81-2.81c.8-.78.8-2.07 0-2.86zM5.41 20L4 18.59l7.72-7.72 1.47 1.35L5.41 20z\"/>\n",
       "  </svg>\n",
       "      </button>\n",
       "      \n",
       "  <style>\n",
       "    .colab-df-container {\n",
       "      display:flex;\n",
       "      flex-wrap:wrap;\n",
       "      gap: 12px;\n",
       "    }\n",
       "\n",
       "    .colab-df-convert {\n",
       "      background-color: #E8F0FE;\n",
       "      border: none;\n",
       "      border-radius: 50%;\n",
       "      cursor: pointer;\n",
       "      display: none;\n",
       "      fill: #1967D2;\n",
       "      height: 32px;\n",
       "      padding: 0 0 0 0;\n",
       "      width: 32px;\n",
       "    }\n",
       "\n",
       "    .colab-df-convert:hover {\n",
       "      background-color: #E2EBFA;\n",
       "      box-shadow: 0px 1px 2px rgba(60, 64, 67, 0.3), 0px 1px 3px 1px rgba(60, 64, 67, 0.15);\n",
       "      fill: #174EA6;\n",
       "    }\n",
       "\n",
       "    [theme=dark] .colab-df-convert {\n",
       "      background-color: #3B4455;\n",
       "      fill: #D2E3FC;\n",
       "    }\n",
       "\n",
       "    [theme=dark] .colab-df-convert:hover {\n",
       "      background-color: #434B5C;\n",
       "      box-shadow: 0px 1px 3px 1px rgba(0, 0, 0, 0.15);\n",
       "      filter: drop-shadow(0px 1px 2px rgba(0, 0, 0, 0.3));\n",
       "      fill: #FFFFFF;\n",
       "    }\n",
       "  </style>\n",
       "\n",
       "      <script>\n",
       "        const buttonEl =\n",
       "          document.querySelector('#df-fb6d9409-cfcd-453f-b0ae-dd2a42be3908 button.colab-df-convert');\n",
       "        buttonEl.style.display =\n",
       "          google.colab.kernel.accessAllowed ? 'block' : 'none';\n",
       "\n",
       "        async function convertToInteractive(key) {\n",
       "          const element = document.querySelector('#df-fb6d9409-cfcd-453f-b0ae-dd2a42be3908');\n",
       "          const dataTable =\n",
       "            await google.colab.kernel.invokeFunction('convertToInteractive',\n",
       "                                                     [key], {});\n",
       "          if (!dataTable) return;\n",
       "\n",
       "          const docLinkHtml = 'Like what you see? Visit the ' +\n",
       "            '<a target=\"_blank\" href=https://colab.research.google.com/notebooks/data_table.ipynb>data table notebook</a>'\n",
       "            + ' to learn more about interactive tables.';\n",
       "          element.innerHTML = '';\n",
       "          dataTable['output_type'] = 'display_data';\n",
       "          await google.colab.output.renderOutput(dataTable, element);\n",
       "          const docLink = document.createElement('div');\n",
       "          docLink.innerHTML = docLinkHtml;\n",
       "          element.appendChild(docLink);\n",
       "        }\n",
       "      </script>\n",
       "    </div>\n",
       "  </div>\n",
       "  "
      ],
      "text/plain": [
       "               RMSE     MAE      R2\n",
       "feature_cat                        \n",
       "tier1       3.81748 2.05142 0.70833\n",
       "tier1-2     3.78360 2.02355 0.71347\n",
       "tier1-3     3.78582 2.02399 0.71321"
      ]
     },
     "execution_count": 197,
     "metadata": {},
     "output_type": "execute_result"
    }
   ],
   "source": [
    "dimensionality_reduction_RFR_df_2.groupby(by=[\"feature_cat\"]).mean()"
   ]
  },
  {
   "cell_type": "code",
   "execution_count": null,
   "metadata": {
    "id": "uvoalmCBHPfT"
   },
   "outputs": [],
   "source": [
    "f1 = ['SW_IN_ERA','NDVI','NIRv','hour','Lai','TA_ERA']\n",
    "f2 = ['SW_IN_ERA','NDVI','NIRv','hour','Lai','EVI']\n",
    "f3 = ['SW_IN_ERA','NDVI','NIRv','hour','Lai','VPD_ERA']\n",
    "f4 = ['SW_IN_ERA','NDVI','NIRv','hour','Lai','Fpar','b1','BESS-PAR']  \n",
    "  \n",
    "# ['Fpar','b1','BESS-PAR']\n",
    "\n",
    "feature_list = [f1,f2,f3,f4]"
   ]
  },
  {
   "cell_type": "code",
   "execution_count": null,
   "metadata": {
    "colab": {
     "base_uri": "https://localhost:8080/"
    },
    "id": "vukj2x1dHN0E",
    "outputId": "c60375ed-d406-447b-de40-15149c76b9c2"
   },
   "outputs": [
    {
     "name": "stderr",
     "output_type": "stream",
     "text": [
      "[Parallel(n_jobs=-1)]: Using backend ThreadingBackend with 12 concurrent workers.\n",
      "[Parallel(n_jobs=-1)]: Done  26 tasks      | elapsed:   16.6s\n",
      "[Parallel(n_jobs=-1)]: Done  50 out of  50 | elapsed:   26.3s finished\n",
      "[Parallel(n_jobs=12)]: Using backend ThreadingBackend with 12 concurrent workers.\n",
      "[Parallel(n_jobs=12)]: Done  26 tasks      | elapsed:    0.2s\n",
      "[Parallel(n_jobs=12)]: Done  50 out of  50 | elapsed:    0.2s finished\n",
      "[Parallel(n_jobs=-1)]: Using backend ThreadingBackend with 12 concurrent workers.\n"
     ]
    },
    {
     "name": "stdout",
     "output_type": "stream",
     "text": [
      "   \n",
      "cv_group1, Val RMSE: 3.7121977761200764, Val MAE: 1.998608405486447, Val R2/NSE: 0.7230244614189282\n"
     ]
    },
    {
     "name": "stderr",
     "output_type": "stream",
     "text": [
      "[Parallel(n_jobs=-1)]: Done  26 tasks      | elapsed:   16.8s\n",
      "[Parallel(n_jobs=-1)]: Done  50 out of  50 | elapsed:   25.5s finished\n",
      "[Parallel(n_jobs=12)]: Using backend ThreadingBackend with 12 concurrent workers.\n",
      "[Parallel(n_jobs=12)]: Done  26 tasks      | elapsed:    0.2s\n",
      "[Parallel(n_jobs=12)]: Done  50 out of  50 | elapsed:    0.3s finished\n",
      "[Parallel(n_jobs=-1)]: Using backend ThreadingBackend with 12 concurrent workers.\n"
     ]
    },
    {
     "name": "stdout",
     "output_type": "stream",
     "text": [
      "   \n",
      "cv_group2, Val RMSE: 3.9596221515788024, Val MAE: 2.0321755207599366, Val R2/NSE: 0.6492082997107986\n"
     ]
    },
    {
     "name": "stderr",
     "output_type": "stream",
     "text": [
      "[Parallel(n_jobs=-1)]: Done  26 tasks      | elapsed:   16.0s\n",
      "[Parallel(n_jobs=-1)]: Done  50 out of  50 | elapsed:   24.9s finished\n",
      "[Parallel(n_jobs=12)]: Using backend ThreadingBackend with 12 concurrent workers.\n",
      "[Parallel(n_jobs=12)]: Done  26 tasks      | elapsed:    0.2s\n",
      "[Parallel(n_jobs=12)]: Done  50 out of  50 | elapsed:    0.3s finished\n",
      "[Parallel(n_jobs=-1)]: Using backend ThreadingBackend with 12 concurrent workers.\n"
     ]
    },
    {
     "name": "stdout",
     "output_type": "stream",
     "text": [
      "   \n",
      "cv_group3, Val RMSE: 3.900639915926035, Val MAE: 2.0887120453232972, Val R2/NSE: 0.719393652474541\n"
     ]
    },
    {
     "name": "stderr",
     "output_type": "stream",
     "text": [
      "[Parallel(n_jobs=-1)]: Done  26 tasks      | elapsed:   15.1s\n",
      "[Parallel(n_jobs=-1)]: Done  50 out of  50 | elapsed:   23.9s finished\n",
      "[Parallel(n_jobs=12)]: Using backend ThreadingBackend with 12 concurrent workers.\n",
      "[Parallel(n_jobs=12)]: Done  26 tasks      | elapsed:    0.2s\n",
      "[Parallel(n_jobs=12)]: Done  50 out of  50 | elapsed:    0.3s finished\n"
     ]
    },
    {
     "name": "stdout",
     "output_type": "stream",
     "text": [
      "   \n",
      "cv_group4, Val RMSE: 3.601425641209543, Val MAE: 1.9980914788048865, Val R2/NSE: 0.7564114139780759\n"
     ]
    },
    {
     "name": "stderr",
     "output_type": "stream",
     "text": [
      "[Parallel(n_jobs=-1)]: Using backend ThreadingBackend with 12 concurrent workers.\n",
      "[Parallel(n_jobs=-1)]: Done  26 tasks      | elapsed:   15.9s\n",
      "[Parallel(n_jobs=-1)]: Done  50 out of  50 | elapsed:   24.7s finished\n",
      "[Parallel(n_jobs=12)]: Using backend ThreadingBackend with 12 concurrent workers.\n",
      "[Parallel(n_jobs=12)]: Done  26 tasks      | elapsed:    0.1s\n",
      "[Parallel(n_jobs=12)]: Done  50 out of  50 | elapsed:    0.2s finished\n",
      "[Parallel(n_jobs=-1)]: Using backend ThreadingBackend with 12 concurrent workers.\n"
     ]
    },
    {
     "name": "stdout",
     "output_type": "stream",
     "text": [
      "   \n",
      "cv_group1, Val RMSE: 3.7402009787659938, Val MAE: 2.015404781531328, Val R2/NSE: 0.7188299344517914\n"
     ]
    },
    {
     "name": "stderr",
     "output_type": "stream",
     "text": [
      "[Parallel(n_jobs=-1)]: Done  26 tasks      | elapsed:   15.7s\n",
      "[Parallel(n_jobs=-1)]: Done  50 out of  50 | elapsed:   24.1s finished\n",
      "[Parallel(n_jobs=12)]: Using backend ThreadingBackend with 12 concurrent workers.\n",
      "[Parallel(n_jobs=12)]: Done  26 tasks      | elapsed:    0.2s\n",
      "[Parallel(n_jobs=12)]: Done  50 out of  50 | elapsed:    0.3s finished\n",
      "[Parallel(n_jobs=-1)]: Using backend ThreadingBackend with 12 concurrent workers.\n"
     ]
    },
    {
     "name": "stdout",
     "output_type": "stream",
     "text": [
      "   \n",
      "cv_group2, Val RMSE: 3.9816942490337954, Val MAE: 2.0581061588333736, Val R2/NSE: 0.6452865676038153\n"
     ]
    },
    {
     "name": "stderr",
     "output_type": "stream",
     "text": [
      "[Parallel(n_jobs=-1)]: Done  26 tasks      | elapsed:   15.2s\n",
      "[Parallel(n_jobs=-1)]: Done  50 out of  50 | elapsed:   24.2s finished\n",
      "[Parallel(n_jobs=12)]: Using backend ThreadingBackend with 12 concurrent workers.\n",
      "[Parallel(n_jobs=12)]: Done  26 tasks      | elapsed:    0.2s\n",
      "[Parallel(n_jobs=12)]: Done  50 out of  50 | elapsed:    0.3s finished\n",
      "[Parallel(n_jobs=-1)]: Using backend ThreadingBackend with 12 concurrent workers.\n"
     ]
    },
    {
     "name": "stdout",
     "output_type": "stream",
     "text": [
      "   \n",
      "cv_group3, Val RMSE: 3.9431619715105626, Val MAE: 2.1180290644136077, Val R2/NSE: 0.7132423563226556\n"
     ]
    },
    {
     "name": "stderr",
     "output_type": "stream",
     "text": [
      "[Parallel(n_jobs=-1)]: Done  26 tasks      | elapsed:   14.9s\n",
      "[Parallel(n_jobs=-1)]: Done  50 out of  50 | elapsed:   23.6s finished\n",
      "[Parallel(n_jobs=12)]: Using backend ThreadingBackend with 12 concurrent workers.\n",
      "[Parallel(n_jobs=12)]: Done  26 tasks      | elapsed:    0.2s\n",
      "[Parallel(n_jobs=12)]: Done  50 out of  50 | elapsed:    0.3s finished\n"
     ]
    },
    {
     "name": "stdout",
     "output_type": "stream",
     "text": [
      "   \n",
      "cv_group4, Val RMSE: 3.619585237929429, Val MAE: 2.0223469811575794, Val R2/NSE: 0.7539487099042566\n"
     ]
    },
    {
     "name": "stderr",
     "output_type": "stream",
     "text": [
      "[Parallel(n_jobs=-1)]: Using backend ThreadingBackend with 12 concurrent workers.\n",
      "[Parallel(n_jobs=-1)]: Done  26 tasks      | elapsed:   16.4s\n",
      "[Parallel(n_jobs=-1)]: Done  50 out of  50 | elapsed:   26.1s finished\n",
      "[Parallel(n_jobs=12)]: Using backend ThreadingBackend with 12 concurrent workers.\n",
      "[Parallel(n_jobs=12)]: Done  26 tasks      | elapsed:    0.2s\n",
      "[Parallel(n_jobs=12)]: Done  50 out of  50 | elapsed:    0.2s finished\n",
      "[Parallel(n_jobs=-1)]: Using backend ThreadingBackend with 12 concurrent workers.\n"
     ]
    },
    {
     "name": "stdout",
     "output_type": "stream",
     "text": [
      "   \n",
      "cv_group1, Val RMSE: 3.707144640202475, Val MAE: 1.997089642786963, Val R2/NSE: 0.7237780001821438\n"
     ]
    },
    {
     "name": "stderr",
     "output_type": "stream",
     "text": [
      "[Parallel(n_jobs=-1)]: Done  26 tasks      | elapsed:   15.7s\n",
      "[Parallel(n_jobs=-1)]: Done  50 out of  50 | elapsed:   24.4s finished\n",
      "[Parallel(n_jobs=12)]: Using backend ThreadingBackend with 12 concurrent workers.\n",
      "[Parallel(n_jobs=12)]: Done  26 tasks      | elapsed:    0.2s\n",
      "[Parallel(n_jobs=12)]: Done  50 out of  50 | elapsed:    0.3s finished\n",
      "[Parallel(n_jobs=-1)]: Using backend ThreadingBackend with 12 concurrent workers.\n"
     ]
    },
    {
     "name": "stdout",
     "output_type": "stream",
     "text": [
      "   \n",
      "cv_group2, Val RMSE: 3.9735746321983334, Val MAE: 2.0450542818183237, Val R2/NSE: 0.6467317817949978\n"
     ]
    },
    {
     "name": "stderr",
     "output_type": "stream",
     "text": [
      "[Parallel(n_jobs=-1)]: Done  26 tasks      | elapsed:   15.4s\n",
      "[Parallel(n_jobs=-1)]: Done  50 out of  50 | elapsed:   24.2s finished\n",
      "[Parallel(n_jobs=12)]: Using backend ThreadingBackend with 12 concurrent workers.\n",
      "[Parallel(n_jobs=12)]: Done  26 tasks      | elapsed:    0.2s\n",
      "[Parallel(n_jobs=12)]: Done  50 out of  50 | elapsed:    0.3s finished\n",
      "[Parallel(n_jobs=-1)]: Using backend ThreadingBackend with 12 concurrent workers.\n"
     ]
    },
    {
     "name": "stdout",
     "output_type": "stream",
     "text": [
      "   \n",
      "cv_group3, Val RMSE: 3.926336420505469, Val MAE: 2.102512380320124, Val R2/NSE: 0.7156843363972326\n"
     ]
    },
    {
     "name": "stderr",
     "output_type": "stream",
     "text": [
      "[Parallel(n_jobs=-1)]: Done  26 tasks      | elapsed:   15.0s\n",
      "[Parallel(n_jobs=-1)]: Done  50 out of  50 | elapsed:   23.6s finished\n",
      "[Parallel(n_jobs=12)]: Using backend ThreadingBackend with 12 concurrent workers.\n",
      "[Parallel(n_jobs=12)]: Done  26 tasks      | elapsed:    0.2s\n",
      "[Parallel(n_jobs=12)]: Done  50 out of  50 | elapsed:    0.3s finished\n"
     ]
    },
    {
     "name": "stdout",
     "output_type": "stream",
     "text": [
      "   \n",
      "cv_group4, Val RMSE: 3.6338948014285513, Val MAE: 2.0286810463244427, Val R2/NSE: 0.7519994002384977\n"
     ]
    },
    {
     "name": "stderr",
     "output_type": "stream",
     "text": [
      "[Parallel(n_jobs=-1)]: Using backend ThreadingBackend with 12 concurrent workers.\n",
      "[Parallel(n_jobs=-1)]: Done  26 tasks      | elapsed:   13.2s\n",
      "[Parallel(n_jobs=-1)]: Done  50 out of  50 | elapsed:   21.1s finished\n",
      "[Parallel(n_jobs=12)]: Using backend ThreadingBackend with 12 concurrent workers.\n",
      "[Parallel(n_jobs=12)]: Done  26 tasks      | elapsed:    0.1s\n",
      "[Parallel(n_jobs=12)]: Done  50 out of  50 | elapsed:    0.2s finished\n"
     ]
    },
    {
     "name": "stdout",
     "output_type": "stream",
     "text": [
      "   \n",
      "cv_group1, Val RMSE: 3.7307366330390663, Val MAE: 2.0176883128354497, Val R2/NSE: 0.7202511007801866\n"
     ]
    },
    {
     "name": "stderr",
     "output_type": "stream",
     "text": [
      "[Parallel(n_jobs=-1)]: Using backend ThreadingBackend with 12 concurrent workers.\n",
      "[Parallel(n_jobs=-1)]: Done  26 tasks      | elapsed:   12.8s\n",
      "[Parallel(n_jobs=-1)]: Done  50 out of  50 | elapsed:   20.3s finished\n",
      "[Parallel(n_jobs=12)]: Using backend ThreadingBackend with 12 concurrent workers.\n",
      "[Parallel(n_jobs=12)]: Done  26 tasks      | elapsed:    0.2s\n",
      "[Parallel(n_jobs=12)]: Done  50 out of  50 | elapsed:    0.2s finished\n"
     ]
    },
    {
     "name": "stdout",
     "output_type": "stream",
     "text": [
      "   \n",
      "cv_group2, Val RMSE: 3.9684222975388774, Val MAE: 2.0475740898144865, Val R2/NSE: 0.6476473181574016\n"
     ]
    },
    {
     "name": "stderr",
     "output_type": "stream",
     "text": [
      "[Parallel(n_jobs=-1)]: Using backend ThreadingBackend with 12 concurrent workers.\n",
      "[Parallel(n_jobs=-1)]: Done  26 tasks      | elapsed:   12.9s\n",
      "[Parallel(n_jobs=-1)]: Done  50 out of  50 | elapsed:   20.4s finished\n",
      "[Parallel(n_jobs=12)]: Using backend ThreadingBackend with 12 concurrent workers.\n",
      "[Parallel(n_jobs=12)]: Done  26 tasks      | elapsed:    0.2s\n",
      "[Parallel(n_jobs=12)]: Done  50 out of  50 | elapsed:    0.2s finished\n"
     ]
    },
    {
     "name": "stdout",
     "output_type": "stream",
     "text": [
      "   \n",
      "cv_group3, Val RMSE: 3.9562667577714903, Val MAE: 2.1228154119517155, Val R2/NSE: 0.7113331564502048\n"
     ]
    },
    {
     "name": "stderr",
     "output_type": "stream",
     "text": [
      "[Parallel(n_jobs=-1)]: Using backend ThreadingBackend with 12 concurrent workers.\n",
      "[Parallel(n_jobs=-1)]: Done  26 tasks      | elapsed:   12.2s\n",
      "[Parallel(n_jobs=-1)]: Done  50 out of  50 | elapsed:   19.5s finished\n",
      "[Parallel(n_jobs=12)]: Using backend ThreadingBackend with 12 concurrent workers.\n"
     ]
    },
    {
     "name": "stdout",
     "output_type": "stream",
     "text": [
      "   \n",
      "cv_group4, Val RMSE: 3.6403977640053085, Val MAE: 2.0376434270340344, Val R2/NSE: 0.751110997172765\n"
     ]
    },
    {
     "name": "stderr",
     "output_type": "stream",
     "text": [
      "[Parallel(n_jobs=12)]: Done  26 tasks      | elapsed:    0.2s\n",
      "[Parallel(n_jobs=12)]: Done  50 out of  50 | elapsed:    0.3s finished\n"
     ]
    }
   ],
   "source": [
    "result = [[\"cv_group\",\"feature_list\", \"feature_list\", \"RMSE\", \"MAE\", \"R2\"]]\n",
    "cv_group_list = [\"cv_group1\", \"cv_group2\", \"cv_group3\", \"cv_group4\"]\n",
    "feature_type = [\"f1\", \"f2\", \"f3\",\"f4\"]\n",
    "\n",
    "dataset = [[X_train_cv1, y_train_cv1, X_val_cv1, y_val_cv1],\n",
    "           [X_train_cv2, y_train_cv2, X_val_cv2, y_val_cv2],\n",
    "           [X_train_cv3, y_train_cv3, X_val_cv3, y_val_cv3],\n",
    "           [X_train_cv4, y_train_cv4, X_val_cv4, y_val_cv4]]#, X_test_cv3, y_test_cv3\n",
    "\n",
    "for idx_f, features in enumerate(feature_list):\n",
    "  for idx_d, data in enumerate(dataset):\n",
    "    model = RandomForestRegressor(**best_params, random_state=42, n_jobs=-1, verbose=1)\n",
    "    result += [RFR_fit_show_result(model, data[0], data[1], data[2], data[3], \n",
    "                                     feature_list[idx_f], cv_group_list[idx_d],\n",
    "                                     feature_type[idx_f])]\n"
   ]
  },
  {
   "cell_type": "code",
   "execution_count": null,
   "metadata": {
    "colab": {
     "base_uri": "https://localhost:8080/",
     "height": 551
    },
    "id": "I44Wv5nmSMjD",
    "outputId": "0f142c0e-c67b-41ad-dcce-4b6cc63bbaf7"
   },
   "outputs": [
    {
     "data": {
      "text/html": [
       "\n",
       "  <div id=\"df-9449386a-bd27-4e93-87e6-5f38898204b8\">\n",
       "    <div class=\"colab-df-container\">\n",
       "      <div>\n",
       "<style scoped>\n",
       "    .dataframe tbody tr th:only-of-type {\n",
       "        vertical-align: middle;\n",
       "    }\n",
       "\n",
       "    .dataframe tbody tr th {\n",
       "        vertical-align: top;\n",
       "    }\n",
       "\n",
       "    .dataframe thead th {\n",
       "        text-align: right;\n",
       "    }\n",
       "</style>\n",
       "<table border=\"1\" class=\"dataframe\">\n",
       "  <thead>\n",
       "    <tr style=\"text-align: right;\">\n",
       "      <th></th>\n",
       "      <th>cv_group</th>\n",
       "      <th>feature_cat</th>\n",
       "      <th>feature_list</th>\n",
       "      <th>RMSE</th>\n",
       "      <th>MAE</th>\n",
       "      <th>R2</th>\n",
       "    </tr>\n",
       "  </thead>\n",
       "  <tbody>\n",
       "    <tr>\n",
       "      <th>0</th>\n",
       "      <td>cv_group1</td>\n",
       "      <td>f1</td>\n",
       "      <td>[SW_IN_ERA, NDVI, NIRv, hour, Lai, TA_ERA]</td>\n",
       "      <td>3.71220</td>\n",
       "      <td>1.99861</td>\n",
       "      <td>0.72302</td>\n",
       "    </tr>\n",
       "    <tr>\n",
       "      <th>1</th>\n",
       "      <td>cv_group2</td>\n",
       "      <td>f1</td>\n",
       "      <td>[SW_IN_ERA, NDVI, NIRv, hour, Lai, TA_ERA]</td>\n",
       "      <td>3.95962</td>\n",
       "      <td>2.03218</td>\n",
       "      <td>0.64921</td>\n",
       "    </tr>\n",
       "    <tr>\n",
       "      <th>2</th>\n",
       "      <td>cv_group3</td>\n",
       "      <td>f1</td>\n",
       "      <td>[SW_IN_ERA, NDVI, NIRv, hour, Lai, TA_ERA]</td>\n",
       "      <td>3.90064</td>\n",
       "      <td>2.08871</td>\n",
       "      <td>0.71939</td>\n",
       "    </tr>\n",
       "    <tr>\n",
       "      <th>3</th>\n",
       "      <td>cv_group4</td>\n",
       "      <td>f1</td>\n",
       "      <td>[SW_IN_ERA, NDVI, NIRv, hour, Lai, TA_ERA]</td>\n",
       "      <td>3.60143</td>\n",
       "      <td>1.99809</td>\n",
       "      <td>0.75641</td>\n",
       "    </tr>\n",
       "    <tr>\n",
       "      <th>4</th>\n",
       "      <td>cv_group1</td>\n",
       "      <td>f2</td>\n",
       "      <td>[SW_IN_ERA, NDVI, NIRv, hour, Lai, EVI]</td>\n",
       "      <td>3.74020</td>\n",
       "      <td>2.01540</td>\n",
       "      <td>0.71883</td>\n",
       "    </tr>\n",
       "    <tr>\n",
       "      <th>5</th>\n",
       "      <td>cv_group2</td>\n",
       "      <td>f2</td>\n",
       "      <td>[SW_IN_ERA, NDVI, NIRv, hour, Lai, EVI]</td>\n",
       "      <td>3.98169</td>\n",
       "      <td>2.05811</td>\n",
       "      <td>0.64529</td>\n",
       "    </tr>\n",
       "    <tr>\n",
       "      <th>6</th>\n",
       "      <td>cv_group3</td>\n",
       "      <td>f2</td>\n",
       "      <td>[SW_IN_ERA, NDVI, NIRv, hour, Lai, EVI]</td>\n",
       "      <td>3.94316</td>\n",
       "      <td>2.11803</td>\n",
       "      <td>0.71324</td>\n",
       "    </tr>\n",
       "    <tr>\n",
       "      <th>7</th>\n",
       "      <td>cv_group4</td>\n",
       "      <td>f2</td>\n",
       "      <td>[SW_IN_ERA, NDVI, NIRv, hour, Lai, EVI]</td>\n",
       "      <td>3.61959</td>\n",
       "      <td>2.02235</td>\n",
       "      <td>0.75395</td>\n",
       "    </tr>\n",
       "    <tr>\n",
       "      <th>8</th>\n",
       "      <td>cv_group1</td>\n",
       "      <td>f3</td>\n",
       "      <td>[SW_IN_ERA, NDVI, NIRv, hour, Lai, VPD_ERA]</td>\n",
       "      <td>3.70714</td>\n",
       "      <td>1.99709</td>\n",
       "      <td>0.72378</td>\n",
       "    </tr>\n",
       "    <tr>\n",
       "      <th>9</th>\n",
       "      <td>cv_group2</td>\n",
       "      <td>f3</td>\n",
       "      <td>[SW_IN_ERA, NDVI, NIRv, hour, Lai, VPD_ERA]</td>\n",
       "      <td>3.97357</td>\n",
       "      <td>2.04505</td>\n",
       "      <td>0.64673</td>\n",
       "    </tr>\n",
       "    <tr>\n",
       "      <th>10</th>\n",
       "      <td>cv_group3</td>\n",
       "      <td>f3</td>\n",
       "      <td>[SW_IN_ERA, NDVI, NIRv, hour, Lai, VPD_ERA]</td>\n",
       "      <td>3.92634</td>\n",
       "      <td>2.10251</td>\n",
       "      <td>0.71568</td>\n",
       "    </tr>\n",
       "    <tr>\n",
       "      <th>11</th>\n",
       "      <td>cv_group4</td>\n",
       "      <td>f3</td>\n",
       "      <td>[SW_IN_ERA, NDVI, NIRv, hour, Lai, VPD_ERA]</td>\n",
       "      <td>3.63389</td>\n",
       "      <td>2.02868</td>\n",
       "      <td>0.75200</td>\n",
       "    </tr>\n",
       "    <tr>\n",
       "      <th>12</th>\n",
       "      <td>cv_group1</td>\n",
       "      <td>f4</td>\n",
       "      <td>[SW_IN_ERA, NDVI, NIRv, hour, Lai, Fpar, b1, B...</td>\n",
       "      <td>3.73074</td>\n",
       "      <td>2.01769</td>\n",
       "      <td>0.72025</td>\n",
       "    </tr>\n",
       "    <tr>\n",
       "      <th>13</th>\n",
       "      <td>cv_group2</td>\n",
       "      <td>f4</td>\n",
       "      <td>[SW_IN_ERA, NDVI, NIRv, hour, Lai, Fpar, b1, B...</td>\n",
       "      <td>3.96842</td>\n",
       "      <td>2.04757</td>\n",
       "      <td>0.64765</td>\n",
       "    </tr>\n",
       "    <tr>\n",
       "      <th>14</th>\n",
       "      <td>cv_group3</td>\n",
       "      <td>f4</td>\n",
       "      <td>[SW_IN_ERA, NDVI, NIRv, hour, Lai, Fpar, b1, B...</td>\n",
       "      <td>3.95627</td>\n",
       "      <td>2.12282</td>\n",
       "      <td>0.71133</td>\n",
       "    </tr>\n",
       "    <tr>\n",
       "      <th>15</th>\n",
       "      <td>cv_group4</td>\n",
       "      <td>f4</td>\n",
       "      <td>[SW_IN_ERA, NDVI, NIRv, hour, Lai, Fpar, b1, B...</td>\n",
       "      <td>3.64040</td>\n",
       "      <td>2.03764</td>\n",
       "      <td>0.75111</td>\n",
       "    </tr>\n",
       "  </tbody>\n",
       "</table>\n",
       "</div>\n",
       "      <button class=\"colab-df-convert\" onclick=\"convertToInteractive('df-9449386a-bd27-4e93-87e6-5f38898204b8')\"\n",
       "              title=\"Convert this dataframe to an interactive table.\"\n",
       "              style=\"display:none;\">\n",
       "        \n",
       "  <svg xmlns=\"http://www.w3.org/2000/svg\" height=\"24px\"viewBox=\"0 0 24 24\"\n",
       "       width=\"24px\">\n",
       "    <path d=\"M0 0h24v24H0V0z\" fill=\"none\"/>\n",
       "    <path d=\"M18.56 5.44l.94 2.06.94-2.06 2.06-.94-2.06-.94-.94-2.06-.94 2.06-2.06.94zm-11 1L8.5 8.5l.94-2.06 2.06-.94-2.06-.94L8.5 2.5l-.94 2.06-2.06.94zm10 10l.94 2.06.94-2.06 2.06-.94-2.06-.94-.94-2.06-.94 2.06-2.06.94z\"/><path d=\"M17.41 7.96l-1.37-1.37c-.4-.4-.92-.59-1.43-.59-.52 0-1.04.2-1.43.59L10.3 9.45l-7.72 7.72c-.78.78-.78 2.05 0 2.83L4 21.41c.39.39.9.59 1.41.59.51 0 1.02-.2 1.41-.59l7.78-7.78 2.81-2.81c.8-.78.8-2.07 0-2.86zM5.41 20L4 18.59l7.72-7.72 1.47 1.35L5.41 20z\"/>\n",
       "  </svg>\n",
       "      </button>\n",
       "      \n",
       "  <style>\n",
       "    .colab-df-container {\n",
       "      display:flex;\n",
       "      flex-wrap:wrap;\n",
       "      gap: 12px;\n",
       "    }\n",
       "\n",
       "    .colab-df-convert {\n",
       "      background-color: #E8F0FE;\n",
       "      border: none;\n",
       "      border-radius: 50%;\n",
       "      cursor: pointer;\n",
       "      display: none;\n",
       "      fill: #1967D2;\n",
       "      height: 32px;\n",
       "      padding: 0 0 0 0;\n",
       "      width: 32px;\n",
       "    }\n",
       "\n",
       "    .colab-df-convert:hover {\n",
       "      background-color: #E2EBFA;\n",
       "      box-shadow: 0px 1px 2px rgba(60, 64, 67, 0.3), 0px 1px 3px 1px rgba(60, 64, 67, 0.15);\n",
       "      fill: #174EA6;\n",
       "    }\n",
       "\n",
       "    [theme=dark] .colab-df-convert {\n",
       "      background-color: #3B4455;\n",
       "      fill: #D2E3FC;\n",
       "    }\n",
       "\n",
       "    [theme=dark] .colab-df-convert:hover {\n",
       "      background-color: #434B5C;\n",
       "      box-shadow: 0px 1px 3px 1px rgba(0, 0, 0, 0.15);\n",
       "      filter: drop-shadow(0px 1px 2px rgba(0, 0, 0, 0.3));\n",
       "      fill: #FFFFFF;\n",
       "    }\n",
       "  </style>\n",
       "\n",
       "      <script>\n",
       "        const buttonEl =\n",
       "          document.querySelector('#df-9449386a-bd27-4e93-87e6-5f38898204b8 button.colab-df-convert');\n",
       "        buttonEl.style.display =\n",
       "          google.colab.kernel.accessAllowed ? 'block' : 'none';\n",
       "\n",
       "        async function convertToInteractive(key) {\n",
       "          const element = document.querySelector('#df-9449386a-bd27-4e93-87e6-5f38898204b8');\n",
       "          const dataTable =\n",
       "            await google.colab.kernel.invokeFunction('convertToInteractive',\n",
       "                                                     [key], {});\n",
       "          if (!dataTable) return;\n",
       "\n",
       "          const docLinkHtml = 'Like what you see? Visit the ' +\n",
       "            '<a target=\"_blank\" href=https://colab.research.google.com/notebooks/data_table.ipynb>data table notebook</a>'\n",
       "            + ' to learn more about interactive tables.';\n",
       "          element.innerHTML = '';\n",
       "          dataTable['output_type'] = 'display_data';\n",
       "          await google.colab.output.renderOutput(dataTable, element);\n",
       "          const docLink = document.createElement('div');\n",
       "          docLink.innerHTML = docLinkHtml;\n",
       "          element.appendChild(docLink);\n",
       "        }\n",
       "      </script>\n",
       "    </div>\n",
       "  </div>\n",
       "  "
      ],
      "text/plain": [
       "     cv_group feature_cat                                       feature_list  \\\n",
       "0   cv_group1          f1         [SW_IN_ERA, NDVI, NIRv, hour, Lai, TA_ERA]   \n",
       "1   cv_group2          f1         [SW_IN_ERA, NDVI, NIRv, hour, Lai, TA_ERA]   \n",
       "2   cv_group3          f1         [SW_IN_ERA, NDVI, NIRv, hour, Lai, TA_ERA]   \n",
       "3   cv_group4          f1         [SW_IN_ERA, NDVI, NIRv, hour, Lai, TA_ERA]   \n",
       "4   cv_group1          f2            [SW_IN_ERA, NDVI, NIRv, hour, Lai, EVI]   \n",
       "5   cv_group2          f2            [SW_IN_ERA, NDVI, NIRv, hour, Lai, EVI]   \n",
       "6   cv_group3          f2            [SW_IN_ERA, NDVI, NIRv, hour, Lai, EVI]   \n",
       "7   cv_group4          f2            [SW_IN_ERA, NDVI, NIRv, hour, Lai, EVI]   \n",
       "8   cv_group1          f3        [SW_IN_ERA, NDVI, NIRv, hour, Lai, VPD_ERA]   \n",
       "9   cv_group2          f3        [SW_IN_ERA, NDVI, NIRv, hour, Lai, VPD_ERA]   \n",
       "10  cv_group3          f3        [SW_IN_ERA, NDVI, NIRv, hour, Lai, VPD_ERA]   \n",
       "11  cv_group4          f3        [SW_IN_ERA, NDVI, NIRv, hour, Lai, VPD_ERA]   \n",
       "12  cv_group1          f4  [SW_IN_ERA, NDVI, NIRv, hour, Lai, Fpar, b1, B...   \n",
       "13  cv_group2          f4  [SW_IN_ERA, NDVI, NIRv, hour, Lai, Fpar, b1, B...   \n",
       "14  cv_group3          f4  [SW_IN_ERA, NDVI, NIRv, hour, Lai, Fpar, b1, B...   \n",
       "15  cv_group4          f4  [SW_IN_ERA, NDVI, NIRv, hour, Lai, Fpar, b1, B...   \n",
       "\n",
       "      RMSE     MAE      R2  \n",
       "0  3.71220 1.99861 0.72302  \n",
       "1  3.95962 2.03218 0.64921  \n",
       "2  3.90064 2.08871 0.71939  \n",
       "3  3.60143 1.99809 0.75641  \n",
       "4  3.74020 2.01540 0.71883  \n",
       "5  3.98169 2.05811 0.64529  \n",
       "6  3.94316 2.11803 0.71324  \n",
       "7  3.61959 2.02235 0.75395  \n",
       "8  3.70714 1.99709 0.72378  \n",
       "9  3.97357 2.04505 0.64673  \n",
       "10 3.92634 2.10251 0.71568  \n",
       "11 3.63389 2.02868 0.75200  \n",
       "12 3.73074 2.01769 0.72025  \n",
       "13 3.96842 2.04757 0.64765  \n",
       "14 3.95627 2.12282 0.71133  \n",
       "15 3.64040 2.03764 0.75111  "
      ]
     },
     "execution_count": 212,
     "metadata": {},
     "output_type": "execute_result"
    }
   ],
   "source": [
    "dimensionality_reduction_RFR_df_3 = pd.DataFrame(result[1:], columns=result[0])\n",
    "dimensionality_reduction_RFR_df_3.columns = ['cv_group', 'feature_cat', 'feature_list', 'RMSE', 'MAE', 'R2']\n",
    "dimensionality_reduction_RFR_df_3"
   ]
  },
  {
   "cell_type": "code",
   "execution_count": null,
   "metadata": {
    "colab": {
     "base_uri": "https://localhost:8080/",
     "height": 206
    },
    "id": "z7yWI_jVSPFh",
    "outputId": "24f16d6c-eea8-4e4d-c30b-81fb607c7cef"
   },
   "outputs": [
    {
     "data": {
      "text/html": [
       "\n",
       "  <div id=\"df-23c219c7-3566-4c38-8599-ee1b22ad06ac\">\n",
       "    <div class=\"colab-df-container\">\n",
       "      <div>\n",
       "<style scoped>\n",
       "    .dataframe tbody tr th:only-of-type {\n",
       "        vertical-align: middle;\n",
       "    }\n",
       "\n",
       "    .dataframe tbody tr th {\n",
       "        vertical-align: top;\n",
       "    }\n",
       "\n",
       "    .dataframe thead th {\n",
       "        text-align: right;\n",
       "    }\n",
       "</style>\n",
       "<table border=\"1\" class=\"dataframe\">\n",
       "  <thead>\n",
       "    <tr style=\"text-align: right;\">\n",
       "      <th></th>\n",
       "      <th>RMSE</th>\n",
       "      <th>MAE</th>\n",
       "      <th>R2</th>\n",
       "    </tr>\n",
       "    <tr>\n",
       "      <th>feature_cat</th>\n",
       "      <th></th>\n",
       "      <th></th>\n",
       "      <th></th>\n",
       "    </tr>\n",
       "  </thead>\n",
       "  <tbody>\n",
       "    <tr>\n",
       "      <th>f1</th>\n",
       "      <td>3.79347</td>\n",
       "      <td>2.02940</td>\n",
       "      <td>0.71201</td>\n",
       "    </tr>\n",
       "    <tr>\n",
       "      <th>f2</th>\n",
       "      <td>3.82116</td>\n",
       "      <td>2.05347</td>\n",
       "      <td>0.70783</td>\n",
       "    </tr>\n",
       "    <tr>\n",
       "      <th>f3</th>\n",
       "      <td>3.81024</td>\n",
       "      <td>2.04333</td>\n",
       "      <td>0.70955</td>\n",
       "    </tr>\n",
       "    <tr>\n",
       "      <th>f4</th>\n",
       "      <td>3.82396</td>\n",
       "      <td>2.05643</td>\n",
       "      <td>0.70759</td>\n",
       "    </tr>\n",
       "  </tbody>\n",
       "</table>\n",
       "</div>\n",
       "      <button class=\"colab-df-convert\" onclick=\"convertToInteractive('df-23c219c7-3566-4c38-8599-ee1b22ad06ac')\"\n",
       "              title=\"Convert this dataframe to an interactive table.\"\n",
       "              style=\"display:none;\">\n",
       "        \n",
       "  <svg xmlns=\"http://www.w3.org/2000/svg\" height=\"24px\"viewBox=\"0 0 24 24\"\n",
       "       width=\"24px\">\n",
       "    <path d=\"M0 0h24v24H0V0z\" fill=\"none\"/>\n",
       "    <path d=\"M18.56 5.44l.94 2.06.94-2.06 2.06-.94-2.06-.94-.94-2.06-.94 2.06-2.06.94zm-11 1L8.5 8.5l.94-2.06 2.06-.94-2.06-.94L8.5 2.5l-.94 2.06-2.06.94zm10 10l.94 2.06.94-2.06 2.06-.94-2.06-.94-.94-2.06-.94 2.06-2.06.94z\"/><path d=\"M17.41 7.96l-1.37-1.37c-.4-.4-.92-.59-1.43-.59-.52 0-1.04.2-1.43.59L10.3 9.45l-7.72 7.72c-.78.78-.78 2.05 0 2.83L4 21.41c.39.39.9.59 1.41.59.51 0 1.02-.2 1.41-.59l7.78-7.78 2.81-2.81c.8-.78.8-2.07 0-2.86zM5.41 20L4 18.59l7.72-7.72 1.47 1.35L5.41 20z\"/>\n",
       "  </svg>\n",
       "      </button>\n",
       "      \n",
       "  <style>\n",
       "    .colab-df-container {\n",
       "      display:flex;\n",
       "      flex-wrap:wrap;\n",
       "      gap: 12px;\n",
       "    }\n",
       "\n",
       "    .colab-df-convert {\n",
       "      background-color: #E8F0FE;\n",
       "      border: none;\n",
       "      border-radius: 50%;\n",
       "      cursor: pointer;\n",
       "      display: none;\n",
       "      fill: #1967D2;\n",
       "      height: 32px;\n",
       "      padding: 0 0 0 0;\n",
       "      width: 32px;\n",
       "    }\n",
       "\n",
       "    .colab-df-convert:hover {\n",
       "      background-color: #E2EBFA;\n",
       "      box-shadow: 0px 1px 2px rgba(60, 64, 67, 0.3), 0px 1px 3px 1px rgba(60, 64, 67, 0.15);\n",
       "      fill: #174EA6;\n",
       "    }\n",
       "\n",
       "    [theme=dark] .colab-df-convert {\n",
       "      background-color: #3B4455;\n",
       "      fill: #D2E3FC;\n",
       "    }\n",
       "\n",
       "    [theme=dark] .colab-df-convert:hover {\n",
       "      background-color: #434B5C;\n",
       "      box-shadow: 0px 1px 3px 1px rgba(0, 0, 0, 0.15);\n",
       "      filter: drop-shadow(0px 1px 2px rgba(0, 0, 0, 0.3));\n",
       "      fill: #FFFFFF;\n",
       "    }\n",
       "  </style>\n",
       "\n",
       "      <script>\n",
       "        const buttonEl =\n",
       "          document.querySelector('#df-23c219c7-3566-4c38-8599-ee1b22ad06ac button.colab-df-convert');\n",
       "        buttonEl.style.display =\n",
       "          google.colab.kernel.accessAllowed ? 'block' : 'none';\n",
       "\n",
       "        async function convertToInteractive(key) {\n",
       "          const element = document.querySelector('#df-23c219c7-3566-4c38-8599-ee1b22ad06ac');\n",
       "          const dataTable =\n",
       "            await google.colab.kernel.invokeFunction('convertToInteractive',\n",
       "                                                     [key], {});\n",
       "          if (!dataTable) return;\n",
       "\n",
       "          const docLinkHtml = 'Like what you see? Visit the ' +\n",
       "            '<a target=\"_blank\" href=https://colab.research.google.com/notebooks/data_table.ipynb>data table notebook</a>'\n",
       "            + ' to learn more about interactive tables.';\n",
       "          element.innerHTML = '';\n",
       "          dataTable['output_type'] = 'display_data';\n",
       "          await google.colab.output.renderOutput(dataTable, element);\n",
       "          const docLink = document.createElement('div');\n",
       "          docLink.innerHTML = docLinkHtml;\n",
       "          element.appendChild(docLink);\n",
       "        }\n",
       "      </script>\n",
       "    </div>\n",
       "  </div>\n",
       "  "
      ],
      "text/plain": [
       "               RMSE     MAE      R2\n",
       "feature_cat                        \n",
       "f1          3.79347 2.02940 0.71201\n",
       "f2          3.82116 2.05347 0.70783\n",
       "f3          3.81024 2.04333 0.70955\n",
       "f4          3.82396 2.05643 0.70759"
      ]
     },
     "execution_count": 213,
     "metadata": {},
     "output_type": "execute_result"
    }
   ],
   "source": [
    "dimensionality_reduction_RFR_df_3.groupby(by=[\"feature_cat\"]).mean()\n",
    "# f1 = ['SW_IN_ERA','NDVI','NIRv','hour','Lai','TA_ERA']\n",
    "# f2 = ['SW_IN_ERA','NDVI','NIRv','hour','Lai','EVI']\n",
    "# f3 = ['SW_IN_ERA','NDVI','NIRv','hour','Lai','VPD_ERA']\n",
    "# f4 = ['SW_IN_ERA','NDVI','NIRv','hour','Lai','Fpar','b1','BESS-PAR']  "
   ]
  },
  {
   "cell_type": "code",
   "execution_count": null,
   "metadata": {
    "id": "u5Xars2racLs"
   },
   "outputs": [],
   "source": [
    "# f5 = ['SW_IN_ERA','NDVI','NIRv','hour','Lai','TA_ERA','EVI']\n",
    "f6 = ['SW_IN_ERA','NDVI','NIRv','hour','Lai','TA_ERA','EVI']\n",
    "f7 = ['SW_IN_ERA','NDVI','NIRv','hour','Lai','TA_ERA','EVI','VPD_ERA']\n",
    "f8 = ['SW_IN_ERA','NDVI','NIRv','hour','Lai','VPD_ERA']  \n",
    "  \n",
    "# ['Fpar','b1','BESS-PAR']\n",
    "\n",
    "feature_list = [f5,f6,f7,f8]"
   ]
  },
  {
   "cell_type": "code",
   "execution_count": null,
   "metadata": {
    "colab": {
     "base_uri": "https://localhost:8080/"
    },
    "id": "YlwpEtq5apU6",
    "outputId": "c8e5f6fd-e32c-4807-ee44-8905fb2b0ce4"
   },
   "outputs": [
    {
     "name": "stderr",
     "output_type": "stream",
     "text": [
      "[Parallel(n_jobs=-1)]: Using backend ThreadingBackend with 12 concurrent workers.\n",
      "[Parallel(n_jobs=-1)]: Done  26 tasks      | elapsed:   18.3s\n",
      "[Parallel(n_jobs=-1)]: Done  50 out of  50 | elapsed:   29.1s finished\n",
      "[Parallel(n_jobs=12)]: Using backend ThreadingBackend with 12 concurrent workers.\n",
      "[Parallel(n_jobs=12)]: Done  26 tasks      | elapsed:    0.2s\n",
      "[Parallel(n_jobs=12)]: Done  50 out of  50 | elapsed:    0.2s finished\n",
      "[Parallel(n_jobs=-1)]: Using backend ThreadingBackend with 12 concurrent workers.\n"
     ]
    },
    {
     "name": "stdout",
     "output_type": "stream",
     "text": [
      "   \n",
      "cv_group1, Val RMSE: 3.7455502816168393, Val MAE: 2.014170042678706, Val R2/NSE: 0.7180250903210317\n"
     ]
    },
    {
     "name": "stderr",
     "output_type": "stream",
     "text": [
      "[Parallel(n_jobs=-1)]: Done  26 tasks      | elapsed:   16.9s\n",
      "[Parallel(n_jobs=-1)]: Done  50 out of  50 | elapsed:   26.8s finished\n",
      "[Parallel(n_jobs=12)]: Using backend ThreadingBackend with 12 concurrent workers.\n",
      "[Parallel(n_jobs=12)]: Done  26 tasks      | elapsed:    0.2s\n",
      "[Parallel(n_jobs=12)]: Done  50 out of  50 | elapsed:    0.3s finished\n",
      "[Parallel(n_jobs=-1)]: Using backend ThreadingBackend with 12 concurrent workers.\n"
     ]
    },
    {
     "name": "stdout",
     "output_type": "stream",
     "text": [
      "   \n",
      "cv_group2, Val RMSE: 3.957187460585073, Val MAE: 2.038244862917563, Val R2/NSE: 0.6496395564245704\n"
     ]
    },
    {
     "name": "stderr",
     "output_type": "stream",
     "text": [
      "[Parallel(n_jobs=-1)]: Done  26 tasks      | elapsed:   16.5s\n",
      "[Parallel(n_jobs=-1)]: Done  50 out of  50 | elapsed:   25.8s finished\n",
      "[Parallel(n_jobs=12)]: Using backend ThreadingBackend with 12 concurrent workers.\n",
      "[Parallel(n_jobs=12)]: Done  26 tasks      | elapsed:    0.2s\n",
      "[Parallel(n_jobs=12)]: Done  50 out of  50 | elapsed:    0.3s finished\n",
      "[Parallel(n_jobs=-1)]: Using backend ThreadingBackend with 12 concurrent workers.\n"
     ]
    },
    {
     "name": "stdout",
     "output_type": "stream",
     "text": [
      "   \n",
      "cv_group3, Val RMSE: 3.9090249510665576, Val MAE: 2.0942285205117073, Val R2/NSE: 0.7181859413849707\n"
     ]
    },
    {
     "name": "stderr",
     "output_type": "stream",
     "text": [
      "[Parallel(n_jobs=-1)]: Done  26 tasks      | elapsed:   16.5s\n",
      "[Parallel(n_jobs=-1)]: Done  50 out of  50 | elapsed:   25.8s finished\n",
      "[Parallel(n_jobs=12)]: Using backend ThreadingBackend with 12 concurrent workers.\n",
      "[Parallel(n_jobs=12)]: Done  26 tasks      | elapsed:    0.2s\n",
      "[Parallel(n_jobs=12)]: Done  50 out of  50 | elapsed:    0.3s finished\n"
     ]
    },
    {
     "name": "stdout",
     "output_type": "stream",
     "text": [
      "   \n",
      "cv_group4, Val RMSE: 3.5903457242826717, Val MAE: 1.9960310396286423, Val R2/NSE: 0.7579079266763288\n"
     ]
    },
    {
     "name": "stderr",
     "output_type": "stream",
     "text": [
      "[Parallel(n_jobs=-1)]: Using backend ThreadingBackend with 12 concurrent workers.\n",
      "[Parallel(n_jobs=-1)]: Done  26 tasks      | elapsed:   17.6s\n",
      "[Parallel(n_jobs=-1)]: Done  50 out of  50 | elapsed:   28.4s finished\n",
      "[Parallel(n_jobs=12)]: Using backend ThreadingBackend with 12 concurrent workers.\n",
      "[Parallel(n_jobs=12)]: Done  26 tasks      | elapsed:    0.2s\n",
      "[Parallel(n_jobs=12)]: Done  50 out of  50 | elapsed:    0.3s finished\n",
      "[Parallel(n_jobs=-1)]: Using backend ThreadingBackend with 12 concurrent workers.\n"
     ]
    },
    {
     "name": "stdout",
     "output_type": "stream",
     "text": [
      "   \n",
      "cv_group1, Val RMSE: 3.7455502816168393, Val MAE: 2.014170042678706, Val R2/NSE: 0.7180250903210317\n"
     ]
    },
    {
     "name": "stderr",
     "output_type": "stream",
     "text": [
      "[Parallel(n_jobs=-1)]: Done  26 tasks      | elapsed:   17.4s\n",
      "[Parallel(n_jobs=-1)]: Done  50 out of  50 | elapsed:   27.0s finished\n",
      "[Parallel(n_jobs=12)]: Using backend ThreadingBackend with 12 concurrent workers.\n",
      "[Parallel(n_jobs=12)]: Done  26 tasks      | elapsed:    0.2s\n",
      "[Parallel(n_jobs=12)]: Done  50 out of  50 | elapsed:    0.3s finished\n",
      "[Parallel(n_jobs=-1)]: Using backend ThreadingBackend with 12 concurrent workers.\n"
     ]
    },
    {
     "name": "stdout",
     "output_type": "stream",
     "text": [
      "   \n",
      "cv_group2, Val RMSE: 3.957187460585073, Val MAE: 2.038244862917563, Val R2/NSE: 0.6496395564245704\n"
     ]
    },
    {
     "name": "stderr",
     "output_type": "stream",
     "text": [
      "[Parallel(n_jobs=-1)]: Done  26 tasks      | elapsed:   16.6s\n",
      "[Parallel(n_jobs=-1)]: Done  50 out of  50 | elapsed:   26.8s finished\n",
      "[Parallel(n_jobs=12)]: Using backend ThreadingBackend with 12 concurrent workers.\n",
      "[Parallel(n_jobs=12)]: Done  26 tasks      | elapsed:    0.2s\n",
      "[Parallel(n_jobs=12)]: Done  50 out of  50 | elapsed:    0.3s finished\n",
      "[Parallel(n_jobs=-1)]: Using backend ThreadingBackend with 12 concurrent workers.\n"
     ]
    },
    {
     "name": "stdout",
     "output_type": "stream",
     "text": [
      "   \n",
      "cv_group3, Val RMSE: 3.9090249510665576, Val MAE: 2.0942285205117073, Val R2/NSE: 0.7181859413849707\n"
     ]
    },
    {
     "name": "stderr",
     "output_type": "stream",
     "text": [
      "[Parallel(n_jobs=-1)]: Done  26 tasks      | elapsed:   16.4s\n",
      "[Parallel(n_jobs=-1)]: Done  50 out of  50 | elapsed:   25.8s finished\n",
      "[Parallel(n_jobs=12)]: Using backend ThreadingBackend with 12 concurrent workers.\n",
      "[Parallel(n_jobs=12)]: Done  26 tasks      | elapsed:    0.2s\n",
      "[Parallel(n_jobs=12)]: Done  50 out of  50 | elapsed:    0.3s finished\n"
     ]
    },
    {
     "name": "stdout",
     "output_type": "stream",
     "text": [
      "   \n",
      "cv_group4, Val RMSE: 3.5903457242826717, Val MAE: 1.9960310396286423, Val R2/NSE: 0.7579079266763288\n"
     ]
    },
    {
     "name": "stderr",
     "output_type": "stream",
     "text": [
      "[Parallel(n_jobs=-1)]: Using backend ThreadingBackend with 12 concurrent workers.\n",
      "[Parallel(n_jobs=-1)]: Done  26 tasks      | elapsed:   18.2s\n",
      "[Parallel(n_jobs=-1)]: Done  50 out of  50 | elapsed:   28.2s finished\n",
      "[Parallel(n_jobs=12)]: Using backend ThreadingBackend with 12 concurrent workers.\n",
      "[Parallel(n_jobs=12)]: Done  26 tasks      | elapsed:    0.2s\n",
      "[Parallel(n_jobs=12)]: Done  50 out of  50 | elapsed:    0.3s finished\n"
     ]
    },
    {
     "name": "stdout",
     "output_type": "stream",
     "text": [
      "   \n",
      "cv_group1, Val RMSE: 3.7530334408311297, Val MAE: 2.019645825567395, Val R2/NSE: 0.7168972608642035\n"
     ]
    },
    {
     "name": "stderr",
     "output_type": "stream",
     "text": [
      "[Parallel(n_jobs=-1)]: Using backend ThreadingBackend with 12 concurrent workers.\n",
      "[Parallel(n_jobs=-1)]: Done  26 tasks      | elapsed:   17.4s\n",
      "[Parallel(n_jobs=-1)]: Done  50 out of  50 | elapsed:   27.6s finished\n",
      "[Parallel(n_jobs=12)]: Using backend ThreadingBackend with 12 concurrent workers.\n",
      "[Parallel(n_jobs=12)]: Done  26 tasks      | elapsed:    0.2s\n",
      "[Parallel(n_jobs=12)]: Done  50 out of  50 | elapsed:    0.3s finished\n"
     ]
    },
    {
     "name": "stdout",
     "output_type": "stream",
     "text": [
      "   \n",
      "cv_group2, Val RMSE: 3.9491761308392364, Val MAE: 2.0391127579719903, Val R2/NSE: 0.6510567305326926\n"
     ]
    },
    {
     "name": "stderr",
     "output_type": "stream",
     "text": [
      "[Parallel(n_jobs=-1)]: Using backend ThreadingBackend with 12 concurrent workers.\n",
      "[Parallel(n_jobs=-1)]: Done  26 tasks      | elapsed:   17.4s\n",
      "[Parallel(n_jobs=-1)]: Done  50 out of  50 | elapsed:   26.9s finished\n",
      "[Parallel(n_jobs=12)]: Using backend ThreadingBackend with 12 concurrent workers.\n",
      "[Parallel(n_jobs=12)]: Done  26 tasks      | elapsed:    0.2s\n",
      "[Parallel(n_jobs=12)]: Done  50 out of  50 | elapsed:    0.3s finished\n"
     ]
    },
    {
     "name": "stdout",
     "output_type": "stream",
     "text": [
      "   \n",
      "cv_group3, Val RMSE: 3.916693879508452, Val MAE: 2.097508543286819, Val R2/NSE: 0.7170791017687389\n"
     ]
    },
    {
     "name": "stderr",
     "output_type": "stream",
     "text": [
      "[Parallel(n_jobs=-1)]: Using backend ThreadingBackend with 12 concurrent workers.\n",
      "[Parallel(n_jobs=-1)]: Done  26 tasks      | elapsed:   16.8s\n",
      "[Parallel(n_jobs=-1)]: Done  50 out of  50 | elapsed:   26.3s finished\n",
      "[Parallel(n_jobs=12)]: Using backend ThreadingBackend with 12 concurrent workers.\n",
      "[Parallel(n_jobs=12)]: Done  26 tasks      | elapsed:    0.2s\n",
      "[Parallel(n_jobs=12)]: Done  50 out of  50 | elapsed:    0.3s finished\n"
     ]
    },
    {
     "name": "stdout",
     "output_type": "stream",
     "text": [
      "   \n",
      "cv_group4, Val RMSE: 3.6054913672499356, Val MAE: 2.0059985481099463, Val R2/NSE: 0.755861118857306\n"
     ]
    },
    {
     "name": "stderr",
     "output_type": "stream",
     "text": [
      "[Parallel(n_jobs=-1)]: Using backend ThreadingBackend with 12 concurrent workers.\n",
      "[Parallel(n_jobs=-1)]: Done  26 tasks      | elapsed:   17.4s\n",
      "[Parallel(n_jobs=-1)]: Done  50 out of  50 | elapsed:   26.7s finished\n",
      "[Parallel(n_jobs=12)]: Using backend ThreadingBackend with 12 concurrent workers.\n",
      "[Parallel(n_jobs=12)]: Done  26 tasks      | elapsed:    0.2s\n",
      "[Parallel(n_jobs=12)]: Done  50 out of  50 | elapsed:    0.2s finished\n",
      "[Parallel(n_jobs=-1)]: Using backend ThreadingBackend with 12 concurrent workers.\n"
     ]
    },
    {
     "name": "stdout",
     "output_type": "stream",
     "text": [
      "   \n",
      "cv_group1, Val RMSE: 3.707144640202475, Val MAE: 1.9970896427869629, Val R2/NSE: 0.7237780001821438\n"
     ]
    },
    {
     "name": "stderr",
     "output_type": "stream",
     "text": [
      "[Parallel(n_jobs=-1)]: Done  26 tasks      | elapsed:   16.4s\n",
      "[Parallel(n_jobs=-1)]: Done  50 out of  50 | elapsed:   25.3s finished\n",
      "[Parallel(n_jobs=12)]: Using backend ThreadingBackend with 12 concurrent workers.\n",
      "[Parallel(n_jobs=12)]: Done  26 tasks      | elapsed:    0.2s\n",
      "[Parallel(n_jobs=12)]: Done  50 out of  50 | elapsed:    0.3s finished\n",
      "[Parallel(n_jobs=-1)]: Using backend ThreadingBackend with 12 concurrent workers.\n"
     ]
    },
    {
     "name": "stdout",
     "output_type": "stream",
     "text": [
      "   \n",
      "cv_group2, Val RMSE: 3.9735746321983334, Val MAE: 2.0450542818183237, Val R2/NSE: 0.6467317817949978\n"
     ]
    },
    {
     "name": "stderr",
     "output_type": "stream",
     "text": [
      "[Parallel(n_jobs=-1)]: Done  26 tasks      | elapsed:   17.0s\n",
      "[Parallel(n_jobs=-1)]: Done  50 out of  50 | elapsed:   26.7s finished\n",
      "[Parallel(n_jobs=12)]: Using backend ThreadingBackend with 12 concurrent workers.\n",
      "[Parallel(n_jobs=12)]: Done  26 tasks      | elapsed:    0.2s\n",
      "[Parallel(n_jobs=12)]: Done  50 out of  50 | elapsed:    0.3s finished\n",
      "[Parallel(n_jobs=-1)]: Using backend ThreadingBackend with 12 concurrent workers.\n"
     ]
    },
    {
     "name": "stdout",
     "output_type": "stream",
     "text": [
      "   \n",
      "cv_group3, Val RMSE: 3.926336420505469, Val MAE: 2.102512380320124, Val R2/NSE: 0.7156843363972326\n"
     ]
    },
    {
     "name": "stderr",
     "output_type": "stream",
     "text": [
      "[Parallel(n_jobs=-1)]: Done  26 tasks      | elapsed:   15.1s\n",
      "[Parallel(n_jobs=-1)]: Done  50 out of  50 | elapsed:   24.2s finished\n",
      "[Parallel(n_jobs=12)]: Using backend ThreadingBackend with 12 concurrent workers.\n"
     ]
    },
    {
     "name": "stdout",
     "output_type": "stream",
     "text": [
      "   \n",
      "cv_group4, Val RMSE: 3.6338948014285513, Val MAE: 2.0286810463244427, Val R2/NSE: 0.7519994002384977\n"
     ]
    },
    {
     "name": "stderr",
     "output_type": "stream",
     "text": [
      "[Parallel(n_jobs=12)]: Done  26 tasks      | elapsed:    0.2s\n",
      "[Parallel(n_jobs=12)]: Done  50 out of  50 | elapsed:    0.3s finished\n"
     ]
    }
   ],
   "source": [
    "result = [[\"cv_group\",\"feature_list\", \"feature_list\", \"RMSE\", \"MAE\", \"R2\"]]\n",
    "cv_group_list = [\"cv_group1\", \"cv_group2\", \"cv_group3\", \"cv_group4\"]\n",
    "feature_type = [\"f5\", \"f6\", \"f7\",\"f8\"]\n",
    "\n",
    "dataset = [[X_train_cv1, y_train_cv1, X_val_cv1, y_val_cv1],\n",
    "           [X_train_cv2, y_train_cv2, X_val_cv2, y_val_cv2],\n",
    "           [X_train_cv3, y_train_cv3, X_val_cv3, y_val_cv3],\n",
    "           [X_train_cv4, y_train_cv4, X_val_cv4, y_val_cv4]]#, X_test_cv3, y_test_cv3\n",
    "\n",
    "for idx_f, features in enumerate(feature_list):\n",
    "  for idx_d, data in enumerate(dataset):\n",
    "    model = RandomForestRegressor(**best_params, random_state=42, n_jobs=-1, verbose=1)\n",
    "    result += [RFR_fit_show_result(model, data[0], data[1], data[2], data[3], \n",
    "                                     feature_list[idx_f], cv_group_list[idx_d],\n",
    "                                     feature_type[idx_f])]\n"
   ]
  },
  {
   "cell_type": "code",
   "execution_count": null,
   "metadata": {
    "colab": {
     "base_uri": "https://localhost:8080/",
     "height": 551
    },
    "id": "AN4zDZR8rFL6",
    "outputId": "4990ae01-9dad-4111-b96a-9faaf95d9e49"
   },
   "outputs": [
    {
     "data": {
      "text/html": [
       "\n",
       "  <div id=\"df-e91d2004-b3f9-4c37-aead-4530332fdff4\">\n",
       "    <div class=\"colab-df-container\">\n",
       "      <div>\n",
       "<style scoped>\n",
       "    .dataframe tbody tr th:only-of-type {\n",
       "        vertical-align: middle;\n",
       "    }\n",
       "\n",
       "    .dataframe tbody tr th {\n",
       "        vertical-align: top;\n",
       "    }\n",
       "\n",
       "    .dataframe thead th {\n",
       "        text-align: right;\n",
       "    }\n",
       "</style>\n",
       "<table border=\"1\" class=\"dataframe\">\n",
       "  <thead>\n",
       "    <tr style=\"text-align: right;\">\n",
       "      <th></th>\n",
       "      <th>cv_group</th>\n",
       "      <th>feature_cat</th>\n",
       "      <th>feature_list</th>\n",
       "      <th>RMSE</th>\n",
       "      <th>MAE</th>\n",
       "      <th>R2</th>\n",
       "    </tr>\n",
       "  </thead>\n",
       "  <tbody>\n",
       "    <tr>\n",
       "      <th>0</th>\n",
       "      <td>cv_group1</td>\n",
       "      <td>f5</td>\n",
       "      <td>[SW_IN_ERA, NDVI, NIRv, hour, Lai, TA_ERA, EVI]</td>\n",
       "      <td>3.74555</td>\n",
       "      <td>2.01417</td>\n",
       "      <td>0.71803</td>\n",
       "    </tr>\n",
       "    <tr>\n",
       "      <th>1</th>\n",
       "      <td>cv_group2</td>\n",
       "      <td>f5</td>\n",
       "      <td>[SW_IN_ERA, NDVI, NIRv, hour, Lai, TA_ERA, EVI]</td>\n",
       "      <td>3.95719</td>\n",
       "      <td>2.03824</td>\n",
       "      <td>0.64964</td>\n",
       "    </tr>\n",
       "    <tr>\n",
       "      <th>2</th>\n",
       "      <td>cv_group3</td>\n",
       "      <td>f5</td>\n",
       "      <td>[SW_IN_ERA, NDVI, NIRv, hour, Lai, TA_ERA, EVI]</td>\n",
       "      <td>3.90902</td>\n",
       "      <td>2.09423</td>\n",
       "      <td>0.71819</td>\n",
       "    </tr>\n",
       "    <tr>\n",
       "      <th>3</th>\n",
       "      <td>cv_group4</td>\n",
       "      <td>f5</td>\n",
       "      <td>[SW_IN_ERA, NDVI, NIRv, hour, Lai, TA_ERA, EVI]</td>\n",
       "      <td>3.59035</td>\n",
       "      <td>1.99603</td>\n",
       "      <td>0.75791</td>\n",
       "    </tr>\n",
       "    <tr>\n",
       "      <th>4</th>\n",
       "      <td>cv_group1</td>\n",
       "      <td>f6</td>\n",
       "      <td>[SW_IN_ERA, NDVI, NIRv, hour, Lai, TA_ERA, EVI]</td>\n",
       "      <td>3.74555</td>\n",
       "      <td>2.01417</td>\n",
       "      <td>0.71803</td>\n",
       "    </tr>\n",
       "    <tr>\n",
       "      <th>5</th>\n",
       "      <td>cv_group2</td>\n",
       "      <td>f6</td>\n",
       "      <td>[SW_IN_ERA, NDVI, NIRv, hour, Lai, TA_ERA, EVI]</td>\n",
       "      <td>3.95719</td>\n",
       "      <td>2.03824</td>\n",
       "      <td>0.64964</td>\n",
       "    </tr>\n",
       "    <tr>\n",
       "      <th>6</th>\n",
       "      <td>cv_group3</td>\n",
       "      <td>f6</td>\n",
       "      <td>[SW_IN_ERA, NDVI, NIRv, hour, Lai, TA_ERA, EVI]</td>\n",
       "      <td>3.90902</td>\n",
       "      <td>2.09423</td>\n",
       "      <td>0.71819</td>\n",
       "    </tr>\n",
       "    <tr>\n",
       "      <th>7</th>\n",
       "      <td>cv_group4</td>\n",
       "      <td>f6</td>\n",
       "      <td>[SW_IN_ERA, NDVI, NIRv, hour, Lai, TA_ERA, EVI]</td>\n",
       "      <td>3.59035</td>\n",
       "      <td>1.99603</td>\n",
       "      <td>0.75791</td>\n",
       "    </tr>\n",
       "    <tr>\n",
       "      <th>8</th>\n",
       "      <td>cv_group1</td>\n",
       "      <td>f7</td>\n",
       "      <td>[SW_IN_ERA, NDVI, NIRv, hour, Lai, TA_ERA, EVI...</td>\n",
       "      <td>3.75303</td>\n",
       "      <td>2.01965</td>\n",
       "      <td>0.71690</td>\n",
       "    </tr>\n",
       "    <tr>\n",
       "      <th>9</th>\n",
       "      <td>cv_group2</td>\n",
       "      <td>f7</td>\n",
       "      <td>[SW_IN_ERA, NDVI, NIRv, hour, Lai, TA_ERA, EVI...</td>\n",
       "      <td>3.94918</td>\n",
       "      <td>2.03911</td>\n",
       "      <td>0.65106</td>\n",
       "    </tr>\n",
       "    <tr>\n",
       "      <th>10</th>\n",
       "      <td>cv_group3</td>\n",
       "      <td>f7</td>\n",
       "      <td>[SW_IN_ERA, NDVI, NIRv, hour, Lai, TA_ERA, EVI...</td>\n",
       "      <td>3.91669</td>\n",
       "      <td>2.09751</td>\n",
       "      <td>0.71708</td>\n",
       "    </tr>\n",
       "    <tr>\n",
       "      <th>11</th>\n",
       "      <td>cv_group4</td>\n",
       "      <td>f7</td>\n",
       "      <td>[SW_IN_ERA, NDVI, NIRv, hour, Lai, TA_ERA, EVI...</td>\n",
       "      <td>3.60549</td>\n",
       "      <td>2.00600</td>\n",
       "      <td>0.75586</td>\n",
       "    </tr>\n",
       "    <tr>\n",
       "      <th>12</th>\n",
       "      <td>cv_group1</td>\n",
       "      <td>f8</td>\n",
       "      <td>[SW_IN_ERA, NDVI, NIRv, hour, Lai, VPD_ERA]</td>\n",
       "      <td>3.70714</td>\n",
       "      <td>1.99709</td>\n",
       "      <td>0.72378</td>\n",
       "    </tr>\n",
       "    <tr>\n",
       "      <th>13</th>\n",
       "      <td>cv_group2</td>\n",
       "      <td>f8</td>\n",
       "      <td>[SW_IN_ERA, NDVI, NIRv, hour, Lai, VPD_ERA]</td>\n",
       "      <td>3.97357</td>\n",
       "      <td>2.04505</td>\n",
       "      <td>0.64673</td>\n",
       "    </tr>\n",
       "    <tr>\n",
       "      <th>14</th>\n",
       "      <td>cv_group3</td>\n",
       "      <td>f8</td>\n",
       "      <td>[SW_IN_ERA, NDVI, NIRv, hour, Lai, VPD_ERA]</td>\n",
       "      <td>3.92634</td>\n",
       "      <td>2.10251</td>\n",
       "      <td>0.71568</td>\n",
       "    </tr>\n",
       "    <tr>\n",
       "      <th>15</th>\n",
       "      <td>cv_group4</td>\n",
       "      <td>f8</td>\n",
       "      <td>[SW_IN_ERA, NDVI, NIRv, hour, Lai, VPD_ERA]</td>\n",
       "      <td>3.63389</td>\n",
       "      <td>2.02868</td>\n",
       "      <td>0.75200</td>\n",
       "    </tr>\n",
       "  </tbody>\n",
       "</table>\n",
       "</div>\n",
       "      <button class=\"colab-df-convert\" onclick=\"convertToInteractive('df-e91d2004-b3f9-4c37-aead-4530332fdff4')\"\n",
       "              title=\"Convert this dataframe to an interactive table.\"\n",
       "              style=\"display:none;\">\n",
       "        \n",
       "  <svg xmlns=\"http://www.w3.org/2000/svg\" height=\"24px\"viewBox=\"0 0 24 24\"\n",
       "       width=\"24px\">\n",
       "    <path d=\"M0 0h24v24H0V0z\" fill=\"none\"/>\n",
       "    <path d=\"M18.56 5.44l.94 2.06.94-2.06 2.06-.94-2.06-.94-.94-2.06-.94 2.06-2.06.94zm-11 1L8.5 8.5l.94-2.06 2.06-.94-2.06-.94L8.5 2.5l-.94 2.06-2.06.94zm10 10l.94 2.06.94-2.06 2.06-.94-2.06-.94-.94-2.06-.94 2.06-2.06.94z\"/><path d=\"M17.41 7.96l-1.37-1.37c-.4-.4-.92-.59-1.43-.59-.52 0-1.04.2-1.43.59L10.3 9.45l-7.72 7.72c-.78.78-.78 2.05 0 2.83L4 21.41c.39.39.9.59 1.41.59.51 0 1.02-.2 1.41-.59l7.78-7.78 2.81-2.81c.8-.78.8-2.07 0-2.86zM5.41 20L4 18.59l7.72-7.72 1.47 1.35L5.41 20z\"/>\n",
       "  </svg>\n",
       "      </button>\n",
       "      \n",
       "  <style>\n",
       "    .colab-df-container {\n",
       "      display:flex;\n",
       "      flex-wrap:wrap;\n",
       "      gap: 12px;\n",
       "    }\n",
       "\n",
       "    .colab-df-convert {\n",
       "      background-color: #E8F0FE;\n",
       "      border: none;\n",
       "      border-radius: 50%;\n",
       "      cursor: pointer;\n",
       "      display: none;\n",
       "      fill: #1967D2;\n",
       "      height: 32px;\n",
       "      padding: 0 0 0 0;\n",
       "      width: 32px;\n",
       "    }\n",
       "\n",
       "    .colab-df-convert:hover {\n",
       "      background-color: #E2EBFA;\n",
       "      box-shadow: 0px 1px 2px rgba(60, 64, 67, 0.3), 0px 1px 3px 1px rgba(60, 64, 67, 0.15);\n",
       "      fill: #174EA6;\n",
       "    }\n",
       "\n",
       "    [theme=dark] .colab-df-convert {\n",
       "      background-color: #3B4455;\n",
       "      fill: #D2E3FC;\n",
       "    }\n",
       "\n",
       "    [theme=dark] .colab-df-convert:hover {\n",
       "      background-color: #434B5C;\n",
       "      box-shadow: 0px 1px 3px 1px rgba(0, 0, 0, 0.15);\n",
       "      filter: drop-shadow(0px 1px 2px rgba(0, 0, 0, 0.3));\n",
       "      fill: #FFFFFF;\n",
       "    }\n",
       "  </style>\n",
       "\n",
       "      <script>\n",
       "        const buttonEl =\n",
       "          document.querySelector('#df-e91d2004-b3f9-4c37-aead-4530332fdff4 button.colab-df-convert');\n",
       "        buttonEl.style.display =\n",
       "          google.colab.kernel.accessAllowed ? 'block' : 'none';\n",
       "\n",
       "        async function convertToInteractive(key) {\n",
       "          const element = document.querySelector('#df-e91d2004-b3f9-4c37-aead-4530332fdff4');\n",
       "          const dataTable =\n",
       "            await google.colab.kernel.invokeFunction('convertToInteractive',\n",
       "                                                     [key], {});\n",
       "          if (!dataTable) return;\n",
       "\n",
       "          const docLinkHtml = 'Like what you see? Visit the ' +\n",
       "            '<a target=\"_blank\" href=https://colab.research.google.com/notebooks/data_table.ipynb>data table notebook</a>'\n",
       "            + ' to learn more about interactive tables.';\n",
       "          element.innerHTML = '';\n",
       "          dataTable['output_type'] = 'display_data';\n",
       "          await google.colab.output.renderOutput(dataTable, element);\n",
       "          const docLink = document.createElement('div');\n",
       "          docLink.innerHTML = docLinkHtml;\n",
       "          element.appendChild(docLink);\n",
       "        }\n",
       "      </script>\n",
       "    </div>\n",
       "  </div>\n",
       "  "
      ],
      "text/plain": [
       "     cv_group feature_cat                                       feature_list  \\\n",
       "0   cv_group1          f5    [SW_IN_ERA, NDVI, NIRv, hour, Lai, TA_ERA, EVI]   \n",
       "1   cv_group2          f5    [SW_IN_ERA, NDVI, NIRv, hour, Lai, TA_ERA, EVI]   \n",
       "2   cv_group3          f5    [SW_IN_ERA, NDVI, NIRv, hour, Lai, TA_ERA, EVI]   \n",
       "3   cv_group4          f5    [SW_IN_ERA, NDVI, NIRv, hour, Lai, TA_ERA, EVI]   \n",
       "4   cv_group1          f6    [SW_IN_ERA, NDVI, NIRv, hour, Lai, TA_ERA, EVI]   \n",
       "5   cv_group2          f6    [SW_IN_ERA, NDVI, NIRv, hour, Lai, TA_ERA, EVI]   \n",
       "6   cv_group3          f6    [SW_IN_ERA, NDVI, NIRv, hour, Lai, TA_ERA, EVI]   \n",
       "7   cv_group4          f6    [SW_IN_ERA, NDVI, NIRv, hour, Lai, TA_ERA, EVI]   \n",
       "8   cv_group1          f7  [SW_IN_ERA, NDVI, NIRv, hour, Lai, TA_ERA, EVI...   \n",
       "9   cv_group2          f7  [SW_IN_ERA, NDVI, NIRv, hour, Lai, TA_ERA, EVI...   \n",
       "10  cv_group3          f7  [SW_IN_ERA, NDVI, NIRv, hour, Lai, TA_ERA, EVI...   \n",
       "11  cv_group4          f7  [SW_IN_ERA, NDVI, NIRv, hour, Lai, TA_ERA, EVI...   \n",
       "12  cv_group1          f8        [SW_IN_ERA, NDVI, NIRv, hour, Lai, VPD_ERA]   \n",
       "13  cv_group2          f8        [SW_IN_ERA, NDVI, NIRv, hour, Lai, VPD_ERA]   \n",
       "14  cv_group3          f8        [SW_IN_ERA, NDVI, NIRv, hour, Lai, VPD_ERA]   \n",
       "15  cv_group4          f8        [SW_IN_ERA, NDVI, NIRv, hour, Lai, VPD_ERA]   \n",
       "\n",
       "      RMSE     MAE      R2  \n",
       "0  3.74555 2.01417 0.71803  \n",
       "1  3.95719 2.03824 0.64964  \n",
       "2  3.90902 2.09423 0.71819  \n",
       "3  3.59035 1.99603 0.75791  \n",
       "4  3.74555 2.01417 0.71803  \n",
       "5  3.95719 2.03824 0.64964  \n",
       "6  3.90902 2.09423 0.71819  \n",
       "7  3.59035 1.99603 0.75791  \n",
       "8  3.75303 2.01965 0.71690  \n",
       "9  3.94918 2.03911 0.65106  \n",
       "10 3.91669 2.09751 0.71708  \n",
       "11 3.60549 2.00600 0.75586  \n",
       "12 3.70714 1.99709 0.72378  \n",
       "13 3.97357 2.04505 0.64673  \n",
       "14 3.92634 2.10251 0.71568  \n",
       "15 3.63389 2.02868 0.75200  "
      ]
     },
     "execution_count": 217,
     "metadata": {},
     "output_type": "execute_result"
    }
   ],
   "source": [
    "dimensionality_reduction_RFR_df_4 = pd.DataFrame(result[1:], columns=result[0])\n",
    "dimensionality_reduction_RFR_df_4.columns = ['cv_group', 'feature_cat', 'feature_list', 'RMSE', 'MAE', 'R2']\n",
    "dimensionality_reduction_RFR_df_4"
   ]
  },
  {
   "cell_type": "code",
   "execution_count": null,
   "metadata": {
    "colab": {
     "base_uri": "https://localhost:8080/",
     "height": 206
    },
    "id": "ANagBFpVr17F",
    "outputId": "64759f31-6e17-4ec7-b2af-57106cd48e88"
   },
   "outputs": [
    {
     "data": {
      "text/html": [
       "\n",
       "  <div id=\"df-b6b99e80-6916-495a-9a83-d8a41d273abb\">\n",
       "    <div class=\"colab-df-container\">\n",
       "      <div>\n",
       "<style scoped>\n",
       "    .dataframe tbody tr th:only-of-type {\n",
       "        vertical-align: middle;\n",
       "    }\n",
       "\n",
       "    .dataframe tbody tr th {\n",
       "        vertical-align: top;\n",
       "    }\n",
       "\n",
       "    .dataframe thead th {\n",
       "        text-align: right;\n",
       "    }\n",
       "</style>\n",
       "<table border=\"1\" class=\"dataframe\">\n",
       "  <thead>\n",
       "    <tr style=\"text-align: right;\">\n",
       "      <th></th>\n",
       "      <th>RMSE</th>\n",
       "      <th>MAE</th>\n",
       "      <th>R2</th>\n",
       "    </tr>\n",
       "    <tr>\n",
       "      <th>feature_cat</th>\n",
       "      <th></th>\n",
       "      <th></th>\n",
       "      <th></th>\n",
       "    </tr>\n",
       "  </thead>\n",
       "  <tbody>\n",
       "    <tr>\n",
       "      <th>f5</th>\n",
       "      <td>3.80053</td>\n",
       "      <td>2.03567</td>\n",
       "      <td>0.71094</td>\n",
       "    </tr>\n",
       "    <tr>\n",
       "      <th>f6</th>\n",
       "      <td>3.80053</td>\n",
       "      <td>2.03567</td>\n",
       "      <td>0.71094</td>\n",
       "    </tr>\n",
       "    <tr>\n",
       "      <th>f7</th>\n",
       "      <td>3.80610</td>\n",
       "      <td>2.04057</td>\n",
       "      <td>0.71022</td>\n",
       "    </tr>\n",
       "    <tr>\n",
       "      <th>f8</th>\n",
       "      <td>3.81024</td>\n",
       "      <td>2.04333</td>\n",
       "      <td>0.70955</td>\n",
       "    </tr>\n",
       "  </tbody>\n",
       "</table>\n",
       "</div>\n",
       "      <button class=\"colab-df-convert\" onclick=\"convertToInteractive('df-b6b99e80-6916-495a-9a83-d8a41d273abb')\"\n",
       "              title=\"Convert this dataframe to an interactive table.\"\n",
       "              style=\"display:none;\">\n",
       "        \n",
       "  <svg xmlns=\"http://www.w3.org/2000/svg\" height=\"24px\"viewBox=\"0 0 24 24\"\n",
       "       width=\"24px\">\n",
       "    <path d=\"M0 0h24v24H0V0z\" fill=\"none\"/>\n",
       "    <path d=\"M18.56 5.44l.94 2.06.94-2.06 2.06-.94-2.06-.94-.94-2.06-.94 2.06-2.06.94zm-11 1L8.5 8.5l.94-2.06 2.06-.94-2.06-.94L8.5 2.5l-.94 2.06-2.06.94zm10 10l.94 2.06.94-2.06 2.06-.94-2.06-.94-.94-2.06-.94 2.06-2.06.94z\"/><path d=\"M17.41 7.96l-1.37-1.37c-.4-.4-.92-.59-1.43-.59-.52 0-1.04.2-1.43.59L10.3 9.45l-7.72 7.72c-.78.78-.78 2.05 0 2.83L4 21.41c.39.39.9.59 1.41.59.51 0 1.02-.2 1.41-.59l7.78-7.78 2.81-2.81c.8-.78.8-2.07 0-2.86zM5.41 20L4 18.59l7.72-7.72 1.47 1.35L5.41 20z\"/>\n",
       "  </svg>\n",
       "      </button>\n",
       "      \n",
       "  <style>\n",
       "    .colab-df-container {\n",
       "      display:flex;\n",
       "      flex-wrap:wrap;\n",
       "      gap: 12px;\n",
       "    }\n",
       "\n",
       "    .colab-df-convert {\n",
       "      background-color: #E8F0FE;\n",
       "      border: none;\n",
       "      border-radius: 50%;\n",
       "      cursor: pointer;\n",
       "      display: none;\n",
       "      fill: #1967D2;\n",
       "      height: 32px;\n",
       "      padding: 0 0 0 0;\n",
       "      width: 32px;\n",
       "    }\n",
       "\n",
       "    .colab-df-convert:hover {\n",
       "      background-color: #E2EBFA;\n",
       "      box-shadow: 0px 1px 2px rgba(60, 64, 67, 0.3), 0px 1px 3px 1px rgba(60, 64, 67, 0.15);\n",
       "      fill: #174EA6;\n",
       "    }\n",
       "\n",
       "    [theme=dark] .colab-df-convert {\n",
       "      background-color: #3B4455;\n",
       "      fill: #D2E3FC;\n",
       "    }\n",
       "\n",
       "    [theme=dark] .colab-df-convert:hover {\n",
       "      background-color: #434B5C;\n",
       "      box-shadow: 0px 1px 3px 1px rgba(0, 0, 0, 0.15);\n",
       "      filter: drop-shadow(0px 1px 2px rgba(0, 0, 0, 0.3));\n",
       "      fill: #FFFFFF;\n",
       "    }\n",
       "  </style>\n",
       "\n",
       "      <script>\n",
       "        const buttonEl =\n",
       "          document.querySelector('#df-b6b99e80-6916-495a-9a83-d8a41d273abb button.colab-df-convert');\n",
       "        buttonEl.style.display =\n",
       "          google.colab.kernel.accessAllowed ? 'block' : 'none';\n",
       "\n",
       "        async function convertToInteractive(key) {\n",
       "          const element = document.querySelector('#df-b6b99e80-6916-495a-9a83-d8a41d273abb');\n",
       "          const dataTable =\n",
       "            await google.colab.kernel.invokeFunction('convertToInteractive',\n",
       "                                                     [key], {});\n",
       "          if (!dataTable) return;\n",
       "\n",
       "          const docLinkHtml = 'Like what you see? Visit the ' +\n",
       "            '<a target=\"_blank\" href=https://colab.research.google.com/notebooks/data_table.ipynb>data table notebook</a>'\n",
       "            + ' to learn more about interactive tables.';\n",
       "          element.innerHTML = '';\n",
       "          dataTable['output_type'] = 'display_data';\n",
       "          await google.colab.output.renderOutput(dataTable, element);\n",
       "          const docLink = document.createElement('div');\n",
       "          docLink.innerHTML = docLinkHtml;\n",
       "          element.appendChild(docLink);\n",
       "        }\n",
       "      </script>\n",
       "    </div>\n",
       "  </div>\n",
       "  "
      ],
      "text/plain": [
       "               RMSE     MAE      R2\n",
       "feature_cat                        \n",
       "f5          3.80053 2.03567 0.71094\n",
       "f6          3.80053 2.03567 0.71094\n",
       "f7          3.80610 2.04057 0.71022\n",
       "f8          3.81024 2.04333 0.70955"
      ]
     },
     "execution_count": 218,
     "metadata": {},
     "output_type": "execute_result"
    }
   ],
   "source": [
    "dimensionality_reduction_RFR_df_4.groupby(by=[\"feature_cat\"]).mean()"
   ]
  },
  {
   "cell_type": "code",
   "execution_count": null,
   "metadata": {
    "id": "M4g4xivgr12S"
   },
   "outputs": [],
   "source": [
    "f9 = ['SW_IN_ERA','NDVI','NIRv','hour','Lai','TA_ERA','Fpar']\n",
    "f10 = ['SW_IN_ERA','NDVI','NIRv','hour','Lai','TA_ERA','b1']\n",
    "f11 = ['SW_IN_ERA','NDVI','NIRv','hour','Lai','TA_ERA','BESS-PAR']\n",
    "f12 = ['SW_IN_ERA','NDVI','NIRv','hour','Lai','TA_ERA','LW_IN_ERA']  \n",
    "\n",
    "#remove \n",
    "#'VPD_ERA''EVI'\n",
    "# ['Fpar','b1','BESS-PAR']\n",
    "\n",
    "feature_list = [f9,f10,f11,f12]"
   ]
  },
  {
   "cell_type": "code",
   "execution_count": null,
   "metadata": {
    "colab": {
     "base_uri": "https://localhost:8080/"
    },
    "id": "cL0MhxoOufAM",
    "outputId": "b8d4a709-b10c-4c35-ebb3-a61c818364c9"
   },
   "outputs": [
    {
     "name": "stderr",
     "output_type": "stream",
     "text": [
      "[Parallel(n_jobs=-1)]: Using backend ThreadingBackend with 12 concurrent workers.\n",
      "[Parallel(n_jobs=-1)]: Done  26 tasks      | elapsed:   15.3s\n",
      "[Parallel(n_jobs=-1)]: Done  50 out of  50 | elapsed:   23.9s finished\n",
      "[Parallel(n_jobs=12)]: Using backend ThreadingBackend with 12 concurrent workers.\n",
      "[Parallel(n_jobs=12)]: Done  26 tasks      | elapsed:    0.2s\n",
      "[Parallel(n_jobs=12)]: Done  50 out of  50 | elapsed:    0.2s finished\n",
      "[Parallel(n_jobs=-1)]: Using backend ThreadingBackend with 12 concurrent workers.\n"
     ]
    },
    {
     "name": "stdout",
     "output_type": "stream",
     "text": [
      "   \n",
      "cv_group1, Val RMSE: 3.731869629558213, Val MAE: 2.010849506015809, Val R2/NSE: 0.7200811597264059\n"
     ]
    },
    {
     "name": "stderr",
     "output_type": "stream",
     "text": [
      "[Parallel(n_jobs=-1)]: Done  26 tasks      | elapsed:   14.8s\n",
      "[Parallel(n_jobs=-1)]: Done  50 out of  50 | elapsed:   23.5s finished\n",
      "[Parallel(n_jobs=12)]: Using backend ThreadingBackend with 12 concurrent workers.\n",
      "[Parallel(n_jobs=12)]: Done  26 tasks      | elapsed:    0.2s\n",
      "[Parallel(n_jobs=12)]: Done  50 out of  50 | elapsed:    0.3s finished\n",
      "[Parallel(n_jobs=-1)]: Using backend ThreadingBackend with 12 concurrent workers.\n"
     ]
    },
    {
     "name": "stdout",
     "output_type": "stream",
     "text": [
      "   \n",
      "cv_group2, Val RMSE: 3.9855364684090047, Val MAE: 2.0483198579636586, Val R2/NSE: 0.6446016609734068\n"
     ]
    },
    {
     "name": "stderr",
     "output_type": "stream",
     "text": [
      "[Parallel(n_jobs=-1)]: Done  26 tasks      | elapsed:   14.6s\n",
      "[Parallel(n_jobs=-1)]: Done  50 out of  50 | elapsed:   23.5s finished\n",
      "[Parallel(n_jobs=12)]: Using backend ThreadingBackend with 12 concurrent workers.\n",
      "[Parallel(n_jobs=12)]: Done  26 tasks      | elapsed:    0.2s\n",
      "[Parallel(n_jobs=12)]: Done  50 out of  50 | elapsed:    0.3s finished\n",
      "[Parallel(n_jobs=-1)]: Using backend ThreadingBackend with 12 concurrent workers.\n"
     ]
    },
    {
     "name": "stdout",
     "output_type": "stream",
     "text": [
      "   \n",
      "cv_group3, Val RMSE: 3.906299855966533, Val MAE: 2.093423395388603, Val R2/NSE: 0.7185787259963246\n"
     ]
    },
    {
     "name": "stderr",
     "output_type": "stream",
     "text": [
      "[Parallel(n_jobs=-1)]: Done  26 tasks      | elapsed:   14.0s\n",
      "[Parallel(n_jobs=-1)]: Done  50 out of  50 | elapsed:   22.8s finished\n",
      "[Parallel(n_jobs=12)]: Using backend ThreadingBackend with 12 concurrent workers.\n",
      "[Parallel(n_jobs=12)]: Done  26 tasks      | elapsed:    0.2s\n",
      "[Parallel(n_jobs=12)]: Done  50 out of  50 | elapsed:    0.3s finished\n"
     ]
    },
    {
     "name": "stdout",
     "output_type": "stream",
     "text": [
      "   \n",
      "cv_group4, Val RMSE: 3.601746316169861, Val MAE: 2.0014827840209874, Val R2/NSE: 0.7563680332474639\n"
     ]
    },
    {
     "name": "stderr",
     "output_type": "stream",
     "text": [
      "[Parallel(n_jobs=-1)]: Using backend ThreadingBackend with 12 concurrent workers.\n",
      "[Parallel(n_jobs=-1)]: Done  26 tasks      | elapsed:   16.0s\n",
      "[Parallel(n_jobs=-1)]: Done  50 out of  50 | elapsed:   26.0s finished\n",
      "[Parallel(n_jobs=12)]: Using backend ThreadingBackend with 12 concurrent workers.\n",
      "[Parallel(n_jobs=12)]: Done  26 tasks      | elapsed:    0.2s\n",
      "[Parallel(n_jobs=12)]: Done  50 out of  50 | elapsed:    0.2s finished\n",
      "[Parallel(n_jobs=-1)]: Using backend ThreadingBackend with 12 concurrent workers.\n"
     ]
    },
    {
     "name": "stdout",
     "output_type": "stream",
     "text": [
      "   \n",
      "cv_group1, Val RMSE: 3.6956866761295357, Val MAE: 1.9920746068257007, Val R2/NSE: 0.7254828436610641\n"
     ]
    },
    {
     "name": "stderr",
     "output_type": "stream",
     "text": [
      "[Parallel(n_jobs=-1)]: Done  26 tasks      | elapsed:   17.4s\n",
      "[Parallel(n_jobs=-1)]: Done  50 out of  50 | elapsed:   27.1s finished\n",
      "[Parallel(n_jobs=12)]: Using backend ThreadingBackend with 12 concurrent workers.\n",
      "[Parallel(n_jobs=12)]: Done  26 tasks      | elapsed:    0.2s\n",
      "[Parallel(n_jobs=12)]: Done  50 out of  50 | elapsed:    0.3s finished\n",
      "[Parallel(n_jobs=-1)]: Using backend ThreadingBackend with 12 concurrent workers.\n"
     ]
    },
    {
     "name": "stdout",
     "output_type": "stream",
     "text": [
      "   \n",
      "cv_group2, Val RMSE: 3.9614235261571262, Val MAE: 2.037475326396006, Val R2/NSE: 0.6488890515776868\n"
     ]
    },
    {
     "name": "stderr",
     "output_type": "stream",
     "text": [
      "[Parallel(n_jobs=-1)]: Done  26 tasks      | elapsed:   16.0s\n",
      "[Parallel(n_jobs=-1)]: Done  50 out of  50 | elapsed:   25.1s finished\n",
      "[Parallel(n_jobs=12)]: Using backend ThreadingBackend with 12 concurrent workers.\n",
      "[Parallel(n_jobs=12)]: Done  26 tasks      | elapsed:    0.2s\n",
      "[Parallel(n_jobs=12)]: Done  50 out of  50 | elapsed:    0.3s finished\n",
      "[Parallel(n_jobs=-1)]: Using backend ThreadingBackend with 12 concurrent workers.\n"
     ]
    },
    {
     "name": "stdout",
     "output_type": "stream",
     "text": [
      "   \n",
      "cv_group3, Val RMSE: 3.924824882860522, Val MAE: 2.1038901253074105, Val R2/NSE: 0.7159032025668777\n"
     ]
    },
    {
     "name": "stderr",
     "output_type": "stream",
     "text": [
      "[Parallel(n_jobs=-1)]: Done  26 tasks      | elapsed:   15.8s\n",
      "[Parallel(n_jobs=-1)]: Done  50 out of  50 | elapsed:   24.6s finished\n",
      "[Parallel(n_jobs=12)]: Using backend ThreadingBackend with 12 concurrent workers.\n",
      "[Parallel(n_jobs=12)]: Done  26 tasks      | elapsed:    0.2s\n",
      "[Parallel(n_jobs=12)]: Done  50 out of  50 | elapsed:    0.3s finished\n"
     ]
    },
    {
     "name": "stdout",
     "output_type": "stream",
     "text": [
      "   \n",
      "cv_group4, Val RMSE: 3.6092941095348063, Val MAE: 2.004009073744261, Val R2/NSE: 0.7553458565830098\n"
     ]
    },
    {
     "name": "stderr",
     "output_type": "stream",
     "text": [
      "[Parallel(n_jobs=-1)]: Using backend ThreadingBackend with 12 concurrent workers.\n",
      "[Parallel(n_jobs=-1)]: Done  26 tasks      | elapsed:   15.9s\n",
      "[Parallel(n_jobs=-1)]: Done  50 out of  50 | elapsed:   24.8s finished\n",
      "[Parallel(n_jobs=12)]: Using backend ThreadingBackend with 12 concurrent workers.\n",
      "[Parallel(n_jobs=12)]: Done  26 tasks      | elapsed:    0.2s\n",
      "[Parallel(n_jobs=12)]: Done  50 out of  50 | elapsed:    0.2s finished\n",
      "[Parallel(n_jobs=-1)]: Using backend ThreadingBackend with 12 concurrent workers.\n"
     ]
    },
    {
     "name": "stdout",
     "output_type": "stream",
     "text": [
      "   \n",
      "cv_group1, Val RMSE: 3.72083138370624, Val MAE: 2.004109683410557, Val R2/NSE: 0.7217346169523722\n"
     ]
    },
    {
     "name": "stderr",
     "output_type": "stream",
     "text": [
      "[Parallel(n_jobs=-1)]: Done  26 tasks      | elapsed:   14.9s\n",
      "[Parallel(n_jobs=-1)]: Done  50 out of  50 | elapsed:   23.9s finished\n",
      "[Parallel(n_jobs=12)]: Using backend ThreadingBackend with 12 concurrent workers.\n",
      "[Parallel(n_jobs=12)]: Done  26 tasks      | elapsed:    0.2s\n",
      "[Parallel(n_jobs=12)]: Done  50 out of  50 | elapsed:    0.3s finished\n",
      "[Parallel(n_jobs=-1)]: Using backend ThreadingBackend with 12 concurrent workers.\n"
     ]
    },
    {
     "name": "stdout",
     "output_type": "stream",
     "text": [
      "   \n",
      "cv_group2, Val RMSE: 3.9424542472218485, Val MAE: 2.02006796053712, Val R2/NSE: 0.652243590670609\n"
     ]
    },
    {
     "name": "stderr",
     "output_type": "stream",
     "text": [
      "[Parallel(n_jobs=-1)]: Done  26 tasks      | elapsed:   14.9s\n",
      "[Parallel(n_jobs=-1)]: Done  50 out of  50 | elapsed:   23.7s finished\n",
      "[Parallel(n_jobs=12)]: Using backend ThreadingBackend with 12 concurrent workers.\n",
      "[Parallel(n_jobs=12)]: Done  26 tasks      | elapsed:    0.2s\n",
      "[Parallel(n_jobs=12)]: Done  50 out of  50 | elapsed:    0.3s finished\n",
      "[Parallel(n_jobs=-1)]: Using backend ThreadingBackend with 12 concurrent workers.\n"
     ]
    },
    {
     "name": "stdout",
     "output_type": "stream",
     "text": [
      "   \n",
      "cv_group3, Val RMSE: 3.9035807443051005, Val MAE: 2.0929538340045926, Val R2/NSE: 0.7189703751625316\n"
     ]
    },
    {
     "name": "stderr",
     "output_type": "stream",
     "text": [
      "[Parallel(n_jobs=-1)]: Done  26 tasks      | elapsed:   14.1s\n",
      "[Parallel(n_jobs=-1)]: Done  50 out of  50 | elapsed:   22.6s finished\n",
      "[Parallel(n_jobs=12)]: Using backend ThreadingBackend with 12 concurrent workers.\n",
      "[Parallel(n_jobs=12)]: Done  26 tasks      | elapsed:    0.2s\n",
      "[Parallel(n_jobs=12)]: Done  50 out of  50 | elapsed:    0.3s finished\n",
      "[Parallel(n_jobs=-1)]: Using backend ThreadingBackend with 12 concurrent workers.\n"
     ]
    },
    {
     "name": "stdout",
     "output_type": "stream",
     "text": [
      "   \n",
      "cv_group4, Val RMSE: 3.594313288097409, Val MAE: 1.9949415735057565, Val R2/NSE: 0.7573725763007865\n"
     ]
    },
    {
     "name": "stderr",
     "output_type": "stream",
     "text": [
      "[Parallel(n_jobs=-1)]: Done  26 tasks      | elapsed:   17.9s\n",
      "[Parallel(n_jobs=-1)]: Done  50 out of  50 | elapsed:   28.6s finished\n",
      "[Parallel(n_jobs=12)]: Using backend ThreadingBackend with 12 concurrent workers.\n",
      "[Parallel(n_jobs=12)]: Done  26 tasks      | elapsed:    0.2s\n",
      "[Parallel(n_jobs=12)]: Done  50 out of  50 | elapsed:    0.3s finished\n",
      "[Parallel(n_jobs=-1)]: Using backend ThreadingBackend with 12 concurrent workers.\n"
     ]
    },
    {
     "name": "stdout",
     "output_type": "stream",
     "text": [
      "   \n",
      "cv_group1, Val RMSE: 3.7287577600377593, Val MAE: 2.007288889850102, Val R2/NSE: 0.7205477932461166\n"
     ]
    },
    {
     "name": "stderr",
     "output_type": "stream",
     "text": [
      "[Parallel(n_jobs=-1)]: Done  26 tasks      | elapsed:   18.0s\n",
      "[Parallel(n_jobs=-1)]: Done  50 out of  50 | elapsed:   29.0s finished\n",
      "[Parallel(n_jobs=12)]: Using backend ThreadingBackend with 12 concurrent workers.\n",
      "[Parallel(n_jobs=12)]: Done  26 tasks      | elapsed:    0.2s\n",
      "[Parallel(n_jobs=12)]: Done  50 out of  50 | elapsed:    0.3s finished\n",
      "[Parallel(n_jobs=-1)]: Using backend ThreadingBackend with 12 concurrent workers.\n"
     ]
    },
    {
     "name": "stdout",
     "output_type": "stream",
     "text": [
      "   \n",
      "cv_group2, Val RMSE: 3.960956740869972, Val MAE: 2.034475249684261, Val R2/NSE: 0.6489717914149178\n"
     ]
    },
    {
     "name": "stderr",
     "output_type": "stream",
     "text": [
      "[Parallel(n_jobs=-1)]: Done  26 tasks      | elapsed:   17.6s\n",
      "[Parallel(n_jobs=-1)]: Done  50 out of  50 | elapsed:   27.1s finished\n",
      "[Parallel(n_jobs=12)]: Using backend ThreadingBackend with 12 concurrent workers.\n",
      "[Parallel(n_jobs=12)]: Done  26 tasks      | elapsed:    0.2s\n",
      "[Parallel(n_jobs=12)]: Done  50 out of  50 | elapsed:    0.3s finished\n",
      "[Parallel(n_jobs=-1)]: Using backend ThreadingBackend with 12 concurrent workers.\n"
     ]
    },
    {
     "name": "stdout",
     "output_type": "stream",
     "text": [
      "   \n",
      "cv_group3, Val RMSE: 3.895940173140894, Val MAE: 2.0866857608270424, Val R2/NSE: 0.7200694304040224\n"
     ]
    },
    {
     "name": "stderr",
     "output_type": "stream",
     "text": [
      "[Parallel(n_jobs=-1)]: Done  26 tasks      | elapsed:   17.4s\n",
      "[Parallel(n_jobs=-1)]: Done  50 out of  50 | elapsed:   27.1s finished\n",
      "[Parallel(n_jobs=12)]: Using backend ThreadingBackend with 12 concurrent workers.\n"
     ]
    },
    {
     "name": "stdout",
     "output_type": "stream",
     "text": [
      "   \n",
      "cv_group4, Val RMSE: 3.599622114615819, Val MAE: 1.9976501743661585, Val R2/NSE: 0.756655322105208\n"
     ]
    },
    {
     "name": "stderr",
     "output_type": "stream",
     "text": [
      "[Parallel(n_jobs=12)]: Done  26 tasks      | elapsed:    0.2s\n",
      "[Parallel(n_jobs=12)]: Done  50 out of  50 | elapsed:    0.3s finished\n"
     ]
    }
   ],
   "source": [
    "result = [[\"cv_group\",\"feature_list\", \"feature_list\", \"RMSE\", \"MAE\", \"R2\"]]\n",
    "cv_group_list = [\"cv_group1\", \"cv_group2\", \"cv_group3\", \"cv_group4\"]\n",
    "feature_type = [\"f9\", \"f10\", \"f11\",\"f12\"]\n",
    "\n",
    "dataset = [[X_train_cv1, y_train_cv1, X_val_cv1, y_val_cv1],\n",
    "           [X_train_cv2, y_train_cv2, X_val_cv2, y_val_cv2],\n",
    "           [X_train_cv3, y_train_cv3, X_val_cv3, y_val_cv3],\n",
    "           [X_train_cv4, y_train_cv4, X_val_cv4, y_val_cv4]]#, X_test_cv3, y_test_cv3\n",
    "\n",
    "for idx_f, features in enumerate(feature_list):\n",
    "  for idx_d, data in enumerate(dataset):\n",
    "    model = RandomForestRegressor(**best_params, random_state=42, n_jobs=-1, verbose=1)\n",
    "    result += [RFR_fit_show_result(model, data[0], data[1], data[2], data[3], \n",
    "                                     feature_list[idx_f], cv_group_list[idx_d],\n",
    "                                     feature_type[idx_f])]"
   ]
  },
  {
   "cell_type": "code",
   "execution_count": null,
   "metadata": {
    "colab": {
     "base_uri": "https://localhost:8080/",
     "height": 551
    },
    "id": "Typq6vrMwN3I",
    "outputId": "2f0ab534-58b8-49e5-bdf8-cf1c26a26634"
   },
   "outputs": [
    {
     "data": {
      "text/html": [
       "\n",
       "  <div id=\"df-67f5a1b5-edc7-4b77-8bde-3fbf9da7a9cf\">\n",
       "    <div class=\"colab-df-container\">\n",
       "      <div>\n",
       "<style scoped>\n",
       "    .dataframe tbody tr th:only-of-type {\n",
       "        vertical-align: middle;\n",
       "    }\n",
       "\n",
       "    .dataframe tbody tr th {\n",
       "        vertical-align: top;\n",
       "    }\n",
       "\n",
       "    .dataframe thead th {\n",
       "        text-align: right;\n",
       "    }\n",
       "</style>\n",
       "<table border=\"1\" class=\"dataframe\">\n",
       "  <thead>\n",
       "    <tr style=\"text-align: right;\">\n",
       "      <th></th>\n",
       "      <th>cv_group</th>\n",
       "      <th>feature_cat</th>\n",
       "      <th>feature_list</th>\n",
       "      <th>RMSE</th>\n",
       "      <th>MAE</th>\n",
       "      <th>R2</th>\n",
       "    </tr>\n",
       "  </thead>\n",
       "  <tbody>\n",
       "    <tr>\n",
       "      <th>0</th>\n",
       "      <td>cv_group1</td>\n",
       "      <td>f9</td>\n",
       "      <td>[SW_IN_ERA, NDVI, NIRv, hour, Lai, TA_ERA, Fpar]</td>\n",
       "      <td>3.73187</td>\n",
       "      <td>2.01085</td>\n",
       "      <td>0.72008</td>\n",
       "    </tr>\n",
       "    <tr>\n",
       "      <th>1</th>\n",
       "      <td>cv_group2</td>\n",
       "      <td>f9</td>\n",
       "      <td>[SW_IN_ERA, NDVI, NIRv, hour, Lai, TA_ERA, Fpar]</td>\n",
       "      <td>3.98554</td>\n",
       "      <td>2.04832</td>\n",
       "      <td>0.64460</td>\n",
       "    </tr>\n",
       "    <tr>\n",
       "      <th>2</th>\n",
       "      <td>cv_group3</td>\n",
       "      <td>f9</td>\n",
       "      <td>[SW_IN_ERA, NDVI, NIRv, hour, Lai, TA_ERA, Fpar]</td>\n",
       "      <td>3.90630</td>\n",
       "      <td>2.09342</td>\n",
       "      <td>0.71858</td>\n",
       "    </tr>\n",
       "    <tr>\n",
       "      <th>3</th>\n",
       "      <td>cv_group4</td>\n",
       "      <td>f9</td>\n",
       "      <td>[SW_IN_ERA, NDVI, NIRv, hour, Lai, TA_ERA, Fpar]</td>\n",
       "      <td>3.60175</td>\n",
       "      <td>2.00148</td>\n",
       "      <td>0.75637</td>\n",
       "    </tr>\n",
       "    <tr>\n",
       "      <th>4</th>\n",
       "      <td>cv_group1</td>\n",
       "      <td>f10</td>\n",
       "      <td>[SW_IN_ERA, NDVI, NIRv, hour, Lai, TA_ERA, b1]</td>\n",
       "      <td>3.69569</td>\n",
       "      <td>1.99207</td>\n",
       "      <td>0.72548</td>\n",
       "    </tr>\n",
       "    <tr>\n",
       "      <th>5</th>\n",
       "      <td>cv_group2</td>\n",
       "      <td>f10</td>\n",
       "      <td>[SW_IN_ERA, NDVI, NIRv, hour, Lai, TA_ERA, b1]</td>\n",
       "      <td>3.96142</td>\n",
       "      <td>2.03748</td>\n",
       "      <td>0.64889</td>\n",
       "    </tr>\n",
       "    <tr>\n",
       "      <th>6</th>\n",
       "      <td>cv_group3</td>\n",
       "      <td>f10</td>\n",
       "      <td>[SW_IN_ERA, NDVI, NIRv, hour, Lai, TA_ERA, b1]</td>\n",
       "      <td>3.92482</td>\n",
       "      <td>2.10389</td>\n",
       "      <td>0.71590</td>\n",
       "    </tr>\n",
       "    <tr>\n",
       "      <th>7</th>\n",
       "      <td>cv_group4</td>\n",
       "      <td>f10</td>\n",
       "      <td>[SW_IN_ERA, NDVI, NIRv, hour, Lai, TA_ERA, b1]</td>\n",
       "      <td>3.60929</td>\n",
       "      <td>2.00401</td>\n",
       "      <td>0.75535</td>\n",
       "    </tr>\n",
       "    <tr>\n",
       "      <th>8</th>\n",
       "      <td>cv_group1</td>\n",
       "      <td>f11</td>\n",
       "      <td>[SW_IN_ERA, NDVI, NIRv, hour, Lai, TA_ERA, BES...</td>\n",
       "      <td>3.72083</td>\n",
       "      <td>2.00411</td>\n",
       "      <td>0.72173</td>\n",
       "    </tr>\n",
       "    <tr>\n",
       "      <th>9</th>\n",
       "      <td>cv_group2</td>\n",
       "      <td>f11</td>\n",
       "      <td>[SW_IN_ERA, NDVI, NIRv, hour, Lai, TA_ERA, BES...</td>\n",
       "      <td>3.94245</td>\n",
       "      <td>2.02007</td>\n",
       "      <td>0.65224</td>\n",
       "    </tr>\n",
       "    <tr>\n",
       "      <th>10</th>\n",
       "      <td>cv_group3</td>\n",
       "      <td>f11</td>\n",
       "      <td>[SW_IN_ERA, NDVI, NIRv, hour, Lai, TA_ERA, BES...</td>\n",
       "      <td>3.90358</td>\n",
       "      <td>2.09295</td>\n",
       "      <td>0.71897</td>\n",
       "    </tr>\n",
       "    <tr>\n",
       "      <th>11</th>\n",
       "      <td>cv_group4</td>\n",
       "      <td>f11</td>\n",
       "      <td>[SW_IN_ERA, NDVI, NIRv, hour, Lai, TA_ERA, BES...</td>\n",
       "      <td>3.59431</td>\n",
       "      <td>1.99494</td>\n",
       "      <td>0.75737</td>\n",
       "    </tr>\n",
       "    <tr>\n",
       "      <th>12</th>\n",
       "      <td>cv_group1</td>\n",
       "      <td>f12</td>\n",
       "      <td>[SW_IN_ERA, NDVI, NIRv, hour, Lai, TA_ERA, LW_...</td>\n",
       "      <td>3.72876</td>\n",
       "      <td>2.00729</td>\n",
       "      <td>0.72055</td>\n",
       "    </tr>\n",
       "    <tr>\n",
       "      <th>13</th>\n",
       "      <td>cv_group2</td>\n",
       "      <td>f12</td>\n",
       "      <td>[SW_IN_ERA, NDVI, NIRv, hour, Lai, TA_ERA, LW_...</td>\n",
       "      <td>3.96096</td>\n",
       "      <td>2.03448</td>\n",
       "      <td>0.64897</td>\n",
       "    </tr>\n",
       "    <tr>\n",
       "      <th>14</th>\n",
       "      <td>cv_group3</td>\n",
       "      <td>f12</td>\n",
       "      <td>[SW_IN_ERA, NDVI, NIRv, hour, Lai, TA_ERA, LW_...</td>\n",
       "      <td>3.89594</td>\n",
       "      <td>2.08669</td>\n",
       "      <td>0.72007</td>\n",
       "    </tr>\n",
       "    <tr>\n",
       "      <th>15</th>\n",
       "      <td>cv_group4</td>\n",
       "      <td>f12</td>\n",
       "      <td>[SW_IN_ERA, NDVI, NIRv, hour, Lai, TA_ERA, LW_...</td>\n",
       "      <td>3.59962</td>\n",
       "      <td>1.99765</td>\n",
       "      <td>0.75666</td>\n",
       "    </tr>\n",
       "  </tbody>\n",
       "</table>\n",
       "</div>\n",
       "      <button class=\"colab-df-convert\" onclick=\"convertToInteractive('df-67f5a1b5-edc7-4b77-8bde-3fbf9da7a9cf')\"\n",
       "              title=\"Convert this dataframe to an interactive table.\"\n",
       "              style=\"display:none;\">\n",
       "        \n",
       "  <svg xmlns=\"http://www.w3.org/2000/svg\" height=\"24px\"viewBox=\"0 0 24 24\"\n",
       "       width=\"24px\">\n",
       "    <path d=\"M0 0h24v24H0V0z\" fill=\"none\"/>\n",
       "    <path d=\"M18.56 5.44l.94 2.06.94-2.06 2.06-.94-2.06-.94-.94-2.06-.94 2.06-2.06.94zm-11 1L8.5 8.5l.94-2.06 2.06-.94-2.06-.94L8.5 2.5l-.94 2.06-2.06.94zm10 10l.94 2.06.94-2.06 2.06-.94-2.06-.94-.94-2.06-.94 2.06-2.06.94z\"/><path d=\"M17.41 7.96l-1.37-1.37c-.4-.4-.92-.59-1.43-.59-.52 0-1.04.2-1.43.59L10.3 9.45l-7.72 7.72c-.78.78-.78 2.05 0 2.83L4 21.41c.39.39.9.59 1.41.59.51 0 1.02-.2 1.41-.59l7.78-7.78 2.81-2.81c.8-.78.8-2.07 0-2.86zM5.41 20L4 18.59l7.72-7.72 1.47 1.35L5.41 20z\"/>\n",
       "  </svg>\n",
       "      </button>\n",
       "      \n",
       "  <style>\n",
       "    .colab-df-container {\n",
       "      display:flex;\n",
       "      flex-wrap:wrap;\n",
       "      gap: 12px;\n",
       "    }\n",
       "\n",
       "    .colab-df-convert {\n",
       "      background-color: #E8F0FE;\n",
       "      border: none;\n",
       "      border-radius: 50%;\n",
       "      cursor: pointer;\n",
       "      display: none;\n",
       "      fill: #1967D2;\n",
       "      height: 32px;\n",
       "      padding: 0 0 0 0;\n",
       "      width: 32px;\n",
       "    }\n",
       "\n",
       "    .colab-df-convert:hover {\n",
       "      background-color: #E2EBFA;\n",
       "      box-shadow: 0px 1px 2px rgba(60, 64, 67, 0.3), 0px 1px 3px 1px rgba(60, 64, 67, 0.15);\n",
       "      fill: #174EA6;\n",
       "    }\n",
       "\n",
       "    [theme=dark] .colab-df-convert {\n",
       "      background-color: #3B4455;\n",
       "      fill: #D2E3FC;\n",
       "    }\n",
       "\n",
       "    [theme=dark] .colab-df-convert:hover {\n",
       "      background-color: #434B5C;\n",
       "      box-shadow: 0px 1px 3px 1px rgba(0, 0, 0, 0.15);\n",
       "      filter: drop-shadow(0px 1px 2px rgba(0, 0, 0, 0.3));\n",
       "      fill: #FFFFFF;\n",
       "    }\n",
       "  </style>\n",
       "\n",
       "      <script>\n",
       "        const buttonEl =\n",
       "          document.querySelector('#df-67f5a1b5-edc7-4b77-8bde-3fbf9da7a9cf button.colab-df-convert');\n",
       "        buttonEl.style.display =\n",
       "          google.colab.kernel.accessAllowed ? 'block' : 'none';\n",
       "\n",
       "        async function convertToInteractive(key) {\n",
       "          const element = document.querySelector('#df-67f5a1b5-edc7-4b77-8bde-3fbf9da7a9cf');\n",
       "          const dataTable =\n",
       "            await google.colab.kernel.invokeFunction('convertToInteractive',\n",
       "                                                     [key], {});\n",
       "          if (!dataTable) return;\n",
       "\n",
       "          const docLinkHtml = 'Like what you see? Visit the ' +\n",
       "            '<a target=\"_blank\" href=https://colab.research.google.com/notebooks/data_table.ipynb>data table notebook</a>'\n",
       "            + ' to learn more about interactive tables.';\n",
       "          element.innerHTML = '';\n",
       "          dataTable['output_type'] = 'display_data';\n",
       "          await google.colab.output.renderOutput(dataTable, element);\n",
       "          const docLink = document.createElement('div');\n",
       "          docLink.innerHTML = docLinkHtml;\n",
       "          element.appendChild(docLink);\n",
       "        }\n",
       "      </script>\n",
       "    </div>\n",
       "  </div>\n",
       "  "
      ],
      "text/plain": [
       "     cv_group feature_cat                                       feature_list  \\\n",
       "0   cv_group1          f9   [SW_IN_ERA, NDVI, NIRv, hour, Lai, TA_ERA, Fpar]   \n",
       "1   cv_group2          f9   [SW_IN_ERA, NDVI, NIRv, hour, Lai, TA_ERA, Fpar]   \n",
       "2   cv_group3          f9   [SW_IN_ERA, NDVI, NIRv, hour, Lai, TA_ERA, Fpar]   \n",
       "3   cv_group4          f9   [SW_IN_ERA, NDVI, NIRv, hour, Lai, TA_ERA, Fpar]   \n",
       "4   cv_group1         f10     [SW_IN_ERA, NDVI, NIRv, hour, Lai, TA_ERA, b1]   \n",
       "5   cv_group2         f10     [SW_IN_ERA, NDVI, NIRv, hour, Lai, TA_ERA, b1]   \n",
       "6   cv_group3         f10     [SW_IN_ERA, NDVI, NIRv, hour, Lai, TA_ERA, b1]   \n",
       "7   cv_group4         f10     [SW_IN_ERA, NDVI, NIRv, hour, Lai, TA_ERA, b1]   \n",
       "8   cv_group1         f11  [SW_IN_ERA, NDVI, NIRv, hour, Lai, TA_ERA, BES...   \n",
       "9   cv_group2         f11  [SW_IN_ERA, NDVI, NIRv, hour, Lai, TA_ERA, BES...   \n",
       "10  cv_group3         f11  [SW_IN_ERA, NDVI, NIRv, hour, Lai, TA_ERA, BES...   \n",
       "11  cv_group4         f11  [SW_IN_ERA, NDVI, NIRv, hour, Lai, TA_ERA, BES...   \n",
       "12  cv_group1         f12  [SW_IN_ERA, NDVI, NIRv, hour, Lai, TA_ERA, LW_...   \n",
       "13  cv_group2         f12  [SW_IN_ERA, NDVI, NIRv, hour, Lai, TA_ERA, LW_...   \n",
       "14  cv_group3         f12  [SW_IN_ERA, NDVI, NIRv, hour, Lai, TA_ERA, LW_...   \n",
       "15  cv_group4         f12  [SW_IN_ERA, NDVI, NIRv, hour, Lai, TA_ERA, LW_...   \n",
       "\n",
       "      RMSE     MAE      R2  \n",
       "0  3.73187 2.01085 0.72008  \n",
       "1  3.98554 2.04832 0.64460  \n",
       "2  3.90630 2.09342 0.71858  \n",
       "3  3.60175 2.00148 0.75637  \n",
       "4  3.69569 1.99207 0.72548  \n",
       "5  3.96142 2.03748 0.64889  \n",
       "6  3.92482 2.10389 0.71590  \n",
       "7  3.60929 2.00401 0.75535  \n",
       "8  3.72083 2.00411 0.72173  \n",
       "9  3.94245 2.02007 0.65224  \n",
       "10 3.90358 2.09295 0.71897  \n",
       "11 3.59431 1.99494 0.75737  \n",
       "12 3.72876 2.00729 0.72055  \n",
       "13 3.96096 2.03448 0.64897  \n",
       "14 3.89594 2.08669 0.72007  \n",
       "15 3.59962 1.99765 0.75666  "
      ]
     },
     "execution_count": 223,
     "metadata": {},
     "output_type": "execute_result"
    }
   ],
   "source": [
    "dimensionality_reduction_RFR_df_5 = pd.DataFrame(result[1:], columns=result[0])\n",
    "dimensionality_reduction_RFR_df_5.columns = ['cv_group', 'feature_cat', 'feature_list', 'RMSE', 'MAE', 'R2']\n",
    "dimensionality_reduction_RFR_df_5"
   ]
  },
  {
   "cell_type": "code",
   "execution_count": null,
   "metadata": {
    "colab": {
     "base_uri": "https://localhost:8080/",
     "height": 206
    },
    "id": "FBORZ7LewNs8",
    "outputId": "131076fd-ade0-4afb-9430-8888f6cf9e26"
   },
   "outputs": [
    {
     "data": {
      "text/html": [
       "\n",
       "  <div id=\"df-d6fa50a5-d626-42f7-8486-43e55a68f940\">\n",
       "    <div class=\"colab-df-container\">\n",
       "      <div>\n",
       "<style scoped>\n",
       "    .dataframe tbody tr th:only-of-type {\n",
       "        vertical-align: middle;\n",
       "    }\n",
       "\n",
       "    .dataframe tbody tr th {\n",
       "        vertical-align: top;\n",
       "    }\n",
       "\n",
       "    .dataframe thead th {\n",
       "        text-align: right;\n",
       "    }\n",
       "</style>\n",
       "<table border=\"1\" class=\"dataframe\">\n",
       "  <thead>\n",
       "    <tr style=\"text-align: right;\">\n",
       "      <th></th>\n",
       "      <th>RMSE</th>\n",
       "      <th>MAE</th>\n",
       "      <th>R2</th>\n",
       "    </tr>\n",
       "    <tr>\n",
       "      <th>feature_cat</th>\n",
       "      <th></th>\n",
       "      <th></th>\n",
       "      <th></th>\n",
       "    </tr>\n",
       "  </thead>\n",
       "  <tbody>\n",
       "    <tr>\n",
       "      <th>f5</th>\n",
       "      <td>3.80053</td>\n",
       "      <td>2.03567</td>\n",
       "      <td>0.71094</td>\n",
       "    </tr>\n",
       "    <tr>\n",
       "      <th>f6</th>\n",
       "      <td>3.80053</td>\n",
       "      <td>2.03567</td>\n",
       "      <td>0.71094</td>\n",
       "    </tr>\n",
       "    <tr>\n",
       "      <th>f7</th>\n",
       "      <td>3.80610</td>\n",
       "      <td>2.04057</td>\n",
       "      <td>0.71022</td>\n",
       "    </tr>\n",
       "    <tr>\n",
       "      <th>f8</th>\n",
       "      <td>3.81024</td>\n",
       "      <td>2.04333</td>\n",
       "      <td>0.70955</td>\n",
       "    </tr>\n",
       "  </tbody>\n",
       "</table>\n",
       "</div>\n",
       "      <button class=\"colab-df-convert\" onclick=\"convertToInteractive('df-d6fa50a5-d626-42f7-8486-43e55a68f940')\"\n",
       "              title=\"Convert this dataframe to an interactive table.\"\n",
       "              style=\"display:none;\">\n",
       "        \n",
       "  <svg xmlns=\"http://www.w3.org/2000/svg\" height=\"24px\"viewBox=\"0 0 24 24\"\n",
       "       width=\"24px\">\n",
       "    <path d=\"M0 0h24v24H0V0z\" fill=\"none\"/>\n",
       "    <path d=\"M18.56 5.44l.94 2.06.94-2.06 2.06-.94-2.06-.94-.94-2.06-.94 2.06-2.06.94zm-11 1L8.5 8.5l.94-2.06 2.06-.94-2.06-.94L8.5 2.5l-.94 2.06-2.06.94zm10 10l.94 2.06.94-2.06 2.06-.94-2.06-.94-.94-2.06-.94 2.06-2.06.94z\"/><path d=\"M17.41 7.96l-1.37-1.37c-.4-.4-.92-.59-1.43-.59-.52 0-1.04.2-1.43.59L10.3 9.45l-7.72 7.72c-.78.78-.78 2.05 0 2.83L4 21.41c.39.39.9.59 1.41.59.51 0 1.02-.2 1.41-.59l7.78-7.78 2.81-2.81c.8-.78.8-2.07 0-2.86zM5.41 20L4 18.59l7.72-7.72 1.47 1.35L5.41 20z\"/>\n",
       "  </svg>\n",
       "      </button>\n",
       "      \n",
       "  <style>\n",
       "    .colab-df-container {\n",
       "      display:flex;\n",
       "      flex-wrap:wrap;\n",
       "      gap: 12px;\n",
       "    }\n",
       "\n",
       "    .colab-df-convert {\n",
       "      background-color: #E8F0FE;\n",
       "      border: none;\n",
       "      border-radius: 50%;\n",
       "      cursor: pointer;\n",
       "      display: none;\n",
       "      fill: #1967D2;\n",
       "      height: 32px;\n",
       "      padding: 0 0 0 0;\n",
       "      width: 32px;\n",
       "    }\n",
       "\n",
       "    .colab-df-convert:hover {\n",
       "      background-color: #E2EBFA;\n",
       "      box-shadow: 0px 1px 2px rgba(60, 64, 67, 0.3), 0px 1px 3px 1px rgba(60, 64, 67, 0.15);\n",
       "      fill: #174EA6;\n",
       "    }\n",
       "\n",
       "    [theme=dark] .colab-df-convert {\n",
       "      background-color: #3B4455;\n",
       "      fill: #D2E3FC;\n",
       "    }\n",
       "\n",
       "    [theme=dark] .colab-df-convert:hover {\n",
       "      background-color: #434B5C;\n",
       "      box-shadow: 0px 1px 3px 1px rgba(0, 0, 0, 0.15);\n",
       "      filter: drop-shadow(0px 1px 2px rgba(0, 0, 0, 0.3));\n",
       "      fill: #FFFFFF;\n",
       "    }\n",
       "  </style>\n",
       "\n",
       "      <script>\n",
       "        const buttonEl =\n",
       "          document.querySelector('#df-d6fa50a5-d626-42f7-8486-43e55a68f940 button.colab-df-convert');\n",
       "        buttonEl.style.display =\n",
       "          google.colab.kernel.accessAllowed ? 'block' : 'none';\n",
       "\n",
       "        async function convertToInteractive(key) {\n",
       "          const element = document.querySelector('#df-d6fa50a5-d626-42f7-8486-43e55a68f940');\n",
       "          const dataTable =\n",
       "            await google.colab.kernel.invokeFunction('convertToInteractive',\n",
       "                                                     [key], {});\n",
       "          if (!dataTable) return;\n",
       "\n",
       "          const docLinkHtml = 'Like what you see? Visit the ' +\n",
       "            '<a target=\"_blank\" href=https://colab.research.google.com/notebooks/data_table.ipynb>data table notebook</a>'\n",
       "            + ' to learn more about interactive tables.';\n",
       "          element.innerHTML = '';\n",
       "          dataTable['output_type'] = 'display_data';\n",
       "          await google.colab.output.renderOutput(dataTable, element);\n",
       "          const docLink = document.createElement('div');\n",
       "          docLink.innerHTML = docLinkHtml;\n",
       "          element.appendChild(docLink);\n",
       "        }\n",
       "      </script>\n",
       "    </div>\n",
       "  </div>\n",
       "  "
      ],
      "text/plain": [
       "               RMSE     MAE      R2\n",
       "feature_cat                        \n",
       "f5          3.80053 2.03567 0.71094\n",
       "f6          3.80053 2.03567 0.71094\n",
       "f7          3.80610 2.04057 0.71022\n",
       "f8          3.81024 2.04333 0.70955"
      ]
     },
     "execution_count": 224,
     "metadata": {},
     "output_type": "execute_result"
    }
   ],
   "source": [
    "dimensionality_reduction_RFR_df_4.groupby(by=[\"feature_cat\"]).mean()"
   ]
  },
  {
   "cell_type": "code",
   "execution_count": null,
   "metadata": {
    "id": "1ZMnupA5wNV-"
   },
   "outputs": [],
   "source": []
  },
  {
   "cell_type": "markdown",
   "metadata": {
    "id": "e1RG9TJLrcRX"
   },
   "source": [
    "# Rerun and store the best model(=group4)"
   ]
  },
  {
   "cell_type": "code",
   "execution_count": null,
   "metadata": {
    "id": "1ilLiOM6rz-D"
   },
   "outputs": [],
   "source": [
    "\n",
    "tier1 = ['SW_IN_ERA','NDVI','NIRv','hour','Lai']\n",
    "tier2 = ['TA_ERA','VPD_ERA','EVI','CSIF-SIFdaily']\n",
    "feature_list = tier1 + tier2"
   ]
  },
  {
   "cell_type": "code",
   "execution_count": null,
   "metadata": {
    "id": "kEEoVaaxsGeu"
   },
   "outputs": [],
   "source": [
    "# our manual split group\n",
    "# X_train_cv4, y_train_cv4, X_val_cv4, y_val_cv4, X_test_cv4, y_test_cv4 "
   ]
  },
  {
   "cell_type": "code",
   "execution_count": null,
   "metadata": {
    "colab": {
     "base_uri": "https://localhost:8080/"
    },
    "id": "Uaqmg6UgwX7E",
    "outputId": "3ec5e6e7-ad03-4d67-c730-18ed7cf127cd"
   },
   "outputs": [
    {
     "name": "stderr",
     "output_type": "stream",
     "text": [
      "[Parallel(n_jobs=-1)]: Using backend ThreadingBackend with 12 concurrent workers.\n",
      "[Parallel(n_jobs=-1)]: Done  26 tasks      | elapsed:   22.7s\n",
      "[Parallel(n_jobs=-1)]: Done  50 out of  50 | elapsed:   35.8s finished\n",
      "[Parallel(n_jobs=12)]: Using backend ThreadingBackend with 12 concurrent workers.\n",
      "[Parallel(n_jobs=12)]: Done  26 tasks      | elapsed:    0.2s\n",
      "[Parallel(n_jobs=12)]: Done  50 out of  50 | elapsed:    0.3s finished\n"
     ]
    }
   ],
   "source": [
    "# def RFR_fit_show_result(\n",
    "X_train, y_train, X_val, y_val  = X_train_cv4, y_train_cv4, X_val_cv4, y_val_cv4\n",
    "X_train = X_train[feature_list]\n",
    "y_train = y_train\n",
    "X_val = X_val[feature_list]\n",
    "y_val = y_val\n",
    "\n",
    "model = RandomForestRegressor(**best_params, random_state=42, n_jobs=-1, verbose=1)\n",
    "model.fit(X_train, y_train)\n",
    "# Predict on val/test sets\n",
    "y_pred_val = model.predict(X_val)\n",
    "# y_pred_test = model.predict(X_test)\n",
    "\n",
    "# Evaluate predictions - VAL\n",
    "rmse = np.sqrt(mean_squared_error(y_val, y_pred_val))\n",
    "mae = mean_absolute_error(y_val, y_pred_val)\n",
    "r2 = r2_score(y_val, y_pred_val)"
   ]
  },
  {
   "cell_type": "code",
   "execution_count": null,
   "metadata": {
    "colab": {
     "base_uri": "https://localhost:8080/"
    },
    "id": "bkiNb23kyTzU",
    "outputId": "4d85ee5e-a187-4c68-f16c-bb9043559ed3"
   },
   "outputs": [
    {
     "name": "stdout",
     "output_type": "stream",
     "text": [
      "Val RMSE: 3.5986371234271397, Val MAE: 2.0029512628185677, Val R2/NSE: 0.7567884802876568\n"
     ]
    }
   ],
   "source": [
    "print(f\"Val RMSE: {rmse}, Val MAE: {mae}, Val R2/NSE: {r2}\")"
   ]
  },
  {
   "cell_type": "code",
   "execution_count": null,
   "metadata": {
    "colab": {
     "base_uri": "https://localhost:8080/",
     "height": 36
    },
    "id": "72thgixpvzR6",
    "outputId": "066e8c1e-d6ff-4f73-d775-14004b39fec6"
   },
   "outputs": [
    {
     "data": {
      "application/vnd.google.colaboratory.intrinsic+json": {
       "type": "string"
      },
      "text/plain": [
       "'/content/drive/MyDrive/TFT_baseline/code/src/modeling/model_objects'"
      ]
     },
     "execution_count": 222,
     "metadata": {},
     "output_type": "execute_result"
    }
   ],
   "source": [
    "model_objects_dir"
   ]
  },
  {
   "cell_type": "code",
   "execution_count": null,
   "metadata": {
    "id": "RYB4PKBZamyN"
   },
   "outputs": [],
   "source": [
    "# Save model object\n",
    "filename = 'rfr_topX_best_April7.pkl'\n",
    "pickle.dump(model, open(filename, 'wb'))"
   ]
  },
  {
   "cell_type": "code",
   "execution_count": null,
   "metadata": {
    "colab": {
     "base_uri": "https://localhost:8080/"
    },
    "id": "jZHMoXd7zFCz",
    "outputId": "58c4d5ef-e5ed-4810-f4d5-72d2e37c7af3"
   },
   "outputs": [
    {
     "name": "stderr",
     "output_type": "stream",
     "text": [
      "[Parallel(n_jobs=12)]: Using backend ThreadingBackend with 12 concurrent workers.\n",
      "[Parallel(n_jobs=12)]: Done  26 tasks      | elapsed:    0.2s\n"
     ]
    },
    {
     "name": "stdout",
     "output_type": "stream",
     "text": [
      "0.7567884802876568\n"
     ]
    },
    {
     "name": "stderr",
     "output_type": "stream",
     "text": [
      "[Parallel(n_jobs=12)]: Done  50 out of  50 | elapsed:    0.3s finished\n"
     ]
    }
   ],
   "source": [
    "loaded_model = pickle.load(open(filename, 'rb'))\n",
    "result = loaded_model.score(X_val, y_val)\n",
    "print(result)"
   ]
  },
  {
   "cell_type": "code",
   "execution_count": null,
   "metadata": {
    "id": "ZCtElAxbamyO"
   },
   "outputs": [],
   "source": [
    "# Re-load saved model\n",
    "# try:\n",
    "#     model_pkl = joblib.load(model_save_path_pkl)\n",
    "#     model_jl = joblib.load(model_save_path_jl)\n",
    "#     print(\"Loaded both model objects\")\n",
    "# except:\n",
    "#     print(\"unable to load models, make sure object paths are correct and conda env in use\")"
   ]
  },
  {
   "cell_type": "code",
   "execution_count": null,
   "metadata": {
    "id": "9wu0b8bBamyO"
   },
   "outputs": [],
   "source": [
    "# Load scaler objects\n",
    "# scaler_v2_obj = '/root/co2-flux-hourly-gpp-modeling/code/src/preprocessing/preproc_objects/scaler_rfr-mvp-v2.joblib'\n",
    "# try:\n",
    "#     scaler_v2 = joblib.load(scaler_v2_obj)\n",
    "#     print(\"Loaded scaler objects\")\n",
    "# except:\n",
    "#     print(\"unable to load models, make sure object paths are correct and conda env in use\")"
   ]
  },
  {
   "cell_type": "markdown",
   "metadata": {
    "id": "JK_DTLrKamyP"
   },
   "source": [
    "## Evaluate RFR on Val & Test Set"
   ]
  },
  {
   "cell_type": "code",
   "execution_count": null,
   "metadata": {
    "id": "LDrbwlDlamyP"
   },
   "outputs": [],
   "source": [
    "# # Predict on val/test sets\n",
    "# y_pred_val = model_pkl.predict(X_val)\n",
    "# y_pred_test = model_pkl.predict(X_test)\n",
    "\n",
    "# # Evaluate predictions - VAL\n",
    "# rmse = np.sqrt(mean_squared_error(y_val, y_pred_val))\n",
    "# mae = mean_absolute_error(y_val, y_pred_val)\n",
    "# r2 = r2_score(y_val, y_pred_val)\n",
    "# print(f\"Val RMSE: {rmse}\")\n",
    "# print(f\"Val MAE: {mae}\")\n",
    "# print(f\"Val R2/NSE: {r2}\")"
   ]
  }
 ],
 "metadata": {
  "availableInstances": [
   {
    "_defaultOrder": 0,
    "_isFastLaunch": true,
    "category": "General purpose",
    "gpuNum": 0,
    "memoryGiB": 4,
    "name": "ml.t3.medium",
    "vcpuNum": 2
   },
   {
    "_defaultOrder": 1,
    "_isFastLaunch": false,
    "category": "General purpose",
    "gpuNum": 0,
    "memoryGiB": 8,
    "name": "ml.t3.large",
    "vcpuNum": 2
   },
   {
    "_defaultOrder": 2,
    "_isFastLaunch": false,
    "category": "General purpose",
    "gpuNum": 0,
    "memoryGiB": 16,
    "name": "ml.t3.xlarge",
    "vcpuNum": 4
   },
   {
    "_defaultOrder": 3,
    "_isFastLaunch": false,
    "category": "General purpose",
    "gpuNum": 0,
    "memoryGiB": 32,
    "name": "ml.t3.2xlarge",
    "vcpuNum": 8
   },
   {
    "_defaultOrder": 4,
    "_isFastLaunch": true,
    "category": "General purpose",
    "gpuNum": 0,
    "memoryGiB": 8,
    "name": "ml.m5.large",
    "vcpuNum": 2
   },
   {
    "_defaultOrder": 5,
    "_isFastLaunch": false,
    "category": "General purpose",
    "gpuNum": 0,
    "memoryGiB": 16,
    "name": "ml.m5.xlarge",
    "vcpuNum": 4
   },
   {
    "_defaultOrder": 6,
    "_isFastLaunch": false,
    "category": "General purpose",
    "gpuNum": 0,
    "memoryGiB": 32,
    "name": "ml.m5.2xlarge",
    "vcpuNum": 8
   },
   {
    "_defaultOrder": 7,
    "_isFastLaunch": false,
    "category": "General purpose",
    "gpuNum": 0,
    "memoryGiB": 64,
    "name": "ml.m5.4xlarge",
    "vcpuNum": 16
   },
   {
    "_defaultOrder": 8,
    "_isFastLaunch": false,
    "category": "General purpose",
    "gpuNum": 0,
    "memoryGiB": 128,
    "name": "ml.m5.8xlarge",
    "vcpuNum": 32
   },
   {
    "_defaultOrder": 9,
    "_isFastLaunch": false,
    "category": "General purpose",
    "gpuNum": 0,
    "memoryGiB": 192,
    "name": "ml.m5.12xlarge",
    "vcpuNum": 48
   },
   {
    "_defaultOrder": 10,
    "_isFastLaunch": false,
    "category": "General purpose",
    "gpuNum": 0,
    "memoryGiB": 256,
    "name": "ml.m5.16xlarge",
    "vcpuNum": 64
   },
   {
    "_defaultOrder": 11,
    "_isFastLaunch": false,
    "category": "General purpose",
    "gpuNum": 0,
    "memoryGiB": 384,
    "name": "ml.m5.24xlarge",
    "vcpuNum": 96
   },
   {
    "_defaultOrder": 12,
    "_isFastLaunch": false,
    "category": "General purpose",
    "gpuNum": 0,
    "memoryGiB": 8,
    "name": "ml.m5d.large",
    "vcpuNum": 2
   },
   {
    "_defaultOrder": 13,
    "_isFastLaunch": false,
    "category": "General purpose",
    "gpuNum": 0,
    "memoryGiB": 16,
    "name": "ml.m5d.xlarge",
    "vcpuNum": 4
   },
   {
    "_defaultOrder": 14,
    "_isFastLaunch": false,
    "category": "General purpose",
    "gpuNum": 0,
    "memoryGiB": 32,
    "name": "ml.m5d.2xlarge",
    "vcpuNum": 8
   },
   {
    "_defaultOrder": 15,
    "_isFastLaunch": false,
    "category": "General purpose",
    "gpuNum": 0,
    "memoryGiB": 64,
    "name": "ml.m5d.4xlarge",
    "vcpuNum": 16
   },
   {
    "_defaultOrder": 16,
    "_isFastLaunch": false,
    "category": "General purpose",
    "gpuNum": 0,
    "memoryGiB": 128,
    "name": "ml.m5d.8xlarge",
    "vcpuNum": 32
   },
   {
    "_defaultOrder": 17,
    "_isFastLaunch": false,
    "category": "General purpose",
    "gpuNum": 0,
    "memoryGiB": 192,
    "name": "ml.m5d.12xlarge",
    "vcpuNum": 48
   },
   {
    "_defaultOrder": 18,
    "_isFastLaunch": false,
    "category": "General purpose",
    "gpuNum": 0,
    "memoryGiB": 256,
    "name": "ml.m5d.16xlarge",
    "vcpuNum": 64
   },
   {
    "_defaultOrder": 19,
    "_isFastLaunch": false,
    "category": "General purpose",
    "gpuNum": 0,
    "memoryGiB": 384,
    "name": "ml.m5d.24xlarge",
    "vcpuNum": 96
   },
   {
    "_defaultOrder": 20,
    "_isFastLaunch": true,
    "category": "Compute optimized",
    "gpuNum": 0,
    "memoryGiB": 4,
    "name": "ml.c5.large",
    "vcpuNum": 2
   },
   {
    "_defaultOrder": 21,
    "_isFastLaunch": false,
    "category": "Compute optimized",
    "gpuNum": 0,
    "memoryGiB": 8,
    "name": "ml.c5.xlarge",
    "vcpuNum": 4
   },
   {
    "_defaultOrder": 22,
    "_isFastLaunch": false,
    "category": "Compute optimized",
    "gpuNum": 0,
    "memoryGiB": 16,
    "name": "ml.c5.2xlarge",
    "vcpuNum": 8
   },
   {
    "_defaultOrder": 23,
    "_isFastLaunch": false,
    "category": "Compute optimized",
    "gpuNum": 0,
    "memoryGiB": 32,
    "name": "ml.c5.4xlarge",
    "vcpuNum": 16
   },
   {
    "_defaultOrder": 24,
    "_isFastLaunch": false,
    "category": "Compute optimized",
    "gpuNum": 0,
    "memoryGiB": 72,
    "name": "ml.c5.9xlarge",
    "vcpuNum": 36
   },
   {
    "_defaultOrder": 25,
    "_isFastLaunch": false,
    "category": "Compute optimized",
    "gpuNum": 0,
    "memoryGiB": 96,
    "name": "ml.c5.12xlarge",
    "vcpuNum": 48
   },
   {
    "_defaultOrder": 26,
    "_isFastLaunch": false,
    "category": "Compute optimized",
    "gpuNum": 0,
    "memoryGiB": 144,
    "name": "ml.c5.18xlarge",
    "vcpuNum": 72
   },
   {
    "_defaultOrder": 27,
    "_isFastLaunch": false,
    "category": "Compute optimized",
    "gpuNum": 0,
    "memoryGiB": 192,
    "name": "ml.c5.24xlarge",
    "vcpuNum": 96
   },
   {
    "_defaultOrder": 28,
    "_isFastLaunch": true,
    "category": "Accelerated computing",
    "gpuNum": 1,
    "memoryGiB": 16,
    "name": "ml.g4dn.xlarge",
    "vcpuNum": 4
   },
   {
    "_defaultOrder": 29,
    "_isFastLaunch": false,
    "category": "Accelerated computing",
    "gpuNum": 1,
    "memoryGiB": 32,
    "name": "ml.g4dn.2xlarge",
    "vcpuNum": 8
   },
   {
    "_defaultOrder": 30,
    "_isFastLaunch": false,
    "category": "Accelerated computing",
    "gpuNum": 1,
    "memoryGiB": 64,
    "name": "ml.g4dn.4xlarge",
    "vcpuNum": 16
   },
   {
    "_defaultOrder": 31,
    "_isFastLaunch": false,
    "category": "Accelerated computing",
    "gpuNum": 1,
    "memoryGiB": 128,
    "name": "ml.g4dn.8xlarge",
    "vcpuNum": 32
   },
   {
    "_defaultOrder": 32,
    "_isFastLaunch": false,
    "category": "Accelerated computing",
    "gpuNum": 4,
    "memoryGiB": 192,
    "name": "ml.g4dn.12xlarge",
    "vcpuNum": 48
   },
   {
    "_defaultOrder": 33,
    "_isFastLaunch": false,
    "category": "Accelerated computing",
    "gpuNum": 1,
    "memoryGiB": 256,
    "name": "ml.g4dn.16xlarge",
    "vcpuNum": 64
   },
   {
    "_defaultOrder": 34,
    "_isFastLaunch": false,
    "category": "Accelerated computing",
    "gpuNum": 1,
    "memoryGiB": 61,
    "name": "ml.p3.2xlarge",
    "vcpuNum": 8
   },
   {
    "_defaultOrder": 35,
    "_isFastLaunch": false,
    "category": "Accelerated computing",
    "gpuNum": 4,
    "memoryGiB": 244,
    "name": "ml.p3.8xlarge",
    "vcpuNum": 32
   },
   {
    "_defaultOrder": 36,
    "_isFastLaunch": false,
    "category": "Accelerated computing",
    "gpuNum": 8,
    "memoryGiB": 488,
    "name": "ml.p3.16xlarge",
    "vcpuNum": 64
   },
   {
    "_defaultOrder": 37,
    "_isFastLaunch": false,
    "category": "Accelerated computing",
    "gpuNum": 8,
    "memoryGiB": 768,
    "name": "ml.p3dn.24xlarge",
    "vcpuNum": 96
   },
   {
    "_defaultOrder": 38,
    "_isFastLaunch": false,
    "category": "Memory Optimized",
    "gpuNum": 0,
    "memoryGiB": 16,
    "name": "ml.r5.large",
    "vcpuNum": 2
   },
   {
    "_defaultOrder": 39,
    "_isFastLaunch": false,
    "category": "Memory Optimized",
    "gpuNum": 0,
    "memoryGiB": 32,
    "name": "ml.r5.xlarge",
    "vcpuNum": 4
   },
   {
    "_defaultOrder": 40,
    "_isFastLaunch": false,
    "category": "Memory Optimized",
    "gpuNum": 0,
    "memoryGiB": 64,
    "name": "ml.r5.2xlarge",
    "vcpuNum": 8
   },
   {
    "_defaultOrder": 41,
    "_isFastLaunch": false,
    "category": "Memory Optimized",
    "gpuNum": 0,
    "memoryGiB": 128,
    "name": "ml.r5.4xlarge",
    "vcpuNum": 16
   },
   {
    "_defaultOrder": 42,
    "_isFastLaunch": false,
    "category": "Memory Optimized",
    "gpuNum": 0,
    "memoryGiB": 256,
    "name": "ml.r5.8xlarge",
    "vcpuNum": 32
   },
   {
    "_defaultOrder": 43,
    "_isFastLaunch": false,
    "category": "Memory Optimized",
    "gpuNum": 0,
    "memoryGiB": 384,
    "name": "ml.r5.12xlarge",
    "vcpuNum": 48
   },
   {
    "_defaultOrder": 44,
    "_isFastLaunch": false,
    "category": "Memory Optimized",
    "gpuNum": 0,
    "memoryGiB": 512,
    "name": "ml.r5.16xlarge",
    "vcpuNum": 64
   },
   {
    "_defaultOrder": 45,
    "_isFastLaunch": false,
    "category": "Memory Optimized",
    "gpuNum": 0,
    "memoryGiB": 768,
    "name": "ml.r5.24xlarge",
    "vcpuNum": 96
   },
   {
    "_defaultOrder": 46,
    "_isFastLaunch": false,
    "category": "Accelerated computing",
    "gpuNum": 1,
    "memoryGiB": 16,
    "name": "ml.g5.xlarge",
    "vcpuNum": 4
   },
   {
    "_defaultOrder": 47,
    "_isFastLaunch": false,
    "category": "Accelerated computing",
    "gpuNum": 1,
    "memoryGiB": 32,
    "name": "ml.g5.2xlarge",
    "vcpuNum": 8
   },
   {
    "_defaultOrder": 48,
    "_isFastLaunch": false,
    "category": "Accelerated computing",
    "gpuNum": 1,
    "memoryGiB": 64,
    "name": "ml.g5.4xlarge",
    "vcpuNum": 16
   },
   {
    "_defaultOrder": 49,
    "_isFastLaunch": false,
    "category": "Accelerated computing",
    "gpuNum": 1,
    "memoryGiB": 128,
    "name": "ml.g5.8xlarge",
    "vcpuNum": 32
   },
   {
    "_defaultOrder": 50,
    "_isFastLaunch": false,
    "category": "Accelerated computing",
    "gpuNum": 1,
    "memoryGiB": 256,
    "name": "ml.g5.16xlarge",
    "vcpuNum": 64
   },
   {
    "_defaultOrder": 51,
    "_isFastLaunch": false,
    "category": "Accelerated computing",
    "gpuNum": 4,
    "memoryGiB": 192,
    "name": "ml.g5.12xlarge",
    "vcpuNum": 48
   },
   {
    "_defaultOrder": 52,
    "_isFastLaunch": false,
    "category": "Accelerated computing",
    "gpuNum": 4,
    "memoryGiB": 384,
    "name": "ml.g5.24xlarge",
    "vcpuNum": 96
   },
   {
    "_defaultOrder": 53,
    "_isFastLaunch": false,
    "category": "Accelerated computing",
    "gpuNum": 8,
    "memoryGiB": 768,
    "name": "ml.g5.48xlarge",
    "vcpuNum": 192
   }
  ],
  "colab": {
   "collapsed_sections": [
    "bjvtop5QrRFe"
   ],
   "provenance": []
  },
  "gpuClass": "standard",
  "kernelspec": {
   "display_name": "Python [conda env:py310] (arn:aws:sagemaker:us-west-2:236514542706:image/datascience-1.0)",
   "language": "python",
   "name": "conda-env-py310-py__SAGEMAKER_INTERNAL__arn:aws:sagemaker:us-west-2:236514542706:image/datascience-1.0"
  },
  "language_info": {
   "codemirror_mode": {
    "name": "ipython",
    "version": 3
   },
   "file_extension": ".py",
   "mimetype": "text/x-python",
   "name": "python",
   "nbconvert_exporter": "python",
   "pygments_lexer": "ipython3",
   "version": "3.10.9"
  }
 },
 "nbformat": 4,
 "nbformat_minor": 4
}
