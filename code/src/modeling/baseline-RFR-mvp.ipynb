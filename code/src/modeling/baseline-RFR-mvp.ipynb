{
 "cells": [
  {
   "cell_type": "markdown",
   "metadata": {
    "id": "XaXGMTqJr71d"
   },
   "source": [
    "# Notebook Setup"
   ]
  },
  {
   "cell_type": "code",
   "execution_count": 2,
   "metadata": {
    "tags": []
   },
   "outputs": [],
   "source": [
    "#TODO: CHANGE THIS BASED ON YOUR OWN LOCAL SETTINGS\n",
    "#MY_HOME_ABS_PATH = \"/Users/jetcalz07/Desktop/MIDS/W210_Capstone/co2-flux-hourly-gpp-modeling\"\n",
    "MY_HOME_ABS_PATH = \"/root/co2-flux-hourly-gpp-modeling\""
   ]
  },
  {
   "cell_type": "markdown",
   "metadata": {
    "id": "y2bHb6TEy3_D"
   },
   "source": [
    "## Import Modules"
   ]
  },
  {
   "cell_type": "code",
   "execution_count": 3,
   "metadata": {
    "id": "1iRimJGJsAh7",
    "tags": []
   },
   "outputs": [],
   "source": [
    "import os\n",
    "os.environ[\"PYARROW_IGNORE_TIMEZONE\"] = \"1\"\n",
    "import sys\n",
    "import math\n",
    "import json\n",
    "import time\n",
    "import pandas as pd\n",
    "import numpy as np\n",
    "from calendar import monthrange\n",
    "from datetime import datetime\n",
    "from io import BytesIO\n",
    "import matplotlib.pyplot as plt\n",
    "import plotly.express as px\n",
    "import plotly.graph_objects as go\n",
    "\n",
    "from sklearn.ensemble import RandomForestRegressor\n",
    "from sklearn.metrics import mean_squared_error, mean_absolute_error, r2_score\n",
    "from sklearn.model_selection import GridSearchCV, cross_val_score, KFold\n",
    "\n",
    "\n",
    "# Load locale custome modules\n",
    "os.chdir(MY_HOME_ABS_PATH)\n",
    "sys.path.append(os.path.abspath(\"./code/src/tools\"))\n",
    "\n",
    "from CloudIO.AzStorageClient import AzStorageClient\n",
    "from data_pipeline_lib import *\n",
    "\n",
    "pd.set_option('display.max_rows', 100)\n",
    "pd.set_option('display.max_columns', None)\n",
    "pd.set_option('display.float_format', lambda x: '%.5f' % x)"
   ]
  },
  {
   "cell_type": "markdown",
   "metadata": {
    "id": "QEOCHI64ysC2"
   },
   "source": [
    "## Define Local File System Constants"
   ]
  },
  {
   "cell_type": "code",
   "execution_count": 4,
   "metadata": {
    "id": "H-AwqUa5sHYq",
    "tags": []
   },
   "outputs": [],
   "source": [
    "root_dir =  MY_HOME_ABS_PATH\n",
    "tmp_dir =  root_dir + os.sep + '.tmp'\n",
    "raw_data_dir = tmp_dir\n",
    "data_dir = root_dir + os.sep + 'data'\n",
    "cred_dir = root_dir + os.sep + '.cred'\n",
    "az_cred_file = cred_dir + os.sep + 'azblobcred.json'\n",
    "model_objects_dir = root_dir + os.sep + 'code/src/modeling/model_objects'"
   ]
  },
  {
   "cell_type": "markdown",
   "metadata": {
    "id": "ES9TafVQyVG7"
   },
   "source": [
    "# Load Train and Test dataset from Azure Storage Blob"
   ]
  },
  {
   "cell_type": "code",
   "execution_count": 5,
   "metadata": {
    "id": "pZcOmGLRzAd9",
    "tags": []
   },
   "outputs": [],
   "source": [
    "# Define dataset\n",
    "container = \"all-sites-data\"\n",
    "ext = \"parquet\"\n",
    "ver = \"mvp\"\n",
    "model = \"rfr\"\n",
    "train_blob_name = f\"{model}-full_2010_2015-train-v-{ver}.{ext}\"\n",
    "val_blob_name = f\"{model}-full_2010_2015-val-v-{ver}.{ext}\"\n",
    "test_blob_name = f\"{model}-full_2010_2015-test-v-{ver}.{ext}\""
   ]
  },
  {
   "cell_type": "code",
   "execution_count": 21,
   "metadata": {
    "id": "UOZGHip0yfGP",
    "tags": []
   },
   "outputs": [],
   "source": [
    "# Load splits from Azure\n",
    "azStorageClient = AzStorageClient(az_cred_file)\n",
    "\n",
    "train_fs = azStorageClient.downloadBlob2Stream(container, train_blob_name)\n",
    "train_df = pd.read_parquet(train_fs, engine='pyarrow')\n",
    "\n",
    "val_fs = azStorageClient.downloadBlob2Stream(container, val_blob_name)\n",
    "val_df = pd.read_parquet(val_fs, engine='pyarrow')\n",
    "\n",
    "test_fs = azStorageClient.downloadBlob2Stream(container, test_blob_name)\n",
    "test_df = pd.read_parquet(test_fs, engine='pyarrow')"
   ]
  },
  {
   "cell_type": "markdown",
   "metadata": {
    "id": "j_Ko-f2TsAYb"
   },
   "source": [
    "# Train RFR Model"
   ]
  },
  {
   "cell_type": "code",
   "execution_count": 22,
   "metadata": {
    "tags": []
   },
   "outputs": [],
   "source": [
    "# Prep x, y dataset for train\n",
    "target_variable = 'GPP_NT_VUT_REF'\n",
    "drop_cols = ['site_id', 'timestep_idx_local', 'timestep_idx_global', 'index', 'datetime','gap_flag_hour', 'gap_flag_month']\n",
    "\n",
    "X_train = train_df.drop([target_variable] + drop_cols, axis=1)\n",
    "y_train = train_df[target_variable]\n",
    "X_val = val_df.drop([target_variable] + drop_cols, axis=1)\n",
    "y_val = val_df[target_variable]\n",
    "X_test = test_df.drop([target_variable] + drop_cols, axis=1)\n",
    "y_test = test_df[target_variable]\n",
    "\n",
    "# Join train and val into one for CV\n",
    "X_train = pd.concat([X_train, X_val], axis=0)\n",
    "y_train = pd.concat([y_train, y_val], axis=0)"
   ]
  },
  {
   "cell_type": "code",
   "execution_count": 8,
   "metadata": {
    "tags": []
   },
   "outputs": [],
   "source": [
    "tune = False\n",
    "n_splits = 4\n",
    "\n",
    "if tune:\n",
    "\n",
    "    # Define the model parameters for CV\n",
    "    param_grid = {\n",
    "        'n_estimators': [50, 100],\n",
    "        'max_depth': [5, 10],\n",
    "        'max_features': [1.0, 'sqrt', 'log2']\n",
    "    }\n",
    "\n",
    "    # Fit RFR model with GridSearch tuning\n",
    "    start_time = time.time()\n",
    "\n",
    "    rf_model = RandomForestRegressor(random_state=42)\n",
    "    model = GridSearchCV(rf_model, param_grid=param_grid, cv=n_splits, n_jobs=-1, verbose=1)\n",
    "    model.fit(X_train, y_train)\n",
    "\n",
    "    end_time = time.time()\n",
    "    print(f\"Elapsed time: {(end_time - start_time)/60:.2f} minutes\")\n",
    "\n",
    "    # Print best params\n",
    "    best_params = model.best_params_\n",
    "    print(best_params)"
   ]
  },
  {
   "cell_type": "markdown",
   "metadata": {
    "tags": []
   },
   "source": [
    "## Save tuned model object"
   ]
  },
  {
   "cell_type": "code",
   "execution_count": 9,
   "metadata": {},
   "outputs": [],
   "source": [
    "model_save_path = os.path.join(model_objects_dir, 'rfr_mvp_tuned.pkl')\n",
    "\n",
    "if tune: \n",
    "    joblib.dump(model, model_save_path)\n",
    "else: \n",
    "    model = joblib.load(model_save_path)\n",
    "    best_params = model.get_params()"
   ]
  },
  {
   "attachments": {},
   "cell_type": "markdown",
   "metadata": {},
   "source": [
    "## Evaluate each fold"
   ]
  },
  {
   "cell_type": "code",
   "execution_count": null,
   "metadata": {},
   "outputs": [],
   "source": [
    "# Redefine the model using the best parameters\n",
    "tuned_rf_regressor = RandomForestRegressor(**best_params, random_state=42)\n",
    "kfold = KFold(n_splits=n_splits, shuffle=True, random_state=42)\n",
    "\n",
    "# Get metrics for each fold given model configuration\n",
    "r2_scores = cross_val_score(tuned_rf_regressor, X_train, y_train, cv=kfold, scoring='r2')\n",
    "neg_mse_scores = cross_val_score(tuned_rf_regressor, X_train, y_train, cv=kfold, scoring='neg_mean_squared_error')\n",
    "mae_scores = cross_val_score(tuned_rf_regressor, X_train, y_train, cv=kfold, scoring='neg_mean_absolute_error')"
   ]
  },
  {
   "cell_type": "code",
   "execution_count": null,
   "metadata": {},
   "outputs": [],
   "source": [
    "# Flip the neg_mse\n",
    "def rmse_neg_mse(neg_mse):\n",
    "    return np.sqrt(-neg_mse)\n",
    "\n",
    "rmse_scores = rmse_neg_mse(neg_mse_scores)"
   ]
  },
  {
   "cell_type": "code",
   "execution_count": null,
   "metadata": {},
   "outputs": [],
   "source": [
    "# Print performance metrics for each fold\n",
    "for i in range(k):\n",
    "    print(f\"Fold {i+1}: R^2 = {r2_scores[i]:.3f}, RMSE = {rmse_scores[i]:.3f}, MAE = {-mae_scores[i]:.3f}\")"
   ]
  },
  {
   "cell_type": "markdown",
   "metadata": {},
   "source": [
    "## Evaluate RFR on Val & Test Set"
   ]
  },
  {
   "cell_type": "code",
   "execution_count": 10,
   "metadata": {
    "tags": []
   },
   "outputs": [
    {
     "name": "stdout",
     "output_type": "stream",
     "text": [
      "Val RMSE: 3.8403763113868505\n",
      "Val MAE: 2.220654892812136\n",
      "Val R2/NSE: 0.7230154187161593\n",
      "\n",
      "Test RMSE: 3.664349571956649\n",
      "Test MAE: 2.0065062435396412\n",
      "Test R2/NSE: 0.6797643290176278\n"
     ]
    }
   ],
   "source": [
    "# Predict on val/test sets\n",
    "y_pred_val = model.predict(X_val)\n",
    "y_pred_test = model.predict(X_test)\n",
    "\n",
    "# Evaluate predictions - VAL\n",
    "rmse = np.sqrt(mean_squared_error(y_val, y_pred_val))\n",
    "mae = mean_absolute_error(y_val, y_pred_val)\n",
    "r2 = r2_score(y_val, y_pred_val)\n",
    "print(f\"Val RMSE: {rmse}\")\n",
    "print(f\"Val MAE: {mae}\")\n",
    "print(f\"Val R2/NSE: {r2}\")\n",
    "\n",
    "# Evaluate predictions - TEST\n",
    "rmse = np.sqrt(mean_squared_error(y_test, y_pred_test))\n",
    "mae = mean_absolute_error(y_test, y_pred_test)\n",
    "r2 = r2_score(y_test, y_pred_test)\n",
    "print(f\"\\nTest RMSE: {rmse}\")\n",
    "print(f\"Test MAE: {mae}\")\n",
    "print(f\"Test R2/NSE: {r2}\")"
   ]
  },
  {
   "cell_type": "markdown",
   "metadata": {},
   "source": [
    "## Get performance by IGBP type"
   ]
  },
  {
   "cell_type": "code",
   "execution_count": 46,
   "metadata": {
    "tags": []
   },
   "outputs": [
    {
     "data": {
      "text/html": [
       "<div>\n",
       "<style scoped>\n",
       "    .dataframe tbody tr th:only-of-type {\n",
       "        vertical-align: middle;\n",
       "    }\n",
       "\n",
       "    .dataframe tbody tr th {\n",
       "        vertical-align: top;\n",
       "    }\n",
       "\n",
       "    .dataframe thead th {\n",
       "        text-align: right;\n",
       "    }\n",
       "</style>\n",
       "<table border=\"1\" class=\"dataframe\">\n",
       "  <thead>\n",
       "    <tr style=\"text-align: right;\">\n",
       "      <th></th>\n",
       "      <th>MODIS_IGBP</th>\n",
       "      <th>RMSE</th>\n",
       "      <th>MAE</th>\n",
       "      <th>R2</th>\n",
       "    </tr>\n",
       "  </thead>\n",
       "  <tbody>\n",
       "    <tr>\n",
       "      <th>0</th>\n",
       "      <td>DBF</td>\n",
       "      <td>3.84000</td>\n",
       "      <td>2.10000</td>\n",
       "      <td>0.82000</td>\n",
       "    </tr>\n",
       "    <tr>\n",
       "      <th>1</th>\n",
       "      <td>MF</td>\n",
       "      <td>3.00000</td>\n",
       "      <td>1.92000</td>\n",
       "      <td>0.81000</td>\n",
       "    </tr>\n",
       "    <tr>\n",
       "      <th>2</th>\n",
       "      <td>WET</td>\n",
       "      <td>2.73000</td>\n",
       "      <td>1.68000</td>\n",
       "      <td>0.78000</td>\n",
       "    </tr>\n",
       "    <tr>\n",
       "      <th>3</th>\n",
       "      <td>ENF</td>\n",
       "      <td>3.69000</td>\n",
       "      <td>2.28000</td>\n",
       "      <td>0.73000</td>\n",
       "    </tr>\n",
       "    <tr>\n",
       "      <th>4</th>\n",
       "      <td>GRA</td>\n",
       "      <td>1.72000</td>\n",
       "      <td>1.07000</td>\n",
       "      <td>0.71000</td>\n",
       "    </tr>\n",
       "    <tr>\n",
       "      <th>5</th>\n",
       "      <td>CRO</td>\n",
       "      <td>5.12000</td>\n",
       "      <td>2.70000</td>\n",
       "      <td>0.58000</td>\n",
       "    </tr>\n",
       "    <tr>\n",
       "      <th>6</th>\n",
       "      <td>SAV</td>\n",
       "      <td>2.81000</td>\n",
       "      <td>1.58000</td>\n",
       "      <td>0.58000</td>\n",
       "    </tr>\n",
       "    <tr>\n",
       "      <th>7</th>\n",
       "      <td>WSA</td>\n",
       "      <td>6.34000</td>\n",
       "      <td>4.14000</td>\n",
       "      <td>0.33000</td>\n",
       "    </tr>\n",
       "    <tr>\n",
       "      <th>8</th>\n",
       "      <td>OSH</td>\n",
       "      <td>1.25000</td>\n",
       "      <td>0.73000</td>\n",
       "      <td>-0.01000</td>\n",
       "    </tr>\n",
       "  </tbody>\n",
       "</table>\n",
       "</div>"
      ],
      "text/plain": [
       "  MODIS_IGBP    RMSE     MAE       R2\n",
       "0        DBF 3.84000 2.10000  0.82000\n",
       "1         MF 3.00000 1.92000  0.81000\n",
       "2        WET 2.73000 1.68000  0.78000\n",
       "3        ENF 3.69000 2.28000  0.73000\n",
       "4        GRA 1.72000 1.07000  0.71000\n",
       "5        CRO 5.12000 2.70000  0.58000\n",
       "6        SAV 2.81000 1.58000  0.58000\n",
       "7        WSA 6.34000 4.14000  0.33000\n",
       "8        OSH 1.25000 0.73000 -0.01000"
      ]
     },
     "execution_count": 46,
     "metadata": {},
     "output_type": "execute_result"
    }
   ],
   "source": [
    "# Get categorical feature back from dummies\n",
    "igbp_cols = [x for x in test_df.columns if 'IGBP_' in x]\n",
    "test_df['MODIS_IGBP'] = test_df[igbp_cols].idxmax(axis=1)\n",
    "test_df['MODIS_IGBP'] = test_df['MODIS_IGBP'].apply(lambda x: x.split(\"_\")[-1])\n",
    "\n",
    "# Subset df\n",
    "test_trim = test_df[['MODIS_IGBP', 'GPP_NT_VUT_REF']].copy()\n",
    "test_trim['y_pred'] = y_pred_test\n",
    "\n",
    "# Get metrics by group\n",
    "igbp_group_metrics = {}\n",
    "groups = test_df['MODIS_IGBP'].unique()\n",
    "for group in groups:\n",
    "    test_group = test_trim.loc[test_trim['MODIS_IGBP']==group, ].copy()\n",
    "    \n",
    "    # Get metrics\n",
    "    rmse = np.sqrt(mean_squared_error(test_group['GPP_NT_VUT_REF'], test_group['y_pred']))\n",
    "    mae = mean_absolute_error(test_group['GPP_NT_VUT_REF'], test_group['y_pred'])\n",
    "    r2 = r2_score(test_group['GPP_NT_VUT_REF'], test_group['y_pred'])\n",
    "    \n",
    "    # Save to dict\n",
    "    igbp_group_metrics[group] = {'RMSE': round(rmse, 2), 'MAE': round(mae, 2), 'R2': round(r2, 2)}\n",
    "    \n",
    "igbp_metric_df = pd.DataFrame.from_dict(igbp_group_metrics, orient='index')\n",
    "igbp_metric_df = igbp_metric_df.reset_index().rename(columns={'index': 'MODIS_IGBP'})\n",
    "igbp_metric_df"
   ]
  },
  {
   "cell_type": "code",
   "execution_count": 48,
   "metadata": {
    "tags": []
   },
   "outputs": [
    {
     "data": {
      "text/html": [
       "<div>\n",
       "<style scoped>\n",
       "    .dataframe tbody tr th:only-of-type {\n",
       "        vertical-align: middle;\n",
       "    }\n",
       "\n",
       "    .dataframe tbody tr th {\n",
       "        vertical-align: top;\n",
       "    }\n",
       "\n",
       "    .dataframe thead th {\n",
       "        text-align: right;\n",
       "    }\n",
       "</style>\n",
       "<table border=\"1\" class=\"dataframe\">\n",
       "  <thead>\n",
       "    <tr style=\"text-align: right;\">\n",
       "      <th></th>\n",
       "      <th>MODIS_IGBP</th>\n",
       "      <th>mean_GPP</th>\n",
       "      <th>var_GPP</th>\n",
       "      <th>percent_dataset</th>\n",
       "      <th>RMSE</th>\n",
       "      <th>MAE</th>\n",
       "      <th>R2</th>\n",
       "    </tr>\n",
       "  </thead>\n",
       "  <tbody>\n",
       "    <tr>\n",
       "      <th>1</th>\n",
       "      <td>DBF</td>\n",
       "      <td>4.34944</td>\n",
       "      <td>80.20588</td>\n",
       "      <td>5.59371</td>\n",
       "      <td>3.84000</td>\n",
       "      <td>2.10000</td>\n",
       "      <td>0.82000</td>\n",
       "    </tr>\n",
       "    <tr>\n",
       "      <th>4</th>\n",
       "      <td>MF</td>\n",
       "      <td>4.04317</td>\n",
       "      <td>47.94906</td>\n",
       "      <td>14.92252</td>\n",
       "      <td>3.00000</td>\n",
       "      <td>1.92000</td>\n",
       "      <td>0.81000</td>\n",
       "    </tr>\n",
       "    <tr>\n",
       "      <th>7</th>\n",
       "      <td>WET</td>\n",
       "      <td>2.85502</td>\n",
       "      <td>33.92379</td>\n",
       "      <td>5.56307</td>\n",
       "      <td>2.73000</td>\n",
       "      <td>1.68000</td>\n",
       "      <td>0.78000</td>\n",
       "    </tr>\n",
       "    <tr>\n",
       "      <th>2</th>\n",
       "      <td>ENF</td>\n",
       "      <td>4.39118</td>\n",
       "      <td>49.85586</td>\n",
       "      <td>15.86714</td>\n",
       "      <td>3.69000</td>\n",
       "      <td>2.28000</td>\n",
       "      <td>0.73000</td>\n",
       "    </tr>\n",
       "    <tr>\n",
       "      <th>3</th>\n",
       "      <td>GRA</td>\n",
       "      <td>1.42292</td>\n",
       "      <td>10.06766</td>\n",
       "      <td>11.85887</td>\n",
       "      <td>1.72000</td>\n",
       "      <td>1.07000</td>\n",
       "      <td>0.71000</td>\n",
       "    </tr>\n",
       "    <tr>\n",
       "      <th>0</th>\n",
       "      <td>CRO</td>\n",
       "      <td>4.34011</td>\n",
       "      <td>62.82785</td>\n",
       "      <td>16.14287</td>\n",
       "      <td>5.12000</td>\n",
       "      <td>2.70000</td>\n",
       "      <td>0.58000</td>\n",
       "    </tr>\n",
       "    <tr>\n",
       "      <th>6</th>\n",
       "      <td>SAV</td>\n",
       "      <td>1.94456</td>\n",
       "      <td>18.81930</td>\n",
       "      <td>15.20080</td>\n",
       "      <td>2.81000</td>\n",
       "      <td>1.58000</td>\n",
       "      <td>0.58000</td>\n",
       "    </tr>\n",
       "    <tr>\n",
       "      <th>8</th>\n",
       "      <td>WSA</td>\n",
       "      <td>2.56527</td>\n",
       "      <td>59.98900</td>\n",
       "      <td>6.92895</td>\n",
       "      <td>6.34000</td>\n",
       "      <td>4.14000</td>\n",
       "      <td>0.33000</td>\n",
       "    </tr>\n",
       "    <tr>\n",
       "      <th>5</th>\n",
       "      <td>OSH</td>\n",
       "      <td>0.07602</td>\n",
       "      <td>1.54997</td>\n",
       "      <td>7.92208</td>\n",
       "      <td>1.25000</td>\n",
       "      <td>0.73000</td>\n",
       "      <td>-0.01000</td>\n",
       "    </tr>\n",
       "  </tbody>\n",
       "</table>\n",
       "</div>"
      ],
      "text/plain": [
       "  MODIS_IGBP  mean_GPP  var_GPP  percent_dataset    RMSE     MAE       R2\n",
       "1        DBF   4.34944 80.20588          5.59371 3.84000 2.10000  0.82000\n",
       "4         MF   4.04317 47.94906         14.92252 3.00000 1.92000  0.81000\n",
       "7        WET   2.85502 33.92379          5.56307 2.73000 1.68000  0.78000\n",
       "2        ENF   4.39118 49.85586         15.86714 3.69000 2.28000  0.73000\n",
       "3        GRA   1.42292 10.06766         11.85887 1.72000 1.07000  0.71000\n",
       "0        CRO   4.34011 62.82785         16.14287 5.12000 2.70000  0.58000\n",
       "6        SAV   1.94456 18.81930         15.20080 2.81000 1.58000  0.58000\n",
       "8        WSA   2.56527 59.98900          6.92895 6.34000 4.14000  0.33000\n",
       "5        OSH   0.07602  1.54997          7.92208 1.25000 0.73000 -0.01000"
      ]
     },
     "execution_count": 48,
     "metadata": {},
     "output_type": "execute_result"
    }
   ],
   "source": [
    "# compute the percentage of the dataset represented by each group\n",
    "group_sizes = test_trim.groupby('MODIS_IGBP').size()\n",
    "percentages = group_sizes / len(test_trim) * 100\n",
    "group_stats = test_trim.groupby('MODIS_IGBP')['GPP_NT_VUT_REF'].agg(['mean', 'var'])\n",
    "group_stats.columns = ['mean_GPP', 'var_GPP']\n",
    "group_stats['percent_dataset'] = percentages\n",
    "group_stats = group_stats.reset_index()\n",
    "\n",
    "merged_df = pd.merge(group_stats, igbp_metric_df, on='MODIS_IGBP')\n",
    "merged_df.sort_values('R2', ascending=False, inplace=True)\n",
    "merged_df"
   ]
  },
  {
   "cell_type": "markdown",
   "metadata": {},
   "source": [
    "## Feature Importances"
   ]
  },
  {
   "cell_type": "code",
   "execution_count": 53,
   "metadata": {},
   "outputs": [
    {
     "data": {
      "image/png": "[encoded data removed]",
      "text/plain": [
       "<Figure size 640x480 with 1 Axes>"
      ]
     },
     "metadata": {},
     "output_type": "display_data"
    }
   ],
   "source": [
    "# get the feature importances\n",
    "best_rf = model.best_estimator_\n",
    "importances = pd.Series(best_rf.feature_importances_, index=X_test.columns).sort_values(ascending=False)\n",
    "\n",
    "\n",
    "# Visualize\n",
    "importances_sorted = importances.sort_values(ascending=True)[-20:]\n",
    "\n",
    "fig, ax = plt.subplots()\n",
    "ax.barh(importances_sorted.index, importances_sorted.values)\n",
    "ax.set_title('Feature Importances')\n",
    "ax.set_xlabel('Importance')\n",
    "ax.set_ylabel('Feature')\n",
    "fig.tight_layout()\n",
    "plt.show()"
   ]
  },
  {
   "cell_type": "code",
   "execution_count": 49,
   "metadata": {
    "tags": []
   },
   "outputs": [
    {
     "name": "stdout",
     "output_type": "stream",
     "text": [
      "SW_IN_ERA         0.36612\n",
      "hour              0.12699\n",
      "Lai               0.06946\n",
      "NIRv              0.06277\n",
      "VPD_ERA           0.05913\n",
      "CSIF-SIFdaily     0.03317\n",
      "NDVI              0.03232\n",
      "EVI               0.03212\n",
      "Fpar              0.02548\n",
      "TA_ERA            0.02528\n",
      "b1                0.01469\n",
      "b7                0.01451\n",
      "LST_Day           0.01451\n",
      "BESS-PARdiff      0.01361\n",
      "NDWI              0.01206\n",
      "b2                0.00879\n",
      "b3                0.00858\n",
      "b4                0.00596\n",
      "month             0.00564\n",
      "BESS-RSDN         0.00551\n",
      "LW_IN_ERA         0.00528\n",
      "LST_Night         0.00503\n",
      "Ts                0.00493\n",
      "BESS-PAR          0.00433\n",
      "PET               0.00430\n",
      "b6                0.00355\n",
      "MODIS_LC          0.00342\n",
      "ESACCI-sm         0.00321\n",
      "c4_percent        0.00293\n",
      "koppen_sub        0.00290\n",
      "b5                0.00246\n",
      "koppen_main       0.00231\n",
      "P_ERA             0.00223\n",
      "c3c4_rotation     0.00220\n",
      "PA_ERA            0.00198\n",
      "MODIS_IGBP_MF     0.00164\n",
      "MODIS_IGBP_WAT    0.00122\n",
      "MODIS_IGBP_WSA    0.00115\n",
      "MODIS_PFT_MF      0.00105\n",
      "MODIS_PFT_Other   0.00103\n",
      "c3c4_C3           0.00077\n",
      "MODIS_PFT_CRO     0.00070\n",
      "Percent_Snow      0.00066\n",
      "year              0.00054\n",
      "MODIS_IGBP_CRO    0.00053\n",
      "MODIS_PFT_SA      0.00051\n",
      "MODIS_PFT_SH      0.00048\n",
      "MODIS_IGBP_OSH    0.00036\n",
      "MODIS_IGBP_SAV    0.00028\n",
      "MODIS_IGBP_DBF    0.00016\n",
      "MODIS_IGBP_URB    0.00016\n",
      "MODIS_IGBP_GRA    0.00013\n",
      "MODIS_PFT_ENF     0.00012\n",
      "MODIS_IGBP_ENF    0.00011\n",
      "MODIS_PFT_GRA     0.00011\n",
      "day               0.00011\n",
      "c3c4_mix          0.00011\n",
      "MODIS_PFT_EBF     0.00010\n",
      "MODIS_PFT_DBF     0.00008\n",
      "MODIS_IGBP_EBF    0.00007\n",
      "c3c4_C4           0.00005\n",
      "MODIS_IGBP_CSH    0.00002\n",
      "c3c4_unknown      0.00000\n",
      "MODIS_IGBP_WET    0.00000\n",
      "dtype: float64\n"
     ]
    }
   ],
   "source": [
    "print(importances)"
   ]
  },
  {
   "cell_type": "code",
   "execution_count": null,
   "metadata": {},
   "outputs": [],
   "source": []
  }
 ],
 "metadata": {
  "availableInstances": [
   {
    "_defaultOrder": 0,
    "_isFastLaunch": true,
    "category": "General purpose",
    "gpuNum": 0,
    "memoryGiB": 4,
    "name": "ml.t3.medium",
    "vcpuNum": 2
   },
   {
    "_defaultOrder": 1,
    "_isFastLaunch": false,
    "category": "General purpose",
    "gpuNum": 0,
    "memoryGiB": 8,
    "name": "ml.t3.large",
    "vcpuNum": 2
   },
   {
    "_defaultOrder": 2,
    "_isFastLaunch": false,
    "category": "General purpose",
    "gpuNum": 0,
    "memoryGiB": 16,
    "name": "ml.t3.xlarge",
    "vcpuNum": 4
   },
   {
    "_defaultOrder": 3,
    "_isFastLaunch": false,
    "category": "General purpose",
    "gpuNum": 0,
    "memoryGiB": 32,
    "name": "ml.t3.2xlarge",
    "vcpuNum": 8
   },
   {
    "_defaultOrder": 4,
    "_isFastLaunch": true,
    "category": "General purpose",
    "gpuNum": 0,
    "memoryGiB": 8,
    "name": "ml.m5.large",
    "vcpuNum": 2
   },
   {
    "_defaultOrder": 5,
    "_isFastLaunch": false,
    "category": "General purpose",
    "gpuNum": 0,
    "memoryGiB": 16,
    "name": "ml.m5.xlarge",
    "vcpuNum": 4
   },
   {
    "_defaultOrder": 6,
    "_isFastLaunch": false,
    "category": "General purpose",
    "gpuNum": 0,
    "memoryGiB": 32,
    "name": "ml.m5.2xlarge",
    "vcpuNum": 8
   },
   {
    "_defaultOrder": 7,
    "_isFastLaunch": false,
    "category": "General purpose",
    "gpuNum": 0,
    "memoryGiB": 64,
    "name": "ml.m5.4xlarge",
    "vcpuNum": 16
   },
   {
    "_defaultOrder": 8,
    "_isFastLaunch": false,
    "category": "General purpose",
    "gpuNum": 0,
    "memoryGiB": 128,
    "name": "ml.m5.8xlarge",
    "vcpuNum": 32
   },
   {
    "_defaultOrder": 9,
    "_isFastLaunch": false,
    "category": "General purpose",
    "gpuNum": 0,
    "memoryGiB": 192,
    "name": "ml.m5.12xlarge",
    "vcpuNum": 48
   },
   {
    "_defaultOrder": 10,
    "_isFastLaunch": false,
    "category": "General purpose",
    "gpuNum": 0,
    "memoryGiB": 256,
    "name": "ml.m5.16xlarge",
    "vcpuNum": 64
   },
   {
    "_defaultOrder": 11,
    "_isFastLaunch": false,
    "category": "General purpose",
    "gpuNum": 0,
    "memoryGiB": 384,
    "name": "ml.m5.24xlarge",
    "vcpuNum": 96
   },
   {
    "_defaultOrder": 12,
    "_isFastLaunch": false,
    "category": "General purpose",
    "gpuNum": 0,
    "memoryGiB": 8,
    "name": "ml.m5d.large",
    "vcpuNum": 2
   },
   {
    "_defaultOrder": 13,
    "_isFastLaunch": false,
    "category": "General purpose",
    "gpuNum": 0,
    "memoryGiB": 16,
    "name": "ml.m5d.xlarge",
    "vcpuNum": 4
   },
   {
    "_defaultOrder": 14,
    "_isFastLaunch": false,
    "category": "General purpose",
    "gpuNum": 0,
    "memoryGiB": 32,
    "name": "ml.m5d.2xlarge",
    "vcpuNum": 8
   },
   {
    "_defaultOrder": 15,
    "_isFastLaunch": false,
    "category": "General purpose",
    "gpuNum": 0,
    "memoryGiB": 64,
    "name": "ml.m5d.4xlarge",
    "vcpuNum": 16
   },
   {
    "_defaultOrder": 16,
    "_isFastLaunch": false,
    "category": "General purpose",
    "gpuNum": 0,
    "memoryGiB": 128,
    "name": "ml.m5d.8xlarge",
    "vcpuNum": 32
   },
   {
    "_defaultOrder": 17,
    "_isFastLaunch": false,
    "category": "General purpose",
    "gpuNum": 0,
    "memoryGiB": 192,
    "name": "ml.m5d.12xlarge",
    "vcpuNum": 48
   },
   {
    "_defaultOrder": 18,
    "_isFastLaunch": false,
    "category": "General purpose",
    "gpuNum": 0,
    "memoryGiB": 256,
    "name": "ml.m5d.16xlarge",
    "vcpuNum": 64
   },
   {
    "_defaultOrder": 19,
    "_isFastLaunch": false,
    "category": "General purpose",
    "gpuNum": 0,
    "memoryGiB": 384,
    "name": "ml.m5d.24xlarge",
    "vcpuNum": 96
   },
   {
    "_defaultOrder": 20,
    "_isFastLaunch": true,
    "category": "Compute optimized",
    "gpuNum": 0,
    "memoryGiB": 4,
    "name": "ml.c5.large",
    "vcpuNum": 2
   },
   {
    "_defaultOrder": 21,
    "_isFastLaunch": false,
    "category": "Compute optimized",
    "gpuNum": 0,
    "memoryGiB": 8,
    "name": "ml.c5.xlarge",
    "vcpuNum": 4
   },
   {
    "_defaultOrder": 22,
    "_isFastLaunch": false,
    "category": "Compute optimized",
    "gpuNum": 0,
    "memoryGiB": 16,
    "name": "ml.c5.2xlarge",
    "vcpuNum": 8
   },
   {
    "_defaultOrder": 23,
    "_isFastLaunch": false,
    "category": "Compute optimized",
    "gpuNum": 0,
    "memoryGiB": 32,
    "name": "ml.c5.4xlarge",
    "vcpuNum": 16
   },
   {
    "_defaultOrder": 24,
    "_isFastLaunch": false,
    "category": "Compute optimized",
    "gpuNum": 0,
    "memoryGiB": 72,
    "name": "ml.c5.9xlarge",
    "vcpuNum": 36
   },
   {
    "_defaultOrder": 25,
    "_isFastLaunch": false,
    "category": "Compute optimized",
    "gpuNum": 0,
    "memoryGiB": 96,
    "name": "ml.c5.12xlarge",
    "vcpuNum": 48
   },
   {
    "_defaultOrder": 26,
    "_isFastLaunch": false,
    "category": "Compute optimized",
    "gpuNum": 0,
    "memoryGiB": 144,
    "name": "ml.c5.18xlarge",
    "vcpuNum": 72
   },
   {
    "_defaultOrder": 27,
    "_isFastLaunch": false,
    "category": "Compute optimized",
    "gpuNum": 0,
    "memoryGiB": 192,
    "name": "ml.c5.24xlarge",
    "vcpuNum": 96
   },
   {
    "_defaultOrder": 28,
    "_isFastLaunch": true,
    "category": "Accelerated computing",
    "gpuNum": 1,
    "memoryGiB": 16,
    "name": "ml.g4dn.xlarge",
    "vcpuNum": 4
   },
   {
    "_defaultOrder": 29,
    "_isFastLaunch": false,
    "category": "Accelerated computing",
    "gpuNum": 1,
    "memoryGiB": 32,
    "name": "ml.g4dn.2xlarge",
    "vcpuNum": 8
   },
   {
    "_defaultOrder": 30,
    "_isFastLaunch": false,
    "category": "Accelerated computing",
    "gpuNum": 1,
    "memoryGiB": 64,
    "name": "ml.g4dn.4xlarge",
    "vcpuNum": 16
   },
   {
    "_defaultOrder": 31,
    "_isFastLaunch": false,
    "category": "Accelerated computing",
    "gpuNum": 1,
    "memoryGiB": 128,
    "name": "ml.g4dn.8xlarge",
    "vcpuNum": 32
   },
   {
    "_defaultOrder": 32,
    "_isFastLaunch": false,
    "category": "Accelerated computing",
    "gpuNum": 4,
    "memoryGiB": 192,
    "name": "ml.g4dn.12xlarge",
    "vcpuNum": 48
   },
   {
    "_defaultOrder": 33,
    "_isFastLaunch": false,
    "category": "Accelerated computing",
    "gpuNum": 1,
    "memoryGiB": 256,
    "name": "ml.g4dn.16xlarge",
    "vcpuNum": 64
   },
   {
    "_defaultOrder": 34,
    "_isFastLaunch": false,
    "category": "Accelerated computing",
    "gpuNum": 1,
    "memoryGiB": 61,
    "name": "ml.p3.2xlarge",
    "vcpuNum": 8
   },
   {
    "_defaultOrder": 35,
    "_isFastLaunch": false,
    "category": "Accelerated computing",
    "gpuNum": 4,
    "memoryGiB": 244,
    "name": "ml.p3.8xlarge",
    "vcpuNum": 32
   },
   {
    "_defaultOrder": 36,
    "_isFastLaunch": false,
    "category": "Accelerated computing",
    "gpuNum": 8,
    "memoryGiB": 488,
    "name": "ml.p3.16xlarge",
    "vcpuNum": 64
   },
   {
    "_defaultOrder": 37,
    "_isFastLaunch": false,
    "category": "Accelerated computing",
    "gpuNum": 8,
    "memoryGiB": 768,
    "name": "ml.p3dn.24xlarge",
    "vcpuNum": 96
   },
   {
    "_defaultOrder": 38,
    "_isFastLaunch": false,
    "category": "Memory Optimized",
    "gpuNum": 0,
    "memoryGiB": 16,
    "name": "ml.r5.large",
    "vcpuNum": 2
   },
   {
    "_defaultOrder": 39,
    "_isFastLaunch": false,
    "category": "Memory Optimized",
    "gpuNum": 0,
    "memoryGiB": 32,
    "name": "ml.r5.xlarge",
    "vcpuNum": 4
   },
   {
    "_defaultOrder": 40,
    "_isFastLaunch": false,
    "category": "Memory Optimized",
    "gpuNum": 0,
    "memoryGiB": 64,
    "name": "ml.r5.2xlarge",
    "vcpuNum": 8
   },
   {
    "_defaultOrder": 41,
    "_isFastLaunch": false,
    "category": "Memory Optimized",
    "gpuNum": 0,
    "memoryGiB": 128,
    "name": "ml.r5.4xlarge",
    "vcpuNum": 16
   },
   {
    "_defaultOrder": 42,
    "_isFastLaunch": false,
    "category": "Memory Optimized",
    "gpuNum": 0,
    "memoryGiB": 256,
    "name": "ml.r5.8xlarge",
    "vcpuNum": 32
   },
   {
    "_defaultOrder": 43,
    "_isFastLaunch": false,
    "category": "Memory Optimized",
    "gpuNum": 0,
    "memoryGiB": 384,
    "name": "ml.r5.12xlarge",
    "vcpuNum": 48
   },
   {
    "_defaultOrder": 44,
    "_isFastLaunch": false,
    "category": "Memory Optimized",
    "gpuNum": 0,
    "memoryGiB": 512,
    "name": "ml.r5.16xlarge",
    "vcpuNum": 64
   },
   {
    "_defaultOrder": 45,
    "_isFastLaunch": false,
    "category": "Memory Optimized",
    "gpuNum": 0,
    "memoryGiB": 768,
    "name": "ml.r5.24xlarge",
    "vcpuNum": 96
   },
   {
    "_defaultOrder": 46,
    "_isFastLaunch": false,
    "category": "Accelerated computing",
    "gpuNum": 1,
    "memoryGiB": 16,
    "name": "ml.g5.xlarge",
    "vcpuNum": 4
   },
   {
    "_defaultOrder": 47,
    "_isFastLaunch": false,
    "category": "Accelerated computing",
    "gpuNum": 1,
    "memoryGiB": 32,
    "name": "ml.g5.2xlarge",
    "vcpuNum": 8
   },
   {
    "_defaultOrder": 48,
    "_isFastLaunch": false,
    "category": "Accelerated computing",
    "gpuNum": 1,
    "memoryGiB": 64,
    "name": "ml.g5.4xlarge",
    "vcpuNum": 16
   },
   {
    "_defaultOrder": 49,
    "_isFastLaunch": false,
    "category": "Accelerated computing",
    "gpuNum": 1,
    "memoryGiB": 128,
    "name": "ml.g5.8xlarge",
    "vcpuNum": 32
   },
   {
    "_defaultOrder": 50,
    "_isFastLaunch": false,
    "category": "Accelerated computing",
    "gpuNum": 1,
    "memoryGiB": 256,
    "name": "ml.g5.16xlarge",
    "vcpuNum": 64
   },
   {
    "_defaultOrder": 51,
    "_isFastLaunch": false,
    "category": "Accelerated computing",
    "gpuNum": 4,
    "memoryGiB": 192,
    "name": "ml.g5.12xlarge",
    "vcpuNum": 48
   },
   {
    "_defaultOrder": 52,
    "_isFastLaunch": false,
    "category": "Accelerated computing",
    "gpuNum": 4,
    "memoryGiB": 384,
    "name": "ml.g5.24xlarge",
    "vcpuNum": 96
   },
   {
    "_defaultOrder": 53,
    "_isFastLaunch": false,
    "category": "Accelerated computing",
    "gpuNum": 8,
    "memoryGiB": 768,
    "name": "ml.g5.48xlarge",
    "vcpuNum": 192
   }
  ],
  "colab": {
   "authorship_tag": "ABX9TyMktPqVsmYmb4OF0pleEIT6",
   "collapsed_sections": [
    "e4IubJbxywkb"
   ],
   "provenance": [
    {
     "file_id": "1Dnjg12Q6cKk8QHNMr88OqeNsEUYNTP1t",
     "timestamp": 1676251696695
    }
   ]
  },
  "kernelspec": {
   "display_name": "Python [conda env:py310] (arn:aws:sagemaker:us-east-1:081325390199:image/datascience-1.0)",
   "language": "python",
   "name": "conda-env-py310-py__SAGEMAKER_INTERNAL__arn:aws:sagemaker:us-east-1:081325390199:image/datascience-1.0"
  },
  "language_info": {
   "codemirror_mode": {
    "name": "ipython",
    "version": 3
   },
   "file_extension": ".py",
   "mimetype": "text/x-python",
   "name": "python",
   "nbconvert_exporter": "python",
   "pygments_lexer": "ipython3",
   "version": "3.10.9"
  }
 },
 "nbformat": 4,
 "nbformat_minor": 4
}
