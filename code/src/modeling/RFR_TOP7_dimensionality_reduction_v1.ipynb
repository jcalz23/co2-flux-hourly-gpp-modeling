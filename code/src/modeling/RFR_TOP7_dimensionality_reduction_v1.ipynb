{
  "cells": [
    {
      "cell_type": "code",
      "source": [
        "from google.colab import drive\n",
        "drive.mount('/content/drive')"
      ],
      "metadata": {
        "colab": {
          "base_uri": "https://localhost:8080/"
        },
        "id": "uFP4auo0a4R8",
        "outputId": "5b1687b9-14d2-4bbd-a902-16ad6f1144f5"
      },
      "execution_count": 1,
      "outputs": [
        {
          "output_type": "stream",
          "name": "stdout",
          "text": [
            "Mounted at /content/drive\n"
          ]
        }
      ]
    },
    {
      "cell_type": "markdown",
      "metadata": {
        "id": "XaXGMTqJr71d"
      },
      "source": [
        "# Notebook Setup"
      ]
    },
    {
      "cell_type": "code",
      "source": [
        "if 'google.colab' in str(get_ipython()):\n",
        "    IN_COLLAB = True\n",
        "else:\n",
        "    IN_COLLAB = False\n",
        "\n",
        "if IN_COLLAB:\n",
        "    #TODO: CHANGE THIS BASED ON YOUR OWN LOCAL SETTINGS\n",
        "    # MY_HOME_ABS_PATH = \"/content/drive/MyDrive/W210/co2-flux-hourly-gpp-modeling\"\n",
        "    MY_HOME_ABS_PATH = \"/content/drive/MyDrive/TFT_baseline\"\n",
        "    from google.colab import drive\n",
        "    drive.mount('/content/drive/')\n",
        "else:\n",
        "    # MY_HOME_ABS_PATH = \"/root/co2-flux-hourly-gpp-modeling/\"\n",
        "    MY_HOME_ABS_PATH = \"/home/ec2-user/SageMaker/root/co2-flux-hourly-gpp-modeling\""
      ],
      "metadata": {
        "colab": {
          "base_uri": "https://localhost:8080/"
        },
        "id": "CDKm-L00cbfQ",
        "outputId": "83a376c9-934b-4901-cd64-c4e4d6ca74d9"
      },
      "execution_count": 2,
      "outputs": [
        {
          "output_type": "stream",
          "name": "stdout",
          "text": [
            "Drive already mounted at /content/drive/; to attempt to forcibly remount, call drive.mount(\"/content/drive/\", force_remount=True).\n"
          ]
        }
      ]
    },
    {
      "cell_type": "code",
      "execution_count": 3,
      "metadata": {
        "tags": [],
        "id": "KaBFcdIwamyE"
      },
      "outputs": [],
      "source": [
        "#TODO: CHANGE THIS BASED ON YOUR OWN LOCAL SETTINGS\n",
        "#MY_HOME_ABS_PATH = \"/Users/jetcalz07/Desktop/MIDS/W210_Capstone/co2-flux-hourly-gpp-modeling\"\n",
        "# MY_HOME_ABS_PATH = \"/root/co2-flux-hourly-gpp-modeling\"\n",
        "MY_HOME_ABS_PATH =  \"/content/drive/MyDrive/TFT_baseline\""
      ]
    },
    {
      "cell_type": "markdown",
      "metadata": {
        "id": "y2bHb6TEy3_D"
      },
      "source": [
        "## Import Modules"
      ]
    },
    {
      "cell_type": "code",
      "source": [
        "!pip install azure.storage.blob "
      ],
      "metadata": {
        "colab": {
          "base_uri": "https://localhost:8080/"
        },
        "id": "eSrZ4-MmbM6f",
        "outputId": "6b122fd1-2b42-46f7-ef7f-d031ef86386d"
      },
      "execution_count": 4,
      "outputs": [
        {
          "output_type": "stream",
          "name": "stdout",
          "text": [
            "Looking in indexes: https://pypi.org/simple, https://us-python.pkg.dev/colab-wheels/public/simple/\n",
            "Collecting azure.storage.blob\n",
            "  Downloading azure_storage_blob-12.15.0-py3-none-any.whl (387 kB)\n",
            "\u001b[2K     \u001b[90m━━━━━━━━━━━━━━━━━━━━━━━━━━━━━━━━━━━━━━\u001b[0m \u001b[32m387.8/387.8 KB\u001b[0m \u001b[31m26.0 MB/s\u001b[0m eta \u001b[36m0:00:00\u001b[0m\n",
            "\u001b[?25hCollecting azure-core<2.0.0,>=1.26.0\n",
            "  Downloading azure_core-1.26.3-py3-none-any.whl (174 kB)\n",
            "\u001b[2K     \u001b[90m━━━━━━━━━━━━━━━━━━━━━━━━━━━━━━━━━━━━━━\u001b[0m \u001b[32m174.5/174.5 KB\u001b[0m \u001b[31m22.1 MB/s\u001b[0m eta \u001b[36m0:00:00\u001b[0m\n",
            "\u001b[?25hRequirement already satisfied: typing-extensions>=4.0.1 in /usr/local/lib/python3.9/dist-packages (from azure.storage.blob) (4.5.0)\n",
            "Collecting isodate>=0.6.1\n",
            "  Downloading isodate-0.6.1-py2.py3-none-any.whl (41 kB)\n",
            "\u001b[2K     \u001b[90m━━━━━━━━━━━━━━━━━━━━━━━━━━━━━━━━━━━━━━━━\u001b[0m \u001b[32m41.7/41.7 KB\u001b[0m \u001b[31m5.0 MB/s\u001b[0m eta \u001b[36m0:00:00\u001b[0m\n",
            "\u001b[?25hRequirement already satisfied: cryptography>=2.1.4 in /usr/local/lib/python3.9/dist-packages (from azure.storage.blob) (40.0.1)\n",
            "Requirement already satisfied: requests>=2.18.4 in /usr/local/lib/python3.9/dist-packages (from azure-core<2.0.0,>=1.26.0->azure.storage.blob) (2.27.1)\n",
            "Requirement already satisfied: six>=1.11.0 in /usr/local/lib/python3.9/dist-packages (from azure-core<2.0.0,>=1.26.0->azure.storage.blob) (1.16.0)\n",
            "Requirement already satisfied: cffi>=1.12 in /usr/local/lib/python3.9/dist-packages (from cryptography>=2.1.4->azure.storage.blob) (1.15.1)\n",
            "Requirement already satisfied: pycparser in /usr/local/lib/python3.9/dist-packages (from cffi>=1.12->cryptography>=2.1.4->azure.storage.blob) (2.21)\n",
            "Requirement already satisfied: idna<4,>=2.5 in /usr/local/lib/python3.9/dist-packages (from requests>=2.18.4->azure-core<2.0.0,>=1.26.0->azure.storage.blob) (3.4)\n",
            "Requirement already satisfied: charset-normalizer~=2.0.0 in /usr/local/lib/python3.9/dist-packages (from requests>=2.18.4->azure-core<2.0.0,>=1.26.0->azure.storage.blob) (2.0.12)\n",
            "Requirement already satisfied: urllib3<1.27,>=1.21.1 in /usr/local/lib/python3.9/dist-packages (from requests>=2.18.4->azure-core<2.0.0,>=1.26.0->azure.storage.blob) (1.26.15)\n",
            "Requirement already satisfied: certifi>=2017.4.17 in /usr/local/lib/python3.9/dist-packages (from requests>=2.18.4->azure-core<2.0.0,>=1.26.0->azure.storage.blob) (2022.12.7)\n",
            "Installing collected packages: isodate, azure-core, azure.storage.blob\n",
            "Successfully installed azure-core-1.26.3 azure.storage.blob-12.15.0 isodate-0.6.1\n"
          ]
        }
      ]
    },
    {
      "cell_type": "code",
      "source": [
        "!pip install pytorch_lightning \n"
      ],
      "metadata": {
        "colab": {
          "base_uri": "https://localhost:8080/"
        },
        "id": "1FdqnNwZbM3M",
        "outputId": "9647b375-82f0-48d6-8ca0-f0a49c3ee8c8"
      },
      "execution_count": 5,
      "outputs": [
        {
          "output_type": "stream",
          "name": "stdout",
          "text": [
            "Looking in indexes: https://pypi.org/simple, https://us-python.pkg.dev/colab-wheels/public/simple/\n",
            "Collecting pytorch_lightning\n",
            "  Downloading pytorch_lightning-2.0.1-py3-none-any.whl (716 kB)\n",
            "\u001b[2K     \u001b[90m━━━━━━━━━━━━━━━━━━━━━━━━━━━━━━━━━━━━━━\u001b[0m \u001b[32m716.4/716.4 KB\u001b[0m \u001b[31m38.8 MB/s\u001b[0m eta \u001b[36m0:00:00\u001b[0m\n",
            "\u001b[?25hRequirement already satisfied: packaging>=17.1 in /usr/local/lib/python3.9/dist-packages (from pytorch_lightning) (23.0)\n",
            "Requirement already satisfied: torch>=1.11.0 in /usr/local/lib/python3.9/dist-packages (from pytorch_lightning) (1.13.1+cu116)\n",
            "Collecting lightning-utilities>=0.7.0\n",
            "  Downloading lightning_utilities-0.8.0-py3-none-any.whl (20 kB)\n",
            "Requirement already satisfied: fsspec[http]>2021.06.0 in /usr/local/lib/python3.9/dist-packages (from pytorch_lightning) (2023.3.0)\n",
            "Requirement already satisfied: PyYAML>=5.4 in /usr/local/lib/python3.9/dist-packages (from pytorch_lightning) (6.0)\n",
            "Requirement already satisfied: numpy>=1.17.2 in /usr/local/lib/python3.9/dist-packages (from pytorch_lightning) (1.22.4)\n",
            "Requirement already satisfied: typing-extensions>=4.0.0 in /usr/local/lib/python3.9/dist-packages (from pytorch_lightning) (4.5.0)\n",
            "Collecting torchmetrics>=0.7.0\n",
            "  Downloading torchmetrics-0.11.4-py3-none-any.whl (519 kB)\n",
            "\u001b[2K     \u001b[90m━━━━━━━━━━━━━━━━━━━━━━━━━━━━━━━━━━━━━━\u001b[0m \u001b[32m519.2/519.2 KB\u001b[0m \u001b[31m43.3 MB/s\u001b[0m eta \u001b[36m0:00:00\u001b[0m\n",
            "\u001b[?25hRequirement already satisfied: tqdm>=4.57.0 in /usr/local/lib/python3.9/dist-packages (from pytorch_lightning) (4.65.0)\n",
            "Collecting aiohttp!=4.0.0a0,!=4.0.0a1\n",
            "  Downloading aiohttp-3.8.4-cp39-cp39-manylinux_2_17_x86_64.manylinux2014_x86_64.whl (1.0 MB)\n",
            "\u001b[2K     \u001b[90m━━━━━━━━━━━━━━━━━━━━━━━━━━━━━━━━━━━━━━━━\u001b[0m \u001b[32m1.0/1.0 MB\u001b[0m \u001b[31m62.8 MB/s\u001b[0m eta \u001b[36m0:00:00\u001b[0m\n",
            "\u001b[?25hRequirement already satisfied: requests in /usr/local/lib/python3.9/dist-packages (from fsspec[http]>2021.06.0->pytorch_lightning) (2.27.1)\n",
            "Collecting multidict<7.0,>=4.5\n",
            "  Downloading multidict-6.0.4-cp39-cp39-manylinux_2_17_x86_64.manylinux2014_x86_64.whl (114 kB)\n",
            "\u001b[2K     \u001b[90m━━━━━━━━━━━━━━━━━━━━━━━━━━━━━━━━━━━━━━\u001b[0m \u001b[32m114.2/114.2 KB\u001b[0m \u001b[31m15.9 MB/s\u001b[0m eta \u001b[36m0:00:00\u001b[0m\n",
            "\u001b[?25hRequirement already satisfied: attrs>=17.3.0 in /usr/local/lib/python3.9/dist-packages (from aiohttp!=4.0.0a0,!=4.0.0a1->fsspec[http]>2021.06.0->pytorch_lightning) (22.2.0)\n",
            "Requirement already satisfied: charset-normalizer<4.0,>=2.0 in /usr/local/lib/python3.9/dist-packages (from aiohttp!=4.0.0a0,!=4.0.0a1->fsspec[http]>2021.06.0->pytorch_lightning) (2.0.12)\n",
            "Collecting yarl<2.0,>=1.0\n",
            "  Downloading yarl-1.8.2-cp39-cp39-manylinux_2_17_x86_64.manylinux2014_x86_64.whl (264 kB)\n",
            "\u001b[2K     \u001b[90m━━━━━━━━━━━━━━━━━━━━━━━━━━━━━━━━━━━━━━\u001b[0m \u001b[32m264.6/264.6 KB\u001b[0m \u001b[31m29.1 MB/s\u001b[0m eta \u001b[36m0:00:00\u001b[0m\n",
            "\u001b[?25hCollecting frozenlist>=1.1.1\n",
            "  Downloading frozenlist-1.3.3-cp39-cp39-manylinux_2_5_x86_64.manylinux1_x86_64.manylinux_2_17_x86_64.manylinux2014_x86_64.whl (158 kB)\n",
            "\u001b[2K     \u001b[90m━━━━━━━━━━━━━━━━━━━━━━━━━━━━━━━━━━━━━━\u001b[0m \u001b[32m158.8/158.8 KB\u001b[0m \u001b[31m19.8 MB/s\u001b[0m eta \u001b[36m0:00:00\u001b[0m\n",
            "\u001b[?25hCollecting async-timeout<5.0,>=4.0.0a3\n",
            "  Downloading async_timeout-4.0.2-py3-none-any.whl (5.8 kB)\n",
            "Collecting aiosignal>=1.1.2\n",
            "  Downloading aiosignal-1.3.1-py3-none-any.whl (7.6 kB)\n",
            "Requirement already satisfied: certifi>=2017.4.17 in /usr/local/lib/python3.9/dist-packages (from requests->fsspec[http]>2021.06.0->pytorch_lightning) (2022.12.7)\n",
            "Requirement already satisfied: idna<4,>=2.5 in /usr/local/lib/python3.9/dist-packages (from requests->fsspec[http]>2021.06.0->pytorch_lightning) (3.4)\n",
            "Requirement already satisfied: urllib3<1.27,>=1.21.1 in /usr/local/lib/python3.9/dist-packages (from requests->fsspec[http]>2021.06.0->pytorch_lightning) (1.26.15)\n",
            "Installing collected packages: multidict, lightning-utilities, frozenlist, async-timeout, yarl, torchmetrics, aiosignal, aiohttp, pytorch_lightning\n",
            "Successfully installed aiohttp-3.8.4 aiosignal-1.3.1 async-timeout-4.0.2 frozenlist-1.3.3 lightning-utilities-0.8.0 multidict-6.0.4 pytorch_lightning-2.0.1 torchmetrics-0.11.4 yarl-1.8.2\n"
          ]
        }
      ]
    },
    {
      "cell_type": "code",
      "source": [
        "!pip install pytorch_forecasting\n"
      ],
      "metadata": {
        "colab": {
          "base_uri": "https://localhost:8080/"
        },
        "id": "NKLebkmpbpB-",
        "outputId": "2028f1ec-4576-4eb2-be7a-4a7eb63cd5ee"
      },
      "execution_count": 6,
      "outputs": [
        {
          "output_type": "stream",
          "name": "stdout",
          "text": [
            "Looking in indexes: https://pypi.org/simple, https://us-python.pkg.dev/colab-wheels/public/simple/\n",
            "Collecting pytorch_forecasting\n",
            "  Downloading pytorch_forecasting-0.10.3-py3-none-any.whl (141 kB)\n",
            "\u001b[2K     \u001b[90m━━━━━━━━━━━━━━━━━━━━━━━━━━━━━━━━━━━━━━\u001b[0m \u001b[32m141.4/141.4 KB\u001b[0m \u001b[31m13.7 MB/s\u001b[0m eta \u001b[36m0:00:00\u001b[0m\n",
            "\u001b[?25hRequirement already satisfied: matplotlib in /usr/local/lib/python3.9/dist-packages (from pytorch_forecasting) (3.7.1)\n",
            "Collecting scikit-learn<1.2,>=0.24\n",
            "  Downloading scikit_learn-1.1.3-cp39-cp39-manylinux_2_17_x86_64.manylinux2014_x86_64.whl (30.8 MB)\n",
            "\u001b[2K     \u001b[90m━━━━━━━━━━━━━━━━━━━━━━━━━━━━━━━━━━━━━━━━\u001b[0m \u001b[32m30.8/30.8 MB\u001b[0m \u001b[31m52.1 MB/s\u001b[0m eta \u001b[36m0:00:00\u001b[0m\n",
            "\u001b[?25hCollecting pytorch-lightning<2.0.0,>=1.2.4\n",
            "  Downloading pytorch_lightning-1.9.4-py3-none-any.whl (827 kB)\n",
            "\u001b[2K     \u001b[90m━━━━━━━━━━━━━━━━━━━━━━━━━━━━━━━━━━━━━━\u001b[0m \u001b[32m827.8/827.8 KB\u001b[0m \u001b[31m55.3 MB/s\u001b[0m eta \u001b[36m0:00:00\u001b[0m\n",
            "\u001b[?25hCollecting optuna<3.0.0,>=2.3.0\n",
            "  Downloading optuna-2.10.1-py3-none-any.whl (308 kB)\n",
            "\u001b[2K     \u001b[90m━━━━━━━━━━━━━━━━━━━━━━━━━━━━━━━━━━━━━━\u001b[0m \u001b[32m308.2/308.2 KB\u001b[0m \u001b[31m33.5 MB/s\u001b[0m eta \u001b[36m0:00:00\u001b[0m\n",
            "\u001b[?25hRequirement already satisfied: pandas<2.0.0,>=1.3.0 in /usr/local/lib/python3.9/dist-packages (from pytorch_forecasting) (1.4.4)\n",
            "Requirement already satisfied: statsmodels in /usr/local/lib/python3.9/dist-packages (from pytorch_forecasting) (0.13.5)\n",
            "Requirement already satisfied: scipy<2.0,>=1.8 in /usr/local/lib/python3.9/dist-packages (from pytorch_forecasting) (1.10.1)\n",
            "Requirement already satisfied: torch<2.0,>=1.7 in /usr/local/lib/python3.9/dist-packages (from pytorch_forecasting) (1.13.1+cu116)\n",
            "Collecting cliff\n",
            "  Downloading cliff-4.2.0-py3-none-any.whl (81 kB)\n",
            "\u001b[2K     \u001b[90m━━━━━━━━━━━━━━━━━━━━━━━━━━━━━━━━━━━━━━━━\u001b[0m \u001b[32m81.0/81.0 KB\u001b[0m \u001b[31m10.6 MB/s\u001b[0m eta \u001b[36m0:00:00\u001b[0m\n",
            "\u001b[?25hRequirement already satisfied: packaging>=20.0 in /usr/local/lib/python3.9/dist-packages (from optuna<3.0.0,>=2.3.0->pytorch_forecasting) (23.0)\n",
            "Collecting cmaes>=0.8.2\n",
            "  Downloading cmaes-0.9.1-py3-none-any.whl (21 kB)\n",
            "Collecting alembic\n",
            "  Downloading alembic-1.10.2-py3-none-any.whl (212 kB)\n",
            "\u001b[2K     \u001b[90m━━━━━━━━━━━━━━━━━━━━━━━━━━━━━━━━━━━━━━\u001b[0m \u001b[32m212.2/212.2 KB\u001b[0m \u001b[31m27.5 MB/s\u001b[0m eta \u001b[36m0:00:00\u001b[0m\n",
            "\u001b[?25hRequirement already satisfied: PyYAML in /usr/local/lib/python3.9/dist-packages (from optuna<3.0.0,>=2.3.0->pytorch_forecasting) (6.0)\n",
            "Requirement already satisfied: numpy in /usr/local/lib/python3.9/dist-packages (from optuna<3.0.0,>=2.3.0->pytorch_forecasting) (1.22.4)\n",
            "Requirement already satisfied: tqdm in /usr/local/lib/python3.9/dist-packages (from optuna<3.0.0,>=2.3.0->pytorch_forecasting) (4.65.0)\n",
            "Collecting colorlog\n",
            "  Downloading colorlog-6.7.0-py2.py3-none-any.whl (11 kB)\n",
            "Requirement already satisfied: sqlalchemy>=1.1.0 in /usr/local/lib/python3.9/dist-packages (from optuna<3.0.0,>=2.3.0->pytorch_forecasting) (1.4.47)\n",
            "Requirement already satisfied: pytz>=2020.1 in /usr/local/lib/python3.9/dist-packages (from pandas<2.0.0,>=1.3.0->pytorch_forecasting) (2022.7.1)\n",
            "Requirement already satisfied: python-dateutil>=2.8.1 in /usr/local/lib/python3.9/dist-packages (from pandas<2.0.0,>=1.3.0->pytorch_forecasting) (2.8.2)\n",
            "Requirement already satisfied: fsspec[http]>2021.06.0 in /usr/local/lib/python3.9/dist-packages (from pytorch-lightning<2.0.0,>=1.2.4->pytorch_forecasting) (2023.3.0)\n",
            "Requirement already satisfied: torchmetrics>=0.7.0 in /usr/local/lib/python3.9/dist-packages (from pytorch-lightning<2.0.0,>=1.2.4->pytorch_forecasting) (0.11.4)\n",
            "Requirement already satisfied: typing-extensions>=4.0.0 in /usr/local/lib/python3.9/dist-packages (from pytorch-lightning<2.0.0,>=1.2.4->pytorch_forecasting) (4.5.0)\n",
            "Requirement already satisfied: lightning-utilities>=0.6.0.post0 in /usr/local/lib/python3.9/dist-packages (from pytorch-lightning<2.0.0,>=1.2.4->pytorch_forecasting) (0.8.0)\n",
            "Requirement already satisfied: joblib>=1.0.0 in /usr/local/lib/python3.9/dist-packages (from scikit-learn<1.2,>=0.24->pytorch_forecasting) (1.1.1)\n",
            "Requirement already satisfied: threadpoolctl>=2.0.0 in /usr/local/lib/python3.9/dist-packages (from scikit-learn<1.2,>=0.24->pytorch_forecasting) (3.1.0)\n",
            "Requirement already satisfied: fonttools>=4.22.0 in /usr/local/lib/python3.9/dist-packages (from matplotlib->pytorch_forecasting) (4.39.3)\n",
            "Requirement already satisfied: importlib-resources>=3.2.0 in /usr/local/lib/python3.9/dist-packages (from matplotlib->pytorch_forecasting) (5.12.0)\n",
            "Requirement already satisfied: contourpy>=1.0.1 in /usr/local/lib/python3.9/dist-packages (from matplotlib->pytorch_forecasting) (1.0.7)\n",
            "Requirement already satisfied: kiwisolver>=1.0.1 in /usr/local/lib/python3.9/dist-packages (from matplotlib->pytorch_forecasting) (1.4.4)\n",
            "Requirement already satisfied: pillow>=6.2.0 in /usr/local/lib/python3.9/dist-packages (from matplotlib->pytorch_forecasting) (8.4.0)\n",
            "Requirement already satisfied: pyparsing>=2.3.1 in /usr/local/lib/python3.9/dist-packages (from matplotlib->pytorch_forecasting) (3.0.9)\n",
            "Requirement already satisfied: cycler>=0.10 in /usr/local/lib/python3.9/dist-packages (from matplotlib->pytorch_forecasting) (0.11.0)\n",
            "Requirement already satisfied: patsy>=0.5.2 in /usr/local/lib/python3.9/dist-packages (from statsmodels->pytorch_forecasting) (0.5.3)\n",
            "Requirement already satisfied: requests in /usr/local/lib/python3.9/dist-packages (from fsspec[http]>2021.06.0->pytorch-lightning<2.0.0,>=1.2.4->pytorch_forecasting) (2.27.1)\n",
            "Requirement already satisfied: aiohttp!=4.0.0a0,!=4.0.0a1 in /usr/local/lib/python3.9/dist-packages (from fsspec[http]>2021.06.0->pytorch-lightning<2.0.0,>=1.2.4->pytorch_forecasting) (3.8.4)\n",
            "Requirement already satisfied: zipp>=3.1.0 in /usr/local/lib/python3.9/dist-packages (from importlib-resources>=3.2.0->matplotlib->pytorch_forecasting) (3.15.0)\n",
            "Requirement already satisfied: six in /usr/local/lib/python3.9/dist-packages (from patsy>=0.5.2->statsmodels->pytorch_forecasting) (1.16.0)\n",
            "Requirement already satisfied: greenlet!=0.4.17 in /usr/local/lib/python3.9/dist-packages (from sqlalchemy>=1.1.0->optuna<3.0.0,>=2.3.0->pytorch_forecasting) (2.0.2)\n",
            "Collecting Mako\n",
            "  Downloading Mako-1.2.4-py3-none-any.whl (78 kB)\n",
            "\u001b[2K     \u001b[90m━━━━━━━━━━━━━━━━━━━━━━━━━━━━━━━━━━━━━━━━\u001b[0m \u001b[32m78.7/78.7 KB\u001b[0m \u001b[31m11.0 MB/s\u001b[0m eta \u001b[36m0:00:00\u001b[0m\n",
            "\u001b[?25hCollecting cmd2>=1.0.0\n",
            "  Downloading cmd2-2.4.3-py3-none-any.whl (147 kB)\n",
            "\u001b[2K     \u001b[90m━━━━━━━━━━━━━━━━━━━━━━━━━━━━━━━━━━━━━━\u001b[0m \u001b[32m147.2/147.2 KB\u001b[0m \u001b[31m20.0 MB/s\u001b[0m eta \u001b[36m0:00:00\u001b[0m\n",
            "\u001b[?25hCollecting stevedore>=2.0.1\n",
            "  Downloading stevedore-5.0.0-py3-none-any.whl (49 kB)\n",
            "\u001b[2K     \u001b[90m━━━━━━━━━━━━━━━━━━━━━━━━━━━━━━━━━━━━━━━━\u001b[0m \u001b[32m49.6/49.6 KB\u001b[0m \u001b[31m6.7 MB/s\u001b[0m eta \u001b[36m0:00:00\u001b[0m\n",
            "\u001b[?25hRequirement already satisfied: PrettyTable>=0.7.2 in /usr/local/lib/python3.9/dist-packages (from cliff->optuna<3.0.0,>=2.3.0->pytorch_forecasting) (0.7.2)\n",
            "Requirement already satisfied: importlib-metadata>=4.4 in /usr/local/lib/python3.9/dist-packages (from cliff->optuna<3.0.0,>=2.3.0->pytorch_forecasting) (6.1.0)\n",
            "Collecting autopage>=0.4.0\n",
            "  Downloading autopage-0.5.1-py3-none-any.whl (29 kB)\n",
            "Requirement already satisfied: async-timeout<5.0,>=4.0.0a3 in /usr/local/lib/python3.9/dist-packages (from aiohttp!=4.0.0a0,!=4.0.0a1->fsspec[http]>2021.06.0->pytorch-lightning<2.0.0,>=1.2.4->pytorch_forecasting) (4.0.2)\n",
            "Requirement already satisfied: charset-normalizer<4.0,>=2.0 in /usr/local/lib/python3.9/dist-packages (from aiohttp!=4.0.0a0,!=4.0.0a1->fsspec[http]>2021.06.0->pytorch-lightning<2.0.0,>=1.2.4->pytorch_forecasting) (2.0.12)\n",
            "Requirement already satisfied: frozenlist>=1.1.1 in /usr/local/lib/python3.9/dist-packages (from aiohttp!=4.0.0a0,!=4.0.0a1->fsspec[http]>2021.06.0->pytorch-lightning<2.0.0,>=1.2.4->pytorch_forecasting) (1.3.3)\n",
            "Requirement already satisfied: multidict<7.0,>=4.5 in /usr/local/lib/python3.9/dist-packages (from aiohttp!=4.0.0a0,!=4.0.0a1->fsspec[http]>2021.06.0->pytorch-lightning<2.0.0,>=1.2.4->pytorch_forecasting) (6.0.4)\n",
            "Requirement already satisfied: aiosignal>=1.1.2 in /usr/local/lib/python3.9/dist-packages (from aiohttp!=4.0.0a0,!=4.0.0a1->fsspec[http]>2021.06.0->pytorch-lightning<2.0.0,>=1.2.4->pytorch_forecasting) (1.3.1)\n",
            "Requirement already satisfied: attrs>=17.3.0 in /usr/local/lib/python3.9/dist-packages (from aiohttp!=4.0.0a0,!=4.0.0a1->fsspec[http]>2021.06.0->pytorch-lightning<2.0.0,>=1.2.4->pytorch_forecasting) (22.2.0)\n",
            "Requirement already satisfied: yarl<2.0,>=1.0 in /usr/local/lib/python3.9/dist-packages (from aiohttp!=4.0.0a0,!=4.0.0a1->fsspec[http]>2021.06.0->pytorch-lightning<2.0.0,>=1.2.4->pytorch_forecasting) (1.8.2)\n",
            "Collecting pyperclip>=1.6\n",
            "  Downloading pyperclip-1.8.2.tar.gz (20 kB)\n",
            "  Preparing metadata (setup.py) ... \u001b[?25l\u001b[?25hdone\n",
            "Requirement already satisfied: wcwidth>=0.1.7 in /usr/local/lib/python3.9/dist-packages (from cmd2>=1.0.0->cliff->optuna<3.0.0,>=2.3.0->pytorch_forecasting) (0.2.6)\n",
            "Collecting pbr!=2.1.0,>=2.0.0\n",
            "  Downloading pbr-5.11.1-py2.py3-none-any.whl (112 kB)\n",
            "\u001b[2K     \u001b[90m━━━━━━━━━━━━━━━━━━━━━━━━━━━━━━━━━━━━━━\u001b[0m \u001b[32m112.7/112.7 KB\u001b[0m \u001b[31m16.0 MB/s\u001b[0m eta \u001b[36m0:00:00\u001b[0m\n",
            "\u001b[?25hRequirement already satisfied: MarkupSafe>=0.9.2 in /usr/local/lib/python3.9/dist-packages (from Mako->alembic->optuna<3.0.0,>=2.3.0->pytorch_forecasting) (2.1.2)\n",
            "Requirement already satisfied: certifi>=2017.4.17 in /usr/local/lib/python3.9/dist-packages (from requests->fsspec[http]>2021.06.0->pytorch-lightning<2.0.0,>=1.2.4->pytorch_forecasting) (2022.12.7)\n",
            "Requirement already satisfied: idna<4,>=2.5 in /usr/local/lib/python3.9/dist-packages (from requests->fsspec[http]>2021.06.0->pytorch-lightning<2.0.0,>=1.2.4->pytorch_forecasting) (3.4)\n",
            "Requirement already satisfied: urllib3<1.27,>=1.21.1 in /usr/local/lib/python3.9/dist-packages (from requests->fsspec[http]>2021.06.0->pytorch-lightning<2.0.0,>=1.2.4->pytorch_forecasting) (1.26.15)\n",
            "Building wheels for collected packages: pyperclip\n",
            "  Building wheel for pyperclip (setup.py) ... \u001b[?25l\u001b[?25hdone\n",
            "  Created wheel for pyperclip: filename=pyperclip-1.8.2-py3-none-any.whl size=11135 sha256=7cb8e7287955cac85a6f6d5d41e161366588e5e326e6ee47aee330221277fc2f\n",
            "  Stored in directory: /root/.cache/pip/wheels/0c/09/9e/49e21a6840ef7955b06d47394afef0058f0378c0914e48b8b8\n",
            "Successfully built pyperclip\n",
            "Installing collected packages: pyperclip, pbr, Mako, colorlog, cmd2, cmaes, autopage, stevedore, scikit-learn, alembic, cliff, pytorch-lightning, optuna, pytorch_forecasting\n",
            "  Attempting uninstall: scikit-learn\n",
            "    Found existing installation: scikit-learn 1.2.2\n",
            "    Uninstalling scikit-learn-1.2.2:\n",
            "      Successfully uninstalled scikit-learn-1.2.2\n",
            "  Attempting uninstall: pytorch-lightning\n",
            "    Found existing installation: pytorch-lightning 2.0.1\n",
            "    Uninstalling pytorch-lightning-2.0.1:\n",
            "      Successfully uninstalled pytorch-lightning-2.0.1\n",
            "Successfully installed Mako-1.2.4 alembic-1.10.2 autopage-0.5.1 cliff-4.2.0 cmaes-0.9.1 cmd2-2.4.3 colorlog-6.7.0 optuna-2.10.1 pbr-5.11.1 pyperclip-1.8.2 pytorch-lightning-1.9.4 pytorch_forecasting-0.10.3 scikit-learn-1.1.3 stevedore-5.0.0\n"
          ]
        }
      ]
    },
    {
      "cell_type": "code",
      "source": [
        "from azure.storage.blob import BlobServiceClient\n",
        "from collections import defaultdict\n",
        "from io import BytesIO\n",
        "import os.path\n",
        "import json\n",
        "\n",
        "class AzStorageClient:\n",
        "    def __init__(self, cred_file):\n",
        "        self.blob_svc_client = None\n",
        "        self.container_client_list = defaultdict(str)\n",
        "        if os.path.exists(cred_file):\n",
        "            connect_str = \"\"\n",
        "            with open(cred_file, \"rb\") as f:\n",
        "                data = json.load(f)\n",
        "                connect_str = data['connectionstr']\n",
        "                self.blob_svc_client = BlobServiceClient.from_connection_string(connect_str)\n",
        "                tokens = connect_str.split(';')\n",
        "                for t in tokens:\n",
        "                  if \"AccountName=\" in t:\n",
        "                    self.AccountName = t[len(\"AccountName=\"):]\n",
        "                  elif \"AccountKey=\" in t:\n",
        "                    self.AccountKey = t[len(\"AccountKey=\"):]\n",
        "        else:\n",
        "            print(\"ERROR: {cred_file} not found\")\n",
        "    \n",
        "    def getSparkSessionKeys(self):\n",
        "      return [f'fs.azure.account.key.{self.AccountName}.blob.core.windows.net',  self.AccountKey, self.AccountName]\n",
        "\n",
        "    def createContainer(self, container_name):\n",
        "        if self.blob_svc_client:\n",
        "            self.blob_svc_client.create_container(container_name)\n",
        "            print(f\"Container '{container_name}' created.\")\n",
        "        else:\n",
        "            print(\"ERROR: Azure Storage Blob Client does not exist.\")\n",
        "\n",
        "    def listBlobs(self, container_name):\n",
        "        if self.blob_svc_client:\n",
        "            if not self.container_client_list[container_name]:\n",
        "                self.container_client_list[container_name] = self.blob_svc_client.get_container_client(container= container_name)\n",
        "            blob_list = self.container_client_list[container_name].list_blobs()\n",
        "            return blob_list\n",
        "        else:\n",
        "            print(\"ERROR: Azure Storage Blob Client does not exist.\")\n",
        "\n",
        "    def uploadBlob(self, container_name, blob_name, data, overwrite=False, verbose=True):\n",
        "        if self.blob_svc_client:\n",
        "            blob_cleint = self.blob_svc_client.get_blob_client(container=container_name, blob=blob_name)\n",
        "            blob_cleint.upload_blob(data, overwrite=overwrite)\n",
        "            if verbose:\n",
        "                print(f'File uploaded to {container_name}/{blob_name}')\n",
        "        else:\n",
        "            print(\"ERROR: Azure Storage Blob Client does not exist.\")\n",
        "    \n",
        "    def downloadBlob(self, container_name, blob_name):\n",
        "        if self.blob_svc_client:\n",
        "            if not self.container_client_list[container_name]:\n",
        "                self.container_client_list[container_name] = self.blob_svc_client.get_container_client(container= container_name)\n",
        "            \n",
        "            return self.container_client_list[container_name].download_blob(blob_name).readall()\n",
        "        else:\n",
        "            print(\"ERROR: Azure Storage Blob Client does not exist.\")\n",
        "    \n",
        "    def downloadBlob2Stream(self, container_name, blob_name):\n",
        "        if self.blob_svc_client:\n",
        "            if not self.container_client_list[container_name]:\n",
        "                self.container_client_list[container_name] = self.blob_svc_client.get_container_client(container= container_name)\n",
        "            \n",
        "            stream = BytesIO()\n",
        "            self.container_client_list[container_name].download_blob(blob_name).readinto(stream)\n",
        "            return stream\n",
        "        else:\n",
        "            print(\"ERROR: Azure Storage Blob Client does not exist.\")\n",
        "    \n",
        "    def deleteBlob(self, container_name, blob_name, verbose=True):\n",
        "        if self.blob_svc_client:\n",
        "            blob_client = self.blob_svc_client.get_blob_client(container=container_name, blob=blob_name)\n",
        "            blob_client.delete_blob()\n",
        "            if verbose:\n",
        "                print(f'{container_name}/{blob_name} deleted')\n",
        "        else:\n",
        "            print(\"ERROR: Azure Storage Blob Client does not exist.\")\n",
        "    "
      ],
      "metadata": {
        "id": "eKthP2bscHFb"
      },
      "execution_count": 7,
      "outputs": []
    },
    {
      "cell_type": "code",
      "source": [
        "import os\n",
        "import sys\n",
        "import random\n",
        "import pandas as pd\n",
        "import numpy as np\n",
        "\n",
        "from datetime import datetime \n",
        "from io import BytesIO\n",
        "from tqdm import tqdm\n",
        "from sklearn.impute import KNNImputer\n",
        "from sklearn.preprocessing import LabelEncoder, StandardScaler\n",
        "\n",
        "# if (\"UseSpark\" in os.environ) or (os.environ.get('UseSpark') == \"true\"):\n",
        "#   from pyspark.ml.feature import StringIndexer, OneHotEncoder, VectorAssembler, MinMaxScaler\n",
        "#   from pyspark.sql.functions import col\n",
        "\n",
        "from IPython.display import display\n",
        "# from CloudIO.AzStorageClient import AzStorageClient\n",
        "# import AzStorageClient\n",
        "\n",
        "def get_min_max(df):\n",
        "  return (df.min(), df.max())\n",
        "\n",
        "def get_min_max_datetime(df):\n",
        "  return (pd.to_datetime(df).min(), pd.to_datetime(df).max())\n",
        "\n",
        "def is_leap_year(year):\n",
        "  return year%4 == 0 ;\n",
        "\n",
        "def data_cleanup(data_dir, site_id_file_df, target, target_qc, features):\n",
        "  data_df = None\n",
        "  # qc_flag_dtype = CategoricalDtype([0, 1, 2, 3], ordered=True)\n",
        "  qc_flags_features = [s for s in features if \"_QC\" in s]\n",
        "\n",
        "  # Iterate through each site:\n",
        "  for i, r in site_id_file_df.iterrows():        \n",
        "    if not r.filename or type(r.filename) != type(\"\"):\n",
        "      print(f'\\nERROR: {r.site_id} is mssing hourly data.')\n",
        "      continue\n",
        "\n",
        "    # Get only `features` from file\n",
        "    local_filename = data_dir + os.sep + r.filename\n",
        "    site_df = pd.read_csv(local_filename, usecols = [target, target_qc] + features)\n",
        "    site_df['datetime'] = pd.to_datetime(site_df['datetime'])\n",
        "    site_df['date'] = pd.to_datetime(site_df['date'])\n",
        "    site_df['minute'] = site_df['datetime'].dt.minute\n",
        "    if len(qc_flags_features) != 0:\n",
        "      site_df[qc_flags_features] = site_df[qc_flags_features].astype('int')\n",
        "    site_df['site_id'] = r.site_id\n",
        "\n",
        "    # Add time index columns\n",
        "    site_df = add_time_index(site_df, 'datetime', '30T')\n",
        "\n",
        "    # Remove zero or negative SW\n",
        "    site_df.drop(site_df[site_df['SW_IN_ERA'] <= 0].index, inplace = True)\n",
        "\n",
        "    # Drop rows with NAs for Target Variable\n",
        "    site_df.dropna(subset=[target], axis=0, inplace=True)\n",
        "\n",
        "    # Drop rows with bad NEE_VUT_REF_QC (aka bad GPP records)\n",
        "    site_df.drop(site_df[site_df[target_qc] == 3].index, inplace = True)\n",
        "    site_df.drop([target_qc], axis=1, inplace=True)\n",
        "\n",
        "    # Drop rows with any NA\n",
        "    site_df.dropna(axis=0, inplace=True)\n",
        "\n",
        "    print(f\"{r.site_id}: {site_df.shape}\")\n",
        "    if type(data_df) == type(None):\n",
        "      data_df = site_df\n",
        "    else:\n",
        "      data_df = pd.concat([data_df, site_df])\n",
        "          \n",
        "  return data_df\n",
        "\n",
        "def merge_site_metadata(data_df, site_metadata_df):\n",
        "  data_df = data_df.merge(site_metadata_df, how='left', left_on='site_id', right_on='site_id')\n",
        "  return data_df\n",
        "\n",
        "def check_and_drop_na(data_df):\n",
        "  if data_df.isna().sum().sum() > 0:\n",
        "    print(\"Data has NA.\")\n",
        "    display(pd.DataFrame(data_df.isna().sum()).T)\n",
        "    data_df.dropna(axis=0, inplace=True)\n",
        "  else:\n",
        "    print(\"Datas has no NA.\")\n",
        "\n",
        "def add_time_index(data_df, time_col, duration):\n",
        "  resampled_df = data_df.sort_values(by=[time_col])\n",
        "  resampled_df.set_index(time_col, inplace=True)\n",
        "  resampled_df = resampled_df.resample(duration).mean()\n",
        "  resampled_df = resampled_df.reset_index()\n",
        "  resampled_df.index.name='timestep_idx'\n",
        "  resampled_df = resampled_df.reset_index()\n",
        "  data_df = data_df.merge(resampled_df[[time_col, 'timestep_idx']], how='left', on='datetime')\n",
        "  return data_df\n",
        "\n",
        "\n",
        "class PrepareMonthlyData:\n",
        "    def __init__(self, included_features, monthly_data_input_fname, data_dir):\n",
        "        self.included_features =included_features\n",
        "        self.data_dir = data_dir\n",
        "        self.monthly_data_input_fname = monthly_data_input_fname\n",
        "        self.month_df = pd.read_csv(self.monthly_data_input_fname, usecols=self.included_features)\n",
        "        self.month_df['date'] = pd.to_datetime(self.month_df['TIMESTAMP'],  format=\"%Y%m\")\n",
        "\n",
        "\n",
        "    def to_datetime(self, row):\n",
        "        return pd.to_datetime(f'{row.year}{row.month:02}', format='%Y%m')\n",
        "\n",
        "\n",
        "    def knn_impute(self, df, knn_imp_cols, k, weights):\n",
        "        # Fit and transform the data using KNNImputer, format as DF\n",
        "        inds = df.index.copy()\n",
        "        df_subcols = df[knn_imp_cols].copy()\n",
        "        df_subcols = df_subcols.dropna(axis=1, how='all')\n",
        "\n",
        "        # Execute imputation\n",
        "        imputer = KNNImputer(n_neighbors=k, weights=weights)\n",
        "        imputed_group = imputer.fit_transform(df_subcols)\n",
        "        imputed_group = pd.DataFrame(imputed_group, columns=df_subcols.columns, index=inds)\n",
        "\n",
        "        # Fill NA in initial site/group df\n",
        "        df.fillna(imputed_group, inplace=True)\n",
        "\n",
        "        return df\n",
        "\n",
        "\n",
        "    def impute(self, impute_method, resample_monthly, knn_imp_cols=None, k=None, weights=None, c=-1):\n",
        "        # Resample to fill in missing month gaps, and interpolate values at site-level\n",
        "        monthly_df = None\n",
        "\n",
        "        # Subset month_df to only sites with hourly records available\n",
        "        available_sites = [x[-10:-4] for x in os.listdir(self.data_dir)]\n",
        "        init_sites = len(self.month_df['SITE_ID'].unique())\n",
        "        self.month_df = self.month_df.loc[self.month_df['SITE_ID'].isin(available_sites)]\n",
        "        print(f\"# sites dropped bc not available in data_dir: {init_sites - len(self.month_df['SITE_ID'].unique())}\")\n",
        "        \n",
        "        # Loop through hourly site data to determine which months are present\n",
        "        for i, s in tqdm(enumerate(self.month_df['SITE_ID'].unique())):\n",
        "            # Get monthly data for site\n",
        "            site_month = self.month_df[self.month_df['SITE_ID'] == s].copy()\n",
        "            site_month.reset_index(drop = True, inplace=True)\n",
        "            site_month['gap_flag_month'] = int(0)\n",
        "\n",
        "            if resample_monthly:\n",
        "                # Get start and end range for given site <------------------------- CREATE DF NEXT TIME TO SAVE TIME (30 seconds per run)\n",
        "                site_file = f'data_full_half_hourly_raw_v0_1_{s}.csv'\n",
        "                site_hr_df = pd.read_csv(f\"{self.data_dir}/{site_file}\", usecols=['SITE_ID', 'datetime', 'year', 'month'])\n",
        "                dates = [d for d in pd.date_range(start=site_hr_df['datetime'].min(), end=site_hr_df['datetime'].max(), freq='M')]\n",
        "\n",
        "                # Create range of monthly dates from beginning of minimum month to beginning of next month after maximum month\n",
        "                site_hr_df['datetime'] = pd.to_datetime(site_hr_df['datetime'])\n",
        "                min_datetime = site_hr_df['datetime'].min()\n",
        "                max_datetime = site_hr_df['datetime'].max()\n",
        "                dates = pd.date_range(start=min_datetime.replace(day=1), end=max_datetime.replace(day=1) + pd.offsets.MonthBegin(1), freq='MS')\n",
        "\n",
        "                # Create dataframe\n",
        "                site_hr_df = pd.DataFrame({'datetime': dates})\n",
        "                site_hr_df['year'] = site_hr_df['datetime'].dt.year\n",
        "                site_hr_df['month'] = site_hr_df['datetime'].dt.month\n",
        "                site_hr_df['SITE_ID'] = s\n",
        "\n",
        "                # Resample montlhly data to get the months required in hourly data\n",
        "                pft = site_month['MODIS_PFT'][0] # retain PFT to fill new rows\n",
        "                igbp = site_month['MODIS_IGBP'][0] # retain PFT to fill new rows\n",
        "                site_month = pd.merge(site_hr_df, site_month, how='left', on =['SITE_ID', 'year', 'month'])\n",
        "                site_month['MODIS_PFT'] = pft\n",
        "                site_month['MODIS_IGBP'] = igbp\n",
        "                site_month['SITE_ID'] = s\n",
        "                site_month['gap_flag_month'].fillna(int(1), inplace=True)\n",
        "\n",
        "            # Fill in known values for new/resampled month-level rows\n",
        "            site_month['datetime'] = site_month.apply(self.to_datetime, axis=1)\n",
        "            site_month.set_index('datetime', inplace=True)\n",
        "            site_month.drop(columns='TIMESTAMP', inplace=True)\n",
        "            site_month.drop(columns='date', inplace=True)\n",
        "\n",
        "            # If any new months added by resample, interpolate gap values at site-level\n",
        "            if site_month.isna().sum().sum() != 0: \n",
        "                if impute_method == 'interpolate':\n",
        "                    site_month.interpolate(method='linear', limit_direction='both', inplace=True)\n",
        "\n",
        "                elif impute_method == 'knn':\n",
        "                    nan_cols = site_month.columns[site_month.isna().all()].tolist()\n",
        "                    site_month = self.knn_impute(site_month, knn_imp_cols, k, weights)\n",
        "                    if len(nan_cols) > 0:\n",
        "                        print(f'{s} has column(s) with only NAN: {nan_cols}')\n",
        "                        for c in nan_cols:\n",
        "                            site_month[c] = np.nan\n",
        "                            \n",
        "                elif impute_method == 'constant':\n",
        "                    monthly_df = self.month_df.fillna(c)\n",
        "\n",
        "            # Concat site_month to monthly_df\n",
        "            if type(monthly_df) == type(None):\n",
        "                monthly_df = site_month\n",
        "            else:\n",
        "                monthly_df = pd.concat([monthly_df, site_month])\n",
        "\n",
        "        # if any site had 100% missing for a feature, impute these using global data\n",
        "        if monthly_df.isna().sum().sum() != 0:\n",
        "            print(\"Imputing values where site has 100 percent of feature missing\")\n",
        "            print(f\"# of NA features before global impute: {monthly_df.isna().sum().sum()}\")\n",
        "            if impute_method == 'interpolate':\n",
        "                monthly_df.interpolate(method='linear', limit_direction='both', inplace=True)\n",
        "\n",
        "            elif impute_method == 'knn':\n",
        "                monthly_df = self.knn_impute(monthly_df, knn_imp_cols, k, weights)\n",
        "\n",
        "            elif impute_method == 'constant':\n",
        "                monthly_df = self.monthly_df.fillna(c)\n",
        "\n",
        "            print(f\"# of NA features after global impute: {monthly_df.isna().sum().sum()}\")\n",
        "\n",
        "        return monthly_df\n",
        "\n",
        "\n",
        "    def run(self, impute=False, impute_method=None, resample_monthly=False, knn_imp_cols=None, k=None, weights=None, c=-1):\n",
        "        # Hanlde missing values\n",
        "        if impute:\n",
        "            print(f\"Impute method: {impute_method}\")\n",
        "            print(f\"Resampling and gap filling missing months: {resample_monthly}\")\n",
        "            monthly_df = self.impute(impute_method, resample_monthly, knn_imp_cols, k, weights, c)\n",
        "        else:\n",
        "            print(\"Not gap filling or filling NAs, leave be\")\n",
        "            available_sites = [x[-10:-4] for x in os.listdir(self.data_dir)]\n",
        "            self.month_df = self.month_df.loc[self.month_df['SITE_ID'].isin(available_sites)]\n",
        "            monthly_df = self.month_df.copy()\n",
        "            \n",
        "        # Confirm No NAS\n",
        "        if monthly_df.isna().sum().sum() == 0:\n",
        "            print(\"Confirmed: No NA values remain\")\n",
        "        elif type(impute_method) != type(None):\n",
        "            print(\"ISSUE: SOME NA VALUES REMAIN - INVESTIGATE\")\n",
        "            monthly_df.isna().sum()\n",
        "\n",
        "        return monthly_df\n",
        "        \n",
        "\n",
        "class PrepareAllSitesHourly:\n",
        "    def __init__(self, site_metadata_filename, monthly_data_filename, train_sites, val_sites, test_sites, \n",
        "                hourly_features, metadata_features, target_variable_qc, target_variable, data_dir):\n",
        "        self.site_metadata_filename = site_metadata_filename\n",
        "        self.monthly_data_filename = monthly_data_filename\n",
        "        self.train_sites = train_sites\n",
        "        self.val_sites = val_sites\n",
        "        self.test_sites = test_sites\n",
        "        if train_sites is not None and val_sites is not None and test_sites is not None:\n",
        "          self.all_sites = train_sites + val_sites + test_sites\n",
        "        else:\n",
        "          self.all_sites = None\n",
        "        self.hourly_features = hourly_features\n",
        "        self.metadata_features = metadata_features\n",
        "        self.target_variable_qc = target_variable_qc\n",
        "        self.target_variable = target_variable\n",
        "        self.data_dir = data_dir\n",
        "\n",
        "    def add_time_index(self, df, time_col, duration, site_id):\n",
        "        df['gap_flag_hour'] = int(0)\n",
        "        df.sort_values(time_col, inplace=True)\n",
        "        df.set_index(time_col, inplace=True)\n",
        "        df = df.resample(duration).first()\n",
        "        df = df.reset_index()\n",
        "        df['gap_flag_hour'].fillna(int(1), inplace=True)\n",
        "\n",
        "        # Fix time records that are NA for new rows\n",
        "        df['year'] = df['datetime'].dt.year.astype(int)\n",
        "        df['month'] = df['datetime'].dt.month.astype(int)\n",
        "        df['day'] = df['datetime'].dt.day.astype(int)\n",
        "        df['hour'] = df['datetime'].dt.hour.astype(int)\n",
        "        df['date'] = df['datetime'].dt.date\n",
        "        df['site_id'] = site_id\n",
        "\n",
        "        return df\n",
        "\n",
        "\n",
        "    def knn_impute(self, df, imp_cols, k, weights, n_fit=20000):\n",
        "        # Init Imputer\n",
        "        imputer = KNNImputer(n_neighbors=k, weights=weights)\n",
        "\n",
        "        # Get subset of rows to speed up impute time (instead of fitting on every single record)\n",
        "        df_subcols = df[imp_cols].copy()\n",
        "        na_mask = df_subcols.isna().any(axis=1)\n",
        "        na_rows = df_subcols[na_mask]\n",
        "        nan_cols = []\n",
        "        imputed_group_columns = df_subcols.columns\n",
        "\n",
        "        # If there are at least 10k rows that don't have NA, use them to fit imputer (saves time)\n",
        "        if (len(df) - len(na_rows)) > 10000:\n",
        "            not_na_rows = df_subcols.dropna()\n",
        "            not_na_rows = not_na_rows[na_rows.columns]\n",
        "            not_na_rows = not_na_rows.sample(n=np.min([n_fit, len(not_na_rows)]))\n",
        "            imputer.fit(not_na_rows)\n",
        "            imputed_group = imputer.transform(na_rows)\n",
        "        else:\n",
        "            nan_cols = na_rows.columns[na_rows.isna().all()].tolist()\n",
        "            na_rows = na_rows.dropna(axis=1, how='all')\n",
        "            imputed_group_columns = na_rows.columns\n",
        "            imputed_group = imputer.fit_transform(na_rows)\n",
        "\n",
        "        imputed_group = pd.DataFrame(imputed_group, columns=imputed_group_columns, index=na_rows.index)\n",
        "        if len(nan_cols) > 0:\n",
        "            print(f'  Column(s) with only NAN: {nan_cols}')\n",
        "            for c in nan_cols:\n",
        "                imputed_group[c] = np.nan\n",
        "\n",
        "        # Reinsert NA rows\n",
        "        df_subcols.loc[na_mask] = imputed_group\n",
        "\n",
        "        # Fill NA in initial site/group df\n",
        "        df.fillna(df_subcols, inplace=True)\n",
        "\n",
        "        return df\n",
        "\n",
        "    \n",
        "    def check_imputation(self, df_init,  df_imputed):\n",
        "        # Drop NA rows from both (using indices) confirm they are same df now\n",
        "        drop_na = df_init.dropna(how='any')\n",
        "        drop_imp = df_imputed.loc[drop_na.index, ]\n",
        "        drop_na.reset_index(inplace=True, drop=True)\n",
        "        drop_imp.reset_index(inplace=True, drop=True)\n",
        "        if not drop_na.equals(drop_imp):\n",
        "            print(\"IMPUTATION ERROR: Non-NA values were affected in imputation\")\n",
        "\n",
        "        # Check that 50 rows that initial had NA are the same in non-NA cols\n",
        "        na_inds = df_init.loc[df_init.isna().any(axis=1), ].index\n",
        "        errors = 0\n",
        "        for ind in na_inds[:50]:\n",
        "            check_ind = pd.concat([df_init.iloc[ind], df_imputed.iloc[ind]], axis=1).dropna()\n",
        "            check_ind.columns = ['initial', 'post_imp']\n",
        "            if not check_ind['initial'].equals(check_ind['post_imp']):\n",
        "                errors += 1\n",
        "                print(ind)\n",
        "\n",
        "        if errors != 0:\n",
        "            print(\"IMPUTATION ERROR: Non-NA values in rows with NA were affected by imputation\")\n",
        "\n",
        "        # DF length is the same \n",
        "        if len(df_init) != len(df_imputed):\n",
        "            print(\"IMPUTATION ERROR: Post imputation df has different row count than initial df\")\n",
        "\n",
        "\n",
        "    def filter_date_range(self, df, start_date, end_date, time_col, missing_thresh=0.2):\n",
        "        df.set_index(time_col, inplace=True)\n",
        "        filtered_df = df.loc[start_date:end_date].copy()\n",
        "\n",
        "        # Remove sites without at least one year of records\n",
        "        if len(filtered_df) < 365*24:\n",
        "            return None\n",
        "        else:\n",
        "            # Remove sites that have > 20% gaps in sequence\n",
        "            first_date = filtered_df.index.min()\n",
        "            last_date = filtered_df.index.max()\n",
        "            total_expected_count = len(pd.date_range(start=first_date, end=last_date, freq='H'))\n",
        "            missing_percentage = (total_expected_count - len(filtered_df)) / total_expected_count\n",
        "\n",
        "            if missing_percentage > missing_thresh:\n",
        "                return None\n",
        "            else:\n",
        "                filtered_df.reset_index(inplace=True)\n",
        "                return filtered_df\n",
        "            \n",
        "\n",
        "    def prep_metadata(self):\n",
        "        site_metadata_df = pd.read_csv(self.site_metadata_filename, usecols = self.metadata_features)\n",
        "        \n",
        "        if self.all_sites is not None:\n",
        "          site_metadata_df = site_metadata_df.loc[site_metadata_df['site_id'].isin(self.all_sites), ]\n",
        "        \n",
        "        site_metadata_df = site_metadata_df.loc[site_metadata_df['monthly_data_available']=='Yes', ] # <---- not including sites that have zero monthly data (ask team)\n",
        "        site_metadata_df.reset_index(inplace=True, drop=True)\n",
        "        return site_metadata_df\n",
        "\n",
        "\n",
        "    def merge_site_metadata(self, data_df, site_metadata_df):\n",
        "        site_metadata_df = site_metadata_df.drop(['filename', 'monthly_data_available'], axis=1)\n",
        "        data_df = data_df.merge(site_metadata_df, how='left', left_on='site_id', right_on='site_id')\n",
        "        print(f\"Data size after after merged with site metadata: {data_df.shape}\")\n",
        "\n",
        "        if data_df.isna().sum().sum() != 0:\n",
        "            print(f\"Missing values after metadata merge {data_df.isna().sum().sum()} \")\n",
        "\n",
        "        return data_df\n",
        "\n",
        "\n",
        "    def merge_monthly_data(self, data_df):\n",
        "        # Prep monthly\n",
        "        monthly_df = pd.read_csv(self.monthly_data_filename)\n",
        "        monthly_df.reset_index(inplace=True, drop=True)\n",
        "        monthly_df[['year','month', 'MODIS_LC']] = monthly_df[['year','month', 'MODIS_LC']].astype('int')\n",
        "\n",
        "        if monthly_df.isna().sum().sum() != 0:\n",
        "            print(f\"{monthly_df.isna().sum().sum()} missing values in monthly data\")\n",
        "\n",
        "        # Merge\n",
        "        data_df = data_df.merge(monthly_df, how='left',\n",
        "                        left_on =['site_id', 'year', 'month'],\n",
        "                        right_on=['SITE_ID', 'year', 'month'])\n",
        "        data_df.drop('SITE_ID', axis=1, inplace=True)\n",
        "        print(f\"Data size after after merged with monthly data: {data_df.shape}\")\n",
        "\n",
        "        if data_df.isna().sum().sum() != 0:\n",
        "            print(f\"{data_df.isna().sum().sum()} missing values introduced after monthly merge\")\n",
        "\n",
        "        return data_df\n",
        "    \n",
        "\n",
        "    def site_data_cleanup(self, site_metadata_df, imp_cols, resample, impute, impute_method,\n",
        "                         impute_global, k, weights, n_fit, time_col, duration, start_date, end_date, missing_thresh=0.2, c=None):\n",
        "        data_df = None\n",
        "        num_records = 0\n",
        "        available_site_count = 0\n",
        "        retained_site_count = 0\n",
        "        qc_flags_features = [s for s in self.hourly_features if \"_QC\" in s]\n",
        "\n",
        "        # Global time index base\n",
        "        global_time_index_base = datetime(1970, 1, 1, 0, 0, 0)\n",
        "\n",
        "        ## SITE-LEVEL CLEANING -> LOOP & CONCATENATE\n",
        "        for i, r in tqdm(site_metadata_df[['site_id','filename']].iterrows()):\n",
        "          if not r.filename or type(r.filename) != type(\"\"):\n",
        "            print(f'SKIP: {r.site_id} is missing hourly data.')\n",
        "            continue\n",
        "\n",
        "          available_site_count += 1  \n",
        "\n",
        "          # Prepare hourly site df\n",
        "          local_filename = self.data_dir + os.sep + r.filename\n",
        "          site_df = pd.read_csv(local_filename, usecols = [self.target_variable] + self.hourly_features)\n",
        "\n",
        "          # Format columns\n",
        "          site_df['datetime'] = pd.to_datetime(site_df['datetime'])\n",
        "          site_df['date'] = pd.to_datetime(site_df['date'])\n",
        "          site_df['minute'] = site_df['datetime'].dt.minute\n",
        "          if len(qc_flags_features) != 0:\n",
        "              site_df[qc_flags_features] = site_df[qc_flags_features].astype('int')\n",
        "          site_df['site_id'] = r.site_id\n",
        "\n",
        "          # Move from HH to H level\n",
        "          site_df = site_df.loc[site_df['datetime'].dt.minute == 0, ].copy()\n",
        "          site_df.drop('minute', axis=1, inplace=True)\n",
        "            \n",
        "          # Filter site date-range and drop sites without > 1 year and <20% gaps after trim\n",
        "          if start_date is not None and end_date is not None:\n",
        "            site_df = self.filter_date_range(site_df, start_date, end_date, time_col, missing_thresh)\n",
        "          \n",
        "          if site_df is None:\n",
        "              print(f'SKIP: {r.site_id} does not have sufficient data in desired time period')\n",
        "              continue\n",
        "          else:\n",
        "              retained_site_count += 1\n",
        "              num_records += len(site_df)\n",
        "\n",
        "          # Resample to add rows for missing timesteps, assign timestep_idx and \"gap_flag\"\n",
        "          if resample:\n",
        "              site_df = self.add_time_index(site_df, time_col, duration, site_id=r.site_id)\n",
        "          else:\n",
        "              site_df['gap_flag_hour'] = 0\n",
        "              site_df.sort_values(time_col, inplace=True)\n",
        "              site_df = site_df.reset_index()\n",
        "\n",
        "          # Save site_df pre-imputation to check post-imputation (once per run, random site each time)\n",
        "          if self.all_sites is not None:\n",
        "            random_check = random.randint(0, len(self.all_sites))\n",
        "          else:\n",
        "            random_check = random.randint(0, site_metadata_df['site_id'].unique().shape[0])\n",
        "          \n",
        "          if i == random_check:   \n",
        "              site_df_pre_imp = site_df.copy()\n",
        "          \n",
        "          # Impute missing values at site-level, otherwise fillna w/ -1 at very end\n",
        "          if (impute) & (site_df.isna().sum().sum() != 0):\n",
        "              if impute_method=='ffill': # select most recent record\n",
        "                  site_df.sort_values(time_col, ascending=True, inplace=True)\n",
        "                  site_df.fillna(method=\"ffill\", inplace=True)\n",
        "              elif impute_method=='knn': # use KNNImputer\n",
        "                  nan_cols = site_df.columns[site_df.isna().all()].tolist()\n",
        "                  site_df = self.knn_impute(site_df, imp_cols, k, weights, n_fit)\n",
        "                  if len(nan_cols) > 0:\n",
        "                      print(f'{r.site_id} has column(s) with only NAN: {nan_cols}')\n",
        "                      for c in nan_cols:\n",
        "                          site_df[c] = pd.NA\n",
        "              elif impute_method=='constant':\n",
        "                  site_df[imp_cols] = site_df[imp_cols].fillna(c)\n",
        "\n",
        "          if i == random_check:\n",
        "              self.check_imputation(site_df_pre_imp, site_df)\n",
        "          \n",
        "          # Create local timestep_idx\n",
        "          site_df.sort_values(time_col, ascending=True, inplace=True)\n",
        "          site_df['timestep_idx_local'] = range(len(site_df))\n",
        "\n",
        "          # Create global timestamp inds\n",
        "          site_df['timestep_idx_global'] = (site_df[time_col]- global_time_index_base).\\\n",
        "                                            apply(lambda x: int(x.total_seconds() / 3600))\n",
        "\n",
        "          # Concatenate site_dfs together into global data_df\n",
        "          print(f'{i+1}. {r.site_id}: {site_df.shape}')\n",
        "          if type(data_df) == type(None):\n",
        "              data_df = site_df\n",
        "          else:\n",
        "              data_df = pd.concat([data_df, site_df])\n",
        "        # End all-site loop\n",
        "\n",
        "        ## Global Data-DF Cleanup\n",
        "        # Order cols + sort\n",
        "        data_df.sort_values(['site_id', time_col], ascending=True, inplace=True)\n",
        "\n",
        "        # Print stats\n",
        "        print(f\"Initial records: {num_records}, Final records after resampling + gap-filling: {len(data_df)}\")\n",
        "        print(f\"Total retained sites: {retained_site_count}/{available_site_count} = {retained_site_count/available_site_count:.2f}\")\n",
        "\n",
        "        # Handle remaining missing data (if 100% of feature missing for one site)\n",
        "        print(f\"Missing values after site-level imputation: {data_df.isna().sum().sum()}\")\n",
        "        if (impute_global) & (data_df.isna().sum().sum() != 0):\n",
        "            if impute_method=='ffill': # select most recent record\n",
        "                data_df.sort_values(time_col, ascending=True, inplace=True)\n",
        "                data_df.fillna(method=\"ffill\", inplace=True)\n",
        "                data_df.fillna(method=\"bfill\", inplace=True) # in rare case of missing first record\n",
        "                \n",
        "            elif impute_method=='knn': # use KNNImputer\n",
        "                data_df = self.knn_impute(data_df, imp_cols, k, weights, n_fit)\n",
        "\n",
        "            elif impute_method=='constant':\n",
        "                data_df[imp_cols] = data_df[imp_cols].fillna(c)\n",
        "        else:\n",
        "            print(\"Not imputing missing values at global level\")\n",
        "        print(f\"Missing values after global-level imputation: {data_df.isna().sum().sum()}\")\n",
        "\n",
        "        return data_df\n",
        "    \n",
        "\n",
        "    def all_sites_all_sources(self, imp_cols, resample, impute, impute_method, impute_global, k,\n",
        "                            weights, n_fit, time_col, duration, start_date, end_date, missing_thresh, c):\n",
        "        \n",
        "        site_metadata_df = self.prep_metadata()\n",
        "        \n",
        "        if self.all_sites is not None:\n",
        "          sites_missing_monthly = [s for s in self.all_sites if s not in site_metadata_df['site_id'].values]\n",
        "          if len(sites_missing_monthly):\n",
        "            print(f'Sites with missing monthly data: {sites_missing_monthly}')\n",
        "\n",
        "        data_df = self.site_data_cleanup(site_metadata_df, imp_cols, resample, impute, impute_method, \n",
        "                                        impute_global, k, weights, n_fit, time_col, duration, start_date, end_date, missing_thresh, c)\n",
        "\n",
        "        # Merge with site metadata and monthly data\n",
        "        data_df = self.merge_site_metadata(data_df, site_metadata_df)\n",
        "        data_df = self.merge_monthly_data(data_df)\n",
        "\n",
        "        # Reorder columns\n",
        "        features = data_df.columns.to_list()\n",
        "        remove_cols = [self.target_variable, 'site_id', 'timestep_idx_local', 'timestep_idx_global', 'datetime', 'date', 'year', 'month', 'day', 'hour', 'gap_flag_hour', 'gap_flag_month']\n",
        "        features = list(filter(lambda x: x not in remove_cols, features))\n",
        "        data_df = data_df[([self.target_variable, 'site_id', 'timestep_idx_local', 'timestep_idx_global', 'datetime', 'date', 'year', 'month', 'day', 'hour'] + features + ['gap_flag_hour', 'gap_flag_month'])]\n",
        "\n",
        "        return data_df\n",
        "\n",
        "if (\"UseSpark\" in os.environ) or (os.environ.get('UseSpark') == \"true\"):\n",
        "    class PySparkMLDataTransformer:\n",
        "      def __init__(self, spark_session, train_sites, test_sites, \\\n",
        "                  data_file_path = None, data_df = None, ):\n",
        "        \n",
        "        self.spark_session = spark_session\n",
        "        self.data_df = data_df \n",
        "        self.train_df = None \n",
        "        self.test_df = None \n",
        "        self.train_sites = train_sites\n",
        "        self.test_sites = test_sites\n",
        "        self.scaler = None\n",
        "\n",
        "        if type(data_df) == type(None):\n",
        "          if os.path.exists(data_file_path):\n",
        "            self.data_df = self.spark_session.read.parquet(data_file_path)\n",
        "            if '__index_level_0__' in self.data_df.columns:\n",
        "              self.data_df = self.data_df.drop(*['__index_level_0__'])\n",
        "          else:\n",
        "            print(f\"ERROR: {data_file_path} not found.\")\n",
        "        \n",
        "        if 'date' in self.data_df.columns:\n",
        "          self.data_df = self.data_df.drop(*['date'])\n",
        "        print(f\"Data loaded: {self.data_df.count()} rows x {len(self.data_df.columns)} columns.\")\n",
        "      \n",
        "      def data_transform(self, categorical_cols, timestamp_cols, target_col):\n",
        "        self.categorical_cols = categorical_cols\n",
        "        self.timestamp_cols =  timestamp_cols\n",
        "        self.target_col =  target_col\n",
        "\n",
        "        # One-Hot Encoding\n",
        "        string_indexer = StringIndexer(inputCols=categorical_cols, outputCols=[x + \"_Index\" for x in categorical_cols]) \n",
        "        self.data_df = string_indexer.fit(self.data_df).transform(self.data_df)\n",
        "        one_hot_encoder  = OneHotEncoder(inputCols=string_indexer.getOutputCols(), outputCols=[x + \"_OHE\" for x in categorical_cols])\n",
        "        self.data_df = one_hot_encoder.fit(self.data_df).transform(self.data_df)\n",
        "        self.data_df = self.data_df.drop(*string_indexer.getOutputCols())\n",
        "\n",
        "        print(f\"Data size after encoding: {self.data_df.count()} rows x {len(self.data_df.columns)} columns.\")\n",
        "        self.data_df.show(5, False)\n",
        "\n",
        "        # Get Features\n",
        "        features = self.data_df.columns\n",
        "        features.remove(target_col)\n",
        "        features.remove('site_id')\n",
        "        for f in categorical_cols + timestamp_cols:\n",
        "          features.remove(f)\n",
        "        print(f\"Features({len(features)}): {features}\")\n",
        "\n",
        "        # Assemable Data\n",
        "        assembler = VectorAssembler(inputCols=features, outputCol=\"vectorized_features\")\n",
        "        self.data_df = assembler.transform(self.data_df)\n",
        "        print(f\"Data size after assembling: {self.data_df.count()} rows x {len(self.data_df.columns)} columns.\")\n",
        "        self.data_df.show(5, False)\n",
        "\n",
        "        # Split into train and test sets\n",
        "        train_df = self.data_df.filter(col('site_id').isin(self.train_sites))\n",
        "        test_df = self.data_df.filter(col('site_id').isin(self.test_sites))\n",
        "        print(f\"Train data size: {train_df.count()} rows x {len(train_df.columns)} columns.\")\n",
        "        print(f\"Test data size: {test_df.count()} rows x {len(test_df.columns)} columns.\")\n",
        "\n",
        "        print(\"Train data peak:\")\n",
        "        train_df.show(5, False)\n",
        "        print(\"Test data peak:\")\n",
        "        test_df.show(5, False)\n",
        "\n",
        "        # Normalize data\n",
        "        self.scaler = MinMaxScaler(inputCol='vectorized_features', outputCol='features').fit(train_df)\n",
        "        train_df = self.scaler.transform(train_df)\n",
        "        test_df = self.scaler.transform(test_df)\n",
        "\n",
        "        train_df = train_df.drop(*['vectorized_features'])\n",
        "        test_df = test_df.drop(*['vectorized_features'])\n",
        "        print(f\"Train data size: {train_df.count()} rows x {len(train_df.columns)} columns.\")\n",
        "        print(f\"Test data size: {test_df.count()} rows x {len(test_df.columns)} columns.\")\n",
        "\n",
        "        self.train_df = train_df\n",
        "        self.test_df = test_df\n",
        "        return (train_df, test_df)\n",
        "      \n",
        "      def upload_train_test_to_azure(self, az_cred_file, container, train_blob_name, val_blob_name, test_blob_name):\n",
        "        # Initialize AzStorageClient \n",
        "        azStorageClient = AzStorageClient(az_cred_file)\n",
        "        sessionkeys = azStorageClient.getSparkSessionKeys()\n",
        "        self.spark_session.conf.set(sessionkeys[0],sessionkeys[1])\n",
        "\n",
        "        # Upload train dataset\n",
        "        train_blob_path = f\"wasbs://{container}@{sessionkeys[2]}.blob.core.windows.net/{train_blob_name}\"\n",
        "        print(f\"Uploading train dataset to {train_blob_path}...\")\n",
        "        self.train_df.write.format(\"parquet\").mode(\"overwrite\").save(train_blob_path)\n",
        "\n",
        "        # Upload val dataset\n",
        "        val_blob_name = f\"wasbs://{container}@{sessionkeys[2]}.blob.core.windows.net/{val_blob_name}\"\n",
        "        print(f\"Uploading train dataset to {val_blob_name}...\")\n",
        "        self.val_df.write.format(\"parquet\").mode(\"overwrite\").save(val_blob_name)\n",
        "\n",
        "        # Upload test dataset\n",
        "        test_blob_path = f\"wasbs://{container}@{sessionkeys[2]}.blob.core.windows.net/{test_blob_name}\"\n",
        "        print(f\"Uploading test dataset to {test_blob_path}...\")\n",
        "        self.test_df.write.format(\"parquet\").mode(\"overwrite\").save(test_blob_path)\n",
        "\n",
        "class TFTDataTransformer:\n",
        "  def __init__(self, train_sites, val_sites, test_sites, \\\n",
        "              data_file_path = None, data_df = None):\n",
        "    \n",
        "    self.data_df = data_df \n",
        "    self.train_sites = train_sites\n",
        "    self.val_sites = val_sites\n",
        "    self.test_sites = test_sites\n",
        "    self.scaler = None\n",
        "\n",
        "    # Load data df\n",
        "    if type(data_df) == type(None):\n",
        "      if os.path.exists(data_file_path):\n",
        "        self.data_df = pd.read_parquet(data_file_path, engine='pyarrow')\n",
        "      else:\n",
        "        print(f\"ERROR: {data_file_path} not found.\")\n",
        "    \n",
        "    if 'date' in self.data_df.columns:\n",
        "      self.data_df = self.data_df.drop(['date'], axis = 1)\n",
        "    print(f\"Data size: {self.data_df.shape}.\")\n",
        "\n",
        "  def get_test_train_raw(self):\n",
        "    train_df = self.data_df[self.data_df['site_id'].isin(self.train_sites)]\n",
        "    test_df  = self.data_df[self.data_df['site_id'].isin(self.test_sites)]\n",
        "    print(f\"Train data size: {train_df.shape}.\")\n",
        "    print(f\"Test data size: {test_df.shape}.\")\n",
        "\n",
        "    self.train_df = train_df\n",
        "    self.test_df = test_df\n",
        "    return (train_df, test_df)\n",
        "\n",
        "  def data_transform(self, categorical_cols, realNum_cols, cat_encode_type='label'):\n",
        "    data_df = self.data_df\n",
        "    print(f\"Data size: {self.data_df.shape}.\")\n",
        "\n",
        "    # Encode the categorical columns\n",
        "    if cat_encode_type == 'label':\n",
        "      data_df[categorical_cols] = data_df[categorical_cols].apply(LabelEncoder().fit_transform)\n",
        "    elif cat_encode_type == 'dummy':\n",
        "      dummy_df = pd.get_dummies(data_df[categorical_cols])\n",
        "      data_df = data_df.drop(columns=categorical_cols)\n",
        "      data_df = pd.concat([data_df, dummy_df], axis=1)\n",
        "    print(f\"Data size after encoding: {data_df.shape}\")\n",
        "      \n",
        "    # Split into train, val, and test sets\n",
        "    train_df = data_df.loc[data_df['site_id'].isin(self.train_sites), ].copy()\n",
        "    val_df = data_df.loc[data_df['site_id'].isin(self.val_sites), ].copy()\n",
        "    test_df  = data_df.loc[data_df['site_id'].isin(self.test_sites), ].copy()\n",
        "    print(f\"Number of sites in df: {len(data_df['site_id'].unique())}\")\n",
        "    print(f\"Train Sites: {train_df['site_id'].unique()}\")\n",
        "    print(f\"Val Sites: {val_df['site_id'].unique()}\")\n",
        "    print(f\"Test Sites: {test_df['site_id'].unique()}\")\n",
        "\n",
        "    # Normalize data\n",
        "    print(f\"Normalizing real features ({len(realNum_cols)})\")\n",
        "    scaler = StandardScaler().fit(train_df[realNum_cols])\n",
        "    train_df.loc[:,realNum_cols] = scaler.transform(train_df[realNum_cols])\n",
        "    val_df.loc[:,realNum_cols] = scaler.transform(val_df[realNum_cols])\n",
        "    test_df.loc[:,realNum_cols] = scaler.transform(test_df[realNum_cols])\n",
        "\n",
        "    # Save scaler object <--- later\n",
        "    \n",
        "    print(f\"Train data size: {train_df.shape}.\")\n",
        "    print(f\"Val data size: {val_df.shape}.\")\n",
        "    print(f\"Test data size: {test_df.shape}.\")  \n",
        "    train_df.reset_index(inplace=True, drop=True)\n",
        "    val_df.reset_index(inplace=True, drop=True)\n",
        "    test_df.reset_index(inplace=True, drop=True)\n",
        "\n",
        "    self.train_df = train_df\n",
        "    self.val_df = val_df\n",
        "    self.test_df = test_df\n",
        "    return (train_df, val_df, test_df)\n",
        "\n",
        "  def upload_train_test_to_azure(self, az_cred_file, container, train_blob_name, test_blob_name):\n",
        "    # Initialize AzStorageClient \n",
        "    azStorageClient = AzStorageClient(az_cred_file)\n",
        "\n",
        "    # Upload train dataset\n",
        "    train_file = BytesIO()\n",
        "    self.train_df.to_parquet(train_file, engine='pyarrow')\n",
        "    train_file.seek(0)\n",
        "    print(f\"Uploading train dataset to {train_blob_name}...\")\n",
        "    azStorageClient.uploadBlob(container, train_blob_name, train_file, overwrite=True)\n",
        "\n",
        "    # Upload test dataset\n",
        "    test_file = BytesIO()\n",
        "    self.test_df.to_parquet(test_file, engine='pyarrow')\n",
        "    test_file.seek(0)\n",
        "    print(f\"Uploading test dataset to {test_blob_name}...\")\n",
        "    azStorageClient.uploadBlob(container, test_blob_name, test_file, overwrite=True)\n"
      ],
      "metadata": {
        "id": "pMYCv6JxbMz-"
      },
      "execution_count": 8,
      "outputs": []
    },
    {
      "cell_type": "code",
      "source": [
        "# NEW\n",
        "# MY_HOME_ABS_PATH = \"/root/co2-flux-hourly-gpp-modeling\"\n",
        "\n",
        "# Inmport Libraries\n",
        "import os\n",
        "os.chdir(MY_HOME_ABS_PATH)\n",
        "\n",
        "import sys\n",
        "import warnings\n",
        "warnings.filterwarnings(\"ignore\")\n",
        "import copy\n",
        "import logging\n",
        "import json\n",
        "from pathlib import Path\n",
        "import numpy as np\n",
        "import pandas as pd\n",
        "import matplotlib.pyplot as plt\n",
        "from typing import Any, Dict, List, Tuple, Union\n",
        "import tensorflow as tf\n",
        "import pytorch_lightning as pl\n",
        "from pytorch_lightning import Callback\n",
        "from pytorch_lightning.callbacks import EarlyStopping, LearningRateMonitor\n",
        "from pytorch_lightning.loggers import TensorBoardLogger\n",
        "import statsmodels.api as sm\n",
        "import torch\n",
        "import torch.nn as nn\n",
        "from torch.utils.data import DataLoader\n",
        "\n",
        "from pytorch_forecasting import Baseline, TemporalFusionTransformer, TimeSeriesDataSet\n",
        "from pytorch_forecasting.data import GroupNormalizer\n",
        "from pytorch_forecasting.metrics import SMAPE, PoissonLoss, QuantileLoss\n",
        "from pytorch_forecasting.models.temporal_fusion_transformer.tuning import optimize_hyperparameters\n",
        "from pytorch_forecasting import BaseModel, MAE\n",
        "from pytorch_forecasting.metrics.point import RMSE\n",
        "from pytorch_forecasting.data.encoders import NaNLabelEncoder\n",
        "\n",
        "import optuna\n",
        "from optuna.integration import PyTorchLightningPruningCallback, TensorBoardCallback\n",
        "import optuna.logging\n",
        "\n",
        "from sklearn.metrics import r2_score\n",
        "from timeit import default_timer\n",
        "from datetime import datetime\n",
        "import gc\n",
        "import pickle\n",
        "\n",
        "# Load locale custome modules\n",
        "os.chdir(MY_HOME_ABS_PATH)\n",
        "sys.path.append('./.cred')\n",
        "sys.path.append('./code/src/tools')\n",
        "sys.path.append(os.path.abspath(\"./code/src/tools\"))\n",
        "  \n",
        "from AzStorageClient import AzStorageClient\n",
        "# from data_pipeline_lib import *\n",
        "\n",
        "pd.set_option('display.max_columns', None)\n",
        "pd.set_option('display.float_format', lambda x: '%.5f' % x)\n",
        "pl.seed_everything(42)\n",
        "\n",
        "root_dir =  MY_HOME_ABS_PATH\n",
        "tmp_dir =  root_dir + os.sep + 'tmp'\n",
        "data_dir = root_dir + os.sep + 'data'\n",
        "model_dir = data_dir + os.sep + 'models'\n",
        "cred_dir = root_dir + os.sep + 'cred'\n",
        "az_cred_file = cred_dir + os.sep + 'azblobcred.json'\n",
        "\n",
        "# Data loading functions\n",
        "\n",
        "def get_raw_datasets(container, blob_name):\n",
        "    local_file = tmp_dir + os.sep + blob_name\n",
        "    data_df = None\n",
        "    if not (os.path.exists(local_file)):\n",
        "        azStorageClient = AzStorageClient(az_cred_file)\n",
        "        file_stream = azStorageClient.downloadBlob2Stream(container, blob_name)\n",
        "        data_df = pd.read_parquet(file_stream, engine='pyarrow')\n",
        "        data_df.to_parquet(local_file)\n",
        "    else:\n",
        "        data_df = pd.read_parquet(local_file)\n",
        "    \n",
        "    print(f\"Data size: {data_df.shape}\")\n",
        "    \n",
        "    # Convert Dtypes\n",
        "    cat_cols = [\"year\", \"month\", \"day\", \"hour\", \"MODIS_IGBP\", \"koppen_main\", \"koppen_sub\", \n",
        "                \"gap_flag_month\", \"gap_flag_hour\"]\n",
        "    for col in cat_cols:\n",
        "        data_df[col] = data_df[col].astype(str).astype(\"category\")\n",
        "    \n",
        "    print(f\"Data Columns: {data_df.columns}\")\n",
        "    print(f\"NA count: {data_df.isna().sum().sum()}\")\n",
        "    return data_df\n",
        "\n",
        "def get_splited_datasets(data_df, val_index, test_index):\n",
        "          \n",
        "    SITE_SPLITS =[\n",
        "      ['AR-SLu', 'AU-ASM', 'AU-Cpr', 'AU-Cum', 'AU-RDF', 'CA-TP3', 'CA-TPD', 'CN-Sw2',\n",
        "        'DE-SfN', 'NL-Hor', 'US-Me6', 'US-Syv', 'US-WCr', 'US-AR2', 'US-Tw4', 'US-UMB', \n",
        "        'US-Vcp', 'CH-Cha', 'CZ-BK1', 'CZ-KrP', 'DE-Obe', 'ES-LJu', 'FI-Let', 'FR-Lam', \n",
        "        'IT-Lav', 'SE-Lnn'], \n",
        "      ['CZ-BK2', 'DE-Spw', 'FR-Pue', 'IT-CA3', 'IT-Noe', 'IT-Ro2', 'US-IB2', 'US-Myb',\n",
        "        'US-SRM', 'CA-Ca3', 'US-CRT', 'US-Fmf', 'US-KFS', 'US-Prr', 'US-UMd', 'US-Wjs',\n",
        "        'BE-Bra', 'BE-Lon', 'CH-Lae', 'CZ-RAJ', 'DE-HoH', 'DE-Kli', 'DE-RuR', 'IL-Yat', \n",
        "        'IT-Tor', 'SE-Htm'], \n",
        "      ['AR-Vir', 'AT-Neu', 'AU-DaS', 'AU-TTE', 'AU-Wom', 'CA-TP1', 'IT-CA1', 'IT-SRo',\n",
        "        'US-WPT', 'US-Wkg', 'CA-Ca2', 'CA-Cbo', 'CA-TP4', 'US-ARM', 'US-Ro1', 'US-Rws',\n",
        "        'US-SRG', 'US-Vcm', 'BE-Dor', 'BE-Vie', 'CZ-Stn', 'DE-Geb', 'ES-LM2', 'FR-Fon', \n",
        "        'SE-Ros', 'DE-Hte'],\n",
        "      ['AU-DaP', 'AU-Emr', 'AU-Gin', 'AU-How', 'AU-Rig', 'US-GLE', 'US-NR1', 'US-Twt',\n",
        "        'CA-Ca1', 'CA-Gro', 'US-AR1', 'US-Bar', 'US-Mpj', 'US-Ses', 'CH-Fru', 'CH-Oe2',\n",
        "        'DE-Hai', 'DK-Sor', 'FI-Hyy', 'FR-Aur', 'FR-Hes', 'GF-Guy', 'IT-SR2', 'SE-Deg',\n",
        "        'SE-Nor', 'NL-Loo'],\n",
        "      ['AU-Stp', 'AU-Whr', 'CA-Oas', 'DE-Lnf', 'ES-Amo', 'FI-Sod', 'IT-CA2', 'US-Ton',\n",
        "        'US-Var', 'US-Whs', 'US-Ho1', 'US-Oho', 'US-Seg', 'CH-Dav', 'CZ-Lnz', 'CZ-wet',\n",
        "        'DE-Gri', 'DE-Tha', 'ES-LM1', 'FR-Bil', 'FR-FBn', 'IT-BCi', 'IT-MBo', 'IT-Ren',\n",
        "        'RU-Fyo']\n",
        "    ]\n",
        "\n",
        "    train_sites, val_sites, test_sites = [], [], []\n",
        "    for i, subset in enumerate(SITE_SPLITS):\n",
        "        if i == val_index:\n",
        "            val_sites = SITE_SPLITS[i]\n",
        "        elif i == test_index:\n",
        "            test_sites = SITE_SPLITS[i]\n",
        "        else:\n",
        "            train_sites += SITE_SPLITS[i]\n",
        "\n",
        "    train_df = data_df.loc[data_df['site_id'].isin(train_sites), ].copy()\n",
        "    val_df   = data_df.loc[data_df['site_id'].isin(val_sites), ].copy()\n",
        "\n",
        "    if len(train_df['site_id'].unique()) != len(train_sites):\n",
        "        print(f\"Expected Train({len(train_sites)}), Actual Train({len(train_df['site_id'].unique())})\")\n",
        "        sites_missing = [s for s in train_sites if s not in train_df['site_id'].unique()]\n",
        "        print(f'  missing: {sites_missing}')\n",
        "\n",
        "    if len(val_df['site_id'].unique()) != len(val_sites):\n",
        "        print(f\"Expected Train({len(val_sites)}), Actual Train({len(val_df['site_id'].unique())})\")\n",
        "        sites_missing = [s for s in val_sites if s not in val_df['site_id'].unique()]\n",
        "        print(f'  missing: {sites_missing}')\n",
        "\n",
        "    if test_index is not None:\n",
        "        test_df = data_df.loc[data_df['site_id'].isin(test_sites), ].copy()\n",
        "        if len(test_df['site_id'].unique()) != len(test_sites):\n",
        "            print(f\"Expected Train({len(test_sites)}), Actual Train({len(test_df['site_id'].unique())})\")\n",
        "            sites_missing = [s for s in test_sites if s not in test_df['site_id'].unique()]\n",
        "            print(f'  missing: {sites_missing}')\n",
        "    else:\n",
        "        test_df = None\n",
        "\n",
        "    return (train_df, val_df, test_df)\n",
        "\n",
        "def subset_data(train_df, val_df, test_df, subset_len):\n",
        "    print(f'Subest length: {subset_len} timesteps for each sites')\n",
        "    \n",
        "    train_df = train_df.loc[train_df['timestep_idx_local'] < subset_len, ].copy()\n",
        "    print(f\"Subset num train timesteps: {len(train_df)}\")\n",
        "    val_df = val_df.loc[val_df['timestep_idx_local'] < subset_len, ].copy()\n",
        "    print(f\"Subset num val timesteps: {len(val_df)}\")\n",
        "    if test_df is not None:\n",
        "        test_df = test_df.loc[test_df['timestep_idx_local'] < subset_len, ].copy()\n",
        "        print(f\"Subset num test timesteps: {len(test_df)}\")\n",
        "\n",
        "    return (train_df, val_df, test_df)\n",
        "\n",
        "# Don't use this one\n",
        "def setup_tsdataset_mvp_mistake(train_df, val_df, test_df, min_encoder_len):\n",
        "    # create training and validation TS dataset \n",
        "    training = TimeSeriesDataSet(\n",
        "      train_df, # <------ no longer subsetting, option 1 split can use entire train site sequence\n",
        "      time_idx=\"timestep_idx_global\",\n",
        "      target=\"GPP_NT_VUT_REF\",\n",
        "      group_ids=[\"site_id\"],\n",
        "      allow_missing_timesteps=False, # <---- turned on bc some rows are removed.\n",
        "      min_encoder_length=min_encoder_len,\n",
        "      max_encoder_length=min_encoder_len,\n",
        "      min_prediction_length=1,\n",
        "      max_prediction_length=1,\n",
        "      static_categoricals=[\"MODIS_IGBP\",\"koppen_main\",\"koppen_sub\", \"gap_flag_month\", \"gap_flag_hour\"],\n",
        "      static_reals=[],\n",
        "      time_varying_known_categoricals=[\"year\", \"month\", \"day\", \"hour\"],\n",
        "      time_varying_known_reals=[\"timestep_idx_global\", \n",
        "                                'TA_ERA', 'SW_IN_ERA', 'LW_IN_ERA', 'VPD_ERA', 'P_ERA', 'PA_ERA',\n",
        "                                'EVI', 'NDVI', 'NIRv', 'b1', 'b2', 'b3', 'b4', 'b5', 'b6', 'b7', \n",
        "                                'BESS-PAR', 'BESS-PARdiff', 'BESS-RSDN', 'CSIF-SIFdaily', 'PET', 'Ts', \n",
        "                                'ESACCI-sm', 'NDWI', 'Percent_Snow', 'Fpar', 'Lai', 'LST_Day','LST_Night'],\n",
        "      time_varying_unknown_categoricals=[], \n",
        "      time_varying_unknown_reals=[\"GPP_NT_VUT_REF\"],\n",
        "      target_normalizer=None,\n",
        "      categorical_encoders={'MODIS_IGBP': NaNLabelEncoder(add_nan=True),\n",
        "                            'koppen_main': NaNLabelEncoder(add_nan=True),\n",
        "                            'koppen_sub': NaNLabelEncoder(add_nan=True),\n",
        "                            'year': NaNLabelEncoder(add_nan=True), # temp for subset\n",
        "                            'month': NaNLabelEncoder(add_nan=True), # temp for subset\n",
        "                            'day': NaNLabelEncoder(add_nan=True), # temp for subset\n",
        "                            },\n",
        "      add_relative_time_idx=True,\n",
        "      add_target_scales=False, # <------- turned off\n",
        "      add_encoder_length=False, # <------- turned off\n",
        "    )\n",
        "\n",
        "    validation = TimeSeriesDataSet.from_dataset(training, val_df, predict=False, stop_randomization=True)\n",
        "    \n",
        "    if test_df is not None:\n",
        "        testing = TimeSeriesDataSet.from_dataset(training, test_df, predict=False, stop_randomization=True)\n",
        "    else:\n",
        "        testing = None\n",
        "\n",
        "    return (training, validation, testing)\n",
        "\n",
        "# Use this instead!!\n",
        "def setup_tsdataset(train_df, val_df, test_df, min_encoder_len):\n",
        "    # create training and validation TS dataset \n",
        "    training = TimeSeriesDataSet(\n",
        "      train_df, # <------ no longer subsetting, option 1 split can use entire train site sequence\n",
        "      time_idx=\"timestep_idx_global\",\n",
        "      target=\"GPP_NT_VUT_REF\",\n",
        "      group_ids=[\"site_id\"],\n",
        "      allow_missing_timesteps=False, # <---- turned on bc some rows are removed.\n",
        "      min_encoder_length=min_encoder_len,\n",
        "      max_encoder_length=min_encoder_len,\n",
        "      min_prediction_length=1,\n",
        "      max_prediction_length=1,\n",
        "      static_categoricals=[\"MODIS_IGBP\",\"koppen_main\",\"koppen_sub\"],\n",
        "      static_reals=[],\n",
        "      time_varying_known_categoricals=[\"year\", \"month\", \"day\", \"hour\"],\n",
        "      time_varying_known_reals=[\"timestep_idx_global\", \n",
        "                                'TA_ERA', 'SW_IN_ERA', 'LW_IN_ERA', 'VPD_ERA', 'P_ERA', 'PA_ERA',\n",
        "                                'EVI', 'NDVI', 'NIRv', 'b1', 'b2', 'b3', 'b4', 'b5', 'b6', 'b7', \n",
        "                                'BESS-PAR', 'BESS-PARdiff', 'BESS-RSDN', 'CSIF-SIFdaily', 'PET', 'Ts', \n",
        "                                'ESACCI-sm', 'NDWI', 'Percent_Snow', 'Fpar', 'Lai', 'LST_Day','LST_Night'],\n",
        "      time_varying_unknown_categoricals=[\"gap_flag_month\", \"gap_flag_hour\"], \n",
        "      time_varying_unknown_reals=[\"GPP_NT_VUT_REF\"],\n",
        "      target_normalizer=None,\n",
        "      categorical_encoders={'MODIS_IGBP': NaNLabelEncoder(add_nan=True),\n",
        "                            'koppen_main': NaNLabelEncoder(add_nan=True),\n",
        "                            'koppen_sub': NaNLabelEncoder(add_nan=True),\n",
        "                            'year': NaNLabelEncoder(add_nan=True),\n",
        "                            },\n",
        "      add_relative_time_idx=True,\n",
        "      add_target_scales=False, # <------- turned off\n",
        "      add_encoder_length=False, # <------- turned off\n",
        "    )\n",
        "\n",
        "    validation = TimeSeriesDataSet.from_dataset(training, val_df, predict=False, stop_randomization=True)\n",
        "    \n",
        "    if test_df is not None:\n",
        "        testing = TimeSeriesDataSet.from_dataset(training, test_df, predict=False, stop_randomization=True)\n",
        "    else:\n",
        "        testing = None\n",
        "\n",
        "    return (training, validation, testing)\n",
        "\n",
        "def setup_tsdataset_nogpp(train_df, val_df, test_df, min_encoder_len):\n",
        "    # create training and validation TS dataset \n",
        "    training = TimeSeriesDataSet(\n",
        "      train_df, # <------ no longer subsetting, option 1 split can use entire train site sequence\n",
        "      time_idx=\"timestep_idx_global\",\n",
        "      target=\"GPP_NT_VUT_REF\",\n",
        "      group_ids=[\"site_id\"],\n",
        "      allow_missing_timesteps=False, # <---- turned on bc some rows are removed.\n",
        "      min_encoder_length=min_encoder_len,\n",
        "      max_encoder_length=min_encoder_len,\n",
        "      min_prediction_length=1,\n",
        "      max_prediction_length=1,\n",
        "      static_categoricals=[\"MODIS_IGBP\",\"koppen_main\",\"koppen_sub\"],\n",
        "      static_reals=[],\n",
        "      time_varying_known_categoricals=[\"year\", \"month\", \"day\", \"hour\"],\n",
        "      time_varying_known_reals=[\"timestep_idx_global\", \n",
        "                                'TA_ERA', 'SW_IN_ERA', 'LW_IN_ERA', 'VPD_ERA', 'P_ERA', 'PA_ERA',\n",
        "                                'EVI', 'NDVI', 'NIRv', 'b1', 'b2', 'b3', 'b4', 'b5', 'b6', 'b7', \n",
        "                                'BESS-PAR', 'BESS-PARdiff', 'BESS-RSDN', 'CSIF-SIFdaily', 'PET', 'Ts', \n",
        "                                'ESACCI-sm', 'NDWI', 'Percent_Snow', 'Fpar', 'Lai', 'LST_Day','LST_Night'],\n",
        "      time_varying_unknown_categoricals=[\"gap_flag_month\", \"gap_flag_hour\"], \n",
        "      time_varying_unknown_reals=[],\n",
        "      target_normalizer=None,\n",
        "      categorical_encoders={'MODIS_IGBP': NaNLabelEncoder(add_nan=True),\n",
        "                            'koppen_main': NaNLabelEncoder(add_nan=True),\n",
        "                            'koppen_sub': NaNLabelEncoder(add_nan=True),\n",
        "                            'year': NaNLabelEncoder(add_nan=True),\n",
        "                            },\n",
        "      add_relative_time_idx=True,\n",
        "      add_target_scales=False, # <------- turned off\n",
        "      add_encoder_length=False, # <------- turned off\n",
        "    )\n",
        "\n",
        "    validation = TimeSeriesDataSet.from_dataset(training, val_df, predict=False, stop_randomization=True)\n",
        "    \n",
        "    if test_df is not None:\n",
        "        testing = TimeSeriesDataSet.from_dataset(training, test_df, predict=False, stop_randomization=True)\n",
        "    else:\n",
        "        testing = None\n",
        "\n",
        "    return (training, validation, testing)\n",
        "\n",
        "# Eval Functions\n",
        "def nash_sutcliffe(observed_values, predicted_values):\n",
        "    numerator = torch.sum((observed_values - predicted_values)**2)\n",
        "    denominator = torch.sum((observed_values - torch.mean(observed_values))**2)\n",
        "    nse_val = 1 - (numerator / denominator)\n",
        "    return nse_val\n",
        "\n",
        "def numpy_normalised_quantile_loss(y, y_pred, quantile):\n",
        "    \"\"\"Computes normalised quantile loss for numpy arrays.\n",
        "    ref: https://github.com/google-research/google-research/blob/master/tft/script_train_fixed_params.py\n",
        "    Uses the q-Risk metric as defined in the \"Training Procedure\" section of the main TFT paper.\n",
        "    Args:\n",
        "    y: Targets\n",
        "    y_pred: Predictions\n",
        "    quantile: Quantile to use for loss calculations (between 0 & 1)\n",
        "    Returns:\n",
        "    Float for normalised quantile loss.\n",
        "    \"\"\"\n",
        "    prediction_underflow = y - y_pred\n",
        "    weighted_errors = quantile * np.maximum(prediction_underflow, 0.) \\\n",
        "      + (1. - quantile) * np.maximum(-prediction_underflow, 0.)\n",
        "\n",
        "    return 2 * (weighted_errors.mean()) / (y.abs().mean())\n",
        "\n",
        "\n",
        "def get_eval_mask(dataloader):\n",
        "    return torch.logical_not(torch.cat([x['decoder_cont'][:, :, -1].reshape(-1) for x, y in iter(dataloader)]))\n",
        "\n",
        "def get_eval_metrics(y_true, y_pred, mask=None, p90_pred=None):    \n",
        "    # Apply mask if there is any\n",
        "    if mask is not None:            \n",
        "        y_true = y_true[mask.bool()]\n",
        "        y_pred = y_pred[mask.bool()]\n",
        "        if p90_pred is not None:\n",
        "            p90_pred = p90_pred[mask.bool()]\n",
        "\n",
        "    rmse = torch.sqrt(torch.mean((y_true - y_pred) ** 2))\n",
        "    mae = torch.mean((y_true - y_pred).abs())\n",
        "    nse = nash_sutcliffe(y_true, y_pred)\n",
        "    r2 = r2_score(y_true.numpy(), y_pred.numpy())\n",
        "    p50_loss = numpy_normalised_quantile_loss(y_true, y_pred, 0.5)\n",
        "    evals = {\"rmse\": rmse.item(), \"mae\": mae.item(), \"nse\": nse.item(), \"r2\": r2, \"p50_loss\": p50_loss.item()}\n",
        "\n",
        "    if p90_pred is not None:\n",
        "        p90_loss = numpy_normalised_quantile_loss(y_true, p90_pred, 0.9)\n",
        "        evals[\"p90_loss\"] = p90_loss.item()\n",
        "    \n",
        "    return evals\n",
        "\n",
        "# Mask metrics for validation set\n",
        "def masked_eval_metrics(dataloader, model):\n",
        "    # Get y_true, y_pred, mask\n",
        "    y_true = torch.cat([y[0] for x, y in iter(dataloader)]).reshape(-1)\n",
        "    y_pred = model.predict(dataloader).reshape(-1)\n",
        "    mask = torch.logical_not(torch.cat([x['decoder_cont'][:, :, -1].reshape(-1) for x, y in iter(dataloader)]))\n",
        "\n",
        "    # Apply mask\n",
        "    masked_y_true = y_true[mask.bool()]\n",
        "    masked_y_pred = y_pred[mask.bool()]\n",
        "\n",
        "    # Get masked RMSE, MAE, NSE\n",
        "    masked_rmse = torch.sqrt(torch.mean((masked_y_true - masked_y_pred) ** 2))\n",
        "    masked_mae = torch.mean((masked_y_true - masked_y_pred).abs())\n",
        "    masked_nse = nash_sutcliffe(masked_y_true.reshape(-1).numpy(), masked_y_pred.reshape(-1).numpy())\n",
        "    masked_r2 = r2_score(masked_y_true.reshape(-1).numpy(), masked_y_pred.reshape(-1).numpy())\n",
        "\n",
        "    return masked_rmse, masked_mae, masked_nse, masked_r2\n",
        "\n",
        "# Custom Hyperparameter Optimizer\n",
        "# ref: https://pytorch-forecasting.readthedocs.io/en/stable/_modules/pytorch_forecasting/models/temporal_fusion_transformer/tuning.html#optimize_hyperparameters\n",
        "\n",
        "optuna_logger = logging.getLogger(\"optuna\")\n",
        "\n",
        "class MetricsCallback(Callback):\n",
        "    \"\"\"PyTorch Lightning metric callback.\"\"\"\n",
        "\n",
        "    def __init__(self):\n",
        "        super().__init__()\n",
        "        self.metrics = []\n",
        "\n",
        "    def on_validation_end(self, trainer, pl_module):\n",
        "        self.metrics.append(trainer.callback_metrics)\n",
        "        \n",
        "def custom_optimize_hyperparameters(\n",
        "    train_dataloaders: DataLoader,\n",
        "    val_dataloaders: DataLoader,\n",
        "    model_path: str,\n",
        "    max_epochs: int = 20,\n",
        "    n_trials: int = 100,\n",
        "    timeout: float = 3600 * 8.0,  # 8 hours\n",
        "    gradient_clip_val_range: Tuple[float, float] = (0.01, 100.0),\n",
        "    hidden_size_range: Tuple[int, int] = (16, 265),\n",
        "    hidden_continuous_size_range: Tuple[int, int] = (8, 64),\n",
        "    attention_head_size_range: Tuple[int, int] = (1, 4),\n",
        "    dropout_range: Tuple[float, float] = (0.1, 0.3),\n",
        "    learning_rate_range: Tuple[float, float] = (1e-5, 1.0),\n",
        "    use_learning_rate_finder: bool = True,\n",
        "    trainer_kwargs: Dict[str, Any] = {},\n",
        "    trainer_callbacks: List[Callback] = None,\n",
        "    log_dir: str = \"lightning_logs\",\n",
        "    study: optuna.Study = None,\n",
        "    verbose: Union[int, bool] = None,\n",
        "    pruner: optuna.pruners.BasePruner = optuna.pruners.SuccessiveHalvingPruner(),\n",
        "    **kwargs,\n",
        ") -> optuna.Study:\n",
        "    \"\"\"\n",
        "    Optimize Temporal Fusion Transformer hyperparameters.\n",
        "\n",
        "    Run hyperparameter optimization. Learning rate for is determined with\n",
        "    the PyTorch Lightning learning rate finder.\n",
        "\n",
        "    Args:\n",
        "        train_dataloaders (DataLoader): dataloader for training model\n",
        "        val_dataloaders (DataLoader): dataloader for validating model\n",
        "        model_path (str): folder to which model checkpoints are saved\n",
        "        max_epochs (int, optional): Maximum number of epochs to run training. Defaults to 20.\n",
        "        n_trials (int, optional): Number of hyperparameter trials to run. Defaults to 100.\n",
        "        timeout (float, optional): Time in seconds after which training is stopped regardless of number of epochs\n",
        "            or validation metric. Defaults to 3600*8.0.\n",
        "        hidden_size_range (Tuple[int, int], optional): Minimum and maximum of ``hidden_size`` hyperparameter. Defaults\n",
        "            to (16, 265).\n",
        "        hidden_continuous_size_range (Tuple[int, int], optional):  Minimum and maximum of ``hidden_continuous_size``\n",
        "            hyperparameter. Defaults to (8, 64).\n",
        "        attention_head_size_range (Tuple[int, int], optional):  Minimum and maximum of ``attention_head_size``\n",
        "            hyperparameter. Defaults to (1, 4).\n",
        "        dropout_range (Tuple[float, float], optional):  Minimum and maximum of ``dropout`` hyperparameter. Defaults to\n",
        "            (0.1, 0.3).\n",
        "        learning_rate_range (Tuple[float, float], optional): Learning rate range. Defaults to (1e-5, 1.0).\n",
        "        use_learning_rate_finder (bool): If to use learning rate finder or optimize as part of hyperparameters.\n",
        "            Defaults to True.\n",
        "        trainer_kwargs (Dict[str, Any], optional): Additional arguments to the\n",
        "            `PyTorch Lightning trainer <https://pytorch-lightning.readthedocs.io/en/latest/trainer.html>`_ such\n",
        "            as ``limit_train_batches``. Defaults to {}.\n",
        "        trainer_callbacks ( List[Callback], optiona) Early stoppping option for trainer.\n",
        "        log_dir (str, optional): Folder into which to log results for tensorboard. Defaults to \"lightning_logs\".\n",
        "        study (optuna.Study, optional): study to resume. Will create new study by default.\n",
        "        verbose (Union[int, bool]): level of verbosity.\n",
        "            * None: no change in verbosity level (equivalent to verbose=1 by optuna-set default).\n",
        "            * 0 or False: log only warnings.\n",
        "            * 1 or True: log pruning events.\n",
        "            * 2: optuna logging level at debug level.\n",
        "            Defaults to None.\n",
        "        pruner (optuna.pruners.BasePruner, optional): The optuna pruner to use.\n",
        "            Defaults to optuna.pruners.SuccessiveHalvingPruner().\n",
        "\n",
        "        **kwargs: Additional arguments for the :py:class:`~TemporalFusionTransformer`.\n",
        "\n",
        "    Returns:\n",
        "        optuna.Study: optuna study results\n",
        "    \"\"\"\n",
        "    assert isinstance(train_dataloaders.dataset, TimeSeriesDataSet) and isinstance(\n",
        "        val_dataloaders.dataset, TimeSeriesDataSet\n",
        "    ), \"dataloaders must be built from timeseriesdataset\"\n",
        "\n",
        "    logging_level = {\n",
        "        None: optuna.logging.get_verbosity(),\n",
        "        0: optuna.logging.WARNING,\n",
        "        1: optuna.logging.INFO,\n",
        "        2: optuna.logging.DEBUG,\n",
        "    }\n",
        "    optuna_verbose = logging_level[verbose]\n",
        "    optuna.logging.set_verbosity(optuna_verbose)\n",
        "\n",
        "    loss = kwargs.get(\n",
        "        \"loss\", QuantileLoss()\n",
        "    )  # need a deepcopy of loss as it will otherwise propagate from one trial to the next\n",
        "\n",
        "    # create objective function\n",
        "    def objective(trial: optuna.Trial) -> float:\n",
        "        # Filenames for each trial must be made unique in order to access each checkpoint.\n",
        "        checkpoint_callback = pl.callbacks.ModelCheckpoint(\n",
        "            dirpath=os.path.join(model_path, \"trial_{}\".format(trial.number)), filename=\"{epoch}\", monitor=\"val_loss\"\n",
        "        )\n",
        "\n",
        "        # The default logger in PyTorch Lightning writes to event files to be consumed by\n",
        "        # TensorBoard. We don't use any logger here as it requires us to implement several abstract\n",
        "        # methods. Instead we setup a simple callback, that saves metrics from each validation step.\n",
        "        metrics_callback = MetricsCallback()\n",
        "        learning_rate_callback = LearningRateMonitor()\n",
        "        logger = TensorBoardLogger(log_dir, name=\"optuna\", version=trial.number)\n",
        "        gradient_clip_val = trial.suggest_loguniform(\"gradient_clip_val\", *gradient_clip_val_range)\n",
        "        default_trainer_kwargs = dict(\n",
        "            gpus=[0] if torch.cuda.is_available() else None,\n",
        "            max_epochs=max_epochs,\n",
        "            gradient_clip_val=gradient_clip_val,\n",
        "            callbacks=[\n",
        "                metrics_callback,\n",
        "                learning_rate_callback,\n",
        "                checkpoint_callback,\n",
        "                PyTorchLightningPruningCallback(trial, monitor=\"val_loss\"),\n",
        "            ],\n",
        "            logger=logger,\n",
        "            enable_progress_bar=optuna_verbose < optuna.logging.INFO,\n",
        "            enable_model_summary=[False, True][optuna_verbose < optuna.logging.INFO],\n",
        "        )\n",
        "        if trainer_callbacks is not None:\n",
        "            default_trainer_kwargs['callbacks'] += trainer_callbacks\n",
        "        default_trainer_kwargs.update(trainer_kwargs)\n",
        "        trainer = pl.Trainer(\n",
        "            **default_trainer_kwargs,\n",
        "        )\n",
        "\n",
        "        # create model\n",
        "        hidden_size = trial.suggest_int(\"hidden_size\", *hidden_size_range, log=True)\n",
        "        kwargs[\"loss\"] = copy.deepcopy(loss)\n",
        "        model = TemporalFusionTransformer.from_dataset(\n",
        "            train_dataloaders.dataset,\n",
        "            dropout=trial.suggest_uniform(\"dropout\", *dropout_range),\n",
        "            hidden_size=hidden_size,\n",
        "            hidden_continuous_size=trial.suggest_int(\n",
        "                \"hidden_continuous_size\",\n",
        "                hidden_continuous_size_range[0],\n",
        "                min(hidden_continuous_size_range[1], hidden_size),\n",
        "                log=True,\n",
        "            ),\n",
        "            attention_head_size=trial.suggest_int(\"attention_head_size\", *attention_head_size_range),\n",
        "            log_interval=-1,\n",
        "            **kwargs,\n",
        "        )\n",
        "        # find good learning rate\n",
        "        if use_learning_rate_finder:\n",
        "            lr_trainer = pl.Trainer(\n",
        "                gradient_clip_val=gradient_clip_val,\n",
        "                gpus=[0] if torch.cuda.is_available() else None,\n",
        "                logger=False,\n",
        "                enable_progress_bar=False,\n",
        "                enable_model_summary=False,\n",
        "            )\n",
        "            res = lr_trainer.tuner.lr_find(\n",
        "                model,\n",
        "                train_dataloaders=train_dataloaders,\n",
        "                val_dataloaders=val_dataloaders,\n",
        "                early_stop_threshold=10000,\n",
        "                min_lr=learning_rate_range[0],\n",
        "                num_training=100,\n",
        "                max_lr=learning_rate_range[1],\n",
        "            )\n",
        "\n",
        "            loss_finite = np.isfinite(res.results[\"loss\"])\n",
        "            if loss_finite.sum() > 3:  # at least 3 valid values required for learning rate finder\n",
        "                lr_smoothed, loss_smoothed = sm.nonparametric.lowess(\n",
        "                    np.asarray(res.results[\"loss\"])[loss_finite],\n",
        "                    np.asarray(res.results[\"lr\"])[loss_finite],\n",
        "                    frac=1.0 / 10.0,\n",
        "                )[min(loss_finite.sum() - 3, 10) : -1].T\n",
        "                optimal_idx = np.gradient(loss_smoothed).argmin()\n",
        "                optimal_lr = lr_smoothed[optimal_idx]\n",
        "            else:\n",
        "                optimal_idx = np.asarray(res.results[\"loss\"]).argmin()\n",
        "                optimal_lr = res.results[\"lr\"][optimal_idx]\n",
        "            optuna_logger.info(f\"Using learning rate of {optimal_lr:.3g}\")\n",
        "            # add learning rate artificially\n",
        "            model.hparams.learning_rate = trial.suggest_uniform(\"learning_rate\", optimal_lr, optimal_lr)\n",
        "        else:\n",
        "            model.hparams.learning_rate = trial.suggest_loguniform(\"learning_rate\", *learning_rate_range)\n",
        "\n",
        "        # fit\n",
        "        trainer.fit(model, train_dataloaders=train_dataloaders, val_dataloaders=val_dataloaders)\n",
        "\n",
        "        # report result\n",
        "        return metrics_callback.metrics[-1][\"val_loss\"].item()\n",
        "\n",
        "    # setup optuna and run\n",
        "    if study is None:\n",
        "        study = optuna.create_study(direction=\"minimize\", pruner=pruner)\n",
        "    study.optimize(objective, n_trials=n_trials, timeout=timeout)\n",
        "    return study"
      ],
      "metadata": {
        "colab": {
          "base_uri": "https://localhost:8080/"
        },
        "id": "9pSCtLQgbggd",
        "outputId": "1862045f-48ad-4db4-9dd8-87394ae23f00"
      },
      "execution_count": 9,
      "outputs": [
        {
          "output_type": "stream",
          "name": "stderr",
          "text": [
            "INFO:lightning_fabric.utilities.seed:Global seed set to 42\n"
          ]
        }
      ]
    },
    {
      "cell_type": "code",
      "execution_count": 10,
      "metadata": {
        "id": "1iRimJGJsAh7",
        "tags": [],
        "colab": {
          "base_uri": "https://localhost:8080/"
        },
        "outputId": "990144c4-fa39-41d8-c63c-87e6aaec7c7b"
      },
      "outputs": [
        {
          "output_type": "stream",
          "name": "stderr",
          "text": [
            "INFO:lightning_fabric.utilities.seed:Global seed set to 42\n"
          ]
        },
        {
          "output_type": "execute_result",
          "data": {
            "text/plain": [
              "42"
            ]
          },
          "metadata": {},
          "execution_count": 10
        }
      ],
      "source": [
        "import os\n",
        "import sys\n",
        "import warnings\n",
        "warnings.filterwarnings(\"ignore\")\n",
        "import copy\n",
        "import json\n",
        "from pathlib import Path\n",
        "import numpy as np\n",
        "import pandas as pd\n",
        "import matplotlib.pyplot as plt\n",
        "import tensorflow as tf\n",
        "import pytorch_lightning as pl\n",
        "import torch\n",
        "import torch.nn as nn\n",
        "\n",
        "from pytorch_forecasting import Baseline, TemporalFusionTransformer, TimeSeriesDataSet\n",
        "from pytorch_forecasting.data import GroupNormalizer\n",
        "from pytorch_forecasting.metrics import SMAPE, PoissonLoss, QuantileLoss\n",
        "from pytorch_forecasting.models.temporal_fusion_transformer.tuning import optimize_hyperparameters\n",
        "from pytorch_forecasting import BaseModel, MAE\n",
        "from pytorch_forecasting.metrics.point import RMSE\n",
        "from pytorch_forecasting.data.encoders import NaNLabelEncoder\n",
        "\n",
        "from sklearn.metrics import r2_score\n",
        "from timeit import default_timer\n",
        "from datetime import datetime\n",
        "import gc\n",
        "import pickle\n",
        "\n",
        "# Load locale custome modules\n",
        "os.chdir(MY_HOME_ABS_PATH)\n",
        "if IN_COLLAB:\n",
        "     sys.path.insert(0,os.path.abspath(\"./code/src/tools\"))\n",
        "else:\n",
        "    sys.path.append('./cred')\n",
        "    sys.path.append('./code/src/tools')\n",
        "    sys.path.append(os.path.abspath(\"./code/src/tools\"))\n",
        "\n",
        "# from CloudIO.AzStorageClient import AzStorageClient\n",
        "import AzStorageClient as AzStorageClient\n",
        "# from data_pipeline_lib import *\n",
        "# from model_pipeline_lib import *\n",
        "\n",
        "pd.set_option('display.max_columns', None)\n",
        "pd.set_option('display.float_format', lambda x: '%.5f' % x)\n",
        "pl.seed_everything(42)"
      ]
    },
    {
      "cell_type": "code",
      "source": [
        "from sklearn.model_selection import RandomizedSearchCV\n",
        "from sklearn.ensemble import RandomForestRegressor\n",
        "from sklearn.metrics import mean_squared_error, mean_absolute_error, r2_score\n",
        "from sklearn.model_selection import GridSearchCV, cross_val_score, KFold\n",
        "from pprint import pprint"
      ],
      "metadata": {
        "id": "mhKIB8BgGR5O"
      },
      "execution_count": 19,
      "outputs": []
    },
    {
      "cell_type": "markdown",
      "metadata": {
        "id": "5LRk1xhgDrvZ"
      },
      "source": [
        "# Load data from Azure blob"
      ]
    },
    {
      "cell_type": "markdown",
      "metadata": {
        "id": "QEOCHI64ysC2"
      },
      "source": [
        "## Define Local File System Constants"
      ]
    },
    {
      "cell_type": "code",
      "execution_count": 37,
      "metadata": {
        "id": "H-AwqUa5sHYq",
        "tags": []
      },
      "outputs": [],
      "source": [
        "root_dir =  MY_HOME_ABS_PATH\n",
        "tmp_dir =  root_dir + os.sep + 'tmp'\n",
        "raw_data_dir = tmp_dir\n",
        "data_dir = root_dir + os.sep + 'data'\n",
        "cred_dir = root_dir + os.sep + 'cred'\n",
        "az_cred_file = cred_dir + os.sep + 'azblobcred.json'\n",
        "# model_objects_dir = root_dir + os.sep + 'code/src/modeling/model_objects'\n",
        "model_objects_dir = root_dir + os.sep "
      ]
    },
    {
      "cell_type": "markdown",
      "metadata": {
        "id": "ES9TafVQyVG7"
      },
      "source": [
        "# Load Train and Test dataset from Azure Storage Blob"
      ]
    },
    {
      "cell_type": "code",
      "execution_count": 12,
      "metadata": {
        "id": "pZcOmGLRzAd9",
        "tags": []
      },
      "outputs": [],
      "source": [
        "# Define dataset\n",
        "container = \"all-sites-data\"\n",
        "ext = \"parquet\"\n",
        "ver = \"mvp-v2-knn\"\n",
        "model = \"rfr\"\n",
        "train_blob_name = f\"{model}-full_2010_2015-train-v-{ver}.{ext}\"\n",
        "val_blob_name = f\"{model}-full_2010_2015-val-v-{ver}.{ext}\"\n",
        "test_blob_name = f\"{model}-full_2010_2015-test-v-{ver}.{ext}\""
      ]
    },
    {
      "cell_type": "code",
      "source": [
        "az_cred_file"
      ],
      "metadata": {
        "colab": {
          "base_uri": "https://localhost:8080/",
          "height": 36
        },
        "id": "xzAdZNE8di4j",
        "outputId": "4875d08f-79f7-4360-e24b-b8e57610dc17"
      },
      "execution_count": 13,
      "outputs": [
        {
          "output_type": "execute_result",
          "data": {
            "text/plain": [
              "'/content/drive/MyDrive/TFT_baseline/cred/azblobcred.json'"
            ],
            "application/vnd.google.colaboratory.intrinsic+json": {
              "type": "string"
            }
          },
          "metadata": {},
          "execution_count": 13
        }
      ]
    },
    {
      "cell_type": "code",
      "source": [
        "import AzStorageClient as AzStorageClient"
      ],
      "metadata": {
        "id": "tcZy6K7QdowE"
      },
      "execution_count": 14,
      "outputs": []
    },
    {
      "cell_type": "code",
      "source": [
        "from azure.storage.blob import BlobServiceClient\n",
        "from collections import defaultdict\n",
        "from io import BytesIO\n",
        "import os.path\n",
        "import json\n",
        "\n",
        "class AzStorageClient:\n",
        "    def __init__(self, cred_file):\n",
        "        self.blob_svc_client = None\n",
        "        self.container_client_list = defaultdict(str)\n",
        "        if os.path.exists(cred_file):\n",
        "            connect_str = \"\"\n",
        "            with open(cred_file, \"rb\") as f:\n",
        "                data = json.load(f)\n",
        "                connect_str = data['connectionstr']\n",
        "                self.blob_svc_client = BlobServiceClient.from_connection_string(connect_str)\n",
        "                tokens = connect_str.split(';')\n",
        "                for t in tokens:\n",
        "                  if \"AccountName=\" in t:\n",
        "                    self.AccountName = t[len(\"AccountName=\"):]\n",
        "                  elif \"AccountKey=\" in t:\n",
        "                    self.AccountKey = t[len(\"AccountKey=\"):]\n",
        "        else:\n",
        "            print(\"ERROR: {cred_file} not found\")\n",
        "    \n",
        "    def getSparkSessionKeys(self):\n",
        "      return [f'fs.azure.account.key.{self.AccountName}.blob.core.windows.net',  self.AccountKey, self.AccountName]\n",
        "\n",
        "    def createContainer(self, container_name):\n",
        "        if self.blob_svc_client:\n",
        "            self.blob_svc_client.create_container(container_name)\n",
        "            print(f\"Container '{container_name}' created.\")\n",
        "        else:\n",
        "            print(\"ERROR: Azure Storage Blob Client does not exist.\")\n",
        "\n",
        "    def listBlobs(self, container_name):\n",
        "        if self.blob_svc_client:\n",
        "            if not self.container_client_list[container_name]:\n",
        "                self.container_client_list[container_name] = self.blob_svc_client.get_container_client(container= container_name)\n",
        "            blob_list = self.container_client_list[container_name].list_blobs()\n",
        "            return blob_list\n",
        "        else:\n",
        "            print(\"ERROR: Azure Storage Blob Client does not exist.\")\n",
        "\n",
        "    def uploadBlob(self, container_name, blob_name, data, overwrite=False, verbose=True):\n",
        "        if self.blob_svc_client:\n",
        "            blob_cleint = self.blob_svc_client.get_blob_client(container=container_name, blob=blob_name)\n",
        "            blob_cleint.upload_blob(data, overwrite=overwrite)\n",
        "            if verbose:\n",
        "                print(f'File uploaded to {container_name}/{blob_name}')\n",
        "        else:\n",
        "            print(\"ERROR: Azure Storage Blob Client does not exist.\")\n",
        "    \n",
        "    def downloadBlob(self, container_name, blob_name):\n",
        "        if self.blob_svc_client:\n",
        "            if not self.container_client_list[container_name]:\n",
        "                self.container_client_list[container_name] = self.blob_svc_client.get_container_client(container= container_name)\n",
        "            \n",
        "            return self.container_client_list[container_name].download_blob(blob_name).readall()\n",
        "        else:\n",
        "            print(\"ERROR: Azure Storage Blob Client does not exist.\")\n",
        "    \n",
        "    def downloadBlob2Stream(self, container_name, blob_name):\n",
        "        if self.blob_svc_client:\n",
        "            if not self.container_client_list[container_name]:\n",
        "                self.container_client_list[container_name] = self.blob_svc_client.get_container_client(container= container_name)\n",
        "            \n",
        "            stream = BytesIO()\n",
        "            self.container_client_list[container_name].download_blob(blob_name).readinto(stream)\n",
        "            return stream\n",
        "        else:\n",
        "            print(\"ERROR: Azure Storage Blob Client does not exist.\")\n",
        "    \n",
        "    def deleteBlob(self, container_name, blob_name, verbose=True):\n",
        "        if self.blob_svc_client:\n",
        "            blob_client = self.blob_svc_client.get_blob_client(container=container_name, blob=blob_name)\n",
        "            blob_client.delete_blob()\n",
        "            if verbose:\n",
        "                print(f'{container_name}/{blob_name} deleted')\n",
        "        else:\n",
        "            print(\"ERROR: Azure Storage Blob Client does not exist.\")\n",
        "    "
      ],
      "metadata": {
        "id": "0Ds94lLqeUBF"
      },
      "execution_count": 15,
      "outputs": []
    },
    {
      "cell_type": "code",
      "execution_count": 16,
      "metadata": {
        "id": "UOZGHip0yfGP",
        "tags": []
      },
      "outputs": [],
      "source": [
        "# Load splits from Azure\n",
        "azStorageClient = AzStorageClient(az_cred_file)\n",
        "\n",
        "train_fs = azStorageClient.downloadBlob2Stream(container, train_blob_name)\n",
        "train_df = pd.read_parquet(train_fs, engine='pyarrow')\n",
        "\n",
        "val_fs = azStorageClient.downloadBlob2Stream(container, val_blob_name)\n",
        "val_df = pd.read_parquet(val_fs, engine='pyarrow')\n",
        "\n",
        "test_fs = azStorageClient.downloadBlob2Stream(container, test_blob_name)\n",
        "test_df = pd.read_parquet(test_fs, engine='pyarrow')"
      ]
    },
    {
      "cell_type": "code",
      "execution_count": 17,
      "metadata": {
        "tags": [],
        "id": "xAnEvgr3amyK"
      },
      "outputs": [],
      "source": [
        "# Prep x, y dataset for train\n",
        "target_variable = 'GPP_NT_VUT_REF'\n",
        "drop_cols = ['site_id', 'timestep_idx_local', 'timestep_idx_global', 'index', 'datetime','gap_flag_hour', 'gap_flag_month']\n",
        "\n",
        "X_train = train_df.drop([target_variable] + drop_cols, axis=1)\n",
        "y_train = train_df[target_variable]\n",
        "X_val = val_df.drop([target_variable] + drop_cols, axis=1)\n",
        "y_val = val_df[target_variable]\n",
        "X_test = test_df.drop([target_variable] + drop_cols, axis=1)\n",
        "y_test = test_df[target_variable]"
      ]
    },
    {
      "cell_type": "markdown",
      "metadata": {
        "id": "j_Ko-f2TsAYb"
      },
      "source": [
        "## Train RFR Model w/ best params from v1 tuning (see mvp notebook)"
      ]
    },
    {
      "cell_type": "code",
      "source": [
        "X_train.columns"
      ],
      "metadata": {
        "colab": {
          "base_uri": "https://localhost:8080/"
        },
        "id": "v7K3ENYUejvT",
        "outputId": "7de22c13-021d-42d2-a9e1-a3f484784036"
      },
      "execution_count": null,
      "outputs": [
        {
          "output_type": "execute_result",
          "data": {
            "text/plain": [
              "Index(['TA_ERA', 'SW_IN_ERA', 'LW_IN_ERA', 'VPD_ERA', 'P_ERA', 'PA_ERA', 'EVI',\n",
              "       'NDVI', 'NIRv', 'b1', 'b2', 'b3', 'b4', 'b5', 'b6', 'b7',\n",
              "       'TA_ERA_szn_mean', 'TA_ERA_amp_msc', 'TA_ERA_min_msc',\n",
              "       'SW_IN_ERA_szn_mean', 'SW_IN_ERA_amp_msc', 'SW_IN_ERA_min_msc',\n",
              "       'P_ERA_szn_mean', 'P_ERA_amp_msc', 'P_ERA_min_msc', 'EVI_szn_mean',\n",
              "       'EVI_amp_msc', 'EVI_min_msc', 'NDVI_szn_mean', 'NDVI_amp_msc',\n",
              "       'NDVI_min_msc', 'NIRv_szn_mean', 'NIRv_amp_msc', 'NIRv_min_msc',\n",
              "       'b4_szn_mean', 'b4_amp_msc', 'b4_min_msc', 'prcp_week_sum',\n",
              "       'prcp_month_sum', 'c4_percent', 'BESS-PAR', 'BESS-PARdiff', 'BESS-RSDN',\n",
              "       'CSIF-SIFdaily', 'PET', 'Ts', 'prcp', 'prcp-lag3', 'ESACCI-sm', 'NDWI',\n",
              "       'Percent_Snow', 'Fpar', 'Lai', 'LST_Day', 'LST_Night', 'koppen_sub',\n",
              "       'koppen_main', 'month', 'day', 'hour', 'MODIS_LC', 'c3c4_C3', 'c3c4_C4',\n",
              "       'c3c4_mix', 'c3c4_rotation', 'c3c4_unknown', 'MODIS_PFT_CRO',\n",
              "       'MODIS_PFT_DBF', 'MODIS_PFT_EBF', 'MODIS_PFT_ENF', 'MODIS_PFT_GRA',\n",
              "       'MODIS_PFT_MF', 'MODIS_PFT_Other', 'MODIS_PFT_SA', 'MODIS_PFT_SH',\n",
              "       'MODIS_IGBP_CRO', 'MODIS_IGBP_CSH', 'MODIS_IGBP_DBF', 'MODIS_IGBP_EBF',\n",
              "       'MODIS_IGBP_ENF', 'MODIS_IGBP_GRA', 'MODIS_IGBP_MF', 'MODIS_IGBP_OSH',\n",
              "       'MODIS_IGBP_SAV', 'MODIS_IGBP_URB', 'MODIS_IGBP_WAT', 'MODIS_IGBP_WET',\n",
              "       'MODIS_IGBP_WSA', 'hemisphere_NS_North', 'hemisphere_NS_South',\n",
              "       'lat_band_lat_band_2', 'lat_band_lat_band_3', 'lat_band_lat_band_4',\n",
              "       'lat_band_lat_band_5'],\n",
              "      dtype='object')"
            ]
          },
          "metadata": {},
          "execution_count": 19
        }
      ]
    },
    {
      "cell_type": "markdown",
      "source": [
        "## Random Search -> postponed because of the required resource and time..."
      ],
      "metadata": {
        "id": "lbKGUMi2e6dJ"
      }
    },
    {
      "cell_type": "code",
      "source": [
        "# Number of trees in random forest\n",
        "n_estimators = [int(x) for x in np.linspace(start = 200, stop = 2000, num = 10)]\n",
        "# Number of features to consider at every split\n",
        "max_features = ['auto', 'sqrt']\n",
        "# Maximum number of levels in tree\n",
        "max_depth = [int(x) for x in np.linspace(10, 110, num = 11)]\n",
        "max_depth.append(None)\n",
        "# Minimum number of samples required to split a node\n",
        "min_samples_split = [2, 5, 10]\n",
        "# Minimum number of samples required at each leaf node\n",
        "min_samples_leaf = [1, 2, 4]\n",
        "# Method of selecting samples for training each tree\n",
        "bootstrap = [True, False]\n",
        "# Create the random grid\n",
        "\n",
        "random_grid = {'bootstrap': [True, False],\n",
        " 'max_depth': [5, 10, 20, 40],\n",
        "#  'max_features': ['auto', 'sqrt'],\n",
        " 'min_samples_leaf': [1, 2, 4],\n",
        " 'min_samples_split': [2, 5, 10],\n",
        " 'n_estimators': [10, 50, 100, 200]}\n",
        "\n",
        "print(random_grid)"
      ],
      "metadata": {
        "colab": {
          "base_uri": "https://localhost:8080/"
        },
        "id": "LVtIpSopejr7",
        "outputId": "7447d1fa-d894-486f-9332-ad75880b831d"
      },
      "execution_count": null,
      "outputs": [
        {
          "output_type": "stream",
          "name": "stdout",
          "text": [
            "{'bootstrap': [True, False], 'max_depth': [5, 10, 20, 40], 'min_samples_leaf': [1, 2, 4], 'min_samples_split': [2, 5, 10], 'n_estimators': [10, 50, 100, 200]}\n"
          ]
        }
      ]
    },
    {
      "cell_type": "code",
      "source": [
        "# # Use the random grid to search for best hyperparameters\n",
        "# # First create the base model to tune\n",
        "# rf = RandomForestRegressor()\n",
        "# # Random search of parameters, using 3 fold cross validation, \n",
        "# # search across 100 different combinations, and use all available cores\n",
        "# rf_random = RandomizedSearchCV(estimator = rf, \n",
        "#                                param_distributions = random_grid, \n",
        "#                                n_iter = 50, cv = 3, \n",
        "#                                verbose=2, random_state=42, n_jobs = -1)\n",
        "# # Fit the random search model\n",
        "# rf_random.fit(X_train, y_train)"
      ],
      "metadata": {
        "id": "t6AEfQRZejog"
      },
      "execution_count": null,
      "outputs": []
    },
    {
      "cell_type": "markdown",
      "source": [
        "## Hyperparameter tuning using hyperopt\n",
        "\n",
        "The available hyperopt optimization algorithms are -\n",
        "\n",
        "`hp.choice(label, options)` — Returns one of the options, which should be a list or tuple.\n",
        "\n",
        "`hp.randint(label, upper)` — Returns a random integer between the range [0, upper).\n",
        "\n",
        "`hp.uniform(label, low, high)` — Returns a value uniformly between low and high.\n",
        "\n",
        "`hp.quniform(label, low, high, q)` — Returns a value round(uniform(low, high) / q) * q, i.e it rounds the decimal values and returns an integer.\n",
        "\n",
        "`hp.normal(label, mean, std)` — Returns a real value that’s normally-distributed with mean and standard deviation sigma."
      ],
      "metadata": {
        "id": "fIuu0NalUcht"
      }
    },
    {
      "cell_type": "code",
      "execution_count": null,
      "metadata": {
        "id": "QqHeoGAl7q-m"
      },
      "outputs": [],
      "source": [
        "from hyperopt import STATUS_OK, Trials, fmin, hp, tpe\n",
        "\n",
        "space={'bootstrap': hp.choice('bootstrap', [True, False]),\n",
        "    'n_estimators': hp.quniform('n_estimators', 50, 200, q=1),\n",
        "        'max_depth': hp.quniform(\"max_depth\", 3, 50, 1),\n",
        "        'max_features': hp.choice('max_features', ['auto', 'sqrt']),\n",
        "        'min_samples_leaf': hp.quniform('min_samples_leaf',3,10,1),\n",
        "        'min_samples_split': hp.quniform('min_samples_leaf',2,10,1),\n",
        "        'seed': 0}"
      ]
    },
    {
      "cell_type": "markdown",
      "source": [
        "(Define X_val and y_val)"
      ],
      "metadata": {
        "id": "LqlRIVH6uJzy"
      }
    },
    {
      "cell_type": "code",
      "source": [
        "from sklearn.preprocessing import LabelEncoder\n",
        "def objective(space):\n",
        "    global X_train, y_train, X_val, y_val\n",
        "    \n",
        "    rfr = RandomForestRegressor(bootstrap = space['bootstrap'],\n",
        "                    n_estimators =int(space['n_estimators']), \n",
        "                    max_depth = int(space['max_depth']), \n",
        "                    max_features = space['max_features'],\n",
        "                    min_samples_leaf = int(space['min_samples_leaf']),\n",
        "                    min_samples_split = int(space['min_samples_split'])\n",
        "                    )\n",
        "    \n",
        "    rfr.fit(X_train, y_train)\n",
        "            # eval_metric=\"rmse\",\n",
        "            # early_stopping_rounds=10,verbose=False)\n",
        "    \n",
        "\n",
        "    y_pred = rfr.predict(X_val)\n",
        "    rmse = mean_squared_error(y_val, y_pred, squared=False) # squared=False returns RMSE\n",
        "\n",
        "    print (\"SCORE(RMSE):\", rmse)\n",
        "    return {'loss': -rmse, 'status': STATUS_OK }"
      ],
      "metadata": {
        "id": "QPGO1wAz5-aC"
      },
      "execution_count": null,
      "outputs": []
    },
    {
      "cell_type": "code",
      "source": [
        "trials = Trials()\n",
        "\n",
        "best_hyperparams = fmin(fn = objective,\n",
        "                        space = space,\n",
        "                        algo = tpe.suggest,\n",
        "                        max_evals = 50,\n",
        "                        trials = trials)"
      ],
      "metadata": {
        "id": "YJ0PBK5uqDUs"
      },
      "execution_count": null,
      "outputs": []
    },
    {
      "cell_type": "code",
      "source": [
        "print(\"The best hyperparameters are : \",\"\\n\")\n",
        "print(best_hyperparams)"
      ],
      "metadata": {
        "id": "y4Ul8OCkqDRf"
      },
      "execution_count": null,
      "outputs": []
    },
    {
      "cell_type": "markdown",
      "source": [
        "### Tune best parameters"
      ],
      "metadata": {
        "id": "QE_Z-lGAuxx8"
      }
    },
    {
      "cell_type": "code",
      "source": [
        "import time\n",
        "best_rfr = RandomForestRegressor(\n",
        "                    bootstrap = best_hyperparams['bootstrap'],\n",
        "                    n_estimators = best_hyperparams['n_estimators'], \n",
        "                    max_depth = best_hyperparams['max_depth'], \n",
        "                    max_features = best_hyperparams['max_features'],\n",
        "                    min_samples_leaf = best_hyperparams['min_samples_leaf'],\n",
        "                    min_samples_split = best_hyperparams['min_samples_split'])\n",
        "\n",
        "# Train the regressor on training data\n",
        "start_time = time.time()\n",
        "best_rfr.fit(X_train, y_train)\n",
        "end_time = time.time()\n",
        "fit_time = end_time - start_time\n",
        "print(\"Time taken to fit the model: {:.2f} seconds\".format(fit_time))"
      ],
      "metadata": {
        "id": "FnHHAIlLtb3Y"
      },
      "execution_count": null,
      "outputs": []
    },
    {
      "cell_type": "markdown",
      "source": [
        "### Final prediction"
      ],
      "metadata": {
        "id": "ZPMiV7RYu4wa"
      }
    },
    {
      "cell_type": "code",
      "source": [
        "# Use the trained regressor to make predictions on test data\n",
        "y_pred = best_rfr.predict(X_test)\n",
        "\n",
        "# Calculate and print RMSE, MAE, and R-squared on the test set\n",
        "rmse = np.sqrt(mean_squared_error(y_test, y_pred))\n",
        "mae = mean_absolute_error(y_test, y_pred)\n",
        "r2 = r2_score(y_test, y_pred)\n",
        "\n",
        "print(\"RMSE: {:.2f}\".format(rmse))\n",
        "print(\"MAE: {:.2f}\".format(mae))\n",
        "print(\"R-squared: {:.2f}\".format(r2))\n"
      ],
      "metadata": {
        "id": "j1d7B5ndu4J_"
      },
      "execution_count": null,
      "outputs": []
    },
    {
      "cell_type": "markdown",
      "source": [
        "# Run RFR - intial result"
      ],
      "metadata": {
        "id": "4vVICb_QF2b4"
      }
    },
    {
      "cell_type": "code",
      "execution_count": 20,
      "metadata": {
        "tags": [],
        "id": "uY6WIJB3amyL"
      },
      "outputs": [],
      "source": [
        "# Using best params from the tuned model in V1\n",
        "best_params = {}\n",
        "best_params['n_estimators'] = 50\n",
        "best_params['max_depth'] = 10\n",
        "best_params['max_features'] = 'sqrt'"
      ]
    },
    {
      "cell_type": "code",
      "source": [
        "model = RandomForestRegressor(**best_params, random_state=42, n_jobs=-1, verbose=1)\n",
        "model.fit(X_train, y_train)"
      ],
      "metadata": {
        "id": "FP674RcuGWMP"
      },
      "execution_count": null,
      "outputs": []
    },
    {
      "cell_type": "markdown",
      "metadata": {
        "id": "91YY_BZajnjQ"
      },
      "source": [
        "## Feature Importances"
      ]
    },
    {
      "cell_type": "code",
      "execution_count": null,
      "metadata": {
        "tags": [],
        "outputId": "260c6082-def7-4afb-e765-da43e43745a8",
        "colab": {
          "base_uri": "https://localhost:8080/",
          "height": 487
        },
        "id": "gzGfrB2XjnjR"
      },
      "outputs": [
        {
          "output_type": "display_data",
          "data": {
            "text/plain": [
              "<Figure size 640x480 with 1 Axes>"
            ],
            "image/png": "[encoded data removed]"
          },
          "metadata": {}
        }
      ],
      "source": [
        "# get the feature importances\n",
        "importances = pd.Series(model.feature_importances_, index=X_test.columns).sort_values(ascending=False)\n",
        "\n",
        "# Visualize\n",
        "importances_sorted = importances.sort_values(ascending=True)[-30:]\n",
        "\n",
        "fig, ax = plt.subplots()\n",
        "ax.barh(importances_sorted.index, importances_sorted.values)\n",
        "ax.set_title('Feature Importances')\n",
        "ax.set_xlabel('Importance')\n",
        "ax.set_ylabel('Feature')\n",
        "fig.tight_layout()\n",
        "plt.show()"
      ]
    },
    {
      "cell_type": "code",
      "execution_count": null,
      "metadata": {
        "tags": [],
        "outputId": "e9a77ade-d0fe-4dea-cf79-f864c4584fc5",
        "colab": {
          "base_uri": "https://localhost:8080/"
        },
        "id": "gKRtoIlKjnjS"
      },
      "outputs": [
        {
          "output_type": "stream",
          "name": "stdout",
          "text": [
            "SW_IN_ERA        0.36083\n",
            "hour             0.10370\n",
            "VPD_ERA          0.05758\n",
            "NIRv             0.04676\n",
            "NDVI             0.04636\n",
            "                   ...  \n",
            "MODIS_PFT_ENF    0.00002\n",
            "MODIS_IGBP_EBF   0.00001\n",
            "c3c4_unknown     0.00000\n",
            "MODIS_IGBP_CSH   0.00000\n",
            "MODIS_IGBP_WET   0.00000\n",
            "Length: 94, dtype: float64\n"
          ]
        }
      ],
      "source": [
        "print(importances)"
      ]
    },
    {
      "cell_type": "code",
      "execution_count": null,
      "metadata": {
        "colab": {
          "base_uri": "https://localhost:8080/"
        },
        "id": "PIj2lvRojnjT",
        "outputId": "6abcaf78-1ddd-4069-d433-8728fe89f4a4"
      },
      "outputs": [
        {
          "output_type": "execute_result",
          "data": {
            "text/plain": [
              "0.8102959038876457"
            ]
          },
          "metadata": {},
          "execution_count": 25
        }
      ],
      "source": [
        "importances_df = pd.DataFrame(importances).reset_index()\n",
        "importances_df.columns = [\"feature_name\",\"importance\"]\n",
        "importances_df[\"importance\"][:13].sum()"
      ]
    },
    {
      "cell_type": "markdown",
      "metadata": {
        "id": "JK_DTLrKamyP"
      },
      "source": [
        "## Evaluate RFR on Val & Test Set"
      ]
    },
    {
      "cell_type": "code",
      "execution_count": null,
      "metadata": {
        "tags": [],
        "id": "LDrbwlDlamyP"
      },
      "outputs": [],
      "source": [
        "# # Predict on val/test sets\n",
        "# y_pred_val = model_pkl.predict(X_val)\n",
        "# y_pred_test = model_pkl.predict(X_test)\n",
        "\n",
        "# # Evaluate predictions - VAL\n",
        "# rmse = np.sqrt(mean_squared_error(y_val, y_pred_val))\n",
        "# mae = mean_absolute_error(y_val, y_pred_val)\n",
        "# r2 = r2_score(y_val, y_pred_val)\n",
        "# print(f\"Val RMSE: {rmse}\")\n",
        "# print(f\"Val MAE: {mae}\")\n",
        "# print(f\"Val R2/NSE: {r2}\")"
      ]
    },
    {
      "cell_type": "markdown",
      "source": [
        "# Dimensionality Reduction"
      ],
      "metadata": {
        "id": "Y3Cacc9DiJPD"
      }
    },
    {
      "cell_type": "code",
      "source": [
        "def RFR_fit_show_result(model, X_train, y_train, X_val, y_val, feature_list, model_name):\n",
        "  X_train = X_train[feature_list]\n",
        "  y_train = y_train\n",
        "  X_val = X_val[feature_list]\n",
        "  y_val = y_val\n",
        "  \n",
        "  model.fit(X_train, y_train)\n",
        "  # Predict on val/test sets\n",
        "  y_pred_val = model.predict(X_val)\n",
        "  # y_pred_test = model.predict(X_test)\n",
        "\n",
        "  # Evaluate predictions - VAL\n",
        "  rmse = np.sqrt(mean_squared_error(y_val, y_pred_val))\n",
        "  mae = mean_absolute_error(y_val, y_pred_val)\n",
        "  r2 = r2_score(y_val, y_pred_val)\n",
        "  print(f\"   \")\n",
        "  print(f\"{model_name}, Val RMSE: {rmse}, Val MAE: {mae}, Val R2/NSE: {r2}\")\n",
        "  return [model_name, feature_list, rmse, mae, r2]"
      ],
      "metadata": {
        "id": "Z-FCAclOiJFr"
      },
      "execution_count": null,
      "outputs": []
    },
    {
      "cell_type": "code",
      "source": [
        "model_1, model_2, model_3, model_4, model_5 = [],[],[],[],[]\n",
        "model_6, model_7, model_8, model_9, model_10 = [],[],[],[],[]\n",
        "\n",
        "num_feature_list = [10, 12, 14, 16, 18, 20, 22, 25, 30, 35]\n",
        "importance_total = importances_df[\"importance\"][:13].sum()\n",
        "\n",
        "list(importances_df[\"feature_name\"][:13])"
      ],
      "metadata": {
        "colab": {
          "base_uri": "https://localhost:8080/"
        },
        "id": "5ft471GokPky",
        "outputId": "06b35dec-21f2-4646-ac56-3929236cdd37"
      },
      "execution_count": null,
      "outputs": [
        {
          "output_type": "execute_result",
          "data": {
            "text/plain": [
              "['SW_IN_ERA',\n",
              " 'hour',\n",
              " 'VPD_ERA',\n",
              " 'NIRv',\n",
              " 'NDVI',\n",
              " 'EVI',\n",
              " 'TA_ERA',\n",
              " 'Fpar',\n",
              " 'Lai',\n",
              " 'CSIF-SIFdaily',\n",
              " 'BESS-PARdiff',\n",
              " 'NDVI_szn_mean',\n",
              " 'b1']"
            ]
          },
          "metadata": {},
          "execution_count": 46
        }
      ]
    },
    {
      "cell_type": "code",
      "source": [
        "num_feature = 10\n",
        "feature_list = list(importances_df[\"feature_name\"][:num_feature])\n",
        "feature_list"
      ],
      "metadata": {
        "colab": {
          "base_uri": "https://localhost:8080/"
        },
        "id": "cvZ2qoI5pkuW",
        "outputId": "57d2d765-9678-4bf7-854f-4b95d2b4e213"
      },
      "execution_count": null,
      "outputs": [
        {
          "output_type": "execute_result",
          "data": {
            "text/plain": [
              "['SW_IN_ERA',\n",
              " 'hour',\n",
              " 'VPD_ERA',\n",
              " 'NIRv',\n",
              " 'NDVI',\n",
              " 'EVI',\n",
              " 'TA_ERA',\n",
              " 'Fpar',\n",
              " 'Lai',\n",
              " 'CSIF-SIFdaily']"
            ]
          },
          "metadata": {},
          "execution_count": 36
        }
      ]
    },
    {
      "cell_type": "code",
      "source": [
        "importances_df[\"feature_name\"].shape"
      ],
      "metadata": {
        "colab": {
          "base_uri": "https://localhost:8080/"
        },
        "id": "1OCpDYY4JEzz",
        "outputId": "39e0c9fd-489c-4cae-c6c0-8694f9790101"
      },
      "execution_count": null,
      "outputs": [
        {
          "output_type": "execute_result",
          "data": {
            "text/plain": [
              "(94,)"
            ]
          },
          "metadata": {},
          "execution_count": 52
        }
      ]
    },
    {
      "cell_type": "code",
      "source": [
        "model_list = [[\"model_name\", \"feature_list\", \"RMSE\", \"MAE\", \"R2\"]]\n",
        "model_name_list = [\"model_1\", \"model_2\", \"model_3\", \"model_4\", \"model_5\", \n",
        "              \"model_6\", \"model_7\", \"model_8\", \"model_9\", \"model_10\", \n",
        "              \"model_11\", \"model_12\", \"model_13\", \"model_14\", \"model_15\"]\n",
        "num_feature_list = [3, 5, 7, 10, 12, 14, 16, 18, 20, 22, 25, 30, 35, 50, 90]\n",
        "\n",
        "for idx, num_feature in enumerate(num_feature_list):\n",
        "  feature_list = list(importances_df[\"feature_name\"][:num_feature])\n",
        "  model_name = model_name_list[idx]\n",
        "  model_list += [RFR_fit_show_result(model, X_train, y_train, X_val, y_val, feature_list, model_name)]\n"
      ],
      "metadata": {
        "colab": {
          "base_uri": "https://localhost:8080/"
        },
        "id": "fX63Zgpyje7k",
        "outputId": "b216efdf-94b0-4219-b28c-47b07e8601e1"
      },
      "execution_count": null,
      "outputs": [
        {
          "output_type": "stream",
          "name": "stderr",
          "text": [
            "[Parallel(n_jobs=-1)]: Using backend ThreadingBackend with 12 concurrent workers.\n",
            "[Parallel(n_jobs=-1)]: Done  26 tasks      | elapsed:   10.8s\n",
            "[Parallel(n_jobs=-1)]: Done  50 out of  50 | elapsed:   16.7s finished\n",
            "[Parallel(n_jobs=12)]: Using backend ThreadingBackend with 12 concurrent workers.\n",
            "[Parallel(n_jobs=12)]: Done  26 tasks      | elapsed:    0.2s\n",
            "[Parallel(n_jobs=12)]: Done  50 out of  50 | elapsed:    0.4s finished\n"
          ]
        },
        {
          "output_type": "stream",
          "name": "stdout",
          "text": [
            "   \n",
            "model_1, Val RMSE: 5.52138744384949, Val MAE: 3.2094065275957027, Val R2/NSE: 0.42746178931715895\n"
          ]
        },
        {
          "output_type": "stream",
          "name": "stderr",
          "text": [
            "[Parallel(n_jobs=-1)]: Using backend ThreadingBackend with 12 concurrent workers.\n",
            "[Parallel(n_jobs=-1)]: Done  26 tasks      | elapsed:   18.2s\n",
            "[Parallel(n_jobs=-1)]: Done  50 out of  50 | elapsed:   29.5s finished\n",
            "[Parallel(n_jobs=12)]: Using backend ThreadingBackend with 12 concurrent workers.\n",
            "[Parallel(n_jobs=12)]: Done  26 tasks      | elapsed:    0.2s\n",
            "[Parallel(n_jobs=12)]: Done  50 out of  50 | elapsed:    0.3s finished\n"
          ]
        },
        {
          "output_type": "stream",
          "name": "stdout",
          "text": [
            "   \n",
            "model_2, Val RMSE: 3.621476786666066, Val MAE: 2.0217146809382225, Val R2/NSE: 0.7536914762230129\n"
          ]
        },
        {
          "output_type": "stream",
          "name": "stderr",
          "text": [
            "[Parallel(n_jobs=-1)]: Using backend ThreadingBackend with 12 concurrent workers.\n",
            "[Parallel(n_jobs=-1)]: Done  26 tasks      | elapsed:   18.0s\n",
            "[Parallel(n_jobs=-1)]: Done  50 out of  50 | elapsed:   28.8s finished\n",
            "[Parallel(n_jobs=12)]: Using backend ThreadingBackend with 12 concurrent workers.\n",
            "[Parallel(n_jobs=12)]: Done  26 tasks      | elapsed:    0.2s\n",
            "[Parallel(n_jobs=12)]: Done  50 out of  50 | elapsed:    0.3s finished\n"
          ]
        },
        {
          "output_type": "stream",
          "name": "stdout",
          "text": [
            "   \n",
            "model_3, Val RMSE: 3.5837865520363006, Val MAE: 1.9915562279762076, Val R2/NSE: 0.7587916706097189\n"
          ]
        },
        {
          "output_type": "stream",
          "name": "stderr",
          "text": [
            "[Parallel(n_jobs=-1)]: Using backend ThreadingBackend with 12 concurrent workers.\n",
            "[Parallel(n_jobs=-1)]: Done  26 tasks      | elapsed:   21.7s\n",
            "[Parallel(n_jobs=-1)]: Done  50 out of  50 | elapsed:   34.2s finished\n",
            "[Parallel(n_jobs=12)]: Using backend ThreadingBackend with 12 concurrent workers.\n",
            "[Parallel(n_jobs=12)]: Done  26 tasks      | elapsed:    0.2s\n",
            "[Parallel(n_jobs=12)]: Done  50 out of  50 | elapsed:    0.3s finished\n"
          ]
        },
        {
          "output_type": "stream",
          "name": "stdout",
          "text": [
            "   \n",
            "model_4, Val RMSE: 3.5948660706926847, Val MAE: 2.001794608799337, Val R2/NSE: 0.7572979414430955\n"
          ]
        },
        {
          "output_type": "stream",
          "name": "stderr",
          "text": [
            "[Parallel(n_jobs=-1)]: Using backend ThreadingBackend with 12 concurrent workers.\n",
            "[Parallel(n_jobs=-1)]: Done  26 tasks      | elapsed:   19.8s\n",
            "[Parallel(n_jobs=-1)]: Done  50 out of  50 | elapsed:   31.7s finished\n",
            "[Parallel(n_jobs=12)]: Using backend ThreadingBackend with 12 concurrent workers.\n",
            "[Parallel(n_jobs=12)]: Done  26 tasks      | elapsed:    0.2s\n",
            "[Parallel(n_jobs=12)]: Done  50 out of  50 | elapsed:    0.3s finished\n"
          ]
        },
        {
          "output_type": "stream",
          "name": "stdout",
          "text": [
            "   \n",
            "model_5, Val RMSE: 3.6051838024087677, Val MAE: 2.0072484689993497, Val R2/NSE: 0.7559027693985813\n"
          ]
        },
        {
          "output_type": "stream",
          "name": "stderr",
          "text": [
            "[Parallel(n_jobs=-1)]: Using backend ThreadingBackend with 12 concurrent workers.\n",
            "[Parallel(n_jobs=-1)]: Done  26 tasks      | elapsed:   18.7s\n",
            "[Parallel(n_jobs=-1)]: Done  50 out of  50 | elapsed:   29.2s finished\n",
            "[Parallel(n_jobs=12)]: Using backend ThreadingBackend with 12 concurrent workers.\n",
            "[Parallel(n_jobs=12)]: Done  26 tasks      | elapsed:    0.2s\n",
            "[Parallel(n_jobs=12)]: Done  50 out of  50 | elapsed:    0.3s finished\n"
          ]
        },
        {
          "output_type": "stream",
          "name": "stdout",
          "text": [
            "   \n",
            "model_6, Val RMSE: 3.6223315400145513, Val MAE: 2.017037166854044, Val R2/NSE: 0.7535751933399648\n"
          ]
        },
        {
          "output_type": "stream",
          "name": "stderr",
          "text": [
            "[Parallel(n_jobs=-1)]: Using backend ThreadingBackend with 12 concurrent workers.\n",
            "[Parallel(n_jobs=-1)]: Done  26 tasks      | elapsed:   22.7s\n",
            "[Parallel(n_jobs=-1)]: Done  50 out of  50 | elapsed:   36.6s finished\n",
            "[Parallel(n_jobs=12)]: Using backend ThreadingBackend with 12 concurrent workers.\n",
            "[Parallel(n_jobs=12)]: Done  26 tasks      | elapsed:    0.2s\n",
            "[Parallel(n_jobs=12)]: Done  50 out of  50 | elapsed:    0.3s finished\n"
          ]
        },
        {
          "output_type": "stream",
          "name": "stdout",
          "text": [
            "   \n",
            "model_7, Val RMSE: 3.61070837408951, Val MAE: 2.015813674043955, Val R2/NSE: 0.7551540886294615\n"
          ]
        },
        {
          "output_type": "stream",
          "name": "stderr",
          "text": [
            "[Parallel(n_jobs=-1)]: Using backend ThreadingBackend with 12 concurrent workers.\n",
            "[Parallel(n_jobs=-1)]: Done  26 tasks      | elapsed:   22.7s\n",
            "[Parallel(n_jobs=-1)]: Done  50 out of  50 | elapsed:   35.4s finished\n",
            "[Parallel(n_jobs=12)]: Using backend ThreadingBackend with 12 concurrent workers.\n",
            "[Parallel(n_jobs=12)]: Done  26 tasks      | elapsed:    0.2s\n",
            "[Parallel(n_jobs=12)]: Done  50 out of  50 | elapsed:    0.3s finished\n"
          ]
        },
        {
          "output_type": "stream",
          "name": "stdout",
          "text": [
            "   \n",
            "model_8, Val RMSE: 3.624763829303129, Val MAE: 2.0258641412488854, Val R2/NSE: 0.7532441481869245\n"
          ]
        },
        {
          "output_type": "stream",
          "name": "stderr",
          "text": [
            "[Parallel(n_jobs=-1)]: Using backend ThreadingBackend with 12 concurrent workers.\n",
            "[Parallel(n_jobs=-1)]: Done  26 tasks      | elapsed:   22.1s\n",
            "[Parallel(n_jobs=-1)]: Done  50 out of  50 | elapsed:   34.5s finished\n",
            "[Parallel(n_jobs=12)]: Using backend ThreadingBackend with 12 concurrent workers.\n",
            "[Parallel(n_jobs=12)]: Done  26 tasks      | elapsed:    0.2s\n",
            "[Parallel(n_jobs=12)]: Done  50 out of  50 | elapsed:    0.3s finished\n"
          ]
        },
        {
          "output_type": "stream",
          "name": "stdout",
          "text": [
            "   \n",
            "model_9, Val RMSE: 3.6231792579152877, Val MAE: 2.0295305649642965, Val R2/NSE: 0.7534598404732845\n"
          ]
        },
        {
          "output_type": "stream",
          "name": "stderr",
          "text": [
            "[Parallel(n_jobs=-1)]: Using backend ThreadingBackend with 12 concurrent workers.\n",
            "[Parallel(n_jobs=-1)]: Done  26 tasks      | elapsed:   22.7s\n",
            "[Parallel(n_jobs=-1)]: Done  50 out of  50 | elapsed:   35.3s finished\n",
            "[Parallel(n_jobs=12)]: Using backend ThreadingBackend with 12 concurrent workers.\n",
            "[Parallel(n_jobs=12)]: Done  26 tasks      | elapsed:    0.2s\n",
            "[Parallel(n_jobs=12)]: Done  50 out of  50 | elapsed:    0.3s finished\n"
          ]
        },
        {
          "output_type": "stream",
          "name": "stdout",
          "text": [
            "   \n",
            "model_10, Val RMSE: 3.638509748917348, Val MAE: 2.0451750591627604, Val R2/NSE: 0.7513690922324698\n"
          ]
        },
        {
          "output_type": "stream",
          "name": "stderr",
          "text": [
            "[Parallel(n_jobs=-1)]: Using backend ThreadingBackend with 12 concurrent workers.\n",
            "[Parallel(n_jobs=-1)]: Done  26 tasks      | elapsed:   25.0s\n",
            "[Parallel(n_jobs=-1)]: Done  50 out of  50 | elapsed:   39.8s finished\n",
            "[Parallel(n_jobs=12)]: Using backend ThreadingBackend with 12 concurrent workers.\n",
            "[Parallel(n_jobs=12)]: Done  26 tasks      | elapsed:    0.2s\n",
            "[Parallel(n_jobs=12)]: Done  50 out of  50 | elapsed:    0.3s finished\n"
          ]
        },
        {
          "output_type": "stream",
          "name": "stdout",
          "text": [
            "   \n",
            "model_11, Val RMSE: 3.6717808127363183, Val MAE: 2.0582658885736977, Val R2/NSE: 0.7468012682921942\n"
          ]
        },
        {
          "output_type": "stream",
          "name": "stderr",
          "text": [
            "[Parallel(n_jobs=-1)]: Using backend ThreadingBackend with 12 concurrent workers.\n",
            "[Parallel(n_jobs=-1)]: Done  26 tasks      | elapsed:   23.3s\n",
            "[Parallel(n_jobs=-1)]: Done  50 out of  50 | elapsed:   37.0s finished\n",
            "[Parallel(n_jobs=12)]: Using backend ThreadingBackend with 12 concurrent workers.\n",
            "[Parallel(n_jobs=12)]: Done  26 tasks      | elapsed:    0.2s\n",
            "[Parallel(n_jobs=12)]: Done  50 out of  50 | elapsed:    0.3s finished\n"
          ]
        },
        {
          "output_type": "stream",
          "name": "stdout",
          "text": [
            "   \n",
            "model_12, Val RMSE: 3.6738487946260228, Val MAE: 2.08003764958367, Val R2/NSE: 0.7465159801066749\n"
          ]
        },
        {
          "output_type": "stream",
          "name": "stderr",
          "text": [
            "[Parallel(n_jobs=-1)]: Using backend ThreadingBackend with 12 concurrent workers.\n",
            "[Parallel(n_jobs=-1)]: Done  26 tasks      | elapsed:   23.9s\n",
            "[Parallel(n_jobs=-1)]: Done  50 out of  50 | elapsed:   37.2s finished\n",
            "[Parallel(n_jobs=12)]: Using backend ThreadingBackend with 12 concurrent workers.\n",
            "[Parallel(n_jobs=12)]: Done  26 tasks      | elapsed:    0.2s\n",
            "[Parallel(n_jobs=12)]: Done  50 out of  50 | elapsed:    0.3s finished\n"
          ]
        },
        {
          "output_type": "stream",
          "name": "stdout",
          "text": [
            "   \n",
            "model_13, Val RMSE: 3.679013409870923, Val MAE: 2.086391606279179, Val R2/NSE: 0.7458027947297341\n"
          ]
        },
        {
          "output_type": "stream",
          "name": "stderr",
          "text": [
            "[Parallel(n_jobs=-1)]: Using backend ThreadingBackend with 12 concurrent workers.\n",
            "[Parallel(n_jobs=-1)]: Done  26 tasks      | elapsed:   28.8s\n",
            "[Parallel(n_jobs=-1)]: Done  50 out of  50 | elapsed:   45.6s finished\n",
            "[Parallel(n_jobs=12)]: Using backend ThreadingBackend with 12 concurrent workers.\n",
            "[Parallel(n_jobs=12)]: Done  26 tasks      | elapsed:    0.2s\n",
            "[Parallel(n_jobs=12)]: Done  50 out of  50 | elapsed:    0.3s finished\n"
          ]
        },
        {
          "output_type": "stream",
          "name": "stdout",
          "text": [
            "   \n",
            "model_14, Val RMSE: 3.7343505548707285, Val MAE: 2.1189821144597727, Val R2/NSE: 0.7380983720434989\n"
          ]
        },
        {
          "output_type": "stream",
          "name": "stderr",
          "text": [
            "[Parallel(n_jobs=-1)]: Using backend ThreadingBackend with 12 concurrent workers.\n",
            "[Parallel(n_jobs=-1)]: Done  26 tasks      | elapsed:   28.0s\n",
            "[Parallel(n_jobs=-1)]: Done  50 out of  50 | elapsed:   43.7s finished\n",
            "[Parallel(n_jobs=12)]: Using backend ThreadingBackend with 12 concurrent workers.\n"
          ]
        },
        {
          "output_type": "stream",
          "name": "stdout",
          "text": [
            "   \n",
            "model_15, Val RMSE: 3.8818803615209996, Val MAE: 2.28402534205913, Val R2/NSE: 0.7169961637261888\n"
          ]
        },
        {
          "output_type": "stream",
          "name": "stderr",
          "text": [
            "[Parallel(n_jobs=12)]: Done  26 tasks      | elapsed:    0.2s\n",
            "[Parallel(n_jobs=12)]: Done  50 out of  50 | elapsed:    0.3s finished\n"
          ]
        }
      ]
    },
    {
      "cell_type": "code",
      "source": [
        "dimensionality_reduction_RFR_df = pd.DataFrame(model_list[1:], columns=model_list[0])\n",
        "dimensionality_reduction_RFR_df[\"num_of_feature\"] = num_feature_list"
      ],
      "metadata": {
        "id": "LaghwOWvnlA5"
      },
      "execution_count": null,
      "outputs": []
    },
    {
      "cell_type": "code",
      "source": [
        "dimensionality_reduction_RFR_df =dimensionality_reduction_RFR_df[['model_name', 'num_of_feature','feature_list', 'RMSE', 'MAE', 'R2']]\n",
        "dimensionality_reduction_RFR_df"
      ],
      "metadata": {
        "colab": {
          "base_uri": "https://localhost:8080/",
          "height": 519
        },
        "id": "wxk_EDu7LSpr",
        "outputId": "d904bbba-6c34-4f3b-8683-b9850f9d4ac4"
      },
      "execution_count": null,
      "outputs": [
        {
          "output_type": "execute_result",
          "data": {
            "text/plain": [
              "   model_name  num_of_feature  \\\n",
              "0     model_1               3   \n",
              "1     model_2               5   \n",
              "2     model_3               7   \n",
              "3     model_4              10   \n",
              "4     model_5              12   \n",
              "5     model_6              14   \n",
              "6     model_7              16   \n",
              "7     model_8              18   \n",
              "8     model_9              20   \n",
              "9    model_10              22   \n",
              "10   model_11              25   \n",
              "11   model_12              30   \n",
              "12   model_13              35   \n",
              "13   model_14              50   \n",
              "14   model_15              90   \n",
              "\n",
              "                                         feature_list    RMSE     MAE      R2  \n",
              "0                          [SW_IN_ERA, hour, VPD_ERA] 5.52139 3.20941 0.42746  \n",
              "1              [SW_IN_ERA, hour, VPD_ERA, NIRv, NDVI] 3.62148 2.02171 0.75369  \n",
              "2   [SW_IN_ERA, hour, VPD_ERA, NIRv, NDVI, EVI, TA... 3.58379 1.99156 0.75879  \n",
              "3   [SW_IN_ERA, hour, VPD_ERA, NIRv, NDVI, EVI, TA... 3.59487 2.00179 0.75730  \n",
              "4   [SW_IN_ERA, hour, VPD_ERA, NIRv, NDVI, EVI, TA... 3.60518 2.00725 0.75590  \n",
              "5   [SW_IN_ERA, hour, VPD_ERA, NIRv, NDVI, EVI, TA... 3.62233 2.01704 0.75358  \n",
              "6   [SW_IN_ERA, hour, VPD_ERA, NIRv, NDVI, EVI, TA... 3.61071 2.01581 0.75515  \n",
              "7   [SW_IN_ERA, hour, VPD_ERA, NIRv, NDVI, EVI, TA... 3.62476 2.02586 0.75324  \n",
              "8   [SW_IN_ERA, hour, VPD_ERA, NIRv, NDVI, EVI, TA... 3.62318 2.02953 0.75346  \n",
              "9   [SW_IN_ERA, hour, VPD_ERA, NIRv, NDVI, EVI, TA... 3.63851 2.04518 0.75137  \n",
              "10  [SW_IN_ERA, hour, VPD_ERA, NIRv, NDVI, EVI, TA... 3.67178 2.05827 0.74680  \n",
              "11  [SW_IN_ERA, hour, VPD_ERA, NIRv, NDVI, EVI, TA... 3.67385 2.08004 0.74652  \n",
              "12  [SW_IN_ERA, hour, VPD_ERA, NIRv, NDVI, EVI, TA... 3.67901 2.08639 0.74580  \n",
              "13  [SW_IN_ERA, hour, VPD_ERA, NIRv, NDVI, EVI, TA... 3.73435 2.11898 0.73810  \n",
              "14  [SW_IN_ERA, hour, VPD_ERA, NIRv, NDVI, EVI, TA... 3.88188 2.28403 0.71700  "
            ],
            "text/html": [
              "\n",
              "  <div id=\"df-50769e09-4ca0-4ea6-92fd-9ba0c82718ee\">\n",
              "    <div class=\"colab-df-container\">\n",
              "      <div>\n",
              "<style scoped>\n",
              "    .dataframe tbody tr th:only-of-type {\n",
              "        vertical-align: middle;\n",
              "    }\n",
              "\n",
              "    .dataframe tbody tr th {\n",
              "        vertical-align: top;\n",
              "    }\n",
              "\n",
              "    .dataframe thead th {\n",
              "        text-align: right;\n",
              "    }\n",
              "</style>\n",
              "<table border=\"1\" class=\"dataframe\">\n",
              "  <thead>\n",
              "    <tr style=\"text-align: right;\">\n",
              "      <th></th>\n",
              "      <th>model_name</th>\n",
              "      <th>num_of_feature</th>\n",
              "      <th>feature_list</th>\n",
              "      <th>RMSE</th>\n",
              "      <th>MAE</th>\n",
              "      <th>R2</th>\n",
              "    </tr>\n",
              "  </thead>\n",
              "  <tbody>\n",
              "    <tr>\n",
              "      <th>0</th>\n",
              "      <td>model_1</td>\n",
              "      <td>3</td>\n",
              "      <td>[SW_IN_ERA, hour, VPD_ERA]</td>\n",
              "      <td>5.52139</td>\n",
              "      <td>3.20941</td>\n",
              "      <td>0.42746</td>\n",
              "    </tr>\n",
              "    <tr>\n",
              "      <th>1</th>\n",
              "      <td>model_2</td>\n",
              "      <td>5</td>\n",
              "      <td>[SW_IN_ERA, hour, VPD_ERA, NIRv, NDVI]</td>\n",
              "      <td>3.62148</td>\n",
              "      <td>2.02171</td>\n",
              "      <td>0.75369</td>\n",
              "    </tr>\n",
              "    <tr>\n",
              "      <th>2</th>\n",
              "      <td>model_3</td>\n",
              "      <td>7</td>\n",
              "      <td>[SW_IN_ERA, hour, VPD_ERA, NIRv, NDVI, EVI, TA...</td>\n",
              "      <td>3.58379</td>\n",
              "      <td>1.99156</td>\n",
              "      <td>0.75879</td>\n",
              "    </tr>\n",
              "    <tr>\n",
              "      <th>3</th>\n",
              "      <td>model_4</td>\n",
              "      <td>10</td>\n",
              "      <td>[SW_IN_ERA, hour, VPD_ERA, NIRv, NDVI, EVI, TA...</td>\n",
              "      <td>3.59487</td>\n",
              "      <td>2.00179</td>\n",
              "      <td>0.75730</td>\n",
              "    </tr>\n",
              "    <tr>\n",
              "      <th>4</th>\n",
              "      <td>model_5</td>\n",
              "      <td>12</td>\n",
              "      <td>[SW_IN_ERA, hour, VPD_ERA, NIRv, NDVI, EVI, TA...</td>\n",
              "      <td>3.60518</td>\n",
              "      <td>2.00725</td>\n",
              "      <td>0.75590</td>\n",
              "    </tr>\n",
              "    <tr>\n",
              "      <th>5</th>\n",
              "      <td>model_6</td>\n",
              "      <td>14</td>\n",
              "      <td>[SW_IN_ERA, hour, VPD_ERA, NIRv, NDVI, EVI, TA...</td>\n",
              "      <td>3.62233</td>\n",
              "      <td>2.01704</td>\n",
              "      <td>0.75358</td>\n",
              "    </tr>\n",
              "    <tr>\n",
              "      <th>6</th>\n",
              "      <td>model_7</td>\n",
              "      <td>16</td>\n",
              "      <td>[SW_IN_ERA, hour, VPD_ERA, NIRv, NDVI, EVI, TA...</td>\n",
              "      <td>3.61071</td>\n",
              "      <td>2.01581</td>\n",
              "      <td>0.75515</td>\n",
              "    </tr>\n",
              "    <tr>\n",
              "      <th>7</th>\n",
              "      <td>model_8</td>\n",
              "      <td>18</td>\n",
              "      <td>[SW_IN_ERA, hour, VPD_ERA, NIRv, NDVI, EVI, TA...</td>\n",
              "      <td>3.62476</td>\n",
              "      <td>2.02586</td>\n",
              "      <td>0.75324</td>\n",
              "    </tr>\n",
              "    <tr>\n",
              "      <th>8</th>\n",
              "      <td>model_9</td>\n",
              "      <td>20</td>\n",
              "      <td>[SW_IN_ERA, hour, VPD_ERA, NIRv, NDVI, EVI, TA...</td>\n",
              "      <td>3.62318</td>\n",
              "      <td>2.02953</td>\n",
              "      <td>0.75346</td>\n",
              "    </tr>\n",
              "    <tr>\n",
              "      <th>9</th>\n",
              "      <td>model_10</td>\n",
              "      <td>22</td>\n",
              "      <td>[SW_IN_ERA, hour, VPD_ERA, NIRv, NDVI, EVI, TA...</td>\n",
              "      <td>3.63851</td>\n",
              "      <td>2.04518</td>\n",
              "      <td>0.75137</td>\n",
              "    </tr>\n",
              "    <tr>\n",
              "      <th>10</th>\n",
              "      <td>model_11</td>\n",
              "      <td>25</td>\n",
              "      <td>[SW_IN_ERA, hour, VPD_ERA, NIRv, NDVI, EVI, TA...</td>\n",
              "      <td>3.67178</td>\n",
              "      <td>2.05827</td>\n",
              "      <td>0.74680</td>\n",
              "    </tr>\n",
              "    <tr>\n",
              "      <th>11</th>\n",
              "      <td>model_12</td>\n",
              "      <td>30</td>\n",
              "      <td>[SW_IN_ERA, hour, VPD_ERA, NIRv, NDVI, EVI, TA...</td>\n",
              "      <td>3.67385</td>\n",
              "      <td>2.08004</td>\n",
              "      <td>0.74652</td>\n",
              "    </tr>\n",
              "    <tr>\n",
              "      <th>12</th>\n",
              "      <td>model_13</td>\n",
              "      <td>35</td>\n",
              "      <td>[SW_IN_ERA, hour, VPD_ERA, NIRv, NDVI, EVI, TA...</td>\n",
              "      <td>3.67901</td>\n",
              "      <td>2.08639</td>\n",
              "      <td>0.74580</td>\n",
              "    </tr>\n",
              "    <tr>\n",
              "      <th>13</th>\n",
              "      <td>model_14</td>\n",
              "      <td>50</td>\n",
              "      <td>[SW_IN_ERA, hour, VPD_ERA, NIRv, NDVI, EVI, TA...</td>\n",
              "      <td>3.73435</td>\n",
              "      <td>2.11898</td>\n",
              "      <td>0.73810</td>\n",
              "    </tr>\n",
              "    <tr>\n",
              "      <th>14</th>\n",
              "      <td>model_15</td>\n",
              "      <td>90</td>\n",
              "      <td>[SW_IN_ERA, hour, VPD_ERA, NIRv, NDVI, EVI, TA...</td>\n",
              "      <td>3.88188</td>\n",
              "      <td>2.28403</td>\n",
              "      <td>0.71700</td>\n",
              "    </tr>\n",
              "  </tbody>\n",
              "</table>\n",
              "</div>\n",
              "      <button class=\"colab-df-convert\" onclick=\"convertToInteractive('df-50769e09-4ca0-4ea6-92fd-9ba0c82718ee')\"\n",
              "              title=\"Convert this dataframe to an interactive table.\"\n",
              "              style=\"display:none;\">\n",
              "        \n",
              "  <svg xmlns=\"http://www.w3.org/2000/svg\" height=\"24px\"viewBox=\"0 0 24 24\"\n",
              "       width=\"24px\">\n",
              "    <path d=\"M0 0h24v24H0V0z\" fill=\"none\"/>\n",
              "    <path d=\"M18.56 5.44l.94 2.06.94-2.06 2.06-.94-2.06-.94-.94-2.06-.94 2.06-2.06.94zm-11 1L8.5 8.5l.94-2.06 2.06-.94-2.06-.94L8.5 2.5l-.94 2.06-2.06.94zm10 10l.94 2.06.94-2.06 2.06-.94-2.06-.94-.94-2.06-.94 2.06-2.06.94z\"/><path d=\"M17.41 7.96l-1.37-1.37c-.4-.4-.92-.59-1.43-.59-.52 0-1.04.2-1.43.59L10.3 9.45l-7.72 7.72c-.78.78-.78 2.05 0 2.83L4 21.41c.39.39.9.59 1.41.59.51 0 1.02-.2 1.41-.59l7.78-7.78 2.81-2.81c.8-.78.8-2.07 0-2.86zM5.41 20L4 18.59l7.72-7.72 1.47 1.35L5.41 20z\"/>\n",
              "  </svg>\n",
              "      </button>\n",
              "      \n",
              "  <style>\n",
              "    .colab-df-container {\n",
              "      display:flex;\n",
              "      flex-wrap:wrap;\n",
              "      gap: 12px;\n",
              "    }\n",
              "\n",
              "    .colab-df-convert {\n",
              "      background-color: #E8F0FE;\n",
              "      border: none;\n",
              "      border-radius: 50%;\n",
              "      cursor: pointer;\n",
              "      display: none;\n",
              "      fill: #1967D2;\n",
              "      height: 32px;\n",
              "      padding: 0 0 0 0;\n",
              "      width: 32px;\n",
              "    }\n",
              "\n",
              "    .colab-df-convert:hover {\n",
              "      background-color: #E2EBFA;\n",
              "      box-shadow: 0px 1px 2px rgba(60, 64, 67, 0.3), 0px 1px 3px 1px rgba(60, 64, 67, 0.15);\n",
              "      fill: #174EA6;\n",
              "    }\n",
              "\n",
              "    [theme=dark] .colab-df-convert {\n",
              "      background-color: #3B4455;\n",
              "      fill: #D2E3FC;\n",
              "    }\n",
              "\n",
              "    [theme=dark] .colab-df-convert:hover {\n",
              "      background-color: #434B5C;\n",
              "      box-shadow: 0px 1px 3px 1px rgba(0, 0, 0, 0.15);\n",
              "      filter: drop-shadow(0px 1px 2px rgba(0, 0, 0, 0.3));\n",
              "      fill: #FFFFFF;\n",
              "    }\n",
              "  </style>\n",
              "\n",
              "      <script>\n",
              "        const buttonEl =\n",
              "          document.querySelector('#df-50769e09-4ca0-4ea6-92fd-9ba0c82718ee button.colab-df-convert');\n",
              "        buttonEl.style.display =\n",
              "          google.colab.kernel.accessAllowed ? 'block' : 'none';\n",
              "\n",
              "        async function convertToInteractive(key) {\n",
              "          const element = document.querySelector('#df-50769e09-4ca0-4ea6-92fd-9ba0c82718ee');\n",
              "          const dataTable =\n",
              "            await google.colab.kernel.invokeFunction('convertToInteractive',\n",
              "                                                     [key], {});\n",
              "          if (!dataTable) return;\n",
              "\n",
              "          const docLinkHtml = 'Like what you see? Visit the ' +\n",
              "            '<a target=\"_blank\" href=https://colab.research.google.com/notebooks/data_table.ipynb>data table notebook</a>'\n",
              "            + ' to learn more about interactive tables.';\n",
              "          element.innerHTML = '';\n",
              "          dataTable['output_type'] = 'display_data';\n",
              "          await google.colab.output.renderOutput(dataTable, element);\n",
              "          const docLink = document.createElement('div');\n",
              "          docLink.innerHTML = docLinkHtml;\n",
              "          element.appendChild(docLink);\n",
              "        }\n",
              "      </script>\n",
              "    </div>\n",
              "  </div>\n",
              "  "
            ]
          },
          "metadata": {},
          "execution_count": 59
        }
      ]
    },
    {
      "cell_type": "code",
      "source": [
        "model_list_2 = [[\"model_name\", \"feature_list\", \"RMSE\", \"MAE\", \"R2\"]]\n",
        "model_name_list = [\"model_2\", \"model2_2\", \"model_3\", \"model_3_2\", \"model_3_3\",\"model_4\"]#, \n",
        "              # \"model_6\", \"model_7\", \"model_8\", \"model_9\", \"model_10\", \n",
        "              # \"model_11\", \"model_12\", \"model_13\", \"model_14\", \"model_15\"]\n",
        "num_feature_list = [5, 6 , 7, 8, 9, 10]\n",
        "\n",
        "for idx, num_feature in enumerate(num_feature_list):\n",
        "  feature_list = list(importances_df[\"feature_name\"][:num_feature])\n",
        "  model_name = model_name_list[idx]\n",
        "  model_list_2 += [RFR_fit_show_result(model, X_train, y_train, X_val, y_val, feature_list, model_name)]\n"
      ],
      "metadata": {
        "colab": {
          "base_uri": "https://localhost:8080/"
        },
        "id": "iYgIj4UuLlwk",
        "outputId": "d61eefd6-7d41-4102-99e5-b044afa8b99b"
      },
      "execution_count": null,
      "outputs": [
        {
          "output_type": "stream",
          "name": "stderr",
          "text": [
            "[Parallel(n_jobs=-1)]: Using backend ThreadingBackend with 12 concurrent workers.\n",
            "[Parallel(n_jobs=-1)]: Done  26 tasks      | elapsed:   18.8s\n",
            "[Parallel(n_jobs=-1)]: Done  50 out of  50 | elapsed:   29.7s finished\n",
            "[Parallel(n_jobs=12)]: Using backend ThreadingBackend with 12 concurrent workers.\n",
            "[Parallel(n_jobs=12)]: Done  26 tasks      | elapsed:    0.2s\n",
            "[Parallel(n_jobs=12)]: Done  50 out of  50 | elapsed:    0.3s finished\n"
          ]
        },
        {
          "output_type": "stream",
          "name": "stdout",
          "text": [
            "   \n",
            "model_2, Val RMSE: 3.621476786666066, Val MAE: 2.0217146809382225, Val R2/NSE: 0.7536914762230129\n"
          ]
        },
        {
          "output_type": "stream",
          "name": "stderr",
          "text": [
            "[Parallel(n_jobs=-1)]: Using backend ThreadingBackend with 12 concurrent workers.\n",
            "[Parallel(n_jobs=-1)]: Done  26 tasks      | elapsed:   18.0s\n",
            "[Parallel(n_jobs=-1)]: Done  50 out of  50 | elapsed:   28.4s finished\n",
            "[Parallel(n_jobs=12)]: Using backend ThreadingBackend with 12 concurrent workers.\n",
            "[Parallel(n_jobs=12)]: Done  26 tasks      | elapsed:    0.2s\n",
            "[Parallel(n_jobs=12)]: Done  50 out of  50 | elapsed:    0.3s finished\n"
          ]
        },
        {
          "output_type": "stream",
          "name": "stdout",
          "text": [
            "   \n",
            "model2_2, Val RMSE: 3.619276846252095, Val MAE: 2.022805911521489, Val R2/NSE: 0.7539906356678721\n"
          ]
        },
        {
          "output_type": "stream",
          "name": "stderr",
          "text": [
            "[Parallel(n_jobs=-1)]: Using backend ThreadingBackend with 12 concurrent workers.\n",
            "[Parallel(n_jobs=-1)]: Done  26 tasks      | elapsed:   18.0s\n",
            "[Parallel(n_jobs=-1)]: Done  50 out of  50 | elapsed:   28.6s finished\n",
            "[Parallel(n_jobs=12)]: Using backend ThreadingBackend with 12 concurrent workers.\n",
            "[Parallel(n_jobs=12)]: Done  26 tasks      | elapsed:    0.2s\n",
            "[Parallel(n_jobs=12)]: Done  50 out of  50 | elapsed:    0.3s finished\n"
          ]
        },
        {
          "output_type": "stream",
          "name": "stdout",
          "text": [
            "   \n",
            "model_3, Val RMSE: 3.5837865520363006, Val MAE: 1.9915562279762076, Val R2/NSE: 0.758791670609719\n"
          ]
        },
        {
          "output_type": "stream",
          "name": "stderr",
          "text": [
            "[Parallel(n_jobs=-1)]: Using backend ThreadingBackend with 12 concurrent workers.\n",
            "[Parallel(n_jobs=-1)]: Done  26 tasks      | elapsed:   16.9s\n",
            "[Parallel(n_jobs=-1)]: Done  50 out of  50 | elapsed:   27.1s finished\n",
            "[Parallel(n_jobs=12)]: Using backend ThreadingBackend with 12 concurrent workers.\n",
            "[Parallel(n_jobs=12)]: Done  26 tasks      | elapsed:    0.2s\n",
            "[Parallel(n_jobs=12)]: Done  50 out of  50 | elapsed:    0.3s finished\n"
          ]
        },
        {
          "output_type": "stream",
          "name": "stdout",
          "text": [
            "   \n",
            "model_3_2, Val RMSE: 3.600952005511753, Val MAE: 2.0082941602606517, Val R2/NSE: 0.7564754800868392\n"
          ]
        },
        {
          "output_type": "stream",
          "name": "stderr",
          "text": [
            "[Parallel(n_jobs=-1)]: Using backend ThreadingBackend with 12 concurrent workers.\n",
            "[Parallel(n_jobs=-1)]: Done  26 tasks      | elapsed:   22.4s\n",
            "[Parallel(n_jobs=-1)]: Done  50 out of  50 | elapsed:   36.1s finished\n",
            "[Parallel(n_jobs=12)]: Using backend ThreadingBackend with 12 concurrent workers.\n",
            "[Parallel(n_jobs=12)]: Done  26 tasks      | elapsed:    0.2s\n",
            "[Parallel(n_jobs=12)]: Done  50 out of  50 | elapsed:    0.3s finished\n"
          ]
        },
        {
          "output_type": "stream",
          "name": "stdout",
          "text": [
            "   \n",
            "model_3_3, Val RMSE: 3.5922364126835724, Val MAE: 1.9976995384708645, Val R2/NSE: 0.7576528865053909\n"
          ]
        },
        {
          "output_type": "stream",
          "name": "stderr",
          "text": [
            "[Parallel(n_jobs=-1)]: Using backend ThreadingBackend with 12 concurrent workers.\n",
            "[Parallel(n_jobs=-1)]: Done  26 tasks      | elapsed:   21.3s\n",
            "[Parallel(n_jobs=-1)]: Done  50 out of  50 | elapsed:   34.0s finished\n",
            "[Parallel(n_jobs=12)]: Using backend ThreadingBackend with 12 concurrent workers.\n"
          ]
        },
        {
          "output_type": "stream",
          "name": "stdout",
          "text": [
            "   \n",
            "model_4, Val RMSE: 3.5948660706926847, Val MAE: 2.001794608799337, Val R2/NSE: 0.7572979414430955\n"
          ]
        },
        {
          "output_type": "stream",
          "name": "stderr",
          "text": [
            "[Parallel(n_jobs=12)]: Done  26 tasks      | elapsed:    0.2s\n",
            "[Parallel(n_jobs=12)]: Done  50 out of  50 | elapsed:    0.3s finished\n"
          ]
        }
      ]
    },
    {
      "cell_type": "code",
      "source": [
        "dimensionality_reduction_RFR_df_2 = pd.DataFrame(model_list_2[1:], columns=model_list_2[0])\n",
        "dimensionality_reduction_RFR_df_2[\"num_of_feature\"] = num_feature_list\n",
        "dimensionality_reduction_RFR_df_2"
      ],
      "metadata": {
        "colab": {
          "base_uri": "https://localhost:8080/",
          "height": 237
        },
        "id": "3PR3-WX9MLGi",
        "outputId": "5d4cb349-7949-457d-dee0-fd8b819f3e3d"
      },
      "execution_count": null,
      "outputs": [
        {
          "output_type": "execute_result",
          "data": {
            "text/plain": [
              "  model_name                                       feature_list    RMSE  \\\n",
              "0    model_2             [SW_IN_ERA, hour, VPD_ERA, NIRv, NDVI] 3.62148   \n",
              "1   model2_2        [SW_IN_ERA, hour, VPD_ERA, NIRv, NDVI, EVI] 3.61928   \n",
              "2    model_3  [SW_IN_ERA, hour, VPD_ERA, NIRv, NDVI, EVI, TA... 3.58379   \n",
              "3  model_3_2  [SW_IN_ERA, hour, VPD_ERA, NIRv, NDVI, EVI, TA... 3.60095   \n",
              "4  model_3_3  [SW_IN_ERA, hour, VPD_ERA, NIRv, NDVI, EVI, TA... 3.59224   \n",
              "5    model_4  [SW_IN_ERA, hour, VPD_ERA, NIRv, NDVI, EVI, TA... 3.59487   \n",
              "\n",
              "      MAE      R2  num_of_feature  \n",
              "0 2.02171 0.75369               5  \n",
              "1 2.02281 0.75399               6  \n",
              "2 1.99156 0.75879               7  \n",
              "3 2.00829 0.75648               8  \n",
              "4 1.99770 0.75765               9  \n",
              "5 2.00179 0.75730              10  "
            ],
            "text/html": [
              "\n",
              "  <div id=\"df-20f523f0-24ec-477a-86bc-fe9e5cde6a34\">\n",
              "    <div class=\"colab-df-container\">\n",
              "      <div>\n",
              "<style scoped>\n",
              "    .dataframe tbody tr th:only-of-type {\n",
              "        vertical-align: middle;\n",
              "    }\n",
              "\n",
              "    .dataframe tbody tr th {\n",
              "        vertical-align: top;\n",
              "    }\n",
              "\n",
              "    .dataframe thead th {\n",
              "        text-align: right;\n",
              "    }\n",
              "</style>\n",
              "<table border=\"1\" class=\"dataframe\">\n",
              "  <thead>\n",
              "    <tr style=\"text-align: right;\">\n",
              "      <th></th>\n",
              "      <th>model_name</th>\n",
              "      <th>feature_list</th>\n",
              "      <th>RMSE</th>\n",
              "      <th>MAE</th>\n",
              "      <th>R2</th>\n",
              "      <th>num_of_feature</th>\n",
              "    </tr>\n",
              "  </thead>\n",
              "  <tbody>\n",
              "    <tr>\n",
              "      <th>0</th>\n",
              "      <td>model_2</td>\n",
              "      <td>[SW_IN_ERA, hour, VPD_ERA, NIRv, NDVI]</td>\n",
              "      <td>3.62148</td>\n",
              "      <td>2.02171</td>\n",
              "      <td>0.75369</td>\n",
              "      <td>5</td>\n",
              "    </tr>\n",
              "    <tr>\n",
              "      <th>1</th>\n",
              "      <td>model2_2</td>\n",
              "      <td>[SW_IN_ERA, hour, VPD_ERA, NIRv, NDVI, EVI]</td>\n",
              "      <td>3.61928</td>\n",
              "      <td>2.02281</td>\n",
              "      <td>0.75399</td>\n",
              "      <td>6</td>\n",
              "    </tr>\n",
              "    <tr>\n",
              "      <th>2</th>\n",
              "      <td>model_3</td>\n",
              "      <td>[SW_IN_ERA, hour, VPD_ERA, NIRv, NDVI, EVI, TA...</td>\n",
              "      <td>3.58379</td>\n",
              "      <td>1.99156</td>\n",
              "      <td>0.75879</td>\n",
              "      <td>7</td>\n",
              "    </tr>\n",
              "    <tr>\n",
              "      <th>3</th>\n",
              "      <td>model_3_2</td>\n",
              "      <td>[SW_IN_ERA, hour, VPD_ERA, NIRv, NDVI, EVI, TA...</td>\n",
              "      <td>3.60095</td>\n",
              "      <td>2.00829</td>\n",
              "      <td>0.75648</td>\n",
              "      <td>8</td>\n",
              "    </tr>\n",
              "    <tr>\n",
              "      <th>4</th>\n",
              "      <td>model_3_3</td>\n",
              "      <td>[SW_IN_ERA, hour, VPD_ERA, NIRv, NDVI, EVI, TA...</td>\n",
              "      <td>3.59224</td>\n",
              "      <td>1.99770</td>\n",
              "      <td>0.75765</td>\n",
              "      <td>9</td>\n",
              "    </tr>\n",
              "    <tr>\n",
              "      <th>5</th>\n",
              "      <td>model_4</td>\n",
              "      <td>[SW_IN_ERA, hour, VPD_ERA, NIRv, NDVI, EVI, TA...</td>\n",
              "      <td>3.59487</td>\n",
              "      <td>2.00179</td>\n",
              "      <td>0.75730</td>\n",
              "      <td>10</td>\n",
              "    </tr>\n",
              "  </tbody>\n",
              "</table>\n",
              "</div>\n",
              "      <button class=\"colab-df-convert\" onclick=\"convertToInteractive('df-20f523f0-24ec-477a-86bc-fe9e5cde6a34')\"\n",
              "              title=\"Convert this dataframe to an interactive table.\"\n",
              "              style=\"display:none;\">\n",
              "        \n",
              "  <svg xmlns=\"http://www.w3.org/2000/svg\" height=\"24px\"viewBox=\"0 0 24 24\"\n",
              "       width=\"24px\">\n",
              "    <path d=\"M0 0h24v24H0V0z\" fill=\"none\"/>\n",
              "    <path d=\"M18.56 5.44l.94 2.06.94-2.06 2.06-.94-2.06-.94-.94-2.06-.94 2.06-2.06.94zm-11 1L8.5 8.5l.94-2.06 2.06-.94-2.06-.94L8.5 2.5l-.94 2.06-2.06.94zm10 10l.94 2.06.94-2.06 2.06-.94-2.06-.94-.94-2.06-.94 2.06-2.06.94z\"/><path d=\"M17.41 7.96l-1.37-1.37c-.4-.4-.92-.59-1.43-.59-.52 0-1.04.2-1.43.59L10.3 9.45l-7.72 7.72c-.78.78-.78 2.05 0 2.83L4 21.41c.39.39.9.59 1.41.59.51 0 1.02-.2 1.41-.59l7.78-7.78 2.81-2.81c.8-.78.8-2.07 0-2.86zM5.41 20L4 18.59l7.72-7.72 1.47 1.35L5.41 20z\"/>\n",
              "  </svg>\n",
              "      </button>\n",
              "      \n",
              "  <style>\n",
              "    .colab-df-container {\n",
              "      display:flex;\n",
              "      flex-wrap:wrap;\n",
              "      gap: 12px;\n",
              "    }\n",
              "\n",
              "    .colab-df-convert {\n",
              "      background-color: #E8F0FE;\n",
              "      border: none;\n",
              "      border-radius: 50%;\n",
              "      cursor: pointer;\n",
              "      display: none;\n",
              "      fill: #1967D2;\n",
              "      height: 32px;\n",
              "      padding: 0 0 0 0;\n",
              "      width: 32px;\n",
              "    }\n",
              "\n",
              "    .colab-df-convert:hover {\n",
              "      background-color: #E2EBFA;\n",
              "      box-shadow: 0px 1px 2px rgba(60, 64, 67, 0.3), 0px 1px 3px 1px rgba(60, 64, 67, 0.15);\n",
              "      fill: #174EA6;\n",
              "    }\n",
              "\n",
              "    [theme=dark] .colab-df-convert {\n",
              "      background-color: #3B4455;\n",
              "      fill: #D2E3FC;\n",
              "    }\n",
              "\n",
              "    [theme=dark] .colab-df-convert:hover {\n",
              "      background-color: #434B5C;\n",
              "      box-shadow: 0px 1px 3px 1px rgba(0, 0, 0, 0.15);\n",
              "      filter: drop-shadow(0px 1px 2px rgba(0, 0, 0, 0.3));\n",
              "      fill: #FFFFFF;\n",
              "    }\n",
              "  </style>\n",
              "\n",
              "      <script>\n",
              "        const buttonEl =\n",
              "          document.querySelector('#df-20f523f0-24ec-477a-86bc-fe9e5cde6a34 button.colab-df-convert');\n",
              "        buttonEl.style.display =\n",
              "          google.colab.kernel.accessAllowed ? 'block' : 'none';\n",
              "\n",
              "        async function convertToInteractive(key) {\n",
              "          const element = document.querySelector('#df-20f523f0-24ec-477a-86bc-fe9e5cde6a34');\n",
              "          const dataTable =\n",
              "            await google.colab.kernel.invokeFunction('convertToInteractive',\n",
              "                                                     [key], {});\n",
              "          if (!dataTable) return;\n",
              "\n",
              "          const docLinkHtml = 'Like what you see? Visit the ' +\n",
              "            '<a target=\"_blank\" href=https://colab.research.google.com/notebooks/data_table.ipynb>data table notebook</a>'\n",
              "            + ' to learn more about interactive tables.';\n",
              "          element.innerHTML = '';\n",
              "          dataTable['output_type'] = 'display_data';\n",
              "          await google.colab.output.renderOutput(dataTable, element);\n",
              "          const docLink = document.createElement('div');\n",
              "          docLink.innerHTML = docLinkHtml;\n",
              "          element.appendChild(docLink);\n",
              "        }\n",
              "      </script>\n",
              "    </div>\n",
              "  </div>\n",
              "  "
            ]
          },
          "metadata": {},
          "execution_count": 61
        }
      ]
    },
    {
      "cell_type": "markdown",
      "source": [
        "# Build model with TOP7 features and store the model to pickle"
      ],
      "metadata": {
        "id": "spngJ7WKGcMQ"
      }
    },
    {
      "cell_type": "code",
      "source": [
        "feature_list = ['SW_IN_ERA', 'hour', 'VPD_ERA', 'NIRv', 'NDVI', 'EVI', 'TA_ERA']"
      ],
      "metadata": {
        "id": "8H6j65ciHPnt"
      },
      "execution_count": 23,
      "outputs": []
    },
    {
      "cell_type": "code",
      "source": [
        "X_train = X_train[feature_list]\n",
        "X_val = X_val[feature_list]\n",
        "\n",
        "model_top7 = RandomForestRegressor(**best_params, random_state=42, n_jobs=-1, verbose=1)\n",
        "model_top7.fit(X_train, y_train)"
      ],
      "metadata": {
        "colab": {
          "base_uri": "https://localhost:8080/",
          "height": 148
        },
        "id": "C69wfKc0Gb3M",
        "outputId": "5ece1c31-51df-4db5-b531-ee0b1d8d4460"
      },
      "execution_count": 25,
      "outputs": [
        {
          "output_type": "stream",
          "name": "stderr",
          "text": [
            "[Parallel(n_jobs=-1)]: Using backend ThreadingBackend with 12 concurrent workers.\n",
            "[Parallel(n_jobs=-1)]: Done  26 tasks      | elapsed:   18.3s\n",
            "[Parallel(n_jobs=-1)]: Done  50 out of  50 | elapsed:   28.9s finished\n"
          ]
        },
        {
          "output_type": "execute_result",
          "data": {
            "text/plain": [
              "RandomForestRegressor(max_depth=10, max_features='sqrt', n_estimators=50,\n",
              "                      n_jobs=-1, random_state=42, verbose=1)"
            ],
            "text/html": [
              "<style>#sk-container-id-1 {color: black;background-color: white;}#sk-container-id-1 pre{padding: 0;}#sk-container-id-1 div.sk-toggleable {background-color: white;}#sk-container-id-1 label.sk-toggleable__label {cursor: pointer;display: block;width: 100%;margin-bottom: 0;padding: 0.3em;box-sizing: border-box;text-align: center;}#sk-container-id-1 label.sk-toggleable__label-arrow:before {content: \"▸\";float: left;margin-right: 0.25em;color: #696969;}#sk-container-id-1 label.sk-toggleable__label-arrow:hover:before {color: black;}#sk-container-id-1 div.sk-estimator:hover label.sk-toggleable__label-arrow:before {color: black;}#sk-container-id-1 div.sk-toggleable__content {max-height: 0;max-width: 0;overflow: hidden;text-align: left;background-color: #f0f8ff;}#sk-container-id-1 div.sk-toggleable__content pre {margin: 0.2em;color: black;border-radius: 0.25em;background-color: #f0f8ff;}#sk-container-id-1 input.sk-toggleable__control:checked~div.sk-toggleable__content {max-height: 200px;max-width: 100%;overflow: auto;}#sk-container-id-1 input.sk-toggleable__control:checked~label.sk-toggleable__label-arrow:before {content: \"▾\";}#sk-container-id-1 div.sk-estimator input.sk-toggleable__control:checked~label.sk-toggleable__label {background-color: #d4ebff;}#sk-container-id-1 div.sk-label input.sk-toggleable__control:checked~label.sk-toggleable__label {background-color: #d4ebff;}#sk-container-id-1 input.sk-hidden--visually {border: 0;clip: rect(1px 1px 1px 1px);clip: rect(1px, 1px, 1px, 1px);height: 1px;margin: -1px;overflow: hidden;padding: 0;position: absolute;width: 1px;}#sk-container-id-1 div.sk-estimator {font-family: monospace;background-color: #f0f8ff;border: 1px dotted black;border-radius: 0.25em;box-sizing: border-box;margin-bottom: 0.5em;}#sk-container-id-1 div.sk-estimator:hover {background-color: #d4ebff;}#sk-container-id-1 div.sk-parallel-item::after {content: \"\";width: 100%;border-bottom: 1px solid gray;flex-grow: 1;}#sk-container-id-1 div.sk-label:hover label.sk-toggleable__label {background-color: #d4ebff;}#sk-container-id-1 div.sk-serial::before {content: \"\";position: absolute;border-left: 1px solid gray;box-sizing: border-box;top: 0;bottom: 0;left: 50%;z-index: 0;}#sk-container-id-1 div.sk-serial {display: flex;flex-direction: column;align-items: center;background-color: white;padding-right: 0.2em;padding-left: 0.2em;position: relative;}#sk-container-id-1 div.sk-item {position: relative;z-index: 1;}#sk-container-id-1 div.sk-parallel {display: flex;align-items: stretch;justify-content: center;background-color: white;position: relative;}#sk-container-id-1 div.sk-item::before, #sk-container-id-1 div.sk-parallel-item::before {content: \"\";position: absolute;border-left: 1px solid gray;box-sizing: border-box;top: 0;bottom: 0;left: 50%;z-index: -1;}#sk-container-id-1 div.sk-parallel-item {display: flex;flex-direction: column;z-index: 1;position: relative;background-color: white;}#sk-container-id-1 div.sk-parallel-item:first-child::after {align-self: flex-end;width: 50%;}#sk-container-id-1 div.sk-parallel-item:last-child::after {align-self: flex-start;width: 50%;}#sk-container-id-1 div.sk-parallel-item:only-child::after {width: 0;}#sk-container-id-1 div.sk-dashed-wrapped {border: 1px dashed gray;margin: 0 0.4em 0.5em 0.4em;box-sizing: border-box;padding-bottom: 0.4em;background-color: white;}#sk-container-id-1 div.sk-label label {font-family: monospace;font-weight: bold;display: inline-block;line-height: 1.2em;}#sk-container-id-1 div.sk-label-container {text-align: center;}#sk-container-id-1 div.sk-container {/* jupyter's `normalize.less` sets `[hidden] { display: none; }` but bootstrap.min.css set `[hidden] { display: none !important; }` so we also need the `!important` here to be able to override the default hidden behavior on the sphinx rendered scikit-learn.org. See: https://github.com/scikit-learn/scikit-learn/issues/21755 */display: inline-block !important;position: relative;}#sk-container-id-1 div.sk-text-repr-fallback {display: none;}</style><div id=\"sk-container-id-1\" class=\"sk-top-container\"><div class=\"sk-text-repr-fallback\"><pre>RandomForestRegressor(max_depth=10, max_features=&#x27;sqrt&#x27;, n_estimators=50,\n",
              "                      n_jobs=-1, random_state=42, verbose=1)</pre><b>In a Jupyter environment, please rerun this cell to show the HTML representation or trust the notebook. <br />On GitHub, the HTML representation is unable to render, please try loading this page with nbviewer.org.</b></div><div class=\"sk-container\" hidden><div class=\"sk-item\"><div class=\"sk-estimator sk-toggleable\"><input class=\"sk-toggleable__control sk-hidden--visually\" id=\"sk-estimator-id-1\" type=\"checkbox\" checked><label for=\"sk-estimator-id-1\" class=\"sk-toggleable__label sk-toggleable__label-arrow\">RandomForestRegressor</label><div class=\"sk-toggleable__content\"><pre>RandomForestRegressor(max_depth=10, max_features=&#x27;sqrt&#x27;, n_estimators=50,\n",
              "                      n_jobs=-1, random_state=42, verbose=1)</pre></div></div></div></div></div>"
            ]
          },
          "metadata": {},
          "execution_count": 25
        }
      ]
    },
    {
      "cell_type": "code",
      "source": [
        "# Predict on val/test sets\n",
        "y_pred_val = model_top7.predict(X_val)\n",
        "\n",
        "# Evaluate predictions - VAL\n",
        "rmse = np.sqrt(mean_squared_error(y_val, y_pred_val))\n",
        "mae = mean_absolute_error(y_val, y_pred_val)\n",
        "r2 = r2_score(y_val, y_pred_val)\n",
        "print(f\"Val RMSE: {rmse}, Val MAE: {mae}, Val R2/NSE: {r2}\")"
      ],
      "metadata": {
        "colab": {
          "base_uri": "https://localhost:8080/"
        },
        "id": "gTb9TJyVHl_d",
        "outputId": "15fcf372-15d8-4785-9763-c622526d5de9"
      },
      "execution_count": 28,
      "outputs": [
        {
          "output_type": "stream",
          "name": "stderr",
          "text": [
            "[Parallel(n_jobs=12)]: Using backend ThreadingBackend with 12 concurrent workers.\n",
            "[Parallel(n_jobs=12)]: Done  26 tasks      | elapsed:    0.2s\n"
          ]
        },
        {
          "output_type": "stream",
          "name": "stdout",
          "text": [
            "Val RMSE: 3.5837865520363006, Val MAE: 1.9915562279762076, Val R2/NSE: 0.7587916706097189\n"
          ]
        },
        {
          "output_type": "stream",
          "name": "stderr",
          "text": [
            "[Parallel(n_jobs=12)]: Done  50 out of  50 | elapsed:    0.3s finished\n"
          ]
        }
      ]
    },
    {
      "cell_type": "code",
      "source": [
        "model_objects_dir"
      ],
      "metadata": {
        "colab": {
          "base_uri": "https://localhost:8080/",
          "height": 36
        },
        "id": "tenIh8zKIWMx",
        "outputId": "392d139d-102d-429a-a25e-5d3efc8ae3ac"
      },
      "execution_count": 32,
      "outputs": [
        {
          "output_type": "execute_result",
          "data": {
            "text/plain": [
              "'/content/drive/MyDrive/TFT_baseline/code/src/modeling/model_objects'"
            ],
            "application/vnd.google.colaboratory.intrinsic+json": {
              "type": "string"
            }
          },
          "metadata": {},
          "execution_count": 32
        }
      ]
    },
    {
      "cell_type": "code",
      "source": [
        "import pickle\n",
        "import joblib\n",
        "\n",
        "# Save model object\n",
        "model_save_path_pkl = os.path.join(model_objects_dir, 'rfr_mvp_v3_top7_features.pkl')\n",
        "model_save_path_jl = os.path.join(model_objects_dir, 'rfr_mvp_v3_top7_features.joblib')\n",
        "pickle.dump(model_top7, open(model_save_path_pkl, \"wb\"))\n",
        "\n",
        "if not os.path.exists(model_save_path_jl):\n",
        "    print(\"Saving model in .joblib format\")\n",
        "    joblib.dump(model_top7, model_save_path_jl)"
      ],
      "metadata": {
        "id": "54d78ueNGbw9"
      },
      "execution_count": 43,
      "outputs": []
    },
    {
      "cell_type": "code",
      "source": [
        "# Re-load saved model\n",
        "try:\n",
        "    model_pkl = joblib.load(model_save_path_pkl)\n",
        "    model_jl = joblib.load(model_save_path_jl)\n",
        "    print(\"Loaded both model objects\")\n",
        "except:\n",
        "    print(\"unable to load models, make sure object paths are correct and conda env in use\")"
      ],
      "metadata": {
        "colab": {
          "base_uri": "https://localhost:8080/"
        },
        "id": "DoJn7rKUHrjZ",
        "outputId": "52d2d3d3-e592-421b-d0bd-e4952082c906"
      },
      "execution_count": 44,
      "outputs": [
        {
          "output_type": "stream",
          "name": "stdout",
          "text": [
            "Loaded both model objects\n"
          ]
        }
      ]
    },
    {
      "cell_type": "code",
      "source": [
        "y_pred_val_trial = model_pkl.predict(X_val)\n",
        "y_pred_val_trial"
      ],
      "metadata": {
        "colab": {
          "base_uri": "https://localhost:8080/"
        },
        "id": "KkqHgequKeUp",
        "outputId": "25f5262f-cbe3-4779-8c28-8fe35b0d1f22"
      },
      "execution_count": 45,
      "outputs": [
        {
          "output_type": "stream",
          "name": "stderr",
          "text": [
            "[Parallel(n_jobs=12)]: Using backend ThreadingBackend with 12 concurrent workers.\n",
            "[Parallel(n_jobs=12)]: Done  26 tasks      | elapsed:    0.3s\n",
            "[Parallel(n_jobs=12)]: Done  50 out of  50 | elapsed:    0.4s finished\n"
          ]
        },
        {
          "output_type": "execute_result",
          "data": {
            "text/plain": [
              "array([-0.09666841, -0.06275384, -0.0656414 , ...,  1.59418392,\n",
              "        1.59418392,  1.59418392])"
            ]
          },
          "metadata": {},
          "execution_count": 45
        }
      ]
    },
    {
      "cell_type": "markdown",
      "metadata": {
        "id": "kksR8zwmamyQ"
      },
      "source": [
        "## Get performance by IGBP type"
      ]
    },
    {
      "cell_type": "code",
      "execution_count": 40,
      "metadata": {
        "tags": [],
        "id": "tYMikpRjamyQ"
      },
      "outputs": [],
      "source": [
        "# # Get categorical feature back from dummies\n",
        "# igbp_cols = [x for x in test_df.columns if 'IGBP_' in x]\n",
        "# test_df['MODIS_IGBP'] = test_df[igbp_cols].idxmax(axis=1)\n",
        "# test_df['MODIS_IGBP'] = test_df['MODIS_IGBP'].apply(lambda x: x.split(\"_\")[-1])\n",
        "\n",
        "# # Subset df\n",
        "# test_trim = test_df[['MODIS_IGBP', 'GPP_NT_VUT_REF']].copy()\n",
        "# test_trim['y_pred'] = y_pred_test\n",
        "\n",
        "# # Get metrics by group\n",
        "# igbp_group_metrics = {}\n",
        "# groups = test_df['MODIS_IGBP'].unique()\n",
        "# for group in groups:\n",
        "#     test_group = test_trim.loc[test_trim['MODIS_IGBP']==group, ].copy()\n",
        "    \n",
        "#     # Get metrics\n",
        "#     rmse = np.sqrt(mean_squared_error(test_group['GPP_NT_VUT_REF'], test_group['y_pred']))\n",
        "#     mae = mean_absolute_error(test_group['GPP_NT_VUT_REF'], test_group['y_pred'])\n",
        "#     r2 = r2_score(test_group['GPP_NT_VUT_REF'], test_group['y_pred'])\n",
        "    \n",
        "#     # Save to dict\n",
        "#     igbp_group_metrics[group] = {'RMSE': round(rmse, 2), 'MAE': round(mae, 2), 'R2': round(r2, 2)}\n",
        "    \n",
        "# igbp_metric_df = pd.DataFrame.from_dict(igbp_group_metrics, orient='index')\n",
        "# igbp_metric_df = igbp_metric_df.reset_index().rename(columns={'index': 'MODIS_IGBP'})\n",
        "# igbp_metric_df"
      ]
    },
    {
      "cell_type": "code",
      "execution_count": 41,
      "metadata": {
        "tags": [],
        "id": "3Dx10GuJamyQ"
      },
      "outputs": [],
      "source": [
        "# # compute the percentage of the dataset represented by each group\n",
        "# group_sizes = test_trim.groupby('MODIS_IGBP').size()\n",
        "# percentages = group_sizes / len(test_trim) * 100\n",
        "# group_stats = test_trim.groupby('MODIS_IGBP')['GPP_NT_VUT_REF'].agg(['mean', 'var'])\n",
        "# group_stats.columns = ['mean_GPP', 'var_GPP']\n",
        "# group_stats['percent_dataset'] = percentages\n",
        "# group_stats = group_stats.reset_index()\n",
        "\n",
        "# merged_df = pd.merge(group_stats, igbp_metric_df, on='MODIS_IGBP')\n",
        "# merged_df.sort_values('R2', ascending=False, inplace=True)\n",
        "# merged_df"
      ]
    }
  ],
  "metadata": {
    "availableInstances": [
      {
        "_defaultOrder": 0,
        "_isFastLaunch": true,
        "category": "General purpose",
        "gpuNum": 0,
        "memoryGiB": 4,
        "name": "ml.t3.medium",
        "vcpuNum": 2
      },
      {
        "_defaultOrder": 1,
        "_isFastLaunch": false,
        "category": "General purpose",
        "gpuNum": 0,
        "memoryGiB": 8,
        "name": "ml.t3.large",
        "vcpuNum": 2
      },
      {
        "_defaultOrder": 2,
        "_isFastLaunch": false,
        "category": "General purpose",
        "gpuNum": 0,
        "memoryGiB": 16,
        "name": "ml.t3.xlarge",
        "vcpuNum": 4
      },
      {
        "_defaultOrder": 3,
        "_isFastLaunch": false,
        "category": "General purpose",
        "gpuNum": 0,
        "memoryGiB": 32,
        "name": "ml.t3.2xlarge",
        "vcpuNum": 8
      },
      {
        "_defaultOrder": 4,
        "_isFastLaunch": true,
        "category": "General purpose",
        "gpuNum": 0,
        "memoryGiB": 8,
        "name": "ml.m5.large",
        "vcpuNum": 2
      },
      {
        "_defaultOrder": 5,
        "_isFastLaunch": false,
        "category": "General purpose",
        "gpuNum": 0,
        "memoryGiB": 16,
        "name": "ml.m5.xlarge",
        "vcpuNum": 4
      },
      {
        "_defaultOrder": 6,
        "_isFastLaunch": false,
        "category": "General purpose",
        "gpuNum": 0,
        "memoryGiB": 32,
        "name": "ml.m5.2xlarge",
        "vcpuNum": 8
      },
      {
        "_defaultOrder": 7,
        "_isFastLaunch": false,
        "category": "General purpose",
        "gpuNum": 0,
        "memoryGiB": 64,
        "name": "ml.m5.4xlarge",
        "vcpuNum": 16
      },
      {
        "_defaultOrder": 8,
        "_isFastLaunch": false,
        "category": "General purpose",
        "gpuNum": 0,
        "memoryGiB": 128,
        "name": "ml.m5.8xlarge",
        "vcpuNum": 32
      },
      {
        "_defaultOrder": 9,
        "_isFastLaunch": false,
        "category": "General purpose",
        "gpuNum": 0,
        "memoryGiB": 192,
        "name": "ml.m5.12xlarge",
        "vcpuNum": 48
      },
      {
        "_defaultOrder": 10,
        "_isFastLaunch": false,
        "category": "General purpose",
        "gpuNum": 0,
        "memoryGiB": 256,
        "name": "ml.m5.16xlarge",
        "vcpuNum": 64
      },
      {
        "_defaultOrder": 11,
        "_isFastLaunch": false,
        "category": "General purpose",
        "gpuNum": 0,
        "memoryGiB": 384,
        "name": "ml.m5.24xlarge",
        "vcpuNum": 96
      },
      {
        "_defaultOrder": 12,
        "_isFastLaunch": false,
        "category": "General purpose",
        "gpuNum": 0,
        "memoryGiB": 8,
        "name": "ml.m5d.large",
        "vcpuNum": 2
      },
      {
        "_defaultOrder": 13,
        "_isFastLaunch": false,
        "category": "General purpose",
        "gpuNum": 0,
        "memoryGiB": 16,
        "name": "ml.m5d.xlarge",
        "vcpuNum": 4
      },
      {
        "_defaultOrder": 14,
        "_isFastLaunch": false,
        "category": "General purpose",
        "gpuNum": 0,
        "memoryGiB": 32,
        "name": "ml.m5d.2xlarge",
        "vcpuNum": 8
      },
      {
        "_defaultOrder": 15,
        "_isFastLaunch": false,
        "category": "General purpose",
        "gpuNum": 0,
        "memoryGiB": 64,
        "name": "ml.m5d.4xlarge",
        "vcpuNum": 16
      },
      {
        "_defaultOrder": 16,
        "_isFastLaunch": false,
        "category": "General purpose",
        "gpuNum": 0,
        "memoryGiB": 128,
        "name": "ml.m5d.8xlarge",
        "vcpuNum": 32
      },
      {
        "_defaultOrder": 17,
        "_isFastLaunch": false,
        "category": "General purpose",
        "gpuNum": 0,
        "memoryGiB": 192,
        "name": "ml.m5d.12xlarge",
        "vcpuNum": 48
      },
      {
        "_defaultOrder": 18,
        "_isFastLaunch": false,
        "category": "General purpose",
        "gpuNum": 0,
        "memoryGiB": 256,
        "name": "ml.m5d.16xlarge",
        "vcpuNum": 64
      },
      {
        "_defaultOrder": 19,
        "_isFastLaunch": false,
        "category": "General purpose",
        "gpuNum": 0,
        "memoryGiB": 384,
        "name": "ml.m5d.24xlarge",
        "vcpuNum": 96
      },
      {
        "_defaultOrder": 20,
        "_isFastLaunch": true,
        "category": "Compute optimized",
        "gpuNum": 0,
        "memoryGiB": 4,
        "name": "ml.c5.large",
        "vcpuNum": 2
      },
      {
        "_defaultOrder": 21,
        "_isFastLaunch": false,
        "category": "Compute optimized",
        "gpuNum": 0,
        "memoryGiB": 8,
        "name": "ml.c5.xlarge",
        "vcpuNum": 4
      },
      {
        "_defaultOrder": 22,
        "_isFastLaunch": false,
        "category": "Compute optimized",
        "gpuNum": 0,
        "memoryGiB": 16,
        "name": "ml.c5.2xlarge",
        "vcpuNum": 8
      },
      {
        "_defaultOrder": 23,
        "_isFastLaunch": false,
        "category": "Compute optimized",
        "gpuNum": 0,
        "memoryGiB": 32,
        "name": "ml.c5.4xlarge",
        "vcpuNum": 16
      },
      {
        "_defaultOrder": 24,
        "_isFastLaunch": false,
        "category": "Compute optimized",
        "gpuNum": 0,
        "memoryGiB": 72,
        "name": "ml.c5.9xlarge",
        "vcpuNum": 36
      },
      {
        "_defaultOrder": 25,
        "_isFastLaunch": false,
        "category": "Compute optimized",
        "gpuNum": 0,
        "memoryGiB": 96,
        "name": "ml.c5.12xlarge",
        "vcpuNum": 48
      },
      {
        "_defaultOrder": 26,
        "_isFastLaunch": false,
        "category": "Compute optimized",
        "gpuNum": 0,
        "memoryGiB": 144,
        "name": "ml.c5.18xlarge",
        "vcpuNum": 72
      },
      {
        "_defaultOrder": 27,
        "_isFastLaunch": false,
        "category": "Compute optimized",
        "gpuNum": 0,
        "memoryGiB": 192,
        "name": "ml.c5.24xlarge",
        "vcpuNum": 96
      },
      {
        "_defaultOrder": 28,
        "_isFastLaunch": true,
        "category": "Accelerated computing",
        "gpuNum": 1,
        "memoryGiB": 16,
        "name": "ml.g4dn.xlarge",
        "vcpuNum": 4
      },
      {
        "_defaultOrder": 29,
        "_isFastLaunch": false,
        "category": "Accelerated computing",
        "gpuNum": 1,
        "memoryGiB": 32,
        "name": "ml.g4dn.2xlarge",
        "vcpuNum": 8
      },
      {
        "_defaultOrder": 30,
        "_isFastLaunch": false,
        "category": "Accelerated computing",
        "gpuNum": 1,
        "memoryGiB": 64,
        "name": "ml.g4dn.4xlarge",
        "vcpuNum": 16
      },
      {
        "_defaultOrder": 31,
        "_isFastLaunch": false,
        "category": "Accelerated computing",
        "gpuNum": 1,
        "memoryGiB": 128,
        "name": "ml.g4dn.8xlarge",
        "vcpuNum": 32
      },
      {
        "_defaultOrder": 32,
        "_isFastLaunch": false,
        "category": "Accelerated computing",
        "gpuNum": 4,
        "memoryGiB": 192,
        "name": "ml.g4dn.12xlarge",
        "vcpuNum": 48
      },
      {
        "_defaultOrder": 33,
        "_isFastLaunch": false,
        "category": "Accelerated computing",
        "gpuNum": 1,
        "memoryGiB": 256,
        "name": "ml.g4dn.16xlarge",
        "vcpuNum": 64
      },
      {
        "_defaultOrder": 34,
        "_isFastLaunch": false,
        "category": "Accelerated computing",
        "gpuNum": 1,
        "memoryGiB": 61,
        "name": "ml.p3.2xlarge",
        "vcpuNum": 8
      },
      {
        "_defaultOrder": 35,
        "_isFastLaunch": false,
        "category": "Accelerated computing",
        "gpuNum": 4,
        "memoryGiB": 244,
        "name": "ml.p3.8xlarge",
        "vcpuNum": 32
      },
      {
        "_defaultOrder": 36,
        "_isFastLaunch": false,
        "category": "Accelerated computing",
        "gpuNum": 8,
        "memoryGiB": 488,
        "name": "ml.p3.16xlarge",
        "vcpuNum": 64
      },
      {
        "_defaultOrder": 37,
        "_isFastLaunch": false,
        "category": "Accelerated computing",
        "gpuNum": 8,
        "memoryGiB": 768,
        "name": "ml.p3dn.24xlarge",
        "vcpuNum": 96
      },
      {
        "_defaultOrder": 38,
        "_isFastLaunch": false,
        "category": "Memory Optimized",
        "gpuNum": 0,
        "memoryGiB": 16,
        "name": "ml.r5.large",
        "vcpuNum": 2
      },
      {
        "_defaultOrder": 39,
        "_isFastLaunch": false,
        "category": "Memory Optimized",
        "gpuNum": 0,
        "memoryGiB": 32,
        "name": "ml.r5.xlarge",
        "vcpuNum": 4
      },
      {
        "_defaultOrder": 40,
        "_isFastLaunch": false,
        "category": "Memory Optimized",
        "gpuNum": 0,
        "memoryGiB": 64,
        "name": "ml.r5.2xlarge",
        "vcpuNum": 8
      },
      {
        "_defaultOrder": 41,
        "_isFastLaunch": false,
        "category": "Memory Optimized",
        "gpuNum": 0,
        "memoryGiB": 128,
        "name": "ml.r5.4xlarge",
        "vcpuNum": 16
      },
      {
        "_defaultOrder": 42,
        "_isFastLaunch": false,
        "category": "Memory Optimized",
        "gpuNum": 0,
        "memoryGiB": 256,
        "name": "ml.r5.8xlarge",
        "vcpuNum": 32
      },
      {
        "_defaultOrder": 43,
        "_isFastLaunch": false,
        "category": "Memory Optimized",
        "gpuNum": 0,
        "memoryGiB": 384,
        "name": "ml.r5.12xlarge",
        "vcpuNum": 48
      },
      {
        "_defaultOrder": 44,
        "_isFastLaunch": false,
        "category": "Memory Optimized",
        "gpuNum": 0,
        "memoryGiB": 512,
        "name": "ml.r5.16xlarge",
        "vcpuNum": 64
      },
      {
        "_defaultOrder": 45,
        "_isFastLaunch": false,
        "category": "Memory Optimized",
        "gpuNum": 0,
        "memoryGiB": 768,
        "name": "ml.r5.24xlarge",
        "vcpuNum": 96
      },
      {
        "_defaultOrder": 46,
        "_isFastLaunch": false,
        "category": "Accelerated computing",
        "gpuNum": 1,
        "memoryGiB": 16,
        "name": "ml.g5.xlarge",
        "vcpuNum": 4
      },
      {
        "_defaultOrder": 47,
        "_isFastLaunch": false,
        "category": "Accelerated computing",
        "gpuNum": 1,
        "memoryGiB": 32,
        "name": "ml.g5.2xlarge",
        "vcpuNum": 8
      },
      {
        "_defaultOrder": 48,
        "_isFastLaunch": false,
        "category": "Accelerated computing",
        "gpuNum": 1,
        "memoryGiB": 64,
        "name": "ml.g5.4xlarge",
        "vcpuNum": 16
      },
      {
        "_defaultOrder": 49,
        "_isFastLaunch": false,
        "category": "Accelerated computing",
        "gpuNum": 1,
        "memoryGiB": 128,
        "name": "ml.g5.8xlarge",
        "vcpuNum": 32
      },
      {
        "_defaultOrder": 50,
        "_isFastLaunch": false,
        "category": "Accelerated computing",
        "gpuNum": 1,
        "memoryGiB": 256,
        "name": "ml.g5.16xlarge",
        "vcpuNum": 64
      },
      {
        "_defaultOrder": 51,
        "_isFastLaunch": false,
        "category": "Accelerated computing",
        "gpuNum": 4,
        "memoryGiB": 192,
        "name": "ml.g5.12xlarge",
        "vcpuNum": 48
      },
      {
        "_defaultOrder": 52,
        "_isFastLaunch": false,
        "category": "Accelerated computing",
        "gpuNum": 4,
        "memoryGiB": 384,
        "name": "ml.g5.24xlarge",
        "vcpuNum": 96
      },
      {
        "_defaultOrder": 53,
        "_isFastLaunch": false,
        "category": "Accelerated computing",
        "gpuNum": 8,
        "memoryGiB": 768,
        "name": "ml.g5.48xlarge",
        "vcpuNum": 192
      }
    ],
    "colab": {
      "provenance": [],
      "toc_visible": true,
      "machine_shape": "hm",
      "collapsed_sections": [
        "fIuu0NalUcht"
      ]
    },
    "instance_type": "ml.m5.2xlarge",
    "kernelspec": {
      "display_name": "Python [conda env:py310] (arn:aws:sagemaker:us-east-1:081325390199:image/datascience-1.0)",
      "language": "python",
      "name": "conda-env-py310-py__SAGEMAKER_INTERNAL__arn:aws:sagemaker:us-east-1:081325390199:image/datascience-1.0"
    },
    "language_info": {
      "codemirror_mode": {
        "name": "ipython",
        "version": 3
      },
      "file_extension": ".py",
      "mimetype": "text/x-python",
      "name": "python",
      "nbconvert_exporter": "python",
      "pygments_lexer": "ipython3",
      "version": "3.10.9"
    },
    "gpuClass": "premium",
    "accelerator": "GPU"
  },
  "nbformat": 4,
  "nbformat_minor": 0
}