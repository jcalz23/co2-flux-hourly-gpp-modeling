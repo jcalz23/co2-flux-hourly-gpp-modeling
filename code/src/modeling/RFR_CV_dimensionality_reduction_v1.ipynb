{
  "cells": [
    {
      "cell_type": "code",
      "source": [
        "from google.colab import drive\n",
        "drive.mount('/content/drive')"
      ],
      "metadata": {
        "id": "uFP4auo0a4R8"
      },
      "execution_count": null,
      "outputs": []
    },
    {
      "cell_type": "markdown",
      "metadata": {
        "id": "XaXGMTqJr71d"
      },
      "source": [
        "# Notebook Setup"
      ]
    },
    {
      "cell_type": "code",
      "source": [
        "if 'google.colab' in str(get_ipython()):\n",
        "    IN_COLLAB = True\n",
        "else:\n",
        "    IN_COLLAB = False\n",
        "\n",
        "if IN_COLLAB:\n",
        "    #TODO: CHANGE THIS BASED ON YOUR OWN LOCAL SETTINGS\n",
        "    # MY_HOME_ABS_PATH = \"/content/drive/MyDrive/W210/co2-flux-hourly-gpp-modeling\"\n",
        "    MY_HOME_ABS_PATH = \"/content/drive/MyDrive/TFT_baseline\"\n",
        "    from google.colab import drive\n",
        "    drive.mount('/content/drive/')\n",
        "else:\n",
        "    # MY_HOME_ABS_PATH = \"/root/co2-flux-hourly-gpp-modeling/\"\n",
        "    MY_HOME_ABS_PATH = \"/home/ec2-user/SageMaker/root/co2-flux-hourly-gpp-modeling\""
      ],
      "metadata": {
        "id": "CDKm-L00cbfQ"
      },
      "execution_count": null,
      "outputs": []
    },
    {
      "cell_type": "code",
      "execution_count": null,
      "metadata": {
        "tags": [],
        "id": "KaBFcdIwamyE"
      },
      "outputs": [],
      "source": [
        "#TODO: CHANGE THIS BASED ON YOUR OWN LOCAL SETTINGS\n",
        "#MY_HOME_ABS_PATH = \"/Users/jetcalz07/Desktop/MIDS/W210_Capstone/co2-flux-hourly-gpp-modeling\"\n",
        "# MY_HOME_ABS_PATH = \"/root/co2-flux-hourly-gpp-modeling\"\n",
        "MY_HOME_ABS_PATH =  \"/content/drive/MyDrive/TFT_baseline\""
      ]
    },
    {
      "cell_type": "markdown",
      "metadata": {
        "id": "y2bHb6TEy3_D"
      },
      "source": [
        "## Import Modules"
      ]
    },
    {
      "cell_type": "code",
      "source": [
        "!pip install azure.storage.blob "
      ],
      "metadata": {
        "id": "eSrZ4-MmbM6f"
      },
      "execution_count": null,
      "outputs": []
    },
    {
      "cell_type": "code",
      "source": [
        "!pip install pytorch_lightning \n"
      ],
      "metadata": {
        "id": "1FdqnNwZbM3M"
      },
      "execution_count": null,
      "outputs": []
    },
    {
      "cell_type": "code",
      "source": [
        "!pip install pytorch_forecasting\n"
      ],
      "metadata": {
        "id": "NKLebkmpbpB-"
      },
      "execution_count": null,
      "outputs": []
    },
    {
      "cell_type": "code",
      "source": [
        "from azure.storage.blob import BlobServiceClient\n",
        "from collections import defaultdict\n",
        "from io import BytesIO\n",
        "import os.path\n",
        "import json\n",
        "\n",
        "class AzStorageClient:\n",
        "    def __init__(self, cred_file):\n",
        "        self.blob_svc_client = None\n",
        "        self.container_client_list = defaultdict(str)\n",
        "        if os.path.exists(cred_file):\n",
        "            connect_str = \"\"\n",
        "            with open(cred_file, \"rb\") as f:\n",
        "                data = json.load(f)\n",
        "                connect_str = data['connectionstr']\n",
        "                self.blob_svc_client = BlobServiceClient.from_connection_string(connect_str)\n",
        "                tokens = connect_str.split(';')\n",
        "                for t in tokens:\n",
        "                  if \"AccountName=\" in t:\n",
        "                    self.AccountName = t[len(\"AccountName=\"):]\n",
        "                  elif \"AccountKey=\" in t:\n",
        "                    self.AccountKey = t[len(\"AccountKey=\"):]\n",
        "        else:\n",
        "            print(\"ERROR: {cred_file} not found\")\n",
        "    \n",
        "    def getSparkSessionKeys(self):\n",
        "      return [f'fs.azure.account.key.{self.AccountName}.blob.core.windows.net',  self.AccountKey, self.AccountName]\n",
        "\n",
        "    def createContainer(self, container_name):\n",
        "        if self.blob_svc_client:\n",
        "            self.blob_svc_client.create_container(container_name)\n",
        "            print(f\"Container '{container_name}' created.\")\n",
        "        else:\n",
        "            print(\"ERROR: Azure Storage Blob Client does not exist.\")\n",
        "\n",
        "    def listBlobs(self, container_name):\n",
        "        if self.blob_svc_client:\n",
        "            if not self.container_client_list[container_name]:\n",
        "                self.container_client_list[container_name] = self.blob_svc_client.get_container_client(container= container_name)\n",
        "            blob_list = self.container_client_list[container_name].list_blobs()\n",
        "            return blob_list\n",
        "        else:\n",
        "            print(\"ERROR: Azure Storage Blob Client does not exist.\")\n",
        "\n",
        "    def uploadBlob(self, container_name, blob_name, data, overwrite=False, verbose=True):\n",
        "        if self.blob_svc_client:\n",
        "            blob_cleint = self.blob_svc_client.get_blob_client(container=container_name, blob=blob_name)\n",
        "            blob_cleint.upload_blob(data, overwrite=overwrite)\n",
        "            if verbose:\n",
        "                print(f'File uploaded to {container_name}/{blob_name}')\n",
        "        else:\n",
        "            print(\"ERROR: Azure Storage Blob Client does not exist.\")\n",
        "    \n",
        "    def downloadBlob(self, container_name, blob_name):\n",
        "        if self.blob_svc_client:\n",
        "            if not self.container_client_list[container_name]:\n",
        "                self.container_client_list[container_name] = self.blob_svc_client.get_container_client(container= container_name)\n",
        "            \n",
        "            return self.container_client_list[container_name].download_blob(blob_name).readall()\n",
        "        else:\n",
        "            print(\"ERROR: Azure Storage Blob Client does not exist.\")\n",
        "    \n",
        "    def downloadBlob2Stream(self, container_name, blob_name):\n",
        "        if self.blob_svc_client:\n",
        "            if not self.container_client_list[container_name]:\n",
        "                self.container_client_list[container_name] = self.blob_svc_client.get_container_client(container= container_name)\n",
        "            \n",
        "            stream = BytesIO()\n",
        "            self.container_client_list[container_name].download_blob(blob_name).readinto(stream)\n",
        "            return stream\n",
        "        else:\n",
        "            print(\"ERROR: Azure Storage Blob Client does not exist.\")\n",
        "    \n",
        "    def deleteBlob(self, container_name, blob_name, verbose=True):\n",
        "        if self.blob_svc_client:\n",
        "            blob_client = self.blob_svc_client.get_blob_client(container=container_name, blob=blob_name)\n",
        "            blob_client.delete_blob()\n",
        "            if verbose:\n",
        "                print(f'{container_name}/{blob_name} deleted')\n",
        "        else:\n",
        "            print(\"ERROR: Azure Storage Blob Client does not exist.\")\n",
        "    "
      ],
      "metadata": {
        "id": "eKthP2bscHFb"
      },
      "execution_count": null,
      "outputs": []
    },
    {
      "cell_type": "code",
      "source": [
        "import os\n",
        "import sys\n",
        "import random\n",
        "import pandas as pd\n",
        "import numpy as np\n",
        "\n",
        "from datetime import datetime \n",
        "from io import BytesIO\n",
        "from tqdm import tqdm\n",
        "from sklearn.impute import KNNImputer\n",
        "from sklearn.preprocessing import LabelEncoder, StandardScaler\n",
        "\n",
        "# if (\"UseSpark\" in os.environ) or (os.environ.get('UseSpark') == \"true\"):\n",
        "#   from pyspark.ml.feature import StringIndexer, OneHotEncoder, VectorAssembler, MinMaxScaler\n",
        "#   from pyspark.sql.functions import col\n",
        "\n",
        "from IPython.display import display\n",
        "# from CloudIO.AzStorageClient import AzStorageClient\n",
        "# import AzStorageClient\n",
        "\n",
        "def get_min_max(df):\n",
        "  return (df.min(), df.max())\n",
        "\n",
        "def get_min_max_datetime(df):\n",
        "  return (pd.to_datetime(df).min(), pd.to_datetime(df).max())\n",
        "\n",
        "def is_leap_year(year):\n",
        "  return year%4 == 0 ;\n",
        "\n",
        "def data_cleanup(data_dir, site_id_file_df, target, target_qc, features):\n",
        "  data_df = None\n",
        "  # qc_flag_dtype = CategoricalDtype([0, 1, 2, 3], ordered=True)\n",
        "  qc_flags_features = [s for s in features if \"_QC\" in s]\n",
        "\n",
        "  # Iterate through each site:\n",
        "  for i, r in site_id_file_df.iterrows():        \n",
        "    if not r.filename or type(r.filename) != type(\"\"):\n",
        "      print(f'\\nERROR: {r.site_id} is mssing hourly data.')\n",
        "      continue\n",
        "\n",
        "    # Get only `features` from file\n",
        "    local_filename = data_dir + os.sep + r.filename\n",
        "    site_df = pd.read_csv(local_filename, usecols = [target, target_qc] + features)\n",
        "    site_df['datetime'] = pd.to_datetime(site_df['datetime'])\n",
        "    site_df['date'] = pd.to_datetime(site_df['date'])\n",
        "    site_df['minute'] = site_df['datetime'].dt.minute\n",
        "    if len(qc_flags_features) != 0:\n",
        "      site_df[qc_flags_features] = site_df[qc_flags_features].astype('int')\n",
        "    site_df['site_id'] = r.site_id\n",
        "\n",
        "    # Add time index columns\n",
        "    site_df = add_time_index(site_df, 'datetime', '30T')\n",
        "\n",
        "    # Remove zero or negative SW\n",
        "    site_df.drop(site_df[site_df['SW_IN_ERA'] <= 0].index, inplace = True)\n",
        "\n",
        "    # Drop rows with NAs for Target Variable\n",
        "    site_df.dropna(subset=[target], axis=0, inplace=True)\n",
        "\n",
        "    # Drop rows with bad NEE_VUT_REF_QC (aka bad GPP records)\n",
        "    site_df.drop(site_df[site_df[target_qc] == 3].index, inplace = True)\n",
        "    site_df.drop([target_qc], axis=1, inplace=True)\n",
        "\n",
        "    # Drop rows with any NA\n",
        "    site_df.dropna(axis=0, inplace=True)\n",
        "\n",
        "    print(f\"{r.site_id}: {site_df.shape}\")\n",
        "    if type(data_df) == type(None):\n",
        "      data_df = site_df\n",
        "    else:\n",
        "      data_df = pd.concat([data_df, site_df])\n",
        "          \n",
        "  return data_df\n",
        "\n",
        "def merge_site_metadata(data_df, site_metadata_df):\n",
        "  data_df = data_df.merge(site_metadata_df, how='left', left_on='site_id', right_on='site_id')\n",
        "  return data_df\n",
        "\n",
        "def check_and_drop_na(data_df):\n",
        "  if data_df.isna().sum().sum() > 0:\n",
        "    print(\"Data has NA.\")\n",
        "    display(pd.DataFrame(data_df.isna().sum()).T)\n",
        "    data_df.dropna(axis=0, inplace=True)\n",
        "  else:\n",
        "    print(\"Datas has no NA.\")\n",
        "\n",
        "def add_time_index(data_df, time_col, duration):\n",
        "  resampled_df = data_df.sort_values(by=[time_col])\n",
        "  resampled_df.set_index(time_col, inplace=True)\n",
        "  resampled_df = resampled_df.resample(duration).mean()\n",
        "  resampled_df = resampled_df.reset_index()\n",
        "  resampled_df.index.name='timestep_idx'\n",
        "  resampled_df = resampled_df.reset_index()\n",
        "  data_df = data_df.merge(resampled_df[[time_col, 'timestep_idx']], how='left', on='datetime')\n",
        "  return data_df\n",
        "\n",
        "\n",
        "class PrepareMonthlyData:\n",
        "    def __init__(self, included_features, monthly_data_input_fname, data_dir):\n",
        "        self.included_features =included_features\n",
        "        self.data_dir = data_dir\n",
        "        self.monthly_data_input_fname = monthly_data_input_fname\n",
        "        self.month_df = pd.read_csv(self.monthly_data_input_fname, usecols=self.included_features)\n",
        "        self.month_df['date'] = pd.to_datetime(self.month_df['TIMESTAMP'],  format=\"%Y%m\")\n",
        "\n",
        "\n",
        "    def to_datetime(self, row):\n",
        "        return pd.to_datetime(f'{row.year}{row.month:02}', format='%Y%m')\n",
        "\n",
        "\n",
        "    def knn_impute(self, df, knn_imp_cols, k, weights):\n",
        "        # Fit and transform the data using KNNImputer, format as DF\n",
        "        inds = df.index.copy()\n",
        "        df_subcols = df[knn_imp_cols].copy()\n",
        "        df_subcols = df_subcols.dropna(axis=1, how='all')\n",
        "\n",
        "        # Execute imputation\n",
        "        imputer = KNNImputer(n_neighbors=k, weights=weights)\n",
        "        imputed_group = imputer.fit_transform(df_subcols)\n",
        "        imputed_group = pd.DataFrame(imputed_group, columns=df_subcols.columns, index=inds)\n",
        "\n",
        "        # Fill NA in initial site/group df\n",
        "        df.fillna(imputed_group, inplace=True)\n",
        "\n",
        "        return df\n",
        "\n",
        "\n",
        "    def impute(self, impute_method, resample_monthly, knn_imp_cols=None, k=None, weights=None, c=-1):\n",
        "        # Resample to fill in missing month gaps, and interpolate values at site-level\n",
        "        monthly_df = None\n",
        "\n",
        "        # Subset month_df to only sites with hourly records available\n",
        "        available_sites = [x[-10:-4] for x in os.listdir(self.data_dir)]\n",
        "        init_sites = len(self.month_df['SITE_ID'].unique())\n",
        "        self.month_df = self.month_df.loc[self.month_df['SITE_ID'].isin(available_sites)]\n",
        "        print(f\"# sites dropped bc not available in data_dir: {init_sites - len(self.month_df['SITE_ID'].unique())}\")\n",
        "        \n",
        "        # Loop through hourly site data to determine which months are present\n",
        "        for i, s in tqdm(enumerate(self.month_df['SITE_ID'].unique())):\n",
        "            # Get monthly data for site\n",
        "            site_month = self.month_df[self.month_df['SITE_ID'] == s].copy()\n",
        "            site_month.reset_index(drop = True, inplace=True)\n",
        "            site_month['gap_flag_month'] = int(0)\n",
        "\n",
        "            if resample_monthly:\n",
        "                # Get start and end range for given site <------------------------- CREATE DF NEXT TIME TO SAVE TIME (30 seconds per run)\n",
        "                site_file = f'data_full_half_hourly_raw_v0_1_{s}.csv'\n",
        "                site_hr_df = pd.read_csv(f\"{self.data_dir}/{site_file}\", usecols=['SITE_ID', 'datetime', 'year', 'month'])\n",
        "                dates = [d for d in pd.date_range(start=site_hr_df['datetime'].min(), end=site_hr_df['datetime'].max(), freq='M')]\n",
        "\n",
        "                # Create range of monthly dates from beginning of minimum month to beginning of next month after maximum month\n",
        "                site_hr_df['datetime'] = pd.to_datetime(site_hr_df['datetime'])\n",
        "                min_datetime = site_hr_df['datetime'].min()\n",
        "                max_datetime = site_hr_df['datetime'].max()\n",
        "                dates = pd.date_range(start=min_datetime.replace(day=1), end=max_datetime.replace(day=1) + pd.offsets.MonthBegin(1), freq='MS')\n",
        "\n",
        "                # Create dataframe\n",
        "                site_hr_df = pd.DataFrame({'datetime': dates})\n",
        "                site_hr_df['year'] = site_hr_df['datetime'].dt.year\n",
        "                site_hr_df['month'] = site_hr_df['datetime'].dt.month\n",
        "                site_hr_df['SITE_ID'] = s\n",
        "\n",
        "                # Resample montlhly data to get the months required in hourly data\n",
        "                pft = site_month['MODIS_PFT'][0] # retain PFT to fill new rows\n",
        "                igbp = site_month['MODIS_IGBP'][0] # retain PFT to fill new rows\n",
        "                site_month = pd.merge(site_hr_df, site_month, how='left', on =['SITE_ID', 'year', 'month'])\n",
        "                site_month['MODIS_PFT'] = pft\n",
        "                site_month['MODIS_IGBP'] = igbp\n",
        "                site_month['SITE_ID'] = s\n",
        "                site_month['gap_flag_month'].fillna(int(1), inplace=True)\n",
        "\n",
        "            # Fill in known values for new/resampled month-level rows\n",
        "            site_month['datetime'] = site_month.apply(self.to_datetime, axis=1)\n",
        "            site_month.set_index('datetime', inplace=True)\n",
        "            site_month.drop(columns='TIMESTAMP', inplace=True)\n",
        "            site_month.drop(columns='date', inplace=True)\n",
        "\n",
        "            # If any new months added by resample, interpolate gap values at site-level\n",
        "            if site_month.isna().sum().sum() != 0: \n",
        "                if impute_method == 'interpolate':\n",
        "                    site_month.interpolate(method='linear', limit_direction='both', inplace=True)\n",
        "\n",
        "                elif impute_method == 'knn':\n",
        "                    nan_cols = site_month.columns[site_month.isna().all()].tolist()\n",
        "                    site_month = self.knn_impute(site_month, knn_imp_cols, k, weights)\n",
        "                    if len(nan_cols) > 0:\n",
        "                        print(f'{s} has column(s) with only NAN: {nan_cols}')\n",
        "                        for c in nan_cols:\n",
        "                            site_month[c] = np.nan\n",
        "                            \n",
        "                elif impute_method == 'constant':\n",
        "                    monthly_df = self.month_df.fillna(c)\n",
        "\n",
        "            # Concat site_month to monthly_df\n",
        "            if type(monthly_df) == type(None):\n",
        "                monthly_df = site_month\n",
        "            else:\n",
        "                monthly_df = pd.concat([monthly_df, site_month])\n",
        "\n",
        "        # if any site had 100% missing for a feature, impute these using global data\n",
        "        if monthly_df.isna().sum().sum() != 0:\n",
        "            print(\"Imputing values where site has 100 percent of feature missing\")\n",
        "            print(f\"# of NA features before global impute: {monthly_df.isna().sum().sum()}\")\n",
        "            if impute_method == 'interpolate':\n",
        "                monthly_df.interpolate(method='linear', limit_direction='both', inplace=True)\n",
        "\n",
        "            elif impute_method == 'knn':\n",
        "                monthly_df = self.knn_impute(monthly_df, knn_imp_cols, k, weights)\n",
        "\n",
        "            elif impute_method == 'constant':\n",
        "                monthly_df = self.monthly_df.fillna(c)\n",
        "\n",
        "            print(f\"# of NA features after global impute: {monthly_df.isna().sum().sum()}\")\n",
        "\n",
        "        return monthly_df\n",
        "\n",
        "\n",
        "    def run(self, impute=False, impute_method=None, resample_monthly=False, knn_imp_cols=None, k=None, weights=None, c=-1):\n",
        "        # Hanlde missing values\n",
        "        if impute:\n",
        "            print(f\"Impute method: {impute_method}\")\n",
        "            print(f\"Resampling and gap filling missing months: {resample_monthly}\")\n",
        "            monthly_df = self.impute(impute_method, resample_monthly, knn_imp_cols, k, weights, c)\n",
        "        else:\n",
        "            print(\"Not gap filling or filling NAs, leave be\")\n",
        "            available_sites = [x[-10:-4] for x in os.listdir(self.data_dir)]\n",
        "            self.month_df = self.month_df.loc[self.month_df['SITE_ID'].isin(available_sites)]\n",
        "            monthly_df = self.month_df.copy()\n",
        "            \n",
        "        # Confirm No NAS\n",
        "        if monthly_df.isna().sum().sum() == 0:\n",
        "            print(\"Confirmed: No NA values remain\")\n",
        "        elif type(impute_method) != type(None):\n",
        "            print(\"ISSUE: SOME NA VALUES REMAIN - INVESTIGATE\")\n",
        "            monthly_df.isna().sum()\n",
        "\n",
        "        return monthly_df\n",
        "        \n",
        "\n",
        "class PrepareAllSitesHourly:\n",
        "    def __init__(self, site_metadata_filename, monthly_data_filename, train_sites, val_sites, test_sites, \n",
        "                hourly_features, metadata_features, target_variable_qc, target_variable, data_dir):\n",
        "        self.site_metadata_filename = site_metadata_filename\n",
        "        self.monthly_data_filename = monthly_data_filename\n",
        "        self.train_sites = train_sites\n",
        "        self.val_sites = val_sites\n",
        "        self.test_sites = test_sites\n",
        "        if train_sites is not None and val_sites is not None and test_sites is not None:\n",
        "          self.all_sites = train_sites + val_sites + test_sites\n",
        "        else:\n",
        "          self.all_sites = None\n",
        "        self.hourly_features = hourly_features\n",
        "        self.metadata_features = metadata_features\n",
        "        self.target_variable_qc = target_variable_qc\n",
        "        self.target_variable = target_variable\n",
        "        self.data_dir = data_dir\n",
        "\n",
        "    def add_time_index(self, df, time_col, duration, site_id):\n",
        "        df['gap_flag_hour'] = int(0)\n",
        "        df.sort_values(time_col, inplace=True)\n",
        "        df.set_index(time_col, inplace=True)\n",
        "        df = df.resample(duration).first()\n",
        "        df = df.reset_index()\n",
        "        df['gap_flag_hour'].fillna(int(1), inplace=True)\n",
        "\n",
        "        # Fix time records that are NA for new rows\n",
        "        df['year'] = df['datetime'].dt.year.astype(int)\n",
        "        df['month'] = df['datetime'].dt.month.astype(int)\n",
        "        df['day'] = df['datetime'].dt.day.astype(int)\n",
        "        df['hour'] = df['datetime'].dt.hour.astype(int)\n",
        "        df['date'] = df['datetime'].dt.date\n",
        "        df['site_id'] = site_id\n",
        "\n",
        "        return df\n",
        "\n",
        "\n",
        "    def knn_impute(self, df, imp_cols, k, weights, n_fit=20000):\n",
        "        # Init Imputer\n",
        "        imputer = KNNImputer(n_neighbors=k, weights=weights)\n",
        "\n",
        "        # Get subset of rows to speed up impute time (instead of fitting on every single record)\n",
        "        df_subcols = df[imp_cols].copy()\n",
        "        na_mask = df_subcols.isna().any(axis=1)\n",
        "        na_rows = df_subcols[na_mask]\n",
        "        nan_cols = []\n",
        "        imputed_group_columns = df_subcols.columns\n",
        "\n",
        "        # If there are at least 10k rows that don't have NA, use them to fit imputer (saves time)\n",
        "        if (len(df) - len(na_rows)) > 10000:\n",
        "            not_na_rows = df_subcols.dropna()\n",
        "            not_na_rows = not_na_rows[na_rows.columns]\n",
        "            not_na_rows = not_na_rows.sample(n=np.min([n_fit, len(not_na_rows)]))\n",
        "            imputer.fit(not_na_rows)\n",
        "            imputed_group = imputer.transform(na_rows)\n",
        "        else:\n",
        "            nan_cols = na_rows.columns[na_rows.isna().all()].tolist()\n",
        "            na_rows = na_rows.dropna(axis=1, how='all')\n",
        "            imputed_group_columns = na_rows.columns\n",
        "            imputed_group = imputer.fit_transform(na_rows)\n",
        "\n",
        "        imputed_group = pd.DataFrame(imputed_group, columns=imputed_group_columns, index=na_rows.index)\n",
        "        if len(nan_cols) > 0:\n",
        "            print(f'  Column(s) with only NAN: {nan_cols}')\n",
        "            for c in nan_cols:\n",
        "                imputed_group[c] = np.nan\n",
        "\n",
        "        # Reinsert NA rows\n",
        "        df_subcols.loc[na_mask] = imputed_group\n",
        "\n",
        "        # Fill NA in initial site/group df\n",
        "        df.fillna(df_subcols, inplace=True)\n",
        "\n",
        "        return df\n",
        "\n",
        "    \n",
        "    def check_imputation(self, df_init,  df_imputed):\n",
        "        # Drop NA rows from both (using indices) confirm they are same df now\n",
        "        drop_na = df_init.dropna(how='any')\n",
        "        drop_imp = df_imputed.loc[drop_na.index, ]\n",
        "        drop_na.reset_index(inplace=True, drop=True)\n",
        "        drop_imp.reset_index(inplace=True, drop=True)\n",
        "        if not drop_na.equals(drop_imp):\n",
        "            print(\"IMPUTATION ERROR: Non-NA values were affected in imputation\")\n",
        "\n",
        "        # Check that 50 rows that initial had NA are the same in non-NA cols\n",
        "        na_inds = df_init.loc[df_init.isna().any(axis=1), ].index\n",
        "        errors = 0\n",
        "        for ind in na_inds[:50]:\n",
        "            check_ind = pd.concat([df_init.iloc[ind], df_imputed.iloc[ind]], axis=1).dropna()\n",
        "            check_ind.columns = ['initial', 'post_imp']\n",
        "            if not check_ind['initial'].equals(check_ind['post_imp']):\n",
        "                errors += 1\n",
        "                print(ind)\n",
        "\n",
        "        if errors != 0:\n",
        "            print(\"IMPUTATION ERROR: Non-NA values in rows with NA were affected by imputation\")\n",
        "\n",
        "        # DF length is the same \n",
        "        if len(df_init) != len(df_imputed):\n",
        "            print(\"IMPUTATION ERROR: Post imputation df has different row count than initial df\")\n",
        "\n",
        "\n",
        "    def filter_date_range(self, df, start_date, end_date, time_col, missing_thresh=0.2):\n",
        "        df.set_index(time_col, inplace=True)\n",
        "        filtered_df = df.loc[start_date:end_date].copy()\n",
        "\n",
        "        # Remove sites without at least one year of records\n",
        "        if len(filtered_df) < 365*24:\n",
        "            return None\n",
        "        else:\n",
        "            # Remove sites that have > 20% gaps in sequence\n",
        "            first_date = filtered_df.index.min()\n",
        "            last_date = filtered_df.index.max()\n",
        "            total_expected_count = len(pd.date_range(start=first_date, end=last_date, freq='H'))\n",
        "            missing_percentage = (total_expected_count - len(filtered_df)) / total_expected_count\n",
        "\n",
        "            if missing_percentage > missing_thresh:\n",
        "                return None\n",
        "            else:\n",
        "                filtered_df.reset_index(inplace=True)\n",
        "                return filtered_df\n",
        "            \n",
        "\n",
        "    def prep_metadata(self):\n",
        "        site_metadata_df = pd.read_csv(self.site_metadata_filename, usecols = self.metadata_features)\n",
        "        \n",
        "        if self.all_sites is not None:\n",
        "          site_metadata_df = site_metadata_df.loc[site_metadata_df['site_id'].isin(self.all_sites), ]\n",
        "        \n",
        "        site_metadata_df = site_metadata_df.loc[site_metadata_df['monthly_data_available']=='Yes', ] # <---- not including sites that have zero monthly data (ask team)\n",
        "        site_metadata_df.reset_index(inplace=True, drop=True)\n",
        "        return site_metadata_df\n",
        "\n",
        "\n",
        "    def merge_site_metadata(self, data_df, site_metadata_df):\n",
        "        site_metadata_df = site_metadata_df.drop(['filename', 'monthly_data_available'], axis=1)\n",
        "        data_df = data_df.merge(site_metadata_df, how='left', left_on='site_id', right_on='site_id')\n",
        "        print(f\"Data size after after merged with site metadata: {data_df.shape}\")\n",
        "\n",
        "        if data_df.isna().sum().sum() != 0:\n",
        "            print(f\"Missing values after metadata merge {data_df.isna().sum().sum()} \")\n",
        "\n",
        "        return data_df\n",
        "\n",
        "\n",
        "    def merge_monthly_data(self, data_df):\n",
        "        # Prep monthly\n",
        "        monthly_df = pd.read_csv(self.monthly_data_filename)\n",
        "        monthly_df.reset_index(inplace=True, drop=True)\n",
        "        monthly_df[['year','month', 'MODIS_LC']] = monthly_df[['year','month', 'MODIS_LC']].astype('int')\n",
        "\n",
        "        if monthly_df.isna().sum().sum() != 0:\n",
        "            print(f\"{monthly_df.isna().sum().sum()} missing values in monthly data\")\n",
        "\n",
        "        # Merge\n",
        "        data_df = data_df.merge(monthly_df, how='left',\n",
        "                        left_on =['site_id', 'year', 'month'],\n",
        "                        right_on=['SITE_ID', 'year', 'month'])\n",
        "        data_df.drop('SITE_ID', axis=1, inplace=True)\n",
        "        print(f\"Data size after after merged with monthly data: {data_df.shape}\")\n",
        "\n",
        "        if data_df.isna().sum().sum() != 0:\n",
        "            print(f\"{data_df.isna().sum().sum()} missing values introduced after monthly merge\")\n",
        "\n",
        "        return data_df\n",
        "    \n",
        "\n",
        "    def site_data_cleanup(self, site_metadata_df, imp_cols, resample, impute, impute_method,\n",
        "                         impute_global, k, weights, n_fit, time_col, duration, start_date, end_date, missing_thresh=0.2, c=None):\n",
        "        data_df = None\n",
        "        num_records = 0\n",
        "        available_site_count = 0\n",
        "        retained_site_count = 0\n",
        "        qc_flags_features = [s for s in self.hourly_features if \"_QC\" in s]\n",
        "\n",
        "        # Global time index base\n",
        "        global_time_index_base = datetime(1970, 1, 1, 0, 0, 0)\n",
        "\n",
        "        ## SITE-LEVEL CLEANING -> LOOP & CONCATENATE\n",
        "        for i, r in tqdm(site_metadata_df[['site_id','filename']].iterrows()):\n",
        "          if not r.filename or type(r.filename) != type(\"\"):\n",
        "            print(f'SKIP: {r.site_id} is missing hourly data.')\n",
        "            continue\n",
        "\n",
        "          available_site_count += 1  \n",
        "\n",
        "          # Prepare hourly site df\n",
        "          local_filename = self.data_dir + os.sep + r.filename\n",
        "          site_df = pd.read_csv(local_filename, usecols = [self.target_variable] + self.hourly_features)\n",
        "\n",
        "          # Format columns\n",
        "          site_df['datetime'] = pd.to_datetime(site_df['datetime'])\n",
        "          site_df['date'] = pd.to_datetime(site_df['date'])\n",
        "          site_df['minute'] = site_df['datetime'].dt.minute\n",
        "          if len(qc_flags_features) != 0:\n",
        "              site_df[qc_flags_features] = site_df[qc_flags_features].astype('int')\n",
        "          site_df['site_id'] = r.site_id\n",
        "\n",
        "          # Move from HH to H level\n",
        "          site_df = site_df.loc[site_df['datetime'].dt.minute == 0, ].copy()\n",
        "          site_df.drop('minute', axis=1, inplace=True)\n",
        "            \n",
        "          # Filter site date-range and drop sites without > 1 year and <20% gaps after trim\n",
        "          if start_date is not None and end_date is not None:\n",
        "            site_df = self.filter_date_range(site_df, start_date, end_date, time_col, missing_thresh)\n",
        "          \n",
        "          if site_df is None:\n",
        "              print(f'SKIP: {r.site_id} does not have sufficient data in desired time period')\n",
        "              continue\n",
        "          else:\n",
        "              retained_site_count += 1\n",
        "              num_records += len(site_df)\n",
        "\n",
        "          # Resample to add rows for missing timesteps, assign timestep_idx and \"gap_flag\"\n",
        "          if resample:\n",
        "              site_df = self.add_time_index(site_df, time_col, duration, site_id=r.site_id)\n",
        "          else:\n",
        "              site_df['gap_flag_hour'] = 0\n",
        "              site_df.sort_values(time_col, inplace=True)\n",
        "              site_df = site_df.reset_index()\n",
        "\n",
        "          # Save site_df pre-imputation to check post-imputation (once per run, random site each time)\n",
        "          if self.all_sites is not None:\n",
        "            random_check = random.randint(0, len(self.all_sites))\n",
        "          else:\n",
        "            random_check = random.randint(0, site_metadata_df['site_id'].unique().shape[0])\n",
        "          \n",
        "          if i == random_check:   \n",
        "              site_df_pre_imp = site_df.copy()\n",
        "          \n",
        "          # Impute missing values at site-level, otherwise fillna w/ -1 at very end\n",
        "          if (impute) & (site_df.isna().sum().sum() != 0):\n",
        "              if impute_method=='ffill': # select most recent record\n",
        "                  site_df.sort_values(time_col, ascending=True, inplace=True)\n",
        "                  site_df.fillna(method=\"ffill\", inplace=True)\n",
        "              elif impute_method=='knn': # use KNNImputer\n",
        "                  nan_cols = site_df.columns[site_df.isna().all()].tolist()\n",
        "                  site_df = self.knn_impute(site_df, imp_cols, k, weights, n_fit)\n",
        "                  if len(nan_cols) > 0:\n",
        "                      print(f'{r.site_id} has column(s) with only NAN: {nan_cols}')\n",
        "                      for c in nan_cols:\n",
        "                          site_df[c] = pd.NA\n",
        "              elif impute_method=='constant':\n",
        "                  site_df[imp_cols] = site_df[imp_cols].fillna(c)\n",
        "\n",
        "          if i == random_check:\n",
        "              self.check_imputation(site_df_pre_imp, site_df)\n",
        "          \n",
        "          # Create local timestep_idx\n",
        "          site_df.sort_values(time_col, ascending=True, inplace=True)\n",
        "          site_df['timestep_idx_local'] = range(len(site_df))\n",
        "\n",
        "          # Create global timestamp inds\n",
        "          site_df['timestep_idx_global'] = (site_df[time_col]- global_time_index_base).\\\n",
        "                                            apply(lambda x: int(x.total_seconds() / 3600))\n",
        "\n",
        "          # Concatenate site_dfs together into global data_df\n",
        "          print(f'{i+1}. {r.site_id}: {site_df.shape}')\n",
        "          if type(data_df) == type(None):\n",
        "              data_df = site_df\n",
        "          else:\n",
        "              data_df = pd.concat([data_df, site_df])\n",
        "        # End all-site loop\n",
        "\n",
        "        ## Global Data-DF Cleanup\n",
        "        # Order cols + sort\n",
        "        data_df.sort_values(['site_id', time_col], ascending=True, inplace=True)\n",
        "\n",
        "        # Print stats\n",
        "        print(f\"Initial records: {num_records}, Final records after resampling + gap-filling: {len(data_df)}\")\n",
        "        print(f\"Total retained sites: {retained_site_count}/{available_site_count} = {retained_site_count/available_site_count:.2f}\")\n",
        "\n",
        "        # Handle remaining missing data (if 100% of feature missing for one site)\n",
        "        print(f\"Missing values after site-level imputation: {data_df.isna().sum().sum()}\")\n",
        "        if (impute_global) & (data_df.isna().sum().sum() != 0):\n",
        "            if impute_method=='ffill': # select most recent record\n",
        "                data_df.sort_values(time_col, ascending=True, inplace=True)\n",
        "                data_df.fillna(method=\"ffill\", inplace=True)\n",
        "                data_df.fillna(method=\"bfill\", inplace=True) # in rare case of missing first record\n",
        "                \n",
        "            elif impute_method=='knn': # use KNNImputer\n",
        "                data_df = self.knn_impute(data_df, imp_cols, k, weights, n_fit)\n",
        "\n",
        "            elif impute_method=='constant':\n",
        "                data_df[imp_cols] = data_df[imp_cols].fillna(c)\n",
        "        else:\n",
        "            print(\"Not imputing missing values at global level\")\n",
        "        print(f\"Missing values after global-level imputation: {data_df.isna().sum().sum()}\")\n",
        "\n",
        "        return data_df\n",
        "    \n",
        "\n",
        "    def all_sites_all_sources(self, imp_cols, resample, impute, impute_method, impute_global, k,\n",
        "                            weights, n_fit, time_col, duration, start_date, end_date, missing_thresh, c):\n",
        "        \n",
        "        site_metadata_df = self.prep_metadata()\n",
        "        \n",
        "        if self.all_sites is not None:\n",
        "          sites_missing_monthly = [s for s in self.all_sites if s not in site_metadata_df['site_id'].values]\n",
        "          if len(sites_missing_monthly):\n",
        "            print(f'Sites with missing monthly data: {sites_missing_monthly}')\n",
        "\n",
        "        data_df = self.site_data_cleanup(site_metadata_df, imp_cols, resample, impute, impute_method, \n",
        "                                        impute_global, k, weights, n_fit, time_col, duration, start_date, end_date, missing_thresh, c)\n",
        "\n",
        "        # Merge with site metadata and monthly data\n",
        "        data_df = self.merge_site_metadata(data_df, site_metadata_df)\n",
        "        data_df = self.merge_monthly_data(data_df)\n",
        "\n",
        "        # Reorder columns\n",
        "        features = data_df.columns.to_list()\n",
        "        remove_cols = [self.target_variable, 'site_id', 'timestep_idx_local', 'timestep_idx_global', 'datetime', 'date', 'year', 'month', 'day', 'hour', 'gap_flag_hour', 'gap_flag_month']\n",
        "        features = list(filter(lambda x: x not in remove_cols, features))\n",
        "        data_df = data_df[([self.target_variable, 'site_id', 'timestep_idx_local', 'timestep_idx_global', 'datetime', 'date', 'year', 'month', 'day', 'hour'] + features + ['gap_flag_hour', 'gap_flag_month'])]\n",
        "\n",
        "        return data_df\n",
        "\n",
        "if (\"UseSpark\" in os.environ) or (os.environ.get('UseSpark') == \"true\"):\n",
        "    class PySparkMLDataTransformer:\n",
        "      def __init__(self, spark_session, train_sites, test_sites, \\\n",
        "                  data_file_path = None, data_df = None, ):\n",
        "        \n",
        "        self.spark_session = spark_session\n",
        "        self.data_df = data_df \n",
        "        self.train_df = None \n",
        "        self.test_df = None \n",
        "        self.train_sites = train_sites\n",
        "        self.test_sites = test_sites\n",
        "        self.scaler = None\n",
        "\n",
        "        if type(data_df) == type(None):\n",
        "          if os.path.exists(data_file_path):\n",
        "            self.data_df = self.spark_session.read.parquet(data_file_path)\n",
        "            if '__index_level_0__' in self.data_df.columns:\n",
        "              self.data_df = self.data_df.drop(*['__index_level_0__'])\n",
        "          else:\n",
        "            print(f\"ERROR: {data_file_path} not found.\")\n",
        "        \n",
        "        if 'date' in self.data_df.columns:\n",
        "          self.data_df = self.data_df.drop(*['date'])\n",
        "        print(f\"Data loaded: {self.data_df.count()} rows x {len(self.data_df.columns)} columns.\")\n",
        "      \n",
        "      def data_transform(self, categorical_cols, timestamp_cols, target_col):\n",
        "        self.categorical_cols = categorical_cols\n",
        "        self.timestamp_cols =  timestamp_cols\n",
        "        self.target_col =  target_col\n",
        "\n",
        "        # One-Hot Encoding\n",
        "        string_indexer = StringIndexer(inputCols=categorical_cols, outputCols=[x + \"_Index\" for x in categorical_cols]) \n",
        "        self.data_df = string_indexer.fit(self.data_df).transform(self.data_df)\n",
        "        one_hot_encoder  = OneHotEncoder(inputCols=string_indexer.getOutputCols(), outputCols=[x + \"_OHE\" for x in categorical_cols])\n",
        "        self.data_df = one_hot_encoder.fit(self.data_df).transform(self.data_df)\n",
        "        self.data_df = self.data_df.drop(*string_indexer.getOutputCols())\n",
        "\n",
        "        print(f\"Data size after encoding: {self.data_df.count()} rows x {len(self.data_df.columns)} columns.\")\n",
        "        self.data_df.show(5, False)\n",
        "\n",
        "        # Get Features\n",
        "        features = self.data_df.columns\n",
        "        features.remove(target_col)\n",
        "        features.remove('site_id')\n",
        "        for f in categorical_cols + timestamp_cols:\n",
        "          features.remove(f)\n",
        "        print(f\"Features({len(features)}): {features}\")\n",
        "\n",
        "        # Assemable Data\n",
        "        assembler = VectorAssembler(inputCols=features, outputCol=\"vectorized_features\")\n",
        "        self.data_df = assembler.transform(self.data_df)\n",
        "        print(f\"Data size after assembling: {self.data_df.count()} rows x {len(self.data_df.columns)} columns.\")\n",
        "        self.data_df.show(5, False)\n",
        "\n",
        "        # Split into train and test sets\n",
        "        train_df = self.data_df.filter(col('site_id').isin(self.train_sites))\n",
        "        test_df = self.data_df.filter(col('site_id').isin(self.test_sites))\n",
        "        print(f\"Train data size: {train_df.count()} rows x {len(train_df.columns)} columns.\")\n",
        "        print(f\"Test data size: {test_df.count()} rows x {len(test_df.columns)} columns.\")\n",
        "\n",
        "        print(\"Train data peak:\")\n",
        "        train_df.show(5, False)\n",
        "        print(\"Test data peak:\")\n",
        "        test_df.show(5, False)\n",
        "\n",
        "        # Normalize data\n",
        "        self.scaler = MinMaxScaler(inputCol='vectorized_features', outputCol='features').fit(train_df)\n",
        "        train_df = self.scaler.transform(train_df)\n",
        "        test_df = self.scaler.transform(test_df)\n",
        "\n",
        "        train_df = train_df.drop(*['vectorized_features'])\n",
        "        test_df = test_df.drop(*['vectorized_features'])\n",
        "        print(f\"Train data size: {train_df.count()} rows x {len(train_df.columns)} columns.\")\n",
        "        print(f\"Test data size: {test_df.count()} rows x {len(test_df.columns)} columns.\")\n",
        "\n",
        "        self.train_df = train_df\n",
        "        self.test_df = test_df\n",
        "        return (train_df, test_df)\n",
        "      \n",
        "      def upload_train_test_to_azure(self, az_cred_file, container, train_blob_name, val_blob_name, test_blob_name):\n",
        "        # Initialize AzStorageClient \n",
        "        azStorageClient = AzStorageClient(az_cred_file)\n",
        "        sessionkeys = azStorageClient.getSparkSessionKeys()\n",
        "        self.spark_session.conf.set(sessionkeys[0],sessionkeys[1])\n",
        "\n",
        "        # Upload train dataset\n",
        "        train_blob_path = f\"wasbs://{container}@{sessionkeys[2]}.blob.core.windows.net/{train_blob_name}\"\n",
        "        print(f\"Uploading train dataset to {train_blob_path}...\")\n",
        "        self.train_df.write.format(\"parquet\").mode(\"overwrite\").save(train_blob_path)\n",
        "\n",
        "        # Upload val dataset\n",
        "        val_blob_name = f\"wasbs://{container}@{sessionkeys[2]}.blob.core.windows.net/{val_blob_name}\"\n",
        "        print(f\"Uploading train dataset to {val_blob_name}...\")\n",
        "        self.val_df.write.format(\"parquet\").mode(\"overwrite\").save(val_blob_name)\n",
        "\n",
        "        # Upload test dataset\n",
        "        test_blob_path = f\"wasbs://{container}@{sessionkeys[2]}.blob.core.windows.net/{test_blob_name}\"\n",
        "        print(f\"Uploading test dataset to {test_blob_path}...\")\n",
        "        self.test_df.write.format(\"parquet\").mode(\"overwrite\").save(test_blob_path)\n",
        "\n",
        "class TFTDataTransformer:\n",
        "  def __init__(self, train_sites, val_sites, test_sites, \\\n",
        "              data_file_path = None, data_df = None):\n",
        "    \n",
        "    self.data_df = data_df \n",
        "    self.train_sites = train_sites\n",
        "    self.val_sites = val_sites\n",
        "    self.test_sites = test_sites\n",
        "    self.scaler = None\n",
        "\n",
        "    # Load data df\n",
        "    if type(data_df) == type(None):\n",
        "      if os.path.exists(data_file_path):\n",
        "        self.data_df = pd.read_parquet(data_file_path, engine='pyarrow')\n",
        "      else:\n",
        "        print(f\"ERROR: {data_file_path} not found.\")\n",
        "    \n",
        "    if 'date' in self.data_df.columns:\n",
        "      self.data_df = self.data_df.drop(['date'], axis = 1)\n",
        "    print(f\"Data size: {self.data_df.shape}.\")\n",
        "\n",
        "  def get_test_train_raw(self):\n",
        "    train_df = self.data_df[self.data_df['site_id'].isin(self.train_sites)]\n",
        "    test_df  = self.data_df[self.data_df['site_id'].isin(self.test_sites)]\n",
        "    print(f\"Train data size: {train_df.shape}.\")\n",
        "    print(f\"Test data size: {test_df.shape}.\")\n",
        "\n",
        "    self.train_df = train_df\n",
        "    self.test_df = test_df\n",
        "    return (train_df, test_df)\n",
        "\n",
        "  def data_transform(self, categorical_cols, realNum_cols, cat_encode_type='label'):\n",
        "    data_df = self.data_df\n",
        "    print(f\"Data size: {self.data_df.shape}.\")\n",
        "\n",
        "    # Encode the categorical columns\n",
        "    if cat_encode_type == 'label':\n",
        "      data_df[categorical_cols] = data_df[categorical_cols].apply(LabelEncoder().fit_transform)\n",
        "    elif cat_encode_type == 'dummy':\n",
        "      dummy_df = pd.get_dummies(data_df[categorical_cols])\n",
        "      data_df = data_df.drop(columns=categorical_cols)\n",
        "      data_df = pd.concat([data_df, dummy_df], axis=1)\n",
        "    print(f\"Data size after encoding: {data_df.shape}\")\n",
        "      \n",
        "    # Split into train, val, and test sets\n",
        "    train_df = data_df.loc[data_df['site_id'].isin(self.train_sites), ].copy()\n",
        "    val_df = data_df.loc[data_df['site_id'].isin(self.val_sites), ].copy()\n",
        "    test_df  = data_df.loc[data_df['site_id'].isin(self.test_sites), ].copy()\n",
        "    print(f\"Number of sites in df: {len(data_df['site_id'].unique())}\")\n",
        "    print(f\"Train Sites: {train_df['site_id'].unique()}\")\n",
        "    print(f\"Val Sites: {val_df['site_id'].unique()}\")\n",
        "    print(f\"Test Sites: {test_df['site_id'].unique()}\")\n",
        "\n",
        "    # Normalize data\n",
        "    print(f\"Normalizing real features ({len(realNum_cols)})\")\n",
        "    scaler = StandardScaler().fit(train_df[realNum_cols])\n",
        "    train_df.loc[:,realNum_cols] = scaler.transform(train_df[realNum_cols])\n",
        "    val_df.loc[:,realNum_cols] = scaler.transform(val_df[realNum_cols])\n",
        "    test_df.loc[:,realNum_cols] = scaler.transform(test_df[realNum_cols])\n",
        "\n",
        "    # Save scaler object <--- later\n",
        "    \n",
        "    print(f\"Train data size: {train_df.shape}.\")\n",
        "    print(f\"Val data size: {val_df.shape}.\")\n",
        "    print(f\"Test data size: {test_df.shape}.\")  \n",
        "    train_df.reset_index(inplace=True, drop=True)\n",
        "    val_df.reset_index(inplace=True, drop=True)\n",
        "    test_df.reset_index(inplace=True, drop=True)\n",
        "\n",
        "    self.train_df = train_df\n",
        "    self.val_df = val_df\n",
        "    self.test_df = test_df\n",
        "    return (train_df, val_df, test_df)\n",
        "\n",
        "  def upload_train_test_to_azure(self, az_cred_file, container, train_blob_name, test_blob_name):\n",
        "    # Initialize AzStorageClient \n",
        "    azStorageClient = AzStorageClient(az_cred_file)\n",
        "\n",
        "    # Upload train dataset\n",
        "    train_file = BytesIO()\n",
        "    self.train_df.to_parquet(train_file, engine='pyarrow')\n",
        "    train_file.seek(0)\n",
        "    print(f\"Uploading train dataset to {train_blob_name}...\")\n",
        "    azStorageClient.uploadBlob(container, train_blob_name, train_file, overwrite=True)\n",
        "\n",
        "    # Upload test dataset\n",
        "    test_file = BytesIO()\n",
        "    self.test_df.to_parquet(test_file, engine='pyarrow')\n",
        "    test_file.seek(0)\n",
        "    print(f\"Uploading test dataset to {test_blob_name}...\")\n",
        "    azStorageClient.uploadBlob(container, test_blob_name, test_file, overwrite=True)\n"
      ],
      "metadata": {
        "id": "pMYCv6JxbMz-"
      },
      "execution_count": null,
      "outputs": []
    },
    {
      "cell_type": "code",
      "source": [
        "# NEW\n",
        "# MY_HOME_ABS_PATH = \"/root/co2-flux-hourly-gpp-modeling\"\n",
        "\n",
        "# Inmport Libraries\n",
        "import os\n",
        "os.chdir(MY_HOME_ABS_PATH)\n",
        "\n",
        "import sys\n",
        "import warnings\n",
        "warnings.filterwarnings(\"ignore\")\n",
        "import copy\n",
        "import logging\n",
        "import json\n",
        "from pathlib import Path\n",
        "import numpy as np\n",
        "import pandas as pd\n",
        "import matplotlib.pyplot as plt\n",
        "from typing import Any, Dict, List, Tuple, Union\n",
        "import tensorflow as tf\n",
        "import pytorch_lightning as pl\n",
        "from pytorch_lightning import Callback\n",
        "from pytorch_lightning.callbacks import EarlyStopping, LearningRateMonitor\n",
        "from pytorch_lightning.loggers import TensorBoardLogger\n",
        "import statsmodels.api as sm\n",
        "import torch\n",
        "import torch.nn as nn\n",
        "from torch.utils.data import DataLoader\n",
        "\n",
        "from pytorch_forecasting import Baseline, TemporalFusionTransformer, TimeSeriesDataSet\n",
        "from pytorch_forecasting.data import GroupNormalizer\n",
        "from pytorch_forecasting.metrics import SMAPE, PoissonLoss, QuantileLoss\n",
        "from pytorch_forecasting.models.temporal_fusion_transformer.tuning import optimize_hyperparameters\n",
        "from pytorch_forecasting import BaseModel, MAE\n",
        "from pytorch_forecasting.metrics.point import RMSE\n",
        "from pytorch_forecasting.data.encoders import NaNLabelEncoder\n",
        "\n",
        "import optuna\n",
        "from optuna.integration import PyTorchLightningPruningCallback, TensorBoardCallback\n",
        "import optuna.logging\n",
        "\n",
        "from sklearn.metrics import r2_score\n",
        "from timeit import default_timer\n",
        "from datetime import datetime\n",
        "import gc\n",
        "import pickle\n",
        "\n",
        "# Load locale custome modules\n",
        "os.chdir(MY_HOME_ABS_PATH)\n",
        "sys.path.append('./.cred')\n",
        "sys.path.append('./code/src/tools')\n",
        "sys.path.append(os.path.abspath(\"./code/src/tools\"))\n",
        "  \n",
        "from AzStorageClient import AzStorageClient\n",
        "# from data_pipeline_lib import *\n",
        "\n",
        "pd.set_option('display.max_columns', None)\n",
        "pd.set_option('display.float_format', lambda x: '%.5f' % x)\n",
        "pl.seed_everything(42)\n",
        "\n",
        "root_dir =  MY_HOME_ABS_PATH\n",
        "tmp_dir =  root_dir + os.sep + 'tmp'\n",
        "data_dir = root_dir + os.sep + 'data'\n",
        "model_dir = data_dir + os.sep + 'models'\n",
        "cred_dir = root_dir + os.sep + 'cred'\n",
        "az_cred_file = cred_dir + os.sep + 'azblobcred.json'\n",
        "\n",
        "# Data loading functions\n",
        "\n",
        "def get_raw_datasets(container, blob_name):\n",
        "    local_file = tmp_dir + os.sep + blob_name\n",
        "    data_df = None\n",
        "    if not (os.path.exists(local_file)):\n",
        "        azStorageClient = AzStorageClient(az_cred_file)\n",
        "        file_stream = azStorageClient.downloadBlob2Stream(container, blob_name)\n",
        "        data_df = pd.read_parquet(file_stream, engine='pyarrow')\n",
        "        data_df.to_parquet(local_file)\n",
        "    else:\n",
        "        data_df = pd.read_parquet(local_file)\n",
        "    \n",
        "    print(f\"Data size: {data_df.shape}\")\n",
        "    \n",
        "    # Convert Dtypes\n",
        "    cat_cols = [\"year\", \"month\", \"day\", \"hour\", \"MODIS_IGBP\", \"koppen_main\", \"koppen_sub\", \n",
        "                \"gap_flag_month\", \"gap_flag_hour\"]\n",
        "    for col in cat_cols:\n",
        "        data_df[col] = data_df[col].astype(str).astype(\"category\")\n",
        "    \n",
        "    print(f\"Data Columns: {data_df.columns}\")\n",
        "    print(f\"NA count: {data_df.isna().sum().sum()}\")\n",
        "    return data_df\n",
        "\n",
        "def get_splited_datasets(data_df, val_index, test_index):\n",
        "          \n",
        "    SITE_SPLITS =[\n",
        "      ['AR-SLu', 'AU-ASM', 'AU-Cpr', 'AU-Cum', 'AU-RDF', 'CA-TP3', 'CA-TPD', 'CN-Sw2',\n",
        "        'DE-SfN', 'NL-Hor', 'US-Me6', 'US-Syv', 'US-WCr', 'US-AR2', 'US-Tw4', 'US-UMB', \n",
        "        'US-Vcp', 'CH-Cha', 'CZ-BK1', 'CZ-KrP', 'DE-Obe', 'ES-LJu', 'FI-Let', 'FR-Lam', \n",
        "        'IT-Lav', 'SE-Lnn'], \n",
        "      ['CZ-BK2', 'DE-Spw', 'FR-Pue', 'IT-CA3', 'IT-Noe', 'IT-Ro2', 'US-IB2', 'US-Myb',\n",
        "        'US-SRM', 'CA-Ca3', 'US-CRT', 'US-Fmf', 'US-KFS', 'US-Prr', 'US-UMd', 'US-Wjs',\n",
        "        'BE-Bra', 'BE-Lon', 'CH-Lae', 'CZ-RAJ', 'DE-HoH', 'DE-Kli', 'DE-RuR', 'IL-Yat', \n",
        "        'IT-Tor', 'SE-Htm'], \n",
        "      ['AR-Vir', 'AT-Neu', 'AU-DaS', 'AU-TTE', 'AU-Wom', 'CA-TP1', 'IT-CA1', 'IT-SRo',\n",
        "        'US-WPT', 'US-Wkg', 'CA-Ca2', 'CA-Cbo', 'CA-TP4', 'US-ARM', 'US-Ro1', 'US-Rws',\n",
        "        'US-SRG', 'US-Vcm', 'BE-Dor', 'BE-Vie', 'CZ-Stn', 'DE-Geb', 'ES-LM2', 'FR-Fon', \n",
        "        'SE-Ros', 'DE-Hte'],\n",
        "      ['AU-DaP', 'AU-Emr', 'AU-Gin', 'AU-How', 'AU-Rig', 'US-GLE', 'US-NR1', 'US-Twt',\n",
        "        'CA-Ca1', 'CA-Gro', 'US-AR1', 'US-Bar', 'US-Mpj', 'US-Ses', 'CH-Fru', 'CH-Oe2',\n",
        "        'DE-Hai', 'DK-Sor', 'FI-Hyy', 'FR-Aur', 'FR-Hes', 'GF-Guy', 'IT-SR2', 'SE-Deg',\n",
        "        'SE-Nor', 'NL-Loo'],\n",
        "      ['AU-Stp', 'AU-Whr', 'CA-Oas', 'DE-Lnf', 'ES-Amo', 'FI-Sod', 'IT-CA2', 'US-Ton',\n",
        "        'US-Var', 'US-Whs', 'US-Ho1', 'US-Oho', 'US-Seg', 'CH-Dav', 'CZ-Lnz', 'CZ-wet',\n",
        "        'DE-Gri', 'DE-Tha', 'ES-LM1', 'FR-Bil', 'FR-FBn', 'IT-BCi', 'IT-MBo', 'IT-Ren',\n",
        "        'RU-Fyo']\n",
        "    ]\n",
        "\n",
        "    train_sites, val_sites, test_sites = [], [], []\n",
        "    for i, subset in enumerate(SITE_SPLITS):\n",
        "        if i == val_index:\n",
        "            val_sites = SITE_SPLITS[i]\n",
        "        elif i == test_index:\n",
        "            test_sites = SITE_SPLITS[i]\n",
        "        else:\n",
        "            train_sites += SITE_SPLITS[i]\n",
        "\n",
        "    train_df = data_df.loc[data_df['site_id'].isin(train_sites), ].copy()\n",
        "    val_df   = data_df.loc[data_df['site_id'].isin(val_sites), ].copy()\n",
        "\n",
        "    if len(train_df['site_id'].unique()) != len(train_sites):\n",
        "        print(f\"Expected Train({len(train_sites)}), Actual Train({len(train_df['site_id'].unique())})\")\n",
        "        sites_missing = [s for s in train_sites if s not in train_df['site_id'].unique()]\n",
        "        print(f'  missing: {sites_missing}')\n",
        "\n",
        "    if len(val_df['site_id'].unique()) != len(val_sites):\n",
        "        print(f\"Expected Train({len(val_sites)}), Actual Train({len(val_df['site_id'].unique())})\")\n",
        "        sites_missing = [s for s in val_sites if s not in val_df['site_id'].unique()]\n",
        "        print(f'  missing: {sites_missing}')\n",
        "\n",
        "    if test_index is not None:\n",
        "        test_df = data_df.loc[data_df['site_id'].isin(test_sites), ].copy()\n",
        "        if len(test_df['site_id'].unique()) != len(test_sites):\n",
        "            print(f\"Expected Train({len(test_sites)}), Actual Train({len(test_df['site_id'].unique())})\")\n",
        "            sites_missing = [s for s in test_sites if s not in test_df['site_id'].unique()]\n",
        "            print(f'  missing: {sites_missing}')\n",
        "    else:\n",
        "        test_df = None\n",
        "\n",
        "    return (train_df, val_df, test_df)\n",
        "\n",
        "def subset_data(train_df, val_df, test_df, subset_len):\n",
        "    print(f'Subest length: {subset_len} timesteps for each sites')\n",
        "    \n",
        "    train_df = train_df.loc[train_df['timestep_idx_local'] < subset_len, ].copy()\n",
        "    print(f\"Subset num train timesteps: {len(train_df)}\")\n",
        "    val_df = val_df.loc[val_df['timestep_idx_local'] < subset_len, ].copy()\n",
        "    print(f\"Subset num val timesteps: {len(val_df)}\")\n",
        "    if test_df is not None:\n",
        "        test_df = test_df.loc[test_df['timestep_idx_local'] < subset_len, ].copy()\n",
        "        print(f\"Subset num test timesteps: {len(test_df)}\")\n",
        "\n",
        "    return (train_df, val_df, test_df)\n",
        "\n",
        "# Don't use this one\n",
        "def setup_tsdataset_mvp_mistake(train_df, val_df, test_df, min_encoder_len):\n",
        "    # create training and validation TS dataset \n",
        "    training = TimeSeriesDataSet(\n",
        "      train_df, # <------ no longer subsetting, option 1 split can use entire train site sequence\n",
        "      time_idx=\"timestep_idx_global\",\n",
        "      target=\"GPP_NT_VUT_REF\",\n",
        "      group_ids=[\"site_id\"],\n",
        "      allow_missing_timesteps=False, # <---- turned on bc some rows are removed.\n",
        "      min_encoder_length=min_encoder_len,\n",
        "      max_encoder_length=min_encoder_len,\n",
        "      min_prediction_length=1,\n",
        "      max_prediction_length=1,\n",
        "      static_categoricals=[\"MODIS_IGBP\",\"koppen_main\",\"koppen_sub\", \"gap_flag_month\", \"gap_flag_hour\"],\n",
        "      static_reals=[],\n",
        "      time_varying_known_categoricals=[\"year\", \"month\", \"day\", \"hour\"],\n",
        "      time_varying_known_reals=[\"timestep_idx_global\", \n",
        "                                'TA_ERA', 'SW_IN_ERA', 'LW_IN_ERA', 'VPD_ERA', 'P_ERA', 'PA_ERA',\n",
        "                                'EVI', 'NDVI', 'NIRv', 'b1', 'b2', 'b3', 'b4', 'b5', 'b6', 'b7', \n",
        "                                'BESS-PAR', 'BESS-PARdiff', 'BESS-RSDN', 'CSIF-SIFdaily', 'PET', 'Ts', \n",
        "                                'ESACCI-sm', 'NDWI', 'Percent_Snow', 'Fpar', 'Lai', 'LST_Day','LST_Night'],\n",
        "      time_varying_unknown_categoricals=[], \n",
        "      time_varying_unknown_reals=[\"GPP_NT_VUT_REF\"],\n",
        "      target_normalizer=None,\n",
        "      categorical_encoders={'MODIS_IGBP': NaNLabelEncoder(add_nan=True),\n",
        "                            'koppen_main': NaNLabelEncoder(add_nan=True),\n",
        "                            'koppen_sub': NaNLabelEncoder(add_nan=True),\n",
        "                            'year': NaNLabelEncoder(add_nan=True), # temp for subset\n",
        "                            'month': NaNLabelEncoder(add_nan=True), # temp for subset\n",
        "                            'day': NaNLabelEncoder(add_nan=True), # temp for subset\n",
        "                            },\n",
        "      add_relative_time_idx=True,\n",
        "      add_target_scales=False, # <------- turned off\n",
        "      add_encoder_length=False, # <------- turned off\n",
        "    )\n",
        "\n",
        "    validation = TimeSeriesDataSet.from_dataset(training, val_df, predict=False, stop_randomization=True)\n",
        "    \n",
        "    if test_df is not None:\n",
        "        testing = TimeSeriesDataSet.from_dataset(training, test_df, predict=False, stop_randomization=True)\n",
        "    else:\n",
        "        testing = None\n",
        "\n",
        "    return (training, validation, testing)\n",
        "\n",
        "# Use this instead!!\n",
        "def setup_tsdataset(train_df, val_df, test_df, min_encoder_len):\n",
        "    # create training and validation TS dataset \n",
        "    training = TimeSeriesDataSet(\n",
        "      train_df, # <------ no longer subsetting, option 1 split can use entire train site sequence\n",
        "      time_idx=\"timestep_idx_global\",\n",
        "      target=\"GPP_NT_VUT_REF\",\n",
        "      group_ids=[\"site_id\"],\n",
        "      allow_missing_timesteps=False, # <---- turned on bc some rows are removed.\n",
        "      min_encoder_length=min_encoder_len,\n",
        "      max_encoder_length=min_encoder_len,\n",
        "      min_prediction_length=1,\n",
        "      max_prediction_length=1,\n",
        "      static_categoricals=[\"MODIS_IGBP\",\"koppen_main\",\"koppen_sub\"],\n",
        "      static_reals=[],\n",
        "      time_varying_known_categoricals=[\"year\", \"month\", \"day\", \"hour\"],\n",
        "      time_varying_known_reals=[\"timestep_idx_global\", \n",
        "                                'TA_ERA', 'SW_IN_ERA', 'LW_IN_ERA', 'VPD_ERA', 'P_ERA', 'PA_ERA',\n",
        "                                'EVI', 'NDVI', 'NIRv', 'b1', 'b2', 'b3', 'b4', 'b5', 'b6', 'b7', \n",
        "                                'BESS-PAR', 'BESS-PARdiff', 'BESS-RSDN', 'CSIF-SIFdaily', 'PET', 'Ts', \n",
        "                                'ESACCI-sm', 'NDWI', 'Percent_Snow', 'Fpar', 'Lai', 'LST_Day','LST_Night'],\n",
        "      time_varying_unknown_categoricals=[\"gap_flag_month\", \"gap_flag_hour\"], \n",
        "      time_varying_unknown_reals=[\"GPP_NT_VUT_REF\"],\n",
        "      target_normalizer=None,\n",
        "      categorical_encoders={'MODIS_IGBP': NaNLabelEncoder(add_nan=True),\n",
        "                            'koppen_main': NaNLabelEncoder(add_nan=True),\n",
        "                            'koppen_sub': NaNLabelEncoder(add_nan=True),\n",
        "                            'year': NaNLabelEncoder(add_nan=True),\n",
        "                            },\n",
        "      add_relative_time_idx=True,\n",
        "      add_target_scales=False, # <------- turned off\n",
        "      add_encoder_length=False, # <------- turned off\n",
        "    )\n",
        "\n",
        "    validation = TimeSeriesDataSet.from_dataset(training, val_df, predict=False, stop_randomization=True)\n",
        "    \n",
        "    if test_df is not None:\n",
        "        testing = TimeSeriesDataSet.from_dataset(training, test_df, predict=False, stop_randomization=True)\n",
        "    else:\n",
        "        testing = None\n",
        "\n",
        "    return (training, validation, testing)\n",
        "\n",
        "def setup_tsdataset_nogpp(train_df, val_df, test_df, min_encoder_len):\n",
        "    # create training and validation TS dataset \n",
        "    training = TimeSeriesDataSet(\n",
        "      train_df, # <------ no longer subsetting, option 1 split can use entire train site sequence\n",
        "      time_idx=\"timestep_idx_global\",\n",
        "      target=\"GPP_NT_VUT_REF\",\n",
        "      group_ids=[\"site_id\"],\n",
        "      allow_missing_timesteps=False, # <---- turned on bc some rows are removed.\n",
        "      min_encoder_length=min_encoder_len,\n",
        "      max_encoder_length=min_encoder_len,\n",
        "      min_prediction_length=1,\n",
        "      max_prediction_length=1,\n",
        "      static_categoricals=[\"MODIS_IGBP\",\"koppen_main\",\"koppen_sub\"],\n",
        "      static_reals=[],\n",
        "      time_varying_known_categoricals=[\"year\", \"month\", \"day\", \"hour\"],\n",
        "      time_varying_known_reals=[\"timestep_idx_global\", \n",
        "                                'TA_ERA', 'SW_IN_ERA', 'LW_IN_ERA', 'VPD_ERA', 'P_ERA', 'PA_ERA',\n",
        "                                'EVI', 'NDVI', 'NIRv', 'b1', 'b2', 'b3', 'b4', 'b5', 'b6', 'b7', \n",
        "                                'BESS-PAR', 'BESS-PARdiff', 'BESS-RSDN', 'CSIF-SIFdaily', 'PET', 'Ts', \n",
        "                                'ESACCI-sm', 'NDWI', 'Percent_Snow', 'Fpar', 'Lai', 'LST_Day','LST_Night'],\n",
        "      time_varying_unknown_categoricals=[\"gap_flag_month\", \"gap_flag_hour\"], \n",
        "      time_varying_unknown_reals=[],\n",
        "      target_normalizer=None,\n",
        "      categorical_encoders={'MODIS_IGBP': NaNLabelEncoder(add_nan=True),\n",
        "                            'koppen_main': NaNLabelEncoder(add_nan=True),\n",
        "                            'koppen_sub': NaNLabelEncoder(add_nan=True),\n",
        "                            'year': NaNLabelEncoder(add_nan=True),\n",
        "                            },\n",
        "      add_relative_time_idx=True,\n",
        "      add_target_scales=False, # <------- turned off\n",
        "      add_encoder_length=False, # <------- turned off\n",
        "    )\n",
        "\n",
        "    validation = TimeSeriesDataSet.from_dataset(training, val_df, predict=False, stop_randomization=True)\n",
        "    \n",
        "    if test_df is not None:\n",
        "        testing = TimeSeriesDataSet.from_dataset(training, test_df, predict=False, stop_randomization=True)\n",
        "    else:\n",
        "        testing = None\n",
        "\n",
        "    return (training, validation, testing)\n",
        "\n",
        "# Eval Functions\n",
        "def nash_sutcliffe(observed_values, predicted_values):\n",
        "    numerator = torch.sum((observed_values - predicted_values)**2)\n",
        "    denominator = torch.sum((observed_values - torch.mean(observed_values))**2)\n",
        "    nse_val = 1 - (numerator / denominator)\n",
        "    return nse_val\n",
        "\n",
        "def numpy_normalised_quantile_loss(y, y_pred, quantile):\n",
        "    \"\"\"Computes normalised quantile loss for numpy arrays.\n",
        "    ref: https://github.com/google-research/google-research/blob/master/tft/script_train_fixed_params.py\n",
        "    Uses the q-Risk metric as defined in the \"Training Procedure\" section of the main TFT paper.\n",
        "    Args:\n",
        "    y: Targets\n",
        "    y_pred: Predictions\n",
        "    quantile: Quantile to use for loss calculations (between 0 & 1)\n",
        "    Returns:\n",
        "    Float for normalised quantile loss.\n",
        "    \"\"\"\n",
        "    prediction_underflow = y - y_pred\n",
        "    weighted_errors = quantile * np.maximum(prediction_underflow, 0.) \\\n",
        "      + (1. - quantile) * np.maximum(-prediction_underflow, 0.)\n",
        "\n",
        "    return 2 * (weighted_errors.mean()) / (y.abs().mean())\n",
        "\n",
        "\n",
        "def get_eval_mask(dataloader):\n",
        "    return torch.logical_not(torch.cat([x['decoder_cont'][:, :, -1].reshape(-1) for x, y in iter(dataloader)]))\n",
        "\n",
        "def get_eval_metrics(y_true, y_pred, mask=None, p90_pred=None):    \n",
        "    # Apply mask if there is any\n",
        "    if mask is not None:            \n",
        "        y_true = y_true[mask.bool()]\n",
        "        y_pred = y_pred[mask.bool()]\n",
        "        if p90_pred is not None:\n",
        "            p90_pred = p90_pred[mask.bool()]\n",
        "\n",
        "    rmse = torch.sqrt(torch.mean((y_true - y_pred) ** 2))\n",
        "    mae = torch.mean((y_true - y_pred).abs())\n",
        "    nse = nash_sutcliffe(y_true, y_pred)\n",
        "    r2 = r2_score(y_true.numpy(), y_pred.numpy())\n",
        "    p50_loss = numpy_normalised_quantile_loss(y_true, y_pred, 0.5)\n",
        "    evals = {\"rmse\": rmse.item(), \"mae\": mae.item(), \"nse\": nse.item(), \"r2\": r2, \"p50_loss\": p50_loss.item()}\n",
        "\n",
        "    if p90_pred is not None:\n",
        "        p90_loss = numpy_normalised_quantile_loss(y_true, p90_pred, 0.9)\n",
        "        evals[\"p90_loss\"] = p90_loss.item()\n",
        "    \n",
        "    return evals\n",
        "\n",
        "# Mask metrics for validation set\n",
        "def masked_eval_metrics(dataloader, model):\n",
        "    # Get y_true, y_pred, mask\n",
        "    y_true = torch.cat([y[0] for x, y in iter(dataloader)]).reshape(-1)\n",
        "    y_pred = model.predict(dataloader).reshape(-1)\n",
        "    mask = torch.logical_not(torch.cat([x['decoder_cont'][:, :, -1].reshape(-1) for x, y in iter(dataloader)]))\n",
        "\n",
        "    # Apply mask\n",
        "    masked_y_true = y_true[mask.bool()]\n",
        "    masked_y_pred = y_pred[mask.bool()]\n",
        "\n",
        "    # Get masked RMSE, MAE, NSE\n",
        "    masked_rmse = torch.sqrt(torch.mean((masked_y_true - masked_y_pred) ** 2))\n",
        "    masked_mae = torch.mean((masked_y_true - masked_y_pred).abs())\n",
        "    masked_nse = nash_sutcliffe(masked_y_true.reshape(-1).numpy(), masked_y_pred.reshape(-1).numpy())\n",
        "    masked_r2 = r2_score(masked_y_true.reshape(-1).numpy(), masked_y_pred.reshape(-1).numpy())\n",
        "\n",
        "    return masked_rmse, masked_mae, masked_nse, masked_r2\n",
        "\n",
        "# Custom Hyperparameter Optimizer\n",
        "# ref: https://pytorch-forecasting.readthedocs.io/en/stable/_modules/pytorch_forecasting/models/temporal_fusion_transformer/tuning.html#optimize_hyperparameters\n",
        "\n",
        "optuna_logger = logging.getLogger(\"optuna\")\n",
        "\n",
        "class MetricsCallback(Callback):\n",
        "    \"\"\"PyTorch Lightning metric callback.\"\"\"\n",
        "\n",
        "    def __init__(self):\n",
        "        super().__init__()\n",
        "        self.metrics = []\n",
        "\n",
        "    def on_validation_end(self, trainer, pl_module):\n",
        "        self.metrics.append(trainer.callback_metrics)\n",
        "        \n",
        "def custom_optimize_hyperparameters(\n",
        "    train_dataloaders: DataLoader,\n",
        "    val_dataloaders: DataLoader,\n",
        "    model_path: str,\n",
        "    max_epochs: int = 20,\n",
        "    n_trials: int = 100,\n",
        "    timeout: float = 3600 * 8.0,  # 8 hours\n",
        "    gradient_clip_val_range: Tuple[float, float] = (0.01, 100.0),\n",
        "    hidden_size_range: Tuple[int, int] = (16, 265),\n",
        "    hidden_continuous_size_range: Tuple[int, int] = (8, 64),\n",
        "    attention_head_size_range: Tuple[int, int] = (1, 4),\n",
        "    dropout_range: Tuple[float, float] = (0.1, 0.3),\n",
        "    learning_rate_range: Tuple[float, float] = (1e-5, 1.0),\n",
        "    use_learning_rate_finder: bool = True,\n",
        "    trainer_kwargs: Dict[str, Any] = {},\n",
        "    trainer_callbacks: List[Callback] = None,\n",
        "    log_dir: str = \"lightning_logs\",\n",
        "    study: optuna.Study = None,\n",
        "    verbose: Union[int, bool] = None,\n",
        "    pruner: optuna.pruners.BasePruner = optuna.pruners.SuccessiveHalvingPruner(),\n",
        "    **kwargs,\n",
        ") -> optuna.Study:\n",
        "    \"\"\"\n",
        "    Optimize Temporal Fusion Transformer hyperparameters.\n",
        "\n",
        "    Run hyperparameter optimization. Learning rate for is determined with\n",
        "    the PyTorch Lightning learning rate finder.\n",
        "\n",
        "    Args:\n",
        "        train_dataloaders (DataLoader): dataloader for training model\n",
        "        val_dataloaders (DataLoader): dataloader for validating model\n",
        "        model_path (str): folder to which model checkpoints are saved\n",
        "        max_epochs (int, optional): Maximum number of epochs to run training. Defaults to 20.\n",
        "        n_trials (int, optional): Number of hyperparameter trials to run. Defaults to 100.\n",
        "        timeout (float, optional): Time in seconds after which training is stopped regardless of number of epochs\n",
        "            or validation metric. Defaults to 3600*8.0.\n",
        "        hidden_size_range (Tuple[int, int], optional): Minimum and maximum of ``hidden_size`` hyperparameter. Defaults\n",
        "            to (16, 265).\n",
        "        hidden_continuous_size_range (Tuple[int, int], optional):  Minimum and maximum of ``hidden_continuous_size``\n",
        "            hyperparameter. Defaults to (8, 64).\n",
        "        attention_head_size_range (Tuple[int, int], optional):  Minimum and maximum of ``attention_head_size``\n",
        "            hyperparameter. Defaults to (1, 4).\n",
        "        dropout_range (Tuple[float, float], optional):  Minimum and maximum of ``dropout`` hyperparameter. Defaults to\n",
        "            (0.1, 0.3).\n",
        "        learning_rate_range (Tuple[float, float], optional): Learning rate range. Defaults to (1e-5, 1.0).\n",
        "        use_learning_rate_finder (bool): If to use learning rate finder or optimize as part of hyperparameters.\n",
        "            Defaults to True.\n",
        "        trainer_kwargs (Dict[str, Any], optional): Additional arguments to the\n",
        "            `PyTorch Lightning trainer <https://pytorch-lightning.readthedocs.io/en/latest/trainer.html>`_ such\n",
        "            as ``limit_train_batches``. Defaults to {}.\n",
        "        trainer_callbacks ( List[Callback], optiona) Early stoppping option for trainer.\n",
        "        log_dir (str, optional): Folder into which to log results for tensorboard. Defaults to \"lightning_logs\".\n",
        "        study (optuna.Study, optional): study to resume. Will create new study by default.\n",
        "        verbose (Union[int, bool]): level of verbosity.\n",
        "            * None: no change in verbosity level (equivalent to verbose=1 by optuna-set default).\n",
        "            * 0 or False: log only warnings.\n",
        "            * 1 or True: log pruning events.\n",
        "            * 2: optuna logging level at debug level.\n",
        "            Defaults to None.\n",
        "        pruner (optuna.pruners.BasePruner, optional): The optuna pruner to use.\n",
        "            Defaults to optuna.pruners.SuccessiveHalvingPruner().\n",
        "\n",
        "        **kwargs: Additional arguments for the :py:class:`~TemporalFusionTransformer`.\n",
        "\n",
        "    Returns:\n",
        "        optuna.Study: optuna study results\n",
        "    \"\"\"\n",
        "    assert isinstance(train_dataloaders.dataset, TimeSeriesDataSet) and isinstance(\n",
        "        val_dataloaders.dataset, TimeSeriesDataSet\n",
        "    ), \"dataloaders must be built from timeseriesdataset\"\n",
        "\n",
        "    logging_level = {\n",
        "        None: optuna.logging.get_verbosity(),\n",
        "        0: optuna.logging.WARNING,\n",
        "        1: optuna.logging.INFO,\n",
        "        2: optuna.logging.DEBUG,\n",
        "    }\n",
        "    optuna_verbose = logging_level[verbose]\n",
        "    optuna.logging.set_verbosity(optuna_verbose)\n",
        "\n",
        "    loss = kwargs.get(\n",
        "        \"loss\", QuantileLoss()\n",
        "    )  # need a deepcopy of loss as it will otherwise propagate from one trial to the next\n",
        "\n",
        "    # create objective function\n",
        "    def objective(trial: optuna.Trial) -> float:\n",
        "        # Filenames for each trial must be made unique in order to access each checkpoint.\n",
        "        checkpoint_callback = pl.callbacks.ModelCheckpoint(\n",
        "            dirpath=os.path.join(model_path, \"trial_{}\".format(trial.number)), filename=\"{epoch}\", monitor=\"val_loss\"\n",
        "        )\n",
        "\n",
        "        # The default logger in PyTorch Lightning writes to event files to be consumed by\n",
        "        # TensorBoard. We don't use any logger here as it requires us to implement several abstract\n",
        "        # methods. Instead we setup a simple callback, that saves metrics from each validation step.\n",
        "        metrics_callback = MetricsCallback()\n",
        "        learning_rate_callback = LearningRateMonitor()\n",
        "        logger = TensorBoardLogger(log_dir, name=\"optuna\", version=trial.number)\n",
        "        gradient_clip_val = trial.suggest_loguniform(\"gradient_clip_val\", *gradient_clip_val_range)\n",
        "        default_trainer_kwargs = dict(\n",
        "            gpus=[0] if torch.cuda.is_available() else None,\n",
        "            max_epochs=max_epochs,\n",
        "            gradient_clip_val=gradient_clip_val,\n",
        "            callbacks=[\n",
        "                metrics_callback,\n",
        "                learning_rate_callback,\n",
        "                checkpoint_callback,\n",
        "                PyTorchLightningPruningCallback(trial, monitor=\"val_loss\"),\n",
        "            ],\n",
        "            logger=logger,\n",
        "            enable_progress_bar=optuna_verbose < optuna.logging.INFO,\n",
        "            enable_model_summary=[False, True][optuna_verbose < optuna.logging.INFO],\n",
        "        )\n",
        "        if trainer_callbacks is not None:\n",
        "            default_trainer_kwargs['callbacks'] += trainer_callbacks\n",
        "        default_trainer_kwargs.update(trainer_kwargs)\n",
        "        trainer = pl.Trainer(\n",
        "            **default_trainer_kwargs,\n",
        "        )\n",
        "\n",
        "        # create model\n",
        "        hidden_size = trial.suggest_int(\"hidden_size\", *hidden_size_range, log=True)\n",
        "        kwargs[\"loss\"] = copy.deepcopy(loss)\n",
        "        model = TemporalFusionTransformer.from_dataset(\n",
        "            train_dataloaders.dataset,\n",
        "            dropout=trial.suggest_uniform(\"dropout\", *dropout_range),\n",
        "            hidden_size=hidden_size,\n",
        "            hidden_continuous_size=trial.suggest_int(\n",
        "                \"hidden_continuous_size\",\n",
        "                hidden_continuous_size_range[0],\n",
        "                min(hidden_continuous_size_range[1], hidden_size),\n",
        "                log=True,\n",
        "            ),\n",
        "            attention_head_size=trial.suggest_int(\"attention_head_size\", *attention_head_size_range),\n",
        "            log_interval=-1,\n",
        "            **kwargs,\n",
        "        )\n",
        "        # find good learning rate\n",
        "        if use_learning_rate_finder:\n",
        "            lr_trainer = pl.Trainer(\n",
        "                gradient_clip_val=gradient_clip_val,\n",
        "                gpus=[0] if torch.cuda.is_available() else None,\n",
        "                logger=False,\n",
        "                enable_progress_bar=False,\n",
        "                enable_model_summary=False,\n",
        "            )\n",
        "            res = lr_trainer.tuner.lr_find(\n",
        "                model,\n",
        "                train_dataloaders=train_dataloaders,\n",
        "                val_dataloaders=val_dataloaders,\n",
        "                early_stop_threshold=10000,\n",
        "                min_lr=learning_rate_range[0],\n",
        "                num_training=100,\n",
        "                max_lr=learning_rate_range[1],\n",
        "            )\n",
        "\n",
        "            loss_finite = np.isfinite(res.results[\"loss\"])\n",
        "            if loss_finite.sum() > 3:  # at least 3 valid values required for learning rate finder\n",
        "                lr_smoothed, loss_smoothed = sm.nonparametric.lowess(\n",
        "                    np.asarray(res.results[\"loss\"])[loss_finite],\n",
        "                    np.asarray(res.results[\"lr\"])[loss_finite],\n",
        "                    frac=1.0 / 10.0,\n",
        "                )[min(loss_finite.sum() - 3, 10) : -1].T\n",
        "                optimal_idx = np.gradient(loss_smoothed).argmin()\n",
        "                optimal_lr = lr_smoothed[optimal_idx]\n",
        "            else:\n",
        "                optimal_idx = np.asarray(res.results[\"loss\"]).argmin()\n",
        "                optimal_lr = res.results[\"lr\"][optimal_idx]\n",
        "            optuna_logger.info(f\"Using learning rate of {optimal_lr:.3g}\")\n",
        "            # add learning rate artificially\n",
        "            model.hparams.learning_rate = trial.suggest_uniform(\"learning_rate\", optimal_lr, optimal_lr)\n",
        "        else:\n",
        "            model.hparams.learning_rate = trial.suggest_loguniform(\"learning_rate\", *learning_rate_range)\n",
        "\n",
        "        # fit\n",
        "        trainer.fit(model, train_dataloaders=train_dataloaders, val_dataloaders=val_dataloaders)\n",
        "\n",
        "        # report result\n",
        "        return metrics_callback.metrics[-1][\"val_loss\"].item()\n",
        "\n",
        "    # setup optuna and run\n",
        "    if study is None:\n",
        "        study = optuna.create_study(direction=\"minimize\", pruner=pruner)\n",
        "    study.optimize(objective, n_trials=n_trials, timeout=timeout)\n",
        "    return study"
      ],
      "metadata": {
        "id": "9pSCtLQgbggd"
      },
      "execution_count": null,
      "outputs": []
    },
    {
      "cell_type": "code",
      "execution_count": null,
      "metadata": {
        "id": "1iRimJGJsAh7",
        "tags": []
      },
      "outputs": [],
      "source": [
        "import os\n",
        "import sys\n",
        "import warnings\n",
        "warnings.filterwarnings(\"ignore\")\n",
        "import copy\n",
        "import json\n",
        "from pathlib import Path\n",
        "import numpy as np\n",
        "import pandas as pd\n",
        "import matplotlib.pyplot as plt\n",
        "import tensorflow as tf\n",
        "import pytorch_lightning as pl\n",
        "import torch\n",
        "import torch.nn as nn\n",
        "\n",
        "from pytorch_forecasting import Baseline, TemporalFusionTransformer, TimeSeriesDataSet\n",
        "from pytorch_forecasting.data import GroupNormalizer\n",
        "from pytorch_forecasting.metrics import SMAPE, PoissonLoss, QuantileLoss\n",
        "from pytorch_forecasting.models.temporal_fusion_transformer.tuning import optimize_hyperparameters\n",
        "from pytorch_forecasting import BaseModel, MAE\n",
        "from pytorch_forecasting.metrics.point import RMSE\n",
        "from pytorch_forecasting.data.encoders import NaNLabelEncoder\n",
        "\n",
        "from sklearn.metrics import r2_score\n",
        "from timeit import default_timer\n",
        "from datetime import datetime\n",
        "import gc\n",
        "import pickle\n",
        "\n",
        "# Load locale custome modules\n",
        "os.chdir(MY_HOME_ABS_PATH)\n",
        "if IN_COLLAB:\n",
        "     sys.path.insert(0,os.path.abspath(\"./code/src/tools\"))\n",
        "else:\n",
        "    sys.path.append('./cred')\n",
        "    sys.path.append('./code/src/tools')\n",
        "    sys.path.append(os.path.abspath(\"./code/src/tools\"))\n",
        "\n",
        "# from CloudIO.AzStorageClient import AzStorageClient\n",
        "import AzStorageClient as AzStorageClient\n",
        "# from data_pipeline_lib import *\n",
        "# from model_pipeline_lib import *\n",
        "\n",
        "pd.set_option('display.max_columns', None)\n",
        "pd.set_option('display.float_format', lambda x: '%.5f' % x)\n",
        "pl.seed_everything(42)"
      ]
    },
    {
      "cell_type": "markdown",
      "metadata": {
        "id": "5LRk1xhgDrvZ"
      },
      "source": [
        "# Load data from Azure blob"
      ]
    },
    {
      "cell_type": "markdown",
      "metadata": {
        "id": "QEOCHI64ysC2"
      },
      "source": [
        "## Define Local File System Constants"
      ]
    },
    {
      "cell_type": "code",
      "execution_count": null,
      "metadata": {
        "id": "H-AwqUa5sHYq",
        "tags": []
      },
      "outputs": [],
      "source": [
        "root_dir =  MY_HOME_ABS_PATH\n",
        "tmp_dir =  root_dir + os.sep + 'tmp'\n",
        "raw_data_dir = tmp_dir\n",
        "data_dir = root_dir + os.sep + 'data'\n",
        "cred_dir = root_dir + os.sep + 'cred'\n",
        "az_cred_file = cred_dir + os.sep + 'azblobcred.json'\n",
        "model_objects_dir = root_dir + os.sep + 'code/src/modeling/model_objects'"
      ]
    },
    {
      "cell_type": "markdown",
      "metadata": {
        "id": "ES9TafVQyVG7"
      },
      "source": [
        "# Load Train and Test dataset from Azure Storage Blob"
      ]
    },
    {
      "cell_type": "code",
      "execution_count": null,
      "metadata": {
        "id": "pZcOmGLRzAd9",
        "tags": []
      },
      "outputs": [],
      "source": [
        "# Define dataset\n",
        "container = \"all-sites-data\"\n",
        "ext = \"parquet\"\n",
        "ver = \"mvp-v2-knn\"\n",
        "model = \"rfr\"\n",
        "train_blob_name = f\"{model}-full_2010_2015-train-v-{ver}.{ext}\"\n",
        "val_blob_name = f\"{model}-full_2010_2015-val-v-{ver}.{ext}\"\n",
        "test_blob_name = f\"{model}-full_2010_2015-test-v-{ver}.{ext}\""
      ]
    },
    {
      "cell_type": "code",
      "source": [
        "import AzStorageClient as AzStorageClient"
      ],
      "metadata": {
        "id": "tcZy6K7QdowE"
      },
      "execution_count": null,
      "outputs": []
    },
    {
      "cell_type": "code",
      "source": [
        "from azure.storage.blob import BlobServiceClient\n",
        "from collections import defaultdict\n",
        "from io import BytesIO\n",
        "import os.path\n",
        "import json\n",
        "\n",
        "class AzStorageClient:\n",
        "    def __init__(self, cred_file):\n",
        "        self.blob_svc_client = None\n",
        "        self.container_client_list = defaultdict(str)\n",
        "        if os.path.exists(cred_file):\n",
        "            connect_str = \"\"\n",
        "            with open(cred_file, \"rb\") as f:\n",
        "                data = json.load(f)\n",
        "                connect_str = data['connectionstr']\n",
        "                self.blob_svc_client = BlobServiceClient.from_connection_string(connect_str)\n",
        "                tokens = connect_str.split(';')\n",
        "                for t in tokens:\n",
        "                  if \"AccountName=\" in t:\n",
        "                    self.AccountName = t[len(\"AccountName=\"):]\n",
        "                  elif \"AccountKey=\" in t:\n",
        "                    self.AccountKey = t[len(\"AccountKey=\"):]\n",
        "        else:\n",
        "            print(\"ERROR: {cred_file} not found\")\n",
        "    \n",
        "    def getSparkSessionKeys(self):\n",
        "      return [f'fs.azure.account.key.{self.AccountName}.blob.core.windows.net',  self.AccountKey, self.AccountName]\n",
        "\n",
        "    def createContainer(self, container_name):\n",
        "        if self.blob_svc_client:\n",
        "            self.blob_svc_client.create_container(container_name)\n",
        "            print(f\"Container '{container_name}' created.\")\n",
        "        else:\n",
        "            print(\"ERROR: Azure Storage Blob Client does not exist.\")\n",
        "\n",
        "    def listBlobs(self, container_name):\n",
        "        if self.blob_svc_client:\n",
        "            if not self.container_client_list[container_name]:\n",
        "                self.container_client_list[container_name] = self.blob_svc_client.get_container_client(container= container_name)\n",
        "            blob_list = self.container_client_list[container_name].list_blobs()\n",
        "            return blob_list\n",
        "        else:\n",
        "            print(\"ERROR: Azure Storage Blob Client does not exist.\")\n",
        "\n",
        "    def uploadBlob(self, container_name, blob_name, data, overwrite=False, verbose=True):\n",
        "        if self.blob_svc_client:\n",
        "            blob_cleint = self.blob_svc_client.get_blob_client(container=container_name, blob=blob_name)\n",
        "            blob_cleint.upload_blob(data, overwrite=overwrite)\n",
        "            if verbose:\n",
        "                print(f'File uploaded to {container_name}/{blob_name}')\n",
        "        else:\n",
        "            print(\"ERROR: Azure Storage Blob Client does not exist.\")\n",
        "    \n",
        "    def downloadBlob(self, container_name, blob_name):\n",
        "        if self.blob_svc_client:\n",
        "            if not self.container_client_list[container_name]:\n",
        "                self.container_client_list[container_name] = self.blob_svc_client.get_container_client(container= container_name)\n",
        "            \n",
        "            return self.container_client_list[container_name].download_blob(blob_name).readall()\n",
        "        else:\n",
        "            print(\"ERROR: Azure Storage Blob Client does not exist.\")\n",
        "    \n",
        "    def downloadBlob2Stream(self, container_name, blob_name):\n",
        "        if self.blob_svc_client:\n",
        "            if not self.container_client_list[container_name]:\n",
        "                self.container_client_list[container_name] = self.blob_svc_client.get_container_client(container= container_name)\n",
        "            \n",
        "            stream = BytesIO()\n",
        "            self.container_client_list[container_name].download_blob(blob_name).readinto(stream)\n",
        "            return stream\n",
        "        else:\n",
        "            print(\"ERROR: Azure Storage Blob Client does not exist.\")\n",
        "    \n",
        "    def deleteBlob(self, container_name, blob_name, verbose=True):\n",
        "        if self.blob_svc_client:\n",
        "            blob_client = self.blob_svc_client.get_blob_client(container=container_name, blob=blob_name)\n",
        "            blob_client.delete_blob()\n",
        "            if verbose:\n",
        "                print(f'{container_name}/{blob_name} deleted')\n",
        "        else:\n",
        "            print(\"ERROR: Azure Storage Blob Client does not exist.\")\n",
        "    "
      ],
      "metadata": {
        "id": "0Ds94lLqeUBF"
      },
      "execution_count": null,
      "outputs": []
    },
    {
      "cell_type": "code",
      "execution_count": 98,
      "metadata": {
        "id": "UOZGHip0yfGP",
        "tags": []
      },
      "outputs": [],
      "source": [
        "# Load splits from Azure\n",
        "azStorageClient = AzStorageClient(az_cred_file)\n",
        "\n",
        "full_fs = azStorageClient.downloadBlob2Stream(container, 'rfr-full_2010_2015_v_mvp-v2-knn_raw.parquet')\n",
        "full_raw_df = pd.read_parquet(full_fs, engine='pyarrow')\n",
        "# train_fs = azStorageClient.downloadBlob2Stream(container, train_blob_name)\n",
        "# train_df = pd.read_parquet(train_fs, engine='pyarrow')\n",
        "\n",
        "val_fs = azStorageClient.downloadBlob2Stream(container, val_blob_name)\n",
        "val_df = pd.read_parquet(val_fs, engine='pyarrow')\n",
        "\n",
        "test_fs = azStorageClient.downloadBlob2Stream(container, test_blob_name)\n",
        "test_df = pd.read_parquet(test_fs, engine='pyarrow')"
      ]
    },
    {
      "cell_type": "markdown",
      "source": [
        "Drop test site_id from full df"
      ],
      "metadata": {
        "id": "vcxCq0e6YUBM"
      }
    },
    {
      "cell_type": "code",
      "source": [
        "# Drop test_site_id from full_raw_df\n",
        "test_site_id = list(test_df[\"site_id\"].unique())"
      ],
      "metadata": {
        "id": "n4v-EQkwXYQE"
      },
      "execution_count": 99,
      "outputs": []
    },
    {
      "cell_type": "code",
      "source": [
        "no_test_full_raw_df = full_raw_df[~full_raw_df[\"site_id\"].isin(test_site_id)]\n",
        "len(no_test_full_raw_df[\"site_id\"].unique())"
      ],
      "metadata": {
        "colab": {
          "base_uri": "https://localhost:8080/"
        },
        "id": "fVGNuZq_Vp2O",
        "outputId": "3802cf56-e13a-4c9b-a811-bae4db1c2805"
      },
      "execution_count": 100,
      "outputs": [
        {
          "output_type": "execute_result",
          "data": {
            "text/plain": [
              "103"
            ]
          },
          "metadata": {},
          "execution_count": 100
        }
      ]
    },
    {
      "cell_type": "markdown",
      "source": [
        "# Split train+val df to 4 groups"
      ],
      "metadata": {
        "id": "JXQDsXzyaYWE"
      }
    },
    {
      "cell_type": "markdown",
      "source": [
        "Define val_df in the original split as the 1st group"
      ],
      "metadata": {
        "id": "GGwGJf9OZtDV"
      }
    },
    {
      "cell_type": "code",
      "source": [
        "val_site_id = list(val_df[\"site_id\"].unique())"
      ],
      "metadata": {
        "id": "sc8dg_YbZsZG"
      },
      "execution_count": 68,
      "outputs": []
    },
    {
      "cell_type": "code",
      "source": [
        "group1_id = val_site_id"
      ],
      "metadata": {
        "id": "8bamjH59aBAK"
      },
      "execution_count": 101,
      "outputs": []
    },
    {
      "cell_type": "code",
      "source": [
        "# drop group 1 from full df to split to the rest of the three groups\n",
        "train_raw_df = no_test_full_raw_df[~no_test_full_raw_df[\"site_id\"].isin(val_site_id)]\n",
        "len(train_raw_df[\"site_id\"].unique())"
      ],
      "metadata": {
        "colab": {
          "base_uri": "https://localhost:8080/"
        },
        "id": "1fppN66FabrJ",
        "outputId": "3958776a-977a-41cf-a198-4eea8ba8db91"
      },
      "execution_count": 75,
      "outputs": [
        {
          "output_type": "execute_result",
          "data": {
            "text/plain": [
              "77"
            ]
          },
          "metadata": {},
          "execution_count": 75
        }
      ]
    },
    {
      "cell_type": "code",
      "source": [
        "site_metadata_filename = '/content/drive/MyDrive/TFT_baseline/co2-flux-hourly-gpp-modeling/data/'+ 'site-metadata.csv'"
      ],
      "metadata": {
        "id": "nZNrPXUnT_jp"
      },
      "execution_count": null,
      "outputs": []
    },
    {
      "cell_type": "code",
      "source": [
        "# Load Site data\n",
        "site_metadata_df = pd.read_csv(site_metadata_filename, usecols=['site_id', 'filename', 'IGBP'])\n",
        "\n",
        "# only focus on target sites\n",
        "print(f\"size:{site_metadata_df.shape}\")\n",
        "site_metadata_df.dropna(inplace=True)\n",
        "\n",
        "# Group IGBP\n",
        "print(site_metadata_df.IGBP.unique())\n",
        "site_metadata_df['gen_IGBP'] = site_metadata_df['IGBP']\n",
        "site_metadata_df['gen_IGBP'].replace('WSA', 'SAV', inplace=True)\n",
        "site_metadata_df['gen_IGBP'].replace('CSH', 'SHB', inplace=True)\n",
        "site_metadata_df['gen_IGBP'].replace('OSH', 'SHB', inplace=True)\n",
        "site_metadata_df.drop(site_metadata_df[site_metadata_df['gen_IGBP'] == 'WAT'].index, inplace = True)\n",
        "print(site_metadata_df.gen_IGBP.unique())\n",
        "\n",
        "# Get available sites in the datasets\n",
        "available_sites = train_raw_df['site_id'].unique()\n",
        "site_data_df = site_metadata_df.loc[site_metadata_df['site_id'].isin(available_sites)]\n",
        "print(f\"available sites: {site_data_df.shape}\")\n",
        "\n",
        "# Conduct k-fold splitting\n",
        "from sklearn.model_selection import StratifiedKFold\n",
        "n = 3\n",
        "skf = StratifiedKFold(n_splits=n, shuffle=True, random_state=42) # Add random state for reproducibility\n",
        "folds = skf.split(site_data_df['site_id'], site_data_df['gen_IGBP'])\n",
        "\n",
        "site_splits = []\n",
        "\n",
        "for i, (train_index, test_index) in enumerate(folds):\n",
        "  print(f\"Fold {i+1}:\")\n",
        "  data_df = site_data_df[['site_id', 'gen_IGBP']].iloc[test_index]\n",
        "  sites = list(data_df.site_id.unique())\n",
        "  print(f\"  Count={test_index.shape}\")\n",
        "  print(f\"  IGBP ={np.sort(data_df.gen_IGBP.unique())}\")\n",
        "  print(f\"  Sites={sites}\")\n",
        "  print(\"\")\n",
        "\n",
        "  site_splits.append(sites)\n",
        "\n",
        "# print all sites\n",
        "print(site_splits)"
      ],
      "metadata": {
        "colab": {
          "base_uri": "https://localhost:8080/"
        },
        "id": "iJzBG9RJT3oI",
        "outputId": "fa159e2f-87ce-425f-8710-73e60ee43769"
      },
      "execution_count": 77,
      "outputs": [
        {
          "output_type": "stream",
          "name": "stdout",
          "text": [
            "size:(286, 3)\n",
            "['MF' 'ENF' 'GRA' 'SAV' 'WSA' 'EBF' 'WET' 'DBF' 'OSH' 'CRO' 'CSH' 'WAT']\n",
            "['MF' 'ENF' 'GRA' 'SAV' 'EBF' 'WET' 'DBF' 'SHB' 'CRO']\n",
            "available sites: (77, 4)\n",
            "Fold 1:\n",
            "  Count=(26,)\n",
            "  IGBP =['CRO' 'DBF' 'EBF' 'ENF' 'GRA' 'MF' 'SAV' 'SHB' 'WET']\n",
            "  Sites=['AR-SLu', 'AT-Neu', 'AU-RDF', 'CA-TP3', 'CA-TPD', 'DE-SfN', 'DE-Spw', 'FR-Pue', 'IT-CA3', 'US-WCr', 'CA-TP4', 'US-AR2', 'US-ARM', 'US-CRT', 'US-KFS', 'US-Prr', 'US-Rws', 'US-SRG', 'US-Vcm', 'US-Wjs', 'BE-Vie', 'CZ-RAJ', 'DE-Obe', 'FR-Fon', 'FR-Lam', 'SE-Htm']\n",
            "\n",
            "Fold 2:\n",
            "  Count=(26,)\n",
            "  IGBP =['CRO' 'DBF' 'EBF' 'ENF' 'GRA' 'MF' 'SAV' 'SHB' 'WET']\n",
            "  Sites=['AR-Vir', 'AU-DaS', 'AU-Wom', 'CN-Sw2', 'IT-CA1', 'IT-Ro2', 'US-IB2', 'US-Me6', 'US-Myb', 'US-SRM', 'US-Wkg', 'CA-Ca2', 'CA-Cbo', 'US-Ro1', 'US-UMB', 'US-Vcp', 'BE-Bra', 'BE-Dor', 'CH-Cha', 'CH-Lae', 'CZ-KrP', 'ES-LJu', 'IT-Lav', 'SE-Ros', 'DE-Hte', 'SE-Lnn']\n",
            "\n",
            "Fold 3:\n",
            "  Count=(25,)\n",
            "  IGBP =['CRO' 'DBF' 'EBF' 'ENF' 'GRA' 'MF' 'SAV' 'SHB' 'WET']\n",
            "  Sites=['AU-ASM', 'AU-Cum', 'AU-TTE', 'CA-TP1', 'CZ-BK2', 'IT-Noe', 'IT-SRo', 'NL-Hor', 'US-Syv', 'US-WPT', 'CA-Ca3', 'US-Fmf', 'US-Tw4', 'US-UMd', 'BE-Lon', 'CZ-BK1', 'CZ-Stn', 'DE-Geb', 'DE-HoH', 'DE-Kli', 'DE-RuR', 'ES-LM2', 'FI-Let', 'IL-Yat', 'IT-Tor']\n",
            "\n",
            "[['AR-SLu', 'AT-Neu', 'AU-RDF', 'CA-TP3', 'CA-TPD', 'DE-SfN', 'DE-Spw', 'FR-Pue', 'IT-CA3', 'US-WCr', 'CA-TP4', 'US-AR2', 'US-ARM', 'US-CRT', 'US-KFS', 'US-Prr', 'US-Rws', 'US-SRG', 'US-Vcm', 'US-Wjs', 'BE-Vie', 'CZ-RAJ', 'DE-Obe', 'FR-Fon', 'FR-Lam', 'SE-Htm'], ['AR-Vir', 'AU-DaS', 'AU-Wom', 'CN-Sw2', 'IT-CA1', 'IT-Ro2', 'US-IB2', 'US-Me6', 'US-Myb', 'US-SRM', 'US-Wkg', 'CA-Ca2', 'CA-Cbo', 'US-Ro1', 'US-UMB', 'US-Vcp', 'BE-Bra', 'BE-Dor', 'CH-Cha', 'CH-Lae', 'CZ-KrP', 'ES-LJu', 'IT-Lav', 'SE-Ros', 'DE-Hte', 'SE-Lnn'], ['AU-ASM', 'AU-Cum', 'AU-TTE', 'CA-TP1', 'CZ-BK2', 'IT-Noe', 'IT-SRo', 'NL-Hor', 'US-Syv', 'US-WPT', 'CA-Ca3', 'US-Fmf', 'US-Tw4', 'US-UMd', 'BE-Lon', 'CZ-BK1', 'CZ-Stn', 'DE-Geb', 'DE-HoH', 'DE-Kli', 'DE-RuR', 'ES-LM2', 'FI-Let', 'IL-Yat', 'IT-Tor']]\n"
          ]
        }
      ]
    },
    {
      "cell_type": "code",
      "source": [
        "# Define the rest of the four groups\n",
        "group2_id, group3_id, group4_id  = site_splits[0],  site_splits[1],  site_splits[2]"
      ],
      "metadata": {
        "id": "TokxCyl8bXsK"
      },
      "execution_count": 103,
      "outputs": []
    },
    {
      "cell_type": "markdown",
      "source": [
        "# Redefine Transformation Function"
      ],
      "metadata": {
        "id": "uKx3JSvBcbZG"
      }
    },
    {
      "cell_type": "code",
      "source": [
        "def add_dummy_var(df,categorical_cols):\n",
        "   dummy_df = pd.get_dummies(df[categorical_cols])\n",
        "   df = df.drop(columns=categorical_cols)\n",
        "   df = pd.concat([df, dummy_df], axis=1)\n",
        "   return df"
      ],
      "metadata": {
        "id": "3aP0WAfhumIZ"
      },
      "execution_count": 166,
      "outputs": []
    },
    {
      "cell_type": "code",
      "source": [
        "def data_transform_forCV(full_raw_df, train_site_id, val_site_id, test_site_id,\n",
        "                         categorical_cols, realNum_cols, cat_encode_type='label'):\n",
        "    # Encode the categorical columns\n",
        "    if cat_encode_type == 'label':\n",
        "      full_raw_df[categorical_cols] = full_raw_df[categorical_cols].apply(LabelEncoder().fit_transform)\n",
        "    elif cat_encode_type == 'dummy':\n",
        "      full_raw_df = add_dummy_var(full_raw_df,categorical_cols)\n",
        "\n",
        "    train_df = full_raw_df.loc[full_raw_df['site_id'].isin(train_site_id), ].copy()\n",
        "    val_df = full_raw_df.loc[full_raw_df['site_id'].isin(val_site_id), ].copy()\n",
        "    test_df  = full_raw_df.loc[full_raw_df['site_id'].isin(test_site_id), ].copy()\n",
        "    print(f\"Number of sites in df: {len(full_raw_df['site_id'].unique())}\")\n",
        "\n",
        "    print(f\"Data size after encoding: {train_df.shape}\")  \n",
        "    print(f\"Data size after encoding: {val_df.shape}\")\n",
        "    print(f\"Data size after encoding: {test_df.shape}\")\n",
        "\n",
        "      \n",
        "    print(f\"Train Sites: {train_df['site_id'].unique()}\")\n",
        "    print(f\"Val Sites: {val_df['site_id'].unique()}\")\n",
        "    print(f\"Test Sites: {test_df['site_id'].unique()}\")\n",
        "\n",
        "    # Normalize data\n",
        "    print(f\"Normalizing real features ({len(realNum_cols)})\")\n",
        "    scaler = StandardScaler().fit(train_df[realNum_cols])\n",
        "    train_df.loc[:,realNum_cols] = scaler.transform(train_df[realNum_cols])\n",
        "    val_df.loc[:,realNum_cols] = scaler.transform(val_df[realNum_cols])\n",
        "    test_df.loc[:,realNum_cols] = scaler.transform(test_df[realNum_cols])\n",
        "\n",
        "    print(f\"Train data size: {train_df.shape}.\")\n",
        "    print(f\"Val data size: {val_df.shape}.\")\n",
        "    print(f\"Test data size: {test_df.shape}.\")  \n",
        "    train_df.reset_index(inplace=True, drop=True)\n",
        "    val_df.reset_index(inplace=True, drop=True)\n",
        "    test_df.reset_index(inplace=True, drop=True)\n",
        "\n",
        "    # Drop unnecessary features\n",
        "    X_train, y_train, X_val, y_val, X_test, y_test = drop_unneeded_var(train_df, val_df, test_df)\n",
        "  \n",
        "    return X_train, y_train, X_val, y_val, X_test, y_test\n"
      ],
      "metadata": {
        "id": "xIxvNSXuduTC"
      },
      "execution_count": 202,
      "outputs": []
    },
    {
      "cell_type": "code",
      "source": [
        "msc_features = ['TA_ERA', 'SW_IN_ERA', 'P_ERA', 'EVI', 'NDVI', 'NIRv', 'b4']\n",
        "categorical_cols = ['c3c4', 'koppen_sub', 'koppen_main', 'month', 'day', 'hour', \n",
        "                    'MODIS_PFT', 'MODIS_LC', 'MODIS_IGBP', 'hemisphere_NS', 'lat_band']\n",
        "realNum_cols = ['TA_ERA', 'SW_IN_ERA', 'LW_IN_ERA', 'VPD_ERA', 'P_ERA', 'PA_ERA', \n",
        "                'EVI', 'NDVI', 'NIRv', 'b1', 'b2', 'b3', 'b4', 'b5', 'b6', 'b7',\n",
        "                'c4_percent', 'BESS-PAR', 'BESS-PARdiff', 'BESS-RSDN', 'CSIF-SIFdaily',\n",
        "                'PET', 'Ts', 'ESACCI-sm', 'NDWI', 'Percent_Snow', 'Fpar', 'Lai',\n",
        "                'LST_Day', 'LST_Night', 'prcp', 'prcp-lag3'] + \\\n",
        "                [f\"{feat}{ext}\" for feat in msc_features for ext in [\"_szn_mean\", \"_amp_msc\", \"_min_msc\"]]"
      ],
      "metadata": {
        "id": "VhInEzhonYAI"
      },
      "execution_count": 203,
      "outputs": []
    },
    {
      "cell_type": "code",
      "source": [
        "# Prep x, y dataset for train\n",
        "target_variable = 'GPP_NT_VUT_REF'\n",
        "drop_cols = ['site_id', 'timestep_idx_local', 'timestep_idx_global', 'index', \n",
        "             'datetime','gap_flag_hour', 'gap_flag_month','date']\n",
        "            #  'c3c4', 'c4_percent']# add date\n"
      ],
      "metadata": {
        "id": "bGQGhDkPnW5G"
      },
      "execution_count": 209,
      "outputs": []
    },
    {
      "cell_type": "code",
      "source": [
        "# Prep x, y dataset for train\n",
        "def drop_unneeded_var(train_df, val_df, test_df):\n",
        "  X_train = train_df.drop([target_variable] + drop_cols, axis=1)\n",
        "  y_train = train_df[target_variable]\n",
        "  X_val = val_df.drop([target_variable] + drop_cols, axis=1)\n",
        "  y_val = val_df[target_variable]\n",
        "  X_test = test_df.drop([target_variable] + drop_cols, axis=1)\n",
        "  y_test = test_df[target_variable]\n",
        "  return X_train, y_train, X_val, y_val, X_test, y_test"
      ],
      "metadata": {
        "id": "dm9529YBnU9o"
      },
      "execution_count": 210,
      "outputs": []
    },
    {
      "cell_type": "markdown",
      "source": [
        "# Create CV dataset"
      ],
      "metadata": {
        "id": "q3DFaT01h6Su"
      }
    },
    {
      "cell_type": "code",
      "source": [
        "# Assign data to 4 groups\n",
        "cv1_val_site_list = group1_id\n",
        "cv1_train_site_list = group2_id + group3_id +group4_id\n",
        "\n",
        "cv2_val_site_list = group2_id\n",
        "cv2_train_site_list = group1_id + group3_id +group4_id\n",
        "\n",
        "cv3_val_site_list = group3_id\n",
        "cv3_train_site_list = group2_id + group1_id +group4_id\n",
        "\n",
        "cv4_val_site_list = group4_id\n",
        "cv4_train_site_list = group2_id + group3_id +group1_id"
      ],
      "metadata": {
        "id": "yjSYHtUjh56V"
      },
      "execution_count": 211,
      "outputs": []
    },
    {
      "cell_type": "code",
      "source": [
        "full_raw_df.columns"
      ],
      "metadata": {
        "colab": {
          "base_uri": "https://localhost:8080/"
        },
        "id": "sfqMUfKn0z7y",
        "outputId": "70e3cf6d-f881-498f-901c-7585b55cecfa"
      },
      "execution_count": 212,
      "outputs": [
        {
          "output_type": "execute_result",
          "data": {
            "text/plain": [
              "Index(['GPP_NT_VUT_REF', 'site_id', 'timestep_idx_local',\n",
              "       'timestep_idx_global', 'datetime', 'date', 'month', 'day', 'hour',\n",
              "       'index', 'TA_ERA', 'SW_IN_ERA', 'LW_IN_ERA', 'VPD_ERA', 'P_ERA',\n",
              "       'PA_ERA', 'EVI', 'NDVI', 'NIRv', 'b1', 'b2', 'b3', 'b4', 'b5', 'b6',\n",
              "       'b7', 'TA_ERA_szn_mean', 'TA_ERA_amp_msc', 'TA_ERA_min_msc',\n",
              "       'SW_IN_ERA_szn_mean', 'SW_IN_ERA_amp_msc', 'SW_IN_ERA_min_msc',\n",
              "       'P_ERA_szn_mean', 'P_ERA_amp_msc', 'P_ERA_min_msc', 'EVI_szn_mean',\n",
              "       'EVI_amp_msc', 'EVI_min_msc', 'NDVI_szn_mean', 'NDVI_amp_msc',\n",
              "       'NDVI_min_msc', 'NIRv_szn_mean', 'NIRv_amp_msc', 'NIRv_min_msc',\n",
              "       'b4_szn_mean', 'b4_amp_msc', 'b4_min_msc', 'prcp_week_sum',\n",
              "       'prcp_month_sum', 'koppen_sub', 'koppen_main', 'c3c4', 'c4_percent',\n",
              "       'hemisphere_NS', 'lat_band', 'BESS-PAR', 'BESS-PARdiff', 'BESS-RSDN',\n",
              "       'CSIF-SIFdaily', 'PET', 'Ts', 'prcp', 'prcp-lag3', 'ESACCI-sm',\n",
              "       'MODIS_LC', 'NDWI', 'Percent_Snow', 'Fpar', 'Lai', 'LST_Day',\n",
              "       'LST_Night', 'MODIS_IGBP', 'MODIS_PFT', 'gap_flag_hour',\n",
              "       'gap_flag_month'],\n",
              "      dtype='object')"
            ]
          },
          "metadata": {},
          "execution_count": 212
        }
      ]
    },
    {
      "cell_type": "code",
      "source": [
        "test_site_id"
      ],
      "metadata": {
        "colab": {
          "base_uri": "https://localhost:8080/"
        },
        "id": "PqXlfbGqjfDE",
        "outputId": "9fee2fe6-0a40-4605-eeb2-c10cbcdea17c"
      },
      "execution_count": 213,
      "outputs": [
        {
          "output_type": "execute_result",
          "data": {
            "text/plain": [
              "['AU-Stp',\n",
              " 'AU-Whr',\n",
              " 'CA-Oas',\n",
              " 'CH-Dav',\n",
              " 'CZ-Lnz',\n",
              " 'CZ-wet',\n",
              " 'DE-Gri',\n",
              " 'DE-Lnf',\n",
              " 'DE-Tha',\n",
              " 'ES-Amo',\n",
              " 'ES-LM1',\n",
              " 'FI-Sod',\n",
              " 'FR-Bil',\n",
              " 'FR-FBn',\n",
              " 'IT-BCi',\n",
              " 'IT-CA2',\n",
              " 'IT-MBo',\n",
              " 'IT-Ren',\n",
              " 'RU-Fyo',\n",
              " 'US-Ho1',\n",
              " 'US-Oho',\n",
              " 'US-Seg',\n",
              " 'US-Ton',\n",
              " 'US-Var',\n",
              " 'US-Whs']"
            ]
          },
          "metadata": {},
          "execution_count": 213
        }
      ]
    },
    {
      "cell_type": "markdown",
      "source": [
        "# Data Transformation"
      ],
      "metadata": {
        "id": "1Zw6yAHikSr2"
      }
    },
    {
      "cell_type": "code",
      "source": [
        "print(\"--CV1------------------------------------------------------------------------------\")\n",
        "X_train_cv1, y_train_cv1, X_val_cv1, y_val_cv1, X_test_cv1, y_test_cv1 = data_transform_forCV(full_raw_df,\n",
        "                                                                                              cv1_train_site_list,\n",
        "                                                                                              cv1_val_site_list,\n",
        "                                                                                              test_site_id,\n",
        "                                                                                              categorical_cols, \n",
        "                                                                                              realNum_cols,\n",
        "                                                                                              cat_encode_type='dummy')\n"
      ],
      "metadata": {
        "colab": {
          "base_uri": "https://localhost:8080/"
        },
        "id": "98F-p5TQkSFj",
        "outputId": "93201a2b-1d23-429c-8380-e62593f3c2cd"
      },
      "execution_count": 214,
      "outputs": [
        {
          "output_type": "stream",
          "name": "stdout",
          "text": [
            "--CV1------------------------------------------------------------------------------\n",
            "Number of sites in df: 128\n",
            "Data size after encoding: (2636448, 103)\n",
            "Data size after encoding: (1001184, 103)\n",
            "Data size after encoding: (940056, 103)\n",
            "Train Sites: ['AR-SLu' 'AR-Vir' 'AT-Neu' 'AU-ASM' 'AU-Cum' 'AU-DaS' 'AU-RDF' 'AU-TTE'\n",
            " 'AU-Wom' 'BE-Bra' 'BE-Dor' 'BE-Lon' 'BE-Vie' 'CA-Ca2' 'CA-Ca3' 'CA-Cbo'\n",
            " 'CA-TP1' 'CA-TP3' 'CA-TP4' 'CA-TPD' 'CH-Cha' 'CH-Lae' 'CN-Sw2' 'CZ-BK1'\n",
            " 'CZ-BK2' 'CZ-KrP' 'CZ-RAJ' 'CZ-Stn' 'DE-Geb' 'DE-HoH' 'DE-Hte' 'DE-Kli'\n",
            " 'DE-Obe' 'DE-RuR' 'DE-SfN' 'DE-Spw' 'ES-LJu' 'ES-LM2' 'FI-Let' 'FR-Fon'\n",
            " 'FR-Lam' 'FR-Pue' 'IL-Yat' 'IT-CA1' 'IT-CA3' 'IT-Lav' 'IT-Noe' 'IT-Ro2'\n",
            " 'IT-SRo' 'IT-Tor' 'NL-Hor' 'SE-Htm' 'SE-Lnn' 'SE-Ros' 'US-AR2' 'US-ARM'\n",
            " 'US-CRT' 'US-Fmf' 'US-IB2' 'US-KFS' 'US-Me6' 'US-Myb' 'US-Prr' 'US-Ro1'\n",
            " 'US-Rws' 'US-SRG' 'US-SRM' 'US-Syv' 'US-Tw4' 'US-UMB' 'US-UMd' 'US-Vcm'\n",
            " 'US-Vcp' 'US-WCr' 'US-WPT' 'US-Wjs' 'US-Wkg']\n",
            "Val Sites: ['AU-DaP' 'AU-Emr' 'AU-Gin' 'AU-How' 'AU-Rig' 'CA-Ca1' 'CA-Gro' 'CH-Fru'\n",
            " 'CH-Oe2' 'DE-Hai' 'DK-Sor' 'FI-Hyy' 'FR-Aur' 'FR-Hes' 'GF-Guy' 'IT-SR2'\n",
            " 'NL-Loo' 'SE-Deg' 'SE-Nor' 'US-AR1' 'US-Bar' 'US-GLE' 'US-Mpj' 'US-NR1'\n",
            " 'US-Ses' 'US-Twt']\n",
            "Test Sites: ['AU-Stp' 'AU-Whr' 'CA-Oas' 'CH-Dav' 'CZ-Lnz' 'CZ-wet' 'DE-Gri' 'DE-Lnf'\n",
            " 'DE-Tha' 'ES-Amo' 'ES-LM1' 'FI-Sod' 'FR-Bil' 'FR-FBn' 'IT-BCi' 'IT-CA2'\n",
            " 'IT-MBo' 'IT-Ren' 'RU-Fyo' 'US-Ho1' 'US-Oho' 'US-Seg' 'US-Ton' 'US-Var'\n",
            " 'US-Whs']\n",
            "Normalizing real features (53)\n",
            "Train data size: (2636448, 103).\n",
            "Val data size: (1001184, 103).\n",
            "Test data size: (940056, 103).\n"
          ]
        }
      ]
    },
    {
      "cell_type": "code",
      "source": [
        "print(\"--CV2------------------------------------------------------------------------------\")\n",
        "X_train_cv2, y_train_cv2, X_val_cv2, y_val_cv2, X_test_cv2, y_test_cv2 = data_transform_forCV(full_raw_df,\n",
        "                                                                                              cv2_train_site_list,\n",
        "                                                                                              cv2_val_site_list,\n",
        "                                                                                              test_site_id,\n",
        "                                                                                              categorical_cols, \n",
        "                                                                                              realNum_cols,\n",
        "                                                                                              cat_encode_type='dummy')\n",
        "print(\"--CV3------------------------------------------------------------------------------\")\n",
        "X_train_cv3, y_train_cv3, X_val_cv3, y_val_cv3, X_test_cv3, y_test_cv3 = data_transform_forCV(full_raw_df,\n",
        "                                                                                              cv3_train_site_list,\n",
        "                                                                                              cv3_val_site_list,\n",
        "                                                                                              test_site_id,\n",
        "                                                                                              categorical_cols, \n",
        "                                                                                              realNum_cols,\n",
        "                                                                                              cat_encode_type='dummy')\n",
        "print(\"--CV4------------------------------------------------------------------------------\")\n",
        "X_train_cv4, y_train_cv4, X_val_cv4, y_val_cv4, X_test_cv4, y_test_cv4 = data_transform_forCV(full_raw_df,\n",
        "                                                                                              cv4_train_site_list,\n",
        "                                                                                              cv4_val_site_list,\n",
        "                                                                                              test_site_id,\n",
        "                                                                                              categorical_cols, \n",
        "                                                                                              realNum_cols,\n",
        "                                                                                              cat_encode_type='dummy')"
      ],
      "metadata": {
        "colab": {
          "base_uri": "https://localhost:8080/"
        },
        "id": "TB1pKD7SxipD",
        "outputId": "d1ea5357-fce7-4d42-c7d0-d5e235f68b69"
      },
      "execution_count": 227,
      "outputs": [
        {
          "output_type": "stream",
          "name": "stdout",
          "text": [
            "--CV2------------------------------------------------------------------------------\n",
            "Number of sites in df: 128\n",
            "Data size after encoding: (2726088, 103)\n",
            "Data size after encoding: (911544, 103)\n",
            "Data size after encoding: (940056, 103)\n",
            "Train Sites: ['AR-Vir' 'AU-ASM' 'AU-Cum' 'AU-DaP' 'AU-DaS' 'AU-Emr' 'AU-Gin' 'AU-How'\n",
            " 'AU-Rig' 'AU-TTE' 'AU-Wom' 'BE-Bra' 'BE-Dor' 'BE-Lon' 'CA-Ca1' 'CA-Ca2'\n",
            " 'CA-Ca3' 'CA-Cbo' 'CA-Gro' 'CA-TP1' 'CH-Cha' 'CH-Fru' 'CH-Lae' 'CH-Oe2'\n",
            " 'CN-Sw2' 'CZ-BK1' 'CZ-BK2' 'CZ-KrP' 'CZ-Stn' 'DE-Geb' 'DE-Hai' 'DE-HoH'\n",
            " 'DE-Hte' 'DE-Kli' 'DE-RuR' 'DK-Sor' 'ES-LJu' 'ES-LM2' 'FI-Hyy' 'FI-Let'\n",
            " 'FR-Aur' 'FR-Hes' 'GF-Guy' 'IL-Yat' 'IT-CA1' 'IT-Lav' 'IT-Noe' 'IT-Ro2'\n",
            " 'IT-SR2' 'IT-SRo' 'IT-Tor' 'NL-Hor' 'NL-Loo' 'SE-Deg' 'SE-Lnn' 'SE-Nor'\n",
            " 'SE-Ros' 'US-AR1' 'US-Bar' 'US-Fmf' 'US-GLE' 'US-IB2' 'US-Me6' 'US-Mpj'\n",
            " 'US-Myb' 'US-NR1' 'US-Ro1' 'US-SRM' 'US-Ses' 'US-Syv' 'US-Tw4' 'US-Twt'\n",
            " 'US-UMB' 'US-UMd' 'US-Vcp' 'US-WPT' 'US-Wkg']\n",
            "Val Sites: ['AR-SLu' 'AT-Neu' 'AU-RDF' 'BE-Vie' 'CA-TP3' 'CA-TP4' 'CA-TPD' 'CZ-RAJ'\n",
            " 'DE-Obe' 'DE-SfN' 'DE-Spw' 'FR-Fon' 'FR-Lam' 'FR-Pue' 'IT-CA3' 'SE-Htm'\n",
            " 'US-AR2' 'US-ARM' 'US-CRT' 'US-KFS' 'US-Prr' 'US-Rws' 'US-SRG' 'US-Vcm'\n",
            " 'US-WCr' 'US-Wjs']\n",
            "Test Sites: ['AU-Stp' 'AU-Whr' 'CA-Oas' 'CH-Dav' 'CZ-Lnz' 'CZ-wet' 'DE-Gri' 'DE-Lnf'\n",
            " 'DE-Tha' 'ES-Amo' 'ES-LM1' 'FI-Sod' 'FR-Bil' 'FR-FBn' 'IT-BCi' 'IT-CA2'\n",
            " 'IT-MBo' 'IT-Ren' 'RU-Fyo' 'US-Ho1' 'US-Oho' 'US-Seg' 'US-Ton' 'US-Var'\n",
            " 'US-Whs']\n",
            "Normalizing real features (53)\n",
            "Train data size: (2726088, 103).\n",
            "Val data size: (911544, 103).\n",
            "Test data size: (940056, 103).\n",
            "--CV3------------------------------------------------------------------------------\n",
            "Number of sites in df: 128\n",
            "Data size after encoding: (2721792, 103)\n",
            "Data size after encoding: (915840, 103)\n",
            "Data size after encoding: (940056, 103)\n",
            "Train Sites: ['AR-SLu' 'AT-Neu' 'AU-ASM' 'AU-Cum' 'AU-DaP' 'AU-Emr' 'AU-Gin' 'AU-How'\n",
            " 'AU-RDF' 'AU-Rig' 'AU-TTE' 'BE-Lon' 'BE-Vie' 'CA-Ca1' 'CA-Ca3' 'CA-Gro'\n",
            " 'CA-TP1' 'CA-TP3' 'CA-TP4' 'CA-TPD' 'CH-Fru' 'CH-Oe2' 'CZ-BK1' 'CZ-BK2'\n",
            " 'CZ-RAJ' 'CZ-Stn' 'DE-Geb' 'DE-Hai' 'DE-HoH' 'DE-Kli' 'DE-Obe' 'DE-RuR'\n",
            " 'DE-SfN' 'DE-Spw' 'DK-Sor' 'ES-LM2' 'FI-Hyy' 'FI-Let' 'FR-Aur' 'FR-Fon'\n",
            " 'FR-Hes' 'FR-Lam' 'FR-Pue' 'GF-Guy' 'IL-Yat' 'IT-CA3' 'IT-Noe' 'IT-SR2'\n",
            " 'IT-SRo' 'IT-Tor' 'NL-Hor' 'NL-Loo' 'SE-Deg' 'SE-Htm' 'SE-Nor' 'US-AR1'\n",
            " 'US-AR2' 'US-ARM' 'US-Bar' 'US-CRT' 'US-Fmf' 'US-GLE' 'US-KFS' 'US-Mpj'\n",
            " 'US-NR1' 'US-Prr' 'US-Rws' 'US-SRG' 'US-Ses' 'US-Syv' 'US-Tw4' 'US-Twt'\n",
            " 'US-UMd' 'US-Vcm' 'US-WCr' 'US-WPT' 'US-Wjs']\n",
            "Val Sites: ['AR-Vir' 'AU-DaS' 'AU-Wom' 'BE-Bra' 'BE-Dor' 'CA-Ca2' 'CA-Cbo' 'CH-Cha'\n",
            " 'CH-Lae' 'CN-Sw2' 'CZ-KrP' 'DE-Hte' 'ES-LJu' 'IT-CA1' 'IT-Lav' 'IT-Ro2'\n",
            " 'SE-Lnn' 'SE-Ros' 'US-IB2' 'US-Me6' 'US-Myb' 'US-Ro1' 'US-SRM' 'US-UMB'\n",
            " 'US-Vcp' 'US-Wkg']\n",
            "Test Sites: ['AU-Stp' 'AU-Whr' 'CA-Oas' 'CH-Dav' 'CZ-Lnz' 'CZ-wet' 'DE-Gri' 'DE-Lnf'\n",
            " 'DE-Tha' 'ES-Amo' 'ES-LM1' 'FI-Sod' 'FR-Bil' 'FR-FBn' 'IT-BCi' 'IT-CA2'\n",
            " 'IT-MBo' 'IT-Ren' 'RU-Fyo' 'US-Ho1' 'US-Oho' 'US-Seg' 'US-Ton' 'US-Var'\n",
            " 'US-Whs']\n",
            "Normalizing real features (53)\n",
            "Train data size: (2721792, 103).\n",
            "Val data size: (915840, 103).\n",
            "Test data size: (940056, 103).\n",
            "--CV4------------------------------------------------------------------------------\n",
            "Number of sites in df: 128\n",
            "Data size after encoding: (2828568, 103)\n",
            "Data size after encoding: (809064, 103)\n",
            "Data size after encoding: (940056, 103)\n",
            "Train Sites: ['AR-SLu' 'AR-Vir' 'AT-Neu' 'AU-DaP' 'AU-DaS' 'AU-Emr' 'AU-Gin' 'AU-How'\n",
            " 'AU-RDF' 'AU-Rig' 'AU-Wom' 'BE-Bra' 'BE-Dor' 'BE-Vie' 'CA-Ca1' 'CA-Ca2'\n",
            " 'CA-Cbo' 'CA-Gro' 'CA-TP3' 'CA-TP4' 'CA-TPD' 'CH-Cha' 'CH-Fru' 'CH-Lae'\n",
            " 'CH-Oe2' 'CN-Sw2' 'CZ-KrP' 'CZ-RAJ' 'DE-Hai' 'DE-Hte' 'DE-Obe' 'DE-SfN'\n",
            " 'DE-Spw' 'DK-Sor' 'ES-LJu' 'FI-Hyy' 'FR-Aur' 'FR-Fon' 'FR-Hes' 'FR-Lam'\n",
            " 'FR-Pue' 'GF-Guy' 'IT-CA1' 'IT-CA3' 'IT-Lav' 'IT-Ro2' 'IT-SR2' 'NL-Loo'\n",
            " 'SE-Deg' 'SE-Htm' 'SE-Lnn' 'SE-Nor' 'SE-Ros' 'US-AR1' 'US-AR2' 'US-ARM'\n",
            " 'US-Bar' 'US-CRT' 'US-GLE' 'US-IB2' 'US-KFS' 'US-Me6' 'US-Mpj' 'US-Myb'\n",
            " 'US-NR1' 'US-Prr' 'US-Ro1' 'US-Rws' 'US-SRG' 'US-SRM' 'US-Ses' 'US-Twt'\n",
            " 'US-UMB' 'US-Vcm' 'US-Vcp' 'US-WCr' 'US-Wjs' 'US-Wkg']\n",
            "Val Sites: ['AU-ASM' 'AU-Cum' 'AU-TTE' 'BE-Lon' 'CA-Ca3' 'CA-TP1' 'CZ-BK1' 'CZ-BK2'\n",
            " 'CZ-Stn' 'DE-Geb' 'DE-HoH' 'DE-Kli' 'DE-RuR' 'ES-LM2' 'FI-Let' 'IL-Yat'\n",
            " 'IT-Noe' 'IT-SRo' 'IT-Tor' 'NL-Hor' 'US-Fmf' 'US-Syv' 'US-Tw4' 'US-UMd'\n",
            " 'US-WPT']\n",
            "Test Sites: ['AU-Stp' 'AU-Whr' 'CA-Oas' 'CH-Dav' 'CZ-Lnz' 'CZ-wet' 'DE-Gri' 'DE-Lnf'\n",
            " 'DE-Tha' 'ES-Amo' 'ES-LM1' 'FI-Sod' 'FR-Bil' 'FR-FBn' 'IT-BCi' 'IT-CA2'\n",
            " 'IT-MBo' 'IT-Ren' 'RU-Fyo' 'US-Ho1' 'US-Oho' 'US-Seg' 'US-Ton' 'US-Var'\n",
            " 'US-Whs']\n",
            "Normalizing real features (53)\n",
            "Train data size: (2828568, 103).\n",
            "Val data size: (809064, 103).\n",
            "Test data size: (940056, 103).\n"
          ]
        }
      ]
    },
    {
      "cell_type": "markdown",
      "metadata": {
        "id": "j_Ko-f2TsAYb"
      },
      "source": [
        "## Train RFR Model w/ best params from v1 tuning (see mvp notebook)"
      ]
    },
    {
      "cell_type": "markdown",
      "source": [
        "## OPTION: Random Search -> postponed because of the required resource and time..."
      ],
      "metadata": {
        "id": "lbKGUMi2e6dJ"
      }
    },
    {
      "cell_type": "code",
      "source": [
        "from sklearn.model_selection import RandomizedSearchCV\n",
        "from sklearn.ensemble import RandomForestRegressor\n",
        "from sklearn.metrics import mean_squared_error, mean_absolute_error, r2_score\n",
        "from sklearn.model_selection import GridSearchCV, cross_val_score, KFold\n",
        "from pprint import pprint\n",
        "# Number of trees in random forest\n",
        "n_estimators = [int(x) for x in np.linspace(start = 200, stop = 2000, num = 10)]\n",
        "# Number of features to consider at every split\n",
        "max_features = ['auto', 'sqrt']\n",
        "# Maximum number of levels in tree\n",
        "max_depth = [int(x) for x in np.linspace(10, 110, num = 11)]\n",
        "max_depth.append(None)\n",
        "# Minimum number of samples required to split a node\n",
        "min_samples_split = [2, 5, 10]\n",
        "# Minimum number of samples required at each leaf node\n",
        "min_samples_leaf = [1, 2, 4]\n",
        "# Method of selecting samples for training each tree\n",
        "bootstrap = [True, False]\n",
        "# Create the random grid\n",
        "\n",
        "random_grid = {'bootstrap': [True, False],\n",
        " 'max_depth': [5, 10, 20, 40],\n",
        "#  'max_features': ['auto', 'sqrt'],\n",
        " 'min_samples_leaf': [1, 2, 4],\n",
        " 'min_samples_split': [2, 5, 10],\n",
        " 'n_estimators': [10, 50, 100, 200]}\n",
        "\n",
        "print(random_grid)"
      ],
      "metadata": {
        "colab": {
          "base_uri": "https://localhost:8080/"
        },
        "id": "LVtIpSopejr7",
        "outputId": "883ecc01-757f-4c53-f2cc-1a185deac1ea"
      },
      "execution_count": null,
      "outputs": [
        {
          "output_type": "stream",
          "name": "stdout",
          "text": [
            "{'bootstrap': [True, False], 'max_depth': [5, 10, 20, 40], 'min_samples_leaf': [1, 2, 4], 'min_samples_split': [2, 5, 10], 'n_estimators': [10, 50, 100, 200]}\n"
          ]
        }
      ]
    },
    {
      "cell_type": "code",
      "source": [
        "# # Use the random grid to search for best hyperparameters\n",
        "# # First create the base model to tune\n",
        "# rf = RandomForestRegressor()\n",
        "# # Random search of parameters, using 3 fold cross validation, \n",
        "# # search across 100 different combinations, and use all available cores\n",
        "# rf_random = RandomizedSearchCV(estimator = rf, \n",
        "#                                param_distributions = random_grid, \n",
        "#                                n_iter = 50, cv = 3, \n",
        "#                                verbose=2, random_state=42, n_jobs = -1)\n",
        "# # Fit the random search model\n",
        "# rf_random.fit(X_train, y_train)"
      ],
      "metadata": {
        "id": "t6AEfQRZejog"
      },
      "execution_count": null,
      "outputs": []
    },
    {
      "cell_type": "markdown",
      "source": [
        "## OPTION: Hyperopt"
      ],
      "metadata": {
        "id": "VV6m9j1-pngk"
      }
    },
    {
      "cell_type": "markdown",
      "source": [
        "**Hyperparameter tuning using hyperopt**\n",
        "\n",
        "The available hyperopt optimization algorithms are -\n",
        "\n",
        "`hp.choice(label, options)` — Returns one of the options, which should be a list or tuple.\n",
        "\n",
        "`hp.randint(label, upper)` — Returns a random integer between the range [0, upper).\n",
        "\n",
        "`hp.uniform(label, low, high)` — Returns a value uniformly between low and high.\n",
        "\n",
        "`hp.quniform(label, low, high, q)` — Returns a value round(uniform(low, high) / q) * q, i.e it rounds the decimal values and returns an integer.\n",
        "\n",
        "`hp.normal(label, mean, std)` — Returns a real value that’s normally-distributed with mean and standard deviation sigma."
      ],
      "metadata": {
        "id": "fIuu0NalUcht"
      }
    },
    {
      "cell_type": "code",
      "execution_count": null,
      "metadata": {
        "id": "QqHeoGAl7q-m"
      },
      "outputs": [],
      "source": [
        "from hyperopt import STATUS_OK, Trials, fmin, hp, tpe\n",
        "\n",
        "space={'bootstrap': hp.choice('bootstrap', [True, False]),\n",
        "    'n_estimators': hp.quniform('n_estimators', 50, 200, q=1),\n",
        "        'max_depth': hp.quniform(\"max_depth\", 3, 50, 1),\n",
        "        'max_features': hp.choice('max_features', ['auto', 'sqrt']),\n",
        "        'min_samples_leaf': hp.quniform('min_samples_leaf',3,10,1),\n",
        "        'min_samples_split': hp.quniform('min_samples_leaf',2,10,1),\n",
        "        'seed': 0}"
      ]
    },
    {
      "cell_type": "markdown",
      "source": [
        "(Define X_val and y_val)"
      ],
      "metadata": {
        "id": "LqlRIVH6uJzy"
      }
    },
    {
      "cell_type": "code",
      "source": [
        "from sklearn.preprocessing import LabelEncoder\n",
        "def objective(space):\n",
        "    global X_train, y_train, X_val, y_val\n",
        "    \n",
        "    rfr = RandomForestRegressor(bootstrap = space['bootstrap'],\n",
        "                    n_estimators =int(space['n_estimators']), \n",
        "                    max_depth = int(space['max_depth']), \n",
        "                    max_features = space['max_features'],\n",
        "                    min_samples_leaf = int(space['min_samples_leaf']),\n",
        "                    min_samples_split = int(space['min_samples_split'])\n",
        "                    )\n",
        "    \n",
        "    rfr.fit(X_train, y_train)\n",
        "            # eval_metric=\"rmse\",\n",
        "            # early_stopping_rounds=10,verbose=False)\n",
        "    \n",
        "\n",
        "    y_pred = rfr.predict(X_val)\n",
        "    rmse = mean_squared_error(y_val, y_pred, squared=False) # squared=False returns RMSE\n",
        "\n",
        "    print (\"SCORE(RMSE):\", rmse)\n",
        "    return {'loss': -rmse, 'status': STATUS_OK }"
      ],
      "metadata": {
        "id": "QPGO1wAz5-aC"
      },
      "execution_count": null,
      "outputs": []
    },
    {
      "cell_type": "code",
      "source": [
        "trials = Trials()\n",
        "\n",
        "best_hyperparams = fmin(fn = objective,\n",
        "                        space = space,\n",
        "                        algo = tpe.suggest,\n",
        "                        max_evals = 50,\n",
        "                        trials = trials)"
      ],
      "metadata": {
        "id": "YJ0PBK5uqDUs"
      },
      "execution_count": null,
      "outputs": []
    },
    {
      "cell_type": "code",
      "source": [
        "print(\"The best hyperparameters are : \",\"\\n\")\n",
        "print(best_hyperparams)"
      ],
      "metadata": {
        "id": "y4Ul8OCkqDRf"
      },
      "execution_count": null,
      "outputs": []
    },
    {
      "cell_type": "markdown",
      "source": [
        "# Cross Validation on RFR full"
      ],
      "metadata": {
        "id": "rZy3cAnwp4pp"
      }
    },
    {
      "cell_type": "code",
      "source": [
        "from sklearn.model_selection import RandomizedSearchCV\n",
        "from sklearn.ensemble import RandomForestRegressor\n",
        "from sklearn.metrics import mean_squared_error, mean_absolute_error, r2_score\n",
        "from sklearn.model_selection import GridSearchCV, cross_val_score, KFold\n",
        "from pprint import pprint"
      ],
      "metadata": {
        "id": "KRe951z1qcw2"
      },
      "execution_count": 142,
      "outputs": []
    },
    {
      "cell_type": "code",
      "source": [
        "X_train_cv1.head()"
      ],
      "metadata": {
        "colab": {
          "base_uri": "https://localhost:8080/",
          "height": 287
        },
        "id": "PN_0O7m0zp9u",
        "outputId": "24d2ba25-f962-44e0-aeb0-f5f7327c3cb7"
      },
      "execution_count": 201,
      "outputs": [
        {
          "output_type": "execute_result",
          "data": {
            "text/plain": [
              "    month     day    hour  TA_ERA  SW_IN_ERA  LW_IN_ERA  VPD_ERA    P_ERA  \\\n",
              "0 1.00000 1.00000 0.00000 1.29671   -0.67229    0.81718  0.32487  1.19668   \n",
              "1 1.00000 1.00000 1.00000 1.25024   -0.67229    0.81718  0.23047 -0.22990   \n",
              "2 1.00000 1.00000 2.00000 1.20367   -0.67229    0.81718  0.13608 -0.22990   \n",
              "3 1.00000 1.00000 3.00000 1.15720   -0.67229    1.05829  0.04181  1.80553   \n",
              "4 1.00000 1.00000 4.00000 1.12787   -0.67229    1.05829 -0.06108 -0.22990   \n",
              "\n",
              "   PA_ERA      EVI     NDVI     NIRv       b1       b2       b3       b4  \\\n",
              "0 0.00966 -0.09524 -0.02366 -0.24887 -0.24622 -0.43414 -0.24800 -0.22049   \n",
              "1 0.01066 -0.09524 -0.02366 -0.24887 -0.24622 -0.43414 -0.24800 -0.22049   \n",
              "2 0.01167 -0.09524 -0.02366 -0.24887 -0.24622 -0.43414 -0.24800 -0.22049   \n",
              "3 0.01253 -0.09524 -0.02366 -0.24887 -0.24622 -0.43414 -0.24800 -0.22049   \n",
              "4 0.01525 -0.09524 -0.02366 -0.24887 -0.24622 -0.43414 -0.24800 -0.22049   \n",
              "\n",
              "       b5      b6      b7  TA_ERA_szn_mean  TA_ERA_amp_msc  TA_ERA_min_msc  \\\n",
              "0 0.36961 0.73076 0.23363          1.85332        -0.38903         1.28096   \n",
              "1 0.36961 0.73076 0.23363          1.85332        -0.38903         1.28096   \n",
              "2 0.36961 0.73076 0.23363          1.85332        -0.38903         1.28096   \n",
              "3 0.36961 0.73076 0.23363          1.85332        -0.38903         1.28096   \n",
              "4 0.36961 0.73076 0.23363          1.85332        -0.38903         1.28096   \n",
              "\n",
              "   SW_IN_ERA_szn_mean  SW_IN_ERA_amp_msc  SW_IN_ERA_min_msc  P_ERA_szn_mean  \\\n",
              "0             1.67357           -1.03735            1.68537        -0.38324   \n",
              "1             1.67357           -1.03735            1.68537        -0.38324   \n",
              "2             1.67357           -1.03735            1.68537        -0.38324   \n",
              "3             1.67357           -1.03735            1.68537        -0.38324   \n",
              "4             1.67357           -1.03735            1.68537        -0.38324   \n",
              "\n",
              "   P_ERA_amp_msc  P_ERA_min_msc  EVI_szn_mean  EVI_amp_msc  EVI_min_msc  \\\n",
              "0        0.20090       -1.57409      -0.44657     -1.03190     -0.25913   \n",
              "1        0.20090       -1.57409      -0.44657     -1.03190     -0.25913   \n",
              "2        0.20090       -1.57409      -0.44657     -1.03190     -0.25913   \n",
              "3        0.20090       -1.57409      -0.44657     -1.03190     -0.25913   \n",
              "4        0.20090       -1.57409      -0.44657     -1.03190     -0.25913   \n",
              "\n",
              "   NDVI_szn_mean  NDVI_amp_msc  NDVI_min_msc  NIRv_szn_mean  NIRv_amp_msc  \\\n",
              "0       -0.39280      -1.16402       0.11314       -0.51490      -1.20482   \n",
              "1       -0.39280      -1.16402       0.11314       -0.51490      -1.20482   \n",
              "2       -0.39280      -1.16402       0.11314       -0.51490      -1.20482   \n",
              "3       -0.39280      -1.16402       0.11314       -0.51490      -1.20482   \n",
              "4       -0.39280      -1.16402       0.11314       -0.51490      -1.20482   \n",
              "\n",
              "   NIRv_min_msc  b4_szn_mean  b4_amp_msc  b4_min_msc  prcp_week_sum  \\\n",
              "0      -0.31786     -0.19059    -0.67987     0.05636        0.32100   \n",
              "1      -0.31786     -0.19059    -0.67987     0.05636        0.32100   \n",
              "2      -0.31786     -0.19059    -0.67987     0.05636        0.32100   \n",
              "3      -0.31786     -0.19059    -0.67987     0.05636        0.77900   \n",
              "4      -0.31786     -0.19059    -0.67987     0.05636        0.77900   \n",
              "\n",
              "   prcp_month_sum  koppen_sub  koppen_main hemisphere_NS    lat_band  \\\n",
              "0         0.32100           7            2         South  lat_band_2   \n",
              "1         0.32100           7            2         South  lat_band_2   \n",
              "2         0.32100           7            2         South  lat_band_2   \n",
              "3         0.77900           7            2         South  lat_band_2   \n",
              "4         0.77900           7            2         South  lat_band_2   \n",
              "\n",
              "   BESS-PAR  BESS-PARdiff  BESS-RSDN  CSIF-SIFdaily      PET      Ts     prcp  \\\n",
              "0   2.00473       0.64667    1.96634        0.40973 -1.07532 1.76888 -0.11856   \n",
              "1   2.00473       0.64667    1.96634        0.40973 -1.07532 1.76888 -0.11856   \n",
              "2   2.00473       0.64667    1.96634        0.40973 -1.07532 1.76888 -0.11856   \n",
              "3   2.00473       0.64667    1.96634        0.40973 -1.07532 1.76888 -0.11856   \n",
              "4   2.00473       0.64667    1.96634        0.40973 -1.07532 1.76888 -0.11856   \n",
              "\n",
              "   prcp-lag3  ESACCI-sm  MODIS_LC     NDWI  Percent_Snow    Fpar      Lai  \\\n",
              "0    0.41520   -1.54625         7 -0.56224      -0.44318 0.13015 -0.11490   \n",
              "1    0.41520   -1.54625         7 -0.56224      -0.44318 0.13015 -0.11490   \n",
              "2    0.41520   -1.54625         7 -0.56224      -0.44318 0.13015 -0.11490   \n",
              "3    0.41520   -1.54625         7 -0.56224      -0.44318 0.13015 -0.11490   \n",
              "4    0.41520   -1.54625         7 -0.56224      -0.44318 0.13015 -0.11490   \n",
              "\n",
              "   LST_Day  LST_Night MODIS_IGBP MODIS_PFT  \n",
              "0  1.69276    1.73080        OSH        SH  \n",
              "1  1.69276    1.73080        OSH        SH  \n",
              "2  1.69276    1.73080        OSH        SH  \n",
              "3  1.69276    1.73080        OSH        SH  \n",
              "4  1.69276    1.73080        OSH        SH  "
            ],
            "text/html": [
              "\n",
              "  <div id=\"df-4b3f86ba-2fa5-4d94-b6a6-fbc3dab5352c\">\n",
              "    <div class=\"colab-df-container\">\n",
              "      <div>\n",
              "<style scoped>\n",
              "    .dataframe tbody tr th:only-of-type {\n",
              "        vertical-align: middle;\n",
              "    }\n",
              "\n",
              "    .dataframe tbody tr th {\n",
              "        vertical-align: top;\n",
              "    }\n",
              "\n",
              "    .dataframe thead th {\n",
              "        text-align: right;\n",
              "    }\n",
              "</style>\n",
              "<table border=\"1\" class=\"dataframe\">\n",
              "  <thead>\n",
              "    <tr style=\"text-align: right;\">\n",
              "      <th></th>\n",
              "      <th>month</th>\n",
              "      <th>day</th>\n",
              "      <th>hour</th>\n",
              "      <th>TA_ERA</th>\n",
              "      <th>SW_IN_ERA</th>\n",
              "      <th>LW_IN_ERA</th>\n",
              "      <th>VPD_ERA</th>\n",
              "      <th>P_ERA</th>\n",
              "      <th>PA_ERA</th>\n",
              "      <th>EVI</th>\n",
              "      <th>NDVI</th>\n",
              "      <th>NIRv</th>\n",
              "      <th>b1</th>\n",
              "      <th>b2</th>\n",
              "      <th>b3</th>\n",
              "      <th>b4</th>\n",
              "      <th>b5</th>\n",
              "      <th>b6</th>\n",
              "      <th>b7</th>\n",
              "      <th>TA_ERA_szn_mean</th>\n",
              "      <th>TA_ERA_amp_msc</th>\n",
              "      <th>TA_ERA_min_msc</th>\n",
              "      <th>SW_IN_ERA_szn_mean</th>\n",
              "      <th>SW_IN_ERA_amp_msc</th>\n",
              "      <th>SW_IN_ERA_min_msc</th>\n",
              "      <th>P_ERA_szn_mean</th>\n",
              "      <th>P_ERA_amp_msc</th>\n",
              "      <th>P_ERA_min_msc</th>\n",
              "      <th>EVI_szn_mean</th>\n",
              "      <th>EVI_amp_msc</th>\n",
              "      <th>EVI_min_msc</th>\n",
              "      <th>NDVI_szn_mean</th>\n",
              "      <th>NDVI_amp_msc</th>\n",
              "      <th>NDVI_min_msc</th>\n",
              "      <th>NIRv_szn_mean</th>\n",
              "      <th>NIRv_amp_msc</th>\n",
              "      <th>NIRv_min_msc</th>\n",
              "      <th>b4_szn_mean</th>\n",
              "      <th>b4_amp_msc</th>\n",
              "      <th>b4_min_msc</th>\n",
              "      <th>prcp_week_sum</th>\n",
              "      <th>prcp_month_sum</th>\n",
              "      <th>koppen_sub</th>\n",
              "      <th>koppen_main</th>\n",
              "      <th>hemisphere_NS</th>\n",
              "      <th>lat_band</th>\n",
              "      <th>BESS-PAR</th>\n",
              "      <th>BESS-PARdiff</th>\n",
              "      <th>BESS-RSDN</th>\n",
              "      <th>CSIF-SIFdaily</th>\n",
              "      <th>PET</th>\n",
              "      <th>Ts</th>\n",
              "      <th>prcp</th>\n",
              "      <th>prcp-lag3</th>\n",
              "      <th>ESACCI-sm</th>\n",
              "      <th>MODIS_LC</th>\n",
              "      <th>NDWI</th>\n",
              "      <th>Percent_Snow</th>\n",
              "      <th>Fpar</th>\n",
              "      <th>Lai</th>\n",
              "      <th>LST_Day</th>\n",
              "      <th>LST_Night</th>\n",
              "      <th>MODIS_IGBP</th>\n",
              "      <th>MODIS_PFT</th>\n",
              "    </tr>\n",
              "  </thead>\n",
              "  <tbody>\n",
              "    <tr>\n",
              "      <th>0</th>\n",
              "      <td>1.00000</td>\n",
              "      <td>1.00000</td>\n",
              "      <td>0.00000</td>\n",
              "      <td>1.29671</td>\n",
              "      <td>-0.67229</td>\n",
              "      <td>0.81718</td>\n",
              "      <td>0.32487</td>\n",
              "      <td>1.19668</td>\n",
              "      <td>0.00966</td>\n",
              "      <td>-0.09524</td>\n",
              "      <td>-0.02366</td>\n",
              "      <td>-0.24887</td>\n",
              "      <td>-0.24622</td>\n",
              "      <td>-0.43414</td>\n",
              "      <td>-0.24800</td>\n",
              "      <td>-0.22049</td>\n",
              "      <td>0.36961</td>\n",
              "      <td>0.73076</td>\n",
              "      <td>0.23363</td>\n",
              "      <td>1.85332</td>\n",
              "      <td>-0.38903</td>\n",
              "      <td>1.28096</td>\n",
              "      <td>1.67357</td>\n",
              "      <td>-1.03735</td>\n",
              "      <td>1.68537</td>\n",
              "      <td>-0.38324</td>\n",
              "      <td>0.20090</td>\n",
              "      <td>-1.57409</td>\n",
              "      <td>-0.44657</td>\n",
              "      <td>-1.03190</td>\n",
              "      <td>-0.25913</td>\n",
              "      <td>-0.39280</td>\n",
              "      <td>-1.16402</td>\n",
              "      <td>0.11314</td>\n",
              "      <td>-0.51490</td>\n",
              "      <td>-1.20482</td>\n",
              "      <td>-0.31786</td>\n",
              "      <td>-0.19059</td>\n",
              "      <td>-0.67987</td>\n",
              "      <td>0.05636</td>\n",
              "      <td>0.32100</td>\n",
              "      <td>0.32100</td>\n",
              "      <td>7</td>\n",
              "      <td>2</td>\n",
              "      <td>South</td>\n",
              "      <td>lat_band_2</td>\n",
              "      <td>2.00473</td>\n",
              "      <td>0.64667</td>\n",
              "      <td>1.96634</td>\n",
              "      <td>0.40973</td>\n",
              "      <td>-1.07532</td>\n",
              "      <td>1.76888</td>\n",
              "      <td>-0.11856</td>\n",
              "      <td>0.41520</td>\n",
              "      <td>-1.54625</td>\n",
              "      <td>7</td>\n",
              "      <td>-0.56224</td>\n",
              "      <td>-0.44318</td>\n",
              "      <td>0.13015</td>\n",
              "      <td>-0.11490</td>\n",
              "      <td>1.69276</td>\n",
              "      <td>1.73080</td>\n",
              "      <td>OSH</td>\n",
              "      <td>SH</td>\n",
              "    </tr>\n",
              "    <tr>\n",
              "      <th>1</th>\n",
              "      <td>1.00000</td>\n",
              "      <td>1.00000</td>\n",
              "      <td>1.00000</td>\n",
              "      <td>1.25024</td>\n",
              "      <td>-0.67229</td>\n",
              "      <td>0.81718</td>\n",
              "      <td>0.23047</td>\n",
              "      <td>-0.22990</td>\n",
              "      <td>0.01066</td>\n",
              "      <td>-0.09524</td>\n",
              "      <td>-0.02366</td>\n",
              "      <td>-0.24887</td>\n",
              "      <td>-0.24622</td>\n",
              "      <td>-0.43414</td>\n",
              "      <td>-0.24800</td>\n",
              "      <td>-0.22049</td>\n",
              "      <td>0.36961</td>\n",
              "      <td>0.73076</td>\n",
              "      <td>0.23363</td>\n",
              "      <td>1.85332</td>\n",
              "      <td>-0.38903</td>\n",
              "      <td>1.28096</td>\n",
              "      <td>1.67357</td>\n",
              "      <td>-1.03735</td>\n",
              "      <td>1.68537</td>\n",
              "      <td>-0.38324</td>\n",
              "      <td>0.20090</td>\n",
              "      <td>-1.57409</td>\n",
              "      <td>-0.44657</td>\n",
              "      <td>-1.03190</td>\n",
              "      <td>-0.25913</td>\n",
              "      <td>-0.39280</td>\n",
              "      <td>-1.16402</td>\n",
              "      <td>0.11314</td>\n",
              "      <td>-0.51490</td>\n",
              "      <td>-1.20482</td>\n",
              "      <td>-0.31786</td>\n",
              "      <td>-0.19059</td>\n",
              "      <td>-0.67987</td>\n",
              "      <td>0.05636</td>\n",
              "      <td>0.32100</td>\n",
              "      <td>0.32100</td>\n",
              "      <td>7</td>\n",
              "      <td>2</td>\n",
              "      <td>South</td>\n",
              "      <td>lat_band_2</td>\n",
              "      <td>2.00473</td>\n",
              "      <td>0.64667</td>\n",
              "      <td>1.96634</td>\n",
              "      <td>0.40973</td>\n",
              "      <td>-1.07532</td>\n",
              "      <td>1.76888</td>\n",
              "      <td>-0.11856</td>\n",
              "      <td>0.41520</td>\n",
              "      <td>-1.54625</td>\n",
              "      <td>7</td>\n",
              "      <td>-0.56224</td>\n",
              "      <td>-0.44318</td>\n",
              "      <td>0.13015</td>\n",
              "      <td>-0.11490</td>\n",
              "      <td>1.69276</td>\n",
              "      <td>1.73080</td>\n",
              "      <td>OSH</td>\n",
              "      <td>SH</td>\n",
              "    </tr>\n",
              "    <tr>\n",
              "      <th>2</th>\n",
              "      <td>1.00000</td>\n",
              "      <td>1.00000</td>\n",
              "      <td>2.00000</td>\n",
              "      <td>1.20367</td>\n",
              "      <td>-0.67229</td>\n",
              "      <td>0.81718</td>\n",
              "      <td>0.13608</td>\n",
              "      <td>-0.22990</td>\n",
              "      <td>0.01167</td>\n",
              "      <td>-0.09524</td>\n",
              "      <td>-0.02366</td>\n",
              "      <td>-0.24887</td>\n",
              "      <td>-0.24622</td>\n",
              "      <td>-0.43414</td>\n",
              "      <td>-0.24800</td>\n",
              "      <td>-0.22049</td>\n",
              "      <td>0.36961</td>\n",
              "      <td>0.73076</td>\n",
              "      <td>0.23363</td>\n",
              "      <td>1.85332</td>\n",
              "      <td>-0.38903</td>\n",
              "      <td>1.28096</td>\n",
              "      <td>1.67357</td>\n",
              "      <td>-1.03735</td>\n",
              "      <td>1.68537</td>\n",
              "      <td>-0.38324</td>\n",
              "      <td>0.20090</td>\n",
              "      <td>-1.57409</td>\n",
              "      <td>-0.44657</td>\n",
              "      <td>-1.03190</td>\n",
              "      <td>-0.25913</td>\n",
              "      <td>-0.39280</td>\n",
              "      <td>-1.16402</td>\n",
              "      <td>0.11314</td>\n",
              "      <td>-0.51490</td>\n",
              "      <td>-1.20482</td>\n",
              "      <td>-0.31786</td>\n",
              "      <td>-0.19059</td>\n",
              "      <td>-0.67987</td>\n",
              "      <td>0.05636</td>\n",
              "      <td>0.32100</td>\n",
              "      <td>0.32100</td>\n",
              "      <td>7</td>\n",
              "      <td>2</td>\n",
              "      <td>South</td>\n",
              "      <td>lat_band_2</td>\n",
              "      <td>2.00473</td>\n",
              "      <td>0.64667</td>\n",
              "      <td>1.96634</td>\n",
              "      <td>0.40973</td>\n",
              "      <td>-1.07532</td>\n",
              "      <td>1.76888</td>\n",
              "      <td>-0.11856</td>\n",
              "      <td>0.41520</td>\n",
              "      <td>-1.54625</td>\n",
              "      <td>7</td>\n",
              "      <td>-0.56224</td>\n",
              "      <td>-0.44318</td>\n",
              "      <td>0.13015</td>\n",
              "      <td>-0.11490</td>\n",
              "      <td>1.69276</td>\n",
              "      <td>1.73080</td>\n",
              "      <td>OSH</td>\n",
              "      <td>SH</td>\n",
              "    </tr>\n",
              "    <tr>\n",
              "      <th>3</th>\n",
              "      <td>1.00000</td>\n",
              "      <td>1.00000</td>\n",
              "      <td>3.00000</td>\n",
              "      <td>1.15720</td>\n",
              "      <td>-0.67229</td>\n",
              "      <td>1.05829</td>\n",
              "      <td>0.04181</td>\n",
              "      <td>1.80553</td>\n",
              "      <td>0.01253</td>\n",
              "      <td>-0.09524</td>\n",
              "      <td>-0.02366</td>\n",
              "      <td>-0.24887</td>\n",
              "      <td>-0.24622</td>\n",
              "      <td>-0.43414</td>\n",
              "      <td>-0.24800</td>\n",
              "      <td>-0.22049</td>\n",
              "      <td>0.36961</td>\n",
              "      <td>0.73076</td>\n",
              "      <td>0.23363</td>\n",
              "      <td>1.85332</td>\n",
              "      <td>-0.38903</td>\n",
              "      <td>1.28096</td>\n",
              "      <td>1.67357</td>\n",
              "      <td>-1.03735</td>\n",
              "      <td>1.68537</td>\n",
              "      <td>-0.38324</td>\n",
              "      <td>0.20090</td>\n",
              "      <td>-1.57409</td>\n",
              "      <td>-0.44657</td>\n",
              "      <td>-1.03190</td>\n",
              "      <td>-0.25913</td>\n",
              "      <td>-0.39280</td>\n",
              "      <td>-1.16402</td>\n",
              "      <td>0.11314</td>\n",
              "      <td>-0.51490</td>\n",
              "      <td>-1.20482</td>\n",
              "      <td>-0.31786</td>\n",
              "      <td>-0.19059</td>\n",
              "      <td>-0.67987</td>\n",
              "      <td>0.05636</td>\n",
              "      <td>0.77900</td>\n",
              "      <td>0.77900</td>\n",
              "      <td>7</td>\n",
              "      <td>2</td>\n",
              "      <td>South</td>\n",
              "      <td>lat_band_2</td>\n",
              "      <td>2.00473</td>\n",
              "      <td>0.64667</td>\n",
              "      <td>1.96634</td>\n",
              "      <td>0.40973</td>\n",
              "      <td>-1.07532</td>\n",
              "      <td>1.76888</td>\n",
              "      <td>-0.11856</td>\n",
              "      <td>0.41520</td>\n",
              "      <td>-1.54625</td>\n",
              "      <td>7</td>\n",
              "      <td>-0.56224</td>\n",
              "      <td>-0.44318</td>\n",
              "      <td>0.13015</td>\n",
              "      <td>-0.11490</td>\n",
              "      <td>1.69276</td>\n",
              "      <td>1.73080</td>\n",
              "      <td>OSH</td>\n",
              "      <td>SH</td>\n",
              "    </tr>\n",
              "    <tr>\n",
              "      <th>4</th>\n",
              "      <td>1.00000</td>\n",
              "      <td>1.00000</td>\n",
              "      <td>4.00000</td>\n",
              "      <td>1.12787</td>\n",
              "      <td>-0.67229</td>\n",
              "      <td>1.05829</td>\n",
              "      <td>-0.06108</td>\n",
              "      <td>-0.22990</td>\n",
              "      <td>0.01525</td>\n",
              "      <td>-0.09524</td>\n",
              "      <td>-0.02366</td>\n",
              "      <td>-0.24887</td>\n",
              "      <td>-0.24622</td>\n",
              "      <td>-0.43414</td>\n",
              "      <td>-0.24800</td>\n",
              "      <td>-0.22049</td>\n",
              "      <td>0.36961</td>\n",
              "      <td>0.73076</td>\n",
              "      <td>0.23363</td>\n",
              "      <td>1.85332</td>\n",
              "      <td>-0.38903</td>\n",
              "      <td>1.28096</td>\n",
              "      <td>1.67357</td>\n",
              "      <td>-1.03735</td>\n",
              "      <td>1.68537</td>\n",
              "      <td>-0.38324</td>\n",
              "      <td>0.20090</td>\n",
              "      <td>-1.57409</td>\n",
              "      <td>-0.44657</td>\n",
              "      <td>-1.03190</td>\n",
              "      <td>-0.25913</td>\n",
              "      <td>-0.39280</td>\n",
              "      <td>-1.16402</td>\n",
              "      <td>0.11314</td>\n",
              "      <td>-0.51490</td>\n",
              "      <td>-1.20482</td>\n",
              "      <td>-0.31786</td>\n",
              "      <td>-0.19059</td>\n",
              "      <td>-0.67987</td>\n",
              "      <td>0.05636</td>\n",
              "      <td>0.77900</td>\n",
              "      <td>0.77900</td>\n",
              "      <td>7</td>\n",
              "      <td>2</td>\n",
              "      <td>South</td>\n",
              "      <td>lat_band_2</td>\n",
              "      <td>2.00473</td>\n",
              "      <td>0.64667</td>\n",
              "      <td>1.96634</td>\n",
              "      <td>0.40973</td>\n",
              "      <td>-1.07532</td>\n",
              "      <td>1.76888</td>\n",
              "      <td>-0.11856</td>\n",
              "      <td>0.41520</td>\n",
              "      <td>-1.54625</td>\n",
              "      <td>7</td>\n",
              "      <td>-0.56224</td>\n",
              "      <td>-0.44318</td>\n",
              "      <td>0.13015</td>\n",
              "      <td>-0.11490</td>\n",
              "      <td>1.69276</td>\n",
              "      <td>1.73080</td>\n",
              "      <td>OSH</td>\n",
              "      <td>SH</td>\n",
              "    </tr>\n",
              "  </tbody>\n",
              "</table>\n",
              "</div>\n",
              "      <button class=\"colab-df-convert\" onclick=\"convertToInteractive('df-4b3f86ba-2fa5-4d94-b6a6-fbc3dab5352c')\"\n",
              "              title=\"Convert this dataframe to an interactive table.\"\n",
              "              style=\"display:none;\">\n",
              "        \n",
              "  <svg xmlns=\"http://www.w3.org/2000/svg\" height=\"24px\"viewBox=\"0 0 24 24\"\n",
              "       width=\"24px\">\n",
              "    <path d=\"M0 0h24v24H0V0z\" fill=\"none\"/>\n",
              "    <path d=\"M18.56 5.44l.94 2.06.94-2.06 2.06-.94-2.06-.94-.94-2.06-.94 2.06-2.06.94zm-11 1L8.5 8.5l.94-2.06 2.06-.94-2.06-.94L8.5 2.5l-.94 2.06-2.06.94zm10 10l.94 2.06.94-2.06 2.06-.94-2.06-.94-.94-2.06-.94 2.06-2.06.94z\"/><path d=\"M17.41 7.96l-1.37-1.37c-.4-.4-.92-.59-1.43-.59-.52 0-1.04.2-1.43.59L10.3 9.45l-7.72 7.72c-.78.78-.78 2.05 0 2.83L4 21.41c.39.39.9.59 1.41.59.51 0 1.02-.2 1.41-.59l7.78-7.78 2.81-2.81c.8-.78.8-2.07 0-2.86zM5.41 20L4 18.59l7.72-7.72 1.47 1.35L5.41 20z\"/>\n",
              "  </svg>\n",
              "      </button>\n",
              "      \n",
              "  <style>\n",
              "    .colab-df-container {\n",
              "      display:flex;\n",
              "      flex-wrap:wrap;\n",
              "      gap: 12px;\n",
              "    }\n",
              "\n",
              "    .colab-df-convert {\n",
              "      background-color: #E8F0FE;\n",
              "      border: none;\n",
              "      border-radius: 50%;\n",
              "      cursor: pointer;\n",
              "      display: none;\n",
              "      fill: #1967D2;\n",
              "      height: 32px;\n",
              "      padding: 0 0 0 0;\n",
              "      width: 32px;\n",
              "    }\n",
              "\n",
              "    .colab-df-convert:hover {\n",
              "      background-color: #E2EBFA;\n",
              "      box-shadow: 0px 1px 2px rgba(60, 64, 67, 0.3), 0px 1px 3px 1px rgba(60, 64, 67, 0.15);\n",
              "      fill: #174EA6;\n",
              "    }\n",
              "\n",
              "    [theme=dark] .colab-df-convert {\n",
              "      background-color: #3B4455;\n",
              "      fill: #D2E3FC;\n",
              "    }\n",
              "\n",
              "    [theme=dark] .colab-df-convert:hover {\n",
              "      background-color: #434B5C;\n",
              "      box-shadow: 0px 1px 3px 1px rgba(0, 0, 0, 0.15);\n",
              "      filter: drop-shadow(0px 1px 2px rgba(0, 0, 0, 0.3));\n",
              "      fill: #FFFFFF;\n",
              "    }\n",
              "  </style>\n",
              "\n",
              "      <script>\n",
              "        const buttonEl =\n",
              "          document.querySelector('#df-4b3f86ba-2fa5-4d94-b6a6-fbc3dab5352c button.colab-df-convert');\n",
              "        buttonEl.style.display =\n",
              "          google.colab.kernel.accessAllowed ? 'block' : 'none';\n",
              "\n",
              "        async function convertToInteractive(key) {\n",
              "          const element = document.querySelector('#df-4b3f86ba-2fa5-4d94-b6a6-fbc3dab5352c');\n",
              "          const dataTable =\n",
              "            await google.colab.kernel.invokeFunction('convertToInteractive',\n",
              "                                                     [key], {});\n",
              "          if (!dataTable) return;\n",
              "\n",
              "          const docLinkHtml = 'Like what you see? Visit the ' +\n",
              "            '<a target=\"_blank\" href=https://colab.research.google.com/notebooks/data_table.ipynb>data table notebook</a>'\n",
              "            + ' to learn more about interactive tables.';\n",
              "          element.innerHTML = '';\n",
              "          dataTable['output_type'] = 'display_data';\n",
              "          await google.colab.output.renderOutput(dataTable, element);\n",
              "          const docLink = document.createElement('div');\n",
              "          docLink.innerHTML = docLinkHtml;\n",
              "          element.appendChild(docLink);\n",
              "        }\n",
              "      </script>\n",
              "    </div>\n",
              "  </div>\n",
              "  "
            ]
          },
          "metadata": {},
          "execution_count": 201
        }
      ]
    },
    {
      "cell_type": "code",
      "execution_count": 217,
      "metadata": {
        "tags": [],
        "colab": {
          "base_uri": "https://localhost:8080/",
          "height": 148
        },
        "id": "uY6WIJB3amyL",
        "outputId": "6e3b7b3c-7f40-4e44-f929-f6ad1fa92d52"
      },
      "outputs": [
        {
          "output_type": "stream",
          "name": "stderr",
          "text": [
            "[Parallel(n_jobs=-1)]: Using backend ThreadingBackend with 12 concurrent workers.\n",
            "[Parallel(n_jobs=-1)]: Done  26 tasks      | elapsed:   24.3s\n",
            "[Parallel(n_jobs=-1)]: Done  50 out of  50 | elapsed:   38.8s finished\n"
          ]
        },
        {
          "output_type": "execute_result",
          "data": {
            "text/plain": [
              "RandomForestRegressor(max_depth=10, max_features='sqrt', n_estimators=50,\n",
              "                      n_jobs=-1, random_state=42, verbose=1)"
            ],
            "text/html": [
              "<style>#sk-container-id-3 {color: black;background-color: white;}#sk-container-id-3 pre{padding: 0;}#sk-container-id-3 div.sk-toggleable {background-color: white;}#sk-container-id-3 label.sk-toggleable__label {cursor: pointer;display: block;width: 100%;margin-bottom: 0;padding: 0.3em;box-sizing: border-box;text-align: center;}#sk-container-id-3 label.sk-toggleable__label-arrow:before {content: \"▸\";float: left;margin-right: 0.25em;color: #696969;}#sk-container-id-3 label.sk-toggleable__label-arrow:hover:before {color: black;}#sk-container-id-3 div.sk-estimator:hover label.sk-toggleable__label-arrow:before {color: black;}#sk-container-id-3 div.sk-toggleable__content {max-height: 0;max-width: 0;overflow: hidden;text-align: left;background-color: #f0f8ff;}#sk-container-id-3 div.sk-toggleable__content pre {margin: 0.2em;color: black;border-radius: 0.25em;background-color: #f0f8ff;}#sk-container-id-3 input.sk-toggleable__control:checked~div.sk-toggleable__content {max-height: 200px;max-width: 100%;overflow: auto;}#sk-container-id-3 input.sk-toggleable__control:checked~label.sk-toggleable__label-arrow:before {content: \"▾\";}#sk-container-id-3 div.sk-estimator input.sk-toggleable__control:checked~label.sk-toggleable__label {background-color: #d4ebff;}#sk-container-id-3 div.sk-label input.sk-toggleable__control:checked~label.sk-toggleable__label {background-color: #d4ebff;}#sk-container-id-3 input.sk-hidden--visually {border: 0;clip: rect(1px 1px 1px 1px);clip: rect(1px, 1px, 1px, 1px);height: 1px;margin: -1px;overflow: hidden;padding: 0;position: absolute;width: 1px;}#sk-container-id-3 div.sk-estimator {font-family: monospace;background-color: #f0f8ff;border: 1px dotted black;border-radius: 0.25em;box-sizing: border-box;margin-bottom: 0.5em;}#sk-container-id-3 div.sk-estimator:hover {background-color: #d4ebff;}#sk-container-id-3 div.sk-parallel-item::after {content: \"\";width: 100%;border-bottom: 1px solid gray;flex-grow: 1;}#sk-container-id-3 div.sk-label:hover label.sk-toggleable__label {background-color: #d4ebff;}#sk-container-id-3 div.sk-serial::before {content: \"\";position: absolute;border-left: 1px solid gray;box-sizing: border-box;top: 0;bottom: 0;left: 50%;z-index: 0;}#sk-container-id-3 div.sk-serial {display: flex;flex-direction: column;align-items: center;background-color: white;padding-right: 0.2em;padding-left: 0.2em;position: relative;}#sk-container-id-3 div.sk-item {position: relative;z-index: 1;}#sk-container-id-3 div.sk-parallel {display: flex;align-items: stretch;justify-content: center;background-color: white;position: relative;}#sk-container-id-3 div.sk-item::before, #sk-container-id-3 div.sk-parallel-item::before {content: \"\";position: absolute;border-left: 1px solid gray;box-sizing: border-box;top: 0;bottom: 0;left: 50%;z-index: -1;}#sk-container-id-3 div.sk-parallel-item {display: flex;flex-direction: column;z-index: 1;position: relative;background-color: white;}#sk-container-id-3 div.sk-parallel-item:first-child::after {align-self: flex-end;width: 50%;}#sk-container-id-3 div.sk-parallel-item:last-child::after {align-self: flex-start;width: 50%;}#sk-container-id-3 div.sk-parallel-item:only-child::after {width: 0;}#sk-container-id-3 div.sk-dashed-wrapped {border: 1px dashed gray;margin: 0 0.4em 0.5em 0.4em;box-sizing: border-box;padding-bottom: 0.4em;background-color: white;}#sk-container-id-3 div.sk-label label {font-family: monospace;font-weight: bold;display: inline-block;line-height: 1.2em;}#sk-container-id-3 div.sk-label-container {text-align: center;}#sk-container-id-3 div.sk-container {/* jupyter's `normalize.less` sets `[hidden] { display: none; }` but bootstrap.min.css set `[hidden] { display: none !important; }` so we also need the `!important` here to be able to override the default hidden behavior on the sphinx rendered scikit-learn.org. See: https://github.com/scikit-learn/scikit-learn/issues/21755 */display: inline-block !important;position: relative;}#sk-container-id-3 div.sk-text-repr-fallback {display: none;}</style><div id=\"sk-container-id-3\" class=\"sk-top-container\"><div class=\"sk-text-repr-fallback\"><pre>RandomForestRegressor(max_depth=10, max_features=&#x27;sqrt&#x27;, n_estimators=50,\n",
              "                      n_jobs=-1, random_state=42, verbose=1)</pre><b>In a Jupyter environment, please rerun this cell to show the HTML representation or trust the notebook. <br />On GitHub, the HTML representation is unable to render, please try loading this page with nbviewer.org.</b></div><div class=\"sk-container\" hidden><div class=\"sk-item\"><div class=\"sk-estimator sk-toggleable\"><input class=\"sk-toggleable__control sk-hidden--visually\" id=\"sk-estimator-id-3\" type=\"checkbox\" checked><label for=\"sk-estimator-id-3\" class=\"sk-toggleable__label sk-toggleable__label-arrow\">RandomForestRegressor</label><div class=\"sk-toggleable__content\"><pre>RandomForestRegressor(max_depth=10, max_features=&#x27;sqrt&#x27;, n_estimators=50,\n",
              "                      n_jobs=-1, random_state=42, verbose=1)</pre></div></div></div></div></div>"
            ]
          },
          "metadata": {},
          "execution_count": 217
        }
      ],
      "source": [
        "# Using best params from the tuned model in V1\n",
        "best_params = {}\n",
        "best_params['n_estimators'] = 50\n",
        "best_params['max_depth'] = 10\n",
        "best_params['max_features'] = 'sqrt'\n",
        "\n",
        "# model1\n",
        "cv_model1 = RandomForestRegressor(**best_params, random_state=42, n_jobs=-1, verbose=1)\n",
        "cv_model1.fit(X_train_cv1, list(y_train_cv1))"
      ]
    },
    {
      "cell_type": "code",
      "source": [
        "X_train_cv1.columns"
      ],
      "metadata": {
        "colab": {
          "base_uri": "https://localhost:8080/"
        },
        "id": "Z59d-2ggyk3G",
        "outputId": "a041852c-c239-4e81-ad9a-50e63f6747c3"
      },
      "execution_count": 193,
      "outputs": [
        {
          "output_type": "execute_result",
          "data": {
            "text/plain": [
              "Index(['month', 'day', 'hour', 'TA_ERA', 'SW_IN_ERA', 'LW_IN_ERA', 'VPD_ERA',\n",
              "       'P_ERA', 'PA_ERA', 'EVI', 'NDVI', 'NIRv', 'b1', 'b2', 'b3', 'b4', 'b5',\n",
              "       'b6', 'b7', 'TA_ERA_szn_mean', 'TA_ERA_amp_msc', 'TA_ERA_min_msc',\n",
              "       'SW_IN_ERA_szn_mean', 'SW_IN_ERA_amp_msc', 'SW_IN_ERA_min_msc',\n",
              "       'P_ERA_szn_mean', 'P_ERA_amp_msc', 'P_ERA_min_msc', 'EVI_szn_mean',\n",
              "       'EVI_amp_msc', 'EVI_min_msc', 'NDVI_szn_mean', 'NDVI_amp_msc',\n",
              "       'NDVI_min_msc', 'NIRv_szn_mean', 'NIRv_amp_msc', 'NIRv_min_msc',\n",
              "       'b4_szn_mean', 'b4_amp_msc', 'b4_min_msc', 'prcp_week_sum',\n",
              "       'prcp_month_sum', 'koppen_sub', 'koppen_main', 'c3c4', 'c4_percent',\n",
              "       'hemisphere_NS', 'lat_band', 'BESS-PAR', 'BESS-PARdiff', 'BESS-RSDN',\n",
              "       'CSIF-SIFdaily', 'PET', 'Ts', 'prcp', 'prcp-lag3', 'ESACCI-sm',\n",
              "       'MODIS_LC', 'NDWI', 'Percent_Snow', 'Fpar', 'Lai', 'LST_Day',\n",
              "       'LST_Night', 'MODIS_IGBP', 'MODIS_PFT'],\n",
              "      dtype='object')"
            ]
          },
          "metadata": {},
          "execution_count": 193
        }
      ]
    },
    {
      "cell_type": "code",
      "source": [
        "# model2\n",
        "cv_model2 = RandomForestRegressor(**best_params, random_state=42, n_jobs=-1, verbose=1)\n",
        "cv_model2.fit(X_train_cv2, y_train_cv2)\n",
        "\n",
        "# model3\n",
        "cv_model3 = RandomForestRegressor(**best_params, random_state=42, n_jobs=-1, verbose=1)\n",
        "cv_model3.fit(X_train_cv3, y_train_cv3)\n",
        "\n",
        "# model4\n",
        "cv_model4 = RandomForestRegressor(**best_params, random_state=42, n_jobs=-1, verbose=1)\n",
        "cv_model4.fit(X_train_cv4, y_train_cv4)\n"
      ],
      "metadata": {
        "colab": {
          "base_uri": "https://localhost:8080/",
          "height": 258
        },
        "id": "2PtLRKNBsTXI",
        "outputId": "c7610694-5796-4e21-b596-7af8841f8e25"
      },
      "execution_count": 228,
      "outputs": [
        {
          "output_type": "stream",
          "name": "stderr",
          "text": [
            "[Parallel(n_jobs=-1)]: Using backend ThreadingBackend with 12 concurrent workers.\n",
            "[Parallel(n_jobs=-1)]: Done  26 tasks      | elapsed:   27.1s\n",
            "[Parallel(n_jobs=-1)]: Done  50 out of  50 | elapsed:   43.3s finished\n",
            "[Parallel(n_jobs=-1)]: Using backend ThreadingBackend with 12 concurrent workers.\n",
            "[Parallel(n_jobs=-1)]: Done  26 tasks      | elapsed:   26.0s\n",
            "[Parallel(n_jobs=-1)]: Done  50 out of  50 | elapsed:   41.1s finished\n",
            "[Parallel(n_jobs=-1)]: Using backend ThreadingBackend with 12 concurrent workers.\n",
            "[Parallel(n_jobs=-1)]: Done  26 tasks      | elapsed:   27.5s\n",
            "[Parallel(n_jobs=-1)]: Done  50 out of  50 | elapsed:   44.6s finished\n"
          ]
        },
        {
          "output_type": "execute_result",
          "data": {
            "text/plain": [
              "RandomForestRegressor(max_depth=10, max_features='sqrt', n_estimators=50,\n",
              "                      n_jobs=-1, random_state=42, verbose=1)"
            ],
            "text/html": [
              "<style>#sk-container-id-4 {color: black;background-color: white;}#sk-container-id-4 pre{padding: 0;}#sk-container-id-4 div.sk-toggleable {background-color: white;}#sk-container-id-4 label.sk-toggleable__label {cursor: pointer;display: block;width: 100%;margin-bottom: 0;padding: 0.3em;box-sizing: border-box;text-align: center;}#sk-container-id-4 label.sk-toggleable__label-arrow:before {content: \"▸\";float: left;margin-right: 0.25em;color: #696969;}#sk-container-id-4 label.sk-toggleable__label-arrow:hover:before {color: black;}#sk-container-id-4 div.sk-estimator:hover label.sk-toggleable__label-arrow:before {color: black;}#sk-container-id-4 div.sk-toggleable__content {max-height: 0;max-width: 0;overflow: hidden;text-align: left;background-color: #f0f8ff;}#sk-container-id-4 div.sk-toggleable__content pre {margin: 0.2em;color: black;border-radius: 0.25em;background-color: #f0f8ff;}#sk-container-id-4 input.sk-toggleable__control:checked~div.sk-toggleable__content {max-height: 200px;max-width: 100%;overflow: auto;}#sk-container-id-4 input.sk-toggleable__control:checked~label.sk-toggleable__label-arrow:before {content: \"▾\";}#sk-container-id-4 div.sk-estimator input.sk-toggleable__control:checked~label.sk-toggleable__label {background-color: #d4ebff;}#sk-container-id-4 div.sk-label input.sk-toggleable__control:checked~label.sk-toggleable__label {background-color: #d4ebff;}#sk-container-id-4 input.sk-hidden--visually {border: 0;clip: rect(1px 1px 1px 1px);clip: rect(1px, 1px, 1px, 1px);height: 1px;margin: -1px;overflow: hidden;padding: 0;position: absolute;width: 1px;}#sk-container-id-4 div.sk-estimator {font-family: monospace;background-color: #f0f8ff;border: 1px dotted black;border-radius: 0.25em;box-sizing: border-box;margin-bottom: 0.5em;}#sk-container-id-4 div.sk-estimator:hover {background-color: #d4ebff;}#sk-container-id-4 div.sk-parallel-item::after {content: \"\";width: 100%;border-bottom: 1px solid gray;flex-grow: 1;}#sk-container-id-4 div.sk-label:hover label.sk-toggleable__label {background-color: #d4ebff;}#sk-container-id-4 div.sk-serial::before {content: \"\";position: absolute;border-left: 1px solid gray;box-sizing: border-box;top: 0;bottom: 0;left: 50%;z-index: 0;}#sk-container-id-4 div.sk-serial {display: flex;flex-direction: column;align-items: center;background-color: white;padding-right: 0.2em;padding-left: 0.2em;position: relative;}#sk-container-id-4 div.sk-item {position: relative;z-index: 1;}#sk-container-id-4 div.sk-parallel {display: flex;align-items: stretch;justify-content: center;background-color: white;position: relative;}#sk-container-id-4 div.sk-item::before, #sk-container-id-4 div.sk-parallel-item::before {content: \"\";position: absolute;border-left: 1px solid gray;box-sizing: border-box;top: 0;bottom: 0;left: 50%;z-index: -1;}#sk-container-id-4 div.sk-parallel-item {display: flex;flex-direction: column;z-index: 1;position: relative;background-color: white;}#sk-container-id-4 div.sk-parallel-item:first-child::after {align-self: flex-end;width: 50%;}#sk-container-id-4 div.sk-parallel-item:last-child::after {align-self: flex-start;width: 50%;}#sk-container-id-4 div.sk-parallel-item:only-child::after {width: 0;}#sk-container-id-4 div.sk-dashed-wrapped {border: 1px dashed gray;margin: 0 0.4em 0.5em 0.4em;box-sizing: border-box;padding-bottom: 0.4em;background-color: white;}#sk-container-id-4 div.sk-label label {font-family: monospace;font-weight: bold;display: inline-block;line-height: 1.2em;}#sk-container-id-4 div.sk-label-container {text-align: center;}#sk-container-id-4 div.sk-container {/* jupyter's `normalize.less` sets `[hidden] { display: none; }` but bootstrap.min.css set `[hidden] { display: none !important; }` so we also need the `!important` here to be able to override the default hidden behavior on the sphinx rendered scikit-learn.org. See: https://github.com/scikit-learn/scikit-learn/issues/21755 */display: inline-block !important;position: relative;}#sk-container-id-4 div.sk-text-repr-fallback {display: none;}</style><div id=\"sk-container-id-4\" class=\"sk-top-container\"><div class=\"sk-text-repr-fallback\"><pre>RandomForestRegressor(max_depth=10, max_features=&#x27;sqrt&#x27;, n_estimators=50,\n",
              "                      n_jobs=-1, random_state=42, verbose=1)</pre><b>In a Jupyter environment, please rerun this cell to show the HTML representation or trust the notebook. <br />On GitHub, the HTML representation is unable to render, please try loading this page with nbviewer.org.</b></div><div class=\"sk-container\" hidden><div class=\"sk-item\"><div class=\"sk-estimator sk-toggleable\"><input class=\"sk-toggleable__control sk-hidden--visually\" id=\"sk-estimator-id-4\" type=\"checkbox\" checked><label for=\"sk-estimator-id-4\" class=\"sk-toggleable__label sk-toggleable__label-arrow\">RandomForestRegressor</label><div class=\"sk-toggleable__content\"><pre>RandomForestRegressor(max_depth=10, max_features=&#x27;sqrt&#x27;, n_estimators=50,\n",
              "                      n_jobs=-1, random_state=42, verbose=1)</pre></div></div></div></div></div>"
            ]
          },
          "metadata": {},
          "execution_count": 228
        }
      ]
    },
    {
      "cell_type": "markdown",
      "metadata": {
        "id": "91YY_BZajnjQ"
      },
      "source": [
        "# Compare Feature Importances"
      ]
    },
    {
      "cell_type": "code",
      "source": [
        "def feature_importance(model, model_name, columns, fig_num, fig, ax):\n",
        "    # get the feature importances\n",
        "  importances = pd.Series(model.feature_importances_, index=columns)#.sort_values(ascending=False)\n",
        "  # Visualize\n",
        "  importances_sorted = importances.sort_values(ascending=True)[-30:]\n",
        "\n",
        "  ax[fig_num].barh(importances_sorted.index, importances_sorted.values)\n",
        "  ax[fig_num].set_title(model_name + '  Feature Importances')\n",
        "  ax[fig_num].set_xlabel('Importance')\n",
        "  ax[fig_num].set_ylabel('Feature')\n",
        "  return importances"
      ],
      "metadata": {
        "id": "kaPjRMLOswF7"
      },
      "execution_count": 233,
      "outputs": []
    },
    {
      "cell_type": "code",
      "source": [
        "X_test_cv1.columns"
      ],
      "metadata": {
        "colab": {
          "base_uri": "https://localhost:8080/"
        },
        "id": "kxS4mQRy1pOy",
        "outputId": "51ee15a2-baaa-46c1-c438-5a05dfc2f49b"
      },
      "execution_count": 220,
      "outputs": [
        {
          "output_type": "execute_result",
          "data": {
            "text/plain": [
              "Index(['TA_ERA', 'SW_IN_ERA', 'LW_IN_ERA', 'VPD_ERA', 'P_ERA', 'PA_ERA', 'EVI',\n",
              "       'NDVI', 'NIRv', 'b1', 'b2', 'b3', 'b4', 'b5', 'b6', 'b7',\n",
              "       'TA_ERA_szn_mean', 'TA_ERA_amp_msc', 'TA_ERA_min_msc',\n",
              "       'SW_IN_ERA_szn_mean', 'SW_IN_ERA_amp_msc', 'SW_IN_ERA_min_msc',\n",
              "       'P_ERA_szn_mean', 'P_ERA_amp_msc', 'P_ERA_min_msc', 'EVI_szn_mean',\n",
              "       'EVI_amp_msc', 'EVI_min_msc', 'NDVI_szn_mean', 'NDVI_amp_msc',\n",
              "       'NDVI_min_msc', 'NIRv_szn_mean', 'NIRv_amp_msc', 'NIRv_min_msc',\n",
              "       'b4_szn_mean', 'b4_amp_msc', 'b4_min_msc', 'prcp_week_sum',\n",
              "       'prcp_month_sum', 'c4_percent', 'BESS-PAR', 'BESS-PARdiff', 'BESS-RSDN',\n",
              "       'CSIF-SIFdaily', 'PET', 'Ts', 'prcp', 'prcp-lag3', 'ESACCI-sm', 'NDWI',\n",
              "       'Percent_Snow', 'Fpar', 'Lai', 'LST_Day', 'LST_Night', 'koppen_sub',\n",
              "       'koppen_main', 'month', 'day', 'hour', 'MODIS_LC', 'c3c4_C3', 'c3c4_C4',\n",
              "       'c3c4_mix', 'c3c4_rotation', 'c3c4_unknown', 'MODIS_PFT_CRO',\n",
              "       'MODIS_PFT_DBF', 'MODIS_PFT_EBF', 'MODIS_PFT_ENF', 'MODIS_PFT_GRA',\n",
              "       'MODIS_PFT_MF', 'MODIS_PFT_Other', 'MODIS_PFT_SA', 'MODIS_PFT_SH',\n",
              "       'MODIS_IGBP_CRO', 'MODIS_IGBP_CSH', 'MODIS_IGBP_DBF', 'MODIS_IGBP_EBF',\n",
              "       'MODIS_IGBP_ENF', 'MODIS_IGBP_GRA', 'MODIS_IGBP_MF', 'MODIS_IGBP_OSH',\n",
              "       'MODIS_IGBP_SAV', 'MODIS_IGBP_URB', 'MODIS_IGBP_WAT', 'MODIS_IGBP_WET',\n",
              "       'MODIS_IGBP_WSA', 'hemisphere_NS_North', 'hemisphere_NS_South',\n",
              "       'lat_band_lat_band_2', 'lat_band_lat_band_3', 'lat_band_lat_band_4',\n",
              "       'lat_band_lat_band_5'],\n",
              "      dtype='object')"
            ]
          },
          "metadata": {},
          "execution_count": 220
        }
      ]
    },
    {
      "cell_type": "code",
      "source": [
        "import seaborn as sns\n",
        "sns.set_theme(style=\"darkgrid\")\n",
        "sns.set(rc={'figure.figsize':(30,10), })\n",
        "fig, ax = plt.subplots(1, 4, figsize=(20,10))\n",
        "\n",
        "cv1_importances = feature_importance(cv_model1, \"CV1\", X_test_cv1.columns, 0, fig, ax)\n",
        "cv2_importances = feature_importance(cv_model2, \"CV2\", X_test_cv1.columns, 1, fig, ax)\n",
        "cv3_importances = feature_importance(cv_model3, \"CV3\", X_test_cv1.columns, 2, fig, ax)\n",
        "cv4_importances = feature_importance(cv_model4, \"CV4\", X_test_cv1.columns, 3, fig, ax)\n",
        "fig.tight_layout()\n",
        "plt.show()\n"
      ],
      "metadata": {
        "colab": {
          "base_uri": "https://localhost:8080/",
          "height": 613
        },
        "id": "ciVJCNSqswCn",
        "outputId": "edbaef9e-e159-45cc-9466-44d45efa4d31"
      },
      "execution_count": 234,
      "outputs": [
        {
          "output_type": "display_data",
          "data": {
            "text/plain": [
              "<Figure size 2000x1000 with 4 Axes>"
            ],
            "image/png": "[encoded data removed]"
          },
          "metadata": {}
        }
      ]
    },
    {
      "cell_type": "code",
      "execution_count": 243,
      "metadata": {
        "tags": [],
        "id": "gKRtoIlKjnjS"
      },
      "outputs": [],
      "source": [
        "cv_importances_df =pd.DataFrame() \n",
        "cv_importances_df[\"cv1\"] = cv1_importances\n",
        "cv_importances_df[\"cv2\"] = cv2_importances\n",
        "cv_importances_df[\"cv3\"] = cv3_importances\n",
        "cv_importances_df[\"cv4\"] = cv4_importances \n",
        "cv_importances_df = cv_importances_df.reset_index()\n",
        "cv_importances_df.columns = ['feature_name','cv1', 'cv2', 'cv3', 'cv4']"
      ]
    },
    {
      "cell_type": "code",
      "source": [
        "cv_importances_df.to_csv(\"cv_importances_rfr_df_April1.csv\")"
      ],
      "metadata": {
        "id": "tp4h7TIv5rJU"
      },
      "execution_count": 245,
      "outputs": []
    },
    {
      "cell_type": "code",
      "execution_count": null,
      "metadata": {
        "tags": [],
        "id": "RYB4PKBZamyN"
      },
      "outputs": [],
      "source": [
        "# # Save model object\n",
        "# model_save_path_pkl = os.path.join(model_objects_dir, 'rfr_mvp_v2_eng_feats.pkl')\n",
        "# model_save_path_jl = os.path.join(model_objects_dir, 'rfr_mvp_v2_eng_feats.joblib')\n",
        "# if not os.path.exists(model_save_path_pkl):\n",
        "#     print(\"Saving model in .pkl format\")\n",
        "#     joblib.dump(model, model_save_path_pkl)\n",
        "    \n",
        "# if not os.path.exists(model_save_path_jl):\n",
        "#     print(\"Saving model in .joblib format\")\n",
        "#     joblib.dump(model, model_save_path_jl)"
      ]
    },
    {
      "cell_type": "code",
      "execution_count": null,
      "metadata": {
        "id": "ZCtElAxbamyO"
      },
      "outputs": [],
      "source": [
        "# Re-load saved model\n",
        "# try:\n",
        "#     model_pkl = joblib.load(model_save_path_pkl)\n",
        "#     model_jl = joblib.load(model_save_path_jl)\n",
        "#     print(\"Loaded both model objects\")\n",
        "# except:\n",
        "#     print(\"unable to load models, make sure object paths are correct and conda env in use\")"
      ]
    },
    {
      "cell_type": "code",
      "execution_count": null,
      "metadata": {
        "tags": [],
        "id": "9wu0b8bBamyO"
      },
      "outputs": [],
      "source": [
        "# Load scaler objects\n",
        "# scaler_v2_obj = '/root/co2-flux-hourly-gpp-modeling/code/src/preprocessing/preproc_objects/scaler_rfr-mvp-v2.joblib'\n",
        "# try:\n",
        "#     scaler_v2 = joblib.load(scaler_v2_obj)\n",
        "#     print(\"Loaded scaler objects\")\n",
        "# except:\n",
        "#     print(\"unable to load models, make sure object paths are correct and conda env in use\")"
      ]
    },
    {
      "cell_type": "markdown",
      "metadata": {
        "id": "JK_DTLrKamyP"
      },
      "source": [
        "## Evaluate RFR on Val set"
      ]
    },
    {
      "cell_type": "code",
      "execution_count": 251,
      "metadata": {
        "tags": [],
        "id": "LDrbwlDlamyP"
      },
      "outputs": [],
      "source": [
        "# Predict on val/test sets\n",
        "# y_pred_val = model_pkl.predict(X_val)\n",
        "# y_pred_test = model_pkl.predict(X_test)\n",
        "\n",
        "# Evaluate predictions - VAL\n",
        "def eval_metrics(model, X_val, y_val):\n",
        "  y_pred = model.predict(X_val)\n",
        "  \n",
        "  rmse = np.sqrt(mean_squared_error(y_val, y_pred))\n",
        "  mae = mean_absolute_error(y_val, y_pred)\n",
        "  r2 = r2_score(y_val, y_pred)\n",
        "  print(\"\")\n",
        "  print(f'Val RMSE: {rmse}, \"Val MAE: {mae}, Val R2/NSE: {r2}')\n",
        "  return [rmse, mae, r2]"
      ]
    },
    {
      "cell_type": "code",
      "source": [
        "cv1_result = eval_metrics(cv_model1, X_val_cv1, y_val_cv1)\n",
        "cv2_result = eval_metrics(cv_model2, X_val_cv2, y_val_cv2)\n",
        "cv3_result = eval_metrics(cv_model3, X_val_cv3, y_val_cv3)\n",
        "cv4_result = eval_metrics(cv_model4, X_val_cv4, y_val_cv4)"
      ],
      "metadata": {
        "colab": {
          "base_uri": "https://localhost:8080/"
        },
        "id": "AJ8mM7Se6VpE",
        "outputId": "60a3765f-1b9c-4b68-d5e4-6bb3b0fd3a01"
      },
      "execution_count": 254,
      "outputs": [
        {
          "output_type": "stream",
          "name": "stderr",
          "text": [
            "[Parallel(n_jobs=12)]: Using backend ThreadingBackend with 12 concurrent workers.\n",
            "[Parallel(n_jobs=12)]: Done  26 tasks      | elapsed:    0.2s\n",
            "[Parallel(n_jobs=12)]: Done  50 out of  50 | elapsed:    0.3s finished\n"
          ]
        },
        {
          "output_type": "stream",
          "name": "stdout",
          "text": [
            "\n",
            "Val RMSE: 3.8783755838976104, \"Val MAE: 2.2928570390125502, Val R2/NSE: 0.7175069562621161\n"
          ]
        },
        {
          "output_type": "stream",
          "name": "stderr",
          "text": [
            "[Parallel(n_jobs=12)]: Using backend ThreadingBackend with 12 concurrent workers.\n",
            "[Parallel(n_jobs=12)]: Done  26 tasks      | elapsed:    0.2s\n",
            "[Parallel(n_jobs=12)]: Done  50 out of  50 | elapsed:    0.3s finished\n"
          ]
        },
        {
          "output_type": "stream",
          "name": "stdout",
          "text": [
            "\n",
            "Val RMSE: 4.029824222778579, \"Val MAE: 2.266304371063239, Val R2/NSE: 0.657621494324872\n"
          ]
        },
        {
          "output_type": "stream",
          "name": "stderr",
          "text": [
            "[Parallel(n_jobs=12)]: Using backend ThreadingBackend with 12 concurrent workers.\n",
            "[Parallel(n_jobs=12)]: Done  26 tasks      | elapsed:    0.2s\n",
            "[Parallel(n_jobs=12)]: Done  50 out of  50 | elapsed:    0.3s finished\n"
          ]
        },
        {
          "output_type": "stream",
          "name": "stdout",
          "text": [
            "\n",
            "Val RMSE: 4.707850133616017, \"Val MAE: 2.6141656694026185, Val R2/NSE: 0.6171067139854143\n"
          ]
        },
        {
          "output_type": "stream",
          "name": "stderr",
          "text": [
            "[Parallel(n_jobs=12)]: Using backend ThreadingBackend with 12 concurrent workers.\n",
            "[Parallel(n_jobs=12)]: Done  26 tasks      | elapsed:    0.2s\n"
          ]
        },
        {
          "output_type": "stream",
          "name": "stdout",
          "text": [
            "\n",
            "Val RMSE: 3.685130863578854, \"Val MAE: 2.145072875761819, Val R2/NSE: 0.6945354615523238\n"
          ]
        },
        {
          "output_type": "stream",
          "name": "stderr",
          "text": [
            "[Parallel(n_jobs=12)]: Done  50 out of  50 | elapsed:    0.3s finished\n"
          ]
        }
      ]
    },
    {
      "cell_type": "code",
      "source": [
        "cv_result = [[\"RMSE\", \"MAE\", \"R2\"]]\n",
        "cv_result_df = pd.DataFrame([cv1_result, cv2_result, \n",
        "                             cv3_result, cv4_result],columns=cv_result)\n",
        "cv_result_df"
      ],
      "metadata": {
        "colab": {
          "base_uri": "https://localhost:8080/",
          "height": 175
        },
        "id": "bEgFsted6VlH",
        "outputId": "87ec2f8a-087d-476e-8cf8-c7ad50ac575d"
      },
      "execution_count": 256,
      "outputs": [
        {
          "output_type": "execute_result",
          "data": {
            "text/plain": [
              "     RMSE     MAE      R2\n",
              "0 3.87838 2.29286 0.71751\n",
              "1 4.02982 2.26630 0.65762\n",
              "2 4.70785 2.61417 0.61711\n",
              "3 3.68513 2.14507 0.69454"
            ],
            "text/html": [
              "\n",
              "  <div id=\"df-1a0b4940-d21b-402e-815c-1d7dcd256418\">\n",
              "    <div class=\"colab-df-container\">\n",
              "      <div>\n",
              "<style scoped>\n",
              "    .dataframe tbody tr th:only-of-type {\n",
              "        vertical-align: middle;\n",
              "    }\n",
              "\n",
              "    .dataframe tbody tr th {\n",
              "        vertical-align: top;\n",
              "    }\n",
              "\n",
              "    .dataframe thead tr th {\n",
              "        text-align: left;\n",
              "    }\n",
              "</style>\n",
              "<table border=\"1\" class=\"dataframe\">\n",
              "  <thead>\n",
              "    <tr>\n",
              "      <th></th>\n",
              "      <th>RMSE</th>\n",
              "      <th>MAE</th>\n",
              "      <th>R2</th>\n",
              "    </tr>\n",
              "  </thead>\n",
              "  <tbody>\n",
              "    <tr>\n",
              "      <th>0</th>\n",
              "      <td>3.87838</td>\n",
              "      <td>2.29286</td>\n",
              "      <td>0.71751</td>\n",
              "    </tr>\n",
              "    <tr>\n",
              "      <th>1</th>\n",
              "      <td>4.02982</td>\n",
              "      <td>2.26630</td>\n",
              "      <td>0.65762</td>\n",
              "    </tr>\n",
              "    <tr>\n",
              "      <th>2</th>\n",
              "      <td>4.70785</td>\n",
              "      <td>2.61417</td>\n",
              "      <td>0.61711</td>\n",
              "    </tr>\n",
              "    <tr>\n",
              "      <th>3</th>\n",
              "      <td>3.68513</td>\n",
              "      <td>2.14507</td>\n",
              "      <td>0.69454</td>\n",
              "    </tr>\n",
              "  </tbody>\n",
              "</table>\n",
              "</div>\n",
              "      <button class=\"colab-df-convert\" onclick=\"convertToInteractive('df-1a0b4940-d21b-402e-815c-1d7dcd256418')\"\n",
              "              title=\"Convert this dataframe to an interactive table.\"\n",
              "              style=\"display:none;\">\n",
              "        \n",
              "  <svg xmlns=\"http://www.w3.org/2000/svg\" height=\"24px\"viewBox=\"0 0 24 24\"\n",
              "       width=\"24px\">\n",
              "    <path d=\"M0 0h24v24H0V0z\" fill=\"none\"/>\n",
              "    <path d=\"M18.56 5.44l.94 2.06.94-2.06 2.06-.94-2.06-.94-.94-2.06-.94 2.06-2.06.94zm-11 1L8.5 8.5l.94-2.06 2.06-.94-2.06-.94L8.5 2.5l-.94 2.06-2.06.94zm10 10l.94 2.06.94-2.06 2.06-.94-2.06-.94-.94-2.06-.94 2.06-2.06.94z\"/><path d=\"M17.41 7.96l-1.37-1.37c-.4-.4-.92-.59-1.43-.59-.52 0-1.04.2-1.43.59L10.3 9.45l-7.72 7.72c-.78.78-.78 2.05 0 2.83L4 21.41c.39.39.9.59 1.41.59.51 0 1.02-.2 1.41-.59l7.78-7.78 2.81-2.81c.8-.78.8-2.07 0-2.86zM5.41 20L4 18.59l7.72-7.72 1.47 1.35L5.41 20z\"/>\n",
              "  </svg>\n",
              "      </button>\n",
              "      \n",
              "  <style>\n",
              "    .colab-df-container {\n",
              "      display:flex;\n",
              "      flex-wrap:wrap;\n",
              "      gap: 12px;\n",
              "    }\n",
              "\n",
              "    .colab-df-convert {\n",
              "      background-color: #E8F0FE;\n",
              "      border: none;\n",
              "      border-radius: 50%;\n",
              "      cursor: pointer;\n",
              "      display: none;\n",
              "      fill: #1967D2;\n",
              "      height: 32px;\n",
              "      padding: 0 0 0 0;\n",
              "      width: 32px;\n",
              "    }\n",
              "\n",
              "    .colab-df-convert:hover {\n",
              "      background-color: #E2EBFA;\n",
              "      box-shadow: 0px 1px 2px rgba(60, 64, 67, 0.3), 0px 1px 3px 1px rgba(60, 64, 67, 0.15);\n",
              "      fill: #174EA6;\n",
              "    }\n",
              "\n",
              "    [theme=dark] .colab-df-convert {\n",
              "      background-color: #3B4455;\n",
              "      fill: #D2E3FC;\n",
              "    }\n",
              "\n",
              "    [theme=dark] .colab-df-convert:hover {\n",
              "      background-color: #434B5C;\n",
              "      box-shadow: 0px 1px 3px 1px rgba(0, 0, 0, 0.15);\n",
              "      filter: drop-shadow(0px 1px 2px rgba(0, 0, 0, 0.3));\n",
              "      fill: #FFFFFF;\n",
              "    }\n",
              "  </style>\n",
              "\n",
              "      <script>\n",
              "        const buttonEl =\n",
              "          document.querySelector('#df-1a0b4940-d21b-402e-815c-1d7dcd256418 button.colab-df-convert');\n",
              "        buttonEl.style.display =\n",
              "          google.colab.kernel.accessAllowed ? 'block' : 'none';\n",
              "\n",
              "        async function convertToInteractive(key) {\n",
              "          const element = document.querySelector('#df-1a0b4940-d21b-402e-815c-1d7dcd256418');\n",
              "          const dataTable =\n",
              "            await google.colab.kernel.invokeFunction('convertToInteractive',\n",
              "                                                     [key], {});\n",
              "          if (!dataTable) return;\n",
              "\n",
              "          const docLinkHtml = 'Like what you see? Visit the ' +\n",
              "            '<a target=\"_blank\" href=https://colab.research.google.com/notebooks/data_table.ipynb>data table notebook</a>'\n",
              "            + ' to learn more about interactive tables.';\n",
              "          element.innerHTML = '';\n",
              "          dataTable['output_type'] = 'display_data';\n",
              "          await google.colab.output.renderOutput(dataTable, element);\n",
              "          const docLink = document.createElement('div');\n",
              "          docLink.innerHTML = docLinkHtml;\n",
              "          element.appendChild(docLink);\n",
              "        }\n",
              "      </script>\n",
              "    </div>\n",
              "  </div>\n",
              "  "
            ]
          },
          "metadata": {},
          "execution_count": 256
        }
      ]
    },
    {
      "cell_type": "code",
      "source": [
        "cv_result_df.mean()"
      ],
      "metadata": {
        "colab": {
          "base_uri": "https://localhost:8080/"
        },
        "id": "Exz2uWbK70ln",
        "outputId": "45bf2aa7-9b64-4a36-f84d-a09f123500e8"
      },
      "execution_count": 257,
      "outputs": [
        {
          "output_type": "execute_result",
          "data": {
            "text/plain": [
              "RMSE   4.07530\n",
              "MAE    2.32960\n",
              "R2     0.67169\n",
              "dtype: float64"
            ]
          },
          "metadata": {},
          "execution_count": 257
        }
      ]
    },
    {
      "cell_type": "code",
      "source": [
        "len(cv_importances_df['feature_name'])"
      ],
      "metadata": {
        "colab": {
          "base_uri": "https://localhost:8080/"
        },
        "id": "wMzSs5uJ_bC5",
        "outputId": "93938f16-fe37-41f6-9981-47bb2a7f54de"
      },
      "execution_count": 279,
      "outputs": [
        {
          "output_type": "execute_result",
          "data": {
            "text/plain": [
              "94"
            ]
          },
          "metadata": {},
          "execution_count": 279
        }
      ]
    },
    {
      "cell_type": "markdown",
      "source": [
        "# TOP7 Cross Validation"
      ],
      "metadata": {
        "id": "S7qyu77D8op4"
      }
    },
    {
      "cell_type": "markdown",
      "source": [
        "SW, hour, VPD, NIRv, NDVI, EVI, TA, "
      ],
      "metadata": {
        "id": "1OWdPW9F8wxb"
      }
    },
    {
      "cell_type": "code",
      "source": [
        "top7 = ['TA_ERA','hour','SW_IN_ERA','VPD_ERA','EVI','NDVI', 'NIRv']"
      ],
      "metadata": {
        "id": "uH8TI7n4-jEf"
      },
      "execution_count": 277,
      "outputs": []
    },
    {
      "cell_type": "code",
      "source": [
        "def reduce_features(new_features, X_train, y_train, X_val, y_val, X_test, y_test):\n",
        "  X_train = X_train[new_features]\n",
        "  X_val = X_val[new_features]\n",
        "  X_test = X_test[new_features]\n",
        "  return X_train, y_train, X_val, y_val, X_test, y_test"
      ],
      "metadata": {
        "id": "DklJ1gNC8tev"
      },
      "execution_count": 280,
      "outputs": []
    },
    {
      "cell_type": "code",
      "source": [
        "X_train_cv1, y_train_cv1, X_val_cv1, y_val_cv1, X_test_cv1, y_test_cv1 = reduce_features(top7, X_train_cv1, y_train_cv1, X_val_cv1, y_val_cv1, X_test_cv1, y_test_cv1)"
      ],
      "metadata": {
        "id": "jrHhU7-1A74K"
      },
      "execution_count": 282,
      "outputs": []
    },
    {
      "cell_type": "code",
      "source": [
        "X_train_cv2, y_train_cv2, X_val_cv2, y_val_cv2, X_test_cv2, y_test_cv2 = reduce_features(top7, X_train_cv2, y_train_cv2, X_val_cv2, y_val_cv2, X_test_cv2, y_test_cv2)                                                                                   \n",
        "X_train_cv3, y_train_cv3, X_val_cv3, y_val_cv3, X_test_cv3, y_test_cv3 = reduce_features(top7, X_train_cv3, y_train_cv3, X_val_cv3, y_val_cv3, X_test_cv3, y_test_cv3)\n",
        "X_train_cv4, y_train_cv4, X_val_cv4, y_val_cv4, X_test_cv4, y_test_cv4 = reduce_features(top7, X_train_cv4, y_train_cv4, X_val_cv4, y_val_cv4, X_test_cv4, y_test_cv4)"
      ],
      "metadata": {
        "id": "I3QLrNw7-Z37"
      },
      "execution_count": 285,
      "outputs": []
    },
    {
      "cell_type": "code",
      "source": [
        "cv_model1_7 = RandomForestRegressor(**best_params, random_state=42, n_jobs=-1, verbose=1)\n",
        "cv_model1_7.fit(X_train_cv1, list(y_train_cv1))"
      ],
      "metadata": {
        "colab": {
          "base_uri": "https://localhost:8080/",
          "height": 148
        },
        "id": "zwmOxak4BnmH",
        "outputId": "ae1485cd-4294-45fc-b6bc-4d34f91c0ae3"
      },
      "execution_count": 286,
      "outputs": [
        {
          "output_type": "stream",
          "name": "stderr",
          "text": [
            "[Parallel(n_jobs=-1)]: Using backend ThreadingBackend with 12 concurrent workers.\n",
            "[Parallel(n_jobs=-1)]: Done  26 tasks      | elapsed:   19.0s\n",
            "[Parallel(n_jobs=-1)]: Done  50 out of  50 | elapsed:   29.6s finished\n"
          ]
        },
        {
          "output_type": "execute_result",
          "data": {
            "text/plain": [
              "RandomForestRegressor(max_depth=10, max_features='sqrt', n_estimators=50,\n",
              "                      n_jobs=-1, random_state=42, verbose=1)"
            ],
            "text/html": [
              "<style>#sk-container-id-5 {color: black;background-color: white;}#sk-container-id-5 pre{padding: 0;}#sk-container-id-5 div.sk-toggleable {background-color: white;}#sk-container-id-5 label.sk-toggleable__label {cursor: pointer;display: block;width: 100%;margin-bottom: 0;padding: 0.3em;box-sizing: border-box;text-align: center;}#sk-container-id-5 label.sk-toggleable__label-arrow:before {content: \"▸\";float: left;margin-right: 0.25em;color: #696969;}#sk-container-id-5 label.sk-toggleable__label-arrow:hover:before {color: black;}#sk-container-id-5 div.sk-estimator:hover label.sk-toggleable__label-arrow:before {color: black;}#sk-container-id-5 div.sk-toggleable__content {max-height: 0;max-width: 0;overflow: hidden;text-align: left;background-color: #f0f8ff;}#sk-container-id-5 div.sk-toggleable__content pre {margin: 0.2em;color: black;border-radius: 0.25em;background-color: #f0f8ff;}#sk-container-id-5 input.sk-toggleable__control:checked~div.sk-toggleable__content {max-height: 200px;max-width: 100%;overflow: auto;}#sk-container-id-5 input.sk-toggleable__control:checked~label.sk-toggleable__label-arrow:before {content: \"▾\";}#sk-container-id-5 div.sk-estimator input.sk-toggleable__control:checked~label.sk-toggleable__label {background-color: #d4ebff;}#sk-container-id-5 div.sk-label input.sk-toggleable__control:checked~label.sk-toggleable__label {background-color: #d4ebff;}#sk-container-id-5 input.sk-hidden--visually {border: 0;clip: rect(1px 1px 1px 1px);clip: rect(1px, 1px, 1px, 1px);height: 1px;margin: -1px;overflow: hidden;padding: 0;position: absolute;width: 1px;}#sk-container-id-5 div.sk-estimator {font-family: monospace;background-color: #f0f8ff;border: 1px dotted black;border-radius: 0.25em;box-sizing: border-box;margin-bottom: 0.5em;}#sk-container-id-5 div.sk-estimator:hover {background-color: #d4ebff;}#sk-container-id-5 div.sk-parallel-item::after {content: \"\";width: 100%;border-bottom: 1px solid gray;flex-grow: 1;}#sk-container-id-5 div.sk-label:hover label.sk-toggleable__label {background-color: #d4ebff;}#sk-container-id-5 div.sk-serial::before {content: \"\";position: absolute;border-left: 1px solid gray;box-sizing: border-box;top: 0;bottom: 0;left: 50%;z-index: 0;}#sk-container-id-5 div.sk-serial {display: flex;flex-direction: column;align-items: center;background-color: white;padding-right: 0.2em;padding-left: 0.2em;position: relative;}#sk-container-id-5 div.sk-item {position: relative;z-index: 1;}#sk-container-id-5 div.sk-parallel {display: flex;align-items: stretch;justify-content: center;background-color: white;position: relative;}#sk-container-id-5 div.sk-item::before, #sk-container-id-5 div.sk-parallel-item::before {content: \"\";position: absolute;border-left: 1px solid gray;box-sizing: border-box;top: 0;bottom: 0;left: 50%;z-index: -1;}#sk-container-id-5 div.sk-parallel-item {display: flex;flex-direction: column;z-index: 1;position: relative;background-color: white;}#sk-container-id-5 div.sk-parallel-item:first-child::after {align-self: flex-end;width: 50%;}#sk-container-id-5 div.sk-parallel-item:last-child::after {align-self: flex-start;width: 50%;}#sk-container-id-5 div.sk-parallel-item:only-child::after {width: 0;}#sk-container-id-5 div.sk-dashed-wrapped {border: 1px dashed gray;margin: 0 0.4em 0.5em 0.4em;box-sizing: border-box;padding-bottom: 0.4em;background-color: white;}#sk-container-id-5 div.sk-label label {font-family: monospace;font-weight: bold;display: inline-block;line-height: 1.2em;}#sk-container-id-5 div.sk-label-container {text-align: center;}#sk-container-id-5 div.sk-container {/* jupyter's `normalize.less` sets `[hidden] { display: none; }` but bootstrap.min.css set `[hidden] { display: none !important; }` so we also need the `!important` here to be able to override the default hidden behavior on the sphinx rendered scikit-learn.org. See: https://github.com/scikit-learn/scikit-learn/issues/21755 */display: inline-block !important;position: relative;}#sk-container-id-5 div.sk-text-repr-fallback {display: none;}</style><div id=\"sk-container-id-5\" class=\"sk-top-container\"><div class=\"sk-text-repr-fallback\"><pre>RandomForestRegressor(max_depth=10, max_features=&#x27;sqrt&#x27;, n_estimators=50,\n",
              "                      n_jobs=-1, random_state=42, verbose=1)</pre><b>In a Jupyter environment, please rerun this cell to show the HTML representation or trust the notebook. <br />On GitHub, the HTML representation is unable to render, please try loading this page with nbviewer.org.</b></div><div class=\"sk-container\" hidden><div class=\"sk-item\"><div class=\"sk-estimator sk-toggleable\"><input class=\"sk-toggleable__control sk-hidden--visually\" id=\"sk-estimator-id-5\" type=\"checkbox\" checked><label for=\"sk-estimator-id-5\" class=\"sk-toggleable__label sk-toggleable__label-arrow\">RandomForestRegressor</label><div class=\"sk-toggleable__content\"><pre>RandomForestRegressor(max_depth=10, max_features=&#x27;sqrt&#x27;, n_estimators=50,\n",
              "                      n_jobs=-1, random_state=42, verbose=1)</pre></div></div></div></div></div>"
            ]
          },
          "metadata": {},
          "execution_count": 286
        }
      ]
    },
    {
      "cell_type": "code",
      "source": [
        "cv_model2_7 = RandomForestRegressor(**best_params, random_state=42, n_jobs=-1, verbose=1)\n",
        "cv_model2_7.fit(X_train_cv2, list(y_train_cv2))"
      ],
      "metadata": {
        "colab": {
          "base_uri": "https://localhost:8080/",
          "height": 148
        },
        "id": "bW2QtOSjBtqR",
        "outputId": "a1350b5d-fcba-44c1-9e56-95c93e8189d6"
      },
      "execution_count": 287,
      "outputs": [
        {
          "output_type": "stream",
          "name": "stderr",
          "text": [
            "[Parallel(n_jobs=-1)]: Using backend ThreadingBackend with 12 concurrent workers.\n",
            "[Parallel(n_jobs=-1)]: Done  26 tasks      | elapsed:   19.4s\n",
            "[Parallel(n_jobs=-1)]: Done  50 out of  50 | elapsed:   30.7s finished\n"
          ]
        },
        {
          "output_type": "execute_result",
          "data": {
            "text/plain": [
              "RandomForestRegressor(max_depth=10, max_features='sqrt', n_estimators=50,\n",
              "                      n_jobs=-1, random_state=42, verbose=1)"
            ],
            "text/html": [
              "<style>#sk-container-id-6 {color: black;background-color: white;}#sk-container-id-6 pre{padding: 0;}#sk-container-id-6 div.sk-toggleable {background-color: white;}#sk-container-id-6 label.sk-toggleable__label {cursor: pointer;display: block;width: 100%;margin-bottom: 0;padding: 0.3em;box-sizing: border-box;text-align: center;}#sk-container-id-6 label.sk-toggleable__label-arrow:before {content: \"▸\";float: left;margin-right: 0.25em;color: #696969;}#sk-container-id-6 label.sk-toggleable__label-arrow:hover:before {color: black;}#sk-container-id-6 div.sk-estimator:hover label.sk-toggleable__label-arrow:before {color: black;}#sk-container-id-6 div.sk-toggleable__content {max-height: 0;max-width: 0;overflow: hidden;text-align: left;background-color: #f0f8ff;}#sk-container-id-6 div.sk-toggleable__content pre {margin: 0.2em;color: black;border-radius: 0.25em;background-color: #f0f8ff;}#sk-container-id-6 input.sk-toggleable__control:checked~div.sk-toggleable__content {max-height: 200px;max-width: 100%;overflow: auto;}#sk-container-id-6 input.sk-toggleable__control:checked~label.sk-toggleable__label-arrow:before {content: \"▾\";}#sk-container-id-6 div.sk-estimator input.sk-toggleable__control:checked~label.sk-toggleable__label {background-color: #d4ebff;}#sk-container-id-6 div.sk-label input.sk-toggleable__control:checked~label.sk-toggleable__label {background-color: #d4ebff;}#sk-container-id-6 input.sk-hidden--visually {border: 0;clip: rect(1px 1px 1px 1px);clip: rect(1px, 1px, 1px, 1px);height: 1px;margin: -1px;overflow: hidden;padding: 0;position: absolute;width: 1px;}#sk-container-id-6 div.sk-estimator {font-family: monospace;background-color: #f0f8ff;border: 1px dotted black;border-radius: 0.25em;box-sizing: border-box;margin-bottom: 0.5em;}#sk-container-id-6 div.sk-estimator:hover {background-color: #d4ebff;}#sk-container-id-6 div.sk-parallel-item::after {content: \"\";width: 100%;border-bottom: 1px solid gray;flex-grow: 1;}#sk-container-id-6 div.sk-label:hover label.sk-toggleable__label {background-color: #d4ebff;}#sk-container-id-6 div.sk-serial::before {content: \"\";position: absolute;border-left: 1px solid gray;box-sizing: border-box;top: 0;bottom: 0;left: 50%;z-index: 0;}#sk-container-id-6 div.sk-serial {display: flex;flex-direction: column;align-items: center;background-color: white;padding-right: 0.2em;padding-left: 0.2em;position: relative;}#sk-container-id-6 div.sk-item {position: relative;z-index: 1;}#sk-container-id-6 div.sk-parallel {display: flex;align-items: stretch;justify-content: center;background-color: white;position: relative;}#sk-container-id-6 div.sk-item::before, #sk-container-id-6 div.sk-parallel-item::before {content: \"\";position: absolute;border-left: 1px solid gray;box-sizing: border-box;top: 0;bottom: 0;left: 50%;z-index: -1;}#sk-container-id-6 div.sk-parallel-item {display: flex;flex-direction: column;z-index: 1;position: relative;background-color: white;}#sk-container-id-6 div.sk-parallel-item:first-child::after {align-self: flex-end;width: 50%;}#sk-container-id-6 div.sk-parallel-item:last-child::after {align-self: flex-start;width: 50%;}#sk-container-id-6 div.sk-parallel-item:only-child::after {width: 0;}#sk-container-id-6 div.sk-dashed-wrapped {border: 1px dashed gray;margin: 0 0.4em 0.5em 0.4em;box-sizing: border-box;padding-bottom: 0.4em;background-color: white;}#sk-container-id-6 div.sk-label label {font-family: monospace;font-weight: bold;display: inline-block;line-height: 1.2em;}#sk-container-id-6 div.sk-label-container {text-align: center;}#sk-container-id-6 div.sk-container {/* jupyter's `normalize.less` sets `[hidden] { display: none; }` but bootstrap.min.css set `[hidden] { display: none !important; }` so we also need the `!important` here to be able to override the default hidden behavior on the sphinx rendered scikit-learn.org. See: https://github.com/scikit-learn/scikit-learn/issues/21755 */display: inline-block !important;position: relative;}#sk-container-id-6 div.sk-text-repr-fallback {display: none;}</style><div id=\"sk-container-id-6\" class=\"sk-top-container\"><div class=\"sk-text-repr-fallback\"><pre>RandomForestRegressor(max_depth=10, max_features=&#x27;sqrt&#x27;, n_estimators=50,\n",
              "                      n_jobs=-1, random_state=42, verbose=1)</pre><b>In a Jupyter environment, please rerun this cell to show the HTML representation or trust the notebook. <br />On GitHub, the HTML representation is unable to render, please try loading this page with nbviewer.org.</b></div><div class=\"sk-container\" hidden><div class=\"sk-item\"><div class=\"sk-estimator sk-toggleable\"><input class=\"sk-toggleable__control sk-hidden--visually\" id=\"sk-estimator-id-6\" type=\"checkbox\" checked><label for=\"sk-estimator-id-6\" class=\"sk-toggleable__label sk-toggleable__label-arrow\">RandomForestRegressor</label><div class=\"sk-toggleable__content\"><pre>RandomForestRegressor(max_depth=10, max_features=&#x27;sqrt&#x27;, n_estimators=50,\n",
              "                      n_jobs=-1, random_state=42, verbose=1)</pre></div></div></div></div></div>"
            ]
          },
          "metadata": {},
          "execution_count": 287
        }
      ]
    },
    {
      "cell_type": "code",
      "source": [
        "cv_model3_7 = RandomForestRegressor(**best_params, random_state=42, n_jobs=-1, verbose=1)\n",
        "cv_model3_7.fit(X_train_cv3, list(y_train_cv3))"
      ],
      "metadata": {
        "colab": {
          "base_uri": "https://localhost:8080/",
          "height": 148
        },
        "id": "By4Q_ZPtByP2",
        "outputId": "4a6c07ab-0344-49ab-d44a-4357f3993a61"
      },
      "execution_count": 288,
      "outputs": [
        {
          "output_type": "stream",
          "name": "stderr",
          "text": [
            "[Parallel(n_jobs=-1)]: Using backend ThreadingBackend with 12 concurrent workers.\n",
            "[Parallel(n_jobs=-1)]: Done  26 tasks      | elapsed:   19.4s\n",
            "[Parallel(n_jobs=-1)]: Done  50 out of  50 | elapsed:   29.9s finished\n"
          ]
        },
        {
          "output_type": "execute_result",
          "data": {
            "text/plain": [
              "RandomForestRegressor(max_depth=10, max_features='sqrt', n_estimators=50,\n",
              "                      n_jobs=-1, random_state=42, verbose=1)"
            ],
            "text/html": [
              "<style>#sk-container-id-7 {color: black;background-color: white;}#sk-container-id-7 pre{padding: 0;}#sk-container-id-7 div.sk-toggleable {background-color: white;}#sk-container-id-7 label.sk-toggleable__label {cursor: pointer;display: block;width: 100%;margin-bottom: 0;padding: 0.3em;box-sizing: border-box;text-align: center;}#sk-container-id-7 label.sk-toggleable__label-arrow:before {content: \"▸\";float: left;margin-right: 0.25em;color: #696969;}#sk-container-id-7 label.sk-toggleable__label-arrow:hover:before {color: black;}#sk-container-id-7 div.sk-estimator:hover label.sk-toggleable__label-arrow:before {color: black;}#sk-container-id-7 div.sk-toggleable__content {max-height: 0;max-width: 0;overflow: hidden;text-align: left;background-color: #f0f8ff;}#sk-container-id-7 div.sk-toggleable__content pre {margin: 0.2em;color: black;border-radius: 0.25em;background-color: #f0f8ff;}#sk-container-id-7 input.sk-toggleable__control:checked~div.sk-toggleable__content {max-height: 200px;max-width: 100%;overflow: auto;}#sk-container-id-7 input.sk-toggleable__control:checked~label.sk-toggleable__label-arrow:before {content: \"▾\";}#sk-container-id-7 div.sk-estimator input.sk-toggleable__control:checked~label.sk-toggleable__label {background-color: #d4ebff;}#sk-container-id-7 div.sk-label input.sk-toggleable__control:checked~label.sk-toggleable__label {background-color: #d4ebff;}#sk-container-id-7 input.sk-hidden--visually {border: 0;clip: rect(1px 1px 1px 1px);clip: rect(1px, 1px, 1px, 1px);height: 1px;margin: -1px;overflow: hidden;padding: 0;position: absolute;width: 1px;}#sk-container-id-7 div.sk-estimator {font-family: monospace;background-color: #f0f8ff;border: 1px dotted black;border-radius: 0.25em;box-sizing: border-box;margin-bottom: 0.5em;}#sk-container-id-7 div.sk-estimator:hover {background-color: #d4ebff;}#sk-container-id-7 div.sk-parallel-item::after {content: \"\";width: 100%;border-bottom: 1px solid gray;flex-grow: 1;}#sk-container-id-7 div.sk-label:hover label.sk-toggleable__label {background-color: #d4ebff;}#sk-container-id-7 div.sk-serial::before {content: \"\";position: absolute;border-left: 1px solid gray;box-sizing: border-box;top: 0;bottom: 0;left: 50%;z-index: 0;}#sk-container-id-7 div.sk-serial {display: flex;flex-direction: column;align-items: center;background-color: white;padding-right: 0.2em;padding-left: 0.2em;position: relative;}#sk-container-id-7 div.sk-item {position: relative;z-index: 1;}#sk-container-id-7 div.sk-parallel {display: flex;align-items: stretch;justify-content: center;background-color: white;position: relative;}#sk-container-id-7 div.sk-item::before, #sk-container-id-7 div.sk-parallel-item::before {content: \"\";position: absolute;border-left: 1px solid gray;box-sizing: border-box;top: 0;bottom: 0;left: 50%;z-index: -1;}#sk-container-id-7 div.sk-parallel-item {display: flex;flex-direction: column;z-index: 1;position: relative;background-color: white;}#sk-container-id-7 div.sk-parallel-item:first-child::after {align-self: flex-end;width: 50%;}#sk-container-id-7 div.sk-parallel-item:last-child::after {align-self: flex-start;width: 50%;}#sk-container-id-7 div.sk-parallel-item:only-child::after {width: 0;}#sk-container-id-7 div.sk-dashed-wrapped {border: 1px dashed gray;margin: 0 0.4em 0.5em 0.4em;box-sizing: border-box;padding-bottom: 0.4em;background-color: white;}#sk-container-id-7 div.sk-label label {font-family: monospace;font-weight: bold;display: inline-block;line-height: 1.2em;}#sk-container-id-7 div.sk-label-container {text-align: center;}#sk-container-id-7 div.sk-container {/* jupyter's `normalize.less` sets `[hidden] { display: none; }` but bootstrap.min.css set `[hidden] { display: none !important; }` so we also need the `!important` here to be able to override the default hidden behavior on the sphinx rendered scikit-learn.org. See: https://github.com/scikit-learn/scikit-learn/issues/21755 */display: inline-block !important;position: relative;}#sk-container-id-7 div.sk-text-repr-fallback {display: none;}</style><div id=\"sk-container-id-7\" class=\"sk-top-container\"><div class=\"sk-text-repr-fallback\"><pre>RandomForestRegressor(max_depth=10, max_features=&#x27;sqrt&#x27;, n_estimators=50,\n",
              "                      n_jobs=-1, random_state=42, verbose=1)</pre><b>In a Jupyter environment, please rerun this cell to show the HTML representation or trust the notebook. <br />On GitHub, the HTML representation is unable to render, please try loading this page with nbviewer.org.</b></div><div class=\"sk-container\" hidden><div class=\"sk-item\"><div class=\"sk-estimator sk-toggleable\"><input class=\"sk-toggleable__control sk-hidden--visually\" id=\"sk-estimator-id-7\" type=\"checkbox\" checked><label for=\"sk-estimator-id-7\" class=\"sk-toggleable__label sk-toggleable__label-arrow\">RandomForestRegressor</label><div class=\"sk-toggleable__content\"><pre>RandomForestRegressor(max_depth=10, max_features=&#x27;sqrt&#x27;, n_estimators=50,\n",
              "                      n_jobs=-1, random_state=42, verbose=1)</pre></div></div></div></div></div>"
            ]
          },
          "metadata": {},
          "execution_count": 288
        }
      ]
    },
    {
      "cell_type": "code",
      "source": [
        "cv_model4_7 = RandomForestRegressor(**best_params, random_state=42, n_jobs=-1, verbose=1)\n",
        "cv_model4_7.fit(X_train_cv4, list(y_train_cv4))"
      ],
      "metadata": {
        "colab": {
          "base_uri": "https://localhost:8080/",
          "height": 148
        },
        "id": "LPJzUuMBByCY",
        "outputId": "ee4a2164-2e26-4cd2-ec47-5fbf13d4129f"
      },
      "execution_count": 289,
      "outputs": [
        {
          "output_type": "stream",
          "name": "stderr",
          "text": [
            "[Parallel(n_jobs=-1)]: Using backend ThreadingBackend with 12 concurrent workers.\n",
            "[Parallel(n_jobs=-1)]: Done  26 tasks      | elapsed:   19.5s\n",
            "[Parallel(n_jobs=-1)]: Done  50 out of  50 | elapsed:   31.7s finished\n"
          ]
        },
        {
          "output_type": "execute_result",
          "data": {
            "text/plain": [
              "RandomForestRegressor(max_depth=10, max_features='sqrt', n_estimators=50,\n",
              "                      n_jobs=-1, random_state=42, verbose=1)"
            ],
            "text/html": [
              "<style>#sk-container-id-8 {color: black;background-color: white;}#sk-container-id-8 pre{padding: 0;}#sk-container-id-8 div.sk-toggleable {background-color: white;}#sk-container-id-8 label.sk-toggleable__label {cursor: pointer;display: block;width: 100%;margin-bottom: 0;padding: 0.3em;box-sizing: border-box;text-align: center;}#sk-container-id-8 label.sk-toggleable__label-arrow:before {content: \"▸\";float: left;margin-right: 0.25em;color: #696969;}#sk-container-id-8 label.sk-toggleable__label-arrow:hover:before {color: black;}#sk-container-id-8 div.sk-estimator:hover label.sk-toggleable__label-arrow:before {color: black;}#sk-container-id-8 div.sk-toggleable__content {max-height: 0;max-width: 0;overflow: hidden;text-align: left;background-color: #f0f8ff;}#sk-container-id-8 div.sk-toggleable__content pre {margin: 0.2em;color: black;border-radius: 0.25em;background-color: #f0f8ff;}#sk-container-id-8 input.sk-toggleable__control:checked~div.sk-toggleable__content {max-height: 200px;max-width: 100%;overflow: auto;}#sk-container-id-8 input.sk-toggleable__control:checked~label.sk-toggleable__label-arrow:before {content: \"▾\";}#sk-container-id-8 div.sk-estimator input.sk-toggleable__control:checked~label.sk-toggleable__label {background-color: #d4ebff;}#sk-container-id-8 div.sk-label input.sk-toggleable__control:checked~label.sk-toggleable__label {background-color: #d4ebff;}#sk-container-id-8 input.sk-hidden--visually {border: 0;clip: rect(1px 1px 1px 1px);clip: rect(1px, 1px, 1px, 1px);height: 1px;margin: -1px;overflow: hidden;padding: 0;position: absolute;width: 1px;}#sk-container-id-8 div.sk-estimator {font-family: monospace;background-color: #f0f8ff;border: 1px dotted black;border-radius: 0.25em;box-sizing: border-box;margin-bottom: 0.5em;}#sk-container-id-8 div.sk-estimator:hover {background-color: #d4ebff;}#sk-container-id-8 div.sk-parallel-item::after {content: \"\";width: 100%;border-bottom: 1px solid gray;flex-grow: 1;}#sk-container-id-8 div.sk-label:hover label.sk-toggleable__label {background-color: #d4ebff;}#sk-container-id-8 div.sk-serial::before {content: \"\";position: absolute;border-left: 1px solid gray;box-sizing: border-box;top: 0;bottom: 0;left: 50%;z-index: 0;}#sk-container-id-8 div.sk-serial {display: flex;flex-direction: column;align-items: center;background-color: white;padding-right: 0.2em;padding-left: 0.2em;position: relative;}#sk-container-id-8 div.sk-item {position: relative;z-index: 1;}#sk-container-id-8 div.sk-parallel {display: flex;align-items: stretch;justify-content: center;background-color: white;position: relative;}#sk-container-id-8 div.sk-item::before, #sk-container-id-8 div.sk-parallel-item::before {content: \"\";position: absolute;border-left: 1px solid gray;box-sizing: border-box;top: 0;bottom: 0;left: 50%;z-index: -1;}#sk-container-id-8 div.sk-parallel-item {display: flex;flex-direction: column;z-index: 1;position: relative;background-color: white;}#sk-container-id-8 div.sk-parallel-item:first-child::after {align-self: flex-end;width: 50%;}#sk-container-id-8 div.sk-parallel-item:last-child::after {align-self: flex-start;width: 50%;}#sk-container-id-8 div.sk-parallel-item:only-child::after {width: 0;}#sk-container-id-8 div.sk-dashed-wrapped {border: 1px dashed gray;margin: 0 0.4em 0.5em 0.4em;box-sizing: border-box;padding-bottom: 0.4em;background-color: white;}#sk-container-id-8 div.sk-label label {font-family: monospace;font-weight: bold;display: inline-block;line-height: 1.2em;}#sk-container-id-8 div.sk-label-container {text-align: center;}#sk-container-id-8 div.sk-container {/* jupyter's `normalize.less` sets `[hidden] { display: none; }` but bootstrap.min.css set `[hidden] { display: none !important; }` so we also need the `!important` here to be able to override the default hidden behavior on the sphinx rendered scikit-learn.org. See: https://github.com/scikit-learn/scikit-learn/issues/21755 */display: inline-block !important;position: relative;}#sk-container-id-8 div.sk-text-repr-fallback {display: none;}</style><div id=\"sk-container-id-8\" class=\"sk-top-container\"><div class=\"sk-text-repr-fallback\"><pre>RandomForestRegressor(max_depth=10, max_features=&#x27;sqrt&#x27;, n_estimators=50,\n",
              "                      n_jobs=-1, random_state=42, verbose=1)</pre><b>In a Jupyter environment, please rerun this cell to show the HTML representation or trust the notebook. <br />On GitHub, the HTML representation is unable to render, please try loading this page with nbviewer.org.</b></div><div class=\"sk-container\" hidden><div class=\"sk-item\"><div class=\"sk-estimator sk-toggleable\"><input class=\"sk-toggleable__control sk-hidden--visually\" id=\"sk-estimator-id-8\" type=\"checkbox\" checked><label for=\"sk-estimator-id-8\" class=\"sk-toggleable__label sk-toggleable__label-arrow\">RandomForestRegressor</label><div class=\"sk-toggleable__content\"><pre>RandomForestRegressor(max_depth=10, max_features=&#x27;sqrt&#x27;, n_estimators=50,\n",
              "                      n_jobs=-1, random_state=42, verbose=1)</pre></div></div></div></div></div>"
            ]
          },
          "metadata": {},
          "execution_count": 289
        }
      ]
    },
    {
      "cell_type": "code",
      "source": [
        "import seaborn as sns\n",
        "sns.set_theme(style=\"darkgrid\")\n",
        "sns.set(rc={'figure.figsize':(30,10), })\n",
        "fig, ax = plt.subplots(1, 4, figsize=(20,10))\n",
        "\n",
        "cv1_7_importances = feature_importance(cv_model1_7, \"CV1_TOP7\", X_test_cv1.columns, 0, fig, ax)\n",
        "cv2_7_importances = feature_importance(cv_model2_7, \"CV2_TOP7\", X_test_cv1.columns, 1, fig, ax)\n",
        "cv3_7_importances = feature_importance(cv_model3_7, \"CV3_TOP7\", X_test_cv1.columns, 2, fig, ax)\n",
        "cv4_7_importances = feature_importance(cv_model4_7, \"CV4_TOP7\", X_test_cv1.columns, 3, fig, ax)\n",
        "fig.tight_layout()\n",
        "plt.show()\n"
      ],
      "metadata": {
        "colab": {
          "base_uri": "https://localhost:8080/",
          "height": 614
        },
        "id": "UNb98ZjaCLeA",
        "outputId": "36065ff9-e033-44f2-cc32-142dbe24b783"
      },
      "execution_count": 290,
      "outputs": [
        {
          "output_type": "display_data",
          "data": {
            "text/plain": [
              "<Figure size 2000x1000 with 4 Axes>"
            ],
            "image/png": "[encoded data removed]"
          },
          "metadata": {}
        }
      ]
    },
    {
      "cell_type": "code",
      "source": [
        "cv1_7_result = eval_metrics(cv_model1_7, X_val_cv1, y_val_cv1)\n",
        "cv2_7_result = eval_metrics(cv_model2_7, X_val_cv2, y_val_cv2)\n",
        "cv3_7_result = eval_metrics(cv_model3_7, X_val_cv3, y_val_cv3)\n",
        "cv4_7_result = eval_metrics(cv_model4_7, X_val_cv4, y_val_cv4)"
      ],
      "metadata": {
        "colab": {
          "base_uri": "https://localhost:8080/"
        },
        "id": "LvqQSQ2hCWRK",
        "outputId": "fdb223d0-688f-4585-a197-3d65ed471215"
      },
      "execution_count": 291,
      "outputs": [
        {
          "output_type": "stream",
          "name": "stderr",
          "text": [
            "[Parallel(n_jobs=12)]: Using backend ThreadingBackend with 12 concurrent workers.\n",
            "[Parallel(n_jobs=12)]: Done  26 tasks      | elapsed:    0.2s\n",
            "[Parallel(n_jobs=12)]: Done  50 out of  50 | elapsed:    0.3s finished\n",
            "[Parallel(n_jobs=12)]: Using backend ThreadingBackend with 12 concurrent workers.\n"
          ]
        },
        {
          "output_type": "stream",
          "name": "stdout",
          "text": [
            "\n",
            "Val RMSE: 3.5849383250260987, \"Val MAE: 1.9912822865594193, Val R2/NSE: 0.7586366045209713\n"
          ]
        },
        {
          "output_type": "stream",
          "name": "stderr",
          "text": [
            "[Parallel(n_jobs=12)]: Done  26 tasks      | elapsed:    0.2s\n",
            "[Parallel(n_jobs=12)]: Done  50 out of  50 | elapsed:    0.3s finished\n",
            "[Parallel(n_jobs=12)]: Using backend ThreadingBackend with 12 concurrent workers.\n"
          ]
        },
        {
          "output_type": "stream",
          "name": "stdout",
          "text": [
            "\n",
            "Val RMSE: 3.703950984478723, \"Val MAE: 2.0007787540556228, Val R2/NSE: 0.7107557409166403\n"
          ]
        },
        {
          "output_type": "stream",
          "name": "stderr",
          "text": [
            "[Parallel(n_jobs=12)]: Done  26 tasks      | elapsed:    0.2s\n",
            "[Parallel(n_jobs=12)]: Done  50 out of  50 | elapsed:    0.3s finished\n",
            "[Parallel(n_jobs=12)]: Using backend ThreadingBackend with 12 concurrent workers.\n"
          ]
        },
        {
          "output_type": "stream",
          "name": "stdout",
          "text": [
            "\n",
            "Val RMSE: 4.388509519547002, \"Val MAE: 2.324758523784369, Val R2/NSE: 0.6672894425889649\n",
            "\n",
            "Val RMSE: 3.432956796926801, \"Val MAE: 1.8305428826333734, Val R2/NSE: 0.7349110369529618\n"
          ]
        },
        {
          "output_type": "stream",
          "name": "stderr",
          "text": [
            "[Parallel(n_jobs=12)]: Done  26 tasks      | elapsed:    0.2s\n",
            "[Parallel(n_jobs=12)]: Done  50 out of  50 | elapsed:    0.3s finished\n"
          ]
        }
      ]
    },
    {
      "cell_type": "code",
      "source": [
        "cv_result = [[\"RMSE\", \"MAE\", \"R2\"]]\n",
        "cv_result_df = pd.DataFrame([cv1_7_result, cv2_7_result, \n",
        "                             cv3_7_result, cv4_7_result],columns=cv_result)\n",
        "cv_result_df"
      ],
      "metadata": {
        "colab": {
          "base_uri": "https://localhost:8080/",
          "height": 175
        },
        "id": "WxkFtHuuCj58",
        "outputId": "ffc60567-bdb3-44f9-b9b4-220d4eaecfc9"
      },
      "execution_count": 292,
      "outputs": [
        {
          "output_type": "execute_result",
          "data": {
            "text/plain": [
              "     RMSE     MAE      R2\n",
              "0 3.58494 1.99128 0.75864\n",
              "1 3.70395 2.00078 0.71076\n",
              "2 4.38851 2.32476 0.66729\n",
              "3 3.43296 1.83054 0.73491"
            ],
            "text/html": [
              "\n",
              "  <div id=\"df-4495b747-82d9-4536-9da5-4fb8ca1cb61e\">\n",
              "    <div class=\"colab-df-container\">\n",
              "      <div>\n",
              "<style scoped>\n",
              "    .dataframe tbody tr th:only-of-type {\n",
              "        vertical-align: middle;\n",
              "    }\n",
              "\n",
              "    .dataframe tbody tr th {\n",
              "        vertical-align: top;\n",
              "    }\n",
              "\n",
              "    .dataframe thead tr th {\n",
              "        text-align: left;\n",
              "    }\n",
              "</style>\n",
              "<table border=\"1\" class=\"dataframe\">\n",
              "  <thead>\n",
              "    <tr>\n",
              "      <th></th>\n",
              "      <th>RMSE</th>\n",
              "      <th>MAE</th>\n",
              "      <th>R2</th>\n",
              "    </tr>\n",
              "  </thead>\n",
              "  <tbody>\n",
              "    <tr>\n",
              "      <th>0</th>\n",
              "      <td>3.58494</td>\n",
              "      <td>1.99128</td>\n",
              "      <td>0.75864</td>\n",
              "    </tr>\n",
              "    <tr>\n",
              "      <th>1</th>\n",
              "      <td>3.70395</td>\n",
              "      <td>2.00078</td>\n",
              "      <td>0.71076</td>\n",
              "    </tr>\n",
              "    <tr>\n",
              "      <th>2</th>\n",
              "      <td>4.38851</td>\n",
              "      <td>2.32476</td>\n",
              "      <td>0.66729</td>\n",
              "    </tr>\n",
              "    <tr>\n",
              "      <th>3</th>\n",
              "      <td>3.43296</td>\n",
              "      <td>1.83054</td>\n",
              "      <td>0.73491</td>\n",
              "    </tr>\n",
              "  </tbody>\n",
              "</table>\n",
              "</div>\n",
              "      <button class=\"colab-df-convert\" onclick=\"convertToInteractive('df-4495b747-82d9-4536-9da5-4fb8ca1cb61e')\"\n",
              "              title=\"Convert this dataframe to an interactive table.\"\n",
              "              style=\"display:none;\">\n",
              "        \n",
              "  <svg xmlns=\"http://www.w3.org/2000/svg\" height=\"24px\"viewBox=\"0 0 24 24\"\n",
              "       width=\"24px\">\n",
              "    <path d=\"M0 0h24v24H0V0z\" fill=\"none\"/>\n",
              "    <path d=\"M18.56 5.44l.94 2.06.94-2.06 2.06-.94-2.06-.94-.94-2.06-.94 2.06-2.06.94zm-11 1L8.5 8.5l.94-2.06 2.06-.94-2.06-.94L8.5 2.5l-.94 2.06-2.06.94zm10 10l.94 2.06.94-2.06 2.06-.94-2.06-.94-.94-2.06-.94 2.06-2.06.94z\"/><path d=\"M17.41 7.96l-1.37-1.37c-.4-.4-.92-.59-1.43-.59-.52 0-1.04.2-1.43.59L10.3 9.45l-7.72 7.72c-.78.78-.78 2.05 0 2.83L4 21.41c.39.39.9.59 1.41.59.51 0 1.02-.2 1.41-.59l7.78-7.78 2.81-2.81c.8-.78.8-2.07 0-2.86zM5.41 20L4 18.59l7.72-7.72 1.47 1.35L5.41 20z\"/>\n",
              "  </svg>\n",
              "      </button>\n",
              "      \n",
              "  <style>\n",
              "    .colab-df-container {\n",
              "      display:flex;\n",
              "      flex-wrap:wrap;\n",
              "      gap: 12px;\n",
              "    }\n",
              "\n",
              "    .colab-df-convert {\n",
              "      background-color: #E8F0FE;\n",
              "      border: none;\n",
              "      border-radius: 50%;\n",
              "      cursor: pointer;\n",
              "      display: none;\n",
              "      fill: #1967D2;\n",
              "      height: 32px;\n",
              "      padding: 0 0 0 0;\n",
              "      width: 32px;\n",
              "    }\n",
              "\n",
              "    .colab-df-convert:hover {\n",
              "      background-color: #E2EBFA;\n",
              "      box-shadow: 0px 1px 2px rgba(60, 64, 67, 0.3), 0px 1px 3px 1px rgba(60, 64, 67, 0.15);\n",
              "      fill: #174EA6;\n",
              "    }\n",
              "\n",
              "    [theme=dark] .colab-df-convert {\n",
              "      background-color: #3B4455;\n",
              "      fill: #D2E3FC;\n",
              "    }\n",
              "\n",
              "    [theme=dark] .colab-df-convert:hover {\n",
              "      background-color: #434B5C;\n",
              "      box-shadow: 0px 1px 3px 1px rgba(0, 0, 0, 0.15);\n",
              "      filter: drop-shadow(0px 1px 2px rgba(0, 0, 0, 0.3));\n",
              "      fill: #FFFFFF;\n",
              "    }\n",
              "  </style>\n",
              "\n",
              "      <script>\n",
              "        const buttonEl =\n",
              "          document.querySelector('#df-4495b747-82d9-4536-9da5-4fb8ca1cb61e button.colab-df-convert');\n",
              "        buttonEl.style.display =\n",
              "          google.colab.kernel.accessAllowed ? 'block' : 'none';\n",
              "\n",
              "        async function convertToInteractive(key) {\n",
              "          const element = document.querySelector('#df-4495b747-82d9-4536-9da5-4fb8ca1cb61e');\n",
              "          const dataTable =\n",
              "            await google.colab.kernel.invokeFunction('convertToInteractive',\n",
              "                                                     [key], {});\n",
              "          if (!dataTable) return;\n",
              "\n",
              "          const docLinkHtml = 'Like what you see? Visit the ' +\n",
              "            '<a target=\"_blank\" href=https://colab.research.google.com/notebooks/data_table.ipynb>data table notebook</a>'\n",
              "            + ' to learn more about interactive tables.';\n",
              "          element.innerHTML = '';\n",
              "          dataTable['output_type'] = 'display_data';\n",
              "          await google.colab.output.renderOutput(dataTable, element);\n",
              "          const docLink = document.createElement('div');\n",
              "          docLink.innerHTML = docLinkHtml;\n",
              "          element.appendChild(docLink);\n",
              "        }\n",
              "      </script>\n",
              "    </div>\n",
              "  </div>\n",
              "  "
            ]
          },
          "metadata": {},
          "execution_count": 292
        }
      ]
    },
    {
      "cell_type": "code",
      "source": [
        "cv_result_df.mean()"
      ],
      "metadata": {
        "colab": {
          "base_uri": "https://localhost:8080/"
        },
        "id": "wV0ibAPBCwT7",
        "outputId": "568d650b-61d6-4a8c-ae91-fc7c45c6ab68"
      },
      "execution_count": 293,
      "outputs": [
        {
          "output_type": "execute_result",
          "data": {
            "text/plain": [
              "RMSE   3.77759\n",
              "MAE    2.03684\n",
              "R2     0.71790\n",
              "dtype: float64"
            ]
          },
          "metadata": {},
          "execution_count": 293
        }
      ]
    }
  ],
  "metadata": {
    "availableInstances": [
      {
        "_defaultOrder": 0,
        "_isFastLaunch": true,
        "category": "General purpose",
        "gpuNum": 0,
        "memoryGiB": 4,
        "name": "ml.t3.medium",
        "vcpuNum": 2
      },
      {
        "_defaultOrder": 1,
        "_isFastLaunch": false,
        "category": "General purpose",
        "gpuNum": 0,
        "memoryGiB": 8,
        "name": "ml.t3.large",
        "vcpuNum": 2
      },
      {
        "_defaultOrder": 2,
        "_isFastLaunch": false,
        "category": "General purpose",
        "gpuNum": 0,
        "memoryGiB": 16,
        "name": "ml.t3.xlarge",
        "vcpuNum": 4
      },
      {
        "_defaultOrder": 3,
        "_isFastLaunch": false,
        "category": "General purpose",
        "gpuNum": 0,
        "memoryGiB": 32,
        "name": "ml.t3.2xlarge",
        "vcpuNum": 8
      },
      {
        "_defaultOrder": 4,
        "_isFastLaunch": true,
        "category": "General purpose",
        "gpuNum": 0,
        "memoryGiB": 8,
        "name": "ml.m5.large",
        "vcpuNum": 2
      },
      {
        "_defaultOrder": 5,
        "_isFastLaunch": false,
        "category": "General purpose",
        "gpuNum": 0,
        "memoryGiB": 16,
        "name": "ml.m5.xlarge",
        "vcpuNum": 4
      },
      {
        "_defaultOrder": 6,
        "_isFastLaunch": false,
        "category": "General purpose",
        "gpuNum": 0,
        "memoryGiB": 32,
        "name": "ml.m5.2xlarge",
        "vcpuNum": 8
      },
      {
        "_defaultOrder": 7,
        "_isFastLaunch": false,
        "category": "General purpose",
        "gpuNum": 0,
        "memoryGiB": 64,
        "name": "ml.m5.4xlarge",
        "vcpuNum": 16
      },
      {
        "_defaultOrder": 8,
        "_isFastLaunch": false,
        "category": "General purpose",
        "gpuNum": 0,
        "memoryGiB": 128,
        "name": "ml.m5.8xlarge",
        "vcpuNum": 32
      },
      {
        "_defaultOrder": 9,
        "_isFastLaunch": false,
        "category": "General purpose",
        "gpuNum": 0,
        "memoryGiB": 192,
        "name": "ml.m5.12xlarge",
        "vcpuNum": 48
      },
      {
        "_defaultOrder": 10,
        "_isFastLaunch": false,
        "category": "General purpose",
        "gpuNum": 0,
        "memoryGiB": 256,
        "name": "ml.m5.16xlarge",
        "vcpuNum": 64
      },
      {
        "_defaultOrder": 11,
        "_isFastLaunch": false,
        "category": "General purpose",
        "gpuNum": 0,
        "memoryGiB": 384,
        "name": "ml.m5.24xlarge",
        "vcpuNum": 96
      },
      {
        "_defaultOrder": 12,
        "_isFastLaunch": false,
        "category": "General purpose",
        "gpuNum": 0,
        "memoryGiB": 8,
        "name": "ml.m5d.large",
        "vcpuNum": 2
      },
      {
        "_defaultOrder": 13,
        "_isFastLaunch": false,
        "category": "General purpose",
        "gpuNum": 0,
        "memoryGiB": 16,
        "name": "ml.m5d.xlarge",
        "vcpuNum": 4
      },
      {
        "_defaultOrder": 14,
        "_isFastLaunch": false,
        "category": "General purpose",
        "gpuNum": 0,
        "memoryGiB": 32,
        "name": "ml.m5d.2xlarge",
        "vcpuNum": 8
      },
      {
        "_defaultOrder": 15,
        "_isFastLaunch": false,
        "category": "General purpose",
        "gpuNum": 0,
        "memoryGiB": 64,
        "name": "ml.m5d.4xlarge",
        "vcpuNum": 16
      },
      {
        "_defaultOrder": 16,
        "_isFastLaunch": false,
        "category": "General purpose",
        "gpuNum": 0,
        "memoryGiB": 128,
        "name": "ml.m5d.8xlarge",
        "vcpuNum": 32
      },
      {
        "_defaultOrder": 17,
        "_isFastLaunch": false,
        "category": "General purpose",
        "gpuNum": 0,
        "memoryGiB": 192,
        "name": "ml.m5d.12xlarge",
        "vcpuNum": 48
      },
      {
        "_defaultOrder": 18,
        "_isFastLaunch": false,
        "category": "General purpose",
        "gpuNum": 0,
        "memoryGiB": 256,
        "name": "ml.m5d.16xlarge",
        "vcpuNum": 64
      },
      {
        "_defaultOrder": 19,
        "_isFastLaunch": false,
        "category": "General purpose",
        "gpuNum": 0,
        "memoryGiB": 384,
        "name": "ml.m5d.24xlarge",
        "vcpuNum": 96
      },
      {
        "_defaultOrder": 20,
        "_isFastLaunch": true,
        "category": "Compute optimized",
        "gpuNum": 0,
        "memoryGiB": 4,
        "name": "ml.c5.large",
        "vcpuNum": 2
      },
      {
        "_defaultOrder": 21,
        "_isFastLaunch": false,
        "category": "Compute optimized",
        "gpuNum": 0,
        "memoryGiB": 8,
        "name": "ml.c5.xlarge",
        "vcpuNum": 4
      },
      {
        "_defaultOrder": 22,
        "_isFastLaunch": false,
        "category": "Compute optimized",
        "gpuNum": 0,
        "memoryGiB": 16,
        "name": "ml.c5.2xlarge",
        "vcpuNum": 8
      },
      {
        "_defaultOrder": 23,
        "_isFastLaunch": false,
        "category": "Compute optimized",
        "gpuNum": 0,
        "memoryGiB": 32,
        "name": "ml.c5.4xlarge",
        "vcpuNum": 16
      },
      {
        "_defaultOrder": 24,
        "_isFastLaunch": false,
        "category": "Compute optimized",
        "gpuNum": 0,
        "memoryGiB": 72,
        "name": "ml.c5.9xlarge",
        "vcpuNum": 36
      },
      {
        "_defaultOrder": 25,
        "_isFastLaunch": false,
        "category": "Compute optimized",
        "gpuNum": 0,
        "memoryGiB": 96,
        "name": "ml.c5.12xlarge",
        "vcpuNum": 48
      },
      {
        "_defaultOrder": 26,
        "_isFastLaunch": false,
        "category": "Compute optimized",
        "gpuNum": 0,
        "memoryGiB": 144,
        "name": "ml.c5.18xlarge",
        "vcpuNum": 72
      },
      {
        "_defaultOrder": 27,
        "_isFastLaunch": false,
        "category": "Compute optimized",
        "gpuNum": 0,
        "memoryGiB": 192,
        "name": "ml.c5.24xlarge",
        "vcpuNum": 96
      },
      {
        "_defaultOrder": 28,
        "_isFastLaunch": true,
        "category": "Accelerated computing",
        "gpuNum": 1,
        "memoryGiB": 16,
        "name": "ml.g4dn.xlarge",
        "vcpuNum": 4
      },
      {
        "_defaultOrder": 29,
        "_isFastLaunch": false,
        "category": "Accelerated computing",
        "gpuNum": 1,
        "memoryGiB": 32,
        "name": "ml.g4dn.2xlarge",
        "vcpuNum": 8
      },
      {
        "_defaultOrder": 30,
        "_isFastLaunch": false,
        "category": "Accelerated computing",
        "gpuNum": 1,
        "memoryGiB": 64,
        "name": "ml.g4dn.4xlarge",
        "vcpuNum": 16
      },
      {
        "_defaultOrder": 31,
        "_isFastLaunch": false,
        "category": "Accelerated computing",
        "gpuNum": 1,
        "memoryGiB": 128,
        "name": "ml.g4dn.8xlarge",
        "vcpuNum": 32
      },
      {
        "_defaultOrder": 32,
        "_isFastLaunch": false,
        "category": "Accelerated computing",
        "gpuNum": 4,
        "memoryGiB": 192,
        "name": "ml.g4dn.12xlarge",
        "vcpuNum": 48
      },
      {
        "_defaultOrder": 33,
        "_isFastLaunch": false,
        "category": "Accelerated computing",
        "gpuNum": 1,
        "memoryGiB": 256,
        "name": "ml.g4dn.16xlarge",
        "vcpuNum": 64
      },
      {
        "_defaultOrder": 34,
        "_isFastLaunch": false,
        "category": "Accelerated computing",
        "gpuNum": 1,
        "memoryGiB": 61,
        "name": "ml.p3.2xlarge",
        "vcpuNum": 8
      },
      {
        "_defaultOrder": 35,
        "_isFastLaunch": false,
        "category": "Accelerated computing",
        "gpuNum": 4,
        "memoryGiB": 244,
        "name": "ml.p3.8xlarge",
        "vcpuNum": 32
      },
      {
        "_defaultOrder": 36,
        "_isFastLaunch": false,
        "category": "Accelerated computing",
        "gpuNum": 8,
        "memoryGiB": 488,
        "name": "ml.p3.16xlarge",
        "vcpuNum": 64
      },
      {
        "_defaultOrder": 37,
        "_isFastLaunch": false,
        "category": "Accelerated computing",
        "gpuNum": 8,
        "memoryGiB": 768,
        "name": "ml.p3dn.24xlarge",
        "vcpuNum": 96
      },
      {
        "_defaultOrder": 38,
        "_isFastLaunch": false,
        "category": "Memory Optimized",
        "gpuNum": 0,
        "memoryGiB": 16,
        "name": "ml.r5.large",
        "vcpuNum": 2
      },
      {
        "_defaultOrder": 39,
        "_isFastLaunch": false,
        "category": "Memory Optimized",
        "gpuNum": 0,
        "memoryGiB": 32,
        "name": "ml.r5.xlarge",
        "vcpuNum": 4
      },
      {
        "_defaultOrder": 40,
        "_isFastLaunch": false,
        "category": "Memory Optimized",
        "gpuNum": 0,
        "memoryGiB": 64,
        "name": "ml.r5.2xlarge",
        "vcpuNum": 8
      },
      {
        "_defaultOrder": 41,
        "_isFastLaunch": false,
        "category": "Memory Optimized",
        "gpuNum": 0,
        "memoryGiB": 128,
        "name": "ml.r5.4xlarge",
        "vcpuNum": 16
      },
      {
        "_defaultOrder": 42,
        "_isFastLaunch": false,
        "category": "Memory Optimized",
        "gpuNum": 0,
        "memoryGiB": 256,
        "name": "ml.r5.8xlarge",
        "vcpuNum": 32
      },
      {
        "_defaultOrder": 43,
        "_isFastLaunch": false,
        "category": "Memory Optimized",
        "gpuNum": 0,
        "memoryGiB": 384,
        "name": "ml.r5.12xlarge",
        "vcpuNum": 48
      },
      {
        "_defaultOrder": 44,
        "_isFastLaunch": false,
        "category": "Memory Optimized",
        "gpuNum": 0,
        "memoryGiB": 512,
        "name": "ml.r5.16xlarge",
        "vcpuNum": 64
      },
      {
        "_defaultOrder": 45,
        "_isFastLaunch": false,
        "category": "Memory Optimized",
        "gpuNum": 0,
        "memoryGiB": 768,
        "name": "ml.r5.24xlarge",
        "vcpuNum": 96
      },
      {
        "_defaultOrder": 46,
        "_isFastLaunch": false,
        "category": "Accelerated computing",
        "gpuNum": 1,
        "memoryGiB": 16,
        "name": "ml.g5.xlarge",
        "vcpuNum": 4
      },
      {
        "_defaultOrder": 47,
        "_isFastLaunch": false,
        "category": "Accelerated computing",
        "gpuNum": 1,
        "memoryGiB": 32,
        "name": "ml.g5.2xlarge",
        "vcpuNum": 8
      },
      {
        "_defaultOrder": 48,
        "_isFastLaunch": false,
        "category": "Accelerated computing",
        "gpuNum": 1,
        "memoryGiB": 64,
        "name": "ml.g5.4xlarge",
        "vcpuNum": 16
      },
      {
        "_defaultOrder": 49,
        "_isFastLaunch": false,
        "category": "Accelerated computing",
        "gpuNum": 1,
        "memoryGiB": 128,
        "name": "ml.g5.8xlarge",
        "vcpuNum": 32
      },
      {
        "_defaultOrder": 50,
        "_isFastLaunch": false,
        "category": "Accelerated computing",
        "gpuNum": 1,
        "memoryGiB": 256,
        "name": "ml.g5.16xlarge",
        "vcpuNum": 64
      },
      {
        "_defaultOrder": 51,
        "_isFastLaunch": false,
        "category": "Accelerated computing",
        "gpuNum": 4,
        "memoryGiB": 192,
        "name": "ml.g5.12xlarge",
        "vcpuNum": 48
      },
      {
        "_defaultOrder": 52,
        "_isFastLaunch": false,
        "category": "Accelerated computing",
        "gpuNum": 4,
        "memoryGiB": 384,
        "name": "ml.g5.24xlarge",
        "vcpuNum": 96
      },
      {
        "_defaultOrder": 53,
        "_isFastLaunch": false,
        "category": "Accelerated computing",
        "gpuNum": 8,
        "memoryGiB": 768,
        "name": "ml.g5.48xlarge",
        "vcpuNum": 192
      }
    ],
    "colab": {
      "provenance": [],
      "machine_shape": "hm",
      "collapsed_sections": [
        "y2bHb6TEy3_D",
        "lbKGUMi2e6dJ",
        "VV6m9j1-pngk"
      ]
    },
    "instance_type": "ml.m5.2xlarge",
    "kernelspec": {
      "display_name": "Python [conda env:py310] (arn:aws:sagemaker:us-east-1:081325390199:image/datascience-1.0)",
      "language": "python",
      "name": "conda-env-py310-py__SAGEMAKER_INTERNAL__arn:aws:sagemaker:us-east-1:081325390199:image/datascience-1.0"
    },
    "language_info": {
      "codemirror_mode": {
        "name": "ipython",
        "version": 3
      },
      "file_extension": ".py",
      "mimetype": "text/x-python",
      "name": "python",
      "nbconvert_exporter": "python",
      "pygments_lexer": "ipython3",
      "version": "3.10.9"
    },
    "gpuClass": "premium",
    "accelerator": "GPU"
  },
  "nbformat": 4,
  "nbformat_minor": 0
}