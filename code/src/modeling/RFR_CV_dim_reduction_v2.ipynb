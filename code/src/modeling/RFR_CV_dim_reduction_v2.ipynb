{
 "cells": [
  {
   "cell_type": "markdown",
   "metadata": {},
   "source": [
    "## CODE NOTES\n",
    "Goal: To test the k-fold splitting that performance is not biased across splits\n",
    "Steps:\n",
    "- Load RFR raw dataset, which is pre-split and pre-transform\n",
    "- Split RFR dataset with new split dict\n",
    "- Transform features by fitting scaler on train, applying to other sets\n",
    "- Run CV and compare metrics\n",
    "- Hope to see more balanced metrics :)"
   ]
  },
  {
   "cell_type": "markdown",
   "metadata": {
    "id": "XaXGMTqJr71d"
   },
   "source": [
    "# Notebook Setup"
   ]
  },
  {
   "cell_type": "code",
   "execution_count": 1,
   "metadata": {
    "tags": []
   },
   "outputs": [],
   "source": [
    "#TODO: CHANGE THIS BASED ON YOUR OWN LOCAL SETTINGS\n",
    "#MY_HOME_ABS_PATH = \"/Users/jetcalz07/Desktop/MIDS/W210_Capstone/co2-flux-hourly-gpp-modeling\"\n",
    "MY_HOME_ABS_PATH = \"/root/co2-flux-hourly-gpp-modeling\""
   ]
  },
  {
   "cell_type": "markdown",
   "metadata": {
    "id": "y2bHb6TEy3_D"
   },
   "source": [
    "## Import Modules"
   ]
  },
  {
   "cell_type": "code",
   "execution_count": 3,
   "metadata": {
    "id": "1iRimJGJsAh7",
    "tags": []
   },
   "outputs": [],
   "source": [
    "import os\n",
    "os.environ[\"PYARROW_IGNORE_TIMEZONE\"] = \"1\"\n",
    "import sys\n",
    "import math\n",
    "import json\n",
    "import time\n",
    "import pandas as pd\n",
    "import numpy as np\n",
    "from calendar import monthrange\n",
    "from datetime import datetime\n",
    "from io import BytesIO\n",
    "import matplotlib.pyplot as plt\n",
    "import plotly.express as px\n",
    "import plotly.graph_objects as go\n",
    "\n",
    "from sklearn.ensemble import RandomForestRegressor\n",
    "from sklearn.metrics import mean_squared_error, mean_absolute_error, r2_score\n",
    "from sklearn.model_selection import GridSearchCV, cross_val_score, KFold\n",
    "from sklearn.model_selection import RandomizedSearchCV\n",
    "from pprint import pprint\n",
    "\n",
    "\n",
    "# Load locale custome modules\n",
    "os.chdir(MY_HOME_ABS_PATH)\n",
    "sys.path.append(os.path.abspath(\"./code/src/tools\"))\n",
    "\n",
    "from CloudIO.AzStorageClient import AzStorageClient\n",
    "from data_pipeline_lib import *\n",
    "\n",
    "pd.set_option('display.max_columns', None)\n",
    "pd.set_option('display.float_format', lambda x: '%.5f' % x)"
   ]
  },
  {
   "cell_type": "markdown",
   "metadata": {
    "id": "QEOCHI64ysC2"
   },
   "source": [
    "## Define Local File System Constants"
   ]
  },
  {
   "cell_type": "code",
   "execution_count": 4,
   "metadata": {
    "id": "H-AwqUa5sHYq",
    "tags": []
   },
   "outputs": [],
   "source": [
    "root_dir =  MY_HOME_ABS_PATH\n",
    "tmp_dir =  root_dir + os.sep + '.tmp'\n",
    "raw_data_dir = tmp_dir\n",
    "data_dir = root_dir + os.sep + 'data'\n",
    "cred_dir = root_dir + os.sep + '.cred'\n",
    "preproc_objects_dir = root_dir + os.sep + 'code' + os.sep + 'src' + os.sep + 'preprocessing' + os.sep + 'preproc_objects'\n",
    "\n",
    "az_cred_file = cred_dir + os.sep + 'azblobcred.json'\n",
    "model_objects_dir = root_dir + os.sep + 'code/src/modeling/model_objects'"
   ]
  },
  {
   "cell_type": "markdown",
   "metadata": {
    "id": "ES9TafVQyVG7"
   },
   "source": [
    "## Load Raw Dataset from RFR v2"
   ]
  },
  {
   "cell_type": "code",
   "execution_count": 5,
   "metadata": {
    "id": "pZcOmGLRzAd9",
    "tags": []
   },
   "outputs": [],
   "source": [
    "# Define dataset\n",
    "container = \"all-sites-data\"\n",
    "raw_blob_name = 'rfr-full_2010_2015_v_mvp-v2-knn_raw.parquet'"
   ]
  },
  {
   "cell_type": "code",
   "execution_count": 6,
   "metadata": {
    "id": "UOZGHip0yfGP",
    "tags": []
   },
   "outputs": [],
   "source": [
    "# Load splits from Azure\n",
    "azStorageClient = AzStorageClient(az_cred_file)\n",
    "\n",
    "raw_fs = azStorageClient.downloadBlob2Stream(container, raw_blob_name)\n",
    "full_raw_df = pd.read_parquet(raw_fs, engine='pyarrow')"
   ]
  },
  {
   "cell_type": "markdown",
   "metadata": {},
   "source": [
    "## Redefine Transformation Function"
   ]
  },
  {
   "cell_type": "code",
   "execution_count": 7,
   "metadata": {
    "tags": []
   },
   "outputs": [],
   "source": [
    "def add_dummy_var(df,categorical_cols):\n",
    "    dummy_df = pd.get_dummies(df[categorical_cols])\n",
    "    df = df.drop(columns=categorical_cols)\n",
    "    df = pd.concat([df, dummy_df], axis=1)\n",
    "    return df\n",
    "\n",
    "def data_transform_forCV(full_raw_df, train_site_id, val_site_id, test_site_id,\n",
    "                         categorical_cols, realNum_cols, cat_encode_type='label'):\n",
    "    # Encode the categorical columns\n",
    "    if cat_encode_type == 'label':\n",
    "        full_raw_df[categorical_cols] = full_raw_df[categorical_cols].apply(LabelEncoder().fit_transform)\n",
    "    elif cat_encode_type == 'dummy':\n",
    "        full_raw_df = add_dummy_var(full_raw_df,categorical_cols)\n",
    "\n",
    "    train_df = full_raw_df.loc[full_raw_df['site_id'].isin(train_site_id), ].copy()\n",
    "    val_df = full_raw_df.loc[full_raw_df['site_id'].isin(val_site_id), ].copy()\n",
    "    test_df  = full_raw_df.loc[full_raw_df['site_id'].isin(test_site_id), ].copy()\n",
    "    print(f\"Number of sites in df: {len(full_raw_df['site_id'].unique())}\")\n",
    "\n",
    "    print(f\"Data size after encoding: {train_df.shape}\")  \n",
    "    print(f\"Data size after encoding: {val_df.shape}\")\n",
    "    print(f\"Data size after encoding: {test_df.shape}\")\n",
    "\n",
    "    print(f\"Train Sites: {train_df['site_id'].unique()}\")\n",
    "    print(f\"Val Sites: {val_df['site_id'].unique()}\")\n",
    "    print(f\"Test Sites: {test_df['site_id'].unique()}\")\n",
    "\n",
    "    # Normalize data\n",
    "    print(f\"Normalizing real features ({len(realNum_cols)})\")\n",
    "    scaler = StandardScaler().fit(train_df[realNum_cols])\n",
    "    train_df.loc[:,realNum_cols] = scaler.transform(train_df[realNum_cols])\n",
    "    val_df.loc[:,realNum_cols] = scaler.transform(val_df[realNum_cols])\n",
    "    test_df.loc[:,realNum_cols] = scaler.transform(test_df[realNum_cols])\n",
    "\n",
    "    print(f\"Train data size: {train_df.shape}.\")\n",
    "    print(f\"Val data size: {val_df.shape}.\")\n",
    "    print(f\"Test data size: {test_df.shape}.\")  \n",
    "    train_df.reset_index(inplace=True, drop=True)\n",
    "    val_df.reset_index(inplace=True, drop=True)\n",
    "    test_df.reset_index(inplace=True, drop=True)\n",
    "\n",
    "    # Drop unnecessary features\n",
    "    X_train, y_train, X_val, y_val, X_test, y_test = drop_unneeded_var(train_df, val_df, test_df)\n",
    "  \n",
    "    return X_train, y_train, X_val, y_val, X_test, y_test\n",
    "\n",
    "# Prep x, y dataset for train\n",
    "def drop_unneeded_var(train_df, val_df, test_df):\n",
    "    X_train = train_df.drop([target_variable] + drop_cols, axis=1)\n",
    "    y_train = train_df[target_variable]\n",
    "    X_val = val_df.drop([target_variable] + drop_cols, axis=1)\n",
    "    y_val = val_df[target_variable]\n",
    "    X_test = test_df.drop([target_variable] + drop_cols, axis=1)\n",
    "    y_test = test_df[target_variable]\n",
    "    return X_train, y_train, X_val, y_val, X_test, y_test"
   ]
  },
  {
   "cell_type": "code",
   "execution_count": 8,
   "metadata": {
    "tags": []
   },
   "outputs": [],
   "source": [
    "# Prep x, y dataset for train\n",
    "target_variable = 'GPP_NT_VUT_REF'\n",
    "drop_cols = ['site_id', 'timestep_idx_local', 'timestep_idx_global', 'index', \n",
    "             'datetime','gap_flag_hour', 'gap_flag_month', 'date']\n",
    "            #  'c3c4', 'c4_percent']# add date\n",
    "\n",
    "msc_features = ['TA_ERA', 'SW_IN_ERA', 'P_ERA', 'EVI', 'NDVI', 'NIRv', 'b4']\n",
    "categorical_cols = ['koppen_sub', 'koppen_main', 'month', 'day', 'hour', 'MODIS_LC',\n",
    "                   'c3c4', 'MODIS_PFT', 'MODIS_IGBP', 'hemisphere_NS', 'lat_band']\n",
    "realNum_cols = ['TA_ERA', 'SW_IN_ERA', 'LW_IN_ERA', 'VPD_ERA', 'P_ERA', 'PA_ERA', \n",
    "                'EVI', 'NDVI', 'NIRv', 'b1', 'b2', 'b3', 'b4', 'b5', 'b6', 'b7',\n",
    "                'c4_percent', 'BESS-PAR', 'BESS-PARdiff', 'BESS-RSDN', 'CSIF-SIFdaily',\n",
    "                'PET', 'Ts', 'ESACCI-sm', 'NDWI', 'Percent_Snow', 'Fpar', 'Lai',\n",
    "                'LST_Day', 'LST_Night', 'prcp', 'prcp-lag3'] + \\\n",
    "                [f\"{feat}{ext}\" for feat in msc_features for ext in [\"_szn_mean\", \"_amp_msc\", \"_min_msc\"]]"
   ]
  },
  {
   "cell_type": "markdown",
   "metadata": {},
   "source": [
    "## Load New Split Dict (which uses clustering on IGBP, GPP_mean, GPP_variance)"
   ]
  },
  {
   "cell_type": "code",
   "execution_count": 9,
   "metadata": {
    "tags": []
   },
   "outputs": [
    {
     "name": "stdout",
     "output_type": "stream",
     "text": [
      "dict_keys(['fold_1', 'fold_2', 'fold_3', 'fold_4', 'fold_5', 'VAL_INDEX', 'TEST_INDEX', 'NUM_FOLDS'])\n"
     ]
    }
   ],
   "source": [
    "site_splits = joblib.load(os.path.join(preproc_objects_dir, 'clustered_stratified_splits_k5.joblib'))\n",
    "print(site_splits.keys())"
   ]
  },
  {
   "cell_type": "markdown",
   "metadata": {},
   "source": [
    "## Create CV Dataset"
   ]
  },
  {
   "cell_type": "code",
   "execution_count": 10,
   "metadata": {
    "tags": []
   },
   "outputs": [],
   "source": [
    "group1_id, group2_id, group3_id, group4_id, test_site_id = \\\n",
    "    site_splits['fold_1'],  site_splits['fold_2'],  site_splits['fold_3'],  site_splits['fold_4'],  site_splits['fold_5']"
   ]
  },
  {
   "cell_type": "code",
   "execution_count": 11,
   "metadata": {
    "tags": []
   },
   "outputs": [],
   "source": [
    "# Assign data to 4 groups\n",
    "cv1_val_site_list = group1_id\n",
    "cv1_train_site_list = group2_id + group3_id +group4_id\n",
    "\n",
    "cv2_val_site_list = group2_id\n",
    "cv2_train_site_list = group1_id + group3_id +group4_id\n",
    "\n",
    "cv3_val_site_list = group3_id\n",
    "cv3_train_site_list = group2_id + group1_id +group4_id\n",
    "\n",
    "cv4_val_site_list = group4_id\n",
    "cv4_train_site_list = group2_id + group3_id +group1_id"
   ]
  },
  {
   "cell_type": "markdown",
   "metadata": {},
   "source": [
    "## Data Transformation"
   ]
  },
  {
   "cell_type": "code",
   "execution_count": 12,
   "metadata": {
    "tags": []
   },
   "outputs": [
    {
     "name": "stdout",
     "output_type": "stream",
     "text": [
      "--CV1------------------------------------------------------------------------------\n",
      "Number of sites in df: 128\n",
      "Data size after encoding: (2926464, 103)\n",
      "Data size after encoding: (803328, 103)\n",
      "Data size after encoding: (847896, 103)\n",
      "Train Sites: ['AT-Neu' 'AU-ASM' 'AU-DaS' 'AU-Emr' 'AU-Gin' 'AU-How' 'AU-RDF' 'AU-Stp'\n",
      " 'AU-TTE' 'BE-Bra' 'BE-Vie' 'CA-Ca1' 'CA-Ca2' 'CA-Gro' 'CA-TP3' 'CA-TP4'\n",
      " 'CH-Dav' 'CH-Fru' 'CH-Lae' 'CH-Oe2' 'CZ-BK2' 'CZ-RAJ' 'CZ-Stn' 'CZ-wet'\n",
      " 'DE-HoH' 'DE-Hte' 'DE-Lnf' 'DE-RuR' 'DE-SfN' 'DE-Spw' 'DE-Tha' 'ES-LJu'\n",
      " 'FI-Hyy' 'FI-Let' 'FR-Aur' 'FR-Bil' 'FR-FBn' 'FR-Fon' 'FR-Hes' 'FR-Lam'\n",
      " 'FR-Pue' 'GF-Guy' 'IT-BCi' 'IT-CA1' 'IT-CA2' 'IT-Lav' 'IT-MBo' 'IT-Noe'\n",
      " 'IT-Ren' 'IT-Ro2' 'IT-SR2' 'NL-Loo' 'RU-Fyo' 'SE-Deg' 'SE-Htm' 'SE-Nor'\n",
      " 'US-ARM' 'US-Bar' 'US-Ho1' 'US-IB2' 'US-KFS' 'US-Me6' 'US-Mpj' 'US-NR1'\n",
      " 'US-Prr' 'US-Ro1' 'US-Rws' 'US-SRG' 'US-Seg' 'US-Ses' 'US-Syv' 'US-Ton'\n",
      " 'US-Tw4' 'US-Twt' 'US-UMd' 'US-Var' 'US-Whs']\n",
      "Val Sites: ['AR-SLu' 'AU-Cum' 'AU-DaP' 'AU-Rig' 'BE-Lon' 'CA-TPD' 'CH-Cha' 'CN-Sw2'\n",
      " 'CZ-KrP' 'CZ-Lnz' 'DE-Gri' 'DE-Hai' 'DE-Obe' 'ES-Amo' 'ES-LM1' 'FI-Sod'\n",
      " 'IT-SRo' 'SE-Lnn' 'US-AR1' 'US-AR2' 'US-CRT' 'US-GLE' 'US-Oho' 'US-UMB'\n",
      " 'US-Vcp' 'US-WPT']\n",
      "Test Sites: ['AR-Vir' 'AU-Whr' 'AU-Wom' 'BE-Dor' 'CA-Ca3' 'CA-Cbo' 'CA-Oas' 'CA-TP1'\n",
      " 'CZ-BK1' 'DE-Geb' 'DE-Kli' 'DK-Sor' 'ES-LM2' 'IL-Yat' 'IT-CA3' 'IT-Tor'\n",
      " 'NL-Hor' 'SE-Ros' 'US-Fmf' 'US-Myb' 'US-SRM' 'US-Vcm' 'US-WCr' 'US-Wjs'\n",
      " 'US-Wkg']\n",
      "Normalizing real features (53)\n",
      "Train data size: (2926464, 103).\n",
      "Val data size: (803328, 103).\n",
      "Test data size: (847896, 103).\n",
      "--CV2------------------------------------------------------------------------------\n",
      "Number of sites in df: 128\n",
      "Data size after encoding: (2660664, 103)\n",
      "Data size after encoding: (1069128, 103)\n",
      "Data size after encoding: (847896, 103)\n",
      "Train Sites: ['AR-SLu' 'AT-Neu' 'AU-ASM' 'AU-Cum' 'AU-DaP' 'AU-DaS' 'AU-RDF' 'AU-Rig'\n",
      " 'AU-Stp' 'AU-TTE' 'BE-Lon' 'BE-Vie' 'CA-Ca1' 'CA-Ca2' 'CA-Gro' 'CA-TP3'\n",
      " 'CA-TP4' 'CA-TPD' 'CH-Cha' 'CH-Fru' 'CH-Lae' 'CH-Oe2' 'CN-Sw2' 'CZ-KrP'\n",
      " 'CZ-Lnz' 'CZ-Stn' 'CZ-wet' 'DE-Gri' 'DE-Hai' 'DE-HoH' 'DE-Hte' 'DE-Obe'\n",
      " 'DE-SfN' 'DE-Tha' 'ES-Amo' 'ES-LJu' 'ES-LM1' 'FI-Sod' 'FR-Aur' 'FR-Bil'\n",
      " 'FR-Hes' 'FR-Lam' 'IT-CA1' 'IT-CA2' 'IT-Lav' 'IT-MBo' 'IT-Noe' 'IT-Ro2'\n",
      " 'IT-SR2' 'IT-SRo' 'NL-Loo' 'SE-Lnn' 'SE-Nor' 'US-AR1' 'US-AR2' 'US-ARM'\n",
      " 'US-CRT' 'US-GLE' 'US-Ho1' 'US-IB2' 'US-KFS' 'US-Me6' 'US-Mpj' 'US-Oho'\n",
      " 'US-Prr' 'US-Ro1' 'US-Rws' 'US-SRG' 'US-Ses' 'US-Syv' 'US-Tw4' 'US-Twt'\n",
      " 'US-UMB' 'US-UMd' 'US-Var' 'US-Vcp' 'US-WPT']\n",
      "Val Sites: ['AU-Emr' 'AU-Gin' 'AU-How' 'BE-Bra' 'CH-Dav' 'CZ-BK2' 'CZ-RAJ' 'DE-Lnf'\n",
      " 'DE-RuR' 'DE-Spw' 'FI-Hyy' 'FI-Let' 'FR-FBn' 'FR-Fon' 'FR-Pue' 'GF-Guy'\n",
      " 'IT-BCi' 'IT-Ren' 'RU-Fyo' 'SE-Deg' 'SE-Htm' 'US-Bar' 'US-NR1' 'US-Seg'\n",
      " 'US-Ton' 'US-Whs']\n",
      "Test Sites: ['AR-Vir' 'AU-Whr' 'AU-Wom' 'BE-Dor' 'CA-Ca3' 'CA-Cbo' 'CA-Oas' 'CA-TP1'\n",
      " 'CZ-BK1' 'DE-Geb' 'DE-Kli' 'DK-Sor' 'ES-LM2' 'IL-Yat' 'IT-CA3' 'IT-Tor'\n",
      " 'NL-Hor' 'SE-Ros' 'US-Fmf' 'US-Myb' 'US-SRM' 'US-Vcm' 'US-WCr' 'US-Wjs'\n",
      " 'US-Wkg']\n",
      "Normalizing real features (53)\n",
      "Train data size: (2660664, 103).\n",
      "Val data size: (1069128, 103).\n",
      "Test data size: (847896, 103).\n",
      "--CV3------------------------------------------------------------------------------\n",
      "Number of sites in df: 128\n",
      "Data size after encoding: (2840232, 103)\n",
      "Data size after encoding: (889560, 103)\n",
      "Data size after encoding: (847896, 103)\n",
      "Train Sites: ['AR-SLu' 'AU-ASM' 'AU-Cum' 'AU-DaP' 'AU-DaS' 'AU-Emr' 'AU-Gin' 'AU-How'\n",
      " 'AU-Rig' 'AU-TTE' 'BE-Bra' 'BE-Lon' 'CA-Ca1' 'CA-Ca2' 'CA-Gro' 'CA-TP3'\n",
      " 'CA-TP4' 'CA-TPD' 'CH-Cha' 'CH-Dav' 'CH-Fru' 'CH-Lae' 'CH-Oe2' 'CN-Sw2'\n",
      " 'CZ-BK2' 'CZ-KrP' 'CZ-Lnz' 'CZ-RAJ' 'CZ-Stn' 'DE-Gri' 'DE-Hai' 'DE-Hte'\n",
      " 'DE-Lnf' 'DE-Obe' 'DE-RuR' 'DE-SfN' 'DE-Spw' 'ES-Amo' 'ES-LJu' 'ES-LM1'\n",
      " 'FI-Hyy' 'FI-Let' 'FI-Sod' 'FR-Aur' 'FR-FBn' 'FR-Fon' 'FR-Hes' 'FR-Pue'\n",
      " 'GF-Guy' 'IT-BCi' 'IT-CA2' 'IT-Ren' 'IT-SR2' 'IT-SRo' 'RU-Fyo' 'SE-Deg'\n",
      " 'SE-Htm' 'SE-Lnn' 'US-AR1' 'US-AR2' 'US-ARM' 'US-Bar' 'US-CRT' 'US-GLE'\n",
      " 'US-Ho1' 'US-Mpj' 'US-NR1' 'US-Oho' 'US-Prr' 'US-Seg' 'US-Ton' 'US-UMB'\n",
      " 'US-UMd' 'US-Var' 'US-Vcp' 'US-WPT' 'US-Whs']\n",
      "Val Sites: ['AT-Neu' 'AU-RDF' 'AU-Stp' 'BE-Vie' 'CZ-wet' 'DE-HoH' 'DE-Tha' 'FR-Bil'\n",
      " 'FR-Lam' 'IT-CA1' 'IT-Lav' 'IT-MBo' 'IT-Noe' 'IT-Ro2' 'NL-Loo' 'SE-Nor'\n",
      " 'US-IB2' 'US-KFS' 'US-Me6' 'US-Ro1' 'US-Rws' 'US-SRG' 'US-Ses' 'US-Syv'\n",
      " 'US-Tw4' 'US-Twt']\n",
      "Test Sites: ['AR-Vir' 'AU-Whr' 'AU-Wom' 'BE-Dor' 'CA-Ca3' 'CA-Cbo' 'CA-Oas' 'CA-TP1'\n",
      " 'CZ-BK1' 'DE-Geb' 'DE-Kli' 'DK-Sor' 'ES-LM2' 'IL-Yat' 'IT-CA3' 'IT-Tor'\n",
      " 'NL-Hor' 'SE-Ros' 'US-Fmf' 'US-Myb' 'US-SRM' 'US-Vcm' 'US-WCr' 'US-Wjs'\n",
      " 'US-Wkg']\n",
      "Normalizing real features (53)\n",
      "Train data size: (2840232, 103).\n",
      "Val data size: (889560, 103).\n",
      "Test data size: (847896, 103).\n",
      "--CV4------------------------------------------------------------------------------\n",
      "Number of sites in df: 128\n",
      "Data size after encoding: (2762016, 103)\n",
      "Data size after encoding: (967776, 103)\n",
      "Data size after encoding: (847896, 103)\n",
      "Train Sites: ['AR-SLu' 'AT-Neu' 'AU-Cum' 'AU-DaP' 'AU-Emr' 'AU-Gin' 'AU-How' 'AU-RDF'\n",
      " 'AU-Rig' 'AU-Stp' 'BE-Bra' 'BE-Lon' 'BE-Vie' 'CA-TPD' 'CH-Cha' 'CH-Dav'\n",
      " 'CN-Sw2' 'CZ-BK2' 'CZ-KrP' 'CZ-Lnz' 'CZ-RAJ' 'CZ-wet' 'DE-Gri' 'DE-Hai'\n",
      " 'DE-HoH' 'DE-Lnf' 'DE-Obe' 'DE-RuR' 'DE-Spw' 'DE-Tha' 'ES-Amo' 'ES-LM1'\n",
      " 'FI-Hyy' 'FI-Let' 'FI-Sod' 'FR-Bil' 'FR-FBn' 'FR-Fon' 'FR-Lam' 'FR-Pue'\n",
      " 'GF-Guy' 'IT-BCi' 'IT-CA1' 'IT-Lav' 'IT-MBo' 'IT-Noe' 'IT-Ren' 'IT-Ro2'\n",
      " 'IT-SRo' 'NL-Loo' 'RU-Fyo' 'SE-Deg' 'SE-Htm' 'SE-Lnn' 'SE-Nor' 'US-AR1'\n",
      " 'US-AR2' 'US-Bar' 'US-CRT' 'US-GLE' 'US-IB2' 'US-KFS' 'US-Me6' 'US-NR1'\n",
      " 'US-Oho' 'US-Ro1' 'US-Rws' 'US-SRG' 'US-Seg' 'US-Ses' 'US-Syv' 'US-Ton'\n",
      " 'US-Tw4' 'US-Twt' 'US-UMB' 'US-Vcp' 'US-WPT' 'US-Whs']\n",
      "Val Sites: ['AU-ASM' 'AU-DaS' 'AU-TTE' 'CA-Ca1' 'CA-Ca2' 'CA-Gro' 'CA-TP3' 'CA-TP4'\n",
      " 'CH-Fru' 'CH-Lae' 'CH-Oe2' 'CZ-Stn' 'DE-Hte' 'DE-SfN' 'ES-LJu' 'FR-Aur'\n",
      " 'FR-Hes' 'IT-CA2' 'IT-SR2' 'US-ARM' 'US-Ho1' 'US-Mpj' 'US-Prr' 'US-UMd'\n",
      " 'US-Var']\n",
      "Test Sites: ['AR-Vir' 'AU-Whr' 'AU-Wom' 'BE-Dor' 'CA-Ca3' 'CA-Cbo' 'CA-Oas' 'CA-TP1'\n",
      " 'CZ-BK1' 'DE-Geb' 'DE-Kli' 'DK-Sor' 'ES-LM2' 'IL-Yat' 'IT-CA3' 'IT-Tor'\n",
      " 'NL-Hor' 'SE-Ros' 'US-Fmf' 'US-Myb' 'US-SRM' 'US-Vcm' 'US-WCr' 'US-Wjs'\n",
      " 'US-Wkg']\n",
      "Normalizing real features (53)\n",
      "Train data size: (2762016, 103).\n",
      "Val data size: (967776, 103).\n",
      "Test data size: (847896, 103).\n"
     ]
    }
   ],
   "source": [
    "print(\"--CV1------------------------------------------------------------------------------\")\n",
    "X_train_cv1, y_train_cv1, X_val_cv1, y_val_cv1, X_test_cv1, y_test_cv1 = data_transform_forCV(full_raw_df,\n",
    "                                                                                              cv1_train_site_list,\n",
    "                                                                                              cv1_val_site_list,\n",
    "                                                                                              test_site_id,\n",
    "                                                                                              categorical_cols, \n",
    "                                                                                              realNum_cols,\n",
    "                                                                                              cat_encode_type='dummy')\n",
    "\n",
    "print(\"--CV2------------------------------------------------------------------------------\")\n",
    "X_train_cv2, y_train_cv2, X_val_cv2, y_val_cv2, X_test_cv2, y_test_cv2 = data_transform_forCV(full_raw_df,\n",
    "                                                                                              cv2_train_site_list,\n",
    "                                                                                              cv2_val_site_list,\n",
    "                                                                                              test_site_id,\n",
    "                                                                                              categorical_cols, \n",
    "                                                                                              realNum_cols,\n",
    "                                                                                              cat_encode_type='dummy')\n",
    "print(\"--CV3------------------------------------------------------------------------------\")\n",
    "X_train_cv3, y_train_cv3, X_val_cv3, y_val_cv3, X_test_cv3, y_test_cv3 = data_transform_forCV(full_raw_df,\n",
    "                                                                                              cv3_train_site_list,\n",
    "                                                                                              cv3_val_site_list,\n",
    "                                                                                              test_site_id,\n",
    "                                                                                              categorical_cols, \n",
    "                                                                                              realNum_cols,\n",
    "                                                                                              cat_encode_type='dummy')\n",
    "print(\"--CV4------------------------------------------------------------------------------\")\n",
    "X_train_cv4, y_train_cv4, X_val_cv4, y_val_cv4, X_test_cv4, y_test_cv4 = data_transform_forCV(full_raw_df,\n",
    "                                                                                              cv4_train_site_list,\n",
    "                                                                                              cv4_val_site_list,\n",
    "                                                                                              test_site_id,\n",
    "                                                                                              categorical_cols, \n",
    "                                                                                              realNum_cols,\n",
    "                                                                                              cat_encode_type='dummy')\n"
   ]
  },
  {
   "cell_type": "markdown",
   "metadata": {},
   "source": [
    "## Cross Validation on RFR Full"
   ]
  },
  {
   "cell_type": "code",
   "execution_count": 13,
   "metadata": {
    "tags": []
   },
   "outputs": [
    {
     "name": "stderr",
     "output_type": "stream",
     "text": [
      "[Parallel(n_jobs=-1)]: Using backend ThreadingBackend with 32 concurrent workers.\n",
      "[Parallel(n_jobs=-1)]: Done  38 out of  50 | elapsed:   15.6s remaining:    4.9s\n",
      "[Parallel(n_jobs=-1)]: Done  50 out of  50 | elapsed:   17.9s finished\n"
     ]
    },
    {
     "name": "stdout",
     "output_type": "stream",
     "text": [
      "Finished model 1\n"
     ]
    },
    {
     "name": "stderr",
     "output_type": "stream",
     "text": [
      "[Parallel(n_jobs=-1)]: Using backend ThreadingBackend with 32 concurrent workers.\n",
      "[Parallel(n_jobs=-1)]: Done  38 out of  50 | elapsed:   13.7s remaining:    4.3s\n",
      "[Parallel(n_jobs=-1)]: Done  50 out of  50 | elapsed:   15.4s finished\n"
     ]
    },
    {
     "name": "stdout",
     "output_type": "stream",
     "text": [
      "Finished model 2\n"
     ]
    },
    {
     "name": "stderr",
     "output_type": "stream",
     "text": [
      "[Parallel(n_jobs=-1)]: Using backend ThreadingBackend with 32 concurrent workers.\n",
      "[Parallel(n_jobs=-1)]: Done  38 out of  50 | elapsed:   14.8s remaining:    4.7s\n",
      "[Parallel(n_jobs=-1)]: Done  50 out of  50 | elapsed:   16.7s finished\n"
     ]
    },
    {
     "name": "stdout",
     "output_type": "stream",
     "text": [
      "Finished model 3\n"
     ]
    },
    {
     "name": "stderr",
     "output_type": "stream",
     "text": [
      "[Parallel(n_jobs=-1)]: Using backend ThreadingBackend with 32 concurrent workers.\n",
      "[Parallel(n_jobs=-1)]: Done  38 out of  50 | elapsed:   14.6s remaining:    4.6s\n"
     ]
    },
    {
     "name": "stdout",
     "output_type": "stream",
     "text": [
      "Finished model 4\n"
     ]
    },
    {
     "name": "stderr",
     "output_type": "stream",
     "text": [
      "[Parallel(n_jobs=-1)]: Done  50 out of  50 | elapsed:   16.5s finished\n"
     ]
    }
   ],
   "source": [
    "# Using best params from the tuned model in V1\n",
    "best_params = {}\n",
    "best_params['n_estimators'] = 50\n",
    "best_params['max_depth'] = 10\n",
    "best_params['max_features'] = 'sqrt'\n",
    "\n",
    "# model1\n",
    "cv_model1 = RandomForestRegressor(**best_params, random_state=42, n_jobs=-1, verbose=1)\n",
    "cv_model1.fit(X_train_cv1, list(y_train_cv1))\n",
    "print(\"Finished model 1\")\n",
    "\n",
    "# model2\n",
    "cv_model2 = RandomForestRegressor(**best_params, random_state=42, n_jobs=-1, verbose=1)\n",
    "cv_model2.fit(X_train_cv2, y_train_cv2)\n",
    "print(\"Finished model 2\")\n",
    "\n",
    "# model3\n",
    "cv_model3 = RandomForestRegressor(**best_params, random_state=42, n_jobs=-1, verbose=1)\n",
    "cv_model3.fit(X_train_cv3, y_train_cv3)\n",
    "print(\"Finished model 3\")\n",
    "\n",
    "# model4\n",
    "cv_model4 = RandomForestRegressor(**best_params, random_state=42, n_jobs=-1, verbose=1)\n",
    "cv_model4.fit(X_train_cv4, y_train_cv4)\n",
    "print(\"Finished model 4\")"
   ]
  },
  {
   "cell_type": "markdown",
   "metadata": {},
   "source": [
    "## Evaluate RFR on Val Set"
   ]
  },
  {
   "cell_type": "code",
   "execution_count": 14,
   "metadata": {
    "tags": []
   },
   "outputs": [],
   "source": [
    "# Evaluate predictions - VAL\n",
    "def eval_metrics(model, X_val, y_val):\n",
    "  y_pred = model.predict(X_val)\n",
    "  \n",
    "  rmse = np.sqrt(mean_squared_error(y_val, y_pred))\n",
    "  mae = mean_absolute_error(y_val, y_pred)\n",
    "  r2 = r2_score(y_val, y_pred)\n",
    "  print(\"\")\n",
    "  print(f'Val RMSE: {rmse}, \"Val MAE: {mae}, Val R2/NSE: {r2}')\n",
    "  return [rmse, mae, r2]"
   ]
  },
  {
   "cell_type": "code",
   "execution_count": 15,
   "metadata": {
    "tags": []
   },
   "outputs": [
    {
     "name": "stderr",
     "output_type": "stream",
     "text": [
      "[Parallel(n_jobs=32)]: Using backend ThreadingBackend with 32 concurrent workers.\n",
      "[Parallel(n_jobs=32)]: Done  38 out of  50 | elapsed:    0.1s remaining:    0.0s\n",
      "[Parallel(n_jobs=32)]: Done  50 out of  50 | elapsed:    0.1s finished\n"
     ]
    },
    {
     "name": "stdout",
     "output_type": "stream",
     "text": [
      "\n",
      "Val RMSE: 4.067724938134661, \"Val MAE: 2.25497921166248, Val R2/NSE: 0.6816227024985512\n"
     ]
    },
    {
     "name": "stderr",
     "output_type": "stream",
     "text": [
      "[Parallel(n_jobs=32)]: Using backend ThreadingBackend with 32 concurrent workers.\n",
      "[Parallel(n_jobs=32)]: Done  38 out of  50 | elapsed:    0.1s remaining:    0.0s\n",
      "[Parallel(n_jobs=32)]: Done  50 out of  50 | elapsed:    0.2s finished\n"
     ]
    },
    {
     "name": "stdout",
     "output_type": "stream",
     "text": [
      "\n",
      "Val RMSE: 4.021807827269301, \"Val MAE: 2.326340902585285, Val R2/NSE: 0.6765842011361605\n"
     ]
    },
    {
     "name": "stderr",
     "output_type": "stream",
     "text": [
      "[Parallel(n_jobs=32)]: Using backend ThreadingBackend with 32 concurrent workers.\n",
      "[Parallel(n_jobs=32)]: Done  38 out of  50 | elapsed:    0.1s remaining:    0.0s\n",
      "[Parallel(n_jobs=32)]: Done  50 out of  50 | elapsed:    0.1s finished\n"
     ]
    },
    {
     "name": "stdout",
     "output_type": "stream",
     "text": [
      "\n",
      "Val RMSE: 4.030910562416023, \"Val MAE: 2.2489566804636523, Val R2/NSE: 0.6578845202968275\n",
      "\n",
      "Val RMSE: 4.168802934232785, \"Val MAE: 2.368284808640706, Val R2/NSE: 0.635173112825214\n"
     ]
    },
    {
     "name": "stderr",
     "output_type": "stream",
     "text": [
      "[Parallel(n_jobs=32)]: Using backend ThreadingBackend with 32 concurrent workers.\n",
      "[Parallel(n_jobs=32)]: Done  38 out of  50 | elapsed:    0.1s remaining:    0.0s\n",
      "[Parallel(n_jobs=32)]: Done  50 out of  50 | elapsed:    0.1s finished\n"
     ]
    },
    {
     "data": {
      "text/html": [
       "<div>\n",
       "<style scoped>\n",
       "    .dataframe tbody tr th:only-of-type {\n",
       "        vertical-align: middle;\n",
       "    }\n",
       "\n",
       "    .dataframe tbody tr th {\n",
       "        vertical-align: top;\n",
       "    }\n",
       "\n",
       "    .dataframe thead tr th {\n",
       "        text-align: left;\n",
       "    }\n",
       "</style>\n",
       "<table border=\"1\" class=\"dataframe\">\n",
       "  <thead>\n",
       "    <tr>\n",
       "      <th></th>\n",
       "      <th>RMSE</th>\n",
       "      <th>MAE</th>\n",
       "      <th>R2</th>\n",
       "    </tr>\n",
       "  </thead>\n",
       "  <tbody>\n",
       "    <tr>\n",
       "      <th>0</th>\n",
       "      <td>4.06772</td>\n",
       "      <td>2.25498</td>\n",
       "      <td>0.68162</td>\n",
       "    </tr>\n",
       "    <tr>\n",
       "      <th>1</th>\n",
       "      <td>4.02181</td>\n",
       "      <td>2.32634</td>\n",
       "      <td>0.67658</td>\n",
       "    </tr>\n",
       "    <tr>\n",
       "      <th>2</th>\n",
       "      <td>4.03091</td>\n",
       "      <td>2.24896</td>\n",
       "      <td>0.65788</td>\n",
       "    </tr>\n",
       "    <tr>\n",
       "      <th>3</th>\n",
       "      <td>4.16880</td>\n",
       "      <td>2.36828</td>\n",
       "      <td>0.63517</td>\n",
       "    </tr>\n",
       "  </tbody>\n",
       "</table>\n",
       "</div>"
      ],
      "text/plain": [
       "     RMSE     MAE      R2\n",
       "0 4.06772 2.25498 0.68162\n",
       "1 4.02181 2.32634 0.67658\n",
       "2 4.03091 2.24896 0.65788\n",
       "3 4.16880 2.36828 0.63517"
      ]
     },
     "execution_count": 15,
     "metadata": {},
     "output_type": "execute_result"
    }
   ],
   "source": [
    "cv1_result = eval_metrics(cv_model1, X_val_cv1, y_val_cv1)\n",
    "cv2_result = eval_metrics(cv_model2, X_val_cv2, y_val_cv2)\n",
    "cv3_result = eval_metrics(cv_model3, X_val_cv3, y_val_cv3)\n",
    "cv4_result = eval_metrics(cv_model4, X_val_cv4, y_val_cv4)\n",
    "\n",
    "cv_result = [[\"RMSE\", \"MAE\", \"R2\"]]\n",
    "cv_result_df = pd.DataFrame([cv1_result, cv2_result, \n",
    "                             cv3_result, cv4_result],columns=cv_result)\n",
    "cv_result_df"
   ]
  },
  {
   "cell_type": "code",
   "execution_count": 16,
   "metadata": {},
   "outputs": [
    {
     "data": {
      "text/plain": [
       "RMSE   4.07231\n",
       "MAE    2.29964\n",
       "R2     0.66282\n",
       "dtype: float64"
      ]
     },
     "execution_count": 16,
     "metadata": {},
     "output_type": "execute_result"
    }
   ],
   "source": [
    "cv_result_df.mean()"
   ]
  },
  {
   "cell_type": "markdown",
   "metadata": {},
   "source": [
    "## Compare Feature Importances"
   ]
  },
  {
   "cell_type": "code",
   "execution_count": 17,
   "metadata": {
    "tags": []
   },
   "outputs": [],
   "source": [
    "def feature_importance(model, model_name, columns, fig_num, fig, ax):\n",
    "    # get the feature importances\n",
    "  importances = pd.Series(model.feature_importances_, index=columns)#.sort_values(ascending=False)\n",
    "  # Visualize\n",
    "  importances_sorted = importances.sort_values(ascending=True)[-30:]\n",
    "\n",
    "  ax[fig_num].barh(importances_sorted.index, importances_sorted.values)\n",
    "  ax[fig_num].set_title(model_name + '  Feature Importances')\n",
    "  ax[fig_num].set_xlabel('Importance')\n",
    "  ax[fig_num].set_ylabel('Feature')\n",
    "  return importances"
   ]
  },
  {
   "cell_type": "code",
   "execution_count": 18,
   "metadata": {
    "tags": []
   },
   "outputs": [
    {
     "data": {
      "image/png": "[encoded data removed]",
      "text/plain": [
       "<Figure size 2000x1000 with 4 Axes>"
      ]
     },
     "metadata": {},
     "output_type": "display_data"
    }
   ],
   "source": [
    "import seaborn as sns\n",
    "sns.set_theme(style=\"darkgrid\")\n",
    "sns.set(rc={'figure.figsize':(30,10), })\n",
    "fig, ax = plt.subplots(1, 4, figsize=(20,10))\n",
    "\n",
    "cv1_importances = feature_importance(cv_model1, \"CV1\", X_test_cv1.columns, 0, fig, ax)\n",
    "cv2_importances = feature_importance(cv_model2, \"CV2\", X_test_cv1.columns, 1, fig, ax)\n",
    "cv3_importances = feature_importance(cv_model3, \"CV3\", X_test_cv1.columns, 2, fig, ax)\n",
    "cv4_importances = feature_importance(cv_model4, \"CV4\", X_test_cv1.columns, 3, fig, ax)\n",
    "fig.tight_layout()\n",
    "plt.show()\n"
   ]
  },
  {
   "cell_type": "code",
   "execution_count": null,
   "metadata": {},
   "outputs": [],
   "source": []
  }
 ],
 "metadata": {
  "availableInstances": [
   {
    "_defaultOrder": 0,
    "_isFastLaunch": true,
    "category": "General purpose",
    "gpuNum": 0,
    "memoryGiB": 4,
    "name": "ml.t3.medium",
    "vcpuNum": 2
   },
   {
    "_defaultOrder": 1,
    "_isFastLaunch": false,
    "category": "General purpose",
    "gpuNum": 0,
    "memoryGiB": 8,
    "name": "ml.t3.large",
    "vcpuNum": 2
   },
   {
    "_defaultOrder": 2,
    "_isFastLaunch": false,
    "category": "General purpose",
    "gpuNum": 0,
    "memoryGiB": 16,
    "name": "ml.t3.xlarge",
    "vcpuNum": 4
   },
   {
    "_defaultOrder": 3,
    "_isFastLaunch": false,
    "category": "General purpose",
    "gpuNum": 0,
    "memoryGiB": 32,
    "name": "ml.t3.2xlarge",
    "vcpuNum": 8
   },
   {
    "_defaultOrder": 4,
    "_isFastLaunch": true,
    "category": "General purpose",
    "gpuNum": 0,
    "memoryGiB": 8,
    "name": "ml.m5.large",
    "vcpuNum": 2
   },
   {
    "_defaultOrder": 5,
    "_isFastLaunch": false,
    "category": "General purpose",
    "gpuNum": 0,
    "memoryGiB": 16,
    "name": "ml.m5.xlarge",
    "vcpuNum": 4
   },
   {
    "_defaultOrder": 6,
    "_isFastLaunch": false,
    "category": "General purpose",
    "gpuNum": 0,
    "memoryGiB": 32,
    "name": "ml.m5.2xlarge",
    "vcpuNum": 8
   },
   {
    "_defaultOrder": 7,
    "_isFastLaunch": false,
    "category": "General purpose",
    "gpuNum": 0,
    "memoryGiB": 64,
    "name": "ml.m5.4xlarge",
    "vcpuNum": 16
   },
   {
    "_defaultOrder": 8,
    "_isFastLaunch": false,
    "category": "General purpose",
    "gpuNum": 0,
    "memoryGiB": 128,
    "name": "ml.m5.8xlarge",
    "vcpuNum": 32
   },
   {
    "_defaultOrder": 9,
    "_isFastLaunch": false,
    "category": "General purpose",
    "gpuNum": 0,
    "memoryGiB": 192,
    "name": "ml.m5.12xlarge",
    "vcpuNum": 48
   },
   {
    "_defaultOrder": 10,
    "_isFastLaunch": false,
    "category": "General purpose",
    "gpuNum": 0,
    "memoryGiB": 256,
    "name": "ml.m5.16xlarge",
    "vcpuNum": 64
   },
   {
    "_defaultOrder": 11,
    "_isFastLaunch": false,
    "category": "General purpose",
    "gpuNum": 0,
    "memoryGiB": 384,
    "name": "ml.m5.24xlarge",
    "vcpuNum": 96
   },
   {
    "_defaultOrder": 12,
    "_isFastLaunch": false,
    "category": "General purpose",
    "gpuNum": 0,
    "memoryGiB": 8,
    "name": "ml.m5d.large",
    "vcpuNum": 2
   },
   {
    "_defaultOrder": 13,
    "_isFastLaunch": false,
    "category": "General purpose",
    "gpuNum": 0,
    "memoryGiB": 16,
    "name": "ml.m5d.xlarge",
    "vcpuNum": 4
   },
   {
    "_defaultOrder": 14,
    "_isFastLaunch": false,
    "category": "General purpose",
    "gpuNum": 0,
    "memoryGiB": 32,
    "name": "ml.m5d.2xlarge",
    "vcpuNum": 8
   },
   {
    "_defaultOrder": 15,
    "_isFastLaunch": false,
    "category": "General purpose",
    "gpuNum": 0,
    "memoryGiB": 64,
    "name": "ml.m5d.4xlarge",
    "vcpuNum": 16
   },
   {
    "_defaultOrder": 16,
    "_isFastLaunch": false,
    "category": "General purpose",
    "gpuNum": 0,
    "memoryGiB": 128,
    "name": "ml.m5d.8xlarge",
    "vcpuNum": 32
   },
   {
    "_defaultOrder": 17,
    "_isFastLaunch": false,
    "category": "General purpose",
    "gpuNum": 0,
    "memoryGiB": 192,
    "name": "ml.m5d.12xlarge",
    "vcpuNum": 48
   },
   {
    "_defaultOrder": 18,
    "_isFastLaunch": false,
    "category": "General purpose",
    "gpuNum": 0,
    "memoryGiB": 256,
    "name": "ml.m5d.16xlarge",
    "vcpuNum": 64
   },
   {
    "_defaultOrder": 19,
    "_isFastLaunch": false,
    "category": "General purpose",
    "gpuNum": 0,
    "memoryGiB": 384,
    "name": "ml.m5d.24xlarge",
    "vcpuNum": 96
   },
   {
    "_defaultOrder": 20,
    "_isFastLaunch": true,
    "category": "Compute optimized",
    "gpuNum": 0,
    "memoryGiB": 4,
    "name": "ml.c5.large",
    "vcpuNum": 2
   },
   {
    "_defaultOrder": 21,
    "_isFastLaunch": false,
    "category": "Compute optimized",
    "gpuNum": 0,
    "memoryGiB": 8,
    "name": "ml.c5.xlarge",
    "vcpuNum": 4
   },
   {
    "_defaultOrder": 22,
    "_isFastLaunch": false,
    "category": "Compute optimized",
    "gpuNum": 0,
    "memoryGiB": 16,
    "name": "ml.c5.2xlarge",
    "vcpuNum": 8
   },
   {
    "_defaultOrder": 23,
    "_isFastLaunch": false,
    "category": "Compute optimized",
    "gpuNum": 0,
    "memoryGiB": 32,
    "name": "ml.c5.4xlarge",
    "vcpuNum": 16
   },
   {
    "_defaultOrder": 24,
    "_isFastLaunch": false,
    "category": "Compute optimized",
    "gpuNum": 0,
    "memoryGiB": 72,
    "name": "ml.c5.9xlarge",
    "vcpuNum": 36
   },
   {
    "_defaultOrder": 25,
    "_isFastLaunch": false,
    "category": "Compute optimized",
    "gpuNum": 0,
    "memoryGiB": 96,
    "name": "ml.c5.12xlarge",
    "vcpuNum": 48
   },
   {
    "_defaultOrder": 26,
    "_isFastLaunch": false,
    "category": "Compute optimized",
    "gpuNum": 0,
    "memoryGiB": 144,
    "name": "ml.c5.18xlarge",
    "vcpuNum": 72
   },
   {
    "_defaultOrder": 27,
    "_isFastLaunch": false,
    "category": "Compute optimized",
    "gpuNum": 0,
    "memoryGiB": 192,
    "name": "ml.c5.24xlarge",
    "vcpuNum": 96
   },
   {
    "_defaultOrder": 28,
    "_isFastLaunch": true,
    "category": "Accelerated computing",
    "gpuNum": 1,
    "memoryGiB": 16,
    "name": "ml.g4dn.xlarge",
    "vcpuNum": 4
   },
   {
    "_defaultOrder": 29,
    "_isFastLaunch": false,
    "category": "Accelerated computing",
    "gpuNum": 1,
    "memoryGiB": 32,
    "name": "ml.g4dn.2xlarge",
    "vcpuNum": 8
   },
   {
    "_defaultOrder": 30,
    "_isFastLaunch": false,
    "category": "Accelerated computing",
    "gpuNum": 1,
    "memoryGiB": 64,
    "name": "ml.g4dn.4xlarge",
    "vcpuNum": 16
   },
   {
    "_defaultOrder": 31,
    "_isFastLaunch": false,
    "category": "Accelerated computing",
    "gpuNum": 1,
    "memoryGiB": 128,
    "name": "ml.g4dn.8xlarge",
    "vcpuNum": 32
   },
   {
    "_defaultOrder": 32,
    "_isFastLaunch": false,
    "category": "Accelerated computing",
    "gpuNum": 4,
    "memoryGiB": 192,
    "name": "ml.g4dn.12xlarge",
    "vcpuNum": 48
   },
   {
    "_defaultOrder": 33,
    "_isFastLaunch": false,
    "category": "Accelerated computing",
    "gpuNum": 1,
    "memoryGiB": 256,
    "name": "ml.g4dn.16xlarge",
    "vcpuNum": 64
   },
   {
    "_defaultOrder": 34,
    "_isFastLaunch": false,
    "category": "Accelerated computing",
    "gpuNum": 1,
    "memoryGiB": 61,
    "name": "ml.p3.2xlarge",
    "vcpuNum": 8
   },
   {
    "_defaultOrder": 35,
    "_isFastLaunch": false,
    "category": "Accelerated computing",
    "gpuNum": 4,
    "memoryGiB": 244,
    "name": "ml.p3.8xlarge",
    "vcpuNum": 32
   },
   {
    "_defaultOrder": 36,
    "_isFastLaunch": false,
    "category": "Accelerated computing",
    "gpuNum": 8,
    "memoryGiB": 488,
    "name": "ml.p3.16xlarge",
    "vcpuNum": 64
   },
   {
    "_defaultOrder": 37,
    "_isFastLaunch": false,
    "category": "Accelerated computing",
    "gpuNum": 8,
    "memoryGiB": 768,
    "name": "ml.p3dn.24xlarge",
    "vcpuNum": 96
   },
   {
    "_defaultOrder": 38,
    "_isFastLaunch": false,
    "category": "Memory Optimized",
    "gpuNum": 0,
    "memoryGiB": 16,
    "name": "ml.r5.large",
    "vcpuNum": 2
   },
   {
    "_defaultOrder": 39,
    "_isFastLaunch": false,
    "category": "Memory Optimized",
    "gpuNum": 0,
    "memoryGiB": 32,
    "name": "ml.r5.xlarge",
    "vcpuNum": 4
   },
   {
    "_defaultOrder": 40,
    "_isFastLaunch": false,
    "category": "Memory Optimized",
    "gpuNum": 0,
    "memoryGiB": 64,
    "name": "ml.r5.2xlarge",
    "vcpuNum": 8
   },
   {
    "_defaultOrder": 41,
    "_isFastLaunch": false,
    "category": "Memory Optimized",
    "gpuNum": 0,
    "memoryGiB": 128,
    "name": "ml.r5.4xlarge",
    "vcpuNum": 16
   },
   {
    "_defaultOrder": 42,
    "_isFastLaunch": false,
    "category": "Memory Optimized",
    "gpuNum": 0,
    "memoryGiB": 256,
    "name": "ml.r5.8xlarge",
    "vcpuNum": 32
   },
   {
    "_defaultOrder": 43,
    "_isFastLaunch": false,
    "category": "Memory Optimized",
    "gpuNum": 0,
    "memoryGiB": 384,
    "name": "ml.r5.12xlarge",
    "vcpuNum": 48
   },
   {
    "_defaultOrder": 44,
    "_isFastLaunch": false,
    "category": "Memory Optimized",
    "gpuNum": 0,
    "memoryGiB": 512,
    "name": "ml.r5.16xlarge",
    "vcpuNum": 64
   },
   {
    "_defaultOrder": 45,
    "_isFastLaunch": false,
    "category": "Memory Optimized",
    "gpuNum": 0,
    "memoryGiB": 768,
    "name": "ml.r5.24xlarge",
    "vcpuNum": 96
   },
   {
    "_defaultOrder": 46,
    "_isFastLaunch": false,
    "category": "Accelerated computing",
    "gpuNum": 1,
    "memoryGiB": 16,
    "name": "ml.g5.xlarge",
    "vcpuNum": 4
   },
   {
    "_defaultOrder": 47,
    "_isFastLaunch": false,
    "category": "Accelerated computing",
    "gpuNum": 1,
    "memoryGiB": 32,
    "name": "ml.g5.2xlarge",
    "vcpuNum": 8
   },
   {
    "_defaultOrder": 48,
    "_isFastLaunch": false,
    "category": "Accelerated computing",
    "gpuNum": 1,
    "memoryGiB": 64,
    "name": "ml.g5.4xlarge",
    "vcpuNum": 16
   },
   {
    "_defaultOrder": 49,
    "_isFastLaunch": false,
    "category": "Accelerated computing",
    "gpuNum": 1,
    "memoryGiB": 128,
    "name": "ml.g5.8xlarge",
    "vcpuNum": 32
   },
   {
    "_defaultOrder": 50,
    "_isFastLaunch": false,
    "category": "Accelerated computing",
    "gpuNum": 1,
    "memoryGiB": 256,
    "name": "ml.g5.16xlarge",
    "vcpuNum": 64
   },
   {
    "_defaultOrder": 51,
    "_isFastLaunch": false,
    "category": "Accelerated computing",
    "gpuNum": 4,
    "memoryGiB": 192,
    "name": "ml.g5.12xlarge",
    "vcpuNum": 48
   },
   {
    "_defaultOrder": 52,
    "_isFastLaunch": false,
    "category": "Accelerated computing",
    "gpuNum": 4,
    "memoryGiB": 384,
    "name": "ml.g5.24xlarge",
    "vcpuNum": 96
   },
   {
    "_defaultOrder": 53,
    "_isFastLaunch": false,
    "category": "Accelerated computing",
    "gpuNum": 8,
    "memoryGiB": 768,
    "name": "ml.g5.48xlarge",
    "vcpuNum": 192
   }
  ],
  "colab": {
   "authorship_tag": "ABX9TyMktPqVsmYmb4OF0pleEIT6",
   "collapsed_sections": [
    "e4IubJbxywkb"
   ],
   "provenance": [
    {
     "file_id": "1Dnjg12Q6cKk8QHNMr88OqeNsEUYNTP1t",
     "timestamp": 1676251696695
    }
   ]
  },
  "instance_type": "ml.m5.8xlarge",
  "kernelspec": {
   "display_name": "Python [conda env:py310] (arn:aws:sagemaker:us-east-1:081325390199:image/datascience-1.0)",
   "language": "python",
   "name": "conda-env-py310-py__SAGEMAKER_INTERNAL__arn:aws:sagemaker:us-east-1:081325390199:image/datascience-1.0"
  },
  "language_info": {
   "codemirror_mode": {
    "name": "ipython",
    "version": 3
   },
   "file_extension": ".py",
   "mimetype": "text/x-python",
   "name": "python",
   "nbconvert_exporter": "python",
   "pygments_lexer": "ipython3",
   "version": "3.10.9"
  }
 },
 "nbformat": 4,
 "nbformat_minor": 4
}
