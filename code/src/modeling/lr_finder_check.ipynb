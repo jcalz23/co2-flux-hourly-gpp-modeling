{
 "cells": [
  {
   "cell_type": "code",
   "execution_count": 2,
   "id": "0185d453-88c4-4c62-9abf-c76f5cd69fd6",
   "metadata": {
    "tags": []
   },
   "outputs": [
    {
     "name": "stderr",
     "output_type": "stream",
     "text": [
      "2023-03-27 01:44:36.448338: I tensorflow/core/util/port.cc:110] oneDNN custom operations are on. You may see slightly different numerical results due to floating-point round-off errors from different computation orders. To turn them off, set the environment variable `TF_ENABLE_ONEDNN_OPTS=0`.\n",
      "2023-03-27 01:44:36.450604: I tensorflow/tsl/cuda/cudart_stub.cc:28] Could not find cuda drivers on your machine, GPU will not be used.\n",
      "2023-03-27 01:44:36.498312: I tensorflow/tsl/cuda/cudart_stub.cc:28] Could not find cuda drivers on your machine, GPU will not be used.\n",
      "2023-03-27 01:44:36.499037: I tensorflow/core/platform/cpu_feature_guard.cc:182] This TensorFlow binary is optimized to use available CPU instructions in performance-critical operations.\n",
      "To enable the following instructions: AVX2 AVX512F AVX512_VNNI FMA, in other operations, rebuild TensorFlow with the appropriate compiler flags.\n",
      "2023-03-27 01:44:37.230569: W tensorflow/compiler/tf2tensorrt/utils/py_utils.cc:38] TF-TRT Warning: Could not find TensorRT\n",
      "Global seed set to 42\n",
      "Global seed set to 42\n"
     ]
    },
    {
     "name": "stdout",
     "output_type": "stream",
     "text": [
      "Number of available GPUs: 4\n",
      "Data size: (4862712, 51)\n",
      "Data Columns: Index(['GPP_NT_VUT_REF', 'site_id', 'timestep_idx_local',\n",
      "       'timestep_idx_global', 'datetime', 'date', 'year', 'month', 'day',\n",
      "       'hour', 'TA_ERA', 'SW_IN_ERA', 'LW_IN_ERA', 'VPD_ERA', 'P_ERA',\n",
      "       'PA_ERA', 'EVI', 'NDVI', 'NIRv', 'b1', 'b2', 'b3', 'b4', 'b5', 'b6',\n",
      "       'b7', 'IGBP', 'lat', 'long', 'koppen_sub', 'koppen_main', 'c3c4',\n",
      "       'c4_percent', 'BESS-PAR', 'BESS-PARdiff', 'BESS-RSDN', 'CSIF-SIFdaily',\n",
      "       'PET', 'Ts', 'ESACCI-sm', 'MODIS_LC', 'NDWI', 'Percent_Snow', 'Fpar',\n",
      "       'Lai', 'LST_Day', 'LST_Night', 'MODIS_IGBP', 'MODIS_PFT',\n",
      "       'gap_flag_hour', 'gap_flag_month'],\n",
      "      dtype='object')\n",
      "NA count: 0\n",
      "Training timestemp length = 43800.\n",
      "Experiment logs saved to /root/co2-flux-hourly-gpp-modeling/data/models/tft_model_5YrTrain_3DEncode_SmallNetwork_SlimFeatures_NoGPP_230327_0145.\n",
      "Subest length: 43800 timesteps for each sites\n",
      "Subset num train timesteps: 2579424\n",
      "Subset num val timesteps: 952752\n"
     ]
    }
   ],
   "source": [
    "MY_HOME_ABS_PATH = \"/root/co2-flux-hourly-gpp-modeling/\"\n",
    "\n",
    "import os\n",
    "import sys\n",
    "import warnings\n",
    "warnings.filterwarnings(\"ignore\")\n",
    "import copy\n",
    "import json\n",
    "from pathlib import Path\n",
    "import numpy as np\n",
    "import pandas as pd\n",
    "import matplotlib.pyplot as plt\n",
    "import tensorflow as tf\n",
    "import pytorch_lightning as pl\n",
    "from pytorch_lightning.callbacks import EarlyStopping, LearningRateMonitor\n",
    "from pytorch_lightning.loggers import TensorBoardLogger\n",
    "import torch\n",
    "\n",
    "from pytorch_forecasting import Baseline, TemporalFusionTransformer, TimeSeriesDataSet\n",
    "from pytorch_forecasting.data import GroupNormalizer\n",
    "from pytorch_forecasting.metrics import SMAPE, PoissonLoss, QuantileLoss\n",
    "from pytorch_forecasting.models.temporal_fusion_transformer.tuning import optimize_hyperparameters\n",
    "from pytorch_forecasting import BaseModel, MAE\n",
    "from pytorch_forecasting.metrics.point import RMSE\n",
    "from pytorch_forecasting.data.encoders import NaNLabelEncoder\n",
    "\n",
    "from sklearn.metrics import r2_score\n",
    "from timeit import default_timer\n",
    "from datetime import datetime\n",
    "import gc\n",
    "import pickle\n",
    "import multiprocessing as mp\n",
    "\n",
    "# Load locale custome modules\n",
    "#os.chdir(MY_HOME_ABS_PATH)\n",
    "sys.path.append(f'{MY_HOME_ABS_PATH}/.cred')\n",
    "sys.path.append(f'{MY_HOME_ABS_PATH}/code/src/tools')\n",
    "sys.path.append(os.path.abspath(f\"{MY_HOME_ABS_PATH}/code/src/tools\"))\n",
    "  \n",
    "from CloudIO.AzStorageClient import AzStorageClient\n",
    "from data_pipeline_lib import *\n",
    "from model_pipeline_lib import *\n",
    "\n",
    "pd.set_option('display.max_columns', None)\n",
    "pd.set_option('display.float_format', lambda x: '%.5f' % x)\n",
    "pl.seed_everything(42)\n",
    "\n",
    "\n",
    "# Print GPUs available\n",
    "if torch.cuda.is_available():\n",
    "    device_count = torch.cuda.device_count()\n",
    "    print(f\"Number of available GPUs: {device_count}\")\n",
    "else:\n",
    "    print(\"GPU is not available on this system.\")\n",
    "\n",
    "# Download full data\n",
    "root_dir  = MY_HOME_ABS_PATH\n",
    "tmp_dir   = root_dir + os.sep + '.tmp'\n",
    "model_dir = root_dir + os.sep + 'data' + os.sep + 'models'\n",
    "\n",
    "container = \"all-sites-data\"\n",
    "#blob_name = \"tft-full_2010_2015_v_slim-features-v1_raw.parquet\"\n",
    "blob_name = \"full_2010_2015_v_mvp_raw.parquet\"\n",
    "local_file = tmp_dir + os.sep + blob_name\n",
    "\n",
    "data_df = get_raw_datasets(container, blob_name)\n",
    "\n",
    "# Define experiment\n",
    "exp_name = \"5YrTrain_3DEncode_SmallNetwork_SlimFeatures_NoGPP\"\n",
    "\n",
    "# Experiment constants\n",
    "VAL_INDEX  = 3\n",
    "TEST_INDEX = 4\n",
    "SUBSET_LEN = 24*365*5 # 1 year\n",
    "ENCODER_LEN = 24*3   # 3 days\n",
    "print(f\"Training timestemp length = {SUBSET_LEN}.\")\n",
    "\n",
    "# Create model result directory\n",
    "experiment_ts = datetime.now().strftime(\"%y%m%d_%H%M\")\n",
    "exp_fname = f\"tft_model_{exp_name}_{experiment_ts}\"\n",
    "exp_model_dir = model_dir + os.sep + exp_fname\n",
    "if not (os.path.exists(exp_model_dir)):\n",
    "    os.makedirs(exp_model_dir)\n",
    "print(f\"Experiment logs saved to {exp_model_dir}.\")\n",
    "\n",
    "\n",
    "def setup_tsdataset_nogpp(train_df, val_df, test_df, min_encoder_len):\n",
    "    # create training and validation TS dataset \n",
    "    training = TimeSeriesDataSet(\n",
    "      train_df, # <------ no longer subsetting, option 1 split can use entire train site sequence\n",
    "      time_idx=\"timestep_idx_global\",\n",
    "      target=\"GPP_NT_VUT_REF\",\n",
    "      group_ids=[\"site_id\"],\n",
    "      allow_missing_timesteps=False, # <---- turned on bc some rows are removed.\n",
    "      min_encoder_length=min_encoder_len,\n",
    "      max_encoder_length=min_encoder_len,\n",
    "      min_prediction_length=1,\n",
    "      max_prediction_length=1,\n",
    "      static_categoricals=[\"koppen_main\"],\n",
    "      static_reals=[],\n",
    "      time_varying_known_categoricals=[\"month\", \"hour\"],\n",
    "      time_varying_known_reals=['TA_ERA', 'SW_IN_ERA', 'LW_IN_ERA', 'VPD_ERA', 'P_ERA', 'PA_ERA',\n",
    "                                'EVI', 'NDVI', 'NIRv', 'b1', 'b2', 'b3', 'b4', 'b5', 'b6', 'b7'],\n",
    "      time_varying_unknown_categoricals=[], \n",
    "      time_varying_unknown_reals=[],\n",
    "      target_normalizer=None,\n",
    "      categorical_encoders={'koppen_main': NaNLabelEncoder(add_nan=True),\n",
    "                            },\n",
    "      add_relative_time_idx=True,\n",
    "      add_target_scales=False, # <------- turned off\n",
    "      add_encoder_length=False, # <------- turned off\n",
    "    )\n",
    "\n",
    "    validation = TimeSeriesDataSet.from_dataset(training, val_df, predict=False, stop_randomization=True)\n",
    "    \n",
    "    if test_df is not None:\n",
    "        testing = TimeSeriesDataSet.from_dataset(training, test_df, predict=False, stop_randomization=True)\n",
    "    else:\n",
    "        testing = None\n",
    "\n",
    "    return (training, validation, testing)\n",
    "\n",
    "\n",
    "# setup datasets data\n",
    "train_df, val_df, _ = get_splited_datasets(data_df, VAL_INDEX, TEST_INDEX)\n",
    "train_df, val_df, _ = subset_data(train_df, val_df, None, SUBSET_LEN)\n",
    "training, validation, _ = setup_tsdataset_nogpp(train_df, val_df, None, ENCODER_LEN)"
   ]
  },
  {
   "cell_type": "code",
   "execution_count": 8,
   "id": "b2db6f37-e928-4dd2-8f78-883032ded6ce",
   "metadata": {
    "tags": []
   },
   "outputs": [],
   "source": [
    "# create dataloaders for model\n",
    "# ref: https://pytorch-lightning.readthedocs.io/en/stable/guides/speed.html#dataloaders\n",
    "batch_size = 256  # set this between 32 to 128\n",
    "cpu_count = os.cpu_count()\n",
    "train_dataloader = training.to_dataloader(train=True, batch_size=batch_size, num_workers=cpu_count, pin_memory=True)\n",
    "val_dataloader = validation.to_dataloader(train=False, batch_size=batch_size, num_workers=cpu_count, pin_memory=False)"
   ]
  },
  {
   "cell_type": "code",
   "execution_count": 9,
   "id": "fcf95f3e-c383-4ba1-bcd9-ff916cb19895",
   "metadata": {
    "tags": []
   },
   "outputs": [
    {
     "name": "stdout",
     "output_type": "stream",
     "text": [
      "Number of parameters in network: 226.2k\n"
     ]
    }
   ],
   "source": [
    "# Create TFT model from dataset\n",
    "tft = TemporalFusionTransformer.from_dataset(\n",
    "    training,\n",
    "    learning_rate=0.001,\n",
    "    hidden_size=32,  # most important hyperparameter apart from learning rate\n",
    "    attention_head_size=2, # Set to up to 4 for large datasets\n",
    "    dropout=0.3, # Between 0.1 and 0.3 are good values\n",
    "    hidden_continuous_size=32,  # set to <= hidden_size\n",
    "    output_size=7,  # 7 quantiles by default\n",
    "    loss=QuantileLoss(),\n",
    "    logging_metrics=nn.ModuleList([MAE(), RMSE()]),\n",
    "    reduce_on_plateau_patience=3, # reduce learning rate if no improvement in validation loss after x epochs\n",
    "    optimizer=\"adam\"\n",
    ")\n",
    "print(f\"Number of parameters in network: {tft.size()/1e3:.1f}k\")"
   ]
  },
  {
   "cell_type": "code",
   "execution_count": 10,
   "id": "318c9e29-ad77-43a3-a3e3-2d86173bd4de",
   "metadata": {
    "tags": []
   },
   "outputs": [
    {
     "name": "stderr",
     "output_type": "stream",
     "text": [
      "GPU available: True (cuda), used: True\n",
      "TPU available: False, using: 0 TPU cores\n",
      "IPU available: False, using: 0 IPUs\n",
      "HPU available: False, using: 0 HPUs\n",
      "LOCAL_RANK: 0 - CUDA_VISIBLE_DEVICES: [0,1,2,3]\n",
      "Finding best initial lr: 100%|██████████| 100/100 [00:21<00:00,  4.75it/s]`Trainer.fit` stopped: `max_steps=100` reached.\n",
      "Finding best initial lr: 100%|██████████| 100/100 [00:21<00:00,  4.64it/s]\n",
      "Restoring states from the checkpoint path at /root/co2-flux-hourly-gpp-modeling/.lr_find_d2e1479c-2be7-473d-a78a-22a81d03442e.ckpt\n",
      "Restored all states from the checkpoint file at /root/co2-flux-hourly-gpp-modeling/.lr_find_d2e1479c-2be7-473d-a78a-22a81d03442e.ckpt\n"
     ]
    },
    {
     "name": "stdout",
     "output_type": "stream",
     "text": [
      "suggested learning rate: 0.018803015465431967\n"
     ]
    },
    {
     "data": {
      "image/png": "[encoded data removed]",
      "text/plain": [
       "<Figure size 640x480 with 1 Axes>"
      ]
     },
     "metadata": {},
     "output_type": "display_data"
    }
   ],
   "source": [
    "# find optimal learning rate\n",
    "trainer = pl.Trainer(\n",
    "    gpus=1,\n",
    "    # clipping gradients is a hyperparameter and important to prevent divergance\n",
    "    # of the gradient for recurrent neural networks\n",
    "    #gradient_clip_val=0.1,\n",
    ")\n",
    "\n",
    "\n",
    "res = trainer.tuner.lr_find(\n",
    "    tft,\n",
    "    train_dataloaders=train_dataloader,\n",
    "    val_dataloaders=val_dataloader,\n",
    "    max_lr=0.5,\n",
    "    min_lr=1e-6,\n",
    ")\n",
    "\n",
    "print(f\"suggested learning rate: {res.suggestion()}\")\n",
    "fig = res.plot(show=True, suggest=True)\n",
    "fig.show()"
   ]
  },
  {
   "cell_type": "code",
   "execution_count": null,
   "id": "9ec7a40b-d24c-440a-ad4c-f325af14c2d3",
   "metadata": {},
   "outputs": [],
   "source": []
  },
  {
   "cell_type": "code",
   "execution_count": null,
   "id": "6c3ecb43-49b7-431c-a971-47a8d95e670b",
   "metadata": {},
   "outputs": [],
   "source": [
    "# # configure network and trainer\n",
    "# early_stop_callback = EarlyStopping(monitor=\"val_loss\", min_delta=1e-4, patience=7, mode=\"min\",\n",
    "#                                     check_finite=True, verbose=False,)\n",
    "# lr_logger = LearningRateMonitor()  # log the learning rate\n",
    "# logger = TensorBoardLogger(exp_model_dir)  # logging results to a tensorboard\n",
    "\n",
    "# trainer = pl.Trainer(\n",
    "#     max_epochs=25,\n",
    "#     enable_model_summary=True,\n",
    "#     #gradient_clip_val=2,\n",
    "#     fast_dev_run=False,  # comment in to check that network or dataset has no serious bugs\n",
    "#     accelerator='gpu',\n",
    "#     devices=\"auto\", \n",
    "#     callbacks=[lr_logger, early_stop_callback],\n",
    "#     logger=logger,\n",
    "#     strategy=\"ddp\",\n",
    "# )\n",
    "\n",
    "\n",
    "# start = default_timer()\n",
    "# trainer.fit(\n",
    "#     tft,\n",
    "#     train_dataloaders=train_dataloader,\n",
    "#     val_dataloaders=val_dataloader,\n",
    "# )\n",
    "# train_time = default_timer() - start\n",
    "# print(f\"Training time: {train_time}\")\n",
    "\n",
    "# # load the best model according to the validation loss\n",
    "# best_model_path = trainer.checkpoint_callback.best_model_path\n",
    "# print(\" Best model path: \" + best_model_path)\n",
    "# best_tft = TemporalFusionTransformer.load_from_checkpoint(best_model_path)\n",
    "\n",
    "# local_model_path = exp_model_dir + os.sep + f\"model.pth\"\n",
    "# torch.save(best_tft.state_dict(), local_model_path)\n",
    "# print(f\"Saved model to {local_model_path}\")\n",
    "\n"
   ]
  }
 ],
 "metadata": {
  "availableInstances": [
   {
    "_defaultOrder": 0,
    "_isFastLaunch": true,
    "category": "General purpose",
    "gpuNum": 0,
    "memoryGiB": 4,
    "name": "ml.t3.medium",
    "vcpuNum": 2
   },
   {
    "_defaultOrder": 1,
    "_isFastLaunch": false,
    "category": "General purpose",
    "gpuNum": 0,
    "memoryGiB": 8,
    "name": "ml.t3.large",
    "vcpuNum": 2
   },
   {
    "_defaultOrder": 2,
    "_isFastLaunch": false,
    "category": "General purpose",
    "gpuNum": 0,
    "memoryGiB": 16,
    "name": "ml.t3.xlarge",
    "vcpuNum": 4
   },
   {
    "_defaultOrder": 3,
    "_isFastLaunch": false,
    "category": "General purpose",
    "gpuNum": 0,
    "memoryGiB": 32,
    "name": "ml.t3.2xlarge",
    "vcpuNum": 8
   },
   {
    "_defaultOrder": 4,
    "_isFastLaunch": true,
    "category": "General purpose",
    "gpuNum": 0,
    "memoryGiB": 8,
    "name": "ml.m5.large",
    "vcpuNum": 2
   },
   {
    "_defaultOrder": 5,
    "_isFastLaunch": false,
    "category": "General purpose",
    "gpuNum": 0,
    "memoryGiB": 16,
    "name": "ml.m5.xlarge",
    "vcpuNum": 4
   },
   {
    "_defaultOrder": 6,
    "_isFastLaunch": false,
    "category": "General purpose",
    "gpuNum": 0,
    "memoryGiB": 32,
    "name": "ml.m5.2xlarge",
    "vcpuNum": 8
   },
   {
    "_defaultOrder": 7,
    "_isFastLaunch": false,
    "category": "General purpose",
    "gpuNum": 0,
    "memoryGiB": 64,
    "name": "ml.m5.4xlarge",
    "vcpuNum": 16
   },
   {
    "_defaultOrder": 8,
    "_isFastLaunch": false,
    "category": "General purpose",
    "gpuNum": 0,
    "memoryGiB": 128,
    "name": "ml.m5.8xlarge",
    "vcpuNum": 32
   },
   {
    "_defaultOrder": 9,
    "_isFastLaunch": false,
    "category": "General purpose",
    "gpuNum": 0,
    "memoryGiB": 192,
    "name": "ml.m5.12xlarge",
    "vcpuNum": 48
   },
   {
    "_defaultOrder": 10,
    "_isFastLaunch": false,
    "category": "General purpose",
    "gpuNum": 0,
    "memoryGiB": 256,
    "name": "ml.m5.16xlarge",
    "vcpuNum": 64
   },
   {
    "_defaultOrder": 11,
    "_isFastLaunch": false,
    "category": "General purpose",
    "gpuNum": 0,
    "memoryGiB": 384,
    "name": "ml.m5.24xlarge",
    "vcpuNum": 96
   },
   {
    "_defaultOrder": 12,
    "_isFastLaunch": false,
    "category": "General purpose",
    "gpuNum": 0,
    "memoryGiB": 8,
    "name": "ml.m5d.large",
    "vcpuNum": 2
   },
   {
    "_defaultOrder": 13,
    "_isFastLaunch": false,
    "category": "General purpose",
    "gpuNum": 0,
    "memoryGiB": 16,
    "name": "ml.m5d.xlarge",
    "vcpuNum": 4
   },
   {
    "_defaultOrder": 14,
    "_isFastLaunch": false,
    "category": "General purpose",
    "gpuNum": 0,
    "memoryGiB": 32,
    "name": "ml.m5d.2xlarge",
    "vcpuNum": 8
   },
   {
    "_defaultOrder": 15,
    "_isFastLaunch": false,
    "category": "General purpose",
    "gpuNum": 0,
    "memoryGiB": 64,
    "name": "ml.m5d.4xlarge",
    "vcpuNum": 16
   },
   {
    "_defaultOrder": 16,
    "_isFastLaunch": false,
    "category": "General purpose",
    "gpuNum": 0,
    "memoryGiB": 128,
    "name": "ml.m5d.8xlarge",
    "vcpuNum": 32
   },
   {
    "_defaultOrder": 17,
    "_isFastLaunch": false,
    "category": "General purpose",
    "gpuNum": 0,
    "memoryGiB": 192,
    "name": "ml.m5d.12xlarge",
    "vcpuNum": 48
   },
   {
    "_defaultOrder": 18,
    "_isFastLaunch": false,
    "category": "General purpose",
    "gpuNum": 0,
    "memoryGiB": 256,
    "name": "ml.m5d.16xlarge",
    "vcpuNum": 64
   },
   {
    "_defaultOrder": 19,
    "_isFastLaunch": false,
    "category": "General purpose",
    "gpuNum": 0,
    "memoryGiB": 384,
    "name": "ml.m5d.24xlarge",
    "vcpuNum": 96
   },
   {
    "_defaultOrder": 20,
    "_isFastLaunch": true,
    "category": "Compute optimized",
    "gpuNum": 0,
    "memoryGiB": 4,
    "name": "ml.c5.large",
    "vcpuNum": 2
   },
   {
    "_defaultOrder": 21,
    "_isFastLaunch": false,
    "category": "Compute optimized",
    "gpuNum": 0,
    "memoryGiB": 8,
    "name": "ml.c5.xlarge",
    "vcpuNum": 4
   },
   {
    "_defaultOrder": 22,
    "_isFastLaunch": false,
    "category": "Compute optimized",
    "gpuNum": 0,
    "memoryGiB": 16,
    "name": "ml.c5.2xlarge",
    "vcpuNum": 8
   },
   {
    "_defaultOrder": 23,
    "_isFastLaunch": false,
    "category": "Compute optimized",
    "gpuNum": 0,
    "memoryGiB": 32,
    "name": "ml.c5.4xlarge",
    "vcpuNum": 16
   },
   {
    "_defaultOrder": 24,
    "_isFastLaunch": false,
    "category": "Compute optimized",
    "gpuNum": 0,
    "memoryGiB": 72,
    "name": "ml.c5.9xlarge",
    "vcpuNum": 36
   },
   {
    "_defaultOrder": 25,
    "_isFastLaunch": false,
    "category": "Compute optimized",
    "gpuNum": 0,
    "memoryGiB": 96,
    "name": "ml.c5.12xlarge",
    "vcpuNum": 48
   },
   {
    "_defaultOrder": 26,
    "_isFastLaunch": false,
    "category": "Compute optimized",
    "gpuNum": 0,
    "memoryGiB": 144,
    "name": "ml.c5.18xlarge",
    "vcpuNum": 72
   },
   {
    "_defaultOrder": 27,
    "_isFastLaunch": false,
    "category": "Compute optimized",
    "gpuNum": 0,
    "memoryGiB": 192,
    "name": "ml.c5.24xlarge",
    "vcpuNum": 96
   },
   {
    "_defaultOrder": 28,
    "_isFastLaunch": true,
    "category": "Accelerated computing",
    "gpuNum": 1,
    "memoryGiB": 16,
    "name": "ml.g4dn.xlarge",
    "vcpuNum": 4
   },
   {
    "_defaultOrder": 29,
    "_isFastLaunch": false,
    "category": "Accelerated computing",
    "gpuNum": 1,
    "memoryGiB": 32,
    "name": "ml.g4dn.2xlarge",
    "vcpuNum": 8
   },
   {
    "_defaultOrder": 30,
    "_isFastLaunch": false,
    "category": "Accelerated computing",
    "gpuNum": 1,
    "memoryGiB": 64,
    "name": "ml.g4dn.4xlarge",
    "vcpuNum": 16
   },
   {
    "_defaultOrder": 31,
    "_isFastLaunch": false,
    "category": "Accelerated computing",
    "gpuNum": 1,
    "memoryGiB": 128,
    "name": "ml.g4dn.8xlarge",
    "vcpuNum": 32
   },
   {
    "_defaultOrder": 32,
    "_isFastLaunch": false,
    "category": "Accelerated computing",
    "gpuNum": 4,
    "memoryGiB": 192,
    "name": "ml.g4dn.12xlarge",
    "vcpuNum": 48
   },
   {
    "_defaultOrder": 33,
    "_isFastLaunch": false,
    "category": "Accelerated computing",
    "gpuNum": 1,
    "memoryGiB": 256,
    "name": "ml.g4dn.16xlarge",
    "vcpuNum": 64
   },
   {
    "_defaultOrder": 34,
    "_isFastLaunch": false,
    "category": "Accelerated computing",
    "gpuNum": 1,
    "memoryGiB": 61,
    "name": "ml.p3.2xlarge",
    "vcpuNum": 8
   },
   {
    "_defaultOrder": 35,
    "_isFastLaunch": false,
    "category": "Accelerated computing",
    "gpuNum": 4,
    "memoryGiB": 244,
    "name": "ml.p3.8xlarge",
    "vcpuNum": 32
   },
   {
    "_defaultOrder": 36,
    "_isFastLaunch": false,
    "category": "Accelerated computing",
    "gpuNum": 8,
    "memoryGiB": 488,
    "name": "ml.p3.16xlarge",
    "vcpuNum": 64
   },
   {
    "_defaultOrder": 37,
    "_isFastLaunch": false,
    "category": "Accelerated computing",
    "gpuNum": 8,
    "memoryGiB": 768,
    "name": "ml.p3dn.24xlarge",
    "vcpuNum": 96
   },
   {
    "_defaultOrder": 38,
    "_isFastLaunch": false,
    "category": "Memory Optimized",
    "gpuNum": 0,
    "memoryGiB": 16,
    "name": "ml.r5.large",
    "vcpuNum": 2
   },
   {
    "_defaultOrder": 39,
    "_isFastLaunch": false,
    "category": "Memory Optimized",
    "gpuNum": 0,
    "memoryGiB": 32,
    "name": "ml.r5.xlarge",
    "vcpuNum": 4
   },
   {
    "_defaultOrder": 40,
    "_isFastLaunch": false,
    "category": "Memory Optimized",
    "gpuNum": 0,
    "memoryGiB": 64,
    "name": "ml.r5.2xlarge",
    "vcpuNum": 8
   },
   {
    "_defaultOrder": 41,
    "_isFastLaunch": false,
    "category": "Memory Optimized",
    "gpuNum": 0,
    "memoryGiB": 128,
    "name": "ml.r5.4xlarge",
    "vcpuNum": 16
   },
   {
    "_defaultOrder": 42,
    "_isFastLaunch": false,
    "category": "Memory Optimized",
    "gpuNum": 0,
    "memoryGiB": 256,
    "name": "ml.r5.8xlarge",
    "vcpuNum": 32
   },
   {
    "_defaultOrder": 43,
    "_isFastLaunch": false,
    "category": "Memory Optimized",
    "gpuNum": 0,
    "memoryGiB": 384,
    "name": "ml.r5.12xlarge",
    "vcpuNum": 48
   },
   {
    "_defaultOrder": 44,
    "_isFastLaunch": false,
    "category": "Memory Optimized",
    "gpuNum": 0,
    "memoryGiB": 512,
    "name": "ml.r5.16xlarge",
    "vcpuNum": 64
   },
   {
    "_defaultOrder": 45,
    "_isFastLaunch": false,
    "category": "Memory Optimized",
    "gpuNum": 0,
    "memoryGiB": 768,
    "name": "ml.r5.24xlarge",
    "vcpuNum": 96
   },
   {
    "_defaultOrder": 46,
    "_isFastLaunch": false,
    "category": "Accelerated computing",
    "gpuNum": 1,
    "memoryGiB": 16,
    "name": "ml.g5.xlarge",
    "vcpuNum": 4
   },
   {
    "_defaultOrder": 47,
    "_isFastLaunch": false,
    "category": "Accelerated computing",
    "gpuNum": 1,
    "memoryGiB": 32,
    "name": "ml.g5.2xlarge",
    "vcpuNum": 8
   },
   {
    "_defaultOrder": 48,
    "_isFastLaunch": false,
    "category": "Accelerated computing",
    "gpuNum": 1,
    "memoryGiB": 64,
    "name": "ml.g5.4xlarge",
    "vcpuNum": 16
   },
   {
    "_defaultOrder": 49,
    "_isFastLaunch": false,
    "category": "Accelerated computing",
    "gpuNum": 1,
    "memoryGiB": 128,
    "name": "ml.g5.8xlarge",
    "vcpuNum": 32
   },
   {
    "_defaultOrder": 50,
    "_isFastLaunch": false,
    "category": "Accelerated computing",
    "gpuNum": 1,
    "memoryGiB": 256,
    "name": "ml.g5.16xlarge",
    "vcpuNum": 64
   },
   {
    "_defaultOrder": 51,
    "_isFastLaunch": false,
    "category": "Accelerated computing",
    "gpuNum": 4,
    "memoryGiB": 192,
    "name": "ml.g5.12xlarge",
    "vcpuNum": 48
   },
   {
    "_defaultOrder": 52,
    "_isFastLaunch": false,
    "category": "Accelerated computing",
    "gpuNum": 4,
    "memoryGiB": 384,
    "name": "ml.g5.24xlarge",
    "vcpuNum": 96
   },
   {
    "_defaultOrder": 53,
    "_isFastLaunch": false,
    "category": "Accelerated computing",
    "gpuNum": 8,
    "memoryGiB": 768,
    "name": "ml.g5.48xlarge",
    "vcpuNum": 192
   }
  ],
  "instance_type": "ml.g4dn.12xlarge",
  "kernelspec": {
   "display_name": "Python [conda env:py310] (arn:aws:sagemaker:us-east-1:081325390199:image/datascience-1.0)",
   "language": "python",
   "name": "conda-env-py310-py__SAGEMAKER_INTERNAL__arn:aws:sagemaker:us-east-1:081325390199:image/datascience-1.0"
  },
  "language_info": {
   "codemirror_mode": {
    "name": "ipython",
    "version": 3
   },
   "file_extension": ".py",
   "mimetype": "text/x-python",
   "name": "python",
   "nbconvert_exporter": "python",
   "pygments_lexer": "ipython3",
   "version": "3.10.9"
  }
 },
 "nbformat": 4,
 "nbformat_minor": 5
}
