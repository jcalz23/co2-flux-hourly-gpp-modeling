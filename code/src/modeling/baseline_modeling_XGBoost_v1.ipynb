{
  "cells": [
    {
      "cell_type": "markdown",
      "metadata": {
        "id": "CU5xMX4lMdOX"
      },
      "source": [
        "# 0. Preparation"
      ]
    },
    {
      "cell_type": "markdown",
      "metadata": {
        "id": "tqqvjx_EMfQR"
      },
      "source": [
        "## Mount google drive\n",
        "- Make sure that available access is the user's own drive(no access across files in shared folder)"
      ]
    },
    {
      "cell_type": "code",
      "execution_count": 2,
      "metadata": {
        "id": "2VY5heBv1X2o",
        "colab": {
          "base_uri": "https://localhost:8080/"
        },
        "outputId": "a8c260ff-d075-4dfb-b47a-35654279c389"
      },
      "outputs": [
        {
          "output_type": "stream",
          "name": "stdout",
          "text": [
            "Drive already mounted at /content/drive; to attempt to forcibly remount, call drive.mount(\"/content/drive\", force_remount=True).\n"
          ]
        }
      ],
      "source": [
        "from google.colab import drive\n",
        "drive.mount('/content/drive')"
      ]
    },
    {
      "cell_type": "code",
      "execution_count": 3,
      "metadata": {
        "id": "DSVkZD9yGdyo"
      },
      "outputs": [],
      "source": [
        "if 'google.colab' in str(get_ipython()):\n",
        "  IN_COLLAB = True\n",
        "else:\n",
        "  IN_COLLAB = False\n",
        "\n",
        "#TODO: CHANGE THIS BASED ON YOUR OWN LOCAL SETTINGS\n",
        "MY_HOME_ABS_PATH =  \"/content/drive/MyDrive/TFT_baseline\""
      ]
    },
    {
      "cell_type": "code",
      "source": [
        "# # Clone Git to GDrive\n",
        "# os.chdir('/content/drive/MyDrive/W210/')\n",
        "# !git config --global user.name ruminakagawa\n",
        "# !git config --global user.email \"ruminakagawa@berkeley.edu\"\n",
        "# !git clone https://github.com/jcalz23/co2-flux-hourly-gpp-modeling.git"
      ],
      "metadata": {
        "id": "weNKr3Rxe4Kj"
      },
      "execution_count": 4,
      "outputs": []
    },
    {
      "cell_type": "markdown",
      "metadata": {
        "id": "bOpEMAgCzHNc"
      },
      "source": [
        "#### (pip install)"
      ]
    },
    {
      "cell_type": "code",
      "execution_count": 5,
      "metadata": {
        "id": "E25Nsd7lD2FA",
        "colab": {
          "base_uri": "https://localhost:8080/"
        },
        "outputId": "080d1e4b-e890-4c4a-a7b3-73690a8c28f5"
      },
      "outputs": [
        {
          "output_type": "stream",
          "name": "stdout",
          "text": [
            "Looking in indexes: https://pypi.org/simple, https://us-python.pkg.dev/colab-wheels/public/simple/\n",
            "Requirement already satisfied: statsmodels in /usr/local/lib/python3.9/dist-packages (0.13.5)\n",
            "Requirement already satisfied: scipy>=1.3 in /usr/local/lib/python3.9/dist-packages (from statsmodels) (1.10.1)\n",
            "Requirement already satisfied: pandas>=0.25 in /usr/local/lib/python3.9/dist-packages (from statsmodels) (1.4.4)\n",
            "Requirement already satisfied: patsy>=0.5.2 in /usr/local/lib/python3.9/dist-packages (from statsmodels) (0.5.3)\n",
            "Requirement already satisfied: packaging>=21.3 in /usr/local/lib/python3.9/dist-packages (from statsmodels) (23.0)\n",
            "Requirement already satisfied: numpy>=1.17 in /usr/local/lib/python3.9/dist-packages (from statsmodels) (1.22.4)\n",
            "Requirement already satisfied: python-dateutil>=2.8.1 in /usr/local/lib/python3.9/dist-packages (from pandas>=0.25->statsmodels) (2.8.2)\n",
            "Requirement already satisfied: pytz>=2020.1 in /usr/local/lib/python3.9/dist-packages (from pandas>=0.25->statsmodels) (2022.7.1)\n",
            "Requirement already satisfied: six in /usr/local/lib/python3.9/dist-packages (from patsy>=0.5.2->statsmodels) (1.15.0)\n"
          ]
        }
      ],
      "source": [
        "! pip install statsmodels --upgrade"
      ]
    },
    {
      "cell_type": "markdown",
      "metadata": {
        "id": "pDsVn3f66uLe"
      },
      "source": [
        "numba may potentially needed later"
      ]
    },
    {
      "cell_type": "code",
      "execution_count": 6,
      "metadata": {
        "id": "EXFyGSIf6sca",
        "colab": {
          "base_uri": "https://localhost:8080/"
        },
        "outputId": "dc63da68-aa94-4bac-f9e2-d86d14e1e994"
      },
      "outputs": [
        {
          "output_type": "stream",
          "name": "stdout",
          "text": [
            "Looking in indexes: https://pypi.org/simple, https://us-python.pkg.dev/colab-wheels/public/simple/\n",
            "Requirement already satisfied: numba in /usr/local/lib/python3.9/dist-packages (0.56.4)\n",
            "Requirement already satisfied: llvmlite<0.40,>=0.39.0dev0 in /usr/local/lib/python3.9/dist-packages (from numba) (0.39.1)\n",
            "Requirement already satisfied: numpy<1.24,>=1.18 in /usr/local/lib/python3.9/dist-packages (from numba) (1.22.4)\n",
            "Requirement already satisfied: setuptools in /usr/local/lib/python3.9/dist-packages (from numba) (63.4.3)\n"
          ]
        }
      ],
      "source": [
        "!pip install numba"
      ]
    },
    {
      "cell_type": "code",
      "execution_count": 7,
      "metadata": {
        "id": "0PaMzYesGXw8",
        "colab": {
          "base_uri": "https://localhost:8080/"
        },
        "outputId": "7070e467-d6bc-496f-9a9d-1a97f8c21db9"
      },
      "outputs": [
        {
          "output_type": "stream",
          "name": "stdout",
          "text": [
            "Looking in indexes: https://pypi.org/simple, https://us-python.pkg.dev/colab-wheels/public/simple/\n",
            "Requirement already satisfied: azure-storage-blob==12.14.1 in /usr/local/lib/python3.9/dist-packages (12.14.1)\n",
            "Requirement already satisfied: cryptography>=2.1.4 in /usr/local/lib/python3.9/dist-packages (from azure-storage-blob==12.14.1) (39.0.2)\n",
            "Requirement already satisfied: msrest>=0.7.1 in /usr/local/lib/python3.9/dist-packages (from azure-storage-blob==12.14.1) (0.7.1)\n",
            "Requirement already satisfied: azure-core<2.0.0,>=1.24.2 in /usr/local/lib/python3.9/dist-packages (from azure-storage-blob==12.14.1) (1.26.3)\n",
            "Requirement already satisfied: requests>=2.18.4 in /usr/local/lib/python3.9/dist-packages (from azure-core<2.0.0,>=1.24.2->azure-storage-blob==12.14.1) (2.27.1)\n",
            "Requirement already satisfied: six>=1.11.0 in /usr/local/lib/python3.9/dist-packages (from azure-core<2.0.0,>=1.24.2->azure-storage-blob==12.14.1) (1.15.0)\n",
            "Requirement already satisfied: typing-extensions>=4.0.1 in /usr/local/lib/python3.9/dist-packages (from azure-core<2.0.0,>=1.24.2->azure-storage-blob==12.14.1) (4.5.0)\n",
            "Requirement already satisfied: cffi>=1.12 in /usr/local/lib/python3.9/dist-packages (from cryptography>=2.1.4->azure-storage-blob==12.14.1) (1.15.1)\n",
            "Requirement already satisfied: certifi>=2017.4.17 in /usr/local/lib/python3.9/dist-packages (from msrest>=0.7.1->azure-storage-blob==12.14.1) (2022.12.7)\n",
            "Requirement already satisfied: requests-oauthlib>=0.5.0 in /usr/local/lib/python3.9/dist-packages (from msrest>=0.7.1->azure-storage-blob==12.14.1) (1.3.1)\n",
            "Requirement already satisfied: isodate>=0.6.0 in /usr/local/lib/python3.9/dist-packages (from msrest>=0.7.1->azure-storage-blob==12.14.1) (0.6.1)\n",
            "Requirement already satisfied: pycparser in /usr/local/lib/python3.9/dist-packages (from cffi>=1.12->cryptography>=2.1.4->azure-storage-blob==12.14.1) (2.21)\n",
            "Requirement already satisfied: urllib3<1.27,>=1.21.1 in /usr/local/lib/python3.9/dist-packages (from requests>=2.18.4->azure-core<2.0.0,>=1.24.2->azure-storage-blob==12.14.1) (1.26.15)\n",
            "Requirement already satisfied: idna<4,>=2.5 in /usr/local/lib/python3.9/dist-packages (from requests>=2.18.4->azure-core<2.0.0,>=1.24.2->azure-storage-blob==12.14.1) (3.4)\n",
            "Requirement already satisfied: charset-normalizer~=2.0.0 in /usr/local/lib/python3.9/dist-packages (from requests>=2.18.4->azure-core<2.0.0,>=1.24.2->azure-storage-blob==12.14.1) (2.0.12)\n",
            "Requirement already satisfied: oauthlib>=3.0.0 in /usr/local/lib/python3.9/dist-packages (from requests-oauthlib>=0.5.0->msrest>=0.7.1->azure-storage-blob==12.14.1) (3.2.2)\n"
          ]
        }
      ],
      "source": [
        "!pip install azure-storage-blob==12.14.1"
      ]
    },
    {
      "cell_type": "code",
      "source": [
        "!pip install xgboost\n",
        "# !conda install -c conda-forge xgboost\n",
        "# !conda install -c anaconda py-xgboost"
      ],
      "metadata": {
        "colab": {
          "base_uri": "https://localhost:8080/"
        },
        "id": "n7BJfEnpCsVp",
        "outputId": "bc345649-d66c-4523-90c4-df8b609f15a2"
      },
      "execution_count": 8,
      "outputs": [
        {
          "output_type": "stream",
          "name": "stdout",
          "text": [
            "Looking in indexes: https://pypi.org/simple, https://us-python.pkg.dev/colab-wheels/public/simple/\n",
            "Requirement already satisfied: xgboost in /usr/local/lib/python3.9/dist-packages (1.7.4)\n",
            "Requirement already satisfied: numpy in /usr/local/lib/python3.9/dist-packages (from xgboost) (1.22.4)\n",
            "Requirement already satisfied: scipy in /usr/local/lib/python3.9/dist-packages (from xgboost) (1.10.1)\n"
          ]
        }
      ]
    },
    {
      "cell_type": "code",
      "source": [],
      "metadata": {
        "id": "iRPd63pwCsTF"
      },
      "execution_count": 8,
      "outputs": []
    },
    {
      "cell_type": "markdown",
      "metadata": {
        "id": "y2bHb6TEy3_D"
      },
      "source": [
        "## Import Modules"
      ]
    },
    {
      "cell_type": "code",
      "execution_count": 9,
      "metadata": {
        "id": "cwL0vFi5qtvh",
        "tags": []
      },
      "outputs": [],
      "source": [
        "# MY_HOME_ABS_PATH = \"/root/co2-flux-hourly-gpp-modeling\"\n",
        "MY_HOME_ABS_PATH =  \"/content/drive/MyDrive/TFT_baseline\""
      ]
    },
    {
      "cell_type": "code",
      "execution_count": 10,
      "metadata": {
        "id": "1iRimJGJsAh7",
        "tags": []
      },
      "outputs": [],
      "source": [
        "import os\n",
        "import sys\n",
        "import json\n",
        "import time\n",
        "import numpy as np\n",
        "import pandas as pd\n",
        "import matplotlib.pyplot as plt\n",
        "import copy\n",
        "import seaborn as sns \n",
        "\n",
        "import xgboost as xgb\n",
        "from sklearn.metrics import mean_squared_error, mean_absolute_error, r2_score\n",
        "\n",
        "# Load locale custome modules\n",
        "os.chdir(MY_HOME_ABS_PATH)\n",
        "sys.path.append('./.cred')\n",
        "sys.path.append('./code/src/tools')\n",
        "sys.path.append('./code/src/tools/CloudIO')\n",
        "\n",
        "from azure.storage.blob import BlobServiceClient\n",
        "# from CloudIO.AzStorageClient import AzStorageClient\n",
        "import AzStorageClient\n",
        "from azure.storage.blob import BlobServiceClient\n",
        "from data_pipeline_lib import *\n",
        "\n",
        "\n",
        "pd.set_option('display.max_columns', None)\n",
        "pd.set_option('display.float_format', lambda x: '%.5f' % x)\n",
        "# pl.seed_everything(42)"
      ]
    },
    {
      "cell_type": "markdown",
      "metadata": {
        "id": "5LRk1xhgDrvZ"
      },
      "source": [
        "# Load data from Azure blob"
      ]
    },
    {
      "cell_type": "code",
      "execution_count": 11,
      "metadata": {
        "id": "Ndvl36VUIDjf"
      },
      "outputs": [],
      "source": [
        "root_dir =  MY_HOME_ABS_PATH\n",
        "tmp_dir =  root_dir + os.sep + 'tmp'\n",
        "raw_data_dir = tmp_dir\n",
        "data_dir = root_dir + os.sep + 'data'\n",
        "cred_dir = root_dir + os.sep + 'cred'\n",
        "az_cred_file = cred_dir + os.sep + 'azblobcred.json'"
      ]
    },
    {
      "cell_type": "code",
      "execution_count": 12,
      "metadata": {
        "id": "vtvbiGCOVf7z"
      },
      "outputs": [],
      "source": [
        "# AzStorageClient.listBlobs(container)\n",
        "container = \"baseline-data\"\n",
        "cred_file = az_cred_file\n",
        "ext = \"parquet\"\n",
        "\n",
        "# Container and file name\n",
        "blob_name_train = \"baseline-train-v-1-i-knn.parquet\"\n",
        "blob_name_val = \"baseline-test-v-1-i-knn.parquet\""
      ]
    },
    {
      "cell_type": "code",
      "execution_count": 13,
      "metadata": {
        "id": "BkPeQaLXWayq"
      },
      "outputs": [],
      "source": [
        "if os.path.exists(cred_file):\n",
        "  connect_str = \"\"\n",
        "  with open(cred_file, \"rb\") as f:\n",
        "      data = json.load(f)\n",
        "      connect_str = data['connectionstr']\n",
        "      blob_svc_client = BlobServiceClient.from_connection_string(connect_str)\n",
        "      tokens = connect_str.split(';')\n",
        "      for t in tokens:\n",
        "        if \"AccountName=\" in t:\n",
        "          AccountName = t[len(\"AccountName=\"):]\n",
        "        elif \"AccountKey=\" in t:\n",
        "          AccountKey = t[len(\"AccountKey=\"):]"
      ]
    },
    {
      "cell_type": "code",
      "execution_count": 14,
      "metadata": {
        "id": "z8T-YT1fEXjR",
        "colab": {
          "base_uri": "https://localhost:8080/"
        },
        "outputId": "33670a74-5757-4b1a-9632-96271ae0d2c0"
      },
      "outputs": [
        {
          "output_type": "stream",
          "name": "stdout",
          "text": [
            "Train size: (631032, 49)\n",
            "Test size: (234888, 49)\n"
          ]
        }
      ],
      "source": [
        "# Download train file\n",
        "train_df = None\n",
        "if not (os.path.exists(tmp_dir+blob_name_train)):\n",
        "    azStorageClient = AzStorageClient(az_cred_file)\n",
        "    file_stream = azStorageClient.downloadBlob2Stream(container, blob_name_train)\n",
        "    train_df = pd.read_parquet(file_stream, engine='pyarrow')\n",
        "    train_df.to_parquet(tmp_dir + blob_name_train)\n",
        "else:\n",
        "    train_df = pd.read_parquet(tmp_dir + blob_name_train)\n",
        "\n",
        "\n",
        "# Load Test Data\n",
        "test_df = None\n",
        "if not (os.path.exists(tmp_dir+blob_name_val)):\n",
        "    azStorageClient = AzStorageClient(az_cred_file)\n",
        "    file_stream = azStorageClient.downloadBlob2Stream(container, blob_name_val)\n",
        "    test_df = pd.read_parquet(file_stream, engine='pyarrow')\n",
        "    test_df.to_parquet(tmp_dir + blob_name_val)\n",
        "else:\n",
        "    test_df = pd.read_parquet(tmp_dir + blob_name_val)\n",
        "\n",
        "print(f\"Train size: {train_df.shape}\")\n",
        "print(f\"Test size: {test_df.shape}\")"
      ]
    },
    {
      "cell_type": "code",
      "execution_count": 15,
      "metadata": {
        "tags": [],
        "colab": {
          "base_uri": "https://localhost:8080/"
        },
        "id": "auxVQNts7q-i",
        "outputId": "32f9eacb-bc2f-4c00-94a4-5626f89fb075"
      },
      "outputs": [
        {
          "output_type": "stream",
          "name": "stdout",
          "text": [
            "Train size: (631032, 44)\n",
            "Test size: (234888, 44)\n"
          ]
        }
      ],
      "source": [
        "## Drop Cols and Prep Train/Test\n",
        "\n",
        "target_variable = 'GPP_NT_VUT_REF'\n",
        "drop_cols = ['gap_flag_hour', 'gap_flag_month', 'datetime', target_variable] + ['site_id'] # <----- site_id is temp drop, need to dummy encode in pipeline\n",
        "\n",
        "# Extract the features and target variable from training data\n",
        "X_train = train_df.drop(columns=drop_cols)\n",
        "y_train = train_df[target_variable]\n",
        "\n",
        "# Extract the features and target variable from test data\n",
        "X_test = test_df.drop(columns=drop_cols)\n",
        "y_test = test_df[target_variable]\n",
        "\n",
        "print(f\"Train size: {X_train.shape}\")\n",
        "print(f\"Test size: {X_test.shape}\")"
      ]
    },
    {
      "cell_type": "markdown",
      "metadata": {
        "id": "j_Ko-f2TsAYb"
      },
      "source": [
        "## Fit Model: XGBoost"
      ]
    },
    {
      "cell_type": "code",
      "execution_count": 16,
      "metadata": {
        "tags": [],
        "colab": {
          "base_uri": "https://localhost:8080/"
        },
        "id": "DaKBRw0U7q-k",
        "outputId": "43a23d22-8a53-435c-f403-41945b7025c8"
      },
      "outputs": [
        {
          "output_type": "stream",
          "name": "stdout",
          "text": [
            "Time taken to fit the model: 127.99 seconds\n"
          ]
        }
      ],
      "source": [
        "# Create an instance of XGBoost regressor\n",
        "\n",
        "xgb_regressor = xgb.XGBRegressor(\n",
        "                          n_estimators=100,\n",
        "                          reg_lambda=1,\n",
        "                          gamma=0,\n",
        "                          max_depth=3\n",
        "                      )\n",
        "\n",
        "# Train the regressor on training data\n",
        "start_time = time.time()\n",
        "xgb_regressor.fit(X_train, y_train)\n",
        "end_time = time.time()\n",
        "fit_time = end_time - start_time\n",
        "print(\"Time taken to fit the model: {:.2f} seconds\".format(fit_time))"
      ]
    },
    {
      "cell_type": "markdown",
      "metadata": {
        "tags": [],
        "id": "gAIiWbwW7q-k"
      },
      "source": [
        "## Evaluate Model"
      ]
    },
    {
      "cell_type": "code",
      "execution_count": 17,
      "metadata": {
        "tags": [],
        "colab": {
          "base_uri": "https://localhost:8080/"
        },
        "id": "3fFODmtB7q-l",
        "outputId": "77cb6bb9-9f62-48e6-9216-df1aab78ba17"
      },
      "outputs": [
        {
          "output_type": "stream",
          "name": "stdout",
          "text": [
            "RMSE: 3.60\n",
            "MAE: 1.80\n",
            "R-squared: 0.63\n"
          ]
        }
      ],
      "source": [
        "# Use the trained regressor to make predictions on test data\n",
        "y_pred = xgb_regressor.predict(X_test)\n",
        "\n",
        "# Calculate and print RMSE, MAE, and R-squared on the test set\n",
        "rmse = np.sqrt(mean_squared_error(y_test, y_pred))\n",
        "mae = mean_absolute_error(y_test, y_pred)\n",
        "r2 = r2_score(y_test, y_pred)\n",
        "\n",
        "print(\"RMSE: {:.2f}\".format(rmse))\n",
        "print(\"MAE: {:.2f}\".format(mae))\n",
        "print(\"R-squared: {:.2f}\".format(r2))\n"
      ]
    },
    {
      "cell_type": "markdown",
      "source": [
        "## Hyperparameter tuning using hyperopt\n",
        "\n",
        "The available hyperopt optimization algorithms are -\n",
        "\n",
        "`hp.choice(label, options)` — Returns one of the options, which should be a list or tuple.\n",
        "\n",
        "`hp.randint(label, upper)` — Returns a random integer between the range [0, upper).\n",
        "\n",
        "`hp.uniform(label, low, high)` — Returns a value uniformly between low and high.\n",
        "\n",
        "`hp.quniform(label, low, high, q)` — Returns a value round(uniform(low, high) / q) * q, i.e it rounds the decimal values and returns an integer.\n",
        "\n",
        "`hp.normal(label, mean, std)` — Returns a real value that’s normally-distributed with mean and standard deviation sigma."
      ],
      "metadata": {
        "id": "fIuu0NalUcht"
      }
    },
    {
      "cell_type": "code",
      "execution_count": 18,
      "metadata": {
        "id": "QqHeoGAl7q-m"
      },
      "outputs": [],
      "source": [
        "from hyperopt import STATUS_OK, Trials, fmin, hp, tpe\n",
        "\n",
        "space={'n_estimators': 180,\n",
        "        'max_depth': hp.quniform(\"max_depth\", 3, 18, 1),\n",
        "        'gamma': hp.uniform ('gamma', 1,9),\n",
        "        'reg_alpha' : hp.quniform('reg_alpha', 40,180,1),\n",
        "        'reg_lambda' : hp.uniform('reg_lambda', 0,1),\n",
        "        'colsample_bytree' : hp.uniform('colsample_bytree', 0.5,1),\n",
        "        'min_child_weight' : hp.quniform('min_child_weight', 0, 10, 1),\n",
        "        'seed': 0\n",
        "    }"
      ]
    },
    {
      "cell_type": "markdown",
      "source": [
        "(Define X_val and y_val)"
      ],
      "metadata": {
        "id": "LqlRIVH6uJzy"
      }
    },
    {
      "cell_type": "code",
      "execution_count": 26,
      "metadata": {
        "id": "22Hi6zrA7q-m"
      },
      "outputs": [],
      "source": [
        "from sklearn.preprocessing import LabelEncoder\n",
        "def objective(space):\n",
        "    global X_train, y_train, X_val, y_val\n",
        "    \n",
        "    clf=xgb.XGBClassifier(\n",
        "                    n_estimators =space['n_estimators'], \n",
        "                    max_depth = int(space['max_depth']), \n",
        "                    gamma = space['gamma'],\n",
        "                    reg_alpha = int(space['reg_alpha']),\n",
        "                    min_child_weight=int(space['min_child_weight']),\n",
        "                    colsample_bytree=int(space['colsample_bytree']))\n",
        "    \n",
        "    \n",
        "    evaluation = [( X_train, y_train), ( X_test, y_test)]\n",
        "    \n",
        "    le = LabelEncoder()\n",
        "    y_train = le.fit_transform(y_train)\n",
        "    \n",
        "    \n",
        "    clf.fit(X_train, y_train,\n",
        "            eval_set=evaluation, eval_metric=\"auc\",\n",
        "            early_stopping_rounds=10,verbose=False)\n",
        "    \n",
        "\n",
        "    pred = clf.predict(X_test)\n",
        "    rsme = mean_squared_error(y_test, y_pred, squared=False) # squared=False returns RMSE\n",
        "\n",
        "    print (\"SCORE(RMSE):\", rmse)\n",
        "    return {'loss': -rmse, 'status': STATUS_OK }"
      ]
    },
    {
      "cell_type": "code",
      "source": [
        "trials = Trials()\n",
        "\n",
        "best_hyperparams = fmin(fn = objective,\n",
        "                        space = space,\n",
        "                        algo = tpe.suggest,\n",
        "                        max_evals = 50,\n",
        "                        trials = trials)"
      ],
      "metadata": {
        "colab": {
          "base_uri": "https://localhost:8080/",
          "height": 247
        },
        "id": "YJ0PBK5uqDUs",
        "outputId": "1f8049db-c22d-422c-881a-04a2f4175260"
      },
      "execution_count": 1,
      "outputs": [
        {
          "output_type": "error",
          "ename": "NameError",
          "evalue": "ignored",
          "traceback": [
            "\u001b[0;31m---------------------------------------------------------------------------\u001b[0m",
            "\u001b[0;31mNameError\u001b[0m                                 Traceback (most recent call last)",
            "\u001b[0;32m<ipython-input-1-e306b0031e87>\u001b[0m in \u001b[0;36m<module>\u001b[0;34m\u001b[0m\n\u001b[0;32m----> 1\u001b[0;31m \u001b[0mtrials\u001b[0m \u001b[0;34m=\u001b[0m \u001b[0mTrials\u001b[0m\u001b[0;34m(\u001b[0m\u001b[0;34m)\u001b[0m\u001b[0;34m\u001b[0m\u001b[0;34m\u001b[0m\u001b[0m\n\u001b[0m\u001b[1;32m      2\u001b[0m \u001b[0;34m\u001b[0m\u001b[0m\n\u001b[1;32m      3\u001b[0m best_hyperparams = fmin(fn = objective,\n\u001b[1;32m      4\u001b[0m                         \u001b[0mspace\u001b[0m \u001b[0;34m=\u001b[0m \u001b[0mspace\u001b[0m\u001b[0;34m,\u001b[0m\u001b[0;34m\u001b[0m\u001b[0;34m\u001b[0m\u001b[0m\n\u001b[1;32m      5\u001b[0m                         \u001b[0malgo\u001b[0m \u001b[0;34m=\u001b[0m \u001b[0mtpe\u001b[0m\u001b[0;34m.\u001b[0m\u001b[0msuggest\u001b[0m\u001b[0;34m,\u001b[0m\u001b[0;34m\u001b[0m\u001b[0;34m\u001b[0m\u001b[0m\n",
            "\u001b[0;31mNameError\u001b[0m: name 'Trials' is not defined"
          ]
        }
      ]
    },
    {
      "cell_type": "code",
      "source": [
        "print(\"The best hyperparameters are : \",\"\\n\")\n",
        "print(best_hyperparams)"
      ],
      "metadata": {
        "id": "y4Ul8OCkqDRf"
      },
      "execution_count": null,
      "outputs": []
    },
    {
      "cell_type": "markdown",
      "source": [
        "### Tune best parameters"
      ],
      "metadata": {
        "id": "QE_Z-lGAuxx8"
      }
    },
    {
      "cell_type": "code",
      "source": [
        "best_xgb_regressor = xgb.XGBRegressor(\n",
        "                          n_estimators=100,\n",
        "                          reg_lambda=best_hyperparams['reg_alpha'],\n",
        "                          gamma=best_hyperparams['gamma'],\n",
        "                          max_depth=best_hyperparams['max_depth'],\n",
        "                          colsample_bytree=best_hyperparams['colsample_bytree'],\n",
        "                          min_child_weight=best_hyperparams['min_child_weight']\n",
        "                      )\n",
        "# Train the regressor on training data\n",
        "start_time = time.time()\n",
        "xgb_regressor.fit(X_train, y_train)\n",
        "end_time = time.time()\n",
        "fit_time = end_time - start_time\n",
        "print(\"Time taken to fit the model: {:.2f} seconds\".format(fit_time))"
      ],
      "metadata": {
        "id": "FnHHAIlLtb3Y"
      },
      "execution_count": null,
      "outputs": []
    },
    {
      "cell_type": "markdown",
      "source": [
        "### Final prediction"
      ],
      "metadata": {
        "id": "ZPMiV7RYu4wa"
      }
    },
    {
      "cell_type": "code",
      "source": [
        "# Use the trained regressor to make predictions on test data\n",
        "y_pred = best_xgb_regressor.predict(X_test)\n",
        "\n",
        "# Calculate and print RMSE, MAE, and R-squared on the test set\n",
        "rmse = np.sqrt(mean_squared_error(y_test, y_pred))\n",
        "mae = mean_absolute_error(y_test, y_pred)\n",
        "r2 = r2_score(y_test, y_pred)\n",
        "\n",
        "print(\"RMSE: {:.2f}\".format(rmse))\n",
        "print(\"MAE: {:.2f}\".format(mae))\n",
        "print(\"R-squared: {:.2f}\".format(r2))\n"
      ],
      "metadata": {
        "id": "j1d7B5ndu4J_"
      },
      "execution_count": null,
      "outputs": []
    },
    {
      "cell_type": "markdown",
      "source": [
        "## Feature importances(original model)"
      ],
      "metadata": {
        "id": "tAMXo9niu_nd"
      }
    },
    {
      "cell_type": "code",
      "source": [
        "xgb_regressor.feature_importances_"
      ],
      "metadata": {
        "colab": {
          "base_uri": "https://localhost:8080/"
        },
        "id": "nb_d_QWktb1g",
        "outputId": "5e737670-a64b-41fe-f187-5a89b01d0379"
      },
      "execution_count": 21,
      "outputs": [
        {
          "output_type": "execute_result",
          "data": {
            "text/plain": [
              "array([0.0022066 , 0.        , 0.        , 0.00151997, 0.00164364,\n",
              "       0.00459623, 0.00473062, 0.08375116, 0.00335762, 0.004031  ,\n",
              "       0.00279181, 0.00277952, 0.00282711, 0.20622395, 0.0391751 ,\n",
              "       0.00221495, 0.00327227, 0.0088791 , 0.00139389, 0.00390894,\n",
              "       0.00575448, 0.00494682, 0.00745207, 0.00682221, 0.01273848,\n",
              "       0.01765087, 0.        , 0.        , 0.00561094, 0.00160081,\n",
              "       0.00443428, 0.00147925, 0.04458933, 0.00579405, 0.00259762,\n",
              "       0.00531129, 0.        , 0.00105659, 0.        , 0.0030349 ,\n",
              "       0.3233485 , 0.00890245, 0.00329352, 0.15427803], dtype=float32)"
            ]
          },
          "metadata": {},
          "execution_count": 21
        }
      ]
    },
    {
      "cell_type": "code",
      "source": [
        "plt.figure(figsize=(6,15))\n",
        "sorted_idx = xgb_regressor.feature_importances_.argsort()\n",
        "plt.barh(X_train.columns[sorted_idx], xgb_regressor.feature_importances_[sorted_idx])\n",
        "plt.xlabel(\"Xgboost Feature Importance\")"
      ],
      "metadata": {
        "colab": {
          "base_uri": "https://localhost:8080/",
          "height": 895
        },
        "id": "CdF6KASHw7gG",
        "outputId": "794887dd-1de6-4d6f-fd71-048ba1f8e275"
      },
      "execution_count": 30,
      "outputs": [
        {
          "output_type": "execute_result",
          "data": {
            "text/plain": [
              "Text(0.5, 0, 'Xgboost Feature Importance')"
            ]
          },
          "metadata": {},
          "execution_count": 30
        },
        {
          "output_type": "display_data",
          "data": {
            "text/plain": [
              "<Figure size 432x1080 with 1 Axes>"
            ],
            "image/png": "[encoded data removed]"
          },
          "metadata": {
            "needs_background": "light"
          }
        }
      ]
    },
    {
      "cell_type": "code",
      "source": [
        "sorted_idx"
      ],
      "metadata": {
        "colab": {
          "base_uri": "https://localhost:8080/"
        },
        "id": "tixTslOS0sl_",
        "outputId": "8bafc86c-7477-4ccb-9746-5ec1b684bc1a"
      },
      "execution_count": 45,
      "outputs": [
        {
          "output_type": "execute_result",
          "data": {
            "text/plain": [
              "array([38, 36, 27, 26,  1,  2, 37, 18, 31,  3, 29,  4,  0, 15, 34, 11, 10,\n",
              "       12, 39, 16, 42,  8, 19,  9, 30,  5,  6, 21, 35, 28, 20, 33, 23, 22,\n",
              "       17, 41, 24, 25, 14, 32,  7, 43, 13, 40])"
            ]
          },
          "metadata": {},
          "execution_count": 45
        }
      ]
    },
    {
      "cell_type": "code",
      "source": [
        "plt.figure(figsize=(6,15))\n",
        "sorted_idx = xgb_regressor.feature_importances_.argsort()\n",
        "plt.barh(X_train.columns[sorted_idx], xgb_regressor.feature_importances_[sorted_idx])\n",
        "plt.xlabel(\"Xgboost Feature Importance\")"
      ],
      "metadata": {
        "colab": {
          "base_uri": "https://localhost:8080/",
          "height": 895
        },
        "id": "FHioXR8v0YnD",
        "outputId": "d8ed573b-34e6-49c8-97fa-b9002185f04b"
      },
      "execution_count": 43,
      "outputs": [
        {
          "output_type": "execute_result",
          "data": {
            "text/plain": [
              "Text(0.5, 0, 'Xgboost Feature Importance')"
            ]
          },
          "metadata": {},
          "execution_count": 43
        },
        {
          "output_type": "display_data",
          "data": {
            "text/plain": [
              "<Figure size 432x1080 with 1 Axes>"
            ],
            "image/png": "[encoded data removed]"
          },
          "metadata": {
            "needs_background": "light"
          }
        }
      ]
    },
    {
      "cell_type": "code",
      "source": [
        "sorted_idxs = xgb_regressor.feature_importances_.argsort()\n",
        "for sorted_idx in sorted_idxs:\n",
        "  print(f'{X_train.columns[sorted_idx]}: {round(xgb_regressor.feature_importances_[sorted_idx],4)}')"
      ],
      "metadata": {
        "colab": {
          "base_uri": "https://localhost:8080/"
        },
        "id": "Ys9n30BQw7cM",
        "outputId": "c36bad65-1ccc-4496-a4d7-952ba93d2965"
      },
      "execution_count": 42,
      "outputs": [
        {
          "output_type": "stream",
          "name": "stdout",
          "text": [
            "Percent_Snow: 0.0\n",
            "MODIS_LC: 0.0\n",
            "c3c4: 0.0\n",
            "koppen_main: 0.0\n",
            "timestep_idx_global: 0.0\n",
            "year: 0.0\n",
            "NDWI: 0.0010999999940395355\n",
            "b4: 0.00139999995008111\n",
            "BESS-RSDN: 0.001500000013038516\n",
            "month: 0.001500000013038516\n",
            "BESS-PAR: 0.0015999999595806003\n",
            "day: 0.0015999999595806003\n",
            "timestep_idx_local: 0.002199999988079071\n",
            "b1: 0.002199999988079071\n",
            "Ts: 0.0026000000070780516\n",
            "PA_ERA: 0.00279999990016222\n",
            "P_ERA: 0.00279999990016222\n",
            "EVI: 0.00279999990016222\n",
            "Fpar: 0.003000000026077032\n",
            "b2: 0.0032999999821186066\n",
            "LST_Night: 0.0032999999821186066\n",
            "LW_IN_ERA: 0.0034000000450760126\n",
            "b5: 0.0038999998942017555\n",
            "VPD_ERA: 0.004000000189989805\n",
            "BESS-PARdiff: 0.004399999976158142\n",
            "hour: 0.004600000102072954\n",
            "TA_ERA: 0.004699999932199717\n",
            "b7: 0.004900000058114529\n",
            "ESACCI-sm: 0.0052999998442828655\n",
            "c4_percent: 0.00559999980032444\n",
            "b6: 0.005799999926239252\n",
            "PET: 0.005799999926239252\n",
            "lat: 0.006800000090152025\n",
            "IGBP: 0.007499999832361937\n",
            "b3: 0.008899999782443047\n",
            "LST_Day: 0.008899999782443047\n",
            "long: 0.01269999984651804\n",
            "koppen_sub: 0.01769999973475933\n",
            "NIRv: 0.03920000046491623\n",
            "CSIF-SIFdaily: 0.044599998742341995\n",
            "SW_IN_ERA: 0.08380000293254852\n",
            "MODIS_PFT: 0.1543000042438507\n",
            "NDVI: 0.2062000036239624\n",
            "Lai: 0.32330000400543213\n"
          ]
        }
      ]
    },
    {
      "cell_type": "markdown",
      "source": [
        "## Feature importances(best model)"
      ],
      "metadata": {
        "id": "VNjRXnsG0I4u"
      }
    },
    {
      "cell_type": "code",
      "source": [
        "xgb_regressor.feature_importances_"
      ],
      "metadata": {
        "colab": {
          "base_uri": "https://localhost:8080/"
        },
        "outputId": "5e737670-a64b-41fe-f187-5a89b01d0379",
        "id": "zMxVAMxo0I4v"
      },
      "execution_count": null,
      "outputs": [
        {
          "output_type": "execute_result",
          "data": {
            "text/plain": [
              "array([0.0022066 , 0.        , 0.        , 0.00151997, 0.00164364,\n",
              "       0.00459623, 0.00473062, 0.08375116, 0.00335762, 0.004031  ,\n",
              "       0.00279181, 0.00277952, 0.00282711, 0.20622395, 0.0391751 ,\n",
              "       0.00221495, 0.00327227, 0.0088791 , 0.00139389, 0.00390894,\n",
              "       0.00575448, 0.00494682, 0.00745207, 0.00682221, 0.01273848,\n",
              "       0.01765087, 0.        , 0.        , 0.00561094, 0.00160081,\n",
              "       0.00443428, 0.00147925, 0.04458933, 0.00579405, 0.00259762,\n",
              "       0.00531129, 0.        , 0.00105659, 0.        , 0.0030349 ,\n",
              "       0.3233485 , 0.00890245, 0.00329352, 0.15427803], dtype=float32)"
            ]
          },
          "metadata": {},
          "execution_count": 21
        }
      ]
    },
    {
      "cell_type": "code",
      "source": [
        "plt.figure(figsize=(6,15))\n",
        "sorted_idx = xgb_regressor.feature_importances_.argsort()\n",
        "plt.barh(X_train.columns[sorted_idx], xgb_regressor.feature_importances_[sorted_idx])\n",
        "plt.xlabel(\"Xgboost Feature Importance\")"
      ],
      "metadata": {
        "colab": {
          "base_uri": "https://localhost:8080/",
          "height": 895
        },
        "outputId": "794887dd-1de6-4d6f-fd71-048ba1f8e275",
        "id": "6N_zaJyM0I4v"
      },
      "execution_count": null,
      "outputs": [
        {
          "output_type": "execute_result",
          "data": {
            "text/plain": [
              "Text(0.5, 0, 'Xgboost Feature Importance')"
            ]
          },
          "metadata": {},
          "execution_count": 30
        },
        {
          "output_type": "display_data",
          "data": {
            "text/plain": [
              "<Figure size 432x1080 with 1 Axes>"
            ],
            "image/png": "[encoded data removed]"
          },
          "metadata": {
            "needs_background": "light"
          }
        }
      ]
    },
    {
      "cell_type": "code",
      "source": [
        "sorted_idxs = xgb_regressor.feature_importances_.argsort()\n",
        "for sorted_idx in sorted_idxs:\n",
        "  print(f'{X_train.columns[sorted_idx]}: {round(xgb_regressor.feature_importances_[sorted_idx],4)}')"
      ],
      "metadata": {
        "colab": {
          "base_uri": "https://localhost:8080/"
        },
        "outputId": "c36bad65-1ccc-4496-a4d7-952ba93d2965",
        "id": "6WmJM3Gy0I4v"
      },
      "execution_count": null,
      "outputs": [
        {
          "output_type": "stream",
          "name": "stdout",
          "text": [
            "Percent_Snow: 0.0\n",
            "MODIS_LC: 0.0\n",
            "c3c4: 0.0\n",
            "koppen_main: 0.0\n",
            "timestep_idx_global: 0.0\n",
            "year: 0.0\n",
            "NDWI: 0.0010999999940395355\n",
            "b4: 0.00139999995008111\n",
            "BESS-RSDN: 0.001500000013038516\n",
            "month: 0.001500000013038516\n",
            "BESS-PAR: 0.0015999999595806003\n",
            "day: 0.0015999999595806003\n",
            "timestep_idx_local: 0.002199999988079071\n",
            "b1: 0.002199999988079071\n",
            "Ts: 0.0026000000070780516\n",
            "PA_ERA: 0.00279999990016222\n",
            "P_ERA: 0.00279999990016222\n",
            "EVI: 0.00279999990016222\n",
            "Fpar: 0.003000000026077032\n",
            "b2: 0.0032999999821186066\n",
            "LST_Night: 0.0032999999821186066\n",
            "LW_IN_ERA: 0.0034000000450760126\n",
            "b5: 0.0038999998942017555\n",
            "VPD_ERA: 0.004000000189989805\n",
            "BESS-PARdiff: 0.004399999976158142\n",
            "hour: 0.004600000102072954\n",
            "TA_ERA: 0.004699999932199717\n",
            "b7: 0.004900000058114529\n",
            "ESACCI-sm: 0.0052999998442828655\n",
            "c4_percent: 0.00559999980032444\n",
            "b6: 0.005799999926239252\n",
            "PET: 0.005799999926239252\n",
            "lat: 0.006800000090152025\n",
            "IGBP: 0.007499999832361937\n",
            "b3: 0.008899999782443047\n",
            "LST_Day: 0.008899999782443047\n",
            "long: 0.01269999984651804\n",
            "koppen_sub: 0.01769999973475933\n",
            "NIRv: 0.03920000046491623\n",
            "CSIF-SIFdaily: 0.044599998742341995\n",
            "SW_IN_ERA: 0.08380000293254852\n",
            "MODIS_PFT: 0.1543000042438507\n",
            "NDVI: 0.2062000036239624\n",
            "Lai: 0.32330000400543213\n"
          ]
        }
      ]
    },
    {
      "cell_type": "code",
      "source": [],
      "metadata": {
        "id": "hjRJJD7v0I4v"
      },
      "execution_count": null,
      "outputs": []
    },
    {
      "cell_type": "code",
      "source": [],
      "metadata": {
        "id": "NjRx_XWS0I4w"
      },
      "execution_count": null,
      "outputs": []
    },
    {
      "cell_type": "code",
      "source": [],
      "metadata": {
        "id": "bXGzDTu20I4w"
      },
      "execution_count": null,
      "outputs": []
    },
    {
      "cell_type": "code",
      "source": [],
      "metadata": {
        "id": "BC7KGgEx0I4w"
      },
      "execution_count": null,
      "outputs": []
    },
    {
      "cell_type": "code",
      "source": [],
      "metadata": {
        "id": "HLRXjZt30Cwo"
      },
      "execution_count": null,
      "outputs": []
    },
    {
      "cell_type": "code",
      "source": [],
      "metadata": {
        "id": "hejx5NzN0Cr3"
      },
      "execution_count": null,
      "outputs": []
    },
    {
      "cell_type": "code",
      "source": [],
      "metadata": {
        "id": "MXKi5w-v0Cfv"
      },
      "execution_count": null,
      "outputs": []
    }
  ],
  "metadata": {
    "availableInstances": [
      {
        "_defaultOrder": 0,
        "_isFastLaunch": true,
        "category": "General purpose",
        "gpuNum": 0,
        "memoryGiB": 4,
        "name": "ml.t3.medium",
        "vcpuNum": 2
      },
      {
        "_defaultOrder": 1,
        "_isFastLaunch": false,
        "category": "General purpose",
        "gpuNum": 0,
        "memoryGiB": 8,
        "name": "ml.t3.large",
        "vcpuNum": 2
      },
      {
        "_defaultOrder": 2,
        "_isFastLaunch": false,
        "category": "General purpose",
        "gpuNum": 0,
        "memoryGiB": 16,
        "name": "ml.t3.xlarge",
        "vcpuNum": 4
      },
      {
        "_defaultOrder": 3,
        "_isFastLaunch": false,
        "category": "General purpose",
        "gpuNum": 0,
        "memoryGiB": 32,
        "name": "ml.t3.2xlarge",
        "vcpuNum": 8
      },
      {
        "_defaultOrder": 4,
        "_isFastLaunch": true,
        "category": "General purpose",
        "gpuNum": 0,
        "memoryGiB": 8,
        "name": "ml.m5.large",
        "vcpuNum": 2
      },
      {
        "_defaultOrder": 5,
        "_isFastLaunch": false,
        "category": "General purpose",
        "gpuNum": 0,
        "memoryGiB": 16,
        "name": "ml.m5.xlarge",
        "vcpuNum": 4
      },
      {
        "_defaultOrder": 6,
        "_isFastLaunch": false,
        "category": "General purpose",
        "gpuNum": 0,
        "memoryGiB": 32,
        "name": "ml.m5.2xlarge",
        "vcpuNum": 8
      },
      {
        "_defaultOrder": 7,
        "_isFastLaunch": false,
        "category": "General purpose",
        "gpuNum": 0,
        "memoryGiB": 64,
        "name": "ml.m5.4xlarge",
        "vcpuNum": 16
      },
      {
        "_defaultOrder": 8,
        "_isFastLaunch": false,
        "category": "General purpose",
        "gpuNum": 0,
        "memoryGiB": 128,
        "name": "ml.m5.8xlarge",
        "vcpuNum": 32
      },
      {
        "_defaultOrder": 9,
        "_isFastLaunch": false,
        "category": "General purpose",
        "gpuNum": 0,
        "memoryGiB": 192,
        "name": "ml.m5.12xlarge",
        "vcpuNum": 48
      },
      {
        "_defaultOrder": 10,
        "_isFastLaunch": false,
        "category": "General purpose",
        "gpuNum": 0,
        "memoryGiB": 256,
        "name": "ml.m5.16xlarge",
        "vcpuNum": 64
      },
      {
        "_defaultOrder": 11,
        "_isFastLaunch": false,
        "category": "General purpose",
        "gpuNum": 0,
        "memoryGiB": 384,
        "name": "ml.m5.24xlarge",
        "vcpuNum": 96
      },
      {
        "_defaultOrder": 12,
        "_isFastLaunch": false,
        "category": "General purpose",
        "gpuNum": 0,
        "memoryGiB": 8,
        "name": "ml.m5d.large",
        "vcpuNum": 2
      },
      {
        "_defaultOrder": 13,
        "_isFastLaunch": false,
        "category": "General purpose",
        "gpuNum": 0,
        "memoryGiB": 16,
        "name": "ml.m5d.xlarge",
        "vcpuNum": 4
      },
      {
        "_defaultOrder": 14,
        "_isFastLaunch": false,
        "category": "General purpose",
        "gpuNum": 0,
        "memoryGiB": 32,
        "name": "ml.m5d.2xlarge",
        "vcpuNum": 8
      },
      {
        "_defaultOrder": 15,
        "_isFastLaunch": false,
        "category": "General purpose",
        "gpuNum": 0,
        "memoryGiB": 64,
        "name": "ml.m5d.4xlarge",
        "vcpuNum": 16
      },
      {
        "_defaultOrder": 16,
        "_isFastLaunch": false,
        "category": "General purpose",
        "gpuNum": 0,
        "memoryGiB": 128,
        "name": "ml.m5d.8xlarge",
        "vcpuNum": 32
      },
      {
        "_defaultOrder": 17,
        "_isFastLaunch": false,
        "category": "General purpose",
        "gpuNum": 0,
        "memoryGiB": 192,
        "name": "ml.m5d.12xlarge",
        "vcpuNum": 48
      },
      {
        "_defaultOrder": 18,
        "_isFastLaunch": false,
        "category": "General purpose",
        "gpuNum": 0,
        "memoryGiB": 256,
        "name": "ml.m5d.16xlarge",
        "vcpuNum": 64
      },
      {
        "_defaultOrder": 19,
        "_isFastLaunch": false,
        "category": "General purpose",
        "gpuNum": 0,
        "memoryGiB": 384,
        "name": "ml.m5d.24xlarge",
        "vcpuNum": 96
      },
      {
        "_defaultOrder": 20,
        "_isFastLaunch": true,
        "category": "Compute optimized",
        "gpuNum": 0,
        "memoryGiB": 4,
        "name": "ml.c5.large",
        "vcpuNum": 2
      },
      {
        "_defaultOrder": 21,
        "_isFastLaunch": false,
        "category": "Compute optimized",
        "gpuNum": 0,
        "memoryGiB": 8,
        "name": "ml.c5.xlarge",
        "vcpuNum": 4
      },
      {
        "_defaultOrder": 22,
        "_isFastLaunch": false,
        "category": "Compute optimized",
        "gpuNum": 0,
        "memoryGiB": 16,
        "name": "ml.c5.2xlarge",
        "vcpuNum": 8
      },
      {
        "_defaultOrder": 23,
        "_isFastLaunch": false,
        "category": "Compute optimized",
        "gpuNum": 0,
        "memoryGiB": 32,
        "name": "ml.c5.4xlarge",
        "vcpuNum": 16
      },
      {
        "_defaultOrder": 24,
        "_isFastLaunch": false,
        "category": "Compute optimized",
        "gpuNum": 0,
        "memoryGiB": 72,
        "name": "ml.c5.9xlarge",
        "vcpuNum": 36
      },
      {
        "_defaultOrder": 25,
        "_isFastLaunch": false,
        "category": "Compute optimized",
        "gpuNum": 0,
        "memoryGiB": 96,
        "name": "ml.c5.12xlarge",
        "vcpuNum": 48
      },
      {
        "_defaultOrder": 26,
        "_isFastLaunch": false,
        "category": "Compute optimized",
        "gpuNum": 0,
        "memoryGiB": 144,
        "name": "ml.c5.18xlarge",
        "vcpuNum": 72
      },
      {
        "_defaultOrder": 27,
        "_isFastLaunch": false,
        "category": "Compute optimized",
        "gpuNum": 0,
        "memoryGiB": 192,
        "name": "ml.c5.24xlarge",
        "vcpuNum": 96
      },
      {
        "_defaultOrder": 28,
        "_isFastLaunch": true,
        "category": "Accelerated computing",
        "gpuNum": 1,
        "memoryGiB": 16,
        "name": "ml.g4dn.xlarge",
        "vcpuNum": 4
      },
      {
        "_defaultOrder": 29,
        "_isFastLaunch": false,
        "category": "Accelerated computing",
        "gpuNum": 1,
        "memoryGiB": 32,
        "name": "ml.g4dn.2xlarge",
        "vcpuNum": 8
      },
      {
        "_defaultOrder": 30,
        "_isFastLaunch": false,
        "category": "Accelerated computing",
        "gpuNum": 1,
        "memoryGiB": 64,
        "name": "ml.g4dn.4xlarge",
        "vcpuNum": 16
      },
      {
        "_defaultOrder": 31,
        "_isFastLaunch": false,
        "category": "Accelerated computing",
        "gpuNum": 1,
        "memoryGiB": 128,
        "name": "ml.g4dn.8xlarge",
        "vcpuNum": 32
      },
      {
        "_defaultOrder": 32,
        "_isFastLaunch": false,
        "category": "Accelerated computing",
        "gpuNum": 4,
        "memoryGiB": 192,
        "name": "ml.g4dn.12xlarge",
        "vcpuNum": 48
      },
      {
        "_defaultOrder": 33,
        "_isFastLaunch": false,
        "category": "Accelerated computing",
        "gpuNum": 1,
        "memoryGiB": 256,
        "name": "ml.g4dn.16xlarge",
        "vcpuNum": 64
      },
      {
        "_defaultOrder": 34,
        "_isFastLaunch": false,
        "category": "Accelerated computing",
        "gpuNum": 1,
        "memoryGiB": 61,
        "name": "ml.p3.2xlarge",
        "vcpuNum": 8
      },
      {
        "_defaultOrder": 35,
        "_isFastLaunch": false,
        "category": "Accelerated computing",
        "gpuNum": 4,
        "memoryGiB": 244,
        "name": "ml.p3.8xlarge",
        "vcpuNum": 32
      },
      {
        "_defaultOrder": 36,
        "_isFastLaunch": false,
        "category": "Accelerated computing",
        "gpuNum": 8,
        "memoryGiB": 488,
        "name": "ml.p3.16xlarge",
        "vcpuNum": 64
      },
      {
        "_defaultOrder": 37,
        "_isFastLaunch": false,
        "category": "Accelerated computing",
        "gpuNum": 8,
        "memoryGiB": 768,
        "name": "ml.p3dn.24xlarge",
        "vcpuNum": 96
      },
      {
        "_defaultOrder": 38,
        "_isFastLaunch": false,
        "category": "Memory Optimized",
        "gpuNum": 0,
        "memoryGiB": 16,
        "name": "ml.r5.large",
        "vcpuNum": 2
      },
      {
        "_defaultOrder": 39,
        "_isFastLaunch": false,
        "category": "Memory Optimized",
        "gpuNum": 0,
        "memoryGiB": 32,
        "name": "ml.r5.xlarge",
        "vcpuNum": 4
      },
      {
        "_defaultOrder": 40,
        "_isFastLaunch": false,
        "category": "Memory Optimized",
        "gpuNum": 0,
        "memoryGiB": 64,
        "name": "ml.r5.2xlarge",
        "vcpuNum": 8
      },
      {
        "_defaultOrder": 41,
        "_isFastLaunch": false,
        "category": "Memory Optimized",
        "gpuNum": 0,
        "memoryGiB": 128,
        "name": "ml.r5.4xlarge",
        "vcpuNum": 16
      },
      {
        "_defaultOrder": 42,
        "_isFastLaunch": false,
        "category": "Memory Optimized",
        "gpuNum": 0,
        "memoryGiB": 256,
        "name": "ml.r5.8xlarge",
        "vcpuNum": 32
      },
      {
        "_defaultOrder": 43,
        "_isFastLaunch": false,
        "category": "Memory Optimized",
        "gpuNum": 0,
        "memoryGiB": 384,
        "name": "ml.r5.12xlarge",
        "vcpuNum": 48
      },
      {
        "_defaultOrder": 44,
        "_isFastLaunch": false,
        "category": "Memory Optimized",
        "gpuNum": 0,
        "memoryGiB": 512,
        "name": "ml.r5.16xlarge",
        "vcpuNum": 64
      },
      {
        "_defaultOrder": 45,
        "_isFastLaunch": false,
        "category": "Memory Optimized",
        "gpuNum": 0,
        "memoryGiB": 768,
        "name": "ml.r5.24xlarge",
        "vcpuNum": 96
      },
      {
        "_defaultOrder": 46,
        "_isFastLaunch": false,
        "category": "Accelerated computing",
        "gpuNum": 1,
        "memoryGiB": 16,
        "name": "ml.g5.xlarge",
        "vcpuNum": 4
      },
      {
        "_defaultOrder": 47,
        "_isFastLaunch": false,
        "category": "Accelerated computing",
        "gpuNum": 1,
        "memoryGiB": 32,
        "name": "ml.g5.2xlarge",
        "vcpuNum": 8
      },
      {
        "_defaultOrder": 48,
        "_isFastLaunch": false,
        "category": "Accelerated computing",
        "gpuNum": 1,
        "memoryGiB": 64,
        "name": "ml.g5.4xlarge",
        "vcpuNum": 16
      },
      {
        "_defaultOrder": 49,
        "_isFastLaunch": false,
        "category": "Accelerated computing",
        "gpuNum": 1,
        "memoryGiB": 128,
        "name": "ml.g5.8xlarge",
        "vcpuNum": 32
      },
      {
        "_defaultOrder": 50,
        "_isFastLaunch": false,
        "category": "Accelerated computing",
        "gpuNum": 1,
        "memoryGiB": 256,
        "name": "ml.g5.16xlarge",
        "vcpuNum": 64
      },
      {
        "_defaultOrder": 51,
        "_isFastLaunch": false,
        "category": "Accelerated computing",
        "gpuNum": 4,
        "memoryGiB": 192,
        "name": "ml.g5.12xlarge",
        "vcpuNum": 48
      },
      {
        "_defaultOrder": 52,
        "_isFastLaunch": false,
        "category": "Accelerated computing",
        "gpuNum": 4,
        "memoryGiB": 384,
        "name": "ml.g5.24xlarge",
        "vcpuNum": 96
      },
      {
        "_defaultOrder": 53,
        "_isFastLaunch": false,
        "category": "Accelerated computing",
        "gpuNum": 8,
        "memoryGiB": 768,
        "name": "ml.g5.48xlarge",
        "vcpuNum": 192
      }
    ],
    "colab": {
      "provenance": []
    },
    "kernelspec": {
      "display_name": "Python 3 (Data Science)",
      "language": "python",
      "name": "python3__SAGEMAKER_INTERNAL__arn:aws:sagemaker:us-east-1:081325390199:image/datascience-1.0"
    },
    "language_info": {
      "codemirror_mode": {
        "name": "ipython",
        "version": 3
      },
      "file_extension": ".py",
      "mimetype": "text/x-python",
      "name": "python",
      "nbconvert_exporter": "python",
      "pygments_lexer": "ipython3",
      "version": "3.7.10"
    }
  },
  "nbformat": 4,
  "nbformat_minor": 0
}