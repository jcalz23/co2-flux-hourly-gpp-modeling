{
  "cells": [
    {
      "cell_type": "markdown",
      "metadata": {
        "id": "CU5xMX4lMdOX"
      },
      "source": [
        "# 0. Preparation"
      ]
    },
    {
      "cell_type": "markdown",
      "metadata": {
        "id": "tqqvjx_EMfQR"
      },
      "source": [
        "## Mount google drive\n",
        "- Make sure that available access is the user's own drive(no access across files in shared folder)"
      ]
    },
    {
      "cell_type": "code",
      "execution_count": 1,
      "metadata": {
        "id": "2VY5heBv1X2o",
        "colab": {
          "base_uri": "https://localhost:8080/"
        },
        "outputId": "e2971fc9-d590-403d-f27b-978a70c20ef9"
      },
      "outputs": [
        {
          "output_type": "stream",
          "name": "stdout",
          "text": [
            "Mounted at /content/drive\n"
          ]
        }
      ],
      "source": [
        "from google.colab import drive\n",
        "drive.mount('/content/drive')"
      ]
    },
    {
      "cell_type": "code",
      "execution_count": 2,
      "metadata": {
        "id": "DSVkZD9yGdyo"
      },
      "outputs": [],
      "source": [
        "if 'google.colab' in str(get_ipython()):\n",
        "  IN_COLLAB = True\n",
        "else:\n",
        "  IN_COLLAB = False\n",
        "\n",
        "#TODO: CHANGE THIS BASED ON YOUR OWN LOCAL SETTINGS\n",
        "# MY_HOME_ABS_PATH = \"/content/drive/MyDrive/W210/co2-flux-hourly-gpp-modeling\"\n",
        "MY_HOME_ABS_PATH =  \"/content/drive/MyDrive/TFT_baseline\""
      ]
    },
    {
      "cell_type": "code",
      "source": [
        "# # Clone Git to GDrive\n",
        "# os.chdir('/content/drive/MyDrive/W210/')\n",
        "# !git config --global user.name jcalz23\n",
        "# !git config --global user.email \"j.calzaretta.ai@gmail.com\"\n",
        "# !git clone https://github.com/jcalz23/co2-flux-hourly-gpp-modeling.git"
      ],
      "metadata": {
        "id": "weNKr3Rxe4Kj"
      },
      "execution_count": null,
      "outputs": []
    },
    {
      "cell_type": "markdown",
      "metadata": {
        "id": "bOpEMAgCzHNc"
      },
      "source": [
        "#### (pip install)"
      ]
    },
    {
      "cell_type": "code",
      "execution_count": 3,
      "metadata": {
        "id": "fi0G0eqBtg0V",
        "colab": {
          "base_uri": "https://localhost:8080/"
        },
        "outputId": "b5174bba-50ce-4e68-8158-2249a2a9cdb6"
      },
      "outputs": [
        {
          "output_type": "stream",
          "name": "stdout",
          "text": [
            "Looking in indexes: https://pypi.org/simple, https://us-python.pkg.dev/colab-wheels/public/simple/\n",
            "Collecting pytorch_lightning\n",
            "  Downloading pytorch_lightning-1.9.4-py3-none-any.whl (827 kB)\n",
            "\u001b[2K     \u001b[90m━━━━━━━━━━━━━━━━━━━━━━━━━━━━━━━━━━━━━━\u001b[0m \u001b[32m827.8/827.8 KB\u001b[0m \u001b[31m13.4 MB/s\u001b[0m eta \u001b[36m0:00:00\u001b[0m\n",
            "\u001b[?25hRequirement already satisfied: torch>=1.10.0 in /usr/local/lib/python3.8/dist-packages (from pytorch_lightning) (1.13.1+cu116)\n",
            "Requirement already satisfied: PyYAML>=5.4 in /usr/local/lib/python3.8/dist-packages (from pytorch_lightning) (6.0)\n",
            "Requirement already satisfied: tqdm>=4.57.0 in /usr/local/lib/python3.8/dist-packages (from pytorch_lightning) (4.64.1)\n",
            "Collecting torchmetrics>=0.7.0\n",
            "  Downloading torchmetrics-0.11.3-py3-none-any.whl (518 kB)\n",
            "\u001b[2K     \u001b[90m━━━━━━━━━━━━━━━━━━━━━━━━━━━━━━━━━━━━━━\u001b[0m \u001b[32m518.6/518.6 KB\u001b[0m \u001b[31m47.2 MB/s\u001b[0m eta \u001b[36m0:00:00\u001b[0m\n",
            "\u001b[?25hRequirement already satisfied: typing-extensions>=4.0.0 in /usr/local/lib/python3.8/dist-packages (from pytorch_lightning) (4.5.0)\n",
            "Collecting lightning-utilities>=0.6.0.post0\n",
            "  Downloading lightning_utilities-0.7.1-py3-none-any.whl (18 kB)\n",
            "Requirement already satisfied: fsspec[http]>2021.06.0 in /usr/local/lib/python3.8/dist-packages (from pytorch_lightning) (2023.1.0)\n",
            "Requirement already satisfied: numpy>=1.17.2 in /usr/local/lib/python3.8/dist-packages (from pytorch_lightning) (1.22.4)\n",
            "Requirement already satisfied: packaging>=17.1 in /usr/local/lib/python3.8/dist-packages (from pytorch_lightning) (23.0)\n",
            "Requirement already satisfied: requests in /usr/local/lib/python3.8/dist-packages (from fsspec[http]>2021.06.0->pytorch_lightning) (2.25.1)\n",
            "Requirement already satisfied: aiohttp!=4.0.0a0,!=4.0.0a1 in /usr/local/lib/python3.8/dist-packages (from fsspec[http]>2021.06.0->pytorch_lightning) (3.8.4)\n",
            "Requirement already satisfied: aiosignal>=1.1.2 in /usr/local/lib/python3.8/dist-packages (from aiohttp!=4.0.0a0,!=4.0.0a1->fsspec[http]>2021.06.0->pytorch_lightning) (1.3.1)\n",
            "Requirement already satisfied: charset-normalizer<4.0,>=2.0 in /usr/local/lib/python3.8/dist-packages (from aiohttp!=4.0.0a0,!=4.0.0a1->fsspec[http]>2021.06.0->pytorch_lightning) (3.0.1)\n",
            "Requirement already satisfied: frozenlist>=1.1.1 in /usr/local/lib/python3.8/dist-packages (from aiohttp!=4.0.0a0,!=4.0.0a1->fsspec[http]>2021.06.0->pytorch_lightning) (1.3.3)\n",
            "Requirement already satisfied: yarl<2.0,>=1.0 in /usr/local/lib/python3.8/dist-packages (from aiohttp!=4.0.0a0,!=4.0.0a1->fsspec[http]>2021.06.0->pytorch_lightning) (1.8.2)\n",
            "Requirement already satisfied: attrs>=17.3.0 in /usr/local/lib/python3.8/dist-packages (from aiohttp!=4.0.0a0,!=4.0.0a1->fsspec[http]>2021.06.0->pytorch_lightning) (22.2.0)\n",
            "Requirement already satisfied: multidict<7.0,>=4.5 in /usr/local/lib/python3.8/dist-packages (from aiohttp!=4.0.0a0,!=4.0.0a1->fsspec[http]>2021.06.0->pytorch_lightning) (6.0.4)\n",
            "Requirement already satisfied: async-timeout<5.0,>=4.0.0a3 in /usr/local/lib/python3.8/dist-packages (from aiohttp!=4.0.0a0,!=4.0.0a1->fsspec[http]>2021.06.0->pytorch_lightning) (4.0.2)\n",
            "Requirement already satisfied: certifi>=2017.4.17 in /usr/local/lib/python3.8/dist-packages (from requests->fsspec[http]>2021.06.0->pytorch_lightning) (2022.12.7)\n",
            "Requirement already satisfied: chardet<5,>=3.0.2 in /usr/local/lib/python3.8/dist-packages (from requests->fsspec[http]>2021.06.0->pytorch_lightning) (4.0.0)\n",
            "Requirement already satisfied: idna<3,>=2.5 in /usr/local/lib/python3.8/dist-packages (from requests->fsspec[http]>2021.06.0->pytorch_lightning) (2.10)\n",
            "Requirement already satisfied: urllib3<1.27,>=1.21.1 in /usr/local/lib/python3.8/dist-packages (from requests->fsspec[http]>2021.06.0->pytorch_lightning) (1.26.14)\n",
            "Installing collected packages: lightning-utilities, torchmetrics, pytorch_lightning\n",
            "Successfully installed lightning-utilities-0.7.1 pytorch_lightning-1.9.4 torchmetrics-0.11.3\n"
          ]
        }
      ],
      "source": [
        "!pip install pytorch_lightning"
      ]
    },
    {
      "cell_type": "code",
      "execution_count": 4,
      "metadata": {
        "id": "1T3UsDmStq3k",
        "colab": {
          "base_uri": "https://localhost:8080/"
        },
        "outputId": "0bcb3dc3-25f7-457b-c13e-8170a730ad30"
      },
      "outputs": [
        {
          "output_type": "stream",
          "name": "stdout",
          "text": [
            "Looking in indexes: https://pypi.org/simple, https://us-python.pkg.dev/colab-wheels/public/simple/\n",
            "Collecting pytorch_forecasting\n",
            "  Downloading pytorch_forecasting-0.10.3-py3-none-any.whl (141 kB)\n",
            "\u001b[2K     \u001b[90m━━━━━━━━━━━━━━━━━━━━━━━━━━━━━━━━━━━━━━━\u001b[0m \u001b[32m141.4/141.4 KB\u001b[0m \u001b[31m1.9 MB/s\u001b[0m eta \u001b[36m0:00:00\u001b[0m\n",
            "\u001b[?25hCollecting scikit-learn<1.2,>=0.24\n",
            "  Downloading scikit_learn-1.1.3-cp38-cp38-manylinux_2_17_x86_64.manylinux2014_x86_64.whl (31.2 MB)\n",
            "\u001b[2K     \u001b[90m━━━━━━━━━━━━━━━━━━━━━━━━━━━━━━━━━━━━━━━━\u001b[0m \u001b[32m31.2/31.2 MB\u001b[0m \u001b[31m11.4 MB/s\u001b[0m eta \u001b[36m0:00:00\u001b[0m\n",
            "\u001b[?25hRequirement already satisfied: pandas<2.0.0,>=1.3.0 in /usr/local/lib/python3.8/dist-packages (from pytorch_forecasting) (1.3.5)\n",
            "Requirement already satisfied: pytorch-lightning<2.0.0,>=1.2.4 in /usr/local/lib/python3.8/dist-packages (from pytorch_forecasting) (1.9.4)\n",
            "Requirement already satisfied: statsmodels in /usr/local/lib/python3.8/dist-packages (from pytorch_forecasting) (0.13.5)\n",
            "Collecting optuna<3.0.0,>=2.3.0\n",
            "  Downloading optuna-2.10.1-py3-none-any.whl (308 kB)\n",
            "\u001b[2K     \u001b[90m━━━━━━━━━━━━━━━━━━━━━━━━━━━━━━━━━━━━━━\u001b[0m \u001b[32m308.2/308.2 KB\u001b[0m \u001b[31m14.9 MB/s\u001b[0m eta \u001b[36m0:00:00\u001b[0m\n",
            "\u001b[?25hRequirement already satisfied: matplotlib in /usr/local/lib/python3.8/dist-packages (from pytorch_forecasting) (3.5.3)\n",
            "Requirement already satisfied: scipy<2.0,>=1.8 in /usr/local/lib/python3.8/dist-packages (from pytorch_forecasting) (1.10.1)\n",
            "Requirement already satisfied: torch<2.0,>=1.7 in /usr/local/lib/python3.8/dist-packages (from pytorch_forecasting) (1.13.1+cu116)\n",
            "Requirement already satisfied: packaging>=20.0 in /usr/local/lib/python3.8/dist-packages (from optuna<3.0.0,>=2.3.0->pytorch_forecasting) (23.0)\n",
            "Collecting cmaes>=0.8.2\n",
            "  Downloading cmaes-0.9.1-py3-none-any.whl (21 kB)\n",
            "Collecting cliff\n",
            "  Downloading cliff-4.2.0-py3-none-any.whl (81 kB)\n",
            "\u001b[2K     \u001b[90m━━━━━━━━━━━━━━━━━━━━━━━━━━━━━━━━━━━━━━━━\u001b[0m \u001b[32m81.0/81.0 KB\u001b[0m \u001b[31m10.5 MB/s\u001b[0m eta \u001b[36m0:00:00\u001b[0m\n",
            "\u001b[?25hRequirement already satisfied: PyYAML in /usr/local/lib/python3.8/dist-packages (from optuna<3.0.0,>=2.3.0->pytorch_forecasting) (6.0)\n",
            "Collecting alembic\n",
            "  Downloading alembic-1.9.4-py3-none-any.whl (210 kB)\n",
            "\u001b[2K     \u001b[90m━━━━━━━━━━━━━━━━━━━━━━━━━━━━━━━━━━━━━━\u001b[0m \u001b[32m210.5/210.5 KB\u001b[0m \u001b[31m15.3 MB/s\u001b[0m eta \u001b[36m0:00:00\u001b[0m\n",
            "\u001b[?25hRequirement already satisfied: numpy in /usr/local/lib/python3.8/dist-packages (from optuna<3.0.0,>=2.3.0->pytorch_forecasting) (1.22.4)\n",
            "Requirement already satisfied: sqlalchemy>=1.1.0 in /usr/local/lib/python3.8/dist-packages (from optuna<3.0.0,>=2.3.0->pytorch_forecasting) (1.4.46)\n",
            "Requirement already satisfied: tqdm in /usr/local/lib/python3.8/dist-packages (from optuna<3.0.0,>=2.3.0->pytorch_forecasting) (4.64.1)\n",
            "Collecting colorlog\n",
            "  Downloading colorlog-6.7.0-py2.py3-none-any.whl (11 kB)\n",
            "Requirement already satisfied: pytz>=2017.3 in /usr/local/lib/python3.8/dist-packages (from pandas<2.0.0,>=1.3.0->pytorch_forecasting) (2022.7.1)\n",
            "Requirement already satisfied: python-dateutil>=2.7.3 in /usr/local/lib/python3.8/dist-packages (from pandas<2.0.0,>=1.3.0->pytorch_forecasting) (2.8.2)\n",
            "Requirement already satisfied: torchmetrics>=0.7.0 in /usr/local/lib/python3.8/dist-packages (from pytorch-lightning<2.0.0,>=1.2.4->pytorch_forecasting) (0.11.3)\n",
            "Requirement already satisfied: typing-extensions>=4.0.0 in /usr/local/lib/python3.8/dist-packages (from pytorch-lightning<2.0.0,>=1.2.4->pytorch_forecasting) (4.5.0)\n",
            "Requirement already satisfied: lightning-utilities>=0.6.0.post0 in /usr/local/lib/python3.8/dist-packages (from pytorch-lightning<2.0.0,>=1.2.4->pytorch_forecasting) (0.7.1)\n",
            "Requirement already satisfied: fsspec[http]>2021.06.0 in /usr/local/lib/python3.8/dist-packages (from pytorch-lightning<2.0.0,>=1.2.4->pytorch_forecasting) (2023.1.0)\n",
            "Requirement already satisfied: joblib>=1.0.0 in /usr/local/lib/python3.8/dist-packages (from scikit-learn<1.2,>=0.24->pytorch_forecasting) (1.2.0)\n",
            "Requirement already satisfied: threadpoolctl>=2.0.0 in /usr/local/lib/python3.8/dist-packages (from scikit-learn<1.2,>=0.24->pytorch_forecasting) (3.1.0)\n",
            "Requirement already satisfied: fonttools>=4.22.0 in /usr/local/lib/python3.8/dist-packages (from matplotlib->pytorch_forecasting) (4.38.0)\n",
            "Requirement already satisfied: pyparsing>=2.2.1 in /usr/local/lib/python3.8/dist-packages (from matplotlib->pytorch_forecasting) (3.0.9)\n",
            "Requirement already satisfied: pillow>=6.2.0 in /usr/local/lib/python3.8/dist-packages (from matplotlib->pytorch_forecasting) (8.4.0)\n",
            "Requirement already satisfied: cycler>=0.10 in /usr/local/lib/python3.8/dist-packages (from matplotlib->pytorch_forecasting) (0.11.0)\n",
            "Requirement already satisfied: kiwisolver>=1.0.1 in /usr/local/lib/python3.8/dist-packages (from matplotlib->pytorch_forecasting) (1.4.4)\n",
            "Requirement already satisfied: patsy>=0.5.2 in /usr/local/lib/python3.8/dist-packages (from statsmodels->pytorch_forecasting) (0.5.3)\n",
            "Requirement already satisfied: aiohttp!=4.0.0a0,!=4.0.0a1 in /usr/local/lib/python3.8/dist-packages (from fsspec[http]>2021.06.0->pytorch-lightning<2.0.0,>=1.2.4->pytorch_forecasting) (3.8.4)\n",
            "Requirement already satisfied: requests in /usr/local/lib/python3.8/dist-packages (from fsspec[http]>2021.06.0->pytorch-lightning<2.0.0,>=1.2.4->pytorch_forecasting) (2.25.1)\n",
            "Requirement already satisfied: six in /usr/local/lib/python3.8/dist-packages (from patsy>=0.5.2->statsmodels->pytorch_forecasting) (1.15.0)\n",
            "Requirement already satisfied: greenlet!=0.4.17 in /usr/local/lib/python3.8/dist-packages (from sqlalchemy>=1.1.0->optuna<3.0.0,>=2.3.0->pytorch_forecasting) (2.0.2)\n",
            "Requirement already satisfied: importlib-metadata in /usr/local/lib/python3.8/dist-packages (from alembic->optuna<3.0.0,>=2.3.0->pytorch_forecasting) (6.0.0)\n",
            "Collecting Mako\n",
            "  Downloading Mako-1.2.4-py3-none-any.whl (78 kB)\n",
            "\u001b[2K     \u001b[90m━━━━━━━━━━━━━━━━━━━━━━━━━━━━━━━━━━━━━━━━\u001b[0m \u001b[32m78.7/78.7 KB\u001b[0m \u001b[31m10.2 MB/s\u001b[0m eta \u001b[36m0:00:00\u001b[0m\n",
            "\u001b[?25hRequirement already satisfied: importlib-resources in /usr/local/lib/python3.8/dist-packages (from alembic->optuna<3.0.0,>=2.3.0->pytorch_forecasting) (5.12.0)\n",
            "Collecting stevedore>=2.0.1\n",
            "  Downloading stevedore-5.0.0-py3-none-any.whl (49 kB)\n",
            "\u001b[2K     \u001b[90m━━━━━━━━━━━━━━━━━━━━━━━━━━━━━━━━━━━━━━━━\u001b[0m \u001b[32m49.6/49.6 KB\u001b[0m \u001b[31m6.4 MB/s\u001b[0m eta \u001b[36m0:00:00\u001b[0m\n",
            "\u001b[?25hCollecting cmd2>=1.0.0\n",
            "  Downloading cmd2-2.4.3-py3-none-any.whl (147 kB)\n",
            "\u001b[2K     \u001b[90m━━━━━━━━━━━━━━━━━━━━━━━━━━━━━━━━━━━━━━\u001b[0m \u001b[32m147.2/147.2 KB\u001b[0m \u001b[31m13.8 MB/s\u001b[0m eta \u001b[36m0:00:00\u001b[0m\n",
            "\u001b[?25hRequirement already satisfied: PrettyTable>=0.7.2 in /usr/local/lib/python3.8/dist-packages (from cliff->optuna<3.0.0,>=2.3.0->pytorch_forecasting) (3.6.0)\n",
            "Collecting autopage>=0.4.0\n",
            "  Downloading autopage-0.5.1-py3-none-any.whl (29 kB)\n",
            "Requirement already satisfied: frozenlist>=1.1.1 in /usr/local/lib/python3.8/dist-packages (from aiohttp!=4.0.0a0,!=4.0.0a1->fsspec[http]>2021.06.0->pytorch-lightning<2.0.0,>=1.2.4->pytorch_forecasting) (1.3.3)\n",
            "Requirement already satisfied: attrs>=17.3.0 in /usr/local/lib/python3.8/dist-packages (from aiohttp!=4.0.0a0,!=4.0.0a1->fsspec[http]>2021.06.0->pytorch-lightning<2.0.0,>=1.2.4->pytorch_forecasting) (22.2.0)\n",
            "Requirement already satisfied: charset-normalizer<4.0,>=2.0 in /usr/local/lib/python3.8/dist-packages (from aiohttp!=4.0.0a0,!=4.0.0a1->fsspec[http]>2021.06.0->pytorch-lightning<2.0.0,>=1.2.4->pytorch_forecasting) (3.0.1)\n",
            "Requirement already satisfied: aiosignal>=1.1.2 in /usr/local/lib/python3.8/dist-packages (from aiohttp!=4.0.0a0,!=4.0.0a1->fsspec[http]>2021.06.0->pytorch-lightning<2.0.0,>=1.2.4->pytorch_forecasting) (1.3.1)\n",
            "Requirement already satisfied: multidict<7.0,>=4.5 in /usr/local/lib/python3.8/dist-packages (from aiohttp!=4.0.0a0,!=4.0.0a1->fsspec[http]>2021.06.0->pytorch-lightning<2.0.0,>=1.2.4->pytorch_forecasting) (6.0.4)\n",
            "Requirement already satisfied: async-timeout<5.0,>=4.0.0a3 in /usr/local/lib/python3.8/dist-packages (from aiohttp!=4.0.0a0,!=4.0.0a1->fsspec[http]>2021.06.0->pytorch-lightning<2.0.0,>=1.2.4->pytorch_forecasting) (4.0.2)\n",
            "Requirement already satisfied: yarl<2.0,>=1.0 in /usr/local/lib/python3.8/dist-packages (from aiohttp!=4.0.0a0,!=4.0.0a1->fsspec[http]>2021.06.0->pytorch-lightning<2.0.0,>=1.2.4->pytorch_forecasting) (1.8.2)\n",
            "Requirement already satisfied: wcwidth>=0.1.7 in /usr/local/lib/python3.8/dist-packages (from cmd2>=1.0.0->cliff->optuna<3.0.0,>=2.3.0->pytorch_forecasting) (0.2.6)\n",
            "Collecting pyperclip>=1.6\n",
            "  Downloading pyperclip-1.8.2.tar.gz (20 kB)\n",
            "  Preparing metadata (setup.py) ... \u001b[?25l\u001b[?25hdone\n",
            "Requirement already satisfied: zipp>=0.5 in /usr/local/lib/python3.8/dist-packages (from importlib-metadata->alembic->optuna<3.0.0,>=2.3.0->pytorch_forecasting) (3.15.0)\n",
            "Collecting pbr!=2.1.0,>=2.0.0\n",
            "  Downloading pbr-5.11.1-py2.py3-none-any.whl (112 kB)\n",
            "\u001b[2K     \u001b[90m━━━━━━━━━━━━━━━━━━━━━━━━━━━━━━━━━━━━━━\u001b[0m \u001b[32m112.7/112.7 KB\u001b[0m \u001b[31m12.3 MB/s\u001b[0m eta \u001b[36m0:00:00\u001b[0m\n",
            "\u001b[?25hRequirement already satisfied: MarkupSafe>=0.9.2 in /usr/local/lib/python3.8/dist-packages (from Mako->alembic->optuna<3.0.0,>=2.3.0->pytorch_forecasting) (2.1.2)\n",
            "Requirement already satisfied: urllib3<1.27,>=1.21.1 in /usr/local/lib/python3.8/dist-packages (from requests->fsspec[http]>2021.06.0->pytorch-lightning<2.0.0,>=1.2.4->pytorch_forecasting) (1.26.14)\n",
            "Requirement already satisfied: certifi>=2017.4.17 in /usr/local/lib/python3.8/dist-packages (from requests->fsspec[http]>2021.06.0->pytorch-lightning<2.0.0,>=1.2.4->pytorch_forecasting) (2022.12.7)\n",
            "Requirement already satisfied: idna<3,>=2.5 in /usr/local/lib/python3.8/dist-packages (from requests->fsspec[http]>2021.06.0->pytorch-lightning<2.0.0,>=1.2.4->pytorch_forecasting) (2.10)\n",
            "Requirement already satisfied: chardet<5,>=3.0.2 in /usr/local/lib/python3.8/dist-packages (from requests->fsspec[http]>2021.06.0->pytorch-lightning<2.0.0,>=1.2.4->pytorch_forecasting) (4.0.0)\n",
            "Building wheels for collected packages: pyperclip\n",
            "  Building wheel for pyperclip (setup.py) ... \u001b[?25l\u001b[?25hdone\n",
            "  Created wheel for pyperclip: filename=pyperclip-1.8.2-py3-none-any.whl size=11136 sha256=3be8bb19bf3d5fa40e2101dbcbd9d583921207c9433e1cefc102b0d5a1d7dfda\n",
            "  Stored in directory: /root/.cache/pip/wheels/7f/1a/65/84ff8c386bec21fca6d220ea1f5498a0367883a78dd5ba6122\n",
            "Successfully built pyperclip\n",
            "Installing collected packages: pyperclip, pbr, Mako, colorlog, cmd2, cmaes, autopage, stevedore, scikit-learn, alembic, cliff, optuna, pytorch_forecasting\n",
            "  Attempting uninstall: scikit-learn\n",
            "    Found existing installation: scikit-learn 1.2.1\n",
            "    Uninstalling scikit-learn-1.2.1:\n",
            "      Successfully uninstalled scikit-learn-1.2.1\n",
            "Successfully installed Mako-1.2.4 alembic-1.9.4 autopage-0.5.1 cliff-4.2.0 cmaes-0.9.1 cmd2-2.4.3 colorlog-6.7.0 optuna-2.10.1 pbr-5.11.1 pyperclip-1.8.2 pytorch_forecasting-0.10.3 scikit-learn-1.1.3 stevedore-5.0.0\n"
          ]
        }
      ],
      "source": [
        "!pip install pytorch_forecasting"
      ]
    },
    {
      "cell_type": "code",
      "execution_count": 5,
      "metadata": {
        "id": "E25Nsd7lD2FA",
        "colab": {
          "base_uri": "https://localhost:8080/"
        },
        "outputId": "22baed9c-a9b3-406c-84af-73269680d806"
      },
      "outputs": [
        {
          "output_type": "stream",
          "name": "stdout",
          "text": [
            "Looking in indexes: https://pypi.org/simple, https://us-python.pkg.dev/colab-wheels/public/simple/\n",
            "Requirement already satisfied: statsmodels in /usr/local/lib/python3.8/dist-packages (0.13.5)\n",
            "Requirement already satisfied: pandas>=0.25 in /usr/local/lib/python3.8/dist-packages (from statsmodels) (1.3.5)\n",
            "Requirement already satisfied: numpy>=1.17 in /usr/local/lib/python3.8/dist-packages (from statsmodels) (1.22.4)\n",
            "Requirement already satisfied: packaging>=21.3 in /usr/local/lib/python3.8/dist-packages (from statsmodels) (23.0)\n",
            "Requirement already satisfied: patsy>=0.5.2 in /usr/local/lib/python3.8/dist-packages (from statsmodels) (0.5.3)\n",
            "Requirement already satisfied: scipy>=1.3 in /usr/local/lib/python3.8/dist-packages (from statsmodels) (1.10.1)\n",
            "Requirement already satisfied: python-dateutil>=2.7.3 in /usr/local/lib/python3.8/dist-packages (from pandas>=0.25->statsmodels) (2.8.2)\n",
            "Requirement already satisfied: pytz>=2017.3 in /usr/local/lib/python3.8/dist-packages (from pandas>=0.25->statsmodels) (2022.7.1)\n",
            "Requirement already satisfied: six in /usr/local/lib/python3.8/dist-packages (from patsy>=0.5.2->statsmodels) (1.15.0)\n"
          ]
        }
      ],
      "source": [
        "! pip install statsmodels --upgrade"
      ]
    },
    {
      "cell_type": "code",
      "execution_count": 6,
      "metadata": {
        "id": "QJmvIErMFovP",
        "colab": {
          "base_uri": "https://localhost:8080/"
        },
        "outputId": "a55c9ca7-d4cd-43b4-bf4f-55dbe447eea5"
      },
      "outputs": [
        {
          "output_type": "stream",
          "name": "stdout",
          "text": [
            "Looking in indexes: https://pypi.org/simple, https://us-python.pkg.dev/colab-wheels/public/simple/\n",
            "Collecting pytorch_lightning==1.9.0\n",
            "  Downloading pytorch_lightning-1.9.0-py3-none-any.whl (825 kB)\n",
            "\u001b[2K     \u001b[90m━━━━━━━━━━━━━━━━━━━━━━━━━━━━━━━━━━━━━━\u001b[0m \u001b[32m825.8/825.8 KB\u001b[0m \u001b[31m13.7 MB/s\u001b[0m eta \u001b[36m0:00:00\u001b[0m\n",
            "\u001b[?25hRequirement already satisfied: fsspec[http]>2021.06.0 in /usr/local/lib/python3.8/dist-packages (from pytorch_lightning==1.9.0) (2023.1.0)\n",
            "Requirement already satisfied: lightning-utilities>=0.4.2 in /usr/local/lib/python3.8/dist-packages (from pytorch_lightning==1.9.0) (0.7.1)\n",
            "Requirement already satisfied: torchmetrics>=0.7.0 in /usr/local/lib/python3.8/dist-packages (from pytorch_lightning==1.9.0) (0.11.3)\n",
            "Requirement already satisfied: packaging>=17.1 in /usr/local/lib/python3.8/dist-packages (from pytorch_lightning==1.9.0) (23.0)\n",
            "Requirement already satisfied: numpy>=1.17.2 in /usr/local/lib/python3.8/dist-packages (from pytorch_lightning==1.9.0) (1.22.4)\n",
            "Requirement already satisfied: PyYAML>=5.4 in /usr/local/lib/python3.8/dist-packages (from pytorch_lightning==1.9.0) (6.0)\n",
            "Requirement already satisfied: tqdm>=4.57.0 in /usr/local/lib/python3.8/dist-packages (from pytorch_lightning==1.9.0) (4.64.1)\n",
            "Requirement already satisfied: typing-extensions>=4.0.0 in /usr/local/lib/python3.8/dist-packages (from pytorch_lightning==1.9.0) (4.5.0)\n",
            "Requirement already satisfied: torch>=1.10.0 in /usr/local/lib/python3.8/dist-packages (from pytorch_lightning==1.9.0) (1.13.1+cu116)\n",
            "Requirement already satisfied: requests in /usr/local/lib/python3.8/dist-packages (from fsspec[http]>2021.06.0->pytorch_lightning==1.9.0) (2.25.1)\n",
            "Requirement already satisfied: aiohttp!=4.0.0a0,!=4.0.0a1 in /usr/local/lib/python3.8/dist-packages (from fsspec[http]>2021.06.0->pytorch_lightning==1.9.0) (3.8.4)\n",
            "Requirement already satisfied: aiosignal>=1.1.2 in /usr/local/lib/python3.8/dist-packages (from aiohttp!=4.0.0a0,!=4.0.0a1->fsspec[http]>2021.06.0->pytorch_lightning==1.9.0) (1.3.1)\n",
            "Requirement already satisfied: attrs>=17.3.0 in /usr/local/lib/python3.8/dist-packages (from aiohttp!=4.0.0a0,!=4.0.0a1->fsspec[http]>2021.06.0->pytorch_lightning==1.9.0) (22.2.0)\n",
            "Requirement already satisfied: frozenlist>=1.1.1 in /usr/local/lib/python3.8/dist-packages (from aiohttp!=4.0.0a0,!=4.0.0a1->fsspec[http]>2021.06.0->pytorch_lightning==1.9.0) (1.3.3)\n",
            "Requirement already satisfied: multidict<7.0,>=4.5 in /usr/local/lib/python3.8/dist-packages (from aiohttp!=4.0.0a0,!=4.0.0a1->fsspec[http]>2021.06.0->pytorch_lightning==1.9.0) (6.0.4)\n",
            "Requirement already satisfied: async-timeout<5.0,>=4.0.0a3 in /usr/local/lib/python3.8/dist-packages (from aiohttp!=4.0.0a0,!=4.0.0a1->fsspec[http]>2021.06.0->pytorch_lightning==1.9.0) (4.0.2)\n",
            "Requirement already satisfied: charset-normalizer<4.0,>=2.0 in /usr/local/lib/python3.8/dist-packages (from aiohttp!=4.0.0a0,!=4.0.0a1->fsspec[http]>2021.06.0->pytorch_lightning==1.9.0) (3.0.1)\n",
            "Requirement already satisfied: yarl<2.0,>=1.0 in /usr/local/lib/python3.8/dist-packages (from aiohttp!=4.0.0a0,!=4.0.0a1->fsspec[http]>2021.06.0->pytorch_lightning==1.9.0) (1.8.2)\n",
            "Requirement already satisfied: chardet<5,>=3.0.2 in /usr/local/lib/python3.8/dist-packages (from requests->fsspec[http]>2021.06.0->pytorch_lightning==1.9.0) (4.0.0)\n",
            "Requirement already satisfied: certifi>=2017.4.17 in /usr/local/lib/python3.8/dist-packages (from requests->fsspec[http]>2021.06.0->pytorch_lightning==1.9.0) (2022.12.7)\n",
            "Requirement already satisfied: idna<3,>=2.5 in /usr/local/lib/python3.8/dist-packages (from requests->fsspec[http]>2021.06.0->pytorch_lightning==1.9.0) (2.10)\n",
            "Requirement already satisfied: urllib3<1.27,>=1.21.1 in /usr/local/lib/python3.8/dist-packages (from requests->fsspec[http]>2021.06.0->pytorch_lightning==1.9.0) (1.26.14)\n",
            "Installing collected packages: pytorch_lightning\n",
            "  Attempting uninstall: pytorch_lightning\n",
            "    Found existing installation: pytorch-lightning 1.9.4\n",
            "    Uninstalling pytorch-lightning-1.9.4:\n",
            "      Successfully uninstalled pytorch-lightning-1.9.4\n",
            "Successfully installed pytorch_lightning-1.9.0\n"
          ]
        }
      ],
      "source": [
        "# This is must in order to avoid error \n",
        "!pip install pytorch_lightning==1.9.0"
      ]
    },
    {
      "cell_type": "markdown",
      "metadata": {
        "id": "pDsVn3f66uLe"
      },
      "source": [
        "numba may potentially needed later"
      ]
    },
    {
      "cell_type": "code",
      "execution_count": 7,
      "metadata": {
        "id": "EXFyGSIf6sca",
        "colab": {
          "base_uri": "https://localhost:8080/"
        },
        "outputId": "de0df9ea-12de-4be3-bacd-ff27911797b3"
      },
      "outputs": [
        {
          "output_type": "stream",
          "name": "stdout",
          "text": [
            "Looking in indexes: https://pypi.org/simple, https://us-python.pkg.dev/colab-wheels/public/simple/\n",
            "Requirement already satisfied: numba in /usr/local/lib/python3.8/dist-packages (0.56.4)\n",
            "Requirement already satisfied: setuptools in /usr/local/lib/python3.8/dist-packages (from numba) (57.4.0)\n",
            "Requirement already satisfied: importlib-metadata in /usr/local/lib/python3.8/dist-packages (from numba) (6.0.0)\n",
            "Requirement already satisfied: llvmlite<0.40,>=0.39.0dev0 in /usr/local/lib/python3.8/dist-packages (from numba) (0.39.1)\n",
            "Requirement already satisfied: numpy<1.24,>=1.18 in /usr/local/lib/python3.8/dist-packages (from numba) (1.22.4)\n",
            "Requirement already satisfied: zipp>=0.5 in /usr/local/lib/python3.8/dist-packages (from importlib-metadata->numba) (3.15.0)\n"
          ]
        }
      ],
      "source": [
        "!pip install numba"
      ]
    },
    {
      "cell_type": "code",
      "execution_count": 8,
      "metadata": {
        "id": "0PaMzYesGXw8",
        "colab": {
          "base_uri": "https://localhost:8080/"
        },
        "outputId": "92d936fd-b375-4287-9ea0-8c91c0d9a459"
      },
      "outputs": [
        {
          "output_type": "stream",
          "name": "stdout",
          "text": [
            "Looking in indexes: https://pypi.org/simple, https://us-python.pkg.dev/colab-wheels/public/simple/\n",
            "Collecting azure.storage.blob\n",
            "  Downloading azure_storage_blob-12.15.0-py3-none-any.whl (387 kB)\n",
            "\u001b[2K     \u001b[90m━━━━━━━━━━━━━━━━━━━━━━━━━━━━━━━━━━━━━━━\u001b[0m \u001b[32m387.8/387.8 KB\u001b[0m \u001b[31m8.5 MB/s\u001b[0m eta \u001b[36m0:00:00\u001b[0m\n",
            "\u001b[?25hCollecting cryptography>=2.1.4\n",
            "  Downloading cryptography-39.0.2-cp36-abi3-manylinux_2_28_x86_64.whl (4.2 MB)\n",
            "\u001b[2K     \u001b[90m━━━━━━━━━━━━━━━━━━━━━━━━━━━━━━━━━━━━━━━━\u001b[0m \u001b[32m4.2/4.2 MB\u001b[0m \u001b[31m66.9 MB/s\u001b[0m eta \u001b[36m0:00:00\u001b[0m\n",
            "\u001b[?25hCollecting isodate>=0.6.1\n",
            "  Downloading isodate-0.6.1-py2.py3-none-any.whl (41 kB)\n",
            "\u001b[2K     \u001b[90m━━━━━━━━━━━━━━━━━━━━━━━━━━━━━━━━━━━━━━━━\u001b[0m \u001b[32m41.7/41.7 KB\u001b[0m \u001b[31m4.9 MB/s\u001b[0m eta \u001b[36m0:00:00\u001b[0m\n",
            "\u001b[?25hRequirement already satisfied: typing-extensions>=4.0.1 in /usr/local/lib/python3.8/dist-packages (from azure.storage.blob) (4.5.0)\n",
            "Collecting azure-core<2.0.0,>=1.26.0\n",
            "  Downloading azure_core-1.26.3-py3-none-any.whl (174 kB)\n",
            "\u001b[2K     \u001b[90m━━━━━━━━━━━━━━━━━━━━━━━━━━━━━━━━━━━━━━\u001b[0m \u001b[32m174.5/174.5 KB\u001b[0m \u001b[31m23.3 MB/s\u001b[0m eta \u001b[36m0:00:00\u001b[0m\n",
            "\u001b[?25hRequirement already satisfied: requests>=2.18.4 in /usr/local/lib/python3.8/dist-packages (from azure-core<2.0.0,>=1.26.0->azure.storage.blob) (2.25.1)\n",
            "Requirement already satisfied: six>=1.11.0 in /usr/local/lib/python3.8/dist-packages (from azure-core<2.0.0,>=1.26.0->azure.storage.blob) (1.15.0)\n",
            "Requirement already satisfied: cffi>=1.12 in /usr/local/lib/python3.8/dist-packages (from cryptography>=2.1.4->azure.storage.blob) (1.15.1)\n",
            "Requirement already satisfied: pycparser in /usr/local/lib/python3.8/dist-packages (from cffi>=1.12->cryptography>=2.1.4->azure.storage.blob) (2.21)\n",
            "Requirement already satisfied: certifi>=2017.4.17 in /usr/local/lib/python3.8/dist-packages (from requests>=2.18.4->azure-core<2.0.0,>=1.26.0->azure.storage.blob) (2022.12.7)\n",
            "Requirement already satisfied: idna<3,>=2.5 in /usr/local/lib/python3.8/dist-packages (from requests>=2.18.4->azure-core<2.0.0,>=1.26.0->azure.storage.blob) (2.10)\n",
            "Requirement already satisfied: urllib3<1.27,>=1.21.1 in /usr/local/lib/python3.8/dist-packages (from requests>=2.18.4->azure-core<2.0.0,>=1.26.0->azure.storage.blob) (1.26.14)\n",
            "Requirement already satisfied: chardet<5,>=3.0.2 in /usr/local/lib/python3.8/dist-packages (from requests>=2.18.4->azure-core<2.0.0,>=1.26.0->azure.storage.blob) (4.0.0)\n",
            "Installing collected packages: isodate, cryptography, azure-core, azure.storage.blob\n",
            "Successfully installed azure-core-1.26.3 azure.storage.blob-12.15.0 cryptography-39.0.2 isodate-0.6.1\n"
          ]
        }
      ],
      "source": [
        "!pip install azure.storage.blob "
      ]
    },
    {
      "cell_type": "markdown",
      "metadata": {
        "id": "Hcdd8BpC14Dr"
      },
      "source": [
        "## Import libraries"
      ]
    },
    {
      "cell_type": "code",
      "execution_count": 10,
      "metadata": {
        "id": "Rurx0Qa-tUIy",
        "colab": {
          "base_uri": "https://localhost:8080/"
        },
        "outputId": "e23263a0-2330-42b1-d39c-c48e8911ad26"
      },
      "outputs": [
        {
          "output_type": "stream",
          "name": "stderr",
          "text": [
            "INFO:lightning_fabric.utilities.seed:Global seed set to 42\n"
          ]
        },
        {
          "output_type": "execute_result",
          "data": {
            "text/plain": [
              "42"
            ]
          },
          "metadata": {},
          "execution_count": 10
        }
      ],
      "source": [
        "import os\n",
        "import sys\n",
        "import warnings\n",
        "warnings.filterwarnings(\"ignore\")\n",
        "import copy\n",
        "import json\n",
        "from pathlib import Path\n",
        "import numpy as np\n",
        "import pandas as pd\n",
        "import matplotlib.pyplot as plt\n",
        "import tensorflow as tf\n",
        "import pytorch_lightning as pl\n",
        "from pytorch_lightning.callbacks import EarlyStopping, LearningRateMonitor\n",
        "from pytorch_lightning.loggers import TensorBoardLogger\n",
        "import torch\n",
        "import torch.nn as nn\n",
        "\n",
        "from pytorch_forecasting import Baseline, TemporalFusionTransformer, TimeSeriesDataSet\n",
        "from pytorch_forecasting.data import GroupNormalizer\n",
        "from pytorch_forecasting.metrics import SMAPE, PoissonLoss, QuantileLoss\n",
        "from pytorch_forecasting.models.temporal_fusion_transformer.tuning import optimize_hyperparameters\n",
        "from pytorch_forecasting import BaseModel, MAE\n",
        "from pytorch_forecasting.metrics.point import RMSE\n",
        "from pytorch_forecasting.data.encoders import NaNLabelEncoder\n",
        "\n",
        "# Load locale custome modules\n",
        "os.chdir(MY_HOME_ABS_PATH)\n",
        "sys.path.append('./.cred')\n",
        "sys.path.append('./code/src/tools')\n",
        "sys.path.append('./code/src/tools/CloudIO')\n",
        "\n",
        "from azure.storage.blob import BlobServiceClient\n",
        "from AzStorageClient import AzStorageClient\n",
        "# from CloudIO.AzStorageClient import AzStorageClient\n",
        "from data_pipeline_lib import *\n",
        "\n",
        "pd.set_option('display.max_columns', None)\n",
        "pd.set_option('display.float_format', lambda x: '%.5f' % x)\n",
        "pl.seed_everything(42)"
      ]
    },
    {
      "cell_type": "markdown",
      "metadata": {
        "id": "5LRk1xhgDrvZ"
      },
      "source": [
        "# Load data from Azure blob"
      ]
    },
    {
      "cell_type": "code",
      "execution_count": 15,
      "metadata": {
        "id": "Ndvl36VUIDjf"
      },
      "outputs": [],
      "source": [
        "root_dir =  MY_HOME_ABS_PATH\n",
        "tmp_dir =  root_dir + os.sep + '.tmp'\n",
        "raw_data_dir = tmp_dir\n",
        "data_dir = root_dir + os.sep + 'data'\n",
        "cred_dir = root_dir + os.sep + '.cred'\n",
        "az_cred_file = cred_dir + os.sep + 'azblobcred.json'"
      ]
    },
    {
      "cell_type": "code",
      "execution_count": 19,
      "metadata": {
        "id": "vtvbiGCOVf7z"
      },
      "outputs": [],
      "source": [
        "# AzStorageClient.listBlobs(container)\n",
        "container = \"baseline-data\"\n",
        "cred_file = az_cred_file\n",
        "ext = \"parquet\"\n",
        "\n",
        "# Container and file name\n",
        "blob_name_train = \"baseline-train-v-1-i-knn.parquet\"\n",
        "blob_name_val = \"baseline-test-v-1-i-knn.parquet\""
      ]
    },
    {
      "cell_type": "code",
      "execution_count": 20,
      "metadata": {
        "id": "BkPeQaLXWayq"
      },
      "outputs": [],
      "source": [
        "if os.path.exists(cred_file):\n",
        "  connect_str = \"\"\n",
        "  with open(cred_file, \"rb\") as f:\n",
        "      data = json.load(f)\n",
        "      connect_str = data['connectionstr']\n",
        "      blob_svc_client = BlobServiceClient.from_connection_string(connect_str)\n",
        "      tokens = connect_str.split(';')\n",
        "      for t in tokens:\n",
        "        if \"AccountName=\" in t:\n",
        "          AccountName = t[len(\"AccountName=\"):]\n",
        "        elif \"AccountKey=\" in t:\n",
        "          AccountKey = t[len(\"AccountKey=\"):]"
      ]
    },
    {
      "cell_type": "code",
      "execution_count": 25,
      "metadata": {
        "id": "z8T-YT1fEXjR",
        "colab": {
          "base_uri": "https://localhost:8080/"
        },
        "outputId": "121dd68d-8ff3-4848-9e1c-abc1697572b1"
      },
      "outputs": [
        {
          "output_type": "stream",
          "name": "stdout",
          "text": [
            "Train size: (631032, 49)\n",
            "Test size: (234888, 49)\n"
          ]
        }
      ],
      "source": [
        "# Download train file\n",
        "train_df = None\n",
        "if not (os.path.exists(tmp_dir+blob_name_train)):\n",
        "    azStorageClient = AzStorageClient(az_cred_file)\n",
        "    file_stream = azStorageClient.downloadBlob2Stream(container, blob_name_train)\n",
        "    train_df = pd.read_parquet(file_stream, engine='pyarrow')\n",
        "    train_df.to_parquet(tmp_dir + blob_name_train)\n",
        "else:\n",
        "    train_df = pd.read_parquet(tmp_dir + blob_name_train)\n",
        "\n",
        "\n",
        "# Load Test Data\n",
        "test_df = None\n",
        "if not (os.path.exists(tmp_dir+blob_name_val)):\n",
        "    azStorageClient = AzStorageClient(az_cred_file)\n",
        "    file_stream = azStorageClient.downloadBlob2Stream(container, blob_name_val)\n",
        "    test_df = pd.read_parquet(file_stream, engine='pyarrow')\n",
        "    test_df.to_parquet(tmp_dir + blob_name_val)\n",
        "else:\n",
        "    test_df = pd.read_parquet(tmp_dir + blob_name_val)\n",
        "\n",
        "print(f\"Train size: {train_df.shape}\")\n",
        "print(f\"Test size: {test_df.shape}\")"
      ]
    },
    {
      "cell_type": "markdown",
      "metadata": {
        "id": "xrphWFPqzUv8"
      },
      "source": [
        "# Data Preprocessing\n",
        "For development, subsetting to a few sites, and ~300 days for each site"
      ]
    },
    {
      "cell_type": "code",
      "source": [
        "train_sites = ['CH-Lae','FR-Pue','IT-Lav','US-ARM','US-NR1','US-SRM','US-Ton',\n",
        "               'US-UMB','US-Var','US-Vcp','US-Wkg']#['CH-Lae', 'FR-Pue']\n",
        "val_sites = ['ES-LJu', 'FI-Hyy']\n",
        "\n",
        "# Subset train_df to save some time\n",
        "print(f\"Initial Train Sites: {train_df['site_id'].unique()}\")\n",
        "print(f\"Initial num train timesteps: {len(train_df)}\")\n",
        "val_df_split1 = train_df.loc[train_df['site_id'].isin(val_sites), ].copy()\n",
        "train_df = train_df.loc[train_df['site_id'].isin(train_sites), ].copy()\n",
        "print(f\"Trimmed Train Sites: {train_df['site_id'].unique()}\")\n",
        "print(f\"Val Sites: {val_df_split1['site_id'].unique()}\")\n",
        "print(f\"Test Sites: {test_df['site_id'].unique()}\")\n",
        "\n",
        "# Subset the time series within sites to save more time (300 days)\n",
        "train_df = train_df.loc[train_df['timestep_idx_local'] < 300, ].copy()\n",
        "print(f\"Subset num train timesteps: {len(train_df)}\")\n",
        "val_df_split1 = val_df_split1.loc[val_df_split1['timestep_idx_local'] < 300, ].copy()\n",
        "print(f\"Subset num val timesteps: {len(val_df_split1)}\")"
      ],
      "metadata": {
        "colab": {
          "base_uri": "https://localhost:8080/"
        },
        "id": "Pacr4PtNsYC6",
        "outputId": "6a4bed2a-7dc2-4aa1-d9de-e1fa3a964b8b"
      },
      "execution_count": 26,
      "outputs": [
        {
          "output_type": "stream",
          "name": "stdout",
          "text": [
            "Initial Train Sites: ['CH-Lae' 'ES-LJu' 'FI-Hyy' 'FR-Pue' 'IT-Lav' 'US-ARM' 'US-NR1' 'US-SRM'\n",
            " 'US-Ton' 'US-UMB' 'US-Var' 'US-Vcp' 'US-Wkg']\n",
            "Initial num train timesteps: 631032\n",
            "Trimmed Train Sites: ['CH-Lae' 'FR-Pue' 'IT-Lav' 'US-ARM' 'US-NR1' 'US-SRM' 'US-Ton' 'US-UMB'\n",
            " 'US-Var' 'US-Vcp' 'US-Wkg']\n",
            "Val Sites: ['ES-LJu' 'FI-Hyy']\n",
            "Test Sites: ['CA-Cbo' 'ES-LM2' 'FR-Lam' 'US-AR1' 'US-GLE' 'US-Seg']\n",
            "Subset num train timesteps: 3300\n",
            "Subset num val timesteps: 600\n"
          ]
        }
      ]
    },
    {
      "cell_type": "code",
      "execution_count": 27,
      "metadata": {
        "id": "XJ8PbL85zarF"
      },
      "outputs": [],
      "source": [
        "# Convert Dtypes\n",
        "cat_cols = [\"year\", \"month\", \"day\", \"hour\", \"IGBP\", \"koppen_main\", \"koppen_sub\"]\n",
        "for col in cat_cols:\n",
        "  train_df[col] = train_df[col].astype(str).astype(\"category\")\n",
        "  val_df_split1[col] = val_df_split1[col].astype(str).astype(\"category\")\n",
        "  test_df[col] = test_df[col].astype(str).astype(\"category\")"
      ]
    },
    {
      "cell_type": "markdown",
      "source": [
        "## Initialize TS Dataset"
      ],
      "metadata": {
        "id": "Yx8fHH5jr4z3"
      }
    },
    {
      "cell_type": "code",
      "execution_count": 28,
      "metadata": {
        "id": "ZCPmz6c6FxSQ"
      },
      "outputs": [],
      "source": [
        "# (data is already splited to train/validation set)\n",
        "max_prediction_length = 1 #24\n",
        "max_encoder_length = 24*7"
      ]
    },
    {
      "cell_type": "code",
      "execution_count": null,
      "metadata": {
        "id": "EiRHlcR60ZJQ"
      },
      "outputs": [],
      "source": [
        "# John's setting\n",
        "training = TimeSeriesDataSet(\n",
        "    train_df, # <------ no longer subsetting, option 1 split can use entire train site sequence\n",
        "    time_idx=\"timestep_idx_global\",\n",
        "    target=\"GPP_NT_VUT_REF\",\n",
        "    group_ids=[\"site_id\"],\n",
        "    allow_missing_timesteps=False, # <---- turned off bc gaps are filled\n",
        "    min_encoder_length=max_encoder_length,\n",
        "    max_encoder_length=max_encoder_length,\n",
        "    min_prediction_length=max_prediction_length,\n",
        "    max_prediction_length=max_prediction_length,\n",
        "    static_categoricals=[\"IGBP\",\"koppen_main\",\"koppen_sub\"],\n",
        "    static_reals=[], #elevation lat long\n",
        "    time_varying_known_categoricals=[\"year\", \"month\", \"day\", \"hour\"],\n",
        "    time_varying_known_reals=[\"timestep_idx_global\", 'TA_ERA', 'SW_IN_ERA', \n",
        "                              'LW_IN_ERA', 'VPD_ERA', 'P_ERA', 'PA_ERA', 'EVI',\n",
        "       'NDVI', 'NIRv', 'b1', 'b2', 'b3', 'b4', 'b5', 'b6', 'b7',  'BESS-PAR',\n",
        "       'BESS-PARdiff', 'BESS-RSDN', 'CSIF-SIFdaily', 'PET', 'Ts', 'ESACCI-sm',\n",
        "       'NDWI', 'Percent_Snow', 'Fpar', 'Lai', 'LST_Day','LST_Night'],\n",
        "    time_varying_unknown_categoricals=[], \n",
        "    time_varying_unknown_reals=[\"GPP_NT_VUT_REF\"],\n",
        "    target_normalizer=None, # <---- not sure if we need this given we scale in data pipeline.... but might want to change to scale at Group level?\n",
        "    categorical_encoders={'IGBP': NaNLabelEncoder(add_nan=True),\n",
        "                          'koppen_main': NaNLabelEncoder(add_nan=True),\n",
        "                          'koppen_sub': NaNLabelEncoder(add_nan=True),\n",
        "                          'year': NaNLabelEncoder(add_nan=True), # temp for subset\n",
        "                          'month': NaNLabelEncoder(add_nan=True), # temp for subset\n",
        "                          'day': NaNLabelEncoder(add_nan=True), # temp for subset\n",
        "                          },\n",
        "    add_relative_time_idx=True,\n",
        "    add_target_scales=False, # <------- turned off\n",
        "    add_encoder_length=False, # <------- turned off\n",
        ")\n",
        "\n",
        "# create validation set (predict=True) using the full site sequence for val sites\n",
        "validation = TimeSeriesDataSet.from_dataset(training, val_df_split1, predict=True, stop_randomization=True)\n",
        "\n",
        "# create dataloaders for model\n",
        "batch_size = 2  # set this between 32 to 128\n",
        "train_dataloader = training.to_dataloader(train=True, batch_size=batch_size, num_workers=0)\n",
        "val_dataloader = validation.to_dataloader(train=False, batch_size=batch_size, num_workers=0) # <--- removed the batch_size*10"
      ]
    },
    {
      "cell_type": "code",
      "source": [
        "# create validation set (predict=True) using the full site sequence for val sites\n",
        "validation = TimeSeriesDataSet.from_dataset(training, val_df_split1, predict=True, stop_randomization=True)\n",
        "\n",
        "# create dataloaders for model\n",
        "batch_size = 32  # set this between 32 to 128\n",
        "train_dataloader = training.to_dataloader(train=True, batch_size=batch_size, num_workers=0)\n",
        "val_dataloader = training.to_dataloader(train=False, batch_size=batch_size, num_workers=0) # <--- removed the batch_size*10"
      ],
      "metadata": {
        "id": "NK66Ftupzh64"
      },
      "execution_count": 33,
      "outputs": []
    },
    {
      "cell_type": "markdown",
      "metadata": {
        "id": "AOXGuL46E9tj"
      },
      "source": [
        "# Create \"Baseline\" model "
      ]
    },
    {
      "cell_type": "markdown",
      "metadata": {
        "id": "ICnwJfPaJUWv"
      },
      "source": [
        "### (Reference on \"baseline\":\\)\n",
        "\n",
        "- Baseline model that uses last known target value to make prediction."
      ]
    },
    {
      "cell_type": "markdown",
      "metadata": {
        "id": "q1bnCxmtFFRo"
      },
      "source": [
        "https://pytorch-forecasting.readthedocs.io/en/stable/api/pytorch_forecasting.models.baseline.Baseline.html#pytorch_forecasting.models.baseline.Baseline"
      ]
    },
    {
      "cell_type": "code",
      "execution_count": 34,
      "metadata": {
        "id": "FWETVPRHEi4W",
        "colab": {
          "base_uri": "https://localhost:8080/"
        },
        "outputId": "a2491a36-05a4-4077-a277-c0f272396c20"
      },
      "outputs": [
        {
          "output_type": "execute_result",
          "data": {
            "text/plain": [
              "1.6422017812728882"
            ]
          },
          "metadata": {},
          "execution_count": 34
        }
      ],
      "source": [
        "# calculate baseline mean absolute error, i.e. predict next value as the last available value from the history\n",
        "actuals = torch.cat([y for x, (y, weight) in iter(val_dataloader)])\n",
        "baseline_predictions = Baseline().predict(val_dataloader)\n",
        "(actuals - baseline_predictions).abs().mean().item()"
      ]
    },
    {
      "cell_type": "markdown",
      "metadata": {
        "id": "TvAxjXJcGI2z"
      },
      "source": [
        "# Temporal Fusion Transformer"
      ]
    },
    {
      "cell_type": "markdown",
      "metadata": {
        "id": "aM43Bc9QCkej"
      },
      "source": [
        "### Optimize learning rate (later)"
      ]
    },
    {
      "cell_type": "code",
      "execution_count": null,
      "metadata": {
        "id": "sLTZFhOfEi1f"
      },
      "outputs": [],
      "source": [
        "# # configure network and trainer\n",
        "# pl.seed_everything(42)\n",
        "# trainer = pl.Trainer(\n",
        "#     gpus=1,\n",
        "#     # clipping gradients is a hyperparameter and important to prevent divergance\n",
        "#     # of the gradient for recurrent neural networks\n",
        "#     gradient_clip_val=0.1,\n",
        "# )\n",
        "\n",
        "# tft = TemporalFusionTransformer.from_dataset(\n",
        "#     training,\n",
        "#     learning_rate=0.03,\n",
        "#     hidden_size=16,  # most important hyperparameter apart from learning rate\n",
        "#     attention_head_size=1, #Set to up to 4 for large datasets\n",
        "#     dropout=0.1,  # between 0.1 and 0.3 are good values\n",
        "#     hidden_continuous_size=8,  # set to <= hidden_size\n",
        "#     output_size=7,  # 7 quantiles by default\n",
        "#     loss=QuantileLoss(),\n",
        "#     reduce_on_plateau_patience=4, # reduce learning rate if no improvement in validation loss after x epochs\n",
        "#     optimizer=\"adam\"\n",
        "# )\n",
        "# print(f\"Number of parameters in network: {tft.size()/1e3:.1f}k\")\n",
        "\n",
        "# # find optimal learning rate\n",
        "# res = trainer.tuner.lr_find(\n",
        "#     tft,\n",
        "#     train_dataloaders=train_dataloader,\n",
        "#     val_dataloaders=val_dataloader,\n",
        "#     max_lr=5e-2,\n",
        "#     min_lr=1e-5,\n",
        "# )\n",
        "\n",
        "# print(f\"suggested learning rate: {res.suggestion()}\")\n",
        "# fig = res.plot(show=True, suggest=True)\n",
        "# fig.show()"
      ]
    },
    {
      "cell_type": "markdown",
      "metadata": {
        "id": "714ggBwOIdir"
      },
      "source": [
        "## Train TFT"
      ]
    },
    {
      "cell_type": "code",
      "execution_count": 35,
      "metadata": {
        "id": "xftep6_XgZd2",
        "colab": {
          "base_uri": "https://localhost:8080/"
        },
        "outputId": "3414d4e7-c458-4730-8b79-23aaeb023499"
      },
      "outputs": [
        {
          "output_type": "stream",
          "name": "stdout",
          "text": [
            "Number of parameters in network: 60.5k\n"
          ]
        }
      ],
      "source": [
        "tft = TemporalFusionTransformer.from_dataset(\n",
        "    training,\n",
        "    learning_rate=1e-3,\n",
        "    hidden_size=16,  # most important hyperparameter apart from learning rate\n",
        "    attention_head_size=1, #Set to up to 4 for large datasets\n",
        "    dropout=0.1,  # between 0.1 and 0.3 are good values\n",
        "    hidden_continuous_size=8,  # set to <= hidden_size\n",
        "    output_size=7,  # 7 quantiles by default\n",
        "    loss=QuantileLoss(),\n",
        "    logging_metrics=nn.ModuleList([MAE(), RMSE()]), #SMAPE(), #MAPE() #<---- added metrics to report in TensorBoard\n",
        "    reduce_on_plateau_patience=4, # reduce learning rate if no improvement in validation loss after x epochs\n",
        "    optimizer=\"adam\"\n",
        "    )\n",
        "print(f\"Number of parameters in network: {tft.size()/1e3:.1f}k\")"
      ]
    },
    {
      "cell_type": "code",
      "execution_count": 36,
      "metadata": {
        "id": "SG2qQnn-KxBy",
        "colab": {
          "base_uri": "https://localhost:8080/",
          "height": 733,
          "referenced_widgets": [
            "a0a788e9451942c0a01033921f0330a9",
            "186048390bcd44798581094594208a4f",
            "605c6a790943478f985445406909252b",
            "9866ef5d6bea4247b4bb2807abc0ce0e",
            "b72732e93d5f4b0aa38f90b6130a196b",
            "713543fa09eb466f82360a7b27494a5a",
            "6cda84889040447192bf4d283c0592e7",
            "bb03c685a014480e933328b8d4d5a454",
            "07603741030f41ae975487b18d6b773d",
            "f1989c525292425b92a10ad2ea66f47e",
            "9b3337c75a304b828dd04c83d8a4c5d0",
            "36a8801106e244b386d91703ea1bb0aa",
            "bc1ced7c7b5745b19217cfa75b6f40d4",
            "f0953ffcd2a8477bae4d682d3af87a3c",
            "ad29a8192f1740b08e1479251b7a6483",
            "c3f82b8a6ab44ab2b6d25e7e784c446a",
            "d70bd639623647a7aabac3468fa7333f",
            "a251af7e24c84dffbef84689d6d36218",
            "20537e3d7ce64518921d83140f3d26c9",
            "011bb941b9154ebca3540eb8108dc0f5",
            "23987bb1f5734990b75adee3f93272ac",
            "8f6a35ae0bb74035b24d33e780054382",
            "26c3eddcda67478f83d03b8920087698",
            "742a1825b8824e3fa5820728be1e52aa",
            "be33bdef2c844cc98c466c56e76a79bf",
            "a0c88822de6043118a4464f8a5e847ee",
            "6eb7d0f842e442c99399d74ee2374dad",
            "d1ff081debf24915a23162154883d9aa",
            "013c3ad96f6e4466ba0b034cdd0bcb6d",
            "2129495c4015468e8364063bb30998f7",
            "0e24f9ffb4514d158665d04c67a38f05",
            "d10e9569775b4fafaf9455fb0aeb97a8",
            "474025f075f34ac186c67712802167a7",
            "a28f9064c7f64b6eb8bf046769e16eca",
            "aed4a6be84da495ba58d3f6906386180",
            "d0db25d47b6e4b04be8d0a0522b0d20e",
            "93ac2ddbe71d44918885dc6ce8d95972",
            "26430b4dd4684991b7b4b362a5717572",
            "b9a446a4f94443baa59e3be072defdcb",
            "86ae74b3d03e4dafa62985e2d7e6f364",
            "5f4f44cd4c8e4e4883221bf8e869547e",
            "a496161121b945c8906f7fae516ca20a",
            "b38939ea17544ef1a83e5384692e195e",
            "c84a2bdd11924800904c04eca7b63bfa"
          ]
        },
        "outputId": "c2e393e4-2f56-4d77-beb4-77bdbd1edaf8"
      },
      "outputs": [
        {
          "output_type": "stream",
          "name": "stderr",
          "text": [
            "INFO:pytorch_lightning.utilities.rank_zero:GPU available: True (cuda), used: True\n",
            "INFO:pytorch_lightning.utilities.rank_zero:TPU available: False, using: 0 TPU cores\n",
            "INFO:pytorch_lightning.utilities.rank_zero:IPU available: False, using: 0 IPUs\n",
            "INFO:pytorch_lightning.utilities.rank_zero:HPU available: False, using: 0 HPUs\n",
            "INFO:lightning_fabric.accelerators.cuda:You are using a CUDA device ('NVIDIA A100-SXM4-40GB') that has Tensor Cores. To properly utilize them, you should set `torch.set_float32_matmul_precision('medium' | 'high')` which will trade-off precision for performance. For more details, read https://pytorch.org/docs/stable/generated/torch.set_float32_matmul_precision.html#torch.set_float32_matmul_precision\n",
            "INFO:pytorch_lightning.accelerators.cuda:LOCAL_RANK: 0 - CUDA_VISIBLE_DEVICES: [0]\n",
            "INFO:pytorch_lightning.callbacks.model_summary:\n",
            "   | Name                               | Type                            | Params\n",
            "----------------------------------------------------------------------------------------\n",
            "0  | loss                               | QuantileLoss                    | 0     \n",
            "1  | logging_metrics                    | ModuleList                      | 0     \n",
            "2  | input_embeddings                   | MultiEmbedding                  | 405   \n",
            "3  | prescalers                         | ModuleDict                      | 512   \n",
            "4  | static_variable_selection          | VariableSelectionNetwork        | 237   \n",
            "5  | encoder_variable_selection         | VariableSelectionNetwork        | 23.4 K\n",
            "6  | decoder_variable_selection         | VariableSelectionNetwork        | 22.7 K\n",
            "7  | static_context_variable_selection  | GatedResidualNetwork            | 1.1 K \n",
            "8  | static_context_initial_hidden_lstm | GatedResidualNetwork            | 1.1 K \n",
            "9  | static_context_initial_cell_lstm   | GatedResidualNetwork            | 1.1 K \n",
            "10 | static_context_enrichment          | GatedResidualNetwork            | 1.1 K \n",
            "11 | lstm_encoder                       | LSTM                            | 2.2 K \n",
            "12 | lstm_decoder                       | LSTM                            | 2.2 K \n",
            "13 | post_lstm_gate_encoder             | GatedLinearUnit                 | 544   \n",
            "14 | post_lstm_add_norm_encoder         | AddNorm                         | 32    \n",
            "15 | static_enrichment                  | GatedResidualNetwork            | 1.4 K \n",
            "16 | multihead_attn                     | InterpretableMultiHeadAttention | 1.1 K \n",
            "17 | post_attn_gate_norm                | GateAddNorm                     | 576   \n",
            "18 | pos_wise_ff                        | GatedResidualNetwork            | 1.1 K \n",
            "19 | pre_output_gate_norm               | GateAddNorm                     | 576   \n",
            "20 | output_layer                       | Linear                          | 119   \n",
            "----------------------------------------------------------------------------------------\n",
            "60.5 K    Trainable params\n",
            "0         Non-trainable params\n",
            "60.5 K    Total params\n",
            "0.242     Total estimated model params size (MB)\n"
          ]
        },
        {
          "output_type": "display_data",
          "data": {
            "text/plain": [
              "Sanity Checking: 0it [00:00, ?it/s]"
            ],
            "application/vnd.jupyter.widget-view+json": {
              "version_major": 2,
              "version_minor": 0,
              "model_id": "a0a788e9451942c0a01033921f0330a9"
            }
          },
          "metadata": {}
        },
        {
          "output_type": "display_data",
          "data": {
            "text/plain": [
              "Training: 0it [00:00, ?it/s]"
            ],
            "application/vnd.jupyter.widget-view+json": {
              "version_major": 2,
              "version_minor": 0,
              "model_id": "36a8801106e244b386d91703ea1bb0aa"
            }
          },
          "metadata": {}
        },
        {
          "output_type": "display_data",
          "data": {
            "text/plain": [
              "Validation: 0it [00:00, ?it/s]"
            ],
            "application/vnd.jupyter.widget-view+json": {
              "version_major": 2,
              "version_minor": 0,
              "model_id": "26c3eddcda67478f83d03b8920087698"
            }
          },
          "metadata": {}
        },
        {
          "output_type": "display_data",
          "data": {
            "text/plain": [
              "Validation: 0it [00:00, ?it/s]"
            ],
            "application/vnd.jupyter.widget-view+json": {
              "version_major": 2,
              "version_minor": 0,
              "model_id": "a28f9064c7f64b6eb8bf046769e16eca"
            }
          },
          "metadata": {}
        },
        {
          "output_type": "stream",
          "name": "stderr",
          "text": [
            "INFO:pytorch_lightning.utilities.rank_zero:`Trainer.fit` stopped: `max_epochs=2` reached.\n"
          ]
        }
      ],
      "source": [
        "# configure network and trainer\n",
        "early_stop_callback = EarlyStopping(monitor=\"val_loss\", min_delta=1e-4, patience=10, verbose=False, mode=\"min\")\n",
        "lr_logger = LearningRateMonitor()  # log the learning rate\n",
        "logger = TensorBoardLogger(\"lightning_logs\")  # logging results to a tensorboard\n",
        "\n",
        "trainer = pl.Trainer(\n",
        "    max_epochs=2,\n",
        "    enable_model_summary=True,\n",
        "    gradient_clip_val=0.1,\n",
        "    fast_dev_run=False,  # comment in to check that network or dataset has no serious bugs\n",
        "    accelerator=\"gpu\",\n",
        "    gpus=1,\n",
        "    callbacks=[lr_logger, early_stop_callback],\n",
        "    logger=logger,\n",
        ")\n",
        "\n",
        "trainer.fit(\n",
        "    tft,\n",
        "    train_dataloaders=train_dataloader,\n",
        "    val_dataloaders=val_dataloader,\n",
        ")"
      ]
    },
    {
      "cell_type": "markdown",
      "metadata": {
        "id": "dB-1f6RR6AFV"
      },
      "source": [
        "## Check Tensorboard\n",
        "\n",
        "handling errors\n",
        "- https://github.com/tensorflow/tensorflow/issues/57679#issuecomment-1249197802"
      ]
    },
    {
      "cell_type": "code",
      "execution_count": null,
      "metadata": {
        "id": "7rcOJF8D5_zG",
        "colab": {
          "base_uri": "https://localhost:8080/"
        },
        "outputId": "d0394cfb-909b-4c93-af06-b6063d6e939a"
      },
      "outputs": [
        {
          "output_type": "stream",
          "name": "stdout",
          "text": [
            "tensorboard==2.11.2\n",
            "tensorboard-data-server==0.6.1\n",
            "tensorboard-plugin-wit==1.8.1\n",
            "Looking in indexes: https://pypi.org/simple, https://us-python.pkg.dev/colab-wheels/public/simple/, https://pypi.ngc.nvidia.com\n",
            "Requirement already satisfied: setuptools in /usr/local/lib/python3.8/dist-packages (67.4.0)\n",
            "Requirement already satisfied: pip in /usr/local/lib/python3.8/dist-packages (23.0.1)\n",
            "\u001b[33mWARNING: Running pip as the 'root' user can result in broken permissions and conflicting behaviour with the system package manager. It is recommended to use a virtual environment instead: https://pip.pypa.io/warnings/venv\u001b[0m\u001b[33m\n",
            "\u001b[0mLooking in indexes: https://pypi.org/simple, https://us-python.pkg.dev/colab-wheels/public/simple/, https://pypi.ngc.nvidia.com\n",
            "Requirement already satisfied: nvidia-pyindex in /usr/local/lib/python3.8/dist-packages (1.0.9)\n",
            "\u001b[33mWARNING: Running pip as the 'root' user can result in broken permissions and conflicting behaviour with the system package manager. It is recommended to use a virtual environment instead: https://pip.pypa.io/warnings/venv\u001b[0m\u001b[33m\n",
            "\u001b[0mLooking in indexes: https://pypi.org/simple, https://us-python.pkg.dev/colab-wheels/public/simple/, https://pypi.ngc.nvidia.com\n",
            "Collecting nvidia-tensorrt==7.2.3.4\n",
            "  Using cached https://developer.download.nvidia.com/compute/redist/nvidia-tensorrt/nvidia_tensorrt-7.2.3.4-cp38-none-linux_x86_64.whl (265.2 MB)\n",
            "Requirement already satisfied: nvidia-cuda-nvrtc<11.2,>=11.1 in /usr/local/lib/python3.8/dist-packages (from nvidia-tensorrt==7.2.3.4) (11.1.105)\n",
            "Requirement already satisfied: nvidia-cuda-runtime<12,>=11 in /usr/local/lib/python3.8/dist-packages (from nvidia-tensorrt==7.2.3.4) (11.3.58)\n",
            "Requirement already satisfied: nvidia-cudnn<9,>=8 in /usr/local/lib/python3.8/dist-packages (from nvidia-tensorrt==7.2.3.4) (8.2.0.51)\n",
            "Requirement already satisfied: nvidia-cublas<12,>=11 in /usr/local/lib/python3.8/dist-packages (from nvidia-tensorrt==7.2.3.4) (11.5.1.101)\n",
            "Requirement already satisfied: setuptools in /usr/local/lib/python3.8/dist-packages (from nvidia-cublas<12,>=11->nvidia-tensorrt==7.2.3.4) (67.4.0)\n",
            "Requirement already satisfied: wheel in /usr/local/lib/python3.8/dist-packages (from nvidia-cublas<12,>=11->nvidia-tensorrt==7.2.3.4) (0.38.4)\n",
            "Installing collected packages: nvidia-tensorrt\n",
            "Successfully installed nvidia-tensorrt-7.2.3.4\n",
            "\u001b[33mWARNING: Running pip as the 'root' user can result in broken permissions and conflicting behaviour with the system package manager. It is recommended to use a virtual environment instead: https://pip.pypa.io/warnings/venv\u001b[0m\u001b[33m\n",
            "\u001b[0m"
          ]
        }
      ],
      "source": [
        "# %load_ext tensorboard\n",
        "! pip list --format=freeze | grep tensorboard\n",
        "%reload_ext tensorboard\n",
        "!pip install --upgrade setuptools pip\n",
        "!pip install nvidia-pyindex\n",
        "!pip install nvidia-tensorrt==7.2.3.4"
      ]
    },
    {
      "cell_type": "code",
      "execution_count": null,
      "metadata": {
        "id": "ZUbBbCdO8kos",
        "colab": {
          "base_uri": "https://localhost:8080/"
        },
        "outputId": "0ddb98fc-7175-42cf-c51c-05add2de51f5"
      },
      "outputs": [
        {
          "output_type": "stream",
          "name": "stdout",
          "text": [
            "7.2.3.4\n"
          ]
        }
      ],
      "source": [
        "!python3 -c \"import tensorrt; print(tensorrt.__version__); assert tensorrt.Builder(tensorrt.Logger())\""
      ]
    },
    {
      "cell_type": "code",
      "execution_count": null,
      "metadata": {
        "id": "YLH1wxsQ8sKM",
        "colab": {
          "base_uri": "https://localhost:8080/"
        },
        "outputId": "9d30a66f-1b9f-4418-f3fd-0171691cb4cd"
      },
      "outputs": [
        {
          "output_type": "stream",
          "name": "stdout",
          "text": [
            "/bin/bash: /etc/conda/activate.d/env_vars.sh: No such file or directory\n"
          ]
        }
      ],
      "source": [
        "! echo 'export LD_LIBRARY_PATH=$LD_LIBRARY_PATH:$CONDA_PREFIX/lib/python3.8/site-packages/tensorrt/' >> $CONDA_PREFIX/etc/conda/activate.d/env_vars.sh"
      ]
    },
    {
      "cell_type": "code",
      "execution_count": null,
      "metadata": {
        "id": "x3ECfhro8kkS"
      },
      "outputs": [],
      "source": [
        "!export LD_LIBRARY_PATH=$LD_LIBRARY_PATH:$CONDA_PREFIX/lib/python3.8/site-packages/tensorrt/"
      ]
    },
    {
      "cell_type": "code",
      "execution_count": null,
      "metadata": {
        "id": "7Eu3yeKG8vw6",
        "colab": {
          "base_uri": "https://localhost:8080/"
        },
        "outputId": "e4b80e2f-574e-4533-8fd0-855516c2d905"
      },
      "outputs": [
        {
          "output_type": "stream",
          "name": "stdout",
          "text": [
            "2023-03-02 19:16:22.423462: W tensorflow/compiler/xla/stream_executor/platform/default/dso_loader.cc:64] Could not load dynamic library 'libnvinfer.so.7'; dlerror: libnvinfer.so.7: cannot open shared object file: No such file or directory; LD_LIBRARY_PATH: /usr/lib64-nvidia\n",
            "2023-03-02 19:16:22.423613: W tensorflow/compiler/xla/stream_executor/platform/default/dso_loader.cc:64] Could not load dynamic library 'libnvinfer_plugin.so.7'; dlerror: libnvinfer_plugin.so.7: cannot open shared object file: No such file or directory; LD_LIBRARY_PATH: /usr/lib64-nvidia\n",
            "2023-03-02 19:16:22.423636: W tensorflow/compiler/tf2tensorrt/utils/py_utils.cc:38] TF-TRT Warning: Cannot dlopen some TensorRT libraries. If you would like to use Nvidia GPU with TensorRT, please make sure the missing libraries mentioned above are installed properly.\n",
            "[PhysicalDevice(name='/physical_device:GPU:0', device_type='GPU')]\n"
          ]
        }
      ],
      "source": [
        "!python3 -c \"import tensorflow as tf; print(tf.config.list_physical_devices('GPU'))\""
      ]
    },
    {
      "cell_type": "code",
      "execution_count": null,
      "metadata": {
        "id": "6UJn1FRK5_t4",
        "colab": {
          "base_uri": "https://localhost:8080/",
          "height": 553
        },
        "outputId": "b346def6-c811-47ff-a544-255b2d8a7b4d"
      },
      "outputs": [
        {
          "output_type": "display_data",
          "data": {
            "text/plain": [
              "ERROR: Failed to launch TensorBoard (exited with 2).\n",
              "Contents of stderr:\n",
              "2023-03-02 19:16:33.952665: W tensorflow/compiler/xla/stream_executor/platform/default/dso_loader.cc:64] Could not load dynamic library 'libnvinfer.so.7'; dlerror: libnvinfer.so.7: cannot open shared object file: No such file or directory; LD_LIBRARY_PATH: /usr/lib64-nvidia\n",
              "2023-03-02 19:16:33.952814: W tensorflow/compiler/xla/stream_executor/platform/default/dso_loader.cc:64] Could not load dynamic library 'libnvinfer_plugin.so.7'; dlerror: libnvinfer_plugin.so.7: cannot open shared object file: No such file or directory; LD_LIBRARY_PATH: /usr/lib64-nvidia\n",
              "2023-03-02 19:16:33.952832: W tensorflow/compiler/tf2tensorrt/utils/py_utils.cc:38] TF-TRT Warning: Cannot dlopen some TensorRT libraries. If you would like to use Nvidia GPU with TensorRT, please make sure the missing libraries mentioned above are installed properly.\n",
              "usage: tensorboard [-h] [--helpfull] [--logdir PATH] [--logdir_spec PATH_SPEC]\n",
              "                   [--host ADDR] [--bind_all] [--port PORT]\n",
              "                   [--reuse_port BOOL] [--load_fast {false,auto,true}]\n",
              "                   [--extra_data_server_flags EXTRA_DATA_SERVER_FLAGS]\n",
              "                   [--grpc_creds_type {local,ssl,ssl_dev}]\n",
              "                   [--grpc_data_provider PORT] [--purge_orphaned_data BOOL]\n",
              "                   [--db URI] [--db_import] [--inspect] [--version_tb]\n",
              "                   [--tag TAG] [--event_file PATH] [--path_prefix PATH]\n",
              "                   [--window_title TEXT] [--max_reload_threads COUNT]\n",
              "                   [--reload_interval SECONDS] [--reload_task TYPE]\n",
              "                   [--reload_multifile BOOL]\n",
              "                   [--reload_multifile_inactive_secs SECONDS]\n",
              "                   [--generic_data TYPE]\n",
              "                   [--samples_per_plugin SAMPLES_PER_PLUGIN]\n",
              "                   [--detect_file_replacement BOOL]\n",
              "                   [--whatif-use-unsafe-custom-prediction YOUR_CUSTOM_PREDICT_FUNCTION.py]\n",
              "                   [--whatif-data-dir PATH]\n",
              "                   {serve,dev} ...\n",
              "tensorboard: error: invalid choice: '-' (choose from 'serve', 'dev')"
            ]
          },
          "metadata": {}
        }
      ],
      "source": [
        "%tensorboard - logdir lightning_logs\n"
      ]
    },
    {
      "cell_type": "markdown",
      "metadata": {
        "id": "pOhXBPc0NMcR"
      },
      "source": [
        "# Evaluate performance"
      ]
    },
    {
      "cell_type": "code",
      "source": [
        "# Understand output shapes\n",
        "y_train = torch.cat([y[0] for x, y in iter(train_dataloader)])\n",
        "print(f\"y_train: {y_train.shape}\")\n",
        "\n",
        "y_val = torch.cat([y[0] for x, y in iter(val_dataloader)])\n",
        "print(f\"Y_val: {y_val.shape}\")\n",
        "print(\"Y_val length = Num_Sites * (Sequence_Length - Encoder_Length - Decoder_Length + 1)\")\n",
        "print(\"Y_val length = 2*(300 - 168 - 24 + 1) = 218\")\n",
        "print(\"Y_val width = Decoder_Length = 24\")"
      ],
      "metadata": {
        "colab": {
          "base_uri": "https://localhost:8080/"
        },
        "id": "Q9gN4RfkkjLp",
        "outputId": "c2fd548d-92b5-48c1-8fb6-e4399bfe0bcc"
      },
      "execution_count": 37,
      "outputs": [
        {
          "output_type": "stream",
          "name": "stdout",
          "text": [
            "y_train: torch.Size([1184, 24])\n",
            "Y_val: torch.Size([1199, 24])\n",
            "Y_val length = Num_Sites * (Sequence_Length - Encoder_Length - Decoder_Length + 1)\n",
            "Y_val length = 2*(300 - 168 - 24 + 1) = 218\n",
            "Y_val width = Decoder_Length = 24\n"
          ]
        }
      ]
    },
    {
      "cell_type": "code",
      "execution_count": 38,
      "metadata": {
        "id": "Q-nYiociNL8_"
      },
      "outputs": [],
      "source": [
        "# load the best model according to the validation loss\n",
        "best_model_path = trainer.checkpoint_callback.best_model_path\n",
        "print(best_model_path)\n",
        "best_tft = TemporalFusionTransformer.load_from_checkpoint(best_model_path)"
      ]
    },
    {
      "cell_type": "code",
      "execution_count": 39,
      "metadata": {
        "id": "jmQXi2VjIhfU",
        "colab": {
          "base_uri": "https://localhost:8080/"
        },
        "outputId": "443a062f-09e7-4b5d-a867-6463c8bbdd0a"
      },
      "outputs": [
        {
          "output_type": "stream",
          "name": "stdout",
          "text": [
            "Val MAE: 1.0002243518829346\n",
            "Val RMSE: 3.448267698287964\n"
          ]
        }
      ],
      "source": [
        "# calcualte mean absolute error on validation set\n",
        "actuals = torch.cat([y[0] for x, y in iter(val_dataloader)])\n",
        "predictions = best_tft.predict(val_dataloader)\n",
        "mae = (actuals - predictions).abs().mean()\n",
        "print(f\"Val MAE: {mae}\")\n",
        "\n",
        "# Derive Val RMSE\n",
        "criterion = nn.MSELoss()\n",
        "rmse = torch.sqrt(criterion(actuals, predictions))\n",
        "print(f\"Val RMSE: {rmse}\")"
      ]
    },
    {
      "cell_type": "code",
      "execution_count": 40,
      "metadata": {
        "id": "li-3H4h89OqV",
        "colab": {
          "base_uri": "https://localhost:8080/"
        },
        "outputId": "c1f038b7-3291-4e0e-a86d-17c6117d12cb"
      },
      "outputs": [
        {
          "output_type": "stream",
          "name": "stdout",
          "text": [
            "1.0002243518829346\n",
            "tensor([5.0299, 4.4489, 4.4161,  ..., 0.1610, 0.1712, 0.1686])\n"
          ]
        }
      ],
      "source": [
        "#average p50 loss overall\n",
        "print((actuals - predictions).abs().mean().item())\n",
        "#average p50 loss per time series\n",
        "print((actuals - predictions).abs().mean(axis=1))"
      ]
    },
    {
      "cell_type": "code",
      "execution_count": 41,
      "metadata": {
        "id": "3qq42SZ0Ihcl",
        "colab": {
          "base_uri": "https://localhost:8080/"
        },
        "outputId": "08c25392-4b95-466f-df2c-30db87a4e080"
      },
      "outputs": [
        {
          "output_type": "stream",
          "name": "stdout",
          "text": [
            "prediction: torch.Size([1199, 24, 7])\n",
            "encoder_attention: torch.Size([1199, 24, 1, 168])\n",
            "decoder_attention: torch.Size([1199, 24, 1, 24])\n",
            "static_variables: torch.Size([1199, 1, 3])\n",
            "encoder_variables: torch.Size([1199, 168, 1, 36])\n",
            "decoder_variables: torch.Size([1199, 24, 1, 35])\n",
            "decoder_lengths: torch.Size([1199])\n",
            "encoder_lengths: torch.Size([1199])\n"
          ]
        }
      ],
      "source": [
        "# raw predictions are a dictionary from which all kind of information including quantiles can be extracted\n",
        "raw_predictions, x = best_tft.predict(val_dataloader, mode=\"raw\", return_x=True)\n",
        "for key in raw_predictions.keys():\n",
        "  print(f\"{key}: {raw_predictions[key].shape}\")"
      ]
    },
    {
      "cell_type": "markdown",
      "metadata": {
        "id": "AEX8M8NK_We4"
      },
      "source": [
        "## Plot"
      ]
    },
    {
      "cell_type": "markdown",
      "metadata": {
        "id": "vy6paEoUIKrp"
      },
      "source": [
        "- The gray lines in all previous plots represent the attention scores. Look at those plots again\n",
        "\n",
        "- The attention scores reveal how impactful are those time steps when the model outputs its prediction. \n",
        "\n",
        "- **The small peaks reflect the daily seasonality, while the higher peak towards the end probably implies the weekly seasonality.**"
      ]
    },
    {
      "cell_type": "markdown",
      "metadata": {
        "id": "v369fcna_zFb"
      },
      "source": [
        "**Studying the attention weights of TFT has extra advantages:**\n",
        "\n",
        "- We can confirm our model captures the apparent seasonal dynamics of our sequences.\n",
        "\n",
        "- Our model may also reveal hidden patterns because the attention weights of the current input windows consider all past inputs.\n",
        "\n",
        "- The attention weights plot is not the same as an autocorrelation plot: The autocorrelation plot refers to a particular sequence, while the attention weights here focus on the impact of each timestep by looking across all covariates and time series.\n"
      ]
    },
    {
      "cell_type": "code",
      "execution_count": 42,
      "metadata": {
        "id": "Vjc_BtvTrO1B",
        "colab": {
          "base_uri": "https://localhost:8080/",
          "height": 1000
        },
        "outputId": "785b5d2f-e669-454f-b6b1-c616d33499e6"
      },
      "outputs": [
        {
          "output_type": "display_data",
          "data": {
            "text/plain": [
              "<Figure size 432x288 with 2 Axes>"
            ],
            "image/png": "[encoded data removed]"
          },
          "metadata": {
            "needs_background": "light"
          }
        },
        {
          "output_type": "display_data",
          "data": {
            "text/plain": [
              "<Figure size 432x288 with 2 Axes>"
            ],
            "image/png": "[encoded data removed]"
          },
          "metadata": {
            "needs_background": "light"
          }
        },
        {
          "output_type": "display_data",
          "data": {
            "text/plain": [
              "<Figure size 432x288 with 2 Axes>"
            ],
            "image/png": "[encoded data removed]"
          },
          "metadata": {
            "needs_background": "light"
          }
        },
        {
          "output_type": "display_data",
          "data": {
            "text/plain": [
              "<Figure size 432x288 with 2 Axes>"
            ],
            "image/png": "[encoded data removed]"
          },
          "metadata": {
            "needs_background": "light"
          }
        },
        {
          "output_type": "display_data",
          "data": {
            "text/plain": [
              "<Figure size 432x288 with 2 Axes>"
            ],
            "image/png": "[encoded data removed]"
          },
          "metadata": {
            "needs_background": "light"
          }
        }
      ],
      "source": [
        "for idx in range(5):\n",
        "    best_tft.plot_prediction(x, raw_predictions, idx=idx, add_loss_to_title=True);"
      ]
    },
    {
      "cell_type": "markdown",
      "metadata": {
        "id": "RT3rirA8_8rs"
      },
      "source": [
        "# Features Importance"
      ]
    },
    {
      "cell_type": "code",
      "execution_count": 43,
      "metadata": {
        "id": "kMkB1yQ3_8B4",
        "colab": {
          "base_uri": "https://localhost:8080/",
          "height": 1000
        },
        "outputId": "b757569c-3a15-4978-e949-0aec6ab3ec00"
      },
      "outputs": [
        {
          "output_type": "execute_result",
          "data": {
            "text/plain": [
              "{'attention': <Figure size 432x288 with 1 Axes>,\n",
              " 'static_variables': <Figure size 504x198 with 1 Axes>,\n",
              " 'encoder_variables': <Figure size 504x792 with 1 Axes>,\n",
              " 'decoder_variables': <Figure size 504x774 with 1 Axes>}"
            ]
          },
          "metadata": {},
          "execution_count": 43
        },
        {
          "output_type": "display_data",
          "data": {
            "text/plain": [
              "<Figure size 432x288 with 1 Axes>"
            ],
            "image/png": "[encoded data removed]"
          },
          "metadata": {
            "needs_background": "light"
          }
        },
        {
          "output_type": "display_data",
          "data": {
            "text/plain": [
              "<Figure size 504x198 with 1 Axes>"
            ],
            "image/png": "[encoded data removed]"
          },
          "metadata": {
            "needs_background": "light"
          }
        },
        {
          "output_type": "display_data",
          "data": {
            "text/plain": [
              "<Figure size 504x792 with 1 Axes>"
            ],
            "image/png": "[encoded data removed]"
          },
          "metadata": {
            "needs_background": "light"
          }
        },
        {
          "output_type": "display_data",
          "data": {
            "text/plain": [
              "<Figure size 504x774 with 1 Axes>"
            ],
            "image/png": "[encoded data removed]"
          },
          "metadata": {
            "needs_background": "light"
          }
        }
      ],
      "source": [
        "raw_predictions, x = best_tft.predict(val_dataloader, mode=\"raw\", return_x=True)\n",
        "interpretation = best_tft.interpret_output(raw_predictions, reduction=\"sum\")\n",
        "best_tft.plot_interpretation(interpretation)"
      ]
    },
    {
      "cell_type": "code",
      "source": [],
      "metadata": {
        "id": "4n6WOoiuzrXE"
      },
      "execution_count": 43,
      "outputs": []
    }
  ],
  "metadata": {
    "accelerator": "GPU",
    "colab": {
      "collapsed_sections": [
        "bOpEMAgCzHNc",
        "aM43Bc9QCkej",
        "dB-1f6RR6AFV"
      ],
      "provenance": []
    },
    "gpuClass": "premium",
    "kernelspec": {
      "display_name": "Python 3",
      "name": "python3"
    },
    "language_info": {
      "name": "python"
    },
    "widgets": {
      "application/vnd.jupyter.widget-state+json": {
        "a0a788e9451942c0a01033921f0330a9": {
          "model_module": "@jupyter-widgets/controls",
          "model_name": "HBoxModel",
          "model_module_version": "1.5.0",
          "state": {
            "_dom_classes": [],
            "_model_module": "@jupyter-widgets/controls",
            "_model_module_version": "1.5.0",
            "_model_name": "HBoxModel",
            "_view_count": null,
            "_view_module": "@jupyter-widgets/controls",
            "_view_module_version": "1.5.0",
            "_view_name": "HBoxView",
            "box_style": "",
            "children": [
              "IPY_MODEL_186048390bcd44798581094594208a4f",
              "IPY_MODEL_605c6a790943478f985445406909252b",
              "IPY_MODEL_9866ef5d6bea4247b4bb2807abc0ce0e"
            ],
            "layout": "IPY_MODEL_b72732e93d5f4b0aa38f90b6130a196b"
          }
        },
        "186048390bcd44798581094594208a4f": {
          "model_module": "@jupyter-widgets/controls",
          "model_name": "HTMLModel",
          "model_module_version": "1.5.0",
          "state": {
            "_dom_classes": [],
            "_model_module": "@jupyter-widgets/controls",
            "_model_module_version": "1.5.0",
            "_model_name": "HTMLModel",
            "_view_count": null,
            "_view_module": "@jupyter-widgets/controls",
            "_view_module_version": "1.5.0",
            "_view_name": "HTMLView",
            "description": "",
            "description_tooltip": null,
            "layout": "IPY_MODEL_713543fa09eb466f82360a7b27494a5a",
            "placeholder": "​",
            "style": "IPY_MODEL_6cda84889040447192bf4d283c0592e7",
            "value": "Sanity Checking DataLoader 0: 100%"
          }
        },
        "605c6a790943478f985445406909252b": {
          "model_module": "@jupyter-widgets/controls",
          "model_name": "FloatProgressModel",
          "model_module_version": "1.5.0",
          "state": {
            "_dom_classes": [],
            "_model_module": "@jupyter-widgets/controls",
            "_model_module_version": "1.5.0",
            "_model_name": "FloatProgressModel",
            "_view_count": null,
            "_view_module": "@jupyter-widgets/controls",
            "_view_module_version": "1.5.0",
            "_view_name": "ProgressView",
            "bar_style": "",
            "description": "",
            "description_tooltip": null,
            "layout": "IPY_MODEL_bb03c685a014480e933328b8d4d5a454",
            "max": 2,
            "min": 0,
            "orientation": "horizontal",
            "style": "IPY_MODEL_07603741030f41ae975487b18d6b773d",
            "value": 2
          }
        },
        "9866ef5d6bea4247b4bb2807abc0ce0e": {
          "model_module": "@jupyter-widgets/controls",
          "model_name": "HTMLModel",
          "model_module_version": "1.5.0",
          "state": {
            "_dom_classes": [],
            "_model_module": "@jupyter-widgets/controls",
            "_model_module_version": "1.5.0",
            "_model_name": "HTMLModel",
            "_view_count": null,
            "_view_module": "@jupyter-widgets/controls",
            "_view_module_version": "1.5.0",
            "_view_name": "HTMLView",
            "description": "",
            "description_tooltip": null,
            "layout": "IPY_MODEL_f1989c525292425b92a10ad2ea66f47e",
            "placeholder": "​",
            "style": "IPY_MODEL_9b3337c75a304b828dd04c83d8a4c5d0",
            "value": " 2/2 [00:00&lt;00:00,  2.51it/s]"
          }
        },
        "b72732e93d5f4b0aa38f90b6130a196b": {
          "model_module": "@jupyter-widgets/base",
          "model_name": "LayoutModel",
          "model_module_version": "1.2.0",
          "state": {
            "_model_module": "@jupyter-widgets/base",
            "_model_module_version": "1.2.0",
            "_model_name": "LayoutModel",
            "_view_count": null,
            "_view_module": "@jupyter-widgets/base",
            "_view_module_version": "1.2.0",
            "_view_name": "LayoutView",
            "align_content": null,
            "align_items": null,
            "align_self": null,
            "border": null,
            "bottom": null,
            "display": "inline-flex",
            "flex": null,
            "flex_flow": "row wrap",
            "grid_area": null,
            "grid_auto_columns": null,
            "grid_auto_flow": null,
            "grid_auto_rows": null,
            "grid_column": null,
            "grid_gap": null,
            "grid_row": null,
            "grid_template_areas": null,
            "grid_template_columns": null,
            "grid_template_rows": null,
            "height": null,
            "justify_content": null,
            "justify_items": null,
            "left": null,
            "margin": null,
            "max_height": null,
            "max_width": null,
            "min_height": null,
            "min_width": null,
            "object_fit": null,
            "object_position": null,
            "order": null,
            "overflow": null,
            "overflow_x": null,
            "overflow_y": null,
            "padding": null,
            "right": null,
            "top": null,
            "visibility": "hidden",
            "width": "100%"
          }
        },
        "713543fa09eb466f82360a7b27494a5a": {
          "model_module": "@jupyter-widgets/base",
          "model_name": "LayoutModel",
          "model_module_version": "1.2.0",
          "state": {
            "_model_module": "@jupyter-widgets/base",
            "_model_module_version": "1.2.0",
            "_model_name": "LayoutModel",
            "_view_count": null,
            "_view_module": "@jupyter-widgets/base",
            "_view_module_version": "1.2.0",
            "_view_name": "LayoutView",
            "align_content": null,
            "align_items": null,
            "align_self": null,
            "border": null,
            "bottom": null,
            "display": null,
            "flex": null,
            "flex_flow": null,
            "grid_area": null,
            "grid_auto_columns": null,
            "grid_auto_flow": null,
            "grid_auto_rows": null,
            "grid_column": null,
            "grid_gap": null,
            "grid_row": null,
            "grid_template_areas": null,
            "grid_template_columns": null,
            "grid_template_rows": null,
            "height": null,
            "justify_content": null,
            "justify_items": null,
            "left": null,
            "margin": null,
            "max_height": null,
            "max_width": null,
            "min_height": null,
            "min_width": null,
            "object_fit": null,
            "object_position": null,
            "order": null,
            "overflow": null,
            "overflow_x": null,
            "overflow_y": null,
            "padding": null,
            "right": null,
            "top": null,
            "visibility": null,
            "width": null
          }
        },
        "6cda84889040447192bf4d283c0592e7": {
          "model_module": "@jupyter-widgets/controls",
          "model_name": "DescriptionStyleModel",
          "model_module_version": "1.5.0",
          "state": {
            "_model_module": "@jupyter-widgets/controls",
            "_model_module_version": "1.5.0",
            "_model_name": "DescriptionStyleModel",
            "_view_count": null,
            "_view_module": "@jupyter-widgets/base",
            "_view_module_version": "1.2.0",
            "_view_name": "StyleView",
            "description_width": ""
          }
        },
        "bb03c685a014480e933328b8d4d5a454": {
          "model_module": "@jupyter-widgets/base",
          "model_name": "LayoutModel",
          "model_module_version": "1.2.0",
          "state": {
            "_model_module": "@jupyter-widgets/base",
            "_model_module_version": "1.2.0",
            "_model_name": "LayoutModel",
            "_view_count": null,
            "_view_module": "@jupyter-widgets/base",
            "_view_module_version": "1.2.0",
            "_view_name": "LayoutView",
            "align_content": null,
            "align_items": null,
            "align_self": null,
            "border": null,
            "bottom": null,
            "display": null,
            "flex": "2",
            "flex_flow": null,
            "grid_area": null,
            "grid_auto_columns": null,
            "grid_auto_flow": null,
            "grid_auto_rows": null,
            "grid_column": null,
            "grid_gap": null,
            "grid_row": null,
            "grid_template_areas": null,
            "grid_template_columns": null,
            "grid_template_rows": null,
            "height": null,
            "justify_content": null,
            "justify_items": null,
            "left": null,
            "margin": null,
            "max_height": null,
            "max_width": null,
            "min_height": null,
            "min_width": null,
            "object_fit": null,
            "object_position": null,
            "order": null,
            "overflow": null,
            "overflow_x": null,
            "overflow_y": null,
            "padding": null,
            "right": null,
            "top": null,
            "visibility": null,
            "width": null
          }
        },
        "07603741030f41ae975487b18d6b773d": {
          "model_module": "@jupyter-widgets/controls",
          "model_name": "ProgressStyleModel",
          "model_module_version": "1.5.0",
          "state": {
            "_model_module": "@jupyter-widgets/controls",
            "_model_module_version": "1.5.0",
            "_model_name": "ProgressStyleModel",
            "_view_count": null,
            "_view_module": "@jupyter-widgets/base",
            "_view_module_version": "1.2.0",
            "_view_name": "StyleView",
            "bar_color": null,
            "description_width": ""
          }
        },
        "f1989c525292425b92a10ad2ea66f47e": {
          "model_module": "@jupyter-widgets/base",
          "model_name": "LayoutModel",
          "model_module_version": "1.2.0",
          "state": {
            "_model_module": "@jupyter-widgets/base",
            "_model_module_version": "1.2.0",
            "_model_name": "LayoutModel",
            "_view_count": null,
            "_view_module": "@jupyter-widgets/base",
            "_view_module_version": "1.2.0",
            "_view_name": "LayoutView",
            "align_content": null,
            "align_items": null,
            "align_self": null,
            "border": null,
            "bottom": null,
            "display": null,
            "flex": null,
            "flex_flow": null,
            "grid_area": null,
            "grid_auto_columns": null,
            "grid_auto_flow": null,
            "grid_auto_rows": null,
            "grid_column": null,
            "grid_gap": null,
            "grid_row": null,
            "grid_template_areas": null,
            "grid_template_columns": null,
            "grid_template_rows": null,
            "height": null,
            "justify_content": null,
            "justify_items": null,
            "left": null,
            "margin": null,
            "max_height": null,
            "max_width": null,
            "min_height": null,
            "min_width": null,
            "object_fit": null,
            "object_position": null,
            "order": null,
            "overflow": null,
            "overflow_x": null,
            "overflow_y": null,
            "padding": null,
            "right": null,
            "top": null,
            "visibility": null,
            "width": null
          }
        },
        "9b3337c75a304b828dd04c83d8a4c5d0": {
          "model_module": "@jupyter-widgets/controls",
          "model_name": "DescriptionStyleModel",
          "model_module_version": "1.5.0",
          "state": {
            "_model_module": "@jupyter-widgets/controls",
            "_model_module_version": "1.5.0",
            "_model_name": "DescriptionStyleModel",
            "_view_count": null,
            "_view_module": "@jupyter-widgets/base",
            "_view_module_version": "1.2.0",
            "_view_name": "StyleView",
            "description_width": ""
          }
        },
        "36a8801106e244b386d91703ea1bb0aa": {
          "model_module": "@jupyter-widgets/controls",
          "model_name": "HBoxModel",
          "model_module_version": "1.5.0",
          "state": {
            "_dom_classes": [],
            "_model_module": "@jupyter-widgets/controls",
            "_model_module_version": "1.5.0",
            "_model_name": "HBoxModel",
            "_view_count": null,
            "_view_module": "@jupyter-widgets/controls",
            "_view_module_version": "1.5.0",
            "_view_name": "HBoxView",
            "box_style": "",
            "children": [
              "IPY_MODEL_bc1ced7c7b5745b19217cfa75b6f40d4",
              "IPY_MODEL_f0953ffcd2a8477bae4d682d3af87a3c",
              "IPY_MODEL_ad29a8192f1740b08e1479251b7a6483"
            ],
            "layout": "IPY_MODEL_c3f82b8a6ab44ab2b6d25e7e784c446a"
          }
        },
        "bc1ced7c7b5745b19217cfa75b6f40d4": {
          "model_module": "@jupyter-widgets/controls",
          "model_name": "HTMLModel",
          "model_module_version": "1.5.0",
          "state": {
            "_dom_classes": [],
            "_model_module": "@jupyter-widgets/controls",
            "_model_module_version": "1.5.0",
            "_model_name": "HTMLModel",
            "_view_count": null,
            "_view_module": "@jupyter-widgets/controls",
            "_view_module_version": "1.5.0",
            "_view_name": "HTMLView",
            "description": "",
            "description_tooltip": null,
            "layout": "IPY_MODEL_d70bd639623647a7aabac3468fa7333f",
            "placeholder": "​",
            "style": "IPY_MODEL_a251af7e24c84dffbef84689d6d36218",
            "value": "Epoch 1: 100%"
          }
        },
        "f0953ffcd2a8477bae4d682d3af87a3c": {
          "model_module": "@jupyter-widgets/controls",
          "model_name": "FloatProgressModel",
          "model_module_version": "1.5.0",
          "state": {
            "_dom_classes": [],
            "_model_module": "@jupyter-widgets/controls",
            "_model_module_version": "1.5.0",
            "_model_name": "FloatProgressModel",
            "_view_count": null,
            "_view_module": "@jupyter-widgets/controls",
            "_view_module_version": "1.5.0",
            "_view_name": "ProgressView",
            "bar_style": "success",
            "description": "",
            "description_tooltip": null,
            "layout": "IPY_MODEL_20537e3d7ce64518921d83140f3d26c9",
            "max": 75,
            "min": 0,
            "orientation": "horizontal",
            "style": "IPY_MODEL_011bb941b9154ebca3540eb8108dc0f5",
            "value": 75
          }
        },
        "ad29a8192f1740b08e1479251b7a6483": {
          "model_module": "@jupyter-widgets/controls",
          "model_name": "HTMLModel",
          "model_module_version": "1.5.0",
          "state": {
            "_dom_classes": [],
            "_model_module": "@jupyter-widgets/controls",
            "_model_module_version": "1.5.0",
            "_model_name": "HTMLModel",
            "_view_count": null,
            "_view_module": "@jupyter-widgets/controls",
            "_view_module_version": "1.5.0",
            "_view_name": "HTMLView",
            "description": "",
            "description_tooltip": null,
            "layout": "IPY_MODEL_23987bb1f5734990b75adee3f93272ac",
            "placeholder": "​",
            "style": "IPY_MODEL_8f6a35ae0bb74035b24d33e780054382",
            "value": " 75/75 [00:17&lt;00:00,  4.38it/s, loss=0.822, v_num=8, train_loss_step=0.946, val_loss=0.710, train_loss_epoch=0.767]"
          }
        },
        "c3f82b8a6ab44ab2b6d25e7e784c446a": {
          "model_module": "@jupyter-widgets/base",
          "model_name": "LayoutModel",
          "model_module_version": "1.2.0",
          "state": {
            "_model_module": "@jupyter-widgets/base",
            "_model_module_version": "1.2.0",
            "_model_name": "LayoutModel",
            "_view_count": null,
            "_view_module": "@jupyter-widgets/base",
            "_view_module_version": "1.2.0",
            "_view_name": "LayoutView",
            "align_content": null,
            "align_items": null,
            "align_self": null,
            "border": null,
            "bottom": null,
            "display": "inline-flex",
            "flex": null,
            "flex_flow": "row wrap",
            "grid_area": null,
            "grid_auto_columns": null,
            "grid_auto_flow": null,
            "grid_auto_rows": null,
            "grid_column": null,
            "grid_gap": null,
            "grid_row": null,
            "grid_template_areas": null,
            "grid_template_columns": null,
            "grid_template_rows": null,
            "height": null,
            "justify_content": null,
            "justify_items": null,
            "left": null,
            "margin": null,
            "max_height": null,
            "max_width": null,
            "min_height": null,
            "min_width": null,
            "object_fit": null,
            "object_position": null,
            "order": null,
            "overflow": null,
            "overflow_x": null,
            "overflow_y": null,
            "padding": null,
            "right": null,
            "top": null,
            "visibility": null,
            "width": "100%"
          }
        },
        "d70bd639623647a7aabac3468fa7333f": {
          "model_module": "@jupyter-widgets/base",
          "model_name": "LayoutModel",
          "model_module_version": "1.2.0",
          "state": {
            "_model_module": "@jupyter-widgets/base",
            "_model_module_version": "1.2.0",
            "_model_name": "LayoutModel",
            "_view_count": null,
            "_view_module": "@jupyter-widgets/base",
            "_view_module_version": "1.2.0",
            "_view_name": "LayoutView",
            "align_content": null,
            "align_items": null,
            "align_self": null,
            "border": null,
            "bottom": null,
            "display": null,
            "flex": null,
            "flex_flow": null,
            "grid_area": null,
            "grid_auto_columns": null,
            "grid_auto_flow": null,
            "grid_auto_rows": null,
            "grid_column": null,
            "grid_gap": null,
            "grid_row": null,
            "grid_template_areas": null,
            "grid_template_columns": null,
            "grid_template_rows": null,
            "height": null,
            "justify_content": null,
            "justify_items": null,
            "left": null,
            "margin": null,
            "max_height": null,
            "max_width": null,
            "min_height": null,
            "min_width": null,
            "object_fit": null,
            "object_position": null,
            "order": null,
            "overflow": null,
            "overflow_x": null,
            "overflow_y": null,
            "padding": null,
            "right": null,
            "top": null,
            "visibility": null,
            "width": null
          }
        },
        "a251af7e24c84dffbef84689d6d36218": {
          "model_module": "@jupyter-widgets/controls",
          "model_name": "DescriptionStyleModel",
          "model_module_version": "1.5.0",
          "state": {
            "_model_module": "@jupyter-widgets/controls",
            "_model_module_version": "1.5.0",
            "_model_name": "DescriptionStyleModel",
            "_view_count": null,
            "_view_module": "@jupyter-widgets/base",
            "_view_module_version": "1.2.0",
            "_view_name": "StyleView",
            "description_width": ""
          }
        },
        "20537e3d7ce64518921d83140f3d26c9": {
          "model_module": "@jupyter-widgets/base",
          "model_name": "LayoutModel",
          "model_module_version": "1.2.0",
          "state": {
            "_model_module": "@jupyter-widgets/base",
            "_model_module_version": "1.2.0",
            "_model_name": "LayoutModel",
            "_view_count": null,
            "_view_module": "@jupyter-widgets/base",
            "_view_module_version": "1.2.0",
            "_view_name": "LayoutView",
            "align_content": null,
            "align_items": null,
            "align_self": null,
            "border": null,
            "bottom": null,
            "display": null,
            "flex": "2",
            "flex_flow": null,
            "grid_area": null,
            "grid_auto_columns": null,
            "grid_auto_flow": null,
            "grid_auto_rows": null,
            "grid_column": null,
            "grid_gap": null,
            "grid_row": null,
            "grid_template_areas": null,
            "grid_template_columns": null,
            "grid_template_rows": null,
            "height": null,
            "justify_content": null,
            "justify_items": null,
            "left": null,
            "margin": null,
            "max_height": null,
            "max_width": null,
            "min_height": null,
            "min_width": null,
            "object_fit": null,
            "object_position": null,
            "order": null,
            "overflow": null,
            "overflow_x": null,
            "overflow_y": null,
            "padding": null,
            "right": null,
            "top": null,
            "visibility": null,
            "width": null
          }
        },
        "011bb941b9154ebca3540eb8108dc0f5": {
          "model_module": "@jupyter-widgets/controls",
          "model_name": "ProgressStyleModel",
          "model_module_version": "1.5.0",
          "state": {
            "_model_module": "@jupyter-widgets/controls",
            "_model_module_version": "1.5.0",
            "_model_name": "ProgressStyleModel",
            "_view_count": null,
            "_view_module": "@jupyter-widgets/base",
            "_view_module_version": "1.2.0",
            "_view_name": "StyleView",
            "bar_color": null,
            "description_width": ""
          }
        },
        "23987bb1f5734990b75adee3f93272ac": {
          "model_module": "@jupyter-widgets/base",
          "model_name": "LayoutModel",
          "model_module_version": "1.2.0",
          "state": {
            "_model_module": "@jupyter-widgets/base",
            "_model_module_version": "1.2.0",
            "_model_name": "LayoutModel",
            "_view_count": null,
            "_view_module": "@jupyter-widgets/base",
            "_view_module_version": "1.2.0",
            "_view_name": "LayoutView",
            "align_content": null,
            "align_items": null,
            "align_self": null,
            "border": null,
            "bottom": null,
            "display": null,
            "flex": null,
            "flex_flow": null,
            "grid_area": null,
            "grid_auto_columns": null,
            "grid_auto_flow": null,
            "grid_auto_rows": null,
            "grid_column": null,
            "grid_gap": null,
            "grid_row": null,
            "grid_template_areas": null,
            "grid_template_columns": null,
            "grid_template_rows": null,
            "height": null,
            "justify_content": null,
            "justify_items": null,
            "left": null,
            "margin": null,
            "max_height": null,
            "max_width": null,
            "min_height": null,
            "min_width": null,
            "object_fit": null,
            "object_position": null,
            "order": null,
            "overflow": null,
            "overflow_x": null,
            "overflow_y": null,
            "padding": null,
            "right": null,
            "top": null,
            "visibility": null,
            "width": null
          }
        },
        "8f6a35ae0bb74035b24d33e780054382": {
          "model_module": "@jupyter-widgets/controls",
          "model_name": "DescriptionStyleModel",
          "model_module_version": "1.5.0",
          "state": {
            "_model_module": "@jupyter-widgets/controls",
            "_model_module_version": "1.5.0",
            "_model_name": "DescriptionStyleModel",
            "_view_count": null,
            "_view_module": "@jupyter-widgets/base",
            "_view_module_version": "1.2.0",
            "_view_name": "StyleView",
            "description_width": ""
          }
        },
        "26c3eddcda67478f83d03b8920087698": {
          "model_module": "@jupyter-widgets/controls",
          "model_name": "HBoxModel",
          "model_module_version": "1.5.0",
          "state": {
            "_dom_classes": [],
            "_model_module": "@jupyter-widgets/controls",
            "_model_module_version": "1.5.0",
            "_model_name": "HBoxModel",
            "_view_count": null,
            "_view_module": "@jupyter-widgets/controls",
            "_view_module_version": "1.5.0",
            "_view_name": "HBoxView",
            "box_style": "",
            "children": [
              "IPY_MODEL_742a1825b8824e3fa5820728be1e52aa",
              "IPY_MODEL_be33bdef2c844cc98c466c56e76a79bf",
              "IPY_MODEL_a0c88822de6043118a4464f8a5e847ee"
            ],
            "layout": "IPY_MODEL_6eb7d0f842e442c99399d74ee2374dad"
          }
        },
        "742a1825b8824e3fa5820728be1e52aa": {
          "model_module": "@jupyter-widgets/controls",
          "model_name": "HTMLModel",
          "model_module_version": "1.5.0",
          "state": {
            "_dom_classes": [],
            "_model_module": "@jupyter-widgets/controls",
            "_model_module_version": "1.5.0",
            "_model_name": "HTMLModel",
            "_view_count": null,
            "_view_module": "@jupyter-widgets/controls",
            "_view_module_version": "1.5.0",
            "_view_name": "HTMLView",
            "description": "",
            "description_tooltip": null,
            "layout": "IPY_MODEL_d1ff081debf24915a23162154883d9aa",
            "placeholder": "​",
            "style": "IPY_MODEL_013c3ad96f6e4466ba0b034cdd0bcb6d",
            "value": "Validation DataLoader 0: 100%"
          }
        },
        "be33bdef2c844cc98c466c56e76a79bf": {
          "model_module": "@jupyter-widgets/controls",
          "model_name": "FloatProgressModel",
          "model_module_version": "1.5.0",
          "state": {
            "_dom_classes": [],
            "_model_module": "@jupyter-widgets/controls",
            "_model_module_version": "1.5.0",
            "_model_name": "FloatProgressModel",
            "_view_count": null,
            "_view_module": "@jupyter-widgets/controls",
            "_view_module_version": "1.5.0",
            "_view_name": "ProgressView",
            "bar_style": "",
            "description": "",
            "description_tooltip": null,
            "layout": "IPY_MODEL_2129495c4015468e8364063bb30998f7",
            "max": 38,
            "min": 0,
            "orientation": "horizontal",
            "style": "IPY_MODEL_0e24f9ffb4514d158665d04c67a38f05",
            "value": 38
          }
        },
        "a0c88822de6043118a4464f8a5e847ee": {
          "model_module": "@jupyter-widgets/controls",
          "model_name": "HTMLModel",
          "model_module_version": "1.5.0",
          "state": {
            "_dom_classes": [],
            "_model_module": "@jupyter-widgets/controls",
            "_model_module_version": "1.5.0",
            "_model_name": "HTMLModel",
            "_view_count": null,
            "_view_module": "@jupyter-widgets/controls",
            "_view_module_version": "1.5.0",
            "_view_name": "HTMLView",
            "description": "",
            "description_tooltip": null,
            "layout": "IPY_MODEL_d10e9569775b4fafaf9455fb0aeb97a8",
            "placeholder": "​",
            "style": "IPY_MODEL_474025f075f34ac186c67712802167a7",
            "value": " 38/38 [00:04&lt;00:00,  9.28it/s]"
          }
        },
        "6eb7d0f842e442c99399d74ee2374dad": {
          "model_module": "@jupyter-widgets/base",
          "model_name": "LayoutModel",
          "model_module_version": "1.2.0",
          "state": {
            "_model_module": "@jupyter-widgets/base",
            "_model_module_version": "1.2.0",
            "_model_name": "LayoutModel",
            "_view_count": null,
            "_view_module": "@jupyter-widgets/base",
            "_view_module_version": "1.2.0",
            "_view_name": "LayoutView",
            "align_content": null,
            "align_items": null,
            "align_self": null,
            "border": null,
            "bottom": null,
            "display": "inline-flex",
            "flex": null,
            "flex_flow": "row wrap",
            "grid_area": null,
            "grid_auto_columns": null,
            "grid_auto_flow": null,
            "grid_auto_rows": null,
            "grid_column": null,
            "grid_gap": null,
            "grid_row": null,
            "grid_template_areas": null,
            "grid_template_columns": null,
            "grid_template_rows": null,
            "height": null,
            "justify_content": null,
            "justify_items": null,
            "left": null,
            "margin": null,
            "max_height": null,
            "max_width": null,
            "min_height": null,
            "min_width": null,
            "object_fit": null,
            "object_position": null,
            "order": null,
            "overflow": null,
            "overflow_x": null,
            "overflow_y": null,
            "padding": null,
            "right": null,
            "top": null,
            "visibility": "hidden",
            "width": "100%"
          }
        },
        "d1ff081debf24915a23162154883d9aa": {
          "model_module": "@jupyter-widgets/base",
          "model_name": "LayoutModel",
          "model_module_version": "1.2.0",
          "state": {
            "_model_module": "@jupyter-widgets/base",
            "_model_module_version": "1.2.0",
            "_model_name": "LayoutModel",
            "_view_count": null,
            "_view_module": "@jupyter-widgets/base",
            "_view_module_version": "1.2.0",
            "_view_name": "LayoutView",
            "align_content": null,
            "align_items": null,
            "align_self": null,
            "border": null,
            "bottom": null,
            "display": null,
            "flex": null,
            "flex_flow": null,
            "grid_area": null,
            "grid_auto_columns": null,
            "grid_auto_flow": null,
            "grid_auto_rows": null,
            "grid_column": null,
            "grid_gap": null,
            "grid_row": null,
            "grid_template_areas": null,
            "grid_template_columns": null,
            "grid_template_rows": null,
            "height": null,
            "justify_content": null,
            "justify_items": null,
            "left": null,
            "margin": null,
            "max_height": null,
            "max_width": null,
            "min_height": null,
            "min_width": null,
            "object_fit": null,
            "object_position": null,
            "order": null,
            "overflow": null,
            "overflow_x": null,
            "overflow_y": null,
            "padding": null,
            "right": null,
            "top": null,
            "visibility": null,
            "width": null
          }
        },
        "013c3ad96f6e4466ba0b034cdd0bcb6d": {
          "model_module": "@jupyter-widgets/controls",
          "model_name": "DescriptionStyleModel",
          "model_module_version": "1.5.0",
          "state": {
            "_model_module": "@jupyter-widgets/controls",
            "_model_module_version": "1.5.0",
            "_model_name": "DescriptionStyleModel",
            "_view_count": null,
            "_view_module": "@jupyter-widgets/base",
            "_view_module_version": "1.2.0",
            "_view_name": "StyleView",
            "description_width": ""
          }
        },
        "2129495c4015468e8364063bb30998f7": {
          "model_module": "@jupyter-widgets/base",
          "model_name": "LayoutModel",
          "model_module_version": "1.2.0",
          "state": {
            "_model_module": "@jupyter-widgets/base",
            "_model_module_version": "1.2.0",
            "_model_name": "LayoutModel",
            "_view_count": null,
            "_view_module": "@jupyter-widgets/base",
            "_view_module_version": "1.2.0",
            "_view_name": "LayoutView",
            "align_content": null,
            "align_items": null,
            "align_self": null,
            "border": null,
            "bottom": null,
            "display": null,
            "flex": "2",
            "flex_flow": null,
            "grid_area": null,
            "grid_auto_columns": null,
            "grid_auto_flow": null,
            "grid_auto_rows": null,
            "grid_column": null,
            "grid_gap": null,
            "grid_row": null,
            "grid_template_areas": null,
            "grid_template_columns": null,
            "grid_template_rows": null,
            "height": null,
            "justify_content": null,
            "justify_items": null,
            "left": null,
            "margin": null,
            "max_height": null,
            "max_width": null,
            "min_height": null,
            "min_width": null,
            "object_fit": null,
            "object_position": null,
            "order": null,
            "overflow": null,
            "overflow_x": null,
            "overflow_y": null,
            "padding": null,
            "right": null,
            "top": null,
            "visibility": null,
            "width": null
          }
        },
        "0e24f9ffb4514d158665d04c67a38f05": {
          "model_module": "@jupyter-widgets/controls",
          "model_name": "ProgressStyleModel",
          "model_module_version": "1.5.0",
          "state": {
            "_model_module": "@jupyter-widgets/controls",
            "_model_module_version": "1.5.0",
            "_model_name": "ProgressStyleModel",
            "_view_count": null,
            "_view_module": "@jupyter-widgets/base",
            "_view_module_version": "1.2.0",
            "_view_name": "StyleView",
            "bar_color": null,
            "description_width": ""
          }
        },
        "d10e9569775b4fafaf9455fb0aeb97a8": {
          "model_module": "@jupyter-widgets/base",
          "model_name": "LayoutModel",
          "model_module_version": "1.2.0",
          "state": {
            "_model_module": "@jupyter-widgets/base",
            "_model_module_version": "1.2.0",
            "_model_name": "LayoutModel",
            "_view_count": null,
            "_view_module": "@jupyter-widgets/base",
            "_view_module_version": "1.2.0",
            "_view_name": "LayoutView",
            "align_content": null,
            "align_items": null,
            "align_self": null,
            "border": null,
            "bottom": null,
            "display": null,
            "flex": null,
            "flex_flow": null,
            "grid_area": null,
            "grid_auto_columns": null,
            "grid_auto_flow": null,
            "grid_auto_rows": null,
            "grid_column": null,
            "grid_gap": null,
            "grid_row": null,
            "grid_template_areas": null,
            "grid_template_columns": null,
            "grid_template_rows": null,
            "height": null,
            "justify_content": null,
            "justify_items": null,
            "left": null,
            "margin": null,
            "max_height": null,
            "max_width": null,
            "min_height": null,
            "min_width": null,
            "object_fit": null,
            "object_position": null,
            "order": null,
            "overflow": null,
            "overflow_x": null,
            "overflow_y": null,
            "padding": null,
            "right": null,
            "top": null,
            "visibility": null,
            "width": null
          }
        },
        "474025f075f34ac186c67712802167a7": {
          "model_module": "@jupyter-widgets/controls",
          "model_name": "DescriptionStyleModel",
          "model_module_version": "1.5.0",
          "state": {
            "_model_module": "@jupyter-widgets/controls",
            "_model_module_version": "1.5.0",
            "_model_name": "DescriptionStyleModel",
            "_view_count": null,
            "_view_module": "@jupyter-widgets/base",
            "_view_module_version": "1.2.0",
            "_view_name": "StyleView",
            "description_width": ""
          }
        },
        "a28f9064c7f64b6eb8bf046769e16eca": {
          "model_module": "@jupyter-widgets/controls",
          "model_name": "HBoxModel",
          "model_module_version": "1.5.0",
          "state": {
            "_dom_classes": [],
            "_model_module": "@jupyter-widgets/controls",
            "_model_module_version": "1.5.0",
            "_model_name": "HBoxModel",
            "_view_count": null,
            "_view_module": "@jupyter-widgets/controls",
            "_view_module_version": "1.5.0",
            "_view_name": "HBoxView",
            "box_style": "",
            "children": [
              "IPY_MODEL_aed4a6be84da495ba58d3f6906386180",
              "IPY_MODEL_d0db25d47b6e4b04be8d0a0522b0d20e",
              "IPY_MODEL_93ac2ddbe71d44918885dc6ce8d95972"
            ],
            "layout": "IPY_MODEL_26430b4dd4684991b7b4b362a5717572"
          }
        },
        "aed4a6be84da495ba58d3f6906386180": {
          "model_module": "@jupyter-widgets/controls",
          "model_name": "HTMLModel",
          "model_module_version": "1.5.0",
          "state": {
            "_dom_classes": [],
            "_model_module": "@jupyter-widgets/controls",
            "_model_module_version": "1.5.0",
            "_model_name": "HTMLModel",
            "_view_count": null,
            "_view_module": "@jupyter-widgets/controls",
            "_view_module_version": "1.5.0",
            "_view_name": "HTMLView",
            "description": "",
            "description_tooltip": null,
            "layout": "IPY_MODEL_b9a446a4f94443baa59e3be072defdcb",
            "placeholder": "​",
            "style": "IPY_MODEL_86ae74b3d03e4dafa62985e2d7e6f364",
            "value": "Validation DataLoader 0: 100%"
          }
        },
        "d0db25d47b6e4b04be8d0a0522b0d20e": {
          "model_module": "@jupyter-widgets/controls",
          "model_name": "FloatProgressModel",
          "model_module_version": "1.5.0",
          "state": {
            "_dom_classes": [],
            "_model_module": "@jupyter-widgets/controls",
            "_model_module_version": "1.5.0",
            "_model_name": "FloatProgressModel",
            "_view_count": null,
            "_view_module": "@jupyter-widgets/controls",
            "_view_module_version": "1.5.0",
            "_view_name": "ProgressView",
            "bar_style": "",
            "description": "",
            "description_tooltip": null,
            "layout": "IPY_MODEL_5f4f44cd4c8e4e4883221bf8e869547e",
            "max": 38,
            "min": 0,
            "orientation": "horizontal",
            "style": "IPY_MODEL_a496161121b945c8906f7fae516ca20a",
            "value": 38
          }
        },
        "93ac2ddbe71d44918885dc6ce8d95972": {
          "model_module": "@jupyter-widgets/controls",
          "model_name": "HTMLModel",
          "model_module_version": "1.5.0",
          "state": {
            "_dom_classes": [],
            "_model_module": "@jupyter-widgets/controls",
            "_model_module_version": "1.5.0",
            "_model_name": "HTMLModel",
            "_view_count": null,
            "_view_module": "@jupyter-widgets/controls",
            "_view_module_version": "1.5.0",
            "_view_name": "HTMLView",
            "description": "",
            "description_tooltip": null,
            "layout": "IPY_MODEL_b38939ea17544ef1a83e5384692e195e",
            "placeholder": "​",
            "style": "IPY_MODEL_c84a2bdd11924800904c04eca7b63bfa",
            "value": " 38/38 [00:04&lt;00:00,  9.29it/s]"
          }
        },
        "26430b4dd4684991b7b4b362a5717572": {
          "model_module": "@jupyter-widgets/base",
          "model_name": "LayoutModel",
          "model_module_version": "1.2.0",
          "state": {
            "_model_module": "@jupyter-widgets/base",
            "_model_module_version": "1.2.0",
            "_model_name": "LayoutModel",
            "_view_count": null,
            "_view_module": "@jupyter-widgets/base",
            "_view_module_version": "1.2.0",
            "_view_name": "LayoutView",
            "align_content": null,
            "align_items": null,
            "align_self": null,
            "border": null,
            "bottom": null,
            "display": "inline-flex",
            "flex": null,
            "flex_flow": "row wrap",
            "grid_area": null,
            "grid_auto_columns": null,
            "grid_auto_flow": null,
            "grid_auto_rows": null,
            "grid_column": null,
            "grid_gap": null,
            "grid_row": null,
            "grid_template_areas": null,
            "grid_template_columns": null,
            "grid_template_rows": null,
            "height": null,
            "justify_content": null,
            "justify_items": null,
            "left": null,
            "margin": null,
            "max_height": null,
            "max_width": null,
            "min_height": null,
            "min_width": null,
            "object_fit": null,
            "object_position": null,
            "order": null,
            "overflow": null,
            "overflow_x": null,
            "overflow_y": null,
            "padding": null,
            "right": null,
            "top": null,
            "visibility": "hidden",
            "width": "100%"
          }
        },
        "b9a446a4f94443baa59e3be072defdcb": {
          "model_module": "@jupyter-widgets/base",
          "model_name": "LayoutModel",
          "model_module_version": "1.2.0",
          "state": {
            "_model_module": "@jupyter-widgets/base",
            "_model_module_version": "1.2.0",
            "_model_name": "LayoutModel",
            "_view_count": null,
            "_view_module": "@jupyter-widgets/base",
            "_view_module_version": "1.2.0",
            "_view_name": "LayoutView",
            "align_content": null,
            "align_items": null,
            "align_self": null,
            "border": null,
            "bottom": null,
            "display": null,
            "flex": null,
            "flex_flow": null,
            "grid_area": null,
            "grid_auto_columns": null,
            "grid_auto_flow": null,
            "grid_auto_rows": null,
            "grid_column": null,
            "grid_gap": null,
            "grid_row": null,
            "grid_template_areas": null,
            "grid_template_columns": null,
            "grid_template_rows": null,
            "height": null,
            "justify_content": null,
            "justify_items": null,
            "left": null,
            "margin": null,
            "max_height": null,
            "max_width": null,
            "min_height": null,
            "min_width": null,
            "object_fit": null,
            "object_position": null,
            "order": null,
            "overflow": null,
            "overflow_x": null,
            "overflow_y": null,
            "padding": null,
            "right": null,
            "top": null,
            "visibility": null,
            "width": null
          }
        },
        "86ae74b3d03e4dafa62985e2d7e6f364": {
          "model_module": "@jupyter-widgets/controls",
          "model_name": "DescriptionStyleModel",
          "model_module_version": "1.5.0",
          "state": {
            "_model_module": "@jupyter-widgets/controls",
            "_model_module_version": "1.5.0",
            "_model_name": "DescriptionStyleModel",
            "_view_count": null,
            "_view_module": "@jupyter-widgets/base",
            "_view_module_version": "1.2.0",
            "_view_name": "StyleView",
            "description_width": ""
          }
        },
        "5f4f44cd4c8e4e4883221bf8e869547e": {
          "model_module": "@jupyter-widgets/base",
          "model_name": "LayoutModel",
          "model_module_version": "1.2.0",
          "state": {
            "_model_module": "@jupyter-widgets/base",
            "_model_module_version": "1.2.0",
            "_model_name": "LayoutModel",
            "_view_count": null,
            "_view_module": "@jupyter-widgets/base",
            "_view_module_version": "1.2.0",
            "_view_name": "LayoutView",
            "align_content": null,
            "align_items": null,
            "align_self": null,
            "border": null,
            "bottom": null,
            "display": null,
            "flex": "2",
            "flex_flow": null,
            "grid_area": null,
            "grid_auto_columns": null,
            "grid_auto_flow": null,
            "grid_auto_rows": null,
            "grid_column": null,
            "grid_gap": null,
            "grid_row": null,
            "grid_template_areas": null,
            "grid_template_columns": null,
            "grid_template_rows": null,
            "height": null,
            "justify_content": null,
            "justify_items": null,
            "left": null,
            "margin": null,
            "max_height": null,
            "max_width": null,
            "min_height": null,
            "min_width": null,
            "object_fit": null,
            "object_position": null,
            "order": null,
            "overflow": null,
            "overflow_x": null,
            "overflow_y": null,
            "padding": null,
            "right": null,
            "top": null,
            "visibility": null,
            "width": null
          }
        },
        "a496161121b945c8906f7fae516ca20a": {
          "model_module": "@jupyter-widgets/controls",
          "model_name": "ProgressStyleModel",
          "model_module_version": "1.5.0",
          "state": {
            "_model_module": "@jupyter-widgets/controls",
            "_model_module_version": "1.5.0",
            "_model_name": "ProgressStyleModel",
            "_view_count": null,
            "_view_module": "@jupyter-widgets/base",
            "_view_module_version": "1.2.0",
            "_view_name": "StyleView",
            "bar_color": null,
            "description_width": ""
          }
        },
        "b38939ea17544ef1a83e5384692e195e": {
          "model_module": "@jupyter-widgets/base",
          "model_name": "LayoutModel",
          "model_module_version": "1.2.0",
          "state": {
            "_model_module": "@jupyter-widgets/base",
            "_model_module_version": "1.2.0",
            "_model_name": "LayoutModel",
            "_view_count": null,
            "_view_module": "@jupyter-widgets/base",
            "_view_module_version": "1.2.0",
            "_view_name": "LayoutView",
            "align_content": null,
            "align_items": null,
            "align_self": null,
            "border": null,
            "bottom": null,
            "display": null,
            "flex": null,
            "flex_flow": null,
            "grid_area": null,
            "grid_auto_columns": null,
            "grid_auto_flow": null,
            "grid_auto_rows": null,
            "grid_column": null,
            "grid_gap": null,
            "grid_row": null,
            "grid_template_areas": null,
            "grid_template_columns": null,
            "grid_template_rows": null,
            "height": null,
            "justify_content": null,
            "justify_items": null,
            "left": null,
            "margin": null,
            "max_height": null,
            "max_width": null,
            "min_height": null,
            "min_width": null,
            "object_fit": null,
            "object_position": null,
            "order": null,
            "overflow": null,
            "overflow_x": null,
            "overflow_y": null,
            "padding": null,
            "right": null,
            "top": null,
            "visibility": null,
            "width": null
          }
        },
        "c84a2bdd11924800904c04eca7b63bfa": {
          "model_module": "@jupyter-widgets/controls",
          "model_name": "DescriptionStyleModel",
          "model_module_version": "1.5.0",
          "state": {
            "_model_module": "@jupyter-widgets/controls",
            "_model_module_version": "1.5.0",
            "_model_name": "DescriptionStyleModel",
            "_view_count": null,
            "_view_module": "@jupyter-widgets/base",
            "_view_module_version": "1.2.0",
            "_view_name": "StyleView",
            "description_width": ""
          }
        }
      }
    }
  },
  "nbformat": 4,
  "nbformat_minor": 0
}