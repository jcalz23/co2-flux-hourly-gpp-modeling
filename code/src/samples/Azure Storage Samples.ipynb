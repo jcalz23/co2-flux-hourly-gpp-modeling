{
 "cells": [
  {
   "cell_type": "code",
   "execution_count": 1,
   "id": "13185820",
   "metadata": {},
   "outputs": [],
   "source": [
    "# if you are missing azure-storage-blob library, run below\n",
    "# pip install azure-storage-blob"
   ]
  },
  {
   "cell_type": "code",
   "execution_count": 1,
   "id": "ede498aa",
   "metadata": {},
   "outputs": [],
   "source": [
    "import os.path\n",
    "\n",
    "# Load locale custome modules\n",
    "import sys\n",
    "sys.path.append('../tools')\n",
    "from CloudIO.AzStorageClient import AzStorageClient"
   ]
  },
  {
   "cell_type": "code",
   "execution_count": 7,
   "id": "68a76219",
   "metadata": {},
   "outputs": [],
   "source": [
    "# Mac or Windows\n",
    "pc = \"mac\"\n",
    "\n",
    "if pc == \"windows\":\n",
    "    slash = \"\\\\\"\n",
    "else:\n",
    "    slash = \"/\"\n",
    "\n",
    "\n",
    "# Define Constants\n",
    "root_dir =  os.path.abspath(os.getcwd()+f\"..{slash}..{slash}..{slash}..{slash}\")\n",
    "tmp_dir = root_dir + f\"{slash}.tmp\"\n",
    "cred_dir = root_dir + f\"{slash}.cred\"\n",
    "az_cred_file = cred_dir + f'{slash}azblobcred.json'\n",
    "\n",
    "if not (os.path.exists(tmp_dir)):\n",
    "    os.mkdir(tmp_dir)"
   ]
  },
  {
   "cell_type": "code",
   "execution_count": 8,
   "id": "46096a7c",
   "metadata": {},
   "outputs": [],
   "source": [
    "# Initialize Azure Storage Client\n",
    "azStorageClient = AzStorageClient(az_cred_file)"
   ]
  },
  {
   "cell_type": "code",
   "execution_count": 6,
   "id": "c79dc7c1",
   "metadata": {},
   "outputs": [
    {
     "name": "stdout",
     "output_type": "stream",
     "text": [
      "  0 data_full_half_hourly_raw_v0_1_AR-SLu.csv\n",
      "  1 data_full_half_hourly_raw_v0_1_AR-Vir.csv\n",
      "  2 data_full_half_hourly_raw_v0_1_AT-Neu.csv\n",
      "  3 data_full_half_hourly_raw_v0_1_AU-ASM.csv\n",
      "  4 data_full_half_hourly_raw_v0_1_AU-Ade.csv\n",
      "  5 data_full_half_hourly_raw_v0_1_AU-Cpr.csv\n"
     ]
    }
   ],
   "source": [
    "# List blobs names under the container \"data_full_half_hourly\"\n",
    "container_name = 'full-half-hourly-raw'\n",
    "blob_name_list = azStorageClient.listBlobs(container_name)\n",
    "for i, blob in enumerate(blob_name_list):\n",
    "    print(f'{i:3} {blob.name}')\n",
    "    if i > 4:\n",
    "        break"
   ]
  },
  {
   "cell_type": "code",
   "execution_count": 6,
   "id": "e7fe176f",
   "metadata": {},
   "outputs": [],
   "source": [
    "# Setup Sample\n",
    "container_name = \"new-container\"\n",
    "blob_name = \"sample-data\"\n",
    "local_filename = tmp_dir + f\"{slash}sample_file.txt\"\n",
    "\n",
    "# Create sample local file\n",
    "file_data = b\"sample file content.\"\n",
    "with open(local_filename, \"wb\") as f:\n",
    "    f.write(file_data)"
   ]
  },
  {
   "cell_type": "code",
   "execution_count": 7,
   "id": "cc377ddf",
   "metadata": {},
   "outputs": [
    {
     "name": "stdout",
     "output_type": "stream",
     "text": [
      "Container 'new-container' created.\n"
     ]
    }
   ],
   "source": [
    "# Create to new container if the container did not exist\n",
    "azStorageClient.createContainer(container_name)"
   ]
  },
  {
   "cell_type": "code",
   "execution_count": 8,
   "id": "6b0ccd87",
   "metadata": {},
   "outputs": [
    {
     "name": "stdout",
     "output_type": "stream",
     "text": [
      "File uploaded to new-container/sample-data\n"
     ]
    }
   ],
   "source": [
    "# Upload local file\n",
    "with open(local_filename, \"rb\") as data:\n",
    "    azStorageClient.uploadBlob(container_name, blob_name, data, overwrite=True)"
   ]
  },
  {
   "cell_type": "code",
   "execution_count": 9,
   "id": "9cac9b82",
   "metadata": {},
   "outputs": [
    {
     "name": "stdout",
     "output_type": "stream",
     "text": [
      "b'sample file content.'\n"
     ]
    }
   ],
   "source": [
    "# Download file\n",
    "data = azStorageClient.downloadBlob(container_name, blob_name)\n",
    "print(data)"
   ]
  },
  {
   "cell_type": "code",
   "execution_count": 10,
   "id": "f5bda9a2",
   "metadata": {},
   "outputs": [
    {
     "name": "stdout",
     "output_type": "stream",
     "text": [
      "File uploaded to new-container/sample-data\n"
     ]
    }
   ],
   "source": [
    "# Overwrite the uploaded file\n",
    "import pickle\n",
    "binary_data = pickle.dumps({\"value\": 1234})\n",
    "azStorageClient.uploadBlob(container_name, blob_name, binary_data, overwrite=True)"
   ]
  },
  {
   "cell_type": "code",
   "execution_count": 11,
   "id": "c76756a7",
   "metadata": {},
   "outputs": [
    {
     "name": "stdout",
     "output_type": "stream",
     "text": [
      "{'value': 1234}\n"
     ]
    }
   ],
   "source": [
    "# Download and save binary file\n",
    "data = azStorageClient.downloadBlob(container_name, blob_name)\n",
    "with open(local_filename, \"wb\") as f:\n",
    "    f.write(data)\n",
    "\n",
    "with open(local_filename, \"rb\") as data:\n",
    "    print(pickle.load(data))"
   ]
  },
  {
   "cell_type": "code",
   "execution_count": 12,
   "id": "c189b419",
   "metadata": {},
   "outputs": [
    {
     "name": "stdout",
     "output_type": "stream",
     "text": [
      "new-container/sample-data deleted\n"
     ]
    }
   ],
   "source": [
    "# Delete upload file\n",
    "azStorageClient.deleteBlob(container_name, blob_name)\n",
    "\n",
    "blob_name_list = azStorageClient.listBlobs(container_name)\n",
    "for i, blob in enumerate(blob_name_list):\n",
    "    print(f'{i:3} {blob.name}')"
   ]
  },
  {
   "cell_type": "code",
   "execution_count": 13,
   "id": "ee9f41a1",
   "metadata": {},
   "outputs": [],
   "source": [
    "# Delete container - ping Mary about it."
   ]
  },
  {
   "cell_type": "code",
   "execution_count": 14,
   "id": "a5ed2fd2",
   "metadata": {},
   "outputs": [],
   "source": [
    "# Clean up local file\n",
    "os.remove(local_filename)"
   ]
  }
 ],
 "metadata": {
  "kernelspec": {
   "display_name": "src-rYFmMrY7-py3.10",
   "language": "python",
   "name": "python3"
  },
  "language_info": {
   "codemirror_mode": {
    "name": "ipython",
    "version": 3
   },
   "file_extension": ".py",
   "mimetype": "text/x-python",
   "name": "python",
   "nbconvert_exporter": "python",
   "pygments_lexer": "ipython3",
   "version": "3.10.9"
  },
  "vscode": {
   "interpreter": {
    "hash": "5cbe69e04c91e7625dfb8f223669796fe243b4d7c88cd4431379e3b6898fe927"
   }
  }
 },
 "nbformat": 4,
 "nbformat_minor": 5
}
