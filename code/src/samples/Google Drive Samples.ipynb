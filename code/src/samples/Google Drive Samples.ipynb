{
 "cells": [
  {
   "cell_type": "code",
   "execution_count": 1,
   "id": "072c14fa",
   "metadata": {},
   "outputs": [],
   "source": [
    "# if you are missing google api library, run below\n",
    "# pip install google-api-python-client\n",
    "# pip install google-auth-oauthlib"
   ]
  },
  {
   "cell_type": "code",
   "execution_count": 2,
   "id": "47266c1a",
   "metadata": {},
   "outputs": [],
   "source": [
    "import os.path\n",
    "\n",
    "# Load local custome modules\n",
    "import sys\n",
    "sys.path.append('../tools')\n",
    "from CloudIO.GoogleDriveClient import GoogleDriveClient"
   ]
  },
  {
   "cell_type": "code",
   "execution_count": 3,
   "id": "9809004c",
   "metadata": {},
   "outputs": [],
   "source": [
    "# Define Constants\n",
    "root_dir =  os.path.abspath(os.getcwd()+\"..\\\\..\\\\..\\\\..\\\\\")\n",
    "tmp_dir = root_dir + \"\\\\.tmp\"\n",
    "cred_dir = root_dir + \"\\\\.cred\"\n",
    "\n",
    "if not (os.path.exists(tmp_dir)):\n",
    "    os.mkdir(tmp_dir)"
   ]
  },
  {
   "cell_type": "code",
   "execution_count": 4,
   "id": "04dd41e9",
   "metadata": {},
   "outputs": [],
   "source": [
    "# Initialize Google API Client\n",
    "googleDriveClient = GoogleDriveClient(cred_dir)"
   ]
  },
  {
   "cell_type": "code",
   "execution_count": 5,
   "id": "89852791",
   "metadata": {},
   "outputs": [
    {
     "name": "stdout",
     "output_type": "stream",
     "text": [
      "Retrieved `data_full_half_hourly` folder metadata.\n"
     ]
    }
   ],
   "source": [
    "# Get Google Drive Folder Metadata\n",
    "folder_name = 'data_full_half_hourly'\n",
    "folder = googleDriveClient.getFolder(folder_name)"
   ]
  },
  {
   "cell_type": "code",
   "execution_count": 6,
   "id": "02062e5f",
   "metadata": {},
   "outputs": [],
   "source": [
    "# Get Google Drive files metadata list under the target folder\n",
    "file_list = googleDriveClient.getFilesInFolder(folder, False) # verbose=False to suppress logs"
   ]
  },
  {
   "cell_type": "code",
   "execution_count": 7,
   "id": "bcc342c2",
   "metadata": {},
   "outputs": [
    {
     "name": "stdout",
     "output_type": "stream",
     "text": [
      "  1. data_full_half_hourly_raw_v0_1_CN-HaM.csv (  21307369 bytes)\n",
      "  2. data_full_half_hourly_raw_v0_1_US-UMd.csv (  70907532 bytes)\n",
      "  3. data_full_half_hourly_raw_v0_1_AU-Emr.csv (  17707070 bytes)\n",
      "  4. data_full_half_hourly_raw_v0_1_DE-Kli.csv ( 115031759 bytes)\n",
      "  5. data_full_half_hourly_raw_v0_1_BE-Lcr.csv (  11988594 bytes)\n"
     ]
    }
   ],
   "source": [
    "import pandas as pd\n",
    "files_df = pd.DataFrame(columns = [\"filename\", \"size\", \"country\", \"site_id\"])\n",
    "\n",
    "# Process file metadata list\n",
    "for i, file in enumerate(file_list):\n",
    "    \n",
    "    if i > 4: # process first 5 files in the list\n",
    "        break\n",
    "    \n",
    "    # Save file to local files if there is no local copy\n",
    "    local_file_path = tmp_dir + \"\\\\\" + file[\"name\"]\n",
    "    if not (os.path.exists(local_file_path)):\n",
    "        googleDriveClient.downloadFile(file, local_file_path, False) # verbose=False to suppress logs\n",
    "    \n",
    "    # print and save file metadata\n",
    "    fileName = file[\"name\"]\n",
    "    fileId   = file[\"id\"]\n",
    "    fileSize = file[\"size\"]\n",
    "    station = fileName.split('_')[-1].split(\".\")[0]\n",
    "    country = station.split('-')[0]\n",
    "\n",
    "    print(f'{i+1:3}. {fileName} ({fileSize:>10} bytes)')\n",
    "\n",
    "    fileMetadata = {\n",
    "        \"filename\": fileName,\n",
    "        \"size\": fileSize,\n",
    "        \"country\": country,\n",
    "        \"site_id\": station\n",
    "    }\n",
    "    files_df = files_df.append(fileMetadata, ignore_index=True)"
   ]
  },
  {
   "cell_type": "code",
   "execution_count": 8,
   "id": "860c0e82",
   "metadata": {},
   "outputs": [
    {
     "data": {
      "text/html": [
       "<div>\n",
       "<style scoped>\n",
       "    .dataframe tbody tr th:only-of-type {\n",
       "        vertical-align: middle;\n",
       "    }\n",
       "\n",
       "    .dataframe tbody tr th {\n",
       "        vertical-align: top;\n",
       "    }\n",
       "\n",
       "    .dataframe thead th {\n",
       "        text-align: right;\n",
       "    }\n",
       "</style>\n",
       "<table border=\"1\" class=\"dataframe\">\n",
       "  <thead>\n",
       "    <tr style=\"text-align: right;\">\n",
       "      <th></th>\n",
       "      <th>filename</th>\n",
       "      <th>size</th>\n",
       "      <th>country</th>\n",
       "      <th>site_id</th>\n",
       "    </tr>\n",
       "  </thead>\n",
       "  <tbody>\n",
       "    <tr>\n",
       "      <th>2</th>\n",
       "      <td>data_full_half_hourly_raw_v0_1_AU-Emr.csv</td>\n",
       "      <td>17707070</td>\n",
       "      <td>AU</td>\n",
       "      <td>AU-Emr</td>\n",
       "    </tr>\n",
       "    <tr>\n",
       "      <th>4</th>\n",
       "      <td>data_full_half_hourly_raw_v0_1_BE-Lcr.csv</td>\n",
       "      <td>11988594</td>\n",
       "      <td>BE</td>\n",
       "      <td>BE-Lcr</td>\n",
       "    </tr>\n",
       "    <tr>\n",
       "      <th>0</th>\n",
       "      <td>data_full_half_hourly_raw_v0_1_CN-HaM.csv</td>\n",
       "      <td>21307369</td>\n",
       "      <td>CN</td>\n",
       "      <td>CN-HaM</td>\n",
       "    </tr>\n",
       "    <tr>\n",
       "      <th>3</th>\n",
       "      <td>data_full_half_hourly_raw_v0_1_DE-Kli.csv</td>\n",
       "      <td>115031759</td>\n",
       "      <td>DE</td>\n",
       "      <td>DE-Kli</td>\n",
       "    </tr>\n",
       "    <tr>\n",
       "      <th>1</th>\n",
       "      <td>data_full_half_hourly_raw_v0_1_US-UMd.csv</td>\n",
       "      <td>70907532</td>\n",
       "      <td>US</td>\n",
       "      <td>US-UMd</td>\n",
       "    </tr>\n",
       "  </tbody>\n",
       "</table>\n",
       "</div>"
      ],
      "text/plain": [
       "                                    filename       size country site_id\n",
       "2  data_full_half_hourly_raw_v0_1_AU-Emr.csv   17707070      AU  AU-Emr\n",
       "4  data_full_half_hourly_raw_v0_1_BE-Lcr.csv   11988594      BE  BE-Lcr\n",
       "0  data_full_half_hourly_raw_v0_1_CN-HaM.csv   21307369      CN  CN-HaM\n",
       "3  data_full_half_hourly_raw_v0_1_DE-Kli.csv  115031759      DE  DE-Kli\n",
       "1  data_full_half_hourly_raw_v0_1_US-UMd.csv   70907532      US  US-UMd"
      ]
     },
     "execution_count": 8,
     "metadata": {},
     "output_type": "execute_result"
    }
   ],
   "source": [
    "files_df.sort_values(\"filename\")"
   ]
  }
 ],
 "metadata": {
  "kernelspec": {
   "display_name": "Python 3",
   "language": "python",
   "name": "python3"
  },
  "language_info": {
   "codemirror_mode": {
    "name": "ipython",
    "version": 3
   },
   "file_extension": ".py",
   "mimetype": "text/x-python",
   "name": "python",
   "nbconvert_exporter": "python",
   "pygments_lexer": "ipython3",
   "version": "3.8.8"
  }
 },
 "nbformat": 4,
 "nbformat_minor": 5
}
